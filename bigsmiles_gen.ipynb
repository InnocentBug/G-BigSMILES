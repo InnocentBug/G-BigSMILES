{
 "cells": [
  {
   "cell_type": "code",
   "execution_count": 1,
   "id": "8fdabf24",
   "metadata": {},
   "outputs": [],
   "source": [
    "import numpy as np\n",
    "from rdkit import Chem\n",
    "from rdkit.Chem.Draw import IPythonConsole\n",
    "from IPython.display import SVG\n",
    "\n",
    "from rdkit.Chem import rdDepictor\n",
    "from rdkit.Chem.Draw import rdMolDraw2D\n",
    "\n",
    "counter = 0\n",
    "\n",
    "\n",
    "def moltosvg(mol, molSize=(450, 150), kekulize=True):\n",
    "    mc = Chem.Mol(mol.ToBinary())\n",
    "    if kekulize:\n",
    "        try:\n",
    "            Chem.Kekulize(mc)\n",
    "        except:\n",
    "            mc = Chem.Mol(mol.ToBinary())\n",
    "    if not mc.GetNumConformers():\n",
    "        rdDepictor.Compute2DCoords(mc)\n",
    "    drawer = rdMolDraw2D.MolDraw2DSVG(molSize[0], molSize[1])\n",
    "    drawer.DrawMolecule(mc)\n",
    "    drawer.FinishDrawing()\n",
    "    svg = drawer.GetDrawingText()\n",
    "    global counter\n",
    "    # with open(f\"mol{counter}.svg\", \"w\") as filehandle:\n",
    "    #    filehandle.write(svg)\n",
    "    # print(counter)\n",
    "    counter += 1\n",
    "    return svg\n",
    "\n",
    "\n",
    "def render_svg(svg):\n",
    "    # It seems that the svg renderer used doesn't quite hit the spec.\n",
    "    # Here are some fixes to make it work in the notebook, although I think\n",
    "    # the underlying issue needs to be resolved at the generation step\n",
    "    return SVG(svg.replace(\"svg:\", \"\"))"
   ]
  },
  {
   "cell_type": "code",
   "execution_count": 2,
   "id": "1e0ffbfb",
   "metadata": {},
   "outputs": [],
   "source": [
    "# import pydot\n",
    "import networkx as nx\n",
    "import matplotlib.pyplot as plt\n",
    "\n",
    "\n",
    "def render_graph(mol_gen, residues):\n",
    "    # pydot_graph = nx.drawing.nx_pydot.to_pydot(mol_gen.graph)\n",
    "    # return render_svg(pydot_graph.create_svg().decode(\"utf-8\"))\n",
    "    fig, ax = plt.subplots()\n",
    "    colors = plt.rcParams[\"axes.prop_cycle\"].by_key()[\"color\"]\n",
    "    node_list = list(mol_gen.graph.nodes)\n",
    "    node_res = [mol_gen.graph.nodes[n][\"res\"] for n in node_list]\n",
    "    node_color = [colors[res] for res in node_res]\n",
    "    labels = {}\n",
    "    for n in mol_gen.graph.nodes:\n",
    "        labels[n] = mol_gen.graph.nodes[n][\"smiles\"]\n",
    "    layout = nx.kamada_kawai_layout(mol_gen.graph)\n",
    "    drawing = nx.draw(mol_gen.graph, pos=layout, node_color=node_color, ax=ax, labels=labels)\n",
    "    return plt.show()"
   ]
  },
  {
   "cell_type": "markdown",
   "id": "c9c47332",
   "metadata": {},
   "source": [
    "#### Helper function to generate and visualize bigSMILES strings"
   ]
  },
  {
   "cell_type": "code",
   "execution_count": 3,
   "id": "d34df229",
   "metadata": {},
   "outputs": [],
   "source": [
    "from bigsmiles_gen import System\n",
    "\n",
    "# Consistent random numbers also across calls\n",
    "rng = np.random.default_rng(42)\n",
    "\n",
    "\n",
    "def big_smiles_gen(string):\n",
    "    global rng\n",
    "    # Generate the abstract python object, parsing bigSMILES\n",
    "    ext = System(big)\n",
    "    # Generate molecules according to extension\n",
    "    mol = ext.generate(rng=rng)\n",
    "    # Draw said molecule\n",
    "    return render_svg(moltosvg(mol.get_mol()))\n",
    "\n",
    "\n",
    "def big_smiles_graph(string):\n",
    "    global rng\n",
    "    # Generate the abstract python object, parsing bigSMILES\n",
    "    ext = System(big)\n",
    "    # Generate molecules according to extension\n",
    "    mol = ext.generate(rng=rng)\n",
    "    mol.add_graph_res(ext.residues)\n",
    "    # Draw said molecule\n",
    "    return render_graph(mol, ext.residues)"
   ]
  },
  {
   "cell_type": "markdown",
   "id": "a0269eff",
   "metadata": {},
   "source": [
    "# Polyesters \n",
    "## Di-Carboxyl Acids with 2-5 middle C total Mw 500\n",
    "\n",
    "BigSMILES:"
   ]
  },
  {
   "cell_type": "code",
   "execution_count": 4,
   "id": "51c788ab",
   "metadata": {},
   "outputs": [
    {
     "data": {
      "text/plain": [
       "'OOC{[$][$]C(=O)C[$][$]}|uniform(120, 720)|COO'"
      ]
     },
     "execution_count": 4,
     "metadata": {},
     "output_type": "execute_result"
    }
   ],
   "source": [
    "big = \"OOC{[$][$]C(=O)C[$][$]}|uniform(120, 720)|COO\"\n",
    "big"
   ]
  },
  {
   "cell_type": "markdown",
   "id": "f5bbde03",
   "metadata": {},
   "source": [
    "### Explanation\n",
    "\n",
    "- `OOC` just normal SMILES for how the first initial group looks like\n",
    "- `{....}` stochastic object, here just one carbon that is repeated\n",
    "- `{[$]` and `[$]}` terminal descriptors, how does the stochastic object connect with the pre- and suffix\n",
    "- `[$]C[$]` one C to repeat, with a bond in front and one at the end\n",
    "- `|uniform(12, 72)|` extension detailing that the stochastic object is between 12 and 72 g/mol heavy\n",
    "- `COO` suffix of the molecule\n",
    "- `.|500|` extension detailing that the total system component of this as a min Mw of 500 g/mol\n"
   ]
  },
  {
   "cell_type": "code",
   "execution_count": 5,
   "id": "4e74171e",
   "metadata": {},
   "outputs": [
    {
     "name": "stderr",
     "output_type": "stream",
     "text": [
      "/home/ludwig/git/bigSMILESgen/bigsmiles_gen/system.py:70: UserWarning: The system cannot be fully generated, since the total system molecular weight cannot be estimated.\n",
      "  warn(\n"
     ]
    },
    {
     "data": {
      "image/svg+xml": [
       "<svg xmlns=\"http://www.w3.org/2000/svg\" xmlns:rdkit=\"http://www.rdkit.org/xml\" xmlns:xlink=\"http://www.w3.org/1999/xlink\" version=\"1.1\" baseProfile=\"full\" xml:space=\"preserve\" width=\"450px\" height=\"150px\" viewBox=\"0 0 450 150\">\n",
       "<!-- END OF HEADER -->\n",
       "<rect style=\"opacity:1.0;fill:#FFFFFF;stroke:none\" width=\"450.0\" height=\"150.0\" x=\"0.0\" y=\"0.0\"> </rect>\n",
       "<path class=\"bond-0 atom-0 atom-1\" d=\"M 28.6,73.3 L 36.7,68.8\" style=\"fill:none;fill-rule:evenodd;stroke:#FF0000;stroke-width:2.0px;stroke-linecap:butt;stroke-linejoin:miter;stroke-opacity:1\"/>\n",
       "<path class=\"bond-1 atom-1 atom-2\" d=\"M 41.6,68.9 L 46.7,72.0\" style=\"fill:none;fill-rule:evenodd;stroke:#FF0000;stroke-width:2.0px;stroke-linecap:butt;stroke-linejoin:miter;stroke-opacity:1\"/>\n",
       "<path class=\"bond-1 atom-1 atom-2\" d=\"M 46.7,72.0 L 51.8,75.1\" style=\"fill:none;fill-rule:evenodd;stroke:#000000;stroke-width:2.0px;stroke-linecap:butt;stroke-linejoin:miter;stroke-opacity:1\"/>\n",
       "<path class=\"bond-2 atom-3 atom-4\" d=\"M 79.0,75.6 L 78.9,81.7\" style=\"fill:none;fill-rule:evenodd;stroke:#000000;stroke-width:2.0px;stroke-linecap:butt;stroke-linejoin:miter;stroke-opacity:1\"/>\n",
       "<path class=\"bond-2 atom-3 atom-4\" d=\"M 78.9,81.7 L 78.7,87.8\" style=\"fill:none;fill-rule:evenodd;stroke:#FF0000;stroke-width:2.0px;stroke-linecap:butt;stroke-linejoin:miter;stroke-opacity:1\"/>\n",
       "<path class=\"bond-2 atom-3 atom-4\" d=\"M 76.0,75.6 L 75.9,81.7\" style=\"fill:none;fill-rule:evenodd;stroke:#000000;stroke-width:2.0px;stroke-linecap:butt;stroke-linejoin:miter;stroke-opacity:1\"/>\n",
       "<path class=\"bond-2 atom-3 atom-4\" d=\"M 75.9,81.7 L 75.8,87.8\" style=\"fill:none;fill-rule:evenodd;stroke:#FF0000;stroke-width:2.0px;stroke-linecap:butt;stroke-linejoin:miter;stroke-opacity:1\"/>\n",
       "<path class=\"bond-3 atom-3 atom-5\" d=\"M 77.5,75.6 L 64.8,68.0\" style=\"fill:none;fill-rule:evenodd;stroke:#000000;stroke-width:2.0px;stroke-linecap:butt;stroke-linejoin:miter;stroke-opacity:1\"/>\n",
       "<path class=\"bond-4 atom-2 atom-5\" d=\"M 51.8,75.1 L 64.8,68.0\" style=\"fill:none;fill-rule:evenodd;stroke:#000000;stroke-width:2.0px;stroke-linecap:butt;stroke-linejoin:miter;stroke-opacity:1\"/>\n",
       "<path class=\"bond-5 atom-6 atom-7\" d=\"M 104.6,76.1 L 104.5,82.2\" style=\"fill:none;fill-rule:evenodd;stroke:#000000;stroke-width:2.0px;stroke-linecap:butt;stroke-linejoin:miter;stroke-opacity:1\"/>\n",
       "<path class=\"bond-5 atom-6 atom-7\" d=\"M 104.5,82.2 L 104.4,88.3\" style=\"fill:none;fill-rule:evenodd;stroke:#FF0000;stroke-width:2.0px;stroke-linecap:butt;stroke-linejoin:miter;stroke-opacity:1\"/>\n",
       "<path class=\"bond-5 atom-6 atom-7\" d=\"M 101.7,76.1 L 101.6,82.2\" style=\"fill:none;fill-rule:evenodd;stroke:#000000;stroke-width:2.0px;stroke-linecap:butt;stroke-linejoin:miter;stroke-opacity:1\"/>\n",
       "<path class=\"bond-5 atom-6 atom-7\" d=\"M 101.6,82.2 L 101.4,88.3\" style=\"fill:none;fill-rule:evenodd;stroke:#FF0000;stroke-width:2.0px;stroke-linecap:butt;stroke-linejoin:miter;stroke-opacity:1\"/>\n",
       "<path class=\"bond-6 atom-6 atom-8\" d=\"M 103.1,76.1 L 90.5,68.4\" style=\"fill:none;fill-rule:evenodd;stroke:#000000;stroke-width:2.0px;stroke-linecap:butt;stroke-linejoin:miter;stroke-opacity:1\"/>\n",
       "<path class=\"bond-7 atom-3 atom-8\" d=\"M 77.5,75.6 L 90.5,68.4\" style=\"fill:none;fill-rule:evenodd;stroke:#000000;stroke-width:2.0px;stroke-linecap:butt;stroke-linejoin:miter;stroke-opacity:1\"/>\n",
       "<path class=\"bond-8 atom-9 atom-10\" d=\"M 130.3,76.6 L 130.2,82.7\" style=\"fill:none;fill-rule:evenodd;stroke:#000000;stroke-width:2.0px;stroke-linecap:butt;stroke-linejoin:miter;stroke-opacity:1\"/>\n",
       "<path class=\"bond-8 atom-9 atom-10\" d=\"M 130.2,82.7 L 130.1,88.8\" style=\"fill:none;fill-rule:evenodd;stroke:#FF0000;stroke-width:2.0px;stroke-linecap:butt;stroke-linejoin:miter;stroke-opacity:1\"/>\n",
       "<path class=\"bond-8 atom-9 atom-10\" d=\"M 127.3,76.6 L 127.2,82.7\" style=\"fill:none;fill-rule:evenodd;stroke:#000000;stroke-width:2.0px;stroke-linecap:butt;stroke-linejoin:miter;stroke-opacity:1\"/>\n",
       "<path class=\"bond-8 atom-9 atom-10\" d=\"M 127.2,82.7 L 127.1,88.7\" style=\"fill:none;fill-rule:evenodd;stroke:#FF0000;stroke-width:2.0px;stroke-linecap:butt;stroke-linejoin:miter;stroke-opacity:1\"/>\n",
       "<path class=\"bond-9 atom-9 atom-11\" d=\"M 128.8,76.6 L 116.1,68.9\" style=\"fill:none;fill-rule:evenodd;stroke:#000000;stroke-width:2.0px;stroke-linecap:butt;stroke-linejoin:miter;stroke-opacity:1\"/>\n",
       "<path class=\"bond-10 atom-6 atom-11\" d=\"M 103.1,76.1 L 116.1,68.9\" style=\"fill:none;fill-rule:evenodd;stroke:#000000;stroke-width:2.0px;stroke-linecap:butt;stroke-linejoin:miter;stroke-opacity:1\"/>\n",
       "<path class=\"bond-11 atom-12 atom-13\" d=\"M 140.3,69.4 L 140.4,63.3\" style=\"fill:none;fill-rule:evenodd;stroke:#000000;stroke-width:2.0px;stroke-linecap:butt;stroke-linejoin:miter;stroke-opacity:1\"/>\n",
       "<path class=\"bond-11 atom-12 atom-13\" d=\"M 140.4,63.3 L 140.5,57.3\" style=\"fill:none;fill-rule:evenodd;stroke:#FF0000;stroke-width:2.0px;stroke-linecap:butt;stroke-linejoin:miter;stroke-opacity:1\"/>\n",
       "<path class=\"bond-11 atom-12 atom-13\" d=\"M 143.3,69.5 L 143.4,63.4\" style=\"fill:none;fill-rule:evenodd;stroke:#000000;stroke-width:2.0px;stroke-linecap:butt;stroke-linejoin:miter;stroke-opacity:1\"/>\n",
       "<path class=\"bond-11 atom-12 atom-13\" d=\"M 143.4,63.4 L 143.5,57.3\" style=\"fill:none;fill-rule:evenodd;stroke:#FF0000;stroke-width:2.0px;stroke-linecap:butt;stroke-linejoin:miter;stroke-opacity:1\"/>\n",
       "<path class=\"bond-12 atom-12 atom-14\" d=\"M 141.8,69.4 L 154.5,77.1\" style=\"fill:none;fill-rule:evenodd;stroke:#000000;stroke-width:2.0px;stroke-linecap:butt;stroke-linejoin:miter;stroke-opacity:1\"/>\n",
       "<path class=\"bond-13 atom-9 atom-12\" d=\"M 128.8,76.6 L 141.8,69.4\" style=\"fill:none;fill-rule:evenodd;stroke:#000000;stroke-width:2.0px;stroke-linecap:butt;stroke-linejoin:miter;stroke-opacity:1\"/>\n",
       "<path class=\"bond-14 atom-15 atom-16\" d=\"M 181.6,77.6 L 181.5,83.7\" style=\"fill:none;fill-rule:evenodd;stroke:#000000;stroke-width:2.0px;stroke-linecap:butt;stroke-linejoin:miter;stroke-opacity:1\"/>\n",
       "<path class=\"bond-14 atom-15 atom-16\" d=\"M 181.5,83.7 L 181.4,89.8\" style=\"fill:none;fill-rule:evenodd;stroke:#FF0000;stroke-width:2.0px;stroke-linecap:butt;stroke-linejoin:miter;stroke-opacity:1\"/>\n",
       "<path class=\"bond-14 atom-15 atom-16\" d=\"M 178.6,77.5 L 178.5,83.6\" style=\"fill:none;fill-rule:evenodd;stroke:#000000;stroke-width:2.0px;stroke-linecap:butt;stroke-linejoin:miter;stroke-opacity:1\"/>\n",
       "<path class=\"bond-14 atom-15 atom-16\" d=\"M 178.5,83.6 L 178.4,89.7\" style=\"fill:none;fill-rule:evenodd;stroke:#FF0000;stroke-width:2.0px;stroke-linecap:butt;stroke-linejoin:miter;stroke-opacity:1\"/>\n",
       "<path class=\"bond-15 atom-15 atom-17\" d=\"M 180.1,77.6 L 167.4,69.9\" style=\"fill:none;fill-rule:evenodd;stroke:#000000;stroke-width:2.0px;stroke-linecap:butt;stroke-linejoin:miter;stroke-opacity:1\"/>\n",
       "<path class=\"bond-16 atom-14 atom-17\" d=\"M 154.5,77.1 L 167.4,69.9\" style=\"fill:none;fill-rule:evenodd;stroke:#000000;stroke-width:2.0px;stroke-linecap:butt;stroke-linejoin:miter;stroke-opacity:1\"/>\n",
       "<path class=\"bond-17 atom-18 atom-19\" d=\"M 207.3,78.1 L 207.2,84.2\" style=\"fill:none;fill-rule:evenodd;stroke:#000000;stroke-width:2.0px;stroke-linecap:butt;stroke-linejoin:miter;stroke-opacity:1\"/>\n",
       "<path class=\"bond-17 atom-18 atom-19\" d=\"M 207.2,84.2 L 207.0,90.3\" style=\"fill:none;fill-rule:evenodd;stroke:#FF0000;stroke-width:2.0px;stroke-linecap:butt;stroke-linejoin:miter;stroke-opacity:1\"/>\n",
       "<path class=\"bond-17 atom-18 atom-19\" d=\"M 204.3,78.0 L 204.2,84.1\" style=\"fill:none;fill-rule:evenodd;stroke:#000000;stroke-width:2.0px;stroke-linecap:butt;stroke-linejoin:miter;stroke-opacity:1\"/>\n",
       "<path class=\"bond-17 atom-18 atom-19\" d=\"M 204.2,84.1 L 204.1,90.2\" style=\"fill:none;fill-rule:evenodd;stroke:#FF0000;stroke-width:2.0px;stroke-linecap:butt;stroke-linejoin:miter;stroke-opacity:1\"/>\n",
       "<path class=\"bond-18 atom-18 atom-20\" d=\"M 205.8,78.1 L 193.1,70.4\" style=\"fill:none;fill-rule:evenodd;stroke:#000000;stroke-width:2.0px;stroke-linecap:butt;stroke-linejoin:miter;stroke-opacity:1\"/>\n",
       "<path class=\"bond-19 atom-15 atom-20\" d=\"M 180.1,77.6 L 193.1,70.4\" style=\"fill:none;fill-rule:evenodd;stroke:#000000;stroke-width:2.0px;stroke-linecap:butt;stroke-linejoin:miter;stroke-opacity:1\"/>\n",
       "<path class=\"bond-20 atom-21 atom-22\" d=\"M 217.3,70.9 L 217.4,64.8\" style=\"fill:none;fill-rule:evenodd;stroke:#000000;stroke-width:2.0px;stroke-linecap:butt;stroke-linejoin:miter;stroke-opacity:1\"/>\n",
       "<path class=\"bond-20 atom-21 atom-22\" d=\"M 217.4,64.8 L 217.5,58.8\" style=\"fill:none;fill-rule:evenodd;stroke:#FF0000;stroke-width:2.0px;stroke-linecap:butt;stroke-linejoin:miter;stroke-opacity:1\"/>\n",
       "<path class=\"bond-20 atom-21 atom-22\" d=\"M 220.2,70.9 L 220.4,64.9\" style=\"fill:none;fill-rule:evenodd;stroke:#000000;stroke-width:2.0px;stroke-linecap:butt;stroke-linejoin:miter;stroke-opacity:1\"/>\n",
       "<path class=\"bond-20 atom-21 atom-22\" d=\"M 220.4,64.9 L 220.5,58.8\" style=\"fill:none;fill-rule:evenodd;stroke:#FF0000;stroke-width:2.0px;stroke-linecap:butt;stroke-linejoin:miter;stroke-opacity:1\"/>\n",
       "<path class=\"bond-21 atom-21 atom-23\" d=\"M 218.8,70.9 L 231.4,78.5\" style=\"fill:none;fill-rule:evenodd;stroke:#000000;stroke-width:2.0px;stroke-linecap:butt;stroke-linejoin:miter;stroke-opacity:1\"/>\n",
       "<path class=\"bond-22 atom-18 atom-21\" d=\"M 205.8,78.1 L 218.8,70.9\" style=\"fill:none;fill-rule:evenodd;stroke:#000000;stroke-width:2.0px;stroke-linecap:butt;stroke-linejoin:miter;stroke-opacity:1\"/>\n",
       "<path class=\"bond-23 atom-24 atom-25\" d=\"M 242.9,71.4 L 243.1,65.3\" style=\"fill:none;fill-rule:evenodd;stroke:#000000;stroke-width:2.0px;stroke-linecap:butt;stroke-linejoin:miter;stroke-opacity:1\"/>\n",
       "<path class=\"bond-23 atom-24 atom-25\" d=\"M 243.1,65.3 L 243.2,59.2\" style=\"fill:none;fill-rule:evenodd;stroke:#FF0000;stroke-width:2.0px;stroke-linecap:butt;stroke-linejoin:miter;stroke-opacity:1\"/>\n",
       "<path class=\"bond-23 atom-24 atom-25\" d=\"M 245.9,71.4 L 246.0,65.4\" style=\"fill:none;fill-rule:evenodd;stroke:#000000;stroke-width:2.0px;stroke-linecap:butt;stroke-linejoin:miter;stroke-opacity:1\"/>\n",
       "<path class=\"bond-23 atom-24 atom-25\" d=\"M 246.0,65.4 L 246.1,59.3\" style=\"fill:none;fill-rule:evenodd;stroke:#FF0000;stroke-width:2.0px;stroke-linecap:butt;stroke-linejoin:miter;stroke-opacity:1\"/>\n",
       "<path class=\"bond-24 atom-24 atom-26\" d=\"M 244.4,71.4 L 257.1,79.0\" style=\"fill:none;fill-rule:evenodd;stroke:#000000;stroke-width:2.0px;stroke-linecap:butt;stroke-linejoin:miter;stroke-opacity:1\"/>\n",
       "<path class=\"bond-25 atom-23 atom-24\" d=\"M 231.4,78.5 L 244.4,71.4\" style=\"fill:none;fill-rule:evenodd;stroke:#000000;stroke-width:2.0px;stroke-linecap:butt;stroke-linejoin:miter;stroke-opacity:1\"/>\n",
       "<path class=\"bond-26 atom-27 atom-28\" d=\"M 284.3,79.6 L 284.1,85.6\" style=\"fill:none;fill-rule:evenodd;stroke:#000000;stroke-width:2.0px;stroke-linecap:butt;stroke-linejoin:miter;stroke-opacity:1\"/>\n",
       "<path class=\"bond-26 atom-27 atom-28\" d=\"M 284.1,85.6 L 284.0,91.7\" style=\"fill:none;fill-rule:evenodd;stroke:#FF0000;stroke-width:2.0px;stroke-linecap:butt;stroke-linejoin:miter;stroke-opacity:1\"/>\n",
       "<path class=\"bond-26 atom-27 atom-28\" d=\"M 281.3,79.5 L 281.2,85.6\" style=\"fill:none;fill-rule:evenodd;stroke:#000000;stroke-width:2.0px;stroke-linecap:butt;stroke-linejoin:miter;stroke-opacity:1\"/>\n",
       "<path class=\"bond-26 atom-27 atom-28\" d=\"M 281.2,85.6 L 281.1,91.7\" style=\"fill:none;fill-rule:evenodd;stroke:#FF0000;stroke-width:2.0px;stroke-linecap:butt;stroke-linejoin:miter;stroke-opacity:1\"/>\n",
       "<path class=\"bond-27 atom-27 atom-29\" d=\"M 282.8,79.5 L 270.1,71.9\" style=\"fill:none;fill-rule:evenodd;stroke:#000000;stroke-width:2.0px;stroke-linecap:butt;stroke-linejoin:miter;stroke-opacity:1\"/>\n",
       "<path class=\"bond-28 atom-26 atom-29\" d=\"M 257.1,79.0 L 270.1,71.9\" style=\"fill:none;fill-rule:evenodd;stroke:#000000;stroke-width:2.0px;stroke-linecap:butt;stroke-linejoin:miter;stroke-opacity:1\"/>\n",
       "<path class=\"bond-29 atom-30 atom-31\" d=\"M 294.3,72.3 L 294.4,66.3\" style=\"fill:none;fill-rule:evenodd;stroke:#000000;stroke-width:2.0px;stroke-linecap:butt;stroke-linejoin:miter;stroke-opacity:1\"/>\n",
       "<path class=\"bond-29 atom-30 atom-31\" d=\"M 294.4,66.3 L 294.5,60.2\" style=\"fill:none;fill-rule:evenodd;stroke:#FF0000;stroke-width:2.0px;stroke-linecap:butt;stroke-linejoin:miter;stroke-opacity:1\"/>\n",
       "<path class=\"bond-29 atom-30 atom-31\" d=\"M 297.2,72.4 L 297.3,66.3\" style=\"fill:none;fill-rule:evenodd;stroke:#000000;stroke-width:2.0px;stroke-linecap:butt;stroke-linejoin:miter;stroke-opacity:1\"/>\n",
       "<path class=\"bond-29 atom-30 atom-31\" d=\"M 297.3,66.3 L 297.5,60.3\" style=\"fill:none;fill-rule:evenodd;stroke:#FF0000;stroke-width:2.0px;stroke-linecap:butt;stroke-linejoin:miter;stroke-opacity:1\"/>\n",
       "<path class=\"bond-30 atom-30 atom-32\" d=\"M 295.7,72.4 L 308.4,80.0\" style=\"fill:none;fill-rule:evenodd;stroke:#000000;stroke-width:2.0px;stroke-linecap:butt;stroke-linejoin:miter;stroke-opacity:1\"/>\n",
       "<path class=\"bond-31 atom-27 atom-30\" d=\"M 282.8,79.5 L 295.7,72.4\" style=\"fill:none;fill-rule:evenodd;stroke:#000000;stroke-width:2.0px;stroke-linecap:butt;stroke-linejoin:miter;stroke-opacity:1\"/>\n",
       "<path class=\"bond-32 atom-33 atom-34\" d=\"M 335.6,80.5 L 335.5,86.6\" style=\"fill:none;fill-rule:evenodd;stroke:#000000;stroke-width:2.0px;stroke-linecap:butt;stroke-linejoin:miter;stroke-opacity:1\"/>\n",
       "<path class=\"bond-32 atom-33 atom-34\" d=\"M 335.5,86.6 L 335.3,92.7\" style=\"fill:none;fill-rule:evenodd;stroke:#FF0000;stroke-width:2.0px;stroke-linecap:butt;stroke-linejoin:miter;stroke-opacity:1\"/>\n",
       "<path class=\"bond-32 atom-33 atom-34\" d=\"M 332.6,80.5 L 332.5,86.6\" style=\"fill:none;fill-rule:evenodd;stroke:#000000;stroke-width:2.0px;stroke-linecap:butt;stroke-linejoin:miter;stroke-opacity:1\"/>\n",
       "<path class=\"bond-32 atom-33 atom-34\" d=\"M 332.5,86.6 L 332.4,92.7\" style=\"fill:none;fill-rule:evenodd;stroke:#FF0000;stroke-width:2.0px;stroke-linecap:butt;stroke-linejoin:miter;stroke-opacity:1\"/>\n",
       "<path class=\"bond-33 atom-33 atom-35\" d=\"M 334.1,80.5 L 321.4,72.9\" style=\"fill:none;fill-rule:evenodd;stroke:#000000;stroke-width:2.0px;stroke-linecap:butt;stroke-linejoin:miter;stroke-opacity:1\"/>\n",
       "<path class=\"bond-34 atom-32 atom-35\" d=\"M 308.4,80.0 L 321.4,72.9\" style=\"fill:none;fill-rule:evenodd;stroke:#000000;stroke-width:2.0px;stroke-linecap:butt;stroke-linejoin:miter;stroke-opacity:1\"/>\n",
       "<path class=\"bond-35 atom-36 atom-37\" d=\"M 345.6,73.3 L 345.7,67.3\" style=\"fill:none;fill-rule:evenodd;stroke:#000000;stroke-width:2.0px;stroke-linecap:butt;stroke-linejoin:miter;stroke-opacity:1\"/>\n",
       "<path class=\"bond-35 atom-36 atom-37\" d=\"M 345.7,67.3 L 345.8,61.2\" style=\"fill:none;fill-rule:evenodd;stroke:#FF0000;stroke-width:2.0px;stroke-linecap:butt;stroke-linejoin:miter;stroke-opacity:1\"/>\n",
       "<path class=\"bond-35 atom-36 atom-37\" d=\"M 348.5,73.4 L 348.7,67.3\" style=\"fill:none;fill-rule:evenodd;stroke:#000000;stroke-width:2.0px;stroke-linecap:butt;stroke-linejoin:miter;stroke-opacity:1\"/>\n",
       "<path class=\"bond-35 atom-36 atom-37\" d=\"M 348.7,67.3 L 348.8,61.3\" style=\"fill:none;fill-rule:evenodd;stroke:#FF0000;stroke-width:2.0px;stroke-linecap:butt;stroke-linejoin:miter;stroke-opacity:1\"/>\n",
       "<path class=\"bond-36 atom-36 atom-38\" d=\"M 347.1,73.3 L 359.7,81.0\" style=\"fill:none;fill-rule:evenodd;stroke:#000000;stroke-width:2.0px;stroke-linecap:butt;stroke-linejoin:miter;stroke-opacity:1\"/>\n",
       "<path class=\"bond-37 atom-33 atom-36\" d=\"M 334.1,80.5 L 347.1,73.3\" style=\"fill:none;fill-rule:evenodd;stroke:#000000;stroke-width:2.0px;stroke-linecap:butt;stroke-linejoin:miter;stroke-opacity:1\"/>\n",
       "<path class=\"bond-38 atom-39 atom-40\" d=\"M 371.2,73.8 L 371.4,67.7\" style=\"fill:none;fill-rule:evenodd;stroke:#000000;stroke-width:2.0px;stroke-linecap:butt;stroke-linejoin:miter;stroke-opacity:1\"/>\n",
       "<path class=\"bond-38 atom-39 atom-40\" d=\"M 371.4,67.7 L 371.5,61.7\" style=\"fill:none;fill-rule:evenodd;stroke:#FF0000;stroke-width:2.0px;stroke-linecap:butt;stroke-linejoin:miter;stroke-opacity:1\"/>\n",
       "<path class=\"bond-38 atom-39 atom-40\" d=\"M 374.2,73.9 L 374.3,67.8\" style=\"fill:none;fill-rule:evenodd;stroke:#000000;stroke-width:2.0px;stroke-linecap:butt;stroke-linejoin:miter;stroke-opacity:1\"/>\n",
       "<path class=\"bond-38 atom-39 atom-40\" d=\"M 374.3,67.8 L 374.4,61.7\" style=\"fill:none;fill-rule:evenodd;stroke:#FF0000;stroke-width:2.0px;stroke-linecap:butt;stroke-linejoin:miter;stroke-opacity:1\"/>\n",
       "<path class=\"bond-39 atom-39 atom-41\" d=\"M 372.7,73.8 L 385.4,81.5\" style=\"fill:none;fill-rule:evenodd;stroke:#000000;stroke-width:2.0px;stroke-linecap:butt;stroke-linejoin:miter;stroke-opacity:1\"/>\n",
       "<path class=\"bond-40 atom-38 atom-39\" d=\"M 359.7,81.0 L 372.7,73.8\" style=\"fill:none;fill-rule:evenodd;stroke:#000000;stroke-width:2.0px;stroke-linecap:butt;stroke-linejoin:miter;stroke-opacity:1\"/>\n",
       "<path class=\"bond-41 atom-42 atom-43\" d=\"M 398.4,74.3 L 403.5,77.4\" style=\"fill:none;fill-rule:evenodd;stroke:#000000;stroke-width:2.0px;stroke-linecap:butt;stroke-linejoin:miter;stroke-opacity:1\"/>\n",
       "<path class=\"bond-41 atom-42 atom-43\" d=\"M 403.5,77.4 L 408.6,80.5\" style=\"fill:none;fill-rule:evenodd;stroke:#FF0000;stroke-width:2.0px;stroke-linecap:butt;stroke-linejoin:miter;stroke-opacity:1\"/>\n",
       "<path class=\"bond-42 atom-43 atom-44\" d=\"M 413.5,80.6 L 421.6,76.2\" style=\"fill:none;fill-rule:evenodd;stroke:#FF0000;stroke-width:2.0px;stroke-linecap:butt;stroke-linejoin:miter;stroke-opacity:1\"/>\n",
       "<path class=\"bond-43 atom-41 atom-42\" d=\"M 385.4,81.5 L 398.4,74.3\" style=\"fill:none;fill-rule:evenodd;stroke:#000000;stroke-width:2.0px;stroke-linecap:butt;stroke-linejoin:miter;stroke-opacity:1\"/>\n",
       "<path class=\"atom-0\" d=\"M 20.4 72.5 L 21.0 72.5 L 21.0 74.3 L 23.1 74.3 L 23.1 72.5 L 23.7 72.5 L 23.7 76.8 L 23.1 76.8 L 23.1 74.8 L 21.0 74.8 L 21.0 76.8 L 20.4 76.8 L 20.4 72.5 \" fill=\"#FF0000\"/>\n",
       "<path class=\"atom-0\" d=\"M 24.2 74.6 Q 24.2 73.6, 24.7 73.1 Q 25.2 72.5, 26.2 72.5 Q 27.1 72.5, 27.6 73.1 Q 28.1 73.6, 28.1 74.6 Q 28.1 75.7, 27.6 76.3 Q 27.1 76.8, 26.2 76.8 Q 25.2 76.8, 24.7 76.3 Q 24.2 75.7, 24.2 74.6 M 26.2 76.4 Q 26.8 76.4, 27.2 75.9 Q 27.5 75.5, 27.5 74.6 Q 27.5 73.8, 27.2 73.4 Q 26.8 73.0, 26.2 73.0 Q 25.5 73.0, 25.2 73.4 Q 24.8 73.8, 24.8 74.6 Q 24.8 75.5, 25.2 75.9 Q 25.5 76.4, 26.2 76.4 \" fill=\"#FF0000\"/>\n",
       "<path class=\"atom-1\" d=\"M 37.2 67.5 Q 37.2 66.5, 37.7 65.9 Q 38.2 65.3, 39.1 65.3 Q 40.1 65.3, 40.6 65.9 Q 41.1 66.5, 41.1 67.5 Q 41.1 68.5, 40.6 69.1 Q 40.1 69.7, 39.1 69.7 Q 38.2 69.7, 37.7 69.1 Q 37.2 68.5, 37.2 67.5 M 39.1 69.2 Q 39.8 69.2, 40.1 68.8 Q 40.5 68.3, 40.5 67.5 Q 40.5 66.6, 40.1 66.2 Q 39.8 65.8, 39.1 65.8 Q 38.5 65.8, 38.1 66.2 Q 37.8 66.6, 37.8 67.5 Q 37.8 68.3, 38.1 68.8 Q 38.5 69.2, 39.1 69.2 \" fill=\"#FF0000\"/>\n",
       "<path class=\"atom-4\" d=\"M 75.3 90.4 Q 75.3 89.4, 75.8 88.8 Q 76.3 88.3, 77.2 88.3 Q 78.1 88.3, 78.7 88.8 Q 79.2 89.4, 79.2 90.4 Q 79.2 91.5, 78.6 92.1 Q 78.1 92.6, 77.2 92.6 Q 76.3 92.6, 75.8 92.1 Q 75.3 91.5, 75.3 90.4 M 77.2 92.2 Q 77.9 92.2, 78.2 91.7 Q 78.6 91.3, 78.6 90.4 Q 78.6 89.6, 78.2 89.2 Q 77.9 88.8, 77.2 88.8 Q 76.6 88.8, 76.2 89.2 Q 75.9 89.6, 75.9 90.4 Q 75.9 91.3, 76.2 91.7 Q 76.6 92.2, 77.2 92.2 \" fill=\"#FF0000\"/>\n",
       "<path class=\"atom-7\" d=\"M 100.9 90.9 Q 100.9 89.9, 101.4 89.3 Q 101.9 88.8, 102.9 88.8 Q 103.8 88.8, 104.3 89.3 Q 104.8 89.9, 104.8 90.9 Q 104.8 92.0, 104.3 92.5 Q 103.8 93.1, 102.9 93.1 Q 101.9 93.1, 101.4 92.5 Q 100.9 92.0, 100.9 90.9 M 102.9 92.6 Q 103.5 92.6, 103.9 92.2 Q 104.2 91.8, 104.2 90.9 Q 104.2 90.1, 103.9 89.7 Q 103.5 89.2, 102.9 89.2 Q 102.2 89.2, 101.9 89.7 Q 101.5 90.1, 101.5 90.9 Q 101.5 91.8, 101.9 92.2 Q 102.2 92.6, 102.9 92.6 \" fill=\"#FF0000\"/>\n",
       "<path class=\"atom-10\" d=\"M 126.6 91.4 Q 126.6 90.4, 127.1 89.8 Q 127.6 89.3, 128.5 89.3 Q 129.5 89.3, 130.0 89.8 Q 130.5 90.4, 130.5 91.4 Q 130.5 92.4, 130.0 93.0 Q 129.5 93.6, 128.5 93.6 Q 127.6 93.6, 127.1 93.0 Q 126.6 92.5, 126.6 91.4 M 128.5 93.1 Q 129.2 93.1, 129.5 92.7 Q 129.9 92.3, 129.9 91.4 Q 129.9 90.6, 129.5 90.2 Q 129.2 89.7, 128.5 89.7 Q 127.9 89.7, 127.5 90.2 Q 127.2 90.6, 127.2 91.4 Q 127.2 92.3, 127.5 92.7 Q 127.9 93.1, 128.5 93.1 \" fill=\"#FF0000\"/>\n",
       "<path class=\"atom-13\" d=\"M 140.1 54.6 Q 140.1 53.6, 140.6 53.0 Q 141.1 52.5, 142.1 52.5 Q 143.0 52.5, 143.5 53.0 Q 144.0 53.6, 144.0 54.6 Q 144.0 55.7, 143.5 56.2 Q 143.0 56.8, 142.1 56.8 Q 141.1 56.8, 140.6 56.2 Q 140.1 55.7, 140.1 54.6 M 142.1 56.3 Q 142.7 56.3, 143.1 55.9 Q 143.4 55.5, 143.4 54.6 Q 143.4 53.8, 143.1 53.4 Q 142.7 52.9, 142.1 52.9 Q 141.4 52.9, 141.1 53.4 Q 140.7 53.8, 140.7 54.6 Q 140.7 55.5, 141.1 55.9 Q 141.4 56.3, 142.1 56.3 \" fill=\"#FF0000\"/>\n",
       "<path class=\"atom-16\" d=\"M 177.9 92.4 Q 177.9 91.4, 178.4 90.8 Q 178.9 90.2, 179.8 90.2 Q 180.8 90.2, 181.3 90.8 Q 181.8 91.4, 181.8 92.4 Q 181.8 93.4, 181.3 94.0 Q 180.8 94.6, 179.8 94.6 Q 178.9 94.6, 178.4 94.0 Q 177.9 93.4, 177.9 92.4 M 179.8 94.1 Q 180.5 94.1, 180.8 93.7 Q 181.2 93.2, 181.2 92.4 Q 181.2 91.6, 180.8 91.1 Q 180.5 90.7, 179.8 90.7 Q 179.2 90.7, 178.8 91.1 Q 178.5 91.6, 178.5 92.4 Q 178.5 93.3, 178.8 93.7 Q 179.2 94.1, 179.8 94.1 \" fill=\"#FF0000\"/>\n",
       "<path class=\"atom-19\" d=\"M 203.6 92.9 Q 203.6 91.9, 204.1 91.3 Q 204.6 90.7, 205.5 90.7 Q 206.4 90.7, 207.0 91.3 Q 207.5 91.9, 207.5 92.9 Q 207.5 93.9, 206.9 94.5 Q 206.4 95.1, 205.5 95.1 Q 204.6 95.1, 204.1 94.5 Q 203.6 93.9, 203.6 92.9 M 205.5 94.6 Q 206.2 94.6, 206.5 94.2 Q 206.9 93.7, 206.9 92.9 Q 206.9 92.1, 206.5 91.6 Q 206.2 91.2, 205.5 91.2 Q 204.9 91.2, 204.5 91.6 Q 204.2 92.0, 204.2 92.9 Q 204.2 93.7, 204.5 94.2 Q 204.9 94.6, 205.5 94.6 \" fill=\"#FF0000\"/>\n",
       "<path class=\"atom-22\" d=\"M 217.1 56.1 Q 217.1 55.1, 217.6 54.5 Q 218.1 53.9, 219.0 53.9 Q 220.0 53.9, 220.5 54.5 Q 221.0 55.1, 221.0 56.1 Q 221.0 57.1, 220.5 57.7 Q 220.0 58.3, 219.0 58.3 Q 218.1 58.3, 217.6 57.7 Q 217.1 57.1, 217.1 56.1 M 219.0 57.8 Q 219.7 57.8, 220.0 57.4 Q 220.4 56.9, 220.4 56.1 Q 220.4 55.3, 220.0 54.8 Q 219.7 54.4, 219.0 54.4 Q 218.4 54.4, 218.0 54.8 Q 217.7 55.3, 217.7 56.1 Q 217.7 57.0, 218.0 57.4 Q 218.4 57.8, 219.0 57.8 \" fill=\"#FF0000\"/>\n",
       "<path class=\"atom-25\" d=\"M 242.8 56.6 Q 242.8 55.6, 243.3 55.0 Q 243.8 54.4, 244.7 54.4 Q 245.6 54.4, 246.1 55.0 Q 246.7 55.6, 246.7 56.6 Q 246.7 57.6, 246.1 58.2 Q 245.6 58.8, 244.7 58.8 Q 243.8 58.8, 243.3 58.2 Q 242.8 57.6, 242.8 56.6 M 244.7 58.3 Q 245.4 58.3, 245.7 57.9 Q 246.1 57.4, 246.1 56.6 Q 246.1 55.7, 245.7 55.3 Q 245.4 54.9, 244.7 54.9 Q 244.1 54.9, 243.7 55.3 Q 243.4 55.7, 243.4 56.6 Q 243.4 57.4, 243.7 57.9 Q 244.1 58.3, 244.7 58.3 \" fill=\"#FF0000\"/>\n",
       "<path class=\"atom-28\" d=\"M 280.5 94.4 Q 280.5 93.3, 281.0 92.8 Q 281.5 92.2, 282.5 92.2 Q 283.4 92.2, 283.9 92.8 Q 284.4 93.3, 284.4 94.4 Q 284.4 95.4, 283.9 96.0 Q 283.4 96.6, 282.5 96.6 Q 281.6 96.6, 281.0 96.0 Q 280.5 95.4, 280.5 94.4 M 282.5 96.1 Q 283.1 96.1, 283.5 95.6 Q 283.8 95.2, 283.8 94.4 Q 283.8 93.5, 283.5 93.1 Q 283.1 92.7, 282.5 92.7 Q 281.8 92.7, 281.5 93.1 Q 281.1 93.5, 281.1 94.4 Q 281.1 95.2, 281.5 95.6 Q 281.8 96.1, 282.5 96.1 \" fill=\"#FF0000\"/>\n",
       "<path class=\"atom-31\" d=\"M 294.1 57.6 Q 294.1 56.5, 294.6 56.0 Q 295.1 55.4, 296.0 55.4 Q 297.0 55.4, 297.5 56.0 Q 298.0 56.5, 298.0 57.6 Q 298.0 58.6, 297.5 59.2 Q 297.0 59.8, 296.0 59.8 Q 295.1 59.8, 294.6 59.2 Q 294.1 58.6, 294.1 57.6 M 296.0 59.3 Q 296.7 59.3, 297.0 58.9 Q 297.4 58.4, 297.4 57.6 Q 297.4 56.7, 297.0 56.3 Q 296.7 55.9, 296.0 55.9 Q 295.4 55.9, 295.0 56.3 Q 294.7 56.7, 294.7 57.6 Q 294.7 58.4, 295.0 58.9 Q 295.4 59.3, 296.0 59.3 \" fill=\"#FF0000\"/>\n",
       "<path class=\"atom-34\" d=\"M 331.9 95.3 Q 331.9 94.3, 332.4 93.7 Q 332.9 93.2, 333.8 93.2 Q 334.7 93.2, 335.3 93.7 Q 335.8 94.3, 335.8 95.3 Q 335.8 96.4, 335.2 97.0 Q 334.7 97.5, 333.8 97.5 Q 332.9 97.5, 332.4 97.0 Q 331.9 96.4, 331.9 95.3 M 333.8 97.1 Q 334.5 97.1, 334.8 96.6 Q 335.2 96.2, 335.2 95.3 Q 335.2 94.5, 334.8 94.1 Q 334.5 93.7, 333.8 93.7 Q 333.2 93.7, 332.8 94.1 Q 332.5 94.5, 332.5 95.3 Q 332.5 96.2, 332.8 96.6 Q 333.2 97.1, 333.8 97.1 \" fill=\"#FF0000\"/>\n",
       "<path class=\"atom-37\" d=\"M 345.4 58.5 Q 345.4 57.5, 345.9 57.0 Q 346.4 56.4, 347.3 56.4 Q 348.3 56.4, 348.8 57.0 Q 349.3 57.5, 349.3 58.5 Q 349.3 59.6, 348.8 60.2 Q 348.3 60.7, 347.3 60.7 Q 346.4 60.7, 345.9 60.2 Q 345.4 59.6, 345.4 58.5 M 347.3 60.3 Q 348.0 60.3, 348.3 59.8 Q 348.7 59.4, 348.7 58.5 Q 348.7 57.7, 348.3 57.3 Q 348.0 56.9, 347.3 56.9 Q 346.7 56.9, 346.3 57.3 Q 346.0 57.7, 346.0 58.5 Q 346.0 59.4, 346.3 59.8 Q 346.7 60.3, 347.3 60.3 \" fill=\"#FF0000\"/>\n",
       "<path class=\"atom-40\" d=\"M 371.1 59.0 Q 371.1 58.0, 371.6 57.4 Q 372.1 56.9, 373.0 56.9 Q 373.9 56.9, 374.4 57.4 Q 375.0 58.0, 375.0 59.0 Q 375.0 60.1, 374.4 60.7 Q 373.9 61.2, 373.0 61.2 Q 372.1 61.2, 371.6 60.7 Q 371.1 60.1, 371.1 59.0 M 373.0 60.8 Q 373.7 60.8, 374.0 60.3 Q 374.4 59.9, 374.4 59.0 Q 374.4 58.2, 374.0 57.8 Q 373.7 57.4, 373.0 57.4 Q 372.4 57.4, 372.0 57.8 Q 371.7 58.2, 371.7 59.0 Q 371.7 59.9, 372.0 60.3 Q 372.4 60.8, 373.0 60.8 \" fill=\"#FF0000\"/>\n",
       "<path class=\"atom-43\" d=\"M 409.1 82.0 Q 409.1 81.0, 409.6 80.4 Q 410.1 79.8, 411.1 79.8 Q 412.0 79.8, 412.5 80.4 Q 413.0 81.0, 413.0 82.0 Q 413.0 83.0, 412.5 83.6 Q 412.0 84.2, 411.1 84.2 Q 410.1 84.2, 409.6 83.6 Q 409.1 83.0, 409.1 82.0 M 411.1 83.7 Q 411.7 83.7, 412.1 83.3 Q 412.4 82.8, 412.4 82.0 Q 412.4 81.2, 412.1 80.7 Q 411.7 80.3, 411.1 80.3 Q 410.4 80.3, 410.1 80.7 Q 409.7 81.1, 409.7 82.0 Q 409.7 82.8, 410.1 83.3 Q 410.4 83.7, 411.1 83.7 \" fill=\"#FF0000\"/>\n",
       "<path class=\"atom-44\" d=\"M 422.1 74.8 Q 422.1 73.8, 422.6 73.2 Q 423.1 72.7, 424.0 72.7 Q 425.0 72.7, 425.5 73.2 Q 426.0 73.8, 426.0 74.8 Q 426.0 75.9, 425.5 76.4 Q 425.0 77.0, 424.0 77.0 Q 423.1 77.0, 422.6 76.4 Q 422.1 75.9, 422.1 74.8 M 424.0 76.5 Q 424.7 76.5, 425.0 76.1 Q 425.4 75.7, 425.4 74.8 Q 425.4 74.0, 425.0 73.6 Q 424.7 73.1, 424.0 73.1 Q 423.4 73.1, 423.0 73.6 Q 422.7 74.0, 422.7 74.8 Q 422.7 75.7, 423.0 76.1 Q 423.4 76.5, 424.0 76.5 \" fill=\"#FF0000\"/>\n",
       "<path class=\"atom-44\" d=\"M 426.3 72.7 L 426.9 72.7 L 426.9 74.5 L 429.0 74.5 L 429.0 72.7 L 429.6 72.7 L 429.6 77.0 L 429.0 77.0 L 429.0 75.0 L 426.9 75.0 L 426.9 77.0 L 426.3 77.0 L 426.3 72.7 \" fill=\"#FF0000\"/>\n",
       "</svg>"
      ],
      "text/plain": [
       "<IPython.core.display.SVG object>"
      ]
     },
     "execution_count": 5,
     "metadata": {},
     "output_type": "execute_result"
    }
   ],
   "source": [
    "# Plot the first generated molecule\n",
    "big_smiles_gen(big)"
   ]
  },
  {
   "cell_type": "markdown",
   "id": "9b184edb",
   "metadata": {},
   "source": [
    "You can also render the graph of connected monomers.\n",
    "In this case, we don't draw the atoms, but the connected monomers. This can be handy to visualize bigger molecules."
   ]
  },
  {
   "cell_type": "code",
   "execution_count": 6,
   "id": "e2ba486d",
   "metadata": {},
   "outputs": [
    {
     "data": {
      "image/png": "[encoded data removed]",
      "text/plain": [
       "<Figure size 432x288 with 1 Axes>"
      ]
     },
     "metadata": {},
     "output_type": "display_data"
    }
   ],
   "source": [
    "big_smiles_graph(big)"
   ]
  },
  {
   "cell_type": "code",
   "execution_count": 7,
   "id": "b8e23fbd",
   "metadata": {},
   "outputs": [
    {
     "data": {
      "image/svg+xml": [
       "<svg xmlns=\"http://www.w3.org/2000/svg\" xmlns:rdkit=\"http://www.rdkit.org/xml\" xmlns:xlink=\"http://www.w3.org/1999/xlink\" version=\"1.1\" baseProfile=\"full\" xml:space=\"preserve\" width=\"450px\" height=\"150px\" viewBox=\"0 0 450 150\">\n",
       "<!-- END OF HEADER -->\n",
       "<rect style=\"opacity:1.0;fill:#FFFFFF;stroke:none\" width=\"450.0\" height=\"150.0\" x=\"0.0\" y=\"0.0\"> </rect>\n",
       "<path class=\"bond-0 atom-0 atom-1\" d=\"M 29.8,76.6 L 39.0,71.4\" style=\"fill:none;fill-rule:evenodd;stroke:#FF0000;stroke-width:2.0px;stroke-linecap:butt;stroke-linejoin:miter;stroke-opacity:1\"/>\n",
       "<path class=\"bond-1 atom-1 atom-2\" d=\"M 44.5,71.4 L 50.4,74.9\" style=\"fill:none;fill-rule:evenodd;stroke:#FF0000;stroke-width:2.0px;stroke-linecap:butt;stroke-linejoin:miter;stroke-opacity:1\"/>\n",
       "<path class=\"bond-1 atom-1 atom-2\" d=\"M 50.4,74.9 L 56.3,78.4\" style=\"fill:none;fill-rule:evenodd;stroke:#000000;stroke-width:2.0px;stroke-linecap:butt;stroke-linejoin:miter;stroke-opacity:1\"/>\n",
       "<path class=\"bond-2 atom-3 atom-4\" d=\"M 69.4,70.0 L 69.4,63.0\" style=\"fill:none;fill-rule:evenodd;stroke:#000000;stroke-width:2.0px;stroke-linecap:butt;stroke-linejoin:miter;stroke-opacity:1\"/>\n",
       "<path class=\"bond-2 atom-3 atom-4\" d=\"M 69.4,63.0 L 69.5,56.1\" style=\"fill:none;fill-rule:evenodd;stroke:#FF0000;stroke-width:2.0px;stroke-linecap:butt;stroke-linejoin:miter;stroke-opacity:1\"/>\n",
       "<path class=\"bond-2 atom-3 atom-4\" d=\"M 72.8,70.0 L 72.8,63.0\" style=\"fill:none;fill-rule:evenodd;stroke:#000000;stroke-width:2.0px;stroke-linecap:butt;stroke-linejoin:miter;stroke-opacity:1\"/>\n",
       "<path class=\"bond-2 atom-3 atom-4\" d=\"M 72.8,63.0 L 72.8,56.1\" style=\"fill:none;fill-rule:evenodd;stroke:#FF0000;stroke-width:2.0px;stroke-linecap:butt;stroke-linejoin:miter;stroke-opacity:1\"/>\n",
       "<path class=\"bond-3 atom-3 atom-5\" d=\"M 71.1,70.0 L 85.7,78.5\" style=\"fill:none;fill-rule:evenodd;stroke:#000000;stroke-width:2.0px;stroke-linecap:butt;stroke-linejoin:miter;stroke-opacity:1\"/>\n",
       "<path class=\"bond-4 atom-2 atom-3\" d=\"M 56.3,78.4 L 71.1,70.0\" style=\"fill:none;fill-rule:evenodd;stroke:#000000;stroke-width:2.0px;stroke-linecap:butt;stroke-linejoin:miter;stroke-opacity:1\"/>\n",
       "<path class=\"bond-5 atom-6 atom-7\" d=\"M 98.7,70.1 L 98.8,63.2\" style=\"fill:none;fill-rule:evenodd;stroke:#000000;stroke-width:2.0px;stroke-linecap:butt;stroke-linejoin:miter;stroke-opacity:1\"/>\n",
       "<path class=\"bond-5 atom-6 atom-7\" d=\"M 98.8,63.2 L 98.8,56.3\" style=\"fill:none;fill-rule:evenodd;stroke:#FF0000;stroke-width:2.0px;stroke-linecap:butt;stroke-linejoin:miter;stroke-opacity:1\"/>\n",
       "<path class=\"bond-5 atom-6 atom-7\" d=\"M 102.1,70.2 L 102.1,63.2\" style=\"fill:none;fill-rule:evenodd;stroke:#000000;stroke-width:2.0px;stroke-linecap:butt;stroke-linejoin:miter;stroke-opacity:1\"/>\n",
       "<path class=\"bond-5 atom-6 atom-7\" d=\"M 102.1,63.2 L 102.2,56.3\" style=\"fill:none;fill-rule:evenodd;stroke:#FF0000;stroke-width:2.0px;stroke-linecap:butt;stroke-linejoin:miter;stroke-opacity:1\"/>\n",
       "<path class=\"bond-6 atom-6 atom-8\" d=\"M 100.4,70.2 L 115.0,78.7\" style=\"fill:none;fill-rule:evenodd;stroke:#000000;stroke-width:2.0px;stroke-linecap:butt;stroke-linejoin:miter;stroke-opacity:1\"/>\n",
       "<path class=\"bond-7 atom-5 atom-6\" d=\"M 85.7,78.5 L 100.4,70.2\" style=\"fill:none;fill-rule:evenodd;stroke:#000000;stroke-width:2.0px;stroke-linecap:butt;stroke-linejoin:miter;stroke-opacity:1\"/>\n",
       "<path class=\"bond-8 atom-9 atom-10\" d=\"M 146.1,78.9 L 146.0,85.9\" style=\"fill:none;fill-rule:evenodd;stroke:#000000;stroke-width:2.0px;stroke-linecap:butt;stroke-linejoin:miter;stroke-opacity:1\"/>\n",
       "<path class=\"bond-8 atom-9 atom-10\" d=\"M 146.0,85.9 L 146.0,92.9\" style=\"fill:none;fill-rule:evenodd;stroke:#FF0000;stroke-width:2.0px;stroke-linecap:butt;stroke-linejoin:miter;stroke-opacity:1\"/>\n",
       "<path class=\"bond-8 atom-9 atom-10\" d=\"M 142.7,78.9 L 142.6,85.9\" style=\"fill:none;fill-rule:evenodd;stroke:#000000;stroke-width:2.0px;stroke-linecap:butt;stroke-linejoin:miter;stroke-opacity:1\"/>\n",
       "<path class=\"bond-8 atom-9 atom-10\" d=\"M 142.6,85.9 L 142.6,92.8\" style=\"fill:none;fill-rule:evenodd;stroke:#FF0000;stroke-width:2.0px;stroke-linecap:butt;stroke-linejoin:miter;stroke-opacity:1\"/>\n",
       "<path class=\"bond-9 atom-9 atom-11\" d=\"M 144.4,78.9 L 129.8,70.3\" style=\"fill:none;fill-rule:evenodd;stroke:#000000;stroke-width:2.0px;stroke-linecap:butt;stroke-linejoin:miter;stroke-opacity:1\"/>\n",
       "<path class=\"bond-10 atom-8 atom-11\" d=\"M 115.0,78.7 L 129.8,70.3\" style=\"fill:none;fill-rule:evenodd;stroke:#000000;stroke-width:2.0px;stroke-linecap:butt;stroke-linejoin:miter;stroke-opacity:1\"/>\n",
       "<path class=\"bond-11 atom-12 atom-13\" d=\"M 175.4,79.1 L 175.4,86.1\" style=\"fill:none;fill-rule:evenodd;stroke:#000000;stroke-width:2.0px;stroke-linecap:butt;stroke-linejoin:miter;stroke-opacity:1\"/>\n",
       "<path class=\"bond-11 atom-12 atom-13\" d=\"M 175.4,86.1 L 175.3,93.0\" style=\"fill:none;fill-rule:evenodd;stroke:#FF0000;stroke-width:2.0px;stroke-linecap:butt;stroke-linejoin:miter;stroke-opacity:1\"/>\n",
       "<path class=\"bond-11 atom-12 atom-13\" d=\"M 172.0,79.1 L 172.0,86.0\" style=\"fill:none;fill-rule:evenodd;stroke:#000000;stroke-width:2.0px;stroke-linecap:butt;stroke-linejoin:miter;stroke-opacity:1\"/>\n",
       "<path class=\"bond-11 atom-12 atom-13\" d=\"M 172.0,86.0 L 172.0,93.0\" style=\"fill:none;fill-rule:evenodd;stroke:#FF0000;stroke-width:2.0px;stroke-linecap:butt;stroke-linejoin:miter;stroke-opacity:1\"/>\n",
       "<path class=\"bond-12 atom-12 atom-14\" d=\"M 173.7,79.1 L 159.1,70.5\" style=\"fill:none;fill-rule:evenodd;stroke:#000000;stroke-width:2.0px;stroke-linecap:butt;stroke-linejoin:miter;stroke-opacity:1\"/>\n",
       "<path class=\"bond-13 atom-9 atom-14\" d=\"M 144.4,78.9 L 159.1,70.5\" style=\"fill:none;fill-rule:evenodd;stroke:#000000;stroke-width:2.0px;stroke-linecap:butt;stroke-linejoin:miter;stroke-opacity:1\"/>\n",
       "<path class=\"bond-14 atom-15 atom-16\" d=\"M 204.8,79.3 L 204.7,86.2\" style=\"fill:none;fill-rule:evenodd;stroke:#000000;stroke-width:2.0px;stroke-linecap:butt;stroke-linejoin:miter;stroke-opacity:1\"/>\n",
       "<path class=\"bond-14 atom-15 atom-16\" d=\"M 204.7,86.2 L 204.7,93.2\" style=\"fill:none;fill-rule:evenodd;stroke:#FF0000;stroke-width:2.0px;stroke-linecap:butt;stroke-linejoin:miter;stroke-opacity:1\"/>\n",
       "<path class=\"bond-14 atom-15 atom-16\" d=\"M 201.4,79.2 L 201.3,86.2\" style=\"fill:none;fill-rule:evenodd;stroke:#000000;stroke-width:2.0px;stroke-linecap:butt;stroke-linejoin:miter;stroke-opacity:1\"/>\n",
       "<path class=\"bond-14 atom-15 atom-16\" d=\"M 201.3,86.2 L 201.3,93.2\" style=\"fill:none;fill-rule:evenodd;stroke:#FF0000;stroke-width:2.0px;stroke-linecap:butt;stroke-linejoin:miter;stroke-opacity:1\"/>\n",
       "<path class=\"bond-15 atom-15 atom-17\" d=\"M 203.1,79.2 L 188.5,70.7\" style=\"fill:none;fill-rule:evenodd;stroke:#000000;stroke-width:2.0px;stroke-linecap:butt;stroke-linejoin:miter;stroke-opacity:1\"/>\n",
       "<path class=\"bond-16 atom-12 atom-17\" d=\"M 173.7,79.1 L 188.5,70.7\" style=\"fill:none;fill-rule:evenodd;stroke:#000000;stroke-width:2.0px;stroke-linecap:butt;stroke-linejoin:miter;stroke-opacity:1\"/>\n",
       "<path class=\"bond-17 atom-18 atom-19\" d=\"M 234.1,79.4 L 234.1,86.4\" style=\"fill:none;fill-rule:evenodd;stroke:#000000;stroke-width:2.0px;stroke-linecap:butt;stroke-linejoin:miter;stroke-opacity:1\"/>\n",
       "<path class=\"bond-17 atom-18 atom-19\" d=\"M 234.1,86.4 L 234.0,93.4\" style=\"fill:none;fill-rule:evenodd;stroke:#FF0000;stroke-width:2.0px;stroke-linecap:butt;stroke-linejoin:miter;stroke-opacity:1\"/>\n",
       "<path class=\"bond-17 atom-18 atom-19\" d=\"M 230.7,79.4 L 230.7,86.4\" style=\"fill:none;fill-rule:evenodd;stroke:#000000;stroke-width:2.0px;stroke-linecap:butt;stroke-linejoin:miter;stroke-opacity:1\"/>\n",
       "<path class=\"bond-17 atom-18 atom-19\" d=\"M 230.7,86.4 L 230.7,93.4\" style=\"fill:none;fill-rule:evenodd;stroke:#FF0000;stroke-width:2.0px;stroke-linecap:butt;stroke-linejoin:miter;stroke-opacity:1\"/>\n",
       "<path class=\"bond-18 atom-18 atom-20\" d=\"M 232.4,79.4 L 217.8,70.9\" style=\"fill:none;fill-rule:evenodd;stroke:#000000;stroke-width:2.0px;stroke-linecap:butt;stroke-linejoin:miter;stroke-opacity:1\"/>\n",
       "<path class=\"bond-19 atom-15 atom-20\" d=\"M 203.1,79.2 L 217.8,70.9\" style=\"fill:none;fill-rule:evenodd;stroke:#000000;stroke-width:2.0px;stroke-linecap:butt;stroke-linejoin:miter;stroke-opacity:1\"/>\n",
       "<path class=\"bond-20 atom-21 atom-22\" d=\"M 245.5,71.0 L 245.5,64.1\" style=\"fill:none;fill-rule:evenodd;stroke:#000000;stroke-width:2.0px;stroke-linecap:butt;stroke-linejoin:miter;stroke-opacity:1\"/>\n",
       "<path class=\"bond-20 atom-21 atom-22\" d=\"M 245.5,64.1 L 245.5,57.1\" style=\"fill:none;fill-rule:evenodd;stroke:#FF0000;stroke-width:2.0px;stroke-linecap:butt;stroke-linejoin:miter;stroke-opacity:1\"/>\n",
       "<path class=\"bond-20 atom-21 atom-22\" d=\"M 248.9,71.0 L 248.9,64.1\" style=\"fill:none;fill-rule:evenodd;stroke:#000000;stroke-width:2.0px;stroke-linecap:butt;stroke-linejoin:miter;stroke-opacity:1\"/>\n",
       "<path class=\"bond-20 atom-21 atom-22\" d=\"M 248.9,64.1 L 248.9,57.2\" style=\"fill:none;fill-rule:evenodd;stroke:#FF0000;stroke-width:2.0px;stroke-linecap:butt;stroke-linejoin:miter;stroke-opacity:1\"/>\n",
       "<path class=\"bond-21 atom-21 atom-23\" d=\"M 247.2,71.0 L 261.8,79.6\" style=\"fill:none;fill-rule:evenodd;stroke:#000000;stroke-width:2.0px;stroke-linecap:butt;stroke-linejoin:miter;stroke-opacity:1\"/>\n",
       "<path class=\"bond-22 atom-18 atom-21\" d=\"M 232.4,79.4 L 247.2,71.0\" style=\"fill:none;fill-rule:evenodd;stroke:#000000;stroke-width:2.0px;stroke-linecap:butt;stroke-linejoin:miter;stroke-opacity:1\"/>\n",
       "<path class=\"bond-23 atom-24 atom-25\" d=\"M 274.8,71.2 L 274.9,64.3\" style=\"fill:none;fill-rule:evenodd;stroke:#000000;stroke-width:2.0px;stroke-linecap:butt;stroke-linejoin:miter;stroke-opacity:1\"/>\n",
       "<path class=\"bond-23 atom-24 atom-25\" d=\"M 274.9,64.3 L 274.9,57.3\" style=\"fill:none;fill-rule:evenodd;stroke:#FF0000;stroke-width:2.0px;stroke-linecap:butt;stroke-linejoin:miter;stroke-opacity:1\"/>\n",
       "<path class=\"bond-23 atom-24 atom-25\" d=\"M 278.2,71.2 L 278.2,64.3\" style=\"fill:none;fill-rule:evenodd;stroke:#000000;stroke-width:2.0px;stroke-linecap:butt;stroke-linejoin:miter;stroke-opacity:1\"/>\n",
       "<path class=\"bond-23 atom-24 atom-25\" d=\"M 278.2,64.3 L 278.3,57.3\" style=\"fill:none;fill-rule:evenodd;stroke:#FF0000;stroke-width:2.0px;stroke-linecap:butt;stroke-linejoin:miter;stroke-opacity:1\"/>\n",
       "<path class=\"bond-24 atom-24 atom-26\" d=\"M 276.5,71.2 L 291.1,79.8\" style=\"fill:none;fill-rule:evenodd;stroke:#000000;stroke-width:2.0px;stroke-linecap:butt;stroke-linejoin:miter;stroke-opacity:1\"/>\n",
       "<path class=\"bond-25 atom-23 atom-24\" d=\"M 261.8,79.6 L 276.5,71.2\" style=\"fill:none;fill-rule:evenodd;stroke:#000000;stroke-width:2.0px;stroke-linecap:butt;stroke-linejoin:miter;stroke-opacity:1\"/>\n",
       "<path class=\"bond-26 atom-27 atom-28\" d=\"M 322.2,80.0 L 322.1,86.9\" style=\"fill:none;fill-rule:evenodd;stroke:#000000;stroke-width:2.0px;stroke-linecap:butt;stroke-linejoin:miter;stroke-opacity:1\"/>\n",
       "<path class=\"bond-26 atom-27 atom-28\" d=\"M 322.1,86.9 L 322.1,93.9\" style=\"fill:none;fill-rule:evenodd;stroke:#FF0000;stroke-width:2.0px;stroke-linecap:butt;stroke-linejoin:miter;stroke-opacity:1\"/>\n",
       "<path class=\"bond-26 atom-27 atom-28\" d=\"M 318.8,79.9 L 318.7,86.9\" style=\"fill:none;fill-rule:evenodd;stroke:#000000;stroke-width:2.0px;stroke-linecap:butt;stroke-linejoin:miter;stroke-opacity:1\"/>\n",
       "<path class=\"bond-26 atom-27 atom-28\" d=\"M 318.7,86.9 L 318.7,93.9\" style=\"fill:none;fill-rule:evenodd;stroke:#FF0000;stroke-width:2.0px;stroke-linecap:butt;stroke-linejoin:miter;stroke-opacity:1\"/>\n",
       "<path class=\"bond-27 atom-27 atom-29\" d=\"M 320.5,79.9 L 305.9,71.4\" style=\"fill:none;fill-rule:evenodd;stroke:#000000;stroke-width:2.0px;stroke-linecap:butt;stroke-linejoin:miter;stroke-opacity:1\"/>\n",
       "<path class=\"bond-28 atom-26 atom-29\" d=\"M 291.1,79.8 L 305.9,71.4\" style=\"fill:none;fill-rule:evenodd;stroke:#000000;stroke-width:2.0px;stroke-linecap:butt;stroke-linejoin:miter;stroke-opacity:1\"/>\n",
       "<path class=\"bond-29 atom-30 atom-31\" d=\"M 333.5,71.6 L 333.5,64.6\" style=\"fill:none;fill-rule:evenodd;stroke:#000000;stroke-width:2.0px;stroke-linecap:butt;stroke-linejoin:miter;stroke-opacity:1\"/>\n",
       "<path class=\"bond-29 atom-30 atom-31\" d=\"M 333.5,64.6 L 333.6,57.7\" style=\"fill:none;fill-rule:evenodd;stroke:#FF0000;stroke-width:2.0px;stroke-linecap:butt;stroke-linejoin:miter;stroke-opacity:1\"/>\n",
       "<path class=\"bond-29 atom-30 atom-31\" d=\"M 336.9,71.6 L 336.9,64.6\" style=\"fill:none;fill-rule:evenodd;stroke:#000000;stroke-width:2.0px;stroke-linecap:butt;stroke-linejoin:miter;stroke-opacity:1\"/>\n",
       "<path class=\"bond-29 atom-30 atom-31\" d=\"M 336.9,64.6 L 337.0,57.7\" style=\"fill:none;fill-rule:evenodd;stroke:#FF0000;stroke-width:2.0px;stroke-linecap:butt;stroke-linejoin:miter;stroke-opacity:1\"/>\n",
       "<path class=\"bond-30 atom-30 atom-32\" d=\"M 335.2,71.6 L 349.8,80.1\" style=\"fill:none;fill-rule:evenodd;stroke:#000000;stroke-width:2.0px;stroke-linecap:butt;stroke-linejoin:miter;stroke-opacity:1\"/>\n",
       "<path class=\"bond-31 atom-27 atom-30\" d=\"M 320.5,79.9 L 335.2,71.6\" style=\"fill:none;fill-rule:evenodd;stroke:#000000;stroke-width:2.0px;stroke-linecap:butt;stroke-linejoin:miter;stroke-opacity:1\"/>\n",
       "<path class=\"bond-32 atom-33 atom-34\" d=\"M 362.9,71.7 L 362.9,64.8\" style=\"fill:none;fill-rule:evenodd;stroke:#000000;stroke-width:2.0px;stroke-linecap:butt;stroke-linejoin:miter;stroke-opacity:1\"/>\n",
       "<path class=\"bond-32 atom-33 atom-34\" d=\"M 362.9,64.8 L 362.9,57.8\" style=\"fill:none;fill-rule:evenodd;stroke:#FF0000;stroke-width:2.0px;stroke-linecap:butt;stroke-linejoin:miter;stroke-opacity:1\"/>\n",
       "<path class=\"bond-32 atom-33 atom-34\" d=\"M 366.2,71.8 L 366.3,64.8\" style=\"fill:none;fill-rule:evenodd;stroke:#000000;stroke-width:2.0px;stroke-linecap:butt;stroke-linejoin:miter;stroke-opacity:1\"/>\n",
       "<path class=\"bond-32 atom-33 atom-34\" d=\"M 366.3,64.8 L 366.3,57.9\" style=\"fill:none;fill-rule:evenodd;stroke:#FF0000;stroke-width:2.0px;stroke-linecap:butt;stroke-linejoin:miter;stroke-opacity:1\"/>\n",
       "<path class=\"bond-33 atom-33 atom-35\" d=\"M 364.6,71.7 L 379.2,80.3\" style=\"fill:none;fill-rule:evenodd;stroke:#000000;stroke-width:2.0px;stroke-linecap:butt;stroke-linejoin:miter;stroke-opacity:1\"/>\n",
       "<path class=\"bond-34 atom-32 atom-33\" d=\"M 349.8,80.1 L 364.6,71.7\" style=\"fill:none;fill-rule:evenodd;stroke:#000000;stroke-width:2.0px;stroke-linecap:butt;stroke-linejoin:miter;stroke-opacity:1\"/>\n",
       "<path class=\"bond-35 atom-36 atom-37\" d=\"M 393.9,71.9 L 399.8,75.4\" style=\"fill:none;fill-rule:evenodd;stroke:#000000;stroke-width:2.0px;stroke-linecap:butt;stroke-linejoin:miter;stroke-opacity:1\"/>\n",
       "<path class=\"bond-35 atom-36 atom-37\" d=\"M 399.8,75.4 L 405.8,78.9\" style=\"fill:none;fill-rule:evenodd;stroke:#FF0000;stroke-width:2.0px;stroke-linecap:butt;stroke-linejoin:miter;stroke-opacity:1\"/>\n",
       "<path class=\"bond-36 atom-37 atom-38\" d=\"M 411.3,78.9 L 420.5,73.7\" style=\"fill:none;fill-rule:evenodd;stroke:#FF0000;stroke-width:2.0px;stroke-linecap:butt;stroke-linejoin:miter;stroke-opacity:1\"/>\n",
       "<path class=\"bond-37 atom-35 atom-36\" d=\"M 379.2,80.3 L 393.9,71.9\" style=\"fill:none;fill-rule:evenodd;stroke:#000000;stroke-width:2.0px;stroke-linecap:butt;stroke-linejoin:miter;stroke-opacity:1\"/>\n",
       "<path class=\"atom-0\" d=\"M 20.5 75.8 L 21.1 75.8 L 21.1 77.9 L 23.6 77.9 L 23.6 75.8 L 24.2 75.8 L 24.2 80.6 L 23.6 80.6 L 23.6 78.4 L 21.1 78.4 L 21.1 80.6 L 20.5 80.6 L 20.5 75.8 \" fill=\"#FF0000\"/>\n",
       "<path class=\"atom-0\" d=\"M 24.8 78.2 Q 24.8 77.0, 25.4 76.4 Q 25.9 75.8, 27.0 75.8 Q 28.1 75.8, 28.6 76.4 Q 29.2 77.0, 29.2 78.2 Q 29.2 79.4, 28.6 80.0 Q 28.0 80.7, 27.0 80.7 Q 25.9 80.7, 25.4 80.0 Q 24.8 79.4, 24.8 78.2 M 27.0 80.1 Q 27.7 80.1, 28.1 79.7 Q 28.5 79.2, 28.5 78.2 Q 28.5 77.3, 28.1 76.8 Q 27.7 76.3, 27.0 76.3 Q 26.3 76.3, 25.9 76.8 Q 25.5 77.2, 25.5 78.2 Q 25.5 79.2, 25.9 79.7 Q 26.3 80.1, 27.0 80.1 \" fill=\"#FF0000\"/>\n",
       "<path class=\"atom-1\" d=\"M 39.5 69.8 Q 39.5 68.7, 40.1 68.0 Q 40.6 67.4, 41.7 67.4 Q 42.8 67.4, 43.3 68.0 Q 43.9 68.7, 43.9 69.8 Q 43.9 71.0, 43.3 71.6 Q 42.8 72.3, 41.7 72.3 Q 40.7 72.3, 40.1 71.6 Q 39.5 71.0, 39.5 69.8 M 41.7 71.8 Q 42.4 71.8, 42.8 71.3 Q 43.2 70.8, 43.2 69.8 Q 43.2 68.9, 42.8 68.4 Q 42.4 67.9, 41.7 67.9 Q 41.0 67.9, 40.6 68.4 Q 40.2 68.9, 40.2 69.8 Q 40.2 70.8, 40.6 71.3 Q 41.0 71.8, 41.7 71.8 \" fill=\"#FF0000\"/>\n",
       "<path class=\"atom-4\" d=\"M 69.0 53.0 Q 69.0 51.9, 69.5 51.2 Q 70.1 50.6, 71.2 50.6 Q 72.2 50.6, 72.8 51.2 Q 73.4 51.9, 73.4 53.0 Q 73.4 54.2, 72.8 54.9 Q 72.2 55.5, 71.2 55.5 Q 70.1 55.5, 69.5 54.9 Q 69.0 54.2, 69.0 53.0 M 71.2 55.0 Q 71.9 55.0, 72.3 54.5 Q 72.7 54.0, 72.7 53.0 Q 72.7 52.1, 72.3 51.6 Q 71.9 51.1, 71.2 51.1 Q 70.4 51.1, 70.0 51.6 Q 69.6 52.1, 69.6 53.0 Q 69.6 54.0, 70.0 54.5 Q 70.4 55.0, 71.2 55.0 \" fill=\"#FF0000\"/>\n",
       "<path class=\"atom-7\" d=\"M 98.3 53.2 Q 98.3 52.1, 98.9 51.4 Q 99.4 50.8, 100.5 50.8 Q 101.6 50.8, 102.1 51.4 Q 102.7 52.1, 102.7 53.2 Q 102.7 54.4, 102.1 55.1 Q 101.6 55.7, 100.5 55.7 Q 99.5 55.7, 98.9 55.1 Q 98.3 54.4, 98.3 53.2 M 100.5 55.2 Q 101.2 55.2, 101.6 54.7 Q 102.0 54.2, 102.0 53.2 Q 102.0 52.3, 101.6 51.8 Q 101.2 51.3, 100.5 51.3 Q 99.8 51.3, 99.4 51.8 Q 99.0 52.3, 99.0 53.2 Q 99.0 54.2, 99.4 54.7 Q 99.8 55.2, 100.5 55.2 \" fill=\"#FF0000\"/>\n",
       "<path class=\"atom-10\" d=\"M 142.1 95.8 Q 142.1 94.7, 142.6 94.1 Q 143.2 93.4, 144.3 93.4 Q 145.3 93.4, 145.9 94.1 Q 146.5 94.7, 146.5 95.8 Q 146.5 97.0, 145.9 97.7 Q 145.3 98.3, 144.3 98.3 Q 143.2 98.3, 142.6 97.7 Q 142.1 97.0, 142.1 95.8 M 144.3 97.8 Q 145.0 97.8, 145.4 97.3 Q 145.8 96.8, 145.8 95.8 Q 145.8 94.9, 145.4 94.4 Q 145.0 93.9, 144.3 93.9 Q 143.5 93.9, 143.1 94.4 Q 142.8 94.9, 142.8 95.8 Q 142.8 96.8, 143.1 97.3 Q 143.5 97.8, 144.3 97.8 \" fill=\"#FF0000\"/>\n",
       "<path class=\"atom-13\" d=\"M 171.4 96.0 Q 171.4 94.9, 172.0 94.2 Q 172.6 93.6, 173.6 93.6 Q 174.7 93.6, 175.3 94.2 Q 175.8 94.9, 175.8 96.0 Q 175.8 97.2, 175.3 97.9 Q 174.7 98.5, 173.6 98.5 Q 172.6 98.5, 172.0 97.9 Q 171.4 97.2, 171.4 96.0 M 173.6 98.0 Q 174.4 98.0, 174.8 97.5 Q 175.2 97.0, 175.2 96.0 Q 175.2 95.1, 174.8 94.6 Q 174.4 94.1, 173.6 94.1 Q 172.9 94.1, 172.5 94.6 Q 172.1 95.1, 172.1 96.0 Q 172.1 97.0, 172.5 97.5 Q 172.9 98.0, 173.6 98.0 \" fill=\"#FF0000\"/>\n",
       "<path class=\"atom-16\" d=\"M 200.8 96.2 Q 200.8 95.0, 201.3 94.4 Q 201.9 93.8, 203.0 93.8 Q 204.0 93.8, 204.6 94.4 Q 205.2 95.0, 205.2 96.2 Q 205.2 97.4, 204.6 98.0 Q 204.0 98.7, 203.0 98.7 Q 201.9 98.7, 201.3 98.0 Q 200.8 97.4, 200.8 96.2 M 203.0 98.1 Q 203.7 98.1, 204.1 97.7 Q 204.5 97.2, 204.5 96.2 Q 204.5 95.3, 204.1 94.8 Q 203.7 94.3, 203.0 94.3 Q 202.2 94.3, 201.8 94.8 Q 201.5 95.3, 201.5 96.2 Q 201.5 97.2, 201.8 97.7 Q 202.2 98.1, 203.0 98.1 \" fill=\"#FF0000\"/>\n",
       "<path class=\"atom-19\" d=\"M 230.1 96.4 Q 230.1 95.2, 230.7 94.6 Q 231.3 93.9, 232.3 93.9 Q 233.4 93.9, 234.0 94.6 Q 234.5 95.2, 234.5 96.4 Q 234.5 97.5, 234.0 98.2 Q 233.4 98.9, 232.3 98.9 Q 231.3 98.9, 230.7 98.2 Q 230.1 97.6, 230.1 96.4 M 232.3 98.3 Q 233.1 98.3, 233.5 97.8 Q 233.9 97.3, 233.9 96.4 Q 233.9 95.4, 233.5 95.0 Q 233.1 94.5, 232.3 94.5 Q 231.6 94.5, 231.2 95.0 Q 230.8 95.4, 230.8 96.4 Q 230.8 97.3, 231.2 97.8 Q 231.6 98.3, 232.3 98.3 \" fill=\"#FF0000\"/>\n",
       "<path class=\"atom-22\" d=\"M 245.1 54.1 Q 245.1 53.0, 245.6 52.3 Q 246.2 51.7, 247.3 51.7 Q 248.3 51.7, 248.9 52.3 Q 249.5 53.0, 249.5 54.1 Q 249.5 55.3, 248.9 55.9 Q 248.3 56.6, 247.3 56.6 Q 246.2 56.6, 245.6 55.9 Q 245.1 55.3, 245.1 54.1 M 247.3 56.1 Q 248.0 56.1, 248.4 55.6 Q 248.8 55.1, 248.8 54.1 Q 248.8 53.2, 248.4 52.7 Q 248.0 52.2, 247.3 52.2 Q 246.5 52.2, 246.1 52.7 Q 245.7 53.2, 245.7 54.1 Q 245.7 55.1, 246.1 55.6 Q 246.5 56.1, 247.3 56.1 \" fill=\"#FF0000\"/>\n",
       "<path class=\"atom-25\" d=\"M 274.4 54.3 Q 274.4 53.1, 275.0 52.5 Q 275.5 51.8, 276.6 51.8 Q 277.7 51.8, 278.2 52.5 Q 278.8 53.1, 278.8 54.3 Q 278.8 55.4, 278.2 56.1 Q 277.7 56.8, 276.6 56.8 Q 275.5 56.8, 275.0 56.1 Q 274.4 55.5, 274.4 54.3 M 276.6 56.2 Q 277.3 56.2, 277.7 55.7 Q 278.1 55.2, 278.1 54.3 Q 278.1 53.3, 277.7 52.9 Q 277.3 52.4, 276.6 52.4 Q 275.9 52.4, 275.5 52.9 Q 275.1 53.3, 275.1 54.3 Q 275.1 55.3, 275.5 55.7 Q 275.9 56.2, 276.6 56.2 \" fill=\"#FF0000\"/>\n",
       "<path class=\"atom-28\" d=\"M 318.2 96.9 Q 318.2 95.8, 318.7 95.1 Q 319.3 94.5, 320.4 94.5 Q 321.4 94.5, 322.0 95.1 Q 322.6 95.8, 322.6 96.9 Q 322.6 98.1, 322.0 98.7 Q 321.4 99.4, 320.4 99.4 Q 319.3 99.4, 318.7 98.7 Q 318.2 98.1, 318.2 96.9 M 320.4 98.9 Q 321.1 98.9, 321.5 98.4 Q 321.9 97.9, 321.9 96.9 Q 321.9 96.0, 321.5 95.5 Q 321.1 95.0, 320.4 95.0 Q 319.6 95.0, 319.2 95.5 Q 318.8 96.0, 318.8 96.9 Q 318.8 97.9, 319.2 98.4 Q 319.6 98.9, 320.4 98.9 \" fill=\"#FF0000\"/>\n",
       "<path class=\"atom-31\" d=\"M 333.1 54.6 Q 333.1 53.5, 333.7 52.8 Q 334.2 52.2, 335.3 52.2 Q 336.4 52.2, 336.9 52.8 Q 337.5 53.5, 337.5 54.6 Q 337.5 55.8, 336.9 56.5 Q 336.4 57.1, 335.3 57.1 Q 334.2 57.1, 333.7 56.5 Q 333.1 55.8, 333.1 54.6 M 335.3 56.6 Q 336.0 56.6, 336.4 56.1 Q 336.8 55.6, 336.8 54.6 Q 336.8 53.7, 336.4 53.2 Q 336.0 52.7, 335.3 52.7 Q 334.6 52.7, 334.2 53.2 Q 333.8 53.7, 333.8 54.6 Q 333.8 55.6, 334.2 56.1 Q 334.6 56.6, 335.3 56.6 \" fill=\"#FF0000\"/>\n",
       "<path class=\"atom-34\" d=\"M 362.5 54.8 Q 362.5 53.7, 363.0 53.0 Q 363.6 52.4, 364.7 52.4 Q 365.7 52.4, 366.3 53.0 Q 366.9 53.7, 366.9 54.8 Q 366.9 56.0, 366.3 56.6 Q 365.7 57.3, 364.7 57.3 Q 363.6 57.3, 363.0 56.6 Q 362.5 56.0, 362.5 54.8 M 364.7 56.8 Q 365.4 56.8, 365.8 56.3 Q 366.2 55.8, 366.2 54.8 Q 366.2 53.9, 365.8 53.4 Q 365.4 52.9, 364.7 52.9 Q 363.9 52.9, 363.5 53.4 Q 363.1 53.9, 363.1 54.8 Q 363.1 55.8, 363.5 56.3 Q 363.9 56.8, 364.7 56.8 \" fill=\"#FF0000\"/>\n",
       "<path class=\"atom-37\" d=\"M 406.3 80.5 Q 406.3 79.3, 406.9 78.7 Q 407.5 78.1, 408.5 78.1 Q 409.6 78.1, 410.2 78.7 Q 410.7 79.3, 410.7 80.5 Q 410.7 81.7, 410.2 82.3 Q 409.6 83.0, 408.5 83.0 Q 407.5 83.0, 406.9 82.3 Q 406.3 81.7, 406.3 80.5 M 408.5 82.4 Q 409.3 82.4, 409.6 82.0 Q 410.0 81.5, 410.0 80.5 Q 410.0 79.6, 409.6 79.1 Q 409.3 78.6, 408.5 78.6 Q 407.8 78.6, 407.4 79.1 Q 407.0 79.5, 407.0 80.5 Q 407.0 81.5, 407.4 82.0 Q 407.8 82.4, 408.5 82.4 \" fill=\"#FF0000\"/>\n",
       "<path class=\"atom-38\" d=\"M 421.0 72.1 Q 421.0 71.0, 421.6 70.3 Q 422.2 69.7, 423.2 69.7 Q 424.3 69.7, 424.9 70.3 Q 425.5 71.0, 425.5 72.1 Q 425.5 73.3, 424.9 73.9 Q 424.3 74.6, 423.2 74.6 Q 422.2 74.6, 421.6 73.9 Q 421.0 73.3, 421.0 72.1 M 423.2 74.1 Q 424.0 74.1, 424.4 73.6 Q 424.8 73.1, 424.8 72.1 Q 424.8 71.2, 424.4 70.7 Q 424.0 70.2, 423.2 70.2 Q 422.5 70.2, 422.1 70.7 Q 421.7 71.2, 421.7 72.1 Q 421.7 73.1, 422.1 73.6 Q 422.5 74.1, 423.2 74.1 \" fill=\"#FF0000\"/>\n",
       "<path class=\"atom-38\" d=\"M 425.8 69.7 L 426.4 69.7 L 426.4 71.8 L 428.9 71.8 L 428.9 69.7 L 429.5 69.7 L 429.5 74.5 L 428.9 74.5 L 428.9 72.3 L 426.4 72.3 L 426.4 74.5 L 425.8 74.5 L 425.8 69.7 \" fill=\"#FF0000\"/>\n",
       "</svg>"
      ],
      "text/plain": [
       "<IPython.core.display.SVG object>"
      ]
     },
     "execution_count": 7,
     "metadata": {},
     "output_type": "execute_result"
    }
   ],
   "source": [
    "# Generate the second generated molecule\n",
    "big_smiles_gen(big)"
   ]
  },
  {
   "cell_type": "markdown",
   "id": "91d066c0",
   "metadata": {},
   "source": [
    "Notice how the repeated C are different because of the stochastic object"
   ]
  },
  {
   "cell_type": "markdown",
   "id": "8b6b0eac",
   "metadata": {},
   "source": [
    "## Di-ols with 2-5 middle C total Mw 500"
   ]
  },
  {
   "cell_type": "code",
   "execution_count": 8,
   "id": "b9f4a9d7",
   "metadata": {},
   "outputs": [
    {
     "data": {
      "text/plain": [
       "'OC{[$][$]C[$][$]}|uniform(12, 72)|CO'"
      ]
     },
     "execution_count": 8,
     "metadata": {},
     "output_type": "execute_result"
    }
   ],
   "source": [
    "big = \"OC{[$][$]C[$][$]}|uniform(12, 72)|CO\"\n",
    "big"
   ]
  },
  {
   "cell_type": "code",
   "execution_count": 9,
   "id": "3de63ce7",
   "metadata": {},
   "outputs": [
    {
     "data": {
      "image/svg+xml": [
       "<svg xmlns=\"http://www.w3.org/2000/svg\" xmlns:rdkit=\"http://www.rdkit.org/xml\" xmlns:xlink=\"http://www.w3.org/1999/xlink\" version=\"1.1\" baseProfile=\"full\" xml:space=\"preserve\" width=\"450px\" height=\"150px\" viewBox=\"0 0 450 150\">\n",
       "<!-- END OF HEADER -->\n",
       "<rect style=\"opacity:1.0;fill:#FFFFFF;stroke:none\" width=\"450.0\" height=\"150.0\" x=\"0.0\" y=\"0.0\"> </rect>\n",
       "<path class=\"bond-0 atom-0 atom-1\" d=\"M 49.7,70.5 L 68.4,81.3\" style=\"fill:none;fill-rule:evenodd;stroke:#FF0000;stroke-width:2.0px;stroke-linecap:butt;stroke-linejoin:miter;stroke-opacity:1\"/>\n",
       "<path class=\"bond-0 atom-0 atom-1\" d=\"M 68.4,81.3 L 87.1,92.1\" style=\"fill:none;fill-rule:evenodd;stroke:#000000;stroke-width:2.0px;stroke-linecap:butt;stroke-linejoin:miter;stroke-opacity:1\"/>\n",
       "<path class=\"bond-1 atom-1 atom-2\" d=\"M 87.1,92.1 L 133.2,65.5\" style=\"fill:none;fill-rule:evenodd;stroke:#000000;stroke-width:2.0px;stroke-linecap:butt;stroke-linejoin:miter;stroke-opacity:1\"/>\n",
       "<path class=\"bond-2 atom-2 atom-3\" d=\"M 133.2,65.5 L 179.3,92.1\" style=\"fill:none;fill-rule:evenodd;stroke:#000000;stroke-width:2.0px;stroke-linecap:butt;stroke-linejoin:miter;stroke-opacity:1\"/>\n",
       "<path class=\"bond-3 atom-3 atom-4\" d=\"M 179.3,92.1 L 225.4,65.5\" style=\"fill:none;fill-rule:evenodd;stroke:#000000;stroke-width:2.0px;stroke-linecap:butt;stroke-linejoin:miter;stroke-opacity:1\"/>\n",
       "<path class=\"bond-4 atom-4 atom-5\" d=\"M 225.4,65.5 L 271.5,92.1\" style=\"fill:none;fill-rule:evenodd;stroke:#000000;stroke-width:2.0px;stroke-linecap:butt;stroke-linejoin:miter;stroke-opacity:1\"/>\n",
       "<path class=\"bond-5 atom-5 atom-6\" d=\"M 271.5,92.1 L 317.6,65.5\" style=\"fill:none;fill-rule:evenodd;stroke:#000000;stroke-width:2.0px;stroke-linecap:butt;stroke-linejoin:miter;stroke-opacity:1\"/>\n",
       "<path class=\"bond-6 atom-7 atom-8\" d=\"M 363.7,92.1 L 382.4,81.3\" style=\"fill:none;fill-rule:evenodd;stroke:#000000;stroke-width:2.0px;stroke-linecap:butt;stroke-linejoin:miter;stroke-opacity:1\"/>\n",
       "<path class=\"bond-6 atom-7 atom-8\" d=\"M 382.4,81.3 L 401.1,70.5\" style=\"fill:none;fill-rule:evenodd;stroke:#FF0000;stroke-width:2.0px;stroke-linecap:butt;stroke-linejoin:miter;stroke-opacity:1\"/>\n",
       "<path class=\"bond-7 atom-6 atom-7\" d=\"M 317.6,65.5 L 363.7,92.1\" style=\"fill:none;fill-rule:evenodd;stroke:#000000;stroke-width:2.0px;stroke-linecap:butt;stroke-linejoin:miter;stroke-opacity:1\"/>\n",
       "<path class=\"atom-0\" d=\"M 20.5 58.1 L 22.5 58.1 L 22.5 64.5 L 30.2 64.5 L 30.2 58.1 L 32.3 58.1 L 32.3 73.1 L 30.2 73.1 L 30.2 66.2 L 22.5 66.2 L 22.5 73.1 L 20.5 73.1 L 20.5 58.1 \" fill=\"#FF0000\"/>\n",
       "<path class=\"atom-0\" d=\"M 34.1 65.5 Q 34.1 61.9, 35.8 59.9 Q 37.6 57.9, 41.0 57.9 Q 44.3 57.9, 46.1 59.9 Q 47.9 61.9, 47.9 65.5 Q 47.9 69.2, 46.1 71.3 Q 44.3 73.4, 41.0 73.4 Q 37.7 73.4, 35.8 71.3 Q 34.1 69.2, 34.1 65.5 M 41.0 71.7 Q 43.3 71.7, 44.5 70.1 Q 45.8 68.6, 45.8 65.5 Q 45.8 62.6, 44.5 61.1 Q 43.3 59.6, 41.0 59.6 Q 38.7 59.6, 37.4 61.1 Q 36.2 62.6, 36.2 65.5 Q 36.2 68.6, 37.4 70.1 Q 38.7 71.7, 41.0 71.7 \" fill=\"#FF0000\"/>\n",
       "<path class=\"atom-8\" d=\"M 402.8 65.5 Q 402.8 61.9, 404.6 59.9 Q 406.4 57.9, 409.8 57.9 Q 413.1 57.9, 414.9 59.9 Q 416.7 61.9, 416.7 65.5 Q 416.7 69.2, 414.9 71.3 Q 413.1 73.4, 409.8 73.4 Q 406.4 73.4, 404.6 71.3 Q 402.8 69.2, 402.8 65.5 M 409.8 71.7 Q 412.1 71.7, 413.3 70.1 Q 414.6 68.6, 414.6 65.5 Q 414.6 62.6, 413.3 61.1 Q 412.1 59.6, 409.8 59.6 Q 407.5 59.6, 406.2 61.1 Q 405.0 62.6, 405.0 65.5 Q 405.0 68.6, 406.2 70.1 Q 407.5 71.7, 409.8 71.7 \" fill=\"#FF0000\"/>\n",
       "<path class=\"atom-8\" d=\"M 417.7 58.1 L 419.8 58.1 L 419.8 64.5 L 427.5 64.5 L 427.5 58.1 L 429.5 58.1 L 429.5 73.1 L 427.5 73.1 L 427.5 66.2 L 419.8 66.2 L 419.8 73.1 L 417.7 73.1 L 417.7 58.1 \" fill=\"#FF0000\"/>\n",
       "</svg>"
      ],
      "text/plain": [
       "<IPython.core.display.SVG object>"
      ]
     },
     "execution_count": 9,
     "metadata": {},
     "output_type": "execute_result"
    }
   ],
   "source": [
    "big_smiles_gen(big)"
   ]
  },
  {
   "cell_type": "code",
   "execution_count": 10,
   "id": "d8f11aa5",
   "metadata": {},
   "outputs": [
    {
     "data": {
      "image/svg+xml": [
       "<svg xmlns=\"http://www.w3.org/2000/svg\" xmlns:rdkit=\"http://www.rdkit.org/xml\" xmlns:xlink=\"http://www.w3.org/1999/xlink\" version=\"1.1\" baseProfile=\"full\" xml:space=\"preserve\" width=\"450px\" height=\"150px\" viewBox=\"0 0 450 150\">\n",
       "<!-- END OF HEADER -->\n",
       "<rect style=\"opacity:1.0;fill:#FFFFFF;stroke:none\" width=\"450.0\" height=\"150.0\" x=\"0.0\" y=\"0.0\"> </rect>\n",
       "<path class=\"bond-0 atom-0 atom-1\" d=\"M 386.7,79.5 L 357.6,64.6\" style=\"fill:none;fill-rule:evenodd;stroke:#FF0000;stroke-width:2.0px;stroke-linecap:butt;stroke-linejoin:miter;stroke-opacity:1\"/>\n",
       "<path class=\"bond-0 atom-0 atom-1\" d=\"M 357.6,64.6 L 328.5,49.7\" style=\"fill:none;fill-rule:evenodd;stroke:#000000;stroke-width:2.0px;stroke-linecap:butt;stroke-linejoin:miter;stroke-opacity:1\"/>\n",
       "<path class=\"bond-1 atom-1 atom-2\" d=\"M 328.5,49.7 L 261.2,93.2\" style=\"fill:none;fill-rule:evenodd;stroke:#000000;stroke-width:2.0px;stroke-linecap:butt;stroke-linejoin:miter;stroke-opacity:1\"/>\n",
       "<path class=\"bond-2 atom-2 atom-3\" d=\"M 261.2,93.2 L 189.9,56.8\" style=\"fill:none;fill-rule:evenodd;stroke:#000000;stroke-width:2.0px;stroke-linecap:butt;stroke-linejoin:miter;stroke-opacity:1\"/>\n",
       "<path class=\"bond-3 atom-4 atom-5\" d=\"M 122.7,100.3 L 93.5,85.4\" style=\"fill:none;fill-rule:evenodd;stroke:#000000;stroke-width:2.0px;stroke-linecap:butt;stroke-linejoin:miter;stroke-opacity:1\"/>\n",
       "<path class=\"bond-3 atom-4 atom-5\" d=\"M 93.5,85.4 L 64.4,70.5\" style=\"fill:none;fill-rule:evenodd;stroke:#FF0000;stroke-width:2.0px;stroke-linecap:butt;stroke-linejoin:miter;stroke-opacity:1\"/>\n",
       "<path class=\"bond-4 atom-3 atom-4\" d=\"M 189.9,56.8 L 122.7,100.3\" style=\"fill:none;fill-rule:evenodd;stroke:#000000;stroke-width:2.0px;stroke-linecap:butt;stroke-linejoin:miter;stroke-opacity:1\"/>\n",
       "<path class=\"atom-0\" d=\"M 389.4 86.3 Q 389.4 80.8, 392.1 77.8 Q 394.7 74.7, 399.8 74.7 Q 404.8 74.7, 407.5 77.8 Q 410.2 80.8, 410.2 86.3 Q 410.2 91.8, 407.5 94.9 Q 404.7 98.0, 399.8 98.0 Q 394.8 98.0, 392.1 94.9 Q 389.4 91.8, 389.4 86.3 M 399.8 95.5 Q 403.2 95.5, 405.1 93.2 Q 407.0 90.8, 407.0 86.3 Q 407.0 81.8, 405.1 79.6 Q 403.2 77.3, 399.8 77.3 Q 396.3 77.3, 394.4 79.5 Q 392.6 81.8, 392.6 86.3 Q 392.6 90.8, 394.4 93.2 Q 396.3 95.5, 399.8 95.5 \" fill=\"#FF0000\"/>\n",
       "<path class=\"atom-0\" d=\"M 411.8 75.0 L 414.9 75.0 L 414.9 84.6 L 426.5 84.6 L 426.5 75.0 L 429.5 75.0 L 429.5 97.7 L 426.5 97.7 L 426.5 87.2 L 414.9 87.2 L 414.9 97.7 L 411.8 97.7 L 411.8 75.0 \" fill=\"#FF0000\"/>\n",
       "<path class=\"atom-5\" d=\"M 20.5 52.6 L 23.5 52.6 L 23.5 62.2 L 35.1 62.2 L 35.1 52.6 L 38.2 52.6 L 38.2 75.3 L 35.1 75.3 L 35.1 64.8 L 23.5 64.8 L 23.5 75.3 L 20.5 75.3 L 20.5 52.6 \" fill=\"#FF0000\"/>\n",
       "<path class=\"atom-5\" d=\"M 40.9 63.9 Q 40.9 58.4, 43.6 55.4 Q 46.3 52.3, 51.3 52.3 Q 56.4 52.3, 59.1 55.4 Q 61.8 58.4, 61.8 63.9 Q 61.8 69.4, 59.0 72.5 Q 56.3 75.6, 51.3 75.6 Q 46.3 75.6, 43.6 72.5 Q 40.9 69.4, 40.9 63.9 M 51.3 73.1 Q 54.8 73.1, 56.7 70.8 Q 58.6 68.4, 58.6 63.9 Q 58.6 59.4, 56.7 57.2 Q 54.8 54.9, 51.3 54.9 Q 47.9 54.9, 46.0 57.1 Q 44.1 59.4, 44.1 63.9 Q 44.1 68.4, 46.0 70.8 Q 47.9 73.1, 51.3 73.1 \" fill=\"#FF0000\"/>\n",
       "</svg>"
      ],
      "text/plain": [
       "<IPython.core.display.SVG object>"
      ]
     },
     "execution_count": 10,
     "metadata": {},
     "output_type": "execute_result"
    }
   ],
   "source": [
    "big_smiles_gen(big)"
   ]
  },
  {
   "cell_type": "code",
   "execution_count": 11,
   "id": "2d414813",
   "metadata": {},
   "outputs": [
    {
     "data": {
      "image/svg+xml": [
       "<svg xmlns=\"http://www.w3.org/2000/svg\" xmlns:rdkit=\"http://www.rdkit.org/xml\" xmlns:xlink=\"http://www.w3.org/1999/xlink\" version=\"1.1\" baseProfile=\"full\" xml:space=\"preserve\" width=\"450px\" height=\"150px\" viewBox=\"0 0 450 150\">\n",
       "<!-- END OF HEADER -->\n",
       "<rect style=\"opacity:1.0;fill:#FFFFFF;stroke:none\" width=\"450.0\" height=\"150.0\" x=\"0.0\" y=\"0.0\"> </rect>\n",
       "<path class=\"bond-0 atom-0 atom-1\" d=\"M 58.2,69.2 L 82.3,83.2\" style=\"fill:none;fill-rule:evenodd;stroke:#FF0000;stroke-width:2.0px;stroke-linecap:butt;stroke-linejoin:miter;stroke-opacity:1\"/>\n",
       "<path class=\"bond-0 atom-0 atom-1\" d=\"M 82.3,83.2 L 106.5,97.1\" style=\"fill:none;fill-rule:evenodd;stroke:#000000;stroke-width:2.0px;stroke-linecap:butt;stroke-linejoin:miter;stroke-opacity:1\"/>\n",
       "<path class=\"bond-1 atom-1 atom-2\" d=\"M 106.5,97.1 L 166.0,62.7\" style=\"fill:none;fill-rule:evenodd;stroke:#000000;stroke-width:2.0px;stroke-linecap:butt;stroke-linejoin:miter;stroke-opacity:1\"/>\n",
       "<path class=\"bond-2 atom-2 atom-3\" d=\"M 166.0,62.7 L 225.5,97.1\" style=\"fill:none;fill-rule:evenodd;stroke:#000000;stroke-width:2.0px;stroke-linecap:butt;stroke-linejoin:miter;stroke-opacity:1\"/>\n",
       "<path class=\"bond-3 atom-3 atom-4\" d=\"M 225.5,97.1 L 285.0,62.7\" style=\"fill:none;fill-rule:evenodd;stroke:#000000;stroke-width:2.0px;stroke-linecap:butt;stroke-linejoin:miter;stroke-opacity:1\"/>\n",
       "<path class=\"bond-4 atom-5 atom-6\" d=\"M 344.5,97.1 L 368.7,83.2\" style=\"fill:none;fill-rule:evenodd;stroke:#000000;stroke-width:2.0px;stroke-linecap:butt;stroke-linejoin:miter;stroke-opacity:1\"/>\n",
       "<path class=\"bond-4 atom-5 atom-6\" d=\"M 368.7,83.2 L 392.8,69.2\" style=\"fill:none;fill-rule:evenodd;stroke:#FF0000;stroke-width:2.0px;stroke-linecap:butt;stroke-linejoin:miter;stroke-opacity:1\"/>\n",
       "<path class=\"bond-5 atom-4 atom-5\" d=\"M 285.0,62.7 L 344.5,97.1\" style=\"fill:none;fill-rule:evenodd;stroke:#000000;stroke-width:2.0px;stroke-linecap:butt;stroke-linejoin:miter;stroke-opacity:1\"/>\n",
       "<path class=\"atom-0\" d=\"M 20.5 53.1 L 23.1 53.1 L 23.1 61.4 L 33.0 61.4 L 33.0 53.1 L 35.7 53.1 L 35.7 72.6 L 33.0 72.6 L 33.0 63.6 L 23.1 63.6 L 23.1 72.6 L 20.5 72.6 L 20.5 53.1 \" fill=\"#FF0000\"/>\n",
       "<path class=\"atom-0\" d=\"M 38.0 62.8 Q 38.0 58.1, 40.3 55.5 Q 42.6 52.9, 47.0 52.9 Q 51.3 52.9, 53.6 55.5 Q 55.9 58.1, 55.9 62.8 Q 55.9 67.5, 53.5 70.2 Q 51.2 72.9, 47.0 72.9 Q 42.7 72.9, 40.3 70.2 Q 38.0 67.6, 38.0 62.8 M 47.0 70.7 Q 49.9 70.7, 51.5 68.7 Q 53.1 66.7, 53.1 62.8 Q 53.1 59.0, 51.5 57.1 Q 49.9 55.1, 47.0 55.1 Q 44.0 55.1, 42.4 57.0 Q 40.8 58.9, 40.8 62.8 Q 40.8 66.7, 42.4 68.7 Q 44.0 70.7, 47.0 70.7 \" fill=\"#FF0000\"/>\n",
       "<path class=\"atom-6\" d=\"M 395.1 62.8 Q 395.1 58.1, 397.4 55.5 Q 399.7 52.9, 404.0 52.9 Q 408.3 52.9, 410.6 55.5 Q 412.9 58.1, 412.9 62.8 Q 412.9 67.5, 410.6 70.2 Q 408.3 72.9, 404.0 72.9 Q 399.7 72.9, 397.4 70.2 Q 395.1 67.6, 395.1 62.8 M 404.0 70.7 Q 407.0 70.7, 408.6 68.7 Q 410.2 66.7, 410.2 62.8 Q 410.2 59.0, 408.6 57.1 Q 407.0 55.1, 404.0 55.1 Q 401.0 55.1, 399.4 57.0 Q 397.8 58.9, 397.8 62.8 Q 397.8 66.7, 399.4 68.7 Q 401.0 70.7, 404.0 70.7 \" fill=\"#FF0000\"/>\n",
       "<path class=\"atom-6\" d=\"M 414.3 53.1 L 417.0 53.1 L 417.0 61.4 L 426.9 61.4 L 426.9 53.1 L 429.5 53.1 L 429.5 72.6 L 426.9 72.6 L 426.9 63.6 L 417.0 63.6 L 417.0 72.6 L 414.3 72.6 L 414.3 53.1 \" fill=\"#FF0000\"/>\n",
       "</svg>"
      ],
      "text/plain": [
       "<IPython.core.display.SVG object>"
      ]
     },
     "execution_count": 11,
     "metadata": {},
     "output_type": "execute_result"
    }
   ],
   "source": [
    "big_smiles_gen(big)"
   ]
  },
  {
   "cell_type": "markdown",
   "id": "a3a781f5",
   "metadata": {},
   "source": [
    "## Di-ols with 2-5 middle Cyclohexane ring total Mw 500"
   ]
  },
  {
   "cell_type": "code",
   "execution_count": 12,
   "id": "a7c4b04f",
   "metadata": {},
   "outputs": [
    {
     "data": {
      "text/plain": [
       "'OC{[$][$]C([$])C1CCCCC1[$]}|uniform(84, 420)|CO'"
      ]
     },
     "execution_count": 12,
     "metadata": {},
     "output_type": "execute_result"
    }
   ],
   "source": [
    "big = \"OC{[$][$]C([$])C1CCCCC1[$]}|uniform(84, 420)|CO\"\n",
    "big"
   ]
  },
  {
   "cell_type": "code",
   "execution_count": 13,
   "id": "cff28b06",
   "metadata": {},
   "outputs": [
    {
     "data": {
      "image/svg+xml": [
       "<svg xmlns=\"http://www.w3.org/2000/svg\" xmlns:rdkit=\"http://www.rdkit.org/xml\" xmlns:xlink=\"http://www.w3.org/1999/xlink\" version=\"1.1\" baseProfile=\"full\" xml:space=\"preserve\" width=\"450px\" height=\"150px\" viewBox=\"0 0 450 150\">\n",
       "<!-- END OF HEADER -->\n",
       "<rect style=\"opacity:1.0;fill:#FFFFFF;stroke:none\" width=\"450.0\" height=\"150.0\" x=\"0.0\" y=\"0.0\"> </rect>\n",
       "<path class=\"bond-0 atom-0 atom-1\" d=\"M 225.4,15.1 L 233.0,22.5\" style=\"fill:none;fill-rule:evenodd;stroke:#FF0000;stroke-width:2.0px;stroke-linecap:butt;stroke-linejoin:miter;stroke-opacity:1\"/>\n",
       "<path class=\"bond-0 atom-0 atom-1\" d=\"M 233.0,22.5 L 240.5,29.9\" style=\"fill:none;fill-rule:evenodd;stroke:#000000;stroke-width:2.0px;stroke-linecap:butt;stroke-linejoin:miter;stroke-opacity:1\"/>\n",
       "<path class=\"bond-1 atom-2 atom-3\" d=\"M 233.7,56.4 L 253.2,75.5\" style=\"fill:none;fill-rule:evenodd;stroke:#000000;stroke-width:2.0px;stroke-linecap:butt;stroke-linejoin:miter;stroke-opacity:1\"/>\n",
       "<path class=\"bond-2 atom-3 atom-4\" d=\"M 253.2,75.5 L 246.4,102.0\" style=\"fill:none;fill-rule:evenodd;stroke:#000000;stroke-width:2.0px;stroke-linecap:butt;stroke-linejoin:miter;stroke-opacity:1\"/>\n",
       "<path class=\"bond-3 atom-4 atom-5\" d=\"M 246.4,102.0 L 265.9,121.2\" style=\"fill:none;fill-rule:evenodd;stroke:#000000;stroke-width:2.0px;stroke-linecap:butt;stroke-linejoin:miter;stroke-opacity:1\"/>\n",
       "<path class=\"bond-4 atom-5 atom-6\" d=\"M 265.9,121.2 L 292.3,113.8\" style=\"fill:none;fill-rule:evenodd;stroke:#000000;stroke-width:2.0px;stroke-linecap:butt;stroke-linejoin:miter;stroke-opacity:1\"/>\n",
       "<path class=\"bond-5 atom-6 atom-7\" d=\"M 292.3,113.8 L 299.1,87.4\" style=\"fill:none;fill-rule:evenodd;stroke:#000000;stroke-width:2.0px;stroke-linecap:butt;stroke-linejoin:miter;stroke-opacity:1\"/>\n",
       "<path class=\"bond-6 atom-7 atom-8\" d=\"M 299.1,87.4 L 279.6,68.2\" style=\"fill:none;fill-rule:evenodd;stroke:#000000;stroke-width:2.0px;stroke-linecap:butt;stroke-linejoin:miter;stroke-opacity:1\"/>\n",
       "<path class=\"bond-7 atom-8 atom-3\" d=\"M 279.6,68.2 L 253.2,75.5\" style=\"fill:none;fill-rule:evenodd;stroke:#000000;stroke-width:2.0px;stroke-linecap:butt;stroke-linejoin:miter;stroke-opacity:1\"/>\n",
       "<path class=\"bond-8 atom-1 atom-2\" d=\"M 240.5,29.9 L 233.7,56.4\" style=\"fill:none;fill-rule:evenodd;stroke:#000000;stroke-width:2.0px;stroke-linecap:butt;stroke-linejoin:miter;stroke-opacity:1\"/>\n",
       "<path class=\"bond-9 atom-9 atom-10\" d=\"M 207.3,63.7 L 200.5,90.2\" style=\"fill:none;fill-rule:evenodd;stroke:#000000;stroke-width:2.0px;stroke-linecap:butt;stroke-linejoin:miter;stroke-opacity:1\"/>\n",
       "<path class=\"bond-10 atom-10 atom-11\" d=\"M 200.5,90.2 L 174.2,97.5\" style=\"fill:none;fill-rule:evenodd;stroke:#000000;stroke-width:2.0px;stroke-linecap:butt;stroke-linejoin:miter;stroke-opacity:1\"/>\n",
       "<path class=\"bond-11 atom-11 atom-12\" d=\"M 174.2,97.5 L 167.3,124.0\" style=\"fill:none;fill-rule:evenodd;stroke:#000000;stroke-width:2.0px;stroke-linecap:butt;stroke-linejoin:miter;stroke-opacity:1\"/>\n",
       "<path class=\"bond-12 atom-12 atom-13\" d=\"M 167.3,124.0 L 186.9,143.2\" style=\"fill:none;fill-rule:evenodd;stroke:#000000;stroke-width:2.0px;stroke-linecap:butt;stroke-linejoin:miter;stroke-opacity:1\"/>\n",
       "<path class=\"bond-13 atom-13 atom-14\" d=\"M 186.9,143.2 L 213.2,135.8\" style=\"fill:none;fill-rule:evenodd;stroke:#000000;stroke-width:2.0px;stroke-linecap:butt;stroke-linejoin:miter;stroke-opacity:1\"/>\n",
       "<path class=\"bond-14 atom-14 atom-15\" d=\"M 213.2,135.8 L 220.0,109.4\" style=\"fill:none;fill-rule:evenodd;stroke:#000000;stroke-width:2.0px;stroke-linecap:butt;stroke-linejoin:miter;stroke-opacity:1\"/>\n",
       "<path class=\"bond-15 atom-15 atom-10\" d=\"M 220.0,109.4 L 200.5,90.2\" style=\"fill:none;fill-rule:evenodd;stroke:#000000;stroke-width:2.0px;stroke-linecap:butt;stroke-linejoin:miter;stroke-opacity:1\"/>\n",
       "<path class=\"bond-16 atom-2 atom-9\" d=\"M 233.7,56.4 L 207.3,63.7\" style=\"fill:none;fill-rule:evenodd;stroke:#000000;stroke-width:2.0px;stroke-linecap:butt;stroke-linejoin:miter;stroke-opacity:1\"/>\n",
       "<path class=\"bond-17 atom-16 atom-17\" d=\"M 187.8,44.6 L 176.9,47.6\" style=\"fill:none;fill-rule:evenodd;stroke:#000000;stroke-width:2.0px;stroke-linecap:butt;stroke-linejoin:miter;stroke-opacity:1\"/>\n",
       "<path class=\"bond-17 atom-16 atom-17\" d=\"M 176.9,47.6 L 165.9,50.7\" style=\"fill:none;fill-rule:evenodd;stroke:#FF0000;stroke-width:2.0px;stroke-linecap:butt;stroke-linejoin:miter;stroke-opacity:1\"/>\n",
       "<path class=\"bond-18 atom-9 atom-16\" d=\"M 207.3,63.7 L 187.8,44.6\" style=\"fill:none;fill-rule:evenodd;stroke:#000000;stroke-width:2.0px;stroke-linecap:butt;stroke-linejoin:miter;stroke-opacity:1\"/>\n",
       "<path class=\"atom-0\" d=\"M 210.4 6.9 L 211.5 6.9 L 211.5 10.2 L 215.4 10.2 L 215.4 6.9 L 216.5 6.9 L 216.5 14.7 L 215.4 14.7 L 215.4 11.1 L 211.5 11.1 L 211.5 14.7 L 210.4 14.7 L 210.4 6.9 \" fill=\"#FF0000\"/>\n",
       "<path class=\"atom-0\" d=\"M 217.4 10.8 Q 217.4 8.9, 218.3 7.9 Q 219.3 6.8, 221.0 6.8 Q 222.7 6.8, 223.6 7.9 Q 224.5 8.9, 224.5 10.8 Q 224.5 12.6, 223.6 13.7 Q 222.7 14.8, 221.0 14.8 Q 219.3 14.8, 218.3 13.7 Q 217.4 12.7, 217.4 10.8 M 221.0 13.9 Q 222.2 13.9, 222.8 13.1 Q 223.4 12.3, 223.4 10.8 Q 223.4 9.2, 222.8 8.5 Q 222.2 7.7, 221.0 7.7 Q 219.8 7.7, 219.2 8.5 Q 218.5 9.2, 218.5 10.8 Q 218.5 12.3, 219.2 13.1 Q 219.8 13.9, 221.0 13.9 \" fill=\"#FF0000\"/>\n",
       "<path class=\"atom-17\" d=\"M 150.9 48.1 L 152.0 48.1 L 152.0 51.4 L 155.9 51.4 L 155.9 48.1 L 157.0 48.1 L 157.0 55.8 L 155.9 55.8 L 155.9 52.2 L 152.0 52.2 L 152.0 55.8 L 150.9 55.8 L 150.9 48.1 \" fill=\"#FF0000\"/>\n",
       "<path class=\"atom-17\" d=\"M 157.9 51.9 Q 157.9 50.1, 158.8 49.0 Q 159.7 48.0, 161.5 48.0 Q 163.2 48.0, 164.1 49.0 Q 165.0 50.1, 165.0 51.9 Q 165.0 53.8, 164.1 54.9 Q 163.1 55.9, 161.5 55.9 Q 159.7 55.9, 158.8 54.9 Q 157.9 53.8, 157.9 51.9 M 161.5 55.1 Q 162.6 55.1, 163.3 54.3 Q 163.9 53.5, 163.9 51.9 Q 163.9 50.4, 163.3 49.6 Q 162.6 48.9, 161.5 48.9 Q 160.3 48.9, 159.6 49.6 Q 159.0 50.4, 159.0 51.9 Q 159.0 53.5, 159.6 54.3 Q 160.3 55.1, 161.5 55.1 \" fill=\"#FF0000\"/>\n",
       "</svg>"
      ],
      "text/plain": [
       "<IPython.core.display.SVG object>"
      ]
     },
     "execution_count": 13,
     "metadata": {},
     "output_type": "execute_result"
    }
   ],
   "source": [
    "big_smiles_gen(big)"
   ]
  },
  {
   "cell_type": "code",
   "execution_count": 14,
   "id": "de885cd0",
   "metadata": {},
   "outputs": [
    {
     "data": {
      "image/svg+xml": [
       "<svg xmlns=\"http://www.w3.org/2000/svg\" xmlns:rdkit=\"http://www.rdkit.org/xml\" xmlns:xlink=\"http://www.w3.org/1999/xlink\" version=\"1.1\" baseProfile=\"full\" xml:space=\"preserve\" width=\"450px\" height=\"150px\" viewBox=\"0 0 450 150\">\n",
       "<!-- END OF HEADER -->\n",
       "<rect style=\"opacity:1.0;fill:#FFFFFF;stroke:none\" width=\"450.0\" height=\"150.0\" x=\"0.0\" y=\"0.0\"> </rect>\n",
       "<path class=\"bond-0 atom-0 atom-1\" d=\"M 218.2,13.1 L 227.5,18.6\" style=\"fill:none;fill-rule:evenodd;stroke:#FF0000;stroke-width:2.0px;stroke-linecap:butt;stroke-linejoin:miter;stroke-opacity:1\"/>\n",
       "<path class=\"bond-0 atom-0 atom-1\" d=\"M 227.5,18.6 L 236.9,24.0\" style=\"fill:none;fill-rule:evenodd;stroke:#000000;stroke-width:2.0px;stroke-linecap:butt;stroke-linejoin:miter;stroke-opacity:1\"/>\n",
       "<path class=\"bond-1 atom-2 atom-3\" d=\"M 236.7,50.6 L 259.7,64.0\" style=\"fill:none;fill-rule:evenodd;stroke:#000000;stroke-width:2.0px;stroke-linecap:butt;stroke-linejoin:miter;stroke-opacity:1\"/>\n",
       "<path class=\"bond-2 atom-3 atom-4\" d=\"M 259.7,64.0 L 259.5,90.5\" style=\"fill:none;fill-rule:evenodd;stroke:#000000;stroke-width:2.0px;stroke-linecap:butt;stroke-linejoin:miter;stroke-opacity:1\"/>\n",
       "<path class=\"bond-3 atom-4 atom-5\" d=\"M 259.5,90.5 L 282.5,103.9\" style=\"fill:none;fill-rule:evenodd;stroke:#000000;stroke-width:2.0px;stroke-linecap:butt;stroke-linejoin:miter;stroke-opacity:1\"/>\n",
       "<path class=\"bond-4 atom-5 atom-6\" d=\"M 282.5,103.9 L 305.5,90.7\" style=\"fill:none;fill-rule:evenodd;stroke:#000000;stroke-width:2.0px;stroke-linecap:butt;stroke-linejoin:miter;stroke-opacity:1\"/>\n",
       "<path class=\"bond-5 atom-6 atom-7\" d=\"M 305.5,90.7 L 305.7,64.2\" style=\"fill:none;fill-rule:evenodd;stroke:#000000;stroke-width:2.0px;stroke-linecap:butt;stroke-linejoin:miter;stroke-opacity:1\"/>\n",
       "<path class=\"bond-6 atom-7 atom-8\" d=\"M 305.7,64.2 L 282.7,50.8\" style=\"fill:none;fill-rule:evenodd;stroke:#000000;stroke-width:2.0px;stroke-linecap:butt;stroke-linejoin:miter;stroke-opacity:1\"/>\n",
       "<path class=\"bond-7 atom-8 atom-3\" d=\"M 282.7,50.8 L 259.7,64.0\" style=\"fill:none;fill-rule:evenodd;stroke:#000000;stroke-width:2.0px;stroke-linecap:butt;stroke-linejoin:miter;stroke-opacity:1\"/>\n",
       "<path class=\"bond-8 atom-1 atom-2\" d=\"M 236.9,24.0 L 236.7,50.6\" style=\"fill:none;fill-rule:evenodd;stroke:#000000;stroke-width:2.0px;stroke-linecap:butt;stroke-linejoin:miter;stroke-opacity:1\"/>\n",
       "<path class=\"bond-9 atom-9 atom-10\" d=\"M 213.7,63.7 L 190.7,50.3\" style=\"fill:none;fill-rule:evenodd;stroke:#000000;stroke-width:2.0px;stroke-linecap:butt;stroke-linejoin:miter;stroke-opacity:1\"/>\n",
       "<path class=\"bond-10 atom-10 atom-11\" d=\"M 190.7,50.3 L 190.9,23.8\" style=\"fill:none;fill-rule:evenodd;stroke:#000000;stroke-width:2.0px;stroke-linecap:butt;stroke-linejoin:miter;stroke-opacity:1\"/>\n",
       "<path class=\"bond-11 atom-11 atom-12\" d=\"M 190.9,23.8 L 167.9,10.4\" style=\"fill:none;fill-rule:evenodd;stroke:#000000;stroke-width:2.0px;stroke-linecap:butt;stroke-linejoin:miter;stroke-opacity:1\"/>\n",
       "<path class=\"bond-12 atom-12 atom-13\" d=\"M 167.9,10.4 L 144.9,23.6\" style=\"fill:none;fill-rule:evenodd;stroke:#000000;stroke-width:2.0px;stroke-linecap:butt;stroke-linejoin:miter;stroke-opacity:1\"/>\n",
       "<path class=\"bond-13 atom-13 atom-14\" d=\"M 144.9,23.6 L 144.7,50.1\" style=\"fill:none;fill-rule:evenodd;stroke:#000000;stroke-width:2.0px;stroke-linecap:butt;stroke-linejoin:miter;stroke-opacity:1\"/>\n",
       "<path class=\"bond-14 atom-14 atom-15\" d=\"M 144.7,50.1 L 167.7,63.5\" style=\"fill:none;fill-rule:evenodd;stroke:#000000;stroke-width:2.0px;stroke-linecap:butt;stroke-linejoin:miter;stroke-opacity:1\"/>\n",
       "<path class=\"bond-15 atom-15 atom-10\" d=\"M 167.7,63.5 L 190.7,50.3\" style=\"fill:none;fill-rule:evenodd;stroke:#000000;stroke-width:2.0px;stroke-linecap:butt;stroke-linejoin:miter;stroke-opacity:1\"/>\n",
       "<path class=\"bond-16 atom-2 atom-9\" d=\"M 236.7,50.6 L 213.7,63.7\" style=\"fill:none;fill-rule:evenodd;stroke:#000000;stroke-width:2.0px;stroke-linecap:butt;stroke-linejoin:miter;stroke-opacity:1\"/>\n",
       "<path class=\"bond-17 atom-16 atom-17\" d=\"M 213.5,90.3 L 190.5,103.5\" style=\"fill:none;fill-rule:evenodd;stroke:#000000;stroke-width:2.0px;stroke-linecap:butt;stroke-linejoin:miter;stroke-opacity:1\"/>\n",
       "<path class=\"bond-18 atom-17 atom-18\" d=\"M 190.5,103.5 L 167.5,90.1\" style=\"fill:none;fill-rule:evenodd;stroke:#000000;stroke-width:2.0px;stroke-linecap:butt;stroke-linejoin:miter;stroke-opacity:1\"/>\n",
       "<path class=\"bond-19 atom-18 atom-19\" d=\"M 167.5,90.1 L 144.5,103.2\" style=\"fill:none;fill-rule:evenodd;stroke:#000000;stroke-width:2.0px;stroke-linecap:butt;stroke-linejoin:miter;stroke-opacity:1\"/>\n",
       "<path class=\"bond-20 atom-19 atom-20\" d=\"M 144.5,103.2 L 144.3,129.8\" style=\"fill:none;fill-rule:evenodd;stroke:#000000;stroke-width:2.0px;stroke-linecap:butt;stroke-linejoin:miter;stroke-opacity:1\"/>\n",
       "<path class=\"bond-21 atom-20 atom-21\" d=\"M 144.3,129.8 L 167.3,143.2\" style=\"fill:none;fill-rule:evenodd;stroke:#000000;stroke-width:2.0px;stroke-linecap:butt;stroke-linejoin:miter;stroke-opacity:1\"/>\n",
       "<path class=\"bond-22 atom-21 atom-22\" d=\"M 167.3,143.2 L 190.3,130.0\" style=\"fill:none;fill-rule:evenodd;stroke:#000000;stroke-width:2.0px;stroke-linecap:butt;stroke-linejoin:miter;stroke-opacity:1\"/>\n",
       "<path class=\"bond-23 atom-22 atom-17\" d=\"M 190.3,130.0 L 190.5,103.5\" style=\"fill:none;fill-rule:evenodd;stroke:#000000;stroke-width:2.0px;stroke-linecap:butt;stroke-linejoin:miter;stroke-opacity:1\"/>\n",
       "<path class=\"bond-24 atom-9 atom-16\" d=\"M 213.7,63.7 L 213.5,90.3\" style=\"fill:none;fill-rule:evenodd;stroke:#000000;stroke-width:2.0px;stroke-linecap:butt;stroke-linejoin:miter;stroke-opacity:1\"/>\n",
       "<path class=\"bond-25 atom-23 atom-24\" d=\"M 236.5,103.7 L 236.4,114.6\" style=\"fill:none;fill-rule:evenodd;stroke:#000000;stroke-width:2.0px;stroke-linecap:butt;stroke-linejoin:miter;stroke-opacity:1\"/>\n",
       "<path class=\"bond-25 atom-23 atom-24\" d=\"M 236.4,114.6 L 236.4,125.6\" style=\"fill:none;fill-rule:evenodd;stroke:#FF0000;stroke-width:2.0px;stroke-linecap:butt;stroke-linejoin:miter;stroke-opacity:1\"/>\n",
       "<path class=\"bond-26 atom-16 atom-23\" d=\"M 213.5,90.3 L 236.5,103.7\" style=\"fill:none;fill-rule:evenodd;stroke:#000000;stroke-width:2.0px;stroke-linecap:butt;stroke-linejoin:miter;stroke-opacity:1\"/>\n",
       "<path class=\"atom-0\" d=\"M 203.7 6.9 L 204.7 6.9 L 204.7 10.1 L 208.5 10.1 L 208.5 6.9 L 209.6 6.9 L 209.6 14.4 L 208.5 14.4 L 208.5 11.0 L 204.7 11.0 L 204.7 14.4 L 203.7 14.4 L 203.7 6.9 \" fill=\"#FF0000\"/>\n",
       "<path class=\"atom-0\" d=\"M 210.5 10.6 Q 210.5 8.8, 211.4 7.8 Q 212.2 6.8, 213.9 6.8 Q 215.6 6.8, 216.5 7.8 Q 217.4 8.8, 217.4 10.6 Q 217.4 12.5, 216.5 13.5 Q 215.6 14.5, 213.9 14.5 Q 212.3 14.5, 211.4 13.5 Q 210.5 12.5, 210.5 10.6 M 213.9 13.7 Q 215.1 13.7, 215.7 12.9 Q 216.3 12.2, 216.3 10.6 Q 216.3 9.2, 215.7 8.4 Q 215.1 7.7, 213.9 7.7 Q 212.8 7.7, 212.1 8.4 Q 211.5 9.2, 211.5 10.6 Q 211.5 12.2, 212.1 12.9 Q 212.8 13.7, 213.9 13.7 \" fill=\"#FF0000\"/>\n",
       "<path class=\"atom-24\" d=\"M 232.9 130.3 Q 232.9 128.5, 233.8 127.4 Q 234.7 126.4, 236.3 126.4 Q 238.0 126.4, 238.9 127.4 Q 239.8 128.5, 239.8 130.3 Q 239.8 132.1, 238.9 133.1 Q 238.0 134.2, 236.3 134.2 Q 234.7 134.2, 233.8 133.1 Q 232.9 132.1, 232.9 130.3 M 236.3 133.3 Q 237.5 133.3, 238.1 132.5 Q 238.7 131.8, 238.7 130.3 Q 238.7 128.8, 238.1 128.0 Q 237.5 127.3, 236.3 127.3 Q 235.2 127.3, 234.6 128.0 Q 233.9 128.8, 233.9 130.3 Q 233.9 131.8, 234.6 132.5 Q 235.2 133.3, 236.3 133.3 \" fill=\"#FF0000\"/>\n",
       "<path class=\"atom-24\" d=\"M 240.3 126.5 L 241.3 126.5 L 241.3 129.7 L 245.2 129.7 L 245.2 126.5 L 246.2 126.5 L 246.2 134.0 L 245.2 134.0 L 245.2 130.6 L 241.3 130.6 L 241.3 134.0 L 240.3 134.0 L 240.3 126.5 \" fill=\"#FF0000\"/>\n",
       "</svg>"
      ],
      "text/plain": [
       "<IPython.core.display.SVG object>"
      ]
     },
     "execution_count": 14,
     "metadata": {},
     "output_type": "execute_result"
    }
   ],
   "source": [
    "big_smiles_gen(big)"
   ]
  },
  {
   "cell_type": "markdown",
   "id": "d978619a",
   "metadata": {},
   "source": [
    "# Polyamides\n",
    "## Di-Carboxylic Acids"
   ]
  },
  {
   "cell_type": "code",
   "execution_count": 15,
   "id": "6a88d483",
   "metadata": {},
   "outputs": [
    {
     "data": {
      "text/plain": [
       "'NC{[$][$]C[$][$]}|gauss(60, 24)|COO'"
      ]
     },
     "execution_count": 15,
     "metadata": {},
     "output_type": "execute_result"
    }
   ],
   "source": [
    "big = \"NC{[$][$]C[$][$]}|gauss(60, 24)|COO\"\n",
    "big"
   ]
  },
  {
   "cell_type": "code",
   "execution_count": 16,
   "id": "2f11a3e7",
   "metadata": {},
   "outputs": [
    {
     "data": {
      "image/svg+xml": [
       "<svg xmlns=\"http://www.w3.org/2000/svg\" xmlns:rdkit=\"http://www.rdkit.org/xml\" xmlns:xlink=\"http://www.w3.org/1999/xlink\" version=\"1.1\" baseProfile=\"full\" xml:space=\"preserve\" width=\"450px\" height=\"150px\" viewBox=\"0 0 450 150\">\n",
       "<!-- END OF HEADER -->\n",
       "<rect style=\"opacity:1.0;fill:#FFFFFF;stroke:none\" width=\"450.0\" height=\"150.0\" x=\"0.0\" y=\"0.0\"> </rect>\n",
       "<path class=\"bond-0 atom-0 atom-1\" d=\"M 48.1,67.7 L 63.7,76.6\" style=\"fill:none;fill-rule:evenodd;stroke:#0000FF;stroke-width:2.0px;stroke-linecap:butt;stroke-linejoin:miter;stroke-opacity:1\"/>\n",
       "<path class=\"bond-0 atom-0 atom-1\" d=\"M 63.7,76.6 L 79.3,85.6\" style=\"fill:none;fill-rule:evenodd;stroke:#000000;stroke-width:2.0px;stroke-linecap:butt;stroke-linejoin:miter;stroke-opacity:1\"/>\n",
       "<path class=\"bond-1 atom-1 atom-2\" d=\"M 79.3,85.6 L 116.4,64.2\" style=\"fill:none;fill-rule:evenodd;stroke:#000000;stroke-width:2.0px;stroke-linecap:butt;stroke-linejoin:miter;stroke-opacity:1\"/>\n",
       "<path class=\"bond-2 atom-2 atom-3\" d=\"M 116.4,64.2 L 153.6,85.6\" style=\"fill:none;fill-rule:evenodd;stroke:#000000;stroke-width:2.0px;stroke-linecap:butt;stroke-linejoin:miter;stroke-opacity:1\"/>\n",
       "<path class=\"bond-3 atom-3 atom-4\" d=\"M 153.6,85.6 L 190.7,64.2\" style=\"fill:none;fill-rule:evenodd;stroke:#000000;stroke-width:2.0px;stroke-linecap:butt;stroke-linejoin:miter;stroke-opacity:1\"/>\n",
       "<path class=\"bond-4 atom-4 atom-5\" d=\"M 190.7,64.2 L 227.9,85.6\" style=\"fill:none;fill-rule:evenodd;stroke:#000000;stroke-width:2.0px;stroke-linecap:butt;stroke-linejoin:miter;stroke-opacity:1\"/>\n",
       "<path class=\"bond-5 atom-5 atom-6\" d=\"M 227.9,85.6 L 265.0,64.2\" style=\"fill:none;fill-rule:evenodd;stroke:#000000;stroke-width:2.0px;stroke-linecap:butt;stroke-linejoin:miter;stroke-opacity:1\"/>\n",
       "<path class=\"bond-6 atom-6 atom-7\" d=\"M 265.0,64.2 L 302.2,85.6\" style=\"fill:none;fill-rule:evenodd;stroke:#000000;stroke-width:2.0px;stroke-linecap:butt;stroke-linejoin:miter;stroke-opacity:1\"/>\n",
       "<path class=\"bond-7 atom-8 atom-9\" d=\"M 339.3,64.2 L 354.4,72.9\" style=\"fill:none;fill-rule:evenodd;stroke:#000000;stroke-width:2.0px;stroke-linecap:butt;stroke-linejoin:miter;stroke-opacity:1\"/>\n",
       "<path class=\"bond-7 atom-8 atom-9\" d=\"M 354.4,72.9 L 369.5,81.6\" style=\"fill:none;fill-rule:evenodd;stroke:#FF0000;stroke-width:2.0px;stroke-linecap:butt;stroke-linejoin:miter;stroke-opacity:1\"/>\n",
       "<path class=\"bond-8 atom-9 atom-10\" d=\"M 383.4,81.6 L 406.6,68.2\" style=\"fill:none;fill-rule:evenodd;stroke:#FF0000;stroke-width:2.0px;stroke-linecap:butt;stroke-linejoin:miter;stroke-opacity:1\"/>\n",
       "<path class=\"bond-9 atom-7 atom-8\" d=\"M 302.2,85.6 L 339.3,64.2\" style=\"fill:none;fill-rule:evenodd;stroke:#000000;stroke-width:2.0px;stroke-linecap:butt;stroke-linejoin:miter;stroke-opacity:1\"/>\n",
       "<path class=\"atom-0\" d=\"M 20.5 58.1 L 22.1 58.1 L 22.1 63.3 L 28.3 63.3 L 28.3 58.1 L 30.0 58.1 L 30.0 70.3 L 28.3 70.3 L 28.3 64.6 L 22.1 64.6 L 22.1 70.3 L 20.5 70.3 L 20.5 58.1 \" fill=\"#0000FF\"/>\n",
       "<path class=\"atom-0\" d=\"M 31.4 69.8 Q 31.7 69.1, 32.4 68.7 Q 33.1 68.2, 34.1 68.2 Q 35.3 68.2, 36.0 68.9 Q 36.7 69.5, 36.7 70.7 Q 36.7 71.9, 35.8 73.0 Q 34.9 74.1, 33.1 75.4 L 36.8 75.4 L 36.8 76.3 L 31.4 76.3 L 31.4 75.6 Q 32.9 74.5, 33.8 73.7 Q 34.7 72.9, 35.1 72.2 Q 35.6 71.5, 35.6 70.8 Q 35.6 70.0, 35.2 69.6 Q 34.8 69.1, 34.1 69.1 Q 33.5 69.1, 33.0 69.4 Q 32.6 69.6, 32.3 70.2 L 31.4 69.8 \" fill=\"#0000FF\"/>\n",
       "<path class=\"atom-0\" d=\"M 39.4 58.1 L 43.4 64.5 Q 43.8 65.2, 44.4 66.3 Q 45.1 67.5, 45.1 67.5 L 45.1 58.1 L 46.7 58.1 L 46.7 70.3 L 45.1 70.3 L 40.8 63.2 Q 40.3 62.4, 39.7 61.5 Q 39.2 60.5, 39.1 60.2 L 39.1 70.3 L 37.5 70.3 L 37.5 58.1 L 39.4 58.1 \" fill=\"#0000FF\"/>\n",
       "<path class=\"atom-9\" d=\"M 370.9 85.7 Q 370.9 82.7, 372.3 81.1 Q 373.8 79.5, 376.5 79.5 Q 379.1 79.5, 380.6 81.1 Q 382.0 82.7, 382.0 85.7 Q 382.0 88.6, 380.6 90.3 Q 379.1 92.0, 376.5 92.0 Q 373.8 92.0, 372.3 90.3 Q 370.9 88.6, 370.9 85.7 M 376.5 90.6 Q 378.3 90.6, 379.3 89.4 Q 380.3 88.1, 380.3 85.7 Q 380.3 83.3, 379.3 82.1 Q 378.3 80.9, 376.5 80.9 Q 374.6 80.9, 373.6 82.1 Q 372.6 83.3, 372.6 85.7 Q 372.6 88.1, 373.6 89.4 Q 374.6 90.6, 376.5 90.6 \" fill=\"#FF0000\"/>\n",
       "<path class=\"atom-10\" d=\"M 408.0 64.2 Q 408.0 61.3, 409.5 59.7 Q 410.9 58.0, 413.6 58.0 Q 416.3 58.0, 417.7 59.7 Q 419.2 61.3, 419.2 64.2 Q 419.2 67.2, 417.7 68.8 Q 416.3 70.5, 413.6 70.5 Q 410.9 70.5, 409.5 68.8 Q 408.0 67.2, 408.0 64.2 M 413.6 69.1 Q 415.5 69.1, 416.5 67.9 Q 417.5 66.7, 417.5 64.2 Q 417.5 61.8, 416.5 60.6 Q 415.5 59.4, 413.6 59.4 Q 411.8 59.4, 410.7 60.6 Q 409.7 61.8, 409.7 64.2 Q 409.7 66.7, 410.7 67.9 Q 411.8 69.1, 413.6 69.1 \" fill=\"#FF0000\"/>\n",
       "<path class=\"atom-10\" d=\"M 420.0 58.2 L 421.7 58.2 L 421.7 63.3 L 427.9 63.3 L 427.9 58.2 L 429.5 58.2 L 429.5 70.3 L 427.9 70.3 L 427.9 64.7 L 421.7 64.7 L 421.7 70.3 L 420.0 70.3 L 420.0 58.2 \" fill=\"#FF0000\"/>\n",
       "</svg>"
      ],
      "text/plain": [
       "<IPython.core.display.SVG object>"
      ]
     },
     "execution_count": 16,
     "metadata": {},
     "output_type": "execute_result"
    }
   ],
   "source": [
    "big_smiles_gen(big)"
   ]
  },
  {
   "cell_type": "code",
   "execution_count": 17,
   "id": "a935520e",
   "metadata": {},
   "outputs": [
    {
     "data": {
      "image/svg+xml": [
       "<svg xmlns=\"http://www.w3.org/2000/svg\" xmlns:rdkit=\"http://www.rdkit.org/xml\" xmlns:xlink=\"http://www.w3.org/1999/xlink\" version=\"1.1\" baseProfile=\"full\" xml:space=\"preserve\" width=\"450px\" height=\"150px\" viewBox=\"0 0 450 150\">\n",
       "<!-- END OF HEADER -->\n",
       "<rect style=\"opacity:1.0;fill:#FFFFFF;stroke:none\" width=\"450.0\" height=\"150.0\" x=\"0.0\" y=\"0.0\"> </rect>\n",
       "<path class=\"bond-0 atom-0 atom-1\" d=\"M 390.7,75.9 L 369.1,64.2\" style=\"fill:none;fill-rule:evenodd;stroke:#0000FF;stroke-width:2.0px;stroke-linecap:butt;stroke-linejoin:miter;stroke-opacity:1\"/>\n",
       "<path class=\"bond-0 atom-0 atom-1\" d=\"M 369.1,64.2 L 347.4,52.5\" style=\"fill:none;fill-rule:evenodd;stroke:#000000;stroke-width:2.0px;stroke-linecap:butt;stroke-linejoin:miter;stroke-opacity:1\"/>\n",
       "<path class=\"bond-1 atom-1 atom-2\" d=\"M 347.4,52.5 L 297.5,83.2\" style=\"fill:none;fill-rule:evenodd;stroke:#000000;stroke-width:2.0px;stroke-linecap:butt;stroke-linejoin:miter;stroke-opacity:1\"/>\n",
       "<path class=\"bond-2 atom-2 atom-3\" d=\"M 297.5,83.2 L 246.0,55.3\" style=\"fill:none;fill-rule:evenodd;stroke:#000000;stroke-width:2.0px;stroke-linecap:butt;stroke-linejoin:miter;stroke-opacity:1\"/>\n",
       "<path class=\"bond-3 atom-3 atom-4\" d=\"M 246.0,55.3 L 196.0,86.0\" style=\"fill:none;fill-rule:evenodd;stroke:#000000;stroke-width:2.0px;stroke-linecap:butt;stroke-linejoin:miter;stroke-opacity:1\"/>\n",
       "<path class=\"bond-4 atom-5 atom-6\" d=\"M 144.5,58.2 L 124.3,70.6\" style=\"fill:none;fill-rule:evenodd;stroke:#000000;stroke-width:2.0px;stroke-linecap:butt;stroke-linejoin:miter;stroke-opacity:1\"/>\n",
       "<path class=\"bond-4 atom-5 atom-6\" d=\"M 124.3,70.6 L 104.1,83.0\" style=\"fill:none;fill-rule:evenodd;stroke:#FF0000;stroke-width:2.0px;stroke-linecap:butt;stroke-linejoin:miter;stroke-opacity:1\"/>\n",
       "<path class=\"bond-5 atom-6 atom-7\" d=\"M 85.0,83.7 L 52.6,66.2\" style=\"fill:none;fill-rule:evenodd;stroke:#FF0000;stroke-width:2.0px;stroke-linecap:butt;stroke-linejoin:miter;stroke-opacity:1\"/>\n",
       "<path class=\"bond-6 atom-4 atom-5\" d=\"M 196.0,86.0 L 144.5,58.2\" style=\"fill:none;fill-rule:evenodd;stroke:#000000;stroke-width:2.0px;stroke-linecap:butt;stroke-linejoin:miter;stroke-opacity:1\"/>\n",
       "<path class=\"atom-0\" d=\"M 395.3 72.1 L 400.7 80.9 Q 401.3 81.7, 402.1 83.3 Q 403.0 84.9, 403.0 85.0 L 403.0 72.1 L 405.2 72.1 L 405.2 88.7 L 403.0 88.7 L 397.1 79.1 Q 396.5 77.9, 395.7 76.6 Q 395.0 75.3, 394.8 74.9 L 394.8 88.7 L 392.7 88.7 L 392.7 72.1 L 395.3 72.1 \" fill=\"#0000FF\"/>\n",
       "<path class=\"atom-0\" d=\"M 407.2 72.1 L 409.4 72.1 L 409.4 79.1 L 417.9 79.1 L 417.9 72.1 L 420.2 72.1 L 420.2 88.7 L 417.9 88.7 L 417.9 81.0 L 409.4 81.0 L 409.4 88.7 L 407.2 88.7 L 407.2 72.1 \" fill=\"#0000FF\"/>\n",
       "<path class=\"atom-0\" d=\"M 422.2 88.1 Q 422.6 87.0, 423.6 86.5 Q 424.5 85.9, 425.8 85.9 Q 427.5 85.9, 428.4 86.8 Q 429.4 87.7, 429.4 89.3 Q 429.4 90.9, 428.2 92.4 Q 427.0 93.9, 424.5 95.7 L 429.5 95.7 L 429.5 97.0 L 422.2 97.0 L 422.2 95.9 Q 424.2 94.5, 425.4 93.4 Q 426.6 92.3, 427.2 91.3 Q 427.8 90.4, 427.8 89.3 Q 427.8 88.3, 427.3 87.7 Q 426.8 87.1, 425.8 87.1 Q 425.0 87.1, 424.4 87.5 Q 423.8 87.8, 423.4 88.6 L 422.2 88.1 \" fill=\"#0000FF\"/>\n",
       "<path class=\"atom-6\" d=\"M 87.0 88.9 Q 87.0 84.9, 88.9 82.7 Q 90.9 80.5, 94.6 80.5 Q 98.3 80.5, 100.2 82.7 Q 102.2 84.9, 102.2 88.9 Q 102.2 92.9, 100.2 95.2 Q 98.2 97.5, 94.6 97.5 Q 90.9 97.5, 88.9 95.2 Q 87.0 93.0, 87.0 88.9 M 94.6 95.6 Q 97.1 95.6, 98.5 93.9 Q 99.9 92.2, 99.9 88.9 Q 99.9 85.6, 98.5 84.0 Q 97.1 82.3, 94.6 82.3 Q 92.1 82.3, 90.7 84.0 Q 89.3 85.6, 89.3 88.9 Q 89.3 92.3, 90.7 93.9 Q 92.1 95.6, 94.6 95.6 \" fill=\"#FF0000\"/>\n",
       "<path class=\"atom-7\" d=\"M 20.5 52.8 L 22.7 52.8 L 22.7 59.8 L 31.2 59.8 L 31.2 52.8 L 33.4 52.8 L 33.4 69.4 L 31.2 69.4 L 31.2 61.7 L 22.7 61.7 L 22.7 69.4 L 20.5 69.4 L 20.5 52.8 \" fill=\"#FF0000\"/>\n",
       "<path class=\"atom-7\" d=\"M 35.4 61.0 Q 35.4 57.1, 37.4 54.8 Q 39.4 52.6, 43.0 52.6 Q 46.7 52.6, 48.7 54.8 Q 50.7 57.1, 50.7 61.0 Q 50.7 65.1, 48.7 67.4 Q 46.7 69.6, 43.0 69.6 Q 39.4 69.6, 37.4 67.4 Q 35.4 65.1, 35.4 61.0 M 43.0 67.8 Q 45.6 67.8, 46.9 66.1 Q 48.3 64.4, 48.3 61.0 Q 48.3 57.8, 46.9 56.1 Q 45.6 54.5, 43.0 54.5 Q 40.5 54.5, 39.1 56.1 Q 37.8 57.8, 37.8 61.0 Q 37.8 64.4, 39.1 66.1 Q 40.5 67.8, 43.0 67.8 \" fill=\"#FF0000\"/>\n",
       "</svg>"
      ],
      "text/plain": [
       "<IPython.core.display.SVG object>"
      ]
     },
     "execution_count": 17,
     "metadata": {},
     "output_type": "execute_result"
    }
   ],
   "source": [
    "big_smiles_gen(big)"
   ]
  },
  {
   "cell_type": "markdown",
   "id": "7e77762a",
   "metadata": {},
   "source": [
    "## Diamines"
   ]
  },
  {
   "cell_type": "code",
   "execution_count": 18,
   "id": "03a604a8",
   "metadata": {},
   "outputs": [
    {
     "data": {
      "text/plain": [
       "'NC{[$][$]C[$][$]}|gauss(60,24)|CN'"
      ]
     },
     "execution_count": 18,
     "metadata": {},
     "output_type": "execute_result"
    }
   ],
   "source": [
    "big = \"NC{[$][$]C[$][$]}|gauss(60,24)|CN\"\n",
    "big"
   ]
  },
  {
   "cell_type": "code",
   "execution_count": 19,
   "id": "7e2e267d",
   "metadata": {},
   "outputs": [
    {
     "data": {
      "image/svg+xml": [
       "<svg xmlns=\"http://www.w3.org/2000/svg\" xmlns:rdkit=\"http://www.rdkit.org/xml\" xmlns:xlink=\"http://www.w3.org/1999/xlink\" version=\"1.1\" baseProfile=\"full\" xml:space=\"preserve\" width=\"450px\" height=\"150px\" viewBox=\"0 0 450 150\">\n",
       "<!-- END OF HEADER -->\n",
       "<rect style=\"opacity:1.0;fill:#FFFFFF;stroke:none\" width=\"450.0\" height=\"150.0\" x=\"0.0\" y=\"0.0\"> </rect>\n",
       "<path class=\"bond-0 atom-0 atom-1\" d=\"M 62.9,68.5 L 86.7,82.3\" style=\"fill:none;fill-rule:evenodd;stroke:#0000FF;stroke-width:2.0px;stroke-linecap:butt;stroke-linejoin:miter;stroke-opacity:1\"/>\n",
       "<path class=\"bond-0 atom-0 atom-1\" d=\"M 86.7,82.3 L 110.6,96.1\" style=\"fill:none;fill-rule:evenodd;stroke:#000000;stroke-width:2.0px;stroke-linecap:butt;stroke-linejoin:miter;stroke-opacity:1\"/>\n",
       "<path class=\"bond-1 atom-1 atom-2\" d=\"M 110.6,96.1 L 167.5,63.2\" style=\"fill:none;fill-rule:evenodd;stroke:#000000;stroke-width:2.0px;stroke-linecap:butt;stroke-linejoin:miter;stroke-opacity:1\"/>\n",
       "<path class=\"bond-2 atom-2 atom-3\" d=\"M 167.5,63.2 L 224.4,96.1\" style=\"fill:none;fill-rule:evenodd;stroke:#000000;stroke-width:2.0px;stroke-linecap:butt;stroke-linejoin:miter;stroke-opacity:1\"/>\n",
       "<path class=\"bond-3 atom-3 atom-4\" d=\"M 224.4,96.1 L 281.4,63.2\" style=\"fill:none;fill-rule:evenodd;stroke:#000000;stroke-width:2.0px;stroke-linecap:butt;stroke-linejoin:miter;stroke-opacity:1\"/>\n",
       "<path class=\"bond-4 atom-5 atom-6\" d=\"M 338.3,96.1 L 362.1,82.3\" style=\"fill:none;fill-rule:evenodd;stroke:#000000;stroke-width:2.0px;stroke-linecap:butt;stroke-linejoin:miter;stroke-opacity:1\"/>\n",
       "<path class=\"bond-4 atom-5 atom-6\" d=\"M 362.1,82.3 L 386.0,68.5\" style=\"fill:none;fill-rule:evenodd;stroke:#0000FF;stroke-width:2.0px;stroke-linecap:butt;stroke-linejoin:miter;stroke-opacity:1\"/>\n",
       "<path class=\"bond-5 atom-4 atom-5\" d=\"M 281.4,63.2 L 338.3,96.1\" style=\"fill:none;fill-rule:evenodd;stroke:#000000;stroke-width:2.0px;stroke-linecap:butt;stroke-linejoin:miter;stroke-opacity:1\"/>\n",
       "<path class=\"atom-0\" d=\"M 20.5 53.9 L 23.0 53.9 L 23.0 61.8 L 32.5 61.8 L 32.5 53.9 L 35.0 53.9 L 35.0 72.5 L 32.5 72.5 L 32.5 63.9 L 23.0 63.9 L 23.0 72.5 L 20.5 72.5 L 20.5 53.9 \" fill=\"#0000FF\"/>\n",
       "<path class=\"atom-0\" d=\"M 37.3 71.9 Q 37.7 70.7, 38.8 70.1 Q 39.9 69.4, 41.4 69.4 Q 43.2 69.4, 44.3 70.4 Q 45.3 71.4, 45.3 73.2 Q 45.3 75.0, 44.0 76.7 Q 42.6 78.4, 39.9 80.4 L 45.5 80.4 L 45.5 81.8 L 37.3 81.8 L 37.3 80.7 Q 39.5 79.0, 40.9 77.8 Q 42.3 76.6, 42.9 75.5 Q 43.6 74.4, 43.6 73.3 Q 43.6 72.1, 43.0 71.5 Q 42.4 70.8, 41.4 70.8 Q 40.4 70.8, 39.7 71.2 Q 39.1 71.6, 38.6 72.5 L 37.3 71.9 \" fill=\"#0000FF\"/>\n",
       "<path class=\"atom-0\" d=\"M 49.5 53.9 L 55.6 63.8 Q 56.2 64.7, 57.2 66.5 Q 58.2 68.3, 58.2 68.4 L 58.2 53.9 L 60.7 53.9 L 60.7 72.5 L 58.1 72.5 L 51.6 61.7 Q 50.8 60.5, 50.0 59.0 Q 49.2 57.6, 49.0 57.1 L 49.0 72.5 L 46.6 72.5 L 46.6 53.9 L 49.5 53.9 \" fill=\"#0000FF\"/>\n",
       "<path class=\"atom-6\" d=\"M 391.1 53.9 L 397.2 63.8 Q 397.8 64.7, 398.8 66.5 Q 399.8 68.3, 399.8 68.4 L 399.8 53.9 L 402.3 53.9 L 402.3 72.5 L 399.7 72.5 L 393.2 61.7 Q 392.4 60.5, 391.6 59.0 Q 390.8 57.6, 390.6 57.1 L 390.6 72.5 L 388.2 72.5 L 388.2 53.9 L 391.1 53.9 \" fill=\"#0000FF\"/>\n",
       "<path class=\"atom-6\" d=\"M 404.5 53.9 L 407.0 53.9 L 407.0 61.8 L 416.5 61.8 L 416.5 53.9 L 419.0 53.9 L 419.0 72.5 L 416.5 72.5 L 416.5 63.9 L 407.0 63.9 L 407.0 72.5 L 404.5 72.5 L 404.5 53.9 \" fill=\"#0000FF\"/>\n",
       "<path class=\"atom-6\" d=\"M 421.3 71.9 Q 421.8 70.7, 422.8 70.1 Q 423.9 69.4, 425.4 69.4 Q 427.3 69.4, 428.3 70.4 Q 429.3 71.4, 429.3 73.2 Q 429.3 75.0, 428.0 76.7 Q 426.6 78.4, 423.9 80.4 L 429.5 80.4 L 429.5 81.8 L 421.3 81.8 L 421.3 80.7 Q 423.6 79.0, 424.9 77.8 Q 426.3 76.6, 426.9 75.5 Q 427.6 74.4, 427.6 73.3 Q 427.6 72.1, 427.0 71.5 Q 426.4 70.8, 425.4 70.8 Q 424.4 70.8, 423.7 71.2 Q 423.1 71.6, 422.6 72.5 L 421.3 71.9 \" fill=\"#0000FF\"/>\n",
       "</svg>"
      ],
      "text/plain": [
       "<IPython.core.display.SVG object>"
      ]
     },
     "execution_count": 19,
     "metadata": {},
     "output_type": "execute_result"
    }
   ],
   "source": [
    "big_smiles_gen(big)"
   ]
  },
  {
   "cell_type": "code",
   "execution_count": 20,
   "id": "664eebc4",
   "metadata": {},
   "outputs": [
    {
     "data": {
      "image/svg+xml": [
       "<svg xmlns=\"http://www.w3.org/2000/svg\" xmlns:rdkit=\"http://www.rdkit.org/xml\" xmlns:xlink=\"http://www.w3.org/1999/xlink\" version=\"1.1\" baseProfile=\"full\" xml:space=\"preserve\" width=\"450px\" height=\"150px\" viewBox=\"0 0 450 150\">\n",
       "<!-- END OF HEADER -->\n",
       "<rect style=\"opacity:1.0;fill:#FFFFFF;stroke:none\" width=\"450.0\" height=\"150.0\" x=\"0.0\" y=\"0.0\"> </rect>\n",
       "<path class=\"bond-0 atom-0 atom-1\" d=\"M 391.4,76.2 L 370.1,64.7\" style=\"fill:none;fill-rule:evenodd;stroke:#0000FF;stroke-width:2.0px;stroke-linecap:butt;stroke-linejoin:miter;stroke-opacity:1\"/>\n",
       "<path class=\"bond-0 atom-0 atom-1\" d=\"M 370.1,64.7 L 348.8,53.1\" style=\"fill:none;fill-rule:evenodd;stroke:#000000;stroke-width:2.0px;stroke-linecap:butt;stroke-linejoin:miter;stroke-opacity:1\"/>\n",
       "<path class=\"bond-1 atom-1 atom-2\" d=\"M 348.8,53.1 L 299.7,83.3\" style=\"fill:none;fill-rule:evenodd;stroke:#000000;stroke-width:2.0px;stroke-linecap:butt;stroke-linejoin:miter;stroke-opacity:1\"/>\n",
       "<path class=\"bond-2 atom-2 atom-3\" d=\"M 299.7,83.3 L 249.0,55.9\" style=\"fill:none;fill-rule:evenodd;stroke:#000000;stroke-width:2.0px;stroke-linecap:butt;stroke-linejoin:miter;stroke-opacity:1\"/>\n",
       "<path class=\"bond-3 atom-3 atom-4\" d=\"M 249.0,55.9 L 200.0,86.1\" style=\"fill:none;fill-rule:evenodd;stroke:#000000;stroke-width:2.0px;stroke-linecap:butt;stroke-linejoin:miter;stroke-opacity:1\"/>\n",
       "<path class=\"bond-4 atom-4 atom-5\" d=\"M 200.0,86.1 L 149.3,58.7\" style=\"fill:none;fill-rule:evenodd;stroke:#000000;stroke-width:2.0px;stroke-linecap:butt;stroke-linejoin:miter;stroke-opacity:1\"/>\n",
       "<path class=\"bond-5 atom-6 atom-7\" d=\"M 100.2,88.9 L 78.9,77.4\" style=\"fill:none;fill-rule:evenodd;stroke:#000000;stroke-width:2.0px;stroke-linecap:butt;stroke-linejoin:miter;stroke-opacity:1\"/>\n",
       "<path class=\"bond-5 atom-6 atom-7\" d=\"M 78.9,77.4 L 57.6,65.9\" style=\"fill:none;fill-rule:evenodd;stroke:#0000FF;stroke-width:2.0px;stroke-linecap:butt;stroke-linejoin:miter;stroke-opacity:1\"/>\n",
       "<path class=\"bond-6 atom-5 atom-6\" d=\"M 149.3,58.7 L 100.2,88.9\" style=\"fill:none;fill-rule:evenodd;stroke:#000000;stroke-width:2.0px;stroke-linecap:butt;stroke-linejoin:miter;stroke-opacity:1\"/>\n",
       "<path class=\"atom-0\" d=\"M 395.9 72.4 L 401.2 81.0 Q 401.7 81.9, 402.6 83.4 Q 403.4 85.0, 403.5 85.1 L 403.5 72.4 L 405.7 72.4 L 405.7 88.7 L 403.4 88.7 L 397.7 79.3 Q 397.0 78.1, 396.3 76.9 Q 395.6 75.6, 395.4 75.2 L 395.4 88.7 L 393.3 88.7 L 393.3 72.4 L 395.9 72.4 \" fill=\"#0000FF\"/>\n",
       "<path class=\"atom-0\" d=\"M 407.6 72.4 L 409.8 72.4 L 409.8 79.3 L 418.1 79.3 L 418.1 72.4 L 420.3 72.4 L 420.3 88.7 L 418.1 88.7 L 418.1 81.2 L 409.8 81.2 L 409.8 88.7 L 407.6 88.7 L 407.6 72.4 \" fill=\"#0000FF\"/>\n",
       "<path class=\"atom-0\" d=\"M 422.3 88.1 Q 422.7 87.1, 423.7 86.5 Q 424.6 86.0, 425.9 86.0 Q 427.5 86.0, 428.5 86.9 Q 429.4 87.7, 429.4 89.3 Q 429.4 90.9, 428.2 92.4 Q 427.0 93.9, 424.6 95.6 L 429.5 95.6 L 429.5 96.9 L 422.3 96.9 L 422.3 95.8 Q 424.3 94.4, 425.5 93.3 Q 426.7 92.3, 427.3 91.3 Q 427.8 90.4, 427.8 89.4 Q 427.8 88.3, 427.3 87.8 Q 426.8 87.2, 425.9 87.2 Q 425.0 87.2, 424.5 87.5 Q 423.9 87.9, 423.5 88.7 L 422.3 88.1 \" fill=\"#0000FF\"/>\n",
       "<path class=\"atom-7\" d=\"M 20.5 53.3 L 22.7 53.3 L 22.7 60.3 L 31.0 60.3 L 31.0 53.3 L 33.2 53.3 L 33.2 69.7 L 31.0 69.7 L 31.0 62.1 L 22.7 62.1 L 22.7 69.7 L 20.5 69.7 L 20.5 53.3 \" fill=\"#0000FF\"/>\n",
       "<path class=\"atom-7\" d=\"M 35.2 69.1 Q 35.6 68.1, 36.5 67.5 Q 37.5 66.9, 38.8 66.9 Q 40.4 66.9, 41.3 67.8 Q 42.3 68.7, 42.3 70.3 Q 42.3 71.8, 41.1 73.3 Q 39.9 74.8, 37.5 76.6 L 42.4 76.6 L 42.4 77.8 L 35.2 77.8 L 35.2 76.8 Q 37.2 75.4, 38.4 74.3 Q 39.6 73.2, 40.2 72.3 Q 40.7 71.3, 40.7 70.3 Q 40.7 69.3, 40.2 68.7 Q 39.7 68.1, 38.8 68.1 Q 37.9 68.1, 37.4 68.5 Q 36.8 68.8, 36.4 69.6 L 35.2 69.1 \" fill=\"#0000FF\"/>\n",
       "<path class=\"atom-7\" d=\"M 45.9 53.3 L 51.3 62.0 Q 51.8 62.8, 52.7 64.4 Q 53.5 65.9, 53.6 66.0 L 53.6 53.3 L 55.7 53.3 L 55.7 69.7 L 53.5 69.7 L 47.7 60.2 Q 47.1 59.1, 46.4 57.8 Q 45.7 56.6, 45.5 56.2 L 45.5 69.7 L 43.3 69.7 L 43.3 53.3 L 45.9 53.3 \" fill=\"#0000FF\"/>\n",
       "</svg>"
      ],
      "text/plain": [
       "<IPython.core.display.SVG object>"
      ]
     },
     "execution_count": 20,
     "metadata": {},
     "output_type": "execute_result"
    }
   ],
   "source": [
    "big_smiles_gen(big)"
   ]
  },
  {
   "cell_type": "markdown",
   "id": "9a2be904",
   "metadata": {},
   "source": [
    "## New: Reaction of diol with di-acid"
   ]
  },
  {
   "cell_type": "code",
   "execution_count": 21,
   "id": "cd2a583f",
   "metadata": {},
   "outputs": [
    {
     "data": {
      "text/plain": [
       "'NC{[$][$]C[$][$]}|uniform(12, 72)|COOC{[$][$]C[$][$]}|uniform(12, 72)|CO'"
      ]
     },
     "execution_count": 21,
     "metadata": {},
     "output_type": "execute_result"
    }
   ],
   "source": [
    "big = \"NC{[$][$]C[$][$]}|uniform(12, 72)|COOC{[$][$]C[$][$]}|uniform(12, 72)|CO\"\n",
    "big"
   ]
  },
  {
   "cell_type": "code",
   "execution_count": 22,
   "id": "9ce377b0",
   "metadata": {},
   "outputs": [
    {
     "data": {
      "image/svg+xml": [
       "<svg xmlns=\"http://www.w3.org/2000/svg\" xmlns:rdkit=\"http://www.rdkit.org/xml\" xmlns:xlink=\"http://www.w3.org/1999/xlink\" version=\"1.1\" baseProfile=\"full\" xml:space=\"preserve\" width=\"450px\" height=\"150px\" viewBox=\"0 0 450 150\">\n",
       "<!-- END OF HEADER -->\n",
       "<rect style=\"opacity:1.0;fill:#FFFFFF;stroke:none\" width=\"450.0\" height=\"150.0\" x=\"0.0\" y=\"0.0\"> </rect>\n",
       "<path class=\"bond-0 atom-0 atom-1\" d=\"M 407.3,77.5 L 395.0,70.5\" style=\"fill:none;fill-rule:evenodd;stroke:#0000FF;stroke-width:2.0px;stroke-linecap:butt;stroke-linejoin:miter;stroke-opacity:1\"/>\n",
       "<path class=\"bond-0 atom-0 atom-1\" d=\"M 395.0,70.5 L 382.7,63.6\" style=\"fill:none;fill-rule:evenodd;stroke:#000000;stroke-width:2.0px;stroke-linecap:butt;stroke-linejoin:miter;stroke-opacity:1\"/>\n",
       "<path class=\"bond-1 atom-1 atom-2\" d=\"M 382.7,63.6 L 353.8,80.7\" style=\"fill:none;fill-rule:evenodd;stroke:#000000;stroke-width:2.0px;stroke-linecap:butt;stroke-linejoin:miter;stroke-opacity:1\"/>\n",
       "<path class=\"bond-2 atom-2 atom-3\" d=\"M 353.8,80.7 L 324.5,64.1\" style=\"fill:none;fill-rule:evenodd;stroke:#000000;stroke-width:2.0px;stroke-linecap:butt;stroke-linejoin:miter;stroke-opacity:1\"/>\n",
       "<path class=\"bond-3 atom-3 atom-4\" d=\"M 324.5,64.1 L 295.6,81.2\" style=\"fill:none;fill-rule:evenodd;stroke:#000000;stroke-width:2.0px;stroke-linecap:butt;stroke-linejoin:miter;stroke-opacity:1\"/>\n",
       "<path class=\"bond-4 atom-4 atom-5\" d=\"M 295.6,81.2 L 266.3,64.6\" style=\"fill:none;fill-rule:evenodd;stroke:#000000;stroke-width:2.0px;stroke-linecap:butt;stroke-linejoin:miter;stroke-opacity:1\"/>\n",
       "<path class=\"bond-5 atom-6 atom-7\" d=\"M 149.9,65.7 L 161.7,72.4\" style=\"fill:none;fill-rule:evenodd;stroke:#000000;stroke-width:2.0px;stroke-linecap:butt;stroke-linejoin:miter;stroke-opacity:1\"/>\n",
       "<path class=\"bond-5 atom-6 atom-7\" d=\"M 161.7,72.4 L 173.6,79.1\" style=\"fill:none;fill-rule:evenodd;stroke:#FF0000;stroke-width:2.0px;stroke-linecap:butt;stroke-linejoin:miter;stroke-opacity:1\"/>\n",
       "<path class=\"bond-6 atom-7 atom-8\" d=\"M 184.6,79.0 L 202.6,68.4\" style=\"fill:none;fill-rule:evenodd;stroke:#FF0000;stroke-width:2.0px;stroke-linecap:butt;stroke-linejoin:miter;stroke-opacity:1\"/>\n",
       "<path class=\"bond-7 atom-8 atom-9\" d=\"M 213.6,68.3 L 225.4,75.0\" style=\"fill:none;fill-rule:evenodd;stroke:#FF0000;stroke-width:2.0px;stroke-linecap:butt;stroke-linejoin:miter;stroke-opacity:1\"/>\n",
       "<path class=\"bond-7 atom-8 atom-9\" d=\"M 225.4,75.0 L 237.3,81.7\" style=\"fill:none;fill-rule:evenodd;stroke:#000000;stroke-width:2.0px;stroke-linecap:butt;stroke-linejoin:miter;stroke-opacity:1\"/>\n",
       "<path class=\"bond-8 atom-5 atom-9\" d=\"M 266.3,64.6 L 237.3,81.7\" style=\"fill:none;fill-rule:evenodd;stroke:#000000;stroke-width:2.0px;stroke-linecap:butt;stroke-linejoin:miter;stroke-opacity:1\"/>\n",
       "<path class=\"bond-9 atom-6 atom-10\" d=\"M 149.9,65.7 L 120.9,82.7\" style=\"fill:none;fill-rule:evenodd;stroke:#000000;stroke-width:2.0px;stroke-linecap:butt;stroke-linejoin:miter;stroke-opacity:1\"/>\n",
       "<path class=\"bond-10 atom-10 atom-11\" d=\"M 120.9,82.7 L 91.6,66.2\" style=\"fill:none;fill-rule:evenodd;stroke:#000000;stroke-width:2.0px;stroke-linecap:butt;stroke-linejoin:miter;stroke-opacity:1\"/>\n",
       "<path class=\"bond-11 atom-12 atom-13\" d=\"M 62.7,83.3 L 50.8,76.5\" style=\"fill:none;fill-rule:evenodd;stroke:#000000;stroke-width:2.0px;stroke-linecap:butt;stroke-linejoin:miter;stroke-opacity:1\"/>\n",
       "<path class=\"bond-11 atom-12 atom-13\" d=\"M 50.8,76.5 L 38.9,69.8\" style=\"fill:none;fill-rule:evenodd;stroke:#FF0000;stroke-width:2.0px;stroke-linecap:butt;stroke-linejoin:miter;stroke-opacity:1\"/>\n",
       "<path class=\"bond-12 atom-11 atom-12\" d=\"M 91.6,66.2 L 62.7,83.3\" style=\"fill:none;fill-rule:evenodd;stroke:#000000;stroke-width:2.0px;stroke-linecap:butt;stroke-linejoin:miter;stroke-opacity:1\"/>\n",
       "<path class=\"atom-0\" d=\"M 409.9 75.4 L 413.0 80.4 Q 413.3 80.9, 413.8 81.8 Q 414.3 82.7, 414.3 82.8 L 414.3 75.4 L 415.6 75.4 L 415.6 84.9 L 414.3 84.9 L 411.0 79.4 Q 410.6 78.7, 410.1 78.0 Q 409.7 77.3, 409.6 77.0 L 409.6 84.9 L 408.4 84.9 L 408.4 75.4 L 409.9 75.4 \" fill=\"#0000FF\"/>\n",
       "<path class=\"atom-0\" d=\"M 416.7 75.4 L 418.0 75.4 L 418.0 79.4 L 422.9 79.4 L 422.9 75.4 L 424.2 75.4 L 424.2 84.9 L 422.9 84.9 L 422.9 80.5 L 418.0 80.5 L 418.0 84.9 L 416.7 84.9 L 416.7 75.4 \" fill=\"#0000FF\"/>\n",
       "<path class=\"atom-0\" d=\"M 425.3 84.6 Q 425.6 84.0, 426.1 83.6 Q 426.7 83.3, 427.4 83.3 Q 428.4 83.3, 428.9 83.8 Q 429.4 84.3, 429.4 85.2 Q 429.4 86.2, 428.7 87.1 Q 428.1 87.9, 426.6 89.0 L 429.5 89.0 L 429.5 89.7 L 425.3 89.7 L 425.3 89.1 Q 426.5 88.2, 427.2 87.6 Q 427.9 87.0, 428.2 86.4 Q 428.6 85.9, 428.6 85.3 Q 428.6 84.7, 428.2 84.4 Q 427.9 84.0, 427.4 84.0 Q 426.9 84.0, 426.6 84.2 Q 426.2 84.4, 426.0 84.9 L 425.3 84.6 \" fill=\"#0000FF\"/>\n",
       "<path class=\"atom-7\" d=\"M 174.7 82.2 Q 174.7 80.0, 175.9 78.7 Q 177.0 77.4, 179.1 77.4 Q 181.2 77.4, 182.4 78.7 Q 183.5 80.0, 183.5 82.2 Q 183.5 84.6, 182.3 85.9 Q 181.2 87.2, 179.1 87.2 Q 177.0 87.2, 175.9 85.9 Q 174.7 84.6, 174.7 82.2 M 179.1 86.1 Q 180.6 86.1, 181.3 85.1 Q 182.1 84.2, 182.1 82.2 Q 182.1 80.4, 181.3 79.4 Q 180.6 78.5, 179.1 78.5 Q 177.7 78.5, 176.9 79.4 Q 176.1 80.4, 176.1 82.2 Q 176.1 84.2, 176.9 85.1 Q 177.7 86.1, 179.1 86.1 \" fill=\"#FF0000\"/>\n",
       "<path class=\"atom-8\" d=\"M 203.7 65.2 Q 203.7 62.9, 204.8 61.6 Q 206.0 60.3, 208.1 60.3 Q 210.2 60.3, 211.3 61.6 Q 212.4 62.9, 212.4 65.2 Q 212.4 67.5, 211.3 68.8 Q 210.2 70.1, 208.1 70.1 Q 206.0 70.1, 204.8 68.8 Q 203.7 67.5, 203.7 65.2 M 208.1 69.0 Q 209.5 69.0, 210.3 68.1 Q 211.1 67.1, 211.1 65.2 Q 211.1 63.3, 210.3 62.4 Q 209.5 61.4, 208.1 61.4 Q 206.6 61.4, 205.8 62.4 Q 205.1 63.3, 205.1 65.2 Q 205.1 67.1, 205.8 68.1 Q 206.6 69.0, 208.1 69.0 \" fill=\"#FF0000\"/>\n",
       "<path class=\"atom-13\" d=\"M 20.5 62.0 L 21.7 62.0 L 21.7 66.1 L 26.6 66.1 L 26.6 62.0 L 27.9 62.0 L 27.9 71.5 L 26.6 71.5 L 26.6 67.1 L 21.7 67.1 L 21.7 71.5 L 20.5 71.5 L 20.5 62.0 \" fill=\"#FF0000\"/>\n",
       "<path class=\"atom-13\" d=\"M 29.0 66.7 Q 29.0 64.5, 30.2 63.2 Q 31.3 61.9, 33.4 61.9 Q 35.5 61.9, 36.7 63.2 Q 37.8 64.5, 37.8 66.7 Q 37.8 69.1, 36.6 70.4 Q 35.5 71.7, 33.4 71.7 Q 31.3 71.7, 30.2 70.4 Q 29.0 69.1, 29.0 66.7 M 33.4 70.6 Q 34.9 70.6, 35.6 69.6 Q 36.4 68.6, 36.4 66.7 Q 36.4 64.9, 35.6 63.9 Q 34.9 63.0, 33.4 63.0 Q 32.0 63.0, 31.2 63.9 Q 30.4 64.9, 30.4 66.7 Q 30.4 68.7, 31.2 69.6 Q 32.0 70.6, 33.4 70.6 \" fill=\"#FF0000\"/>\n",
       "</svg>"
      ],
      "text/plain": [
       "<IPython.core.display.SVG object>"
      ]
     },
     "execution_count": 22,
     "metadata": {},
     "output_type": "execute_result"
    }
   ],
   "source": [
    "big_smiles_gen(big)"
   ]
  },
  {
   "cell_type": "code",
   "execution_count": 23,
   "id": "2a403f14",
   "metadata": {},
   "outputs": [
    {
     "data": {
      "image/png": "[encoded data removed]",
      "text/plain": [
       "<Figure size 432x288 with 1 Axes>"
      ]
     },
     "metadata": {},
     "output_type": "display_data"
    }
   ],
   "source": [
    "big_smiles_graph(big)"
   ]
  },
  {
   "cell_type": "code",
   "execution_count": 24,
   "id": "2734ddff",
   "metadata": {},
   "outputs": [
    {
     "data": {
      "image/svg+xml": [
       "<svg xmlns=\"http://www.w3.org/2000/svg\" xmlns:rdkit=\"http://www.rdkit.org/xml\" xmlns:xlink=\"http://www.w3.org/1999/xlink\" version=\"1.1\" baseProfile=\"full\" xml:space=\"preserve\" width=\"450px\" height=\"150px\" viewBox=\"0 0 450 150\">\n",
       "<!-- END OF HEADER -->\n",
       "<rect style=\"opacity:1.0;fill:#FFFFFF;stroke:none\" width=\"450.0\" height=\"150.0\" x=\"0.0\" y=\"0.0\"> </rect>\n",
       "<path class=\"bond-0 atom-0 atom-1\" d=\"M 40.8,69.6 L 52.2,76.2\" style=\"fill:none;fill-rule:evenodd;stroke:#0000FF;stroke-width:2.0px;stroke-linecap:butt;stroke-linejoin:miter;stroke-opacity:1\"/>\n",
       "<path class=\"bond-0 atom-0 atom-1\" d=\"M 52.2,76.2 L 63.6,82.8\" style=\"fill:none;fill-rule:evenodd;stroke:#000000;stroke-width:2.0px;stroke-linecap:butt;stroke-linejoin:miter;stroke-opacity:1\"/>\n",
       "<path class=\"bond-1 atom-1 atom-2\" d=\"M 63.6,82.8 L 90.8,67.1\" style=\"fill:none;fill-rule:evenodd;stroke:#000000;stroke-width:2.0px;stroke-linecap:butt;stroke-linejoin:miter;stroke-opacity:1\"/>\n",
       "<path class=\"bond-2 atom-2 atom-3\" d=\"M 90.8,67.1 L 118.1,82.8\" style=\"fill:none;fill-rule:evenodd;stroke:#000000;stroke-width:2.0px;stroke-linecap:butt;stroke-linejoin:miter;stroke-opacity:1\"/>\n",
       "<path class=\"bond-3 atom-4 atom-5\" d=\"M 145.3,67.1 L 156.4,73.5\" style=\"fill:none;fill-rule:evenodd;stroke:#000000;stroke-width:2.0px;stroke-linecap:butt;stroke-linejoin:miter;stroke-opacity:1\"/>\n",
       "<path class=\"bond-3 atom-4 atom-5\" d=\"M 156.4,73.5 L 167.5,79.8\" style=\"fill:none;fill-rule:evenodd;stroke:#FF0000;stroke-width:2.0px;stroke-linecap:butt;stroke-linejoin:miter;stroke-opacity:1\"/>\n",
       "<path class=\"bond-4 atom-5 atom-6\" d=\"M 177.7,79.8 L 194.7,70.0\" style=\"fill:none;fill-rule:evenodd;stroke:#FF0000;stroke-width:2.0px;stroke-linecap:butt;stroke-linejoin:miter;stroke-opacity:1\"/>\n",
       "<path class=\"bond-5 atom-6 atom-7\" d=\"M 205.0,70.0 L 216.0,76.4\" style=\"fill:none;fill-rule:evenodd;stroke:#FF0000;stroke-width:2.0px;stroke-linecap:butt;stroke-linejoin:miter;stroke-opacity:1\"/>\n",
       "<path class=\"bond-5 atom-6 atom-7\" d=\"M 216.0,76.4 L 227.1,82.8\" style=\"fill:none;fill-rule:evenodd;stroke:#000000;stroke-width:2.0px;stroke-linecap:butt;stroke-linejoin:miter;stroke-opacity:1\"/>\n",
       "<path class=\"bond-6 atom-3 atom-4\" d=\"M 118.1,82.8 L 145.3,67.1\" style=\"fill:none;fill-rule:evenodd;stroke:#000000;stroke-width:2.0px;stroke-linecap:butt;stroke-linejoin:miter;stroke-opacity:1\"/>\n",
       "<path class=\"bond-7 atom-7 atom-8\" d=\"M 227.1,82.8 L 254.3,67.1\" style=\"fill:none;fill-rule:evenodd;stroke:#000000;stroke-width:2.0px;stroke-linecap:butt;stroke-linejoin:miter;stroke-opacity:1\"/>\n",
       "<path class=\"bond-8 atom-8 atom-9\" d=\"M 254.3,67.1 L 281.6,82.8\" style=\"fill:none;fill-rule:evenodd;stroke:#000000;stroke-width:2.0px;stroke-linecap:butt;stroke-linejoin:miter;stroke-opacity:1\"/>\n",
       "<path class=\"bond-9 atom-9 atom-10\" d=\"M 281.6,82.8 L 308.8,67.1\" style=\"fill:none;fill-rule:evenodd;stroke:#000000;stroke-width:2.0px;stroke-linecap:butt;stroke-linejoin:miter;stroke-opacity:1\"/>\n",
       "<path class=\"bond-10 atom-10 atom-11\" d=\"M 308.8,67.1 L 336.1,82.8\" style=\"fill:none;fill-rule:evenodd;stroke:#000000;stroke-width:2.0px;stroke-linecap:butt;stroke-linejoin:miter;stroke-opacity:1\"/>\n",
       "<path class=\"bond-11 atom-11 atom-12\" d=\"M 336.1,82.8 L 363.4,67.1\" style=\"fill:none;fill-rule:evenodd;stroke:#000000;stroke-width:2.0px;stroke-linecap:butt;stroke-linejoin:miter;stroke-opacity:1\"/>\n",
       "<path class=\"bond-12 atom-13 atom-14\" d=\"M 390.6,82.8 L 401.7,76.4\" style=\"fill:none;fill-rule:evenodd;stroke:#000000;stroke-width:2.0px;stroke-linecap:butt;stroke-linejoin:miter;stroke-opacity:1\"/>\n",
       "<path class=\"bond-12 atom-13 atom-14\" d=\"M 401.7,76.4 L 412.7,70.0\" style=\"fill:none;fill-rule:evenodd;stroke:#FF0000;stroke-width:2.0px;stroke-linecap:butt;stroke-linejoin:miter;stroke-opacity:1\"/>\n",
       "<path class=\"bond-13 atom-12 atom-13\" d=\"M 363.4,67.1 L 390.6,82.8\" style=\"fill:none;fill-rule:evenodd;stroke:#000000;stroke-width:2.0px;stroke-linecap:butt;stroke-linejoin:miter;stroke-opacity:1\"/>\n",
       "<path class=\"atom-0\" d=\"M 20.5 62.6 L 21.7 62.6 L 21.7 66.4 L 26.2 66.4 L 26.2 62.6 L 27.4 62.6 L 27.4 71.5 L 26.2 71.5 L 26.2 67.4 L 21.7 67.4 L 21.7 71.5 L 20.5 71.5 L 20.5 62.6 \" fill=\"#0000FF\"/>\n",
       "<path class=\"atom-0\" d=\"M 28.5 71.2 Q 28.7 70.7, 29.2 70.3 Q 29.8 70.0, 30.5 70.0 Q 31.4 70.0, 31.9 70.5 Q 32.4 71.0, 32.4 71.8 Q 32.4 72.7, 31.7 73.5 Q 31.1 74.3, 29.7 75.3 L 32.5 75.3 L 32.5 76.0 L 28.5 76.0 L 28.5 75.4 Q 29.6 74.6, 30.2 74.1 Q 30.9 73.5, 31.2 73.0 Q 31.5 72.4, 31.5 71.9 Q 31.5 71.3, 31.2 71.0 Q 31.0 70.7, 30.5 70.7 Q 30.0 70.7, 29.7 70.9 Q 29.4 71.1, 29.1 71.5 L 28.5 71.2 \" fill=\"#0000FF\"/>\n",
       "<path class=\"atom-0\" d=\"M 34.4 62.6 L 37.3 67.3 Q 37.6 67.8, 38.0 68.6 Q 38.5 69.5, 38.5 69.5 L 38.5 62.6 L 39.7 62.6 L 39.7 71.5 L 38.5 71.5 L 35.4 66.4 Q 35.0 65.8, 34.6 65.1 Q 34.2 64.4, 34.1 64.2 L 34.1 71.5 L 33.0 71.5 L 33.0 62.6 L 34.4 62.6 \" fill=\"#0000FF\"/>\n",
       "<path class=\"atom-5\" d=\"M 168.5 82.8 Q 168.5 80.7, 169.6 79.5 Q 170.6 78.3, 172.6 78.3 Q 174.6 78.3, 175.6 79.5 Q 176.7 80.7, 176.7 82.8 Q 176.7 85.0, 175.6 86.2 Q 174.5 87.4, 172.6 87.4 Q 170.6 87.4, 169.6 86.2 Q 168.5 85.0, 168.5 82.8 M 172.6 86.4 Q 174.0 86.4, 174.7 85.5 Q 175.4 84.6, 175.4 82.8 Q 175.4 81.1, 174.7 80.2 Q 174.0 79.3, 172.6 79.3 Q 171.2 79.3, 170.5 80.2 Q 169.8 81.1, 169.8 82.8 Q 169.8 84.6, 170.5 85.5 Q 171.2 86.4, 172.6 86.4 \" fill=\"#FF0000\"/>\n",
       "<path class=\"atom-6\" d=\"M 195.8 67.1 Q 195.8 64.9, 196.8 63.8 Q 197.9 62.6, 199.8 62.6 Q 201.8 62.6, 202.9 63.8 Q 203.9 64.9, 203.9 67.1 Q 203.9 69.3, 202.9 70.5 Q 201.8 71.7, 199.8 71.7 Q 197.9 71.7, 196.8 70.5 Q 195.8 69.3, 195.8 67.1 M 199.8 70.7 Q 201.2 70.7, 201.9 69.8 Q 202.7 68.9, 202.7 67.1 Q 202.7 65.3, 201.9 64.5 Q 201.2 63.6, 199.8 63.6 Q 198.5 63.6, 197.7 64.4 Q 197.0 65.3, 197.0 67.1 Q 197.0 68.9, 197.7 69.8 Q 198.5 70.7, 199.8 70.7 \" fill=\"#FF0000\"/>\n",
       "<path class=\"atom-14\" d=\"M 413.8 67.1 Q 413.8 64.9, 414.8 63.8 Q 415.9 62.6, 417.9 62.6 Q 419.8 62.6, 420.9 63.8 Q 421.9 64.9, 421.9 67.1 Q 421.9 69.3, 420.9 70.5 Q 419.8 71.7, 417.9 71.7 Q 415.9 71.7, 414.8 70.5 Q 413.8 69.3, 413.8 67.1 M 417.9 70.7 Q 419.2 70.7, 419.9 69.8 Q 420.7 68.9, 420.7 67.1 Q 420.7 65.3, 419.9 64.5 Q 419.2 63.6, 417.9 63.6 Q 416.5 63.6, 415.8 64.4 Q 415.0 65.3, 415.0 67.1 Q 415.0 68.9, 415.8 69.8 Q 416.5 70.7, 417.9 70.7 \" fill=\"#FF0000\"/>\n",
       "<path class=\"atom-14\" d=\"M 422.6 62.7 L 423.8 62.7 L 423.8 66.4 L 428.3 66.4 L 428.3 62.7 L 429.5 62.7 L 429.5 71.6 L 428.3 71.6 L 428.3 67.5 L 423.8 67.5 L 423.8 71.6 L 422.6 71.6 L 422.6 62.7 \" fill=\"#FF0000\"/>\n",
       "</svg>"
      ],
      "text/plain": [
       "<IPython.core.display.SVG object>"
      ]
     },
     "execution_count": 24,
     "metadata": {},
     "output_type": "execute_result"
    }
   ],
   "source": [
    "big_smiles_gen(big)"
   ]
  },
  {
   "cell_type": "markdown",
   "id": "0a23f756",
   "metadata": {},
   "source": [
    "## Same diol and di-acid reaction, but with phenyl ring"
   ]
  },
  {
   "cell_type": "code",
   "execution_count": 25,
   "id": "dde1bc42",
   "metadata": {},
   "outputs": [
    {
     "data": {
      "text/plain": [
       "'NC{[$][$]C[$][$]}|uniform(12, 72)|COOC{[$][$]C([$])C1CCCCC1[$]}|uniform(50, 250)|CO'"
      ]
     },
     "execution_count": 25,
     "metadata": {},
     "output_type": "execute_result"
    }
   ],
   "source": [
    "big = \"NC{[$][$]C[$][$]}|uniform(12, 72)|COOC{[$][$]C([$])C1CCCCC1[$]}|uniform(50, 250)|CO\"\n",
    "big"
   ]
  },
  {
   "cell_type": "code",
   "execution_count": 26,
   "id": "de751cdf",
   "metadata": {},
   "outputs": [
    {
     "data": {
      "image/svg+xml": [
       "<svg xmlns=\"http://www.w3.org/2000/svg\" xmlns:rdkit=\"http://www.rdkit.org/xml\" xmlns:xlink=\"http://www.w3.org/1999/xlink\" version=\"1.1\" baseProfile=\"full\" xml:space=\"preserve\" width=\"450px\" height=\"150px\" viewBox=\"0 0 450 150\">\n",
       "<!-- END OF HEADER -->\n",
       "<rect style=\"opacity:1.0;fill:#FFFFFF;stroke:none\" width=\"450.0\" height=\"150.0\" x=\"0.0\" y=\"0.0\"> </rect>\n",
       "<path class=\"bond-0 atom-0 atom-1\" d=\"M 101.5,78.3 L 109.8,81.4\" style=\"fill:none;fill-rule:evenodd;stroke:#0000FF;stroke-width:2.0px;stroke-linecap:butt;stroke-linejoin:miter;stroke-opacity:1\"/>\n",
       "<path class=\"bond-0 atom-0 atom-1\" d=\"M 109.8,81.4 L 118.1,84.4\" style=\"fill:none;fill-rule:evenodd;stroke:#000000;stroke-width:2.0px;stroke-linecap:butt;stroke-linejoin:miter;stroke-opacity:1\"/>\n",
       "<path class=\"bond-1 atom-1 atom-2\" d=\"M 118.1,84.4 L 134.1,71.1\" style=\"fill:none;fill-rule:evenodd;stroke:#000000;stroke-width:2.0px;stroke-linecap:butt;stroke-linejoin:miter;stroke-opacity:1\"/>\n",
       "<path class=\"bond-2 atom-2 atom-3\" d=\"M 134.1,71.1 L 153.6,78.3\" style=\"fill:none;fill-rule:evenodd;stroke:#000000;stroke-width:2.0px;stroke-linecap:butt;stroke-linejoin:miter;stroke-opacity:1\"/>\n",
       "<path class=\"bond-3 atom-3 atom-4\" d=\"M 153.6,78.3 L 169.6,65.0\" style=\"fill:none;fill-rule:evenodd;stroke:#000000;stroke-width:2.0px;stroke-linecap:butt;stroke-linejoin:miter;stroke-opacity:1\"/>\n",
       "<path class=\"bond-4 atom-4 atom-5\" d=\"M 169.6,65.0 L 189.1,72.2\" style=\"fill:none;fill-rule:evenodd;stroke:#000000;stroke-width:2.0px;stroke-linecap:butt;stroke-linejoin:miter;stroke-opacity:1\"/>\n",
       "<path class=\"bond-5 atom-5 atom-6\" d=\"M 189.1,72.2 L 205.1,58.9\" style=\"fill:none;fill-rule:evenodd;stroke:#000000;stroke-width:2.0px;stroke-linecap:butt;stroke-linejoin:miter;stroke-opacity:1\"/>\n",
       "<path class=\"bond-6 atom-7 atom-8\" d=\"M 224.6,66.1 L 230.9,60.9\" style=\"fill:none;fill-rule:evenodd;stroke:#000000;stroke-width:2.0px;stroke-linecap:butt;stroke-linejoin:miter;stroke-opacity:1\"/>\n",
       "<path class=\"bond-6 atom-7 atom-8\" d=\"M 230.9,60.9 L 237.2,55.6\" style=\"fill:none;fill-rule:evenodd;stroke:#FF0000;stroke-width:2.0px;stroke-linecap:butt;stroke-linejoin:miter;stroke-opacity:1\"/>\n",
       "<path class=\"bond-7 atom-8 atom-9\" d=\"M 244.0,54.1 L 256.8,58.8\" style=\"fill:none;fill-rule:evenodd;stroke:#FF0000;stroke-width:2.0px;stroke-linecap:butt;stroke-linejoin:miter;stroke-opacity:1\"/>\n",
       "<path class=\"bond-8 atom-9 atom-10\" d=\"M 263.5,57.2 L 269.8,52.0\" style=\"fill:none;fill-rule:evenodd;stroke:#FF0000;stroke-width:2.0px;stroke-linecap:butt;stroke-linejoin:miter;stroke-opacity:1\"/>\n",
       "<path class=\"bond-8 atom-9 atom-10\" d=\"M 269.8,52.0 L 276.2,46.7\" style=\"fill:none;fill-rule:evenodd;stroke:#000000;stroke-width:2.0px;stroke-linecap:butt;stroke-linejoin:miter;stroke-opacity:1\"/>\n",
       "<path class=\"bond-9 atom-6 atom-7\" d=\"M 205.1,58.9 L 224.6,66.1\" style=\"fill:none;fill-rule:evenodd;stroke:#000000;stroke-width:2.0px;stroke-linecap:butt;stroke-linejoin:miter;stroke-opacity:1\"/>\n",
       "<path class=\"bond-10 atom-11 atom-12\" d=\"M 295.7,53.9 L 311.7,40.6\" style=\"fill:none;fill-rule:evenodd;stroke:#000000;stroke-width:2.0px;stroke-linecap:butt;stroke-linejoin:miter;stroke-opacity:1\"/>\n",
       "<path class=\"bond-11 atom-12 atom-13\" d=\"M 311.7,40.6 L 331.2,47.8\" style=\"fill:none;fill-rule:evenodd;stroke:#000000;stroke-width:2.0px;stroke-linecap:butt;stroke-linejoin:miter;stroke-opacity:1\"/>\n",
       "<path class=\"bond-12 atom-13 atom-14\" d=\"M 331.2,47.8 L 347.2,34.5\" style=\"fill:none;fill-rule:evenodd;stroke:#000000;stroke-width:2.0px;stroke-linecap:butt;stroke-linejoin:miter;stroke-opacity:1\"/>\n",
       "<path class=\"bond-13 atom-14 atom-15\" d=\"M 347.2,34.5 L 343.7,14.0\" style=\"fill:none;fill-rule:evenodd;stroke:#000000;stroke-width:2.0px;stroke-linecap:butt;stroke-linejoin:miter;stroke-opacity:1\"/>\n",
       "<path class=\"bond-14 atom-15 atom-16\" d=\"M 343.7,14.0 L 324.2,6.8\" style=\"fill:none;fill-rule:evenodd;stroke:#000000;stroke-width:2.0px;stroke-linecap:butt;stroke-linejoin:miter;stroke-opacity:1\"/>\n",
       "<path class=\"bond-15 atom-16 atom-17\" d=\"M 324.2,6.8 L 308.2,20.1\" style=\"fill:none;fill-rule:evenodd;stroke:#000000;stroke-width:2.0px;stroke-linecap:butt;stroke-linejoin:miter;stroke-opacity:1\"/>\n",
       "<path class=\"bond-16 atom-17 atom-12\" d=\"M 308.2,20.1 L 311.7,40.6\" style=\"fill:none;fill-rule:evenodd;stroke:#000000;stroke-width:2.0px;stroke-linecap:butt;stroke-linejoin:miter;stroke-opacity:1\"/>\n",
       "<path class=\"bond-17 atom-10 atom-11\" d=\"M 276.2,46.7 L 295.7,53.9\" style=\"fill:none;fill-rule:evenodd;stroke:#000000;stroke-width:2.0px;stroke-linecap:butt;stroke-linejoin:miter;stroke-opacity:1\"/>\n",
       "<path class=\"bond-18 atom-18 atom-19\" d=\"M 299.2,74.4 L 283.2,87.7\" style=\"fill:none;fill-rule:evenodd;stroke:#000000;stroke-width:2.0px;stroke-linecap:butt;stroke-linejoin:miter;stroke-opacity:1\"/>\n",
       "<path class=\"bond-19 atom-19 atom-20\" d=\"M 283.2,87.7 L 263.7,80.5\" style=\"fill:none;fill-rule:evenodd;stroke:#000000;stroke-width:2.0px;stroke-linecap:butt;stroke-linejoin:miter;stroke-opacity:1\"/>\n",
       "<path class=\"bond-20 atom-20 atom-21\" d=\"M 263.7,80.5 L 247.7,93.8\" style=\"fill:none;fill-rule:evenodd;stroke:#000000;stroke-width:2.0px;stroke-linecap:butt;stroke-linejoin:miter;stroke-opacity:1\"/>\n",
       "<path class=\"bond-21 atom-21 atom-22\" d=\"M 247.7,93.8 L 251.2,114.4\" style=\"fill:none;fill-rule:evenodd;stroke:#000000;stroke-width:2.0px;stroke-linecap:butt;stroke-linejoin:miter;stroke-opacity:1\"/>\n",
       "<path class=\"bond-22 atom-22 atom-23\" d=\"M 251.2,114.4 L 270.7,121.6\" style=\"fill:none;fill-rule:evenodd;stroke:#000000;stroke-width:2.0px;stroke-linecap:butt;stroke-linejoin:miter;stroke-opacity:1\"/>\n",
       "<path class=\"bond-23 atom-23 atom-24\" d=\"M 270.7,121.6 L 286.7,108.3\" style=\"fill:none;fill-rule:evenodd;stroke:#000000;stroke-width:2.0px;stroke-linecap:butt;stroke-linejoin:miter;stroke-opacity:1\"/>\n",
       "<path class=\"bond-24 atom-24 atom-19\" d=\"M 286.7,108.3 L 283.2,87.7\" style=\"fill:none;fill-rule:evenodd;stroke:#000000;stroke-width:2.0px;stroke-linecap:butt;stroke-linejoin:miter;stroke-opacity:1\"/>\n",
       "<path class=\"bond-25 atom-11 atom-18\" d=\"M 295.7,53.9 L 299.2,74.4\" style=\"fill:none;fill-rule:evenodd;stroke:#000000;stroke-width:2.0px;stroke-linecap:butt;stroke-linejoin:miter;stroke-opacity:1\"/>\n",
       "<path class=\"bond-26 atom-25 atom-26\" d=\"M 318.7,81.7 L 322.2,102.2\" style=\"fill:none;fill-rule:evenodd;stroke:#000000;stroke-width:2.0px;stroke-linecap:butt;stroke-linejoin:miter;stroke-opacity:1\"/>\n",
       "<path class=\"bond-27 atom-26 atom-27\" d=\"M 322.2,102.2 L 341.8,109.4\" style=\"fill:none;fill-rule:evenodd;stroke:#000000;stroke-width:2.0px;stroke-linecap:butt;stroke-linejoin:miter;stroke-opacity:1\"/>\n",
       "<path class=\"bond-28 atom-27 atom-28\" d=\"M 341.8,109.4 L 345.3,129.9\" style=\"fill:none;fill-rule:evenodd;stroke:#000000;stroke-width:2.0px;stroke-linecap:butt;stroke-linejoin:miter;stroke-opacity:1\"/>\n",
       "<path class=\"bond-29 atom-28 atom-29\" d=\"M 345.3,129.9 L 329.3,143.2\" style=\"fill:none;fill-rule:evenodd;stroke:#000000;stroke-width:2.0px;stroke-linecap:butt;stroke-linejoin:miter;stroke-opacity:1\"/>\n",
       "<path class=\"bond-30 atom-29 atom-30\" d=\"M 329.3,143.2 L 309.8,136.0\" style=\"fill:none;fill-rule:evenodd;stroke:#000000;stroke-width:2.0px;stroke-linecap:butt;stroke-linejoin:miter;stroke-opacity:1\"/>\n",
       "<path class=\"bond-31 atom-30 atom-31\" d=\"M 309.8,136.0 L 306.2,115.5\" style=\"fill:none;fill-rule:evenodd;stroke:#000000;stroke-width:2.0px;stroke-linecap:butt;stroke-linejoin:miter;stroke-opacity:1\"/>\n",
       "<path class=\"bond-32 atom-31 atom-26\" d=\"M 306.2,115.5 L 322.2,102.2\" style=\"fill:none;fill-rule:evenodd;stroke:#000000;stroke-width:2.0px;stroke-linecap:butt;stroke-linejoin:miter;stroke-opacity:1\"/>\n",
       "<path class=\"bond-33 atom-18 atom-25\" d=\"M 299.2,74.4 L 318.7,81.7\" style=\"fill:none;fill-rule:evenodd;stroke:#000000;stroke-width:2.0px;stroke-linecap:butt;stroke-linejoin:miter;stroke-opacity:1\"/>\n",
       "<path class=\"bond-34 atom-32 atom-33\" d=\"M 334.7,68.3 L 342.8,71.3\" style=\"fill:none;fill-rule:evenodd;stroke:#000000;stroke-width:2.0px;stroke-linecap:butt;stroke-linejoin:miter;stroke-opacity:1\"/>\n",
       "<path class=\"bond-34 atom-32 atom-33\" d=\"M 342.8,71.3 L 350.8,74.3\" style=\"fill:none;fill-rule:evenodd;stroke:#FF0000;stroke-width:2.0px;stroke-linecap:butt;stroke-linejoin:miter;stroke-opacity:1\"/>\n",
       "<path class=\"bond-35 atom-25 atom-32\" d=\"M 318.7,81.7 L 334.7,68.3\" style=\"fill:none;fill-rule:evenodd;stroke:#000000;stroke-width:2.0px;stroke-linecap:butt;stroke-linejoin:miter;stroke-opacity:1\"/>\n",
       "<path class=\"atom-0\" d=\"M 88.0 74.3 L 88.8 74.3 L 88.8 76.8 L 91.8 76.8 L 91.8 74.3 L 92.6 74.3 L 92.6 80.2 L 91.8 80.2 L 91.8 77.4 L 88.8 77.4 L 88.8 80.2 L 88.0 80.2 L 88.0 74.3 \" fill=\"#0000FF\"/>\n",
       "<path class=\"atom-0\" d=\"M 93.4 80.0 Q 93.5 79.6, 93.8 79.4 Q 94.2 79.2, 94.7 79.2 Q 95.2 79.2, 95.6 79.5 Q 95.9 79.8, 95.9 80.4 Q 95.9 81.0, 95.5 81.5 Q 95.0 82.0, 94.2 82.7 L 96.0 82.7 L 96.0 83.1 L 93.3 83.1 L 93.3 82.7 Q 94.1 82.2, 94.5 81.8 Q 94.9 81.5, 95.1 81.1 Q 95.4 80.8, 95.4 80.4 Q 95.4 80.0, 95.2 79.8 Q 95.0 79.6, 94.7 79.6 Q 94.3 79.6, 94.1 79.7 Q 93.9 79.9, 93.8 80.1 L 93.4 80.0 \" fill=\"#0000FF\"/>\n",
       "<path class=\"atom-0\" d=\"M 97.2 74.3 L 99.2 77.4 Q 99.3 77.7, 99.7 78.3 Q 100.0 78.8, 100.0 78.8 L 100.0 74.3 L 100.8 74.3 L 100.8 80.2 L 100.0 80.2 L 97.9 76.8 Q 97.6 76.4, 97.4 75.9 Q 97.1 75.4, 97.1 75.3 L 97.1 80.2 L 96.3 80.2 L 96.3 74.3 L 97.2 74.3 \" fill=\"#0000FF\"/>\n",
       "<path class=\"atom-8\" d=\"M 237.9 52.8 Q 237.9 51.4, 238.6 50.6 Q 239.3 49.8, 240.6 49.8 Q 241.9 49.8, 242.6 50.6 Q 243.3 51.4, 243.3 52.8 Q 243.3 54.3, 242.6 55.1 Q 241.9 55.9, 240.6 55.9 Q 239.3 55.9, 238.6 55.1 Q 237.9 54.3, 237.9 52.8 M 240.6 55.2 Q 241.5 55.2, 242.0 54.6 Q 242.5 54.0, 242.5 52.8 Q 242.5 51.7, 242.0 51.1 Q 241.5 50.5, 240.6 50.5 Q 239.7 50.5, 239.2 51.1 Q 238.8 51.7, 238.8 52.8 Q 238.8 54.0, 239.2 54.6 Q 239.7 55.2, 240.6 55.2 \" fill=\"#FF0000\"/>\n",
       "<path class=\"atom-9\" d=\"M 257.4 60.0 Q 257.4 58.6, 258.1 57.8 Q 258.8 57.1, 260.1 57.1 Q 261.5 57.1, 262.2 57.8 Q 262.9 58.6, 262.9 60.0 Q 262.9 61.5, 262.1 62.3 Q 261.4 63.1, 260.1 63.1 Q 258.9 63.1, 258.1 62.3 Q 257.4 61.5, 257.4 60.0 M 260.1 62.4 Q 261.0 62.4, 261.5 61.8 Q 262.0 61.2, 262.0 60.0 Q 262.0 58.9, 261.5 58.3 Q 261.0 57.7, 260.1 57.7 Q 259.3 57.7, 258.8 58.3 Q 258.3 58.9, 258.3 60.0 Q 258.3 61.2, 258.8 61.8 Q 259.3 62.4, 260.1 62.4 \" fill=\"#FF0000\"/>\n",
       "<path class=\"atom-33\" d=\"M 351.5 75.6 Q 351.5 74.2, 352.2 73.4 Q 352.9 72.6, 354.2 72.6 Q 355.5 72.6, 356.2 73.4 Q 356.9 74.2, 356.9 75.6 Q 356.9 77.0, 356.2 77.8 Q 355.5 78.6, 354.2 78.6 Q 352.9 78.6, 352.2 77.8 Q 351.5 77.0, 351.5 75.6 M 354.2 78.0 Q 355.1 78.0, 355.6 77.4 Q 356.1 76.8, 356.1 75.6 Q 356.1 74.4, 355.6 73.8 Q 355.1 73.2, 354.2 73.2 Q 353.3 73.2, 352.9 73.8 Q 352.4 74.4, 352.4 75.6 Q 352.4 76.8, 352.9 77.4 Q 353.3 78.0, 354.2 78.0 \" fill=\"#FF0000\"/>\n",
       "<path class=\"atom-33\" d=\"M 357.4 72.6 L 358.2 72.6 L 358.2 75.1 L 361.2 75.1 L 361.2 72.6 L 362.0 72.6 L 362.0 78.5 L 361.2 78.5 L 361.2 75.8 L 358.2 75.8 L 358.2 78.5 L 357.4 78.5 L 357.4 72.6 \" fill=\"#FF0000\"/>\n",
       "</svg>"
      ],
      "text/plain": [
       "<IPython.core.display.SVG object>"
      ]
     },
     "execution_count": 26,
     "metadata": {},
     "output_type": "execute_result"
    }
   ],
   "source": [
    "big_smiles_gen(big)"
   ]
  },
  {
   "cell_type": "code",
   "execution_count": 27,
   "id": "cb75c155",
   "metadata": {},
   "outputs": [
    {
     "data": {
      "image/svg+xml": [
       "<svg xmlns=\"http://www.w3.org/2000/svg\" xmlns:rdkit=\"http://www.rdkit.org/xml\" xmlns:xlink=\"http://www.w3.org/1999/xlink\" version=\"1.1\" baseProfile=\"full\" xml:space=\"preserve\" width=\"450px\" height=\"150px\" viewBox=\"0 0 450 150\">\n",
       "<!-- END OF HEADER -->\n",
       "<rect style=\"opacity:1.0;fill:#FFFFFF;stroke:none\" width=\"450.0\" height=\"150.0\" x=\"0.0\" y=\"0.0\"> </rect>\n",
       "<path class=\"bond-0 atom-0 atom-1\" d=\"M 39.9,64.5 L 51.2,58.6\" style=\"fill:none;fill-rule:evenodd;stroke:#0000FF;stroke-width:2.0px;stroke-linecap:butt;stroke-linejoin:miter;stroke-opacity:1\"/>\n",
       "<path class=\"bond-0 atom-0 atom-1\" d=\"M 51.2,58.6 L 62.5,52.7\" style=\"fill:none;fill-rule:evenodd;stroke:#000000;stroke-width:2.0px;stroke-linecap:butt;stroke-linejoin:miter;stroke-opacity:1\"/>\n",
       "<path class=\"bond-1 atom-1 atom-2\" d=\"M 62.5,52.7 L 88.0,68.9\" style=\"fill:none;fill-rule:evenodd;stroke:#000000;stroke-width:2.0px;stroke-linecap:butt;stroke-linejoin:miter;stroke-opacity:1\"/>\n",
       "<path class=\"bond-2 atom-2 atom-3\" d=\"M 88.0,68.9 L 114.7,54.9\" style=\"fill:none;fill-rule:evenodd;stroke:#000000;stroke-width:2.0px;stroke-linecap:butt;stroke-linejoin:miter;stroke-opacity:1\"/>\n",
       "<path class=\"bond-3 atom-3 atom-4\" d=\"M 114.7,54.9 L 140.2,71.1\" style=\"fill:none;fill-rule:evenodd;stroke:#000000;stroke-width:2.0px;stroke-linecap:butt;stroke-linejoin:miter;stroke-opacity:1\"/>\n",
       "<path class=\"bond-4 atom-4 atom-5\" d=\"M 140.2,71.1 L 167.0,57.1\" style=\"fill:none;fill-rule:evenodd;stroke:#000000;stroke-width:2.0px;stroke-linecap:butt;stroke-linejoin:miter;stroke-opacity:1\"/>\n",
       "<path class=\"bond-5 atom-5 atom-6\" d=\"M 167.0,57.1 L 192.5,73.2\" style=\"fill:none;fill-rule:evenodd;stroke:#000000;stroke-width:2.0px;stroke-linecap:butt;stroke-linejoin:miter;stroke-opacity:1\"/>\n",
       "<path class=\"bond-6 atom-6 atom-7\" d=\"M 192.5,73.2 L 219.2,59.2\" style=\"fill:none;fill-rule:evenodd;stroke:#000000;stroke-width:2.0px;stroke-linecap:butt;stroke-linejoin:miter;stroke-opacity:1\"/>\n",
       "<path class=\"bond-7 atom-8 atom-9\" d=\"M 244.7,75.4 L 255.7,69.7\" style=\"fill:none;fill-rule:evenodd;stroke:#000000;stroke-width:2.0px;stroke-linecap:butt;stroke-linejoin:miter;stroke-opacity:1\"/>\n",
       "<path class=\"bond-7 atom-8 atom-9\" d=\"M 255.7,69.7 L 266.6,64.0\" style=\"fill:none;fill-rule:evenodd;stroke:#FF0000;stroke-width:2.0px;stroke-linecap:butt;stroke-linejoin:miter;stroke-opacity:1\"/>\n",
       "<path class=\"bond-8 atom-9 atom-10\" d=\"M 276.4,64.5 L 292.1,74.5\" style=\"fill:none;fill-rule:evenodd;stroke:#FF0000;stroke-width:2.0px;stroke-linecap:butt;stroke-linejoin:miter;stroke-opacity:1\"/>\n",
       "<path class=\"bond-9 atom-10 atom-11\" d=\"M 301.9,75.0 L 312.8,69.3\" style=\"fill:none;fill-rule:evenodd;stroke:#FF0000;stroke-width:2.0px;stroke-linecap:butt;stroke-linejoin:miter;stroke-opacity:1\"/>\n",
       "<path class=\"bond-9 atom-10 atom-11\" d=\"M 312.8,69.3 L 323.8,63.6\" style=\"fill:none;fill-rule:evenodd;stroke:#000000;stroke-width:2.0px;stroke-linecap:butt;stroke-linejoin:miter;stroke-opacity:1\"/>\n",
       "<path class=\"bond-10 atom-7 atom-8\" d=\"M 219.2,59.2 L 244.7,75.4\" style=\"fill:none;fill-rule:evenodd;stroke:#000000;stroke-width:2.0px;stroke-linecap:butt;stroke-linejoin:miter;stroke-opacity:1\"/>\n",
       "<path class=\"bond-11 atom-12 atom-13\" d=\"M 349.3,79.8 L 376.0,65.8\" style=\"fill:none;fill-rule:evenodd;stroke:#000000;stroke-width:2.0px;stroke-linecap:butt;stroke-linejoin:miter;stroke-opacity:1\"/>\n",
       "<path class=\"bond-12 atom-13 atom-14\" d=\"M 376.0,65.8 L 377.3,35.6\" style=\"fill:none;fill-rule:evenodd;stroke:#000000;stroke-width:2.0px;stroke-linecap:butt;stroke-linejoin:miter;stroke-opacity:1\"/>\n",
       "<path class=\"bond-13 atom-14 atom-15\" d=\"M 377.3,35.6 L 404.0,21.6\" style=\"fill:none;fill-rule:evenodd;stroke:#000000;stroke-width:2.0px;stroke-linecap:butt;stroke-linejoin:miter;stroke-opacity:1\"/>\n",
       "<path class=\"bond-14 atom-15 atom-16\" d=\"M 404.0,21.6 L 429.5,37.8\" style=\"fill:none;fill-rule:evenodd;stroke:#000000;stroke-width:2.0px;stroke-linecap:butt;stroke-linejoin:miter;stroke-opacity:1\"/>\n",
       "<path class=\"bond-15 atom-16 atom-17\" d=\"M 429.5,37.8 L 428.3,67.9\" style=\"fill:none;fill-rule:evenodd;stroke:#000000;stroke-width:2.0px;stroke-linecap:butt;stroke-linejoin:miter;stroke-opacity:1\"/>\n",
       "<path class=\"bond-16 atom-17 atom-18\" d=\"M 428.3,67.9 L 401.5,81.9\" style=\"fill:none;fill-rule:evenodd;stroke:#000000;stroke-width:2.0px;stroke-linecap:butt;stroke-linejoin:miter;stroke-opacity:1\"/>\n",
       "<path class=\"bond-17 atom-18 atom-13\" d=\"M 401.5,81.9 L 376.0,65.8\" style=\"fill:none;fill-rule:evenodd;stroke:#000000;stroke-width:2.0px;stroke-linecap:butt;stroke-linejoin:miter;stroke-opacity:1\"/>\n",
       "<path class=\"bond-18 atom-11 atom-12\" d=\"M 323.8,63.6 L 349.3,79.8\" style=\"fill:none;fill-rule:evenodd;stroke:#000000;stroke-width:2.0px;stroke-linecap:butt;stroke-linejoin:miter;stroke-opacity:1\"/>\n",
       "<path class=\"bond-19 atom-19 atom-20\" d=\"M 348.0,109.9 L 337.1,115.7\" style=\"fill:none;fill-rule:evenodd;stroke:#000000;stroke-width:2.0px;stroke-linecap:butt;stroke-linejoin:miter;stroke-opacity:1\"/>\n",
       "<path class=\"bond-19 atom-19 atom-20\" d=\"M 337.1,115.7 L 326.2,121.4\" style=\"fill:none;fill-rule:evenodd;stroke:#FF0000;stroke-width:2.0px;stroke-linecap:butt;stroke-linejoin:miter;stroke-opacity:1\"/>\n",
       "<path class=\"bond-20 atom-12 atom-19\" d=\"M 349.3,79.8 L 348.0,109.9\" style=\"fill:none;fill-rule:evenodd;stroke:#000000;stroke-width:2.0px;stroke-linecap:butt;stroke-linejoin:miter;stroke-opacity:1\"/>\n",
       "<path class=\"atom-0\" d=\"M 20.5 62.4 L 21.6 62.4 L 21.6 66.1 L 26.0 66.1 L 26.0 62.4 L 27.1 62.4 L 27.1 71.0 L 26.0 71.0 L 26.0 67.0 L 21.6 67.0 L 21.6 71.0 L 20.5 71.0 L 20.5 62.4 \" fill=\"#0000FF\"/>\n",
       "<path class=\"atom-0\" d=\"M 28.2 70.7 Q 28.4 70.2, 28.9 69.9 Q 29.4 69.6, 30.1 69.6 Q 30.9 69.6, 31.4 70.0 Q 31.9 70.5, 31.9 71.3 Q 31.9 72.1, 31.3 72.9 Q 30.6 73.7, 29.4 74.6 L 32.0 74.6 L 32.0 75.3 L 28.2 75.3 L 28.2 74.7 Q 29.2 74.0, 29.8 73.4 Q 30.5 72.9, 30.8 72.4 Q 31.1 71.9, 31.1 71.3 Q 31.1 70.8, 30.8 70.5 Q 30.5 70.2, 30.1 70.2 Q 29.6 70.2, 29.3 70.4 Q 29.0 70.6, 28.8 71.0 L 28.2 70.7 \" fill=\"#0000FF\"/>\n",
       "<path class=\"atom-0\" d=\"M 33.8 62.4 L 36.6 67.0 Q 36.9 67.4, 37.3 68.2 Q 37.8 69.0, 37.8 69.1 L 37.8 62.4 L 38.9 62.4 L 38.9 71.0 L 37.8 71.0 L 34.8 66.0 Q 34.4 65.5, 34.0 64.8 Q 33.7 64.1, 33.6 63.9 L 33.6 71.0 L 32.5 71.0 L 32.5 62.4 L 33.8 62.4 \" fill=\"#0000FF\"/>\n",
       "<path class=\"atom-9\" d=\"M 267.6 61.4 Q 267.6 59.4, 268.6 58.2 Q 269.6 57.1, 271.5 57.1 Q 273.4 57.1, 274.4 58.2 Q 275.4 59.4, 275.4 61.4 Q 275.4 63.5, 274.4 64.7 Q 273.4 65.9, 271.5 65.9 Q 269.6 65.9, 268.6 64.7 Q 267.6 63.5, 267.6 61.4 M 271.5 64.9 Q 272.8 64.9, 273.5 64.0 Q 274.2 63.2, 274.2 61.4 Q 274.2 59.8, 273.5 58.9 Q 272.8 58.1, 271.5 58.1 Q 270.2 58.1, 269.5 58.9 Q 268.8 59.8, 268.8 61.4 Q 268.8 63.2, 269.5 64.0 Q 270.2 64.9, 271.5 64.9 \" fill=\"#FF0000\"/>\n",
       "<path class=\"atom-10\" d=\"M 293.1 77.6 Q 293.1 75.6, 294.1 74.4 Q 295.1 73.3, 297.0 73.3 Q 298.9 73.3, 299.9 74.4 Q 300.9 75.6, 300.9 77.6 Q 300.9 79.7, 299.9 80.9 Q 298.9 82.1, 297.0 82.1 Q 295.1 82.1, 294.1 80.9 Q 293.1 79.7, 293.1 77.6 M 297.0 81.1 Q 298.3 81.1, 299.0 80.2 Q 299.7 79.3, 299.7 77.6 Q 299.7 75.9, 299.0 75.1 Q 298.3 74.2, 297.0 74.2 Q 295.7 74.2, 295.0 75.1 Q 294.3 75.9, 294.3 77.6 Q 294.3 79.3, 295.0 80.2 Q 295.7 81.1, 297.0 81.1 \" fill=\"#FF0000\"/>\n",
       "<path class=\"atom-20\" d=\"M 309.6 119.7 L 310.8 119.7 L 310.8 123.4 L 315.1 123.4 L 315.1 119.7 L 316.3 119.7 L 316.3 128.3 L 315.1 128.3 L 315.1 124.3 L 310.8 124.3 L 310.8 128.3 L 309.6 128.3 L 309.6 119.7 \" fill=\"#FF0000\"/>\n",
       "<path class=\"atom-20\" d=\"M 317.3 124.0 Q 317.3 121.9, 318.3 120.8 Q 319.4 119.6, 321.3 119.6 Q 323.1 119.6, 324.2 120.8 Q 325.2 121.9, 325.2 124.0 Q 325.2 126.0, 324.2 127.2 Q 323.1 128.4, 321.3 128.4 Q 319.4 128.4, 318.3 127.2 Q 317.3 126.1, 317.3 124.0 M 321.3 127.4 Q 322.6 127.4, 323.3 126.6 Q 324.0 125.7, 324.0 124.0 Q 324.0 122.3, 323.3 121.4 Q 322.6 120.6, 321.3 120.6 Q 319.9 120.6, 319.2 121.4 Q 318.5 122.3, 318.5 124.0 Q 318.5 125.7, 319.2 126.6 Q 319.9 127.4, 321.3 127.4 \" fill=\"#FF0000\"/>\n",
       "</svg>"
      ],
      "text/plain": [
       "<IPython.core.display.SVG object>"
      ]
     },
     "execution_count": 27,
     "metadata": {},
     "output_type": "execute_result"
    }
   ],
   "source": [
    "big_smiles_gen(big)"
   ]
  },
  {
   "cell_type": "markdown",
   "id": "e2d1370c",
   "metadata": {},
   "source": [
    "# New! Polyolefins, because a '=' remains\n",
    "\n",
    "## CH2=CH-(CH2)nCH3  where n varies from 1 to 5"
   ]
  },
  {
   "cell_type": "code",
   "execution_count": 28,
   "id": "79ae076b",
   "metadata": {},
   "outputs": [
    {
     "data": {
      "text/plain": [
       "'C=C{[$][$]C[$][$]}|uniform(12,60)|C'"
      ]
     },
     "execution_count": 28,
     "metadata": {},
     "output_type": "execute_result"
    }
   ],
   "source": [
    "big = \"C=C{[$][$]C[$][$]}|uniform(12,60)|C\"\n",
    "big"
   ]
  },
  {
   "cell_type": "code",
   "execution_count": 29,
   "id": "c83fae3f",
   "metadata": {},
   "outputs": [
    {
     "data": {
      "image/svg+xml": [
       "<svg xmlns=\"http://www.w3.org/2000/svg\" xmlns:rdkit=\"http://www.rdkit.org/xml\" xmlns:xlink=\"http://www.w3.org/1999/xlink\" version=\"1.1\" baseProfile=\"full\" xml:space=\"preserve\" width=\"450px\" height=\"150px\" viewBox=\"0 0 450 150\">\n",
       "<!-- END OF HEADER -->\n",
       "<rect style=\"opacity:1.0;fill:#FFFFFF;stroke:none\" width=\"450.0\" height=\"150.0\" x=\"0.0\" y=\"0.0\"> </rect>\n",
       "<path class=\"bond-0 atom-0 atom-1\" d=\"M 20.5,83.1 L 79.2,51.3\" style=\"fill:none;fill-rule:evenodd;stroke:#000000;stroke-width:2.0px;stroke-linecap:butt;stroke-linejoin:miter;stroke-opacity:1\"/>\n",
       "<path class=\"bond-0 atom-0 atom-1\" d=\"M 26.8,94.9 L 85.6,63.1\" style=\"fill:none;fill-rule:evenodd;stroke:#000000;stroke-width:2.0px;stroke-linecap:butt;stroke-linejoin:miter;stroke-opacity:1\"/>\n",
       "<path class=\"bond-1 atom-1 atom-2\" d=\"M 82.4,57.2 L 139.3,92.2\" style=\"fill:none;fill-rule:evenodd;stroke:#000000;stroke-width:2.0px;stroke-linecap:butt;stroke-linejoin:miter;stroke-opacity:1\"/>\n",
       "<path class=\"bond-2 atom-2 atom-3\" d=\"M 139.3,92.2 L 198.1,60.4\" style=\"fill:none;fill-rule:evenodd;stroke:#000000;stroke-width:2.0px;stroke-linecap:butt;stroke-linejoin:miter;stroke-opacity:1\"/>\n",
       "<path class=\"bond-3 atom-3 atom-4\" d=\"M 198.1,60.4 L 255.1,95.4\" style=\"fill:none;fill-rule:evenodd;stroke:#000000;stroke-width:2.0px;stroke-linecap:butt;stroke-linejoin:miter;stroke-opacity:1\"/>\n",
       "<path class=\"bond-4 atom-4 atom-5\" d=\"M 255.1,95.4 L 313.8,63.7\" style=\"fill:none;fill-rule:evenodd;stroke:#000000;stroke-width:2.0px;stroke-linecap:butt;stroke-linejoin:miter;stroke-opacity:1\"/>\n",
       "<path class=\"bond-5 atom-5 atom-6\" d=\"M 313.8,63.7 L 370.8,98.7\" style=\"fill:none;fill-rule:evenodd;stroke:#000000;stroke-width:2.0px;stroke-linecap:butt;stroke-linejoin:miter;stroke-opacity:1\"/>\n",
       "<path class=\"bond-6 atom-6 atom-7\" d=\"M 370.8,98.7 L 429.5,66.9\" style=\"fill:none;fill-rule:evenodd;stroke:#000000;stroke-width:2.0px;stroke-linecap:butt;stroke-linejoin:miter;stroke-opacity:1\"/>\n",
       "</svg>"
      ],
      "text/plain": [
       "<IPython.core.display.SVG object>"
      ]
     },
     "execution_count": 29,
     "metadata": {},
     "output_type": "execute_result"
    }
   ],
   "source": [
    "big_smiles_gen(big)"
   ]
  },
  {
   "cell_type": "code",
   "execution_count": 30,
   "id": "eaf5f6ac",
   "metadata": {},
   "outputs": [
    {
     "data": {
      "image/svg+xml": [
       "<svg xmlns=\"http://www.w3.org/2000/svg\" xmlns:rdkit=\"http://www.rdkit.org/xml\" xmlns:xlink=\"http://www.w3.org/1999/xlink\" version=\"1.1\" baseProfile=\"full\" xml:space=\"preserve\" width=\"450px\" height=\"150px\" viewBox=\"0 0 450 150\">\n",
       "<!-- END OF HEADER -->\n",
       "<rect style=\"opacity:1.0;fill:#FFFFFF;stroke:none\" width=\"450.0\" height=\"150.0\" x=\"0.0\" y=\"0.0\"> </rect>\n",
       "<path class=\"bond-0 atom-0 atom-1\" d=\"M 20.5,83.9 L 103.3,41.5\" style=\"fill:none;fill-rule:evenodd;stroke:#000000;stroke-width:2.0px;stroke-linecap:butt;stroke-linejoin:miter;stroke-opacity:1\"/>\n",
       "<path class=\"bond-0 atom-0 atom-1\" d=\"M 28.9,100.4 L 111.8,58.1\" style=\"fill:none;fill-rule:evenodd;stroke:#000000;stroke-width:2.0px;stroke-linecap:butt;stroke-linejoin:miter;stroke-opacity:1\"/>\n",
       "<path class=\"bond-1 atom-1 atom-2\" d=\"M 107.6,49.8 L 185.7,100.3\" style=\"fill:none;fill-rule:evenodd;stroke:#000000;stroke-width:2.0px;stroke-linecap:butt;stroke-linejoin:miter;stroke-opacity:1\"/>\n",
       "<path class=\"bond-2 atom-2 atom-3\" d=\"M 185.7,100.3 L 268.5,58.0\" style=\"fill:none;fill-rule:evenodd;stroke:#000000;stroke-width:2.0px;stroke-linecap:butt;stroke-linejoin:miter;stroke-opacity:1\"/>\n",
       "<path class=\"bond-3 atom-3 atom-4\" d=\"M 268.5,58.0 L 346.7,108.5\" style=\"fill:none;fill-rule:evenodd;stroke:#000000;stroke-width:2.0px;stroke-linecap:butt;stroke-linejoin:miter;stroke-opacity:1\"/>\n",
       "<path class=\"bond-4 atom-4 atom-5\" d=\"M 346.7,108.5 L 429.5,66.1\" style=\"fill:none;fill-rule:evenodd;stroke:#000000;stroke-width:2.0px;stroke-linecap:butt;stroke-linejoin:miter;stroke-opacity:1\"/>\n",
       "</svg>"
      ],
      "text/plain": [
       "<IPython.core.display.SVG object>"
      ]
     },
     "execution_count": 30,
     "metadata": {},
     "output_type": "execute_result"
    }
   ],
   "source": [
    "big_smiles_gen(big)"
   ]
  },
  {
   "cell_type": "markdown",
   "id": "5f15bd1b",
   "metadata": {},
   "source": [
    "## CH2-CH-(CH2)n-CH=CH2 where n varies from 1 to 3"
   ]
  },
  {
   "cell_type": "code",
   "execution_count": 31,
   "id": "048967e8",
   "metadata": {},
   "outputs": [
    {
     "data": {
      "text/plain": [
       "'CC{[$][$]C[$][$]}|uniform(12, 36)|C=C'"
      ]
     },
     "execution_count": 31,
     "metadata": {},
     "output_type": "execute_result"
    }
   ],
   "source": [
    "big = \"CC{[$][$]C[$][$]}|uniform(12, 36)|C=C\"\n",
    "big"
   ]
  },
  {
   "cell_type": "code",
   "execution_count": 32,
   "id": "e0856e12",
   "metadata": {},
   "outputs": [
    {
     "data": {
      "image/svg+xml": [
       "<svg xmlns=\"http://www.w3.org/2000/svg\" xmlns:rdkit=\"http://www.rdkit.org/xml\" xmlns:xlink=\"http://www.w3.org/1999/xlink\" version=\"1.1\" baseProfile=\"full\" xml:space=\"preserve\" width=\"450px\" height=\"150px\" viewBox=\"0 0 450 150\">\n",
       "<!-- END OF HEADER -->\n",
       "<rect style=\"opacity:1.0;fill:#FFFFFF;stroke:none\" width=\"450.0\" height=\"150.0\" x=\"0.0\" y=\"0.0\"> </rect>\n",
       "<path class=\"bond-0 atom-0 atom-1\" d=\"M 20.5,94.5 L 88.0,55.5\" style=\"fill:none;fill-rule:evenodd;stroke:#000000;stroke-width:2.0px;stroke-linecap:butt;stroke-linejoin:miter;stroke-opacity:1\"/>\n",
       "<path class=\"bond-1 atom-1 atom-2\" d=\"M 88.0,55.5 L 155.5,94.5\" style=\"fill:none;fill-rule:evenodd;stroke:#000000;stroke-width:2.0px;stroke-linecap:butt;stroke-linejoin:miter;stroke-opacity:1\"/>\n",
       "<path class=\"bond-2 atom-2 atom-3\" d=\"M 155.5,94.5 L 223.1,55.5\" style=\"fill:none;fill-rule:evenodd;stroke:#000000;stroke-width:2.0px;stroke-linecap:butt;stroke-linejoin:miter;stroke-opacity:1\"/>\n",
       "<path class=\"bond-3 atom-3 atom-4\" d=\"M 223.1,55.5 L 290.6,94.5\" style=\"fill:none;fill-rule:evenodd;stroke:#000000;stroke-width:2.0px;stroke-linecap:butt;stroke-linejoin:miter;stroke-opacity:1\"/>\n",
       "<path class=\"bond-4 atom-5 atom-6\" d=\"M 362.0,48.8 L 429.5,87.7\" style=\"fill:none;fill-rule:evenodd;stroke:#000000;stroke-width:2.0px;stroke-linecap:butt;stroke-linejoin:miter;stroke-opacity:1\"/>\n",
       "<path class=\"bond-4 atom-5 atom-6\" d=\"M 354.2,62.3 L 421.7,101.2\" style=\"fill:none;fill-rule:evenodd;stroke:#000000;stroke-width:2.0px;stroke-linecap:butt;stroke-linejoin:miter;stroke-opacity:1\"/>\n",
       "<path class=\"bond-5 atom-4 atom-5\" d=\"M 290.6,94.5 L 358.1,55.5\" style=\"fill:none;fill-rule:evenodd;stroke:#000000;stroke-width:2.0px;stroke-linecap:butt;stroke-linejoin:miter;stroke-opacity:1\"/>\n",
       "</svg>"
      ],
      "text/plain": [
       "<IPython.core.display.SVG object>"
      ]
     },
     "execution_count": 32,
     "metadata": {},
     "output_type": "execute_result"
    }
   ],
   "source": [
    "big_smiles_gen(big)"
   ]
  },
  {
   "cell_type": "code",
   "execution_count": 33,
   "id": "d460780b",
   "metadata": {},
   "outputs": [
    {
     "data": {
      "image/svg+xml": [
       "<svg xmlns=\"http://www.w3.org/2000/svg\" xmlns:rdkit=\"http://www.rdkit.org/xml\" xmlns:xlink=\"http://www.w3.org/1999/xlink\" version=\"1.1\" baseProfile=\"full\" xml:space=\"preserve\" width=\"450px\" height=\"150px\" viewBox=\"0 0 450 150\">\n",
       "<!-- END OF HEADER -->\n",
       "<rect style=\"opacity:1.0;fill:#FFFFFF;stroke:none\" width=\"450.0\" height=\"150.0\" x=\"0.0\" y=\"0.0\"> </rect>\n",
       "<path class=\"bond-0 atom-0 atom-1\" d=\"M 20.5,94.5 L 88.0,55.5\" style=\"fill:none;fill-rule:evenodd;stroke:#000000;stroke-width:2.0px;stroke-linecap:butt;stroke-linejoin:miter;stroke-opacity:1\"/>\n",
       "<path class=\"bond-1 atom-1 atom-2\" d=\"M 88.0,55.5 L 155.5,94.5\" style=\"fill:none;fill-rule:evenodd;stroke:#000000;stroke-width:2.0px;stroke-linecap:butt;stroke-linejoin:miter;stroke-opacity:1\"/>\n",
       "<path class=\"bond-2 atom-2 atom-3\" d=\"M 155.5,94.5 L 223.1,55.5\" style=\"fill:none;fill-rule:evenodd;stroke:#000000;stroke-width:2.0px;stroke-linecap:butt;stroke-linejoin:miter;stroke-opacity:1\"/>\n",
       "<path class=\"bond-3 atom-3 atom-4\" d=\"M 223.1,55.5 L 290.6,94.5\" style=\"fill:none;fill-rule:evenodd;stroke:#000000;stroke-width:2.0px;stroke-linecap:butt;stroke-linejoin:miter;stroke-opacity:1\"/>\n",
       "<path class=\"bond-4 atom-5 atom-6\" d=\"M 362.0,48.8 L 429.5,87.7\" style=\"fill:none;fill-rule:evenodd;stroke:#000000;stroke-width:2.0px;stroke-linecap:butt;stroke-linejoin:miter;stroke-opacity:1\"/>\n",
       "<path class=\"bond-4 atom-5 atom-6\" d=\"M 354.2,62.3 L 421.7,101.2\" style=\"fill:none;fill-rule:evenodd;stroke:#000000;stroke-width:2.0px;stroke-linecap:butt;stroke-linejoin:miter;stroke-opacity:1\"/>\n",
       "<path class=\"bond-5 atom-4 atom-5\" d=\"M 290.6,94.5 L 358.1,55.5\" style=\"fill:none;fill-rule:evenodd;stroke:#000000;stroke-width:2.0px;stroke-linecap:butt;stroke-linejoin:miter;stroke-opacity:1\"/>\n",
       "</svg>"
      ],
      "text/plain": [
       "<IPython.core.display.SVG object>"
      ]
     },
     "execution_count": 33,
     "metadata": {},
     "output_type": "execute_result"
    }
   ],
   "source": [
    "big_smiles_gen(big)"
   ]
  },
  {
   "cell_type": "markdown",
   "id": "e06c8273",
   "metadata": {},
   "source": [
    "## Classic diblock PS-b-P2VP"
   ]
  },
  {
   "cell_type": "code",
   "execution_count": 34,
   "id": "5e0b3aa4",
   "metadata": {},
   "outputs": [],
   "source": [
    "big = \"[H]{[<][<]C([>])c1ccccc1[>]}|gauss(100,20)|{[<][>]C([<])c1ccncc1[>]}|gauss(100, 20)|[H]\""
   ]
  },
  {
   "cell_type": "code",
   "execution_count": 35,
   "id": "1130059c",
   "metadata": {},
   "outputs": [
    {
     "data": {
      "image/svg+xml": [
       "<svg xmlns=\"http://www.w3.org/2000/svg\" xmlns:rdkit=\"http://www.rdkit.org/xml\" xmlns:xlink=\"http://www.w3.org/1999/xlink\" version=\"1.1\" baseProfile=\"full\" xml:space=\"preserve\" width=\"450px\" height=\"150px\" viewBox=\"0 0 450 150\">\n",
       "<!-- END OF HEADER -->\n",
       "<rect style=\"opacity:1.0;fill:#FFFFFF;stroke:none\" width=\"450.0\" height=\"150.0\" x=\"0.0\" y=\"0.0\"> </rect>\n",
       "<path class=\"bond-0 atom-1 atom-2\" d=\"M 256.1,36.6 L 285.7,36.6\" style=\"fill:none;fill-rule:evenodd;stroke:#000000;stroke-width:2.0px;stroke-linecap:butt;stroke-linejoin:miter;stroke-opacity:1\"/>\n",
       "<path class=\"bond-1 atom-2 atom-3\" d=\"M 285.7,36.6 L 300.5,11.0\" style=\"fill:none;fill-rule:evenodd;stroke:#000000;stroke-width:2.0px;stroke-linecap:butt;stroke-linejoin:miter;stroke-opacity:1\"/>\n",
       "<path class=\"bond-1 atom-2 atom-3\" d=\"M 293.0,35.7 L 303.4,17.8\" style=\"fill:none;fill-rule:evenodd;stroke:#000000;stroke-width:2.0px;stroke-linecap:butt;stroke-linejoin:miter;stroke-opacity:1\"/>\n",
       "<path class=\"bond-2 atom-3 atom-4\" d=\"M 300.5,11.0 L 330.0,11.0\" style=\"fill:none;fill-rule:evenodd;stroke:#000000;stroke-width:2.0px;stroke-linecap:butt;stroke-linejoin:miter;stroke-opacity:1\"/>\n",
       "<path class=\"bond-3 atom-4 atom-5\" d=\"M 330.0,11.0 L 344.8,36.6\" style=\"fill:none;fill-rule:evenodd;stroke:#000000;stroke-width:2.0px;stroke-linecap:butt;stroke-linejoin:miter;stroke-opacity:1\"/>\n",
       "<path class=\"bond-3 atom-4 atom-5\" d=\"M 327.1,17.8 L 337.5,35.7\" style=\"fill:none;fill-rule:evenodd;stroke:#000000;stroke-width:2.0px;stroke-linecap:butt;stroke-linejoin:miter;stroke-opacity:1\"/>\n",
       "<path class=\"bond-4 atom-5 atom-6\" d=\"M 344.8,36.6 L 330.0,62.2\" style=\"fill:none;fill-rule:evenodd;stroke:#000000;stroke-width:2.0px;stroke-linecap:butt;stroke-linejoin:miter;stroke-opacity:1\"/>\n",
       "<path class=\"bond-5 atom-6 atom-7\" d=\"M 330.0,62.2 L 300.5,62.2\" style=\"fill:none;fill-rule:evenodd;stroke:#000000;stroke-width:2.0px;stroke-linecap:butt;stroke-linejoin:miter;stroke-opacity:1\"/>\n",
       "<path class=\"bond-5 atom-6 atom-7\" d=\"M 325.6,56.3 L 304.9,56.3\" style=\"fill:none;fill-rule:evenodd;stroke:#000000;stroke-width:2.0px;stroke-linecap:butt;stroke-linejoin:miter;stroke-opacity:1\"/>\n",
       "<path class=\"bond-6 atom-7 atom-2\" d=\"M 300.5,62.2 L 285.7,36.6\" style=\"fill:none;fill-rule:evenodd;stroke:#000000;stroke-width:2.0px;stroke-linecap:butt;stroke-linejoin:miter;stroke-opacity:1\"/>\n",
       "<path class=\"bond-7 atom-0 atom-1\" d=\"M 244.3,16.2 L 256.1,36.6\" style=\"fill:none;fill-rule:evenodd;stroke:#000000;stroke-width:2.0px;stroke-linecap:butt;stroke-linejoin:miter;stroke-opacity:1\"/>\n",
       "<path class=\"bond-8 atom-8 atom-9\" d=\"M 241.4,62.2 L 256.1,87.8\" style=\"fill:none;fill-rule:evenodd;stroke:#000000;stroke-width:2.0px;stroke-linecap:butt;stroke-linejoin:miter;stroke-opacity:1\"/>\n",
       "<path class=\"bond-9 atom-9 atom-10\" d=\"M 256.1,87.8 L 241.4,113.4\" style=\"fill:none;fill-rule:evenodd;stroke:#000000;stroke-width:2.0px;stroke-linecap:butt;stroke-linejoin:miter;stroke-opacity:1\"/>\n",
       "<path class=\"bond-9 atom-9 atom-10\" d=\"M 259.0,94.6 L 248.7,112.5\" style=\"fill:none;fill-rule:evenodd;stroke:#000000;stroke-width:2.0px;stroke-linecap:butt;stroke-linejoin:miter;stroke-opacity:1\"/>\n",
       "<path class=\"bond-10 atom-10 atom-11\" d=\"M 241.4,113.4 L 256.1,139.0\" style=\"fill:none;fill-rule:evenodd;stroke:#000000;stroke-width:2.0px;stroke-linecap:butt;stroke-linejoin:miter;stroke-opacity:1\"/>\n",
       "<path class=\"bond-11 atom-11 atom-12\" d=\"M 256.1,139.0 L 285.7,139.0\" style=\"fill:none;fill-rule:evenodd;stroke:#000000;stroke-width:2.0px;stroke-linecap:butt;stroke-linejoin:miter;stroke-opacity:1\"/>\n",
       "<path class=\"bond-11 atom-11 atom-12\" d=\"M 260.6,133.1 L 281.3,133.1\" style=\"fill:none;fill-rule:evenodd;stroke:#000000;stroke-width:2.0px;stroke-linecap:butt;stroke-linejoin:miter;stroke-opacity:1\"/>\n",
       "<path class=\"bond-12 atom-12 atom-13\" d=\"M 285.7,139.0 L 300.5,113.4\" style=\"fill:none;fill-rule:evenodd;stroke:#000000;stroke-width:2.0px;stroke-linecap:butt;stroke-linejoin:miter;stroke-opacity:1\"/>\n",
       "<path class=\"bond-13 atom-13 atom-14\" d=\"M 300.5,113.4 L 285.7,87.8\" style=\"fill:none;fill-rule:evenodd;stroke:#000000;stroke-width:2.0px;stroke-linecap:butt;stroke-linejoin:miter;stroke-opacity:1\"/>\n",
       "<path class=\"bond-13 atom-13 atom-14\" d=\"M 293.1,112.5 L 282.8,94.6\" style=\"fill:none;fill-rule:evenodd;stroke:#000000;stroke-width:2.0px;stroke-linecap:butt;stroke-linejoin:miter;stroke-opacity:1\"/>\n",
       "<path class=\"bond-14 atom-14 atom-9\" d=\"M 285.7,87.8 L 256.1,87.8\" style=\"fill:none;fill-rule:evenodd;stroke:#000000;stroke-width:2.0px;stroke-linecap:butt;stroke-linejoin:miter;stroke-opacity:1\"/>\n",
       "<path class=\"bond-15 atom-1 atom-8\" d=\"M 256.1,36.6 L 241.4,62.2\" style=\"fill:none;fill-rule:evenodd;stroke:#000000;stroke-width:2.0px;stroke-linecap:butt;stroke-linejoin:miter;stroke-opacity:1\"/>\n",
       "<path class=\"bond-16 atom-15 atom-16\" d=\"M 211.8,62.2 L 197.0,87.8\" style=\"fill:none;fill-rule:evenodd;stroke:#000000;stroke-width:2.0px;stroke-linecap:butt;stroke-linejoin:miter;stroke-opacity:1\"/>\n",
       "<path class=\"bond-17 atom-16 atom-17\" d=\"M 197.0,87.8 L 167.5,87.8\" style=\"fill:none;fill-rule:evenodd;stroke:#000000;stroke-width:2.0px;stroke-linecap:butt;stroke-linejoin:miter;stroke-opacity:1\"/>\n",
       "<path class=\"bond-17 atom-16 atom-17\" d=\"M 192.6,93.7 L 171.9,93.7\" style=\"fill:none;fill-rule:evenodd;stroke:#000000;stroke-width:2.0px;stroke-linecap:butt;stroke-linejoin:miter;stroke-opacity:1\"/>\n",
       "<path class=\"bond-18 atom-17 atom-18\" d=\"M 167.5,87.8 L 152.7,113.4\" style=\"fill:none;fill-rule:evenodd;stroke:#000000;stroke-width:2.0px;stroke-linecap:butt;stroke-linejoin:miter;stroke-opacity:1\"/>\n",
       "<path class=\"bond-19 atom-18 atom-19\" d=\"M 152.7,113.4 L 158.6,123.6\" style=\"fill:none;fill-rule:evenodd;stroke:#000000;stroke-width:2.0px;stroke-linecap:butt;stroke-linejoin:miter;stroke-opacity:1\"/>\n",
       "<path class=\"bond-19 atom-18 atom-19\" d=\"M 158.6,123.6 L 164.5,133.8\" style=\"fill:none;fill-rule:evenodd;stroke:#0000FF;stroke-width:2.0px;stroke-linecap:butt;stroke-linejoin:miter;stroke-opacity:1\"/>\n",
       "<path class=\"bond-19 atom-18 atom-19\" d=\"M 159.6,113.5 L 163.7,120.7\" style=\"fill:none;fill-rule:evenodd;stroke:#000000;stroke-width:2.0px;stroke-linecap:butt;stroke-linejoin:miter;stroke-opacity:1\"/>\n",
       "<path class=\"bond-19 atom-18 atom-19\" d=\"M 163.7,120.7 L 167.8,127.8\" style=\"fill:none;fill-rule:evenodd;stroke:#0000FF;stroke-width:2.0px;stroke-linecap:butt;stroke-linejoin:miter;stroke-opacity:1\"/>\n",
       "<path class=\"bond-20 atom-19 atom-20\" d=\"M 171.6,139.0 L 184.3,139.0\" style=\"fill:none;fill-rule:evenodd;stroke:#0000FF;stroke-width:2.0px;stroke-linecap:butt;stroke-linejoin:miter;stroke-opacity:1\"/>\n",
       "<path class=\"bond-20 atom-19 atom-20\" d=\"M 184.3,139.0 L 197.0,139.0\" style=\"fill:none;fill-rule:evenodd;stroke:#000000;stroke-width:2.0px;stroke-linecap:butt;stroke-linejoin:miter;stroke-opacity:1\"/>\n",
       "<path class=\"bond-21 atom-20 atom-21\" d=\"M 197.0,139.0 L 211.8,113.4\" style=\"fill:none;fill-rule:evenodd;stroke:#000000;stroke-width:2.0px;stroke-linecap:butt;stroke-linejoin:miter;stroke-opacity:1\"/>\n",
       "<path class=\"bond-21 atom-20 atom-21\" d=\"M 194.1,132.2 L 204.5,114.3\" style=\"fill:none;fill-rule:evenodd;stroke:#000000;stroke-width:2.0px;stroke-linecap:butt;stroke-linejoin:miter;stroke-opacity:1\"/>\n",
       "<path class=\"bond-22 atom-21 atom-16\" d=\"M 211.8,113.4 L 197.0,87.8\" style=\"fill:none;fill-rule:evenodd;stroke:#000000;stroke-width:2.0px;stroke-linecap:butt;stroke-linejoin:miter;stroke-opacity:1\"/>\n",
       "<path class=\"bond-23 atom-8 atom-15\" d=\"M 241.4,62.2 L 211.8,62.2\" style=\"fill:none;fill-rule:evenodd;stroke:#000000;stroke-width:2.0px;stroke-linecap:butt;stroke-linejoin:miter;stroke-opacity:1\"/>\n",
       "<path class=\"bond-24 atom-22 atom-23\" d=\"M 197.0,36.6 L 167.5,36.6\" style=\"fill:none;fill-rule:evenodd;stroke:#000000;stroke-width:2.0px;stroke-linecap:butt;stroke-linejoin:miter;stroke-opacity:1\"/>\n",
       "<path class=\"bond-25 atom-23 atom-24\" d=\"M 167.5,36.6 L 152.7,11.0\" style=\"fill:none;fill-rule:evenodd;stroke:#000000;stroke-width:2.0px;stroke-linecap:butt;stroke-linejoin:miter;stroke-opacity:1\"/>\n",
       "<path class=\"bond-25 atom-23 atom-24\" d=\"M 160.1,35.7 L 149.8,17.8\" style=\"fill:none;fill-rule:evenodd;stroke:#000000;stroke-width:2.0px;stroke-linecap:butt;stroke-linejoin:miter;stroke-opacity:1\"/>\n",
       "<path class=\"bond-26 atom-24 atom-25\" d=\"M 152.7,11.0 L 123.1,11.0\" style=\"fill:none;fill-rule:evenodd;stroke:#000000;stroke-width:2.0px;stroke-linecap:butt;stroke-linejoin:miter;stroke-opacity:1\"/>\n",
       "<path class=\"bond-27 atom-25 atom-26\" d=\"M 123.1,11.0 L 117.2,21.2\" style=\"fill:none;fill-rule:evenodd;stroke:#000000;stroke-width:2.0px;stroke-linecap:butt;stroke-linejoin:miter;stroke-opacity:1\"/>\n",
       "<path class=\"bond-27 atom-25 atom-26\" d=\"M 117.2,21.2 L 111.3,31.4\" style=\"fill:none;fill-rule:evenodd;stroke:#0000FF;stroke-width:2.0px;stroke-linecap:butt;stroke-linejoin:miter;stroke-opacity:1\"/>\n",
       "<path class=\"bond-27 atom-25 atom-26\" d=\"M 126.5,17.0 L 122.4,24.2\" style=\"fill:none;fill-rule:evenodd;stroke:#000000;stroke-width:2.0px;stroke-linecap:butt;stroke-linejoin:miter;stroke-opacity:1\"/>\n",
       "<path class=\"bond-27 atom-25 atom-26\" d=\"M 122.4,24.2 L 118.2,31.3\" style=\"fill:none;fill-rule:evenodd;stroke:#0000FF;stroke-width:2.0px;stroke-linecap:butt;stroke-linejoin:miter;stroke-opacity:1\"/>\n",
       "<path class=\"bond-28 atom-26 atom-27\" d=\"M 111.3,41.8 L 117.2,52.0\" style=\"fill:none;fill-rule:evenodd;stroke:#0000FF;stroke-width:2.0px;stroke-linecap:butt;stroke-linejoin:miter;stroke-opacity:1\"/>\n",
       "<path class=\"bond-28 atom-26 atom-27\" d=\"M 117.2,52.0 L 123.1,62.2\" style=\"fill:none;fill-rule:evenodd;stroke:#000000;stroke-width:2.0px;stroke-linecap:butt;stroke-linejoin:miter;stroke-opacity:1\"/>\n",
       "<path class=\"bond-29 atom-27 atom-28\" d=\"M 123.1,62.2 L 152.7,62.2\" style=\"fill:none;fill-rule:evenodd;stroke:#000000;stroke-width:2.0px;stroke-linecap:butt;stroke-linejoin:miter;stroke-opacity:1\"/>\n",
       "<path class=\"bond-29 atom-27 atom-28\" d=\"M 127.6,56.3 L 148.3,56.3\" style=\"fill:none;fill-rule:evenodd;stroke:#000000;stroke-width:2.0px;stroke-linecap:butt;stroke-linejoin:miter;stroke-opacity:1\"/>\n",
       "<path class=\"bond-30 atom-28 atom-23\" d=\"M 152.7,62.2 L 167.5,36.6\" style=\"fill:none;fill-rule:evenodd;stroke:#000000;stroke-width:2.0px;stroke-linecap:butt;stroke-linejoin:miter;stroke-opacity:1\"/>\n",
       "<path class=\"bond-31 atom-15 atom-22\" d=\"M 211.8,62.2 L 197.0,36.6\" style=\"fill:none;fill-rule:evenodd;stroke:#000000;stroke-width:2.0px;stroke-linecap:butt;stroke-linejoin:miter;stroke-opacity:1\"/>\n",
       "<path class=\"bond-32 atom-22 atom-29\" d=\"M 197.0,36.6 L 208.8,16.2\" style=\"fill:none;fill-rule:evenodd;stroke:#000000;stroke-width:2.0px;stroke-linecap:butt;stroke-linejoin:miter;stroke-opacity:1\"/>\n",
       "<path class=\"atom-0\" d=\"M 238.1 6.8 L 239.2 6.8 L 239.2 10.4 L 243.5 10.4 L 243.5 6.8 L 244.6 6.8 L 244.6 15.2 L 243.5 15.2 L 243.5 11.3 L 239.2 11.3 L 239.2 15.2 L 238.1 15.2 L 238.1 6.8 \" fill=\"#000000\"/>\n",
       "<path class=\"atom-19\" d=\"M 165.6 134.8 L 168.4 139.2 Q 168.6 139.7, 169.1 140.5 Q 169.5 141.3, 169.5 141.3 L 169.5 134.8 L 170.6 134.8 L 170.6 143.2 L 169.5 143.2 L 166.6 138.3 Q 166.2 137.8, 165.8 137.1 Q 165.5 136.5, 165.4 136.3 L 165.4 143.2 L 164.3 143.2 L 164.3 134.8 L 165.6 134.8 \" fill=\"#0000FF\"/>\n",
       "<path class=\"atom-26\" d=\"M 106.5 32.4 L 109.2 36.9 Q 109.5 37.3, 110.0 38.1 Q 110.4 38.9, 110.4 38.9 L 110.4 32.4 L 111.5 32.4 L 111.5 40.8 L 110.4 40.8 L 107.4 35.9 Q 107.1 35.4, 106.7 34.7 Q 106.4 34.1, 106.3 33.9 L 106.3 40.8 L 105.2 40.8 L 105.2 32.4 L 106.5 32.4 \" fill=\"#0000FF\"/>\n",
       "<path class=\"atom-29\" d=\"M 208.5 6.8 L 209.7 6.8 L 209.7 10.4 L 213.9 10.4 L 213.9 6.8 L 215.1 6.8 L 215.1 15.2 L 213.9 15.2 L 213.9 11.3 L 209.7 11.3 L 209.7 15.2 L 208.5 15.2 L 208.5 6.8 \" fill=\"#000000\"/>\n",
       "<path class=\"atom-0\" d=\"M 236.9,11.0 L 236.9,11.1 L 236.9,11.1 L 236.9,11.2 L 236.9,11.2 L 236.9,11.3 L 236.8,11.3 L 236.8,11.3 L 236.8,11.4 L 236.7,11.4 L 236.7,11.5 L 236.7,11.5 L 236.6,11.5 L 236.6,11.5 L 236.5,11.6 L 236.5,11.6 L 236.4,11.6 L 236.4,11.6 L 236.3,11.6 L 236.3,11.6 L 236.2,11.6 L 236.2,11.6 L 236.1,11.6 L 236.1,11.5 L 236.0,11.5 L 236.0,11.5 L 236.0,11.5 L 235.9,11.4 L 235.9,11.4 L 235.8,11.4 L 235.8,11.3 L 235.8,11.3 L 235.8,11.2 L 235.8,11.2 L 235.7,11.1 L 235.7,11.1 L 235.7,11.0 L 235.7,11.0 L 235.7,10.9 L 235.7,10.9 L 235.8,10.8 L 235.8,10.8 L 235.8,10.7 L 235.8,10.7 L 235.8,10.6 L 235.9,10.6 L 235.9,10.6 L 236.0,10.5 L 236.0,10.5 L 236.0,10.5 L 236.1,10.5 L 236.1,10.4 L 236.2,10.4 L 236.2,10.4 L 236.3,10.4 L 236.3,10.4 L 236.4,10.4 L 236.4,10.4 L 236.5,10.4 L 236.5,10.5 L 236.6,10.5 L 236.6,10.5 L 236.7,10.5 L 236.7,10.6 L 236.7,10.6 L 236.8,10.6 L 236.8,10.7 L 236.8,10.7 L 236.9,10.8 L 236.9,10.8 L 236.9,10.9 L 236.9,10.9 L 236.9,11.0 L 236.9,11.0 L 236.3,11.0 Z\" style=\"fill:#000000;fill-rule:evenodd;fill-opacity:1;stroke:#000000;stroke-width:0.0px;stroke-linecap:butt;stroke-linejoin:miter;stroke-opacity:1;\"/>\n",
       "<path class=\"atom-29\" d=\"M 217.4,11.0 L 217.4,11.1 L 217.4,11.1 L 217.4,11.2 L 217.4,11.2 L 217.4,11.3 L 217.4,11.3 L 217.3,11.3 L 217.3,11.4 L 217.3,11.4 L 217.2,11.5 L 217.2,11.5 L 217.2,11.5 L 217.1,11.5 L 217.1,11.6 L 217.0,11.6 L 217.0,11.6 L 216.9,11.6 L 216.9,11.6 L 216.8,11.6 L 216.8,11.6 L 216.7,11.6 L 216.7,11.6 L 216.6,11.5 L 216.6,11.5 L 216.5,11.5 L 216.5,11.5 L 216.5,11.4 L 216.4,11.4 L 216.4,11.4 L 216.4,11.3 L 216.3,11.3 L 216.3,11.2 L 216.3,11.2 L 216.3,11.1 L 216.3,11.1 L 216.3,11.0 L 216.3,11.0 L 216.3,10.9 L 216.3,10.9 L 216.3,10.8 L 216.3,10.8 L 216.3,10.7 L 216.4,10.7 L 216.4,10.6 L 216.4,10.6 L 216.5,10.6 L 216.5,10.5 L 216.5,10.5 L 216.6,10.5 L 216.6,10.5 L 216.7,10.4 L 216.7,10.4 L 216.8,10.4 L 216.8,10.4 L 216.9,10.4 L 216.9,10.4 L 217.0,10.4 L 217.0,10.4 L 217.1,10.5 L 217.1,10.5 L 217.2,10.5 L 217.2,10.5 L 217.2,10.6 L 217.3,10.6 L 217.3,10.6 L 217.3,10.7 L 217.4,10.7 L 217.4,10.8 L 217.4,10.8 L 217.4,10.9 L 217.4,10.9 L 217.4,11.0 L 217.4,11.0 L 216.9,11.0 Z\" style=\"fill:#000000;fill-rule:evenodd;fill-opacity:1;stroke:#000000;stroke-width:0.0px;stroke-linecap:butt;stroke-linejoin:miter;stroke-opacity:1;\"/>\n",
       "</svg>"
      ],
      "text/plain": [
       "<IPython.core.display.SVG object>"
      ]
     },
     "execution_count": 35,
     "metadata": {},
     "output_type": "execute_result"
    }
   ],
   "source": [
    "big_smiles_gen(big)"
   ]
  },
  {
   "cell_type": "code",
   "execution_count": 36,
   "id": "cbd3c872",
   "metadata": {},
   "outputs": [
    {
     "data": {
      "image/png": "[encoded data removed]",
      "text/plain": [
       "<Figure size 432x288 with 1 Axes>"
      ]
     },
     "metadata": {},
     "output_type": "display_data"
    }
   ],
   "source": [
    "big_smiles_graph(big)"
   ]
  },
  {
   "cell_type": "markdown",
   "id": "a0938504",
   "metadata": {},
   "source": [
    "## Polymer in Solvent PS in THF"
   ]
  },
  {
   "cell_type": "code",
   "execution_count": 37,
   "id": "ffa5e792",
   "metadata": {},
   "outputs": [],
   "source": [
    "big = \"C1CCOC1.|10%|{[][$]C([$])c1ccccc1; [$][H][]]}|gauss(400,20)|\""
   ]
  },
  {
   "cell_type": "code",
   "execution_count": 38,
   "id": "bcd07941",
   "metadata": {},
   "outputs": [
    {
     "data": {
      "image/svg+xml": [
       "<svg xmlns=\"http://www.w3.org/2000/svg\" xmlns:rdkit=\"http://www.rdkit.org/xml\" xmlns:xlink=\"http://www.w3.org/1999/xlink\" version=\"1.1\" baseProfile=\"full\" xml:space=\"preserve\" width=\"450px\" height=\"150px\" viewBox=\"0 0 450 150\">\n",
       "<!-- END OF HEADER -->\n",
       "<rect style=\"opacity:1.0;fill:#FFFFFF;stroke:none\" width=\"450.0\" height=\"150.0\" x=\"0.0\" y=\"0.0\"> </rect>\n",
       "<path class=\"bond-0 atom-1 atom-2\" d=\"M 197.9,69.1 L 179.7,79.4\" style=\"fill:none;fill-rule:evenodd;stroke:#000000;stroke-width:2.0px;stroke-linecap:butt;stroke-linejoin:miter;stroke-opacity:1\"/>\n",
       "<path class=\"bond-1 atom-2 atom-3\" d=\"M 179.7,79.4 L 161.7,68.8\" style=\"fill:none;fill-rule:evenodd;stroke:#000000;stroke-width:2.0px;stroke-linecap:butt;stroke-linejoin:miter;stroke-opacity:1\"/>\n",
       "<path class=\"bond-1 atom-2 atom-3\" d=\"M 174.9,81.4 L 162.3,74.0\" style=\"fill:none;fill-rule:evenodd;stroke:#000000;stroke-width:2.0px;stroke-linecap:butt;stroke-linejoin:miter;stroke-opacity:1\"/>\n",
       "<path class=\"bond-2 atom-3 atom-4\" d=\"M 161.7,68.8 L 143.5,79.0\" style=\"fill:none;fill-rule:evenodd;stroke:#000000;stroke-width:2.0px;stroke-linecap:butt;stroke-linejoin:miter;stroke-opacity:1\"/>\n",
       "<path class=\"bond-3 atom-4 atom-5\" d=\"M 143.5,79.0 L 143.3,99.9\" style=\"fill:none;fill-rule:evenodd;stroke:#000000;stroke-width:2.0px;stroke-linecap:butt;stroke-linejoin:miter;stroke-opacity:1\"/>\n",
       "<path class=\"bond-3 atom-4 atom-5\" d=\"M 147.7,82.2 L 147.5,96.8\" style=\"fill:none;fill-rule:evenodd;stroke:#000000;stroke-width:2.0px;stroke-linecap:butt;stroke-linejoin:miter;stroke-opacity:1\"/>\n",
       "<path class=\"bond-4 atom-5 atom-6\" d=\"M 143.3,99.9 L 161.3,110.6\" style=\"fill:none;fill-rule:evenodd;stroke:#000000;stroke-width:2.0px;stroke-linecap:butt;stroke-linejoin:miter;stroke-opacity:1\"/>\n",
       "<path class=\"bond-5 atom-6 atom-7\" d=\"M 161.3,110.6 L 179.5,100.3\" style=\"fill:none;fill-rule:evenodd;stroke:#000000;stroke-width:2.0px;stroke-linecap:butt;stroke-linejoin:miter;stroke-opacity:1\"/>\n",
       "<path class=\"bond-5 atom-6 atom-7\" d=\"M 162.0,105.4 L 174.7,98.2\" style=\"fill:none;fill-rule:evenodd;stroke:#000000;stroke-width:2.0px;stroke-linecap:butt;stroke-linejoin:miter;stroke-opacity:1\"/>\n",
       "<path class=\"bond-6 atom-7 atom-2\" d=\"M 179.5,100.3 L 179.7,79.4\" style=\"fill:none;fill-rule:evenodd;stroke:#000000;stroke-width:2.0px;stroke-linecap:butt;stroke-linejoin:miter;stroke-opacity:1\"/>\n",
       "<path class=\"bond-7 atom-0 atom-1\" d=\"M 198.1,51.9 L 197.9,69.1\" style=\"fill:none;fill-rule:evenodd;stroke:#000000;stroke-width:2.0px;stroke-linecap:butt;stroke-linejoin:miter;stroke-opacity:1\"/>\n",
       "<path class=\"bond-8 atom-8 atom-9\" d=\"M 215.9,79.8 L 215.7,100.7\" style=\"fill:none;fill-rule:evenodd;stroke:#000000;stroke-width:2.0px;stroke-linecap:butt;stroke-linejoin:miter;stroke-opacity:1\"/>\n",
       "<path class=\"bond-9 atom-9 atom-10\" d=\"M 215.7,100.7 L 197.5,110.9\" style=\"fill:none;fill-rule:evenodd;stroke:#000000;stroke-width:2.0px;stroke-linecap:butt;stroke-linejoin:miter;stroke-opacity:1\"/>\n",
       "<path class=\"bond-9 atom-9 atom-10\" d=\"M 215.0,105.8 L 202.3,113.0\" style=\"fill:none;fill-rule:evenodd;stroke:#000000;stroke-width:2.0px;stroke-linecap:butt;stroke-linejoin:miter;stroke-opacity:1\"/>\n",
       "<path class=\"bond-10 atom-10 atom-11\" d=\"M 197.5,110.9 L 197.3,131.8\" style=\"fill:none;fill-rule:evenodd;stroke:#000000;stroke-width:2.0px;stroke-linecap:butt;stroke-linejoin:miter;stroke-opacity:1\"/>\n",
       "<path class=\"bond-11 atom-11 atom-12\" d=\"M 197.3,131.8 L 215.3,142.4\" style=\"fill:none;fill-rule:evenodd;stroke:#000000;stroke-width:2.0px;stroke-linecap:butt;stroke-linejoin:miter;stroke-opacity:1\"/>\n",
       "<path class=\"bond-11 atom-11 atom-12\" d=\"M 202.1,129.8 L 214.7,137.3\" style=\"fill:none;fill-rule:evenodd;stroke:#000000;stroke-width:2.0px;stroke-linecap:butt;stroke-linejoin:miter;stroke-opacity:1\"/>\n",
       "<path class=\"bond-12 atom-12 atom-13\" d=\"M 215.3,142.4 L 233.5,132.2\" style=\"fill:none;fill-rule:evenodd;stroke:#000000;stroke-width:2.0px;stroke-linecap:butt;stroke-linejoin:miter;stroke-opacity:1\"/>\n",
       "<path class=\"bond-13 atom-13 atom-14\" d=\"M 233.5,132.2 L 233.7,111.3\" style=\"fill:none;fill-rule:evenodd;stroke:#000000;stroke-width:2.0px;stroke-linecap:butt;stroke-linejoin:miter;stroke-opacity:1\"/>\n",
       "<path class=\"bond-13 atom-13 atom-14\" d=\"M 229.3,129.0 L 229.5,114.4\" style=\"fill:none;fill-rule:evenodd;stroke:#000000;stroke-width:2.0px;stroke-linecap:butt;stroke-linejoin:miter;stroke-opacity:1\"/>\n",
       "<path class=\"bond-14 atom-14 atom-9\" d=\"M 233.7,111.3 L 215.7,100.7\" style=\"fill:none;fill-rule:evenodd;stroke:#000000;stroke-width:2.0px;stroke-linecap:butt;stroke-linejoin:miter;stroke-opacity:1\"/>\n",
       "<path class=\"bond-15 atom-1 atom-8\" d=\"M 197.9,69.1 L 215.9,79.8\" style=\"fill:none;fill-rule:evenodd;stroke:#000000;stroke-width:2.0px;stroke-linecap:butt;stroke-linejoin:miter;stroke-opacity:1\"/>\n",
       "<path class=\"bond-16 atom-15 atom-16\" d=\"M 234.1,69.5 L 234.3,48.6\" style=\"fill:none;fill-rule:evenodd;stroke:#000000;stroke-width:2.0px;stroke-linecap:butt;stroke-linejoin:miter;stroke-opacity:1\"/>\n",
       "<path class=\"bond-17 atom-16 atom-17\" d=\"M 234.3,48.6 L 252.5,38.3\" style=\"fill:none;fill-rule:evenodd;stroke:#000000;stroke-width:2.0px;stroke-linecap:butt;stroke-linejoin:miter;stroke-opacity:1\"/>\n",
       "<path class=\"bond-17 atom-16 atom-17\" d=\"M 235.0,43.4 L 247.7,36.2\" style=\"fill:none;fill-rule:evenodd;stroke:#000000;stroke-width:2.0px;stroke-linecap:butt;stroke-linejoin:miter;stroke-opacity:1\"/>\n",
       "<path class=\"bond-18 atom-17 atom-18\" d=\"M 252.5,38.3 L 252.7,17.4\" style=\"fill:none;fill-rule:evenodd;stroke:#000000;stroke-width:2.0px;stroke-linecap:butt;stroke-linejoin:miter;stroke-opacity:1\"/>\n",
       "<path class=\"bond-19 atom-18 atom-19\" d=\"M 252.7,17.4 L 234.7,6.8\" style=\"fill:none;fill-rule:evenodd;stroke:#000000;stroke-width:2.0px;stroke-linecap:butt;stroke-linejoin:miter;stroke-opacity:1\"/>\n",
       "<path class=\"bond-19 atom-18 atom-19\" d=\"M 247.9,19.5 L 235.3,12.0\" style=\"fill:none;fill-rule:evenodd;stroke:#000000;stroke-width:2.0px;stroke-linecap:butt;stroke-linejoin:miter;stroke-opacity:1\"/>\n",
       "<path class=\"bond-20 atom-19 atom-20\" d=\"M 234.7,6.8 L 216.5,17.1\" style=\"fill:none;fill-rule:evenodd;stroke:#000000;stroke-width:2.0px;stroke-linecap:butt;stroke-linejoin:miter;stroke-opacity:1\"/>\n",
       "<path class=\"bond-21 atom-20 atom-21\" d=\"M 216.5,17.1 L 216.3,38.0\" style=\"fill:none;fill-rule:evenodd;stroke:#000000;stroke-width:2.0px;stroke-linecap:butt;stroke-linejoin:miter;stroke-opacity:1\"/>\n",
       "<path class=\"bond-21 atom-20 atom-21\" d=\"M 220.7,20.3 L 220.5,34.9\" style=\"fill:none;fill-rule:evenodd;stroke:#000000;stroke-width:2.0px;stroke-linecap:butt;stroke-linejoin:miter;stroke-opacity:1\"/>\n",
       "<path class=\"bond-22 atom-21 atom-16\" d=\"M 216.3,38.0 L 234.3,48.6\" style=\"fill:none;fill-rule:evenodd;stroke:#000000;stroke-width:2.0px;stroke-linecap:butt;stroke-linejoin:miter;stroke-opacity:1\"/>\n",
       "<path class=\"bond-23 atom-8 atom-15\" d=\"M 215.9,79.8 L 234.1,69.5\" style=\"fill:none;fill-rule:evenodd;stroke:#000000;stroke-width:2.0px;stroke-linecap:butt;stroke-linejoin:miter;stroke-opacity:1\"/>\n",
       "<path class=\"bond-24 atom-22 atom-23\" d=\"M 252.1,80.1 L 270.3,69.9\" style=\"fill:none;fill-rule:evenodd;stroke:#000000;stroke-width:2.0px;stroke-linecap:butt;stroke-linejoin:miter;stroke-opacity:1\"/>\n",
       "<path class=\"bond-25 atom-23 atom-24\" d=\"M 270.3,69.9 L 288.3,80.5\" style=\"fill:none;fill-rule:evenodd;stroke:#000000;stroke-width:2.0px;stroke-linecap:butt;stroke-linejoin:miter;stroke-opacity:1\"/>\n",
       "<path class=\"bond-25 atom-23 atom-24\" d=\"M 275.1,67.9 L 287.7,75.3\" style=\"fill:none;fill-rule:evenodd;stroke:#000000;stroke-width:2.0px;stroke-linecap:butt;stroke-linejoin:miter;stroke-opacity:1\"/>\n",
       "<path class=\"bond-26 atom-24 atom-25\" d=\"M 288.3,80.5 L 306.5,70.2\" style=\"fill:none;fill-rule:evenodd;stroke:#000000;stroke-width:2.0px;stroke-linecap:butt;stroke-linejoin:miter;stroke-opacity:1\"/>\n",
       "<path class=\"bond-27 atom-25 atom-26\" d=\"M 306.5,70.2 L 306.7,49.3\" style=\"fill:none;fill-rule:evenodd;stroke:#000000;stroke-width:2.0px;stroke-linecap:butt;stroke-linejoin:miter;stroke-opacity:1\"/>\n",
       "<path class=\"bond-27 atom-25 atom-26\" d=\"M 302.3,67.1 L 302.5,52.4\" style=\"fill:none;fill-rule:evenodd;stroke:#000000;stroke-width:2.0px;stroke-linecap:butt;stroke-linejoin:miter;stroke-opacity:1\"/>\n",
       "<path class=\"bond-28 atom-26 atom-27\" d=\"M 306.7,49.3 L 288.7,38.7\" style=\"fill:none;fill-rule:evenodd;stroke:#000000;stroke-width:2.0px;stroke-linecap:butt;stroke-linejoin:miter;stroke-opacity:1\"/>\n",
       "<path class=\"bond-29 atom-27 atom-28\" d=\"M 288.7,38.7 L 270.5,49.0\" style=\"fill:none;fill-rule:evenodd;stroke:#000000;stroke-width:2.0px;stroke-linecap:butt;stroke-linejoin:miter;stroke-opacity:1\"/>\n",
       "<path class=\"bond-29 atom-27 atom-28\" d=\"M 288.0,43.9 L 275.3,51.1\" style=\"fill:none;fill-rule:evenodd;stroke:#000000;stroke-width:2.0px;stroke-linecap:butt;stroke-linejoin:miter;stroke-opacity:1\"/>\n",
       "<path class=\"bond-30 atom-28 atom-23\" d=\"M 270.5,49.0 L 270.3,69.9\" style=\"fill:none;fill-rule:evenodd;stroke:#000000;stroke-width:2.0px;stroke-linecap:butt;stroke-linejoin:miter;stroke-opacity:1\"/>\n",
       "<path class=\"bond-31 atom-15 atom-22\" d=\"M 234.1,69.5 L 252.1,80.1\" style=\"fill:none;fill-rule:evenodd;stroke:#000000;stroke-width:2.0px;stroke-linecap:butt;stroke-linejoin:miter;stroke-opacity:1\"/>\n",
       "<path class=\"bond-32 atom-29 atom-30\" d=\"M 251.9,101.0 L 269.9,111.7\" style=\"fill:none;fill-rule:evenodd;stroke:#000000;stroke-width:2.0px;stroke-linecap:butt;stroke-linejoin:miter;stroke-opacity:1\"/>\n",
       "<path class=\"bond-33 atom-30 atom-31\" d=\"M 269.9,111.7 L 269.7,132.6\" style=\"fill:none;fill-rule:evenodd;stroke:#000000;stroke-width:2.0px;stroke-linecap:butt;stroke-linejoin:miter;stroke-opacity:1\"/>\n",
       "<path class=\"bond-33 atom-30 atom-31\" d=\"M 274.0,114.8 L 273.9,129.5\" style=\"fill:none;fill-rule:evenodd;stroke:#000000;stroke-width:2.0px;stroke-linecap:butt;stroke-linejoin:miter;stroke-opacity:1\"/>\n",
       "<path class=\"bond-34 atom-31 atom-32\" d=\"M 269.7,132.6 L 287.6,143.2\" style=\"fill:none;fill-rule:evenodd;stroke:#000000;stroke-width:2.0px;stroke-linecap:butt;stroke-linejoin:miter;stroke-opacity:1\"/>\n",
       "<path class=\"bond-35 atom-32 atom-33\" d=\"M 287.6,143.2 L 305.8,132.9\" style=\"fill:none;fill-rule:evenodd;stroke:#000000;stroke-width:2.0px;stroke-linecap:butt;stroke-linejoin:miter;stroke-opacity:1\"/>\n",
       "<path class=\"bond-35 atom-32 atom-33\" d=\"M 288.3,138.0 L 301.1,130.8\" style=\"fill:none;fill-rule:evenodd;stroke:#000000;stroke-width:2.0px;stroke-linecap:butt;stroke-linejoin:miter;stroke-opacity:1\"/>\n",
       "<path class=\"bond-36 atom-33 atom-34\" d=\"M 305.8,132.9 L 306.1,112.0\" style=\"fill:none;fill-rule:evenodd;stroke:#000000;stroke-width:2.0px;stroke-linecap:butt;stroke-linejoin:miter;stroke-opacity:1\"/>\n",
       "<path class=\"bond-37 atom-34 atom-35\" d=\"M 306.1,112.0 L 288.1,101.4\" style=\"fill:none;fill-rule:evenodd;stroke:#000000;stroke-width:2.0px;stroke-linecap:butt;stroke-linejoin:miter;stroke-opacity:1\"/>\n",
       "<path class=\"bond-37 atom-34 atom-35\" d=\"M 301.2,114.0 L 288.6,106.6\" style=\"fill:none;fill-rule:evenodd;stroke:#000000;stroke-width:2.0px;stroke-linecap:butt;stroke-linejoin:miter;stroke-opacity:1\"/>\n",
       "<path class=\"bond-38 atom-35 atom-30\" d=\"M 288.1,101.4 L 269.9,111.7\" style=\"fill:none;fill-rule:evenodd;stroke:#000000;stroke-width:2.0px;stroke-linecap:butt;stroke-linejoin:miter;stroke-opacity:1\"/>\n",
       "<path class=\"bond-39 atom-22 atom-29\" d=\"M 252.1,80.1 L 251.9,101.0\" style=\"fill:none;fill-rule:evenodd;stroke:#000000;stroke-width:2.0px;stroke-linecap:butt;stroke-linejoin:miter;stroke-opacity:1\"/>\n",
       "<path class=\"bond-40 atom-29 atom-36\" d=\"M 251.9,101.0 L 246.8,105.8\" style=\"fill:none;fill-rule:evenodd;stroke:#000000;stroke-width:2.0px;stroke-linecap:butt;stroke-linejoin:miter;stroke-opacity:1\"/>\n",
       "<path class=\"atom-0\" d=\"M 195.8 45.3 L 196.6 45.3 L 196.6 47.8 L 199.6 47.8 L 199.6 45.3 L 200.4 45.3 L 200.4 51.2 L 199.6 51.2 L 199.6 48.5 L 196.6 48.5 L 196.6 51.2 L 195.8 51.2 L 195.8 45.3 \" fill=\"#000000\"/>\n",
       "<path class=\"atom-36\" d=\"M 241.5 105.7 L 242.3 105.7 L 242.3 108.2 L 245.3 108.2 L 245.3 105.7 L 246.1 105.7 L 246.1 111.6 L 245.3 111.6 L 245.3 108.9 L 242.3 108.9 L 242.3 111.6 L 241.5 111.6 L 241.5 105.7 \" fill=\"#000000\"/>\n",
       "<path class=\"atom-0\" d=\"M 202.1,48.2 L 202.1,48.3 L 202.1,48.3 L 202.1,48.3 L 202.1,48.4 L 202.1,48.4 L 202.1,48.4 L 202.0,48.5 L 202.0,48.5 L 202.0,48.5 L 202.0,48.6 L 201.9,48.6 L 201.9,48.6 L 201.9,48.6 L 201.8,48.6 L 201.8,48.6 L 201.8,48.6 L 201.7,48.7 L 201.7,48.7 L 201.7,48.7 L 201.6,48.7 L 201.6,48.6 L 201.6,48.6 L 201.5,48.6 L 201.5,48.6 L 201.5,48.6 L 201.4,48.6 L 201.4,48.5 L 201.4,48.5 L 201.4,48.5 L 201.3,48.5 L 201.3,48.4 L 201.3,48.4 L 201.3,48.4 L 201.3,48.3 L 201.3,48.3 L 201.3,48.3 L 201.3,48.2 L 201.3,48.2 L 201.3,48.1 L 201.3,48.1 L 201.3,48.1 L 201.3,48.0 L 201.3,48.0 L 201.4,48.0 L 201.4,48.0 L 201.4,47.9 L 201.4,47.9 L 201.5,47.9 L 201.5,47.9 L 201.5,47.9 L 201.6,47.8 L 201.6,47.8 L 201.6,47.8 L 201.7,47.8 L 201.7,47.8 L 201.7,47.8 L 201.8,47.8 L 201.8,47.8 L 201.8,47.8 L 201.9,47.9 L 201.9,47.9 L 201.9,47.9 L 202.0,47.9 L 202.0,47.9 L 202.0,48.0 L 202.0,48.0 L 202.1,48.0 L 202.1,48.1 L 202.1,48.1 L 202.1,48.1 L 202.1,48.2 L 202.1,48.2 L 202.1,48.2 L 201.7,48.2 Z\" style=\"fill:#000000;fill-rule:evenodd;fill-opacity:1;stroke:#000000;stroke-width:0.0px;stroke-linecap:butt;stroke-linejoin:miter;stroke-opacity:1;\"/>\n",
       "<path class=\"atom-36\" d=\"M 240.7,108.7 L 240.7,108.7 L 240.7,108.7 L 240.6,108.8 L 240.6,108.8 L 240.6,108.8 L 240.6,108.9 L 240.6,108.9 L 240.6,108.9 L 240.5,109.0 L 240.5,109.0 L 240.5,109.0 L 240.5,109.0 L 240.4,109.0 L 240.4,109.0 L 240.4,109.1 L 240.3,109.1 L 240.3,109.1 L 240.3,109.1 L 240.2,109.1 L 240.2,109.1 L 240.1,109.1 L 240.1,109.1 L 240.1,109.0 L 240.0,109.0 L 240.0,109.0 L 240.0,109.0 L 240.0,109.0 L 239.9,108.9 L 239.9,108.9 L 239.9,108.9 L 239.9,108.8 L 239.9,108.8 L 239.8,108.8 L 239.8,108.7 L 239.8,108.7 L 239.8,108.7 L 239.8,108.6 L 239.8,108.6 L 239.8,108.6 L 239.8,108.5 L 239.9,108.5 L 239.9,108.5 L 239.9,108.4 L 239.9,108.4 L 239.9,108.4 L 240.0,108.4 L 240.0,108.3 L 240.0,108.3 L 240.0,108.3 L 240.1,108.3 L 240.1,108.3 L 240.1,108.3 L 240.2,108.2 L 240.2,108.2 L 240.3,108.2 L 240.3,108.2 L 240.3,108.2 L 240.4,108.3 L 240.4,108.3 L 240.4,108.3 L 240.5,108.3 L 240.5,108.3 L 240.5,108.3 L 240.5,108.4 L 240.6,108.4 L 240.6,108.4 L 240.6,108.5 L 240.6,108.5 L 240.6,108.5 L 240.6,108.6 L 240.7,108.6 L 240.7,108.6 L 240.7,108.7 L 240.2,108.7 Z\" style=\"fill:#000000;fill-rule:evenodd;fill-opacity:1;stroke:#000000;stroke-width:0.0px;stroke-linecap:butt;stroke-linejoin:miter;stroke-opacity:1;\"/>\n",
       "</svg>"
      ],
      "text/plain": [
       "<IPython.core.display.SVG object>"
      ]
     },
     "execution_count": 38,
     "metadata": {},
     "output_type": "execute_result"
    }
   ],
   "source": [
    "big_smiles_gen(big)"
   ]
  },
  {
   "cell_type": "code",
   "execution_count": 39,
   "id": "167f42e2",
   "metadata": {},
   "outputs": [
    {
     "data": {
      "image/svg+xml": [
       "<svg xmlns=\"http://www.w3.org/2000/svg\" xmlns:rdkit=\"http://www.rdkit.org/xml\" xmlns:xlink=\"http://www.w3.org/1999/xlink\" version=\"1.1\" baseProfile=\"full\" xml:space=\"preserve\" width=\"450px\" height=\"150px\" viewBox=\"0 0 450 150\">\n",
       "<!-- END OF HEADER -->\n",
       "<rect style=\"opacity:1.0;fill:#FFFFFF;stroke:none\" width=\"450.0\" height=\"150.0\" x=\"0.0\" y=\"0.0\"> </rect>\n",
       "<path class=\"bond-0 atom-1 atom-2\" d=\"M 197.9,69.1 L 179.7,79.4\" style=\"fill:none;fill-rule:evenodd;stroke:#000000;stroke-width:2.0px;stroke-linecap:butt;stroke-linejoin:miter;stroke-opacity:1\"/>\n",
       "<path class=\"bond-1 atom-2 atom-3\" d=\"M 179.7,79.4 L 161.7,68.8\" style=\"fill:none;fill-rule:evenodd;stroke:#000000;stroke-width:2.0px;stroke-linecap:butt;stroke-linejoin:miter;stroke-opacity:1\"/>\n",
       "<path class=\"bond-1 atom-2 atom-3\" d=\"M 174.9,81.4 L 162.3,74.0\" style=\"fill:none;fill-rule:evenodd;stroke:#000000;stroke-width:2.0px;stroke-linecap:butt;stroke-linejoin:miter;stroke-opacity:1\"/>\n",
       "<path class=\"bond-2 atom-3 atom-4\" d=\"M 161.7,68.8 L 143.5,79.0\" style=\"fill:none;fill-rule:evenodd;stroke:#000000;stroke-width:2.0px;stroke-linecap:butt;stroke-linejoin:miter;stroke-opacity:1\"/>\n",
       "<path class=\"bond-3 atom-4 atom-5\" d=\"M 143.5,79.0 L 143.3,99.9\" style=\"fill:none;fill-rule:evenodd;stroke:#000000;stroke-width:2.0px;stroke-linecap:butt;stroke-linejoin:miter;stroke-opacity:1\"/>\n",
       "<path class=\"bond-3 atom-4 atom-5\" d=\"M 147.7,82.2 L 147.5,96.8\" style=\"fill:none;fill-rule:evenodd;stroke:#000000;stroke-width:2.0px;stroke-linecap:butt;stroke-linejoin:miter;stroke-opacity:1\"/>\n",
       "<path class=\"bond-4 atom-5 atom-6\" d=\"M 143.3,99.9 L 161.3,110.6\" style=\"fill:none;fill-rule:evenodd;stroke:#000000;stroke-width:2.0px;stroke-linecap:butt;stroke-linejoin:miter;stroke-opacity:1\"/>\n",
       "<path class=\"bond-5 atom-6 atom-7\" d=\"M 161.3,110.6 L 179.5,100.3\" style=\"fill:none;fill-rule:evenodd;stroke:#000000;stroke-width:2.0px;stroke-linecap:butt;stroke-linejoin:miter;stroke-opacity:1\"/>\n",
       "<path class=\"bond-5 atom-6 atom-7\" d=\"M 162.0,105.4 L 174.7,98.2\" style=\"fill:none;fill-rule:evenodd;stroke:#000000;stroke-width:2.0px;stroke-linecap:butt;stroke-linejoin:miter;stroke-opacity:1\"/>\n",
       "<path class=\"bond-6 atom-7 atom-2\" d=\"M 179.5,100.3 L 179.7,79.4\" style=\"fill:none;fill-rule:evenodd;stroke:#000000;stroke-width:2.0px;stroke-linecap:butt;stroke-linejoin:miter;stroke-opacity:1\"/>\n",
       "<path class=\"bond-7 atom-0 atom-1\" d=\"M 198.1,51.9 L 197.9,69.1\" style=\"fill:none;fill-rule:evenodd;stroke:#000000;stroke-width:2.0px;stroke-linecap:butt;stroke-linejoin:miter;stroke-opacity:1\"/>\n",
       "<path class=\"bond-8 atom-8 atom-9\" d=\"M 215.9,79.8 L 215.7,100.7\" style=\"fill:none;fill-rule:evenodd;stroke:#000000;stroke-width:2.0px;stroke-linecap:butt;stroke-linejoin:miter;stroke-opacity:1\"/>\n",
       "<path class=\"bond-9 atom-9 atom-10\" d=\"M 215.7,100.7 L 197.5,110.9\" style=\"fill:none;fill-rule:evenodd;stroke:#000000;stroke-width:2.0px;stroke-linecap:butt;stroke-linejoin:miter;stroke-opacity:1\"/>\n",
       "<path class=\"bond-9 atom-9 atom-10\" d=\"M 215.0,105.8 L 202.3,113.0\" style=\"fill:none;fill-rule:evenodd;stroke:#000000;stroke-width:2.0px;stroke-linecap:butt;stroke-linejoin:miter;stroke-opacity:1\"/>\n",
       "<path class=\"bond-10 atom-10 atom-11\" d=\"M 197.5,110.9 L 197.3,131.8\" style=\"fill:none;fill-rule:evenodd;stroke:#000000;stroke-width:2.0px;stroke-linecap:butt;stroke-linejoin:miter;stroke-opacity:1\"/>\n",
       "<path class=\"bond-11 atom-11 atom-12\" d=\"M 197.3,131.8 L 215.3,142.4\" style=\"fill:none;fill-rule:evenodd;stroke:#000000;stroke-width:2.0px;stroke-linecap:butt;stroke-linejoin:miter;stroke-opacity:1\"/>\n",
       "<path class=\"bond-11 atom-11 atom-12\" d=\"M 202.1,129.8 L 214.7,137.3\" style=\"fill:none;fill-rule:evenodd;stroke:#000000;stroke-width:2.0px;stroke-linecap:butt;stroke-linejoin:miter;stroke-opacity:1\"/>\n",
       "<path class=\"bond-12 atom-12 atom-13\" d=\"M 215.3,142.4 L 233.5,132.2\" style=\"fill:none;fill-rule:evenodd;stroke:#000000;stroke-width:2.0px;stroke-linecap:butt;stroke-linejoin:miter;stroke-opacity:1\"/>\n",
       "<path class=\"bond-13 atom-13 atom-14\" d=\"M 233.5,132.2 L 233.7,111.3\" style=\"fill:none;fill-rule:evenodd;stroke:#000000;stroke-width:2.0px;stroke-linecap:butt;stroke-linejoin:miter;stroke-opacity:1\"/>\n",
       "<path class=\"bond-13 atom-13 atom-14\" d=\"M 229.3,129.0 L 229.5,114.4\" style=\"fill:none;fill-rule:evenodd;stroke:#000000;stroke-width:2.0px;stroke-linecap:butt;stroke-linejoin:miter;stroke-opacity:1\"/>\n",
       "<path class=\"bond-14 atom-14 atom-9\" d=\"M 233.7,111.3 L 215.7,100.7\" style=\"fill:none;fill-rule:evenodd;stroke:#000000;stroke-width:2.0px;stroke-linecap:butt;stroke-linejoin:miter;stroke-opacity:1\"/>\n",
       "<path class=\"bond-15 atom-1 atom-8\" d=\"M 197.9,69.1 L 215.9,79.8\" style=\"fill:none;fill-rule:evenodd;stroke:#000000;stroke-width:2.0px;stroke-linecap:butt;stroke-linejoin:miter;stroke-opacity:1\"/>\n",
       "<path class=\"bond-16 atom-15 atom-16\" d=\"M 234.1,69.5 L 234.3,48.6\" style=\"fill:none;fill-rule:evenodd;stroke:#000000;stroke-width:2.0px;stroke-linecap:butt;stroke-linejoin:miter;stroke-opacity:1\"/>\n",
       "<path class=\"bond-17 atom-16 atom-17\" d=\"M 234.3,48.6 L 252.5,38.3\" style=\"fill:none;fill-rule:evenodd;stroke:#000000;stroke-width:2.0px;stroke-linecap:butt;stroke-linejoin:miter;stroke-opacity:1\"/>\n",
       "<path class=\"bond-17 atom-16 atom-17\" d=\"M 235.0,43.4 L 247.7,36.2\" style=\"fill:none;fill-rule:evenodd;stroke:#000000;stroke-width:2.0px;stroke-linecap:butt;stroke-linejoin:miter;stroke-opacity:1\"/>\n",
       "<path class=\"bond-18 atom-17 atom-18\" d=\"M 252.5,38.3 L 252.7,17.4\" style=\"fill:none;fill-rule:evenodd;stroke:#000000;stroke-width:2.0px;stroke-linecap:butt;stroke-linejoin:miter;stroke-opacity:1\"/>\n",
       "<path class=\"bond-19 atom-18 atom-19\" d=\"M 252.7,17.4 L 234.7,6.8\" style=\"fill:none;fill-rule:evenodd;stroke:#000000;stroke-width:2.0px;stroke-linecap:butt;stroke-linejoin:miter;stroke-opacity:1\"/>\n",
       "<path class=\"bond-19 atom-18 atom-19\" d=\"M 247.9,19.5 L 235.3,12.0\" style=\"fill:none;fill-rule:evenodd;stroke:#000000;stroke-width:2.0px;stroke-linecap:butt;stroke-linejoin:miter;stroke-opacity:1\"/>\n",
       "<path class=\"bond-20 atom-19 atom-20\" d=\"M 234.7,6.8 L 216.5,17.1\" style=\"fill:none;fill-rule:evenodd;stroke:#000000;stroke-width:2.0px;stroke-linecap:butt;stroke-linejoin:miter;stroke-opacity:1\"/>\n",
       "<path class=\"bond-21 atom-20 atom-21\" d=\"M 216.5,17.1 L 216.3,38.0\" style=\"fill:none;fill-rule:evenodd;stroke:#000000;stroke-width:2.0px;stroke-linecap:butt;stroke-linejoin:miter;stroke-opacity:1\"/>\n",
       "<path class=\"bond-21 atom-20 atom-21\" d=\"M 220.7,20.3 L 220.5,34.9\" style=\"fill:none;fill-rule:evenodd;stroke:#000000;stroke-width:2.0px;stroke-linecap:butt;stroke-linejoin:miter;stroke-opacity:1\"/>\n",
       "<path class=\"bond-22 atom-21 atom-16\" d=\"M 216.3,38.0 L 234.3,48.6\" style=\"fill:none;fill-rule:evenodd;stroke:#000000;stroke-width:2.0px;stroke-linecap:butt;stroke-linejoin:miter;stroke-opacity:1\"/>\n",
       "<path class=\"bond-23 atom-8 atom-15\" d=\"M 215.9,79.8 L 234.1,69.5\" style=\"fill:none;fill-rule:evenodd;stroke:#000000;stroke-width:2.0px;stroke-linecap:butt;stroke-linejoin:miter;stroke-opacity:1\"/>\n",
       "<path class=\"bond-24 atom-22 atom-23\" d=\"M 252.1,80.1 L 270.3,69.9\" style=\"fill:none;fill-rule:evenodd;stroke:#000000;stroke-width:2.0px;stroke-linecap:butt;stroke-linejoin:miter;stroke-opacity:1\"/>\n",
       "<path class=\"bond-25 atom-23 atom-24\" d=\"M 270.3,69.9 L 288.3,80.5\" style=\"fill:none;fill-rule:evenodd;stroke:#000000;stroke-width:2.0px;stroke-linecap:butt;stroke-linejoin:miter;stroke-opacity:1\"/>\n",
       "<path class=\"bond-25 atom-23 atom-24\" d=\"M 275.1,67.9 L 287.7,75.3\" style=\"fill:none;fill-rule:evenodd;stroke:#000000;stroke-width:2.0px;stroke-linecap:butt;stroke-linejoin:miter;stroke-opacity:1\"/>\n",
       "<path class=\"bond-26 atom-24 atom-25\" d=\"M 288.3,80.5 L 306.5,70.2\" style=\"fill:none;fill-rule:evenodd;stroke:#000000;stroke-width:2.0px;stroke-linecap:butt;stroke-linejoin:miter;stroke-opacity:1\"/>\n",
       "<path class=\"bond-27 atom-25 atom-26\" d=\"M 306.5,70.2 L 306.7,49.3\" style=\"fill:none;fill-rule:evenodd;stroke:#000000;stroke-width:2.0px;stroke-linecap:butt;stroke-linejoin:miter;stroke-opacity:1\"/>\n",
       "<path class=\"bond-27 atom-25 atom-26\" d=\"M 302.3,67.1 L 302.5,52.4\" style=\"fill:none;fill-rule:evenodd;stroke:#000000;stroke-width:2.0px;stroke-linecap:butt;stroke-linejoin:miter;stroke-opacity:1\"/>\n",
       "<path class=\"bond-28 atom-26 atom-27\" d=\"M 306.7,49.3 L 288.7,38.7\" style=\"fill:none;fill-rule:evenodd;stroke:#000000;stroke-width:2.0px;stroke-linecap:butt;stroke-linejoin:miter;stroke-opacity:1\"/>\n",
       "<path class=\"bond-29 atom-27 atom-28\" d=\"M 288.7,38.7 L 270.5,49.0\" style=\"fill:none;fill-rule:evenodd;stroke:#000000;stroke-width:2.0px;stroke-linecap:butt;stroke-linejoin:miter;stroke-opacity:1\"/>\n",
       "<path class=\"bond-29 atom-27 atom-28\" d=\"M 288.0,43.9 L 275.3,51.1\" style=\"fill:none;fill-rule:evenodd;stroke:#000000;stroke-width:2.0px;stroke-linecap:butt;stroke-linejoin:miter;stroke-opacity:1\"/>\n",
       "<path class=\"bond-30 atom-28 atom-23\" d=\"M 270.5,49.0 L 270.3,69.9\" style=\"fill:none;fill-rule:evenodd;stroke:#000000;stroke-width:2.0px;stroke-linecap:butt;stroke-linejoin:miter;stroke-opacity:1\"/>\n",
       "<path class=\"bond-31 atom-15 atom-22\" d=\"M 234.1,69.5 L 252.1,80.1\" style=\"fill:none;fill-rule:evenodd;stroke:#000000;stroke-width:2.0px;stroke-linecap:butt;stroke-linejoin:miter;stroke-opacity:1\"/>\n",
       "<path class=\"bond-32 atom-29 atom-30\" d=\"M 251.9,101.0 L 269.9,111.7\" style=\"fill:none;fill-rule:evenodd;stroke:#000000;stroke-width:2.0px;stroke-linecap:butt;stroke-linejoin:miter;stroke-opacity:1\"/>\n",
       "<path class=\"bond-33 atom-30 atom-31\" d=\"M 269.9,111.7 L 269.7,132.6\" style=\"fill:none;fill-rule:evenodd;stroke:#000000;stroke-width:2.0px;stroke-linecap:butt;stroke-linejoin:miter;stroke-opacity:1\"/>\n",
       "<path class=\"bond-33 atom-30 atom-31\" d=\"M 274.0,114.8 L 273.9,129.5\" style=\"fill:none;fill-rule:evenodd;stroke:#000000;stroke-width:2.0px;stroke-linecap:butt;stroke-linejoin:miter;stroke-opacity:1\"/>\n",
       "<path class=\"bond-34 atom-31 atom-32\" d=\"M 269.7,132.6 L 287.6,143.2\" style=\"fill:none;fill-rule:evenodd;stroke:#000000;stroke-width:2.0px;stroke-linecap:butt;stroke-linejoin:miter;stroke-opacity:1\"/>\n",
       "<path class=\"bond-35 atom-32 atom-33\" d=\"M 287.6,143.2 L 305.8,132.9\" style=\"fill:none;fill-rule:evenodd;stroke:#000000;stroke-width:2.0px;stroke-linecap:butt;stroke-linejoin:miter;stroke-opacity:1\"/>\n",
       "<path class=\"bond-35 atom-32 atom-33\" d=\"M 288.3,138.0 L 301.1,130.8\" style=\"fill:none;fill-rule:evenodd;stroke:#000000;stroke-width:2.0px;stroke-linecap:butt;stroke-linejoin:miter;stroke-opacity:1\"/>\n",
       "<path class=\"bond-36 atom-33 atom-34\" d=\"M 305.8,132.9 L 306.1,112.0\" style=\"fill:none;fill-rule:evenodd;stroke:#000000;stroke-width:2.0px;stroke-linecap:butt;stroke-linejoin:miter;stroke-opacity:1\"/>\n",
       "<path class=\"bond-37 atom-34 atom-35\" d=\"M 306.1,112.0 L 288.1,101.4\" style=\"fill:none;fill-rule:evenodd;stroke:#000000;stroke-width:2.0px;stroke-linecap:butt;stroke-linejoin:miter;stroke-opacity:1\"/>\n",
       "<path class=\"bond-37 atom-34 atom-35\" d=\"M 301.2,114.0 L 288.6,106.6\" style=\"fill:none;fill-rule:evenodd;stroke:#000000;stroke-width:2.0px;stroke-linecap:butt;stroke-linejoin:miter;stroke-opacity:1\"/>\n",
       "<path class=\"bond-38 atom-35 atom-30\" d=\"M 288.1,101.4 L 269.9,111.7\" style=\"fill:none;fill-rule:evenodd;stroke:#000000;stroke-width:2.0px;stroke-linecap:butt;stroke-linejoin:miter;stroke-opacity:1\"/>\n",
       "<path class=\"bond-39 atom-22 atom-29\" d=\"M 252.1,80.1 L 251.9,101.0\" style=\"fill:none;fill-rule:evenodd;stroke:#000000;stroke-width:2.0px;stroke-linecap:butt;stroke-linejoin:miter;stroke-opacity:1\"/>\n",
       "<path class=\"bond-40 atom-29 atom-36\" d=\"M 251.9,101.0 L 246.8,105.8\" style=\"fill:none;fill-rule:evenodd;stroke:#000000;stroke-width:2.0px;stroke-linecap:butt;stroke-linejoin:miter;stroke-opacity:1\"/>\n",
       "<path class=\"atom-0\" d=\"M 195.8 45.3 L 196.6 45.3 L 196.6 47.8 L 199.6 47.8 L 199.6 45.3 L 200.4 45.3 L 200.4 51.2 L 199.6 51.2 L 199.6 48.5 L 196.6 48.5 L 196.6 51.2 L 195.8 51.2 L 195.8 45.3 \" fill=\"#000000\"/>\n",
       "<path class=\"atom-36\" d=\"M 241.5 105.7 L 242.3 105.7 L 242.3 108.2 L 245.3 108.2 L 245.3 105.7 L 246.1 105.7 L 246.1 111.6 L 245.3 111.6 L 245.3 108.9 L 242.3 108.9 L 242.3 111.6 L 241.5 111.6 L 241.5 105.7 \" fill=\"#000000\"/>\n",
       "<path class=\"atom-0\" d=\"M 202.1,48.2 L 202.1,48.3 L 202.1,48.3 L 202.1,48.3 L 202.1,48.4 L 202.1,48.4 L 202.1,48.4 L 202.0,48.5 L 202.0,48.5 L 202.0,48.5 L 202.0,48.6 L 201.9,48.6 L 201.9,48.6 L 201.9,48.6 L 201.8,48.6 L 201.8,48.6 L 201.8,48.6 L 201.7,48.7 L 201.7,48.7 L 201.7,48.7 L 201.6,48.7 L 201.6,48.6 L 201.6,48.6 L 201.5,48.6 L 201.5,48.6 L 201.5,48.6 L 201.4,48.6 L 201.4,48.5 L 201.4,48.5 L 201.4,48.5 L 201.3,48.5 L 201.3,48.4 L 201.3,48.4 L 201.3,48.4 L 201.3,48.3 L 201.3,48.3 L 201.3,48.3 L 201.3,48.2 L 201.3,48.2 L 201.3,48.1 L 201.3,48.1 L 201.3,48.1 L 201.3,48.0 L 201.3,48.0 L 201.4,48.0 L 201.4,48.0 L 201.4,47.9 L 201.4,47.9 L 201.5,47.9 L 201.5,47.9 L 201.5,47.9 L 201.6,47.8 L 201.6,47.8 L 201.6,47.8 L 201.7,47.8 L 201.7,47.8 L 201.7,47.8 L 201.8,47.8 L 201.8,47.8 L 201.8,47.8 L 201.9,47.9 L 201.9,47.9 L 201.9,47.9 L 202.0,47.9 L 202.0,47.9 L 202.0,48.0 L 202.0,48.0 L 202.1,48.0 L 202.1,48.1 L 202.1,48.1 L 202.1,48.1 L 202.1,48.2 L 202.1,48.2 L 202.1,48.2 L 201.7,48.2 Z\" style=\"fill:#000000;fill-rule:evenodd;fill-opacity:1;stroke:#000000;stroke-width:0.0px;stroke-linecap:butt;stroke-linejoin:miter;stroke-opacity:1;\"/>\n",
       "<path class=\"atom-36\" d=\"M 240.7,108.7 L 240.7,108.7 L 240.7,108.7 L 240.6,108.8 L 240.6,108.8 L 240.6,108.8 L 240.6,108.9 L 240.6,108.9 L 240.6,108.9 L 240.5,109.0 L 240.5,109.0 L 240.5,109.0 L 240.5,109.0 L 240.4,109.0 L 240.4,109.0 L 240.4,109.1 L 240.3,109.1 L 240.3,109.1 L 240.3,109.1 L 240.2,109.1 L 240.2,109.1 L 240.1,109.1 L 240.1,109.1 L 240.1,109.0 L 240.0,109.0 L 240.0,109.0 L 240.0,109.0 L 240.0,109.0 L 239.9,108.9 L 239.9,108.9 L 239.9,108.9 L 239.9,108.8 L 239.9,108.8 L 239.8,108.8 L 239.8,108.7 L 239.8,108.7 L 239.8,108.7 L 239.8,108.6 L 239.8,108.6 L 239.8,108.6 L 239.8,108.5 L 239.9,108.5 L 239.9,108.5 L 239.9,108.4 L 239.9,108.4 L 239.9,108.4 L 240.0,108.4 L 240.0,108.3 L 240.0,108.3 L 240.0,108.3 L 240.1,108.3 L 240.1,108.3 L 240.1,108.3 L 240.2,108.2 L 240.2,108.2 L 240.3,108.2 L 240.3,108.2 L 240.3,108.2 L 240.4,108.3 L 240.4,108.3 L 240.4,108.3 L 240.5,108.3 L 240.5,108.3 L 240.5,108.3 L 240.5,108.4 L 240.6,108.4 L 240.6,108.4 L 240.6,108.5 L 240.6,108.5 L 240.6,108.5 L 240.6,108.6 L 240.7,108.6 L 240.7,108.6 L 240.7,108.7 L 240.2,108.7 Z\" style=\"fill:#000000;fill-rule:evenodd;fill-opacity:1;stroke:#000000;stroke-width:0.0px;stroke-linecap:butt;stroke-linejoin:miter;stroke-opacity:1;\"/>\n",
       "</svg>"
      ],
      "text/plain": [
       "<IPython.core.display.SVG object>"
      ]
     },
     "execution_count": 39,
     "metadata": {},
     "output_type": "execute_result"
    }
   ],
   "source": [
    "big_smiles_gen(big)"
   ]
  },
  {
   "cell_type": "markdown",
   "id": "7190b531",
   "metadata": {},
   "source": [
    "## Poly(acrylic acid butyl - r - acrylamide) (25% acrylamide)"
   ]
  },
  {
   "cell_type": "code",
   "execution_count": 40,
   "id": "f0c07851",
   "metadata": {},
   "outputs": [
    {
     "data": {
      "image/svg+xml": [
       "<svg xmlns=\"http://www.w3.org/2000/svg\" xmlns:rdkit=\"http://www.rdkit.org/xml\" xmlns:xlink=\"http://www.w3.org/1999/xlink\" version=\"1.1\" baseProfile=\"full\" xml:space=\"preserve\" width=\"450px\" height=\"150px\" viewBox=\"0 0 450 150\">\n",
       "<!-- END OF HEADER -->\n",
       "<rect style=\"opacity:1.0;fill:#FFFFFF;stroke:none\" width=\"450.0\" height=\"150.0\" x=\"0.0\" y=\"0.0\"> </rect>\n",
       "<path class=\"bond-0 atom-1 atom-2\" d=\"M 233.8,120.3 L 241.4,109.7\" style=\"fill:none;fill-rule:evenodd;stroke:#000000;stroke-width:2.0px;stroke-linecap:butt;stroke-linejoin:miter;stroke-opacity:1\"/>\n",
       "<path class=\"bond-1 atom-2 atom-3\" d=\"M 241.4,109.7 L 254.4,110.9\" style=\"fill:none;fill-rule:evenodd;stroke:#000000;stroke-width:2.0px;stroke-linecap:butt;stroke-linejoin:miter;stroke-opacity:1\"/>\n",
       "<path class=\"bond-2 atom-3 atom-4\" d=\"M 255.5,110.3 L 257.7,115.0\" style=\"fill:none;fill-rule:evenodd;stroke:#000000;stroke-width:2.0px;stroke-linecap:butt;stroke-linejoin:miter;stroke-opacity:1\"/>\n",
       "<path class=\"bond-2 atom-3 atom-4\" d=\"M 257.7,115.0 L 259.8,119.6\" style=\"fill:none;fill-rule:evenodd;stroke:#FF0000;stroke-width:2.0px;stroke-linecap:butt;stroke-linejoin:miter;stroke-opacity:1\"/>\n",
       "<path class=\"bond-2 atom-3 atom-4\" d=\"M 253.2,111.4 L 255.3,116.1\" style=\"fill:none;fill-rule:evenodd;stroke:#000000;stroke-width:2.0px;stroke-linecap:butt;stroke-linejoin:miter;stroke-opacity:1\"/>\n",
       "<path class=\"bond-2 atom-3 atom-4\" d=\"M 255.3,116.1 L 257.4,120.7\" style=\"fill:none;fill-rule:evenodd;stroke:#FF0000;stroke-width:2.0px;stroke-linecap:butt;stroke-linejoin:miter;stroke-opacity:1\"/>\n",
       "<path class=\"bond-3 atom-3 atom-5\" d=\"M 254.4,110.9 L 257.2,106.9\" style=\"fill:none;fill-rule:evenodd;stroke:#000000;stroke-width:2.0px;stroke-linecap:butt;stroke-linejoin:miter;stroke-opacity:1\"/>\n",
       "<path class=\"bond-3 atom-3 atom-5\" d=\"M 257.2,106.9 L 260.0,102.9\" style=\"fill:none;fill-rule:evenodd;stroke:#FF0000;stroke-width:2.0px;stroke-linecap:butt;stroke-linejoin:miter;stroke-opacity:1\"/>\n",
       "<path class=\"bond-4 atom-5 atom-6\" d=\"M 264.3,100.4 L 269.6,100.9\" style=\"fill:none;fill-rule:evenodd;stroke:#FF0000;stroke-width:2.0px;stroke-linecap:butt;stroke-linejoin:miter;stroke-opacity:1\"/>\n",
       "<path class=\"bond-4 atom-5 atom-6\" d=\"M 269.6,100.9 L 274.9,101.4\" style=\"fill:none;fill-rule:evenodd;stroke:#000000;stroke-width:2.0px;stroke-linecap:butt;stroke-linejoin:miter;stroke-opacity:1\"/>\n",
       "<path class=\"bond-5 atom-6 atom-7\" d=\"M 274.9,101.4 L 282.4,90.8\" style=\"fill:none;fill-rule:evenodd;stroke:#000000;stroke-width:2.0px;stroke-linecap:butt;stroke-linejoin:miter;stroke-opacity:1\"/>\n",
       "<path class=\"bond-6 atom-7 atom-8\" d=\"M 282.4,90.8 L 295.4,92.0\" style=\"fill:none;fill-rule:evenodd;stroke:#000000;stroke-width:2.0px;stroke-linecap:butt;stroke-linejoin:miter;stroke-opacity:1\"/>\n",
       "<path class=\"bond-7 atom-8 atom-9\" d=\"M 295.4,92.0 L 303.0,81.3\" style=\"fill:none;fill-rule:evenodd;stroke:#000000;stroke-width:2.0px;stroke-linecap:butt;stroke-linejoin:miter;stroke-opacity:1\"/>\n",
       "<path class=\"bond-8 atom-0 atom-1\" d=\"M 238.1,129.6 L 233.8,120.3\" style=\"fill:none;fill-rule:evenodd;stroke:#000000;stroke-width:2.0px;stroke-linecap:butt;stroke-linejoin:miter;stroke-opacity:1\"/>\n",
       "<path class=\"bond-9 atom-10 atom-11\" d=\"M 220.8,119.1 L 213.3,129.8\" style=\"fill:none;fill-rule:evenodd;stroke:#000000;stroke-width:2.0px;stroke-linecap:butt;stroke-linejoin:miter;stroke-opacity:1\"/>\n",
       "<path class=\"bond-10 atom-11 atom-12\" d=\"M 213.3,129.8 L 200.3,128.6\" style=\"fill:none;fill-rule:evenodd;stroke:#000000;stroke-width:2.0px;stroke-linecap:butt;stroke-linejoin:miter;stroke-opacity:1\"/>\n",
       "<path class=\"bond-11 atom-12 atom-13\" d=\"M 199.1,129.1 L 197.0,124.5\" style=\"fill:none;fill-rule:evenodd;stroke:#000000;stroke-width:2.0px;stroke-linecap:butt;stroke-linejoin:miter;stroke-opacity:1\"/>\n",
       "<path class=\"bond-11 atom-12 atom-13\" d=\"M 197.0,124.5 L 194.8,119.9\" style=\"fill:none;fill-rule:evenodd;stroke:#FF0000;stroke-width:2.0px;stroke-linecap:butt;stroke-linejoin:miter;stroke-opacity:1\"/>\n",
       "<path class=\"bond-11 atom-12 atom-13\" d=\"M 201.5,128.0 L 199.3,123.4\" style=\"fill:none;fill-rule:evenodd;stroke:#000000;stroke-width:2.0px;stroke-linecap:butt;stroke-linejoin:miter;stroke-opacity:1\"/>\n",
       "<path class=\"bond-11 atom-12 atom-13\" d=\"M 199.3,123.4 L 197.2,118.8\" style=\"fill:none;fill-rule:evenodd;stroke:#FF0000;stroke-width:2.0px;stroke-linecap:butt;stroke-linejoin:miter;stroke-opacity:1\"/>\n",
       "<path class=\"bond-12 atom-12 atom-14\" d=\"M 200.3,128.6 L 197.4,132.6\" style=\"fill:none;fill-rule:evenodd;stroke:#000000;stroke-width:2.0px;stroke-linecap:butt;stroke-linejoin:miter;stroke-opacity:1\"/>\n",
       "<path class=\"bond-12 atom-12 atom-14\" d=\"M 197.4,132.6 L 194.5,136.7\" style=\"fill:none;fill-rule:evenodd;stroke:#0000FF;stroke-width:2.0px;stroke-linecap:butt;stroke-linejoin:miter;stroke-opacity:1\"/>\n",
       "<path class=\"bond-13 atom-1 atom-10\" d=\"M 233.8,120.3 L 220.8,119.1\" style=\"fill:none;fill-rule:evenodd;stroke:#000000;stroke-width:2.0px;stroke-linecap:butt;stroke-linejoin:miter;stroke-opacity:1\"/>\n",
       "<path class=\"bond-14 atom-15 atom-16\" d=\"M 215.4,107.3 L 202.4,106.0\" style=\"fill:none;fill-rule:evenodd;stroke:#000000;stroke-width:2.0px;stroke-linecap:butt;stroke-linejoin:miter;stroke-opacity:1\"/>\n",
       "<path class=\"bond-15 atom-16 atom-17\" d=\"M 202.4,106.0 L 196.9,94.2\" style=\"fill:none;fill-rule:evenodd;stroke:#000000;stroke-width:2.0px;stroke-linecap:butt;stroke-linejoin:miter;stroke-opacity:1\"/>\n",
       "<path class=\"bond-16 atom-17 atom-18\" d=\"M 195.8,93.6 L 197.1,91.1\" style=\"fill:none;fill-rule:evenodd;stroke:#000000;stroke-width:2.0px;stroke-linecap:butt;stroke-linejoin:miter;stroke-opacity:1\"/>\n",
       "<path class=\"bond-16 atom-17 atom-18\" d=\"M 197.1,91.1 L 198.4,88.7\" style=\"fill:none;fill-rule:evenodd;stroke:#FF0000;stroke-width:2.0px;stroke-linecap:butt;stroke-linejoin:miter;stroke-opacity:1\"/>\n",
       "<path class=\"bond-16 atom-17 atom-18\" d=\"M 198.1,94.8 L 199.4,92.3\" style=\"fill:none;fill-rule:evenodd;stroke:#000000;stroke-width:2.0px;stroke-linecap:butt;stroke-linejoin:miter;stroke-opacity:1\"/>\n",
       "<path class=\"bond-16 atom-17 atom-18\" d=\"M 199.4,92.3 L 200.7,89.9\" style=\"fill:none;fill-rule:evenodd;stroke:#FF0000;stroke-width:2.0px;stroke-linecap:butt;stroke-linejoin:miter;stroke-opacity:1\"/>\n",
       "<path class=\"bond-17 atom-17 atom-19\" d=\"M 196.9,94.2 L 191.6,93.7\" style=\"fill:none;fill-rule:evenodd;stroke:#000000;stroke-width:2.0px;stroke-linecap:butt;stroke-linejoin:miter;stroke-opacity:1\"/>\n",
       "<path class=\"bond-17 atom-17 atom-19\" d=\"M 191.6,93.7 L 186.3,93.2\" style=\"fill:none;fill-rule:evenodd;stroke:#FF0000;stroke-width:2.0px;stroke-linecap:butt;stroke-linejoin:miter;stroke-opacity:1\"/>\n",
       "<path class=\"bond-18 atom-19 atom-20\" d=\"M 182.7,90.4 L 180.6,85.8\" style=\"fill:none;fill-rule:evenodd;stroke:#FF0000;stroke-width:2.0px;stroke-linecap:butt;stroke-linejoin:miter;stroke-opacity:1\"/>\n",
       "<path class=\"bond-18 atom-19 atom-20\" d=\"M 180.6,85.8 L 178.5,81.1\" style=\"fill:none;fill-rule:evenodd;stroke:#000000;stroke-width:2.0px;stroke-linecap:butt;stroke-linejoin:miter;stroke-opacity:1\"/>\n",
       "<path class=\"bond-19 atom-20 atom-21\" d=\"M 178.5,81.1 L 165.5,79.9\" style=\"fill:none;fill-rule:evenodd;stroke:#000000;stroke-width:2.0px;stroke-linecap:butt;stroke-linejoin:miter;stroke-opacity:1\"/>\n",
       "<path class=\"bond-20 atom-21 atom-22\" d=\"M 165.5,79.9 L 160.0,68.0\" style=\"fill:none;fill-rule:evenodd;stroke:#000000;stroke-width:2.0px;stroke-linecap:butt;stroke-linejoin:miter;stroke-opacity:1\"/>\n",
       "<path class=\"bond-21 atom-22 atom-23\" d=\"M 160.0,68.0 L 147.0,66.8\" style=\"fill:none;fill-rule:evenodd;stroke:#000000;stroke-width:2.0px;stroke-linecap:butt;stroke-linejoin:miter;stroke-opacity:1\"/>\n",
       "<path class=\"bond-22 atom-10 atom-15\" d=\"M 220.8,119.1 L 215.4,107.3\" style=\"fill:none;fill-rule:evenodd;stroke:#000000;stroke-width:2.0px;stroke-linecap:butt;stroke-linejoin:miter;stroke-opacity:1\"/>\n",
       "<path class=\"bond-23 atom-24 atom-25\" d=\"M 222.9,96.6 L 235.9,97.8\" style=\"fill:none;fill-rule:evenodd;stroke:#000000;stroke-width:2.0px;stroke-linecap:butt;stroke-linejoin:miter;stroke-opacity:1\"/>\n",
       "<path class=\"bond-24 atom-25 atom-26\" d=\"M 235.9,97.8 L 243.5,87.2\" style=\"fill:none;fill-rule:evenodd;stroke:#000000;stroke-width:2.0px;stroke-linecap:butt;stroke-linejoin:miter;stroke-opacity:1\"/>\n",
       "<path class=\"bond-25 atom-26 atom-27\" d=\"M 243.6,85.9 L 248.9,86.3\" style=\"fill:none;fill-rule:evenodd;stroke:#000000;stroke-width:2.0px;stroke-linecap:butt;stroke-linejoin:miter;stroke-opacity:1\"/>\n",
       "<path class=\"bond-25 atom-26 atom-27\" d=\"M 248.9,86.3 L 254.2,86.8\" style=\"fill:none;fill-rule:evenodd;stroke:#FF0000;stroke-width:2.0px;stroke-linecap:butt;stroke-linejoin:miter;stroke-opacity:1\"/>\n",
       "<path class=\"bond-25 atom-26 atom-27\" d=\"M 243.3,88.5 L 248.6,88.9\" style=\"fill:none;fill-rule:evenodd;stroke:#000000;stroke-width:2.0px;stroke-linecap:butt;stroke-linejoin:miter;stroke-opacity:1\"/>\n",
       "<path class=\"bond-25 atom-26 atom-27\" d=\"M 248.6,88.9 L 254.0,89.4\" style=\"fill:none;fill-rule:evenodd;stroke:#FF0000;stroke-width:2.0px;stroke-linecap:butt;stroke-linejoin:miter;stroke-opacity:1\"/>\n",
       "<path class=\"bond-26 atom-26 atom-28\" d=\"M 243.5,87.2 L 241.3,82.5\" style=\"fill:none;fill-rule:evenodd;stroke:#000000;stroke-width:2.0px;stroke-linecap:butt;stroke-linejoin:miter;stroke-opacity:1\"/>\n",
       "<path class=\"bond-26 atom-26 atom-28\" d=\"M 241.3,82.5 L 239.2,77.9\" style=\"fill:none;fill-rule:evenodd;stroke:#FF0000;stroke-width:2.0px;stroke-linecap:butt;stroke-linejoin:miter;stroke-opacity:1\"/>\n",
       "<path class=\"bond-27 atom-28 atom-29\" d=\"M 239.8,72.7 L 242.7,68.7\" style=\"fill:none;fill-rule:evenodd;stroke:#FF0000;stroke-width:2.0px;stroke-linecap:butt;stroke-linejoin:miter;stroke-opacity:1\"/>\n",
       "<path class=\"bond-27 atom-28 atom-29\" d=\"M 242.7,68.7 L 245.5,64.6\" style=\"fill:none;fill-rule:evenodd;stroke:#000000;stroke-width:2.0px;stroke-linecap:butt;stroke-linejoin:miter;stroke-opacity:1\"/>\n",
       "<path class=\"bond-28 atom-29 atom-30\" d=\"M 245.5,64.6 L 240.1,52.8\" style=\"fill:none;fill-rule:evenodd;stroke:#000000;stroke-width:2.0px;stroke-linecap:butt;stroke-linejoin:miter;stroke-opacity:1\"/>\n",
       "<path class=\"bond-29 atom-30 atom-31\" d=\"M 240.1,52.8 L 247.6,42.1\" style=\"fill:none;fill-rule:evenodd;stroke:#000000;stroke-width:2.0px;stroke-linecap:butt;stroke-linejoin:miter;stroke-opacity:1\"/>\n",
       "<path class=\"bond-30 atom-31 atom-32\" d=\"M 247.6,42.1 L 242.2,30.3\" style=\"fill:none;fill-rule:evenodd;stroke:#000000;stroke-width:2.0px;stroke-linecap:butt;stroke-linejoin:miter;stroke-opacity:1\"/>\n",
       "<path class=\"bond-31 atom-15 atom-24\" d=\"M 215.4,107.3 L 222.9,96.6\" style=\"fill:none;fill-rule:evenodd;stroke:#000000;stroke-width:2.0px;stroke-linecap:butt;stroke-linejoin:miter;stroke-opacity:1\"/>\n",
       "<path class=\"bond-32 atom-33 atom-34\" d=\"M 217.5,84.7 L 225.0,74.1\" style=\"fill:none;fill-rule:evenodd;stroke:#000000;stroke-width:2.0px;stroke-linecap:butt;stroke-linejoin:miter;stroke-opacity:1\"/>\n",
       "<path class=\"bond-33 atom-34 atom-35\" d=\"M 225.0,74.1 L 219.5,62.2\" style=\"fill:none;fill-rule:evenodd;stroke:#000000;stroke-width:2.0px;stroke-linecap:butt;stroke-linejoin:miter;stroke-opacity:1\"/>\n",
       "<path class=\"bond-34 atom-35 atom-36\" d=\"M 219.4,63.5 L 214.1,63.0\" style=\"fill:none;fill-rule:evenodd;stroke:#000000;stroke-width:2.0px;stroke-linecap:butt;stroke-linejoin:miter;stroke-opacity:1\"/>\n",
       "<path class=\"bond-34 atom-35 atom-36\" d=\"M 214.1,63.0 L 208.8,62.5\" style=\"fill:none;fill-rule:evenodd;stroke:#FF0000;stroke-width:2.0px;stroke-linecap:butt;stroke-linejoin:miter;stroke-opacity:1\"/>\n",
       "<path class=\"bond-34 atom-35 atom-36\" d=\"M 219.7,60.9 L 214.4,60.4\" style=\"fill:none;fill-rule:evenodd;stroke:#000000;stroke-width:2.0px;stroke-linecap:butt;stroke-linejoin:miter;stroke-opacity:1\"/>\n",
       "<path class=\"bond-34 atom-35 atom-36\" d=\"M 214.4,60.4 L 209.0,59.9\" style=\"fill:none;fill-rule:evenodd;stroke:#FF0000;stroke-width:2.0px;stroke-linecap:butt;stroke-linejoin:miter;stroke-opacity:1\"/>\n",
       "<path class=\"bond-35 atom-35 atom-37\" d=\"M 219.5,62.2 L 222.4,58.2\" style=\"fill:none;fill-rule:evenodd;stroke:#000000;stroke-width:2.0px;stroke-linecap:butt;stroke-linejoin:miter;stroke-opacity:1\"/>\n",
       "<path class=\"bond-35 atom-35 atom-37\" d=\"M 222.4,58.2 L 225.2,54.2\" style=\"fill:none;fill-rule:evenodd;stroke:#FF0000;stroke-width:2.0px;stroke-linecap:butt;stroke-linejoin:miter;stroke-opacity:1\"/>\n",
       "<path class=\"bond-36 atom-37 atom-38\" d=\"M 225.9,49.0 L 223.8,44.4\" style=\"fill:none;fill-rule:evenodd;stroke:#FF0000;stroke-width:2.0px;stroke-linecap:butt;stroke-linejoin:miter;stroke-opacity:1\"/>\n",
       "<path class=\"bond-36 atom-37 atom-38\" d=\"M 223.8,44.4 L 221.6,39.7\" style=\"fill:none;fill-rule:evenodd;stroke:#000000;stroke-width:2.0px;stroke-linecap:butt;stroke-linejoin:miter;stroke-opacity:1\"/>\n",
       "<path class=\"bond-37 atom-38 atom-39\" d=\"M 221.6,39.7 L 229.2,29.1\" style=\"fill:none;fill-rule:evenodd;stroke:#000000;stroke-width:2.0px;stroke-linecap:butt;stroke-linejoin:miter;stroke-opacity:1\"/>\n",
       "<path class=\"bond-38 atom-39 atom-40\" d=\"M 229.2,29.1 L 223.7,17.2\" style=\"fill:none;fill-rule:evenodd;stroke:#000000;stroke-width:2.0px;stroke-linecap:butt;stroke-linejoin:miter;stroke-opacity:1\"/>\n",
       "<path class=\"bond-39 atom-40 atom-41\" d=\"M 223.7,17.2 L 231.3,6.5\" style=\"fill:none;fill-rule:evenodd;stroke:#000000;stroke-width:2.0px;stroke-linecap:butt;stroke-linejoin:miter;stroke-opacity:1\"/>\n",
       "<path class=\"bond-40 atom-24 atom-33\" d=\"M 222.9,96.6 L 217.5,84.7\" style=\"fill:none;fill-rule:evenodd;stroke:#000000;stroke-width:2.0px;stroke-linecap:butt;stroke-linejoin:miter;stroke-opacity:1\"/>\n",
       "<path class=\"bond-41 atom-33 atom-42\" d=\"M 217.5,84.7 L 211.2,83.4\" style=\"fill:none;fill-rule:evenodd;stroke:#000000;stroke-width:2.0px;stroke-linecap:butt;stroke-linejoin:miter;stroke-opacity:1\"/>\n",
       "<path class=\"atom-0\" d=\"M 237.6 130.1 L 238.2 130.1 L 238.2 131.9 L 240.3 131.9 L 240.3 130.1 L 240.9 130.1 L 240.9 134.3 L 240.3 134.3 L 240.3 132.3 L 238.2 132.3 L 238.2 134.3 L 237.6 134.3 L 237.6 130.1 \" fill=\"#000000\"/>\n",
       "<path class=\"atom-4\" d=\"M 257.9 122.8 Q 257.9 121.7, 258.4 121.2 Q 258.9 120.6, 259.8 120.6 Q 260.7 120.6, 261.3 121.2 Q 261.8 121.7, 261.8 122.8 Q 261.8 123.8, 261.2 124.4 Q 260.7 125.0, 259.8 125.0 Q 258.9 125.0, 258.4 124.4 Q 257.9 123.8, 257.9 122.8 M 259.8 124.5 Q 260.5 124.5, 260.8 124.0 Q 261.2 123.6, 261.2 122.8 Q 261.2 121.9, 260.8 121.5 Q 260.5 121.1, 259.8 121.1 Q 259.2 121.1, 258.8 121.5 Q 258.5 121.9, 258.5 122.8 Q 258.5 123.6, 258.8 124.0 Q 259.2 124.5, 259.8 124.5 \" fill=\"#FF0000\"/>\n",
       "<path class=\"atom-5\" d=\"M 260.0 100.2 Q 260.0 99.2, 260.5 98.6 Q 261.0 98.1, 261.9 98.1 Q 262.8 98.1, 263.3 98.6 Q 263.9 99.2, 263.9 100.2 Q 263.9 101.3, 263.3 101.9 Q 262.8 102.4, 261.9 102.4 Q 261.0 102.4, 260.5 101.9 Q 260.0 101.3, 260.0 100.2 M 261.9 102.0 Q 262.5 102.0, 262.9 101.5 Q 263.3 101.1, 263.3 100.2 Q 263.3 99.4, 262.9 99.0 Q 262.5 98.6, 261.9 98.6 Q 261.3 98.6, 260.9 99.0 Q 260.6 99.4, 260.6 100.2 Q 260.6 101.1, 260.9 101.5 Q 261.3 102.0, 261.9 102.0 \" fill=\"#FF0000\"/>\n",
       "<path class=\"atom-13\" d=\"M 192.9 116.7 Q 192.9 115.7, 193.4 115.1 Q 193.9 114.5, 194.8 114.5 Q 195.8 114.5, 196.3 115.1 Q 196.8 115.7, 196.8 116.7 Q 196.8 117.7, 196.3 118.3 Q 195.7 118.9, 194.8 118.9 Q 193.9 118.9, 193.4 118.3 Q 192.9 117.7, 192.9 116.7 M 194.8 118.4 Q 195.5 118.4, 195.8 118.0 Q 196.2 117.6, 196.2 116.7 Q 196.2 115.9, 195.8 115.5 Q 195.5 115.0, 194.8 115.0 Q 194.2 115.0, 193.8 115.4 Q 193.5 115.9, 193.5 116.7 Q 193.5 117.6, 193.8 118.0 Q 194.2 118.4, 194.8 118.4 \" fill=\"#FF0000\"/>\n",
       "<path class=\"atom-14\" d=\"M 185.2 137.1 L 185.7 137.1 L 185.7 138.9 L 187.9 138.9 L 187.9 137.1 L 188.5 137.1 L 188.5 141.3 L 187.9 141.3 L 187.9 139.4 L 185.7 139.4 L 185.7 141.3 L 185.2 141.3 L 185.2 137.1 \" fill=\"#0000FF\"/>\n",
       "<path class=\"atom-14\" d=\"M 189.0 141.2 Q 189.1 140.9, 189.3 140.8 Q 189.6 140.6, 189.9 140.6 Q 190.4 140.6, 190.6 140.9 Q 190.8 141.1, 190.8 141.5 Q 190.8 141.9, 190.5 142.3 Q 190.2 142.7, 189.6 143.1 L 190.9 143.1 L 190.9 143.5 L 189.0 143.5 L 189.0 143.2 Q 189.5 142.8, 189.8 142.5 Q 190.1 142.3, 190.3 142.0 Q 190.4 141.8, 190.4 141.5 Q 190.4 141.2, 190.3 141.1 Q 190.2 140.9, 189.9 140.9 Q 189.7 140.9, 189.6 141.0 Q 189.4 141.1, 189.3 141.3 L 189.0 141.2 \" fill=\"#0000FF\"/>\n",
       "<path class=\"atom-14\" d=\"M 191.8 137.1 L 193.2 139.3 Q 193.3 139.6, 193.5 140.0 Q 193.8 140.4, 193.8 140.4 L 193.8 137.1 L 194.3 137.1 L 194.3 141.3 L 193.8 141.3 L 192.3 138.9 Q 192.1 138.6, 191.9 138.3 Q 191.7 137.9, 191.7 137.8 L 191.7 141.3 L 191.1 141.3 L 191.1 137.1 L 191.8 137.1 \" fill=\"#0000FF\"/>\n",
       "<path class=\"atom-18\" d=\"M 199.0 86.7 Q 199.0 85.6, 199.5 85.1 Q 200.0 84.5, 201.0 84.5 Q 201.9 84.5, 202.4 85.1 Q 202.9 85.6, 202.9 86.7 Q 202.9 87.7, 202.4 88.3 Q 201.9 88.9, 201.0 88.9 Q 200.0 88.9, 199.5 88.3 Q 199.0 87.7, 199.0 86.7 M 201.0 88.4 Q 201.6 88.4, 202.0 87.9 Q 202.3 87.5, 202.3 86.7 Q 202.3 85.8, 202.0 85.4 Q 201.6 85.0, 201.0 85.0 Q 200.3 85.0, 200.0 85.4 Q 199.6 85.8, 199.6 86.7 Q 199.6 87.5, 200.0 87.9 Q 200.3 88.4, 201.0 88.4 \" fill=\"#FF0000\"/>\n",
       "<path class=\"atom-19\" d=\"M 182.0 93.0 Q 182.0 92.0, 182.5 91.4 Q 183.0 90.8, 183.9 90.8 Q 184.9 90.8, 185.4 91.4 Q 185.9 92.0, 185.9 93.0 Q 185.9 94.0, 185.4 94.6 Q 184.8 95.2, 183.9 95.2 Q 183.0 95.2, 182.5 94.6 Q 182.0 94.0, 182.0 93.0 M 183.9 94.7 Q 184.6 94.7, 184.9 94.3 Q 185.3 93.8, 185.3 93.0 Q 185.3 92.2, 184.9 91.7 Q 184.6 91.3, 183.9 91.3 Q 183.3 91.3, 182.9 91.7 Q 182.6 92.1, 182.6 93.0 Q 182.6 93.8, 182.9 94.3 Q 183.3 94.7, 183.9 94.7 \" fill=\"#FF0000\"/>\n",
       "<path class=\"atom-27\" d=\"M 254.5 88.4 Q 254.5 87.4, 255.0 86.8 Q 255.5 86.2, 256.4 86.2 Q 257.4 86.2, 257.9 86.8 Q 258.4 87.4, 258.4 88.4 Q 258.4 89.4, 257.9 90.0 Q 257.4 90.6, 256.4 90.6 Q 255.5 90.6, 255.0 90.0 Q 254.5 89.4, 254.5 88.4 M 256.4 90.1 Q 257.1 90.1, 257.4 89.7 Q 257.8 89.2, 257.8 88.4 Q 257.8 87.5, 257.4 87.1 Q 257.1 86.7, 256.4 86.7 Q 255.8 86.7, 255.4 87.1 Q 255.1 87.5, 255.1 88.4 Q 255.1 89.2, 255.4 89.7 Q 255.8 90.1, 256.4 90.1 \" fill=\"#FF0000\"/>\n",
       "<path class=\"atom-28\" d=\"M 236.0 75.3 Q 236.0 74.3, 236.6 73.7 Q 237.1 73.1, 238.0 73.1 Q 238.9 73.1, 239.4 73.7 Q 239.9 74.3, 239.9 75.3 Q 239.9 76.3, 239.4 76.9 Q 238.9 77.5, 238.0 77.5 Q 237.1 77.5, 236.6 76.9 Q 236.0 76.3, 236.0 75.3 M 238.0 77.0 Q 238.6 77.0, 239.0 76.6 Q 239.3 76.2, 239.3 75.3 Q 239.3 74.5, 239.0 74.1 Q 238.6 73.6, 238.0 73.6 Q 237.4 73.6, 237.0 74.0 Q 236.6 74.5, 236.6 75.3 Q 236.6 76.2, 237.0 76.6 Q 237.4 77.0, 238.0 77.0 \" fill=\"#FF0000\"/>\n",
       "<path class=\"atom-36\" d=\"M 204.6 61.0 Q 204.6 60.0, 205.1 59.4 Q 205.6 58.9, 206.5 58.9 Q 207.5 58.9, 208.0 59.4 Q 208.5 60.0, 208.5 61.0 Q 208.5 62.1, 208.0 62.6 Q 207.5 63.2, 206.5 63.2 Q 205.6 63.2, 205.1 62.6 Q 204.6 62.1, 204.6 61.0 M 206.5 62.7 Q 207.2 62.7, 207.5 62.3 Q 207.9 61.9, 207.9 61.0 Q 207.9 60.2, 207.5 59.8 Q 207.2 59.3, 206.5 59.3 Q 205.9 59.3, 205.5 59.8 Q 205.2 60.2, 205.2 61.0 Q 205.2 61.9, 205.5 62.3 Q 205.9 62.7, 206.5 62.7 \" fill=\"#FF0000\"/>\n",
       "<path class=\"atom-37\" d=\"M 225.1 51.6 Q 225.1 50.6, 225.6 50.0 Q 226.2 49.4, 227.1 49.4 Q 228.0 49.4, 228.5 50.0 Q 229.0 50.6, 229.0 51.6 Q 229.0 52.6, 228.5 53.2 Q 228.0 53.8, 227.1 53.8 Q 226.2 53.8, 225.6 53.2 Q 225.1 52.6, 225.1 51.6 M 227.1 53.3 Q 227.7 53.3, 228.1 52.9 Q 228.4 52.4, 228.4 51.6 Q 228.4 50.7, 228.1 50.3 Q 227.7 49.9, 227.1 49.9 Q 226.4 49.9, 226.1 50.3 Q 225.7 50.7, 225.7 51.6 Q 225.7 52.4, 226.1 52.9 Q 226.4 53.3, 227.1 53.3 \" fill=\"#FF0000\"/>\n",
       "<path class=\"atom-42\" d=\"M 207.4 80.8 L 208.0 80.8 L 208.0 82.6 L 210.2 82.6 L 210.2 80.8 L 210.7 80.8 L 210.7 85.0 L 210.2 85.0 L 210.2 83.1 L 208.0 83.1 L 208.0 85.0 L 207.4 85.0 L 207.4 80.8 \" fill=\"#000000\"/>\n",
       "<path class=\"atom-0\" d=\"M 242.1,132.2 L 242.1,132.2 L 242.1,132.2 L 242.1,132.3 L 242.1,132.3 L 242.1,132.3 L 242.1,132.3 L 242.1,132.4 L 242.1,132.4 L 242.0,132.4 L 242.0,132.4 L 242.0,132.4 L 242.0,132.4 L 242.0,132.5 L 241.9,132.5 L 241.9,132.5 L 241.9,132.5 L 241.9,132.5 L 241.8,132.5 L 241.8,132.5 L 241.8,132.5 L 241.8,132.5 L 241.7,132.5 L 241.7,132.5 L 241.7,132.4 L 241.7,132.4 L 241.6,132.4 L 241.6,132.4 L 241.6,132.4 L 241.6,132.4 L 241.6,132.3 L 241.6,132.3 L 241.5,132.3 L 241.5,132.3 L 241.5,132.2 L 241.5,132.2 L 241.5,132.2 L 241.5,132.2 L 241.5,132.1 L 241.5,132.1 L 241.5,132.1 L 241.5,132.1 L 241.6,132.0 L 241.6,132.0 L 241.6,132.0 L 241.6,132.0 L 241.6,132.0 L 241.6,131.9 L 241.7,131.9 L 241.7,131.9 L 241.7,131.9 L 241.7,131.9 L 241.8,131.9 L 241.8,131.9 L 241.8,131.9 L 241.8,131.9 L 241.9,131.9 L 241.9,131.9 L 241.9,131.9 L 241.9,131.9 L 242.0,131.9 L 242.0,131.9 L 242.0,131.9 L 242.0,132.0 L 242.0,132.0 L 242.1,132.0 L 242.1,132.0 L 242.1,132.0 L 242.1,132.1 L 242.1,132.1 L 242.1,132.1 L 242.1,132.1 L 242.1,132.2 L 242.1,132.2 L 241.8,132.2 Z\" style=\"fill:#000000;fill-rule:evenodd;fill-opacity:1;stroke:#000000;stroke-width:0.0px;stroke-linecap:butt;stroke-linejoin:miter;stroke-opacity:1;\"/>\n",
       "<path class=\"atom-42\" d=\"M 206.8,82.9 L 206.8,82.9 L 206.8,83.0 L 206.8,83.0 L 206.8,83.0 L 206.8,83.0 L 206.8,83.1 L 206.8,83.1 L 206.8,83.1 L 206.7,83.1 L 206.7,83.1 L 206.7,83.2 L 206.7,83.2 L 206.7,83.2 L 206.6,83.2 L 206.6,83.2 L 206.6,83.2 L 206.6,83.2 L 206.5,83.2 L 206.5,83.2 L 206.5,83.2 L 206.5,83.2 L 206.4,83.2 L 206.4,83.2 L 206.4,83.2 L 206.4,83.2 L 206.3,83.1 L 206.3,83.1 L 206.3,83.1 L 206.3,83.1 L 206.3,83.1 L 206.3,83.0 L 206.2,83.0 L 206.2,83.0 L 206.2,83.0 L 206.2,82.9 L 206.2,82.9 L 206.2,82.9 L 206.2,82.9 L 206.2,82.8 L 206.2,82.8 L 206.2,82.8 L 206.3,82.8 L 206.3,82.8 L 206.3,82.7 L 206.3,82.7 L 206.3,82.7 L 206.3,82.7 L 206.4,82.7 L 206.4,82.6 L 206.4,82.6 L 206.4,82.6 L 206.5,82.6 L 206.5,82.6 L 206.5,82.6 L 206.5,82.6 L 206.6,82.6 L 206.6,82.6 L 206.6,82.6 L 206.6,82.6 L 206.7,82.6 L 206.7,82.7 L 206.7,82.7 L 206.7,82.7 L 206.7,82.7 L 206.8,82.7 L 206.8,82.7 L 206.8,82.8 L 206.8,82.8 L 206.8,82.8 L 206.8,82.8 L 206.8,82.9 L 206.8,82.9 L 206.8,82.9 L 206.5,82.9 Z\" style=\"fill:#000000;fill-rule:evenodd;fill-opacity:1;stroke:#000000;stroke-width:0.0px;stroke-linecap:butt;stroke-linejoin:miter;stroke-opacity:1;\"/>\n",
       "</svg>"
      ],
      "text/plain": [
       "<IPython.core.display.SVG object>"
      ]
     },
     "execution_count": 40,
     "metadata": {},
     "output_type": "execute_result"
    }
   ],
   "source": [
    "big = \"[H]{[>][>|75|]C([<|75|])CC(=O)OCCCC, [<|25|]C([>|25|])CC(=O)N[<]}|gauss(500,50)|[H]\"\n",
    "big_smiles_gen(big)"
   ]
  },
  {
   "cell_type": "code",
   "execution_count": 41,
   "id": "3cf6c797",
   "metadata": {},
   "outputs": [
    {
     "data": {
      "image/svg+xml": [
       "<svg xmlns=\"http://www.w3.org/2000/svg\" xmlns:rdkit=\"http://www.rdkit.org/xml\" xmlns:xlink=\"http://www.w3.org/1999/xlink\" version=\"1.1\" baseProfile=\"full\" xml:space=\"preserve\" width=\"450px\" height=\"150px\" viewBox=\"0 0 450 150\">\n",
       "<!-- END OF HEADER -->\n",
       "<rect style=\"opacity:1.0;fill:#FFFFFF;stroke:none\" width=\"450.0\" height=\"150.0\" x=\"0.0\" y=\"0.0\"> </rect>\n",
       "<path class=\"bond-0 atom-1 atom-2\" d=\"M 172.4,79.6 L 173.5,66.9\" style=\"fill:none;fill-rule:evenodd;stroke:#000000;stroke-width:2.0px;stroke-linecap:butt;stroke-linejoin:miter;stroke-opacity:1\"/>\n",
       "<path class=\"bond-1 atom-2 atom-3\" d=\"M 173.5,66.9 L 163.1,59.6\" style=\"fill:none;fill-rule:evenodd;stroke:#000000;stroke-width:2.0px;stroke-linecap:butt;stroke-linejoin:miter;stroke-opacity:1\"/>\n",
       "<path class=\"bond-2 atom-3 atom-4\" d=\"M 163.6,60.7 L 159.0,62.9\" style=\"fill:none;fill-rule:evenodd;stroke:#000000;stroke-width:2.0px;stroke-linecap:butt;stroke-linejoin:miter;stroke-opacity:1\"/>\n",
       "<path class=\"bond-2 atom-3 atom-4\" d=\"M 159.0,62.9 L 154.4,65.0\" style=\"fill:none;fill-rule:evenodd;stroke:#FF0000;stroke-width:2.0px;stroke-linecap:butt;stroke-linejoin:miter;stroke-opacity:1\"/>\n",
       "<path class=\"bond-2 atom-3 atom-4\" d=\"M 162.5,58.4 L 157.9,60.6\" style=\"fill:none;fill-rule:evenodd;stroke:#000000;stroke-width:2.0px;stroke-linecap:butt;stroke-linejoin:miter;stroke-opacity:1\"/>\n",
       "<path class=\"bond-2 atom-3 atom-4\" d=\"M 157.9,60.6 L 153.3,62.7\" style=\"fill:none;fill-rule:evenodd;stroke:#FF0000;stroke-width:2.0px;stroke-linecap:butt;stroke-linejoin:miter;stroke-opacity:1\"/>\n",
       "<path class=\"bond-3 atom-3 atom-5\" d=\"M 163.1,59.6 L 163.5,54.5\" style=\"fill:none;fill-rule:evenodd;stroke:#000000;stroke-width:2.0px;stroke-linecap:butt;stroke-linejoin:miter;stroke-opacity:1\"/>\n",
       "<path class=\"bond-3 atom-3 atom-5\" d=\"M 163.5,54.5 L 163.9,49.5\" style=\"fill:none;fill-rule:evenodd;stroke:#FF0000;stroke-width:2.0px;stroke-linecap:butt;stroke-linejoin:miter;stroke-opacity:1\"/>\n",
       "<path class=\"bond-4 atom-5 atom-6\" d=\"M 161.8,45.2 L 157.8,42.4\" style=\"fill:none;fill-rule:evenodd;stroke:#FF0000;stroke-width:2.0px;stroke-linecap:butt;stroke-linejoin:miter;stroke-opacity:1\"/>\n",
       "<path class=\"bond-4 atom-5 atom-6\" d=\"M 157.8,42.4 L 153.7,39.6\" style=\"fill:none;fill-rule:evenodd;stroke:#000000;stroke-width:2.0px;stroke-linecap:butt;stroke-linejoin:miter;stroke-opacity:1\"/>\n",
       "<path class=\"bond-5 atom-6 atom-7\" d=\"M 153.7,39.6 L 154.8,26.8\" style=\"fill:none;fill-rule:evenodd;stroke:#000000;stroke-width:2.0px;stroke-linecap:butt;stroke-linejoin:miter;stroke-opacity:1\"/>\n",
       "<path class=\"bond-6 atom-7 atom-8\" d=\"M 154.8,26.8 L 144.4,19.5\" style=\"fill:none;fill-rule:evenodd;stroke:#000000;stroke-width:2.0px;stroke-linecap:butt;stroke-linejoin:miter;stroke-opacity:1\"/>\n",
       "<path class=\"bond-7 atom-8 atom-9\" d=\"M 144.4,19.5 L 145.5,6.8\" style=\"fill:none;fill-rule:evenodd;stroke:#000000;stroke-width:2.0px;stroke-linecap:butt;stroke-linejoin:miter;stroke-opacity:1\"/>\n",
       "<path class=\"bond-8 atom-0 atom-1\" d=\"M 162.9,84.0 L 172.4,79.6\" style=\"fill:none;fill-rule:evenodd;stroke:#000000;stroke-width:2.0px;stroke-linecap:butt;stroke-linejoin:miter;stroke-opacity:1\"/>\n",
       "<path class=\"bond-9 atom-10 atom-11\" d=\"M 182.9,86.9 L 181.8,99.6\" style=\"fill:none;fill-rule:evenodd;stroke:#000000;stroke-width:2.0px;stroke-linecap:butt;stroke-linejoin:miter;stroke-opacity:1\"/>\n",
       "<path class=\"bond-10 atom-11 atom-12\" d=\"M 181.8,99.6 L 170.2,105.0\" style=\"fill:none;fill-rule:evenodd;stroke:#000000;stroke-width:2.0px;stroke-linecap:butt;stroke-linejoin:miter;stroke-opacity:1\"/>\n",
       "<path class=\"bond-11 atom-12 atom-13\" d=\"M 169.5,106.1 L 165.4,103.3\" style=\"fill:none;fill-rule:evenodd;stroke:#000000;stroke-width:2.0px;stroke-linecap:butt;stroke-linejoin:miter;stroke-opacity:1\"/>\n",
       "<path class=\"bond-11 atom-12 atom-13\" d=\"M 165.4,103.3 L 161.4,100.4\" style=\"fill:none;fill-rule:evenodd;stroke:#FF0000;stroke-width:2.0px;stroke-linecap:butt;stroke-linejoin:miter;stroke-opacity:1\"/>\n",
       "<path class=\"bond-11 atom-12 atom-13\" d=\"M 170.9,104.0 L 166.9,101.2\" style=\"fill:none;fill-rule:evenodd;stroke:#000000;stroke-width:2.0px;stroke-linecap:butt;stroke-linejoin:miter;stroke-opacity:1\"/>\n",
       "<path class=\"bond-11 atom-12 atom-13\" d=\"M 166.9,101.2 L 162.8,98.3\" style=\"fill:none;fill-rule:evenodd;stroke:#FF0000;stroke-width:2.0px;stroke-linecap:butt;stroke-linejoin:miter;stroke-opacity:1\"/>\n",
       "<path class=\"bond-12 atom-12 atom-14\" d=\"M 170.2,105.0 L 169.7,110.1\" style=\"fill:none;fill-rule:evenodd;stroke:#000000;stroke-width:2.0px;stroke-linecap:butt;stroke-linejoin:miter;stroke-opacity:1\"/>\n",
       "<path class=\"bond-12 atom-12 atom-14\" d=\"M 169.7,110.1 L 169.3,115.2\" style=\"fill:none;fill-rule:evenodd;stroke:#0000FF;stroke-width:2.0px;stroke-linecap:butt;stroke-linejoin:miter;stroke-opacity:1\"/>\n",
       "<path class=\"bond-13 atom-1 atom-10\" d=\"M 172.4,79.6 L 182.9,86.9\" style=\"fill:none;fill-rule:evenodd;stroke:#000000;stroke-width:2.0px;stroke-linecap:butt;stroke-linejoin:miter;stroke-opacity:1\"/>\n",
       "<path class=\"bond-14 atom-15 atom-16\" d=\"M 194.4,81.5 L 204.9,88.9\" style=\"fill:none;fill-rule:evenodd;stroke:#000000;stroke-width:2.0px;stroke-linecap:butt;stroke-linejoin:miter;stroke-opacity:1\"/>\n",
       "<path class=\"bond-15 atom-16 atom-17\" d=\"M 204.9,88.9 L 203.8,101.6\" style=\"fill:none;fill-rule:evenodd;stroke:#000000;stroke-width:2.0px;stroke-linecap:butt;stroke-linejoin:miter;stroke-opacity:1\"/>\n",
       "<path class=\"bond-16 atom-17 atom-18\" d=\"M 204.5,100.5 L 208.5,103.4\" style=\"fill:none;fill-rule:evenodd;stroke:#000000;stroke-width:2.0px;stroke-linecap:butt;stroke-linejoin:miter;stroke-opacity:1\"/>\n",
       "<path class=\"bond-16 atom-17 atom-18\" d=\"M 208.5,103.4 L 212.6,106.2\" style=\"fill:none;fill-rule:evenodd;stroke:#FF0000;stroke-width:2.0px;stroke-linecap:butt;stroke-linejoin:miter;stroke-opacity:1\"/>\n",
       "<path class=\"bond-16 atom-17 atom-18\" d=\"M 203.0,102.6 L 207.1,105.4\" style=\"fill:none;fill-rule:evenodd;stroke:#000000;stroke-width:2.0px;stroke-linecap:butt;stroke-linejoin:miter;stroke-opacity:1\"/>\n",
       "<path class=\"bond-16 atom-17 atom-18\" d=\"M 207.1,105.4 L 211.1,108.3\" style=\"fill:none;fill-rule:evenodd;stroke:#FF0000;stroke-width:2.0px;stroke-linecap:butt;stroke-linejoin:miter;stroke-opacity:1\"/>\n",
       "<path class=\"bond-17 atom-17 atom-19\" d=\"M 203.8,101.6 L 199.2,103.7\" style=\"fill:none;fill-rule:evenodd;stroke:#000000;stroke-width:2.0px;stroke-linecap:butt;stroke-linejoin:miter;stroke-opacity:1\"/>\n",
       "<path class=\"bond-17 atom-17 atom-19\" d=\"M 199.2,103.7 L 194.6,105.9\" style=\"fill:none;fill-rule:evenodd;stroke:#FF0000;stroke-width:2.0px;stroke-linecap:butt;stroke-linejoin:miter;stroke-opacity:1\"/>\n",
       "<path class=\"bond-18 atom-19 atom-20\" d=\"M 192.0,109.6 L 191.5,114.6\" style=\"fill:none;fill-rule:evenodd;stroke:#FF0000;stroke-width:2.0px;stroke-linecap:butt;stroke-linejoin:miter;stroke-opacity:1\"/>\n",
       "<path class=\"bond-18 atom-19 atom-20\" d=\"M 191.5,114.6 L 191.1,119.7\" style=\"fill:none;fill-rule:evenodd;stroke:#000000;stroke-width:2.0px;stroke-linecap:butt;stroke-linejoin:miter;stroke-opacity:1\"/>\n",
       "<path class=\"bond-19 atom-20 atom-21\" d=\"M 191.1,119.7 L 179.5,125.1\" style=\"fill:none;fill-rule:evenodd;stroke:#000000;stroke-width:2.0px;stroke-linecap:butt;stroke-linejoin:miter;stroke-opacity:1\"/>\n",
       "<path class=\"bond-20 atom-21 atom-22\" d=\"M 179.5,125.1 L 178.4,137.8\" style=\"fill:none;fill-rule:evenodd;stroke:#000000;stroke-width:2.0px;stroke-linecap:butt;stroke-linejoin:miter;stroke-opacity:1\"/>\n",
       "<path class=\"bond-21 atom-22 atom-23\" d=\"M 178.4,137.8 L 166.9,143.2\" style=\"fill:none;fill-rule:evenodd;stroke:#000000;stroke-width:2.0px;stroke-linecap:butt;stroke-linejoin:miter;stroke-opacity:1\"/>\n",
       "<path class=\"bond-22 atom-10 atom-15\" d=\"M 182.9,86.9 L 194.4,81.5\" style=\"fill:none;fill-rule:evenodd;stroke:#000000;stroke-width:2.0px;stroke-linecap:butt;stroke-linejoin:miter;stroke-opacity:1\"/>\n",
       "<path class=\"bond-23 atom-24 atom-25\" d=\"M 195.5,68.8 L 185.1,61.5\" style=\"fill:none;fill-rule:evenodd;stroke:#000000;stroke-width:2.0px;stroke-linecap:butt;stroke-linejoin:miter;stroke-opacity:1\"/>\n",
       "<path class=\"bond-24 atom-25 atom-26\" d=\"M 185.1,61.5 L 186.2,48.8\" style=\"fill:none;fill-rule:evenodd;stroke:#000000;stroke-width:2.0px;stroke-linecap:butt;stroke-linejoin:miter;stroke-opacity:1\"/>\n",
       "<path class=\"bond-25 atom-26 atom-27\" d=\"M 185.5,49.8 L 181.4,47.0\" style=\"fill:none;fill-rule:evenodd;stroke:#000000;stroke-width:2.0px;stroke-linecap:butt;stroke-linejoin:miter;stroke-opacity:1\"/>\n",
       "<path class=\"bond-25 atom-26 atom-27\" d=\"M 181.4,47.0 L 177.4,44.2\" style=\"fill:none;fill-rule:evenodd;stroke:#FF0000;stroke-width:2.0px;stroke-linecap:butt;stroke-linejoin:miter;stroke-opacity:1\"/>\n",
       "<path class=\"bond-25 atom-26 atom-27\" d=\"M 186.9,47.8 L 182.9,44.9\" style=\"fill:none;fill-rule:evenodd;stroke:#000000;stroke-width:2.0px;stroke-linecap:butt;stroke-linejoin:miter;stroke-opacity:1\"/>\n",
       "<path class=\"bond-25 atom-26 atom-27\" d=\"M 182.9,44.9 L 178.8,42.1\" style=\"fill:none;fill-rule:evenodd;stroke:#FF0000;stroke-width:2.0px;stroke-linecap:butt;stroke-linejoin:miter;stroke-opacity:1\"/>\n",
       "<path class=\"bond-26 atom-26 atom-28\" d=\"M 186.2,48.8 L 190.8,46.7\" style=\"fill:none;fill-rule:evenodd;stroke:#000000;stroke-width:2.0px;stroke-linecap:butt;stroke-linejoin:miter;stroke-opacity:1\"/>\n",
       "<path class=\"bond-26 atom-26 atom-28\" d=\"M 190.8,46.7 L 195.4,44.5\" style=\"fill:none;fill-rule:evenodd;stroke:#FF0000;stroke-width:2.0px;stroke-linecap:butt;stroke-linejoin:miter;stroke-opacity:1\"/>\n",
       "<path class=\"bond-27 atom-28 atom-29\" d=\"M 198.0,40.8 L 198.4,35.8\" style=\"fill:none;fill-rule:evenodd;stroke:#FF0000;stroke-width:2.0px;stroke-linecap:butt;stroke-linejoin:miter;stroke-opacity:1\"/>\n",
       "<path class=\"bond-27 atom-28 atom-29\" d=\"M 198.4,35.8 L 198.9,30.7\" style=\"fill:none;fill-rule:evenodd;stroke:#000000;stroke-width:2.0px;stroke-linecap:butt;stroke-linejoin:miter;stroke-opacity:1\"/>\n",
       "<path class=\"bond-28 atom-29 atom-30\" d=\"M 198.9,30.7 L 210.4,25.3\" style=\"fill:none;fill-rule:evenodd;stroke:#000000;stroke-width:2.0px;stroke-linecap:butt;stroke-linejoin:miter;stroke-opacity:1\"/>\n",
       "<path class=\"bond-29 atom-30 atom-31\" d=\"M 210.4,25.3 L 211.5,12.6\" style=\"fill:none;fill-rule:evenodd;stroke:#000000;stroke-width:2.0px;stroke-linecap:butt;stroke-linejoin:miter;stroke-opacity:1\"/>\n",
       "<path class=\"bond-30 atom-31 atom-32\" d=\"M 211.5,12.6 L 223.1,7.2\" style=\"fill:none;fill-rule:evenodd;stroke:#000000;stroke-width:2.0px;stroke-linecap:butt;stroke-linejoin:miter;stroke-opacity:1\"/>\n",
       "<path class=\"bond-31 atom-15 atom-24\" d=\"M 194.4,81.5 L 195.5,68.8\" style=\"fill:none;fill-rule:evenodd;stroke:#000000;stroke-width:2.0px;stroke-linecap:butt;stroke-linejoin:miter;stroke-opacity:1\"/>\n",
       "<path class=\"bond-32 atom-33 atom-34\" d=\"M 207.1,63.4 L 208.2,50.7\" style=\"fill:none;fill-rule:evenodd;stroke:#000000;stroke-width:2.0px;stroke-linecap:butt;stroke-linejoin:miter;stroke-opacity:1\"/>\n",
       "<path class=\"bond-33 atom-34 atom-35\" d=\"M 208.2,50.7 L 219.8,45.3\" style=\"fill:none;fill-rule:evenodd;stroke:#000000;stroke-width:2.0px;stroke-linecap:butt;stroke-linejoin:miter;stroke-opacity:1\"/>\n",
       "<path class=\"bond-34 atom-35 atom-36\" d=\"M 220.4,44.2 L 222.9,45.5\" style=\"fill:none;fill-rule:evenodd;stroke:#000000;stroke-width:2.0px;stroke-linecap:butt;stroke-linejoin:miter;stroke-opacity:1\"/>\n",
       "<path class=\"bond-34 atom-35 atom-36\" d=\"M 222.9,45.5 L 225.4,46.9\" style=\"fill:none;fill-rule:evenodd;stroke:#FF0000;stroke-width:2.0px;stroke-linecap:butt;stroke-linejoin:miter;stroke-opacity:1\"/>\n",
       "<path class=\"bond-34 atom-35 atom-36\" d=\"M 219.2,46.5 L 221.7,47.8\" style=\"fill:none;fill-rule:evenodd;stroke:#000000;stroke-width:2.0px;stroke-linecap:butt;stroke-linejoin:miter;stroke-opacity:1\"/>\n",
       "<path class=\"bond-34 atom-35 atom-36\" d=\"M 221.7,47.8 L 224.2,49.1\" style=\"fill:none;fill-rule:evenodd;stroke:#FF0000;stroke-width:2.0px;stroke-linecap:butt;stroke-linejoin:miter;stroke-opacity:1\"/>\n",
       "<path class=\"bond-35 atom-35 atom-37\" d=\"M 219.8,45.3 L 220.2,40.2\" style=\"fill:none;fill-rule:evenodd;stroke:#000000;stroke-width:2.0px;stroke-linecap:butt;stroke-linejoin:miter;stroke-opacity:1\"/>\n",
       "<path class=\"bond-35 atom-35 atom-37\" d=\"M 220.2,40.2 L 220.7,35.2\" style=\"fill:none;fill-rule:evenodd;stroke:#0000FF;stroke-width:2.0px;stroke-linecap:butt;stroke-linejoin:miter;stroke-opacity:1\"/>\n",
       "<path class=\"bond-36 atom-24 atom-33\" d=\"M 195.5,68.8 L 207.1,63.4\" style=\"fill:none;fill-rule:evenodd;stroke:#000000;stroke-width:2.0px;stroke-linecap:butt;stroke-linejoin:miter;stroke-opacity:1\"/>\n",
       "<path class=\"bond-37 atom-38 atom-39\" d=\"M 217.6,70.8 L 216.4,83.5\" style=\"fill:none;fill-rule:evenodd;stroke:#000000;stroke-width:2.0px;stroke-linecap:butt;stroke-linejoin:miter;stroke-opacity:1\"/>\n",
       "<path class=\"bond-38 atom-39 atom-40\" d=\"M 216.4,83.5 L 226.9,90.8\" style=\"fill:none;fill-rule:evenodd;stroke:#000000;stroke-width:2.0px;stroke-linecap:butt;stroke-linejoin:miter;stroke-opacity:1\"/>\n",
       "<path class=\"bond-39 atom-40 atom-41\" d=\"M 226.4,89.6 L 231.0,87.5\" style=\"fill:none;fill-rule:evenodd;stroke:#000000;stroke-width:2.0px;stroke-linecap:butt;stroke-linejoin:miter;stroke-opacity:1\"/>\n",
       "<path class=\"bond-39 atom-40 atom-41\" d=\"M 231.0,87.5 L 235.6,85.3\" style=\"fill:none;fill-rule:evenodd;stroke:#FF0000;stroke-width:2.0px;stroke-linecap:butt;stroke-linejoin:miter;stroke-opacity:1\"/>\n",
       "<path class=\"bond-39 atom-40 atom-41\" d=\"M 227.4,91.9 L 232.0,89.8\" style=\"fill:none;fill-rule:evenodd;stroke:#000000;stroke-width:2.0px;stroke-linecap:butt;stroke-linejoin:miter;stroke-opacity:1\"/>\n",
       "<path class=\"bond-39 atom-40 atom-41\" d=\"M 232.0,89.8 L 236.6,87.6\" style=\"fill:none;fill-rule:evenodd;stroke:#FF0000;stroke-width:2.0px;stroke-linecap:butt;stroke-linejoin:miter;stroke-opacity:1\"/>\n",
       "<path class=\"bond-40 atom-40 atom-42\" d=\"M 226.9,90.8 L 226.5,95.9\" style=\"fill:none;fill-rule:evenodd;stroke:#000000;stroke-width:2.0px;stroke-linecap:butt;stroke-linejoin:miter;stroke-opacity:1\"/>\n",
       "<path class=\"bond-40 atom-40 atom-42\" d=\"M 226.5,95.9 L 226.0,101.0\" style=\"fill:none;fill-rule:evenodd;stroke:#0000FF;stroke-width:2.0px;stroke-linecap:butt;stroke-linejoin:miter;stroke-opacity:1\"/>\n",
       "<path class=\"bond-41 atom-33 atom-38\" d=\"M 207.1,63.4 L 217.6,70.8\" style=\"fill:none;fill-rule:evenodd;stroke:#000000;stroke-width:2.0px;stroke-linecap:butt;stroke-linejoin:miter;stroke-opacity:1\"/>\n",
       "<path class=\"bond-42 atom-43 atom-44\" d=\"M 229.1,65.4 L 239.6,72.7\" style=\"fill:none;fill-rule:evenodd;stroke:#000000;stroke-width:2.0px;stroke-linecap:butt;stroke-linejoin:miter;stroke-opacity:1\"/>\n",
       "<path class=\"bond-43 atom-44 atom-45\" d=\"M 239.6,72.7 L 251.1,67.3\" style=\"fill:none;fill-rule:evenodd;stroke:#000000;stroke-width:2.0px;stroke-linecap:butt;stroke-linejoin:miter;stroke-opacity:1\"/>\n",
       "<path class=\"bond-44 atom-45 atom-46\" d=\"M 249.9,67.2 L 250.3,62.1\" style=\"fill:none;fill-rule:evenodd;stroke:#000000;stroke-width:2.0px;stroke-linecap:butt;stroke-linejoin:miter;stroke-opacity:1\"/>\n",
       "<path class=\"bond-44 atom-45 atom-46\" d=\"M 250.3,62.1 L 250.7,57.1\" style=\"fill:none;fill-rule:evenodd;stroke:#FF0000;stroke-width:2.0px;stroke-linecap:butt;stroke-linejoin:miter;stroke-opacity:1\"/>\n",
       "<path class=\"bond-44 atom-45 atom-46\" d=\"M 252.4,67.4 L 252.8,62.3\" style=\"fill:none;fill-rule:evenodd;stroke:#000000;stroke-width:2.0px;stroke-linecap:butt;stroke-linejoin:miter;stroke-opacity:1\"/>\n",
       "<path class=\"bond-44 atom-45 atom-46\" d=\"M 252.8,62.3 L 253.3,57.3\" style=\"fill:none;fill-rule:evenodd;stroke:#FF0000;stroke-width:2.0px;stroke-linecap:butt;stroke-linejoin:miter;stroke-opacity:1\"/>\n",
       "<path class=\"bond-45 atom-45 atom-47\" d=\"M 251.1,67.3 L 255.2,70.1\" style=\"fill:none;fill-rule:evenodd;stroke:#000000;stroke-width:2.0px;stroke-linecap:butt;stroke-linejoin:miter;stroke-opacity:1\"/>\n",
       "<path class=\"bond-45 atom-45 atom-47\" d=\"M 255.2,70.1 L 259.2,72.9\" style=\"fill:none;fill-rule:evenodd;stroke:#FF0000;stroke-width:2.0px;stroke-linecap:butt;stroke-linejoin:miter;stroke-opacity:1\"/>\n",
       "<path class=\"bond-46 atom-47 atom-48\" d=\"M 264.0,73.5 L 268.6,71.3\" style=\"fill:none;fill-rule:evenodd;stroke:#FF0000;stroke-width:2.0px;stroke-linecap:butt;stroke-linejoin:miter;stroke-opacity:1\"/>\n",
       "<path class=\"bond-46 atom-47 atom-48\" d=\"M 268.6,71.3 L 273.2,69.2\" style=\"fill:none;fill-rule:evenodd;stroke:#000000;stroke-width:2.0px;stroke-linecap:butt;stroke-linejoin:miter;stroke-opacity:1\"/>\n",
       "<path class=\"bond-47 atom-48 atom-49\" d=\"M 273.2,69.2 L 283.6,76.5\" style=\"fill:none;fill-rule:evenodd;stroke:#000000;stroke-width:2.0px;stroke-linecap:butt;stroke-linejoin:miter;stroke-opacity:1\"/>\n",
       "<path class=\"bond-48 atom-49 atom-50\" d=\"M 283.6,76.5 L 295.2,71.1\" style=\"fill:none;fill-rule:evenodd;stroke:#000000;stroke-width:2.0px;stroke-linecap:butt;stroke-linejoin:miter;stroke-opacity:1\"/>\n",
       "<path class=\"bond-49 atom-50 atom-51\" d=\"M 295.2,71.1 L 305.6,78.4\" style=\"fill:none;fill-rule:evenodd;stroke:#000000;stroke-width:2.0px;stroke-linecap:butt;stroke-linejoin:miter;stroke-opacity:1\"/>\n",
       "<path class=\"bond-50 atom-38 atom-43\" d=\"M 217.6,70.8 L 229.1,65.4\" style=\"fill:none;fill-rule:evenodd;stroke:#000000;stroke-width:2.0px;stroke-linecap:butt;stroke-linejoin:miter;stroke-opacity:1\"/>\n",
       "<path class=\"bond-51 atom-43 atom-52\" d=\"M 229.1,65.4 L 230.3,59.7\" style=\"fill:none;fill-rule:evenodd;stroke:#000000;stroke-width:2.0px;stroke-linecap:butt;stroke-linejoin:miter;stroke-opacity:1\"/>\n",
       "<path class=\"atom-0\" d=\"M 159.2 82.9 L 159.8 82.9 L 159.8 84.7 L 161.9 84.7 L 161.9 82.9 L 162.5 82.9 L 162.5 87.1 L 161.9 87.1 L 161.9 85.2 L 159.8 85.2 L 159.8 87.1 L 159.2 87.1 L 159.2 82.9 \" fill=\"#000000\"/>\n",
       "<path class=\"atom-4\" d=\"M 149.5 65.0 Q 149.5 64.0, 150.1 63.4 Q 150.6 62.8, 151.5 62.8 Q 152.4 62.8, 152.9 63.4 Q 153.4 64.0, 153.4 65.0 Q 153.4 66.0, 152.9 66.6 Q 152.4 67.2, 151.5 67.2 Q 150.6 67.2, 150.1 66.6 Q 149.5 66.0, 149.5 65.0 M 151.5 66.7 Q 152.1 66.7, 152.5 66.3 Q 152.8 65.8, 152.8 65.0 Q 152.8 64.2, 152.5 63.7 Q 152.1 63.3, 151.5 63.3 Q 150.8 63.3, 150.5 63.7 Q 150.1 64.2, 150.1 65.0 Q 150.1 65.9, 150.5 66.3 Q 150.8 66.7, 151.5 66.7 \" fill=\"#FF0000\"/>\n",
       "<path class=\"atom-5\" d=\"M 162.2 46.9 Q 162.2 45.9, 162.7 45.3 Q 163.2 44.7, 164.2 44.7 Q 165.1 44.7, 165.6 45.3 Q 166.1 45.9, 166.1 46.9 Q 166.1 47.9, 165.6 48.5 Q 165.1 49.1, 164.2 49.1 Q 163.2 49.1, 162.7 48.5 Q 162.2 47.9, 162.2 46.9 M 164.2 48.6 Q 164.8 48.6, 165.2 48.2 Q 165.5 47.7, 165.5 46.9 Q 165.5 46.1, 165.2 45.6 Q 164.8 45.2, 164.2 45.2 Q 163.5 45.2, 163.2 45.6 Q 162.8 46.0, 162.8 46.9 Q 162.8 47.7, 163.2 48.2 Q 163.5 48.6, 164.2 48.6 \" fill=\"#FF0000\"/>\n",
       "<path class=\"atom-13\" d=\"M 157.8 97.7 Q 157.8 96.7, 158.3 96.1 Q 158.8 95.6, 159.7 95.6 Q 160.7 95.6, 161.2 96.1 Q 161.7 96.7, 161.7 97.7 Q 161.7 98.8, 161.2 99.4 Q 160.7 99.9, 159.7 99.9 Q 158.8 99.9, 158.3 99.4 Q 157.8 98.8, 157.8 97.7 M 159.7 99.5 Q 160.4 99.5, 160.7 99.0 Q 161.1 98.6, 161.1 97.7 Q 161.1 96.9, 160.7 96.5 Q 160.4 96.1, 159.7 96.1 Q 159.1 96.1, 158.7 96.5 Q 158.4 96.9, 158.4 97.7 Q 158.4 98.6, 158.7 99.0 Q 159.1 99.5, 159.7 99.5 \" fill=\"#FF0000\"/>\n",
       "<path class=\"atom-14\" d=\"M 168.1 115.6 L 169.5 117.9 Q 169.7 118.1, 169.9 118.5 Q 170.1 118.9, 170.1 118.9 L 170.1 115.6 L 170.7 115.6 L 170.7 119.9 L 170.1 119.9 L 168.6 117.4 Q 168.4 117.1, 168.3 116.8 Q 168.1 116.5, 168.0 116.4 L 168.0 119.9 L 167.5 119.9 L 167.5 115.6 L 168.1 115.6 \" fill=\"#0000FF\"/>\n",
       "<path class=\"atom-14\" d=\"M 171.2 115.6 L 171.8 115.6 L 171.8 117.4 L 173.9 117.4 L 173.9 115.6 L 174.5 115.6 L 174.5 119.9 L 173.9 119.9 L 173.9 117.9 L 171.8 117.9 L 171.8 119.9 L 171.2 119.9 L 171.2 115.6 \" fill=\"#0000FF\"/>\n",
       "<path class=\"atom-14\" d=\"M 175.0 119.7 Q 175.1 119.5, 175.4 119.3 Q 175.6 119.2, 176.0 119.2 Q 176.4 119.2, 176.6 119.4 Q 176.9 119.6, 176.9 120.0 Q 176.9 120.5, 176.6 120.8 Q 176.2 121.2, 175.6 121.7 L 176.9 121.7 L 176.9 122.0 L 175.0 122.0 L 175.0 121.7 Q 175.5 121.4, 175.9 121.1 Q 176.2 120.8, 176.3 120.6 Q 176.5 120.3, 176.5 120.1 Q 176.5 119.8, 176.3 119.6 Q 176.2 119.5, 176.0 119.5 Q 175.7 119.5, 175.6 119.6 Q 175.4 119.7, 175.3 119.9 L 175.0 119.7 \" fill=\"#0000FF\"/>\n",
       "<path class=\"atom-18\" d=\"M 212.3 108.9 Q 212.3 107.9, 212.8 107.3 Q 213.3 106.7, 214.2 106.7 Q 215.2 106.7, 215.7 107.3 Q 216.2 107.9, 216.2 108.9 Q 216.2 109.9, 215.7 110.5 Q 215.2 111.1, 214.2 111.1 Q 213.3 111.1, 212.8 110.5 Q 212.3 109.9, 212.3 108.9 M 214.2 110.6 Q 214.9 110.6, 215.2 110.2 Q 215.6 109.8, 215.6 108.9 Q 215.6 108.1, 215.2 107.6 Q 214.9 107.2, 214.2 107.2 Q 213.6 107.2, 213.2 107.6 Q 212.9 108.1, 212.9 108.9 Q 212.9 109.8, 213.2 110.2 Q 213.6 110.6, 214.2 110.6 \" fill=\"#FF0000\"/>\n",
       "<path class=\"atom-19\" d=\"M 190.3 107.0 Q 190.3 106.0, 190.8 105.4 Q 191.3 104.8, 192.2 104.8 Q 193.1 104.8, 193.7 105.4 Q 194.2 106.0, 194.2 107.0 Q 194.2 108.0, 193.6 108.6 Q 193.1 109.2, 192.2 109.2 Q 191.3 109.2, 190.8 108.6 Q 190.3 108.0, 190.3 107.0 M 192.2 108.7 Q 192.9 108.7, 193.2 108.3 Q 193.6 107.8, 193.6 107.0 Q 193.6 106.1, 193.2 105.7 Q 192.9 105.3, 192.2 105.3 Q 191.6 105.3, 191.2 105.7 Q 190.9 106.1, 190.9 107.0 Q 190.9 107.8, 191.2 108.3 Q 191.6 108.7, 192.2 108.7 \" fill=\"#FF0000\"/>\n",
       "<path class=\"atom-27\" d=\"M 173.8 41.5 Q 173.8 40.5, 174.3 39.9 Q 174.8 39.3, 175.7 39.3 Q 176.7 39.3, 177.2 39.9 Q 177.7 40.5, 177.7 41.5 Q 177.7 42.5, 177.2 43.1 Q 176.7 43.7, 175.7 43.7 Q 174.8 43.7, 174.3 43.1 Q 173.8 42.5, 173.8 41.5 M 175.7 43.2 Q 176.4 43.2, 176.7 42.8 Q 177.1 42.3, 177.1 41.5 Q 177.1 40.7, 176.7 40.2 Q 176.4 39.8, 175.7 39.8 Q 175.1 39.8, 174.7 40.2 Q 174.4 40.7, 174.4 41.5 Q 174.4 42.4, 174.7 42.8 Q 175.1 43.2, 175.7 43.2 \" fill=\"#FF0000\"/>\n",
       "<path class=\"atom-28\" d=\"M 195.8 43.4 Q 195.8 42.4, 196.3 41.8 Q 196.8 41.3, 197.8 41.3 Q 198.7 41.3, 199.2 41.8 Q 199.7 42.4, 199.7 43.4 Q 199.7 44.4, 199.2 45.0 Q 198.7 45.6, 197.8 45.6 Q 196.8 45.6, 196.3 45.0 Q 195.8 44.5, 195.8 43.4 M 197.8 45.1 Q 198.4 45.1, 198.8 44.7 Q 199.1 44.3, 199.1 43.4 Q 199.1 42.6, 198.8 42.2 Q 198.4 41.7, 197.8 41.7 Q 197.1 41.7, 196.8 42.2 Q 196.4 42.6, 196.4 43.4 Q 196.4 44.3, 196.8 44.7 Q 197.1 45.1, 197.8 45.1 \" fill=\"#FF0000\"/>\n",
       "<path class=\"atom-36\" d=\"M 225.2 49.3 Q 225.2 48.2, 225.7 47.7 Q 226.2 47.1, 227.2 47.1 Q 228.1 47.1, 228.6 47.7 Q 229.1 48.2, 229.1 49.3 Q 229.1 50.3, 228.6 50.9 Q 228.1 51.5, 227.2 51.5 Q 226.2 51.5, 225.7 50.9 Q 225.2 50.3, 225.2 49.3 M 227.2 51.0 Q 227.8 51.0, 228.2 50.6 Q 228.5 50.1, 228.5 49.3 Q 228.5 48.4, 228.2 48.0 Q 227.8 47.6, 227.2 47.6 Q 226.5 47.6, 226.2 48.0 Q 225.8 48.4, 225.8 49.3 Q 225.8 50.1, 226.2 50.6 Q 226.5 51.0, 227.2 51.0 \" fill=\"#FF0000\"/>\n",
       "<path class=\"atom-37\" d=\"M 219.9 30.5 L 221.3 32.7 Q 221.5 33.0, 221.7 33.4 Q 221.9 33.8, 221.9 33.8 L 221.9 30.5 L 222.5 30.5 L 222.5 34.7 L 221.9 34.7 L 220.4 32.3 Q 220.2 32.0, 220.1 31.7 Q 219.9 31.3, 219.8 31.2 L 219.8 34.7 L 219.3 34.7 L 219.3 30.5 L 219.9 30.5 \" fill=\"#0000FF\"/>\n",
       "<path class=\"atom-37\" d=\"M 223.0 30.5 L 223.6 30.5 L 223.6 32.3 L 225.7 32.3 L 225.7 30.5 L 226.3 30.5 L 226.3 34.7 L 225.7 34.7 L 225.7 32.8 L 223.6 32.8 L 223.6 34.7 L 223.0 34.7 L 223.0 30.5 \" fill=\"#0000FF\"/>\n",
       "<path class=\"atom-37\" d=\"M 226.8 34.6 Q 226.9 34.3, 227.2 34.2 Q 227.4 34.0, 227.8 34.0 Q 228.2 34.0, 228.4 34.3 Q 228.7 34.5, 228.7 34.9 Q 228.7 35.3, 228.4 35.7 Q 228.1 36.1, 227.4 36.5 L 228.7 36.5 L 228.7 36.9 L 226.8 36.9 L 226.8 36.6 Q 227.3 36.2, 227.7 35.9 Q 228.0 35.7, 228.1 35.4 Q 228.3 35.2, 228.3 34.9 Q 228.3 34.6, 228.1 34.5 Q 228.0 34.3, 227.8 34.3 Q 227.5 34.3, 227.4 34.4 Q 227.2 34.5, 227.1 34.7 L 226.8 34.6 \" fill=\"#0000FF\"/>\n",
       "<path class=\"atom-41\" d=\"M 236.5 85.4 Q 236.5 84.4, 237.0 83.8 Q 237.5 83.2, 238.5 83.2 Q 239.4 83.2, 239.9 83.8 Q 240.4 84.4, 240.4 85.4 Q 240.4 86.4, 239.9 87.0 Q 239.4 87.6, 238.5 87.6 Q 237.5 87.6, 237.0 87.0 Q 236.5 86.4, 236.5 85.4 M 238.5 87.1 Q 239.1 87.1, 239.5 86.7 Q 239.8 86.2, 239.8 85.4 Q 239.8 84.6, 239.5 84.1 Q 239.1 83.7, 238.5 83.7 Q 237.8 83.7, 237.5 84.1 Q 237.1 84.6, 237.1 85.4 Q 237.1 86.3, 237.5 86.7 Q 237.8 87.1, 238.5 87.1 \" fill=\"#FF0000\"/>\n",
       "<path class=\"atom-42\" d=\"M 224.8 101.4 L 226.2 103.6 Q 226.4 103.8, 226.6 104.2 Q 226.8 104.6, 226.8 104.7 L 226.8 101.4 L 227.4 101.4 L 227.4 105.6 L 226.8 105.6 L 225.3 103.2 Q 225.1 102.9, 225.0 102.5 Q 224.8 102.2, 224.7 102.1 L 224.7 105.6 L 224.2 105.6 L 224.2 101.4 L 224.8 101.4 \" fill=\"#0000FF\"/>\n",
       "<path class=\"atom-42\" d=\"M 227.9 101.4 L 228.5 101.4 L 228.5 103.2 L 230.6 103.2 L 230.6 101.4 L 231.2 101.4 L 231.2 105.6 L 230.6 105.6 L 230.6 103.7 L 228.5 103.7 L 228.5 105.6 L 227.9 105.6 L 227.9 101.4 \" fill=\"#0000FF\"/>\n",
       "<path class=\"atom-42\" d=\"M 231.7 105.5 Q 231.8 105.2, 232.1 105.1 Q 232.3 104.9, 232.7 104.9 Q 233.1 104.9, 233.3 105.1 Q 233.6 105.4, 233.6 105.8 Q 233.6 106.2, 233.3 106.6 Q 233.0 107.0, 232.3 107.4 L 233.6 107.4 L 233.6 107.7 L 231.7 107.7 L 231.7 107.5 Q 232.3 107.1, 232.6 106.8 Q 232.9 106.5, 233.0 106.3 Q 233.2 106.0, 233.2 105.8 Q 233.2 105.5, 233.0 105.4 Q 232.9 105.2, 232.7 105.2 Q 232.4 105.2, 232.3 105.3 Q 232.1 105.4, 232.0 105.6 L 231.7 105.5 \" fill=\"#0000FF\"/>\n",
       "<path class=\"atom-46\" d=\"M 250.3 54.6 Q 250.3 53.6, 250.8 53.0 Q 251.3 52.4, 252.2 52.4 Q 253.2 52.4, 253.7 53.0 Q 254.2 53.6, 254.2 54.6 Q 254.2 55.6, 253.7 56.2 Q 253.2 56.8, 252.2 56.8 Q 251.3 56.8, 250.8 56.2 Q 250.3 55.6, 250.3 54.6 M 252.2 56.3 Q 252.9 56.3, 253.2 55.9 Q 253.6 55.4, 253.6 54.6 Q 253.6 53.7, 253.2 53.3 Q 252.9 52.9, 252.2 52.9 Q 251.6 52.9, 251.2 53.3 Q 250.9 53.7, 250.9 54.6 Q 250.9 55.4, 251.2 55.9 Q 251.6 56.3, 252.2 56.3 \" fill=\"#FF0000\"/>\n",
       "<path class=\"atom-47\" d=\"M 259.6 74.6 Q 259.6 73.6, 260.1 73.0 Q 260.6 72.4, 261.6 72.4 Q 262.5 72.4, 263.0 73.0 Q 263.5 73.6, 263.5 74.6 Q 263.5 75.6, 263.0 76.2 Q 262.5 76.8, 261.6 76.8 Q 260.7 76.8, 260.1 76.2 Q 259.6 75.6, 259.6 74.6 M 261.6 76.3 Q 262.2 76.3, 262.6 75.9 Q 262.9 75.5, 262.9 74.6 Q 262.9 73.8, 262.6 73.4 Q 262.2 72.9, 261.6 72.9 Q 260.9 72.9, 260.6 73.3 Q 260.2 73.8, 260.2 74.6 Q 260.2 75.5, 260.6 75.9 Q 260.9 76.3, 261.6 76.3 \" fill=\"#FF0000\"/>\n",
       "<path class=\"atom-52\" d=\"M 229.2 55.0 L 229.8 55.0 L 229.8 56.8 L 231.9 56.8 L 231.9 55.0 L 232.5 55.0 L 232.5 59.3 L 231.9 59.3 L 231.9 57.3 L 229.8 57.3 L 229.8 59.3 L 229.2 59.3 L 229.2 55.0 \" fill=\"#000000\"/>\n",
       "<path class=\"atom-0\" d=\"M 158.6,85.0 L 158.6,85.0 L 158.6,85.1 L 158.6,85.1 L 158.6,85.1 L 158.6,85.1 L 158.5,85.2 L 158.5,85.2 L 158.5,85.2 L 158.5,85.2 L 158.5,85.2 L 158.5,85.3 L 158.4,85.3 L 158.4,85.3 L 158.4,85.3 L 158.4,85.3 L 158.3,85.3 L 158.3,85.3 L 158.3,85.3 L 158.3,85.3 L 158.2,85.3 L 158.2,85.3 L 158.2,85.3 L 158.2,85.3 L 158.1,85.3 L 158.1,85.3 L 158.1,85.3 L 158.1,85.2 L 158.1,85.2 L 158.0,85.2 L 158.0,85.2 L 158.0,85.2 L 158.0,85.1 L 158.0,85.1 L 158.0,85.1 L 158.0,85.1 L 158.0,85.0 L 158.0,85.0 L 158.0,85.0 L 158.0,85.0 L 158.0,84.9 L 158.0,84.9 L 158.0,84.9 L 158.0,84.9 L 158.0,84.8 L 158.1,84.8 L 158.1,84.8 L 158.1,84.8 L 158.1,84.8 L 158.1,84.8 L 158.2,84.7 L 158.2,84.7 L 158.2,84.7 L 158.2,84.7 L 158.3,84.7 L 158.3,84.7 L 158.3,84.7 L 158.3,84.7 L 158.4,84.7 L 158.4,84.7 L 158.4,84.7 L 158.4,84.8 L 158.5,84.8 L 158.5,84.8 L 158.5,84.8 L 158.5,84.8 L 158.5,84.8 L 158.5,84.9 L 158.6,84.9 L 158.6,84.9 L 158.6,84.9 L 158.6,85.0 L 158.6,85.0 L 158.6,85.0 L 158.3,85.0 Z\" style=\"fill:#000000;fill-rule:evenodd;fill-opacity:1;stroke:#000000;stroke-width:0.0px;stroke-linecap:butt;stroke-linejoin:miter;stroke-opacity:1;\"/>\n",
       "<path class=\"atom-52\" d=\"M 233.7,57.2 L 233.7,57.2 L 233.7,57.2 L 233.7,57.2 L 233.7,57.3 L 233.7,57.3 L 233.7,57.3 L 233.7,57.3 L 233.7,57.4 L 233.6,57.4 L 233.6,57.4 L 233.6,57.4 L 233.6,57.4 L 233.5,57.4 L 233.5,57.4 L 233.5,57.5 L 233.5,57.5 L 233.5,57.5 L 233.4,57.5 L 233.4,57.5 L 233.4,57.5 L 233.3,57.5 L 233.3,57.5 L 233.3,57.4 L 233.3,57.4 L 233.3,57.4 L 233.2,57.4 L 233.2,57.4 L 233.2,57.4 L 233.2,57.3 L 233.2,57.3 L 233.2,57.3 L 233.1,57.3 L 233.1,57.3 L 233.1,57.2 L 233.1,57.2 L 233.1,57.2 L 233.1,57.2 L 233.1,57.1 L 233.1,57.1 L 233.1,57.1 L 233.1,57.1 L 233.2,57.0 L 233.2,57.0 L 233.2,57.0 L 233.2,57.0 L 233.2,56.9 L 233.2,56.9 L 233.3,56.9 L 233.3,56.9 L 233.3,56.9 L 233.3,56.9 L 233.3,56.9 L 233.4,56.9 L 233.4,56.9 L 233.4,56.9 L 233.5,56.9 L 233.5,56.9 L 233.5,56.9 L 233.5,56.9 L 233.5,56.9 L 233.6,56.9 L 233.6,56.9 L 233.6,56.9 L 233.6,57.0 L 233.7,57.0 L 233.7,57.0 L 233.7,57.0 L 233.7,57.0 L 233.7,57.1 L 233.7,57.1 L 233.7,57.1 L 233.7,57.1 L 233.7,57.2 L 233.4,57.2 Z\" style=\"fill:#000000;fill-rule:evenodd;fill-opacity:1;stroke:#000000;stroke-width:0.0px;stroke-linecap:butt;stroke-linejoin:miter;stroke-opacity:1;\"/>\n",
       "</svg>"
      ],
      "text/plain": [
       "<IPython.core.display.SVG object>"
      ]
     },
     "execution_count": 41,
     "metadata": {},
     "output_type": "execute_result"
    }
   ],
   "source": [
    "big_smiles_gen(big)"
   ]
  },
  {
   "cell_type": "code",
   "execution_count": 42,
   "id": "51286716",
   "metadata": {},
   "outputs": [
    {
     "data": {
      "image/svg+xml": [
       "<svg xmlns=\"http://www.w3.org/2000/svg\" xmlns:rdkit=\"http://www.rdkit.org/xml\" xmlns:xlink=\"http://www.w3.org/1999/xlink\" version=\"1.1\" baseProfile=\"full\" xml:space=\"preserve\" width=\"450px\" height=\"150px\" viewBox=\"0 0 450 150\">\n",
       "<!-- END OF HEADER -->\n",
       "<rect style=\"opacity:1.0;fill:#FFFFFF;stroke:none\" width=\"450.0\" height=\"150.0\" x=\"0.0\" y=\"0.0\"> </rect>\n",
       "<path class=\"bond-0 atom-1 atom-2\" d=\"M 223.2,127.3 L 233.7,117.9\" style=\"fill:none;fill-rule:evenodd;stroke:#000000;stroke-width:2.0px;stroke-linecap:butt;stroke-linejoin:miter;stroke-opacity:1\"/>\n",
       "<path class=\"bond-1 atom-2 atom-3\" d=\"M 233.7,117.9 L 247.1,122.3\" style=\"fill:none;fill-rule:evenodd;stroke:#000000;stroke-width:2.0px;stroke-linecap:butt;stroke-linejoin:miter;stroke-opacity:1\"/>\n",
       "<path class=\"bond-2 atom-3 atom-4\" d=\"M 248.5,122.0 L 249.7,127.6\" style=\"fill:none;fill-rule:evenodd;stroke:#000000;stroke-width:2.0px;stroke-linecap:butt;stroke-linejoin:miter;stroke-opacity:1\"/>\n",
       "<path class=\"bond-2 atom-3 atom-4\" d=\"M 249.7,127.6 L 250.9,133.2\" style=\"fill:none;fill-rule:evenodd;stroke:#FF0000;stroke-width:2.0px;stroke-linecap:butt;stroke-linejoin:miter;stroke-opacity:1\"/>\n",
       "<path class=\"bond-2 atom-3 atom-4\" d=\"M 245.7,122.6 L 246.9,128.2\" style=\"fill:none;fill-rule:evenodd;stroke:#000000;stroke-width:2.0px;stroke-linecap:butt;stroke-linejoin:miter;stroke-opacity:1\"/>\n",
       "<path class=\"bond-2 atom-3 atom-4\" d=\"M 246.9,128.2 L 248.1,133.8\" style=\"fill:none;fill-rule:evenodd;stroke:#FF0000;stroke-width:2.0px;stroke-linecap:butt;stroke-linejoin:miter;stroke-opacity:1\"/>\n",
       "<path class=\"bond-3 atom-3 atom-5\" d=\"M 247.1,122.3 L 251.2,118.6\" style=\"fill:none;fill-rule:evenodd;stroke:#000000;stroke-width:2.0px;stroke-linecap:butt;stroke-linejoin:miter;stroke-opacity:1\"/>\n",
       "<path class=\"bond-3 atom-3 atom-5\" d=\"M 251.2,118.6 L 255.2,115.0\" style=\"fill:none;fill-rule:evenodd;stroke:#FF0000;stroke-width:2.0px;stroke-linecap:butt;stroke-linejoin:miter;stroke-opacity:1\"/>\n",
       "<path class=\"bond-4 atom-5 atom-6\" d=\"M 260.0,113.6 L 265.5,115.4\" style=\"fill:none;fill-rule:evenodd;stroke:#FF0000;stroke-width:2.0px;stroke-linecap:butt;stroke-linejoin:miter;stroke-opacity:1\"/>\n",
       "<path class=\"bond-4 atom-5 atom-6\" d=\"M 265.5,115.4 L 271.0,117.2\" style=\"fill:none;fill-rule:evenodd;stroke:#000000;stroke-width:2.0px;stroke-linecap:butt;stroke-linejoin:miter;stroke-opacity:1\"/>\n",
       "<path class=\"bond-5 atom-6 atom-7\" d=\"M 271.0,117.2 L 281.6,107.8\" style=\"fill:none;fill-rule:evenodd;stroke:#000000;stroke-width:2.0px;stroke-linecap:butt;stroke-linejoin:miter;stroke-opacity:1\"/>\n",
       "<path class=\"bond-6 atom-7 atom-8\" d=\"M 281.6,107.8 L 295.0,112.2\" style=\"fill:none;fill-rule:evenodd;stroke:#000000;stroke-width:2.0px;stroke-linecap:butt;stroke-linejoin:miter;stroke-opacity:1\"/>\n",
       "<path class=\"bond-7 atom-8 atom-9\" d=\"M 295.0,112.2 L 305.5,102.8\" style=\"fill:none;fill-rule:evenodd;stroke:#000000;stroke-width:2.0px;stroke-linecap:butt;stroke-linejoin:miter;stroke-opacity:1\"/>\n",
       "<path class=\"bond-8 atom-0 atom-1\" d=\"M 225.6,138.5 L 223.2,127.3\" style=\"fill:none;fill-rule:evenodd;stroke:#000000;stroke-width:2.0px;stroke-linecap:butt;stroke-linejoin:miter;stroke-opacity:1\"/>\n",
       "<path class=\"bond-9 atom-10 atom-11\" d=\"M 209.8,122.9 L 199.3,132.3\" style=\"fill:none;fill-rule:evenodd;stroke:#000000;stroke-width:2.0px;stroke-linecap:butt;stroke-linejoin:miter;stroke-opacity:1\"/>\n",
       "<path class=\"bond-10 atom-11 atom-12\" d=\"M 199.3,132.3 L 185.9,127.9\" style=\"fill:none;fill-rule:evenodd;stroke:#000000;stroke-width:2.0px;stroke-linecap:butt;stroke-linejoin:miter;stroke-opacity:1\"/>\n",
       "<path class=\"bond-11 atom-12 atom-13\" d=\"M 186.8,129.0 L 182.8,132.6\" style=\"fill:none;fill-rule:evenodd;stroke:#000000;stroke-width:2.0px;stroke-linecap:butt;stroke-linejoin:miter;stroke-opacity:1\"/>\n",
       "<path class=\"bond-11 atom-12 atom-13\" d=\"M 182.8,132.6 L 178.7,136.3\" style=\"fill:none;fill-rule:evenodd;stroke:#FF0000;stroke-width:2.0px;stroke-linecap:butt;stroke-linejoin:miter;stroke-opacity:1\"/>\n",
       "<path class=\"bond-11 atom-12 atom-13\" d=\"M 184.9,126.9 L 180.9,130.5\" style=\"fill:none;fill-rule:evenodd;stroke:#000000;stroke-width:2.0px;stroke-linecap:butt;stroke-linejoin:miter;stroke-opacity:1\"/>\n",
       "<path class=\"bond-11 atom-12 atom-13\" d=\"M 180.9,130.5 L 176.8,134.2\" style=\"fill:none;fill-rule:evenodd;stroke:#FF0000;stroke-width:2.0px;stroke-linecap:butt;stroke-linejoin:miter;stroke-opacity:1\"/>\n",
       "<path class=\"bond-12 atom-12 atom-14\" d=\"M 185.9,127.9 L 184.7,122.4\" style=\"fill:none;fill-rule:evenodd;stroke:#000000;stroke-width:2.0px;stroke-linecap:butt;stroke-linejoin:miter;stroke-opacity:1\"/>\n",
       "<path class=\"bond-12 atom-12 atom-14\" d=\"M 184.7,122.4 L 183.5,116.8\" style=\"fill:none;fill-rule:evenodd;stroke:#FF0000;stroke-width:2.0px;stroke-linecap:butt;stroke-linejoin:miter;stroke-opacity:1\"/>\n",
       "<path class=\"bond-13 atom-14 atom-15\" d=\"M 180.6,113.3 L 175.1,111.5\" style=\"fill:none;fill-rule:evenodd;stroke:#FF0000;stroke-width:2.0px;stroke-linecap:butt;stroke-linejoin:miter;stroke-opacity:1\"/>\n",
       "<path class=\"bond-13 atom-14 atom-15\" d=\"M 175.1,111.5 L 169.5,109.7\" style=\"fill:none;fill-rule:evenodd;stroke:#000000;stroke-width:2.0px;stroke-linecap:butt;stroke-linejoin:miter;stroke-opacity:1\"/>\n",
       "<path class=\"bond-14 atom-15 atom-16\" d=\"M 169.5,109.7 L 166.6,95.9\" style=\"fill:none;fill-rule:evenodd;stroke:#000000;stroke-width:2.0px;stroke-linecap:butt;stroke-linejoin:miter;stroke-opacity:1\"/>\n",
       "<path class=\"bond-15 atom-16 atom-17\" d=\"M 166.6,95.9 L 153.2,91.5\" style=\"fill:none;fill-rule:evenodd;stroke:#000000;stroke-width:2.0px;stroke-linecap:butt;stroke-linejoin:miter;stroke-opacity:1\"/>\n",
       "<path class=\"bond-16 atom-17 atom-18\" d=\"M 153.2,91.5 L 150.3,77.7\" style=\"fill:none;fill-rule:evenodd;stroke:#000000;stroke-width:2.0px;stroke-linecap:butt;stroke-linejoin:miter;stroke-opacity:1\"/>\n",
       "<path class=\"bond-17 atom-1 atom-10\" d=\"M 223.2,127.3 L 209.8,122.9\" style=\"fill:none;fill-rule:evenodd;stroke:#000000;stroke-width:2.0px;stroke-linecap:butt;stroke-linejoin:miter;stroke-opacity:1\"/>\n",
       "<path class=\"bond-18 atom-19 atom-20\" d=\"M 206.9,109.1 L 193.5,104.7\" style=\"fill:none;fill-rule:evenodd;stroke:#000000;stroke-width:2.0px;stroke-linecap:butt;stroke-linejoin:miter;stroke-opacity:1\"/>\n",
       "<path class=\"bond-19 atom-20 atom-21\" d=\"M 193.5,104.7 L 190.6,90.9\" style=\"fill:none;fill-rule:evenodd;stroke:#000000;stroke-width:2.0px;stroke-linecap:butt;stroke-linejoin:miter;stroke-opacity:1\"/>\n",
       "<path class=\"bond-20 atom-21 atom-22\" d=\"M 189.5,90.0 L 191.4,87.8\" style=\"fill:none;fill-rule:evenodd;stroke:#000000;stroke-width:2.0px;stroke-linecap:butt;stroke-linejoin:miter;stroke-opacity:1\"/>\n",
       "<path class=\"bond-20 atom-21 atom-22\" d=\"M 191.4,87.8 L 193.3,85.7\" style=\"fill:none;fill-rule:evenodd;stroke:#FF0000;stroke-width:2.0px;stroke-linecap:butt;stroke-linejoin:miter;stroke-opacity:1\"/>\n",
       "<path class=\"bond-20 atom-21 atom-22\" d=\"M 191.6,91.8 L 193.5,89.7\" style=\"fill:none;fill-rule:evenodd;stroke:#000000;stroke-width:2.0px;stroke-linecap:butt;stroke-linejoin:miter;stroke-opacity:1\"/>\n",
       "<path class=\"bond-20 atom-21 atom-22\" d=\"M 193.5,89.7 L 195.4,87.5\" style=\"fill:none;fill-rule:evenodd;stroke:#FF0000;stroke-width:2.0px;stroke-linecap:butt;stroke-linejoin:miter;stroke-opacity:1\"/>\n",
       "<path class=\"bond-21 atom-21 atom-23\" d=\"M 190.6,90.9 L 185.1,89.1\" style=\"fill:none;fill-rule:evenodd;stroke:#000000;stroke-width:2.0px;stroke-linecap:butt;stroke-linejoin:miter;stroke-opacity:1\"/>\n",
       "<path class=\"bond-21 atom-21 atom-23\" d=\"M 185.1,89.1 L 179.6,87.3\" style=\"fill:none;fill-rule:evenodd;stroke:#FF0000;stroke-width:2.0px;stroke-linecap:butt;stroke-linejoin:miter;stroke-opacity:1\"/>\n",
       "<path class=\"bond-22 atom-23 atom-24\" d=\"M 176.6,83.9 L 175.4,78.3\" style=\"fill:none;fill-rule:evenodd;stroke:#FF0000;stroke-width:2.0px;stroke-linecap:butt;stroke-linejoin:miter;stroke-opacity:1\"/>\n",
       "<path class=\"bond-22 atom-23 atom-24\" d=\"M 175.4,78.3 L 174.3,72.7\" style=\"fill:none;fill-rule:evenodd;stroke:#000000;stroke-width:2.0px;stroke-linecap:butt;stroke-linejoin:miter;stroke-opacity:1\"/>\n",
       "<path class=\"bond-23 atom-24 atom-25\" d=\"M 174.3,72.7 L 160.8,68.3\" style=\"fill:none;fill-rule:evenodd;stroke:#000000;stroke-width:2.0px;stroke-linecap:butt;stroke-linejoin:miter;stroke-opacity:1\"/>\n",
       "<path class=\"bond-24 atom-25 atom-26\" d=\"M 160.8,68.3 L 157.9,54.5\" style=\"fill:none;fill-rule:evenodd;stroke:#000000;stroke-width:2.0px;stroke-linecap:butt;stroke-linejoin:miter;stroke-opacity:1\"/>\n",
       "<path class=\"bond-25 atom-26 atom-27\" d=\"M 157.9,54.5 L 144.5,50.1\" style=\"fill:none;fill-rule:evenodd;stroke:#000000;stroke-width:2.0px;stroke-linecap:butt;stroke-linejoin:miter;stroke-opacity:1\"/>\n",
       "<path class=\"bond-26 atom-10 atom-19\" d=\"M 209.8,122.9 L 206.9,109.1\" style=\"fill:none;fill-rule:evenodd;stroke:#000000;stroke-width:2.0px;stroke-linecap:butt;stroke-linejoin:miter;stroke-opacity:1\"/>\n",
       "<path class=\"bond-27 atom-28 atom-29\" d=\"M 217.4,99.7 L 230.8,104.1\" style=\"fill:none;fill-rule:evenodd;stroke:#000000;stroke-width:2.0px;stroke-linecap:butt;stroke-linejoin:miter;stroke-opacity:1\"/>\n",
       "<path class=\"bond-28 atom-29 atom-30\" d=\"M 230.8,104.1 L 241.3,94.7\" style=\"fill:none;fill-rule:evenodd;stroke:#000000;stroke-width:2.0px;stroke-linecap:butt;stroke-linejoin:miter;stroke-opacity:1\"/>\n",
       "<path class=\"bond-29 atom-30 atom-31\" d=\"M 241.8,93.3 L 247.3,95.1\" style=\"fill:none;fill-rule:evenodd;stroke:#000000;stroke-width:2.0px;stroke-linecap:butt;stroke-linejoin:miter;stroke-opacity:1\"/>\n",
       "<path class=\"bond-29 atom-30 atom-31\" d=\"M 247.3,95.1 L 252.8,96.9\" style=\"fill:none;fill-rule:evenodd;stroke:#FF0000;stroke-width:2.0px;stroke-linecap:butt;stroke-linejoin:miter;stroke-opacity:1\"/>\n",
       "<path class=\"bond-29 atom-30 atom-31\" d=\"M 240.9,96.0 L 246.4,97.8\" style=\"fill:none;fill-rule:evenodd;stroke:#000000;stroke-width:2.0px;stroke-linecap:butt;stroke-linejoin:miter;stroke-opacity:1\"/>\n",
       "<path class=\"bond-29 atom-30 atom-31\" d=\"M 246.4,97.8 L 251.9,99.6\" style=\"fill:none;fill-rule:evenodd;stroke:#FF0000;stroke-width:2.0px;stroke-linecap:butt;stroke-linejoin:miter;stroke-opacity:1\"/>\n",
       "<path class=\"bond-30 atom-30 atom-32\" d=\"M 241.3,94.7 L 240.1,89.1\" style=\"fill:none;fill-rule:evenodd;stroke:#000000;stroke-width:2.0px;stroke-linecap:butt;stroke-linejoin:miter;stroke-opacity:1\"/>\n",
       "<path class=\"bond-30 atom-30 atom-32\" d=\"M 240.1,89.1 L 239.0,83.5\" style=\"fill:none;fill-rule:evenodd;stroke:#FF0000;stroke-width:2.0px;stroke-linecap:butt;stroke-linejoin:miter;stroke-opacity:1\"/>\n",
       "<path class=\"bond-31 atom-32 atom-33\" d=\"M 240.8,78.7 L 244.9,75.1\" style=\"fill:none;fill-rule:evenodd;stroke:#FF0000;stroke-width:2.0px;stroke-linecap:butt;stroke-linejoin:miter;stroke-opacity:1\"/>\n",
       "<path class=\"bond-31 atom-32 atom-33\" d=\"M 244.9,75.1 L 248.9,71.4\" style=\"fill:none;fill-rule:evenodd;stroke:#000000;stroke-width:2.0px;stroke-linecap:butt;stroke-linejoin:miter;stroke-opacity:1\"/>\n",
       "<path class=\"bond-32 atom-33 atom-34\" d=\"M 248.9,71.4 L 246.0,57.6\" style=\"fill:none;fill-rule:evenodd;stroke:#000000;stroke-width:2.0px;stroke-linecap:butt;stroke-linejoin:miter;stroke-opacity:1\"/>\n",
       "<path class=\"bond-33 atom-34 atom-35\" d=\"M 246.0,57.6 L 256.5,48.2\" style=\"fill:none;fill-rule:evenodd;stroke:#000000;stroke-width:2.0px;stroke-linecap:butt;stroke-linejoin:miter;stroke-opacity:1\"/>\n",
       "<path class=\"bond-34 atom-35 atom-36\" d=\"M 256.5,48.2 L 253.6,34.4\" style=\"fill:none;fill-rule:evenodd;stroke:#000000;stroke-width:2.0px;stroke-linecap:butt;stroke-linejoin:miter;stroke-opacity:1\"/>\n",
       "<path class=\"bond-35 atom-19 atom-28\" d=\"M 206.9,109.1 L 217.4,99.7\" style=\"fill:none;fill-rule:evenodd;stroke:#000000;stroke-width:2.0px;stroke-linecap:butt;stroke-linejoin:miter;stroke-opacity:1\"/>\n",
       "<path class=\"bond-36 atom-37 atom-38\" d=\"M 214.5,85.9 L 225.0,76.5\" style=\"fill:none;fill-rule:evenodd;stroke:#000000;stroke-width:2.0px;stroke-linecap:butt;stroke-linejoin:miter;stroke-opacity:1\"/>\n",
       "<path class=\"bond-37 atom-38 atom-39\" d=\"M 225.0,76.5 L 222.1,62.6\" style=\"fill:none;fill-rule:evenodd;stroke:#000000;stroke-width:2.0px;stroke-linecap:butt;stroke-linejoin:miter;stroke-opacity:1\"/>\n",
       "<path class=\"bond-38 atom-39 atom-40\" d=\"M 221.7,64.0 L 216.2,62.2\" style=\"fill:none;fill-rule:evenodd;stroke:#000000;stroke-width:2.0px;stroke-linecap:butt;stroke-linejoin:miter;stroke-opacity:1\"/>\n",
       "<path class=\"bond-38 atom-39 atom-40\" d=\"M 216.2,62.2 L 210.7,60.4\" style=\"fill:none;fill-rule:evenodd;stroke:#FF0000;stroke-width:2.0px;stroke-linecap:butt;stroke-linejoin:miter;stroke-opacity:1\"/>\n",
       "<path class=\"bond-38 atom-39 atom-40\" d=\"M 222.5,61.3 L 217.0,59.5\" style=\"fill:none;fill-rule:evenodd;stroke:#000000;stroke-width:2.0px;stroke-linecap:butt;stroke-linejoin:miter;stroke-opacity:1\"/>\n",
       "<path class=\"bond-38 atom-39 atom-40\" d=\"M 217.0,59.5 L 211.5,57.7\" style=\"fill:none;fill-rule:evenodd;stroke:#FF0000;stroke-width:2.0px;stroke-linecap:butt;stroke-linejoin:miter;stroke-opacity:1\"/>\n",
       "<path class=\"bond-39 atom-39 atom-41\" d=\"M 222.1,62.6 L 226.1,59.0\" style=\"fill:none;fill-rule:evenodd;stroke:#000000;stroke-width:2.0px;stroke-linecap:butt;stroke-linejoin:miter;stroke-opacity:1\"/>\n",
       "<path class=\"bond-39 atom-39 atom-41\" d=\"M 226.1,59.0 L 230.2,55.4\" style=\"fill:none;fill-rule:evenodd;stroke:#FF0000;stroke-width:2.0px;stroke-linecap:butt;stroke-linejoin:miter;stroke-opacity:1\"/>\n",
       "<path class=\"bond-40 atom-41 atom-42\" d=\"M 232.1,50.6 L 230.9,45.0\" style=\"fill:none;fill-rule:evenodd;stroke:#FF0000;stroke-width:2.0px;stroke-linecap:butt;stroke-linejoin:miter;stroke-opacity:1\"/>\n",
       "<path class=\"bond-40 atom-41 atom-42\" d=\"M 230.9,45.0 L 229.7,39.4\" style=\"fill:none;fill-rule:evenodd;stroke:#000000;stroke-width:2.0px;stroke-linecap:butt;stroke-linejoin:miter;stroke-opacity:1\"/>\n",
       "<path class=\"bond-41 atom-42 atom-43\" d=\"M 229.7,39.4 L 240.2,30.0\" style=\"fill:none;fill-rule:evenodd;stroke:#000000;stroke-width:2.0px;stroke-linecap:butt;stroke-linejoin:miter;stroke-opacity:1\"/>\n",
       "<path class=\"bond-42 atom-43 atom-44\" d=\"M 240.2,30.0 L 237.3,16.2\" style=\"fill:none;fill-rule:evenodd;stroke:#000000;stroke-width:2.0px;stroke-linecap:butt;stroke-linejoin:miter;stroke-opacity:1\"/>\n",
       "<path class=\"bond-43 atom-44 atom-45\" d=\"M 237.3,16.2 L 247.8,6.8\" style=\"fill:none;fill-rule:evenodd;stroke:#000000;stroke-width:2.0px;stroke-linecap:butt;stroke-linejoin:miter;stroke-opacity:1\"/>\n",
       "<path class=\"bond-44 atom-28 atom-37\" d=\"M 217.4,99.7 L 214.5,85.9\" style=\"fill:none;fill-rule:evenodd;stroke:#000000;stroke-width:2.0px;stroke-linecap:butt;stroke-linejoin:miter;stroke-opacity:1\"/>\n",
       "<path class=\"bond-45 atom-37 atom-46\" d=\"M 214.5,85.9 L 208.2,82.9\" style=\"fill:none;fill-rule:evenodd;stroke:#000000;stroke-width:2.0px;stroke-linecap:butt;stroke-linejoin:miter;stroke-opacity:1\"/>\n",
       "<path class=\"atom-0\" d=\"M 224.4 139.0 L 225.0 139.0 L 225.0 140.8 L 227.2 140.8 L 227.2 139.0 L 227.8 139.0 L 227.8 143.2 L 227.2 143.2 L 227.2 141.3 L 225.0 141.3 L 225.0 143.2 L 224.4 143.2 L 224.4 139.0 \" fill=\"#000000\"/>\n",
       "<path class=\"atom-4\" d=\"M 248.1 136.1 Q 248.1 135.1, 248.6 134.5 Q 249.1 133.9, 250.0 133.9 Q 251.0 133.9, 251.5 134.5 Q 252.0 135.1, 252.0 136.1 Q 252.0 137.1, 251.5 137.7 Q 251.0 138.3, 250.0 138.3 Q 249.1 138.3, 248.6 137.7 Q 248.1 137.1, 248.1 136.1 M 250.0 137.8 Q 250.7 137.8, 251.0 137.4 Q 251.4 137.0, 251.4 136.1 Q 251.4 135.3, 251.0 134.8 Q 250.7 134.4, 250.0 134.4 Q 249.4 134.4, 249.0 134.8 Q 248.7 135.3, 248.7 136.1 Q 248.7 137.0, 249.0 137.4 Q 249.4 137.8, 250.0 137.8 \" fill=\"#FF0000\"/>\n",
       "<path class=\"atom-5\" d=\"M 255.7 112.9 Q 255.7 111.9, 256.2 111.3 Q 256.7 110.7, 257.6 110.7 Q 258.6 110.7, 259.1 111.3 Q 259.6 111.9, 259.6 112.9 Q 259.6 113.9, 259.1 114.5 Q 258.6 115.1, 257.6 115.1 Q 256.7 115.1, 256.2 114.5 Q 255.7 113.9, 255.7 112.9 M 257.6 114.6 Q 258.3 114.6, 258.6 114.2 Q 259.0 113.7, 259.0 112.9 Q 259.0 112.0, 258.6 111.6 Q 258.3 111.2, 257.6 111.2 Q 257.0 111.2, 256.6 111.6 Q 256.3 112.0, 256.3 112.9 Q 256.3 113.7, 256.6 114.2 Q 257.0 114.6, 257.6 114.6 \" fill=\"#FF0000\"/>\n",
       "<path class=\"atom-13\" d=\"M 173.4 137.4 Q 173.4 136.4, 173.9 135.8 Q 174.4 135.2, 175.4 135.2 Q 176.3 135.2, 176.8 135.8 Q 177.3 136.4, 177.3 137.4 Q 177.3 138.4, 176.8 139.0 Q 176.3 139.6, 175.4 139.6 Q 174.4 139.6, 173.9 139.0 Q 173.4 138.4, 173.4 137.4 M 175.4 139.1 Q 176.0 139.1, 176.4 138.7 Q 176.7 138.2, 176.7 137.4 Q 176.7 136.5, 176.4 136.1 Q 176.0 135.7, 175.4 135.7 Q 174.7 135.7, 174.4 136.1 Q 174.0 136.5, 174.0 137.4 Q 174.0 138.2, 174.4 138.7 Q 174.7 139.1, 175.4 139.1 \" fill=\"#FF0000\"/>\n",
       "<path class=\"atom-14\" d=\"M 181.0 114.1 Q 181.0 113.1, 181.5 112.6 Q 182.0 112.0, 183.0 112.0 Q 183.9 112.0, 184.4 112.6 Q 184.9 113.1, 184.9 114.1 Q 184.9 115.2, 184.4 115.8 Q 183.9 116.3, 183.0 116.3 Q 182.0 116.3, 181.5 115.8 Q 181.0 115.2, 181.0 114.1 M 183.0 115.9 Q 183.6 115.9, 184.0 115.4 Q 184.3 115.0, 184.3 114.1 Q 184.3 113.3, 184.0 112.9 Q 183.6 112.5, 183.0 112.5 Q 182.3 112.5, 182.0 112.9 Q 181.6 113.3, 181.6 114.1 Q 181.6 115.0, 182.0 115.4 Q 182.3 115.9, 183.0 115.9 \" fill=\"#FF0000\"/>\n",
       "<path class=\"atom-22\" d=\"M 194.7 83.9 Q 194.7 82.9, 195.2 82.3 Q 195.7 81.8, 196.7 81.8 Q 197.6 81.8, 198.1 82.3 Q 198.6 82.9, 198.6 83.9 Q 198.6 85.0, 198.1 85.6 Q 197.6 86.1, 196.7 86.1 Q 195.7 86.1, 195.2 85.6 Q 194.7 85.0, 194.7 83.9 M 196.7 85.7 Q 197.3 85.7, 197.7 85.2 Q 198.0 84.8, 198.0 83.9 Q 198.0 83.1, 197.7 82.7 Q 197.3 82.3, 196.7 82.3 Q 196.0 82.3, 195.7 82.7 Q 195.3 83.1, 195.3 83.9 Q 195.3 84.8, 195.7 85.2 Q 196.0 85.7, 196.7 85.7 \" fill=\"#FF0000\"/>\n",
       "<path class=\"atom-23\" d=\"M 175.2 86.5 Q 175.2 85.5, 175.7 84.9 Q 176.2 84.4, 177.2 84.4 Q 178.1 84.4, 178.6 84.9 Q 179.1 85.5, 179.1 86.5 Q 179.1 87.6, 178.6 88.1 Q 178.1 88.7, 177.2 88.7 Q 176.2 88.7, 175.7 88.1 Q 175.2 87.6, 175.2 86.5 M 177.2 88.2 Q 177.8 88.2, 178.2 87.8 Q 178.5 87.4, 178.5 86.5 Q 178.5 85.7, 178.2 85.3 Q 177.8 84.8, 177.2 84.8 Q 176.5 84.8, 176.2 85.3 Q 175.8 85.7, 175.8 86.5 Q 175.8 87.4, 176.2 87.8 Q 176.5 88.2, 177.2 88.2 \" fill=\"#FF0000\"/>\n",
       "<path class=\"atom-31\" d=\"M 252.8 99.1 Q 252.8 98.0, 253.3 97.5 Q 253.8 96.9, 254.7 96.9 Q 255.7 96.9, 256.2 97.5 Q 256.7 98.0, 256.7 99.1 Q 256.7 100.1, 256.2 100.7 Q 255.7 101.3, 254.7 101.3 Q 253.8 101.3, 253.3 100.7 Q 252.8 100.1, 252.8 99.1 M 254.7 100.8 Q 255.4 100.8, 255.7 100.3 Q 256.1 99.9, 256.1 99.1 Q 256.1 98.2, 255.7 97.8 Q 255.4 97.4, 254.7 97.4 Q 254.1 97.4, 253.7 97.8 Q 253.4 98.2, 253.4 99.1 Q 253.4 99.9, 253.7 100.3 Q 254.1 100.8, 254.7 100.8 \" fill=\"#FF0000\"/>\n",
       "<path class=\"atom-32\" d=\"M 236.5 80.9 Q 236.5 79.8, 237.0 79.3 Q 237.5 78.7, 238.4 78.7 Q 239.4 78.7, 239.9 79.3 Q 240.4 79.8, 240.4 80.9 Q 240.4 81.9, 239.9 82.5 Q 239.3 83.1, 238.4 83.1 Q 237.5 83.1, 237.0 82.5 Q 236.5 81.9, 236.5 80.9 M 238.4 82.6 Q 239.1 82.6, 239.4 82.1 Q 239.8 81.7, 239.8 80.9 Q 239.8 80.0, 239.4 79.6 Q 239.1 79.2, 238.4 79.2 Q 237.8 79.2, 237.4 79.6 Q 237.1 80.0, 237.1 80.9 Q 237.1 81.7, 237.4 82.1 Q 237.8 82.6, 238.4 82.6 \" fill=\"#FF0000\"/>\n",
       "<path class=\"atom-40\" d=\"M 206.7 58.3 Q 206.7 57.2, 207.2 56.7 Q 207.7 56.1, 208.7 56.1 Q 209.6 56.1, 210.1 56.7 Q 210.6 57.2, 210.6 58.3 Q 210.6 59.3, 210.1 59.9 Q 209.6 60.5, 208.7 60.5 Q 207.7 60.5, 207.2 59.9 Q 206.7 59.3, 206.7 58.3 M 208.7 60.0 Q 209.3 60.0, 209.7 59.6 Q 210.0 59.1, 210.0 58.3 Q 210.0 57.4, 209.7 57.0 Q 209.3 56.6, 208.7 56.6 Q 208.0 56.6, 207.7 57.0 Q 207.3 57.4, 207.3 58.3 Q 207.3 59.1, 207.7 59.6 Q 208.0 60.0, 208.7 60.0 \" fill=\"#FF0000\"/>\n",
       "<path class=\"atom-41\" d=\"M 230.7 53.2 Q 230.7 52.2, 231.2 51.6 Q 231.7 51.1, 232.6 51.1 Q 233.5 51.1, 234.1 51.6 Q 234.6 52.2, 234.6 53.2 Q 234.6 54.3, 234.0 54.9 Q 233.5 55.4, 232.6 55.4 Q 231.7 55.4, 231.2 54.9 Q 230.7 54.3, 230.7 53.2 M 232.6 55.0 Q 233.3 55.0, 233.6 54.5 Q 234.0 54.1, 234.0 53.2 Q 234.0 52.4, 233.6 52.0 Q 233.3 51.6, 232.6 51.6 Q 232.0 51.6, 231.6 52.0 Q 231.3 52.4, 231.3 53.2 Q 231.3 54.1, 231.6 54.5 Q 232.0 55.0, 232.6 55.0 \" fill=\"#FF0000\"/>\n",
       "<path class=\"atom-46\" d=\"M 204.4 79.8 L 205.0 79.8 L 205.0 81.6 L 207.2 81.6 L 207.2 79.8 L 207.8 79.8 L 207.8 84.1 L 207.2 84.1 L 207.2 82.1 L 205.0 82.1 L 205.0 84.1 L 204.4 84.1 L 204.4 79.8 \" fill=\"#000000\"/>\n",
       "<path class=\"atom-0\" d=\"M 229.0,141.1 L 229.0,141.1 L 229.0,141.2 L 229.0,141.2 L 229.0,141.2 L 228.9,141.2 L 228.9,141.3 L 228.9,141.3 L 228.9,141.3 L 228.9,141.3 L 228.9,141.3 L 228.8,141.4 L 228.8,141.4 L 228.8,141.4 L 228.8,141.4 L 228.8,141.4 L 228.7,141.4 L 228.7,141.4 L 228.7,141.4 L 228.6,141.4 L 228.6,141.4 L 228.6,141.4 L 228.6,141.4 L 228.5,141.4 L 228.5,141.4 L 228.5,141.4 L 228.5,141.4 L 228.5,141.3 L 228.4,141.3 L 228.4,141.3 L 228.4,141.3 L 228.4,141.3 L 228.4,141.2 L 228.4,141.2 L 228.4,141.2 L 228.4,141.2 L 228.4,141.1 L 228.4,141.1 L 228.4,141.1 L 228.4,141.1 L 228.4,141.0 L 228.4,141.0 L 228.4,141.0 L 228.4,141.0 L 228.4,140.9 L 228.4,140.9 L 228.5,140.9 L 228.5,140.9 L 228.5,140.9 L 228.5,140.9 L 228.5,140.8 L 228.6,140.8 L 228.6,140.8 L 228.6,140.8 L 228.6,140.8 L 228.7,140.8 L 228.7,140.8 L 228.7,140.8 L 228.8,140.8 L 228.8,140.8 L 228.8,140.9 L 228.8,140.9 L 228.8,140.9 L 228.9,140.9 L 228.9,140.9 L 228.9,140.9 L 228.9,141.0 L 228.9,141.0 L 228.9,141.0 L 229.0,141.0 L 229.0,141.0 L 229.0,141.1 L 229.0,141.1 L 229.0,141.1 L 228.7,141.1 Z\" style=\"fill:#000000;fill-rule:evenodd;fill-opacity:1;stroke:#000000;stroke-width:0.0px;stroke-linecap:butt;stroke-linejoin:miter;stroke-opacity:1;\"/>\n",
       "<path class=\"atom-46\" d=\"M 203.8,81.9 L 203.8,82.0 L 203.8,82.0 L 203.8,82.0 L 203.8,82.0 L 203.8,82.1 L 203.8,82.1 L 203.8,82.1 L 203.8,82.1 L 203.8,82.2 L 203.7,82.2 L 203.7,82.2 L 203.7,82.2 L 203.7,82.2 L 203.7,82.2 L 203.6,82.2 L 203.6,82.2 L 203.6,82.2 L 203.6,82.2 L 203.5,82.2 L 203.5,82.2 L 203.5,82.2 L 203.4,82.2 L 203.4,82.2 L 203.4,82.2 L 203.4,82.2 L 203.4,82.2 L 203.3,82.2 L 203.3,82.1 L 203.3,82.1 L 203.3,82.1 L 203.3,82.1 L 203.3,82.1 L 203.3,82.0 L 203.3,82.0 L 203.2,82.0 L 203.2,82.0 L 203.2,81.9 L 203.2,81.9 L 203.3,81.9 L 203.3,81.9 L 203.3,81.8 L 203.3,81.8 L 203.3,81.8 L 203.3,81.8 L 203.3,81.7 L 203.3,81.7 L 203.4,81.7 L 203.4,81.7 L 203.4,81.7 L 203.4,81.7 L 203.4,81.7 L 203.5,81.6 L 203.5,81.6 L 203.5,81.6 L 203.6,81.6 L 203.6,81.6 L 203.6,81.6 L 203.6,81.7 L 203.7,81.7 L 203.7,81.7 L 203.7,81.7 L 203.7,81.7 L 203.7,81.7 L 203.8,81.7 L 203.8,81.8 L 203.8,81.8 L 203.8,81.8 L 203.8,81.8 L 203.8,81.8 L 203.8,81.9 L 203.8,81.9 L 203.8,81.9 L 203.8,81.9 L 203.5,81.9 Z\" style=\"fill:#000000;fill-rule:evenodd;fill-opacity:1;stroke:#000000;stroke-width:0.0px;stroke-linecap:butt;stroke-linejoin:miter;stroke-opacity:1;\"/>\n",
       "</svg>"
      ],
      "text/plain": [
       "<IPython.core.display.SVG object>"
      ]
     },
     "execution_count": 42,
     "metadata": {},
     "output_type": "execute_result"
    }
   ],
   "source": [
    "big_smiles_gen(big)"
   ]
  },
  {
   "cell_type": "code",
   "execution_count": 43,
   "id": "99e69515",
   "metadata": {},
   "outputs": [
    {
     "data": {
      "image/png": "[encoded data removed]",
      "text/plain": [
       "<Figure size 432x288 with 1 Axes>"
      ]
     },
     "metadata": {},
     "output_type": "display_data"
    }
   ],
   "source": [
    "big_smiles_graph(big)"
   ]
  },
  {
   "cell_type": "code",
   "execution_count": 44,
   "id": "457964a7",
   "metadata": {},
   "outputs": [
    {
     "data": {
      "image/png": "[encoded data removed]",
      "text/plain": [
       "<Figure size 432x288 with 1 Axes>"
      ]
     },
     "metadata": {},
     "output_type": "display_data"
    }
   ],
   "source": [
    "big_smiles_graph(big)"
   ]
  },
  {
   "cell_type": "markdown",
   "id": "cd2b1acd",
   "metadata": {},
   "source": [
    "## Vulcanized poly(1,3-butadiene)"
   ]
  },
  {
   "cell_type": "code",
   "execution_count": 45,
   "id": "b4795529",
   "metadata": {},
   "outputs": [
    {
     "data": {
      "image/svg+xml": [
       "<svg xmlns=\"http://www.w3.org/2000/svg\" xmlns:rdkit=\"http://www.rdkit.org/xml\" xmlns:xlink=\"http://www.w3.org/1999/xlink\" version=\"1.1\" baseProfile=\"full\" xml:space=\"preserve\" width=\"450px\" height=\"150px\" viewBox=\"0 0 450 150\">\n",
       "<!-- END OF HEADER -->\n",
       "<rect style=\"opacity:1.0;fill:#FFFFFF;stroke:none\" width=\"450.0\" height=\"150.0\" x=\"0.0\" y=\"0.0\"> </rect>\n",
       "<path class=\"bond-0 atom-1 atom-2\" d=\"M 304.9,128.0 L 310.7,129.5\" style=\"fill:none;fill-rule:evenodd;stroke:#000000;stroke-width:2.0px;stroke-linecap:butt;stroke-linejoin:miter;stroke-opacity:1\"/>\n",
       "<path class=\"bond-1 atom-2 atom-3\" d=\"M 310.7,129.5 L 312.3,135.2\" style=\"fill:none;fill-rule:evenodd;stroke:#000000;stroke-width:2.0px;stroke-linecap:butt;stroke-linejoin:miter;stroke-opacity:1\"/>\n",
       "<path class=\"bond-1 atom-2 atom-3\" d=\"M 309.8,130.6 L 310.9,134.6\" style=\"fill:none;fill-rule:evenodd;stroke:#000000;stroke-width:2.0px;stroke-linecap:butt;stroke-linejoin:miter;stroke-opacity:1\"/>\n",
       "<path class=\"bond-2 atom-3 atom-4\" d=\"M 312.3,135.2 L 318.1,136.6\" style=\"fill:none;fill-rule:evenodd;stroke:#000000;stroke-width:2.0px;stroke-linecap:butt;stroke-linejoin:miter;stroke-opacity:1\"/>\n",
       "<path class=\"bond-3 atom-0 atom-4\" d=\"M 319.1,140.0 L 318.1,136.6\" style=\"fill:none;fill-rule:evenodd;stroke:#000000;stroke-width:2.0px;stroke-linecap:butt;stroke-linejoin:miter;stroke-opacity:1\"/>\n",
       "<path class=\"bond-4 atom-5 atom-6\" d=\"M 290.2,113.7 L 295.9,115.1\" style=\"fill:none;fill-rule:evenodd;stroke:#000000;stroke-width:2.0px;stroke-linecap:butt;stroke-linejoin:miter;stroke-opacity:1\"/>\n",
       "<path class=\"bond-5 atom-6 atom-7\" d=\"M 295.9,115.1 L 297.5,120.8\" style=\"fill:none;fill-rule:evenodd;stroke:#000000;stroke-width:2.0px;stroke-linecap:butt;stroke-linejoin:miter;stroke-opacity:1\"/>\n",
       "<path class=\"bond-5 atom-6 atom-7\" d=\"M 295.0,116.3 L 296.2,120.3\" style=\"fill:none;fill-rule:evenodd;stroke:#000000;stroke-width:2.0px;stroke-linecap:butt;stroke-linejoin:miter;stroke-opacity:1\"/>\n",
       "<path class=\"bond-6 atom-7 atom-8\" d=\"M 297.5,120.8 L 303.3,122.3\" style=\"fill:none;fill-rule:evenodd;stroke:#000000;stroke-width:2.0px;stroke-linecap:butt;stroke-linejoin:miter;stroke-opacity:1\"/>\n",
       "<path class=\"bond-7 atom-1 atom-8\" d=\"M 304.9,128.0 L 303.3,122.3\" style=\"fill:none;fill-rule:evenodd;stroke:#000000;stroke-width:2.0px;stroke-linecap:butt;stroke-linejoin:miter;stroke-opacity:1\"/>\n",
       "<path class=\"bond-8 atom-9 atom-10\" d=\"M 288.5,108.0 L 282.8,106.5\" style=\"fill:none;fill-rule:evenodd;stroke:#000000;stroke-width:2.0px;stroke-linecap:butt;stroke-linejoin:miter;stroke-opacity:1\"/>\n",
       "<path class=\"bond-9 atom-10 atom-11\" d=\"M 282.8,106.5 L 281.1,100.8\" style=\"fill:none;fill-rule:evenodd;stroke:#000000;stroke-width:2.0px;stroke-linecap:butt;stroke-linejoin:miter;stroke-opacity:1\"/>\n",
       "<path class=\"bond-9 atom-10 atom-11\" d=\"M 283.7,105.3 L 282.5,101.3\" style=\"fill:none;fill-rule:evenodd;stroke:#000000;stroke-width:2.0px;stroke-linecap:butt;stroke-linejoin:miter;stroke-opacity:1\"/>\n",
       "<path class=\"bond-10 atom-11 atom-12\" d=\"M 281.1,100.8 L 275.4,99.4\" style=\"fill:none;fill-rule:evenodd;stroke:#000000;stroke-width:2.0px;stroke-linecap:butt;stroke-linejoin:miter;stroke-opacity:1\"/>\n",
       "<path class=\"bond-11 atom-5 atom-9\" d=\"M 290.2,113.7 L 288.5,108.0\" style=\"fill:none;fill-rule:evenodd;stroke:#000000;stroke-width:2.0px;stroke-linecap:butt;stroke-linejoin:miter;stroke-opacity:1\"/>\n",
       "<path class=\"bond-12 atom-13 atom-14\" d=\"M 273.8,93.6 L 268.0,92.2\" style=\"fill:none;fill-rule:evenodd;stroke:#000000;stroke-width:2.0px;stroke-linecap:butt;stroke-linejoin:miter;stroke-opacity:1\"/>\n",
       "<path class=\"bond-13 atom-14 atom-15\" d=\"M 268.0,92.2 L 266.4,86.5\" style=\"fill:none;fill-rule:evenodd;stroke:#000000;stroke-width:2.0px;stroke-linecap:butt;stroke-linejoin:miter;stroke-opacity:1\"/>\n",
       "<path class=\"bond-13 atom-14 atom-15\" d=\"M 268.9,91.0 L 267.8,87.0\" style=\"fill:none;fill-rule:evenodd;stroke:#000000;stroke-width:2.0px;stroke-linecap:butt;stroke-linejoin:miter;stroke-opacity:1\"/>\n",
       "<path class=\"bond-14 atom-15 atom-16\" d=\"M 266.4,86.5 L 260.6,85.0\" style=\"fill:none;fill-rule:evenodd;stroke:#000000;stroke-width:2.0px;stroke-linecap:butt;stroke-linejoin:miter;stroke-opacity:1\"/>\n",
       "<path class=\"bond-15 atom-12 atom-13\" d=\"M 275.4,99.4 L 273.8,93.6\" style=\"fill:none;fill-rule:evenodd;stroke:#000000;stroke-width:2.0px;stroke-linecap:butt;stroke-linejoin:miter;stroke-opacity:1\"/>\n",
       "<path class=\"bond-16 atom-17 atom-18\" d=\"M 259.0,79.3 L 253.2,77.9\" style=\"fill:none;fill-rule:evenodd;stroke:#000000;stroke-width:2.0px;stroke-linecap:butt;stroke-linejoin:miter;stroke-opacity:1\"/>\n",
       "<path class=\"bond-17 atom-18 atom-19\" d=\"M 253.2,77.9 L 251.6,72.1\" style=\"fill:none;fill-rule:evenodd;stroke:#000000;stroke-width:2.0px;stroke-linecap:butt;stroke-linejoin:miter;stroke-opacity:1\"/>\n",
       "<path class=\"bond-18 atom-19 atom-20\" d=\"M 251.6,72.1 L 245.8,70.7\" style=\"fill:none;fill-rule:evenodd;stroke:#000000;stroke-width:2.0px;stroke-linecap:butt;stroke-linejoin:miter;stroke-opacity:1\"/>\n",
       "<path class=\"bond-19 atom-16 atom-17\" d=\"M 260.6,85.0 L 259.0,79.3\" style=\"fill:none;fill-rule:evenodd;stroke:#000000;stroke-width:2.0px;stroke-linecap:butt;stroke-linejoin:miter;stroke-opacity:1\"/>\n",
       "<path class=\"bond-20 atom-19 atom-21\" d=\"M 251.6,72.1 L 252.9,70.8\" style=\"fill:none;fill-rule:evenodd;stroke:#000000;stroke-width:2.0px;stroke-linecap:butt;stroke-linejoin:miter;stroke-opacity:1\"/>\n",
       "<path class=\"bond-20 atom-19 atom-21\" d=\"M 252.9,70.8 L 254.2,69.5\" style=\"fill:none;fill-rule:evenodd;stroke:#CCCC00;stroke-width:2.0px;stroke-linecap:butt;stroke-linejoin:miter;stroke-opacity:1\"/>\n",
       "<path class=\"bond-21 atom-22 atom-23\" d=\"M 231.0,56.4 L 236.8,57.8\" style=\"fill:none;fill-rule:evenodd;stroke:#000000;stroke-width:2.0px;stroke-linecap:butt;stroke-linejoin:miter;stroke-opacity:1\"/>\n",
       "<path class=\"bond-22 atom-23 atom-24\" d=\"M 236.8,57.8 L 238.4,63.5\" style=\"fill:none;fill-rule:evenodd;stroke:#000000;stroke-width:2.0px;stroke-linecap:butt;stroke-linejoin:miter;stroke-opacity:1\"/>\n",
       "<path class=\"bond-22 atom-23 atom-24\" d=\"M 235.9,59.0 L 237.0,63.0\" style=\"fill:none;fill-rule:evenodd;stroke:#000000;stroke-width:2.0px;stroke-linecap:butt;stroke-linejoin:miter;stroke-opacity:1\"/>\n",
       "<path class=\"bond-23 atom-24 atom-25\" d=\"M 238.4,63.5 L 244.2,65.0\" style=\"fill:none;fill-rule:evenodd;stroke:#000000;stroke-width:2.0px;stroke-linecap:butt;stroke-linejoin:miter;stroke-opacity:1\"/>\n",
       "<path class=\"bond-24 atom-20 atom-25\" d=\"M 245.8,70.7 L 244.2,65.0\" style=\"fill:none;fill-rule:evenodd;stroke:#000000;stroke-width:2.0px;stroke-linecap:butt;stroke-linejoin:miter;stroke-opacity:1\"/>\n",
       "<path class=\"bond-25 atom-21 atom-26\" d=\"M 255.1,65.6 L 254.8,64.6\" style=\"fill:none;fill-rule:evenodd;stroke:#CCCC00;stroke-width:2.0px;stroke-linecap:butt;stroke-linejoin:miter;stroke-opacity:1\"/>\n",
       "<path class=\"bond-26 atom-18 atom-27\" d=\"M 253.2,77.9 L 251.9,79.2\" style=\"fill:none;fill-rule:evenodd;stroke:#000000;stroke-width:2.0px;stroke-linecap:butt;stroke-linejoin:miter;stroke-opacity:1\"/>\n",
       "<path class=\"bond-26 atom-18 atom-27\" d=\"M 251.9,79.2 L 250.6,80.5\" style=\"fill:none;fill-rule:evenodd;stroke:#CCCC00;stroke-width:2.0px;stroke-linecap:butt;stroke-linejoin:miter;stroke-opacity:1\"/>\n",
       "<path class=\"bond-27 atom-27 atom-28\" d=\"M 247.5,81.7 L 244.9,81.1\" style=\"fill:none;fill-rule:evenodd;stroke:#CCCC00;stroke-width:2.0px;stroke-linecap:butt;stroke-linejoin:miter;stroke-opacity:1\"/>\n",
       "<path class=\"bond-28 atom-29 atom-30\" d=\"M 216.3,42.0 L 222.0,43.5\" style=\"fill:none;fill-rule:evenodd;stroke:#000000;stroke-width:2.0px;stroke-linecap:butt;stroke-linejoin:miter;stroke-opacity:1\"/>\n",
       "<path class=\"bond-29 atom-30 atom-31\" d=\"M 222.0,43.5 L 223.7,49.2\" style=\"fill:none;fill-rule:evenodd;stroke:#000000;stroke-width:2.0px;stroke-linecap:butt;stroke-linejoin:miter;stroke-opacity:1\"/>\n",
       "<path class=\"bond-29 atom-30 atom-31\" d=\"M 221.1,44.7 L 222.3,48.7\" style=\"fill:none;fill-rule:evenodd;stroke:#000000;stroke-width:2.0px;stroke-linecap:butt;stroke-linejoin:miter;stroke-opacity:1\"/>\n",
       "<path class=\"bond-30 atom-31 atom-32\" d=\"M 223.7,49.2 L 229.4,50.6\" style=\"fill:none;fill-rule:evenodd;stroke:#000000;stroke-width:2.0px;stroke-linecap:butt;stroke-linejoin:miter;stroke-opacity:1\"/>\n",
       "<path class=\"bond-31 atom-22 atom-32\" d=\"M 231.0,56.4 L 229.4,50.6\" style=\"fill:none;fill-rule:evenodd;stroke:#000000;stroke-width:2.0px;stroke-linecap:butt;stroke-linejoin:miter;stroke-opacity:1\"/>\n",
       "<path class=\"bond-32 atom-33 atom-34\" d=\"M 201.5,27.7 L 207.3,29.2\" style=\"fill:none;fill-rule:evenodd;stroke:#000000;stroke-width:2.0px;stroke-linecap:butt;stroke-linejoin:miter;stroke-opacity:1\"/>\n",
       "<path class=\"bond-33 atom-34 atom-35\" d=\"M 207.3,29.2 L 208.9,34.9\" style=\"fill:none;fill-rule:evenodd;stroke:#000000;stroke-width:2.0px;stroke-linecap:butt;stroke-linejoin:miter;stroke-opacity:1\"/>\n",
       "<path class=\"bond-33 atom-34 atom-35\" d=\"M 206.4,30.3 L 207.5,34.3\" style=\"fill:none;fill-rule:evenodd;stroke:#000000;stroke-width:2.0px;stroke-linecap:butt;stroke-linejoin:miter;stroke-opacity:1\"/>\n",
       "<path class=\"bond-34 atom-35 atom-36\" d=\"M 208.9,34.9 L 214.6,36.3\" style=\"fill:none;fill-rule:evenodd;stroke:#000000;stroke-width:2.0px;stroke-linecap:butt;stroke-linejoin:miter;stroke-opacity:1\"/>\n",
       "<path class=\"bond-35 atom-29 atom-36\" d=\"M 216.3,42.0 L 214.6,36.3\" style=\"fill:none;fill-rule:evenodd;stroke:#000000;stroke-width:2.0px;stroke-linecap:butt;stroke-linejoin:miter;stroke-opacity:1\"/>\n",
       "<path class=\"bond-36 atom-37 atom-38\" d=\"M 233.4,83.5 L 239.2,84.9\" style=\"fill:none;fill-rule:evenodd;stroke:#000000;stroke-width:2.0px;stroke-linecap:butt;stroke-linejoin:miter;stroke-opacity:1\"/>\n",
       "<path class=\"bond-37 atom-38 atom-39\" d=\"M 239.2,84.9 L 240.8,90.7\" style=\"fill:none;fill-rule:evenodd;stroke:#000000;stroke-width:2.0px;stroke-linecap:butt;stroke-linejoin:miter;stroke-opacity:1\"/>\n",
       "<path class=\"bond-38 atom-39 atom-40\" d=\"M 240.8,90.7 L 236.7,94.9\" style=\"fill:none;fill-rule:evenodd;stroke:#000000;stroke-width:2.0px;stroke-linecap:butt;stroke-linejoin:miter;stroke-opacity:1\"/>\n",
       "<path class=\"bond-39 atom-28 atom-38\" d=\"M 241.8,82.3 L 240.5,83.6\" style=\"fill:none;fill-rule:evenodd;stroke:#CCCC00;stroke-width:2.0px;stroke-linecap:butt;stroke-linejoin:miter;stroke-opacity:1\"/>\n",
       "<path class=\"bond-39 atom-28 atom-38\" d=\"M 240.5,83.6 L 239.2,84.9\" style=\"fill:none;fill-rule:evenodd;stroke:#000000;stroke-width:2.0px;stroke-linecap:butt;stroke-linejoin:miter;stroke-opacity:1\"/>\n",
       "<path class=\"bond-40 atom-41 atom-42\" d=\"M 229.3,87.8 L 223.5,86.3\" style=\"fill:none;fill-rule:evenodd;stroke:#000000;stroke-width:2.0px;stroke-linecap:butt;stroke-linejoin:miter;stroke-opacity:1\"/>\n",
       "<path class=\"bond-41 atom-42 atom-43\" d=\"M 223.5,86.3 L 219.4,90.6\" style=\"fill:none;fill-rule:evenodd;stroke:#000000;stroke-width:2.0px;stroke-linecap:butt;stroke-linejoin:miter;stroke-opacity:1\"/>\n",
       "<path class=\"bond-41 atom-42 atom-43\" d=\"M 223.7,87.8 L 220.9,90.8\" style=\"fill:none;fill-rule:evenodd;stroke:#000000;stroke-width:2.0px;stroke-linecap:butt;stroke-linejoin:miter;stroke-opacity:1\"/>\n",
       "<path class=\"bond-42 atom-43 atom-44\" d=\"M 219.4,90.6 L 213.6,89.1\" style=\"fill:none;fill-rule:evenodd;stroke:#000000;stroke-width:2.0px;stroke-linecap:butt;stroke-linejoin:miter;stroke-opacity:1\"/>\n",
       "<path class=\"bond-43 atom-37 atom-41\" d=\"M 233.4,83.5 L 229.3,87.8\" style=\"fill:none;fill-rule:evenodd;stroke:#000000;stroke-width:2.0px;stroke-linecap:butt;stroke-linejoin:miter;stroke-opacity:1\"/>\n",
       "<path class=\"bond-44 atom-45 atom-46\" d=\"M 256.6,52.2 L 258.2,57.9\" style=\"fill:none;fill-rule:evenodd;stroke:#000000;stroke-width:2.0px;stroke-linecap:butt;stroke-linejoin:miter;stroke-opacity:1\"/>\n",
       "<path class=\"bond-45 atom-46 atom-47\" d=\"M 258.2,57.9 L 264.0,59.3\" style=\"fill:none;fill-rule:evenodd;stroke:#000000;stroke-width:2.0px;stroke-linecap:butt;stroke-linejoin:miter;stroke-opacity:1\"/>\n",
       "<path class=\"bond-46 atom-47 atom-48\" d=\"M 264.0,59.3 L 268.1,55.1\" style=\"fill:none;fill-rule:evenodd;stroke:#000000;stroke-width:2.0px;stroke-linecap:butt;stroke-linejoin:miter;stroke-opacity:1\"/>\n",
       "<path class=\"bond-47 atom-26 atom-46\" d=\"M 255.7,60.6 L 256.9,59.2\" style=\"fill:none;fill-rule:evenodd;stroke:#CCCC00;stroke-width:2.0px;stroke-linecap:butt;stroke-linejoin:miter;stroke-opacity:1\"/>\n",
       "<path class=\"bond-47 atom-26 atom-46\" d=\"M 256.9,59.2 L 258.2,57.9\" style=\"fill:none;fill-rule:evenodd;stroke:#000000;stroke-width:2.0px;stroke-linecap:butt;stroke-linejoin:miter;stroke-opacity:1\"/>\n",
       "<path class=\"bond-48 atom-49 atom-50\" d=\"M 209.5,93.4 L 203.7,91.9\" style=\"fill:none;fill-rule:evenodd;stroke:#000000;stroke-width:2.0px;stroke-linecap:butt;stroke-linejoin:miter;stroke-opacity:1\"/>\n",
       "<path class=\"bond-49 atom-50 atom-51\" d=\"M 203.7,91.9 L 199.6,96.2\" style=\"fill:none;fill-rule:evenodd;stroke:#000000;stroke-width:2.0px;stroke-linecap:butt;stroke-linejoin:miter;stroke-opacity:1\"/>\n",
       "<path class=\"bond-49 atom-50 atom-51\" d=\"M 203.9,93.4 L 201.1,96.4\" style=\"fill:none;fill-rule:evenodd;stroke:#000000;stroke-width:2.0px;stroke-linecap:butt;stroke-linejoin:miter;stroke-opacity:1\"/>\n",
       "<path class=\"bond-50 atom-51 atom-52\" d=\"M 199.6,96.2 L 193.8,94.8\" style=\"fill:none;fill-rule:evenodd;stroke:#000000;stroke-width:2.0px;stroke-linecap:butt;stroke-linejoin:miter;stroke-opacity:1\"/>\n",
       "<path class=\"bond-51 atom-44 atom-49\" d=\"M 213.6,89.1 L 209.5,93.4\" style=\"fill:none;fill-rule:evenodd;stroke:#000000;stroke-width:2.0px;stroke-linecap:butt;stroke-linejoin:miter;stroke-opacity:1\"/>\n",
       "<path class=\"bond-52 atom-47 atom-53\" d=\"M 264.0,59.3 L 264.5,61.0\" style=\"fill:none;fill-rule:evenodd;stroke:#000000;stroke-width:2.0px;stroke-linecap:butt;stroke-linejoin:miter;stroke-opacity:1\"/>\n",
       "<path class=\"bond-52 atom-47 atom-53\" d=\"M 264.5,61.0 L 265.0,62.7\" style=\"fill:none;fill-rule:evenodd;stroke:#CCCC00;stroke-width:2.0px;stroke-linecap:butt;stroke-linejoin:miter;stroke-opacity:1\"/>\n",
       "<path class=\"bond-53 atom-53 atom-54\" d=\"M 267.2,65.5 L 269.8,66.1\" style=\"fill:none;fill-rule:evenodd;stroke:#CCCC00;stroke-width:2.0px;stroke-linecap:butt;stroke-linejoin:miter;stroke-opacity:1\"/>\n",
       "<path class=\"bond-54 atom-55 atom-56\" d=\"M 273.9,56.5 L 278.0,52.3\" style=\"fill:none;fill-rule:evenodd;stroke:#000000;stroke-width:2.0px;stroke-linecap:butt;stroke-linejoin:miter;stroke-opacity:1\"/>\n",
       "<path class=\"bond-55 atom-56 atom-57\" d=\"M 278.0,52.3 L 283.8,53.7\" style=\"fill:none;fill-rule:evenodd;stroke:#000000;stroke-width:2.0px;stroke-linecap:butt;stroke-linejoin:miter;stroke-opacity:1\"/>\n",
       "<path class=\"bond-55 atom-56 atom-57\" d=\"M 278.6,53.6 L 282.6,54.6\" style=\"fill:none;fill-rule:evenodd;stroke:#000000;stroke-width:2.0px;stroke-linecap:butt;stroke-linejoin:miter;stroke-opacity:1\"/>\n",
       "<path class=\"bond-56 atom-57 atom-58\" d=\"M 283.8,53.7 L 287.9,49.4\" style=\"fill:none;fill-rule:evenodd;stroke:#000000;stroke-width:2.0px;stroke-linecap:butt;stroke-linejoin:miter;stroke-opacity:1\"/>\n",
       "<path class=\"bond-57 atom-48 atom-55\" d=\"M 268.1,55.1 L 273.9,56.5\" style=\"fill:none;fill-rule:evenodd;stroke:#000000;stroke-width:2.0px;stroke-linecap:butt;stroke-linejoin:miter;stroke-opacity:1\"/>\n",
       "<path class=\"bond-58 atom-59 atom-60\" d=\"M 270.5,82.2 L 268.9,76.5\" style=\"fill:none;fill-rule:evenodd;stroke:#000000;stroke-width:2.0px;stroke-linecap:butt;stroke-linejoin:miter;stroke-opacity:1\"/>\n",
       "<path class=\"bond-59 atom-60 atom-61\" d=\"M 268.9,76.5 L 273.0,72.2\" style=\"fill:none;fill-rule:evenodd;stroke:#000000;stroke-width:2.0px;stroke-linecap:butt;stroke-linejoin:miter;stroke-opacity:1\"/>\n",
       "<path class=\"bond-60 atom-61 atom-62\" d=\"M 273.0,72.2 L 278.8,73.7\" style=\"fill:none;fill-rule:evenodd;stroke:#000000;stroke-width:2.0px;stroke-linecap:butt;stroke-linejoin:miter;stroke-opacity:1\"/>\n",
       "<path class=\"bond-61 atom-54 atom-61\" d=\"M 272.1,68.9 L 272.5,70.6\" style=\"fill:none;fill-rule:evenodd;stroke:#CCCC00;stroke-width:2.0px;stroke-linecap:butt;stroke-linejoin:miter;stroke-opacity:1\"/>\n",
       "<path class=\"bond-61 atom-54 atom-61\" d=\"M 272.5,70.6 L 273.0,72.2\" style=\"fill:none;fill-rule:evenodd;stroke:#000000;stroke-width:2.0px;stroke-linecap:butt;stroke-linejoin:miter;stroke-opacity:1\"/>\n",
       "<path class=\"bond-62 atom-63 atom-64\" d=\"M 174.0,100.4 L 179.8,101.8\" style=\"fill:none;fill-rule:evenodd;stroke:#000000;stroke-width:2.0px;stroke-linecap:butt;stroke-linejoin:miter;stroke-opacity:1\"/>\n",
       "<path class=\"bond-63 atom-64 atom-65\" d=\"M 179.8,101.8 L 183.9,97.6\" style=\"fill:none;fill-rule:evenodd;stroke:#000000;stroke-width:2.0px;stroke-linecap:butt;stroke-linejoin:miter;stroke-opacity:1\"/>\n",
       "<path class=\"bond-63 atom-64 atom-65\" d=\"M 179.5,100.4 L 182.4,97.4\" style=\"fill:none;fill-rule:evenodd;stroke:#000000;stroke-width:2.0px;stroke-linecap:butt;stroke-linejoin:miter;stroke-opacity:1\"/>\n",
       "<path class=\"bond-64 atom-65 atom-66\" d=\"M 183.9,97.6 L 189.7,99.0\" style=\"fill:none;fill-rule:evenodd;stroke:#000000;stroke-width:2.0px;stroke-linecap:butt;stroke-linejoin:miter;stroke-opacity:1\"/>\n",
       "<path class=\"bond-65 atom-52 atom-66\" d=\"M 193.8,94.8 L 189.7,99.0\" style=\"fill:none;fill-rule:evenodd;stroke:#000000;stroke-width:2.0px;stroke-linecap:butt;stroke-linejoin:miter;stroke-opacity:1\"/>\n",
       "<path class=\"bond-66 atom-67 atom-68\" d=\"M 261.6,32.2 L 263.3,37.9\" style=\"fill:none;fill-rule:evenodd;stroke:#000000;stroke-width:2.0px;stroke-linecap:butt;stroke-linejoin:miter;stroke-opacity:1\"/>\n",
       "<path class=\"bond-67 atom-68 atom-69\" d=\"M 263.3,37.9 L 259.1,42.2\" style=\"fill:none;fill-rule:evenodd;stroke:#000000;stroke-width:2.0px;stroke-linecap:butt;stroke-linejoin:miter;stroke-opacity:1\"/>\n",
       "<path class=\"bond-67 atom-68 atom-69\" d=\"M 261.8,37.7 L 258.9,40.7\" style=\"fill:none;fill-rule:evenodd;stroke:#000000;stroke-width:2.0px;stroke-linecap:butt;stroke-linejoin:miter;stroke-opacity:1\"/>\n",
       "<path class=\"bond-68 atom-69 atom-70\" d=\"M 259.1,42.2 L 260.7,47.9\" style=\"fill:none;fill-rule:evenodd;stroke:#000000;stroke-width:2.0px;stroke-linecap:butt;stroke-linejoin:miter;stroke-opacity:1\"/>\n",
       "<path class=\"bond-69 atom-45 atom-70\" d=\"M 256.6,52.2 L 260.7,47.9\" style=\"fill:none;fill-rule:evenodd;stroke:#000000;stroke-width:2.0px;stroke-linecap:butt;stroke-linejoin:miter;stroke-opacity:1\"/>\n",
       "<path class=\"bond-70 atom-71 atom-72\" d=\"M 154.2,106.0 L 160.0,107.5\" style=\"fill:none;fill-rule:evenodd;stroke:#000000;stroke-width:2.0px;stroke-linecap:butt;stroke-linejoin:miter;stroke-opacity:1\"/>\n",
       "<path class=\"bond-71 atom-72 atom-73\" d=\"M 160.0,107.5 L 164.1,103.2\" style=\"fill:none;fill-rule:evenodd;stroke:#000000;stroke-width:2.0px;stroke-linecap:butt;stroke-linejoin:miter;stroke-opacity:1\"/>\n",
       "<path class=\"bond-72 atom-73 atom-74\" d=\"M 164.1,103.2 L 169.9,104.7\" style=\"fill:none;fill-rule:evenodd;stroke:#000000;stroke-width:2.0px;stroke-linecap:butt;stroke-linejoin:miter;stroke-opacity:1\"/>\n",
       "<path class=\"bond-73 atom-63 atom-74\" d=\"M 174.0,100.4 L 169.9,104.7\" style=\"fill:none;fill-rule:evenodd;stroke:#000000;stroke-width:2.0px;stroke-linecap:butt;stroke-linejoin:miter;stroke-opacity:1\"/>\n",
       "<path class=\"bond-74 atom-72 atom-75\" d=\"M 160.0,107.5 L 160.5,109.2\" style=\"fill:none;fill-rule:evenodd;stroke:#000000;stroke-width:2.0px;stroke-linecap:butt;stroke-linejoin:miter;stroke-opacity:1\"/>\n",
       "<path class=\"bond-74 atom-72 atom-75\" d=\"M 160.5,109.2 L 160.9,110.9\" style=\"fill:none;fill-rule:evenodd;stroke:#CCCC00;stroke-width:2.0px;stroke-linecap:butt;stroke-linejoin:miter;stroke-opacity:1\"/>\n",
       "<path class=\"bond-75 atom-76 atom-77\" d=\"M 150.1,110.3 L 144.3,108.8\" style=\"fill:none;fill-rule:evenodd;stroke:#000000;stroke-width:2.0px;stroke-linecap:butt;stroke-linejoin:miter;stroke-opacity:1\"/>\n",
       "<path class=\"bond-76 atom-77 atom-78\" d=\"M 144.3,108.8 L 140.2,113.1\" style=\"fill:none;fill-rule:evenodd;stroke:#000000;stroke-width:2.0px;stroke-linecap:butt;stroke-linejoin:miter;stroke-opacity:1\"/>\n",
       "<path class=\"bond-77 atom-78 atom-79\" d=\"M 140.2,113.1 L 134.4,111.7\" style=\"fill:none;fill-rule:evenodd;stroke:#000000;stroke-width:2.0px;stroke-linecap:butt;stroke-linejoin:miter;stroke-opacity:1\"/>\n",
       "<path class=\"bond-78 atom-71 atom-76\" d=\"M 154.2,106.0 L 150.1,110.3\" style=\"fill:none;fill-rule:evenodd;stroke:#000000;stroke-width:2.0px;stroke-linecap:butt;stroke-linejoin:miter;stroke-opacity:1\"/>\n",
       "<path class=\"bond-79 atom-60 atom-80\" d=\"M 268.9,76.5 L 266.8,76.0\" style=\"fill:none;fill-rule:evenodd;stroke:#000000;stroke-width:2.0px;stroke-linecap:butt;stroke-linejoin:miter;stroke-opacity:1\"/>\n",
       "<path class=\"bond-79 atom-60 atom-80\" d=\"M 266.8,76.0 L 264.7,75.4\" style=\"fill:none;fill-rule:evenodd;stroke:#CCCC00;stroke-width:2.0px;stroke-linecap:butt;stroke-linejoin:miter;stroke-opacity:1\"/>\n",
       "<path class=\"bond-80 atom-75 atom-81\" d=\"M 160.1,114.8 L 159.0,115.9\" style=\"fill:none;fill-rule:evenodd;stroke:#CCCC00;stroke-width:2.0px;stroke-linecap:butt;stroke-linejoin:miter;stroke-opacity:1\"/>\n",
       "<path class=\"bond-81 atom-82 atom-83\" d=\"M 186.7,13.4 L 192.5,14.8\" style=\"fill:none;fill-rule:evenodd;stroke:#000000;stroke-width:2.0px;stroke-linecap:butt;stroke-linejoin:miter;stroke-opacity:1\"/>\n",
       "<path class=\"bond-82 atom-83 atom-84\" d=\"M 192.5,14.8 L 194.1,20.5\" style=\"fill:none;fill-rule:evenodd;stroke:#000000;stroke-width:2.0px;stroke-linecap:butt;stroke-linejoin:miter;stroke-opacity:1\"/>\n",
       "<path class=\"bond-83 atom-84 atom-85\" d=\"M 194.1,20.5 L 199.9,22.0\" style=\"fill:none;fill-rule:evenodd;stroke:#000000;stroke-width:2.0px;stroke-linecap:butt;stroke-linejoin:miter;stroke-opacity:1\"/>\n",
       "<path class=\"bond-84 atom-33 atom-85\" d=\"M 201.5,27.7 L 199.9,22.0\" style=\"fill:none;fill-rule:evenodd;stroke:#000000;stroke-width:2.0px;stroke-linecap:butt;stroke-linejoin:miter;stroke-opacity:1\"/>\n",
       "<path class=\"bond-85 atom-86 atom-87\" d=\"M 238.3,100.6 L 234.2,104.9\" style=\"fill:none;fill-rule:evenodd;stroke:#000000;stroke-width:2.0px;stroke-linecap:butt;stroke-linejoin:miter;stroke-opacity:1\"/>\n",
       "<path class=\"bond-86 atom-87 atom-88\" d=\"M 234.2,104.9 L 235.8,110.6\" style=\"fill:none;fill-rule:evenodd;stroke:#000000;stroke-width:2.0px;stroke-linecap:butt;stroke-linejoin:miter;stroke-opacity:1\"/>\n",
       "<path class=\"bond-86 atom-87 atom-88\" d=\"M 235.5,105.4 L 236.7,109.4\" style=\"fill:none;fill-rule:evenodd;stroke:#000000;stroke-width:2.0px;stroke-linecap:butt;stroke-linejoin:miter;stroke-opacity:1\"/>\n",
       "<path class=\"bond-87 atom-88 atom-89\" d=\"M 235.8,110.6 L 231.6,114.9\" style=\"fill:none;fill-rule:evenodd;stroke:#000000;stroke-width:2.0px;stroke-linecap:butt;stroke-linejoin:miter;stroke-opacity:1\"/>\n",
       "<path class=\"bond-88 atom-40 atom-86\" d=\"M 236.7,94.9 L 238.3,100.6\" style=\"fill:none;fill-rule:evenodd;stroke:#000000;stroke-width:2.0px;stroke-linecap:butt;stroke-linejoin:miter;stroke-opacity:1\"/>\n",
       "<path class=\"bond-89 atom-78 atom-90\" d=\"M 140.2,113.1 L 141.1,116.5\" style=\"fill:none;fill-rule:evenodd;stroke:#000000;stroke-width:2.0px;stroke-linecap:butt;stroke-linejoin:miter;stroke-opacity:1\"/>\n",
       "<path class=\"bond-90 atom-77 atom-91\" d=\"M 144.3,108.8 L 143.4,105.4\" style=\"fill:none;fill-rule:evenodd;stroke:#000000;stroke-width:2.0px;stroke-linecap:butt;stroke-linejoin:miter;stroke-opacity:1\"/>\n",
       "<path class=\"bond-91 atom-39 atom-92\" d=\"M 240.8,90.7 L 244.7,91.6\" style=\"fill:none;fill-rule:evenodd;stroke:#000000;stroke-width:2.0px;stroke-linecap:butt;stroke-linejoin:miter;stroke-opacity:1\"/>\n",
       "<path class=\"bond-92 atom-83 atom-93\" d=\"M 192.5,14.8 L 194.8,12.5\" style=\"fill:none;fill-rule:evenodd;stroke:#000000;stroke-width:2.0px;stroke-linecap:butt;stroke-linejoin:miter;stroke-opacity:1\"/>\n",
       "<path class=\"bond-93 atom-62 atom-94\" d=\"M 278.8,73.7 L 279.7,77.1\" style=\"fill:none;fill-rule:evenodd;stroke:#000000;stroke-width:2.0px;stroke-linecap:butt;stroke-linejoin:miter;stroke-opacity:1\"/>\n",
       "<path class=\"bond-94 atom-59 atom-95\" d=\"M 270.5,82.2 L 274.4,83.2\" style=\"fill:none;fill-rule:evenodd;stroke:#000000;stroke-width:2.0px;stroke-linecap:butt;stroke-linejoin:miter;stroke-opacity:1\"/>\n",
       "<path class=\"bond-95 atom-89 atom-96\" d=\"M 231.6,114.9 L 232.6,118.3\" style=\"fill:none;fill-rule:evenodd;stroke:#000000;stroke-width:2.0px;stroke-linecap:butt;stroke-linejoin:miter;stroke-opacity:1\"/>\n",
       "<path class=\"bond-96 atom-80 atom-97\" d=\"M 262.5,72.7 L 262.3,72.2\" style=\"fill:none;fill-rule:evenodd;stroke:#CCCC00;stroke-width:2.0px;stroke-linecap:butt;stroke-linejoin:miter;stroke-opacity:1\"/>\n",
       "<path class=\"bond-96 atom-80 atom-97\" d=\"M 262.3,72.2 L 262.1,71.6\" style=\"fill:none;fill-rule:evenodd;stroke:#000000;stroke-width:2.0px;stroke-linecap:butt;stroke-linejoin:miter;stroke-opacity:1\"/>\n",
       "<path class=\"bond-97 atom-81 atom-98\" d=\"M 158.2,119.9 L 158.3,120.4\" style=\"fill:none;fill-rule:evenodd;stroke:#CCCC00;stroke-width:2.0px;stroke-linecap:butt;stroke-linejoin:miter;stroke-opacity:1\"/>\n",
       "<path class=\"bond-97 atom-81 atom-98\" d=\"M 158.3,120.4 L 158.4,120.9\" style=\"fill:none;fill-rule:evenodd;stroke:#000000;stroke-width:2.0px;stroke-linecap:butt;stroke-linejoin:miter;stroke-opacity:1\"/>\n",
       "<path class=\"bond-98 atom-67 atom-99\" d=\"M 261.6,32.2 L 263.9,29.9\" style=\"fill:none;fill-rule:evenodd;stroke:#000000;stroke-width:2.0px;stroke-linecap:butt;stroke-linejoin:miter;stroke-opacity:1\"/>\n",
       "<path class=\"bond-99 atom-58 atom-100\" d=\"M 287.9,49.4 L 291.8,50.4\" style=\"fill:none;fill-rule:evenodd;stroke:#000000;stroke-width:2.0px;stroke-linecap:butt;stroke-linejoin:miter;stroke-opacity:1\"/>\n",
       "<path class=\"bond-100 atom-82 atom-101\" d=\"M 186.7,13.4 L 185.7,10.0\" style=\"fill:none;fill-rule:evenodd;stroke:#000000;stroke-width:2.0px;stroke-linecap:butt;stroke-linejoin:miter;stroke-opacity:1\"/>\n",
       "<path class=\"bond-101 atom-73 atom-102\" d=\"M 164.1,103.2 L 163.2,99.8\" style=\"fill:none;fill-rule:evenodd;stroke:#000000;stroke-width:2.0px;stroke-linecap:butt;stroke-linejoin:miter;stroke-opacity:1\"/>\n",
       "<path class=\"bond-102 atom-84 atom-103\" d=\"M 194.1,20.5 L 191.8,22.9\" style=\"fill:none;fill-rule:evenodd;stroke:#000000;stroke-width:2.0px;stroke-linecap:butt;stroke-linejoin:miter;stroke-opacity:1\"/>\n",
       "<path class=\"bond-103 atom-79 atom-104\" d=\"M 134.4,111.7 L 132.1,114.0\" style=\"fill:none;fill-rule:evenodd;stroke:#000000;stroke-width:2.0px;stroke-linecap:butt;stroke-linejoin:miter;stroke-opacity:1\"/>\n",
       "<path class=\"atom-0\" d=\"M 318.1 140.2 L 318.6 140.2 L 318.6 142.0 L 320.8 142.0 L 320.8 140.2 L 321.4 140.2 L 321.4 144.5 L 320.8 144.5 L 320.8 142.5 L 318.6 142.5 L 318.6 144.5 L 318.1 144.5 L 318.1 140.2 \" fill=\"#000000\"/>\n",
       "<path class=\"atom-21\" d=\"M 254.5 69.3 Q 254.6 69.4, 254.8 69.4 Q 255.0 69.5, 255.2 69.6 Q 255.4 69.6, 255.6 69.6 Q 256.0 69.6, 256.3 69.4 Q 256.5 69.2, 256.5 68.9 Q 256.5 68.7, 256.4 68.5 Q 256.3 68.4, 256.1 68.3 Q 255.9 68.2, 255.6 68.1 Q 255.2 68.0, 255.0 67.9 Q 254.8 67.8, 254.6 67.6 Q 254.5 67.3, 254.5 67.0 Q 254.5 66.4, 254.8 66.1 Q 255.2 65.8, 255.9 65.8 Q 256.4 65.8, 256.9 66.0 L 256.8 66.5 Q 256.3 66.2, 255.9 66.2 Q 255.5 66.2, 255.3 66.4 Q 255.0 66.6, 255.1 66.9 Q 255.1 67.1, 255.2 67.2 Q 255.3 67.4, 255.5 67.5 Q 255.6 67.5, 255.9 67.6 Q 256.3 67.8, 256.5 67.9 Q 256.8 68.0, 256.9 68.2 Q 257.1 68.5, 257.1 68.9 Q 257.1 69.5, 256.7 69.8 Q 256.3 70.1, 255.6 70.1 Q 255.3 70.1, 255.0 70.0 Q 254.7 69.9, 254.4 69.8 L 254.5 69.3 \" fill=\"#CCCC00\"/>\n",
       "<path class=\"atom-26\" d=\"M 252.9 63.6 Q 252.9 63.6, 253.1 63.7 Q 253.3 63.8, 253.6 63.9 Q 253.8 63.9, 254.0 63.9 Q 254.4 63.9, 254.6 63.7 Q 254.9 63.5, 254.9 63.2 Q 254.9 62.9, 254.7 62.8 Q 254.6 62.7, 254.5 62.6 Q 254.3 62.5, 254.0 62.4 Q 253.6 62.3, 253.4 62.2 Q 253.1 62.1, 253.0 61.8 Q 252.8 61.6, 252.8 61.2 Q 252.8 60.7, 253.2 60.4 Q 253.6 60.0, 254.3 60.0 Q 254.8 60.0, 255.3 60.3 L 255.2 60.7 Q 254.7 60.5, 254.3 60.5 Q 253.9 60.5, 253.6 60.7 Q 253.4 60.9, 253.4 61.2 Q 253.4 61.4, 253.5 61.5 Q 253.7 61.7, 253.8 61.7 Q 254.0 61.8, 254.3 61.9 Q 254.7 62.0, 254.9 62.2 Q 255.1 62.3, 255.3 62.5 Q 255.5 62.8, 255.5 63.2 Q 255.5 63.8, 255.1 64.1 Q 254.7 64.4, 254.0 64.4 Q 253.6 64.4, 253.4 64.3 Q 253.1 64.2, 252.7 64.1 L 252.9 63.6 \" fill=\"#CCCC00\"/>\n",
       "<path class=\"atom-27\" d=\"M 247.9 83.6 Q 247.9 83.6, 248.1 83.7 Q 248.3 83.8, 248.5 83.8 Q 248.8 83.9, 249.0 83.9 Q 249.4 83.9, 249.6 83.7 Q 249.8 83.5, 249.8 83.1 Q 249.8 82.9, 249.7 82.8 Q 249.6 82.6, 249.4 82.5 Q 249.3 82.5, 249.0 82.4 Q 248.6 82.3, 248.3 82.1 Q 248.1 82.0, 248.0 81.8 Q 247.8 81.6, 247.8 81.2 Q 247.8 80.7, 248.2 80.3 Q 248.5 80.0, 249.3 80.0 Q 249.7 80.0, 250.3 80.2 L 250.2 80.7 Q 249.7 80.5, 249.3 80.5 Q 248.9 80.5, 248.6 80.7 Q 248.4 80.8, 248.4 81.1 Q 248.4 81.4, 248.5 81.5 Q 248.6 81.6, 248.8 81.7 Q 249.0 81.8, 249.3 81.9 Q 249.7 82.0, 249.9 82.1 Q 250.1 82.2, 250.3 82.5 Q 250.4 82.7, 250.4 83.1 Q 250.4 83.7, 250.0 84.0 Q 249.7 84.4, 249.0 84.4 Q 248.6 84.4, 248.3 84.3 Q 248.1 84.2, 247.7 84.1 L 247.9 83.6 \" fill=\"#CCCC00\"/>\n",
       "<path class=\"atom-28\" d=\"M 242.1 82.1 Q 242.2 82.2, 242.4 82.2 Q 242.6 82.3, 242.8 82.4 Q 243.0 82.4, 243.2 82.4 Q 243.6 82.4, 243.8 82.2 Q 244.1 82.0, 244.1 81.7 Q 244.1 81.5, 244.0 81.3 Q 243.8 81.2, 243.7 81.1 Q 243.5 81.0, 243.2 80.9 Q 242.8 80.8, 242.6 80.7 Q 242.4 80.6, 242.2 80.4 Q 242.0 80.1, 242.0 79.8 Q 242.0 79.2, 242.4 78.9 Q 242.8 78.6, 243.5 78.6 Q 244.0 78.6, 244.5 78.8 L 244.4 79.3 Q 243.9 79.0, 243.5 79.0 Q 243.1 79.0, 242.9 79.2 Q 242.6 79.4, 242.6 79.7 Q 242.6 79.9, 242.8 80.0 Q 242.9 80.2, 243.0 80.3 Q 243.2 80.3, 243.5 80.4 Q 243.9 80.5, 244.1 80.7 Q 244.3 80.8, 244.5 81.0 Q 244.7 81.3, 244.7 81.7 Q 244.7 82.3, 244.3 82.6 Q 243.9 82.9, 243.2 82.9 Q 242.9 82.9, 242.6 82.8 Q 242.3 82.7, 242.0 82.6 L 242.1 82.1 \" fill=\"#CCCC00\"/>\n",
       "<path class=\"atom-53\" d=\"M 264.4 66.5 Q 264.5 66.5, 264.7 66.6 Q 264.9 66.7, 265.1 66.8 Q 265.3 66.8, 265.5 66.8 Q 265.9 66.8, 266.2 66.6 Q 266.4 66.4, 266.4 66.1 Q 266.4 65.8, 266.3 65.7 Q 266.2 65.6, 266.0 65.5 Q 265.8 65.4, 265.5 65.3 Q 265.1 65.2, 264.9 65.1 Q 264.7 65.0, 264.5 64.7 Q 264.4 64.5, 264.4 64.1 Q 264.4 63.6, 264.7 63.3 Q 265.1 62.9, 265.8 62.9 Q 266.3 62.9, 266.8 63.2 L 266.7 63.6 Q 266.2 63.4, 265.8 63.4 Q 265.4 63.4, 265.2 63.6 Q 264.9 63.8, 265.0 64.1 Q 265.0 64.3, 265.1 64.4 Q 265.2 64.6, 265.4 64.6 Q 265.5 64.7, 265.8 64.8 Q 266.2 64.9, 266.4 65.1 Q 266.7 65.2, 266.8 65.4 Q 267.0 65.7, 267.0 66.1 Q 267.0 66.7, 266.6 67.0 Q 266.2 67.3, 265.5 67.3 Q 265.2 67.3, 264.9 67.2 Q 264.6 67.1, 264.3 67.0 L 264.4 66.5 \" fill=\"#CCCC00\"/>\n",
       "<path class=\"atom-54\" d=\"M 270.2 68.0 Q 270.2 68.0, 270.4 68.1 Q 270.6 68.2, 270.8 68.2 Q 271.1 68.3, 271.3 68.3 Q 271.7 68.3, 271.9 68.1 Q 272.2 67.9, 272.2 67.5 Q 272.2 67.3, 272.0 67.1 Q 271.9 67.0, 271.7 66.9 Q 271.6 66.8, 271.3 66.8 Q 270.9 66.6, 270.7 66.5 Q 270.4 66.4, 270.3 66.2 Q 270.1 66.0, 270.1 65.6 Q 270.1 65.1, 270.5 64.7 Q 270.8 64.4, 271.6 64.4 Q 272.1 64.4, 272.6 64.6 L 272.5 65.1 Q 272.0 64.9, 271.6 64.9 Q 271.2 64.9, 270.9 65.1 Q 270.7 65.2, 270.7 65.5 Q 270.7 65.7, 270.8 65.9 Q 270.9 66.0, 271.1 66.1 Q 271.3 66.2, 271.6 66.3 Q 272.0 66.4, 272.2 66.5 Q 272.4 66.6, 272.6 66.9 Q 272.7 67.1, 272.7 67.5 Q 272.7 68.1, 272.4 68.4 Q 272.0 68.7, 271.3 68.7 Q 270.9 68.7, 270.6 68.7 Q 270.4 68.6, 270.0 68.4 L 270.2 68.0 \" fill=\"#CCCC00\"/>\n",
       "<path class=\"atom-75\" d=\"M 160.4 114.6 Q 160.5 114.7, 160.7 114.8 Q 160.9 114.8, 161.1 114.9 Q 161.3 114.9, 161.5 114.9 Q 161.9 114.9, 162.1 114.7 Q 162.4 114.5, 162.4 114.2 Q 162.4 114.0, 162.3 113.8 Q 162.1 113.7, 162.0 113.6 Q 161.8 113.5, 161.5 113.4 Q 161.1 113.3, 160.9 113.2 Q 160.7 113.1, 160.5 112.9 Q 160.3 112.7, 160.3 112.3 Q 160.3 111.7, 160.7 111.4 Q 161.1 111.1, 161.8 111.1 Q 162.3 111.1, 162.8 111.3 L 162.7 111.8 Q 162.2 111.6, 161.8 111.6 Q 161.4 111.6, 161.2 111.7 Q 160.9 111.9, 160.9 112.2 Q 160.9 112.4, 161.1 112.6 Q 161.2 112.7, 161.3 112.8 Q 161.5 112.9, 161.8 112.9 Q 162.2 113.1, 162.4 113.2 Q 162.6 113.3, 162.8 113.6 Q 163.0 113.8, 163.0 114.2 Q 163.0 114.8, 162.6 115.1 Q 162.2 115.4, 161.5 115.4 Q 161.2 115.4, 160.9 115.3 Q 160.6 115.3, 160.2 115.1 L 160.4 114.6 \" fill=\"#CCCC00\"/>\n",
       "<path class=\"atom-80\" d=\"M 261.9 76.5 Q 262.0 76.5, 262.2 76.6 Q 262.4 76.7, 262.6 76.7 Q 262.8 76.8, 263.0 76.8 Q 263.4 76.8, 263.6 76.6 Q 263.9 76.4, 263.9 76.1 Q 263.9 75.8, 263.8 75.7 Q 263.6 75.5, 263.5 75.5 Q 263.3 75.4, 263.0 75.3 Q 262.6 75.2, 262.4 75.1 Q 262.2 75.0, 262.0 74.7 Q 261.8 74.5, 261.8 74.1 Q 261.8 73.6, 262.2 73.3 Q 262.6 72.9, 263.3 72.9 Q 263.8 72.9, 264.3 73.2 L 264.2 73.6 Q 263.7 73.4, 263.3 73.4 Q 262.9 73.4, 262.7 73.6 Q 262.4 73.8, 262.4 74.0 Q 262.4 74.3, 262.6 74.4 Q 262.7 74.5, 262.8 74.6 Q 263.0 74.7, 263.3 74.8 Q 263.7 74.9, 263.9 75.0 Q 264.1 75.2, 264.3 75.4 Q 264.5 75.6, 264.5 76.1 Q 264.5 76.6, 264.1 77.0 Q 263.7 77.3, 263.0 77.3 Q 262.7 77.3, 262.4 77.2 Q 262.1 77.1, 261.8 77.0 L 261.9 76.5 \" fill=\"#CCCC00\"/>\n",
       "<path class=\"atom-81\" d=\"M 156.3 118.9 Q 156.3 118.9, 156.5 119.0 Q 156.7 119.1, 156.9 119.2 Q 157.2 119.2, 157.4 119.2 Q 157.8 119.2, 158.0 119.0 Q 158.2 118.8, 158.2 118.5 Q 158.2 118.2, 158.1 118.1 Q 158.0 117.9, 157.8 117.9 Q 157.6 117.8, 157.3 117.7 Q 157.0 117.6, 156.7 117.5 Q 156.5 117.4, 156.4 117.1 Q 156.2 116.9, 156.2 116.5 Q 156.2 116.0, 156.6 115.7 Q 156.9 115.3, 157.6 115.3 Q 158.1 115.3, 158.7 115.6 L 158.6 116.0 Q 158.0 115.8, 157.7 115.8 Q 157.2 115.8, 157.0 116.0 Q 156.8 116.2, 156.8 116.5 Q 156.8 116.7, 156.9 116.8 Q 157.0 117.0, 157.2 117.0 Q 157.4 117.1, 157.7 117.2 Q 158.0 117.3, 158.3 117.5 Q 158.5 117.6, 158.7 117.8 Q 158.8 118.1, 158.8 118.5 Q 158.8 119.1, 158.4 119.4 Q 158.0 119.7, 157.4 119.7 Q 157.0 119.7, 156.7 119.6 Q 156.4 119.5, 156.1 119.4 L 156.3 118.9 \" fill=\"#CCCC00\"/>\n",
       "<path class=\"atom-90\" d=\"M 140.1 116.7 L 140.7 116.7 L 140.7 118.5 L 142.9 118.5 L 142.9 116.7 L 143.5 116.7 L 143.5 120.9 L 142.9 120.9 L 142.9 119.0 L 140.7 119.0 L 140.7 120.9 L 140.1 120.9 L 140.1 116.7 \" fill=\"#000000\"/>\n",
       "<path class=\"atom-91\" d=\"M 141.0 101.0 L 141.6 101.0 L 141.6 102.8 L 143.8 102.8 L 143.8 101.0 L 144.4 101.0 L 144.4 105.3 L 143.8 105.3 L 143.8 103.3 L 141.6 103.3 L 141.6 105.3 L 141.0 105.3 L 141.0 101.0 \" fill=\"#000000\"/>\n",
       "<path class=\"atom-92\" d=\"M 244.9 90.0 L 245.5 90.0 L 245.5 91.8 L 247.7 91.8 L 247.7 90.0 L 248.2 90.0 L 248.2 94.2 L 247.7 94.2 L 247.7 92.3 L 245.5 92.3 L 245.5 94.2 L 244.9 94.2 L 244.9 90.0 \" fill=\"#000000\"/>\n",
       "<path class=\"atom-93\" d=\"M 194.9 8.4 L 195.5 8.4 L 195.5 10.2 L 197.7 10.2 L 197.7 8.4 L 198.3 8.4 L 198.3 12.7 L 197.7 12.7 L 197.7 10.7 L 195.5 10.7 L 195.5 12.7 L 194.9 12.7 L 194.9 8.4 \" fill=\"#000000\"/>\n",
       "<path class=\"atom-94\" d=\"M 278.7 77.3 L 279.3 77.3 L 279.3 79.1 L 281.5 79.1 L 281.5 77.3 L 282.1 77.3 L 282.1 81.5 L 281.5 81.5 L 281.5 79.6 L 279.3 79.6 L 279.3 81.5 L 278.7 81.5 L 278.7 77.3 \" fill=\"#000000\"/>\n",
       "<path class=\"atom-95\" d=\"M 274.6 81.5 L 275.2 81.5 L 275.2 83.3 L 277.4 83.3 L 277.4 81.5 L 277.9 81.5 L 277.9 85.8 L 277.4 85.8 L 277.4 83.8 L 275.2 83.8 L 275.2 85.8 L 274.6 85.8 L 274.6 81.5 \" fill=\"#000000\"/>\n",
       "<path class=\"atom-96\" d=\"M 231.6 118.5 L 232.2 118.5 L 232.2 120.3 L 234.4 120.3 L 234.4 118.5 L 234.9 118.5 L 234.9 122.7 L 234.4 122.7 L 234.4 120.8 L 232.2 120.8 L 232.2 122.7 L 231.6 122.7 L 231.6 118.5 \" fill=\"#000000\"/>\n",
       "<path class=\"atom-97\" d=\"M 259.8 67.2 L 260.4 67.2 L 260.4 69.0 L 262.6 69.0 L 262.6 67.2 L 263.1 67.2 L 263.1 71.4 L 262.6 71.4 L 262.6 69.5 L 260.4 69.5 L 260.4 71.4 L 259.8 71.4 L 259.8 67.2 \" fill=\"#000000\"/>\n",
       "<path class=\"atom-98\" d=\"M 157.4 121.0 L 158.0 121.0 L 158.0 122.9 L 160.2 122.9 L 160.2 121.0 L 160.8 121.0 L 160.8 125.3 L 160.2 125.3 L 160.2 123.3 L 158.0 123.3 L 158.0 125.3 L 157.4 125.3 L 157.4 121.0 \" fill=\"#000000\"/>\n",
       "<path class=\"atom-99\" d=\"M 264.1 25.8 L 264.7 25.8 L 264.7 27.6 L 266.9 27.6 L 266.9 25.8 L 267.4 25.8 L 267.4 30.1 L 266.9 30.1 L 266.9 28.1 L 264.7 28.1 L 264.7 30.1 L 264.1 30.1 L 264.1 25.8 \" fill=\"#000000\"/>\n",
       "<path class=\"atom-100\" d=\"M 292.0 48.8 L 292.6 48.8 L 292.6 50.6 L 294.8 50.6 L 294.8 48.8 L 295.4 48.8 L 295.4 53.0 L 294.8 53.0 L 294.8 51.1 L 292.6 51.1 L 292.6 53.0 L 292.0 53.0 L 292.0 48.8 \" fill=\"#000000\"/>\n",
       "<path class=\"atom-101\" d=\"M 183.4 5.5 L 184.0 5.5 L 184.0 7.3 L 186.2 7.3 L 186.2 5.5 L 186.7 5.5 L 186.7 9.8 L 186.2 9.8 L 186.2 7.8 L 184.0 7.8 L 184.0 9.8 L 183.4 9.8 L 183.4 5.5 \" fill=\"#000000\"/>\n",
       "<path class=\"atom-102\" d=\"M 160.8 95.4 L 161.4 95.4 L 161.4 97.2 L 163.6 97.2 L 163.6 95.4 L 164.2 95.4 L 164.2 99.6 L 163.6 99.6 L 163.6 97.7 L 161.4 97.7 L 161.4 99.6 L 160.8 99.6 L 160.8 95.4 \" fill=\"#000000\"/>\n",
       "<path class=\"atom-103\" d=\"M 188.3 22.7 L 188.9 22.7 L 188.9 24.5 L 191.0 24.5 L 191.0 22.7 L 191.6 22.7 L 191.6 26.9 L 191.0 26.9 L 191.0 25.0 L 188.9 25.0 L 188.9 26.9 L 188.3 26.9 L 188.3 22.7 \" fill=\"#000000\"/>\n",
       "<path class=\"atom-104\" d=\"M 128.6 113.8 L 129.2 113.8 L 129.2 115.6 L 131.4 115.6 L 131.4 113.8 L 131.9 113.8 L 131.9 118.1 L 131.4 118.1 L 131.4 116.1 L 129.2 116.1 L 129.2 118.1 L 128.6 118.1 L 128.6 113.8 \" fill=\"#000000\"/>\n",
       "<path class=\"atom-0\" d=\"M 322.6,142.3 L 322.6,142.4 L 322.6,142.4 L 322.6,142.4 L 322.6,142.4 L 322.6,142.5 L 322.5,142.5 L 322.5,142.5 L 322.5,142.5 L 322.5,142.6 L 322.5,142.6 L 322.5,142.6 L 322.4,142.6 L 322.4,142.6 L 322.4,142.6 L 322.4,142.6 L 322.3,142.6 L 322.3,142.6 L 322.3,142.6 L 322.3,142.6 L 322.2,142.6 L 322.2,142.6 L 322.2,142.6 L 322.2,142.6 L 322.1,142.6 L 322.1,142.6 L 322.1,142.6 L 322.1,142.6 L 322.1,142.5 L 322.0,142.5 L 322.0,142.5 L 322.0,142.5 L 322.0,142.5 L 322.0,142.4 L 322.0,142.4 L 322.0,142.4 L 322.0,142.4 L 322.0,142.3 L 322.0,142.3 L 322.0,142.3 L 322.0,142.3 L 322.0,142.2 L 322.0,142.2 L 322.0,142.2 L 322.0,142.2 L 322.1,142.1 L 322.1,142.1 L 322.1,142.1 L 322.1,142.1 L 322.1,142.1 L 322.2,142.1 L 322.2,142.1 L 322.2,142.0 L 322.2,142.0 L 322.3,142.0 L 322.3,142.0 L 322.3,142.0 L 322.3,142.0 L 322.4,142.1 L 322.4,142.1 L 322.4,142.1 L 322.4,142.1 L 322.5,142.1 L 322.5,142.1 L 322.5,142.1 L 322.5,142.1 L 322.5,142.2 L 322.5,142.2 L 322.6,142.2 L 322.6,142.2 L 322.6,142.3 L 322.6,142.3 L 322.6,142.3 L 322.6,142.3 L 322.3,142.3 Z\" style=\"fill:#000000;fill-rule:evenodd;fill-opacity:1;stroke:#000000;stroke-width:0.0px;stroke-linecap:butt;stroke-linejoin:miter;stroke-opacity:1;\"/>\n",
       "<path class=\"atom-90\" d=\"M 144.7,118.8 L 144.7,118.9 L 144.7,118.9 L 144.7,118.9 L 144.7,118.9 L 144.6,119.0 L 144.6,119.0 L 144.6,119.0 L 144.6,119.0 L 144.6,119.0 L 144.6,119.1 L 144.5,119.1 L 144.5,119.1 L 144.5,119.1 L 144.5,119.1 L 144.5,119.1 L 144.4,119.1 L 144.4,119.1 L 144.4,119.1 L 144.4,119.1 L 144.3,119.1 L 144.3,119.1 L 144.3,119.1 L 144.3,119.1 L 144.2,119.1 L 144.2,119.1 L 144.2,119.1 L 144.2,119.0 L 144.1,119.0 L 144.1,119.0 L 144.1,119.0 L 144.1,119.0 L 144.1,118.9 L 144.1,118.9 L 144.1,118.9 L 144.1,118.9 L 144.1,118.8 L 144.1,118.8 L 144.1,118.8 L 144.1,118.8 L 144.1,118.7 L 144.1,118.7 L 144.1,118.7 L 144.1,118.7 L 144.1,118.6 L 144.1,118.6 L 144.2,118.6 L 144.2,118.6 L 144.2,118.6 L 144.2,118.6 L 144.3,118.5 L 144.3,118.5 L 144.3,118.5 L 144.3,118.5 L 144.4,118.5 L 144.4,118.5 L 144.4,118.5 L 144.4,118.5 L 144.5,118.5 L 144.5,118.5 L 144.5,118.6 L 144.5,118.6 L 144.5,118.6 L 144.6,118.6 L 144.6,118.6 L 144.6,118.6 L 144.6,118.7 L 144.6,118.7 L 144.6,118.7 L 144.7,118.7 L 144.7,118.7 L 144.7,118.8 L 144.7,118.8 L 144.7,118.8 L 144.4,118.8 Z\" style=\"fill:#000000;fill-rule:evenodd;fill-opacity:1;stroke:#000000;stroke-width:0.0px;stroke-linecap:butt;stroke-linejoin:miter;stroke-opacity:1;\"/>\n",
       "<path class=\"atom-91\" d=\"M 145.6,103.1 L 145.6,103.2 L 145.6,103.2 L 145.5,103.2 L 145.5,103.2 L 145.5,103.3 L 145.5,103.3 L 145.5,103.3 L 145.5,103.3 L 145.5,103.3 L 145.5,103.4 L 145.4,103.4 L 145.4,103.4 L 145.4,103.4 L 145.4,103.4 L 145.3,103.4 L 145.3,103.4 L 145.3,103.4 L 145.3,103.4 L 145.2,103.4 L 145.2,103.4 L 145.2,103.4 L 145.2,103.4 L 145.1,103.4 L 145.1,103.4 L 145.1,103.4 L 145.1,103.4 L 145.1,103.3 L 145.0,103.3 L 145.0,103.3 L 145.0,103.3 L 145.0,103.3 L 145.0,103.2 L 145.0,103.2 L 145.0,103.2 L 145.0,103.2 L 145.0,103.1 L 145.0,103.1 L 145.0,103.1 L 145.0,103.1 L 145.0,103.0 L 145.0,103.0 L 145.0,103.0 L 145.0,103.0 L 145.0,102.9 L 145.0,102.9 L 145.1,102.9 L 145.1,102.9 L 145.1,102.9 L 145.1,102.9 L 145.1,102.9 L 145.2,102.8 L 145.2,102.8 L 145.2,102.8 L 145.2,102.8 L 145.3,102.8 L 145.3,102.8 L 145.3,102.8 L 145.3,102.8 L 145.4,102.8 L 145.4,102.9 L 145.4,102.9 L 145.4,102.9 L 145.5,102.9 L 145.5,102.9 L 145.5,102.9 L 145.5,103.0 L 145.5,103.0 L 145.5,103.0 L 145.5,103.0 L 145.5,103.1 L 145.6,103.1 L 145.6,103.1 L 145.6,103.1 L 145.3,103.1 Z\" style=\"fill:#000000;fill-rule:evenodd;fill-opacity:1;stroke:#000000;stroke-width:0.0px;stroke-linecap:butt;stroke-linejoin:miter;stroke-opacity:1;\"/>\n",
       "<path class=\"atom-92\" d=\"M 249.4,92.1 L 249.4,92.1 L 249.4,92.2 L 249.4,92.2 L 249.4,92.2 L 249.4,92.2 L 249.4,92.3 L 249.4,92.3 L 249.4,92.3 L 249.3,92.3 L 249.3,92.3 L 249.3,92.3 L 249.3,92.4 L 249.3,92.4 L 249.2,92.4 L 249.2,92.4 L 249.2,92.4 L 249.2,92.4 L 249.1,92.4 L 249.1,92.4 L 249.1,92.4 L 249.1,92.4 L 249.0,92.4 L 249.0,92.4 L 249.0,92.4 L 249.0,92.4 L 248.9,92.3 L 248.9,92.3 L 248.9,92.3 L 248.9,92.3 L 248.9,92.3 L 248.9,92.2 L 248.9,92.2 L 248.8,92.2 L 248.8,92.2 L 248.8,92.1 L 248.8,92.1 L 248.8,92.1 L 248.8,92.1 L 248.8,92.0 L 248.8,92.0 L 248.9,92.0 L 248.9,92.0 L 248.9,91.9 L 248.9,91.9 L 248.9,91.9 L 248.9,91.9 L 248.9,91.9 L 249.0,91.9 L 249.0,91.8 L 249.0,91.8 L 249.0,91.8 L 249.1,91.8 L 249.1,91.8 L 249.1,91.8 L 249.1,91.8 L 249.2,91.8 L 249.2,91.8 L 249.2,91.8 L 249.2,91.8 L 249.3,91.8 L 249.3,91.8 L 249.3,91.9 L 249.3,91.9 L 249.3,91.9 L 249.4,91.9 L 249.4,91.9 L 249.4,92.0 L 249.4,92.0 L 249.4,92.0 L 249.4,92.0 L 249.4,92.1 L 249.4,92.1 L 249.4,92.1 L 249.1,92.1 Z\" style=\"fill:#000000;fill-rule:evenodd;fill-opacity:1;stroke:#000000;stroke-width:0.0px;stroke-linecap:butt;stroke-linejoin:miter;stroke-opacity:1;\"/>\n",
       "<path class=\"atom-93\" d=\"M 199.5,10.6 L 199.5,10.6 L 199.5,10.6 L 199.5,10.6 L 199.5,10.7 L 199.4,10.7 L 199.4,10.7 L 199.4,10.7 L 199.4,10.7 L 199.4,10.8 L 199.4,10.8 L 199.3,10.8 L 199.3,10.8 L 199.3,10.8 L 199.3,10.8 L 199.3,10.8 L 199.2,10.9 L 199.2,10.9 L 199.2,10.9 L 199.2,10.9 L 199.1,10.9 L 199.1,10.8 L 199.1,10.8 L 199.1,10.8 L 199.0,10.8 L 199.0,10.8 L 199.0,10.8 L 199.0,10.8 L 198.9,10.8 L 198.9,10.7 L 198.9,10.7 L 198.9,10.7 L 198.9,10.7 L 198.9,10.6 L 198.9,10.6 L 198.9,10.6 L 198.9,10.6 L 198.9,10.5 L 198.9,10.5 L 198.9,10.5 L 198.9,10.5 L 198.9,10.4 L 198.9,10.4 L 198.9,10.4 L 198.9,10.4 L 198.9,10.4 L 199.0,10.3 L 199.0,10.3 L 199.0,10.3 L 199.0,10.3 L 199.1,10.3 L 199.1,10.3 L 199.1,10.3 L 199.1,10.3 L 199.2,10.3 L 199.2,10.3 L 199.2,10.3 L 199.2,10.3 L 199.3,10.3 L 199.3,10.3 L 199.3,10.3 L 199.3,10.3 L 199.3,10.3 L 199.4,10.3 L 199.4,10.3 L 199.4,10.4 L 199.4,10.4 L 199.4,10.4 L 199.4,10.4 L 199.5,10.5 L 199.5,10.5 L 199.5,10.5 L 199.5,10.5 L 199.5,10.6 L 199.2,10.6 Z\" style=\"fill:#000000;fill-rule:evenodd;fill-opacity:1;stroke:#000000;stroke-width:0.0px;stroke-linecap:butt;stroke-linejoin:miter;stroke-opacity:1;\"/>\n",
       "<path class=\"atom-94\" d=\"M 283.3,79.4 L 283.3,79.4 L 283.3,79.4 L 283.3,79.5 L 283.2,79.5 L 283.2,79.5 L 283.2,79.5 L 283.2,79.6 L 283.2,79.6 L 283.2,79.6 L 283.2,79.6 L 283.1,79.6 L 283.1,79.6 L 283.1,79.7 L 283.1,79.7 L 283.0,79.7 L 283.0,79.7 L 283.0,79.7 L 283.0,79.7 L 282.9,79.7 L 282.9,79.7 L 282.9,79.7 L 282.9,79.7 L 282.8,79.7 L 282.8,79.7 L 282.8,79.6 L 282.8,79.6 L 282.8,79.6 L 282.7,79.6 L 282.7,79.6 L 282.7,79.5 L 282.7,79.5 L 282.7,79.5 L 282.7,79.5 L 282.7,79.5 L 282.7,79.4 L 282.7,79.4 L 282.7,79.4 L 282.7,79.4 L 282.7,79.3 L 282.7,79.3 L 282.7,79.3 L 282.7,79.3 L 282.7,79.2 L 282.7,79.2 L 282.7,79.2 L 282.8,79.2 L 282.8,79.2 L 282.8,79.1 L 282.8,79.1 L 282.8,79.1 L 282.9,79.1 L 282.9,79.1 L 282.9,79.1 L 282.9,79.1 L 283.0,79.1 L 283.0,79.1 L 283.0,79.1 L 283.0,79.1 L 283.1,79.1 L 283.1,79.1 L 283.1,79.1 L 283.1,79.1 L 283.2,79.2 L 283.2,79.2 L 283.2,79.2 L 283.2,79.2 L 283.2,79.2 L 283.2,79.3 L 283.2,79.3 L 283.3,79.3 L 283.3,79.3 L 283.3,79.4 L 283.3,79.4 L 283.0,79.4 Z\" style=\"fill:#000000;fill-rule:evenodd;fill-opacity:1;stroke:#000000;stroke-width:0.0px;stroke-linecap:butt;stroke-linejoin:miter;stroke-opacity:1;\"/>\n",
       "<path class=\"atom-95\" d=\"M 279.1,83.7 L 279.1,83.7 L 279.1,83.7 L 279.1,83.7 L 279.1,83.8 L 279.1,83.8 L 279.1,83.8 L 279.1,83.8 L 279.1,83.8 L 279.0,83.9 L 279.0,83.9 L 279.0,83.9 L 279.0,83.9 L 279.0,83.9 L 278.9,83.9 L 278.9,83.9 L 278.9,83.9 L 278.9,84.0 L 278.8,84.0 L 278.8,84.0 L 278.8,84.0 L 278.8,83.9 L 278.7,83.9 L 278.7,83.9 L 278.7,83.9 L 278.7,83.9 L 278.6,83.9 L 278.6,83.9 L 278.6,83.9 L 278.6,83.8 L 278.6,83.8 L 278.6,83.8 L 278.5,83.8 L 278.5,83.7 L 278.5,83.7 L 278.5,83.7 L 278.5,83.7 L 278.5,83.6 L 278.5,83.6 L 278.5,83.6 L 278.5,83.6 L 278.5,83.5 L 278.6,83.5 L 278.6,83.5 L 278.6,83.5 L 278.6,83.5 L 278.6,83.4 L 278.6,83.4 L 278.7,83.4 L 278.7,83.4 L 278.7,83.4 L 278.7,83.4 L 278.8,83.4 L 278.8,83.4 L 278.8,83.4 L 278.8,83.4 L 278.9,83.4 L 278.9,83.4 L 278.9,83.4 L 278.9,83.4 L 279.0,83.4 L 279.0,83.4 L 279.0,83.4 L 279.0,83.4 L 279.0,83.4 L 279.1,83.5 L 279.1,83.5 L 279.1,83.5 L 279.1,83.5 L 279.1,83.6 L 279.1,83.6 L 279.1,83.6 L 279.1,83.6 L 279.1,83.7 L 278.8,83.7 Z\" style=\"fill:#000000;fill-rule:evenodd;fill-opacity:1;stroke:#000000;stroke-width:0.0px;stroke-linecap:butt;stroke-linejoin:miter;stroke-opacity:1;\"/>\n",
       "<path class=\"atom-96\" d=\"M 236.1,120.6 L 236.1,120.6 L 236.1,120.7 L 236.1,120.7 L 236.1,120.7 L 236.1,120.7 L 236.1,120.7 L 236.1,120.8 L 236.1,120.8 L 236.0,120.8 L 236.0,120.8 L 236.0,120.8 L 236.0,120.9 L 236.0,120.9 L 235.9,120.9 L 235.9,120.9 L 235.9,120.9 L 235.9,120.9 L 235.8,120.9 L 235.8,120.9 L 235.8,120.9 L 235.8,120.9 L 235.7,120.9 L 235.7,120.9 L 235.7,120.9 L 235.7,120.9 L 235.6,120.8 L 235.6,120.8 L 235.6,120.8 L 235.6,120.8 L 235.6,120.8 L 235.6,120.7 L 235.6,120.7 L 235.5,120.7 L 235.5,120.7 L 235.5,120.6 L 235.5,120.6 L 235.5,120.6 L 235.5,120.6 L 235.5,120.5 L 235.5,120.5 L 235.6,120.5 L 235.6,120.5 L 235.6,120.4 L 235.6,120.4 L 235.6,120.4 L 235.6,120.4 L 235.6,120.4 L 235.7,120.4 L 235.7,120.3 L 235.7,120.3 L 235.7,120.3 L 235.8,120.3 L 235.8,120.3 L 235.8,120.3 L 235.8,120.3 L 235.9,120.3 L 235.9,120.3 L 235.9,120.3 L 235.9,120.3 L 236.0,120.3 L 236.0,120.3 L 236.0,120.4 L 236.0,120.4 L 236.0,120.4 L 236.1,120.4 L 236.1,120.4 L 236.1,120.5 L 236.1,120.5 L 236.1,120.5 L 236.1,120.5 L 236.1,120.5 L 236.1,120.6 L 236.1,120.6 L 235.8,120.6 Z\" style=\"fill:#000000;fill-rule:evenodd;fill-opacity:1;stroke:#000000;stroke-width:0.0px;stroke-linecap:butt;stroke-linejoin:miter;stroke-opacity:1;\"/>\n",
       "<path class=\"atom-97\" d=\"M 264.3,69.3 L 264.3,69.4 L 264.3,69.4 L 264.3,69.4 L 264.3,69.4 L 264.3,69.5 L 264.3,69.5 L 264.3,69.5 L 264.3,69.5 L 264.3,69.5 L 264.2,69.6 L 264.2,69.6 L 264.2,69.6 L 264.2,69.6 L 264.2,69.6 L 264.1,69.6 L 264.1,69.6 L 264.1,69.6 L 264.1,69.6 L 264.0,69.6 L 264.0,69.6 L 264.0,69.6 L 264.0,69.6 L 263.9,69.6 L 263.9,69.6 L 263.9,69.6 L 263.9,69.6 L 263.8,69.5 L 263.8,69.5 L 263.8,69.5 L 263.8,69.5 L 263.8,69.5 L 263.8,69.4 L 263.8,69.4 L 263.8,69.4 L 263.8,69.4 L 263.7,69.3 L 263.7,69.3 L 263.8,69.3 L 263.8,69.3 L 263.8,69.2 L 263.8,69.2 L 263.8,69.2 L 263.8,69.2 L 263.8,69.1 L 263.8,69.1 L 263.8,69.1 L 263.9,69.1 L 263.9,69.1 L 263.9,69.1 L 263.9,69.1 L 264.0,69.0 L 264.0,69.0 L 264.0,69.0 L 264.0,69.0 L 264.1,69.0 L 264.1,69.0 L 264.1,69.0 L 264.1,69.0 L 264.2,69.0 L 264.2,69.1 L 264.2,69.1 L 264.2,69.1 L 264.2,69.1 L 264.3,69.1 L 264.3,69.1 L 264.3,69.2 L 264.3,69.2 L 264.3,69.2 L 264.3,69.2 L 264.3,69.2 L 264.3,69.3 L 264.3,69.3 L 264.3,69.3 L 264.0,69.3 Z\" style=\"fill:#000000;fill-rule:evenodd;fill-opacity:1;stroke:#000000;stroke-width:0.0px;stroke-linecap:butt;stroke-linejoin:miter;stroke-opacity:1;\"/>\n",
       "<path class=\"atom-98\" d=\"M 162.0,123.2 L 162.0,123.2 L 162.0,123.2 L 162.0,123.2 L 161.9,123.3 L 161.9,123.3 L 161.9,123.3 L 161.9,123.3 L 161.9,123.4 L 161.9,123.4 L 161.9,123.4 L 161.8,123.4 L 161.8,123.4 L 161.8,123.4 L 161.8,123.5 L 161.7,123.5 L 161.7,123.5 L 161.7,123.5 L 161.7,123.5 L 161.6,123.5 L 161.6,123.5 L 161.6,123.5 L 161.6,123.5 L 161.5,123.4 L 161.5,123.4 L 161.5,123.4 L 161.5,123.4 L 161.5,123.4 L 161.4,123.4 L 161.4,123.4 L 161.4,123.3 L 161.4,123.3 L 161.4,123.3 L 161.4,123.3 L 161.4,123.2 L 161.4,123.2 L 161.4,123.2 L 161.4,123.2 L 161.4,123.1 L 161.4,123.1 L 161.4,123.1 L 161.4,123.1 L 161.4,123.0 L 161.4,123.0 L 161.4,123.0 L 161.4,123.0 L 161.5,123.0 L 161.5,122.9 L 161.5,122.9 L 161.5,122.9 L 161.5,122.9 L 161.6,122.9 L 161.6,122.9 L 161.6,122.9 L 161.6,122.9 L 161.7,122.9 L 161.7,122.9 L 161.7,122.9 L 161.7,122.9 L 161.8,122.9 L 161.8,122.9 L 161.8,122.9 L 161.8,122.9 L 161.9,122.9 L 161.9,123.0 L 161.9,123.0 L 161.9,123.0 L 161.9,123.0 L 161.9,123.0 L 161.9,123.1 L 162.0,123.1 L 162.0,123.1 L 162.0,123.1 L 162.0,123.2 L 161.7,123.2 Z\" style=\"fill:#000000;fill-rule:evenodd;fill-opacity:1;stroke:#000000;stroke-width:0.0px;stroke-linecap:butt;stroke-linejoin:miter;stroke-opacity:1;\"/>\n",
       "<path class=\"atom-99\" d=\"M 268.6,27.9 L 268.6,28.0 L 268.6,28.0 L 268.6,28.0 L 268.6,28.1 L 268.6,28.1 L 268.6,28.1 L 268.6,28.1 L 268.6,28.1 L 268.5,28.2 L 268.5,28.2 L 268.5,28.2 L 268.5,28.2 L 268.5,28.2 L 268.4,28.2 L 268.4,28.2 L 268.4,28.2 L 268.4,28.2 L 268.3,28.2 L 268.3,28.2 L 268.3,28.2 L 268.3,28.2 L 268.2,28.2 L 268.2,28.2 L 268.2,28.2 L 268.2,28.2 L 268.1,28.2 L 268.1,28.2 L 268.1,28.2 L 268.1,28.1 L 268.1,28.1 L 268.1,28.1 L 268.0,28.1 L 268.0,28.0 L 268.0,28.0 L 268.0,28.0 L 268.0,28.0 L 268.0,27.9 L 268.0,27.9 L 268.0,27.9 L 268.0,27.9 L 268.0,27.8 L 268.1,27.8 L 268.1,27.8 L 268.1,27.8 L 268.1,27.7 L 268.1,27.7 L 268.1,27.7 L 268.2,27.7 L 268.2,27.7 L 268.2,27.7 L 268.2,27.7 L 268.3,27.7 L 268.3,27.7 L 268.3,27.7 L 268.3,27.6 L 268.4,27.7 L 268.4,27.7 L 268.4,27.7 L 268.4,27.7 L 268.5,27.7 L 268.5,27.7 L 268.5,27.7 L 268.5,27.7 L 268.5,27.7 L 268.6,27.8 L 268.6,27.8 L 268.6,27.8 L 268.6,27.8 L 268.6,27.8 L 268.6,27.9 L 268.6,27.9 L 268.6,27.9 L 268.6,27.9 L 268.3,27.9 Z\" style=\"fill:#000000;fill-rule:evenodd;fill-opacity:1;stroke:#000000;stroke-width:0.0px;stroke-linecap:butt;stroke-linejoin:miter;stroke-opacity:1;\"/>\n",
       "<path class=\"atom-100\" d=\"M 296.6,50.9 L 296.6,50.9 L 296.6,50.9 L 296.5,51.0 L 296.5,51.0 L 296.5,51.0 L 296.5,51.0 L 296.5,51.1 L 296.5,51.1 L 296.5,51.1 L 296.5,51.1 L 296.4,51.1 L 296.4,51.2 L 296.4,51.2 L 296.4,51.2 L 296.3,51.2 L 296.3,51.2 L 296.3,51.2 L 296.3,51.2 L 296.2,51.2 L 296.2,51.2 L 296.2,51.2 L 296.2,51.2 L 296.1,51.2 L 296.1,51.2 L 296.1,51.1 L 296.1,51.1 L 296.1,51.1 L 296.0,51.1 L 296.0,51.1 L 296.0,51.1 L 296.0,51.0 L 296.0,51.0 L 296.0,51.0 L 296.0,51.0 L 296.0,50.9 L 296.0,50.9 L 296.0,50.9 L 296.0,50.9 L 296.0,50.8 L 296.0,50.8 L 296.0,50.8 L 296.0,50.8 L 296.0,50.7 L 296.0,50.7 L 296.0,50.7 L 296.1,50.7 L 296.1,50.7 L 296.1,50.6 L 296.1,50.6 L 296.1,50.6 L 296.2,50.6 L 296.2,50.6 L 296.2,50.6 L 296.2,50.6 L 296.3,50.6 L 296.3,50.6 L 296.3,50.6 L 296.3,50.6 L 296.4,50.6 L 296.4,50.6 L 296.4,50.6 L 296.4,50.6 L 296.5,50.7 L 296.5,50.7 L 296.5,50.7 L 296.5,50.7 L 296.5,50.7 L 296.5,50.8 L 296.5,50.8 L 296.5,50.8 L 296.6,50.8 L 296.6,50.9 L 296.6,50.9 L 296.3,50.9 Z\" style=\"fill:#000000;fill-rule:evenodd;fill-opacity:1;stroke:#000000;stroke-width:0.0px;stroke-linecap:butt;stroke-linejoin:miter;stroke-opacity:1;\"/>\n",
       "<path class=\"atom-101\" d=\"M 187.9,7.7 L 187.9,7.7 L 187.9,7.7 L 187.9,7.7 L 187.9,7.8 L 187.9,7.8 L 187.9,7.8 L 187.9,7.8 L 187.9,7.9 L 187.9,7.9 L 187.8,7.9 L 187.8,7.9 L 187.8,7.9 L 187.8,7.9 L 187.8,7.9 L 187.7,7.9 L 187.7,8.0 L 187.7,8.0 L 187.7,8.0 L 187.6,8.0 L 187.6,8.0 L 187.6,8.0 L 187.6,7.9 L 187.5,7.9 L 187.5,7.9 L 187.5,7.9 L 187.5,7.9 L 187.4,7.9 L 187.4,7.9 L 187.4,7.8 L 187.4,7.8 L 187.4,7.8 L 187.4,7.8 L 187.4,7.7 L 187.4,7.7 L 187.3,7.7 L 187.3,7.7 L 187.3,7.6 L 187.3,7.6 L 187.4,7.6 L 187.4,7.6 L 187.4,7.5 L 187.4,7.5 L 187.4,7.5 L 187.4,7.5 L 187.4,7.5 L 187.4,7.4 L 187.5,7.4 L 187.5,7.4 L 187.5,7.4 L 187.5,7.4 L 187.6,7.4 L 187.6,7.4 L 187.6,7.4 L 187.6,7.4 L 187.7,7.4 L 187.7,7.4 L 187.7,7.4 L 187.7,7.4 L 187.8,7.4 L 187.8,7.4 L 187.8,7.4 L 187.8,7.4 L 187.8,7.4 L 187.9,7.4 L 187.9,7.5 L 187.9,7.5 L 187.9,7.5 L 187.9,7.5 L 187.9,7.6 L 187.9,7.6 L 187.9,7.6 L 187.9,7.6 L 187.9,7.7 L 187.6,7.7 Z\" style=\"fill:#000000;fill-rule:evenodd;fill-opacity:1;stroke:#000000;stroke-width:0.0px;stroke-linecap:butt;stroke-linejoin:miter;stroke-opacity:1;\"/>\n",
       "<path class=\"atom-102\" d=\"M 165.4,97.5 L 165.4,97.5 L 165.3,97.5 L 165.3,97.6 L 165.3,97.6 L 165.3,97.6 L 165.3,97.6 L 165.3,97.7 L 165.3,97.7 L 165.3,97.7 L 165.2,97.7 L 165.2,97.7 L 165.2,97.8 L 165.2,97.8 L 165.2,97.8 L 165.1,97.8 L 165.1,97.8 L 165.1,97.8 L 165.1,97.8 L 165.0,97.8 L 165.0,97.8 L 165.0,97.8 L 165.0,97.8 L 164.9,97.8 L 164.9,97.8 L 164.9,97.7 L 164.9,97.7 L 164.8,97.7 L 164.8,97.7 L 164.8,97.7 L 164.8,97.7 L 164.8,97.6 L 164.8,97.6 L 164.8,97.6 L 164.8,97.6 L 164.8,97.5 L 164.8,97.5 L 164.8,97.5 L 164.8,97.5 L 164.8,97.4 L 164.8,97.4 L 164.8,97.4 L 164.8,97.4 L 164.8,97.3 L 164.8,97.3 L 164.8,97.3 L 164.8,97.3 L 164.9,97.3 L 164.9,97.2 L 164.9,97.2 L 164.9,97.2 L 165.0,97.2 L 165.0,97.2 L 165.0,97.2 L 165.0,97.2 L 165.1,97.2 L 165.1,97.2 L 165.1,97.2 L 165.1,97.2 L 165.2,97.2 L 165.2,97.2 L 165.2,97.2 L 165.2,97.3 L 165.2,97.3 L 165.3,97.3 L 165.3,97.3 L 165.3,97.3 L 165.3,97.3 L 165.3,97.4 L 165.3,97.4 L 165.3,97.4 L 165.3,97.4 L 165.4,97.5 L 165.4,97.5 L 165.1,97.5 Z\" style=\"fill:#000000;fill-rule:evenodd;fill-opacity:1;stroke:#000000;stroke-width:0.0px;stroke-linecap:butt;stroke-linejoin:miter;stroke-opacity:1;\"/>\n",
       "<path class=\"atom-103\" d=\"M 187.7,24.8 L 187.7,24.8 L 187.7,24.9 L 187.7,24.9 L 187.7,24.9 L 187.7,24.9 L 187.7,25.0 L 187.6,25.0 L 187.6,25.0 L 187.6,25.0 L 187.6,25.0 L 187.6,25.0 L 187.6,25.1 L 187.5,25.1 L 187.5,25.1 L 187.5,25.1 L 187.5,25.1 L 187.4,25.1 L 187.4,25.1 L 187.4,25.1 L 187.4,25.1 L 187.3,25.1 L 187.3,25.1 L 187.3,25.1 L 187.3,25.1 L 187.2,25.1 L 187.2,25.0 L 187.2,25.0 L 187.2,25.0 L 187.2,25.0 L 187.1,25.0 L 187.1,24.9 L 187.1,24.9 L 187.1,24.9 L 187.1,24.9 L 187.1,24.8 L 187.1,24.8 L 187.1,24.8 L 187.1,24.8 L 187.1,24.7 L 187.1,24.7 L 187.1,24.7 L 187.1,24.7 L 187.1,24.6 L 187.2,24.6 L 187.2,24.6 L 187.2,24.6 L 187.2,24.6 L 187.2,24.6 L 187.3,24.5 L 187.3,24.5 L 187.3,24.5 L 187.3,24.5 L 187.4,24.5 L 187.4,24.5 L 187.4,24.5 L 187.4,24.5 L 187.5,24.5 L 187.5,24.5 L 187.5,24.5 L 187.5,24.5 L 187.6,24.5 L 187.6,24.6 L 187.6,24.6 L 187.6,24.6 L 187.6,24.6 L 187.6,24.6 L 187.7,24.7 L 187.7,24.7 L 187.7,24.7 L 187.7,24.7 L 187.7,24.8 L 187.7,24.8 L 187.7,24.8 L 187.4,24.8 Z\" style=\"fill:#000000;fill-rule:evenodd;fill-opacity:1;stroke:#000000;stroke-width:0.0px;stroke-linecap:butt;stroke-linejoin:miter;stroke-opacity:1;\"/>\n",
       "<path class=\"atom-104\" d=\"M 128.0,115.9 L 128.0,116.0 L 128.0,116.0 L 128.0,116.0 L 128.0,116.0 L 128.0,116.1 L 128.0,116.1 L 128.0,116.1 L 128.0,116.1 L 127.9,116.1 L 127.9,116.2 L 127.9,116.2 L 127.9,116.2 L 127.9,116.2 L 127.8,116.2 L 127.8,116.2 L 127.8,116.2 L 127.8,116.2 L 127.7,116.2 L 127.7,116.2 L 127.7,116.2 L 127.7,116.2 L 127.6,116.2 L 127.6,116.2 L 127.6,116.2 L 127.6,116.2 L 127.5,116.2 L 127.5,116.1 L 127.5,116.1 L 127.5,116.1 L 127.5,116.1 L 127.5,116.1 L 127.4,116.0 L 127.4,116.0 L 127.4,116.0 L 127.4,116.0 L 127.4,115.9 L 127.4,115.9 L 127.4,115.9 L 127.4,115.9 L 127.4,115.8 L 127.4,115.8 L 127.5,115.8 L 127.5,115.8 L 127.5,115.7 L 127.5,115.7 L 127.5,115.7 L 127.5,115.7 L 127.6,115.7 L 127.6,115.7 L 127.6,115.7 L 127.6,115.6 L 127.7,115.6 L 127.7,115.6 L 127.7,115.6 L 127.7,115.6 L 127.8,115.6 L 127.8,115.6 L 127.8,115.6 L 127.8,115.6 L 127.9,115.7 L 127.9,115.7 L 127.9,115.7 L 127.9,115.7 L 127.9,115.7 L 128.0,115.7 L 128.0,115.8 L 128.0,115.8 L 128.0,115.8 L 128.0,115.8 L 128.0,115.8 L 128.0,115.9 L 128.0,115.9 L 128.0,115.9 L 127.7,115.9 Z\" style=\"fill:#000000;fill-rule:evenodd;fill-opacity:1;stroke:#000000;stroke-width:0.0px;stroke-linecap:butt;stroke-linejoin:miter;stroke-opacity:1;\"/>\n",
       "</svg>"
      ],
      "text/plain": [
       "<IPython.core.display.SVG object>"
      ]
     },
     "execution_count": 45,
     "metadata": {},
     "output_type": "execute_result"
    }
   ],
   "source": [
    "big = \"{[][$1|2|]CC=CC[$1|2|], [$1]CC([<])C([<])C[$1], [>]S[$2|10|], [$2]S[$2]; [$1][H], [<][H], [>][H], [$2][H][]}|gauss(1500,500)|\"\n",
    "big_smiles_gen(big)"
   ]
  },
  {
   "cell_type": "code",
   "execution_count": 46,
   "id": "c3110f2e",
   "metadata": {},
   "outputs": [
    {
     "data": {
      "image/png": "[encoded data removed]",
      "text/plain": [
       "<Figure size 432x288 with 1 Axes>"
      ]
     },
     "metadata": {},
     "output_type": "display_data"
    }
   ],
   "source": [
    "big_smiles_graph(big)"
   ]
  },
  {
   "cell_type": "code",
   "execution_count": 47,
   "id": "efaf83b1",
   "metadata": {},
   "outputs": [
    {
     "data": {
      "image/png": "[encoded data removed]",
      "text/plain": [
       "<Figure size 432x288 with 1 Axes>"
      ]
     },
     "metadata": {},
     "output_type": "display_data"
    }
   ],
   "source": [
    "big_smiles_graph(big)"
   ]
  },
  {
   "cell_type": "markdown",
   "id": "c1ffe575",
   "metadata": {},
   "source": [
    "# Example stochastic polymer"
   ]
  },
  {
   "cell_type": "code",
   "execution_count": 48,
   "id": "33d353e3",
   "metadata": {},
   "outputs": [
    {
     "data": {
      "image/svg+xml": [
       "<svg xmlns=\"http://www.w3.org/2000/svg\" xmlns:rdkit=\"http://www.rdkit.org/xml\" xmlns:xlink=\"http://www.w3.org/1999/xlink\" version=\"1.1\" baseProfile=\"full\" xml:space=\"preserve\" width=\"450px\" height=\"150px\" viewBox=\"0 0 450 150\">\n",
       "<!-- END OF HEADER -->\n",
       "<rect style=\"opacity:1.0;fill:#FFFFFF;stroke:none\" width=\"450.0\" height=\"150.0\" x=\"0.0\" y=\"0.0\"> </rect>\n",
       "<path class=\"bond-0 atom-0 atom-1\" d=\"M 107.5,58.2 L 106.1,53.7\" style=\"fill:none;fill-rule:evenodd;stroke:#0000FF;stroke-width:2.0px;stroke-linecap:butt;stroke-linejoin:miter;stroke-opacity:1\"/>\n",
       "<path class=\"bond-0 atom-0 atom-1\" d=\"M 106.1,53.7 L 104.8,49.3\" style=\"fill:none;fill-rule:evenodd;stroke:#000000;stroke-width:2.0px;stroke-linecap:butt;stroke-linejoin:miter;stroke-opacity:1\"/>\n",
       "<path class=\"bond-1 atom-2 atom-3\" d=\"M 112.9,40.6 L 109.5,29.2\" style=\"fill:none;fill-rule:evenodd;stroke:#000000;stroke-width:2.0px;stroke-linecap:butt;stroke-linejoin:miter;stroke-opacity:1\"/>\n",
       "<path class=\"bond-2 atom-3 atom-4\" d=\"M 109.5,29.2 L 117.6,20.5\" style=\"fill:none;fill-rule:evenodd;stroke:#000000;stroke-width:2.0px;stroke-linecap:butt;stroke-linejoin:miter;stroke-opacity:1\"/>\n",
       "<path class=\"bond-2 atom-3 atom-4\" d=\"M 109.0,26.3 L 114.7,20.2\" style=\"fill:none;fill-rule:evenodd;stroke:#000000;stroke-width:2.0px;stroke-linecap:butt;stroke-linejoin:miter;stroke-opacity:1\"/>\n",
       "<path class=\"bond-3 atom-4 atom-5\" d=\"M 117.6,20.5 L 114.2,9.1\" style=\"fill:none;fill-rule:evenodd;stroke:#000000;stroke-width:2.0px;stroke-linecap:butt;stroke-linejoin:miter;stroke-opacity:1\"/>\n",
       "<path class=\"bond-4 atom-5 atom-6\" d=\"M 114.2,9.1 L 102.6,6.4\" style=\"fill:none;fill-rule:evenodd;stroke:#000000;stroke-width:2.0px;stroke-linecap:butt;stroke-linejoin:miter;stroke-opacity:1\"/>\n",
       "<path class=\"bond-4 atom-5 atom-6\" d=\"M 111.9,11.0 L 103.8,9.1\" style=\"fill:none;fill-rule:evenodd;stroke:#000000;stroke-width:2.0px;stroke-linecap:butt;stroke-linejoin:miter;stroke-opacity:1\"/>\n",
       "<path class=\"bond-5 atom-6 atom-7\" d=\"M 102.6,6.4 L 94.4,15.1\" style=\"fill:none;fill-rule:evenodd;stroke:#000000;stroke-width:2.0px;stroke-linecap:butt;stroke-linejoin:miter;stroke-opacity:1\"/>\n",
       "<path class=\"bond-6 atom-7 atom-8\" d=\"M 94.4,15.1 L 97.9,26.5\" style=\"fill:none;fill-rule:evenodd;stroke:#000000;stroke-width:2.0px;stroke-linecap:butt;stroke-linejoin:miter;stroke-opacity:1\"/>\n",
       "<path class=\"bond-6 atom-7 atom-8\" d=\"M 97.2,16.1 L 99.6,24.1\" style=\"fill:none;fill-rule:evenodd;stroke:#000000;stroke-width:2.0px;stroke-linecap:butt;stroke-linejoin:miter;stroke-opacity:1\"/>\n",
       "<path class=\"bond-7 atom-8 atom-3\" d=\"M 97.9,26.5 L 109.5,29.2\" style=\"fill:none;fill-rule:evenodd;stroke:#000000;stroke-width:2.0px;stroke-linecap:butt;stroke-linejoin:miter;stroke-opacity:1\"/>\n",
       "<path class=\"bond-8 atom-1 atom-2\" d=\"M 104.8,49.3 L 112.9,40.6\" style=\"fill:none;fill-rule:evenodd;stroke:#000000;stroke-width:2.0px;stroke-linecap:butt;stroke-linejoin:miter;stroke-opacity:1\"/>\n",
       "<path class=\"bond-9 atom-9 atom-10\" d=\"M 124.5,43.3 L 132.7,34.6\" style=\"fill:none;fill-rule:evenodd;stroke:#000000;stroke-width:2.0px;stroke-linecap:butt;stroke-linejoin:miter;stroke-opacity:1\"/>\n",
       "<path class=\"bond-10 atom-10 atom-11\" d=\"M 132.7,34.6 L 144.3,37.3\" style=\"fill:none;fill-rule:evenodd;stroke:#000000;stroke-width:2.0px;stroke-linecap:butt;stroke-linejoin:miter;stroke-opacity:1\"/>\n",
       "<path class=\"bond-10 atom-10 atom-11\" d=\"M 135.0,32.7 L 143.1,34.6\" style=\"fill:none;fill-rule:evenodd;stroke:#000000;stroke-width:2.0px;stroke-linecap:butt;stroke-linejoin:miter;stroke-opacity:1\"/>\n",
       "<path class=\"bond-11 atom-11 atom-12\" d=\"M 144.3,37.3 L 152.4,28.6\" style=\"fill:none;fill-rule:evenodd;stroke:#000000;stroke-width:2.0px;stroke-linecap:butt;stroke-linejoin:miter;stroke-opacity:1\"/>\n",
       "<path class=\"bond-12 atom-12 atom-13\" d=\"M 152.4,28.6 L 149.0,17.2\" style=\"fill:none;fill-rule:evenodd;stroke:#000000;stroke-width:2.0px;stroke-linecap:butt;stroke-linejoin:miter;stroke-opacity:1\"/>\n",
       "<path class=\"bond-12 atom-12 atom-13\" d=\"M 149.6,27.6 L 147.2,19.6\" style=\"fill:none;fill-rule:evenodd;stroke:#000000;stroke-width:2.0px;stroke-linecap:butt;stroke-linejoin:miter;stroke-opacity:1\"/>\n",
       "<path class=\"bond-13 atom-13 atom-14\" d=\"M 149.0,17.2 L 137.4,14.5\" style=\"fill:none;fill-rule:evenodd;stroke:#000000;stroke-width:2.0px;stroke-linecap:butt;stroke-linejoin:miter;stroke-opacity:1\"/>\n",
       "<path class=\"bond-14 atom-14 atom-15\" d=\"M 137.4,14.5 L 129.2,23.2\" style=\"fill:none;fill-rule:evenodd;stroke:#000000;stroke-width:2.0px;stroke-linecap:butt;stroke-linejoin:miter;stroke-opacity:1\"/>\n",
       "<path class=\"bond-14 atom-14 atom-15\" d=\"M 137.9,17.4 L 132.2,23.5\" style=\"fill:none;fill-rule:evenodd;stroke:#000000;stroke-width:2.0px;stroke-linecap:butt;stroke-linejoin:miter;stroke-opacity:1\"/>\n",
       "<path class=\"bond-15 atom-15 atom-10\" d=\"M 129.2,23.2 L 132.7,34.6\" style=\"fill:none;fill-rule:evenodd;stroke:#000000;stroke-width:2.0px;stroke-linecap:butt;stroke-linejoin:miter;stroke-opacity:1\"/>\n",
       "<path class=\"bond-16 atom-2 atom-9\" d=\"M 112.9,40.6 L 124.5,43.3\" style=\"fill:none;fill-rule:evenodd;stroke:#000000;stroke-width:2.0px;stroke-linecap:butt;stroke-linejoin:miter;stroke-opacity:1\"/>\n",
       "<path class=\"bond-17 atom-16 atom-17\" d=\"M 128.0,54.7 L 139.6,57.4\" style=\"fill:none;fill-rule:evenodd;stroke:#000000;stroke-width:2.0px;stroke-linecap:butt;stroke-linejoin:miter;stroke-opacity:1\"/>\n",
       "<path class=\"bond-18 atom-9 atom-16\" d=\"M 124.5,43.3 L 128.0,54.7\" style=\"fill:none;fill-rule:evenodd;stroke:#000000;stroke-width:2.0px;stroke-linecap:butt;stroke-linejoin:miter;stroke-opacity:1\"/>\n",
       "<path class=\"bond-19 atom-18 atom-19\" d=\"M 143.0,68.8 L 134.9,77.5\" style=\"fill:none;fill-rule:evenodd;stroke:#000000;stroke-width:2.0px;stroke-linecap:butt;stroke-linejoin:miter;stroke-opacity:1\"/>\n",
       "<path class=\"bond-20 atom-19 atom-20\" d=\"M 134.9,77.5 L 123.3,74.8\" style=\"fill:none;fill-rule:evenodd;stroke:#000000;stroke-width:2.0px;stroke-linecap:butt;stroke-linejoin:miter;stroke-opacity:1\"/>\n",
       "<path class=\"bond-20 atom-19 atom-20\" d=\"M 132.6,79.4 L 124.5,77.5\" style=\"fill:none;fill-rule:evenodd;stroke:#000000;stroke-width:2.0px;stroke-linecap:butt;stroke-linejoin:miter;stroke-opacity:1\"/>\n",
       "<path class=\"bond-21 atom-20 atom-21\" d=\"M 123.3,74.8 L 115.1,83.5\" style=\"fill:none;fill-rule:evenodd;stroke:#000000;stroke-width:2.0px;stroke-linecap:butt;stroke-linejoin:miter;stroke-opacity:1\"/>\n",
       "<path class=\"bond-22 atom-21 atom-22\" d=\"M 115.1,83.5 L 118.6,94.9\" style=\"fill:none;fill-rule:evenodd;stroke:#000000;stroke-width:2.0px;stroke-linecap:butt;stroke-linejoin:miter;stroke-opacity:1\"/>\n",
       "<path class=\"bond-22 atom-21 atom-22\" d=\"M 117.9,84.5 L 120.4,92.5\" style=\"fill:none;fill-rule:evenodd;stroke:#000000;stroke-width:2.0px;stroke-linecap:butt;stroke-linejoin:miter;stroke-opacity:1\"/>\n",
       "<path class=\"bond-23 atom-22 atom-23\" d=\"M 118.6,94.9 L 130.2,97.6\" style=\"fill:none;fill-rule:evenodd;stroke:#000000;stroke-width:2.0px;stroke-linecap:butt;stroke-linejoin:miter;stroke-opacity:1\"/>\n",
       "<path class=\"bond-24 atom-23 atom-24\" d=\"M 130.2,97.6 L 138.3,88.9\" style=\"fill:none;fill-rule:evenodd;stroke:#000000;stroke-width:2.0px;stroke-linecap:butt;stroke-linejoin:miter;stroke-opacity:1\"/>\n",
       "<path class=\"bond-24 atom-23 atom-24\" d=\"M 129.7,94.7 L 135.4,88.6\" style=\"fill:none;fill-rule:evenodd;stroke:#000000;stroke-width:2.0px;stroke-linecap:butt;stroke-linejoin:miter;stroke-opacity:1\"/>\n",
       "<path class=\"bond-25 atom-24 atom-19\" d=\"M 138.3,88.9 L 134.9,77.5\" style=\"fill:none;fill-rule:evenodd;stroke:#000000;stroke-width:2.0px;stroke-linecap:butt;stroke-linejoin:miter;stroke-opacity:1\"/>\n",
       "<path class=\"bond-26 atom-17 atom-18\" d=\"M 139.6,57.4 L 143.0,68.8\" style=\"fill:none;fill-rule:evenodd;stroke:#000000;stroke-width:2.0px;stroke-linecap:butt;stroke-linejoin:miter;stroke-opacity:1\"/>\n",
       "<path class=\"bond-27 atom-25 atom-26\" d=\"M 154.6,71.5 L 158.1,82.9\" style=\"fill:none;fill-rule:evenodd;stroke:#000000;stroke-width:2.0px;stroke-linecap:butt;stroke-linejoin:miter;stroke-opacity:1\"/>\n",
       "<path class=\"bond-28 atom-26 atom-27\" d=\"M 158.1,82.9 L 169.7,85.6\" style=\"fill:none;fill-rule:evenodd;stroke:#000000;stroke-width:2.0px;stroke-linecap:butt;stroke-linejoin:miter;stroke-opacity:1\"/>\n",
       "<path class=\"bond-29 atom-27 atom-28\" d=\"M 169.7,85.6 L 173.1,97.0\" style=\"fill:none;fill-rule:evenodd;stroke:#000000;stroke-width:2.0px;stroke-linecap:butt;stroke-linejoin:miter;stroke-opacity:1\"/>\n",
       "<path class=\"bond-30 atom-27 atom-29\" d=\"M 169.7,85.6 L 177.8,76.9\" style=\"fill:none;fill-rule:evenodd;stroke:#000000;stroke-width:2.0px;stroke-linecap:butt;stroke-linejoin:miter;stroke-opacity:1\"/>\n",
       "<path class=\"bond-31 atom-29 atom-30\" d=\"M 177.8,76.9 L 189.4,79.7\" style=\"fill:none;fill-rule:evenodd;stroke:#000000;stroke-width:2.0px;stroke-linecap:butt;stroke-linejoin:miter;stroke-opacity:1\"/>\n",
       "<path class=\"bond-32 atom-18 atom-25\" d=\"M 143.0,68.8 L 154.6,71.5\" style=\"fill:none;fill-rule:evenodd;stroke:#000000;stroke-width:2.0px;stroke-linecap:butt;stroke-linejoin:miter;stroke-opacity:1\"/>\n",
       "<path class=\"bond-33 atom-31 atom-32\" d=\"M 209.2,73.7 L 197.6,71.0\" style=\"fill:none;fill-rule:evenodd;stroke:#000000;stroke-width:2.0px;stroke-linecap:butt;stroke-linejoin:miter;stroke-opacity:1\"/>\n",
       "<path class=\"bond-34 atom-30 atom-32\" d=\"M 189.4,79.7 L 197.6,71.0\" style=\"fill:none;fill-rule:evenodd;stroke:#000000;stroke-width:2.0px;stroke-linecap:butt;stroke-linejoin:miter;stroke-opacity:1\"/>\n",
       "<path class=\"bond-35 atom-33 atom-34\" d=\"M 217.3,65.0 L 228.9,67.7\" style=\"fill:none;fill-rule:evenodd;stroke:#000000;stroke-width:2.0px;stroke-linecap:butt;stroke-linejoin:miter;stroke-opacity:1\"/>\n",
       "<path class=\"bond-36 atom-31 atom-33\" d=\"M 209.2,73.7 L 217.3,65.0\" style=\"fill:none;fill-rule:evenodd;stroke:#000000;stroke-width:2.0px;stroke-linecap:butt;stroke-linejoin:miter;stroke-opacity:1\"/>\n",
       "<path class=\"bond-37 atom-35 atom-36\" d=\"M 237.1,59.0 L 248.7,61.7\" style=\"fill:none;fill-rule:evenodd;stroke:#000000;stroke-width:2.0px;stroke-linecap:butt;stroke-linejoin:miter;stroke-opacity:1\"/>\n",
       "<path class=\"bond-38 atom-34 atom-35\" d=\"M 228.9,67.7 L 237.1,59.0\" style=\"fill:none;fill-rule:evenodd;stroke:#000000;stroke-width:2.0px;stroke-linecap:butt;stroke-linejoin:miter;stroke-opacity:1\"/>\n",
       "<path class=\"bond-39 atom-37 atom-38\" d=\"M 268.4,55.7 L 256.8,53.0\" style=\"fill:none;fill-rule:evenodd;stroke:#000000;stroke-width:2.0px;stroke-linecap:butt;stroke-linejoin:miter;stroke-opacity:1\"/>\n",
       "<path class=\"bond-40 atom-36 atom-38\" d=\"M 248.7,61.7 L 256.8,53.0\" style=\"fill:none;fill-rule:evenodd;stroke:#000000;stroke-width:2.0px;stroke-linecap:butt;stroke-linejoin:miter;stroke-opacity:1\"/>\n",
       "<path class=\"bond-41 atom-39 atom-40\" d=\"M 288.2,49.7 L 276.6,47.0\" style=\"fill:none;fill-rule:evenodd;stroke:#000000;stroke-width:2.0px;stroke-linecap:butt;stroke-linejoin:miter;stroke-opacity:1\"/>\n",
       "<path class=\"bond-42 atom-37 atom-40\" d=\"M 268.4,55.7 L 276.6,47.0\" style=\"fill:none;fill-rule:evenodd;stroke:#000000;stroke-width:2.0px;stroke-linecap:butt;stroke-linejoin:miter;stroke-opacity:1\"/>\n",
       "<path class=\"bond-43 atom-41 atom-42\" d=\"M 296.3,41.0 L 307.9,43.8\" style=\"fill:none;fill-rule:evenodd;stroke:#000000;stroke-width:2.0px;stroke-linecap:butt;stroke-linejoin:miter;stroke-opacity:1\"/>\n",
       "<path class=\"bond-44 atom-39 atom-41\" d=\"M 288.2,49.7 L 296.3,41.0\" style=\"fill:none;fill-rule:evenodd;stroke:#000000;stroke-width:2.0px;stroke-linecap:butt;stroke-linejoin:miter;stroke-opacity:1\"/>\n",
       "<path class=\"bond-45 atom-43 atom-44\" d=\"M 316.1,35.1 L 327.7,37.8\" style=\"fill:none;fill-rule:evenodd;stroke:#000000;stroke-width:2.0px;stroke-linecap:butt;stroke-linejoin:miter;stroke-opacity:1\"/>\n",
       "<path class=\"bond-46 atom-42 atom-43\" d=\"M 307.9,43.8 L 316.1,35.1\" style=\"fill:none;fill-rule:evenodd;stroke:#000000;stroke-width:2.0px;stroke-linecap:butt;stroke-linejoin:miter;stroke-opacity:1\"/>\n",
       "<path class=\"bond-47 atom-45 atom-46\" d=\"M 184.7,99.7 L 188.2,111.1\" style=\"fill:none;fill-rule:evenodd;stroke:#000000;stroke-width:2.0px;stroke-linecap:butt;stroke-linejoin:miter;stroke-opacity:1\"/>\n",
       "<path class=\"bond-48 atom-28 atom-45\" d=\"M 173.1,97.0 L 184.7,99.7\" style=\"fill:none;fill-rule:evenodd;stroke:#000000;stroke-width:2.0px;stroke-linecap:butt;stroke-linejoin:miter;stroke-opacity:1\"/>\n",
       "<path class=\"bond-49 atom-47 atom-48\" d=\"M 203.3,125.3 L 199.8,113.9\" style=\"fill:none;fill-rule:evenodd;stroke:#000000;stroke-width:2.0px;stroke-linecap:butt;stroke-linejoin:miter;stroke-opacity:1\"/>\n",
       "<path class=\"bond-50 atom-46 atom-48\" d=\"M 188.2,111.1 L 199.8,113.9\" style=\"fill:none;fill-rule:evenodd;stroke:#000000;stroke-width:2.0px;stroke-linecap:butt;stroke-linejoin:miter;stroke-opacity:1\"/>\n",
       "<path class=\"bond-51 atom-49 atom-50\" d=\"M 335.8,29.1 L 340.5,30.2\" style=\"fill:none;fill-rule:evenodd;stroke:#000000;stroke-width:2.0px;stroke-linecap:butt;stroke-linejoin:miter;stroke-opacity:1\"/>\n",
       "<path class=\"bond-51 atom-49 atom-50\" d=\"M 340.5,30.2 L 345.1,31.2\" style=\"fill:none;fill-rule:evenodd;stroke:#FF0000;stroke-width:2.0px;stroke-linecap:butt;stroke-linejoin:miter;stroke-opacity:1\"/>\n",
       "<path class=\"bond-52 atom-50 atom-51\" d=\"M 349.8,29.3 L 352.7,26.2\" style=\"fill:none;fill-rule:evenodd;stroke:#FF0000;stroke-width:2.0px;stroke-linecap:butt;stroke-linejoin:miter;stroke-opacity:1\"/>\n",
       "<path class=\"bond-52 atom-50 atom-51\" d=\"M 352.7,26.2 L 355.6,23.1\" style=\"fill:none;fill-rule:evenodd;stroke:#000000;stroke-width:2.0px;stroke-linecap:butt;stroke-linejoin:miter;stroke-opacity:1\"/>\n",
       "<path class=\"bond-53 atom-44 atom-49\" d=\"M 327.7,37.8 L 335.8,29.1\" style=\"fill:none;fill-rule:evenodd;stroke:#000000;stroke-width:2.0px;stroke-linecap:butt;stroke-linejoin:miter;stroke-opacity:1\"/>\n",
       "<path class=\"bond-54 atom-52 atom-53\" d=\"M 214.9,128.0 L 216.2,132.4\" style=\"fill:none;fill-rule:evenodd;stroke:#000000;stroke-width:2.0px;stroke-linecap:butt;stroke-linejoin:miter;stroke-opacity:1\"/>\n",
       "<path class=\"bond-54 atom-52 atom-53\" d=\"M 216.2,132.4 L 217.6,136.9\" style=\"fill:none;fill-rule:evenodd;stroke:#0000FF;stroke-width:2.0px;stroke-linecap:butt;stroke-linejoin:miter;stroke-opacity:1\"/>\n",
       "<path class=\"bond-55 atom-47 atom-52\" d=\"M 203.3,125.3 L 214.9,128.0\" style=\"fill:none;fill-rule:evenodd;stroke:#000000;stroke-width:2.0px;stroke-linecap:butt;stroke-linejoin:miter;stroke-opacity:1\"/>\n",
       "<path class=\"atom-0\" d=\"M 107.3 58.6 L 108.7 60.8 Q 108.8 61.0, 109.0 61.4 Q 109.3 61.8, 109.3 61.9 L 109.3 58.6 L 109.8 58.6 L 109.8 62.8 L 109.3 62.8 L 107.8 60.3 Q 107.6 60.1, 107.4 59.7 Q 107.2 59.4, 107.2 59.3 L 107.2 62.8 L 106.6 62.8 L 106.6 58.6 L 107.3 58.6 \" fill=\"#0000FF\"/>\n",
       "<path class=\"atom-0\" d=\"M 110.3 58.6 L 110.9 58.6 L 110.9 60.4 L 113.1 60.4 L 113.1 58.6 L 113.7 58.6 L 113.7 62.8 L 113.1 62.8 L 113.1 60.8 L 110.9 60.8 L 110.9 62.8 L 110.3 62.8 L 110.3 58.6 \" fill=\"#0000FF\"/>\n",
       "<path class=\"atom-0\" d=\"M 114.2 62.7 Q 114.3 62.4, 114.5 62.2 Q 114.8 62.1, 115.1 62.1 Q 115.5 62.1, 115.8 62.3 Q 116.0 62.6, 116.0 63.0 Q 116.0 63.4, 115.7 63.8 Q 115.4 64.2, 114.8 64.6 L 116.1 64.6 L 116.1 64.9 L 114.2 64.9 L 114.2 64.7 Q 114.7 64.3, 115.0 64.0 Q 115.3 63.7, 115.5 63.5 Q 115.6 63.2, 115.6 63.0 Q 115.6 62.7, 115.5 62.6 Q 115.4 62.4, 115.1 62.4 Q 114.9 62.4, 114.7 62.5 Q 114.6 62.6, 114.5 62.8 L 114.2 62.7 \" fill=\"#0000FF\"/>\n",
       "<path class=\"atom-50\" d=\"M 345.5 31.8 Q 345.5 30.8, 346.0 30.2 Q 346.5 29.6, 347.4 29.6 Q 348.4 29.6, 348.9 30.2 Q 349.4 30.8, 349.4 31.8 Q 349.4 32.8, 348.9 33.4 Q 348.4 34.0, 347.4 34.0 Q 346.5 34.0, 346.0 33.4 Q 345.5 32.8, 345.5 31.8 M 347.4 33.5 Q 348.1 33.5, 348.4 33.1 Q 348.8 32.7, 348.8 31.8 Q 348.8 31.0, 348.4 30.5 Q 348.1 30.1, 347.4 30.1 Q 346.8 30.1, 346.4 30.5 Q 346.1 31.0, 346.1 31.8 Q 346.1 32.7, 346.4 33.1 Q 346.8 33.5, 347.4 33.5 \" fill=\"#FF0000\"/>\n",
       "<path class=\"atom-53\" d=\"M 217.4 137.2 L 218.8 139.5 Q 218.9 139.7, 219.1 140.1 Q 219.3 140.5, 219.4 140.5 L 219.4 137.2 L 219.9 137.2 L 219.9 141.5 L 219.3 141.5 L 217.8 139.0 Q 217.7 138.7, 217.5 138.4 Q 217.3 138.1, 217.3 138.0 L 217.3 141.5 L 216.7 141.5 L 216.7 137.2 L 217.4 137.2 \" fill=\"#0000FF\"/>\n",
       "<path class=\"atom-53\" d=\"M 220.4 137.2 L 221.0 137.2 L 221.0 139.1 L 223.2 139.1 L 223.2 137.2 L 223.7 137.2 L 223.7 141.5 L 223.2 141.5 L 223.2 139.5 L 221.0 139.5 L 221.0 141.5 L 220.4 141.5 L 220.4 137.2 \" fill=\"#0000FF\"/>\n",
       "<path class=\"atom-53\" d=\"M 224.3 141.3 Q 224.4 141.1, 224.6 140.9 Q 224.9 140.8, 225.2 140.8 Q 225.6 140.8, 225.9 141.0 Q 226.1 141.2, 226.1 141.7 Q 226.1 142.1, 225.8 142.5 Q 225.5 142.8, 224.9 143.3 L 226.1 143.3 L 226.1 143.6 L 224.3 143.6 L 224.3 143.4 Q 224.8 143.0, 225.1 142.7 Q 225.4 142.4, 225.6 142.2 Q 225.7 141.9, 225.7 141.7 Q 225.7 141.4, 225.6 141.3 Q 225.4 141.1, 225.2 141.1 Q 225.0 141.1, 224.8 141.2 Q 224.7 141.3, 224.6 141.5 L 224.3 141.3 \" fill=\"#0000FF\"/>\n",
       "</svg>"
      ],
      "text/plain": [
       "<IPython.core.display.SVG object>"
      ]
     },
     "execution_count": 48,
     "metadata": {},
     "output_type": "execute_result"
    }
   ],
   "source": [
    "big = \"NC{[$] [$|5|]CC[$|5|],[$]C([$])c1ccccc1, [$|0.5|]CCC(C[$|0.1|])CC[$|0.5|]; [$]COC [$]}|uniform(500,1000)|CN\"\n",
    "big_smiles_gen(big)"
   ]
  },
  {
   "cell_type": "code",
   "execution_count": 49,
   "id": "950f5c7b",
   "metadata": {},
   "outputs": [
    {
     "data": {
      "image/svg+xml": [
       "<svg xmlns=\"http://www.w3.org/2000/svg\" xmlns:rdkit=\"http://www.rdkit.org/xml\" xmlns:xlink=\"http://www.w3.org/1999/xlink\" version=\"1.1\" baseProfile=\"full\" xml:space=\"preserve\" width=\"450px\" height=\"150px\" viewBox=\"0 0 450 150\">\n",
       "<!-- END OF HEADER -->\n",
       "<rect style=\"opacity:1.0;fill:#FFFFFF;stroke:none\" width=\"450.0\" height=\"150.0\" x=\"0.0\" y=\"0.0\"> </rect>\n",
       "<path class=\"bond-0 atom-0 atom-1\" d=\"M 386.9,11.1 L 386.3,14.9\" style=\"fill:none;fill-rule:evenodd;stroke:#0000FF;stroke-width:2.0px;stroke-linecap:butt;stroke-linejoin:miter;stroke-opacity:1\"/>\n",
       "<path class=\"bond-0 atom-0 atom-1\" d=\"M 386.3,14.9 L 385.6,18.6\" style=\"fill:none;fill-rule:evenodd;stroke:#000000;stroke-width:2.0px;stroke-linecap:butt;stroke-linejoin:miter;stroke-opacity:1\"/>\n",
       "<path class=\"bond-1 atom-2 atom-3\" d=\"M 374.2,32.1 L 376.0,22.1\" style=\"fill:none;fill-rule:evenodd;stroke:#000000;stroke-width:2.0px;stroke-linecap:butt;stroke-linejoin:miter;stroke-opacity:1\"/>\n",
       "<path class=\"bond-2 atom-1 atom-3\" d=\"M 385.6,18.6 L 376.0,22.1\" style=\"fill:none;fill-rule:evenodd;stroke:#000000;stroke-width:2.0px;stroke-linecap:butt;stroke-linejoin:miter;stroke-opacity:1\"/>\n",
       "<path class=\"bond-3 atom-4 atom-5\" d=\"M 362.8,45.6 L 364.6,35.6\" style=\"fill:none;fill-rule:evenodd;stroke:#000000;stroke-width:2.0px;stroke-linecap:butt;stroke-linejoin:miter;stroke-opacity:1\"/>\n",
       "<path class=\"bond-4 atom-2 atom-5\" d=\"M 374.2,32.1 L 364.6,35.6\" style=\"fill:none;fill-rule:evenodd;stroke:#000000;stroke-width:2.0px;stroke-linecap:butt;stroke-linejoin:miter;stroke-opacity:1\"/>\n",
       "<path class=\"bond-5 atom-6 atom-7\" d=\"M 353.2,49.1 L 351.4,59.1\" style=\"fill:none;fill-rule:evenodd;stroke:#000000;stroke-width:2.0px;stroke-linecap:butt;stroke-linejoin:miter;stroke-opacity:1\"/>\n",
       "<path class=\"bond-6 atom-4 atom-6\" d=\"M 362.8,45.6 L 353.2,49.1\" style=\"fill:none;fill-rule:evenodd;stroke:#000000;stroke-width:2.0px;stroke-linecap:butt;stroke-linejoin:miter;stroke-opacity:1\"/>\n",
       "<path class=\"bond-7 atom-8 atom-9\" d=\"M 336.4,92.7 L 328.6,86.1\" style=\"fill:none;fill-rule:evenodd;stroke:#000000;stroke-width:2.0px;stroke-linecap:butt;stroke-linejoin:miter;stroke-opacity:1\"/>\n",
       "<path class=\"bond-8 atom-9 atom-10\" d=\"M 328.6,86.1 L 330.4,76.1\" style=\"fill:none;fill-rule:evenodd;stroke:#000000;stroke-width:2.0px;stroke-linecap:butt;stroke-linejoin:miter;stroke-opacity:1\"/>\n",
       "<path class=\"bond-9 atom-10 atom-11\" d=\"M 330.4,76.1 L 322.6,69.5\" style=\"fill:none;fill-rule:evenodd;stroke:#000000;stroke-width:2.0px;stroke-linecap:butt;stroke-linejoin:miter;stroke-opacity:1\"/>\n",
       "<path class=\"bond-10 atom-10 atom-12\" d=\"M 330.4,76.1 L 340.0,72.6\" style=\"fill:none;fill-rule:evenodd;stroke:#000000;stroke-width:2.0px;stroke-linecap:butt;stroke-linejoin:miter;stroke-opacity:1\"/>\n",
       "<path class=\"bond-11 atom-12 atom-13\" d=\"M 340.0,72.6 L 341.8,62.6\" style=\"fill:none;fill-rule:evenodd;stroke:#000000;stroke-width:2.0px;stroke-linecap:butt;stroke-linejoin:miter;stroke-opacity:1\"/>\n",
       "<path class=\"bond-12 atom-7 atom-13\" d=\"M 351.4,59.1 L 341.8,62.6\" style=\"fill:none;fill-rule:evenodd;stroke:#000000;stroke-width:2.0px;stroke-linecap:butt;stroke-linejoin:miter;stroke-opacity:1\"/>\n",
       "<path class=\"bond-13 atom-14 atom-15\" d=\"M 334.5,102.7 L 342.3,109.3\" style=\"fill:none;fill-rule:evenodd;stroke:#000000;stroke-width:2.0px;stroke-linecap:butt;stroke-linejoin:miter;stroke-opacity:1\"/>\n",
       "<path class=\"bond-14 atom-8 atom-14\" d=\"M 336.4,92.7 L 334.5,102.7\" style=\"fill:none;fill-rule:evenodd;stroke:#000000;stroke-width:2.0px;stroke-linecap:butt;stroke-linejoin:miter;stroke-opacity:1\"/>\n",
       "<path class=\"bond-15 atom-16 atom-17\" d=\"M 340.5,119.3 L 348.3,125.9\" style=\"fill:none;fill-rule:evenodd;stroke:#000000;stroke-width:2.0px;stroke-linecap:butt;stroke-linejoin:miter;stroke-opacity:1\"/>\n",
       "<path class=\"bond-16 atom-17 atom-18\" d=\"M 348.3,125.9 L 346.5,136.0\" style=\"fill:none;fill-rule:evenodd;stroke:#000000;stroke-width:2.0px;stroke-linecap:butt;stroke-linejoin:miter;stroke-opacity:1\"/>\n",
       "<path class=\"bond-16 atom-17 atom-18\" d=\"M 350.1,127.8 L 348.8,134.8\" style=\"fill:none;fill-rule:evenodd;stroke:#000000;stroke-width:2.0px;stroke-linecap:butt;stroke-linejoin:miter;stroke-opacity:1\"/>\n",
       "<path class=\"bond-17 atom-18 atom-19\" d=\"M 346.5,136.0 L 354.3,142.5\" style=\"fill:none;fill-rule:evenodd;stroke:#000000;stroke-width:2.0px;stroke-linecap:butt;stroke-linejoin:miter;stroke-opacity:1\"/>\n",
       "<path class=\"bond-18 atom-19 atom-20\" d=\"M 354.3,142.5 L 363.9,139.1\" style=\"fill:none;fill-rule:evenodd;stroke:#000000;stroke-width:2.0px;stroke-linecap:butt;stroke-linejoin:miter;stroke-opacity:1\"/>\n",
       "<path class=\"bond-18 atom-19 atom-20\" d=\"M 355.0,140.1 L 361.8,137.7\" style=\"fill:none;fill-rule:evenodd;stroke:#000000;stroke-width:2.0px;stroke-linecap:butt;stroke-linejoin:miter;stroke-opacity:1\"/>\n",
       "<path class=\"bond-19 atom-20 atom-21\" d=\"M 363.9,139.1 L 365.7,129.1\" style=\"fill:none;fill-rule:evenodd;stroke:#000000;stroke-width:2.0px;stroke-linecap:butt;stroke-linejoin:miter;stroke-opacity:1\"/>\n",
       "<path class=\"bond-20 atom-21 atom-22\" d=\"M 365.7,129.1 L 357.9,122.5\" style=\"fill:none;fill-rule:evenodd;stroke:#000000;stroke-width:2.0px;stroke-linecap:butt;stroke-linejoin:miter;stroke-opacity:1\"/>\n",
       "<path class=\"bond-20 atom-21 atom-22\" d=\"M 363.2,129.6 L 357.8,125.0\" style=\"fill:none;fill-rule:evenodd;stroke:#000000;stroke-width:2.0px;stroke-linecap:butt;stroke-linejoin:miter;stroke-opacity:1\"/>\n",
       "<path class=\"bond-21 atom-22 atom-17\" d=\"M 357.9,122.5 L 348.3,125.9\" style=\"fill:none;fill-rule:evenodd;stroke:#000000;stroke-width:2.0px;stroke-linecap:butt;stroke-linejoin:miter;stroke-opacity:1\"/>\n",
       "<path class=\"bond-22 atom-15 atom-16\" d=\"M 342.3,109.3 L 340.5,119.3\" style=\"fill:none;fill-rule:evenodd;stroke:#000000;stroke-width:2.0px;stroke-linecap:butt;stroke-linejoin:miter;stroke-opacity:1\"/>\n",
       "<path class=\"bond-23 atom-23 atom-24\" d=\"M 323.1,116.2 L 330.9,122.8\" style=\"fill:none;fill-rule:evenodd;stroke:#000000;stroke-width:2.0px;stroke-linecap:butt;stroke-linejoin:miter;stroke-opacity:1\"/>\n",
       "<path class=\"bond-24 atom-16 atom-24\" d=\"M 340.5,119.3 L 330.9,122.8\" style=\"fill:none;fill-rule:evenodd;stroke:#000000;stroke-width:2.0px;stroke-linecap:butt;stroke-linejoin:miter;stroke-opacity:1\"/>\n",
       "<path class=\"bond-25 atom-25 atom-26\" d=\"M 313.5,119.7 L 305.8,113.1\" style=\"fill:none;fill-rule:evenodd;stroke:#000000;stroke-width:2.0px;stroke-linecap:butt;stroke-linejoin:miter;stroke-opacity:1\"/>\n",
       "<path class=\"bond-26 atom-23 atom-25\" d=\"M 323.1,116.2 L 313.5,119.7\" style=\"fill:none;fill-rule:evenodd;stroke:#000000;stroke-width:2.0px;stroke-linecap:butt;stroke-linejoin:miter;stroke-opacity:1\"/>\n",
       "<path class=\"bond-27 atom-27 atom-28\" d=\"M 296.2,116.5 L 288.4,110.0\" style=\"fill:none;fill-rule:evenodd;stroke:#000000;stroke-width:2.0px;stroke-linecap:butt;stroke-linejoin:miter;stroke-opacity:1\"/>\n",
       "<path class=\"bond-28 atom-26 atom-27\" d=\"M 305.8,113.1 L 296.2,116.5\" style=\"fill:none;fill-rule:evenodd;stroke:#000000;stroke-width:2.0px;stroke-linecap:butt;stroke-linejoin:miter;stroke-opacity:1\"/>\n",
       "<path class=\"bond-29 atom-29 atom-30\" d=\"M 278.8,113.4 L 277.0,123.4\" style=\"fill:none;fill-rule:evenodd;stroke:#000000;stroke-width:2.0px;stroke-linecap:butt;stroke-linejoin:miter;stroke-opacity:1\"/>\n",
       "<path class=\"bond-30 atom-30 atom-31\" d=\"M 277.0,123.4 L 267.4,126.9\" style=\"fill:none;fill-rule:evenodd;stroke:#000000;stroke-width:2.0px;stroke-linecap:butt;stroke-linejoin:miter;stroke-opacity:1\"/>\n",
       "<path class=\"bond-30 atom-30 atom-31\" d=\"M 276.2,125.9 L 269.5,128.3\" style=\"fill:none;fill-rule:evenodd;stroke:#000000;stroke-width:2.0px;stroke-linecap:butt;stroke-linejoin:miter;stroke-opacity:1\"/>\n",
       "<path class=\"bond-31 atom-31 atom-32\" d=\"M 267.4,126.9 L 265.6,136.9\" style=\"fill:none;fill-rule:evenodd;stroke:#000000;stroke-width:2.0px;stroke-linecap:butt;stroke-linejoin:miter;stroke-opacity:1\"/>\n",
       "<path class=\"bond-32 atom-32 atom-33\" d=\"M 265.6,136.9 L 273.4,143.5\" style=\"fill:none;fill-rule:evenodd;stroke:#000000;stroke-width:2.0px;stroke-linecap:butt;stroke-linejoin:miter;stroke-opacity:1\"/>\n",
       "<path class=\"bond-32 atom-32 atom-33\" d=\"M 268.1,136.4 L 273.5,141.0\" style=\"fill:none;fill-rule:evenodd;stroke:#000000;stroke-width:2.0px;stroke-linecap:butt;stroke-linejoin:miter;stroke-opacity:1\"/>\n",
       "<path class=\"bond-33 atom-33 atom-34\" d=\"M 273.4,143.5 L 283.0,140.1\" style=\"fill:none;fill-rule:evenodd;stroke:#000000;stroke-width:2.0px;stroke-linecap:butt;stroke-linejoin:miter;stroke-opacity:1\"/>\n",
       "<path class=\"bond-34 atom-34 atom-35\" d=\"M 283.0,140.1 L 284.8,130.0\" style=\"fill:none;fill-rule:evenodd;stroke:#000000;stroke-width:2.0px;stroke-linecap:butt;stroke-linejoin:miter;stroke-opacity:1\"/>\n",
       "<path class=\"bond-34 atom-34 atom-35\" d=\"M 281.2,138.2 L 282.5,131.2\" style=\"fill:none;fill-rule:evenodd;stroke:#000000;stroke-width:2.0px;stroke-linecap:butt;stroke-linejoin:miter;stroke-opacity:1\"/>\n",
       "<path class=\"bond-35 atom-35 atom-30\" d=\"M 284.8,130.0 L 277.0,123.4\" style=\"fill:none;fill-rule:evenodd;stroke:#000000;stroke-width:2.0px;stroke-linecap:butt;stroke-linejoin:miter;stroke-opacity:1\"/>\n",
       "<path class=\"bond-36 atom-28 atom-29\" d=\"M 288.4,110.0 L 278.8,113.4\" style=\"fill:none;fill-rule:evenodd;stroke:#000000;stroke-width:2.0px;stroke-linecap:butt;stroke-linejoin:miter;stroke-opacity:1\"/>\n",
       "<path class=\"bond-37 atom-36 atom-37\" d=\"M 316.6,52.9 L 324.4,59.4\" style=\"fill:none;fill-rule:evenodd;stroke:#000000;stroke-width:2.0px;stroke-linecap:butt;stroke-linejoin:miter;stroke-opacity:1\"/>\n",
       "<path class=\"bond-38 atom-11 atom-37\" d=\"M 322.6,69.5 L 324.4,59.4\" style=\"fill:none;fill-rule:evenodd;stroke:#000000;stroke-width:2.0px;stroke-linecap:butt;stroke-linejoin:miter;stroke-opacity:1\"/>\n",
       "<path class=\"bond-39 atom-38 atom-39\" d=\"M 318.4,42.8 L 328.0,39.4\" style=\"fill:none;fill-rule:evenodd;stroke:#000000;stroke-width:2.0px;stroke-linecap:butt;stroke-linejoin:miter;stroke-opacity:1\"/>\n",
       "<path class=\"bond-40 atom-39 atom-40\" d=\"M 328.0,39.4 L 335.8,45.9\" style=\"fill:none;fill-rule:evenodd;stroke:#000000;stroke-width:2.0px;stroke-linecap:butt;stroke-linejoin:miter;stroke-opacity:1\"/>\n",
       "<path class=\"bond-40 atom-39 atom-40\" d=\"M 330.5,38.8 L 335.9,43.4\" style=\"fill:none;fill-rule:evenodd;stroke:#000000;stroke-width:2.0px;stroke-linecap:butt;stroke-linejoin:miter;stroke-opacity:1\"/>\n",
       "<path class=\"bond-41 atom-40 atom-41\" d=\"M 335.8,45.9 L 345.4,42.5\" style=\"fill:none;fill-rule:evenodd;stroke:#000000;stroke-width:2.0px;stroke-linecap:butt;stroke-linejoin:miter;stroke-opacity:1\"/>\n",
       "<path class=\"bond-42 atom-41 atom-42\" d=\"M 345.4,42.5 L 347.2,32.5\" style=\"fill:none;fill-rule:evenodd;stroke:#000000;stroke-width:2.0px;stroke-linecap:butt;stroke-linejoin:miter;stroke-opacity:1\"/>\n",
       "<path class=\"bond-42 atom-41 atom-42\" d=\"M 343.6,40.6 L 344.9,33.6\" style=\"fill:none;fill-rule:evenodd;stroke:#000000;stroke-width:2.0px;stroke-linecap:butt;stroke-linejoin:miter;stroke-opacity:1\"/>\n",
       "<path class=\"bond-43 atom-42 atom-43\" d=\"M 347.2,32.5 L 339.4,25.9\" style=\"fill:none;fill-rule:evenodd;stroke:#000000;stroke-width:2.0px;stroke-linecap:butt;stroke-linejoin:miter;stroke-opacity:1\"/>\n",
       "<path class=\"bond-44 atom-43 atom-44\" d=\"M 339.4,25.9 L 329.8,29.3\" style=\"fill:none;fill-rule:evenodd;stroke:#000000;stroke-width:2.0px;stroke-linecap:butt;stroke-linejoin:miter;stroke-opacity:1\"/>\n",
       "<path class=\"bond-44 atom-43 atom-44\" d=\"M 338.7,28.3 L 331.9,30.7\" style=\"fill:none;fill-rule:evenodd;stroke:#000000;stroke-width:2.0px;stroke-linecap:butt;stroke-linejoin:miter;stroke-opacity:1\"/>\n",
       "<path class=\"bond-45 atom-44 atom-39\" d=\"M 329.8,29.3 L 328.0,39.4\" style=\"fill:none;fill-rule:evenodd;stroke:#000000;stroke-width:2.0px;stroke-linecap:butt;stroke-linejoin:miter;stroke-opacity:1\"/>\n",
       "<path class=\"bond-46 atom-36 atom-38\" d=\"M 316.6,52.9 L 318.4,42.8\" style=\"fill:none;fill-rule:evenodd;stroke:#000000;stroke-width:2.0px;stroke-linecap:butt;stroke-linejoin:miter;stroke-opacity:1\"/>\n",
       "<path class=\"bond-47 atom-45 atom-46\" d=\"M 261.4,110.3 L 271.0,106.8\" style=\"fill:none;fill-rule:evenodd;stroke:#000000;stroke-width:2.0px;stroke-linecap:butt;stroke-linejoin:miter;stroke-opacity:1\"/>\n",
       "<path class=\"bond-48 atom-29 atom-46\" d=\"M 278.8,113.4 L 271.0,106.8\" style=\"fill:none;fill-rule:evenodd;stroke:#000000;stroke-width:2.0px;stroke-linecap:butt;stroke-linejoin:miter;stroke-opacity:1\"/>\n",
       "<path class=\"bond-49 atom-47 atom-48\" d=\"M 244.0,107.2 L 253.6,103.7\" style=\"fill:none;fill-rule:evenodd;stroke:#000000;stroke-width:2.0px;stroke-linecap:butt;stroke-linejoin:miter;stroke-opacity:1\"/>\n",
       "<path class=\"bond-50 atom-45 atom-48\" d=\"M 261.4,110.3 L 253.6,103.7\" style=\"fill:none;fill-rule:evenodd;stroke:#000000;stroke-width:2.0px;stroke-linecap:butt;stroke-linejoin:miter;stroke-opacity:1\"/>\n",
       "<path class=\"bond-51 atom-49 atom-50\" d=\"M 226.6,104.0 L 236.2,100.6\" style=\"fill:none;fill-rule:evenodd;stroke:#000000;stroke-width:2.0px;stroke-linecap:butt;stroke-linejoin:miter;stroke-opacity:1\"/>\n",
       "<path class=\"bond-52 atom-47 atom-50\" d=\"M 244.0,107.2 L 236.2,100.6\" style=\"fill:none;fill-rule:evenodd;stroke:#000000;stroke-width:2.0px;stroke-linecap:butt;stroke-linejoin:miter;stroke-opacity:1\"/>\n",
       "<path class=\"bond-53 atom-51 atom-52\" d=\"M 209.2,100.9 L 218.8,97.4\" style=\"fill:none;fill-rule:evenodd;stroke:#000000;stroke-width:2.0px;stroke-linecap:butt;stroke-linejoin:miter;stroke-opacity:1\"/>\n",
       "<path class=\"bond-54 atom-49 atom-52\" d=\"M 226.6,104.0 L 218.8,97.4\" style=\"fill:none;fill-rule:evenodd;stroke:#000000;stroke-width:2.0px;stroke-linecap:butt;stroke-linejoin:miter;stroke-opacity:1\"/>\n",
       "<path class=\"bond-55 atom-53 atom-54\" d=\"M 191.8,97.8 L 201.4,94.3\" style=\"fill:none;fill-rule:evenodd;stroke:#000000;stroke-width:2.0px;stroke-linecap:butt;stroke-linejoin:miter;stroke-opacity:1\"/>\n",
       "<path class=\"bond-56 atom-51 atom-54\" d=\"M 209.2,100.9 L 201.4,94.3\" style=\"fill:none;fill-rule:evenodd;stroke:#000000;stroke-width:2.0px;stroke-linecap:butt;stroke-linejoin:miter;stroke-opacity:1\"/>\n",
       "<path class=\"bond-57 atom-55 atom-56\" d=\"M 184.1,91.2 L 174.5,94.6\" style=\"fill:none;fill-rule:evenodd;stroke:#000000;stroke-width:2.0px;stroke-linecap:butt;stroke-linejoin:miter;stroke-opacity:1\"/>\n",
       "<path class=\"bond-58 atom-53 atom-55\" d=\"M 191.8,97.8 L 184.1,91.2\" style=\"fill:none;fill-rule:evenodd;stroke:#000000;stroke-width:2.0px;stroke-linecap:butt;stroke-linejoin:miter;stroke-opacity:1\"/>\n",
       "<path class=\"bond-59 atom-57 atom-58\" d=\"M 157.1,91.5 L 166.7,88.1\" style=\"fill:none;fill-rule:evenodd;stroke:#000000;stroke-width:2.0px;stroke-linecap:butt;stroke-linejoin:miter;stroke-opacity:1\"/>\n",
       "<path class=\"bond-60 atom-56 atom-58\" d=\"M 174.5,94.6 L 166.7,88.1\" style=\"fill:none;fill-rule:evenodd;stroke:#000000;stroke-width:2.0px;stroke-linecap:butt;stroke-linejoin:miter;stroke-opacity:1\"/>\n",
       "<path class=\"bond-61 atom-59 atom-60\" d=\"M 149.3,84.9 L 139.7,88.4\" style=\"fill:none;fill-rule:evenodd;stroke:#000000;stroke-width:2.0px;stroke-linecap:butt;stroke-linejoin:miter;stroke-opacity:1\"/>\n",
       "<path class=\"bond-62 atom-57 atom-59\" d=\"M 157.1,91.5 L 149.3,84.9\" style=\"fill:none;fill-rule:evenodd;stroke:#000000;stroke-width:2.0px;stroke-linecap:butt;stroke-linejoin:miter;stroke-opacity:1\"/>\n",
       "<path class=\"bond-63 atom-61 atom-62\" d=\"M 122.3,85.2 L 131.9,81.8\" style=\"fill:none;fill-rule:evenodd;stroke:#000000;stroke-width:2.0px;stroke-linecap:butt;stroke-linejoin:miter;stroke-opacity:1\"/>\n",
       "<path class=\"bond-64 atom-60 atom-62\" d=\"M 139.7,88.4 L 131.9,81.8\" style=\"fill:none;fill-rule:evenodd;stroke:#000000;stroke-width:2.0px;stroke-linecap:butt;stroke-linejoin:miter;stroke-opacity:1\"/>\n",
       "<path class=\"bond-65 atom-63 atom-64\" d=\"M 114.5,78.7 L 104.9,82.1\" style=\"fill:none;fill-rule:evenodd;stroke:#000000;stroke-width:2.0px;stroke-linecap:butt;stroke-linejoin:miter;stroke-opacity:1\"/>\n",
       "<path class=\"bond-66 atom-61 atom-63\" d=\"M 122.3,85.2 L 114.5,78.7\" style=\"fill:none;fill-rule:evenodd;stroke:#000000;stroke-width:2.0px;stroke-linecap:butt;stroke-linejoin:miter;stroke-opacity:1\"/>\n",
       "<path class=\"bond-67 atom-65 atom-66\" d=\"M 97.1,75.5 L 87.5,79.0\" style=\"fill:none;fill-rule:evenodd;stroke:#000000;stroke-width:2.0px;stroke-linecap:butt;stroke-linejoin:miter;stroke-opacity:1\"/>\n",
       "<path class=\"bond-68 atom-64 atom-65\" d=\"M 104.9,82.1 L 97.1,75.5\" style=\"fill:none;fill-rule:evenodd;stroke:#000000;stroke-width:2.0px;stroke-linecap:butt;stroke-linejoin:miter;stroke-opacity:1\"/>\n",
       "<path class=\"bond-69 atom-67 atom-68\" d=\"M 79.7,72.4 L 81.5,62.4\" style=\"fill:none;fill-rule:evenodd;stroke:#000000;stroke-width:2.0px;stroke-linecap:butt;stroke-linejoin:miter;stroke-opacity:1\"/>\n",
       "<path class=\"bond-70 atom-68 atom-69\" d=\"M 81.5,62.4 L 91.1,58.9\" style=\"fill:none;fill-rule:evenodd;stroke:#000000;stroke-width:2.0px;stroke-linecap:butt;stroke-linejoin:miter;stroke-opacity:1\"/>\n",
       "<path class=\"bond-70 atom-68 atom-69\" d=\"M 82.3,59.9 L 89.0,57.5\" style=\"fill:none;fill-rule:evenodd;stroke:#000000;stroke-width:2.0px;stroke-linecap:butt;stroke-linejoin:miter;stroke-opacity:1\"/>\n",
       "<path class=\"bond-71 atom-69 atom-70\" d=\"M 91.1,58.9 L 93.0,48.9\" style=\"fill:none;fill-rule:evenodd;stroke:#000000;stroke-width:2.0px;stroke-linecap:butt;stroke-linejoin:miter;stroke-opacity:1\"/>\n",
       "<path class=\"bond-72 atom-70 atom-71\" d=\"M 93.0,48.9 L 85.2,42.3\" style=\"fill:none;fill-rule:evenodd;stroke:#000000;stroke-width:2.0px;stroke-linecap:butt;stroke-linejoin:miter;stroke-opacity:1\"/>\n",
       "<path class=\"bond-72 atom-70 atom-71\" d=\"M 90.5,49.4 L 85.0,44.8\" style=\"fill:none;fill-rule:evenodd;stroke:#000000;stroke-width:2.0px;stroke-linecap:butt;stroke-linejoin:miter;stroke-opacity:1\"/>\n",
       "<path class=\"bond-73 atom-71 atom-72\" d=\"M 85.2,42.3 L 75.6,45.7\" style=\"fill:none;fill-rule:evenodd;stroke:#000000;stroke-width:2.0px;stroke-linecap:butt;stroke-linejoin:miter;stroke-opacity:1\"/>\n",
       "<path class=\"bond-74 atom-72 atom-73\" d=\"M 75.6,45.7 L 73.8,55.8\" style=\"fill:none;fill-rule:evenodd;stroke:#000000;stroke-width:2.0px;stroke-linecap:butt;stroke-linejoin:miter;stroke-opacity:1\"/>\n",
       "<path class=\"bond-74 atom-72 atom-73\" d=\"M 77.3,47.6 L 76.0,54.6\" style=\"fill:none;fill-rule:evenodd;stroke:#000000;stroke-width:2.0px;stroke-linecap:butt;stroke-linejoin:miter;stroke-opacity:1\"/>\n",
       "<path class=\"bond-75 atom-73 atom-68\" d=\"M 73.8,55.8 L 81.5,62.4\" style=\"fill:none;fill-rule:evenodd;stroke:#000000;stroke-width:2.0px;stroke-linecap:butt;stroke-linejoin:miter;stroke-opacity:1\"/>\n",
       "<path class=\"bond-76 atom-66 atom-67\" d=\"M 87.5,79.0 L 79.7,72.4\" style=\"fill:none;fill-rule:evenodd;stroke:#000000;stroke-width:2.0px;stroke-linecap:butt;stroke-linejoin:miter;stroke-opacity:1\"/>\n",
       "<path class=\"bond-77 atom-74 atom-75\" d=\"M 310.6,36.2 L 311.3,32.5\" style=\"fill:none;fill-rule:evenodd;stroke:#000000;stroke-width:2.0px;stroke-linecap:butt;stroke-linejoin:miter;stroke-opacity:1\"/>\n",
       "<path class=\"bond-77 atom-74 atom-75\" d=\"M 311.3,32.5 L 312.0,28.7\" style=\"fill:none;fill-rule:evenodd;stroke:#FF0000;stroke-width:2.0px;stroke-linecap:butt;stroke-linejoin:miter;stroke-opacity:1\"/>\n",
       "<path class=\"bond-78 atom-75 atom-76\" d=\"M 310.1,24.3 L 307.4,21.9\" style=\"fill:none;fill-rule:evenodd;stroke:#FF0000;stroke-width:2.0px;stroke-linecap:butt;stroke-linejoin:miter;stroke-opacity:1\"/>\n",
       "<path class=\"bond-78 atom-75 atom-76\" d=\"M 307.4,21.9 L 304.6,19.6\" style=\"fill:none;fill-rule:evenodd;stroke:#000000;stroke-width:2.0px;stroke-linecap:butt;stroke-linejoin:miter;stroke-opacity:1\"/>\n",
       "<path class=\"bond-79 atom-38 atom-74\" d=\"M 318.4,42.8 L 310.6,36.2\" style=\"fill:none;fill-rule:evenodd;stroke:#000000;stroke-width:2.0px;stroke-linecap:butt;stroke-linejoin:miter;stroke-opacity:1\"/>\n",
       "<path class=\"bond-80 atom-77 atom-78\" d=\"M 70.1,75.9 L 67.2,73.4\" style=\"fill:none;fill-rule:evenodd;stroke:#000000;stroke-width:2.0px;stroke-linecap:butt;stroke-linejoin:miter;stroke-opacity:1\"/>\n",
       "<path class=\"bond-80 atom-77 atom-78\" d=\"M 67.2,73.4 L 64.3,70.9\" style=\"fill:none;fill-rule:evenodd;stroke:#0000FF;stroke-width:2.0px;stroke-linecap:butt;stroke-linejoin:miter;stroke-opacity:1\"/>\n",
       "<path class=\"bond-81 atom-67 atom-77\" d=\"M 79.7,72.4 L 70.1,75.9\" style=\"fill:none;fill-rule:evenodd;stroke:#000000;stroke-width:2.0px;stroke-linecap:butt;stroke-linejoin:miter;stroke-opacity:1\"/>\n",
       "<path class=\"atom-0\" d=\"M 386.4 6.5 L 387.8 8.7 Q 388.0 9.0, 388.2 9.4 Q 388.4 9.8, 388.4 9.8 L 388.4 6.5 L 389.0 6.5 L 389.0 10.7 L 388.4 10.7 L 386.9 8.3 Q 386.7 8.0, 386.6 7.6 Q 386.4 7.3, 386.3 7.2 L 386.3 10.7 L 385.8 10.7 L 385.8 6.5 L 386.4 6.5 \" fill=\"#0000FF\"/>\n",
       "<path class=\"atom-0\" d=\"M 389.5 6.5 L 390.1 6.5 L 390.1 8.3 L 392.2 8.3 L 392.2 6.5 L 392.8 6.5 L 392.8 10.7 L 392.2 10.7 L 392.2 8.8 L 390.1 8.8 L 390.1 10.7 L 389.5 10.7 L 389.5 6.5 \" fill=\"#0000FF\"/>\n",
       "<path class=\"atom-0\" d=\"M 393.3 10.6 Q 393.4 10.3, 393.7 10.2 Q 393.9 10.0, 394.3 10.0 Q 394.7 10.0, 394.9 10.2 Q 395.2 10.5, 395.2 10.9 Q 395.2 11.3, 394.9 11.7 Q 394.6 12.1, 393.9 12.5 L 395.2 12.5 L 395.2 12.9 L 393.3 12.9 L 393.3 12.6 Q 393.8 12.2, 394.2 11.9 Q 394.5 11.7, 394.6 11.4 Q 394.8 11.2, 394.8 10.9 Q 394.8 10.6, 394.6 10.5 Q 394.5 10.3, 394.3 10.3 Q 394.0 10.3, 393.9 10.4 Q 393.7 10.5, 393.6 10.7 L 393.3 10.6 \" fill=\"#0000FF\"/>\n",
       "<path class=\"atom-75\" d=\"M 310.5 26.2 Q 310.5 25.2, 311.0 24.6 Q 311.5 24.1, 312.4 24.1 Q 313.4 24.1, 313.9 24.6 Q 314.4 25.2, 314.4 26.2 Q 314.4 27.2, 313.9 27.8 Q 313.3 28.4, 312.4 28.4 Q 311.5 28.4, 311.0 27.8 Q 310.5 27.2, 310.5 26.2 M 312.4 27.9 Q 313.1 27.9, 313.4 27.5 Q 313.8 27.1, 313.8 26.2 Q 313.8 25.4, 313.4 25.0 Q 313.1 24.5, 312.4 24.5 Q 311.8 24.5, 311.4 25.0 Q 311.1 25.4, 311.1 26.2 Q 311.1 27.1, 311.4 27.5 Q 311.8 27.9, 312.4 27.9 \" fill=\"#FF0000\"/>\n",
       "<path class=\"atom-78\" d=\"M 54.8 67.2 L 55.4 67.2 L 55.4 69.0 L 57.5 69.0 L 57.5 67.2 L 58.1 67.2 L 58.1 71.4 L 57.5 71.4 L 57.5 69.4 L 55.4 69.4 L 55.4 71.4 L 54.8 71.4 L 54.8 67.2 \" fill=\"#0000FF\"/>\n",
       "<path class=\"atom-78\" d=\"M 58.6 71.3 Q 58.7 71.0, 59.0 70.8 Q 59.2 70.7, 59.6 70.7 Q 60.0 70.7, 60.2 70.9 Q 60.5 71.1, 60.5 71.6 Q 60.5 72.0, 60.2 72.4 Q 59.8 72.7, 59.2 73.2 L 60.5 73.2 L 60.5 73.5 L 58.6 73.5 L 58.6 73.3 Q 59.1 72.9, 59.5 72.6 Q 59.8 72.3, 59.9 72.1 Q 60.1 71.8, 60.1 71.6 Q 60.1 71.3, 59.9 71.2 Q 59.8 71.0, 59.6 71.0 Q 59.3 71.0, 59.2 71.1 Q 59.0 71.2, 58.9 71.4 L 58.6 71.3 \" fill=\"#0000FF\"/>\n",
       "<path class=\"atom-78\" d=\"M 61.4 67.2 L 62.8 69.4 Q 62.9 69.6, 63.2 70.0 Q 63.4 70.4, 63.4 70.5 L 63.4 67.2 L 64.0 67.2 L 64.0 71.4 L 63.4 71.4 L 61.9 68.9 Q 61.7 68.7, 61.5 68.3 Q 61.4 68.0, 61.3 67.9 L 61.3 71.4 L 60.7 71.4 L 60.7 67.2 L 61.4 67.2 \" fill=\"#0000FF\"/>\n",
       "</svg>"
      ],
      "text/plain": [
       "<IPython.core.display.SVG object>"
      ]
     },
     "execution_count": 49,
     "metadata": {},
     "output_type": "execute_result"
    }
   ],
   "source": [
    "big_smiles_gen(big)"
   ]
  },
  {
   "cell_type": "code",
   "execution_count": 50,
   "id": "fb8d61a0",
   "metadata": {},
   "outputs": [
    {
     "data": {
      "image/svg+xml": [
       "<svg xmlns=\"http://www.w3.org/2000/svg\" xmlns:rdkit=\"http://www.rdkit.org/xml\" xmlns:xlink=\"http://www.w3.org/1999/xlink\" version=\"1.1\" baseProfile=\"full\" xml:space=\"preserve\" width=\"450px\" height=\"150px\" viewBox=\"0 0 450 150\">\n",
       "<!-- END OF HEADER -->\n",
       "<rect style=\"opacity:1.0;fill:#FFFFFF;stroke:none\" width=\"450.0\" height=\"150.0\" x=\"0.0\" y=\"0.0\"> </rect>\n",
       "<path class=\"bond-0 atom-0 atom-1\" d=\"M 38.3,64.0 L 36.6,61.0\" style=\"fill:none;fill-rule:evenodd;stroke:#0000FF;stroke-width:2.0px;stroke-linecap:butt;stroke-linejoin:miter;stroke-opacity:1\"/>\n",
       "<path class=\"bond-0 atom-0 atom-1\" d=\"M 36.6,61.0 L 34.9,58.1\" style=\"fill:none;fill-rule:evenodd;stroke:#000000;stroke-width:2.0px;stroke-linecap:butt;stroke-linejoin:miter;stroke-opacity:1\"/>\n",
       "<path class=\"bond-1 atom-2 atom-3\" d=\"M 34.9,41.4 L 39.7,49.8\" style=\"fill:none;fill-rule:evenodd;stroke:#000000;stroke-width:2.0px;stroke-linecap:butt;stroke-linejoin:miter;stroke-opacity:1\"/>\n",
       "<path class=\"bond-2 atom-1 atom-3\" d=\"M 34.9,58.1 L 39.7,49.8\" style=\"fill:none;fill-rule:evenodd;stroke:#000000;stroke-width:2.0px;stroke-linecap:butt;stroke-linejoin:miter;stroke-opacity:1\"/>\n",
       "<path class=\"bond-3 atom-4 atom-5\" d=\"M 39.7,33.1 L 34.9,24.8\" style=\"fill:none;fill-rule:evenodd;stroke:#000000;stroke-width:2.0px;stroke-linecap:butt;stroke-linejoin:miter;stroke-opacity:1\"/>\n",
       "<path class=\"bond-4 atom-5 atom-6\" d=\"M 34.9,24.8 L 39.7,16.4\" style=\"fill:none;fill-rule:evenodd;stroke:#000000;stroke-width:2.0px;stroke-linecap:butt;stroke-linejoin:miter;stroke-opacity:1\"/>\n",
       "<path class=\"bond-4 atom-5 atom-6\" d=\"M 33.9,22.5 L 37.3,16.7\" style=\"fill:none;fill-rule:evenodd;stroke:#000000;stroke-width:2.0px;stroke-linecap:butt;stroke-linejoin:miter;stroke-opacity:1\"/>\n",
       "<path class=\"bond-5 atom-6 atom-7\" d=\"M 39.7,16.4 L 34.9,8.1\" style=\"fill:none;fill-rule:evenodd;stroke:#000000;stroke-width:2.0px;stroke-linecap:butt;stroke-linejoin:miter;stroke-opacity:1\"/>\n",
       "<path class=\"bond-6 atom-7 atom-8\" d=\"M 34.9,8.1 L 25.3,8.1\" style=\"fill:none;fill-rule:evenodd;stroke:#000000;stroke-width:2.0px;stroke-linecap:butt;stroke-linejoin:miter;stroke-opacity:1\"/>\n",
       "<path class=\"bond-6 atom-7 atom-8\" d=\"M 33.5,10.0 L 26.7,10.0\" style=\"fill:none;fill-rule:evenodd;stroke:#000000;stroke-width:2.0px;stroke-linecap:butt;stroke-linejoin:miter;stroke-opacity:1\"/>\n",
       "<path class=\"bond-7 atom-8 atom-9\" d=\"M 25.3,8.1 L 20.5,16.4\" style=\"fill:none;fill-rule:evenodd;stroke:#000000;stroke-width:2.0px;stroke-linecap:butt;stroke-linejoin:miter;stroke-opacity:1\"/>\n",
       "<path class=\"bond-8 atom-9 atom-10\" d=\"M 20.5,16.4 L 25.3,24.7\" style=\"fill:none;fill-rule:evenodd;stroke:#000000;stroke-width:2.0px;stroke-linecap:butt;stroke-linejoin:miter;stroke-opacity:1\"/>\n",
       "<path class=\"bond-8 atom-9 atom-10\" d=\"M 22.8,16.7 L 26.2,22.5\" style=\"fill:none;fill-rule:evenodd;stroke:#000000;stroke-width:2.0px;stroke-linecap:butt;stroke-linejoin:miter;stroke-opacity:1\"/>\n",
       "<path class=\"bond-9 atom-10 atom-5\" d=\"M 25.3,24.7 L 34.9,24.8\" style=\"fill:none;fill-rule:evenodd;stroke:#000000;stroke-width:2.0px;stroke-linecap:butt;stroke-linejoin:miter;stroke-opacity:1\"/>\n",
       "<path class=\"bond-10 atom-2 atom-4\" d=\"M 34.9,41.4 L 39.7,33.1\" style=\"fill:none;fill-rule:evenodd;stroke:#000000;stroke-width:2.0px;stroke-linecap:butt;stroke-linejoin:miter;stroke-opacity:1\"/>\n",
       "<path class=\"bond-11 atom-11 atom-12\" d=\"M 49.3,33.1 L 54.1,41.4\" style=\"fill:none;fill-rule:evenodd;stroke:#000000;stroke-width:2.0px;stroke-linecap:butt;stroke-linejoin:miter;stroke-opacity:1\"/>\n",
       "<path class=\"bond-12 atom-4 atom-11\" d=\"M 39.7,33.1 L 49.3,33.1\" style=\"fill:none;fill-rule:evenodd;stroke:#000000;stroke-width:2.0px;stroke-linecap:butt;stroke-linejoin:miter;stroke-opacity:1\"/>\n",
       "<path class=\"bond-13 atom-13 atom-14\" d=\"M 63.8,41.4 L 68.6,33.1\" style=\"fill:none;fill-rule:evenodd;stroke:#000000;stroke-width:2.0px;stroke-linecap:butt;stroke-linejoin:miter;stroke-opacity:1\"/>\n",
       "<path class=\"bond-14 atom-14 atom-15\" d=\"M 68.6,33.1 L 78.2,33.1\" style=\"fill:none;fill-rule:evenodd;stroke:#000000;stroke-width:2.0px;stroke-linecap:butt;stroke-linejoin:miter;stroke-opacity:1\"/>\n",
       "<path class=\"bond-14 atom-14 atom-15\" d=\"M 70.0,31.2 L 76.8,31.2\" style=\"fill:none;fill-rule:evenodd;stroke:#000000;stroke-width:2.0px;stroke-linecap:butt;stroke-linejoin:miter;stroke-opacity:1\"/>\n",
       "<path class=\"bond-15 atom-15 atom-16\" d=\"M 78.2,33.1 L 83.0,24.8\" style=\"fill:none;fill-rule:evenodd;stroke:#000000;stroke-width:2.0px;stroke-linecap:butt;stroke-linejoin:miter;stroke-opacity:1\"/>\n",
       "<path class=\"bond-16 atom-16 atom-17\" d=\"M 83.0,24.8 L 78.2,16.4\" style=\"fill:none;fill-rule:evenodd;stroke:#000000;stroke-width:2.0px;stroke-linecap:butt;stroke-linejoin:miter;stroke-opacity:1\"/>\n",
       "<path class=\"bond-16 atom-16 atom-17\" d=\"M 80.6,24.5 L 77.3,18.7\" style=\"fill:none;fill-rule:evenodd;stroke:#000000;stroke-width:2.0px;stroke-linecap:butt;stroke-linejoin:miter;stroke-opacity:1\"/>\n",
       "<path class=\"bond-17 atom-17 atom-18\" d=\"M 78.2,16.4 L 68.6,16.4\" style=\"fill:none;fill-rule:evenodd;stroke:#000000;stroke-width:2.0px;stroke-linecap:butt;stroke-linejoin:miter;stroke-opacity:1\"/>\n",
       "<path class=\"bond-18 atom-18 atom-19\" d=\"M 68.6,16.4 L 63.8,24.8\" style=\"fill:none;fill-rule:evenodd;stroke:#000000;stroke-width:2.0px;stroke-linecap:butt;stroke-linejoin:miter;stroke-opacity:1\"/>\n",
       "<path class=\"bond-18 atom-18 atom-19\" d=\"M 69.5,18.7 L 66.2,24.5\" style=\"fill:none;fill-rule:evenodd;stroke:#000000;stroke-width:2.0px;stroke-linecap:butt;stroke-linejoin:miter;stroke-opacity:1\"/>\n",
       "<path class=\"bond-19 atom-19 atom-14\" d=\"M 63.8,24.8 L 68.6,33.1\" style=\"fill:none;fill-rule:evenodd;stroke:#000000;stroke-width:2.0px;stroke-linecap:butt;stroke-linejoin:miter;stroke-opacity:1\"/>\n",
       "<path class=\"bond-20 atom-12 atom-13\" d=\"M 54.1,41.4 L 63.8,41.4\" style=\"fill:none;fill-rule:evenodd;stroke:#000000;stroke-width:2.0px;stroke-linecap:butt;stroke-linejoin:miter;stroke-opacity:1\"/>\n",
       "<path class=\"bond-21 atom-20 atom-21\" d=\"M 68.6,49.8 L 78.2,49.8\" style=\"fill:none;fill-rule:evenodd;stroke:#000000;stroke-width:2.0px;stroke-linecap:butt;stroke-linejoin:miter;stroke-opacity:1\"/>\n",
       "<path class=\"bond-22 atom-13 atom-20\" d=\"M 63.8,41.4 L 68.6,49.8\" style=\"fill:none;fill-rule:evenodd;stroke:#000000;stroke-width:2.0px;stroke-linecap:butt;stroke-linejoin:miter;stroke-opacity:1\"/>\n",
       "<path class=\"bond-23 atom-22 atom-23\" d=\"M 92.6,58.1 L 83.0,58.1\" style=\"fill:none;fill-rule:evenodd;stroke:#000000;stroke-width:2.0px;stroke-linecap:butt;stroke-linejoin:miter;stroke-opacity:1\"/>\n",
       "<path class=\"bond-24 atom-21 atom-23\" d=\"M 78.2,49.8 L 83.0,58.1\" style=\"fill:none;fill-rule:evenodd;stroke:#000000;stroke-width:2.0px;stroke-linecap:butt;stroke-linejoin:miter;stroke-opacity:1\"/>\n",
       "<path class=\"bond-25 atom-24 atom-25\" d=\"M 126.3,83.2 L 121.5,74.8\" style=\"fill:none;fill-rule:evenodd;stroke:#000000;stroke-width:2.0px;stroke-linecap:butt;stroke-linejoin:miter;stroke-opacity:1\"/>\n",
       "<path class=\"bond-26 atom-25 atom-26\" d=\"M 121.5,74.8 L 111.9,74.8\" style=\"fill:none;fill-rule:evenodd;stroke:#000000;stroke-width:2.0px;stroke-linecap:butt;stroke-linejoin:miter;stroke-opacity:1\"/>\n",
       "<path class=\"bond-27 atom-26 atom-27\" d=\"M 111.9,74.8 L 107.0,83.2\" style=\"fill:none;fill-rule:evenodd;stroke:#000000;stroke-width:2.0px;stroke-linecap:butt;stroke-linejoin:miter;stroke-opacity:1\"/>\n",
       "<path class=\"bond-28 atom-26 atom-28\" d=\"M 111.9,74.8 L 107.1,66.5\" style=\"fill:none;fill-rule:evenodd;stroke:#000000;stroke-width:2.0px;stroke-linecap:butt;stroke-linejoin:miter;stroke-opacity:1\"/>\n",
       "<path class=\"bond-29 atom-28 atom-29\" d=\"M 107.1,66.5 L 97.4,66.5\" style=\"fill:none;fill-rule:evenodd;stroke:#000000;stroke-width:2.0px;stroke-linecap:butt;stroke-linejoin:miter;stroke-opacity:1\"/>\n",
       "<path class=\"bond-30 atom-22 atom-29\" d=\"M 92.6,58.1 L 97.4,66.5\" style=\"fill:none;fill-rule:evenodd;stroke:#000000;stroke-width:2.0px;stroke-linecap:butt;stroke-linejoin:miter;stroke-opacity:1\"/>\n",
       "<path class=\"bond-31 atom-30 atom-31\" d=\"M 140.7,91.5 L 135.9,83.2\" style=\"fill:none;fill-rule:evenodd;stroke:#000000;stroke-width:2.0px;stroke-linecap:butt;stroke-linejoin:miter;stroke-opacity:1\"/>\n",
       "<path class=\"bond-32 atom-24 atom-31\" d=\"M 126.3,83.2 L 135.9,83.2\" style=\"fill:none;fill-rule:evenodd;stroke:#000000;stroke-width:2.0px;stroke-linecap:butt;stroke-linejoin:miter;stroke-opacity:1\"/>\n",
       "<path class=\"bond-33 atom-32 atom-33\" d=\"M 155.2,99.9 L 150.4,91.5\" style=\"fill:none;fill-rule:evenodd;stroke:#000000;stroke-width:2.0px;stroke-linecap:butt;stroke-linejoin:miter;stroke-opacity:1\"/>\n",
       "<path class=\"bond-34 atom-30 atom-33\" d=\"M 140.7,91.5 L 150.4,91.5\" style=\"fill:none;fill-rule:evenodd;stroke:#000000;stroke-width:2.0px;stroke-linecap:butt;stroke-linejoin:miter;stroke-opacity:1\"/>\n",
       "<path class=\"bond-35 atom-34 atom-35\" d=\"M 169.6,108.2 L 164.8,99.9\" style=\"fill:none;fill-rule:evenodd;stroke:#000000;stroke-width:2.0px;stroke-linecap:butt;stroke-linejoin:miter;stroke-opacity:1\"/>\n",
       "<path class=\"bond-36 atom-32 atom-35\" d=\"M 155.2,99.9 L 164.8,99.9\" style=\"fill:none;fill-rule:evenodd;stroke:#000000;stroke-width:2.0px;stroke-linecap:butt;stroke-linejoin:miter;stroke-opacity:1\"/>\n",
       "<path class=\"bond-37 atom-36 atom-37\" d=\"M 184.0,116.6 L 179.2,108.2\" style=\"fill:none;fill-rule:evenodd;stroke:#000000;stroke-width:2.0px;stroke-linecap:butt;stroke-linejoin:miter;stroke-opacity:1\"/>\n",
       "<path class=\"bond-38 atom-34 atom-37\" d=\"M 169.6,108.2 L 179.2,108.2\" style=\"fill:none;fill-rule:evenodd;stroke:#000000;stroke-width:2.0px;stroke-linecap:butt;stroke-linejoin:miter;stroke-opacity:1\"/>\n",
       "<path class=\"bond-39 atom-38 atom-39\" d=\"M 193.7,116.6 L 198.5,124.9\" style=\"fill:none;fill-rule:evenodd;stroke:#000000;stroke-width:2.0px;stroke-linecap:butt;stroke-linejoin:miter;stroke-opacity:1\"/>\n",
       "<path class=\"bond-40 atom-39 atom-40\" d=\"M 198.5,124.9 L 208.1,124.9\" style=\"fill:none;fill-rule:evenodd;stroke:#000000;stroke-width:2.0px;stroke-linecap:butt;stroke-linejoin:miter;stroke-opacity:1\"/>\n",
       "<path class=\"bond-41 atom-40 atom-41\" d=\"M 208.1,124.9 L 212.9,133.2\" style=\"fill:none;fill-rule:evenodd;stroke:#000000;stroke-width:2.0px;stroke-linecap:butt;stroke-linejoin:miter;stroke-opacity:1\"/>\n",
       "<path class=\"bond-42 atom-40 atom-42\" d=\"M 208.1,124.9 L 212.9,116.6\" style=\"fill:none;fill-rule:evenodd;stroke:#000000;stroke-width:2.0px;stroke-linecap:butt;stroke-linejoin:miter;stroke-opacity:1\"/>\n",
       "<path class=\"bond-43 atom-42 atom-43\" d=\"M 212.9,116.6 L 222.5,116.6\" style=\"fill:none;fill-rule:evenodd;stroke:#000000;stroke-width:2.0px;stroke-linecap:butt;stroke-linejoin:miter;stroke-opacity:1\"/>\n",
       "<path class=\"bond-44 atom-36 atom-38\" d=\"M 184.0,116.6 L 193.7,116.6\" style=\"fill:none;fill-rule:evenodd;stroke:#000000;stroke-width:2.0px;stroke-linecap:butt;stroke-linejoin:miter;stroke-opacity:1\"/>\n",
       "<path class=\"bond-45 atom-44 atom-45\" d=\"M 227.4,108.2 L 237.0,108.2\" style=\"fill:none;fill-rule:evenodd;stroke:#000000;stroke-width:2.0px;stroke-linecap:butt;stroke-linejoin:miter;stroke-opacity:1\"/>\n",
       "<path class=\"bond-46 atom-43 atom-44\" d=\"M 222.5,116.6 L 227.4,108.2\" style=\"fill:none;fill-rule:evenodd;stroke:#000000;stroke-width:2.0px;stroke-linecap:butt;stroke-linejoin:miter;stroke-opacity:1\"/>\n",
       "<path class=\"bond-47 atom-46 atom-47\" d=\"M 251.4,99.9 L 241.8,99.9\" style=\"fill:none;fill-rule:evenodd;stroke:#000000;stroke-width:2.0px;stroke-linecap:butt;stroke-linejoin:miter;stroke-opacity:1\"/>\n",
       "<path class=\"bond-48 atom-45 atom-47\" d=\"M 237.0,108.2 L 241.8,99.9\" style=\"fill:none;fill-rule:evenodd;stroke:#000000;stroke-width:2.0px;stroke-linecap:butt;stroke-linejoin:miter;stroke-opacity:1\"/>\n",
       "<path class=\"bond-49 atom-48 atom-49\" d=\"M 256.3,91.6 L 265.9,91.6\" style=\"fill:none;fill-rule:evenodd;stroke:#000000;stroke-width:2.0px;stroke-linecap:butt;stroke-linejoin:miter;stroke-opacity:1\"/>\n",
       "<path class=\"bond-50 atom-46 atom-48\" d=\"M 251.4,99.9 L 256.3,91.6\" style=\"fill:none;fill-rule:evenodd;stroke:#000000;stroke-width:2.0px;stroke-linecap:butt;stroke-linejoin:miter;stroke-opacity:1\"/>\n",
       "<path class=\"bond-51 atom-50 atom-51\" d=\"M 270.7,83.3 L 280.3,83.3\" style=\"fill:none;fill-rule:evenodd;stroke:#000000;stroke-width:2.0px;stroke-linecap:butt;stroke-linejoin:miter;stroke-opacity:1\"/>\n",
       "<path class=\"bond-52 atom-49 atom-50\" d=\"M 265.9,91.6 L 270.7,83.3\" style=\"fill:none;fill-rule:evenodd;stroke:#000000;stroke-width:2.0px;stroke-linecap:butt;stroke-linejoin:miter;stroke-opacity:1\"/>\n",
       "<path class=\"bond-53 atom-52 atom-53\" d=\"M 285.1,74.9 L 294.8,74.9\" style=\"fill:none;fill-rule:evenodd;stroke:#000000;stroke-width:2.0px;stroke-linecap:butt;stroke-linejoin:miter;stroke-opacity:1\"/>\n",
       "<path class=\"bond-54 atom-51 atom-52\" d=\"M 280.3,83.3 L 285.1,74.9\" style=\"fill:none;fill-rule:evenodd;stroke:#000000;stroke-width:2.0px;stroke-linecap:butt;stroke-linejoin:miter;stroke-opacity:1\"/>\n",
       "<path class=\"bond-55 atom-54 atom-55\" d=\"M 309.2,66.6 L 299.6,66.6\" style=\"fill:none;fill-rule:evenodd;stroke:#000000;stroke-width:2.0px;stroke-linecap:butt;stroke-linejoin:miter;stroke-opacity:1\"/>\n",
       "<path class=\"bond-56 atom-53 atom-55\" d=\"M 294.8,74.9 L 299.6,66.6\" style=\"fill:none;fill-rule:evenodd;stroke:#000000;stroke-width:2.0px;stroke-linecap:butt;stroke-linejoin:miter;stroke-opacity:1\"/>\n",
       "<path class=\"bond-57 atom-56 atom-57\" d=\"M 314.0,58.3 L 323.7,58.3\" style=\"fill:none;fill-rule:evenodd;stroke:#000000;stroke-width:2.0px;stroke-linecap:butt;stroke-linejoin:miter;stroke-opacity:1\"/>\n",
       "<path class=\"bond-58 atom-54 atom-56\" d=\"M 309.2,66.6 L 314.0,58.3\" style=\"fill:none;fill-rule:evenodd;stroke:#000000;stroke-width:2.0px;stroke-linecap:butt;stroke-linejoin:miter;stroke-opacity:1\"/>\n",
       "<path class=\"bond-59 atom-58 atom-59\" d=\"M 328.5,50.0 L 338.1,50.0\" style=\"fill:none;fill-rule:evenodd;stroke:#000000;stroke-width:2.0px;stroke-linecap:butt;stroke-linejoin:miter;stroke-opacity:1\"/>\n",
       "<path class=\"bond-60 atom-57 atom-58\" d=\"M 323.7,58.3 L 328.5,50.0\" style=\"fill:none;fill-rule:evenodd;stroke:#000000;stroke-width:2.0px;stroke-linecap:butt;stroke-linejoin:miter;stroke-opacity:1\"/>\n",
       "<path class=\"bond-61 atom-60 atom-61\" d=\"M 352.5,41.6 L 342.9,41.6\" style=\"fill:none;fill-rule:evenodd;stroke:#000000;stroke-width:2.0px;stroke-linecap:butt;stroke-linejoin:miter;stroke-opacity:1\"/>\n",
       "<path class=\"bond-62 atom-59 atom-61\" d=\"M 338.1,50.0 L 342.9,41.6\" style=\"fill:none;fill-rule:evenodd;stroke:#000000;stroke-width:2.0px;stroke-linecap:butt;stroke-linejoin:miter;stroke-opacity:1\"/>\n",
       "<path class=\"bond-63 atom-62 atom-63\" d=\"M 357.4,33.3 L 367.0,33.3\" style=\"fill:none;fill-rule:evenodd;stroke:#000000;stroke-width:2.0px;stroke-linecap:butt;stroke-linejoin:miter;stroke-opacity:1\"/>\n",
       "<path class=\"bond-64 atom-60 atom-62\" d=\"M 352.5,41.6 L 357.4,33.3\" style=\"fill:none;fill-rule:evenodd;stroke:#000000;stroke-width:2.0px;stroke-linecap:butt;stroke-linejoin:miter;stroke-opacity:1\"/>\n",
       "<path class=\"bond-65 atom-64 atom-65\" d=\"M 395.9,16.6 L 386.3,16.6\" style=\"fill:none;fill-rule:evenodd;stroke:#000000;stroke-width:2.0px;stroke-linecap:butt;stroke-linejoin:miter;stroke-opacity:1\"/>\n",
       "<path class=\"bond-66 atom-65 atom-66\" d=\"M 386.3,16.6 L 381.4,25.0\" style=\"fill:none;fill-rule:evenodd;stroke:#000000;stroke-width:2.0px;stroke-linecap:butt;stroke-linejoin:miter;stroke-opacity:1\"/>\n",
       "<path class=\"bond-67 atom-66 atom-67\" d=\"M 381.4,25.0 L 371.8,25.0\" style=\"fill:none;fill-rule:evenodd;stroke:#000000;stroke-width:2.0px;stroke-linecap:butt;stroke-linejoin:miter;stroke-opacity:1\"/>\n",
       "<path class=\"bond-68 atom-66 atom-68\" d=\"M 381.4,25.0 L 386.2,33.3\" style=\"fill:none;fill-rule:evenodd;stroke:#000000;stroke-width:2.0px;stroke-linecap:butt;stroke-linejoin:miter;stroke-opacity:1\"/>\n",
       "<path class=\"bond-69 atom-68 atom-69\" d=\"M 386.2,33.3 L 395.9,33.3\" style=\"fill:none;fill-rule:evenodd;stroke:#000000;stroke-width:2.0px;stroke-linecap:butt;stroke-linejoin:miter;stroke-opacity:1\"/>\n",
       "<path class=\"bond-70 atom-63 atom-67\" d=\"M 367.0,33.3 L 371.8,25.0\" style=\"fill:none;fill-rule:evenodd;stroke:#000000;stroke-width:2.0px;stroke-linecap:butt;stroke-linejoin:miter;stroke-opacity:1\"/>\n",
       "<path class=\"bond-71 atom-70 atom-71\" d=\"M 410.3,41.7 L 400.7,41.7\" style=\"fill:none;fill-rule:evenodd;stroke:#000000;stroke-width:2.0px;stroke-linecap:butt;stroke-linejoin:miter;stroke-opacity:1\"/>\n",
       "<path class=\"bond-72 atom-69 atom-71\" d=\"M 395.9,33.3 L 400.7,41.7\" style=\"fill:none;fill-rule:evenodd;stroke:#000000;stroke-width:2.0px;stroke-linecap:butt;stroke-linejoin:miter;stroke-opacity:1\"/>\n",
       "<path class=\"bond-73 atom-72 atom-73\" d=\"M 415.1,50.0 L 418.8,50.0\" style=\"fill:none;fill-rule:evenodd;stroke:#000000;stroke-width:2.0px;stroke-linecap:butt;stroke-linejoin:miter;stroke-opacity:1\"/>\n",
       "<path class=\"bond-73 atom-72 atom-73\" d=\"M 418.8,50.0 L 422.5,50.0\" style=\"fill:none;fill-rule:evenodd;stroke:#FF0000;stroke-width:2.0px;stroke-linecap:butt;stroke-linejoin:miter;stroke-opacity:1\"/>\n",
       "<path class=\"bond-74 atom-73 atom-74\" d=\"M 426.2,52.5 L 427.9,55.4\" style=\"fill:none;fill-rule:evenodd;stroke:#FF0000;stroke-width:2.0px;stroke-linecap:butt;stroke-linejoin:miter;stroke-opacity:1\"/>\n",
       "<path class=\"bond-74 atom-73 atom-74\" d=\"M 427.9,55.4 L 429.5,58.4\" style=\"fill:none;fill-rule:evenodd;stroke:#000000;stroke-width:2.0px;stroke-linecap:butt;stroke-linejoin:miter;stroke-opacity:1\"/>\n",
       "<path class=\"bond-75 atom-70 atom-72\" d=\"M 410.3,41.7 L 415.1,50.0\" style=\"fill:none;fill-rule:evenodd;stroke:#000000;stroke-width:2.0px;stroke-linecap:butt;stroke-linejoin:miter;stroke-opacity:1\"/>\n",
       "<path class=\"bond-76 atom-75 atom-76\" d=\"M 222.5,133.2 L 224.2,136.2\" style=\"fill:none;fill-rule:evenodd;stroke:#000000;stroke-width:2.0px;stroke-linecap:butt;stroke-linejoin:miter;stroke-opacity:1\"/>\n",
       "<path class=\"bond-76 atom-75 atom-76\" d=\"M 224.2,136.2 L 225.9,139.1\" style=\"fill:none;fill-rule:evenodd;stroke:#FF0000;stroke-width:2.0px;stroke-linecap:butt;stroke-linejoin:miter;stroke-opacity:1\"/>\n",
       "<path class=\"bond-77 atom-76 atom-77\" d=\"M 229.6,141.6 L 233.3,141.6\" style=\"fill:none;fill-rule:evenodd;stroke:#FF0000;stroke-width:2.0px;stroke-linecap:butt;stroke-linejoin:miter;stroke-opacity:1\"/>\n",
       "<path class=\"bond-77 atom-76 atom-77\" d=\"M 233.3,141.6 L 237.0,141.6\" style=\"fill:none;fill-rule:evenodd;stroke:#000000;stroke-width:2.0px;stroke-linecap:butt;stroke-linejoin:miter;stroke-opacity:1\"/>\n",
       "<path class=\"bond-78 atom-41 atom-75\" d=\"M 212.9,133.2 L 222.5,133.2\" style=\"fill:none;fill-rule:evenodd;stroke:#000000;stroke-width:2.0px;stroke-linecap:butt;stroke-linejoin:miter;stroke-opacity:1\"/>\n",
       "<path class=\"bond-79 atom-78 atom-79\" d=\"M 111.9,91.5 L 110.2,94.4\" style=\"fill:none;fill-rule:evenodd;stroke:#000000;stroke-width:2.0px;stroke-linecap:butt;stroke-linejoin:miter;stroke-opacity:1\"/>\n",
       "<path class=\"bond-79 atom-78 atom-79\" d=\"M 110.2,94.4 L 108.5,97.4\" style=\"fill:none;fill-rule:evenodd;stroke:#FF0000;stroke-width:2.0px;stroke-linecap:butt;stroke-linejoin:miter;stroke-opacity:1\"/>\n",
       "<path class=\"bond-80 atom-79 atom-80\" d=\"M 108.5,102.4 L 110.2,105.3\" style=\"fill:none;fill-rule:evenodd;stroke:#FF0000;stroke-width:2.0px;stroke-linecap:butt;stroke-linejoin:miter;stroke-opacity:1\"/>\n",
       "<path class=\"bond-80 atom-79 atom-80\" d=\"M 110.2,105.3 L 111.8,108.2\" style=\"fill:none;fill-rule:evenodd;stroke:#000000;stroke-width:2.0px;stroke-linecap:butt;stroke-linejoin:miter;stroke-opacity:1\"/>\n",
       "<path class=\"bond-81 atom-27 atom-78\" d=\"M 107.0,83.2 L 111.9,91.5\" style=\"fill:none;fill-rule:evenodd;stroke:#000000;stroke-width:2.0px;stroke-linecap:butt;stroke-linejoin:miter;stroke-opacity:1\"/>\n",
       "<path class=\"bond-82 atom-81 atom-82\" d=\"M 400.7,8.3 L 404.5,8.3\" style=\"fill:none;fill-rule:evenodd;stroke:#000000;stroke-width:2.0px;stroke-linecap:butt;stroke-linejoin:miter;stroke-opacity:1\"/>\n",
       "<path class=\"bond-82 atom-81 atom-82\" d=\"M 404.5,8.3 L 408.4,8.3\" style=\"fill:none;fill-rule:evenodd;stroke:#0000FF;stroke-width:2.0px;stroke-linecap:butt;stroke-linejoin:miter;stroke-opacity:1\"/>\n",
       "<path class=\"bond-83 atom-64 atom-81\" d=\"M 395.9,16.6 L 400.7,8.3\" style=\"fill:none;fill-rule:evenodd;stroke:#000000;stroke-width:2.0px;stroke-linecap:butt;stroke-linejoin:miter;stroke-opacity:1\"/>\n",
       "<path class=\"atom-0\" d=\"M 38.7 64.3 L 40.1 66.6 Q 40.3 66.8, 40.5 67.2 Q 40.7 67.6, 40.7 67.6 L 40.7 64.3 L 41.3 64.3 L 41.3 68.6 L 40.7 68.6 L 39.2 66.1 Q 39.0 65.8, 38.9 65.5 Q 38.7 65.2, 38.6 65.1 L 38.6 68.6 L 38.1 68.6 L 38.1 64.3 L 38.7 64.3 \" fill=\"#0000FF\"/>\n",
       "<path class=\"atom-0\" d=\"M 41.8 64.3 L 42.4 64.3 L 42.4 66.1 L 44.5 66.1 L 44.5 64.3 L 45.1 64.3 L 45.1 68.6 L 44.5 68.6 L 44.5 66.6 L 42.4 66.6 L 42.4 68.6 L 41.8 68.6 L 41.8 64.3 \" fill=\"#0000FF\"/>\n",
       "<path class=\"atom-0\" d=\"M 45.6 68.4 Q 45.7 68.2, 46.0 68.0 Q 46.2 67.9, 46.6 67.9 Q 47.0 67.9, 47.2 68.1 Q 47.5 68.3, 47.5 68.7 Q 47.5 69.1, 47.2 69.5 Q 46.8 69.9, 46.2 70.4 L 47.5 70.4 L 47.5 70.7 L 45.6 70.7 L 45.6 70.4 Q 46.1 70.1, 46.4 69.8 Q 46.8 69.5, 46.9 69.2 Q 47.1 69.0, 47.1 68.7 Q 47.1 68.5, 46.9 68.3 Q 46.8 68.2, 46.6 68.2 Q 46.3 68.2, 46.2 68.3 Q 46.0 68.4, 45.9 68.6 L 45.6 68.4 \" fill=\"#0000FF\"/>\n",
       "<path class=\"atom-73\" d=\"M 422.8 50.0 Q 422.8 49.0, 423.3 48.4 Q 423.8 47.9, 424.7 47.9 Q 425.7 47.9, 426.2 48.4 Q 426.7 49.0, 426.7 50.0 Q 426.7 51.1, 426.2 51.6 Q 425.7 52.2, 424.7 52.2 Q 423.8 52.2, 423.3 51.6 Q 422.8 51.1, 422.8 50.0 M 424.7 51.7 Q 425.4 51.7, 425.7 51.3 Q 426.1 50.9, 426.1 50.0 Q 426.1 49.2, 425.7 48.8 Q 425.4 48.3, 424.7 48.3 Q 424.1 48.3, 423.7 48.8 Q 423.4 49.2, 423.4 50.0 Q 423.4 50.9, 423.7 51.3 Q 424.1 51.7, 424.7 51.7 \" fill=\"#FF0000\"/>\n",
       "<path class=\"atom-76\" d=\"M 225.4 141.6 Q 225.4 140.6, 225.9 140.0 Q 226.4 139.4, 227.3 139.4 Q 228.3 139.4, 228.8 140.0 Q 229.3 140.6, 229.3 141.6 Q 229.3 142.6, 228.8 143.2 Q 228.3 143.8, 227.3 143.8 Q 226.4 143.8, 225.9 143.2 Q 225.4 142.6, 225.4 141.6 M 227.3 143.3 Q 228.0 143.3, 228.3 142.9 Q 228.7 142.5, 228.7 141.6 Q 228.7 140.8, 228.3 140.3 Q 228.0 139.9, 227.3 139.9 Q 226.7 139.9, 226.3 140.3 Q 226.0 140.8, 226.0 141.6 Q 226.0 142.5, 226.3 142.9 Q 226.7 143.3, 227.3 143.3 \" fill=\"#FF0000\"/>\n",
       "<path class=\"atom-79\" d=\"M 105.1 99.8 Q 105.1 98.8, 105.6 98.3 Q 106.1 97.7, 107.0 97.7 Q 108.0 97.7, 108.5 98.3 Q 109.0 98.8, 109.0 99.8 Q 109.0 100.9, 108.5 101.5 Q 108.0 102.0, 107.0 102.0 Q 106.1 102.0, 105.6 101.5 Q 105.1 100.9, 105.1 99.8 M 107.0 101.6 Q 107.7 101.6, 108.0 101.1 Q 108.4 100.7, 108.4 99.8 Q 108.4 99.0, 108.0 98.6 Q 107.7 98.2, 107.0 98.2 Q 106.4 98.2, 106.0 98.6 Q 105.7 99.0, 105.7 99.8 Q 105.7 100.7, 106.0 101.1 Q 106.4 101.6, 107.0 101.6 \" fill=\"#FF0000\"/>\n",
       "<path class=\"atom-82\" d=\"M 409.4 6.2 L 410.8 8.4 Q 410.9 8.7, 411.1 9.1 Q 411.4 9.5, 411.4 9.5 L 411.4 6.2 L 411.9 6.2 L 411.9 10.4 L 411.4 10.4 L 409.9 8.0 Q 409.7 7.7, 409.5 7.4 Q 409.3 7.0, 409.3 6.9 L 409.3 10.4 L 408.7 10.4 L 408.7 6.2 L 409.4 6.2 \" fill=\"#0000FF\"/>\n",
       "<path class=\"atom-82\" d=\"M 412.4 6.2 L 413.0 6.2 L 413.0 8.0 L 415.2 8.0 L 415.2 6.2 L 415.8 6.2 L 415.8 10.4 L 415.2 10.4 L 415.2 8.5 L 413.0 8.5 L 413.0 10.4 L 412.4 10.4 L 412.4 6.2 \" fill=\"#0000FF\"/>\n",
       "<path class=\"atom-82\" d=\"M 416.3 10.3 Q 416.4 10.0, 416.6 9.9 Q 416.9 9.7, 417.2 9.7 Q 417.6 9.7, 417.9 10.0 Q 418.1 10.2, 418.1 10.6 Q 418.1 11.0, 417.8 11.4 Q 417.5 11.8, 416.9 12.3 L 418.2 12.3 L 418.2 12.6 L 416.3 12.6 L 416.3 12.3 Q 416.8 11.9, 417.1 11.7 Q 417.4 11.4, 417.6 11.1 Q 417.7 10.9, 417.7 10.6 Q 417.7 10.4, 417.6 10.2 Q 417.4 10.0, 417.2 10.0 Q 417.0 10.0, 416.8 10.1 Q 416.7 10.2, 416.6 10.4 L 416.3 10.3 \" fill=\"#0000FF\"/>\n",
       "</svg>"
      ],
      "text/plain": [
       "<IPython.core.display.SVG object>"
      ]
     },
     "execution_count": 50,
     "metadata": {},
     "output_type": "execute_result"
    }
   ],
   "source": [
    "big_smiles_gen(big)"
   ]
  },
  {
   "cell_type": "code",
   "execution_count": 51,
   "id": "38069241",
   "metadata": {},
   "outputs": [
    {
     "data": {
      "image/svg+xml": [
       "<svg xmlns=\"http://www.w3.org/2000/svg\" xmlns:rdkit=\"http://www.rdkit.org/xml\" xmlns:xlink=\"http://www.w3.org/1999/xlink\" version=\"1.1\" baseProfile=\"full\" xml:space=\"preserve\" width=\"450px\" height=\"150px\" viewBox=\"0 0 450 150\">\n",
       "<!-- END OF HEADER -->\n",
       "<rect style=\"opacity:1.0;fill:#FFFFFF;stroke:none\" width=\"450.0\" height=\"150.0\" x=\"0.0\" y=\"0.0\"> </rect>\n",
       "<path class=\"bond-0 atom-0 atom-1\" d=\"M 362.2,22.9 L 367.1,25.8\" style=\"fill:none;fill-rule:evenodd;stroke:#0000FF;stroke-width:2.0px;stroke-linecap:butt;stroke-linejoin:miter;stroke-opacity:1\"/>\n",
       "<path class=\"bond-0 atom-0 atom-1\" d=\"M 367.1,25.8 L 371.9,28.7\" style=\"fill:none;fill-rule:evenodd;stroke:#000000;stroke-width:2.0px;stroke-linecap:butt;stroke-linejoin:miter;stroke-opacity:1\"/>\n",
       "<path class=\"bond-1 atom-2 atom-3\" d=\"M 371.6,42.4 L 383.3,49.4\" style=\"fill:none;fill-rule:evenodd;stroke:#000000;stroke-width:2.0px;stroke-linecap:butt;stroke-linejoin:miter;stroke-opacity:1\"/>\n",
       "<path class=\"bond-2 atom-1 atom-2\" d=\"M 371.9,28.7 L 371.6,42.4\" style=\"fill:none;fill-rule:evenodd;stroke:#000000;stroke-width:2.0px;stroke-linecap:butt;stroke-linejoin:miter;stroke-opacity:1\"/>\n",
       "<path class=\"bond-3 atom-4 atom-5\" d=\"M 394.8,70.1 L 383.1,63.1\" style=\"fill:none;fill-rule:evenodd;stroke:#000000;stroke-width:2.0px;stroke-linecap:butt;stroke-linejoin:miter;stroke-opacity:1\"/>\n",
       "<path class=\"bond-4 atom-3 atom-5\" d=\"M 383.3,49.4 L 383.1,63.1\" style=\"fill:none;fill-rule:evenodd;stroke:#000000;stroke-width:2.0px;stroke-linecap:butt;stroke-linejoin:miter;stroke-opacity:1\"/>\n",
       "<path class=\"bond-5 atom-6 atom-7\" d=\"M 394.5,83.8 L 406.2,90.8\" style=\"fill:none;fill-rule:evenodd;stroke:#000000;stroke-width:2.0px;stroke-linecap:butt;stroke-linejoin:miter;stroke-opacity:1\"/>\n",
       "<path class=\"bond-6 atom-7 atom-8\" d=\"M 406.2,90.8 L 406.0,104.5\" style=\"fill:none;fill-rule:evenodd;stroke:#000000;stroke-width:2.0px;stroke-linecap:butt;stroke-linejoin:miter;stroke-opacity:1\"/>\n",
       "<path class=\"bond-6 atom-7 atom-8\" d=\"M 408.9,92.9 L 408.7,102.5\" style=\"fill:none;fill-rule:evenodd;stroke:#000000;stroke-width:2.0px;stroke-linecap:butt;stroke-linejoin:miter;stroke-opacity:1\"/>\n",
       "<path class=\"bond-7 atom-8 atom-9\" d=\"M 406.0,104.5 L 417.7,111.5\" style=\"fill:none;fill-rule:evenodd;stroke:#000000;stroke-width:2.0px;stroke-linecap:butt;stroke-linejoin:miter;stroke-opacity:1\"/>\n",
       "<path class=\"bond-8 atom-9 atom-10\" d=\"M 417.7,111.5 L 429.6,104.9\" style=\"fill:none;fill-rule:evenodd;stroke:#000000;stroke-width:2.0px;stroke-linecap:butt;stroke-linejoin:miter;stroke-opacity:1\"/>\n",
       "<path class=\"bond-8 atom-9 atom-10\" d=\"M 418.1,108.1 L 426.5,103.5\" style=\"fill:none;fill-rule:evenodd;stroke:#000000;stroke-width:2.0px;stroke-linecap:butt;stroke-linejoin:miter;stroke-opacity:1\"/>\n",
       "<path class=\"bond-9 atom-10 atom-11\" d=\"M 429.6,104.9 L 429.9,91.3\" style=\"fill:none;fill-rule:evenodd;stroke:#000000;stroke-width:2.0px;stroke-linecap:butt;stroke-linejoin:miter;stroke-opacity:1\"/>\n",
       "<path class=\"bond-10 atom-11 atom-12\" d=\"M 429.9,91.3 L 418.2,84.2\" style=\"fill:none;fill-rule:evenodd;stroke:#000000;stroke-width:2.0px;stroke-linecap:butt;stroke-linejoin:miter;stroke-opacity:1\"/>\n",
       "<path class=\"bond-10 atom-11 atom-12\" d=\"M 426.7,92.5 L 418.5,87.6\" style=\"fill:none;fill-rule:evenodd;stroke:#000000;stroke-width:2.0px;stroke-linecap:butt;stroke-linejoin:miter;stroke-opacity:1\"/>\n",
       "<path class=\"bond-11 atom-12 atom-7\" d=\"M 418.2,84.2 L 406.2,90.8\" style=\"fill:none;fill-rule:evenodd;stroke:#000000;stroke-width:2.0px;stroke-linecap:butt;stroke-linejoin:miter;stroke-opacity:1\"/>\n",
       "<path class=\"bond-12 atom-4 atom-6\" d=\"M 394.8,70.1 L 394.5,83.8\" style=\"fill:none;fill-rule:evenodd;stroke:#000000;stroke-width:2.0px;stroke-linecap:butt;stroke-linejoin:miter;stroke-opacity:1\"/>\n",
       "<path class=\"bond-13 atom-13 atom-14\" d=\"M 370.9,83.3 L 382.6,90.4\" style=\"fill:none;fill-rule:evenodd;stroke:#000000;stroke-width:2.0px;stroke-linecap:butt;stroke-linejoin:miter;stroke-opacity:1\"/>\n",
       "<path class=\"bond-14 atom-6 atom-14\" d=\"M 394.5,83.8 L 382.6,90.4\" style=\"fill:none;fill-rule:evenodd;stroke:#000000;stroke-width:2.0px;stroke-linecap:butt;stroke-linejoin:miter;stroke-opacity:1\"/>\n",
       "<path class=\"bond-15 atom-15 atom-16\" d=\"M 358.9,89.9 L 347.2,82.9\" style=\"fill:none;fill-rule:evenodd;stroke:#000000;stroke-width:2.0px;stroke-linecap:butt;stroke-linejoin:miter;stroke-opacity:1\"/>\n",
       "<path class=\"bond-16 atom-13 atom-15\" d=\"M 370.9,83.3 L 358.9,89.9\" style=\"fill:none;fill-rule:evenodd;stroke:#000000;stroke-width:2.0px;stroke-linecap:butt;stroke-linejoin:miter;stroke-opacity:1\"/>\n",
       "<path class=\"bond-17 atom-17 atom-18\" d=\"M 335.2,89.5 L 335.0,103.2\" style=\"fill:none;fill-rule:evenodd;stroke:#000000;stroke-width:2.0px;stroke-linecap:butt;stroke-linejoin:miter;stroke-opacity:1\"/>\n",
       "<path class=\"bond-18 atom-18 atom-19\" d=\"M 335.0,103.2 L 323.0,109.8\" style=\"fill:none;fill-rule:evenodd;stroke:#000000;stroke-width:2.0px;stroke-linecap:butt;stroke-linejoin:miter;stroke-opacity:1\"/>\n",
       "<path class=\"bond-18 atom-18 atom-19\" d=\"M 334.5,106.5 L 326.2,111.2\" style=\"fill:none;fill-rule:evenodd;stroke:#000000;stroke-width:2.0px;stroke-linecap:butt;stroke-linejoin:miter;stroke-opacity:1\"/>\n",
       "<path class=\"bond-19 atom-19 atom-20\" d=\"M 323.0,109.8 L 322.8,123.4\" style=\"fill:none;fill-rule:evenodd;stroke:#000000;stroke-width:2.0px;stroke-linecap:butt;stroke-linejoin:miter;stroke-opacity:1\"/>\n",
       "<path class=\"bond-20 atom-20 atom-21\" d=\"M 322.8,123.4 L 334.5,130.5\" style=\"fill:none;fill-rule:evenodd;stroke:#000000;stroke-width:2.0px;stroke-linecap:butt;stroke-linejoin:miter;stroke-opacity:1\"/>\n",
       "<path class=\"bond-20 atom-20 atom-21\" d=\"M 326.0,122.1 L 334.1,127.1\" style=\"fill:none;fill-rule:evenodd;stroke:#000000;stroke-width:2.0px;stroke-linecap:butt;stroke-linejoin:miter;stroke-opacity:1\"/>\n",
       "<path class=\"bond-21 atom-21 atom-22\" d=\"M 334.5,130.5 L 346.4,123.9\" style=\"fill:none;fill-rule:evenodd;stroke:#000000;stroke-width:2.0px;stroke-linecap:butt;stroke-linejoin:miter;stroke-opacity:1\"/>\n",
       "<path class=\"bond-22 atom-22 atom-23\" d=\"M 346.4,123.9 L 346.7,110.2\" style=\"fill:none;fill-rule:evenodd;stroke:#000000;stroke-width:2.0px;stroke-linecap:butt;stroke-linejoin:miter;stroke-opacity:1\"/>\n",
       "<path class=\"bond-22 atom-22 atom-23\" d=\"M 343.7,121.8 L 343.9,112.2\" style=\"fill:none;fill-rule:evenodd;stroke:#000000;stroke-width:2.0px;stroke-linecap:butt;stroke-linejoin:miter;stroke-opacity:1\"/>\n",
       "<path class=\"bond-23 atom-23 atom-18\" d=\"M 346.7,110.2 L 335.0,103.2\" style=\"fill:none;fill-rule:evenodd;stroke:#000000;stroke-width:2.0px;stroke-linecap:butt;stroke-linejoin:miter;stroke-opacity:1\"/>\n",
       "<path class=\"bond-24 atom-16 atom-17\" d=\"M 347.2,82.9 L 335.2,89.5\" style=\"fill:none;fill-rule:evenodd;stroke:#000000;stroke-width:2.0px;stroke-linecap:butt;stroke-linejoin:miter;stroke-opacity:1\"/>\n",
       "<path class=\"bond-25 atom-24 atom-25\" d=\"M 311.6,89.1 L 323.5,82.5\" style=\"fill:none;fill-rule:evenodd;stroke:#000000;stroke-width:2.0px;stroke-linecap:butt;stroke-linejoin:miter;stroke-opacity:1\"/>\n",
       "<path class=\"bond-26 atom-17 atom-25\" d=\"M 335.2,89.5 L 323.5,82.5\" style=\"fill:none;fill-rule:evenodd;stroke:#000000;stroke-width:2.0px;stroke-linecap:butt;stroke-linejoin:miter;stroke-opacity:1\"/>\n",
       "<path class=\"bond-27 atom-26 atom-27\" d=\"M 299.9,82.0 L 287.9,88.6\" style=\"fill:none;fill-rule:evenodd;stroke:#000000;stroke-width:2.0px;stroke-linecap:butt;stroke-linejoin:miter;stroke-opacity:1\"/>\n",
       "<path class=\"bond-28 atom-24 atom-26\" d=\"M 311.6,89.1 L 299.9,82.0\" style=\"fill:none;fill-rule:evenodd;stroke:#000000;stroke-width:2.0px;stroke-linecap:butt;stroke-linejoin:miter;stroke-opacity:1\"/>\n",
       "<path class=\"bond-29 atom-28 atom-29\" d=\"M 264.3,88.2 L 276.2,81.6\" style=\"fill:none;fill-rule:evenodd;stroke:#000000;stroke-width:2.0px;stroke-linecap:butt;stroke-linejoin:miter;stroke-opacity:1\"/>\n",
       "<path class=\"bond-30 atom-27 atom-29\" d=\"M 287.9,88.6 L 276.2,81.6\" style=\"fill:none;fill-rule:evenodd;stroke:#000000;stroke-width:2.0px;stroke-linecap:butt;stroke-linejoin:miter;stroke-opacity:1\"/>\n",
       "<path class=\"bond-31 atom-30 atom-31\" d=\"M 252.6,81.1 L 240.6,87.7\" style=\"fill:none;fill-rule:evenodd;stroke:#000000;stroke-width:2.0px;stroke-linecap:butt;stroke-linejoin:miter;stroke-opacity:1\"/>\n",
       "<path class=\"bond-32 atom-28 atom-30\" d=\"M 264.3,88.2 L 252.6,81.1\" style=\"fill:none;fill-rule:evenodd;stroke:#000000;stroke-width:2.0px;stroke-linecap:butt;stroke-linejoin:miter;stroke-opacity:1\"/>\n",
       "<path class=\"bond-33 atom-32 atom-33\" d=\"M 228.9,80.7 L 217.0,87.3\" style=\"fill:none;fill-rule:evenodd;stroke:#000000;stroke-width:2.0px;stroke-linecap:butt;stroke-linejoin:miter;stroke-opacity:1\"/>\n",
       "<path class=\"bond-34 atom-31 atom-32\" d=\"M 240.6,87.7 L 228.9,80.7\" style=\"fill:none;fill-rule:evenodd;stroke:#000000;stroke-width:2.0px;stroke-linecap:butt;stroke-linejoin:miter;stroke-opacity:1\"/>\n",
       "<path class=\"bond-35 atom-34 atom-35\" d=\"M 205.3,80.3 L 193.3,86.9\" style=\"fill:none;fill-rule:evenodd;stroke:#000000;stroke-width:2.0px;stroke-linecap:butt;stroke-linejoin:miter;stroke-opacity:1\"/>\n",
       "<path class=\"bond-36 atom-33 atom-34\" d=\"M 217.0,87.3 L 205.3,80.3\" style=\"fill:none;fill-rule:evenodd;stroke:#000000;stroke-width:2.0px;stroke-linecap:butt;stroke-linejoin:miter;stroke-opacity:1\"/>\n",
       "<path class=\"bond-37 atom-36 atom-37\" d=\"M 181.6,79.8 L 181.8,66.2\" style=\"fill:none;fill-rule:evenodd;stroke:#000000;stroke-width:2.0px;stroke-linecap:butt;stroke-linejoin:miter;stroke-opacity:1\"/>\n",
       "<path class=\"bond-38 atom-37 atom-38\" d=\"M 181.8,66.2 L 193.8,59.5\" style=\"fill:none;fill-rule:evenodd;stroke:#000000;stroke-width:2.0px;stroke-linecap:butt;stroke-linejoin:miter;stroke-opacity:1\"/>\n",
       "<path class=\"bond-38 atom-37 atom-38\" d=\"M 182.3,62.8 L 190.7,58.1\" style=\"fill:none;fill-rule:evenodd;stroke:#000000;stroke-width:2.0px;stroke-linecap:butt;stroke-linejoin:miter;stroke-opacity:1\"/>\n",
       "<path class=\"bond-39 atom-38 atom-39\" d=\"M 193.8,59.5 L 194.1,45.9\" style=\"fill:none;fill-rule:evenodd;stroke:#000000;stroke-width:2.0px;stroke-linecap:butt;stroke-linejoin:miter;stroke-opacity:1\"/>\n",
       "<path class=\"bond-40 atom-39 atom-40\" d=\"M 194.1,45.9 L 182.4,38.8\" style=\"fill:none;fill-rule:evenodd;stroke:#000000;stroke-width:2.0px;stroke-linecap:butt;stroke-linejoin:miter;stroke-opacity:1\"/>\n",
       "<path class=\"bond-40 atom-39 atom-40\" d=\"M 190.9,47.2 L 182.7,42.2\" style=\"fill:none;fill-rule:evenodd;stroke:#000000;stroke-width:2.0px;stroke-linecap:butt;stroke-linejoin:miter;stroke-opacity:1\"/>\n",
       "<path class=\"bond-41 atom-40 atom-41\" d=\"M 182.4,38.8 L 170.4,45.4\" style=\"fill:none;fill-rule:evenodd;stroke:#000000;stroke-width:2.0px;stroke-linecap:butt;stroke-linejoin:miter;stroke-opacity:1\"/>\n",
       "<path class=\"bond-42 atom-41 atom-42\" d=\"M 170.4,45.4 L 170.1,59.1\" style=\"fill:none;fill-rule:evenodd;stroke:#000000;stroke-width:2.0px;stroke-linecap:butt;stroke-linejoin:miter;stroke-opacity:1\"/>\n",
       "<path class=\"bond-42 atom-41 atom-42\" d=\"M 173.1,47.5 L 172.9,57.1\" style=\"fill:none;fill-rule:evenodd;stroke:#000000;stroke-width:2.0px;stroke-linecap:butt;stroke-linejoin:miter;stroke-opacity:1\"/>\n",
       "<path class=\"bond-43 atom-42 atom-37\" d=\"M 170.1,59.1 L 181.8,66.2\" style=\"fill:none;fill-rule:evenodd;stroke:#000000;stroke-width:2.0px;stroke-linecap:butt;stroke-linejoin:miter;stroke-opacity:1\"/>\n",
       "<path class=\"bond-44 atom-35 atom-36\" d=\"M 193.3,86.9 L 181.6,79.8\" style=\"fill:none;fill-rule:evenodd;stroke:#000000;stroke-width:2.0px;stroke-linecap:butt;stroke-linejoin:miter;stroke-opacity:1\"/>\n",
       "<path class=\"bond-45 atom-43 atom-44\" d=\"M 157.9,79.4 L 169.6,86.4\" style=\"fill:none;fill-rule:evenodd;stroke:#000000;stroke-width:2.0px;stroke-linecap:butt;stroke-linejoin:miter;stroke-opacity:1\"/>\n",
       "<path class=\"bond-46 atom-36 atom-44\" d=\"M 181.6,79.8 L 169.6,86.4\" style=\"fill:none;fill-rule:evenodd;stroke:#000000;stroke-width:2.0px;stroke-linecap:butt;stroke-linejoin:miter;stroke-opacity:1\"/>\n",
       "<path class=\"bond-47 atom-45 atom-46\" d=\"M 146.0,86.0 L 134.3,78.9\" style=\"fill:none;fill-rule:evenodd;stroke:#000000;stroke-width:2.0px;stroke-linecap:butt;stroke-linejoin:miter;stroke-opacity:1\"/>\n",
       "<path class=\"bond-48 atom-43 atom-45\" d=\"M 157.9,79.4 L 146.0,86.0\" style=\"fill:none;fill-rule:evenodd;stroke:#000000;stroke-width:2.0px;stroke-linecap:butt;stroke-linejoin:miter;stroke-opacity:1\"/>\n",
       "<path class=\"bond-49 atom-47 atom-48\" d=\"M 122.3,85.5 L 122.1,99.2\" style=\"fill:none;fill-rule:evenodd;stroke:#000000;stroke-width:2.0px;stroke-linecap:butt;stroke-linejoin:miter;stroke-opacity:1\"/>\n",
       "<path class=\"bond-50 atom-48 atom-49\" d=\"M 122.1,99.2 L 110.1,105.8\" style=\"fill:none;fill-rule:evenodd;stroke:#000000;stroke-width:2.0px;stroke-linecap:butt;stroke-linejoin:miter;stroke-opacity:1\"/>\n",
       "<path class=\"bond-50 atom-48 atom-49\" d=\"M 121.6,102.6 L 113.2,107.2\" style=\"fill:none;fill-rule:evenodd;stroke:#000000;stroke-width:2.0px;stroke-linecap:butt;stroke-linejoin:miter;stroke-opacity:1\"/>\n",
       "<path class=\"bond-51 atom-49 atom-50\" d=\"M 110.1,105.8 L 109.9,119.5\" style=\"fill:none;fill-rule:evenodd;stroke:#000000;stroke-width:2.0px;stroke-linecap:butt;stroke-linejoin:miter;stroke-opacity:1\"/>\n",
       "<path class=\"bond-52 atom-50 atom-51\" d=\"M 109.9,119.5 L 121.6,126.5\" style=\"fill:none;fill-rule:evenodd;stroke:#000000;stroke-width:2.0px;stroke-linecap:butt;stroke-linejoin:miter;stroke-opacity:1\"/>\n",
       "<path class=\"bond-52 atom-50 atom-51\" d=\"M 113.0,118.2 L 121.2,123.1\" style=\"fill:none;fill-rule:evenodd;stroke:#000000;stroke-width:2.0px;stroke-linecap:butt;stroke-linejoin:miter;stroke-opacity:1\"/>\n",
       "<path class=\"bond-53 atom-51 atom-52\" d=\"M 121.6,126.5 L 133.5,119.9\" style=\"fill:none;fill-rule:evenodd;stroke:#000000;stroke-width:2.0px;stroke-linecap:butt;stroke-linejoin:miter;stroke-opacity:1\"/>\n",
       "<path class=\"bond-54 atom-52 atom-53\" d=\"M 133.5,119.9 L 133.8,106.3\" style=\"fill:none;fill-rule:evenodd;stroke:#000000;stroke-width:2.0px;stroke-linecap:butt;stroke-linejoin:miter;stroke-opacity:1\"/>\n",
       "<path class=\"bond-54 atom-52 atom-53\" d=\"M 130.8,117.8 L 131.0,108.2\" style=\"fill:none;fill-rule:evenodd;stroke:#000000;stroke-width:2.0px;stroke-linecap:butt;stroke-linejoin:miter;stroke-opacity:1\"/>\n",
       "<path class=\"bond-55 atom-53 atom-48\" d=\"M 133.8,106.3 L 122.1,99.2\" style=\"fill:none;fill-rule:evenodd;stroke:#000000;stroke-width:2.0px;stroke-linecap:butt;stroke-linejoin:miter;stroke-opacity:1\"/>\n",
       "<path class=\"bond-56 atom-46 atom-47\" d=\"M 134.3,78.9 L 122.3,85.5\" style=\"fill:none;fill-rule:evenodd;stroke:#000000;stroke-width:2.0px;stroke-linecap:butt;stroke-linejoin:miter;stroke-opacity:1\"/>\n",
       "<path class=\"bond-57 atom-54 atom-55\" d=\"M 110.6,78.5 L 98.7,85.1\" style=\"fill:none;fill-rule:evenodd;stroke:#000000;stroke-width:2.0px;stroke-linecap:butt;stroke-linejoin:miter;stroke-opacity:1\"/>\n",
       "<path class=\"bond-58 atom-47 atom-54\" d=\"M 122.3,85.5 L 110.6,78.5\" style=\"fill:none;fill-rule:evenodd;stroke:#000000;stroke-width:2.0px;stroke-linecap:butt;stroke-linejoin:miter;stroke-opacity:1\"/>\n",
       "<path class=\"bond-59 atom-56 atom-57\" d=\"M 87.0,78.1 L 75.0,84.7\" style=\"fill:none;fill-rule:evenodd;stroke:#000000;stroke-width:2.0px;stroke-linecap:butt;stroke-linejoin:miter;stroke-opacity:1\"/>\n",
       "<path class=\"bond-60 atom-55 atom-56\" d=\"M 98.7,85.1 L 87.0,78.1\" style=\"fill:none;fill-rule:evenodd;stroke:#000000;stroke-width:2.0px;stroke-linecap:butt;stroke-linejoin:miter;stroke-opacity:1\"/>\n",
       "<path class=\"bond-61 atom-58 atom-59\" d=\"M 63.3,77.6 L 51.3,84.2\" style=\"fill:none;fill-rule:evenodd;stroke:#000000;stroke-width:2.0px;stroke-linecap:butt;stroke-linejoin:miter;stroke-opacity:1\"/>\n",
       "<path class=\"bond-62 atom-57 atom-58\" d=\"M 75.0,84.7 L 63.3,77.6\" style=\"fill:none;fill-rule:evenodd;stroke:#000000;stroke-width:2.0px;stroke-linecap:butt;stroke-linejoin:miter;stroke-opacity:1\"/>\n",
       "<path class=\"bond-63 atom-60 atom-61\" d=\"M 39.6,77.2 L 34.7,79.9\" style=\"fill:none;fill-rule:evenodd;stroke:#000000;stroke-width:2.0px;stroke-linecap:butt;stroke-linejoin:miter;stroke-opacity:1\"/>\n",
       "<path class=\"bond-63 atom-60 atom-61\" d=\"M 34.7,79.9 L 29.8,82.6\" style=\"fill:none;fill-rule:evenodd;stroke:#0000FF;stroke-width:2.0px;stroke-linecap:butt;stroke-linejoin:miter;stroke-opacity:1\"/>\n",
       "<path class=\"bond-64 atom-59 atom-60\" d=\"M 51.3,84.2 L 39.6,77.2\" style=\"fill:none;fill-rule:evenodd;stroke:#000000;stroke-width:2.0px;stroke-linecap:butt;stroke-linejoin:miter;stroke-opacity:1\"/>\n",
       "<path class=\"atom-0\" d=\"M 352.6 19.5 L 353.2 19.5 L 353.2 21.3 L 355.4 21.3 L 355.4 19.5 L 355.9 19.5 L 355.9 23.8 L 355.4 23.8 L 355.4 21.8 L 353.2 21.8 L 353.2 23.8 L 352.6 23.8 L 352.6 19.5 \" fill=\"#0000FF\"/>\n",
       "<path class=\"atom-0\" d=\"M 356.4 23.6 Q 356.6 23.4, 356.8 23.2 Q 357.0 23.1, 357.4 23.1 Q 357.8 23.1, 358.0 23.3 Q 358.3 23.5, 358.3 23.9 Q 358.3 24.3, 358.0 24.7 Q 357.7 25.1, 357.0 25.6 L 358.3 25.6 L 358.3 25.9 L 356.4 25.9 L 356.4 25.6 Q 357.0 25.3, 357.3 25.0 Q 357.6 24.7, 357.7 24.5 Q 357.9 24.2, 357.9 23.9 Q 357.9 23.7, 357.8 23.5 Q 357.6 23.4, 357.4 23.4 Q 357.2 23.4, 357.0 23.5 Q 356.9 23.6, 356.7 23.8 L 356.4 23.6 \" fill=\"#0000FF\"/>\n",
       "<path class=\"atom-0\" d=\"M 359.2 19.5 L 360.6 21.8 Q 360.8 22.0, 361.0 22.4 Q 361.2 22.8, 361.2 22.8 L 361.2 19.5 L 361.8 19.5 L 361.8 23.8 L 361.2 23.8 L 359.7 21.3 Q 359.5 21.0, 359.4 20.7 Q 359.2 20.4, 359.1 20.3 L 359.1 23.8 L 358.6 23.8 L 358.6 19.5 L 359.2 19.5 \" fill=\"#0000FF\"/>\n",
       "<path class=\"atom-61\" d=\"M 20.1 81.7 L 20.7 81.7 L 20.7 83.5 L 22.9 83.5 L 22.9 81.7 L 23.4 81.7 L 23.4 85.9 L 22.9 85.9 L 22.9 83.9 L 20.7 83.9 L 20.7 85.9 L 20.1 85.9 L 20.1 81.7 \" fill=\"#0000FF\"/>\n",
       "<path class=\"atom-61\" d=\"M 24.0 85.8 Q 24.1 85.5, 24.3 85.3 Q 24.6 85.2, 24.9 85.2 Q 25.3 85.2, 25.6 85.4 Q 25.8 85.7, 25.8 86.1 Q 25.8 86.5, 25.5 86.9 Q 25.2 87.3, 24.5 87.7 L 25.8 87.7 L 25.8 88.0 L 24.0 88.0 L 24.0 87.8 Q 24.5 87.4, 24.8 87.1 Q 25.1 86.8, 25.2 86.6 Q 25.4 86.3, 25.4 86.1 Q 25.4 85.8, 25.3 85.7 Q 25.1 85.5, 24.9 85.5 Q 24.7 85.5, 24.5 85.6 Q 24.4 85.7, 24.3 85.9 L 24.0 85.8 \" fill=\"#0000FF\"/>\n",
       "<path class=\"atom-61\" d=\"M 26.7 81.7 L 28.1 83.9 Q 28.3 84.1, 28.5 84.5 Q 28.7 84.9, 28.7 85.0 L 28.7 81.7 L 29.3 81.7 L 29.3 85.9 L 28.7 85.9 L 27.2 83.4 Q 27.0 83.2, 26.9 82.8 Q 26.7 82.5, 26.6 82.4 L 26.6 85.9 L 26.1 85.9 L 26.1 81.7 L 26.7 81.7 \" fill=\"#0000FF\"/>\n",
       "</svg>"
      ],
      "text/plain": [
       "<IPython.core.display.SVG object>"
      ]
     },
     "execution_count": 51,
     "metadata": {},
     "output_type": "execute_result"
    }
   ],
   "source": [
    "big_smiles_gen(big)"
   ]
  },
  {
   "cell_type": "code",
   "execution_count": 52,
   "id": "d324da10",
   "metadata": {},
   "outputs": [
    {
     "data": {
      "image/svg+xml": [
       "<svg xmlns=\"http://www.w3.org/2000/svg\" xmlns:rdkit=\"http://www.rdkit.org/xml\" xmlns:xlink=\"http://www.w3.org/1999/xlink\" version=\"1.1\" baseProfile=\"full\" xml:space=\"preserve\" width=\"450px\" height=\"150px\" viewBox=\"0 0 450 150\">\n",
       "<!-- END OF HEADER -->\n",
       "<rect style=\"opacity:1.0;fill:#FFFFFF;stroke:none\" width=\"450.0\" height=\"150.0\" x=\"0.0\" y=\"0.0\"> </rect>\n",
       "<path class=\"bond-0 atom-0 atom-1\" d=\"M 73.9,110.4 L 77.9,111.0\" style=\"fill:none;fill-rule:evenodd;stroke:#0000FF;stroke-width:2.0px;stroke-linecap:butt;stroke-linejoin:miter;stroke-opacity:1\"/>\n",
       "<path class=\"bond-0 atom-0 atom-1\" d=\"M 77.9,111.0 L 81.8,111.6\" style=\"fill:none;fill-rule:evenodd;stroke:#000000;stroke-width:2.0px;stroke-linecap:butt;stroke-linejoin:miter;stroke-opacity:1\"/>\n",
       "<path class=\"bond-1 atom-2 atom-3\" d=\"M 97.7,105.4 L 88.0,103.9\" style=\"fill:none;fill-rule:evenodd;stroke:#000000;stroke-width:2.0px;stroke-linecap:butt;stroke-linejoin:miter;stroke-opacity:1\"/>\n",
       "<path class=\"bond-2 atom-1 atom-3\" d=\"M 81.8,111.6 L 88.0,103.9\" style=\"fill:none;fill-rule:evenodd;stroke:#000000;stroke-width:2.0px;stroke-linecap:butt;stroke-linejoin:miter;stroke-opacity:1\"/>\n",
       "<path class=\"bond-3 atom-4 atom-5\" d=\"M 113.7,99.2 L 103.9,97.7\" style=\"fill:none;fill-rule:evenodd;stroke:#000000;stroke-width:2.0px;stroke-linecap:butt;stroke-linejoin:miter;stroke-opacity:1\"/>\n",
       "<path class=\"bond-4 atom-2 atom-5\" d=\"M 97.7,105.4 L 103.9,97.7\" style=\"fill:none;fill-rule:evenodd;stroke:#000000;stroke-width:2.0px;stroke-linecap:butt;stroke-linejoin:miter;stroke-opacity:1\"/>\n",
       "<path class=\"bond-5 atom-6 atom-7\" d=\"M 119.9,91.4 L 129.7,92.9\" style=\"fill:none;fill-rule:evenodd;stroke:#000000;stroke-width:2.0px;stroke-linecap:butt;stroke-linejoin:miter;stroke-opacity:1\"/>\n",
       "<path class=\"bond-6 atom-4 atom-6\" d=\"M 113.7,99.2 L 119.9,91.4\" style=\"fill:none;fill-rule:evenodd;stroke:#000000;stroke-width:2.0px;stroke-linecap:butt;stroke-linejoin:miter;stroke-opacity:1\"/>\n",
       "<path class=\"bond-7 atom-8 atom-9\" d=\"M 145.6,86.7 L 135.9,85.2\" style=\"fill:none;fill-rule:evenodd;stroke:#000000;stroke-width:2.0px;stroke-linecap:butt;stroke-linejoin:miter;stroke-opacity:1\"/>\n",
       "<path class=\"bond-8 atom-7 atom-9\" d=\"M 129.7,92.9 L 135.9,85.2\" style=\"fill:none;fill-rule:evenodd;stroke:#000000;stroke-width:2.0px;stroke-linecap:butt;stroke-linejoin:miter;stroke-opacity:1\"/>\n",
       "<path class=\"bond-9 atom-10 atom-11\" d=\"M 151.8,79.0 L 161.6,80.5\" style=\"fill:none;fill-rule:evenodd;stroke:#000000;stroke-width:2.0px;stroke-linecap:butt;stroke-linejoin:miter;stroke-opacity:1\"/>\n",
       "<path class=\"bond-10 atom-8 atom-10\" d=\"M 145.6,86.7 L 151.8,79.0\" style=\"fill:none;fill-rule:evenodd;stroke:#000000;stroke-width:2.0px;stroke-linecap:butt;stroke-linejoin:miter;stroke-opacity:1\"/>\n",
       "<path class=\"bond-11 atom-12 atom-13\" d=\"M 167.8,72.8 L 177.6,74.3\" style=\"fill:none;fill-rule:evenodd;stroke:#000000;stroke-width:2.0px;stroke-linecap:butt;stroke-linejoin:miter;stroke-opacity:1\"/>\n",
       "<path class=\"bond-12 atom-11 atom-12\" d=\"M 161.6,80.5 L 167.8,72.8\" style=\"fill:none;fill-rule:evenodd;stroke:#000000;stroke-width:2.0px;stroke-linecap:butt;stroke-linejoin:miter;stroke-opacity:1\"/>\n",
       "<path class=\"bond-13 atom-14 atom-15\" d=\"M 183.8,66.6 L 193.5,68.1\" style=\"fill:none;fill-rule:evenodd;stroke:#000000;stroke-width:2.0px;stroke-linecap:butt;stroke-linejoin:miter;stroke-opacity:1\"/>\n",
       "<path class=\"bond-14 atom-13 atom-14\" d=\"M 177.6,74.3 L 183.8,66.6\" style=\"fill:none;fill-rule:evenodd;stroke:#000000;stroke-width:2.0px;stroke-linecap:butt;stroke-linejoin:miter;stroke-opacity:1\"/>\n",
       "<path class=\"bond-15 atom-16 atom-17\" d=\"M 199.7,60.3 L 209.5,61.8\" style=\"fill:none;fill-rule:evenodd;stroke:#000000;stroke-width:2.0px;stroke-linecap:butt;stroke-linejoin:miter;stroke-opacity:1\"/>\n",
       "<path class=\"bond-16 atom-17 atom-18\" d=\"M 209.5,61.8 L 215.7,54.1\" style=\"fill:none;fill-rule:evenodd;stroke:#000000;stroke-width:2.0px;stroke-linecap:butt;stroke-linejoin:miter;stroke-opacity:1\"/>\n",
       "<path class=\"bond-17 atom-18 atom-19\" d=\"M 215.7,54.1 L 212.1,44.9\" style=\"fill:none;fill-rule:evenodd;stroke:#000000;stroke-width:2.0px;stroke-linecap:butt;stroke-linejoin:miter;stroke-opacity:1\"/>\n",
       "<path class=\"bond-18 atom-18 atom-20\" d=\"M 215.7,54.1 L 225.5,55.6\" style=\"fill:none;fill-rule:evenodd;stroke:#000000;stroke-width:2.0px;stroke-linecap:butt;stroke-linejoin:miter;stroke-opacity:1\"/>\n",
       "<path class=\"bond-19 atom-20 atom-21\" d=\"M 225.5,55.6 L 231.7,47.9\" style=\"fill:none;fill-rule:evenodd;stroke:#000000;stroke-width:2.0px;stroke-linecap:butt;stroke-linejoin:miter;stroke-opacity:1\"/>\n",
       "<path class=\"bond-20 atom-15 atom-16\" d=\"M 193.5,68.1 L 199.7,60.3\" style=\"fill:none;fill-rule:evenodd;stroke:#000000;stroke-width:2.0px;stroke-linecap:butt;stroke-linejoin:miter;stroke-opacity:1\"/>\n",
       "<path class=\"bond-21 atom-22 atom-23\" d=\"M 247.6,41.7 L 241.5,49.4\" style=\"fill:none;fill-rule:evenodd;stroke:#000000;stroke-width:2.0px;stroke-linecap:butt;stroke-linejoin:miter;stroke-opacity:1\"/>\n",
       "<path class=\"bond-22 atom-21 atom-23\" d=\"M 231.7,47.9 L 241.5,49.4\" style=\"fill:none;fill-rule:evenodd;stroke:#000000;stroke-width:2.0px;stroke-linecap:butt;stroke-linejoin:miter;stroke-opacity:1\"/>\n",
       "<path class=\"bond-23 atom-24 atom-25\" d=\"M 263.6,35.5 L 257.4,43.2\" style=\"fill:none;fill-rule:evenodd;stroke:#000000;stroke-width:2.0px;stroke-linecap:butt;stroke-linejoin:miter;stroke-opacity:1\"/>\n",
       "<path class=\"bond-24 atom-22 atom-25\" d=\"M 247.6,41.7 L 257.4,43.2\" style=\"fill:none;fill-rule:evenodd;stroke:#000000;stroke-width:2.0px;stroke-linecap:butt;stroke-linejoin:miter;stroke-opacity:1\"/>\n",
       "<path class=\"bond-25 atom-26 atom-27\" d=\"M 273.4,37.0 L 279.6,29.3\" style=\"fill:none;fill-rule:evenodd;stroke:#000000;stroke-width:2.0px;stroke-linecap:butt;stroke-linejoin:miter;stroke-opacity:1\"/>\n",
       "<path class=\"bond-26 atom-24 atom-26\" d=\"M 263.6,35.5 L 273.4,37.0\" style=\"fill:none;fill-rule:evenodd;stroke:#000000;stroke-width:2.0px;stroke-linecap:butt;stroke-linejoin:miter;stroke-opacity:1\"/>\n",
       "<path class=\"bond-27 atom-28 atom-29\" d=\"M 289.4,30.8 L 295.5,23.0\" style=\"fill:none;fill-rule:evenodd;stroke:#000000;stroke-width:2.0px;stroke-linecap:butt;stroke-linejoin:miter;stroke-opacity:1\"/>\n",
       "<path class=\"bond-28 atom-29 atom-30\" d=\"M 295.5,23.0 L 305.3,24.5\" style=\"fill:none;fill-rule:evenodd;stroke:#000000;stroke-width:2.0px;stroke-linecap:butt;stroke-linejoin:miter;stroke-opacity:1\"/>\n",
       "<path class=\"bond-28 atom-29 atom-30\" d=\"M 297.3,21.3 L 304.2,22.4\" style=\"fill:none;fill-rule:evenodd;stroke:#000000;stroke-width:2.0px;stroke-linecap:butt;stroke-linejoin:miter;stroke-opacity:1\"/>\n",
       "<path class=\"bond-29 atom-30 atom-31\" d=\"M 305.3,24.5 L 311.5,16.8\" style=\"fill:none;fill-rule:evenodd;stroke:#000000;stroke-width:2.0px;stroke-linecap:butt;stroke-linejoin:miter;stroke-opacity:1\"/>\n",
       "<path class=\"bond-30 atom-31 atom-32\" d=\"M 311.5,16.8 L 307.9,7.6\" style=\"fill:none;fill-rule:evenodd;stroke:#000000;stroke-width:2.0px;stroke-linecap:butt;stroke-linejoin:miter;stroke-opacity:1\"/>\n",
       "<path class=\"bond-30 atom-31 atom-32\" d=\"M 309.1,16.1 L 306.6,9.7\" style=\"fill:none;fill-rule:evenodd;stroke:#000000;stroke-width:2.0px;stroke-linecap:butt;stroke-linejoin:miter;stroke-opacity:1\"/>\n",
       "<path class=\"bond-31 atom-32 atom-33\" d=\"M 307.9,7.6 L 298.1,6.1\" style=\"fill:none;fill-rule:evenodd;stroke:#000000;stroke-width:2.0px;stroke-linecap:butt;stroke-linejoin:miter;stroke-opacity:1\"/>\n",
       "<path class=\"bond-32 atom-33 atom-34\" d=\"M 298.1,6.1 L 292.0,13.8\" style=\"fill:none;fill-rule:evenodd;stroke:#000000;stroke-width:2.0px;stroke-linecap:butt;stroke-linejoin:miter;stroke-opacity:1\"/>\n",
       "<path class=\"bond-32 atom-33 atom-34\" d=\"M 298.8,8.5 L 294.4,13.9\" style=\"fill:none;fill-rule:evenodd;stroke:#000000;stroke-width:2.0px;stroke-linecap:butt;stroke-linejoin:miter;stroke-opacity:1\"/>\n",
       "<path class=\"bond-33 atom-34 atom-29\" d=\"M 292.0,13.8 L 295.5,23.0\" style=\"fill:none;fill-rule:evenodd;stroke:#000000;stroke-width:2.0px;stroke-linecap:butt;stroke-linejoin:miter;stroke-opacity:1\"/>\n",
       "<path class=\"bond-34 atom-27 atom-28\" d=\"M 279.6,29.3 L 289.4,30.8\" style=\"fill:none;fill-rule:evenodd;stroke:#000000;stroke-width:2.0px;stroke-linecap:butt;stroke-linejoin:miter;stroke-opacity:1\"/>\n",
       "<path class=\"bond-35 atom-35 atom-36\" d=\"M 286.8,47.7 L 292.9,40.0\" style=\"fill:none;fill-rule:evenodd;stroke:#000000;stroke-width:2.0px;stroke-linecap:butt;stroke-linejoin:miter;stroke-opacity:1\"/>\n",
       "<path class=\"bond-36 atom-28 atom-36\" d=\"M 289.4,30.8 L 292.9,40.0\" style=\"fill:none;fill-rule:evenodd;stroke:#000000;stroke-width:2.0px;stroke-linecap:butt;stroke-linejoin:miter;stroke-opacity:1\"/>\n",
       "<path class=\"bond-37 atom-37 atom-38\" d=\"M 290.3,56.9 L 284.2,64.6\" style=\"fill:none;fill-rule:evenodd;stroke:#000000;stroke-width:2.0px;stroke-linecap:butt;stroke-linejoin:miter;stroke-opacity:1\"/>\n",
       "<path class=\"bond-38 atom-38 atom-39\" d=\"M 284.2,64.6 L 287.7,73.8\" style=\"fill:none;fill-rule:evenodd;stroke:#000000;stroke-width:2.0px;stroke-linecap:butt;stroke-linejoin:miter;stroke-opacity:1\"/>\n",
       "<path class=\"bond-39 atom-39 atom-40\" d=\"M 287.7,73.8 L 281.6,81.6\" style=\"fill:none;fill-rule:evenodd;stroke:#000000;stroke-width:2.0px;stroke-linecap:butt;stroke-linejoin:miter;stroke-opacity:1\"/>\n",
       "<path class=\"bond-40 atom-39 atom-41\" d=\"M 287.7,73.8 L 297.5,75.3\" style=\"fill:none;fill-rule:evenodd;stroke:#000000;stroke-width:2.0px;stroke-linecap:butt;stroke-linejoin:miter;stroke-opacity:1\"/>\n",
       "<path class=\"bond-41 atom-41 atom-42\" d=\"M 297.5,75.3 L 301.1,84.6\" style=\"fill:none;fill-rule:evenodd;stroke:#000000;stroke-width:2.0px;stroke-linecap:butt;stroke-linejoin:miter;stroke-opacity:1\"/>\n",
       "<path class=\"bond-42 atom-35 atom-37\" d=\"M 286.8,47.7 L 290.3,56.9\" style=\"fill:none;fill-rule:evenodd;stroke:#000000;stroke-width:2.0px;stroke-linecap:butt;stroke-linejoin:miter;stroke-opacity:1\"/>\n",
       "<path class=\"bond-43 atom-43 atom-44\" d=\"M 310.9,86.1 L 314.5,95.3\" style=\"fill:none;fill-rule:evenodd;stroke:#000000;stroke-width:2.0px;stroke-linecap:butt;stroke-linejoin:miter;stroke-opacity:1\"/>\n",
       "<path class=\"bond-44 atom-42 atom-43\" d=\"M 301.1,84.6 L 310.9,86.1\" style=\"fill:none;fill-rule:evenodd;stroke:#000000;stroke-width:2.0px;stroke-linecap:butt;stroke-linejoin:miter;stroke-opacity:1\"/>\n",
       "<path class=\"bond-45 atom-45 atom-46\" d=\"M 324.3,96.8 L 330.5,89.1\" style=\"fill:none;fill-rule:evenodd;stroke:#000000;stroke-width:2.0px;stroke-linecap:butt;stroke-linejoin:miter;stroke-opacity:1\"/>\n",
       "<path class=\"bond-46 atom-46 atom-47\" d=\"M 330.5,89.1 L 340.2,90.6\" style=\"fill:none;fill-rule:evenodd;stroke:#000000;stroke-width:2.0px;stroke-linecap:butt;stroke-linejoin:miter;stroke-opacity:1\"/>\n",
       "<path class=\"bond-46 atom-46 atom-47\" d=\"M 332.2,87.3 L 339.1,88.4\" style=\"fill:none;fill-rule:evenodd;stroke:#000000;stroke-width:2.0px;stroke-linecap:butt;stroke-linejoin:miter;stroke-opacity:1\"/>\n",
       "<path class=\"bond-47 atom-47 atom-48\" d=\"M 340.2,90.6 L 346.4,82.8\" style=\"fill:none;fill-rule:evenodd;stroke:#000000;stroke-width:2.0px;stroke-linecap:butt;stroke-linejoin:miter;stroke-opacity:1\"/>\n",
       "<path class=\"bond-48 atom-48 atom-49\" d=\"M 346.4,82.8 L 342.8,73.6\" style=\"fill:none;fill-rule:evenodd;stroke:#000000;stroke-width:2.0px;stroke-linecap:butt;stroke-linejoin:miter;stroke-opacity:1\"/>\n",
       "<path class=\"bond-48 atom-48 atom-49\" d=\"M 344.0,82.2 L 341.5,75.7\" style=\"fill:none;fill-rule:evenodd;stroke:#000000;stroke-width:2.0px;stroke-linecap:butt;stroke-linejoin:miter;stroke-opacity:1\"/>\n",
       "<path class=\"bond-49 atom-49 atom-50\" d=\"M 342.8,73.6 L 333.1,72.1\" style=\"fill:none;fill-rule:evenodd;stroke:#000000;stroke-width:2.0px;stroke-linecap:butt;stroke-linejoin:miter;stroke-opacity:1\"/>\n",
       "<path class=\"bond-50 atom-50 atom-51\" d=\"M 333.1,72.1 L 326.9,79.8\" style=\"fill:none;fill-rule:evenodd;stroke:#000000;stroke-width:2.0px;stroke-linecap:butt;stroke-linejoin:miter;stroke-opacity:1\"/>\n",
       "<path class=\"bond-50 atom-50 atom-51\" d=\"M 333.7,74.5 L 329.3,79.9\" style=\"fill:none;fill-rule:evenodd;stroke:#000000;stroke-width:2.0px;stroke-linecap:butt;stroke-linejoin:miter;stroke-opacity:1\"/>\n",
       "<path class=\"bond-51 atom-51 atom-46\" d=\"M 326.9,79.8 L 330.5,89.1\" style=\"fill:none;fill-rule:evenodd;stroke:#000000;stroke-width:2.0px;stroke-linecap:butt;stroke-linejoin:miter;stroke-opacity:1\"/>\n",
       "<path class=\"bond-52 atom-44 atom-45\" d=\"M 314.5,95.3 L 324.3,96.8\" style=\"fill:none;fill-rule:evenodd;stroke:#000000;stroke-width:2.0px;stroke-linecap:butt;stroke-linejoin:miter;stroke-opacity:1\"/>\n",
       "<path class=\"bond-53 atom-52 atom-53\" d=\"M 337.6,107.5 L 327.9,106.0\" style=\"fill:none;fill-rule:evenodd;stroke:#000000;stroke-width:2.0px;stroke-linecap:butt;stroke-linejoin:miter;stroke-opacity:1\"/>\n",
       "<path class=\"bond-54 atom-45 atom-53\" d=\"M 324.3,96.8 L 327.9,106.0\" style=\"fill:none;fill-rule:evenodd;stroke:#000000;stroke-width:2.0px;stroke-linecap:butt;stroke-linejoin:miter;stroke-opacity:1\"/>\n",
       "<path class=\"bond-55 atom-54 atom-55\" d=\"M 341.2,116.7 L 351.0,118.2\" style=\"fill:none;fill-rule:evenodd;stroke:#000000;stroke-width:2.0px;stroke-linecap:butt;stroke-linejoin:miter;stroke-opacity:1\"/>\n",
       "<path class=\"bond-56 atom-52 atom-54\" d=\"M 337.6,107.5 L 341.2,116.7\" style=\"fill:none;fill-rule:evenodd;stroke:#000000;stroke-width:2.0px;stroke-linecap:butt;stroke-linejoin:miter;stroke-opacity:1\"/>\n",
       "<path class=\"bond-57 atom-56 atom-57\" d=\"M 364.4,128.9 L 354.6,127.4\" style=\"fill:none;fill-rule:evenodd;stroke:#000000;stroke-width:2.0px;stroke-linecap:butt;stroke-linejoin:miter;stroke-opacity:1\"/>\n",
       "<path class=\"bond-58 atom-55 atom-57\" d=\"M 351.0,118.2 L 354.6,127.4\" style=\"fill:none;fill-rule:evenodd;stroke:#000000;stroke-width:2.0px;stroke-linecap:butt;stroke-linejoin:miter;stroke-opacity:1\"/>\n",
       "<path class=\"bond-59 atom-58 atom-59\" d=\"M 202.3,43.4 L 201.0,40.1\" style=\"fill:none;fill-rule:evenodd;stroke:#000000;stroke-width:2.0px;stroke-linecap:butt;stroke-linejoin:miter;stroke-opacity:1\"/>\n",
       "<path class=\"bond-59 atom-58 atom-59\" d=\"M 201.0,40.1 L 199.7,36.7\" style=\"fill:none;fill-rule:evenodd;stroke:#FF0000;stroke-width:2.0px;stroke-linecap:butt;stroke-linejoin:miter;stroke-opacity:1\"/>\n",
       "<path class=\"bond-60 atom-59 atom-60\" d=\"M 196.5,33.8 L 192.7,33.3\" style=\"fill:none;fill-rule:evenodd;stroke:#FF0000;stroke-width:2.0px;stroke-linecap:butt;stroke-linejoin:miter;stroke-opacity:1\"/>\n",
       "<path class=\"bond-60 atom-59 atom-60\" d=\"M 192.7,33.3 L 189.0,32.7\" style=\"fill:none;fill-rule:evenodd;stroke:#000000;stroke-width:2.0px;stroke-linecap:butt;stroke-linejoin:miter;stroke-opacity:1\"/>\n",
       "<path class=\"bond-61 atom-19 atom-58\" d=\"M 212.1,44.9 L 202.3,43.4\" style=\"fill:none;fill-rule:evenodd;stroke:#000000;stroke-width:2.0px;stroke-linecap:butt;stroke-linejoin:miter;stroke-opacity:1\"/>\n",
       "<path class=\"bond-62 atom-61 atom-62\" d=\"M 285.1,90.8 L 283.0,93.4\" style=\"fill:none;fill-rule:evenodd;stroke:#000000;stroke-width:2.0px;stroke-linecap:butt;stroke-linejoin:miter;stroke-opacity:1\"/>\n",
       "<path class=\"bond-62 atom-61 atom-62\" d=\"M 283.0,93.4 L 280.9,96.0\" style=\"fill:none;fill-rule:evenodd;stroke:#FF0000;stroke-width:2.0px;stroke-linecap:butt;stroke-linejoin:miter;stroke-opacity:1\"/>\n",
       "<path class=\"bond-63 atom-62 atom-63\" d=\"M 279.9,101.0 L 281.2,104.4\" style=\"fill:none;fill-rule:evenodd;stroke:#FF0000;stroke-width:2.0px;stroke-linecap:butt;stroke-linejoin:miter;stroke-opacity:1\"/>\n",
       "<path class=\"bond-63 atom-62 atom-63\" d=\"M 281.2,104.4 L 282.6,107.7\" style=\"fill:none;fill-rule:evenodd;stroke:#000000;stroke-width:2.0px;stroke-linecap:butt;stroke-linejoin:miter;stroke-opacity:1\"/>\n",
       "<path class=\"bond-64 atom-40 atom-61\" d=\"M 281.6,81.6 L 285.1,90.8\" style=\"fill:none;fill-rule:evenodd;stroke:#000000;stroke-width:2.0px;stroke-linecap:butt;stroke-linejoin:miter;stroke-opacity:1\"/>\n",
       "<path class=\"bond-65 atom-64 atom-65\" d=\"M 368.0,138.2 L 371.9,138.8\" style=\"fill:none;fill-rule:evenodd;stroke:#000000;stroke-width:2.0px;stroke-linecap:butt;stroke-linejoin:miter;stroke-opacity:1\"/>\n",
       "<path class=\"bond-65 atom-64 atom-65\" d=\"M 371.9,138.8 L 375.8,139.4\" style=\"fill:none;fill-rule:evenodd;stroke:#0000FF;stroke-width:2.0px;stroke-linecap:butt;stroke-linejoin:miter;stroke-opacity:1\"/>\n",
       "<path class=\"bond-66 atom-56 atom-64\" d=\"M 364.4,128.9 L 368.0,138.2\" style=\"fill:none;fill-rule:evenodd;stroke:#000000;stroke-width:2.0px;stroke-linecap:butt;stroke-linejoin:miter;stroke-opacity:1\"/>\n",
       "<path class=\"atom-0\" d=\"M 64.4 108.0 L 65.0 108.0 L 65.0 109.8 L 67.2 109.8 L 67.2 108.0 L 67.8 108.0 L 67.8 112.2 L 67.2 112.2 L 67.2 110.3 L 65.0 110.3 L 65.0 112.2 L 64.4 112.2 L 64.4 108.0 \" fill=\"#0000FF\"/>\n",
       "<path class=\"atom-0\" d=\"M 68.3 112.1 Q 68.4 111.8, 68.6 111.7 Q 68.9 111.5, 69.2 111.5 Q 69.6 111.5, 69.9 111.7 Q 70.1 112.0, 70.1 112.4 Q 70.1 112.8, 69.8 113.2 Q 69.5 113.6, 68.9 114.0 L 70.2 114.0 L 70.2 114.3 L 68.3 114.3 L 68.3 114.1 Q 68.8 113.7, 69.1 113.4 Q 69.4 113.1, 69.6 112.9 Q 69.7 112.6, 69.7 112.4 Q 69.7 112.1, 69.6 112.0 Q 69.4 111.8, 69.2 111.8 Q 69.0 111.8, 68.8 111.9 Q 68.7 112.0, 68.6 112.2 L 68.3 112.1 \" fill=\"#0000FF\"/>\n",
       "<path class=\"atom-0\" d=\"M 71.1 108.0 L 72.5 110.2 Q 72.6 110.4, 72.8 110.8 Q 73.0 111.2, 73.0 111.3 L 73.0 108.0 L 73.6 108.0 L 73.6 112.2 L 73.0 112.2 L 71.5 109.8 Q 71.4 109.5, 71.2 109.1 Q 71.0 108.8, 70.9 108.7 L 70.9 112.2 L 70.4 112.2 L 70.4 108.0 L 71.1 108.0 \" fill=\"#0000FF\"/>\n",
       "<path class=\"atom-59\" d=\"M 196.8 34.2 Q 196.8 33.2, 197.3 32.6 Q 197.8 32.0, 198.7 32.0 Q 199.7 32.0, 200.2 32.6 Q 200.7 33.2, 200.7 34.2 Q 200.7 35.2, 200.2 35.8 Q 199.7 36.4, 198.7 36.4 Q 197.8 36.4, 197.3 35.8 Q 196.8 35.2, 196.8 34.2 M 198.7 35.9 Q 199.4 35.9, 199.7 35.5 Q 200.1 35.1, 200.1 34.2 Q 200.1 33.4, 199.7 32.9 Q 199.4 32.5, 198.7 32.5 Q 198.1 32.5, 197.7 32.9 Q 197.4 33.4, 197.4 34.2 Q 197.4 35.1, 197.7 35.5 Q 198.1 35.9, 198.7 35.9 \" fill=\"#FF0000\"/>\n",
       "<path class=\"atom-62\" d=\"M 277.0 98.5 Q 277.0 97.5, 277.5 96.9 Q 278.0 96.4, 279.0 96.4 Q 279.9 96.4, 280.4 96.9 Q 280.9 97.5, 280.9 98.5 Q 280.9 99.5, 280.4 100.1 Q 279.9 100.7, 279.0 100.7 Q 278.0 100.7, 277.5 100.1 Q 277.0 99.5, 277.0 98.5 M 279.0 100.2 Q 279.6 100.2, 280.0 99.8 Q 280.3 99.4, 280.3 98.5 Q 280.3 97.7, 280.0 97.3 Q 279.6 96.8, 279.0 96.8 Q 278.3 96.8, 278.0 97.3 Q 277.6 97.7, 277.6 98.5 Q 277.6 99.4, 278.0 99.8 Q 278.3 100.2, 279.0 100.2 \" fill=\"#FF0000\"/>\n",
       "<path class=\"atom-65\" d=\"M 376.8 137.5 L 378.2 139.8 Q 378.3 140.0, 378.6 140.4 Q 378.8 140.8, 378.8 140.8 L 378.8 137.5 L 379.4 137.5 L 379.4 141.8 L 378.8 141.8 L 377.3 139.3 Q 377.1 139.0, 376.9 138.7 Q 376.7 138.4, 376.7 138.3 L 376.7 141.8 L 376.1 141.8 L 376.1 137.5 L 376.8 137.5 \" fill=\"#0000FF\"/>\n",
       "<path class=\"atom-65\" d=\"M 379.8 137.5 L 380.4 137.5 L 380.4 139.3 L 382.6 139.3 L 382.6 137.5 L 383.2 137.5 L 383.2 141.8 L 382.6 141.8 L 382.6 139.8 L 380.4 139.8 L 380.4 141.8 L 379.8 141.8 L 379.8 137.5 \" fill=\"#0000FF\"/>\n",
       "<path class=\"atom-65\" d=\"M 383.7 141.6 Q 383.8 141.4, 384.0 141.2 Q 384.3 141.1, 384.6 141.1 Q 385.0 141.1, 385.3 141.3 Q 385.5 141.5, 385.5 141.9 Q 385.5 142.4, 385.2 142.7 Q 384.9 143.1, 384.3 143.6 L 385.6 143.6 L 385.6 143.9 L 383.7 143.9 L 383.7 143.6 Q 384.2 143.3, 384.5 143.0 Q 384.8 142.7, 385.0 142.5 Q 385.1 142.2, 385.1 142.0 Q 385.1 141.7, 385.0 141.5 Q 384.9 141.4, 384.6 141.4 Q 384.4 141.4, 384.2 141.5 Q 384.1 141.6, 384.0 141.8 L 383.7 141.6 \" fill=\"#0000FF\"/>\n",
       "</svg>"
      ],
      "text/plain": [
       "<IPython.core.display.SVG object>"
      ]
     },
     "execution_count": 52,
     "metadata": {},
     "output_type": "execute_result"
    }
   ],
   "source": [
    "big_smiles_gen(big)"
   ]
  },
  {
   "cell_type": "code",
   "execution_count": 53,
   "id": "692ceb8e",
   "metadata": {},
   "outputs": [
    {
     "data": {
      "image/svg+xml": [
       "<svg xmlns=\"http://www.w3.org/2000/svg\" xmlns:rdkit=\"http://www.rdkit.org/xml\" xmlns:xlink=\"http://www.w3.org/1999/xlink\" version=\"1.1\" baseProfile=\"full\" xml:space=\"preserve\" width=\"450px\" height=\"150px\" viewBox=\"0 0 450 150\">\n",
       "<!-- END OF HEADER -->\n",
       "<rect style=\"opacity:1.0;fill:#FFFFFF;stroke:none\" width=\"450.0\" height=\"150.0\" x=\"0.0\" y=\"0.0\"> </rect>\n",
       "<path class=\"bond-0 atom-0 atom-1\" d=\"M 276.4,10.7 L 276.0,12.9\" style=\"fill:none;fill-rule:evenodd;stroke:#0000FF;stroke-width:2.0px;stroke-linecap:butt;stroke-linejoin:miter;stroke-opacity:1\"/>\n",
       "<path class=\"bond-0 atom-0 atom-1\" d=\"M 276.0,12.9 L 275.7,15.1\" style=\"fill:none;fill-rule:evenodd;stroke:#000000;stroke-width:2.0px;stroke-linecap:butt;stroke-linejoin:miter;stroke-opacity:1\"/>\n",
       "<path class=\"bond-1 atom-2 atom-3\" d=\"M 280.0,26.0 L 281.0,19.3\" style=\"fill:none;fill-rule:evenodd;stroke:#000000;stroke-width:2.0px;stroke-linecap:butt;stroke-linejoin:miter;stroke-opacity:1\"/>\n",
       "<path class=\"bond-2 atom-1 atom-3\" d=\"M 275.7,15.1 L 281.0,19.3\" style=\"fill:none;fill-rule:evenodd;stroke:#000000;stroke-width:2.0px;stroke-linecap:butt;stroke-linejoin:miter;stroke-opacity:1\"/>\n",
       "<path class=\"bond-3 atom-4 atom-5\" d=\"M 285.3,30.3 L 284.3,37.0\" style=\"fill:none;fill-rule:evenodd;stroke:#000000;stroke-width:2.0px;stroke-linecap:butt;stroke-linejoin:miter;stroke-opacity:1\"/>\n",
       "<path class=\"bond-4 atom-5 atom-6\" d=\"M 284.3,37.0 L 289.6,41.2\" style=\"fill:none;fill-rule:evenodd;stroke:#000000;stroke-width:2.0px;stroke-linecap:butt;stroke-linejoin:miter;stroke-opacity:1\"/>\n",
       "<path class=\"bond-5 atom-6 atom-7\" d=\"M 289.6,41.2 L 295.9,38.8\" style=\"fill:none;fill-rule:evenodd;stroke:#000000;stroke-width:2.0px;stroke-linecap:butt;stroke-linejoin:miter;stroke-opacity:1\"/>\n",
       "<path class=\"bond-6 atom-6 atom-8\" d=\"M 289.6,41.2 L 288.6,48.0\" style=\"fill:none;fill-rule:evenodd;stroke:#000000;stroke-width:2.0px;stroke-linecap:butt;stroke-linejoin:miter;stroke-opacity:1\"/>\n",
       "<path class=\"bond-7 atom-8 atom-9\" d=\"M 288.6,48.0 L 293.9,52.2\" style=\"fill:none;fill-rule:evenodd;stroke:#000000;stroke-width:2.0px;stroke-linecap:butt;stroke-linejoin:miter;stroke-opacity:1\"/>\n",
       "<path class=\"bond-8 atom-2 atom-4\" d=\"M 280.0,26.0 L 285.3,30.3\" style=\"fill:none;fill-rule:evenodd;stroke:#000000;stroke-width:2.0px;stroke-linecap:butt;stroke-linejoin:miter;stroke-opacity:1\"/>\n",
       "<path class=\"bond-9 atom-10 atom-11\" d=\"M 298.2,63.2 L 292.8,58.9\" style=\"fill:none;fill-rule:evenodd;stroke:#000000;stroke-width:2.0px;stroke-linecap:butt;stroke-linejoin:miter;stroke-opacity:1\"/>\n",
       "<path class=\"bond-10 atom-9 atom-11\" d=\"M 293.9,52.2 L 292.8,58.9\" style=\"fill:none;fill-rule:evenodd;stroke:#000000;stroke-width:2.0px;stroke-linecap:butt;stroke-linejoin:miter;stroke-opacity:1\"/>\n",
       "<path class=\"bond-11 atom-12 atom-13\" d=\"M 302.4,74.1 L 297.1,69.9\" style=\"fill:none;fill-rule:evenodd;stroke:#000000;stroke-width:2.0px;stroke-linecap:butt;stroke-linejoin:miter;stroke-opacity:1\"/>\n",
       "<path class=\"bond-12 atom-10 atom-13\" d=\"M 298.2,63.2 L 297.1,69.9\" style=\"fill:none;fill-rule:evenodd;stroke:#000000;stroke-width:2.0px;stroke-linecap:butt;stroke-linejoin:miter;stroke-opacity:1\"/>\n",
       "<path class=\"bond-13 atom-14 atom-15\" d=\"M 306.7,85.1 L 301.4,80.8\" style=\"fill:none;fill-rule:evenodd;stroke:#000000;stroke-width:2.0px;stroke-linecap:butt;stroke-linejoin:miter;stroke-opacity:1\"/>\n",
       "<path class=\"bond-14 atom-12 atom-15\" d=\"M 302.4,74.1 L 301.4,80.8\" style=\"fill:none;fill-rule:evenodd;stroke:#000000;stroke-width:2.0px;stroke-linecap:butt;stroke-linejoin:miter;stroke-opacity:1\"/>\n",
       "<path class=\"bond-15 atom-16 atom-17\" d=\"M 305.7,91.8 L 311.0,96.0\" style=\"fill:none;fill-rule:evenodd;stroke:#000000;stroke-width:2.0px;stroke-linecap:butt;stroke-linejoin:miter;stroke-opacity:1\"/>\n",
       "<path class=\"bond-16 atom-14 atom-16\" d=\"M 306.7,85.1 L 305.7,91.8\" style=\"fill:none;fill-rule:evenodd;stroke:#000000;stroke-width:2.0px;stroke-linecap:butt;stroke-linejoin:miter;stroke-opacity:1\"/>\n",
       "<path class=\"bond-17 atom-18 atom-19\" d=\"M 315.3,107.0 L 310.0,102.7\" style=\"fill:none;fill-rule:evenodd;stroke:#000000;stroke-width:2.0px;stroke-linecap:butt;stroke-linejoin:miter;stroke-opacity:1\"/>\n",
       "<path class=\"bond-18 atom-17 atom-19\" d=\"M 311.0,96.0 L 310.0,102.7\" style=\"fill:none;fill-rule:evenodd;stroke:#000000;stroke-width:2.0px;stroke-linecap:butt;stroke-linejoin:miter;stroke-opacity:1\"/>\n",
       "<path class=\"bond-19 atom-20 atom-21\" d=\"M 314.3,113.7 L 319.6,117.9\" style=\"fill:none;fill-rule:evenodd;stroke:#000000;stroke-width:2.0px;stroke-linecap:butt;stroke-linejoin:miter;stroke-opacity:1\"/>\n",
       "<path class=\"bond-20 atom-18 atom-20\" d=\"M 315.3,107.0 L 314.3,113.7\" style=\"fill:none;fill-rule:evenodd;stroke:#000000;stroke-width:2.0px;stroke-linecap:butt;stroke-linejoin:miter;stroke-opacity:1\"/>\n",
       "<path class=\"bond-21 atom-22 atom-23\" d=\"M 318.6,124.7 L 323.9,128.9\" style=\"fill:none;fill-rule:evenodd;stroke:#000000;stroke-width:2.0px;stroke-linecap:butt;stroke-linejoin:miter;stroke-opacity:1\"/>\n",
       "<path class=\"bond-22 atom-23 atom-24\" d=\"M 323.9,128.9 L 322.9,135.6\" style=\"fill:none;fill-rule:evenodd;stroke:#000000;stroke-width:2.0px;stroke-linecap:butt;stroke-linejoin:miter;stroke-opacity:1\"/>\n",
       "<path class=\"bond-22 atom-23 atom-24\" d=\"M 325.1,130.1 L 324.4,134.8\" style=\"fill:none;fill-rule:evenodd;stroke:#000000;stroke-width:2.0px;stroke-linecap:butt;stroke-linejoin:miter;stroke-opacity:1\"/>\n",
       "<path class=\"bond-23 atom-24 atom-25\" d=\"M 322.9,135.6 L 328.2,139.9\" style=\"fill:none;fill-rule:evenodd;stroke:#000000;stroke-width:2.0px;stroke-linecap:butt;stroke-linejoin:miter;stroke-opacity:1\"/>\n",
       "<path class=\"bond-24 atom-25 atom-26\" d=\"M 328.2,139.9 L 334.5,137.4\" style=\"fill:none;fill-rule:evenodd;stroke:#000000;stroke-width:2.0px;stroke-linecap:butt;stroke-linejoin:miter;stroke-opacity:1\"/>\n",
       "<path class=\"bond-24 atom-25 atom-26\" d=\"M 328.6,138.2 L 333.1,136.5\" style=\"fill:none;fill-rule:evenodd;stroke:#000000;stroke-width:2.0px;stroke-linecap:butt;stroke-linejoin:miter;stroke-opacity:1\"/>\n",
       "<path class=\"bond-25 atom-26 atom-27\" d=\"M 334.5,137.4 L 335.5,130.7\" style=\"fill:none;fill-rule:evenodd;stroke:#000000;stroke-width:2.0px;stroke-linecap:butt;stroke-linejoin:miter;stroke-opacity:1\"/>\n",
       "<path class=\"bond-26 atom-27 atom-28\" d=\"M 335.5,130.7 L 330.2,126.4\" style=\"fill:none;fill-rule:evenodd;stroke:#000000;stroke-width:2.0px;stroke-linecap:butt;stroke-linejoin:miter;stroke-opacity:1\"/>\n",
       "<path class=\"bond-26 atom-27 atom-28\" d=\"M 333.9,131.1 L 330.2,128.1\" style=\"fill:none;fill-rule:evenodd;stroke:#000000;stroke-width:2.0px;stroke-linecap:butt;stroke-linejoin:miter;stroke-opacity:1\"/>\n",
       "<path class=\"bond-27 atom-28 atom-23\" d=\"M 330.2,126.4 L 323.9,128.9\" style=\"fill:none;fill-rule:evenodd;stroke:#000000;stroke-width:2.0px;stroke-linecap:butt;stroke-linejoin:miter;stroke-opacity:1\"/>\n",
       "<path class=\"bond-28 atom-21 atom-22\" d=\"M 319.6,117.9 L 318.6,124.7\" style=\"fill:none;fill-rule:evenodd;stroke:#000000;stroke-width:2.0px;stroke-linecap:butt;stroke-linejoin:miter;stroke-opacity:1\"/>\n",
       "<path class=\"bond-29 atom-29 atom-30\" d=\"M 289.0,123.6 L 295.3,121.1\" style=\"fill:none;fill-rule:evenodd;stroke:#000000;stroke-width:2.0px;stroke-linecap:butt;stroke-linejoin:miter;stroke-opacity:1\"/>\n",
       "<path class=\"bond-30 atom-30 atom-31\" d=\"M 295.3,121.1 L 300.6,125.4\" style=\"fill:none;fill-rule:evenodd;stroke:#000000;stroke-width:2.0px;stroke-linecap:butt;stroke-linejoin:miter;stroke-opacity:1\"/>\n",
       "<path class=\"bond-31 atom-31 atom-32\" d=\"M 300.6,125.4 L 299.6,132.1\" style=\"fill:none;fill-rule:evenodd;stroke:#000000;stroke-width:2.0px;stroke-linecap:butt;stroke-linejoin:miter;stroke-opacity:1\"/>\n",
       "<path class=\"bond-32 atom-31 atom-33\" d=\"M 300.6,125.4 L 307.0,122.9\" style=\"fill:none;fill-rule:evenodd;stroke:#000000;stroke-width:2.0px;stroke-linecap:butt;stroke-linejoin:miter;stroke-opacity:1\"/>\n",
       "<path class=\"bond-33 atom-33 atom-34\" d=\"M 307.0,122.9 L 312.3,127.1\" style=\"fill:none;fill-rule:evenodd;stroke:#000000;stroke-width:2.0px;stroke-linecap:butt;stroke-linejoin:miter;stroke-opacity:1\"/>\n",
       "<path class=\"bond-34 atom-22 atom-34\" d=\"M 318.6,124.7 L 312.3,127.1\" style=\"fill:none;fill-rule:evenodd;stroke:#000000;stroke-width:2.0px;stroke-linecap:butt;stroke-linejoin:miter;stroke-opacity:1\"/>\n",
       "<path class=\"bond-35 atom-35 atom-36\" d=\"M 277.4,121.8 L 283.7,119.4\" style=\"fill:none;fill-rule:evenodd;stroke:#000000;stroke-width:2.0px;stroke-linecap:butt;stroke-linejoin:miter;stroke-opacity:1\"/>\n",
       "<path class=\"bond-36 atom-29 atom-36\" d=\"M 289.0,123.6 L 283.7,119.4\" style=\"fill:none;fill-rule:evenodd;stroke:#000000;stroke-width:2.0px;stroke-linecap:butt;stroke-linejoin:miter;stroke-opacity:1\"/>\n",
       "<path class=\"bond-37 atom-37 atom-38\" d=\"M 272.0,117.6 L 265.7,120.1\" style=\"fill:none;fill-rule:evenodd;stroke:#000000;stroke-width:2.0px;stroke-linecap:butt;stroke-linejoin:miter;stroke-opacity:1\"/>\n",
       "<path class=\"bond-38 atom-38 atom-39\" d=\"M 265.7,120.1 L 260.4,115.8\" style=\"fill:none;fill-rule:evenodd;stroke:#000000;stroke-width:2.0px;stroke-linecap:butt;stroke-linejoin:miter;stroke-opacity:1\"/>\n",
       "<path class=\"bond-39 atom-39 atom-40\" d=\"M 260.4,115.8 L 254.1,118.3\" style=\"fill:none;fill-rule:evenodd;stroke:#000000;stroke-width:2.0px;stroke-linecap:butt;stroke-linejoin:miter;stroke-opacity:1\"/>\n",
       "<path class=\"bond-40 atom-39 atom-41\" d=\"M 260.4,115.8 L 261.4,109.1\" style=\"fill:none;fill-rule:evenodd;stroke:#000000;stroke-width:2.0px;stroke-linecap:butt;stroke-linejoin:miter;stroke-opacity:1\"/>\n",
       "<path class=\"bond-41 atom-41 atom-42\" d=\"M 261.4,109.1 L 256.1,104.9\" style=\"fill:none;fill-rule:evenodd;stroke:#000000;stroke-width:2.0px;stroke-linecap:butt;stroke-linejoin:miter;stroke-opacity:1\"/>\n",
       "<path class=\"bond-42 atom-35 atom-37\" d=\"M 277.4,121.8 L 272.0,117.6\" style=\"fill:none;fill-rule:evenodd;stroke:#000000;stroke-width:2.0px;stroke-linecap:butt;stroke-linejoin:miter;stroke-opacity:1\"/>\n",
       "<path class=\"bond-43 atom-43 atom-44\" d=\"M 242.5,116.6 L 248.8,114.1\" style=\"fill:none;fill-rule:evenodd;stroke:#000000;stroke-width:2.0px;stroke-linecap:butt;stroke-linejoin:miter;stroke-opacity:1\"/>\n",
       "<path class=\"bond-44 atom-40 atom-44\" d=\"M 254.1,118.3 L 248.8,114.1\" style=\"fill:none;fill-rule:evenodd;stroke:#000000;stroke-width:2.0px;stroke-linecap:butt;stroke-linejoin:miter;stroke-opacity:1\"/>\n",
       "<path class=\"bond-45 atom-45 atom-46\" d=\"M 230.8,114.8 L 237.1,112.3\" style=\"fill:none;fill-rule:evenodd;stroke:#000000;stroke-width:2.0px;stroke-linecap:butt;stroke-linejoin:miter;stroke-opacity:1\"/>\n",
       "<path class=\"bond-46 atom-43 atom-46\" d=\"M 242.5,116.6 L 237.1,112.3\" style=\"fill:none;fill-rule:evenodd;stroke:#000000;stroke-width:2.0px;stroke-linecap:butt;stroke-linejoin:miter;stroke-opacity:1\"/>\n",
       "<path class=\"bond-47 atom-47 atom-48\" d=\"M 219.2,113.0 L 225.5,110.6\" style=\"fill:none;fill-rule:evenodd;stroke:#000000;stroke-width:2.0px;stroke-linecap:butt;stroke-linejoin:miter;stroke-opacity:1\"/>\n",
       "<path class=\"bond-48 atom-45 atom-48\" d=\"M 230.8,114.8 L 225.5,110.6\" style=\"fill:none;fill-rule:evenodd;stroke:#000000;stroke-width:2.0px;stroke-linecap:butt;stroke-linejoin:miter;stroke-opacity:1\"/>\n",
       "<path class=\"bond-49 atom-49 atom-50\" d=\"M 207.5,111.3 L 213.9,108.8\" style=\"fill:none;fill-rule:evenodd;stroke:#000000;stroke-width:2.0px;stroke-linecap:butt;stroke-linejoin:miter;stroke-opacity:1\"/>\n",
       "<path class=\"bond-50 atom-47 atom-50\" d=\"M 219.2,113.0 L 213.9,108.8\" style=\"fill:none;fill-rule:evenodd;stroke:#000000;stroke-width:2.0px;stroke-linecap:butt;stroke-linejoin:miter;stroke-opacity:1\"/>\n",
       "<path class=\"bond-51 atom-51 atom-52\" d=\"M 202.2,107.0 L 195.9,109.5\" style=\"fill:none;fill-rule:evenodd;stroke:#000000;stroke-width:2.0px;stroke-linecap:butt;stroke-linejoin:miter;stroke-opacity:1\"/>\n",
       "<path class=\"bond-52 atom-49 atom-51\" d=\"M 207.5,111.3 L 202.2,107.0\" style=\"fill:none;fill-rule:evenodd;stroke:#000000;stroke-width:2.0px;stroke-linecap:butt;stroke-linejoin:miter;stroke-opacity:1\"/>\n",
       "<path class=\"bond-53 atom-53 atom-54\" d=\"M 184.3,107.7 L 190.6,105.3\" style=\"fill:none;fill-rule:evenodd;stroke:#000000;stroke-width:2.0px;stroke-linecap:butt;stroke-linejoin:miter;stroke-opacity:1\"/>\n",
       "<path class=\"bond-54 atom-52 atom-54\" d=\"M 195.9,109.5 L 190.6,105.3\" style=\"fill:none;fill-rule:evenodd;stroke:#000000;stroke-width:2.0px;stroke-linecap:butt;stroke-linejoin:miter;stroke-opacity:1\"/>\n",
       "<path class=\"bond-55 atom-55 atom-56\" d=\"M 179.0,103.5 L 172.6,106.0\" style=\"fill:none;fill-rule:evenodd;stroke:#000000;stroke-width:2.0px;stroke-linecap:butt;stroke-linejoin:miter;stroke-opacity:1\"/>\n",
       "<path class=\"bond-56 atom-53 atom-55\" d=\"M 184.3,107.7 L 179.0,103.5\" style=\"fill:none;fill-rule:evenodd;stroke:#000000;stroke-width:2.0px;stroke-linecap:butt;stroke-linejoin:miter;stroke-opacity:1\"/>\n",
       "<path class=\"bond-57 atom-57 atom-58\" d=\"M 161.0,104.2 L 167.3,101.7\" style=\"fill:none;fill-rule:evenodd;stroke:#000000;stroke-width:2.0px;stroke-linecap:butt;stroke-linejoin:miter;stroke-opacity:1\"/>\n",
       "<path class=\"bond-58 atom-56 atom-58\" d=\"M 172.6,106.0 L 167.3,101.7\" style=\"fill:none;fill-rule:evenodd;stroke:#000000;stroke-width:2.0px;stroke-linecap:butt;stroke-linejoin:miter;stroke-opacity:1\"/>\n",
       "<path class=\"bond-59 atom-59 atom-60\" d=\"M 155.7,100.0 L 149.4,102.4\" style=\"fill:none;fill-rule:evenodd;stroke:#000000;stroke-width:2.0px;stroke-linecap:butt;stroke-linejoin:miter;stroke-opacity:1\"/>\n",
       "<path class=\"bond-60 atom-57 atom-59\" d=\"M 161.0,104.2 L 155.7,100.0\" style=\"fill:none;fill-rule:evenodd;stroke:#000000;stroke-width:2.0px;stroke-linecap:butt;stroke-linejoin:miter;stroke-opacity:1\"/>\n",
       "<path class=\"bond-61 atom-61 atom-62\" d=\"M 144.1,98.2 L 137.7,100.7\" style=\"fill:none;fill-rule:evenodd;stroke:#000000;stroke-width:2.0px;stroke-linecap:butt;stroke-linejoin:miter;stroke-opacity:1\"/>\n",
       "<path class=\"bond-62 atom-60 atom-61\" d=\"M 149.4,102.4 L 144.1,98.2\" style=\"fill:none;fill-rule:evenodd;stroke:#000000;stroke-width:2.0px;stroke-linecap:butt;stroke-linejoin:miter;stroke-opacity:1\"/>\n",
       "<path class=\"bond-63 atom-63 atom-64\" d=\"M 132.4,96.4 L 133.4,89.7\" style=\"fill:none;fill-rule:evenodd;stroke:#000000;stroke-width:2.0px;stroke-linecap:butt;stroke-linejoin:miter;stroke-opacity:1\"/>\n",
       "<path class=\"bond-64 atom-64 atom-65\" d=\"M 133.4,89.7 L 139.8,87.2\" style=\"fill:none;fill-rule:evenodd;stroke:#000000;stroke-width:2.0px;stroke-linecap:butt;stroke-linejoin:miter;stroke-opacity:1\"/>\n",
       "<path class=\"bond-64 atom-64 atom-65\" d=\"M 133.9,88.1 L 138.3,86.4\" style=\"fill:none;fill-rule:evenodd;stroke:#000000;stroke-width:2.0px;stroke-linecap:butt;stroke-linejoin:miter;stroke-opacity:1\"/>\n",
       "<path class=\"bond-65 atom-65 atom-66\" d=\"M 139.8,87.2 L 140.8,80.5\" style=\"fill:none;fill-rule:evenodd;stroke:#000000;stroke-width:2.0px;stroke-linecap:butt;stroke-linejoin:miter;stroke-opacity:1\"/>\n",
       "<path class=\"bond-66 atom-66 atom-67\" d=\"M 140.8,80.5 L 135.5,76.3\" style=\"fill:none;fill-rule:evenodd;stroke:#000000;stroke-width:2.0px;stroke-linecap:butt;stroke-linejoin:miter;stroke-opacity:1\"/>\n",
       "<path class=\"bond-66 atom-66 atom-67\" d=\"M 139.1,81.0 L 135.4,78.0\" style=\"fill:none;fill-rule:evenodd;stroke:#000000;stroke-width:2.0px;stroke-linecap:butt;stroke-linejoin:miter;stroke-opacity:1\"/>\n",
       "<path class=\"bond-67 atom-67 atom-68\" d=\"M 135.5,76.3 L 129.2,78.8\" style=\"fill:none;fill-rule:evenodd;stroke:#000000;stroke-width:2.0px;stroke-linecap:butt;stroke-linejoin:miter;stroke-opacity:1\"/>\n",
       "<path class=\"bond-68 atom-68 atom-69\" d=\"M 129.2,78.8 L 128.1,85.5\" style=\"fill:none;fill-rule:evenodd;stroke:#000000;stroke-width:2.0px;stroke-linecap:butt;stroke-linejoin:miter;stroke-opacity:1\"/>\n",
       "<path class=\"bond-68 atom-68 atom-69\" d=\"M 130.3,80.0 L 129.6,84.7\" style=\"fill:none;fill-rule:evenodd;stroke:#000000;stroke-width:2.0px;stroke-linecap:butt;stroke-linejoin:miter;stroke-opacity:1\"/>\n",
       "<path class=\"bond-69 atom-69 atom-64\" d=\"M 128.1,85.5 L 133.4,89.7\" style=\"fill:none;fill-rule:evenodd;stroke:#000000;stroke-width:2.0px;stroke-linecap:butt;stroke-linejoin:miter;stroke-opacity:1\"/>\n",
       "<path class=\"bond-70 atom-62 atom-63\" d=\"M 137.7,100.7 L 132.4,96.4\" style=\"fill:none;fill-rule:evenodd;stroke:#000000;stroke-width:2.0px;stroke-linecap:butt;stroke-linejoin:miter;stroke-opacity:1\"/>\n",
       "<path class=\"bond-71 atom-70 atom-71\" d=\"M 126.1,98.9 L 124.5,97.7\" style=\"fill:none;fill-rule:evenodd;stroke:#000000;stroke-width:2.0px;stroke-linecap:butt;stroke-linejoin:miter;stroke-opacity:1\"/>\n",
       "<path class=\"bond-71 atom-70 atom-71\" d=\"M 124.5,97.7 L 123.0,96.4\" style=\"fill:none;fill-rule:evenodd;stroke:#FF0000;stroke-width:2.0px;stroke-linecap:butt;stroke-linejoin:miter;stroke-opacity:1\"/>\n",
       "<path class=\"bond-72 atom-71 atom-72\" d=\"M 118.6,95.5 L 116.5,96.3\" style=\"fill:none;fill-rule:evenodd;stroke:#FF0000;stroke-width:2.0px;stroke-linecap:butt;stroke-linejoin:miter;stroke-opacity:1\"/>\n",
       "<path class=\"bond-72 atom-71 atom-72\" d=\"M 116.5,96.3 L 114.5,97.2\" style=\"fill:none;fill-rule:evenodd;stroke:#000000;stroke-width:2.0px;stroke-linecap:butt;stroke-linejoin:miter;stroke-opacity:1\"/>\n",
       "<path class=\"bond-73 atom-63 atom-70\" d=\"M 132.4,96.4 L 126.1,98.9\" style=\"fill:none;fill-rule:evenodd;stroke:#000000;stroke-width:2.0px;stroke-linecap:butt;stroke-linejoin:miter;stroke-opacity:1\"/>\n",
       "<path class=\"bond-74 atom-73 atom-74\" d=\"M 296.9,32.0 L 299.0,31.2\" style=\"fill:none;fill-rule:evenodd;stroke:#000000;stroke-width:2.0px;stroke-linecap:butt;stroke-linejoin:miter;stroke-opacity:1\"/>\n",
       "<path class=\"bond-74 atom-73 atom-74\" d=\"M 299.0,31.2 L 301.1,30.4\" style=\"fill:none;fill-rule:evenodd;stroke:#FF0000;stroke-width:2.0px;stroke-linecap:butt;stroke-linejoin:miter;stroke-opacity:1\"/>\n",
       "<path class=\"bond-75 atom-74 atom-75\" d=\"M 303.6,27.2 L 303.9,25.0\" style=\"fill:none;fill-rule:evenodd;stroke:#FF0000;stroke-width:2.0px;stroke-linecap:butt;stroke-linejoin:miter;stroke-opacity:1\"/>\n",
       "<path class=\"bond-75 atom-74 atom-75\" d=\"M 303.9,25.0 L 304.3,22.8\" style=\"fill:none;fill-rule:evenodd;stroke:#000000;stroke-width:2.0px;stroke-linecap:butt;stroke-linejoin:miter;stroke-opacity:1\"/>\n",
       "<path class=\"bond-76 atom-7 atom-73\" d=\"M 295.9,38.8 L 296.9,32.0\" style=\"fill:none;fill-rule:evenodd;stroke:#000000;stroke-width:2.0px;stroke-linecap:butt;stroke-linejoin:miter;stroke-opacity:1\"/>\n",
       "<path class=\"bond-77 atom-76 atom-77\" d=\"M 293.3,134.6 L 293.0,136.7\" style=\"fill:none;fill-rule:evenodd;stroke:#000000;stroke-width:2.0px;stroke-linecap:butt;stroke-linejoin:miter;stroke-opacity:1\"/>\n",
       "<path class=\"bond-77 atom-76 atom-77\" d=\"M 293.0,136.7 L 292.6,138.9\" style=\"fill:none;fill-rule:evenodd;stroke:#FF0000;stroke-width:2.0px;stroke-linecap:butt;stroke-linejoin:miter;stroke-opacity:1\"/>\n",
       "<path class=\"bond-78 atom-77 atom-78\" d=\"M 290.1,142.1 L 288.0,142.9\" style=\"fill:none;fill-rule:evenodd;stroke:#FF0000;stroke-width:2.0px;stroke-linecap:butt;stroke-linejoin:miter;stroke-opacity:1\"/>\n",
       "<path class=\"bond-78 atom-77 atom-78\" d=\"M 288.0,142.9 L 285.9,143.8\" style=\"fill:none;fill-rule:evenodd;stroke:#000000;stroke-width:2.0px;stroke-linecap:butt;stroke-linejoin:miter;stroke-opacity:1\"/>\n",
       "<path class=\"bond-79 atom-32 atom-76\" d=\"M 299.6,132.1 L 293.3,134.6\" style=\"fill:none;fill-rule:evenodd;stroke:#000000;stroke-width:2.0px;stroke-linecap:butt;stroke-linejoin:miter;stroke-opacity:1\"/>\n",
       "<path class=\"bond-80 atom-79 atom-80\" d=\"M 257.1,98.2 L 255.4,96.8\" style=\"fill:none;fill-rule:evenodd;stroke:#000000;stroke-width:2.0px;stroke-linecap:butt;stroke-linejoin:miter;stroke-opacity:1\"/>\n",
       "<path class=\"bond-80 atom-79 atom-80\" d=\"M 255.4,96.8 L 253.7,95.4\" style=\"fill:none;fill-rule:evenodd;stroke:#0000FF;stroke-width:2.0px;stroke-linecap:butt;stroke-linejoin:miter;stroke-opacity:1\"/>\n",
       "<path class=\"bond-81 atom-42 atom-79\" d=\"M 256.1,104.9 L 257.1,98.2\" style=\"fill:none;fill-rule:evenodd;stroke:#000000;stroke-width:2.0px;stroke-linecap:butt;stroke-linejoin:miter;stroke-opacity:1\"/>\n",
       "<path class=\"atom-0\" d=\"M 275.8 6.2 L 277.2 8.5 Q 277.3 8.7, 277.5 9.1 Q 277.7 9.5, 277.8 9.5 L 277.8 6.2 L 278.3 6.2 L 278.3 10.5 L 277.7 10.5 L 276.2 8.0 Q 276.1 7.7, 275.9 7.4 Q 275.7 7.1, 275.6 7.0 L 275.6 10.5 L 275.1 10.5 L 275.1 6.2 L 275.8 6.2 \" fill=\"#0000FF\"/>\n",
       "<path class=\"atom-0\" d=\"M 278.8 6.2 L 279.4 6.2 L 279.4 8.0 L 281.6 8.0 L 281.6 6.2 L 282.1 6.2 L 282.1 10.5 L 281.6 10.5 L 281.6 8.5 L 279.4 8.5 L 279.4 10.5 L 278.8 10.5 L 278.8 6.2 \" fill=\"#0000FF\"/>\n",
       "<path class=\"atom-0\" d=\"M 282.7 10.3 Q 282.8 10.1, 283.0 9.9 Q 283.3 9.8, 283.6 9.8 Q 284.0 9.8, 284.3 10.0 Q 284.5 10.2, 284.5 10.6 Q 284.5 11.1, 284.2 11.4 Q 283.9 11.8, 283.2 12.3 L 284.5 12.3 L 284.5 12.6 L 282.7 12.6 L 282.7 12.3 Q 283.2 12.0, 283.5 11.7 Q 283.8 11.4, 283.9 11.2 Q 284.1 10.9, 284.1 10.7 Q 284.1 10.4, 284.0 10.2 Q 283.8 10.1, 283.6 10.1 Q 283.4 10.1, 283.2 10.2 Q 283.1 10.3, 283.0 10.5 L 282.7 10.3 \" fill=\"#0000FF\"/>\n",
       "<path class=\"atom-71\" d=\"M 118.8 94.7 Q 118.8 93.7, 119.3 93.1 Q 119.9 92.5, 120.8 92.5 Q 121.7 92.5, 122.2 93.1 Q 122.7 93.7, 122.7 94.7 Q 122.7 95.7, 122.2 96.3 Q 121.7 96.9, 120.8 96.9 Q 119.9 96.9, 119.3 96.3 Q 118.8 95.7, 118.8 94.7 M 120.8 96.4 Q 121.4 96.4, 121.8 96.0 Q 122.1 95.5, 122.1 94.7 Q 122.1 93.9, 121.8 93.4 Q 121.4 93.0, 120.8 93.0 Q 120.1 93.0, 119.8 93.4 Q 119.4 93.8, 119.4 94.7 Q 119.4 95.5, 119.8 96.0 Q 120.1 96.4, 120.8 96.4 \" fill=\"#FF0000\"/>\n",
       "<path class=\"atom-74\" d=\"M 301.3 29.6 Q 301.3 28.6, 301.8 28.0 Q 302.3 27.4, 303.2 27.4 Q 304.2 27.4, 304.7 28.0 Q 305.2 28.6, 305.2 29.6 Q 305.2 30.6, 304.7 31.2 Q 304.2 31.8, 303.2 31.8 Q 302.3 31.8, 301.8 31.2 Q 301.3 30.6, 301.3 29.6 M 303.2 31.3 Q 303.9 31.3, 304.2 30.9 Q 304.6 30.4, 304.6 29.6 Q 304.6 28.7, 304.2 28.3 Q 303.9 27.9, 303.2 27.9 Q 302.6 27.9, 302.2 28.3 Q 301.9 28.7, 301.9 29.6 Q 301.9 30.4, 302.2 30.9 Q 302.6 31.3, 303.2 31.3 \" fill=\"#FF0000\"/>\n",
       "<path class=\"atom-77\" d=\"M 290.3 141.3 Q 290.3 140.3, 290.8 139.7 Q 291.3 139.1, 292.3 139.1 Q 293.2 139.1, 293.7 139.7 Q 294.2 140.3, 294.2 141.3 Q 294.2 142.3, 293.7 142.9 Q 293.2 143.5, 292.3 143.5 Q 291.3 143.5, 290.8 142.9 Q 290.3 142.3, 290.3 141.3 M 292.3 143.0 Q 292.9 143.0, 293.3 142.6 Q 293.6 142.1, 293.6 141.3 Q 293.6 140.5, 293.3 140.0 Q 292.9 139.6, 292.3 139.6 Q 291.6 139.6, 291.3 140.0 Q 290.9 140.5, 290.9 141.3 Q 290.9 142.2, 291.3 142.6 Q 291.6 143.0, 292.3 143.0 \" fill=\"#FF0000\"/>\n",
       "<path class=\"atom-80\" d=\"M 244.3 91.8 L 244.8 91.8 L 244.8 93.6 L 247.0 93.6 L 247.0 91.8 L 247.6 91.8 L 247.6 96.0 L 247.0 96.0 L 247.0 94.1 L 244.8 94.1 L 244.8 96.0 L 244.3 96.0 L 244.3 91.8 \" fill=\"#0000FF\"/>\n",
       "<path class=\"atom-80\" d=\"M 248.1 95.9 Q 248.2 95.6, 248.5 95.5 Q 248.7 95.3, 249.0 95.3 Q 249.5 95.3, 249.7 95.6 Q 249.9 95.8, 249.9 96.2 Q 249.9 96.6, 249.6 97.0 Q 249.3 97.4, 248.7 97.9 L 250.0 97.9 L 250.0 98.2 L 248.1 98.2 L 248.1 97.9 Q 248.6 97.5, 248.9 97.3 Q 249.2 97.0, 249.4 96.7 Q 249.5 96.5, 249.5 96.2 Q 249.5 96.0, 249.4 95.8 Q 249.3 95.7, 249.0 95.7 Q 248.8 95.7, 248.7 95.7 Q 248.5 95.8, 248.4 96.0 L 248.1 95.9 \" fill=\"#0000FF\"/>\n",
       "<path class=\"atom-80\" d=\"M 250.9 91.8 L 252.3 94.1 Q 252.4 94.3, 252.6 94.7 Q 252.9 95.1, 252.9 95.1 L 252.9 91.8 L 253.4 91.8 L 253.4 96.0 L 252.9 96.0 L 251.4 93.6 Q 251.2 93.3, 251.0 93.0 Q 250.8 92.6, 250.8 92.5 L 250.8 96.0 L 250.2 96.0 L 250.2 91.8 L 250.9 91.8 \" fill=\"#0000FF\"/>\n",
       "</svg>"
      ],
      "text/plain": [
       "<IPython.core.display.SVG object>"
      ]
     },
     "execution_count": 53,
     "metadata": {},
     "output_type": "execute_result"
    }
   ],
   "source": [
    "big_smiles_gen(big)"
   ]
  },
  {
   "cell_type": "code",
   "execution_count": 54,
   "id": "e33d91f8",
   "metadata": {},
   "outputs": [
    {
     "data": {
      "image/svg+xml": [
       "<svg xmlns=\"http://www.w3.org/2000/svg\" xmlns:rdkit=\"http://www.rdkit.org/xml\" xmlns:xlink=\"http://www.w3.org/1999/xlink\" version=\"1.1\" baseProfile=\"full\" xml:space=\"preserve\" width=\"450px\" height=\"150px\" viewBox=\"0 0 450 150\">\n",
       "<!-- END OF HEADER -->\n",
       "<rect style=\"opacity:1.0;fill:#FFFFFF;stroke:none\" width=\"450.0\" height=\"150.0\" x=\"0.0\" y=\"0.0\"> </rect>\n",
       "<path class=\"bond-0 atom-0 atom-1\" d=\"M 222.4,27.4 L 224.1,29.6\" style=\"fill:none;fill-rule:evenodd;stroke:#0000FF;stroke-width:2.0px;stroke-linecap:butt;stroke-linejoin:miter;stroke-opacity:1\"/>\n",
       "<path class=\"bond-0 atom-0 atom-1\" d=\"M 224.1,29.6 L 225.9,31.7\" style=\"fill:none;fill-rule:evenodd;stroke:#000000;stroke-width:2.0px;stroke-linecap:butt;stroke-linejoin:miter;stroke-opacity:1\"/>\n",
       "<path class=\"bond-1 atom-2 atom-3\" d=\"M 234.3,30.3 L 239.7,36.9\" style=\"fill:none;fill-rule:evenodd;stroke:#000000;stroke-width:2.0px;stroke-linecap:butt;stroke-linejoin:miter;stroke-opacity:1\"/>\n",
       "<path class=\"bond-2 atom-3 atom-4\" d=\"M 239.7,36.9 L 248.0,35.5\" style=\"fill:none;fill-rule:evenodd;stroke:#000000;stroke-width:2.0px;stroke-linecap:butt;stroke-linejoin:miter;stroke-opacity:1\"/>\n",
       "<path class=\"bond-3 atom-4 atom-5\" d=\"M 248.0,35.5 L 251.0,27.5\" style=\"fill:none;fill-rule:evenodd;stroke:#000000;stroke-width:2.0px;stroke-linecap:butt;stroke-linejoin:miter;stroke-opacity:1\"/>\n",
       "<path class=\"bond-4 atom-4 atom-6\" d=\"M 248.0,35.5 L 253.5,42.0\" style=\"fill:none;fill-rule:evenodd;stroke:#000000;stroke-width:2.0px;stroke-linecap:butt;stroke-linejoin:miter;stroke-opacity:1\"/>\n",
       "<path class=\"bond-5 atom-6 atom-7\" d=\"M 253.5,42.0 L 261.8,40.7\" style=\"fill:none;fill-rule:evenodd;stroke:#000000;stroke-width:2.0px;stroke-linecap:butt;stroke-linejoin:miter;stroke-opacity:1\"/>\n",
       "<path class=\"bond-6 atom-1 atom-2\" d=\"M 225.9,31.7 L 234.3,30.3\" style=\"fill:none;fill-rule:evenodd;stroke:#000000;stroke-width:2.0px;stroke-linecap:butt;stroke-linejoin:miter;stroke-opacity:1\"/>\n",
       "<path class=\"bond-7 atom-8 atom-9\" d=\"M 267.2,47.2 L 275.6,45.8\" style=\"fill:none;fill-rule:evenodd;stroke:#000000;stroke-width:2.0px;stroke-linecap:butt;stroke-linejoin:miter;stroke-opacity:1\"/>\n",
       "<path class=\"bond-8 atom-7 atom-8\" d=\"M 261.8,40.7 L 267.2,47.2\" style=\"fill:none;fill-rule:evenodd;stroke:#000000;stroke-width:2.0px;stroke-linecap:butt;stroke-linejoin:miter;stroke-opacity:1\"/>\n",
       "<path class=\"bond-9 atom-10 atom-11\" d=\"M 281.0,52.4 L 289.4,51.0\" style=\"fill:none;fill-rule:evenodd;stroke:#000000;stroke-width:2.0px;stroke-linecap:butt;stroke-linejoin:miter;stroke-opacity:1\"/>\n",
       "<path class=\"bond-10 atom-9 atom-10\" d=\"M 275.6,45.8 L 281.0,52.4\" style=\"fill:none;fill-rule:evenodd;stroke:#000000;stroke-width:2.0px;stroke-linecap:butt;stroke-linejoin:miter;stroke-opacity:1\"/>\n",
       "<path class=\"bond-11 atom-12 atom-13\" d=\"M 303.2,56.2 L 294.8,57.6\" style=\"fill:none;fill-rule:evenodd;stroke:#000000;stroke-width:2.0px;stroke-linecap:butt;stroke-linejoin:miter;stroke-opacity:1\"/>\n",
       "<path class=\"bond-12 atom-11 atom-13\" d=\"M 289.4,51.0 L 294.8,57.6\" style=\"fill:none;fill-rule:evenodd;stroke:#000000;stroke-width:2.0px;stroke-linecap:butt;stroke-linejoin:miter;stroke-opacity:1\"/>\n",
       "<path class=\"bond-13 atom-14 atom-15\" d=\"M 308.6,62.8 L 317.0,61.4\" style=\"fill:none;fill-rule:evenodd;stroke:#000000;stroke-width:2.0px;stroke-linecap:butt;stroke-linejoin:miter;stroke-opacity:1\"/>\n",
       "<path class=\"bond-14 atom-12 atom-14\" d=\"M 303.2,56.2 L 308.6,62.8\" style=\"fill:none;fill-rule:evenodd;stroke:#000000;stroke-width:2.0px;stroke-linecap:butt;stroke-linejoin:miter;stroke-opacity:1\"/>\n",
       "<path class=\"bond-15 atom-16 atom-17\" d=\"M 322.4,67.9 L 330.8,66.5\" style=\"fill:none;fill-rule:evenodd;stroke:#000000;stroke-width:2.0px;stroke-linecap:butt;stroke-linejoin:miter;stroke-opacity:1\"/>\n",
       "<path class=\"bond-16 atom-17 atom-18\" d=\"M 330.8,66.5 L 336.2,73.1\" style=\"fill:none;fill-rule:evenodd;stroke:#000000;stroke-width:2.0px;stroke-linecap:butt;stroke-linejoin:miter;stroke-opacity:1\"/>\n",
       "<path class=\"bond-16 atom-17 atom-18\" d=\"M 332.9,66.4 L 336.7,71.0\" style=\"fill:none;fill-rule:evenodd;stroke:#000000;stroke-width:2.0px;stroke-linecap:butt;stroke-linejoin:miter;stroke-opacity:1\"/>\n",
       "<path class=\"bond-17 atom-18 atom-19\" d=\"M 336.2,73.1 L 344.6,71.7\" style=\"fill:none;fill-rule:evenodd;stroke:#000000;stroke-width:2.0px;stroke-linecap:butt;stroke-linejoin:miter;stroke-opacity:1\"/>\n",
       "<path class=\"bond-18 atom-19 atom-20\" d=\"M 344.6,71.7 L 347.6,63.8\" style=\"fill:none;fill-rule:evenodd;stroke:#000000;stroke-width:2.0px;stroke-linecap:butt;stroke-linejoin:miter;stroke-opacity:1\"/>\n",
       "<path class=\"bond-18 atom-19 atom-20\" d=\"M 343.4,69.9 L 345.5,64.4\" style=\"fill:none;fill-rule:evenodd;stroke:#000000;stroke-width:2.0px;stroke-linecap:butt;stroke-linejoin:miter;stroke-opacity:1\"/>\n",
       "<path class=\"bond-19 atom-20 atom-21\" d=\"M 347.6,63.8 L 342.2,57.2\" style=\"fill:none;fill-rule:evenodd;stroke:#000000;stroke-width:2.0px;stroke-linecap:butt;stroke-linejoin:miter;stroke-opacity:1\"/>\n",
       "<path class=\"bond-20 atom-21 atom-22\" d=\"M 342.2,57.2 L 333.8,58.6\" style=\"fill:none;fill-rule:evenodd;stroke:#000000;stroke-width:2.0px;stroke-linecap:butt;stroke-linejoin:miter;stroke-opacity:1\"/>\n",
       "<path class=\"bond-20 atom-21 atom-22\" d=\"M 341.2,59.1 L 335.3,60.0\" style=\"fill:none;fill-rule:evenodd;stroke:#000000;stroke-width:2.0px;stroke-linecap:butt;stroke-linejoin:miter;stroke-opacity:1\"/>\n",
       "<path class=\"bond-21 atom-22 atom-17\" d=\"M 333.8,58.6 L 330.8,66.5\" style=\"fill:none;fill-rule:evenodd;stroke:#000000;stroke-width:2.0px;stroke-linecap:butt;stroke-linejoin:miter;stroke-opacity:1\"/>\n",
       "<path class=\"bond-22 atom-15 atom-16\" d=\"M 317.0,61.4 L 322.4,67.9\" style=\"fill:none;fill-rule:evenodd;stroke:#000000;stroke-width:2.0px;stroke-linecap:butt;stroke-linejoin:miter;stroke-opacity:1\"/>\n",
       "<path class=\"bond-23 atom-23 atom-24\" d=\"M 311.0,77.3 L 319.4,75.9\" style=\"fill:none;fill-rule:evenodd;stroke:#000000;stroke-width:2.0px;stroke-linecap:butt;stroke-linejoin:miter;stroke-opacity:1\"/>\n",
       "<path class=\"bond-24 atom-16 atom-24\" d=\"M 322.4,67.9 L 319.4,75.9\" style=\"fill:none;fill-rule:evenodd;stroke:#000000;stroke-width:2.0px;stroke-linecap:butt;stroke-linejoin:miter;stroke-opacity:1\"/>\n",
       "<path class=\"bond-25 atom-25 atom-26\" d=\"M 308.0,85.3 L 313.4,91.8\" style=\"fill:none;fill-rule:evenodd;stroke:#000000;stroke-width:2.0px;stroke-linecap:butt;stroke-linejoin:miter;stroke-opacity:1\"/>\n",
       "<path class=\"bond-26 atom-26 atom-27\" d=\"M 313.4,91.8 L 310.4,99.8\" style=\"fill:none;fill-rule:evenodd;stroke:#000000;stroke-width:2.0px;stroke-linecap:butt;stroke-linejoin:miter;stroke-opacity:1\"/>\n",
       "<path class=\"bond-26 atom-26 atom-27\" d=\"M 314.6,93.6 L 312.5,99.2\" style=\"fill:none;fill-rule:evenodd;stroke:#000000;stroke-width:2.0px;stroke-linecap:butt;stroke-linejoin:miter;stroke-opacity:1\"/>\n",
       "<path class=\"bond-27 atom-27 atom-28\" d=\"M 310.4,99.8 L 315.9,106.4\" style=\"fill:none;fill-rule:evenodd;stroke:#000000;stroke-width:2.0px;stroke-linecap:butt;stroke-linejoin:miter;stroke-opacity:1\"/>\n",
       "<path class=\"bond-28 atom-28 atom-29\" d=\"M 315.9,106.4 L 324.2,105.0\" style=\"fill:none;fill-rule:evenodd;stroke:#000000;stroke-width:2.0px;stroke-linecap:butt;stroke-linejoin:miter;stroke-opacity:1\"/>\n",
       "<path class=\"bond-28 atom-28 atom-29\" d=\"M 316.8,104.5 L 322.7,103.5\" style=\"fill:none;fill-rule:evenodd;stroke:#000000;stroke-width:2.0px;stroke-linecap:butt;stroke-linejoin:miter;stroke-opacity:1\"/>\n",
       "<path class=\"bond-29 atom-29 atom-30\" d=\"M 324.2,105.0 L 327.2,97.0\" style=\"fill:none;fill-rule:evenodd;stroke:#000000;stroke-width:2.0px;stroke-linecap:butt;stroke-linejoin:miter;stroke-opacity:1\"/>\n",
       "<path class=\"bond-30 atom-30 atom-31\" d=\"M 327.2,97.0 L 321.8,90.4\" style=\"fill:none;fill-rule:evenodd;stroke:#000000;stroke-width:2.0px;stroke-linecap:butt;stroke-linejoin:miter;stroke-opacity:1\"/>\n",
       "<path class=\"bond-30 atom-30 atom-31\" d=\"M 325.1,97.1 L 321.3,92.5\" style=\"fill:none;fill-rule:evenodd;stroke:#000000;stroke-width:2.0px;stroke-linecap:butt;stroke-linejoin:miter;stroke-opacity:1\"/>\n",
       "<path class=\"bond-31 atom-31 atom-26\" d=\"M 321.8,90.4 L 313.4,91.8\" style=\"fill:none;fill-rule:evenodd;stroke:#000000;stroke-width:2.0px;stroke-linecap:butt;stroke-linejoin:miter;stroke-opacity:1\"/>\n",
       "<path class=\"bond-32 atom-23 atom-25\" d=\"M 311.0,77.3 L 308.0,85.3\" style=\"fill:none;fill-rule:evenodd;stroke:#000000;stroke-width:2.0px;stroke-linecap:butt;stroke-linejoin:miter;stroke-opacity:1\"/>\n",
       "<path class=\"bond-33 atom-32 atom-33\" d=\"M 296.7,94.6 L 299.6,86.6\" style=\"fill:none;fill-rule:evenodd;stroke:#000000;stroke-width:2.0px;stroke-linecap:butt;stroke-linejoin:miter;stroke-opacity:1\"/>\n",
       "<path class=\"bond-34 atom-25 atom-33\" d=\"M 308.0,85.3 L 299.6,86.6\" style=\"fill:none;fill-rule:evenodd;stroke:#000000;stroke-width:2.0px;stroke-linecap:butt;stroke-linejoin:miter;stroke-opacity:1\"/>\n",
       "<path class=\"bond-35 atom-34 atom-35\" d=\"M 285.3,104.0 L 288.3,96.0\" style=\"fill:none;fill-rule:evenodd;stroke:#000000;stroke-width:2.0px;stroke-linecap:butt;stroke-linejoin:miter;stroke-opacity:1\"/>\n",
       "<path class=\"bond-36 atom-32 atom-35\" d=\"M 296.7,94.6 L 288.3,96.0\" style=\"fill:none;fill-rule:evenodd;stroke:#000000;stroke-width:2.0px;stroke-linecap:butt;stroke-linejoin:miter;stroke-opacity:1\"/>\n",
       "<path class=\"bond-37 atom-36 atom-37\" d=\"M 276.9,105.4 L 273.9,113.3\" style=\"fill:none;fill-rule:evenodd;stroke:#000000;stroke-width:2.0px;stroke-linecap:butt;stroke-linejoin:miter;stroke-opacity:1\"/>\n",
       "<path class=\"bond-38 atom-34 atom-36\" d=\"M 285.3,104.0 L 276.9,105.4\" style=\"fill:none;fill-rule:evenodd;stroke:#000000;stroke-width:2.0px;stroke-linecap:butt;stroke-linejoin:miter;stroke-opacity:1\"/>\n",
       "<path class=\"bond-39 atom-38 atom-39\" d=\"M 265.5,114.7 L 262.5,122.7\" style=\"fill:none;fill-rule:evenodd;stroke:#000000;stroke-width:2.0px;stroke-linecap:butt;stroke-linejoin:miter;stroke-opacity:1\"/>\n",
       "<path class=\"bond-40 atom-39 atom-40\" d=\"M 262.5,122.7 L 254.1,124.1\" style=\"fill:none;fill-rule:evenodd;stroke:#000000;stroke-width:2.0px;stroke-linecap:butt;stroke-linejoin:miter;stroke-opacity:1\"/>\n",
       "<path class=\"bond-41 atom-40 atom-41\" d=\"M 254.1,124.1 L 251.1,132.0\" style=\"fill:none;fill-rule:evenodd;stroke:#000000;stroke-width:2.0px;stroke-linecap:butt;stroke-linejoin:miter;stroke-opacity:1\"/>\n",
       "<path class=\"bond-42 atom-40 atom-42\" d=\"M 254.1,124.1 L 248.7,117.5\" style=\"fill:none;fill-rule:evenodd;stroke:#000000;stroke-width:2.0px;stroke-linecap:butt;stroke-linejoin:miter;stroke-opacity:1\"/>\n",
       "<path class=\"bond-43 atom-42 atom-43\" d=\"M 248.7,117.5 L 240.3,118.9\" style=\"fill:none;fill-rule:evenodd;stroke:#000000;stroke-width:2.0px;stroke-linecap:butt;stroke-linejoin:miter;stroke-opacity:1\"/>\n",
       "<path class=\"bond-44 atom-37 atom-38\" d=\"M 273.9,113.3 L 265.5,114.7\" style=\"fill:none;fill-rule:evenodd;stroke:#000000;stroke-width:2.0px;stroke-linecap:butt;stroke-linejoin:miter;stroke-opacity:1\"/>\n",
       "<path class=\"bond-45 atom-44 atom-45\" d=\"M 207.4,102.0 L 212.8,108.5\" style=\"fill:none;fill-rule:evenodd;stroke:#000000;stroke-width:2.0px;stroke-linecap:butt;stroke-linejoin:miter;stroke-opacity:1\"/>\n",
       "<path class=\"bond-46 atom-45 atom-46\" d=\"M 212.8,108.5 L 221.1,107.1\" style=\"fill:none;fill-rule:evenodd;stroke:#000000;stroke-width:2.0px;stroke-linecap:butt;stroke-linejoin:miter;stroke-opacity:1\"/>\n",
       "<path class=\"bond-47 atom-46 atom-47\" d=\"M 221.1,107.1 L 224.1,99.2\" style=\"fill:none;fill-rule:evenodd;stroke:#000000;stroke-width:2.0px;stroke-linecap:butt;stroke-linejoin:miter;stroke-opacity:1\"/>\n",
       "<path class=\"bond-48 atom-46 atom-48\" d=\"M 221.1,107.1 L 226.5,113.7\" style=\"fill:none;fill-rule:evenodd;stroke:#000000;stroke-width:2.0px;stroke-linecap:butt;stroke-linejoin:miter;stroke-opacity:1\"/>\n",
       "<path class=\"bond-49 atom-48 atom-49\" d=\"M 226.5,113.7 L 234.9,112.3\" style=\"fill:none;fill-rule:evenodd;stroke:#000000;stroke-width:2.0px;stroke-linecap:butt;stroke-linejoin:miter;stroke-opacity:1\"/>\n",
       "<path class=\"bond-50 atom-43 atom-49\" d=\"M 240.3,118.9 L 234.9,112.3\" style=\"fill:none;fill-rule:evenodd;stroke:#000000;stroke-width:2.0px;stroke-linecap:butt;stroke-linejoin:miter;stroke-opacity:1\"/>\n",
       "<path class=\"bond-51 atom-50 atom-51\" d=\"M 199.0,103.3 L 196.0,111.3\" style=\"fill:none;fill-rule:evenodd;stroke:#000000;stroke-width:2.0px;stroke-linecap:butt;stroke-linejoin:miter;stroke-opacity:1\"/>\n",
       "<path class=\"bond-52 atom-51 atom-52\" d=\"M 196.0,111.3 L 187.6,112.7\" style=\"fill:none;fill-rule:evenodd;stroke:#000000;stroke-width:2.0px;stroke-linecap:butt;stroke-linejoin:miter;stroke-opacity:1\"/>\n",
       "<path class=\"bond-52 atom-51 atom-52\" d=\"M 195.0,113.2 L 189.1,114.2\" style=\"fill:none;fill-rule:evenodd;stroke:#000000;stroke-width:2.0px;stroke-linecap:butt;stroke-linejoin:miter;stroke-opacity:1\"/>\n",
       "<path class=\"bond-53 atom-52 atom-53\" d=\"M 187.6,112.7 L 184.6,120.7\" style=\"fill:none;fill-rule:evenodd;stroke:#000000;stroke-width:2.0px;stroke-linecap:butt;stroke-linejoin:miter;stroke-opacity:1\"/>\n",
       "<path class=\"bond-54 atom-53 atom-54\" d=\"M 184.6,120.7 L 190.0,127.2\" style=\"fill:none;fill-rule:evenodd;stroke:#000000;stroke-width:2.0px;stroke-linecap:butt;stroke-linejoin:miter;stroke-opacity:1\"/>\n",
       "<path class=\"bond-54 atom-53 atom-54\" d=\"M 186.7,120.6 L 190.5,125.2\" style=\"fill:none;fill-rule:evenodd;stroke:#000000;stroke-width:2.0px;stroke-linecap:butt;stroke-linejoin:miter;stroke-opacity:1\"/>\n",
       "<path class=\"bond-55 atom-54 atom-55\" d=\"M 190.0,127.2 L 198.4,125.8\" style=\"fill:none;fill-rule:evenodd;stroke:#000000;stroke-width:2.0px;stroke-linecap:butt;stroke-linejoin:miter;stroke-opacity:1\"/>\n",
       "<path class=\"bond-56 atom-55 atom-56\" d=\"M 198.4,125.8 L 201.4,117.9\" style=\"fill:none;fill-rule:evenodd;stroke:#000000;stroke-width:2.0px;stroke-linecap:butt;stroke-linejoin:miter;stroke-opacity:1\"/>\n",
       "<path class=\"bond-56 atom-55 atom-56\" d=\"M 197.2,124.1 L 199.3,118.5\" style=\"fill:none;fill-rule:evenodd;stroke:#000000;stroke-width:2.0px;stroke-linecap:butt;stroke-linejoin:miter;stroke-opacity:1\"/>\n",
       "<path class=\"bond-57 atom-56 atom-51\" d=\"M 201.4,117.9 L 196.0,111.3\" style=\"fill:none;fill-rule:evenodd;stroke:#000000;stroke-width:2.0px;stroke-linecap:butt;stroke-linejoin:miter;stroke-opacity:1\"/>\n",
       "<path class=\"bond-58 atom-44 atom-50\" d=\"M 207.4,102.0 L 199.0,103.3\" style=\"fill:none;fill-rule:evenodd;stroke:#000000;stroke-width:2.0px;stroke-linecap:butt;stroke-linejoin:miter;stroke-opacity:1\"/>\n",
       "<path class=\"bond-59 atom-57 atom-58\" d=\"M 185.2,98.2 L 193.6,96.8\" style=\"fill:none;fill-rule:evenodd;stroke:#000000;stroke-width:2.0px;stroke-linecap:butt;stroke-linejoin:miter;stroke-opacity:1\"/>\n",
       "<path class=\"bond-60 atom-50 atom-58\" d=\"M 199.0,103.3 L 193.6,96.8\" style=\"fill:none;fill-rule:evenodd;stroke:#000000;stroke-width:2.0px;stroke-linecap:butt;stroke-linejoin:miter;stroke-opacity:1\"/>\n",
       "<path class=\"bond-61 atom-59 atom-60\" d=\"M 179.8,91.6 L 171.4,93.0\" style=\"fill:none;fill-rule:evenodd;stroke:#000000;stroke-width:2.0px;stroke-linecap:butt;stroke-linejoin:miter;stroke-opacity:1\"/>\n",
       "<path class=\"bond-62 atom-57 atom-59\" d=\"M 185.2,98.2 L 179.8,91.6\" style=\"fill:none;fill-rule:evenodd;stroke:#000000;stroke-width:2.0px;stroke-linecap:butt;stroke-linejoin:miter;stroke-opacity:1\"/>\n",
       "<path class=\"bond-63 atom-61 atom-62\" d=\"M 166.0,86.4 L 157.6,87.8\" style=\"fill:none;fill-rule:evenodd;stroke:#000000;stroke-width:2.0px;stroke-linecap:butt;stroke-linejoin:miter;stroke-opacity:1\"/>\n",
       "<path class=\"bond-64 atom-60 atom-61\" d=\"M 171.4,93.0 L 166.0,86.4\" style=\"fill:none;fill-rule:evenodd;stroke:#000000;stroke-width:2.0px;stroke-linecap:butt;stroke-linejoin:miter;stroke-opacity:1\"/>\n",
       "<path class=\"bond-65 atom-63 atom-64\" d=\"M 143.8,82.6 L 152.2,81.2\" style=\"fill:none;fill-rule:evenodd;stroke:#000000;stroke-width:2.0px;stroke-linecap:butt;stroke-linejoin:miter;stroke-opacity:1\"/>\n",
       "<path class=\"bond-66 atom-62 atom-64\" d=\"M 157.6,87.8 L 152.2,81.2\" style=\"fill:none;fill-rule:evenodd;stroke:#000000;stroke-width:2.0px;stroke-linecap:butt;stroke-linejoin:miter;stroke-opacity:1\"/>\n",
       "<path class=\"bond-67 atom-65 atom-66\" d=\"M 138.4,76.1 L 130.0,77.5\" style=\"fill:none;fill-rule:evenodd;stroke:#000000;stroke-width:2.0px;stroke-linecap:butt;stroke-linejoin:miter;stroke-opacity:1\"/>\n",
       "<path class=\"bond-68 atom-63 atom-65\" d=\"M 143.8,82.6 L 138.4,76.1\" style=\"fill:none;fill-rule:evenodd;stroke:#000000;stroke-width:2.0px;stroke-linecap:butt;stroke-linejoin:miter;stroke-opacity:1\"/>\n",
       "<path class=\"bond-69 atom-67 atom-68\" d=\"M 124.6,70.9 L 127.6,62.9\" style=\"fill:none;fill-rule:evenodd;stroke:#000000;stroke-width:2.0px;stroke-linecap:butt;stroke-linejoin:miter;stroke-opacity:1\"/>\n",
       "<path class=\"bond-70 atom-68 atom-69\" d=\"M 127.6,62.9 L 136.0,61.5\" style=\"fill:none;fill-rule:evenodd;stroke:#000000;stroke-width:2.0px;stroke-linecap:butt;stroke-linejoin:miter;stroke-opacity:1\"/>\n",
       "<path class=\"bond-70 atom-68 atom-69\" d=\"M 128.6,61.0 L 134.4,60.1\" style=\"fill:none;fill-rule:evenodd;stroke:#000000;stroke-width:2.0px;stroke-linecap:butt;stroke-linejoin:miter;stroke-opacity:1\"/>\n",
       "<path class=\"bond-71 atom-69 atom-70\" d=\"M 136.0,61.5 L 139.0,53.6\" style=\"fill:none;fill-rule:evenodd;stroke:#000000;stroke-width:2.0px;stroke-linecap:butt;stroke-linejoin:miter;stroke-opacity:1\"/>\n",
       "<path class=\"bond-72 atom-70 atom-71\" d=\"M 139.0,53.6 L 133.6,47.0\" style=\"fill:none;fill-rule:evenodd;stroke:#000000;stroke-width:2.0px;stroke-linecap:butt;stroke-linejoin:miter;stroke-opacity:1\"/>\n",
       "<path class=\"bond-72 atom-70 atom-71\" d=\"M 136.8,53.7 L 133.1,49.1\" style=\"fill:none;fill-rule:evenodd;stroke:#000000;stroke-width:2.0px;stroke-linecap:butt;stroke-linejoin:miter;stroke-opacity:1\"/>\n",
       "<path class=\"bond-73 atom-71 atom-72\" d=\"M 133.6,47.0 L 125.2,48.4\" style=\"fill:none;fill-rule:evenodd;stroke:#000000;stroke-width:2.0px;stroke-linecap:butt;stroke-linejoin:miter;stroke-opacity:1\"/>\n",
       "<path class=\"bond-74 atom-72 atom-73\" d=\"M 125.2,48.4 L 122.2,56.4\" style=\"fill:none;fill-rule:evenodd;stroke:#000000;stroke-width:2.0px;stroke-linecap:butt;stroke-linejoin:miter;stroke-opacity:1\"/>\n",
       "<path class=\"bond-74 atom-72 atom-73\" d=\"M 126.3,50.2 L 124.2,55.8\" style=\"fill:none;fill-rule:evenodd;stroke:#000000;stroke-width:2.0px;stroke-linecap:butt;stroke-linejoin:miter;stroke-opacity:1\"/>\n",
       "<path class=\"bond-75 atom-73 atom-68\" d=\"M 122.2,56.4 L 127.6,62.9\" style=\"fill:none;fill-rule:evenodd;stroke:#000000;stroke-width:2.0px;stroke-linecap:butt;stroke-linejoin:miter;stroke-opacity:1\"/>\n",
       "<path class=\"bond-76 atom-66 atom-67\" d=\"M 130.0,77.5 L 124.6,70.9\" style=\"fill:none;fill-rule:evenodd;stroke:#000000;stroke-width:2.0px;stroke-linecap:butt;stroke-linejoin:miter;stroke-opacity:1\"/>\n",
       "<path class=\"bond-77 atom-74 atom-75\" d=\"M 218.7,92.6 L 221.7,84.6\" style=\"fill:none;fill-rule:evenodd;stroke:#000000;stroke-width:2.0px;stroke-linecap:butt;stroke-linejoin:miter;stroke-opacity:1\"/>\n",
       "<path class=\"bond-78 atom-47 atom-74\" d=\"M 224.1,99.2 L 218.7,92.6\" style=\"fill:none;fill-rule:evenodd;stroke:#000000;stroke-width:2.0px;stroke-linecap:butt;stroke-linejoin:miter;stroke-opacity:1\"/>\n",
       "<path class=\"bond-79 atom-76 atom-77\" d=\"M 216.3,78.1 L 207.9,79.5\" style=\"fill:none;fill-rule:evenodd;stroke:#000000;stroke-width:2.0px;stroke-linecap:butt;stroke-linejoin:miter;stroke-opacity:1\"/>\n",
       "<path class=\"bond-80 atom-77 atom-78\" d=\"M 207.9,79.5 L 202.5,72.9\" style=\"fill:none;fill-rule:evenodd;stroke:#000000;stroke-width:2.0px;stroke-linecap:butt;stroke-linejoin:miter;stroke-opacity:1\"/>\n",
       "<path class=\"bond-80 atom-77 atom-78\" d=\"M 205.8,79.6 L 202.0,75.0\" style=\"fill:none;fill-rule:evenodd;stroke:#000000;stroke-width:2.0px;stroke-linecap:butt;stroke-linejoin:miter;stroke-opacity:1\"/>\n",
       "<path class=\"bond-81 atom-78 atom-79\" d=\"M 202.5,72.9 L 194.1,74.3\" style=\"fill:none;fill-rule:evenodd;stroke:#000000;stroke-width:2.0px;stroke-linecap:butt;stroke-linejoin:miter;stroke-opacity:1\"/>\n",
       "<path class=\"bond-82 atom-79 atom-80\" d=\"M 194.1,74.3 L 191.1,82.2\" style=\"fill:none;fill-rule:evenodd;stroke:#000000;stroke-width:2.0px;stroke-linecap:butt;stroke-linejoin:miter;stroke-opacity:1\"/>\n",
       "<path class=\"bond-82 atom-79 atom-80\" d=\"M 195.3,76.1 L 193.2,81.6\" style=\"fill:none;fill-rule:evenodd;stroke:#000000;stroke-width:2.0px;stroke-linecap:butt;stroke-linejoin:miter;stroke-opacity:1\"/>\n",
       "<path class=\"bond-83 atom-80 atom-81\" d=\"M 191.1,82.2 L 196.5,88.8\" style=\"fill:none;fill-rule:evenodd;stroke:#000000;stroke-width:2.0px;stroke-linecap:butt;stroke-linejoin:miter;stroke-opacity:1\"/>\n",
       "<path class=\"bond-84 atom-81 atom-82\" d=\"M 196.5,88.8 L 204.9,87.4\" style=\"fill:none;fill-rule:evenodd;stroke:#000000;stroke-width:2.0px;stroke-linecap:butt;stroke-linejoin:miter;stroke-opacity:1\"/>\n",
       "<path class=\"bond-84 atom-81 atom-82\" d=\"M 197.5,86.9 L 203.4,86.0\" style=\"fill:none;fill-rule:evenodd;stroke:#000000;stroke-width:2.0px;stroke-linecap:butt;stroke-linejoin:miter;stroke-opacity:1\"/>\n",
       "<path class=\"bond-85 atom-82 atom-77\" d=\"M 204.9,87.4 L 207.9,79.5\" style=\"fill:none;fill-rule:evenodd;stroke:#000000;stroke-width:2.0px;stroke-linecap:butt;stroke-linejoin:miter;stroke-opacity:1\"/>\n",
       "<path class=\"bond-86 atom-75 atom-76\" d=\"M 221.7,84.6 L 216.3,78.1\" style=\"fill:none;fill-rule:evenodd;stroke:#000000;stroke-width:2.0px;stroke-linecap:butt;stroke-linejoin:miter;stroke-opacity:1\"/>\n",
       "<path class=\"bond-87 atom-83 atom-84\" d=\"M 219.3,70.1 L 213.9,63.5\" style=\"fill:none;fill-rule:evenodd;stroke:#000000;stroke-width:2.0px;stroke-linecap:butt;stroke-linejoin:miter;stroke-opacity:1\"/>\n",
       "<path class=\"bond-88 atom-76 atom-83\" d=\"M 216.3,78.1 L 219.3,70.1\" style=\"fill:none;fill-rule:evenodd;stroke:#000000;stroke-width:2.0px;stroke-linecap:butt;stroke-linejoin:miter;stroke-opacity:1\"/>\n",
       "<path class=\"bond-89 atom-85 atom-86\" d=\"M 242.7,133.4 L 241.7,136.2\" style=\"fill:none;fill-rule:evenodd;stroke:#000000;stroke-width:2.0px;stroke-linecap:butt;stroke-linejoin:miter;stroke-opacity:1\"/>\n",
       "<path class=\"bond-89 atom-85 atom-86\" d=\"M 241.7,136.2 L 240.7,139.0\" style=\"fill:none;fill-rule:evenodd;stroke:#FF0000;stroke-width:2.0px;stroke-linecap:butt;stroke-linejoin:miter;stroke-opacity:1\"/>\n",
       "<path class=\"bond-90 atom-86 atom-87\" d=\"M 237.5,141.7 L 234.4,142.3\" style=\"fill:none;fill-rule:evenodd;stroke:#FF0000;stroke-width:2.0px;stroke-linecap:butt;stroke-linejoin:miter;stroke-opacity:1\"/>\n",
       "<path class=\"bond-90 atom-86 atom-87\" d=\"M 234.4,142.3 L 231.4,142.8\" style=\"fill:none;fill-rule:evenodd;stroke:#000000;stroke-width:2.0px;stroke-linecap:butt;stroke-linejoin:miter;stroke-opacity:1\"/>\n",
       "<path class=\"bond-91 atom-41 atom-85\" d=\"M 251.1,132.0 L 242.7,133.4\" style=\"fill:none;fill-rule:evenodd;stroke:#000000;stroke-width:2.0px;stroke-linecap:butt;stroke-linejoin:miter;stroke-opacity:1\"/>\n",
       "<path class=\"bond-92 atom-88 atom-89\" d=\"M 116.2,72.3 L 114.5,70.2\" style=\"fill:none;fill-rule:evenodd;stroke:#000000;stroke-width:2.0px;stroke-linecap:butt;stroke-linejoin:miter;stroke-opacity:1\"/>\n",
       "<path class=\"bond-92 atom-88 atom-89\" d=\"M 114.5,70.2 L 112.9,68.2\" style=\"fill:none;fill-rule:evenodd;stroke:#FF0000;stroke-width:2.0px;stroke-linecap:butt;stroke-linejoin:miter;stroke-opacity:1\"/>\n",
       "<path class=\"bond-93 atom-89 atom-90\" d=\"M 108.6,66.1 L 105.5,66.6\" style=\"fill:none;fill-rule:evenodd;stroke:#FF0000;stroke-width:2.0px;stroke-linecap:butt;stroke-linejoin:miter;stroke-opacity:1\"/>\n",
       "<path class=\"bond-93 atom-89 atom-90\" d=\"M 105.5,66.6 L 102.4,67.1\" style=\"fill:none;fill-rule:evenodd;stroke:#000000;stroke-width:2.0px;stroke-linecap:butt;stroke-linejoin:miter;stroke-opacity:1\"/>\n",
       "<path class=\"bond-94 atom-67 atom-88\" d=\"M 124.6,70.9 L 116.2,72.3\" style=\"fill:none;fill-rule:evenodd;stroke:#000000;stroke-width:2.0px;stroke-linecap:butt;stroke-linejoin:miter;stroke-opacity:1\"/>\n",
       "<path class=\"bond-95 atom-91 atom-92\" d=\"M 245.6,20.9 L 246.7,18.2\" style=\"fill:none;fill-rule:evenodd;stroke:#000000;stroke-width:2.0px;stroke-linecap:butt;stroke-linejoin:miter;stroke-opacity:1\"/>\n",
       "<path class=\"bond-95 atom-91 atom-92\" d=\"M 246.7,18.2 L 247.7,15.5\" style=\"fill:none;fill-rule:evenodd;stroke:#FF0000;stroke-width:2.0px;stroke-linecap:butt;stroke-linejoin:miter;stroke-opacity:1\"/>\n",
       "<path class=\"bond-96 atom-92 atom-93\" d=\"M 246.6,10.5 L 244.9,8.5\" style=\"fill:none;fill-rule:evenodd;stroke:#FF0000;stroke-width:2.0px;stroke-linecap:butt;stroke-linejoin:miter;stroke-opacity:1\"/>\n",
       "<path class=\"bond-96 atom-92 atom-93\" d=\"M 244.9,8.5 L 243.2,6.4\" style=\"fill:none;fill-rule:evenodd;stroke:#000000;stroke-width:2.0px;stroke-linecap:butt;stroke-linejoin:miter;stroke-opacity:1\"/>\n",
       "<path class=\"bond-97 atom-5 atom-91\" d=\"M 251.0,27.5 L 245.6,20.9\" style=\"fill:none;fill-rule:evenodd;stroke:#000000;stroke-width:2.0px;stroke-linecap:butt;stroke-linejoin:miter;stroke-opacity:1\"/>\n",
       "<path class=\"bond-98 atom-94 atom-95\" d=\"M 216.9,55.6 L 215.1,53.4\" style=\"fill:none;fill-rule:evenodd;stroke:#000000;stroke-width:2.0px;stroke-linecap:butt;stroke-linejoin:miter;stroke-opacity:1\"/>\n",
       "<path class=\"bond-98 atom-94 atom-95\" d=\"M 215.1,53.4 L 213.4,51.3\" style=\"fill:none;fill-rule:evenodd;stroke:#0000FF;stroke-width:2.0px;stroke-linecap:butt;stroke-linejoin:miter;stroke-opacity:1\"/>\n",
       "<path class=\"bond-99 atom-84 atom-94\" d=\"M 213.9,63.5 L 216.9,55.6\" style=\"fill:none;fill-rule:evenodd;stroke:#000000;stroke-width:2.0px;stroke-linecap:butt;stroke-linejoin:miter;stroke-opacity:1\"/>\n",
       "<path class=\"atom-0\" d=\"M 212.9 23.0 L 213.5 23.0 L 213.5 24.8 L 215.6 24.8 L 215.6 23.0 L 216.2 23.0 L 216.2 27.2 L 215.6 27.2 L 215.6 25.3 L 213.5 25.3 L 213.5 27.2 L 212.9 27.2 L 212.9 23.0 \" fill=\"#0000FF\"/>\n",
       "<path class=\"atom-0\" d=\"M 216.7 27.1 Q 216.8 26.8, 217.1 26.7 Q 217.3 26.5, 217.7 26.5 Q 218.1 26.5, 218.3 26.8 Q 218.6 27.0, 218.6 27.4 Q 218.6 27.8, 218.3 28.2 Q 218.0 28.6, 217.3 29.0 L 218.6 29.0 L 218.6 29.4 L 216.7 29.4 L 216.7 29.1 Q 217.3 28.7, 217.6 28.4 Q 217.9 28.2, 218.0 27.9 Q 218.2 27.7, 218.2 27.4 Q 218.2 27.1, 218.0 27.0 Q 217.9 26.8, 217.7 26.8 Q 217.4 26.8, 217.3 26.9 Q 217.1 27.0, 217.0 27.2 L 216.7 27.1 \" fill=\"#0000FF\"/>\n",
       "<path class=\"atom-0\" d=\"M 219.5 23.0 L 220.9 25.2 Q 221.1 25.5, 221.3 25.9 Q 221.5 26.3, 221.5 26.3 L 221.5 23.0 L 222.1 23.0 L 222.1 27.2 L 221.5 27.2 L 220.0 24.8 Q 219.8 24.5, 219.6 24.2 Q 219.5 23.8, 219.4 23.7 L 219.4 27.2 L 218.9 27.2 L 218.9 23.0 L 219.5 23.0 \" fill=\"#0000FF\"/>\n",
       "<path class=\"atom-86\" d=\"M 237.8 141.4 Q 237.8 140.4, 238.3 139.8 Q 238.8 139.2, 239.8 139.2 Q 240.7 139.2, 241.2 139.8 Q 241.7 140.4, 241.7 141.4 Q 241.7 142.4, 241.2 143.0 Q 240.7 143.6, 239.8 143.6 Q 238.8 143.6, 238.3 143.0 Q 237.8 142.4, 237.8 141.4 M 239.8 143.1 Q 240.4 143.1, 240.8 142.7 Q 241.1 142.2, 241.1 141.4 Q 241.1 140.6, 240.8 140.1 Q 240.4 139.7, 239.8 139.7 Q 239.1 139.7, 238.8 140.1 Q 238.4 140.6, 238.4 141.4 Q 238.4 142.2, 238.8 142.7 Q 239.1 143.1, 239.8 143.1 \" fill=\"#FF0000\"/>\n",
       "<path class=\"atom-89\" d=\"M 108.9 65.7 Q 108.9 64.7, 109.4 64.1 Q 109.9 63.6, 110.8 63.6 Q 111.8 63.6, 112.3 64.1 Q 112.8 64.7, 112.8 65.7 Q 112.8 66.8, 112.3 67.3 Q 111.7 67.9, 110.8 67.9 Q 109.9 67.9, 109.4 67.3 Q 108.9 66.8, 108.9 65.7 M 110.8 67.4 Q 111.5 67.4, 111.8 67.0 Q 112.2 66.6, 112.2 65.7 Q 112.2 64.9, 111.8 64.5 Q 111.5 64.0, 110.8 64.0 Q 110.2 64.0, 109.8 64.5 Q 109.5 64.9, 109.5 65.7 Q 109.5 66.6, 109.8 67.0 Q 110.2 67.4, 110.8 67.4 \" fill=\"#FF0000\"/>\n",
       "<path class=\"atom-92\" d=\"M 246.7 13.0 Q 246.7 12.0, 247.2 11.4 Q 247.7 10.8, 248.6 10.8 Q 249.6 10.8, 250.1 11.4 Q 250.6 12.0, 250.6 13.0 Q 250.6 14.0, 250.1 14.6 Q 249.6 15.2, 248.6 15.2 Q 247.7 15.2, 247.2 14.6 Q 246.7 14.0, 246.7 13.0 M 248.6 14.7 Q 249.3 14.7, 249.6 14.3 Q 250.0 13.8, 250.0 13.0 Q 250.0 12.2, 249.6 11.7 Q 249.3 11.3, 248.6 11.3 Q 248.0 11.3, 247.6 11.7 Q 247.3 12.1, 247.3 13.0 Q 247.3 13.8, 247.6 14.3 Q 248.0 14.7, 248.6 14.7 \" fill=\"#FF0000\"/>\n",
       "<path class=\"atom-95\" d=\"M 203.9 46.9 L 204.5 46.9 L 204.5 48.7 L 206.7 48.7 L 206.7 46.9 L 207.3 46.9 L 207.3 51.1 L 206.7 51.1 L 206.7 49.2 L 204.5 49.2 L 204.5 51.1 L 203.9 51.1 L 203.9 46.9 \" fill=\"#0000FF\"/>\n",
       "<path class=\"atom-95\" d=\"M 207.8 51.0 Q 207.9 50.7, 208.1 50.6 Q 208.4 50.4, 208.7 50.4 Q 209.1 50.4, 209.4 50.6 Q 209.6 50.9, 209.6 51.3 Q 209.6 51.7, 209.3 52.1 Q 209.0 52.5, 208.4 52.9 L 209.6 52.9 L 209.6 53.3 L 207.8 53.3 L 207.8 53.0 Q 208.3 52.6, 208.6 52.3 Q 208.9 52.1, 209.1 51.8 Q 209.2 51.6, 209.2 51.3 Q 209.2 51.0, 209.1 50.9 Q 208.9 50.7, 208.7 50.7 Q 208.5 50.7, 208.3 50.8 Q 208.2 50.9, 208.1 51.1 L 207.8 51.0 \" fill=\"#0000FF\"/>\n",
       "<path class=\"atom-95\" d=\"M 210.6 46.9 L 212.0 49.1 Q 212.1 49.4, 212.3 49.8 Q 212.5 50.2, 212.5 50.2 L 212.5 46.9 L 213.1 46.9 L 213.1 51.1 L 212.5 51.1 L 211.0 48.7 Q 210.9 48.4, 210.7 48.1 Q 210.5 47.7, 210.4 47.6 L 210.4 51.1 L 209.9 51.1 L 209.9 46.9 L 210.6 46.9 \" fill=\"#0000FF\"/>\n",
       "</svg>"
      ],
      "text/plain": [
       "<IPython.core.display.SVG object>"
      ]
     },
     "execution_count": 54,
     "metadata": {},
     "output_type": "execute_result"
    }
   ],
   "source": [
    "big_smiles_gen(big)"
   ]
  },
  {
   "cell_type": "code",
   "execution_count": 55,
   "id": "7e775e4e",
   "metadata": {},
   "outputs": [
    {
     "data": {
      "image/svg+xml": [
       "<svg xmlns=\"http://www.w3.org/2000/svg\" xmlns:rdkit=\"http://www.rdkit.org/xml\" xmlns:xlink=\"http://www.w3.org/1999/xlink\" version=\"1.1\" baseProfile=\"full\" xml:space=\"preserve\" width=\"450px\" height=\"150px\" viewBox=\"0 0 450 150\">\n",
       "<!-- END OF HEADER -->\n",
       "<rect style=\"opacity:1.0;fill:#FFFFFF;stroke:none\" width=\"450.0\" height=\"150.0\" x=\"0.0\" y=\"0.0\"> </rect>\n",
       "<path class=\"bond-0 atom-0 atom-1\" d=\"M 280.8,33.2 L 284.3,33.5\" style=\"fill:none;fill-rule:evenodd;stroke:#0000FF;stroke-width:2.0px;stroke-linecap:butt;stroke-linejoin:miter;stroke-opacity:1\"/>\n",
       "<path class=\"bond-0 atom-0 atom-1\" d=\"M 284.3,33.5 L 287.9,33.8\" style=\"fill:none;fill-rule:evenodd;stroke:#000000;stroke-width:2.0px;stroke-linecap:butt;stroke-linejoin:miter;stroke-opacity:1\"/>\n",
       "<path class=\"bond-1 atom-2 atom-3\" d=\"M 291.8,41.9 L 300.8,42.6\" style=\"fill:none;fill-rule:evenodd;stroke:#000000;stroke-width:2.0px;stroke-linecap:butt;stroke-linejoin:miter;stroke-opacity:1\"/>\n",
       "<path class=\"bond-2 atom-1 atom-2\" d=\"M 287.9,33.8 L 291.8,41.9\" style=\"fill:none;fill-rule:evenodd;stroke:#000000;stroke-width:2.0px;stroke-linecap:butt;stroke-linejoin:miter;stroke-opacity:1\"/>\n",
       "<path class=\"bond-3 atom-4 atom-5\" d=\"M 304.6,50.8 L 313.6,51.5\" style=\"fill:none;fill-rule:evenodd;stroke:#000000;stroke-width:2.0px;stroke-linecap:butt;stroke-linejoin:miter;stroke-opacity:1\"/>\n",
       "<path class=\"bond-4 atom-5 atom-6\" d=\"M 313.6,51.5 L 317.5,59.6\" style=\"fill:none;fill-rule:evenodd;stroke:#000000;stroke-width:2.0px;stroke-linecap:butt;stroke-linejoin:miter;stroke-opacity:1\"/>\n",
       "<path class=\"bond-4 atom-5 atom-6\" d=\"M 315.8,51.9 L 318.6,57.6\" style=\"fill:none;fill-rule:evenodd;stroke:#000000;stroke-width:2.0px;stroke-linecap:butt;stroke-linejoin:miter;stroke-opacity:1\"/>\n",
       "<path class=\"bond-5 atom-6 atom-7\" d=\"M 317.5,59.6 L 326.5,60.4\" style=\"fill:none;fill-rule:evenodd;stroke:#000000;stroke-width:2.0px;stroke-linecap:butt;stroke-linejoin:miter;stroke-opacity:1\"/>\n",
       "<path class=\"bond-6 atom-7 atom-8\" d=\"M 326.5,60.4 L 331.6,52.9\" style=\"fill:none;fill-rule:evenodd;stroke:#000000;stroke-width:2.0px;stroke-linecap:butt;stroke-linejoin:miter;stroke-opacity:1\"/>\n",
       "<path class=\"bond-6 atom-7 atom-8\" d=\"M 325.8,58.2 L 329.4,53.0\" style=\"fill:none;fill-rule:evenodd;stroke:#000000;stroke-width:2.0px;stroke-linecap:butt;stroke-linejoin:miter;stroke-opacity:1\"/>\n",
       "<path class=\"bond-7 atom-8 atom-9\" d=\"M 331.6,52.9 L 327.7,44.8\" style=\"fill:none;fill-rule:evenodd;stroke:#000000;stroke-width:2.0px;stroke-linecap:butt;stroke-linejoin:miter;stroke-opacity:1\"/>\n",
       "<path class=\"bond-8 atom-9 atom-10\" d=\"M 327.7,44.8 L 318.8,44.1\" style=\"fill:none;fill-rule:evenodd;stroke:#000000;stroke-width:2.0px;stroke-linecap:butt;stroke-linejoin:miter;stroke-opacity:1\"/>\n",
       "<path class=\"bond-8 atom-9 atom-10\" d=\"M 326.3,46.5 L 320.0,46.0\" style=\"fill:none;fill-rule:evenodd;stroke:#000000;stroke-width:2.0px;stroke-linecap:butt;stroke-linejoin:miter;stroke-opacity:1\"/>\n",
       "<path class=\"bond-9 atom-10 atom-5\" d=\"M 318.8,44.1 L 313.6,51.5\" style=\"fill:none;fill-rule:evenodd;stroke:#000000;stroke-width:2.0px;stroke-linecap:butt;stroke-linejoin:miter;stroke-opacity:1\"/>\n",
       "<path class=\"bond-10 atom-3 atom-4\" d=\"M 300.8,42.6 L 304.6,50.8\" style=\"fill:none;fill-rule:evenodd;stroke:#000000;stroke-width:2.0px;stroke-linecap:butt;stroke-linejoin:miter;stroke-opacity:1\"/>\n",
       "<path class=\"bond-11 atom-11 atom-12\" d=\"M 299.5,58.2 L 303.4,66.4\" style=\"fill:none;fill-rule:evenodd;stroke:#000000;stroke-width:2.0px;stroke-linecap:butt;stroke-linejoin:miter;stroke-opacity:1\"/>\n",
       "<path class=\"bond-12 atom-12 atom-13\" d=\"M 303.4,66.4 L 298.3,73.8\" style=\"fill:none;fill-rule:evenodd;stroke:#000000;stroke-width:2.0px;stroke-linecap:butt;stroke-linejoin:miter;stroke-opacity:1\"/>\n",
       "<path class=\"bond-12 atom-12 atom-13\" d=\"M 304.1,68.5 L 300.5,73.7\" style=\"fill:none;fill-rule:evenodd;stroke:#000000;stroke-width:2.0px;stroke-linecap:butt;stroke-linejoin:miter;stroke-opacity:1\"/>\n",
       "<path class=\"bond-13 atom-13 atom-14\" d=\"M 298.3,73.8 L 302.2,82.0\" style=\"fill:none;fill-rule:evenodd;stroke:#000000;stroke-width:2.0px;stroke-linecap:butt;stroke-linejoin:miter;stroke-opacity:1\"/>\n",
       "<path class=\"bond-14 atom-14 atom-15\" d=\"M 302.2,82.0 L 311.2,82.7\" style=\"fill:none;fill-rule:evenodd;stroke:#000000;stroke-width:2.0px;stroke-linecap:butt;stroke-linejoin:miter;stroke-opacity:1\"/>\n",
       "<path class=\"bond-14 atom-14 atom-15\" d=\"M 303.7,80.3 L 310.0,80.8\" style=\"fill:none;fill-rule:evenodd;stroke:#000000;stroke-width:2.0px;stroke-linecap:butt;stroke-linejoin:miter;stroke-opacity:1\"/>\n",
       "<path class=\"bond-15 atom-15 atom-16\" d=\"M 311.2,82.7 L 316.3,75.2\" style=\"fill:none;fill-rule:evenodd;stroke:#000000;stroke-width:2.0px;stroke-linecap:butt;stroke-linejoin:miter;stroke-opacity:1\"/>\n",
       "<path class=\"bond-16 atom-16 atom-17\" d=\"M 316.3,75.2 L 312.4,67.1\" style=\"fill:none;fill-rule:evenodd;stroke:#000000;stroke-width:2.0px;stroke-linecap:butt;stroke-linejoin:miter;stroke-opacity:1\"/>\n",
       "<path class=\"bond-16 atom-16 atom-17\" d=\"M 314.1,74.8 L 311.4,69.1\" style=\"fill:none;fill-rule:evenodd;stroke:#000000;stroke-width:2.0px;stroke-linecap:butt;stroke-linejoin:miter;stroke-opacity:1\"/>\n",
       "<path class=\"bond-17 atom-17 atom-12\" d=\"M 312.4,67.1 L 303.4,66.4\" style=\"fill:none;fill-rule:evenodd;stroke:#000000;stroke-width:2.0px;stroke-linecap:butt;stroke-linejoin:miter;stroke-opacity:1\"/>\n",
       "<path class=\"bond-18 atom-4 atom-11\" d=\"M 304.6,50.8 L 299.5,58.2\" style=\"fill:none;fill-rule:evenodd;stroke:#000000;stroke-width:2.0px;stroke-linecap:butt;stroke-linejoin:miter;stroke-opacity:1\"/>\n",
       "<path class=\"bond-19 atom-18 atom-19\" d=\"M 290.5,57.5 L 285.4,64.9\" style=\"fill:none;fill-rule:evenodd;stroke:#000000;stroke-width:2.0px;stroke-linecap:butt;stroke-linejoin:miter;stroke-opacity:1\"/>\n",
       "<path class=\"bond-20 atom-11 atom-18\" d=\"M 299.5,58.2 L 290.5,57.5\" style=\"fill:none;fill-rule:evenodd;stroke:#000000;stroke-width:2.0px;stroke-linecap:butt;stroke-linejoin:miter;stroke-opacity:1\"/>\n",
       "<path class=\"bond-21 atom-20 atom-21\" d=\"M 276.4,64.2 L 271.3,71.7\" style=\"fill:none;fill-rule:evenodd;stroke:#000000;stroke-width:2.0px;stroke-linecap:butt;stroke-linejoin:miter;stroke-opacity:1\"/>\n",
       "<path class=\"bond-22 atom-19 atom-20\" d=\"M 285.4,64.9 L 276.4,64.2\" style=\"fill:none;fill-rule:evenodd;stroke:#000000;stroke-width:2.0px;stroke-linecap:butt;stroke-linejoin:miter;stroke-opacity:1\"/>\n",
       "<path class=\"bond-23 atom-22 atom-23\" d=\"M 257.2,78.4 L 262.3,71.0\" style=\"fill:none;fill-rule:evenodd;stroke:#000000;stroke-width:2.0px;stroke-linecap:butt;stroke-linejoin:miter;stroke-opacity:1\"/>\n",
       "<path class=\"bond-24 atom-21 atom-23\" d=\"M 271.3,71.7 L 262.3,71.0\" style=\"fill:none;fill-rule:evenodd;stroke:#000000;stroke-width:2.0px;stroke-linecap:butt;stroke-linejoin:miter;stroke-opacity:1\"/>\n",
       "<path class=\"bond-25 atom-24 atom-25\" d=\"M 243.1,85.1 L 248.2,77.7\" style=\"fill:none;fill-rule:evenodd;stroke:#000000;stroke-width:2.0px;stroke-linecap:butt;stroke-linejoin:miter;stroke-opacity:1\"/>\n",
       "<path class=\"bond-26 atom-22 atom-25\" d=\"M 257.2,78.4 L 248.2,77.7\" style=\"fill:none;fill-rule:evenodd;stroke:#000000;stroke-width:2.0px;stroke-linecap:butt;stroke-linejoin:miter;stroke-opacity:1\"/>\n",
       "<path class=\"bond-27 atom-26 atom-27\" d=\"M 205.9,97.9 L 214.9,98.6\" style=\"fill:none;fill-rule:evenodd;stroke:#000000;stroke-width:2.0px;stroke-linecap:butt;stroke-linejoin:miter;stroke-opacity:1\"/>\n",
       "<path class=\"bond-28 atom-27 atom-28\" d=\"M 214.9,98.6 L 220.0,91.1\" style=\"fill:none;fill-rule:evenodd;stroke:#000000;stroke-width:2.0px;stroke-linecap:butt;stroke-linejoin:miter;stroke-opacity:1\"/>\n",
       "<path class=\"bond-29 atom-28 atom-29\" d=\"M 220.0,91.1 L 216.1,83.0\" style=\"fill:none;fill-rule:evenodd;stroke:#000000;stroke-width:2.0px;stroke-linecap:butt;stroke-linejoin:miter;stroke-opacity:1\"/>\n",
       "<path class=\"bond-30 atom-28 atom-30\" d=\"M 220.0,91.1 L 229.0,91.8\" style=\"fill:none;fill-rule:evenodd;stroke:#000000;stroke-width:2.0px;stroke-linecap:butt;stroke-linejoin:miter;stroke-opacity:1\"/>\n",
       "<path class=\"bond-31 atom-30 atom-31\" d=\"M 229.0,91.8 L 234.1,84.4\" style=\"fill:none;fill-rule:evenodd;stroke:#000000;stroke-width:2.0px;stroke-linecap:butt;stroke-linejoin:miter;stroke-opacity:1\"/>\n",
       "<path class=\"bond-32 atom-24 atom-31\" d=\"M 243.1,85.1 L 234.1,84.4\" style=\"fill:none;fill-rule:evenodd;stroke:#000000;stroke-width:2.0px;stroke-linecap:butt;stroke-linejoin:miter;stroke-opacity:1\"/>\n",
       "<path class=\"bond-33 atom-32 atom-33\" d=\"M 203.2,74.1 L 207.1,82.3\" style=\"fill:none;fill-rule:evenodd;stroke:#000000;stroke-width:2.0px;stroke-linecap:butt;stroke-linejoin:miter;stroke-opacity:1\"/>\n",
       "<path class=\"bond-34 atom-29 atom-33\" d=\"M 216.1,83.0 L 207.1,82.3\" style=\"fill:none;fill-rule:evenodd;stroke:#000000;stroke-width:2.0px;stroke-linecap:butt;stroke-linejoin:miter;stroke-opacity:1\"/>\n",
       "<path class=\"bond-35 atom-34 atom-35\" d=\"M 190.3,65.3 L 194.2,73.4\" style=\"fill:none;fill-rule:evenodd;stroke:#000000;stroke-width:2.0px;stroke-linecap:butt;stroke-linejoin:miter;stroke-opacity:1\"/>\n",
       "<path class=\"bond-36 atom-32 atom-35\" d=\"M 203.2,74.1 L 194.2,73.4\" style=\"fill:none;fill-rule:evenodd;stroke:#000000;stroke-width:2.0px;stroke-linecap:butt;stroke-linejoin:miter;stroke-opacity:1\"/>\n",
       "<path class=\"bond-37 atom-36 atom-37\" d=\"M 181.3,64.6 L 177.5,56.4\" style=\"fill:none;fill-rule:evenodd;stroke:#000000;stroke-width:2.0px;stroke-linecap:butt;stroke-linejoin:miter;stroke-opacity:1\"/>\n",
       "<path class=\"bond-38 atom-34 atom-36\" d=\"M 190.3,65.3 L 181.3,64.6\" style=\"fill:none;fill-rule:evenodd;stroke:#000000;stroke-width:2.0px;stroke-linecap:butt;stroke-linejoin:miter;stroke-opacity:1\"/>\n",
       "<path class=\"bond-39 atom-38 atom-39\" d=\"M 164.6,47.6 L 168.5,55.7\" style=\"fill:none;fill-rule:evenodd;stroke:#000000;stroke-width:2.0px;stroke-linecap:butt;stroke-linejoin:miter;stroke-opacity:1\"/>\n",
       "<path class=\"bond-40 atom-37 atom-39\" d=\"M 177.5,56.4 L 168.5,55.7\" style=\"fill:none;fill-rule:evenodd;stroke:#000000;stroke-width:2.0px;stroke-linecap:butt;stroke-linejoin:miter;stroke-opacity:1\"/>\n",
       "<path class=\"bond-41 atom-40 atom-41\" d=\"M 191.8,104.6 L 200.7,105.3\" style=\"fill:none;fill-rule:evenodd;stroke:#000000;stroke-width:2.0px;stroke-linecap:butt;stroke-linejoin:miter;stroke-opacity:1\"/>\n",
       "<path class=\"bond-42 atom-26 atom-41\" d=\"M 205.9,97.9 L 200.7,105.3\" style=\"fill:none;fill-rule:evenodd;stroke:#000000;stroke-width:2.0px;stroke-linecap:butt;stroke-linejoin:miter;stroke-opacity:1\"/>\n",
       "<path class=\"bond-43 atom-42 atom-43\" d=\"M 155.6,46.8 L 150.5,54.3\" style=\"fill:none;fill-rule:evenodd;stroke:#000000;stroke-width:2.0px;stroke-linecap:butt;stroke-linejoin:miter;stroke-opacity:1\"/>\n",
       "<path class=\"bond-44 atom-43 atom-44\" d=\"M 150.5,54.3 L 141.5,53.6\" style=\"fill:none;fill-rule:evenodd;stroke:#000000;stroke-width:2.0px;stroke-linecap:butt;stroke-linejoin:miter;stroke-opacity:1\"/>\n",
       "<path class=\"bond-44 atom-43 atom-44\" d=\"M 149.0,56.0 L 142.7,55.5\" style=\"fill:none;fill-rule:evenodd;stroke:#000000;stroke-width:2.0px;stroke-linecap:butt;stroke-linejoin:miter;stroke-opacity:1\"/>\n",
       "<path class=\"bond-45 atom-44 atom-45\" d=\"M 141.5,53.6 L 136.4,61.0\" style=\"fill:none;fill-rule:evenodd;stroke:#000000;stroke-width:2.0px;stroke-linecap:butt;stroke-linejoin:miter;stroke-opacity:1\"/>\n",
       "<path class=\"bond-46 atom-45 atom-46\" d=\"M 136.4,61.0 L 140.2,69.1\" style=\"fill:none;fill-rule:evenodd;stroke:#000000;stroke-width:2.0px;stroke-linecap:butt;stroke-linejoin:miter;stroke-opacity:1\"/>\n",
       "<path class=\"bond-46 atom-45 atom-46\" d=\"M 138.6,61.4 L 141.3,67.1\" style=\"fill:none;fill-rule:evenodd;stroke:#000000;stroke-width:2.0px;stroke-linecap:butt;stroke-linejoin:miter;stroke-opacity:1\"/>\n",
       "<path class=\"bond-47 atom-46 atom-47\" d=\"M 140.2,69.1 L 149.2,69.9\" style=\"fill:none;fill-rule:evenodd;stroke:#000000;stroke-width:2.0px;stroke-linecap:butt;stroke-linejoin:miter;stroke-opacity:1\"/>\n",
       "<path class=\"bond-48 atom-47 atom-48\" d=\"M 149.2,69.9 L 154.3,62.4\" style=\"fill:none;fill-rule:evenodd;stroke:#000000;stroke-width:2.0px;stroke-linecap:butt;stroke-linejoin:miter;stroke-opacity:1\"/>\n",
       "<path class=\"bond-48 atom-47 atom-48\" d=\"M 148.5,67.7 L 152.1,62.5\" style=\"fill:none;fill-rule:evenodd;stroke:#000000;stroke-width:2.0px;stroke-linecap:butt;stroke-linejoin:miter;stroke-opacity:1\"/>\n",
       "<path class=\"bond-49 atom-48 atom-43\" d=\"M 154.3,62.4 L 150.5,54.3\" style=\"fill:none;fill-rule:evenodd;stroke:#000000;stroke-width:2.0px;stroke-linecap:butt;stroke-linejoin:miter;stroke-opacity:1\"/>\n",
       "<path class=\"bond-50 atom-38 atom-42\" d=\"M 164.6,47.6 L 155.6,46.8\" style=\"fill:none;fill-rule:evenodd;stroke:#000000;stroke-width:2.0px;stroke-linecap:butt;stroke-linejoin:miter;stroke-opacity:1\"/>\n",
       "<path class=\"bond-51 atom-49 atom-50\" d=\"M 186.6,112.0 L 177.6,111.3\" style=\"fill:none;fill-rule:evenodd;stroke:#000000;stroke-width:2.0px;stroke-linecap:butt;stroke-linejoin:miter;stroke-opacity:1\"/>\n",
       "<path class=\"bond-52 atom-50 atom-51\" d=\"M 177.6,111.3 L 173.8,103.2\" style=\"fill:none;fill-rule:evenodd;stroke:#000000;stroke-width:2.0px;stroke-linecap:butt;stroke-linejoin:miter;stroke-opacity:1\"/>\n",
       "<path class=\"bond-52 atom-50 atom-51\" d=\"M 175.4,110.9 L 172.7,105.2\" style=\"fill:none;fill-rule:evenodd;stroke:#000000;stroke-width:2.0px;stroke-linecap:butt;stroke-linejoin:miter;stroke-opacity:1\"/>\n",
       "<path class=\"bond-53 atom-51 atom-52\" d=\"M 173.8,103.2 L 164.8,102.4\" style=\"fill:none;fill-rule:evenodd;stroke:#000000;stroke-width:2.0px;stroke-linecap:butt;stroke-linejoin:miter;stroke-opacity:1\"/>\n",
       "<path class=\"bond-54 atom-52 atom-53\" d=\"M 164.8,102.4 L 159.6,109.9\" style=\"fill:none;fill-rule:evenodd;stroke:#000000;stroke-width:2.0px;stroke-linecap:butt;stroke-linejoin:miter;stroke-opacity:1\"/>\n",
       "<path class=\"bond-54 atom-52 atom-53\" d=\"M 165.5,104.6 L 161.9,109.8\" style=\"fill:none;fill-rule:evenodd;stroke:#000000;stroke-width:2.0px;stroke-linecap:butt;stroke-linejoin:miter;stroke-opacity:1\"/>\n",
       "<path class=\"bond-55 atom-53 atom-54\" d=\"M 159.6,109.9 L 163.5,118.0\" style=\"fill:none;fill-rule:evenodd;stroke:#000000;stroke-width:2.0px;stroke-linecap:butt;stroke-linejoin:miter;stroke-opacity:1\"/>\n",
       "<path class=\"bond-56 atom-54 atom-55\" d=\"M 163.5,118.0 L 172.5,118.7\" style=\"fill:none;fill-rule:evenodd;stroke:#000000;stroke-width:2.0px;stroke-linecap:butt;stroke-linejoin:miter;stroke-opacity:1\"/>\n",
       "<path class=\"bond-56 atom-54 atom-55\" d=\"M 165.0,116.3 L 171.3,116.8\" style=\"fill:none;fill-rule:evenodd;stroke:#000000;stroke-width:2.0px;stroke-linecap:butt;stroke-linejoin:miter;stroke-opacity:1\"/>\n",
       "<path class=\"bond-57 atom-55 atom-50\" d=\"M 172.5,118.7 L 177.6,111.3\" style=\"fill:none;fill-rule:evenodd;stroke:#000000;stroke-width:2.0px;stroke-linecap:butt;stroke-linejoin:miter;stroke-opacity:1\"/>\n",
       "<path class=\"bond-58 atom-40 atom-49\" d=\"M 191.8,104.6 L 186.6,112.0\" style=\"fill:none;fill-rule:evenodd;stroke:#000000;stroke-width:2.0px;stroke-linecap:butt;stroke-linejoin:miter;stroke-opacity:1\"/>\n",
       "<path class=\"bond-59 atom-56 atom-57\" d=\"M 151.7,38.7 L 142.7,38.0\" style=\"fill:none;fill-rule:evenodd;stroke:#000000;stroke-width:2.0px;stroke-linecap:butt;stroke-linejoin:miter;stroke-opacity:1\"/>\n",
       "<path class=\"bond-60 atom-42 atom-56\" d=\"M 155.6,46.8 L 151.7,38.7\" style=\"fill:none;fill-rule:evenodd;stroke:#000000;stroke-width:2.0px;stroke-linecap:butt;stroke-linejoin:miter;stroke-opacity:1\"/>\n",
       "<path class=\"bond-61 atom-58 atom-59\" d=\"M 138.8,29.8 L 143.9,22.4\" style=\"fill:none;fill-rule:evenodd;stroke:#000000;stroke-width:2.0px;stroke-linecap:butt;stroke-linejoin:miter;stroke-opacity:1\"/>\n",
       "<path class=\"bond-62 atom-59 atom-60\" d=\"M 143.9,22.4 L 152.9,23.1\" style=\"fill:none;fill-rule:evenodd;stroke:#000000;stroke-width:2.0px;stroke-linecap:butt;stroke-linejoin:miter;stroke-opacity:1\"/>\n",
       "<path class=\"bond-62 atom-59 atom-60\" d=\"M 145.4,20.7 L 151.7,21.2\" style=\"fill:none;fill-rule:evenodd;stroke:#000000;stroke-width:2.0px;stroke-linecap:butt;stroke-linejoin:miter;stroke-opacity:1\"/>\n",
       "<path class=\"bond-63 atom-60 atom-61\" d=\"M 152.9,23.1 L 158.0,15.7\" style=\"fill:none;fill-rule:evenodd;stroke:#000000;stroke-width:2.0px;stroke-linecap:butt;stroke-linejoin:miter;stroke-opacity:1\"/>\n",
       "<path class=\"bond-64 atom-61 atom-62\" d=\"M 158.0,15.7 L 154.2,7.5\" style=\"fill:none;fill-rule:evenodd;stroke:#000000;stroke-width:2.0px;stroke-linecap:butt;stroke-linejoin:miter;stroke-opacity:1\"/>\n",
       "<path class=\"bond-64 atom-61 atom-62\" d=\"M 155.8,15.2 L 153.1,9.5\" style=\"fill:none;fill-rule:evenodd;stroke:#000000;stroke-width:2.0px;stroke-linecap:butt;stroke-linejoin:miter;stroke-opacity:1\"/>\n",
       "<path class=\"bond-65 atom-62 atom-63\" d=\"M 154.2,7.5 L 145.2,6.8\" style=\"fill:none;fill-rule:evenodd;stroke:#000000;stroke-width:2.0px;stroke-linecap:butt;stroke-linejoin:miter;stroke-opacity:1\"/>\n",
       "<path class=\"bond-66 atom-63 atom-64\" d=\"M 145.2,6.8 L 140.1,14.3\" style=\"fill:none;fill-rule:evenodd;stroke:#000000;stroke-width:2.0px;stroke-linecap:butt;stroke-linejoin:miter;stroke-opacity:1\"/>\n",
       "<path class=\"bond-66 atom-63 atom-64\" d=\"M 145.9,9.0 L 142.3,14.2\" style=\"fill:none;fill-rule:evenodd;stroke:#000000;stroke-width:2.0px;stroke-linecap:butt;stroke-linejoin:miter;stroke-opacity:1\"/>\n",
       "<path class=\"bond-67 atom-64 atom-59\" d=\"M 140.1,14.3 L 143.9,22.4\" style=\"fill:none;fill-rule:evenodd;stroke:#000000;stroke-width:2.0px;stroke-linecap:butt;stroke-linejoin:miter;stroke-opacity:1\"/>\n",
       "<path class=\"bond-68 atom-57 atom-58\" d=\"M 142.7,38.0 L 138.8,29.8\" style=\"fill:none;fill-rule:evenodd;stroke:#000000;stroke-width:2.0px;stroke-linecap:butt;stroke-linejoin:miter;stroke-opacity:1\"/>\n",
       "<path class=\"bond-69 atom-65 atom-66\" d=\"M 190.5,120.2 L 199.5,120.9\" style=\"fill:none;fill-rule:evenodd;stroke:#000000;stroke-width:2.0px;stroke-linecap:butt;stroke-linejoin:miter;stroke-opacity:1\"/>\n",
       "<path class=\"bond-70 atom-66 atom-67\" d=\"M 199.5,120.9 L 203.4,129.0\" style=\"fill:none;fill-rule:evenodd;stroke:#000000;stroke-width:2.0px;stroke-linecap:butt;stroke-linejoin:miter;stroke-opacity:1\"/>\n",
       "<path class=\"bond-70 atom-66 atom-67\" d=\"M 201.7,121.3 L 204.4,127.0\" style=\"fill:none;fill-rule:evenodd;stroke:#000000;stroke-width:2.0px;stroke-linecap:butt;stroke-linejoin:miter;stroke-opacity:1\"/>\n",
       "<path class=\"bond-71 atom-67 atom-68\" d=\"M 203.4,129.0 L 212.4,129.7\" style=\"fill:none;fill-rule:evenodd;stroke:#000000;stroke-width:2.0px;stroke-linecap:butt;stroke-linejoin:miter;stroke-opacity:1\"/>\n",
       "<path class=\"bond-72 atom-68 atom-69\" d=\"M 212.4,129.7 L 217.5,122.3\" style=\"fill:none;fill-rule:evenodd;stroke:#000000;stroke-width:2.0px;stroke-linecap:butt;stroke-linejoin:miter;stroke-opacity:1\"/>\n",
       "<path class=\"bond-72 atom-68 atom-69\" d=\"M 211.7,127.6 L 215.3,122.4\" style=\"fill:none;fill-rule:evenodd;stroke:#000000;stroke-width:2.0px;stroke-linecap:butt;stroke-linejoin:miter;stroke-opacity:1\"/>\n",
       "<path class=\"bond-73 atom-69 atom-70\" d=\"M 217.5,122.3 L 213.6,114.2\" style=\"fill:none;fill-rule:evenodd;stroke:#000000;stroke-width:2.0px;stroke-linecap:butt;stroke-linejoin:miter;stroke-opacity:1\"/>\n",
       "<path class=\"bond-74 atom-70 atom-71\" d=\"M 213.6,114.2 L 204.6,113.4\" style=\"fill:none;fill-rule:evenodd;stroke:#000000;stroke-width:2.0px;stroke-linecap:butt;stroke-linejoin:miter;stroke-opacity:1\"/>\n",
       "<path class=\"bond-74 atom-70 atom-71\" d=\"M 212.1,115.8 L 205.8,115.3\" style=\"fill:none;fill-rule:evenodd;stroke:#000000;stroke-width:2.0px;stroke-linecap:butt;stroke-linejoin:miter;stroke-opacity:1\"/>\n",
       "<path class=\"bond-75 atom-71 atom-66\" d=\"M 204.6,113.4 L 199.5,120.9\" style=\"fill:none;fill-rule:evenodd;stroke:#000000;stroke-width:2.0px;stroke-linecap:butt;stroke-linejoin:miter;stroke-opacity:1\"/>\n",
       "<path class=\"bond-76 atom-49 atom-65\" d=\"M 186.6,112.0 L 190.5,120.2\" style=\"fill:none;fill-rule:evenodd;stroke:#000000;stroke-width:2.0px;stroke-linecap:butt;stroke-linejoin:miter;stroke-opacity:1\"/>\n",
       "<path class=\"bond-77 atom-72 atom-73\" d=\"M 185.4,127.6 L 186.8,130.4\" style=\"fill:none;fill-rule:evenodd;stroke:#000000;stroke-width:2.0px;stroke-linecap:butt;stroke-linejoin:miter;stroke-opacity:1\"/>\n",
       "<path class=\"bond-77 atom-72 atom-73\" d=\"M 186.8,130.4 L 188.1,133.3\" style=\"fill:none;fill-rule:evenodd;stroke:#FF0000;stroke-width:2.0px;stroke-linecap:butt;stroke-linejoin:miter;stroke-opacity:1\"/>\n",
       "<path class=\"bond-78 atom-73 atom-74\" d=\"M 187.6,138.3 L 185.9,140.7\" style=\"fill:none;fill-rule:evenodd;stroke:#FF0000;stroke-width:2.0px;stroke-linecap:butt;stroke-linejoin:miter;stroke-opacity:1\"/>\n",
       "<path class=\"bond-78 atom-73 atom-74\" d=\"M 185.9,140.7 L 184.2,143.2\" style=\"fill:none;fill-rule:evenodd;stroke:#000000;stroke-width:2.0px;stroke-linecap:butt;stroke-linejoin:miter;stroke-opacity:1\"/>\n",
       "<path class=\"bond-79 atom-65 atom-72\" d=\"M 190.5,120.2 L 185.4,127.6\" style=\"fill:none;fill-rule:evenodd;stroke:#000000;stroke-width:2.0px;stroke-linecap:butt;stroke-linejoin:miter;stroke-opacity:1\"/>\n",
       "<path class=\"bond-80 atom-75 atom-76\" d=\"M 129.8,29.1 L 128.5,26.3\" style=\"fill:none;fill-rule:evenodd;stroke:#000000;stroke-width:2.0px;stroke-linecap:butt;stroke-linejoin:miter;stroke-opacity:1\"/>\n",
       "<path class=\"bond-80 atom-75 atom-76\" d=\"M 128.5,26.3 L 127.1,23.4\" style=\"fill:none;fill-rule:evenodd;stroke:#0000FF;stroke-width:2.0px;stroke-linecap:butt;stroke-linejoin:miter;stroke-opacity:1\"/>\n",
       "<path class=\"bond-81 atom-58 atom-75\" d=\"M 138.8,29.8 L 129.8,29.1\" style=\"fill:none;fill-rule:evenodd;stroke:#000000;stroke-width:2.0px;stroke-linecap:butt;stroke-linejoin:miter;stroke-opacity:1\"/>\n",
       "<path class=\"atom-0\" d=\"M 271.3 30.9 L 271.9 30.9 L 271.9 32.8 L 274.1 32.8 L 274.1 30.9 L 274.6 30.9 L 274.6 35.2 L 274.1 35.2 L 274.1 33.2 L 271.9 33.2 L 271.9 35.2 L 271.3 35.2 L 271.3 30.9 \" fill=\"#0000FF\"/>\n",
       "<path class=\"atom-0\" d=\"M 275.2 35.0 Q 275.3 34.8, 275.5 34.6 Q 275.7 34.5, 276.1 34.5 Q 276.5 34.5, 276.7 34.7 Q 277.0 34.9, 277.0 35.4 Q 277.0 35.8, 276.7 36.2 Q 276.4 36.5, 275.7 37.0 L 277.0 37.0 L 277.0 37.3 L 275.1 37.3 L 275.1 37.1 Q 275.7 36.7, 276.0 36.4 Q 276.3 36.1, 276.4 35.9 Q 276.6 35.6, 276.6 35.4 Q 276.6 35.1, 276.5 35.0 Q 276.3 34.8, 276.1 34.8 Q 275.9 34.8, 275.7 34.9 Q 275.6 35.0, 275.5 35.2 L 275.2 35.0 \" fill=\"#0000FF\"/>\n",
       "<path class=\"atom-0\" d=\"M 277.9 30.9 L 279.3 33.2 Q 279.5 33.4, 279.7 33.8 Q 279.9 34.2, 279.9 34.2 L 279.9 30.9 L 280.5 30.9 L 280.5 35.2 L 279.9 35.2 L 278.4 32.7 Q 278.2 32.4, 278.1 32.1 Q 277.9 31.8, 277.8 31.7 L 277.8 35.2 L 277.3 35.2 L 277.3 30.9 L 277.9 30.9 \" fill=\"#0000FF\"/>\n",
       "<path class=\"atom-73\" d=\"M 187.3 135.8 Q 187.3 134.7, 187.8 134.2 Q 188.3 133.6, 189.3 133.6 Q 190.2 133.6, 190.7 134.2 Q 191.2 134.7, 191.2 135.8 Q 191.2 136.8, 190.7 137.4 Q 190.2 138.0, 189.3 138.0 Q 188.4 138.0, 187.8 137.4 Q 187.3 136.8, 187.3 135.8 M 189.3 137.5 Q 189.9 137.5, 190.3 137.0 Q 190.6 136.6, 190.6 135.8 Q 190.6 134.9, 190.3 134.5 Q 189.9 134.1, 189.3 134.1 Q 188.6 134.1, 188.3 134.5 Q 187.9 134.9, 187.9 135.8 Q 187.9 136.6, 188.3 137.0 Q 188.6 137.5, 189.3 137.5 \" fill=\"#FF0000\"/>\n",
       "<path class=\"atom-76\" d=\"M 118.4 18.9 L 118.9 18.9 L 118.9 20.7 L 121.1 20.7 L 121.1 18.9 L 121.7 18.9 L 121.7 23.1 L 121.1 23.1 L 121.1 21.1 L 118.9 21.1 L 118.9 23.1 L 118.4 23.1 L 118.4 18.9 \" fill=\"#0000FF\"/>\n",
       "<path class=\"atom-76\" d=\"M 122.2 23.0 Q 122.3 22.7, 122.6 22.5 Q 122.8 22.4, 123.1 22.4 Q 123.6 22.4, 123.8 22.6 Q 124.0 22.8, 124.0 23.3 Q 124.0 23.7, 123.7 24.1 Q 123.4 24.4, 122.8 24.9 L 124.1 24.9 L 124.1 25.2 L 122.2 25.2 L 122.2 25.0 Q 122.7 24.6, 123.0 24.3 Q 123.3 24.0, 123.5 23.8 Q 123.6 23.5, 123.6 23.3 Q 123.6 23.0, 123.5 22.9 Q 123.4 22.7, 123.1 22.7 Q 122.9 22.7, 122.8 22.8 Q 122.6 22.9, 122.5 23.1 L 122.2 23.0 \" fill=\"#0000FF\"/>\n",
       "<path class=\"atom-76\" d=\"M 125.0 18.9 L 126.4 21.1 Q 126.5 21.3, 126.8 21.7 Q 127.0 22.1, 127.0 22.2 L 127.0 18.9 L 127.6 18.9 L 127.6 23.1 L 127.0 23.1 L 125.5 20.6 Q 125.3 20.4, 125.1 20.0 Q 124.9 19.7, 124.9 19.6 L 124.9 23.1 L 124.3 23.1 L 124.3 18.9 L 125.0 18.9 \" fill=\"#0000FF\"/>\n",
       "</svg>"
      ],
      "text/plain": [
       "<IPython.core.display.SVG object>"
      ]
     },
     "execution_count": 55,
     "metadata": {},
     "output_type": "execute_result"
    }
   ],
   "source": [
    "big_smiles_gen(big)"
   ]
  },
  {
   "cell_type": "code",
   "execution_count": 56,
   "id": "055d2df1",
   "metadata": {},
   "outputs": [
    {
     "data": {
      "image/png": "[encoded data removed]",
      "text/plain": [
       "<Figure size 432x288 with 1 Axes>"
      ]
     },
     "metadata": {},
     "output_type": "display_data"
    }
   ],
   "source": [
    "big_smiles_graph(big)"
   ]
  },
  {
   "cell_type": "code",
   "execution_count": 57,
   "id": "487e2c46",
   "metadata": {},
   "outputs": [
    {
     "data": {
      "image/png": "[encoded data removed]",
      "text/plain": [
       "<Figure size 432x288 with 1 Axes>"
      ]
     },
     "metadata": {},
     "output_type": "display_data"
    }
   ],
   "source": [
    "big_smiles_graph(big)"
   ]
  },
  {
   "cell_type": "code",
   "execution_count": 58,
   "id": "93276968",
   "metadata": {},
   "outputs": [
    {
     "data": {
      "image/png": "[encoded data removed]",
      "text/plain": [
       "<Figure size 432x288 with 1 Axes>"
      ]
     },
     "metadata": {},
     "output_type": "display_data"
    }
   ],
   "source": [
    "big_smiles_graph(big)"
   ]
  },
  {
   "cell_type": "markdown",
   "id": "475a8bce",
   "metadata": {},
   "source": [
    "# Motifs"
   ]
  },
  {
   "cell_type": "code",
   "execution_count": 59,
   "id": "82f4e909",
   "metadata": {},
   "outputs": [
    {
     "data": {
      "image/svg+xml": [
       "<svg xmlns=\"http://www.w3.org/2000/svg\" xmlns:rdkit=\"http://www.rdkit.org/xml\" xmlns:xlink=\"http://www.w3.org/1999/xlink\" version=\"1.1\" baseProfile=\"full\" xml:space=\"preserve\" width=\"450px\" height=\"150px\" viewBox=\"0 0 450 150\">\n",
       "<!-- END OF HEADER -->\n",
       "<rect style=\"opacity:1.0;fill:#FFFFFF;stroke:none\" width=\"450.0\" height=\"150.0\" x=\"0.0\" y=\"0.0\"> </rect>\n",
       "<path class=\"bond-0 atom-0 atom-1\" d=\"M 313.7,67.9 L 189.1,67.9\" style=\"fill:none;fill-rule:evenodd;stroke:#0000FF;stroke-width:2.0px;stroke-linecap:butt;stroke-linejoin:miter;stroke-opacity:1\"/>\n",
       "<path class=\"bond-0 atom-0 atom-1\" d=\"M 189.1,67.9 L 64.5,67.9\" style=\"fill:none;fill-rule:evenodd;stroke:#000000;stroke-width:2.0px;stroke-linecap:butt;stroke-linejoin:miter;stroke-opacity:1\"/>\n",
       "<path class=\"atom-0\" d=\"M 327.0 53.8 L 336.3 68.8 Q 337.2 70.2, 338.7 72.9 Q 340.2 75.6, 340.3 75.8 L 340.3 53.8 L 344.0 53.8 L 344.0 82.1 L 340.1 82.1 L 330.2 65.7 Q 329.0 63.8, 327.8 61.6 Q 326.6 59.4, 326.2 58.7 L 326.2 82.1 L 322.5 82.1 L 322.5 53.8 L 327.0 53.8 \" fill=\"#0000FF\"/>\n",
       "<path class=\"atom-0\" d=\"M 347.3 53.8 L 351.2 53.8 L 351.2 65.8 L 365.7 65.8 L 365.7 53.8 L 369.5 53.8 L 369.5 82.1 L 365.7 82.1 L 365.7 69.0 L 351.2 69.0 L 351.2 82.1 L 347.3 82.1 L 347.3 53.8 \" fill=\"#0000FF\"/>\n",
       "<path class=\"atom-0\" d=\"M 372.9 81.1 Q 373.6 79.3, 375.3 78.3 Q 376.9 77.3, 379.2 77.3 Q 382.0 77.3, 383.6 78.9 Q 385.2 80.4, 385.2 83.1 Q 385.2 85.9, 383.1 88.5 Q 381.1 91.1, 376.9 94.1 L 385.5 94.1 L 385.5 96.2 L 372.9 96.2 L 372.9 94.5 Q 376.4 92.0, 378.4 90.1 Q 380.5 88.3, 381.5 86.6 Q 382.5 85.0, 382.5 83.3 Q 382.5 81.5, 381.6 80.5 Q 380.7 79.4, 379.2 79.4 Q 377.7 79.4, 376.7 80.1 Q 375.7 80.7, 375.0 82.0 L 372.9 81.1 \" fill=\"#0000FF\"/>\n",
       "</svg>"
      ],
      "text/plain": [
       "<IPython.core.display.SVG object>"
      ]
     },
     "execution_count": 59,
     "metadata": {},
     "output_type": "execute_result"
    }
   ],
   "source": [
    "render_svg(moltosvg(Chem.MolFromSmiles(\"NC\")))"
   ]
  },
  {
   "cell_type": "code",
   "execution_count": 60,
   "id": "23f5aca0",
   "metadata": {},
   "outputs": [
    {
     "data": {
      "image/svg+xml": [
       "<svg xmlns=\"http://www.w3.org/2000/svg\" xmlns:rdkit=\"http://www.rdkit.org/xml\" xmlns:xlink=\"http://www.w3.org/1999/xlink\" version=\"1.1\" baseProfile=\"full\" xml:space=\"preserve\" width=\"450px\" height=\"150px\" viewBox=\"0 0 450 150\">\n",
       "<!-- END OF HEADER -->\n",
       "<rect style=\"opacity:1.0;fill:#FFFFFF;stroke:none\" width=\"450.0\" height=\"150.0\" x=\"0.0\" y=\"0.0\"> </rect>\n",
       "<path class=\"bond-0 atom-0 atom-1\" d=\"M 168.8,75.0 L 281.2,75.0\" style=\"fill:none;fill-rule:evenodd;stroke:#000000;stroke-width:2.0px;stroke-linecap:butt;stroke-linejoin:miter;stroke-opacity:1\"/>\n",
       "</svg>"
      ],
      "text/plain": [
       "<IPython.core.display.SVG object>"
      ]
     },
     "execution_count": 60,
     "metadata": {},
     "output_type": "execute_result"
    }
   ],
   "source": [
    "render_svg(moltosvg(Chem.MolFromSmiles(\"CC\")))"
   ]
  },
  {
   "cell_type": "code",
   "execution_count": 61,
   "id": "e285912c",
   "metadata": {},
   "outputs": [
    {
     "data": {
      "image/svg+xml": [
       "<svg xmlns=\"http://www.w3.org/2000/svg\" xmlns:rdkit=\"http://www.rdkit.org/xml\" xmlns:xlink=\"http://www.w3.org/1999/xlink\" version=\"1.1\" baseProfile=\"full\" xml:space=\"preserve\" width=\"450px\" height=\"150px\" viewBox=\"0 0 450 150\">\n",
       "<!-- END OF HEADER -->\n",
       "<rect style=\"opacity:1.0;fill:#FFFFFF;stroke:none\" width=\"450.0\" height=\"150.0\" x=\"0.0\" y=\"0.0\"> </rect>\n",
       "<path class=\"bond-0 atom-0 atom-1\" d=\"M 343.1,6.8 L 303.7,75.0\" style=\"fill:none;fill-rule:evenodd;stroke:#000000;stroke-width:2.0px;stroke-linecap:butt;stroke-linejoin:miter;stroke-opacity:1\"/>\n",
       "<path class=\"bond-1 atom-1 atom-2\" d=\"M 303.7,75.0 L 225.0,75.0\" style=\"fill:none;fill-rule:evenodd;stroke:#000000;stroke-width:2.0px;stroke-linecap:butt;stroke-linejoin:miter;stroke-opacity:1\"/>\n",
       "<path class=\"bond-2 atom-2 atom-3\" d=\"M 225.0,75.0 L 185.6,143.2\" style=\"fill:none;fill-rule:evenodd;stroke:#000000;stroke-width:2.0px;stroke-linecap:butt;stroke-linejoin:miter;stroke-opacity:1\"/>\n",
       "<path class=\"bond-3 atom-2 atom-4\" d=\"M 225.0,75.0 L 185.6,6.8\" style=\"fill:none;fill-rule:evenodd;stroke:#000000;stroke-width:2.0px;stroke-linecap:butt;stroke-linejoin:miter;stroke-opacity:1\"/>\n",
       "<path class=\"bond-4 atom-4 atom-5\" d=\"M 185.6,6.8 L 106.9,6.8\" style=\"fill:none;fill-rule:evenodd;stroke:#000000;stroke-width:2.0px;stroke-linecap:butt;stroke-linejoin:miter;stroke-opacity:1\"/>\n",
       "</svg>"
      ],
      "text/plain": [
       "<IPython.core.display.SVG object>"
      ]
     },
     "execution_count": 61,
     "metadata": {},
     "output_type": "execute_result"
    }
   ],
   "source": [
    "render_svg(moltosvg(Chem.MolFromSmiles(\"CCC(C)CC\")))"
   ]
  },
  {
   "cell_type": "code",
   "execution_count": 62,
   "id": "ea17838b",
   "metadata": {},
   "outputs": [
    {
     "data": {
      "image/svg+xml": [
       "<svg xmlns=\"http://www.w3.org/2000/svg\" xmlns:rdkit=\"http://www.rdkit.org/xml\" xmlns:xlink=\"http://www.w3.org/1999/xlink\" version=\"1.1\" baseProfile=\"full\" xml:space=\"preserve\" width=\"450px\" height=\"150px\" viewBox=\"0 0 450 150\">\n",
       "<!-- END OF HEADER -->\n",
       "<rect style=\"opacity:1.0;fill:#FFFFFF;stroke:none\" width=\"450.0\" height=\"150.0\" x=\"0.0\" y=\"0.0\"> </rect>\n",
       "<path class=\"bond-0 atom-0 atom-1\" d=\"M 37.5,38.8 L 206.0,38.8\" style=\"fill:none;fill-rule:evenodd;stroke:#000000;stroke-width:2.0px;stroke-linecap:butt;stroke-linejoin:miter;stroke-opacity:1\"/>\n",
       "<path class=\"bond-0 atom-0 atom-1\" d=\"M 206.0,38.8 L 374.6,38.8\" style=\"fill:none;fill-rule:evenodd;stroke:#FF0000;stroke-width:2.0px;stroke-linecap:butt;stroke-linejoin:miter;stroke-opacity:1\"/>\n",
       "<path class=\"bond-0 atom-0 atom-1\" d=\"M 37.5,111.2 L 206.0,111.2\" style=\"fill:none;fill-rule:evenodd;stroke:#000000;stroke-width:2.0px;stroke-linecap:butt;stroke-linejoin:miter;stroke-opacity:1\"/>\n",
       "<path class=\"bond-0 atom-0 atom-1\" d=\"M 206.0,111.2 L 374.6,111.2\" style=\"fill:none;fill-rule:evenodd;stroke:#FF0000;stroke-width:2.0px;stroke-linecap:butt;stroke-linejoin:miter;stroke-opacity:1\"/>\n",
       "<path class=\"atom-1\" d=\"M 386.5 75.1 Q 386.5 68.3, 389.9 64.5 Q 393.2 60.7, 399.5 60.7 Q 405.8 60.7, 409.2 64.5 Q 412.5 68.3, 412.5 75.1 Q 412.5 82.0, 409.1 85.9 Q 405.7 89.8, 399.5 89.8 Q 393.3 89.8, 389.9 85.9 Q 386.5 82.0, 386.5 75.1 M 399.5 86.6 Q 403.8 86.6, 406.2 83.7 Q 408.5 80.8, 408.5 75.1 Q 408.5 69.5, 406.2 66.7 Q 403.8 63.9, 399.5 63.9 Q 395.2 63.9, 392.8 66.7 Q 390.5 69.5, 390.5 75.1 Q 390.5 80.8, 392.8 83.7 Q 395.2 86.6, 399.5 86.6 \" fill=\"#FF0000\"/>\n",
       "</svg>"
      ],
      "text/plain": [
       "<IPython.core.display.SVG object>"
      ]
     },
     "execution_count": 62,
     "metadata": {},
     "output_type": "execute_result"
    }
   ],
   "source": [
    "render_svg(moltosvg(Chem.MolFromSmiles(\"C=O\")))"
   ]
  },
  {
   "cell_type": "code",
   "execution_count": 63,
   "id": "6c1aca33",
   "metadata": {},
   "outputs": [
    {
     "data": {
      "image/svg+xml": [
       "<svg xmlns=\"http://www.w3.org/2000/svg\" xmlns:rdkit=\"http://www.rdkit.org/xml\" xmlns:xlink=\"http://www.w3.org/1999/xlink\" version=\"1.1\" baseProfile=\"full\" xml:space=\"preserve\" width=\"450px\" height=\"150px\" viewBox=\"0 0 450 150\">\n",
       "<!-- END OF HEADER -->\n",
       "<rect style=\"opacity:1.0;fill:#FFFFFF;stroke:none\" width=\"450.0\" height=\"150.0\" x=\"0.0\" y=\"0.0\"> </rect>\n",
       "<path class=\"bond-0 atom-0 atom-1\" d=\"M 104.2,49.1 L 152.6,101.6\" style=\"fill:none;fill-rule:evenodd;stroke:#000000;stroke-width:2.0px;stroke-linecap:butt;stroke-linejoin:miter;stroke-opacity:1\"/>\n",
       "<path class=\"bond-0 atom-0 atom-1\" d=\"M 93.7,58.8 L 142.1,111.3\" style=\"fill:none;fill-rule:evenodd;stroke:#000000;stroke-width:2.0px;stroke-linecap:butt;stroke-linejoin:miter;stroke-opacity:1\"/>\n",
       "<path class=\"bond-1 atom-1 atom-2\" d=\"M 147.4,106.4 L 217.0,90.7\" style=\"fill:none;fill-rule:evenodd;stroke:#000000;stroke-width:2.0px;stroke-linecap:butt;stroke-linejoin:miter;stroke-opacity:1\"/>\n",
       "<path class=\"bond-2 atom-2 atom-3\" d=\"M 217.0,90.7 L 238.2,22.5\" style=\"fill:none;fill-rule:evenodd;stroke:#000000;stroke-width:2.0px;stroke-linecap:butt;stroke-linejoin:miter;stroke-opacity:1\"/>\n",
       "<path class=\"bond-2 atom-2 atom-3\" d=\"M 233.8,84.7 L 248.7,37.0\" style=\"fill:none;fill-rule:evenodd;stroke:#000000;stroke-width:2.0px;stroke-linecap:butt;stroke-linejoin:miter;stroke-opacity:1\"/>\n",
       "<path class=\"bond-3 atom-3 atom-4\" d=\"M 238.2,22.5 L 307.9,6.8\" style=\"fill:none;fill-rule:evenodd;stroke:#000000;stroke-width:2.0px;stroke-linecap:butt;stroke-linejoin:miter;stroke-opacity:1\"/>\n",
       "<path class=\"bond-4 atom-4 atom-5\" d=\"M 307.9,6.8 L 356.3,59.3\" style=\"fill:none;fill-rule:evenodd;stroke:#000000;stroke-width:2.0px;stroke-linecap:butt;stroke-linejoin:miter;stroke-opacity:1\"/>\n",
       "<path class=\"bond-4 atom-4 atom-5\" d=\"M 304.7,24.4 L 338.6,61.1\" style=\"fill:none;fill-rule:evenodd;stroke:#000000;stroke-width:2.0px;stroke-linecap:butt;stroke-linejoin:miter;stroke-opacity:1\"/>\n",
       "<path class=\"bond-5 atom-5 atom-6\" d=\"M 356.3,59.3 L 335.1,127.5\" style=\"fill:none;fill-rule:evenodd;stroke:#000000;stroke-width:2.0px;stroke-linecap:butt;stroke-linejoin:miter;stroke-opacity:1\"/>\n",
       "<path class=\"bond-6 atom-6 atom-7\" d=\"M 335.1,127.5 L 265.4,143.2\" style=\"fill:none;fill-rule:evenodd;stroke:#000000;stroke-width:2.0px;stroke-linecap:butt;stroke-linejoin:miter;stroke-opacity:1\"/>\n",
       "<path class=\"bond-6 atom-6 atom-7\" d=\"M 321.5,115.9 L 272.8,126.9\" style=\"fill:none;fill-rule:evenodd;stroke:#000000;stroke-width:2.0px;stroke-linecap:butt;stroke-linejoin:miter;stroke-opacity:1\"/>\n",
       "<path class=\"bond-7 atom-7 atom-2\" d=\"M 265.4,143.2 L 217.0,90.7\" style=\"fill:none;fill-rule:evenodd;stroke:#000000;stroke-width:2.0px;stroke-linecap:butt;stroke-linejoin:miter;stroke-opacity:1\"/>\n",
       "</svg>"
      ],
      "text/plain": [
       "<IPython.core.display.SVG object>"
      ]
     },
     "execution_count": 63,
     "metadata": {},
     "output_type": "execute_result"
    }
   ],
   "source": [
    "render_svg(moltosvg(Chem.MolFromSmiles(\"C=Cc1ccccc1\")))"
   ]
  },
  {
   "cell_type": "code",
   "execution_count": null,
   "id": "a4a31328",
   "metadata": {},
   "outputs": [],
   "source": []
  },
  {
   "cell_type": "code",
   "execution_count": null,
   "id": "9b07cdb0",
   "metadata": {},
   "outputs": [],
   "source": []
  },
  {
   "cell_type": "code",
   "execution_count": null,
   "id": "2b3200f3",
   "metadata": {},
   "outputs": [],
   "source": []
  },
  {
   "cell_type": "code",
   "execution_count": null,
   "id": "d816ff77",
   "metadata": {},
   "outputs": [],
   "source": []
  },
  {
   "cell_type": "code",
   "execution_count": null,
   "id": "fecfd20b",
   "metadata": {},
   "outputs": [],
   "source": []
  },
  {
   "cell_type": "code",
   "execution_count": null,
   "id": "f7850091",
   "metadata": {},
   "outputs": [],
   "source": []
  }
 ],
 "metadata": {
  "kernelspec": {
   "display_name": "Elwood",
   "language": "python",
   "name": "elwood"
  },
  "language_info": {
   "codemirror_mode": {
    "name": "ipython",
    "version": 3
   },
   "file_extension": ".py",
   "mimetype": "text/x-python",
   "name": "python",
   "nbconvert_exporter": "python",
   "pygments_lexer": "ipython3",
   "version": "3.9.12"
  }
 },
 "nbformat": 4,
 "nbformat_minor": 5
}
