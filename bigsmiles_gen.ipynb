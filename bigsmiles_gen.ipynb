{
 "cells": [
  {
   "cell_type": "code",
   "execution_count": 1,
   "id": "8fdabf24",
   "metadata": {},
   "outputs": [],
   "source": [
    "import numpy as np\n",
    "from rdkit import Chem\n",
    "from rdkit.Chem.Draw import IPythonConsole\n",
    "from IPython.display import SVG\n",
    "\n",
    "from rdkit.Chem import rdDepictor\n",
    "from rdkit.Chem.Draw import rdMolDraw2D\n",
    "counter=0\n",
    "def moltosvg(mol,molSize=(450,150),kekulize=True):\n",
    "    mc = Chem.Mol(mol.ToBinary())\n",
    "    if kekulize:\n",
    "        try:\n",
    "            Chem.Kekulize(mc)\n",
    "        except:\n",
    "            mc = Chem.Mol(mol.ToBinary())\n",
    "    if not mc.GetNumConformers():\n",
    "        rdDepictor.Compute2DCoords(mc)\n",
    "    drawer = rdMolDraw2D.MolDraw2DSVG(molSize[0],molSize[1])\n",
    "    drawer.DrawMolecule(mc)\n",
    "    drawer.FinishDrawing()\n",
    "    svg = drawer.GetDrawingText()\n",
    "    global counter\n",
    "    with open(f\"mol{counter}.svg\", \"w\") as filehandle:\n",
    "        filehandle.write(svg)\n",
    "    print(counter)\n",
    "    counter += 1\n",
    "    return svg\n",
    "def render_svg(svg):\n",
    "    # It seems that the svg renderer used doesn't quite hit the spec.\n",
    "    # Here are some fixes to make it work in the notebook, although I think\n",
    "    # the underlying issue needs to be resolved at the generation step\n",
    "    return SVG(svg.replace('svg:',''))"
   ]
  },
  {
   "cell_type": "markdown",
   "id": "c9c47332",
   "metadata": {},
   "source": [
    "#### Helper function to generate and visualize bigSMILES strings"
   ]
  },
  {
   "cell_type": "code",
   "execution_count": 2,
   "id": "d34df229",
   "metadata": {},
   "outputs": [],
   "source": [
    "from bigsmiles_gen import System\n",
    "def big_smiles_gen(string, plot_id=0):\n",
    "    # Consistent random numbers also across calls\n",
    "    rng = np.random.default_rng(42)\n",
    "    # Generate the abstract python object, parsing bigSMILES\n",
    "    ext = System(big)\n",
    "    # Generate molecules according to extension\n",
    "    mols = ext.generate(rng=rng)\n",
    "    # Draw said molecule\n",
    "    return render_svg(moltosvg(mols[plot_id].get_mol()))"
   ]
  },
  {
   "cell_type": "markdown",
   "id": "a0269eff",
   "metadata": {},
   "source": [
    "# Polyesters \n",
    "## Di-Carboxyl Acids with 2-5 middle C total Mw 500\n",
    "\n",
    "BigSMILES:"
   ]
  },
  {
   "cell_type": "code",
   "execution_count": 3,
   "id": "51c788ab",
   "metadata": {},
   "outputs": [
    {
     "data": {
      "text/plain": [
       "'OOC{[$][$]C[$][$]}|uniform(120, 720)|COO.|500|'"
      ]
     },
     "execution_count": 3,
     "metadata": {},
     "output_type": "execute_result"
    }
   ],
   "source": [
    "big = \"OOC{[$][$]C[$][$]}|uniform(120, 720)|COO.|500|\"\n",
    "big"
   ]
  },
  {
   "cell_type": "markdown",
   "id": "f5bbde03",
   "metadata": {},
   "source": [
    "### Explanation\n",
    "\n",
    "- `OOC` just normal SMILES for how the first initial group looks like\n",
    "- `{....}` stochastic object, here just one carbon that is repeated\n",
    "- `{[$]` and `[$]}` terminal descriptors, how does the stochastic object connect with the pre- and suffix\n",
    "- `[$]C[$]` one C to repeat, with a bond in front and one at the end\n",
    "- `|uniform(12, 72)|` extension detailing that the stochastic object is between 12 and 72 g/mol heavy\n",
    "- `COO` suffix of the molecule\n",
    "- `.|500|` extension detailing that the total system component of this as a min Mw of 500 g/mol\n"
   ]
  },
  {
   "cell_type": "code",
   "execution_count": 4,
   "id": "4e74171e",
   "metadata": {},
   "outputs": [
    {
     "name": "stdout",
     "output_type": "stream",
     "text": [
      "0\n"
     ]
    },
    {
     "data": {
      "image/svg+xml": [
       "<svg xmlns=\"http://www.w3.org/2000/svg\" xmlns:rdkit=\"http://www.rdkit.org/xml\" xmlns:xlink=\"http://www.w3.org/1999/xlink\" version=\"1.1\" baseProfile=\"full\" xml:space=\"preserve\" width=\"450px\" height=\"150px\" viewBox=\"0 0 450 150\">\n",
       "<!-- END OF HEADER -->\n",
       "<rect style=\"opacity:1.0;fill:#FFFFFF;stroke:none\" width=\"450.0\" height=\"150.0\" x=\"0.0\" y=\"0.0\"> </rect>\n",
       "<path class=\"bond-0 atom-0 atom-1\" d=\"M 32.9,78.5 L 45.1,71.4\" style=\"fill:none;fill-rule:evenodd;stroke:#FF0000;stroke-width:2.0px;stroke-linecap:butt;stroke-linejoin:miter;stroke-opacity:1\"/>\n",
       "<path class=\"bond-1 atom-1 atom-2\" d=\"M 52.5,71.4 L 60.4,76.0\" style=\"fill:none;fill-rule:evenodd;stroke:#FF0000;stroke-width:2.0px;stroke-linecap:butt;stroke-linejoin:miter;stroke-opacity:1\"/>\n",
       "<path class=\"bond-1 atom-1 atom-2\" d=\"M 60.4,76.0 L 68.4,80.6\" style=\"fill:none;fill-rule:evenodd;stroke:#000000;stroke-width:2.0px;stroke-linecap:butt;stroke-linejoin:miter;stroke-opacity:1\"/>\n",
       "<path class=\"bond-2 atom-2 atom-3\" d=\"M 68.4,80.6 L 88.0,69.3\" style=\"fill:none;fill-rule:evenodd;stroke:#000000;stroke-width:2.0px;stroke-linecap:butt;stroke-linejoin:miter;stroke-opacity:1\"/>\n",
       "<path class=\"bond-3 atom-3 atom-4\" d=\"M 88.0,69.3 L 107.6,80.6\" style=\"fill:none;fill-rule:evenodd;stroke:#000000;stroke-width:2.0px;stroke-linecap:butt;stroke-linejoin:miter;stroke-opacity:1\"/>\n",
       "<path class=\"bond-4 atom-4 atom-5\" d=\"M 107.6,80.6 L 127.2,69.3\" style=\"fill:none;fill-rule:evenodd;stroke:#000000;stroke-width:2.0px;stroke-linecap:butt;stroke-linejoin:miter;stroke-opacity:1\"/>\n",
       "<path class=\"bond-5 atom-5 atom-6\" d=\"M 127.2,69.3 L 146.8,80.6\" style=\"fill:none;fill-rule:evenodd;stroke:#000000;stroke-width:2.0px;stroke-linecap:butt;stroke-linejoin:miter;stroke-opacity:1\"/>\n",
       "<path class=\"bond-6 atom-6 atom-7\" d=\"M 146.8,80.6 L 166.4,69.3\" style=\"fill:none;fill-rule:evenodd;stroke:#000000;stroke-width:2.0px;stroke-linecap:butt;stroke-linejoin:miter;stroke-opacity:1\"/>\n",
       "<path class=\"bond-7 atom-7 atom-8\" d=\"M 166.4,69.3 L 186.0,80.6\" style=\"fill:none;fill-rule:evenodd;stroke:#000000;stroke-width:2.0px;stroke-linecap:butt;stroke-linejoin:miter;stroke-opacity:1\"/>\n",
       "<path class=\"bond-8 atom-8 atom-9\" d=\"M 186.0,80.6 L 205.6,69.3\" style=\"fill:none;fill-rule:evenodd;stroke:#000000;stroke-width:2.0px;stroke-linecap:butt;stroke-linejoin:miter;stroke-opacity:1\"/>\n",
       "<path class=\"bond-9 atom-9 atom-10\" d=\"M 205.6,69.3 L 225.2,80.6\" style=\"fill:none;fill-rule:evenodd;stroke:#000000;stroke-width:2.0px;stroke-linecap:butt;stroke-linejoin:miter;stroke-opacity:1\"/>\n",
       "<path class=\"bond-10 atom-10 atom-11\" d=\"M 225.2,80.6 L 244.8,69.3\" style=\"fill:none;fill-rule:evenodd;stroke:#000000;stroke-width:2.0px;stroke-linecap:butt;stroke-linejoin:miter;stroke-opacity:1\"/>\n",
       "<path class=\"bond-11 atom-11 atom-12\" d=\"M 244.8,69.3 L 264.4,80.6\" style=\"fill:none;fill-rule:evenodd;stroke:#000000;stroke-width:2.0px;stroke-linecap:butt;stroke-linejoin:miter;stroke-opacity:1\"/>\n",
       "<path class=\"bond-12 atom-12 atom-13\" d=\"M 264.4,80.6 L 284.0,69.3\" style=\"fill:none;fill-rule:evenodd;stroke:#000000;stroke-width:2.0px;stroke-linecap:butt;stroke-linejoin:miter;stroke-opacity:1\"/>\n",
       "<path class=\"bond-13 atom-13 atom-14\" d=\"M 284.0,69.3 L 303.5,80.6\" style=\"fill:none;fill-rule:evenodd;stroke:#000000;stroke-width:2.0px;stroke-linecap:butt;stroke-linejoin:miter;stroke-opacity:1\"/>\n",
       "<path class=\"bond-14 atom-14 atom-15\" d=\"M 303.5,80.6 L 323.1,69.3\" style=\"fill:none;fill-rule:evenodd;stroke:#000000;stroke-width:2.0px;stroke-linecap:butt;stroke-linejoin:miter;stroke-opacity:1\"/>\n",
       "<path class=\"bond-15 atom-15 atom-16\" d=\"M 323.1,69.3 L 342.7,80.6\" style=\"fill:none;fill-rule:evenodd;stroke:#000000;stroke-width:2.0px;stroke-linecap:butt;stroke-linejoin:miter;stroke-opacity:1\"/>\n",
       "<path class=\"bond-16 atom-16 atom-17\" d=\"M 342.7,80.6 L 362.3,69.3\" style=\"fill:none;fill-rule:evenodd;stroke:#000000;stroke-width:2.0px;stroke-linecap:butt;stroke-linejoin:miter;stroke-opacity:1\"/>\n",
       "<path class=\"bond-17 atom-18 atom-19\" d=\"M 381.9,80.6 L 389.9,76.0\" style=\"fill:none;fill-rule:evenodd;stroke:#000000;stroke-width:2.0px;stroke-linecap:butt;stroke-linejoin:miter;stroke-opacity:1\"/>\n",
       "<path class=\"bond-17 atom-18 atom-19\" d=\"M 389.9,76.0 L 397.8,71.4\" style=\"fill:none;fill-rule:evenodd;stroke:#FF0000;stroke-width:2.0px;stroke-linecap:butt;stroke-linejoin:miter;stroke-opacity:1\"/>\n",
       "<path class=\"bond-18 atom-19 atom-20\" d=\"M 405.2,71.4 L 417.4,78.5\" style=\"fill:none;fill-rule:evenodd;stroke:#FF0000;stroke-width:2.0px;stroke-linecap:butt;stroke-linejoin:miter;stroke-opacity:1\"/>\n",
       "<path class=\"bond-19 atom-17 atom-18\" d=\"M 362.3,69.3 L 381.9,80.6\" style=\"fill:none;fill-rule:evenodd;stroke:#000000;stroke-width:2.0px;stroke-linecap:butt;stroke-linejoin:miter;stroke-opacity:1\"/>\n",
       "<path class=\"atom-0\" d=\"M 20.5 77.4 L 21.3 77.4 L 21.3 80.2 L 24.6 80.2 L 24.6 77.4 L 25.5 77.4 L 25.5 83.8 L 24.6 83.8 L 24.6 80.9 L 21.3 80.9 L 21.3 83.8 L 20.5 83.8 L 20.5 77.4 \" fill=\"#FF0000\"/>\n",
       "<path class=\"atom-0\" d=\"M 26.2 80.6 Q 26.2 79.1, 27.0 78.2 Q 27.8 77.4, 29.2 77.4 Q 30.6 77.4, 31.4 78.2 Q 32.1 79.1, 32.1 80.6 Q 32.1 82.2, 31.4 83.1 Q 30.6 83.9, 29.2 83.9 Q 27.8 83.9, 27.0 83.1 Q 26.2 82.2, 26.2 80.6 M 29.2 83.2 Q 30.2 83.2, 30.7 82.6 Q 31.2 81.9, 31.2 80.6 Q 31.2 79.4, 30.7 78.7 Q 30.2 78.1, 29.2 78.1 Q 28.2 78.1, 27.7 78.7 Q 27.1 79.4, 27.1 80.6 Q 27.1 81.9, 27.7 82.6 Q 28.2 83.2, 29.2 83.2 \" fill=\"#FF0000\"/>\n",
       "<path class=\"atom-1\" d=\"M 45.8 69.3 Q 45.8 67.8, 46.6 66.9 Q 47.4 66.1, 48.8 66.1 Q 50.2 66.1, 51.0 66.9 Q 51.7 67.8, 51.7 69.3 Q 51.7 70.9, 51.0 71.8 Q 50.2 72.6, 48.8 72.6 Q 47.4 72.6, 46.6 71.8 Q 45.8 70.9, 45.8 69.3 M 48.8 71.9 Q 49.8 71.9, 50.3 71.3 Q 50.8 70.6, 50.8 69.3 Q 50.8 68.1, 50.3 67.4 Q 49.8 66.8, 48.8 66.8 Q 47.8 66.8, 47.3 67.4 Q 46.7 68.0, 46.7 69.3 Q 46.7 70.6, 47.3 71.3 Q 47.8 71.9, 48.8 71.9 \" fill=\"#FF0000\"/>\n",
       "<path class=\"atom-19\" d=\"M 398.6 69.3 Q 398.6 67.8, 399.4 66.9 Q 400.1 66.1, 401.5 66.1 Q 403.0 66.1, 403.7 66.9 Q 404.5 67.8, 404.5 69.3 Q 404.5 70.9, 403.7 71.8 Q 402.9 72.6, 401.5 72.6 Q 400.1 72.6, 399.4 71.8 Q 398.6 70.9, 398.6 69.3 M 401.5 71.9 Q 402.5 71.9, 403.0 71.3 Q 403.6 70.6, 403.6 69.3 Q 403.6 68.1, 403.0 67.4 Q 402.5 66.8, 401.5 66.8 Q 400.6 66.8, 400.0 67.4 Q 399.5 68.0, 399.5 69.3 Q 399.5 70.6, 400.0 71.3 Q 400.6 71.9, 401.5 71.9 \" fill=\"#FF0000\"/>\n",
       "<path class=\"atom-20\" d=\"M 418.2 80.6 Q 418.2 79.1, 419.0 78.2 Q 419.7 77.4, 421.1 77.4 Q 422.6 77.4, 423.3 78.2 Q 424.1 79.1, 424.1 80.6 Q 424.1 82.2, 423.3 83.1 Q 422.5 83.9, 421.1 83.9 Q 419.7 83.9, 419.0 83.1 Q 418.2 82.2, 418.2 80.6 M 421.1 83.2 Q 422.1 83.2, 422.6 82.6 Q 423.2 81.9, 423.2 80.6 Q 423.2 79.4, 422.6 78.7 Q 422.1 78.1, 421.1 78.1 Q 420.2 78.1, 419.6 78.7 Q 419.1 79.4, 419.1 80.6 Q 419.1 81.9, 419.6 82.6 Q 420.2 83.2, 421.1 83.2 \" fill=\"#FF0000\"/>\n",
       "<path class=\"atom-20\" d=\"M 424.5 77.4 L 425.4 77.4 L 425.4 80.2 L 428.7 80.2 L 428.7 77.4 L 429.5 77.4 L 429.5 83.8 L 428.7 83.8 L 428.7 80.9 L 425.4 80.9 L 425.4 83.8 L 424.5 83.8 L 424.5 77.4 \" fill=\"#FF0000\"/>\n",
       "</svg>"
      ],
      "text/plain": [
       "<IPython.core.display.SVG object>"
      ]
     },
     "execution_count": 4,
     "metadata": {},
     "output_type": "execute_result"
    }
   ],
   "source": [
    "# Plot the first generated molecule\n",
    "big_smiles_gen(big)"
   ]
  },
  {
   "cell_type": "code",
   "execution_count": 5,
   "id": "b8e23fbd",
   "metadata": {},
   "outputs": [
    {
     "name": "stdout",
     "output_type": "stream",
     "text": [
      "1\n"
     ]
    },
    {
     "data": {
      "image/svg+xml": [
       "<svg xmlns=\"http://www.w3.org/2000/svg\" xmlns:rdkit=\"http://www.rdkit.org/xml\" xmlns:xlink=\"http://www.w3.org/1999/xlink\" version=\"1.1\" baseProfile=\"full\" xml:space=\"preserve\" width=\"450px\" height=\"150px\" viewBox=\"0 0 450 150\">\n",
       "<!-- END OF HEADER -->\n",
       "<rect style=\"opacity:1.0;fill:#FFFFFF;stroke:none\" width=\"450.0\" height=\"150.0\" x=\"0.0\" y=\"0.0\"> </rect>\n",
       "<path class=\"bond-0 atom-0 atom-1\" d=\"M 26.1,75.8 L 29.0,74.1\" style=\"fill:none;fill-rule:evenodd;stroke:#FF0000;stroke-width:2.0px;stroke-linecap:butt;stroke-linejoin:miter;stroke-opacity:1\"/>\n",
       "<path class=\"bond-1 atom-1 atom-2\" d=\"M 33.5,74.1 L 36.1,75.6\" style=\"fill:none;fill-rule:evenodd;stroke:#FF0000;stroke-width:2.0px;stroke-linecap:butt;stroke-linejoin:miter;stroke-opacity:1\"/>\n",
       "<path class=\"bond-1 atom-1 atom-2\" d=\"M 36.1,75.6 L 38.7,77.1\" style=\"fill:none;fill-rule:evenodd;stroke:#000000;stroke-width:2.0px;stroke-linecap:butt;stroke-linejoin:miter;stroke-opacity:1\"/>\n",
       "<path class=\"bond-2 atom-2 atom-3\" d=\"M 38.7,77.1 L 46.2,72.8\" style=\"fill:none;fill-rule:evenodd;stroke:#000000;stroke-width:2.0px;stroke-linecap:butt;stroke-linejoin:miter;stroke-opacity:1\"/>\n",
       "<path class=\"bond-3 atom-3 atom-4\" d=\"M 46.2,72.8 L 53.6,77.1\" style=\"fill:none;fill-rule:evenodd;stroke:#000000;stroke-width:2.0px;stroke-linecap:butt;stroke-linejoin:miter;stroke-opacity:1\"/>\n",
       "<path class=\"bond-4 atom-4 atom-5\" d=\"M 53.6,77.1 L 61.1,72.8\" style=\"fill:none;fill-rule:evenodd;stroke:#000000;stroke-width:2.0px;stroke-linecap:butt;stroke-linejoin:miter;stroke-opacity:1\"/>\n",
       "<path class=\"bond-5 atom-5 atom-6\" d=\"M 61.1,72.8 L 68.5,77.1\" style=\"fill:none;fill-rule:evenodd;stroke:#000000;stroke-width:2.0px;stroke-linecap:butt;stroke-linejoin:miter;stroke-opacity:1\"/>\n",
       "<path class=\"bond-6 atom-6 atom-7\" d=\"M 68.5,77.1 L 76.0,72.8\" style=\"fill:none;fill-rule:evenodd;stroke:#000000;stroke-width:2.0px;stroke-linecap:butt;stroke-linejoin:miter;stroke-opacity:1\"/>\n",
       "<path class=\"bond-7 atom-7 atom-8\" d=\"M 76.0,72.8 L 83.5,77.1\" style=\"fill:none;fill-rule:evenodd;stroke:#000000;stroke-width:2.0px;stroke-linecap:butt;stroke-linejoin:miter;stroke-opacity:1\"/>\n",
       "<path class=\"bond-8 atom-8 atom-9\" d=\"M 83.5,77.1 L 90.9,72.8\" style=\"fill:none;fill-rule:evenodd;stroke:#000000;stroke-width:2.0px;stroke-linecap:butt;stroke-linejoin:miter;stroke-opacity:1\"/>\n",
       "<path class=\"bond-9 atom-9 atom-10\" d=\"M 90.9,72.8 L 98.4,77.1\" style=\"fill:none;fill-rule:evenodd;stroke:#000000;stroke-width:2.0px;stroke-linecap:butt;stroke-linejoin:miter;stroke-opacity:1\"/>\n",
       "<path class=\"bond-10 atom-10 atom-11\" d=\"M 98.4,77.1 L 105.8,72.8\" style=\"fill:none;fill-rule:evenodd;stroke:#000000;stroke-width:2.0px;stroke-linecap:butt;stroke-linejoin:miter;stroke-opacity:1\"/>\n",
       "<path class=\"bond-11 atom-11 atom-12\" d=\"M 105.8,72.8 L 113.3,77.1\" style=\"fill:none;fill-rule:evenodd;stroke:#000000;stroke-width:2.0px;stroke-linecap:butt;stroke-linejoin:miter;stroke-opacity:1\"/>\n",
       "<path class=\"bond-12 atom-12 atom-13\" d=\"M 113.3,77.1 L 120.7,72.8\" style=\"fill:none;fill-rule:evenodd;stroke:#000000;stroke-width:2.0px;stroke-linecap:butt;stroke-linejoin:miter;stroke-opacity:1\"/>\n",
       "<path class=\"bond-13 atom-13 atom-14\" d=\"M 120.7,72.8 L 128.2,77.1\" style=\"fill:none;fill-rule:evenodd;stroke:#000000;stroke-width:2.0px;stroke-linecap:butt;stroke-linejoin:miter;stroke-opacity:1\"/>\n",
       "<path class=\"bond-14 atom-14 atom-15\" d=\"M 128.2,77.1 L 135.6,72.8\" style=\"fill:none;fill-rule:evenodd;stroke:#000000;stroke-width:2.0px;stroke-linecap:butt;stroke-linejoin:miter;stroke-opacity:1\"/>\n",
       "<path class=\"bond-15 atom-15 atom-16\" d=\"M 135.6,72.8 L 143.1,77.1\" style=\"fill:none;fill-rule:evenodd;stroke:#000000;stroke-width:2.0px;stroke-linecap:butt;stroke-linejoin:miter;stroke-opacity:1\"/>\n",
       "<path class=\"bond-16 atom-16 atom-17\" d=\"M 143.1,77.1 L 150.6,72.8\" style=\"fill:none;fill-rule:evenodd;stroke:#000000;stroke-width:2.0px;stroke-linecap:butt;stroke-linejoin:miter;stroke-opacity:1\"/>\n",
       "<path class=\"bond-17 atom-17 atom-18\" d=\"M 150.6,72.8 L 158.0,77.1\" style=\"fill:none;fill-rule:evenodd;stroke:#000000;stroke-width:2.0px;stroke-linecap:butt;stroke-linejoin:miter;stroke-opacity:1\"/>\n",
       "<path class=\"bond-18 atom-18 atom-19\" d=\"M 158.0,77.1 L 165.5,72.8\" style=\"fill:none;fill-rule:evenodd;stroke:#000000;stroke-width:2.0px;stroke-linecap:butt;stroke-linejoin:miter;stroke-opacity:1\"/>\n",
       "<path class=\"bond-19 atom-19 atom-20\" d=\"M 165.5,72.8 L 172.9,77.1\" style=\"fill:none;fill-rule:evenodd;stroke:#000000;stroke-width:2.0px;stroke-linecap:butt;stroke-linejoin:miter;stroke-opacity:1\"/>\n",
       "<path class=\"bond-20 atom-20 atom-21\" d=\"M 172.9,77.1 L 180.4,72.8\" style=\"fill:none;fill-rule:evenodd;stroke:#000000;stroke-width:2.0px;stroke-linecap:butt;stroke-linejoin:miter;stroke-opacity:1\"/>\n",
       "<path class=\"bond-21 atom-21 atom-22\" d=\"M 180.4,72.8 L 187.8,77.1\" style=\"fill:none;fill-rule:evenodd;stroke:#000000;stroke-width:2.0px;stroke-linecap:butt;stroke-linejoin:miter;stroke-opacity:1\"/>\n",
       "<path class=\"bond-22 atom-22 atom-23\" d=\"M 187.8,77.1 L 195.3,72.8\" style=\"fill:none;fill-rule:evenodd;stroke:#000000;stroke-width:2.0px;stroke-linecap:butt;stroke-linejoin:miter;stroke-opacity:1\"/>\n",
       "<path class=\"bond-23 atom-23 atom-24\" d=\"M 195.3,72.8 L 202.7,77.1\" style=\"fill:none;fill-rule:evenodd;stroke:#000000;stroke-width:2.0px;stroke-linecap:butt;stroke-linejoin:miter;stroke-opacity:1\"/>\n",
       "<path class=\"bond-24 atom-24 atom-25\" d=\"M 202.7,77.1 L 210.2,72.8\" style=\"fill:none;fill-rule:evenodd;stroke:#000000;stroke-width:2.0px;stroke-linecap:butt;stroke-linejoin:miter;stroke-opacity:1\"/>\n",
       "<path class=\"bond-25 atom-25 atom-26\" d=\"M 210.2,72.8 L 217.6,77.1\" style=\"fill:none;fill-rule:evenodd;stroke:#000000;stroke-width:2.0px;stroke-linecap:butt;stroke-linejoin:miter;stroke-opacity:1\"/>\n",
       "<path class=\"bond-26 atom-26 atom-27\" d=\"M 217.6,77.1 L 225.1,72.8\" style=\"fill:none;fill-rule:evenodd;stroke:#000000;stroke-width:2.0px;stroke-linecap:butt;stroke-linejoin:miter;stroke-opacity:1\"/>\n",
       "<path class=\"bond-27 atom-27 atom-28\" d=\"M 225.1,72.8 L 232.6,77.1\" style=\"fill:none;fill-rule:evenodd;stroke:#000000;stroke-width:2.0px;stroke-linecap:butt;stroke-linejoin:miter;stroke-opacity:1\"/>\n",
       "<path class=\"bond-28 atom-28 atom-29\" d=\"M 232.6,77.1 L 240.0,72.8\" style=\"fill:none;fill-rule:evenodd;stroke:#000000;stroke-width:2.0px;stroke-linecap:butt;stroke-linejoin:miter;stroke-opacity:1\"/>\n",
       "<path class=\"bond-29 atom-29 atom-30\" d=\"M 240.0,72.8 L 247.5,77.1\" style=\"fill:none;fill-rule:evenodd;stroke:#000000;stroke-width:2.0px;stroke-linecap:butt;stroke-linejoin:miter;stroke-opacity:1\"/>\n",
       "<path class=\"bond-30 atom-30 atom-31\" d=\"M 247.5,77.1 L 254.9,72.8\" style=\"fill:none;fill-rule:evenodd;stroke:#000000;stroke-width:2.0px;stroke-linecap:butt;stroke-linejoin:miter;stroke-opacity:1\"/>\n",
       "<path class=\"bond-31 atom-31 atom-32\" d=\"M 254.9,72.8 L 262.4,77.1\" style=\"fill:none;fill-rule:evenodd;stroke:#000000;stroke-width:2.0px;stroke-linecap:butt;stroke-linejoin:miter;stroke-opacity:1\"/>\n",
       "<path class=\"bond-32 atom-32 atom-33\" d=\"M 262.4,77.1 L 269.8,72.8\" style=\"fill:none;fill-rule:evenodd;stroke:#000000;stroke-width:2.0px;stroke-linecap:butt;stroke-linejoin:miter;stroke-opacity:1\"/>\n",
       "<path class=\"bond-33 atom-33 atom-34\" d=\"M 269.8,72.8 L 277.3,77.1\" style=\"fill:none;fill-rule:evenodd;stroke:#000000;stroke-width:2.0px;stroke-linecap:butt;stroke-linejoin:miter;stroke-opacity:1\"/>\n",
       "<path class=\"bond-34 atom-34 atom-35\" d=\"M 277.3,77.1 L 284.7,72.8\" style=\"fill:none;fill-rule:evenodd;stroke:#000000;stroke-width:2.0px;stroke-linecap:butt;stroke-linejoin:miter;stroke-opacity:1\"/>\n",
       "<path class=\"bond-35 atom-35 atom-36\" d=\"M 284.7,72.8 L 292.2,77.1\" style=\"fill:none;fill-rule:evenodd;stroke:#000000;stroke-width:2.0px;stroke-linecap:butt;stroke-linejoin:miter;stroke-opacity:1\"/>\n",
       "<path class=\"bond-36 atom-36 atom-37\" d=\"M 292.2,77.1 L 299.7,72.8\" style=\"fill:none;fill-rule:evenodd;stroke:#000000;stroke-width:2.0px;stroke-linecap:butt;stroke-linejoin:miter;stroke-opacity:1\"/>\n",
       "<path class=\"bond-37 atom-37 atom-38\" d=\"M 299.7,72.8 L 307.1,77.1\" style=\"fill:none;fill-rule:evenodd;stroke:#000000;stroke-width:2.0px;stroke-linecap:butt;stroke-linejoin:miter;stroke-opacity:1\"/>\n",
       "<path class=\"bond-38 atom-38 atom-39\" d=\"M 307.1,77.1 L 314.6,72.8\" style=\"fill:none;fill-rule:evenodd;stroke:#000000;stroke-width:2.0px;stroke-linecap:butt;stroke-linejoin:miter;stroke-opacity:1\"/>\n",
       "<path class=\"bond-39 atom-39 atom-40\" d=\"M 314.6,72.8 L 322.0,77.1\" style=\"fill:none;fill-rule:evenodd;stroke:#000000;stroke-width:2.0px;stroke-linecap:butt;stroke-linejoin:miter;stroke-opacity:1\"/>\n",
       "<path class=\"bond-40 atom-40 atom-41\" d=\"M 322.0,77.1 L 329.5,72.8\" style=\"fill:none;fill-rule:evenodd;stroke:#000000;stroke-width:2.0px;stroke-linecap:butt;stroke-linejoin:miter;stroke-opacity:1\"/>\n",
       "<path class=\"bond-41 atom-41 atom-42\" d=\"M 329.5,72.8 L 336.9,77.1\" style=\"fill:none;fill-rule:evenodd;stroke:#000000;stroke-width:2.0px;stroke-linecap:butt;stroke-linejoin:miter;stroke-opacity:1\"/>\n",
       "<path class=\"bond-42 atom-42 atom-43\" d=\"M 336.9,77.1 L 344.4,72.8\" style=\"fill:none;fill-rule:evenodd;stroke:#000000;stroke-width:2.0px;stroke-linecap:butt;stroke-linejoin:miter;stroke-opacity:1\"/>\n",
       "<path class=\"bond-43 atom-43 atom-44\" d=\"M 344.4,72.8 L 351.8,77.1\" style=\"fill:none;fill-rule:evenodd;stroke:#000000;stroke-width:2.0px;stroke-linecap:butt;stroke-linejoin:miter;stroke-opacity:1\"/>\n",
       "<path class=\"bond-44 atom-44 atom-45\" d=\"M 351.8,77.1 L 359.3,72.8\" style=\"fill:none;fill-rule:evenodd;stroke:#000000;stroke-width:2.0px;stroke-linecap:butt;stroke-linejoin:miter;stroke-opacity:1\"/>\n",
       "<path class=\"bond-45 atom-45 atom-46\" d=\"M 359.3,72.8 L 366.8,77.1\" style=\"fill:none;fill-rule:evenodd;stroke:#000000;stroke-width:2.0px;stroke-linecap:butt;stroke-linejoin:miter;stroke-opacity:1\"/>\n",
       "<path class=\"bond-46 atom-46 atom-47\" d=\"M 366.8,77.1 L 374.2,72.8\" style=\"fill:none;fill-rule:evenodd;stroke:#000000;stroke-width:2.0px;stroke-linecap:butt;stroke-linejoin:miter;stroke-opacity:1\"/>\n",
       "<path class=\"bond-47 atom-47 atom-48\" d=\"M 374.2,72.8 L 381.7,77.1\" style=\"fill:none;fill-rule:evenodd;stroke:#000000;stroke-width:2.0px;stroke-linecap:butt;stroke-linejoin:miter;stroke-opacity:1\"/>\n",
       "<path class=\"bond-48 atom-48 atom-49\" d=\"M 381.7,77.1 L 389.1,72.8\" style=\"fill:none;fill-rule:evenodd;stroke:#000000;stroke-width:2.0px;stroke-linecap:butt;stroke-linejoin:miter;stroke-opacity:1\"/>\n",
       "<path class=\"bond-49 atom-49 atom-50\" d=\"M 389.1,72.8 L 396.6,77.1\" style=\"fill:none;fill-rule:evenodd;stroke:#000000;stroke-width:2.0px;stroke-linecap:butt;stroke-linejoin:miter;stroke-opacity:1\"/>\n",
       "<path class=\"bond-50 atom-50 atom-51\" d=\"M 396.6,77.1 L 404.0,72.8\" style=\"fill:none;fill-rule:evenodd;stroke:#000000;stroke-width:2.0px;stroke-linecap:butt;stroke-linejoin:miter;stroke-opacity:1\"/>\n",
       "<path class=\"bond-51 atom-52 atom-53\" d=\"M 411.5,77.1 L 414.1,75.6\" style=\"fill:none;fill-rule:evenodd;stroke:#000000;stroke-width:2.0px;stroke-linecap:butt;stroke-linejoin:miter;stroke-opacity:1\"/>\n",
       "<path class=\"bond-51 atom-52 atom-53\" d=\"M 414.1,75.6 L 416.7,74.1\" style=\"fill:none;fill-rule:evenodd;stroke:#FF0000;stroke-width:2.0px;stroke-linecap:butt;stroke-linejoin:miter;stroke-opacity:1\"/>\n",
       "<path class=\"bond-52 atom-53 atom-54\" d=\"M 421.2,74.1 L 424.2,75.8\" style=\"fill:none;fill-rule:evenodd;stroke:#FF0000;stroke-width:2.0px;stroke-linecap:butt;stroke-linejoin:miter;stroke-opacity:1\"/>\n",
       "<path class=\"bond-53 atom-51 atom-52\" d=\"M 404.0,72.8 L 411.5,77.1\" style=\"fill:none;fill-rule:evenodd;stroke:#000000;stroke-width:2.0px;stroke-linecap:butt;stroke-linejoin:miter;stroke-opacity:1\"/>\n",
       "<path class=\"atom-0\" d=\"M 18.0 75.0 L 18.6 75.0 L 18.6 76.8 L 20.8 76.8 L 20.8 75.0 L 21.4 75.0 L 21.4 79.3 L 20.8 79.3 L 20.8 77.3 L 18.6 77.3 L 18.6 79.3 L 18.0 79.3 L 18.0 75.0 \" fill=\"#FF0000\"/>\n",
       "<path class=\"atom-0\" d=\"M 21.9 77.1 Q 21.9 76.1, 22.4 75.5 Q 22.9 75.0, 23.8 75.0 Q 24.8 75.0, 25.3 75.5 Q 25.8 76.1, 25.8 77.1 Q 25.8 78.2, 25.3 78.8 Q 24.7 79.3, 23.8 79.3 Q 22.9 79.3, 22.4 78.8 Q 21.9 78.2, 21.9 77.1 M 23.8 78.9 Q 24.5 78.9, 24.8 78.4 Q 25.2 78.0, 25.2 77.1 Q 25.2 76.3, 24.8 75.9 Q 24.5 75.5, 23.8 75.5 Q 23.2 75.5, 22.8 75.9 Q 22.5 76.3, 22.5 77.1 Q 22.5 78.0, 22.8 78.4 Q 23.2 78.9, 23.8 78.9 \" fill=\"#FF0000\"/>\n",
       "<path class=\"atom-1\" d=\"M 29.3 72.8 Q 29.3 71.8, 29.8 71.2 Q 30.3 70.7, 31.3 70.7 Q 32.2 70.7, 32.7 71.2 Q 33.2 71.8, 33.2 72.8 Q 33.2 73.9, 32.7 74.4 Q 32.2 75.0, 31.3 75.0 Q 30.3 75.0, 29.8 74.4 Q 29.3 73.9, 29.3 72.8 M 31.3 74.5 Q 31.9 74.5, 32.3 74.1 Q 32.6 73.7, 32.6 72.8 Q 32.6 72.0, 32.3 71.6 Q 31.9 71.1, 31.3 71.1 Q 30.6 71.1, 30.3 71.6 Q 29.9 72.0, 29.9 72.8 Q 29.9 73.7, 30.3 74.1 Q 30.6 74.5, 31.3 74.5 \" fill=\"#FF0000\"/>\n",
       "<path class=\"atom-53\" d=\"M 417.0 72.8 Q 417.0 71.8, 417.5 71.2 Q 418.0 70.7, 418.9 70.7 Q 419.9 70.7, 420.4 71.2 Q 420.9 71.8, 420.9 72.8 Q 420.9 73.9, 420.4 74.4 Q 419.9 75.0, 418.9 75.0 Q 418.0 75.0, 417.5 74.4 Q 417.0 73.9, 417.0 72.8 M 418.9 74.5 Q 419.6 74.5, 419.9 74.1 Q 420.3 73.7, 420.3 72.8 Q 420.3 72.0, 419.9 71.6 Q 419.6 71.1, 418.9 71.1 Q 418.3 71.1, 417.9 71.6 Q 417.6 72.0, 417.6 72.8 Q 417.6 73.7, 417.9 74.1 Q 418.3 74.5, 418.9 74.5 \" fill=\"#FF0000\"/>\n",
       "<path class=\"atom-54\" d=\"M 424.4 77.1 Q 424.4 76.1, 424.9 75.5 Q 425.4 75.0, 426.4 75.0 Q 427.3 75.0, 427.8 75.5 Q 428.3 76.1, 428.3 77.1 Q 428.3 78.2, 427.8 78.8 Q 427.3 79.3, 426.4 79.3 Q 425.5 79.3, 424.9 78.8 Q 424.4 78.2, 424.4 77.1 M 426.4 78.9 Q 427.0 78.9, 427.4 78.4 Q 427.7 78.0, 427.7 77.1 Q 427.7 76.3, 427.4 75.9 Q 427.0 75.5, 426.4 75.5 Q 425.7 75.5, 425.4 75.9 Q 425.0 76.3, 425.0 77.1 Q 425.0 78.0, 425.4 78.4 Q 425.7 78.9, 426.4 78.9 \" fill=\"#FF0000\"/>\n",
       "<path class=\"atom-54\" d=\"M 428.6 75.0 L 429.2 75.0 L 429.2 76.8 L 431.4 76.8 L 431.4 75.0 L 432.0 75.0 L 432.0 79.3 L 431.4 79.3 L 431.4 77.3 L 429.2 77.3 L 429.2 79.3 L 428.6 79.3 L 428.6 75.0 \" fill=\"#FF0000\"/>\n",
       "</svg>"
      ],
      "text/plain": [
       "<IPython.core.display.SVG object>"
      ]
     },
     "execution_count": 5,
     "metadata": {},
     "output_type": "execute_result"
    }
   ],
   "source": [
    "# Generate the second generated molecule\n",
    "big_smiles_gen(big, 1)"
   ]
  },
  {
   "cell_type": "markdown",
   "id": "91d066c0",
   "metadata": {},
   "source": [
    "Notice how the repeated C are different because of the stochastic object"
   ]
  },
  {
   "cell_type": "markdown",
   "id": "8b6b0eac",
   "metadata": {},
   "source": [
    "## Di-ols with 2-5 middle C total Mw 500"
   ]
  },
  {
   "cell_type": "code",
   "execution_count": 6,
   "id": "b9f4a9d7",
   "metadata": {},
   "outputs": [
    {
     "data": {
      "text/plain": [
       "'OC{[$][$]C[$][$]}|uniform(12, 72)|CO.|500|'"
      ]
     },
     "execution_count": 6,
     "metadata": {},
     "output_type": "execute_result"
    }
   ],
   "source": [
    "big = \"OC{[$][$]C[$][$]}|uniform(12, 72)|CO.|500|\"\n",
    "big"
   ]
  },
  {
   "cell_type": "code",
   "execution_count": 7,
   "id": "3de63ce7",
   "metadata": {},
   "outputs": [
    {
     "name": "stdout",
     "output_type": "stream",
     "text": [
      "2\n"
     ]
    },
    {
     "data": {
      "image/svg+xml": [
       "<svg xmlns=\"http://www.w3.org/2000/svg\" xmlns:rdkit=\"http://www.rdkit.org/xml\" xmlns:xlink=\"http://www.w3.org/1999/xlink\" version=\"1.1\" baseProfile=\"full\" xml:space=\"preserve\" width=\"450px\" height=\"150px\" viewBox=\"0 0 450 150\">\n",
       "<!-- END OF HEADER -->\n",
       "<rect style=\"opacity:1.0;fill:#FFFFFF;stroke:none\" width=\"450.0\" height=\"150.0\" x=\"0.0\" y=\"0.0\"> </rect>\n",
       "<path class=\"bond-0 atom-0 atom-1\" d=\"M 386.7,79.5 L 357.6,64.6\" style=\"fill:none;fill-rule:evenodd;stroke:#FF0000;stroke-width:2.0px;stroke-linecap:butt;stroke-linejoin:miter;stroke-opacity:1\"/>\n",
       "<path class=\"bond-0 atom-0 atom-1\" d=\"M 357.6,64.6 L 328.5,49.7\" style=\"fill:none;fill-rule:evenodd;stroke:#000000;stroke-width:2.0px;stroke-linecap:butt;stroke-linejoin:miter;stroke-opacity:1\"/>\n",
       "<path class=\"bond-1 atom-1 atom-2\" d=\"M 328.5,49.7 L 261.2,93.2\" style=\"fill:none;fill-rule:evenodd;stroke:#000000;stroke-width:2.0px;stroke-linecap:butt;stroke-linejoin:miter;stroke-opacity:1\"/>\n",
       "<path class=\"bond-2 atom-2 atom-3\" d=\"M 261.2,93.2 L 189.9,56.8\" style=\"fill:none;fill-rule:evenodd;stroke:#000000;stroke-width:2.0px;stroke-linecap:butt;stroke-linejoin:miter;stroke-opacity:1\"/>\n",
       "<path class=\"bond-3 atom-4 atom-5\" d=\"M 122.7,100.3 L 93.5,85.4\" style=\"fill:none;fill-rule:evenodd;stroke:#000000;stroke-width:2.0px;stroke-linecap:butt;stroke-linejoin:miter;stroke-opacity:1\"/>\n",
       "<path class=\"bond-3 atom-4 atom-5\" d=\"M 93.5,85.4 L 64.4,70.5\" style=\"fill:none;fill-rule:evenodd;stroke:#FF0000;stroke-width:2.0px;stroke-linecap:butt;stroke-linejoin:miter;stroke-opacity:1\"/>\n",
       "<path class=\"bond-4 atom-3 atom-4\" d=\"M 189.9,56.8 L 122.7,100.3\" style=\"fill:none;fill-rule:evenodd;stroke:#000000;stroke-width:2.0px;stroke-linecap:butt;stroke-linejoin:miter;stroke-opacity:1\"/>\n",
       "<path class=\"atom-0\" d=\"M 389.4 86.3 Q 389.4 80.8, 392.1 77.8 Q 394.7 74.7, 399.8 74.7 Q 404.8 74.7, 407.5 77.8 Q 410.2 80.8, 410.2 86.3 Q 410.2 91.8, 407.5 94.9 Q 404.7 98.0, 399.8 98.0 Q 394.8 98.0, 392.1 94.9 Q 389.4 91.8, 389.4 86.3 M 399.8 95.5 Q 403.2 95.5, 405.1 93.2 Q 407.0 90.8, 407.0 86.3 Q 407.0 81.8, 405.1 79.6 Q 403.2 77.3, 399.8 77.3 Q 396.3 77.3, 394.4 79.5 Q 392.6 81.8, 392.6 86.3 Q 392.6 90.8, 394.4 93.2 Q 396.3 95.5, 399.8 95.5 \" fill=\"#FF0000\"/>\n",
       "<path class=\"atom-0\" d=\"M 411.8 75.0 L 414.9 75.0 L 414.9 84.6 L 426.5 84.6 L 426.5 75.0 L 429.5 75.0 L 429.5 97.7 L 426.5 97.7 L 426.5 87.2 L 414.9 87.2 L 414.9 97.7 L 411.8 97.7 L 411.8 75.0 \" fill=\"#FF0000\"/>\n",
       "<path class=\"atom-5\" d=\"M 20.5 52.6 L 23.5 52.6 L 23.5 62.2 L 35.1 62.2 L 35.1 52.6 L 38.2 52.6 L 38.2 75.3 L 35.1 75.3 L 35.1 64.8 L 23.5 64.8 L 23.5 75.3 L 20.5 75.3 L 20.5 52.6 \" fill=\"#FF0000\"/>\n",
       "<path class=\"atom-5\" d=\"M 40.9 63.9 Q 40.9 58.4, 43.6 55.4 Q 46.3 52.3, 51.3 52.3 Q 56.4 52.3, 59.1 55.4 Q 61.8 58.4, 61.8 63.9 Q 61.8 69.4, 59.0 72.5 Q 56.3 75.6, 51.3 75.6 Q 46.3 75.6, 43.6 72.5 Q 40.9 69.4, 40.9 63.9 M 51.3 73.1 Q 54.8 73.1, 56.7 70.8 Q 58.6 68.4, 58.6 63.9 Q 58.6 59.4, 56.7 57.2 Q 54.8 54.9, 51.3 54.9 Q 47.9 54.9, 46.0 57.1 Q 44.1 59.4, 44.1 63.9 Q 44.1 68.4, 46.0 70.8 Q 47.9 73.1, 51.3 73.1 \" fill=\"#FF0000\"/>\n",
       "</svg>"
      ],
      "text/plain": [
       "<IPython.core.display.SVG object>"
      ]
     },
     "execution_count": 7,
     "metadata": {},
     "output_type": "execute_result"
    }
   ],
   "source": [
    "big_smiles_gen(big)"
   ]
  },
  {
   "cell_type": "code",
   "execution_count": 8,
   "id": "d8f11aa5",
   "metadata": {},
   "outputs": [
    {
     "name": "stdout",
     "output_type": "stream",
     "text": [
      "3\n"
     ]
    },
    {
     "data": {
      "image/svg+xml": [
       "<svg xmlns=\"http://www.w3.org/2000/svg\" xmlns:rdkit=\"http://www.rdkit.org/xml\" xmlns:xlink=\"http://www.w3.org/1999/xlink\" version=\"1.1\" baseProfile=\"full\" xml:space=\"preserve\" width=\"450px\" height=\"150px\" viewBox=\"0 0 450 150\">\n",
       "<!-- END OF HEADER -->\n",
       "<rect style=\"opacity:1.0;fill:#FFFFFF;stroke:none\" width=\"450.0\" height=\"150.0\" x=\"0.0\" y=\"0.0\"> </rect>\n",
       "<path class=\"bond-0 atom-0 atom-1\" d=\"M 49.7,70.5 L 68.4,81.3\" style=\"fill:none;fill-rule:evenodd;stroke:#FF0000;stroke-width:2.0px;stroke-linecap:butt;stroke-linejoin:miter;stroke-opacity:1\"/>\n",
       "<path class=\"bond-0 atom-0 atom-1\" d=\"M 68.4,81.3 L 87.1,92.1\" style=\"fill:none;fill-rule:evenodd;stroke:#000000;stroke-width:2.0px;stroke-linecap:butt;stroke-linejoin:miter;stroke-opacity:1\"/>\n",
       "<path class=\"bond-1 atom-1 atom-2\" d=\"M 87.1,92.1 L 133.2,65.5\" style=\"fill:none;fill-rule:evenodd;stroke:#000000;stroke-width:2.0px;stroke-linecap:butt;stroke-linejoin:miter;stroke-opacity:1\"/>\n",
       "<path class=\"bond-2 atom-2 atom-3\" d=\"M 133.2,65.5 L 179.3,92.1\" style=\"fill:none;fill-rule:evenodd;stroke:#000000;stroke-width:2.0px;stroke-linecap:butt;stroke-linejoin:miter;stroke-opacity:1\"/>\n",
       "<path class=\"bond-3 atom-3 atom-4\" d=\"M 179.3,92.1 L 225.4,65.5\" style=\"fill:none;fill-rule:evenodd;stroke:#000000;stroke-width:2.0px;stroke-linecap:butt;stroke-linejoin:miter;stroke-opacity:1\"/>\n",
       "<path class=\"bond-4 atom-4 atom-5\" d=\"M 225.4,65.5 L 271.5,92.1\" style=\"fill:none;fill-rule:evenodd;stroke:#000000;stroke-width:2.0px;stroke-linecap:butt;stroke-linejoin:miter;stroke-opacity:1\"/>\n",
       "<path class=\"bond-5 atom-5 atom-6\" d=\"M 271.5,92.1 L 317.6,65.5\" style=\"fill:none;fill-rule:evenodd;stroke:#000000;stroke-width:2.0px;stroke-linecap:butt;stroke-linejoin:miter;stroke-opacity:1\"/>\n",
       "<path class=\"bond-6 atom-7 atom-8\" d=\"M 363.7,92.1 L 382.4,81.3\" style=\"fill:none;fill-rule:evenodd;stroke:#000000;stroke-width:2.0px;stroke-linecap:butt;stroke-linejoin:miter;stroke-opacity:1\"/>\n",
       "<path class=\"bond-6 atom-7 atom-8\" d=\"M 382.4,81.3 L 401.1,70.5\" style=\"fill:none;fill-rule:evenodd;stroke:#FF0000;stroke-width:2.0px;stroke-linecap:butt;stroke-linejoin:miter;stroke-opacity:1\"/>\n",
       "<path class=\"bond-7 atom-6 atom-7\" d=\"M 317.6,65.5 L 363.7,92.1\" style=\"fill:none;fill-rule:evenodd;stroke:#000000;stroke-width:2.0px;stroke-linecap:butt;stroke-linejoin:miter;stroke-opacity:1\"/>\n",
       "<path class=\"atom-0\" d=\"M 20.5 58.1 L 22.5 58.1 L 22.5 64.5 L 30.2 64.5 L 30.2 58.1 L 32.3 58.1 L 32.3 73.1 L 30.2 73.1 L 30.2 66.2 L 22.5 66.2 L 22.5 73.1 L 20.5 73.1 L 20.5 58.1 \" fill=\"#FF0000\"/>\n",
       "<path class=\"atom-0\" d=\"M 34.1 65.5 Q 34.1 61.9, 35.8 59.9 Q 37.6 57.9, 41.0 57.9 Q 44.3 57.9, 46.1 59.9 Q 47.9 61.9, 47.9 65.5 Q 47.9 69.2, 46.1 71.3 Q 44.3 73.4, 41.0 73.4 Q 37.7 73.4, 35.8 71.3 Q 34.1 69.2, 34.1 65.5 M 41.0 71.7 Q 43.3 71.7, 44.5 70.1 Q 45.8 68.6, 45.8 65.5 Q 45.8 62.6, 44.5 61.1 Q 43.3 59.6, 41.0 59.6 Q 38.7 59.6, 37.4 61.1 Q 36.2 62.6, 36.2 65.5 Q 36.2 68.6, 37.4 70.1 Q 38.7 71.7, 41.0 71.7 \" fill=\"#FF0000\"/>\n",
       "<path class=\"atom-8\" d=\"M 402.8 65.5 Q 402.8 61.9, 404.6 59.9 Q 406.4 57.9, 409.8 57.9 Q 413.1 57.9, 414.9 59.9 Q 416.7 61.9, 416.7 65.5 Q 416.7 69.2, 414.9 71.3 Q 413.1 73.4, 409.8 73.4 Q 406.4 73.4, 404.6 71.3 Q 402.8 69.2, 402.8 65.5 M 409.8 71.7 Q 412.1 71.7, 413.3 70.1 Q 414.6 68.6, 414.6 65.5 Q 414.6 62.6, 413.3 61.1 Q 412.1 59.6, 409.8 59.6 Q 407.5 59.6, 406.2 61.1 Q 405.0 62.6, 405.0 65.5 Q 405.0 68.6, 406.2 70.1 Q 407.5 71.7, 409.8 71.7 \" fill=\"#FF0000\"/>\n",
       "<path class=\"atom-8\" d=\"M 417.7 58.1 L 419.8 58.1 L 419.8 64.5 L 427.5 64.5 L 427.5 58.1 L 429.5 58.1 L 429.5 73.1 L 427.5 73.1 L 427.5 66.2 L 419.8 66.2 L 419.8 73.1 L 417.7 73.1 L 417.7 58.1 \" fill=\"#FF0000\"/>\n",
       "</svg>"
      ],
      "text/plain": [
       "<IPython.core.display.SVG object>"
      ]
     },
     "execution_count": 8,
     "metadata": {},
     "output_type": "execute_result"
    }
   ],
   "source": [
    "big_smiles_gen(big, 1)"
   ]
  },
  {
   "cell_type": "code",
   "execution_count": 9,
   "id": "2d414813",
   "metadata": {},
   "outputs": [
    {
     "name": "stdout",
     "output_type": "stream",
     "text": [
      "4\n"
     ]
    },
    {
     "data": {
      "image/svg+xml": [
       "<svg xmlns=\"http://www.w3.org/2000/svg\" xmlns:rdkit=\"http://www.rdkit.org/xml\" xmlns:xlink=\"http://www.w3.org/1999/xlink\" version=\"1.1\" baseProfile=\"full\" xml:space=\"preserve\" width=\"450px\" height=\"150px\" viewBox=\"0 0 450 150\">\n",
       "<!-- END OF HEADER -->\n",
       "<rect style=\"opacity:1.0;fill:#FFFFFF;stroke:none\" width=\"450.0\" height=\"150.0\" x=\"0.0\" y=\"0.0\"> </rect>\n",
       "<path class=\"bond-0 atom-0 atom-1\" d=\"M 58.2,69.2 L 82.3,83.2\" style=\"fill:none;fill-rule:evenodd;stroke:#FF0000;stroke-width:2.0px;stroke-linecap:butt;stroke-linejoin:miter;stroke-opacity:1\"/>\n",
       "<path class=\"bond-0 atom-0 atom-1\" d=\"M 82.3,83.2 L 106.5,97.1\" style=\"fill:none;fill-rule:evenodd;stroke:#000000;stroke-width:2.0px;stroke-linecap:butt;stroke-linejoin:miter;stroke-opacity:1\"/>\n",
       "<path class=\"bond-1 atom-1 atom-2\" d=\"M 106.5,97.1 L 166.0,62.7\" style=\"fill:none;fill-rule:evenodd;stroke:#000000;stroke-width:2.0px;stroke-linecap:butt;stroke-linejoin:miter;stroke-opacity:1\"/>\n",
       "<path class=\"bond-2 atom-2 atom-3\" d=\"M 166.0,62.7 L 225.5,97.1\" style=\"fill:none;fill-rule:evenodd;stroke:#000000;stroke-width:2.0px;stroke-linecap:butt;stroke-linejoin:miter;stroke-opacity:1\"/>\n",
       "<path class=\"bond-3 atom-3 atom-4\" d=\"M 225.5,97.1 L 285.0,62.7\" style=\"fill:none;fill-rule:evenodd;stroke:#000000;stroke-width:2.0px;stroke-linecap:butt;stroke-linejoin:miter;stroke-opacity:1\"/>\n",
       "<path class=\"bond-4 atom-5 atom-6\" d=\"M 344.5,97.1 L 368.7,83.2\" style=\"fill:none;fill-rule:evenodd;stroke:#000000;stroke-width:2.0px;stroke-linecap:butt;stroke-linejoin:miter;stroke-opacity:1\"/>\n",
       "<path class=\"bond-4 atom-5 atom-6\" d=\"M 368.7,83.2 L 392.8,69.2\" style=\"fill:none;fill-rule:evenodd;stroke:#FF0000;stroke-width:2.0px;stroke-linecap:butt;stroke-linejoin:miter;stroke-opacity:1\"/>\n",
       "<path class=\"bond-5 atom-4 atom-5\" d=\"M 285.0,62.7 L 344.5,97.1\" style=\"fill:none;fill-rule:evenodd;stroke:#000000;stroke-width:2.0px;stroke-linecap:butt;stroke-linejoin:miter;stroke-opacity:1\"/>\n",
       "<path class=\"atom-0\" d=\"M 20.5 53.1 L 23.1 53.1 L 23.1 61.4 L 33.0 61.4 L 33.0 53.1 L 35.7 53.1 L 35.7 72.6 L 33.0 72.6 L 33.0 63.6 L 23.1 63.6 L 23.1 72.6 L 20.5 72.6 L 20.5 53.1 \" fill=\"#FF0000\"/>\n",
       "<path class=\"atom-0\" d=\"M 38.0 62.8 Q 38.0 58.1, 40.3 55.5 Q 42.6 52.9, 47.0 52.9 Q 51.3 52.9, 53.6 55.5 Q 55.9 58.1, 55.9 62.8 Q 55.9 67.5, 53.5 70.2 Q 51.2 72.9, 47.0 72.9 Q 42.7 72.9, 40.3 70.2 Q 38.0 67.6, 38.0 62.8 M 47.0 70.7 Q 49.9 70.7, 51.5 68.7 Q 53.1 66.7, 53.1 62.8 Q 53.1 59.0, 51.5 57.1 Q 49.9 55.1, 47.0 55.1 Q 44.0 55.1, 42.4 57.0 Q 40.8 58.9, 40.8 62.8 Q 40.8 66.7, 42.4 68.7 Q 44.0 70.7, 47.0 70.7 \" fill=\"#FF0000\"/>\n",
       "<path class=\"atom-6\" d=\"M 395.1 62.8 Q 395.1 58.1, 397.4 55.5 Q 399.7 52.9, 404.0 52.9 Q 408.3 52.9, 410.6 55.5 Q 412.9 58.1, 412.9 62.8 Q 412.9 67.5, 410.6 70.2 Q 408.3 72.9, 404.0 72.9 Q 399.7 72.9, 397.4 70.2 Q 395.1 67.6, 395.1 62.8 M 404.0 70.7 Q 407.0 70.7, 408.6 68.7 Q 410.2 66.7, 410.2 62.8 Q 410.2 59.0, 408.6 57.1 Q 407.0 55.1, 404.0 55.1 Q 401.0 55.1, 399.4 57.0 Q 397.8 58.9, 397.8 62.8 Q 397.8 66.7, 399.4 68.7 Q 401.0 70.7, 404.0 70.7 \" fill=\"#FF0000\"/>\n",
       "<path class=\"atom-6\" d=\"M 414.3 53.1 L 417.0 53.1 L 417.0 61.4 L 426.9 61.4 L 426.9 53.1 L 429.5 53.1 L 429.5 72.6 L 426.9 72.6 L 426.9 63.6 L 417.0 63.6 L 417.0 72.6 L 414.3 72.6 L 414.3 53.1 \" fill=\"#FF0000\"/>\n",
       "</svg>"
      ],
      "text/plain": [
       "<IPython.core.display.SVG object>"
      ]
     },
     "execution_count": 9,
     "metadata": {},
     "output_type": "execute_result"
    }
   ],
   "source": [
    "big_smiles_gen(big, 2)"
   ]
  },
  {
   "cell_type": "markdown",
   "id": "a3a781f5",
   "metadata": {},
   "source": [
    "## Di-ols with 2-5 middle Cyclohexane ring total Mw 500"
   ]
  },
  {
   "cell_type": "code",
   "execution_count": 60,
   "id": "a7c4b04f",
   "metadata": {},
   "outputs": [
    {
     "data": {
      "text/plain": [
       "'OC{[$][$]C([$])C1CCCCC1[$]}|uniform(84, 420)|CO.|5000|'"
      ]
     },
     "execution_count": 60,
     "metadata": {},
     "output_type": "execute_result"
    }
   ],
   "source": [
    "big = \"OC{[$][$]C([$])C1CCCCC1[$]}|uniform(84, 420)|CO.|5000|\"\n",
    "big"
   ]
  },
  {
   "cell_type": "code",
   "execution_count": 61,
   "id": "cff28b06",
   "metadata": {},
   "outputs": [
    {
     "name": "stdout",
     "output_type": "stream",
     "text": [
      "40\n"
     ]
    },
    {
     "data": {
      "image/svg+xml": [
       "<svg xmlns=\"http://www.w3.org/2000/svg\" xmlns:rdkit=\"http://www.rdkit.org/xml\" xmlns:xlink=\"http://www.w3.org/1999/xlink\" version=\"1.1\" baseProfile=\"full\" xml:space=\"preserve\" width=\"450px\" height=\"150px\" viewBox=\"0 0 450 150\">\n",
       "<!-- END OF HEADER -->\n",
       "<rect style=\"opacity:1.0;fill:#FFFFFF;stroke:none\" width=\"450.0\" height=\"150.0\" x=\"0.0\" y=\"0.0\"> </rect>\n",
       "<path class=\"bond-0 atom-0 atom-1\" d=\"M 225.4,15.1 L 233.0,22.5\" style=\"fill:none;fill-rule:evenodd;stroke:#FF0000;stroke-width:2.0px;stroke-linecap:butt;stroke-linejoin:miter;stroke-opacity:1\"/>\n",
       "<path class=\"bond-0 atom-0 atom-1\" d=\"M 233.0,22.5 L 240.5,29.9\" style=\"fill:none;fill-rule:evenodd;stroke:#000000;stroke-width:2.0px;stroke-linecap:butt;stroke-linejoin:miter;stroke-opacity:1\"/>\n",
       "<path class=\"bond-1 atom-2 atom-3\" d=\"M 233.7,56.4 L 253.2,75.5\" style=\"fill:none;fill-rule:evenodd;stroke:#000000;stroke-width:2.0px;stroke-linecap:butt;stroke-linejoin:miter;stroke-opacity:1\"/>\n",
       "<path class=\"bond-2 atom-3 atom-4\" d=\"M 253.2,75.5 L 246.4,102.0\" style=\"fill:none;fill-rule:evenodd;stroke:#000000;stroke-width:2.0px;stroke-linecap:butt;stroke-linejoin:miter;stroke-opacity:1\"/>\n",
       "<path class=\"bond-3 atom-4 atom-5\" d=\"M 246.4,102.0 L 265.9,121.2\" style=\"fill:none;fill-rule:evenodd;stroke:#000000;stroke-width:2.0px;stroke-linecap:butt;stroke-linejoin:miter;stroke-opacity:1\"/>\n",
       "<path class=\"bond-4 atom-5 atom-6\" d=\"M 265.9,121.2 L 292.3,113.8\" style=\"fill:none;fill-rule:evenodd;stroke:#000000;stroke-width:2.0px;stroke-linecap:butt;stroke-linejoin:miter;stroke-opacity:1\"/>\n",
       "<path class=\"bond-5 atom-6 atom-7\" d=\"M 292.3,113.8 L 299.1,87.4\" style=\"fill:none;fill-rule:evenodd;stroke:#000000;stroke-width:2.0px;stroke-linecap:butt;stroke-linejoin:miter;stroke-opacity:1\"/>\n",
       "<path class=\"bond-6 atom-7 atom-8\" d=\"M 299.1,87.4 L 279.6,68.2\" style=\"fill:none;fill-rule:evenodd;stroke:#000000;stroke-width:2.0px;stroke-linecap:butt;stroke-linejoin:miter;stroke-opacity:1\"/>\n",
       "<path class=\"bond-7 atom-8 atom-3\" d=\"M 279.6,68.2 L 253.2,75.5\" style=\"fill:none;fill-rule:evenodd;stroke:#000000;stroke-width:2.0px;stroke-linecap:butt;stroke-linejoin:miter;stroke-opacity:1\"/>\n",
       "<path class=\"bond-8 atom-1 atom-2\" d=\"M 240.5,29.9 L 233.7,56.4\" style=\"fill:none;fill-rule:evenodd;stroke:#000000;stroke-width:2.0px;stroke-linecap:butt;stroke-linejoin:miter;stroke-opacity:1\"/>\n",
       "<path class=\"bond-9 atom-9 atom-10\" d=\"M 207.3,63.7 L 200.5,90.2\" style=\"fill:none;fill-rule:evenodd;stroke:#000000;stroke-width:2.0px;stroke-linecap:butt;stroke-linejoin:miter;stroke-opacity:1\"/>\n",
       "<path class=\"bond-10 atom-10 atom-11\" d=\"M 200.5,90.2 L 174.2,97.5\" style=\"fill:none;fill-rule:evenodd;stroke:#000000;stroke-width:2.0px;stroke-linecap:butt;stroke-linejoin:miter;stroke-opacity:1\"/>\n",
       "<path class=\"bond-11 atom-11 atom-12\" d=\"M 174.2,97.5 L 167.3,124.0\" style=\"fill:none;fill-rule:evenodd;stroke:#000000;stroke-width:2.0px;stroke-linecap:butt;stroke-linejoin:miter;stroke-opacity:1\"/>\n",
       "<path class=\"bond-12 atom-12 atom-13\" d=\"M 167.3,124.0 L 186.9,143.2\" style=\"fill:none;fill-rule:evenodd;stroke:#000000;stroke-width:2.0px;stroke-linecap:butt;stroke-linejoin:miter;stroke-opacity:1\"/>\n",
       "<path class=\"bond-13 atom-13 atom-14\" d=\"M 186.9,143.2 L 213.2,135.8\" style=\"fill:none;fill-rule:evenodd;stroke:#000000;stroke-width:2.0px;stroke-linecap:butt;stroke-linejoin:miter;stroke-opacity:1\"/>\n",
       "<path class=\"bond-14 atom-14 atom-15\" d=\"M 213.2,135.8 L 220.0,109.4\" style=\"fill:none;fill-rule:evenodd;stroke:#000000;stroke-width:2.0px;stroke-linecap:butt;stroke-linejoin:miter;stroke-opacity:1\"/>\n",
       "<path class=\"bond-15 atom-15 atom-10\" d=\"M 220.0,109.4 L 200.5,90.2\" style=\"fill:none;fill-rule:evenodd;stroke:#000000;stroke-width:2.0px;stroke-linecap:butt;stroke-linejoin:miter;stroke-opacity:1\"/>\n",
       "<path class=\"bond-16 atom-2 atom-9\" d=\"M 233.7,56.4 L 207.3,63.7\" style=\"fill:none;fill-rule:evenodd;stroke:#000000;stroke-width:2.0px;stroke-linecap:butt;stroke-linejoin:miter;stroke-opacity:1\"/>\n",
       "<path class=\"bond-17 atom-16 atom-17\" d=\"M 187.8,44.6 L 176.9,47.6\" style=\"fill:none;fill-rule:evenodd;stroke:#000000;stroke-width:2.0px;stroke-linecap:butt;stroke-linejoin:miter;stroke-opacity:1\"/>\n",
       "<path class=\"bond-17 atom-16 atom-17\" d=\"M 176.9,47.6 L 165.9,50.7\" style=\"fill:none;fill-rule:evenodd;stroke:#FF0000;stroke-width:2.0px;stroke-linecap:butt;stroke-linejoin:miter;stroke-opacity:1\"/>\n",
       "<path class=\"bond-18 atom-9 atom-16\" d=\"M 207.3,63.7 L 187.8,44.6\" style=\"fill:none;fill-rule:evenodd;stroke:#000000;stroke-width:2.0px;stroke-linecap:butt;stroke-linejoin:miter;stroke-opacity:1\"/>\n",
       "<path class=\"atom-0\" d=\"M 210.4 6.9 L 211.5 6.9 L 211.5 10.2 L 215.4 10.2 L 215.4 6.9 L 216.5 6.9 L 216.5 14.7 L 215.4 14.7 L 215.4 11.1 L 211.5 11.1 L 211.5 14.7 L 210.4 14.7 L 210.4 6.9 \" fill=\"#FF0000\"/>\n",
       "<path class=\"atom-0\" d=\"M 217.4 10.8 Q 217.4 8.9, 218.3 7.9 Q 219.3 6.8, 221.0 6.8 Q 222.7 6.8, 223.6 7.9 Q 224.5 8.9, 224.5 10.8 Q 224.5 12.6, 223.6 13.7 Q 222.7 14.8, 221.0 14.8 Q 219.3 14.8, 218.3 13.7 Q 217.4 12.7, 217.4 10.8 M 221.0 13.9 Q 222.2 13.9, 222.8 13.1 Q 223.4 12.3, 223.4 10.8 Q 223.4 9.2, 222.8 8.5 Q 222.2 7.7, 221.0 7.7 Q 219.8 7.7, 219.2 8.5 Q 218.5 9.2, 218.5 10.8 Q 218.5 12.3, 219.2 13.1 Q 219.8 13.9, 221.0 13.9 \" fill=\"#FF0000\"/>\n",
       "<path class=\"atom-17\" d=\"M 150.9 48.1 L 152.0 48.1 L 152.0 51.4 L 155.9 51.4 L 155.9 48.1 L 157.0 48.1 L 157.0 55.8 L 155.9 55.8 L 155.9 52.2 L 152.0 52.2 L 152.0 55.8 L 150.9 55.8 L 150.9 48.1 \" fill=\"#FF0000\"/>\n",
       "<path class=\"atom-17\" d=\"M 157.9 51.9 Q 157.9 50.1, 158.8 49.0 Q 159.7 48.0, 161.5 48.0 Q 163.2 48.0, 164.1 49.0 Q 165.0 50.1, 165.0 51.9 Q 165.0 53.8, 164.1 54.9 Q 163.1 55.9, 161.5 55.9 Q 159.7 55.9, 158.8 54.9 Q 157.9 53.8, 157.9 51.9 M 161.5 55.1 Q 162.6 55.1, 163.3 54.3 Q 163.9 53.5, 163.9 51.9 Q 163.9 50.4, 163.3 49.6 Q 162.6 48.9, 161.5 48.9 Q 160.3 48.9, 159.6 49.6 Q 159.0 50.4, 159.0 51.9 Q 159.0 53.5, 159.6 54.3 Q 160.3 55.1, 161.5 55.1 \" fill=\"#FF0000\"/>\n",
       "</svg>"
      ],
      "text/plain": [
       "<IPython.core.display.SVG object>"
      ]
     },
     "execution_count": 61,
     "metadata": {},
     "output_type": "execute_result"
    }
   ],
   "source": [
    "big_smiles_gen(big, 0)"
   ]
  },
  {
   "cell_type": "code",
   "execution_count": 62,
   "id": "de885cd0",
   "metadata": {},
   "outputs": [
    {
     "name": "stdout",
     "output_type": "stream",
     "text": [
      "41\n"
     ]
    },
    {
     "data": {
      "image/svg+xml": [
       "<svg xmlns=\"http://www.w3.org/2000/svg\" xmlns:rdkit=\"http://www.rdkit.org/xml\" xmlns:xlink=\"http://www.w3.org/1999/xlink\" version=\"1.1\" baseProfile=\"full\" xml:space=\"preserve\" width=\"450px\" height=\"150px\" viewBox=\"0 0 450 150\">\n",
       "<!-- END OF HEADER -->\n",
       "<rect style=\"opacity:1.0;fill:#FFFFFF;stroke:none\" width=\"450.0\" height=\"150.0\" x=\"0.0\" y=\"0.0\"> </rect>\n",
       "<path class=\"bond-0 atom-0 atom-1\" d=\"M 202.1,15.1 L 207.2,23.8\" style=\"fill:none;fill-rule:evenodd;stroke:#FF0000;stroke-width:2.0px;stroke-linecap:butt;stroke-linejoin:miter;stroke-opacity:1\"/>\n",
       "<path class=\"bond-0 atom-0 atom-1\" d=\"M 207.2,23.8 L 212.2,32.6\" style=\"fill:none;fill-rule:evenodd;stroke:#000000;stroke-width:2.0px;stroke-linecap:butt;stroke-linejoin:miter;stroke-opacity:1\"/>\n",
       "<path class=\"bond-1 atom-2 atom-3\" d=\"M 199.5,54.7 L 173.9,54.7\" style=\"fill:none;fill-rule:evenodd;stroke:#000000;stroke-width:2.0px;stroke-linecap:butt;stroke-linejoin:miter;stroke-opacity:1\"/>\n",
       "<path class=\"bond-2 atom-3 atom-4\" d=\"M 173.9,54.7 L 161.2,76.8\" style=\"fill:none;fill-rule:evenodd;stroke:#000000;stroke-width:2.0px;stroke-linecap:butt;stroke-linejoin:miter;stroke-opacity:1\"/>\n",
       "<path class=\"bond-3 atom-4 atom-5\" d=\"M 161.2,76.8 L 135.6,76.8\" style=\"fill:none;fill-rule:evenodd;stroke:#000000;stroke-width:2.0px;stroke-linecap:butt;stroke-linejoin:miter;stroke-opacity:1\"/>\n",
       "<path class=\"bond-4 atom-5 atom-6\" d=\"M 135.6,76.8 L 122.8,54.7\" style=\"fill:none;fill-rule:evenodd;stroke:#000000;stroke-width:2.0px;stroke-linecap:butt;stroke-linejoin:miter;stroke-opacity:1\"/>\n",
       "<path class=\"bond-5 atom-6 atom-7\" d=\"M 122.8,54.7 L 135.6,32.6\" style=\"fill:none;fill-rule:evenodd;stroke:#000000;stroke-width:2.0px;stroke-linecap:butt;stroke-linejoin:miter;stroke-opacity:1\"/>\n",
       "<path class=\"bond-6 atom-7 atom-8\" d=\"M 135.6,32.6 L 161.2,32.6\" style=\"fill:none;fill-rule:evenodd;stroke:#000000;stroke-width:2.0px;stroke-linecap:butt;stroke-linejoin:miter;stroke-opacity:1\"/>\n",
       "<path class=\"bond-7 atom-8 atom-3\" d=\"M 161.2,32.6 L 173.9,54.7\" style=\"fill:none;fill-rule:evenodd;stroke:#000000;stroke-width:2.0px;stroke-linecap:butt;stroke-linejoin:miter;stroke-opacity:1\"/>\n",
       "<path class=\"bond-8 atom-1 atom-2\" d=\"M 212.2,32.6 L 199.5,54.7\" style=\"fill:none;fill-rule:evenodd;stroke:#000000;stroke-width:2.0px;stroke-linecap:butt;stroke-linejoin:miter;stroke-opacity:1\"/>\n",
       "<path class=\"bond-9 atom-9 atom-10\" d=\"M 212.2,76.8 L 199.5,98.9\" style=\"fill:none;fill-rule:evenodd;stroke:#000000;stroke-width:2.0px;stroke-linecap:butt;stroke-linejoin:miter;stroke-opacity:1\"/>\n",
       "<path class=\"bond-10 atom-10 atom-11\" d=\"M 199.5,98.9 L 173.9,98.9\" style=\"fill:none;fill-rule:evenodd;stroke:#000000;stroke-width:2.0px;stroke-linecap:butt;stroke-linejoin:miter;stroke-opacity:1\"/>\n",
       "<path class=\"bond-11 atom-11 atom-12\" d=\"M 173.9,98.9 L 161.2,121.1\" style=\"fill:none;fill-rule:evenodd;stroke:#000000;stroke-width:2.0px;stroke-linecap:butt;stroke-linejoin:miter;stroke-opacity:1\"/>\n",
       "<path class=\"bond-12 atom-12 atom-13\" d=\"M 161.2,121.1 L 173.9,143.2\" style=\"fill:none;fill-rule:evenodd;stroke:#000000;stroke-width:2.0px;stroke-linecap:butt;stroke-linejoin:miter;stroke-opacity:1\"/>\n",
       "<path class=\"bond-13 atom-13 atom-14\" d=\"M 173.9,143.2 L 199.5,143.2\" style=\"fill:none;fill-rule:evenodd;stroke:#000000;stroke-width:2.0px;stroke-linecap:butt;stroke-linejoin:miter;stroke-opacity:1\"/>\n",
       "<path class=\"bond-14 atom-14 atom-15\" d=\"M 199.5,143.2 L 212.2,121.1\" style=\"fill:none;fill-rule:evenodd;stroke:#000000;stroke-width:2.0px;stroke-linecap:butt;stroke-linejoin:miter;stroke-opacity:1\"/>\n",
       "<path class=\"bond-15 atom-15 atom-10\" d=\"M 212.2,121.1 L 199.5,98.9\" style=\"fill:none;fill-rule:evenodd;stroke:#000000;stroke-width:2.0px;stroke-linecap:butt;stroke-linejoin:miter;stroke-opacity:1\"/>\n",
       "<path class=\"bond-16 atom-2 atom-9\" d=\"M 199.5,54.7 L 212.2,76.8\" style=\"fill:none;fill-rule:evenodd;stroke:#000000;stroke-width:2.0px;stroke-linecap:butt;stroke-linejoin:miter;stroke-opacity:1\"/>\n",
       "<path class=\"bond-17 atom-16 atom-17\" d=\"M 237.8,76.8 L 250.5,98.9\" style=\"fill:none;fill-rule:evenodd;stroke:#000000;stroke-width:2.0px;stroke-linecap:butt;stroke-linejoin:miter;stroke-opacity:1\"/>\n",
       "<path class=\"bond-18 atom-17 atom-18\" d=\"M 250.5,98.9 L 237.8,121.1\" style=\"fill:none;fill-rule:evenodd;stroke:#000000;stroke-width:2.0px;stroke-linecap:butt;stroke-linejoin:miter;stroke-opacity:1\"/>\n",
       "<path class=\"bond-19 atom-18 atom-19\" d=\"M 237.8,121.1 L 250.5,143.2\" style=\"fill:none;fill-rule:evenodd;stroke:#000000;stroke-width:2.0px;stroke-linecap:butt;stroke-linejoin:miter;stroke-opacity:1\"/>\n",
       "<path class=\"bond-20 atom-19 atom-20\" d=\"M 250.5,143.2 L 276.1,143.2\" style=\"fill:none;fill-rule:evenodd;stroke:#000000;stroke-width:2.0px;stroke-linecap:butt;stroke-linejoin:miter;stroke-opacity:1\"/>\n",
       "<path class=\"bond-21 atom-20 atom-21\" d=\"M 276.1,143.2 L 288.8,121.1\" style=\"fill:none;fill-rule:evenodd;stroke:#000000;stroke-width:2.0px;stroke-linecap:butt;stroke-linejoin:miter;stroke-opacity:1\"/>\n",
       "<path class=\"bond-22 atom-21 atom-22\" d=\"M 288.8,121.1 L 276.1,98.9\" style=\"fill:none;fill-rule:evenodd;stroke:#000000;stroke-width:2.0px;stroke-linecap:butt;stroke-linejoin:miter;stroke-opacity:1\"/>\n",
       "<path class=\"bond-23 atom-22 atom-17\" d=\"M 276.1,98.9 L 250.5,98.9\" style=\"fill:none;fill-rule:evenodd;stroke:#000000;stroke-width:2.0px;stroke-linecap:butt;stroke-linejoin:miter;stroke-opacity:1\"/>\n",
       "<path class=\"bond-24 atom-9 atom-16\" d=\"M 212.2,76.8 L 237.8,76.8\" style=\"fill:none;fill-rule:evenodd;stroke:#000000;stroke-width:2.0px;stroke-linecap:butt;stroke-linejoin:miter;stroke-opacity:1\"/>\n",
       "<path class=\"bond-25 atom-23 atom-24\" d=\"M 250.5,54.7 L 276.1,54.7\" style=\"fill:none;fill-rule:evenodd;stroke:#000000;stroke-width:2.0px;stroke-linecap:butt;stroke-linejoin:miter;stroke-opacity:1\"/>\n",
       "<path class=\"bond-26 atom-24 atom-25\" d=\"M 276.1,54.7 L 288.8,32.6\" style=\"fill:none;fill-rule:evenodd;stroke:#000000;stroke-width:2.0px;stroke-linecap:butt;stroke-linejoin:miter;stroke-opacity:1\"/>\n",
       "<path class=\"bond-27 atom-25 atom-26\" d=\"M 288.8,32.6 L 314.4,32.6\" style=\"fill:none;fill-rule:evenodd;stroke:#000000;stroke-width:2.0px;stroke-linecap:butt;stroke-linejoin:miter;stroke-opacity:1\"/>\n",
       "<path class=\"bond-28 atom-26 atom-27\" d=\"M 314.4,32.6 L 327.2,54.7\" style=\"fill:none;fill-rule:evenodd;stroke:#000000;stroke-width:2.0px;stroke-linecap:butt;stroke-linejoin:miter;stroke-opacity:1\"/>\n",
       "<path class=\"bond-29 atom-27 atom-28\" d=\"M 327.2,54.7 L 314.4,76.8\" style=\"fill:none;fill-rule:evenodd;stroke:#000000;stroke-width:2.0px;stroke-linecap:butt;stroke-linejoin:miter;stroke-opacity:1\"/>\n",
       "<path class=\"bond-30 atom-28 atom-29\" d=\"M 314.4,76.8 L 288.8,76.8\" style=\"fill:none;fill-rule:evenodd;stroke:#000000;stroke-width:2.0px;stroke-linecap:butt;stroke-linejoin:miter;stroke-opacity:1\"/>\n",
       "<path class=\"bond-31 atom-29 atom-24\" d=\"M 288.8,76.8 L 276.1,54.7\" style=\"fill:none;fill-rule:evenodd;stroke:#000000;stroke-width:2.0px;stroke-linecap:butt;stroke-linejoin:miter;stroke-opacity:1\"/>\n",
       "<path class=\"bond-32 atom-16 atom-23\" d=\"M 237.8,76.8 L 250.5,54.7\" style=\"fill:none;fill-rule:evenodd;stroke:#000000;stroke-width:2.0px;stroke-linecap:butt;stroke-linejoin:miter;stroke-opacity:1\"/>\n",
       "<path class=\"bond-33 atom-30 atom-31\" d=\"M 237.8,32.6 L 242.8,23.8\" style=\"fill:none;fill-rule:evenodd;stroke:#000000;stroke-width:2.0px;stroke-linecap:butt;stroke-linejoin:miter;stroke-opacity:1\"/>\n",
       "<path class=\"bond-33 atom-30 atom-31\" d=\"M 242.8,23.8 L 247.9,15.1\" style=\"fill:none;fill-rule:evenodd;stroke:#FF0000;stroke-width:2.0px;stroke-linecap:butt;stroke-linejoin:miter;stroke-opacity:1\"/>\n",
       "<path class=\"bond-34 atom-23 atom-30\" d=\"M 250.5,54.7 L 237.8,32.6\" style=\"fill:none;fill-rule:evenodd;stroke:#000000;stroke-width:2.0px;stroke-linecap:butt;stroke-linejoin:miter;stroke-opacity:1\"/>\n",
       "<path class=\"atom-0\" d=\"M 189.6 6.9 L 190.6 6.9 L 190.6 10.0 L 194.3 10.0 L 194.3 6.9 L 195.3 6.9 L 195.3 14.1 L 194.3 14.1 L 194.3 10.8 L 190.6 10.8 L 190.6 14.1 L 189.6 14.1 L 189.6 6.9 \" fill=\"#FF0000\"/>\n",
       "<path class=\"atom-0\" d=\"M 196.1 10.5 Q 196.1 8.8, 197.0 7.8 Q 197.9 6.8, 199.5 6.8 Q 201.1 6.8, 201.9 7.8 Q 202.8 8.8, 202.8 10.5 Q 202.8 12.3, 201.9 13.3 Q 201.0 14.2, 199.5 14.2 Q 197.9 14.2, 197.0 13.3 Q 196.1 12.3, 196.1 10.5 M 199.5 13.4 Q 200.6 13.4, 201.2 12.7 Q 201.8 11.9, 201.8 10.5 Q 201.8 9.1, 201.2 8.4 Q 200.6 7.6, 199.5 7.6 Q 198.4 7.6, 197.8 8.4 Q 197.2 9.1, 197.2 10.5 Q 197.2 12.0, 197.8 12.7 Q 198.4 13.4, 199.5 13.4 \" fill=\"#FF0000\"/>\n",
       "<path class=\"atom-31\" d=\"M 247.2 10.5 Q 247.2 8.8, 248.1 7.8 Q 248.9 6.8, 250.5 6.8 Q 252.1 6.8, 253.0 7.8 Q 253.9 8.8, 253.9 10.5 Q 253.9 12.3, 253.0 13.3 Q 252.1 14.2, 250.5 14.2 Q 248.9 14.2, 248.1 13.3 Q 247.2 12.3, 247.2 10.5 M 250.5 13.4 Q 251.6 13.4, 252.2 12.7 Q 252.8 11.9, 252.8 10.5 Q 252.8 9.1, 252.2 8.4 Q 251.6 7.6, 250.5 7.6 Q 249.4 7.6, 248.8 8.4 Q 248.2 9.1, 248.2 10.5 Q 248.2 12.0, 248.8 12.7 Q 249.4 13.4, 250.5 13.4 \" fill=\"#FF0000\"/>\n",
       "<path class=\"atom-31\" d=\"M 254.4 6.9 L 255.4 6.9 L 255.4 10.0 L 259.0 10.0 L 259.0 6.9 L 260.0 6.9 L 260.0 14.1 L 259.0 14.1 L 259.0 10.8 L 255.4 10.8 L 255.4 14.1 L 254.4 14.1 L 254.4 6.9 \" fill=\"#FF0000\"/>\n",
       "</svg>"
      ],
      "text/plain": [
       "<IPython.core.display.SVG object>"
      ]
     },
     "execution_count": 62,
     "metadata": {},
     "output_type": "execute_result"
    }
   ],
   "source": [
    "big_smiles_gen(big, 3)"
   ]
  },
  {
   "cell_type": "markdown",
   "id": "d978619a",
   "metadata": {},
   "source": [
    "# Polyamides\n",
    "## Di-Carboxylic Acids"
   ]
  },
  {
   "cell_type": "code",
   "execution_count": 13,
   "id": "6a88d483",
   "metadata": {},
   "outputs": [
    {
     "data": {
      "text/plain": [
       "'NC{[$][$]C[$][$]}|gauss(60, 24)|COO.|500|'"
      ]
     },
     "execution_count": 13,
     "metadata": {},
     "output_type": "execute_result"
    }
   ],
   "source": [
    "big = \"NC{[$][$]C[$][$]}|gauss(60, 24)|COO.|500|\"\n",
    "big"
   ]
  },
  {
   "cell_type": "code",
   "execution_count": 14,
   "id": "2f11a3e7",
   "metadata": {},
   "outputs": [
    {
     "name": "stdout",
     "output_type": "stream",
     "text": [
      "7\n"
     ]
    },
    {
     "data": {
      "image/svg+xml": [
       "<svg xmlns=\"http://www.w3.org/2000/svg\" xmlns:rdkit=\"http://www.rdkit.org/xml\" xmlns:xlink=\"http://www.w3.org/1999/xlink\" version=\"1.1\" baseProfile=\"full\" xml:space=\"preserve\" width=\"450px\" height=\"150px\" viewBox=\"0 0 450 150\">\n",
       "<!-- END OF HEADER -->\n",
       "<rect style=\"opacity:1.0;fill:#FFFFFF;stroke:none\" width=\"450.0\" height=\"150.0\" x=\"0.0\" y=\"0.0\"> </rect>\n",
       "<path class=\"bond-0 atom-0 atom-1\" d=\"M 48.1,67.7 L 63.7,76.6\" style=\"fill:none;fill-rule:evenodd;stroke:#0000FF;stroke-width:2.0px;stroke-linecap:butt;stroke-linejoin:miter;stroke-opacity:1\"/>\n",
       "<path class=\"bond-0 atom-0 atom-1\" d=\"M 63.7,76.6 L 79.3,85.6\" style=\"fill:none;fill-rule:evenodd;stroke:#000000;stroke-width:2.0px;stroke-linecap:butt;stroke-linejoin:miter;stroke-opacity:1\"/>\n",
       "<path class=\"bond-1 atom-1 atom-2\" d=\"M 79.3,85.6 L 116.4,64.2\" style=\"fill:none;fill-rule:evenodd;stroke:#000000;stroke-width:2.0px;stroke-linecap:butt;stroke-linejoin:miter;stroke-opacity:1\"/>\n",
       "<path class=\"bond-2 atom-2 atom-3\" d=\"M 116.4,64.2 L 153.6,85.6\" style=\"fill:none;fill-rule:evenodd;stroke:#000000;stroke-width:2.0px;stroke-linecap:butt;stroke-linejoin:miter;stroke-opacity:1\"/>\n",
       "<path class=\"bond-3 atom-3 atom-4\" d=\"M 153.6,85.6 L 190.7,64.2\" style=\"fill:none;fill-rule:evenodd;stroke:#000000;stroke-width:2.0px;stroke-linecap:butt;stroke-linejoin:miter;stroke-opacity:1\"/>\n",
       "<path class=\"bond-4 atom-4 atom-5\" d=\"M 190.7,64.2 L 227.9,85.6\" style=\"fill:none;fill-rule:evenodd;stroke:#000000;stroke-width:2.0px;stroke-linecap:butt;stroke-linejoin:miter;stroke-opacity:1\"/>\n",
       "<path class=\"bond-5 atom-5 atom-6\" d=\"M 227.9,85.6 L 265.0,64.2\" style=\"fill:none;fill-rule:evenodd;stroke:#000000;stroke-width:2.0px;stroke-linecap:butt;stroke-linejoin:miter;stroke-opacity:1\"/>\n",
       "<path class=\"bond-6 atom-6 atom-7\" d=\"M 265.0,64.2 L 302.2,85.6\" style=\"fill:none;fill-rule:evenodd;stroke:#000000;stroke-width:2.0px;stroke-linecap:butt;stroke-linejoin:miter;stroke-opacity:1\"/>\n",
       "<path class=\"bond-7 atom-8 atom-9\" d=\"M 339.3,64.2 L 354.4,72.9\" style=\"fill:none;fill-rule:evenodd;stroke:#000000;stroke-width:2.0px;stroke-linecap:butt;stroke-linejoin:miter;stroke-opacity:1\"/>\n",
       "<path class=\"bond-7 atom-8 atom-9\" d=\"M 354.4,72.9 L 369.5,81.6\" style=\"fill:none;fill-rule:evenodd;stroke:#FF0000;stroke-width:2.0px;stroke-linecap:butt;stroke-linejoin:miter;stroke-opacity:1\"/>\n",
       "<path class=\"bond-8 atom-9 atom-10\" d=\"M 383.4,81.6 L 406.6,68.2\" style=\"fill:none;fill-rule:evenodd;stroke:#FF0000;stroke-width:2.0px;stroke-linecap:butt;stroke-linejoin:miter;stroke-opacity:1\"/>\n",
       "<path class=\"bond-9 atom-7 atom-8\" d=\"M 302.2,85.6 L 339.3,64.2\" style=\"fill:none;fill-rule:evenodd;stroke:#000000;stroke-width:2.0px;stroke-linecap:butt;stroke-linejoin:miter;stroke-opacity:1\"/>\n",
       "<path class=\"atom-0\" d=\"M 20.5 58.1 L 22.1 58.1 L 22.1 63.3 L 28.3 63.3 L 28.3 58.1 L 30.0 58.1 L 30.0 70.3 L 28.3 70.3 L 28.3 64.6 L 22.1 64.6 L 22.1 70.3 L 20.5 70.3 L 20.5 58.1 \" fill=\"#0000FF\"/>\n",
       "<path class=\"atom-0\" d=\"M 31.4 69.8 Q 31.7 69.1, 32.4 68.7 Q 33.1 68.2, 34.1 68.2 Q 35.3 68.2, 36.0 68.9 Q 36.7 69.5, 36.7 70.7 Q 36.7 71.9, 35.8 73.0 Q 34.9 74.1, 33.1 75.4 L 36.8 75.4 L 36.8 76.3 L 31.4 76.3 L 31.4 75.6 Q 32.9 74.5, 33.8 73.7 Q 34.7 72.9, 35.1 72.2 Q 35.6 71.5, 35.6 70.8 Q 35.6 70.0, 35.2 69.6 Q 34.8 69.1, 34.1 69.1 Q 33.5 69.1, 33.0 69.4 Q 32.6 69.6, 32.3 70.2 L 31.4 69.8 \" fill=\"#0000FF\"/>\n",
       "<path class=\"atom-0\" d=\"M 39.4 58.1 L 43.4 64.5 Q 43.8 65.2, 44.4 66.3 Q 45.1 67.5, 45.1 67.5 L 45.1 58.1 L 46.7 58.1 L 46.7 70.3 L 45.1 70.3 L 40.8 63.2 Q 40.3 62.4, 39.7 61.5 Q 39.2 60.5, 39.1 60.2 L 39.1 70.3 L 37.5 70.3 L 37.5 58.1 L 39.4 58.1 \" fill=\"#0000FF\"/>\n",
       "<path class=\"atom-9\" d=\"M 370.9 85.7 Q 370.9 82.7, 372.3 81.1 Q 373.8 79.5, 376.5 79.5 Q 379.1 79.5, 380.6 81.1 Q 382.0 82.7, 382.0 85.7 Q 382.0 88.6, 380.6 90.3 Q 379.1 92.0, 376.5 92.0 Q 373.8 92.0, 372.3 90.3 Q 370.9 88.6, 370.9 85.7 M 376.5 90.6 Q 378.3 90.6, 379.3 89.4 Q 380.3 88.1, 380.3 85.7 Q 380.3 83.3, 379.3 82.1 Q 378.3 80.9, 376.5 80.9 Q 374.6 80.9, 373.6 82.1 Q 372.6 83.3, 372.6 85.7 Q 372.6 88.1, 373.6 89.4 Q 374.6 90.6, 376.5 90.6 \" fill=\"#FF0000\"/>\n",
       "<path class=\"atom-10\" d=\"M 408.0 64.2 Q 408.0 61.3, 409.5 59.7 Q 410.9 58.0, 413.6 58.0 Q 416.3 58.0, 417.7 59.7 Q 419.2 61.3, 419.2 64.2 Q 419.2 67.2, 417.7 68.8 Q 416.3 70.5, 413.6 70.5 Q 410.9 70.5, 409.5 68.8 Q 408.0 67.2, 408.0 64.2 M 413.6 69.1 Q 415.5 69.1, 416.5 67.9 Q 417.5 66.7, 417.5 64.2 Q 417.5 61.8, 416.5 60.6 Q 415.5 59.4, 413.6 59.4 Q 411.8 59.4, 410.7 60.6 Q 409.7 61.8, 409.7 64.2 Q 409.7 66.7, 410.7 67.9 Q 411.8 69.1, 413.6 69.1 \" fill=\"#FF0000\"/>\n",
       "<path class=\"atom-10\" d=\"M 420.0 58.2 L 421.7 58.2 L 421.7 63.3 L 427.9 63.3 L 427.9 58.2 L 429.5 58.2 L 429.5 70.3 L 427.9 70.3 L 427.9 64.7 L 421.7 64.7 L 421.7 70.3 L 420.0 70.3 L 420.0 58.2 \" fill=\"#FF0000\"/>\n",
       "</svg>"
      ],
      "text/plain": [
       "<IPython.core.display.SVG object>"
      ]
     },
     "execution_count": 14,
     "metadata": {},
     "output_type": "execute_result"
    }
   ],
   "source": [
    "big_smiles_gen(big)"
   ]
  },
  {
   "cell_type": "code",
   "execution_count": 15,
   "id": "a935520e",
   "metadata": {},
   "outputs": [
    {
     "name": "stdout",
     "output_type": "stream",
     "text": [
      "8\n"
     ]
    },
    {
     "data": {
      "image/svg+xml": [
       "<svg xmlns=\"http://www.w3.org/2000/svg\" xmlns:rdkit=\"http://www.rdkit.org/xml\" xmlns:xlink=\"http://www.w3.org/1999/xlink\" version=\"1.1\" baseProfile=\"full\" xml:space=\"preserve\" width=\"450px\" height=\"150px\" viewBox=\"0 0 450 150\">\n",
       "<!-- END OF HEADER -->\n",
       "<rect style=\"opacity:1.0;fill:#FFFFFF;stroke:none\" width=\"450.0\" height=\"150.0\" x=\"0.0\" y=\"0.0\"> </rect>\n",
       "<path class=\"bond-0 atom-0 atom-1\" d=\"M 54.3,66.0 L 73.3,77.0\" style=\"fill:none;fill-rule:evenodd;stroke:#0000FF;stroke-width:2.0px;stroke-linecap:butt;stroke-linejoin:miter;stroke-opacity:1\"/>\n",
       "<path class=\"bond-0 atom-0 atom-1\" d=\"M 73.3,77.0 L 92.3,88.0\" style=\"fill:none;fill-rule:evenodd;stroke:#000000;stroke-width:2.0px;stroke-linecap:butt;stroke-linejoin:miter;stroke-opacity:1\"/>\n",
       "<path class=\"bond-1 atom-1 atom-2\" d=\"M 92.3,88.0 L 137.7,61.8\" style=\"fill:none;fill-rule:evenodd;stroke:#000000;stroke-width:2.0px;stroke-linecap:butt;stroke-linejoin:miter;stroke-opacity:1\"/>\n",
       "<path class=\"bond-2 atom-2 atom-3\" d=\"M 137.7,61.8 L 183.1,88.0\" style=\"fill:none;fill-rule:evenodd;stroke:#000000;stroke-width:2.0px;stroke-linecap:butt;stroke-linejoin:miter;stroke-opacity:1\"/>\n",
       "<path class=\"bond-3 atom-3 atom-4\" d=\"M 183.1,88.0 L 228.5,61.8\" style=\"fill:none;fill-rule:evenodd;stroke:#000000;stroke-width:2.0px;stroke-linecap:butt;stroke-linejoin:miter;stroke-opacity:1\"/>\n",
       "<path class=\"bond-4 atom-4 atom-5\" d=\"M 228.5,61.8 L 273.9,88.0\" style=\"fill:none;fill-rule:evenodd;stroke:#000000;stroke-width:2.0px;stroke-linecap:butt;stroke-linejoin:miter;stroke-opacity:1\"/>\n",
       "<path class=\"bond-5 atom-6 atom-7\" d=\"M 319.3,61.8 L 337.7,72.4\" style=\"fill:none;fill-rule:evenodd;stroke:#000000;stroke-width:2.0px;stroke-linecap:butt;stroke-linejoin:miter;stroke-opacity:1\"/>\n",
       "<path class=\"bond-5 atom-6 atom-7\" d=\"M 337.7,72.4 L 356.1,83.1\" style=\"fill:none;fill-rule:evenodd;stroke:#FF0000;stroke-width:2.0px;stroke-linecap:butt;stroke-linejoin:miter;stroke-opacity:1\"/>\n",
       "<path class=\"bond-6 atom-7 atom-8\" d=\"M 373.2,83.1 L 401.5,66.7\" style=\"fill:none;fill-rule:evenodd;stroke:#FF0000;stroke-width:2.0px;stroke-linecap:butt;stroke-linejoin:miter;stroke-opacity:1\"/>\n",
       "<path class=\"bond-7 atom-5 atom-6\" d=\"M 273.9,88.0 L 319.3,61.8\" style=\"fill:none;fill-rule:evenodd;stroke:#000000;stroke-width:2.0px;stroke-linecap:butt;stroke-linejoin:miter;stroke-opacity:1\"/>\n",
       "<path class=\"atom-0\" d=\"M 20.5 54.4 L 22.5 54.4 L 22.5 60.7 L 30.1 60.7 L 30.1 54.4 L 32.1 54.4 L 32.1 69.2 L 30.1 69.2 L 30.1 62.3 L 22.5 62.3 L 22.5 69.2 L 20.5 69.2 L 20.5 54.4 \" fill=\"#0000FF\"/>\n",
       "<path class=\"atom-0\" d=\"M 33.9 68.7 Q 34.2 67.8, 35.1 67.2 Q 36.0 66.7, 37.1 66.7 Q 38.6 66.7, 39.5 67.5 Q 40.3 68.3, 40.3 69.7 Q 40.3 71.2, 39.2 72.6 Q 38.1 73.9, 35.9 75.5 L 40.5 75.5 L 40.5 76.6 L 33.9 76.6 L 33.9 75.7 Q 35.7 74.4, 36.8 73.4 Q 37.9 72.5, 38.4 71.6 Q 38.9 70.7, 38.9 69.8 Q 38.9 68.9, 38.4 68.3 Q 38.0 67.8, 37.1 67.8 Q 36.4 67.8, 35.8 68.1 Q 35.3 68.5, 34.9 69.2 L 33.9 68.7 \" fill=\"#0000FF\"/>\n",
       "<path class=\"atom-0\" d=\"M 43.6 54.4 L 48.5 62.2 Q 49.0 63.0, 49.8 64.4 Q 50.5 65.8, 50.6 65.9 L 50.6 54.4 L 52.5 54.4 L 52.5 69.2 L 50.5 69.2 L 45.3 60.6 Q 44.7 59.6, 44.0 58.4 Q 43.4 57.3, 43.2 56.9 L 43.2 69.2 L 41.3 69.2 L 41.3 54.4 L 43.6 54.4 \" fill=\"#0000FF\"/>\n",
       "<path class=\"atom-7\" d=\"M 357.9 88.0 Q 357.9 84.5, 359.6 82.5 Q 361.4 80.5, 364.7 80.5 Q 368.0 80.5, 369.7 82.5 Q 371.5 84.5, 371.5 88.0 Q 371.5 91.6, 369.7 93.7 Q 367.9 95.7, 364.7 95.7 Q 361.4 95.7, 359.6 93.7 Q 357.9 91.7, 357.9 88.0 M 364.7 94.0 Q 366.9 94.0, 368.2 92.5 Q 369.4 91.0, 369.4 88.0 Q 369.4 85.1, 368.2 83.6 Q 366.9 82.2, 364.7 82.2 Q 362.4 82.2, 361.2 83.6 Q 360.0 85.1, 360.0 88.0 Q 360.0 91.0, 361.2 92.5 Q 362.4 94.0, 364.7 94.0 \" fill=\"#FF0000\"/>\n",
       "<path class=\"atom-8\" d=\"M 403.3 61.8 Q 403.3 58.3, 405.0 56.3 Q 406.8 54.3, 410.1 54.3 Q 413.4 54.3, 415.1 56.3 Q 416.9 58.3, 416.9 61.8 Q 416.9 65.4, 415.1 67.5 Q 413.3 69.5, 410.1 69.5 Q 406.8 69.5, 405.0 67.5 Q 403.3 65.4, 403.3 61.8 M 410.1 67.8 Q 412.3 67.8, 413.5 66.3 Q 414.8 64.8, 414.8 61.8 Q 414.8 58.9, 413.5 57.4 Q 412.3 56.0, 410.1 56.0 Q 407.8 56.0, 406.6 57.4 Q 405.3 58.9, 405.3 61.8 Q 405.3 64.8, 406.6 66.3 Q 407.8 67.8, 410.1 67.8 \" fill=\"#FF0000\"/>\n",
       "<path class=\"atom-8\" d=\"M 417.9 54.4 L 419.9 54.4 L 419.9 60.8 L 427.5 60.8 L 427.5 54.4 L 429.5 54.4 L 429.5 69.3 L 427.5 69.3 L 427.5 62.4 L 419.9 62.4 L 419.9 69.3 L 417.9 69.3 L 417.9 54.4 \" fill=\"#FF0000\"/>\n",
       "</svg>"
      ],
      "text/plain": [
       "<IPython.core.display.SVG object>"
      ]
     },
     "execution_count": 15,
     "metadata": {},
     "output_type": "execute_result"
    }
   ],
   "source": [
    "big_smiles_gen(big, 1)"
   ]
  },
  {
   "cell_type": "markdown",
   "id": "7e77762a",
   "metadata": {},
   "source": [
    "## Diamines"
   ]
  },
  {
   "cell_type": "code",
   "execution_count": 16,
   "id": "03a604a8",
   "metadata": {},
   "outputs": [
    {
     "data": {
      "text/plain": [
       "'NC{[$][$]C[$][$]}|gauss(60,24)|CN.|500|'"
      ]
     },
     "execution_count": 16,
     "metadata": {},
     "output_type": "execute_result"
    }
   ],
   "source": [
    "big = \"NC{[$][$]C[$][$]}|gauss(60,24)|CN.|500|\"\n",
    "big"
   ]
  },
  {
   "cell_type": "code",
   "execution_count": 17,
   "id": "7e2e267d",
   "metadata": {},
   "outputs": [
    {
     "name": "stdout",
     "output_type": "stream",
     "text": [
      "9\n"
     ]
    },
    {
     "data": {
      "image/svg+xml": [
       "<svg xmlns=\"http://www.w3.org/2000/svg\" xmlns:rdkit=\"http://www.rdkit.org/xml\" xmlns:xlink=\"http://www.w3.org/1999/xlink\" version=\"1.1\" baseProfile=\"full\" xml:space=\"preserve\" width=\"450px\" height=\"150px\" viewBox=\"0 0 450 150\">\n",
       "<!-- END OF HEADER -->\n",
       "<rect style=\"opacity:1.0;fill:#FFFFFF;stroke:none\" width=\"450.0\" height=\"150.0\" x=\"0.0\" y=\"0.0\"> </rect>\n",
       "<path class=\"bond-0 atom-0 atom-1\" d=\"M 398.8,76.5 L 381.8,67.1\" style=\"fill:none;fill-rule:evenodd;stroke:#0000FF;stroke-width:2.0px;stroke-linecap:butt;stroke-linejoin:miter;stroke-opacity:1\"/>\n",
       "<path class=\"bond-0 atom-0 atom-1\" d=\"M 381.8,67.1 L 364.8,57.7\" style=\"fill:none;fill-rule:evenodd;stroke:#000000;stroke-width:2.0px;stroke-linecap:butt;stroke-linejoin:miter;stroke-opacity:1\"/>\n",
       "<path class=\"bond-1 atom-1 atom-2\" d=\"M 364.8,57.7 L 325.1,81.5\" style=\"fill:none;fill-rule:evenodd;stroke:#000000;stroke-width:2.0px;stroke-linecap:butt;stroke-linejoin:miter;stroke-opacity:1\"/>\n",
       "<path class=\"bond-2 atom-2 atom-3\" d=\"M 325.1,81.5 L 284.6,59.1\" style=\"fill:none;fill-rule:evenodd;stroke:#000000;stroke-width:2.0px;stroke-linecap:butt;stroke-linejoin:miter;stroke-opacity:1\"/>\n",
       "<path class=\"bond-3 atom-3 atom-4\" d=\"M 284.6,59.1 L 244.9,82.9\" style=\"fill:none;fill-rule:evenodd;stroke:#000000;stroke-width:2.0px;stroke-linecap:butt;stroke-linejoin:miter;stroke-opacity:1\"/>\n",
       "<path class=\"bond-4 atom-4 atom-5\" d=\"M 244.9,82.9 L 204.3,60.5\" style=\"fill:none;fill-rule:evenodd;stroke:#000000;stroke-width:2.0px;stroke-linecap:butt;stroke-linejoin:miter;stroke-opacity:1\"/>\n",
       "<path class=\"bond-5 atom-5 atom-6\" d=\"M 204.3,60.5 L 164.6,84.4\" style=\"fill:none;fill-rule:evenodd;stroke:#000000;stroke-width:2.0px;stroke-linecap:butt;stroke-linejoin:miter;stroke-opacity:1\"/>\n",
       "<path class=\"bond-6 atom-6 atom-7\" d=\"M 164.6,84.4 L 124.1,61.9\" style=\"fill:none;fill-rule:evenodd;stroke:#000000;stroke-width:2.0px;stroke-linecap:butt;stroke-linejoin:miter;stroke-opacity:1\"/>\n",
       "<path class=\"bond-7 atom-8 atom-9\" d=\"M 84.4,85.8 L 67.4,76.4\" style=\"fill:none;fill-rule:evenodd;stroke:#000000;stroke-width:2.0px;stroke-linecap:butt;stroke-linejoin:miter;stroke-opacity:1\"/>\n",
       "<path class=\"bond-7 atom-8 atom-9\" d=\"M 67.4,76.4 L 50.3,66.9\" style=\"fill:none;fill-rule:evenodd;stroke:#0000FF;stroke-width:2.0px;stroke-linecap:butt;stroke-linejoin:miter;stroke-opacity:1\"/>\n",
       "<path class=\"bond-8 atom-7 atom-8\" d=\"M 124.1,61.9 L 84.4,85.8\" style=\"fill:none;fill-rule:evenodd;stroke:#000000;stroke-width:2.0px;stroke-linecap:butt;stroke-linejoin:miter;stroke-opacity:1\"/>\n",
       "<path class=\"atom-0\" d=\"M 402.5 73.6 L 406.8 80.5 Q 407.2 81.2, 407.9 82.4 Q 408.5 83.7, 408.6 83.7 L 408.6 73.6 L 410.3 73.6 L 410.3 86.7 L 408.5 86.7 L 403.9 79.1 Q 403.4 78.2, 402.8 77.2 Q 402.2 76.1, 402.1 75.8 L 402.1 86.7 L 400.4 86.7 L 400.4 73.6 L 402.5 73.6 \" fill=\"#0000FF\"/>\n",
       "<path class=\"atom-0\" d=\"M 411.9 73.6 L 413.6 73.6 L 413.6 79.1 L 420.4 79.1 L 420.4 73.6 L 422.1 73.6 L 422.1 86.7 L 420.4 86.7 L 420.4 80.6 L 413.6 80.6 L 413.6 86.7 L 411.9 86.7 L 411.9 73.6 \" fill=\"#0000FF\"/>\n",
       "<path class=\"atom-0\" d=\"M 423.7 86.2 Q 424.1 85.4, 424.8 84.9 Q 425.6 84.5, 426.6 84.5 Q 427.9 84.5, 428.7 85.2 Q 429.4 85.9, 429.4 87.2 Q 429.4 88.4, 428.4 89.6 Q 427.5 90.8, 425.5 92.3 L 429.5 92.3 L 429.5 93.2 L 423.7 93.2 L 423.7 92.4 Q 425.3 91.3, 426.3 90.4 Q 427.2 89.6, 427.7 88.8 Q 428.2 88.0, 428.2 87.2 Q 428.2 86.4, 427.8 85.9 Q 427.3 85.5, 426.6 85.5 Q 425.9 85.5, 425.5 85.7 Q 425.0 86.0, 424.7 86.6 L 423.7 86.2 \" fill=\"#0000FF\"/>\n",
       "<path class=\"atom-9\" d=\"M 20.5 56.8 L 22.2 56.8 L 22.2 62.3 L 28.9 62.3 L 28.9 56.8 L 30.7 56.8 L 30.7 69.9 L 28.9 69.9 L 28.9 63.8 L 22.2 63.8 L 22.2 69.9 L 20.5 69.9 L 20.5 56.8 \" fill=\"#0000FF\"/>\n",
       "<path class=\"atom-9\" d=\"M 32.3 69.4 Q 32.6 68.6, 33.4 68.2 Q 34.2 67.7, 35.2 67.7 Q 36.5 67.7, 37.3 68.4 Q 38.0 69.1, 38.0 70.4 Q 38.0 71.7, 37.0 72.9 Q 36.1 74.1, 34.1 75.5 L 38.1 75.5 L 38.1 76.4 L 32.3 76.4 L 32.3 75.6 Q 33.9 74.5, 34.9 73.6 Q 35.8 72.8, 36.3 72.0 Q 36.8 71.2, 36.8 70.4 Q 36.8 69.6, 36.3 69.1 Q 35.9 68.7, 35.2 68.7 Q 34.5 68.7, 34.0 69.0 Q 33.6 69.2, 33.3 69.9 L 32.3 69.4 \" fill=\"#0000FF\"/>\n",
       "<path class=\"atom-9\" d=\"M 40.9 56.8 L 45.2 63.7 Q 45.7 64.4, 46.4 65.6 Q 47.0 66.9, 47.1 67.0 L 47.1 56.8 L 48.8 56.8 L 48.8 69.9 L 47.0 69.9 L 42.4 62.3 Q 41.9 61.4, 41.3 60.4 Q 40.7 59.4, 40.6 59.0 L 40.6 69.9 L 38.9 69.9 L 38.9 56.8 L 40.9 56.8 \" fill=\"#0000FF\"/>\n",
       "</svg>"
      ],
      "text/plain": [
       "<IPython.core.display.SVG object>"
      ]
     },
     "execution_count": 17,
     "metadata": {},
     "output_type": "execute_result"
    }
   ],
   "source": [
    "big_smiles_gen(big)"
   ]
  },
  {
   "cell_type": "code",
   "execution_count": 18,
   "id": "664eebc4",
   "metadata": {},
   "outputs": [
    {
     "name": "stdout",
     "output_type": "stream",
     "text": [
      "10\n"
     ]
    },
    {
     "data": {
      "image/svg+xml": [
       "<svg xmlns=\"http://www.w3.org/2000/svg\" xmlns:rdkit=\"http://www.rdkit.org/xml\" xmlns:xlink=\"http://www.w3.org/1999/xlink\" version=\"1.1\" baseProfile=\"full\" xml:space=\"preserve\" width=\"450px\" height=\"150px\" viewBox=\"0 0 450 150\">\n",
       "<!-- END OF HEADER -->\n",
       "<rect style=\"opacity:1.0;fill:#FFFFFF;stroke:none\" width=\"450.0\" height=\"150.0\" x=\"0.0\" y=\"0.0\"> </rect>\n",
       "<path class=\"bond-0 atom-0 atom-1\" d=\"M 391.4,76.2 L 370.1,64.7\" style=\"fill:none;fill-rule:evenodd;stroke:#0000FF;stroke-width:2.0px;stroke-linecap:butt;stroke-linejoin:miter;stroke-opacity:1\"/>\n",
       "<path class=\"bond-0 atom-0 atom-1\" d=\"M 370.1,64.7 L 348.8,53.1\" style=\"fill:none;fill-rule:evenodd;stroke:#000000;stroke-width:2.0px;stroke-linecap:butt;stroke-linejoin:miter;stroke-opacity:1\"/>\n",
       "<path class=\"bond-1 atom-1 atom-2\" d=\"M 348.8,53.1 L 299.7,83.3\" style=\"fill:none;fill-rule:evenodd;stroke:#000000;stroke-width:2.0px;stroke-linecap:butt;stroke-linejoin:miter;stroke-opacity:1\"/>\n",
       "<path class=\"bond-2 atom-2 atom-3\" d=\"M 299.7,83.3 L 249.0,55.9\" style=\"fill:none;fill-rule:evenodd;stroke:#000000;stroke-width:2.0px;stroke-linecap:butt;stroke-linejoin:miter;stroke-opacity:1\"/>\n",
       "<path class=\"bond-3 atom-3 atom-4\" d=\"M 249.0,55.9 L 200.0,86.1\" style=\"fill:none;fill-rule:evenodd;stroke:#000000;stroke-width:2.0px;stroke-linecap:butt;stroke-linejoin:miter;stroke-opacity:1\"/>\n",
       "<path class=\"bond-4 atom-4 atom-5\" d=\"M 200.0,86.1 L 149.3,58.7\" style=\"fill:none;fill-rule:evenodd;stroke:#000000;stroke-width:2.0px;stroke-linecap:butt;stroke-linejoin:miter;stroke-opacity:1\"/>\n",
       "<path class=\"bond-5 atom-6 atom-7\" d=\"M 100.2,88.9 L 78.9,77.4\" style=\"fill:none;fill-rule:evenodd;stroke:#000000;stroke-width:2.0px;stroke-linecap:butt;stroke-linejoin:miter;stroke-opacity:1\"/>\n",
       "<path class=\"bond-5 atom-6 atom-7\" d=\"M 78.9,77.4 L 57.6,65.9\" style=\"fill:none;fill-rule:evenodd;stroke:#0000FF;stroke-width:2.0px;stroke-linecap:butt;stroke-linejoin:miter;stroke-opacity:1\"/>\n",
       "<path class=\"bond-6 atom-5 atom-6\" d=\"M 149.3,58.7 L 100.2,88.9\" style=\"fill:none;fill-rule:evenodd;stroke:#000000;stroke-width:2.0px;stroke-linecap:butt;stroke-linejoin:miter;stroke-opacity:1\"/>\n",
       "<path class=\"atom-0\" d=\"M 395.9 72.4 L 401.2 81.0 Q 401.7 81.9, 402.6 83.4 Q 403.4 85.0, 403.5 85.1 L 403.5 72.4 L 405.7 72.4 L 405.7 88.7 L 403.4 88.7 L 397.7 79.3 Q 397.0 78.1, 396.3 76.9 Q 395.6 75.6, 395.4 75.2 L 395.4 88.7 L 393.3 88.7 L 393.3 72.4 L 395.9 72.4 \" fill=\"#0000FF\"/>\n",
       "<path class=\"atom-0\" d=\"M 407.6 72.4 L 409.8 72.4 L 409.8 79.3 L 418.1 79.3 L 418.1 72.4 L 420.3 72.4 L 420.3 88.7 L 418.1 88.7 L 418.1 81.2 L 409.8 81.2 L 409.8 88.7 L 407.6 88.7 L 407.6 72.4 \" fill=\"#0000FF\"/>\n",
       "<path class=\"atom-0\" d=\"M 422.3 88.1 Q 422.7 87.1, 423.7 86.5 Q 424.6 86.0, 425.9 86.0 Q 427.5 86.0, 428.5 86.9 Q 429.4 87.7, 429.4 89.3 Q 429.4 90.9, 428.2 92.4 Q 427.0 93.9, 424.6 95.6 L 429.5 95.6 L 429.5 96.9 L 422.3 96.9 L 422.3 95.8 Q 424.3 94.4, 425.5 93.3 Q 426.7 92.3, 427.3 91.3 Q 427.8 90.4, 427.8 89.4 Q 427.8 88.3, 427.3 87.8 Q 426.8 87.2, 425.9 87.2 Q 425.0 87.2, 424.5 87.5 Q 423.9 87.9, 423.5 88.7 L 422.3 88.1 \" fill=\"#0000FF\"/>\n",
       "<path class=\"atom-7\" d=\"M 20.5 53.3 L 22.7 53.3 L 22.7 60.3 L 31.0 60.3 L 31.0 53.3 L 33.2 53.3 L 33.2 69.7 L 31.0 69.7 L 31.0 62.1 L 22.7 62.1 L 22.7 69.7 L 20.5 69.7 L 20.5 53.3 \" fill=\"#0000FF\"/>\n",
       "<path class=\"atom-7\" d=\"M 35.2 69.1 Q 35.6 68.1, 36.5 67.5 Q 37.5 66.9, 38.8 66.9 Q 40.4 66.9, 41.3 67.8 Q 42.3 68.7, 42.3 70.3 Q 42.3 71.8, 41.1 73.3 Q 39.9 74.8, 37.5 76.6 L 42.4 76.6 L 42.4 77.8 L 35.2 77.8 L 35.2 76.8 Q 37.2 75.4, 38.4 74.3 Q 39.6 73.2, 40.2 72.3 Q 40.7 71.3, 40.7 70.3 Q 40.7 69.3, 40.2 68.7 Q 39.7 68.1, 38.8 68.1 Q 37.9 68.1, 37.4 68.5 Q 36.8 68.8, 36.4 69.6 L 35.2 69.1 \" fill=\"#0000FF\"/>\n",
       "<path class=\"atom-7\" d=\"M 45.9 53.3 L 51.3 62.0 Q 51.8 62.8, 52.7 64.4 Q 53.5 65.9, 53.6 66.0 L 53.6 53.3 L 55.7 53.3 L 55.7 69.7 L 53.5 69.7 L 47.7 60.2 Q 47.1 59.1, 46.4 57.8 Q 45.7 56.6, 45.5 56.2 L 45.5 69.7 L 43.3 69.7 L 43.3 53.3 L 45.9 53.3 \" fill=\"#0000FF\"/>\n",
       "</svg>"
      ],
      "text/plain": [
       "<IPython.core.display.SVG object>"
      ]
     },
     "execution_count": 18,
     "metadata": {},
     "output_type": "execute_result"
    }
   ],
   "source": [
    "big_smiles_gen(big, 1)"
   ]
  },
  {
   "cell_type": "markdown",
   "id": "9a2be904",
   "metadata": {},
   "source": [
    "## New: Reaction of diol with di-acid"
   ]
  },
  {
   "cell_type": "code",
   "execution_count": 19,
   "id": "cd2a583f",
   "metadata": {},
   "outputs": [
    {
     "data": {
      "text/plain": [
       "'NC{[$][$]C[$][$]}|uniform(12, 72)|COOC{[$][$]C[$][$]}|uniform(12, 72)|CO.|1000|'"
      ]
     },
     "execution_count": 19,
     "metadata": {},
     "output_type": "execute_result"
    }
   ],
   "source": [
    "big = \"NC{[$][$]C[$][$]}|uniform(12, 72)|COOC{[$][$]C[$][$]}|uniform(12, 72)|CO.|1000|\"\n",
    "big"
   ]
  },
  {
   "cell_type": "code",
   "execution_count": 20,
   "id": "9ce377b0",
   "metadata": {},
   "outputs": [
    {
     "name": "stdout",
     "output_type": "stream",
     "text": [
      "11\n"
     ]
    },
    {
     "data": {
      "image/svg+xml": [
       "<svg xmlns=\"http://www.w3.org/2000/svg\" xmlns:rdkit=\"http://www.rdkit.org/xml\" xmlns:xlink=\"http://www.w3.org/1999/xlink\" version=\"1.1\" baseProfile=\"full\" xml:space=\"preserve\" width=\"450px\" height=\"150px\" viewBox=\"0 0 450 150\">\n",
       "<!-- END OF HEADER -->\n",
       "<rect style=\"opacity:1.0;fill:#FFFFFF;stroke:none\" width=\"450.0\" height=\"150.0\" x=\"0.0\" y=\"0.0\"> </rect>\n",
       "<path class=\"bond-0 atom-0 atom-1\" d=\"M 40.8,69.6 L 52.2,76.2\" style=\"fill:none;fill-rule:evenodd;stroke:#0000FF;stroke-width:2.0px;stroke-linecap:butt;stroke-linejoin:miter;stroke-opacity:1\"/>\n",
       "<path class=\"bond-0 atom-0 atom-1\" d=\"M 52.2,76.2 L 63.6,82.8\" style=\"fill:none;fill-rule:evenodd;stroke:#000000;stroke-width:2.0px;stroke-linecap:butt;stroke-linejoin:miter;stroke-opacity:1\"/>\n",
       "<path class=\"bond-1 atom-1 atom-2\" d=\"M 63.6,82.8 L 90.8,67.1\" style=\"fill:none;fill-rule:evenodd;stroke:#000000;stroke-width:2.0px;stroke-linecap:butt;stroke-linejoin:miter;stroke-opacity:1\"/>\n",
       "<path class=\"bond-2 atom-2 atom-3\" d=\"M 90.8,67.1 L 118.1,82.8\" style=\"fill:none;fill-rule:evenodd;stroke:#000000;stroke-width:2.0px;stroke-linecap:butt;stroke-linejoin:miter;stroke-opacity:1\"/>\n",
       "<path class=\"bond-3 atom-4 atom-5\" d=\"M 227.1,82.8 L 216.0,76.4\" style=\"fill:none;fill-rule:evenodd;stroke:#000000;stroke-width:2.0px;stroke-linecap:butt;stroke-linejoin:miter;stroke-opacity:1\"/>\n",
       "<path class=\"bond-3 atom-4 atom-5\" d=\"M 216.0,76.4 L 205.0,70.0\" style=\"fill:none;fill-rule:evenodd;stroke:#FF0000;stroke-width:2.0px;stroke-linecap:butt;stroke-linejoin:miter;stroke-opacity:1\"/>\n",
       "<path class=\"bond-4 atom-5 atom-6\" d=\"M 194.7,70.0 L 177.7,79.8\" style=\"fill:none;fill-rule:evenodd;stroke:#FF0000;stroke-width:2.0px;stroke-linecap:butt;stroke-linejoin:miter;stroke-opacity:1\"/>\n",
       "<path class=\"bond-5 atom-6 atom-7\" d=\"M 167.5,79.8 L 156.4,73.5\" style=\"fill:none;fill-rule:evenodd;stroke:#FF0000;stroke-width:2.0px;stroke-linecap:butt;stroke-linejoin:miter;stroke-opacity:1\"/>\n",
       "<path class=\"bond-5 atom-6 atom-7\" d=\"M 156.4,73.5 L 145.3,67.1\" style=\"fill:none;fill-rule:evenodd;stroke:#000000;stroke-width:2.0px;stroke-linecap:butt;stroke-linejoin:miter;stroke-opacity:1\"/>\n",
       "<path class=\"bond-6 atom-3 atom-7\" d=\"M 118.1,82.8 L 145.3,67.1\" style=\"fill:none;fill-rule:evenodd;stroke:#000000;stroke-width:2.0px;stroke-linecap:butt;stroke-linejoin:miter;stroke-opacity:1\"/>\n",
       "<path class=\"bond-7 atom-4 atom-8\" d=\"M 227.1,82.8 L 254.3,67.1\" style=\"fill:none;fill-rule:evenodd;stroke:#000000;stroke-width:2.0px;stroke-linecap:butt;stroke-linejoin:miter;stroke-opacity:1\"/>\n",
       "<path class=\"bond-8 atom-8 atom-9\" d=\"M 254.3,67.1 L 281.6,82.8\" style=\"fill:none;fill-rule:evenodd;stroke:#000000;stroke-width:2.0px;stroke-linecap:butt;stroke-linejoin:miter;stroke-opacity:1\"/>\n",
       "<path class=\"bond-9 atom-9 atom-10\" d=\"M 281.6,82.8 L 308.8,67.1\" style=\"fill:none;fill-rule:evenodd;stroke:#000000;stroke-width:2.0px;stroke-linecap:butt;stroke-linejoin:miter;stroke-opacity:1\"/>\n",
       "<path class=\"bond-10 atom-10 atom-11\" d=\"M 308.8,67.1 L 336.1,82.8\" style=\"fill:none;fill-rule:evenodd;stroke:#000000;stroke-width:2.0px;stroke-linecap:butt;stroke-linejoin:miter;stroke-opacity:1\"/>\n",
       "<path class=\"bond-11 atom-11 atom-12\" d=\"M 336.1,82.8 L 363.4,67.1\" style=\"fill:none;fill-rule:evenodd;stroke:#000000;stroke-width:2.0px;stroke-linecap:butt;stroke-linejoin:miter;stroke-opacity:1\"/>\n",
       "<path class=\"bond-12 atom-13 atom-14\" d=\"M 390.6,82.8 L 401.7,76.4\" style=\"fill:none;fill-rule:evenodd;stroke:#000000;stroke-width:2.0px;stroke-linecap:butt;stroke-linejoin:miter;stroke-opacity:1\"/>\n",
       "<path class=\"bond-12 atom-13 atom-14\" d=\"M 401.7,76.4 L 412.7,70.0\" style=\"fill:none;fill-rule:evenodd;stroke:#FF0000;stroke-width:2.0px;stroke-linecap:butt;stroke-linejoin:miter;stroke-opacity:1\"/>\n",
       "<path class=\"bond-13 atom-12 atom-13\" d=\"M 363.4,67.1 L 390.6,82.8\" style=\"fill:none;fill-rule:evenodd;stroke:#000000;stroke-width:2.0px;stroke-linecap:butt;stroke-linejoin:miter;stroke-opacity:1\"/>\n",
       "<path class=\"atom-0\" d=\"M 20.5 62.6 L 21.7 62.6 L 21.7 66.4 L 26.2 66.4 L 26.2 62.6 L 27.4 62.6 L 27.4 71.5 L 26.2 71.5 L 26.2 67.4 L 21.7 67.4 L 21.7 71.5 L 20.5 71.5 L 20.5 62.6 \" fill=\"#0000FF\"/>\n",
       "<path class=\"atom-0\" d=\"M 28.5 71.2 Q 28.7 70.7, 29.2 70.3 Q 29.8 70.0, 30.5 70.0 Q 31.4 70.0, 31.9 70.5 Q 32.4 71.0, 32.4 71.8 Q 32.4 72.7, 31.7 73.5 Q 31.1 74.3, 29.7 75.3 L 32.5 75.3 L 32.5 76.0 L 28.5 76.0 L 28.5 75.4 Q 29.6 74.6, 30.2 74.1 Q 30.9 73.5, 31.2 73.0 Q 31.5 72.4, 31.5 71.9 Q 31.5 71.3, 31.2 71.0 Q 31.0 70.7, 30.5 70.7 Q 30.0 70.7, 29.7 70.9 Q 29.4 71.1, 29.1 71.5 L 28.5 71.2 \" fill=\"#0000FF\"/>\n",
       "<path class=\"atom-0\" d=\"M 34.4 62.6 L 37.3 67.3 Q 37.6 67.8, 38.0 68.6 Q 38.5 69.5, 38.5 69.5 L 38.5 62.6 L 39.7 62.6 L 39.7 71.5 L 38.5 71.5 L 35.4 66.4 Q 35.0 65.8, 34.6 65.1 Q 34.2 64.4, 34.1 64.2 L 34.1 71.5 L 33.0 71.5 L 33.0 62.6 L 34.4 62.6 \" fill=\"#0000FF\"/>\n",
       "<path class=\"atom-5\" d=\"M 195.8 67.1 Q 195.8 64.9, 196.8 63.8 Q 197.9 62.6, 199.8 62.6 Q 201.8 62.6, 202.9 63.8 Q 203.9 64.9, 203.9 67.1 Q 203.9 69.3, 202.9 70.5 Q 201.8 71.7, 199.8 71.7 Q 197.9 71.7, 196.8 70.5 Q 195.8 69.3, 195.8 67.1 M 199.8 70.7 Q 201.2 70.7, 201.9 69.8 Q 202.7 68.9, 202.7 67.1 Q 202.7 65.3, 201.9 64.5 Q 201.2 63.6, 199.8 63.6 Q 198.5 63.6, 197.7 64.4 Q 197.0 65.3, 197.0 67.1 Q 197.0 68.9, 197.7 69.8 Q 198.5 70.7, 199.8 70.7 \" fill=\"#FF0000\"/>\n",
       "<path class=\"atom-6\" d=\"M 168.5 82.8 Q 168.5 80.7, 169.6 79.5 Q 170.6 78.3, 172.6 78.3 Q 174.6 78.3, 175.6 79.5 Q 176.7 80.7, 176.7 82.8 Q 176.7 85.0, 175.6 86.2 Q 174.5 87.4, 172.6 87.4 Q 170.6 87.4, 169.6 86.2 Q 168.5 85.0, 168.5 82.8 M 172.6 86.4 Q 174.0 86.4, 174.7 85.5 Q 175.4 84.6, 175.4 82.8 Q 175.4 81.1, 174.7 80.2 Q 174.0 79.3, 172.6 79.3 Q 171.2 79.3, 170.5 80.2 Q 169.8 81.1, 169.8 82.8 Q 169.8 84.6, 170.5 85.5 Q 171.2 86.4, 172.6 86.4 \" fill=\"#FF0000\"/>\n",
       "<path class=\"atom-14\" d=\"M 413.8 67.1 Q 413.8 64.9, 414.8 63.8 Q 415.9 62.6, 417.9 62.6 Q 419.8 62.6, 420.9 63.8 Q 421.9 64.9, 421.9 67.1 Q 421.9 69.3, 420.9 70.5 Q 419.8 71.7, 417.9 71.7 Q 415.9 71.7, 414.8 70.5 Q 413.8 69.3, 413.8 67.1 M 417.9 70.7 Q 419.2 70.7, 419.9 69.8 Q 420.7 68.9, 420.7 67.1 Q 420.7 65.3, 419.9 64.5 Q 419.2 63.6, 417.9 63.6 Q 416.5 63.6, 415.8 64.4 Q 415.0 65.3, 415.0 67.1 Q 415.0 68.9, 415.8 69.8 Q 416.5 70.7, 417.9 70.7 \" fill=\"#FF0000\"/>\n",
       "<path class=\"atom-14\" d=\"M 422.6 62.7 L 423.8 62.7 L 423.8 66.4 L 428.3 66.4 L 428.3 62.7 L 429.5 62.7 L 429.5 71.6 L 428.3 71.6 L 428.3 67.5 L 423.8 67.5 L 423.8 71.6 L 422.6 71.6 L 422.6 62.7 \" fill=\"#FF0000\"/>\n",
       "</svg>"
      ],
      "text/plain": [
       "<IPython.core.display.SVG object>"
      ]
     },
     "execution_count": 20,
     "metadata": {},
     "output_type": "execute_result"
    }
   ],
   "source": [
    "big_smiles_gen(big)"
   ]
  },
  {
   "cell_type": "code",
   "execution_count": 21,
   "id": "2734ddff",
   "metadata": {},
   "outputs": [
    {
     "name": "stdout",
     "output_type": "stream",
     "text": [
      "12\n"
     ]
    },
    {
     "data": {
      "image/svg+xml": [
       "<svg xmlns=\"http://www.w3.org/2000/svg\" xmlns:rdkit=\"http://www.rdkit.org/xml\" xmlns:xlink=\"http://www.w3.org/1999/xlink\" version=\"1.1\" baseProfile=\"full\" xml:space=\"preserve\" width=\"450px\" height=\"150px\" viewBox=\"0 0 450 150\">\n",
       "<!-- END OF HEADER -->\n",
       "<rect style=\"opacity:1.0;fill:#FFFFFF;stroke:none\" width=\"450.0\" height=\"150.0\" x=\"0.0\" y=\"0.0\"> </rect>\n",
       "<path class=\"bond-0 atom-0 atom-1\" d=\"M 410.0,77.3 L 399.3,71.2\" style=\"fill:none;fill-rule:evenodd;stroke:#0000FF;stroke-width:2.0px;stroke-linecap:butt;stroke-linejoin:miter;stroke-opacity:1\"/>\n",
       "<path class=\"bond-0 atom-0 atom-1\" d=\"M 399.3,71.2 L 388.6,65.1\" style=\"fill:none;fill-rule:evenodd;stroke:#000000;stroke-width:2.0px;stroke-linecap:butt;stroke-linejoin:miter;stroke-opacity:1\"/>\n",
       "<path class=\"bond-1 atom-1 atom-2\" d=\"M 388.6,65.1 L 363.2,80.0\" style=\"fill:none;fill-rule:evenodd;stroke:#000000;stroke-width:2.0px;stroke-linecap:butt;stroke-linejoin:miter;stroke-opacity:1\"/>\n",
       "<path class=\"bond-2 atom-2 atom-3\" d=\"M 363.2,80.0 L 337.6,65.5\" style=\"fill:none;fill-rule:evenodd;stroke:#000000;stroke-width:2.0px;stroke-linecap:butt;stroke-linejoin:miter;stroke-opacity:1\"/>\n",
       "<path class=\"bond-3 atom-3 atom-4\" d=\"M 337.6,65.5 L 312.2,80.4\" style=\"fill:none;fill-rule:evenodd;stroke:#000000;stroke-width:2.0px;stroke-linecap:butt;stroke-linejoin:miter;stroke-opacity:1\"/>\n",
       "<path class=\"bond-4 atom-5 atom-6\" d=\"M 286.7,65.8 L 276.4,71.9\" style=\"fill:none;fill-rule:evenodd;stroke:#000000;stroke-width:2.0px;stroke-linecap:butt;stroke-linejoin:miter;stroke-opacity:1\"/>\n",
       "<path class=\"bond-4 atom-5 atom-6\" d=\"M 276.4,71.9 L 266.1,77.9\" style=\"fill:none;fill-rule:evenodd;stroke:#FF0000;stroke-width:2.0px;stroke-linecap:butt;stroke-linejoin:miter;stroke-opacity:1\"/>\n",
       "<path class=\"bond-5 atom-6 atom-7\" d=\"M 256.5,78.0 L 240.5,68.9\" style=\"fill:none;fill-rule:evenodd;stroke:#FF0000;stroke-width:2.0px;stroke-linecap:butt;stroke-linejoin:miter;stroke-opacity:1\"/>\n",
       "<path class=\"bond-6 atom-7 atom-8\" d=\"M 230.9,69.0 L 220.6,75.0\" style=\"fill:none;fill-rule:evenodd;stroke:#FF0000;stroke-width:2.0px;stroke-linecap:butt;stroke-linejoin:miter;stroke-opacity:1\"/>\n",
       "<path class=\"bond-6 atom-7 atom-8\" d=\"M 220.6,75.0 L 210.3,81.1\" style=\"fill:none;fill-rule:evenodd;stroke:#000000;stroke-width:2.0px;stroke-linecap:butt;stroke-linejoin:miter;stroke-opacity:1\"/>\n",
       "<path class=\"bond-7 atom-4 atom-5\" d=\"M 312.2,80.4 L 286.7,65.8\" style=\"fill:none;fill-rule:evenodd;stroke:#000000;stroke-width:2.0px;stroke-linecap:butt;stroke-linejoin:miter;stroke-opacity:1\"/>\n",
       "<path class=\"bond-8 atom-8 atom-9\" d=\"M 210.3,81.1 L 184.7,66.5\" style=\"fill:none;fill-rule:evenodd;stroke:#000000;stroke-width:2.0px;stroke-linecap:butt;stroke-linejoin:miter;stroke-opacity:1\"/>\n",
       "<path class=\"bond-9 atom-9 atom-10\" d=\"M 184.7,66.5 L 159.3,81.4\" style=\"fill:none;fill-rule:evenodd;stroke:#000000;stroke-width:2.0px;stroke-linecap:butt;stroke-linejoin:miter;stroke-opacity:1\"/>\n",
       "<path class=\"bond-10 atom-10 atom-11\" d=\"M 159.3,81.4 L 133.7,66.9\" style=\"fill:none;fill-rule:evenodd;stroke:#000000;stroke-width:2.0px;stroke-linecap:butt;stroke-linejoin:miter;stroke-opacity:1\"/>\n",
       "<path class=\"bond-11 atom-11 atom-12\" d=\"M 133.7,66.9 L 108.4,81.8\" style=\"fill:none;fill-rule:evenodd;stroke:#000000;stroke-width:2.0px;stroke-linecap:butt;stroke-linejoin:miter;stroke-opacity:1\"/>\n",
       "<path class=\"bond-12 atom-12 atom-13\" d=\"M 108.4,81.8 L 82.8,67.2\" style=\"fill:none;fill-rule:evenodd;stroke:#000000;stroke-width:2.0px;stroke-linecap:butt;stroke-linejoin:miter;stroke-opacity:1\"/>\n",
       "<path class=\"bond-13 atom-14 atom-15\" d=\"M 57.4,82.1 L 47.0,76.2\" style=\"fill:none;fill-rule:evenodd;stroke:#000000;stroke-width:2.0px;stroke-linecap:butt;stroke-linejoin:miter;stroke-opacity:1\"/>\n",
       "<path class=\"bond-13 atom-14 atom-15\" d=\"M 47.0,76.2 L 36.6,70.3\" style=\"fill:none;fill-rule:evenodd;stroke:#FF0000;stroke-width:2.0px;stroke-linecap:butt;stroke-linejoin:miter;stroke-opacity:1\"/>\n",
       "<path class=\"bond-14 atom-13 atom-14\" d=\"M 82.8,67.2 L 57.4,82.1\" style=\"fill:none;fill-rule:evenodd;stroke:#000000;stroke-width:2.0px;stroke-linecap:butt;stroke-linejoin:miter;stroke-opacity:1\"/>\n",
       "<path class=\"atom-0\" d=\"M 412.3 75.5 L 415.1 79.9 Q 415.3 80.4, 415.8 81.2 Q 416.2 81.9, 416.2 82.0 L 416.2 75.5 L 417.3 75.5 L 417.3 83.9 L 416.2 83.9 L 413.3 79.0 Q 412.9 78.5, 412.6 77.8 Q 412.2 77.2, 412.1 77.0 L 412.1 83.9 L 411.0 83.9 L 411.0 75.5 L 412.3 75.5 \" fill=\"#0000FF\"/>\n",
       "<path class=\"atom-0\" d=\"M 418.3 75.5 L 419.4 75.5 L 419.4 79.1 L 423.7 79.1 L 423.7 75.5 L 424.8 75.5 L 424.8 83.9 L 423.7 83.9 L 423.7 80.0 L 419.4 80.0 L 419.4 83.9 L 418.3 83.9 L 418.3 75.5 \" fill=\"#0000FF\"/>\n",
       "<path class=\"atom-0\" d=\"M 425.9 83.6 Q 426.1 83.0, 426.5 82.8 Q 427.0 82.5, 427.7 82.5 Q 428.5 82.5, 429.0 82.9 Q 429.5 83.4, 429.5 84.2 Q 429.5 85.0, 428.8 85.7 Q 428.2 86.5, 427.0 87.4 L 429.5 87.4 L 429.5 88.0 L 425.8 88.0 L 425.8 87.5 Q 426.9 86.8, 427.5 86.2 Q 428.1 85.7, 428.4 85.2 Q 428.7 84.7, 428.7 84.2 Q 428.7 83.7, 428.4 83.4 Q 428.1 83.1, 427.7 83.1 Q 427.2 83.1, 427.0 83.3 Q 426.7 83.4, 426.4 83.8 L 425.9 83.6 \" fill=\"#0000FF\"/>\n",
       "<path class=\"atom-6\" d=\"M 257.4 80.8 Q 257.4 78.8, 258.4 77.6 Q 259.4 76.5, 261.3 76.5 Q 263.1 76.5, 264.1 77.6 Q 265.1 78.8, 265.1 80.8 Q 265.1 82.8, 264.1 83.9 Q 263.1 85.1, 261.3 85.1 Q 259.4 85.1, 258.4 83.9 Q 257.4 82.8, 257.4 80.8 M 261.3 84.1 Q 262.5 84.1, 263.2 83.3 Q 263.9 82.4, 263.9 80.8 Q 263.9 79.1, 263.2 78.3 Q 262.5 77.5, 261.3 77.5 Q 260.0 77.5, 259.3 78.3 Q 258.6 79.1, 258.6 80.8 Q 258.6 82.4, 259.3 83.3 Q 260.0 84.1, 261.3 84.1 \" fill=\"#FF0000\"/>\n",
       "<path class=\"atom-7\" d=\"M 231.9 66.2 Q 231.9 64.2, 232.8 63.1 Q 233.8 62.0, 235.7 62.0 Q 237.5 62.0, 238.5 63.1 Q 239.5 64.2, 239.5 66.2 Q 239.5 68.2, 238.5 69.4 Q 237.5 70.5, 235.7 70.5 Q 233.8 70.5, 232.8 69.4 Q 231.9 68.3, 231.9 66.2 M 235.7 69.6 Q 237.0 69.6, 237.6 68.7 Q 238.3 67.9, 238.3 66.2 Q 238.3 64.6, 237.6 63.8 Q 237.0 62.9, 235.7 62.9 Q 234.4 62.9, 233.7 63.7 Q 233.0 64.6, 233.0 66.2 Q 233.0 67.9, 233.7 68.7 Q 234.4 69.6, 235.7 69.6 \" fill=\"#FF0000\"/>\n",
       "<path class=\"atom-15\" d=\"M 20.5 63.5 L 21.6 63.5 L 21.6 67.0 L 25.8 67.0 L 25.8 63.5 L 27.0 63.5 L 27.0 71.8 L 25.8 71.8 L 25.8 67.9 L 21.6 67.9 L 21.6 71.8 L 20.5 71.8 L 20.5 63.5 \" fill=\"#FF0000\"/>\n",
       "<path class=\"atom-15\" d=\"M 28.0 67.6 Q 28.0 65.6, 29.0 64.5 Q 30.0 63.4, 31.8 63.4 Q 33.7 63.4, 34.6 64.5 Q 35.6 65.6, 35.6 67.6 Q 35.6 69.6, 34.6 70.8 Q 33.6 71.9, 31.8 71.9 Q 30.0 71.9, 29.0 70.8 Q 28.0 69.6, 28.0 67.6 M 31.8 71.0 Q 33.1 71.0, 33.8 70.1 Q 34.5 69.3, 34.5 67.6 Q 34.5 66.0, 33.8 65.1 Q 33.1 64.3, 31.8 64.3 Q 30.5 64.3, 29.8 65.1 Q 29.2 66.0, 29.2 67.6 Q 29.2 69.3, 29.8 70.1 Q 30.5 71.0, 31.8 71.0 \" fill=\"#FF0000\"/>\n",
       "</svg>"
      ],
      "text/plain": [
       "<IPython.core.display.SVG object>"
      ]
     },
     "execution_count": 21,
     "metadata": {},
     "output_type": "execute_result"
    }
   ],
   "source": [
    "big_smiles_gen(big, 1)"
   ]
  },
  {
   "cell_type": "markdown",
   "id": "0a23f756",
   "metadata": {},
   "source": [
    "## Same diol and di-acid reaction, but with phenyl ring"
   ]
  },
  {
   "cell_type": "code",
   "execution_count": 22,
   "id": "dde1bc42",
   "metadata": {},
   "outputs": [
    {
     "data": {
      "text/plain": [
       "'NC{[$][$]C[$][$]}|uniform(12, 72)|COOC{[$][$]C([$])C1CCCCC1[$]}|uniform(50, 250)|CO.|1000|'"
      ]
     },
     "execution_count": 22,
     "metadata": {},
     "output_type": "execute_result"
    }
   ],
   "source": [
    "big = \"NC{[$][$]C[$][$]}|uniform(12, 72)|COOC{[$][$]C([$])C1CCCCC1[$]}|uniform(50, 250)|CO.|1000|\"\n",
    "big"
   ]
  },
  {
   "cell_type": "code",
   "execution_count": 23,
   "id": "de751cdf",
   "metadata": {},
   "outputs": [
    {
     "name": "stdout",
     "output_type": "stream",
     "text": [
      "13\n"
     ]
    },
    {
     "data": {
      "image/svg+xml": [
       "<svg xmlns=\"http://www.w3.org/2000/svg\" xmlns:rdkit=\"http://www.rdkit.org/xml\" xmlns:xlink=\"http://www.w3.org/1999/xlink\" version=\"1.1\" baseProfile=\"full\" xml:space=\"preserve\" width=\"450px\" height=\"150px\" viewBox=\"0 0 450 150\">\n",
       "<!-- END OF HEADER -->\n",
       "<rect style=\"opacity:1.0;fill:#FFFFFF;stroke:none\" width=\"450.0\" height=\"150.0\" x=\"0.0\" y=\"0.0\"> </rect>\n",
       "<path class=\"bond-0 atom-0 atom-1\" d=\"M 128.9,78.4 L 135.4,72.9\" style=\"fill:none;fill-rule:evenodd;stroke:#0000FF;stroke-width:2.0px;stroke-linecap:butt;stroke-linejoin:miter;stroke-opacity:1\"/>\n",
       "<path class=\"bond-0 atom-0 atom-1\" d=\"M 135.4,72.9 L 141.8,67.4\" style=\"fill:none;fill-rule:evenodd;stroke:#000000;stroke-width:2.0px;stroke-linecap:butt;stroke-linejoin:miter;stroke-opacity:1\"/>\n",
       "<path class=\"bond-1 atom-1 atom-2\" d=\"M 141.8,67.4 L 161.5,74.3\" style=\"fill:none;fill-rule:evenodd;stroke:#000000;stroke-width:2.0px;stroke-linecap:butt;stroke-linejoin:miter;stroke-opacity:1\"/>\n",
       "<path class=\"bond-2 atom-2 atom-3\" d=\"M 161.5,74.3 L 177.3,60.8\" style=\"fill:none;fill-rule:evenodd;stroke:#000000;stroke-width:2.0px;stroke-linecap:butt;stroke-linejoin:miter;stroke-opacity:1\"/>\n",
       "<path class=\"bond-3 atom-4 atom-5\" d=\"M 248.2,47.5 L 242.0,52.8\" style=\"fill:none;fill-rule:evenodd;stroke:#000000;stroke-width:2.0px;stroke-linecap:butt;stroke-linejoin:miter;stroke-opacity:1\"/>\n",
       "<path class=\"bond-3 atom-4 atom-5\" d=\"M 242.0,52.8 L 235.8,58.1\" style=\"fill:none;fill-rule:evenodd;stroke:#FF0000;stroke-width:2.0px;stroke-linecap:butt;stroke-linejoin:miter;stroke-opacity:1\"/>\n",
       "<path class=\"bond-4 atom-5 atom-6\" d=\"M 229.0,59.8 L 216.1,55.3\" style=\"fill:none;fill-rule:evenodd;stroke:#FF0000;stroke-width:2.0px;stroke-linecap:butt;stroke-linejoin:miter;stroke-opacity:1\"/>\n",
       "<path class=\"bond-5 atom-6 atom-7\" d=\"M 209.3,57.0 L 203.1,62.4\" style=\"fill:none;fill-rule:evenodd;stroke:#FF0000;stroke-width:2.0px;stroke-linecap:butt;stroke-linejoin:miter;stroke-opacity:1\"/>\n",
       "<path class=\"bond-5 atom-6 atom-7\" d=\"M 203.1,62.4 L 196.9,67.7\" style=\"fill:none;fill-rule:evenodd;stroke:#000000;stroke-width:2.0px;stroke-linecap:butt;stroke-linejoin:miter;stroke-opacity:1\"/>\n",
       "<path class=\"bond-6 atom-3 atom-7\" d=\"M 177.3,60.8 L 196.9,67.7\" style=\"fill:none;fill-rule:evenodd;stroke:#000000;stroke-width:2.0px;stroke-linecap:butt;stroke-linejoin:miter;stroke-opacity:1\"/>\n",
       "<path class=\"bond-7 atom-8 atom-9\" d=\"M 267.8,54.4 L 283.6,40.8\" style=\"fill:none;fill-rule:evenodd;stroke:#000000;stroke-width:2.0px;stroke-linecap:butt;stroke-linejoin:miter;stroke-opacity:1\"/>\n",
       "<path class=\"bond-8 atom-9 atom-10\" d=\"M 283.6,40.8 L 303.3,47.8\" style=\"fill:none;fill-rule:evenodd;stroke:#000000;stroke-width:2.0px;stroke-linecap:butt;stroke-linejoin:miter;stroke-opacity:1\"/>\n",
       "<path class=\"bond-9 atom-10 atom-11\" d=\"M 303.3,47.8 L 319.1,34.2\" style=\"fill:none;fill-rule:evenodd;stroke:#000000;stroke-width:2.0px;stroke-linecap:butt;stroke-linejoin:miter;stroke-opacity:1\"/>\n",
       "<path class=\"bond-10 atom-11 atom-12\" d=\"M 319.1,34.2 L 315.3,13.7\" style=\"fill:none;fill-rule:evenodd;stroke:#000000;stroke-width:2.0px;stroke-linecap:butt;stroke-linejoin:miter;stroke-opacity:1\"/>\n",
       "<path class=\"bond-11 atom-12 atom-13\" d=\"M 315.3,13.7 L 295.6,6.8\" style=\"fill:none;fill-rule:evenodd;stroke:#000000;stroke-width:2.0px;stroke-linecap:butt;stroke-linejoin:miter;stroke-opacity:1\"/>\n",
       "<path class=\"bond-12 atom-13 atom-14\" d=\"M 295.6,6.8 L 279.8,20.4\" style=\"fill:none;fill-rule:evenodd;stroke:#000000;stroke-width:2.0px;stroke-linecap:butt;stroke-linejoin:miter;stroke-opacity:1\"/>\n",
       "<path class=\"bond-13 atom-14 atom-9\" d=\"M 279.8,20.4 L 283.6,40.8\" style=\"fill:none;fill-rule:evenodd;stroke:#000000;stroke-width:2.0px;stroke-linecap:butt;stroke-linejoin:miter;stroke-opacity:1\"/>\n",
       "<path class=\"bond-14 atom-4 atom-8\" d=\"M 248.2,47.5 L 267.8,54.4\" style=\"fill:none;fill-rule:evenodd;stroke:#000000;stroke-width:2.0px;stroke-linecap:butt;stroke-linejoin:miter;stroke-opacity:1\"/>\n",
       "<path class=\"bond-15 atom-15 atom-16\" d=\"M 271.7,74.9 L 255.9,88.4\" style=\"fill:none;fill-rule:evenodd;stroke:#000000;stroke-width:2.0px;stroke-linecap:butt;stroke-linejoin:miter;stroke-opacity:1\"/>\n",
       "<path class=\"bond-16 atom-16 atom-17\" d=\"M 255.9,88.4 L 236.2,81.5\" style=\"fill:none;fill-rule:evenodd;stroke:#000000;stroke-width:2.0px;stroke-linecap:butt;stroke-linejoin:miter;stroke-opacity:1\"/>\n",
       "<path class=\"bond-17 atom-17 atom-18\" d=\"M 236.2,81.5 L 220.4,95.1\" style=\"fill:none;fill-rule:evenodd;stroke:#000000;stroke-width:2.0px;stroke-linecap:butt;stroke-linejoin:miter;stroke-opacity:1\"/>\n",
       "<path class=\"bond-18 atom-18 atom-19\" d=\"M 220.4,95.1 L 224.2,115.5\" style=\"fill:none;fill-rule:evenodd;stroke:#000000;stroke-width:2.0px;stroke-linecap:butt;stroke-linejoin:miter;stroke-opacity:1\"/>\n",
       "<path class=\"bond-19 atom-19 atom-20\" d=\"M 224.2,115.5 L 243.9,122.4\" style=\"fill:none;fill-rule:evenodd;stroke:#000000;stroke-width:2.0px;stroke-linecap:butt;stroke-linejoin:miter;stroke-opacity:1\"/>\n",
       "<path class=\"bond-20 atom-20 atom-21\" d=\"M 243.9,122.4 L 259.7,108.9\" style=\"fill:none;fill-rule:evenodd;stroke:#000000;stroke-width:2.0px;stroke-linecap:butt;stroke-linejoin:miter;stroke-opacity:1\"/>\n",
       "<path class=\"bond-21 atom-21 atom-16\" d=\"M 259.7,108.9 L 255.9,88.4\" style=\"fill:none;fill-rule:evenodd;stroke:#000000;stroke-width:2.0px;stroke-linecap:butt;stroke-linejoin:miter;stroke-opacity:1\"/>\n",
       "<path class=\"bond-22 atom-8 atom-15\" d=\"M 267.8,54.4 L 271.7,74.9\" style=\"fill:none;fill-rule:evenodd;stroke:#000000;stroke-width:2.0px;stroke-linecap:butt;stroke-linejoin:miter;stroke-opacity:1\"/>\n",
       "<path class=\"bond-23 atom-22 atom-23\" d=\"M 291.3,81.8 L 295.1,102.2\" style=\"fill:none;fill-rule:evenodd;stroke:#000000;stroke-width:2.0px;stroke-linecap:butt;stroke-linejoin:miter;stroke-opacity:1\"/>\n",
       "<path class=\"bond-24 atom-23 atom-24\" d=\"M 295.1,102.2 L 314.8,109.2\" style=\"fill:none;fill-rule:evenodd;stroke:#000000;stroke-width:2.0px;stroke-linecap:butt;stroke-linejoin:miter;stroke-opacity:1\"/>\n",
       "<path class=\"bond-25 atom-24 atom-25\" d=\"M 314.8,109.2 L 318.6,129.6\" style=\"fill:none;fill-rule:evenodd;stroke:#000000;stroke-width:2.0px;stroke-linecap:butt;stroke-linejoin:miter;stroke-opacity:1\"/>\n",
       "<path class=\"bond-26 atom-25 atom-26\" d=\"M 318.6,129.6 L 302.8,143.2\" style=\"fill:none;fill-rule:evenodd;stroke:#000000;stroke-width:2.0px;stroke-linecap:butt;stroke-linejoin:miter;stroke-opacity:1\"/>\n",
       "<path class=\"bond-27 atom-26 atom-27\" d=\"M 302.8,143.2 L 283.2,136.3\" style=\"fill:none;fill-rule:evenodd;stroke:#000000;stroke-width:2.0px;stroke-linecap:butt;stroke-linejoin:miter;stroke-opacity:1\"/>\n",
       "<path class=\"bond-28 atom-27 atom-28\" d=\"M 283.2,136.3 L 279.3,115.8\" style=\"fill:none;fill-rule:evenodd;stroke:#000000;stroke-width:2.0px;stroke-linecap:butt;stroke-linejoin:miter;stroke-opacity:1\"/>\n",
       "<path class=\"bond-29 atom-28 atom-23\" d=\"M 279.3,115.8 L 295.1,102.2\" style=\"fill:none;fill-rule:evenodd;stroke:#000000;stroke-width:2.0px;stroke-linecap:butt;stroke-linejoin:miter;stroke-opacity:1\"/>\n",
       "<path class=\"bond-30 atom-15 atom-22\" d=\"M 271.7,74.9 L 291.3,81.8\" style=\"fill:none;fill-rule:evenodd;stroke:#000000;stroke-width:2.0px;stroke-linecap:butt;stroke-linejoin:miter;stroke-opacity:1\"/>\n",
       "<path class=\"bond-31 atom-29 atom-30\" d=\"M 307.1,68.2 L 315.2,71.1\" style=\"fill:none;fill-rule:evenodd;stroke:#000000;stroke-width:2.0px;stroke-linecap:butt;stroke-linejoin:miter;stroke-opacity:1\"/>\n",
       "<path class=\"bond-31 atom-29 atom-30\" d=\"M 315.2,71.1 L 323.4,73.9\" style=\"fill:none;fill-rule:evenodd;stroke:#FF0000;stroke-width:2.0px;stroke-linecap:butt;stroke-linejoin:miter;stroke-opacity:1\"/>\n",
       "<path class=\"bond-32 atom-22 atom-29\" d=\"M 291.3,81.8 L 307.1,68.2\" style=\"fill:none;fill-rule:evenodd;stroke:#000000;stroke-width:2.0px;stroke-linecap:butt;stroke-linejoin:miter;stroke-opacity:1\"/>\n",
       "<path class=\"atom-0\" d=\"M 115.5 78.0 L 116.3 78.0 L 116.3 80.5 L 119.3 80.5 L 119.3 78.0 L 120.1 78.0 L 120.1 83.9 L 119.3 83.9 L 119.3 81.2 L 116.3 81.2 L 116.3 83.9 L 115.5 83.9 L 115.5 78.0 \" fill=\"#0000FF\"/>\n",
       "<path class=\"atom-0\" d=\"M 120.8 83.7 Q 121.0 83.3, 121.3 83.1 Q 121.7 82.9, 122.1 82.9 Q 122.7 82.9, 123.1 83.2 Q 123.4 83.6, 123.4 84.1 Q 123.4 84.7, 123.0 85.2 Q 122.5 85.8, 121.7 86.4 L 123.5 86.4 L 123.5 86.8 L 120.8 86.8 L 120.8 86.5 Q 121.6 86.0, 122.0 85.6 Q 122.4 85.2, 122.6 84.8 Q 122.8 84.5, 122.8 84.1 Q 122.8 83.8, 122.6 83.6 Q 122.5 83.4, 122.1 83.4 Q 121.8 83.4, 121.6 83.5 Q 121.4 83.6, 121.3 83.9 L 120.8 83.7 \" fill=\"#0000FF\"/>\n",
       "<path class=\"atom-0\" d=\"M 124.7 78.0 L 126.6 81.1 Q 126.8 81.4, 127.1 82.0 Q 127.5 82.6, 127.5 82.6 L 127.5 78.0 L 128.3 78.0 L 128.3 83.9 L 127.4 83.9 L 125.4 80.5 Q 125.1 80.1, 124.9 79.6 Q 124.6 79.2, 124.5 79.0 L 124.5 83.9 L 123.8 83.9 L 123.8 78.0 L 124.7 78.0 \" fill=\"#0000FF\"/>\n",
       "<path class=\"atom-5\" d=\"M 229.7 61.1 Q 229.7 59.6, 230.4 58.8 Q 231.1 58.1, 232.4 58.1 Q 233.7 58.1, 234.4 58.8 Q 235.1 59.6, 235.1 61.1 Q 235.1 62.5, 234.4 63.3 Q 233.7 64.1, 232.4 64.1 Q 231.1 64.1, 230.4 63.3 Q 229.7 62.5, 229.7 61.1 M 232.4 63.4 Q 233.3 63.4, 233.8 62.8 Q 234.2 62.2, 234.2 61.1 Q 234.2 59.9, 233.8 59.3 Q 233.3 58.7, 232.4 58.7 Q 231.5 58.7, 231.0 59.3 Q 230.5 59.9, 230.5 61.1 Q 230.5 62.2, 231.0 62.8 Q 231.5 63.4, 232.4 63.4 \" fill=\"#FF0000\"/>\n",
       "<path class=\"atom-6\" d=\"M 210.0 54.1 Q 210.0 52.7, 210.7 51.9 Q 211.4 51.1, 212.7 51.1 Q 214.0 51.1, 214.7 51.9 Q 215.4 52.7, 215.4 54.1 Q 215.4 55.6, 214.7 56.4 Q 214.0 57.2, 212.7 57.2 Q 211.4 57.2, 210.7 56.4 Q 210.0 55.6, 210.0 54.1 M 212.7 56.5 Q 213.6 56.5, 214.1 55.9 Q 214.6 55.3, 214.6 54.1 Q 214.6 53.0, 214.1 52.4 Q 213.6 51.8, 212.7 51.8 Q 211.8 51.8, 211.3 52.4 Q 210.9 53.0, 210.9 54.1 Q 210.9 55.3, 211.3 55.9 Q 211.8 56.5, 212.7 56.5 \" fill=\"#FF0000\"/>\n",
       "<path class=\"atom-30\" d=\"M 324.0 75.2 Q 324.0 73.7, 324.7 72.9 Q 325.4 72.2, 326.8 72.2 Q 328.1 72.2, 328.8 72.9 Q 329.5 73.7, 329.5 75.2 Q 329.5 76.6, 328.8 77.4 Q 328.0 78.2, 326.8 78.2 Q 325.5 78.2, 324.7 77.4 Q 324.0 76.6, 324.0 75.2 M 326.8 77.5 Q 327.7 77.5, 328.1 76.9 Q 328.6 76.3, 328.6 75.2 Q 328.6 74.0, 328.1 73.4 Q 327.7 72.8, 326.8 72.8 Q 325.9 72.8, 325.4 73.4 Q 324.9 74.0, 324.9 75.2 Q 324.9 76.3, 325.4 76.9 Q 325.9 77.5, 326.8 77.5 \" fill=\"#FF0000\"/>\n",
       "<path class=\"atom-30\" d=\"M 329.9 72.2 L 330.7 72.2 L 330.7 74.7 L 333.7 74.7 L 333.7 72.2 L 334.5 72.2 L 334.5 78.1 L 333.7 78.1 L 333.7 75.4 L 330.7 75.4 L 330.7 78.1 L 329.9 78.1 L 329.9 72.2 \" fill=\"#FF0000\"/>\n",
       "</svg>"
      ],
      "text/plain": [
       "<IPython.core.display.SVG object>"
      ]
     },
     "execution_count": 23,
     "metadata": {},
     "output_type": "execute_result"
    }
   ],
   "source": [
    "big_smiles_gen(big)"
   ]
  },
  {
   "cell_type": "code",
   "execution_count": 24,
   "id": "cb75c155",
   "metadata": {},
   "outputs": [
    {
     "name": "stdout",
     "output_type": "stream",
     "text": [
      "14\n"
     ]
    },
    {
     "data": {
      "image/svg+xml": [
       "<svg xmlns=\"http://www.w3.org/2000/svg\" xmlns:rdkit=\"http://www.rdkit.org/xml\" xmlns:xlink=\"http://www.w3.org/1999/xlink\" version=\"1.1\" baseProfile=\"full\" xml:space=\"preserve\" width=\"450px\" height=\"150px\" viewBox=\"0 0 450 150\">\n",
       "<!-- END OF HEADER -->\n",
       "<rect style=\"opacity:1.0;fill:#FFFFFF;stroke:none\" width=\"450.0\" height=\"150.0\" x=\"0.0\" y=\"0.0\"> </rect>\n",
       "<path class=\"bond-0 atom-0 atom-1\" d=\"M 89.1,81.1 L 99.8,85.7\" style=\"fill:none;fill-rule:evenodd;stroke:#0000FF;stroke-width:2.0px;stroke-linecap:butt;stroke-linejoin:miter;stroke-opacity:1\"/>\n",
       "<path class=\"bond-0 atom-0 atom-1\" d=\"M 99.8,85.7 L 110.5,90.3\" style=\"fill:none;fill-rule:evenodd;stroke:#000000;stroke-width:2.0px;stroke-linecap:butt;stroke-linejoin:miter;stroke-opacity:1\"/>\n",
       "<path class=\"bond-1 atom-1 atom-2\" d=\"M 110.5,90.3 L 132.5,73.7\" style=\"fill:none;fill-rule:evenodd;stroke:#000000;stroke-width:2.0px;stroke-linecap:butt;stroke-linejoin:miter;stroke-opacity:1\"/>\n",
       "<path class=\"bond-2 atom-2 atom-3\" d=\"M 132.5,73.7 L 157.7,84.5\" style=\"fill:none;fill-rule:evenodd;stroke:#000000;stroke-width:2.0px;stroke-linecap:butt;stroke-linejoin:miter;stroke-opacity:1\"/>\n",
       "<path class=\"bond-3 atom-3 atom-4\" d=\"M 157.7,84.5 L 179.7,67.9\" style=\"fill:none;fill-rule:evenodd;stroke:#000000;stroke-width:2.0px;stroke-linecap:butt;stroke-linejoin:miter;stroke-opacity:1\"/>\n",
       "<path class=\"bond-4 atom-5 atom-6\" d=\"M 205.0,78.7 L 213.7,72.1\" style=\"fill:none;fill-rule:evenodd;stroke:#000000;stroke-width:2.0px;stroke-linecap:butt;stroke-linejoin:miter;stroke-opacity:1\"/>\n",
       "<path class=\"bond-4 atom-5 atom-6\" d=\"M 213.7,72.1 L 222.5,65.5\" style=\"fill:none;fill-rule:evenodd;stroke:#FF0000;stroke-width:2.0px;stroke-linecap:butt;stroke-linejoin:miter;stroke-opacity:1\"/>\n",
       "<path class=\"bond-5 atom-6 atom-7\" d=\"M 231.4,64.1 L 247.7,71.0\" style=\"fill:none;fill-rule:evenodd;stroke:#FF0000;stroke-width:2.0px;stroke-linecap:butt;stroke-linejoin:miter;stroke-opacity:1\"/>\n",
       "<path class=\"bond-6 atom-7 atom-8\" d=\"M 256.7,69.5 L 265.4,63.0\" style=\"fill:none;fill-rule:evenodd;stroke:#FF0000;stroke-width:2.0px;stroke-linecap:butt;stroke-linejoin:miter;stroke-opacity:1\"/>\n",
       "<path class=\"bond-6 atom-7 atom-8\" d=\"M 265.4,63.0 L 274.2,56.4\" style=\"fill:none;fill-rule:evenodd;stroke:#000000;stroke-width:2.0px;stroke-linecap:butt;stroke-linejoin:miter;stroke-opacity:1\"/>\n",
       "<path class=\"bond-7 atom-4 atom-5\" d=\"M 179.7,67.9 L 205.0,78.7\" style=\"fill:none;fill-rule:evenodd;stroke:#000000;stroke-width:2.0px;stroke-linecap:butt;stroke-linejoin:miter;stroke-opacity:1\"/>\n",
       "<path class=\"bond-8 atom-9 atom-10\" d=\"M 299.5,67.1 L 321.4,50.6\" style=\"fill:none;fill-rule:evenodd;stroke:#000000;stroke-width:2.0px;stroke-linecap:butt;stroke-linejoin:miter;stroke-opacity:1\"/>\n",
       "<path class=\"bond-9 atom-10 atom-11\" d=\"M 321.4,50.6 L 346.7,61.4\" style=\"fill:none;fill-rule:evenodd;stroke:#000000;stroke-width:2.0px;stroke-linecap:butt;stroke-linejoin:miter;stroke-opacity:1\"/>\n",
       "<path class=\"bond-10 atom-11 atom-12\" d=\"M 346.7,61.4 L 368.6,44.8\" style=\"fill:none;fill-rule:evenodd;stroke:#000000;stroke-width:2.0px;stroke-linecap:butt;stroke-linejoin:miter;stroke-opacity:1\"/>\n",
       "<path class=\"bond-11 atom-12 atom-13\" d=\"M 368.6,44.8 L 365.3,17.6\" style=\"fill:none;fill-rule:evenodd;stroke:#000000;stroke-width:2.0px;stroke-linecap:butt;stroke-linejoin:miter;stroke-opacity:1\"/>\n",
       "<path class=\"bond-12 atom-13 atom-14\" d=\"M 365.3,17.6 L 340.0,6.8\" style=\"fill:none;fill-rule:evenodd;stroke:#000000;stroke-width:2.0px;stroke-linecap:butt;stroke-linejoin:miter;stroke-opacity:1\"/>\n",
       "<path class=\"bond-13 atom-14 atom-15\" d=\"M 340.0,6.8 L 318.1,23.3\" style=\"fill:none;fill-rule:evenodd;stroke:#000000;stroke-width:2.0px;stroke-linecap:butt;stroke-linejoin:miter;stroke-opacity:1\"/>\n",
       "<path class=\"bond-14 atom-15 atom-10\" d=\"M 318.1,23.3 L 321.4,50.6\" style=\"fill:none;fill-rule:evenodd;stroke:#000000;stroke-width:2.0px;stroke-linecap:butt;stroke-linejoin:miter;stroke-opacity:1\"/>\n",
       "<path class=\"bond-15 atom-8 atom-9\" d=\"M 274.2,56.4 L 299.5,67.1\" style=\"fill:none;fill-rule:evenodd;stroke:#000000;stroke-width:2.0px;stroke-linecap:butt;stroke-linejoin:miter;stroke-opacity:1\"/>\n",
       "<path class=\"bond-16 atom-16 atom-17\" d=\"M 302.8,94.4 L 328.1,105.2\" style=\"fill:none;fill-rule:evenodd;stroke:#000000;stroke-width:2.0px;stroke-linecap:butt;stroke-linejoin:miter;stroke-opacity:1\"/>\n",
       "<path class=\"bond-17 atom-17 atom-18\" d=\"M 328.1,105.2 L 331.4,132.4\" style=\"fill:none;fill-rule:evenodd;stroke:#000000;stroke-width:2.0px;stroke-linecap:butt;stroke-linejoin:miter;stroke-opacity:1\"/>\n",
       "<path class=\"bond-18 atom-18 atom-19\" d=\"M 331.4,132.4 L 356.7,143.2\" style=\"fill:none;fill-rule:evenodd;stroke:#000000;stroke-width:2.0px;stroke-linecap:butt;stroke-linejoin:miter;stroke-opacity:1\"/>\n",
       "<path class=\"bond-19 atom-19 atom-20\" d=\"M 356.7,143.2 L 378.7,126.7\" style=\"fill:none;fill-rule:evenodd;stroke:#000000;stroke-width:2.0px;stroke-linecap:butt;stroke-linejoin:miter;stroke-opacity:1\"/>\n",
       "<path class=\"bond-20 atom-20 atom-21\" d=\"M 378.7,126.7 L 375.3,99.4\" style=\"fill:none;fill-rule:evenodd;stroke:#000000;stroke-width:2.0px;stroke-linecap:butt;stroke-linejoin:miter;stroke-opacity:1\"/>\n",
       "<path class=\"bond-21 atom-21 atom-22\" d=\"M 375.3,99.4 L 350.0,88.6\" style=\"fill:none;fill-rule:evenodd;stroke:#000000;stroke-width:2.0px;stroke-linecap:butt;stroke-linejoin:miter;stroke-opacity:1\"/>\n",
       "<path class=\"bond-22 atom-22 atom-17\" d=\"M 350.0,88.6 L 328.1,105.2\" style=\"fill:none;fill-rule:evenodd;stroke:#000000;stroke-width:2.0px;stroke-linecap:butt;stroke-linejoin:miter;stroke-opacity:1\"/>\n",
       "<path class=\"bond-23 atom-9 atom-16\" d=\"M 299.5,67.1 L 302.8,94.4\" style=\"fill:none;fill-rule:evenodd;stroke:#000000;stroke-width:2.0px;stroke-linecap:butt;stroke-linejoin:miter;stroke-opacity:1\"/>\n",
       "<path class=\"bond-24 atom-23 atom-24\" d=\"M 280.8,110.9 L 282.2,122.2\" style=\"fill:none;fill-rule:evenodd;stroke:#000000;stroke-width:2.0px;stroke-linecap:butt;stroke-linejoin:miter;stroke-opacity:1\"/>\n",
       "<path class=\"bond-24 atom-23 atom-24\" d=\"M 282.2,122.2 L 283.6,133.4\" style=\"fill:none;fill-rule:evenodd;stroke:#FF0000;stroke-width:2.0px;stroke-linecap:butt;stroke-linejoin:miter;stroke-opacity:1\"/>\n",
       "<path class=\"bond-25 atom-16 atom-23\" d=\"M 302.8,94.4 L 280.8,110.9\" style=\"fill:none;fill-rule:evenodd;stroke:#000000;stroke-width:2.0px;stroke-linecap:butt;stroke-linejoin:miter;stroke-opacity:1\"/>\n",
       "<path class=\"atom-0\" d=\"M 71.3 75.6 L 72.4 75.6 L 72.4 78.9 L 76.4 78.9 L 76.4 75.6 L 77.4 75.6 L 77.4 83.4 L 76.4 83.4 L 76.4 79.8 L 72.4 79.8 L 72.4 83.4 L 71.3 83.4 L 71.3 75.6 \" fill=\"#0000FF\"/>\n",
       "<path class=\"atom-0\" d=\"M 78.4 83.1 Q 78.6 82.6, 79.0 82.4 Q 79.5 82.1, 80.1 82.1 Q 80.9 82.1, 81.3 82.5 Q 81.7 82.9, 81.7 83.7 Q 81.7 84.4, 81.2 85.2 Q 80.6 85.9, 79.5 86.7 L 81.8 86.7 L 81.8 87.3 L 78.4 87.3 L 78.4 86.8 Q 79.3 86.1, 79.9 85.6 Q 80.5 85.1, 80.7 84.6 Q 81.0 84.2, 81.0 83.7 Q 81.0 83.2, 80.8 82.9 Q 80.5 82.7, 80.1 82.7 Q 79.7 82.7, 79.4 82.8 Q 79.1 83.0, 78.9 83.4 L 78.4 83.1 \" fill=\"#0000FF\"/>\n",
       "<path class=\"atom-0\" d=\"M 83.5 75.6 L 86.0 79.7 Q 86.3 80.1, 86.7 80.9 Q 87.1 81.6, 87.1 81.7 L 87.1 75.6 L 88.2 75.6 L 88.2 83.4 L 87.1 83.4 L 84.4 78.9 Q 84.0 78.4, 83.7 77.8 Q 83.4 77.2, 83.3 77.0 L 83.3 83.4 L 82.3 83.4 L 82.3 75.6 L 83.5 75.6 \" fill=\"#0000FF\"/>\n",
       "<path class=\"atom-6\" d=\"M 223.4 62.2 Q 223.4 60.3, 224.3 59.3 Q 225.2 58.2, 226.9 58.2 Q 228.7 58.2, 229.6 59.3 Q 230.5 60.3, 230.5 62.2 Q 230.5 64.1, 229.6 65.2 Q 228.6 66.2, 226.9 66.2 Q 225.2 66.2, 224.3 65.2 Q 223.4 64.1, 223.4 62.2 M 226.9 65.3 Q 228.1 65.3, 228.8 64.6 Q 229.4 63.8, 229.4 62.2 Q 229.4 60.7, 228.8 59.9 Q 228.1 59.1, 226.9 59.1 Q 225.7 59.1, 225.1 59.9 Q 224.5 60.7, 224.5 62.2 Q 224.5 63.8, 225.1 64.6 Q 225.7 65.3, 226.9 65.3 \" fill=\"#FF0000\"/>\n",
       "<path class=\"atom-7\" d=\"M 248.6 72.9 Q 248.6 71.1, 249.6 70.0 Q 250.5 69.0, 252.2 69.0 Q 253.9 69.0, 254.9 70.0 Q 255.8 71.1, 255.8 72.9 Q 255.8 74.8, 254.9 75.9 Q 253.9 77.0, 252.2 77.0 Q 250.5 77.0, 249.6 75.9 Q 248.6 74.8, 248.6 72.9 M 252.2 76.1 Q 253.4 76.1, 254.0 75.3 Q 254.7 74.5, 254.7 72.9 Q 254.7 71.4, 254.0 70.6 Q 253.4 69.9, 252.2 69.9 Q 251.0 69.9, 250.4 70.6 Q 249.7 71.4, 249.7 72.9 Q 249.7 74.5, 250.4 75.3 Q 251.0 76.1, 252.2 76.1 \" fill=\"#FF0000\"/>\n",
       "<path class=\"atom-24\" d=\"M 280.6 138.2 Q 280.6 136.4, 281.5 135.3 Q 282.5 134.3, 284.2 134.3 Q 285.9 134.3, 286.8 135.3 Q 287.7 136.4, 287.7 138.2 Q 287.7 140.1, 286.8 141.2 Q 285.9 142.3, 284.2 142.3 Q 282.5 142.3, 281.5 141.2 Q 280.6 140.1, 280.6 138.2 M 284.2 141.4 Q 285.4 141.4, 286.0 140.6 Q 286.6 139.8, 286.6 138.2 Q 286.6 136.7, 286.0 135.9 Q 285.4 135.2, 284.2 135.2 Q 283.0 135.2, 282.3 135.9 Q 281.7 136.7, 281.7 138.2 Q 281.7 139.8, 282.3 140.6 Q 283.0 141.4, 284.2 141.4 \" fill=\"#FF0000\"/>\n",
       "<path class=\"atom-24\" d=\"M 288.3 134.4 L 289.4 134.4 L 289.4 137.7 L 293.3 137.7 L 293.3 134.4 L 294.4 134.4 L 294.4 142.1 L 293.3 142.1 L 293.3 138.6 L 289.4 138.6 L 289.4 142.1 L 288.3 142.1 L 288.3 134.4 \" fill=\"#FF0000\"/>\n",
       "</svg>"
      ],
      "text/plain": [
       "<IPython.core.display.SVG object>"
      ]
     },
     "execution_count": 24,
     "metadata": {},
     "output_type": "execute_result"
    }
   ],
   "source": [
    "big_smiles_gen(big, 2)"
   ]
  },
  {
   "cell_type": "markdown",
   "id": "e2d1370c",
   "metadata": {},
   "source": [
    "# New! Polyolefins, because a '=' remains\n",
    "\n",
    "## CH2=CH-(CH2)nCH3  where n varies from 1 to 5"
   ]
  },
  {
   "cell_type": "code",
   "execution_count": 25,
   "id": "79ae076b",
   "metadata": {},
   "outputs": [
    {
     "data": {
      "text/plain": [
       "'C=C{[$][$]C[$][$]}|uniform(12,60)|C.|500|'"
      ]
     },
     "execution_count": 25,
     "metadata": {},
     "output_type": "execute_result"
    }
   ],
   "source": [
    "big = \"C=C{[$][$]C[$][$]}|uniform(12,60)|C.|500|\"\n",
    "big"
   ]
  },
  {
   "cell_type": "code",
   "execution_count": 26,
   "id": "c83fae3f",
   "metadata": {},
   "outputs": [
    {
     "name": "stdout",
     "output_type": "stream",
     "text": [
      "15\n"
     ]
    },
    {
     "data": {
      "image/svg+xml": [
       "<svg xmlns=\"http://www.w3.org/2000/svg\" xmlns:rdkit=\"http://www.rdkit.org/xml\" xmlns:xlink=\"http://www.w3.org/1999/xlink\" version=\"1.1\" baseProfile=\"full\" xml:space=\"preserve\" width=\"450px\" height=\"150px\" viewBox=\"0 0 450 150\">\n",
       "<!-- END OF HEADER -->\n",
       "<rect style=\"opacity:1.0;fill:#FFFFFF;stroke:none\" width=\"450.0\" height=\"150.0\" x=\"0.0\" y=\"0.0\"> </rect>\n",
       "<path class=\"bond-0 atom-0 atom-1\" d=\"M 20.5,94.0 L 121.3,35.8\" style=\"fill:none;fill-rule:evenodd;stroke:#000000;stroke-width:2.0px;stroke-linecap:butt;stroke-linejoin:miter;stroke-opacity:1\"/>\n",
       "<path class=\"bond-0 atom-0 atom-1\" d=\"M 32.1,114.2 L 132.9,56.0\" style=\"fill:none;fill-rule:evenodd;stroke:#000000;stroke-width:2.0px;stroke-linecap:butt;stroke-linejoin:miter;stroke-opacity:1\"/>\n",
       "<path class=\"bond-1 atom-1 atom-2\" d=\"M 127.1,45.9 L 227.9,104.1\" style=\"fill:none;fill-rule:evenodd;stroke:#000000;stroke-width:2.0px;stroke-linecap:butt;stroke-linejoin:miter;stroke-opacity:1\"/>\n",
       "<path class=\"bond-2 atom-2 atom-3\" d=\"M 227.9,104.1 L 328.7,45.9\" style=\"fill:none;fill-rule:evenodd;stroke:#000000;stroke-width:2.0px;stroke-linecap:butt;stroke-linejoin:miter;stroke-opacity:1\"/>\n",
       "<path class=\"bond-3 atom-3 atom-4\" d=\"M 328.7,45.9 L 429.5,104.1\" style=\"fill:none;fill-rule:evenodd;stroke:#000000;stroke-width:2.0px;stroke-linecap:butt;stroke-linejoin:miter;stroke-opacity:1\"/>\n",
       "</svg>"
      ],
      "text/plain": [
       "<IPython.core.display.SVG object>"
      ]
     },
     "execution_count": 26,
     "metadata": {},
     "output_type": "execute_result"
    }
   ],
   "source": [
    "big_smiles_gen(big)"
   ]
  },
  {
   "cell_type": "code",
   "execution_count": 27,
   "id": "eaf5f6ac",
   "metadata": {},
   "outputs": [
    {
     "name": "stdout",
     "output_type": "stream",
     "text": [
      "16\n"
     ]
    },
    {
     "data": {
      "image/svg+xml": [
       "<svg xmlns=\"http://www.w3.org/2000/svg\" xmlns:rdkit=\"http://www.rdkit.org/xml\" xmlns:xlink=\"http://www.w3.org/1999/xlink\" version=\"1.1\" baseProfile=\"full\" xml:space=\"preserve\" width=\"450px\" height=\"150px\" viewBox=\"0 0 450 150\">\n",
       "<!-- END OF HEADER -->\n",
       "<rect style=\"opacity:1.0;fill:#FFFFFF;stroke:none\" width=\"450.0\" height=\"150.0\" x=\"0.0\" y=\"0.0\"> </rect>\n",
       "<path class=\"bond-0 atom-0 atom-1\" d=\"M 20.5,83.1 L 79.2,51.3\" style=\"fill:none;fill-rule:evenodd;stroke:#000000;stroke-width:2.0px;stroke-linecap:butt;stroke-linejoin:miter;stroke-opacity:1\"/>\n",
       "<path class=\"bond-0 atom-0 atom-1\" d=\"M 26.8,94.9 L 85.6,63.1\" style=\"fill:none;fill-rule:evenodd;stroke:#000000;stroke-width:2.0px;stroke-linecap:butt;stroke-linejoin:miter;stroke-opacity:1\"/>\n",
       "<path class=\"bond-1 atom-1 atom-2\" d=\"M 82.4,57.2 L 139.3,92.2\" style=\"fill:none;fill-rule:evenodd;stroke:#000000;stroke-width:2.0px;stroke-linecap:butt;stroke-linejoin:miter;stroke-opacity:1\"/>\n",
       "<path class=\"bond-2 atom-2 atom-3\" d=\"M 139.3,92.2 L 198.1,60.4\" style=\"fill:none;fill-rule:evenodd;stroke:#000000;stroke-width:2.0px;stroke-linecap:butt;stroke-linejoin:miter;stroke-opacity:1\"/>\n",
       "<path class=\"bond-3 atom-3 atom-4\" d=\"M 198.1,60.4 L 255.1,95.4\" style=\"fill:none;fill-rule:evenodd;stroke:#000000;stroke-width:2.0px;stroke-linecap:butt;stroke-linejoin:miter;stroke-opacity:1\"/>\n",
       "<path class=\"bond-4 atom-4 atom-5\" d=\"M 255.1,95.4 L 313.8,63.7\" style=\"fill:none;fill-rule:evenodd;stroke:#000000;stroke-width:2.0px;stroke-linecap:butt;stroke-linejoin:miter;stroke-opacity:1\"/>\n",
       "<path class=\"bond-5 atom-5 atom-6\" d=\"M 313.8,63.7 L 370.8,98.7\" style=\"fill:none;fill-rule:evenodd;stroke:#000000;stroke-width:2.0px;stroke-linecap:butt;stroke-linejoin:miter;stroke-opacity:1\"/>\n",
       "<path class=\"bond-6 atom-6 atom-7\" d=\"M 370.8,98.7 L 429.5,66.9\" style=\"fill:none;fill-rule:evenodd;stroke:#000000;stroke-width:2.0px;stroke-linecap:butt;stroke-linejoin:miter;stroke-opacity:1\"/>\n",
       "</svg>"
      ],
      "text/plain": [
       "<IPython.core.display.SVG object>"
      ]
     },
     "execution_count": 27,
     "metadata": {},
     "output_type": "execute_result"
    }
   ],
   "source": [
    "big_smiles_gen(big, 1)"
   ]
  },
  {
   "cell_type": "markdown",
   "id": "5f15bd1b",
   "metadata": {},
   "source": [
    "## CH2-CH-(CH2)n-CH=CH2 where n varies from 1 to 3"
   ]
  },
  {
   "cell_type": "code",
   "execution_count": 28,
   "id": "048967e8",
   "metadata": {},
   "outputs": [
    {
     "data": {
      "text/plain": [
       "'CC{[$][$]C[$][$]}|uniform(12, 36)|C=C.|500|'"
      ]
     },
     "execution_count": 28,
     "metadata": {},
     "output_type": "execute_result"
    }
   ],
   "source": [
    "big = \"CC{[$][$]C[$][$]}|uniform(12, 36)|C=C.|500|\"\n",
    "big"
   ]
  },
  {
   "cell_type": "code",
   "execution_count": 29,
   "id": "e0856e12",
   "metadata": {},
   "outputs": [
    {
     "name": "stdout",
     "output_type": "stream",
     "text": [
      "17\n"
     ]
    },
    {
     "data": {
      "image/svg+xml": [
       "<svg xmlns=\"http://www.w3.org/2000/svg\" xmlns:rdkit=\"http://www.rdkit.org/xml\" xmlns:xlink=\"http://www.w3.org/1999/xlink\" version=\"1.1\" baseProfile=\"full\" xml:space=\"preserve\" width=\"450px\" height=\"150px\" viewBox=\"0 0 450 150\">\n",
       "<!-- END OF HEADER -->\n",
       "<rect style=\"opacity:1.0;fill:#FFFFFF;stroke:none\" width=\"450.0\" height=\"150.0\" x=\"0.0\" y=\"0.0\"> </rect>\n",
       "<path class=\"bond-0 atom-0 atom-1\" d=\"M 20.5,83.9 L 103.3,41.5\" style=\"fill:none;fill-rule:evenodd;stroke:#000000;stroke-width:2.0px;stroke-linecap:butt;stroke-linejoin:miter;stroke-opacity:1\"/>\n",
       "<path class=\"bond-1 atom-1 atom-2\" d=\"M 103.3,41.5 L 181.5,92.0\" style=\"fill:none;fill-rule:evenodd;stroke:#000000;stroke-width:2.0px;stroke-linecap:butt;stroke-linejoin:miter;stroke-opacity:1\"/>\n",
       "<path class=\"bond-2 atom-2 atom-3\" d=\"M 181.5,92.0 L 264.3,49.7\" style=\"fill:none;fill-rule:evenodd;stroke:#000000;stroke-width:2.0px;stroke-linecap:butt;stroke-linejoin:miter;stroke-opacity:1\"/>\n",
       "<path class=\"bond-3 atom-4 atom-5\" d=\"M 338.2,91.9 L 421.1,49.6\" style=\"fill:none;fill-rule:evenodd;stroke:#000000;stroke-width:2.0px;stroke-linecap:butt;stroke-linejoin:miter;stroke-opacity:1\"/>\n",
       "<path class=\"bond-3 atom-4 atom-5\" d=\"M 346.7,108.5 L 429.5,66.1\" style=\"fill:none;fill-rule:evenodd;stroke:#000000;stroke-width:2.0px;stroke-linecap:butt;stroke-linejoin:miter;stroke-opacity:1\"/>\n",
       "<path class=\"bond-4 atom-3 atom-4\" d=\"M 264.3,49.7 L 342.4,100.2\" style=\"fill:none;fill-rule:evenodd;stroke:#000000;stroke-width:2.0px;stroke-linecap:butt;stroke-linejoin:miter;stroke-opacity:1\"/>\n",
       "</svg>"
      ],
      "text/plain": [
       "<IPython.core.display.SVG object>"
      ]
     },
     "execution_count": 29,
     "metadata": {},
     "output_type": "execute_result"
    }
   ],
   "source": [
    "big_smiles_gen(big)"
   ]
  },
  {
   "cell_type": "code",
   "execution_count": 30,
   "id": "d460780b",
   "metadata": {},
   "outputs": [
    {
     "name": "stdout",
     "output_type": "stream",
     "text": [
      "18\n"
     ]
    },
    {
     "data": {
      "image/svg+xml": [
       "<svg xmlns=\"http://www.w3.org/2000/svg\" xmlns:rdkit=\"http://www.rdkit.org/xml\" xmlns:xlink=\"http://www.w3.org/1999/xlink\" version=\"1.1\" baseProfile=\"full\" xml:space=\"preserve\" width=\"450px\" height=\"150px\" viewBox=\"0 0 450 150\">\n",
       "<!-- END OF HEADER -->\n",
       "<rect style=\"opacity:1.0;fill:#FFFFFF;stroke:none\" width=\"450.0\" height=\"150.0\" x=\"0.0\" y=\"0.0\"> </rect>\n",
       "<path class=\"bond-0 atom-0 atom-1\" d=\"M 20.5,83.9 L 103.3,41.5\" style=\"fill:none;fill-rule:evenodd;stroke:#000000;stroke-width:2.0px;stroke-linecap:butt;stroke-linejoin:miter;stroke-opacity:1\"/>\n",
       "<path class=\"bond-1 atom-1 atom-2\" d=\"M 103.3,41.5 L 181.5,92.0\" style=\"fill:none;fill-rule:evenodd;stroke:#000000;stroke-width:2.0px;stroke-linecap:butt;stroke-linejoin:miter;stroke-opacity:1\"/>\n",
       "<path class=\"bond-2 atom-2 atom-3\" d=\"M 181.5,92.0 L 264.3,49.7\" style=\"fill:none;fill-rule:evenodd;stroke:#000000;stroke-width:2.0px;stroke-linecap:butt;stroke-linejoin:miter;stroke-opacity:1\"/>\n",
       "<path class=\"bond-3 atom-4 atom-5\" d=\"M 338.2,91.9 L 421.1,49.6\" style=\"fill:none;fill-rule:evenodd;stroke:#000000;stroke-width:2.0px;stroke-linecap:butt;stroke-linejoin:miter;stroke-opacity:1\"/>\n",
       "<path class=\"bond-3 atom-4 atom-5\" d=\"M 346.7,108.5 L 429.5,66.1\" style=\"fill:none;fill-rule:evenodd;stroke:#000000;stroke-width:2.0px;stroke-linecap:butt;stroke-linejoin:miter;stroke-opacity:1\"/>\n",
       "<path class=\"bond-4 atom-3 atom-4\" d=\"M 264.3,49.7 L 342.4,100.2\" style=\"fill:none;fill-rule:evenodd;stroke:#000000;stroke-width:2.0px;stroke-linecap:butt;stroke-linejoin:miter;stroke-opacity:1\"/>\n",
       "</svg>"
      ],
      "text/plain": [
       "<IPython.core.display.SVG object>"
      ]
     },
     "execution_count": 30,
     "metadata": {},
     "output_type": "execute_result"
    }
   ],
   "source": [
    "big_smiles_gen(big, 6)"
   ]
  },
  {
   "cell_type": "markdown",
   "id": "e06c8273",
   "metadata": {},
   "source": [
    "## Classic diblock PS-b-P2VP"
   ]
  },
  {
   "cell_type": "code",
   "execution_count": 31,
   "id": "5e0b3aa4",
   "metadata": {},
   "outputs": [],
   "source": [
    "big = \"[H]{[<][<]C([>])c1ccccc1[>]}|gauss(100,20)|{[<][>]C([<])c1ccncc1[>]}|gauss(100, 20)|[H].|500|\""
   ]
  },
  {
   "cell_type": "code",
   "execution_count": 32,
   "id": "1130059c",
   "metadata": {},
   "outputs": [
    {
     "name": "stdout",
     "output_type": "stream",
     "text": [
      "19\n"
     ]
    },
    {
     "data": {
      "image/svg+xml": [
       "<svg xmlns=\"http://www.w3.org/2000/svg\" xmlns:rdkit=\"http://www.rdkit.org/xml\" xmlns:xlink=\"http://www.w3.org/1999/xlink\" version=\"1.1\" baseProfile=\"full\" xml:space=\"preserve\" width=\"450px\" height=\"150px\" viewBox=\"0 0 450 150\">\n",
       "<!-- END OF HEADER -->\n",
       "<rect style=\"opacity:1.0;fill:#FFFFFF;stroke:none\" width=\"450.0\" height=\"150.0\" x=\"0.0\" y=\"0.0\"> </rect>\n",
       "<path class=\"bond-0 atom-1 atom-2\" d=\"M 256.1,36.6 L 285.7,36.6\" style=\"fill:none;fill-rule:evenodd;stroke:#000000;stroke-width:2.0px;stroke-linecap:butt;stroke-linejoin:miter;stroke-opacity:1\"/>\n",
       "<path class=\"bond-1 atom-2 atom-3\" d=\"M 285.7,36.6 L 300.5,11.0\" style=\"fill:none;fill-rule:evenodd;stroke:#000000;stroke-width:2.0px;stroke-linecap:butt;stroke-linejoin:miter;stroke-opacity:1\"/>\n",
       "<path class=\"bond-1 atom-2 atom-3\" d=\"M 293.0,35.7 L 303.4,17.8\" style=\"fill:none;fill-rule:evenodd;stroke:#000000;stroke-width:2.0px;stroke-linecap:butt;stroke-linejoin:miter;stroke-opacity:1\"/>\n",
       "<path class=\"bond-2 atom-3 atom-4\" d=\"M 300.5,11.0 L 330.0,11.0\" style=\"fill:none;fill-rule:evenodd;stroke:#000000;stroke-width:2.0px;stroke-linecap:butt;stroke-linejoin:miter;stroke-opacity:1\"/>\n",
       "<path class=\"bond-3 atom-4 atom-5\" d=\"M 330.0,11.0 L 344.8,36.6\" style=\"fill:none;fill-rule:evenodd;stroke:#000000;stroke-width:2.0px;stroke-linecap:butt;stroke-linejoin:miter;stroke-opacity:1\"/>\n",
       "<path class=\"bond-3 atom-4 atom-5\" d=\"M 327.1,17.8 L 337.5,35.7\" style=\"fill:none;fill-rule:evenodd;stroke:#000000;stroke-width:2.0px;stroke-linecap:butt;stroke-linejoin:miter;stroke-opacity:1\"/>\n",
       "<path class=\"bond-4 atom-5 atom-6\" d=\"M 344.8,36.6 L 330.0,62.2\" style=\"fill:none;fill-rule:evenodd;stroke:#000000;stroke-width:2.0px;stroke-linecap:butt;stroke-linejoin:miter;stroke-opacity:1\"/>\n",
       "<path class=\"bond-5 atom-6 atom-7\" d=\"M 330.0,62.2 L 300.5,62.2\" style=\"fill:none;fill-rule:evenodd;stroke:#000000;stroke-width:2.0px;stroke-linecap:butt;stroke-linejoin:miter;stroke-opacity:1\"/>\n",
       "<path class=\"bond-5 atom-6 atom-7\" d=\"M 325.6,56.3 L 304.9,56.3\" style=\"fill:none;fill-rule:evenodd;stroke:#000000;stroke-width:2.0px;stroke-linecap:butt;stroke-linejoin:miter;stroke-opacity:1\"/>\n",
       "<path class=\"bond-6 atom-7 atom-2\" d=\"M 300.5,62.2 L 285.7,36.6\" style=\"fill:none;fill-rule:evenodd;stroke:#000000;stroke-width:2.0px;stroke-linecap:butt;stroke-linejoin:miter;stroke-opacity:1\"/>\n",
       "<path class=\"bond-7 atom-0 atom-1\" d=\"M 244.3,16.2 L 256.1,36.6\" style=\"fill:none;fill-rule:evenodd;stroke:#000000;stroke-width:2.0px;stroke-linecap:butt;stroke-linejoin:miter;stroke-opacity:1\"/>\n",
       "<path class=\"bond-8 atom-8 atom-9\" d=\"M 241.4,62.2 L 256.1,87.8\" style=\"fill:none;fill-rule:evenodd;stroke:#000000;stroke-width:2.0px;stroke-linecap:butt;stroke-linejoin:miter;stroke-opacity:1\"/>\n",
       "<path class=\"bond-9 atom-9 atom-10\" d=\"M 256.1,87.8 L 241.4,113.4\" style=\"fill:none;fill-rule:evenodd;stroke:#000000;stroke-width:2.0px;stroke-linecap:butt;stroke-linejoin:miter;stroke-opacity:1\"/>\n",
       "<path class=\"bond-9 atom-9 atom-10\" d=\"M 259.0,94.6 L 248.7,112.5\" style=\"fill:none;fill-rule:evenodd;stroke:#000000;stroke-width:2.0px;stroke-linecap:butt;stroke-linejoin:miter;stroke-opacity:1\"/>\n",
       "<path class=\"bond-10 atom-10 atom-11\" d=\"M 241.4,113.4 L 256.1,139.0\" style=\"fill:none;fill-rule:evenodd;stroke:#000000;stroke-width:2.0px;stroke-linecap:butt;stroke-linejoin:miter;stroke-opacity:1\"/>\n",
       "<path class=\"bond-11 atom-11 atom-12\" d=\"M 256.1,139.0 L 285.7,139.0\" style=\"fill:none;fill-rule:evenodd;stroke:#000000;stroke-width:2.0px;stroke-linecap:butt;stroke-linejoin:miter;stroke-opacity:1\"/>\n",
       "<path class=\"bond-11 atom-11 atom-12\" d=\"M 260.6,133.1 L 281.3,133.1\" style=\"fill:none;fill-rule:evenodd;stroke:#000000;stroke-width:2.0px;stroke-linecap:butt;stroke-linejoin:miter;stroke-opacity:1\"/>\n",
       "<path class=\"bond-12 atom-12 atom-13\" d=\"M 285.7,139.0 L 300.5,113.4\" style=\"fill:none;fill-rule:evenodd;stroke:#000000;stroke-width:2.0px;stroke-linecap:butt;stroke-linejoin:miter;stroke-opacity:1\"/>\n",
       "<path class=\"bond-13 atom-13 atom-14\" d=\"M 300.5,113.4 L 285.7,87.8\" style=\"fill:none;fill-rule:evenodd;stroke:#000000;stroke-width:2.0px;stroke-linecap:butt;stroke-linejoin:miter;stroke-opacity:1\"/>\n",
       "<path class=\"bond-13 atom-13 atom-14\" d=\"M 293.1,112.5 L 282.8,94.6\" style=\"fill:none;fill-rule:evenodd;stroke:#000000;stroke-width:2.0px;stroke-linecap:butt;stroke-linejoin:miter;stroke-opacity:1\"/>\n",
       "<path class=\"bond-14 atom-14 atom-9\" d=\"M 285.7,87.8 L 256.1,87.8\" style=\"fill:none;fill-rule:evenodd;stroke:#000000;stroke-width:2.0px;stroke-linecap:butt;stroke-linejoin:miter;stroke-opacity:1\"/>\n",
       "<path class=\"bond-15 atom-1 atom-8\" d=\"M 256.1,36.6 L 241.4,62.2\" style=\"fill:none;fill-rule:evenodd;stroke:#000000;stroke-width:2.0px;stroke-linecap:butt;stroke-linejoin:miter;stroke-opacity:1\"/>\n",
       "<path class=\"bond-16 atom-15 atom-16\" d=\"M 211.8,62.2 L 197.0,87.8\" style=\"fill:none;fill-rule:evenodd;stroke:#000000;stroke-width:2.0px;stroke-linecap:butt;stroke-linejoin:miter;stroke-opacity:1\"/>\n",
       "<path class=\"bond-17 atom-16 atom-17\" d=\"M 197.0,87.8 L 167.5,87.8\" style=\"fill:none;fill-rule:evenodd;stroke:#000000;stroke-width:2.0px;stroke-linecap:butt;stroke-linejoin:miter;stroke-opacity:1\"/>\n",
       "<path class=\"bond-17 atom-16 atom-17\" d=\"M 192.6,93.7 L 171.9,93.7\" style=\"fill:none;fill-rule:evenodd;stroke:#000000;stroke-width:2.0px;stroke-linecap:butt;stroke-linejoin:miter;stroke-opacity:1\"/>\n",
       "<path class=\"bond-18 atom-17 atom-18\" d=\"M 167.5,87.8 L 152.7,113.4\" style=\"fill:none;fill-rule:evenodd;stroke:#000000;stroke-width:2.0px;stroke-linecap:butt;stroke-linejoin:miter;stroke-opacity:1\"/>\n",
       "<path class=\"bond-19 atom-18 atom-19\" d=\"M 152.7,113.4 L 158.6,123.6\" style=\"fill:none;fill-rule:evenodd;stroke:#000000;stroke-width:2.0px;stroke-linecap:butt;stroke-linejoin:miter;stroke-opacity:1\"/>\n",
       "<path class=\"bond-19 atom-18 atom-19\" d=\"M 158.6,123.6 L 164.5,133.8\" style=\"fill:none;fill-rule:evenodd;stroke:#0000FF;stroke-width:2.0px;stroke-linecap:butt;stroke-linejoin:miter;stroke-opacity:1\"/>\n",
       "<path class=\"bond-19 atom-18 atom-19\" d=\"M 159.6,113.5 L 163.7,120.7\" style=\"fill:none;fill-rule:evenodd;stroke:#000000;stroke-width:2.0px;stroke-linecap:butt;stroke-linejoin:miter;stroke-opacity:1\"/>\n",
       "<path class=\"bond-19 atom-18 atom-19\" d=\"M 163.7,120.7 L 167.8,127.8\" style=\"fill:none;fill-rule:evenodd;stroke:#0000FF;stroke-width:2.0px;stroke-linecap:butt;stroke-linejoin:miter;stroke-opacity:1\"/>\n",
       "<path class=\"bond-20 atom-19 atom-20\" d=\"M 171.6,139.0 L 184.3,139.0\" style=\"fill:none;fill-rule:evenodd;stroke:#0000FF;stroke-width:2.0px;stroke-linecap:butt;stroke-linejoin:miter;stroke-opacity:1\"/>\n",
       "<path class=\"bond-20 atom-19 atom-20\" d=\"M 184.3,139.0 L 197.0,139.0\" style=\"fill:none;fill-rule:evenodd;stroke:#000000;stroke-width:2.0px;stroke-linecap:butt;stroke-linejoin:miter;stroke-opacity:1\"/>\n",
       "<path class=\"bond-21 atom-20 atom-21\" d=\"M 197.0,139.0 L 211.8,113.4\" style=\"fill:none;fill-rule:evenodd;stroke:#000000;stroke-width:2.0px;stroke-linecap:butt;stroke-linejoin:miter;stroke-opacity:1\"/>\n",
       "<path class=\"bond-21 atom-20 atom-21\" d=\"M 194.1,132.2 L 204.5,114.3\" style=\"fill:none;fill-rule:evenodd;stroke:#000000;stroke-width:2.0px;stroke-linecap:butt;stroke-linejoin:miter;stroke-opacity:1\"/>\n",
       "<path class=\"bond-22 atom-21 atom-16\" d=\"M 211.8,113.4 L 197.0,87.8\" style=\"fill:none;fill-rule:evenodd;stroke:#000000;stroke-width:2.0px;stroke-linecap:butt;stroke-linejoin:miter;stroke-opacity:1\"/>\n",
       "<path class=\"bond-23 atom-8 atom-15\" d=\"M 241.4,62.2 L 211.8,62.2\" style=\"fill:none;fill-rule:evenodd;stroke:#000000;stroke-width:2.0px;stroke-linecap:butt;stroke-linejoin:miter;stroke-opacity:1\"/>\n",
       "<path class=\"bond-24 atom-22 atom-23\" d=\"M 197.0,36.6 L 167.5,36.6\" style=\"fill:none;fill-rule:evenodd;stroke:#000000;stroke-width:2.0px;stroke-linecap:butt;stroke-linejoin:miter;stroke-opacity:1\"/>\n",
       "<path class=\"bond-25 atom-23 atom-24\" d=\"M 167.5,36.6 L 152.7,11.0\" style=\"fill:none;fill-rule:evenodd;stroke:#000000;stroke-width:2.0px;stroke-linecap:butt;stroke-linejoin:miter;stroke-opacity:1\"/>\n",
       "<path class=\"bond-25 atom-23 atom-24\" d=\"M 160.1,35.7 L 149.8,17.8\" style=\"fill:none;fill-rule:evenodd;stroke:#000000;stroke-width:2.0px;stroke-linecap:butt;stroke-linejoin:miter;stroke-opacity:1\"/>\n",
       "<path class=\"bond-26 atom-24 atom-25\" d=\"M 152.7,11.0 L 123.1,11.0\" style=\"fill:none;fill-rule:evenodd;stroke:#000000;stroke-width:2.0px;stroke-linecap:butt;stroke-linejoin:miter;stroke-opacity:1\"/>\n",
       "<path class=\"bond-27 atom-25 atom-26\" d=\"M 123.1,11.0 L 117.2,21.2\" style=\"fill:none;fill-rule:evenodd;stroke:#000000;stroke-width:2.0px;stroke-linecap:butt;stroke-linejoin:miter;stroke-opacity:1\"/>\n",
       "<path class=\"bond-27 atom-25 atom-26\" d=\"M 117.2,21.2 L 111.3,31.4\" style=\"fill:none;fill-rule:evenodd;stroke:#0000FF;stroke-width:2.0px;stroke-linecap:butt;stroke-linejoin:miter;stroke-opacity:1\"/>\n",
       "<path class=\"bond-27 atom-25 atom-26\" d=\"M 126.5,17.0 L 122.4,24.2\" style=\"fill:none;fill-rule:evenodd;stroke:#000000;stroke-width:2.0px;stroke-linecap:butt;stroke-linejoin:miter;stroke-opacity:1\"/>\n",
       "<path class=\"bond-27 atom-25 atom-26\" d=\"M 122.4,24.2 L 118.2,31.3\" style=\"fill:none;fill-rule:evenodd;stroke:#0000FF;stroke-width:2.0px;stroke-linecap:butt;stroke-linejoin:miter;stroke-opacity:1\"/>\n",
       "<path class=\"bond-28 atom-26 atom-27\" d=\"M 111.3,41.8 L 117.2,52.0\" style=\"fill:none;fill-rule:evenodd;stroke:#0000FF;stroke-width:2.0px;stroke-linecap:butt;stroke-linejoin:miter;stroke-opacity:1\"/>\n",
       "<path class=\"bond-28 atom-26 atom-27\" d=\"M 117.2,52.0 L 123.1,62.2\" style=\"fill:none;fill-rule:evenodd;stroke:#000000;stroke-width:2.0px;stroke-linecap:butt;stroke-linejoin:miter;stroke-opacity:1\"/>\n",
       "<path class=\"bond-29 atom-27 atom-28\" d=\"M 123.1,62.2 L 152.7,62.2\" style=\"fill:none;fill-rule:evenodd;stroke:#000000;stroke-width:2.0px;stroke-linecap:butt;stroke-linejoin:miter;stroke-opacity:1\"/>\n",
       "<path class=\"bond-29 atom-27 atom-28\" d=\"M 127.6,56.3 L 148.3,56.3\" style=\"fill:none;fill-rule:evenodd;stroke:#000000;stroke-width:2.0px;stroke-linecap:butt;stroke-linejoin:miter;stroke-opacity:1\"/>\n",
       "<path class=\"bond-30 atom-28 atom-23\" d=\"M 152.7,62.2 L 167.5,36.6\" style=\"fill:none;fill-rule:evenodd;stroke:#000000;stroke-width:2.0px;stroke-linecap:butt;stroke-linejoin:miter;stroke-opacity:1\"/>\n",
       "<path class=\"bond-31 atom-15 atom-22\" d=\"M 211.8,62.2 L 197.0,36.6\" style=\"fill:none;fill-rule:evenodd;stroke:#000000;stroke-width:2.0px;stroke-linecap:butt;stroke-linejoin:miter;stroke-opacity:1\"/>\n",
       "<path class=\"bond-32 atom-22 atom-29\" d=\"M 197.0,36.6 L 208.8,16.2\" style=\"fill:none;fill-rule:evenodd;stroke:#000000;stroke-width:2.0px;stroke-linecap:butt;stroke-linejoin:miter;stroke-opacity:1\"/>\n",
       "<path class=\"atom-0\" d=\"M 238.1 6.8 L 239.2 6.8 L 239.2 10.4 L 243.5 10.4 L 243.5 6.8 L 244.6 6.8 L 244.6 15.2 L 243.5 15.2 L 243.5 11.3 L 239.2 11.3 L 239.2 15.2 L 238.1 15.2 L 238.1 6.8 \" fill=\"#000000\"/>\n",
       "<path class=\"atom-19\" d=\"M 165.6 134.8 L 168.4 139.2 Q 168.6 139.7, 169.1 140.5 Q 169.5 141.3, 169.5 141.3 L 169.5 134.8 L 170.6 134.8 L 170.6 143.2 L 169.5 143.2 L 166.6 138.3 Q 166.2 137.8, 165.8 137.1 Q 165.5 136.5, 165.4 136.3 L 165.4 143.2 L 164.3 143.2 L 164.3 134.8 L 165.6 134.8 \" fill=\"#0000FF\"/>\n",
       "<path class=\"atom-26\" d=\"M 106.5 32.4 L 109.2 36.9 Q 109.5 37.3, 110.0 38.1 Q 110.4 38.9, 110.4 38.9 L 110.4 32.4 L 111.5 32.4 L 111.5 40.8 L 110.4 40.8 L 107.4 35.9 Q 107.1 35.4, 106.7 34.7 Q 106.4 34.1, 106.3 33.9 L 106.3 40.8 L 105.2 40.8 L 105.2 32.4 L 106.5 32.4 \" fill=\"#0000FF\"/>\n",
       "<path class=\"atom-29\" d=\"M 208.5 6.8 L 209.7 6.8 L 209.7 10.4 L 213.9 10.4 L 213.9 6.8 L 215.1 6.8 L 215.1 15.2 L 213.9 15.2 L 213.9 11.3 L 209.7 11.3 L 209.7 15.2 L 208.5 15.2 L 208.5 6.8 \" fill=\"#000000\"/>\n",
       "<path class=\"atom-0\" d=\"M 236.9,11.0 L 236.9,11.1 L 236.9,11.1 L 236.9,11.2 L 236.9,11.2 L 236.9,11.3 L 236.8,11.3 L 236.8,11.3 L 236.8,11.4 L 236.7,11.4 L 236.7,11.5 L 236.7,11.5 L 236.6,11.5 L 236.6,11.5 L 236.5,11.6 L 236.5,11.6 L 236.4,11.6 L 236.4,11.6 L 236.3,11.6 L 236.3,11.6 L 236.2,11.6 L 236.2,11.6 L 236.1,11.6 L 236.1,11.5 L 236.0,11.5 L 236.0,11.5 L 236.0,11.5 L 235.9,11.4 L 235.9,11.4 L 235.8,11.4 L 235.8,11.3 L 235.8,11.3 L 235.8,11.2 L 235.8,11.2 L 235.7,11.1 L 235.7,11.1 L 235.7,11.0 L 235.7,11.0 L 235.7,10.9 L 235.7,10.9 L 235.8,10.8 L 235.8,10.8 L 235.8,10.7 L 235.8,10.7 L 235.8,10.6 L 235.9,10.6 L 235.9,10.6 L 236.0,10.5 L 236.0,10.5 L 236.0,10.5 L 236.1,10.5 L 236.1,10.4 L 236.2,10.4 L 236.2,10.4 L 236.3,10.4 L 236.3,10.4 L 236.4,10.4 L 236.4,10.4 L 236.5,10.4 L 236.5,10.5 L 236.6,10.5 L 236.6,10.5 L 236.7,10.5 L 236.7,10.6 L 236.7,10.6 L 236.8,10.6 L 236.8,10.7 L 236.8,10.7 L 236.9,10.8 L 236.9,10.8 L 236.9,10.9 L 236.9,10.9 L 236.9,11.0 L 236.9,11.0 L 236.3,11.0 Z\" style=\"fill:#000000;fill-rule:evenodd;fill-opacity:1;stroke:#000000;stroke-width:0.0px;stroke-linecap:butt;stroke-linejoin:miter;stroke-opacity:1;\"/>\n",
       "<path class=\"atom-29\" d=\"M 217.4,11.0 L 217.4,11.1 L 217.4,11.1 L 217.4,11.2 L 217.4,11.2 L 217.4,11.3 L 217.4,11.3 L 217.3,11.3 L 217.3,11.4 L 217.3,11.4 L 217.2,11.5 L 217.2,11.5 L 217.2,11.5 L 217.1,11.5 L 217.1,11.6 L 217.0,11.6 L 217.0,11.6 L 216.9,11.6 L 216.9,11.6 L 216.8,11.6 L 216.8,11.6 L 216.7,11.6 L 216.7,11.6 L 216.6,11.5 L 216.6,11.5 L 216.5,11.5 L 216.5,11.5 L 216.5,11.4 L 216.4,11.4 L 216.4,11.4 L 216.4,11.3 L 216.3,11.3 L 216.3,11.2 L 216.3,11.2 L 216.3,11.1 L 216.3,11.1 L 216.3,11.0 L 216.3,11.0 L 216.3,10.9 L 216.3,10.9 L 216.3,10.8 L 216.3,10.8 L 216.3,10.7 L 216.4,10.7 L 216.4,10.6 L 216.4,10.6 L 216.5,10.6 L 216.5,10.5 L 216.5,10.5 L 216.6,10.5 L 216.6,10.5 L 216.7,10.4 L 216.7,10.4 L 216.8,10.4 L 216.8,10.4 L 216.9,10.4 L 216.9,10.4 L 217.0,10.4 L 217.0,10.4 L 217.1,10.5 L 217.1,10.5 L 217.2,10.5 L 217.2,10.5 L 217.2,10.6 L 217.3,10.6 L 217.3,10.6 L 217.3,10.7 L 217.4,10.7 L 217.4,10.8 L 217.4,10.8 L 217.4,10.9 L 217.4,10.9 L 217.4,11.0 L 217.4,11.0 L 216.9,11.0 Z\" style=\"fill:#000000;fill-rule:evenodd;fill-opacity:1;stroke:#000000;stroke-width:0.0px;stroke-linecap:butt;stroke-linejoin:miter;stroke-opacity:1;\"/>\n",
       "</svg>"
      ],
      "text/plain": [
       "<IPython.core.display.SVG object>"
      ]
     },
     "execution_count": 32,
     "metadata": {},
     "output_type": "execute_result"
    }
   ],
   "source": [
    "big_smiles_gen(big, 0)"
   ]
  },
  {
   "cell_type": "markdown",
   "id": "a0938504",
   "metadata": {},
   "source": [
    "## Polymer in Solvent PS in THF"
   ]
  },
  {
   "cell_type": "code",
   "execution_count": 33,
   "id": "ffa5e792",
   "metadata": {},
   "outputs": [],
   "source": [
    "big = \"C1CCOC1.|10%|{[][$]C([$])c1ccccc1; [$][H][]]}|gauss(400,20)|.|500|\""
   ]
  },
  {
   "cell_type": "code",
   "execution_count": 34,
   "id": "bcd07941",
   "metadata": {},
   "outputs": [
    {
     "name": "stdout",
     "output_type": "stream",
     "text": [
      "20\n"
     ]
    },
    {
     "data": {
      "image/svg+xml": [
       "<svg xmlns=\"http://www.w3.org/2000/svg\" xmlns:rdkit=\"http://www.rdkit.org/xml\" xmlns:xlink=\"http://www.w3.org/1999/xlink\" version=\"1.1\" baseProfile=\"full\" xml:space=\"preserve\" width=\"450px\" height=\"150px\" viewBox=\"0 0 450 150\">\n",
       "<!-- END OF HEADER -->\n",
       "<rect style=\"opacity:1.0;fill:#FFFFFF;stroke:none\" width=\"450.0\" height=\"150.0\" x=\"0.0\" y=\"0.0\"> </rect>\n",
       "<path class=\"bond-0 atom-0 atom-1\" d=\"M 295.3,75.0 L 245.8,6.8\" style=\"fill:none;fill-rule:evenodd;stroke:#000000;stroke-width:2.0px;stroke-linecap:butt;stroke-linejoin:miter;stroke-opacity:1\"/>\n",
       "<path class=\"bond-1 atom-1 atom-2\" d=\"M 245.8,6.8 L 165.6,32.9\" style=\"fill:none;fill-rule:evenodd;stroke:#000000;stroke-width:2.0px;stroke-linecap:butt;stroke-linejoin:miter;stroke-opacity:1\"/>\n",
       "<path class=\"bond-2 atom-2 atom-3\" d=\"M 165.6,32.9 L 165.6,67.6\" style=\"fill:none;fill-rule:evenodd;stroke:#000000;stroke-width:2.0px;stroke-linecap:butt;stroke-linejoin:miter;stroke-opacity:1\"/>\n",
       "<path class=\"bond-2 atom-2 atom-3\" d=\"M 165.6,67.6 L 165.6,102.3\" style=\"fill:none;fill-rule:evenodd;stroke:#FF0000;stroke-width:2.0px;stroke-linecap:butt;stroke-linejoin:miter;stroke-opacity:1\"/>\n",
       "<path class=\"bond-3 atom-3 atom-4\" d=\"M 179.4,121.6 L 212.6,132.4\" style=\"fill:none;fill-rule:evenodd;stroke:#FF0000;stroke-width:2.0px;stroke-linecap:butt;stroke-linejoin:miter;stroke-opacity:1\"/>\n",
       "<path class=\"bond-3 atom-3 atom-4\" d=\"M 212.6,132.4 L 245.8,143.2\" style=\"fill:none;fill-rule:evenodd;stroke:#000000;stroke-width:2.0px;stroke-linecap:butt;stroke-linejoin:miter;stroke-opacity:1\"/>\n",
       "<path class=\"bond-4 atom-4 atom-0\" d=\"M 245.8,143.2 L 295.3,75.0\" style=\"fill:none;fill-rule:evenodd;stroke:#000000;stroke-width:2.0px;stroke-linecap:butt;stroke-linejoin:miter;stroke-opacity:1\"/>\n",
       "<path class=\"atom-3\" d=\"M 154.7 117.2 Q 154.7 111.5, 157.5 108.3 Q 160.3 105.1, 165.6 105.1 Q 170.9 105.1, 173.8 108.3 Q 176.6 111.5, 176.6 117.2 Q 176.6 123.0, 173.7 126.3 Q 170.9 129.6, 165.6 129.6 Q 160.4 129.6, 157.5 126.3 Q 154.7 123.0, 154.7 117.2 M 165.6 126.9 Q 169.3 126.9, 171.2 124.5 Q 173.2 122.0, 173.2 117.2 Q 173.2 112.5, 171.2 110.2 Q 169.3 107.8, 165.6 107.8 Q 162.0 107.8, 160.0 110.1 Q 158.0 112.5, 158.0 117.2 Q 158.0 122.0, 160.0 124.5 Q 162.0 126.9, 165.6 126.9 \" fill=\"#FF0000\"/>\n",
       "</svg>"
      ],
      "text/plain": [
       "<IPython.core.display.SVG object>"
      ]
     },
     "execution_count": 34,
     "metadata": {},
     "output_type": "execute_result"
    }
   ],
   "source": [
    "big_smiles_gen(big, 0)"
   ]
  },
  {
   "cell_type": "code",
   "execution_count": 35,
   "id": "167f42e2",
   "metadata": {},
   "outputs": [
    {
     "name": "stdout",
     "output_type": "stream",
     "text": [
      "21\n"
     ]
    },
    {
     "data": {
      "image/svg+xml": [
       "<svg xmlns=\"http://www.w3.org/2000/svg\" xmlns:rdkit=\"http://www.rdkit.org/xml\" xmlns:xlink=\"http://www.w3.org/1999/xlink\" version=\"1.1\" baseProfile=\"full\" xml:space=\"preserve\" width=\"450px\" height=\"150px\" viewBox=\"0 0 450 150\">\n",
       "<!-- END OF HEADER -->\n",
       "<rect style=\"opacity:1.0;fill:#FFFFFF;stroke:none\" width=\"450.0\" height=\"150.0\" x=\"0.0\" y=\"0.0\"> </rect>\n",
       "<path class=\"bond-0 atom-1 atom-2\" d=\"M 197.9,69.1 L 179.7,79.4\" style=\"fill:none;fill-rule:evenodd;stroke:#000000;stroke-width:2.0px;stroke-linecap:butt;stroke-linejoin:miter;stroke-opacity:1\"/>\n",
       "<path class=\"bond-1 atom-2 atom-3\" d=\"M 179.7,79.4 L 161.7,68.8\" style=\"fill:none;fill-rule:evenodd;stroke:#000000;stroke-width:2.0px;stroke-linecap:butt;stroke-linejoin:miter;stroke-opacity:1\"/>\n",
       "<path class=\"bond-1 atom-2 atom-3\" d=\"M 174.9,81.4 L 162.3,74.0\" style=\"fill:none;fill-rule:evenodd;stroke:#000000;stroke-width:2.0px;stroke-linecap:butt;stroke-linejoin:miter;stroke-opacity:1\"/>\n",
       "<path class=\"bond-2 atom-3 atom-4\" d=\"M 161.7,68.8 L 143.5,79.0\" style=\"fill:none;fill-rule:evenodd;stroke:#000000;stroke-width:2.0px;stroke-linecap:butt;stroke-linejoin:miter;stroke-opacity:1\"/>\n",
       "<path class=\"bond-3 atom-4 atom-5\" d=\"M 143.5,79.0 L 143.3,99.9\" style=\"fill:none;fill-rule:evenodd;stroke:#000000;stroke-width:2.0px;stroke-linecap:butt;stroke-linejoin:miter;stroke-opacity:1\"/>\n",
       "<path class=\"bond-3 atom-4 atom-5\" d=\"M 147.7,82.2 L 147.5,96.8\" style=\"fill:none;fill-rule:evenodd;stroke:#000000;stroke-width:2.0px;stroke-linecap:butt;stroke-linejoin:miter;stroke-opacity:1\"/>\n",
       "<path class=\"bond-4 atom-5 atom-6\" d=\"M 143.3,99.9 L 161.3,110.6\" style=\"fill:none;fill-rule:evenodd;stroke:#000000;stroke-width:2.0px;stroke-linecap:butt;stroke-linejoin:miter;stroke-opacity:1\"/>\n",
       "<path class=\"bond-5 atom-6 atom-7\" d=\"M 161.3,110.6 L 179.5,100.3\" style=\"fill:none;fill-rule:evenodd;stroke:#000000;stroke-width:2.0px;stroke-linecap:butt;stroke-linejoin:miter;stroke-opacity:1\"/>\n",
       "<path class=\"bond-5 atom-6 atom-7\" d=\"M 162.0,105.4 L 174.7,98.2\" style=\"fill:none;fill-rule:evenodd;stroke:#000000;stroke-width:2.0px;stroke-linecap:butt;stroke-linejoin:miter;stroke-opacity:1\"/>\n",
       "<path class=\"bond-6 atom-7 atom-2\" d=\"M 179.5,100.3 L 179.7,79.4\" style=\"fill:none;fill-rule:evenodd;stroke:#000000;stroke-width:2.0px;stroke-linecap:butt;stroke-linejoin:miter;stroke-opacity:1\"/>\n",
       "<path class=\"bond-7 atom-0 atom-1\" d=\"M 198.1,51.9 L 197.9,69.1\" style=\"fill:none;fill-rule:evenodd;stroke:#000000;stroke-width:2.0px;stroke-linecap:butt;stroke-linejoin:miter;stroke-opacity:1\"/>\n",
       "<path class=\"bond-8 atom-8 atom-9\" d=\"M 215.9,79.8 L 215.7,100.7\" style=\"fill:none;fill-rule:evenodd;stroke:#000000;stroke-width:2.0px;stroke-linecap:butt;stroke-linejoin:miter;stroke-opacity:1\"/>\n",
       "<path class=\"bond-9 atom-9 atom-10\" d=\"M 215.7,100.7 L 197.5,110.9\" style=\"fill:none;fill-rule:evenodd;stroke:#000000;stroke-width:2.0px;stroke-linecap:butt;stroke-linejoin:miter;stroke-opacity:1\"/>\n",
       "<path class=\"bond-9 atom-9 atom-10\" d=\"M 215.0,105.8 L 202.3,113.0\" style=\"fill:none;fill-rule:evenodd;stroke:#000000;stroke-width:2.0px;stroke-linecap:butt;stroke-linejoin:miter;stroke-opacity:1\"/>\n",
       "<path class=\"bond-10 atom-10 atom-11\" d=\"M 197.5,110.9 L 197.3,131.8\" style=\"fill:none;fill-rule:evenodd;stroke:#000000;stroke-width:2.0px;stroke-linecap:butt;stroke-linejoin:miter;stroke-opacity:1\"/>\n",
       "<path class=\"bond-11 atom-11 atom-12\" d=\"M 197.3,131.8 L 215.3,142.4\" style=\"fill:none;fill-rule:evenodd;stroke:#000000;stroke-width:2.0px;stroke-linecap:butt;stroke-linejoin:miter;stroke-opacity:1\"/>\n",
       "<path class=\"bond-11 atom-11 atom-12\" d=\"M 202.1,129.8 L 214.7,137.3\" style=\"fill:none;fill-rule:evenodd;stroke:#000000;stroke-width:2.0px;stroke-linecap:butt;stroke-linejoin:miter;stroke-opacity:1\"/>\n",
       "<path class=\"bond-12 atom-12 atom-13\" d=\"M 215.3,142.4 L 233.5,132.2\" style=\"fill:none;fill-rule:evenodd;stroke:#000000;stroke-width:2.0px;stroke-linecap:butt;stroke-linejoin:miter;stroke-opacity:1\"/>\n",
       "<path class=\"bond-13 atom-13 atom-14\" d=\"M 233.5,132.2 L 233.7,111.3\" style=\"fill:none;fill-rule:evenodd;stroke:#000000;stroke-width:2.0px;stroke-linecap:butt;stroke-linejoin:miter;stroke-opacity:1\"/>\n",
       "<path class=\"bond-13 atom-13 atom-14\" d=\"M 229.3,129.0 L 229.5,114.4\" style=\"fill:none;fill-rule:evenodd;stroke:#000000;stroke-width:2.0px;stroke-linecap:butt;stroke-linejoin:miter;stroke-opacity:1\"/>\n",
       "<path class=\"bond-14 atom-14 atom-9\" d=\"M 233.7,111.3 L 215.7,100.7\" style=\"fill:none;fill-rule:evenodd;stroke:#000000;stroke-width:2.0px;stroke-linecap:butt;stroke-linejoin:miter;stroke-opacity:1\"/>\n",
       "<path class=\"bond-15 atom-1 atom-8\" d=\"M 197.9,69.1 L 215.9,79.8\" style=\"fill:none;fill-rule:evenodd;stroke:#000000;stroke-width:2.0px;stroke-linecap:butt;stroke-linejoin:miter;stroke-opacity:1\"/>\n",
       "<path class=\"bond-16 atom-15 atom-16\" d=\"M 234.1,69.5 L 234.3,48.6\" style=\"fill:none;fill-rule:evenodd;stroke:#000000;stroke-width:2.0px;stroke-linecap:butt;stroke-linejoin:miter;stroke-opacity:1\"/>\n",
       "<path class=\"bond-17 atom-16 atom-17\" d=\"M 234.3,48.6 L 252.5,38.3\" style=\"fill:none;fill-rule:evenodd;stroke:#000000;stroke-width:2.0px;stroke-linecap:butt;stroke-linejoin:miter;stroke-opacity:1\"/>\n",
       "<path class=\"bond-17 atom-16 atom-17\" d=\"M 235.0,43.4 L 247.7,36.2\" style=\"fill:none;fill-rule:evenodd;stroke:#000000;stroke-width:2.0px;stroke-linecap:butt;stroke-linejoin:miter;stroke-opacity:1\"/>\n",
       "<path class=\"bond-18 atom-17 atom-18\" d=\"M 252.5,38.3 L 252.7,17.4\" style=\"fill:none;fill-rule:evenodd;stroke:#000000;stroke-width:2.0px;stroke-linecap:butt;stroke-linejoin:miter;stroke-opacity:1\"/>\n",
       "<path class=\"bond-19 atom-18 atom-19\" d=\"M 252.7,17.4 L 234.7,6.8\" style=\"fill:none;fill-rule:evenodd;stroke:#000000;stroke-width:2.0px;stroke-linecap:butt;stroke-linejoin:miter;stroke-opacity:1\"/>\n",
       "<path class=\"bond-19 atom-18 atom-19\" d=\"M 247.9,19.5 L 235.3,12.0\" style=\"fill:none;fill-rule:evenodd;stroke:#000000;stroke-width:2.0px;stroke-linecap:butt;stroke-linejoin:miter;stroke-opacity:1\"/>\n",
       "<path class=\"bond-20 atom-19 atom-20\" d=\"M 234.7,6.8 L 216.5,17.1\" style=\"fill:none;fill-rule:evenodd;stroke:#000000;stroke-width:2.0px;stroke-linecap:butt;stroke-linejoin:miter;stroke-opacity:1\"/>\n",
       "<path class=\"bond-21 atom-20 atom-21\" d=\"M 216.5,17.1 L 216.3,38.0\" style=\"fill:none;fill-rule:evenodd;stroke:#000000;stroke-width:2.0px;stroke-linecap:butt;stroke-linejoin:miter;stroke-opacity:1\"/>\n",
       "<path class=\"bond-21 atom-20 atom-21\" d=\"M 220.7,20.3 L 220.5,34.9\" style=\"fill:none;fill-rule:evenodd;stroke:#000000;stroke-width:2.0px;stroke-linecap:butt;stroke-linejoin:miter;stroke-opacity:1\"/>\n",
       "<path class=\"bond-22 atom-21 atom-16\" d=\"M 216.3,38.0 L 234.3,48.6\" style=\"fill:none;fill-rule:evenodd;stroke:#000000;stroke-width:2.0px;stroke-linecap:butt;stroke-linejoin:miter;stroke-opacity:1\"/>\n",
       "<path class=\"bond-23 atom-8 atom-15\" d=\"M 215.9,79.8 L 234.1,69.5\" style=\"fill:none;fill-rule:evenodd;stroke:#000000;stroke-width:2.0px;stroke-linecap:butt;stroke-linejoin:miter;stroke-opacity:1\"/>\n",
       "<path class=\"bond-24 atom-22 atom-23\" d=\"M 252.1,80.1 L 270.3,69.9\" style=\"fill:none;fill-rule:evenodd;stroke:#000000;stroke-width:2.0px;stroke-linecap:butt;stroke-linejoin:miter;stroke-opacity:1\"/>\n",
       "<path class=\"bond-25 atom-23 atom-24\" d=\"M 270.3,69.9 L 288.3,80.5\" style=\"fill:none;fill-rule:evenodd;stroke:#000000;stroke-width:2.0px;stroke-linecap:butt;stroke-linejoin:miter;stroke-opacity:1\"/>\n",
       "<path class=\"bond-25 atom-23 atom-24\" d=\"M 275.1,67.9 L 287.7,75.3\" style=\"fill:none;fill-rule:evenodd;stroke:#000000;stroke-width:2.0px;stroke-linecap:butt;stroke-linejoin:miter;stroke-opacity:1\"/>\n",
       "<path class=\"bond-26 atom-24 atom-25\" d=\"M 288.3,80.5 L 306.5,70.2\" style=\"fill:none;fill-rule:evenodd;stroke:#000000;stroke-width:2.0px;stroke-linecap:butt;stroke-linejoin:miter;stroke-opacity:1\"/>\n",
       "<path class=\"bond-27 atom-25 atom-26\" d=\"M 306.5,70.2 L 306.7,49.3\" style=\"fill:none;fill-rule:evenodd;stroke:#000000;stroke-width:2.0px;stroke-linecap:butt;stroke-linejoin:miter;stroke-opacity:1\"/>\n",
       "<path class=\"bond-27 atom-25 atom-26\" d=\"M 302.3,67.1 L 302.5,52.4\" style=\"fill:none;fill-rule:evenodd;stroke:#000000;stroke-width:2.0px;stroke-linecap:butt;stroke-linejoin:miter;stroke-opacity:1\"/>\n",
       "<path class=\"bond-28 atom-26 atom-27\" d=\"M 306.7,49.3 L 288.7,38.7\" style=\"fill:none;fill-rule:evenodd;stroke:#000000;stroke-width:2.0px;stroke-linecap:butt;stroke-linejoin:miter;stroke-opacity:1\"/>\n",
       "<path class=\"bond-29 atom-27 atom-28\" d=\"M 288.7,38.7 L 270.5,49.0\" style=\"fill:none;fill-rule:evenodd;stroke:#000000;stroke-width:2.0px;stroke-linecap:butt;stroke-linejoin:miter;stroke-opacity:1\"/>\n",
       "<path class=\"bond-29 atom-27 atom-28\" d=\"M 288.0,43.9 L 275.3,51.1\" style=\"fill:none;fill-rule:evenodd;stroke:#000000;stroke-width:2.0px;stroke-linecap:butt;stroke-linejoin:miter;stroke-opacity:1\"/>\n",
       "<path class=\"bond-30 atom-28 atom-23\" d=\"M 270.5,49.0 L 270.3,69.9\" style=\"fill:none;fill-rule:evenodd;stroke:#000000;stroke-width:2.0px;stroke-linecap:butt;stroke-linejoin:miter;stroke-opacity:1\"/>\n",
       "<path class=\"bond-31 atom-15 atom-22\" d=\"M 234.1,69.5 L 252.1,80.1\" style=\"fill:none;fill-rule:evenodd;stroke:#000000;stroke-width:2.0px;stroke-linecap:butt;stroke-linejoin:miter;stroke-opacity:1\"/>\n",
       "<path class=\"bond-32 atom-29 atom-30\" d=\"M 251.9,101.0 L 269.9,111.7\" style=\"fill:none;fill-rule:evenodd;stroke:#000000;stroke-width:2.0px;stroke-linecap:butt;stroke-linejoin:miter;stroke-opacity:1\"/>\n",
       "<path class=\"bond-33 atom-30 atom-31\" d=\"M 269.9,111.7 L 269.7,132.6\" style=\"fill:none;fill-rule:evenodd;stroke:#000000;stroke-width:2.0px;stroke-linecap:butt;stroke-linejoin:miter;stroke-opacity:1\"/>\n",
       "<path class=\"bond-33 atom-30 atom-31\" d=\"M 274.0,114.8 L 273.9,129.5\" style=\"fill:none;fill-rule:evenodd;stroke:#000000;stroke-width:2.0px;stroke-linecap:butt;stroke-linejoin:miter;stroke-opacity:1\"/>\n",
       "<path class=\"bond-34 atom-31 atom-32\" d=\"M 269.7,132.6 L 287.6,143.2\" style=\"fill:none;fill-rule:evenodd;stroke:#000000;stroke-width:2.0px;stroke-linecap:butt;stroke-linejoin:miter;stroke-opacity:1\"/>\n",
       "<path class=\"bond-35 atom-32 atom-33\" d=\"M 287.6,143.2 L 305.8,132.9\" style=\"fill:none;fill-rule:evenodd;stroke:#000000;stroke-width:2.0px;stroke-linecap:butt;stroke-linejoin:miter;stroke-opacity:1\"/>\n",
       "<path class=\"bond-35 atom-32 atom-33\" d=\"M 288.3,138.0 L 301.1,130.8\" style=\"fill:none;fill-rule:evenodd;stroke:#000000;stroke-width:2.0px;stroke-linecap:butt;stroke-linejoin:miter;stroke-opacity:1\"/>\n",
       "<path class=\"bond-36 atom-33 atom-34\" d=\"M 305.8,132.9 L 306.1,112.0\" style=\"fill:none;fill-rule:evenodd;stroke:#000000;stroke-width:2.0px;stroke-linecap:butt;stroke-linejoin:miter;stroke-opacity:1\"/>\n",
       "<path class=\"bond-37 atom-34 atom-35\" d=\"M 306.1,112.0 L 288.1,101.4\" style=\"fill:none;fill-rule:evenodd;stroke:#000000;stroke-width:2.0px;stroke-linecap:butt;stroke-linejoin:miter;stroke-opacity:1\"/>\n",
       "<path class=\"bond-37 atom-34 atom-35\" d=\"M 301.2,114.0 L 288.6,106.6\" style=\"fill:none;fill-rule:evenodd;stroke:#000000;stroke-width:2.0px;stroke-linecap:butt;stroke-linejoin:miter;stroke-opacity:1\"/>\n",
       "<path class=\"bond-38 atom-35 atom-30\" d=\"M 288.1,101.4 L 269.9,111.7\" style=\"fill:none;fill-rule:evenodd;stroke:#000000;stroke-width:2.0px;stroke-linecap:butt;stroke-linejoin:miter;stroke-opacity:1\"/>\n",
       "<path class=\"bond-39 atom-22 atom-29\" d=\"M 252.1,80.1 L 251.9,101.0\" style=\"fill:none;fill-rule:evenodd;stroke:#000000;stroke-width:2.0px;stroke-linecap:butt;stroke-linejoin:miter;stroke-opacity:1\"/>\n",
       "<path class=\"bond-40 atom-29 atom-36\" d=\"M 251.9,101.0 L 246.8,105.8\" style=\"fill:none;fill-rule:evenodd;stroke:#000000;stroke-width:2.0px;stroke-linecap:butt;stroke-linejoin:miter;stroke-opacity:1\"/>\n",
       "<path class=\"atom-0\" d=\"M 195.8 45.3 L 196.6 45.3 L 196.6 47.8 L 199.6 47.8 L 199.6 45.3 L 200.4 45.3 L 200.4 51.2 L 199.6 51.2 L 199.6 48.5 L 196.6 48.5 L 196.6 51.2 L 195.8 51.2 L 195.8 45.3 \" fill=\"#000000\"/>\n",
       "<path class=\"atom-36\" d=\"M 241.5 105.7 L 242.3 105.7 L 242.3 108.2 L 245.3 108.2 L 245.3 105.7 L 246.1 105.7 L 246.1 111.6 L 245.3 111.6 L 245.3 108.9 L 242.3 108.9 L 242.3 111.6 L 241.5 111.6 L 241.5 105.7 \" fill=\"#000000\"/>\n",
       "<path class=\"atom-0\" d=\"M 202.1,48.2 L 202.1,48.3 L 202.1,48.3 L 202.1,48.3 L 202.1,48.4 L 202.1,48.4 L 202.1,48.4 L 202.0,48.5 L 202.0,48.5 L 202.0,48.5 L 202.0,48.6 L 201.9,48.6 L 201.9,48.6 L 201.9,48.6 L 201.8,48.6 L 201.8,48.6 L 201.8,48.6 L 201.7,48.7 L 201.7,48.7 L 201.7,48.7 L 201.6,48.7 L 201.6,48.6 L 201.6,48.6 L 201.5,48.6 L 201.5,48.6 L 201.5,48.6 L 201.4,48.6 L 201.4,48.5 L 201.4,48.5 L 201.4,48.5 L 201.3,48.5 L 201.3,48.4 L 201.3,48.4 L 201.3,48.4 L 201.3,48.3 L 201.3,48.3 L 201.3,48.3 L 201.3,48.2 L 201.3,48.2 L 201.3,48.1 L 201.3,48.1 L 201.3,48.1 L 201.3,48.0 L 201.3,48.0 L 201.4,48.0 L 201.4,48.0 L 201.4,47.9 L 201.4,47.9 L 201.5,47.9 L 201.5,47.9 L 201.5,47.9 L 201.6,47.8 L 201.6,47.8 L 201.6,47.8 L 201.7,47.8 L 201.7,47.8 L 201.7,47.8 L 201.8,47.8 L 201.8,47.8 L 201.8,47.8 L 201.9,47.9 L 201.9,47.9 L 201.9,47.9 L 202.0,47.9 L 202.0,47.9 L 202.0,48.0 L 202.0,48.0 L 202.1,48.0 L 202.1,48.1 L 202.1,48.1 L 202.1,48.1 L 202.1,48.2 L 202.1,48.2 L 202.1,48.2 L 201.7,48.2 Z\" style=\"fill:#000000;fill-rule:evenodd;fill-opacity:1;stroke:#000000;stroke-width:0.0px;stroke-linecap:butt;stroke-linejoin:miter;stroke-opacity:1;\"/>\n",
       "<path class=\"atom-36\" d=\"M 240.7,108.7 L 240.7,108.7 L 240.7,108.7 L 240.6,108.8 L 240.6,108.8 L 240.6,108.8 L 240.6,108.9 L 240.6,108.9 L 240.6,108.9 L 240.5,109.0 L 240.5,109.0 L 240.5,109.0 L 240.5,109.0 L 240.4,109.0 L 240.4,109.0 L 240.4,109.1 L 240.3,109.1 L 240.3,109.1 L 240.3,109.1 L 240.2,109.1 L 240.2,109.1 L 240.1,109.1 L 240.1,109.1 L 240.1,109.0 L 240.0,109.0 L 240.0,109.0 L 240.0,109.0 L 240.0,109.0 L 239.9,108.9 L 239.9,108.9 L 239.9,108.9 L 239.9,108.8 L 239.9,108.8 L 239.8,108.8 L 239.8,108.7 L 239.8,108.7 L 239.8,108.7 L 239.8,108.6 L 239.8,108.6 L 239.8,108.6 L 239.8,108.5 L 239.9,108.5 L 239.9,108.5 L 239.9,108.4 L 239.9,108.4 L 239.9,108.4 L 240.0,108.4 L 240.0,108.3 L 240.0,108.3 L 240.0,108.3 L 240.1,108.3 L 240.1,108.3 L 240.1,108.3 L 240.2,108.2 L 240.2,108.2 L 240.3,108.2 L 240.3,108.2 L 240.3,108.2 L 240.4,108.3 L 240.4,108.3 L 240.4,108.3 L 240.5,108.3 L 240.5,108.3 L 240.5,108.3 L 240.5,108.4 L 240.6,108.4 L 240.6,108.4 L 240.6,108.5 L 240.6,108.5 L 240.6,108.5 L 240.6,108.6 L 240.7,108.6 L 240.7,108.6 L 240.7,108.7 L 240.2,108.7 Z\" style=\"fill:#000000;fill-rule:evenodd;fill-opacity:1;stroke:#000000;stroke-width:0.0px;stroke-linecap:butt;stroke-linejoin:miter;stroke-opacity:1;\"/>\n",
       "</svg>"
      ],
      "text/plain": [
       "<IPython.core.display.SVG object>"
      ]
     },
     "execution_count": 35,
     "metadata": {},
     "output_type": "execute_result"
    }
   ],
   "source": [
    "big_smiles_gen(big, 1)"
   ]
  },
  {
   "cell_type": "markdown",
   "id": "7190b531",
   "metadata": {},
   "source": [
    "## Poly(acrylic acid butyl - r - acrylamide) (25% acrylamide)"
   ]
  },
  {
   "cell_type": "code",
   "execution_count": 36,
   "id": "f0c07851",
   "metadata": {},
   "outputs": [
    {
     "name": "stdout",
     "output_type": "stream",
     "text": [
      "22\n"
     ]
    },
    {
     "data": {
      "image/svg+xml": [
       "<svg xmlns=\"http://www.w3.org/2000/svg\" xmlns:rdkit=\"http://www.rdkit.org/xml\" xmlns:xlink=\"http://www.w3.org/1999/xlink\" version=\"1.1\" baseProfile=\"full\" xml:space=\"preserve\" width=\"450px\" height=\"150px\" viewBox=\"0 0 450 150\">\n",
       "<!-- END OF HEADER -->\n",
       "<rect style=\"opacity:1.0;fill:#FFFFFF;stroke:none\" width=\"450.0\" height=\"150.0\" x=\"0.0\" y=\"0.0\"> </rect>\n",
       "<path class=\"bond-0 atom-1 atom-2\" d=\"M 237.5,42.7 L 227.4,32.7\" style=\"fill:none;fill-rule:evenodd;stroke:#000000;stroke-width:2.0px;stroke-linecap:butt;stroke-linejoin:miter;stroke-opacity:1\"/>\n",
       "<path class=\"bond-1 atom-2 atom-3\" d=\"M 227.4,32.7 L 230.9,18.9\" style=\"fill:none;fill-rule:evenodd;stroke:#000000;stroke-width:2.0px;stroke-linecap:butt;stroke-linejoin:miter;stroke-opacity:1\"/>\n",
       "<path class=\"bond-2 atom-3 atom-4\" d=\"M 230.6,17.5 L 236.2,16.0\" style=\"fill:none;fill-rule:evenodd;stroke:#000000;stroke-width:2.0px;stroke-linecap:butt;stroke-linejoin:miter;stroke-opacity:1\"/>\n",
       "<path class=\"bond-2 atom-3 atom-4\" d=\"M 236.2,16.0 L 241.9,14.4\" style=\"fill:none;fill-rule:evenodd;stroke:#FF0000;stroke-width:2.0px;stroke-linecap:butt;stroke-linejoin:miter;stroke-opacity:1\"/>\n",
       "<path class=\"bond-2 atom-3 atom-4\" d=\"M 231.3,20.3 L 237.0,18.7\" style=\"fill:none;fill-rule:evenodd;stroke:#000000;stroke-width:2.0px;stroke-linecap:butt;stroke-linejoin:miter;stroke-opacity:1\"/>\n",
       "<path class=\"bond-2 atom-3 atom-4\" d=\"M 237.0,18.7 L 242.7,17.1\" style=\"fill:none;fill-rule:evenodd;stroke:#FF0000;stroke-width:2.0px;stroke-linecap:butt;stroke-linejoin:miter;stroke-opacity:1\"/>\n",
       "<path class=\"bond-3 atom-3 atom-5\" d=\"M 230.9,18.9 L 226.9,14.9\" style=\"fill:none;fill-rule:evenodd;stroke:#000000;stroke-width:2.0px;stroke-linecap:butt;stroke-linejoin:miter;stroke-opacity:1\"/>\n",
       "<path class=\"bond-3 atom-3 atom-5\" d=\"M 226.9,14.9 L 222.8,10.9\" style=\"fill:none;fill-rule:evenodd;stroke:#0000FF;stroke-width:2.0px;stroke-linecap:butt;stroke-linejoin:miter;stroke-opacity:1\"/>\n",
       "<path class=\"bond-4 atom-0 atom-1\" d=\"M 249.2,39.5 L 237.5,42.7\" style=\"fill:none;fill-rule:evenodd;stroke:#000000;stroke-width:2.0px;stroke-linecap:butt;stroke-linejoin:miter;stroke-opacity:1\"/>\n",
       "<path class=\"bond-5 atom-6 atom-7\" d=\"M 234.0,56.5 L 244.1,66.5\" style=\"fill:none;fill-rule:evenodd;stroke:#000000;stroke-width:2.0px;stroke-linecap:butt;stroke-linejoin:miter;stroke-opacity:1\"/>\n",
       "<path class=\"bond-6 atom-7 atom-8\" d=\"M 244.1,66.5 L 257.9,62.7\" style=\"fill:none;fill-rule:evenodd;stroke:#000000;stroke-width:2.0px;stroke-linecap:butt;stroke-linejoin:miter;stroke-opacity:1\"/>\n",
       "<path class=\"bond-7 atom-8 atom-9\" d=\"M 256.5,62.4 L 257.9,56.8\" style=\"fill:none;fill-rule:evenodd;stroke:#000000;stroke-width:2.0px;stroke-linecap:butt;stroke-linejoin:miter;stroke-opacity:1\"/>\n",
       "<path class=\"bond-7 atom-8 atom-9\" d=\"M 257.9,56.8 L 259.4,51.3\" style=\"fill:none;fill-rule:evenodd;stroke:#FF0000;stroke-width:2.0px;stroke-linecap:butt;stroke-linejoin:miter;stroke-opacity:1\"/>\n",
       "<path class=\"bond-7 atom-8 atom-9\" d=\"M 259.3,63.1 L 260.7,57.5\" style=\"fill:none;fill-rule:evenodd;stroke:#000000;stroke-width:2.0px;stroke-linecap:butt;stroke-linejoin:miter;stroke-opacity:1\"/>\n",
       "<path class=\"bond-7 atom-8 atom-9\" d=\"M 260.7,57.5 L 262.1,52.0\" style=\"fill:none;fill-rule:evenodd;stroke:#FF0000;stroke-width:2.0px;stroke-linecap:butt;stroke-linejoin:miter;stroke-opacity:1\"/>\n",
       "<path class=\"bond-8 atom-8 atom-10\" d=\"M 257.9,62.7 L 261.8,66.6\" style=\"fill:none;fill-rule:evenodd;stroke:#000000;stroke-width:2.0px;stroke-linecap:butt;stroke-linejoin:miter;stroke-opacity:1\"/>\n",
       "<path class=\"bond-8 atom-8 atom-10\" d=\"M 261.8,66.6 L 265.6,70.4\" style=\"fill:none;fill-rule:evenodd;stroke:#FF0000;stroke-width:2.0px;stroke-linecap:butt;stroke-linejoin:miter;stroke-opacity:1\"/>\n",
       "<path class=\"bond-9 atom-10 atom-11\" d=\"M 270.5,72.1 L 276.1,70.5\" style=\"fill:none;fill-rule:evenodd;stroke:#FF0000;stroke-width:2.0px;stroke-linecap:butt;stroke-linejoin:miter;stroke-opacity:1\"/>\n",
       "<path class=\"bond-9 atom-10 atom-11\" d=\"M 276.1,70.5 L 281.8,68.9\" style=\"fill:none;fill-rule:evenodd;stroke:#000000;stroke-width:2.0px;stroke-linecap:butt;stroke-linejoin:miter;stroke-opacity:1\"/>\n",
       "<path class=\"bond-10 atom-11 atom-12\" d=\"M 281.8,68.9 L 292.0,78.9\" style=\"fill:none;fill-rule:evenodd;stroke:#000000;stroke-width:2.0px;stroke-linecap:butt;stroke-linejoin:miter;stroke-opacity:1\"/>\n",
       "<path class=\"bond-11 atom-12 atom-13\" d=\"M 292.0,78.9 L 305.7,75.1\" style=\"fill:none;fill-rule:evenodd;stroke:#000000;stroke-width:2.0px;stroke-linecap:butt;stroke-linejoin:miter;stroke-opacity:1\"/>\n",
       "<path class=\"bond-12 atom-13 atom-14\" d=\"M 305.7,75.1 L 315.9,85.2\" style=\"fill:none;fill-rule:evenodd;stroke:#000000;stroke-width:2.0px;stroke-linecap:butt;stroke-linejoin:miter;stroke-opacity:1\"/>\n",
       "<path class=\"bond-13 atom-1 atom-6\" d=\"M 237.5,42.7 L 234.0,56.5\" style=\"fill:none;fill-rule:evenodd;stroke:#000000;stroke-width:2.0px;stroke-linecap:butt;stroke-linejoin:miter;stroke-opacity:1\"/>\n",
       "<path class=\"bond-14 atom-15 atom-16\" d=\"M 220.2,60.3 L 216.6,74.2\" style=\"fill:none;fill-rule:evenodd;stroke:#000000;stroke-width:2.0px;stroke-linecap:butt;stroke-linejoin:miter;stroke-opacity:1\"/>\n",
       "<path class=\"bond-15 atom-16 atom-17\" d=\"M 216.6,74.2 L 226.8,84.2\" style=\"fill:none;fill-rule:evenodd;stroke:#000000;stroke-width:2.0px;stroke-linecap:butt;stroke-linejoin:miter;stroke-opacity:1\"/>\n",
       "<path class=\"bond-16 atom-17 atom-18\" d=\"M 226.4,82.8 L 232.1,81.2\" style=\"fill:none;fill-rule:evenodd;stroke:#000000;stroke-width:2.0px;stroke-linecap:butt;stroke-linejoin:miter;stroke-opacity:1\"/>\n",
       "<path class=\"bond-16 atom-17 atom-18\" d=\"M 232.1,81.2 L 237.7,79.7\" style=\"fill:none;fill-rule:evenodd;stroke:#FF0000;stroke-width:2.0px;stroke-linecap:butt;stroke-linejoin:miter;stroke-opacity:1\"/>\n",
       "<path class=\"bond-16 atom-17 atom-18\" d=\"M 227.2,85.5 L 232.8,84.0\" style=\"fill:none;fill-rule:evenodd;stroke:#000000;stroke-width:2.0px;stroke-linecap:butt;stroke-linejoin:miter;stroke-opacity:1\"/>\n",
       "<path class=\"bond-16 atom-17 atom-18\" d=\"M 232.8,84.0 L 238.5,82.4\" style=\"fill:none;fill-rule:evenodd;stroke:#FF0000;stroke-width:2.0px;stroke-linecap:butt;stroke-linejoin:miter;stroke-opacity:1\"/>\n",
       "<path class=\"bond-17 atom-17 atom-19\" d=\"M 226.8,84.2 L 225.3,89.8\" style=\"fill:none;fill-rule:evenodd;stroke:#000000;stroke-width:2.0px;stroke-linecap:butt;stroke-linejoin:miter;stroke-opacity:1\"/>\n",
       "<path class=\"bond-17 atom-17 atom-19\" d=\"M 225.3,89.8 L 223.9,95.4\" style=\"fill:none;fill-rule:evenodd;stroke:#0000FF;stroke-width:2.0px;stroke-linecap:butt;stroke-linejoin:miter;stroke-opacity:1\"/>\n",
       "<path class=\"bond-18 atom-6 atom-15\" d=\"M 234.0,56.5 L 220.2,60.3\" style=\"fill:none;fill-rule:evenodd;stroke:#000000;stroke-width:2.0px;stroke-linecap:butt;stroke-linejoin:miter;stroke-opacity:1\"/>\n",
       "<path class=\"bond-19 atom-20 atom-21\" d=\"M 210.0,50.3 L 213.6,36.5\" style=\"fill:none;fill-rule:evenodd;stroke:#000000;stroke-width:2.0px;stroke-linecap:butt;stroke-linejoin:miter;stroke-opacity:1\"/>\n",
       "<path class=\"bond-20 atom-21 atom-22\" d=\"M 213.6,36.5 L 203.4,26.5\" style=\"fill:none;fill-rule:evenodd;stroke:#000000;stroke-width:2.0px;stroke-linecap:butt;stroke-linejoin:miter;stroke-opacity:1\"/>\n",
       "<path class=\"bond-21 atom-22 atom-23\" d=\"M 202.0,26.2 L 203.5,20.6\" style=\"fill:none;fill-rule:evenodd;stroke:#000000;stroke-width:2.0px;stroke-linecap:butt;stroke-linejoin:miter;stroke-opacity:1\"/>\n",
       "<path class=\"bond-21 atom-22 atom-23\" d=\"M 203.5,20.6 L 204.9,15.0\" style=\"fill:none;fill-rule:evenodd;stroke:#FF0000;stroke-width:2.0px;stroke-linecap:butt;stroke-linejoin:miter;stroke-opacity:1\"/>\n",
       "<path class=\"bond-21 atom-22 atom-23\" d=\"M 204.8,26.9 L 206.3,21.3\" style=\"fill:none;fill-rule:evenodd;stroke:#000000;stroke-width:2.0px;stroke-linecap:butt;stroke-linejoin:miter;stroke-opacity:1\"/>\n",
       "<path class=\"bond-21 atom-22 atom-23\" d=\"M 206.3,21.3 L 207.7,15.7\" style=\"fill:none;fill-rule:evenodd;stroke:#FF0000;stroke-width:2.0px;stroke-linecap:butt;stroke-linejoin:miter;stroke-opacity:1\"/>\n",
       "<path class=\"bond-22 atom-22 atom-24\" d=\"M 203.4,26.5 L 197.8,28.1\" style=\"fill:none;fill-rule:evenodd;stroke:#000000;stroke-width:2.0px;stroke-linecap:butt;stroke-linejoin:miter;stroke-opacity:1\"/>\n",
       "<path class=\"bond-22 atom-22 atom-24\" d=\"M 197.8,28.1 L 192.1,29.6\" style=\"fill:none;fill-rule:evenodd;stroke:#FF0000;stroke-width:2.0px;stroke-linecap:butt;stroke-linejoin:miter;stroke-opacity:1\"/>\n",
       "<path class=\"bond-23 atom-24 atom-25\" d=\"M 187.3,27.9 L 183.4,24.1\" style=\"fill:none;fill-rule:evenodd;stroke:#FF0000;stroke-width:2.0px;stroke-linecap:butt;stroke-linejoin:miter;stroke-opacity:1\"/>\n",
       "<path class=\"bond-23 atom-24 atom-25\" d=\"M 183.4,24.1 L 179.5,20.3\" style=\"fill:none;fill-rule:evenodd;stroke:#000000;stroke-width:2.0px;stroke-linecap:butt;stroke-linejoin:miter;stroke-opacity:1\"/>\n",
       "<path class=\"bond-24 atom-25 atom-26\" d=\"M 179.5,20.3 L 165.7,24.1\" style=\"fill:none;fill-rule:evenodd;stroke:#000000;stroke-width:2.0px;stroke-linecap:butt;stroke-linejoin:miter;stroke-opacity:1\"/>\n",
       "<path class=\"bond-25 atom-26 atom-27\" d=\"M 165.7,24.1 L 155.6,14.1\" style=\"fill:none;fill-rule:evenodd;stroke:#000000;stroke-width:2.0px;stroke-linecap:butt;stroke-linejoin:miter;stroke-opacity:1\"/>\n",
       "<path class=\"bond-26 atom-27 atom-28\" d=\"M 155.6,14.1 L 141.8,17.9\" style=\"fill:none;fill-rule:evenodd;stroke:#000000;stroke-width:2.0px;stroke-linecap:butt;stroke-linejoin:miter;stroke-opacity:1\"/>\n",
       "<path class=\"bond-27 atom-15 atom-20\" d=\"M 220.2,60.3 L 210.0,50.3\" style=\"fill:none;fill-rule:evenodd;stroke:#000000;stroke-width:2.0px;stroke-linecap:butt;stroke-linejoin:miter;stroke-opacity:1\"/>\n",
       "<path class=\"bond-28 atom-29 atom-30\" d=\"M 196.3,54.1 L 186.1,44.1\" style=\"fill:none;fill-rule:evenodd;stroke:#000000;stroke-width:2.0px;stroke-linecap:butt;stroke-linejoin:miter;stroke-opacity:1\"/>\n",
       "<path class=\"bond-29 atom-30 atom-31\" d=\"M 186.1,44.1 L 172.3,47.9\" style=\"fill:none;fill-rule:evenodd;stroke:#000000;stroke-width:2.0px;stroke-linecap:butt;stroke-linejoin:miter;stroke-opacity:1\"/>\n",
       "<path class=\"bond-30 atom-31 atom-32\" d=\"M 171.3,49.0 L 167.5,45.1\" style=\"fill:none;fill-rule:evenodd;stroke:#000000;stroke-width:2.0px;stroke-linecap:butt;stroke-linejoin:miter;stroke-opacity:1\"/>\n",
       "<path class=\"bond-30 atom-31 atom-32\" d=\"M 167.5,45.1 L 163.6,41.3\" style=\"fill:none;fill-rule:evenodd;stroke:#FF0000;stroke-width:2.0px;stroke-linecap:butt;stroke-linejoin:miter;stroke-opacity:1\"/>\n",
       "<path class=\"bond-30 atom-31 atom-32\" d=\"M 173.3,46.9 L 169.5,43.1\" style=\"fill:none;fill-rule:evenodd;stroke:#000000;stroke-width:2.0px;stroke-linecap:butt;stroke-linejoin:miter;stroke-opacity:1\"/>\n",
       "<path class=\"bond-30 atom-31 atom-32\" d=\"M 169.5,43.1 L 165.6,39.3\" style=\"fill:none;fill-rule:evenodd;stroke:#FF0000;stroke-width:2.0px;stroke-linecap:butt;stroke-linejoin:miter;stroke-opacity:1\"/>\n",
       "<path class=\"bond-31 atom-31 atom-33\" d=\"M 172.3,47.9 L 170.9,53.5\" style=\"fill:none;fill-rule:evenodd;stroke:#000000;stroke-width:2.0px;stroke-linecap:butt;stroke-linejoin:miter;stroke-opacity:1\"/>\n",
       "<path class=\"bond-31 atom-31 atom-33\" d=\"M 170.9,53.5 L 169.4,59.1\" style=\"fill:none;fill-rule:evenodd;stroke:#FF0000;stroke-width:2.0px;stroke-linecap:butt;stroke-linejoin:miter;stroke-opacity:1\"/>\n",
       "<path class=\"bond-32 atom-33 atom-34\" d=\"M 166.3,62.4 L 160.7,64.0\" style=\"fill:none;fill-rule:evenodd;stroke:#FF0000;stroke-width:2.0px;stroke-linecap:butt;stroke-linejoin:miter;stroke-opacity:1\"/>\n",
       "<path class=\"bond-32 atom-33 atom-34\" d=\"M 160.7,64.0 L 155.0,65.6\" style=\"fill:none;fill-rule:evenodd;stroke:#000000;stroke-width:2.0px;stroke-linecap:butt;stroke-linejoin:miter;stroke-opacity:1\"/>\n",
       "<path class=\"bond-33 atom-34 atom-35\" d=\"M 155.0,65.6 L 151.4,79.4\" style=\"fill:none;fill-rule:evenodd;stroke:#000000;stroke-width:2.0px;stroke-linecap:butt;stroke-linejoin:miter;stroke-opacity:1\"/>\n",
       "<path class=\"bond-34 atom-35 atom-36\" d=\"M 151.4,79.4 L 137.7,83.2\" style=\"fill:none;fill-rule:evenodd;stroke:#000000;stroke-width:2.0px;stroke-linecap:butt;stroke-linejoin:miter;stroke-opacity:1\"/>\n",
       "<path class=\"bond-35 atom-36 atom-37\" d=\"M 137.7,83.2 L 134.1,97.0\" style=\"fill:none;fill-rule:evenodd;stroke:#000000;stroke-width:2.0px;stroke-linecap:butt;stroke-linejoin:miter;stroke-opacity:1\"/>\n",
       "<path class=\"bond-36 atom-20 atom-29\" d=\"M 210.0,50.3 L 196.3,54.1\" style=\"fill:none;fill-rule:evenodd;stroke:#000000;stroke-width:2.0px;stroke-linecap:butt;stroke-linejoin:miter;stroke-opacity:1\"/>\n",
       "<path class=\"bond-37 atom-38 atom-39\" d=\"M 192.7,68.0 L 178.9,71.8\" style=\"fill:none;fill-rule:evenodd;stroke:#000000;stroke-width:2.0px;stroke-linecap:butt;stroke-linejoin:miter;stroke-opacity:1\"/>\n",
       "<path class=\"bond-38 atom-39 atom-40\" d=\"M 178.9,71.8 L 175.4,85.6\" style=\"fill:none;fill-rule:evenodd;stroke:#000000;stroke-width:2.0px;stroke-linecap:butt;stroke-linejoin:miter;stroke-opacity:1\"/>\n",
       "<path class=\"bond-39 atom-40 atom-41\" d=\"M 175.7,87.0 L 170.1,88.5\" style=\"fill:none;fill-rule:evenodd;stroke:#000000;stroke-width:2.0px;stroke-linecap:butt;stroke-linejoin:miter;stroke-opacity:1\"/>\n",
       "<path class=\"bond-39 atom-40 atom-41\" d=\"M 170.1,88.5 L 164.4,90.1\" style=\"fill:none;fill-rule:evenodd;stroke:#FF0000;stroke-width:2.0px;stroke-linecap:butt;stroke-linejoin:miter;stroke-opacity:1\"/>\n",
       "<path class=\"bond-39 atom-40 atom-41\" d=\"M 175.0,84.2 L 169.3,85.8\" style=\"fill:none;fill-rule:evenodd;stroke:#000000;stroke-width:2.0px;stroke-linecap:butt;stroke-linejoin:miter;stroke-opacity:1\"/>\n",
       "<path class=\"bond-39 atom-40 atom-41\" d=\"M 169.3,85.8 L 163.6,87.3\" style=\"fill:none;fill-rule:evenodd;stroke:#FF0000;stroke-width:2.0px;stroke-linecap:butt;stroke-linejoin:miter;stroke-opacity:1\"/>\n",
       "<path class=\"bond-40 atom-40 atom-42\" d=\"M 175.4,85.6 L 179.2,89.4\" style=\"fill:none;fill-rule:evenodd;stroke:#000000;stroke-width:2.0px;stroke-linecap:butt;stroke-linejoin:miter;stroke-opacity:1\"/>\n",
       "<path class=\"bond-40 atom-40 atom-42\" d=\"M 179.2,89.4 L 183.1,93.2\" style=\"fill:none;fill-rule:evenodd;stroke:#FF0000;stroke-width:2.0px;stroke-linecap:butt;stroke-linejoin:miter;stroke-opacity:1\"/>\n",
       "<path class=\"bond-41 atom-42 atom-43\" d=\"M 184.8,98.3 L 183.4,103.8\" style=\"fill:none;fill-rule:evenodd;stroke:#FF0000;stroke-width:2.0px;stroke-linecap:butt;stroke-linejoin:miter;stroke-opacity:1\"/>\n",
       "<path class=\"bond-41 atom-42 atom-43\" d=\"M 183.4,103.8 L 181.9,109.4\" style=\"fill:none;fill-rule:evenodd;stroke:#000000;stroke-width:2.0px;stroke-linecap:butt;stroke-linejoin:miter;stroke-opacity:1\"/>\n",
       "<path class=\"bond-42 atom-43 atom-44\" d=\"M 181.9,109.4 L 192.1,119.4\" style=\"fill:none;fill-rule:evenodd;stroke:#000000;stroke-width:2.0px;stroke-linecap:butt;stroke-linejoin:miter;stroke-opacity:1\"/>\n",
       "<path class=\"bond-43 atom-44 atom-45\" d=\"M 192.1,119.4 L 188.5,133.2\" style=\"fill:none;fill-rule:evenodd;stroke:#000000;stroke-width:2.0px;stroke-linecap:butt;stroke-linejoin:miter;stroke-opacity:1\"/>\n",
       "<path class=\"bond-44 atom-45 atom-46\" d=\"M 188.5,133.2 L 198.7,143.2\" style=\"fill:none;fill-rule:evenodd;stroke:#000000;stroke-width:2.0px;stroke-linecap:butt;stroke-linejoin:miter;stroke-opacity:1\"/>\n",
       "<path class=\"bond-45 atom-29 atom-38\" d=\"M 196.3,54.1 L 192.7,68.0\" style=\"fill:none;fill-rule:evenodd;stroke:#000000;stroke-width:2.0px;stroke-linecap:butt;stroke-linejoin:miter;stroke-opacity:1\"/>\n",
       "<path class=\"bond-46 atom-38 atom-47\" d=\"M 192.7,68.0 L 200.7,75.9\" style=\"fill:none;fill-rule:evenodd;stroke:#000000;stroke-width:2.0px;stroke-linecap:butt;stroke-linejoin:miter;stroke-opacity:1\"/>\n",
       "<path class=\"atom-0\" d=\"M 249.6 36.8 L 250.2 36.8 L 250.2 38.6 L 252.4 38.6 L 252.4 36.8 L 252.9 36.8 L 252.9 41.0 L 252.4 41.0 L 252.4 39.1 L 250.2 39.1 L 250.2 41.0 L 249.6 41.0 L 249.6 36.8 \" fill=\"#000000\"/>\n",
       "<path class=\"atom-4\" d=\"M 242.7 15.1 Q 242.7 14.1, 243.2 13.5 Q 243.8 12.9, 244.7 12.9 Q 245.6 12.9, 246.1 13.5 Q 246.6 14.1, 246.6 15.1 Q 246.6 16.1, 246.1 16.7 Q 245.6 17.3, 244.7 17.3 Q 243.8 17.3, 243.2 16.7 Q 242.7 16.1, 242.7 15.1 M 244.7 16.8 Q 245.3 16.8, 245.7 16.4 Q 246.0 16.0, 246.0 15.1 Q 246.0 14.3, 245.7 13.9 Q 245.3 13.4, 244.7 13.4 Q 244.0 13.4, 243.7 13.8 Q 243.3 14.3, 243.3 15.1 Q 243.3 16.0, 243.7 16.4 Q 244.0 16.8, 244.7 16.8 \" fill=\"#FF0000\"/>\n",
       "<path class=\"atom-5\" d=\"M 213.2 6.8 L 213.8 6.8 L 213.8 8.6 L 215.9 8.6 L 215.9 6.8 L 216.5 6.8 L 216.5 11.0 L 215.9 11.0 L 215.9 9.1 L 213.8 9.1 L 213.8 11.0 L 213.2 11.0 L 213.2 6.8 \" fill=\"#0000FF\"/>\n",
       "<path class=\"atom-5\" d=\"M 217.0 10.9 Q 217.1 10.6, 217.4 10.5 Q 217.6 10.3, 218.0 10.3 Q 218.4 10.3, 218.6 10.5 Q 218.9 10.8, 218.9 11.2 Q 218.9 11.6, 218.6 12.0 Q 218.3 12.4, 217.6 12.8 L 218.9 12.8 L 218.9 13.1 L 217.0 13.1 L 217.0 12.9 Q 217.6 12.5, 217.9 12.2 Q 218.2 11.9, 218.3 11.7 Q 218.5 11.4, 218.5 11.2 Q 218.5 10.9, 218.3 10.8 Q 218.2 10.6, 218.0 10.6 Q 217.7 10.6, 217.6 10.7 Q 217.4 10.8, 217.3 11.0 L 217.0 10.9 \" fill=\"#0000FF\"/>\n",
       "<path class=\"atom-5\" d=\"M 219.8 6.8 L 221.2 9.0 Q 221.4 9.2, 221.6 9.6 Q 221.8 10.0, 221.8 10.1 L 221.8 6.8 L 222.4 6.8 L 222.4 11.0 L 221.8 11.0 L 220.3 8.6 Q 220.1 8.3, 219.9 7.9 Q 219.8 7.6, 219.7 7.5 L 219.7 11.0 L 219.2 11.0 L 219.2 6.8 L 219.8 6.8 \" fill=\"#0000FF\"/>\n",
       "<path class=\"atom-9\" d=\"M 259.5 48.9 Q 259.5 47.9, 260.0 47.3 Q 260.5 46.8, 261.5 46.8 Q 262.4 46.8, 262.9 47.3 Q 263.4 47.9, 263.4 48.9 Q 263.4 50.0, 262.9 50.6 Q 262.4 51.1, 261.5 51.1 Q 260.5 51.1, 260.0 50.6 Q 259.5 50.0, 259.5 48.9 M 261.5 50.7 Q 262.1 50.7, 262.5 50.2 Q 262.8 49.8, 262.8 48.9 Q 262.8 48.1, 262.5 47.7 Q 262.1 47.3, 261.5 47.3 Q 260.8 47.3, 260.5 47.7 Q 260.1 48.1, 260.1 48.9 Q 260.1 49.8, 260.5 50.2 Q 260.8 50.7, 261.5 50.7 \" fill=\"#FF0000\"/>\n",
       "<path class=\"atom-10\" d=\"M 266.1 72.8 Q 266.1 71.7, 266.6 71.2 Q 267.1 70.6, 268.1 70.6 Q 269.0 70.6, 269.5 71.2 Q 270.0 71.7, 270.0 72.8 Q 270.0 73.8, 269.5 74.4 Q 269.0 75.0, 268.1 75.0 Q 267.1 75.0, 266.6 74.4 Q 266.1 73.8, 266.1 72.8 M 268.1 74.5 Q 268.7 74.5, 269.0 74.0 Q 269.4 73.6, 269.4 72.8 Q 269.4 71.9, 269.0 71.5 Q 268.7 71.1, 268.1 71.1 Q 267.4 71.1, 267.1 71.5 Q 266.7 71.9, 266.7 72.8 Q 266.7 73.6, 267.1 74.0 Q 267.4 74.5, 268.1 74.5 \" fill=\"#FF0000\"/>\n",
       "<path class=\"atom-18\" d=\"M 238.6 80.4 Q 238.6 79.4, 239.1 78.8 Q 239.6 78.2, 240.5 78.2 Q 241.5 78.2, 242.0 78.8 Q 242.5 79.4, 242.5 80.4 Q 242.5 81.4, 242.0 82.0 Q 241.5 82.6, 240.5 82.6 Q 239.6 82.6, 239.1 82.0 Q 238.6 81.4, 238.6 80.4 M 240.5 82.1 Q 241.2 82.1, 241.5 81.7 Q 241.9 81.2, 241.9 80.4 Q 241.9 79.5, 241.5 79.1 Q 241.2 78.7, 240.5 78.7 Q 239.9 78.7, 239.5 79.1 Q 239.2 79.5, 239.2 80.4 Q 239.2 81.2, 239.5 81.7 Q 239.9 82.1, 240.5 82.1 \" fill=\"#FF0000\"/>\n",
       "<path class=\"atom-19\" d=\"M 222.3 95.9 L 223.7 98.1 Q 223.8 98.3, 224.0 98.7 Q 224.2 99.1, 224.3 99.2 L 224.3 95.9 L 224.8 95.9 L 224.8 100.1 L 224.2 100.1 L 222.7 97.6 Q 222.6 97.4, 222.4 97.0 Q 222.2 96.7, 222.2 96.6 L 222.2 100.1 L 221.6 100.1 L 221.6 95.9 L 222.3 95.9 \" fill=\"#0000FF\"/>\n",
       "<path class=\"atom-19\" d=\"M 225.3 95.9 L 225.9 95.9 L 225.9 97.7 L 228.1 97.7 L 228.1 95.9 L 228.6 95.9 L 228.6 100.1 L 228.1 100.1 L 228.1 98.1 L 225.9 98.1 L 225.9 100.1 L 225.3 100.1 L 225.3 95.9 \" fill=\"#0000FF\"/>\n",
       "<path class=\"atom-19\" d=\"M 229.2 100.0 Q 229.3 99.7, 229.5 99.5 Q 229.8 99.4, 230.1 99.4 Q 230.5 99.4, 230.8 99.6 Q 231.0 99.9, 231.0 100.3 Q 231.0 100.7, 230.7 101.1 Q 230.4 101.5, 229.7 101.9 L 231.0 101.9 L 231.0 102.2 L 229.2 102.2 L 229.2 102.0 Q 229.7 101.6, 230.0 101.3 Q 230.3 101.0, 230.4 100.8 Q 230.6 100.5, 230.6 100.3 Q 230.6 100.0, 230.5 99.9 Q 230.3 99.7, 230.1 99.7 Q 229.9 99.7, 229.7 99.8 Q 229.6 99.9, 229.5 100.1 L 229.2 100.0 \" fill=\"#0000FF\"/>\n",
       "<path class=\"atom-23\" d=\"M 205.1 12.7 Q 205.1 11.7, 205.6 11.1 Q 206.1 10.5, 207.0 10.5 Q 208.0 10.5, 208.5 11.1 Q 209.0 11.7, 209.0 12.7 Q 209.0 13.7, 208.5 14.3 Q 207.9 14.9, 207.0 14.9 Q 206.1 14.9, 205.6 14.3 Q 205.1 13.7, 205.1 12.7 M 207.0 14.4 Q 207.7 14.4, 208.0 14.0 Q 208.4 13.6, 208.4 12.7 Q 208.4 11.9, 208.0 11.5 Q 207.7 11.0, 207.0 11.0 Q 206.4 11.0, 206.0 11.4 Q 205.7 11.9, 205.7 12.7 Q 205.7 13.6, 206.0 14.0 Q 206.4 14.4, 207.0 14.4 \" fill=\"#FF0000\"/>\n",
       "<path class=\"atom-24\" d=\"M 187.7 30.3 Q 187.7 29.3, 188.2 28.7 Q 188.7 28.2, 189.7 28.2 Q 190.6 28.2, 191.1 28.7 Q 191.6 29.3, 191.6 30.3 Q 191.6 31.4, 191.1 32.0 Q 190.6 32.5, 189.7 32.5 Q 188.7 32.5, 188.2 32.0 Q 187.7 31.4, 187.7 30.3 M 189.7 32.1 Q 190.3 32.1, 190.7 31.6 Q 191.0 31.2, 191.0 30.3 Q 191.0 29.5, 190.7 29.1 Q 190.3 28.7, 189.7 28.7 Q 189.0 28.7, 188.7 29.1 Q 188.3 29.5, 188.3 30.3 Q 188.3 31.2, 188.7 31.6 Q 189.0 32.1, 189.7 32.1 \" fill=\"#FF0000\"/>\n",
       "<path class=\"atom-32\" d=\"M 160.2 37.9 Q 160.2 36.9, 160.7 36.4 Q 161.2 35.8, 162.2 35.8 Q 163.1 35.8, 163.6 36.4 Q 164.1 36.9, 164.1 37.9 Q 164.1 39.0, 163.6 39.6 Q 163.1 40.1, 162.2 40.1 Q 161.2 40.1, 160.7 39.6 Q 160.2 39.0, 160.2 37.9 M 162.2 39.7 Q 162.8 39.7, 163.2 39.2 Q 163.5 38.8, 163.5 37.9 Q 163.5 37.1, 163.2 36.7 Q 162.8 36.3, 162.2 36.3 Q 161.5 36.3, 161.2 36.7 Q 160.8 37.1, 160.8 37.9 Q 160.8 38.8, 161.2 39.2 Q 161.5 39.7, 162.2 39.7 \" fill=\"#FF0000\"/>\n",
       "<path class=\"atom-33\" d=\"M 166.8 61.8 Q 166.8 60.7, 167.3 60.2 Q 167.8 59.6, 168.8 59.6 Q 169.7 59.6, 170.2 60.2 Q 170.7 60.7, 170.7 61.8 Q 170.7 62.8, 170.2 63.4 Q 169.7 64.0, 168.8 64.0 Q 167.8 64.0, 167.3 63.4 Q 166.8 62.8, 166.8 61.8 M 168.8 63.5 Q 169.4 63.5, 169.8 63.1 Q 170.1 62.6, 170.1 61.8 Q 170.1 60.9, 169.8 60.5 Q 169.4 60.1, 168.8 60.1 Q 168.1 60.1, 167.8 60.5 Q 167.4 60.9, 167.4 61.8 Q 167.4 62.6, 167.8 63.1 Q 168.1 63.5, 168.8 63.5 \" fill=\"#FF0000\"/>\n",
       "<path class=\"atom-41\" d=\"M 159.6 89.4 Q 159.6 88.4, 160.2 87.8 Q 160.7 87.2, 161.6 87.2 Q 162.5 87.2, 163.0 87.8 Q 163.5 88.4, 163.5 89.4 Q 163.5 90.4, 163.0 91.0 Q 162.5 91.6, 161.6 91.6 Q 160.7 91.6, 160.2 91.0 Q 159.6 90.4, 159.6 89.4 M 161.6 91.1 Q 162.2 91.1, 162.6 90.7 Q 162.9 90.2, 162.9 89.4 Q 162.9 88.6, 162.6 88.1 Q 162.2 87.7, 161.6 87.7 Q 161.0 87.7, 160.6 88.1 Q 160.2 88.6, 160.2 89.4 Q 160.2 90.3, 160.6 90.7 Q 161.0 91.1, 161.6 91.1 \" fill=\"#FF0000\"/>\n",
       "<path class=\"atom-42\" d=\"M 183.6 95.6 Q 183.6 94.6, 184.1 94.0 Q 184.6 93.4, 185.5 93.4 Q 186.5 93.4, 187.0 94.0 Q 187.5 94.6, 187.5 95.6 Q 187.5 96.6, 187.0 97.2 Q 186.5 97.8, 185.5 97.8 Q 184.6 97.8, 184.1 97.2 Q 183.6 96.6, 183.6 95.6 M 185.5 97.3 Q 186.2 97.3, 186.5 96.9 Q 186.9 96.5, 186.9 95.6 Q 186.9 94.8, 186.5 94.3 Q 186.2 93.9, 185.5 93.9 Q 184.9 93.9, 184.5 94.3 Q 184.2 94.8, 184.2 95.6 Q 184.2 96.5, 184.5 96.9 Q 184.9 97.3, 185.5 97.3 \" fill=\"#FF0000\"/>\n",
       "<path class=\"atom-47\" d=\"M 201.2 75.8 L 201.8 75.8 L 201.8 77.6 L 203.9 77.6 L 203.9 75.8 L 204.5 75.8 L 204.5 80.1 L 203.9 80.1 L 203.9 78.1 L 201.8 78.1 L 201.8 80.1 L 201.2 80.1 L 201.2 75.8 \" fill=\"#000000\"/>\n",
       "<path class=\"atom-0\" d=\"M 254.1,38.9 L 254.1,38.9 L 254.1,39.0 L 254.1,39.0 L 254.1,39.0 L 254.1,39.0 L 254.1,39.1 L 254.1,39.1 L 254.1,39.1 L 254.1,39.1 L 254.0,39.1 L 254.0,39.2 L 254.0,39.2 L 254.0,39.2 L 254.0,39.2 L 253.9,39.2 L 253.9,39.2 L 253.9,39.2 L 253.9,39.2 L 253.8,39.2 L 253.8,39.2 L 253.8,39.2 L 253.8,39.2 L 253.7,39.2 L 253.7,39.2 L 253.7,39.2 L 253.7,39.2 L 253.6,39.1 L 253.6,39.1 L 253.6,39.1 L 253.6,39.1 L 253.6,39.1 L 253.6,39.0 L 253.6,39.0 L 253.6,39.0 L 253.6,39.0 L 253.5,38.9 L 253.5,38.9 L 253.6,38.9 L 253.6,38.9 L 253.6,38.8 L 253.6,38.8 L 253.6,38.8 L 253.6,38.8 L 253.6,38.7 L 253.6,38.7 L 253.6,38.7 L 253.7,38.7 L 253.7,38.7 L 253.7,38.7 L 253.7,38.6 L 253.8,38.6 L 253.8,38.6 L 253.8,38.6 L 253.8,38.6 L 253.9,38.6 L 253.9,38.6 L 253.9,38.6 L 253.9,38.6 L 254.0,38.6 L 254.0,38.6 L 254.0,38.7 L 254.0,38.7 L 254.0,38.7 L 254.1,38.7 L 254.1,38.7 L 254.1,38.7 L 254.1,38.8 L 254.1,38.8 L 254.1,38.8 L 254.1,38.8 L 254.1,38.9 L 254.1,38.9 L 254.1,38.9 L 253.8,38.9 Z\" style=\"fill:#000000;fill-rule:evenodd;fill-opacity:1;stroke:#000000;stroke-width:0.0px;stroke-linecap:butt;stroke-linejoin:miter;stroke-opacity:1;\"/>\n",
       "<path class=\"atom-47\" d=\"M 205.7,78.0 L 205.7,78.0 L 205.7,78.0 L 205.7,78.0 L 205.7,78.1 L 205.7,78.1 L 205.7,78.1 L 205.7,78.1 L 205.7,78.2 L 205.6,78.2 L 205.6,78.2 L 205.6,78.2 L 205.6,78.2 L 205.6,78.2 L 205.5,78.2 L 205.5,78.3 L 205.5,78.3 L 205.5,78.3 L 205.4,78.3 L 205.4,78.3 L 205.4,78.3 L 205.4,78.3 L 205.3,78.2 L 205.3,78.2 L 205.3,78.2 L 205.3,78.2 L 205.2,78.2 L 205.2,78.2 L 205.2,78.2 L 205.2,78.1 L 205.2,78.1 L 205.2,78.1 L 205.1,78.1 L 205.1,78.1 L 205.1,78.0 L 205.1,78.0 L 205.1,78.0 L 205.1,78.0 L 205.1,77.9 L 205.1,77.9 L 205.1,77.9 L 205.1,77.9 L 205.2,77.8 L 205.2,77.8 L 205.2,77.8 L 205.2,77.8 L 205.2,77.7 L 205.2,77.7 L 205.3,77.7 L 205.3,77.7 L 205.3,77.7 L 205.3,77.7 L 205.4,77.7 L 205.4,77.7 L 205.4,77.7 L 205.4,77.7 L 205.5,77.7 L 205.5,77.7 L 205.5,77.7 L 205.5,77.7 L 205.6,77.7 L 205.6,77.7 L 205.6,77.7 L 205.6,77.7 L 205.6,77.8 L 205.7,77.8 L 205.7,77.8 L 205.7,77.8 L 205.7,77.8 L 205.7,77.9 L 205.7,77.9 L 205.7,77.9 L 205.7,77.9 L 205.7,78.0 L 205.4,78.0 Z\" style=\"fill:#000000;fill-rule:evenodd;fill-opacity:1;stroke:#000000;stroke-width:0.0px;stroke-linecap:butt;stroke-linejoin:miter;stroke-opacity:1;\"/>\n",
       "</svg>"
      ],
      "text/plain": [
       "<IPython.core.display.SVG object>"
      ]
     },
     "execution_count": 36,
     "metadata": {},
     "output_type": "execute_result"
    }
   ],
   "source": [
    "big = \"[H]{[<][>|75|]C([<|75|])CC(=O)OCCCC, [<|25|]C([>|25|])CC(=O)N[>]}|gauss(500,50)|[H].|5000|\"\n",
    "big_smiles_gen(big, 0)"
   ]
  },
  {
   "cell_type": "code",
   "execution_count": 37,
   "id": "3cf6c797",
   "metadata": {},
   "outputs": [
    {
     "name": "stdout",
     "output_type": "stream",
     "text": [
      "23\n"
     ]
    },
    {
     "data": {
      "image/svg+xml": [
       "<svg xmlns=\"http://www.w3.org/2000/svg\" xmlns:rdkit=\"http://www.rdkit.org/xml\" xmlns:xlink=\"http://www.w3.org/1999/xlink\" version=\"1.1\" baseProfile=\"full\" xml:space=\"preserve\" width=\"450px\" height=\"150px\" viewBox=\"0 0 450 150\">\n",
       "<!-- END OF HEADER -->\n",
       "<rect style=\"opacity:1.0;fill:#FFFFFF;stroke:none\" width=\"450.0\" height=\"150.0\" x=\"0.0\" y=\"0.0\"> </rect>\n",
       "<path class=\"bond-0 atom-1 atom-2\" d=\"M 234.6,121.4 L 242.1,110.5\" style=\"fill:none;fill-rule:evenodd;stroke:#000000;stroke-width:2.0px;stroke-linecap:butt;stroke-linejoin:miter;stroke-opacity:1\"/>\n",
       "<path class=\"bond-1 atom-2 atom-3\" d=\"M 242.1,110.5 L 255.2,111.5\" style=\"fill:none;fill-rule:evenodd;stroke:#000000;stroke-width:2.0px;stroke-linecap:butt;stroke-linejoin:miter;stroke-opacity:1\"/>\n",
       "<path class=\"bond-2 atom-3 atom-4\" d=\"M 256.4,111.0 L 258.6,115.6\" style=\"fill:none;fill-rule:evenodd;stroke:#000000;stroke-width:2.0px;stroke-linecap:butt;stroke-linejoin:miter;stroke-opacity:1\"/>\n",
       "<path class=\"bond-2 atom-3 atom-4\" d=\"M 258.6,115.6 L 260.8,120.3\" style=\"fill:none;fill-rule:evenodd;stroke:#FF0000;stroke-width:2.0px;stroke-linecap:butt;stroke-linejoin:miter;stroke-opacity:1\"/>\n",
       "<path class=\"bond-2 atom-3 atom-4\" d=\"M 254.0,112.1 L 256.2,116.7\" style=\"fill:none;fill-rule:evenodd;stroke:#000000;stroke-width:2.0px;stroke-linecap:butt;stroke-linejoin:miter;stroke-opacity:1\"/>\n",
       "<path class=\"bond-2 atom-3 atom-4\" d=\"M 256.2,116.7 L 258.5,121.4\" style=\"fill:none;fill-rule:evenodd;stroke:#FF0000;stroke-width:2.0px;stroke-linecap:butt;stroke-linejoin:miter;stroke-opacity:1\"/>\n",
       "<path class=\"bond-3 atom-3 atom-5\" d=\"M 255.2,111.5 L 258.0,107.4\" style=\"fill:none;fill-rule:evenodd;stroke:#000000;stroke-width:2.0px;stroke-linecap:butt;stroke-linejoin:miter;stroke-opacity:1\"/>\n",
       "<path class=\"bond-3 atom-3 atom-5\" d=\"M 258.0,107.4 L 260.8,103.3\" style=\"fill:none;fill-rule:evenodd;stroke:#FF0000;stroke-width:2.0px;stroke-linecap:butt;stroke-linejoin:miter;stroke-opacity:1\"/>\n",
       "<path class=\"bond-4 atom-5 atom-6\" d=\"M 265.0,100.8 L 270.4,101.3\" style=\"fill:none;fill-rule:evenodd;stroke:#FF0000;stroke-width:2.0px;stroke-linecap:butt;stroke-linejoin:miter;stroke-opacity:1\"/>\n",
       "<path class=\"bond-4 atom-5 atom-6\" d=\"M 270.4,101.3 L 275.8,101.7\" style=\"fill:none;fill-rule:evenodd;stroke:#000000;stroke-width:2.0px;stroke-linecap:butt;stroke-linejoin:miter;stroke-opacity:1\"/>\n",
       "<path class=\"bond-5 atom-6 atom-7\" d=\"M 275.8,101.7 L 283.2,90.8\" style=\"fill:none;fill-rule:evenodd;stroke:#000000;stroke-width:2.0px;stroke-linecap:butt;stroke-linejoin:miter;stroke-opacity:1\"/>\n",
       "<path class=\"bond-6 atom-7 atom-8\" d=\"M 283.2,90.8 L 296.3,91.8\" style=\"fill:none;fill-rule:evenodd;stroke:#000000;stroke-width:2.0px;stroke-linecap:butt;stroke-linejoin:miter;stroke-opacity:1\"/>\n",
       "<path class=\"bond-7 atom-8 atom-9\" d=\"M 296.3,91.8 L 303.8,80.9\" style=\"fill:none;fill-rule:evenodd;stroke:#000000;stroke-width:2.0px;stroke-linecap:butt;stroke-linejoin:miter;stroke-opacity:1\"/>\n",
       "<path class=\"bond-8 atom-0 atom-1\" d=\"M 239.1,130.7 L 234.6,121.4\" style=\"fill:none;fill-rule:evenodd;stroke:#000000;stroke-width:2.0px;stroke-linecap:butt;stroke-linejoin:miter;stroke-opacity:1\"/>\n",
       "<path class=\"bond-9 atom-10 atom-11\" d=\"M 221.5,120.4 L 214.1,131.2\" style=\"fill:none;fill-rule:evenodd;stroke:#000000;stroke-width:2.0px;stroke-linecap:butt;stroke-linejoin:miter;stroke-opacity:1\"/>\n",
       "<path class=\"bond-10 atom-11 atom-12\" d=\"M 214.1,131.2 L 200.9,130.2\" style=\"fill:none;fill-rule:evenodd;stroke:#000000;stroke-width:2.0px;stroke-linecap:butt;stroke-linejoin:miter;stroke-opacity:1\"/>\n",
       "<path class=\"bond-11 atom-12 atom-13\" d=\"M 202.0,131.0 L 199.2,135.1\" style=\"fill:none;fill-rule:evenodd;stroke:#000000;stroke-width:2.0px;stroke-linecap:butt;stroke-linejoin:miter;stroke-opacity:1\"/>\n",
       "<path class=\"bond-11 atom-12 atom-13\" d=\"M 199.2,135.1 L 196.4,139.3\" style=\"fill:none;fill-rule:evenodd;stroke:#FF0000;stroke-width:2.0px;stroke-linecap:butt;stroke-linejoin:miter;stroke-opacity:1\"/>\n",
       "<path class=\"bond-11 atom-12 atom-13\" d=\"M 199.9,129.5 L 197.0,133.6\" style=\"fill:none;fill-rule:evenodd;stroke:#000000;stroke-width:2.0px;stroke-linecap:butt;stroke-linejoin:miter;stroke-opacity:1\"/>\n",
       "<path class=\"bond-11 atom-12 atom-13\" d=\"M 197.0,133.6 L 194.2,137.8\" style=\"fill:none;fill-rule:evenodd;stroke:#FF0000;stroke-width:2.0px;stroke-linecap:butt;stroke-linejoin:miter;stroke-opacity:1\"/>\n",
       "<path class=\"bond-12 atom-12 atom-14\" d=\"M 200.9,130.2 L 198.7,125.6\" style=\"fill:none;fill-rule:evenodd;stroke:#000000;stroke-width:2.0px;stroke-linecap:butt;stroke-linejoin:miter;stroke-opacity:1\"/>\n",
       "<path class=\"bond-12 atom-12 atom-14\" d=\"M 198.7,125.6 L 196.5,121.0\" style=\"fill:none;fill-rule:evenodd;stroke:#FF0000;stroke-width:2.0px;stroke-linecap:butt;stroke-linejoin:miter;stroke-opacity:1\"/>\n",
       "<path class=\"bond-13 atom-14 atom-15\" d=\"M 192.9,118.2 L 187.5,117.8\" style=\"fill:none;fill-rule:evenodd;stroke:#FF0000;stroke-width:2.0px;stroke-linecap:butt;stroke-linejoin:miter;stroke-opacity:1\"/>\n",
       "<path class=\"bond-13 atom-14 atom-15\" d=\"M 187.5,117.8 L 182.1,117.4\" style=\"fill:none;fill-rule:evenodd;stroke:#000000;stroke-width:2.0px;stroke-linecap:butt;stroke-linejoin:miter;stroke-opacity:1\"/>\n",
       "<path class=\"bond-14 atom-15 atom-16\" d=\"M 182.1,117.4 L 176.4,105.5\" style=\"fill:none;fill-rule:evenodd;stroke:#000000;stroke-width:2.0px;stroke-linecap:butt;stroke-linejoin:miter;stroke-opacity:1\"/>\n",
       "<path class=\"bond-15 atom-16 atom-17\" d=\"M 176.4,105.5 L 163.3,104.5\" style=\"fill:none;fill-rule:evenodd;stroke:#000000;stroke-width:2.0px;stroke-linecap:butt;stroke-linejoin:miter;stroke-opacity:1\"/>\n",
       "<path class=\"bond-16 atom-17 atom-18\" d=\"M 163.3,104.5 L 157.6,92.6\" style=\"fill:none;fill-rule:evenodd;stroke:#000000;stroke-width:2.0px;stroke-linecap:butt;stroke-linejoin:miter;stroke-opacity:1\"/>\n",
       "<path class=\"bond-17 atom-1 atom-10\" d=\"M 234.6,121.4 L 221.5,120.4\" style=\"fill:none;fill-rule:evenodd;stroke:#000000;stroke-width:2.0px;stroke-linecap:butt;stroke-linejoin:miter;stroke-opacity:1\"/>\n",
       "<path class=\"bond-18 atom-19 atom-20\" d=\"M 215.8,108.5 L 202.7,107.5\" style=\"fill:none;fill-rule:evenodd;stroke:#000000;stroke-width:2.0px;stroke-linecap:butt;stroke-linejoin:miter;stroke-opacity:1\"/>\n",
       "<path class=\"bond-19 atom-20 atom-21\" d=\"M 202.7,107.5 L 197.0,95.6\" style=\"fill:none;fill-rule:evenodd;stroke:#000000;stroke-width:2.0px;stroke-linecap:butt;stroke-linejoin:miter;stroke-opacity:1\"/>\n",
       "<path class=\"bond-20 atom-21 atom-22\" d=\"M 195.8,95.0 L 197.1,92.5\" style=\"fill:none;fill-rule:evenodd;stroke:#000000;stroke-width:2.0px;stroke-linecap:butt;stroke-linejoin:miter;stroke-opacity:1\"/>\n",
       "<path class=\"bond-20 atom-21 atom-22\" d=\"M 197.1,92.5 L 198.4,90.0\" style=\"fill:none;fill-rule:evenodd;stroke:#FF0000;stroke-width:2.0px;stroke-linecap:butt;stroke-linejoin:miter;stroke-opacity:1\"/>\n",
       "<path class=\"bond-20 atom-21 atom-22\" d=\"M 198.2,96.2 L 199.5,93.7\" style=\"fill:none;fill-rule:evenodd;stroke:#000000;stroke-width:2.0px;stroke-linecap:butt;stroke-linejoin:miter;stroke-opacity:1\"/>\n",
       "<path class=\"bond-20 atom-21 atom-22\" d=\"M 199.5,93.7 L 200.8,91.2\" style=\"fill:none;fill-rule:evenodd;stroke:#FF0000;stroke-width:2.0px;stroke-linecap:butt;stroke-linejoin:miter;stroke-opacity:1\"/>\n",
       "<path class=\"bond-21 atom-21 atom-23\" d=\"M 197.0,95.6 L 191.6,95.2\" style=\"fill:none;fill-rule:evenodd;stroke:#000000;stroke-width:2.0px;stroke-linecap:butt;stroke-linejoin:miter;stroke-opacity:1\"/>\n",
       "<path class=\"bond-21 atom-21 atom-23\" d=\"M 191.6,95.2 L 186.2,94.8\" style=\"fill:none;fill-rule:evenodd;stroke:#FF0000;stroke-width:2.0px;stroke-linecap:butt;stroke-linejoin:miter;stroke-opacity:1\"/>\n",
       "<path class=\"bond-22 atom-23 atom-24\" d=\"M 182.6,92.0 L 180.4,87.4\" style=\"fill:none;fill-rule:evenodd;stroke:#FF0000;stroke-width:2.0px;stroke-linecap:butt;stroke-linejoin:miter;stroke-opacity:1\"/>\n",
       "<path class=\"bond-22 atom-23 atom-24\" d=\"M 180.4,87.4 L 178.2,82.7\" style=\"fill:none;fill-rule:evenodd;stroke:#000000;stroke-width:2.0px;stroke-linecap:butt;stroke-linejoin:miter;stroke-opacity:1\"/>\n",
       "<path class=\"bond-23 atom-24 atom-25\" d=\"M 178.2,82.7 L 165.0,81.7\" style=\"fill:none;fill-rule:evenodd;stroke:#000000;stroke-width:2.0px;stroke-linecap:butt;stroke-linejoin:miter;stroke-opacity:1\"/>\n",
       "<path class=\"bond-24 atom-25 atom-26\" d=\"M 165.0,81.7 L 159.4,69.9\" style=\"fill:none;fill-rule:evenodd;stroke:#000000;stroke-width:2.0px;stroke-linecap:butt;stroke-linejoin:miter;stroke-opacity:1\"/>\n",
       "<path class=\"bond-25 atom-26 atom-27\" d=\"M 159.4,69.9 L 146.2,68.9\" style=\"fill:none;fill-rule:evenodd;stroke:#000000;stroke-width:2.0px;stroke-linecap:butt;stroke-linejoin:miter;stroke-opacity:1\"/>\n",
       "<path class=\"bond-26 atom-10 atom-19\" d=\"M 221.5,120.4 L 215.8,108.5\" style=\"fill:none;fill-rule:evenodd;stroke:#000000;stroke-width:2.0px;stroke-linecap:butt;stroke-linejoin:miter;stroke-opacity:1\"/>\n",
       "<path class=\"bond-27 atom-28 atom-29\" d=\"M 223.3,97.6 L 236.4,98.6\" style=\"fill:none;fill-rule:evenodd;stroke:#000000;stroke-width:2.0px;stroke-linecap:butt;stroke-linejoin:miter;stroke-opacity:1\"/>\n",
       "<path class=\"bond-28 atom-29 atom-30\" d=\"M 236.4,98.6 L 243.8,87.8\" style=\"fill:none;fill-rule:evenodd;stroke:#000000;stroke-width:2.0px;stroke-linecap:butt;stroke-linejoin:miter;stroke-opacity:1\"/>\n",
       "<path class=\"bond-29 atom-30 atom-31\" d=\"M 242.6,88.4 L 240.4,83.7\" style=\"fill:none;fill-rule:evenodd;stroke:#000000;stroke-width:2.0px;stroke-linecap:butt;stroke-linejoin:miter;stroke-opacity:1\"/>\n",
       "<path class=\"bond-29 atom-30 atom-31\" d=\"M 240.4,83.7 L 238.2,79.1\" style=\"fill:none;fill-rule:evenodd;stroke:#FF0000;stroke-width:2.0px;stroke-linecap:butt;stroke-linejoin:miter;stroke-opacity:1\"/>\n",
       "<path class=\"bond-29 atom-30 atom-31\" d=\"M 245.0,87.2 L 242.8,82.6\" style=\"fill:none;fill-rule:evenodd;stroke:#000000;stroke-width:2.0px;stroke-linecap:butt;stroke-linejoin:miter;stroke-opacity:1\"/>\n",
       "<path class=\"bond-29 atom-30 atom-31\" d=\"M 242.8,82.6 L 240.6,78.0\" style=\"fill:none;fill-rule:evenodd;stroke:#FF0000;stroke-width:2.0px;stroke-linecap:butt;stroke-linejoin:miter;stroke-opacity:1\"/>\n",
       "<path class=\"bond-30 atom-30 atom-32\" d=\"M 243.8,87.8 L 249.4,88.2\" style=\"fill:none;fill-rule:evenodd;stroke:#000000;stroke-width:2.0px;stroke-linecap:butt;stroke-linejoin:miter;stroke-opacity:1\"/>\n",
       "<path class=\"bond-30 atom-30 atom-32\" d=\"M 249.4,88.2 L 254.9,88.6\" style=\"fill:none;fill-rule:evenodd;stroke:#0000FF;stroke-width:2.0px;stroke-linecap:butt;stroke-linejoin:miter;stroke-opacity:1\"/>\n",
       "<path class=\"bond-31 atom-19 atom-28\" d=\"M 215.8,108.5 L 223.3,97.6\" style=\"fill:none;fill-rule:evenodd;stroke:#000000;stroke-width:2.0px;stroke-linecap:butt;stroke-linejoin:miter;stroke-opacity:1\"/>\n",
       "<path class=\"bond-32 atom-33 atom-34\" d=\"M 217.6,85.8 L 225.0,74.9\" style=\"fill:none;fill-rule:evenodd;stroke:#000000;stroke-width:2.0px;stroke-linecap:butt;stroke-linejoin:miter;stroke-opacity:1\"/>\n",
       "<path class=\"bond-33 atom-34 atom-35\" d=\"M 225.0,74.9 L 219.3,63.0\" style=\"fill:none;fill-rule:evenodd;stroke:#000000;stroke-width:2.0px;stroke-linecap:butt;stroke-linejoin:miter;stroke-opacity:1\"/>\n",
       "<path class=\"bond-34 atom-35 atom-36\" d=\"M 219.2,64.3 L 213.8,63.9\" style=\"fill:none;fill-rule:evenodd;stroke:#000000;stroke-width:2.0px;stroke-linecap:butt;stroke-linejoin:miter;stroke-opacity:1\"/>\n",
       "<path class=\"bond-34 atom-35 atom-36\" d=\"M 213.8,63.9 L 208.5,63.5\" style=\"fill:none;fill-rule:evenodd;stroke:#FF0000;stroke-width:2.0px;stroke-linecap:butt;stroke-linejoin:miter;stroke-opacity:1\"/>\n",
       "<path class=\"bond-34 atom-35 atom-36\" d=\"M 219.4,61.7 L 214.0,61.3\" style=\"fill:none;fill-rule:evenodd;stroke:#000000;stroke-width:2.0px;stroke-linecap:butt;stroke-linejoin:miter;stroke-opacity:1\"/>\n",
       "<path class=\"bond-34 atom-35 atom-36\" d=\"M 214.0,61.3 L 208.7,60.9\" style=\"fill:none;fill-rule:evenodd;stroke:#FF0000;stroke-width:2.0px;stroke-linecap:butt;stroke-linejoin:miter;stroke-opacity:1\"/>\n",
       "<path class=\"bond-35 atom-35 atom-37\" d=\"M 219.3,63.0 L 222.1,58.9\" style=\"fill:none;fill-rule:evenodd;stroke:#000000;stroke-width:2.0px;stroke-linecap:butt;stroke-linejoin:miter;stroke-opacity:1\"/>\n",
       "<path class=\"bond-35 atom-35 atom-37\" d=\"M 222.1,58.9 L 224.9,54.8\" style=\"fill:none;fill-rule:evenodd;stroke:#FF0000;stroke-width:2.0px;stroke-linecap:butt;stroke-linejoin:miter;stroke-opacity:1\"/>\n",
       "<path class=\"bond-36 atom-37 atom-38\" d=\"M 225.5,49.6 L 223.3,44.9\" style=\"fill:none;fill-rule:evenodd;stroke:#FF0000;stroke-width:2.0px;stroke-linecap:butt;stroke-linejoin:miter;stroke-opacity:1\"/>\n",
       "<path class=\"bond-36 atom-37 atom-38\" d=\"M 223.3,44.9 L 221.1,40.3\" style=\"fill:none;fill-rule:evenodd;stroke:#000000;stroke-width:2.0px;stroke-linecap:butt;stroke-linejoin:miter;stroke-opacity:1\"/>\n",
       "<path class=\"bond-37 atom-38 atom-39\" d=\"M 221.1,40.3 L 228.5,29.4\" style=\"fill:none;fill-rule:evenodd;stroke:#000000;stroke-width:2.0px;stroke-linecap:butt;stroke-linejoin:miter;stroke-opacity:1\"/>\n",
       "<path class=\"bond-38 atom-39 atom-40\" d=\"M 228.5,29.4 L 222.8,17.5\" style=\"fill:none;fill-rule:evenodd;stroke:#000000;stroke-width:2.0px;stroke-linecap:butt;stroke-linejoin:miter;stroke-opacity:1\"/>\n",
       "<path class=\"bond-39 atom-40 atom-41\" d=\"M 222.8,17.5 L 230.2,6.7\" style=\"fill:none;fill-rule:evenodd;stroke:#000000;stroke-width:2.0px;stroke-linecap:butt;stroke-linejoin:miter;stroke-opacity:1\"/>\n",
       "<path class=\"bond-40 atom-28 atom-33\" d=\"M 223.3,97.6 L 217.6,85.8\" style=\"fill:none;fill-rule:evenodd;stroke:#000000;stroke-width:2.0px;stroke-linecap:butt;stroke-linejoin:miter;stroke-opacity:1\"/>\n",
       "<path class=\"bond-41 atom-33 atom-42\" d=\"M 217.6,85.8 L 211.2,84.5\" style=\"fill:none;fill-rule:evenodd;stroke:#000000;stroke-width:2.0px;stroke-linecap:butt;stroke-linejoin:miter;stroke-opacity:1\"/>\n",
       "<path class=\"atom-0\" d=\"M 238.7 131.1 L 239.2 131.1 L 239.2 132.9 L 241.4 132.9 L 241.4 131.1 L 242.0 131.1 L 242.0 135.4 L 241.4 135.4 L 241.4 133.4 L 239.2 133.4 L 239.2 135.4 L 238.7 135.4 L 238.7 131.1 \" fill=\"#000000\"/>\n",
       "<path class=\"atom-4\" d=\"M 258.9 123.4 Q 258.9 122.4, 259.4 121.8 Q 260.0 121.3, 260.9 121.3 Q 261.8 121.3, 262.3 121.8 Q 262.8 122.4, 262.8 123.4 Q 262.8 124.4, 262.3 125.0 Q 261.8 125.6, 260.9 125.6 Q 260.0 125.6, 259.4 125.0 Q 258.9 124.5, 258.9 123.4 M 260.9 125.1 Q 261.5 125.1, 261.9 124.7 Q 262.2 124.3, 262.2 123.4 Q 262.2 122.6, 261.9 122.2 Q 261.5 121.7, 260.9 121.7 Q 260.2 121.7, 259.9 122.2 Q 259.5 122.6, 259.5 123.4 Q 259.5 124.3, 259.9 124.7 Q 260.2 125.1, 260.9 125.1 \" fill=\"#FF0000\"/>\n",
       "<path class=\"atom-5\" d=\"M 260.7 100.7 Q 260.7 99.7, 261.2 99.1 Q 261.7 98.5, 262.6 98.5 Q 263.6 98.5, 264.1 99.1 Q 264.6 99.7, 264.6 100.7 Q 264.6 101.7, 264.1 102.3 Q 263.6 102.9, 262.6 102.9 Q 261.7 102.9, 261.2 102.3 Q 260.7 101.7, 260.7 100.7 M 262.6 102.4 Q 263.3 102.4, 263.6 102.0 Q 264.0 101.5, 264.0 100.7 Q 264.0 99.8, 263.6 99.4 Q 263.3 99.0, 262.6 99.0 Q 262.0 99.0, 261.6 99.4 Q 261.3 99.8, 261.3 100.7 Q 261.3 101.5, 261.6 102.0 Q 262.0 102.4, 262.6 102.4 \" fill=\"#FF0000\"/>\n",
       "<path class=\"atom-13\" d=\"M 191.6 141.1 Q 191.6 140.1, 192.1 139.5 Q 192.6 139.0, 193.5 139.0 Q 194.4 139.0, 195.0 139.5 Q 195.5 140.1, 195.5 141.1 Q 195.5 142.1, 194.9 142.7 Q 194.4 143.3, 193.5 143.3 Q 192.6 143.3, 192.1 142.7 Q 191.6 142.2, 191.6 141.1 M 193.5 142.8 Q 194.2 142.8, 194.5 142.4 Q 194.9 142.0, 194.9 141.1 Q 194.9 140.3, 194.5 139.9 Q 194.2 139.4, 193.5 139.4 Q 192.9 139.4, 192.5 139.9 Q 192.2 140.3, 192.2 141.1 Q 192.2 142.0, 192.5 142.4 Q 192.9 142.8, 193.5 142.8 \" fill=\"#FF0000\"/>\n",
       "<path class=\"atom-14\" d=\"M 193.3 118.4 Q 193.3 117.4, 193.8 116.8 Q 194.3 116.2, 195.3 116.2 Q 196.2 116.2, 196.7 116.8 Q 197.2 117.4, 197.2 118.4 Q 197.2 119.4, 196.7 120.0 Q 196.2 120.6, 195.3 120.6 Q 194.3 120.6, 193.8 120.0 Q 193.3 119.4, 193.3 118.4 M 195.3 120.1 Q 195.9 120.1, 196.2 119.7 Q 196.6 119.2, 196.6 118.4 Q 196.6 117.5, 196.2 117.1 Q 195.9 116.7, 195.3 116.7 Q 194.6 116.7, 194.3 117.1 Q 193.9 117.5, 193.9 118.4 Q 193.9 119.2, 194.3 119.7 Q 194.6 120.1, 195.3 120.1 \" fill=\"#FF0000\"/>\n",
       "<path class=\"atom-22\" d=\"M 199.0 88.0 Q 199.0 86.9, 199.5 86.4 Q 200.0 85.8, 201.0 85.8 Q 201.9 85.8, 202.4 86.4 Q 202.9 86.9, 202.9 88.0 Q 202.9 89.0, 202.4 89.6 Q 201.9 90.2, 201.0 90.2 Q 200.0 90.2, 199.5 89.6 Q 199.0 89.0, 199.0 88.0 M 201.0 89.7 Q 201.6 89.7, 202.0 89.3 Q 202.3 88.8, 202.3 88.0 Q 202.3 87.1, 202.0 86.7 Q 201.6 86.3, 201.0 86.3 Q 200.3 86.3, 200.0 86.7 Q 199.6 87.1, 199.6 88.0 Q 199.6 88.8, 200.0 89.3 Q 200.3 89.7, 201.0 89.7 \" fill=\"#FF0000\"/>\n",
       "<path class=\"atom-23\" d=\"M 181.9 94.6 Q 181.9 93.6, 182.4 93.0 Q 182.9 92.5, 183.9 92.5 Q 184.8 92.5, 185.3 93.0 Q 185.8 93.6, 185.8 94.6 Q 185.8 95.7, 185.3 96.2 Q 184.8 96.8, 183.9 96.8 Q 182.9 96.8, 182.4 96.2 Q 181.9 95.7, 181.9 94.6 M 183.9 96.4 Q 184.5 96.4, 184.9 95.9 Q 185.2 95.5, 185.2 94.6 Q 185.2 93.8, 184.9 93.4 Q 184.5 92.9, 183.9 92.9 Q 183.2 92.9, 182.9 93.4 Q 182.5 93.8, 182.5 94.6 Q 182.5 95.5, 182.9 95.9 Q 183.2 96.4, 183.9 96.4 \" fill=\"#FF0000\"/>\n",
       "<path class=\"atom-31\" d=\"M 236.2 75.9 Q 236.2 74.9, 236.7 74.3 Q 237.2 73.8, 238.1 73.8 Q 239.1 73.8, 239.6 74.3 Q 240.1 74.9, 240.1 75.9 Q 240.1 77.0, 239.6 77.5 Q 239.1 78.1, 238.1 78.1 Q 237.2 78.1, 236.7 77.5 Q 236.2 77.0, 236.2 75.9 M 238.1 77.6 Q 238.8 77.6, 239.1 77.2 Q 239.5 76.8, 239.5 75.9 Q 239.5 75.1, 239.1 74.7 Q 238.8 74.2, 238.1 74.2 Q 237.5 74.2, 237.1 74.7 Q 236.8 75.1, 236.8 75.9 Q 236.8 76.8, 237.1 77.2 Q 237.5 77.6, 238.1 77.6 \" fill=\"#FF0000\"/>\n",
       "<path class=\"atom-32\" d=\"M 256.0 86.7 L 257.4 88.9 Q 257.5 89.1, 257.8 89.5 Q 258.0 89.9, 258.0 90.0 L 258.0 86.7 L 258.6 86.7 L 258.6 90.9 L 258.0 90.9 L 256.5 88.5 Q 256.3 88.2, 256.1 87.8 Q 255.9 87.5, 255.9 87.4 L 255.9 90.9 L 255.3 90.9 L 255.3 86.7 L 256.0 86.7 \" fill=\"#0000FF\"/>\n",
       "<path class=\"atom-32\" d=\"M 259.1 86.7 L 259.6 86.7 L 259.6 88.5 L 261.8 88.5 L 261.8 86.7 L 262.4 86.7 L 262.4 90.9 L 261.8 90.9 L 261.8 89.0 L 259.6 89.0 L 259.6 90.9 L 259.1 90.9 L 259.1 86.7 \" fill=\"#0000FF\"/>\n",
       "<path class=\"atom-32\" d=\"M 262.9 90.8 Q 263.0 90.5, 263.2 90.4 Q 263.5 90.2, 263.8 90.2 Q 264.3 90.2, 264.5 90.4 Q 264.7 90.7, 264.7 91.1 Q 264.7 91.5, 264.4 91.9 Q 264.1 92.3, 263.5 92.7 L 264.8 92.7 L 264.8 93.0 L 262.9 93.0 L 262.9 92.8 Q 263.4 92.4, 263.7 92.1 Q 264.0 91.8, 264.2 91.6 Q 264.3 91.3, 264.3 91.1 Q 264.3 90.8, 264.2 90.7 Q 264.1 90.5, 263.8 90.5 Q 263.6 90.5, 263.5 90.6 Q 263.3 90.7, 263.2 90.9 L 262.9 90.8 \" fill=\"#0000FF\"/>\n",
       "<path class=\"atom-36\" d=\"M 204.2 62.0 Q 204.2 61.0, 204.7 60.4 Q 205.2 59.9, 206.2 59.9 Q 207.1 59.9, 207.6 60.4 Q 208.1 61.0, 208.1 62.0 Q 208.1 63.1, 207.6 63.7 Q 207.1 64.2, 206.2 64.2 Q 205.2 64.2, 204.7 63.7 Q 204.2 63.1, 204.2 62.0 M 206.2 63.8 Q 206.8 63.8, 207.2 63.3 Q 207.5 62.9, 207.5 62.0 Q 207.5 61.2, 207.2 60.8 Q 206.8 60.4, 206.2 60.4 Q 205.5 60.4, 205.2 60.8 Q 204.8 61.2, 204.8 62.0 Q 204.8 62.9, 205.2 63.3 Q 205.5 63.8, 206.2 63.8 \" fill=\"#FF0000\"/>\n",
       "<path class=\"atom-37\" d=\"M 224.8 52.2 Q 224.8 51.2, 225.3 50.6 Q 225.8 50.0, 226.7 50.0 Q 227.7 50.0, 228.2 50.6 Q 228.7 51.2, 228.7 52.2 Q 228.7 53.2, 228.2 53.8 Q 227.7 54.4, 226.7 54.4 Q 225.8 54.4, 225.3 53.8 Q 224.8 53.2, 224.8 52.2 M 226.7 53.9 Q 227.4 53.9, 227.7 53.5 Q 228.1 53.0, 228.1 52.2 Q 228.1 51.3, 227.7 50.9 Q 227.4 50.5, 226.7 50.5 Q 226.1 50.5, 225.7 50.9 Q 225.4 51.3, 225.4 52.2 Q 225.4 53.0, 225.7 53.5 Q 226.1 53.9, 226.7 53.9 \" fill=\"#FF0000\"/>\n",
       "<path class=\"atom-42\" d=\"M 207.4 81.9 L 208.0 81.9 L 208.0 83.7 L 210.2 83.7 L 210.2 81.9 L 210.8 81.9 L 210.8 86.2 L 210.2 86.2 L 210.2 84.2 L 208.0 84.2 L 208.0 86.2 L 207.4 86.2 L 207.4 81.9 \" fill=\"#000000\"/>\n",
       "<path class=\"atom-0\" d=\"M 243.2,133.3 L 243.2,133.3 L 243.2,133.3 L 243.2,133.3 L 243.2,133.4 L 243.2,133.4 L 243.2,133.4 L 243.1,133.4 L 243.1,133.5 L 243.1,133.5 L 243.1,133.5 L 243.1,133.5 L 243.0,133.5 L 243.0,133.5 L 243.0,133.5 L 243.0,133.5 L 242.9,133.6 L 242.9,133.6 L 242.9,133.6 L 242.9,133.6 L 242.8,133.6 L 242.8,133.6 L 242.8,133.5 L 242.8,133.5 L 242.7,133.5 L 242.7,133.5 L 242.7,133.5 L 242.7,133.5 L 242.7,133.5 L 242.7,133.4 L 242.6,133.4 L 242.6,133.4 L 242.6,133.4 L 242.6,133.3 L 242.6,133.3 L 242.6,133.3 L 242.6,133.3 L 242.6,133.2 L 242.6,133.2 L 242.6,133.2 L 242.6,133.2 L 242.6,133.1 L 242.6,133.1 L 242.6,133.1 L 242.7,133.1 L 242.7,133.1 L 242.7,133.0 L 242.7,133.0 L 242.7,133.0 L 242.7,133.0 L 242.8,133.0 L 242.8,133.0 L 242.8,133.0 L 242.8,133.0 L 242.9,133.0 L 242.9,133.0 L 242.9,133.0 L 242.9,133.0 L 243.0,133.0 L 243.0,133.0 L 243.0,133.0 L 243.0,133.0 L 243.1,133.0 L 243.1,133.0 L 243.1,133.1 L 243.1,133.1 L 243.1,133.1 L 243.2,133.1 L 243.2,133.1 L 243.2,133.2 L 243.2,133.2 L 243.2,133.2 L 243.2,133.2 L 243.2,133.3 L 242.9,133.3 Z\" style=\"fill:#000000;fill-rule:evenodd;fill-opacity:1;stroke:#000000;stroke-width:0.0px;stroke-linecap:butt;stroke-linejoin:miter;stroke-opacity:1;\"/>\n",
       "<path class=\"atom-42\" d=\"M 206.8,84.1 L 206.8,84.1 L 206.8,84.1 L 206.8,84.1 L 206.8,84.2 L 206.8,84.2 L 206.8,84.2 L 206.8,84.2 L 206.8,84.3 L 206.7,84.3 L 206.7,84.3 L 206.7,84.3 L 206.7,84.3 L 206.7,84.3 L 206.6,84.3 L 206.6,84.3 L 206.6,84.4 L 206.6,84.4 L 206.5,84.4 L 206.5,84.4 L 206.5,84.4 L 206.5,84.4 L 206.4,84.3 L 206.4,84.3 L 206.4,84.3 L 206.4,84.3 L 206.3,84.3 L 206.3,84.3 L 206.3,84.3 L 206.3,84.2 L 206.3,84.2 L 206.3,84.2 L 206.3,84.2 L 206.2,84.1 L 206.2,84.1 L 206.2,84.1 L 206.2,84.1 L 206.2,84.0 L 206.2,84.0 L 206.2,84.0 L 206.2,84.0 L 206.3,83.9 L 206.3,83.9 L 206.3,83.9 L 206.3,83.9 L 206.3,83.9 L 206.3,83.8 L 206.3,83.8 L 206.4,83.8 L 206.4,83.8 L 206.4,83.8 L 206.4,83.8 L 206.5,83.8 L 206.5,83.8 L 206.5,83.8 L 206.5,83.8 L 206.6,83.8 L 206.6,83.8 L 206.6,83.8 L 206.6,83.8 L 206.7,83.8 L 206.7,83.8 L 206.7,83.8 L 206.7,83.8 L 206.7,83.9 L 206.8,83.9 L 206.8,83.9 L 206.8,83.9 L 206.8,83.9 L 206.8,84.0 L 206.8,84.0 L 206.8,84.0 L 206.8,84.0 L 206.8,84.1 L 206.5,84.1 Z\" style=\"fill:#000000;fill-rule:evenodd;fill-opacity:1;stroke:#000000;stroke-width:0.0px;stroke-linecap:butt;stroke-linejoin:miter;stroke-opacity:1;\"/>\n",
       "</svg>"
      ],
      "text/plain": [
       "<IPython.core.display.SVG object>"
      ]
     },
     "execution_count": 37,
     "metadata": {},
     "output_type": "execute_result"
    }
   ],
   "source": [
    "big_smiles_gen(big, 1)"
   ]
  },
  {
   "cell_type": "code",
   "execution_count": 38,
   "id": "51286716",
   "metadata": {},
   "outputs": [
    {
     "name": "stdout",
     "output_type": "stream",
     "text": [
      "24\n"
     ]
    },
    {
     "data": {
      "image/svg+xml": [
       "<svg xmlns=\"http://www.w3.org/2000/svg\" xmlns:rdkit=\"http://www.rdkit.org/xml\" xmlns:xlink=\"http://www.w3.org/1999/xlink\" version=\"1.1\" baseProfile=\"full\" xml:space=\"preserve\" width=\"450px\" height=\"150px\" viewBox=\"0 0 450 150\">\n",
       "<!-- END OF HEADER -->\n",
       "<rect style=\"opacity:1.0;fill:#FFFFFF;stroke:none\" width=\"450.0\" height=\"150.0\" x=\"0.0\" y=\"0.0\"> </rect>\n",
       "<path class=\"bond-0 atom-1 atom-2\" d=\"M 223.2,127.3 L 233.7,117.9\" style=\"fill:none;fill-rule:evenodd;stroke:#000000;stroke-width:2.0px;stroke-linecap:butt;stroke-linejoin:miter;stroke-opacity:1\"/>\n",
       "<path class=\"bond-1 atom-2 atom-3\" d=\"M 233.7,117.9 L 247.1,122.3\" style=\"fill:none;fill-rule:evenodd;stroke:#000000;stroke-width:2.0px;stroke-linecap:butt;stroke-linejoin:miter;stroke-opacity:1\"/>\n",
       "<path class=\"bond-2 atom-3 atom-4\" d=\"M 248.5,122.0 L 249.7,127.6\" style=\"fill:none;fill-rule:evenodd;stroke:#000000;stroke-width:2.0px;stroke-linecap:butt;stroke-linejoin:miter;stroke-opacity:1\"/>\n",
       "<path class=\"bond-2 atom-3 atom-4\" d=\"M 249.7,127.6 L 250.9,133.2\" style=\"fill:none;fill-rule:evenodd;stroke:#FF0000;stroke-width:2.0px;stroke-linecap:butt;stroke-linejoin:miter;stroke-opacity:1\"/>\n",
       "<path class=\"bond-2 atom-3 atom-4\" d=\"M 245.7,122.6 L 246.9,128.2\" style=\"fill:none;fill-rule:evenodd;stroke:#000000;stroke-width:2.0px;stroke-linecap:butt;stroke-linejoin:miter;stroke-opacity:1\"/>\n",
       "<path class=\"bond-2 atom-3 atom-4\" d=\"M 246.9,128.2 L 248.1,133.8\" style=\"fill:none;fill-rule:evenodd;stroke:#FF0000;stroke-width:2.0px;stroke-linecap:butt;stroke-linejoin:miter;stroke-opacity:1\"/>\n",
       "<path class=\"bond-3 atom-3 atom-5\" d=\"M 247.1,122.3 L 251.2,118.6\" style=\"fill:none;fill-rule:evenodd;stroke:#000000;stroke-width:2.0px;stroke-linecap:butt;stroke-linejoin:miter;stroke-opacity:1\"/>\n",
       "<path class=\"bond-3 atom-3 atom-5\" d=\"M 251.2,118.6 L 255.2,115.0\" style=\"fill:none;fill-rule:evenodd;stroke:#FF0000;stroke-width:2.0px;stroke-linecap:butt;stroke-linejoin:miter;stroke-opacity:1\"/>\n",
       "<path class=\"bond-4 atom-5 atom-6\" d=\"M 260.0,113.6 L 265.5,115.4\" style=\"fill:none;fill-rule:evenodd;stroke:#FF0000;stroke-width:2.0px;stroke-linecap:butt;stroke-linejoin:miter;stroke-opacity:1\"/>\n",
       "<path class=\"bond-4 atom-5 atom-6\" d=\"M 265.5,115.4 L 271.0,117.2\" style=\"fill:none;fill-rule:evenodd;stroke:#000000;stroke-width:2.0px;stroke-linecap:butt;stroke-linejoin:miter;stroke-opacity:1\"/>\n",
       "<path class=\"bond-5 atom-6 atom-7\" d=\"M 271.0,117.2 L 281.6,107.8\" style=\"fill:none;fill-rule:evenodd;stroke:#000000;stroke-width:2.0px;stroke-linecap:butt;stroke-linejoin:miter;stroke-opacity:1\"/>\n",
       "<path class=\"bond-6 atom-7 atom-8\" d=\"M 281.6,107.8 L 295.0,112.2\" style=\"fill:none;fill-rule:evenodd;stroke:#000000;stroke-width:2.0px;stroke-linecap:butt;stroke-linejoin:miter;stroke-opacity:1\"/>\n",
       "<path class=\"bond-7 atom-8 atom-9\" d=\"M 295.0,112.2 L 305.5,102.8\" style=\"fill:none;fill-rule:evenodd;stroke:#000000;stroke-width:2.0px;stroke-linecap:butt;stroke-linejoin:miter;stroke-opacity:1\"/>\n",
       "<path class=\"bond-8 atom-0 atom-1\" d=\"M 225.6,138.5 L 223.2,127.3\" style=\"fill:none;fill-rule:evenodd;stroke:#000000;stroke-width:2.0px;stroke-linecap:butt;stroke-linejoin:miter;stroke-opacity:1\"/>\n",
       "<path class=\"bond-9 atom-10 atom-11\" d=\"M 209.8,122.9 L 199.3,132.3\" style=\"fill:none;fill-rule:evenodd;stroke:#000000;stroke-width:2.0px;stroke-linecap:butt;stroke-linejoin:miter;stroke-opacity:1\"/>\n",
       "<path class=\"bond-10 atom-11 atom-12\" d=\"M 199.3,132.3 L 185.9,127.9\" style=\"fill:none;fill-rule:evenodd;stroke:#000000;stroke-width:2.0px;stroke-linecap:butt;stroke-linejoin:miter;stroke-opacity:1\"/>\n",
       "<path class=\"bond-11 atom-12 atom-13\" d=\"M 186.8,129.0 L 182.8,132.6\" style=\"fill:none;fill-rule:evenodd;stroke:#000000;stroke-width:2.0px;stroke-linecap:butt;stroke-linejoin:miter;stroke-opacity:1\"/>\n",
       "<path class=\"bond-11 atom-12 atom-13\" d=\"M 182.8,132.6 L 178.7,136.3\" style=\"fill:none;fill-rule:evenodd;stroke:#FF0000;stroke-width:2.0px;stroke-linecap:butt;stroke-linejoin:miter;stroke-opacity:1\"/>\n",
       "<path class=\"bond-11 atom-12 atom-13\" d=\"M 184.9,126.9 L 180.9,130.5\" style=\"fill:none;fill-rule:evenodd;stroke:#000000;stroke-width:2.0px;stroke-linecap:butt;stroke-linejoin:miter;stroke-opacity:1\"/>\n",
       "<path class=\"bond-11 atom-12 atom-13\" d=\"M 180.9,130.5 L 176.8,134.2\" style=\"fill:none;fill-rule:evenodd;stroke:#FF0000;stroke-width:2.0px;stroke-linecap:butt;stroke-linejoin:miter;stroke-opacity:1\"/>\n",
       "<path class=\"bond-12 atom-12 atom-14\" d=\"M 185.9,127.9 L 184.7,122.4\" style=\"fill:none;fill-rule:evenodd;stroke:#000000;stroke-width:2.0px;stroke-linecap:butt;stroke-linejoin:miter;stroke-opacity:1\"/>\n",
       "<path class=\"bond-12 atom-12 atom-14\" d=\"M 184.7,122.4 L 183.5,116.8\" style=\"fill:none;fill-rule:evenodd;stroke:#FF0000;stroke-width:2.0px;stroke-linecap:butt;stroke-linejoin:miter;stroke-opacity:1\"/>\n",
       "<path class=\"bond-13 atom-14 atom-15\" d=\"M 180.6,113.3 L 175.1,111.5\" style=\"fill:none;fill-rule:evenodd;stroke:#FF0000;stroke-width:2.0px;stroke-linecap:butt;stroke-linejoin:miter;stroke-opacity:1\"/>\n",
       "<path class=\"bond-13 atom-14 atom-15\" d=\"M 175.1,111.5 L 169.5,109.7\" style=\"fill:none;fill-rule:evenodd;stroke:#000000;stroke-width:2.0px;stroke-linecap:butt;stroke-linejoin:miter;stroke-opacity:1\"/>\n",
       "<path class=\"bond-14 atom-15 atom-16\" d=\"M 169.5,109.7 L 166.6,95.9\" style=\"fill:none;fill-rule:evenodd;stroke:#000000;stroke-width:2.0px;stroke-linecap:butt;stroke-linejoin:miter;stroke-opacity:1\"/>\n",
       "<path class=\"bond-15 atom-16 atom-17\" d=\"M 166.6,95.9 L 153.2,91.5\" style=\"fill:none;fill-rule:evenodd;stroke:#000000;stroke-width:2.0px;stroke-linecap:butt;stroke-linejoin:miter;stroke-opacity:1\"/>\n",
       "<path class=\"bond-16 atom-17 atom-18\" d=\"M 153.2,91.5 L 150.3,77.7\" style=\"fill:none;fill-rule:evenodd;stroke:#000000;stroke-width:2.0px;stroke-linecap:butt;stroke-linejoin:miter;stroke-opacity:1\"/>\n",
       "<path class=\"bond-17 atom-1 atom-10\" d=\"M 223.2,127.3 L 209.8,122.9\" style=\"fill:none;fill-rule:evenodd;stroke:#000000;stroke-width:2.0px;stroke-linecap:butt;stroke-linejoin:miter;stroke-opacity:1\"/>\n",
       "<path class=\"bond-18 atom-19 atom-20\" d=\"M 206.9,109.1 L 193.5,104.7\" style=\"fill:none;fill-rule:evenodd;stroke:#000000;stroke-width:2.0px;stroke-linecap:butt;stroke-linejoin:miter;stroke-opacity:1\"/>\n",
       "<path class=\"bond-19 atom-20 atom-21\" d=\"M 193.5,104.7 L 190.6,90.9\" style=\"fill:none;fill-rule:evenodd;stroke:#000000;stroke-width:2.0px;stroke-linecap:butt;stroke-linejoin:miter;stroke-opacity:1\"/>\n",
       "<path class=\"bond-20 atom-21 atom-22\" d=\"M 189.5,90.0 L 191.4,87.8\" style=\"fill:none;fill-rule:evenodd;stroke:#000000;stroke-width:2.0px;stroke-linecap:butt;stroke-linejoin:miter;stroke-opacity:1\"/>\n",
       "<path class=\"bond-20 atom-21 atom-22\" d=\"M 191.4,87.8 L 193.3,85.7\" style=\"fill:none;fill-rule:evenodd;stroke:#FF0000;stroke-width:2.0px;stroke-linecap:butt;stroke-linejoin:miter;stroke-opacity:1\"/>\n",
       "<path class=\"bond-20 atom-21 atom-22\" d=\"M 191.6,91.8 L 193.5,89.7\" style=\"fill:none;fill-rule:evenodd;stroke:#000000;stroke-width:2.0px;stroke-linecap:butt;stroke-linejoin:miter;stroke-opacity:1\"/>\n",
       "<path class=\"bond-20 atom-21 atom-22\" d=\"M 193.5,89.7 L 195.4,87.5\" style=\"fill:none;fill-rule:evenodd;stroke:#FF0000;stroke-width:2.0px;stroke-linecap:butt;stroke-linejoin:miter;stroke-opacity:1\"/>\n",
       "<path class=\"bond-21 atom-21 atom-23\" d=\"M 190.6,90.9 L 185.1,89.1\" style=\"fill:none;fill-rule:evenodd;stroke:#000000;stroke-width:2.0px;stroke-linecap:butt;stroke-linejoin:miter;stroke-opacity:1\"/>\n",
       "<path class=\"bond-21 atom-21 atom-23\" d=\"M 185.1,89.1 L 179.6,87.3\" style=\"fill:none;fill-rule:evenodd;stroke:#FF0000;stroke-width:2.0px;stroke-linecap:butt;stroke-linejoin:miter;stroke-opacity:1\"/>\n",
       "<path class=\"bond-22 atom-23 atom-24\" d=\"M 176.6,83.9 L 175.4,78.3\" style=\"fill:none;fill-rule:evenodd;stroke:#FF0000;stroke-width:2.0px;stroke-linecap:butt;stroke-linejoin:miter;stroke-opacity:1\"/>\n",
       "<path class=\"bond-22 atom-23 atom-24\" d=\"M 175.4,78.3 L 174.3,72.7\" style=\"fill:none;fill-rule:evenodd;stroke:#000000;stroke-width:2.0px;stroke-linecap:butt;stroke-linejoin:miter;stroke-opacity:1\"/>\n",
       "<path class=\"bond-23 atom-24 atom-25\" d=\"M 174.3,72.7 L 160.8,68.3\" style=\"fill:none;fill-rule:evenodd;stroke:#000000;stroke-width:2.0px;stroke-linecap:butt;stroke-linejoin:miter;stroke-opacity:1\"/>\n",
       "<path class=\"bond-24 atom-25 atom-26\" d=\"M 160.8,68.3 L 157.9,54.5\" style=\"fill:none;fill-rule:evenodd;stroke:#000000;stroke-width:2.0px;stroke-linecap:butt;stroke-linejoin:miter;stroke-opacity:1\"/>\n",
       "<path class=\"bond-25 atom-26 atom-27\" d=\"M 157.9,54.5 L 144.5,50.1\" style=\"fill:none;fill-rule:evenodd;stroke:#000000;stroke-width:2.0px;stroke-linecap:butt;stroke-linejoin:miter;stroke-opacity:1\"/>\n",
       "<path class=\"bond-26 atom-10 atom-19\" d=\"M 209.8,122.9 L 206.9,109.1\" style=\"fill:none;fill-rule:evenodd;stroke:#000000;stroke-width:2.0px;stroke-linecap:butt;stroke-linejoin:miter;stroke-opacity:1\"/>\n",
       "<path class=\"bond-27 atom-28 atom-29\" d=\"M 217.4,99.7 L 230.8,104.1\" style=\"fill:none;fill-rule:evenodd;stroke:#000000;stroke-width:2.0px;stroke-linecap:butt;stroke-linejoin:miter;stroke-opacity:1\"/>\n",
       "<path class=\"bond-28 atom-29 atom-30\" d=\"M 230.8,104.1 L 241.3,94.7\" style=\"fill:none;fill-rule:evenodd;stroke:#000000;stroke-width:2.0px;stroke-linecap:butt;stroke-linejoin:miter;stroke-opacity:1\"/>\n",
       "<path class=\"bond-29 atom-30 atom-31\" d=\"M 241.8,93.3 L 247.3,95.1\" style=\"fill:none;fill-rule:evenodd;stroke:#000000;stroke-width:2.0px;stroke-linecap:butt;stroke-linejoin:miter;stroke-opacity:1\"/>\n",
       "<path class=\"bond-29 atom-30 atom-31\" d=\"M 247.3,95.1 L 252.8,96.9\" style=\"fill:none;fill-rule:evenodd;stroke:#FF0000;stroke-width:2.0px;stroke-linecap:butt;stroke-linejoin:miter;stroke-opacity:1\"/>\n",
       "<path class=\"bond-29 atom-30 atom-31\" d=\"M 240.9,96.0 L 246.4,97.8\" style=\"fill:none;fill-rule:evenodd;stroke:#000000;stroke-width:2.0px;stroke-linecap:butt;stroke-linejoin:miter;stroke-opacity:1\"/>\n",
       "<path class=\"bond-29 atom-30 atom-31\" d=\"M 246.4,97.8 L 251.9,99.6\" style=\"fill:none;fill-rule:evenodd;stroke:#FF0000;stroke-width:2.0px;stroke-linecap:butt;stroke-linejoin:miter;stroke-opacity:1\"/>\n",
       "<path class=\"bond-30 atom-30 atom-32\" d=\"M 241.3,94.7 L 240.1,89.1\" style=\"fill:none;fill-rule:evenodd;stroke:#000000;stroke-width:2.0px;stroke-linecap:butt;stroke-linejoin:miter;stroke-opacity:1\"/>\n",
       "<path class=\"bond-30 atom-30 atom-32\" d=\"M 240.1,89.1 L 239.0,83.5\" style=\"fill:none;fill-rule:evenodd;stroke:#FF0000;stroke-width:2.0px;stroke-linecap:butt;stroke-linejoin:miter;stroke-opacity:1\"/>\n",
       "<path class=\"bond-31 atom-32 atom-33\" d=\"M 240.8,78.7 L 244.9,75.1\" style=\"fill:none;fill-rule:evenodd;stroke:#FF0000;stroke-width:2.0px;stroke-linecap:butt;stroke-linejoin:miter;stroke-opacity:1\"/>\n",
       "<path class=\"bond-31 atom-32 atom-33\" d=\"M 244.9,75.1 L 248.9,71.4\" style=\"fill:none;fill-rule:evenodd;stroke:#000000;stroke-width:2.0px;stroke-linecap:butt;stroke-linejoin:miter;stroke-opacity:1\"/>\n",
       "<path class=\"bond-32 atom-33 atom-34\" d=\"M 248.9,71.4 L 246.0,57.6\" style=\"fill:none;fill-rule:evenodd;stroke:#000000;stroke-width:2.0px;stroke-linecap:butt;stroke-linejoin:miter;stroke-opacity:1\"/>\n",
       "<path class=\"bond-33 atom-34 atom-35\" d=\"M 246.0,57.6 L 256.5,48.2\" style=\"fill:none;fill-rule:evenodd;stroke:#000000;stroke-width:2.0px;stroke-linecap:butt;stroke-linejoin:miter;stroke-opacity:1\"/>\n",
       "<path class=\"bond-34 atom-35 atom-36\" d=\"M 256.5,48.2 L 253.6,34.4\" style=\"fill:none;fill-rule:evenodd;stroke:#000000;stroke-width:2.0px;stroke-linecap:butt;stroke-linejoin:miter;stroke-opacity:1\"/>\n",
       "<path class=\"bond-35 atom-19 atom-28\" d=\"M 206.9,109.1 L 217.4,99.7\" style=\"fill:none;fill-rule:evenodd;stroke:#000000;stroke-width:2.0px;stroke-linecap:butt;stroke-linejoin:miter;stroke-opacity:1\"/>\n",
       "<path class=\"bond-36 atom-37 atom-38\" d=\"M 214.5,85.9 L 225.0,76.5\" style=\"fill:none;fill-rule:evenodd;stroke:#000000;stroke-width:2.0px;stroke-linecap:butt;stroke-linejoin:miter;stroke-opacity:1\"/>\n",
       "<path class=\"bond-37 atom-38 atom-39\" d=\"M 225.0,76.5 L 222.1,62.6\" style=\"fill:none;fill-rule:evenodd;stroke:#000000;stroke-width:2.0px;stroke-linecap:butt;stroke-linejoin:miter;stroke-opacity:1\"/>\n",
       "<path class=\"bond-38 atom-39 atom-40\" d=\"M 221.7,64.0 L 216.2,62.2\" style=\"fill:none;fill-rule:evenodd;stroke:#000000;stroke-width:2.0px;stroke-linecap:butt;stroke-linejoin:miter;stroke-opacity:1\"/>\n",
       "<path class=\"bond-38 atom-39 atom-40\" d=\"M 216.2,62.2 L 210.7,60.4\" style=\"fill:none;fill-rule:evenodd;stroke:#FF0000;stroke-width:2.0px;stroke-linecap:butt;stroke-linejoin:miter;stroke-opacity:1\"/>\n",
       "<path class=\"bond-38 atom-39 atom-40\" d=\"M 222.5,61.3 L 217.0,59.5\" style=\"fill:none;fill-rule:evenodd;stroke:#000000;stroke-width:2.0px;stroke-linecap:butt;stroke-linejoin:miter;stroke-opacity:1\"/>\n",
       "<path class=\"bond-38 atom-39 atom-40\" d=\"M 217.0,59.5 L 211.5,57.7\" style=\"fill:none;fill-rule:evenodd;stroke:#FF0000;stroke-width:2.0px;stroke-linecap:butt;stroke-linejoin:miter;stroke-opacity:1\"/>\n",
       "<path class=\"bond-39 atom-39 atom-41\" d=\"M 222.1,62.6 L 226.1,59.0\" style=\"fill:none;fill-rule:evenodd;stroke:#000000;stroke-width:2.0px;stroke-linecap:butt;stroke-linejoin:miter;stroke-opacity:1\"/>\n",
       "<path class=\"bond-39 atom-39 atom-41\" d=\"M 226.1,59.0 L 230.2,55.4\" style=\"fill:none;fill-rule:evenodd;stroke:#FF0000;stroke-width:2.0px;stroke-linecap:butt;stroke-linejoin:miter;stroke-opacity:1\"/>\n",
       "<path class=\"bond-40 atom-41 atom-42\" d=\"M 232.1,50.6 L 230.9,45.0\" style=\"fill:none;fill-rule:evenodd;stroke:#FF0000;stroke-width:2.0px;stroke-linecap:butt;stroke-linejoin:miter;stroke-opacity:1\"/>\n",
       "<path class=\"bond-40 atom-41 atom-42\" d=\"M 230.9,45.0 L 229.7,39.4\" style=\"fill:none;fill-rule:evenodd;stroke:#000000;stroke-width:2.0px;stroke-linecap:butt;stroke-linejoin:miter;stroke-opacity:1\"/>\n",
       "<path class=\"bond-41 atom-42 atom-43\" d=\"M 229.7,39.4 L 240.2,30.0\" style=\"fill:none;fill-rule:evenodd;stroke:#000000;stroke-width:2.0px;stroke-linecap:butt;stroke-linejoin:miter;stroke-opacity:1\"/>\n",
       "<path class=\"bond-42 atom-43 atom-44\" d=\"M 240.2,30.0 L 237.3,16.2\" style=\"fill:none;fill-rule:evenodd;stroke:#000000;stroke-width:2.0px;stroke-linecap:butt;stroke-linejoin:miter;stroke-opacity:1\"/>\n",
       "<path class=\"bond-43 atom-44 atom-45\" d=\"M 237.3,16.2 L 247.8,6.8\" style=\"fill:none;fill-rule:evenodd;stroke:#000000;stroke-width:2.0px;stroke-linecap:butt;stroke-linejoin:miter;stroke-opacity:1\"/>\n",
       "<path class=\"bond-44 atom-28 atom-37\" d=\"M 217.4,99.7 L 214.5,85.9\" style=\"fill:none;fill-rule:evenodd;stroke:#000000;stroke-width:2.0px;stroke-linecap:butt;stroke-linejoin:miter;stroke-opacity:1\"/>\n",
       "<path class=\"bond-45 atom-37 atom-46\" d=\"M 214.5,85.9 L 208.2,82.9\" style=\"fill:none;fill-rule:evenodd;stroke:#000000;stroke-width:2.0px;stroke-linecap:butt;stroke-linejoin:miter;stroke-opacity:1\"/>\n",
       "<path class=\"atom-0\" d=\"M 224.4 139.0 L 225.0 139.0 L 225.0 140.8 L 227.2 140.8 L 227.2 139.0 L 227.8 139.0 L 227.8 143.2 L 227.2 143.2 L 227.2 141.3 L 225.0 141.3 L 225.0 143.2 L 224.4 143.2 L 224.4 139.0 \" fill=\"#000000\"/>\n",
       "<path class=\"atom-4\" d=\"M 248.1 136.1 Q 248.1 135.1, 248.6 134.5 Q 249.1 133.9, 250.0 133.9 Q 251.0 133.9, 251.5 134.5 Q 252.0 135.1, 252.0 136.1 Q 252.0 137.1, 251.5 137.7 Q 251.0 138.3, 250.0 138.3 Q 249.1 138.3, 248.6 137.7 Q 248.1 137.1, 248.1 136.1 M 250.0 137.8 Q 250.7 137.8, 251.0 137.4 Q 251.4 137.0, 251.4 136.1 Q 251.4 135.3, 251.0 134.8 Q 250.7 134.4, 250.0 134.4 Q 249.4 134.4, 249.0 134.8 Q 248.7 135.3, 248.7 136.1 Q 248.7 137.0, 249.0 137.4 Q 249.4 137.8, 250.0 137.8 \" fill=\"#FF0000\"/>\n",
       "<path class=\"atom-5\" d=\"M 255.7 112.9 Q 255.7 111.9, 256.2 111.3 Q 256.7 110.7, 257.6 110.7 Q 258.6 110.7, 259.1 111.3 Q 259.6 111.9, 259.6 112.9 Q 259.6 113.9, 259.1 114.5 Q 258.6 115.1, 257.6 115.1 Q 256.7 115.1, 256.2 114.5 Q 255.7 113.9, 255.7 112.9 M 257.6 114.6 Q 258.3 114.6, 258.6 114.2 Q 259.0 113.7, 259.0 112.9 Q 259.0 112.0, 258.6 111.6 Q 258.3 111.2, 257.6 111.2 Q 257.0 111.2, 256.6 111.6 Q 256.3 112.0, 256.3 112.9 Q 256.3 113.7, 256.6 114.2 Q 257.0 114.6, 257.6 114.6 \" fill=\"#FF0000\"/>\n",
       "<path class=\"atom-13\" d=\"M 173.4 137.4 Q 173.4 136.4, 173.9 135.8 Q 174.4 135.2, 175.4 135.2 Q 176.3 135.2, 176.8 135.8 Q 177.3 136.4, 177.3 137.4 Q 177.3 138.4, 176.8 139.0 Q 176.3 139.6, 175.4 139.6 Q 174.4 139.6, 173.9 139.0 Q 173.4 138.4, 173.4 137.4 M 175.4 139.1 Q 176.0 139.1, 176.4 138.7 Q 176.7 138.2, 176.7 137.4 Q 176.7 136.5, 176.4 136.1 Q 176.0 135.7, 175.4 135.7 Q 174.7 135.7, 174.4 136.1 Q 174.0 136.5, 174.0 137.4 Q 174.0 138.2, 174.4 138.7 Q 174.7 139.1, 175.4 139.1 \" fill=\"#FF0000\"/>\n",
       "<path class=\"atom-14\" d=\"M 181.0 114.1 Q 181.0 113.1, 181.5 112.6 Q 182.0 112.0, 183.0 112.0 Q 183.9 112.0, 184.4 112.6 Q 184.9 113.1, 184.9 114.1 Q 184.9 115.2, 184.4 115.8 Q 183.9 116.3, 183.0 116.3 Q 182.0 116.3, 181.5 115.8 Q 181.0 115.2, 181.0 114.1 M 183.0 115.9 Q 183.6 115.9, 184.0 115.4 Q 184.3 115.0, 184.3 114.1 Q 184.3 113.3, 184.0 112.9 Q 183.6 112.5, 183.0 112.5 Q 182.3 112.5, 182.0 112.9 Q 181.6 113.3, 181.6 114.1 Q 181.6 115.0, 182.0 115.4 Q 182.3 115.9, 183.0 115.9 \" fill=\"#FF0000\"/>\n",
       "<path class=\"atom-22\" d=\"M 194.7 83.9 Q 194.7 82.9, 195.2 82.3 Q 195.7 81.8, 196.7 81.8 Q 197.6 81.8, 198.1 82.3 Q 198.6 82.9, 198.6 83.9 Q 198.6 85.0, 198.1 85.6 Q 197.6 86.1, 196.7 86.1 Q 195.7 86.1, 195.2 85.6 Q 194.7 85.0, 194.7 83.9 M 196.7 85.7 Q 197.3 85.7, 197.7 85.2 Q 198.0 84.8, 198.0 83.9 Q 198.0 83.1, 197.7 82.7 Q 197.3 82.3, 196.7 82.3 Q 196.0 82.3, 195.7 82.7 Q 195.3 83.1, 195.3 83.9 Q 195.3 84.8, 195.7 85.2 Q 196.0 85.7, 196.7 85.7 \" fill=\"#FF0000\"/>\n",
       "<path class=\"atom-23\" d=\"M 175.2 86.5 Q 175.2 85.5, 175.7 84.9 Q 176.2 84.4, 177.2 84.4 Q 178.1 84.4, 178.6 84.9 Q 179.1 85.5, 179.1 86.5 Q 179.1 87.6, 178.6 88.1 Q 178.1 88.7, 177.2 88.7 Q 176.2 88.7, 175.7 88.1 Q 175.2 87.6, 175.2 86.5 M 177.2 88.2 Q 177.8 88.2, 178.2 87.8 Q 178.5 87.4, 178.5 86.5 Q 178.5 85.7, 178.2 85.3 Q 177.8 84.8, 177.2 84.8 Q 176.5 84.8, 176.2 85.3 Q 175.8 85.7, 175.8 86.5 Q 175.8 87.4, 176.2 87.8 Q 176.5 88.2, 177.2 88.2 \" fill=\"#FF0000\"/>\n",
       "<path class=\"atom-31\" d=\"M 252.8 99.1 Q 252.8 98.0, 253.3 97.5 Q 253.8 96.9, 254.7 96.9 Q 255.7 96.9, 256.2 97.5 Q 256.7 98.0, 256.7 99.1 Q 256.7 100.1, 256.2 100.7 Q 255.7 101.3, 254.7 101.3 Q 253.8 101.3, 253.3 100.7 Q 252.8 100.1, 252.8 99.1 M 254.7 100.8 Q 255.4 100.8, 255.7 100.3 Q 256.1 99.9, 256.1 99.1 Q 256.1 98.2, 255.7 97.8 Q 255.4 97.4, 254.7 97.4 Q 254.1 97.4, 253.7 97.8 Q 253.4 98.2, 253.4 99.1 Q 253.4 99.9, 253.7 100.3 Q 254.1 100.8, 254.7 100.8 \" fill=\"#FF0000\"/>\n",
       "<path class=\"atom-32\" d=\"M 236.5 80.9 Q 236.5 79.8, 237.0 79.3 Q 237.5 78.7, 238.4 78.7 Q 239.4 78.7, 239.9 79.3 Q 240.4 79.8, 240.4 80.9 Q 240.4 81.9, 239.9 82.5 Q 239.3 83.1, 238.4 83.1 Q 237.5 83.1, 237.0 82.5 Q 236.5 81.9, 236.5 80.9 M 238.4 82.6 Q 239.1 82.6, 239.4 82.1 Q 239.8 81.7, 239.8 80.9 Q 239.8 80.0, 239.4 79.6 Q 239.1 79.2, 238.4 79.2 Q 237.8 79.2, 237.4 79.6 Q 237.1 80.0, 237.1 80.9 Q 237.1 81.7, 237.4 82.1 Q 237.8 82.6, 238.4 82.6 \" fill=\"#FF0000\"/>\n",
       "<path class=\"atom-40\" d=\"M 206.7 58.3 Q 206.7 57.2, 207.2 56.7 Q 207.7 56.1, 208.7 56.1 Q 209.6 56.1, 210.1 56.7 Q 210.6 57.2, 210.6 58.3 Q 210.6 59.3, 210.1 59.9 Q 209.6 60.5, 208.7 60.5 Q 207.7 60.5, 207.2 59.9 Q 206.7 59.3, 206.7 58.3 M 208.7 60.0 Q 209.3 60.0, 209.7 59.6 Q 210.0 59.1, 210.0 58.3 Q 210.0 57.4, 209.7 57.0 Q 209.3 56.6, 208.7 56.6 Q 208.0 56.6, 207.7 57.0 Q 207.3 57.4, 207.3 58.3 Q 207.3 59.1, 207.7 59.6 Q 208.0 60.0, 208.7 60.0 \" fill=\"#FF0000\"/>\n",
       "<path class=\"atom-41\" d=\"M 230.7 53.2 Q 230.7 52.2, 231.2 51.6 Q 231.7 51.1, 232.6 51.1 Q 233.5 51.1, 234.1 51.6 Q 234.6 52.2, 234.6 53.2 Q 234.6 54.3, 234.0 54.9 Q 233.5 55.4, 232.6 55.4 Q 231.7 55.4, 231.2 54.9 Q 230.7 54.3, 230.7 53.2 M 232.6 55.0 Q 233.3 55.0, 233.6 54.5 Q 234.0 54.1, 234.0 53.2 Q 234.0 52.4, 233.6 52.0 Q 233.3 51.6, 232.6 51.6 Q 232.0 51.6, 231.6 52.0 Q 231.3 52.4, 231.3 53.2 Q 231.3 54.1, 231.6 54.5 Q 232.0 55.0, 232.6 55.0 \" fill=\"#FF0000\"/>\n",
       "<path class=\"atom-46\" d=\"M 204.4 79.8 L 205.0 79.8 L 205.0 81.6 L 207.2 81.6 L 207.2 79.8 L 207.8 79.8 L 207.8 84.1 L 207.2 84.1 L 207.2 82.1 L 205.0 82.1 L 205.0 84.1 L 204.4 84.1 L 204.4 79.8 \" fill=\"#000000\"/>\n",
       "<path class=\"atom-0\" d=\"M 229.0,141.1 L 229.0,141.1 L 229.0,141.2 L 229.0,141.2 L 229.0,141.2 L 228.9,141.2 L 228.9,141.3 L 228.9,141.3 L 228.9,141.3 L 228.9,141.3 L 228.9,141.3 L 228.8,141.4 L 228.8,141.4 L 228.8,141.4 L 228.8,141.4 L 228.8,141.4 L 228.7,141.4 L 228.7,141.4 L 228.7,141.4 L 228.6,141.4 L 228.6,141.4 L 228.6,141.4 L 228.6,141.4 L 228.5,141.4 L 228.5,141.4 L 228.5,141.4 L 228.5,141.4 L 228.5,141.3 L 228.4,141.3 L 228.4,141.3 L 228.4,141.3 L 228.4,141.3 L 228.4,141.2 L 228.4,141.2 L 228.4,141.2 L 228.4,141.2 L 228.4,141.1 L 228.4,141.1 L 228.4,141.1 L 228.4,141.1 L 228.4,141.0 L 228.4,141.0 L 228.4,141.0 L 228.4,141.0 L 228.4,140.9 L 228.4,140.9 L 228.5,140.9 L 228.5,140.9 L 228.5,140.9 L 228.5,140.9 L 228.5,140.8 L 228.6,140.8 L 228.6,140.8 L 228.6,140.8 L 228.6,140.8 L 228.7,140.8 L 228.7,140.8 L 228.7,140.8 L 228.8,140.8 L 228.8,140.8 L 228.8,140.9 L 228.8,140.9 L 228.8,140.9 L 228.9,140.9 L 228.9,140.9 L 228.9,140.9 L 228.9,141.0 L 228.9,141.0 L 228.9,141.0 L 229.0,141.0 L 229.0,141.0 L 229.0,141.1 L 229.0,141.1 L 229.0,141.1 L 228.7,141.1 Z\" style=\"fill:#000000;fill-rule:evenodd;fill-opacity:1;stroke:#000000;stroke-width:0.0px;stroke-linecap:butt;stroke-linejoin:miter;stroke-opacity:1;\"/>\n",
       "<path class=\"atom-46\" d=\"M 203.8,81.9 L 203.8,82.0 L 203.8,82.0 L 203.8,82.0 L 203.8,82.0 L 203.8,82.1 L 203.8,82.1 L 203.8,82.1 L 203.8,82.1 L 203.8,82.2 L 203.7,82.2 L 203.7,82.2 L 203.7,82.2 L 203.7,82.2 L 203.7,82.2 L 203.6,82.2 L 203.6,82.2 L 203.6,82.2 L 203.6,82.2 L 203.5,82.2 L 203.5,82.2 L 203.5,82.2 L 203.4,82.2 L 203.4,82.2 L 203.4,82.2 L 203.4,82.2 L 203.4,82.2 L 203.3,82.2 L 203.3,82.1 L 203.3,82.1 L 203.3,82.1 L 203.3,82.1 L 203.3,82.1 L 203.3,82.0 L 203.3,82.0 L 203.2,82.0 L 203.2,82.0 L 203.2,81.9 L 203.2,81.9 L 203.3,81.9 L 203.3,81.9 L 203.3,81.8 L 203.3,81.8 L 203.3,81.8 L 203.3,81.8 L 203.3,81.7 L 203.3,81.7 L 203.4,81.7 L 203.4,81.7 L 203.4,81.7 L 203.4,81.7 L 203.4,81.7 L 203.5,81.6 L 203.5,81.6 L 203.5,81.6 L 203.6,81.6 L 203.6,81.6 L 203.6,81.6 L 203.6,81.7 L 203.7,81.7 L 203.7,81.7 L 203.7,81.7 L 203.7,81.7 L 203.7,81.7 L 203.8,81.7 L 203.8,81.8 L 203.8,81.8 L 203.8,81.8 L 203.8,81.8 L 203.8,81.8 L 203.8,81.9 L 203.8,81.9 L 203.8,81.9 L 203.8,81.9 L 203.5,81.9 Z\" style=\"fill:#000000;fill-rule:evenodd;fill-opacity:1;stroke:#000000;stroke-width:0.0px;stroke-linecap:butt;stroke-linejoin:miter;stroke-opacity:1;\"/>\n",
       "</svg>"
      ],
      "text/plain": [
       "<IPython.core.display.SVG object>"
      ]
     },
     "execution_count": 38,
     "metadata": {},
     "output_type": "execute_result"
    }
   ],
   "source": [
    "big_smiles_gen(big, 2)"
   ]
  },
  {
   "cell_type": "markdown",
   "id": "cd2b1acd",
   "metadata": {},
   "source": [
    "## Vulcanized poly(1,3-butadiene)"
   ]
  },
  {
   "cell_type": "code",
   "execution_count": 39,
   "id": "b4795529",
   "metadata": {},
   "outputs": [
    {
     "name": "stdout",
     "output_type": "stream",
     "text": [
      "25\n"
     ]
    },
    {
     "data": {
      "image/svg+xml": [
       "<svg xmlns=\"http://www.w3.org/2000/svg\" xmlns:rdkit=\"http://www.rdkit.org/xml\" xmlns:xlink=\"http://www.w3.org/1999/xlink\" version=\"1.1\" baseProfile=\"full\" xml:space=\"preserve\" width=\"450px\" height=\"150px\" viewBox=\"0 0 450 150\">\n",
       "<!-- END OF HEADER -->\n",
       "<rect style=\"opacity:1.0;fill:#FFFFFF;stroke:none\" width=\"450.0\" height=\"150.0\" x=\"0.0\" y=\"0.0\"> </rect>\n",
       "<path class=\"bond-0 atom-0 atom-1\" d=\"M 203.6,100.0 L 205.1,99.3\" style=\"fill:none;fill-rule:evenodd;stroke:#000000;stroke-width:2.0px;stroke-linecap:butt;stroke-linejoin:miter;stroke-opacity:1\"/>\n",
       "<path class=\"bond-0 atom-0 atom-1\" d=\"M 205.1,99.3 L 206.7,98.6\" style=\"fill:none;fill-rule:evenodd;stroke:#CCCC00;stroke-width:2.0px;stroke-linecap:butt;stroke-linejoin:miter;stroke-opacity:1\"/>\n",
       "<path class=\"bond-1 atom-2 atom-3\" d=\"M 221.7,92.2 L 215.8,87.9\" style=\"fill:none;fill-rule:evenodd;stroke:#000000;stroke-width:2.0px;stroke-linecap:butt;stroke-linejoin:miter;stroke-opacity:1\"/>\n",
       "<path class=\"bond-2 atom-3 atom-4\" d=\"M 215.8,87.9 L 209.2,90.7\" style=\"fill:none;fill-rule:evenodd;stroke:#000000;stroke-width:2.0px;stroke-linecap:butt;stroke-linejoin:miter;stroke-opacity:1\"/>\n",
       "<path class=\"bond-3 atom-4 atom-5\" d=\"M 209.2,90.7 L 203.4,86.4\" style=\"fill:none;fill-rule:evenodd;stroke:#000000;stroke-width:2.0px;stroke-linecap:butt;stroke-linejoin:miter;stroke-opacity:1\"/>\n",
       "<path class=\"bond-4 atom-1 atom-4\" d=\"M 208.6,95.6 L 208.9,93.2\" style=\"fill:none;fill-rule:evenodd;stroke:#CCCC00;stroke-width:2.0px;stroke-linecap:butt;stroke-linejoin:miter;stroke-opacity:1\"/>\n",
       "<path class=\"bond-4 atom-1 atom-4\" d=\"M 208.9,93.2 L 209.2,90.7\" style=\"fill:none;fill-rule:evenodd;stroke:#000000;stroke-width:2.0px;stroke-linecap:butt;stroke-linejoin:miter;stroke-opacity:1\"/>\n",
       "<path class=\"bond-5 atom-6 atom-7\" d=\"M 196.7,89.3 L 190.9,84.9\" style=\"fill:none;fill-rule:evenodd;stroke:#000000;stroke-width:2.0px;stroke-linecap:butt;stroke-linejoin:miter;stroke-opacity:1\"/>\n",
       "<path class=\"bond-6 atom-7 atom-8\" d=\"M 190.9,84.9 L 184.2,87.8\" style=\"fill:none;fill-rule:evenodd;stroke:#000000;stroke-width:2.0px;stroke-linecap:butt;stroke-linejoin:miter;stroke-opacity:1\"/>\n",
       "<path class=\"bond-7 atom-8 atom-9\" d=\"M 184.2,87.8 L 178.4,83.4\" style=\"fill:none;fill-rule:evenodd;stroke:#000000;stroke-width:2.0px;stroke-linecap:butt;stroke-linejoin:miter;stroke-opacity:1\"/>\n",
       "<path class=\"bond-8 atom-5 atom-6\" d=\"M 203.4,86.4 L 196.7,89.3\" style=\"fill:none;fill-rule:evenodd;stroke:#000000;stroke-width:2.0px;stroke-linecap:butt;stroke-linejoin:miter;stroke-opacity:1\"/>\n",
       "<path class=\"bond-9 atom-10 atom-11\" d=\"M 246.6,95.2 L 240.8,90.8\" style=\"fill:none;fill-rule:evenodd;stroke:#000000;stroke-width:2.0px;stroke-linecap:butt;stroke-linejoin:miter;stroke-opacity:1\"/>\n",
       "<path class=\"bond-10 atom-11 atom-12\" d=\"M 240.8,90.8 L 234.2,93.7\" style=\"fill:none;fill-rule:evenodd;stroke:#000000;stroke-width:2.0px;stroke-linecap:butt;stroke-linejoin:miter;stroke-opacity:1\"/>\n",
       "<path class=\"bond-10 atom-11 atom-12\" d=\"M 240.4,92.6 L 235.7,94.6\" style=\"fill:none;fill-rule:evenodd;stroke:#000000;stroke-width:2.0px;stroke-linecap:butt;stroke-linejoin:miter;stroke-opacity:1\"/>\n",
       "<path class=\"bond-11 atom-12 atom-13\" d=\"M 234.2,93.7 L 228.3,89.3\" style=\"fill:none;fill-rule:evenodd;stroke:#000000;stroke-width:2.0px;stroke-linecap:butt;stroke-linejoin:miter;stroke-opacity:1\"/>\n",
       "<path class=\"bond-12 atom-2 atom-13\" d=\"M 221.7,92.2 L 228.3,89.3\" style=\"fill:none;fill-rule:evenodd;stroke:#000000;stroke-width:2.0px;stroke-linecap:butt;stroke-linejoin:miter;stroke-opacity:1\"/>\n",
       "<path class=\"bond-13 atom-8 atom-14\" d=\"M 184.2,87.8 L 183.9,90.2\" style=\"fill:none;fill-rule:evenodd;stroke:#000000;stroke-width:2.0px;stroke-linecap:butt;stroke-linejoin:miter;stroke-opacity:1\"/>\n",
       "<path class=\"bond-13 atom-8 atom-14\" d=\"M 183.9,90.2 L 183.6,92.6\" style=\"fill:none;fill-rule:evenodd;stroke:#CCCC00;stroke-width:2.0px;stroke-linecap:butt;stroke-linejoin:miter;stroke-opacity:1\"/>\n",
       "<path class=\"bond-14 atom-14 atom-15\" d=\"M 181.7,95.7 L 178.3,97.2\" style=\"fill:none;fill-rule:evenodd;stroke:#CCCC00;stroke-width:2.0px;stroke-linecap:butt;stroke-linejoin:miter;stroke-opacity:1\"/>\n",
       "<path class=\"bond-15 atom-16 atom-17\" d=\"M 171.7,86.3 L 165.9,82.0\" style=\"fill:none;fill-rule:evenodd;stroke:#000000;stroke-width:2.0px;stroke-linecap:butt;stroke-linejoin:miter;stroke-opacity:1\"/>\n",
       "<path class=\"bond-16 atom-17 atom-18\" d=\"M 165.9,82.0 L 159.2,84.8\" style=\"fill:none;fill-rule:evenodd;stroke:#000000;stroke-width:2.0px;stroke-linecap:butt;stroke-linejoin:miter;stroke-opacity:1\"/>\n",
       "<path class=\"bond-16 atom-17 atom-18\" d=\"M 165.5,83.7 L 160.8,85.7\" style=\"fill:none;fill-rule:evenodd;stroke:#000000;stroke-width:2.0px;stroke-linecap:butt;stroke-linejoin:miter;stroke-opacity:1\"/>\n",
       "<path class=\"bond-17 atom-18 atom-19\" d=\"M 159.2,84.8 L 153.4,80.5\" style=\"fill:none;fill-rule:evenodd;stroke:#000000;stroke-width:2.0px;stroke-linecap:butt;stroke-linejoin:miter;stroke-opacity:1\"/>\n",
       "<path class=\"bond-18 atom-9 atom-16\" d=\"M 178.4,83.4 L 171.7,86.3\" style=\"fill:none;fill-rule:evenodd;stroke:#000000;stroke-width:2.0px;stroke-linecap:butt;stroke-linejoin:miter;stroke-opacity:1\"/>\n",
       "<path class=\"bond-19 atom-20 atom-21\" d=\"M 253.3,92.3 L 259.1,96.6\" style=\"fill:none;fill-rule:evenodd;stroke:#000000;stroke-width:2.0px;stroke-linecap:butt;stroke-linejoin:miter;stroke-opacity:1\"/>\n",
       "<path class=\"bond-20 atom-21 atom-22\" d=\"M 259.1,96.6 L 265.8,93.8\" style=\"fill:none;fill-rule:evenodd;stroke:#000000;stroke-width:2.0px;stroke-linecap:butt;stroke-linejoin:miter;stroke-opacity:1\"/>\n",
       "<path class=\"bond-20 atom-21 atom-22\" d=\"M 259.6,94.9 L 264.2,92.9\" style=\"fill:none;fill-rule:evenodd;stroke:#000000;stroke-width:2.0px;stroke-linecap:butt;stroke-linejoin:miter;stroke-opacity:1\"/>\n",
       "<path class=\"bond-21 atom-22 atom-23\" d=\"M 265.8,93.8 L 271.6,98.1\" style=\"fill:none;fill-rule:evenodd;stroke:#000000;stroke-width:2.0px;stroke-linecap:butt;stroke-linejoin:miter;stroke-opacity:1\"/>\n",
       "<path class=\"bond-22 atom-10 atom-20\" d=\"M 246.6,95.2 L 253.3,92.3\" style=\"fill:none;fill-rule:evenodd;stroke:#000000;stroke-width:2.0px;stroke-linecap:butt;stroke-linejoin:miter;stroke-opacity:1\"/>\n",
       "<path class=\"bond-23 atom-24 atom-25\" d=\"M 296.6,101.1 L 290.8,96.7\" style=\"fill:none;fill-rule:evenodd;stroke:#000000;stroke-width:2.0px;stroke-linecap:butt;stroke-linejoin:miter;stroke-opacity:1\"/>\n",
       "<path class=\"bond-24 atom-25 atom-26\" d=\"M 290.8,96.7 L 284.1,99.6\" style=\"fill:none;fill-rule:evenodd;stroke:#000000;stroke-width:2.0px;stroke-linecap:butt;stroke-linejoin:miter;stroke-opacity:1\"/>\n",
       "<path class=\"bond-24 atom-25 atom-26\" d=\"M 290.4,98.5 L 285.7,100.5\" style=\"fill:none;fill-rule:evenodd;stroke:#000000;stroke-width:2.0px;stroke-linecap:butt;stroke-linejoin:miter;stroke-opacity:1\"/>\n",
       "<path class=\"bond-25 atom-26 atom-27\" d=\"M 284.1,99.6 L 278.3,95.2\" style=\"fill:none;fill-rule:evenodd;stroke:#000000;stroke-width:2.0px;stroke-linecap:butt;stroke-linejoin:miter;stroke-opacity:1\"/>\n",
       "<path class=\"bond-26 atom-23 atom-27\" d=\"M 271.6,98.1 L 278.3,95.2\" style=\"fill:none;fill-rule:evenodd;stroke:#000000;stroke-width:2.0px;stroke-linecap:butt;stroke-linejoin:miter;stroke-opacity:1\"/>\n",
       "<path class=\"bond-27 atom-28 atom-29\" d=\"M 321.6,104.0 L 315.8,99.7\" style=\"fill:none;fill-rule:evenodd;stroke:#000000;stroke-width:2.0px;stroke-linecap:butt;stroke-linejoin:miter;stroke-opacity:1\"/>\n",
       "<path class=\"bond-28 atom-29 atom-30\" d=\"M 315.8,99.7 L 309.1,102.5\" style=\"fill:none;fill-rule:evenodd;stroke:#000000;stroke-width:2.0px;stroke-linecap:butt;stroke-linejoin:miter;stroke-opacity:1\"/>\n",
       "<path class=\"bond-28 atom-29 atom-30\" d=\"M 315.3,101.4 L 310.7,103.4\" style=\"fill:none;fill-rule:evenodd;stroke:#000000;stroke-width:2.0px;stroke-linecap:butt;stroke-linejoin:miter;stroke-opacity:1\"/>\n",
       "<path class=\"bond-29 atom-30 atom-31\" d=\"M 309.1,102.5 L 303.3,98.2\" style=\"fill:none;fill-rule:evenodd;stroke:#000000;stroke-width:2.0px;stroke-linecap:butt;stroke-linejoin:miter;stroke-opacity:1\"/>\n",
       "<path class=\"bond-30 atom-24 atom-31\" d=\"M 296.6,101.1 L 303.3,98.2\" style=\"fill:none;fill-rule:evenodd;stroke:#000000;stroke-width:2.0px;stroke-linecap:butt;stroke-linejoin:miter;stroke-opacity:1\"/>\n",
       "<path class=\"bond-31 atom-32 atom-33\" d=\"M 346.6,107.0 L 340.8,102.6\" style=\"fill:none;fill-rule:evenodd;stroke:#000000;stroke-width:2.0px;stroke-linecap:butt;stroke-linejoin:miter;stroke-opacity:1\"/>\n",
       "<path class=\"bond-32 atom-33 atom-34\" d=\"M 340.8,102.6 L 334.1,105.5\" style=\"fill:none;fill-rule:evenodd;stroke:#000000;stroke-width:2.0px;stroke-linecap:butt;stroke-linejoin:miter;stroke-opacity:1\"/>\n",
       "<path class=\"bond-33 atom-34 atom-35\" d=\"M 334.1,105.5 L 328.3,101.1\" style=\"fill:none;fill-rule:evenodd;stroke:#000000;stroke-width:2.0px;stroke-linecap:butt;stroke-linejoin:miter;stroke-opacity:1\"/>\n",
       "<path class=\"bond-34 atom-28 atom-35\" d=\"M 321.6,104.0 L 328.3,101.1\" style=\"fill:none;fill-rule:evenodd;stroke:#000000;stroke-width:2.0px;stroke-linecap:butt;stroke-linejoin:miter;stroke-opacity:1\"/>\n",
       "<path class=\"bond-35 atom-33 atom-36\" d=\"M 340.8,102.6 L 341.0,100.2\" style=\"fill:none;fill-rule:evenodd;stroke:#000000;stroke-width:2.0px;stroke-linecap:butt;stroke-linejoin:miter;stroke-opacity:1\"/>\n",
       "<path class=\"bond-35 atom-33 atom-36\" d=\"M 341.0,100.2 L 341.3,97.9\" style=\"fill:none;fill-rule:evenodd;stroke:#CCCC00;stroke-width:2.0px;stroke-linecap:butt;stroke-linejoin:miter;stroke-opacity:1\"/>\n",
       "<path class=\"bond-36 atom-36 atom-37\" d=\"M 343.2,94.7 L 346.7,93.2\" style=\"fill:none;fill-rule:evenodd;stroke:#CCCC00;stroke-width:2.0px;stroke-linecap:butt;stroke-linejoin:miter;stroke-opacity:1\"/>\n",
       "<path class=\"bond-37 atom-7 atom-38\" d=\"M 190.9,84.9 L 191.1,82.5\" style=\"fill:none;fill-rule:evenodd;stroke:#000000;stroke-width:2.0px;stroke-linecap:butt;stroke-linejoin:miter;stroke-opacity:1\"/>\n",
       "<path class=\"bond-37 atom-7 atom-38\" d=\"M 191.1,82.5 L 191.4,80.2\" style=\"fill:none;fill-rule:evenodd;stroke:#CCCC00;stroke-width:2.0px;stroke-linecap:butt;stroke-linejoin:miter;stroke-opacity:1\"/>\n",
       "<path class=\"bond-38 atom-38 atom-39\" d=\"M 190.1,76.5 L 187.5,74.6\" style=\"fill:none;fill-rule:evenodd;stroke:#CCCC00;stroke-width:2.0px;stroke-linecap:butt;stroke-linejoin:miter;stroke-opacity:1\"/>\n",
       "<path class=\"bond-39 atom-40 atom-41\" d=\"M 128.4,77.5 L 134.2,81.9\" style=\"fill:none;fill-rule:evenodd;stroke:#000000;stroke-width:2.0px;stroke-linecap:butt;stroke-linejoin:miter;stroke-opacity:1\"/>\n",
       "<path class=\"bond-40 atom-41 atom-42\" d=\"M 134.2,81.9 L 140.9,79.0\" style=\"fill:none;fill-rule:evenodd;stroke:#000000;stroke-width:2.0px;stroke-linecap:butt;stroke-linejoin:miter;stroke-opacity:1\"/>\n",
       "<path class=\"bond-40 atom-41 atom-42\" d=\"M 134.7,80.1 L 139.3,78.1\" style=\"fill:none;fill-rule:evenodd;stroke:#000000;stroke-width:2.0px;stroke-linecap:butt;stroke-linejoin:miter;stroke-opacity:1\"/>\n",
       "<path class=\"bond-41 atom-42 atom-43\" d=\"M 140.9,79.0 L 146.7,83.4\" style=\"fill:none;fill-rule:evenodd;stroke:#000000;stroke-width:2.0px;stroke-linecap:butt;stroke-linejoin:miter;stroke-opacity:1\"/>\n",
       "<path class=\"bond-42 atom-19 atom-43\" d=\"M 153.4,80.5 L 146.7,83.4\" style=\"fill:none;fill-rule:evenodd;stroke:#000000;stroke-width:2.0px;stroke-linecap:butt;stroke-linejoin:miter;stroke-opacity:1\"/>\n",
       "<path class=\"bond-43 atom-34 atom-44\" d=\"M 334.1,105.5 L 333.8,107.9\" style=\"fill:none;fill-rule:evenodd;stroke:#000000;stroke-width:2.0px;stroke-linecap:butt;stroke-linejoin:miter;stroke-opacity:1\"/>\n",
       "<path class=\"bond-43 atom-34 atom-44\" d=\"M 333.8,107.9 L 333.5,110.3\" style=\"fill:none;fill-rule:evenodd;stroke:#CCCC00;stroke-width:2.0px;stroke-linecap:butt;stroke-linejoin:miter;stroke-opacity:1\"/>\n",
       "<path class=\"bond-44 atom-45 atom-46\" d=\"M 371.6,109.9 L 365.7,105.6\" style=\"fill:none;fill-rule:evenodd;stroke:#000000;stroke-width:2.0px;stroke-linecap:butt;stroke-linejoin:miter;stroke-opacity:1\"/>\n",
       "<path class=\"bond-45 atom-46 atom-47\" d=\"M 365.7,105.6 L 359.1,108.4\" style=\"fill:none;fill-rule:evenodd;stroke:#000000;stroke-width:2.0px;stroke-linecap:butt;stroke-linejoin:miter;stroke-opacity:1\"/>\n",
       "<path class=\"bond-45 atom-46 atom-47\" d=\"M 365.3,107.3 L 360.6,109.3\" style=\"fill:none;fill-rule:evenodd;stroke:#000000;stroke-width:2.0px;stroke-linecap:butt;stroke-linejoin:miter;stroke-opacity:1\"/>\n",
       "<path class=\"bond-46 atom-47 atom-48\" d=\"M 359.1,108.4 L 353.2,104.1\" style=\"fill:none;fill-rule:evenodd;stroke:#000000;stroke-width:2.0px;stroke-linecap:butt;stroke-linejoin:miter;stroke-opacity:1\"/>\n",
       "<path class=\"bond-47 atom-32 atom-48\" d=\"M 346.6,107.0 L 353.2,104.1\" style=\"fill:none;fill-rule:evenodd;stroke:#000000;stroke-width:2.0px;stroke-linecap:butt;stroke-linejoin:miter;stroke-opacity:1\"/>\n",
       "<path class=\"bond-48 atom-49 atom-50\" d=\"M 121.7,80.4 L 115.9,76.1\" style=\"fill:none;fill-rule:evenodd;stroke:#000000;stroke-width:2.0px;stroke-linecap:butt;stroke-linejoin:miter;stroke-opacity:1\"/>\n",
       "<path class=\"bond-49 atom-50 atom-51\" d=\"M 115.9,76.1 L 109.2,78.9\" style=\"fill:none;fill-rule:evenodd;stroke:#000000;stroke-width:2.0px;stroke-linecap:butt;stroke-linejoin:miter;stroke-opacity:1\"/>\n",
       "<path class=\"bond-50 atom-51 atom-52\" d=\"M 109.2,78.9 L 103.4,74.6\" style=\"fill:none;fill-rule:evenodd;stroke:#000000;stroke-width:2.0px;stroke-linecap:butt;stroke-linejoin:miter;stroke-opacity:1\"/>\n",
       "<path class=\"bond-51 atom-40 atom-49\" d=\"M 128.4,77.5 L 121.7,80.4\" style=\"fill:none;fill-rule:evenodd;stroke:#000000;stroke-width:2.0px;stroke-linecap:butt;stroke-linejoin:miter;stroke-opacity:1\"/>\n",
       "<path class=\"bond-52 atom-44 atom-53\" d=\"M 334.8,113.9 L 337.5,115.8\" style=\"fill:none;fill-rule:evenodd;stroke:#CCCC00;stroke-width:2.0px;stroke-linecap:butt;stroke-linejoin:miter;stroke-opacity:1\"/>\n",
       "<path class=\"bond-53 atom-51 atom-54\" d=\"M 109.2,78.9 L 109.0,81.4\" style=\"fill:none;fill-rule:evenodd;stroke:#000000;stroke-width:2.0px;stroke-linecap:butt;stroke-linejoin:miter;stroke-opacity:1\"/>\n",
       "<path class=\"bond-53 atom-51 atom-54\" d=\"M 109.0,81.4 L 108.7,83.8\" style=\"fill:none;fill-rule:evenodd;stroke:#CCCC00;stroke-width:2.0px;stroke-linecap:butt;stroke-linejoin:miter;stroke-opacity:1\"/>\n",
       "<path class=\"bond-54 atom-54 atom-55\" d=\"M 106.8,86.8 L 103.3,88.3\" style=\"fill:none;fill-rule:evenodd;stroke:#CCCC00;stroke-width:2.0px;stroke-linecap:butt;stroke-linejoin:miter;stroke-opacity:1\"/>\n",
       "<path class=\"bond-55 atom-39 atom-56\" d=\"M 186.2,71.0 L 186.5,68.6\" style=\"fill:none;fill-rule:evenodd;stroke:#CCCC00;stroke-width:2.0px;stroke-linecap:butt;stroke-linejoin:miter;stroke-opacity:1\"/>\n",
       "<path class=\"bond-56 atom-57 atom-58\" d=\"M 96.8,77.5 L 90.9,73.1\" style=\"fill:none;fill-rule:evenodd;stroke:#000000;stroke-width:2.0px;stroke-linecap:butt;stroke-linejoin:miter;stroke-opacity:1\"/>\n",
       "<path class=\"bond-57 atom-58 atom-59\" d=\"M 90.9,73.1 L 84.3,76.0\" style=\"fill:none;fill-rule:evenodd;stroke:#000000;stroke-width:2.0px;stroke-linecap:butt;stroke-linejoin:miter;stroke-opacity:1\"/>\n",
       "<path class=\"bond-57 atom-58 atom-59\" d=\"M 90.5,74.9 L 85.8,76.9\" style=\"fill:none;fill-rule:evenodd;stroke:#000000;stroke-width:2.0px;stroke-linecap:butt;stroke-linejoin:miter;stroke-opacity:1\"/>\n",
       "<path class=\"bond-58 atom-59 atom-60\" d=\"M 84.3,76.0 L 78.4,71.6\" style=\"fill:none;fill-rule:evenodd;stroke:#000000;stroke-width:2.0px;stroke-linecap:butt;stroke-linejoin:miter;stroke-opacity:1\"/>\n",
       "<path class=\"bond-59 atom-52 atom-57\" d=\"M 103.4,74.6 L 96.8,77.5\" style=\"fill:none;fill-rule:evenodd;stroke:#000000;stroke-width:2.0px;stroke-linecap:butt;stroke-linejoin:miter;stroke-opacity:1\"/>\n",
       "<path class=\"bond-60 atom-61 atom-62\" d=\"M 355.8,82.5 L 349.1,85.3\" style=\"fill:none;fill-rule:evenodd;stroke:#000000;stroke-width:2.0px;stroke-linecap:butt;stroke-linejoin:miter;stroke-opacity:1\"/>\n",
       "<path class=\"bond-61 atom-62 atom-63\" d=\"M 349.1,85.3 L 343.3,81.0\" style=\"fill:none;fill-rule:evenodd;stroke:#000000;stroke-width:2.0px;stroke-linecap:butt;stroke-linejoin:miter;stroke-opacity:1\"/>\n",
       "<path class=\"bond-62 atom-63 atom-64\" d=\"M 343.3,81.0 L 344.2,73.8\" style=\"fill:none;fill-rule:evenodd;stroke:#000000;stroke-width:2.0px;stroke-linecap:butt;stroke-linejoin:miter;stroke-opacity:1\"/>\n",
       "<path class=\"bond-63 atom-37 atom-62\" d=\"M 348.6,90.2 L 348.8,87.8\" style=\"fill:none;fill-rule:evenodd;stroke:#CCCC00;stroke-width:2.0px;stroke-linecap:butt;stroke-linejoin:miter;stroke-opacity:1\"/>\n",
       "<path class=\"bond-63 atom-37 atom-62\" d=\"M 348.8,87.8 L 349.1,85.3\" style=\"fill:none;fill-rule:evenodd;stroke:#000000;stroke-width:2.0px;stroke-linecap:butt;stroke-linejoin:miter;stroke-opacity:1\"/>\n",
       "<path class=\"bond-64 atom-65 atom-66\" d=\"M 370.8,62.3 L 364.2,65.2\" style=\"fill:none;fill-rule:evenodd;stroke:#000000;stroke-width:2.0px;stroke-linecap:butt;stroke-linejoin:miter;stroke-opacity:1\"/>\n",
       "<path class=\"bond-65 atom-66 atom-67\" d=\"M 364.2,65.2 L 363.3,72.4\" style=\"fill:none;fill-rule:evenodd;stroke:#000000;stroke-width:2.0px;stroke-linecap:butt;stroke-linejoin:miter;stroke-opacity:1\"/>\n",
       "<path class=\"bond-65 atom-66 atom-67\" d=\"M 365.5,66.4 L 364.9,71.5\" style=\"fill:none;fill-rule:evenodd;stroke:#000000;stroke-width:2.0px;stroke-linecap:butt;stroke-linejoin:miter;stroke-opacity:1\"/>\n",
       "<path class=\"bond-66 atom-67 atom-68\" d=\"M 363.3,72.4 L 356.7,75.2\" style=\"fill:none;fill-rule:evenodd;stroke:#000000;stroke-width:2.0px;stroke-linecap:butt;stroke-linejoin:miter;stroke-opacity:1\"/>\n",
       "<path class=\"bond-67 atom-61 atom-68\" d=\"M 355.8,82.5 L 356.7,75.2\" style=\"fill:none;fill-rule:evenodd;stroke:#000000;stroke-width:2.0px;stroke-linecap:butt;stroke-linejoin:miter;stroke-opacity:1\"/>\n",
       "<path class=\"bond-68 atom-69 atom-70\" d=\"M 71.8,74.5 L 65.9,70.2\" style=\"fill:none;fill-rule:evenodd;stroke:#000000;stroke-width:2.0px;stroke-linecap:butt;stroke-linejoin:miter;stroke-opacity:1\"/>\n",
       "<path class=\"bond-69 atom-70 atom-71\" d=\"M 65.9,70.2 L 59.3,73.0\" style=\"fill:none;fill-rule:evenodd;stroke:#000000;stroke-width:2.0px;stroke-linecap:butt;stroke-linejoin:miter;stroke-opacity:1\"/>\n",
       "<path class=\"bond-70 atom-71 atom-72\" d=\"M 59.3,73.0 L 53.5,68.7\" style=\"fill:none;fill-rule:evenodd;stroke:#000000;stroke-width:2.0px;stroke-linecap:butt;stroke-linejoin:miter;stroke-opacity:1\"/>\n",
       "<path class=\"bond-71 atom-60 atom-69\" d=\"M 78.4,71.6 L 71.8,74.5\" style=\"fill:none;fill-rule:evenodd;stroke:#000000;stroke-width:2.0px;stroke-linecap:butt;stroke-linejoin:miter;stroke-opacity:1\"/>\n",
       "<path class=\"bond-72 atom-73 atom-74\" d=\"M 105.8,107.8 L 106.7,100.6\" style=\"fill:none;fill-rule:evenodd;stroke:#000000;stroke-width:2.0px;stroke-linecap:butt;stroke-linejoin:miter;stroke-opacity:1\"/>\n",
       "<path class=\"bond-73 atom-74 atom-75\" d=\"M 106.7,100.6 L 100.9,96.2\" style=\"fill:none;fill-rule:evenodd;stroke:#000000;stroke-width:2.0px;stroke-linecap:butt;stroke-linejoin:miter;stroke-opacity:1\"/>\n",
       "<path class=\"bond-74 atom-75 atom-76\" d=\"M 100.9,96.2 L 94.2,99.1\" style=\"fill:none;fill-rule:evenodd;stroke:#000000;stroke-width:2.0px;stroke-linecap:butt;stroke-linejoin:miter;stroke-opacity:1\"/>\n",
       "<path class=\"bond-75 atom-55 atom-75\" d=\"M 101.4,91.5 L 101.1,93.9\" style=\"fill:none;fill-rule:evenodd;stroke:#CCCC00;stroke-width:2.0px;stroke-linecap:butt;stroke-linejoin:miter;stroke-opacity:1\"/>\n",
       "<path class=\"bond-75 atom-55 atom-75\" d=\"M 101.1,93.9 L 100.9,96.2\" style=\"fill:none;fill-rule:evenodd;stroke:#000000;stroke-width:2.0px;stroke-linecap:butt;stroke-linejoin:miter;stroke-opacity:1\"/>\n",
       "<path class=\"bond-76 atom-77 atom-78\" d=\"M 378.2,107.0 L 384.1,111.4\" style=\"fill:none;fill-rule:evenodd;stroke:#000000;stroke-width:2.0px;stroke-linecap:butt;stroke-linejoin:miter;stroke-opacity:1\"/>\n",
       "<path class=\"bond-77 atom-78 atom-79\" d=\"M 384.1,111.4 L 390.7,108.5\" style=\"fill:none;fill-rule:evenodd;stroke:#000000;stroke-width:2.0px;stroke-linecap:butt;stroke-linejoin:miter;stroke-opacity:1\"/>\n",
       "<path class=\"bond-77 atom-78 atom-79\" d=\"M 384.5,109.6 L 389.1,107.6\" style=\"fill:none;fill-rule:evenodd;stroke:#000000;stroke-width:2.0px;stroke-linecap:butt;stroke-linejoin:miter;stroke-opacity:1\"/>\n",
       "<path class=\"bond-78 atom-79 atom-80\" d=\"M 390.7,108.5 L 396.5,112.9\" style=\"fill:none;fill-rule:evenodd;stroke:#000000;stroke-width:2.0px;stroke-linecap:butt;stroke-linejoin:miter;stroke-opacity:1\"/>\n",
       "<path class=\"bond-79 atom-45 atom-77\" d=\"M 371.6,109.9 L 378.2,107.0\" style=\"fill:none;fill-rule:evenodd;stroke:#000000;stroke-width:2.0px;stroke-linecap:butt;stroke-linejoin:miter;stroke-opacity:1\"/>\n",
       "<path class=\"bond-80 atom-81 atom-82\" d=\"M 28.5,65.7 L 34.3,70.1\" style=\"fill:none;fill-rule:evenodd;stroke:#000000;stroke-width:2.0px;stroke-linecap:butt;stroke-linejoin:miter;stroke-opacity:1\"/>\n",
       "<path class=\"bond-81 atom-82 atom-83\" d=\"M 34.3,70.1 L 41.0,67.2\" style=\"fill:none;fill-rule:evenodd;stroke:#000000;stroke-width:2.0px;stroke-linecap:butt;stroke-linejoin:miter;stroke-opacity:1\"/>\n",
       "<path class=\"bond-81 atom-82 atom-83\" d=\"M 34.7,68.3 L 39.4,66.3\" style=\"fill:none;fill-rule:evenodd;stroke:#000000;stroke-width:2.0px;stroke-linecap:butt;stroke-linejoin:miter;stroke-opacity:1\"/>\n",
       "<path class=\"bond-82 atom-83 atom-84\" d=\"M 41.0,67.2 L 46.8,71.6\" style=\"fill:none;fill-rule:evenodd;stroke:#000000;stroke-width:2.0px;stroke-linecap:butt;stroke-linejoin:miter;stroke-opacity:1\"/>\n",
       "<path class=\"bond-83 atom-72 atom-84\" d=\"M 53.5,68.7 L 46.8,71.6\" style=\"fill:none;fill-rule:evenodd;stroke:#000000;stroke-width:2.0px;stroke-linecap:butt;stroke-linejoin:miter;stroke-opacity:1\"/>\n",
       "<path class=\"bond-84 atom-71 atom-85\" d=\"M 59.3,73.0 L 59.0,75.5\" style=\"fill:none;fill-rule:evenodd;stroke:#000000;stroke-width:2.0px;stroke-linecap:butt;stroke-linejoin:miter;stroke-opacity:1\"/>\n",
       "<path class=\"bond-84 atom-71 atom-85\" d=\"M 59.0,75.5 L 58.7,77.9\" style=\"fill:none;fill-rule:evenodd;stroke:#CCCC00;stroke-width:2.0px;stroke-linecap:butt;stroke-linejoin:miter;stroke-opacity:1\"/>\n",
       "<path class=\"bond-85 atom-85 atom-86\" d=\"M 56.8,80.9 L 53.4,82.4\" style=\"fill:none;fill-rule:evenodd;stroke:#CCCC00;stroke-width:2.0px;stroke-linecap:butt;stroke-linejoin:miter;stroke-opacity:1\"/>\n",
       "<path class=\"bond-86 atom-87 atom-88\" d=\"M 111.7,112.1 L 110.8,119.3\" style=\"fill:none;fill-rule:evenodd;stroke:#000000;stroke-width:2.0px;stroke-linecap:butt;stroke-linejoin:miter;stroke-opacity:1\"/>\n",
       "<path class=\"bond-87 atom-88 atom-89\" d=\"M 110.8,119.3 L 116.6,123.7\" style=\"fill:none;fill-rule:evenodd;stroke:#000000;stroke-width:2.0px;stroke-linecap:butt;stroke-linejoin:miter;stroke-opacity:1\"/>\n",
       "<path class=\"bond-87 atom-88 atom-89\" d=\"M 112.5,118.8 L 116.6,121.9\" style=\"fill:none;fill-rule:evenodd;stroke:#000000;stroke-width:2.0px;stroke-linecap:butt;stroke-linejoin:miter;stroke-opacity:1\"/>\n",
       "<path class=\"bond-88 atom-89 atom-90\" d=\"M 116.6,123.7 L 115.8,130.9\" style=\"fill:none;fill-rule:evenodd;stroke:#000000;stroke-width:2.0px;stroke-linecap:butt;stroke-linejoin:miter;stroke-opacity:1\"/>\n",
       "<path class=\"bond-89 atom-73 atom-87\" d=\"M 105.8,107.8 L 111.7,112.1\" style=\"fill:none;fill-rule:evenodd;stroke:#000000;stroke-width:2.0px;stroke-linecap:butt;stroke-linejoin:miter;stroke-opacity:1\"/>\n",
       "<path class=\"bond-90 atom-3 atom-91\" d=\"M 215.8,87.9 L 216.1,85.5\" style=\"fill:none;fill-rule:evenodd;stroke:#000000;stroke-width:2.0px;stroke-linecap:butt;stroke-linejoin:miter;stroke-opacity:1\"/>\n",
       "<path class=\"bond-90 atom-3 atom-91\" d=\"M 216.1,85.5 L 216.4,83.1\" style=\"fill:none;fill-rule:evenodd;stroke:#CCCC00;stroke-width:2.0px;stroke-linecap:butt;stroke-linejoin:miter;stroke-opacity:1\"/>\n",
       "<path class=\"bond-91 atom-92 atom-93\" d=\"M 385.9,42.1 L 379.2,45.0\" style=\"fill:none;fill-rule:evenodd;stroke:#000000;stroke-width:2.0px;stroke-linecap:butt;stroke-linejoin:miter;stroke-opacity:1\"/>\n",
       "<path class=\"bond-92 atom-93 atom-94\" d=\"M 379.2,45.0 L 378.4,52.2\" style=\"fill:none;fill-rule:evenodd;stroke:#000000;stroke-width:2.0px;stroke-linecap:butt;stroke-linejoin:miter;stroke-opacity:1\"/>\n",
       "<path class=\"bond-92 atom-93 atom-94\" d=\"M 380.5,46.3 L 379.9,51.3\" style=\"fill:none;fill-rule:evenodd;stroke:#000000;stroke-width:2.0px;stroke-linecap:butt;stroke-linejoin:miter;stroke-opacity:1\"/>\n",
       "<path class=\"bond-93 atom-94 atom-95\" d=\"M 378.4,52.2 L 371.7,55.1\" style=\"fill:none;fill-rule:evenodd;stroke:#000000;stroke-width:2.0px;stroke-linecap:butt;stroke-linejoin:miter;stroke-opacity:1\"/>\n",
       "<path class=\"bond-94 atom-65 atom-95\" d=\"M 370.8,62.3 L 371.7,55.1\" style=\"fill:none;fill-rule:evenodd;stroke:#000000;stroke-width:2.0px;stroke-linecap:butt;stroke-linejoin:miter;stroke-opacity:1\"/>\n",
       "<path class=\"bond-95 atom-91 atom-96\" d=\"M 215.1,79.5 L 212.5,77.5\" style=\"fill:none;fill-rule:evenodd;stroke:#CCCC00;stroke-width:2.0px;stroke-linecap:butt;stroke-linejoin:miter;stroke-opacity:1\"/>\n",
       "<path class=\"bond-96 atom-50 atom-97\" d=\"M 115.9,76.1 L 116.2,73.7\" style=\"fill:none;fill-rule:evenodd;stroke:#000000;stroke-width:2.0px;stroke-linecap:butt;stroke-linejoin:miter;stroke-opacity:1\"/>\n",
       "<path class=\"bond-96 atom-50 atom-97\" d=\"M 116.2,73.7 L 116.5,71.3\" style=\"fill:none;fill-rule:evenodd;stroke:#CCCC00;stroke-width:2.0px;stroke-linecap:butt;stroke-linejoin:miter;stroke-opacity:1\"/>\n",
       "<path class=\"bond-97 atom-98 atom-99\" d=\"M 421.5,115.8 L 415.7,111.5\" style=\"fill:none;fill-rule:evenodd;stroke:#000000;stroke-width:2.0px;stroke-linecap:butt;stroke-linejoin:miter;stroke-opacity:1\"/>\n",
       "<path class=\"bond-98 atom-99 atom-100\" d=\"M 415.7,111.5 L 409.0,114.3\" style=\"fill:none;fill-rule:evenodd;stroke:#000000;stroke-width:2.0px;stroke-linecap:butt;stroke-linejoin:miter;stroke-opacity:1\"/>\n",
       "<path class=\"bond-98 atom-99 atom-100\" d=\"M 415.3,113.2 L 410.6,115.2\" style=\"fill:none;fill-rule:evenodd;stroke:#000000;stroke-width:2.0px;stroke-linecap:butt;stroke-linejoin:miter;stroke-opacity:1\"/>\n",
       "<path class=\"bond-99 atom-100 atom-101\" d=\"M 409.0,114.3 L 403.2,110.0\" style=\"fill:none;fill-rule:evenodd;stroke:#000000;stroke-width:2.0px;stroke-linecap:butt;stroke-linejoin:miter;stroke-opacity:1\"/>\n",
       "<path class=\"bond-100 atom-80 atom-101\" d=\"M 396.5,112.9 L 403.2,110.0\" style=\"fill:none;fill-rule:evenodd;stroke:#000000;stroke-width:2.0px;stroke-linecap:butt;stroke-linejoin:miter;stroke-opacity:1\"/>\n",
       "<path class=\"bond-101 atom-102 atom-103\" d=\"M 219.3,59.0 L 218.4,66.2\" style=\"fill:none;fill-rule:evenodd;stroke:#000000;stroke-width:2.0px;stroke-linecap:butt;stroke-linejoin:miter;stroke-opacity:1\"/>\n",
       "<path class=\"bond-102 atom-103 atom-104\" d=\"M 218.4,66.2 L 211.7,69.1\" style=\"fill:none;fill-rule:evenodd;stroke:#000000;stroke-width:2.0px;stroke-linecap:butt;stroke-linejoin:miter;stroke-opacity:1\"/>\n",
       "<path class=\"bond-103 atom-104 atom-105\" d=\"M 211.7,69.1 L 205.9,64.8\" style=\"fill:none;fill-rule:evenodd;stroke:#000000;stroke-width:2.0px;stroke-linecap:butt;stroke-linejoin:miter;stroke-opacity:1\"/>\n",
       "<path class=\"bond-104 atom-96 atom-104\" d=\"M 211.2,74.0 L 211.4,71.5\" style=\"fill:none;fill-rule:evenodd;stroke:#CCCC00;stroke-width:2.0px;stroke-linecap:butt;stroke-linejoin:miter;stroke-opacity:1\"/>\n",
       "<path class=\"bond-104 atom-96 atom-104\" d=\"M 211.4,71.5 L 211.7,69.1\" style=\"fill:none;fill-rule:evenodd;stroke:#000000;stroke-width:2.0px;stroke-linecap:butt;stroke-linejoin:miter;stroke-opacity:1\"/>\n",
       "<path class=\"bond-105 atom-97 atom-106\" d=\"M 115.2,67.7 L 112.5,65.7\" style=\"fill:none;fill-rule:evenodd;stroke:#CCCC00;stroke-width:2.0px;stroke-linecap:butt;stroke-linejoin:miter;stroke-opacity:1\"/>\n",
       "<path class=\"bond-106 atom-107 atom-108\" d=\"M 225.9,56.2 L 226.8,48.9\" style=\"fill:none;fill-rule:evenodd;stroke:#000000;stroke-width:2.0px;stroke-linecap:butt;stroke-linejoin:miter;stroke-opacity:1\"/>\n",
       "<path class=\"bond-107 atom-108 atom-109\" d=\"M 226.8,48.9 L 233.4,46.1\" style=\"fill:none;fill-rule:evenodd;stroke:#000000;stroke-width:2.0px;stroke-linecap:butt;stroke-linejoin:miter;stroke-opacity:1\"/>\n",
       "<path class=\"bond-107 atom-108 atom-109\" d=\"M 228.3,49.8 L 233.0,47.8\" style=\"fill:none;fill-rule:evenodd;stroke:#000000;stroke-width:2.0px;stroke-linecap:butt;stroke-linejoin:miter;stroke-opacity:1\"/>\n",
       "<path class=\"bond-108 atom-109 atom-110\" d=\"M 233.4,46.1 L 234.3,38.9\" style=\"fill:none;fill-rule:evenodd;stroke:#000000;stroke-width:2.0px;stroke-linecap:butt;stroke-linejoin:miter;stroke-opacity:1\"/>\n",
       "<path class=\"bond-109 atom-102 atom-107\" d=\"M 219.3,59.0 L 225.9,56.2\" style=\"fill:none;fill-rule:evenodd;stroke:#000000;stroke-width:2.0px;stroke-linecap:butt;stroke-linejoin:miter;stroke-opacity:1\"/>\n",
       "<path class=\"bond-110 atom-111 atom-112\" d=\"M 169.1,107.9 L 175.8,105.1\" style=\"fill:none;fill-rule:evenodd;stroke:#000000;stroke-width:2.0px;stroke-linecap:butt;stroke-linejoin:miter;stroke-opacity:1\"/>\n",
       "<path class=\"bond-111 atom-112 atom-113\" d=\"M 175.8,105.1 L 181.6,109.4\" style=\"fill:none;fill-rule:evenodd;stroke:#000000;stroke-width:2.0px;stroke-linecap:butt;stroke-linejoin:miter;stroke-opacity:1\"/>\n",
       "<path class=\"bond-112 atom-113 atom-114\" d=\"M 181.6,109.4 L 180.8,116.6\" style=\"fill:none;fill-rule:evenodd;stroke:#000000;stroke-width:2.0px;stroke-linecap:butt;stroke-linejoin:miter;stroke-opacity:1\"/>\n",
       "<path class=\"bond-113 atom-15 atom-112\" d=\"M 176.4,100.3 L 176.1,102.7\" style=\"fill:none;fill-rule:evenodd;stroke:#CCCC00;stroke-width:2.0px;stroke-linecap:butt;stroke-linejoin:miter;stroke-opacity:1\"/>\n",
       "<path class=\"bond-113 atom-15 atom-112\" d=\"M 176.1,102.7 L 175.8,105.1\" style=\"fill:none;fill-rule:evenodd;stroke:#000000;stroke-width:2.0px;stroke-linecap:butt;stroke-linejoin:miter;stroke-opacity:1\"/>\n",
       "<path class=\"bond-114 atom-115 atom-116\" d=\"M 196.0,41.6 L 201.8,46.0\" style=\"fill:none;fill-rule:evenodd;stroke:#000000;stroke-width:2.0px;stroke-linecap:butt;stroke-linejoin:miter;stroke-opacity:1\"/>\n",
       "<path class=\"bond-115 atom-116 atom-117\" d=\"M 201.8,46.0 L 200.9,53.2\" style=\"fill:none;fill-rule:evenodd;stroke:#000000;stroke-width:2.0px;stroke-linecap:butt;stroke-linejoin:miter;stroke-opacity:1\"/>\n",
       "<path class=\"bond-115 atom-116 atom-117\" d=\"M 200.2,46.9 L 199.6,52.0\" style=\"fill:none;fill-rule:evenodd;stroke:#000000;stroke-width:2.0px;stroke-linecap:butt;stroke-linejoin:miter;stroke-opacity:1\"/>\n",
       "<path class=\"bond-116 atom-117 atom-118\" d=\"M 200.9,53.2 L 206.8,57.5\" style=\"fill:none;fill-rule:evenodd;stroke:#000000;stroke-width:2.0px;stroke-linecap:butt;stroke-linejoin:miter;stroke-opacity:1\"/>\n",
       "<path class=\"bond-117 atom-105 atom-118\" d=\"M 205.9,64.8 L 206.8,57.5\" style=\"fill:none;fill-rule:evenodd;stroke:#000000;stroke-width:2.0px;stroke-linecap:butt;stroke-linejoin:miter;stroke-opacity:1\"/>\n",
       "<path class=\"bond-118 atom-70 atom-119\" d=\"M 65.9,70.2 L 66.2,67.8\" style=\"fill:none;fill-rule:evenodd;stroke:#000000;stroke-width:2.0px;stroke-linecap:butt;stroke-linejoin:miter;stroke-opacity:1\"/>\n",
       "<path class=\"bond-118 atom-70 atom-119\" d=\"M 66.2,67.8 L 66.5,65.4\" style=\"fill:none;fill-rule:evenodd;stroke:#CCCC00;stroke-width:2.0px;stroke-linecap:butt;stroke-linejoin:miter;stroke-opacity:1\"/>\n",
       "<path class=\"bond-119 atom-120 atom-121\" d=\"M 93.3,106.3 L 86.7,109.2\" style=\"fill:none;fill-rule:evenodd;stroke:#000000;stroke-width:2.0px;stroke-linecap:butt;stroke-linejoin:miter;stroke-opacity:1\"/>\n",
       "<path class=\"bond-120 atom-121 atom-122\" d=\"M 86.7,109.2 L 85.8,116.4\" style=\"fill:none;fill-rule:evenodd;stroke:#000000;stroke-width:2.0px;stroke-linecap:butt;stroke-linejoin:miter;stroke-opacity:1\"/>\n",
       "<path class=\"bond-121 atom-122 atom-123\" d=\"M 85.8,116.4 L 79.2,119.3\" style=\"fill:none;fill-rule:evenodd;stroke:#000000;stroke-width:2.0px;stroke-linecap:butt;stroke-linejoin:miter;stroke-opacity:1\"/>\n",
       "<path class=\"bond-122 atom-76 atom-120\" d=\"M 94.2,99.1 L 93.3,106.3\" style=\"fill:none;fill-rule:evenodd;stroke:#000000;stroke-width:2.0px;stroke-linecap:butt;stroke-linejoin:miter;stroke-opacity:1\"/>\n",
       "<path class=\"bond-123 atom-124 atom-125\" d=\"M 249.3,18.7 L 248.5,25.9\" style=\"fill:none;fill-rule:evenodd;stroke:#000000;stroke-width:2.0px;stroke-linecap:butt;stroke-linejoin:miter;stroke-opacity:1\"/>\n",
       "<path class=\"bond-124 atom-125 atom-126\" d=\"M 248.5,25.9 L 241.8,28.8\" style=\"fill:none;fill-rule:evenodd;stroke:#000000;stroke-width:2.0px;stroke-linecap:butt;stroke-linejoin:miter;stroke-opacity:1\"/>\n",
       "<path class=\"bond-124 atom-125 atom-126\" d=\"M 246.9,25.0 L 242.2,27.0\" style=\"fill:none;fill-rule:evenodd;stroke:#000000;stroke-width:2.0px;stroke-linecap:butt;stroke-linejoin:miter;stroke-opacity:1\"/>\n",
       "<path class=\"bond-125 atom-126 atom-127\" d=\"M 241.8,28.8 L 241.0,36.0\" style=\"fill:none;fill-rule:evenodd;stroke:#000000;stroke-width:2.0px;stroke-linecap:butt;stroke-linejoin:miter;stroke-opacity:1\"/>\n",
       "<path class=\"bond-126 atom-110 atom-127\" d=\"M 234.3,38.9 L 241.0,36.0\" style=\"fill:none;fill-rule:evenodd;stroke:#000000;stroke-width:2.0px;stroke-linecap:butt;stroke-linejoin:miter;stroke-opacity:1\"/>\n",
       "<path class=\"bond-127 atom-128 atom-129\" d=\"M 400.9,22.0 L 394.3,24.8\" style=\"fill:none;fill-rule:evenodd;stroke:#000000;stroke-width:2.0px;stroke-linecap:butt;stroke-linejoin:miter;stroke-opacity:1\"/>\n",
       "<path class=\"bond-128 atom-129 atom-130\" d=\"M 394.3,24.8 L 393.4,32.1\" style=\"fill:none;fill-rule:evenodd;stroke:#000000;stroke-width:2.0px;stroke-linecap:butt;stroke-linejoin:miter;stroke-opacity:1\"/>\n",
       "<path class=\"bond-128 atom-129 atom-130\" d=\"M 395.6,26.1 L 395.0,31.1\" style=\"fill:none;fill-rule:evenodd;stroke:#000000;stroke-width:2.0px;stroke-linecap:butt;stroke-linejoin:miter;stroke-opacity:1\"/>\n",
       "<path class=\"bond-129 atom-130 atom-131\" d=\"M 393.4,32.1 L 386.7,34.9\" style=\"fill:none;fill-rule:evenodd;stroke:#000000;stroke-width:2.0px;stroke-linecap:butt;stroke-linejoin:miter;stroke-opacity:1\"/>\n",
       "<path class=\"bond-130 atom-92 atom-131\" d=\"M 385.9,42.1 L 386.7,34.9\" style=\"fill:none;fill-rule:evenodd;stroke:#000000;stroke-width:2.0px;stroke-linecap:butt;stroke-linejoin:miter;stroke-opacity:1\"/>\n",
       "<path class=\"bond-131 atom-132 atom-133\" d=\"M 106.0,53.0 L 111.8,57.3\" style=\"fill:none;fill-rule:evenodd;stroke:#000000;stroke-width:2.0px;stroke-linecap:butt;stroke-linejoin:miter;stroke-opacity:1\"/>\n",
       "<path class=\"bond-132 atom-133 atom-134\" d=\"M 111.8,57.3 L 118.5,54.4\" style=\"fill:none;fill-rule:evenodd;stroke:#000000;stroke-width:2.0px;stroke-linecap:butt;stroke-linejoin:miter;stroke-opacity:1\"/>\n",
       "<path class=\"bond-133 atom-134 atom-135\" d=\"M 118.5,54.4 L 119.3,47.2\" style=\"fill:none;fill-rule:evenodd;stroke:#000000;stroke-width:2.0px;stroke-linecap:butt;stroke-linejoin:miter;stroke-opacity:1\"/>\n",
       "<path class=\"bond-134 atom-106 atom-133\" d=\"M 111.2,62.2 L 111.5,59.7\" style=\"fill:none;fill-rule:evenodd;stroke:#CCCC00;stroke-width:2.0px;stroke-linecap:butt;stroke-linejoin:miter;stroke-opacity:1\"/>\n",
       "<path class=\"bond-134 atom-106 atom-133\" d=\"M 111.5,59.7 L 111.8,57.3\" style=\"fill:none;fill-rule:evenodd;stroke:#000000;stroke-width:2.0px;stroke-linecap:butt;stroke-linejoin:miter;stroke-opacity:1\"/>\n",
       "<path class=\"bond-135 atom-74 atom-136\" d=\"M 106.7,100.6 L 111.5,98.5\" style=\"fill:none;fill-rule:evenodd;stroke:#000000;stroke-width:2.0px;stroke-linecap:butt;stroke-linejoin:miter;stroke-opacity:1\"/>\n",
       "<path class=\"bond-136 atom-128 atom-137\" d=\"M 400.9,22.0 L 401.5,17.1\" style=\"fill:none;fill-rule:evenodd;stroke:#000000;stroke-width:2.0px;stroke-linecap:butt;stroke-linejoin:miter;stroke-opacity:1\"/>\n",
       "<path class=\"bond-137 atom-98 atom-138\" d=\"M 421.5,115.8 L 426.3,113.8\" style=\"fill:none;fill-rule:evenodd;stroke:#000000;stroke-width:2.0px;stroke-linecap:butt;stroke-linejoin:miter;stroke-opacity:1\"/>\n",
       "<path class=\"bond-138 atom-121 atom-139\" d=\"M 86.7,109.2 L 82.8,106.3\" style=\"fill:none;fill-rule:evenodd;stroke:#000000;stroke-width:2.0px;stroke-linecap:butt;stroke-linejoin:miter;stroke-opacity:1\"/>\n",
       "<path class=\"bond-139 atom-115 atom-140\" d=\"M 196.0,41.6 L 196.5,36.8\" style=\"fill:none;fill-rule:evenodd;stroke:#000000;stroke-width:2.0px;stroke-linecap:butt;stroke-linejoin:miter;stroke-opacity:1\"/>\n",
       "<path class=\"bond-140 atom-63 atom-141\" d=\"M 343.3,81.0 L 338.5,83.0\" style=\"fill:none;fill-rule:evenodd;stroke:#000000;stroke-width:2.0px;stroke-linecap:butt;stroke-linejoin:miter;stroke-opacity:1\"/>\n",
       "<path class=\"bond-141 atom-119 atom-142\" d=\"M 65.2,61.8 L 64.0,60.9\" style=\"fill:none;fill-rule:evenodd;stroke:#CCCC00;stroke-width:2.0px;stroke-linecap:butt;stroke-linejoin:miter;stroke-opacity:1\"/>\n",
       "<path class=\"bond-141 atom-119 atom-142\" d=\"M 64.0,60.9 L 62.9,60.0\" style=\"fill:none;fill-rule:evenodd;stroke:#000000;stroke-width:2.0px;stroke-linecap:butt;stroke-linejoin:miter;stroke-opacity:1\"/>\n",
       "<path class=\"bond-142 atom-86 atom-143\" d=\"M 51.5,85.6 L 51.3,86.8\" style=\"fill:none;fill-rule:evenodd;stroke:#CCCC00;stroke-width:2.0px;stroke-linecap:butt;stroke-linejoin:miter;stroke-opacity:1\"/>\n",
       "<path class=\"bond-142 atom-86 atom-143\" d=\"M 51.3,86.8 L 51.2,88.0\" style=\"fill:none;fill-rule:evenodd;stroke:#000000;stroke-width:2.0px;stroke-linecap:butt;stroke-linejoin:miter;stroke-opacity:1\"/>\n",
       "<path class=\"bond-143 atom-81 atom-144\" d=\"M 28.5,65.7 L 23.7,67.8\" style=\"fill:none;fill-rule:evenodd;stroke:#000000;stroke-width:2.0px;stroke-linecap:butt;stroke-linejoin:miter;stroke-opacity:1\"/>\n",
       "<path class=\"bond-144 atom-124 atom-145\" d=\"M 249.3,18.7 L 254.1,16.6\" style=\"fill:none;fill-rule:evenodd;stroke:#000000;stroke-width:2.0px;stroke-linecap:butt;stroke-linejoin:miter;stroke-opacity:1\"/>\n",
       "<path class=\"bond-145 atom-111 atom-146\" d=\"M 169.1,107.9 L 168.6,112.8\" style=\"fill:none;fill-rule:evenodd;stroke:#000000;stroke-width:2.0px;stroke-linecap:butt;stroke-linejoin:miter;stroke-opacity:1\"/>\n",
       "<path class=\"bond-146 atom-114 atom-147\" d=\"M 180.8,116.6 L 184.7,119.6\" style=\"fill:none;fill-rule:evenodd;stroke:#000000;stroke-width:2.0px;stroke-linecap:butt;stroke-linejoin:miter;stroke-opacity:1\"/>\n",
       "<path class=\"bond-147 atom-56 atom-148\" d=\"M 185.1,65.0 L 184.0,64.1\" style=\"fill:none;fill-rule:evenodd;stroke:#CCCC00;stroke-width:2.0px;stroke-linecap:butt;stroke-linejoin:miter;stroke-opacity:1\"/>\n",
       "<path class=\"bond-147 atom-56 atom-148\" d=\"M 184.0,64.1 L 182.8,63.2\" style=\"fill:none;fill-rule:evenodd;stroke:#000000;stroke-width:2.0px;stroke-linecap:butt;stroke-linejoin:miter;stroke-opacity:1\"/>\n",
       "<path class=\"bond-148 atom-53 atom-149\" d=\"M 338.8,119.5 L 338.6,120.7\" style=\"fill:none;fill-rule:evenodd;stroke:#CCCC00;stroke-width:2.0px;stroke-linecap:butt;stroke-linejoin:miter;stroke-opacity:1\"/>\n",
       "<path class=\"bond-148 atom-53 atom-149\" d=\"M 338.6,120.7 L 338.5,121.9\" style=\"fill:none;fill-rule:evenodd;stroke:#000000;stroke-width:2.0px;stroke-linecap:butt;stroke-linejoin:miter;stroke-opacity:1\"/>\n",
       "<path class=\"bond-149 atom-103 atom-150\" d=\"M 218.4,66.2 L 222.3,69.2\" style=\"fill:none;fill-rule:evenodd;stroke:#000000;stroke-width:2.0px;stroke-linecap:butt;stroke-linejoin:miter;stroke-opacity:1\"/>\n",
       "<path class=\"bond-150 atom-64 atom-151\" d=\"M 344.2,73.8 L 340.2,70.8\" style=\"fill:none;fill-rule:evenodd;stroke:#000000;stroke-width:2.0px;stroke-linecap:butt;stroke-linejoin:miter;stroke-opacity:1\"/>\n",
       "<path class=\"bond-151 atom-90 atom-152\" d=\"M 115.8,130.9 L 119.7,133.8\" style=\"fill:none;fill-rule:evenodd;stroke:#000000;stroke-width:2.0px;stroke-linecap:butt;stroke-linejoin:miter;stroke-opacity:1\"/>\n",
       "<path class=\"bond-152 atom-132 atom-153\" d=\"M 106.0,53.0 L 106.5,48.1\" style=\"fill:none;fill-rule:evenodd;stroke:#000000;stroke-width:2.0px;stroke-linecap:butt;stroke-linejoin:miter;stroke-opacity:1\"/>\n",
       "<path class=\"bond-153 atom-123 atom-154\" d=\"M 79.2,119.3 L 78.6,124.1\" style=\"fill:none;fill-rule:evenodd;stroke:#000000;stroke-width:2.0px;stroke-linecap:butt;stroke-linejoin:miter;stroke-opacity:1\"/>\n",
       "<path class=\"bond-154 atom-135 atom-155\" d=\"M 119.3,47.2 L 124.1,45.2\" style=\"fill:none;fill-rule:evenodd;stroke:#000000;stroke-width:2.0px;stroke-linecap:butt;stroke-linejoin:miter;stroke-opacity:1\"/>\n",
       "<path class=\"bond-155 atom-134 atom-156\" d=\"M 118.5,54.4 L 122.4,57.4\" style=\"fill:none;fill-rule:evenodd;stroke:#000000;stroke-width:2.0px;stroke-linecap:butt;stroke-linejoin:miter;stroke-opacity:1\"/>\n",
       "<path class=\"bond-156 atom-113 atom-157\" d=\"M 181.6,109.4 L 186.4,107.4\" style=\"fill:none;fill-rule:evenodd;stroke:#000000;stroke-width:2.0px;stroke-linecap:butt;stroke-linejoin:miter;stroke-opacity:1\"/>\n",
       "<path class=\"bond-157 atom-122 atom-158\" d=\"M 85.8,116.4 L 89.7,119.3\" style=\"fill:none;fill-rule:evenodd;stroke:#000000;stroke-width:2.0px;stroke-linecap:butt;stroke-linejoin:miter;stroke-opacity:1\"/>\n",
       "<path class=\"atom-0\" d=\"M 200.0 98.7 L 200.6 98.7 L 200.6 100.5 L 202.7 100.5 L 202.7 98.7 L 203.3 98.7 L 203.3 102.9 L 202.7 102.9 L 202.7 101.0 L 200.6 101.0 L 200.6 102.9 L 200.0 102.9 L 200.0 98.7 \" fill=\"#000000\"/>\n",
       "<path class=\"atom-1\" d=\"M 207.1 99.4 Q 207.2 99.4, 207.4 99.5 Q 207.6 99.6, 207.8 99.6 Q 208.0 99.7, 208.2 99.7 Q 208.6 99.7, 208.9 99.5 Q 209.1 99.3, 209.1 99.0 Q 209.1 98.7, 209.0 98.6 Q 208.9 98.4, 208.7 98.4 Q 208.5 98.3, 208.2 98.2 Q 207.8 98.1, 207.6 98.0 Q 207.4 97.9, 207.2 97.6 Q 207.0 97.4, 207.0 97.0 Q 207.0 96.5, 207.4 96.2 Q 207.8 95.8, 208.5 95.8 Q 209.0 95.8, 209.5 96.1 L 209.4 96.5 Q 208.9 96.3, 208.5 96.3 Q 208.1 96.3, 207.9 96.5 Q 207.6 96.7, 207.6 97.0 Q 207.6 97.2, 207.8 97.3 Q 207.9 97.5, 208.1 97.5 Q 208.2 97.6, 208.5 97.7 Q 208.9 97.8, 209.1 97.9 Q 209.4 98.1, 209.5 98.3 Q 209.7 98.5, 209.7 99.0 Q 209.7 99.6, 209.3 99.9 Q 208.9 100.2, 208.2 100.2 Q 207.9 100.2, 207.6 100.1 Q 207.3 100.0, 207.0 99.9 L 207.1 99.4 \" fill=\"#CCCC00\"/>\n",
       "<path class=\"atom-14\" d=\"M 182.1 96.5 Q 182.2 96.5, 182.4 96.6 Q 182.6 96.6, 182.8 96.7 Q 183.0 96.7, 183.2 96.7 Q 183.6 96.7, 183.9 96.6 Q 184.1 96.4, 184.1 96.0 Q 184.1 95.8, 184.0 95.6 Q 183.9 95.5, 183.7 95.4 Q 183.5 95.3, 183.2 95.2 Q 182.8 95.1, 182.6 95.0 Q 182.4 94.9, 182.2 94.7 Q 182.1 94.5, 182.1 94.1 Q 182.1 93.5, 182.4 93.2 Q 182.8 92.9, 183.5 92.9 Q 184.0 92.9, 184.6 93.1 L 184.4 93.6 Q 183.9 93.4, 183.5 93.4 Q 183.1 93.4, 182.9 93.5 Q 182.7 93.7, 182.7 94.0 Q 182.7 94.2, 182.8 94.4 Q 182.9 94.5, 183.1 94.6 Q 183.2 94.7, 183.5 94.8 Q 183.9 94.9, 184.1 95.0 Q 184.4 95.1, 184.5 95.4 Q 184.7 95.6, 184.7 96.0 Q 184.7 96.6, 184.3 96.9 Q 183.9 97.2, 183.3 97.2 Q 182.9 97.2, 182.6 97.1 Q 182.3 97.1, 182.0 96.9 L 182.1 96.5 \" fill=\"#CCCC00\"/>\n",
       "<path class=\"atom-15\" d=\"M 175.5 99.3 Q 175.5 99.3, 175.7 99.4 Q 175.9 99.5, 176.1 99.6 Q 176.3 99.6, 176.6 99.6 Q 177.0 99.6, 177.2 99.4 Q 177.4 99.2, 177.4 98.9 Q 177.4 98.6, 177.3 98.5 Q 177.2 98.4, 177.0 98.3 Q 176.8 98.2, 176.5 98.1 Q 176.2 98.0, 175.9 97.9 Q 175.7 97.8, 175.6 97.6 Q 175.4 97.3, 175.4 96.9 Q 175.4 96.4, 175.8 96.1 Q 176.1 95.7, 176.8 95.7 Q 177.3 95.7, 177.9 96.0 L 177.8 96.4 Q 177.2 96.2, 176.9 96.2 Q 176.4 96.2, 176.2 96.4 Q 176.0 96.6, 176.0 96.9 Q 176.0 97.1, 176.1 97.2 Q 176.2 97.4, 176.4 97.5 Q 176.6 97.5, 176.9 97.6 Q 177.2 97.7, 177.5 97.9 Q 177.7 98.0, 177.9 98.2 Q 178.0 98.5, 178.0 98.9 Q 178.0 99.5, 177.6 99.8 Q 177.2 100.1, 176.6 100.1 Q 176.2 100.1, 175.9 100.0 Q 175.6 99.9, 175.3 99.8 L 175.5 99.3 \" fill=\"#CCCC00\"/>\n",
       "<path class=\"atom-36\" d=\"M 340.4 96.9 Q 340.5 96.9, 340.7 97.0 Q 340.9 97.0, 341.1 97.1 Q 341.3 97.2, 341.5 97.2 Q 341.9 97.2, 342.1 97.0 Q 342.4 96.8, 342.4 96.4 Q 342.4 96.2, 342.3 96.0 Q 342.1 95.9, 342.0 95.8 Q 341.8 95.7, 341.5 95.7 Q 341.1 95.5, 340.9 95.4 Q 340.7 95.3, 340.5 95.1 Q 340.3 94.9, 340.3 94.5 Q 340.3 93.9, 340.7 93.6 Q 341.1 93.3, 341.8 93.3 Q 342.3 93.3, 342.8 93.5 L 342.7 94.0 Q 342.2 93.8, 341.8 93.8 Q 341.4 93.8, 341.2 93.9 Q 340.9 94.1, 340.9 94.4 Q 340.9 94.6, 341.1 94.8 Q 341.2 94.9, 341.3 95.0 Q 341.5 95.1, 341.8 95.2 Q 342.2 95.3, 342.4 95.4 Q 342.6 95.5, 342.8 95.8 Q 343.0 96.0, 343.0 96.4 Q 343.0 97.0, 342.6 97.3 Q 342.2 97.6, 341.5 97.6 Q 341.2 97.6, 340.9 97.6 Q 340.6 97.5, 340.2 97.3 L 340.4 96.9 \" fill=\"#CCCC00\"/>\n",
       "<path class=\"atom-37\" d=\"M 347.1 94.0 Q 347.1 94.0, 347.3 94.1 Q 347.5 94.2, 347.7 94.2 Q 348.0 94.3, 348.2 94.3 Q 348.6 94.3, 348.8 94.1 Q 349.0 93.9, 349.0 93.5 Q 349.0 93.3, 348.9 93.2 Q 348.8 93.0, 348.6 92.9 Q 348.5 92.9, 348.2 92.8 Q 347.8 92.7, 347.5 92.6 Q 347.3 92.5, 347.2 92.2 Q 347.0 92.0, 347.0 91.6 Q 347.0 91.1, 347.4 90.7 Q 347.7 90.4, 348.5 90.4 Q 348.9 90.4, 349.5 90.7 L 349.4 91.1 Q 348.9 90.9, 348.5 90.9 Q 348.1 90.9, 347.8 91.1 Q 347.6 91.2, 347.6 91.5 Q 347.6 91.8, 347.7 91.9 Q 347.8 92.0, 348.0 92.1 Q 348.2 92.2, 348.5 92.3 Q 348.9 92.4, 349.1 92.5 Q 349.3 92.6, 349.5 92.9 Q 349.6 93.1, 349.6 93.5 Q 349.6 94.1, 349.2 94.5 Q 348.9 94.8, 348.2 94.8 Q 347.8 94.8, 347.5 94.7 Q 347.3 94.6, 346.9 94.5 L 347.1 94.0 \" fill=\"#CCCC00\"/>\n",
       "<path class=\"atom-38\" d=\"M 190.5 79.2 Q 190.6 79.2, 190.8 79.3 Q 191.0 79.4, 191.2 79.4 Q 191.4 79.5, 191.6 79.5 Q 192.0 79.5, 192.2 79.3 Q 192.5 79.1, 192.5 78.7 Q 192.5 78.5, 192.4 78.3 Q 192.2 78.2, 192.1 78.1 Q 191.9 78.0, 191.6 78.0 Q 191.2 77.8, 191.0 77.7 Q 190.8 77.6, 190.6 77.4 Q 190.4 77.2, 190.4 76.8 Q 190.4 76.2, 190.8 75.9 Q 191.2 75.6, 191.9 75.6 Q 192.4 75.6, 192.9 75.8 L 192.8 76.3 Q 192.3 76.1, 191.9 76.1 Q 191.5 76.1, 191.3 76.2 Q 191.0 76.4, 191.0 76.7 Q 191.0 76.9, 191.2 77.1 Q 191.3 77.2, 191.4 77.3 Q 191.6 77.4, 191.9 77.5 Q 192.3 77.6, 192.5 77.7 Q 192.7 77.8, 192.9 78.1 Q 193.1 78.3, 193.1 78.7 Q 193.1 79.3, 192.7 79.6 Q 192.3 79.9, 191.6 79.9 Q 191.3 79.9, 191.0 79.9 Q 190.7 79.8, 190.4 79.6 L 190.5 79.2 \" fill=\"#CCCC00\"/>\n",
       "<path class=\"atom-39\" d=\"M 184.7 74.8 Q 184.7 74.8, 184.9 74.9 Q 185.1 75.0, 185.4 75.1 Q 185.6 75.1, 185.8 75.1 Q 186.2 75.1, 186.4 74.9 Q 186.7 74.7, 186.7 74.4 Q 186.7 74.1, 186.5 74.0 Q 186.4 73.9, 186.2 73.8 Q 186.1 73.7, 185.8 73.6 Q 185.4 73.5, 185.2 73.4 Q 184.9 73.3, 184.8 73.1 Q 184.6 72.8, 184.6 72.4 Q 184.6 71.9, 185.0 71.6 Q 185.3 71.2, 186.1 71.2 Q 186.6 71.2, 187.1 71.5 L 187.0 71.9 Q 186.5 71.7, 186.1 71.7 Q 185.7 71.7, 185.4 71.9 Q 185.2 72.1, 185.2 72.4 Q 185.2 72.6, 185.3 72.7 Q 185.5 72.9, 185.6 72.9 Q 185.8 73.0, 186.1 73.1 Q 186.5 73.2, 186.7 73.4 Q 186.9 73.5, 187.1 73.7 Q 187.3 74.0, 187.3 74.4 Q 187.3 75.0, 186.9 75.3 Q 186.5 75.6, 185.8 75.6 Q 185.4 75.6, 185.1 75.5 Q 184.9 75.4, 184.5 75.3 L 184.7 74.8 \" fill=\"#CCCC00\"/>\n",
       "<path class=\"atom-44\" d=\"M 332.0 114.2 Q 332.1 114.2, 332.3 114.3 Q 332.5 114.3, 332.7 114.4 Q 332.9 114.4, 333.1 114.4 Q 333.5 114.4, 333.8 114.3 Q 334.0 114.1, 334.0 113.7 Q 334.0 113.5, 333.9 113.3 Q 333.8 113.2, 333.6 113.1 Q 333.4 113.0, 333.1 112.9 Q 332.7 112.8, 332.5 112.7 Q 332.3 112.6, 332.1 112.4 Q 332.0 112.2, 332.0 111.8 Q 332.0 111.2, 332.3 110.9 Q 332.7 110.6, 333.4 110.6 Q 333.9 110.6, 334.5 110.8 L 334.3 111.3 Q 333.8 111.1, 333.4 111.1 Q 333.0 111.1, 332.8 111.2 Q 332.6 111.4, 332.6 111.7 Q 332.6 111.9, 332.7 112.1 Q 332.8 112.2, 333.0 112.3 Q 333.1 112.4, 333.4 112.5 Q 333.8 112.6, 334.0 112.7 Q 334.3 112.8, 334.4 113.1 Q 334.6 113.3, 334.6 113.7 Q 334.6 114.3, 334.2 114.6 Q 333.8 114.9, 333.2 114.9 Q 332.8 114.9, 332.5 114.8 Q 332.2 114.8, 331.9 114.6 L 332.0 114.2 \" fill=\"#CCCC00\"/>\n",
       "<path class=\"atom-53\" d=\"M 337.9 118.5 Q 337.9 118.5, 338.1 118.6 Q 338.3 118.7, 338.5 118.7 Q 338.7 118.8, 339.0 118.8 Q 339.4 118.8, 339.6 118.6 Q 339.8 118.4, 339.8 118.1 Q 339.8 117.8, 339.7 117.7 Q 339.6 117.5, 339.4 117.5 Q 339.2 117.4, 338.9 117.3 Q 338.6 117.2, 338.3 117.1 Q 338.1 117.0, 337.9 116.7 Q 337.8 116.5, 337.8 116.1 Q 337.8 115.6, 338.1 115.3 Q 338.5 114.9, 339.2 114.9 Q 339.7 114.9, 340.3 115.2 L 340.1 115.6 Q 339.6 115.4, 339.2 115.4 Q 338.8 115.4, 338.6 115.6 Q 338.4 115.7, 338.4 116.0 Q 338.4 116.3, 338.5 116.4 Q 338.6 116.5, 338.8 116.6 Q 339.0 116.7, 339.2 116.8 Q 339.6 116.9, 339.9 117.0 Q 340.1 117.2, 340.2 117.4 Q 340.4 117.6, 340.4 118.1 Q 340.4 118.6, 340.0 119.0 Q 339.6 119.3, 339.0 119.3 Q 338.6 119.3, 338.3 119.2 Q 338.0 119.1, 337.7 119.0 L 337.9 118.5 \" fill=\"#CCCC00\"/>\n",
       "<path class=\"atom-54\" d=\"M 107.2 87.6 Q 107.2 87.6, 107.4 87.7 Q 107.6 87.8, 107.9 87.8 Q 108.1 87.9, 108.3 87.9 Q 108.7 87.9, 108.9 87.7 Q 109.2 87.5, 109.2 87.2 Q 109.2 86.9, 109.0 86.8 Q 108.9 86.6, 108.7 86.6 Q 108.6 86.5, 108.3 86.4 Q 107.9 86.3, 107.7 86.2 Q 107.4 86.1, 107.3 85.8 Q 107.1 85.6, 107.1 85.2 Q 107.1 84.7, 107.5 84.4 Q 107.8 84.0, 108.6 84.0 Q 109.1 84.0, 109.6 84.3 L 109.5 84.7 Q 109.0 84.5, 108.6 84.5 Q 108.2 84.5, 107.9 84.7 Q 107.7 84.9, 107.7 85.2 Q 107.7 85.4, 107.8 85.5 Q 108.0 85.7, 108.1 85.7 Q 108.3 85.8, 108.6 85.9 Q 109.0 86.0, 109.2 86.1 Q 109.4 86.3, 109.6 86.5 Q 109.8 86.7, 109.8 87.2 Q 109.8 87.8, 109.4 88.1 Q 109.0 88.4, 108.3 88.4 Q 107.9 88.4, 107.6 88.3 Q 107.4 88.2, 107.0 88.1 L 107.2 87.6 \" fill=\"#CCCC00\"/>\n",
       "<path class=\"atom-55\" d=\"M 100.5 90.5 Q 100.6 90.5, 100.8 90.6 Q 101.0 90.7, 101.2 90.7 Q 101.4 90.8, 101.6 90.8 Q 102.0 90.8, 102.3 90.6 Q 102.5 90.4, 102.5 90.0 Q 102.5 89.8, 102.4 89.7 Q 102.3 89.5, 102.1 89.4 Q 101.9 89.4, 101.6 89.3 Q 101.2 89.1, 101.0 89.0 Q 100.8 88.9, 100.6 88.7 Q 100.4 88.5, 100.4 88.1 Q 100.4 87.6, 100.8 87.2 Q 101.2 86.9, 101.9 86.9 Q 102.4 86.9, 102.9 87.1 L 102.8 87.6 Q 102.3 87.4, 101.9 87.4 Q 101.5 87.4, 101.3 87.6 Q 101.0 87.7, 101.0 88.0 Q 101.0 88.2, 101.2 88.4 Q 101.3 88.5, 101.4 88.6 Q 101.6 88.7, 101.9 88.8 Q 102.3 88.9, 102.5 89.0 Q 102.8 89.1, 102.9 89.4 Q 103.1 89.6, 103.1 90.0 Q 103.1 90.6, 102.7 90.9 Q 102.3 91.2, 101.6 91.2 Q 101.3 91.2, 101.0 91.2 Q 100.7 91.1, 100.4 90.9 L 100.5 90.5 \" fill=\"#CCCC00\"/>\n",
       "<path class=\"atom-56\" d=\"M 185.5 67.6 Q 185.6 67.6, 185.8 67.7 Q 186.0 67.8, 186.2 67.8 Q 186.4 67.9, 186.6 67.9 Q 187.0 67.9, 187.3 67.7 Q 187.5 67.5, 187.5 67.2 Q 187.5 66.9, 187.4 66.8 Q 187.3 66.6, 187.1 66.6 Q 186.9 66.5, 186.6 66.4 Q 186.2 66.3, 186.0 66.2 Q 185.8 66.1, 185.6 65.8 Q 185.5 65.6, 185.5 65.2 Q 185.5 64.7, 185.8 64.4 Q 186.2 64.0, 186.9 64.0 Q 187.4 64.0, 188.0 64.3 L 187.8 64.7 Q 187.3 64.5, 186.9 64.5 Q 186.5 64.5, 186.3 64.7 Q 186.1 64.9, 186.1 65.2 Q 186.1 65.4, 186.2 65.5 Q 186.3 65.7, 186.5 65.7 Q 186.6 65.8, 186.9 65.9 Q 187.3 66.0, 187.5 66.1 Q 187.8 66.3, 187.9 66.5 Q 188.1 66.8, 188.1 67.2 Q 188.1 67.8, 187.7 68.1 Q 187.3 68.4, 186.7 68.4 Q 186.3 68.4, 186.0 68.3 Q 185.7 68.2, 185.4 68.1 L 185.5 67.6 \" fill=\"#CCCC00\"/>\n",
       "<path class=\"atom-85\" d=\"M 57.2 81.7 Q 57.3 81.7, 57.5 81.8 Q 57.7 81.9, 57.9 81.9 Q 58.1 82.0, 58.3 82.0 Q 58.7 82.0, 59.0 81.8 Q 59.2 81.6, 59.2 81.3 Q 59.2 81.0, 59.1 80.9 Q 59.0 80.7, 58.8 80.7 Q 58.6 80.6, 58.3 80.5 Q 57.9 80.4, 57.7 80.3 Q 57.5 80.2, 57.3 79.9 Q 57.2 79.7, 57.2 79.3 Q 57.2 78.8, 57.5 78.5 Q 57.9 78.1, 58.6 78.1 Q 59.1 78.1, 59.7 78.4 L 59.5 78.8 Q 59.0 78.6, 58.6 78.6 Q 58.2 78.6, 58.0 78.8 Q 57.7 79.0, 57.8 79.3 Q 57.8 79.5, 57.9 79.6 Q 58.0 79.8, 58.2 79.8 Q 58.3 79.9, 58.6 80.0 Q 59.0 80.1, 59.2 80.2 Q 59.5 80.4, 59.6 80.6 Q 59.8 80.8, 59.8 81.3 Q 59.8 81.9, 59.4 82.2 Q 59.0 82.5, 58.3 82.5 Q 58.0 82.5, 57.7 82.4 Q 57.4 82.3, 57.1 82.2 L 57.2 81.7 \" fill=\"#CCCC00\"/>\n",
       "<path class=\"atom-86\" d=\"M 50.6 84.6 Q 50.6 84.6, 50.8 84.7 Q 51.0 84.8, 51.2 84.8 Q 51.4 84.9, 51.7 84.9 Q 52.1 84.9, 52.3 84.7 Q 52.5 84.5, 52.5 84.1 Q 52.5 83.9, 52.4 83.8 Q 52.3 83.6, 52.1 83.5 Q 51.9 83.5, 51.6 83.4 Q 51.3 83.3, 51.0 83.1 Q 50.8 83.0, 50.6 82.8 Q 50.5 82.6, 50.5 82.2 Q 50.5 81.7, 50.8 81.3 Q 51.2 81.0, 51.9 81.0 Q 52.4 81.0, 53.0 81.2 L 52.8 81.7 Q 52.3 81.5, 51.9 81.5 Q 51.5 81.5, 51.3 81.7 Q 51.1 81.8, 51.1 82.1 Q 51.1 82.4, 51.2 82.5 Q 51.3 82.6, 51.5 82.7 Q 51.7 82.8, 51.9 82.9 Q 52.3 83.0, 52.6 83.1 Q 52.8 83.2, 52.9 83.5 Q 53.1 83.7, 53.1 84.1 Q 53.1 84.7, 52.7 85.0 Q 52.3 85.4, 51.7 85.4 Q 51.3 85.4, 51.0 85.3 Q 50.7 85.2, 50.4 85.1 L 50.6 84.6 \" fill=\"#CCCC00\"/>\n",
       "<path class=\"atom-91\" d=\"M 215.5 82.1 Q 215.5 82.1, 215.7 82.2 Q 215.9 82.3, 216.2 82.4 Q 216.4 82.4, 216.6 82.4 Q 217.0 82.4, 217.2 82.2 Q 217.5 82.0, 217.5 81.7 Q 217.5 81.4, 217.3 81.3 Q 217.2 81.1, 217.0 81.1 Q 216.9 81.0, 216.6 80.9 Q 216.2 80.8, 216.0 80.7 Q 215.7 80.6, 215.6 80.3 Q 215.4 80.1, 215.4 79.7 Q 215.4 79.2, 215.8 78.9 Q 216.1 78.5, 216.9 78.5 Q 217.4 78.5, 217.9 78.8 L 217.8 79.2 Q 217.3 79.0, 216.9 79.0 Q 216.5 79.0, 216.2 79.2 Q 216.0 79.4, 216.0 79.7 Q 216.0 79.9, 216.1 80.0 Q 216.3 80.2, 216.4 80.2 Q 216.6 80.3, 216.9 80.4 Q 217.3 80.5, 217.5 80.6 Q 217.7 80.8, 217.9 81.0 Q 218.1 81.3, 218.1 81.7 Q 218.1 82.3, 217.7 82.6 Q 217.3 82.9, 216.6 82.9 Q 216.2 82.9, 216.0 82.8 Q 215.7 82.7, 215.3 82.6 L 215.5 82.1 \" fill=\"#CCCC00\"/>\n",
       "<path class=\"atom-96\" d=\"M 209.7 77.8 Q 209.7 77.8, 209.9 77.9 Q 210.1 78.0, 210.3 78.0 Q 210.6 78.1, 210.8 78.1 Q 211.2 78.1, 211.4 77.9 Q 211.6 77.7, 211.6 77.3 Q 211.6 77.1, 211.5 76.9 Q 211.4 76.8, 211.2 76.7 Q 211.1 76.6, 210.8 76.6 Q 210.4 76.4, 210.1 76.3 Q 209.9 76.2, 209.8 76.0 Q 209.6 75.8, 209.6 75.4 Q 209.6 74.9, 210.0 74.5 Q 210.3 74.2, 211.1 74.2 Q 211.5 74.2, 212.1 74.4 L 212.0 74.9 Q 211.5 74.7, 211.1 74.7 Q 210.7 74.7, 210.4 74.9 Q 210.2 75.0, 210.2 75.3 Q 210.2 75.5, 210.3 75.7 Q 210.4 75.8, 210.6 75.9 Q 210.8 76.0, 211.1 76.1 Q 211.5 76.2, 211.7 76.3 Q 211.9 76.4, 212.1 76.7 Q 212.2 76.9, 212.2 77.3 Q 212.2 77.9, 211.8 78.2 Q 211.5 78.5, 210.8 78.5 Q 210.4 78.5, 210.1 78.5 Q 209.9 78.4, 209.5 78.2 L 209.7 77.8 \" fill=\"#CCCC00\"/>\n",
       "<path class=\"atom-97\" d=\"M 115.6 70.3 Q 115.6 70.3, 115.8 70.4 Q 116.0 70.5, 116.2 70.6 Q 116.4 70.6, 116.7 70.6 Q 117.1 70.6, 117.3 70.4 Q 117.5 70.2, 117.5 69.9 Q 117.5 69.6, 117.4 69.5 Q 117.3 69.3, 117.1 69.3 Q 116.9 69.2, 116.6 69.1 Q 116.3 69.0, 116.0 68.9 Q 115.8 68.8, 115.6 68.5 Q 115.5 68.3, 115.5 67.9 Q 115.5 67.4, 115.9 67.1 Q 116.2 66.7, 116.9 66.7 Q 117.4 66.7, 118.0 67.0 L 117.9 67.4 Q 117.3 67.2, 117.0 67.2 Q 116.5 67.2, 116.3 67.4 Q 116.1 67.6, 116.1 67.9 Q 116.1 68.1, 116.2 68.2 Q 116.3 68.4, 116.5 68.4 Q 116.7 68.5, 117.0 68.6 Q 117.3 68.7, 117.6 68.9 Q 117.8 69.0, 118.0 69.2 Q 118.1 69.5, 118.1 69.9 Q 118.1 70.5, 117.7 70.8 Q 117.3 71.1, 116.7 71.1 Q 116.3 71.1, 116.0 71.0 Q 115.7 70.9, 115.4 70.8 L 115.6 70.3 \" fill=\"#CCCC00\"/>\n",
       "<path class=\"atom-106\" d=\"M 109.7 66.0 Q 109.8 66.0, 110.0 66.1 Q 110.2 66.2, 110.4 66.2 Q 110.6 66.3, 110.8 66.3 Q 111.2 66.3, 111.5 66.1 Q 111.7 65.9, 111.7 65.5 Q 111.7 65.3, 111.6 65.1 Q 111.5 65.0, 111.3 64.9 Q 111.1 64.8, 110.8 64.8 Q 110.4 64.6, 110.2 64.5 Q 110.0 64.4, 109.8 64.2 Q 109.7 64.0, 109.7 63.6 Q 109.7 63.1, 110.0 62.7 Q 110.4 62.4, 111.1 62.4 Q 111.6 62.4, 112.2 62.6 L 112.0 63.1 Q 111.5 62.9, 111.1 62.9 Q 110.7 62.9, 110.5 63.1 Q 110.3 63.2, 110.3 63.5 Q 110.3 63.7, 110.4 63.9 Q 110.5 64.0, 110.7 64.1 Q 110.8 64.2, 111.1 64.3 Q 111.5 64.4, 111.7 64.5 Q 112.0 64.6, 112.1 64.9 Q 112.3 65.1, 112.3 65.5 Q 112.3 66.1, 111.9 66.4 Q 111.5 66.7, 110.9 66.7 Q 110.5 66.7, 110.2 66.7 Q 109.9 66.6, 109.6 66.4 L 109.7 66.0 \" fill=\"#CCCC00\"/>\n",
       "<path class=\"atom-119\" d=\"M 65.6 64.4 Q 65.6 64.4, 65.8 64.5 Q 66.0 64.6, 66.3 64.7 Q 66.5 64.7, 66.7 64.7 Q 67.1 64.7, 67.3 64.5 Q 67.6 64.3, 67.6 64.0 Q 67.6 63.7, 67.4 63.6 Q 67.3 63.4, 67.2 63.4 Q 67.0 63.3, 66.7 63.2 Q 66.3 63.1, 66.1 63.0 Q 65.8 62.9, 65.7 62.6 Q 65.5 62.4, 65.5 62.0 Q 65.5 61.5, 65.9 61.2 Q 66.3 60.8, 67.0 60.8 Q 67.5 60.8, 68.0 61.1 L 67.9 61.5 Q 67.4 61.3, 67.0 61.3 Q 66.6 61.3, 66.4 61.5 Q 66.1 61.7, 66.1 62.0 Q 66.1 62.2, 66.2 62.3 Q 66.4 62.5, 66.5 62.5 Q 66.7 62.6, 67.0 62.7 Q 67.4 62.8, 67.6 63.0 Q 67.8 63.1, 68.0 63.3 Q 68.2 63.6, 68.2 64.0 Q 68.2 64.6, 67.8 64.9 Q 67.4 65.2, 66.7 65.2 Q 66.3 65.2, 66.1 65.1 Q 65.8 65.0, 65.4 64.9 L 65.6 64.4 \" fill=\"#CCCC00\"/>\n",
       "<path class=\"atom-136\" d=\"M 111.7 95.6 L 112.3 95.6 L 112.3 97.4 L 114.4 97.4 L 114.4 95.6 L 115.0 95.6 L 115.0 99.8 L 114.4 99.8 L 114.4 97.9 L 112.3 97.9 L 112.3 99.8 L 111.7 99.8 L 111.7 95.6 \" fill=\"#000000\"/>\n",
       "<path class=\"atom-137\" d=\"M 400.1 12.6 L 400.7 12.6 L 400.7 14.4 L 402.9 14.4 L 402.9 12.6 L 403.5 12.6 L 403.5 16.9 L 402.9 16.9 L 402.9 14.9 L 400.7 14.9 L 400.7 16.9 L 400.1 16.9 L 400.1 12.6 \" fill=\"#000000\"/>\n",
       "<path class=\"atom-138\" d=\"M 426.5 110.8 L 427.1 110.8 L 427.1 112.6 L 429.3 112.6 L 429.3 110.8 L 429.9 110.8 L 429.9 115.1 L 429.3 115.1 L 429.3 113.1 L 427.1 113.1 L 427.1 115.1 L 426.5 115.1 L 426.5 110.8 \" fill=\"#000000\"/>\n",
       "<path class=\"atom-139\" d=\"M 79.2 102.7 L 79.8 102.7 L 79.8 104.5 L 81.9 104.5 L 81.9 102.7 L 82.5 102.7 L 82.5 107.0 L 81.9 107.0 L 81.9 105.0 L 79.8 105.0 L 79.8 107.0 L 79.2 107.0 L 79.2 102.7 \" fill=\"#000000\"/>\n",
       "<path class=\"atom-140\" d=\"M 195.2 32.3 L 195.7 32.3 L 195.7 34.1 L 197.9 34.1 L 197.9 32.3 L 198.5 32.3 L 198.5 36.6 L 197.9 36.6 L 197.9 34.6 L 195.7 34.6 L 195.7 36.6 L 195.2 36.6 L 195.2 32.3 \" fill=\"#000000\"/>\n",
       "<path class=\"atom-141\" d=\"M 335.0 81.7 L 335.6 81.7 L 335.6 83.5 L 337.7 83.5 L 337.7 81.7 L 338.3 81.7 L 338.3 86.0 L 337.7 86.0 L 337.7 84.0 L 335.6 84.0 L 335.6 86.0 L 335.0 86.0 L 335.0 81.7 \" fill=\"#000000\"/>\n",
       "<path class=\"atom-142\" d=\"M 59.3 56.5 L 59.9 56.5 L 59.9 58.3 L 62.1 58.3 L 62.1 56.5 L 62.6 56.5 L 62.6 60.7 L 62.1 60.7 L 62.1 58.8 L 59.9 58.8 L 59.9 60.7 L 59.3 60.7 L 59.3 56.5 \" fill=\"#000000\"/>\n",
       "<path class=\"atom-143\" d=\"M 49.2 88.2 L 49.8 88.2 L 49.8 90.0 L 52.0 90.0 L 52.0 88.2 L 52.6 88.2 L 52.6 92.5 L 52.0 92.5 L 52.0 90.5 L 49.8 90.5 L 49.8 92.5 L 49.2 92.5 L 49.2 88.2 \" fill=\"#000000\"/>\n",
       "<path class=\"atom-144\" d=\"M 20.1 66.5 L 20.7 66.5 L 20.7 68.3 L 22.9 68.3 L 22.9 66.5 L 23.5 66.5 L 23.5 70.7 L 22.9 70.7 L 22.9 68.8 L 20.7 68.8 L 20.7 70.7 L 20.1 70.7 L 20.1 66.5 \" fill=\"#000000\"/>\n",
       "<path class=\"atom-145\" d=\"M 254.4 13.7 L 254.9 13.7 L 254.9 15.5 L 257.1 15.5 L 257.1 13.7 L 257.7 13.7 L 257.7 18.0 L 257.1 18.0 L 257.1 16.0 L 254.9 16.0 L 254.9 18.0 L 254.4 18.0 L 254.4 13.7 \" fill=\"#000000\"/>\n",
       "<path class=\"atom-146\" d=\"M 166.6 113.0 L 167.2 113.0 L 167.2 114.8 L 169.4 114.8 L 169.4 113.0 L 170.0 113.0 L 170.0 117.3 L 169.4 117.3 L 169.4 115.3 L 167.2 115.3 L 167.2 117.3 L 166.6 117.3 L 166.6 113.0 \" fill=\"#000000\"/>\n",
       "<path class=\"atom-147\" d=\"M 184.9 118.9 L 185.5 118.9 L 185.5 120.7 L 187.7 120.7 L 187.7 118.9 L 188.3 118.9 L 188.3 123.1 L 187.7 123.1 L 187.7 121.1 L 185.5 121.1 L 185.5 123.1 L 184.9 123.1 L 184.9 118.9 \" fill=\"#000000\"/>\n",
       "<path class=\"atom-148\" d=\"M 179.3 59.7 L 179.8 59.7 L 179.8 61.5 L 182.0 61.5 L 182.0 59.7 L 182.6 59.7 L 182.6 63.9 L 182.0 63.9 L 182.0 62.0 L 179.8 62.0 L 179.8 63.9 L 179.3 63.9 L 179.3 59.7 \" fill=\"#000000\"/>\n",
       "<path class=\"atom-149\" d=\"M 336.5 122.1 L 337.1 122.1 L 337.1 123.9 L 339.3 123.9 L 339.3 122.1 L 339.9 122.1 L 339.9 126.4 L 339.3 126.4 L 339.3 124.4 L 337.1 124.4 L 337.1 126.4 L 336.5 126.4 L 336.5 122.1 \" fill=\"#000000\"/>\n",
       "<path class=\"atom-150\" d=\"M 222.6 68.5 L 223.1 68.5 L 223.1 70.3 L 225.3 70.3 L 225.3 68.5 L 225.9 68.5 L 225.9 72.7 L 225.3 72.7 L 225.3 70.7 L 223.1 70.7 L 223.1 72.7 L 222.6 72.7 L 222.6 68.5 \" fill=\"#000000\"/>\n",
       "<path class=\"atom-151\" d=\"M 336.7 67.3 L 337.3 67.3 L 337.3 69.1 L 339.4 69.1 L 339.4 67.3 L 340.0 67.3 L 340.0 71.5 L 339.4 71.5 L 339.4 69.6 L 337.3 69.6 L 337.3 71.5 L 336.7 71.5 L 336.7 67.3 \" fill=\"#000000\"/>\n",
       "<path class=\"atom-152\" d=\"M 119.9 133.1 L 120.5 133.1 L 120.5 134.9 L 122.7 134.9 L 122.7 133.1 L 123.3 133.1 L 123.3 137.4 L 122.7 137.4 L 122.7 135.4 L 120.5 135.4 L 120.5 137.4 L 119.9 137.4 L 119.9 133.1 \" fill=\"#000000\"/>\n",
       "<path class=\"atom-153\" d=\"M 105.2 43.6 L 105.7 43.6 L 105.7 45.4 L 107.9 45.4 L 107.9 43.6 L 108.5 43.6 L 108.5 47.9 L 107.9 47.9 L 107.9 45.9 L 105.7 45.9 L 105.7 47.9 L 105.2 47.9 L 105.2 43.6 \" fill=\"#000000\"/>\n",
       "<path class=\"atom-154\" d=\"M 76.6 124.3 L 77.2 124.3 L 77.2 126.2 L 79.4 126.2 L 79.4 124.3 L 80.0 124.3 L 80.0 128.6 L 79.4 128.6 L 79.4 126.6 L 77.2 126.6 L 77.2 128.6 L 76.6 128.6 L 76.6 124.3 \" fill=\"#000000\"/>\n",
       "<path class=\"atom-155\" d=\"M 124.3 42.2 L 124.9 42.2 L 124.9 44.0 L 127.1 44.0 L 127.1 42.2 L 127.7 42.2 L 127.7 46.5 L 127.1 46.5 L 127.1 44.5 L 124.9 44.5 L 124.9 46.5 L 124.3 46.5 L 124.3 42.2 \" fill=\"#000000\"/>\n",
       "<path class=\"atom-156\" d=\"M 122.6 56.7 L 123.2 56.7 L 123.2 58.5 L 125.4 58.5 L 125.4 56.7 L 126.0 56.7 L 126.0 60.9 L 125.4 60.9 L 125.4 58.9 L 123.2 58.9 L 123.2 60.9 L 122.6 60.9 L 122.6 56.7 \" fill=\"#000000\"/>\n",
       "<path class=\"atom-157\" d=\"M 186.6 104.4 L 187.2 104.4 L 187.2 106.2 L 189.4 106.2 L 189.4 104.4 L 190.0 104.4 L 190.0 108.7 L 189.4 108.7 L 189.4 106.7 L 187.2 106.7 L 187.2 108.7 L 186.6 108.7 L 186.6 104.4 \" fill=\"#000000\"/>\n",
       "<path class=\"atom-158\" d=\"M 90.0 118.6 L 90.6 118.6 L 90.6 120.4 L 92.7 120.4 L 92.7 118.6 L 93.3 118.6 L 93.3 122.9 L 92.7 122.9 L 92.7 120.9 L 90.6 120.9 L 90.6 122.9 L 90.0 122.9 L 90.0 118.6 \" fill=\"#000000\"/>\n",
       "<path class=\"atom-0\" d=\"M 199.4,100.8 L 199.4,100.8 L 199.4,100.9 L 199.4,100.9 L 199.4,100.9 L 199.4,100.9 L 199.3,101.0 L 199.3,101.0 L 199.3,101.0 L 199.3,101.0 L 199.3,101.0 L 199.3,101.1 L 199.2,101.1 L 199.2,101.1 L 199.2,101.1 L 199.2,101.1 L 199.1,101.1 L 199.1,101.1 L 199.1,101.1 L 199.1,101.1 L 199.0,101.1 L 199.0,101.1 L 199.0,101.1 L 199.0,101.1 L 198.9,101.1 L 198.9,101.1 L 198.9,101.1 L 198.9,101.0 L 198.9,101.0 L 198.8,101.0 L 198.8,101.0 L 198.8,101.0 L 198.8,100.9 L 198.8,100.9 L 198.8,100.9 L 198.8,100.9 L 198.8,100.8 L 198.8,100.8 L 198.8,100.8 L 198.8,100.8 L 198.8,100.7 L 198.8,100.7 L 198.8,100.7 L 198.8,100.7 L 198.8,100.6 L 198.9,100.6 L 198.9,100.6 L 198.9,100.6 L 198.9,100.6 L 198.9,100.6 L 199.0,100.5 L 199.0,100.5 L 199.0,100.5 L 199.0,100.5 L 199.1,100.5 L 199.1,100.5 L 199.1,100.5 L 199.1,100.5 L 199.2,100.5 L 199.2,100.5 L 199.2,100.5 L 199.2,100.6 L 199.3,100.6 L 199.3,100.6 L 199.3,100.6 L 199.3,100.6 L 199.3,100.6 L 199.3,100.7 L 199.4,100.7 L 199.4,100.7 L 199.4,100.7 L 199.4,100.8 L 199.4,100.8 L 199.4,100.8 L 199.1,100.8 Z\" style=\"fill:#000000;fill-rule:evenodd;fill-opacity:1;stroke:#000000;stroke-width:0.0px;stroke-linecap:butt;stroke-linejoin:miter;stroke-opacity:1;\"/>\n",
       "<path class=\"atom-136\" d=\"M 116.2,97.7 L 116.2,97.7 L 116.2,97.8 L 116.2,97.8 L 116.2,97.8 L 116.2,97.8 L 116.2,97.9 L 116.2,97.9 L 116.2,97.9 L 116.1,97.9 L 116.1,97.9 L 116.1,97.9 L 116.1,98.0 L 116.1,98.0 L 116.0,98.0 L 116.0,98.0 L 116.0,98.0 L 116.0,98.0 L 115.9,98.0 L 115.9,98.0 L 115.9,98.0 L 115.9,98.0 L 115.8,98.0 L 115.8,98.0 L 115.8,98.0 L 115.8,98.0 L 115.7,97.9 L 115.7,97.9 L 115.7,97.9 L 115.7,97.9 L 115.7,97.9 L 115.7,97.8 L 115.6,97.8 L 115.6,97.8 L 115.6,97.8 L 115.6,97.7 L 115.6,97.7 L 115.6,97.7 L 115.6,97.7 L 115.6,97.6 L 115.6,97.6 L 115.6,97.6 L 115.7,97.6 L 115.7,97.5 L 115.7,97.5 L 115.7,97.5 L 115.7,97.5 L 115.7,97.5 L 115.8,97.5 L 115.8,97.4 L 115.8,97.4 L 115.8,97.4 L 115.9,97.4 L 115.9,97.4 L 115.9,97.4 L 115.9,97.4 L 116.0,97.4 L 116.0,97.4 L 116.0,97.4 L 116.0,97.4 L 116.1,97.4 L 116.1,97.4 L 116.1,97.5 L 116.1,97.5 L 116.1,97.5 L 116.2,97.5 L 116.2,97.5 L 116.2,97.6 L 116.2,97.6 L 116.2,97.6 L 116.2,97.6 L 116.2,97.7 L 116.2,97.7 L 116.2,97.7 L 115.9,97.7 Z\" style=\"fill:#000000;fill-rule:evenodd;fill-opacity:1;stroke:#000000;stroke-width:0.0px;stroke-linecap:butt;stroke-linejoin:miter;stroke-opacity:1;\"/>\n",
       "<path class=\"atom-137\" d=\"M 404.7,14.8 L 404.7,14.8 L 404.6,14.8 L 404.6,14.8 L 404.6,14.9 L 404.6,14.9 L 404.6,14.9 L 404.6,14.9 L 404.6,15.0 L 404.6,15.0 L 404.5,15.0 L 404.5,15.0 L 404.5,15.0 L 404.5,15.0 L 404.5,15.0 L 404.4,15.0 L 404.4,15.1 L 404.4,15.1 L 404.4,15.1 L 404.3,15.1 L 404.3,15.1 L 404.3,15.1 L 404.3,15.0 L 404.2,15.0 L 404.2,15.0 L 404.2,15.0 L 404.2,15.0 L 404.1,15.0 L 404.1,15.0 L 404.1,14.9 L 404.1,14.9 L 404.1,14.9 L 404.1,14.9 L 404.1,14.9 L 404.1,14.8 L 404.1,14.8 L 404.1,14.8 L 404.1,14.7 L 404.1,14.7 L 404.1,14.7 L 404.1,14.7 L 404.1,14.6 L 404.1,14.6 L 404.1,14.6 L 404.1,14.6 L 404.1,14.6 L 404.1,14.5 L 404.2,14.5 L 404.2,14.5 L 404.2,14.5 L 404.2,14.5 L 404.3,14.5 L 404.3,14.5 L 404.3,14.5 L 404.3,14.5 L 404.4,14.5 L 404.4,14.5 L 404.4,14.5 L 404.4,14.5 L 404.5,14.5 L 404.5,14.5 L 404.5,14.5 L 404.5,14.5 L 404.5,14.5 L 404.6,14.6 L 404.6,14.6 L 404.6,14.6 L 404.6,14.6 L 404.6,14.6 L 404.6,14.7 L 404.6,14.7 L 404.6,14.7 L 404.7,14.7 L 404.7,14.8 L 404.4,14.8 Z\" style=\"fill:#000000;fill-rule:evenodd;fill-opacity:1;stroke:#000000;stroke-width:0.0px;stroke-linecap:butt;stroke-linejoin:miter;stroke-opacity:1;\"/>\n",
       "<path class=\"atom-138\" d=\"M 431.1,112.9 L 431.1,113.0 L 431.1,113.0 L 431.0,113.0 L 431.0,113.0 L 431.0,113.1 L 431.0,113.1 L 431.0,113.1 L 431.0,113.1 L 431.0,113.1 L 431.0,113.2 L 430.9,113.2 L 430.9,113.2 L 430.9,113.2 L 430.9,113.2 L 430.8,113.2 L 430.8,113.2 L 430.8,113.2 L 430.8,113.2 L 430.7,113.2 L 430.7,113.2 L 430.7,113.2 L 430.7,113.2 L 430.6,113.2 L 430.6,113.2 L 430.6,113.2 L 430.6,113.2 L 430.6,113.2 L 430.5,113.1 L 430.5,113.1 L 430.5,113.1 L 430.5,113.1 L 430.5,113.1 L 430.5,113.0 L 430.5,113.0 L 430.5,113.0 L 430.5,113.0 L 430.5,112.9 L 430.5,112.9 L 430.5,112.9 L 430.5,112.9 L 430.5,112.8 L 430.5,112.8 L 430.5,112.8 L 430.5,112.8 L 430.5,112.7 L 430.6,112.7 L 430.6,112.7 L 430.6,112.7 L 430.6,112.7 L 430.6,112.7 L 430.7,112.7 L 430.7,112.6 L 430.7,112.6 L 430.7,112.6 L 430.8,112.6 L 430.8,112.6 L 430.8,112.6 L 430.8,112.7 L 430.9,112.7 L 430.9,112.7 L 430.9,112.7 L 430.9,112.7 L 431.0,112.7 L 431.0,112.7 L 431.0,112.7 L 431.0,112.8 L 431.0,112.8 L 431.0,112.8 L 431.0,112.8 L 431.0,112.9 L 431.1,112.9 L 431.1,112.9 L 431.1,112.9 L 430.8,112.9 Z\" style=\"fill:#000000;fill-rule:evenodd;fill-opacity:1;stroke:#000000;stroke-width:0.0px;stroke-linecap:butt;stroke-linejoin:miter;stroke-opacity:1;\"/>\n",
       "<path class=\"atom-139\" d=\"M 78.6,104.8 L 78.6,104.9 L 78.6,104.9 L 78.6,104.9 L 78.6,104.9 L 78.6,105.0 L 78.6,105.0 L 78.5,105.0 L 78.5,105.0 L 78.5,105.0 L 78.5,105.1 L 78.5,105.1 L 78.4,105.1 L 78.4,105.1 L 78.4,105.1 L 78.4,105.1 L 78.3,105.1 L 78.3,105.1 L 78.3,105.1 L 78.3,105.1 L 78.2,105.1 L 78.2,105.1 L 78.2,105.1 L 78.2,105.1 L 78.1,105.1 L 78.1,105.1 L 78.1,105.1 L 78.1,105.1 L 78.1,105.0 L 78.1,105.0 L 78.0,105.0 L 78.0,105.0 L 78.0,104.9 L 78.0,104.9 L 78.0,104.9 L 78.0,104.9 L 78.0,104.8 L 78.0,104.8 L 78.0,104.8 L 78.0,104.8 L 78.0,104.7 L 78.0,104.7 L 78.0,104.7 L 78.0,104.7 L 78.1,104.7 L 78.1,104.6 L 78.1,104.6 L 78.1,104.6 L 78.1,104.6 L 78.1,104.6 L 78.2,104.6 L 78.2,104.6 L 78.2,104.5 L 78.2,104.5 L 78.3,104.5 L 78.3,104.5 L 78.3,104.5 L 78.3,104.5 L 78.4,104.5 L 78.4,104.6 L 78.4,104.6 L 78.4,104.6 L 78.5,104.6 L 78.5,104.6 L 78.5,104.6 L 78.5,104.6 L 78.5,104.7 L 78.6,104.7 L 78.6,104.7 L 78.6,104.7 L 78.6,104.8 L 78.6,104.8 L 78.6,104.8 L 78.6,104.8 L 78.3,104.8 Z\" style=\"fill:#000000;fill-rule:evenodd;fill-opacity:1;stroke:#000000;stroke-width:0.0px;stroke-linecap:butt;stroke-linejoin:miter;stroke-opacity:1;\"/>\n",
       "<path class=\"atom-140\" d=\"M 199.7,34.4 L 199.7,34.5 L 199.7,34.5 L 199.7,34.5 L 199.7,34.5 L 199.7,34.6 L 199.6,34.6 L 199.6,34.6 L 199.6,34.6 L 199.6,34.6 L 199.6,34.7 L 199.6,34.7 L 199.5,34.7 L 199.5,34.7 L 199.5,34.7 L 199.5,34.7 L 199.4,34.7 L 199.4,34.7 L 199.4,34.7 L 199.4,34.7 L 199.3,34.7 L 199.3,34.7 L 199.3,34.7 L 199.3,34.7 L 199.2,34.7 L 199.2,34.7 L 199.2,34.7 L 199.2,34.7 L 199.2,34.6 L 199.1,34.6 L 199.1,34.6 L 199.1,34.6 L 199.1,34.5 L 199.1,34.5 L 199.1,34.5 L 199.1,34.5 L 199.1,34.4 L 199.1,34.4 L 199.1,34.4 L 199.1,34.4 L 199.1,34.3 L 199.1,34.3 L 199.1,34.3 L 199.1,34.3 L 199.1,34.3 L 199.2,34.2 L 199.2,34.2 L 199.2,34.2 L 199.2,34.2 L 199.2,34.2 L 199.3,34.2 L 199.3,34.2 L 199.3,34.1 L 199.3,34.1 L 199.4,34.1 L 199.4,34.1 L 199.4,34.1 L 199.4,34.1 L 199.5,34.1 L 199.5,34.2 L 199.5,34.2 L 199.5,34.2 L 199.6,34.2 L 199.6,34.2 L 199.6,34.2 L 199.6,34.2 L 199.6,34.3 L 199.6,34.3 L 199.7,34.3 L 199.7,34.3 L 199.7,34.4 L 199.7,34.4 L 199.7,34.4 L 199.7,34.4 L 199.4,34.4 Z\" style=\"fill:#000000;fill-rule:evenodd;fill-opacity:1;stroke:#000000;stroke-width:0.0px;stroke-linecap:butt;stroke-linejoin:miter;stroke-opacity:1;\"/>\n",
       "<path class=\"atom-141\" d=\"M 334.4,83.8 L 334.4,83.9 L 334.4,83.9 L 334.4,83.9 L 334.4,84.0 L 334.4,84.0 L 334.3,84.0 L 334.3,84.0 L 334.3,84.0 L 334.3,84.1 L 334.3,84.1 L 334.3,84.1 L 334.2,84.1 L 334.2,84.1 L 334.2,84.1 L 334.2,84.1 L 334.1,84.1 L 334.1,84.1 L 334.1,84.1 L 334.1,84.1 L 334.0,84.1 L 334.0,84.1 L 334.0,84.1 L 334.0,84.1 L 333.9,84.1 L 333.9,84.1 L 333.9,84.1 L 333.9,84.1 L 333.9,84.0 L 333.8,84.0 L 333.8,84.0 L 333.8,84.0 L 333.8,84.0 L 333.8,83.9 L 333.8,83.9 L 333.8,83.9 L 333.8,83.9 L 333.8,83.8 L 333.8,83.8 L 333.8,83.8 L 333.8,83.8 L 333.8,83.7 L 333.8,83.7 L 333.8,83.7 L 333.8,83.7 L 333.9,83.6 L 333.9,83.6 L 333.9,83.6 L 333.9,83.6 L 333.9,83.6 L 334.0,83.6 L 334.0,83.6 L 334.0,83.6 L 334.0,83.6 L 334.1,83.5 L 334.1,83.5 L 334.1,83.6 L 334.1,83.6 L 334.2,83.6 L 334.2,83.6 L 334.2,83.6 L 334.2,83.6 L 334.3,83.6 L 334.3,83.6 L 334.3,83.6 L 334.3,83.7 L 334.3,83.7 L 334.3,83.7 L 334.4,83.7 L 334.4,83.7 L 334.4,83.8 L 334.4,83.8 L 334.4,83.8 L 334.4,83.8 L 334.1,83.8 Z\" style=\"fill:#000000;fill-rule:evenodd;fill-opacity:1;stroke:#000000;stroke-width:0.0px;stroke-linecap:butt;stroke-linejoin:miter;stroke-opacity:1;\"/>\n",
       "<path class=\"atom-142\" d=\"M 58.7,58.6 L 58.7,58.6 L 58.7,58.7 L 58.7,58.7 L 58.7,58.7 L 58.7,58.7 L 58.7,58.8 L 58.7,58.8 L 58.7,58.8 L 58.6,58.8 L 58.6,58.8 L 58.6,58.9 L 58.6,58.9 L 58.5,58.9 L 58.5,58.9 L 58.5,58.9 L 58.5,58.9 L 58.5,58.9 L 58.4,58.9 L 58.4,58.9 L 58.4,58.9 L 58.3,58.9 L 58.3,58.9 L 58.3,58.9 L 58.3,58.9 L 58.3,58.9 L 58.2,58.9 L 58.2,58.8 L 58.2,58.8 L 58.2,58.8 L 58.2,58.8 L 58.2,58.8 L 58.1,58.7 L 58.1,58.7 L 58.1,58.7 L 58.1,58.7 L 58.1,58.6 L 58.1,58.6 L 58.1,58.6 L 58.1,58.6 L 58.1,58.5 L 58.1,58.5 L 58.2,58.5 L 58.2,58.5 L 58.2,58.4 L 58.2,58.4 L 58.2,58.4 L 58.2,58.4 L 58.3,58.4 L 58.3,58.4 L 58.3,58.3 L 58.3,58.3 L 58.3,58.3 L 58.4,58.3 L 58.4,58.3 L 58.4,58.3 L 58.5,58.3 L 58.5,58.3 L 58.5,58.3 L 58.5,58.3 L 58.5,58.3 L 58.6,58.4 L 58.6,58.4 L 58.6,58.4 L 58.6,58.4 L 58.7,58.4 L 58.7,58.4 L 58.7,58.5 L 58.7,58.5 L 58.7,58.5 L 58.7,58.5 L 58.7,58.6 L 58.7,58.6 L 58.7,58.6 L 58.4,58.6 Z\" style=\"fill:#000000;fill-rule:evenodd;fill-opacity:1;stroke:#000000;stroke-width:0.0px;stroke-linecap:butt;stroke-linejoin:miter;stroke-opacity:1;\"/>\n",
       "<path class=\"atom-143\" d=\"M 53.8,90.3 L 53.8,90.4 L 53.8,90.4 L 53.8,90.4 L 53.7,90.4 L 53.7,90.5 L 53.7,90.5 L 53.7,90.5 L 53.7,90.5 L 53.7,90.5 L 53.7,90.6 L 53.6,90.6 L 53.6,90.6 L 53.6,90.6 L 53.6,90.6 L 53.5,90.6 L 53.5,90.6 L 53.5,90.6 L 53.5,90.6 L 53.4,90.6 L 53.4,90.6 L 53.4,90.6 L 53.4,90.6 L 53.3,90.6 L 53.3,90.6 L 53.3,90.6 L 53.3,90.6 L 53.3,90.5 L 53.2,90.5 L 53.2,90.5 L 53.2,90.5 L 53.2,90.5 L 53.2,90.4 L 53.2,90.4 L 53.2,90.4 L 53.2,90.4 L 53.2,90.3 L 53.2,90.3 L 53.2,90.3 L 53.2,90.3 L 53.2,90.2 L 53.2,90.2 L 53.2,90.2 L 53.2,90.2 L 53.2,90.1 L 53.2,90.1 L 53.3,90.1 L 53.3,90.1 L 53.3,90.1 L 53.3,90.1 L 53.3,90.1 L 53.4,90.0 L 53.4,90.0 L 53.4,90.0 L 53.4,90.0 L 53.5,90.0 L 53.5,90.0 L 53.5,90.0 L 53.5,90.0 L 53.6,90.1 L 53.6,90.1 L 53.6,90.1 L 53.6,90.1 L 53.7,90.1 L 53.7,90.1 L 53.7,90.1 L 53.7,90.2 L 53.7,90.2 L 53.7,90.2 L 53.7,90.2 L 53.8,90.3 L 53.8,90.3 L 53.8,90.3 L 53.8,90.3 L 53.5,90.3 Z\" style=\"fill:#000000;fill-rule:evenodd;fill-opacity:1;stroke:#000000;stroke-width:0.0px;stroke-linecap:butt;stroke-linejoin:miter;stroke-opacity:1;\"/>\n",
       "<path class=\"atom-144\" d=\"M 19.5,68.6 L 19.5,68.6 L 19.5,68.7 L 19.5,68.7 L 19.5,68.7 L 19.5,68.7 L 19.5,68.8 L 19.5,68.8 L 19.5,68.8 L 19.5,68.8 L 19.4,68.8 L 19.4,68.9 L 19.4,68.9 L 19.4,68.9 L 19.3,68.9 L 19.3,68.9 L 19.3,68.9 L 19.3,68.9 L 19.2,68.9 L 19.2,68.9 L 19.2,68.9 L 19.2,68.9 L 19.1,68.9 L 19.1,68.9 L 19.1,68.9 L 19.1,68.9 L 19.1,68.8 L 19.0,68.8 L 19.0,68.8 L 19.0,68.8 L 19.0,68.8 L 19.0,68.8 L 19.0,68.7 L 19.0,68.7 L 18.9,68.7 L 18.9,68.7 L 18.9,68.6 L 18.9,68.6 L 18.9,68.6 L 18.9,68.5 L 19.0,68.5 L 19.0,68.5 L 19.0,68.5 L 19.0,68.5 L 19.0,68.4 L 19.0,68.4 L 19.0,68.4 L 19.1,68.4 L 19.1,68.4 L 19.1,68.3 L 19.1,68.3 L 19.1,68.3 L 19.2,68.3 L 19.2,68.3 L 19.2,68.3 L 19.2,68.3 L 19.3,68.3 L 19.3,68.3 L 19.3,68.3 L 19.3,68.3 L 19.4,68.3 L 19.4,68.4 L 19.4,68.4 L 19.4,68.4 L 19.5,68.4 L 19.5,68.4 L 19.5,68.4 L 19.5,68.5 L 19.5,68.5 L 19.5,68.5 L 19.5,68.5 L 19.5,68.6 L 19.5,68.6 L 19.5,68.6 L 19.2,68.6 Z\" style=\"fill:#000000;fill-rule:evenodd;fill-opacity:1;stroke:#000000;stroke-width:0.0px;stroke-linecap:butt;stroke-linejoin:miter;stroke-opacity:1;\"/>\n",
       "<path class=\"atom-145\" d=\"M 258.9,15.8 L 258.9,15.9 L 258.9,15.9 L 258.9,15.9 L 258.9,15.9 L 258.8,16.0 L 258.8,16.0 L 258.8,16.0 L 258.8,16.0 L 258.8,16.0 L 258.8,16.1 L 258.8,16.1 L 258.7,16.1 L 258.7,16.1 L 258.7,16.1 L 258.7,16.1 L 258.6,16.1 L 258.6,16.1 L 258.6,16.1 L 258.6,16.1 L 258.5,16.1 L 258.5,16.1 L 258.5,16.1 L 258.5,16.1 L 258.4,16.1 L 258.4,16.1 L 258.4,16.1 L 258.4,16.0 L 258.4,16.0 L 258.3,16.0 L 258.3,16.0 L 258.3,16.0 L 258.3,15.9 L 258.3,15.9 L 258.3,15.9 L 258.3,15.9 L 258.3,15.8 L 258.3,15.8 L 258.3,15.8 L 258.3,15.8 L 258.3,15.7 L 258.3,15.7 L 258.3,15.7 L 258.3,15.7 L 258.3,15.6 L 258.4,15.6 L 258.4,15.6 L 258.4,15.6 L 258.4,15.6 L 258.4,15.6 L 258.5,15.6 L 258.5,15.5 L 258.5,15.5 L 258.5,15.5 L 258.6,15.5 L 258.6,15.5 L 258.6,15.5 L 258.6,15.5 L 258.7,15.5 L 258.7,15.6 L 258.7,15.6 L 258.7,15.6 L 258.8,15.6 L 258.8,15.6 L 258.8,15.6 L 258.8,15.6 L 258.8,15.7 L 258.8,15.7 L 258.8,15.7 L 258.9,15.7 L 258.9,15.8 L 258.9,15.8 L 258.9,15.8 L 258.9,15.8 L 258.6,15.8 Z\" style=\"fill:#000000;fill-rule:evenodd;fill-opacity:1;stroke:#000000;stroke-width:0.0px;stroke-linecap:butt;stroke-linejoin:miter;stroke-opacity:1;\"/>\n",
       "<path class=\"atom-146\" d=\"M 171.2,115.2 L 171.2,115.2 L 171.2,115.2 L 171.1,115.2 L 171.1,115.3 L 171.1,115.3 L 171.1,115.3 L 171.1,115.3 L 171.1,115.3 L 171.1,115.4 L 171.1,115.4 L 171.0,115.4 L 171.0,115.4 L 171.0,115.4 L 171.0,115.4 L 170.9,115.4 L 170.9,115.5 L 170.9,115.5 L 170.9,115.5 L 170.8,115.5 L 170.8,115.5 L 170.8,115.5 L 170.8,115.4 L 170.7,115.4 L 170.7,115.4 L 170.7,115.4 L 170.7,115.4 L 170.7,115.4 L 170.6,115.4 L 170.6,115.3 L 170.6,115.3 L 170.6,115.3 L 170.6,115.3 L 170.6,115.2 L 170.6,115.2 L 170.6,115.2 L 170.6,115.2 L 170.6,115.1 L 170.6,115.1 L 170.6,115.1 L 170.6,115.1 L 170.6,115.0 L 170.6,115.0 L 170.6,115.0 L 170.6,115.0 L 170.6,115.0 L 170.7,114.9 L 170.7,114.9 L 170.7,114.9 L 170.7,114.9 L 170.7,114.9 L 170.8,114.9 L 170.8,114.9 L 170.8,114.9 L 170.8,114.9 L 170.9,114.9 L 170.9,114.9 L 170.9,114.9 L 170.9,114.9 L 171.0,114.9 L 171.0,114.9 L 171.0,114.9 L 171.0,114.9 L 171.1,114.9 L 171.1,114.9 L 171.1,115.0 L 171.1,115.0 L 171.1,115.0 L 171.1,115.0 L 171.1,115.1 L 171.1,115.1 L 171.2,115.1 L 171.2,115.1 L 171.2,115.2 L 170.9,115.2 Z\" style=\"fill:#000000;fill-rule:evenodd;fill-opacity:1;stroke:#000000;stroke-width:0.0px;stroke-linecap:butt;stroke-linejoin:miter;stroke-opacity:1;\"/>\n",
       "<path class=\"atom-147\" d=\"M 189.5,121.0 L 189.5,121.0 L 189.5,121.0 L 189.5,121.1 L 189.4,121.1 L 189.4,121.1 L 189.4,121.1 L 189.4,121.1 L 189.4,121.2 L 189.4,121.2 L 189.4,121.2 L 189.3,121.2 L 189.3,121.2 L 189.3,121.2 L 189.3,121.3 L 189.2,121.3 L 189.2,121.3 L 189.2,121.3 L 189.2,121.3 L 189.1,121.3 L 189.1,121.3 L 189.1,121.3 L 189.1,121.3 L 189.0,121.3 L 189.0,121.2 L 189.0,121.2 L 189.0,121.2 L 189.0,121.2 L 188.9,121.2 L 188.9,121.2 L 188.9,121.1 L 188.9,121.1 L 188.9,121.1 L 188.9,121.1 L 188.9,121.0 L 188.9,121.0 L 188.9,121.0 L 188.9,121.0 L 188.9,120.9 L 188.9,120.9 L 188.9,120.9 L 188.9,120.9 L 188.9,120.8 L 188.9,120.8 L 188.9,120.8 L 188.9,120.8 L 189.0,120.8 L 189.0,120.7 L 189.0,120.7 L 189.0,120.7 L 189.0,120.7 L 189.1,120.7 L 189.1,120.7 L 189.1,120.7 L 189.1,120.7 L 189.2,120.7 L 189.2,120.7 L 189.2,120.7 L 189.2,120.7 L 189.3,120.7 L 189.3,120.7 L 189.3,120.7 L 189.3,120.7 L 189.4,120.7 L 189.4,120.8 L 189.4,120.8 L 189.4,120.8 L 189.4,120.8 L 189.4,120.9 L 189.4,120.9 L 189.5,120.9 L 189.5,120.9 L 189.5,121.0 L 189.5,121.0 L 189.2,121.0 Z\" style=\"fill:#000000;fill-rule:evenodd;fill-opacity:1;stroke:#000000;stroke-width:0.0px;stroke-linecap:butt;stroke-linejoin:miter;stroke-opacity:1;\"/>\n",
       "<path class=\"atom-148\" d=\"M 178.7,61.8 L 178.7,61.8 L 178.7,61.9 L 178.7,61.9 L 178.6,61.9 L 178.6,61.9 L 178.6,62.0 L 178.6,62.0 L 178.6,62.0 L 178.6,62.0 L 178.6,62.0 L 178.5,62.1 L 178.5,62.1 L 178.5,62.1 L 178.5,62.1 L 178.4,62.1 L 178.4,62.1 L 178.4,62.1 L 178.4,62.1 L 178.3,62.1 L 178.3,62.1 L 178.3,62.1 L 178.3,62.1 L 178.2,62.1 L 178.2,62.1 L 178.2,62.1 L 178.2,62.0 L 178.2,62.0 L 178.1,62.0 L 178.1,62.0 L 178.1,62.0 L 178.1,61.9 L 178.1,61.9 L 178.1,61.9 L 178.1,61.9 L 178.1,61.8 L 178.1,61.8 L 178.1,61.8 L 178.1,61.8 L 178.1,61.7 L 178.1,61.7 L 178.1,61.7 L 178.1,61.7 L 178.1,61.6 L 178.1,61.6 L 178.1,61.6 L 178.2,61.6 L 178.2,61.6 L 178.2,61.6 L 178.2,61.5 L 178.2,61.5 L 178.3,61.5 L 178.3,61.5 L 178.3,61.5 L 178.3,61.5 L 178.4,61.5 L 178.4,61.5 L 178.4,61.5 L 178.4,61.5 L 178.5,61.5 L 178.5,61.5 L 178.5,61.5 L 178.5,61.6 L 178.6,61.6 L 178.6,61.6 L 178.6,61.6 L 178.6,61.6 L 178.6,61.7 L 178.6,61.7 L 178.6,61.7 L 178.7,61.7 L 178.7,61.8 L 178.7,61.8 L 178.7,61.8 L 178.4,61.8 Z\" style=\"fill:#000000;fill-rule:evenodd;fill-opacity:1;stroke:#000000;stroke-width:0.0px;stroke-linecap:butt;stroke-linejoin:miter;stroke-opacity:1;\"/>\n",
       "<path class=\"atom-149\" d=\"M 341.1,124.3 L 341.1,124.3 L 341.1,124.3 L 341.1,124.3 L 341.0,124.4 L 341.0,124.4 L 341.0,124.4 L 341.0,124.4 L 341.0,124.4 L 341.0,124.5 L 341.0,124.5 L 340.9,124.5 L 340.9,124.5 L 340.9,124.5 L 340.9,124.5 L 340.8,124.5 L 340.8,124.5 L 340.8,124.5 L 340.8,124.6 L 340.7,124.6 L 340.7,124.5 L 340.7,124.5 L 340.7,124.5 L 340.6,124.5 L 340.6,124.5 L 340.6,124.5 L 340.6,124.5 L 340.6,124.5 L 340.5,124.5 L 340.5,124.4 L 340.5,124.4 L 340.5,124.4 L 340.5,124.4 L 340.5,124.3 L 340.5,124.3 L 340.5,124.3 L 340.5,124.3 L 340.5,124.2 L 340.5,124.2 L 340.5,124.2 L 340.5,124.2 L 340.5,124.1 L 340.5,124.1 L 340.5,124.1 L 340.5,124.1 L 340.5,124.1 L 340.6,124.0 L 340.6,124.0 L 340.6,124.0 L 340.6,124.0 L 340.6,124.0 L 340.7,124.0 L 340.7,124.0 L 340.7,124.0 L 340.7,124.0 L 340.8,124.0 L 340.8,124.0 L 340.8,124.0 L 340.8,124.0 L 340.9,124.0 L 340.9,124.0 L 340.9,124.0 L 340.9,124.0 L 341.0,124.0 L 341.0,124.0 L 341.0,124.1 L 341.0,124.1 L 341.0,124.1 L 341.0,124.1 L 341.0,124.2 L 341.1,124.2 L 341.1,124.2 L 341.1,124.2 L 341.1,124.3 L 340.8,124.3 Z\" style=\"fill:#000000;fill-rule:evenodd;fill-opacity:1;stroke:#000000;stroke-width:0.0px;stroke-linecap:butt;stroke-linejoin:miter;stroke-opacity:1;\"/>\n",
       "<path class=\"atom-150\" d=\"M 227.1,70.6 L 227.1,70.6 L 227.1,70.6 L 227.1,70.7 L 227.1,70.7 L 227.1,70.7 L 227.0,70.7 L 227.0,70.7 L 227.0,70.8 L 227.0,70.8 L 227.0,70.8 L 227.0,70.8 L 226.9,70.8 L 226.9,70.8 L 226.9,70.9 L 226.9,70.9 L 226.8,70.9 L 226.8,70.9 L 226.8,70.9 L 226.8,70.9 L 226.7,70.9 L 226.7,70.9 L 226.7,70.9 L 226.7,70.9 L 226.6,70.8 L 226.6,70.8 L 226.6,70.8 L 226.6,70.8 L 226.6,70.8 L 226.5,70.8 L 226.5,70.7 L 226.5,70.7 L 226.5,70.7 L 226.5,70.7 L 226.5,70.6 L 226.5,70.6 L 226.5,70.6 L 226.5,70.6 L 226.5,70.5 L 226.5,70.5 L 226.5,70.5 L 226.5,70.5 L 226.5,70.4 L 226.5,70.4 L 226.5,70.4 L 226.6,70.4 L 226.6,70.4 L 226.6,70.3 L 226.6,70.3 L 226.6,70.3 L 226.7,70.3 L 226.7,70.3 L 226.7,70.3 L 226.7,70.3 L 226.8,70.3 L 226.8,70.3 L 226.8,70.3 L 226.8,70.3 L 226.9,70.3 L 226.9,70.3 L 226.9,70.3 L 226.9,70.3 L 227.0,70.3 L 227.0,70.3 L 227.0,70.4 L 227.0,70.4 L 227.0,70.4 L 227.0,70.4 L 227.1,70.5 L 227.1,70.5 L 227.1,70.5 L 227.1,70.5 L 227.1,70.5 L 227.1,70.6 L 226.8,70.6 Z\" style=\"fill:#000000;fill-rule:evenodd;fill-opacity:1;stroke:#000000;stroke-width:0.0px;stroke-linecap:butt;stroke-linejoin:miter;stroke-opacity:1;\"/>\n",
       "<path class=\"atom-151\" d=\"M 336.1,69.4 L 336.1,69.5 L 336.1,69.5 L 336.1,69.5 L 336.1,69.5 L 336.1,69.6 L 336.0,69.6 L 336.0,69.6 L 336.0,69.6 L 336.0,69.6 L 336.0,69.7 L 336.0,69.7 L 335.9,69.7 L 335.9,69.7 L 335.9,69.7 L 335.9,69.7 L 335.8,69.7 L 335.8,69.7 L 335.8,69.7 L 335.8,69.7 L 335.7,69.7 L 335.7,69.7 L 335.7,69.7 L 335.7,69.7 L 335.6,69.7 L 335.6,69.7 L 335.6,69.7 L 335.6,69.6 L 335.6,69.6 L 335.5,69.6 L 335.5,69.6 L 335.5,69.6 L 335.5,69.5 L 335.5,69.5 L 335.5,69.5 L 335.5,69.5 L 335.5,69.4 L 335.5,69.4 L 335.5,69.4 L 335.5,69.4 L 335.5,69.3 L 335.5,69.3 L 335.5,69.3 L 335.5,69.3 L 335.5,69.2 L 335.6,69.2 L 335.6,69.2 L 335.6,69.2 L 335.6,69.2 L 335.6,69.2 L 335.7,69.2 L 335.7,69.1 L 335.7,69.1 L 335.7,69.1 L 335.8,69.1 L 335.8,69.1 L 335.8,69.1 L 335.8,69.1 L 335.9,69.1 L 335.9,69.1 L 335.9,69.2 L 335.9,69.2 L 336.0,69.2 L 336.0,69.2 L 336.0,69.2 L 336.0,69.2 L 336.0,69.3 L 336.0,69.3 L 336.1,69.3 L 336.1,69.3 L 336.1,69.3 L 336.1,69.4 L 336.1,69.4 L 336.1,69.4 L 335.8,69.4 Z\" style=\"fill:#000000;fill-rule:evenodd;fill-opacity:1;stroke:#000000;stroke-width:0.0px;stroke-linecap:butt;stroke-linejoin:miter;stroke-opacity:1;\"/>\n",
       "<path class=\"atom-152\" d=\"M 124.5,135.2 L 124.5,135.3 L 124.5,135.3 L 124.4,135.3 L 124.4,135.3 L 124.4,135.4 L 124.4,135.4 L 124.4,135.4 L 124.4,135.4 L 124.4,135.4 L 124.4,135.5 L 124.3,135.5 L 124.3,135.5 L 124.3,135.5 L 124.3,135.5 L 124.2,135.5 L 124.2,135.5 L 124.2,135.5 L 124.2,135.5 L 124.1,135.5 L 124.1,135.5 L 124.1,135.5 L 124.1,135.5 L 124.0,135.5 L 124.0,135.5 L 124.0,135.5 L 124.0,135.5 L 124.0,135.5 L 123.9,135.4 L 123.9,135.4 L 123.9,135.4 L 123.9,135.4 L 123.9,135.4 L 123.9,135.3 L 123.9,135.3 L 123.9,135.3 L 123.9,135.3 L 123.9,135.2 L 123.9,135.2 L 123.9,135.2 L 123.9,135.1 L 123.9,135.1 L 123.9,135.1 L 123.9,135.1 L 123.9,135.1 L 123.9,135.0 L 124.0,135.0 L 124.0,135.0 L 124.0,135.0 L 124.0,135.0 L 124.0,135.0 L 124.1,135.0 L 124.1,134.9 L 124.1,134.9 L 124.1,134.9 L 124.2,134.9 L 124.2,134.9 L 124.2,134.9 L 124.2,135.0 L 124.3,135.0 L 124.3,135.0 L 124.3,135.0 L 124.3,135.0 L 124.4,135.0 L 124.4,135.0 L 124.4,135.0 L 124.4,135.1 L 124.4,135.1 L 124.4,135.1 L 124.4,135.1 L 124.4,135.2 L 124.5,135.2 L 124.5,135.2 L 124.5,135.2 L 124.2,135.2 Z\" style=\"fill:#000000;fill-rule:evenodd;fill-opacity:1;stroke:#000000;stroke-width:0.0px;stroke-linecap:butt;stroke-linejoin:miter;stroke-opacity:1;\"/>\n",
       "<path class=\"atom-153\" d=\"M 109.7,45.7 L 109.7,45.8 L 109.7,45.8 L 109.7,45.8 L 109.7,45.8 L 109.7,45.9 L 109.7,45.9 L 109.6,45.9 L 109.6,45.9 L 109.6,46.0 L 109.6,46.0 L 109.6,46.0 L 109.5,46.0 L 109.5,46.0 L 109.5,46.0 L 109.5,46.0 L 109.4,46.0 L 109.4,46.0 L 109.4,46.0 L 109.4,46.0 L 109.3,46.0 L 109.3,46.0 L 109.3,46.0 L 109.3,46.0 L 109.2,46.0 L 109.2,46.0 L 109.2,46.0 L 109.2,46.0 L 109.2,45.9 L 109.2,45.9 L 109.1,45.9 L 109.1,45.9 L 109.1,45.9 L 109.1,45.8 L 109.1,45.8 L 109.1,45.8 L 109.1,45.8 L 109.1,45.7 L 109.1,45.7 L 109.1,45.7 L 109.1,45.7 L 109.1,45.6 L 109.1,45.6 L 109.1,45.6 L 109.2,45.6 L 109.2,45.5 L 109.2,45.5 L 109.2,45.5 L 109.2,45.5 L 109.2,45.5 L 109.3,45.5 L 109.3,45.5 L 109.3,45.5 L 109.3,45.5 L 109.4,45.4 L 109.4,45.4 L 109.4,45.4 L 109.4,45.5 L 109.5,45.5 L 109.5,45.5 L 109.5,45.5 L 109.5,45.5 L 109.6,45.5 L 109.6,45.5 L 109.6,45.5 L 109.6,45.6 L 109.6,45.6 L 109.7,45.6 L 109.7,45.6 L 109.7,45.6 L 109.7,45.7 L 109.7,45.7 L 109.7,45.7 L 109.7,45.7 L 109.4,45.7 Z\" style=\"fill:#000000;fill-rule:evenodd;fill-opacity:1;stroke:#000000;stroke-width:0.0px;stroke-linecap:butt;stroke-linejoin:miter;stroke-opacity:1;\"/>\n",
       "<path class=\"atom-154\" d=\"M 81.2,126.5 L 81.2,126.5 L 81.2,126.5 L 81.2,126.5 L 81.1,126.6 L 81.1,126.6 L 81.1,126.6 L 81.1,126.6 L 81.1,126.7 L 81.1,126.7 L 81.1,126.7 L 81.0,126.7 L 81.0,126.7 L 81.0,126.7 L 81.0,126.8 L 80.9,126.8 L 80.9,126.8 L 80.9,126.8 L 80.9,126.8 L 80.8,126.8 L 80.8,126.8 L 80.8,126.8 L 80.8,126.8 L 80.7,126.7 L 80.7,126.7 L 80.7,126.7 L 80.7,126.7 L 80.7,126.7 L 80.6,126.7 L 80.6,126.7 L 80.6,126.6 L 80.6,126.6 L 80.6,126.6 L 80.6,126.6 L 80.6,126.5 L 80.6,126.5 L 80.6,126.5 L 80.6,126.5 L 80.6,126.4 L 80.6,126.4 L 80.6,126.4 L 80.6,126.4 L 80.6,126.3 L 80.6,126.3 L 80.6,126.3 L 80.6,126.3 L 80.7,126.3 L 80.7,126.2 L 80.7,126.2 L 80.7,126.2 L 80.7,126.2 L 80.8,126.2 L 80.8,126.2 L 80.8,126.2 L 80.8,126.2 L 80.9,126.2 L 80.9,126.2 L 80.9,126.2 L 80.9,126.2 L 81.0,126.2 L 81.0,126.2 L 81.0,126.2 L 81.0,126.2 L 81.1,126.2 L 81.1,126.3 L 81.1,126.3 L 81.1,126.3 L 81.1,126.3 L 81.1,126.3 L 81.1,126.4 L 81.2,126.4 L 81.2,126.4 L 81.2,126.4 L 81.2,126.5 L 80.9,126.5 Z\" style=\"fill:#000000;fill-rule:evenodd;fill-opacity:1;stroke:#000000;stroke-width:0.0px;stroke-linecap:butt;stroke-linejoin:miter;stroke-opacity:1;\"/>\n",
       "<path class=\"atom-155\" d=\"M 128.9,44.4 L 128.9,44.4 L 128.8,44.4 L 128.8,44.4 L 128.8,44.5 L 128.8,44.5 L 128.8,44.5 L 128.8,44.5 L 128.8,44.5 L 128.8,44.6 L 128.7,44.6 L 128.7,44.6 L 128.7,44.6 L 128.7,44.6 L 128.7,44.6 L 128.6,44.6 L 128.6,44.6 L 128.6,44.7 L 128.6,44.7 L 128.5,44.7 L 128.5,44.6 L 128.5,44.6 L 128.5,44.6 L 128.4,44.6 L 128.4,44.6 L 128.4,44.6 L 128.4,44.6 L 128.3,44.6 L 128.3,44.6 L 128.3,44.5 L 128.3,44.5 L 128.3,44.5 L 128.3,44.5 L 128.3,44.4 L 128.3,44.4 L 128.3,44.4 L 128.3,44.4 L 128.3,44.3 L 128.3,44.3 L 128.3,44.3 L 128.3,44.3 L 128.3,44.2 L 128.3,44.2 L 128.3,44.2 L 128.3,44.2 L 128.3,44.2 L 128.3,44.1 L 128.4,44.1 L 128.4,44.1 L 128.4,44.1 L 128.4,44.1 L 128.5,44.1 L 128.5,44.1 L 128.5,44.1 L 128.5,44.1 L 128.6,44.1 L 128.6,44.1 L 128.6,44.1 L 128.6,44.1 L 128.7,44.1 L 128.7,44.1 L 128.7,44.1 L 128.7,44.1 L 128.7,44.1 L 128.8,44.1 L 128.8,44.2 L 128.8,44.2 L 128.8,44.2 L 128.8,44.2 L 128.8,44.3 L 128.8,44.3 L 128.8,44.3 L 128.9,44.3 L 128.9,44.4 L 128.6,44.4 Z\" style=\"fill:#000000;fill-rule:evenodd;fill-opacity:1;stroke:#000000;stroke-width:0.0px;stroke-linecap:butt;stroke-linejoin:miter;stroke-opacity:1;\"/>\n",
       "<path class=\"atom-156\" d=\"M 127.2,58.8 L 127.1,58.8 L 127.1,58.8 L 127.1,58.9 L 127.1,58.9 L 127.1,58.9 L 127.1,58.9 L 127.1,58.9 L 127.1,59.0 L 127.1,59.0 L 127.0,59.0 L 127.0,59.0 L 127.0,59.0 L 127.0,59.0 L 127.0,59.1 L 126.9,59.1 L 126.9,59.1 L 126.9,59.1 L 126.9,59.1 L 126.8,59.1 L 126.8,59.1 L 126.8,59.1 L 126.8,59.1 L 126.7,59.1 L 126.7,59.0 L 126.7,59.0 L 126.7,59.0 L 126.6,59.0 L 126.6,59.0 L 126.6,59.0 L 126.6,58.9 L 126.6,58.9 L 126.6,58.9 L 126.6,58.9 L 126.6,58.8 L 126.6,58.8 L 126.6,58.8 L 126.6,58.8 L 126.6,58.7 L 126.6,58.7 L 126.6,58.7 L 126.6,58.7 L 126.6,58.6 L 126.6,58.6 L 126.6,58.6 L 126.6,58.6 L 126.6,58.6 L 126.7,58.5 L 126.7,58.5 L 126.7,58.5 L 126.7,58.5 L 126.8,58.5 L 126.8,58.5 L 126.8,58.5 L 126.8,58.5 L 126.9,58.5 L 126.9,58.5 L 126.9,58.5 L 126.9,58.5 L 127.0,58.5 L 127.0,58.5 L 127.0,58.5 L 127.0,58.5 L 127.0,58.5 L 127.1,58.6 L 127.1,58.6 L 127.1,58.6 L 127.1,58.6 L 127.1,58.7 L 127.1,58.7 L 127.1,58.7 L 127.1,58.7 L 127.1,58.8 L 127.2,58.8 L 126.9,58.8 Z\" style=\"fill:#000000;fill-rule:evenodd;fill-opacity:1;stroke:#000000;stroke-width:0.0px;stroke-linecap:butt;stroke-linejoin:miter;stroke-opacity:1;\"/>\n",
       "<path class=\"atom-157\" d=\"M 191.2,106.6 L 191.2,106.6 L 191.2,106.6 L 191.2,106.6 L 191.2,106.7 L 191.1,106.7 L 191.1,106.7 L 191.1,106.7 L 191.1,106.7 L 191.1,106.8 L 191.1,106.8 L 191.0,106.8 L 191.0,106.8 L 191.0,106.8 L 191.0,106.8 L 191.0,106.8 L 190.9,106.8 L 190.9,106.9 L 190.9,106.9 L 190.9,106.9 L 190.8,106.9 L 190.8,106.8 L 190.8,106.8 L 190.8,106.8 L 190.7,106.8 L 190.7,106.8 L 190.7,106.8 L 190.7,106.8 L 190.6,106.8 L 190.6,106.7 L 190.6,106.7 L 190.6,106.7 L 190.6,106.7 L 190.6,106.6 L 190.6,106.6 L 190.6,106.6 L 190.6,106.6 L 190.6,106.5 L 190.6,106.5 L 190.6,106.5 L 190.6,106.5 L 190.6,106.4 L 190.6,106.4 L 190.6,106.4 L 190.6,106.4 L 190.6,106.4 L 190.7,106.3 L 190.7,106.3 L 190.7,106.3 L 190.7,106.3 L 190.8,106.3 L 190.8,106.3 L 190.8,106.3 L 190.8,106.3 L 190.9,106.3 L 190.9,106.3 L 190.9,106.3 L 190.9,106.3 L 191.0,106.3 L 191.0,106.3 L 191.0,106.3 L 191.0,106.3 L 191.0,106.3 L 191.1,106.3 L 191.1,106.3 L 191.1,106.4 L 191.1,106.4 L 191.1,106.4 L 191.1,106.4 L 191.2,106.5 L 191.2,106.5 L 191.2,106.5 L 191.2,106.5 L 191.2,106.6 L 190.9,106.6 Z\" style=\"fill:#000000;fill-rule:evenodd;fill-opacity:1;stroke:#000000;stroke-width:0.0px;stroke-linecap:butt;stroke-linejoin:miter;stroke-opacity:1;\"/>\n",
       "<path class=\"atom-158\" d=\"M 94.5,120.7 L 94.5,120.8 L 94.5,120.8 L 94.5,120.8 L 94.5,120.8 L 94.5,120.9 L 94.5,120.9 L 94.5,120.9 L 94.4,120.9 L 94.4,120.9 L 94.4,121.0 L 94.4,121.0 L 94.4,121.0 L 94.3,121.0 L 94.3,121.0 L 94.3,121.0 L 94.3,121.0 L 94.2,121.0 L 94.2,121.0 L 94.2,121.0 L 94.2,121.0 L 94.1,121.0 L 94.1,121.0 L 94.1,121.0 L 94.1,121.0 L 94.0,121.0 L 94.0,121.0 L 94.0,121.0 L 94.0,120.9 L 94.0,120.9 L 94.0,120.9 L 93.9,120.9 L 93.9,120.8 L 93.9,120.8 L 93.9,120.8 L 93.9,120.8 L 93.9,120.7 L 93.9,120.7 L 93.9,120.7 L 93.9,120.7 L 93.9,120.6 L 93.9,120.6 L 93.9,120.6 L 94.0,120.6 L 94.0,120.6 L 94.0,120.5 L 94.0,120.5 L 94.0,120.5 L 94.0,120.5 L 94.1,120.5 L 94.1,120.5 L 94.1,120.4 L 94.1,120.4 L 94.2,120.4 L 94.2,120.4 L 94.2,120.4 L 94.2,120.4 L 94.3,120.4 L 94.3,120.4 L 94.3,120.5 L 94.3,120.5 L 94.4,120.5 L 94.4,120.5 L 94.4,120.5 L 94.4,120.5 L 94.4,120.5 L 94.5,120.6 L 94.5,120.6 L 94.5,120.6 L 94.5,120.6 L 94.5,120.7 L 94.5,120.7 L 94.5,120.7 L 94.5,120.7 L 94.2,120.7 Z\" style=\"fill:#000000;fill-rule:evenodd;fill-opacity:1;stroke:#000000;stroke-width:0.0px;stroke-linecap:butt;stroke-linejoin:miter;stroke-opacity:1;\"/>\n",
       "</svg>"
      ],
      "text/plain": [
       "<IPython.core.display.SVG object>"
      ]
     },
     "execution_count": 39,
     "metadata": {},
     "output_type": "execute_result"
    }
   ],
   "source": [
    "big = \"{[][$1|2|]CC=CC[$1|2|], [$1]CC([<])C([<])C[$1], [>]S[$2|10|], [$2]S[$2]; [$1][H], [<][H], [>][H], [$2][H][]}|gauss(2500,500)|.|1000|\"\n",
    "big_smiles_gen(big, 0)"
   ]
  },
  {
   "cell_type": "markdown",
   "id": "c1ffe575",
   "metadata": {},
   "source": [
    "# Example stochastic polymer"
   ]
  },
  {
   "cell_type": "code",
   "execution_count": 40,
   "id": "33d353e3",
   "metadata": {},
   "outputs": [
    {
     "name": "stdout",
     "output_type": "stream",
     "text": [
      "26\n"
     ]
    },
    {
     "data": {
      "image/svg+xml": [
       "<svg xmlns=\"http://www.w3.org/2000/svg\" xmlns:rdkit=\"http://www.rdkit.org/xml\" xmlns:xlink=\"http://www.w3.org/1999/xlink\" version=\"1.1\" baseProfile=\"full\" xml:space=\"preserve\" width=\"450px\" height=\"150px\" viewBox=\"0 0 450 150\">\n",
       "<!-- END OF HEADER -->\n",
       "<rect style=\"opacity:1.0;fill:#FFFFFF;stroke:none\" width=\"450.0\" height=\"150.0\" x=\"0.0\" y=\"0.0\"> </rect>\n",
       "<path class=\"bond-0 atom-0 atom-1\" d=\"M 348.2,25.3 L 354.8,27.6\" style=\"fill:none;fill-rule:evenodd;stroke:#0000FF;stroke-width:2.0px;stroke-linecap:butt;stroke-linejoin:miter;stroke-opacity:1\"/>\n",
       "<path class=\"bond-0 atom-0 atom-1\" d=\"M 354.8,27.6 L 361.4,29.8\" style=\"fill:none;fill-rule:evenodd;stroke:#000000;stroke-width:2.0px;stroke-linecap:butt;stroke-linejoin:miter;stroke-opacity:1\"/>\n",
       "<path class=\"bond-1 atom-2 atom-3\" d=\"M 364.6,45.9 L 380.1,51.3\" style=\"fill:none;fill-rule:evenodd;stroke:#000000;stroke-width:2.0px;stroke-linecap:butt;stroke-linejoin:miter;stroke-opacity:1\"/>\n",
       "<path class=\"bond-2 atom-3 atom-4\" d=\"M 380.1,51.3 L 383.2,67.4\" style=\"fill:none;fill-rule:evenodd;stroke:#000000;stroke-width:2.0px;stroke-linecap:butt;stroke-linejoin:miter;stroke-opacity:1\"/>\n",
       "<path class=\"bond-2 atom-3 atom-4\" d=\"M 383.8,53.0 L 386.0,64.3\" style=\"fill:none;fill-rule:evenodd;stroke:#000000;stroke-width:2.0px;stroke-linecap:butt;stroke-linejoin:miter;stroke-opacity:1\"/>\n",
       "<path class=\"bond-3 atom-4 atom-5\" d=\"M 383.2,67.4 L 398.8,72.7\" style=\"fill:none;fill-rule:evenodd;stroke:#000000;stroke-width:2.0px;stroke-linecap:butt;stroke-linejoin:miter;stroke-opacity:1\"/>\n",
       "<path class=\"bond-4 atom-5 atom-6\" d=\"M 398.8,72.7 L 411.1,61.9\" style=\"fill:none;fill-rule:evenodd;stroke:#000000;stroke-width:2.0px;stroke-linecap:butt;stroke-linejoin:miter;stroke-opacity:1\"/>\n",
       "<path class=\"bond-4 atom-5 atom-6\" d=\"M 398.5,68.6 L 407.1,61.1\" style=\"fill:none;fill-rule:evenodd;stroke:#000000;stroke-width:2.0px;stroke-linecap:butt;stroke-linejoin:miter;stroke-opacity:1\"/>\n",
       "<path class=\"bond-5 atom-6 atom-7\" d=\"M 411.1,61.9 L 408.0,45.8\" style=\"fill:none;fill-rule:evenodd;stroke:#000000;stroke-width:2.0px;stroke-linecap:butt;stroke-linejoin:miter;stroke-opacity:1\"/>\n",
       "<path class=\"bond-6 atom-7 atom-8\" d=\"M 408.0,45.8 L 392.5,40.5\" style=\"fill:none;fill-rule:evenodd;stroke:#000000;stroke-width:2.0px;stroke-linecap:butt;stroke-linejoin:miter;stroke-opacity:1\"/>\n",
       "<path class=\"bond-6 atom-7 atom-8\" d=\"M 404.6,48.1 L 393.7,44.4\" style=\"fill:none;fill-rule:evenodd;stroke:#000000;stroke-width:2.0px;stroke-linecap:butt;stroke-linejoin:miter;stroke-opacity:1\"/>\n",
       "<path class=\"bond-7 atom-8 atom-3\" d=\"M 392.5,40.5 L 380.1,51.3\" style=\"fill:none;fill-rule:evenodd;stroke:#000000;stroke-width:2.0px;stroke-linecap:butt;stroke-linejoin:miter;stroke-opacity:1\"/>\n",
       "<path class=\"bond-8 atom-1 atom-2\" d=\"M 361.4,29.8 L 364.6,45.9\" style=\"fill:none;fill-rule:evenodd;stroke:#000000;stroke-width:2.0px;stroke-linecap:butt;stroke-linejoin:miter;stroke-opacity:1\"/>\n",
       "<path class=\"bond-9 atom-9 atom-10\" d=\"M 352.2,56.7 L 336.7,51.4\" style=\"fill:none;fill-rule:evenodd;stroke:#000000;stroke-width:2.0px;stroke-linecap:butt;stroke-linejoin:miter;stroke-opacity:1\"/>\n",
       "<path class=\"bond-10 atom-2 atom-9\" d=\"M 364.6,45.9 L 352.2,56.7\" style=\"fill:none;fill-rule:evenodd;stroke:#000000;stroke-width:2.0px;stroke-linecap:butt;stroke-linejoin:miter;stroke-opacity:1\"/>\n",
       "<path class=\"bond-11 atom-11 atom-12\" d=\"M 308.8,56.8 L 324.3,62.2\" style=\"fill:none;fill-rule:evenodd;stroke:#000000;stroke-width:2.0px;stroke-linecap:butt;stroke-linejoin:miter;stroke-opacity:1\"/>\n",
       "<path class=\"bond-12 atom-10 atom-12\" d=\"M 336.7,51.4 L 324.3,62.2\" style=\"fill:none;fill-rule:evenodd;stroke:#000000;stroke-width:2.0px;stroke-linecap:butt;stroke-linejoin:miter;stroke-opacity:1\"/>\n",
       "<path class=\"bond-13 atom-13 atom-14\" d=\"M 296.4,67.6 L 280.9,62.3\" style=\"fill:none;fill-rule:evenodd;stroke:#000000;stroke-width:2.0px;stroke-linecap:butt;stroke-linejoin:miter;stroke-opacity:1\"/>\n",
       "<path class=\"bond-14 atom-11 atom-13\" d=\"M 308.8,56.8 L 296.4,67.6\" style=\"fill:none;fill-rule:evenodd;stroke:#000000;stroke-width:2.0px;stroke-linecap:butt;stroke-linejoin:miter;stroke-opacity:1\"/>\n",
       "<path class=\"bond-15 atom-15 atom-16\" d=\"M 268.5,73.1 L 253.0,67.7\" style=\"fill:none;fill-rule:evenodd;stroke:#000000;stroke-width:2.0px;stroke-linecap:butt;stroke-linejoin:miter;stroke-opacity:1\"/>\n",
       "<path class=\"bond-16 atom-14 atom-15\" d=\"M 280.9,62.3 L 268.5,73.1\" style=\"fill:none;fill-rule:evenodd;stroke:#000000;stroke-width:2.0px;stroke-linecap:butt;stroke-linejoin:miter;stroke-opacity:1\"/>\n",
       "<path class=\"bond-17 atom-17 atom-18\" d=\"M 225.1,73.2 L 240.6,78.5\" style=\"fill:none;fill-rule:evenodd;stroke:#000000;stroke-width:2.0px;stroke-linecap:butt;stroke-linejoin:miter;stroke-opacity:1\"/>\n",
       "<path class=\"bond-18 atom-16 atom-18\" d=\"M 253.0,67.7 L 240.6,78.5\" style=\"fill:none;fill-rule:evenodd;stroke:#000000;stroke-width:2.0px;stroke-linecap:butt;stroke-linejoin:miter;stroke-opacity:1\"/>\n",
       "<path class=\"bond-19 atom-19 atom-20\" d=\"M 197.2,78.6 L 212.7,84.0\" style=\"fill:none;fill-rule:evenodd;stroke:#000000;stroke-width:2.0px;stroke-linecap:butt;stroke-linejoin:miter;stroke-opacity:1\"/>\n",
       "<path class=\"bond-20 atom-17 atom-20\" d=\"M 225.1,73.2 L 212.7,84.0\" style=\"fill:none;fill-rule:evenodd;stroke:#000000;stroke-width:2.0px;stroke-linecap:butt;stroke-linejoin:miter;stroke-opacity:1\"/>\n",
       "<path class=\"bond-21 atom-21 atom-22\" d=\"M 169.3,84.1 L 184.8,89.4\" style=\"fill:none;fill-rule:evenodd;stroke:#000000;stroke-width:2.0px;stroke-linecap:butt;stroke-linejoin:miter;stroke-opacity:1\"/>\n",
       "<path class=\"bond-22 atom-19 atom-22\" d=\"M 197.2,78.6 L 184.8,89.4\" style=\"fill:none;fill-rule:evenodd;stroke:#000000;stroke-width:2.0px;stroke-linecap:butt;stroke-linejoin:miter;stroke-opacity:1\"/>\n",
       "<path class=\"bond-23 atom-23 atom-24\" d=\"M 156.9,94.9 L 160.1,111.0\" style=\"fill:none;fill-rule:evenodd;stroke:#000000;stroke-width:2.0px;stroke-linecap:butt;stroke-linejoin:miter;stroke-opacity:1\"/>\n",
       "<path class=\"bond-24 atom-24 atom-25\" d=\"M 160.1,111.0 L 147.7,121.8\" style=\"fill:none;fill-rule:evenodd;stroke:#000000;stroke-width:2.0px;stroke-linecap:butt;stroke-linejoin:miter;stroke-opacity:1\"/>\n",
       "<path class=\"bond-24 atom-24 atom-25\" d=\"M 160.4,115.1 L 151.7,122.6\" style=\"fill:none;fill-rule:evenodd;stroke:#000000;stroke-width:2.0px;stroke-linecap:butt;stroke-linejoin:miter;stroke-opacity:1\"/>\n",
       "<path class=\"bond-25 atom-25 atom-26\" d=\"M 147.7,121.8 L 150.9,137.9\" style=\"fill:none;fill-rule:evenodd;stroke:#000000;stroke-width:2.0px;stroke-linecap:butt;stroke-linejoin:miter;stroke-opacity:1\"/>\n",
       "<path class=\"bond-26 atom-26 atom-27\" d=\"M 150.9,137.9 L 166.4,143.2\" style=\"fill:none;fill-rule:evenodd;stroke:#000000;stroke-width:2.0px;stroke-linecap:butt;stroke-linejoin:miter;stroke-opacity:1\"/>\n",
       "<path class=\"bond-26 atom-26 atom-27\" d=\"M 154.3,135.6 L 165.1,139.3\" style=\"fill:none;fill-rule:evenodd;stroke:#000000;stroke-width:2.0px;stroke-linecap:butt;stroke-linejoin:miter;stroke-opacity:1\"/>\n",
       "<path class=\"bond-27 atom-27 atom-28\" d=\"M 166.4,143.2 L 178.8,132.4\" style=\"fill:none;fill-rule:evenodd;stroke:#000000;stroke-width:2.0px;stroke-linecap:butt;stroke-linejoin:miter;stroke-opacity:1\"/>\n",
       "<path class=\"bond-28 atom-28 atom-29\" d=\"M 178.8,132.4 L 175.6,116.3\" style=\"fill:none;fill-rule:evenodd;stroke:#000000;stroke-width:2.0px;stroke-linecap:butt;stroke-linejoin:miter;stroke-opacity:1\"/>\n",
       "<path class=\"bond-28 atom-28 atom-29\" d=\"M 175.1,130.6 L 172.9,119.3\" style=\"fill:none;fill-rule:evenodd;stroke:#000000;stroke-width:2.0px;stroke-linecap:butt;stroke-linejoin:miter;stroke-opacity:1\"/>\n",
       "<path class=\"bond-29 atom-29 atom-24\" d=\"M 175.6,116.3 L 160.1,111.0\" style=\"fill:none;fill-rule:evenodd;stroke:#000000;stroke-width:2.0px;stroke-linecap:butt;stroke-linejoin:miter;stroke-opacity:1\"/>\n",
       "<path class=\"bond-30 atom-21 atom-23\" d=\"M 169.3,84.1 L 156.9,94.9\" style=\"fill:none;fill-rule:evenodd;stroke:#000000;stroke-width:2.0px;stroke-linecap:butt;stroke-linejoin:miter;stroke-opacity:1\"/>\n",
       "<path class=\"bond-31 atom-30 atom-31\" d=\"M 129.1,100.3 L 141.4,89.5\" style=\"fill:none;fill-rule:evenodd;stroke:#000000;stroke-width:2.0px;stroke-linecap:butt;stroke-linejoin:miter;stroke-opacity:1\"/>\n",
       "<path class=\"bond-32 atom-23 atom-31\" d=\"M 156.9,94.9 L 141.4,89.5\" style=\"fill:none;fill-rule:evenodd;stroke:#000000;stroke-width:2.0px;stroke-linecap:butt;stroke-linejoin:miter;stroke-opacity:1\"/>\n",
       "<path class=\"bond-33 atom-32 atom-33\" d=\"M 91.7,57.5 L 94.9,73.6\" style=\"fill:none;fill-rule:evenodd;stroke:#000000;stroke-width:2.0px;stroke-linecap:butt;stroke-linejoin:miter;stroke-opacity:1\"/>\n",
       "<path class=\"bond-34 atom-33 atom-34\" d=\"M 94.9,73.6 L 110.4,78.9\" style=\"fill:none;fill-rule:evenodd;stroke:#000000;stroke-width:2.0px;stroke-linecap:butt;stroke-linejoin:miter;stroke-opacity:1\"/>\n",
       "<path class=\"bond-35 atom-34 atom-35\" d=\"M 110.4,78.9 L 122.8,68.1\" style=\"fill:none;fill-rule:evenodd;stroke:#000000;stroke-width:2.0px;stroke-linecap:butt;stroke-linejoin:miter;stroke-opacity:1\"/>\n",
       "<path class=\"bond-36 atom-34 atom-36\" d=\"M 110.4,78.9 L 113.5,95.0\" style=\"fill:none;fill-rule:evenodd;stroke:#000000;stroke-width:2.0px;stroke-linecap:butt;stroke-linejoin:miter;stroke-opacity:1\"/>\n",
       "<path class=\"bond-37 atom-36 atom-37\" d=\"M 113.5,95.0 L 101.2,105.8\" style=\"fill:none;fill-rule:evenodd;stroke:#000000;stroke-width:2.0px;stroke-linecap:butt;stroke-linejoin:miter;stroke-opacity:1\"/>\n",
       "<path class=\"bond-38 atom-30 atom-36\" d=\"M 129.1,100.3 L 113.5,95.0\" style=\"fill:none;fill-rule:evenodd;stroke:#000000;stroke-width:2.0px;stroke-linecap:butt;stroke-linejoin:miter;stroke-opacity:1\"/>\n",
       "<path class=\"bond-39 atom-38 atom-39\" d=\"M 119.6,52.0 L 132.0,41.2\" style=\"fill:none;fill-rule:evenodd;stroke:#000000;stroke-width:2.0px;stroke-linecap:butt;stroke-linejoin:miter;stroke-opacity:1\"/>\n",
       "<path class=\"bond-40 atom-39 atom-40\" d=\"M 132.0,41.2 L 128.8,25.1\" style=\"fill:none;fill-rule:evenodd;stroke:#000000;stroke-width:2.0px;stroke-linecap:butt;stroke-linejoin:miter;stroke-opacity:1\"/>\n",
       "<path class=\"bond-40 atom-39 atom-40\" d=\"M 134.7,38.2 L 132.5,26.9\" style=\"fill:none;fill-rule:evenodd;stroke:#000000;stroke-width:2.0px;stroke-linecap:butt;stroke-linejoin:miter;stroke-opacity:1\"/>\n",
       "<path class=\"bond-41 atom-40 atom-41\" d=\"M 128.8,25.1 L 141.2,14.3\" style=\"fill:none;fill-rule:evenodd;stroke:#000000;stroke-width:2.0px;stroke-linecap:butt;stroke-linejoin:miter;stroke-opacity:1\"/>\n",
       "<path class=\"bond-42 atom-41 atom-42\" d=\"M 141.2,14.3 L 156.7,19.7\" style=\"fill:none;fill-rule:evenodd;stroke:#000000;stroke-width:2.0px;stroke-linecap:butt;stroke-linejoin:miter;stroke-opacity:1\"/>\n",
       "<path class=\"bond-42 atom-41 atom-42\" d=\"M 142.5,18.2 L 153.3,22.0\" style=\"fill:none;fill-rule:evenodd;stroke:#000000;stroke-width:2.0px;stroke-linecap:butt;stroke-linejoin:miter;stroke-opacity:1\"/>\n",
       "<path class=\"bond-43 atom-42 atom-43\" d=\"M 156.7,19.7 L 159.9,35.8\" style=\"fill:none;fill-rule:evenodd;stroke:#000000;stroke-width:2.0px;stroke-linecap:butt;stroke-linejoin:miter;stroke-opacity:1\"/>\n",
       "<path class=\"bond-44 atom-43 atom-44\" d=\"M 159.9,35.8 L 147.5,46.6\" style=\"fill:none;fill-rule:evenodd;stroke:#000000;stroke-width:2.0px;stroke-linecap:butt;stroke-linejoin:miter;stroke-opacity:1\"/>\n",
       "<path class=\"bond-44 atom-43 atom-44\" d=\"M 155.9,34.9 L 147.2,42.5\" style=\"fill:none;fill-rule:evenodd;stroke:#000000;stroke-width:2.0px;stroke-linecap:butt;stroke-linejoin:miter;stroke-opacity:1\"/>\n",
       "<path class=\"bond-45 atom-44 atom-39\" d=\"M 147.5,46.6 L 132.0,41.2\" style=\"fill:none;fill-rule:evenodd;stroke:#000000;stroke-width:2.0px;stroke-linecap:butt;stroke-linejoin:miter;stroke-opacity:1\"/>\n",
       "<path class=\"bond-46 atom-35 atom-38\" d=\"M 122.8,68.1 L 119.6,52.0\" style=\"fill:none;fill-rule:evenodd;stroke:#000000;stroke-width:2.0px;stroke-linecap:butt;stroke-linejoin:miter;stroke-opacity:1\"/>\n",
       "<path class=\"bond-47 atom-45 atom-46\" d=\"M 73.0,36.0 L 76.2,52.1\" style=\"fill:none;fill-rule:evenodd;stroke:#000000;stroke-width:2.0px;stroke-linecap:butt;stroke-linejoin:miter;stroke-opacity:1\"/>\n",
       "<path class=\"bond-48 atom-32 atom-46\" d=\"M 91.7,57.5 L 76.2,52.1\" style=\"fill:none;fill-rule:evenodd;stroke:#000000;stroke-width:2.0px;stroke-linecap:butt;stroke-linejoin:miter;stroke-opacity:1\"/>\n",
       "<path class=\"bond-49 atom-47 atom-48\" d=\"M 104.1,46.7 L 100.9,30.6\" style=\"fill:none;fill-rule:evenodd;stroke:#000000;stroke-width:2.0px;stroke-linecap:butt;stroke-linejoin:miter;stroke-opacity:1\"/>\n",
       "<path class=\"bond-50 atom-38 atom-47\" d=\"M 119.6,52.0 L 104.1,46.7\" style=\"fill:none;fill-rule:evenodd;stroke:#000000;stroke-width:2.0px;stroke-linecap:butt;stroke-linejoin:miter;stroke-opacity:1\"/>\n",
       "<path class=\"bond-51 atom-49 atom-50\" d=\"M 57.5,30.7 L 56.2,24.1\" style=\"fill:none;fill-rule:evenodd;stroke:#000000;stroke-width:2.0px;stroke-linecap:butt;stroke-linejoin:miter;stroke-opacity:1\"/>\n",
       "<path class=\"bond-51 atom-49 atom-50\" d=\"M 56.2,24.1 L 55.0,17.6\" style=\"fill:none;fill-rule:evenodd;stroke:#FF0000;stroke-width:2.0px;stroke-linecap:butt;stroke-linejoin:miter;stroke-opacity:1\"/>\n",
       "<path class=\"bond-52 atom-50 atom-51\" d=\"M 51.7,13.7 L 45.3,11.5\" style=\"fill:none;fill-rule:evenodd;stroke:#FF0000;stroke-width:2.0px;stroke-linecap:butt;stroke-linejoin:miter;stroke-opacity:1\"/>\n",
       "<path class=\"bond-52 atom-50 atom-51\" d=\"M 45.3,11.5 L 38.9,9.3\" style=\"fill:none;fill-rule:evenodd;stroke:#000000;stroke-width:2.0px;stroke-linecap:butt;stroke-linejoin:miter;stroke-opacity:1\"/>\n",
       "<path class=\"bond-53 atom-45 atom-49\" d=\"M 73.0,36.0 L 57.5,30.7\" style=\"fill:none;fill-rule:evenodd;stroke:#000000;stroke-width:2.0px;stroke-linecap:butt;stroke-linejoin:miter;stroke-opacity:1\"/>\n",
       "<path class=\"bond-54 atom-52 atom-53\" d=\"M 85.4,25.2 L 84.1,18.6\" style=\"fill:none;fill-rule:evenodd;stroke:#000000;stroke-width:2.0px;stroke-linecap:butt;stroke-linejoin:miter;stroke-opacity:1\"/>\n",
       "<path class=\"bond-54 atom-52 atom-53\" d=\"M 84.1,18.6 L 82.8,12.0\" style=\"fill:none;fill-rule:evenodd;stroke:#0000FF;stroke-width:2.0px;stroke-linecap:butt;stroke-linejoin:miter;stroke-opacity:1\"/>\n",
       "<path class=\"bond-55 atom-48 atom-52\" d=\"M 100.9,30.6 L 85.4,25.2\" style=\"fill:none;fill-rule:evenodd;stroke:#000000;stroke-width:2.0px;stroke-linecap:butt;stroke-linejoin:miter;stroke-opacity:1\"/>\n",
       "<path class=\"atom-0\" d=\"M 337.6 22.2 L 338.3 22.2 L 338.3 24.1 L 340.6 24.1 L 340.6 22.2 L 341.3 22.2 L 341.3 26.8 L 340.6 26.8 L 340.6 24.7 L 338.3 24.7 L 338.3 26.8 L 337.6 26.8 L 337.6 22.2 \" fill=\"#0000FF\"/>\n",
       "<path class=\"atom-0\" d=\"M 341.8 26.7 Q 341.9 26.4, 342.2 26.2 Q 342.5 26.0, 342.9 26.0 Q 343.3 26.0, 343.6 26.3 Q 343.8 26.5, 343.8 27.0 Q 343.8 27.4, 343.5 27.9 Q 343.2 28.3, 342.5 28.8 L 343.9 28.8 L 343.9 29.1 L 341.8 29.1 L 341.8 28.9 Q 342.4 28.4, 342.7 28.1 Q 343.1 27.8, 343.2 27.6 Q 343.4 27.3, 343.4 27.0 Q 343.4 26.7, 343.3 26.6 Q 343.1 26.4, 342.9 26.4 Q 342.6 26.4, 342.4 26.5 Q 342.3 26.6, 342.2 26.8 L 341.8 26.7 \" fill=\"#0000FF\"/>\n",
       "<path class=\"atom-0\" d=\"M 344.9 22.2 L 346.4 24.6 Q 346.6 24.9, 346.8 25.3 Q 347.0 25.8, 347.1 25.8 L 347.1 22.2 L 347.7 22.2 L 347.7 26.8 L 347.0 26.8 L 345.4 24.1 Q 345.2 23.8, 345.0 23.5 Q 344.8 23.1, 344.8 23.0 L 344.8 26.8 L 344.1 26.8 L 344.1 22.2 L 344.9 22.2 \" fill=\"#0000FF\"/>\n",
       "<path class=\"atom-50\" d=\"M 52.2 14.6 Q 52.2 13.5, 52.8 12.9 Q 53.3 12.2, 54.4 12.2 Q 55.4 12.2, 56.0 12.9 Q 56.5 13.5, 56.5 14.6 Q 56.5 15.7, 56.0 16.4 Q 55.4 17.0, 54.4 17.0 Q 53.4 17.0, 52.8 16.4 Q 52.2 15.7, 52.2 14.6 M 54.4 16.5 Q 55.1 16.5, 55.5 16.0 Q 55.9 15.5, 55.9 14.6 Q 55.9 13.7, 55.5 13.2 Q 55.1 12.8, 54.4 12.8 Q 53.7 12.8, 53.3 13.2 Q 52.9 13.7, 52.9 14.6 Q 52.9 15.5, 53.3 16.0 Q 53.7 16.5, 54.4 16.5 \" fill=\"#FF0000\"/>\n",
       "<path class=\"atom-53\" d=\"M 81.2 6.8 L 82.8 9.3 Q 82.9 9.5, 83.2 10.0 Q 83.4 10.4, 83.4 10.4 L 83.4 6.8 L 84.0 6.8 L 84.0 11.5 L 83.4 11.5 L 81.8 8.8 Q 81.6 8.5, 81.4 8.1 Q 81.2 7.7, 81.1 7.6 L 81.1 11.5 L 80.5 11.5 L 80.5 6.8 L 81.2 6.8 \" fill=\"#0000FF\"/>\n",
       "<path class=\"atom-53\" d=\"M 84.6 6.8 L 85.2 6.8 L 85.2 8.8 L 87.6 8.8 L 87.6 6.8 L 88.2 6.8 L 88.2 11.5 L 87.6 11.5 L 87.6 9.3 L 85.2 9.3 L 85.2 11.5 L 84.6 11.5 L 84.6 6.8 \" fill=\"#0000FF\"/>\n",
       "<path class=\"atom-53\" d=\"M 88.8 11.3 Q 88.9 11.0, 89.2 10.9 Q 89.4 10.7, 89.8 10.7 Q 90.3 10.7, 90.5 10.9 Q 90.8 11.2, 90.8 11.6 Q 90.8 12.1, 90.5 12.5 Q 90.1 12.9, 89.4 13.4 L 90.8 13.4 L 90.8 13.8 L 88.8 13.8 L 88.8 13.5 Q 89.3 13.1, 89.7 12.8 Q 90.0 12.5, 90.2 12.2 Q 90.4 11.9, 90.4 11.7 Q 90.4 11.4, 90.2 11.2 Q 90.1 11.0, 89.8 11.0 Q 89.6 11.0, 89.4 11.1 Q 89.2 11.2, 89.1 11.5 L 88.8 11.3 \" fill=\"#0000FF\"/>\n",
       "</svg>"
      ],
      "text/plain": [
       "<IPython.core.display.SVG object>"
      ]
     },
     "execution_count": 40,
     "metadata": {},
     "output_type": "execute_result"
    }
   ],
   "source": [
    "big = \"NC{[$] [$|5|]CC[$|5|],[$]C([$])c1ccccc1, [$|0.5|]CCC(C[$|0.1|])CC[$|0.5|]; [$]COC [$]}|uniform(500,1000)|CN.|50000|\"\n",
    "big_smiles_gen(big, 0)"
   ]
  },
  {
   "cell_type": "code",
   "execution_count": 41,
   "id": "950f5c7b",
   "metadata": {},
   "outputs": [
    {
     "name": "stdout",
     "output_type": "stream",
     "text": [
      "27\n"
     ]
    },
    {
     "data": {
      "image/svg+xml": [
       "<svg xmlns=\"http://www.w3.org/2000/svg\" xmlns:rdkit=\"http://www.rdkit.org/xml\" xmlns:xlink=\"http://www.w3.org/1999/xlink\" version=\"1.1\" baseProfile=\"full\" xml:space=\"preserve\" width=\"450px\" height=\"150px\" viewBox=\"0 0 450 150\">\n",
       "<!-- END OF HEADER -->\n",
       "<rect style=\"opacity:1.0;fill:#FFFFFF;stroke:none\" width=\"450.0\" height=\"150.0\" x=\"0.0\" y=\"0.0\"> </rect>\n",
       "<path class=\"bond-0 atom-0 atom-1\" d=\"M 356.1,11.4 L 359.6,13.7\" style=\"fill:none;fill-rule:evenodd;stroke:#0000FF;stroke-width:2.0px;stroke-linecap:butt;stroke-linejoin:miter;stroke-opacity:1\"/>\n",
       "<path class=\"bond-0 atom-0 atom-1\" d=\"M 359.6,13.7 L 363.0,16.0\" style=\"fill:none;fill-rule:evenodd;stroke:#000000;stroke-width:2.0px;stroke-linecap:butt;stroke-linejoin:miter;stroke-opacity:1\"/>\n",
       "<path class=\"bond-1 atom-2 atom-3\" d=\"M 371.2,32.4 L 362.4,26.6\" style=\"fill:none;fill-rule:evenodd;stroke:#000000;stroke-width:2.0px;stroke-linecap:butt;stroke-linejoin:miter;stroke-opacity:1\"/>\n",
       "<path class=\"bond-2 atom-1 atom-3\" d=\"M 363.0,16.0 L 362.4,26.6\" style=\"fill:none;fill-rule:evenodd;stroke:#000000;stroke-width:2.0px;stroke-linecap:butt;stroke-linejoin:miter;stroke-opacity:1\"/>\n",
       "<path class=\"bond-3 atom-4 atom-5\" d=\"M 370.6,43.0 L 379.4,48.9\" style=\"fill:none;fill-rule:evenodd;stroke:#000000;stroke-width:2.0px;stroke-linecap:butt;stroke-linejoin:miter;stroke-opacity:1\"/>\n",
       "<path class=\"bond-4 atom-2 atom-4\" d=\"M 371.2,32.4 L 370.6,43.0\" style=\"fill:none;fill-rule:evenodd;stroke:#000000;stroke-width:2.0px;stroke-linecap:butt;stroke-linejoin:miter;stroke-opacity:1\"/>\n",
       "<path class=\"bond-5 atom-6 atom-7\" d=\"M 378.8,59.5 L 387.7,65.3\" style=\"fill:none;fill-rule:evenodd;stroke:#000000;stroke-width:2.0px;stroke-linecap:butt;stroke-linejoin:miter;stroke-opacity:1\"/>\n",
       "<path class=\"bond-6 atom-5 atom-6\" d=\"M 379.4,48.9 L 378.8,59.5\" style=\"fill:none;fill-rule:evenodd;stroke:#000000;stroke-width:2.0px;stroke-linecap:butt;stroke-linejoin:miter;stroke-opacity:1\"/>\n",
       "<path class=\"bond-7 atom-8 atom-9\" d=\"M 395.9,81.8 L 387.0,75.9\" style=\"fill:none;fill-rule:evenodd;stroke:#000000;stroke-width:2.0px;stroke-linecap:butt;stroke-linejoin:miter;stroke-opacity:1\"/>\n",
       "<path class=\"bond-8 atom-7 atom-9\" d=\"M 387.7,65.3 L 387.0,75.9\" style=\"fill:none;fill-rule:evenodd;stroke:#000000;stroke-width:2.0px;stroke-linecap:butt;stroke-linejoin:miter;stroke-opacity:1\"/>\n",
       "<path class=\"bond-9 atom-10 atom-11\" d=\"M 404.1,98.2 L 395.2,92.4\" style=\"fill:none;fill-rule:evenodd;stroke:#000000;stroke-width:2.0px;stroke-linecap:butt;stroke-linejoin:miter;stroke-opacity:1\"/>\n",
       "<path class=\"bond-10 atom-8 atom-11\" d=\"M 395.9,81.8 L 395.2,92.4\" style=\"fill:none;fill-rule:evenodd;stroke:#000000;stroke-width:2.0px;stroke-linecap:butt;stroke-linejoin:miter;stroke-opacity:1\"/>\n",
       "<path class=\"bond-11 atom-12 atom-13\" d=\"M 403.4,108.8 L 412.3,114.7\" style=\"fill:none;fill-rule:evenodd;stroke:#000000;stroke-width:2.0px;stroke-linecap:butt;stroke-linejoin:miter;stroke-opacity:1\"/>\n",
       "<path class=\"bond-12 atom-13 atom-14\" d=\"M 412.3,114.7 L 411.7,125.3\" style=\"fill:none;fill-rule:evenodd;stroke:#000000;stroke-width:2.0px;stroke-linecap:butt;stroke-linejoin:miter;stroke-opacity:1\"/>\n",
       "<path class=\"bond-12 atom-13 atom-14\" d=\"M 414.3,116.4 L 413.9,123.8\" style=\"fill:none;fill-rule:evenodd;stroke:#000000;stroke-width:2.0px;stroke-linecap:butt;stroke-linejoin:miter;stroke-opacity:1\"/>\n",
       "<path class=\"bond-13 atom-14 atom-15\" d=\"M 411.7,125.3 L 420.5,131.1\" style=\"fill:none;fill-rule:evenodd;stroke:#000000;stroke-width:2.0px;stroke-linecap:butt;stroke-linejoin:miter;stroke-opacity:1\"/>\n",
       "<path class=\"bond-14 atom-15 atom-16\" d=\"M 420.5,131.1 L 430.0,126.4\" style=\"fill:none;fill-rule:evenodd;stroke:#000000;stroke-width:2.0px;stroke-linecap:butt;stroke-linejoin:miter;stroke-opacity:1\"/>\n",
       "<path class=\"bond-14 atom-15 atom-16\" d=\"M 421.0,128.5 L 427.6,125.2\" style=\"fill:none;fill-rule:evenodd;stroke:#000000;stroke-width:2.0px;stroke-linecap:butt;stroke-linejoin:miter;stroke-opacity:1\"/>\n",
       "<path class=\"bond-15 atom-16 atom-17\" d=\"M 430.0,126.4 L 430.7,115.8\" style=\"fill:none;fill-rule:evenodd;stroke:#000000;stroke-width:2.0px;stroke-linecap:butt;stroke-linejoin:miter;stroke-opacity:1\"/>\n",
       "<path class=\"bond-16 atom-17 atom-18\" d=\"M 430.7,115.8 L 421.8,109.9\" style=\"fill:none;fill-rule:evenodd;stroke:#000000;stroke-width:2.0px;stroke-linecap:butt;stroke-linejoin:miter;stroke-opacity:1\"/>\n",
       "<path class=\"bond-16 atom-17 atom-18\" d=\"M 428.2,116.7 L 422.0,112.6\" style=\"fill:none;fill-rule:evenodd;stroke:#000000;stroke-width:2.0px;stroke-linecap:butt;stroke-linejoin:miter;stroke-opacity:1\"/>\n",
       "<path class=\"bond-17 atom-18 atom-13\" d=\"M 421.8,109.9 L 412.3,114.7\" style=\"fill:none;fill-rule:evenodd;stroke:#000000;stroke-width:2.0px;stroke-linecap:butt;stroke-linejoin:miter;stroke-opacity:1\"/>\n",
       "<path class=\"bond-18 atom-10 atom-12\" d=\"M 404.1,98.2 L 403.4,108.8\" style=\"fill:none;fill-rule:evenodd;stroke:#000000;stroke-width:2.0px;stroke-linecap:butt;stroke-linejoin:miter;stroke-opacity:1\"/>\n",
       "<path class=\"bond-19 atom-19 atom-20\" d=\"M 385.1,107.7 L 393.9,113.5\" style=\"fill:none;fill-rule:evenodd;stroke:#000000;stroke-width:2.0px;stroke-linecap:butt;stroke-linejoin:miter;stroke-opacity:1\"/>\n",
       "<path class=\"bond-20 atom-12 atom-20\" d=\"M 403.4,108.8 L 393.9,113.5\" style=\"fill:none;fill-rule:evenodd;stroke:#000000;stroke-width:2.0px;stroke-linecap:butt;stroke-linejoin:miter;stroke-opacity:1\"/>\n",
       "<path class=\"bond-21 atom-21 atom-22\" d=\"M 366.7,106.6 L 375.6,112.4\" style=\"fill:none;fill-rule:evenodd;stroke:#000000;stroke-width:2.0px;stroke-linecap:butt;stroke-linejoin:miter;stroke-opacity:1\"/>\n",
       "<path class=\"bond-22 atom-19 atom-22\" d=\"M 385.1,107.7 L 375.6,112.4\" style=\"fill:none;fill-rule:evenodd;stroke:#000000;stroke-width:2.0px;stroke-linecap:butt;stroke-linejoin:miter;stroke-opacity:1\"/>\n",
       "<path class=\"bond-23 atom-23 atom-24\" d=\"M 357.2,111.3 L 348.4,105.5\" style=\"fill:none;fill-rule:evenodd;stroke:#000000;stroke-width:2.0px;stroke-linecap:butt;stroke-linejoin:miter;stroke-opacity:1\"/>\n",
       "<path class=\"bond-24 atom-21 atom-23\" d=\"M 366.7,106.6 L 357.2,111.3\" style=\"fill:none;fill-rule:evenodd;stroke:#000000;stroke-width:2.0px;stroke-linecap:butt;stroke-linejoin:miter;stroke-opacity:1\"/>\n",
       "<path class=\"bond-25 atom-25 atom-26\" d=\"M 338.9,110.2 L 338.3,120.8\" style=\"fill:none;fill-rule:evenodd;stroke:#000000;stroke-width:2.0px;stroke-linecap:butt;stroke-linejoin:miter;stroke-opacity:1\"/>\n",
       "<path class=\"bond-26 atom-26 atom-27\" d=\"M 338.3,120.8 L 328.8,125.6\" style=\"fill:none;fill-rule:evenodd;stroke:#000000;stroke-width:2.0px;stroke-linecap:butt;stroke-linejoin:miter;stroke-opacity:1\"/>\n",
       "<path class=\"bond-26 atom-26 atom-27\" d=\"M 337.8,123.4 L 331.1,126.7\" style=\"fill:none;fill-rule:evenodd;stroke:#000000;stroke-width:2.0px;stroke-linecap:butt;stroke-linejoin:miter;stroke-opacity:1\"/>\n",
       "<path class=\"bond-27 atom-27 atom-28\" d=\"M 328.8,125.6 L 328.1,136.2\" style=\"fill:none;fill-rule:evenodd;stroke:#000000;stroke-width:2.0px;stroke-linecap:butt;stroke-linejoin:miter;stroke-opacity:1\"/>\n",
       "<path class=\"bond-28 atom-28 atom-29\" d=\"M 328.1,136.2 L 337.0,142.0\" style=\"fill:none;fill-rule:evenodd;stroke:#000000;stroke-width:2.0px;stroke-linecap:butt;stroke-linejoin:miter;stroke-opacity:1\"/>\n",
       "<path class=\"bond-28 atom-28 atom-29\" d=\"M 330.6,135.3 L 336.8,139.4\" style=\"fill:none;fill-rule:evenodd;stroke:#000000;stroke-width:2.0px;stroke-linecap:butt;stroke-linejoin:miter;stroke-opacity:1\"/>\n",
       "<path class=\"bond-29 atom-29 atom-30\" d=\"M 337.0,142.0 L 346.5,137.3\" style=\"fill:none;fill-rule:evenodd;stroke:#000000;stroke-width:2.0px;stroke-linecap:butt;stroke-linejoin:miter;stroke-opacity:1\"/>\n",
       "<path class=\"bond-30 atom-30 atom-31\" d=\"M 346.5,137.3 L 347.1,126.7\" style=\"fill:none;fill-rule:evenodd;stroke:#000000;stroke-width:2.0px;stroke-linecap:butt;stroke-linejoin:miter;stroke-opacity:1\"/>\n",
       "<path class=\"bond-30 atom-30 atom-31\" d=\"M 344.4,135.5 L 344.9,128.1\" style=\"fill:none;fill-rule:evenodd;stroke:#000000;stroke-width:2.0px;stroke-linecap:butt;stroke-linejoin:miter;stroke-opacity:1\"/>\n",
       "<path class=\"bond-31 atom-31 atom-26\" d=\"M 347.1,126.7 L 338.3,120.8\" style=\"fill:none;fill-rule:evenodd;stroke:#000000;stroke-width:2.0px;stroke-linecap:butt;stroke-linejoin:miter;stroke-opacity:1\"/>\n",
       "<path class=\"bond-32 atom-24 atom-25\" d=\"M 348.4,105.5 L 338.9,110.2\" style=\"fill:none;fill-rule:evenodd;stroke:#000000;stroke-width:2.0px;stroke-linecap:butt;stroke-linejoin:miter;stroke-opacity:1\"/>\n",
       "<path class=\"bond-33 atom-32 atom-33\" d=\"M 320.5,109.1 L 330.0,104.4\" style=\"fill:none;fill-rule:evenodd;stroke:#000000;stroke-width:2.0px;stroke-linecap:butt;stroke-linejoin:miter;stroke-opacity:1\"/>\n",
       "<path class=\"bond-34 atom-25 atom-33\" d=\"M 338.9,110.2 L 330.0,104.4\" style=\"fill:none;fill-rule:evenodd;stroke:#000000;stroke-width:2.0px;stroke-linecap:butt;stroke-linejoin:miter;stroke-opacity:1\"/>\n",
       "<path class=\"bond-35 atom-34 atom-35\" d=\"M 302.2,108.0 L 311.7,103.3\" style=\"fill:none;fill-rule:evenodd;stroke:#000000;stroke-width:2.0px;stroke-linecap:butt;stroke-linejoin:miter;stroke-opacity:1\"/>\n",
       "<path class=\"bond-36 atom-32 atom-35\" d=\"M 320.5,109.1 L 311.7,103.3\" style=\"fill:none;fill-rule:evenodd;stroke:#000000;stroke-width:2.0px;stroke-linecap:butt;stroke-linejoin:miter;stroke-opacity:1\"/>\n",
       "<path class=\"bond-37 atom-36 atom-37\" d=\"M 293.3,102.1 L 283.8,106.9\" style=\"fill:none;fill-rule:evenodd;stroke:#000000;stroke-width:2.0px;stroke-linecap:butt;stroke-linejoin:miter;stroke-opacity:1\"/>\n",
       "<path class=\"bond-38 atom-34 atom-36\" d=\"M 302.2,108.0 L 293.3,102.1\" style=\"fill:none;fill-rule:evenodd;stroke:#000000;stroke-width:2.0px;stroke-linecap:butt;stroke-linejoin:miter;stroke-opacity:1\"/>\n",
       "<path class=\"bond-39 atom-38 atom-39\" d=\"M 265.5,105.8 L 275.0,101.0\" style=\"fill:none;fill-rule:evenodd;stroke:#000000;stroke-width:2.0px;stroke-linecap:butt;stroke-linejoin:miter;stroke-opacity:1\"/>\n",
       "<path class=\"bond-40 atom-37 atom-39\" d=\"M 283.8,106.9 L 275.0,101.0\" style=\"fill:none;fill-rule:evenodd;stroke:#000000;stroke-width:2.0px;stroke-linecap:butt;stroke-linejoin:miter;stroke-opacity:1\"/>\n",
       "<path class=\"bond-41 atom-40 atom-41\" d=\"M 247.1,104.7 L 256.6,99.9\" style=\"fill:none;fill-rule:evenodd;stroke:#000000;stroke-width:2.0px;stroke-linecap:butt;stroke-linejoin:miter;stroke-opacity:1\"/>\n",
       "<path class=\"bond-42 atom-38 atom-41\" d=\"M 265.5,105.8 L 256.6,99.9\" style=\"fill:none;fill-rule:evenodd;stroke:#000000;stroke-width:2.0px;stroke-linecap:butt;stroke-linejoin:miter;stroke-opacity:1\"/>\n",
       "<path class=\"bond-43 atom-42 atom-43\" d=\"M 228.8,103.6 L 238.3,98.8\" style=\"fill:none;fill-rule:evenodd;stroke:#000000;stroke-width:2.0px;stroke-linecap:butt;stroke-linejoin:miter;stroke-opacity:1\"/>\n",
       "<path class=\"bond-44 atom-40 atom-43\" d=\"M 247.1,104.7 L 238.3,98.8\" style=\"fill:none;fill-rule:evenodd;stroke:#000000;stroke-width:2.0px;stroke-linecap:butt;stroke-linejoin:miter;stroke-opacity:1\"/>\n",
       "<path class=\"bond-45 atom-44 atom-45\" d=\"M 210.4,102.5 L 219.9,97.7\" style=\"fill:none;fill-rule:evenodd;stroke:#000000;stroke-width:2.0px;stroke-linecap:butt;stroke-linejoin:miter;stroke-opacity:1\"/>\n",
       "<path class=\"bond-46 atom-42 atom-45\" d=\"M 228.8,103.6 L 219.9,97.7\" style=\"fill:none;fill-rule:evenodd;stroke:#000000;stroke-width:2.0px;stroke-linecap:butt;stroke-linejoin:miter;stroke-opacity:1\"/>\n",
       "<path class=\"bond-47 atom-46 atom-47\" d=\"M 201.6,96.6 L 192.1,101.3\" style=\"fill:none;fill-rule:evenodd;stroke:#000000;stroke-width:2.0px;stroke-linecap:butt;stroke-linejoin:miter;stroke-opacity:1\"/>\n",
       "<path class=\"bond-48 atom-44 atom-46\" d=\"M 210.4,102.5 L 201.6,96.6\" style=\"fill:none;fill-rule:evenodd;stroke:#000000;stroke-width:2.0px;stroke-linecap:butt;stroke-linejoin:miter;stroke-opacity:1\"/>\n",
       "<path class=\"bond-49 atom-48 atom-49\" d=\"M 183.2,95.5 L 173.7,100.2\" style=\"fill:none;fill-rule:evenodd;stroke:#000000;stroke-width:2.0px;stroke-linecap:butt;stroke-linejoin:miter;stroke-opacity:1\"/>\n",
       "<path class=\"bond-50 atom-47 atom-48\" d=\"M 192.1,101.3 L 183.2,95.5\" style=\"fill:none;fill-rule:evenodd;stroke:#000000;stroke-width:2.0px;stroke-linecap:butt;stroke-linejoin:miter;stroke-opacity:1\"/>\n",
       "<path class=\"bond-51 atom-50 atom-51\" d=\"M 164.9,94.4 L 165.5,83.8\" style=\"fill:none;fill-rule:evenodd;stroke:#000000;stroke-width:2.0px;stroke-linecap:butt;stroke-linejoin:miter;stroke-opacity:1\"/>\n",
       "<path class=\"bond-52 atom-51 atom-52\" d=\"M 165.5,83.8 L 175.0,79.0\" style=\"fill:none;fill-rule:evenodd;stroke:#000000;stroke-width:2.0px;stroke-linecap:butt;stroke-linejoin:miter;stroke-opacity:1\"/>\n",
       "<path class=\"bond-52 atom-51 atom-52\" d=\"M 166.0,81.2 L 172.6,77.9\" style=\"fill:none;fill-rule:evenodd;stroke:#000000;stroke-width:2.0px;stroke-linecap:butt;stroke-linejoin:miter;stroke-opacity:1\"/>\n",
       "<path class=\"bond-53 atom-52 atom-53\" d=\"M 175.0,79.0 L 175.7,68.5\" style=\"fill:none;fill-rule:evenodd;stroke:#000000;stroke-width:2.0px;stroke-linecap:butt;stroke-linejoin:miter;stroke-opacity:1\"/>\n",
       "<path class=\"bond-54 atom-53 atom-54\" d=\"M 175.7,68.5 L 166.8,62.6\" style=\"fill:none;fill-rule:evenodd;stroke:#000000;stroke-width:2.0px;stroke-linecap:butt;stroke-linejoin:miter;stroke-opacity:1\"/>\n",
       "<path class=\"bond-54 atom-53 atom-54\" d=\"M 173.2,69.3 L 167.0,65.2\" style=\"fill:none;fill-rule:evenodd;stroke:#000000;stroke-width:2.0px;stroke-linecap:butt;stroke-linejoin:miter;stroke-opacity:1\"/>\n",
       "<path class=\"bond-55 atom-54 atom-55\" d=\"M 166.8,62.6 L 157.3,67.3\" style=\"fill:none;fill-rule:evenodd;stroke:#000000;stroke-width:2.0px;stroke-linecap:butt;stroke-linejoin:miter;stroke-opacity:1\"/>\n",
       "<path class=\"bond-56 atom-55 atom-56\" d=\"M 157.3,67.3 L 156.7,77.9\" style=\"fill:none;fill-rule:evenodd;stroke:#000000;stroke-width:2.0px;stroke-linecap:butt;stroke-linejoin:miter;stroke-opacity:1\"/>\n",
       "<path class=\"bond-56 atom-55 atom-56\" d=\"M 159.3,69.1 L 158.9,76.5\" style=\"fill:none;fill-rule:evenodd;stroke:#000000;stroke-width:2.0px;stroke-linecap:butt;stroke-linejoin:miter;stroke-opacity:1\"/>\n",
       "<path class=\"bond-57 atom-56 atom-51\" d=\"M 156.7,77.9 L 165.5,83.8\" style=\"fill:none;fill-rule:evenodd;stroke:#000000;stroke-width:2.0px;stroke-linecap:butt;stroke-linejoin:miter;stroke-opacity:1\"/>\n",
       "<path class=\"bond-58 atom-49 atom-50\" d=\"M 173.7,100.2 L 164.9,94.4\" style=\"fill:none;fill-rule:evenodd;stroke:#000000;stroke-width:2.0px;stroke-linecap:butt;stroke-linejoin:miter;stroke-opacity:1\"/>\n",
       "<path class=\"bond-59 atom-57 atom-58\" d=\"M 155.4,99.1 L 146.5,93.3\" style=\"fill:none;fill-rule:evenodd;stroke:#000000;stroke-width:2.0px;stroke-linecap:butt;stroke-linejoin:miter;stroke-opacity:1\"/>\n",
       "<path class=\"bond-60 atom-50 atom-57\" d=\"M 164.9,94.4 L 155.4,99.1\" style=\"fill:none;fill-rule:evenodd;stroke:#000000;stroke-width:2.0px;stroke-linecap:butt;stroke-linejoin:miter;stroke-opacity:1\"/>\n",
       "<path class=\"bond-61 atom-59 atom-60\" d=\"M 137.0,98.0 L 128.2,92.2\" style=\"fill:none;fill-rule:evenodd;stroke:#000000;stroke-width:2.0px;stroke-linecap:butt;stroke-linejoin:miter;stroke-opacity:1\"/>\n",
       "<path class=\"bond-62 atom-58 atom-59\" d=\"M 146.5,93.3 L 137.0,98.0\" style=\"fill:none;fill-rule:evenodd;stroke:#000000;stroke-width:2.0px;stroke-linecap:butt;stroke-linejoin:miter;stroke-opacity:1\"/>\n",
       "<path class=\"bond-63 atom-61 atom-62\" d=\"M 109.8,91.1 L 118.7,96.9\" style=\"fill:none;fill-rule:evenodd;stroke:#000000;stroke-width:2.0px;stroke-linecap:butt;stroke-linejoin:miter;stroke-opacity:1\"/>\n",
       "<path class=\"bond-64 atom-60 atom-62\" d=\"M 128.2,92.2 L 118.7,96.9\" style=\"fill:none;fill-rule:evenodd;stroke:#000000;stroke-width:2.0px;stroke-linecap:butt;stroke-linejoin:miter;stroke-opacity:1\"/>\n",
       "<path class=\"bond-65 atom-63 atom-64\" d=\"M 91.5,89.9 L 100.3,95.8\" style=\"fill:none;fill-rule:evenodd;stroke:#000000;stroke-width:2.0px;stroke-linecap:butt;stroke-linejoin:miter;stroke-opacity:1\"/>\n",
       "<path class=\"bond-66 atom-61 atom-64\" d=\"M 109.8,91.1 L 100.3,95.8\" style=\"fill:none;fill-rule:evenodd;stroke:#000000;stroke-width:2.0px;stroke-linecap:butt;stroke-linejoin:miter;stroke-opacity:1\"/>\n",
       "<path class=\"bond-67 atom-65 atom-66\" d=\"M 82.0,94.7 L 81.3,105.3\" style=\"fill:none;fill-rule:evenodd;stroke:#000000;stroke-width:2.0px;stroke-linecap:butt;stroke-linejoin:miter;stroke-opacity:1\"/>\n",
       "<path class=\"bond-68 atom-66 atom-67\" d=\"M 81.3,105.3 L 71.8,110.0\" style=\"fill:none;fill-rule:evenodd;stroke:#000000;stroke-width:2.0px;stroke-linecap:butt;stroke-linejoin:miter;stroke-opacity:1\"/>\n",
       "<path class=\"bond-68 atom-66 atom-67\" d=\"M 80.9,107.9 L 74.2,111.2\" style=\"fill:none;fill-rule:evenodd;stroke:#000000;stroke-width:2.0px;stroke-linecap:butt;stroke-linejoin:miter;stroke-opacity:1\"/>\n",
       "<path class=\"bond-69 atom-67 atom-68\" d=\"M 71.8,110.0 L 71.2,120.6\" style=\"fill:none;fill-rule:evenodd;stroke:#000000;stroke-width:2.0px;stroke-linecap:butt;stroke-linejoin:miter;stroke-opacity:1\"/>\n",
       "<path class=\"bond-70 atom-68 atom-69\" d=\"M 71.2,120.6 L 80.1,126.5\" style=\"fill:none;fill-rule:evenodd;stroke:#000000;stroke-width:2.0px;stroke-linecap:butt;stroke-linejoin:miter;stroke-opacity:1\"/>\n",
       "<path class=\"bond-70 atom-68 atom-69\" d=\"M 73.7,119.7 L 79.9,123.8\" style=\"fill:none;fill-rule:evenodd;stroke:#000000;stroke-width:2.0px;stroke-linecap:butt;stroke-linejoin:miter;stroke-opacity:1\"/>\n",
       "<path class=\"bond-71 atom-69 atom-70\" d=\"M 80.1,126.5 L 89.5,121.7\" style=\"fill:none;fill-rule:evenodd;stroke:#000000;stroke-width:2.0px;stroke-linecap:butt;stroke-linejoin:miter;stroke-opacity:1\"/>\n",
       "<path class=\"bond-72 atom-70 atom-71\" d=\"M 89.5,121.7 L 90.2,111.1\" style=\"fill:none;fill-rule:evenodd;stroke:#000000;stroke-width:2.0px;stroke-linecap:butt;stroke-linejoin:miter;stroke-opacity:1\"/>\n",
       "<path class=\"bond-72 atom-70 atom-71\" d=\"M 87.5,120.0 L 88.0,112.6\" style=\"fill:none;fill-rule:evenodd;stroke:#000000;stroke-width:2.0px;stroke-linecap:butt;stroke-linejoin:miter;stroke-opacity:1\"/>\n",
       "<path class=\"bond-73 atom-71 atom-66\" d=\"M 90.2,111.1 L 81.3,105.3\" style=\"fill:none;fill-rule:evenodd;stroke:#000000;stroke-width:2.0px;stroke-linecap:butt;stroke-linejoin:miter;stroke-opacity:1\"/>\n",
       "<path class=\"bond-74 atom-63 atom-65\" d=\"M 91.5,89.9 L 82.0,94.7\" style=\"fill:none;fill-rule:evenodd;stroke:#000000;stroke-width:2.0px;stroke-linecap:butt;stroke-linejoin:miter;stroke-opacity:1\"/>\n",
       "<path class=\"bond-75 atom-72 atom-73\" d=\"M 73.1,88.8 L 63.6,93.6\" style=\"fill:none;fill-rule:evenodd;stroke:#000000;stroke-width:2.0px;stroke-linecap:butt;stroke-linejoin:miter;stroke-opacity:1\"/>\n",
       "<path class=\"bond-76 atom-65 atom-72\" d=\"M 82.0,94.7 L 73.1,88.8\" style=\"fill:none;fill-rule:evenodd;stroke:#000000;stroke-width:2.0px;stroke-linecap:butt;stroke-linejoin:miter;stroke-opacity:1\"/>\n",
       "<path class=\"bond-77 atom-74 atom-75\" d=\"M 45.3,92.5 L 54.8,87.7\" style=\"fill:none;fill-rule:evenodd;stroke:#000000;stroke-width:2.0px;stroke-linecap:butt;stroke-linejoin:miter;stroke-opacity:1\"/>\n",
       "<path class=\"bond-78 atom-73 atom-75\" d=\"M 63.6,93.6 L 54.8,87.7\" style=\"fill:none;fill-rule:evenodd;stroke:#000000;stroke-width:2.0px;stroke-linecap:butt;stroke-linejoin:miter;stroke-opacity:1\"/>\n",
       "<path class=\"bond-79 atom-76 atom-77\" d=\"M 36.4,86.6 L 32.6,88.5\" style=\"fill:none;fill-rule:evenodd;stroke:#000000;stroke-width:2.0px;stroke-linecap:butt;stroke-linejoin:miter;stroke-opacity:1\"/>\n",
       "<path class=\"bond-79 atom-76 atom-77\" d=\"M 32.6,88.5 L 28.9,90.4\" style=\"fill:none;fill-rule:evenodd;stroke:#0000FF;stroke-width:2.0px;stroke-linecap:butt;stroke-linejoin:miter;stroke-opacity:1\"/>\n",
       "<path class=\"bond-80 atom-74 atom-76\" d=\"M 45.3,92.5 L 36.4,86.6\" style=\"fill:none;fill-rule:evenodd;stroke:#000000;stroke-width:2.0px;stroke-linecap:butt;stroke-linejoin:miter;stroke-opacity:1\"/>\n",
       "<path class=\"atom-0\" d=\"M 346.6 8.0 L 347.2 8.0 L 347.2 9.8 L 349.3 9.8 L 349.3 8.0 L 349.9 8.0 L 349.9 12.2 L 349.3 12.2 L 349.3 10.3 L 347.2 10.3 L 347.2 12.2 L 346.6 12.2 L 346.6 8.0 \" fill=\"#0000FF\"/>\n",
       "<path class=\"atom-0\" d=\"M 350.4 12.1 Q 350.5 11.8, 350.8 11.7 Q 351.0 11.5, 351.4 11.5 Q 351.8 11.5, 352.0 11.8 Q 352.3 12.0, 352.3 12.4 Q 352.3 12.8, 351.9 13.2 Q 351.6 13.6, 351.0 14.1 L 352.3 14.1 L 352.3 14.4 L 350.4 14.4 L 350.4 14.1 Q 350.9 13.7, 351.2 13.5 Q 351.6 13.2, 351.7 12.9 Q 351.9 12.7, 351.9 12.4 Q 351.9 12.1, 351.7 12.0 Q 351.6 11.8, 351.4 11.8 Q 351.1 11.8, 351.0 11.9 Q 350.8 12.0, 350.7 12.2 L 350.4 12.1 \" fill=\"#0000FF\"/>\n",
       "<path class=\"atom-0\" d=\"M 353.2 8.0 L 354.6 10.2 Q 354.7 10.5, 355.0 10.9 Q 355.2 11.3, 355.2 11.3 L 355.2 8.0 L 355.8 8.0 L 355.8 12.2 L 355.2 12.2 L 353.7 9.8 Q 353.5 9.5, 353.3 9.2 Q 353.1 8.8, 353.1 8.7 L 353.1 12.2 L 352.5 12.2 L 352.5 8.0 L 353.2 8.0 \" fill=\"#0000FF\"/>\n",
       "<path class=\"atom-77\" d=\"M 19.3 89.2 L 19.9 89.2 L 19.9 91.0 L 22.1 91.0 L 22.1 89.2 L 22.7 89.2 L 22.7 93.5 L 22.1 93.5 L 22.1 91.5 L 19.9 91.5 L 19.9 93.5 L 19.3 93.5 L 19.3 89.2 \" fill=\"#0000FF\"/>\n",
       "<path class=\"atom-77\" d=\"M 23.2 93.3 Q 23.3 93.1, 23.5 92.9 Q 23.8 92.8, 24.1 92.8 Q 24.5 92.8, 24.8 93.0 Q 25.0 93.2, 25.0 93.6 Q 25.0 94.1, 24.7 94.4 Q 24.4 94.8, 23.8 95.3 L 25.1 95.3 L 25.1 95.6 L 23.2 95.6 L 23.2 95.3 Q 23.7 95.0, 24.0 94.7 Q 24.3 94.4, 24.5 94.2 Q 24.6 93.9, 24.6 93.7 Q 24.6 93.4, 24.5 93.2 Q 24.4 93.1, 24.1 93.1 Q 23.9 93.1, 23.7 93.2 Q 23.6 93.3, 23.5 93.5 L 23.2 93.3 \" fill=\"#0000FF\"/>\n",
       "<path class=\"atom-77\" d=\"M 26.0 89.2 L 27.4 91.5 Q 27.5 91.7, 27.7 92.1 Q 28.0 92.5, 28.0 92.5 L 28.0 89.2 L 28.5 89.2 L 28.5 93.5 L 27.9 93.5 L 26.5 91.0 Q 26.3 90.7, 26.1 90.4 Q 25.9 90.1, 25.9 90.0 L 25.9 93.5 L 25.3 93.5 L 25.3 89.2 L 26.0 89.2 \" fill=\"#0000FF\"/>\n",
       "</svg>"
      ],
      "text/plain": [
       "<IPython.core.display.SVG object>"
      ]
     },
     "execution_count": 41,
     "metadata": {},
     "output_type": "execute_result"
    }
   ],
   "source": [
    "big_smiles_gen(big, 1)"
   ]
  },
  {
   "cell_type": "code",
   "execution_count": 42,
   "id": "fb8d61a0",
   "metadata": {},
   "outputs": [
    {
     "name": "stdout",
     "output_type": "stream",
     "text": [
      "28\n"
     ]
    },
    {
     "data": {
      "image/svg+xml": [
       "<svg xmlns=\"http://www.w3.org/2000/svg\" xmlns:rdkit=\"http://www.rdkit.org/xml\" xmlns:xlink=\"http://www.w3.org/1999/xlink\" version=\"1.1\" baseProfile=\"full\" xml:space=\"preserve\" width=\"450px\" height=\"150px\" viewBox=\"0 0 450 150\">\n",
       "<!-- END OF HEADER -->\n",
       "<rect style=\"opacity:1.0;fill:#FFFFFF;stroke:none\" width=\"450.0\" height=\"150.0\" x=\"0.0\" y=\"0.0\"> </rect>\n",
       "<path class=\"bond-0 atom-0 atom-1\" d=\"M 194.1,128.7 L 196.0,125.9\" style=\"fill:none;fill-rule:evenodd;stroke:#0000FF;stroke-width:2.0px;stroke-linecap:butt;stroke-linejoin:miter;stroke-opacity:1\"/>\n",
       "<path class=\"bond-0 atom-0 atom-1\" d=\"M 196.0,125.9 L 197.9,123.0\" style=\"fill:none;fill-rule:evenodd;stroke:#000000;stroke-width:2.0px;stroke-linecap:butt;stroke-linejoin:miter;stroke-opacity:1\"/>\n",
       "<path class=\"bond-1 atom-2 atom-3\" d=\"M 213.1,115.5 L 207.7,123.6\" style=\"fill:none;fill-rule:evenodd;stroke:#000000;stroke-width:2.0px;stroke-linecap:butt;stroke-linejoin:miter;stroke-opacity:1\"/>\n",
       "<path class=\"bond-2 atom-1 atom-3\" d=\"M 197.9,123.0 L 207.7,123.6\" style=\"fill:none;fill-rule:evenodd;stroke:#000000;stroke-width:2.0px;stroke-linecap:butt;stroke-linejoin:miter;stroke-opacity:1\"/>\n",
       "<path class=\"bond-3 atom-4 atom-5\" d=\"M 222.8,116.1 L 228.2,107.9\" style=\"fill:none;fill-rule:evenodd;stroke:#000000;stroke-width:2.0px;stroke-linecap:butt;stroke-linejoin:miter;stroke-opacity:1\"/>\n",
       "<path class=\"bond-4 atom-2 atom-4\" d=\"M 213.1,115.5 L 222.8,116.1\" style=\"fill:none;fill-rule:evenodd;stroke:#000000;stroke-width:2.0px;stroke-linecap:butt;stroke-linejoin:miter;stroke-opacity:1\"/>\n",
       "<path class=\"bond-5 atom-6 atom-7\" d=\"M 243.4,100.4 L 238.0,108.5\" style=\"fill:none;fill-rule:evenodd;stroke:#000000;stroke-width:2.0px;stroke-linecap:butt;stroke-linejoin:miter;stroke-opacity:1\"/>\n",
       "<path class=\"bond-6 atom-5 atom-7\" d=\"M 228.2,107.9 L 238.0,108.5\" style=\"fill:none;fill-rule:evenodd;stroke:#000000;stroke-width:2.0px;stroke-linecap:butt;stroke-linejoin:miter;stroke-opacity:1\"/>\n",
       "<path class=\"bond-7 atom-8 atom-9\" d=\"M 253.1,100.9 L 258.5,92.8\" style=\"fill:none;fill-rule:evenodd;stroke:#000000;stroke-width:2.0px;stroke-linecap:butt;stroke-linejoin:miter;stroke-opacity:1\"/>\n",
       "<path class=\"bond-8 atom-6 atom-8\" d=\"M 243.4,100.4 L 253.1,100.9\" style=\"fill:none;fill-rule:evenodd;stroke:#000000;stroke-width:2.0px;stroke-linecap:butt;stroke-linejoin:miter;stroke-opacity:1\"/>\n",
       "<path class=\"bond-9 atom-10 atom-11\" d=\"M 287.8,94.6 L 283.5,85.8\" style=\"fill:none;fill-rule:evenodd;stroke:#000000;stroke-width:2.0px;stroke-linecap:butt;stroke-linejoin:miter;stroke-opacity:1\"/>\n",
       "<path class=\"bond-10 atom-11 atom-12\" d=\"M 283.5,85.8 L 273.7,85.2\" style=\"fill:none;fill-rule:evenodd;stroke:#000000;stroke-width:2.0px;stroke-linecap:butt;stroke-linejoin:miter;stroke-opacity:1\"/>\n",
       "<path class=\"bond-11 atom-12 atom-13\" d=\"M 273.7,85.2 L 269.3,76.5\" style=\"fill:none;fill-rule:evenodd;stroke:#000000;stroke-width:2.0px;stroke-linecap:butt;stroke-linejoin:miter;stroke-opacity:1\"/>\n",
       "<path class=\"bond-12 atom-12 atom-14\" d=\"M 273.7,85.2 L 268.3,93.4\" style=\"fill:none;fill-rule:evenodd;stroke:#000000;stroke-width:2.0px;stroke-linecap:butt;stroke-linejoin:miter;stroke-opacity:1\"/>\n",
       "<path class=\"bond-13 atom-14 atom-15\" d=\"M 268.3,93.4 L 272.7,102.1\" style=\"fill:none;fill-rule:evenodd;stroke:#000000;stroke-width:2.0px;stroke-linecap:butt;stroke-linejoin:miter;stroke-opacity:1\"/>\n",
       "<path class=\"bond-14 atom-9 atom-14\" d=\"M 258.5,92.8 L 268.3,93.4\" style=\"fill:none;fill-rule:evenodd;stroke:#000000;stroke-width:2.0px;stroke-linecap:butt;stroke-linejoin:miter;stroke-opacity:1\"/>\n",
       "<path class=\"bond-15 atom-16 atom-17\" d=\"M 255.2,67.1 L 259.6,75.9\" style=\"fill:none;fill-rule:evenodd;stroke:#000000;stroke-width:2.0px;stroke-linecap:butt;stroke-linejoin:miter;stroke-opacity:1\"/>\n",
       "<path class=\"bond-16 atom-13 atom-17\" d=\"M 269.3,76.5 L 259.6,75.9\" style=\"fill:none;fill-rule:evenodd;stroke:#000000;stroke-width:2.0px;stroke-linecap:butt;stroke-linejoin:miter;stroke-opacity:1\"/>\n",
       "<path class=\"bond-17 atom-18 atom-19\" d=\"M 225.9,65.3 L 231.3,57.2\" style=\"fill:none;fill-rule:evenodd;stroke:#000000;stroke-width:2.0px;stroke-linecap:butt;stroke-linejoin:miter;stroke-opacity:1\"/>\n",
       "<path class=\"bond-18 atom-19 atom-20\" d=\"M 231.3,57.2 L 241.1,57.8\" style=\"fill:none;fill-rule:evenodd;stroke:#000000;stroke-width:2.0px;stroke-linecap:butt;stroke-linejoin:miter;stroke-opacity:1\"/>\n",
       "<path class=\"bond-19 atom-20 atom-21\" d=\"M 241.1,57.8 L 246.5,49.6\" style=\"fill:none;fill-rule:evenodd;stroke:#000000;stroke-width:2.0px;stroke-linecap:butt;stroke-linejoin:miter;stroke-opacity:1\"/>\n",
       "<path class=\"bond-20 atom-20 atom-22\" d=\"M 241.1,57.8 L 245.5,66.5\" style=\"fill:none;fill-rule:evenodd;stroke:#000000;stroke-width:2.0px;stroke-linecap:butt;stroke-linejoin:miter;stroke-opacity:1\"/>\n",
       "<path class=\"bond-21 atom-22 atom-23\" d=\"M 245.5,66.5 L 240.1,74.7\" style=\"fill:none;fill-rule:evenodd;stroke:#000000;stroke-width:2.0px;stroke-linecap:butt;stroke-linejoin:miter;stroke-opacity:1\"/>\n",
       "<path class=\"bond-22 atom-16 atom-22\" d=\"M 255.2,67.1 L 245.5,66.5\" style=\"fill:none;fill-rule:evenodd;stroke:#000000;stroke-width:2.0px;stroke-linecap:butt;stroke-linejoin:miter;stroke-opacity:1\"/>\n",
       "<path class=\"bond-23 atom-24 atom-25\" d=\"M 210.8,72.9 L 216.2,64.7\" style=\"fill:none;fill-rule:evenodd;stroke:#000000;stroke-width:2.0px;stroke-linecap:butt;stroke-linejoin:miter;stroke-opacity:1\"/>\n",
       "<path class=\"bond-24 atom-18 atom-25\" d=\"M 225.9,65.3 L 216.2,64.7\" style=\"fill:none;fill-rule:evenodd;stroke:#000000;stroke-width:2.0px;stroke-linecap:butt;stroke-linejoin:miter;stroke-opacity:1\"/>\n",
       "<path class=\"bond-25 atom-26 atom-27\" d=\"M 201.0,72.3 L 195.6,80.4\" style=\"fill:none;fill-rule:evenodd;stroke:#000000;stroke-width:2.0px;stroke-linecap:butt;stroke-linejoin:miter;stroke-opacity:1\"/>\n",
       "<path class=\"bond-26 atom-24 atom-26\" d=\"M 210.8,72.9 L 201.0,72.3\" style=\"fill:none;fill-rule:evenodd;stroke:#000000;stroke-width:2.0px;stroke-linecap:butt;stroke-linejoin:miter;stroke-opacity:1\"/>\n",
       "<path class=\"bond-27 atom-28 atom-29\" d=\"M 242.1,40.9 L 232.4,40.3\" style=\"fill:none;fill-rule:evenodd;stroke:#000000;stroke-width:2.0px;stroke-linecap:butt;stroke-linejoin:miter;stroke-opacity:1\"/>\n",
       "<path class=\"bond-28 atom-29 atom-30\" d=\"M 232.4,40.3 L 227.0,48.4\" style=\"fill:none;fill-rule:evenodd;stroke:#000000;stroke-width:2.0px;stroke-linecap:butt;stroke-linejoin:miter;stroke-opacity:1\"/>\n",
       "<path class=\"bond-28 atom-29 atom-30\" d=\"M 229.9,40.4 L 226.1,46.1\" style=\"fill:none;fill-rule:evenodd;stroke:#000000;stroke-width:2.0px;stroke-linecap:butt;stroke-linejoin:miter;stroke-opacity:1\"/>\n",
       "<path class=\"bond-29 atom-30 atom-31\" d=\"M 227.0,48.4 L 217.2,47.8\" style=\"fill:none;fill-rule:evenodd;stroke:#000000;stroke-width:2.0px;stroke-linecap:butt;stroke-linejoin:miter;stroke-opacity:1\"/>\n",
       "<path class=\"bond-30 atom-31 atom-32\" d=\"M 217.2,47.8 L 212.8,39.1\" style=\"fill:none;fill-rule:evenodd;stroke:#000000;stroke-width:2.0px;stroke-linecap:butt;stroke-linejoin:miter;stroke-opacity:1\"/>\n",
       "<path class=\"bond-30 atom-31 atom-32\" d=\"M 218.3,45.6 L 215.2,39.5\" style=\"fill:none;fill-rule:evenodd;stroke:#000000;stroke-width:2.0px;stroke-linecap:butt;stroke-linejoin:miter;stroke-opacity:1\"/>\n",
       "<path class=\"bond-31 atom-32 atom-33\" d=\"M 212.8,39.1 L 218.2,30.9\" style=\"fill:none;fill-rule:evenodd;stroke:#000000;stroke-width:2.0px;stroke-linecap:butt;stroke-linejoin:miter;stroke-opacity:1\"/>\n",
       "<path class=\"bond-32 atom-33 atom-34\" d=\"M 218.2,30.9 L 228.0,31.5\" style=\"fill:none;fill-rule:evenodd;stroke:#000000;stroke-width:2.0px;stroke-linecap:butt;stroke-linejoin:miter;stroke-opacity:1\"/>\n",
       "<path class=\"bond-32 atom-33 atom-34\" d=\"M 219.6,32.9 L 226.4,33.4\" style=\"fill:none;fill-rule:evenodd;stroke:#000000;stroke-width:2.0px;stroke-linecap:butt;stroke-linejoin:miter;stroke-opacity:1\"/>\n",
       "<path class=\"bond-33 atom-34 atom-29\" d=\"M 228.0,31.5 L 232.4,40.3\" style=\"fill:none;fill-rule:evenodd;stroke:#000000;stroke-width:2.0px;stroke-linecap:butt;stroke-linejoin:miter;stroke-opacity:1\"/>\n",
       "<path class=\"bond-34 atom-21 atom-28\" d=\"M 246.5,49.6 L 242.1,40.9\" style=\"fill:none;fill-rule:evenodd;stroke:#000000;stroke-width:2.0px;stroke-linecap:butt;stroke-linejoin:miter;stroke-opacity:1\"/>\n",
       "<path class=\"bond-35 atom-35 atom-36\" d=\"M 185.8,79.9 L 180.4,88.0\" style=\"fill:none;fill-rule:evenodd;stroke:#000000;stroke-width:2.0px;stroke-linecap:butt;stroke-linejoin:miter;stroke-opacity:1\"/>\n",
       "<path class=\"bond-36 atom-27 atom-35\" d=\"M 195.6,80.4 L 185.8,79.9\" style=\"fill:none;fill-rule:evenodd;stroke:#000000;stroke-width:2.0px;stroke-linecap:butt;stroke-linejoin:miter;stroke-opacity:1\"/>\n",
       "<path class=\"bond-37 atom-37 atom-38\" d=\"M 165.3,95.6 L 170.7,87.4\" style=\"fill:none;fill-rule:evenodd;stroke:#000000;stroke-width:2.0px;stroke-linecap:butt;stroke-linejoin:miter;stroke-opacity:1\"/>\n",
       "<path class=\"bond-38 atom-36 atom-38\" d=\"M 180.4,88.0 L 170.7,87.4\" style=\"fill:none;fill-rule:evenodd;stroke:#000000;stroke-width:2.0px;stroke-linecap:butt;stroke-linejoin:miter;stroke-opacity:1\"/>\n",
       "<path class=\"bond-39 atom-39 atom-40\" d=\"M 247.5,32.7 L 243.2,23.9\" style=\"fill:none;fill-rule:evenodd;stroke:#000000;stroke-width:2.0px;stroke-linecap:butt;stroke-linejoin:miter;stroke-opacity:1\"/>\n",
       "<path class=\"bond-40 atom-40 atom-41\" d=\"M 243.2,23.9 L 248.6,15.8\" style=\"fill:none;fill-rule:evenodd;stroke:#000000;stroke-width:2.0px;stroke-linecap:butt;stroke-linejoin:miter;stroke-opacity:1\"/>\n",
       "<path class=\"bond-40 atom-40 atom-41\" d=\"M 242.3,21.6 L 246.1,15.9\" style=\"fill:none;fill-rule:evenodd;stroke:#000000;stroke-width:2.0px;stroke-linecap:butt;stroke-linejoin:miter;stroke-opacity:1\"/>\n",
       "<path class=\"bond-41 atom-41 atom-42\" d=\"M 248.6,15.8 L 244.2,7.0\" style=\"fill:none;fill-rule:evenodd;stroke:#000000;stroke-width:2.0px;stroke-linecap:butt;stroke-linejoin:miter;stroke-opacity:1\"/>\n",
       "<path class=\"bond-42 atom-42 atom-43\" d=\"M 244.2,7.0 L 234.4,6.4\" style=\"fill:none;fill-rule:evenodd;stroke:#000000;stroke-width:2.0px;stroke-linecap:butt;stroke-linejoin:miter;stroke-opacity:1\"/>\n",
       "<path class=\"bond-42 atom-42 atom-43\" d=\"M 242.6,8.9 L 235.8,8.5\" style=\"fill:none;fill-rule:evenodd;stroke:#000000;stroke-width:2.0px;stroke-linecap:butt;stroke-linejoin:miter;stroke-opacity:1\"/>\n",
       "<path class=\"bond-43 atom-43 atom-44\" d=\"M 234.4,6.4 L 229.0,14.6\" style=\"fill:none;fill-rule:evenodd;stroke:#000000;stroke-width:2.0px;stroke-linecap:butt;stroke-linejoin:miter;stroke-opacity:1\"/>\n",
       "<path class=\"bond-44 atom-44 atom-45\" d=\"M 229.0,14.6 L 233.4,23.3\" style=\"fill:none;fill-rule:evenodd;stroke:#000000;stroke-width:2.0px;stroke-linecap:butt;stroke-linejoin:miter;stroke-opacity:1\"/>\n",
       "<path class=\"bond-44 atom-44 atom-45\" d=\"M 231.4,15.0 L 234.5,21.2\" style=\"fill:none;fill-rule:evenodd;stroke:#000000;stroke-width:2.0px;stroke-linecap:butt;stroke-linejoin:miter;stroke-opacity:1\"/>\n",
       "<path class=\"bond-45 atom-45 atom-40\" d=\"M 233.4,23.3 L 243.2,23.9\" style=\"fill:none;fill-rule:evenodd;stroke:#000000;stroke-width:2.0px;stroke-linecap:butt;stroke-linejoin:miter;stroke-opacity:1\"/>\n",
       "<path class=\"bond-46 atom-28 atom-39\" d=\"M 242.1,40.9 L 247.5,32.7\" style=\"fill:none;fill-rule:evenodd;stroke:#000000;stroke-width:2.0px;stroke-linecap:butt;stroke-linejoin:miter;stroke-opacity:1\"/>\n",
       "<path class=\"bond-47 atom-46 atom-47\" d=\"M 150.1,103.1 L 155.5,95.0\" style=\"fill:none;fill-rule:evenodd;stroke:#000000;stroke-width:2.0px;stroke-linecap:butt;stroke-linejoin:miter;stroke-opacity:1\"/>\n",
       "<path class=\"bond-48 atom-37 atom-47\" d=\"M 165.3,95.6 L 155.5,95.0\" style=\"fill:none;fill-rule:evenodd;stroke:#000000;stroke-width:2.0px;stroke-linecap:butt;stroke-linejoin:miter;stroke-opacity:1\"/>\n",
       "<path class=\"bond-49 atom-48 atom-49\" d=\"M 134.9,110.7 L 140.3,102.5\" style=\"fill:none;fill-rule:evenodd;stroke:#000000;stroke-width:2.0px;stroke-linecap:butt;stroke-linejoin:miter;stroke-opacity:1\"/>\n",
       "<path class=\"bond-50 atom-46 atom-49\" d=\"M 150.1,103.1 L 140.3,102.5\" style=\"fill:none;fill-rule:evenodd;stroke:#000000;stroke-width:2.0px;stroke-linecap:butt;stroke-linejoin:miter;stroke-opacity:1\"/>\n",
       "<path class=\"bond-51 atom-50 atom-51\" d=\"M 119.8,118.2 L 125.2,110.1\" style=\"fill:none;fill-rule:evenodd;stroke:#000000;stroke-width:2.0px;stroke-linecap:butt;stroke-linejoin:miter;stroke-opacity:1\"/>\n",
       "<path class=\"bond-52 atom-48 atom-51\" d=\"M 134.9,110.7 L 125.2,110.1\" style=\"fill:none;fill-rule:evenodd;stroke:#000000;stroke-width:2.0px;stroke-linecap:butt;stroke-linejoin:miter;stroke-opacity:1\"/>\n",
       "<path class=\"bond-53 atom-52 atom-53\" d=\"M 261.7,42.1 L 257.3,33.3\" style=\"fill:none;fill-rule:evenodd;stroke:#000000;stroke-width:2.0px;stroke-linecap:butt;stroke-linejoin:miter;stroke-opacity:1\"/>\n",
       "<path class=\"bond-54 atom-39 atom-53\" d=\"M 247.5,32.7 L 257.3,33.3\" style=\"fill:none;fill-rule:evenodd;stroke:#000000;stroke-width:2.0px;stroke-linecap:butt;stroke-linejoin:miter;stroke-opacity:1\"/>\n",
       "<path class=\"bond-55 atom-54 atom-55\" d=\"M 302.0,103.9 L 297.6,95.2\" style=\"fill:none;fill-rule:evenodd;stroke:#000000;stroke-width:2.0px;stroke-linecap:butt;stroke-linejoin:miter;stroke-opacity:1\"/>\n",
       "<path class=\"bond-56 atom-10 atom-55\" d=\"M 287.8,94.6 L 297.6,95.2\" style=\"fill:none;fill-rule:evenodd;stroke:#000000;stroke-width:2.0px;stroke-linecap:butt;stroke-linejoin:miter;stroke-opacity:1\"/>\n",
       "<path class=\"bond-57 atom-56 atom-57\" d=\"M 110.0,117.6 L 104.6,125.8\" style=\"fill:none;fill-rule:evenodd;stroke:#000000;stroke-width:2.0px;stroke-linecap:butt;stroke-linejoin:miter;stroke-opacity:1\"/>\n",
       "<path class=\"bond-58 atom-50 atom-56\" d=\"M 119.8,118.2 L 110.0,117.6\" style=\"fill:none;fill-rule:evenodd;stroke:#000000;stroke-width:2.0px;stroke-linecap:butt;stroke-linejoin:miter;stroke-opacity:1\"/>\n",
       "<path class=\"bond-59 atom-58 atom-59\" d=\"M 275.8,51.4 L 271.4,42.7\" style=\"fill:none;fill-rule:evenodd;stroke:#000000;stroke-width:2.0px;stroke-linecap:butt;stroke-linejoin:miter;stroke-opacity:1\"/>\n",
       "<path class=\"bond-60 atom-52 atom-59\" d=\"M 261.7,42.1 L 271.4,42.7\" style=\"fill:none;fill-rule:evenodd;stroke:#000000;stroke-width:2.0px;stroke-linecap:butt;stroke-linejoin:miter;stroke-opacity:1\"/>\n",
       "<path class=\"bond-61 atom-60 atom-61\" d=\"M 311.7,104.5 L 316.1,113.3\" style=\"fill:none;fill-rule:evenodd;stroke:#000000;stroke-width:2.0px;stroke-linecap:butt;stroke-linejoin:miter;stroke-opacity:1\"/>\n",
       "<path class=\"bond-62 atom-61 atom-62\" d=\"M 316.1,113.3 L 325.9,113.9\" style=\"fill:none;fill-rule:evenodd;stroke:#000000;stroke-width:2.0px;stroke-linecap:butt;stroke-linejoin:miter;stroke-opacity:1\"/>\n",
       "<path class=\"bond-63 atom-62 atom-63\" d=\"M 325.9,113.9 L 330.2,122.6\" style=\"fill:none;fill-rule:evenodd;stroke:#000000;stroke-width:2.0px;stroke-linecap:butt;stroke-linejoin:miter;stroke-opacity:1\"/>\n",
       "<path class=\"bond-64 atom-62 atom-64\" d=\"M 325.9,113.9 L 331.3,105.7\" style=\"fill:none;fill-rule:evenodd;stroke:#000000;stroke-width:2.0px;stroke-linecap:butt;stroke-linejoin:miter;stroke-opacity:1\"/>\n",
       "<path class=\"bond-65 atom-64 atom-65\" d=\"M 331.3,105.7 L 341.0,106.3\" style=\"fill:none;fill-rule:evenodd;stroke:#000000;stroke-width:2.0px;stroke-linecap:butt;stroke-linejoin:miter;stroke-opacity:1\"/>\n",
       "<path class=\"bond-66 atom-54 atom-60\" d=\"M 302.0,103.9 L 311.7,104.5\" style=\"fill:none;fill-rule:evenodd;stroke:#000000;stroke-width:2.0px;stroke-linecap:butt;stroke-linejoin:miter;stroke-opacity:1\"/>\n",
       "<path class=\"bond-67 atom-66 atom-67\" d=\"M 285.5,52.0 L 289.9,60.8\" style=\"fill:none;fill-rule:evenodd;stroke:#000000;stroke-width:2.0px;stroke-linecap:butt;stroke-linejoin:miter;stroke-opacity:1\"/>\n",
       "<path class=\"bond-68 atom-58 atom-66\" d=\"M 275.8,51.4 L 285.5,52.0\" style=\"fill:none;fill-rule:evenodd;stroke:#000000;stroke-width:2.0px;stroke-linecap:butt;stroke-linejoin:miter;stroke-opacity:1\"/>\n",
       "<path class=\"bond-69 atom-68 atom-69\" d=\"M 299.7,61.4 L 304.0,70.1\" style=\"fill:none;fill-rule:evenodd;stroke:#000000;stroke-width:2.0px;stroke-linecap:butt;stroke-linejoin:miter;stroke-opacity:1\"/>\n",
       "<path class=\"bond-70 atom-67 atom-68\" d=\"M 289.9,60.8 L 299.7,61.4\" style=\"fill:none;fill-rule:evenodd;stroke:#000000;stroke-width:2.0px;stroke-linecap:butt;stroke-linejoin:miter;stroke-opacity:1\"/>\n",
       "<path class=\"bond-71 atom-70 atom-71\" d=\"M 318.2,79.5 L 313.8,70.7\" style=\"fill:none;fill-rule:evenodd;stroke:#000000;stroke-width:2.0px;stroke-linecap:butt;stroke-linejoin:miter;stroke-opacity:1\"/>\n",
       "<path class=\"bond-72 atom-69 atom-71\" d=\"M 304.0,70.1 L 313.8,70.7\" style=\"fill:none;fill-rule:evenodd;stroke:#000000;stroke-width:2.0px;stroke-linecap:butt;stroke-linejoin:miter;stroke-opacity:1\"/>\n",
       "<path class=\"bond-73 atom-72 atom-73\" d=\"M 327.9,80.1 L 332.3,88.8\" style=\"fill:none;fill-rule:evenodd;stroke:#000000;stroke-width:2.0px;stroke-linecap:butt;stroke-linejoin:miter;stroke-opacity:1\"/>\n",
       "<path class=\"bond-74 atom-70 atom-72\" d=\"M 318.2,79.5 L 327.9,80.1\" style=\"fill:none;fill-rule:evenodd;stroke:#000000;stroke-width:2.0px;stroke-linecap:butt;stroke-linejoin:miter;stroke-opacity:1\"/>\n",
       "<path class=\"bond-75 atom-74 atom-75\" d=\"M 317.1,96.4 L 326.9,97.0\" style=\"fill:none;fill-rule:evenodd;stroke:#000000;stroke-width:2.0px;stroke-linecap:butt;stroke-linejoin:miter;stroke-opacity:1\"/>\n",
       "<path class=\"bond-76 atom-64 atom-75\" d=\"M 331.3,105.7 L 326.9,97.0\" style=\"fill:none;fill-rule:evenodd;stroke:#000000;stroke-width:2.0px;stroke-linecap:butt;stroke-linejoin:miter;stroke-opacity:1\"/>\n",
       "<path class=\"bond-77 atom-76 atom-77\" d=\"M 303.0,87.0 L 312.8,87.6\" style=\"fill:none;fill-rule:evenodd;stroke:#000000;stroke-width:2.0px;stroke-linecap:butt;stroke-linejoin:miter;stroke-opacity:1\"/>\n",
       "<path class=\"bond-78 atom-74 atom-77\" d=\"M 317.1,96.4 L 312.8,87.6\" style=\"fill:none;fill-rule:evenodd;stroke:#000000;stroke-width:2.0px;stroke-linecap:butt;stroke-linejoin:miter;stroke-opacity:1\"/>\n",
       "<path class=\"bond-79 atom-78 atom-79\" d=\"M 342.1,89.4 L 346.4,98.2\" style=\"fill:none;fill-rule:evenodd;stroke:#000000;stroke-width:2.0px;stroke-linecap:butt;stroke-linejoin:miter;stroke-opacity:1\"/>\n",
       "<path class=\"bond-80 atom-73 atom-78\" d=\"M 332.3,88.8 L 342.1,89.4\" style=\"fill:none;fill-rule:evenodd;stroke:#000000;stroke-width:2.0px;stroke-linecap:butt;stroke-linejoin:miter;stroke-opacity:1\"/>\n",
       "<path class=\"bond-81 atom-80 atom-81\" d=\"M 344.4,132.0 L 340.0,123.2\" style=\"fill:none;fill-rule:evenodd;stroke:#000000;stroke-width:2.0px;stroke-linecap:butt;stroke-linejoin:miter;stroke-opacity:1\"/>\n",
       "<path class=\"bond-82 atom-63 atom-81\" d=\"M 330.2,122.6 L 340.0,123.2\" style=\"fill:none;fill-rule:evenodd;stroke:#000000;stroke-width:2.0px;stroke-linecap:butt;stroke-linejoin:miter;stroke-opacity:1\"/>\n",
       "<path class=\"bond-83 atom-82 atom-83\" d=\"M 94.8,125.2 L 93.0,128.1\" style=\"fill:none;fill-rule:evenodd;stroke:#000000;stroke-width:2.0px;stroke-linecap:butt;stroke-linejoin:miter;stroke-opacity:1\"/>\n",
       "<path class=\"bond-83 atom-82 atom-83\" d=\"M 93.0,128.1 L 91.1,130.9\" style=\"fill:none;fill-rule:evenodd;stroke:#FF0000;stroke-width:2.0px;stroke-linecap:butt;stroke-linejoin:miter;stroke-opacity:1\"/>\n",
       "<path class=\"bond-84 atom-83 atom-84\" d=\"M 87.2,133.2 L 83.4,133.0\" style=\"fill:none;fill-rule:evenodd;stroke:#FF0000;stroke-width:2.0px;stroke-linecap:butt;stroke-linejoin:miter;stroke-opacity:1\"/>\n",
       "<path class=\"bond-84 atom-83 atom-84\" d=\"M 83.4,133.0 L 79.7,132.8\" style=\"fill:none;fill-rule:evenodd;stroke:#000000;stroke-width:2.0px;stroke-linecap:butt;stroke-linejoin:miter;stroke-opacity:1\"/>\n",
       "<path class=\"bond-85 atom-57 atom-82\" d=\"M 104.6,125.8 L 94.8,125.2\" style=\"fill:none;fill-rule:evenodd;stroke:#000000;stroke-width:2.0px;stroke-linecap:butt;stroke-linejoin:miter;stroke-opacity:1\"/>\n",
       "<path class=\"bond-86 atom-85 atom-86\" d=\"M 354.1,132.6 L 355.7,135.7\" style=\"fill:none;fill-rule:evenodd;stroke:#000000;stroke-width:2.0px;stroke-linecap:butt;stroke-linejoin:miter;stroke-opacity:1\"/>\n",
       "<path class=\"bond-86 atom-85 atom-86\" d=\"M 355.7,135.7 L 357.3,138.9\" style=\"fill:none;fill-rule:evenodd;stroke:#FF0000;stroke-width:2.0px;stroke-linecap:butt;stroke-linejoin:miter;stroke-opacity:1\"/>\n",
       "<path class=\"bond-87 atom-86 atom-87\" d=\"M 360.8,141.5 L 364.5,141.7\" style=\"fill:none;fill-rule:evenodd;stroke:#FF0000;stroke-width:2.0px;stroke-linecap:butt;stroke-linejoin:miter;stroke-opacity:1\"/>\n",
       "<path class=\"bond-87 atom-86 atom-87\" d=\"M 364.5,141.7 L 368.3,142.0\" style=\"fill:none;fill-rule:evenodd;stroke:#000000;stroke-width:2.0px;stroke-linecap:butt;stroke-linejoin:miter;stroke-opacity:1\"/>\n",
       "<path class=\"bond-88 atom-80 atom-85\" d=\"M 344.4,132.0 L 354.1,132.6\" style=\"fill:none;fill-rule:evenodd;stroke:#000000;stroke-width:2.0px;stroke-linecap:butt;stroke-linejoin:miter;stroke-opacity:1\"/>\n",
       "<path class=\"bond-89 atom-88 atom-89\" d=\"M 356.2,98.8 L 357.8,101.9\" style=\"fill:none;fill-rule:evenodd;stroke:#000000;stroke-width:2.0px;stroke-linecap:butt;stroke-linejoin:miter;stroke-opacity:1\"/>\n",
       "<path class=\"bond-89 atom-88 atom-89\" d=\"M 357.8,101.9 L 359.3,105.1\" style=\"fill:none;fill-rule:evenodd;stroke:#FF0000;stroke-width:2.0px;stroke-linecap:butt;stroke-linejoin:miter;stroke-opacity:1\"/>\n",
       "<path class=\"bond-90 atom-89 atom-90\" d=\"M 362.8,107.7 L 366.6,107.9\" style=\"fill:none;fill-rule:evenodd;stroke:#FF0000;stroke-width:2.0px;stroke-linecap:butt;stroke-linejoin:miter;stroke-opacity:1\"/>\n",
       "<path class=\"bond-90 atom-89 atom-90\" d=\"M 366.6,107.9 L 370.3,108.1\" style=\"fill:none;fill-rule:evenodd;stroke:#000000;stroke-width:2.0px;stroke-linecap:butt;stroke-linejoin:miter;stroke-opacity:1\"/>\n",
       "<path class=\"bond-91 atom-79 atom-88\" d=\"M 346.4,98.2 L 356.2,98.8\" style=\"fill:none;fill-rule:evenodd;stroke:#000000;stroke-width:2.0px;stroke-linecap:butt;stroke-linejoin:miter;stroke-opacity:1\"/>\n",
       "<path class=\"bond-92 atom-91 atom-92\" d=\"M 298.6,78.3 L 294.7,78.0\" style=\"fill:none;fill-rule:evenodd;stroke:#000000;stroke-width:2.0px;stroke-linecap:butt;stroke-linejoin:miter;stroke-opacity:1\"/>\n",
       "<path class=\"bond-92 atom-91 atom-92\" d=\"M 294.7,78.0 L 290.8,77.8\" style=\"fill:none;fill-rule:evenodd;stroke:#0000FF;stroke-width:2.0px;stroke-linecap:butt;stroke-linejoin:miter;stroke-opacity:1\"/>\n",
       "<path class=\"bond-93 atom-76 atom-91\" d=\"M 303.0,87.0 L 298.6,78.3\" style=\"fill:none;fill-rule:evenodd;stroke:#000000;stroke-width:2.0px;stroke-linecap:butt;stroke-linejoin:miter;stroke-opacity:1\"/>\n",
       "<path class=\"atom-0\" d=\"M 184.9 129.1 L 185.5 129.1 L 185.5 130.9 L 187.7 130.9 L 187.7 129.1 L 188.2 129.1 L 188.2 133.3 L 187.7 133.3 L 187.7 131.4 L 185.5 131.4 L 185.5 133.3 L 184.9 133.3 L 184.9 129.1 \" fill=\"#0000FF\"/>\n",
       "<path class=\"atom-0\" d=\"M 188.8 133.2 Q 188.9 132.9, 189.1 132.8 Q 189.4 132.6, 189.7 132.6 Q 190.1 132.6, 190.4 132.8 Q 190.6 133.1, 190.6 133.5 Q 190.6 133.9, 190.3 134.3 Q 190.0 134.7, 189.3 135.1 L 190.6 135.1 L 190.6 135.4 L 188.8 135.4 L 188.8 135.2 Q 189.3 134.8, 189.6 134.5 Q 189.9 134.2, 190.0 134.0 Q 190.2 133.7, 190.2 133.5 Q 190.2 133.2, 190.1 133.1 Q 189.9 132.9, 189.7 132.9 Q 189.5 132.9, 189.3 133.0 Q 189.2 133.1, 189.1 133.3 L 188.8 133.2 \" fill=\"#0000FF\"/>\n",
       "<path class=\"atom-0\" d=\"M 191.5 129.1 L 192.9 131.3 Q 193.1 131.5, 193.3 131.9 Q 193.5 132.3, 193.5 132.4 L 193.5 129.1 L 194.1 129.1 L 194.1 133.3 L 193.5 133.3 L 192.0 130.9 Q 191.8 130.6, 191.7 130.2 Q 191.5 129.9, 191.4 129.8 L 191.4 133.3 L 190.9 133.3 L 190.9 129.1 L 191.5 129.1 \" fill=\"#0000FF\"/>\n",
       "<path class=\"atom-83\" d=\"M 87.5 133.4 Q 87.5 132.4, 88.0 131.8 Q 88.5 131.2, 89.4 131.2 Q 90.4 131.2, 90.9 131.8 Q 91.4 132.4, 91.4 133.4 Q 91.4 134.4, 90.9 135.0 Q 90.4 135.6, 89.4 135.6 Q 88.5 135.6, 88.0 135.0 Q 87.5 134.4, 87.5 133.4 M 89.4 135.1 Q 90.1 135.1, 90.4 134.7 Q 90.8 134.2, 90.8 133.4 Q 90.8 132.5, 90.4 132.1 Q 90.1 131.7, 89.4 131.7 Q 88.8 131.7, 88.4 132.1 Q 88.1 132.5, 88.1 133.4 Q 88.1 134.2, 88.4 134.7 Q 88.8 135.1, 89.4 135.1 \" fill=\"#FF0000\"/>\n",
       "<path class=\"atom-86\" d=\"M 356.5 141.4 Q 356.5 140.3, 357.0 139.8 Q 357.5 139.2, 358.5 139.2 Q 359.4 139.2, 359.9 139.8 Q 360.4 140.3, 360.4 141.4 Q 360.4 142.4, 359.9 143.0 Q 359.4 143.6, 358.5 143.6 Q 357.6 143.6, 357.0 143.0 Q 356.5 142.4, 356.5 141.4 M 358.5 143.1 Q 359.1 143.1, 359.5 142.7 Q 359.8 142.2, 359.8 141.4 Q 359.8 140.5, 359.5 140.1 Q 359.1 139.7, 358.5 139.7 Q 357.8 139.7, 357.5 140.1 Q 357.1 140.5, 357.1 141.4 Q 357.1 142.2, 357.5 142.7 Q 357.8 143.1, 358.5 143.1 \" fill=\"#FF0000\"/>\n",
       "<path class=\"atom-89\" d=\"M 358.6 107.5 Q 358.6 106.5, 359.1 105.9 Q 359.6 105.4, 360.6 105.4 Q 361.5 105.4, 362.0 105.9 Q 362.5 106.5, 362.5 107.5 Q 362.5 108.6, 362.0 109.2 Q 361.5 109.7, 360.6 109.7 Q 359.6 109.7, 359.1 109.2 Q 358.6 108.6, 358.6 107.5 M 360.6 109.3 Q 361.2 109.3, 361.6 108.8 Q 361.9 108.4, 361.9 107.5 Q 361.9 106.7, 361.6 106.3 Q 361.2 105.9, 360.6 105.9 Q 359.9 105.9, 359.6 106.3 Q 359.2 106.7, 359.2 107.5 Q 359.2 108.4, 359.6 108.8 Q 359.9 109.3, 360.6 109.3 \" fill=\"#FF0000\"/>\n",
       "<path class=\"atom-92\" d=\"M 281.3 75.5 L 281.9 75.5 L 281.9 77.4 L 284.1 77.4 L 284.1 75.5 L 284.6 75.5 L 284.6 79.8 L 284.1 79.8 L 284.1 77.8 L 281.9 77.8 L 281.9 79.8 L 281.3 79.8 L 281.3 75.5 \" fill=\"#0000FF\"/>\n",
       "<path class=\"atom-92\" d=\"M 285.1 79.6 Q 285.3 79.4, 285.5 79.2 Q 285.7 79.1, 286.1 79.1 Q 286.5 79.1, 286.7 79.3 Q 287.0 79.5, 287.0 80.0 Q 287.0 80.4, 286.7 80.8 Q 286.4 81.1, 285.7 81.6 L 287.0 81.6 L 287.0 81.9 L 285.1 81.9 L 285.1 81.7 Q 285.7 81.3, 286.0 81.0 Q 286.3 80.7, 286.4 80.5 Q 286.6 80.2, 286.6 80.0 Q 286.6 79.7, 286.5 79.6 Q 286.3 79.4, 286.1 79.4 Q 285.9 79.4, 285.7 79.5 Q 285.6 79.6, 285.4 79.8 L 285.1 79.6 \" fill=\"#0000FF\"/>\n",
       "<path class=\"atom-92\" d=\"M 287.9 75.5 L 289.3 77.8 Q 289.5 78.0, 289.7 78.4 Q 289.9 78.8, 289.9 78.8 L 289.9 75.5 L 290.5 75.5 L 290.5 79.8 L 289.9 79.8 L 288.4 77.3 Q 288.2 77.0, 288.1 76.7 Q 287.9 76.4, 287.8 76.3 L 287.8 79.8 L 287.3 79.8 L 287.3 75.5 L 287.9 75.5 \" fill=\"#0000FF\"/>\n",
       "</svg>"
      ],
      "text/plain": [
       "<IPython.core.display.SVG object>"
      ]
     },
     "execution_count": 42,
     "metadata": {},
     "output_type": "execute_result"
    }
   ],
   "source": [
    "big_smiles_gen(big, 2)"
   ]
  },
  {
   "cell_type": "code",
   "execution_count": 43,
   "id": "38069241",
   "metadata": {},
   "outputs": [
    {
     "name": "stdout",
     "output_type": "stream",
     "text": [
      "29\n"
     ]
    },
    {
     "data": {
      "image/svg+xml": [
       "<svg xmlns=\"http://www.w3.org/2000/svg\" xmlns:rdkit=\"http://www.rdkit.org/xml\" xmlns:xlink=\"http://www.w3.org/1999/xlink\" version=\"1.1\" baseProfile=\"full\" xml:space=\"preserve\" width=\"450px\" height=\"150px\" viewBox=\"0 0 450 150\">\n",
       "<!-- END OF HEADER -->\n",
       "<rect style=\"opacity:1.0;fill:#FFFFFF;stroke:none\" width=\"450.0\" height=\"150.0\" x=\"0.0\" y=\"0.0\"> </rect>\n",
       "<path class=\"bond-0 atom-0 atom-1\" d=\"M 158.1,8.7 L 163.5,7.8\" style=\"fill:none;fill-rule:evenodd;stroke:#0000FF;stroke-width:2.0px;stroke-linecap:butt;stroke-linejoin:miter;stroke-opacity:1\"/>\n",
       "<path class=\"bond-0 atom-0 atom-1\" d=\"M 163.5,7.8 L 168.9,6.8\" style=\"fill:none;fill-rule:evenodd;stroke:#000000;stroke-width:2.0px;stroke-linecap:butt;stroke-linejoin:miter;stroke-opacity:1\"/>\n",
       "<path class=\"bond-1 atom-2 atom-3\" d=\"M 190.1,14.5 L 177.3,16.8\" style=\"fill:none;fill-rule:evenodd;stroke:#000000;stroke-width:2.0px;stroke-linecap:butt;stroke-linejoin:miter;stroke-opacity:1\"/>\n",
       "<path class=\"bond-2 atom-1 atom-3\" d=\"M 168.9,6.8 L 177.3,16.8\" style=\"fill:none;fill-rule:evenodd;stroke:#000000;stroke-width:2.0px;stroke-linecap:butt;stroke-linejoin:miter;stroke-opacity:1\"/>\n",
       "<path class=\"bond-3 atom-4 atom-5\" d=\"M 198.4,24.5 L 211.3,22.2\" style=\"fill:none;fill-rule:evenodd;stroke:#000000;stroke-width:2.0px;stroke-linecap:butt;stroke-linejoin:miter;stroke-opacity:1\"/>\n",
       "<path class=\"bond-4 atom-5 atom-6\" d=\"M 211.3,22.2 L 219.6,32.2\" style=\"fill:none;fill-rule:evenodd;stroke:#000000;stroke-width:2.0px;stroke-linecap:butt;stroke-linejoin:miter;stroke-opacity:1\"/>\n",
       "<path class=\"bond-4 atom-5 atom-6\" d=\"M 214.5,22.0 L 220.4,29.0\" style=\"fill:none;fill-rule:evenodd;stroke:#000000;stroke-width:2.0px;stroke-linecap:butt;stroke-linejoin:miter;stroke-opacity:1\"/>\n",
       "<path class=\"bond-5 atom-6 atom-7\" d=\"M 219.6,32.2 L 232.5,29.9\" style=\"fill:none;fill-rule:evenodd;stroke:#000000;stroke-width:2.0px;stroke-linecap:butt;stroke-linejoin:miter;stroke-opacity:1\"/>\n",
       "<path class=\"bond-6 atom-7 atom-8\" d=\"M 232.5,29.9 L 236.9,17.7\" style=\"fill:none;fill-rule:evenodd;stroke:#000000;stroke-width:2.0px;stroke-linecap:butt;stroke-linejoin:miter;stroke-opacity:1\"/>\n",
       "<path class=\"bond-6 atom-7 atom-8\" d=\"M 230.7,27.2 L 233.8,18.6\" style=\"fill:none;fill-rule:evenodd;stroke:#000000;stroke-width:2.0px;stroke-linecap:butt;stroke-linejoin:miter;stroke-opacity:1\"/>\n",
       "<path class=\"bond-7 atom-8 atom-9\" d=\"M 236.9,17.7 L 228.5,7.7\" style=\"fill:none;fill-rule:evenodd;stroke:#000000;stroke-width:2.0px;stroke-linecap:butt;stroke-linejoin:miter;stroke-opacity:1\"/>\n",
       "<path class=\"bond-8 atom-9 atom-10\" d=\"M 228.5,7.7 L 215.7,10.0\" style=\"fill:none;fill-rule:evenodd;stroke:#000000;stroke-width:2.0px;stroke-linecap:butt;stroke-linejoin:miter;stroke-opacity:1\"/>\n",
       "<path class=\"bond-8 atom-9 atom-10\" d=\"M 227.1,10.6 L 218.1,12.2\" style=\"fill:none;fill-rule:evenodd;stroke:#000000;stroke-width:2.0px;stroke-linecap:butt;stroke-linejoin:miter;stroke-opacity:1\"/>\n",
       "<path class=\"bond-9 atom-10 atom-5\" d=\"M 215.7,10.0 L 211.3,22.2\" style=\"fill:none;fill-rule:evenodd;stroke:#000000;stroke-width:2.0px;stroke-linecap:butt;stroke-linejoin:miter;stroke-opacity:1\"/>\n",
       "<path class=\"bond-10 atom-2 atom-4\" d=\"M 190.1,14.5 L 198.4,24.5\" style=\"fill:none;fill-rule:evenodd;stroke:#000000;stroke-width:2.0px;stroke-linecap:butt;stroke-linejoin:miter;stroke-opacity:1\"/>\n",
       "<path class=\"bond-11 atom-11 atom-12\" d=\"M 194.0,36.7 L 202.4,46.7\" style=\"fill:none;fill-rule:evenodd;stroke:#000000;stroke-width:2.0px;stroke-linecap:butt;stroke-linejoin:miter;stroke-opacity:1\"/>\n",
       "<path class=\"bond-12 atom-12 atom-13\" d=\"M 202.4,46.7 L 197.9,58.9\" style=\"fill:none;fill-rule:evenodd;stroke:#000000;stroke-width:2.0px;stroke-linecap:butt;stroke-linejoin:miter;stroke-opacity:1\"/>\n",
       "<path class=\"bond-12 atom-12 atom-13\" d=\"M 204.2,49.4 L 201.0,58.0\" style=\"fill:none;fill-rule:evenodd;stroke:#000000;stroke-width:2.0px;stroke-linecap:butt;stroke-linejoin:miter;stroke-opacity:1\"/>\n",
       "<path class=\"bond-13 atom-13 atom-14\" d=\"M 197.9,58.9 L 206.3,68.9\" style=\"fill:none;fill-rule:evenodd;stroke:#000000;stroke-width:2.0px;stroke-linecap:butt;stroke-linejoin:miter;stroke-opacity:1\"/>\n",
       "<path class=\"bond-14 atom-14 atom-15\" d=\"M 206.3,68.9 L 219.1,66.6\" style=\"fill:none;fill-rule:evenodd;stroke:#000000;stroke-width:2.0px;stroke-linecap:butt;stroke-linejoin:miter;stroke-opacity:1\"/>\n",
       "<path class=\"bond-14 atom-14 atom-15\" d=\"M 207.8,66.0 L 216.7,64.4\" style=\"fill:none;fill-rule:evenodd;stroke:#000000;stroke-width:2.0px;stroke-linecap:butt;stroke-linejoin:miter;stroke-opacity:1\"/>\n",
       "<path class=\"bond-15 atom-15 atom-16\" d=\"M 219.1,66.6 L 223.6,54.4\" style=\"fill:none;fill-rule:evenodd;stroke:#000000;stroke-width:2.0px;stroke-linecap:butt;stroke-linejoin:miter;stroke-opacity:1\"/>\n",
       "<path class=\"bond-16 atom-16 atom-17\" d=\"M 223.6,54.4 L 215.2,44.4\" style=\"fill:none;fill-rule:evenodd;stroke:#000000;stroke-width:2.0px;stroke-linecap:butt;stroke-linejoin:miter;stroke-opacity:1\"/>\n",
       "<path class=\"bond-16 atom-16 atom-17\" d=\"M 220.3,54.6 L 214.5,47.6\" style=\"fill:none;fill-rule:evenodd;stroke:#000000;stroke-width:2.0px;stroke-linecap:butt;stroke-linejoin:miter;stroke-opacity:1\"/>\n",
       "<path class=\"bond-17 atom-17 atom-12\" d=\"M 215.2,44.4 L 202.4,46.7\" style=\"fill:none;fill-rule:evenodd;stroke:#000000;stroke-width:2.0px;stroke-linecap:butt;stroke-linejoin:miter;stroke-opacity:1\"/>\n",
       "<path class=\"bond-18 atom-4 atom-11\" d=\"M 198.4,24.5 L 194.0,36.7\" style=\"fill:none;fill-rule:evenodd;stroke:#000000;stroke-width:2.0px;stroke-linecap:butt;stroke-linejoin:miter;stroke-opacity:1\"/>\n",
       "<path class=\"bond-19 atom-18 atom-19\" d=\"M 181.2,39.0 L 176.7,51.2\" style=\"fill:none;fill-rule:evenodd;stroke:#000000;stroke-width:2.0px;stroke-linecap:butt;stroke-linejoin:miter;stroke-opacity:1\"/>\n",
       "<path class=\"bond-20 atom-11 atom-18\" d=\"M 194.0,36.7 L 181.2,39.0\" style=\"fill:none;fill-rule:evenodd;stroke:#000000;stroke-width:2.0px;stroke-linecap:butt;stroke-linejoin:miter;stroke-opacity:1\"/>\n",
       "<path class=\"bond-21 atom-20 atom-21\" d=\"M 163.9,53.5 L 159.5,65.7\" style=\"fill:none;fill-rule:evenodd;stroke:#000000;stroke-width:2.0px;stroke-linecap:butt;stroke-linejoin:miter;stroke-opacity:1\"/>\n",
       "<path class=\"bond-22 atom-19 atom-20\" d=\"M 176.7,51.2 L 163.9,53.5\" style=\"fill:none;fill-rule:evenodd;stroke:#000000;stroke-width:2.0px;stroke-linecap:butt;stroke-linejoin:miter;stroke-opacity:1\"/>\n",
       "<path class=\"bond-23 atom-22 atom-23\" d=\"M 146.7,68.0 L 138.3,58.0\" style=\"fill:none;fill-rule:evenodd;stroke:#000000;stroke-width:2.0px;stroke-linecap:butt;stroke-linejoin:miter;stroke-opacity:1\"/>\n",
       "<path class=\"bond-24 atom-23 atom-24\" d=\"M 138.3,58.0 L 142.7,45.8\" style=\"fill:none;fill-rule:evenodd;stroke:#000000;stroke-width:2.0px;stroke-linecap:butt;stroke-linejoin:miter;stroke-opacity:1\"/>\n",
       "<path class=\"bond-24 atom-23 atom-24\" d=\"M 136.5,55.3 L 139.6,46.7\" style=\"fill:none;fill-rule:evenodd;stroke:#000000;stroke-width:2.0px;stroke-linecap:butt;stroke-linejoin:miter;stroke-opacity:1\"/>\n",
       "<path class=\"bond-25 atom-24 atom-25\" d=\"M 142.7,45.8 L 134.4,35.8\" style=\"fill:none;fill-rule:evenodd;stroke:#000000;stroke-width:2.0px;stroke-linecap:butt;stroke-linejoin:miter;stroke-opacity:1\"/>\n",
       "<path class=\"bond-26 atom-25 atom-26\" d=\"M 134.4,35.8 L 121.5,38.1\" style=\"fill:none;fill-rule:evenodd;stroke:#000000;stroke-width:2.0px;stroke-linecap:butt;stroke-linejoin:miter;stroke-opacity:1\"/>\n",
       "<path class=\"bond-26 atom-25 atom-26\" d=\"M 132.9,38.7 L 123.9,40.3\" style=\"fill:none;fill-rule:evenodd;stroke:#000000;stroke-width:2.0px;stroke-linecap:butt;stroke-linejoin:miter;stroke-opacity:1\"/>\n",
       "<path class=\"bond-27 atom-26 atom-27\" d=\"M 121.5,38.1 L 117.1,50.3\" style=\"fill:none;fill-rule:evenodd;stroke:#000000;stroke-width:2.0px;stroke-linecap:butt;stroke-linejoin:miter;stroke-opacity:1\"/>\n",
       "<path class=\"bond-28 atom-27 atom-28\" d=\"M 117.1,50.3 L 125.5,60.3\" style=\"fill:none;fill-rule:evenodd;stroke:#000000;stroke-width:2.0px;stroke-linecap:butt;stroke-linejoin:miter;stroke-opacity:1\"/>\n",
       "<path class=\"bond-28 atom-27 atom-28\" d=\"M 120.3,50.1 L 126.2,57.1\" style=\"fill:none;fill-rule:evenodd;stroke:#000000;stroke-width:2.0px;stroke-linecap:butt;stroke-linejoin:miter;stroke-opacity:1\"/>\n",
       "<path class=\"bond-29 atom-28 atom-23\" d=\"M 125.5,60.3 L 138.3,58.0\" style=\"fill:none;fill-rule:evenodd;stroke:#000000;stroke-width:2.0px;stroke-linecap:butt;stroke-linejoin:miter;stroke-opacity:1\"/>\n",
       "<path class=\"bond-30 atom-21 atom-22\" d=\"M 159.5,65.7 L 146.7,68.0\" style=\"fill:none;fill-rule:evenodd;stroke:#000000;stroke-width:2.0px;stroke-linecap:butt;stroke-linejoin:miter;stroke-opacity:1\"/>\n",
       "<path class=\"bond-31 atom-29 atom-30\" d=\"M 142.2,80.2 L 129.4,82.5\" style=\"fill:none;fill-rule:evenodd;stroke:#000000;stroke-width:2.0px;stroke-linecap:butt;stroke-linejoin:miter;stroke-opacity:1\"/>\n",
       "<path class=\"bond-32 atom-30 atom-31\" d=\"M 129.4,82.5 L 125.0,94.7\" style=\"fill:none;fill-rule:evenodd;stroke:#000000;stroke-width:2.0px;stroke-linecap:butt;stroke-linejoin:miter;stroke-opacity:1\"/>\n",
       "<path class=\"bond-33 atom-31 atom-32\" d=\"M 125.0,94.7 L 112.1,97.0\" style=\"fill:none;fill-rule:evenodd;stroke:#000000;stroke-width:2.0px;stroke-linecap:butt;stroke-linejoin:miter;stroke-opacity:1\"/>\n",
       "<path class=\"bond-34 atom-31 atom-33\" d=\"M 125.0,94.7 L 133.3,104.7\" style=\"fill:none;fill-rule:evenodd;stroke:#000000;stroke-width:2.0px;stroke-linecap:butt;stroke-linejoin:miter;stroke-opacity:1\"/>\n",
       "<path class=\"bond-35 atom-33 atom-34\" d=\"M 133.3,104.7 L 128.9,116.9\" style=\"fill:none;fill-rule:evenodd;stroke:#000000;stroke-width:2.0px;stroke-linecap:butt;stroke-linejoin:miter;stroke-opacity:1\"/>\n",
       "<path class=\"bond-36 atom-22 atom-29\" d=\"M 146.7,68.0 L 142.2,80.2\" style=\"fill:none;fill-rule:evenodd;stroke:#000000;stroke-width:2.0px;stroke-linecap:butt;stroke-linejoin:miter;stroke-opacity:1\"/>\n",
       "<path class=\"bond-37 atom-35 atom-36\" d=\"M 154.5,112.4 L 146.1,102.4\" style=\"fill:none;fill-rule:evenodd;stroke:#000000;stroke-width:2.0px;stroke-linecap:butt;stroke-linejoin:miter;stroke-opacity:1\"/>\n",
       "<path class=\"bond-38 atom-33 atom-36\" d=\"M 133.3,104.7 L 146.1,102.4\" style=\"fill:none;fill-rule:evenodd;stroke:#000000;stroke-width:2.0px;stroke-linecap:butt;stroke-linejoin:miter;stroke-opacity:1\"/>\n",
       "<path class=\"bond-39 atom-37 atom-38\" d=\"M 167.3,110.1 L 175.7,120.1\" style=\"fill:none;fill-rule:evenodd;stroke:#000000;stroke-width:2.0px;stroke-linecap:butt;stroke-linejoin:miter;stroke-opacity:1\"/>\n",
       "<path class=\"bond-40 atom-38 atom-39\" d=\"M 175.7,120.1 L 188.5,117.8\" style=\"fill:none;fill-rule:evenodd;stroke:#000000;stroke-width:2.0px;stroke-linecap:butt;stroke-linejoin:miter;stroke-opacity:1\"/>\n",
       "<path class=\"bond-41 atom-39 atom-40\" d=\"M 188.5,117.8 L 196.9,127.8\" style=\"fill:none;fill-rule:evenodd;stroke:#000000;stroke-width:2.0px;stroke-linecap:butt;stroke-linejoin:miter;stroke-opacity:1\"/>\n",
       "<path class=\"bond-42 atom-39 atom-41\" d=\"M 188.5,117.8 L 193.0,105.6\" style=\"fill:none;fill-rule:evenodd;stroke:#000000;stroke-width:2.0px;stroke-linecap:butt;stroke-linejoin:miter;stroke-opacity:1\"/>\n",
       "<path class=\"bond-43 atom-41 atom-42\" d=\"M 193.0,105.6 L 205.8,103.3\" style=\"fill:none;fill-rule:evenodd;stroke:#000000;stroke-width:2.0px;stroke-linecap:butt;stroke-linejoin:miter;stroke-opacity:1\"/>\n",
       "<path class=\"bond-44 atom-35 atom-37\" d=\"M 154.5,112.4 L 167.3,110.1\" style=\"fill:none;fill-rule:evenodd;stroke:#000000;stroke-width:2.0px;stroke-linecap:butt;stroke-linejoin:miter;stroke-opacity:1\"/>\n",
       "<path class=\"bond-45 atom-43 atom-44\" d=\"M 209.7,125.5 L 218.1,135.5\" style=\"fill:none;fill-rule:evenodd;stroke:#000000;stroke-width:2.0px;stroke-linecap:butt;stroke-linejoin:miter;stroke-opacity:1\"/>\n",
       "<path class=\"bond-46 atom-40 atom-43\" d=\"M 196.9,127.8 L 209.7,125.5\" style=\"fill:none;fill-rule:evenodd;stroke:#000000;stroke-width:2.0px;stroke-linecap:butt;stroke-linejoin:miter;stroke-opacity:1\"/>\n",
       "<path class=\"bond-47 atom-45 atom-46\" d=\"M 252.6,106.5 L 248.2,118.7\" style=\"fill:none;fill-rule:evenodd;stroke:#000000;stroke-width:2.0px;stroke-linecap:butt;stroke-linejoin:miter;stroke-opacity:1\"/>\n",
       "<path class=\"bond-48 atom-46 atom-47\" d=\"M 248.2,118.7 L 235.3,121.0\" style=\"fill:none;fill-rule:evenodd;stroke:#000000;stroke-width:2.0px;stroke-linecap:butt;stroke-linejoin:miter;stroke-opacity:1\"/>\n",
       "<path class=\"bond-49 atom-47 atom-48\" d=\"M 235.3,121.0 L 227.0,111.0\" style=\"fill:none;fill-rule:evenodd;stroke:#000000;stroke-width:2.0px;stroke-linecap:butt;stroke-linejoin:miter;stroke-opacity:1\"/>\n",
       "<path class=\"bond-50 atom-47 atom-49\" d=\"M 235.3,121.0 L 230.9,133.2\" style=\"fill:none;fill-rule:evenodd;stroke:#000000;stroke-width:2.0px;stroke-linecap:butt;stroke-linejoin:miter;stroke-opacity:1\"/>\n",
       "<path class=\"bond-51 atom-49 atom-50\" d=\"M 230.9,133.2 L 239.3,143.2\" style=\"fill:none;fill-rule:evenodd;stroke:#000000;stroke-width:2.0px;stroke-linecap:butt;stroke-linejoin:miter;stroke-opacity:1\"/>\n",
       "<path class=\"bond-52 atom-44 atom-49\" d=\"M 218.1,135.5 L 230.9,133.2\" style=\"fill:none;fill-rule:evenodd;stroke:#000000;stroke-width:2.0px;stroke-linecap:butt;stroke-linejoin:miter;stroke-opacity:1\"/>\n",
       "<path class=\"bond-53 atom-51 atom-52\" d=\"M 269.9,92.0 L 265.4,104.2\" style=\"fill:none;fill-rule:evenodd;stroke:#000000;stroke-width:2.0px;stroke-linecap:butt;stroke-linejoin:miter;stroke-opacity:1\"/>\n",
       "<path class=\"bond-54 atom-45 atom-52\" d=\"M 252.6,106.5 L 265.4,104.2\" style=\"fill:none;fill-rule:evenodd;stroke:#000000;stroke-width:2.0px;stroke-linecap:butt;stroke-linejoin:miter;stroke-opacity:1\"/>\n",
       "<path class=\"bond-55 atom-53 atom-54\" d=\"M 282.7,89.7 L 291.1,99.7\" style=\"fill:none;fill-rule:evenodd;stroke:#000000;stroke-width:2.0px;stroke-linecap:butt;stroke-linejoin:miter;stroke-opacity:1\"/>\n",
       "<path class=\"bond-56 atom-54 atom-55\" d=\"M 291.1,99.7 L 286.6,111.9\" style=\"fill:none;fill-rule:evenodd;stroke:#000000;stroke-width:2.0px;stroke-linecap:butt;stroke-linejoin:miter;stroke-opacity:1\"/>\n",
       "<path class=\"bond-56 atom-54 atom-55\" d=\"M 292.8,102.4 L 289.7,111.0\" style=\"fill:none;fill-rule:evenodd;stroke:#000000;stroke-width:2.0px;stroke-linecap:butt;stroke-linejoin:miter;stroke-opacity:1\"/>\n",
       "<path class=\"bond-57 atom-55 atom-56\" d=\"M 286.6,111.9 L 295.0,121.9\" style=\"fill:none;fill-rule:evenodd;stroke:#000000;stroke-width:2.0px;stroke-linecap:butt;stroke-linejoin:miter;stroke-opacity:1\"/>\n",
       "<path class=\"bond-58 atom-56 atom-57\" d=\"M 295.0,121.9 L 307.8,119.6\" style=\"fill:none;fill-rule:evenodd;stroke:#000000;stroke-width:2.0px;stroke-linecap:butt;stroke-linejoin:miter;stroke-opacity:1\"/>\n",
       "<path class=\"bond-58 atom-56 atom-57\" d=\"M 296.5,119.0 L 305.4,117.4\" style=\"fill:none;fill-rule:evenodd;stroke:#000000;stroke-width:2.0px;stroke-linecap:butt;stroke-linejoin:miter;stroke-opacity:1\"/>\n",
       "<path class=\"bond-59 atom-57 atom-58\" d=\"M 307.8,119.6 L 312.3,107.4\" style=\"fill:none;fill-rule:evenodd;stroke:#000000;stroke-width:2.0px;stroke-linecap:butt;stroke-linejoin:miter;stroke-opacity:1\"/>\n",
       "<path class=\"bond-60 atom-58 atom-59\" d=\"M 312.3,107.4 L 303.9,97.4\" style=\"fill:none;fill-rule:evenodd;stroke:#000000;stroke-width:2.0px;stroke-linecap:butt;stroke-linejoin:miter;stroke-opacity:1\"/>\n",
       "<path class=\"bond-60 atom-58 atom-59\" d=\"M 309.0,107.6 L 303.1,100.6\" style=\"fill:none;fill-rule:evenodd;stroke:#000000;stroke-width:2.0px;stroke-linecap:butt;stroke-linejoin:miter;stroke-opacity:1\"/>\n",
       "<path class=\"bond-61 atom-59 atom-54\" d=\"M 303.9,97.4 L 291.1,99.7\" style=\"fill:none;fill-rule:evenodd;stroke:#000000;stroke-width:2.0px;stroke-linecap:butt;stroke-linejoin:miter;stroke-opacity:1\"/>\n",
       "<path class=\"bond-62 atom-51 atom-53\" d=\"M 269.9,92.0 L 282.7,89.7\" style=\"fill:none;fill-rule:evenodd;stroke:#000000;stroke-width:2.0px;stroke-linecap:butt;stroke-linejoin:miter;stroke-opacity:1\"/>\n",
       "<path class=\"bond-63 atom-60 atom-61\" d=\"M 287.1,77.5 L 300.0,75.2\" style=\"fill:none;fill-rule:evenodd;stroke:#000000;stroke-width:2.0px;stroke-linecap:butt;stroke-linejoin:miter;stroke-opacity:1\"/>\n",
       "<path class=\"bond-64 atom-53 atom-60\" d=\"M 282.7,89.7 L 287.1,77.5\" style=\"fill:none;fill-rule:evenodd;stroke:#000000;stroke-width:2.0px;stroke-linecap:butt;stroke-linejoin:miter;stroke-opacity:1\"/>\n",
       "<path class=\"bond-65 atom-62 atom-63\" d=\"M 317.2,60.7 L 304.4,63.0\" style=\"fill:none;fill-rule:evenodd;stroke:#000000;stroke-width:2.0px;stroke-linecap:butt;stroke-linejoin:miter;stroke-opacity:1\"/>\n",
       "<path class=\"bond-66 atom-61 atom-63\" d=\"M 300.0,75.2 L 304.4,63.0\" style=\"fill:none;fill-rule:evenodd;stroke:#000000;stroke-width:2.0px;stroke-linecap:butt;stroke-linejoin:miter;stroke-opacity:1\"/>\n",
       "<path class=\"bond-67 atom-64 atom-65\" d=\"M 321.7,48.5 L 334.5,46.2\" style=\"fill:none;fill-rule:evenodd;stroke:#000000;stroke-width:2.0px;stroke-linecap:butt;stroke-linejoin:miter;stroke-opacity:1\"/>\n",
       "<path class=\"bond-68 atom-62 atom-64\" d=\"M 317.2,60.7 L 321.7,48.5\" style=\"fill:none;fill-rule:evenodd;stroke:#000000;stroke-width:2.0px;stroke-linecap:butt;stroke-linejoin:miter;stroke-opacity:1\"/>\n",
       "<path class=\"bond-69 atom-66 atom-67\" d=\"M 184.6,95.6 L 186.3,90.8\" style=\"fill:none;fill-rule:evenodd;stroke:#000000;stroke-width:2.0px;stroke-linecap:butt;stroke-linejoin:miter;stroke-opacity:1\"/>\n",
       "<path class=\"bond-69 atom-66 atom-67\" d=\"M 186.3,90.8 L 188.1,86.0\" style=\"fill:none;fill-rule:evenodd;stroke:#FF0000;stroke-width:2.0px;stroke-linecap:butt;stroke-linejoin:miter;stroke-opacity:1\"/>\n",
       "<path class=\"bond-70 atom-67 atom-68\" d=\"M 186.9,80.8 L 183.8,77.1\" style=\"fill:none;fill-rule:evenodd;stroke:#FF0000;stroke-width:2.0px;stroke-linecap:butt;stroke-linejoin:miter;stroke-opacity:1\"/>\n",
       "<path class=\"bond-70 atom-67 atom-68\" d=\"M 183.8,77.1 L 180.7,73.4\" style=\"fill:none;fill-rule:evenodd;stroke:#000000;stroke-width:2.0px;stroke-linecap:butt;stroke-linejoin:miter;stroke-opacity:1\"/>\n",
       "<path class=\"bond-71 atom-41 atom-66\" d=\"M 193.0,105.6 L 184.6,95.6\" style=\"fill:none;fill-rule:evenodd;stroke:#000000;stroke-width:2.0px;stroke-linecap:butt;stroke-linejoin:miter;stroke-opacity:1\"/>\n",
       "<path class=\"bond-72 atom-69 atom-70\" d=\"M 107.7,109.2 L 102.5,110.1\" style=\"fill:none;fill-rule:evenodd;stroke:#000000;stroke-width:2.0px;stroke-linecap:butt;stroke-linejoin:miter;stroke-opacity:1\"/>\n",
       "<path class=\"bond-72 atom-69 atom-70\" d=\"M 102.5,110.1 L 97.3,111.1\" style=\"fill:none;fill-rule:evenodd;stroke:#FF0000;stroke-width:2.0px;stroke-linecap:butt;stroke-linejoin:miter;stroke-opacity:1\"/>\n",
       "<path class=\"bond-73 atom-70 atom-71\" d=\"M 93.9,114.1 L 92.2,118.9\" style=\"fill:none;fill-rule:evenodd;stroke:#FF0000;stroke-width:2.0px;stroke-linecap:butt;stroke-linejoin:miter;stroke-opacity:1\"/>\n",
       "<path class=\"bond-73 atom-70 atom-71\" d=\"M 92.2,118.9 L 90.4,123.7\" style=\"fill:none;fill-rule:evenodd;stroke:#000000;stroke-width:2.0px;stroke-linecap:butt;stroke-linejoin:miter;stroke-opacity:1\"/>\n",
       "<path class=\"bond-74 atom-32 atom-69\" d=\"M 112.1,97.0 L 107.7,109.2\" style=\"fill:none;fill-rule:evenodd;stroke:#000000;stroke-width:2.0px;stroke-linecap:butt;stroke-linejoin:miter;stroke-opacity:1\"/>\n",
       "<path class=\"bond-75 atom-72 atom-73\" d=\"M 231.4,98.8 L 228.3,95.1\" style=\"fill:none;fill-rule:evenodd;stroke:#000000;stroke-width:2.0px;stroke-linecap:butt;stroke-linejoin:miter;stroke-opacity:1\"/>\n",
       "<path class=\"bond-75 atom-72 atom-73\" d=\"M 228.3,95.1 L 225.3,91.5\" style=\"fill:none;fill-rule:evenodd;stroke:#FF0000;stroke-width:2.0px;stroke-linecap:butt;stroke-linejoin:miter;stroke-opacity:1\"/>\n",
       "<path class=\"bond-76 atom-73 atom-74\" d=\"M 224.0,86.2 L 225.7,81.4\" style=\"fill:none;fill-rule:evenodd;stroke:#FF0000;stroke-width:2.0px;stroke-linecap:butt;stroke-linejoin:miter;stroke-opacity:1\"/>\n",
       "<path class=\"bond-76 atom-73 atom-74\" d=\"M 225.7,81.4 L 227.5,76.6\" style=\"fill:none;fill-rule:evenodd;stroke:#000000;stroke-width:2.0px;stroke-linecap:butt;stroke-linejoin:miter;stroke-opacity:1\"/>\n",
       "<path class=\"bond-77 atom-48 atom-72\" d=\"M 227.0,111.0 L 231.4,98.8\" style=\"fill:none;fill-rule:evenodd;stroke:#000000;stroke-width:2.0px;stroke-linecap:butt;stroke-linejoin:miter;stroke-opacity:1\"/>\n",
       "<path class=\"bond-78 atom-75 atom-76\" d=\"M 338.9,34.0 L 344.3,33.0\" style=\"fill:none;fill-rule:evenodd;stroke:#000000;stroke-width:2.0px;stroke-linecap:butt;stroke-linejoin:miter;stroke-opacity:1\"/>\n",
       "<path class=\"bond-78 atom-75 atom-76\" d=\"M 344.3,33.0 L 349.7,32.1\" style=\"fill:none;fill-rule:evenodd;stroke:#0000FF;stroke-width:2.0px;stroke-linecap:butt;stroke-linejoin:miter;stroke-opacity:1\"/>\n",
       "<path class=\"bond-79 atom-65 atom-75\" d=\"M 334.5,46.2 L 338.9,34.0\" style=\"fill:none;fill-rule:evenodd;stroke:#000000;stroke-width:2.0px;stroke-linecap:butt;stroke-linejoin:miter;stroke-opacity:1\"/>\n",
       "<path class=\"atom-0\" d=\"M 148.5 7.0 L 149.1 7.0 L 149.1 8.8 L 151.2 8.8 L 151.2 7.0 L 151.8 7.0 L 151.8 11.2 L 151.2 11.2 L 151.2 9.2 L 149.1 9.2 L 149.1 11.2 L 148.5 11.2 L 148.5 7.0 \" fill=\"#0000FF\"/>\n",
       "<path class=\"atom-0\" d=\"M 152.3 11.1 Q 152.4 10.8, 152.7 10.6 Q 152.9 10.5, 153.3 10.5 Q 153.7 10.5, 153.9 10.7 Q 154.2 11.0, 154.2 11.4 Q 154.2 11.8, 153.9 12.2 Q 153.6 12.6, 152.9 13.0 L 154.2 13.0 L 154.2 13.3 L 152.3 13.3 L 152.3 13.1 Q 152.9 12.7, 153.2 12.4 Q 153.5 12.1, 153.6 11.9 Q 153.8 11.6, 153.8 11.4 Q 153.8 11.1, 153.6 11.0 Q 153.5 10.8, 153.3 10.8 Q 153.0 10.8, 152.9 10.9 Q 152.7 11.0, 152.6 11.2 L 152.3 11.1 \" fill=\"#0000FF\"/>\n",
       "<path class=\"atom-0\" d=\"M 155.1 7.0 L 156.5 9.2 Q 156.7 9.4, 156.9 9.8 Q 157.1 10.2, 157.1 10.3 L 157.1 7.0 L 157.7 7.0 L 157.7 11.2 L 157.1 11.2 L 155.6 8.7 Q 155.4 8.5, 155.2 8.1 Q 155.1 7.8, 155.0 7.7 L 155.0 11.2 L 154.5 11.2 L 154.5 7.0 L 155.1 7.0 \" fill=\"#0000FF\"/>\n",
       "<path class=\"atom-67\" d=\"M 187.1 83.4 Q 187.1 82.4, 187.6 81.8 Q 188.1 81.2, 189.0 81.2 Q 190.0 81.2, 190.5 81.8 Q 191.0 82.4, 191.0 83.4 Q 191.0 84.4, 190.5 85.0 Q 190.0 85.6, 189.0 85.6 Q 188.1 85.6, 187.6 85.0 Q 187.1 84.4, 187.1 83.4 M 189.0 85.1 Q 189.7 85.1, 190.0 84.7 Q 190.4 84.2, 190.4 83.4 Q 190.4 82.6, 190.0 82.1 Q 189.7 81.7, 189.0 81.7 Q 188.4 81.7, 188.0 82.1 Q 187.7 82.6, 187.7 83.4 Q 187.7 84.3, 188.0 84.7 Q 188.4 85.1, 189.0 85.1 \" fill=\"#FF0000\"/>\n",
       "<path class=\"atom-70\" d=\"M 92.9 111.5 Q 92.9 110.5, 93.4 109.9 Q 93.9 109.3, 94.9 109.3 Q 95.8 109.3, 96.3 109.9 Q 96.8 110.5, 96.8 111.5 Q 96.8 112.5, 96.3 113.1 Q 95.8 113.7, 94.9 113.7 Q 93.9 113.7, 93.4 113.1 Q 92.9 112.5, 92.9 111.5 M 94.9 113.2 Q 95.5 113.2, 95.9 112.8 Q 96.2 112.4, 96.2 111.5 Q 96.2 110.7, 95.9 110.3 Q 95.5 109.8, 94.9 109.8 Q 94.2 109.8, 93.9 110.2 Q 93.5 110.7, 93.5 111.5 Q 93.5 112.4, 93.9 112.8 Q 94.2 113.2, 94.9 113.2 \" fill=\"#FF0000\"/>\n",
       "<path class=\"atom-73\" d=\"M 221.1 88.8 Q 221.1 87.8, 221.6 87.2 Q 222.1 86.7, 223.0 86.7 Q 224.0 86.7, 224.5 87.2 Q 225.0 87.8, 225.0 88.8 Q 225.0 89.9, 224.5 90.4 Q 224.0 91.0, 223.0 91.0 Q 222.1 91.0, 221.6 90.4 Q 221.1 89.9, 221.1 88.8 M 223.0 90.5 Q 223.7 90.5, 224.0 90.1 Q 224.4 89.7, 224.4 88.8 Q 224.4 88.0, 224.0 87.6 Q 223.7 87.1, 223.0 87.1 Q 222.4 87.1, 222.0 87.6 Q 221.7 88.0, 221.7 88.8 Q 221.7 89.7, 222.0 90.1 Q 222.4 90.5, 223.0 90.5 \" fill=\"#FF0000\"/>\n",
       "<path class=\"atom-76\" d=\"M 350.8 29.6 L 352.2 31.8 Q 352.3 32.1, 352.6 32.5 Q 352.8 32.9, 352.8 32.9 L 352.8 29.6 L 353.3 29.6 L 353.3 33.8 L 352.8 33.8 L 351.3 31.4 Q 351.1 31.1, 350.9 30.7 Q 350.7 30.4, 350.7 30.3 L 350.7 33.8 L 350.1 33.8 L 350.1 29.6 L 350.8 29.6 \" fill=\"#0000FF\"/>\n",
       "<path class=\"atom-76\" d=\"M 353.8 29.6 L 354.4 29.6 L 354.4 31.4 L 356.6 31.4 L 356.6 29.6 L 357.2 29.6 L 357.2 33.8 L 356.6 33.8 L 356.6 31.9 L 354.4 31.9 L 354.4 33.8 L 353.8 33.8 L 353.8 29.6 \" fill=\"#0000FF\"/>\n",
       "<path class=\"atom-76\" d=\"M 357.7 33.7 Q 357.8 33.4, 358.0 33.3 Q 358.3 33.1, 358.6 33.1 Q 359.0 33.1, 359.3 33.3 Q 359.5 33.6, 359.5 34.0 Q 359.5 34.4, 359.2 34.8 Q 358.9 35.2, 358.3 35.6 L 359.6 35.6 L 359.6 36.0 L 357.7 36.0 L 357.7 35.7 Q 358.2 35.3, 358.5 35.0 Q 358.8 34.8, 359.0 34.5 Q 359.1 34.3, 359.1 34.0 Q 359.1 33.7, 359.0 33.6 Q 358.9 33.4, 358.6 33.4 Q 358.4 33.4, 358.2 33.5 Q 358.1 33.6, 358.0 33.8 L 357.7 33.7 \" fill=\"#0000FF\"/>\n",
       "</svg>"
      ],
      "text/plain": [
       "<IPython.core.display.SVG object>"
      ]
     },
     "execution_count": 43,
     "metadata": {},
     "output_type": "execute_result"
    }
   ],
   "source": [
    "big_smiles_gen(big, 3)"
   ]
  },
  {
   "cell_type": "code",
   "execution_count": 44,
   "id": "d324da10",
   "metadata": {},
   "outputs": [
    {
     "name": "stdout",
     "output_type": "stream",
     "text": [
      "30\n"
     ]
    },
    {
     "data": {
      "image/svg+xml": [
       "<svg xmlns=\"http://www.w3.org/2000/svg\" xmlns:rdkit=\"http://www.rdkit.org/xml\" xmlns:xlink=\"http://www.w3.org/1999/xlink\" version=\"1.1\" baseProfile=\"full\" xml:space=\"preserve\" width=\"450px\" height=\"150px\" viewBox=\"0 0 450 150\">\n",
       "<!-- END OF HEADER -->\n",
       "<rect style=\"opacity:1.0;fill:#FFFFFF;stroke:none\" width=\"450.0\" height=\"150.0\" x=\"0.0\" y=\"0.0\"> </rect>\n",
       "<path class=\"bond-0 atom-0 atom-1\" d=\"M 171.9,139.5 L 169.6,138.2\" style=\"fill:none;fill-rule:evenodd;stroke:#0000FF;stroke-width:2.0px;stroke-linecap:butt;stroke-linejoin:miter;stroke-opacity:1\"/>\n",
       "<path class=\"bond-0 atom-0 atom-1\" d=\"M 169.6,138.2 L 167.3,136.8\" style=\"fill:none;fill-rule:evenodd;stroke:#000000;stroke-width:2.0px;stroke-linecap:butt;stroke-linejoin:miter;stroke-opacity:1\"/>\n",
       "<path class=\"bond-1 atom-2 atom-3\" d=\"M 167.3,129.4 L 160.9,125.7\" style=\"fill:none;fill-rule:evenodd;stroke:#000000;stroke-width:2.0px;stroke-linecap:butt;stroke-linejoin:miter;stroke-opacity:1\"/>\n",
       "<path class=\"bond-2 atom-1 atom-2\" d=\"M 167.3,136.8 L 167.3,129.4\" style=\"fill:none;fill-rule:evenodd;stroke:#000000;stroke-width:2.0px;stroke-linecap:butt;stroke-linejoin:miter;stroke-opacity:1\"/>\n",
       "<path class=\"bond-3 atom-4 atom-5\" d=\"M 160.9,118.3 L 154.5,114.6\" style=\"fill:none;fill-rule:evenodd;stroke:#000000;stroke-width:2.0px;stroke-linecap:butt;stroke-linejoin:miter;stroke-opacity:1\"/>\n",
       "<path class=\"bond-4 atom-5 atom-6\" d=\"M 154.5,114.6 L 148.1,118.3\" style=\"fill:none;fill-rule:evenodd;stroke:#000000;stroke-width:2.0px;stroke-linecap:butt;stroke-linejoin:miter;stroke-opacity:1\"/>\n",
       "<path class=\"bond-4 atom-5 atom-6\" d=\"M 152.8,113.9 L 148.3,116.5\" style=\"fill:none;fill-rule:evenodd;stroke:#000000;stroke-width:2.0px;stroke-linecap:butt;stroke-linejoin:miter;stroke-opacity:1\"/>\n",
       "<path class=\"bond-5 atom-6 atom-7\" d=\"M 148.1,118.3 L 141.7,114.6\" style=\"fill:none;fill-rule:evenodd;stroke:#000000;stroke-width:2.0px;stroke-linecap:butt;stroke-linejoin:miter;stroke-opacity:1\"/>\n",
       "<path class=\"bond-6 atom-7 atom-8\" d=\"M 141.7,114.6 L 141.7,107.2\" style=\"fill:none;fill-rule:evenodd;stroke:#000000;stroke-width:2.0px;stroke-linecap:butt;stroke-linejoin:miter;stroke-opacity:1\"/>\n",
       "<path class=\"bond-6 atom-7 atom-8\" d=\"M 143.2,113.5 L 143.2,108.3\" style=\"fill:none;fill-rule:evenodd;stroke:#000000;stroke-width:2.0px;stroke-linecap:butt;stroke-linejoin:miter;stroke-opacity:1\"/>\n",
       "<path class=\"bond-7 atom-8 atom-9\" d=\"M 141.7,107.2 L 148.1,103.5\" style=\"fill:none;fill-rule:evenodd;stroke:#000000;stroke-width:2.0px;stroke-linecap:butt;stroke-linejoin:miter;stroke-opacity:1\"/>\n",
       "<path class=\"bond-8 atom-9 atom-10\" d=\"M 148.1,103.5 L 154.5,107.2\" style=\"fill:none;fill-rule:evenodd;stroke:#000000;stroke-width:2.0px;stroke-linecap:butt;stroke-linejoin:miter;stroke-opacity:1\"/>\n",
       "<path class=\"bond-8 atom-9 atom-10\" d=\"M 148.3,105.4 L 152.8,108.0\" style=\"fill:none;fill-rule:evenodd;stroke:#000000;stroke-width:2.0px;stroke-linecap:butt;stroke-linejoin:miter;stroke-opacity:1\"/>\n",
       "<path class=\"bond-9 atom-10 atom-5\" d=\"M 154.5,107.2 L 154.5,114.6\" style=\"fill:none;fill-rule:evenodd;stroke:#000000;stroke-width:2.0px;stroke-linecap:butt;stroke-linejoin:miter;stroke-opacity:1\"/>\n",
       "<path class=\"bond-10 atom-3 atom-4\" d=\"M 160.9,125.7 L 160.9,118.3\" style=\"fill:none;fill-rule:evenodd;stroke:#000000;stroke-width:2.0px;stroke-linecap:butt;stroke-linejoin:miter;stroke-opacity:1\"/>\n",
       "<path class=\"bond-11 atom-11 atom-12\" d=\"M 173.7,118.3 L 167.3,114.6\" style=\"fill:none;fill-rule:evenodd;stroke:#000000;stroke-width:2.0px;stroke-linecap:butt;stroke-linejoin:miter;stroke-opacity:1\"/>\n",
       "<path class=\"bond-12 atom-4 atom-12\" d=\"M 160.9,118.3 L 167.3,114.6\" style=\"fill:none;fill-rule:evenodd;stroke:#000000;stroke-width:2.0px;stroke-linecap:butt;stroke-linejoin:miter;stroke-opacity:1\"/>\n",
       "<path class=\"bond-13 atom-13 atom-14\" d=\"M 180.1,114.6 L 186.5,118.3\" style=\"fill:none;fill-rule:evenodd;stroke:#000000;stroke-width:2.0px;stroke-linecap:butt;stroke-linejoin:miter;stroke-opacity:1\"/>\n",
       "<path class=\"bond-14 atom-11 atom-13\" d=\"M 173.7,118.3 L 180.1,114.6\" style=\"fill:none;fill-rule:evenodd;stroke:#000000;stroke-width:2.0px;stroke-linecap:butt;stroke-linejoin:miter;stroke-opacity:1\"/>\n",
       "<path class=\"bond-15 atom-15 atom-16\" d=\"M 193.0,114.6 L 199.4,118.3\" style=\"fill:none;fill-rule:evenodd;stroke:#000000;stroke-width:2.0px;stroke-linecap:butt;stroke-linejoin:miter;stroke-opacity:1\"/>\n",
       "<path class=\"bond-16 atom-14 atom-15\" d=\"M 186.5,118.3 L 193.0,114.6\" style=\"fill:none;fill-rule:evenodd;stroke:#000000;stroke-width:2.0px;stroke-linecap:butt;stroke-linejoin:miter;stroke-opacity:1\"/>\n",
       "<path class=\"bond-17 atom-17 atom-18\" d=\"M 205.8,114.6 L 212.2,118.3\" style=\"fill:none;fill-rule:evenodd;stroke:#000000;stroke-width:2.0px;stroke-linecap:butt;stroke-linejoin:miter;stroke-opacity:1\"/>\n",
       "<path class=\"bond-18 atom-16 atom-17\" d=\"M 199.4,118.3 L 205.8,114.6\" style=\"fill:none;fill-rule:evenodd;stroke:#000000;stroke-width:2.0px;stroke-linecap:butt;stroke-linejoin:miter;stroke-opacity:1\"/>\n",
       "<path class=\"bond-19 atom-19 atom-20\" d=\"M 225.0,118.3 L 218.6,114.6\" style=\"fill:none;fill-rule:evenodd;stroke:#000000;stroke-width:2.0px;stroke-linecap:butt;stroke-linejoin:miter;stroke-opacity:1\"/>\n",
       "<path class=\"bond-20 atom-18 atom-20\" d=\"M 212.2,118.3 L 218.6,114.6\" style=\"fill:none;fill-rule:evenodd;stroke:#000000;stroke-width:2.0px;stroke-linecap:butt;stroke-linejoin:miter;stroke-opacity:1\"/>\n",
       "<path class=\"bond-21 atom-21 atom-22\" d=\"M 231.4,114.6 L 237.8,118.4\" style=\"fill:none;fill-rule:evenodd;stroke:#000000;stroke-width:2.0px;stroke-linecap:butt;stroke-linejoin:miter;stroke-opacity:1\"/>\n",
       "<path class=\"bond-22 atom-19 atom-21\" d=\"M 225.0,118.3 L 231.4,114.6\" style=\"fill:none;fill-rule:evenodd;stroke:#000000;stroke-width:2.0px;stroke-linecap:butt;stroke-linejoin:miter;stroke-opacity:1\"/>\n",
       "<path class=\"bond-23 atom-23 atom-24\" d=\"M 250.6,118.4 L 244.2,114.7\" style=\"fill:none;fill-rule:evenodd;stroke:#000000;stroke-width:2.0px;stroke-linecap:butt;stroke-linejoin:miter;stroke-opacity:1\"/>\n",
       "<path class=\"bond-24 atom-22 atom-24\" d=\"M 237.8,118.4 L 244.2,114.7\" style=\"fill:none;fill-rule:evenodd;stroke:#000000;stroke-width:2.0px;stroke-linecap:butt;stroke-linejoin:miter;stroke-opacity:1\"/>\n",
       "<path class=\"bond-25 atom-25 atom-26\" d=\"M 257.0,114.7 L 263.5,118.4\" style=\"fill:none;fill-rule:evenodd;stroke:#000000;stroke-width:2.0px;stroke-linecap:butt;stroke-linejoin:miter;stroke-opacity:1\"/>\n",
       "<path class=\"bond-26 atom-23 atom-25\" d=\"M 250.6,118.4 L 257.0,114.7\" style=\"fill:none;fill-rule:evenodd;stroke:#000000;stroke-width:2.0px;stroke-linecap:butt;stroke-linejoin:miter;stroke-opacity:1\"/>\n",
       "<path class=\"bond-27 atom-27 atom-28\" d=\"M 269.9,114.7 L 276.3,118.4\" style=\"fill:none;fill-rule:evenodd;stroke:#000000;stroke-width:2.0px;stroke-linecap:butt;stroke-linejoin:miter;stroke-opacity:1\"/>\n",
       "<path class=\"bond-28 atom-28 atom-29\" d=\"M 276.3,118.4 L 282.7,114.7\" style=\"fill:none;fill-rule:evenodd;stroke:#000000;stroke-width:2.0px;stroke-linecap:butt;stroke-linejoin:miter;stroke-opacity:1\"/>\n",
       "<path class=\"bond-29 atom-29 atom-30\" d=\"M 282.7,114.7 L 289.1,118.4\" style=\"fill:none;fill-rule:evenodd;stroke:#000000;stroke-width:2.0px;stroke-linecap:butt;stroke-linejoin:miter;stroke-opacity:1\"/>\n",
       "<path class=\"bond-30 atom-29 atom-31\" d=\"M 282.7,114.7 L 282.7,107.3\" style=\"fill:none;fill-rule:evenodd;stroke:#000000;stroke-width:2.0px;stroke-linecap:butt;stroke-linejoin:miter;stroke-opacity:1\"/>\n",
       "<path class=\"bond-31 atom-31 atom-32\" d=\"M 282.7,107.3 L 289.1,103.6\" style=\"fill:none;fill-rule:evenodd;stroke:#000000;stroke-width:2.0px;stroke-linecap:butt;stroke-linejoin:miter;stroke-opacity:1\"/>\n",
       "<path class=\"bond-32 atom-26 atom-27\" d=\"M 263.5,118.4 L 269.9,114.7\" style=\"fill:none;fill-rule:evenodd;stroke:#000000;stroke-width:2.0px;stroke-linecap:butt;stroke-linejoin:miter;stroke-opacity:1\"/>\n",
       "<path class=\"bond-33 atom-33 atom-34\" d=\"M 276.3,103.6 L 276.3,96.2\" style=\"fill:none;fill-rule:evenodd;stroke:#000000;stroke-width:2.0px;stroke-linecap:butt;stroke-linejoin:miter;stroke-opacity:1\"/>\n",
       "<path class=\"bond-34 atom-31 atom-33\" d=\"M 282.7,107.3 L 276.3,103.6\" style=\"fill:none;fill-rule:evenodd;stroke:#000000;stroke-width:2.0px;stroke-linecap:butt;stroke-linejoin:miter;stroke-opacity:1\"/>\n",
       "<path class=\"bond-35 atom-35 atom-36\" d=\"M 269.9,85.0 L 269.9,92.5\" style=\"fill:none;fill-rule:evenodd;stroke:#000000;stroke-width:2.0px;stroke-linecap:butt;stroke-linejoin:miter;stroke-opacity:1\"/>\n",
       "<path class=\"bond-36 atom-34 atom-36\" d=\"M 276.3,96.2 L 269.9,92.5\" style=\"fill:none;fill-rule:evenodd;stroke:#000000;stroke-width:2.0px;stroke-linecap:butt;stroke-linejoin:miter;stroke-opacity:1\"/>\n",
       "<path class=\"bond-37 atom-37 atom-38\" d=\"M 263.5,81.3 L 263.5,73.9\" style=\"fill:none;fill-rule:evenodd;stroke:#000000;stroke-width:2.0px;stroke-linecap:butt;stroke-linejoin:miter;stroke-opacity:1\"/>\n",
       "<path class=\"bond-38 atom-35 atom-37\" d=\"M 269.9,85.0 L 263.5,81.3\" style=\"fill:none;fill-rule:evenodd;stroke:#000000;stroke-width:2.0px;stroke-linecap:butt;stroke-linejoin:miter;stroke-opacity:1\"/>\n",
       "<path class=\"bond-39 atom-39 atom-40\" d=\"M 257.1,70.2 L 257.1,62.8\" style=\"fill:none;fill-rule:evenodd;stroke:#000000;stroke-width:2.0px;stroke-linecap:butt;stroke-linejoin:miter;stroke-opacity:1\"/>\n",
       "<path class=\"bond-40 atom-38 atom-39\" d=\"M 263.5,73.9 L 257.1,70.2\" style=\"fill:none;fill-rule:evenodd;stroke:#000000;stroke-width:2.0px;stroke-linecap:butt;stroke-linejoin:miter;stroke-opacity:1\"/>\n",
       "<path class=\"bond-41 atom-41 atom-42\" d=\"M 250.6,51.7 L 250.6,59.1\" style=\"fill:none;fill-rule:evenodd;stroke:#000000;stroke-width:2.0px;stroke-linecap:butt;stroke-linejoin:miter;stroke-opacity:1\"/>\n",
       "<path class=\"bond-42 atom-40 atom-42\" d=\"M 257.1,62.8 L 250.6,59.1\" style=\"fill:none;fill-rule:evenodd;stroke:#000000;stroke-width:2.0px;stroke-linecap:butt;stroke-linejoin:miter;stroke-opacity:1\"/>\n",
       "<path class=\"bond-43 atom-43 atom-44\" d=\"M 244.2,48.0 L 244.2,40.6\" style=\"fill:none;fill-rule:evenodd;stroke:#000000;stroke-width:2.0px;stroke-linecap:butt;stroke-linejoin:miter;stroke-opacity:1\"/>\n",
       "<path class=\"bond-44 atom-41 atom-43\" d=\"M 250.6,51.7 L 244.2,48.0\" style=\"fill:none;fill-rule:evenodd;stroke:#000000;stroke-width:2.0px;stroke-linecap:butt;stroke-linejoin:miter;stroke-opacity:1\"/>\n",
       "<path class=\"bond-45 atom-45 atom-46\" d=\"M 218.6,40.6 L 225.0,36.9\" style=\"fill:none;fill-rule:evenodd;stroke:#000000;stroke-width:2.0px;stroke-linecap:butt;stroke-linejoin:miter;stroke-opacity:1\"/>\n",
       "<path class=\"bond-46 atom-46 atom-47\" d=\"M 225.0,36.9 L 231.4,40.6\" style=\"fill:none;fill-rule:evenodd;stroke:#000000;stroke-width:2.0px;stroke-linecap:butt;stroke-linejoin:miter;stroke-opacity:1\"/>\n",
       "<path class=\"bond-47 atom-47 atom-48\" d=\"M 231.4,40.6 L 231.4,48.0\" style=\"fill:none;fill-rule:evenodd;stroke:#000000;stroke-width:2.0px;stroke-linecap:butt;stroke-linejoin:miter;stroke-opacity:1\"/>\n",
       "<path class=\"bond-48 atom-47 atom-49\" d=\"M 231.4,40.6 L 237.8,36.9\" style=\"fill:none;fill-rule:evenodd;stroke:#000000;stroke-width:2.0px;stroke-linecap:butt;stroke-linejoin:miter;stroke-opacity:1\"/>\n",
       "<path class=\"bond-49 atom-49 atom-50\" d=\"M 237.8,36.9 L 237.8,29.5\" style=\"fill:none;fill-rule:evenodd;stroke:#000000;stroke-width:2.0px;stroke-linecap:butt;stroke-linejoin:miter;stroke-opacity:1\"/>\n",
       "<path class=\"bond-50 atom-44 atom-49\" d=\"M 244.2,40.6 L 237.8,36.9\" style=\"fill:none;fill-rule:evenodd;stroke:#000000;stroke-width:2.0px;stroke-linecap:butt;stroke-linejoin:miter;stroke-opacity:1\"/>\n",
       "<path class=\"bond-51 atom-51 atom-52\" d=\"M 212.2,36.9 L 205.8,40.6\" style=\"fill:none;fill-rule:evenodd;stroke:#000000;stroke-width:2.0px;stroke-linecap:butt;stroke-linejoin:miter;stroke-opacity:1\"/>\n",
       "<path class=\"bond-52 atom-52 atom-53\" d=\"M 205.8,40.6 L 199.4,36.9\" style=\"fill:none;fill-rule:evenodd;stroke:#000000;stroke-width:2.0px;stroke-linecap:butt;stroke-linejoin:miter;stroke-opacity:1\"/>\n",
       "<path class=\"bond-53 atom-53 atom-54\" d=\"M 199.4,36.9 L 193.0,40.6\" style=\"fill:none;fill-rule:evenodd;stroke:#000000;stroke-width:2.0px;stroke-linecap:butt;stroke-linejoin:miter;stroke-opacity:1\"/>\n",
       "<path class=\"bond-54 atom-53 atom-55\" d=\"M 199.4,36.9 L 199.4,29.5\" style=\"fill:none;fill-rule:evenodd;stroke:#000000;stroke-width:2.0px;stroke-linecap:butt;stroke-linejoin:miter;stroke-opacity:1\"/>\n",
       "<path class=\"bond-55 atom-55 atom-56\" d=\"M 199.4,29.5 L 193.0,25.8\" style=\"fill:none;fill-rule:evenodd;stroke:#000000;stroke-width:2.0px;stroke-linecap:butt;stroke-linejoin:miter;stroke-opacity:1\"/>\n",
       "<path class=\"bond-56 atom-45 atom-51\" d=\"M 218.6,40.6 L 212.2,36.9\" style=\"fill:none;fill-rule:evenodd;stroke:#000000;stroke-width:2.0px;stroke-linecap:butt;stroke-linejoin:miter;stroke-opacity:1\"/>\n",
       "<path class=\"bond-57 atom-57 atom-58\" d=\"M 205.8,18.4 L 205.8,25.8\" style=\"fill:none;fill-rule:evenodd;stroke:#000000;stroke-width:2.0px;stroke-linecap:butt;stroke-linejoin:miter;stroke-opacity:1\"/>\n",
       "<path class=\"bond-58 atom-55 atom-58\" d=\"M 199.4,29.5 L 205.8,25.8\" style=\"fill:none;fill-rule:evenodd;stroke:#000000;stroke-width:2.0px;stroke-linecap:butt;stroke-linejoin:miter;stroke-opacity:1\"/>\n",
       "<path class=\"bond-59 atom-59 atom-60\" d=\"M 295.5,114.7 L 297.6,115.9\" style=\"fill:none;fill-rule:evenodd;stroke:#000000;stroke-width:2.0px;stroke-linecap:butt;stroke-linejoin:miter;stroke-opacity:1\"/>\n",
       "<path class=\"bond-59 atom-59 atom-60\" d=\"M 297.6,115.9 L 299.7,117.1\" style=\"fill:none;fill-rule:evenodd;stroke:#FF0000;stroke-width:2.0px;stroke-linecap:butt;stroke-linejoin:miter;stroke-opacity:1\"/>\n",
       "<path class=\"bond-60 atom-60 atom-61\" d=\"M 304.1,117.1 L 306.2,115.9\" style=\"fill:none;fill-rule:evenodd;stroke:#FF0000;stroke-width:2.0px;stroke-linecap:butt;stroke-linejoin:miter;stroke-opacity:1\"/>\n",
       "<path class=\"bond-60 atom-60 atom-61\" d=\"M 306.2,115.9 L 308.3,114.7\" style=\"fill:none;fill-rule:evenodd;stroke:#000000;stroke-width:2.0px;stroke-linecap:butt;stroke-linejoin:miter;stroke-opacity:1\"/>\n",
       "<path class=\"bond-61 atom-30 atom-59\" d=\"M 289.1,118.4 L 295.5,114.7\" style=\"fill:none;fill-rule:evenodd;stroke:#000000;stroke-width:2.0px;stroke-linecap:butt;stroke-linejoin:miter;stroke-opacity:1\"/>\n",
       "<path class=\"bond-62 atom-62 atom-63\" d=\"M 186.6,36.9 L 184.4,38.1\" style=\"fill:none;fill-rule:evenodd;stroke:#000000;stroke-width:2.0px;stroke-linecap:butt;stroke-linejoin:miter;stroke-opacity:1\"/>\n",
       "<path class=\"bond-62 atom-62 atom-63\" d=\"M 184.4,38.1 L 182.3,39.4\" style=\"fill:none;fill-rule:evenodd;stroke:#FF0000;stroke-width:2.0px;stroke-linecap:butt;stroke-linejoin:miter;stroke-opacity:1\"/>\n",
       "<path class=\"bond-63 atom-63 atom-64\" d=\"M 177.9,39.4 L 175.8,38.1\" style=\"fill:none;fill-rule:evenodd;stroke:#FF0000;stroke-width:2.0px;stroke-linecap:butt;stroke-linejoin:miter;stroke-opacity:1\"/>\n",
       "<path class=\"bond-63 atom-63 atom-64\" d=\"M 175.8,38.1 L 173.7,36.9\" style=\"fill:none;fill-rule:evenodd;stroke:#000000;stroke-width:2.0px;stroke-linecap:butt;stroke-linejoin:miter;stroke-opacity:1\"/>\n",
       "<path class=\"bond-64 atom-54 atom-62\" d=\"M 193.0,40.6 L 186.6,36.9\" style=\"fill:none;fill-rule:evenodd;stroke:#000000;stroke-width:2.0px;stroke-linecap:butt;stroke-linejoin:miter;stroke-opacity:1\"/>\n",
       "<path class=\"bond-65 atom-65 atom-66\" d=\"M 225.0,51.7 L 225.0,54.2\" style=\"fill:none;fill-rule:evenodd;stroke:#000000;stroke-width:2.0px;stroke-linecap:butt;stroke-linejoin:miter;stroke-opacity:1\"/>\n",
       "<path class=\"bond-65 atom-65 atom-66\" d=\"M 225.0,54.2 L 225.0,56.7\" style=\"fill:none;fill-rule:evenodd;stroke:#FF0000;stroke-width:2.0px;stroke-linecap:butt;stroke-linejoin:miter;stroke-opacity:1\"/>\n",
       "<path class=\"bond-66 atom-66 atom-67\" d=\"M 222.8,60.4 L 220.7,61.6\" style=\"fill:none;fill-rule:evenodd;stroke:#FF0000;stroke-width:2.0px;stroke-linecap:butt;stroke-linejoin:miter;stroke-opacity:1\"/>\n",
       "<path class=\"bond-66 atom-66 atom-67\" d=\"M 220.7,61.6 L 218.6,62.8\" style=\"fill:none;fill-rule:evenodd;stroke:#000000;stroke-width:2.0px;stroke-linecap:butt;stroke-linejoin:miter;stroke-opacity:1\"/>\n",
       "<path class=\"bond-67 atom-48 atom-65\" d=\"M 231.4,48.0 L 225.0,51.7\" style=\"fill:none;fill-rule:evenodd;stroke:#000000;stroke-width:2.0px;stroke-linecap:butt;stroke-linejoin:miter;stroke-opacity:1\"/>\n",
       "<path class=\"bond-68 atom-68 atom-69\" d=\"M 212.2,14.7 L 212.2,12.2\" style=\"fill:none;fill-rule:evenodd;stroke:#000000;stroke-width:2.0px;stroke-linecap:butt;stroke-linejoin:miter;stroke-opacity:1\"/>\n",
       "<path class=\"bond-68 atom-68 atom-69\" d=\"M 212.2,12.2 L 212.2,9.7\" style=\"fill:none;fill-rule:evenodd;stroke:#0000FF;stroke-width:2.0px;stroke-linecap:butt;stroke-linejoin:miter;stroke-opacity:1\"/>\n",
       "<path class=\"bond-69 atom-57 atom-68\" d=\"M 205.8,18.4 L 212.2,14.7\" style=\"fill:none;fill-rule:evenodd;stroke:#000000;stroke-width:2.0px;stroke-linecap:butt;stroke-linejoin:miter;stroke-opacity:1\"/>\n",
       "<path class=\"atom-0\" d=\"M 172.8 138.4 L 174.2 140.7 Q 174.3 140.9, 174.5 141.3 Q 174.8 141.7, 174.8 141.7 L 174.8 138.4 L 175.3 138.4 L 175.3 142.7 L 174.7 142.7 L 173.3 140.2 Q 173.1 139.9, 172.9 139.6 Q 172.7 139.3, 172.7 139.2 L 172.7 142.7 L 172.1 142.7 L 172.1 138.4 L 172.8 138.4 \" fill=\"#0000FF\"/>\n",
       "<path class=\"atom-0\" d=\"M 175.8 138.4 L 176.4 138.4 L 176.4 140.2 L 178.6 140.2 L 178.6 138.4 L 179.2 138.4 L 179.2 142.7 L 178.6 142.7 L 178.6 140.7 L 176.4 140.7 L 176.4 142.7 L 175.8 142.7 L 175.8 138.4 \" fill=\"#0000FF\"/>\n",
       "<path class=\"atom-0\" d=\"M 179.7 142.5 Q 179.8 142.3, 180.0 142.1 Q 180.3 142.0, 180.6 142.0 Q 181.0 142.0, 181.3 142.2 Q 181.5 142.4, 181.5 142.8 Q 181.5 143.2, 181.2 143.6 Q 180.9 144.0, 180.3 144.5 L 181.6 144.5 L 181.6 144.8 L 179.7 144.8 L 179.7 144.5 Q 180.2 144.2, 180.5 143.9 Q 180.8 143.6, 181.0 143.4 Q 181.1 143.1, 181.1 142.8 Q 181.1 142.6, 181.0 142.4 Q 180.8 142.3, 180.6 142.3 Q 180.4 142.3, 180.2 142.4 Q 180.1 142.5, 180.0 142.7 L 179.7 142.5 \" fill=\"#0000FF\"/>\n",
       "<path class=\"atom-60\" d=\"M 300.0 118.4 Q 300.0 117.4, 300.5 116.8 Q 301.0 116.2, 301.9 116.2 Q 302.9 116.2, 303.4 116.8 Q 303.9 117.4, 303.9 118.4 Q 303.9 119.4, 303.4 120.0 Q 302.8 120.6, 301.9 120.6 Q 301.0 120.6, 300.5 120.0 Q 300.0 119.4, 300.0 118.4 M 301.9 120.1 Q 302.6 120.1, 302.9 119.7 Q 303.3 119.2, 303.3 118.4 Q 303.3 117.5, 302.9 117.1 Q 302.6 116.7, 301.9 116.7 Q 301.3 116.7, 300.9 117.1 Q 300.6 117.5, 300.6 118.4 Q 300.6 119.2, 300.9 119.7 Q 301.3 120.1, 301.9 120.1 \" fill=\"#FF0000\"/>\n",
       "<path class=\"atom-63\" d=\"M 178.2 40.6 Q 178.2 39.6, 178.7 39.1 Q 179.2 38.5, 180.1 38.5 Q 181.1 38.5, 181.6 39.1 Q 182.1 39.6, 182.1 40.6 Q 182.1 41.7, 181.6 42.3 Q 181.1 42.8, 180.1 42.8 Q 179.2 42.8, 178.7 42.3 Q 178.2 41.7, 178.2 40.6 M 180.1 42.4 Q 180.8 42.4, 181.1 41.9 Q 181.5 41.5, 181.5 40.6 Q 181.5 39.8, 181.1 39.4 Q 180.8 39.0, 180.1 39.0 Q 179.5 39.0, 179.1 39.4 Q 178.8 39.8, 178.8 40.6 Q 178.8 41.5, 179.1 41.9 Q 179.5 42.4, 180.1 42.4 \" fill=\"#FF0000\"/>\n",
       "<path class=\"atom-66\" d=\"M 223.1 59.2 Q 223.1 58.1, 223.6 57.6 Q 224.1 57.0, 225.0 57.0 Q 225.9 57.0, 226.5 57.6 Q 227.0 58.1, 227.0 59.2 Q 227.0 60.2, 226.4 60.8 Q 225.9 61.4, 225.0 61.4 Q 224.1 61.4, 223.6 60.8 Q 223.1 60.2, 223.1 59.2 M 225.0 60.9 Q 225.7 60.9, 226.0 60.4 Q 226.4 60.0, 226.4 59.2 Q 226.4 58.3, 226.0 57.9 Q 225.7 57.5, 225.0 57.5 Q 224.4 57.5, 224.0 57.9 Q 223.7 58.3, 223.7 59.2 Q 223.7 60.0, 224.0 60.4 Q 224.4 60.9, 225.0 60.9 \" fill=\"#FF0000\"/>\n",
       "<path class=\"atom-69\" d=\"M 211.3 5.2 L 212.6 7.5 Q 212.8 7.7, 213.0 8.1 Q 213.2 8.5, 213.2 8.5 L 213.2 5.2 L 213.8 5.2 L 213.8 9.5 L 213.2 9.5 L 211.7 7.0 Q 211.6 6.7, 211.4 6.4 Q 211.2 6.0, 211.1 5.9 L 211.1 9.5 L 210.6 9.5 L 210.6 5.2 L 211.3 5.2 \" fill=\"#0000FF\"/>\n",
       "<path class=\"atom-69\" d=\"M 214.3 5.2 L 214.9 5.2 L 214.9 7.0 L 217.0 7.0 L 217.0 5.2 L 217.6 5.2 L 217.6 9.5 L 217.0 9.5 L 217.0 7.5 L 214.9 7.5 L 214.9 9.5 L 214.3 9.5 L 214.3 5.2 \" fill=\"#0000FF\"/>\n",
       "<path class=\"atom-69\" d=\"M 218.1 9.3 Q 218.2 9.0, 218.5 8.9 Q 218.7 8.7, 219.1 8.7 Q 219.5 8.7, 219.7 9.0 Q 220.0 9.2, 220.0 9.6 Q 220.0 10.0, 219.7 10.4 Q 219.4 10.8, 218.7 11.3 L 220.0 11.3 L 220.0 11.6 L 218.1 11.6 L 218.1 11.3 Q 218.7 10.9, 219.0 10.7 Q 219.3 10.4, 219.4 10.1 Q 219.6 9.9, 219.6 9.6 Q 219.6 9.4, 219.4 9.2 Q 219.3 9.1, 219.1 9.1 Q 218.9 9.1, 218.7 9.1 Q 218.6 9.2, 218.4 9.4 L 218.1 9.3 \" fill=\"#0000FF\"/>\n",
       "</svg>"
      ],
      "text/plain": [
       "<IPython.core.display.SVG object>"
      ]
     },
     "execution_count": 44,
     "metadata": {},
     "output_type": "execute_result"
    }
   ],
   "source": [
    "big_smiles_gen(big, 4)"
   ]
  },
  {
   "cell_type": "code",
   "execution_count": 45,
   "id": "692ceb8e",
   "metadata": {},
   "outputs": [
    {
     "name": "stdout",
     "output_type": "stream",
     "text": [
      "31\n"
     ]
    },
    {
     "data": {
      "image/svg+xml": [
       "<svg xmlns=\"http://www.w3.org/2000/svg\" xmlns:rdkit=\"http://www.rdkit.org/xml\" xmlns:xlink=\"http://www.w3.org/1999/xlink\" version=\"1.1\" baseProfile=\"full\" xml:space=\"preserve\" width=\"450px\" height=\"150px\" viewBox=\"0 0 450 150\">\n",
       "<!-- END OF HEADER -->\n",
       "<rect style=\"opacity:1.0;fill:#FFFFFF;stroke:none\" width=\"450.0\" height=\"150.0\" x=\"0.0\" y=\"0.0\"> </rect>\n",
       "<path class=\"bond-0 atom-0 atom-1\" d=\"M 228.6,8.7 L 230.9,9.1\" style=\"fill:none;fill-rule:evenodd;stroke:#0000FF;stroke-width:2.0px;stroke-linecap:butt;stroke-linejoin:miter;stroke-opacity:1\"/>\n",
       "<path class=\"bond-0 atom-0 atom-1\" d=\"M 230.9,9.1 L 233.1,9.5\" style=\"fill:none;fill-rule:evenodd;stroke:#000000;stroke-width:2.0px;stroke-linecap:butt;stroke-linejoin:miter;stroke-opacity:1\"/>\n",
       "<path class=\"bond-1 atom-2 atom-3\" d=\"M 241.7,16.8 L 235.3,15.6\" style=\"fill:none;fill-rule:evenodd;stroke:#000000;stroke-width:2.0px;stroke-linecap:butt;stroke-linejoin:miter;stroke-opacity:1\"/>\n",
       "<path class=\"bond-2 atom-1 atom-3\" d=\"M 233.1,9.5 L 235.3,15.6\" style=\"fill:none;fill-rule:evenodd;stroke:#000000;stroke-width:2.0px;stroke-linecap:butt;stroke-linejoin:miter;stroke-opacity:1\"/>\n",
       "<path class=\"bond-3 atom-4 atom-5\" d=\"M 243.9,22.9 L 250.3,24.1\" style=\"fill:none;fill-rule:evenodd;stroke:#000000;stroke-width:2.0px;stroke-linecap:butt;stroke-linejoin:miter;stroke-opacity:1\"/>\n",
       "<path class=\"bond-4 atom-2 atom-4\" d=\"M 241.7,16.8 L 243.9,22.9\" style=\"fill:none;fill-rule:evenodd;stroke:#000000;stroke-width:2.0px;stroke-linecap:butt;stroke-linejoin:miter;stroke-opacity:1\"/>\n",
       "<path class=\"bond-5 atom-6 atom-7\" d=\"M 258.8,31.4 L 252.4,30.2\" style=\"fill:none;fill-rule:evenodd;stroke:#000000;stroke-width:2.0px;stroke-linecap:butt;stroke-linejoin:miter;stroke-opacity:1\"/>\n",
       "<path class=\"bond-6 atom-5 atom-7\" d=\"M 250.3,24.1 L 252.4,30.2\" style=\"fill:none;fill-rule:evenodd;stroke:#000000;stroke-width:2.0px;stroke-linecap:butt;stroke-linejoin:miter;stroke-opacity:1\"/>\n",
       "<path class=\"bond-7 atom-8 atom-9\" d=\"M 267.4,38.7 L 261.0,37.5\" style=\"fill:none;fill-rule:evenodd;stroke:#000000;stroke-width:2.0px;stroke-linecap:butt;stroke-linejoin:miter;stroke-opacity:1\"/>\n",
       "<path class=\"bond-8 atom-6 atom-9\" d=\"M 258.8,31.4 L 261.0,37.5\" style=\"fill:none;fill-rule:evenodd;stroke:#000000;stroke-width:2.0px;stroke-linecap:butt;stroke-linejoin:miter;stroke-opacity:1\"/>\n",
       "<path class=\"bond-9 atom-10 atom-11\" d=\"M 269.6,44.8 L 275.9,45.9\" style=\"fill:none;fill-rule:evenodd;stroke:#000000;stroke-width:2.0px;stroke-linecap:butt;stroke-linejoin:miter;stroke-opacity:1\"/>\n",
       "<path class=\"bond-10 atom-8 atom-10\" d=\"M 267.4,38.7 L 269.6,44.8\" style=\"fill:none;fill-rule:evenodd;stroke:#000000;stroke-width:2.0px;stroke-linecap:butt;stroke-linejoin:miter;stroke-opacity:1\"/>\n",
       "<path class=\"bond-11 atom-12 atom-13\" d=\"M 278.1,52.1 L 284.5,53.2\" style=\"fill:none;fill-rule:evenodd;stroke:#000000;stroke-width:2.0px;stroke-linecap:butt;stroke-linejoin:miter;stroke-opacity:1\"/>\n",
       "<path class=\"bond-12 atom-13 atom-14\" d=\"M 284.5,53.2 L 286.7,59.4\" style=\"fill:none;fill-rule:evenodd;stroke:#000000;stroke-width:2.0px;stroke-linecap:butt;stroke-linejoin:miter;stroke-opacity:1\"/>\n",
       "<path class=\"bond-12 atom-13 atom-14\" d=\"M 286.0,53.7 L 287.6,58.0\" style=\"fill:none;fill-rule:evenodd;stroke:#000000;stroke-width:2.0px;stroke-linecap:butt;stroke-linejoin:miter;stroke-opacity:1\"/>\n",
       "<path class=\"bond-13 atom-14 atom-15\" d=\"M 286.7,59.4 L 293.1,60.5\" style=\"fill:none;fill-rule:evenodd;stroke:#000000;stroke-width:2.0px;stroke-linecap:butt;stroke-linejoin:miter;stroke-opacity:1\"/>\n",
       "<path class=\"bond-14 atom-15 atom-16\" d=\"M 293.1,60.5 L 297.3,55.6\" style=\"fill:none;fill-rule:evenodd;stroke:#000000;stroke-width:2.0px;stroke-linecap:butt;stroke-linejoin:miter;stroke-opacity:1\"/>\n",
       "<path class=\"bond-14 atom-15 atom-16\" d=\"M 292.7,58.9 L 295.6,55.5\" style=\"fill:none;fill-rule:evenodd;stroke:#000000;stroke-width:2.0px;stroke-linecap:butt;stroke-linejoin:miter;stroke-opacity:1\"/>\n",
       "<path class=\"bond-15 atom-16 atom-17\" d=\"M 297.3,55.6 L 295.1,49.5\" style=\"fill:none;fill-rule:evenodd;stroke:#000000;stroke-width:2.0px;stroke-linecap:butt;stroke-linejoin:miter;stroke-opacity:1\"/>\n",
       "<path class=\"bond-16 atom-17 atom-18\" d=\"M 295.1,49.5 L 288.7,48.3\" style=\"fill:none;fill-rule:evenodd;stroke:#000000;stroke-width:2.0px;stroke-linecap:butt;stroke-linejoin:miter;stroke-opacity:1\"/>\n",
       "<path class=\"bond-16 atom-17 atom-18\" d=\"M 293.9,50.6 L 289.4,49.7\" style=\"fill:none;fill-rule:evenodd;stroke:#000000;stroke-width:2.0px;stroke-linecap:butt;stroke-linejoin:miter;stroke-opacity:1\"/>\n",
       "<path class=\"bond-17 atom-18 atom-13\" d=\"M 288.7,48.3 L 284.5,53.2\" style=\"fill:none;fill-rule:evenodd;stroke:#000000;stroke-width:2.0px;stroke-linecap:butt;stroke-linejoin:miter;stroke-opacity:1\"/>\n",
       "<path class=\"bond-18 atom-11 atom-12\" d=\"M 275.9,45.9 L 278.1,52.1\" style=\"fill:none;fill-rule:evenodd;stroke:#000000;stroke-width:2.0px;stroke-linecap:butt;stroke-linejoin:miter;stroke-opacity:1\"/>\n",
       "<path class=\"bond-19 atom-19 atom-20\" d=\"M 273.9,57.0 L 267.5,55.8\" style=\"fill:none;fill-rule:evenodd;stroke:#000000;stroke-width:2.0px;stroke-linecap:butt;stroke-linejoin:miter;stroke-opacity:1\"/>\n",
       "<path class=\"bond-20 atom-12 atom-19\" d=\"M 278.1,52.1 L 273.9,57.0\" style=\"fill:none;fill-rule:evenodd;stroke:#000000;stroke-width:2.0px;stroke-linecap:butt;stroke-linejoin:miter;stroke-opacity:1\"/>\n",
       "<path class=\"bond-21 atom-21 atom-22\" d=\"M 263.3,60.8 L 256.9,59.6\" style=\"fill:none;fill-rule:evenodd;stroke:#000000;stroke-width:2.0px;stroke-linecap:butt;stroke-linejoin:miter;stroke-opacity:1\"/>\n",
       "<path class=\"bond-22 atom-20 atom-21\" d=\"M 267.5,55.8 L 263.3,60.8\" style=\"fill:none;fill-rule:evenodd;stroke:#000000;stroke-width:2.0px;stroke-linecap:butt;stroke-linejoin:miter;stroke-opacity:1\"/>\n",
       "<path class=\"bond-23 atom-23 atom-24\" d=\"M 252.7,64.5 L 246.3,63.4\" style=\"fill:none;fill-rule:evenodd;stroke:#000000;stroke-width:2.0px;stroke-linecap:butt;stroke-linejoin:miter;stroke-opacity:1\"/>\n",
       "<path class=\"bond-24 atom-22 atom-23\" d=\"M 256.9,59.6 L 252.7,64.5\" style=\"fill:none;fill-rule:evenodd;stroke:#000000;stroke-width:2.0px;stroke-linecap:butt;stroke-linejoin:miter;stroke-opacity:1\"/>\n",
       "<path class=\"bond-25 atom-25 atom-26\" d=\"M 242.1,68.3 L 235.7,67.1\" style=\"fill:none;fill-rule:evenodd;stroke:#000000;stroke-width:2.0px;stroke-linecap:butt;stroke-linejoin:miter;stroke-opacity:1\"/>\n",
       "<path class=\"bond-26 atom-26 atom-27\" d=\"M 235.7,67.1 L 231.5,72.1\" style=\"fill:none;fill-rule:evenodd;stroke:#000000;stroke-width:2.0px;stroke-linecap:butt;stroke-linejoin:miter;stroke-opacity:1\"/>\n",
       "<path class=\"bond-27 atom-27 atom-28\" d=\"M 231.5,72.1 L 225.2,70.9\" style=\"fill:none;fill-rule:evenodd;stroke:#000000;stroke-width:2.0px;stroke-linecap:butt;stroke-linejoin:miter;stroke-opacity:1\"/>\n",
       "<path class=\"bond-28 atom-27 atom-29\" d=\"M 231.5,72.1 L 233.7,78.2\" style=\"fill:none;fill-rule:evenodd;stroke:#000000;stroke-width:2.0px;stroke-linecap:butt;stroke-linejoin:miter;stroke-opacity:1\"/>\n",
       "<path class=\"bond-29 atom-29 atom-30\" d=\"M 233.7,78.2 L 229.5,83.1\" style=\"fill:none;fill-rule:evenodd;stroke:#000000;stroke-width:2.0px;stroke-linecap:butt;stroke-linejoin:miter;stroke-opacity:1\"/>\n",
       "<path class=\"bond-30 atom-24 atom-25\" d=\"M 246.3,63.4 L 242.1,68.3\" style=\"fill:none;fill-rule:evenodd;stroke:#000000;stroke-width:2.0px;stroke-linecap:butt;stroke-linejoin:miter;stroke-opacity:1\"/>\n",
       "<path class=\"bond-31 atom-31 atom-32\" d=\"M 221.0,75.9 L 214.6,74.7\" style=\"fill:none;fill-rule:evenodd;stroke:#000000;stroke-width:2.0px;stroke-linecap:butt;stroke-linejoin:miter;stroke-opacity:1\"/>\n",
       "<path class=\"bond-32 atom-28 atom-31\" d=\"M 225.2,70.9 L 221.0,75.9\" style=\"fill:none;fill-rule:evenodd;stroke:#000000;stroke-width:2.0px;stroke-linecap:butt;stroke-linejoin:miter;stroke-opacity:1\"/>\n",
       "<path class=\"bond-33 atom-33 atom-34\" d=\"M 210.4,79.6 L 204.0,78.5\" style=\"fill:none;fill-rule:evenodd;stroke:#000000;stroke-width:2.0px;stroke-linecap:butt;stroke-linejoin:miter;stroke-opacity:1\"/>\n",
       "<path class=\"bond-34 atom-32 atom-33\" d=\"M 214.6,74.7 L 210.4,79.6\" style=\"fill:none;fill-rule:evenodd;stroke:#000000;stroke-width:2.0px;stroke-linecap:butt;stroke-linejoin:miter;stroke-opacity:1\"/>\n",
       "<path class=\"bond-35 atom-35 atom-36\" d=\"M 240.1,79.4 L 242.3,85.5\" style=\"fill:none;fill-rule:evenodd;stroke:#000000;stroke-width:2.0px;stroke-linecap:butt;stroke-linejoin:miter;stroke-opacity:1\"/>\n",
       "<path class=\"bond-36 atom-29 atom-35\" d=\"M 233.7,78.2 L 240.1,79.4\" style=\"fill:none;fill-rule:evenodd;stroke:#000000;stroke-width:2.0px;stroke-linecap:butt;stroke-linejoin:miter;stroke-opacity:1\"/>\n",
       "<path class=\"bond-37 atom-37 atom-38\" d=\"M 199.8,83.4 L 193.4,82.2\" style=\"fill:none;fill-rule:evenodd;stroke:#000000;stroke-width:2.0px;stroke-linecap:butt;stroke-linejoin:miter;stroke-opacity:1\"/>\n",
       "<path class=\"bond-38 atom-34 atom-37\" d=\"M 204.0,78.5 L 199.8,83.4\" style=\"fill:none;fill-rule:evenodd;stroke:#000000;stroke-width:2.0px;stroke-linecap:butt;stroke-linejoin:miter;stroke-opacity:1\"/>\n",
       "<path class=\"bond-39 atom-39 atom-40\" d=\"M 182.8,86.0 L 189.2,87.2\" style=\"fill:none;fill-rule:evenodd;stroke:#000000;stroke-width:2.0px;stroke-linecap:butt;stroke-linejoin:miter;stroke-opacity:1\"/>\n",
       "<path class=\"bond-40 atom-38 atom-40\" d=\"M 193.4,82.2 L 189.2,87.2\" style=\"fill:none;fill-rule:evenodd;stroke:#000000;stroke-width:2.0px;stroke-linecap:butt;stroke-linejoin:miter;stroke-opacity:1\"/>\n",
       "<path class=\"bond-41 atom-41 atom-42\" d=\"M 248.7,86.7 L 250.8,92.8\" style=\"fill:none;fill-rule:evenodd;stroke:#000000;stroke-width:2.0px;stroke-linecap:butt;stroke-linejoin:miter;stroke-opacity:1\"/>\n",
       "<path class=\"bond-42 atom-36 atom-41\" d=\"M 242.3,85.5 L 248.7,86.7\" style=\"fill:none;fill-rule:evenodd;stroke:#000000;stroke-width:2.0px;stroke-linecap:butt;stroke-linejoin:miter;stroke-opacity:1\"/>\n",
       "<path class=\"bond-43 atom-43 atom-44\" d=\"M 257.2,93.9 L 261.4,89.0\" style=\"fill:none;fill-rule:evenodd;stroke:#000000;stroke-width:2.0px;stroke-linecap:butt;stroke-linejoin:miter;stroke-opacity:1\"/>\n",
       "<path class=\"bond-44 atom-44 atom-45\" d=\"M 261.4,89.0 L 267.8,90.2\" style=\"fill:none;fill-rule:evenodd;stroke:#000000;stroke-width:2.0px;stroke-linecap:butt;stroke-linejoin:miter;stroke-opacity:1\"/>\n",
       "<path class=\"bond-44 atom-44 atom-45\" d=\"M 262.6,87.9 L 267.1,88.7\" style=\"fill:none;fill-rule:evenodd;stroke:#000000;stroke-width:2.0px;stroke-linecap:butt;stroke-linejoin:miter;stroke-opacity:1\"/>\n",
       "<path class=\"bond-45 atom-45 atom-46\" d=\"M 267.8,90.2 L 272.0,85.2\" style=\"fill:none;fill-rule:evenodd;stroke:#000000;stroke-width:2.0px;stroke-linecap:butt;stroke-linejoin:miter;stroke-opacity:1\"/>\n",
       "<path class=\"bond-46 atom-46 atom-47\" d=\"M 272.0,85.2 L 269.8,79.1\" style=\"fill:none;fill-rule:evenodd;stroke:#000000;stroke-width:2.0px;stroke-linecap:butt;stroke-linejoin:miter;stroke-opacity:1\"/>\n",
       "<path class=\"bond-46 atom-46 atom-47\" d=\"M 270.5,84.8 L 268.9,80.5\" style=\"fill:none;fill-rule:evenodd;stroke:#000000;stroke-width:2.0px;stroke-linecap:butt;stroke-linejoin:miter;stroke-opacity:1\"/>\n",
       "<path class=\"bond-47 atom-47 atom-48\" d=\"M 269.8,79.1 L 263.5,77.9\" style=\"fill:none;fill-rule:evenodd;stroke:#000000;stroke-width:2.0px;stroke-linecap:butt;stroke-linejoin:miter;stroke-opacity:1\"/>\n",
       "<path class=\"bond-48 atom-48 atom-49\" d=\"M 263.5,77.9 L 259.3,82.9\" style=\"fill:none;fill-rule:evenodd;stroke:#000000;stroke-width:2.0px;stroke-linecap:butt;stroke-linejoin:miter;stroke-opacity:1\"/>\n",
       "<path class=\"bond-48 atom-48 atom-49\" d=\"M 263.8,79.5 L 260.9,83.0\" style=\"fill:none;fill-rule:evenodd;stroke:#000000;stroke-width:2.0px;stroke-linecap:butt;stroke-linejoin:miter;stroke-opacity:1\"/>\n",
       "<path class=\"bond-49 atom-49 atom-44\" d=\"M 259.3,82.9 L 261.4,89.0\" style=\"fill:none;fill-rule:evenodd;stroke:#000000;stroke-width:2.0px;stroke-linecap:butt;stroke-linejoin:miter;stroke-opacity:1\"/>\n",
       "<path class=\"bond-50 atom-42 atom-43\" d=\"M 250.8,92.8 L 257.2,93.9\" style=\"fill:none;fill-rule:evenodd;stroke:#000000;stroke-width:2.0px;stroke-linecap:butt;stroke-linejoin:miter;stroke-opacity:1\"/>\n",
       "<path class=\"bond-51 atom-50 atom-51\" d=\"M 259.4,100.1 L 265.8,101.2\" style=\"fill:none;fill-rule:evenodd;stroke:#000000;stroke-width:2.0px;stroke-linecap:butt;stroke-linejoin:miter;stroke-opacity:1\"/>\n",
       "<path class=\"bond-52 atom-43 atom-50\" d=\"M 257.2,93.9 L 259.4,100.1\" style=\"fill:none;fill-rule:evenodd;stroke:#000000;stroke-width:2.0px;stroke-linecap:butt;stroke-linejoin:miter;stroke-opacity:1\"/>\n",
       "<path class=\"bond-53 atom-52 atom-53\" d=\"M 178.6,90.9 L 172.2,89.8\" style=\"fill:none;fill-rule:evenodd;stroke:#000000;stroke-width:2.0px;stroke-linecap:butt;stroke-linejoin:miter;stroke-opacity:1\"/>\n",
       "<path class=\"bond-54 atom-39 atom-52\" d=\"M 182.8,86.0 L 178.6,90.9\" style=\"fill:none;fill-rule:evenodd;stroke:#000000;stroke-width:2.0px;stroke-linecap:butt;stroke-linejoin:miter;stroke-opacity:1\"/>\n",
       "<path class=\"bond-55 atom-54 atom-55\" d=\"M 274.3,108.5 L 268.0,107.3\" style=\"fill:none;fill-rule:evenodd;stroke:#000000;stroke-width:2.0px;stroke-linecap:butt;stroke-linejoin:miter;stroke-opacity:1\"/>\n",
       "<path class=\"bond-56 atom-51 atom-55\" d=\"M 265.8,101.2 L 268.0,107.3\" style=\"fill:none;fill-rule:evenodd;stroke:#000000;stroke-width:2.0px;stroke-linecap:butt;stroke-linejoin:miter;stroke-opacity:1\"/>\n",
       "<path class=\"bond-57 atom-56 atom-57\" d=\"M 168.0,94.7 L 161.6,93.5\" style=\"fill:none;fill-rule:evenodd;stroke:#000000;stroke-width:2.0px;stroke-linecap:butt;stroke-linejoin:miter;stroke-opacity:1\"/>\n",
       "<path class=\"bond-58 atom-53 atom-56\" d=\"M 172.2,89.8 L 168.0,94.7\" style=\"fill:none;fill-rule:evenodd;stroke:#000000;stroke-width:2.0px;stroke-linecap:butt;stroke-linejoin:miter;stroke-opacity:1\"/>\n",
       "<path class=\"bond-59 atom-58 atom-59\" d=\"M 282.9,115.8 L 276.5,114.6\" style=\"fill:none;fill-rule:evenodd;stroke:#000000;stroke-width:2.0px;stroke-linecap:butt;stroke-linejoin:miter;stroke-opacity:1\"/>\n",
       "<path class=\"bond-60 atom-54 atom-59\" d=\"M 274.3,108.5 L 276.5,114.6\" style=\"fill:none;fill-rule:evenodd;stroke:#000000;stroke-width:2.0px;stroke-linecap:butt;stroke-linejoin:miter;stroke-opacity:1\"/>\n",
       "<path class=\"bond-61 atom-60 atom-61\" d=\"M 157.4,98.5 L 159.6,104.6\" style=\"fill:none;fill-rule:evenodd;stroke:#000000;stroke-width:2.0px;stroke-linecap:butt;stroke-linejoin:miter;stroke-opacity:1\"/>\n",
       "<path class=\"bond-62 atom-61 atom-62\" d=\"M 159.6,104.6 L 155.4,109.5\" style=\"fill:none;fill-rule:evenodd;stroke:#000000;stroke-width:2.0px;stroke-linecap:butt;stroke-linejoin:miter;stroke-opacity:1\"/>\n",
       "<path class=\"bond-62 atom-61 atom-62\" d=\"M 159.9,106.2 L 157.0,109.6\" style=\"fill:none;fill-rule:evenodd;stroke:#000000;stroke-width:2.0px;stroke-linecap:butt;stroke-linejoin:miter;stroke-opacity:1\"/>\n",
       "<path class=\"bond-63 atom-62 atom-63\" d=\"M 155.4,109.5 L 157.6,115.6\" style=\"fill:none;fill-rule:evenodd;stroke:#000000;stroke-width:2.0px;stroke-linecap:butt;stroke-linejoin:miter;stroke-opacity:1\"/>\n",
       "<path class=\"bond-64 atom-63 atom-64\" d=\"M 157.6,115.6 L 163.9,116.8\" style=\"fill:none;fill-rule:evenodd;stroke:#000000;stroke-width:2.0px;stroke-linecap:butt;stroke-linejoin:miter;stroke-opacity:1\"/>\n",
       "<path class=\"bond-64 atom-63 atom-64\" d=\"M 158.7,114.5 L 163.2,115.4\" style=\"fill:none;fill-rule:evenodd;stroke:#000000;stroke-width:2.0px;stroke-linecap:butt;stroke-linejoin:miter;stroke-opacity:1\"/>\n",
       "<path class=\"bond-65 atom-64 atom-65\" d=\"M 163.9,116.8 L 168.1,111.9\" style=\"fill:none;fill-rule:evenodd;stroke:#000000;stroke-width:2.0px;stroke-linecap:butt;stroke-linejoin:miter;stroke-opacity:1\"/>\n",
       "<path class=\"bond-66 atom-65 atom-66\" d=\"M 168.1,111.9 L 166.0,105.8\" style=\"fill:none;fill-rule:evenodd;stroke:#000000;stroke-width:2.0px;stroke-linecap:butt;stroke-linejoin:miter;stroke-opacity:1\"/>\n",
       "<path class=\"bond-66 atom-65 atom-66\" d=\"M 166.6,111.4 L 165.1,107.1\" style=\"fill:none;fill-rule:evenodd;stroke:#000000;stroke-width:2.0px;stroke-linecap:butt;stroke-linejoin:miter;stroke-opacity:1\"/>\n",
       "<path class=\"bond-67 atom-66 atom-61\" d=\"M 166.0,105.8 L 159.6,104.6\" style=\"fill:none;fill-rule:evenodd;stroke:#000000;stroke-width:2.0px;stroke-linecap:butt;stroke-linejoin:miter;stroke-opacity:1\"/>\n",
       "<path class=\"bond-68 atom-57 atom-60\" d=\"M 161.6,93.5 L 157.4,98.5\" style=\"fill:none;fill-rule:evenodd;stroke:#000000;stroke-width:2.0px;stroke-linecap:butt;stroke-linejoin:miter;stroke-opacity:1\"/>\n",
       "<path class=\"bond-69 atom-67 atom-68\" d=\"M 285.1,121.9 L 291.5,123.1\" style=\"fill:none;fill-rule:evenodd;stroke:#000000;stroke-width:2.0px;stroke-linecap:butt;stroke-linejoin:miter;stroke-opacity:1\"/>\n",
       "<path class=\"bond-70 atom-68 atom-69\" d=\"M 291.5,123.1 L 293.6,129.2\" style=\"fill:none;fill-rule:evenodd;stroke:#000000;stroke-width:2.0px;stroke-linecap:butt;stroke-linejoin:miter;stroke-opacity:1\"/>\n",
       "<path class=\"bond-71 atom-69 atom-70\" d=\"M 293.6,129.2 L 300.0,130.4\" style=\"fill:none;fill-rule:evenodd;stroke:#000000;stroke-width:2.0px;stroke-linecap:butt;stroke-linejoin:miter;stroke-opacity:1\"/>\n",
       "<path class=\"bond-72 atom-69 atom-71\" d=\"M 293.6,129.2 L 289.4,134.2\" style=\"fill:none;fill-rule:evenodd;stroke:#000000;stroke-width:2.0px;stroke-linecap:butt;stroke-linejoin:miter;stroke-opacity:1\"/>\n",
       "<path class=\"bond-73 atom-71 atom-72\" d=\"M 289.4,134.2 L 291.6,140.3\" style=\"fill:none;fill-rule:evenodd;stroke:#000000;stroke-width:2.0px;stroke-linecap:butt;stroke-linejoin:miter;stroke-opacity:1\"/>\n",
       "<path class=\"bond-74 atom-58 atom-67\" d=\"M 282.9,115.8 L 285.1,121.9\" style=\"fill:none;fill-rule:evenodd;stroke:#000000;stroke-width:2.0px;stroke-linecap:butt;stroke-linejoin:miter;stroke-opacity:1\"/>\n",
       "<path class=\"bond-75 atom-73 atom-74\" d=\"M 283.0,133.0 L 281.9,134.3\" style=\"fill:none;fill-rule:evenodd;stroke:#000000;stroke-width:2.0px;stroke-linecap:butt;stroke-linejoin:miter;stroke-opacity:1\"/>\n",
       "<path class=\"bond-75 atom-73 atom-74\" d=\"M 281.9,134.3 L 280.9,135.6\" style=\"fill:none;fill-rule:evenodd;stroke:#FF0000;stroke-width:2.0px;stroke-linecap:butt;stroke-linejoin:miter;stroke-opacity:1\"/>\n",
       "<path class=\"bond-76 atom-74 atom-75\" d=\"M 276.7,137.5 L 274.6,137.1\" style=\"fill:none;fill-rule:evenodd;stroke:#FF0000;stroke-width:2.0px;stroke-linecap:butt;stroke-linejoin:miter;stroke-opacity:1\"/>\n",
       "<path class=\"bond-76 atom-74 atom-75\" d=\"M 274.6,137.1 L 272.5,136.7\" style=\"fill:none;fill-rule:evenodd;stroke:#000000;stroke-width:2.0px;stroke-linecap:butt;stroke-linejoin:miter;stroke-opacity:1\"/>\n",
       "<path class=\"bond-77 atom-71 atom-73\" d=\"M 289.4,134.2 L 283.0,133.0\" style=\"fill:none;fill-rule:evenodd;stroke:#000000;stroke-width:2.0px;stroke-linecap:butt;stroke-linejoin:miter;stroke-opacity:1\"/>\n",
       "<path class=\"bond-78 atom-76 atom-77\" d=\"M 302.2,136.5 L 304.3,136.9\" style=\"fill:none;fill-rule:evenodd;stroke:#000000;stroke-width:2.0px;stroke-linecap:butt;stroke-linejoin:miter;stroke-opacity:1\"/>\n",
       "<path class=\"bond-78 atom-76 atom-77\" d=\"M 304.3,136.9 L 306.4,137.3\" style=\"fill:none;fill-rule:evenodd;stroke:#FF0000;stroke-width:2.0px;stroke-linecap:butt;stroke-linejoin:miter;stroke-opacity:1\"/>\n",
       "<path class=\"bond-79 atom-77 atom-78\" d=\"M 309.4,140.1 L 310.1,141.9\" style=\"fill:none;fill-rule:evenodd;stroke:#FF0000;stroke-width:2.0px;stroke-linecap:butt;stroke-linejoin:miter;stroke-opacity:1\"/>\n",
       "<path class=\"bond-79 atom-77 atom-78\" d=\"M 310.1,141.9 L 310.8,143.8\" style=\"fill:none;fill-rule:evenodd;stroke:#000000;stroke-width:2.0px;stroke-linecap:butt;stroke-linejoin:miter;stroke-opacity:1\"/>\n",
       "<path class=\"bond-80 atom-70 atom-76\" d=\"M 300.0,130.4 L 302.2,136.5\" style=\"fill:none;fill-rule:evenodd;stroke:#000000;stroke-width:2.0px;stroke-linecap:butt;stroke-linejoin:miter;stroke-opacity:1\"/>\n",
       "<path class=\"bond-81 atom-79 atom-80\" d=\"M 151.0,97.3 L 149.8,98.7\" style=\"fill:none;fill-rule:evenodd;stroke:#000000;stroke-width:2.0px;stroke-linecap:butt;stroke-linejoin:miter;stroke-opacity:1\"/>\n",
       "<path class=\"bond-81 atom-79 atom-80\" d=\"M 149.8,98.7 L 148.6,100.1\" style=\"fill:none;fill-rule:evenodd;stroke:#0000FF;stroke-width:2.0px;stroke-linecap:butt;stroke-linejoin:miter;stroke-opacity:1\"/>\n",
       "<path class=\"bond-82 atom-60 atom-79\" d=\"M 157.4,98.5 L 151.0,97.3\" style=\"fill:none;fill-rule:evenodd;stroke:#000000;stroke-width:2.0px;stroke-linecap:butt;stroke-linejoin:miter;stroke-opacity:1\"/>\n",
       "<path class=\"atom-0\" d=\"M 219.2 6.2 L 219.8 6.2 L 219.8 8.0 L 221.9 8.0 L 221.9 6.2 L 222.5 6.2 L 222.5 10.5 L 221.9 10.5 L 221.9 8.5 L 219.8 8.5 L 219.8 10.5 L 219.2 10.5 L 219.2 6.2 \" fill=\"#0000FF\"/>\n",
       "<path class=\"atom-0\" d=\"M 223.0 10.3 Q 223.1 10.0, 223.4 9.9 Q 223.6 9.8, 224.0 9.8 Q 224.4 9.8, 224.6 10.0 Q 224.9 10.2, 224.9 10.6 Q 224.9 11.0, 224.5 11.4 Q 224.2 11.8, 223.6 12.3 L 224.9 12.3 L 224.9 12.6 L 223.0 12.6 L 223.0 12.3 Q 223.5 12.0, 223.8 11.7 Q 224.2 11.4, 224.3 11.1 Q 224.5 10.9, 224.5 10.6 Q 224.5 10.4, 224.3 10.2 Q 224.2 10.1, 224.0 10.1 Q 223.7 10.1, 223.6 10.2 Q 223.4 10.3, 223.3 10.5 L 223.0 10.3 \" fill=\"#0000FF\"/>\n",
       "<path class=\"atom-0\" d=\"M 225.8 6.2 L 227.2 8.5 Q 227.3 8.7, 227.6 9.1 Q 227.8 9.5, 227.8 9.5 L 227.8 6.2 L 228.4 6.2 L 228.4 10.5 L 227.8 10.5 L 226.3 8.0 Q 226.1 7.7, 225.9 7.4 Q 225.7 7.1, 225.7 7.0 L 225.7 10.5 L 225.1 10.5 L 225.1 6.2 L 225.8 6.2 \" fill=\"#0000FF\"/>\n",
       "<path class=\"atom-74\" d=\"M 276.9 137.9 Q 276.9 136.9, 277.4 136.3 Q 277.9 135.8, 278.8 135.8 Q 279.8 135.8, 280.3 136.3 Q 280.8 136.9, 280.8 137.9 Q 280.8 139.0, 280.3 139.6 Q 279.8 140.1, 278.8 140.1 Q 277.9 140.1, 277.4 139.6 Q 276.9 139.0, 276.9 137.9 M 278.8 139.7 Q 279.5 139.7, 279.8 139.2 Q 280.2 138.8, 280.2 137.9 Q 280.2 137.1, 279.8 136.7 Q 279.5 136.3, 278.8 136.3 Q 278.2 136.3, 277.8 136.7 Q 277.5 137.1, 277.5 137.9 Q 277.5 138.8, 277.8 139.2 Q 278.2 139.7, 278.8 139.7 \" fill=\"#FF0000\"/>\n",
       "<path class=\"atom-77\" d=\"M 306.6 137.7 Q 306.6 136.7, 307.1 136.1 Q 307.6 135.5, 308.6 135.5 Q 309.5 135.5, 310.0 136.1 Q 310.5 136.7, 310.5 137.7 Q 310.5 138.7, 310.0 139.3 Q 309.5 139.9, 308.6 139.9 Q 307.6 139.9, 307.1 139.3 Q 306.6 138.7, 306.6 137.7 M 308.6 139.4 Q 309.2 139.4, 309.6 139.0 Q 309.9 138.5, 309.9 137.7 Q 309.9 136.8, 309.6 136.4 Q 309.2 136.0, 308.6 136.0 Q 307.9 136.0, 307.6 136.4 Q 307.2 136.8, 307.2 137.7 Q 307.2 138.5, 307.6 139.0 Q 307.9 139.4, 308.6 139.4 \" fill=\"#FF0000\"/>\n",
       "<path class=\"atom-80\" d=\"M 139.2 100.1 L 139.8 100.1 L 139.8 101.9 L 142.0 101.9 L 142.0 100.1 L 142.6 100.1 L 142.6 104.4 L 142.0 104.4 L 142.0 102.4 L 139.8 102.4 L 139.8 104.4 L 139.2 104.4 L 139.2 100.1 \" fill=\"#0000FF\"/>\n",
       "<path class=\"atom-80\" d=\"M 143.1 104.2 Q 143.2 103.9, 143.4 103.8 Q 143.7 103.7, 144.0 103.7 Q 144.4 103.7, 144.7 103.9 Q 144.9 104.1, 144.9 104.5 Q 144.9 104.9, 144.6 105.3 Q 144.3 105.7, 143.7 106.2 L 145.0 106.2 L 145.0 106.5 L 143.1 106.5 L 143.1 106.2 Q 143.6 105.9, 143.9 105.6 Q 144.2 105.3, 144.4 105.0 Q 144.5 104.8, 144.5 104.5 Q 144.5 104.3, 144.4 104.1 Q 144.3 104.0, 144.0 104.0 Q 143.8 104.0, 143.6 104.1 Q 143.5 104.2, 143.4 104.4 L 143.1 104.2 \" fill=\"#0000FF\"/>\n",
       "<path class=\"atom-80\" d=\"M 145.9 100.1 L 147.3 102.4 Q 147.4 102.6, 147.6 103.0 Q 147.8 103.4, 147.9 103.4 L 147.9 100.1 L 148.4 100.1 L 148.4 104.4 L 147.8 104.4 L 146.3 101.9 Q 146.2 101.6, 146.0 101.3 Q 145.8 101.0, 145.8 100.9 L 145.8 104.4 L 145.2 104.4 L 145.2 100.1 L 145.9 100.1 \" fill=\"#0000FF\"/>\n",
       "</svg>"
      ],
      "text/plain": [
       "<IPython.core.display.SVG object>"
      ]
     },
     "execution_count": 45,
     "metadata": {},
     "output_type": "execute_result"
    }
   ],
   "source": [
    "big_smiles_gen(big, 5)"
   ]
  },
  {
   "cell_type": "code",
   "execution_count": 46,
   "id": "e33d91f8",
   "metadata": {},
   "outputs": [
    {
     "name": "stdout",
     "output_type": "stream",
     "text": [
      "32\n"
     ]
    },
    {
     "data": {
      "image/svg+xml": [
       "<svg xmlns=\"http://www.w3.org/2000/svg\" xmlns:rdkit=\"http://www.rdkit.org/xml\" xmlns:xlink=\"http://www.w3.org/1999/xlink\" version=\"1.1\" baseProfile=\"full\" xml:space=\"preserve\" width=\"450px\" height=\"150px\" viewBox=\"0 0 450 150\">\n",
       "<!-- END OF HEADER -->\n",
       "<rect style=\"opacity:1.0;fill:#FFFFFF;stroke:none\" width=\"450.0\" height=\"150.0\" x=\"0.0\" y=\"0.0\"> </rect>\n",
       "<path class=\"bond-0 atom-0 atom-1\" d=\"M 50.4,52.4 L 53.2,55.4\" style=\"fill:none;fill-rule:evenodd;stroke:#0000FF;stroke-width:2.0px;stroke-linecap:butt;stroke-linejoin:miter;stroke-opacity:1\"/>\n",
       "<path class=\"bond-0 atom-0 atom-1\" d=\"M 53.2,55.4 L 56.1,58.5\" style=\"fill:none;fill-rule:evenodd;stroke:#000000;stroke-width:2.0px;stroke-linecap:butt;stroke-linejoin:miter;stroke-opacity:1\"/>\n",
       "<path class=\"bond-1 atom-2 atom-3\" d=\"M 67.1,56.0 L 74.9,64.3\" style=\"fill:none;fill-rule:evenodd;stroke:#000000;stroke-width:2.0px;stroke-linecap:butt;stroke-linejoin:miter;stroke-opacity:1\"/>\n",
       "<path class=\"bond-2 atom-1 atom-2\" d=\"M 56.1,58.5 L 67.1,56.0\" style=\"fill:none;fill-rule:evenodd;stroke:#000000;stroke-width:2.0px;stroke-linecap:butt;stroke-linejoin:miter;stroke-opacity:1\"/>\n",
       "<path class=\"bond-3 atom-4 atom-5\" d=\"M 93.6,70.1 L 85.9,61.8\" style=\"fill:none;fill-rule:evenodd;stroke:#000000;stroke-width:2.0px;stroke-linecap:butt;stroke-linejoin:miter;stroke-opacity:1\"/>\n",
       "<path class=\"bond-4 atom-3 atom-5\" d=\"M 74.9,64.3 L 85.9,61.8\" style=\"fill:none;fill-rule:evenodd;stroke:#000000;stroke-width:2.0px;stroke-linecap:butt;stroke-linejoin:miter;stroke-opacity:1\"/>\n",
       "<path class=\"bond-5 atom-6 atom-7\" d=\"M 112.4,75.8 L 104.6,67.5\" style=\"fill:none;fill-rule:evenodd;stroke:#000000;stroke-width:2.0px;stroke-linecap:butt;stroke-linejoin:miter;stroke-opacity:1\"/>\n",
       "<path class=\"bond-6 atom-4 atom-7\" d=\"M 93.6,70.1 L 104.6,67.5\" style=\"fill:none;fill-rule:evenodd;stroke:#000000;stroke-width:2.0px;stroke-linecap:butt;stroke-linejoin:miter;stroke-opacity:1\"/>\n",
       "<path class=\"bond-7 atom-8 atom-9\" d=\"M 131.1,81.6 L 123.4,73.3\" style=\"fill:none;fill-rule:evenodd;stroke:#000000;stroke-width:2.0px;stroke-linecap:butt;stroke-linejoin:miter;stroke-opacity:1\"/>\n",
       "<path class=\"bond-8 atom-6 atom-9\" d=\"M 112.4,75.8 L 123.4,73.3\" style=\"fill:none;fill-rule:evenodd;stroke:#000000;stroke-width:2.0px;stroke-linecap:butt;stroke-linejoin:miter;stroke-opacity:1\"/>\n",
       "<path class=\"bond-9 atom-10 atom-11\" d=\"M 142.1,79.1 L 149.9,87.3\" style=\"fill:none;fill-rule:evenodd;stroke:#000000;stroke-width:2.0px;stroke-linecap:butt;stroke-linejoin:miter;stroke-opacity:1\"/>\n",
       "<path class=\"bond-10 atom-8 atom-10\" d=\"M 131.1,81.6 L 142.1,79.1\" style=\"fill:none;fill-rule:evenodd;stroke:#000000;stroke-width:2.0px;stroke-linecap:butt;stroke-linejoin:miter;stroke-opacity:1\"/>\n",
       "<path class=\"bond-11 atom-12 atom-13\" d=\"M 168.6,93.1 L 160.9,84.8\" style=\"fill:none;fill-rule:evenodd;stroke:#000000;stroke-width:2.0px;stroke-linecap:butt;stroke-linejoin:miter;stroke-opacity:1\"/>\n",
       "<path class=\"bond-12 atom-11 atom-13\" d=\"M 149.9,87.3 L 160.9,84.8\" style=\"fill:none;fill-rule:evenodd;stroke:#000000;stroke-width:2.0px;stroke-linecap:butt;stroke-linejoin:miter;stroke-opacity:1\"/>\n",
       "<path class=\"bond-13 atom-14 atom-15\" d=\"M 179.6,90.6 L 187.3,98.9\" style=\"fill:none;fill-rule:evenodd;stroke:#000000;stroke-width:2.0px;stroke-linecap:butt;stroke-linejoin:miter;stroke-opacity:1\"/>\n",
       "<path class=\"bond-14 atom-12 atom-14\" d=\"M 168.6,93.1 L 179.6,90.6\" style=\"fill:none;fill-rule:evenodd;stroke:#000000;stroke-width:2.0px;stroke-linecap:butt;stroke-linejoin:miter;stroke-opacity:1\"/>\n",
       "<path class=\"bond-15 atom-16 atom-17\" d=\"M 198.4,96.3 L 206.1,104.6\" style=\"fill:none;fill-rule:evenodd;stroke:#000000;stroke-width:2.0px;stroke-linecap:butt;stroke-linejoin:miter;stroke-opacity:1\"/>\n",
       "<path class=\"bond-16 atom-15 atom-16\" d=\"M 187.3,98.9 L 198.4,96.3\" style=\"fill:none;fill-rule:evenodd;stroke:#000000;stroke-width:2.0px;stroke-linecap:butt;stroke-linejoin:miter;stroke-opacity:1\"/>\n",
       "<path class=\"bond-17 atom-18 atom-19\" d=\"M 224.8,110.4 L 217.1,102.1\" style=\"fill:none;fill-rule:evenodd;stroke:#000000;stroke-width:2.0px;stroke-linecap:butt;stroke-linejoin:miter;stroke-opacity:1\"/>\n",
       "<path class=\"bond-18 atom-17 atom-19\" d=\"M 206.1,104.6 L 217.1,102.1\" style=\"fill:none;fill-rule:evenodd;stroke:#000000;stroke-width:2.0px;stroke-linecap:butt;stroke-linejoin:miter;stroke-opacity:1\"/>\n",
       "<path class=\"bond-19 atom-20 atom-21\" d=\"M 235.9,107.9 L 243.6,116.2\" style=\"fill:none;fill-rule:evenodd;stroke:#000000;stroke-width:2.0px;stroke-linecap:butt;stroke-linejoin:miter;stroke-opacity:1\"/>\n",
       "<path class=\"bond-20 atom-21 atom-22\" d=\"M 243.6,116.2 L 254.6,113.6\" style=\"fill:none;fill-rule:evenodd;stroke:#000000;stroke-width:2.0px;stroke-linecap:butt;stroke-linejoin:miter;stroke-opacity:1\"/>\n",
       "<path class=\"bond-21 atom-22 atom-23\" d=\"M 254.6,113.6 L 258.0,102.8\" style=\"fill:none;fill-rule:evenodd;stroke:#000000;stroke-width:2.0px;stroke-linecap:butt;stroke-linejoin:miter;stroke-opacity:1\"/>\n",
       "<path class=\"bond-22 atom-22 atom-24\" d=\"M 254.6,113.6 L 262.3,121.9\" style=\"fill:none;fill-rule:evenodd;stroke:#000000;stroke-width:2.0px;stroke-linecap:butt;stroke-linejoin:miter;stroke-opacity:1\"/>\n",
       "<path class=\"bond-23 atom-24 atom-25\" d=\"M 262.3,121.9 L 259.0,132.8\" style=\"fill:none;fill-rule:evenodd;stroke:#000000;stroke-width:2.0px;stroke-linecap:butt;stroke-linejoin:miter;stroke-opacity:1\"/>\n",
       "<path class=\"bond-24 atom-18 atom-20\" d=\"M 224.8,110.4 L 235.9,107.9\" style=\"fill:none;fill-rule:evenodd;stroke:#000000;stroke-width:2.0px;stroke-linecap:butt;stroke-linejoin:miter;stroke-opacity:1\"/>\n",
       "<path class=\"bond-25 atom-26 atom-27\" d=\"M 276.7,108.6 L 273.4,119.4\" style=\"fill:none;fill-rule:evenodd;stroke:#000000;stroke-width:2.0px;stroke-linecap:butt;stroke-linejoin:miter;stroke-opacity:1\"/>\n",
       "<path class=\"bond-26 atom-24 atom-27\" d=\"M 262.3,121.9 L 273.4,119.4\" style=\"fill:none;fill-rule:evenodd;stroke:#000000;stroke-width:2.0px;stroke-linecap:butt;stroke-linejoin:miter;stroke-opacity:1\"/>\n",
       "<path class=\"bond-27 atom-28 atom-29\" d=\"M 291.1,95.2 L 287.7,106.1\" style=\"fill:none;fill-rule:evenodd;stroke:#000000;stroke-width:2.0px;stroke-linecap:butt;stroke-linejoin:miter;stroke-opacity:1\"/>\n",
       "<path class=\"bond-28 atom-26 atom-29\" d=\"M 276.7,108.6 L 287.7,106.1\" style=\"fill:none;fill-rule:evenodd;stroke:#000000;stroke-width:2.0px;stroke-linecap:butt;stroke-linejoin:miter;stroke-opacity:1\"/>\n",
       "<path class=\"bond-29 atom-30 atom-31\" d=\"M 305.4,81.9 L 302.1,92.7\" style=\"fill:none;fill-rule:evenodd;stroke:#000000;stroke-width:2.0px;stroke-linecap:butt;stroke-linejoin:miter;stroke-opacity:1\"/>\n",
       "<path class=\"bond-30 atom-28 atom-31\" d=\"M 291.1,95.2 L 302.1,92.7\" style=\"fill:none;fill-rule:evenodd;stroke:#000000;stroke-width:2.0px;stroke-linecap:butt;stroke-linejoin:miter;stroke-opacity:1\"/>\n",
       "<path class=\"bond-31 atom-32 atom-33\" d=\"M 319.8,68.5 L 316.5,79.4\" style=\"fill:none;fill-rule:evenodd;stroke:#000000;stroke-width:2.0px;stroke-linecap:butt;stroke-linejoin:miter;stroke-opacity:1\"/>\n",
       "<path class=\"bond-32 atom-30 atom-33\" d=\"M 305.4,81.9 L 316.5,79.4\" style=\"fill:none;fill-rule:evenodd;stroke:#000000;stroke-width:2.0px;stroke-linecap:butt;stroke-linejoin:miter;stroke-opacity:1\"/>\n",
       "<path class=\"bond-33 atom-34 atom-35\" d=\"M 330.8,66.0 L 334.2,55.2\" style=\"fill:none;fill-rule:evenodd;stroke:#000000;stroke-width:2.0px;stroke-linecap:butt;stroke-linejoin:miter;stroke-opacity:1\"/>\n",
       "<path class=\"bond-34 atom-32 atom-34\" d=\"M 319.8,68.5 L 330.8,66.0\" style=\"fill:none;fill-rule:evenodd;stroke:#000000;stroke-width:2.0px;stroke-linecap:butt;stroke-linejoin:miter;stroke-opacity:1\"/>\n",
       "<path class=\"bond-35 atom-36 atom-37\" d=\"M 345.2,52.6 L 348.5,41.8\" style=\"fill:none;fill-rule:evenodd;stroke:#000000;stroke-width:2.0px;stroke-linecap:butt;stroke-linejoin:miter;stroke-opacity:1\"/>\n",
       "<path class=\"bond-36 atom-35 atom-36\" d=\"M 334.2,55.2 L 345.2,52.6\" style=\"fill:none;fill-rule:evenodd;stroke:#000000;stroke-width:2.0px;stroke-linecap:butt;stroke-linejoin:miter;stroke-opacity:1\"/>\n",
       "<path class=\"bond-37 atom-38 atom-39\" d=\"M 359.6,39.3 L 362.9,28.5\" style=\"fill:none;fill-rule:evenodd;stroke:#000000;stroke-width:2.0px;stroke-linecap:butt;stroke-linejoin:miter;stroke-opacity:1\"/>\n",
       "<path class=\"bond-38 atom-39 atom-40\" d=\"M 362.9,28.5 L 374.0,25.9\" style=\"fill:none;fill-rule:evenodd;stroke:#000000;stroke-width:2.0px;stroke-linecap:butt;stroke-linejoin:miter;stroke-opacity:1\"/>\n",
       "<path class=\"bond-38 atom-39 atom-40\" d=\"M 364.1,25.9 L 371.8,24.1\" style=\"fill:none;fill-rule:evenodd;stroke:#000000;stroke-width:2.0px;stroke-linecap:butt;stroke-linejoin:miter;stroke-opacity:1\"/>\n",
       "<path class=\"bond-39 atom-40 atom-41\" d=\"M 374.0,25.9 L 377.3,15.1\" style=\"fill:none;fill-rule:evenodd;stroke:#000000;stroke-width:2.0px;stroke-linecap:butt;stroke-linejoin:miter;stroke-opacity:1\"/>\n",
       "<path class=\"bond-40 atom-41 atom-42\" d=\"M 377.3,15.1 L 369.6,6.8\" style=\"fill:none;fill-rule:evenodd;stroke:#000000;stroke-width:2.0px;stroke-linecap:butt;stroke-linejoin:miter;stroke-opacity:1\"/>\n",
       "<path class=\"bond-40 atom-41 atom-42\" d=\"M 374.5,15.4 L 369.1,9.6\" style=\"fill:none;fill-rule:evenodd;stroke:#000000;stroke-width:2.0px;stroke-linecap:butt;stroke-linejoin:miter;stroke-opacity:1\"/>\n",
       "<path class=\"bond-41 atom-42 atom-43\" d=\"M 369.6,6.8 L 358.5,9.3\" style=\"fill:none;fill-rule:evenodd;stroke:#000000;stroke-width:2.0px;stroke-linecap:butt;stroke-linejoin:miter;stroke-opacity:1\"/>\n",
       "<path class=\"bond-42 atom-43 atom-44\" d=\"M 358.5,9.3 L 355.2,20.2\" style=\"fill:none;fill-rule:evenodd;stroke:#000000;stroke-width:2.0px;stroke-linecap:butt;stroke-linejoin:miter;stroke-opacity:1\"/>\n",
       "<path class=\"bond-42 atom-43 atom-44\" d=\"M 360.2,11.6 L 357.9,19.2\" style=\"fill:none;fill-rule:evenodd;stroke:#000000;stroke-width:2.0px;stroke-linecap:butt;stroke-linejoin:miter;stroke-opacity:1\"/>\n",
       "<path class=\"bond-43 atom-44 atom-39\" d=\"M 355.2,20.2 L 362.9,28.5\" style=\"fill:none;fill-rule:evenodd;stroke:#000000;stroke-width:2.0px;stroke-linecap:butt;stroke-linejoin:miter;stroke-opacity:1\"/>\n",
       "<path class=\"bond-44 atom-37 atom-38\" d=\"M 348.5,41.8 L 359.6,39.3\" style=\"fill:none;fill-rule:evenodd;stroke:#000000;stroke-width:2.0px;stroke-linecap:butt;stroke-linejoin:miter;stroke-opacity:1\"/>\n",
       "<path class=\"bond-45 atom-45 atom-46\" d=\"M 364.0,58.4 L 367.3,47.6\" style=\"fill:none;fill-rule:evenodd;stroke:#000000;stroke-width:2.0px;stroke-linecap:butt;stroke-linejoin:miter;stroke-opacity:1\"/>\n",
       "<path class=\"bond-46 atom-38 atom-46\" d=\"M 359.6,39.3 L 367.3,47.6\" style=\"fill:none;fill-rule:evenodd;stroke:#000000;stroke-width:2.0px;stroke-linecap:butt;stroke-linejoin:miter;stroke-opacity:1\"/>\n",
       "<path class=\"bond-47 atom-47 atom-48\" d=\"M 368.3,77.5 L 371.7,66.7\" style=\"fill:none;fill-rule:evenodd;stroke:#000000;stroke-width:2.0px;stroke-linecap:butt;stroke-linejoin:miter;stroke-opacity:1\"/>\n",
       "<path class=\"bond-48 atom-45 atom-48\" d=\"M 364.0,58.4 L 371.7,66.7\" style=\"fill:none;fill-rule:evenodd;stroke:#000000;stroke-width:2.0px;stroke-linecap:butt;stroke-linejoin:miter;stroke-opacity:1\"/>\n",
       "<path class=\"bond-49 atom-49 atom-50\" d=\"M 376.1,85.8 L 372.7,96.6\" style=\"fill:none;fill-rule:evenodd;stroke:#000000;stroke-width:2.0px;stroke-linecap:butt;stroke-linejoin:miter;stroke-opacity:1\"/>\n",
       "<path class=\"bond-50 atom-50 atom-51\" d=\"M 372.7,96.6 L 380.4,104.9\" style=\"fill:none;fill-rule:evenodd;stroke:#000000;stroke-width:2.0px;stroke-linecap:butt;stroke-linejoin:miter;stroke-opacity:1\"/>\n",
       "<path class=\"bond-51 atom-51 atom-52\" d=\"M 380.4,104.9 L 377.1,115.8\" style=\"fill:none;fill-rule:evenodd;stroke:#000000;stroke-width:2.0px;stroke-linecap:butt;stroke-linejoin:miter;stroke-opacity:1\"/>\n",
       "<path class=\"bond-52 atom-51 atom-53\" d=\"M 380.4,104.9 L 391.5,102.4\" style=\"fill:none;fill-rule:evenodd;stroke:#000000;stroke-width:2.0px;stroke-linecap:butt;stroke-linejoin:miter;stroke-opacity:1\"/>\n",
       "<path class=\"bond-53 atom-53 atom-54\" d=\"M 391.5,102.4 L 399.2,110.7\" style=\"fill:none;fill-rule:evenodd;stroke:#000000;stroke-width:2.0px;stroke-linecap:butt;stroke-linejoin:miter;stroke-opacity:1\"/>\n",
       "<path class=\"bond-54 atom-47 atom-49\" d=\"M 368.3,77.5 L 376.1,85.8\" style=\"fill:none;fill-rule:evenodd;stroke:#000000;stroke-width:2.0px;stroke-linecap:butt;stroke-linejoin:miter;stroke-opacity:1\"/>\n",
       "<path class=\"bond-55 atom-55 atom-56\" d=\"M 249.2,64.6 L 245.9,75.4\" style=\"fill:none;fill-rule:evenodd;stroke:#000000;stroke-width:2.0px;stroke-linecap:butt;stroke-linejoin:miter;stroke-opacity:1\"/>\n",
       "<path class=\"bond-56 atom-56 atom-57\" d=\"M 245.9,75.4 L 253.6,83.7\" style=\"fill:none;fill-rule:evenodd;stroke:#000000;stroke-width:2.0px;stroke-linecap:butt;stroke-linejoin:miter;stroke-opacity:1\"/>\n",
       "<path class=\"bond-57 atom-57 atom-58\" d=\"M 253.6,83.7 L 250.3,94.5\" style=\"fill:none;fill-rule:evenodd;stroke:#000000;stroke-width:2.0px;stroke-linecap:butt;stroke-linejoin:miter;stroke-opacity:1\"/>\n",
       "<path class=\"bond-58 atom-57 atom-59\" d=\"M 253.6,83.7 L 264.6,81.2\" style=\"fill:none;fill-rule:evenodd;stroke:#000000;stroke-width:2.0px;stroke-linecap:butt;stroke-linejoin:miter;stroke-opacity:1\"/>\n",
       "<path class=\"bond-59 atom-59 atom-60\" d=\"M 264.6,81.2 L 264.9,75.2\" style=\"fill:none;fill-rule:evenodd;stroke:#000000;stroke-width:2.0px;stroke-linecap:butt;stroke-linejoin:miter;stroke-opacity:1\"/>\n",
       "<path class=\"bond-60 atom-23 atom-58\" d=\"M 258.0,102.8 L 250.3,94.5\" style=\"fill:none;fill-rule:evenodd;stroke:#000000;stroke-width:2.0px;stroke-linecap:butt;stroke-linejoin:miter;stroke-opacity:1\"/>\n",
       "<path class=\"bond-61 atom-61 atom-62\" d=\"M 283.4,86.9 L 272.3,89.5\" style=\"fill:none;fill-rule:evenodd;stroke:#000000;stroke-width:2.0px;stroke-linecap:butt;stroke-linejoin:miter;stroke-opacity:1\"/>\n",
       "<path class=\"bond-62 atom-59 atom-62\" d=\"M 264.6,81.2 L 272.3,89.5\" style=\"fill:none;fill-rule:evenodd;stroke:#000000;stroke-width:2.0px;stroke-linecap:butt;stroke-linejoin:miter;stroke-opacity:1\"/>\n",
       "<path class=\"bond-63 atom-63 atom-64\" d=\"M 286.7,76.1 L 279.0,67.8\" style=\"fill:none;fill-rule:evenodd;stroke:#000000;stroke-width:2.0px;stroke-linecap:butt;stroke-linejoin:miter;stroke-opacity:1\"/>\n",
       "<path class=\"bond-64 atom-64 atom-65\" d=\"M 279.0,67.8 L 282.3,57.0\" style=\"fill:none;fill-rule:evenodd;stroke:#000000;stroke-width:2.0px;stroke-linecap:butt;stroke-linejoin:miter;stroke-opacity:1\"/>\n",
       "<path class=\"bond-64 atom-64 atom-65\" d=\"M 277.3,65.5 L 279.6,58.0\" style=\"fill:none;fill-rule:evenodd;stroke:#000000;stroke-width:2.0px;stroke-linecap:butt;stroke-linejoin:miter;stroke-opacity:1\"/>\n",
       "<path class=\"bond-65 atom-65 atom-66\" d=\"M 282.3,57.0 L 274.6,48.7\" style=\"fill:none;fill-rule:evenodd;stroke:#000000;stroke-width:2.0px;stroke-linecap:butt;stroke-linejoin:miter;stroke-opacity:1\"/>\n",
       "<path class=\"bond-66 atom-66 atom-67\" d=\"M 274.6,48.7 L 263.6,51.2\" style=\"fill:none;fill-rule:evenodd;stroke:#000000;stroke-width:2.0px;stroke-linecap:butt;stroke-linejoin:miter;stroke-opacity:1\"/>\n",
       "<path class=\"bond-66 atom-66 atom-67\" d=\"M 273.5,51.3 L 265.7,53.1\" style=\"fill:none;fill-rule:evenodd;stroke:#000000;stroke-width:2.0px;stroke-linecap:butt;stroke-linejoin:miter;stroke-opacity:1\"/>\n",
       "<path class=\"bond-67 atom-67 atom-68\" d=\"M 263.6,51.2 L 260.2,62.1\" style=\"fill:none;fill-rule:evenodd;stroke:#000000;stroke-width:2.0px;stroke-linecap:butt;stroke-linejoin:miter;stroke-opacity:1\"/>\n",
       "<path class=\"bond-68 atom-68 atom-69\" d=\"M 260.2,62.1 L 267.9,70.3\" style=\"fill:none;fill-rule:evenodd;stroke:#000000;stroke-width:2.0px;stroke-linecap:butt;stroke-linejoin:miter;stroke-opacity:1\"/>\n",
       "<path class=\"bond-68 atom-68 atom-69\" d=\"M 263.1,61.8 L 268.4,67.6\" style=\"fill:none;fill-rule:evenodd;stroke:#000000;stroke-width:2.0px;stroke-linecap:butt;stroke-linejoin:miter;stroke-opacity:1\"/>\n",
       "<path class=\"bond-69 atom-69 atom-64\" d=\"M 267.9,70.3 L 279.0,67.8\" style=\"fill:none;fill-rule:evenodd;stroke:#000000;stroke-width:2.0px;stroke-linecap:butt;stroke-linejoin:miter;stroke-opacity:1\"/>\n",
       "<path class=\"bond-70 atom-61 atom-63\" d=\"M 283.4,86.9 L 286.7,76.1\" style=\"fill:none;fill-rule:evenodd;stroke:#000000;stroke-width:2.0px;stroke-linecap:butt;stroke-linejoin:miter;stroke-opacity:1\"/>\n",
       "<path class=\"bond-71 atom-70 atom-71\" d=\"M 394.8,91.6 L 399.2,90.6\" style=\"fill:none;fill-rule:evenodd;stroke:#000000;stroke-width:2.0px;stroke-linecap:butt;stroke-linejoin:miter;stroke-opacity:1\"/>\n",
       "<path class=\"bond-71 atom-70 atom-71\" d=\"M 399.2,90.6 L 403.5,89.6\" style=\"fill:none;fill-rule:evenodd;stroke:#FF0000;stroke-width:2.0px;stroke-linecap:butt;stroke-linejoin:miter;stroke-opacity:1\"/>\n",
       "<path class=\"bond-72 atom-71 atom-72\" d=\"M 406.6,86.5 L 407.9,82.4\" style=\"fill:none;fill-rule:evenodd;stroke:#FF0000;stroke-width:2.0px;stroke-linecap:butt;stroke-linejoin:miter;stroke-opacity:1\"/>\n",
       "<path class=\"bond-72 atom-71 atom-72\" d=\"M 407.9,82.4 L 409.2,78.2\" style=\"fill:none;fill-rule:evenodd;stroke:#000000;stroke-width:2.0px;stroke-linecap:butt;stroke-linejoin:miter;stroke-opacity:1\"/>\n",
       "<path class=\"bond-73 atom-53 atom-70\" d=\"M 391.5,102.4 L 394.8,91.6\" style=\"fill:none;fill-rule:evenodd;stroke:#000000;stroke-width:2.0px;stroke-linecap:butt;stroke-linejoin:miter;stroke-opacity:1\"/>\n",
       "<path class=\"bond-74 atom-73 atom-74\" d=\"M 384.8,124.1 L 383.5,128.2\" style=\"fill:none;fill-rule:evenodd;stroke:#000000;stroke-width:2.0px;stroke-linecap:butt;stroke-linejoin:miter;stroke-opacity:1\"/>\n",
       "<path class=\"bond-74 atom-73 atom-74\" d=\"M 383.5,128.2 L 382.3,132.4\" style=\"fill:none;fill-rule:evenodd;stroke:#FF0000;stroke-width:2.0px;stroke-linecap:butt;stroke-linejoin:miter;stroke-opacity:1\"/>\n",
       "<path class=\"bond-75 atom-74 atom-75\" d=\"M 383.8,137.4 L 386.5,140.3\" style=\"fill:none;fill-rule:evenodd;stroke:#FF0000;stroke-width:2.0px;stroke-linecap:butt;stroke-linejoin:miter;stroke-opacity:1\"/>\n",
       "<path class=\"bond-75 atom-74 atom-75\" d=\"M 386.5,140.3 L 389.2,143.2\" style=\"fill:none;fill-rule:evenodd;stroke:#000000;stroke-width:2.0px;stroke-linecap:butt;stroke-linejoin:miter;stroke-opacity:1\"/>\n",
       "<path class=\"bond-76 atom-52 atom-73\" d=\"M 377.1,115.8 L 384.8,124.1\" style=\"fill:none;fill-rule:evenodd;stroke:#000000;stroke-width:2.0px;stroke-linecap:butt;stroke-linejoin:miter;stroke-opacity:1\"/>\n",
       "<path class=\"bond-77 atom-76 atom-77\" d=\"M 241.5,56.3 L 242.8,52.2\" style=\"fill:none;fill-rule:evenodd;stroke:#000000;stroke-width:2.0px;stroke-linecap:butt;stroke-linejoin:miter;stroke-opacity:1\"/>\n",
       "<path class=\"bond-77 atom-76 atom-77\" d=\"M 242.8,52.2 L 244.0,48.1\" style=\"fill:none;fill-rule:evenodd;stroke:#FF0000;stroke-width:2.0px;stroke-linecap:butt;stroke-linejoin:miter;stroke-opacity:1\"/>\n",
       "<path class=\"bond-78 atom-77 atom-78\" d=\"M 242.5,43.0 L 239.8,40.1\" style=\"fill:none;fill-rule:evenodd;stroke:#FF0000;stroke-width:2.0px;stroke-linecap:butt;stroke-linejoin:miter;stroke-opacity:1\"/>\n",
       "<path class=\"bond-78 atom-77 atom-78\" d=\"M 239.8,40.1 L 237.1,37.2\" style=\"fill:none;fill-rule:evenodd;stroke:#000000;stroke-width:2.0px;stroke-linecap:butt;stroke-linejoin:miter;stroke-opacity:1\"/>\n",
       "<path class=\"bond-79 atom-55 atom-76\" d=\"M 249.2,64.6 L 241.5,56.3\" style=\"fill:none;fill-rule:evenodd;stroke:#000000;stroke-width:2.0px;stroke-linecap:butt;stroke-linejoin:miter;stroke-opacity:1\"/>\n",
       "<path class=\"bond-80 atom-79 atom-80\" d=\"M 297.7,73.6 L 299.0,69.4\" style=\"fill:none;fill-rule:evenodd;stroke:#000000;stroke-width:2.0px;stroke-linecap:butt;stroke-linejoin:miter;stroke-opacity:1\"/>\n",
       "<path class=\"bond-80 atom-79 atom-80\" d=\"M 299.0,69.4 L 300.3,65.3\" style=\"fill:none;fill-rule:evenodd;stroke:#0000FF;stroke-width:2.0px;stroke-linecap:butt;stroke-linejoin:miter;stroke-opacity:1\"/>\n",
       "<path class=\"bond-81 atom-63 atom-79\" d=\"M 286.7,76.1 L 297.7,73.6\" style=\"fill:none;fill-rule:evenodd;stroke:#000000;stroke-width:2.0px;stroke-linecap:butt;stroke-linejoin:miter;stroke-opacity:1\"/>\n",
       "<path class=\"atom-0\" d=\"M 40.8 48.1 L 41.4 48.1 L 41.4 49.9 L 43.6 49.9 L 43.6 48.1 L 44.2 48.1 L 44.2 52.3 L 43.6 52.3 L 43.6 50.4 L 41.4 50.4 L 41.4 52.3 L 40.8 52.3 L 40.8 48.1 \" fill=\"#0000FF\"/>\n",
       "<path class=\"atom-0\" d=\"M 44.7 52.2 Q 44.8 51.9, 45.0 51.8 Q 45.3 51.6, 45.6 51.6 Q 46.0 51.6, 46.3 51.9 Q 46.5 52.1, 46.5 52.5 Q 46.5 52.9, 46.2 53.3 Q 45.9 53.7, 45.3 54.2 L 46.6 54.2 L 46.6 54.5 L 44.7 54.5 L 44.7 54.2 Q 45.2 53.8, 45.5 53.6 Q 45.8 53.3, 46.0 53.0 Q 46.1 52.8, 46.1 52.5 Q 46.1 52.3, 46.0 52.1 Q 45.8 52.0, 45.6 52.0 Q 45.4 52.0, 45.2 52.0 Q 45.1 52.1, 45.0 52.3 L 44.7 52.2 \" fill=\"#0000FF\"/>\n",
       "<path class=\"atom-0\" d=\"M 47.5 48.1 L 48.9 50.4 Q 49.0 50.6, 49.2 51.0 Q 49.4 51.4, 49.4 51.4 L 49.4 48.1 L 50.0 48.1 L 50.0 52.3 L 49.4 52.3 L 47.9 49.9 Q 47.8 49.6, 47.6 49.3 Q 47.4 48.9, 47.3 48.8 L 47.3 52.3 L 46.8 52.3 L 46.8 48.1 L 47.5 48.1 \" fill=\"#0000FF\"/>\n",
       "<path class=\"atom-71\" d=\"M 403.9 89.1 Q 403.9 88.1, 404.4 87.5 Q 404.9 86.9, 405.8 86.9 Q 406.8 86.9, 407.3 87.5 Q 407.8 88.1, 407.8 89.1 Q 407.8 90.1, 407.3 90.7 Q 406.8 91.3, 405.8 91.3 Q 404.9 91.3, 404.4 90.7 Q 403.9 90.1, 403.9 89.1 M 405.8 90.8 Q 406.5 90.8, 406.8 90.4 Q 407.2 89.9, 407.2 89.1 Q 407.2 88.2, 406.8 87.8 Q 406.5 87.4, 405.8 87.4 Q 405.2 87.4, 404.8 87.8 Q 404.5 88.2, 404.5 89.1 Q 404.5 89.9, 404.8 90.4 Q 405.2 90.8, 405.8 90.8 \" fill=\"#FF0000\"/>\n",
       "<path class=\"atom-74\" d=\"M 379.5 134.9 Q 379.5 133.9, 380.0 133.3 Q 380.5 132.7, 381.5 132.7 Q 382.4 132.7, 382.9 133.3 Q 383.4 133.9, 383.4 134.9 Q 383.4 135.9, 382.9 136.5 Q 382.4 137.1, 381.5 137.1 Q 380.6 137.1, 380.0 136.5 Q 379.5 135.9, 379.5 134.9 M 381.5 136.6 Q 382.1 136.6, 382.5 136.2 Q 382.8 135.8, 382.8 134.9 Q 382.8 134.1, 382.5 133.6 Q 382.1 133.2, 381.5 133.2 Q 380.8 133.2, 380.5 133.6 Q 380.1 134.1, 380.1 134.9 Q 380.1 135.8, 380.5 136.2 Q 380.8 136.6, 381.5 136.6 \" fill=\"#FF0000\"/>\n",
       "<path class=\"atom-77\" d=\"M 242.9 45.5 Q 242.9 44.5, 243.4 43.9 Q 243.9 43.3, 244.8 43.3 Q 245.8 43.3, 246.3 43.9 Q 246.8 44.5, 246.8 45.5 Q 246.8 46.5, 246.3 47.1 Q 245.7 47.7, 244.8 47.7 Q 243.9 47.7, 243.4 47.1 Q 242.9 46.5, 242.9 45.5 M 244.8 47.2 Q 245.5 47.2, 245.8 46.8 Q 246.2 46.3, 246.2 45.5 Q 246.2 44.6, 245.8 44.2 Q 245.5 43.8, 244.8 43.8 Q 244.2 43.8, 243.8 44.2 Q 243.5 44.6, 243.5 45.5 Q 243.5 46.3, 243.8 46.8 Q 244.2 47.2, 244.8 47.2 \" fill=\"#FF0000\"/>\n",
       "<path class=\"atom-80\" d=\"M 300.1 60.6 L 301.5 62.9 Q 301.7 63.1, 301.9 63.5 Q 302.1 63.9, 302.1 63.9 L 302.1 60.6 L 302.7 60.6 L 302.7 64.9 L 302.1 64.9 L 300.6 62.4 Q 300.4 62.1, 300.2 61.8 Q 300.1 61.5, 300.0 61.4 L 300.0 64.9 L 299.5 64.9 L 299.5 60.6 L 300.1 60.6 \" fill=\"#0000FF\"/>\n",
       "<path class=\"atom-80\" d=\"M 303.2 60.6 L 303.7 60.6 L 303.7 62.4 L 305.9 62.4 L 305.9 60.6 L 306.5 60.6 L 306.5 64.9 L 305.9 64.9 L 305.9 62.9 L 303.7 62.9 L 303.7 64.9 L 303.2 64.9 L 303.2 60.6 \" fill=\"#0000FF\"/>\n",
       "<path class=\"atom-80\" d=\"M 307.0 64.7 Q 307.1 64.5, 307.4 64.3 Q 307.6 64.2, 307.9 64.2 Q 308.4 64.2, 308.6 64.4 Q 308.8 64.6, 308.8 65.0 Q 308.8 65.5, 308.5 65.8 Q 308.2 66.2, 307.6 66.7 L 308.9 66.7 L 308.9 67.0 L 307.0 67.0 L 307.0 66.7 Q 307.5 66.4, 307.8 66.1 Q 308.1 65.8, 308.3 65.6 Q 308.5 65.3, 308.5 65.1 Q 308.5 64.8, 308.3 64.6 Q 308.2 64.5, 307.9 64.5 Q 307.7 64.5, 307.6 64.6 Q 307.4 64.7, 307.3 64.9 L 307.0 64.7 \" fill=\"#0000FF\"/>\n",
       "</svg>"
      ],
      "text/plain": [
       "<IPython.core.display.SVG object>"
      ]
     },
     "execution_count": 46,
     "metadata": {},
     "output_type": "execute_result"
    }
   ],
   "source": [
    "big_smiles_gen(big, 6)"
   ]
  },
  {
   "cell_type": "code",
   "execution_count": 47,
   "id": "7e775e4e",
   "metadata": {},
   "outputs": [
    {
     "name": "stdout",
     "output_type": "stream",
     "text": [
      "33\n"
     ]
    },
    {
     "data": {
      "image/svg+xml": [
       "<svg xmlns=\"http://www.w3.org/2000/svg\" xmlns:rdkit=\"http://www.rdkit.org/xml\" xmlns:xlink=\"http://www.w3.org/1999/xlink\" version=\"1.1\" baseProfile=\"full\" xml:space=\"preserve\" width=\"450px\" height=\"150px\" viewBox=\"0 0 450 150\">\n",
       "<!-- END OF HEADER -->\n",
       "<rect style=\"opacity:1.0;fill:#FFFFFF;stroke:none\" width=\"450.0\" height=\"150.0\" x=\"0.0\" y=\"0.0\"> </rect>\n",
       "<path class=\"bond-0 atom-0 atom-1\" d=\"M 363.9,38.1 L 369.4,40.7\" style=\"fill:none;fill-rule:evenodd;stroke:#0000FF;stroke-width:2.0px;stroke-linecap:butt;stroke-linejoin:miter;stroke-opacity:1\"/>\n",
       "<path class=\"bond-0 atom-0 atom-1\" d=\"M 369.4,40.7 L 374.9,43.3\" style=\"fill:none;fill-rule:evenodd;stroke:#000000;stroke-width:2.0px;stroke-linecap:butt;stroke-linejoin:miter;stroke-opacity:1\"/>\n",
       "<path class=\"bond-1 atom-2 atom-3\" d=\"M 389.1,63.9 L 376.0,57.7\" style=\"fill:none;fill-rule:evenodd;stroke:#000000;stroke-width:2.0px;stroke-linecap:butt;stroke-linejoin:miter;stroke-opacity:1\"/>\n",
       "<path class=\"bond-2 atom-1 atom-3\" d=\"M 374.9,43.3 L 376.0,57.7\" style=\"fill:none;fill-rule:evenodd;stroke:#000000;stroke-width:2.0px;stroke-linecap:butt;stroke-linejoin:miter;stroke-opacity:1\"/>\n",
       "<path class=\"bond-3 atom-4 atom-5\" d=\"M 390.3,78.4 L 403.4,84.6\" style=\"fill:none;fill-rule:evenodd;stroke:#000000;stroke-width:2.0px;stroke-linecap:butt;stroke-linejoin:miter;stroke-opacity:1\"/>\n",
       "<path class=\"bond-4 atom-5 atom-6\" d=\"M 403.4,84.6 L 404.6,99.0\" style=\"fill:none;fill-rule:evenodd;stroke:#000000;stroke-width:2.0px;stroke-linecap:butt;stroke-linejoin:miter;stroke-opacity:1\"/>\n",
       "<path class=\"bond-4 atom-5 atom-6\" d=\"M 406.5,86.5 L 407.3,96.6\" style=\"fill:none;fill-rule:evenodd;stroke:#000000;stroke-width:2.0px;stroke-linecap:butt;stroke-linejoin:miter;stroke-opacity:1\"/>\n",
       "<path class=\"bond-5 atom-6 atom-7\" d=\"M 404.6,99.0 L 417.7,105.2\" style=\"fill:none;fill-rule:evenodd;stroke:#000000;stroke-width:2.0px;stroke-linecap:butt;stroke-linejoin:miter;stroke-opacity:1\"/>\n",
       "<path class=\"bond-6 atom-7 atom-8\" d=\"M 417.7,105.2 L 429.6,97.0\" style=\"fill:none;fill-rule:evenodd;stroke:#000000;stroke-width:2.0px;stroke-linecap:butt;stroke-linejoin:miter;stroke-opacity:1\"/>\n",
       "<path class=\"bond-6 atom-7 atom-8\" d=\"M 417.8,101.6 L 426.1,95.8\" style=\"fill:none;fill-rule:evenodd;stroke:#000000;stroke-width:2.0px;stroke-linecap:butt;stroke-linejoin:miter;stroke-opacity:1\"/>\n",
       "<path class=\"bond-7 atom-8 atom-9\" d=\"M 429.6,97.0 L 428.4,82.6\" style=\"fill:none;fill-rule:evenodd;stroke:#000000;stroke-width:2.0px;stroke-linecap:butt;stroke-linejoin:miter;stroke-opacity:1\"/>\n",
       "<path class=\"bond-8 atom-9 atom-10\" d=\"M 428.4,82.6 L 415.3,76.3\" style=\"fill:none;fill-rule:evenodd;stroke:#000000;stroke-width:2.0px;stroke-linecap:butt;stroke-linejoin:miter;stroke-opacity:1\"/>\n",
       "<path class=\"bond-8 atom-9 atom-10\" d=\"M 425.2,84.2 L 416.0,79.9\" style=\"fill:none;fill-rule:evenodd;stroke:#000000;stroke-width:2.0px;stroke-linecap:butt;stroke-linejoin:miter;stroke-opacity:1\"/>\n",
       "<path class=\"bond-9 atom-10 atom-5\" d=\"M 415.3,76.3 L 403.4,84.6\" style=\"fill:none;fill-rule:evenodd;stroke:#000000;stroke-width:2.0px;stroke-linecap:butt;stroke-linejoin:miter;stroke-opacity:1\"/>\n",
       "<path class=\"bond-10 atom-2 atom-4\" d=\"M 389.1,63.9 L 390.3,78.4\" style=\"fill:none;fill-rule:evenodd;stroke:#000000;stroke-width:2.0px;stroke-linecap:butt;stroke-linejoin:miter;stroke-opacity:1\"/>\n",
       "<path class=\"bond-11 atom-11 atom-12\" d=\"M 365.3,80.4 L 378.4,86.6\" style=\"fill:none;fill-rule:evenodd;stroke:#000000;stroke-width:2.0px;stroke-linecap:butt;stroke-linejoin:miter;stroke-opacity:1\"/>\n",
       "<path class=\"bond-12 atom-4 atom-12\" d=\"M 390.3,78.4 L 378.4,86.6\" style=\"fill:none;fill-rule:evenodd;stroke:#000000;stroke-width:2.0px;stroke-linecap:butt;stroke-linejoin:miter;stroke-opacity:1\"/>\n",
       "<path class=\"bond-13 atom-13 atom-14\" d=\"M 353.4,88.6 L 340.3,82.4\" style=\"fill:none;fill-rule:evenodd;stroke:#000000;stroke-width:2.0px;stroke-linecap:butt;stroke-linejoin:miter;stroke-opacity:1\"/>\n",
       "<path class=\"bond-14 atom-11 atom-13\" d=\"M 365.3,80.4 L 353.4,88.6\" style=\"fill:none;fill-rule:evenodd;stroke:#000000;stroke-width:2.0px;stroke-linecap:butt;stroke-linejoin:miter;stroke-opacity:1\"/>\n",
       "<path class=\"bond-15 atom-15 atom-16\" d=\"M 328.4,90.7 L 315.3,84.4\" style=\"fill:none;fill-rule:evenodd;stroke:#000000;stroke-width:2.0px;stroke-linecap:butt;stroke-linejoin:miter;stroke-opacity:1\"/>\n",
       "<path class=\"bond-16 atom-14 atom-15\" d=\"M 340.3,82.4 L 328.4,90.7\" style=\"fill:none;fill-rule:evenodd;stroke:#000000;stroke-width:2.0px;stroke-linecap:butt;stroke-linejoin:miter;stroke-opacity:1\"/>\n",
       "<path class=\"bond-17 atom-17 atom-18\" d=\"M 290.3,86.5 L 303.3,92.7\" style=\"fill:none;fill-rule:evenodd;stroke:#000000;stroke-width:2.0px;stroke-linecap:butt;stroke-linejoin:miter;stroke-opacity:1\"/>\n",
       "<path class=\"bond-18 atom-16 atom-18\" d=\"M 315.3,84.4 L 303.3,92.7\" style=\"fill:none;fill-rule:evenodd;stroke:#000000;stroke-width:2.0px;stroke-linecap:butt;stroke-linejoin:miter;stroke-opacity:1\"/>\n",
       "<path class=\"bond-19 atom-19 atom-20\" d=\"M 265.2,88.5 L 278.3,94.7\" style=\"fill:none;fill-rule:evenodd;stroke:#000000;stroke-width:2.0px;stroke-linecap:butt;stroke-linejoin:miter;stroke-opacity:1\"/>\n",
       "<path class=\"bond-20 atom-17 atom-20\" d=\"M 290.3,86.5 L 278.3,94.7\" style=\"fill:none;fill-rule:evenodd;stroke:#000000;stroke-width:2.0px;stroke-linecap:butt;stroke-linejoin:miter;stroke-opacity:1\"/>\n",
       "<path class=\"bond-21 atom-21 atom-22\" d=\"M 253.3,96.7 L 254.5,111.2\" style=\"fill:none;fill-rule:evenodd;stroke:#000000;stroke-width:2.0px;stroke-linecap:butt;stroke-linejoin:miter;stroke-opacity:1\"/>\n",
       "<path class=\"bond-22 atom-22 atom-23\" d=\"M 254.5,111.2 L 242.6,119.4\" style=\"fill:none;fill-rule:evenodd;stroke:#000000;stroke-width:2.0px;stroke-linecap:butt;stroke-linejoin:miter;stroke-opacity:1\"/>\n",
       "<path class=\"bond-22 atom-22 atom-23\" d=\"M 254.4,114.8 L 246.0,120.6\" style=\"fill:none;fill-rule:evenodd;stroke:#000000;stroke-width:2.0px;stroke-linecap:butt;stroke-linejoin:miter;stroke-opacity:1\"/>\n",
       "<path class=\"bond-23 atom-23 atom-24\" d=\"M 242.6,119.4 L 243.7,133.8\" style=\"fill:none;fill-rule:evenodd;stroke:#000000;stroke-width:2.0px;stroke-linecap:butt;stroke-linejoin:miter;stroke-opacity:1\"/>\n",
       "<path class=\"bond-24 atom-24 atom-25\" d=\"M 243.7,133.8 L 256.8,140.0\" style=\"fill:none;fill-rule:evenodd;stroke:#000000;stroke-width:2.0px;stroke-linecap:butt;stroke-linejoin:miter;stroke-opacity:1\"/>\n",
       "<path class=\"bond-24 atom-24 atom-25\" d=\"M 246.9,132.2 L 256.1,136.5\" style=\"fill:none;fill-rule:evenodd;stroke:#000000;stroke-width:2.0px;stroke-linecap:butt;stroke-linejoin:miter;stroke-opacity:1\"/>\n",
       "<path class=\"bond-25 atom-25 atom-26\" d=\"M 256.8,140.0 L 268.8,131.8\" style=\"fill:none;fill-rule:evenodd;stroke:#000000;stroke-width:2.0px;stroke-linecap:butt;stroke-linejoin:miter;stroke-opacity:1\"/>\n",
       "<path class=\"bond-26 atom-26 atom-27\" d=\"M 268.8,131.8 L 267.6,117.4\" style=\"fill:none;fill-rule:evenodd;stroke:#000000;stroke-width:2.0px;stroke-linecap:butt;stroke-linejoin:miter;stroke-opacity:1\"/>\n",
       "<path class=\"bond-26 atom-26 atom-27\" d=\"M 265.7,129.9 L 264.9,119.8\" style=\"fill:none;fill-rule:evenodd;stroke:#000000;stroke-width:2.0px;stroke-linecap:butt;stroke-linejoin:miter;stroke-opacity:1\"/>\n",
       "<path class=\"bond-27 atom-27 atom-22\" d=\"M 267.6,117.4 L 254.5,111.2\" style=\"fill:none;fill-rule:evenodd;stroke:#000000;stroke-width:2.0px;stroke-linecap:butt;stroke-linejoin:miter;stroke-opacity:1\"/>\n",
       "<path class=\"bond-28 atom-19 atom-21\" d=\"M 265.2,88.5 L 253.3,96.7\" style=\"fill:none;fill-rule:evenodd;stroke:#000000;stroke-width:2.0px;stroke-linecap:butt;stroke-linejoin:miter;stroke-opacity:1\"/>\n",
       "<path class=\"bond-29 atom-28 atom-29\" d=\"M 240.2,90.5 L 228.3,98.8\" style=\"fill:none;fill-rule:evenodd;stroke:#000000;stroke-width:2.0px;stroke-linecap:butt;stroke-linejoin:miter;stroke-opacity:1\"/>\n",
       "<path class=\"bond-30 atom-21 atom-28\" d=\"M 253.3,96.7 L 240.2,90.5\" style=\"fill:none;fill-rule:evenodd;stroke:#000000;stroke-width:2.0px;stroke-linecap:butt;stroke-linejoin:miter;stroke-opacity:1\"/>\n",
       "<path class=\"bond-31 atom-30 atom-31\" d=\"M 215.2,92.5 L 203.3,100.8\" style=\"fill:none;fill-rule:evenodd;stroke:#000000;stroke-width:2.0px;stroke-linecap:butt;stroke-linejoin:miter;stroke-opacity:1\"/>\n",
       "<path class=\"bond-32 atom-29 atom-30\" d=\"M 228.3,98.8 L 215.2,92.5\" style=\"fill:none;fill-rule:evenodd;stroke:#000000;stroke-width:2.0px;stroke-linecap:butt;stroke-linejoin:miter;stroke-opacity:1\"/>\n",
       "<path class=\"bond-33 atom-32 atom-33\" d=\"M 190.2,94.6 L 178.3,102.8\" style=\"fill:none;fill-rule:evenodd;stroke:#000000;stroke-width:2.0px;stroke-linecap:butt;stroke-linejoin:miter;stroke-opacity:1\"/>\n",
       "<path class=\"bond-34 atom-31 atom-32\" d=\"M 203.3,100.8 L 190.2,94.6\" style=\"fill:none;fill-rule:evenodd;stroke:#000000;stroke-width:2.0px;stroke-linecap:butt;stroke-linejoin:miter;stroke-opacity:1\"/>\n",
       "<path class=\"bond-35 atom-34 atom-35\" d=\"M 153.3,104.8 L 165.2,96.6\" style=\"fill:none;fill-rule:evenodd;stroke:#000000;stroke-width:2.0px;stroke-linecap:butt;stroke-linejoin:miter;stroke-opacity:1\"/>\n",
       "<path class=\"bond-36 atom-33 atom-35\" d=\"M 178.3,102.8 L 165.2,96.6\" style=\"fill:none;fill-rule:evenodd;stroke:#000000;stroke-width:2.0px;stroke-linecap:butt;stroke-linejoin:miter;stroke-opacity:1\"/>\n",
       "<path class=\"bond-37 atom-36 atom-37\" d=\"M 128.3,106.9 L 140.2,98.6\" style=\"fill:none;fill-rule:evenodd;stroke:#000000;stroke-width:2.0px;stroke-linecap:butt;stroke-linejoin:miter;stroke-opacity:1\"/>\n",
       "<path class=\"bond-38 atom-34 atom-37\" d=\"M 153.3,104.8 L 140.2,98.6\" style=\"fill:none;fill-rule:evenodd;stroke:#000000;stroke-width:2.0px;stroke-linecap:butt;stroke-linejoin:miter;stroke-opacity:1\"/>\n",
       "<path class=\"bond-39 atom-38 atom-39\" d=\"M 115.2,100.6 L 103.3,108.9\" style=\"fill:none;fill-rule:evenodd;stroke:#000000;stroke-width:2.0px;stroke-linecap:butt;stroke-linejoin:miter;stroke-opacity:1\"/>\n",
       "<path class=\"bond-40 atom-39 atom-40\" d=\"M 103.3,108.9 L 90.2,102.7\" style=\"fill:none;fill-rule:evenodd;stroke:#000000;stroke-width:2.0px;stroke-linecap:butt;stroke-linejoin:miter;stroke-opacity:1\"/>\n",
       "<path class=\"bond-41 atom-40 atom-41\" d=\"M 90.2,102.7 L 78.2,110.9\" style=\"fill:none;fill-rule:evenodd;stroke:#000000;stroke-width:2.0px;stroke-linecap:butt;stroke-linejoin:miter;stroke-opacity:1\"/>\n",
       "<path class=\"bond-42 atom-40 atom-42\" d=\"M 90.2,102.7 L 89.0,88.2\" style=\"fill:none;fill-rule:evenodd;stroke:#000000;stroke-width:2.0px;stroke-linecap:butt;stroke-linejoin:miter;stroke-opacity:1\"/>\n",
       "<path class=\"bond-43 atom-42 atom-43\" d=\"M 89.0,88.2 L 75.9,82.0\" style=\"fill:none;fill-rule:evenodd;stroke:#000000;stroke-width:2.0px;stroke-linecap:butt;stroke-linejoin:miter;stroke-opacity:1\"/>\n",
       "<path class=\"bond-44 atom-36 atom-38\" d=\"M 128.3,106.9 L 115.2,100.6\" style=\"fill:none;fill-rule:evenodd;stroke:#000000;stroke-width:2.0px;stroke-linecap:butt;stroke-linejoin:miter;stroke-opacity:1\"/>\n",
       "<path class=\"bond-45 atom-44 atom-45\" d=\"M 99.7,65.6 L 100.9,80.0\" style=\"fill:none;fill-rule:evenodd;stroke:#000000;stroke-width:2.0px;stroke-linecap:butt;stroke-linejoin:miter;stroke-opacity:1\"/>\n",
       "<path class=\"bond-46 atom-42 atom-45\" d=\"M 89.0,88.2 L 100.9,80.0\" style=\"fill:none;fill-rule:evenodd;stroke:#000000;stroke-width:2.0px;stroke-linecap:butt;stroke-linejoin:miter;stroke-opacity:1\"/>\n",
       "<path class=\"bond-47 atom-46 atom-47\" d=\"M 149.8,61.5 L 136.7,55.3\" style=\"fill:none;fill-rule:evenodd;stroke:#000000;stroke-width:2.0px;stroke-linecap:butt;stroke-linejoin:miter;stroke-opacity:1\"/>\n",
       "<path class=\"bond-48 atom-47 atom-48\" d=\"M 136.7,55.3 L 124.8,63.5\" style=\"fill:none;fill-rule:evenodd;stroke:#000000;stroke-width:2.0px;stroke-linecap:butt;stroke-linejoin:miter;stroke-opacity:1\"/>\n",
       "<path class=\"bond-49 atom-48 atom-49\" d=\"M 124.8,63.5 L 125.9,78.0\" style=\"fill:none;fill-rule:evenodd;stroke:#000000;stroke-width:2.0px;stroke-linecap:butt;stroke-linejoin:miter;stroke-opacity:1\"/>\n",
       "<path class=\"bond-50 atom-48 atom-50\" d=\"M 124.8,63.5 L 111.7,57.3\" style=\"fill:none;fill-rule:evenodd;stroke:#000000;stroke-width:2.0px;stroke-linecap:butt;stroke-linejoin:miter;stroke-opacity:1\"/>\n",
       "<path class=\"bond-51 atom-50 atom-51\" d=\"M 111.7,57.3 L 110.5,42.9\" style=\"fill:none;fill-rule:evenodd;stroke:#000000;stroke-width:2.0px;stroke-linecap:butt;stroke-linejoin:miter;stroke-opacity:1\"/>\n",
       "<path class=\"bond-52 atom-44 atom-50\" d=\"M 99.7,65.6 L 111.7,57.3\" style=\"fill:none;fill-rule:evenodd;stroke:#000000;stroke-width:2.0px;stroke-linecap:butt;stroke-linejoin:miter;stroke-opacity:1\"/>\n",
       "<path class=\"bond-53 atom-52 atom-53\" d=\"M 161.7,53.3 L 174.8,59.5\" style=\"fill:none;fill-rule:evenodd;stroke:#000000;stroke-width:2.0px;stroke-linecap:butt;stroke-linejoin:miter;stroke-opacity:1\"/>\n",
       "<path class=\"bond-54 atom-53 atom-54\" d=\"M 174.8,59.5 L 186.7,51.2\" style=\"fill:none;fill-rule:evenodd;stroke:#000000;stroke-width:2.0px;stroke-linecap:butt;stroke-linejoin:miter;stroke-opacity:1\"/>\n",
       "<path class=\"bond-55 atom-54 atom-55\" d=\"M 186.7,51.2 L 199.8,57.5\" style=\"fill:none;fill-rule:evenodd;stroke:#000000;stroke-width:2.0px;stroke-linecap:butt;stroke-linejoin:miter;stroke-opacity:1\"/>\n",
       "<path class=\"bond-56 atom-54 atom-56\" d=\"M 186.7,51.2 L 185.5,36.8\" style=\"fill:none;fill-rule:evenodd;stroke:#000000;stroke-width:2.0px;stroke-linecap:butt;stroke-linejoin:miter;stroke-opacity:1\"/>\n",
       "<path class=\"bond-57 atom-56 atom-57\" d=\"M 185.5,36.8 L 197.5,28.6\" style=\"fill:none;fill-rule:evenodd;stroke:#000000;stroke-width:2.0px;stroke-linecap:butt;stroke-linejoin:miter;stroke-opacity:1\"/>\n",
       "<path class=\"bond-58 atom-46 atom-52\" d=\"M 149.8,61.5 L 161.7,53.3\" style=\"fill:none;fill-rule:evenodd;stroke:#000000;stroke-width:2.0px;stroke-linecap:butt;stroke-linejoin:miter;stroke-opacity:1\"/>\n",
       "<path class=\"bond-59 atom-58 atom-59\" d=\"M 65.2,104.7 L 53.2,112.9\" style=\"fill:none;fill-rule:evenodd;stroke:#000000;stroke-width:2.0px;stroke-linecap:butt;stroke-linejoin:miter;stroke-opacity:1\"/>\n",
       "<path class=\"bond-60 atom-59 atom-60\" d=\"M 53.2,112.9 L 40.1,106.7\" style=\"fill:none;fill-rule:evenodd;stroke:#000000;stroke-width:2.0px;stroke-linecap:butt;stroke-linejoin:miter;stroke-opacity:1\"/>\n",
       "<path class=\"bond-60 atom-59 atom-60\" d=\"M 50.0,114.6 L 40.9,110.3\" style=\"fill:none;fill-rule:evenodd;stroke:#000000;stroke-width:2.0px;stroke-linecap:butt;stroke-linejoin:miter;stroke-opacity:1\"/>\n",
       "<path class=\"bond-61 atom-60 atom-61\" d=\"M 40.1,106.7 L 28.2,115.0\" style=\"fill:none;fill-rule:evenodd;stroke:#000000;stroke-width:2.0px;stroke-linecap:butt;stroke-linejoin:miter;stroke-opacity:1\"/>\n",
       "<path class=\"bond-62 atom-61 atom-62\" d=\"M 28.2,115.0 L 29.4,129.4\" style=\"fill:none;fill-rule:evenodd;stroke:#000000;stroke-width:2.0px;stroke-linecap:butt;stroke-linejoin:miter;stroke-opacity:1\"/>\n",
       "<path class=\"bond-62 atom-61 atom-62\" d=\"M 31.3,116.9 L 32.1,127.0\" style=\"fill:none;fill-rule:evenodd;stroke:#000000;stroke-width:2.0px;stroke-linecap:butt;stroke-linejoin:miter;stroke-opacity:1\"/>\n",
       "<path class=\"bond-63 atom-62 atom-63\" d=\"M 29.4,129.4 L 42.5,135.6\" style=\"fill:none;fill-rule:evenodd;stroke:#000000;stroke-width:2.0px;stroke-linecap:butt;stroke-linejoin:miter;stroke-opacity:1\"/>\n",
       "<path class=\"bond-64 atom-63 atom-64\" d=\"M 42.5,135.6 L 54.4,127.4\" style=\"fill:none;fill-rule:evenodd;stroke:#000000;stroke-width:2.0px;stroke-linecap:butt;stroke-linejoin:miter;stroke-opacity:1\"/>\n",
       "<path class=\"bond-64 atom-63 atom-64\" d=\"M 42.6,132.0 L 51.0,126.2\" style=\"fill:none;fill-rule:evenodd;stroke:#000000;stroke-width:2.0px;stroke-linecap:butt;stroke-linejoin:miter;stroke-opacity:1\"/>\n",
       "<path class=\"bond-65 atom-64 atom-59\" d=\"M 54.4,127.4 L 53.2,112.9\" style=\"fill:none;fill-rule:evenodd;stroke:#000000;stroke-width:2.0px;stroke-linecap:butt;stroke-linejoin:miter;stroke-opacity:1\"/>\n",
       "<path class=\"bond-66 atom-41 atom-58\" d=\"M 78.2,110.9 L 65.2,104.7\" style=\"fill:none;fill-rule:evenodd;stroke:#000000;stroke-width:2.0px;stroke-linecap:butt;stroke-linejoin:miter;stroke-opacity:1\"/>\n",
       "<path class=\"bond-67 atom-65 atom-66\" d=\"M 64.0,90.3 L 50.9,84.0\" style=\"fill:none;fill-rule:evenodd;stroke:#000000;stroke-width:2.0px;stroke-linecap:butt;stroke-linejoin:miter;stroke-opacity:1\"/>\n",
       "<path class=\"bond-68 atom-58 atom-65\" d=\"M 65.2,104.7 L 64.0,90.3\" style=\"fill:none;fill-rule:evenodd;stroke:#000000;stroke-width:2.0px;stroke-linecap:butt;stroke-linejoin:miter;stroke-opacity:1\"/>\n",
       "<path class=\"bond-69 atom-67 atom-68\" d=\"M 36.6,63.4 L 49.7,69.6\" style=\"fill:none;fill-rule:evenodd;stroke:#000000;stroke-width:2.0px;stroke-linecap:butt;stroke-linejoin:miter;stroke-opacity:1\"/>\n",
       "<path class=\"bond-70 atom-66 atom-68\" d=\"M 50.9,84.0 L 49.7,69.6\" style=\"fill:none;fill-rule:evenodd;stroke:#000000;stroke-width:2.0px;stroke-linecap:butt;stroke-linejoin:miter;stroke-opacity:1\"/>\n",
       "<path class=\"bond-71 atom-69 atom-70\" d=\"M 150.9,75.9 L 139.0,84.2\" style=\"fill:none;fill-rule:evenodd;stroke:#000000;stroke-width:2.0px;stroke-linecap:butt;stroke-linejoin:miter;stroke-opacity:1\"/>\n",
       "<path class=\"bond-72 atom-49 atom-70\" d=\"M 125.9,78.0 L 139.0,84.2\" style=\"fill:none;fill-rule:evenodd;stroke:#000000;stroke-width:2.0px;stroke-linecap:butt;stroke-linejoin:miter;stroke-opacity:1\"/>\n",
       "<path class=\"bond-73 atom-71 atom-72\" d=\"M 35.5,49.0 L 30.1,46.4\" style=\"fill:none;fill-rule:evenodd;stroke:#000000;stroke-width:2.0px;stroke-linecap:butt;stroke-linejoin:miter;stroke-opacity:1\"/>\n",
       "<path class=\"bond-73 atom-71 atom-72\" d=\"M 30.1,46.4 L 24.8,43.9\" style=\"fill:none;fill-rule:evenodd;stroke:#FF0000;stroke-width:2.0px;stroke-linecap:butt;stroke-linejoin:miter;stroke-opacity:1\"/>\n",
       "<path class=\"bond-74 atom-72 atom-73\" d=\"M 22.2,40.1 L 21.7,34.2\" style=\"fill:none;fill-rule:evenodd;stroke:#FF0000;stroke-width:2.0px;stroke-linecap:butt;stroke-linejoin:miter;stroke-opacity:1\"/>\n",
       "<path class=\"bond-74 atom-72 atom-73\" d=\"M 21.7,34.2 L 21.2,28.3\" style=\"fill:none;fill-rule:evenodd;stroke:#000000;stroke-width:2.0px;stroke-linecap:butt;stroke-linejoin:miter;stroke-opacity:1\"/>\n",
       "<path class=\"bond-75 atom-67 atom-71\" d=\"M 36.6,63.4 L 35.5,49.0\" style=\"fill:none;fill-rule:evenodd;stroke:#000000;stroke-width:2.0px;stroke-linecap:butt;stroke-linejoin:miter;stroke-opacity:1\"/>\n",
       "<path class=\"bond-76 atom-74 atom-75\" d=\"M 172.4,30.6 L 172.0,24.7\" style=\"fill:none;fill-rule:evenodd;stroke:#000000;stroke-width:2.0px;stroke-linecap:butt;stroke-linejoin:miter;stroke-opacity:1\"/>\n",
       "<path class=\"bond-76 atom-74 atom-75\" d=\"M 172.0,24.7 L 171.5,18.9\" style=\"fill:none;fill-rule:evenodd;stroke:#FF0000;stroke-width:2.0px;stroke-linecap:butt;stroke-linejoin:miter;stroke-opacity:1\"/>\n",
       "<path class=\"bond-77 atom-75 atom-76\" d=\"M 168.8,15.0 L 163.5,12.5\" style=\"fill:none;fill-rule:evenodd;stroke:#FF0000;stroke-width:2.0px;stroke-linecap:butt;stroke-linejoin:miter;stroke-opacity:1\"/>\n",
       "<path class=\"bond-77 atom-75 atom-76\" d=\"M 163.5,12.5 L 158.2,10.0\" style=\"fill:none;fill-rule:evenodd;stroke:#000000;stroke-width:2.0px;stroke-linecap:butt;stroke-linejoin:miter;stroke-opacity:1\"/>\n",
       "<path class=\"bond-78 atom-56 atom-74\" d=\"M 185.5,36.8 L 172.4,30.6\" style=\"fill:none;fill-rule:evenodd;stroke:#000000;stroke-width:2.0px;stroke-linecap:butt;stroke-linejoin:miter;stroke-opacity:1\"/>\n",
       "<path class=\"bond-79 atom-77 atom-78\" d=\"M 211.7,49.2 L 217.0,51.8\" style=\"fill:none;fill-rule:evenodd;stroke:#000000;stroke-width:2.0px;stroke-linecap:butt;stroke-linejoin:miter;stroke-opacity:1\"/>\n",
       "<path class=\"bond-79 atom-77 atom-78\" d=\"M 217.0,51.8 L 222.4,54.3\" style=\"fill:none;fill-rule:evenodd;stroke:#FF0000;stroke-width:2.0px;stroke-linecap:butt;stroke-linejoin:miter;stroke-opacity:1\"/>\n",
       "<path class=\"bond-80 atom-78 atom-79\" d=\"M 227.2,53.8 L 232.0,50.5\" style=\"fill:none;fill-rule:evenodd;stroke:#FF0000;stroke-width:2.0px;stroke-linecap:butt;stroke-linejoin:miter;stroke-opacity:1\"/>\n",
       "<path class=\"bond-80 atom-78 atom-79\" d=\"M 232.0,50.5 L 236.7,47.2\" style=\"fill:none;fill-rule:evenodd;stroke:#000000;stroke-width:2.0px;stroke-linecap:butt;stroke-linejoin:miter;stroke-opacity:1\"/>\n",
       "<path class=\"bond-81 atom-55 atom-77\" d=\"M 199.8,57.5 L 211.7,49.2\" style=\"fill:none;fill-rule:evenodd;stroke:#000000;stroke-width:2.0px;stroke-linecap:butt;stroke-linejoin:miter;stroke-opacity:1\"/>\n",
       "<path class=\"bond-82 atom-80 atom-81\" d=\"M 164.0,82.2 L 168.9,78.8\" style=\"fill:none;fill-rule:evenodd;stroke:#000000;stroke-width:2.0px;stroke-linecap:butt;stroke-linejoin:miter;stroke-opacity:1\"/>\n",
       "<path class=\"bond-82 atom-80 atom-81\" d=\"M 168.9,78.8 L 173.9,75.4\" style=\"fill:none;fill-rule:evenodd;stroke:#0000FF;stroke-width:2.0px;stroke-linecap:butt;stroke-linejoin:miter;stroke-opacity:1\"/>\n",
       "<path class=\"bond-83 atom-69 atom-80\" d=\"M 150.9,75.9 L 164.0,82.2\" style=\"fill:none;fill-rule:evenodd;stroke:#000000;stroke-width:2.0px;stroke-linecap:butt;stroke-linejoin:miter;stroke-opacity:1\"/>\n",
       "<path class=\"atom-0\" d=\"M 354.2 34.9 L 354.8 34.9 L 354.8 36.8 L 357.0 36.8 L 357.0 34.9 L 357.5 34.9 L 357.5 39.2 L 357.0 39.2 L 357.0 37.2 L 354.8 37.2 L 354.8 39.2 L 354.2 39.2 L 354.2 34.9 \" fill=\"#0000FF\"/>\n",
       "<path class=\"atom-0\" d=\"M 358.1 39.0 Q 358.2 38.8, 358.4 38.6 Q 358.7 38.5, 359.0 38.5 Q 359.4 38.5, 359.7 38.7 Q 359.9 38.9, 359.9 39.4 Q 359.9 39.8, 359.6 40.2 Q 359.3 40.5, 358.6 41.0 L 359.9 41.0 L 359.9 41.3 L 358.0 41.3 L 358.0 41.1 Q 358.6 40.7, 358.9 40.4 Q 359.2 40.1, 359.3 39.9 Q 359.5 39.6, 359.5 39.4 Q 359.5 39.1, 359.4 39.0 Q 359.2 38.8, 359.0 38.8 Q 358.8 38.8, 358.6 38.9 Q 358.5 39.0, 358.4 39.2 L 358.1 39.0 \" fill=\"#0000FF\"/>\n",
       "<path class=\"atom-0\" d=\"M 360.8 34.9 L 362.2 37.2 Q 362.4 37.4, 362.6 37.8 Q 362.8 38.2, 362.8 38.2 L 362.8 34.9 L 363.4 34.9 L 363.4 39.2 L 362.8 39.2 L 361.3 36.7 Q 361.1 36.4, 361.0 36.1 Q 360.8 35.8, 360.7 35.7 L 360.7 39.2 L 360.2 39.2 L 360.2 34.9 L 360.8 34.9 \" fill=\"#0000FF\"/>\n",
       "<path class=\"atom-72\" d=\"M 20.4 42.8 Q 20.4 41.7, 20.9 41.2 Q 21.4 40.6, 22.4 40.6 Q 23.3 40.6, 23.8 41.2 Q 24.3 41.7, 24.3 42.8 Q 24.3 43.8, 23.8 44.4 Q 23.3 45.0, 22.4 45.0 Q 21.4 45.0, 20.9 44.4 Q 20.4 43.8, 20.4 42.8 M 22.4 44.5 Q 23.0 44.5, 23.4 44.1 Q 23.7 43.6, 23.7 42.8 Q 23.7 41.9, 23.4 41.5 Q 23.0 41.1, 22.4 41.1 Q 21.7 41.1, 21.4 41.5 Q 21.0 41.9, 21.0 42.8 Q 21.0 43.6, 21.4 44.1 Q 21.7 44.5, 22.4 44.5 \" fill=\"#FF0000\"/>\n",
       "<path class=\"atom-75\" d=\"M 169.3 16.2 Q 169.3 15.2, 169.8 14.6 Q 170.3 14.0, 171.3 14.0 Q 172.2 14.0, 172.7 14.6 Q 173.2 15.2, 173.2 16.2 Q 173.2 17.2, 172.7 17.8 Q 172.2 18.4, 171.3 18.4 Q 170.3 18.4, 169.8 17.8 Q 169.3 17.2, 169.3 16.2 M 171.3 17.9 Q 171.9 17.9, 172.3 17.5 Q 172.6 17.0, 172.6 16.2 Q 172.6 15.3, 172.3 14.9 Q 171.9 14.5, 171.3 14.5 Q 170.6 14.5, 170.3 14.9 Q 169.9 15.3, 169.9 16.2 Q 169.9 17.0, 170.3 17.5 Q 170.6 17.9, 171.3 17.9 \" fill=\"#FF0000\"/>\n",
       "<path class=\"atom-78\" d=\"M 222.9 55.4 Q 222.9 54.4, 223.4 53.9 Q 223.9 53.3, 224.8 53.3 Q 225.7 53.3, 226.3 53.9 Q 226.8 54.4, 226.8 55.4 Q 226.8 56.5, 226.2 57.1 Q 225.7 57.6, 224.8 57.6 Q 223.9 57.6, 223.4 57.1 Q 222.9 56.5, 222.9 55.4 M 224.8 57.2 Q 225.5 57.2, 225.8 56.7 Q 226.2 56.3, 226.2 55.4 Q 226.2 54.6, 225.8 54.2 Q 225.5 53.8, 224.8 53.8 Q 224.2 53.8, 223.8 54.2 Q 223.5 54.6, 223.5 55.4 Q 223.5 56.3, 223.8 56.7 Q 224.2 57.2, 224.8 57.2 \" fill=\"#FF0000\"/>\n",
       "<path class=\"atom-81\" d=\"M 175.0 71.8 L 176.4 74.0 Q 176.5 74.3, 176.8 74.7 Q 177.0 75.1, 177.0 75.1 L 177.0 71.8 L 177.6 71.8 L 177.6 76.0 L 177.0 76.0 L 175.5 73.6 Q 175.3 73.3, 175.1 73.0 Q 174.9 72.6, 174.9 72.5 L 174.9 76.0 L 174.3 76.0 L 174.3 71.8 L 175.0 71.8 \" fill=\"#0000FF\"/>\n",
       "<path class=\"atom-81\" d=\"M 178.1 71.8 L 178.6 71.8 L 178.6 73.6 L 180.8 73.6 L 180.8 71.8 L 181.4 71.8 L 181.4 76.0 L 180.8 76.0 L 180.8 74.1 L 178.6 74.1 L 178.6 76.0 L 178.1 76.0 L 178.1 71.8 \" fill=\"#0000FF\"/>\n",
       "<path class=\"atom-81\" d=\"M 181.9 75.9 Q 182.0 75.6, 182.3 75.5 Q 182.5 75.3, 182.8 75.3 Q 183.3 75.3, 183.5 75.6 Q 183.7 75.8, 183.7 76.2 Q 183.7 76.6, 183.4 77.0 Q 183.1 77.4, 182.5 77.9 L 183.8 77.9 L 183.8 78.2 L 181.9 78.2 L 181.9 77.9 Q 182.4 77.5, 182.7 77.3 Q 183.0 77.0, 183.2 76.7 Q 183.3 76.5, 183.3 76.2 Q 183.3 76.0, 183.2 75.8 Q 183.1 75.7, 182.8 75.7 Q 182.6 75.7, 182.5 75.7 Q 182.3 75.8, 182.2 76.0 L 181.9 75.9 \" fill=\"#0000FF\"/>\n",
       "</svg>"
      ],
      "text/plain": [
       "<IPython.core.display.SVG object>"
      ]
     },
     "execution_count": 47,
     "metadata": {},
     "output_type": "execute_result"
    }
   ],
   "source": [
    "big_smiles_gen(big, 7)"
   ]
  },
  {
   "cell_type": "markdown",
   "id": "475a8bce",
   "metadata": {},
   "source": [
    "# Motifs"
   ]
  },
  {
   "cell_type": "code",
   "execution_count": 48,
   "id": "82f4e909",
   "metadata": {},
   "outputs": [
    {
     "name": "stdout",
     "output_type": "stream",
     "text": [
      "34\n"
     ]
    },
    {
     "data": {
      "image/svg+xml": [
       "<svg xmlns=\"http://www.w3.org/2000/svg\" xmlns:rdkit=\"http://www.rdkit.org/xml\" xmlns:xlink=\"http://www.w3.org/1999/xlink\" version=\"1.1\" baseProfile=\"full\" xml:space=\"preserve\" width=\"450px\" height=\"150px\" viewBox=\"0 0 450 150\">\n",
       "<!-- END OF HEADER -->\n",
       "<rect style=\"opacity:1.0;fill:#FFFFFF;stroke:none\" width=\"450.0\" height=\"150.0\" x=\"0.0\" y=\"0.0\"> </rect>\n",
       "<path class=\"bond-0 atom-0 atom-1\" d=\"M 313.7,67.9 L 189.1,67.9\" style=\"fill:none;fill-rule:evenodd;stroke:#0000FF;stroke-width:2.0px;stroke-linecap:butt;stroke-linejoin:miter;stroke-opacity:1\"/>\n",
       "<path class=\"bond-0 atom-0 atom-1\" d=\"M 189.1,67.9 L 64.5,67.9\" style=\"fill:none;fill-rule:evenodd;stroke:#000000;stroke-width:2.0px;stroke-linecap:butt;stroke-linejoin:miter;stroke-opacity:1\"/>\n",
       "<path class=\"atom-0\" d=\"M 327.0 53.8 L 336.3 68.8 Q 337.2 70.2, 338.7 72.9 Q 340.2 75.6, 340.3 75.8 L 340.3 53.8 L 344.0 53.8 L 344.0 82.1 L 340.1 82.1 L 330.2 65.7 Q 329.0 63.8, 327.8 61.6 Q 326.6 59.4, 326.2 58.7 L 326.2 82.1 L 322.5 82.1 L 322.5 53.8 L 327.0 53.8 \" fill=\"#0000FF\"/>\n",
       "<path class=\"atom-0\" d=\"M 347.3 53.8 L 351.2 53.8 L 351.2 65.8 L 365.7 65.8 L 365.7 53.8 L 369.5 53.8 L 369.5 82.1 L 365.7 82.1 L 365.7 69.0 L 351.2 69.0 L 351.2 82.1 L 347.3 82.1 L 347.3 53.8 \" fill=\"#0000FF\"/>\n",
       "<path class=\"atom-0\" d=\"M 372.9 81.1 Q 373.6 79.3, 375.3 78.3 Q 376.9 77.3, 379.2 77.3 Q 382.0 77.3, 383.6 78.9 Q 385.2 80.4, 385.2 83.1 Q 385.2 85.9, 383.1 88.5 Q 381.1 91.1, 376.9 94.1 L 385.5 94.1 L 385.5 96.2 L 372.9 96.2 L 372.9 94.5 Q 376.4 92.0, 378.4 90.1 Q 380.5 88.3, 381.5 86.6 Q 382.5 85.0, 382.5 83.3 Q 382.5 81.5, 381.6 80.5 Q 380.7 79.4, 379.2 79.4 Q 377.7 79.4, 376.7 80.1 Q 375.7 80.7, 375.0 82.0 L 372.9 81.1 \" fill=\"#0000FF\"/>\n",
       "</svg>"
      ],
      "text/plain": [
       "<IPython.core.display.SVG object>"
      ]
     },
     "execution_count": 48,
     "metadata": {},
     "output_type": "execute_result"
    }
   ],
   "source": [
    "render_svg(moltosvg(Chem.MolFromSmiles(\"NC\")))"
   ]
  },
  {
   "cell_type": "code",
   "execution_count": 49,
   "id": "23f5aca0",
   "metadata": {},
   "outputs": [
    {
     "name": "stdout",
     "output_type": "stream",
     "text": [
      "35\n"
     ]
    },
    {
     "data": {
      "image/svg+xml": [
       "<svg xmlns=\"http://www.w3.org/2000/svg\" xmlns:rdkit=\"http://www.rdkit.org/xml\" xmlns:xlink=\"http://www.w3.org/1999/xlink\" version=\"1.1\" baseProfile=\"full\" xml:space=\"preserve\" width=\"450px\" height=\"150px\" viewBox=\"0 0 450 150\">\n",
       "<!-- END OF HEADER -->\n",
       "<rect style=\"opacity:1.0;fill:#FFFFFF;stroke:none\" width=\"450.0\" height=\"150.0\" x=\"0.0\" y=\"0.0\"> </rect>\n",
       "<path class=\"bond-0 atom-0 atom-1\" d=\"M 168.8,75.0 L 281.2,75.0\" style=\"fill:none;fill-rule:evenodd;stroke:#000000;stroke-width:2.0px;stroke-linecap:butt;stroke-linejoin:miter;stroke-opacity:1\"/>\n",
       "</svg>"
      ],
      "text/plain": [
       "<IPython.core.display.SVG object>"
      ]
     },
     "execution_count": 49,
     "metadata": {},
     "output_type": "execute_result"
    }
   ],
   "source": [
    "render_svg(moltosvg(Chem.MolFromSmiles(\"CC\")))"
   ]
  },
  {
   "cell_type": "code",
   "execution_count": 50,
   "id": "e285912c",
   "metadata": {},
   "outputs": [
    {
     "name": "stdout",
     "output_type": "stream",
     "text": [
      "36\n"
     ]
    },
    {
     "data": {
      "image/svg+xml": [
       "<svg xmlns=\"http://www.w3.org/2000/svg\" xmlns:rdkit=\"http://www.rdkit.org/xml\" xmlns:xlink=\"http://www.w3.org/1999/xlink\" version=\"1.1\" baseProfile=\"full\" xml:space=\"preserve\" width=\"450px\" height=\"150px\" viewBox=\"0 0 450 150\">\n",
       "<!-- END OF HEADER -->\n",
       "<rect style=\"opacity:1.0;fill:#FFFFFF;stroke:none\" width=\"450.0\" height=\"150.0\" x=\"0.0\" y=\"0.0\"> </rect>\n",
       "<path class=\"bond-0 atom-0 atom-1\" d=\"M 343.1,6.8 L 303.7,75.0\" style=\"fill:none;fill-rule:evenodd;stroke:#000000;stroke-width:2.0px;stroke-linecap:butt;stroke-linejoin:miter;stroke-opacity:1\"/>\n",
       "<path class=\"bond-1 atom-1 atom-2\" d=\"M 303.7,75.0 L 225.0,75.0\" style=\"fill:none;fill-rule:evenodd;stroke:#000000;stroke-width:2.0px;stroke-linecap:butt;stroke-linejoin:miter;stroke-opacity:1\"/>\n",
       "<path class=\"bond-2 atom-2 atom-3\" d=\"M 225.0,75.0 L 185.6,143.2\" style=\"fill:none;fill-rule:evenodd;stroke:#000000;stroke-width:2.0px;stroke-linecap:butt;stroke-linejoin:miter;stroke-opacity:1\"/>\n",
       "<path class=\"bond-3 atom-2 atom-4\" d=\"M 225.0,75.0 L 185.6,6.8\" style=\"fill:none;fill-rule:evenodd;stroke:#000000;stroke-width:2.0px;stroke-linecap:butt;stroke-linejoin:miter;stroke-opacity:1\"/>\n",
       "<path class=\"bond-4 atom-4 atom-5\" d=\"M 185.6,6.8 L 106.9,6.8\" style=\"fill:none;fill-rule:evenodd;stroke:#000000;stroke-width:2.0px;stroke-linecap:butt;stroke-linejoin:miter;stroke-opacity:1\"/>\n",
       "</svg>"
      ],
      "text/plain": [
       "<IPython.core.display.SVG object>"
      ]
     },
     "execution_count": 50,
     "metadata": {},
     "output_type": "execute_result"
    }
   ],
   "source": [
    "render_svg(moltosvg(Chem.MolFromSmiles(\"CCC(C)CC\")))"
   ]
  },
  {
   "cell_type": "code",
   "execution_count": 51,
   "id": "ea17838b",
   "metadata": {},
   "outputs": [
    {
     "name": "stdout",
     "output_type": "stream",
     "text": [
      "37\n"
     ]
    },
    {
     "data": {
      "image/svg+xml": [
       "<svg xmlns=\"http://www.w3.org/2000/svg\" xmlns:rdkit=\"http://www.rdkit.org/xml\" xmlns:xlink=\"http://www.w3.org/1999/xlink\" version=\"1.1\" baseProfile=\"full\" xml:space=\"preserve\" width=\"450px\" height=\"150px\" viewBox=\"0 0 450 150\">\n",
       "<!-- END OF HEADER -->\n",
       "<rect style=\"opacity:1.0;fill:#FFFFFF;stroke:none\" width=\"450.0\" height=\"150.0\" x=\"0.0\" y=\"0.0\"> </rect>\n",
       "<path class=\"bond-0 atom-0 atom-1\" d=\"M 37.5,38.8 L 206.0,38.8\" style=\"fill:none;fill-rule:evenodd;stroke:#000000;stroke-width:2.0px;stroke-linecap:butt;stroke-linejoin:miter;stroke-opacity:1\"/>\n",
       "<path class=\"bond-0 atom-0 atom-1\" d=\"M 206.0,38.8 L 374.6,38.8\" style=\"fill:none;fill-rule:evenodd;stroke:#FF0000;stroke-width:2.0px;stroke-linecap:butt;stroke-linejoin:miter;stroke-opacity:1\"/>\n",
       "<path class=\"bond-0 atom-0 atom-1\" d=\"M 37.5,111.2 L 206.0,111.2\" style=\"fill:none;fill-rule:evenodd;stroke:#000000;stroke-width:2.0px;stroke-linecap:butt;stroke-linejoin:miter;stroke-opacity:1\"/>\n",
       "<path class=\"bond-0 atom-0 atom-1\" d=\"M 206.0,111.2 L 374.6,111.2\" style=\"fill:none;fill-rule:evenodd;stroke:#FF0000;stroke-width:2.0px;stroke-linecap:butt;stroke-linejoin:miter;stroke-opacity:1\"/>\n",
       "<path class=\"atom-1\" d=\"M 386.5 75.1 Q 386.5 68.3, 389.9 64.5 Q 393.2 60.7, 399.5 60.7 Q 405.8 60.7, 409.2 64.5 Q 412.5 68.3, 412.5 75.1 Q 412.5 82.0, 409.1 85.9 Q 405.7 89.8, 399.5 89.8 Q 393.3 89.8, 389.9 85.9 Q 386.5 82.0, 386.5 75.1 M 399.5 86.6 Q 403.8 86.6, 406.2 83.7 Q 408.5 80.8, 408.5 75.1 Q 408.5 69.5, 406.2 66.7 Q 403.8 63.9, 399.5 63.9 Q 395.2 63.9, 392.8 66.7 Q 390.5 69.5, 390.5 75.1 Q 390.5 80.8, 392.8 83.7 Q 395.2 86.6, 399.5 86.6 \" fill=\"#FF0000\"/>\n",
       "</svg>"
      ],
      "text/plain": [
       "<IPython.core.display.SVG object>"
      ]
     },
     "execution_count": 51,
     "metadata": {},
     "output_type": "execute_result"
    }
   ],
   "source": [
    "render_svg(moltosvg(Chem.MolFromSmiles(\"C=O\")))"
   ]
  },
  {
   "cell_type": "code",
   "execution_count": 52,
   "id": "6c1aca33",
   "metadata": {},
   "outputs": [
    {
     "name": "stdout",
     "output_type": "stream",
     "text": [
      "38\n"
     ]
    },
    {
     "data": {
      "image/svg+xml": [
       "<svg xmlns=\"http://www.w3.org/2000/svg\" xmlns:rdkit=\"http://www.rdkit.org/xml\" xmlns:xlink=\"http://www.w3.org/1999/xlink\" version=\"1.1\" baseProfile=\"full\" xml:space=\"preserve\" width=\"450px\" height=\"150px\" viewBox=\"0 0 450 150\">\n",
       "<!-- END OF HEADER -->\n",
       "<rect style=\"opacity:1.0;fill:#FFFFFF;stroke:none\" width=\"450.0\" height=\"150.0\" x=\"0.0\" y=\"0.0\"> </rect>\n",
       "<path class=\"bond-0 atom-0 atom-1\" d=\"M 104.2,49.1 L 152.6,101.6\" style=\"fill:none;fill-rule:evenodd;stroke:#000000;stroke-width:2.0px;stroke-linecap:butt;stroke-linejoin:miter;stroke-opacity:1\"/>\n",
       "<path class=\"bond-0 atom-0 atom-1\" d=\"M 93.7,58.8 L 142.1,111.3\" style=\"fill:none;fill-rule:evenodd;stroke:#000000;stroke-width:2.0px;stroke-linecap:butt;stroke-linejoin:miter;stroke-opacity:1\"/>\n",
       "<path class=\"bond-1 atom-1 atom-2\" d=\"M 147.4,106.4 L 217.0,90.7\" style=\"fill:none;fill-rule:evenodd;stroke:#000000;stroke-width:2.0px;stroke-linecap:butt;stroke-linejoin:miter;stroke-opacity:1\"/>\n",
       "<path class=\"bond-2 atom-2 atom-3\" d=\"M 217.0,90.7 L 238.2,22.5\" style=\"fill:none;fill-rule:evenodd;stroke:#000000;stroke-width:2.0px;stroke-linecap:butt;stroke-linejoin:miter;stroke-opacity:1\"/>\n",
       "<path class=\"bond-2 atom-2 atom-3\" d=\"M 233.8,84.7 L 248.7,37.0\" style=\"fill:none;fill-rule:evenodd;stroke:#000000;stroke-width:2.0px;stroke-linecap:butt;stroke-linejoin:miter;stroke-opacity:1\"/>\n",
       "<path class=\"bond-3 atom-3 atom-4\" d=\"M 238.2,22.5 L 307.9,6.8\" style=\"fill:none;fill-rule:evenodd;stroke:#000000;stroke-width:2.0px;stroke-linecap:butt;stroke-linejoin:miter;stroke-opacity:1\"/>\n",
       "<path class=\"bond-4 atom-4 atom-5\" d=\"M 307.9,6.8 L 356.3,59.3\" style=\"fill:none;fill-rule:evenodd;stroke:#000000;stroke-width:2.0px;stroke-linecap:butt;stroke-linejoin:miter;stroke-opacity:1\"/>\n",
       "<path class=\"bond-4 atom-4 atom-5\" d=\"M 304.7,24.4 L 338.6,61.1\" style=\"fill:none;fill-rule:evenodd;stroke:#000000;stroke-width:2.0px;stroke-linecap:butt;stroke-linejoin:miter;stroke-opacity:1\"/>\n",
       "<path class=\"bond-5 atom-5 atom-6\" d=\"M 356.3,59.3 L 335.1,127.5\" style=\"fill:none;fill-rule:evenodd;stroke:#000000;stroke-width:2.0px;stroke-linecap:butt;stroke-linejoin:miter;stroke-opacity:1\"/>\n",
       "<path class=\"bond-6 atom-6 atom-7\" d=\"M 335.1,127.5 L 265.4,143.2\" style=\"fill:none;fill-rule:evenodd;stroke:#000000;stroke-width:2.0px;stroke-linecap:butt;stroke-linejoin:miter;stroke-opacity:1\"/>\n",
       "<path class=\"bond-6 atom-6 atom-7\" d=\"M 321.5,115.9 L 272.8,126.9\" style=\"fill:none;fill-rule:evenodd;stroke:#000000;stroke-width:2.0px;stroke-linecap:butt;stroke-linejoin:miter;stroke-opacity:1\"/>\n",
       "<path class=\"bond-7 atom-7 atom-2\" d=\"M 265.4,143.2 L 217.0,90.7\" style=\"fill:none;fill-rule:evenodd;stroke:#000000;stroke-width:2.0px;stroke-linecap:butt;stroke-linejoin:miter;stroke-opacity:1\"/>\n",
       "</svg>"
      ],
      "text/plain": [
       "<IPython.core.display.SVG object>"
      ]
     },
     "execution_count": 52,
     "metadata": {},
     "output_type": "execute_result"
    }
   ],
   "source": [
    "render_svg(moltosvg(Chem.MolFromSmiles(\"C=Cc1ccccc1\")))"
   ]
  },
  {
   "cell_type": "code",
   "execution_count": null,
   "id": "a4a31328",
   "metadata": {},
   "outputs": [],
   "source": []
  }
 ],
 "metadata": {
  "kernelspec": {
   "display_name": "Elwood",
   "language": "python",
   "name": "elwood"
  },
  "language_info": {
   "codemirror_mode": {
    "name": "ipython",
    "version": 3
   },
   "file_extension": ".py",
   "mimetype": "text/x-python",
   "name": "python",
   "nbconvert_exporter": "python",
   "pygments_lexer": "ipython3",
   "version": "3.9.12"
  }
 },
 "nbformat": 4,
 "nbformat_minor": 5
}
