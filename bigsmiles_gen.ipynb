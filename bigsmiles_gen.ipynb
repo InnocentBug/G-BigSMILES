{
 "cells": [
  {
   "cell_type": "code",
   "execution_count": 1,
   "id": "8fdabf24",
   "metadata": {},
   "outputs": [],
   "source": [
    "import numpy as np\n",
    "from rdkit import Chem\n",
    "from rdkit.Chem.Draw import IPythonConsole\n",
    "from IPython.display import SVG\n",
    "\n",
    "from rdkit.Chem import rdDepictor\n",
    "from rdkit.Chem.Draw import rdMolDraw2D\n",
    "\n",
    "counter = 0\n",
    "\n",
    "\n",
    "def moltosvg(mol, molSize=(450, 150), kekulize=True):\n",
    "    mc = Chem.Mol(mol.ToBinary())\n",
    "    if kekulize:\n",
    "        try:\n",
    "            Chem.Kekulize(mc)\n",
    "        except:\n",
    "            mc = Chem.Mol(mol.ToBinary())\n",
    "    if not mc.GetNumConformers():\n",
    "        rdDepictor.Compute2DCoords(mc)\n",
    "    drawer = rdMolDraw2D.MolDraw2DSVG(molSize[0], molSize[1])\n",
    "    drawer.DrawMolecule(mc)\n",
    "    drawer.FinishDrawing()\n",
    "    svg = drawer.GetDrawingText()\n",
    "    global counter\n",
    "    with open(f\"mol{counter}.svg\", \"w\") as filehandle:\n",
    "        filehandle.write(svg)\n",
    "    print(counter)\n",
    "    counter += 1\n",
    "    return svg\n",
    "\n",
    "\n",
    "def render_svg(svg):\n",
    "    # It seems that the svg renderer used doesn't quite hit the spec.\n",
    "    # Here are some fixes to make it work in the notebook, although I think\n",
    "    # the underlying issue needs to be resolved at the generation step\n",
    "    return SVG(svg.replace(\"svg:\", \"\"))"
   ]
  },
  {
   "cell_type": "code",
   "execution_count": 2,
   "id": "1e0ffbfb",
   "metadata": {},
   "outputs": [],
   "source": [
    "# import pydot\n",
    "import networkx as nx\n",
    "import matplotlib.pyplot as plt\n",
    "\n",
    "graph_counter = 0\n",
    "\n",
    "\n",
    "def render_graph(mol_gen, residues):\n",
    "    # pydot_graph = nx.drawing.nx_pydot.to_pydot(mol_gen.graph)\n",
    "    # return render_svg(pydot_graph.create_svg().decode(\"utf-8\"))\n",
    "    fig, ax = plt.subplots()\n",
    "    colors = plt.rcParams[\"axes.prop_cycle\"].by_key()[\"color\"]\n",
    "    node_list = list(mol_gen.graph.nodes)\n",
    "    node_res = [mol_gen.graph.nodes[n][\"res\"] for n in node_list]\n",
    "    node_color = [colors[res] for res in node_res]\n",
    "    labels = {}\n",
    "    for n in mol_gen.graph.nodes:\n",
    "        labels[n] = mol_gen.graph.nodes[n][\"smiles\"]\n",
    "    layout = nx.kamada_kawai_layout(mol_gen.graph)\n",
    "    drawing = nx.draw(mol_gen.graph, pos=layout, node_color=node_color, ax=ax, labels=labels)\n",
    "    global graph_counter\n",
    "    fig.savefig(f\"g{graph_counter}.pdf\")\n",
    "    print(f\"g{graph_counter}\")\n",
    "    graph_counter += 1\n",
    "    return plt.show()"
   ]
  },
  {
   "cell_type": "markdown",
   "id": "c9c47332",
   "metadata": {},
   "source": [
    "#### Helper function to generate and visualize bigSMILES strings"
   ]
  },
  {
   "cell_type": "code",
   "execution_count": 3,
   "id": "d34df229",
   "metadata": {},
   "outputs": [],
   "source": [
    "from bigsmiles_gen import System, mol_prob, Molecule\n",
    "\n",
    "# Consistent random numbers also across calls\n",
    "rng = np.random.default_rng(42)\n",
    "\n",
    "\n",
    "def big_smiles_gen(string):\n",
    "    global rng\n",
    "    # Generate the abstract python object, parsing bigSMILES\n",
    "    ext = Molecule(big)\n",
    "    # Generate molecules according to extension\n",
    "    mol = ext.generate(rng=rng)\n",
    "    # Draw said molecule\n",
    "    print(mol.smiles)\n",
    "    print(mol_prob.get_ensemble_prob(mol.smiles, ext)[0])\n",
    "\n",
    "    return render_svg(moltosvg(mol.get_mol()))\n",
    "\n",
    "\n",
    "def big_smiles_graph(string):\n",
    "    global rng\n",
    "    # Generate the abstract python object, parsing bigSMILES\n",
    "    ext = Molecule(big)\n",
    "    # Generate molecules according to extension\n",
    "    mol = ext.generate(rng=rng)\n",
    "    mol.add_graph_res(ext.residues)\n",
    "    # Draw said molecule\n",
    "    print(mol.smiles)\n",
    "    print(mol_prob.get_ensemble_prob(mol.smiles, ext)[0])\n",
    "\n",
    "    return render_graph(mol, ext.residues)"
   ]
  },
  {
   "cell_type": "markdown",
   "id": "a0269eff",
   "metadata": {},
   "source": [
    "# Polyesters \n",
    "## Di-Carboxyl Acids with 2-5 middle C total Mw 500\n",
    "\n",
    "BigSMILES:"
   ]
  },
  {
   "cell_type": "code",
   "execution_count": 4,
   "id": "51c788ab",
   "metadata": {},
   "outputs": [
    {
     "data": {
      "text/plain": [
       "'OOC{[$][$]C(=O)C[$][$]}|uniform(120, 720)|COO'"
      ]
     },
     "execution_count": 4,
     "metadata": {},
     "output_type": "execute_result"
    }
   ],
   "source": [
    "big = \"OOC{[$][$]C(=O)C[$][$]}|uniform(120, 720)|COO\"\n",
    "big"
   ]
  },
  {
   "cell_type": "markdown",
   "id": "f5bbde03",
   "metadata": {},
   "source": [
    "### Explanation\n",
    "\n",
    "- `OOC` just normal SMILES for how the first initial group looks like\n",
    "- `{....}` stochastic object, here just one carbon that is repeated\n",
    "- `{[$]` and `[$]}` terminal descriptors, how does the stochastic object connect with the pre- and suffix\n",
    "- `[$]C[$]` one C to repeat, with a bond in front and one at the end\n",
    "- `|uniform(12, 72)|` extension detailing that the stochastic object is between 12 and 72 g/mol heavy\n",
    "- `COO` suffix of the molecule\n",
    "- `.|500|` extension detailing that the total system component of this as a min Mw of 500 g/mol\n"
   ]
  },
  {
   "cell_type": "code",
   "execution_count": 5,
   "id": "4e74171e",
   "metadata": {},
   "outputs": [
    {
     "name": "stdout",
     "output_type": "stream",
     "text": [
      "O=C(CCC(=O)CC(=O)C(=O)CC(=O)CC(=O)CC(=O)CC(=O)CCC(=O)C(=O)CCC(=O)CC(=O)C(=O)CCC(=O)C(=O)CCOO)COO\n",
      "4.071146647135413e-06\n",
      "0\n"
     ]
    },
    {
     "data": {
      "image/svg+xml": [
       "<svg xmlns=\"http://www.w3.org/2000/svg\" xmlns:rdkit=\"http://www.rdkit.org/xml\" xmlns:xlink=\"http://www.w3.org/1999/xlink\" version=\"1.1\" baseProfile=\"full\" xml:space=\"preserve\" width=\"450px\" height=\"150px\" viewBox=\"0 0 450 150\">\n",
       "<!-- END OF HEADER -->\n",
       "<rect style=\"opacity:1.0;fill:#FFFFFF;stroke:none\" width=\"450.0\" height=\"150.0\" x=\"0.0\" y=\"0.0\"> </rect>\n",
       "<path class=\"bond-0 atom-0 atom-1\" d=\"M 422.0,72.2 L 415.4,76.1\" style=\"fill:none;fill-rule:evenodd;stroke:#FF0000;stroke-width:2.0px;stroke-linecap:butt;stroke-linejoin:miter;stroke-opacity:1\"/>\n",
       "<path class=\"bond-1 atom-1 atom-2\" d=\"M 410.6,76.1 L 406.1,73.5\" style=\"fill:none;fill-rule:evenodd;stroke:#FF0000;stroke-width:2.0px;stroke-linecap:butt;stroke-linejoin:miter;stroke-opacity:1\"/>\n",
       "<path class=\"bond-1 atom-1 atom-2\" d=\"M 406.1,73.5 L 401.6,70.9\" style=\"fill:none;fill-rule:evenodd;stroke:#000000;stroke-width:2.0px;stroke-linecap:butt;stroke-linejoin:miter;stroke-opacity:1\"/>\n",
       "<path class=\"bond-2 atom-3 atom-4\" d=\"M 379.8,71.6 L 379.8,66.1\" style=\"fill:none;fill-rule:evenodd;stroke:#000000;stroke-width:2.0px;stroke-linecap:butt;stroke-linejoin:miter;stroke-opacity:1\"/>\n",
       "<path class=\"bond-2 atom-3 atom-4\" d=\"M 379.8,66.1 L 379.7,60.5\" style=\"fill:none;fill-rule:evenodd;stroke:#FF0000;stroke-width:2.0px;stroke-linecap:butt;stroke-linejoin:miter;stroke-opacity:1\"/>\n",
       "<path class=\"bond-2 atom-3 atom-4\" d=\"M 377.8,71.6 L 377.8,66.1\" style=\"fill:none;fill-rule:evenodd;stroke:#000000;stroke-width:2.0px;stroke-linecap:butt;stroke-linejoin:miter;stroke-opacity:1\"/>\n",
       "<path class=\"bond-2 atom-3 atom-4\" d=\"M 377.8,66.1 L 377.8,60.5\" style=\"fill:none;fill-rule:evenodd;stroke:#FF0000;stroke-width:2.0px;stroke-linecap:butt;stroke-linejoin:miter;stroke-opacity:1\"/>\n",
       "<path class=\"bond-3 atom-3 atom-5\" d=\"M 378.8,71.0 L 390.2,77.6\" style=\"fill:none;fill-rule:evenodd;stroke:#000000;stroke-width:2.0px;stroke-linecap:butt;stroke-linejoin:miter;stroke-opacity:1\"/>\n",
       "<path class=\"bond-4 atom-2 atom-5\" d=\"M 401.6,70.9 L 390.2,77.6\" style=\"fill:none;fill-rule:evenodd;stroke:#000000;stroke-width:2.0px;stroke-linecap:butt;stroke-linejoin:miter;stroke-opacity:1\"/>\n",
       "<path class=\"bond-5 atom-6 atom-7\" d=\"M 366.5,77.1 L 366.5,82.7\" style=\"fill:none;fill-rule:evenodd;stroke:#000000;stroke-width:2.0px;stroke-linecap:butt;stroke-linejoin:miter;stroke-opacity:1\"/>\n",
       "<path class=\"bond-5 atom-6 atom-7\" d=\"M 366.5,82.7 L 366.5,88.2\" style=\"fill:none;fill-rule:evenodd;stroke:#FF0000;stroke-width:2.0px;stroke-linecap:butt;stroke-linejoin:miter;stroke-opacity:1\"/>\n",
       "<path class=\"bond-5 atom-6 atom-7\" d=\"M 368.4,77.1 L 368.5,82.6\" style=\"fill:none;fill-rule:evenodd;stroke:#000000;stroke-width:2.0px;stroke-linecap:butt;stroke-linejoin:miter;stroke-opacity:1\"/>\n",
       "<path class=\"bond-5 atom-6 atom-7\" d=\"M 368.5,82.6 L 368.5,88.2\" style=\"fill:none;fill-rule:evenodd;stroke:#FF0000;stroke-width:2.0px;stroke-linecap:butt;stroke-linejoin:miter;stroke-opacity:1\"/>\n",
       "<path class=\"bond-6 atom-6 atom-8\" d=\"M 367.5,77.7 L 356.0,71.1\" style=\"fill:none;fill-rule:evenodd;stroke:#000000;stroke-width:2.0px;stroke-linecap:butt;stroke-linejoin:miter;stroke-opacity:1\"/>\n",
       "<path class=\"bond-7 atom-3 atom-6\" d=\"M 378.8,71.0 L 367.5,77.7\" style=\"fill:none;fill-rule:evenodd;stroke:#000000;stroke-width:2.0px;stroke-linecap:butt;stroke-linejoin:miter;stroke-opacity:1\"/>\n",
       "<path class=\"bond-8 atom-9 atom-10\" d=\"M 334.3,71.8 L 334.2,66.3\" style=\"fill:none;fill-rule:evenodd;stroke:#000000;stroke-width:2.0px;stroke-linecap:butt;stroke-linejoin:miter;stroke-opacity:1\"/>\n",
       "<path class=\"bond-8 atom-9 atom-10\" d=\"M 334.2,66.3 L 334.2,60.7\" style=\"fill:none;fill-rule:evenodd;stroke:#FF0000;stroke-width:2.0px;stroke-linecap:butt;stroke-linejoin:miter;stroke-opacity:1\"/>\n",
       "<path class=\"bond-8 atom-9 atom-10\" d=\"M 332.3,71.8 L 332.3,66.3\" style=\"fill:none;fill-rule:evenodd;stroke:#000000;stroke-width:2.0px;stroke-linecap:butt;stroke-linejoin:miter;stroke-opacity:1\"/>\n",
       "<path class=\"bond-8 atom-9 atom-10\" d=\"M 332.3,66.3 L 332.2,60.7\" style=\"fill:none;fill-rule:evenodd;stroke:#FF0000;stroke-width:2.0px;stroke-linecap:butt;stroke-linejoin:miter;stroke-opacity:1\"/>\n",
       "<path class=\"bond-9 atom-9 atom-11\" d=\"M 333.3,71.2 L 344.7,77.8\" style=\"fill:none;fill-rule:evenodd;stroke:#000000;stroke-width:2.0px;stroke-linecap:butt;stroke-linejoin:miter;stroke-opacity:1\"/>\n",
       "<path class=\"bond-10 atom-8 atom-11\" d=\"M 356.0,71.1 L 344.7,77.8\" style=\"fill:none;fill-rule:evenodd;stroke:#000000;stroke-width:2.0px;stroke-linecap:butt;stroke-linejoin:miter;stroke-opacity:1\"/>\n",
       "<path class=\"bond-11 atom-12 atom-13\" d=\"M 320.9,77.3 L 320.9,82.9\" style=\"fill:none;fill-rule:evenodd;stroke:#000000;stroke-width:2.0px;stroke-linecap:butt;stroke-linejoin:miter;stroke-opacity:1\"/>\n",
       "<path class=\"bond-11 atom-12 atom-13\" d=\"M 320.9,82.9 L 321.0,88.4\" style=\"fill:none;fill-rule:evenodd;stroke:#FF0000;stroke-width:2.0px;stroke-linecap:butt;stroke-linejoin:miter;stroke-opacity:1\"/>\n",
       "<path class=\"bond-11 atom-12 atom-13\" d=\"M 322.9,77.3 L 322.9,82.9\" style=\"fill:none;fill-rule:evenodd;stroke:#000000;stroke-width:2.0px;stroke-linecap:butt;stroke-linejoin:miter;stroke-opacity:1\"/>\n",
       "<path class=\"bond-11 atom-12 atom-13\" d=\"M 322.9,82.9 L 322.9,88.4\" style=\"fill:none;fill-rule:evenodd;stroke:#FF0000;stroke-width:2.0px;stroke-linecap:butt;stroke-linejoin:miter;stroke-opacity:1\"/>\n",
       "<path class=\"bond-12 atom-12 atom-14\" d=\"M 321.9,77.9 L 310.5,71.3\" style=\"fill:none;fill-rule:evenodd;stroke:#000000;stroke-width:2.0px;stroke-linecap:butt;stroke-linejoin:miter;stroke-opacity:1\"/>\n",
       "<path class=\"bond-13 atom-9 atom-12\" d=\"M 333.3,71.2 L 321.9,77.9\" style=\"fill:none;fill-rule:evenodd;stroke:#000000;stroke-width:2.0px;stroke-linecap:butt;stroke-linejoin:miter;stroke-opacity:1\"/>\n",
       "<path class=\"bond-14 atom-15 atom-16\" d=\"M 298.1,77.4 L 298.2,83.0\" style=\"fill:none;fill-rule:evenodd;stroke:#000000;stroke-width:2.0px;stroke-linecap:butt;stroke-linejoin:miter;stroke-opacity:1\"/>\n",
       "<path class=\"bond-14 atom-15 atom-16\" d=\"M 298.2,83.0 L 298.2,88.5\" style=\"fill:none;fill-rule:evenodd;stroke:#FF0000;stroke-width:2.0px;stroke-linecap:butt;stroke-linejoin:miter;stroke-opacity:1\"/>\n",
       "<path class=\"bond-14 atom-15 atom-16\" d=\"M 300.1,77.4 L 300.1,83.0\" style=\"fill:none;fill-rule:evenodd;stroke:#000000;stroke-width:2.0px;stroke-linecap:butt;stroke-linejoin:miter;stroke-opacity:1\"/>\n",
       "<path class=\"bond-14 atom-15 atom-16\" d=\"M 300.1,83.0 L 300.2,88.5\" style=\"fill:none;fill-rule:evenodd;stroke:#FF0000;stroke-width:2.0px;stroke-linecap:butt;stroke-linejoin:miter;stroke-opacity:1\"/>\n",
       "<path class=\"bond-15 atom-15 atom-17\" d=\"M 299.1,78.0 L 287.7,71.4\" style=\"fill:none;fill-rule:evenodd;stroke:#000000;stroke-width:2.0px;stroke-linecap:butt;stroke-linejoin:miter;stroke-opacity:1\"/>\n",
       "<path class=\"bond-16 atom-14 atom-15\" d=\"M 310.5,71.3 L 299.1,78.0\" style=\"fill:none;fill-rule:evenodd;stroke:#000000;stroke-width:2.0px;stroke-linecap:butt;stroke-linejoin:miter;stroke-opacity:1\"/>\n",
       "<path class=\"bond-17 atom-18 atom-19\" d=\"M 265.9,72.1 L 265.9,66.6\" style=\"fill:none;fill-rule:evenodd;stroke:#000000;stroke-width:2.0px;stroke-linecap:butt;stroke-linejoin:miter;stroke-opacity:1\"/>\n",
       "<path class=\"bond-17 atom-18 atom-19\" d=\"M 265.9,66.6 L 265.9,61.0\" style=\"fill:none;fill-rule:evenodd;stroke:#FF0000;stroke-width:2.0px;stroke-linecap:butt;stroke-linejoin:miter;stroke-opacity:1\"/>\n",
       "<path class=\"bond-17 atom-18 atom-19\" d=\"M 264.0,72.1 L 263.9,66.6\" style=\"fill:none;fill-rule:evenodd;stroke:#000000;stroke-width:2.0px;stroke-linecap:butt;stroke-linejoin:miter;stroke-opacity:1\"/>\n",
       "<path class=\"bond-17 atom-18 atom-19\" d=\"M 263.9,66.6 L 263.9,61.1\" style=\"fill:none;fill-rule:evenodd;stroke:#FF0000;stroke-width:2.0px;stroke-linecap:butt;stroke-linejoin:miter;stroke-opacity:1\"/>\n",
       "<path class=\"bond-18 atom-18 atom-20\" d=\"M 264.9,71.5 L 276.4,78.1\" style=\"fill:none;fill-rule:evenodd;stroke:#000000;stroke-width:2.0px;stroke-linecap:butt;stroke-linejoin:miter;stroke-opacity:1\"/>\n",
       "<path class=\"bond-19 atom-17 atom-20\" d=\"M 287.7,71.4 L 276.4,78.1\" style=\"fill:none;fill-rule:evenodd;stroke:#000000;stroke-width:2.0px;stroke-linecap:butt;stroke-linejoin:miter;stroke-opacity:1\"/>\n",
       "<path class=\"bond-20 atom-21 atom-22\" d=\"M 252.6,77.6 L 252.6,83.2\" style=\"fill:none;fill-rule:evenodd;stroke:#000000;stroke-width:2.0px;stroke-linecap:butt;stroke-linejoin:miter;stroke-opacity:1\"/>\n",
       "<path class=\"bond-20 atom-21 atom-22\" d=\"M 252.6,83.2 L 252.6,88.7\" style=\"fill:none;fill-rule:evenodd;stroke:#FF0000;stroke-width:2.0px;stroke-linecap:butt;stroke-linejoin:miter;stroke-opacity:1\"/>\n",
       "<path class=\"bond-20 atom-21 atom-22\" d=\"M 254.6,77.6 L 254.6,83.2\" style=\"fill:none;fill-rule:evenodd;stroke:#000000;stroke-width:2.0px;stroke-linecap:butt;stroke-linejoin:miter;stroke-opacity:1\"/>\n",
       "<path class=\"bond-20 atom-21 atom-22\" d=\"M 254.6,83.2 L 254.6,88.7\" style=\"fill:none;fill-rule:evenodd;stroke:#FF0000;stroke-width:2.0px;stroke-linecap:butt;stroke-linejoin:miter;stroke-opacity:1\"/>\n",
       "<path class=\"bond-21 atom-21 atom-23\" d=\"M 253.6,78.2 L 242.2,71.7\" style=\"fill:none;fill-rule:evenodd;stroke:#000000;stroke-width:2.0px;stroke-linecap:butt;stroke-linejoin:miter;stroke-opacity:1\"/>\n",
       "<path class=\"bond-22 atom-18 atom-21\" d=\"M 264.9,71.5 L 253.6,78.2\" style=\"fill:none;fill-rule:evenodd;stroke:#000000;stroke-width:2.0px;stroke-linecap:butt;stroke-linejoin:miter;stroke-opacity:1\"/>\n",
       "<path class=\"bond-23 atom-24 atom-25\" d=\"M 220.4,72.3 L 220.4,66.8\" style=\"fill:none;fill-rule:evenodd;stroke:#000000;stroke-width:2.0px;stroke-linecap:butt;stroke-linejoin:miter;stroke-opacity:1\"/>\n",
       "<path class=\"bond-23 atom-24 atom-25\" d=\"M 220.4,66.8 L 220.3,61.3\" style=\"fill:none;fill-rule:evenodd;stroke:#FF0000;stroke-width:2.0px;stroke-linecap:butt;stroke-linejoin:miter;stroke-opacity:1\"/>\n",
       "<path class=\"bond-23 atom-24 atom-25\" d=\"M 218.4,72.3 L 218.4,66.8\" style=\"fill:none;fill-rule:evenodd;stroke:#000000;stroke-width:2.0px;stroke-linecap:butt;stroke-linejoin:miter;stroke-opacity:1\"/>\n",
       "<path class=\"bond-23 atom-24 atom-25\" d=\"M 218.4,66.8 L 218.4,61.3\" style=\"fill:none;fill-rule:evenodd;stroke:#FF0000;stroke-width:2.0px;stroke-linecap:butt;stroke-linejoin:miter;stroke-opacity:1\"/>\n",
       "<path class=\"bond-24 atom-24 atom-26\" d=\"M 219.4,71.8 L 230.8,78.3\" style=\"fill:none;fill-rule:evenodd;stroke:#000000;stroke-width:2.0px;stroke-linecap:butt;stroke-linejoin:miter;stroke-opacity:1\"/>\n",
       "<path class=\"bond-25 atom-23 atom-26\" d=\"M 242.2,71.7 L 230.8,78.3\" style=\"fill:none;fill-rule:evenodd;stroke:#000000;stroke-width:2.0px;stroke-linecap:butt;stroke-linejoin:miter;stroke-opacity:1\"/>\n",
       "<path class=\"bond-26 atom-27 atom-28\" d=\"M 197.6,72.4 L 197.6,66.9\" style=\"fill:none;fill-rule:evenodd;stroke:#000000;stroke-width:2.0px;stroke-linecap:butt;stroke-linejoin:miter;stroke-opacity:1\"/>\n",
       "<path class=\"bond-26 atom-27 atom-28\" d=\"M 197.6,66.9 L 197.6,61.4\" style=\"fill:none;fill-rule:evenodd;stroke:#FF0000;stroke-width:2.0px;stroke-linecap:butt;stroke-linejoin:miter;stroke-opacity:1\"/>\n",
       "<path class=\"bond-26 atom-27 atom-28\" d=\"M 195.6,72.4 L 195.6,66.9\" style=\"fill:none;fill-rule:evenodd;stroke:#000000;stroke-width:2.0px;stroke-linecap:butt;stroke-linejoin:miter;stroke-opacity:1\"/>\n",
       "<path class=\"bond-26 atom-27 atom-28\" d=\"M 195.6,66.9 L 195.6,61.4\" style=\"fill:none;fill-rule:evenodd;stroke:#FF0000;stroke-width:2.0px;stroke-linecap:butt;stroke-linejoin:miter;stroke-opacity:1\"/>\n",
       "<path class=\"bond-27 atom-27 atom-29\" d=\"M 196.6,71.9 L 208.0,78.4\" style=\"fill:none;fill-rule:evenodd;stroke:#000000;stroke-width:2.0px;stroke-linecap:butt;stroke-linejoin:miter;stroke-opacity:1\"/>\n",
       "<path class=\"bond-28 atom-24 atom-29\" d=\"M 219.4,71.8 L 208.0,78.4\" style=\"fill:none;fill-rule:evenodd;stroke:#000000;stroke-width:2.0px;stroke-linecap:butt;stroke-linejoin:miter;stroke-opacity:1\"/>\n",
       "<path class=\"bond-29 atom-30 atom-31\" d=\"M 174.8,72.5 L 174.8,67.0\" style=\"fill:none;fill-rule:evenodd;stroke:#000000;stroke-width:2.0px;stroke-linecap:butt;stroke-linejoin:miter;stroke-opacity:1\"/>\n",
       "<path class=\"bond-29 atom-30 atom-31\" d=\"M 174.8,67.0 L 174.8,61.5\" style=\"fill:none;fill-rule:evenodd;stroke:#FF0000;stroke-width:2.0px;stroke-linecap:butt;stroke-linejoin:miter;stroke-opacity:1\"/>\n",
       "<path class=\"bond-29 atom-30 atom-31\" d=\"M 172.9,72.5 L 172.8,67.0\" style=\"fill:none;fill-rule:evenodd;stroke:#000000;stroke-width:2.0px;stroke-linecap:butt;stroke-linejoin:miter;stroke-opacity:1\"/>\n",
       "<path class=\"bond-29 atom-30 atom-31\" d=\"M 172.8,67.0 L 172.8,61.5\" style=\"fill:none;fill-rule:evenodd;stroke:#FF0000;stroke-width:2.0px;stroke-linecap:butt;stroke-linejoin:miter;stroke-opacity:1\"/>\n",
       "<path class=\"bond-30 atom-30 atom-32\" d=\"M 173.9,72.0 L 185.3,78.5\" style=\"fill:none;fill-rule:evenodd;stroke:#000000;stroke-width:2.0px;stroke-linecap:butt;stroke-linejoin:miter;stroke-opacity:1\"/>\n",
       "<path class=\"bond-31 atom-27 atom-32\" d=\"M 196.6,71.9 L 185.3,78.5\" style=\"fill:none;fill-rule:evenodd;stroke:#000000;stroke-width:2.0px;stroke-linecap:butt;stroke-linejoin:miter;stroke-opacity:1\"/>\n",
       "<path class=\"bond-32 atom-33 atom-34\" d=\"M 152.1,72.6 L 152.0,67.1\" style=\"fill:none;fill-rule:evenodd;stroke:#000000;stroke-width:2.0px;stroke-linecap:butt;stroke-linejoin:miter;stroke-opacity:1\"/>\n",
       "<path class=\"bond-32 atom-33 atom-34\" d=\"M 152.0,67.1 L 152.0,61.6\" style=\"fill:none;fill-rule:evenodd;stroke:#FF0000;stroke-width:2.0px;stroke-linecap:butt;stroke-linejoin:miter;stroke-opacity:1\"/>\n",
       "<path class=\"bond-32 atom-33 atom-34\" d=\"M 150.1,72.6 L 150.1,67.1\" style=\"fill:none;fill-rule:evenodd;stroke:#000000;stroke-width:2.0px;stroke-linecap:butt;stroke-linejoin:miter;stroke-opacity:1\"/>\n",
       "<path class=\"bond-32 atom-33 atom-34\" d=\"M 150.1,67.1 L 150.0,61.6\" style=\"fill:none;fill-rule:evenodd;stroke:#FF0000;stroke-width:2.0px;stroke-linecap:butt;stroke-linejoin:miter;stroke-opacity:1\"/>\n",
       "<path class=\"bond-33 atom-33 atom-35\" d=\"M 151.1,72.1 L 162.5,78.6\" style=\"fill:none;fill-rule:evenodd;stroke:#000000;stroke-width:2.0px;stroke-linecap:butt;stroke-linejoin:miter;stroke-opacity:1\"/>\n",
       "<path class=\"bond-34 atom-30 atom-35\" d=\"M 173.9,72.0 L 162.5,78.6\" style=\"fill:none;fill-rule:evenodd;stroke:#000000;stroke-width:2.0px;stroke-linecap:butt;stroke-linejoin:miter;stroke-opacity:1\"/>\n",
       "<path class=\"bond-35 atom-36 atom-37\" d=\"M 129.3,72.7 L 129.3,67.2\" style=\"fill:none;fill-rule:evenodd;stroke:#000000;stroke-width:2.0px;stroke-linecap:butt;stroke-linejoin:miter;stroke-opacity:1\"/>\n",
       "<path class=\"bond-35 atom-36 atom-37\" d=\"M 129.3,67.2 L 129.2,61.7\" style=\"fill:none;fill-rule:evenodd;stroke:#FF0000;stroke-width:2.0px;stroke-linecap:butt;stroke-linejoin:miter;stroke-opacity:1\"/>\n",
       "<path class=\"bond-35 atom-36 atom-37\" d=\"M 127.3,72.7 L 127.3,67.2\" style=\"fill:none;fill-rule:evenodd;stroke:#000000;stroke-width:2.0px;stroke-linecap:butt;stroke-linejoin:miter;stroke-opacity:1\"/>\n",
       "<path class=\"bond-35 atom-36 atom-37\" d=\"M 127.3,67.2 L 127.3,61.7\" style=\"fill:none;fill-rule:evenodd;stroke:#FF0000;stroke-width:2.0px;stroke-linecap:butt;stroke-linejoin:miter;stroke-opacity:1\"/>\n",
       "<path class=\"bond-36 atom-36 atom-38\" d=\"M 128.3,72.2 L 139.7,78.7\" style=\"fill:none;fill-rule:evenodd;stroke:#000000;stroke-width:2.0px;stroke-linecap:butt;stroke-linejoin:miter;stroke-opacity:1\"/>\n",
       "<path class=\"bond-37 atom-33 atom-38\" d=\"M 151.1,72.1 L 139.7,78.7\" style=\"fill:none;fill-rule:evenodd;stroke:#000000;stroke-width:2.0px;stroke-linecap:butt;stroke-linejoin:miter;stroke-opacity:1\"/>\n",
       "<path class=\"bond-38 atom-39 atom-40\" d=\"M 116.0,78.2 L 116.0,83.8\" style=\"fill:none;fill-rule:evenodd;stroke:#000000;stroke-width:2.0px;stroke-linecap:butt;stroke-linejoin:miter;stroke-opacity:1\"/>\n",
       "<path class=\"bond-38 atom-39 atom-40\" d=\"M 116.0,83.8 L 116.0,89.4\" style=\"fill:none;fill-rule:evenodd;stroke:#FF0000;stroke-width:2.0px;stroke-linecap:butt;stroke-linejoin:miter;stroke-opacity:1\"/>\n",
       "<path class=\"bond-38 atom-39 atom-40\" d=\"M 117.9,78.2 L 118.0,83.8\" style=\"fill:none;fill-rule:evenodd;stroke:#000000;stroke-width:2.0px;stroke-linecap:butt;stroke-linejoin:miter;stroke-opacity:1\"/>\n",
       "<path class=\"bond-38 atom-39 atom-40\" d=\"M 118.0,83.8 L 118.0,89.4\" style=\"fill:none;fill-rule:evenodd;stroke:#FF0000;stroke-width:2.0px;stroke-linecap:butt;stroke-linejoin:miter;stroke-opacity:1\"/>\n",
       "<path class=\"bond-39 atom-39 atom-41\" d=\"M 116.9,78.8 L 105.5,72.3\" style=\"fill:none;fill-rule:evenodd;stroke:#000000;stroke-width:2.0px;stroke-linecap:butt;stroke-linejoin:miter;stroke-opacity:1\"/>\n",
       "<path class=\"bond-40 atom-36 atom-39\" d=\"M 128.3,72.2 L 116.9,78.8\" style=\"fill:none;fill-rule:evenodd;stroke:#000000;stroke-width:2.0px;stroke-linecap:butt;stroke-linejoin:miter;stroke-opacity:1\"/>\n",
       "<path class=\"bond-41 atom-42 atom-43\" d=\"M 93.2,78.3 L 93.2,83.9\" style=\"fill:none;fill-rule:evenodd;stroke:#000000;stroke-width:2.0px;stroke-linecap:butt;stroke-linejoin:miter;stroke-opacity:1\"/>\n",
       "<path class=\"bond-41 atom-42 atom-43\" d=\"M 93.2,83.9 L 93.2,89.5\" style=\"fill:none;fill-rule:evenodd;stroke:#FF0000;stroke-width:2.0px;stroke-linecap:butt;stroke-linejoin:miter;stroke-opacity:1\"/>\n",
       "<path class=\"bond-41 atom-42 atom-43\" d=\"M 95.2,78.3 L 95.2,83.9\" style=\"fill:none;fill-rule:evenodd;stroke:#000000;stroke-width:2.0px;stroke-linecap:butt;stroke-linejoin:miter;stroke-opacity:1\"/>\n",
       "<path class=\"bond-41 atom-42 atom-43\" d=\"M 95.2,83.9 L 95.2,89.5\" style=\"fill:none;fill-rule:evenodd;stroke:#FF0000;stroke-width:2.0px;stroke-linecap:butt;stroke-linejoin:miter;stroke-opacity:1\"/>\n",
       "<path class=\"bond-42 atom-42 atom-44\" d=\"M 94.2,78.9 L 82.8,72.4\" style=\"fill:none;fill-rule:evenodd;stroke:#000000;stroke-width:2.0px;stroke-linecap:butt;stroke-linejoin:miter;stroke-opacity:1\"/>\n",
       "<path class=\"bond-43 atom-41 atom-42\" d=\"M 105.5,72.3 L 94.2,78.9\" style=\"fill:none;fill-rule:evenodd;stroke:#000000;stroke-width:2.0px;stroke-linecap:butt;stroke-linejoin:miter;stroke-opacity:1\"/>\n",
       "<path class=\"bond-44 atom-45 atom-46\" d=\"M 61.0,73.1 L 60.9,67.5\" style=\"fill:none;fill-rule:evenodd;stroke:#000000;stroke-width:2.0px;stroke-linecap:butt;stroke-linejoin:miter;stroke-opacity:1\"/>\n",
       "<path class=\"bond-44 atom-45 atom-46\" d=\"M 60.9,67.5 L 60.9,62.0\" style=\"fill:none;fill-rule:evenodd;stroke:#FF0000;stroke-width:2.0px;stroke-linecap:butt;stroke-linejoin:miter;stroke-opacity:1\"/>\n",
       "<path class=\"bond-44 atom-45 atom-46\" d=\"M 59.0,73.1 L 59.0,67.5\" style=\"fill:none;fill-rule:evenodd;stroke:#000000;stroke-width:2.0px;stroke-linecap:butt;stroke-linejoin:miter;stroke-opacity:1\"/>\n",
       "<path class=\"bond-44 atom-45 atom-46\" d=\"M 59.0,67.5 L 58.9,62.0\" style=\"fill:none;fill-rule:evenodd;stroke:#FF0000;stroke-width:2.0px;stroke-linecap:butt;stroke-linejoin:miter;stroke-opacity:1\"/>\n",
       "<path class=\"bond-45 atom-45 atom-47\" d=\"M 60.0,72.5 L 71.4,79.0\" style=\"fill:none;fill-rule:evenodd;stroke:#000000;stroke-width:2.0px;stroke-linecap:butt;stroke-linejoin:miter;stroke-opacity:1\"/>\n",
       "<path class=\"bond-46 atom-44 atom-47\" d=\"M 82.8,72.4 L 71.4,79.0\" style=\"fill:none;fill-rule:evenodd;stroke:#000000;stroke-width:2.0px;stroke-linecap:butt;stroke-linejoin:miter;stroke-opacity:1\"/>\n",
       "<path class=\"bond-47 atom-48 atom-49\" d=\"M 48.6,79.1 L 44.1,76.5\" style=\"fill:none;fill-rule:evenodd;stroke:#000000;stroke-width:2.0px;stroke-linecap:butt;stroke-linejoin:miter;stroke-opacity:1\"/>\n",
       "<path class=\"bond-47 atom-48 atom-49\" d=\"M 44.1,76.5 L 39.6,74.0\" style=\"fill:none;fill-rule:evenodd;stroke:#FF0000;stroke-width:2.0px;stroke-linecap:butt;stroke-linejoin:miter;stroke-opacity:1\"/>\n",
       "<path class=\"bond-48 atom-49 atom-50\" d=\"M 34.8,74.0 L 28.2,77.8\" style=\"fill:none;fill-rule:evenodd;stroke:#FF0000;stroke-width:2.0px;stroke-linecap:butt;stroke-linejoin:miter;stroke-opacity:1\"/>\n",
       "<path class=\"bond-49 atom-45 atom-48\" d=\"M 60.0,72.5 L 48.6,79.1\" style=\"fill:none;fill-rule:evenodd;stroke:#000000;stroke-width:2.0px;stroke-linecap:butt;stroke-linejoin:miter;stroke-opacity:1\"/>\n",
       "<path d=\"M 401.8,71.1 L 401.6,70.9 L 401.0,71.3\" style=\"fill:none;stroke:#000000;stroke-width:2.0px;stroke-linecap:butt;stroke-linejoin:miter;stroke-opacity:1;\"/>\n",
       "<path d=\"M 379.4,71.4 L 378.8,71.0 L 378.2,71.4\" style=\"fill:none;stroke:#000000;stroke-width:2.0px;stroke-linecap:butt;stroke-linejoin:miter;stroke-opacity:1;\"/>\n",
       "<path d=\"M 389.7,77.2 L 390.2,77.6 L 390.8,77.2\" style=\"fill:none;stroke:#000000;stroke-width:2.0px;stroke-linecap:butt;stroke-linejoin:miter;stroke-opacity:1;\"/>\n",
       "<path d=\"M 366.9,77.3 L 367.5,77.7 L 368.0,77.3\" style=\"fill:none;stroke:#000000;stroke-width:2.0px;stroke-linecap:butt;stroke-linejoin:miter;stroke-opacity:1;\"/>\n",
       "<path d=\"M 356.6,71.5 L 356.0,71.1 L 355.5,71.5\" style=\"fill:none;stroke:#000000;stroke-width:2.0px;stroke-linecap:butt;stroke-linejoin:miter;stroke-opacity:1;\"/>\n",
       "<path d=\"M 333.8,71.6 L 333.3,71.2 L 332.7,71.6\" style=\"fill:none;stroke:#000000;stroke-width:2.0px;stroke-linecap:butt;stroke-linejoin:miter;stroke-opacity:1;\"/>\n",
       "<path d=\"M 344.1,77.4 L 344.7,77.8 L 345.2,77.4\" style=\"fill:none;stroke:#000000;stroke-width:2.0px;stroke-linecap:butt;stroke-linejoin:miter;stroke-opacity:1;\"/>\n",
       "<path d=\"M 321.3,77.5 L 321.9,77.9 L 322.5,77.5\" style=\"fill:none;stroke:#000000;stroke-width:2.0px;stroke-linecap:butt;stroke-linejoin:miter;stroke-opacity:1;\"/>\n",
       "<path d=\"M 311.1,71.7 L 310.5,71.3 L 309.9,71.7\" style=\"fill:none;stroke:#000000;stroke-width:2.0px;stroke-linecap:butt;stroke-linejoin:miter;stroke-opacity:1;\"/>\n",
       "<path d=\"M 298.6,77.6 L 299.1,78.0 L 299.7,77.6\" style=\"fill:none;stroke:#000000;stroke-width:2.0px;stroke-linecap:butt;stroke-linejoin:miter;stroke-opacity:1;\"/>\n",
       "<path d=\"M 288.3,71.8 L 287.7,71.4 L 287.1,71.8\" style=\"fill:none;stroke:#000000;stroke-width:2.0px;stroke-linecap:butt;stroke-linejoin:miter;stroke-opacity:1;\"/>\n",
       "<path d=\"M 265.5,71.9 L 264.9,71.5 L 264.4,71.9\" style=\"fill:none;stroke:#000000;stroke-width:2.0px;stroke-linecap:butt;stroke-linejoin:miter;stroke-opacity:1;\"/>\n",
       "<path d=\"M 275.8,77.7 L 276.4,78.1 L 276.9,77.7\" style=\"fill:none;stroke:#000000;stroke-width:2.0px;stroke-linecap:butt;stroke-linejoin:miter;stroke-opacity:1;\"/>\n",
       "<path d=\"M 253.0,77.8 L 253.6,78.2 L 254.2,77.8\" style=\"fill:none;stroke:#000000;stroke-width:2.0px;stroke-linecap:butt;stroke-linejoin:miter;stroke-opacity:1;\"/>\n",
       "<path d=\"M 242.7,72.0 L 242.2,71.7 L 241.6,72.0\" style=\"fill:none;stroke:#000000;stroke-width:2.0px;stroke-linecap:butt;stroke-linejoin:miter;stroke-opacity:1;\"/>\n",
       "<path d=\"M 220.0,72.1 L 219.4,71.8 L 218.8,72.1\" style=\"fill:none;stroke:#000000;stroke-width:2.0px;stroke-linecap:butt;stroke-linejoin:miter;stroke-opacity:1;\"/>\n",
       "<path d=\"M 230.2,78.0 L 230.8,78.3 L 231.4,77.9\" style=\"fill:none;stroke:#000000;stroke-width:2.0px;stroke-linecap:butt;stroke-linejoin:miter;stroke-opacity:1;\"/>\n",
       "<path d=\"M 197.2,72.2 L 196.6,71.9 L 196.1,72.2\" style=\"fill:none;stroke:#000000;stroke-width:2.0px;stroke-linecap:butt;stroke-linejoin:miter;stroke-opacity:1;\"/>\n",
       "<path d=\"M 207.5,78.1 L 208.0,78.4 L 208.6,78.1\" style=\"fill:none;stroke:#000000;stroke-width:2.0px;stroke-linecap:butt;stroke-linejoin:miter;stroke-opacity:1;\"/>\n",
       "<path d=\"M 174.4,72.3 L 173.9,72.0 L 173.3,72.3\" style=\"fill:none;stroke:#000000;stroke-width:2.0px;stroke-linecap:butt;stroke-linejoin:miter;stroke-opacity:1;\"/>\n",
       "<path d=\"M 184.7,78.2 L 185.3,78.5 L 185.8,78.2\" style=\"fill:none;stroke:#000000;stroke-width:2.0px;stroke-linecap:butt;stroke-linejoin:miter;stroke-opacity:1;\"/>\n",
       "<path d=\"M 151.6,72.4 L 151.1,72.1 L 150.5,72.4\" style=\"fill:none;stroke:#000000;stroke-width:2.0px;stroke-linecap:butt;stroke-linejoin:miter;stroke-opacity:1;\"/>\n",
       "<path d=\"M 161.9,78.3 L 162.5,78.6 L 163.1,78.3\" style=\"fill:none;stroke:#000000;stroke-width:2.0px;stroke-linecap:butt;stroke-linejoin:miter;stroke-opacity:1;\"/>\n",
       "<path d=\"M 128.9,72.5 L 128.3,72.2 L 127.7,72.5\" style=\"fill:none;stroke:#000000;stroke-width:2.0px;stroke-linecap:butt;stroke-linejoin:miter;stroke-opacity:1;\"/>\n",
       "<path d=\"M 139.1,78.4 L 139.7,78.7 L 140.3,78.4\" style=\"fill:none;stroke:#000000;stroke-width:2.0px;stroke-linecap:butt;stroke-linejoin:miter;stroke-opacity:1;\"/>\n",
       "<path d=\"M 116.4,78.5 L 116.9,78.8 L 117.5,78.5\" style=\"fill:none;stroke:#000000;stroke-width:2.0px;stroke-linecap:butt;stroke-linejoin:miter;stroke-opacity:1;\"/>\n",
       "<path d=\"M 106.1,72.6 L 105.5,72.3 L 105.0,72.6\" style=\"fill:none;stroke:#000000;stroke-width:2.0px;stroke-linecap:butt;stroke-linejoin:miter;stroke-opacity:1;\"/>\n",
       "<path d=\"M 93.6,78.6 L 94.2,78.9 L 94.7,78.6\" style=\"fill:none;stroke:#000000;stroke-width:2.0px;stroke-linecap:butt;stroke-linejoin:miter;stroke-opacity:1;\"/>\n",
       "<path d=\"M 83.3,72.7 L 82.8,72.4 L 82.2,72.7\" style=\"fill:none;stroke:#000000;stroke-width:2.0px;stroke-linecap:butt;stroke-linejoin:miter;stroke-opacity:1;\"/>\n",
       "<path d=\"M 60.6,72.8 L 60.0,72.5 L 59.4,72.8\" style=\"fill:none;stroke:#000000;stroke-width:2.0px;stroke-linecap:butt;stroke-linejoin:miter;stroke-opacity:1;\"/>\n",
       "<path d=\"M 70.8,78.7 L 71.4,79.0 L 72.0,78.7\" style=\"fill:none;stroke:#000000;stroke-width:2.0px;stroke-linecap:butt;stroke-linejoin:miter;stroke-opacity:1;\"/>\n",
       "<path d=\"M 48.4,79.0 L 48.6,79.1 L 49.2,78.8\" style=\"fill:none;stroke:#000000;stroke-width:2.0px;stroke-linecap:butt;stroke-linejoin:miter;stroke-opacity:1;\"/>\n",
       "<path class=\"atom-0\" d=\"M 422.4 70.8 Q 422.4 69.8, 422.9 69.2 Q 423.4 68.7, 424.4 68.7 Q 425.3 68.7, 425.8 69.2 Q 426.3 69.8, 426.3 70.8 Q 426.3 71.9, 425.8 72.5 Q 425.3 73.0, 424.4 73.0 Q 423.4 73.0, 422.9 72.5 Q 422.4 71.9, 422.4 70.8 M 424.4 72.6 Q 425.0 72.6, 425.4 72.1 Q 425.7 71.7, 425.7 70.8 Q 425.7 70.0, 425.4 69.6 Q 425.0 69.2, 424.4 69.2 Q 423.7 69.2, 423.4 69.6 Q 423.0 70.0, 423.0 70.8 Q 423.0 71.7, 423.4 72.1 Q 423.7 72.6, 424.4 72.6 \" fill=\"#FF0000\"/>\n",
       "<path class=\"atom-0\" d=\"M 427.0 68.7 L 427.5 68.7 L 427.5 70.5 L 429.7 70.5 L 429.7 68.7 L 430.3 68.7 L 430.3 73.0 L 429.7 73.0 L 429.7 71.0 L 427.5 71.0 L 427.5 73.0 L 427.0 73.0 L 427.0 68.7 \" fill=\"#FF0000\"/>\n",
       "<path class=\"atom-1\" d=\"M 411.0 77.5 Q 411.0 76.4, 411.6 75.9 Q 412.1 75.3, 413.0 75.3 Q 413.9 75.3, 414.4 75.9 Q 414.9 76.4, 414.9 77.5 Q 414.9 78.5, 414.4 79.1 Q 413.9 79.7, 413.0 79.7 Q 412.1 79.7, 411.6 79.1 Q 411.0 78.5, 411.0 77.5 M 413.0 79.2 Q 413.6 79.2, 414.0 78.7 Q 414.3 78.3, 414.3 77.5 Q 414.3 76.6, 414.0 76.2 Q 413.6 75.8, 413.0 75.8 Q 412.4 75.8, 412.0 76.2 Q 411.6 76.6, 411.6 77.5 Q 411.6 78.3, 412.0 78.7 Q 412.4 79.2, 413.0 79.2 \" fill=\"#FF0000\"/>\n",
       "<path class=\"atom-4\" d=\"M 376.8 57.9 Q 376.8 56.9, 377.3 56.3 Q 377.8 55.7, 378.7 55.7 Q 379.7 55.7, 380.2 56.3 Q 380.7 56.9, 380.7 57.9 Q 380.7 58.9, 380.2 59.5 Q 379.7 60.1, 378.7 60.1 Q 377.8 60.1, 377.3 59.5 Q 376.8 58.9, 376.8 57.9 M 378.7 59.6 Q 379.4 59.6, 379.7 59.2 Q 380.1 58.7, 380.1 57.9 Q 380.1 57.1, 379.7 56.6 Q 379.4 56.2, 378.7 56.2 Q 378.1 56.2, 377.7 56.6 Q 377.4 57.1, 377.4 57.9 Q 377.4 58.8, 377.7 59.2 Q 378.1 59.6, 378.7 59.6 \" fill=\"#FF0000\"/>\n",
       "<path class=\"atom-7\" d=\"M 365.6 90.8 Q 365.6 89.8, 366.1 89.2 Q 366.6 88.7, 367.5 88.7 Q 368.5 88.7, 369.0 89.2 Q 369.5 89.8, 369.5 90.8 Q 369.5 91.8, 369.0 92.4 Q 368.4 93.0, 367.5 93.0 Q 366.6 93.0, 366.1 92.4 Q 365.6 91.9, 365.6 90.8 M 367.5 92.5 Q 368.2 92.5, 368.5 92.1 Q 368.9 91.7, 368.9 90.8 Q 368.9 90.0, 368.5 89.6 Q 368.2 89.1, 367.5 89.1 Q 366.9 89.1, 366.5 89.6 Q 366.2 90.0, 366.2 90.8 Q 366.2 91.7, 366.5 92.1 Q 366.9 92.5, 367.5 92.5 \" fill=\"#FF0000\"/>\n",
       "<path class=\"atom-10\" d=\"M 331.3 58.1 Q 331.3 57.1, 331.8 56.5 Q 332.3 55.9, 333.2 55.9 Q 334.1 55.9, 334.6 56.5 Q 335.2 57.1, 335.2 58.1 Q 335.2 59.1, 334.6 59.7 Q 334.1 60.3, 333.2 60.3 Q 332.3 60.3, 331.8 59.7 Q 331.3 59.1, 331.3 58.1 M 333.2 59.8 Q 333.9 59.8, 334.2 59.4 Q 334.6 59.0, 334.6 58.1 Q 334.6 57.3, 334.2 56.8 Q 333.9 56.4, 333.2 56.4 Q 332.6 56.4, 332.2 56.8 Q 331.9 57.3, 331.9 58.1 Q 331.9 59.0, 332.2 59.4 Q 332.6 59.8, 333.2 59.8 \" fill=\"#FF0000\"/>\n",
       "<path class=\"atom-13\" d=\"M 320.0 91.0 Q 320.0 90.0, 320.5 89.4 Q 321.0 88.9, 322.0 88.9 Q 322.9 88.9, 323.4 89.4 Q 323.9 90.0, 323.9 91.0 Q 323.9 92.1, 323.4 92.6 Q 322.9 93.2, 322.0 93.2 Q 321.0 93.2, 320.5 92.6 Q 320.0 92.1, 320.0 91.0 M 322.0 92.7 Q 322.6 92.7, 323.0 92.3 Q 323.3 91.9, 323.3 91.0 Q 323.3 90.2, 323.0 89.8 Q 322.6 89.3, 322.0 89.3 Q 321.3 89.3, 321.0 89.8 Q 320.6 90.2, 320.6 91.0 Q 320.6 91.9, 321.0 92.3 Q 321.3 92.7, 322.0 92.7 \" fill=\"#FF0000\"/>\n",
       "<path class=\"atom-16\" d=\"M 297.2 91.1 Q 297.2 90.1, 297.7 89.5 Q 298.3 89.0, 299.2 89.0 Q 300.1 89.0, 300.6 89.5 Q 301.1 90.1, 301.1 91.1 Q 301.1 92.2, 300.6 92.7 Q 300.1 93.3, 299.2 93.3 Q 298.3 93.3, 297.7 92.7 Q 297.2 92.2, 297.2 91.1 M 299.2 92.8 Q 299.8 92.8, 300.2 92.4 Q 300.5 92.0, 300.5 91.1 Q 300.5 90.3, 300.2 89.9 Q 299.8 89.4, 299.2 89.4 Q 298.5 89.4, 298.2 89.9 Q 297.8 90.3, 297.8 91.1 Q 297.8 92.0, 298.2 92.4 Q 298.5 92.8, 299.2 92.8 \" fill=\"#FF0000\"/>\n",
       "<path class=\"atom-19\" d=\"M 262.9 58.4 Q 262.9 57.4, 263.4 56.8 Q 263.9 56.3, 264.9 56.3 Q 265.8 56.3, 266.3 56.8 Q 266.8 57.4, 266.8 58.4 Q 266.8 59.4, 266.3 60.0 Q 265.8 60.6, 264.9 60.6 Q 263.9 60.6, 263.4 60.0 Q 262.9 59.5, 262.9 58.4 M 264.9 60.1 Q 265.5 60.1, 265.9 59.7 Q 266.2 59.3, 266.2 58.4 Q 266.2 57.6, 265.9 57.2 Q 265.5 56.7, 264.9 56.7 Q 264.2 56.7, 263.9 57.2 Q 263.5 57.6, 263.5 58.4 Q 263.5 59.3, 263.9 59.7 Q 264.2 60.1, 264.9 60.1 \" fill=\"#FF0000\"/>\n",
       "<path class=\"atom-22\" d=\"M 251.7 91.3 Q 251.7 90.3, 252.2 89.7 Q 252.7 89.2, 253.6 89.2 Q 254.6 89.2, 255.1 89.7 Q 255.6 90.3, 255.6 91.3 Q 255.6 92.4, 255.1 93.0 Q 254.6 93.5, 253.6 93.5 Q 252.7 93.5, 252.2 93.0 Q 251.7 92.4, 251.7 91.3 M 253.6 93.1 Q 254.3 93.1, 254.6 92.6 Q 255.0 92.2, 255.0 91.3 Q 255.0 90.5, 254.6 90.1 Q 254.3 89.7, 253.6 89.7 Q 253.0 89.7, 252.6 90.1 Q 252.3 90.5, 252.3 91.3 Q 252.3 92.2, 252.6 92.6 Q 253.0 93.1, 253.6 93.1 \" fill=\"#FF0000\"/>\n",
       "<path class=\"atom-25\" d=\"M 217.4 58.6 Q 217.4 57.6, 217.9 57.0 Q 218.4 56.5, 219.3 56.5 Q 220.3 56.5, 220.8 57.0 Q 221.3 57.6, 221.3 58.6 Q 221.3 59.7, 220.8 60.2 Q 220.3 60.8, 219.3 60.8 Q 218.4 60.8, 217.9 60.2 Q 217.4 59.7, 217.4 58.6 M 219.3 60.3 Q 220.0 60.3, 220.3 59.9 Q 220.7 59.5, 220.7 58.6 Q 220.7 57.8, 220.3 57.4 Q 220.0 56.9, 219.3 56.9 Q 218.7 56.9, 218.3 57.4 Q 218.0 57.8, 218.0 58.6 Q 218.0 59.5, 218.3 59.9 Q 218.7 60.3, 219.3 60.3 \" fill=\"#FF0000\"/>\n",
       "<path class=\"atom-28\" d=\"M 194.6 58.7 Q 194.6 57.7, 195.1 57.1 Q 195.6 56.6, 196.6 56.6 Q 197.5 56.6, 198.0 57.1 Q 198.5 57.7, 198.5 58.7 Q 198.5 59.8, 198.0 60.3 Q 197.5 60.9, 196.6 60.9 Q 195.6 60.9, 195.1 60.3 Q 194.6 59.8, 194.6 58.7 M 196.6 60.4 Q 197.2 60.4, 197.6 60.0 Q 197.9 59.6, 197.9 58.7 Q 197.9 57.9, 197.6 57.5 Q 197.2 57.0, 196.6 57.0 Q 195.9 57.0, 195.6 57.5 Q 195.2 57.9, 195.2 58.7 Q 195.2 59.6, 195.6 60.0 Q 195.9 60.4, 196.6 60.4 \" fill=\"#FF0000\"/>\n",
       "<path class=\"atom-31\" d=\"M 171.8 58.8 Q 171.8 57.8, 172.3 57.2 Q 172.8 56.7, 173.8 56.7 Q 174.7 56.7, 175.2 57.2 Q 175.7 57.8, 175.7 58.8 Q 175.7 59.9, 175.2 60.5 Q 174.7 61.0, 173.8 61.0 Q 172.9 61.0, 172.3 60.5 Q 171.8 59.9, 171.8 58.8 M 173.8 60.6 Q 174.4 60.6, 174.8 60.1 Q 175.1 59.7, 175.1 58.8 Q 175.1 58.0, 174.8 57.6 Q 174.4 57.2, 173.8 57.2 Q 173.1 57.2, 172.8 57.6 Q 172.4 58.0, 172.4 58.8 Q 172.4 59.7, 172.8 60.1 Q 173.1 60.6, 173.8 60.6 \" fill=\"#FF0000\"/>\n",
       "<path class=\"atom-34\" d=\"M 149.1 58.9 Q 149.1 57.9, 149.6 57.3 Q 150.1 56.8, 151.0 56.8 Q 152.0 56.8, 152.5 57.3 Q 153.0 57.9, 153.0 58.9 Q 153.0 60.0, 152.5 60.6 Q 151.9 61.1, 151.0 61.1 Q 150.1 61.1, 149.6 60.6 Q 149.1 60.0, 149.1 58.9 M 151.0 60.7 Q 151.7 60.7, 152.0 60.2 Q 152.4 59.8, 152.4 58.9 Q 152.4 58.1, 152.0 57.7 Q 151.7 57.3, 151.0 57.3 Q 150.4 57.3, 150.0 57.7 Q 149.7 58.1, 149.7 58.9 Q 149.7 59.8, 150.0 60.2 Q 150.4 60.7, 151.0 60.7 \" fill=\"#FF0000\"/>\n",
       "<path class=\"atom-37\" d=\"M 126.3 59.0 Q 126.3 58.0, 126.8 57.4 Q 127.3 56.9, 128.2 56.9 Q 129.2 56.9, 129.7 57.4 Q 130.2 58.0, 130.2 59.0 Q 130.2 60.1, 129.7 60.7 Q 129.2 61.2, 128.2 61.2 Q 127.3 61.2, 126.8 60.7 Q 126.3 60.1, 126.3 59.0 M 128.2 60.8 Q 128.9 60.8, 129.2 60.3 Q 129.6 59.9, 129.6 59.0 Q 129.6 58.2, 129.2 57.8 Q 128.9 57.4, 128.2 57.4 Q 127.6 57.4, 127.2 57.8 Q 126.9 58.2, 126.9 59.0 Q 126.9 59.9, 127.2 60.3 Q 127.6 60.8, 128.2 60.8 \" fill=\"#FF0000\"/>\n",
       "<path class=\"atom-40\" d=\"M 115.1 92.0 Q 115.1 90.9, 115.6 90.4 Q 116.1 89.8, 117.0 89.8 Q 117.9 89.8, 118.5 90.4 Q 119.0 90.9, 119.0 92.0 Q 119.0 93.0, 118.4 93.6 Q 117.9 94.2, 117.0 94.2 Q 116.1 94.2, 115.6 93.6 Q 115.1 93.0, 115.1 92.0 M 117.0 93.7 Q 117.7 93.7, 118.0 93.3 Q 118.4 92.8, 118.4 92.0 Q 118.4 91.1, 118.0 90.7 Q 117.7 90.3, 117.0 90.3 Q 116.4 90.3, 116.0 90.7 Q 115.7 91.1, 115.7 92.0 Q 115.7 92.8, 116.0 93.3 Q 116.4 93.7, 117.0 93.7 \" fill=\"#FF0000\"/>\n",
       "<path class=\"atom-43\" d=\"M 92.3 92.1 Q 92.3 91.0, 92.8 90.5 Q 93.3 89.9, 94.2 89.9 Q 95.2 89.9, 95.7 90.5 Q 96.2 91.0, 96.2 92.1 Q 96.2 93.1, 95.7 93.7 Q 95.2 94.3, 94.2 94.3 Q 93.3 94.3, 92.8 93.7 Q 92.3 93.1, 92.3 92.1 M 94.2 93.8 Q 94.9 93.8, 95.2 93.4 Q 95.6 92.9, 95.6 92.1 Q 95.6 91.2, 95.2 90.8 Q 94.9 90.4, 94.2 90.4 Q 93.6 90.4, 93.2 90.8 Q 92.9 91.2, 92.9 92.1 Q 92.9 92.9, 93.2 93.4 Q 93.6 93.8, 94.2 93.8 \" fill=\"#FF0000\"/>\n",
       "<path class=\"atom-46\" d=\"M 58.0 59.4 Q 58.0 58.3, 58.5 57.8 Q 59.0 57.2, 59.9 57.2 Q 60.9 57.2, 61.4 57.8 Q 61.9 58.3, 61.9 59.4 Q 61.9 60.4, 61.4 61.0 Q 60.9 61.6, 59.9 61.6 Q 59.0 61.6, 58.5 61.0 Q 58.0 60.4, 58.0 59.4 M 59.9 61.1 Q 60.6 61.1, 60.9 60.6 Q 61.3 60.2, 61.3 59.4 Q 61.3 58.5, 60.9 58.1 Q 60.6 57.7, 59.9 57.7 Q 59.3 57.7, 58.9 58.1 Q 58.6 58.5, 58.6 59.4 Q 58.6 60.2, 58.9 60.6 Q 59.3 61.1, 59.9 61.1 \" fill=\"#FF0000\"/>\n",
       "<path class=\"atom-49\" d=\"M 35.3 72.6 Q 35.3 71.6, 35.8 71.0 Q 36.3 70.4, 37.2 70.4 Q 38.2 70.4, 38.7 71.0 Q 39.2 71.6, 39.2 72.6 Q 39.2 73.6, 38.7 74.2 Q 38.1 74.8, 37.2 74.8 Q 36.3 74.8, 35.8 74.2 Q 35.3 73.6, 35.3 72.6 M 37.2 74.3 Q 37.9 74.3, 38.2 73.9 Q 38.6 73.5, 38.6 72.6 Q 38.6 71.8, 38.2 71.3 Q 37.9 70.9, 37.2 70.9 Q 36.6 70.9, 36.2 71.3 Q 35.9 71.8, 35.9 72.6 Q 35.9 73.5, 36.2 73.9 Q 36.6 74.3, 37.2 74.3 \" fill=\"#FF0000\"/>\n",
       "<path class=\"atom-50\" d=\"M 19.7 77.1 L 20.3 77.1 L 20.3 78.9 L 22.5 78.9 L 22.5 77.1 L 23.0 77.1 L 23.0 81.4 L 22.5 81.4 L 22.5 79.4 L 20.3 79.4 L 20.3 81.4 L 19.7 81.4 L 19.7 77.1 \" fill=\"#FF0000\"/>\n",
       "<path class=\"atom-50\" d=\"M 23.9 79.2 Q 23.9 78.2, 24.4 77.6 Q 24.9 77.1, 25.9 77.1 Q 26.8 77.1, 27.3 77.6 Q 27.8 78.2, 27.8 79.2 Q 27.8 80.3, 27.3 80.9 Q 26.8 81.4, 25.9 81.4 Q 24.9 81.4, 24.4 80.9 Q 23.9 80.3, 23.9 79.2 M 25.9 81.0 Q 26.5 81.0, 26.9 80.5 Q 27.2 80.1, 27.2 79.2 Q 27.2 78.4, 26.9 78.0 Q 26.5 77.6, 25.9 77.6 Q 25.2 77.6, 24.9 78.0 Q 24.5 78.4, 24.5 79.2 Q 24.5 80.1, 24.9 80.5 Q 25.2 81.0, 25.9 81.0 \" fill=\"#FF0000\"/>\n",
       "</svg>"
      ],
      "text/plain": [
       "<IPython.core.display.SVG object>"
      ]
     },
     "execution_count": 5,
     "metadata": {},
     "output_type": "execute_result"
    }
   ],
   "source": [
    "# Plot the first generated molecule\n",
    "big_smiles_gen(big)"
   ]
  },
  {
   "cell_type": "markdown",
   "id": "9b184edb",
   "metadata": {},
   "source": [
    "You can also render the graph of connected monomers.\n",
    "In this case, we don't draw the atoms, but the connected monomers. This can be handy to visualize bigger molecules."
   ]
  },
  {
   "cell_type": "code",
   "execution_count": 6,
   "id": "e2ba486d",
   "metadata": {},
   "outputs": [
    {
     "name": "stdout",
     "output_type": "stream",
     "text": [
      "O=C(CCC(=O)CC(=O)C(=O)CCC(=O)C(=O)CC(=O)CC(=O)CCOO)CC(=O)COO\n",
      "0.000260553385416667\n",
      "g0\n"
     ]
    },
    {
     "data": {
      "image/png": "[encoded data removed]",
      "text/plain": [
       "<Figure size 432x288 with 1 Axes>"
      ]
     },
     "metadata": {},
     "output_type": "display_data"
    }
   ],
   "source": [
    "big_smiles_graph(big)"
   ]
  },
  {
   "cell_type": "code",
   "execution_count": 7,
   "id": "b8e23fbd",
   "metadata": {},
   "outputs": [
    {
     "name": "stdout",
     "output_type": "stream",
     "text": [
      "O=C(CCC(=O)CC(=O)CC(=O)CC(=O)C(=O)CC(=O)CCC(=O)C(=O)CC(=O)CCC(=O)CC(=O)CC(=O)COO)CC(=O)COO\n",
      "8.142293294270826e-06\n",
      "1\n"
     ]
    },
    {
     "data": {
      "image/svg+xml": [
       "<svg xmlns=\"http://www.w3.org/2000/svg\" xmlns:rdkit=\"http://www.rdkit.org/xml\" xmlns:xlink=\"http://www.w3.org/1999/xlink\" version=\"1.1\" baseProfile=\"full\" xml:space=\"preserve\" width=\"450px\" height=\"150px\" viewBox=\"0 0 450 150\">\n",
       "<!-- END OF HEADER -->\n",
       "<rect style=\"opacity:1.0;fill:#FFFFFF;stroke:none\" width=\"450.0\" height=\"150.0\" x=\"0.0\" y=\"0.0\"> </rect>\n",
       "<path class=\"bond-0 atom-0 atom-1\" d=\"M 421.6,71.1 L 414.5,75.4\" style=\"fill:none;fill-rule:evenodd;stroke:#FF0000;stroke-width:2.0px;stroke-linecap:butt;stroke-linejoin:miter;stroke-opacity:1\"/>\n",
       "<path class=\"bond-1 atom-1 atom-2\" d=\"M 409.6,75.4 L 404.8,72.7\" style=\"fill:none;fill-rule:evenodd;stroke:#FF0000;stroke-width:2.0px;stroke-linecap:butt;stroke-linejoin:miter;stroke-opacity:1\"/>\n",
       "<path class=\"bond-1 atom-1 atom-2\" d=\"M 404.8,72.7 L 399.9,69.9\" style=\"fill:none;fill-rule:evenodd;stroke:#000000;stroke-width:2.0px;stroke-linecap:butt;stroke-linejoin:miter;stroke-opacity:1\"/>\n",
       "<path class=\"bond-2 atom-3 atom-4\" d=\"M 386.9,76.4 L 386.9,82.4\" style=\"fill:none;fill-rule:evenodd;stroke:#000000;stroke-width:2.0px;stroke-linecap:butt;stroke-linejoin:miter;stroke-opacity:1\"/>\n",
       "<path class=\"bond-2 atom-3 atom-4\" d=\"M 386.9,82.4 L 387.0,88.3\" style=\"fill:none;fill-rule:evenodd;stroke:#FF0000;stroke-width:2.0px;stroke-linecap:butt;stroke-linejoin:miter;stroke-opacity:1\"/>\n",
       "<path class=\"bond-2 atom-3 atom-4\" d=\"M 389.0,76.4 L 389.0,82.4\" style=\"fill:none;fill-rule:evenodd;stroke:#000000;stroke-width:2.0px;stroke-linecap:butt;stroke-linejoin:miter;stroke-opacity:1\"/>\n",
       "<path class=\"bond-2 atom-3 atom-4\" d=\"M 389.0,82.4 L 389.1,88.3\" style=\"fill:none;fill-rule:evenodd;stroke:#FF0000;stroke-width:2.0px;stroke-linecap:butt;stroke-linejoin:miter;stroke-opacity:1\"/>\n",
       "<path class=\"bond-3 atom-3 atom-5\" d=\"M 387.9,77.0 L 375.8,70.2\" style=\"fill:none;fill-rule:evenodd;stroke:#000000;stroke-width:2.0px;stroke-linecap:butt;stroke-linejoin:miter;stroke-opacity:1\"/>\n",
       "<path class=\"bond-4 atom-2 atom-3\" d=\"M 399.9,69.9 L 387.9,77.0\" style=\"fill:none;fill-rule:evenodd;stroke:#000000;stroke-width:2.0px;stroke-linecap:butt;stroke-linejoin:miter;stroke-opacity:1\"/>\n",
       "<path class=\"bond-5 atom-6 atom-7\" d=\"M 362.8,76.6 L 362.8,82.6\" style=\"fill:none;fill-rule:evenodd;stroke:#000000;stroke-width:2.0px;stroke-linecap:butt;stroke-linejoin:miter;stroke-opacity:1\"/>\n",
       "<path class=\"bond-5 atom-6 atom-7\" d=\"M 362.8,82.6 L 362.9,88.6\" style=\"fill:none;fill-rule:evenodd;stroke:#FF0000;stroke-width:2.0px;stroke-linecap:butt;stroke-linejoin:miter;stroke-opacity:1\"/>\n",
       "<path class=\"bond-5 atom-6 atom-7\" d=\"M 364.9,76.6 L 364.9,82.6\" style=\"fill:none;fill-rule:evenodd;stroke:#000000;stroke-width:2.0px;stroke-linecap:butt;stroke-linejoin:miter;stroke-opacity:1\"/>\n",
       "<path class=\"bond-5 atom-6 atom-7\" d=\"M 364.9,82.6 L 365.0,88.5\" style=\"fill:none;fill-rule:evenodd;stroke:#FF0000;stroke-width:2.0px;stroke-linecap:butt;stroke-linejoin:miter;stroke-opacity:1\"/>\n",
       "<path class=\"bond-6 atom-6 atom-8\" d=\"M 363.8,77.2 L 351.7,70.4\" style=\"fill:none;fill-rule:evenodd;stroke:#000000;stroke-width:2.0px;stroke-linecap:butt;stroke-linejoin:miter;stroke-opacity:1\"/>\n",
       "<path class=\"bond-7 atom-5 atom-6\" d=\"M 375.8,70.2 L 363.8,77.2\" style=\"fill:none;fill-rule:evenodd;stroke:#000000;stroke-width:2.0px;stroke-linecap:butt;stroke-linejoin:miter;stroke-opacity:1\"/>\n",
       "<path class=\"bond-8 atom-9 atom-10\" d=\"M 328.6,71.2 L 328.6,65.3\" style=\"fill:none;fill-rule:evenodd;stroke:#000000;stroke-width:2.0px;stroke-linecap:butt;stroke-linejoin:miter;stroke-opacity:1\"/>\n",
       "<path class=\"bond-8 atom-9 atom-10\" d=\"M 328.6,65.3 L 328.5,59.4\" style=\"fill:none;fill-rule:evenodd;stroke:#FF0000;stroke-width:2.0px;stroke-linecap:butt;stroke-linejoin:miter;stroke-opacity:1\"/>\n",
       "<path class=\"bond-8 atom-9 atom-10\" d=\"M 326.5,71.2 L 326.5,65.3\" style=\"fill:none;fill-rule:evenodd;stroke:#000000;stroke-width:2.0px;stroke-linecap:butt;stroke-linejoin:miter;stroke-opacity:1\"/>\n",
       "<path class=\"bond-8 atom-9 atom-10\" d=\"M 326.5,65.3 L 326.4,59.4\" style=\"fill:none;fill-rule:evenodd;stroke:#FF0000;stroke-width:2.0px;stroke-linecap:butt;stroke-linejoin:miter;stroke-opacity:1\"/>\n",
       "<path class=\"bond-9 atom-9 atom-11\" d=\"M 327.6,70.6 L 339.7,77.5\" style=\"fill:none;fill-rule:evenodd;stroke:#000000;stroke-width:2.0px;stroke-linecap:butt;stroke-linejoin:miter;stroke-opacity:1\"/>\n",
       "<path class=\"bond-10 atom-8 atom-11\" d=\"M 351.7,70.4 L 339.7,77.5\" style=\"fill:none;fill-rule:evenodd;stroke:#000000;stroke-width:2.0px;stroke-linecap:butt;stroke-linejoin:miter;stroke-opacity:1\"/>\n",
       "<path class=\"bond-11 atom-12 atom-13\" d=\"M 304.5,71.4 L 304.4,65.5\" style=\"fill:none;fill-rule:evenodd;stroke:#000000;stroke-width:2.0px;stroke-linecap:butt;stroke-linejoin:miter;stroke-opacity:1\"/>\n",
       "<path class=\"bond-11 atom-12 atom-13\" d=\"M 304.4,65.5 L 304.4,59.6\" style=\"fill:none;fill-rule:evenodd;stroke:#FF0000;stroke-width:2.0px;stroke-linecap:butt;stroke-linejoin:miter;stroke-opacity:1\"/>\n",
       "<path class=\"bond-11 atom-12 atom-13\" d=\"M 302.4,71.5 L 302.4,65.5\" style=\"fill:none;fill-rule:evenodd;stroke:#000000;stroke-width:2.0px;stroke-linecap:butt;stroke-linejoin:miter;stroke-opacity:1\"/>\n",
       "<path class=\"bond-11 atom-12 atom-13\" d=\"M 302.4,65.5 L 302.3,59.6\" style=\"fill:none;fill-rule:evenodd;stroke:#FF0000;stroke-width:2.0px;stroke-linecap:butt;stroke-linejoin:miter;stroke-opacity:1\"/>\n",
       "<path class=\"bond-12 atom-12 atom-14\" d=\"M 303.5,70.9 L 315.6,77.7\" style=\"fill:none;fill-rule:evenodd;stroke:#000000;stroke-width:2.0px;stroke-linecap:butt;stroke-linejoin:miter;stroke-opacity:1\"/>\n",
       "<path class=\"bond-13 atom-9 atom-14\" d=\"M 327.6,70.6 L 315.6,77.7\" style=\"fill:none;fill-rule:evenodd;stroke:#000000;stroke-width:2.0px;stroke-linecap:butt;stroke-linejoin:miter;stroke-opacity:1\"/>\n",
       "<path class=\"bond-14 atom-15 atom-16\" d=\"M 280.4,71.7 L 280.3,65.8\" style=\"fill:none;fill-rule:evenodd;stroke:#000000;stroke-width:2.0px;stroke-linecap:butt;stroke-linejoin:miter;stroke-opacity:1\"/>\n",
       "<path class=\"bond-14 atom-15 atom-16\" d=\"M 280.3,65.8 L 280.3,59.8\" style=\"fill:none;fill-rule:evenodd;stroke:#FF0000;stroke-width:2.0px;stroke-linecap:butt;stroke-linejoin:miter;stroke-opacity:1\"/>\n",
       "<path class=\"bond-14 atom-15 atom-16\" d=\"M 278.3,71.7 L 278.2,65.8\" style=\"fill:none;fill-rule:evenodd;stroke:#000000;stroke-width:2.0px;stroke-linecap:butt;stroke-linejoin:miter;stroke-opacity:1\"/>\n",
       "<path class=\"bond-14 atom-15 atom-16\" d=\"M 278.2,65.8 L 278.2,59.8\" style=\"fill:none;fill-rule:evenodd;stroke:#FF0000;stroke-width:2.0px;stroke-linecap:butt;stroke-linejoin:miter;stroke-opacity:1\"/>\n",
       "<path class=\"bond-15 atom-15 atom-17\" d=\"M 279.3,71.1 L 291.5,77.9\" style=\"fill:none;fill-rule:evenodd;stroke:#000000;stroke-width:2.0px;stroke-linecap:butt;stroke-linejoin:miter;stroke-opacity:1\"/>\n",
       "<path class=\"bond-16 atom-12 atom-17\" d=\"M 303.5,70.9 L 291.5,77.9\" style=\"fill:none;fill-rule:evenodd;stroke:#000000;stroke-width:2.0px;stroke-linecap:butt;stroke-linejoin:miter;stroke-opacity:1\"/>\n",
       "<path class=\"bond-17 atom-18 atom-19\" d=\"M 256.3,71.9 L 256.2,66.0\" style=\"fill:none;fill-rule:evenodd;stroke:#000000;stroke-width:2.0px;stroke-linecap:butt;stroke-linejoin:miter;stroke-opacity:1\"/>\n",
       "<path class=\"bond-17 atom-18 atom-19\" d=\"M 256.2,66.0 L 256.2,60.1\" style=\"fill:none;fill-rule:evenodd;stroke:#FF0000;stroke-width:2.0px;stroke-linecap:butt;stroke-linejoin:miter;stroke-opacity:1\"/>\n",
       "<path class=\"bond-17 atom-18 atom-19\" d=\"M 254.2,71.9 L 254.1,66.0\" style=\"fill:none;fill-rule:evenodd;stroke:#000000;stroke-width:2.0px;stroke-linecap:butt;stroke-linejoin:miter;stroke-opacity:1\"/>\n",
       "<path class=\"bond-17 atom-18 atom-19\" d=\"M 254.1,66.0 L 254.1,60.1\" style=\"fill:none;fill-rule:evenodd;stroke:#FF0000;stroke-width:2.0px;stroke-linecap:butt;stroke-linejoin:miter;stroke-opacity:1\"/>\n",
       "<path class=\"bond-18 atom-18 atom-20\" d=\"M 255.2,71.3 L 267.3,78.2\" style=\"fill:none;fill-rule:evenodd;stroke:#000000;stroke-width:2.0px;stroke-linecap:butt;stroke-linejoin:miter;stroke-opacity:1\"/>\n",
       "<path class=\"bond-19 atom-15 atom-20\" d=\"M 279.3,71.1 L 267.3,78.2\" style=\"fill:none;fill-rule:evenodd;stroke:#000000;stroke-width:2.0px;stroke-linecap:butt;stroke-linejoin:miter;stroke-opacity:1\"/>\n",
       "<path class=\"bond-20 atom-21 atom-22\" d=\"M 242.2,77.8 L 242.2,83.8\" style=\"fill:none;fill-rule:evenodd;stroke:#000000;stroke-width:2.0px;stroke-linecap:butt;stroke-linejoin:miter;stroke-opacity:1\"/>\n",
       "<path class=\"bond-20 atom-21 atom-22\" d=\"M 242.2,83.8 L 242.3,89.7\" style=\"fill:none;fill-rule:evenodd;stroke:#FF0000;stroke-width:2.0px;stroke-linecap:butt;stroke-linejoin:miter;stroke-opacity:1\"/>\n",
       "<path class=\"bond-20 atom-21 atom-22\" d=\"M 244.3,77.8 L 244.3,83.7\" style=\"fill:none;fill-rule:evenodd;stroke:#000000;stroke-width:2.0px;stroke-linecap:butt;stroke-linejoin:miter;stroke-opacity:1\"/>\n",
       "<path class=\"bond-20 atom-21 atom-22\" d=\"M 244.3,83.7 L 244.4,89.7\" style=\"fill:none;fill-rule:evenodd;stroke:#FF0000;stroke-width:2.0px;stroke-linecap:butt;stroke-linejoin:miter;stroke-opacity:1\"/>\n",
       "<path class=\"bond-21 atom-21 atom-23\" d=\"M 243.2,78.4 L 231.1,71.5\" style=\"fill:none;fill-rule:evenodd;stroke:#000000;stroke-width:2.0px;stroke-linecap:butt;stroke-linejoin:miter;stroke-opacity:1\"/>\n",
       "<path class=\"bond-22 atom-18 atom-21\" d=\"M 255.2,71.3 L 243.2,78.4\" style=\"fill:none;fill-rule:evenodd;stroke:#000000;stroke-width:2.0px;stroke-linecap:butt;stroke-linejoin:miter;stroke-opacity:1\"/>\n",
       "<path class=\"bond-23 atom-24 atom-25\" d=\"M 218.1,78.0 L 218.1,84.0\" style=\"fill:none;fill-rule:evenodd;stroke:#000000;stroke-width:2.0px;stroke-linecap:butt;stroke-linejoin:miter;stroke-opacity:1\"/>\n",
       "<path class=\"bond-23 atom-24 atom-25\" d=\"M 218.1,84.0 L 218.2,89.9\" style=\"fill:none;fill-rule:evenodd;stroke:#FF0000;stroke-width:2.0px;stroke-linecap:butt;stroke-linejoin:miter;stroke-opacity:1\"/>\n",
       "<path class=\"bond-23 atom-24 atom-25\" d=\"M 220.1,78.0 L 220.2,84.0\" style=\"fill:none;fill-rule:evenodd;stroke:#000000;stroke-width:2.0px;stroke-linecap:butt;stroke-linejoin:miter;stroke-opacity:1\"/>\n",
       "<path class=\"bond-23 atom-24 atom-25\" d=\"M 220.2,84.0 L 220.3,89.9\" style=\"fill:none;fill-rule:evenodd;stroke:#FF0000;stroke-width:2.0px;stroke-linecap:butt;stroke-linejoin:miter;stroke-opacity:1\"/>\n",
       "<path class=\"bond-24 atom-24 atom-26\" d=\"M 219.1,78.6 L 207.0,71.8\" style=\"fill:none;fill-rule:evenodd;stroke:#000000;stroke-width:2.0px;stroke-linecap:butt;stroke-linejoin:miter;stroke-opacity:1\"/>\n",
       "<path class=\"bond-25 atom-23 atom-24\" d=\"M 231.1,71.5 L 219.1,78.6\" style=\"fill:none;fill-rule:evenodd;stroke:#000000;stroke-width:2.0px;stroke-linecap:butt;stroke-linejoin:miter;stroke-opacity:1\"/>\n",
       "<path class=\"bond-26 atom-27 atom-28\" d=\"M 183.9,72.6 L 183.9,66.7\" style=\"fill:none;fill-rule:evenodd;stroke:#000000;stroke-width:2.0px;stroke-linecap:butt;stroke-linejoin:miter;stroke-opacity:1\"/>\n",
       "<path class=\"bond-26 atom-27 atom-28\" d=\"M 183.9,66.7 L 183.8,60.7\" style=\"fill:none;fill-rule:evenodd;stroke:#FF0000;stroke-width:2.0px;stroke-linecap:butt;stroke-linejoin:miter;stroke-opacity:1\"/>\n",
       "<path class=\"bond-26 atom-27 atom-28\" d=\"M 181.8,72.6 L 181.8,66.7\" style=\"fill:none;fill-rule:evenodd;stroke:#000000;stroke-width:2.0px;stroke-linecap:butt;stroke-linejoin:miter;stroke-opacity:1\"/>\n",
       "<path class=\"bond-26 atom-27 atom-28\" d=\"M 181.8,66.7 L 181.7,60.8\" style=\"fill:none;fill-rule:evenodd;stroke:#FF0000;stroke-width:2.0px;stroke-linecap:butt;stroke-linejoin:miter;stroke-opacity:1\"/>\n",
       "<path class=\"bond-27 atom-27 atom-29\" d=\"M 182.9,72.0 L 195.0,78.8\" style=\"fill:none;fill-rule:evenodd;stroke:#000000;stroke-width:2.0px;stroke-linecap:butt;stroke-linejoin:miter;stroke-opacity:1\"/>\n",
       "<path class=\"bond-28 atom-26 atom-29\" d=\"M 207.0,71.8 L 195.0,78.8\" style=\"fill:none;fill-rule:evenodd;stroke:#000000;stroke-width:2.0px;stroke-linecap:butt;stroke-linejoin:miter;stroke-opacity:1\"/>\n",
       "<path class=\"bond-29 atom-30 atom-31\" d=\"M 169.8,78.5 L 169.9,84.4\" style=\"fill:none;fill-rule:evenodd;stroke:#000000;stroke-width:2.0px;stroke-linecap:butt;stroke-linejoin:miter;stroke-opacity:1\"/>\n",
       "<path class=\"bond-29 atom-30 atom-31\" d=\"M 169.9,84.4 L 169.9,90.4\" style=\"fill:none;fill-rule:evenodd;stroke:#FF0000;stroke-width:2.0px;stroke-linecap:butt;stroke-linejoin:miter;stroke-opacity:1\"/>\n",
       "<path class=\"bond-29 atom-30 atom-31\" d=\"M 171.9,78.5 L 172.0,84.4\" style=\"fill:none;fill-rule:evenodd;stroke:#000000;stroke-width:2.0px;stroke-linecap:butt;stroke-linejoin:miter;stroke-opacity:1\"/>\n",
       "<path class=\"bond-29 atom-30 atom-31\" d=\"M 172.0,84.4 L 172.0,90.4\" style=\"fill:none;fill-rule:evenodd;stroke:#FF0000;stroke-width:2.0px;stroke-linecap:butt;stroke-linejoin:miter;stroke-opacity:1\"/>\n",
       "<path class=\"bond-30 atom-30 atom-32\" d=\"M 170.9,79.1 L 158.7,72.2\" style=\"fill:none;fill-rule:evenodd;stroke:#000000;stroke-width:2.0px;stroke-linecap:butt;stroke-linejoin:miter;stroke-opacity:1\"/>\n",
       "<path class=\"bond-31 atom-27 atom-30\" d=\"M 182.9,72.0 L 170.9,79.1\" style=\"fill:none;fill-rule:evenodd;stroke:#000000;stroke-width:2.0px;stroke-linecap:butt;stroke-linejoin:miter;stroke-opacity:1\"/>\n",
       "<path class=\"bond-32 atom-33 atom-34\" d=\"M 145.7,78.7 L 145.8,84.7\" style=\"fill:none;fill-rule:evenodd;stroke:#000000;stroke-width:2.0px;stroke-linecap:butt;stroke-linejoin:miter;stroke-opacity:1\"/>\n",
       "<path class=\"bond-32 atom-33 atom-34\" d=\"M 145.8,84.7 L 145.8,90.6\" style=\"fill:none;fill-rule:evenodd;stroke:#FF0000;stroke-width:2.0px;stroke-linecap:butt;stroke-linejoin:miter;stroke-opacity:1\"/>\n",
       "<path class=\"bond-32 atom-33 atom-34\" d=\"M 147.8,78.7 L 147.9,84.7\" style=\"fill:none;fill-rule:evenodd;stroke:#000000;stroke-width:2.0px;stroke-linecap:butt;stroke-linejoin:miter;stroke-opacity:1\"/>\n",
       "<path class=\"bond-32 atom-33 atom-34\" d=\"M 147.9,84.7 L 147.9,90.6\" style=\"fill:none;fill-rule:evenodd;stroke:#FF0000;stroke-width:2.0px;stroke-linecap:butt;stroke-linejoin:miter;stroke-opacity:1\"/>\n",
       "<path class=\"bond-33 atom-33 atom-35\" d=\"M 146.8,79.3 L 134.6,72.5\" style=\"fill:none;fill-rule:evenodd;stroke:#000000;stroke-width:2.0px;stroke-linecap:butt;stroke-linejoin:miter;stroke-opacity:1\"/>\n",
       "<path class=\"bond-34 atom-32 atom-33\" d=\"M 158.7,72.2 L 146.8,79.3\" style=\"fill:none;fill-rule:evenodd;stroke:#000000;stroke-width:2.0px;stroke-linecap:butt;stroke-linejoin:miter;stroke-opacity:1\"/>\n",
       "<path class=\"bond-35 atom-36 atom-37\" d=\"M 111.6,73.3 L 111.5,67.4\" style=\"fill:none;fill-rule:evenodd;stroke:#000000;stroke-width:2.0px;stroke-linecap:butt;stroke-linejoin:miter;stroke-opacity:1\"/>\n",
       "<path class=\"bond-35 atom-36 atom-37\" d=\"M 111.5,67.4 L 111.4,61.4\" style=\"fill:none;fill-rule:evenodd;stroke:#FF0000;stroke-width:2.0px;stroke-linecap:butt;stroke-linejoin:miter;stroke-opacity:1\"/>\n",
       "<path class=\"bond-35 atom-36 atom-37\" d=\"M 109.5,73.3 L 109.4,67.4\" style=\"fill:none;fill-rule:evenodd;stroke:#000000;stroke-width:2.0px;stroke-linecap:butt;stroke-linejoin:miter;stroke-opacity:1\"/>\n",
       "<path class=\"bond-35 atom-36 atom-37\" d=\"M 109.4,67.4 L 109.4,61.5\" style=\"fill:none;fill-rule:evenodd;stroke:#FF0000;stroke-width:2.0px;stroke-linecap:butt;stroke-linejoin:miter;stroke-opacity:1\"/>\n",
       "<path class=\"bond-36 atom-36 atom-38\" d=\"M 110.5,72.7 L 122.6,79.5\" style=\"fill:none;fill-rule:evenodd;stroke:#000000;stroke-width:2.0px;stroke-linecap:butt;stroke-linejoin:miter;stroke-opacity:1\"/>\n",
       "<path class=\"bond-37 atom-35 atom-38\" d=\"M 134.6,72.5 L 122.6,79.5\" style=\"fill:none;fill-rule:evenodd;stroke:#000000;stroke-width:2.0px;stroke-linecap:butt;stroke-linejoin:miter;stroke-opacity:1\"/>\n",
       "<path class=\"bond-38 atom-39 atom-40\" d=\"M 87.4,73.5 L 87.4,67.6\" style=\"fill:none;fill-rule:evenodd;stroke:#000000;stroke-width:2.0px;stroke-linecap:butt;stroke-linejoin:miter;stroke-opacity:1\"/>\n",
       "<path class=\"bond-38 atom-39 atom-40\" d=\"M 87.4,67.6 L 87.3,61.7\" style=\"fill:none;fill-rule:evenodd;stroke:#FF0000;stroke-width:2.0px;stroke-linecap:butt;stroke-linejoin:miter;stroke-opacity:1\"/>\n",
       "<path class=\"bond-38 atom-39 atom-40\" d=\"M 85.4,73.5 L 85.3,67.6\" style=\"fill:none;fill-rule:evenodd;stroke:#000000;stroke-width:2.0px;stroke-linecap:butt;stroke-linejoin:miter;stroke-opacity:1\"/>\n",
       "<path class=\"bond-38 atom-39 atom-40\" d=\"M 85.3,67.6 L 85.2,61.7\" style=\"fill:none;fill-rule:evenodd;stroke:#FF0000;stroke-width:2.0px;stroke-linecap:butt;stroke-linejoin:miter;stroke-opacity:1\"/>\n",
       "<path class=\"bond-39 atom-39 atom-41\" d=\"M 86.4,72.9 L 98.5,79.8\" style=\"fill:none;fill-rule:evenodd;stroke:#000000;stroke-width:2.0px;stroke-linecap:butt;stroke-linejoin:miter;stroke-opacity:1\"/>\n",
       "<path class=\"bond-40 atom-36 atom-41\" d=\"M 110.5,72.7 L 98.5,79.8\" style=\"fill:none;fill-rule:evenodd;stroke:#000000;stroke-width:2.0px;stroke-linecap:butt;stroke-linejoin:miter;stroke-opacity:1\"/>\n",
       "<path class=\"bond-41 atom-42 atom-43\" d=\"M 63.3,73.7 L 63.3,67.8\" style=\"fill:none;fill-rule:evenodd;stroke:#000000;stroke-width:2.0px;stroke-linecap:butt;stroke-linejoin:miter;stroke-opacity:1\"/>\n",
       "<path class=\"bond-41 atom-42 atom-43\" d=\"M 63.3,67.8 L 63.2,61.9\" style=\"fill:none;fill-rule:evenodd;stroke:#FF0000;stroke-width:2.0px;stroke-linecap:butt;stroke-linejoin:miter;stroke-opacity:1\"/>\n",
       "<path class=\"bond-41 atom-42 atom-43\" d=\"M 61.2,73.8 L 61.2,67.8\" style=\"fill:none;fill-rule:evenodd;stroke:#000000;stroke-width:2.0px;stroke-linecap:butt;stroke-linejoin:miter;stroke-opacity:1\"/>\n",
       "<path class=\"bond-41 atom-42 atom-43\" d=\"M 61.2,67.8 L 61.1,61.9\" style=\"fill:none;fill-rule:evenodd;stroke:#FF0000;stroke-width:2.0px;stroke-linecap:butt;stroke-linejoin:miter;stroke-opacity:1\"/>\n",
       "<path class=\"bond-42 atom-42 atom-44\" d=\"M 62.3,73.2 L 74.4,80.0\" style=\"fill:none;fill-rule:evenodd;stroke:#000000;stroke-width:2.0px;stroke-linecap:butt;stroke-linejoin:miter;stroke-opacity:1\"/>\n",
       "<path class=\"bond-43 atom-39 atom-44\" d=\"M 86.4,72.9 L 74.4,80.0\" style=\"fill:none;fill-rule:evenodd;stroke:#000000;stroke-width:2.0px;stroke-linecap:butt;stroke-linejoin:miter;stroke-opacity:1\"/>\n",
       "<path class=\"bond-44 atom-45 atom-46\" d=\"M 50.3,80.2 L 45.4,77.5\" style=\"fill:none;fill-rule:evenodd;stroke:#000000;stroke-width:2.0px;stroke-linecap:butt;stroke-linejoin:miter;stroke-opacity:1\"/>\n",
       "<path class=\"bond-44 atom-45 atom-46\" d=\"M 45.4,77.5 L 40.6,74.7\" style=\"fill:none;fill-rule:evenodd;stroke:#FF0000;stroke-width:2.0px;stroke-linecap:butt;stroke-linejoin:miter;stroke-opacity:1\"/>\n",
       "<path class=\"bond-45 atom-46 atom-47\" d=\"M 35.7,74.8 L 28.6,79.0\" style=\"fill:none;fill-rule:evenodd;stroke:#FF0000;stroke-width:2.0px;stroke-linecap:butt;stroke-linejoin:miter;stroke-opacity:1\"/>\n",
       "<path class=\"bond-46 atom-42 atom-45\" d=\"M 62.3,73.2 L 50.3,80.2\" style=\"fill:none;fill-rule:evenodd;stroke:#000000;stroke-width:2.0px;stroke-linecap:butt;stroke-linejoin:miter;stroke-opacity:1\"/>\n",
       "<path d=\"M 400.2,70.1 L 399.9,69.9 L 399.3,70.3\" style=\"fill:none;stroke:#000000;stroke-width:2.0px;stroke-linecap:butt;stroke-linejoin:miter;stroke-opacity:1;\"/>\n",
       "<path d=\"M 387.3,76.7 L 387.9,77.0 L 388.5,76.7\" style=\"fill:none;stroke:#000000;stroke-width:2.0px;stroke-linecap:butt;stroke-linejoin:miter;stroke-opacity:1;\"/>\n",
       "<path d=\"M 376.4,70.5 L 375.8,70.2 L 375.2,70.5\" style=\"fill:none;stroke:#000000;stroke-width:2.0px;stroke-linecap:butt;stroke-linejoin:miter;stroke-opacity:1;\"/>\n",
       "<path d=\"M 363.2,76.9 L 363.8,77.2 L 364.4,76.9\" style=\"fill:none;stroke:#000000;stroke-width:2.0px;stroke-linecap:butt;stroke-linejoin:miter;stroke-opacity:1;\"/>\n",
       "<path d=\"M 352.3,70.7 L 351.7,70.4 L 351.1,70.7\" style=\"fill:none;stroke:#000000;stroke-width:2.0px;stroke-linecap:butt;stroke-linejoin:miter;stroke-opacity:1;\"/>\n",
       "<path d=\"M 328.2,71.0 L 327.6,70.6 L 327.0,71.0\" style=\"fill:none;stroke:#000000;stroke-width:2.0px;stroke-linecap:butt;stroke-linejoin:miter;stroke-opacity:1;\"/>\n",
       "<path d=\"M 339.1,77.1 L 339.7,77.5 L 340.3,77.1\" style=\"fill:none;stroke:#000000;stroke-width:2.0px;stroke-linecap:butt;stroke-linejoin:miter;stroke-opacity:1;\"/>\n",
       "<path d=\"M 304.1,71.2 L 303.5,70.9 L 302.9,71.2\" style=\"fill:none;stroke:#000000;stroke-width:2.0px;stroke-linecap:butt;stroke-linejoin:miter;stroke-opacity:1;\"/>\n",
       "<path d=\"M 315.0,77.4 L 315.6,77.7 L 316.2,77.3\" style=\"fill:none;stroke:#000000;stroke-width:2.0px;stroke-linecap:butt;stroke-linejoin:miter;stroke-opacity:1;\"/>\n",
       "<path d=\"M 279.9,71.4 L 279.3,71.1 L 278.7,71.4\" style=\"fill:none;stroke:#000000;stroke-width:2.0px;stroke-linecap:butt;stroke-linejoin:miter;stroke-opacity:1;\"/>\n",
       "<path d=\"M 290.9,77.6 L 291.5,77.9 L 292.1,77.6\" style=\"fill:none;stroke:#000000;stroke-width:2.0px;stroke-linecap:butt;stroke-linejoin:miter;stroke-opacity:1;\"/>\n",
       "<path d=\"M 255.8,71.7 L 255.2,71.3 L 254.6,71.7\" style=\"fill:none;stroke:#000000;stroke-width:2.0px;stroke-linecap:butt;stroke-linejoin:miter;stroke-opacity:1;\"/>\n",
       "<path d=\"M 266.7,77.8 L 267.3,78.2 L 267.9,77.8\" style=\"fill:none;stroke:#000000;stroke-width:2.0px;stroke-linecap:butt;stroke-linejoin:miter;stroke-opacity:1;\"/>\n",
       "<path d=\"M 242.6,78.0 L 243.2,78.4 L 243.8,78.0\" style=\"fill:none;stroke:#000000;stroke-width:2.0px;stroke-linecap:butt;stroke-linejoin:miter;stroke-opacity:1;\"/>\n",
       "<path d=\"M 231.7,71.9 L 231.1,71.5 L 230.5,71.9\" style=\"fill:none;stroke:#000000;stroke-width:2.0px;stroke-linecap:butt;stroke-linejoin:miter;stroke-opacity:1;\"/>\n",
       "<path d=\"M 218.5,78.3 L 219.1,78.6 L 219.7,78.3\" style=\"fill:none;stroke:#000000;stroke-width:2.0px;stroke-linecap:butt;stroke-linejoin:miter;stroke-opacity:1;\"/>\n",
       "<path d=\"M 207.6,72.1 L 207.0,71.8 L 206.4,72.1\" style=\"fill:none;stroke:#000000;stroke-width:2.0px;stroke-linecap:butt;stroke-linejoin:miter;stroke-opacity:1;\"/>\n",
       "<path d=\"M 183.5,72.3 L 182.9,72.0 L 182.3,72.4\" style=\"fill:none;stroke:#000000;stroke-width:2.0px;stroke-linecap:butt;stroke-linejoin:miter;stroke-opacity:1;\"/>\n",
       "<path d=\"M 194.4,78.5 L 195.0,78.8 L 195.6,78.5\" style=\"fill:none;stroke:#000000;stroke-width:2.0px;stroke-linecap:butt;stroke-linejoin:miter;stroke-opacity:1;\"/>\n",
       "<path d=\"M 170.3,78.7 L 170.9,79.1 L 171.5,78.7\" style=\"fill:none;stroke:#000000;stroke-width:2.0px;stroke-linecap:butt;stroke-linejoin:miter;stroke-opacity:1;\"/>\n",
       "<path d=\"M 159.4,72.6 L 158.7,72.2 L 158.1,72.6\" style=\"fill:none;stroke:#000000;stroke-width:2.0px;stroke-linecap:butt;stroke-linejoin:miter;stroke-opacity:1;\"/>\n",
       "<path d=\"M 146.1,79.0 L 146.8,79.3 L 147.4,79.0\" style=\"fill:none;stroke:#000000;stroke-width:2.0px;stroke-linecap:butt;stroke-linejoin:miter;stroke-opacity:1;\"/>\n",
       "<path d=\"M 135.2,72.8 L 134.6,72.5 L 134.0,72.8\" style=\"fill:none;stroke:#000000;stroke-width:2.0px;stroke-linecap:butt;stroke-linejoin:miter;stroke-opacity:1;\"/>\n",
       "<path d=\"M 111.1,73.0 L 110.5,72.7 L 109.9,73.0\" style=\"fill:none;stroke:#000000;stroke-width:2.0px;stroke-linecap:butt;stroke-linejoin:miter;stroke-opacity:1;\"/>\n",
       "<path d=\"M 122.0,79.2 L 122.6,79.5 L 123.2,79.2\" style=\"fill:none;stroke:#000000;stroke-width:2.0px;stroke-linecap:butt;stroke-linejoin:miter;stroke-opacity:1;\"/>\n",
       "<path d=\"M 87.0,73.3 L 86.4,72.9 L 85.8,73.3\" style=\"fill:none;stroke:#000000;stroke-width:2.0px;stroke-linecap:butt;stroke-linejoin:miter;stroke-opacity:1;\"/>\n",
       "<path d=\"M 97.9,79.4 L 98.5,79.8 L 99.1,79.4\" style=\"fill:none;stroke:#000000;stroke-width:2.0px;stroke-linecap:butt;stroke-linejoin:miter;stroke-opacity:1;\"/>\n",
       "<path d=\"M 62.9,73.5 L 62.3,73.2 L 61.7,73.5\" style=\"fill:none;stroke:#000000;stroke-width:2.0px;stroke-linecap:butt;stroke-linejoin:miter;stroke-opacity:1;\"/>\n",
       "<path d=\"M 73.8,79.7 L 74.4,80.0 L 75.0,79.6\" style=\"fill:none;stroke:#000000;stroke-width:2.0px;stroke-linecap:butt;stroke-linejoin:miter;stroke-opacity:1;\"/>\n",
       "<path d=\"M 50.0,80.1 L 50.3,80.2 L 50.9,79.9\" style=\"fill:none;stroke:#000000;stroke-width:2.0px;stroke-linecap:butt;stroke-linejoin:miter;stroke-opacity:1;\"/>\n",
       "<path class=\"atom-0\" d=\"M 422.1 69.7 Q 422.1 68.7, 422.6 68.1 Q 423.1 67.6, 424.0 67.6 Q 425.0 67.6, 425.5 68.1 Q 426.0 68.7, 426.0 69.7 Q 426.0 70.8, 425.5 71.3 Q 425.0 71.9, 424.0 71.9 Q 423.1 71.9, 422.6 71.3 Q 422.1 70.8, 422.1 69.7 M 424.0 71.4 Q 424.7 71.4, 425.0 71.0 Q 425.4 70.6, 425.4 69.7 Q 425.4 68.9, 425.0 68.5 Q 424.7 68.0, 424.0 68.0 Q 423.4 68.0, 423.0 68.5 Q 422.7 68.9, 422.7 69.7 Q 422.7 70.6, 423.0 71.0 Q 423.4 71.4, 424.0 71.4 \" fill=\"#FF0000\"/>\n",
       "<path class=\"atom-0\" d=\"M 426.7 67.6 L 427.2 67.6 L 427.2 69.4 L 429.4 69.4 L 429.4 67.6 L 430.0 67.6 L 430.0 71.9 L 429.4 71.9 L 429.4 69.9 L 427.2 69.9 L 427.2 71.9 L 426.7 71.9 L 426.7 67.6 \" fill=\"#FF0000\"/>\n",
       "<path class=\"atom-1\" d=\"M 410.1 76.8 Q 410.1 75.8, 410.6 75.2 Q 411.1 74.6, 412.1 74.6 Q 413.0 74.6, 413.5 75.2 Q 414.0 75.8, 414.0 76.8 Q 414.0 77.8, 413.5 78.4 Q 413.0 79.0, 412.1 79.0 Q 411.1 79.0, 410.6 78.4 Q 410.1 77.8, 410.1 76.8 M 412.1 78.5 Q 412.7 78.5, 413.0 78.1 Q 413.4 77.6, 413.4 76.8 Q 413.4 76.0, 413.0 75.5 Q 412.7 75.1, 412.1 75.1 Q 411.4 75.1, 411.0 75.5 Q 410.7 76.0, 410.7 76.8 Q 410.7 77.7, 411.0 78.1 Q 411.4 78.5, 412.1 78.5 \" fill=\"#FF0000\"/>\n",
       "<path class=\"atom-4\" d=\"M 386.1 90.9 Q 386.1 89.9, 386.6 89.4 Q 387.1 88.8, 388.1 88.8 Q 389.0 88.8, 389.5 89.4 Q 390.0 89.9, 390.0 90.9 Q 390.0 92.0, 389.5 92.6 Q 389.0 93.2, 388.1 93.2 Q 387.1 93.2, 386.6 92.6 Q 386.1 92.0, 386.1 90.9 M 388.1 92.7 Q 388.7 92.7, 389.1 92.2 Q 389.4 91.8, 389.4 90.9 Q 389.4 90.1, 389.1 89.7 Q 388.7 89.3, 388.1 89.3 Q 387.4 89.3, 387.1 89.7 Q 386.7 90.1, 386.7 90.9 Q 386.7 91.8, 387.1 92.2 Q 387.4 92.7, 388.1 92.7 \" fill=\"#FF0000\"/>\n",
       "<path class=\"atom-7\" d=\"M 362.0 91.2 Q 362.0 90.2, 362.5 89.6 Q 363.0 89.0, 363.9 89.0 Q 364.9 89.0, 365.4 89.6 Q 365.9 90.2, 365.9 91.2 Q 365.9 92.2, 365.4 92.8 Q 364.9 93.4, 363.9 93.4 Q 363.0 93.4, 362.5 92.8 Q 362.0 92.2, 362.0 91.2 M 363.9 92.9 Q 364.6 92.9, 364.9 92.5 Q 365.3 92.0, 365.3 91.2 Q 365.3 90.3, 364.9 89.9 Q 364.6 89.5, 363.9 89.5 Q 363.3 89.5, 362.9 89.9 Q 362.6 90.3, 362.6 91.2 Q 362.6 92.0, 362.9 92.5 Q 363.3 92.9, 363.9 92.9 \" fill=\"#FF0000\"/>\n",
       "<path class=\"atom-10\" d=\"M 325.5 56.7 Q 325.5 55.7, 326.0 55.1 Q 326.5 54.6, 327.4 54.6 Q 328.4 54.6, 328.9 55.1 Q 329.4 55.7, 329.4 56.7 Q 329.4 57.7, 328.9 58.3 Q 328.4 58.9, 327.4 58.9 Q 326.5 58.9, 326.0 58.3 Q 325.5 57.8, 325.5 56.7 M 327.4 58.4 Q 328.1 58.4, 328.4 58.0 Q 328.8 57.6, 328.8 56.7 Q 328.8 55.9, 328.4 55.5 Q 328.1 55.0, 327.4 55.0 Q 326.8 55.0, 326.4 55.5 Q 326.1 55.9, 326.1 56.7 Q 326.1 57.6, 326.4 58.0 Q 326.8 58.4, 327.4 58.4 \" fill=\"#FF0000\"/>\n",
       "<path class=\"atom-13\" d=\"M 301.4 56.9 Q 301.4 55.9, 301.9 55.4 Q 302.4 54.8, 303.3 54.8 Q 304.3 54.8, 304.8 55.4 Q 305.3 55.9, 305.3 56.9 Q 305.3 58.0, 304.8 58.6 Q 304.3 59.1, 303.3 59.1 Q 302.4 59.1, 301.9 58.6 Q 301.4 58.0, 301.4 56.9 M 303.3 58.7 Q 304.0 58.7, 304.3 58.2 Q 304.7 57.8, 304.7 56.9 Q 304.7 56.1, 304.3 55.7 Q 304.0 55.3, 303.3 55.3 Q 302.7 55.3, 302.3 55.7 Q 302.0 56.1, 302.0 56.9 Q 302.0 57.8, 302.3 58.2 Q 302.7 58.7, 303.3 58.7 \" fill=\"#FF0000\"/>\n",
       "<path class=\"atom-16\" d=\"M 277.3 57.2 Q 277.3 56.2, 277.8 55.6 Q 278.3 55.0, 279.2 55.0 Q 280.1 55.0, 280.7 55.6 Q 281.2 56.2, 281.2 57.2 Q 281.2 58.2, 280.6 58.8 Q 280.1 59.4, 279.2 59.4 Q 278.3 59.4, 277.8 58.8 Q 277.3 58.2, 277.3 57.2 M 279.2 58.9 Q 279.9 58.9, 280.2 58.5 Q 280.6 58.0, 280.6 57.2 Q 280.6 56.3, 280.2 55.9 Q 279.9 55.5, 279.2 55.5 Q 278.6 55.5, 278.2 55.9 Q 277.9 56.3, 277.9 57.2 Q 277.9 58.0, 278.2 58.5 Q 278.6 58.9, 279.2 58.9 \" fill=\"#FF0000\"/>\n",
       "<path class=\"atom-19\" d=\"M 253.1 57.4 Q 253.1 56.4, 253.6 55.8 Q 254.1 55.2, 255.1 55.2 Q 256.0 55.2, 256.5 55.8 Q 257.0 56.4, 257.0 57.4 Q 257.0 58.4, 256.5 59.0 Q 256.0 59.6, 255.1 59.6 Q 254.2 59.6, 253.6 59.0 Q 253.1 58.4, 253.1 57.4 M 255.1 59.1 Q 255.7 59.1, 256.1 58.7 Q 256.4 58.3, 256.4 57.4 Q 256.4 56.6, 256.1 56.1 Q 255.7 55.7, 255.1 55.7 Q 254.4 55.7, 254.1 56.1 Q 253.7 56.6, 253.7 57.4 Q 253.7 58.3, 254.1 58.7 Q 254.4 59.1, 255.1 59.1 \" fill=\"#FF0000\"/>\n",
       "<path class=\"atom-22\" d=\"M 241.4 92.3 Q 241.4 91.3, 241.9 90.7 Q 242.4 90.2, 243.4 90.2 Q 244.3 90.2, 244.8 90.7 Q 245.3 91.3, 245.3 92.3 Q 245.3 93.4, 244.8 93.9 Q 244.3 94.5, 243.4 94.5 Q 242.4 94.5, 241.9 93.9 Q 241.4 93.4, 241.4 92.3 M 243.4 94.0 Q 244.0 94.0, 244.4 93.6 Q 244.7 93.2, 244.7 92.3 Q 244.7 91.5, 244.4 91.1 Q 244.0 90.6, 243.4 90.6 Q 242.7 90.6, 242.4 91.1 Q 242.0 91.5, 242.0 92.3 Q 242.0 93.2, 242.4 93.6 Q 242.7 94.0, 243.4 94.0 \" fill=\"#FF0000\"/>\n",
       "<path class=\"atom-25\" d=\"M 217.3 92.6 Q 217.3 91.5, 217.8 91.0 Q 218.3 90.4, 219.2 90.4 Q 220.2 90.4, 220.7 91.0 Q 221.2 91.5, 221.2 92.6 Q 221.2 93.6, 220.7 94.2 Q 220.2 94.8, 219.2 94.8 Q 218.3 94.8, 217.8 94.2 Q 217.3 93.6, 217.3 92.6 M 219.2 94.3 Q 219.9 94.3, 220.2 93.8 Q 220.6 93.4, 220.6 92.6 Q 220.6 91.7, 220.2 91.3 Q 219.9 90.9, 219.2 90.9 Q 218.6 90.9, 218.2 91.3 Q 217.9 91.7, 217.9 92.6 Q 217.9 93.4, 218.2 93.8 Q 218.6 94.3, 219.2 94.3 \" fill=\"#FF0000\"/>\n",
       "<path class=\"atom-28\" d=\"M 180.8 58.1 Q 180.8 57.1, 181.3 56.5 Q 181.8 55.9, 182.7 55.9 Q 183.7 55.9, 184.2 56.5 Q 184.7 57.1, 184.7 58.1 Q 184.7 59.1, 184.2 59.7 Q 183.7 60.3, 182.7 60.3 Q 181.8 60.3, 181.3 59.7 Q 180.8 59.1, 180.8 58.1 M 182.7 59.8 Q 183.4 59.8, 183.7 59.4 Q 184.1 58.9, 184.1 58.1 Q 184.1 57.3, 183.7 56.8 Q 183.4 56.4, 182.7 56.4 Q 182.1 56.4, 181.7 56.8 Q 181.4 57.3, 181.4 58.1 Q 181.4 58.9, 181.7 59.4 Q 182.1 59.8, 182.7 59.8 \" fill=\"#FF0000\"/>\n",
       "<path class=\"atom-31\" d=\"M 169.1 93.0 Q 169.1 92.0, 169.6 91.4 Q 170.1 90.9, 171.0 90.9 Q 171.9 90.9, 172.5 91.4 Q 173.0 92.0, 173.0 93.0 Q 173.0 94.0, 172.4 94.6 Q 171.9 95.2, 171.0 95.2 Q 170.1 95.2, 169.6 94.6 Q 169.1 94.1, 169.1 93.0 M 171.0 94.7 Q 171.7 94.7, 172.0 94.3 Q 172.4 93.9, 172.4 93.0 Q 172.4 92.2, 172.0 91.8 Q 171.7 91.3, 171.0 91.3 Q 170.4 91.3, 170.0 91.8 Q 169.7 92.2, 169.7 93.0 Q 169.7 93.9, 170.0 94.3 Q 170.4 94.7, 171.0 94.7 \" fill=\"#FF0000\"/>\n",
       "<path class=\"atom-34\" d=\"M 144.9 93.2 Q 144.9 92.2, 145.4 91.7 Q 145.9 91.1, 146.9 91.1 Q 147.8 91.1, 148.3 91.7 Q 148.8 92.2, 148.8 93.2 Q 148.8 94.3, 148.3 94.9 Q 147.8 95.4, 146.9 95.4 Q 146.0 95.4, 145.4 94.9 Q 144.9 94.3, 144.9 93.2 M 146.9 95.0 Q 147.5 95.0, 147.9 94.5 Q 148.2 94.1, 148.2 93.2 Q 148.2 92.4, 147.9 92.0 Q 147.5 91.6, 146.9 91.6 Q 146.2 91.6, 145.9 92.0 Q 145.5 92.4, 145.5 93.2 Q 145.5 94.1, 145.9 94.5 Q 146.2 95.0, 146.9 95.0 \" fill=\"#FF0000\"/>\n",
       "<path class=\"atom-37\" d=\"M 108.4 58.8 Q 108.4 57.8, 108.9 57.2 Q 109.4 56.6, 110.4 56.6 Q 111.3 56.6, 111.8 57.2 Q 112.3 57.8, 112.3 58.8 Q 112.3 59.8, 111.8 60.4 Q 111.3 61.0, 110.4 61.0 Q 109.4 61.0, 108.9 60.4 Q 108.4 59.8, 108.4 58.8 M 110.4 60.5 Q 111.0 60.5, 111.4 60.1 Q 111.7 59.6, 111.7 58.8 Q 111.7 57.9, 111.4 57.5 Q 111.0 57.1, 110.4 57.1 Q 109.7 57.1, 109.4 57.5 Q 109.0 57.9, 109.0 58.8 Q 109.0 59.6, 109.4 60.1 Q 109.7 60.5, 110.4 60.5 \" fill=\"#FF0000\"/>\n",
       "<path class=\"atom-40\" d=\"M 84.3 59.0 Q 84.3 58.0, 84.8 57.4 Q 85.3 56.8, 86.3 56.8 Q 87.2 56.8, 87.7 57.4 Q 88.2 58.0, 88.2 59.0 Q 88.2 60.0, 87.7 60.6 Q 87.2 61.2, 86.3 61.2 Q 85.3 61.2, 84.8 60.6 Q 84.3 60.0, 84.3 59.0 M 86.3 60.7 Q 86.9 60.7, 87.3 60.3 Q 87.6 59.9, 87.6 59.0 Q 87.6 58.2, 87.3 57.8 Q 86.9 57.3, 86.3 57.3 Q 85.6 57.3, 85.3 57.7 Q 84.9 58.2, 84.9 59.0 Q 84.9 59.9, 85.3 60.3 Q 85.6 60.7, 86.3 60.7 \" fill=\"#FF0000\"/>\n",
       "<path class=\"atom-43\" d=\"M 60.2 59.2 Q 60.2 58.2, 60.7 57.6 Q 61.2 57.1, 62.1 57.1 Q 63.1 57.1, 63.6 57.6 Q 64.1 58.2, 64.1 59.2 Q 64.1 60.3, 63.6 60.9 Q 63.1 61.4, 62.1 61.4 Q 61.2 61.4, 60.7 60.9 Q 60.2 60.3, 60.2 59.2 M 62.1 61.0 Q 62.8 61.0, 63.1 60.5 Q 63.5 60.1, 63.5 59.2 Q 63.5 58.4, 63.1 58.0 Q 62.8 57.6, 62.1 57.6 Q 61.5 57.6, 61.1 58.0 Q 60.8 58.4, 60.8 59.2 Q 60.8 60.1, 61.1 60.5 Q 61.5 61.0, 62.1 61.0 \" fill=\"#FF0000\"/>\n",
       "<path class=\"atom-46\" d=\"M 36.2 73.4 Q 36.2 72.4, 36.7 71.8 Q 37.2 71.2, 38.2 71.2 Q 39.1 71.2, 39.6 71.8 Q 40.1 72.4, 40.1 73.4 Q 40.1 74.4, 39.6 75.0 Q 39.1 75.6, 38.2 75.6 Q 37.2 75.6, 36.7 75.0 Q 36.2 74.4, 36.2 73.4 M 38.2 75.1 Q 38.8 75.1, 39.2 74.7 Q 39.5 74.2, 39.5 73.4 Q 39.5 72.6, 39.2 72.1 Q 38.8 71.7, 38.2 71.7 Q 37.5 71.7, 37.2 72.1 Q 36.8 72.6, 36.8 73.4 Q 36.8 74.2, 37.2 74.7 Q 37.5 75.1, 38.2 75.1 \" fill=\"#FF0000\"/>\n",
       "<path class=\"atom-47\" d=\"M 20.0 78.4 L 20.6 78.4 L 20.6 80.2 L 22.8 80.2 L 22.8 78.4 L 23.3 78.4 L 23.3 82.6 L 22.8 82.6 L 22.8 80.6 L 20.6 80.6 L 20.6 82.6 L 20.0 82.6 L 20.0 78.4 \" fill=\"#FF0000\"/>\n",
       "<path class=\"atom-47\" d=\"M 24.2 80.5 Q 24.2 79.4, 24.7 78.9 Q 25.2 78.3, 26.2 78.3 Q 27.1 78.3, 27.6 78.9 Q 28.1 79.4, 28.1 80.5 Q 28.1 81.5, 27.6 82.1 Q 27.1 82.7, 26.2 82.7 Q 25.2 82.7, 24.7 82.1 Q 24.2 81.5, 24.2 80.5 M 26.2 82.2 Q 26.8 82.2, 27.2 81.8 Q 27.5 81.3, 27.5 80.5 Q 27.5 79.6, 27.2 79.2 Q 26.8 78.8, 26.2 78.8 Q 25.5 78.8, 25.2 79.2 Q 24.8 79.6, 24.8 80.5 Q 24.8 81.3, 25.2 81.8 Q 25.5 82.2, 26.2 82.2 \" fill=\"#FF0000\"/>\n",
       "</svg>"
      ],
      "text/plain": [
       "<IPython.core.display.SVG object>"
      ]
     },
     "execution_count": 7,
     "metadata": {},
     "output_type": "execute_result"
    }
   ],
   "source": [
    "# Generate the second generated molecule\n",
    "big_smiles_gen(big)"
   ]
  },
  {
   "cell_type": "markdown",
   "id": "91d066c0",
   "metadata": {},
   "source": [
    "Notice how the repeated C are different because of the stochastic object"
   ]
  },
  {
   "cell_type": "markdown",
   "id": "8b6b0eac",
   "metadata": {},
   "source": [
    "## Di-ols with 2-5 middle C total Mw 500"
   ]
  },
  {
   "cell_type": "code",
   "execution_count": 8,
   "id": "b9f4a9d7",
   "metadata": {},
   "outputs": [
    {
     "data": {
      "text/plain": [
       "'OC{[$][$]C[$][$]}|uniform(12, 72)|CO'"
      ]
     },
     "execution_count": 8,
     "metadata": {},
     "output_type": "execute_result"
    }
   ],
   "source": [
    "big = \"OC{[$][$]C[$][$]}|uniform(12, 72)|CO\"\n",
    "big"
   ]
  },
  {
   "cell_type": "code",
   "execution_count": 9,
   "id": "3de63ce7",
   "metadata": {},
   "outputs": [
    {
     "name": "stdout",
     "output_type": "stream",
     "text": [
      "OCCCCO\n",
      "0.4003666666666666\n",
      "2\n"
     ]
    },
    {
     "data": {
      "image/svg+xml": [
       "<svg xmlns=\"http://www.w3.org/2000/svg\" xmlns:rdkit=\"http://www.rdkit.org/xml\" xmlns:xlink=\"http://www.w3.org/1999/xlink\" version=\"1.1\" baseProfile=\"full\" xml:space=\"preserve\" width=\"450px\" height=\"150px\" viewBox=\"0 0 450 150\">\n",
       "<!-- END OF HEADER -->\n",
       "<rect style=\"opacity:1.0;fill:#FFFFFF;stroke:none\" width=\"450.0\" height=\"150.0\" x=\"0.0\" y=\"0.0\"> </rect>\n",
       "<path class=\"bond-0 atom-0 atom-1\" d=\"M 385.2,79.5 L 356.4,64.7\" style=\"fill:none;fill-rule:evenodd;stroke:#FF0000;stroke-width:2.0px;stroke-linecap:butt;stroke-linejoin:miter;stroke-opacity:1\"/>\n",
       "<path class=\"bond-0 atom-0 atom-1\" d=\"M 356.4,64.7 L 327.5,50.0\" style=\"fill:none;fill-rule:evenodd;stroke:#000000;stroke-width:2.0px;stroke-linecap:butt;stroke-linejoin:miter;stroke-opacity:1\"/>\n",
       "<path class=\"bond-1 atom-1 atom-2\" d=\"M 327.5,50.0 L 260.9,93.1\" style=\"fill:none;fill-rule:evenodd;stroke:#000000;stroke-width:2.0px;stroke-linecap:butt;stroke-linejoin:miter;stroke-opacity:1\"/>\n",
       "<path class=\"bond-2 atom-2 atom-3\" d=\"M 260.9,93.1 L 190.2,56.9\" style=\"fill:none;fill-rule:evenodd;stroke:#000000;stroke-width:2.0px;stroke-linecap:butt;stroke-linejoin:miter;stroke-opacity:1\"/>\n",
       "<path class=\"bond-3 atom-4 atom-5\" d=\"M 123.6,100.0 L 94.8,85.3\" style=\"fill:none;fill-rule:evenodd;stroke:#000000;stroke-width:2.0px;stroke-linecap:butt;stroke-linejoin:miter;stroke-opacity:1\"/>\n",
       "<path class=\"bond-3 atom-4 atom-5\" d=\"M 94.8,85.3 L 65.9,70.5\" style=\"fill:none;fill-rule:evenodd;stroke:#FF0000;stroke-width:2.0px;stroke-linecap:butt;stroke-linejoin:miter;stroke-opacity:1\"/>\n",
       "<path class=\"bond-4 atom-3 atom-4\" d=\"M 190.2,56.9 L 123.6,100.0\" style=\"fill:none;fill-rule:evenodd;stroke:#000000;stroke-width:2.0px;stroke-linecap:butt;stroke-linejoin:miter;stroke-opacity:1\"/>\n",
       "<path d=\"M 328.9,50.7 L 327.5,50.0 L 324.2,52.1\" style=\"fill:none;stroke:#000000;stroke-width:2.0px;stroke-linecap:butt;stroke-linejoin:miter;stroke-opacity:1;\"/>\n",
       "<path d=\"M 264.2,90.9 L 260.9,93.1 L 257.3,91.3\" style=\"fill:none;stroke:#000000;stroke-width:2.0px;stroke-linecap:butt;stroke-linejoin:miter;stroke-opacity:1;\"/>\n",
       "<path d=\"M 193.8,58.7 L 190.2,56.9 L 186.9,59.1\" style=\"fill:none;stroke:#000000;stroke-width:2.0px;stroke-linecap:butt;stroke-linejoin:miter;stroke-opacity:1;\"/>\n",
       "<path d=\"M 122.2,99.3 L 123.6,100.0 L 126.9,97.9\" style=\"fill:none;stroke:#000000;stroke-width:2.0px;stroke-linecap:butt;stroke-linejoin:miter;stroke-opacity:1;\"/>\n",
       "<path class=\"atom-0\" d=\"M 387.8 86.2 Q 387.8 80.8, 390.5 77.7 Q 393.2 74.7, 398.1 74.7 Q 403.1 74.7, 405.8 77.7 Q 408.5 80.8, 408.5 86.2 Q 408.5 91.6, 405.8 94.7 Q 403.1 97.8, 398.1 97.8 Q 393.2 97.8, 390.5 94.7 Q 387.8 91.6, 387.8 86.2 M 398.1 95.3 Q 401.6 95.3, 403.4 93.0 Q 405.3 90.7, 405.3 86.2 Q 405.3 81.7, 403.4 79.5 Q 401.6 77.3, 398.1 77.3 Q 394.7 77.3, 392.8 79.5 Q 391.0 81.7, 391.0 86.2 Q 391.0 90.7, 392.8 93.0 Q 394.7 95.3, 398.1 95.3 \" fill=\"#FF0000\"/>\n",
       "<path class=\"atom-0\" d=\"M 412.0 75.0 L 415.0 75.0 L 415.0 84.5 L 426.5 84.5 L 426.5 75.0 L 429.5 75.0 L 429.5 97.5 L 426.5 97.5 L 426.5 87.1 L 415.0 87.1 L 415.0 97.5 L 412.0 97.5 L 412.0 75.0 \" fill=\"#FF0000\"/>\n",
       "<path class=\"atom-5\" d=\"M 20.5 52.8 L 23.5 52.8 L 23.5 62.4 L 35.0 62.4 L 35.0 52.8 L 38.0 52.8 L 38.0 75.3 L 35.0 75.3 L 35.0 64.9 L 23.5 64.9 L 23.5 75.3 L 20.5 75.3 L 20.5 52.8 \" fill=\"#FF0000\"/>\n",
       "<path class=\"atom-5\" d=\"M 42.6 64.0 Q 42.6 58.6, 45.3 55.6 Q 48.0 52.5, 53.0 52.5 Q 57.9 52.5, 60.6 55.6 Q 63.3 58.6, 63.3 64.0 Q 63.3 69.4, 60.6 72.5 Q 57.9 75.6, 53.0 75.6 Q 48.0 75.6, 45.3 72.5 Q 42.6 69.5, 42.6 64.0 M 53.0 73.1 Q 56.4 73.1, 58.2 70.8 Q 60.1 68.5, 60.1 64.0 Q 60.1 59.6, 58.2 57.3 Q 56.4 55.1, 53.0 55.1 Q 49.5 55.1, 47.7 57.3 Q 45.8 59.5, 45.8 64.0 Q 45.8 68.5, 47.7 70.8 Q 49.5 73.1, 53.0 73.1 \" fill=\"#FF0000\"/>\n",
       "</svg>"
      ],
      "text/plain": [
       "<IPython.core.display.SVG object>"
      ]
     },
     "execution_count": 9,
     "metadata": {},
     "output_type": "execute_result"
    }
   ],
   "source": [
    "big_smiles_gen(big)"
   ]
  },
  {
   "cell_type": "code",
   "execution_count": 10,
   "id": "d8f11aa5",
   "metadata": {},
   "outputs": [
    {
     "name": "stdout",
     "output_type": "stream",
     "text": [
      "OCCCCCCO\n",
      "0.40036666666666654\n",
      "3\n"
     ]
    },
    {
     "data": {
      "image/svg+xml": [
       "<svg xmlns=\"http://www.w3.org/2000/svg\" xmlns:rdkit=\"http://www.rdkit.org/xml\" xmlns:xlink=\"http://www.w3.org/1999/xlink\" version=\"1.1\" baseProfile=\"full\" xml:space=\"preserve\" width=\"450px\" height=\"150px\" viewBox=\"0 0 450 150\">\n",
       "<!-- END OF HEADER -->\n",
       "<rect style=\"opacity:1.0;fill:#FFFFFF;stroke:none\" width=\"450.0\" height=\"150.0\" x=\"0.0\" y=\"0.0\"> </rect>\n",
       "<path class=\"bond-0 atom-0 atom-1\" d=\"M 396.3,79.5 L 375.0,68.0\" style=\"fill:none;fill-rule:evenodd;stroke:#FF0000;stroke-width:2.0px;stroke-linecap:butt;stroke-linejoin:miter;stroke-opacity:1\"/>\n",
       "<path class=\"bond-0 atom-0 atom-1\" d=\"M 375.0,68.0 L 353.7,56.5\" style=\"fill:none;fill-rule:evenodd;stroke:#000000;stroke-width:2.0px;stroke-linecap:butt;stroke-linejoin:miter;stroke-opacity:1\"/>\n",
       "<path class=\"bond-1 atom-1 atom-2\" d=\"M 353.7,56.5 L 303.1,87.6\" style=\"fill:none;fill-rule:evenodd;stroke:#000000;stroke-width:2.0px;stroke-linecap:butt;stroke-linejoin:miter;stroke-opacity:1\"/>\n",
       "<path class=\"bond-2 atom-2 atom-3\" d=\"M 303.1,87.6 L 250.7,59.3\" style=\"fill:none;fill-rule:evenodd;stroke:#000000;stroke-width:2.0px;stroke-linecap:butt;stroke-linejoin:miter;stroke-opacity:1\"/>\n",
       "<path class=\"bond-3 atom-3 atom-4\" d=\"M 250.7,59.3 L 200.1,90.5\" style=\"fill:none;fill-rule:evenodd;stroke:#000000;stroke-width:2.0px;stroke-linecap:butt;stroke-linejoin:miter;stroke-opacity:1\"/>\n",
       "<path class=\"bond-4 atom-4 atom-5\" d=\"M 200.1,90.5 L 147.8,62.2\" style=\"fill:none;fill-rule:evenodd;stroke:#000000;stroke-width:2.0px;stroke-linecap:butt;stroke-linejoin:miter;stroke-opacity:1\"/>\n",
       "<path class=\"bond-5 atom-6 atom-7\" d=\"M 97.1,93.4 L 75.8,81.9\" style=\"fill:none;fill-rule:evenodd;stroke:#000000;stroke-width:2.0px;stroke-linecap:butt;stroke-linejoin:miter;stroke-opacity:1\"/>\n",
       "<path class=\"bond-5 atom-6 atom-7\" d=\"M 75.8,81.9 L 54.5,70.3\" style=\"fill:none;fill-rule:evenodd;stroke:#FF0000;stroke-width:2.0px;stroke-linecap:butt;stroke-linejoin:miter;stroke-opacity:1\"/>\n",
       "<path class=\"bond-6 atom-5 atom-6\" d=\"M 147.8,62.2 L 97.1,93.4\" style=\"fill:none;fill-rule:evenodd;stroke:#000000;stroke-width:2.0px;stroke-linecap:butt;stroke-linejoin:miter;stroke-opacity:1\"/>\n",
       "<path d=\"M 354.8,57.0 L 353.7,56.5 L 351.2,58.0\" style=\"fill:none;stroke:#000000;stroke-width:2.0px;stroke-linecap:butt;stroke-linejoin:miter;stroke-opacity:1;\"/>\n",
       "<path d=\"M 305.6,86.1 L 303.1,87.6 L 300.4,86.2\" style=\"fill:none;stroke:#000000;stroke-width:2.0px;stroke-linecap:butt;stroke-linejoin:miter;stroke-opacity:1;\"/>\n",
       "<path d=\"M 253.4,60.8 L 250.7,59.3 L 248.2,60.9\" style=\"fill:none;stroke:#000000;stroke-width:2.0px;stroke-linecap:butt;stroke-linejoin:miter;stroke-opacity:1;\"/>\n",
       "<path d=\"M 202.6,88.9 L 200.1,90.5 L 197.5,89.1\" style=\"fill:none;stroke:#000000;stroke-width:2.0px;stroke-linecap:butt;stroke-linejoin:miter;stroke-opacity:1;\"/>\n",
       "<path d=\"M 150.4,63.6 L 147.8,62.2 L 145.2,63.8\" style=\"fill:none;stroke:#000000;stroke-width:2.0px;stroke-linecap:butt;stroke-linejoin:miter;stroke-opacity:1;\"/>\n",
       "<path d=\"M 96.1,92.8 L 97.1,93.4 L 99.7,91.8\" style=\"fill:none;stroke:#000000;stroke-width:2.0px;stroke-linecap:butt;stroke-linejoin:miter;stroke-opacity:1;\"/>\n",
       "<path class=\"atom-0\" d=\"M 398.3 84.8 Q 398.3 80.8, 400.3 78.5 Q 402.3 76.2, 406.0 76.2 Q 409.7 76.2, 411.7 78.5 Q 413.7 80.8, 413.7 84.8 Q 413.7 88.9, 411.7 91.2 Q 409.7 93.5, 406.0 93.5 Q 402.3 93.5, 400.3 91.2 Q 398.3 88.9, 398.3 84.8 M 406.0 91.6 Q 408.6 91.6, 410.0 89.9 Q 411.4 88.2, 411.4 84.8 Q 411.4 81.5, 410.0 79.8 Q 408.6 78.1, 406.0 78.1 Q 403.4 78.1, 402.0 79.8 Q 400.7 81.5, 400.7 84.8 Q 400.7 88.2, 402.0 89.9 Q 403.4 91.6, 406.0 91.6 \" fill=\"#FF0000\"/>\n",
       "<path class=\"atom-0\" d=\"M 416.4 76.4 L 418.7 76.4 L 418.7 83.6 L 427.3 83.6 L 427.3 76.4 L 429.5 76.4 L 429.5 93.3 L 427.3 93.3 L 427.3 85.5 L 418.7 85.5 L 418.7 93.3 L 416.4 93.3 L 416.4 76.4 \" fill=\"#FF0000\"/>\n",
       "<path class=\"atom-7\" d=\"M 20.5 56.8 L 22.7 56.8 L 22.7 63.9 L 31.3 63.9 L 31.3 56.8 L 33.6 56.8 L 33.6 73.6 L 31.3 73.6 L 31.3 65.8 L 22.7 65.8 L 22.7 73.6 L 20.5 73.6 L 20.5 56.8 \" fill=\"#FF0000\"/>\n",
       "<path class=\"atom-7\" d=\"M 37.1 65.1 Q 37.1 61.1, 39.1 58.8 Q 41.1 56.6, 44.8 56.6 Q 48.6 56.6, 50.6 58.8 Q 52.5 61.1, 52.5 65.1 Q 52.5 69.2, 50.5 71.6 Q 48.5 73.9, 44.8 73.9 Q 41.1 73.9, 39.1 71.6 Q 37.1 69.3, 37.1 65.1 M 44.8 72.0 Q 47.4 72.0, 48.8 70.3 Q 50.2 68.5, 50.2 65.1 Q 50.2 61.8, 48.8 60.2 Q 47.4 58.5, 44.8 58.5 Q 42.2 58.5, 40.8 60.1 Q 39.5 61.8, 39.5 65.1 Q 39.5 68.5, 40.8 70.3 Q 42.2 72.0, 44.8 72.0 \" fill=\"#FF0000\"/>\n",
       "</svg>"
      ],
      "text/plain": [
       "<IPython.core.display.SVG object>"
      ]
     },
     "execution_count": 10,
     "metadata": {},
     "output_type": "execute_result"
    }
   ],
   "source": [
    "big_smiles_gen(big)"
   ]
  },
  {
   "cell_type": "code",
   "execution_count": 11,
   "id": "2d414813",
   "metadata": {},
   "outputs": [
    {
     "name": "stdout",
     "output_type": "stream",
     "text": [
      "OCCCCCCCCO\n",
      "0.39816666666666733\n",
      "4\n"
     ]
    },
    {
     "data": {
      "image/svg+xml": [
       "<svg xmlns=\"http://www.w3.org/2000/svg\" xmlns:rdkit=\"http://www.rdkit.org/xml\" xmlns:xlink=\"http://www.w3.org/1999/xlink\" version=\"1.1\" baseProfile=\"full\" xml:space=\"preserve\" width=\"450px\" height=\"150px\" viewBox=\"0 0 450 150\">\n",
       "<!-- END OF HEADER -->\n",
       "<rect style=\"opacity:1.0;fill:#FFFFFF;stroke:none\" width=\"450.0\" height=\"150.0\" x=\"0.0\" y=\"0.0\"> </rect>\n",
       "<path class=\"bond-0 atom-0 atom-1\" d=\"M 403.0,79.2 L 386.1,69.8\" style=\"fill:none;fill-rule:evenodd;stroke:#FF0000;stroke-width:2.0px;stroke-linecap:butt;stroke-linejoin:miter;stroke-opacity:1\"/>\n",
       "<path class=\"bond-0 atom-0 atom-1\" d=\"M 386.1,69.8 L 369.2,60.5\" style=\"fill:none;fill-rule:evenodd;stroke:#000000;stroke-width:2.0px;stroke-linecap:butt;stroke-linejoin:miter;stroke-opacity:1\"/>\n",
       "<path class=\"bond-1 atom-1 atom-2\" d=\"M 369.2,60.5 L 328.4,85.0\" style=\"fill:none;fill-rule:evenodd;stroke:#000000;stroke-width:2.0px;stroke-linecap:butt;stroke-linejoin:miter;stroke-opacity:1\"/>\n",
       "<path class=\"bond-2 atom-2 atom-3\" d=\"M 328.4,85.0 L 286.9,61.9\" style=\"fill:none;fill-rule:evenodd;stroke:#000000;stroke-width:2.0px;stroke-linecap:butt;stroke-linejoin:miter;stroke-opacity:1\"/>\n",
       "<path class=\"bond-3 atom-3 atom-4\" d=\"M 286.9,61.9 L 246.1,86.4\" style=\"fill:none;fill-rule:evenodd;stroke:#000000;stroke-width:2.0px;stroke-linecap:butt;stroke-linejoin:miter;stroke-opacity:1\"/>\n",
       "<path class=\"bond-4 atom-4 atom-5\" d=\"M 246.1,86.4 L 204.5,63.4\" style=\"fill:none;fill-rule:evenodd;stroke:#000000;stroke-width:2.0px;stroke-linecap:butt;stroke-linejoin:miter;stroke-opacity:1\"/>\n",
       "<path class=\"bond-5 atom-5 atom-6\" d=\"M 204.5,63.4 L 163.8,87.9\" style=\"fill:none;fill-rule:evenodd;stroke:#000000;stroke-width:2.0px;stroke-linecap:butt;stroke-linejoin:miter;stroke-opacity:1\"/>\n",
       "<path class=\"bond-6 atom-6 atom-7\" d=\"M 163.8,87.9 L 122.2,64.8\" style=\"fill:none;fill-rule:evenodd;stroke:#000000;stroke-width:2.0px;stroke-linecap:butt;stroke-linejoin:miter;stroke-opacity:1\"/>\n",
       "<path class=\"bond-7 atom-8 atom-9\" d=\"M 81.5,89.3 L 64.6,80.0\" style=\"fill:none;fill-rule:evenodd;stroke:#000000;stroke-width:2.0px;stroke-linecap:butt;stroke-linejoin:miter;stroke-opacity:1\"/>\n",
       "<path class=\"bond-7 atom-8 atom-9\" d=\"M 64.6,80.0 L 47.7,70.6\" style=\"fill:none;fill-rule:evenodd;stroke:#FF0000;stroke-width:2.0px;stroke-linecap:butt;stroke-linejoin:miter;stroke-opacity:1\"/>\n",
       "<path class=\"bond-8 atom-7 atom-8\" d=\"M 122.2,64.8 L 81.5,89.3\" style=\"fill:none;fill-rule:evenodd;stroke:#000000;stroke-width:2.0px;stroke-linecap:butt;stroke-linejoin:miter;stroke-opacity:1\"/>\n",
       "<path d=\"M 370.0,60.9 L 369.2,60.5 L 367.1,61.7\" style=\"fill:none;stroke:#000000;stroke-width:2.0px;stroke-linecap:butt;stroke-linejoin:miter;stroke-opacity:1;\"/>\n",
       "<path d=\"M 330.5,83.7 L 328.4,85.0 L 326.4,83.8\" style=\"fill:none;stroke:#000000;stroke-width:2.0px;stroke-linecap:butt;stroke-linejoin:miter;stroke-opacity:1;\"/>\n",
       "<path d=\"M 288.9,63.1 L 286.9,61.9 L 284.8,63.1\" style=\"fill:none;stroke:#000000;stroke-width:2.0px;stroke-linecap:butt;stroke-linejoin:miter;stroke-opacity:1;\"/>\n",
       "<path d=\"M 248.2,85.2 L 246.1,86.4 L 244.0,85.3\" style=\"fill:none;stroke:#000000;stroke-width:2.0px;stroke-linecap:butt;stroke-linejoin:miter;stroke-opacity:1;\"/>\n",
       "<path d=\"M 206.6,64.5 L 204.5,63.4 L 202.5,64.6\" style=\"fill:none;stroke:#000000;stroke-width:2.0px;stroke-linecap:butt;stroke-linejoin:miter;stroke-opacity:1;\"/>\n",
       "<path d=\"M 165.8,86.6 L 163.8,87.9 L 161.7,86.7\" style=\"fill:none;stroke:#000000;stroke-width:2.0px;stroke-linecap:butt;stroke-linejoin:miter;stroke-opacity:1;\"/>\n",
       "<path d=\"M 124.3,66.0 L 122.2,64.8 L 120.2,66.1\" style=\"fill:none;stroke:#000000;stroke-width:2.0px;stroke-linecap:butt;stroke-linejoin:miter;stroke-opacity:1;\"/>\n",
       "<path d=\"M 80.7,88.9 L 81.5,89.3 L 83.5,88.1\" style=\"fill:none;stroke:#000000;stroke-width:2.0px;stroke-linecap:butt;stroke-linejoin:miter;stroke-opacity:1;\"/>\n",
       "<path class=\"atom-0\" d=\"M 404.6 83.5 Q 404.6 80.3, 406.2 78.5 Q 407.8 76.7, 410.7 76.7 Q 413.7 76.7, 415.3 78.5 Q 416.9 80.3, 416.9 83.5 Q 416.9 86.8, 415.3 88.7 Q 413.7 90.5, 410.7 90.5 Q 407.8 90.5, 406.2 88.7 Q 404.6 86.8, 404.6 83.5 M 410.7 89.0 Q 412.8 89.0, 413.9 87.6 Q 415.0 86.2, 415.0 83.5 Q 415.0 80.9, 413.9 79.6 Q 412.8 78.2, 410.7 78.2 Q 408.7 78.2, 407.6 79.5 Q 406.5 80.9, 406.5 83.5 Q 406.5 86.3, 407.6 87.6 Q 408.7 89.0, 410.7 89.0 \" fill=\"#FF0000\"/>\n",
       "<path class=\"atom-0\" d=\"M 419.0 76.8 L 420.8 76.8 L 420.8 82.6 L 427.7 82.6 L 427.7 76.8 L 429.5 76.8 L 429.5 90.3 L 427.7 90.3 L 427.7 84.1 L 420.8 84.1 L 420.8 90.3 L 419.0 90.3 L 419.0 76.8 \" fill=\"#FF0000\"/>\n",
       "<path class=\"atom-9\" d=\"M 20.5 59.6 L 22.3 59.6 L 22.3 65.4 L 29.2 65.4 L 29.2 59.6 L 31.0 59.6 L 31.0 73.1 L 29.2 73.1 L 29.2 66.9 L 22.3 66.9 L 22.3 73.1 L 20.5 73.1 L 20.5 59.6 \" fill=\"#FF0000\"/>\n",
       "<path class=\"atom-9\" d=\"M 33.7 66.3 Q 33.7 63.1, 35.3 61.3 Q 36.9 59.5, 39.9 59.5 Q 42.9 59.5, 44.5 61.3 Q 46.1 63.1, 46.1 66.3 Q 46.1 69.6, 44.5 71.5 Q 42.9 73.3, 39.9 73.3 Q 37.0 73.3, 35.3 71.5 Q 33.7 69.6, 33.7 66.3 M 39.9 71.8 Q 42.0 71.8, 43.1 70.4 Q 44.2 69.0, 44.2 66.3 Q 44.2 63.7, 43.1 62.4 Q 42.0 61.0, 39.9 61.0 Q 37.9 61.0, 36.8 62.3 Q 35.6 63.7, 35.6 66.3 Q 35.6 69.0, 36.8 70.4 Q 37.9 71.8, 39.9 71.8 \" fill=\"#FF0000\"/>\n",
       "</svg>"
      ],
      "text/plain": [
       "<IPython.core.display.SVG object>"
      ]
     },
     "execution_count": 11,
     "metadata": {},
     "output_type": "execute_result"
    }
   ],
   "source": [
    "big_smiles_gen(big)"
   ]
  },
  {
   "cell_type": "markdown",
   "id": "a3a781f5",
   "metadata": {},
   "source": [
    "## Di-ols with 2-5 middle Cyclohexane ring total Mw 500"
   ]
  },
  {
   "cell_type": "code",
   "execution_count": 12,
   "id": "a7c4b04f",
   "metadata": {},
   "outputs": [
    {
     "data": {
      "text/plain": [
       "'OC{[$][$]C([$])C1CCCCC1[$]}|uniform(84, 420)|CO'"
      ]
     },
     "execution_count": 12,
     "metadata": {},
     "output_type": "execute_result"
    }
   ],
   "source": [
    "big = \"OC{[$][$]C([$])C1CCCCC1[$]}|uniform(84, 420)|CO\"\n",
    "big"
   ]
  },
  {
   "cell_type": "code",
   "execution_count": 13,
   "id": "cff28b06",
   "metadata": {},
   "outputs": [
    {
     "name": "stdout",
     "output_type": "stream",
     "text": [
      "OCC(C1CCCCC1)C(C1CCCCC1)C(CO)C1CCCCC1\n",
      "0.5004583333333332\n",
      "5\n"
     ]
    },
    {
     "data": {
      "image/svg+xml": [
       "<svg xmlns=\"http://www.w3.org/2000/svg\" xmlns:rdkit=\"http://www.rdkit.org/xml\" xmlns:xlink=\"http://www.w3.org/1999/xlink\" version=\"1.1\" baseProfile=\"full\" xml:space=\"preserve\" width=\"450px\" height=\"150px\" viewBox=\"0 0 450 150\">\n",
       "<!-- END OF HEADER -->\n",
       "<rect style=\"opacity:1.0;fill:#FFFFFF;stroke:none\" width=\"450.0\" height=\"150.0\" x=\"0.0\" y=\"0.0\"> </rect>\n",
       "<path class=\"bond-0 atom-0 atom-1\" d=\"M 218.2,13.1 L 227.5,18.6\" style=\"fill:none;fill-rule:evenodd;stroke:#FF0000;stroke-width:2.0px;stroke-linecap:butt;stroke-linejoin:miter;stroke-opacity:1\"/>\n",
       "<path class=\"bond-0 atom-0 atom-1\" d=\"M 227.5,18.6 L 236.9,24.0\" style=\"fill:none;fill-rule:evenodd;stroke:#000000;stroke-width:2.0px;stroke-linecap:butt;stroke-linejoin:miter;stroke-opacity:1\"/>\n",
       "<path class=\"bond-1 atom-2 atom-3\" d=\"M 236.7,50.6 L 259.7,64.0\" style=\"fill:none;fill-rule:evenodd;stroke:#000000;stroke-width:2.0px;stroke-linecap:butt;stroke-linejoin:miter;stroke-opacity:1\"/>\n",
       "<path class=\"bond-2 atom-3 atom-4\" d=\"M 259.7,64.0 L 259.5,90.5\" style=\"fill:none;fill-rule:evenodd;stroke:#000000;stroke-width:2.0px;stroke-linecap:butt;stroke-linejoin:miter;stroke-opacity:1\"/>\n",
       "<path class=\"bond-3 atom-4 atom-5\" d=\"M 259.5,90.5 L 282.5,103.9\" style=\"fill:none;fill-rule:evenodd;stroke:#000000;stroke-width:2.0px;stroke-linecap:butt;stroke-linejoin:miter;stroke-opacity:1\"/>\n",
       "<path class=\"bond-4 atom-5 atom-6\" d=\"M 282.5,103.9 L 305.5,90.7\" style=\"fill:none;fill-rule:evenodd;stroke:#000000;stroke-width:2.0px;stroke-linecap:butt;stroke-linejoin:miter;stroke-opacity:1\"/>\n",
       "<path class=\"bond-5 atom-6 atom-7\" d=\"M 305.5,90.7 L 305.7,64.2\" style=\"fill:none;fill-rule:evenodd;stroke:#000000;stroke-width:2.0px;stroke-linecap:butt;stroke-linejoin:miter;stroke-opacity:1\"/>\n",
       "<path class=\"bond-6 atom-7 atom-8\" d=\"M 305.7,64.2 L 282.7,50.8\" style=\"fill:none;fill-rule:evenodd;stroke:#000000;stroke-width:2.0px;stroke-linecap:butt;stroke-linejoin:miter;stroke-opacity:1\"/>\n",
       "<path class=\"bond-7 atom-8 atom-3\" d=\"M 282.7,50.8 L 259.7,64.0\" style=\"fill:none;fill-rule:evenodd;stroke:#000000;stroke-width:2.0px;stroke-linecap:butt;stroke-linejoin:miter;stroke-opacity:1\"/>\n",
       "<path class=\"bond-8 atom-1 atom-2\" d=\"M 236.9,24.0 L 236.7,50.6\" style=\"fill:none;fill-rule:evenodd;stroke:#000000;stroke-width:2.0px;stroke-linecap:butt;stroke-linejoin:miter;stroke-opacity:1\"/>\n",
       "<path class=\"bond-9 atom-9 atom-10\" d=\"M 213.7,63.7 L 190.7,50.3\" style=\"fill:none;fill-rule:evenodd;stroke:#000000;stroke-width:2.0px;stroke-linecap:butt;stroke-linejoin:miter;stroke-opacity:1\"/>\n",
       "<path class=\"bond-10 atom-10 atom-11\" d=\"M 190.7,50.3 L 190.9,23.8\" style=\"fill:none;fill-rule:evenodd;stroke:#000000;stroke-width:2.0px;stroke-linecap:butt;stroke-linejoin:miter;stroke-opacity:1\"/>\n",
       "<path class=\"bond-11 atom-11 atom-12\" d=\"M 190.9,23.8 L 167.9,10.4\" style=\"fill:none;fill-rule:evenodd;stroke:#000000;stroke-width:2.0px;stroke-linecap:butt;stroke-linejoin:miter;stroke-opacity:1\"/>\n",
       "<path class=\"bond-12 atom-12 atom-13\" d=\"M 167.9,10.4 L 144.9,23.6\" style=\"fill:none;fill-rule:evenodd;stroke:#000000;stroke-width:2.0px;stroke-linecap:butt;stroke-linejoin:miter;stroke-opacity:1\"/>\n",
       "<path class=\"bond-13 atom-13 atom-14\" d=\"M 144.9,23.6 L 144.7,50.1\" style=\"fill:none;fill-rule:evenodd;stroke:#000000;stroke-width:2.0px;stroke-linecap:butt;stroke-linejoin:miter;stroke-opacity:1\"/>\n",
       "<path class=\"bond-14 atom-14 atom-15\" d=\"M 144.7,50.1 L 167.7,63.5\" style=\"fill:none;fill-rule:evenodd;stroke:#000000;stroke-width:2.0px;stroke-linecap:butt;stroke-linejoin:miter;stroke-opacity:1\"/>\n",
       "<path class=\"bond-15 atom-15 atom-10\" d=\"M 167.7,63.5 L 190.7,50.3\" style=\"fill:none;fill-rule:evenodd;stroke:#000000;stroke-width:2.0px;stroke-linecap:butt;stroke-linejoin:miter;stroke-opacity:1\"/>\n",
       "<path class=\"bond-16 atom-2 atom-9\" d=\"M 236.7,50.6 L 213.7,63.7\" style=\"fill:none;fill-rule:evenodd;stroke:#000000;stroke-width:2.0px;stroke-linecap:butt;stroke-linejoin:miter;stroke-opacity:1\"/>\n",
       "<path class=\"bond-17 atom-16 atom-17\" d=\"M 213.5,90.3 L 190.5,103.5\" style=\"fill:none;fill-rule:evenodd;stroke:#000000;stroke-width:2.0px;stroke-linecap:butt;stroke-linejoin:miter;stroke-opacity:1\"/>\n",
       "<path class=\"bond-18 atom-17 atom-18\" d=\"M 190.5,103.5 L 167.5,90.1\" style=\"fill:none;fill-rule:evenodd;stroke:#000000;stroke-width:2.0px;stroke-linecap:butt;stroke-linejoin:miter;stroke-opacity:1\"/>\n",
       "<path class=\"bond-19 atom-18 atom-19\" d=\"M 167.5,90.1 L 144.5,103.2\" style=\"fill:none;fill-rule:evenodd;stroke:#000000;stroke-width:2.0px;stroke-linecap:butt;stroke-linejoin:miter;stroke-opacity:1\"/>\n",
       "<path class=\"bond-20 atom-19 atom-20\" d=\"M 144.5,103.2 L 144.3,129.8\" style=\"fill:none;fill-rule:evenodd;stroke:#000000;stroke-width:2.0px;stroke-linecap:butt;stroke-linejoin:miter;stroke-opacity:1\"/>\n",
       "<path class=\"bond-21 atom-20 atom-21\" d=\"M 144.3,129.8 L 167.3,143.2\" style=\"fill:none;fill-rule:evenodd;stroke:#000000;stroke-width:2.0px;stroke-linecap:butt;stroke-linejoin:miter;stroke-opacity:1\"/>\n",
       "<path class=\"bond-22 atom-21 atom-22\" d=\"M 167.3,143.2 L 190.3,130.0\" style=\"fill:none;fill-rule:evenodd;stroke:#000000;stroke-width:2.0px;stroke-linecap:butt;stroke-linejoin:miter;stroke-opacity:1\"/>\n",
       "<path class=\"bond-23 atom-22 atom-17\" d=\"M 190.3,130.0 L 190.5,103.5\" style=\"fill:none;fill-rule:evenodd;stroke:#000000;stroke-width:2.0px;stroke-linecap:butt;stroke-linejoin:miter;stroke-opacity:1\"/>\n",
       "<path class=\"bond-24 atom-9 atom-16\" d=\"M 213.7,63.7 L 213.5,90.3\" style=\"fill:none;fill-rule:evenodd;stroke:#000000;stroke-width:2.0px;stroke-linecap:butt;stroke-linejoin:miter;stroke-opacity:1\"/>\n",
       "<path class=\"bond-25 atom-23 atom-24\" d=\"M 236.5,103.7 L 236.4,114.6\" style=\"fill:none;fill-rule:evenodd;stroke:#000000;stroke-width:2.0px;stroke-linecap:butt;stroke-linejoin:miter;stroke-opacity:1\"/>\n",
       "<path class=\"bond-25 atom-23 atom-24\" d=\"M 236.4,114.6 L 236.4,125.6\" style=\"fill:none;fill-rule:evenodd;stroke:#FF0000;stroke-width:2.0px;stroke-linecap:butt;stroke-linejoin:miter;stroke-opacity:1\"/>\n",
       "<path class=\"bond-26 atom-16 atom-23\" d=\"M 213.5,90.3 L 236.5,103.7\" style=\"fill:none;fill-rule:evenodd;stroke:#000000;stroke-width:2.0px;stroke-linecap:butt;stroke-linejoin:miter;stroke-opacity:1\"/>\n",
       "<path d=\"M 236.4,23.7 L 236.9,24.0 L 236.8,25.3\" style=\"fill:none;stroke:#000000;stroke-width:2.0px;stroke-linecap:butt;stroke-linejoin:miter;stroke-opacity:1;\"/>\n",
       "<path d=\"M 259.5,89.2 L 259.5,90.5 L 260.7,91.2\" style=\"fill:none;stroke:#000000;stroke-width:2.0px;stroke-linecap:butt;stroke-linejoin:miter;stroke-opacity:1;\"/>\n",
       "<path d=\"M 281.3,103.2 L 282.5,103.9 L 283.6,103.2\" style=\"fill:none;stroke:#000000;stroke-width:2.0px;stroke-linecap:butt;stroke-linejoin:miter;stroke-opacity:1;\"/>\n",
       "<path d=\"M 304.4,91.4 L 305.5,90.7 L 305.5,89.4\" style=\"fill:none;stroke:#000000;stroke-width:2.0px;stroke-linecap:butt;stroke-linejoin:miter;stroke-opacity:1;\"/>\n",
       "<path d=\"M 305.6,65.5 L 305.7,64.2 L 304.5,63.5\" style=\"fill:none;stroke:#000000;stroke-width:2.0px;stroke-linecap:butt;stroke-linejoin:miter;stroke-opacity:1;\"/>\n",
       "<path d=\"M 283.9,51.5 L 282.7,50.8 L 281.6,51.4\" style=\"fill:none;stroke:#000000;stroke-width:2.0px;stroke-linecap:butt;stroke-linejoin:miter;stroke-opacity:1;\"/>\n",
       "<path d=\"M 190.8,25.1 L 190.9,23.8 L 189.7,23.1\" style=\"fill:none;stroke:#000000;stroke-width:2.0px;stroke-linecap:butt;stroke-linejoin:miter;stroke-opacity:1;\"/>\n",
       "<path d=\"M 169.1,11.1 L 167.9,10.4 L 166.8,11.1\" style=\"fill:none;stroke:#000000;stroke-width:2.0px;stroke-linecap:butt;stroke-linejoin:miter;stroke-opacity:1;\"/>\n",
       "<path d=\"M 146.0,22.9 L 144.9,23.6 L 144.9,24.9\" style=\"fill:none;stroke:#000000;stroke-width:2.0px;stroke-linecap:butt;stroke-linejoin:miter;stroke-opacity:1;\"/>\n",
       "<path d=\"M 144.7,48.8 L 144.7,50.1 L 145.9,50.8\" style=\"fill:none;stroke:#000000;stroke-width:2.0px;stroke-linecap:butt;stroke-linejoin:miter;stroke-opacity:1;\"/>\n",
       "<path d=\"M 166.5,62.8 L 167.7,63.5 L 168.8,62.9\" style=\"fill:none;stroke:#000000;stroke-width:2.0px;stroke-linecap:butt;stroke-linejoin:miter;stroke-opacity:1;\"/>\n",
       "<path d=\"M 168.7,90.7 L 167.5,90.1 L 166.4,90.7\" style=\"fill:none;stroke:#000000;stroke-width:2.0px;stroke-linecap:butt;stroke-linejoin:miter;stroke-opacity:1;\"/>\n",
       "<path d=\"M 145.6,102.6 L 144.5,103.2 L 144.5,104.6\" style=\"fill:none;stroke:#000000;stroke-width:2.0px;stroke-linecap:butt;stroke-linejoin:miter;stroke-opacity:1;\"/>\n",
       "<path d=\"M 144.4,128.5 L 144.3,129.8 L 145.5,130.5\" style=\"fill:none;stroke:#000000;stroke-width:2.0px;stroke-linecap:butt;stroke-linejoin:miter;stroke-opacity:1;\"/>\n",
       "<path d=\"M 166.1,142.5 L 167.3,143.2 L 168.4,142.5\" style=\"fill:none;stroke:#000000;stroke-width:2.0px;stroke-linecap:butt;stroke-linejoin:miter;stroke-opacity:1;\"/>\n",
       "<path d=\"M 189.2,130.7 L 190.3,130.0 L 190.3,128.7\" style=\"fill:none;stroke:#000000;stroke-width:2.0px;stroke-linecap:butt;stroke-linejoin:miter;stroke-opacity:1;\"/>\n",
       "<path d=\"M 236.5,104.2 L 236.5,103.7 L 235.3,103.0\" style=\"fill:none;stroke:#000000;stroke-width:2.0px;stroke-linecap:butt;stroke-linejoin:miter;stroke-opacity:1;\"/>\n",
       "<path class=\"atom-0\" d=\"M 203.0 6.9 L 204.1 6.9 L 204.1 10.1 L 207.9 10.1 L 207.9 6.9 L 208.9 6.9 L 208.9 14.4 L 207.9 14.4 L 207.9 11.0 L 204.1 11.0 L 204.1 14.4 L 203.0 14.4 L 203.0 6.9 \" fill=\"#FF0000\"/>\n",
       "<path class=\"atom-0\" d=\"M 210.5 10.6 Q 210.5 8.8, 211.4 7.8 Q 212.2 6.8, 213.9 6.8 Q 215.6 6.8, 216.5 7.8 Q 217.4 8.8, 217.4 10.6 Q 217.4 12.5, 216.5 13.5 Q 215.6 14.5, 213.9 14.5 Q 212.3 14.5, 211.4 13.5 Q 210.5 12.5, 210.5 10.6 M 213.9 13.7 Q 215.1 13.7, 215.7 12.9 Q 216.3 12.2, 216.3 10.6 Q 216.3 9.2, 215.7 8.4 Q 215.1 7.7, 213.9 7.7 Q 212.8 7.7, 212.1 8.4 Q 211.5 9.2, 211.5 10.6 Q 211.5 12.2, 212.1 12.9 Q 212.8 13.7, 213.9 13.7 \" fill=\"#FF0000\"/>\n",
       "<path class=\"atom-24\" d=\"M 232.9 130.3 Q 232.9 128.5, 233.8 127.4 Q 234.7 126.4, 236.3 126.4 Q 238.0 126.4, 238.9 127.4 Q 239.8 128.5, 239.8 130.3 Q 239.8 132.1, 238.9 133.1 Q 238.0 134.2, 236.3 134.2 Q 234.7 134.2, 233.8 133.1 Q 232.9 132.1, 232.9 130.3 M 236.3 133.3 Q 237.5 133.3, 238.1 132.5 Q 238.7 131.8, 238.7 130.3 Q 238.7 128.8, 238.1 128.0 Q 237.5 127.3, 236.3 127.3 Q 235.2 127.3, 234.6 128.0 Q 233.9 128.8, 233.9 130.3 Q 233.9 131.8, 234.6 132.5 Q 235.2 133.3, 236.3 133.3 \" fill=\"#FF0000\"/>\n",
       "<path class=\"atom-24\" d=\"M 241.0 126.5 L 242.0 126.5 L 242.0 129.7 L 245.8 129.7 L 245.8 126.5 L 246.8 126.5 L 246.8 134.0 L 245.8 134.0 L 245.8 130.6 L 242.0 130.6 L 242.0 134.0 L 241.0 134.0 L 241.0 126.5 \" fill=\"#FF0000\"/>\n",
       "</svg>"
      ],
      "text/plain": [
       "<IPython.core.display.SVG object>"
      ]
     },
     "execution_count": 13,
     "metadata": {},
     "output_type": "execute_result"
    }
   ],
   "source": [
    "big_smiles_gen(big)"
   ]
  },
  {
   "cell_type": "code",
   "execution_count": 14,
   "id": "de885cd0",
   "metadata": {},
   "outputs": [
    {
     "name": "stdout",
     "output_type": "stream",
     "text": [
      "OCC(C1CCCCC1)C(CO)C1CCCCC1\n",
      "0.5004583333333332\n",
      "6\n"
     ]
    },
    {
     "data": {
      "image/svg+xml": [
       "<svg xmlns=\"http://www.w3.org/2000/svg\" xmlns:rdkit=\"http://www.rdkit.org/xml\" xmlns:xlink=\"http://www.w3.org/1999/xlink\" version=\"1.1\" baseProfile=\"full\" xml:space=\"preserve\" width=\"450px\" height=\"150px\" viewBox=\"0 0 450 150\">\n",
       "<!-- END OF HEADER -->\n",
       "<rect style=\"opacity:1.0;fill:#FFFFFF;stroke:none\" width=\"450.0\" height=\"150.0\" x=\"0.0\" y=\"0.0\"> </rect>\n",
       "<path class=\"bond-0 atom-0 atom-1\" d=\"M 225.8,15.1 L 233.3,22.5\" style=\"fill:none;fill-rule:evenodd;stroke:#FF0000;stroke-width:2.0px;stroke-linecap:butt;stroke-linejoin:miter;stroke-opacity:1\"/>\n",
       "<path class=\"bond-0 atom-0 atom-1\" d=\"M 233.3,22.5 L 240.8,29.9\" style=\"fill:none;fill-rule:evenodd;stroke:#000000;stroke-width:2.0px;stroke-linecap:butt;stroke-linejoin:miter;stroke-opacity:1\"/>\n",
       "<path class=\"bond-1 atom-2 atom-3\" d=\"M 234.0,56.4 L 253.5,75.5\" style=\"fill:none;fill-rule:evenodd;stroke:#000000;stroke-width:2.0px;stroke-linecap:butt;stroke-linejoin:miter;stroke-opacity:1\"/>\n",
       "<path class=\"bond-2 atom-3 atom-4\" d=\"M 253.5,75.5 L 246.7,102.0\" style=\"fill:none;fill-rule:evenodd;stroke:#000000;stroke-width:2.0px;stroke-linecap:butt;stroke-linejoin:miter;stroke-opacity:1\"/>\n",
       "<path class=\"bond-3 atom-4 atom-5\" d=\"M 246.7,102.0 L 266.2,121.2\" style=\"fill:none;fill-rule:evenodd;stroke:#000000;stroke-width:2.0px;stroke-linecap:butt;stroke-linejoin:miter;stroke-opacity:1\"/>\n",
       "<path class=\"bond-4 atom-5 atom-6\" d=\"M 266.2,121.2 L 292.6,113.8\" style=\"fill:none;fill-rule:evenodd;stroke:#000000;stroke-width:2.0px;stroke-linecap:butt;stroke-linejoin:miter;stroke-opacity:1\"/>\n",
       "<path class=\"bond-5 atom-6 atom-7\" d=\"M 292.6,113.8 L 299.4,87.4\" style=\"fill:none;fill-rule:evenodd;stroke:#000000;stroke-width:2.0px;stroke-linecap:butt;stroke-linejoin:miter;stroke-opacity:1\"/>\n",
       "<path class=\"bond-6 atom-7 atom-8\" d=\"M 299.4,87.4 L 279.9,68.2\" style=\"fill:none;fill-rule:evenodd;stroke:#000000;stroke-width:2.0px;stroke-linecap:butt;stroke-linejoin:miter;stroke-opacity:1\"/>\n",
       "<path class=\"bond-7 atom-8 atom-3\" d=\"M 279.9,68.2 L 253.5,75.5\" style=\"fill:none;fill-rule:evenodd;stroke:#000000;stroke-width:2.0px;stroke-linecap:butt;stroke-linejoin:miter;stroke-opacity:1\"/>\n",
       "<path class=\"bond-8 atom-1 atom-2\" d=\"M 240.8,29.9 L 234.0,56.4\" style=\"fill:none;fill-rule:evenodd;stroke:#000000;stroke-width:2.0px;stroke-linecap:butt;stroke-linejoin:miter;stroke-opacity:1\"/>\n",
       "<path class=\"bond-9 atom-9 atom-10\" d=\"M 207.7,63.7 L 200.8,90.2\" style=\"fill:none;fill-rule:evenodd;stroke:#000000;stroke-width:2.0px;stroke-linecap:butt;stroke-linejoin:miter;stroke-opacity:1\"/>\n",
       "<path class=\"bond-10 atom-10 atom-11\" d=\"M 200.8,90.2 L 174.5,97.5\" style=\"fill:none;fill-rule:evenodd;stroke:#000000;stroke-width:2.0px;stroke-linecap:butt;stroke-linejoin:miter;stroke-opacity:1\"/>\n",
       "<path class=\"bond-11 atom-11 atom-12\" d=\"M 174.5,97.5 L 167.7,124.0\" style=\"fill:none;fill-rule:evenodd;stroke:#000000;stroke-width:2.0px;stroke-linecap:butt;stroke-linejoin:miter;stroke-opacity:1\"/>\n",
       "<path class=\"bond-12 atom-12 atom-13\" d=\"M 167.7,124.0 L 187.2,143.2\" style=\"fill:none;fill-rule:evenodd;stroke:#000000;stroke-width:2.0px;stroke-linecap:butt;stroke-linejoin:miter;stroke-opacity:1\"/>\n",
       "<path class=\"bond-13 atom-13 atom-14\" d=\"M 187.2,143.2 L 213.5,135.8\" style=\"fill:none;fill-rule:evenodd;stroke:#000000;stroke-width:2.0px;stroke-linecap:butt;stroke-linejoin:miter;stroke-opacity:1\"/>\n",
       "<path class=\"bond-14 atom-14 atom-15\" d=\"M 213.5,135.8 L 220.4,109.4\" style=\"fill:none;fill-rule:evenodd;stroke:#000000;stroke-width:2.0px;stroke-linecap:butt;stroke-linejoin:miter;stroke-opacity:1\"/>\n",
       "<path class=\"bond-15 atom-15 atom-10\" d=\"M 220.4,109.4 L 200.8,90.2\" style=\"fill:none;fill-rule:evenodd;stroke:#000000;stroke-width:2.0px;stroke-linecap:butt;stroke-linejoin:miter;stroke-opacity:1\"/>\n",
       "<path class=\"bond-16 atom-2 atom-9\" d=\"M 234.0,56.4 L 207.7,63.7\" style=\"fill:none;fill-rule:evenodd;stroke:#000000;stroke-width:2.0px;stroke-linecap:butt;stroke-linejoin:miter;stroke-opacity:1\"/>\n",
       "<path class=\"bond-17 atom-16 atom-17\" d=\"M 188.1,44.6 L 177.2,47.6\" style=\"fill:none;fill-rule:evenodd;stroke:#000000;stroke-width:2.0px;stroke-linecap:butt;stroke-linejoin:miter;stroke-opacity:1\"/>\n",
       "<path class=\"bond-17 atom-16 atom-17\" d=\"M 177.2,47.6 L 166.2,50.7\" style=\"fill:none;fill-rule:evenodd;stroke:#FF0000;stroke-width:2.0px;stroke-linecap:butt;stroke-linejoin:miter;stroke-opacity:1\"/>\n",
       "<path class=\"bond-18 atom-9 atom-16\" d=\"M 207.7,63.7 L 188.1,44.6\" style=\"fill:none;fill-rule:evenodd;stroke:#000000;stroke-width:2.0px;stroke-linecap:butt;stroke-linejoin:miter;stroke-opacity:1\"/>\n",
       "<path d=\"M 240.5,29.5 L 240.8,29.9 L 240.5,31.2\" style=\"fill:none;stroke:#000000;stroke-width:2.0px;stroke-linecap:butt;stroke-linejoin:miter;stroke-opacity:1;\"/>\n",
       "<path d=\"M 247.1,100.7 L 246.7,102.0 L 247.7,103.0\" style=\"fill:none;stroke:#000000;stroke-width:2.0px;stroke-linecap:butt;stroke-linejoin:miter;stroke-opacity:1;\"/>\n",
       "<path d=\"M 265.3,120.2 L 266.2,121.2 L 267.6,120.8\" style=\"fill:none;stroke:#000000;stroke-width:2.0px;stroke-linecap:butt;stroke-linejoin:miter;stroke-opacity:1;\"/>\n",
       "<path d=\"M 291.3,114.2 L 292.6,113.8 L 292.9,112.5\" style=\"fill:none;stroke:#000000;stroke-width:2.0px;stroke-linecap:butt;stroke-linejoin:miter;stroke-opacity:1;\"/>\n",
       "<path d=\"M 299.1,88.7 L 299.4,87.4 L 298.4,86.4\" style=\"fill:none;stroke:#000000;stroke-width:2.0px;stroke-linecap:butt;stroke-linejoin:miter;stroke-opacity:1;\"/>\n",
       "<path d=\"M 280.9,69.2 L 279.9,68.2 L 278.6,68.6\" style=\"fill:none;stroke:#000000;stroke-width:2.0px;stroke-linecap:butt;stroke-linejoin:miter;stroke-opacity:1;\"/>\n",
       "<path d=\"M 175.8,97.2 L 174.5,97.5 L 174.1,98.9\" style=\"fill:none;stroke:#000000;stroke-width:2.0px;stroke-linecap:butt;stroke-linejoin:miter;stroke-opacity:1;\"/>\n",
       "<path d=\"M 168.0,122.7 L 167.7,124.0 L 168.6,125.0\" style=\"fill:none;stroke:#000000;stroke-width:2.0px;stroke-linecap:butt;stroke-linejoin:miter;stroke-opacity:1;\"/>\n",
       "<path d=\"M 186.2,142.2 L 187.2,143.2 L 188.5,142.8\" style=\"fill:none;stroke:#000000;stroke-width:2.0px;stroke-linecap:butt;stroke-linejoin:miter;stroke-opacity:1;\"/>\n",
       "<path d=\"M 212.2,136.2 L 213.5,135.8 L 213.9,134.5\" style=\"fill:none;stroke:#000000;stroke-width:2.0px;stroke-linecap:butt;stroke-linejoin:miter;stroke-opacity:1;\"/>\n",
       "<path d=\"M 220.0,110.7 L 220.4,109.4 L 219.4,108.4\" style=\"fill:none;stroke:#000000;stroke-width:2.0px;stroke-linecap:butt;stroke-linejoin:miter;stroke-opacity:1;\"/>\n",
       "<path d=\"M 187.6,44.7 L 188.1,44.6 L 189.1,45.5\" style=\"fill:none;stroke:#000000;stroke-width:2.0px;stroke-linecap:butt;stroke-linejoin:miter;stroke-opacity:1;\"/>\n",
       "<path class=\"atom-0\" d=\"M 210.1 6.9 L 211.2 6.9 L 211.2 10.2 L 215.1 10.2 L 215.1 6.9 L 216.2 6.9 L 216.2 14.7 L 215.1 14.7 L 215.1 11.1 L 211.2 11.1 L 211.2 14.7 L 210.1 14.7 L 210.1 6.9 \" fill=\"#FF0000\"/>\n",
       "<path class=\"atom-0\" d=\"M 217.8 10.8 Q 217.8 8.9, 218.7 7.9 Q 219.6 6.8, 221.3 6.8 Q 223.0 6.8, 224.0 7.9 Q 224.9 8.9, 224.9 10.8 Q 224.9 12.6, 223.9 13.7 Q 223.0 14.8, 221.3 14.8 Q 219.6 14.8, 218.7 13.7 Q 217.8 12.7, 217.8 10.8 M 221.3 13.9 Q 222.5 13.9, 223.1 13.1 Q 223.8 12.3, 223.8 10.8 Q 223.8 9.2, 223.1 8.5 Q 222.5 7.7, 221.3 7.7 Q 220.1 7.7, 219.5 8.5 Q 218.9 9.2, 218.9 10.8 Q 218.9 12.3, 219.5 13.1 Q 220.1 13.9, 221.3 13.9 \" fill=\"#FF0000\"/>\n",
       "<path class=\"atom-17\" d=\"M 150.6 48.1 L 151.6 48.1 L 151.6 51.4 L 155.6 51.4 L 155.6 48.1 L 156.6 48.1 L 156.6 55.8 L 155.6 55.8 L 155.6 52.2 L 151.6 52.2 L 151.6 55.8 L 150.6 55.8 L 150.6 48.1 \" fill=\"#FF0000\"/>\n",
       "<path class=\"atom-17\" d=\"M 158.2 51.9 Q 158.2 50.1, 159.1 49.0 Q 160.1 48.0, 161.8 48.0 Q 163.5 48.0, 164.4 49.0 Q 165.3 50.1, 165.3 51.9 Q 165.3 53.8, 164.4 54.9 Q 163.5 55.9, 161.8 55.9 Q 160.1 55.9, 159.1 54.9 Q 158.2 53.8, 158.2 51.9 M 161.8 55.1 Q 163.0 55.1, 163.6 54.3 Q 164.2 53.5, 164.2 51.9 Q 164.2 50.4, 163.6 49.6 Q 163.0 48.9, 161.8 48.9 Q 160.6 48.9, 160.0 49.6 Q 159.3 50.4, 159.3 51.9 Q 159.3 53.5, 160.0 54.3 Q 160.6 55.1, 161.8 55.1 \" fill=\"#FF0000\"/>\n",
       "</svg>"
      ],
      "text/plain": [
       "<IPython.core.display.SVG object>"
      ]
     },
     "execution_count": 14,
     "metadata": {},
     "output_type": "execute_result"
    }
   ],
   "source": [
    "big_smiles_gen(big)"
   ]
  },
  {
   "cell_type": "markdown",
   "id": "d978619a",
   "metadata": {},
   "source": [
    "# Polyamides\n",
    "## Di-Carboxylic Acids"
   ]
  },
  {
   "cell_type": "code",
   "execution_count": 15,
   "id": "6a88d483",
   "metadata": {},
   "outputs": [
    {
     "data": {
      "text/plain": [
       "'NC{[$][$]C[$][$]}|gauss(60, 24)|COO'"
      ]
     },
     "execution_count": 15,
     "metadata": {},
     "output_type": "execute_result"
    }
   ],
   "source": [
    "big = \"NC{[$][$]C[$][$]}|gauss(60, 24)|COO\"\n",
    "big"
   ]
  },
  {
   "cell_type": "code",
   "execution_count": 16,
   "id": "2f11a3e7",
   "metadata": {},
   "outputs": [
    {
     "name": "stdout",
     "output_type": "stream",
     "text": [
      "NCCCCCCCCCOO\n",
      "0.1496898490757514\n",
      "7\n"
     ]
    },
    {
     "data": {
      "image/svg+xml": [
       "<svg xmlns=\"http://www.w3.org/2000/svg\" xmlns:rdkit=\"http://www.rdkit.org/xml\" xmlns:xlink=\"http://www.w3.org/1999/xlink\" version=\"1.1\" baseProfile=\"full\" xml:space=\"preserve\" width=\"450px\" height=\"150px\" viewBox=\"0 0 450 150\">\n",
       "<!-- END OF HEADER -->\n",
       "<rect style=\"opacity:1.0;fill:#FFFFFF;stroke:none\" width=\"450.0\" height=\"150.0\" x=\"0.0\" y=\"0.0\"> </rect>\n",
       "<path class=\"bond-0 atom-0 atom-1\" d=\"M 402.1,76.7 L 387.9,68.7\" style=\"fill:none;fill-rule:evenodd;stroke:#0000FF;stroke-width:2.0px;stroke-linecap:butt;stroke-linejoin:miter;stroke-opacity:1\"/>\n",
       "<path class=\"bond-0 atom-0 atom-1\" d=\"M 387.9,68.7 L 373.6,60.7\" style=\"fill:none;fill-rule:evenodd;stroke:#000000;stroke-width:2.0px;stroke-linecap:butt;stroke-linejoin:miter;stroke-opacity:1\"/>\n",
       "<path class=\"bond-1 atom-1 atom-2\" d=\"M 373.6,60.7 L 340.1,80.6\" style=\"fill:none;fill-rule:evenodd;stroke:#000000;stroke-width:2.0px;stroke-linecap:butt;stroke-linejoin:miter;stroke-opacity:1\"/>\n",
       "<path class=\"bond-2 atom-2 atom-3\" d=\"M 340.1,80.6 L 306.2,61.5\" style=\"fill:none;fill-rule:evenodd;stroke:#000000;stroke-width:2.0px;stroke-linecap:butt;stroke-linejoin:miter;stroke-opacity:1\"/>\n",
       "<path class=\"bond-3 atom-3 atom-4\" d=\"M 306.2,61.5 L 272.7,81.4\" style=\"fill:none;fill-rule:evenodd;stroke:#000000;stroke-width:2.0px;stroke-linecap:butt;stroke-linejoin:miter;stroke-opacity:1\"/>\n",
       "<path class=\"bond-4 atom-4 atom-5\" d=\"M 272.7,81.4 L 238.7,62.3\" style=\"fill:none;fill-rule:evenodd;stroke:#000000;stroke-width:2.0px;stroke-linecap:butt;stroke-linejoin:miter;stroke-opacity:1\"/>\n",
       "<path class=\"bond-5 atom-5 atom-6\" d=\"M 238.7,62.3 L 205.3,82.2\" style=\"fill:none;fill-rule:evenodd;stroke:#000000;stroke-width:2.0px;stroke-linecap:butt;stroke-linejoin:miter;stroke-opacity:1\"/>\n",
       "<path class=\"bond-6 atom-6 atom-7\" d=\"M 205.3,82.2 L 171.3,63.2\" style=\"fill:none;fill-rule:evenodd;stroke:#000000;stroke-width:2.0px;stroke-linecap:butt;stroke-linejoin:miter;stroke-opacity:1\"/>\n",
       "<path class=\"bond-7 atom-7 atom-8\" d=\"M 171.3,63.2 L 137.8,83.0\" style=\"fill:none;fill-rule:evenodd;stroke:#000000;stroke-width:2.0px;stroke-linecap:butt;stroke-linejoin:miter;stroke-opacity:1\"/>\n",
       "<path class=\"bond-8 atom-9 atom-10\" d=\"M 103.9,64.0 L 90.3,72.0\" style=\"fill:none;fill-rule:evenodd;stroke:#000000;stroke-width:2.0px;stroke-linecap:butt;stroke-linejoin:miter;stroke-opacity:1\"/>\n",
       "<path class=\"bond-8 atom-9 atom-10\" d=\"M 90.3,72.0 L 76.7,80.1\" style=\"fill:none;fill-rule:evenodd;stroke:#FF0000;stroke-width:2.0px;stroke-linecap:butt;stroke-linejoin:miter;stroke-opacity:1\"/>\n",
       "<path class=\"bond-9 atom-10 atom-11\" d=\"M 64.0,80.3 L 42.8,68.4\" style=\"fill:none;fill-rule:evenodd;stroke:#FF0000;stroke-width:2.0px;stroke-linecap:butt;stroke-linejoin:miter;stroke-opacity:1\"/>\n",
       "<path class=\"bond-10 atom-8 atom-9\" d=\"M 137.8,83.0 L 103.9,64.0\" style=\"fill:none;fill-rule:evenodd;stroke:#000000;stroke-width:2.0px;stroke-linecap:butt;stroke-linejoin:miter;stroke-opacity:1\"/>\n",
       "<path d=\"M 374.3,61.1 L 373.6,60.7 L 372.0,61.7\" style=\"fill:none;stroke:#000000;stroke-width:2.0px;stroke-linecap:butt;stroke-linejoin:miter;stroke-opacity:1;\"/>\n",
       "<path d=\"M 341.8,79.6 L 340.1,80.6 L 338.4,79.6\" style=\"fill:none;stroke:#000000;stroke-width:2.0px;stroke-linecap:butt;stroke-linejoin:miter;stroke-opacity:1;\"/>\n",
       "<path d=\"M 307.9,62.5 L 306.2,61.5 L 304.5,62.5\" style=\"fill:none;stroke:#000000;stroke-width:2.0px;stroke-linecap:butt;stroke-linejoin:miter;stroke-opacity:1;\"/>\n",
       "<path d=\"M 274.4,80.4 L 272.7,81.4 L 271.0,80.4\" style=\"fill:none;stroke:#000000;stroke-width:2.0px;stroke-linecap:butt;stroke-linejoin:miter;stroke-opacity:1;\"/>\n",
       "<path d=\"M 240.4,63.3 L 238.7,62.3 L 237.1,63.3\" style=\"fill:none;stroke:#000000;stroke-width:2.0px;stroke-linecap:butt;stroke-linejoin:miter;stroke-opacity:1;\"/>\n",
       "<path d=\"M 206.9,81.2 L 205.3,82.2 L 203.6,81.3\" style=\"fill:none;stroke:#000000;stroke-width:2.0px;stroke-linecap:butt;stroke-linejoin:miter;stroke-opacity:1;\"/>\n",
       "<path d=\"M 173.0,64.1 L 171.3,63.2 L 169.6,64.2\" style=\"fill:none;stroke:#000000;stroke-width:2.0px;stroke-linecap:butt;stroke-linejoin:miter;stroke-opacity:1;\"/>\n",
       "<path d=\"M 139.5,82.0 L 137.8,83.0 L 136.1,82.1\" style=\"fill:none;stroke:#000000;stroke-width:2.0px;stroke-linecap:butt;stroke-linejoin:miter;stroke-opacity:1;\"/>\n",
       "<path d=\"M 103.2,64.4 L 103.9,64.0 L 105.5,64.9\" style=\"fill:none;stroke:#000000;stroke-width:2.0px;stroke-linecap:butt;stroke-linejoin:miter;stroke-opacity:1;\"/>\n",
       "<path class=\"atom-0\" d=\"M 405.1 74.2 L 408.8 80.1 Q 409.1 80.7, 409.7 81.7 Q 410.3 82.7, 410.3 82.8 L 410.3 74.2 L 411.8 74.2 L 411.8 85.3 L 410.3 85.3 L 406.4 78.9 Q 405.9 78.1, 405.4 77.3 Q 405.0 76.4, 404.8 76.1 L 404.8 85.3 L 403.4 85.3 L 403.4 74.2 L 405.1 74.2 \" fill=\"#0000FF\"/>\n",
       "<path class=\"atom-0\" d=\"M 413.9 74.2 L 415.4 74.2 L 415.4 78.9 L 421.0 78.9 L 421.0 74.2 L 422.5 74.2 L 422.5 85.3 L 421.0 85.3 L 421.0 80.2 L 415.4 80.2 L 415.4 85.3 L 413.9 85.3 L 413.9 74.2 \" fill=\"#0000FF\"/>\n",
       "<path class=\"atom-0\" d=\"M 424.7 84.9 Q 424.9 84.2, 425.6 83.8 Q 426.2 83.4, 427.1 83.4 Q 428.2 83.4, 428.8 84.0 Q 429.4 84.6, 429.4 85.7 Q 429.4 86.7, 428.6 87.8 Q 427.8 88.8, 426.2 90.0 L 429.5 90.0 L 429.5 90.8 L 424.6 90.8 L 424.6 90.1 Q 426.0 89.1, 426.8 88.4 Q 427.6 87.7, 428.0 87.0 Q 428.4 86.4, 428.4 85.7 Q 428.4 85.0, 428.0 84.6 Q 427.7 84.2, 427.1 84.2 Q 426.5 84.2, 426.1 84.5 Q 425.7 84.7, 425.4 85.2 L 424.7 84.9 \" fill=\"#0000FF\"/>\n",
       "<path class=\"atom-10\" d=\"M 65.3 83.9 Q 65.3 81.2, 66.6 79.8 Q 67.9 78.3, 70.4 78.3 Q 72.8 78.3, 74.1 79.8 Q 75.4 81.2, 75.4 83.9 Q 75.4 86.6, 74.1 88.1 Q 72.8 89.6, 70.4 89.6 Q 67.9 89.6, 66.6 88.1 Q 65.3 86.6, 65.3 83.9 M 70.4 88.4 Q 72.0 88.4, 73.0 87.2 Q 73.9 86.1, 73.9 83.9 Q 73.9 81.7, 73.0 80.6 Q 72.0 79.5, 70.4 79.5 Q 68.7 79.5, 67.8 80.6 Q 66.9 81.7, 66.9 83.9 Q 66.9 86.1, 67.8 87.2 Q 68.7 88.4, 70.4 88.4 \" fill=\"#FF0000\"/>\n",
       "<path class=\"atom-11\" d=\"M 20.5 59.3 L 21.9 59.3 L 21.9 64.0 L 27.6 64.0 L 27.6 59.3 L 29.1 59.3 L 29.1 70.4 L 27.6 70.4 L 27.6 65.3 L 21.9 65.3 L 21.9 70.4 L 20.5 70.4 L 20.5 59.3 \" fill=\"#FF0000\"/>\n",
       "<path class=\"atom-11\" d=\"M 31.3 64.8 Q 31.3 62.2, 32.7 60.7 Q 34.0 59.2, 36.4 59.2 Q 38.9 59.2, 40.2 60.7 Q 41.5 62.2, 41.5 64.8 Q 41.5 67.5, 40.1 69.0 Q 38.8 70.5, 36.4 70.5 Q 34.0 70.5, 32.7 69.0 Q 31.3 67.5, 31.3 64.8 M 36.4 69.3 Q 38.1 69.3, 39.0 68.2 Q 39.9 67.0, 39.9 64.8 Q 39.9 62.7, 39.0 61.6 Q 38.1 60.5, 36.4 60.5 Q 34.7 60.5, 33.8 61.6 Q 32.9 62.7, 32.9 64.8 Q 32.9 67.1, 33.8 68.2 Q 34.7 69.3, 36.4 69.3 \" fill=\"#FF0000\"/>\n",
       "</svg>"
      ],
      "text/plain": [
       "<IPython.core.display.SVG object>"
      ]
     },
     "execution_count": 16,
     "metadata": {},
     "output_type": "execute_result"
    }
   ],
   "source": [
    "big_smiles_gen(big)"
   ]
  },
  {
   "cell_type": "code",
   "execution_count": 17,
   "id": "a935520e",
   "metadata": {},
   "outputs": [
    {
     "name": "stdout",
     "output_type": "stream",
     "text": [
      "NCCCCCCCCOO\n",
      "0.19151573245933484\n",
      "8\n"
     ]
    },
    {
     "data": {
      "image/svg+xml": [
       "<svg xmlns=\"http://www.w3.org/2000/svg\" xmlns:rdkit=\"http://www.rdkit.org/xml\" xmlns:xlink=\"http://www.w3.org/1999/xlink\" version=\"1.1\" baseProfile=\"full\" xml:space=\"preserve\" width=\"450px\" height=\"150px\" viewBox=\"0 0 450 150\">\n",
       "<!-- END OF HEADER -->\n",
       "<rect style=\"opacity:1.0;fill:#FFFFFF;stroke:none\" width=\"450.0\" height=\"150.0\" x=\"0.0\" y=\"0.0\"> </rect>\n",
       "<path class=\"bond-0 atom-0 atom-1\" d=\"M 49.7,67.7 L 65.2,76.6\" style=\"fill:none;fill-rule:evenodd;stroke:#0000FF;stroke-width:2.0px;stroke-linecap:butt;stroke-linejoin:miter;stroke-opacity:1\"/>\n",
       "<path class=\"bond-0 atom-0 atom-1\" d=\"M 65.2,76.6 L 80.6,85.6\" style=\"fill:none;fill-rule:evenodd;stroke:#000000;stroke-width:2.0px;stroke-linecap:butt;stroke-linejoin:miter;stroke-opacity:1\"/>\n",
       "<path class=\"bond-1 atom-1 atom-2\" d=\"M 80.6,85.6 L 117.5,64.3\" style=\"fill:none;fill-rule:evenodd;stroke:#000000;stroke-width:2.0px;stroke-linecap:butt;stroke-linejoin:miter;stroke-opacity:1\"/>\n",
       "<path class=\"bond-2 atom-2 atom-3\" d=\"M 117.5,64.3 L 154.4,85.6\" style=\"fill:none;fill-rule:evenodd;stroke:#000000;stroke-width:2.0px;stroke-linecap:butt;stroke-linejoin:miter;stroke-opacity:1\"/>\n",
       "<path class=\"bond-3 atom-3 atom-4\" d=\"M 154.4,85.6 L 191.3,64.3\" style=\"fill:none;fill-rule:evenodd;stroke:#000000;stroke-width:2.0px;stroke-linecap:butt;stroke-linejoin:miter;stroke-opacity:1\"/>\n",
       "<path class=\"bond-4 atom-4 atom-5\" d=\"M 191.3,64.3 L 228.2,85.6\" style=\"fill:none;fill-rule:evenodd;stroke:#000000;stroke-width:2.0px;stroke-linecap:butt;stroke-linejoin:miter;stroke-opacity:1\"/>\n",
       "<path class=\"bond-5 atom-5 atom-6\" d=\"M 228.2,85.6 L 265.1,64.3\" style=\"fill:none;fill-rule:evenodd;stroke:#000000;stroke-width:2.0px;stroke-linecap:butt;stroke-linejoin:miter;stroke-opacity:1\"/>\n",
       "<path class=\"bond-6 atom-6 atom-7\" d=\"M 265.1,64.3 L 302.0,85.6\" style=\"fill:none;fill-rule:evenodd;stroke:#000000;stroke-width:2.0px;stroke-linecap:butt;stroke-linejoin:miter;stroke-opacity:1\"/>\n",
       "<path class=\"bond-7 atom-8 atom-9\" d=\"M 338.9,64.3 L 353.9,72.9\" style=\"fill:none;fill-rule:evenodd;stroke:#000000;stroke-width:2.0px;stroke-linecap:butt;stroke-linejoin:miter;stroke-opacity:1\"/>\n",
       "<path class=\"bond-7 atom-8 atom-9\" d=\"M 353.9,72.9 L 368.8,81.5\" style=\"fill:none;fill-rule:evenodd;stroke:#FF0000;stroke-width:2.0px;stroke-linecap:butt;stroke-linejoin:miter;stroke-opacity:1\"/>\n",
       "<path class=\"bond-8 atom-9 atom-10\" d=\"M 382.7,81.5 L 405.7,68.3\" style=\"fill:none;fill-rule:evenodd;stroke:#FF0000;stroke-width:2.0px;stroke-linecap:butt;stroke-linejoin:miter;stroke-opacity:1\"/>\n",
       "<path class=\"bond-9 atom-7 atom-8\" d=\"M 302.0,85.6 L 338.9,64.3\" style=\"fill:none;fill-rule:evenodd;stroke:#000000;stroke-width:2.0px;stroke-linecap:butt;stroke-linejoin:miter;stroke-opacity:1\"/>\n",
       "<path d=\"M 79.9,85.1 L 80.6,85.6 L 82.5,84.5\" style=\"fill:none;stroke:#000000;stroke-width:2.0px;stroke-linecap:butt;stroke-linejoin:miter;stroke-opacity:1;\"/>\n",
       "<path d=\"M 115.7,65.3 L 117.5,64.3 L 119.4,65.3\" style=\"fill:none;stroke:#000000;stroke-width:2.0px;stroke-linecap:butt;stroke-linejoin:miter;stroke-opacity:1;\"/>\n",
       "<path d=\"M 152.6,84.5 L 154.4,85.6 L 156.3,84.5\" style=\"fill:none;stroke:#000000;stroke-width:2.0px;stroke-linecap:butt;stroke-linejoin:miter;stroke-opacity:1;\"/>\n",
       "<path d=\"M 189.5,65.3 L 191.3,64.3 L 193.2,65.3\" style=\"fill:none;stroke:#000000;stroke-width:2.0px;stroke-linecap:butt;stroke-linejoin:miter;stroke-opacity:1;\"/>\n",
       "<path d=\"M 226.4,84.5 L 228.2,85.6 L 230.1,84.5\" style=\"fill:none;stroke:#000000;stroke-width:2.0px;stroke-linecap:butt;stroke-linejoin:miter;stroke-opacity:1;\"/>\n",
       "<path d=\"M 263.3,65.3 L 265.1,64.3 L 267.0,65.3\" style=\"fill:none;stroke:#000000;stroke-width:2.0px;stroke-linecap:butt;stroke-linejoin:miter;stroke-opacity:1;\"/>\n",
       "<path d=\"M 300.2,84.5 L 302.0,85.6 L 303.8,84.5\" style=\"fill:none;stroke:#000000;stroke-width:2.0px;stroke-linecap:butt;stroke-linejoin:miter;stroke-opacity:1;\"/>\n",
       "<path d=\"M 339.6,64.7 L 338.9,64.3 L 337.1,65.3\" style=\"fill:none;stroke:#000000;stroke-width:2.0px;stroke-linecap:butt;stroke-linejoin:miter;stroke-opacity:1;\"/>\n",
       "<path class=\"atom-0\" d=\"M 20.5 58.2 L 22.1 58.2 L 22.1 63.4 L 28.3 63.4 L 28.3 58.2 L 29.9 58.2 L 29.9 70.3 L 28.3 70.3 L 28.3 64.7 L 22.1 64.7 L 22.1 70.3 L 20.5 70.3 L 20.5 58.2 \" fill=\"#0000FF\"/>\n",
       "<path class=\"atom-0\" d=\"M 32.3 69.9 Q 32.5 69.1, 33.2 68.7 Q 33.9 68.3, 34.9 68.3 Q 36.1 68.3, 36.8 68.9 Q 37.5 69.6, 37.5 70.7 Q 37.5 71.9, 36.6 73.0 Q 35.7 74.1, 33.9 75.4 L 37.6 75.4 L 37.6 76.3 L 32.2 76.3 L 32.2 75.6 Q 33.7 74.5, 34.6 73.7 Q 35.5 72.9, 35.9 72.2 Q 36.3 71.5, 36.3 70.8 Q 36.3 70.0, 36.0 69.6 Q 35.6 69.2, 34.9 69.2 Q 34.3 69.2, 33.8 69.4 Q 33.4 69.7, 33.1 70.3 L 32.3 69.9 \" fill=\"#0000FF\"/>\n",
       "<path class=\"atom-0\" d=\"M 41.1 58.2 L 45.0 64.6 Q 45.4 65.2, 46.0 66.4 Q 46.7 67.5, 46.7 67.6 L 46.7 58.2 L 48.3 58.2 L 48.3 70.3 L 46.7 70.3 L 42.4 63.3 Q 41.9 62.5, 41.4 61.5 Q 40.9 60.6, 40.7 60.3 L 40.7 70.3 L 39.2 70.3 L 39.2 58.2 L 41.1 58.2 \" fill=\"#0000FF\"/>\n",
       "<path class=\"atom-9\" d=\"M 370.3 85.6 Q 370.3 82.7, 371.7 81.1 Q 373.1 79.5, 375.8 79.5 Q 378.5 79.5, 379.9 81.1 Q 381.3 82.7, 381.3 85.6 Q 381.3 88.5, 379.9 90.2 Q 378.4 91.8, 375.8 91.8 Q 373.1 91.8, 371.7 90.2 Q 370.3 88.5, 370.3 85.6 M 375.8 90.5 Q 377.6 90.5, 378.6 89.3 Q 379.6 88.0, 379.6 85.6 Q 379.6 83.2, 378.6 82.0 Q 377.6 80.8, 375.8 80.8 Q 374.0 80.8, 372.9 82.0 Q 372.0 83.2, 372.0 85.6 Q 372.0 88.0, 372.9 89.3 Q 374.0 90.5, 375.8 90.5 \" fill=\"#FF0000\"/>\n",
       "<path class=\"atom-10\" d=\"M 407.2 64.3 Q 407.2 61.4, 408.6 59.8 Q 410.0 58.2, 412.7 58.2 Q 415.4 58.2, 416.8 59.8 Q 418.2 61.4, 418.2 64.3 Q 418.2 67.2, 416.8 68.9 Q 415.3 70.5, 412.7 70.5 Q 410.0 70.5, 408.6 68.9 Q 407.2 67.2, 407.2 64.3 M 412.7 69.2 Q 414.5 69.2, 415.5 68.0 Q 416.5 66.7, 416.5 64.3 Q 416.5 61.9, 415.5 60.7 Q 414.5 59.5, 412.7 59.5 Q 410.8 59.5, 409.8 60.7 Q 408.9 61.9, 408.9 64.3 Q 408.9 66.7, 409.8 68.0 Q 410.8 69.2, 412.7 69.2 \" fill=\"#FF0000\"/>\n",
       "<path class=\"atom-10\" d=\"M 420.1 58.3 L 421.7 58.3 L 421.7 63.4 L 427.9 63.4 L 427.9 58.3 L 429.5 58.3 L 429.5 70.4 L 427.9 70.4 L 427.9 64.8 L 421.7 64.8 L 421.7 70.4 L 420.1 70.4 L 420.1 58.3 \" fill=\"#FF0000\"/>\n",
       "</svg>"
      ],
      "text/plain": [
       "<IPython.core.display.SVG object>"
      ]
     },
     "execution_count": 17,
     "metadata": {},
     "output_type": "execute_result"
    }
   ],
   "source": [
    "big_smiles_gen(big)"
   ]
  },
  {
   "cell_type": "markdown",
   "id": "7e77762a",
   "metadata": {},
   "source": [
    "## Diamines"
   ]
  },
  {
   "cell_type": "code",
   "execution_count": 18,
   "id": "03a604a8",
   "metadata": {},
   "outputs": [
    {
     "data": {
      "text/plain": [
       "'NC{[$][$]C[$][$]}|gauss(60,24)|CN'"
      ]
     },
     "execution_count": 18,
     "metadata": {},
     "output_type": "execute_result"
    }
   ],
   "source": [
    "big = \"NC{[$][$]C[$][$]}|gauss(60,24)|CN\"\n",
    "big"
   ]
  },
  {
   "cell_type": "code",
   "execution_count": 19,
   "id": "7e2e267d",
   "metadata": {},
   "outputs": [
    {
     "name": "stdout",
     "output_type": "stream",
     "text": [
      "NCCCCCCN\n",
      "0.30039018994153616\n",
      "9\n"
     ]
    },
    {
     "data": {
      "image/svg+xml": [
       "<svg xmlns=\"http://www.w3.org/2000/svg\" xmlns:rdkit=\"http://www.rdkit.org/xml\" xmlns:xlink=\"http://www.w3.org/1999/xlink\" version=\"1.1\" baseProfile=\"full\" xml:space=\"preserve\" width=\"450px\" height=\"150px\" viewBox=\"0 0 450 150\">\n",
       "<!-- END OF HEADER -->\n",
       "<rect style=\"opacity:1.0;fill:#FFFFFF;stroke:none\" width=\"450.0\" height=\"150.0\" x=\"0.0\" y=\"0.0\"> </rect>\n",
       "<path class=\"bond-0 atom-0 atom-1\" d=\"M 389.4,76.2 L 368.4,64.8\" style=\"fill:none;fill-rule:evenodd;stroke:#0000FF;stroke-width:2.0px;stroke-linecap:butt;stroke-linejoin:miter;stroke-opacity:1\"/>\n",
       "<path class=\"bond-0 atom-0 atom-1\" d=\"M 368.4,64.8 L 347.3,53.4\" style=\"fill:none;fill-rule:evenodd;stroke:#000000;stroke-width:2.0px;stroke-linecap:butt;stroke-linejoin:miter;stroke-opacity:1\"/>\n",
       "<path class=\"bond-1 atom-1 atom-2\" d=\"M 347.3,53.4 L 298.8,83.2\" style=\"fill:none;fill-rule:evenodd;stroke:#000000;stroke-width:2.0px;stroke-linecap:butt;stroke-linejoin:miter;stroke-opacity:1\"/>\n",
       "<path class=\"bond-2 atom-2 atom-3\" d=\"M 298.8,83.2 L 248.8,56.1\" style=\"fill:none;fill-rule:evenodd;stroke:#000000;stroke-width:2.0px;stroke-linecap:butt;stroke-linejoin:miter;stroke-opacity:1\"/>\n",
       "<path class=\"bond-3 atom-3 atom-4\" d=\"M 248.8,56.1 L 200.3,86.0\" style=\"fill:none;fill-rule:evenodd;stroke:#000000;stroke-width:2.0px;stroke-linecap:butt;stroke-linejoin:miter;stroke-opacity:1\"/>\n",
       "<path class=\"bond-4 atom-4 atom-5\" d=\"M 200.3,86.0 L 150.2,58.9\" style=\"fill:none;fill-rule:evenodd;stroke:#000000;stroke-width:2.0px;stroke-linecap:butt;stroke-linejoin:miter;stroke-opacity:1\"/>\n",
       "<path class=\"bond-5 atom-6 atom-7\" d=\"M 101.7,88.7 L 80.6,77.4\" style=\"fill:none;fill-rule:evenodd;stroke:#000000;stroke-width:2.0px;stroke-linecap:butt;stroke-linejoin:miter;stroke-opacity:1\"/>\n",
       "<path class=\"bond-5 atom-6 atom-7\" d=\"M 80.6,77.4 L 59.6,66.0\" style=\"fill:none;fill-rule:evenodd;stroke:#0000FF;stroke-width:2.0px;stroke-linecap:butt;stroke-linejoin:miter;stroke-opacity:1\"/>\n",
       "<path class=\"bond-6 atom-5 atom-6\" d=\"M 150.2,58.9 L 101.7,88.7\" style=\"fill:none;fill-rule:evenodd;stroke:#000000;stroke-width:2.0px;stroke-linecap:butt;stroke-linejoin:miter;stroke-opacity:1\"/>\n",
       "<path d=\"M 348.4,54.0 L 347.3,53.4 L 344.9,54.9\" style=\"fill:none;stroke:#000000;stroke-width:2.0px;stroke-linecap:butt;stroke-linejoin:miter;stroke-opacity:1;\"/>\n",
       "<path d=\"M 301.3,81.7 L 298.8,83.2 L 296.3,81.9\" style=\"fill:none;stroke:#000000;stroke-width:2.0px;stroke-linecap:butt;stroke-linejoin:miter;stroke-opacity:1;\"/>\n",
       "<path d=\"M 251.3,57.5 L 248.8,56.1 L 246.3,57.6\" style=\"fill:none;stroke:#000000;stroke-width:2.0px;stroke-linecap:butt;stroke-linejoin:miter;stroke-opacity:1;\"/>\n",
       "<path d=\"M 202.7,84.5 L 200.3,86.0 L 197.8,84.6\" style=\"fill:none;stroke:#000000;stroke-width:2.0px;stroke-linecap:butt;stroke-linejoin:miter;stroke-opacity:1;\"/>\n",
       "<path d=\"M 152.7,60.3 L 150.2,58.9 L 147.7,60.4\" style=\"fill:none;stroke:#000000;stroke-width:2.0px;stroke-linecap:butt;stroke-linejoin:miter;stroke-opacity:1;\"/>\n",
       "<path d=\"M 100.6,88.2 L 101.7,88.7 L 104.1,87.2\" style=\"fill:none;stroke:#000000;stroke-width:2.0px;stroke-linecap:butt;stroke-linejoin:miter;stroke-opacity:1;\"/>\n",
       "<path class=\"atom-0\" d=\"M 393.9 72.4 L 399.2 81.0 Q 399.7 81.8, 400.5 83.3 Q 401.4 84.9, 401.4 84.9 L 401.4 72.4 L 403.5 72.4 L 403.5 88.5 L 401.3 88.5 L 395.7 79.2 Q 395.0 78.1, 394.3 76.9 Q 393.6 75.6, 393.4 75.2 L 393.4 88.5 L 391.3 88.5 L 391.3 72.4 L 393.9 72.4 \" fill=\"#0000FF\"/>\n",
       "<path class=\"atom-0\" d=\"M 406.6 72.4 L 408.8 72.4 L 408.8 79.3 L 417.1 79.3 L 417.1 72.4 L 419.2 72.4 L 419.2 88.5 L 417.1 88.5 L 417.1 81.1 L 408.8 81.1 L 408.8 88.5 L 406.6 88.5 L 406.6 72.4 \" fill=\"#0000FF\"/>\n",
       "<path class=\"atom-0\" d=\"M 422.4 88.0 Q 422.8 87.0, 423.7 86.4 Q 424.7 85.8, 426.0 85.8 Q 427.6 85.8, 428.5 86.7 Q 429.4 87.6, 429.4 89.1 Q 429.4 90.7, 428.2 92.2 Q 427.0 93.7, 424.6 95.4 L 429.5 95.4 L 429.5 96.6 L 422.4 96.6 L 422.4 95.6 Q 424.4 94.2, 425.5 93.1 Q 426.7 92.1, 427.3 91.1 Q 427.9 90.2, 427.9 89.2 Q 427.9 88.2, 427.4 87.6 Q 426.8 87.0, 426.0 87.0 Q 425.1 87.0, 424.5 87.4 Q 424.0 87.7, 423.5 88.5 L 422.4 88.0 \" fill=\"#0000FF\"/>\n",
       "<path class=\"atom-7\" d=\"M 20.5 53.6 L 22.6 53.6 L 22.6 60.4 L 30.9 60.4 L 30.9 53.6 L 33.1 53.6 L 33.1 69.7 L 30.9 69.7 L 30.9 62.3 L 22.6 62.3 L 22.6 69.7 L 20.5 69.7 L 20.5 53.6 \" fill=\"#0000FF\"/>\n",
       "<path class=\"atom-7\" d=\"M 36.2 69.1 Q 36.6 68.1, 37.6 67.6 Q 38.5 67.0, 39.8 67.0 Q 41.4 67.0, 42.3 67.9 Q 43.2 68.8, 43.2 70.3 Q 43.2 71.9, 42.0 73.4 Q 40.9 74.8, 38.5 76.6 L 43.4 76.6 L 43.4 77.8 L 36.2 77.8 L 36.2 76.8 Q 38.2 75.4, 39.4 74.3 Q 40.5 73.3, 41.1 72.3 Q 41.7 71.4, 41.7 70.4 Q 41.7 69.4, 41.2 68.8 Q 40.7 68.2, 39.8 68.2 Q 38.9 68.2, 38.3 68.6 Q 37.8 68.9, 37.4 69.7 L 36.2 69.1 \" fill=\"#0000FF\"/>\n",
       "<path class=\"atom-7\" d=\"M 48.0 53.6 L 53.3 62.1 Q 53.8 63.0, 54.7 64.5 Q 55.5 66.0, 55.6 66.1 L 55.6 53.6 L 57.7 53.6 L 57.7 69.7 L 55.5 69.7 L 49.8 60.4 Q 49.2 59.3, 48.4 58.0 Q 47.8 56.8, 47.6 56.4 L 47.6 69.7 L 45.5 69.7 L 45.5 53.6 L 48.0 53.6 \" fill=\"#0000FF\"/>\n",
       "</svg>"
      ],
      "text/plain": [
       "<IPython.core.display.SVG object>"
      ]
     },
     "execution_count": 19,
     "metadata": {},
     "output_type": "execute_result"
    }
   ],
   "source": [
    "big_smiles_gen(big)"
   ]
  },
  {
   "cell_type": "code",
   "execution_count": 20,
   "id": "664eebc4",
   "metadata": {},
   "outputs": [
    {
     "name": "stdout",
     "output_type": "stream",
     "text": [
      "NCCCCCN\n",
      "0.18412437008030014\n",
      "10\n"
     ]
    },
    {
     "data": {
      "image/svg+xml": [
       "<svg xmlns=\"http://www.w3.org/2000/svg\" xmlns:rdkit=\"http://www.rdkit.org/xml\" xmlns:xlink=\"http://www.w3.org/1999/xlink\" version=\"1.1\" baseProfile=\"full\" xml:space=\"preserve\" width=\"450px\" height=\"150px\" viewBox=\"0 0 450 150\">\n",
       "<!-- END OF HEADER -->\n",
       "<rect style=\"opacity:1.0;fill:#FFFFFF;stroke:none\" width=\"450.0\" height=\"150.0\" x=\"0.0\" y=\"0.0\"> </rect>\n",
       "<path class=\"bond-0 atom-0 atom-1\" d=\"M 65.0,68.6 L 88.6,82.2\" style=\"fill:none;fill-rule:evenodd;stroke:#0000FF;stroke-width:2.0px;stroke-linecap:butt;stroke-linejoin:miter;stroke-opacity:1\"/>\n",
       "<path class=\"bond-0 atom-0 atom-1\" d=\"M 88.6,82.2 L 112.1,95.8\" style=\"fill:none;fill-rule:evenodd;stroke:#000000;stroke-width:2.0px;stroke-linecap:butt;stroke-linejoin:miter;stroke-opacity:1\"/>\n",
       "<path class=\"bond-1 atom-1 atom-2\" d=\"M 112.1,95.8 L 168.3,63.4\" style=\"fill:none;fill-rule:evenodd;stroke:#000000;stroke-width:2.0px;stroke-linecap:butt;stroke-linejoin:miter;stroke-opacity:1\"/>\n",
       "<path class=\"bond-2 atom-2 atom-3\" d=\"M 168.3,63.4 L 224.4,95.8\" style=\"fill:none;fill-rule:evenodd;stroke:#000000;stroke-width:2.0px;stroke-linecap:butt;stroke-linejoin:miter;stroke-opacity:1\"/>\n",
       "<path class=\"bond-3 atom-3 atom-4\" d=\"M 224.4,95.8 L 280.6,63.4\" style=\"fill:none;fill-rule:evenodd;stroke:#000000;stroke-width:2.0px;stroke-linecap:butt;stroke-linejoin:miter;stroke-opacity:1\"/>\n",
       "<path class=\"bond-4 atom-5 atom-6\" d=\"M 336.8,95.8 L 360.3,82.2\" style=\"fill:none;fill-rule:evenodd;stroke:#000000;stroke-width:2.0px;stroke-linecap:butt;stroke-linejoin:miter;stroke-opacity:1\"/>\n",
       "<path class=\"bond-4 atom-5 atom-6\" d=\"M 360.3,82.2 L 383.9,68.6\" style=\"fill:none;fill-rule:evenodd;stroke:#0000FF;stroke-width:2.0px;stroke-linecap:butt;stroke-linejoin:miter;stroke-opacity:1\"/>\n",
       "<path class=\"bond-5 atom-4 atom-5\" d=\"M 280.6,63.4 L 336.8,95.8\" style=\"fill:none;fill-rule:evenodd;stroke:#000000;stroke-width:2.0px;stroke-linecap:butt;stroke-linejoin:miter;stroke-opacity:1\"/>\n",
       "<path d=\"M 110.9,95.1 L 112.1,95.8 L 114.9,94.2\" style=\"fill:none;stroke:#000000;stroke-width:2.0px;stroke-linecap:butt;stroke-linejoin:miter;stroke-opacity:1;\"/>\n",
       "<path d=\"M 165.5,65.0 L 168.3,63.4 L 171.1,65.0\" style=\"fill:none;stroke:#000000;stroke-width:2.0px;stroke-linecap:butt;stroke-linejoin:miter;stroke-opacity:1;\"/>\n",
       "<path d=\"M 221.6,94.2 L 224.4,95.8 L 227.2,94.2\" style=\"fill:none;stroke:#000000;stroke-width:2.0px;stroke-linecap:butt;stroke-linejoin:miter;stroke-opacity:1;\"/>\n",
       "<path d=\"M 277.8,65.0 L 280.6,63.4 L 283.4,65.0\" style=\"fill:none;stroke:#000000;stroke-width:2.0px;stroke-linecap:butt;stroke-linejoin:miter;stroke-opacity:1;\"/>\n",
       "<path d=\"M 338.0,95.1 L 336.8,95.8 L 334.0,94.2\" style=\"fill:none;stroke:#000000;stroke-width:2.0px;stroke-linecap:butt;stroke-linejoin:miter;stroke-opacity:1;\"/>\n",
       "<path class=\"atom-0\" d=\"M 20.5 54.2 L 22.9 54.2 L 22.9 62.0 L 32.3 62.0 L 32.3 54.2 L 34.8 54.2 L 34.8 72.6 L 32.3 72.6 L 32.3 64.1 L 22.9 64.1 L 22.9 72.6 L 20.5 72.6 L 20.5 54.2 \" fill=\"#0000FF\"/>\n",
       "<path class=\"atom-0\" d=\"M 38.4 71.9 Q 38.9 70.8, 39.9 70.1 Q 41.0 69.5, 42.5 69.5 Q 44.3 69.5, 45.3 70.5 Q 46.4 71.5, 46.4 73.2 Q 46.4 75.0, 45.0 76.7 Q 43.7 78.4, 41.0 80.4 L 46.6 80.4 L 46.6 81.7 L 38.4 81.7 L 38.4 80.6 Q 40.7 79.0, 42.0 77.8 Q 43.3 76.6, 44.0 75.5 Q 44.6 74.4, 44.6 73.3 Q 44.6 72.2, 44.1 71.5 Q 43.5 70.9, 42.5 70.9 Q 41.5 70.9, 40.8 71.2 Q 40.2 71.6, 39.7 72.5 L 38.4 71.9 \" fill=\"#0000FF\"/>\n",
       "<path class=\"atom-0\" d=\"M 51.8 54.2 L 57.9 63.9 Q 58.5 64.9, 59.4 66.6 Q 60.4 68.4, 60.4 68.5 L 60.4 54.2 L 62.9 54.2 L 62.9 72.6 L 60.4 72.6 L 53.9 61.9 Q 53.1 60.7, 52.3 59.3 Q 51.6 57.8, 51.3 57.4 L 51.3 72.6 L 48.9 72.6 L 48.9 54.2 L 51.8 54.2 \" fill=\"#0000FF\"/>\n",
       "<path class=\"atom-6\" d=\"M 388.9 54.2 L 394.9 63.9 Q 395.5 64.9, 396.5 66.6 Q 397.4 68.4, 397.5 68.5 L 397.5 54.2 L 399.9 54.2 L 399.9 72.6 L 397.4 72.6 L 391.0 61.9 Q 390.2 60.7, 389.4 59.3 Q 388.6 57.8, 388.4 57.4 L 388.4 72.6 L 386.0 72.6 L 386.0 54.2 L 388.9 54.2 \" fill=\"#0000FF\"/>\n",
       "<path class=\"atom-6\" d=\"M 403.4 54.2 L 405.9 54.2 L 405.9 62.0 L 415.3 62.0 L 415.3 54.2 L 417.8 54.2 L 417.8 72.6 L 415.3 72.6 L 415.3 64.1 L 405.9 64.1 L 405.9 72.6 L 403.4 72.6 L 403.4 54.2 \" fill=\"#0000FF\"/>\n",
       "<path class=\"atom-6\" d=\"M 421.4 71.9 Q 421.9 70.8, 422.9 70.1 Q 424.0 69.5, 425.5 69.5 Q 427.3 69.5, 428.3 70.5 Q 429.3 71.5, 429.3 73.2 Q 429.3 75.0, 428.0 76.7 Q 426.7 78.4, 423.9 80.4 L 429.5 80.4 L 429.5 81.7 L 421.4 81.7 L 421.4 80.6 Q 423.6 79.0, 425.0 77.8 Q 426.3 76.6, 427.0 75.5 Q 427.6 74.4, 427.6 73.3 Q 427.6 72.2, 427.0 71.5 Q 426.5 70.9, 425.5 70.9 Q 424.5 70.9, 423.8 71.2 Q 423.2 71.6, 422.7 72.5 L 421.4 71.9 \" fill=\"#0000FF\"/>\n",
       "</svg>"
      ],
      "text/plain": [
       "<IPython.core.display.SVG object>"
      ]
     },
     "execution_count": 20,
     "metadata": {},
     "output_type": "execute_result"
    }
   ],
   "source": [
    "big_smiles_gen(big)"
   ]
  },
  {
   "cell_type": "markdown",
   "id": "9a2be904",
   "metadata": {},
   "source": [
    "## New: Reaction of diol with di-acid"
   ]
  },
  {
   "cell_type": "code",
   "execution_count": 21,
   "id": "cd2a583f",
   "metadata": {},
   "outputs": [
    {
     "data": {
      "text/plain": [
       "'NC{[$][$]C[$][$]}|uniform(12, 72)|COOC{[$][$]C[$][$]}|uniform(12, 72)|CO'"
      ]
     },
     "execution_count": 21,
     "metadata": {},
     "output_type": "execute_result"
    }
   ],
   "source": [
    "big = \"NC{[$][$]C[$][$]}|uniform(12, 72)|COOC{[$][$]C[$][$]}|uniform(12, 72)|CO\"\n",
    "big"
   ]
  },
  {
   "cell_type": "code",
   "execution_count": 22,
   "id": "9ce377b0",
   "metadata": {},
   "outputs": [
    {
     "name": "stdout",
     "output_type": "stream",
     "text": [
      "NCCCCCOOCCCCO\n",
      "0.02003668347222223\n",
      "11\n"
     ]
    },
    {
     "data": {
      "image/svg+xml": [
       "<svg xmlns=\"http://www.w3.org/2000/svg\" xmlns:rdkit=\"http://www.rdkit.org/xml\" xmlns:xlink=\"http://www.w3.org/1999/xlink\" version=\"1.1\" baseProfile=\"full\" xml:space=\"preserve\" width=\"450px\" height=\"150px\" viewBox=\"0 0 450 150\">\n",
       "<!-- END OF HEADER -->\n",
       "<rect style=\"opacity:1.0;fill:#FFFFFF;stroke:none\" width=\"450.0\" height=\"150.0\" x=\"0.0\" y=\"0.0\"> </rect>\n",
       "<path class=\"bond-0 atom-0 atom-1\" d=\"M 45.2,68.8 L 58.3,76.4\" style=\"fill:none;fill-rule:evenodd;stroke:#0000FF;stroke-width:2.0px;stroke-linecap:butt;stroke-linejoin:miter;stroke-opacity:1\"/>\n",
       "<path class=\"bond-0 atom-0 atom-1\" d=\"M 58.3,76.4 L 71.4,83.9\" style=\"fill:none;fill-rule:evenodd;stroke:#000000;stroke-width:2.0px;stroke-linecap:butt;stroke-linejoin:miter;stroke-opacity:1\"/>\n",
       "<path class=\"bond-1 atom-1 atom-2\" d=\"M 71.4,83.9 L 102.7,65.9\" style=\"fill:none;fill-rule:evenodd;stroke:#000000;stroke-width:2.0px;stroke-linecap:butt;stroke-linejoin:miter;stroke-opacity:1\"/>\n",
       "<path class=\"bond-2 atom-2 atom-3\" d=\"M 102.7,65.9 L 134.0,83.9\" style=\"fill:none;fill-rule:evenodd;stroke:#000000;stroke-width:2.0px;stroke-linecap:butt;stroke-linejoin:miter;stroke-opacity:1\"/>\n",
       "<path class=\"bond-3 atom-3 atom-4\" d=\"M 134.0,83.9 L 165.2,65.9\" style=\"fill:none;fill-rule:evenodd;stroke:#000000;stroke-width:2.0px;stroke-linecap:butt;stroke-linejoin:miter;stroke-opacity:1\"/>\n",
       "<path class=\"bond-4 atom-5 atom-6\" d=\"M 196.5,83.9 L 209.2,76.6\" style=\"fill:none;fill-rule:evenodd;stroke:#000000;stroke-width:2.0px;stroke-linecap:butt;stroke-linejoin:miter;stroke-opacity:1\"/>\n",
       "<path class=\"bond-4 atom-5 atom-6\" d=\"M 209.2,76.6 L 221.8,69.3\" style=\"fill:none;fill-rule:evenodd;stroke:#FF0000;stroke-width:2.0px;stroke-linecap:butt;stroke-linejoin:miter;stroke-opacity:1\"/>\n",
       "<path class=\"bond-5 atom-6 atom-7\" d=\"M 233.6,69.3 L 253.1,80.5\" style=\"fill:none;fill-rule:evenodd;stroke:#FF0000;stroke-width:2.0px;stroke-linecap:butt;stroke-linejoin:miter;stroke-opacity:1\"/>\n",
       "<path class=\"bond-6 atom-7 atom-8\" d=\"M 264.9,80.5 L 277.6,73.2\" style=\"fill:none;fill-rule:evenodd;stroke:#FF0000;stroke-width:2.0px;stroke-linecap:butt;stroke-linejoin:miter;stroke-opacity:1\"/>\n",
       "<path class=\"bond-6 atom-7 atom-8\" d=\"M 277.6,73.2 L 290.2,65.9\" style=\"fill:none;fill-rule:evenodd;stroke:#000000;stroke-width:2.0px;stroke-linecap:butt;stroke-linejoin:miter;stroke-opacity:1\"/>\n",
       "<path class=\"bond-7 atom-4 atom-5\" d=\"M 165.2,65.9 L 196.5,83.9\" style=\"fill:none;fill-rule:evenodd;stroke:#000000;stroke-width:2.0px;stroke-linecap:butt;stroke-linejoin:miter;stroke-opacity:1\"/>\n",
       "<path class=\"bond-8 atom-8 atom-9\" d=\"M 290.2,65.9 L 321.5,83.9\" style=\"fill:none;fill-rule:evenodd;stroke:#000000;stroke-width:2.0px;stroke-linecap:butt;stroke-linejoin:miter;stroke-opacity:1\"/>\n",
       "<path class=\"bond-9 atom-9 atom-10\" d=\"M 321.5,83.9 L 352.8,65.9\" style=\"fill:none;fill-rule:evenodd;stroke:#000000;stroke-width:2.0px;stroke-linecap:butt;stroke-linejoin:miter;stroke-opacity:1\"/>\n",
       "<path class=\"bond-10 atom-11 atom-12\" d=\"M 384.0,83.9 L 396.7,76.6\" style=\"fill:none;fill-rule:evenodd;stroke:#000000;stroke-width:2.0px;stroke-linecap:butt;stroke-linejoin:miter;stroke-opacity:1\"/>\n",
       "<path class=\"bond-10 atom-11 atom-12\" d=\"M 396.7,76.6 L 409.4,69.3\" style=\"fill:none;fill-rule:evenodd;stroke:#FF0000;stroke-width:2.0px;stroke-linecap:butt;stroke-linejoin:miter;stroke-opacity:1\"/>\n",
       "<path class=\"bond-11 atom-10 atom-11\" d=\"M 352.8,65.9 L 384.0,83.9\" style=\"fill:none;fill-rule:evenodd;stroke:#000000;stroke-width:2.0px;stroke-linecap:butt;stroke-linejoin:miter;stroke-opacity:1\"/>\n",
       "<path d=\"M 70.8,83.6 L 71.4,83.9 L 73.0,83.0\" style=\"fill:none;stroke:#000000;stroke-width:2.0px;stroke-linecap:butt;stroke-linejoin:miter;stroke-opacity:1;\"/>\n",
       "<path d=\"M 101.1,66.8 L 102.7,65.9 L 104.3,66.8\" style=\"fill:none;stroke:#000000;stroke-width:2.0px;stroke-linecap:butt;stroke-linejoin:miter;stroke-opacity:1;\"/>\n",
       "<path d=\"M 132.4,83.0 L 134.0,83.9 L 135.5,83.0\" style=\"fill:none;stroke:#000000;stroke-width:2.0px;stroke-linecap:butt;stroke-linejoin:miter;stroke-opacity:1;\"/>\n",
       "<path d=\"M 163.6,66.8 L 165.2,65.9 L 166.8,66.8\" style=\"fill:none;stroke:#000000;stroke-width:2.0px;stroke-linecap:butt;stroke-linejoin:miter;stroke-opacity:1;\"/>\n",
       "<path d=\"M 197.1,83.6 L 196.5,83.9 L 194.9,83.0\" style=\"fill:none;stroke:#000000;stroke-width:2.0px;stroke-linecap:butt;stroke-linejoin:miter;stroke-opacity:1;\"/>\n",
       "<path d=\"M 289.6,66.3 L 290.2,65.9 L 291.8,66.8\" style=\"fill:none;stroke:#000000;stroke-width:2.0px;stroke-linecap:butt;stroke-linejoin:miter;stroke-opacity:1;\"/>\n",
       "<path d=\"M 319.9,83.0 L 321.5,83.9 L 323.1,83.0\" style=\"fill:none;stroke:#000000;stroke-width:2.0px;stroke-linecap:butt;stroke-linejoin:miter;stroke-opacity:1;\"/>\n",
       "<path d=\"M 351.2,66.8 L 352.8,65.9 L 354.3,66.8\" style=\"fill:none;stroke:#000000;stroke-width:2.0px;stroke-linecap:butt;stroke-linejoin:miter;stroke-opacity:1;\"/>\n",
       "<path d=\"M 384.6,83.6 L 384.0,83.9 L 382.4,83.0\" style=\"fill:none;stroke:#000000;stroke-width:2.0px;stroke-linecap:butt;stroke-linejoin:miter;stroke-opacity:1;\"/>\n",
       "<path class=\"atom-0\" d=\"M 20.5 60.8 L 21.8 60.8 L 21.8 65.1 L 27.1 65.1 L 27.1 60.8 L 28.5 60.8 L 28.5 71.0 L 27.1 71.0 L 27.1 66.3 L 21.8 66.3 L 21.8 71.0 L 20.5 71.0 L 20.5 60.8 \" fill=\"#0000FF\"/>\n",
       "<path class=\"atom-0\" d=\"M 30.5 70.6 Q 30.7 70.0, 31.3 69.7 Q 31.9 69.3, 32.7 69.3 Q 33.7 69.3, 34.3 69.8 Q 34.9 70.4, 34.9 71.4 Q 34.9 72.4, 34.1 73.3 Q 33.4 74.3, 31.9 75.4 L 35.0 75.4 L 35.0 76.1 L 30.4 76.1 L 30.4 75.5 Q 31.7 74.6, 32.4 73.9 Q 33.2 73.3, 33.6 72.7 Q 33.9 72.1, 33.9 71.4 Q 33.9 70.8, 33.6 70.4 Q 33.3 70.1, 32.7 70.1 Q 32.2 70.1, 31.8 70.3 Q 31.4 70.5, 31.2 71.0 L 30.5 70.6 \" fill=\"#0000FF\"/>\n",
       "<path class=\"atom-0\" d=\"M 37.9 60.8 L 41.3 66.2 Q 41.6 66.7, 42.1 67.7 Q 42.7 68.7, 42.7 68.7 L 42.7 60.8 L 44.1 60.8 L 44.1 71.0 L 42.7 71.0 L 39.1 65.1 Q 38.6 64.4, 38.2 63.6 Q 37.8 62.8, 37.6 62.6 L 37.6 71.0 L 36.3 71.0 L 36.3 60.8 L 37.9 60.8 \" fill=\"#0000FF\"/>\n",
       "<path class=\"atom-6\" d=\"M 223.0 65.9 Q 223.0 63.5, 224.2 62.1 Q 225.5 60.7, 227.7 60.7 Q 230.0 60.7, 231.2 62.1 Q 232.4 63.5, 232.4 65.9 Q 232.4 68.4, 231.2 69.8 Q 230.0 71.2, 227.7 71.2 Q 225.5 71.2, 224.2 69.8 Q 223.0 68.4, 223.0 65.9 M 227.7 70.1 Q 229.3 70.1, 230.1 69.0 Q 231.0 68.0, 231.0 65.9 Q 231.0 63.9, 230.1 62.9 Q 229.3 61.9, 227.7 61.9 Q 226.2 61.9, 225.3 62.9 Q 224.5 63.9, 224.5 65.9 Q 224.5 68.0, 225.3 69.0 Q 226.2 70.1, 227.7 70.1 \" fill=\"#FF0000\"/>\n",
       "<path class=\"atom-7\" d=\"M 254.3 84.0 Q 254.3 81.5, 255.5 80.1 Q 256.7 78.8, 259.0 78.8 Q 261.2 78.8, 262.5 80.1 Q 263.7 81.5, 263.7 84.0 Q 263.7 86.5, 262.4 87.9 Q 261.2 89.3, 259.0 89.3 Q 256.7 89.3, 255.5 87.9 Q 254.3 86.5, 254.3 84.0 M 259.0 88.1 Q 260.5 88.1, 261.4 87.1 Q 262.2 86.0, 262.2 84.0 Q 262.2 82.0, 261.4 81.0 Q 260.5 79.9, 259.0 79.9 Q 257.4 79.9, 256.6 80.9 Q 255.7 82.0, 255.7 84.0 Q 255.7 86.0, 256.6 87.1 Q 257.4 88.1, 259.0 88.1 \" fill=\"#FF0000\"/>\n",
       "<path class=\"atom-12\" d=\"M 410.6 65.9 Q 410.6 63.5, 411.8 62.1 Q 413.0 60.7, 415.3 60.7 Q 417.5 60.7, 418.7 62.1 Q 420.0 63.5, 420.0 65.9 Q 420.0 68.4, 418.7 69.8 Q 417.5 71.2, 415.3 71.2 Q 413.0 71.2, 411.8 69.8 Q 410.6 68.4, 410.6 65.9 M 415.3 70.1 Q 416.8 70.1, 417.7 69.0 Q 418.5 68.0, 418.5 65.9 Q 418.5 63.9, 417.7 62.9 Q 416.8 61.9, 415.3 61.9 Q 413.7 61.9, 412.9 62.9 Q 412.0 63.9, 412.0 65.9 Q 412.0 68.0, 412.9 69.0 Q 413.7 70.1, 415.3 70.1 \" fill=\"#FF0000\"/>\n",
       "<path class=\"atom-12\" d=\"M 421.5 60.8 L 422.9 60.8 L 422.9 65.2 L 428.2 65.2 L 428.2 60.8 L 429.5 60.8 L 429.5 71.1 L 428.2 71.1 L 428.2 66.3 L 422.9 66.3 L 422.9 71.1 L 421.5 71.1 L 421.5 60.8 \" fill=\"#FF0000\"/>\n",
       "</svg>"
      ],
      "text/plain": [
       "<IPython.core.display.SVG object>"
      ]
     },
     "execution_count": 22,
     "metadata": {},
     "output_type": "execute_result"
    }
   ],
   "source": [
    "big_smiles_gen(big)"
   ]
  },
  {
   "cell_type": "code",
   "execution_count": 23,
   "id": "2a403f14",
   "metadata": {},
   "outputs": [
    {
     "name": "stdout",
     "output_type": "stream",
     "text": [
      "NCCCCCCOOCCCCCCCCO\n",
      "0.01992658263888891\n",
      "g1\n"
     ]
    },
    {
     "data": {
      "image/png": "[encoded data removed]",
      "text/plain": [
       "<Figure size 432x288 with 1 Axes>"
      ]
     },
     "metadata": {},
     "output_type": "display_data"
    }
   ],
   "source": [
    "big_smiles_graph(big)"
   ]
  },
  {
   "cell_type": "code",
   "execution_count": 24,
   "id": "2734ddff",
   "metadata": {},
   "outputs": [
    {
     "name": "stdout",
     "output_type": "stream",
     "text": [
      "NCCCCCCCOOCCCCCCCO\n",
      "0.020036683472222205\n",
      "12\n"
     ]
    },
    {
     "data": {
      "image/svg+xml": [
       "<svg xmlns=\"http://www.w3.org/2000/svg\" xmlns:rdkit=\"http://www.rdkit.org/xml\" xmlns:xlink=\"http://www.w3.org/1999/xlink\" version=\"1.1\" baseProfile=\"full\" xml:space=\"preserve\" width=\"450px\" height=\"150px\" viewBox=\"0 0 450 150\">\n",
       "<!-- END OF HEADER -->\n",
       "<rect style=\"opacity:1.0;fill:#FFFFFF;stroke:none\" width=\"450.0\" height=\"150.0\" x=\"0.0\" y=\"0.0\"> </rect>\n",
       "<path class=\"bond-0 atom-0 atom-1\" d=\"M 411.2,77.1 L 401.7,71.6\" style=\"fill:none;fill-rule:evenodd;stroke:#0000FF;stroke-width:2.0px;stroke-linecap:butt;stroke-linejoin:miter;stroke-opacity:1\"/>\n",
       "<path class=\"bond-0 atom-0 atom-1\" d=\"M 401.7,71.6 L 392.2,66.2\" style=\"fill:none;fill-rule:evenodd;stroke:#000000;stroke-width:2.0px;stroke-linecap:butt;stroke-linejoin:miter;stroke-opacity:1\"/>\n",
       "<path class=\"bond-1 atom-1 atom-2\" d=\"M 392.2,66.2 L 369.7,79.4\" style=\"fill:none;fill-rule:evenodd;stroke:#000000;stroke-width:2.0px;stroke-linecap:butt;stroke-linejoin:miter;stroke-opacity:1\"/>\n",
       "<path class=\"bond-2 atom-2 atom-3\" d=\"M 369.7,79.4 L 347.1,66.5\" style=\"fill:none;fill-rule:evenodd;stroke:#000000;stroke-width:2.0px;stroke-linecap:butt;stroke-linejoin:miter;stroke-opacity:1\"/>\n",
       "<path class=\"bond-3 atom-3 atom-4\" d=\"M 347.1,66.5 L 324.6,79.6\" style=\"fill:none;fill-rule:evenodd;stroke:#000000;stroke-width:2.0px;stroke-linecap:butt;stroke-linejoin:miter;stroke-opacity:1\"/>\n",
       "<path class=\"bond-4 atom-4 atom-5\" d=\"M 324.6,79.6 L 301.9,66.7\" style=\"fill:none;fill-rule:evenodd;stroke:#000000;stroke-width:2.0px;stroke-linecap:butt;stroke-linejoin:miter;stroke-opacity:1\"/>\n",
       "<path class=\"bond-5 atom-5 atom-6\" d=\"M 301.9,66.7 L 279.4,79.9\" style=\"fill:none;fill-rule:evenodd;stroke:#000000;stroke-width:2.0px;stroke-linecap:butt;stroke-linejoin:miter;stroke-opacity:1\"/>\n",
       "<path class=\"bond-6 atom-7 atom-8\" d=\"M 189.2,80.4 L 198.3,75.0\" style=\"fill:none;fill-rule:evenodd;stroke:#000000;stroke-width:2.0px;stroke-linecap:butt;stroke-linejoin:miter;stroke-opacity:1\"/>\n",
       "<path class=\"bond-6 atom-7 atom-8\" d=\"M 198.3,75.0 L 207.4,69.7\" style=\"fill:none;fill-rule:evenodd;stroke:#FF0000;stroke-width:2.0px;stroke-linecap:butt;stroke-linejoin:miter;stroke-opacity:1\"/>\n",
       "<path class=\"bond-7 atom-8 atom-9\" d=\"M 215.9,69.6 L 230.1,77.7\" style=\"fill:none;fill-rule:evenodd;stroke:#FF0000;stroke-width:2.0px;stroke-linecap:butt;stroke-linejoin:miter;stroke-opacity:1\"/>\n",
       "<path class=\"bond-8 atom-9 atom-10\" d=\"M 238.6,77.6 L 247.7,72.3\" style=\"fill:none;fill-rule:evenodd;stroke:#FF0000;stroke-width:2.0px;stroke-linecap:butt;stroke-linejoin:miter;stroke-opacity:1\"/>\n",
       "<path class=\"bond-8 atom-9 atom-10\" d=\"M 247.7,72.3 L 256.8,67.0\" style=\"fill:none;fill-rule:evenodd;stroke:#000000;stroke-width:2.0px;stroke-linecap:butt;stroke-linejoin:miter;stroke-opacity:1\"/>\n",
       "<path class=\"bond-9 atom-6 atom-10\" d=\"M 279.4,79.9 L 256.8,67.0\" style=\"fill:none;fill-rule:evenodd;stroke:#000000;stroke-width:2.0px;stroke-linecap:butt;stroke-linejoin:miter;stroke-opacity:1\"/>\n",
       "<path class=\"bond-10 atom-7 atom-11\" d=\"M 189.2,80.4 L 166.5,67.5\" style=\"fill:none;fill-rule:evenodd;stroke:#000000;stroke-width:2.0px;stroke-linecap:butt;stroke-linejoin:miter;stroke-opacity:1\"/>\n",
       "<path class=\"bond-11 atom-11 atom-12\" d=\"M 166.5,67.5 L 144.0,80.6\" style=\"fill:none;fill-rule:evenodd;stroke:#000000;stroke-width:2.0px;stroke-linecap:butt;stroke-linejoin:miter;stroke-opacity:1\"/>\n",
       "<path class=\"bond-12 atom-12 atom-13\" d=\"M 144.0,80.6 L 121.4,67.7\" style=\"fill:none;fill-rule:evenodd;stroke:#000000;stroke-width:2.0px;stroke-linecap:butt;stroke-linejoin:miter;stroke-opacity:1\"/>\n",
       "<path class=\"bond-13 atom-13 atom-14\" d=\"M 121.4,67.7 L 98.9,80.8\" style=\"fill:none;fill-rule:evenodd;stroke:#000000;stroke-width:2.0px;stroke-linecap:butt;stroke-linejoin:miter;stroke-opacity:1\"/>\n",
       "<path class=\"bond-14 atom-14 atom-15\" d=\"M 98.9,80.8 L 76.3,67.9\" style=\"fill:none;fill-rule:evenodd;stroke:#000000;stroke-width:2.0px;stroke-linecap:butt;stroke-linejoin:miter;stroke-opacity:1\"/>\n",
       "<path class=\"bond-15 atom-16 atom-17\" d=\"M 53.8,81.1 L 44.6,75.8\" style=\"fill:none;fill-rule:evenodd;stroke:#000000;stroke-width:2.0px;stroke-linecap:butt;stroke-linejoin:miter;stroke-opacity:1\"/>\n",
       "<path class=\"bond-15 atom-16 atom-17\" d=\"M 44.6,75.8 L 35.4,70.6\" style=\"fill:none;fill-rule:evenodd;stroke:#FF0000;stroke-width:2.0px;stroke-linecap:butt;stroke-linejoin:miter;stroke-opacity:1\"/>\n",
       "<path class=\"bond-16 atom-15 atom-16\" d=\"M 76.3,67.9 L 53.8,81.1\" style=\"fill:none;fill-rule:evenodd;stroke:#000000;stroke-width:2.0px;stroke-linecap:butt;stroke-linejoin:miter;stroke-opacity:1\"/>\n",
       "<path d=\"M 392.7,66.5 L 392.2,66.2 L 391.1,66.9\" style=\"fill:none;stroke:#000000;stroke-width:2.0px;stroke-linecap:butt;stroke-linejoin:miter;stroke-opacity:1;\"/>\n",
       "<path d=\"M 370.8,78.7 L 369.7,79.4 L 368.6,78.7\" style=\"fill:none;stroke:#000000;stroke-width:2.0px;stroke-linecap:butt;stroke-linejoin:miter;stroke-opacity:1;\"/>\n",
       "<path d=\"M 348.2,67.1 L 347.1,66.5 L 346.0,67.1\" style=\"fill:none;stroke:#000000;stroke-width:2.0px;stroke-linecap:butt;stroke-linejoin:miter;stroke-opacity:1;\"/>\n",
       "<path d=\"M 325.7,79.0 L 324.6,79.6 L 323.4,79.0\" style=\"fill:none;stroke:#000000;stroke-width:2.0px;stroke-linecap:butt;stroke-linejoin:miter;stroke-opacity:1;\"/>\n",
       "<path d=\"M 303.1,67.4 L 301.9,66.7 L 300.8,67.4\" style=\"fill:none;stroke:#000000;stroke-width:2.0px;stroke-linecap:butt;stroke-linejoin:miter;stroke-opacity:1;\"/>\n",
       "<path d=\"M 280.6,79.2 L 279.4,79.9 L 278.3,79.2\" style=\"fill:none;stroke:#000000;stroke-width:2.0px;stroke-linecap:butt;stroke-linejoin:miter;stroke-opacity:1;\"/>\n",
       "<path d=\"M 189.6,80.1 L 189.2,80.4 L 188.0,79.7\" style=\"fill:none;stroke:#000000;stroke-width:2.0px;stroke-linecap:butt;stroke-linejoin:miter;stroke-opacity:1;\"/>\n",
       "<path d=\"M 256.4,67.2 L 256.8,67.0 L 257.9,67.6\" style=\"fill:none;stroke:#000000;stroke-width:2.0px;stroke-linecap:butt;stroke-linejoin:miter;stroke-opacity:1;\"/>\n",
       "<path d=\"M 167.7,68.1 L 166.5,67.5 L 165.4,68.1\" style=\"fill:none;stroke:#000000;stroke-width:2.0px;stroke-linecap:butt;stroke-linejoin:miter;stroke-opacity:1;\"/>\n",
       "<path d=\"M 145.2,79.9 L 144.0,80.6 L 142.9,80.0\" style=\"fill:none;stroke:#000000;stroke-width:2.0px;stroke-linecap:butt;stroke-linejoin:miter;stroke-opacity:1;\"/>\n",
       "<path d=\"M 122.5,68.3 L 121.4,67.7 L 120.3,68.4\" style=\"fill:none;stroke:#000000;stroke-width:2.0px;stroke-linecap:butt;stroke-linejoin:miter;stroke-opacity:1;\"/>\n",
       "<path d=\"M 100.0,80.2 L 98.9,80.8 L 97.8,80.2\" style=\"fill:none;stroke:#000000;stroke-width:2.0px;stroke-linecap:butt;stroke-linejoin:miter;stroke-opacity:1;\"/>\n",
       "<path d=\"M 77.4,68.6 L 76.3,67.9 L 75.1,68.6\" style=\"fill:none;stroke:#000000;stroke-width:2.0px;stroke-linecap:butt;stroke-linejoin:miter;stroke-opacity:1;\"/>\n",
       "<path d=\"M 53.3,80.8 L 53.8,81.1 L 54.9,80.4\" style=\"fill:none;stroke:#000000;stroke-width:2.0px;stroke-linecap:butt;stroke-linejoin:miter;stroke-opacity:1;\"/>\n",
       "<path class=\"atom-0\" d=\"M 413.2 75.5 L 415.6 79.4 Q 415.9 79.7, 416.3 80.4 Q 416.6 81.1, 416.7 81.2 L 416.7 75.5 L 417.6 75.5 L 417.6 82.8 L 416.6 82.8 L 414.0 78.6 Q 413.7 78.1, 413.4 77.5 Q 413.1 76.9, 413.0 76.7 L 413.0 82.8 L 412.1 82.8 L 412.1 75.5 L 413.2 75.5 \" fill=\"#0000FF\"/>\n",
       "<path class=\"atom-0\" d=\"M 419.1 75.5 L 420.1 75.5 L 420.1 78.6 L 423.8 78.6 L 423.8 75.5 L 424.8 75.5 L 424.8 82.8 L 423.8 82.8 L 423.8 79.4 L 420.1 79.4 L 420.1 82.8 L 419.1 82.8 L 419.1 75.5 \" fill=\"#0000FF\"/>\n",
       "<path class=\"atom-0\" d=\"M 426.3 82.6 Q 426.5 82.1, 426.9 81.9 Q 427.3 81.6, 427.9 81.6 Q 428.6 81.6, 429.1 82.0 Q 429.5 82.4, 429.5 83.1 Q 429.5 83.8, 428.9 84.5 Q 428.4 85.2, 427.3 86.0 L 429.5 86.0 L 429.5 86.5 L 426.3 86.5 L 426.3 86.1 Q 427.2 85.4, 427.7 84.9 Q 428.3 84.5, 428.5 84.0 Q 428.8 83.6, 428.8 83.1 Q 428.8 82.7, 428.5 82.4 Q 428.3 82.1, 427.9 82.1 Q 427.5 82.1, 427.2 82.3 Q 427.0 82.5, 426.8 82.8 L 426.3 82.6 \" fill=\"#0000FF\"/>\n",
       "<path class=\"atom-8\" d=\"M 208.3 67.2 Q 208.3 65.5, 209.2 64.5 Q 210.0 63.5, 211.7 63.5 Q 213.3 63.5, 214.2 64.5 Q 215.1 65.5, 215.1 67.2 Q 215.1 69.0, 214.2 70.0 Q 213.3 71.1, 211.7 71.1 Q 210.0 71.1, 209.2 70.0 Q 208.3 69.0, 208.3 67.2 M 211.7 70.2 Q 212.8 70.2, 213.4 69.5 Q 214.0 68.7, 214.0 67.2 Q 214.0 65.8, 213.4 65.0 Q 212.8 64.3, 211.7 64.3 Q 210.5 64.3, 209.9 65.0 Q 209.3 65.8, 209.3 67.2 Q 209.3 68.7, 209.9 69.5 Q 210.5 70.2, 211.7 70.2 \" fill=\"#FF0000\"/>\n",
       "<path class=\"atom-9\" d=\"M 230.9 80.1 Q 230.9 78.4, 231.8 77.4 Q 232.7 76.4, 234.3 76.4 Q 235.9 76.4, 236.8 77.4 Q 237.7 78.4, 237.7 80.1 Q 237.7 81.9, 236.8 83.0 Q 235.9 84.0, 234.3 84.0 Q 232.7 84.0, 231.8 83.0 Q 230.9 81.9, 230.9 80.1 M 234.3 83.1 Q 235.4 83.1, 236.0 82.4 Q 236.7 81.6, 236.7 80.1 Q 236.7 78.7, 236.0 78.0 Q 235.4 77.2, 234.3 77.2 Q 233.2 77.2, 232.6 77.9 Q 232.0 78.7, 232.0 80.1 Q 232.0 81.6, 232.6 82.4 Q 233.2 83.1, 234.3 83.1 \" fill=\"#FF0000\"/>\n",
       "<path class=\"atom-17\" d=\"M 20.5 64.5 L 21.5 64.5 L 21.5 67.7 L 25.2 67.7 L 25.2 64.5 L 26.2 64.5 L 26.2 71.9 L 25.2 71.9 L 25.2 68.5 L 21.5 68.5 L 21.5 71.9 L 20.5 71.9 L 20.5 64.5 \" fill=\"#FF0000\"/>\n",
       "<path class=\"atom-17\" d=\"M 27.7 68.2 Q 27.7 66.4, 28.6 65.4 Q 29.5 64.4, 31.1 64.4 Q 32.8 64.4, 33.6 65.4 Q 34.5 66.4, 34.5 68.2 Q 34.5 70.0, 33.6 71.0 Q 32.7 72.0, 31.1 72.0 Q 29.5 72.0, 28.6 71.0 Q 27.7 70.0, 27.7 68.2 M 31.1 71.2 Q 32.3 71.2, 32.9 70.4 Q 33.5 69.7, 33.5 68.2 Q 33.5 66.8, 32.9 66.0 Q 32.3 65.3, 31.1 65.3 Q 30.0 65.3, 29.4 66.0 Q 28.8 66.7, 28.8 68.2 Q 28.8 69.7, 29.4 70.4 Q 30.0 71.2, 31.1 71.2 \" fill=\"#FF0000\"/>\n",
       "</svg>"
      ],
      "text/plain": [
       "<IPython.core.display.SVG object>"
      ]
     },
     "execution_count": 24,
     "metadata": {},
     "output_type": "execute_result"
    }
   ],
   "source": [
    "big_smiles_gen(big)"
   ]
  },
  {
   "cell_type": "markdown",
   "id": "0a23f756",
   "metadata": {},
   "source": [
    "## Same diol and di-acid reaction, but with phenyl ring"
   ]
  },
  {
   "cell_type": "code",
   "execution_count": 25,
   "id": "dde1bc42",
   "metadata": {},
   "outputs": [
    {
     "data": {
      "text/plain": [
       "'NC{[$][$]C[$][$]}|uniform(12, 72)|COOC{[$][$]C([$])C1CCCCC1[$]}|uniform(50, 250)|CO'"
      ]
     },
     "execution_count": 25,
     "metadata": {},
     "output_type": "execute_result"
    }
   ],
   "source": [
    "big = \"NC{[$][$]C[$][$]}|uniform(12, 72)|COOC{[$][$]C([$])C1CCCCC1[$]}|uniform(50, 250)|CO\"\n",
    "big"
   ]
  },
  {
   "cell_type": "code",
   "execution_count": 26,
   "id": "de751cdf",
   "metadata": {},
   "outputs": [
    {
     "name": "stdout",
     "output_type": "stream",
     "text": [
      "NCCCCCOOCC(CO)C1CCCCC1\n",
      "0.01705411862500001\n",
      "13\n"
     ]
    },
    {
     "data": {
      "image/svg+xml": [
       "<svg xmlns=\"http://www.w3.org/2000/svg\" xmlns:rdkit=\"http://www.rdkit.org/xml\" xmlns:xlink=\"http://www.w3.org/1999/xlink\" version=\"1.1\" baseProfile=\"full\" xml:space=\"preserve\" width=\"450px\" height=\"150px\" viewBox=\"0 0 450 150\">\n",
       "<!-- END OF HEADER -->\n",
       "<rect style=\"opacity:1.0;fill:#FFFFFF;stroke:none\" width=\"450.0\" height=\"150.0\" x=\"0.0\" y=\"0.0\"> </rect>\n",
       "<path class=\"bond-0 atom-0 atom-1\" d=\"M 46.0,47.9 L 59.0,56.4\" style=\"fill:none;fill-rule:evenodd;stroke:#0000FF;stroke-width:2.0px;stroke-linecap:butt;stroke-linejoin:miter;stroke-opacity:1\"/>\n",
       "<path class=\"bond-0 atom-0 atom-1\" d=\"M 59.0,56.4 L 71.9,65.0\" style=\"fill:none;fill-rule:evenodd;stroke:#000000;stroke-width:2.0px;stroke-linecap:butt;stroke-linejoin:miter;stroke-opacity:1\"/>\n",
       "<path class=\"bond-1 atom-1 atom-2\" d=\"M 71.9,65.0 L 105.2,48.3\" style=\"fill:none;fill-rule:evenodd;stroke:#000000;stroke-width:2.0px;stroke-linecap:butt;stroke-linejoin:miter;stroke-opacity:1\"/>\n",
       "<path class=\"bond-2 atom-2 atom-3\" d=\"M 105.2,48.3 L 136.3,68.9\" style=\"fill:none;fill-rule:evenodd;stroke:#000000;stroke-width:2.0px;stroke-linecap:butt;stroke-linejoin:miter;stroke-opacity:1\"/>\n",
       "<path class=\"bond-3 atom-3 atom-4\" d=\"M 136.3,68.9 L 169.6,52.2\" style=\"fill:none;fill-rule:evenodd;stroke:#000000;stroke-width:2.0px;stroke-linecap:butt;stroke-linejoin:miter;stroke-opacity:1\"/>\n",
       "<path class=\"bond-4 atom-5 atom-6\" d=\"M 200.7,72.8 L 214.4,66.0\" style=\"fill:none;fill-rule:evenodd;stroke:#000000;stroke-width:2.0px;stroke-linecap:butt;stroke-linejoin:miter;stroke-opacity:1\"/>\n",
       "<path class=\"bond-4 atom-5 atom-6\" d=\"M 214.4,66.0 L 228.0,59.2\" style=\"fill:none;fill-rule:evenodd;stroke:#FF0000;stroke-width:2.0px;stroke-linecap:butt;stroke-linejoin:miter;stroke-opacity:1\"/>\n",
       "<path class=\"bond-5 atom-6 atom-7\" d=\"M 240.1,60.1 L 259.1,72.7\" style=\"fill:none;fill-rule:evenodd;stroke:#FF0000;stroke-width:2.0px;stroke-linecap:butt;stroke-linejoin:miter;stroke-opacity:1\"/>\n",
       "<path class=\"bond-6 atom-7 atom-8\" d=\"M 271.2,73.6 L 284.8,66.8\" style=\"fill:none;fill-rule:evenodd;stroke:#FF0000;stroke-width:2.0px;stroke-linecap:butt;stroke-linejoin:miter;stroke-opacity:1\"/>\n",
       "<path class=\"bond-6 atom-7 atom-8\" d=\"M 284.8,66.8 L 298.5,60.0\" style=\"fill:none;fill-rule:evenodd;stroke:#000000;stroke-width:2.0px;stroke-linecap:butt;stroke-linejoin:miter;stroke-opacity:1\"/>\n",
       "<path class=\"bond-7 atom-4 atom-5\" d=\"M 169.6,52.2 L 200.7,72.8\" style=\"fill:none;fill-rule:evenodd;stroke:#000000;stroke-width:2.0px;stroke-linecap:butt;stroke-linejoin:miter;stroke-opacity:1\"/>\n",
       "<path class=\"bond-8 atom-9 atom-10\" d=\"M 329.6,80.6 L 362.9,63.9\" style=\"fill:none;fill-rule:evenodd;stroke:#000000;stroke-width:2.0px;stroke-linecap:butt;stroke-linejoin:miter;stroke-opacity:1\"/>\n",
       "<path class=\"bond-9 atom-10 atom-11\" d=\"M 362.9,63.9 L 365.1,26.7\" style=\"fill:none;fill-rule:evenodd;stroke:#000000;stroke-width:2.0px;stroke-linecap:butt;stroke-linejoin:miter;stroke-opacity:1\"/>\n",
       "<path class=\"bond-10 atom-11 atom-12\" d=\"M 365.1,26.7 L 398.5,10.1\" style=\"fill:none;fill-rule:evenodd;stroke:#000000;stroke-width:2.0px;stroke-linecap:butt;stroke-linejoin:miter;stroke-opacity:1\"/>\n",
       "<path class=\"bond-11 atom-12 atom-13\" d=\"M 398.5,10.1 L 429.5,30.6\" style=\"fill:none;fill-rule:evenodd;stroke:#000000;stroke-width:2.0px;stroke-linecap:butt;stroke-linejoin:miter;stroke-opacity:1\"/>\n",
       "<path class=\"bond-12 atom-13 atom-14\" d=\"M 429.5,30.6 L 427.3,67.8\" style=\"fill:none;fill-rule:evenodd;stroke:#000000;stroke-width:2.0px;stroke-linecap:butt;stroke-linejoin:miter;stroke-opacity:1\"/>\n",
       "<path class=\"bond-13 atom-14 atom-15\" d=\"M 427.3,67.8 L 394.0,84.5\" style=\"fill:none;fill-rule:evenodd;stroke:#000000;stroke-width:2.0px;stroke-linecap:butt;stroke-linejoin:miter;stroke-opacity:1\"/>\n",
       "<path class=\"bond-14 atom-15 atom-10\" d=\"M 394.0,84.5 L 362.9,63.9\" style=\"fill:none;fill-rule:evenodd;stroke:#000000;stroke-width:2.0px;stroke-linecap:butt;stroke-linejoin:miter;stroke-opacity:1\"/>\n",
       "<path class=\"bond-15 atom-8 atom-9\" d=\"M 298.5,60.0 L 329.6,80.6\" style=\"fill:none;fill-rule:evenodd;stroke:#000000;stroke-width:2.0px;stroke-linecap:butt;stroke-linejoin:miter;stroke-opacity:1\"/>\n",
       "<path class=\"bond-16 atom-16 atom-17\" d=\"M 327.3,117.8 L 313.7,124.6\" style=\"fill:none;fill-rule:evenodd;stroke:#000000;stroke-width:2.0px;stroke-linecap:butt;stroke-linejoin:miter;stroke-opacity:1\"/>\n",
       "<path class=\"bond-16 atom-16 atom-17\" d=\"M 313.7,124.6 L 300.0,131.4\" style=\"fill:none;fill-rule:evenodd;stroke:#FF0000;stroke-width:2.0px;stroke-linecap:butt;stroke-linejoin:miter;stroke-opacity:1\"/>\n",
       "<path class=\"bond-17 atom-9 atom-16\" d=\"M 329.6,80.6 L 327.3,117.8\" style=\"fill:none;fill-rule:evenodd;stroke:#000000;stroke-width:2.0px;stroke-linecap:butt;stroke-linejoin:miter;stroke-opacity:1\"/>\n",
       "<path d=\"M 71.3,64.6 L 71.9,65.0 L 73.6,64.1\" style=\"fill:none;stroke:#000000;stroke-width:2.0px;stroke-linecap:butt;stroke-linejoin:miter;stroke-opacity:1;\"/>\n",
       "<path d=\"M 103.6,49.2 L 105.2,48.3 L 106.8,49.4\" style=\"fill:none;stroke:#000000;stroke-width:2.0px;stroke-linecap:butt;stroke-linejoin:miter;stroke-opacity:1;\"/>\n",
       "<path d=\"M 134.8,67.9 L 136.3,68.9 L 138.0,68.0\" style=\"fill:none;stroke:#000000;stroke-width:2.0px;stroke-linecap:butt;stroke-linejoin:miter;stroke-opacity:1;\"/>\n",
       "<path d=\"M 168.0,53.1 L 169.6,52.2 L 171.2,53.3\" style=\"fill:none;stroke:#000000;stroke-width:2.0px;stroke-linecap:butt;stroke-linejoin:miter;stroke-opacity:1;\"/>\n",
       "<path d=\"M 201.4,72.4 L 200.7,72.8 L 199.2,71.7\" style=\"fill:none;stroke:#000000;stroke-width:2.0px;stroke-linecap:butt;stroke-linejoin:miter;stroke-opacity:1;\"/>\n",
       "<path d=\"M 297.8,60.4 L 298.5,60.0 L 300.0,61.1\" style=\"fill:none;stroke:#000000;stroke-width:2.0px;stroke-linecap:butt;stroke-linejoin:miter;stroke-opacity:1;\"/>\n",
       "<path d=\"M 365.0,28.6 L 365.1,26.7 L 366.8,25.9\" style=\"fill:none;stroke:#000000;stroke-width:2.0px;stroke-linecap:butt;stroke-linejoin:miter;stroke-opacity:1;\"/>\n",
       "<path d=\"M 396.8,10.9 L 398.5,10.1 L 400.0,11.1\" style=\"fill:none;stroke:#000000;stroke-width:2.0px;stroke-linecap:butt;stroke-linejoin:miter;stroke-opacity:1;\"/>\n",
       "<path d=\"M 428.0,29.6 L 429.5,30.6 L 429.4,32.5\" style=\"fill:none;stroke:#000000;stroke-width:2.0px;stroke-linecap:butt;stroke-linejoin:miter;stroke-opacity:1;\"/>\n",
       "<path d=\"M 427.4,66.0 L 427.3,67.8 L 425.6,68.7\" style=\"fill:none;stroke:#000000;stroke-width:2.0px;stroke-linecap:butt;stroke-linejoin:miter;stroke-opacity:1;\"/>\n",
       "<path d=\"M 395.6,83.6 L 394.0,84.5 L 392.4,83.4\" style=\"fill:none;stroke:#000000;stroke-width:2.0px;stroke-linecap:butt;stroke-linejoin:miter;stroke-opacity:1;\"/>\n",
       "<path d=\"M 326.6,118.1 L 327.3,117.8 L 327.4,115.9\" style=\"fill:none;stroke:#000000;stroke-width:2.0px;stroke-linecap:butt;stroke-linejoin:miter;stroke-opacity:1;\"/>\n",
       "<path class=\"atom-0\" d=\"M 20.5 39.2 L 21.9 39.2 L 21.9 43.6 L 27.3 43.6 L 27.3 39.2 L 28.7 39.2 L 28.7 49.7 L 27.3 49.7 L 27.3 44.8 L 21.9 44.8 L 21.9 49.7 L 20.5 49.7 L 20.5 39.2 \" fill=\"#0000FF\"/>\n",
       "<path class=\"atom-0\" d=\"M 30.8 49.3 Q 31.0 48.7, 31.6 48.3 Q 32.3 47.9, 33.1 47.9 Q 34.1 47.9, 34.7 48.5 Q 35.3 49.1, 35.3 50.1 Q 35.3 51.1, 34.6 52.1 Q 33.8 53.1, 32.2 54.2 L 35.4 54.2 L 35.4 55.0 L 30.8 55.0 L 30.8 54.3 Q 32.1 53.4, 32.8 52.7 Q 33.6 52.0, 34.0 51.4 Q 34.3 50.8, 34.3 50.1 Q 34.3 49.5, 34.0 49.1 Q 33.7 48.7, 33.1 48.7 Q 32.5 48.7, 32.2 49.0 Q 31.8 49.2, 31.5 49.7 L 30.8 49.3 \" fill=\"#0000FF\"/>\n",
       "<path class=\"atom-0\" d=\"M 38.5 39.2 L 41.9 44.7 Q 42.3 45.3, 42.8 46.3 Q 43.4 47.3, 43.4 47.4 L 43.4 39.2 L 44.8 39.2 L 44.8 49.7 L 43.4 49.7 L 39.7 43.6 Q 39.2 42.9, 38.8 42.1 Q 38.3 41.2, 38.2 41.0 L 38.2 49.7 L 36.8 49.7 L 36.8 39.2 L 38.5 39.2 \" fill=\"#0000FF\"/>\n",
       "<path class=\"atom-6\" d=\"M 229.2 56.2 Q 229.2 53.6, 230.5 52.2 Q 231.7 50.8, 234.1 50.8 Q 236.4 50.8, 237.6 52.2 Q 238.9 53.6, 238.9 56.2 Q 238.9 58.7, 237.6 60.2 Q 236.4 61.6, 234.1 61.6 Q 231.7 61.6, 230.5 60.2 Q 229.2 58.7, 229.2 56.2 M 234.1 60.4 Q 235.7 60.4, 236.5 59.4 Q 237.4 58.3, 237.4 56.2 Q 237.4 54.1, 236.5 53.0 Q 235.7 52.0, 234.1 52.0 Q 232.4 52.0, 231.6 53.0 Q 230.7 54.1, 230.7 56.2 Q 230.7 58.3, 231.6 59.4 Q 232.4 60.4, 234.1 60.4 \" fill=\"#FF0000\"/>\n",
       "<path class=\"atom-7\" d=\"M 260.3 76.7 Q 260.3 74.2, 261.5 72.8 Q 262.8 71.3, 265.1 71.3 Q 267.5 71.3, 268.7 72.8 Q 270.0 74.2, 270.0 76.7 Q 270.0 79.3, 268.7 80.7 Q 267.4 82.2, 265.1 82.2 Q 262.8 82.2, 261.5 80.7 Q 260.3 79.3, 260.3 76.7 M 265.1 81.0 Q 266.7 81.0, 267.6 79.9 Q 268.5 78.8, 268.5 76.7 Q 268.5 74.6, 267.6 73.6 Q 266.7 72.5, 265.1 72.5 Q 263.5 72.5, 262.6 73.6 Q 261.8 74.6, 261.8 76.7 Q 261.8 78.8, 262.6 79.9 Q 263.5 81.0, 265.1 81.0 \" fill=\"#FF0000\"/>\n",
       "<path class=\"atom-17\" d=\"M 278.7 129.2 L 280.1 129.2 L 280.1 133.7 L 285.5 133.7 L 285.5 129.2 L 287.0 129.2 L 287.0 139.7 L 285.5 139.7 L 285.5 134.9 L 280.1 134.9 L 280.1 139.7 L 278.7 139.7 L 278.7 129.2 \" fill=\"#FF0000\"/>\n",
       "<path class=\"atom-17\" d=\"M 289.1 134.4 Q 289.1 131.9, 290.4 130.5 Q 291.6 129.1, 294.0 129.1 Q 296.3 129.1, 297.6 130.5 Q 298.8 131.9, 298.8 134.4 Q 298.8 137.0, 297.5 138.5 Q 296.3 139.9, 294.0 139.9 Q 291.6 139.9, 290.4 138.5 Q 289.1 137.0, 289.1 134.4 M 294.0 138.7 Q 295.6 138.7, 296.4 137.6 Q 297.3 136.6, 297.3 134.4 Q 297.3 132.4, 296.4 131.3 Q 295.6 130.3, 294.0 130.3 Q 292.4 130.3, 291.5 131.3 Q 290.6 132.4, 290.6 134.4 Q 290.6 136.6, 291.5 137.6 Q 292.4 138.7, 294.0 138.7 \" fill=\"#FF0000\"/>\n",
       "</svg>"
      ],
      "text/plain": [
       "<IPython.core.display.SVG object>"
      ]
     },
     "execution_count": 26,
     "metadata": {},
     "output_type": "execute_result"
    }
   ],
   "source": [
    "big_smiles_gen(big)"
   ]
  },
  {
   "cell_type": "code",
   "execution_count": 27,
   "id": "cb75c155",
   "metadata": {},
   "outputs": [
    {
     "name": "stdout",
     "output_type": "stream",
     "text": [
      "NCCCCOOCC(C1CCCCC1)C(CO)C1CCCCC1\n",
      "0.04207703529166666\n",
      "14\n"
     ]
    },
    {
     "data": {
      "image/svg+xml": [
       "<svg xmlns=\"http://www.w3.org/2000/svg\" xmlns:rdkit=\"http://www.rdkit.org/xml\" xmlns:xlink=\"http://www.w3.org/1999/xlink\" version=\"1.1\" baseProfile=\"full\" xml:space=\"preserve\" width=\"450px\" height=\"150px\" viewBox=\"0 0 450 150\">\n",
       "<!-- END OF HEADER -->\n",
       "<rect style=\"opacity:1.0;fill:#FFFFFF;stroke:none\" width=\"450.0\" height=\"150.0\" x=\"0.0\" y=\"0.0\"> </rect>\n",
       "<path class=\"bond-0 atom-0 atom-1\" d=\"M 102.3,87.5 L 111.3,80.7\" style=\"fill:none;fill-rule:evenodd;stroke:#0000FF;stroke-width:2.0px;stroke-linecap:butt;stroke-linejoin:miter;stroke-opacity:1\"/>\n",
       "<path class=\"bond-0 atom-0 atom-1\" d=\"M 111.3,80.7 L 120.4,73.9\" style=\"fill:none;fill-rule:evenodd;stroke:#000000;stroke-width:2.0px;stroke-linecap:butt;stroke-linejoin:miter;stroke-opacity:1\"/>\n",
       "<path class=\"bond-1 atom-1 atom-2\" d=\"M 120.4,73.9 L 145.6,84.6\" style=\"fill:none;fill-rule:evenodd;stroke:#000000;stroke-width:2.0px;stroke-linecap:butt;stroke-linejoin:miter;stroke-opacity:1\"/>\n",
       "<path class=\"bond-2 atom-2 atom-3\" d=\"M 145.6,84.6 L 167.6,68.1\" style=\"fill:none;fill-rule:evenodd;stroke:#000000;stroke-width:2.0px;stroke-linecap:butt;stroke-linejoin:miter;stroke-opacity:1\"/>\n",
       "<path class=\"bond-3 atom-4 atom-5\" d=\"M 262.1,56.4 L 253.3,63.0\" style=\"fill:none;fill-rule:evenodd;stroke:#000000;stroke-width:2.0px;stroke-linecap:butt;stroke-linejoin:miter;stroke-opacity:1\"/>\n",
       "<path class=\"bond-3 atom-4 atom-5\" d=\"M 253.3,63.0 L 244.6,69.6\" style=\"fill:none;fill-rule:evenodd;stroke:#FF0000;stroke-width:2.0px;stroke-linecap:butt;stroke-linejoin:miter;stroke-opacity:1\"/>\n",
       "<path class=\"bond-4 atom-5 atom-6\" d=\"M 235.6,71.1 L 219.3,64.2\" style=\"fill:none;fill-rule:evenodd;stroke:#FF0000;stroke-width:2.0px;stroke-linecap:butt;stroke-linejoin:miter;stroke-opacity:1\"/>\n",
       "<path class=\"bond-5 atom-6 atom-7\" d=\"M 210.3,65.6 L 201.6,72.2\" style=\"fill:none;fill-rule:evenodd;stroke:#FF0000;stroke-width:2.0px;stroke-linecap:butt;stroke-linejoin:miter;stroke-opacity:1\"/>\n",
       "<path class=\"bond-5 atom-6 atom-7\" d=\"M 201.6,72.2 L 192.9,78.8\" style=\"fill:none;fill-rule:evenodd;stroke:#000000;stroke-width:2.0px;stroke-linecap:butt;stroke-linejoin:miter;stroke-opacity:1\"/>\n",
       "<path class=\"bond-6 atom-3 atom-7\" d=\"M 167.6,68.1 L 192.9,78.8\" style=\"fill:none;fill-rule:evenodd;stroke:#000000;stroke-width:2.0px;stroke-linecap:butt;stroke-linejoin:miter;stroke-opacity:1\"/>\n",
       "<path class=\"bond-7 atom-8 atom-9\" d=\"M 287.4,67.2 L 309.3,50.6\" style=\"fill:none;fill-rule:evenodd;stroke:#000000;stroke-width:2.0px;stroke-linecap:butt;stroke-linejoin:miter;stroke-opacity:1\"/>\n",
       "<path class=\"bond-8 atom-9 atom-10\" d=\"M 309.3,50.6 L 334.6,61.4\" style=\"fill:none;fill-rule:evenodd;stroke:#000000;stroke-width:2.0px;stroke-linecap:butt;stroke-linejoin:miter;stroke-opacity:1\"/>\n",
       "<path class=\"bond-9 atom-10 atom-11\" d=\"M 334.6,61.4 L 356.5,44.8\" style=\"fill:none;fill-rule:evenodd;stroke:#000000;stroke-width:2.0px;stroke-linecap:butt;stroke-linejoin:miter;stroke-opacity:1\"/>\n",
       "<path class=\"bond-10 atom-11 atom-12\" d=\"M 356.5,44.8 L 353.2,17.5\" style=\"fill:none;fill-rule:evenodd;stroke:#000000;stroke-width:2.0px;stroke-linecap:butt;stroke-linejoin:miter;stroke-opacity:1\"/>\n",
       "<path class=\"bond-11 atom-12 atom-13\" d=\"M 353.2,17.5 L 327.9,6.8\" style=\"fill:none;fill-rule:evenodd;stroke:#000000;stroke-width:2.0px;stroke-linecap:butt;stroke-linejoin:miter;stroke-opacity:1\"/>\n",
       "<path class=\"bond-12 atom-13 atom-14\" d=\"M 327.9,6.8 L 305.9,23.4\" style=\"fill:none;fill-rule:evenodd;stroke:#000000;stroke-width:2.0px;stroke-linecap:butt;stroke-linejoin:miter;stroke-opacity:1\"/>\n",
       "<path class=\"bond-13 atom-14 atom-9\" d=\"M 305.9,23.4 L 309.3,50.6\" style=\"fill:none;fill-rule:evenodd;stroke:#000000;stroke-width:2.0px;stroke-linecap:butt;stroke-linejoin:miter;stroke-opacity:1\"/>\n",
       "<path class=\"bond-14 atom-4 atom-8\" d=\"M 262.1,56.4 L 287.4,67.2\" style=\"fill:none;fill-rule:evenodd;stroke:#000000;stroke-width:2.0px;stroke-linecap:butt;stroke-linejoin:miter;stroke-opacity:1\"/>\n",
       "<path class=\"bond-15 atom-15 atom-16\" d=\"M 290.7,94.5 L 316.0,105.2\" style=\"fill:none;fill-rule:evenodd;stroke:#000000;stroke-width:2.0px;stroke-linecap:butt;stroke-linejoin:miter;stroke-opacity:1\"/>\n",
       "<path class=\"bond-16 atom-16 atom-17\" d=\"M 316.0,105.2 L 319.4,132.5\" style=\"fill:none;fill-rule:evenodd;stroke:#000000;stroke-width:2.0px;stroke-linecap:butt;stroke-linejoin:miter;stroke-opacity:1\"/>\n",
       "<path class=\"bond-17 atom-17 atom-18\" d=\"M 319.4,132.5 L 344.7,143.2\" style=\"fill:none;fill-rule:evenodd;stroke:#000000;stroke-width:2.0px;stroke-linecap:butt;stroke-linejoin:miter;stroke-opacity:1\"/>\n",
       "<path class=\"bond-18 atom-18 atom-19\" d=\"M 344.7,143.2 L 366.6,126.6\" style=\"fill:none;fill-rule:evenodd;stroke:#000000;stroke-width:2.0px;stroke-linecap:butt;stroke-linejoin:miter;stroke-opacity:1\"/>\n",
       "<path class=\"bond-19 atom-19 atom-20\" d=\"M 366.6,126.6 L 363.3,99.4\" style=\"fill:none;fill-rule:evenodd;stroke:#000000;stroke-width:2.0px;stroke-linecap:butt;stroke-linejoin:miter;stroke-opacity:1\"/>\n",
       "<path class=\"bond-20 atom-20 atom-21\" d=\"M 363.3,99.4 L 338.0,88.6\" style=\"fill:none;fill-rule:evenodd;stroke:#000000;stroke-width:2.0px;stroke-linecap:butt;stroke-linejoin:miter;stroke-opacity:1\"/>\n",
       "<path class=\"bond-21 atom-21 atom-16\" d=\"M 338.0,88.6 L 316.0,105.2\" style=\"fill:none;fill-rule:evenodd;stroke:#000000;stroke-width:2.0px;stroke-linecap:butt;stroke-linejoin:miter;stroke-opacity:1\"/>\n",
       "<path class=\"bond-22 atom-8 atom-15\" d=\"M 287.4,67.2 L 290.7,94.5\" style=\"fill:none;fill-rule:evenodd;stroke:#000000;stroke-width:2.0px;stroke-linecap:butt;stroke-linejoin:miter;stroke-opacity:1\"/>\n",
       "<path class=\"bond-23 atom-22 atom-23\" d=\"M 268.8,111.0 L 270.2,122.2\" style=\"fill:none;fill-rule:evenodd;stroke:#000000;stroke-width:2.0px;stroke-linecap:butt;stroke-linejoin:miter;stroke-opacity:1\"/>\n",
       "<path class=\"bond-23 atom-22 atom-23\" d=\"M 270.2,122.2 L 271.5,133.4\" style=\"fill:none;fill-rule:evenodd;stroke:#FF0000;stroke-width:2.0px;stroke-linecap:butt;stroke-linejoin:miter;stroke-opacity:1\"/>\n",
       "<path class=\"bond-24 atom-15 atom-22\" d=\"M 290.7,94.5 L 268.8,111.0\" style=\"fill:none;fill-rule:evenodd;stroke:#000000;stroke-width:2.0px;stroke-linecap:butt;stroke-linejoin:miter;stroke-opacity:1\"/>\n",
       "<path d=\"M 119.9,74.2 L 120.4,73.9 L 121.6,74.4\" style=\"fill:none;stroke:#000000;stroke-width:2.0px;stroke-linecap:butt;stroke-linejoin:miter;stroke-opacity:1;\"/>\n",
       "<path d=\"M 144.4,84.1 L 145.6,84.6 L 146.7,83.8\" style=\"fill:none;stroke:#000000;stroke-width:2.0px;stroke-linecap:butt;stroke-linejoin:miter;stroke-opacity:1;\"/>\n",
       "<path d=\"M 166.5,68.9 L 167.6,68.1 L 168.9,68.6\" style=\"fill:none;stroke:#000000;stroke-width:2.0px;stroke-linecap:butt;stroke-linejoin:miter;stroke-opacity:1;\"/>\n",
       "<path d=\"M 261.6,56.8 L 262.1,56.4 L 263.3,57.0\" style=\"fill:none;stroke:#000000;stroke-width:2.0px;stroke-linecap:butt;stroke-linejoin:miter;stroke-opacity:1;\"/>\n",
       "<path d=\"M 193.3,78.5 L 192.9,78.8 L 191.6,78.3\" style=\"fill:none;stroke:#000000;stroke-width:2.0px;stroke-linecap:butt;stroke-linejoin:miter;stroke-opacity:1;\"/>\n",
       "<path d=\"M 333.3,60.8 L 334.6,61.4 L 335.7,60.5\" style=\"fill:none;stroke:#000000;stroke-width:2.0px;stroke-linecap:butt;stroke-linejoin:miter;stroke-opacity:1;\"/>\n",
       "<path d=\"M 355.4,45.6 L 356.5,44.8 L 356.4,43.5\" style=\"fill:none;stroke:#000000;stroke-width:2.0px;stroke-linecap:butt;stroke-linejoin:miter;stroke-opacity:1;\"/>\n",
       "<path d=\"M 353.3,18.9 L 353.2,17.5 L 351.9,17.0\" style=\"fill:none;stroke:#000000;stroke-width:2.0px;stroke-linecap:butt;stroke-linejoin:miter;stroke-opacity:1;\"/>\n",
       "<path d=\"M 329.1,7.4 L 327.9,6.8 L 326.8,7.6\" style=\"fill:none;stroke:#000000;stroke-width:2.0px;stroke-linecap:butt;stroke-linejoin:miter;stroke-opacity:1;\"/>\n",
       "<path d=\"M 307.0,22.5 L 305.9,23.4 L 306.1,24.7\" style=\"fill:none;stroke:#000000;stroke-width:2.0px;stroke-linecap:butt;stroke-linejoin:miter;stroke-opacity:1;\"/>\n",
       "<path d=\"M 319.2,131.1 L 319.4,132.5 L 320.6,133.0\" style=\"fill:none;stroke:#000000;stroke-width:2.0px;stroke-linecap:butt;stroke-linejoin:miter;stroke-opacity:1;\"/>\n",
       "<path d=\"M 343.4,142.6 L 344.7,143.2 L 345.8,142.4\" style=\"fill:none;stroke:#000000;stroke-width:2.0px;stroke-linecap:butt;stroke-linejoin:miter;stroke-opacity:1;\"/>\n",
       "<path d=\"M 365.5,127.5 L 366.6,126.6 L 366.4,125.3\" style=\"fill:none;stroke:#000000;stroke-width:2.0px;stroke-linecap:butt;stroke-linejoin:miter;stroke-opacity:1;\"/>\n",
       "<path d=\"M 363.4,100.7 L 363.3,99.4 L 362.0,98.8\" style=\"fill:none;stroke:#000000;stroke-width:2.0px;stroke-linecap:butt;stroke-linejoin:miter;stroke-opacity:1;\"/>\n",
       "<path d=\"M 339.2,89.2 L 338.0,88.6 L 336.9,89.5\" style=\"fill:none;stroke:#000000;stroke-width:2.0px;stroke-linecap:butt;stroke-linejoin:miter;stroke-opacity:1;\"/>\n",
       "<path d=\"M 268.8,111.6 L 268.8,111.0 L 269.9,110.2\" style=\"fill:none;stroke:#000000;stroke-width:2.0px;stroke-linecap:butt;stroke-linejoin:miter;stroke-opacity:1;\"/>\n",
       "<path class=\"atom-0\" d=\"M 83.4 86.5 L 84.4 86.5 L 84.4 89.9 L 88.4 89.9 L 88.4 86.5 L 89.5 86.5 L 89.5 94.3 L 88.4 94.3 L 88.4 90.7 L 84.4 90.7 L 84.4 94.3 L 83.4 94.3 L 83.4 86.5 \" fill=\"#0000FF\"/>\n",
       "<path class=\"atom-0\" d=\"M 91.0 94.1 Q 91.2 93.6, 91.6 93.3 Q 92.1 93.0, 92.7 93.0 Q 93.5 93.0, 93.9 93.4 Q 94.4 93.9, 94.4 94.6 Q 94.4 95.4, 93.8 96.1 Q 93.2 96.8, 92.1 97.6 L 94.4 97.6 L 94.4 98.2 L 91.0 98.2 L 91.0 97.7 Q 91.9 97.0, 92.5 96.5 Q 93.1 96.0, 93.4 95.6 Q 93.6 95.1, 93.6 94.6 Q 93.6 94.2, 93.4 93.9 Q 93.1 93.6, 92.7 93.6 Q 92.3 93.6, 92.0 93.8 Q 91.8 93.9, 91.6 94.3 L 91.0 94.1 \" fill=\"#0000FF\"/>\n",
       "<path class=\"atom-0\" d=\"M 96.7 86.5 L 99.2 90.7 Q 99.5 91.1, 99.9 91.8 Q 100.3 92.5, 100.3 92.6 L 100.3 86.5 L 101.4 86.5 L 101.4 94.3 L 100.3 94.3 L 97.6 89.8 Q 97.2 89.3, 96.9 88.7 Q 96.6 88.1, 96.5 87.9 L 96.5 94.3 L 95.5 94.3 L 95.5 86.5 L 96.7 86.5 \" fill=\"#0000FF\"/>\n",
       "<path class=\"atom-5\" d=\"M 236.6 73.0 Q 236.6 71.1, 237.5 70.1 Q 238.4 69.1, 240.1 69.1 Q 241.8 69.1, 242.8 70.1 Q 243.7 71.1, 243.7 73.0 Q 243.7 74.9, 242.8 76.0 Q 241.8 77.0, 240.1 77.0 Q 238.4 77.0, 237.5 76.0 Q 236.6 74.9, 236.6 73.0 M 240.1 76.2 Q 241.3 76.2, 241.9 75.4 Q 242.6 74.6, 242.6 73.0 Q 242.6 71.5, 241.9 70.7 Q 241.3 69.9, 240.1 69.9 Q 238.9 69.9, 238.3 70.7 Q 237.6 71.5, 237.6 73.0 Q 237.6 74.6, 238.3 75.4 Q 238.9 76.2, 240.1 76.2 \" fill=\"#FF0000\"/>\n",
       "<path class=\"atom-6\" d=\"M 211.3 62.3 Q 211.3 60.4, 212.2 59.4 Q 213.1 58.3, 214.8 58.3 Q 216.6 58.3, 217.5 59.4 Q 218.4 60.4, 218.4 62.3 Q 218.4 64.2, 217.5 65.3 Q 216.5 66.3, 214.8 66.3 Q 213.1 66.3, 212.2 65.3 Q 211.3 64.2, 211.3 62.3 M 214.8 65.4 Q 216.0 65.4, 216.7 64.6 Q 217.3 63.8, 217.3 62.3 Q 217.3 60.8, 216.7 60.0 Q 216.0 59.2, 214.8 59.2 Q 213.6 59.2, 213.0 60.0 Q 212.4 60.7, 212.4 62.3 Q 212.4 63.9, 213.0 64.6 Q 213.6 65.4, 214.8 65.4 \" fill=\"#FF0000\"/>\n",
       "<path class=\"atom-23\" d=\"M 268.6 138.3 Q 268.6 136.4, 269.5 135.4 Q 270.4 134.3, 272.1 134.3 Q 273.9 134.3, 274.8 135.4 Q 275.7 136.4, 275.7 138.3 Q 275.7 140.2, 274.8 141.3 Q 273.8 142.3, 272.1 142.3 Q 270.4 142.3, 269.5 141.3 Q 268.6 140.2, 268.6 138.3 M 272.1 141.4 Q 273.3 141.4, 274.0 140.7 Q 274.6 139.8, 274.6 138.3 Q 274.6 136.8, 274.0 136.0 Q 273.3 135.2, 272.1 135.2 Q 270.9 135.2, 270.3 136.0 Q 269.7 136.8, 269.7 138.3 Q 269.7 139.9, 270.3 140.7 Q 270.9 141.4, 272.1 141.4 \" fill=\"#FF0000\"/>\n",
       "<path class=\"atom-23\" d=\"M 276.9 134.4 L 278.0 134.4 L 278.0 137.7 L 282.0 137.7 L 282.0 134.4 L 283.0 134.4 L 283.0 142.2 L 282.0 142.2 L 282.0 138.6 L 278.0 138.6 L 278.0 142.2 L 276.9 142.2 L 276.9 134.4 \" fill=\"#FF0000\"/>\n",
       "</svg>"
      ],
      "text/plain": [
       "<IPython.core.display.SVG object>"
      ]
     },
     "execution_count": 27,
     "metadata": {},
     "output_type": "execute_result"
    }
   ],
   "source": [
    "big_smiles_gen(big)"
   ]
  },
  {
   "cell_type": "markdown",
   "id": "e2d1370c",
   "metadata": {},
   "source": [
    "# New! Polyolefins, because a '=' remains\n",
    "\n",
    "## CH2=CH-(CH2)nCH3  where n varies from 1 to 5"
   ]
  },
  {
   "cell_type": "code",
   "execution_count": 28,
   "id": "79ae076b",
   "metadata": {},
   "outputs": [
    {
     "data": {
      "text/plain": [
       "'C=C{[$][$]C[$][$]}|uniform(12,60)|C'"
      ]
     },
     "execution_count": 28,
     "metadata": {},
     "output_type": "execute_result"
    }
   ],
   "source": [
    "big = \"C=C{[$][$]C[$][$]}|uniform(12,60)|C\"\n",
    "big"
   ]
  },
  {
   "cell_type": "code",
   "execution_count": 29,
   "id": "c83fae3f",
   "metadata": {},
   "outputs": [
    {
     "name": "stdout",
     "output_type": "stream",
     "text": [
      "C=CCCC\n",
      "0.5004583333333334\n",
      "15\n"
     ]
    },
    {
     "data": {
      "image/svg+xml": [
       "<svg xmlns=\"http://www.w3.org/2000/svg\" xmlns:rdkit=\"http://www.rdkit.org/xml\" xmlns:xlink=\"http://www.w3.org/1999/xlink\" version=\"1.1\" baseProfile=\"full\" xml:space=\"preserve\" width=\"450px\" height=\"150px\" viewBox=\"0 0 450 150\">\n",
       "<!-- END OF HEADER -->\n",
       "<rect style=\"opacity:1.0;fill:#FFFFFF;stroke:none\" width=\"450.0\" height=\"150.0\" x=\"0.0\" y=\"0.0\"> </rect>\n",
       "<path class=\"bond-0 atom-0 atom-1\" d=\"M 20.5,96.9 L 122.7,37.8\" style=\"fill:none;fill-rule:evenodd;stroke:#000000;stroke-width:2.0px;stroke-linecap:butt;stroke-linejoin:miter;stroke-opacity:1\"/>\n",
       "<path class=\"bond-0 atom-0 atom-1\" d=\"M 29.3,112.2 L 122.7,58.3\" style=\"fill:none;fill-rule:evenodd;stroke:#000000;stroke-width:2.0px;stroke-linecap:butt;stroke-linejoin:miter;stroke-opacity:1\"/>\n",
       "<path class=\"bond-1 atom-1 atom-2\" d=\"M 122.7,37.8 L 225.0,96.9\" style=\"fill:none;fill-rule:evenodd;stroke:#000000;stroke-width:2.0px;stroke-linecap:butt;stroke-linejoin:miter;stroke-opacity:1\"/>\n",
       "<path class=\"bond-2 atom-2 atom-3\" d=\"M 225.0,96.9 L 327.3,37.8\" style=\"fill:none;fill-rule:evenodd;stroke:#000000;stroke-width:2.0px;stroke-linecap:butt;stroke-linejoin:miter;stroke-opacity:1\"/>\n",
       "<path class=\"bond-3 atom-3 atom-4\" d=\"M 327.3,37.8 L 429.5,96.9\" style=\"fill:none;fill-rule:evenodd;stroke:#000000;stroke-width:2.0px;stroke-linecap:butt;stroke-linejoin:miter;stroke-opacity:1\"/>\n",
       "<path d=\"M 117.6,40.8 L 122.7,37.8 L 127.8,40.8\" style=\"fill:none;stroke:#000000;stroke-width:2.0px;stroke-linecap:butt;stroke-linejoin:miter;stroke-opacity:1;\"/>\n",
       "<path d=\"M 219.9,93.9 L 225.0,96.9 L 230.1,93.9\" style=\"fill:none;stroke:#000000;stroke-width:2.0px;stroke-linecap:butt;stroke-linejoin:miter;stroke-opacity:1;\"/>\n",
       "<path d=\"M 322.2,40.8 L 327.3,37.8 L 332.4,40.8\" style=\"fill:none;stroke:#000000;stroke-width:2.0px;stroke-linecap:butt;stroke-linejoin:miter;stroke-opacity:1;\"/>\n",
       "</svg>"
      ],
      "text/plain": [
       "<IPython.core.display.SVG object>"
      ]
     },
     "execution_count": 29,
     "metadata": {},
     "output_type": "execute_result"
    }
   ],
   "source": [
    "big_smiles_gen(big)"
   ]
  },
  {
   "cell_type": "code",
   "execution_count": 30,
   "id": "eaf5f6ac",
   "metadata": {},
   "outputs": [
    {
     "name": "stdout",
     "output_type": "stream",
     "text": [
      "C=CCCC\n",
      "0.5004583333333334\n",
      "16\n"
     ]
    },
    {
     "data": {
      "image/svg+xml": [
       "<svg xmlns=\"http://www.w3.org/2000/svg\" xmlns:rdkit=\"http://www.rdkit.org/xml\" xmlns:xlink=\"http://www.w3.org/1999/xlink\" version=\"1.1\" baseProfile=\"full\" xml:space=\"preserve\" width=\"450px\" height=\"150px\" viewBox=\"0 0 450 150\">\n",
       "<!-- END OF HEADER -->\n",
       "<rect style=\"opacity:1.0;fill:#FFFFFF;stroke:none\" width=\"450.0\" height=\"150.0\" x=\"0.0\" y=\"0.0\"> </rect>\n",
       "<path class=\"bond-0 atom-0 atom-1\" d=\"M 20.5,96.9 L 122.7,37.8\" style=\"fill:none;fill-rule:evenodd;stroke:#000000;stroke-width:2.0px;stroke-linecap:butt;stroke-linejoin:miter;stroke-opacity:1\"/>\n",
       "<path class=\"bond-0 atom-0 atom-1\" d=\"M 29.3,112.2 L 122.7,58.3\" style=\"fill:none;fill-rule:evenodd;stroke:#000000;stroke-width:2.0px;stroke-linecap:butt;stroke-linejoin:miter;stroke-opacity:1\"/>\n",
       "<path class=\"bond-1 atom-1 atom-2\" d=\"M 122.7,37.8 L 225.0,96.9\" style=\"fill:none;fill-rule:evenodd;stroke:#000000;stroke-width:2.0px;stroke-linecap:butt;stroke-linejoin:miter;stroke-opacity:1\"/>\n",
       "<path class=\"bond-2 atom-2 atom-3\" d=\"M 225.0,96.9 L 327.3,37.8\" style=\"fill:none;fill-rule:evenodd;stroke:#000000;stroke-width:2.0px;stroke-linecap:butt;stroke-linejoin:miter;stroke-opacity:1\"/>\n",
       "<path class=\"bond-3 atom-3 atom-4\" d=\"M 327.3,37.8 L 429.5,96.9\" style=\"fill:none;fill-rule:evenodd;stroke:#000000;stroke-width:2.0px;stroke-linecap:butt;stroke-linejoin:miter;stroke-opacity:1\"/>\n",
       "<path d=\"M 117.6,40.8 L 122.7,37.8 L 127.8,40.8\" style=\"fill:none;stroke:#000000;stroke-width:2.0px;stroke-linecap:butt;stroke-linejoin:miter;stroke-opacity:1;\"/>\n",
       "<path d=\"M 219.9,93.9 L 225.0,96.9 L 230.1,93.9\" style=\"fill:none;stroke:#000000;stroke-width:2.0px;stroke-linecap:butt;stroke-linejoin:miter;stroke-opacity:1;\"/>\n",
       "<path d=\"M 322.2,40.8 L 327.3,37.8 L 332.4,40.8\" style=\"fill:none;stroke:#000000;stroke-width:2.0px;stroke-linecap:butt;stroke-linejoin:miter;stroke-opacity:1;\"/>\n",
       "</svg>"
      ],
      "text/plain": [
       "<IPython.core.display.SVG object>"
      ]
     },
     "execution_count": 30,
     "metadata": {},
     "output_type": "execute_result"
    }
   ],
   "source": [
    "big_smiles_gen(big)"
   ]
  },
  {
   "cell_type": "markdown",
   "id": "5f15bd1b",
   "metadata": {},
   "source": [
    "## CH2-CH-(CH2)n-CH=CH2 where n varies from 1 to 3"
   ]
  },
  {
   "cell_type": "code",
   "execution_count": 31,
   "id": "048967e8",
   "metadata": {},
   "outputs": [
    {
     "data": {
      "text/plain": [
       "'CC{[$][$]C[$][$]}|uniform(12, 36)|C=C'"
      ]
     },
     "execution_count": 31,
     "metadata": {},
     "output_type": "execute_result"
    }
   ],
   "source": [
    "big = \"CC{[$][$]C[$][$]}|uniform(12, 36)|C=C\"\n",
    "big"
   ]
  },
  {
   "cell_type": "code",
   "execution_count": 32,
   "id": "e0856e12",
   "metadata": {},
   "outputs": [
    {
     "name": "stdout",
     "output_type": "stream",
     "text": [
      "C=CCCCCC\n",
      "0.0\n",
      "17\n"
     ]
    },
    {
     "data": {
      "image/svg+xml": [
       "<svg xmlns=\"http://www.w3.org/2000/svg\" xmlns:rdkit=\"http://www.rdkit.org/xml\" xmlns:xlink=\"http://www.w3.org/1999/xlink\" version=\"1.1\" baseProfile=\"full\" xml:space=\"preserve\" width=\"450px\" height=\"150px\" viewBox=\"0 0 450 150\">\n",
       "<!-- END OF HEADER -->\n",
       "<rect style=\"opacity:1.0;fill:#FFFFFF;stroke:none\" width=\"450.0\" height=\"150.0\" x=\"0.0\" y=\"0.0\"> </rect>\n",
       "<path class=\"bond-0 atom-0 atom-1\" d=\"M 20.5,89.6 L 88.6,50.2\" style=\"fill:none;fill-rule:evenodd;stroke:#000000;stroke-width:2.0px;stroke-linecap:butt;stroke-linejoin:miter;stroke-opacity:1\"/>\n",
       "<path class=\"bond-1 atom-1 atom-2\" d=\"M 88.6,50.2 L 156.8,89.6\" style=\"fill:none;fill-rule:evenodd;stroke:#000000;stroke-width:2.0px;stroke-linecap:butt;stroke-linejoin:miter;stroke-opacity:1\"/>\n",
       "<path class=\"bond-2 atom-2 atom-3\" d=\"M 156.8,89.6 L 225.0,50.2\" style=\"fill:none;fill-rule:evenodd;stroke:#000000;stroke-width:2.0px;stroke-linecap:butt;stroke-linejoin:miter;stroke-opacity:1\"/>\n",
       "<path class=\"bond-3 atom-3 atom-4\" d=\"M 225.0,50.2 L 293.2,89.6\" style=\"fill:none;fill-rule:evenodd;stroke:#000000;stroke-width:2.0px;stroke-linecap:butt;stroke-linejoin:miter;stroke-opacity:1\"/>\n",
       "<path class=\"bond-4 atom-5 atom-6\" d=\"M 361.4,50.2 L 429.5,89.6\" style=\"fill:none;fill-rule:evenodd;stroke:#000000;stroke-width:2.0px;stroke-linecap:butt;stroke-linejoin:miter;stroke-opacity:1\"/>\n",
       "<path class=\"bond-4 atom-5 atom-6\" d=\"M 361.4,63.8 L 423.6,99.8\" style=\"fill:none;fill-rule:evenodd;stroke:#000000;stroke-width:2.0px;stroke-linecap:butt;stroke-linejoin:miter;stroke-opacity:1\"/>\n",
       "<path class=\"bond-5 atom-4 atom-5\" d=\"M 293.2,89.6 L 361.4,50.2\" style=\"fill:none;fill-rule:evenodd;stroke:#000000;stroke-width:2.0px;stroke-linecap:butt;stroke-linejoin:miter;stroke-opacity:1\"/>\n",
       "<path d=\"M 85.2,52.2 L 88.6,50.2 L 92.0,52.2\" style=\"fill:none;stroke:#000000;stroke-width:2.0px;stroke-linecap:butt;stroke-linejoin:miter;stroke-opacity:1;\"/>\n",
       "<path d=\"M 153.4,87.6 L 156.8,89.6 L 160.2,87.6\" style=\"fill:none;stroke:#000000;stroke-width:2.0px;stroke-linecap:butt;stroke-linejoin:miter;stroke-opacity:1;\"/>\n",
       "<path d=\"M 221.6,52.2 L 225.0,50.2 L 228.4,52.2\" style=\"fill:none;stroke:#000000;stroke-width:2.0px;stroke-linecap:butt;stroke-linejoin:miter;stroke-opacity:1;\"/>\n",
       "<path d=\"M 289.8,87.6 L 293.2,89.6 L 296.6,87.6\" style=\"fill:none;stroke:#000000;stroke-width:2.0px;stroke-linecap:butt;stroke-linejoin:miter;stroke-opacity:1;\"/>\n",
       "<path d=\"M 364.8,52.2 L 361.4,50.2 L 358.0,52.2\" style=\"fill:none;stroke:#000000;stroke-width:2.0px;stroke-linecap:butt;stroke-linejoin:miter;stroke-opacity:1;\"/>\n",
       "</svg>"
      ],
      "text/plain": [
       "<IPython.core.display.SVG object>"
      ]
     },
     "execution_count": 32,
     "metadata": {},
     "output_type": "execute_result"
    }
   ],
   "source": [
    "big_smiles_gen(big)"
   ]
  },
  {
   "cell_type": "code",
   "execution_count": 33,
   "id": "d460780b",
   "metadata": {},
   "outputs": [
    {
     "name": "stdout",
     "output_type": "stream",
     "text": [
      "C=CCCCC\n",
      "0.0\n",
      "18\n"
     ]
    },
    {
     "data": {
      "image/svg+xml": [
       "<svg xmlns=\"http://www.w3.org/2000/svg\" xmlns:rdkit=\"http://www.rdkit.org/xml\" xmlns:xlink=\"http://www.w3.org/1999/xlink\" version=\"1.1\" baseProfile=\"full\" xml:space=\"preserve\" width=\"450px\" height=\"150px\" viewBox=\"0 0 450 150\">\n",
       "<!-- END OF HEADER -->\n",
       "<rect style=\"opacity:1.0;fill:#FFFFFF;stroke:none\" width=\"450.0\" height=\"150.0\" x=\"0.0\" y=\"0.0\"> </rect>\n",
       "<path class=\"bond-0 atom-0 atom-1\" d=\"M 20.5,88.1 L 104.2,45.3\" style=\"fill:none;fill-rule:evenodd;stroke:#000000;stroke-width:2.0px;stroke-linecap:butt;stroke-linejoin:miter;stroke-opacity:1\"/>\n",
       "<path class=\"bond-1 atom-1 atom-2\" d=\"M 104.2,45.3 L 183.1,96.4\" style=\"fill:none;fill-rule:evenodd;stroke:#000000;stroke-width:2.0px;stroke-linecap:butt;stroke-linejoin:miter;stroke-opacity:1\"/>\n",
       "<path class=\"bond-2 atom-2 atom-3\" d=\"M 183.1,96.4 L 266.9,53.6\" style=\"fill:none;fill-rule:evenodd;stroke:#000000;stroke-width:2.0px;stroke-linecap:butt;stroke-linejoin:miter;stroke-opacity:1\"/>\n",
       "<path class=\"bond-3 atom-4 atom-5\" d=\"M 345.8,104.7 L 429.5,61.9\" style=\"fill:none;fill-rule:evenodd;stroke:#000000;stroke-width:2.0px;stroke-linecap:butt;stroke-linejoin:miter;stroke-opacity:1\"/>\n",
       "<path class=\"bond-3 atom-4 atom-5\" d=\"M 346.6,88.4 L 423.1,49.3\" style=\"fill:none;fill-rule:evenodd;stroke:#000000;stroke-width:2.0px;stroke-linecap:butt;stroke-linejoin:miter;stroke-opacity:1\"/>\n",
       "<path class=\"bond-4 atom-3 atom-4\" d=\"M 266.9,53.6 L 345.8,104.7\" style=\"fill:none;fill-rule:evenodd;stroke:#000000;stroke-width:2.0px;stroke-linecap:butt;stroke-linejoin:miter;stroke-opacity:1\"/>\n",
       "<path d=\"M 100.0,47.5 L 104.2,45.3 L 108.1,47.9\" style=\"fill:none;stroke:#000000;stroke-width:2.0px;stroke-linecap:butt;stroke-linejoin:miter;stroke-opacity:1;\"/>\n",
       "<path d=\"M 179.2,93.9 L 183.1,96.4 L 187.3,94.3\" style=\"fill:none;stroke:#000000;stroke-width:2.0px;stroke-linecap:butt;stroke-linejoin:miter;stroke-opacity:1;\"/>\n",
       "<path d=\"M 262.7,55.7 L 266.9,53.6 L 270.8,56.1\" style=\"fill:none;stroke:#000000;stroke-width:2.0px;stroke-linecap:butt;stroke-linejoin:miter;stroke-opacity:1;\"/>\n",
       "<path d=\"M 350.0,102.5 L 345.8,104.7 L 341.9,102.1\" style=\"fill:none;stroke:#000000;stroke-width:2.0px;stroke-linecap:butt;stroke-linejoin:miter;stroke-opacity:1;\"/>\n",
       "</svg>"
      ],
      "text/plain": [
       "<IPython.core.display.SVG object>"
      ]
     },
     "execution_count": 33,
     "metadata": {},
     "output_type": "execute_result"
    }
   ],
   "source": [
    "big_smiles_gen(big)"
   ]
  },
  {
   "cell_type": "markdown",
   "id": "e06c8273",
   "metadata": {},
   "source": [
    "## Classic diblock PS-b-P2VP"
   ]
  },
  {
   "cell_type": "code",
   "execution_count": 34,
   "id": "5e0b3aa4",
   "metadata": {},
   "outputs": [],
   "source": [
    "big = \"[H]{[<][<]C([>])c1ccccc1[>]}|gauss(100,20)|{[<][>]C([<])c1ccncc1[>]}|gauss(100, 20)|[H]\""
   ]
  },
  {
   "cell_type": "code",
   "execution_count": 35,
   "id": "1130059c",
   "metadata": {},
   "outputs": [
    {
     "name": "stdout",
     "output_type": "stream",
     "text": [
      "[H]C(c1ccccc1)C(c1ccccc1)C(c1ccncc1)C([H])c1ccncc1\n",
      "0.0\n",
      "19\n"
     ]
    },
    {
     "data": {
      "image/svg+xml": [
       "<svg xmlns=\"http://www.w3.org/2000/svg\" xmlns:rdkit=\"http://www.rdkit.org/xml\" xmlns:xlink=\"http://www.w3.org/1999/xlink\" version=\"1.1\" baseProfile=\"full\" xml:space=\"preserve\" width=\"450px\" height=\"150px\" viewBox=\"0 0 450 150\">\n",
       "<!-- END OF HEADER -->\n",
       "<rect style=\"opacity:1.0;fill:#FFFFFF;stroke:none\" width=\"450.0\" height=\"150.0\" x=\"0.0\" y=\"0.0\"> </rect>\n",
       "<path class=\"bond-0 atom-1 atom-2\" d=\"M 256.1,36.6 L 285.7,36.6\" style=\"fill:none;fill-rule:evenodd;stroke:#000000;stroke-width:2.0px;stroke-linecap:butt;stroke-linejoin:miter;stroke-opacity:1\"/>\n",
       "<path class=\"bond-1 atom-2 atom-3\" d=\"M 285.7,36.6 L 300.5,11.0\" style=\"fill:none;fill-rule:evenodd;stroke:#000000;stroke-width:2.0px;stroke-linecap:butt;stroke-linejoin:miter;stroke-opacity:1\"/>\n",
       "<path class=\"bond-1 atom-2 atom-3\" d=\"M 290.8,36.6 L 303.0,15.4\" style=\"fill:none;fill-rule:evenodd;stroke:#000000;stroke-width:2.0px;stroke-linecap:butt;stroke-linejoin:miter;stroke-opacity:1\"/>\n",
       "<path class=\"bond-2 atom-3 atom-4\" d=\"M 300.5,11.0 L 330.0,11.0\" style=\"fill:none;fill-rule:evenodd;stroke:#000000;stroke-width:2.0px;stroke-linecap:butt;stroke-linejoin:miter;stroke-opacity:1\"/>\n",
       "<path class=\"bond-3 atom-4 atom-5\" d=\"M 330.0,11.0 L 344.8,36.6\" style=\"fill:none;fill-rule:evenodd;stroke:#000000;stroke-width:2.0px;stroke-linecap:butt;stroke-linejoin:miter;stroke-opacity:1\"/>\n",
       "<path class=\"bond-3 atom-4 atom-5\" d=\"M 327.5,15.4 L 339.7,36.6\" style=\"fill:none;fill-rule:evenodd;stroke:#000000;stroke-width:2.0px;stroke-linecap:butt;stroke-linejoin:miter;stroke-opacity:1\"/>\n",
       "<path class=\"bond-4 atom-5 atom-6\" d=\"M 344.8,36.6 L 330.0,62.2\" style=\"fill:none;fill-rule:evenodd;stroke:#000000;stroke-width:2.0px;stroke-linecap:butt;stroke-linejoin:miter;stroke-opacity:1\"/>\n",
       "<path class=\"bond-5 atom-6 atom-7\" d=\"M 330.0,62.2 L 300.5,62.2\" style=\"fill:none;fill-rule:evenodd;stroke:#000000;stroke-width:2.0px;stroke-linecap:butt;stroke-linejoin:miter;stroke-opacity:1\"/>\n",
       "<path class=\"bond-5 atom-6 atom-7\" d=\"M 327.5,57.8 L 303.0,57.8\" style=\"fill:none;fill-rule:evenodd;stroke:#000000;stroke-width:2.0px;stroke-linecap:butt;stroke-linejoin:miter;stroke-opacity:1\"/>\n",
       "<path class=\"bond-6 atom-7 atom-2\" d=\"M 300.5,62.2 L 285.7,36.6\" style=\"fill:none;fill-rule:evenodd;stroke:#000000;stroke-width:2.0px;stroke-linecap:butt;stroke-linejoin:miter;stroke-opacity:1\"/>\n",
       "<path class=\"bond-7 atom-0 atom-1\" d=\"M 244.3,16.2 L 256.1,36.6\" style=\"fill:none;fill-rule:evenodd;stroke:#000000;stroke-width:2.0px;stroke-linecap:butt;stroke-linejoin:miter;stroke-opacity:1\"/>\n",
       "<path class=\"bond-8 atom-8 atom-9\" d=\"M 241.4,62.2 L 256.1,87.8\" style=\"fill:none;fill-rule:evenodd;stroke:#000000;stroke-width:2.0px;stroke-linecap:butt;stroke-linejoin:miter;stroke-opacity:1\"/>\n",
       "<path class=\"bond-9 atom-9 atom-10\" d=\"M 256.1,87.8 L 241.4,113.4\" style=\"fill:none;fill-rule:evenodd;stroke:#000000;stroke-width:2.0px;stroke-linecap:butt;stroke-linejoin:miter;stroke-opacity:1\"/>\n",
       "<path class=\"bond-9 atom-9 atom-10\" d=\"M 258.7,92.2 L 246.5,113.4\" style=\"fill:none;fill-rule:evenodd;stroke:#000000;stroke-width:2.0px;stroke-linecap:butt;stroke-linejoin:miter;stroke-opacity:1\"/>\n",
       "<path class=\"bond-10 atom-10 atom-11\" d=\"M 241.4,113.4 L 256.1,139.0\" style=\"fill:none;fill-rule:evenodd;stroke:#000000;stroke-width:2.0px;stroke-linecap:butt;stroke-linejoin:miter;stroke-opacity:1\"/>\n",
       "<path class=\"bond-11 atom-11 atom-12\" d=\"M 256.1,139.0 L 285.7,139.0\" style=\"fill:none;fill-rule:evenodd;stroke:#000000;stroke-width:2.0px;stroke-linecap:butt;stroke-linejoin:miter;stroke-opacity:1\"/>\n",
       "<path class=\"bond-11 atom-11 atom-12\" d=\"M 258.7,134.6 L 283.1,134.6\" style=\"fill:none;fill-rule:evenodd;stroke:#000000;stroke-width:2.0px;stroke-linecap:butt;stroke-linejoin:miter;stroke-opacity:1\"/>\n",
       "<path class=\"bond-12 atom-12 atom-13\" d=\"M 285.7,139.0 L 300.5,113.4\" style=\"fill:none;fill-rule:evenodd;stroke:#000000;stroke-width:2.0px;stroke-linecap:butt;stroke-linejoin:miter;stroke-opacity:1\"/>\n",
       "<path class=\"bond-13 atom-13 atom-14\" d=\"M 300.5,113.4 L 285.7,87.8\" style=\"fill:none;fill-rule:evenodd;stroke:#000000;stroke-width:2.0px;stroke-linecap:butt;stroke-linejoin:miter;stroke-opacity:1\"/>\n",
       "<path class=\"bond-13 atom-13 atom-14\" d=\"M 295.4,113.4 L 283.1,92.2\" style=\"fill:none;fill-rule:evenodd;stroke:#000000;stroke-width:2.0px;stroke-linecap:butt;stroke-linejoin:miter;stroke-opacity:1\"/>\n",
       "<path class=\"bond-14 atom-14 atom-9\" d=\"M 285.7,87.8 L 256.1,87.8\" style=\"fill:none;fill-rule:evenodd;stroke:#000000;stroke-width:2.0px;stroke-linecap:butt;stroke-linejoin:miter;stroke-opacity:1\"/>\n",
       "<path class=\"bond-15 atom-1 atom-8\" d=\"M 256.1,36.6 L 241.4,62.2\" style=\"fill:none;fill-rule:evenodd;stroke:#000000;stroke-width:2.0px;stroke-linecap:butt;stroke-linejoin:miter;stroke-opacity:1\"/>\n",
       "<path class=\"bond-16 atom-15 atom-16\" d=\"M 211.8,62.2 L 197.0,87.8\" style=\"fill:none;fill-rule:evenodd;stroke:#000000;stroke-width:2.0px;stroke-linecap:butt;stroke-linejoin:miter;stroke-opacity:1\"/>\n",
       "<path class=\"bond-17 atom-16 atom-17\" d=\"M 197.0,87.8 L 167.5,87.8\" style=\"fill:none;fill-rule:evenodd;stroke:#000000;stroke-width:2.0px;stroke-linecap:butt;stroke-linejoin:miter;stroke-opacity:1\"/>\n",
       "<path class=\"bond-17 atom-16 atom-17\" d=\"M 194.5,92.2 L 170.0,92.2\" style=\"fill:none;fill-rule:evenodd;stroke:#000000;stroke-width:2.0px;stroke-linecap:butt;stroke-linejoin:miter;stroke-opacity:1\"/>\n",
       "<path class=\"bond-18 atom-17 atom-18\" d=\"M 167.5,87.8 L 152.7,113.4\" style=\"fill:none;fill-rule:evenodd;stroke:#000000;stroke-width:2.0px;stroke-linecap:butt;stroke-linejoin:miter;stroke-opacity:1\"/>\n",
       "<path class=\"bond-19 atom-18 atom-19\" d=\"M 152.7,113.4 L 158.6,123.6\" style=\"fill:none;fill-rule:evenodd;stroke:#000000;stroke-width:2.0px;stroke-linecap:butt;stroke-linejoin:miter;stroke-opacity:1\"/>\n",
       "<path class=\"bond-19 atom-18 atom-19\" d=\"M 158.6,123.6 L 164.5,133.8\" style=\"fill:none;fill-rule:evenodd;stroke:#0000FF;stroke-width:2.0px;stroke-linecap:butt;stroke-linejoin:miter;stroke-opacity:1\"/>\n",
       "<path class=\"bond-19 atom-18 atom-19\" d=\"M 157.8,113.4 L 163.1,122.5\" style=\"fill:none;fill-rule:evenodd;stroke:#000000;stroke-width:2.0px;stroke-linecap:butt;stroke-linejoin:miter;stroke-opacity:1\"/>\n",
       "<path class=\"bond-19 atom-18 atom-19\" d=\"M 163.1,122.5 L 168.3,131.6\" style=\"fill:none;fill-rule:evenodd;stroke:#0000FF;stroke-width:2.0px;stroke-linecap:butt;stroke-linejoin:miter;stroke-opacity:1\"/>\n",
       "<path class=\"bond-20 atom-19 atom-20\" d=\"M 171.6,139.0 L 184.3,139.0\" style=\"fill:none;fill-rule:evenodd;stroke:#0000FF;stroke-width:2.0px;stroke-linecap:butt;stroke-linejoin:miter;stroke-opacity:1\"/>\n",
       "<path class=\"bond-20 atom-19 atom-20\" d=\"M 184.3,139.0 L 197.0,139.0\" style=\"fill:none;fill-rule:evenodd;stroke:#000000;stroke-width:2.0px;stroke-linecap:butt;stroke-linejoin:miter;stroke-opacity:1\"/>\n",
       "<path class=\"bond-21 atom-20 atom-21\" d=\"M 197.0,139.0 L 211.8,113.4\" style=\"fill:none;fill-rule:evenodd;stroke:#000000;stroke-width:2.0px;stroke-linecap:butt;stroke-linejoin:miter;stroke-opacity:1\"/>\n",
       "<path class=\"bond-21 atom-20 atom-21\" d=\"M 194.5,134.6 L 206.7,113.4\" style=\"fill:none;fill-rule:evenodd;stroke:#000000;stroke-width:2.0px;stroke-linecap:butt;stroke-linejoin:miter;stroke-opacity:1\"/>\n",
       "<path class=\"bond-22 atom-21 atom-16\" d=\"M 211.8,113.4 L 197.0,87.8\" style=\"fill:none;fill-rule:evenodd;stroke:#000000;stroke-width:2.0px;stroke-linecap:butt;stroke-linejoin:miter;stroke-opacity:1\"/>\n",
       "<path class=\"bond-23 atom-8 atom-15\" d=\"M 241.4,62.2 L 211.8,62.2\" style=\"fill:none;fill-rule:evenodd;stroke:#000000;stroke-width:2.0px;stroke-linecap:butt;stroke-linejoin:miter;stroke-opacity:1\"/>\n",
       "<path class=\"bond-24 atom-22 atom-23\" d=\"M 197.0,36.6 L 167.5,36.6\" style=\"fill:none;fill-rule:evenodd;stroke:#000000;stroke-width:2.0px;stroke-linecap:butt;stroke-linejoin:miter;stroke-opacity:1\"/>\n",
       "<path class=\"bond-25 atom-23 atom-24\" d=\"M 167.5,36.6 L 152.7,11.0\" style=\"fill:none;fill-rule:evenodd;stroke:#000000;stroke-width:2.0px;stroke-linecap:butt;stroke-linejoin:miter;stroke-opacity:1\"/>\n",
       "<path class=\"bond-25 atom-23 atom-24\" d=\"M 162.4,36.6 L 150.1,15.4\" style=\"fill:none;fill-rule:evenodd;stroke:#000000;stroke-width:2.0px;stroke-linecap:butt;stroke-linejoin:miter;stroke-opacity:1\"/>\n",
       "<path class=\"bond-26 atom-24 atom-25\" d=\"M 152.7,11.0 L 123.1,11.0\" style=\"fill:none;fill-rule:evenodd;stroke:#000000;stroke-width:2.0px;stroke-linecap:butt;stroke-linejoin:miter;stroke-opacity:1\"/>\n",
       "<path class=\"bond-27 atom-25 atom-26\" d=\"M 123.1,11.0 L 117.2,21.2\" style=\"fill:none;fill-rule:evenodd;stroke:#000000;stroke-width:2.0px;stroke-linecap:butt;stroke-linejoin:miter;stroke-opacity:1\"/>\n",
       "<path class=\"bond-27 atom-25 atom-26\" d=\"M 117.2,21.2 L 111.3,31.4\" style=\"fill:none;fill-rule:evenodd;stroke:#0000FF;stroke-width:2.0px;stroke-linecap:butt;stroke-linejoin:miter;stroke-opacity:1\"/>\n",
       "<path class=\"bond-27 atom-25 atom-26\" d=\"M 125.7,15.4 L 120.4,24.5\" style=\"fill:none;fill-rule:evenodd;stroke:#000000;stroke-width:2.0px;stroke-linecap:butt;stroke-linejoin:miter;stroke-opacity:1\"/>\n",
       "<path class=\"bond-27 atom-25 atom-26\" d=\"M 120.4,24.5 L 115.2,33.7\" style=\"fill:none;fill-rule:evenodd;stroke:#0000FF;stroke-width:2.0px;stroke-linecap:butt;stroke-linejoin:miter;stroke-opacity:1\"/>\n",
       "<path class=\"bond-28 atom-26 atom-27\" d=\"M 111.3,41.8 L 117.2,52.0\" style=\"fill:none;fill-rule:evenodd;stroke:#0000FF;stroke-width:2.0px;stroke-linecap:butt;stroke-linejoin:miter;stroke-opacity:1\"/>\n",
       "<path class=\"bond-28 atom-26 atom-27\" d=\"M 117.2,52.0 L 123.1,62.2\" style=\"fill:none;fill-rule:evenodd;stroke:#000000;stroke-width:2.0px;stroke-linecap:butt;stroke-linejoin:miter;stroke-opacity:1\"/>\n",
       "<path class=\"bond-29 atom-27 atom-28\" d=\"M 123.1,62.2 L 152.7,62.2\" style=\"fill:none;fill-rule:evenodd;stroke:#000000;stroke-width:2.0px;stroke-linecap:butt;stroke-linejoin:miter;stroke-opacity:1\"/>\n",
       "<path class=\"bond-29 atom-27 atom-28\" d=\"M 125.7,57.8 L 150.1,57.8\" style=\"fill:none;fill-rule:evenodd;stroke:#000000;stroke-width:2.0px;stroke-linecap:butt;stroke-linejoin:miter;stroke-opacity:1\"/>\n",
       "<path class=\"bond-30 atom-28 atom-23\" d=\"M 152.7,62.2 L 167.5,36.6\" style=\"fill:none;fill-rule:evenodd;stroke:#000000;stroke-width:2.0px;stroke-linecap:butt;stroke-linejoin:miter;stroke-opacity:1\"/>\n",
       "<path class=\"bond-31 atom-15 atom-22\" d=\"M 211.8,62.2 L 197.0,36.6\" style=\"fill:none;fill-rule:evenodd;stroke:#000000;stroke-width:2.0px;stroke-linecap:butt;stroke-linejoin:miter;stroke-opacity:1\"/>\n",
       "<path class=\"bond-32 atom-22 atom-29\" d=\"M 197.0,36.6 L 208.8,16.2\" style=\"fill:none;fill-rule:evenodd;stroke:#000000;stroke-width:2.0px;stroke-linecap:butt;stroke-linejoin:miter;stroke-opacity:1\"/>\n",
       "<path d=\"M 299.7,12.3 L 300.5,11.0 L 302.0,11.0\" style=\"fill:none;stroke:#000000;stroke-width:2.0px;stroke-linecap:butt;stroke-linejoin:miter;stroke-opacity:1;\"/>\n",
       "<path d=\"M 328.6,11.0 L 330.0,11.0 L 330.8,12.3\" style=\"fill:none;stroke:#000000;stroke-width:2.0px;stroke-linecap:butt;stroke-linejoin:miter;stroke-opacity:1;\"/>\n",
       "<path d=\"M 344.1,35.3 L 344.8,36.6 L 344.1,37.9\" style=\"fill:none;stroke:#000000;stroke-width:2.0px;stroke-linecap:butt;stroke-linejoin:miter;stroke-opacity:1;\"/>\n",
       "<path d=\"M 330.8,60.9 L 330.0,62.2 L 328.6,62.2\" style=\"fill:none;stroke:#000000;stroke-width:2.0px;stroke-linecap:butt;stroke-linejoin:miter;stroke-opacity:1;\"/>\n",
       "<path d=\"M 302.0,62.2 L 300.5,62.2 L 299.7,60.9\" style=\"fill:none;stroke:#000000;stroke-width:2.0px;stroke-linecap:butt;stroke-linejoin:miter;stroke-opacity:1;\"/>\n",
       "<path d=\"M 242.1,112.1 L 241.4,113.4 L 242.1,114.7\" style=\"fill:none;stroke:#000000;stroke-width:2.0px;stroke-linecap:butt;stroke-linejoin:miter;stroke-opacity:1;\"/>\n",
       "<path d=\"M 255.4,137.7 L 256.1,139.0 L 257.6,139.0\" style=\"fill:none;stroke:#000000;stroke-width:2.0px;stroke-linecap:butt;stroke-linejoin:miter;stroke-opacity:1;\"/>\n",
       "<path d=\"M 284.2,139.0 L 285.7,139.0 L 286.4,137.7\" style=\"fill:none;stroke:#000000;stroke-width:2.0px;stroke-linecap:butt;stroke-linejoin:miter;stroke-opacity:1;\"/>\n",
       "<path d=\"M 299.7,114.7 L 300.5,113.4 L 299.7,112.1\" style=\"fill:none;stroke:#000000;stroke-width:2.0px;stroke-linecap:butt;stroke-linejoin:miter;stroke-opacity:1;\"/>\n",
       "<path d=\"M 286.4,89.1 L 285.7,87.8 L 284.2,87.8\" style=\"fill:none;stroke:#000000;stroke-width:2.0px;stroke-linecap:butt;stroke-linejoin:miter;stroke-opacity:1;\"/>\n",
       "<path d=\"M 168.9,87.8 L 167.5,87.8 L 166.7,89.1\" style=\"fill:none;stroke:#000000;stroke-width:2.0px;stroke-linecap:butt;stroke-linejoin:miter;stroke-opacity:1;\"/>\n",
       "<path d=\"M 153.4,112.1 L 152.7,113.4 L 153.0,113.9\" style=\"fill:none;stroke:#000000;stroke-width:2.0px;stroke-linecap:butt;stroke-linejoin:miter;stroke-opacity:1;\"/>\n",
       "<path d=\"M 196.4,139.0 L 197.0,139.0 L 197.8,137.7\" style=\"fill:none;stroke:#000000;stroke-width:2.0px;stroke-linecap:butt;stroke-linejoin:miter;stroke-opacity:1;\"/>\n",
       "<path d=\"M 211.1,114.7 L 211.8,113.4 L 211.1,112.1\" style=\"fill:none;stroke:#000000;stroke-width:2.0px;stroke-linecap:butt;stroke-linejoin:miter;stroke-opacity:1;\"/>\n",
       "<path d=\"M 153.4,12.3 L 152.7,11.0 L 151.2,11.0\" style=\"fill:none;stroke:#000000;stroke-width:2.0px;stroke-linecap:butt;stroke-linejoin:miter;stroke-opacity:1;\"/>\n",
       "<path d=\"M 124.6,11.0 L 123.1,11.0 L 122.8,11.5\" style=\"fill:none;stroke:#000000;stroke-width:2.0px;stroke-linecap:butt;stroke-linejoin:miter;stroke-opacity:1;\"/>\n",
       "<path d=\"M 122.8,61.7 L 123.1,62.2 L 124.6,62.2\" style=\"fill:none;stroke:#000000;stroke-width:2.0px;stroke-linecap:butt;stroke-linejoin:miter;stroke-opacity:1;\"/>\n",
       "<path d=\"M 151.2,62.2 L 152.7,62.2 L 153.4,60.9\" style=\"fill:none;stroke:#000000;stroke-width:2.0px;stroke-linecap:butt;stroke-linejoin:miter;stroke-opacity:1;\"/>\n",
       "<path class=\"atom-0\" d=\"M 238.1 6.8 L 239.2 6.8 L 239.2 10.4 L 243.5 10.4 L 243.5 6.8 L 244.6 6.8 L 244.6 15.2 L 243.5 15.2 L 243.5 11.3 L 239.2 11.3 L 239.2 15.2 L 238.1 15.2 L 238.1 6.8 \" fill=\"#000000\"/>\n",
       "<path class=\"atom-19\" d=\"M 165.6 134.8 L 168.4 139.2 Q 168.6 139.7, 169.1 140.5 Q 169.5 141.3, 169.5 141.3 L 169.5 134.8 L 170.6 134.8 L 170.6 143.2 L 169.5 143.2 L 166.6 138.3 Q 166.2 137.8, 165.8 137.1 Q 165.5 136.5, 165.4 136.3 L 165.4 143.2 L 164.3 143.2 L 164.3 134.8 L 165.6 134.8 \" fill=\"#0000FF\"/>\n",
       "<path class=\"atom-26\" d=\"M 106.5 32.4 L 109.2 36.9 Q 109.5 37.3, 110.0 38.1 Q 110.4 38.9, 110.4 38.9 L 110.4 32.4 L 111.5 32.4 L 111.5 40.8 L 110.4 40.8 L 107.4 35.9 Q 107.1 35.4, 106.7 34.7 Q 106.4 34.1, 106.3 33.9 L 106.3 40.8 L 105.2 40.8 L 105.2 32.4 L 106.5 32.4 \" fill=\"#0000FF\"/>\n",
       "<path class=\"atom-29\" d=\"M 208.5 6.8 L 209.7 6.8 L 209.7 10.4 L 213.9 10.4 L 213.9 6.8 L 215.1 6.8 L 215.1 15.2 L 213.9 15.2 L 213.9 11.3 L 209.7 11.3 L 209.7 15.2 L 208.5 15.2 L 208.5 6.8 \" fill=\"#000000\"/>\n",
       "<path class=\"atom-0\" d=\"M 236.9,11.0 L 236.9,11.1 L 236.9,11.1 L 236.9,11.2 L 236.9,11.2 L 236.9,11.3 L 236.8,11.3 L 236.8,11.3 L 236.8,11.4 L 236.7,11.4 L 236.7,11.5 L 236.7,11.5 L 236.6,11.5 L 236.6,11.5 L 236.5,11.6 L 236.5,11.6 L 236.4,11.6 L 236.4,11.6 L 236.3,11.6 L 236.3,11.6 L 236.2,11.6 L 236.2,11.6 L 236.1,11.6 L 236.1,11.5 L 236.0,11.5 L 236.0,11.5 L 236.0,11.5 L 235.9,11.4 L 235.9,11.4 L 235.8,11.4 L 235.8,11.3 L 235.8,11.3 L 235.8,11.2 L 235.8,11.2 L 235.7,11.1 L 235.7,11.1 L 235.7,11.0 L 235.7,11.0 L 235.7,10.9 L 235.7,10.9 L 235.8,10.8 L 235.8,10.8 L 235.8,10.7 L 235.8,10.7 L 235.8,10.6 L 235.9,10.6 L 235.9,10.6 L 236.0,10.5 L 236.0,10.5 L 236.0,10.5 L 236.1,10.5 L 236.1,10.4 L 236.2,10.4 L 236.2,10.4 L 236.3,10.4 L 236.3,10.4 L 236.4,10.4 L 236.4,10.4 L 236.5,10.4 L 236.5,10.5 L 236.6,10.5 L 236.6,10.5 L 236.7,10.5 L 236.7,10.6 L 236.7,10.6 L 236.8,10.6 L 236.8,10.7 L 236.8,10.7 L 236.9,10.8 L 236.9,10.8 L 236.9,10.9 L 236.9,10.9 L 236.9,11.0 L 236.9,11.0 L 236.3,11.0 Z\" style=\"fill:#000000;fill-rule:evenodd;fill-opacity:1;stroke:#000000;stroke-width:0.0px;stroke-linecap:butt;stroke-linejoin:miter;stroke-opacity:1;\"/>\n",
       "<path class=\"atom-29\" d=\"M 217.4,11.0 L 217.4,11.1 L 217.4,11.1 L 217.4,11.2 L 217.4,11.2 L 217.4,11.3 L 217.4,11.3 L 217.3,11.3 L 217.3,11.4 L 217.3,11.4 L 217.2,11.5 L 217.2,11.5 L 217.2,11.5 L 217.1,11.5 L 217.1,11.6 L 217.0,11.6 L 217.0,11.6 L 216.9,11.6 L 216.9,11.6 L 216.8,11.6 L 216.8,11.6 L 216.7,11.6 L 216.7,11.6 L 216.6,11.5 L 216.6,11.5 L 216.5,11.5 L 216.5,11.5 L 216.5,11.4 L 216.4,11.4 L 216.4,11.4 L 216.4,11.3 L 216.3,11.3 L 216.3,11.2 L 216.3,11.2 L 216.3,11.1 L 216.3,11.1 L 216.3,11.0 L 216.3,11.0 L 216.3,10.9 L 216.3,10.9 L 216.3,10.8 L 216.3,10.8 L 216.3,10.7 L 216.4,10.7 L 216.4,10.6 L 216.4,10.6 L 216.5,10.6 L 216.5,10.5 L 216.5,10.5 L 216.6,10.5 L 216.6,10.5 L 216.7,10.4 L 216.7,10.4 L 216.8,10.4 L 216.8,10.4 L 216.9,10.4 L 216.9,10.4 L 217.0,10.4 L 217.0,10.4 L 217.1,10.5 L 217.1,10.5 L 217.2,10.5 L 217.2,10.5 L 217.2,10.6 L 217.3,10.6 L 217.3,10.6 L 217.3,10.7 L 217.4,10.7 L 217.4,10.8 L 217.4,10.8 L 217.4,10.9 L 217.4,10.9 L 217.4,11.0 L 217.4,11.0 L 216.9,11.0 Z\" style=\"fill:#000000;fill-rule:evenodd;fill-opacity:1;stroke:#000000;stroke-width:0.0px;stroke-linecap:butt;stroke-linejoin:miter;stroke-opacity:1;\"/>\n",
       "</svg>"
      ],
      "text/plain": [
       "<IPython.core.display.SVG object>"
      ]
     },
     "execution_count": 35,
     "metadata": {},
     "output_type": "execute_result"
    }
   ],
   "source": [
    "big_smiles_gen(big)"
   ]
  },
  {
   "cell_type": "code",
   "execution_count": 36,
   "id": "cbd3c872",
   "metadata": {},
   "outputs": [
    {
     "name": "stdout",
     "output_type": "stream",
     "text": [
      "[H]C(c1ccccc1)C(c1ccccc1)C([H])c1ccncc1\n",
      "0.0\n",
      "g2\n"
     ]
    },
    {
     "data": {
      "image/png": "[encoded data removed]",
      "text/plain": [
       "<Figure size 432x288 with 1 Axes>"
      ]
     },
     "metadata": {},
     "output_type": "display_data"
    }
   ],
   "source": [
    "big_smiles_graph(big)"
   ]
  },
  {
   "cell_type": "markdown",
   "id": "a0938504",
   "metadata": {},
   "source": [
    "## Polymer in Solvent PS in THF"
   ]
  },
  {
   "cell_type": "code",
   "execution_count": 37,
   "id": "ffa5e792",
   "metadata": {},
   "outputs": [],
   "source": [
    "big = \"C1CCOC1.|10%|{[][$]C([$])c1ccccc1; [$][H][]]}|gauss(400,20)|\""
   ]
  },
  {
   "cell_type": "code",
   "execution_count": 38,
   "id": "bcd07941",
   "metadata": {},
   "outputs": [
    {
     "ename": "RuntimeError",
     "evalue": "Molecule C1CCOC1.|10%|{[][$]C([$])c1ccccc1; [$][H][]]}|gauss(400,20)| does not end with a mixture descriptor '.|'.",
     "output_type": "error",
     "traceback": [
      "\u001b[0;31m---------------------------------------------------------------------------\u001b[0m",
      "\u001b[0;31mRuntimeError\u001b[0m                              Traceback (most recent call last)",
      "\u001b[0;32m<ipython-input-38-7df8c8549239>\u001b[0m in \u001b[0;36m<module>\u001b[0;34m\u001b[0m\n\u001b[0;32m----> 1\u001b[0;31m \u001b[0mbig_smiles_gen\u001b[0m\u001b[0;34m(\u001b[0m\u001b[0mbig\u001b[0m\u001b[0;34m)\u001b[0m\u001b[0;34m\u001b[0m\u001b[0;34m\u001b[0m\u001b[0m\n\u001b[0m",
      "\u001b[0;32m<ipython-input-3-1a9f38ee4f25>\u001b[0m in \u001b[0;36mbig_smiles_gen\u001b[0;34m(string)\u001b[0m\n\u001b[1;32m      8\u001b[0m     \u001b[0;32mglobal\u001b[0m \u001b[0mrng\u001b[0m\u001b[0;34m\u001b[0m\u001b[0;34m\u001b[0m\u001b[0m\n\u001b[1;32m      9\u001b[0m     \u001b[0;31m# Generate the abstract python object, parsing bigSMILES\u001b[0m\u001b[0;34m\u001b[0m\u001b[0;34m\u001b[0m\u001b[0m\n\u001b[0;32m---> 10\u001b[0;31m     \u001b[0mext\u001b[0m \u001b[0;34m=\u001b[0m \u001b[0mMolecule\u001b[0m\u001b[0;34m(\u001b[0m\u001b[0mbig\u001b[0m\u001b[0;34m)\u001b[0m\u001b[0;34m\u001b[0m\u001b[0;34m\u001b[0m\u001b[0m\n\u001b[0m\u001b[1;32m     11\u001b[0m     \u001b[0;31m# Generate molecules according to extension\u001b[0m\u001b[0;34m\u001b[0m\u001b[0;34m\u001b[0m\u001b[0m\n\u001b[1;32m     12\u001b[0m     \u001b[0mmol\u001b[0m \u001b[0;34m=\u001b[0m \u001b[0mext\u001b[0m\u001b[0;34m.\u001b[0m\u001b[0mgenerate\u001b[0m\u001b[0;34m(\u001b[0m\u001b[0mrng\u001b[0m\u001b[0;34m=\u001b[0m\u001b[0mrng\u001b[0m\u001b[0;34m)\u001b[0m\u001b[0;34m\u001b[0m\u001b[0;34m\u001b[0m\u001b[0m\n",
      "\u001b[0;32m~/git/bigSMILESgen/bigsmiles_gen/molecule.py\u001b[0m in \u001b[0;36m__init__\u001b[0;34m(self, big_smiles_ext)\u001b[0m\n\u001b[1;32m     40\u001b[0m             \u001b[0mend_text\u001b[0m \u001b[0;34m=\u001b[0m \u001b[0mstochastic_text\u001b[0m\u001b[0;34m[\u001b[0m\u001b[0mend\u001b[0m\u001b[0;34m:\u001b[0m\u001b[0;34m]\u001b[0m\u001b[0;34m.\u001b[0m\u001b[0mstrip\u001b[0m\u001b[0;34m(\u001b[0m\u001b[0;34m)\u001b[0m\u001b[0;34m\u001b[0m\u001b[0;34m\u001b[0m\u001b[0m\n\u001b[1;32m     41\u001b[0m             \u001b[0;32mif\u001b[0m \u001b[0mlen\u001b[0m\u001b[0;34m(\u001b[0m\u001b[0mend_text\u001b[0m\u001b[0;34m)\u001b[0m \u001b[0;34m>\u001b[0m \u001b[0;36m0\u001b[0m\u001b[0;34m:\u001b[0m\u001b[0;34m\u001b[0m\u001b[0;34m\u001b[0m\u001b[0m\n\u001b[0;32m---> 42\u001b[0;31m                 raise RuntimeError(\n\u001b[0m\u001b[1;32m     43\u001b[0m                     \u001b[0;34mf\"Molecule {stochastic_text} does not end with a mixture descriptor '.|'.\"\u001b[0m\u001b[0;34m\u001b[0m\u001b[0;34m\u001b[0m\u001b[0m\n\u001b[1;32m     44\u001b[0m                 )\n",
      "\u001b[0;31mRuntimeError\u001b[0m: Molecule C1CCOC1.|10%|{[][$]C([$])c1ccccc1; [$][H][]]}|gauss(400,20)| does not end with a mixture descriptor '.|'."
     ]
    }
   ],
   "source": [
    "big_smiles_gen(big)"
   ]
  },
  {
   "cell_type": "code",
   "execution_count": 39,
   "id": "167f42e2",
   "metadata": {},
   "outputs": [
    {
     "ename": "RuntimeError",
     "evalue": "Molecule C1CCOC1.|10%|{[][$]C([$])c1ccccc1; [$][H][]]}|gauss(400,20)| does not end with a mixture descriptor '.|'.",
     "output_type": "error",
     "traceback": [
      "\u001b[0;31m---------------------------------------------------------------------------\u001b[0m",
      "\u001b[0;31mRuntimeError\u001b[0m                              Traceback (most recent call last)",
      "\u001b[0;32m<ipython-input-39-7df8c8549239>\u001b[0m in \u001b[0;36m<module>\u001b[0;34m\u001b[0m\n\u001b[0;32m----> 1\u001b[0;31m \u001b[0mbig_smiles_gen\u001b[0m\u001b[0;34m(\u001b[0m\u001b[0mbig\u001b[0m\u001b[0;34m)\u001b[0m\u001b[0;34m\u001b[0m\u001b[0;34m\u001b[0m\u001b[0m\n\u001b[0m",
      "\u001b[0;32m<ipython-input-3-1a9f38ee4f25>\u001b[0m in \u001b[0;36mbig_smiles_gen\u001b[0;34m(string)\u001b[0m\n\u001b[1;32m      8\u001b[0m     \u001b[0;32mglobal\u001b[0m \u001b[0mrng\u001b[0m\u001b[0;34m\u001b[0m\u001b[0;34m\u001b[0m\u001b[0m\n\u001b[1;32m      9\u001b[0m     \u001b[0;31m# Generate the abstract python object, parsing bigSMILES\u001b[0m\u001b[0;34m\u001b[0m\u001b[0;34m\u001b[0m\u001b[0m\n\u001b[0;32m---> 10\u001b[0;31m     \u001b[0mext\u001b[0m \u001b[0;34m=\u001b[0m \u001b[0mMolecule\u001b[0m\u001b[0;34m(\u001b[0m\u001b[0mbig\u001b[0m\u001b[0;34m)\u001b[0m\u001b[0;34m\u001b[0m\u001b[0;34m\u001b[0m\u001b[0m\n\u001b[0m\u001b[1;32m     11\u001b[0m     \u001b[0;31m# Generate molecules according to extension\u001b[0m\u001b[0;34m\u001b[0m\u001b[0;34m\u001b[0m\u001b[0m\n\u001b[1;32m     12\u001b[0m     \u001b[0mmol\u001b[0m \u001b[0;34m=\u001b[0m \u001b[0mext\u001b[0m\u001b[0;34m.\u001b[0m\u001b[0mgenerate\u001b[0m\u001b[0;34m(\u001b[0m\u001b[0mrng\u001b[0m\u001b[0;34m=\u001b[0m\u001b[0mrng\u001b[0m\u001b[0;34m)\u001b[0m\u001b[0;34m\u001b[0m\u001b[0;34m\u001b[0m\u001b[0m\n",
      "\u001b[0;32m~/git/bigSMILESgen/bigsmiles_gen/molecule.py\u001b[0m in \u001b[0;36m__init__\u001b[0;34m(self, big_smiles_ext)\u001b[0m\n\u001b[1;32m     40\u001b[0m             \u001b[0mend_text\u001b[0m \u001b[0;34m=\u001b[0m \u001b[0mstochastic_text\u001b[0m\u001b[0;34m[\u001b[0m\u001b[0mend\u001b[0m\u001b[0;34m:\u001b[0m\u001b[0;34m]\u001b[0m\u001b[0;34m.\u001b[0m\u001b[0mstrip\u001b[0m\u001b[0;34m(\u001b[0m\u001b[0;34m)\u001b[0m\u001b[0;34m\u001b[0m\u001b[0;34m\u001b[0m\u001b[0m\n\u001b[1;32m     41\u001b[0m             \u001b[0;32mif\u001b[0m \u001b[0mlen\u001b[0m\u001b[0;34m(\u001b[0m\u001b[0mend_text\u001b[0m\u001b[0;34m)\u001b[0m \u001b[0;34m>\u001b[0m \u001b[0;36m0\u001b[0m\u001b[0;34m:\u001b[0m\u001b[0;34m\u001b[0m\u001b[0;34m\u001b[0m\u001b[0m\n\u001b[0;32m---> 42\u001b[0;31m                 raise RuntimeError(\n\u001b[0m\u001b[1;32m     43\u001b[0m                     \u001b[0;34mf\"Molecule {stochastic_text} does not end with a mixture descriptor '.|'.\"\u001b[0m\u001b[0;34m\u001b[0m\u001b[0;34m\u001b[0m\u001b[0m\n\u001b[1;32m     44\u001b[0m                 )\n",
      "\u001b[0;31mRuntimeError\u001b[0m: Molecule C1CCOC1.|10%|{[][$]C([$])c1ccccc1; [$][H][]]}|gauss(400,20)| does not end with a mixture descriptor '.|'."
     ]
    }
   ],
   "source": [
    "big_smiles_gen(big)"
   ]
  },
  {
   "cell_type": "markdown",
   "id": "7190b531",
   "metadata": {},
   "source": [
    "## Poly(acrylic acid butyl - r - acrylamide) (25% acrylamide)"
   ]
  },
  {
   "cell_type": "code",
   "execution_count": 40,
   "id": "f0c07851",
   "metadata": {},
   "outputs": [
    {
     "name": "stdout",
     "output_type": "stream",
     "text": [
      "[H]C(CC(=O)OCCCC)C(CC(N)=O)C(CC(N)=O)C(CC(N)=O)C(CC(=O)OCCCC)C([H])CC(=O)OCCCC\n",
      "0.7414359971133291\n",
      "20\n"
     ]
    },
    {
     "data": {
      "image/svg+xml": [
       "<svg xmlns=\"http://www.w3.org/2000/svg\" xmlns:rdkit=\"http://www.rdkit.org/xml\" xmlns:xlink=\"http://www.w3.org/1999/xlink\" version=\"1.1\" baseProfile=\"full\" xml:space=\"preserve\" width=\"450px\" height=\"150px\" viewBox=\"0 0 450 150\">\n",
       "<!-- END OF HEADER -->\n",
       "<rect style=\"opacity:1.0;fill:#FFFFFF;stroke:none\" width=\"450.0\" height=\"150.0\" x=\"0.0\" y=\"0.0\"> </rect>\n",
       "<path class=\"bond-0 atom-1 atom-2\" d=\"M 241.5,28.3 L 225.2,37.6\" style=\"fill:none;fill-rule:evenodd;stroke:#000000;stroke-width:2.0px;stroke-linecap:butt;stroke-linejoin:miter;stroke-opacity:1\"/>\n",
       "<path class=\"bond-1 atom-2 atom-3\" d=\"M 225.2,37.6 L 209.1,28.2\" style=\"fill:none;fill-rule:evenodd;stroke:#000000;stroke-width:2.0px;stroke-linecap:butt;stroke-linejoin:miter;stroke-opacity:1\"/>\n",
       "<path class=\"bond-2 atom-3 atom-4\" d=\"M 210.5,29.0 L 210.5,20.9\" style=\"fill:none;fill-rule:evenodd;stroke:#000000;stroke-width:2.0px;stroke-linecap:butt;stroke-linejoin:miter;stroke-opacity:1\"/>\n",
       "<path class=\"bond-2 atom-3 atom-4\" d=\"M 210.5,20.9 L 210.5,12.9\" style=\"fill:none;fill-rule:evenodd;stroke:#FF0000;stroke-width:2.0px;stroke-linecap:butt;stroke-linejoin:miter;stroke-opacity:1\"/>\n",
       "<path class=\"bond-2 atom-3 atom-4\" d=\"M 207.7,29.0 L 207.7,20.9\" style=\"fill:none;fill-rule:evenodd;stroke:#000000;stroke-width:2.0px;stroke-linecap:butt;stroke-linejoin:miter;stroke-opacity:1\"/>\n",
       "<path class=\"bond-2 atom-3 atom-4\" d=\"M 207.7,20.9 L 207.7,12.9\" style=\"fill:none;fill-rule:evenodd;stroke:#FF0000;stroke-width:2.0px;stroke-linecap:butt;stroke-linejoin:miter;stroke-opacity:1\"/>\n",
       "<path class=\"bond-3 atom-3 atom-5\" d=\"M 209.1,28.2 L 202.5,32.0\" style=\"fill:none;fill-rule:evenodd;stroke:#000000;stroke-width:2.0px;stroke-linecap:butt;stroke-linejoin:miter;stroke-opacity:1\"/>\n",
       "<path class=\"bond-3 atom-3 atom-5\" d=\"M 202.5,32.0 L 195.9,35.8\" style=\"fill:none;fill-rule:evenodd;stroke:#FF0000;stroke-width:2.0px;stroke-linecap:butt;stroke-linejoin:miter;stroke-opacity:1\"/>\n",
       "<path class=\"bond-4 atom-5 atom-6\" d=\"M 189.8,35.7 L 183.2,31.9\" style=\"fill:none;fill-rule:evenodd;stroke:#FF0000;stroke-width:2.0px;stroke-linecap:butt;stroke-linejoin:miter;stroke-opacity:1\"/>\n",
       "<path class=\"bond-4 atom-5 atom-6\" d=\"M 183.2,31.9 L 176.7,28.1\" style=\"fill:none;fill-rule:evenodd;stroke:#000000;stroke-width:2.0px;stroke-linecap:butt;stroke-linejoin:miter;stroke-opacity:1\"/>\n",
       "<path class=\"bond-5 atom-6 atom-7\" d=\"M 176.7,28.1 L 160.4,37.4\" style=\"fill:none;fill-rule:evenodd;stroke:#000000;stroke-width:2.0px;stroke-linecap:butt;stroke-linejoin:miter;stroke-opacity:1\"/>\n",
       "<path class=\"bond-6 atom-7 atom-8\" d=\"M 160.4,37.4 L 144.3,28.0\" style=\"fill:none;fill-rule:evenodd;stroke:#000000;stroke-width:2.0px;stroke-linecap:butt;stroke-linejoin:miter;stroke-opacity:1\"/>\n",
       "<path class=\"bond-7 atom-8 atom-9\" d=\"M 144.3,28.0 L 128.0,37.3\" style=\"fill:none;fill-rule:evenodd;stroke:#000000;stroke-width:2.0px;stroke-linecap:butt;stroke-linejoin:miter;stroke-opacity:1\"/>\n",
       "<path class=\"bond-8 atom-0 atom-1\" d=\"M 241.5,12.9 L 241.5,28.3\" style=\"fill:none;fill-rule:evenodd;stroke:#000000;stroke-width:2.0px;stroke-linecap:butt;stroke-linejoin:miter;stroke-opacity:1\"/>\n",
       "<path class=\"bond-9 atom-10 atom-11\" d=\"M 257.6,37.7 L 273.9,28.4\" style=\"fill:none;fill-rule:evenodd;stroke:#000000;stroke-width:2.0px;stroke-linecap:butt;stroke-linejoin:miter;stroke-opacity:1\"/>\n",
       "<path class=\"bond-10 atom-11 atom-12\" d=\"M 273.9,28.4 L 290.0,37.8\" style=\"fill:none;fill-rule:evenodd;stroke:#000000;stroke-width:2.0px;stroke-linecap:butt;stroke-linejoin:miter;stroke-opacity:1\"/>\n",
       "<path class=\"bond-11 atom-12 atom-13\" d=\"M 290.0,39.4 L 297.0,35.5\" style=\"fill:none;fill-rule:evenodd;stroke:#000000;stroke-width:2.0px;stroke-linecap:butt;stroke-linejoin:miter;stroke-opacity:1\"/>\n",
       "<path class=\"bond-11 atom-12 atom-13\" d=\"M 297.0,35.5 L 303.9,31.5\" style=\"fill:none;fill-rule:evenodd;stroke:#FF0000;stroke-width:2.0px;stroke-linecap:butt;stroke-linejoin:miter;stroke-opacity:1\"/>\n",
       "<path class=\"bond-11 atom-12 atom-13\" d=\"M 288.6,37.0 L 295.6,33.1\" style=\"fill:none;fill-rule:evenodd;stroke:#000000;stroke-width:2.0px;stroke-linecap:butt;stroke-linejoin:miter;stroke-opacity:1\"/>\n",
       "<path class=\"bond-11 atom-12 atom-13\" d=\"M 295.6,33.1 L 302.5,29.1\" style=\"fill:none;fill-rule:evenodd;stroke:#FF0000;stroke-width:2.0px;stroke-linecap:butt;stroke-linejoin:miter;stroke-opacity:1\"/>\n",
       "<path class=\"bond-12 atom-12 atom-14\" d=\"M 290.0,37.8 L 290.0,45.6\" style=\"fill:none;fill-rule:evenodd;stroke:#000000;stroke-width:2.0px;stroke-linecap:butt;stroke-linejoin:miter;stroke-opacity:1\"/>\n",
       "<path class=\"bond-12 atom-12 atom-14\" d=\"M 290.0,45.6 L 290.0,53.3\" style=\"fill:none;fill-rule:evenodd;stroke:#FF0000;stroke-width:2.0px;stroke-linecap:butt;stroke-linejoin:miter;stroke-opacity:1\"/>\n",
       "<path class=\"bond-13 atom-14 atom-15\" d=\"M 293.0,58.3 L 299.6,62.1\" style=\"fill:none;fill-rule:evenodd;stroke:#FF0000;stroke-width:2.0px;stroke-linecap:butt;stroke-linejoin:miter;stroke-opacity:1\"/>\n",
       "<path class=\"bond-13 atom-14 atom-15\" d=\"M 299.6,62.1 L 306.1,66.0\" style=\"fill:none;fill-rule:evenodd;stroke:#000000;stroke-width:2.0px;stroke-linecap:butt;stroke-linejoin:miter;stroke-opacity:1\"/>\n",
       "<path class=\"bond-14 atom-15 atom-16\" d=\"M 306.1,66.0 L 306.1,84.7\" style=\"fill:none;fill-rule:evenodd;stroke:#000000;stroke-width:2.0px;stroke-linecap:butt;stroke-linejoin:miter;stroke-opacity:1\"/>\n",
       "<path class=\"bond-15 atom-16 atom-17\" d=\"M 306.1,84.7 L 322.2,94.1\" style=\"fill:none;fill-rule:evenodd;stroke:#000000;stroke-width:2.0px;stroke-linecap:butt;stroke-linejoin:miter;stroke-opacity:1\"/>\n",
       "<path class=\"bond-16 atom-17 atom-18\" d=\"M 322.2,94.1 L 322.2,112.8\" style=\"fill:none;fill-rule:evenodd;stroke:#000000;stroke-width:2.0px;stroke-linecap:butt;stroke-linejoin:miter;stroke-opacity:1\"/>\n",
       "<path class=\"bond-17 atom-1 atom-10\" d=\"M 241.5,28.3 L 257.6,37.7\" style=\"fill:none;fill-rule:evenodd;stroke:#000000;stroke-width:2.0px;stroke-linecap:butt;stroke-linejoin:miter;stroke-opacity:1\"/>\n",
       "<path class=\"bond-18 atom-19 atom-20\" d=\"M 257.6,56.4 L 273.7,65.8\" style=\"fill:none;fill-rule:evenodd;stroke:#000000;stroke-width:2.0px;stroke-linecap:butt;stroke-linejoin:miter;stroke-opacity:1\"/>\n",
       "<path class=\"bond-19 atom-20 atom-21\" d=\"M 273.7,65.8 L 273.7,84.5\" style=\"fill:none;fill-rule:evenodd;stroke:#000000;stroke-width:2.0px;stroke-linecap:butt;stroke-linejoin:miter;stroke-opacity:1\"/>\n",
       "<path class=\"bond-20 atom-21 atom-22\" d=\"M 273.7,82.6 L 271.1,85.1\" style=\"fill:none;fill-rule:evenodd;stroke:#000000;stroke-width:2.0px;stroke-linecap:butt;stroke-linejoin:miter;stroke-opacity:1\"/>\n",
       "<path class=\"bond-20 atom-21 atom-22\" d=\"M 271.1,85.1 L 268.6,87.5\" style=\"fill:none;fill-rule:evenodd;stroke:#FF0000;stroke-width:2.0px;stroke-linecap:butt;stroke-linejoin:miter;stroke-opacity:1\"/>\n",
       "<path class=\"bond-20 atom-21 atom-22\" d=\"M 274.9,85.3 L 273.0,87.1\" style=\"fill:none;fill-rule:evenodd;stroke:#000000;stroke-width:2.0px;stroke-linecap:butt;stroke-linejoin:miter;stroke-opacity:1\"/>\n",
       "<path class=\"bond-20 atom-21 atom-22\" d=\"M 273.0,87.1 L 270.5,89.5\" style=\"fill:none;fill-rule:evenodd;stroke:#FF0000;stroke-width:2.0px;stroke-linecap:butt;stroke-linejoin:miter;stroke-opacity:1\"/>\n",
       "<path class=\"bond-21 atom-21 atom-23\" d=\"M 273.7,84.5 L 280.4,88.5\" style=\"fill:none;fill-rule:evenodd;stroke:#000000;stroke-width:2.0px;stroke-linecap:butt;stroke-linejoin:miter;stroke-opacity:1\"/>\n",
       "<path class=\"bond-21 atom-21 atom-23\" d=\"M 280.4,88.5 L 287.2,92.4\" style=\"fill:none;fill-rule:evenodd;stroke:#0000FF;stroke-width:2.0px;stroke-linecap:butt;stroke-linejoin:miter;stroke-opacity:1\"/>\n",
       "<path class=\"bond-22 atom-10 atom-19\" d=\"M 257.6,37.7 L 257.6,56.4\" style=\"fill:none;fill-rule:evenodd;stroke:#000000;stroke-width:2.0px;stroke-linecap:butt;stroke-linejoin:miter;stroke-opacity:1\"/>\n",
       "<path class=\"bond-23 atom-24 atom-25\" d=\"M 241.3,65.7 L 225.2,56.3\" style=\"fill:none;fill-rule:evenodd;stroke:#000000;stroke-width:2.0px;stroke-linecap:butt;stroke-linejoin:miter;stroke-opacity:1\"/>\n",
       "<path class=\"bond-24 atom-25 atom-26\" d=\"M 225.2,56.3 L 208.9,65.6\" style=\"fill:none;fill-rule:evenodd;stroke:#000000;stroke-width:2.0px;stroke-linecap:butt;stroke-linejoin:miter;stroke-opacity:1\"/>\n",
       "<path class=\"bond-25 atom-26 atom-27\" d=\"M 207.6,64.8 L 206.6,72.8\" style=\"fill:none;fill-rule:evenodd;stroke:#000000;stroke-width:2.0px;stroke-linecap:butt;stroke-linejoin:miter;stroke-opacity:1\"/>\n",
       "<path class=\"bond-25 atom-26 atom-27\" d=\"M 206.6,72.8 L 205.6,80.7\" style=\"fill:none;fill-rule:evenodd;stroke:#FF0000;stroke-width:2.0px;stroke-linecap:butt;stroke-linejoin:miter;stroke-opacity:1\"/>\n",
       "<path class=\"bond-25 atom-26 atom-27\" d=\"M 210.4,64.7 L 209.4,73.1\" style=\"fill:none;fill-rule:evenodd;stroke:#000000;stroke-width:2.0px;stroke-linecap:butt;stroke-linejoin:miter;stroke-opacity:1\"/>\n",
       "<path class=\"bond-25 atom-26 atom-27\" d=\"M 209.4,73.1 L 208.4,81.0\" style=\"fill:none;fill-rule:evenodd;stroke:#FF0000;stroke-width:2.0px;stroke-linecap:butt;stroke-linejoin:miter;stroke-opacity:1\"/>\n",
       "<path class=\"bond-26 atom-26 atom-28\" d=\"M 208.9,65.6 L 202.2,61.7\" style=\"fill:none;fill-rule:evenodd;stroke:#000000;stroke-width:2.0px;stroke-linecap:butt;stroke-linejoin:miter;stroke-opacity:1\"/>\n",
       "<path class=\"bond-26 atom-26 atom-28\" d=\"M 202.2,61.7 L 195.4,57.7\" style=\"fill:none;fill-rule:evenodd;stroke:#0000FF;stroke-width:2.0px;stroke-linecap:butt;stroke-linejoin:miter;stroke-opacity:1\"/>\n",
       "<path class=\"bond-27 atom-19 atom-24\" d=\"M 257.6,56.4 L 241.3,65.7\" style=\"fill:none;fill-rule:evenodd;stroke:#000000;stroke-width:2.0px;stroke-linecap:butt;stroke-linejoin:miter;stroke-opacity:1\"/>\n",
       "<path class=\"bond-28 atom-29 atom-30\" d=\"M 241.3,84.4 L 257.4,93.8\" style=\"fill:none;fill-rule:evenodd;stroke:#000000;stroke-width:2.0px;stroke-linecap:butt;stroke-linejoin:miter;stroke-opacity:1\"/>\n",
       "<path class=\"bond-29 atom-30 atom-31\" d=\"M 257.4,93.8 L 257.4,112.5\" style=\"fill:none;fill-rule:evenodd;stroke:#000000;stroke-width:2.0px;stroke-linecap:butt;stroke-linejoin:miter;stroke-opacity:1\"/>\n",
       "<path class=\"bond-30 atom-31 atom-32\" d=\"M 257.4,110.9 L 250.4,114.9\" style=\"fill:none;fill-rule:evenodd;stroke:#000000;stroke-width:2.0px;stroke-linecap:butt;stroke-linejoin:miter;stroke-opacity:1\"/>\n",
       "<path class=\"bond-30 atom-31 atom-32\" d=\"M 250.4,114.9 L 243.5,118.9\" style=\"fill:none;fill-rule:evenodd;stroke:#FF0000;stroke-width:2.0px;stroke-linecap:butt;stroke-linejoin:miter;stroke-opacity:1\"/>\n",
       "<path class=\"bond-30 atom-31 atom-32\" d=\"M 258.7,113.3 L 251.8,117.3\" style=\"fill:none;fill-rule:evenodd;stroke:#000000;stroke-width:2.0px;stroke-linecap:butt;stroke-linejoin:miter;stroke-opacity:1\"/>\n",
       "<path class=\"bond-30 atom-31 atom-32\" d=\"M 251.8,117.3 L 244.9,121.3\" style=\"fill:none;fill-rule:evenodd;stroke:#FF0000;stroke-width:2.0px;stroke-linecap:butt;stroke-linejoin:miter;stroke-opacity:1\"/>\n",
       "<path class=\"bond-31 atom-31 atom-33\" d=\"M 257.4,112.5 L 264.1,116.5\" style=\"fill:none;fill-rule:evenodd;stroke:#000000;stroke-width:2.0px;stroke-linecap:butt;stroke-linejoin:miter;stroke-opacity:1\"/>\n",
       "<path class=\"bond-31 atom-31 atom-33\" d=\"M 264.1,116.5 L 270.9,120.4\" style=\"fill:none;fill-rule:evenodd;stroke:#0000FF;stroke-width:2.0px;stroke-linecap:butt;stroke-linejoin:miter;stroke-opacity:1\"/>\n",
       "<path class=\"bond-32 atom-24 atom-29\" d=\"M 241.3,65.7 L 241.3,84.4\" style=\"fill:none;fill-rule:evenodd;stroke:#000000;stroke-width:2.0px;stroke-linecap:butt;stroke-linejoin:miter;stroke-opacity:1\"/>\n",
       "<path class=\"bond-33 atom-34 atom-35\" d=\"M 225.0,93.7 L 225.0,112.4\" style=\"fill:none;fill-rule:evenodd;stroke:#000000;stroke-width:2.0px;stroke-linecap:butt;stroke-linejoin:miter;stroke-opacity:1\"/>\n",
       "<path class=\"bond-34 atom-35 atom-36\" d=\"M 225.0,112.4 L 208.7,121.7\" style=\"fill:none;fill-rule:evenodd;stroke:#000000;stroke-width:2.0px;stroke-linecap:butt;stroke-linejoin:miter;stroke-opacity:1\"/>\n",
       "<path class=\"bond-35 atom-36 atom-37\" d=\"M 207.4,120.9 L 207.3,129.0\" style=\"fill:none;fill-rule:evenodd;stroke:#000000;stroke-width:2.0px;stroke-linecap:butt;stroke-linejoin:miter;stroke-opacity:1\"/>\n",
       "<path class=\"bond-35 atom-36 atom-37\" d=\"M 207.3,129.0 L 207.3,137.1\" style=\"fill:none;fill-rule:evenodd;stroke:#FF0000;stroke-width:2.0px;stroke-linecap:butt;stroke-linejoin:miter;stroke-opacity:1\"/>\n",
       "<path class=\"bond-35 atom-36 atom-37\" d=\"M 210.1,120.9 L 210.1,129.0\" style=\"fill:none;fill-rule:evenodd;stroke:#000000;stroke-width:2.0px;stroke-linecap:butt;stroke-linejoin:miter;stroke-opacity:1\"/>\n",
       "<path class=\"bond-35 atom-36 atom-37\" d=\"M 210.1,129.0 L 210.1,137.1\" style=\"fill:none;fill-rule:evenodd;stroke:#FF0000;stroke-width:2.0px;stroke-linecap:butt;stroke-linejoin:miter;stroke-opacity:1\"/>\n",
       "<path class=\"bond-36 atom-36 atom-38\" d=\"M 208.7,121.7 L 202.2,117.9\" style=\"fill:none;fill-rule:evenodd;stroke:#000000;stroke-width:2.0px;stroke-linecap:butt;stroke-linejoin:miter;stroke-opacity:1\"/>\n",
       "<path class=\"bond-36 atom-36 atom-38\" d=\"M 202.2,117.9 L 195.6,114.1\" style=\"fill:none;fill-rule:evenodd;stroke:#FF0000;stroke-width:2.0px;stroke-linecap:butt;stroke-linejoin:miter;stroke-opacity:1\"/>\n",
       "<path class=\"bond-37 atom-38 atom-39\" d=\"M 189.5,114.0 L 182.9,117.8\" style=\"fill:none;fill-rule:evenodd;stroke:#FF0000;stroke-width:2.0px;stroke-linecap:butt;stroke-linejoin:miter;stroke-opacity:1\"/>\n",
       "<path class=\"bond-37 atom-38 atom-39\" d=\"M 182.9,117.8 L 176.3,121.6\" style=\"fill:none;fill-rule:evenodd;stroke:#000000;stroke-width:2.0px;stroke-linecap:butt;stroke-linejoin:miter;stroke-opacity:1\"/>\n",
       "<path class=\"bond-38 atom-39 atom-40\" d=\"M 176.3,121.6 L 160.2,112.2\" style=\"fill:none;fill-rule:evenodd;stroke:#000000;stroke-width:2.0px;stroke-linecap:butt;stroke-linejoin:miter;stroke-opacity:1\"/>\n",
       "<path class=\"bond-39 atom-40 atom-41\" d=\"M 160.2,112.2 L 143.9,121.5\" style=\"fill:none;fill-rule:evenodd;stroke:#000000;stroke-width:2.0px;stroke-linecap:butt;stroke-linejoin:miter;stroke-opacity:1\"/>\n",
       "<path class=\"bond-40 atom-41 atom-42\" d=\"M 143.9,121.5 L 127.8,112.1\" style=\"fill:none;fill-rule:evenodd;stroke:#000000;stroke-width:2.0px;stroke-linecap:butt;stroke-linejoin:miter;stroke-opacity:1\"/>\n",
       "<path class=\"bond-41 atom-29 atom-34\" d=\"M 241.3,84.4 L 225.0,93.7\" style=\"fill:none;fill-rule:evenodd;stroke:#000000;stroke-width:2.0px;stroke-linecap:butt;stroke-linejoin:miter;stroke-opacity:1\"/>\n",
       "<path class=\"bond-42 atom-34 atom-43\" d=\"M 225.0,93.7 L 210.5,87.5\" style=\"fill:none;fill-rule:evenodd;stroke:#000000;stroke-width:2.0px;stroke-linecap:butt;stroke-linejoin:miter;stroke-opacity:1\"/>\n",
       "<path d=\"M 226.0,37.1 L 225.2,37.6 L 224.4,37.1\" style=\"fill:none;stroke:#000000;stroke-width:2.0px;stroke-linecap:butt;stroke-linejoin:miter;stroke-opacity:1;\"/>\n",
       "<path d=\"M 209.9,28.7 L 209.1,28.2 L 208.7,28.4\" style=\"fill:none;stroke:#000000;stroke-width:2.0px;stroke-linecap:butt;stroke-linejoin:miter;stroke-opacity:1;\"/>\n",
       "<path d=\"M 177.0,28.3 L 176.7,28.1 L 175.9,28.5\" style=\"fill:none;stroke:#000000;stroke-width:2.0px;stroke-linecap:butt;stroke-linejoin:miter;stroke-opacity:1;\"/>\n",
       "<path d=\"M 161.3,36.9 L 160.4,37.4 L 159.6,36.9\" style=\"fill:none;stroke:#000000;stroke-width:2.0px;stroke-linecap:butt;stroke-linejoin:miter;stroke-opacity:1;\"/>\n",
       "<path d=\"M 145.1,28.4 L 144.3,28.0 L 143.5,28.4\" style=\"fill:none;stroke:#000000;stroke-width:2.0px;stroke-linecap:butt;stroke-linejoin:miter;stroke-opacity:1;\"/>\n",
       "<path d=\"M 273.1,28.9 L 273.9,28.4 L 274.7,28.9\" style=\"fill:none;stroke:#000000;stroke-width:2.0px;stroke-linecap:butt;stroke-linejoin:miter;stroke-opacity:1;\"/>\n",
       "<path d=\"M 289.2,37.4 L 290.0,37.8 L 290.0,38.2\" style=\"fill:none;stroke:#000000;stroke-width:2.0px;stroke-linecap:butt;stroke-linejoin:miter;stroke-opacity:1;\"/>\n",
       "<path d=\"M 305.8,65.8 L 306.1,66.0 L 306.1,66.9\" style=\"fill:none;stroke:#000000;stroke-width:2.0px;stroke-linecap:butt;stroke-linejoin:miter;stroke-opacity:1;\"/>\n",
       "<path d=\"M 306.1,83.7 L 306.1,84.7 L 306.9,85.1\" style=\"fill:none;stroke:#000000;stroke-width:2.0px;stroke-linecap:butt;stroke-linejoin:miter;stroke-opacity:1;\"/>\n",
       "<path d=\"M 321.4,93.6 L 322.2,94.1 L 322.2,95.0\" style=\"fill:none;stroke:#000000;stroke-width:2.0px;stroke-linecap:butt;stroke-linejoin:miter;stroke-opacity:1;\"/>\n",
       "<path d=\"M 272.9,65.4 L 273.7,65.8 L 273.7,66.8\" style=\"fill:none;stroke:#000000;stroke-width:2.0px;stroke-linecap:butt;stroke-linejoin:miter;stroke-opacity:1;\"/>\n",
       "<path d=\"M 273.7,83.6 L 273.7,84.5 L 274.0,84.7\" style=\"fill:none;stroke:#000000;stroke-width:2.0px;stroke-linecap:butt;stroke-linejoin:miter;stroke-opacity:1;\"/>\n",
       "<path d=\"M 226.0,56.8 L 225.2,56.3 L 224.4,56.8\" style=\"fill:none;stroke:#000000;stroke-width:2.0px;stroke-linecap:butt;stroke-linejoin:miter;stroke-opacity:1;\"/>\n",
       "<path d=\"M 209.7,65.1 L 208.9,65.6 L 208.6,65.4\" style=\"fill:none;stroke:#000000;stroke-width:2.0px;stroke-linecap:butt;stroke-linejoin:miter;stroke-opacity:1;\"/>\n",
       "<path d=\"M 256.6,93.4 L 257.4,93.8 L 257.4,94.8\" style=\"fill:none;stroke:#000000;stroke-width:2.0px;stroke-linecap:butt;stroke-linejoin:miter;stroke-opacity:1;\"/>\n",
       "<path d=\"M 257.4,111.6 L 257.4,112.5 L 257.7,112.7\" style=\"fill:none;stroke:#000000;stroke-width:2.0px;stroke-linecap:butt;stroke-linejoin:miter;stroke-opacity:1;\"/>\n",
       "<path d=\"M 225.0,111.5 L 225.0,112.4 L 224.2,112.9\" style=\"fill:none;stroke:#000000;stroke-width:2.0px;stroke-linecap:butt;stroke-linejoin:miter;stroke-opacity:1;\"/>\n",
       "<path d=\"M 209.5,121.3 L 208.7,121.7 L 208.4,121.5\" style=\"fill:none;stroke:#000000;stroke-width:2.0px;stroke-linecap:butt;stroke-linejoin:miter;stroke-opacity:1;\"/>\n",
       "<path d=\"M 176.7,121.4 L 176.3,121.6 L 175.5,121.1\" style=\"fill:none;stroke:#000000;stroke-width:2.0px;stroke-linecap:butt;stroke-linejoin:miter;stroke-opacity:1;\"/>\n",
       "<path d=\"M 161.0,112.7 L 160.2,112.2 L 159.4,112.7\" style=\"fill:none;stroke:#000000;stroke-width:2.0px;stroke-linecap:butt;stroke-linejoin:miter;stroke-opacity:1;\"/>\n",
       "<path d=\"M 144.8,121.0 L 143.9,121.5 L 143.1,121.0\" style=\"fill:none;stroke:#000000;stroke-width:2.0px;stroke-linecap:butt;stroke-linejoin:miter;stroke-opacity:1;\"/>\n",
       "<path class=\"atom-0\" d=\"M 239.5 7.0 L 240.2 7.0 L 240.2 9.2 L 242.9 9.2 L 242.9 7.0 L 243.6 7.0 L 243.6 12.3 L 242.9 12.3 L 242.9 9.8 L 240.2 9.8 L 240.2 12.3 L 239.5 12.3 L 239.5 7.0 \" fill=\"#000000\"/>\n",
       "<path class=\"atom-4\" d=\"M 206.7 9.5 Q 206.7 8.2, 207.3 7.5 Q 208.0 6.8, 209.1 6.8 Q 210.3 6.8, 210.9 7.5 Q 211.6 8.2, 211.6 9.5 Q 211.6 10.8, 210.9 11.5 Q 210.3 12.3, 209.1 12.3 Q 208.0 12.3, 207.3 11.5 Q 206.7 10.8, 206.7 9.5 M 209.1 11.7 Q 209.9 11.7, 210.4 11.1 Q 210.8 10.6, 210.8 9.5 Q 210.8 8.5, 210.4 7.9 Q 209.9 7.4, 209.1 7.4 Q 208.3 7.4, 207.9 7.9 Q 207.5 8.5, 207.5 9.5 Q 207.5 10.6, 207.9 11.1 Q 208.3 11.7, 209.1 11.7 \" fill=\"#FF0000\"/>\n",
       "<path class=\"atom-5\" d=\"M 190.4 37.5 Q 190.4 36.2, 191.0 35.5 Q 191.7 34.8, 192.8 34.8 Q 194.0 34.8, 194.6 35.5 Q 195.3 36.2, 195.3 37.5 Q 195.3 38.8, 194.6 39.5 Q 194.0 40.3, 192.8 40.3 Q 191.7 40.3, 191.0 39.5 Q 190.4 38.8, 190.4 37.5 M 192.8 39.7 Q 193.6 39.7, 194.1 39.1 Q 194.5 38.6, 194.5 37.5 Q 194.5 36.5, 194.1 35.9 Q 193.6 35.4, 192.8 35.4 Q 192.0 35.4, 191.6 35.9 Q 191.2 36.5, 191.2 37.5 Q 191.2 38.6, 191.6 39.1 Q 192.0 39.7, 192.8 39.7 \" fill=\"#FF0000\"/>\n",
       "<path class=\"atom-13\" d=\"M 303.8 28.6 Q 303.8 27.3, 304.5 26.6 Q 305.1 25.9, 306.3 25.9 Q 307.4 25.9, 308.1 26.6 Q 308.7 27.3, 308.7 28.6 Q 308.7 29.9, 308.1 30.6 Q 307.4 31.3, 306.3 31.3 Q 305.1 31.3, 304.5 30.6 Q 303.8 29.9, 303.8 28.6 M 306.3 30.7 Q 307.1 30.7, 307.5 30.2 Q 307.9 29.6, 307.9 28.6 Q 307.9 27.5, 307.5 27.0 Q 307.1 26.5, 306.3 26.5 Q 305.4 26.5, 305.0 27.0 Q 304.6 27.5, 304.6 28.6 Q 304.6 29.6, 305.0 30.2 Q 305.4 30.7, 306.3 30.7 \" fill=\"#FF0000\"/>\n",
       "<path class=\"atom-14\" d=\"M 287.5 56.6 Q 287.5 55.3, 288.2 54.6 Q 288.8 53.9, 290.0 53.9 Q 291.1 53.9, 291.8 54.6 Q 292.4 55.3, 292.4 56.6 Q 292.4 57.8, 291.8 58.6 Q 291.1 59.3, 290.0 59.3 Q 288.8 59.3, 288.2 58.6 Q 287.5 57.9, 287.5 56.6 M 290.0 58.7 Q 290.8 58.7, 291.2 58.2 Q 291.6 57.6, 291.6 56.6 Q 291.6 55.5, 291.2 55.0 Q 290.8 54.5, 290.0 54.5 Q 289.2 54.5, 288.7 55.0 Q 288.3 55.5, 288.3 56.6 Q 288.3 57.6, 288.7 58.2 Q 289.2 58.7, 290.0 58.7 \" fill=\"#FF0000\"/>\n",
       "<path class=\"atom-22\" d=\"M 264.1 91.4 Q 264.1 90.2, 264.7 89.5 Q 265.3 88.7, 266.5 88.7 Q 267.7 88.7, 268.3 89.5 Q 268.9 90.2, 268.9 91.4 Q 268.9 92.7, 268.3 93.5 Q 267.6 94.2, 266.5 94.2 Q 265.3 94.2, 264.7 93.5 Q 264.1 92.7, 264.1 91.4 M 266.5 93.6 Q 267.3 93.6, 267.7 93.0 Q 268.2 92.5, 268.2 91.4 Q 268.2 90.4, 267.7 89.9 Q 267.3 89.3, 266.5 89.3 Q 265.7 89.3, 265.2 89.9 Q 264.8 90.4, 264.8 91.4 Q 264.8 92.5, 265.2 93.0 Q 265.7 93.6, 266.5 93.6 \" fill=\"#FF0000\"/>\n",
       "<path class=\"atom-23\" d=\"M 288.7 91.3 L 290.4 94.1 Q 290.6 94.4, 290.8 94.9 Q 291.1 95.4, 291.1 95.4 L 291.1 91.3 L 291.8 91.3 L 291.8 96.6 L 291.1 96.6 L 289.2 93.5 Q 289.0 93.2, 288.8 92.8 Q 288.6 92.4, 288.5 92.2 L 288.5 96.6 L 287.8 96.6 L 287.8 91.3 L 288.7 91.3 \" fill=\"#0000FF\"/>\n",
       "<path class=\"atom-23\" d=\"M 292.8 91.3 L 293.6 91.3 L 293.6 93.6 L 296.3 93.6 L 296.3 91.3 L 297.0 91.3 L 297.0 96.6 L 296.3 96.6 L 296.3 94.2 L 293.6 94.2 L 293.6 96.6 L 292.8 96.6 L 292.8 91.3 \" fill=\"#0000FF\"/>\n",
       "<path class=\"atom-23\" d=\"M 298.0 96.4 Q 298.2 96.1, 298.5 95.9 Q 298.8 95.7, 299.2 95.7 Q 299.7 95.7, 300.0 96.0 Q 300.3 96.3, 300.3 96.8 Q 300.3 97.3, 299.9 97.8 Q 299.5 98.3, 298.8 98.9 L 300.4 98.9 L 300.4 99.3 L 298.0 99.3 L 298.0 98.9 Q 298.7 98.5, 299.1 98.1 Q 299.4 97.8, 299.6 97.5 Q 299.8 97.1, 299.8 96.8 Q 299.8 96.5, 299.7 96.3 Q 299.5 96.1, 299.2 96.1 Q 298.9 96.1, 298.7 96.2 Q 298.5 96.3, 298.4 96.6 L 298.0 96.4 \" fill=\"#0000FF\"/>\n",
       "<path class=\"atom-27\" d=\"M 204.2 84.2 Q 204.2 82.9, 204.8 82.2 Q 205.4 81.5, 206.6 81.5 Q 207.8 81.5, 208.4 82.2 Q 209.0 82.9, 209.0 84.2 Q 209.0 85.5, 208.4 86.2 Q 207.7 86.9, 206.6 86.9 Q 205.4 86.9, 204.8 86.2 Q 204.2 85.5, 204.2 84.2 M 206.6 86.3 Q 207.4 86.3, 207.8 85.8 Q 208.3 85.2, 208.3 84.2 Q 208.3 83.1, 207.8 82.6 Q 207.4 82.1, 206.6 82.1 Q 205.8 82.1, 205.3 82.6 Q 204.9 83.1, 204.9 84.2 Q 204.9 85.2, 205.3 85.8 Q 205.8 86.3, 206.6 86.3 \" fill=\"#FF0000\"/>\n",
       "<path class=\"atom-28\" d=\"M 182.5 53.5 L 183.3 53.5 L 183.3 55.8 L 186.0 55.8 L 186.0 53.5 L 186.7 53.5 L 186.7 58.8 L 186.0 58.8 L 186.0 56.4 L 183.3 56.4 L 183.3 58.8 L 182.5 58.8 L 182.5 53.5 \" fill=\"#0000FF\"/>\n",
       "<path class=\"atom-28\" d=\"M 187.7 58.7 Q 187.9 58.3, 188.2 58.1 Q 188.5 58.0, 188.9 58.0 Q 189.4 58.0, 189.7 58.2 Q 190.0 58.5, 190.0 59.0 Q 190.0 59.6, 189.6 60.0 Q 189.3 60.5, 188.5 61.1 L 190.1 61.1 L 190.1 61.5 L 187.7 61.5 L 187.7 61.2 Q 188.4 60.7, 188.8 60.4 Q 189.1 60.0, 189.3 59.7 Q 189.5 59.4, 189.5 59.1 Q 189.5 58.7, 189.4 58.5 Q 189.2 58.4, 188.9 58.4 Q 188.6 58.4, 188.4 58.5 Q 188.2 58.6, 188.1 58.8 L 187.7 58.7 \" fill=\"#0000FF\"/>\n",
       "<path class=\"atom-28\" d=\"M 191.6 53.5 L 193.3 56.4 Q 193.5 56.6, 193.8 57.1 Q 194.1 57.6, 194.1 57.7 L 194.1 53.5 L 194.8 53.5 L 194.8 58.8 L 194.1 58.8 L 192.2 55.8 Q 192.0 55.4, 191.7 55.0 Q 191.5 54.6, 191.5 54.5 L 191.5 58.8 L 190.8 58.8 L 190.8 53.5 L 191.6 53.5 \" fill=\"#0000FF\"/>\n",
       "<path class=\"atom-32\" d=\"M 238.7 121.8 Q 238.7 120.6, 239.3 119.9 Q 240.0 119.2, 241.1 119.2 Q 242.3 119.2, 242.9 119.9 Q 243.6 120.6, 243.6 121.8 Q 243.6 123.1, 242.9 123.9 Q 242.3 124.6, 241.1 124.6 Q 240.0 124.6, 239.3 123.9 Q 238.7 123.1, 238.7 121.8 M 241.1 124.0 Q 241.9 124.0, 242.4 123.5 Q 242.8 122.9, 242.8 121.8 Q 242.8 120.8, 242.4 120.3 Q 241.9 119.8, 241.1 119.8 Q 240.3 119.8, 239.9 120.3 Q 239.4 120.8, 239.4 121.8 Q 239.4 122.9, 239.9 123.5 Q 240.3 124.0, 241.1 124.0 \" fill=\"#FF0000\"/>\n",
       "<path class=\"atom-33\" d=\"M 272.4 119.3 L 274.1 122.1 Q 274.3 122.4, 274.5 122.9 Q 274.8 123.4, 274.8 123.4 L 274.8 119.3 L 275.5 119.3 L 275.5 124.6 L 274.8 124.6 L 272.9 121.5 Q 272.7 121.2, 272.5 120.8 Q 272.3 120.3, 272.2 120.2 L 272.2 124.6 L 271.5 124.6 L 271.5 119.3 L 272.4 119.3 \" fill=\"#0000FF\"/>\n",
       "<path class=\"atom-33\" d=\"M 276.5 119.3 L 277.3 119.3 L 277.3 121.6 L 280.0 121.6 L 280.0 119.3 L 280.7 119.3 L 280.7 124.6 L 280.0 124.6 L 280.0 122.2 L 277.3 122.2 L 277.3 124.6 L 276.5 124.6 L 276.5 119.3 \" fill=\"#0000FF\"/>\n",
       "<path class=\"atom-33\" d=\"M 281.7 124.4 Q 281.9 124.1, 282.2 123.9 Q 282.5 123.7, 282.9 123.7 Q 283.4 123.7, 283.7 124.0 Q 284.0 124.3, 284.0 124.8 Q 284.0 125.3, 283.6 125.8 Q 283.2 126.3, 282.5 126.9 L 284.1 126.9 L 284.1 127.2 L 281.7 127.2 L 281.7 126.9 Q 282.4 126.5, 282.8 126.1 Q 283.1 125.8, 283.3 125.5 Q 283.5 125.1, 283.5 124.8 Q 283.5 124.5, 283.4 124.3 Q 283.2 124.1, 282.9 124.1 Q 282.6 124.1, 282.4 124.2 Q 282.2 124.3, 282.1 124.6 L 281.7 124.4 \" fill=\"#0000FF\"/>\n",
       "<path class=\"atom-37\" d=\"M 206.2 140.4 Q 206.2 139.2, 206.9 138.5 Q 207.5 137.7, 208.7 137.7 Q 209.8 137.7, 210.5 138.5 Q 211.1 139.2, 211.1 140.4 Q 211.1 141.7, 210.5 142.5 Q 209.8 143.2, 208.7 143.2 Q 207.5 143.2, 206.9 142.5 Q 206.2 141.7, 206.2 140.4 M 208.7 142.6 Q 209.5 142.6, 209.9 142.0 Q 210.4 141.5, 210.4 140.4 Q 210.4 139.4, 209.9 138.9 Q 209.5 138.3, 208.7 138.3 Q 207.9 138.3, 207.4 138.9 Q 207.0 139.4, 207.0 140.4 Q 207.0 141.5, 207.4 142.0 Q 207.9 142.6, 208.7 142.6 \" fill=\"#FF0000\"/>\n",
       "<path class=\"atom-38\" d=\"M 190.1 112.3 Q 190.1 111.1, 190.8 110.3 Q 191.4 109.6, 192.6 109.6 Q 193.7 109.6, 194.4 110.3 Q 195.0 111.1, 195.0 112.3 Q 195.0 113.6, 194.4 114.3 Q 193.7 115.1, 192.6 115.1 Q 191.4 115.1, 190.8 114.3 Q 190.1 113.6, 190.1 112.3 M 192.6 114.5 Q 193.4 114.5, 193.8 113.9 Q 194.3 113.4, 194.3 112.3 Q 194.3 111.3, 193.8 110.8 Q 193.4 110.2, 192.6 110.2 Q 191.8 110.2, 191.3 110.8 Q 190.9 111.3, 190.9 112.3 Q 190.9 113.4, 191.3 113.9 Q 191.8 114.5, 192.6 114.5 \" fill=\"#FF0000\"/>\n",
       "<path class=\"atom-43\" d=\"M 205.8 83.7 L 206.5 83.7 L 206.5 86.0 L 209.2 86.0 L 209.2 83.7 L 209.9 83.7 L 209.9 89.0 L 209.2 89.0 L 209.2 86.6 L 206.5 86.6 L 206.5 89.0 L 205.8 89.0 L 205.8 83.7 \" fill=\"#000000\"/>\n",
       "<path class=\"atom-0\" d=\"M 245.1,9.6 L 245.1,9.6 L 245.1,9.7 L 245.1,9.7 L 245.1,9.7 L 245.1,9.8 L 245.1,9.8 L 245.0,9.8 L 245.0,9.9 L 245.0,9.9 L 245.0,9.9 L 244.9,9.9 L 244.9,9.9 L 244.9,9.9 L 244.9,10.0 L 244.8,10.0 L 244.8,10.0 L 244.8,10.0 L 244.7,10.0 L 244.7,10.0 L 244.7,10.0 L 244.6,10.0 L 244.6,10.0 L 244.6,10.0 L 244.6,9.9 L 244.5,9.9 L 244.5,9.9 L 244.5,9.9 L 244.5,9.9 L 244.4,9.8 L 244.4,9.8 L 244.4,9.8 L 244.4,9.8 L 244.4,9.7 L 244.4,9.7 L 244.4,9.7 L 244.4,9.6 L 244.4,9.6 L 244.4,9.6 L 244.4,9.5 L 244.4,9.5 L 244.4,9.5 L 244.4,9.4 L 244.4,9.4 L 244.4,9.4 L 244.5,9.4 L 244.5,9.3 L 244.5,9.3 L 244.5,9.3 L 244.6,9.3 L 244.6,9.3 L 244.6,9.3 L 244.6,9.2 L 244.7,9.2 L 244.7,9.2 L 244.7,9.2 L 244.8,9.2 L 244.8,9.2 L 244.8,9.3 L 244.9,9.3 L 244.9,9.3 L 244.9,9.3 L 244.9,9.3 L 245.0,9.3 L 245.0,9.4 L 245.0,9.4 L 245.0,9.4 L 245.1,9.4 L 245.1,9.5 L 245.1,9.5 L 245.1,9.5 L 245.1,9.5 L 245.1,9.6 L 245.1,9.6 L 244.7,9.6 Z\" style=\"fill:#000000;fill-rule:evenodd;fill-opacity:1;stroke:#000000;stroke-width:0.0px;stroke-linecap:butt;stroke-linejoin:miter;stroke-opacity:1;\"/>\n",
       "<path class=\"atom-43\" d=\"M 211.4,86.4 L 211.4,86.4 L 211.4,86.4 L 211.4,86.4 L 211.4,86.5 L 211.4,86.5 L 211.4,86.5 L 211.3,86.6 L 211.3,86.6 L 211.3,86.6 L 211.3,86.6 L 211.3,86.7 L 211.2,86.7 L 211.2,86.7 L 211.2,86.7 L 211.1,86.7 L 211.1,86.7 L 211.1,86.7 L 211.0,86.7 L 211.0,86.7 L 211.0,86.7 L 210.9,86.7 L 210.9,86.7 L 210.9,86.7 L 210.9,86.7 L 210.8,86.7 L 210.8,86.6 L 210.8,86.6 L 210.8,86.6 L 210.7,86.6 L 210.7,86.5 L 210.7,86.5 L 210.7,86.5 L 210.7,86.5 L 210.7,86.4 L 210.7,86.4 L 210.7,86.4 L 210.7,86.3 L 210.7,86.3 L 210.7,86.3 L 210.7,86.2 L 210.7,86.2 L 210.7,86.2 L 210.7,86.2 L 210.7,86.1 L 210.8,86.1 L 210.8,86.1 L 210.8,86.1 L 210.8,86.0 L 210.9,86.0 L 210.9,86.0 L 210.9,86.0 L 210.9,86.0 L 211.0,86.0 L 211.0,86.0 L 211.0,86.0 L 211.1,86.0 L 211.1,86.0 L 211.1,86.0 L 211.2,86.0 L 211.2,86.0 L 211.2,86.0 L 211.3,86.0 L 211.3,86.1 L 211.3,86.1 L 211.3,86.1 L 211.3,86.1 L 211.4,86.2 L 211.4,86.2 L 211.4,86.2 L 211.4,86.3 L 211.4,86.3 L 211.4,86.3 L 211.4,86.4 L 211.0,86.4 Z\" style=\"fill:#000000;fill-rule:evenodd;fill-opacity:1;stroke:#000000;stroke-width:0.0px;stroke-linecap:butt;stroke-linejoin:miter;stroke-opacity:1;\"/>\n",
       "<path class=\"atom-27\" d=\"M 205.3,82.9 L 205.3,85.4 L 207.8,85.4 L 207.8,82.9 L 205.3,82.9\" style=\"fill:none;stroke:#FF0000;stroke-width:2.0px;stroke-linecap:butt;stroke-linejoin:miter;stroke-opacity:1;\"/>\n",
       "</svg>"
      ],
      "text/plain": [
       "<IPython.core.display.SVG object>"
      ]
     },
     "execution_count": 40,
     "metadata": {},
     "output_type": "execute_result"
    }
   ],
   "source": [
    "big = \"[H]{[>][>|75|]C([<|75|])CC(=O)OCCCC, [<|25|]C([>|25|])CC(=O)N[<]}|gauss(500,50)|[H]\"\n",
    "big_smiles_gen(big)"
   ]
  },
  {
   "cell_type": "code",
   "execution_count": 41,
   "id": "3cf6c797",
   "metadata": {},
   "outputs": [
    {
     "name": "stdout",
     "output_type": "stream",
     "text": [
      "[H]C(CC(=O)OCCCC)C(CC(=O)OCCCC)C(CC(N)=O)C(CC(=O)OCCCC)C([H])CC(=O)OCCCC\n",
      "0.6848032512247928\n",
      "21\n"
     ]
    },
    {
     "data": {
      "image/svg+xml": [
       "<svg xmlns=\"http://www.w3.org/2000/svg\" xmlns:rdkit=\"http://www.rdkit.org/xml\" xmlns:xlink=\"http://www.w3.org/1999/xlink\" version=\"1.1\" baseProfile=\"full\" xml:space=\"preserve\" width=\"450px\" height=\"150px\" viewBox=\"0 0 450 150\">\n",
       "<!-- END OF HEADER -->\n",
       "<rect style=\"opacity:1.0;fill:#FFFFFF;stroke:none\" width=\"450.0\" height=\"150.0\" x=\"0.0\" y=\"0.0\"> </rect>\n",
       "<path class=\"bond-0 atom-1 atom-2\" d=\"M 243.5,112.3 L 250.4,98.7\" style=\"fill:none;fill-rule:evenodd;stroke:#000000;stroke-width:2.0px;stroke-linecap:butt;stroke-linejoin:miter;stroke-opacity:1\"/>\n",
       "<path class=\"bond-1 atom-2 atom-3\" d=\"M 250.4,98.7 L 265.7,98.0\" style=\"fill:none;fill-rule:evenodd;stroke:#000000;stroke-width:2.0px;stroke-linecap:butt;stroke-linejoin:miter;stroke-opacity:1\"/>\n",
       "<path class=\"bond-2 atom-3 atom-4\" d=\"M 264.4,98.1 L 267.8,103.4\" style=\"fill:none;fill-rule:evenodd;stroke:#000000;stroke-width:2.0px;stroke-linecap:butt;stroke-linejoin:miter;stroke-opacity:1\"/>\n",
       "<path class=\"bond-2 atom-3 atom-4\" d=\"M 267.8,103.4 L 271.3,108.7\" style=\"fill:none;fill-rule:evenodd;stroke:#FF0000;stroke-width:2.0px;stroke-linecap:butt;stroke-linejoin:miter;stroke-opacity:1\"/>\n",
       "<path class=\"bond-2 atom-3 atom-4\" d=\"M 266.3,96.8 L 269.7,102.2\" style=\"fill:none;fill-rule:evenodd;stroke:#000000;stroke-width:2.0px;stroke-linecap:butt;stroke-linejoin:miter;stroke-opacity:1\"/>\n",
       "<path class=\"bond-2 atom-3 atom-4\" d=\"M 269.7,102.2 L 273.2,107.5\" style=\"fill:none;fill-rule:evenodd;stroke:#FF0000;stroke-width:2.0px;stroke-linecap:butt;stroke-linejoin:miter;stroke-opacity:1\"/>\n",
       "<path class=\"bond-3 atom-3 atom-5\" d=\"M 265.7,98.0 L 268.4,92.6\" style=\"fill:none;fill-rule:evenodd;stroke:#000000;stroke-width:2.0px;stroke-linecap:butt;stroke-linejoin:miter;stroke-opacity:1\"/>\n",
       "<path class=\"bond-3 atom-3 atom-5\" d=\"M 268.4,92.6 L 271.2,87.2\" style=\"fill:none;fill-rule:evenodd;stroke:#FF0000;stroke-width:2.0px;stroke-linecap:butt;stroke-linejoin:miter;stroke-opacity:1\"/>\n",
       "<path class=\"bond-4 atom-5 atom-6\" d=\"M 275.1,84.3 L 281.5,84.0\" style=\"fill:none;fill-rule:evenodd;stroke:#FF0000;stroke-width:2.0px;stroke-linecap:butt;stroke-linejoin:miter;stroke-opacity:1\"/>\n",
       "<path class=\"bond-4 atom-5 atom-6\" d=\"M 281.5,84.0 L 287.9,83.7\" style=\"fill:none;fill-rule:evenodd;stroke:#000000;stroke-width:2.0px;stroke-linecap:butt;stroke-linejoin:miter;stroke-opacity:1\"/>\n",
       "<path class=\"bond-5 atom-6 atom-7\" d=\"M 287.9,83.7 L 294.8,70.1\" style=\"fill:none;fill-rule:evenodd;stroke:#000000;stroke-width:2.0px;stroke-linecap:butt;stroke-linejoin:miter;stroke-opacity:1\"/>\n",
       "<path class=\"bond-6 atom-7 atom-8\" d=\"M 294.8,70.1 L 310.0,69.4\" style=\"fill:none;fill-rule:evenodd;stroke:#000000;stroke-width:2.0px;stroke-linecap:butt;stroke-linejoin:miter;stroke-opacity:1\"/>\n",
       "<path class=\"bond-7 atom-8 atom-9\" d=\"M 310.0,69.4 L 317.0,55.8\" style=\"fill:none;fill-rule:evenodd;stroke:#000000;stroke-width:2.0px;stroke-linecap:butt;stroke-linejoin:miter;stroke-opacity:1\"/>\n",
       "<path class=\"bond-8 atom-0 atom-1\" d=\"M 250.0,122.5 L 243.5,112.3\" style=\"fill:none;fill-rule:evenodd;stroke:#000000;stroke-width:2.0px;stroke-linecap:butt;stroke-linejoin:miter;stroke-opacity:1\"/>\n",
       "<path class=\"bond-9 atom-10 atom-11\" d=\"M 228.3,113.1 L 221.3,126.6\" style=\"fill:none;fill-rule:evenodd;stroke:#000000;stroke-width:2.0px;stroke-linecap:butt;stroke-linejoin:miter;stroke-opacity:1\"/>\n",
       "<path class=\"bond-10 atom-11 atom-12\" d=\"M 221.3,126.6 L 206.1,127.4\" style=\"fill:none;fill-rule:evenodd;stroke:#000000;stroke-width:2.0px;stroke-linecap:butt;stroke-linejoin:miter;stroke-opacity:1\"/>\n",
       "<path class=\"bond-11 atom-12 atom-13\" d=\"M 205.4,126.3 L 202.4,132.0\" style=\"fill:none;fill-rule:evenodd;stroke:#000000;stroke-width:2.0px;stroke-linecap:butt;stroke-linejoin:miter;stroke-opacity:1\"/>\n",
       "<path class=\"bond-11 atom-12 atom-13\" d=\"M 202.4,132.0 L 199.5,137.7\" style=\"fill:none;fill-rule:evenodd;stroke:#FF0000;stroke-width:2.0px;stroke-linecap:butt;stroke-linejoin:miter;stroke-opacity:1\"/>\n",
       "<path class=\"bond-11 atom-12 atom-13\" d=\"M 207.4,127.3 L 204.4,133.0\" style=\"fill:none;fill-rule:evenodd;stroke:#000000;stroke-width:2.0px;stroke-linecap:butt;stroke-linejoin:miter;stroke-opacity:1\"/>\n",
       "<path class=\"bond-11 atom-12 atom-13\" d=\"M 204.4,133.0 L 201.5,138.8\" style=\"fill:none;fill-rule:evenodd;stroke:#FF0000;stroke-width:2.0px;stroke-linecap:butt;stroke-linejoin:miter;stroke-opacity:1\"/>\n",
       "<path class=\"bond-12 atom-12 atom-14\" d=\"M 206.1,127.4 L 202.8,122.3\" style=\"fill:none;fill-rule:evenodd;stroke:#000000;stroke-width:2.0px;stroke-linecap:butt;stroke-linejoin:miter;stroke-opacity:1\"/>\n",
       "<path class=\"bond-12 atom-12 atom-14\" d=\"M 202.8,122.3 L 199.6,117.3\" style=\"fill:none;fill-rule:evenodd;stroke:#FF0000;stroke-width:2.0px;stroke-linecap:butt;stroke-linejoin:miter;stroke-opacity:1\"/>\n",
       "<path class=\"bond-13 atom-14 atom-15\" d=\"M 195.3,114.7 L 189.0,115.0\" style=\"fill:none;fill-rule:evenodd;stroke:#FF0000;stroke-width:2.0px;stroke-linecap:butt;stroke-linejoin:miter;stroke-opacity:1\"/>\n",
       "<path class=\"bond-13 atom-14 atom-15\" d=\"M 189.0,115.0 L 182.6,115.3\" style=\"fill:none;fill-rule:evenodd;stroke:#000000;stroke-width:2.0px;stroke-linecap:butt;stroke-linejoin:miter;stroke-opacity:1\"/>\n",
       "<path class=\"bond-14 atom-15 atom-16\" d=\"M 182.6,115.3 L 174.3,102.5\" style=\"fill:none;fill-rule:evenodd;stroke:#000000;stroke-width:2.0px;stroke-linecap:butt;stroke-linejoin:miter;stroke-opacity:1\"/>\n",
       "<path class=\"bond-15 atom-16 atom-17\" d=\"M 174.3,102.5 L 159.1,103.3\" style=\"fill:none;fill-rule:evenodd;stroke:#000000;stroke-width:2.0px;stroke-linecap:butt;stroke-linejoin:miter;stroke-opacity:1\"/>\n",
       "<path class=\"bond-16 atom-17 atom-18\" d=\"M 159.1,103.3 L 150.8,90.4\" style=\"fill:none;fill-rule:evenodd;stroke:#000000;stroke-width:2.0px;stroke-linecap:butt;stroke-linejoin:miter;stroke-opacity:1\"/>\n",
       "<path class=\"bond-17 atom-1 atom-10\" d=\"M 243.5,112.3 L 228.3,113.1\" style=\"fill:none;fill-rule:evenodd;stroke:#000000;stroke-width:2.0px;stroke-linecap:butt;stroke-linejoin:miter;stroke-opacity:1\"/>\n",
       "<path class=\"bond-18 atom-19 atom-20\" d=\"M 220.0,100.2 L 204.8,101.0\" style=\"fill:none;fill-rule:evenodd;stroke:#000000;stroke-width:2.0px;stroke-linecap:butt;stroke-linejoin:miter;stroke-opacity:1\"/>\n",
       "<path class=\"bond-19 atom-20 atom-21\" d=\"M 204.8,101.0 L 196.5,88.2\" style=\"fill:none;fill-rule:evenodd;stroke:#000000;stroke-width:2.0px;stroke-linecap:butt;stroke-linejoin:miter;stroke-opacity:1\"/>\n",
       "<path class=\"bond-20 atom-21 atom-22\" d=\"M 197.4,89.5 L 198.1,86.4\" style=\"fill:none;fill-rule:evenodd;stroke:#000000;stroke-width:2.0px;stroke-linecap:butt;stroke-linejoin:miter;stroke-opacity:1\"/>\n",
       "<path class=\"bond-20 atom-21 atom-22\" d=\"M 198.1,86.4 L 198.8,83.3\" style=\"fill:none;fill-rule:evenodd;stroke:#FF0000;stroke-width:2.0px;stroke-linecap:butt;stroke-linejoin:miter;stroke-opacity:1\"/>\n",
       "<path class=\"bond-20 atom-21 atom-22\" d=\"M 195.3,88.2 L 195.9,85.9\" style=\"fill:none;fill-rule:evenodd;stroke:#000000;stroke-width:2.0px;stroke-linecap:butt;stroke-linejoin:miter;stroke-opacity:1\"/>\n",
       "<path class=\"bond-20 atom-21 atom-22\" d=\"M 195.9,85.9 L 196.6,82.8\" style=\"fill:none;fill-rule:evenodd;stroke:#FF0000;stroke-width:2.0px;stroke-linecap:butt;stroke-linejoin:miter;stroke-opacity:1\"/>\n",
       "<path class=\"bond-21 atom-21 atom-23\" d=\"M 196.5,88.2 L 190.0,88.5\" style=\"fill:none;fill-rule:evenodd;stroke:#000000;stroke-width:2.0px;stroke-linecap:butt;stroke-linejoin:miter;stroke-opacity:1\"/>\n",
       "<path class=\"bond-21 atom-21 atom-23\" d=\"M 190.0,88.5 L 183.4,88.8\" style=\"fill:none;fill-rule:evenodd;stroke:#0000FF;stroke-width:2.0px;stroke-linecap:butt;stroke-linejoin:miter;stroke-opacity:1\"/>\n",
       "<path class=\"bond-22 atom-10 atom-19\" d=\"M 228.3,113.1 L 220.0,100.2\" style=\"fill:none;fill-rule:evenodd;stroke:#000000;stroke-width:2.0px;stroke-linecap:butt;stroke-linejoin:miter;stroke-opacity:1\"/>\n",
       "<path class=\"bond-23 atom-24 atom-25\" d=\"M 227.0,86.7 L 242.2,85.9\" style=\"fill:none;fill-rule:evenodd;stroke:#000000;stroke-width:2.0px;stroke-linecap:butt;stroke-linejoin:miter;stroke-opacity:1\"/>\n",
       "<path class=\"bond-24 atom-25 atom-26\" d=\"M 242.2,85.9 L 249.1,72.4\" style=\"fill:none;fill-rule:evenodd;stroke:#000000;stroke-width:2.0px;stroke-linecap:butt;stroke-linejoin:miter;stroke-opacity:1\"/>\n",
       "<path class=\"bond-25 atom-26 atom-27\" d=\"M 248.5,73.5 L 255.2,73.2\" style=\"fill:none;fill-rule:evenodd;stroke:#000000;stroke-width:2.0px;stroke-linecap:butt;stroke-linejoin:miter;stroke-opacity:1\"/>\n",
       "<path class=\"bond-25 atom-26 atom-27\" d=\"M 255.2,73.2 L 261.9,72.9\" style=\"fill:none;fill-rule:evenodd;stroke:#FF0000;stroke-width:2.0px;stroke-linecap:butt;stroke-linejoin:miter;stroke-opacity:1\"/>\n",
       "<path class=\"bond-25 atom-26 atom-27\" d=\"M 248.4,71.3 L 255.1,70.9\" style=\"fill:none;fill-rule:evenodd;stroke:#000000;stroke-width:2.0px;stroke-linecap:butt;stroke-linejoin:miter;stroke-opacity:1\"/>\n",
       "<path class=\"bond-25 atom-26 atom-27\" d=\"M 255.1,70.9 L 261.8,70.6\" style=\"fill:none;fill-rule:evenodd;stroke:#FF0000;stroke-width:2.0px;stroke-linecap:butt;stroke-linejoin:miter;stroke-opacity:1\"/>\n",
       "<path class=\"bond-26 atom-26 atom-28\" d=\"M 249.1,72.4 L 245.9,67.3\" style=\"fill:none;fill-rule:evenodd;stroke:#000000;stroke-width:2.0px;stroke-linecap:butt;stroke-linejoin:miter;stroke-opacity:1\"/>\n",
       "<path class=\"bond-26 atom-26 atom-28\" d=\"M 245.9,67.3 L 242.6,62.3\" style=\"fill:none;fill-rule:evenodd;stroke:#FF0000;stroke-width:2.0px;stroke-linecap:butt;stroke-linejoin:miter;stroke-opacity:1\"/>\n",
       "<path class=\"bond-27 atom-28 atom-29\" d=\"M 242.3,56.9 L 245.0,51.4\" style=\"fill:none;fill-rule:evenodd;stroke:#FF0000;stroke-width:2.0px;stroke-linecap:butt;stroke-linejoin:miter;stroke-opacity:1\"/>\n",
       "<path class=\"bond-27 atom-28 atom-29\" d=\"M 245.0,51.4 L 247.8,46.0\" style=\"fill:none;fill-rule:evenodd;stroke:#000000;stroke-width:2.0px;stroke-linecap:butt;stroke-linejoin:miter;stroke-opacity:1\"/>\n",
       "<path class=\"bond-28 atom-29 atom-30\" d=\"M 247.8,46.0 L 239.6,33.2\" style=\"fill:none;fill-rule:evenodd;stroke:#000000;stroke-width:2.0px;stroke-linecap:butt;stroke-linejoin:miter;stroke-opacity:1\"/>\n",
       "<path class=\"bond-29 atom-30 atom-31\" d=\"M 239.6,33.2 L 246.5,19.6\" style=\"fill:none;fill-rule:evenodd;stroke:#000000;stroke-width:2.0px;stroke-linecap:butt;stroke-linejoin:miter;stroke-opacity:1\"/>\n",
       "<path class=\"bond-30 atom-31 atom-32\" d=\"M 246.5,19.6 L 238.3,6.8\" style=\"fill:none;fill-rule:evenodd;stroke:#000000;stroke-width:2.0px;stroke-linecap:butt;stroke-linejoin:miter;stroke-opacity:1\"/>\n",
       "<path class=\"bond-31 atom-19 atom-24\" d=\"M 220.0,100.2 L 227.0,86.7\" style=\"fill:none;fill-rule:evenodd;stroke:#000000;stroke-width:2.0px;stroke-linecap:butt;stroke-linejoin:miter;stroke-opacity:1\"/>\n",
       "<path class=\"bond-32 atom-33 atom-34\" d=\"M 218.7,73.9 L 203.5,74.6\" style=\"fill:none;fill-rule:evenodd;stroke:#000000;stroke-width:2.0px;stroke-linecap:butt;stroke-linejoin:miter;stroke-opacity:1\"/>\n",
       "<path class=\"bond-33 atom-34 atom-35\" d=\"M 203.5,74.6 L 195.2,61.8\" style=\"fill:none;fill-rule:evenodd;stroke:#000000;stroke-width:2.0px;stroke-linecap:butt;stroke-linejoin:miter;stroke-opacity:1\"/>\n",
       "<path class=\"bond-34 atom-35 atom-36\" d=\"M 195.9,62.9 L 198.8,57.2\" style=\"fill:none;fill-rule:evenodd;stroke:#000000;stroke-width:2.0px;stroke-linecap:butt;stroke-linejoin:miter;stroke-opacity:1\"/>\n",
       "<path class=\"bond-34 atom-35 atom-36\" d=\"M 198.8,57.2 L 201.8,51.5\" style=\"fill:none;fill-rule:evenodd;stroke:#FF0000;stroke-width:2.0px;stroke-linecap:butt;stroke-linejoin:miter;stroke-opacity:1\"/>\n",
       "<path class=\"bond-34 atom-35 atom-36\" d=\"M 193.9,61.9 L 196.8,56.2\" style=\"fill:none;fill-rule:evenodd;stroke:#000000;stroke-width:2.0px;stroke-linecap:butt;stroke-linejoin:miter;stroke-opacity:1\"/>\n",
       "<path class=\"bond-34 atom-35 atom-36\" d=\"M 196.8,56.2 L 199.7,50.5\" style=\"fill:none;fill-rule:evenodd;stroke:#FF0000;stroke-width:2.0px;stroke-linecap:butt;stroke-linejoin:miter;stroke-opacity:1\"/>\n",
       "<path class=\"bond-35 atom-35 atom-37\" d=\"M 195.2,61.8 L 188.8,62.1\" style=\"fill:none;fill-rule:evenodd;stroke:#000000;stroke-width:2.0px;stroke-linecap:butt;stroke-linejoin:miter;stroke-opacity:1\"/>\n",
       "<path class=\"bond-35 atom-35 atom-37\" d=\"M 188.8,62.1 L 182.5,62.4\" style=\"fill:none;fill-rule:evenodd;stroke:#FF0000;stroke-width:2.0px;stroke-linecap:butt;stroke-linejoin:miter;stroke-opacity:1\"/>\n",
       "<path class=\"bond-36 atom-37 atom-38\" d=\"M 178.2,59.9 L 175.0,54.8\" style=\"fill:none;fill-rule:evenodd;stroke:#FF0000;stroke-width:2.0px;stroke-linecap:butt;stroke-linejoin:miter;stroke-opacity:1\"/>\n",
       "<path class=\"bond-36 atom-37 atom-38\" d=\"M 175.0,54.8 L 171.7,49.8\" style=\"fill:none;fill-rule:evenodd;stroke:#000000;stroke-width:2.0px;stroke-linecap:butt;stroke-linejoin:miter;stroke-opacity:1\"/>\n",
       "<path class=\"bond-37 atom-38 atom-39\" d=\"M 171.7,49.8 L 156.5,50.5\" style=\"fill:none;fill-rule:evenodd;stroke:#000000;stroke-width:2.0px;stroke-linecap:butt;stroke-linejoin:miter;stroke-opacity:1\"/>\n",
       "<path class=\"bond-38 atom-39 atom-40\" d=\"M 156.5,50.5 L 148.2,37.7\" style=\"fill:none;fill-rule:evenodd;stroke:#000000;stroke-width:2.0px;stroke-linecap:butt;stroke-linejoin:miter;stroke-opacity:1\"/>\n",
       "<path class=\"bond-39 atom-40 atom-41\" d=\"M 148.2,37.7 L 133.0,38.5\" style=\"fill:none;fill-rule:evenodd;stroke:#000000;stroke-width:2.0px;stroke-linecap:butt;stroke-linejoin:miter;stroke-opacity:1\"/>\n",
       "<path class=\"bond-40 atom-24 atom-33\" d=\"M 227.0,86.7 L 218.7,73.9\" style=\"fill:none;fill-rule:evenodd;stroke:#000000;stroke-width:2.0px;stroke-linecap:butt;stroke-linejoin:miter;stroke-opacity:1\"/>\n",
       "<path class=\"bond-41 atom-33 atom-42\" d=\"M 218.7,73.9 L 224.3,63.0\" style=\"fill:none;fill-rule:evenodd;stroke:#000000;stroke-width:2.0px;stroke-linecap:butt;stroke-linejoin:miter;stroke-opacity:1\"/>\n",
       "<path d=\"M 250.1,99.4 L 250.4,98.7 L 251.2,98.7\" style=\"fill:none;stroke:#000000;stroke-width:2.0px;stroke-linecap:butt;stroke-linejoin:miter;stroke-opacity:1;\"/>\n",
       "<path d=\"M 264.9,98.0 L 265.7,98.0 L 265.8,97.7\" style=\"fill:none;stroke:#000000;stroke-width:2.0px;stroke-linecap:butt;stroke-linejoin:miter;stroke-opacity:1;\"/>\n",
       "<path d=\"M 287.5,83.7 L 287.9,83.7 L 288.2,83.0\" style=\"fill:none;stroke:#000000;stroke-width:2.0px;stroke-linecap:butt;stroke-linejoin:miter;stroke-opacity:1;\"/>\n",
       "<path d=\"M 294.5,70.8 L 294.8,70.1 L 295.6,70.1\" style=\"fill:none;stroke:#000000;stroke-width:2.0px;stroke-linecap:butt;stroke-linejoin:miter;stroke-opacity:1;\"/>\n",
       "<path d=\"M 309.3,69.4 L 310.0,69.4 L 310.4,68.7\" style=\"fill:none;stroke:#000000;stroke-width:2.0px;stroke-linecap:butt;stroke-linejoin:miter;stroke-opacity:1;\"/>\n",
       "<path d=\"M 221.6,125.9 L 221.3,126.6 L 220.5,126.7\" style=\"fill:none;stroke:#000000;stroke-width:2.0px;stroke-linecap:butt;stroke-linejoin:miter;stroke-opacity:1;\"/>\n",
       "<path d=\"M 206.8,127.3 L 206.1,127.4 L 205.9,127.1\" style=\"fill:none;stroke:#000000;stroke-width:2.0px;stroke-linecap:butt;stroke-linejoin:miter;stroke-opacity:1;\"/>\n",
       "<path d=\"M 182.9,115.3 L 182.6,115.3 L 182.2,114.7\" style=\"fill:none;stroke:#000000;stroke-width:2.0px;stroke-linecap:butt;stroke-linejoin:miter;stroke-opacity:1;\"/>\n",
       "<path d=\"M 174.7,103.1 L 174.3,102.5 L 173.6,102.5\" style=\"fill:none;stroke:#000000;stroke-width:2.0px;stroke-linecap:butt;stroke-linejoin:miter;stroke-opacity:1;\"/>\n",
       "<path d=\"M 159.9,103.2 L 159.1,103.3 L 158.7,102.6\" style=\"fill:none;stroke:#000000;stroke-width:2.0px;stroke-linecap:butt;stroke-linejoin:miter;stroke-opacity:1;\"/>\n",
       "<path d=\"M 205.5,101.0 L 204.8,101.0 L 204.4,100.4\" style=\"fill:none;stroke:#000000;stroke-width:2.0px;stroke-linecap:butt;stroke-linejoin:miter;stroke-opacity:1;\"/>\n",
       "<path d=\"M 196.9,88.8 L 196.5,88.2 L 196.2,88.2\" style=\"fill:none;stroke:#000000;stroke-width:2.0px;stroke-linecap:butt;stroke-linejoin:miter;stroke-opacity:1;\"/>\n",
       "<path d=\"M 241.4,86.0 L 242.2,85.9 L 242.5,85.3\" style=\"fill:none;stroke:#000000;stroke-width:2.0px;stroke-linecap:butt;stroke-linejoin:miter;stroke-opacity:1;\"/>\n",
       "<path d=\"M 248.8,73.0 L 249.1,72.4 L 249.0,72.1\" style=\"fill:none;stroke:#000000;stroke-width:2.0px;stroke-linecap:butt;stroke-linejoin:miter;stroke-opacity:1;\"/>\n",
       "<path d=\"M 247.7,46.3 L 247.8,46.0 L 247.4,45.4\" style=\"fill:none;stroke:#000000;stroke-width:2.0px;stroke-linecap:butt;stroke-linejoin:miter;stroke-opacity:1;\"/>\n",
       "<path d=\"M 240.0,33.8 L 239.6,33.2 L 239.9,32.5\" style=\"fill:none;stroke:#000000;stroke-width:2.0px;stroke-linecap:butt;stroke-linejoin:miter;stroke-opacity:1;\"/>\n",
       "<path d=\"M 246.2,20.3 L 246.5,19.6 L 246.1,19.0\" style=\"fill:none;stroke:#000000;stroke-width:2.0px;stroke-linecap:butt;stroke-linejoin:miter;stroke-opacity:1;\"/>\n",
       "<path d=\"M 204.2,74.6 L 203.5,74.6 L 203.1,74.0\" style=\"fill:none;stroke:#000000;stroke-width:2.0px;stroke-linecap:butt;stroke-linejoin:miter;stroke-opacity:1;\"/>\n",
       "<path d=\"M 195.6,62.5 L 195.2,61.8 L 194.9,61.8\" style=\"fill:none;stroke:#000000;stroke-width:2.0px;stroke-linecap:butt;stroke-linejoin:miter;stroke-opacity:1;\"/>\n",
       "<path d=\"M 171.9,50.0 L 171.7,49.8 L 170.9,49.8\" style=\"fill:none;stroke:#000000;stroke-width:2.0px;stroke-linecap:butt;stroke-linejoin:miter;stroke-opacity:1;\"/>\n",
       "<path d=\"M 157.2,50.5 L 156.5,50.5 L 156.1,49.9\" style=\"fill:none;stroke:#000000;stroke-width:2.0px;stroke-linecap:butt;stroke-linejoin:miter;stroke-opacity:1;\"/>\n",
       "<path d=\"M 148.6,38.3 L 148.2,37.7 L 147.5,37.7\" style=\"fill:none;stroke:#000000;stroke-width:2.0px;stroke-linecap:butt;stroke-linejoin:miter;stroke-opacity:1;\"/>\n",
       "<path class=\"atom-0\" d=\"M 250.1 123.0 L 250.6 123.0 L 250.6 124.8 L 252.9 124.8 L 252.9 123.0 L 253.4 123.0 L 253.4 127.3 L 252.9 127.3 L 252.9 125.3 L 250.6 125.3 L 250.6 127.3 L 250.1 127.3 L 250.1 123.0 \" fill=\"#000000\"/>\n",
       "<path class=\"atom-4\" d=\"M 272.0 110.8 Q 272.0 109.8, 272.5 109.2 Q 273.0 108.6, 273.9 108.6 Q 274.9 108.6, 275.4 109.2 Q 275.9 109.8, 275.9 110.8 Q 275.9 111.9, 275.4 112.5 Q 274.9 113.0, 273.9 113.0 Q 273.0 113.0, 272.5 112.5 Q 272.0 111.9, 272.0 110.8 M 273.9 112.6 Q 274.6 112.6, 274.9 112.1 Q 275.3 111.7, 275.3 110.8 Q 275.3 110.0, 274.9 109.5 Q 274.6 109.1, 273.9 109.1 Q 273.3 109.1, 272.9 109.5 Q 272.6 110.0, 272.6 110.8 Q 272.6 111.7, 272.9 112.1 Q 273.3 112.6, 273.9 112.6 \" fill=\"#FF0000\"/>\n",
       "<path class=\"atom-5\" d=\"M 270.6 84.4 Q 270.6 83.4, 271.2 82.8 Q 271.7 82.2, 272.6 82.2 Q 273.6 82.2, 274.1 82.8 Q 274.6 83.4, 274.6 84.4 Q 274.6 85.5, 274.1 86.1 Q 273.6 86.7, 272.6 86.7 Q 271.7 86.7, 271.2 86.1 Q 270.6 85.5, 270.6 84.4 M 272.6 86.2 Q 273.3 86.2, 273.6 85.8 Q 274.0 85.3, 274.0 84.4 Q 274.0 83.6, 273.6 83.2 Q 273.3 82.7, 272.6 82.7 Q 272.0 82.7, 271.6 83.2 Q 271.3 83.6, 271.3 84.4 Q 271.3 85.3, 271.6 85.8 Q 272.0 86.2, 272.6 86.2 \" fill=\"#FF0000\"/>\n",
       "<path class=\"atom-13\" d=\"M 197.1 140.9 Q 197.1 139.9, 197.6 139.3 Q 198.2 138.7, 199.1 138.7 Q 200.1 138.7, 200.6 139.3 Q 201.1 139.9, 201.1 140.9 Q 201.1 142.0, 200.6 142.6 Q 200.1 143.2, 199.1 143.2 Q 198.2 143.2, 197.6 142.6 Q 197.1 142.0, 197.1 140.9 M 199.1 142.7 Q 199.8 142.7, 200.1 142.3 Q 200.5 141.8, 200.5 140.9 Q 200.5 140.1, 200.1 139.7 Q 199.8 139.2, 199.1 139.2 Q 198.5 139.2, 198.1 139.7 Q 197.7 140.1, 197.7 140.9 Q 197.7 141.8, 198.1 142.3 Q 198.5 142.7, 199.1 142.7 \" fill=\"#FF0000\"/>\n",
       "<path class=\"atom-14\" d=\"M 195.8 114.6 Q 195.8 113.5, 196.3 113.0 Q 196.8 112.4, 197.8 112.4 Q 198.8 112.4, 199.3 113.0 Q 199.8 113.5, 199.8 114.6 Q 199.8 115.6, 199.3 116.2 Q 198.8 116.8, 197.8 116.8 Q 196.9 116.8, 196.3 116.2 Q 195.8 115.6, 195.8 114.6 M 197.8 116.3 Q 198.5 116.3, 198.8 115.9 Q 199.2 115.4, 199.2 114.6 Q 199.2 113.7, 198.8 113.3 Q 198.5 112.9, 197.8 112.9 Q 197.1 112.9, 196.8 113.3 Q 196.4 113.7, 196.4 114.6 Q 196.4 115.4, 196.8 115.9 Q 197.1 116.3, 197.8 116.3 \" fill=\"#FF0000\"/>\n",
       "<path class=\"atom-22\" d=\"M 196.4 80.3 Q 196.4 79.3, 196.9 78.7 Q 197.4 78.1, 198.3 78.1 Q 199.3 78.1, 199.8 78.7 Q 200.3 79.3, 200.3 80.3 Q 200.3 81.4, 199.8 82.0 Q 199.3 82.6, 198.3 82.6 Q 197.4 82.6, 196.9 82.0 Q 196.4 81.4, 196.4 80.3 M 198.3 82.1 Q 199.0 82.1, 199.4 81.6 Q 199.7 81.2, 199.7 80.3 Q 199.7 79.5, 199.4 79.0 Q 199.0 78.6, 198.3 78.6 Q 197.7 78.6, 197.3 79.0 Q 197.0 79.5, 197.0 80.3 Q 197.0 81.2, 197.3 81.6 Q 197.7 82.1, 198.3 82.1 \" fill=\"#FF0000\"/>\n",
       "<path class=\"atom-23\" d=\"M 172.9 86.8 L 173.5 86.8 L 173.5 88.6 L 175.7 88.6 L 175.7 86.8 L 176.3 86.8 L 176.3 91.1 L 175.7 91.1 L 175.7 89.1 L 173.5 89.1 L 173.5 91.1 L 172.9 91.1 L 172.9 86.8 \" fill=\"#0000FF\"/>\n",
       "<path class=\"atom-23\" d=\"M 177.2 90.9 Q 177.3 90.7, 177.5 90.5 Q 177.8 90.4, 178.1 90.4 Q 178.5 90.4, 178.8 90.6 Q 179.0 90.8, 179.0 91.3 Q 179.0 91.7, 178.7 92.1 Q 178.4 92.5, 177.8 92.9 L 179.1 92.9 L 179.1 93.3 L 177.2 93.3 L 177.2 93.0 Q 177.7 92.6, 178.0 92.3 Q 178.3 92.0, 178.5 91.8 Q 178.6 91.5, 178.6 91.3 Q 178.6 91.0, 178.5 90.9 Q 178.4 90.7, 178.1 90.7 Q 177.9 90.7, 177.7 90.8 Q 177.6 90.9, 177.5 91.1 L 177.2 90.9 \" fill=\"#0000FF\"/>\n",
       "<path class=\"atom-23\" d=\"M 180.3 86.8 L 181.7 89.1 Q 181.9 89.3, 182.1 89.7 Q 182.3 90.1, 182.3 90.1 L 182.3 86.8 L 182.9 86.8 L 182.9 91.1 L 182.3 91.1 L 180.8 88.6 Q 180.6 88.3, 180.4 88.0 Q 180.3 87.6, 180.2 87.5 L 180.2 91.1 L 179.6 91.1 L 179.6 86.8 L 180.3 86.8 \" fill=\"#0000FF\"/>\n",
       "<path class=\"atom-27\" d=\"M 262.4 71.6 Q 262.4 70.6, 262.9 70.0 Q 263.4 69.4, 264.4 69.4 Q 265.3 69.4, 265.8 70.0 Q 266.3 70.6, 266.3 71.6 Q 266.3 72.7, 265.8 73.3 Q 265.3 73.9, 264.4 73.9 Q 263.4 73.9, 262.9 73.3 Q 262.4 72.7, 262.4 71.6 M 264.4 73.4 Q 265.0 73.4, 265.4 72.9 Q 265.7 72.5, 265.7 71.6 Q 265.7 70.8, 265.4 70.4 Q 265.0 69.9, 264.4 69.9 Q 263.7 69.9, 263.3 70.4 Q 263.0 70.8, 263.0 71.6 Q 263.0 72.5, 263.3 72.9 Q 263.7 73.4, 264.4 73.4 \" fill=\"#FF0000\"/>\n",
       "<path class=\"atom-28\" d=\"M 238.9 59.6 Q 238.9 58.5, 239.4 58.0 Q 239.9 57.4, 240.9 57.4 Q 241.8 57.4, 242.3 58.0 Q 242.9 58.5, 242.9 59.6 Q 242.9 60.6, 242.3 61.2 Q 241.8 61.8, 240.9 61.8 Q 239.9 61.8, 239.4 61.2 Q 238.9 60.6, 238.9 59.6 M 240.9 61.3 Q 241.5 61.3, 241.9 60.9 Q 242.2 60.4, 242.2 59.6 Q 242.2 58.7, 241.9 58.3 Q 241.5 57.9, 240.9 57.9 Q 240.2 57.9, 239.9 58.3 Q 239.5 58.7, 239.5 59.6 Q 239.5 60.4, 239.9 60.9 Q 240.2 61.3, 240.9 61.3 \" fill=\"#FF0000\"/>\n",
       "<path class=\"atom-36\" d=\"M 200.2 48.3 Q 200.2 47.2, 200.7 46.7 Q 201.2 46.1, 202.2 46.1 Q 203.1 46.1, 203.6 46.7 Q 204.1 47.2, 204.1 48.3 Q 204.1 49.3, 203.6 49.9 Q 203.1 50.5, 202.2 50.5 Q 201.2 50.5, 200.7 49.9 Q 200.2 49.3, 200.2 48.3 M 202.2 50.0 Q 202.8 50.0, 203.2 49.6 Q 203.5 49.1, 203.5 48.3 Q 203.5 47.4, 203.2 47.0 Q 202.8 46.6, 202.2 46.6 Q 201.5 46.6, 201.1 47.0 Q 200.8 47.4, 200.8 48.3 Q 200.8 49.1, 201.1 49.6 Q 201.5 50.0, 202.2 50.0 \" fill=\"#FF0000\"/>\n",
       "<path class=\"atom-37\" d=\"M 178.0 62.6 Q 178.0 61.5, 178.5 61.0 Q 179.0 60.4, 180.0 60.4 Q 180.9 60.4, 181.4 61.0 Q 182.0 61.5, 182.0 62.6 Q 182.0 63.6, 181.4 64.2 Q 180.9 64.8, 180.0 64.8 Q 179.0 64.8, 178.5 64.2 Q 178.0 63.6, 178.0 62.6 M 180.0 64.3 Q 180.6 64.3, 181.0 63.9 Q 181.3 63.4, 181.3 62.6 Q 181.3 61.7, 181.0 61.3 Q 180.6 60.9, 180.0 60.9 Q 179.3 60.9, 179.0 61.3 Q 178.6 61.7, 178.6 62.6 Q 178.6 63.5, 179.0 63.9 Q 179.3 64.3, 180.0 64.3 \" fill=\"#FF0000\"/>\n",
       "<path class=\"atom-42\" d=\"M 224.0 58.2 L 224.5 58.2 L 224.5 60.0 L 226.8 60.0 L 226.8 58.2 L 227.3 58.2 L 227.3 62.5 L 226.8 62.5 L 226.8 60.5 L 224.5 60.5 L 224.5 62.5 L 224.0 62.5 L 224.0 58.2 \" fill=\"#000000\"/>\n",
       "<path class=\"atom-0\" d=\"M 254.7,125.1 L 254.7,125.1 L 254.7,125.2 L 254.6,125.2 L 254.6,125.2 L 254.6,125.2 L 254.6,125.3 L 254.6,125.3 L 254.6,125.3 L 254.6,125.3 L 254.5,125.3 L 254.5,125.4 L 254.5,125.4 L 254.5,125.4 L 254.5,125.4 L 254.4,125.4 L 254.4,125.4 L 254.4,125.4 L 254.4,125.4 L 254.3,125.4 L 254.3,125.4 L 254.3,125.4 L 254.3,125.4 L 254.2,125.4 L 254.2,125.4 L 254.2,125.4 L 254.2,125.4 L 254.1,125.3 L 254.1,125.3 L 254.1,125.3 L 254.1,125.3 L 254.1,125.3 L 254.1,125.2 L 254.1,125.2 L 254.1,125.2 L 254.0,125.2 L 254.0,125.1 L 254.0,125.1 L 254.0,125.1 L 254.1,125.0 L 254.1,125.0 L 254.1,125.0 L 254.1,125.0 L 254.1,125.0 L 254.1,124.9 L 254.1,124.9 L 254.1,124.9 L 254.2,124.9 L 254.2,124.9 L 254.2,124.8 L 254.2,124.8 L 254.3,124.8 L 254.3,124.8 L 254.3,124.8 L 254.3,124.8 L 254.4,124.8 L 254.4,124.8 L 254.4,124.8 L 254.4,124.8 L 254.5,124.8 L 254.5,124.8 L 254.5,124.9 L 254.5,124.9 L 254.5,124.9 L 254.6,124.9 L 254.6,124.9 L 254.6,124.9 L 254.6,125.0 L 254.6,125.0 L 254.6,125.0 L 254.6,125.0 L 254.7,125.1 L 254.7,125.1 L 254.7,125.1 L 254.4,125.1 Z\" style=\"fill:#000000;fill-rule:evenodd;fill-opacity:1;stroke:#000000;stroke-width:0.0px;stroke-linecap:butt;stroke-linejoin:miter;stroke-opacity:1;\"/>\n",
       "<path class=\"atom-42\" d=\"M 228.6,60.3 L 228.6,60.3 L 228.6,60.4 L 228.5,60.4 L 228.5,60.4 L 228.5,60.4 L 228.5,60.5 L 228.5,60.5 L 228.5,60.5 L 228.5,60.5 L 228.5,60.5 L 228.4,60.6 L 228.4,60.6 L 228.4,60.6 L 228.4,60.6 L 228.3,60.6 L 228.3,60.6 L 228.3,60.6 L 228.3,60.6 L 228.2,60.6 L 228.2,60.6 L 228.2,60.6 L 228.2,60.6 L 228.1,60.6 L 228.1,60.6 L 228.1,60.6 L 228.1,60.6 L 228.0,60.5 L 228.0,60.5 L 228.0,60.5 L 228.0,60.5 L 228.0,60.5 L 228.0,60.4 L 228.0,60.4 L 228.0,60.4 L 228.0,60.4 L 228.0,60.3 L 228.0,60.3 L 228.0,60.3 L 228.0,60.2 L 228.0,60.2 L 228.0,60.2 L 228.0,60.2 L 228.0,60.2 L 228.0,60.1 L 228.0,60.1 L 228.0,60.1 L 228.1,60.1 L 228.1,60.1 L 228.1,60.0 L 228.1,60.0 L 228.2,60.0 L 228.2,60.0 L 228.2,60.0 L 228.2,60.0 L 228.3,60.0 L 228.3,60.0 L 228.3,60.0 L 228.3,60.0 L 228.4,60.0 L 228.4,60.0 L 228.4,60.1 L 228.4,60.1 L 228.5,60.1 L 228.5,60.1 L 228.5,60.1 L 228.5,60.1 L 228.5,60.2 L 228.5,60.2 L 228.5,60.2 L 228.5,60.2 L 228.6,60.3 L 228.6,60.3 L 228.6,60.3 L 228.3,60.3 Z\" style=\"fill:#000000;fill-rule:evenodd;fill-opacity:1;stroke:#000000;stroke-width:0.0px;stroke-linecap:butt;stroke-linejoin:miter;stroke-opacity:1;\"/>\n",
       "</svg>"
      ],
      "text/plain": [
       "<IPython.core.display.SVG object>"
      ]
     },
     "execution_count": 41,
     "metadata": {},
     "output_type": "execute_result"
    }
   ],
   "source": [
    "big_smiles_gen(big)"
   ]
  },
  {
   "cell_type": "code",
   "execution_count": 42,
   "id": "51286716",
   "metadata": {},
   "outputs": [
    {
     "name": "stdout",
     "output_type": "stream",
     "text": [
      "[H]C(CC(N)=O)C(CC(=O)OCCCC)C(CC(N)=O)C(CC(=O)OCCCC)C(CC(=O)OCCCC)C([H])CC(N)=O\n",
      "0.4761825245684791\n",
      "22\n"
     ]
    },
    {
     "data": {
      "image/svg+xml": [
       "<svg xmlns=\"http://www.w3.org/2000/svg\" xmlns:rdkit=\"http://www.rdkit.org/xml\" xmlns:xlink=\"http://www.w3.org/1999/xlink\" version=\"1.1\" baseProfile=\"full\" xml:space=\"preserve\" width=\"450px\" height=\"150px\" viewBox=\"0 0 450 150\">\n",
       "<!-- END OF HEADER -->\n",
       "<rect style=\"opacity:1.0;fill:#FFFFFF;stroke:none\" width=\"450.0\" height=\"150.0\" x=\"0.0\" y=\"0.0\"> </rect>\n",
       "<path class=\"bond-0 atom-1 atom-2\" d=\"M 237.2,55.3 L 221.7,42.4\" style=\"fill:none;fill-rule:evenodd;stroke:#000000;stroke-width:2.0px;stroke-linecap:butt;stroke-linejoin:miter;stroke-opacity:1\"/>\n",
       "<path class=\"bond-1 atom-2 atom-3\" d=\"M 221.7,42.4 L 225.2,22.6\" style=\"fill:none;fill-rule:evenodd;stroke:#000000;stroke-width:2.0px;stroke-linecap:butt;stroke-linejoin:miter;stroke-opacity:1\"/>\n",
       "<path class=\"bond-2 atom-3 atom-4\" d=\"M 224.9,24.3 L 233.1,21.3\" style=\"fill:none;fill-rule:evenodd;stroke:#000000;stroke-width:2.0px;stroke-linecap:butt;stroke-linejoin:miter;stroke-opacity:1\"/>\n",
       "<path class=\"bond-2 atom-3 atom-4\" d=\"M 233.1,21.3 L 241.4,18.3\" style=\"fill:none;fill-rule:evenodd;stroke:#FF0000;stroke-width:2.0px;stroke-linecap:butt;stroke-linejoin:miter;stroke-opacity:1\"/>\n",
       "<path class=\"bond-2 atom-3 atom-4\" d=\"M 223.9,21.5 L 232.1,18.5\" style=\"fill:none;fill-rule:evenodd;stroke:#000000;stroke-width:2.0px;stroke-linecap:butt;stroke-linejoin:miter;stroke-opacity:1\"/>\n",
       "<path class=\"bond-2 atom-3 atom-4\" d=\"M 232.1,18.5 L 240.3,15.5\" style=\"fill:none;fill-rule:evenodd;stroke:#FF0000;stroke-width:2.0px;stroke-linecap:butt;stroke-linejoin:miter;stroke-opacity:1\"/>\n",
       "<path class=\"bond-3 atom-3 atom-5\" d=\"M 225.2,22.6 L 218.9,17.3\" style=\"fill:none;fill-rule:evenodd;stroke:#000000;stroke-width:2.0px;stroke-linecap:butt;stroke-linejoin:miter;stroke-opacity:1\"/>\n",
       "<path class=\"bond-3 atom-3 atom-5\" d=\"M 218.9,17.3 L 212.6,12.0\" style=\"fill:none;fill-rule:evenodd;stroke:#0000FF;stroke-width:2.0px;stroke-linecap:butt;stroke-linejoin:miter;stroke-opacity:1\"/>\n",
       "<path class=\"bond-4 atom-0 atom-1\" d=\"M 253.2,49.5 L 237.2,55.3\" style=\"fill:none;fill-rule:evenodd;stroke:#000000;stroke-width:2.0px;stroke-linecap:butt;stroke-linejoin:miter;stroke-opacity:1\"/>\n",
       "<path class=\"bond-5 atom-6 atom-7\" d=\"M 233.7,75.1 L 249.1,88.0\" style=\"fill:none;fill-rule:evenodd;stroke:#000000;stroke-width:2.0px;stroke-linecap:butt;stroke-linejoin:miter;stroke-opacity:1\"/>\n",
       "<path class=\"bond-6 atom-7 atom-8\" d=\"M 249.1,88.0 L 268.0,81.1\" style=\"fill:none;fill-rule:evenodd;stroke:#000000;stroke-width:2.0px;stroke-linecap:butt;stroke-linejoin:miter;stroke-opacity:1\"/>\n",
       "<path class=\"bond-7 atom-8 atom-9\" d=\"M 269.3,82.3 L 270.8,73.7\" style=\"fill:none;fill-rule:evenodd;stroke:#000000;stroke-width:2.0px;stroke-linecap:butt;stroke-linejoin:miter;stroke-opacity:1\"/>\n",
       "<path class=\"bond-7 atom-8 atom-9\" d=\"M 270.8,73.7 L 272.3,65.2\" style=\"fill:none;fill-rule:evenodd;stroke:#FF0000;stroke-width:2.0px;stroke-linecap:butt;stroke-linejoin:miter;stroke-opacity:1\"/>\n",
       "<path class=\"bond-7 atom-8 atom-9\" d=\"M 266.4,81.7 L 267.9,73.2\" style=\"fill:none;fill-rule:evenodd;stroke:#000000;stroke-width:2.0px;stroke-linecap:butt;stroke-linejoin:miter;stroke-opacity:1\"/>\n",
       "<path class=\"bond-7 atom-8 atom-9\" d=\"M 267.9,73.2 L 269.4,64.7\" style=\"fill:none;fill-rule:evenodd;stroke:#FF0000;stroke-width:2.0px;stroke-linecap:butt;stroke-linejoin:miter;stroke-opacity:1\"/>\n",
       "<path class=\"bond-8 atom-8 atom-10\" d=\"M 268.0,81.1 L 274.1,86.2\" style=\"fill:none;fill-rule:evenodd;stroke:#000000;stroke-width:2.0px;stroke-linecap:butt;stroke-linejoin:miter;stroke-opacity:1\"/>\n",
       "<path class=\"bond-8 atom-8 atom-10\" d=\"M 274.1,86.2 L 280.1,91.3\" style=\"fill:none;fill-rule:evenodd;stroke:#FF0000;stroke-width:2.0px;stroke-linecap:butt;stroke-linejoin:miter;stroke-opacity:1\"/>\n",
       "<path class=\"bond-9 atom-10 atom-11\" d=\"M 286.7,92.8 L 294.5,90.0\" style=\"fill:none;fill-rule:evenodd;stroke:#FF0000;stroke-width:2.0px;stroke-linecap:butt;stroke-linejoin:miter;stroke-opacity:1\"/>\n",
       "<path class=\"bond-9 atom-10 atom-11\" d=\"M 294.5,90.0 L 302.3,87.2\" style=\"fill:none;fill-rule:evenodd;stroke:#000000;stroke-width:2.0px;stroke-linecap:butt;stroke-linejoin:miter;stroke-opacity:1\"/>\n",
       "<path class=\"bond-10 atom-11 atom-12\" d=\"M 302.3,87.2 L 317.7,100.1\" style=\"fill:none;fill-rule:evenodd;stroke:#000000;stroke-width:2.0px;stroke-linecap:butt;stroke-linejoin:miter;stroke-opacity:1\"/>\n",
       "<path class=\"bond-11 atom-12 atom-13\" d=\"M 317.7,100.1 L 336.6,93.2\" style=\"fill:none;fill-rule:evenodd;stroke:#000000;stroke-width:2.0px;stroke-linecap:butt;stroke-linejoin:miter;stroke-opacity:1\"/>\n",
       "<path class=\"bond-12 atom-13 atom-14\" d=\"M 336.6,93.2 L 352.0,106.1\" style=\"fill:none;fill-rule:evenodd;stroke:#000000;stroke-width:2.0px;stroke-linecap:butt;stroke-linejoin:miter;stroke-opacity:1\"/>\n",
       "<path class=\"bond-13 atom-1 atom-6\" d=\"M 237.2,55.3 L 233.7,75.1\" style=\"fill:none;fill-rule:evenodd;stroke:#000000;stroke-width:2.0px;stroke-linecap:butt;stroke-linejoin:miter;stroke-opacity:1\"/>\n",
       "<path class=\"bond-14 atom-15 atom-16\" d=\"M 214.8,82.0 L 211.3,101.8\" style=\"fill:none;fill-rule:evenodd;stroke:#000000;stroke-width:2.0px;stroke-linecap:butt;stroke-linejoin:miter;stroke-opacity:1\"/>\n",
       "<path class=\"bond-15 atom-16 atom-17\" d=\"M 211.3,101.8 L 226.7,114.7\" style=\"fill:none;fill-rule:evenodd;stroke:#000000;stroke-width:2.0px;stroke-linecap:butt;stroke-linejoin:miter;stroke-opacity:1\"/>\n",
       "<path class=\"bond-16 atom-17 atom-18\" d=\"M 226.4,116.4 L 234.7,113.4\" style=\"fill:none;fill-rule:evenodd;stroke:#000000;stroke-width:2.0px;stroke-linecap:butt;stroke-linejoin:miter;stroke-opacity:1\"/>\n",
       "<path class=\"bond-16 atom-17 atom-18\" d=\"M 234.7,113.4 L 242.9,110.4\" style=\"fill:none;fill-rule:evenodd;stroke:#FF0000;stroke-width:2.0px;stroke-linecap:butt;stroke-linejoin:miter;stroke-opacity:1\"/>\n",
       "<path class=\"bond-16 atom-17 atom-18\" d=\"M 225.4,113.6 L 233.6,110.6\" style=\"fill:none;fill-rule:evenodd;stroke:#000000;stroke-width:2.0px;stroke-linecap:butt;stroke-linejoin:miter;stroke-opacity:1\"/>\n",
       "<path class=\"bond-16 atom-17 atom-18\" d=\"M 233.6,110.6 L 241.8,107.6\" style=\"fill:none;fill-rule:evenodd;stroke:#FF0000;stroke-width:2.0px;stroke-linecap:butt;stroke-linejoin:miter;stroke-opacity:1\"/>\n",
       "<path class=\"bond-17 atom-17 atom-19\" d=\"M 226.7,114.7 L 225.3,122.9\" style=\"fill:none;fill-rule:evenodd;stroke:#000000;stroke-width:2.0px;stroke-linecap:butt;stroke-linejoin:miter;stroke-opacity:1\"/>\n",
       "<path class=\"bond-17 atom-17 atom-19\" d=\"M 225.3,122.9 L 223.9,131.0\" style=\"fill:none;fill-rule:evenodd;stroke:#0000FF;stroke-width:2.0px;stroke-linecap:butt;stroke-linejoin:miter;stroke-opacity:1\"/>\n",
       "<path class=\"bond-18 atom-6 atom-15\" d=\"M 233.7,75.1 L 214.8,82.0\" style=\"fill:none;fill-rule:evenodd;stroke:#000000;stroke-width:2.0px;stroke-linecap:butt;stroke-linejoin:miter;stroke-opacity:1\"/>\n",
       "<path class=\"bond-19 atom-20 atom-21\" d=\"M 199.4,69.1 L 202.9,49.3\" style=\"fill:none;fill-rule:evenodd;stroke:#000000;stroke-width:2.0px;stroke-linecap:butt;stroke-linejoin:miter;stroke-opacity:1\"/>\n",
       "<path class=\"bond-20 atom-21 atom-22\" d=\"M 202.9,49.3 L 187.4,36.4\" style=\"fill:none;fill-rule:evenodd;stroke:#000000;stroke-width:2.0px;stroke-linecap:butt;stroke-linejoin:miter;stroke-opacity:1\"/>\n",
       "<path class=\"bond-21 atom-22 atom-23\" d=\"M 188.8,37.5 L 190.3,29.0\" style=\"fill:none;fill-rule:evenodd;stroke:#000000;stroke-width:2.0px;stroke-linecap:butt;stroke-linejoin:miter;stroke-opacity:1\"/>\n",
       "<path class=\"bond-21 atom-22 atom-23\" d=\"M 190.3,29.0 L 191.8,20.5\" style=\"fill:none;fill-rule:evenodd;stroke:#FF0000;stroke-width:2.0px;stroke-linecap:butt;stroke-linejoin:miter;stroke-opacity:1\"/>\n",
       "<path class=\"bond-21 atom-22 atom-23\" d=\"M 185.8,37.0 L 187.3,28.4\" style=\"fill:none;fill-rule:evenodd;stroke:#000000;stroke-width:2.0px;stroke-linecap:butt;stroke-linejoin:miter;stroke-opacity:1\"/>\n",
       "<path class=\"bond-21 atom-22 atom-23\" d=\"M 187.3,28.4 L 188.8,19.9\" style=\"fill:none;fill-rule:evenodd;stroke:#FF0000;stroke-width:2.0px;stroke-linecap:butt;stroke-linejoin:miter;stroke-opacity:1\"/>\n",
       "<path class=\"bond-22 atom-22 atom-24\" d=\"M 187.4,36.4 L 179.6,39.2\" style=\"fill:none;fill-rule:evenodd;stroke:#000000;stroke-width:2.0px;stroke-linecap:butt;stroke-linejoin:miter;stroke-opacity:1\"/>\n",
       "<path class=\"bond-22 atom-22 atom-24\" d=\"M 179.6,39.2 L 171.8,42.1\" style=\"fill:none;fill-rule:evenodd;stroke:#FF0000;stroke-width:2.0px;stroke-linecap:butt;stroke-linejoin:miter;stroke-opacity:1\"/>\n",
       "<path class=\"bond-23 atom-24 atom-25\" d=\"M 165.3,40.5 L 159.2,35.4\" style=\"fill:none;fill-rule:evenodd;stroke:#FF0000;stroke-width:2.0px;stroke-linecap:butt;stroke-linejoin:miter;stroke-opacity:1\"/>\n",
       "<path class=\"bond-23 atom-24 atom-25\" d=\"M 159.2,35.4 L 153.1,30.3\" style=\"fill:none;fill-rule:evenodd;stroke:#000000;stroke-width:2.0px;stroke-linecap:butt;stroke-linejoin:miter;stroke-opacity:1\"/>\n",
       "<path class=\"bond-24 atom-25 atom-26\" d=\"M 153.1,30.3 L 134.2,37.2\" style=\"fill:none;fill-rule:evenodd;stroke:#000000;stroke-width:2.0px;stroke-linecap:butt;stroke-linejoin:miter;stroke-opacity:1\"/>\n",
       "<path class=\"bond-25 atom-26 atom-27\" d=\"M 134.2,37.2 L 118.8,24.3\" style=\"fill:none;fill-rule:evenodd;stroke:#000000;stroke-width:2.0px;stroke-linecap:butt;stroke-linejoin:miter;stroke-opacity:1\"/>\n",
       "<path class=\"bond-26 atom-27 atom-28\" d=\"M 118.8,24.3 L 99.9,31.2\" style=\"fill:none;fill-rule:evenodd;stroke:#000000;stroke-width:2.0px;stroke-linecap:butt;stroke-linejoin:miter;stroke-opacity:1\"/>\n",
       "<path class=\"bond-27 atom-15 atom-20\" d=\"M 214.8,82.0 L 199.4,69.1\" style=\"fill:none;fill-rule:evenodd;stroke:#000000;stroke-width:2.0px;stroke-linecap:butt;stroke-linejoin:miter;stroke-opacity:1\"/>\n",
       "<path class=\"bond-28 atom-29 atom-30\" d=\"M 180.5,76.0 L 165.1,63.1\" style=\"fill:none;fill-rule:evenodd;stroke:#000000;stroke-width:2.0px;stroke-linecap:butt;stroke-linejoin:miter;stroke-opacity:1\"/>\n",
       "<path class=\"bond-29 atom-30 atom-31\" d=\"M 165.1,63.1 L 146.2,70.0\" style=\"fill:none;fill-rule:evenodd;stroke:#000000;stroke-width:2.0px;stroke-linecap:butt;stroke-linejoin:miter;stroke-opacity:1\"/>\n",
       "<path class=\"bond-30 atom-31 atom-32\" d=\"M 147.8,69.4 L 141.4,64.0\" style=\"fill:none;fill-rule:evenodd;stroke:#000000;stroke-width:2.0px;stroke-linecap:butt;stroke-linejoin:miter;stroke-opacity:1\"/>\n",
       "<path class=\"bond-30 atom-31 atom-32\" d=\"M 141.4,64.0 L 135.0,58.6\" style=\"fill:none;fill-rule:evenodd;stroke:#FF0000;stroke-width:2.0px;stroke-linecap:butt;stroke-linejoin:miter;stroke-opacity:1\"/>\n",
       "<path class=\"bond-30 atom-31 atom-32\" d=\"M 145.9,71.7 L 139.5,66.3\" style=\"fill:none;fill-rule:evenodd;stroke:#000000;stroke-width:2.0px;stroke-linecap:butt;stroke-linejoin:miter;stroke-opacity:1\"/>\n",
       "<path class=\"bond-30 atom-31 atom-32\" d=\"M 139.5,66.3 L 133.1,61.0\" style=\"fill:none;fill-rule:evenodd;stroke:#FF0000;stroke-width:2.0px;stroke-linecap:butt;stroke-linejoin:miter;stroke-opacity:1\"/>\n",
       "<path class=\"bond-31 atom-31 atom-33\" d=\"M 146.2,70.0 L 144.7,78.1\" style=\"fill:none;fill-rule:evenodd;stroke:#000000;stroke-width:2.0px;stroke-linecap:butt;stroke-linejoin:miter;stroke-opacity:1\"/>\n",
       "<path class=\"bond-31 atom-31 atom-33\" d=\"M 144.7,78.1 L 143.3,86.2\" style=\"fill:none;fill-rule:evenodd;stroke:#FF0000;stroke-width:2.0px;stroke-linecap:butt;stroke-linejoin:miter;stroke-opacity:1\"/>\n",
       "<path class=\"bond-32 atom-33 atom-34\" d=\"M 139.4,91.0 L 131.6,93.8\" style=\"fill:none;fill-rule:evenodd;stroke:#FF0000;stroke-width:2.0px;stroke-linecap:butt;stroke-linejoin:miter;stroke-opacity:1\"/>\n",
       "<path class=\"bond-32 atom-33 atom-34\" d=\"M 131.6,93.8 L 123.8,96.7\" style=\"fill:none;fill-rule:evenodd;stroke:#000000;stroke-width:2.0px;stroke-linecap:butt;stroke-linejoin:miter;stroke-opacity:1\"/>\n",
       "<path class=\"bond-33 atom-34 atom-35\" d=\"M 123.8,96.7 L 120.3,116.5\" style=\"fill:none;fill-rule:evenodd;stroke:#000000;stroke-width:2.0px;stroke-linecap:butt;stroke-linejoin:miter;stroke-opacity:1\"/>\n",
       "<path class=\"bond-34 atom-35 atom-36\" d=\"M 120.3,116.5 L 101.4,123.4\" style=\"fill:none;fill-rule:evenodd;stroke:#000000;stroke-width:2.0px;stroke-linecap:butt;stroke-linejoin:miter;stroke-opacity:1\"/>\n",
       "<path class=\"bond-35 atom-36 atom-37\" d=\"M 101.4,123.4 L 98.0,143.2\" style=\"fill:none;fill-rule:evenodd;stroke:#000000;stroke-width:2.0px;stroke-linecap:butt;stroke-linejoin:miter;stroke-opacity:1\"/>\n",
       "<path class=\"bond-36 atom-20 atom-29\" d=\"M 199.4,69.1 L 180.5,76.0\" style=\"fill:none;fill-rule:evenodd;stroke:#000000;stroke-width:2.0px;stroke-linecap:butt;stroke-linejoin:miter;stroke-opacity:1\"/>\n",
       "<path class=\"bond-37 atom-38 atom-39\" d=\"M 177.0,95.8 L 158.1,102.7\" style=\"fill:none;fill-rule:evenodd;stroke:#000000;stroke-width:2.0px;stroke-linecap:butt;stroke-linejoin:miter;stroke-opacity:1\"/>\n",
       "<path class=\"bond-38 atom-39 atom-40\" d=\"M 158.1,102.7 L 154.6,122.5\" style=\"fill:none;fill-rule:evenodd;stroke:#000000;stroke-width:2.0px;stroke-linecap:butt;stroke-linejoin:miter;stroke-opacity:1\"/>\n",
       "<path class=\"bond-39 atom-40 atom-41\" d=\"M 153.0,123.1 L 159.4,128.5\" style=\"fill:none;fill-rule:evenodd;stroke:#000000;stroke-width:2.0px;stroke-linecap:butt;stroke-linejoin:miter;stroke-opacity:1\"/>\n",
       "<path class=\"bond-39 atom-40 atom-41\" d=\"M 159.4,128.5 L 165.8,133.8\" style=\"fill:none;fill-rule:evenodd;stroke:#FF0000;stroke-width:2.0px;stroke-linecap:butt;stroke-linejoin:miter;stroke-opacity:1\"/>\n",
       "<path class=\"bond-39 atom-40 atom-41\" d=\"M 154.9,120.8 L 161.3,126.1\" style=\"fill:none;fill-rule:evenodd;stroke:#000000;stroke-width:2.0px;stroke-linecap:butt;stroke-linejoin:miter;stroke-opacity:1\"/>\n",
       "<path class=\"bond-39 atom-40 atom-41\" d=\"M 161.3,126.1 L 167.8,131.5\" style=\"fill:none;fill-rule:evenodd;stroke:#FF0000;stroke-width:2.0px;stroke-linecap:butt;stroke-linejoin:miter;stroke-opacity:1\"/>\n",
       "<path class=\"bond-40 atom-40 atom-42\" d=\"M 154.6,122.5 L 146.6,125.4\" style=\"fill:none;fill-rule:evenodd;stroke:#000000;stroke-width:2.0px;stroke-linecap:butt;stroke-linejoin:miter;stroke-opacity:1\"/>\n",
       "<path class=\"bond-40 atom-40 atom-42\" d=\"M 146.6,125.4 L 138.6,128.4\" style=\"fill:none;fill-rule:evenodd;stroke:#0000FF;stroke-width:2.0px;stroke-linecap:butt;stroke-linejoin:miter;stroke-opacity:1\"/>\n",
       "<path class=\"bond-41 atom-29 atom-38\" d=\"M 180.5,76.0 L 177.0,95.8\" style=\"fill:none;fill-rule:evenodd;stroke:#000000;stroke-width:2.0px;stroke-linecap:butt;stroke-linejoin:miter;stroke-opacity:1\"/>\n",
       "<path class=\"bond-42 atom-38 atom-43\" d=\"M 177.0,95.8 L 189.5,106.3\" style=\"fill:none;fill-rule:evenodd;stroke:#000000;stroke-width:2.0px;stroke-linecap:butt;stroke-linejoin:miter;stroke-opacity:1\"/>\n",
       "<path d=\"M 222.5,43.0 L 221.7,42.4 L 221.9,41.4\" style=\"fill:none;stroke:#000000;stroke-width:2.0px;stroke-linecap:butt;stroke-linejoin:miter;stroke-opacity:1;\"/>\n",
       "<path d=\"M 225.0,23.6 L 225.2,22.6 L 224.9,22.3\" style=\"fill:none;stroke:#000000;stroke-width:2.0px;stroke-linecap:butt;stroke-linejoin:miter;stroke-opacity:1;\"/>\n",
       "<path d=\"M 248.3,87.4 L 249.1,88.0 L 250.1,87.7\" style=\"fill:none;stroke:#000000;stroke-width:2.0px;stroke-linecap:butt;stroke-linejoin:miter;stroke-opacity:1;\"/>\n",
       "<path d=\"M 267.1,81.5 L 268.0,81.1 L 268.3,81.4\" style=\"fill:none;stroke:#000000;stroke-width:2.0px;stroke-linecap:butt;stroke-linejoin:miter;stroke-opacity:1;\"/>\n",
       "<path d=\"M 301.9,87.3 L 302.3,87.2 L 303.1,87.8\" style=\"fill:none;stroke:#000000;stroke-width:2.0px;stroke-linecap:butt;stroke-linejoin:miter;stroke-opacity:1;\"/>\n",
       "<path d=\"M 317.0,99.4 L 317.7,100.1 L 318.7,99.7\" style=\"fill:none;stroke:#000000;stroke-width:2.0px;stroke-linecap:butt;stroke-linejoin:miter;stroke-opacity:1;\"/>\n",
       "<path d=\"M 335.7,93.5 L 336.6,93.2 L 337.4,93.8\" style=\"fill:none;stroke:#000000;stroke-width:2.0px;stroke-linecap:butt;stroke-linejoin:miter;stroke-opacity:1;\"/>\n",
       "<path d=\"M 211.5,100.8 L 211.3,101.8 L 212.1,102.5\" style=\"fill:none;stroke:#000000;stroke-width:2.0px;stroke-linecap:butt;stroke-linejoin:miter;stroke-opacity:1;\"/>\n",
       "<path d=\"M 226.0,114.1 L 226.7,114.7 L 226.7,115.1\" style=\"fill:none;stroke:#000000;stroke-width:2.0px;stroke-linecap:butt;stroke-linejoin:miter;stroke-opacity:1;\"/>\n",
       "<path d=\"M 202.7,50.3 L 202.9,49.3 L 202.1,48.6\" style=\"fill:none;stroke:#000000;stroke-width:2.0px;stroke-linecap:butt;stroke-linejoin:miter;stroke-opacity:1;\"/>\n",
       "<path d=\"M 188.2,37.0 L 187.4,36.4 L 187.0,36.5\" style=\"fill:none;stroke:#000000;stroke-width:2.0px;stroke-linecap:butt;stroke-linejoin:miter;stroke-opacity:1;\"/>\n",
       "<path d=\"M 153.4,30.6 L 153.1,30.3 L 152.2,30.7\" style=\"fill:none;stroke:#000000;stroke-width:2.0px;stroke-linecap:butt;stroke-linejoin:miter;stroke-opacity:1;\"/>\n",
       "<path d=\"M 135.2,36.9 L 134.2,37.2 L 133.5,36.6\" style=\"fill:none;stroke:#000000;stroke-width:2.0px;stroke-linecap:butt;stroke-linejoin:miter;stroke-opacity:1;\"/>\n",
       "<path d=\"M 119.6,25.0 L 118.8,24.3 L 117.9,24.7\" style=\"fill:none;stroke:#000000;stroke-width:2.0px;stroke-linecap:butt;stroke-linejoin:miter;stroke-opacity:1;\"/>\n",
       "<path d=\"M 165.8,63.7 L 165.1,63.1 L 164.1,63.4\" style=\"fill:none;stroke:#000000;stroke-width:2.0px;stroke-linecap:butt;stroke-linejoin:miter;stroke-opacity:1;\"/>\n",
       "<path d=\"M 147.1,69.6 L 146.2,70.0 L 146.1,70.4\" style=\"fill:none;stroke:#000000;stroke-width:2.0px;stroke-linecap:butt;stroke-linejoin:miter;stroke-opacity:1;\"/>\n",
       "<path d=\"M 124.2,96.5 L 123.8,96.7 L 123.6,97.7\" style=\"fill:none;stroke:#000000;stroke-width:2.0px;stroke-linecap:butt;stroke-linejoin:miter;stroke-opacity:1;\"/>\n",
       "<path d=\"M 120.5,115.5 L 120.3,116.5 L 119.4,116.8\" style=\"fill:none;stroke:#000000;stroke-width:2.0px;stroke-linecap:butt;stroke-linejoin:miter;stroke-opacity:1;\"/>\n",
       "<path d=\"M 102.4,123.0 L 101.4,123.4 L 101.3,124.4\" style=\"fill:none;stroke:#000000;stroke-width:2.0px;stroke-linecap:butt;stroke-linejoin:miter;stroke-opacity:1;\"/>\n",
       "<path d=\"M 159.1,102.3 L 158.1,102.7 L 157.9,103.7\" style=\"fill:none;stroke:#000000;stroke-width:2.0px;stroke-linecap:butt;stroke-linejoin:miter;stroke-opacity:1;\"/>\n",
       "<path d=\"M 154.8,121.5 L 154.6,122.5 L 154.2,122.6\" style=\"fill:none;stroke:#000000;stroke-width:2.0px;stroke-linecap:butt;stroke-linejoin:miter;stroke-opacity:1;\"/>\n",
       "<path class=\"atom-0\" d=\"M 253.8 45.6 L 254.6 45.6 L 254.6 48.0 L 257.5 48.0 L 257.5 45.6 L 258.3 45.6 L 258.3 51.3 L 257.5 51.3 L 257.5 48.6 L 254.6 48.6 L 254.6 51.3 L 253.8 51.3 L 253.8 45.6 \" fill=\"#000000\"/>\n",
       "<path class=\"atom-4\" d=\"M 241.5 15.7 Q 241.5 14.3, 242.2 13.6 Q 242.9 12.8, 244.1 12.8 Q 245.4 12.8, 246.1 13.6 Q 246.7 14.3, 246.7 15.7 Q 246.7 17.1, 246.0 17.9 Q 245.4 18.7, 244.1 18.7 Q 242.9 18.7, 242.2 17.9 Q 241.5 17.1, 241.5 15.7 M 244.1 18.0 Q 245.0 18.0, 245.5 17.4 Q 245.9 16.8, 245.9 15.7 Q 245.9 14.6, 245.5 14.0 Q 245.0 13.4, 244.1 13.4 Q 243.2 13.4, 242.8 14.0 Q 242.3 14.6, 242.3 15.7 Q 242.3 16.9, 242.8 17.4 Q 243.2 18.0, 244.1 18.0 \" fill=\"#FF0000\"/>\n",
       "<path class=\"atom-5\" d=\"M 198.8 6.8 L 199.6 6.8 L 199.6 9.2 L 202.5 9.2 L 202.5 6.8 L 203.3 6.8 L 203.3 12.5 L 202.5 12.5 L 202.5 9.9 L 199.6 9.9 L 199.6 12.5 L 198.8 12.5 L 198.8 6.8 \" fill=\"#0000FF\"/>\n",
       "<path class=\"atom-5\" d=\"M 204.4 12.3 Q 204.5 12.0, 204.9 11.8 Q 205.2 11.6, 205.6 11.6 Q 206.2 11.6, 206.5 11.9 Q 206.8 12.2, 206.8 12.7 Q 206.8 13.3, 206.4 13.8 Q 206.0 14.3, 205.2 14.9 L 206.9 14.9 L 206.9 15.4 L 204.4 15.4 L 204.4 15.0 Q 205.1 14.5, 205.5 14.1 Q 205.9 13.8, 206.1 13.4 Q 206.3 13.1, 206.3 12.7 Q 206.3 12.4, 206.1 12.2 Q 206.0 12.0, 205.6 12.0 Q 205.3 12.0, 205.1 12.1 Q 204.9 12.2, 204.8 12.5 L 204.4 12.3 \" fill=\"#0000FF\"/>\n",
       "<path class=\"atom-5\" d=\"M 208.5 6.8 L 210.4 9.8 Q 210.6 10.1, 210.9 10.7 Q 211.2 11.2, 211.2 11.2 L 211.2 6.8 L 212.0 6.8 L 212.0 12.5 L 211.2 12.5 L 209.2 9.2 Q 208.9 8.8, 208.7 8.4 Q 208.5 7.9, 208.4 7.8 L 208.4 12.5 L 207.6 12.5 L 207.6 6.8 L 208.5 6.8 \" fill=\"#0000FF\"/>\n",
       "<path class=\"atom-9\" d=\"M 268.9 61.3 Q 268.9 60.0, 269.5 59.2 Q 270.2 58.4, 271.5 58.4 Q 272.7 58.4, 273.4 59.2 Q 274.1 60.0, 274.1 61.3 Q 274.1 62.7, 273.4 63.5 Q 272.7 64.3, 271.5 64.3 Q 270.2 64.3, 269.5 63.5 Q 268.9 62.7, 268.9 61.3 M 271.5 63.6 Q 272.3 63.6, 272.8 63.1 Q 273.3 62.5, 273.3 61.3 Q 273.3 60.2, 272.8 59.7 Q 272.3 59.1, 271.5 59.1 Q 270.6 59.1, 270.1 59.6 Q 269.7 60.2, 269.7 61.3 Q 269.7 62.5, 270.1 63.1 Q 270.6 63.6, 271.5 63.6 \" fill=\"#FF0000\"/>\n",
       "<path class=\"atom-10\" d=\"M 280.8 94.1 Q 280.8 92.7, 281.5 91.9 Q 282.2 91.2, 283.4 91.2 Q 284.7 91.2, 285.4 91.9 Q 286.0 92.7, 286.0 94.1 Q 286.0 95.4, 285.3 96.2 Q 284.7 97.0, 283.4 97.0 Q 282.2 97.0, 281.5 96.2 Q 280.8 95.5, 280.8 94.1 M 283.4 96.4 Q 284.3 96.4, 284.8 95.8 Q 285.2 95.2, 285.2 94.1 Q 285.2 92.9, 284.8 92.4 Q 284.3 91.8, 283.4 91.8 Q 282.5 91.8, 282.1 92.4 Q 281.6 92.9, 281.6 94.1 Q 281.6 95.2, 282.1 95.8 Q 282.5 96.4, 283.4 96.4 \" fill=\"#FF0000\"/>\n",
       "<path class=\"atom-18\" d=\"M 243.0 107.9 Q 243.0 106.5, 243.7 105.7 Q 244.4 105.0, 245.6 105.0 Q 246.9 105.0, 247.6 105.7 Q 248.2 106.5, 248.2 107.9 Q 248.2 109.2, 247.6 110.0 Q 246.9 110.8, 245.6 110.8 Q 244.4 110.8, 243.7 110.0 Q 243.0 109.2, 243.0 107.9 M 245.6 110.2 Q 246.5 110.2, 247.0 109.6 Q 247.4 109.0, 247.4 107.9 Q 247.4 106.7, 247.0 106.2 Q 246.5 105.6, 245.6 105.6 Q 244.8 105.6, 244.3 106.2 Q 243.8 106.7, 243.8 107.9 Q 243.8 109.0, 244.3 109.6 Q 244.8 110.2, 245.6 110.2 \" fill=\"#FF0000\"/>\n",
       "<path class=\"atom-19\" d=\"M 222.0 131.7 L 223.9 134.7 Q 224.1 135.0, 224.4 135.5 Q 224.6 136.1, 224.7 136.1 L 224.7 131.7 L 225.4 131.7 L 225.4 137.4 L 224.6 137.4 L 222.6 134.1 Q 222.4 133.7, 222.2 133.3 Q 221.9 132.8, 221.8 132.7 L 221.8 137.4 L 221.1 137.4 L 221.1 131.7 L 222.0 131.7 \" fill=\"#0000FF\"/>\n",
       "<path class=\"atom-19\" d=\"M 226.5 131.7 L 227.3 131.7 L 227.3 134.1 L 230.2 134.1 L 230.2 131.7 L 231.0 131.7 L 231.0 137.4 L 230.2 137.4 L 230.2 134.8 L 227.3 134.8 L 227.3 137.4 L 226.5 137.4 L 226.5 131.7 \" fill=\"#0000FF\"/>\n",
       "<path class=\"atom-19\" d=\"M 232.1 137.2 Q 232.2 136.8, 232.5 136.6 Q 232.9 136.4, 233.3 136.4 Q 233.9 136.4, 234.2 136.7 Q 234.5 137.0, 234.5 137.6 Q 234.5 138.2, 234.1 138.7 Q 233.7 139.2, 232.9 139.8 L 234.6 139.8 L 234.6 140.2 L 232.1 140.2 L 232.1 139.9 Q 232.8 139.4, 233.2 139.0 Q 233.6 138.6, 233.8 138.3 Q 234.0 138.0, 234.0 137.6 Q 234.0 137.3, 233.8 137.1 Q 233.6 136.9, 233.3 136.9 Q 233.0 136.9, 232.8 137.0 Q 232.6 137.1, 232.5 137.4 L 232.1 137.2 \" fill=\"#0000FF\"/>\n",
       "<path class=\"atom-23\" d=\"M 188.3 16.6 Q 188.3 15.2, 189.0 14.4 Q 189.7 13.7, 190.9 13.7 Q 192.2 13.7, 192.9 14.4 Q 193.5 15.2, 193.5 16.6 Q 193.5 18.0, 192.8 18.7 Q 192.2 19.5, 190.9 19.5 Q 189.7 19.5, 189.0 18.7 Q 188.3 18.0, 188.3 16.6 M 190.9 18.9 Q 191.8 18.9, 192.2 18.3 Q 192.7 17.7, 192.7 16.6 Q 192.7 15.5, 192.2 14.9 Q 191.8 14.3, 190.9 14.3 Q 190.0 14.3, 189.6 14.9 Q 189.1 15.5, 189.1 16.6 Q 189.1 17.7, 189.6 18.3 Q 190.0 18.9, 190.9 18.9 \" fill=\"#FF0000\"/>\n",
       "<path class=\"atom-24\" d=\"M 165.9 43.3 Q 165.9 41.9, 166.6 41.1 Q 167.3 40.4, 168.5 40.4 Q 169.8 40.4, 170.5 41.1 Q 171.2 41.9, 171.2 43.3 Q 171.2 44.7, 170.5 45.5 Q 169.8 46.2, 168.5 46.2 Q 167.3 46.2, 166.6 45.5 Q 165.9 44.7, 165.9 43.3 M 168.5 45.6 Q 169.4 45.6, 169.9 45.0 Q 170.4 44.4, 170.4 43.3 Q 170.4 42.2, 169.9 41.6 Q 169.4 41.0, 168.5 41.0 Q 167.7 41.0, 167.2 41.6 Q 166.7 42.2, 166.7 43.3 Q 166.7 44.4, 167.2 45.0 Q 167.7 45.6, 168.5 45.6 \" fill=\"#FF0000\"/>\n",
       "<path class=\"atom-32\" d=\"M 128.1 57.1 Q 128.1 55.7, 128.8 54.9 Q 129.5 54.2, 130.8 54.2 Q 132.0 54.2, 132.7 54.9 Q 133.4 55.7, 133.4 57.1 Q 133.4 58.5, 132.7 59.2 Q 132.0 60.0, 130.8 60.0 Q 129.5 60.0, 128.8 59.2 Q 128.1 58.5, 128.1 57.1 M 130.8 59.4 Q 131.6 59.4, 132.1 58.8 Q 132.6 58.2, 132.6 57.1 Q 132.6 56.0, 132.1 55.4 Q 131.6 54.8, 130.8 54.8 Q 129.9 54.8, 129.4 55.4 Q 128.9 55.9, 128.9 57.1 Q 128.9 58.2, 129.4 58.8 Q 129.9 59.4, 130.8 59.4 \" fill=\"#FF0000\"/>\n",
       "<path class=\"atom-33\" d=\"M 140.1 89.8 Q 140.1 88.4, 140.8 87.7 Q 141.4 86.9, 142.7 86.9 Q 144.0 86.9, 144.6 87.7 Q 145.3 88.4, 145.3 89.8 Q 145.3 91.2, 144.6 92.0 Q 143.9 92.7, 142.7 92.7 Q 141.4 92.7, 140.8 92.0 Q 140.1 91.2, 140.1 89.8 M 142.7 92.1 Q 143.6 92.1, 144.0 91.5 Q 144.5 90.9, 144.5 89.8 Q 144.5 88.7, 144.0 88.1 Q 143.6 87.5, 142.7 87.5 Q 141.8 87.5, 141.4 88.1 Q 140.9 88.7, 140.9 89.8 Q 140.9 90.9, 141.4 91.5 Q 141.8 92.1, 142.7 92.1 \" fill=\"#FF0000\"/>\n",
       "<path class=\"atom-41\" d=\"M 167.4 135.4 Q 167.4 134.1, 168.1 133.3 Q 168.8 132.5, 170.1 132.5 Q 171.3 132.5, 172.0 133.3 Q 172.7 134.1, 172.7 135.4 Q 172.7 136.8, 172.0 137.6 Q 171.3 138.4, 170.1 138.4 Q 168.8 138.4, 168.1 137.6 Q 167.4 136.8, 167.4 135.4 M 170.1 137.7 Q 170.9 137.7, 171.4 137.2 Q 171.9 136.6, 171.9 135.4 Q 171.9 134.3, 171.4 133.7 Q 170.9 133.2, 170.1 133.2 Q 169.2 133.2, 168.7 133.7 Q 168.2 134.3, 168.2 135.4 Q 168.2 136.6, 168.7 137.2 Q 169.2 137.7, 170.1 137.7 \" fill=\"#FF0000\"/>\n",
       "<path class=\"atom-42\" d=\"M 124.8 126.5 L 125.5 126.5 L 125.5 129.0 L 128.4 129.0 L 128.4 126.5 L 129.2 126.5 L 129.2 132.2 L 128.4 132.2 L 128.4 129.6 L 125.5 129.6 L 125.5 132.2 L 124.8 132.2 L 124.8 126.5 \" fill=\"#0000FF\"/>\n",
       "<path class=\"atom-42\" d=\"M 130.3 132.0 Q 130.5 131.7, 130.8 131.5 Q 131.1 131.3, 131.6 131.3 Q 132.2 131.3, 132.5 131.6 Q 132.8 131.9, 132.8 132.4 Q 132.8 133.0, 132.4 133.5 Q 132.0 134.0, 131.1 134.7 L 132.9 134.7 L 132.9 135.1 L 130.3 135.1 L 130.3 134.7 Q 131.0 134.2, 131.4 133.9 Q 131.9 133.5, 132.1 133.2 Q 132.3 132.8, 132.3 132.5 Q 132.3 132.1, 132.1 131.9 Q 131.9 131.7, 131.6 131.7 Q 131.3 131.7, 131.1 131.8 Q 130.9 132.0, 130.7 132.2 L 130.3 132.0 \" fill=\"#0000FF\"/>\n",
       "<path class=\"atom-42\" d=\"M 134.5 126.5 L 136.4 129.6 Q 136.5 129.9, 136.8 130.4 Q 137.1 130.9, 137.2 131.0 L 137.2 126.5 L 137.9 126.5 L 137.9 132.2 L 137.1 132.2 L 135.1 128.9 Q 134.9 128.6, 134.6 128.1 Q 134.4 127.7, 134.3 127.5 L 134.3 132.2 L 133.6 132.2 L 133.6 126.5 L 134.5 126.5 \" fill=\"#0000FF\"/>\n",
       "<path class=\"atom-43\" d=\"M 190.2 105.9 L 191.0 105.9 L 191.0 108.3 L 193.9 108.3 L 193.9 105.9 L 194.7 105.9 L 194.7 111.6 L 193.9 111.6 L 193.9 108.9 L 191.0 108.9 L 191.0 111.6 L 190.2 111.6 L 190.2 105.9 \" fill=\"#000000\"/>\n",
       "<path class=\"atom-0\" d=\"M 259.9,48.4 L 259.9,48.4 L 259.9,48.5 L 259.9,48.5 L 259.9,48.5 L 259.9,48.6 L 259.8,48.6 L 259.8,48.6 L 259.8,48.7 L 259.8,48.7 L 259.8,48.7 L 259.7,48.7 L 259.7,48.8 L 259.7,48.8 L 259.6,48.8 L 259.6,48.8 L 259.6,48.8 L 259.5,48.8 L 259.5,48.8 L 259.5,48.8 L 259.4,48.8 L 259.4,48.8 L 259.4,48.8 L 259.3,48.8 L 259.3,48.8 L 259.3,48.7 L 259.2,48.7 L 259.2,48.7 L 259.2,48.7 L 259.2,48.7 L 259.2,48.6 L 259.1,48.6 L 259.1,48.6 L 259.1,48.5 L 259.1,48.5 L 259.1,48.5 L 259.1,48.4 L 259.1,48.4 L 259.1,48.4 L 259.1,48.3 L 259.1,48.3 L 259.1,48.3 L 259.1,48.2 L 259.2,48.2 L 259.2,48.2 L 259.2,48.1 L 259.2,48.1 L 259.2,48.1 L 259.3,48.1 L 259.3,48.1 L 259.3,48.0 L 259.4,48.0 L 259.4,48.0 L 259.4,48.0 L 259.5,48.0 L 259.5,48.0 L 259.5,48.0 L 259.6,48.0 L 259.6,48.0 L 259.6,48.0 L 259.7,48.0 L 259.7,48.1 L 259.7,48.1 L 259.8,48.1 L 259.8,48.1 L 259.8,48.2 L 259.8,48.2 L 259.8,48.2 L 259.9,48.2 L 259.9,48.3 L 259.9,48.3 L 259.9,48.3 L 259.9,48.4 L 259.9,48.4 L 259.5,48.4 Z\" style=\"fill:#000000;fill-rule:evenodd;fill-opacity:1;stroke:#000000;stroke-width:0.0px;stroke-linecap:butt;stroke-linejoin:miter;stroke-opacity:1;\"/>\n",
       "<path class=\"atom-43\" d=\"M 196.3,108.7 L 196.3,108.7 L 196.3,108.8 L 196.3,108.8 L 196.2,108.8 L 196.2,108.9 L 196.2,108.9 L 196.2,108.9 L 196.2,109.0 L 196.2,109.0 L 196.1,109.0 L 196.1,109.0 L 196.1,109.1 L 196.0,109.1 L 196.0,109.1 L 196.0,109.1 L 195.9,109.1 L 195.9,109.1 L 195.9,109.1 L 195.8,109.1 L 195.8,109.1 L 195.8,109.1 L 195.7,109.1 L 195.7,109.1 L 195.7,109.1 L 195.6,109.0 L 195.6,109.0 L 195.6,109.0 L 195.6,109.0 L 195.5,109.0 L 195.5,108.9 L 195.5,108.9 L 195.5,108.9 L 195.5,108.8 L 195.5,108.8 L 195.5,108.8 L 195.5,108.7 L 195.5,108.7 L 195.5,108.7 L 195.5,108.6 L 195.5,108.6 L 195.5,108.6 L 195.5,108.5 L 195.5,108.5 L 195.5,108.5 L 195.6,108.4 L 195.6,108.4 L 195.6,108.4 L 195.6,108.4 L 195.7,108.4 L 195.7,108.3 L 195.7,108.3 L 195.8,108.3 L 195.8,108.3 L 195.8,108.3 L 195.9,108.3 L 195.9,108.3 L 195.9,108.3 L 196.0,108.3 L 196.0,108.3 L 196.0,108.3 L 196.1,108.4 L 196.1,108.4 L 196.1,108.4 L 196.2,108.4 L 196.2,108.5 L 196.2,108.5 L 196.2,108.5 L 196.2,108.5 L 196.2,108.6 L 196.3,108.6 L 196.3,108.6 L 196.3,108.7 L 196.3,108.7 L 195.9,108.7 Z\" style=\"fill:#000000;fill-rule:evenodd;fill-opacity:1;stroke:#000000;stroke-width:0.0px;stroke-linecap:butt;stroke-linejoin:miter;stroke-opacity:1;\"/>\n",
       "</svg>"
      ],
      "text/plain": [
       "<IPython.core.display.SVG object>"
      ]
     },
     "execution_count": 42,
     "metadata": {},
     "output_type": "execute_result"
    }
   ],
   "source": [
    "big_smiles_gen(big)"
   ]
  },
  {
   "cell_type": "code",
   "execution_count": 43,
   "id": "99e69515",
   "metadata": {},
   "outputs": [
    {
     "name": "stdout",
     "output_type": "stream",
     "text": [
      "[H]C(CC(N)=O)C(CC(=O)OCCCC)C(CC(N)=O)C(CC(N)=O)C(CC(N)=O)C(CC(=O)OCCCC)C([H])CC(=O)OCCCC\n",
      "0.0\n",
      "g3\n"
     ]
    },
    {
     "data": {
      "image/png": "[encoded data removed]",
      "text/plain": [
       "<Figure size 432x288 with 1 Axes>"
      ]
     },
     "metadata": {},
     "output_type": "display_data"
    }
   ],
   "source": [
    "big_smiles_graph(big)"
   ]
  },
  {
   "cell_type": "code",
   "execution_count": 44,
   "id": "457964a7",
   "metadata": {},
   "outputs": [
    {
     "name": "stdout",
     "output_type": "stream",
     "text": [
      "[H]C(CC(=O)OCCCC)C(CC(N)=O)C(CC(N)=O)C(CC(=O)OCCCC)C([H])CC(=O)OCCCC\n",
      "0.34350328035686134\n",
      "g4\n"
     ]
    },
    {
     "data": {
      "image/png": "[encoded data removed]",
      "text/plain": [
       "<Figure size 432x288 with 1 Axes>"
      ]
     },
     "metadata": {},
     "output_type": "display_data"
    }
   ],
   "source": [
    "big_smiles_graph(big)"
   ]
  },
  {
   "cell_type": "markdown",
   "id": "cd2b1acd",
   "metadata": {},
   "source": [
    "## Vulcanized poly(1,3-butadiene)"
   ]
  },
  {
   "cell_type": "code",
   "execution_count": 45,
   "id": "b4795529",
   "metadata": {},
   "outputs": [
    {
     "name": "stdout",
     "output_type": "stream",
     "text": [
      "[H]CC=CCCC=CCCC([H])C(C[H])SSC(CCC=CCCC(SSSC(C[H])C([H])C[H])C([H])CCC([H])C([H])C[H])C(C[H])SSC(CCC=CCCC([H])C([H])CCC([H])C([H])C[H])C(CCC=CCCC=CCCC=CCCC=CCCC(SS[H])C([H])CCC([H])C([H])C[H])S[H]\n"
     ]
    },
    {
     "ename": "KeyboardInterrupt",
     "evalue": "",
     "output_type": "error",
     "traceback": [
      "\u001b[0;31m---------------------------------------------------------------------------\u001b[0m",
      "\u001b[0;31mKeyboardInterrupt\u001b[0m                         Traceback (most recent call last)",
      "\u001b[0;32m<ipython-input-45-d8c1c33b47ad>\u001b[0m in \u001b[0;36m<module>\u001b[0;34m\u001b[0m\n\u001b[1;32m      1\u001b[0m \u001b[0mbig\u001b[0m \u001b[0;34m=\u001b[0m \u001b[0;34m\"{[][$1|2|]CC=CC[$1|2|], [$1]CC([<])C([<])C[$1], [>]S[$2|10|], [$2]S[$2]; [$1][H], [<][H], [>][H], [$2][H][]}|gauss(1500,500)|\"\u001b[0m\u001b[0;34m\u001b[0m\u001b[0;34m\u001b[0m\u001b[0m\n\u001b[0;32m----> 2\u001b[0;31m \u001b[0mbig_smiles_gen\u001b[0m\u001b[0;34m(\u001b[0m\u001b[0mbig\u001b[0m\u001b[0;34m)\u001b[0m\u001b[0;34m\u001b[0m\u001b[0;34m\u001b[0m\u001b[0m\n\u001b[0m",
      "\u001b[0;32m<ipython-input-3-1a9f38ee4f25>\u001b[0m in \u001b[0;36mbig_smiles_gen\u001b[0;34m(string)\u001b[0m\n\u001b[1;32m     13\u001b[0m     \u001b[0;31m# Draw said molecule\u001b[0m\u001b[0;34m\u001b[0m\u001b[0;34m\u001b[0m\u001b[0m\n\u001b[1;32m     14\u001b[0m     \u001b[0mprint\u001b[0m\u001b[0;34m(\u001b[0m\u001b[0mmol\u001b[0m\u001b[0;34m.\u001b[0m\u001b[0msmiles\u001b[0m\u001b[0;34m)\u001b[0m\u001b[0;34m\u001b[0m\u001b[0;34m\u001b[0m\u001b[0m\n\u001b[0;32m---> 15\u001b[0;31m     \u001b[0mprint\u001b[0m\u001b[0;34m(\u001b[0m\u001b[0mmol_prob\u001b[0m\u001b[0;34m.\u001b[0m\u001b[0mget_ensemble_prob\u001b[0m\u001b[0;34m(\u001b[0m\u001b[0mmol\u001b[0m\u001b[0;34m.\u001b[0m\u001b[0msmiles\u001b[0m\u001b[0;34m,\u001b[0m \u001b[0mext\u001b[0m\u001b[0;34m)\u001b[0m\u001b[0;34m[\u001b[0m\u001b[0;36m0\u001b[0m\u001b[0;34m]\u001b[0m\u001b[0;34m)\u001b[0m\u001b[0;34m\u001b[0m\u001b[0;34m\u001b[0m\u001b[0m\n\u001b[0m\u001b[1;32m     16\u001b[0m \u001b[0;34m\u001b[0m\u001b[0m\n\u001b[1;32m     17\u001b[0m     \u001b[0;32mreturn\u001b[0m \u001b[0mrender_svg\u001b[0m\u001b[0;34m(\u001b[0m\u001b[0mmoltosvg\u001b[0m\u001b[0;34m(\u001b[0m\u001b[0mmol\u001b[0m\u001b[0;34m.\u001b[0m\u001b[0mget_mol\u001b[0m\u001b[0;34m(\u001b[0m\u001b[0;34m)\u001b[0m\u001b[0;34m)\u001b[0m\u001b[0;34m)\u001b[0m\u001b[0;34m\u001b[0m\u001b[0;34m\u001b[0m\u001b[0m\n",
      "\u001b[0;32m~/git/bigSMILESgen/bigsmiles_gen/mol_prob.py\u001b[0m in \u001b[0;36mget_ensemble_prob\u001b[0;34m(smi, big_mol)\u001b[0m\n\u001b[1;32m    415\u001b[0m     \u001b[0mprobability\u001b[0m \u001b[0;34m=\u001b[0m \u001b[0;36m0\u001b[0m\u001b[0;34m\u001b[0m\u001b[0;34m\u001b[0m\u001b[0m\n\u001b[1;32m    416\u001b[0m     \u001b[0;32mfor\u001b[0m \u001b[0mbm\u001b[0m \u001b[0;32min\u001b[0m \u001b[0mbig_mols\u001b[0m\u001b[0;34m:\u001b[0m\u001b[0;34m\u001b[0m\u001b[0;34m\u001b[0m\u001b[0m\n\u001b[0;32m--> 417\u001b[0;31m         \u001b[0mprob\u001b[0m\u001b[0;34m,\u001b[0m \u001b[0mmatch\u001b[0m \u001b[0;34m=\u001b[0m \u001b[0mget_prob\u001b[0m\u001b[0;34m(\u001b[0m\u001b[0msmi\u001b[0m\u001b[0;34m,\u001b[0m \u001b[0mbm\u001b[0m\u001b[0;34m)\u001b[0m\u001b[0;34m\u001b[0m\u001b[0;34m\u001b[0m\u001b[0m\n\u001b[0m\u001b[1;32m    418\u001b[0m         \u001b[0mprobability\u001b[0m \u001b[0;34m+=\u001b[0m \u001b[0mprob\u001b[0m\u001b[0;34m\u001b[0m\u001b[0;34m\u001b[0m\u001b[0m\n\u001b[1;32m    419\u001b[0m         \u001b[0mmatches\u001b[0m \u001b[0;34m+=\u001b[0m \u001b[0mmatch\u001b[0m\u001b[0;34m\u001b[0m\u001b[0;34m\u001b[0m\u001b[0m\n",
      "\u001b[0;32m~/git/bigSMILESgen/bigsmiles_gen/mol_prob.py\u001b[0m in \u001b[0;36mget_prob\u001b[0;34m(smiles, big_mol)\u001b[0m\n\u001b[1;32m    386\u001b[0m     \u001b[0;32mwhile\u001b[0m \u001b[0mlen\u001b[0m\u001b[0;34m(\u001b[0m\u001b[0mopen_matches\u001b[0m\u001b[0;34m)\u001b[0m \u001b[0;34m>\u001b[0m \u001b[0;36m0\u001b[0m\u001b[0;34m:\u001b[0m\u001b[0;34m\u001b[0m\u001b[0;34m\u001b[0m\u001b[0m\n\u001b[1;32m    387\u001b[0m         \u001b[0mmatch\u001b[0m \u001b[0;34m=\u001b[0m \u001b[0mopen_matches\u001b[0m\u001b[0;34m.\u001b[0m\u001b[0mpop\u001b[0m\u001b[0;34m(\u001b[0m\u001b[0;34m-\u001b[0m\u001b[0;36m1\u001b[0m\u001b[0;34m)\u001b[0m\u001b[0;34m\u001b[0m\u001b[0;34m\u001b[0m\u001b[0m\n\u001b[0;32m--> 388\u001b[0;31m         \u001b[0mstochastic_pop\u001b[0m \u001b[0;34m=\u001b[0m \u001b[0mPossibleMatch\u001b[0m\u001b[0;34m.\u001b[0m\u001b[0mpop_stochastic_element\u001b[0m\u001b[0;34m(\u001b[0m\u001b[0mmatch\u001b[0m\u001b[0;34m.\u001b[0m\u001b[0mcopy\u001b[0m\u001b[0;34m(\u001b[0m\u001b[0;34m)\u001b[0m\u001b[0;34m)\u001b[0m\u001b[0;34m\u001b[0m\u001b[0;34m\u001b[0m\u001b[0m\n\u001b[0m\u001b[1;32m    389\u001b[0m         \u001b[0;32mif\u001b[0m \u001b[0mstochastic_pop\u001b[0m \u001b[0;32mis\u001b[0m \u001b[0;32mnot\u001b[0m \u001b[0;32mNone\u001b[0m \u001b[0;32mand\u001b[0m \u001b[0mstochastic_pop\u001b[0m \u001b[0;32mnot\u001b[0m \u001b[0;32min\u001b[0m \u001b[0mhandled_matches\u001b[0m\u001b[0;34m:\u001b[0m\u001b[0;34m\u001b[0m\u001b[0;34m\u001b[0m\u001b[0m\n\u001b[1;32m    390\u001b[0m             \u001b[0mopen_matches\u001b[0m\u001b[0;34m.\u001b[0m\u001b[0mappend\u001b[0m\u001b[0;34m(\u001b[0m\u001b[0mstochastic_pop\u001b[0m\u001b[0;34m)\u001b[0m\u001b[0;34m\u001b[0m\u001b[0;34m\u001b[0m\u001b[0m\n",
      "\u001b[0;32m~/git/bigSMILESgen/bigsmiles_gen/mol_prob.py\u001b[0m in \u001b[0;36mcopy\u001b[0;34m(self, adjust_probability)\u001b[0m\n\u001b[1;32m    222\u001b[0m \u001b[0;34m\u001b[0m\u001b[0m\n\u001b[1;32m    223\u001b[0m     \u001b[0;32mdef\u001b[0m \u001b[0mcopy\u001b[0m\u001b[0;34m(\u001b[0m\u001b[0mself\u001b[0m\u001b[0;34m,\u001b[0m \u001b[0madjust_probability\u001b[0m\u001b[0;34m=\u001b[0m\u001b[0;36m1.0\u001b[0m\u001b[0;34m)\u001b[0m\u001b[0;34m:\u001b[0m\u001b[0;34m\u001b[0m\u001b[0;34m\u001b[0m\u001b[0m\n\u001b[0;32m--> 224\u001b[0;31m         \u001b[0mnew_object\u001b[0m \u001b[0;34m=\u001b[0m \u001b[0mcopy\u001b[0m\u001b[0;34m.\u001b[0m\u001b[0mdeepcopy\u001b[0m\u001b[0;34m(\u001b[0m\u001b[0mself\u001b[0m\u001b[0;34m)\u001b[0m\u001b[0;34m\u001b[0m\u001b[0;34m\u001b[0m\u001b[0m\n\u001b[0m\u001b[1;32m    225\u001b[0m         \u001b[0mnew_object\u001b[0m\u001b[0;34m.\u001b[0m\u001b[0m_log_prob\u001b[0m \u001b[0;34m+=\u001b[0m \u001b[0mnp\u001b[0m\u001b[0;34m.\u001b[0m\u001b[0mlog\u001b[0m\u001b[0;34m(\u001b[0m\u001b[0madjust_probability\u001b[0m\u001b[0;34m)\u001b[0m\u001b[0;34m\u001b[0m\u001b[0;34m\u001b[0m\u001b[0m\n\u001b[1;32m    226\u001b[0m         \u001b[0;32mreturn\u001b[0m \u001b[0mnew_object\u001b[0m\u001b[0;34m\u001b[0m\u001b[0;34m\u001b[0m\u001b[0m\n",
      "\u001b[0;32m~/miniconda3/envs/elwood/lib/python3.9/copy.py\u001b[0m in \u001b[0;36mdeepcopy\u001b[0;34m(x, memo, _nil)\u001b[0m\n\u001b[1;32m    170\u001b[0m                     \u001b[0my\u001b[0m \u001b[0;34m=\u001b[0m \u001b[0mx\u001b[0m\u001b[0;34m\u001b[0m\u001b[0;34m\u001b[0m\u001b[0m\n\u001b[1;32m    171\u001b[0m                 \u001b[0;32melse\u001b[0m\u001b[0;34m:\u001b[0m\u001b[0;34m\u001b[0m\u001b[0;34m\u001b[0m\u001b[0m\n\u001b[0;32m--> 172\u001b[0;31m                     \u001b[0my\u001b[0m \u001b[0;34m=\u001b[0m \u001b[0m_reconstruct\u001b[0m\u001b[0;34m(\u001b[0m\u001b[0mx\u001b[0m\u001b[0;34m,\u001b[0m \u001b[0mmemo\u001b[0m\u001b[0;34m,\u001b[0m \u001b[0;34m*\u001b[0m\u001b[0mrv\u001b[0m\u001b[0;34m)\u001b[0m\u001b[0;34m\u001b[0m\u001b[0;34m\u001b[0m\u001b[0m\n\u001b[0m\u001b[1;32m    173\u001b[0m \u001b[0;34m\u001b[0m\u001b[0m\n\u001b[1;32m    174\u001b[0m     \u001b[0;31m# If is its own copy, don't memoize.\u001b[0m\u001b[0;34m\u001b[0m\u001b[0;34m\u001b[0m\u001b[0m\n",
      "\u001b[0;32m~/miniconda3/envs/elwood/lib/python3.9/copy.py\u001b[0m in \u001b[0;36m_reconstruct\u001b[0;34m(x, memo, func, args, state, listiter, dictiter, deepcopy)\u001b[0m\n\u001b[1;32m    268\u001b[0m     \u001b[0;32mif\u001b[0m \u001b[0mstate\u001b[0m \u001b[0;32mis\u001b[0m \u001b[0;32mnot\u001b[0m \u001b[0;32mNone\u001b[0m\u001b[0;34m:\u001b[0m\u001b[0;34m\u001b[0m\u001b[0;34m\u001b[0m\u001b[0m\n\u001b[1;32m    269\u001b[0m         \u001b[0;32mif\u001b[0m \u001b[0mdeep\u001b[0m\u001b[0;34m:\u001b[0m\u001b[0;34m\u001b[0m\u001b[0;34m\u001b[0m\u001b[0m\n\u001b[0;32m--> 270\u001b[0;31m             \u001b[0mstate\u001b[0m \u001b[0;34m=\u001b[0m \u001b[0mdeepcopy\u001b[0m\u001b[0;34m(\u001b[0m\u001b[0mstate\u001b[0m\u001b[0;34m,\u001b[0m \u001b[0mmemo\u001b[0m\u001b[0;34m)\u001b[0m\u001b[0;34m\u001b[0m\u001b[0;34m\u001b[0m\u001b[0m\n\u001b[0m\u001b[1;32m    271\u001b[0m         \u001b[0;32mif\u001b[0m \u001b[0mhasattr\u001b[0m\u001b[0;34m(\u001b[0m\u001b[0my\u001b[0m\u001b[0;34m,\u001b[0m \u001b[0;34m'__setstate__'\u001b[0m\u001b[0;34m)\u001b[0m\u001b[0;34m:\u001b[0m\u001b[0;34m\u001b[0m\u001b[0;34m\u001b[0m\u001b[0m\n\u001b[1;32m    272\u001b[0m             \u001b[0my\u001b[0m\u001b[0;34m.\u001b[0m\u001b[0m__setstate__\u001b[0m\u001b[0;34m(\u001b[0m\u001b[0mstate\u001b[0m\u001b[0;34m)\u001b[0m\u001b[0;34m\u001b[0m\u001b[0;34m\u001b[0m\u001b[0m\n",
      "\u001b[0;32m~/miniconda3/envs/elwood/lib/python3.9/copy.py\u001b[0m in \u001b[0;36mdeepcopy\u001b[0;34m(x, memo, _nil)\u001b[0m\n\u001b[1;32m    144\u001b[0m     \u001b[0mcopier\u001b[0m \u001b[0;34m=\u001b[0m \u001b[0m_deepcopy_dispatch\u001b[0m\u001b[0;34m.\u001b[0m\u001b[0mget\u001b[0m\u001b[0;34m(\u001b[0m\u001b[0mcls\u001b[0m\u001b[0;34m)\u001b[0m\u001b[0;34m\u001b[0m\u001b[0;34m\u001b[0m\u001b[0m\n\u001b[1;32m    145\u001b[0m     \u001b[0;32mif\u001b[0m \u001b[0mcopier\u001b[0m \u001b[0;32mis\u001b[0m \u001b[0;32mnot\u001b[0m \u001b[0;32mNone\u001b[0m\u001b[0;34m:\u001b[0m\u001b[0;34m\u001b[0m\u001b[0;34m\u001b[0m\u001b[0m\n\u001b[0;32m--> 146\u001b[0;31m         \u001b[0my\u001b[0m \u001b[0;34m=\u001b[0m \u001b[0mcopier\u001b[0m\u001b[0;34m(\u001b[0m\u001b[0mx\u001b[0m\u001b[0;34m,\u001b[0m \u001b[0mmemo\u001b[0m\u001b[0;34m)\u001b[0m\u001b[0;34m\u001b[0m\u001b[0;34m\u001b[0m\u001b[0m\n\u001b[0m\u001b[1;32m    147\u001b[0m     \u001b[0;32melse\u001b[0m\u001b[0;34m:\u001b[0m\u001b[0;34m\u001b[0m\u001b[0;34m\u001b[0m\u001b[0m\n\u001b[1;32m    148\u001b[0m         \u001b[0;32mif\u001b[0m \u001b[0missubclass\u001b[0m\u001b[0;34m(\u001b[0m\u001b[0mcls\u001b[0m\u001b[0;34m,\u001b[0m \u001b[0mtype\u001b[0m\u001b[0;34m)\u001b[0m\u001b[0;34m:\u001b[0m\u001b[0;34m\u001b[0m\u001b[0;34m\u001b[0m\u001b[0m\n",
      "\u001b[0;32m~/miniconda3/envs/elwood/lib/python3.9/copy.py\u001b[0m in \u001b[0;36m_deepcopy_dict\u001b[0;34m(x, memo, deepcopy)\u001b[0m\n\u001b[1;32m    228\u001b[0m     \u001b[0mmemo\u001b[0m\u001b[0;34m[\u001b[0m\u001b[0mid\u001b[0m\u001b[0;34m(\u001b[0m\u001b[0mx\u001b[0m\u001b[0;34m)\u001b[0m\u001b[0;34m]\u001b[0m \u001b[0;34m=\u001b[0m \u001b[0my\u001b[0m\u001b[0;34m\u001b[0m\u001b[0;34m\u001b[0m\u001b[0m\n\u001b[1;32m    229\u001b[0m     \u001b[0;32mfor\u001b[0m \u001b[0mkey\u001b[0m\u001b[0;34m,\u001b[0m \u001b[0mvalue\u001b[0m \u001b[0;32min\u001b[0m \u001b[0mx\u001b[0m\u001b[0;34m.\u001b[0m\u001b[0mitems\u001b[0m\u001b[0;34m(\u001b[0m\u001b[0;34m)\u001b[0m\u001b[0;34m:\u001b[0m\u001b[0;34m\u001b[0m\u001b[0;34m\u001b[0m\u001b[0m\n\u001b[0;32m--> 230\u001b[0;31m         \u001b[0my\u001b[0m\u001b[0;34m[\u001b[0m\u001b[0mdeepcopy\u001b[0m\u001b[0;34m(\u001b[0m\u001b[0mkey\u001b[0m\u001b[0;34m,\u001b[0m \u001b[0mmemo\u001b[0m\u001b[0;34m)\u001b[0m\u001b[0;34m]\u001b[0m \u001b[0;34m=\u001b[0m \u001b[0mdeepcopy\u001b[0m\u001b[0;34m(\u001b[0m\u001b[0mvalue\u001b[0m\u001b[0;34m,\u001b[0m \u001b[0mmemo\u001b[0m\u001b[0;34m)\u001b[0m\u001b[0;34m\u001b[0m\u001b[0;34m\u001b[0m\u001b[0m\n\u001b[0m\u001b[1;32m    231\u001b[0m     \u001b[0;32mreturn\u001b[0m \u001b[0my\u001b[0m\u001b[0;34m\u001b[0m\u001b[0;34m\u001b[0m\u001b[0m\n\u001b[1;32m    232\u001b[0m \u001b[0md\u001b[0m\u001b[0;34m[\u001b[0m\u001b[0mdict\u001b[0m\u001b[0;34m]\u001b[0m \u001b[0;34m=\u001b[0m \u001b[0m_deepcopy_dict\u001b[0m\u001b[0;34m\u001b[0m\u001b[0;34m\u001b[0m\u001b[0m\n",
      "\u001b[0;32m~/miniconda3/envs/elwood/lib/python3.9/copy.py\u001b[0m in \u001b[0;36mdeepcopy\u001b[0;34m(x, memo, _nil)\u001b[0m\n\u001b[1;32m    170\u001b[0m                     \u001b[0my\u001b[0m \u001b[0;34m=\u001b[0m \u001b[0mx\u001b[0m\u001b[0;34m\u001b[0m\u001b[0;34m\u001b[0m\u001b[0m\n\u001b[1;32m    171\u001b[0m                 \u001b[0;32melse\u001b[0m\u001b[0;34m:\u001b[0m\u001b[0;34m\u001b[0m\u001b[0;34m\u001b[0m\u001b[0m\n\u001b[0;32m--> 172\u001b[0;31m                     \u001b[0my\u001b[0m \u001b[0;34m=\u001b[0m \u001b[0m_reconstruct\u001b[0m\u001b[0;34m(\u001b[0m\u001b[0mx\u001b[0m\u001b[0;34m,\u001b[0m \u001b[0mmemo\u001b[0m\u001b[0;34m,\u001b[0m \u001b[0;34m*\u001b[0m\u001b[0mrv\u001b[0m\u001b[0;34m)\u001b[0m\u001b[0;34m\u001b[0m\u001b[0;34m\u001b[0m\u001b[0m\n\u001b[0m\u001b[1;32m    173\u001b[0m \u001b[0;34m\u001b[0m\u001b[0m\n\u001b[1;32m    174\u001b[0m     \u001b[0;31m# If is its own copy, don't memoize.\u001b[0m\u001b[0;34m\u001b[0m\u001b[0;34m\u001b[0m\u001b[0m\n",
      "\u001b[0;32m~/miniconda3/envs/elwood/lib/python3.9/copy.py\u001b[0m in \u001b[0;36m_reconstruct\u001b[0;34m(x, memo, func, args, state, listiter, dictiter, deepcopy)\u001b[0m\n\u001b[1;32m    268\u001b[0m     \u001b[0;32mif\u001b[0m \u001b[0mstate\u001b[0m \u001b[0;32mis\u001b[0m \u001b[0;32mnot\u001b[0m \u001b[0;32mNone\u001b[0m\u001b[0;34m:\u001b[0m\u001b[0;34m\u001b[0m\u001b[0;34m\u001b[0m\u001b[0m\n\u001b[1;32m    269\u001b[0m         \u001b[0;32mif\u001b[0m \u001b[0mdeep\u001b[0m\u001b[0;34m:\u001b[0m\u001b[0;34m\u001b[0m\u001b[0;34m\u001b[0m\u001b[0m\n\u001b[0;32m--> 270\u001b[0;31m             \u001b[0mstate\u001b[0m \u001b[0;34m=\u001b[0m \u001b[0mdeepcopy\u001b[0m\u001b[0;34m(\u001b[0m\u001b[0mstate\u001b[0m\u001b[0;34m,\u001b[0m \u001b[0mmemo\u001b[0m\u001b[0;34m)\u001b[0m\u001b[0;34m\u001b[0m\u001b[0;34m\u001b[0m\u001b[0m\n\u001b[0m\u001b[1;32m    271\u001b[0m         \u001b[0;32mif\u001b[0m \u001b[0mhasattr\u001b[0m\u001b[0;34m(\u001b[0m\u001b[0my\u001b[0m\u001b[0;34m,\u001b[0m \u001b[0;34m'__setstate__'\u001b[0m\u001b[0;34m)\u001b[0m\u001b[0;34m:\u001b[0m\u001b[0;34m\u001b[0m\u001b[0;34m\u001b[0m\u001b[0m\n\u001b[1;32m    272\u001b[0m             \u001b[0my\u001b[0m\u001b[0;34m.\u001b[0m\u001b[0m__setstate__\u001b[0m\u001b[0;34m(\u001b[0m\u001b[0mstate\u001b[0m\u001b[0;34m)\u001b[0m\u001b[0;34m\u001b[0m\u001b[0;34m\u001b[0m\u001b[0m\n",
      "\u001b[0;32m~/miniconda3/envs/elwood/lib/python3.9/copy.py\u001b[0m in \u001b[0;36mdeepcopy\u001b[0;34m(x, memo, _nil)\u001b[0m\n\u001b[1;32m    144\u001b[0m     \u001b[0mcopier\u001b[0m \u001b[0;34m=\u001b[0m \u001b[0m_deepcopy_dispatch\u001b[0m\u001b[0;34m.\u001b[0m\u001b[0mget\u001b[0m\u001b[0;34m(\u001b[0m\u001b[0mcls\u001b[0m\u001b[0;34m)\u001b[0m\u001b[0;34m\u001b[0m\u001b[0;34m\u001b[0m\u001b[0m\n\u001b[1;32m    145\u001b[0m     \u001b[0;32mif\u001b[0m \u001b[0mcopier\u001b[0m \u001b[0;32mis\u001b[0m \u001b[0;32mnot\u001b[0m \u001b[0;32mNone\u001b[0m\u001b[0;34m:\u001b[0m\u001b[0;34m\u001b[0m\u001b[0;34m\u001b[0m\u001b[0m\n\u001b[0;32m--> 146\u001b[0;31m         \u001b[0my\u001b[0m \u001b[0;34m=\u001b[0m \u001b[0mcopier\u001b[0m\u001b[0;34m(\u001b[0m\u001b[0mx\u001b[0m\u001b[0;34m,\u001b[0m \u001b[0mmemo\u001b[0m\u001b[0;34m)\u001b[0m\u001b[0;34m\u001b[0m\u001b[0;34m\u001b[0m\u001b[0m\n\u001b[0m\u001b[1;32m    147\u001b[0m     \u001b[0;32melse\u001b[0m\u001b[0;34m:\u001b[0m\u001b[0;34m\u001b[0m\u001b[0;34m\u001b[0m\u001b[0m\n\u001b[1;32m    148\u001b[0m         \u001b[0;32mif\u001b[0m \u001b[0missubclass\u001b[0m\u001b[0;34m(\u001b[0m\u001b[0mcls\u001b[0m\u001b[0;34m,\u001b[0m \u001b[0mtype\u001b[0m\u001b[0;34m)\u001b[0m\u001b[0;34m:\u001b[0m\u001b[0;34m\u001b[0m\u001b[0;34m\u001b[0m\u001b[0m\n",
      "\u001b[0;32m~/miniconda3/envs/elwood/lib/python3.9/copy.py\u001b[0m in \u001b[0;36m_deepcopy_dict\u001b[0;34m(x, memo, deepcopy)\u001b[0m\n\u001b[1;32m    228\u001b[0m     \u001b[0mmemo\u001b[0m\u001b[0;34m[\u001b[0m\u001b[0mid\u001b[0m\u001b[0;34m(\u001b[0m\u001b[0mx\u001b[0m\u001b[0;34m)\u001b[0m\u001b[0;34m]\u001b[0m \u001b[0;34m=\u001b[0m \u001b[0my\u001b[0m\u001b[0;34m\u001b[0m\u001b[0;34m\u001b[0m\u001b[0m\n\u001b[1;32m    229\u001b[0m     \u001b[0;32mfor\u001b[0m \u001b[0mkey\u001b[0m\u001b[0;34m,\u001b[0m \u001b[0mvalue\u001b[0m \u001b[0;32min\u001b[0m \u001b[0mx\u001b[0m\u001b[0;34m.\u001b[0m\u001b[0mitems\u001b[0m\u001b[0;34m(\u001b[0m\u001b[0;34m)\u001b[0m\u001b[0;34m:\u001b[0m\u001b[0;34m\u001b[0m\u001b[0;34m\u001b[0m\u001b[0m\n\u001b[0;32m--> 230\u001b[0;31m         \u001b[0my\u001b[0m\u001b[0;34m[\u001b[0m\u001b[0mdeepcopy\u001b[0m\u001b[0;34m(\u001b[0m\u001b[0mkey\u001b[0m\u001b[0;34m,\u001b[0m \u001b[0mmemo\u001b[0m\u001b[0;34m)\u001b[0m\u001b[0;34m]\u001b[0m \u001b[0;34m=\u001b[0m \u001b[0mdeepcopy\u001b[0m\u001b[0;34m(\u001b[0m\u001b[0mvalue\u001b[0m\u001b[0;34m,\u001b[0m \u001b[0mmemo\u001b[0m\u001b[0;34m)\u001b[0m\u001b[0;34m\u001b[0m\u001b[0;34m\u001b[0m\u001b[0m\n\u001b[0m\u001b[1;32m    231\u001b[0m     \u001b[0;32mreturn\u001b[0m \u001b[0my\u001b[0m\u001b[0;34m\u001b[0m\u001b[0;34m\u001b[0m\u001b[0m\n\u001b[1;32m    232\u001b[0m \u001b[0md\u001b[0m\u001b[0;34m[\u001b[0m\u001b[0mdict\u001b[0m\u001b[0;34m]\u001b[0m \u001b[0;34m=\u001b[0m \u001b[0m_deepcopy_dict\u001b[0m\u001b[0;34m\u001b[0m\u001b[0;34m\u001b[0m\u001b[0m\n",
      "\u001b[0;32m~/miniconda3/envs/elwood/lib/python3.9/copy.py\u001b[0m in \u001b[0;36mdeepcopy\u001b[0;34m(x, memo, _nil)\u001b[0m\n\u001b[1;32m    144\u001b[0m     \u001b[0mcopier\u001b[0m \u001b[0;34m=\u001b[0m \u001b[0m_deepcopy_dispatch\u001b[0m\u001b[0;34m.\u001b[0m\u001b[0mget\u001b[0m\u001b[0;34m(\u001b[0m\u001b[0mcls\u001b[0m\u001b[0;34m)\u001b[0m\u001b[0;34m\u001b[0m\u001b[0;34m\u001b[0m\u001b[0m\n\u001b[1;32m    145\u001b[0m     \u001b[0;32mif\u001b[0m \u001b[0mcopier\u001b[0m \u001b[0;32mis\u001b[0m \u001b[0;32mnot\u001b[0m \u001b[0;32mNone\u001b[0m\u001b[0;34m:\u001b[0m\u001b[0;34m\u001b[0m\u001b[0;34m\u001b[0m\u001b[0m\n\u001b[0;32m--> 146\u001b[0;31m         \u001b[0my\u001b[0m \u001b[0;34m=\u001b[0m \u001b[0mcopier\u001b[0m\u001b[0;34m(\u001b[0m\u001b[0mx\u001b[0m\u001b[0;34m,\u001b[0m \u001b[0mmemo\u001b[0m\u001b[0;34m)\u001b[0m\u001b[0;34m\u001b[0m\u001b[0;34m\u001b[0m\u001b[0m\n\u001b[0m\u001b[1;32m    147\u001b[0m     \u001b[0;32melse\u001b[0m\u001b[0;34m:\u001b[0m\u001b[0;34m\u001b[0m\u001b[0;34m\u001b[0m\u001b[0m\n\u001b[1;32m    148\u001b[0m         \u001b[0;32mif\u001b[0m \u001b[0missubclass\u001b[0m\u001b[0;34m(\u001b[0m\u001b[0mcls\u001b[0m\u001b[0;34m,\u001b[0m \u001b[0mtype\u001b[0m\u001b[0;34m)\u001b[0m\u001b[0;34m:\u001b[0m\u001b[0;34m\u001b[0m\u001b[0;34m\u001b[0m\u001b[0m\n",
      "\u001b[0;32m~/miniconda3/envs/elwood/lib/python3.9/copy.py\u001b[0m in \u001b[0;36m_deepcopy_list\u001b[0;34m(x, memo, deepcopy)\u001b[0m\n\u001b[1;32m    203\u001b[0m     \u001b[0mappend\u001b[0m \u001b[0;34m=\u001b[0m \u001b[0my\u001b[0m\u001b[0;34m.\u001b[0m\u001b[0mappend\u001b[0m\u001b[0;34m\u001b[0m\u001b[0;34m\u001b[0m\u001b[0m\n\u001b[1;32m    204\u001b[0m     \u001b[0;32mfor\u001b[0m \u001b[0ma\u001b[0m \u001b[0;32min\u001b[0m \u001b[0mx\u001b[0m\u001b[0;34m:\u001b[0m\u001b[0;34m\u001b[0m\u001b[0;34m\u001b[0m\u001b[0m\n\u001b[0;32m--> 205\u001b[0;31m         \u001b[0mappend\u001b[0m\u001b[0;34m(\u001b[0m\u001b[0mdeepcopy\u001b[0m\u001b[0;34m(\u001b[0m\u001b[0ma\u001b[0m\u001b[0;34m,\u001b[0m \u001b[0mmemo\u001b[0m\u001b[0;34m)\u001b[0m\u001b[0;34m)\u001b[0m\u001b[0;34m\u001b[0m\u001b[0;34m\u001b[0m\u001b[0m\n\u001b[0m\u001b[1;32m    206\u001b[0m     \u001b[0;32mreturn\u001b[0m \u001b[0my\u001b[0m\u001b[0;34m\u001b[0m\u001b[0;34m\u001b[0m\u001b[0m\n\u001b[1;32m    207\u001b[0m \u001b[0md\u001b[0m\u001b[0;34m[\u001b[0m\u001b[0mlist\u001b[0m\u001b[0;34m]\u001b[0m \u001b[0;34m=\u001b[0m \u001b[0m_deepcopy_list\u001b[0m\u001b[0;34m\u001b[0m\u001b[0;34m\u001b[0m\u001b[0m\n",
      "\u001b[0;32m~/miniconda3/envs/elwood/lib/python3.9/copy.py\u001b[0m in \u001b[0;36mdeepcopy\u001b[0;34m(x, memo, _nil)\u001b[0m\n\u001b[1;32m    170\u001b[0m                     \u001b[0my\u001b[0m \u001b[0;34m=\u001b[0m \u001b[0mx\u001b[0m\u001b[0;34m\u001b[0m\u001b[0;34m\u001b[0m\u001b[0m\n\u001b[1;32m    171\u001b[0m                 \u001b[0;32melse\u001b[0m\u001b[0;34m:\u001b[0m\u001b[0;34m\u001b[0m\u001b[0;34m\u001b[0m\u001b[0m\n\u001b[0;32m--> 172\u001b[0;31m                     \u001b[0my\u001b[0m \u001b[0;34m=\u001b[0m \u001b[0m_reconstruct\u001b[0m\u001b[0;34m(\u001b[0m\u001b[0mx\u001b[0m\u001b[0;34m,\u001b[0m \u001b[0mmemo\u001b[0m\u001b[0;34m,\u001b[0m \u001b[0;34m*\u001b[0m\u001b[0mrv\u001b[0m\u001b[0;34m)\u001b[0m\u001b[0;34m\u001b[0m\u001b[0;34m\u001b[0m\u001b[0m\n\u001b[0m\u001b[1;32m    173\u001b[0m \u001b[0;34m\u001b[0m\u001b[0m\n\u001b[1;32m    174\u001b[0m     \u001b[0;31m# If is its own copy, don't memoize.\u001b[0m\u001b[0;34m\u001b[0m\u001b[0;34m\u001b[0m\u001b[0m\n",
      "\u001b[0;32m~/miniconda3/envs/elwood/lib/python3.9/copy.py\u001b[0m in \u001b[0;36m_reconstruct\u001b[0;34m(x, memo, func, args, state, listiter, dictiter, deepcopy)\u001b[0m\n\u001b[1;32m    268\u001b[0m     \u001b[0;32mif\u001b[0m \u001b[0mstate\u001b[0m \u001b[0;32mis\u001b[0m \u001b[0;32mnot\u001b[0m \u001b[0;32mNone\u001b[0m\u001b[0;34m:\u001b[0m\u001b[0;34m\u001b[0m\u001b[0;34m\u001b[0m\u001b[0m\n\u001b[1;32m    269\u001b[0m         \u001b[0;32mif\u001b[0m \u001b[0mdeep\u001b[0m\u001b[0;34m:\u001b[0m\u001b[0;34m\u001b[0m\u001b[0;34m\u001b[0m\u001b[0m\n\u001b[0;32m--> 270\u001b[0;31m             \u001b[0mstate\u001b[0m \u001b[0;34m=\u001b[0m \u001b[0mdeepcopy\u001b[0m\u001b[0;34m(\u001b[0m\u001b[0mstate\u001b[0m\u001b[0;34m,\u001b[0m \u001b[0mmemo\u001b[0m\u001b[0;34m)\u001b[0m\u001b[0;34m\u001b[0m\u001b[0;34m\u001b[0m\u001b[0m\n\u001b[0m\u001b[1;32m    271\u001b[0m         \u001b[0;32mif\u001b[0m \u001b[0mhasattr\u001b[0m\u001b[0;34m(\u001b[0m\u001b[0my\u001b[0m\u001b[0;34m,\u001b[0m \u001b[0;34m'__setstate__'\u001b[0m\u001b[0;34m)\u001b[0m\u001b[0;34m:\u001b[0m\u001b[0;34m\u001b[0m\u001b[0;34m\u001b[0m\u001b[0m\n\u001b[1;32m    272\u001b[0m             \u001b[0my\u001b[0m\u001b[0;34m.\u001b[0m\u001b[0m__setstate__\u001b[0m\u001b[0;34m(\u001b[0m\u001b[0mstate\u001b[0m\u001b[0;34m)\u001b[0m\u001b[0;34m\u001b[0m\u001b[0;34m\u001b[0m\u001b[0m\n",
      "\u001b[0;32m~/miniconda3/envs/elwood/lib/python3.9/copy.py\u001b[0m in \u001b[0;36mdeepcopy\u001b[0;34m(x, memo, _nil)\u001b[0m\n\u001b[1;32m    144\u001b[0m     \u001b[0mcopier\u001b[0m \u001b[0;34m=\u001b[0m \u001b[0m_deepcopy_dispatch\u001b[0m\u001b[0;34m.\u001b[0m\u001b[0mget\u001b[0m\u001b[0;34m(\u001b[0m\u001b[0mcls\u001b[0m\u001b[0;34m)\u001b[0m\u001b[0;34m\u001b[0m\u001b[0;34m\u001b[0m\u001b[0m\n\u001b[1;32m    145\u001b[0m     \u001b[0;32mif\u001b[0m \u001b[0mcopier\u001b[0m \u001b[0;32mis\u001b[0m \u001b[0;32mnot\u001b[0m \u001b[0;32mNone\u001b[0m\u001b[0;34m:\u001b[0m\u001b[0;34m\u001b[0m\u001b[0;34m\u001b[0m\u001b[0m\n\u001b[0;32m--> 146\u001b[0;31m         \u001b[0my\u001b[0m \u001b[0;34m=\u001b[0m \u001b[0mcopier\u001b[0m\u001b[0;34m(\u001b[0m\u001b[0mx\u001b[0m\u001b[0;34m,\u001b[0m \u001b[0mmemo\u001b[0m\u001b[0;34m)\u001b[0m\u001b[0;34m\u001b[0m\u001b[0;34m\u001b[0m\u001b[0m\n\u001b[0m\u001b[1;32m    147\u001b[0m     \u001b[0;32melse\u001b[0m\u001b[0;34m:\u001b[0m\u001b[0;34m\u001b[0m\u001b[0;34m\u001b[0m\u001b[0m\n\u001b[1;32m    148\u001b[0m         \u001b[0;32mif\u001b[0m \u001b[0missubclass\u001b[0m\u001b[0;34m(\u001b[0m\u001b[0mcls\u001b[0m\u001b[0;34m,\u001b[0m \u001b[0mtype\u001b[0m\u001b[0;34m)\u001b[0m\u001b[0;34m:\u001b[0m\u001b[0;34m\u001b[0m\u001b[0;34m\u001b[0m\u001b[0m\n",
      "\u001b[0;32m~/miniconda3/envs/elwood/lib/python3.9/copy.py\u001b[0m in \u001b[0;36m_deepcopy_dict\u001b[0;34m(x, memo, deepcopy)\u001b[0m\n\u001b[1;32m    228\u001b[0m     \u001b[0mmemo\u001b[0m\u001b[0;34m[\u001b[0m\u001b[0mid\u001b[0m\u001b[0;34m(\u001b[0m\u001b[0mx\u001b[0m\u001b[0;34m)\u001b[0m\u001b[0;34m]\u001b[0m \u001b[0;34m=\u001b[0m \u001b[0my\u001b[0m\u001b[0;34m\u001b[0m\u001b[0;34m\u001b[0m\u001b[0m\n\u001b[1;32m    229\u001b[0m     \u001b[0;32mfor\u001b[0m \u001b[0mkey\u001b[0m\u001b[0;34m,\u001b[0m \u001b[0mvalue\u001b[0m \u001b[0;32min\u001b[0m \u001b[0mx\u001b[0m\u001b[0;34m.\u001b[0m\u001b[0mitems\u001b[0m\u001b[0;34m(\u001b[0m\u001b[0;34m)\u001b[0m\u001b[0;34m:\u001b[0m\u001b[0;34m\u001b[0m\u001b[0;34m\u001b[0m\u001b[0m\n\u001b[0;32m--> 230\u001b[0;31m         \u001b[0my\u001b[0m\u001b[0;34m[\u001b[0m\u001b[0mdeepcopy\u001b[0m\u001b[0;34m(\u001b[0m\u001b[0mkey\u001b[0m\u001b[0;34m,\u001b[0m \u001b[0mmemo\u001b[0m\u001b[0;34m)\u001b[0m\u001b[0;34m]\u001b[0m \u001b[0;34m=\u001b[0m \u001b[0mdeepcopy\u001b[0m\u001b[0;34m(\u001b[0m\u001b[0mvalue\u001b[0m\u001b[0;34m,\u001b[0m \u001b[0mmemo\u001b[0m\u001b[0;34m)\u001b[0m\u001b[0;34m\u001b[0m\u001b[0;34m\u001b[0m\u001b[0m\n\u001b[0m\u001b[1;32m    231\u001b[0m     \u001b[0;32mreturn\u001b[0m \u001b[0my\u001b[0m\u001b[0;34m\u001b[0m\u001b[0;34m\u001b[0m\u001b[0m\n\u001b[1;32m    232\u001b[0m \u001b[0md\u001b[0m\u001b[0;34m[\u001b[0m\u001b[0mdict\u001b[0m\u001b[0;34m]\u001b[0m \u001b[0;34m=\u001b[0m \u001b[0m_deepcopy_dict\u001b[0m\u001b[0;34m\u001b[0m\u001b[0;34m\u001b[0m\u001b[0m\n",
      "\u001b[0;32m~/miniconda3/envs/elwood/lib/python3.9/copy.py\u001b[0m in \u001b[0;36mdeepcopy\u001b[0;34m(x, memo, _nil)\u001b[0m\n\u001b[1;32m    144\u001b[0m     \u001b[0mcopier\u001b[0m \u001b[0;34m=\u001b[0m \u001b[0m_deepcopy_dispatch\u001b[0m\u001b[0;34m.\u001b[0m\u001b[0mget\u001b[0m\u001b[0;34m(\u001b[0m\u001b[0mcls\u001b[0m\u001b[0;34m)\u001b[0m\u001b[0;34m\u001b[0m\u001b[0;34m\u001b[0m\u001b[0m\n\u001b[1;32m    145\u001b[0m     \u001b[0;32mif\u001b[0m \u001b[0mcopier\u001b[0m \u001b[0;32mis\u001b[0m \u001b[0;32mnot\u001b[0m \u001b[0;32mNone\u001b[0m\u001b[0;34m:\u001b[0m\u001b[0;34m\u001b[0m\u001b[0;34m\u001b[0m\u001b[0m\n\u001b[0;32m--> 146\u001b[0;31m         \u001b[0my\u001b[0m \u001b[0;34m=\u001b[0m \u001b[0mcopier\u001b[0m\u001b[0;34m(\u001b[0m\u001b[0mx\u001b[0m\u001b[0;34m,\u001b[0m \u001b[0mmemo\u001b[0m\u001b[0;34m)\u001b[0m\u001b[0;34m\u001b[0m\u001b[0;34m\u001b[0m\u001b[0m\n\u001b[0m\u001b[1;32m    147\u001b[0m     \u001b[0;32melse\u001b[0m\u001b[0;34m:\u001b[0m\u001b[0;34m\u001b[0m\u001b[0;34m\u001b[0m\u001b[0m\n\u001b[1;32m    148\u001b[0m         \u001b[0;32mif\u001b[0m \u001b[0missubclass\u001b[0m\u001b[0;34m(\u001b[0m\u001b[0mcls\u001b[0m\u001b[0;34m,\u001b[0m \u001b[0mtype\u001b[0m\u001b[0;34m)\u001b[0m\u001b[0;34m:\u001b[0m\u001b[0;34m\u001b[0m\u001b[0;34m\u001b[0m\u001b[0m\n",
      "\u001b[0;32m~/miniconda3/envs/elwood/lib/python3.9/copy.py\u001b[0m in \u001b[0;36m_deepcopy_list\u001b[0;34m(x, memo, deepcopy)\u001b[0m\n\u001b[1;32m    203\u001b[0m     \u001b[0mappend\u001b[0m \u001b[0;34m=\u001b[0m \u001b[0my\u001b[0m\u001b[0;34m.\u001b[0m\u001b[0mappend\u001b[0m\u001b[0;34m\u001b[0m\u001b[0;34m\u001b[0m\u001b[0m\n\u001b[1;32m    204\u001b[0m     \u001b[0;32mfor\u001b[0m \u001b[0ma\u001b[0m \u001b[0;32min\u001b[0m \u001b[0mx\u001b[0m\u001b[0;34m:\u001b[0m\u001b[0;34m\u001b[0m\u001b[0;34m\u001b[0m\u001b[0m\n\u001b[0;32m--> 205\u001b[0;31m         \u001b[0mappend\u001b[0m\u001b[0;34m(\u001b[0m\u001b[0mdeepcopy\u001b[0m\u001b[0;34m(\u001b[0m\u001b[0ma\u001b[0m\u001b[0;34m,\u001b[0m \u001b[0mmemo\u001b[0m\u001b[0;34m)\u001b[0m\u001b[0;34m)\u001b[0m\u001b[0;34m\u001b[0m\u001b[0;34m\u001b[0m\u001b[0m\n\u001b[0m\u001b[1;32m    206\u001b[0m     \u001b[0;32mreturn\u001b[0m \u001b[0my\u001b[0m\u001b[0;34m\u001b[0m\u001b[0;34m\u001b[0m\u001b[0m\n\u001b[1;32m    207\u001b[0m \u001b[0md\u001b[0m\u001b[0;34m[\u001b[0m\u001b[0mlist\u001b[0m\u001b[0;34m]\u001b[0m \u001b[0;34m=\u001b[0m \u001b[0m_deepcopy_list\u001b[0m\u001b[0;34m\u001b[0m\u001b[0;34m\u001b[0m\u001b[0m\n",
      "\u001b[0;32m~/miniconda3/envs/elwood/lib/python3.9/copy.py\u001b[0m in \u001b[0;36mdeepcopy\u001b[0;34m(x, memo, _nil)\u001b[0m\n\u001b[1;32m    170\u001b[0m                     \u001b[0my\u001b[0m \u001b[0;34m=\u001b[0m \u001b[0mx\u001b[0m\u001b[0;34m\u001b[0m\u001b[0;34m\u001b[0m\u001b[0m\n\u001b[1;32m    171\u001b[0m                 \u001b[0;32melse\u001b[0m\u001b[0;34m:\u001b[0m\u001b[0;34m\u001b[0m\u001b[0;34m\u001b[0m\u001b[0m\n\u001b[0;32m--> 172\u001b[0;31m                     \u001b[0my\u001b[0m \u001b[0;34m=\u001b[0m \u001b[0m_reconstruct\u001b[0m\u001b[0;34m(\u001b[0m\u001b[0mx\u001b[0m\u001b[0;34m,\u001b[0m \u001b[0mmemo\u001b[0m\u001b[0;34m,\u001b[0m \u001b[0;34m*\u001b[0m\u001b[0mrv\u001b[0m\u001b[0;34m)\u001b[0m\u001b[0;34m\u001b[0m\u001b[0;34m\u001b[0m\u001b[0m\n\u001b[0m\u001b[1;32m    173\u001b[0m \u001b[0;34m\u001b[0m\u001b[0m\n\u001b[1;32m    174\u001b[0m     \u001b[0;31m# If is its own copy, don't memoize.\u001b[0m\u001b[0;34m\u001b[0m\u001b[0;34m\u001b[0m\u001b[0m\n",
      "\u001b[0;32m~/miniconda3/envs/elwood/lib/python3.9/copy.py\u001b[0m in \u001b[0;36m_reconstruct\u001b[0;34m(x, memo, func, args, state, listiter, dictiter, deepcopy)\u001b[0m\n\u001b[1;32m    264\u001b[0m     \u001b[0my\u001b[0m \u001b[0;34m=\u001b[0m \u001b[0mfunc\u001b[0m\u001b[0;34m(\u001b[0m\u001b[0;34m*\u001b[0m\u001b[0margs\u001b[0m\u001b[0;34m)\u001b[0m\u001b[0;34m\u001b[0m\u001b[0;34m\u001b[0m\u001b[0m\n\u001b[1;32m    265\u001b[0m     \u001b[0;32mif\u001b[0m \u001b[0mdeep\u001b[0m\u001b[0;34m:\u001b[0m\u001b[0;34m\u001b[0m\u001b[0;34m\u001b[0m\u001b[0m\n\u001b[0;32m--> 266\u001b[0;31m         \u001b[0mmemo\u001b[0m\u001b[0;34m[\u001b[0m\u001b[0mid\u001b[0m\u001b[0;34m(\u001b[0m\u001b[0mx\u001b[0m\u001b[0;34m)\u001b[0m\u001b[0;34m]\u001b[0m \u001b[0;34m=\u001b[0m \u001b[0my\u001b[0m\u001b[0;34m\u001b[0m\u001b[0;34m\u001b[0m\u001b[0m\n\u001b[0m\u001b[1;32m    267\u001b[0m \u001b[0;34m\u001b[0m\u001b[0m\n\u001b[1;32m    268\u001b[0m     \u001b[0;32mif\u001b[0m \u001b[0mstate\u001b[0m \u001b[0;32mis\u001b[0m \u001b[0;32mnot\u001b[0m \u001b[0;32mNone\u001b[0m\u001b[0;34m:\u001b[0m\u001b[0;34m\u001b[0m\u001b[0;34m\u001b[0m\u001b[0m\n",
      "\u001b[0;31mKeyboardInterrupt\u001b[0m: "
     ]
    }
   ],
   "source": [
    "big = \"{[][$1|2|]CC=CC[$1|2|], [$1]CC([<])C([<])C[$1], [>]S[$2|10|], [$2]S[$2]; [$1][H], [<][H], [>][H], [$2][H][]}|gauss(1500,500)|\"\n",
    "big_smiles_gen(big)"
   ]
  },
  {
   "cell_type": "code",
   "execution_count": null,
   "id": "c3110f2e",
   "metadata": {},
   "outputs": [],
   "source": [
    "big_smiles_graph(big)"
   ]
  },
  {
   "cell_type": "code",
   "execution_count": null,
   "id": "efaf83b1",
   "metadata": {},
   "outputs": [],
   "source": [
    "big_smiles_graph(big)"
   ]
  },
  {
   "cell_type": "markdown",
   "id": "c1ffe575",
   "metadata": {},
   "source": [
    "# Example stochastic polymer"
   ]
  },
  {
   "cell_type": "code",
   "execution_count": 46,
   "id": "33d353e3",
   "metadata": {},
   "outputs": [
    {
     "name": "stdout",
     "output_type": "stream",
     "text": [
      "[H]CCCCCCCCCCCCCCCCCCCCCCCCCCCCCCCCCCCCNCCCC(CCCCC(CCCCCCCCC(c1ccccc1)C(CCCCC(F)c1ccccc1)c1ccccc1)CCOC)c1ccccc1\n",
      "1.0658372553973709e-08\n",
      "23\n"
     ]
    },
    {
     "data": {
      "image/svg+xml": [
       "<svg xmlns=\"http://www.w3.org/2000/svg\" xmlns:rdkit=\"http://www.rdkit.org/xml\" xmlns:xlink=\"http://www.w3.org/1999/xlink\" version=\"1.1\" baseProfile=\"full\" xml:space=\"preserve\" width=\"450px\" height=\"150px\" viewBox=\"0 0 450 150\">\n",
       "<!-- END OF HEADER -->\n",
       "<rect style=\"opacity:1.0;fill:#FFFFFF;stroke:none\" width=\"450.0\" height=\"150.0\" x=\"0.0\" y=\"0.0\"> </rect>\n",
       "<path class=\"bond-0 atom-1 atom-2\" d=\"M 53.6,96.9 L 60.5,101.0\" style=\"fill:none;fill-rule:evenodd;stroke:#000000;stroke-width:2.0px;stroke-linecap:butt;stroke-linejoin:miter;stroke-opacity:1\"/>\n",
       "<path class=\"bond-1 atom-2 atom-3\" d=\"M 60.5,101.0 L 60.3,109.0\" style=\"fill:none;fill-rule:evenodd;stroke:#000000;stroke-width:2.0px;stroke-linecap:butt;stroke-linejoin:miter;stroke-opacity:1\"/>\n",
       "<path class=\"bond-1 atom-2 atom-3\" d=\"M 61.7,101.7 L 61.5,108.3\" style=\"fill:none;fill-rule:evenodd;stroke:#000000;stroke-width:2.0px;stroke-linecap:butt;stroke-linejoin:miter;stroke-opacity:1\"/>\n",
       "<path class=\"bond-2 atom-3 atom-4\" d=\"M 60.3,109.0 L 67.2,113.1\" style=\"fill:none;fill-rule:evenodd;stroke:#000000;stroke-width:2.0px;stroke-linecap:butt;stroke-linejoin:miter;stroke-opacity:1\"/>\n",
       "<path class=\"bond-3 atom-4 atom-5\" d=\"M 67.2,113.1 L 74.1,109.3\" style=\"fill:none;fill-rule:evenodd;stroke:#000000;stroke-width:2.0px;stroke-linecap:butt;stroke-linejoin:miter;stroke-opacity:1\"/>\n",
       "<path class=\"bond-3 atom-4 atom-5\" d=\"M 67.2,111.7 L 73.0,108.5\" style=\"fill:none;fill-rule:evenodd;stroke:#000000;stroke-width:2.0px;stroke-linecap:butt;stroke-linejoin:miter;stroke-opacity:1\"/>\n",
       "<path class=\"bond-4 atom-5 atom-6\" d=\"M 74.1,109.3 L 74.3,101.3\" style=\"fill:none;fill-rule:evenodd;stroke:#000000;stroke-width:2.0px;stroke-linecap:butt;stroke-linejoin:miter;stroke-opacity:1\"/>\n",
       "<path class=\"bond-5 atom-6 atom-7\" d=\"M 74.3,101.3 L 67.5,97.1\" style=\"fill:none;fill-rule:evenodd;stroke:#000000;stroke-width:2.0px;stroke-linecap:butt;stroke-linejoin:miter;stroke-opacity:1\"/>\n",
       "<path class=\"bond-5 atom-6 atom-7\" d=\"M 73.1,101.9 L 67.4,98.5\" style=\"fill:none;fill-rule:evenodd;stroke:#000000;stroke-width:2.0px;stroke-linecap:butt;stroke-linejoin:miter;stroke-opacity:1\"/>\n",
       "<path class=\"bond-6 atom-7 atom-2\" d=\"M 67.5,97.1 L 60.5,101.0\" style=\"fill:none;fill-rule:evenodd;stroke:#000000;stroke-width:2.0px;stroke-linecap:butt;stroke-linejoin:miter;stroke-opacity:1\"/>\n",
       "<path class=\"bond-7 atom-0 atom-1\" d=\"M 48.2,99.9 L 50.9,98.4\" style=\"fill:none;fill-rule:evenodd;stroke:#33CCCC;stroke-width:2.0px;stroke-linecap:butt;stroke-linejoin:miter;stroke-opacity:1\"/>\n",
       "<path class=\"bond-7 atom-0 atom-1\" d=\"M 50.9,98.4 L 53.6,96.9\" style=\"fill:none;fill-rule:evenodd;stroke:#000000;stroke-width:2.0px;stroke-linecap:butt;stroke-linejoin:miter;stroke-opacity:1\"/>\n",
       "<path class=\"bond-8 atom-8 atom-9\" d=\"M 47.0,84.8 L 53.8,88.9\" style=\"fill:none;fill-rule:evenodd;stroke:#000000;stroke-width:2.0px;stroke-linecap:butt;stroke-linejoin:miter;stroke-opacity:1\"/>\n",
       "<path class=\"bond-9 atom-1 atom-9\" d=\"M 53.6,96.9 L 53.8,88.9\" style=\"fill:none;fill-rule:evenodd;stroke:#000000;stroke-width:2.0px;stroke-linecap:butt;stroke-linejoin:miter;stroke-opacity:1\"/>\n",
       "<path class=\"bond-10 atom-10 atom-11\" d=\"M 40.3,72.7 L 47.1,76.8\" style=\"fill:none;fill-rule:evenodd;stroke:#000000;stroke-width:2.0px;stroke-linecap:butt;stroke-linejoin:miter;stroke-opacity:1\"/>\n",
       "<path class=\"bond-11 atom-8 atom-11\" d=\"M 47.0,84.8 L 47.1,76.8\" style=\"fill:none;fill-rule:evenodd;stroke:#000000;stroke-width:2.0px;stroke-linecap:butt;stroke-linejoin:miter;stroke-opacity:1\"/>\n",
       "<path class=\"bond-12 atom-12 atom-13\" d=\"M 40.5,64.7 L 33.6,60.6\" style=\"fill:none;fill-rule:evenodd;stroke:#000000;stroke-width:2.0px;stroke-linecap:butt;stroke-linejoin:miter;stroke-opacity:1\"/>\n",
       "<path class=\"bond-13 atom-13 atom-14\" d=\"M 33.6,60.6 L 33.8,52.6\" style=\"fill:none;fill-rule:evenodd;stroke:#000000;stroke-width:2.0px;stroke-linecap:butt;stroke-linejoin:miter;stroke-opacity:1\"/>\n",
       "<path class=\"bond-13 atom-13 atom-14\" d=\"M 32.4,59.8 L 32.6,53.2\" style=\"fill:none;fill-rule:evenodd;stroke:#000000;stroke-width:2.0px;stroke-linecap:butt;stroke-linejoin:miter;stroke-opacity:1\"/>\n",
       "<path class=\"bond-14 atom-14 atom-15\" d=\"M 33.8,52.6 L 26.9,48.5\" style=\"fill:none;fill-rule:evenodd;stroke:#000000;stroke-width:2.0px;stroke-linecap:butt;stroke-linejoin:miter;stroke-opacity:1\"/>\n",
       "<path class=\"bond-15 atom-15 atom-16\" d=\"M 26.9,48.5 L 20.0,52.3\" style=\"fill:none;fill-rule:evenodd;stroke:#000000;stroke-width:2.0px;stroke-linecap:butt;stroke-linejoin:miter;stroke-opacity:1\"/>\n",
       "<path class=\"bond-15 atom-15 atom-16\" d=\"M 26.9,49.8 L 21.1,53.0\" style=\"fill:none;fill-rule:evenodd;stroke:#000000;stroke-width:2.0px;stroke-linecap:butt;stroke-linejoin:miter;stroke-opacity:1\"/>\n",
       "<path class=\"bond-16 atom-16 atom-17\" d=\"M 20.0,52.3 L 19.8,60.3\" style=\"fill:none;fill-rule:evenodd;stroke:#000000;stroke-width:2.0px;stroke-linecap:butt;stroke-linejoin:miter;stroke-opacity:1\"/>\n",
       "<path class=\"bond-17 atom-17 atom-18\" d=\"M 19.8,60.3 L 26.6,64.4\" style=\"fill:none;fill-rule:evenodd;stroke:#000000;stroke-width:2.0px;stroke-linecap:butt;stroke-linejoin:miter;stroke-opacity:1\"/>\n",
       "<path class=\"bond-17 atom-17 atom-18\" d=\"M 21.0,59.6 L 26.7,63.0\" style=\"fill:none;fill-rule:evenodd;stroke:#000000;stroke-width:2.0px;stroke-linecap:butt;stroke-linejoin:miter;stroke-opacity:1\"/>\n",
       "<path class=\"bond-18 atom-18 atom-13\" d=\"M 26.6,64.4 L 33.6,60.6\" style=\"fill:none;fill-rule:evenodd;stroke:#000000;stroke-width:2.0px;stroke-linecap:butt;stroke-linejoin:miter;stroke-opacity:1\"/>\n",
       "<path class=\"bond-19 atom-10 atom-12\" d=\"M 40.3,72.7 L 40.5,64.7\" style=\"fill:none;fill-rule:evenodd;stroke:#000000;stroke-width:2.0px;stroke-linecap:butt;stroke-linejoin:miter;stroke-opacity:1\"/>\n",
       "<path class=\"bond-20 atom-19 atom-20\" d=\"M 47.4,60.8 L 47.6,52.9\" style=\"fill:none;fill-rule:evenodd;stroke:#000000;stroke-width:2.0px;stroke-linecap:butt;stroke-linejoin:miter;stroke-opacity:1\"/>\n",
       "<path class=\"bond-21 atom-20 atom-21\" d=\"M 47.6,52.9 L 54.6,49.0\" style=\"fill:none;fill-rule:evenodd;stroke:#000000;stroke-width:2.0px;stroke-linecap:butt;stroke-linejoin:miter;stroke-opacity:1\"/>\n",
       "<path class=\"bond-21 atom-20 atom-21\" d=\"M 47.6,51.5 L 53.4,48.3\" style=\"fill:none;fill-rule:evenodd;stroke:#000000;stroke-width:2.0px;stroke-linecap:butt;stroke-linejoin:miter;stroke-opacity:1\"/>\n",
       "<path class=\"bond-22 atom-21 atom-22\" d=\"M 54.6,49.0 L 54.7,41.0\" style=\"fill:none;fill-rule:evenodd;stroke:#000000;stroke-width:2.0px;stroke-linecap:butt;stroke-linejoin:miter;stroke-opacity:1\"/>\n",
       "<path class=\"bond-23 atom-22 atom-23\" d=\"M 54.7,41.0 L 47.9,36.9\" style=\"fill:none;fill-rule:evenodd;stroke:#000000;stroke-width:2.0px;stroke-linecap:butt;stroke-linejoin:miter;stroke-opacity:1\"/>\n",
       "<path class=\"bond-23 atom-22 atom-23\" d=\"M 53.5,41.7 L 47.9,38.3\" style=\"fill:none;fill-rule:evenodd;stroke:#000000;stroke-width:2.0px;stroke-linecap:butt;stroke-linejoin:miter;stroke-opacity:1\"/>\n",
       "<path class=\"bond-24 atom-23 atom-24\" d=\"M 47.9,36.9 L 40.9,40.7\" style=\"fill:none;fill-rule:evenodd;stroke:#000000;stroke-width:2.0px;stroke-linecap:butt;stroke-linejoin:miter;stroke-opacity:1\"/>\n",
       "<path class=\"bond-25 atom-24 atom-25\" d=\"M 40.9,40.7 L 40.8,48.7\" style=\"fill:none;fill-rule:evenodd;stroke:#000000;stroke-width:2.0px;stroke-linecap:butt;stroke-linejoin:miter;stroke-opacity:1\"/>\n",
       "<path class=\"bond-25 atom-24 atom-25\" d=\"M 42.1,41.5 L 42.0,48.1\" style=\"fill:none;fill-rule:evenodd;stroke:#000000;stroke-width:2.0px;stroke-linecap:butt;stroke-linejoin:miter;stroke-opacity:1\"/>\n",
       "<path class=\"bond-26 atom-25 atom-20\" d=\"M 40.8,48.7 L 47.6,52.9\" style=\"fill:none;fill-rule:evenodd;stroke:#000000;stroke-width:2.0px;stroke-linecap:butt;stroke-linejoin:miter;stroke-opacity:1\"/>\n",
       "<path class=\"bond-27 atom-12 atom-19\" d=\"M 40.5,64.7 L 47.4,60.8\" style=\"fill:none;fill-rule:evenodd;stroke:#000000;stroke-width:2.0px;stroke-linecap:butt;stroke-linejoin:miter;stroke-opacity:1\"/>\n",
       "<path class=\"bond-28 atom-26 atom-27\" d=\"M 61.3,61.1 L 54.3,65.0\" style=\"fill:none;fill-rule:evenodd;stroke:#000000;stroke-width:2.0px;stroke-linecap:butt;stroke-linejoin:miter;stroke-opacity:1\"/>\n",
       "<path class=\"bond-29 atom-19 atom-27\" d=\"M 47.4,60.8 L 54.3,65.0\" style=\"fill:none;fill-rule:evenodd;stroke:#000000;stroke-width:2.0px;stroke-linecap:butt;stroke-linejoin:miter;stroke-opacity:1\"/>\n",
       "<path class=\"bond-30 atom-28 atom-29\" d=\"M 75.1,61.4 L 68.1,65.2\" style=\"fill:none;fill-rule:evenodd;stroke:#000000;stroke-width:2.0px;stroke-linecap:butt;stroke-linejoin:miter;stroke-opacity:1\"/>\n",
       "<path class=\"bond-31 atom-26 atom-29\" d=\"M 61.3,61.1 L 68.1,65.2\" style=\"fill:none;fill-rule:evenodd;stroke:#000000;stroke-width:2.0px;stroke-linecap:butt;stroke-linejoin:miter;stroke-opacity:1\"/>\n",
       "<path class=\"bond-32 atom-30 atom-31\" d=\"M 88.9,61.6 L 81.9,65.5\" style=\"fill:none;fill-rule:evenodd;stroke:#000000;stroke-width:2.0px;stroke-linecap:butt;stroke-linejoin:miter;stroke-opacity:1\"/>\n",
       "<path class=\"bond-33 atom-28 atom-31\" d=\"M 75.1,61.4 L 81.9,65.5\" style=\"fill:none;fill-rule:evenodd;stroke:#000000;stroke-width:2.0px;stroke-linecap:butt;stroke-linejoin:miter;stroke-opacity:1\"/>\n",
       "<path class=\"bond-34 atom-32 atom-33\" d=\"M 123.4,66.3 L 116.5,62.2\" style=\"fill:none;fill-rule:evenodd;stroke:#000000;stroke-width:2.0px;stroke-linecap:butt;stroke-linejoin:miter;stroke-opacity:1\"/>\n",
       "<path class=\"bond-35 atom-33 atom-34\" d=\"M 116.5,62.2 L 109.6,66.0\" style=\"fill:none;fill-rule:evenodd;stroke:#000000;stroke-width:2.0px;stroke-linecap:butt;stroke-linejoin:miter;stroke-opacity:1\"/>\n",
       "<path class=\"bond-36 atom-34 atom-35\" d=\"M 109.6,66.0 L 109.4,74.0\" style=\"fill:none;fill-rule:evenodd;stroke:#000000;stroke-width:2.0px;stroke-linecap:butt;stroke-linejoin:miter;stroke-opacity:1\"/>\n",
       "<path class=\"bond-37 atom-34 atom-36\" d=\"M 109.6,66.0 L 102.7,61.9\" style=\"fill:none;fill-rule:evenodd;stroke:#000000;stroke-width:2.0px;stroke-linecap:butt;stroke-linejoin:miter;stroke-opacity:1\"/>\n",
       "<path class=\"bond-38 atom-36 atom-37\" d=\"M 102.7,61.9 L 95.7,65.8\" style=\"fill:none;fill-rule:evenodd;stroke:#000000;stroke-width:2.0px;stroke-linecap:butt;stroke-linejoin:miter;stroke-opacity:1\"/>\n",
       "<path class=\"bond-39 atom-30 atom-37\" d=\"M 88.9,61.6 L 95.7,65.8\" style=\"fill:none;fill-rule:evenodd;stroke:#000000;stroke-width:2.0px;stroke-linecap:butt;stroke-linejoin:miter;stroke-opacity:1\"/>\n",
       "<path class=\"bond-40 atom-38 atom-39\" d=\"M 137.2,66.6 L 130.4,62.5\" style=\"fill:none;fill-rule:evenodd;stroke:#000000;stroke-width:2.0px;stroke-linecap:butt;stroke-linejoin:miter;stroke-opacity:1\"/>\n",
       "<path class=\"bond-41 atom-32 atom-39\" d=\"M 123.4,66.3 L 130.4,62.5\" style=\"fill:none;fill-rule:evenodd;stroke:#000000;stroke-width:2.0px;stroke-linecap:butt;stroke-linejoin:miter;stroke-opacity:1\"/>\n",
       "<path class=\"bond-42 atom-40 atom-41\" d=\"M 144.2,62.7 L 144.3,54.8\" style=\"fill:none;fill-rule:evenodd;stroke:#000000;stroke-width:2.0px;stroke-linecap:butt;stroke-linejoin:miter;stroke-opacity:1\"/>\n",
       "<path class=\"bond-43 atom-41 atom-42\" d=\"M 144.3,54.8 L 151.3,50.9\" style=\"fill:none;fill-rule:evenodd;stroke:#000000;stroke-width:2.0px;stroke-linecap:butt;stroke-linejoin:miter;stroke-opacity:1\"/>\n",
       "<path class=\"bond-43 atom-41 atom-42\" d=\"M 144.4,53.4 L 150.1,50.2\" style=\"fill:none;fill-rule:evenodd;stroke:#000000;stroke-width:2.0px;stroke-linecap:butt;stroke-linejoin:miter;stroke-opacity:1\"/>\n",
       "<path class=\"bond-44 atom-42 atom-43\" d=\"M 151.3,50.9 L 151.5,42.9\" style=\"fill:none;fill-rule:evenodd;stroke:#000000;stroke-width:2.0px;stroke-linecap:butt;stroke-linejoin:miter;stroke-opacity:1\"/>\n",
       "<path class=\"bond-45 atom-43 atom-44\" d=\"M 151.5,42.9 L 144.7,38.8\" style=\"fill:none;fill-rule:evenodd;stroke:#000000;stroke-width:2.0px;stroke-linecap:butt;stroke-linejoin:miter;stroke-opacity:1\"/>\n",
       "<path class=\"bond-45 atom-43 atom-44\" d=\"M 150.3,43.6 L 144.6,40.2\" style=\"fill:none;fill-rule:evenodd;stroke:#000000;stroke-width:2.0px;stroke-linecap:butt;stroke-linejoin:miter;stroke-opacity:1\"/>\n",
       "<path class=\"bond-46 atom-44 atom-45\" d=\"M 144.7,38.8 L 137.7,42.7\" style=\"fill:none;fill-rule:evenodd;stroke:#000000;stroke-width:2.0px;stroke-linecap:butt;stroke-linejoin:miter;stroke-opacity:1\"/>\n",
       "<path class=\"bond-47 atom-45 atom-46\" d=\"M 137.7,42.7 L 137.5,50.6\" style=\"fill:none;fill-rule:evenodd;stroke:#000000;stroke-width:2.0px;stroke-linecap:butt;stroke-linejoin:miter;stroke-opacity:1\"/>\n",
       "<path class=\"bond-47 atom-45 atom-46\" d=\"M 138.8,43.4 L 138.7,50.0\" style=\"fill:none;fill-rule:evenodd;stroke:#000000;stroke-width:2.0px;stroke-linecap:butt;stroke-linejoin:miter;stroke-opacity:1\"/>\n",
       "<path class=\"bond-48 atom-46 atom-41\" d=\"M 137.5,50.6 L 144.3,54.8\" style=\"fill:none;fill-rule:evenodd;stroke:#000000;stroke-width:2.0px;stroke-linecap:butt;stroke-linejoin:miter;stroke-opacity:1\"/>\n",
       "<path class=\"bond-49 atom-38 atom-40\" d=\"M 137.2,66.6 L 144.2,62.7\" style=\"fill:none;fill-rule:evenodd;stroke:#000000;stroke-width:2.0px;stroke-linecap:butt;stroke-linejoin:miter;stroke-opacity:1\"/>\n",
       "<path class=\"bond-50 atom-47 atom-48\" d=\"M 158.0,63.0 L 151.0,66.9\" style=\"fill:none;fill-rule:evenodd;stroke:#000000;stroke-width:2.0px;stroke-linecap:butt;stroke-linejoin:miter;stroke-opacity:1\"/>\n",
       "<path class=\"bond-51 atom-40 atom-48\" d=\"M 144.2,62.7 L 151.0,66.9\" style=\"fill:none;fill-rule:evenodd;stroke:#000000;stroke-width:2.0px;stroke-linecap:butt;stroke-linejoin:miter;stroke-opacity:1\"/>\n",
       "<path class=\"bond-52 atom-49 atom-50\" d=\"M 116.2,78.2 L 116.2,80.9\" style=\"fill:none;fill-rule:evenodd;stroke:#000000;stroke-width:2.0px;stroke-linecap:butt;stroke-linejoin:miter;stroke-opacity:1\"/>\n",
       "<path class=\"bond-52 atom-49 atom-50\" d=\"M 116.2,80.9 L 116.1,83.7\" style=\"fill:none;fill-rule:evenodd;stroke:#FF0000;stroke-width:2.0px;stroke-linecap:butt;stroke-linejoin:miter;stroke-opacity:1\"/>\n",
       "<path class=\"bond-53 atom-50 atom-51\" d=\"M 118.3,87.5 L 120.6,88.9\" style=\"fill:none;fill-rule:evenodd;stroke:#FF0000;stroke-width:2.0px;stroke-linecap:butt;stroke-linejoin:miter;stroke-opacity:1\"/>\n",
       "<path class=\"bond-53 atom-50 atom-51\" d=\"M 120.6,88.9 L 122.9,90.3\" style=\"fill:none;fill-rule:evenodd;stroke:#000000;stroke-width:2.0px;stroke-linecap:butt;stroke-linejoin:miter;stroke-opacity:1\"/>\n",
       "<path class=\"bond-54 atom-35 atom-49\" d=\"M 109.4,74.0 L 116.2,78.2\" style=\"fill:none;fill-rule:evenodd;stroke:#000000;stroke-width:2.0px;stroke-linecap:butt;stroke-linejoin:miter;stroke-opacity:1\"/>\n",
       "<path class=\"bond-55 atom-52 atom-53\" d=\"M 164.8,67.1 L 167.4,65.7\" style=\"fill:none;fill-rule:evenodd;stroke:#000000;stroke-width:2.0px;stroke-linecap:butt;stroke-linejoin:miter;stroke-opacity:1\"/>\n",
       "<path class=\"bond-55 atom-52 atom-53\" d=\"M 167.4,65.7 L 169.9,64.3\" style=\"fill:none;fill-rule:evenodd;stroke:#0000FF;stroke-width:2.0px;stroke-linecap:butt;stroke-linejoin:miter;stroke-opacity:1\"/>\n",
       "<path class=\"bond-56 atom-47 atom-52\" d=\"M 158.0,63.0 L 164.8,67.1\" style=\"fill:none;fill-rule:evenodd;stroke:#000000;stroke-width:2.0px;stroke-linecap:butt;stroke-linejoin:miter;stroke-opacity:1\"/>\n",
       "<path class=\"bond-57 atom-54 atom-55\" d=\"M 185.6,63.6 L 178.7,67.4\" style=\"fill:none;fill-rule:evenodd;stroke:#000000;stroke-width:2.0px;stroke-linecap:butt;stroke-linejoin:miter;stroke-opacity:1\"/>\n",
       "<path class=\"bond-58 atom-53 atom-55\" d=\"M 173.7,64.4 L 176.2,65.9\" style=\"fill:none;fill-rule:evenodd;stroke:#0000FF;stroke-width:2.0px;stroke-linecap:butt;stroke-linejoin:miter;stroke-opacity:1\"/>\n",
       "<path class=\"bond-58 atom-53 atom-55\" d=\"M 176.2,65.9 L 178.7,67.4\" style=\"fill:none;fill-rule:evenodd;stroke:#000000;stroke-width:2.0px;stroke-linecap:butt;stroke-linejoin:miter;stroke-opacity:1\"/>\n",
       "<path class=\"bond-59 atom-56 atom-57\" d=\"M 199.5,63.8 L 192.5,67.7\" style=\"fill:none;fill-rule:evenodd;stroke:#000000;stroke-width:2.0px;stroke-linecap:butt;stroke-linejoin:miter;stroke-opacity:1\"/>\n",
       "<path class=\"bond-60 atom-54 atom-57\" d=\"M 185.6,63.6 L 192.5,67.7\" style=\"fill:none;fill-rule:evenodd;stroke:#000000;stroke-width:2.0px;stroke-linecap:butt;stroke-linejoin:miter;stroke-opacity:1\"/>\n",
       "<path class=\"bond-61 atom-58 atom-59\" d=\"M 206.3,67.9 L 213.3,64.1\" style=\"fill:none;fill-rule:evenodd;stroke:#000000;stroke-width:2.0px;stroke-linecap:butt;stroke-linejoin:miter;stroke-opacity:1\"/>\n",
       "<path class=\"bond-62 atom-56 atom-58\" d=\"M 199.5,63.8 L 206.3,67.9\" style=\"fill:none;fill-rule:evenodd;stroke:#000000;stroke-width:2.0px;stroke-linecap:butt;stroke-linejoin:miter;stroke-opacity:1\"/>\n",
       "<path class=\"bond-63 atom-60 atom-61\" d=\"M 220.1,68.2 L 227.1,64.4\" style=\"fill:none;fill-rule:evenodd;stroke:#000000;stroke-width:2.0px;stroke-linecap:butt;stroke-linejoin:miter;stroke-opacity:1\"/>\n",
       "<path class=\"bond-64 atom-59 atom-60\" d=\"M 213.3,64.1 L 220.1,68.2\" style=\"fill:none;fill-rule:evenodd;stroke:#000000;stroke-width:2.0px;stroke-linecap:butt;stroke-linejoin:miter;stroke-opacity:1\"/>\n",
       "<path class=\"bond-65 atom-62 atom-63\" d=\"M 240.9,64.6 L 233.9,68.5\" style=\"fill:none;fill-rule:evenodd;stroke:#000000;stroke-width:2.0px;stroke-linecap:butt;stroke-linejoin:miter;stroke-opacity:1\"/>\n",
       "<path class=\"bond-66 atom-61 atom-63\" d=\"M 227.1,64.4 L 233.9,68.5\" style=\"fill:none;fill-rule:evenodd;stroke:#000000;stroke-width:2.0px;stroke-linecap:butt;stroke-linejoin:miter;stroke-opacity:1\"/>\n",
       "<path class=\"bond-67 atom-64 atom-65\" d=\"M 247.8,68.8 L 254.7,64.9\" style=\"fill:none;fill-rule:evenodd;stroke:#000000;stroke-width:2.0px;stroke-linecap:butt;stroke-linejoin:miter;stroke-opacity:1\"/>\n",
       "<path class=\"bond-68 atom-62 atom-64\" d=\"M 240.9,64.6 L 247.8,68.8\" style=\"fill:none;fill-rule:evenodd;stroke:#000000;stroke-width:2.0px;stroke-linecap:butt;stroke-linejoin:miter;stroke-opacity:1\"/>\n",
       "<path class=\"bond-69 atom-66 atom-67\" d=\"M 261.6,69.0 L 268.6,65.2\" style=\"fill:none;fill-rule:evenodd;stroke:#000000;stroke-width:2.0px;stroke-linecap:butt;stroke-linejoin:miter;stroke-opacity:1\"/>\n",
       "<path class=\"bond-70 atom-65 atom-66\" d=\"M 254.7,64.9 L 261.6,69.0\" style=\"fill:none;fill-rule:evenodd;stroke:#000000;stroke-width:2.0px;stroke-linecap:butt;stroke-linejoin:miter;stroke-opacity:1\"/>\n",
       "<path class=\"bond-71 atom-68 atom-69\" d=\"M 275.4,69.3 L 282.4,65.5\" style=\"fill:none;fill-rule:evenodd;stroke:#000000;stroke-width:2.0px;stroke-linecap:butt;stroke-linejoin:miter;stroke-opacity:1\"/>\n",
       "<path class=\"bond-72 atom-67 atom-68\" d=\"M 268.6,65.2 L 275.4,69.3\" style=\"fill:none;fill-rule:evenodd;stroke:#000000;stroke-width:2.0px;stroke-linecap:butt;stroke-linejoin:miter;stroke-opacity:1\"/>\n",
       "<path class=\"bond-73 atom-70 atom-71\" d=\"M 289.2,69.6 L 296.2,65.7\" style=\"fill:none;fill-rule:evenodd;stroke:#000000;stroke-width:2.0px;stroke-linecap:butt;stroke-linejoin:miter;stroke-opacity:1\"/>\n",
       "<path class=\"bond-74 atom-69 atom-70\" d=\"M 282.4,65.5 L 289.2,69.6\" style=\"fill:none;fill-rule:evenodd;stroke:#000000;stroke-width:2.0px;stroke-linecap:butt;stroke-linejoin:miter;stroke-opacity:1\"/>\n",
       "<path class=\"bond-75 atom-72 atom-73\" d=\"M 310.0,66.0 L 303.0,69.9\" style=\"fill:none;fill-rule:evenodd;stroke:#000000;stroke-width:2.0px;stroke-linecap:butt;stroke-linejoin:miter;stroke-opacity:1\"/>\n",
       "<path class=\"bond-76 atom-71 atom-73\" d=\"M 296.2,65.7 L 303.0,69.9\" style=\"fill:none;fill-rule:evenodd;stroke:#000000;stroke-width:2.0px;stroke-linecap:butt;stroke-linejoin:miter;stroke-opacity:1\"/>\n",
       "<path class=\"bond-77 atom-74 atom-75\" d=\"M 316.9,70.1 L 323.8,66.3\" style=\"fill:none;fill-rule:evenodd;stroke:#000000;stroke-width:2.0px;stroke-linecap:butt;stroke-linejoin:miter;stroke-opacity:1\"/>\n",
       "<path class=\"bond-78 atom-72 atom-74\" d=\"M 310.0,66.0 L 316.9,70.1\" style=\"fill:none;fill-rule:evenodd;stroke:#000000;stroke-width:2.0px;stroke-linecap:butt;stroke-linejoin:miter;stroke-opacity:1\"/>\n",
       "<path class=\"bond-79 atom-76 atom-77\" d=\"M 337.7,66.5 L 330.7,70.4\" style=\"fill:none;fill-rule:evenodd;stroke:#000000;stroke-width:2.0px;stroke-linecap:butt;stroke-linejoin:miter;stroke-opacity:1\"/>\n",
       "<path class=\"bond-80 atom-75 atom-77\" d=\"M 323.8,66.3 L 330.7,70.4\" style=\"fill:none;fill-rule:evenodd;stroke:#000000;stroke-width:2.0px;stroke-linecap:butt;stroke-linejoin:miter;stroke-opacity:1\"/>\n",
       "<path class=\"bond-81 atom-78 atom-79\" d=\"M 351.5,66.8 L 344.5,70.7\" style=\"fill:none;fill-rule:evenodd;stroke:#000000;stroke-width:2.0px;stroke-linecap:butt;stroke-linejoin:miter;stroke-opacity:1\"/>\n",
       "<path class=\"bond-82 atom-76 atom-79\" d=\"M 337.7,66.5 L 344.5,70.7\" style=\"fill:none;fill-rule:evenodd;stroke:#000000;stroke-width:2.0px;stroke-linecap:butt;stroke-linejoin:miter;stroke-opacity:1\"/>\n",
       "<path class=\"bond-83 atom-80 atom-81\" d=\"M 365.3,67.1 L 358.3,70.9\" style=\"fill:none;fill-rule:evenodd;stroke:#000000;stroke-width:2.0px;stroke-linecap:butt;stroke-linejoin:miter;stroke-opacity:1\"/>\n",
       "<path class=\"bond-84 atom-78 atom-81\" d=\"M 351.5,66.8 L 358.3,70.9\" style=\"fill:none;fill-rule:evenodd;stroke:#000000;stroke-width:2.0px;stroke-linecap:butt;stroke-linejoin:miter;stroke-opacity:1\"/>\n",
       "<path class=\"bond-85 atom-82 atom-83\" d=\"M 372.1,71.2 L 379.1,67.4\" style=\"fill:none;fill-rule:evenodd;stroke:#000000;stroke-width:2.0px;stroke-linecap:butt;stroke-linejoin:miter;stroke-opacity:1\"/>\n",
       "<path class=\"bond-86 atom-80 atom-82\" d=\"M 365.3,67.1 L 372.1,71.2\" style=\"fill:none;fill-rule:evenodd;stroke:#000000;stroke-width:2.0px;stroke-linecap:butt;stroke-linejoin:miter;stroke-opacity:1\"/>\n",
       "<path class=\"bond-87 atom-84 atom-85\" d=\"M 386.0,71.5 L 392.9,67.6\" style=\"fill:none;fill-rule:evenodd;stroke:#000000;stroke-width:2.0px;stroke-linecap:butt;stroke-linejoin:miter;stroke-opacity:1\"/>\n",
       "<path class=\"bond-88 atom-83 atom-84\" d=\"M 379.1,67.4 L 386.0,71.5\" style=\"fill:none;fill-rule:evenodd;stroke:#000000;stroke-width:2.0px;stroke-linecap:butt;stroke-linejoin:miter;stroke-opacity:1\"/>\n",
       "<path class=\"bond-89 atom-86 atom-87\" d=\"M 399.8,71.8 L 406.8,67.9\" style=\"fill:none;fill-rule:evenodd;stroke:#000000;stroke-width:2.0px;stroke-linecap:butt;stroke-linejoin:miter;stroke-opacity:1\"/>\n",
       "<path class=\"bond-90 atom-85 atom-86\" d=\"M 392.9,67.6 L 399.8,71.8\" style=\"fill:none;fill-rule:evenodd;stroke:#000000;stroke-width:2.0px;stroke-linecap:butt;stroke-linejoin:miter;stroke-opacity:1\"/>\n",
       "<path class=\"bond-91 atom-88 atom-89\" d=\"M 420.6,68.2 L 413.6,72.0\" style=\"fill:none;fill-rule:evenodd;stroke:#000000;stroke-width:2.0px;stroke-linecap:butt;stroke-linejoin:miter;stroke-opacity:1\"/>\n",
       "<path class=\"bond-92 atom-87 atom-89\" d=\"M 406.8,67.9 L 413.6,72.0\" style=\"fill:none;fill-rule:evenodd;stroke:#000000;stroke-width:2.0px;stroke-linecap:butt;stroke-linejoin:miter;stroke-opacity:1\"/>\n",
       "<path class=\"bond-93 atom-88 atom-90\" d=\"M 420.6,68.2 L 425.5,71.1\" style=\"fill:none;fill-rule:evenodd;stroke:#000000;stroke-width:2.0px;stroke-linecap:butt;stroke-linejoin:miter;stroke-opacity:1\"/>\n",
       "<path d=\"M 60.3,108.6 L 60.3,109.0 L 60.7,109.2\" style=\"fill:none;stroke:#000000;stroke-width:2.0px;stroke-linecap:butt;stroke-linejoin:miter;stroke-opacity:1;\"/>\n",
       "<path d=\"M 66.8,112.9 L 67.2,113.1 L 67.5,112.9\" style=\"fill:none;stroke:#000000;stroke-width:2.0px;stroke-linecap:butt;stroke-linejoin:miter;stroke-opacity:1;\"/>\n",
       "<path d=\"M 73.8,109.4 L 74.1,109.3 L 74.1,108.9\" style=\"fill:none;stroke:#000000;stroke-width:2.0px;stroke-linecap:butt;stroke-linejoin:miter;stroke-opacity:1;\"/>\n",
       "<path d=\"M 74.3,101.7 L 74.3,101.3 L 74.0,101.1\" style=\"fill:none;stroke:#000000;stroke-width:2.0px;stroke-linecap:butt;stroke-linejoin:miter;stroke-opacity:1;\"/>\n",
       "<path d=\"M 67.8,97.4 L 67.5,97.1 L 67.1,97.3\" style=\"fill:none;stroke:#000000;stroke-width:2.0px;stroke-linecap:butt;stroke-linejoin:miter;stroke-opacity:1;\"/>\n",
       "<path d=\"M 47.3,85.0 L 47.0,84.8 L 47.0,84.4\" style=\"fill:none;stroke:#000000;stroke-width:2.0px;stroke-linecap:butt;stroke-linejoin:miter;stroke-opacity:1;\"/>\n",
       "<path d=\"M 53.5,88.7 L 53.8,88.9 L 53.8,89.3\" style=\"fill:none;stroke:#000000;stroke-width:2.0px;stroke-linecap:butt;stroke-linejoin:miter;stroke-opacity:1;\"/>\n",
       "<path d=\"M 40.6,72.9 L 40.3,72.7 L 40.3,72.3\" style=\"fill:none;stroke:#000000;stroke-width:2.0px;stroke-linecap:butt;stroke-linejoin:miter;stroke-opacity:1;\"/>\n",
       "<path d=\"M 46.8,76.6 L 47.1,76.8 L 47.1,77.2\" style=\"fill:none;stroke:#000000;stroke-width:2.0px;stroke-linecap:butt;stroke-linejoin:miter;stroke-opacity:1;\"/>\n",
       "<path d=\"M 33.8,53.0 L 33.8,52.6 L 33.4,52.4\" style=\"fill:none;stroke:#000000;stroke-width:2.0px;stroke-linecap:butt;stroke-linejoin:miter;stroke-opacity:1;\"/>\n",
       "<path d=\"M 27.3,48.7 L 26.9,48.5 L 26.6,48.6\" style=\"fill:none;stroke:#000000;stroke-width:2.0px;stroke-linecap:butt;stroke-linejoin:miter;stroke-opacity:1;\"/>\n",
       "<path d=\"M 20.3,52.1 L 20.0,52.3 L 20.0,52.7\" style=\"fill:none;stroke:#000000;stroke-width:2.0px;stroke-linecap:butt;stroke-linejoin:miter;stroke-opacity:1;\"/>\n",
       "<path d=\"M 19.8,59.9 L 19.8,60.3 L 20.1,60.5\" style=\"fill:none;stroke:#000000;stroke-width:2.0px;stroke-linecap:butt;stroke-linejoin:miter;stroke-opacity:1;\"/>\n",
       "<path d=\"M 26.3,64.2 L 26.6,64.4 L 27.0,64.2\" style=\"fill:none;stroke:#000000;stroke-width:2.0px;stroke-linecap:butt;stroke-linejoin:miter;stroke-opacity:1;\"/>\n",
       "<path d=\"M 54.2,49.2 L 54.6,49.0 L 54.6,48.6\" style=\"fill:none;stroke:#000000;stroke-width:2.0px;stroke-linecap:butt;stroke-linejoin:miter;stroke-opacity:1;\"/>\n",
       "<path d=\"M 54.7,41.4 L 54.7,41.0 L 54.4,40.8\" style=\"fill:none;stroke:#000000;stroke-width:2.0px;stroke-linecap:butt;stroke-linejoin:miter;stroke-opacity:1;\"/>\n",
       "<path d=\"M 48.3,37.1 L 47.9,36.9 L 47.6,37.1\" style=\"fill:none;stroke:#000000;stroke-width:2.0px;stroke-linecap:butt;stroke-linejoin:miter;stroke-opacity:1;\"/>\n",
       "<path d=\"M 41.3,40.6 L 40.9,40.7 L 40.9,41.1\" style=\"fill:none;stroke:#000000;stroke-width:2.0px;stroke-linecap:butt;stroke-linejoin:miter;stroke-opacity:1;\"/>\n",
       "<path d=\"M 40.8,48.3 L 40.8,48.7 L 41.1,48.9\" style=\"fill:none;stroke:#000000;stroke-width:2.0px;stroke-linecap:butt;stroke-linejoin:miter;stroke-opacity:1;\"/>\n",
       "<path d=\"M 60.9,61.3 L 61.3,61.1 L 61.6,61.3\" style=\"fill:none;stroke:#000000;stroke-width:2.0px;stroke-linecap:butt;stroke-linejoin:miter;stroke-opacity:1;\"/>\n",
       "<path d=\"M 54.6,64.8 L 54.3,65.0 L 53.9,64.8\" style=\"fill:none;stroke:#000000;stroke-width:2.0px;stroke-linecap:butt;stroke-linejoin:miter;stroke-opacity:1;\"/>\n",
       "<path d=\"M 74.7,61.6 L 75.1,61.4 L 75.4,61.6\" style=\"fill:none;stroke:#000000;stroke-width:2.0px;stroke-linecap:butt;stroke-linejoin:miter;stroke-opacity:1;\"/>\n",
       "<path d=\"M 68.4,65.0 L 68.1,65.2 L 67.8,65.0\" style=\"fill:none;stroke:#000000;stroke-width:2.0px;stroke-linecap:butt;stroke-linejoin:miter;stroke-opacity:1;\"/>\n",
       "<path d=\"M 88.6,61.8 L 88.9,61.6 L 89.2,61.9\" style=\"fill:none;stroke:#000000;stroke-width:2.0px;stroke-linecap:butt;stroke-linejoin:miter;stroke-opacity:1;\"/>\n",
       "<path d=\"M 82.3,65.3 L 81.9,65.5 L 81.6,65.3\" style=\"fill:none;stroke:#000000;stroke-width:2.0px;stroke-linecap:butt;stroke-linejoin:miter;stroke-opacity:1;\"/>\n",
       "<path d=\"M 123.0,66.1 L 123.4,66.3 L 123.7,66.1\" style=\"fill:none;stroke:#000000;stroke-width:2.0px;stroke-linecap:butt;stroke-linejoin:miter;stroke-opacity:1;\"/>\n",
       "<path d=\"M 116.9,62.4 L 116.5,62.2 L 116.2,62.4\" style=\"fill:none;stroke:#000000;stroke-width:2.0px;stroke-linecap:butt;stroke-linejoin:miter;stroke-opacity:1;\"/>\n",
       "<path d=\"M 109.4,73.6 L 109.4,74.0 L 109.7,74.2\" style=\"fill:none;stroke:#000000;stroke-width:2.0px;stroke-linecap:butt;stroke-linejoin:miter;stroke-opacity:1;\"/>\n",
       "<path d=\"M 103.1,62.1 L 102.7,61.9 L 102.4,62.1\" style=\"fill:none;stroke:#000000;stroke-width:2.0px;stroke-linecap:butt;stroke-linejoin:miter;stroke-opacity:1;\"/>\n",
       "<path d=\"M 96.1,65.6 L 95.7,65.8 L 95.4,65.6\" style=\"fill:none;stroke:#000000;stroke-width:2.0px;stroke-linecap:butt;stroke-linejoin:miter;stroke-opacity:1;\"/>\n",
       "<path d=\"M 136.9,66.4 L 137.2,66.6 L 137.5,66.4\" style=\"fill:none;stroke:#000000;stroke-width:2.0px;stroke-linecap:butt;stroke-linejoin:miter;stroke-opacity:1;\"/>\n",
       "<path d=\"M 130.7,62.7 L 130.4,62.5 L 130.0,62.7\" style=\"fill:none;stroke:#000000;stroke-width:2.0px;stroke-linecap:butt;stroke-linejoin:miter;stroke-opacity:1;\"/>\n",
       "<path d=\"M 151.0,51.1 L 151.3,50.9 L 151.3,50.5\" style=\"fill:none;stroke:#000000;stroke-width:2.0px;stroke-linecap:butt;stroke-linejoin:miter;stroke-opacity:1;\"/>\n",
       "<path d=\"M 151.5,43.3 L 151.5,42.9 L 151.1,42.7\" style=\"fill:none;stroke:#000000;stroke-width:2.0px;stroke-linecap:butt;stroke-linejoin:miter;stroke-opacity:1;\"/>\n",
       "<path d=\"M 145.0,39.0 L 144.7,38.8 L 144.3,39.0\" style=\"fill:none;stroke:#000000;stroke-width:2.0px;stroke-linecap:butt;stroke-linejoin:miter;stroke-opacity:1;\"/>\n",
       "<path d=\"M 138.0,42.5 L 137.7,42.7 L 137.7,43.1\" style=\"fill:none;stroke:#000000;stroke-width:2.0px;stroke-linecap:butt;stroke-linejoin:miter;stroke-opacity:1;\"/>\n",
       "<path d=\"M 137.5,50.2 L 137.5,50.6 L 137.8,50.8\" style=\"fill:none;stroke:#000000;stroke-width:2.0px;stroke-linecap:butt;stroke-linejoin:miter;stroke-opacity:1;\"/>\n",
       "<path d=\"M 157.7,63.2 L 158.0,63.0 L 158.3,63.2\" style=\"fill:none;stroke:#000000;stroke-width:2.0px;stroke-linecap:butt;stroke-linejoin:miter;stroke-opacity:1;\"/>\n",
       "<path d=\"M 151.4,66.7 L 151.0,66.9 L 150.7,66.7\" style=\"fill:none;stroke:#000000;stroke-width:2.0px;stroke-linecap:butt;stroke-linejoin:miter;stroke-opacity:1;\"/>\n",
       "<path d=\"M 116.2,78.3 L 116.2,78.2 L 115.9,77.9\" style=\"fill:none;stroke:#000000;stroke-width:2.0px;stroke-linecap:butt;stroke-linejoin:miter;stroke-opacity:1;\"/>\n",
       "<path d=\"M 165.0,67.1 L 164.8,67.1 L 164.5,66.9\" style=\"fill:none;stroke:#000000;stroke-width:2.0px;stroke-linecap:butt;stroke-linejoin:miter;stroke-opacity:1;\"/>\n",
       "<path d=\"M 185.3,63.7 L 185.6,63.6 L 186.0,63.8\" style=\"fill:none;stroke:#000000;stroke-width:2.0px;stroke-linecap:butt;stroke-linejoin:miter;stroke-opacity:1;\"/>\n",
       "<path d=\"M 179.0,67.2 L 178.7,67.4 L 178.5,67.3\" style=\"fill:none;stroke:#000000;stroke-width:2.0px;stroke-linecap:butt;stroke-linejoin:miter;stroke-opacity:1;\"/>\n",
       "<path d=\"M 199.1,64.0 L 199.5,63.8 L 199.8,64.0\" style=\"fill:none;stroke:#000000;stroke-width:2.0px;stroke-linecap:butt;stroke-linejoin:miter;stroke-opacity:1;\"/>\n",
       "<path d=\"M 192.8,67.5 L 192.5,67.7 L 192.1,67.5\" style=\"fill:none;stroke:#000000;stroke-width:2.0px;stroke-linecap:butt;stroke-linejoin:miter;stroke-opacity:1;\"/>\n",
       "<path d=\"M 206.6,67.8 L 206.3,67.9 L 206.0,67.7\" style=\"fill:none;stroke:#000000;stroke-width:2.0px;stroke-linecap:butt;stroke-linejoin:miter;stroke-opacity:1;\"/>\n",
       "<path d=\"M 212.9,64.3 L 213.3,64.1 L 213.6,64.3\" style=\"fill:none;stroke:#000000;stroke-width:2.0px;stroke-linecap:butt;stroke-linejoin:miter;stroke-opacity:1;\"/>\n",
       "<path d=\"M 220.5,68.0 L 220.1,68.2 L 219.8,68.0\" style=\"fill:none;stroke:#000000;stroke-width:2.0px;stroke-linecap:butt;stroke-linejoin:miter;stroke-opacity:1;\"/>\n",
       "<path d=\"M 226.8,64.6 L 227.1,64.4 L 227.4,64.6\" style=\"fill:none;stroke:#000000;stroke-width:2.0px;stroke-linecap:butt;stroke-linejoin:miter;stroke-opacity:1;\"/>\n",
       "<path d=\"M 240.6,64.8 L 240.9,64.6 L 241.3,64.8\" style=\"fill:none;stroke:#000000;stroke-width:2.0px;stroke-linecap:butt;stroke-linejoin:miter;stroke-opacity:1;\"/>\n",
       "<path d=\"M 234.3,68.3 L 233.9,68.5 L 233.6,68.3\" style=\"fill:none;stroke:#000000;stroke-width:2.0px;stroke-linecap:butt;stroke-linejoin:miter;stroke-opacity:1;\"/>\n",
       "<path d=\"M 248.1,68.6 L 247.8,68.8 L 247.4,68.6\" style=\"fill:none;stroke:#000000;stroke-width:2.0px;stroke-linecap:butt;stroke-linejoin:miter;stroke-opacity:1;\"/>\n",
       "<path d=\"M 254.4,65.1 L 254.7,64.9 L 255.1,65.1\" style=\"fill:none;stroke:#000000;stroke-width:2.0px;stroke-linecap:butt;stroke-linejoin:miter;stroke-opacity:1;\"/>\n",
       "<path d=\"M 261.9,68.8 L 261.6,69.0 L 261.2,68.8\" style=\"fill:none;stroke:#000000;stroke-width:2.0px;stroke-linecap:butt;stroke-linejoin:miter;stroke-opacity:1;\"/>\n",
       "<path d=\"M 268.2,65.4 L 268.6,65.2 L 268.9,65.4\" style=\"fill:none;stroke:#000000;stroke-width:2.0px;stroke-linecap:butt;stroke-linejoin:miter;stroke-opacity:1;\"/>\n",
       "<path d=\"M 275.7,69.1 L 275.4,69.3 L 275.1,69.1\" style=\"fill:none;stroke:#000000;stroke-width:2.0px;stroke-linecap:butt;stroke-linejoin:miter;stroke-opacity:1;\"/>\n",
       "<path d=\"M 282.0,65.6 L 282.4,65.5 L 282.7,65.7\" style=\"fill:none;stroke:#000000;stroke-width:2.0px;stroke-linecap:butt;stroke-linejoin:miter;stroke-opacity:1;\"/>\n",
       "<path d=\"M 289.6,69.4 L 289.2,69.6 L 288.9,69.4\" style=\"fill:none;stroke:#000000;stroke-width:2.0px;stroke-linecap:butt;stroke-linejoin:miter;stroke-opacity:1;\"/>\n",
       "<path d=\"M 295.9,65.9 L 296.2,65.7 L 296.5,65.9\" style=\"fill:none;stroke:#000000;stroke-width:2.0px;stroke-linecap:butt;stroke-linejoin:miter;stroke-opacity:1;\"/>\n",
       "<path d=\"M 309.7,66.2 L 310.0,66.0 L 310.4,66.2\" style=\"fill:none;stroke:#000000;stroke-width:2.0px;stroke-linecap:butt;stroke-linejoin:miter;stroke-opacity:1;\"/>\n",
       "<path d=\"M 303.4,69.7 L 303.0,69.9 L 302.7,69.6\" style=\"fill:none;stroke:#000000;stroke-width:2.0px;stroke-linecap:butt;stroke-linejoin:miter;stroke-opacity:1;\"/>\n",
       "<path d=\"M 317.2,69.9 L 316.9,70.1 L 316.5,69.9\" style=\"fill:none;stroke:#000000;stroke-width:2.0px;stroke-linecap:butt;stroke-linejoin:miter;stroke-opacity:1;\"/>\n",
       "<path d=\"M 323.5,66.5 L 323.8,66.3 L 324.2,66.5\" style=\"fill:none;stroke:#000000;stroke-width:2.0px;stroke-linecap:butt;stroke-linejoin:miter;stroke-opacity:1;\"/>\n",
       "<path d=\"M 337.3,66.7 L 337.7,66.5 L 338.0,66.7\" style=\"fill:none;stroke:#000000;stroke-width:2.0px;stroke-linecap:butt;stroke-linejoin:miter;stroke-opacity:1;\"/>\n",
       "<path d=\"M 331.0,70.2 L 330.7,70.4 L 330.3,70.2\" style=\"fill:none;stroke:#000000;stroke-width:2.0px;stroke-linecap:butt;stroke-linejoin:miter;stroke-opacity:1;\"/>\n",
       "<path d=\"M 351.1,67.0 L 351.5,66.8 L 351.8,67.0\" style=\"fill:none;stroke:#000000;stroke-width:2.0px;stroke-linecap:butt;stroke-linejoin:miter;stroke-opacity:1;\"/>\n",
       "<path d=\"M 344.8,70.5 L 344.5,70.7 L 344.1,70.5\" style=\"fill:none;stroke:#000000;stroke-width:2.0px;stroke-linecap:butt;stroke-linejoin:miter;stroke-opacity:1;\"/>\n",
       "<path d=\"M 365.0,67.3 L 365.3,67.1 L 365.6,67.3\" style=\"fill:none;stroke:#000000;stroke-width:2.0px;stroke-linecap:butt;stroke-linejoin:miter;stroke-opacity:1;\"/>\n",
       "<path d=\"M 358.7,70.7 L 358.3,70.9 L 358.0,70.7\" style=\"fill:none;stroke:#000000;stroke-width:2.0px;stroke-linecap:butt;stroke-linejoin:miter;stroke-opacity:1;\"/>\n",
       "<path d=\"M 372.5,71.0 L 372.1,71.2 L 371.8,71.0\" style=\"fill:none;stroke:#000000;stroke-width:2.0px;stroke-linecap:butt;stroke-linejoin:miter;stroke-opacity:1;\"/>\n",
       "<path d=\"M 378.8,67.6 L 379.1,67.4 L 379.5,67.6\" style=\"fill:none;stroke:#000000;stroke-width:2.0px;stroke-linecap:butt;stroke-linejoin:miter;stroke-opacity:1;\"/>\n",
       "<path d=\"M 386.3,71.3 L 386.0,71.5 L 385.6,71.3\" style=\"fill:none;stroke:#000000;stroke-width:2.0px;stroke-linecap:butt;stroke-linejoin:miter;stroke-opacity:1;\"/>\n",
       "<path d=\"M 392.6,67.8 L 392.9,67.6 L 393.3,67.8\" style=\"fill:none;stroke:#000000;stroke-width:2.0px;stroke-linecap:butt;stroke-linejoin:miter;stroke-opacity:1;\"/>\n",
       "<path d=\"M 400.1,71.6 L 399.8,71.8 L 399.4,71.5\" style=\"fill:none;stroke:#000000;stroke-width:2.0px;stroke-linecap:butt;stroke-linejoin:miter;stroke-opacity:1;\"/>\n",
       "<path d=\"M 406.4,68.1 L 406.8,67.9 L 407.1,68.1\" style=\"fill:none;stroke:#000000;stroke-width:2.0px;stroke-linecap:butt;stroke-linejoin:miter;stroke-opacity:1;\"/>\n",
       "<path d=\"M 420.2,68.4 L 420.6,68.2 L 420.8,68.3\" style=\"fill:none;stroke:#000000;stroke-width:2.0px;stroke-linecap:butt;stroke-linejoin:miter;stroke-opacity:1;\"/>\n",
       "<path d=\"M 413.9,71.8 L 413.6,72.0 L 413.2,71.8\" style=\"fill:none;stroke:#000000;stroke-width:2.0px;stroke-linecap:butt;stroke-linejoin:miter;stroke-opacity:1;\"/>\n",
       "<path class=\"atom-0\" d=\"M 45.4 98.6 L 47.9 98.6 L 47.9 99.1 L 46.0 99.1 L 46.0 100.4 L 47.7 100.4 L 47.7 100.9 L 46.0 100.9 L 46.0 102.9 L 45.4 102.9 L 45.4 98.6 \" fill=\"#33CCCC\"/>\n",
       "<path class=\"atom-50\" d=\"M 114.1 86.1 Q 114.1 85.1, 114.6 84.6 Q 115.1 84.0, 116.1 84.0 Q 117.0 84.0, 117.5 84.6 Q 118.0 85.1, 118.0 86.1 Q 118.0 87.2, 117.5 87.8 Q 117.0 88.3, 116.1 88.3 Q 115.1 88.3, 114.6 87.8 Q 114.1 87.2, 114.1 86.1 M 116.1 87.9 Q 116.7 87.9, 117.1 87.4 Q 117.4 87.0, 117.4 86.1 Q 117.4 85.3, 117.1 84.9 Q 116.7 84.5, 116.1 84.5 Q 115.4 84.5, 115.1 84.9 Q 114.7 85.3, 114.7 86.1 Q 114.7 87.0, 115.1 87.4 Q 115.4 87.9, 116.1 87.9 \" fill=\"#FF0000\"/>\n",
       "<path class=\"atom-53\" d=\"M 170.9 61.2 L 172.3 63.4 Q 172.4 63.6, 172.6 64.0 Q 172.9 64.4, 172.9 64.5 L 172.9 61.2 L 173.4 61.2 L 173.4 65.4 L 172.9 65.4 L 171.4 62.9 Q 171.2 62.7, 171.0 62.3 Q 170.8 62.0, 170.8 61.9 L 170.8 65.4 L 170.2 65.4 L 170.2 61.2 L 170.9 61.2 \" fill=\"#0000FF\"/>\n",
       "<path class=\"atom-53\" d=\"M 170.2 56.5 L 170.7 56.5 L 170.7 58.3 L 172.9 58.3 L 172.9 56.5 L 173.5 56.5 L 173.5 60.7 L 172.9 60.7 L 172.9 58.8 L 170.7 58.8 L 170.7 60.7 L 170.2 60.7 L 170.2 56.5 \" fill=\"#0000FF\"/>\n",
       "<path class=\"atom-90\" d=\"M 425.7 70.2 L 426.3 70.2 L 426.3 72.0 L 428.5 72.0 L 428.5 70.2 L 429.1 70.2 L 429.1 74.4 L 428.5 74.4 L 428.5 72.5 L 426.3 72.5 L 426.3 74.4 L 425.7 74.4 L 425.7 70.2 \" fill=\"#000000\"/>\n",
       "<path class=\"atom-90\" d=\"M 430.3,72.3 L 430.3,72.3 L 430.3,72.4 L 430.3,72.4 L 430.3,72.4 L 430.2,72.4 L 430.2,72.4 L 430.2,72.5 L 430.2,72.5 L 430.2,72.5 L 430.2,72.5 L 430.1,72.5 L 430.1,72.6 L 430.1,72.6 L 430.1,72.6 L 430.1,72.6 L 430.0,72.6 L 430.0,72.6 L 430.0,72.6 L 430.0,72.6 L 429.9,72.6 L 429.9,72.6 L 429.9,72.6 L 429.9,72.6 L 429.8,72.6 L 429.8,72.5 L 429.8,72.5 L 429.8,72.5 L 429.7,72.5 L 429.7,72.5 L 429.7,72.5 L 429.7,72.4 L 429.7,72.4 L 429.7,72.4 L 429.7,72.4 L 429.7,72.3 L 429.7,72.3 L 429.7,72.3 L 429.7,72.3 L 429.7,72.2 L 429.7,72.2 L 429.7,72.2 L 429.7,72.2 L 429.7,72.1 L 429.7,72.1 L 429.7,72.1 L 429.8,72.1 L 429.8,72.1 L 429.8,72.0 L 429.8,72.0 L 429.9,72.0 L 429.9,72.0 L 429.9,72.0 L 429.9,72.0 L 430.0,72.0 L 430.0,72.0 L 430.0,72.0 L 430.0,72.0 L 430.1,72.0 L 430.1,72.0 L 430.1,72.0 L 430.1,72.0 L 430.1,72.1 L 430.2,72.1 L 430.2,72.1 L 430.2,72.1 L 430.2,72.1 L 430.2,72.2 L 430.2,72.2 L 430.3,72.2 L 430.3,72.2 L 430.3,72.2 L 430.3,72.3 L 430.3,72.3 L 430.0,72.3 Z\" style=\"fill:#000000;fill-rule:evenodd;fill-opacity:1;stroke:#000000;stroke-width:0.0px;stroke-linecap:butt;stroke-linejoin:miter;stroke-opacity:1;\"/>\n",
       "</svg>"
      ],
      "text/plain": [
       "<IPython.core.display.SVG object>"
      ]
     },
     "execution_count": 46,
     "metadata": {},
     "output_type": "execute_result"
    }
   ],
   "source": [
    "big = \"F{[<] [<|3|]CC[>|3|],[<]C([>])c1ccccc1, [<|0.5|]CCC(C[>|0.1|])CC[>|0.5|]; [<]COC, [>][H] [>]}|uniform(500,1000)|CN{[$][$]CC[$][$]}|uniform(400,500)|[H]\"\n",
    "big_smiles_gen(big)"
   ]
  },
  {
   "cell_type": "code",
   "execution_count": 47,
   "id": "950f5c7b",
   "metadata": {},
   "outputs": [
    {
     "name": "stdout",
     "output_type": "stream",
     "text": [
      "[H]CCCCCCCCCCCCCCCCCCCCCCCCCCCCCCCCCCCCCCCCNCC(CCC(CCOC)CCC(CCCCC(c1ccccc1)C(c1ccccc1)C(CCCCCCCCCCCCCCCCCCCCCCF)c1ccccc1)c1ccccc1)c1ccccc1\n",
      "7.782358859283743e-09\n",
      "24\n"
     ]
    },
    {
     "data": {
      "image/svg+xml": [
       "<svg xmlns=\"http://www.w3.org/2000/svg\" xmlns:rdkit=\"http://www.rdkit.org/xml\" xmlns:xlink=\"http://www.w3.org/1999/xlink\" version=\"1.1\" baseProfile=\"full\" xml:space=\"preserve\" width=\"450px\" height=\"150px\" viewBox=\"0 0 450 150\">\n",
       "<!-- END OF HEADER -->\n",
       "<rect style=\"opacity:1.0;fill:#FFFFFF;stroke:none\" width=\"450.0\" height=\"150.0\" x=\"0.0\" y=\"0.0\"> </rect>\n",
       "<path class=\"bond-0 atom-1 atom-2\" d=\"M 30.9,82.4 L 25.8,79.2\" style=\"fill:none;fill-rule:evenodd;stroke:#000000;stroke-width:2.0px;stroke-linecap:butt;stroke-linejoin:miter;stroke-opacity:1\"/>\n",
       "<path class=\"bond-1 atom-0 atom-2\" d=\"M 22.0,81.3 L 23.9,80.3\" style=\"fill:none;fill-rule:evenodd;stroke:#33CCCC;stroke-width:2.0px;stroke-linecap:butt;stroke-linejoin:miter;stroke-opacity:1\"/>\n",
       "<path class=\"bond-1 atom-0 atom-2\" d=\"M 23.9,80.3 L 25.8,79.2\" style=\"fill:none;fill-rule:evenodd;stroke:#000000;stroke-width:2.0px;stroke-linecap:butt;stroke-linejoin:miter;stroke-opacity:1\"/>\n",
       "<path class=\"bond-2 atom-3 atom-4\" d=\"M 41.4,82.6 L 36.2,79.5\" style=\"fill:none;fill-rule:evenodd;stroke:#000000;stroke-width:2.0px;stroke-linecap:butt;stroke-linejoin:miter;stroke-opacity:1\"/>\n",
       "<path class=\"bond-3 atom-1 atom-4\" d=\"M 30.9,82.4 L 36.2,79.5\" style=\"fill:none;fill-rule:evenodd;stroke:#000000;stroke-width:2.0px;stroke-linecap:butt;stroke-linejoin:miter;stroke-opacity:1\"/>\n",
       "<path class=\"bond-4 atom-5 atom-6\" d=\"M 51.8,82.8 L 46.7,79.7\" style=\"fill:none;fill-rule:evenodd;stroke:#000000;stroke-width:2.0px;stroke-linecap:butt;stroke-linejoin:miter;stroke-opacity:1\"/>\n",
       "<path class=\"bond-5 atom-3 atom-6\" d=\"M 41.4,82.6 L 46.7,79.7\" style=\"fill:none;fill-rule:evenodd;stroke:#000000;stroke-width:2.0px;stroke-linecap:butt;stroke-linejoin:miter;stroke-opacity:1\"/>\n",
       "<path class=\"bond-6 atom-7 atom-8\" d=\"M 62.3,83.1 L 57.1,79.9\" style=\"fill:none;fill-rule:evenodd;stroke:#000000;stroke-width:2.0px;stroke-linecap:butt;stroke-linejoin:miter;stroke-opacity:1\"/>\n",
       "<path class=\"bond-7 atom-5 atom-8\" d=\"M 51.8,82.8 L 57.1,79.9\" style=\"fill:none;fill-rule:evenodd;stroke:#000000;stroke-width:2.0px;stroke-linecap:butt;stroke-linejoin:miter;stroke-opacity:1\"/>\n",
       "<path class=\"bond-8 atom-9 atom-10\" d=\"M 72.7,83.3 L 67.6,80.2\" style=\"fill:none;fill-rule:evenodd;stroke:#000000;stroke-width:2.0px;stroke-linecap:butt;stroke-linejoin:miter;stroke-opacity:1\"/>\n",
       "<path class=\"bond-9 atom-7 atom-10\" d=\"M 62.3,83.1 L 67.6,80.2\" style=\"fill:none;fill-rule:evenodd;stroke:#000000;stroke-width:2.0px;stroke-linecap:butt;stroke-linejoin:miter;stroke-opacity:1\"/>\n",
       "<path class=\"bond-10 atom-11 atom-12\" d=\"M 83.2,83.5 L 78.0,80.4\" style=\"fill:none;fill-rule:evenodd;stroke:#000000;stroke-width:2.0px;stroke-linecap:butt;stroke-linejoin:miter;stroke-opacity:1\"/>\n",
       "<path class=\"bond-11 atom-9 atom-12\" d=\"M 72.7,83.3 L 78.0,80.4\" style=\"fill:none;fill-rule:evenodd;stroke:#000000;stroke-width:2.0px;stroke-linecap:butt;stroke-linejoin:miter;stroke-opacity:1\"/>\n",
       "<path class=\"bond-12 atom-13 atom-14\" d=\"M 93.6,83.7 L 88.4,80.6\" style=\"fill:none;fill-rule:evenodd;stroke:#000000;stroke-width:2.0px;stroke-linecap:butt;stroke-linejoin:miter;stroke-opacity:1\"/>\n",
       "<path class=\"bond-13 atom-11 atom-14\" d=\"M 83.2,83.5 L 88.4,80.6\" style=\"fill:none;fill-rule:evenodd;stroke:#000000;stroke-width:2.0px;stroke-linecap:butt;stroke-linejoin:miter;stroke-opacity:1\"/>\n",
       "<path class=\"bond-14 atom-15 atom-16\" d=\"M 104.0,84.0 L 98.9,80.9\" style=\"fill:none;fill-rule:evenodd;stroke:#000000;stroke-width:2.0px;stroke-linecap:butt;stroke-linejoin:miter;stroke-opacity:1\"/>\n",
       "<path class=\"bond-15 atom-13 atom-16\" d=\"M 93.6,83.7 L 98.9,80.9\" style=\"fill:none;fill-rule:evenodd;stroke:#000000;stroke-width:2.0px;stroke-linecap:butt;stroke-linejoin:miter;stroke-opacity:1\"/>\n",
       "<path class=\"bond-16 atom-17 atom-18\" d=\"M 114.5,84.2 L 109.3,81.1\" style=\"fill:none;fill-rule:evenodd;stroke:#000000;stroke-width:2.0px;stroke-linecap:butt;stroke-linejoin:miter;stroke-opacity:1\"/>\n",
       "<path class=\"bond-17 atom-15 atom-18\" d=\"M 104.0,84.0 L 109.3,81.1\" style=\"fill:none;fill-rule:evenodd;stroke:#000000;stroke-width:2.0px;stroke-linecap:butt;stroke-linejoin:miter;stroke-opacity:1\"/>\n",
       "<path class=\"bond-18 atom-19 atom-20\" d=\"M 124.9,84.4 L 119.8,81.3\" style=\"fill:none;fill-rule:evenodd;stroke:#000000;stroke-width:2.0px;stroke-linecap:butt;stroke-linejoin:miter;stroke-opacity:1\"/>\n",
       "<path class=\"bond-19 atom-17 atom-20\" d=\"M 114.5,84.2 L 119.8,81.3\" style=\"fill:none;fill-rule:evenodd;stroke:#000000;stroke-width:2.0px;stroke-linecap:butt;stroke-linejoin:miter;stroke-opacity:1\"/>\n",
       "<path class=\"bond-20 atom-21 atom-22\" d=\"M 135.4,84.7 L 130.2,81.5\" style=\"fill:none;fill-rule:evenodd;stroke:#000000;stroke-width:2.0px;stroke-linecap:butt;stroke-linejoin:miter;stroke-opacity:1\"/>\n",
       "<path class=\"bond-21 atom-19 atom-22\" d=\"M 124.9,84.4 L 130.2,81.5\" style=\"fill:none;fill-rule:evenodd;stroke:#000000;stroke-width:2.0px;stroke-linecap:butt;stroke-linejoin:miter;stroke-opacity:1\"/>\n",
       "<path class=\"bond-22 atom-23 atom-24\" d=\"M 140.6,81.8 L 145.8,84.9\" style=\"fill:none;fill-rule:evenodd;stroke:#000000;stroke-width:2.0px;stroke-linecap:butt;stroke-linejoin:miter;stroke-opacity:1\"/>\n",
       "<path class=\"bond-23 atom-24 atom-25\" d=\"M 145.8,84.9 L 151.1,82.0\" style=\"fill:none;fill-rule:evenodd;stroke:#000000;stroke-width:2.0px;stroke-linecap:butt;stroke-linejoin:miter;stroke-opacity:1\"/>\n",
       "<path class=\"bond-23 atom-24 atom-25\" d=\"M 146.7,85.5 L 151.1,83.1\" style=\"fill:none;fill-rule:evenodd;stroke:#000000;stroke-width:2.0px;stroke-linecap:butt;stroke-linejoin:miter;stroke-opacity:1\"/>\n",
       "<path class=\"bond-24 atom-25 atom-26\" d=\"M 151.1,82.0 L 156.2,85.1\" style=\"fill:none;fill-rule:evenodd;stroke:#000000;stroke-width:2.0px;stroke-linecap:butt;stroke-linejoin:miter;stroke-opacity:1\"/>\n",
       "<path class=\"bond-25 atom-26 atom-27\" d=\"M 156.2,85.1 L 156.1,91.2\" style=\"fill:none;fill-rule:evenodd;stroke:#000000;stroke-width:2.0px;stroke-linecap:butt;stroke-linejoin:miter;stroke-opacity:1\"/>\n",
       "<path class=\"bond-25 atom-26 atom-27\" d=\"M 155.3,85.6 L 155.2,90.6\" style=\"fill:none;fill-rule:evenodd;stroke:#000000;stroke-width:2.0px;stroke-linecap:butt;stroke-linejoin:miter;stroke-opacity:1\"/>\n",
       "<path class=\"bond-26 atom-27 atom-28\" d=\"M 156.1,91.2 L 150.8,94.1\" style=\"fill:none;fill-rule:evenodd;stroke:#000000;stroke-width:2.0px;stroke-linecap:butt;stroke-linejoin:miter;stroke-opacity:1\"/>\n",
       "<path class=\"bond-27 atom-28 atom-29\" d=\"M 150.8,94.1 L 145.7,90.9\" style=\"fill:none;fill-rule:evenodd;stroke:#000000;stroke-width:2.0px;stroke-linecap:butt;stroke-linejoin:miter;stroke-opacity:1\"/>\n",
       "<path class=\"bond-27 atom-28 atom-29\" d=\"M 150.8,93.0 L 146.6,90.4\" style=\"fill:none;fill-rule:evenodd;stroke:#000000;stroke-width:2.0px;stroke-linecap:butt;stroke-linejoin:miter;stroke-opacity:1\"/>\n",
       "<path class=\"bond-28 atom-29 atom-24\" d=\"M 145.7,90.9 L 145.8,84.9\" style=\"fill:none;fill-rule:evenodd;stroke:#000000;stroke-width:2.0px;stroke-linecap:butt;stroke-linejoin:miter;stroke-opacity:1\"/>\n",
       "<path class=\"bond-29 atom-21 atom-23\" d=\"M 135.4,84.7 L 140.6,81.8\" style=\"fill:none;fill-rule:evenodd;stroke:#000000;stroke-width:2.0px;stroke-linecap:butt;stroke-linejoin:miter;stroke-opacity:1\"/>\n",
       "<path class=\"bond-30 atom-30 atom-31\" d=\"M 140.8,75.8 L 135.6,72.6\" style=\"fill:none;fill-rule:evenodd;stroke:#000000;stroke-width:2.0px;stroke-linecap:butt;stroke-linejoin:miter;stroke-opacity:1\"/>\n",
       "<path class=\"bond-31 atom-31 atom-32\" d=\"M 135.6,72.6 L 130.3,75.5\" style=\"fill:none;fill-rule:evenodd;stroke:#000000;stroke-width:2.0px;stroke-linecap:butt;stroke-linejoin:miter;stroke-opacity:1\"/>\n",
       "<path class=\"bond-31 atom-31 atom-32\" d=\"M 134.7,72.1 L 130.4,74.5\" style=\"fill:none;fill-rule:evenodd;stroke:#000000;stroke-width:2.0px;stroke-linecap:butt;stroke-linejoin:miter;stroke-opacity:1\"/>\n",
       "<path class=\"bond-32 atom-32 atom-33\" d=\"M 130.3,75.5 L 125.2,72.4\" style=\"fill:none;fill-rule:evenodd;stroke:#000000;stroke-width:2.0px;stroke-linecap:butt;stroke-linejoin:miter;stroke-opacity:1\"/>\n",
       "<path class=\"bond-33 atom-33 atom-34\" d=\"M 125.2,72.4 L 125.3,66.4\" style=\"fill:none;fill-rule:evenodd;stroke:#000000;stroke-width:2.0px;stroke-linecap:butt;stroke-linejoin:miter;stroke-opacity:1\"/>\n",
       "<path class=\"bond-33 atom-33 atom-34\" d=\"M 126.1,71.9 L 126.2,66.9\" style=\"fill:none;fill-rule:evenodd;stroke:#000000;stroke-width:2.0px;stroke-linecap:butt;stroke-linejoin:miter;stroke-opacity:1\"/>\n",
       "<path class=\"bond-34 atom-34 atom-35\" d=\"M 125.3,66.4 L 130.6,63.5\" style=\"fill:none;fill-rule:evenodd;stroke:#000000;stroke-width:2.0px;stroke-linecap:butt;stroke-linejoin:miter;stroke-opacity:1\"/>\n",
       "<path class=\"bond-35 atom-35 atom-36\" d=\"M 130.6,63.5 L 135.8,66.6\" style=\"fill:none;fill-rule:evenodd;stroke:#000000;stroke-width:2.0px;stroke-linecap:butt;stroke-linejoin:miter;stroke-opacity:1\"/>\n",
       "<path class=\"bond-35 atom-35 atom-36\" d=\"M 130.6,64.5 L 134.8,67.1\" style=\"fill:none;fill-rule:evenodd;stroke:#000000;stroke-width:2.0px;stroke-linecap:butt;stroke-linejoin:miter;stroke-opacity:1\"/>\n",
       "<path class=\"bond-36 atom-36 atom-31\" d=\"M 135.8,66.6 L 135.6,72.6\" style=\"fill:none;fill-rule:evenodd;stroke:#000000;stroke-width:2.0px;stroke-linecap:butt;stroke-linejoin:miter;stroke-opacity:1\"/>\n",
       "<path class=\"bond-37 atom-23 atom-30\" d=\"M 140.6,81.8 L 140.8,75.8\" style=\"fill:none;fill-rule:evenodd;stroke:#000000;stroke-width:2.0px;stroke-linecap:butt;stroke-linejoin:miter;stroke-opacity:1\"/>\n",
       "<path class=\"bond-38 atom-37 atom-38\" d=\"M 146.1,72.9 L 146.2,66.8\" style=\"fill:none;fill-rule:evenodd;stroke:#000000;stroke-width:2.0px;stroke-linecap:butt;stroke-linejoin:miter;stroke-opacity:1\"/>\n",
       "<path class=\"bond-39 atom-38 atom-39\" d=\"M 146.2,66.8 L 151.5,63.9\" style=\"fill:none;fill-rule:evenodd;stroke:#000000;stroke-width:2.0px;stroke-linecap:butt;stroke-linejoin:miter;stroke-opacity:1\"/>\n",
       "<path class=\"bond-39 atom-38 atom-39\" d=\"M 146.2,65.8 L 150.6,63.4\" style=\"fill:none;fill-rule:evenodd;stroke:#000000;stroke-width:2.0px;stroke-linecap:butt;stroke-linejoin:miter;stroke-opacity:1\"/>\n",
       "<path class=\"bond-40 atom-39 atom-40\" d=\"M 151.5,63.9 L 151.6,57.9\" style=\"fill:none;fill-rule:evenodd;stroke:#000000;stroke-width:2.0px;stroke-linecap:butt;stroke-linejoin:miter;stroke-opacity:1\"/>\n",
       "<path class=\"bond-41 atom-40 atom-41\" d=\"M 151.6,57.9 L 146.5,54.8\" style=\"fill:none;fill-rule:evenodd;stroke:#000000;stroke-width:2.0px;stroke-linecap:butt;stroke-linejoin:miter;stroke-opacity:1\"/>\n",
       "<path class=\"bond-41 atom-40 atom-41\" d=\"M 150.7,58.4 L 146.4,55.8\" style=\"fill:none;fill-rule:evenodd;stroke:#000000;stroke-width:2.0px;stroke-linecap:butt;stroke-linejoin:miter;stroke-opacity:1\"/>\n",
       "<path class=\"bond-42 atom-41 atom-42\" d=\"M 146.5,54.8 L 141.2,57.7\" style=\"fill:none;fill-rule:evenodd;stroke:#000000;stroke-width:2.0px;stroke-linecap:butt;stroke-linejoin:miter;stroke-opacity:1\"/>\n",
       "<path class=\"bond-43 atom-42 atom-43\" d=\"M 141.2,57.7 L 141.0,63.7\" style=\"fill:none;fill-rule:evenodd;stroke:#000000;stroke-width:2.0px;stroke-linecap:butt;stroke-linejoin:miter;stroke-opacity:1\"/>\n",
       "<path class=\"bond-43 atom-42 atom-43\" d=\"M 142.1,58.2 L 142.0,63.2\" style=\"fill:none;fill-rule:evenodd;stroke:#000000;stroke-width:2.0px;stroke-linecap:butt;stroke-linejoin:miter;stroke-opacity:1\"/>\n",
       "<path class=\"bond-44 atom-43 atom-38\" d=\"M 141.0,63.7 L 146.2,66.8\" style=\"fill:none;fill-rule:evenodd;stroke:#000000;stroke-width:2.0px;stroke-linecap:butt;stroke-linejoin:miter;stroke-opacity:1\"/>\n",
       "<path class=\"bond-45 atom-30 atom-37\" d=\"M 140.8,75.8 L 146.1,72.9\" style=\"fill:none;fill-rule:evenodd;stroke:#000000;stroke-width:2.0px;stroke-linecap:butt;stroke-linejoin:miter;stroke-opacity:1\"/>\n",
       "<path class=\"bond-46 atom-44 atom-45\" d=\"M 156.5,73.1 L 151.2,76.0\" style=\"fill:none;fill-rule:evenodd;stroke:#000000;stroke-width:2.0px;stroke-linecap:butt;stroke-linejoin:miter;stroke-opacity:1\"/>\n",
       "<path class=\"bond-47 atom-37 atom-45\" d=\"M 146.1,72.9 L 151.2,76.0\" style=\"fill:none;fill-rule:evenodd;stroke:#000000;stroke-width:2.0px;stroke-linecap:butt;stroke-linejoin:miter;stroke-opacity:1\"/>\n",
       "<path class=\"bond-48 atom-46 atom-47\" d=\"M 166.9,73.3 L 161.7,76.2\" style=\"fill:none;fill-rule:evenodd;stroke:#000000;stroke-width:2.0px;stroke-linecap:butt;stroke-linejoin:miter;stroke-opacity:1\"/>\n",
       "<path class=\"bond-49 atom-44 atom-47\" d=\"M 156.5,73.1 L 161.7,76.2\" style=\"fill:none;fill-rule:evenodd;stroke:#000000;stroke-width:2.0px;stroke-linecap:butt;stroke-linejoin:miter;stroke-opacity:1\"/>\n",
       "<path class=\"bond-50 atom-48 atom-49\" d=\"M 172.1,76.4 L 172.0,82.5\" style=\"fill:none;fill-rule:evenodd;stroke:#000000;stroke-width:2.0px;stroke-linecap:butt;stroke-linejoin:miter;stroke-opacity:1\"/>\n",
       "<path class=\"bond-51 atom-49 atom-50\" d=\"M 172.0,82.5 L 166.7,85.4\" style=\"fill:none;fill-rule:evenodd;stroke:#000000;stroke-width:2.0px;stroke-linecap:butt;stroke-linejoin:miter;stroke-opacity:1\"/>\n",
       "<path class=\"bond-51 atom-49 atom-50\" d=\"M 171.9,83.5 L 167.6,85.9\" style=\"fill:none;fill-rule:evenodd;stroke:#000000;stroke-width:2.0px;stroke-linecap:butt;stroke-linejoin:miter;stroke-opacity:1\"/>\n",
       "<path class=\"bond-52 atom-50 atom-51\" d=\"M 166.7,85.4 L 166.5,91.4\" style=\"fill:none;fill-rule:evenodd;stroke:#000000;stroke-width:2.0px;stroke-linecap:butt;stroke-linejoin:miter;stroke-opacity:1\"/>\n",
       "<path class=\"bond-53 atom-51 atom-52\" d=\"M 166.5,91.4 L 171.7,94.5\" style=\"fill:none;fill-rule:evenodd;stroke:#000000;stroke-width:2.0px;stroke-linecap:butt;stroke-linejoin:miter;stroke-opacity:1\"/>\n",
       "<path class=\"bond-53 atom-51 atom-52\" d=\"M 167.5,90.9 L 171.7,93.5\" style=\"fill:none;fill-rule:evenodd;stroke:#000000;stroke-width:2.0px;stroke-linecap:butt;stroke-linejoin:miter;stroke-opacity:1\"/>\n",
       "<path class=\"bond-54 atom-52 atom-53\" d=\"M 171.7,94.5 L 177.0,91.6\" style=\"fill:none;fill-rule:evenodd;stroke:#000000;stroke-width:2.0px;stroke-linecap:butt;stroke-linejoin:miter;stroke-opacity:1\"/>\n",
       "<path class=\"bond-55 atom-53 atom-54\" d=\"M 177.0,91.6 L 177.1,85.6\" style=\"fill:none;fill-rule:evenodd;stroke:#000000;stroke-width:2.0px;stroke-linecap:butt;stroke-linejoin:miter;stroke-opacity:1\"/>\n",
       "<path class=\"bond-55 atom-53 atom-54\" d=\"M 176.1,91.1 L 176.2,86.1\" style=\"fill:none;fill-rule:evenodd;stroke:#000000;stroke-width:2.0px;stroke-linecap:butt;stroke-linejoin:miter;stroke-opacity:1\"/>\n",
       "<path class=\"bond-56 atom-54 atom-49\" d=\"M 177.1,85.6 L 172.0,82.5\" style=\"fill:none;fill-rule:evenodd;stroke:#000000;stroke-width:2.0px;stroke-linecap:butt;stroke-linejoin:miter;stroke-opacity:1\"/>\n",
       "<path class=\"bond-57 atom-46 atom-48\" d=\"M 166.9,73.3 L 172.1,76.4\" style=\"fill:none;fill-rule:evenodd;stroke:#000000;stroke-width:2.0px;stroke-linecap:butt;stroke-linejoin:miter;stroke-opacity:1\"/>\n",
       "<path class=\"bond-58 atom-55 atom-56\" d=\"M 198.3,74.0 L 193.0,76.9\" style=\"fill:none;fill-rule:evenodd;stroke:#000000;stroke-width:2.0px;stroke-linecap:butt;stroke-linejoin:miter;stroke-opacity:1\"/>\n",
       "<path class=\"bond-59 atom-56 atom-57\" d=\"M 193.0,76.9 L 187.8,73.8\" style=\"fill:none;fill-rule:evenodd;stroke:#000000;stroke-width:2.0px;stroke-linecap:butt;stroke-linejoin:miter;stroke-opacity:1\"/>\n",
       "<path class=\"bond-60 atom-57 atom-58\" d=\"M 187.8,73.8 L 188.0,67.8\" style=\"fill:none;fill-rule:evenodd;stroke:#000000;stroke-width:2.0px;stroke-linecap:butt;stroke-linejoin:miter;stroke-opacity:1\"/>\n",
       "<path class=\"bond-61 atom-57 atom-59\" d=\"M 187.8,73.8 L 182.5,76.7\" style=\"fill:none;fill-rule:evenodd;stroke:#000000;stroke-width:2.0px;stroke-linecap:butt;stroke-linejoin:miter;stroke-opacity:1\"/>\n",
       "<path class=\"bond-62 atom-59 atom-60\" d=\"M 182.5,76.7 L 177.4,73.6\" style=\"fill:none;fill-rule:evenodd;stroke:#000000;stroke-width:2.0px;stroke-linecap:butt;stroke-linejoin:miter;stroke-opacity:1\"/>\n",
       "<path class=\"bond-63 atom-48 atom-60\" d=\"M 172.1,76.4 L 177.4,73.6\" style=\"fill:none;fill-rule:evenodd;stroke:#000000;stroke-width:2.0px;stroke-linecap:butt;stroke-linejoin:miter;stroke-opacity:1\"/>\n",
       "<path class=\"bond-64 atom-61 atom-62\" d=\"M 203.4,77.1 L 203.3,83.2\" style=\"fill:none;fill-rule:evenodd;stroke:#000000;stroke-width:2.0px;stroke-linecap:butt;stroke-linejoin:miter;stroke-opacity:1\"/>\n",
       "<path class=\"bond-65 atom-62 atom-63\" d=\"M 203.3,83.2 L 198.0,86.1\" style=\"fill:none;fill-rule:evenodd;stroke:#000000;stroke-width:2.0px;stroke-linecap:butt;stroke-linejoin:miter;stroke-opacity:1\"/>\n",
       "<path class=\"bond-65 atom-62 atom-63\" d=\"M 203.3,84.2 L 198.9,86.6\" style=\"fill:none;fill-rule:evenodd;stroke:#000000;stroke-width:2.0px;stroke-linecap:butt;stroke-linejoin:miter;stroke-opacity:1\"/>\n",
       "<path class=\"bond-66 atom-63 atom-64\" d=\"M 198.0,86.1 L 197.9,92.1\" style=\"fill:none;fill-rule:evenodd;stroke:#000000;stroke-width:2.0px;stroke-linecap:butt;stroke-linejoin:miter;stroke-opacity:1\"/>\n",
       "<path class=\"bond-67 atom-64 atom-65\" d=\"M 197.9,92.1 L 203.0,95.2\" style=\"fill:none;fill-rule:evenodd;stroke:#000000;stroke-width:2.0px;stroke-linecap:butt;stroke-linejoin:miter;stroke-opacity:1\"/>\n",
       "<path class=\"bond-67 atom-64 atom-65\" d=\"M 198.8,91.6 L 203.0,94.2\" style=\"fill:none;fill-rule:evenodd;stroke:#000000;stroke-width:2.0px;stroke-linecap:butt;stroke-linejoin:miter;stroke-opacity:1\"/>\n",
       "<path class=\"bond-68 atom-65 atom-66\" d=\"M 203.0,95.2 L 208.3,92.3\" style=\"fill:none;fill-rule:evenodd;stroke:#000000;stroke-width:2.0px;stroke-linecap:butt;stroke-linejoin:miter;stroke-opacity:1\"/>\n",
       "<path class=\"bond-69 atom-66 atom-67\" d=\"M 208.3,92.3 L 208.4,86.3\" style=\"fill:none;fill-rule:evenodd;stroke:#000000;stroke-width:2.0px;stroke-linecap:butt;stroke-linejoin:miter;stroke-opacity:1\"/>\n",
       "<path class=\"bond-69 atom-66 atom-67\" d=\"M 207.4,91.8 L 207.5,86.8\" style=\"fill:none;fill-rule:evenodd;stroke:#000000;stroke-width:2.0px;stroke-linecap:butt;stroke-linejoin:miter;stroke-opacity:1\"/>\n",
       "<path class=\"bond-70 atom-67 atom-62\" d=\"M 208.4,86.3 L 203.3,83.2\" style=\"fill:none;fill-rule:evenodd;stroke:#000000;stroke-width:2.0px;stroke-linecap:butt;stroke-linejoin:miter;stroke-opacity:1\"/>\n",
       "<path class=\"bond-71 atom-55 atom-61\" d=\"M 198.3,74.0 L 203.4,77.1\" style=\"fill:none;fill-rule:evenodd;stroke:#000000;stroke-width:2.0px;stroke-linecap:butt;stroke-linejoin:miter;stroke-opacity:1\"/>\n",
       "<path class=\"bond-72 atom-68 atom-69\" d=\"M 193.3,64.9 L 193.3,63.0\" style=\"fill:none;fill-rule:evenodd;stroke:#000000;stroke-width:2.0px;stroke-linecap:butt;stroke-linejoin:miter;stroke-opacity:1\"/>\n",
       "<path class=\"bond-72 atom-68 atom-69\" d=\"M 193.3,63.0 L 193.3,61.2\" style=\"fill:none;fill-rule:evenodd;stroke:#FF0000;stroke-width:2.0px;stroke-linecap:butt;stroke-linejoin:miter;stroke-opacity:1\"/>\n",
       "<path class=\"bond-73 atom-69 atom-70\" d=\"M 195.5,57.7 L 197.1,56.8\" style=\"fill:none;fill-rule:evenodd;stroke:#FF0000;stroke-width:2.0px;stroke-linecap:butt;stroke-linejoin:miter;stroke-opacity:1\"/>\n",
       "<path class=\"bond-73 atom-69 atom-70\" d=\"M 197.1,56.8 L 198.7,55.9\" style=\"fill:none;fill-rule:evenodd;stroke:#000000;stroke-width:2.0px;stroke-linecap:butt;stroke-linejoin:miter;stroke-opacity:1\"/>\n",
       "<path class=\"bond-74 atom-58 atom-68\" d=\"M 188.0,67.8 L 193.3,64.9\" style=\"fill:none;fill-rule:evenodd;stroke:#000000;stroke-width:2.0px;stroke-linecap:butt;stroke-linejoin:miter;stroke-opacity:1\"/>\n",
       "<path class=\"bond-75 atom-71 atom-72\" d=\"M 208.7,74.2 L 210.4,75.3\" style=\"fill:none;fill-rule:evenodd;stroke:#000000;stroke-width:2.0px;stroke-linecap:butt;stroke-linejoin:miter;stroke-opacity:1\"/>\n",
       "<path class=\"bond-75 atom-71 atom-72\" d=\"M 210.4,75.3 L 212.1,76.3\" style=\"fill:none;fill-rule:evenodd;stroke:#0000FF;stroke-width:2.0px;stroke-linecap:butt;stroke-linejoin:miter;stroke-opacity:1\"/>\n",
       "<path class=\"bond-76 atom-61 atom-71\" d=\"M 203.4,77.1 L 208.7,74.2\" style=\"fill:none;fill-rule:evenodd;stroke:#000000;stroke-width:2.0px;stroke-linecap:butt;stroke-linejoin:miter;stroke-opacity:1\"/>\n",
       "<path class=\"bond-77 atom-73 atom-74\" d=\"M 224.3,77.6 L 219.2,74.5\" style=\"fill:none;fill-rule:evenodd;stroke:#000000;stroke-width:2.0px;stroke-linecap:butt;stroke-linejoin:miter;stroke-opacity:1\"/>\n",
       "<path class=\"bond-78 atom-72 atom-74\" d=\"M 215.7,76.4 L 217.4,75.4\" style=\"fill:none;fill-rule:evenodd;stroke:#0000FF;stroke-width:2.0px;stroke-linecap:butt;stroke-linejoin:miter;stroke-opacity:1\"/>\n",
       "<path class=\"bond-78 atom-72 atom-74\" d=\"M 217.4,75.4 L 219.2,74.5\" style=\"fill:none;fill-rule:evenodd;stroke:#000000;stroke-width:2.0px;stroke-linecap:butt;stroke-linejoin:miter;stroke-opacity:1\"/>\n",
       "<path class=\"bond-79 atom-75 atom-76\" d=\"M 234.7,77.8 L 229.6,74.7\" style=\"fill:none;fill-rule:evenodd;stroke:#000000;stroke-width:2.0px;stroke-linecap:butt;stroke-linejoin:miter;stroke-opacity:1\"/>\n",
       "<path class=\"bond-80 atom-73 atom-76\" d=\"M 224.3,77.6 L 229.6,74.7\" style=\"fill:none;fill-rule:evenodd;stroke:#000000;stroke-width:2.0px;stroke-linecap:butt;stroke-linejoin:miter;stroke-opacity:1\"/>\n",
       "<path class=\"bond-81 atom-77 atom-78\" d=\"M 245.2,78.1 L 240.0,74.9\" style=\"fill:none;fill-rule:evenodd;stroke:#000000;stroke-width:2.0px;stroke-linecap:butt;stroke-linejoin:miter;stroke-opacity:1\"/>\n",
       "<path class=\"bond-82 atom-75 atom-78\" d=\"M 234.7,77.8 L 240.0,74.9\" style=\"fill:none;fill-rule:evenodd;stroke:#000000;stroke-width:2.0px;stroke-linecap:butt;stroke-linejoin:miter;stroke-opacity:1\"/>\n",
       "<path class=\"bond-83 atom-79 atom-80\" d=\"M 255.6,78.3 L 250.5,75.2\" style=\"fill:none;fill-rule:evenodd;stroke:#000000;stroke-width:2.0px;stroke-linecap:butt;stroke-linejoin:miter;stroke-opacity:1\"/>\n",
       "<path class=\"bond-84 atom-77 atom-80\" d=\"M 245.2,78.1 L 250.5,75.2\" style=\"fill:none;fill-rule:evenodd;stroke:#000000;stroke-width:2.0px;stroke-linecap:butt;stroke-linejoin:miter;stroke-opacity:1\"/>\n",
       "<path class=\"bond-85 atom-81 atom-82\" d=\"M 266.1,78.5 L 260.9,75.4\" style=\"fill:none;fill-rule:evenodd;stroke:#000000;stroke-width:2.0px;stroke-linecap:butt;stroke-linejoin:miter;stroke-opacity:1\"/>\n",
       "<path class=\"bond-86 atom-79 atom-82\" d=\"M 255.6,78.3 L 260.9,75.4\" style=\"fill:none;fill-rule:evenodd;stroke:#000000;stroke-width:2.0px;stroke-linecap:butt;stroke-linejoin:miter;stroke-opacity:1\"/>\n",
       "<path class=\"bond-87 atom-83 atom-84\" d=\"M 271.4,75.6 L 276.5,78.8\" style=\"fill:none;fill-rule:evenodd;stroke:#000000;stroke-width:2.0px;stroke-linecap:butt;stroke-linejoin:miter;stroke-opacity:1\"/>\n",
       "<path class=\"bond-88 atom-81 atom-83\" d=\"M 266.1,78.5 L 271.4,75.6\" style=\"fill:none;fill-rule:evenodd;stroke:#000000;stroke-width:2.0px;stroke-linecap:butt;stroke-linejoin:miter;stroke-opacity:1\"/>\n",
       "<path class=\"bond-89 atom-85 atom-86\" d=\"M 281.8,75.9 L 287.0,79.0\" style=\"fill:none;fill-rule:evenodd;stroke:#000000;stroke-width:2.0px;stroke-linecap:butt;stroke-linejoin:miter;stroke-opacity:1\"/>\n",
       "<path class=\"bond-90 atom-84 atom-85\" d=\"M 276.5,78.8 L 281.8,75.9\" style=\"fill:none;fill-rule:evenodd;stroke:#000000;stroke-width:2.0px;stroke-linecap:butt;stroke-linejoin:miter;stroke-opacity:1\"/>\n",
       "<path class=\"bond-91 atom-87 atom-88\" d=\"M 297.4,79.2 L 292.2,76.1\" style=\"fill:none;fill-rule:evenodd;stroke:#000000;stroke-width:2.0px;stroke-linecap:butt;stroke-linejoin:miter;stroke-opacity:1\"/>\n",
       "<path class=\"bond-92 atom-86 atom-88\" d=\"M 287.0,79.0 L 292.2,76.1\" style=\"fill:none;fill-rule:evenodd;stroke:#000000;stroke-width:2.0px;stroke-linecap:butt;stroke-linejoin:miter;stroke-opacity:1\"/>\n",
       "<path class=\"bond-93 atom-89 atom-90\" d=\"M 307.8,79.5 L 302.7,76.3\" style=\"fill:none;fill-rule:evenodd;stroke:#000000;stroke-width:2.0px;stroke-linecap:butt;stroke-linejoin:miter;stroke-opacity:1\"/>\n",
       "<path class=\"bond-94 atom-87 atom-90\" d=\"M 297.4,79.2 L 302.7,76.3\" style=\"fill:none;fill-rule:evenodd;stroke:#000000;stroke-width:2.0px;stroke-linecap:butt;stroke-linejoin:miter;stroke-opacity:1\"/>\n",
       "<path class=\"bond-95 atom-91 atom-92\" d=\"M 318.3,79.7 L 313.1,76.6\" style=\"fill:none;fill-rule:evenodd;stroke:#000000;stroke-width:2.0px;stroke-linecap:butt;stroke-linejoin:miter;stroke-opacity:1\"/>\n",
       "<path class=\"bond-96 atom-89 atom-92\" d=\"M 307.8,79.5 L 313.1,76.6\" style=\"fill:none;fill-rule:evenodd;stroke:#000000;stroke-width:2.0px;stroke-linecap:butt;stroke-linejoin:miter;stroke-opacity:1\"/>\n",
       "<path class=\"bond-97 atom-93 atom-94\" d=\"M 323.6,76.8 L 328.7,79.9\" style=\"fill:none;fill-rule:evenodd;stroke:#000000;stroke-width:2.0px;stroke-linecap:butt;stroke-linejoin:miter;stroke-opacity:1\"/>\n",
       "<path class=\"bond-98 atom-91 atom-93\" d=\"M 318.3,79.7 L 323.6,76.8\" style=\"fill:none;fill-rule:evenodd;stroke:#000000;stroke-width:2.0px;stroke-linecap:butt;stroke-linejoin:miter;stroke-opacity:1\"/>\n",
       "<path class=\"bond-99 atom-95 atom-96\" d=\"M 339.2,80.2 L 334.0,77.0\" style=\"fill:none;fill-rule:evenodd;stroke:#000000;stroke-width:2.0px;stroke-linecap:butt;stroke-linejoin:miter;stroke-opacity:1\"/>\n",
       "<path class=\"bond-100 atom-94 atom-96\" d=\"M 328.7,79.9 L 334.0,77.0\" style=\"fill:none;fill-rule:evenodd;stroke:#000000;stroke-width:2.0px;stroke-linecap:butt;stroke-linejoin:miter;stroke-opacity:1\"/>\n",
       "<path class=\"bond-101 atom-97 atom-98\" d=\"M 344.4,77.3 L 349.6,80.4\" style=\"fill:none;fill-rule:evenodd;stroke:#000000;stroke-width:2.0px;stroke-linecap:butt;stroke-linejoin:miter;stroke-opacity:1\"/>\n",
       "<path class=\"bond-102 atom-95 atom-97\" d=\"M 339.2,80.2 L 344.4,77.3\" style=\"fill:none;fill-rule:evenodd;stroke:#000000;stroke-width:2.0px;stroke-linecap:butt;stroke-linejoin:miter;stroke-opacity:1\"/>\n",
       "<path class=\"bond-103 atom-99 atom-100\" d=\"M 360.0,80.6 L 354.9,77.5\" style=\"fill:none;fill-rule:evenodd;stroke:#000000;stroke-width:2.0px;stroke-linecap:butt;stroke-linejoin:miter;stroke-opacity:1\"/>\n",
       "<path class=\"bond-104 atom-98 atom-100\" d=\"M 349.6,80.4 L 354.9,77.5\" style=\"fill:none;fill-rule:evenodd;stroke:#000000;stroke-width:2.0px;stroke-linecap:butt;stroke-linejoin:miter;stroke-opacity:1\"/>\n",
       "<path class=\"bond-105 atom-101 atom-102\" d=\"M 365.3,77.7 L 370.5,80.9\" style=\"fill:none;fill-rule:evenodd;stroke:#000000;stroke-width:2.0px;stroke-linecap:butt;stroke-linejoin:miter;stroke-opacity:1\"/>\n",
       "<path class=\"bond-106 atom-99 atom-101\" d=\"M 360.0,80.6 L 365.3,77.7\" style=\"fill:none;fill-rule:evenodd;stroke:#000000;stroke-width:2.0px;stroke-linecap:butt;stroke-linejoin:miter;stroke-opacity:1\"/>\n",
       "<path class=\"bond-107 atom-103 atom-104\" d=\"M 380.9,81.1 L 375.8,78.0\" style=\"fill:none;fill-rule:evenodd;stroke:#000000;stroke-width:2.0px;stroke-linecap:butt;stroke-linejoin:miter;stroke-opacity:1\"/>\n",
       "<path class=\"bond-108 atom-102 atom-104\" d=\"M 370.5,80.9 L 375.8,78.0\" style=\"fill:none;fill-rule:evenodd;stroke:#000000;stroke-width:2.0px;stroke-linecap:butt;stroke-linejoin:miter;stroke-opacity:1\"/>\n",
       "<path class=\"bond-109 atom-105 atom-106\" d=\"M 391.4,81.3 L 386.2,78.2\" style=\"fill:none;fill-rule:evenodd;stroke:#000000;stroke-width:2.0px;stroke-linecap:butt;stroke-linejoin:miter;stroke-opacity:1\"/>\n",
       "<path class=\"bond-110 atom-103 atom-106\" d=\"M 380.9,81.1 L 386.2,78.2\" style=\"fill:none;fill-rule:evenodd;stroke:#000000;stroke-width:2.0px;stroke-linecap:butt;stroke-linejoin:miter;stroke-opacity:1\"/>\n",
       "<path class=\"bond-111 atom-107 atom-108\" d=\"M 401.8,81.6 L 396.6,78.4\" style=\"fill:none;fill-rule:evenodd;stroke:#000000;stroke-width:2.0px;stroke-linecap:butt;stroke-linejoin:miter;stroke-opacity:1\"/>\n",
       "<path class=\"bond-112 atom-105 atom-108\" d=\"M 391.4,81.3 L 396.6,78.4\" style=\"fill:none;fill-rule:evenodd;stroke:#000000;stroke-width:2.0px;stroke-linecap:butt;stroke-linejoin:miter;stroke-opacity:1\"/>\n",
       "<path class=\"bond-113 atom-109 atom-110\" d=\"M 412.2,81.8 L 407.1,78.7\" style=\"fill:none;fill-rule:evenodd;stroke:#000000;stroke-width:2.0px;stroke-linecap:butt;stroke-linejoin:miter;stroke-opacity:1\"/>\n",
       "<path class=\"bond-114 atom-107 atom-110\" d=\"M 401.8,81.6 L 407.1,78.7\" style=\"fill:none;fill-rule:evenodd;stroke:#000000;stroke-width:2.0px;stroke-linecap:butt;stroke-linejoin:miter;stroke-opacity:1\"/>\n",
       "<path class=\"bond-115 atom-111 atom-112\" d=\"M 417.5,78.9 L 422.7,82.0\" style=\"fill:none;fill-rule:evenodd;stroke:#000000;stroke-width:2.0px;stroke-linecap:butt;stroke-linejoin:miter;stroke-opacity:1\"/>\n",
       "<path class=\"bond-116 atom-109 atom-111\" d=\"M 412.2,81.8 L 417.5,78.9\" style=\"fill:none;fill-rule:evenodd;stroke:#000000;stroke-width:2.0px;stroke-linecap:butt;stroke-linejoin:miter;stroke-opacity:1\"/>\n",
       "<path class=\"bond-117 atom-112 atom-113\" d=\"M 422.7,82.0 L 426.1,80.1\" style=\"fill:none;fill-rule:evenodd;stroke:#000000;stroke-width:2.0px;stroke-linecap:butt;stroke-linejoin:miter;stroke-opacity:1\"/>\n",
       "<path d=\"M 30.7,82.2 L 30.9,82.4 L 31.2,82.2\" style=\"fill:none;stroke:#000000;stroke-width:2.0px;stroke-linecap:butt;stroke-linejoin:miter;stroke-opacity:1;\"/>\n",
       "<path d=\"M 26.1,79.4 L 25.8,79.2 L 25.7,79.3\" style=\"fill:none;stroke:#000000;stroke-width:2.0px;stroke-linecap:butt;stroke-linejoin:miter;stroke-opacity:1;\"/>\n",
       "<path d=\"M 41.1,82.4 L 41.4,82.6 L 41.7,82.4\" style=\"fill:none;stroke:#000000;stroke-width:2.0px;stroke-linecap:butt;stroke-linejoin:miter;stroke-opacity:1;\"/>\n",
       "<path d=\"M 36.5,79.6 L 36.2,79.5 L 36.0,79.6\" style=\"fill:none;stroke:#000000;stroke-width:2.0px;stroke-linecap:butt;stroke-linejoin:miter;stroke-opacity:1;\"/>\n",
       "<path d=\"M 51.6,82.7 L 51.8,82.8 L 52.1,82.7\" style=\"fill:none;stroke:#000000;stroke-width:2.0px;stroke-linecap:butt;stroke-linejoin:miter;stroke-opacity:1;\"/>\n",
       "<path d=\"M 46.9,79.8 L 46.7,79.7 L 46.4,79.8\" style=\"fill:none;stroke:#000000;stroke-width:2.0px;stroke-linecap:butt;stroke-linejoin:miter;stroke-opacity:1;\"/>\n",
       "<path d=\"M 62.0,82.9 L 62.3,83.1 L 62.5,82.9\" style=\"fill:none;stroke:#000000;stroke-width:2.0px;stroke-linecap:butt;stroke-linejoin:miter;stroke-opacity:1;\"/>\n",
       "<path d=\"M 57.4,80.1 L 57.1,79.9 L 56.9,80.1\" style=\"fill:none;stroke:#000000;stroke-width:2.0px;stroke-linecap:butt;stroke-linejoin:miter;stroke-opacity:1;\"/>\n",
       "<path d=\"M 72.5,83.1 L 72.7,83.3 L 73.0,83.1\" style=\"fill:none;stroke:#000000;stroke-width:2.0px;stroke-linecap:butt;stroke-linejoin:miter;stroke-opacity:1;\"/>\n",
       "<path d=\"M 67.8,80.3 L 67.6,80.2 L 67.3,80.3\" style=\"fill:none;stroke:#000000;stroke-width:2.0px;stroke-linecap:butt;stroke-linejoin:miter;stroke-opacity:1;\"/>\n",
       "<path d=\"M 82.9,83.4 L 83.2,83.5 L 83.4,83.4\" style=\"fill:none;stroke:#000000;stroke-width:2.0px;stroke-linecap:butt;stroke-linejoin:miter;stroke-opacity:1;\"/>\n",
       "<path d=\"M 78.3,80.5 L 78.0,80.4 L 77.7,80.5\" style=\"fill:none;stroke:#000000;stroke-width:2.0px;stroke-linecap:butt;stroke-linejoin:miter;stroke-opacity:1;\"/>\n",
       "<path d=\"M 93.3,83.6 L 93.6,83.7 L 93.9,83.6\" style=\"fill:none;stroke:#000000;stroke-width:2.0px;stroke-linecap:butt;stroke-linejoin:miter;stroke-opacity:1;\"/>\n",
       "<path d=\"M 88.7,80.8 L 88.4,80.6 L 88.2,80.8\" style=\"fill:none;stroke:#000000;stroke-width:2.0px;stroke-linecap:butt;stroke-linejoin:miter;stroke-opacity:1;\"/>\n",
       "<path d=\"M 103.8,83.8 L 104.0,84.0 L 104.3,83.8\" style=\"fill:none;stroke:#000000;stroke-width:2.0px;stroke-linecap:butt;stroke-linejoin:miter;stroke-opacity:1;\"/>\n",
       "<path d=\"M 99.1,81.0 L 98.9,80.9 L 98.6,81.0\" style=\"fill:none;stroke:#000000;stroke-width:2.0px;stroke-linecap:butt;stroke-linejoin:miter;stroke-opacity:1;\"/>\n",
       "<path d=\"M 114.2,84.1 L 114.5,84.2 L 114.7,84.1\" style=\"fill:none;stroke:#000000;stroke-width:2.0px;stroke-linecap:butt;stroke-linejoin:miter;stroke-opacity:1;\"/>\n",
       "<path d=\"M 109.6,81.2 L 109.3,81.1 L 109.1,81.2\" style=\"fill:none;stroke:#000000;stroke-width:2.0px;stroke-linecap:butt;stroke-linejoin:miter;stroke-opacity:1;\"/>\n",
       "<path d=\"M 124.7,84.3 L 124.9,84.4 L 125.2,84.3\" style=\"fill:none;stroke:#000000;stroke-width:2.0px;stroke-linecap:butt;stroke-linejoin:miter;stroke-opacity:1;\"/>\n",
       "<path d=\"M 120.0,81.5 L 119.8,81.3 L 119.5,81.5\" style=\"fill:none;stroke:#000000;stroke-width:2.0px;stroke-linecap:butt;stroke-linejoin:miter;stroke-opacity:1;\"/>\n",
       "<path d=\"M 135.1,84.5 L 135.4,84.7 L 135.6,84.5\" style=\"fill:none;stroke:#000000;stroke-width:2.0px;stroke-linecap:butt;stroke-linejoin:miter;stroke-opacity:1;\"/>\n",
       "<path d=\"M 130.5,81.7 L 130.2,81.5 L 129.9,81.7\" style=\"fill:none;stroke:#000000;stroke-width:2.0px;stroke-linecap:butt;stroke-linejoin:miter;stroke-opacity:1;\"/>\n",
       "<path d=\"M 150.8,82.2 L 151.1,82.0 L 151.3,82.2\" style=\"fill:none;stroke:#000000;stroke-width:2.0px;stroke-linecap:butt;stroke-linejoin:miter;stroke-opacity:1;\"/>\n",
       "<path d=\"M 156.0,85.0 L 156.2,85.1 L 156.2,85.4\" style=\"fill:none;stroke:#000000;stroke-width:2.0px;stroke-linecap:butt;stroke-linejoin:miter;stroke-opacity:1;\"/>\n",
       "<path d=\"M 156.1,90.9 L 156.1,91.2 L 155.8,91.3\" style=\"fill:none;stroke:#000000;stroke-width:2.0px;stroke-linecap:butt;stroke-linejoin:miter;stroke-opacity:1;\"/>\n",
       "<path d=\"M 151.1,93.9 L 150.8,94.1 L 150.6,93.9\" style=\"fill:none;stroke:#000000;stroke-width:2.0px;stroke-linecap:butt;stroke-linejoin:miter;stroke-opacity:1;\"/>\n",
       "<path d=\"M 145.9,91.1 L 145.7,90.9 L 145.7,90.6\" style=\"fill:none;stroke:#000000;stroke-width:2.0px;stroke-linecap:butt;stroke-linejoin:miter;stroke-opacity:1;\"/>\n",
       "<path d=\"M 130.6,75.4 L 130.3,75.5 L 130.1,75.4\" style=\"fill:none;stroke:#000000;stroke-width:2.0px;stroke-linecap:butt;stroke-linejoin:miter;stroke-opacity:1;\"/>\n",
       "<path d=\"M 125.4,72.5 L 125.2,72.4 L 125.2,72.1\" style=\"fill:none;stroke:#000000;stroke-width:2.0px;stroke-linecap:butt;stroke-linejoin:miter;stroke-opacity:1;\"/>\n",
       "<path d=\"M 125.3,66.7 L 125.3,66.4 L 125.6,66.2\" style=\"fill:none;stroke:#000000;stroke-width:2.0px;stroke-linecap:butt;stroke-linejoin:miter;stroke-opacity:1;\"/>\n",
       "<path d=\"M 130.3,63.6 L 130.6,63.5 L 130.9,63.6\" style=\"fill:none;stroke:#000000;stroke-width:2.0px;stroke-linecap:butt;stroke-linejoin:miter;stroke-opacity:1;\"/>\n",
       "<path d=\"M 135.5,66.4 L 135.8,66.6 L 135.8,66.9\" style=\"fill:none;stroke:#000000;stroke-width:2.0px;stroke-linecap:butt;stroke-linejoin:miter;stroke-opacity:1;\"/>\n",
       "<path d=\"M 151.2,64.1 L 151.5,63.9 L 151.5,63.6\" style=\"fill:none;stroke:#000000;stroke-width:2.0px;stroke-linecap:butt;stroke-linejoin:miter;stroke-opacity:1;\"/>\n",
       "<path d=\"M 151.6,58.2 L 151.6,57.9 L 151.4,57.7\" style=\"fill:none;stroke:#000000;stroke-width:2.0px;stroke-linecap:butt;stroke-linejoin:miter;stroke-opacity:1;\"/>\n",
       "<path d=\"M 146.7,54.9 L 146.5,54.8 L 146.2,54.9\" style=\"fill:none;stroke:#000000;stroke-width:2.0px;stroke-linecap:butt;stroke-linejoin:miter;stroke-opacity:1;\"/>\n",
       "<path d=\"M 141.4,57.5 L 141.2,57.7 L 141.2,58.0\" style=\"fill:none;stroke:#000000;stroke-width:2.0px;stroke-linecap:butt;stroke-linejoin:miter;stroke-opacity:1;\"/>\n",
       "<path d=\"M 141.1,63.4 L 141.0,63.7 L 141.3,63.9\" style=\"fill:none;stroke:#000000;stroke-width:2.0px;stroke-linecap:butt;stroke-linejoin:miter;stroke-opacity:1;\"/>\n",
       "<path d=\"M 156.2,73.2 L 156.5,73.1 L 156.8,73.2\" style=\"fill:none;stroke:#000000;stroke-width:2.0px;stroke-linecap:butt;stroke-linejoin:miter;stroke-opacity:1;\"/>\n",
       "<path d=\"M 151.5,75.8 L 151.2,76.0 L 151.0,75.8\" style=\"fill:none;stroke:#000000;stroke-width:2.0px;stroke-linecap:butt;stroke-linejoin:miter;stroke-opacity:1;\"/>\n",
       "<path d=\"M 166.7,73.5 L 166.9,73.3 L 167.2,73.5\" style=\"fill:none;stroke:#000000;stroke-width:2.0px;stroke-linecap:butt;stroke-linejoin:miter;stroke-opacity:1;\"/>\n",
       "<path d=\"M 161.9,76.1 L 161.7,76.2 L 161.4,76.1\" style=\"fill:none;stroke:#000000;stroke-width:2.0px;stroke-linecap:butt;stroke-linejoin:miter;stroke-opacity:1;\"/>\n",
       "<path d=\"M 166.9,85.2 L 166.7,85.4 L 166.7,85.7\" style=\"fill:none;stroke:#000000;stroke-width:2.0px;stroke-linecap:butt;stroke-linejoin:miter;stroke-opacity:1;\"/>\n",
       "<path d=\"M 166.6,91.1 L 166.5,91.4 L 166.8,91.6\" style=\"fill:none;stroke:#000000;stroke-width:2.0px;stroke-linecap:butt;stroke-linejoin:miter;stroke-opacity:1;\"/>\n",
       "<path d=\"M 171.4,94.4 L 171.7,94.5 L 172.0,94.4\" style=\"fill:none;stroke:#000000;stroke-width:2.0px;stroke-linecap:butt;stroke-linejoin:miter;stroke-opacity:1;\"/>\n",
       "<path d=\"M 176.7,91.8 L 177.0,91.6 L 177.0,91.3\" style=\"fill:none;stroke:#000000;stroke-width:2.0px;stroke-linecap:butt;stroke-linejoin:miter;stroke-opacity:1;\"/>\n",
       "<path d=\"M 177.1,85.9 L 177.1,85.6 L 176.9,85.5\" style=\"fill:none;stroke:#000000;stroke-width:2.0px;stroke-linecap:butt;stroke-linejoin:miter;stroke-opacity:1;\"/>\n",
       "<path d=\"M 198.0,74.2 L 198.3,74.0 L 198.5,74.2\" style=\"fill:none;stroke:#000000;stroke-width:2.0px;stroke-linecap:butt;stroke-linejoin:miter;stroke-opacity:1;\"/>\n",
       "<path d=\"M 193.2,76.8 L 193.0,76.9 L 192.7,76.8\" style=\"fill:none;stroke:#000000;stroke-width:2.0px;stroke-linecap:butt;stroke-linejoin:miter;stroke-opacity:1;\"/>\n",
       "<path d=\"M 188.0,68.1 L 188.0,67.8 L 188.2,67.6\" style=\"fill:none;stroke:#000000;stroke-width:2.0px;stroke-linecap:butt;stroke-linejoin:miter;stroke-opacity:1;\"/>\n",
       "<path d=\"M 182.8,76.5 L 182.5,76.7 L 182.3,76.5\" style=\"fill:none;stroke:#000000;stroke-width:2.0px;stroke-linecap:butt;stroke-linejoin:miter;stroke-opacity:1;\"/>\n",
       "<path d=\"M 177.6,73.7 L 177.4,73.6 L 177.1,73.7\" style=\"fill:none;stroke:#000000;stroke-width:2.0px;stroke-linecap:butt;stroke-linejoin:miter;stroke-opacity:1;\"/>\n",
       "<path d=\"M 198.3,85.9 L 198.0,86.1 L 198.0,86.4\" style=\"fill:none;stroke:#000000;stroke-width:2.0px;stroke-linecap:butt;stroke-linejoin:miter;stroke-opacity:1;\"/>\n",
       "<path d=\"M 197.9,91.8 L 197.9,92.1 L 198.1,92.3\" style=\"fill:none;stroke:#000000;stroke-width:2.0px;stroke-linecap:butt;stroke-linejoin:miter;stroke-opacity:1;\"/>\n",
       "<path d=\"M 202.8,95.1 L 203.0,95.2 L 203.3,95.1\" style=\"fill:none;stroke:#000000;stroke-width:2.0px;stroke-linecap:butt;stroke-linejoin:miter;stroke-opacity:1;\"/>\n",
       "<path d=\"M 208.0,92.5 L 208.3,92.3 L 208.3,92.0\" style=\"fill:none;stroke:#000000;stroke-width:2.0px;stroke-linecap:butt;stroke-linejoin:miter;stroke-opacity:1;\"/>\n",
       "<path d=\"M 208.4,86.6 L 208.4,86.3 L 208.2,86.1\" style=\"fill:none;stroke:#000000;stroke-width:2.0px;stroke-linecap:butt;stroke-linejoin:miter;stroke-opacity:1;\"/>\n",
       "<path d=\"M 193.3,64.8 L 193.3,64.9 L 193.0,65.0\" style=\"fill:none;stroke:#000000;stroke-width:2.0px;stroke-linecap:butt;stroke-linejoin:miter;stroke-opacity:1;\"/>\n",
       "<path d=\"M 208.8,74.3 L 208.7,74.2 L 208.4,74.4\" style=\"fill:none;stroke:#000000;stroke-width:2.0px;stroke-linecap:butt;stroke-linejoin:miter;stroke-opacity:1;\"/>\n",
       "<path d=\"M 224.0,77.5 L 224.3,77.6 L 224.6,77.5\" style=\"fill:none;stroke:#000000;stroke-width:2.0px;stroke-linecap:butt;stroke-linejoin:miter;stroke-opacity:1;\"/>\n",
       "<path d=\"M 219.4,74.6 L 219.2,74.5 L 219.1,74.5\" style=\"fill:none;stroke:#000000;stroke-width:2.0px;stroke-linecap:butt;stroke-linejoin:miter;stroke-opacity:1;\"/>\n",
       "<path d=\"M 234.5,77.7 L 234.7,77.8 L 235.0,77.7\" style=\"fill:none;stroke:#000000;stroke-width:2.0px;stroke-linecap:butt;stroke-linejoin:miter;stroke-opacity:1;\"/>\n",
       "<path d=\"M 229.9,74.9 L 229.6,74.7 L 229.3,74.9\" style=\"fill:none;stroke:#000000;stroke-width:2.0px;stroke-linecap:butt;stroke-linejoin:miter;stroke-opacity:1;\"/>\n",
       "<path d=\"M 244.9,77.9 L 245.2,78.1 L 245.5,77.9\" style=\"fill:none;stroke:#000000;stroke-width:2.0px;stroke-linecap:butt;stroke-linejoin:miter;stroke-opacity:1;\"/>\n",
       "<path d=\"M 240.3,75.1 L 240.0,74.9 L 239.8,75.1\" style=\"fill:none;stroke:#000000;stroke-width:2.0px;stroke-linecap:butt;stroke-linejoin:miter;stroke-opacity:1;\"/>\n",
       "<path d=\"M 255.4,78.1 L 255.6,78.3 L 255.9,78.2\" style=\"fill:none;stroke:#000000;stroke-width:2.0px;stroke-linecap:butt;stroke-linejoin:miter;stroke-opacity:1;\"/>\n",
       "<path d=\"M 250.7,75.3 L 250.5,75.2 L 250.2,75.3\" style=\"fill:none;stroke:#000000;stroke-width:2.0px;stroke-linecap:butt;stroke-linejoin:miter;stroke-opacity:1;\"/>\n",
       "<path d=\"M 265.8,78.4 L 266.1,78.5 L 266.3,78.4\" style=\"fill:none;stroke:#000000;stroke-width:2.0px;stroke-linecap:butt;stroke-linejoin:miter;stroke-opacity:1;\"/>\n",
       "<path d=\"M 261.2,75.6 L 260.9,75.4 L 260.7,75.6\" style=\"fill:none;stroke:#000000;stroke-width:2.0px;stroke-linecap:butt;stroke-linejoin:miter;stroke-opacity:1;\"/>\n",
       "<path d=\"M 271.6,75.8 L 271.4,75.6 L 271.1,75.8\" style=\"fill:none;stroke:#000000;stroke-width:2.0px;stroke-linecap:butt;stroke-linejoin:miter;stroke-opacity:1;\"/>\n",
       "<path d=\"M 276.3,78.6 L 276.5,78.8 L 276.8,78.6\" style=\"fill:none;stroke:#000000;stroke-width:2.0px;stroke-linecap:butt;stroke-linejoin:miter;stroke-opacity:1;\"/>\n",
       "<path d=\"M 282.1,76.0 L 281.8,75.9 L 281.5,76.0\" style=\"fill:none;stroke:#000000;stroke-width:2.0px;stroke-linecap:butt;stroke-linejoin:miter;stroke-opacity:1;\"/>\n",
       "<path d=\"M 286.7,78.8 L 287.0,79.0 L 287.2,78.9\" style=\"fill:none;stroke:#000000;stroke-width:2.0px;stroke-linecap:butt;stroke-linejoin:miter;stroke-opacity:1;\"/>\n",
       "<path d=\"M 297.1,79.1 L 297.4,79.2 L 297.7,79.1\" style=\"fill:none;stroke:#000000;stroke-width:2.0px;stroke-linecap:butt;stroke-linejoin:miter;stroke-opacity:1;\"/>\n",
       "<path d=\"M 292.5,76.3 L 292.2,76.1 L 292.0,76.2\" style=\"fill:none;stroke:#000000;stroke-width:2.0px;stroke-linecap:butt;stroke-linejoin:miter;stroke-opacity:1;\"/>\n",
       "<path d=\"M 307.6,79.3 L 307.8,79.5 L 308.1,79.3\" style=\"fill:none;stroke:#000000;stroke-width:2.0px;stroke-linecap:butt;stroke-linejoin:miter;stroke-opacity:1;\"/>\n",
       "<path d=\"M 302.9,76.5 L 302.7,76.3 L 302.4,76.5\" style=\"fill:none;stroke:#000000;stroke-width:2.0px;stroke-linecap:butt;stroke-linejoin:miter;stroke-opacity:1;\"/>\n",
       "<path d=\"M 318.0,79.5 L 318.3,79.7 L 318.5,79.6\" style=\"fill:none;stroke:#000000;stroke-width:2.0px;stroke-linecap:butt;stroke-linejoin:miter;stroke-opacity:1;\"/>\n",
       "<path d=\"M 313.4,76.7 L 313.1,76.6 L 312.9,76.7\" style=\"fill:none;stroke:#000000;stroke-width:2.0px;stroke-linecap:butt;stroke-linejoin:miter;stroke-opacity:1;\"/>\n",
       "<path d=\"M 323.8,77.0 L 323.6,76.8 L 323.3,76.9\" style=\"fill:none;stroke:#000000;stroke-width:2.0px;stroke-linecap:butt;stroke-linejoin:miter;stroke-opacity:1;\"/>\n",
       "<path d=\"M 328.5,79.8 L 328.7,79.9 L 329.0,79.8\" style=\"fill:none;stroke:#000000;stroke-width:2.0px;stroke-linecap:butt;stroke-linejoin:miter;stroke-opacity:1;\"/>\n",
       "<path d=\"M 338.9,80.0 L 339.2,80.2 L 339.4,80.0\" style=\"fill:none;stroke:#000000;stroke-width:2.0px;stroke-linecap:butt;stroke-linejoin:miter;stroke-opacity:1;\"/>\n",
       "<path d=\"M 334.3,77.2 L 334.0,77.0 L 333.7,77.2\" style=\"fill:none;stroke:#000000;stroke-width:2.0px;stroke-linecap:butt;stroke-linejoin:miter;stroke-opacity:1;\"/>\n",
       "<path d=\"M 344.7,77.4 L 344.4,77.3 L 344.2,77.4\" style=\"fill:none;stroke:#000000;stroke-width:2.0px;stroke-linecap:butt;stroke-linejoin:miter;stroke-opacity:1;\"/>\n",
       "<path d=\"M 349.3,80.2 L 349.6,80.4 L 349.9,80.3\" style=\"fill:none;stroke:#000000;stroke-width:2.0px;stroke-linecap:butt;stroke-linejoin:miter;stroke-opacity:1;\"/>\n",
       "<path d=\"M 359.8,80.5 L 360.0,80.6 L 360.3,80.5\" style=\"fill:none;stroke:#000000;stroke-width:2.0px;stroke-linecap:butt;stroke-linejoin:miter;stroke-opacity:1;\"/>\n",
       "<path d=\"M 355.1,77.7 L 354.9,77.5 L 354.6,77.6\" style=\"fill:none;stroke:#000000;stroke-width:2.0px;stroke-linecap:butt;stroke-linejoin:miter;stroke-opacity:1;\"/>\n",
       "<path d=\"M 365.6,77.9 L 365.3,77.7 L 365.1,77.9\" style=\"fill:none;stroke:#000000;stroke-width:2.0px;stroke-linecap:butt;stroke-linejoin:miter;stroke-opacity:1;\"/>\n",
       "<path d=\"M 370.2,80.7 L 370.5,80.9 L 370.7,80.7\" style=\"fill:none;stroke:#000000;stroke-width:2.0px;stroke-linecap:butt;stroke-linejoin:miter;stroke-opacity:1;\"/>\n",
       "<path d=\"M 380.7,80.9 L 380.9,81.1 L 381.2,80.9\" style=\"fill:none;stroke:#000000;stroke-width:2.0px;stroke-linecap:butt;stroke-linejoin:miter;stroke-opacity:1;\"/>\n",
       "<path d=\"M 376.0,78.1 L 375.8,78.0 L 375.5,78.1\" style=\"fill:none;stroke:#000000;stroke-width:2.0px;stroke-linecap:butt;stroke-linejoin:miter;stroke-opacity:1;\"/>\n",
       "<path d=\"M 391.1,81.2 L 391.4,81.3 L 391.6,81.2\" style=\"fill:none;stroke:#000000;stroke-width:2.0px;stroke-linecap:butt;stroke-linejoin:miter;stroke-opacity:1;\"/>\n",
       "<path d=\"M 386.5,78.4 L 386.2,78.2 L 385.9,78.3\" style=\"fill:none;stroke:#000000;stroke-width:2.0px;stroke-linecap:butt;stroke-linejoin:miter;stroke-opacity:1;\"/>\n",
       "<path d=\"M 401.5,81.4 L 401.8,81.6 L 402.1,81.4\" style=\"fill:none;stroke:#000000;stroke-width:2.0px;stroke-linecap:butt;stroke-linejoin:miter;stroke-opacity:1;\"/>\n",
       "<path d=\"M 396.9,78.6 L 396.6,78.4 L 396.4,78.6\" style=\"fill:none;stroke:#000000;stroke-width:2.0px;stroke-linecap:butt;stroke-linejoin:miter;stroke-opacity:1;\"/>\n",
       "<path d=\"M 412.0,81.6 L 412.2,81.8 L 412.5,81.6\" style=\"fill:none;stroke:#000000;stroke-width:2.0px;stroke-linecap:butt;stroke-linejoin:miter;stroke-opacity:1;\"/>\n",
       "<path d=\"M 407.3,78.8 L 407.1,78.7 L 406.8,78.8\" style=\"fill:none;stroke:#000000;stroke-width:2.0px;stroke-linecap:butt;stroke-linejoin:miter;stroke-opacity:1;\"/>\n",
       "<path d=\"M 417.8,79.0 L 417.5,78.9 L 417.3,79.0\" style=\"fill:none;stroke:#000000;stroke-width:2.0px;stroke-linecap:butt;stroke-linejoin:miter;stroke-opacity:1;\"/>\n",
       "<path d=\"M 422.4,81.9 L 422.7,82.0 L 422.9,81.9\" style=\"fill:none;stroke:#000000;stroke-width:2.0px;stroke-linecap:butt;stroke-linejoin:miter;stroke-opacity:1;\"/>\n",
       "<path class=\"atom-0\" d=\"M 19.2 80.0 L 21.8 80.0 L 21.8 80.5 L 19.8 80.5 L 19.8 81.8 L 21.6 81.8 L 21.6 82.3 L 19.8 82.3 L 19.8 84.2 L 19.2 84.2 L 19.2 80.0 \" fill=\"#33CCCC\"/>\n",
       "<path class=\"atom-69\" d=\"M 191.4 58.8 Q 191.4 57.8, 191.9 57.3 Q 192.4 56.7, 193.4 56.7 Q 194.3 56.7, 194.8 57.3 Q 195.3 57.8, 195.3 58.8 Q 195.3 59.9, 194.8 60.5 Q 194.3 61.0, 193.4 61.0 Q 192.4 61.0, 191.9 60.5 Q 191.4 59.9, 191.4 58.8 M 193.4 60.6 Q 194.0 60.6, 194.4 60.1 Q 194.7 59.7, 194.7 58.8 Q 194.7 58.0, 194.4 57.6 Q 194.0 57.2, 193.4 57.2 Q 192.7 57.2, 192.4 57.6 Q 192.0 58.0, 192.0 58.8 Q 192.0 59.7, 192.4 60.1 Q 192.7 60.6, 193.4 60.6 \" fill=\"#FF0000\"/>\n",
       "<path class=\"atom-72\" d=\"M 212.9 75.3 L 214.3 77.5 Q 214.5 77.7, 214.7 78.1 Q 214.9 78.5, 214.9 78.6 L 214.9 75.3 L 215.5 75.3 L 215.5 79.5 L 214.9 79.5 L 213.4 77.0 Q 213.2 76.8, 213.0 76.4 Q 212.9 76.1, 212.8 76.0 L 212.8 79.5 L 212.3 79.5 L 212.3 75.3 L 212.9 75.3 \" fill=\"#0000FF\"/>\n",
       "<path class=\"atom-72\" d=\"M 212.2 79.9 L 212.8 79.9 L 212.8 81.7 L 215.0 81.7 L 215.0 79.9 L 215.5 79.9 L 215.5 84.2 L 215.0 84.2 L 215.0 82.2 L 212.8 82.2 L 212.8 84.2 L 212.2 84.2 L 212.2 79.9 \" fill=\"#0000FF\"/>\n",
       "<path class=\"atom-113\" d=\"M 426.3 77.0 L 426.9 77.0 L 426.9 78.8 L 429.1 78.8 L 429.1 77.0 L 429.6 77.0 L 429.6 81.2 L 429.1 81.2 L 429.1 79.3 L 426.9 79.3 L 426.9 81.2 L 426.3 81.2 L 426.3 77.0 \" fill=\"#000000\"/>\n",
       "<path class=\"atom-113\" d=\"M 430.8,79.1 L 430.8,79.1 L 430.8,79.2 L 430.8,79.2 L 430.8,79.2 L 430.8,79.2 L 430.8,79.3 L 430.8,79.3 L 430.8,79.3 L 430.7,79.3 L 430.7,79.4 L 430.7,79.4 L 430.7,79.4 L 430.7,79.4 L 430.6,79.4 L 430.6,79.4 L 430.6,79.4 L 430.6,79.4 L 430.5,79.4 L 430.5,79.4 L 430.5,79.4 L 430.5,79.4 L 430.4,79.4 L 430.4,79.4 L 430.4,79.4 L 430.4,79.4 L 430.3,79.4 L 430.3,79.3 L 430.3,79.3 L 430.3,79.3 L 430.3,79.3 L 430.3,79.3 L 430.3,79.2 L 430.2,79.2 L 430.2,79.2 L 430.2,79.2 L 430.2,79.1 L 430.2,79.1 L 430.2,79.1 L 430.2,79.1 L 430.2,79.0 L 430.3,79.0 L 430.3,79.0 L 430.3,79.0 L 430.3,78.9 L 430.3,78.9 L 430.3,78.9 L 430.3,78.9 L 430.4,78.9 L 430.4,78.9 L 430.4,78.8 L 430.4,78.8 L 430.5,78.8 L 430.5,78.8 L 430.5,78.8 L 430.5,78.8 L 430.6,78.8 L 430.6,78.8 L 430.6,78.8 L 430.6,78.8 L 430.7,78.9 L 430.7,78.9 L 430.7,78.9 L 430.7,78.9 L 430.7,78.9 L 430.8,78.9 L 430.8,79.0 L 430.8,79.0 L 430.8,79.0 L 430.8,79.0 L 430.8,79.0 L 430.8,79.1 L 430.8,79.1 L 430.8,79.1 L 430.5,79.1 Z\" style=\"fill:#000000;fill-rule:evenodd;fill-opacity:1;stroke:#000000;stroke-width:0.0px;stroke-linecap:butt;stroke-linejoin:miter;stroke-opacity:1;\"/>\n",
       "</svg>"
      ],
      "text/plain": [
       "<IPython.core.display.SVG object>"
      ]
     },
     "execution_count": 47,
     "metadata": {},
     "output_type": "execute_result"
    }
   ],
   "source": [
    "big_smiles_gen(big)"
   ]
  },
  {
   "cell_type": "code",
   "execution_count": 48,
   "id": "fb8d61a0",
   "metadata": {},
   "outputs": [
    {
     "name": "stdout",
     "output_type": "stream",
     "text": [
      "[H]CCCCCCCCCCCCCCCCCCCCCCCCCCCCCCCCCCCCNCCCC(CCCCCCCCCCC(CCCCCCC(CCCCCCCCCC(CCCOC)CCOC)CCC(F)c1ccccc1)c1ccccc1)CCOC\n"
     ]
    },
    {
     "ename": "KeyboardInterrupt",
     "evalue": "",
     "output_type": "error",
     "traceback": [
      "\u001b[0;31m---------------------------------------------------------------------------\u001b[0m",
      "\u001b[0;31mKeyboardInterrupt\u001b[0m                         Traceback (most recent call last)",
      "\u001b[0;32m<ipython-input-48-7df8c8549239>\u001b[0m in \u001b[0;36m<module>\u001b[0;34m\u001b[0m\n\u001b[0;32m----> 1\u001b[0;31m \u001b[0mbig_smiles_gen\u001b[0m\u001b[0;34m(\u001b[0m\u001b[0mbig\u001b[0m\u001b[0;34m)\u001b[0m\u001b[0;34m\u001b[0m\u001b[0;34m\u001b[0m\u001b[0m\n\u001b[0m",
      "\u001b[0;32m<ipython-input-3-1a9f38ee4f25>\u001b[0m in \u001b[0;36mbig_smiles_gen\u001b[0;34m(string)\u001b[0m\n\u001b[1;32m     13\u001b[0m     \u001b[0;31m# Draw said molecule\u001b[0m\u001b[0;34m\u001b[0m\u001b[0;34m\u001b[0m\u001b[0m\n\u001b[1;32m     14\u001b[0m     \u001b[0mprint\u001b[0m\u001b[0;34m(\u001b[0m\u001b[0mmol\u001b[0m\u001b[0;34m.\u001b[0m\u001b[0msmiles\u001b[0m\u001b[0;34m)\u001b[0m\u001b[0;34m\u001b[0m\u001b[0;34m\u001b[0m\u001b[0m\n\u001b[0;32m---> 15\u001b[0;31m     \u001b[0mprint\u001b[0m\u001b[0;34m(\u001b[0m\u001b[0mmol_prob\u001b[0m\u001b[0;34m.\u001b[0m\u001b[0mget_ensemble_prob\u001b[0m\u001b[0;34m(\u001b[0m\u001b[0mmol\u001b[0m\u001b[0;34m.\u001b[0m\u001b[0msmiles\u001b[0m\u001b[0;34m,\u001b[0m \u001b[0mext\u001b[0m\u001b[0;34m)\u001b[0m\u001b[0;34m[\u001b[0m\u001b[0;36m0\u001b[0m\u001b[0;34m]\u001b[0m\u001b[0;34m)\u001b[0m\u001b[0;34m\u001b[0m\u001b[0;34m\u001b[0m\u001b[0m\n\u001b[0m\u001b[1;32m     16\u001b[0m \u001b[0;34m\u001b[0m\u001b[0m\n\u001b[1;32m     17\u001b[0m     \u001b[0;32mreturn\u001b[0m \u001b[0mrender_svg\u001b[0m\u001b[0;34m(\u001b[0m\u001b[0mmoltosvg\u001b[0m\u001b[0;34m(\u001b[0m\u001b[0mmol\u001b[0m\u001b[0;34m.\u001b[0m\u001b[0mget_mol\u001b[0m\u001b[0;34m(\u001b[0m\u001b[0;34m)\u001b[0m\u001b[0;34m)\u001b[0m\u001b[0;34m)\u001b[0m\u001b[0;34m\u001b[0m\u001b[0;34m\u001b[0m\u001b[0m\n",
      "\u001b[0;32m~/git/bigSMILESgen/bigsmiles_gen/mol_prob.py\u001b[0m in \u001b[0;36mget_ensemble_prob\u001b[0;34m(smi, big_mol)\u001b[0m\n\u001b[1;32m    415\u001b[0m     \u001b[0mprobability\u001b[0m \u001b[0;34m=\u001b[0m \u001b[0;36m0\u001b[0m\u001b[0;34m\u001b[0m\u001b[0;34m\u001b[0m\u001b[0m\n\u001b[1;32m    416\u001b[0m     \u001b[0;32mfor\u001b[0m \u001b[0mbm\u001b[0m \u001b[0;32min\u001b[0m \u001b[0mbig_mols\u001b[0m\u001b[0;34m:\u001b[0m\u001b[0;34m\u001b[0m\u001b[0;34m\u001b[0m\u001b[0m\n\u001b[0;32m--> 417\u001b[0;31m         \u001b[0mprob\u001b[0m\u001b[0;34m,\u001b[0m \u001b[0mmatch\u001b[0m \u001b[0;34m=\u001b[0m \u001b[0mget_prob\u001b[0m\u001b[0;34m(\u001b[0m\u001b[0msmi\u001b[0m\u001b[0;34m,\u001b[0m \u001b[0mbm\u001b[0m\u001b[0;34m)\u001b[0m\u001b[0;34m\u001b[0m\u001b[0;34m\u001b[0m\u001b[0m\n\u001b[0m\u001b[1;32m    418\u001b[0m         \u001b[0mprobability\u001b[0m \u001b[0;34m+=\u001b[0m \u001b[0mprob\u001b[0m\u001b[0;34m\u001b[0m\u001b[0;34m\u001b[0m\u001b[0m\n\u001b[1;32m    419\u001b[0m         \u001b[0mmatches\u001b[0m \u001b[0;34m+=\u001b[0m \u001b[0mmatch\u001b[0m\u001b[0;34m\u001b[0m\u001b[0;34m\u001b[0m\u001b[0m\n",
      "\u001b[0;32m~/git/bigSMILESgen/bigsmiles_gen/mol_prob.py\u001b[0m in \u001b[0;36mget_prob\u001b[0;34m(smiles, big_mol)\u001b[0m\n\u001b[1;32m    389\u001b[0m         \u001b[0;32mif\u001b[0m \u001b[0mstochastic_pop\u001b[0m \u001b[0;32mis\u001b[0m \u001b[0;32mnot\u001b[0m \u001b[0;32mNone\u001b[0m \u001b[0;32mand\u001b[0m \u001b[0mstochastic_pop\u001b[0m \u001b[0;32mnot\u001b[0m \u001b[0;32min\u001b[0m \u001b[0mhandled_matches\u001b[0m\u001b[0;34m:\u001b[0m\u001b[0;34m\u001b[0m\u001b[0;34m\u001b[0m\u001b[0m\n\u001b[1;32m    390\u001b[0m             \u001b[0mopen_matches\u001b[0m\u001b[0;34m.\u001b[0m\u001b[0mappend\u001b[0m\u001b[0;34m(\u001b[0m\u001b[0mstochastic_pop\u001b[0m\u001b[0;34m)\u001b[0m\u001b[0;34m\u001b[0m\u001b[0;34m\u001b[0m\u001b[0m\n\u001b[0;32m--> 391\u001b[0;31m         \u001b[0mnew_open\u001b[0m\u001b[0;34m,\u001b[0m \u001b[0mnew_full\u001b[0m \u001b[0;34m=\u001b[0m \u001b[0mmatch\u001b[0m\u001b[0;34m.\u001b[0m\u001b[0mreact_open\u001b[0m\u001b[0;34m(\u001b[0m\u001b[0mmatch\u001b[0m\u001b[0;34m)\u001b[0m\u001b[0;34m\u001b[0m\u001b[0;34m\u001b[0m\u001b[0m\n\u001b[0m\u001b[1;32m    392\u001b[0m \u001b[0;34m\u001b[0m\u001b[0m\n\u001b[1;32m    393\u001b[0m         \u001b[0;31m# We consider this particular match as done, so are all fully handled matches\u001b[0m\u001b[0;34m\u001b[0m\u001b[0;34m\u001b[0m\u001b[0m\n",
      "\u001b[0;32m~/git/bigSMILESgen/bigsmiles_gen/mol_prob.py\u001b[0m in \u001b[0;36mreact_open\u001b[0;34m(match)\u001b[0m\n\u001b[1;32m    362\u001b[0m         \u001b[0;32melif\u001b[0m \u001b[0mmatch\u001b[0m\u001b[0;34m.\u001b[0m\u001b[0m_active_element\u001b[0m \u001b[0;34m<\u001b[0m \u001b[0mmatch\u001b[0m\u001b[0;34m.\u001b[0m\u001b[0m_Nelements\u001b[0m\u001b[0;34m:\u001b[0m\u001b[0;34m\u001b[0m\u001b[0;34m\u001b[0m\u001b[0m\n\u001b[1;32m    363\u001b[0m             \u001b[0;32mfor\u001b[0m \u001b[0mi\u001b[0m \u001b[0;32min\u001b[0m \u001b[0mrange\u001b[0m\u001b[0;34m(\u001b[0m\u001b[0mlen\u001b[0m\u001b[0;34m(\u001b[0m\u001b[0mmatch\u001b[0m\u001b[0;34m.\u001b[0m\u001b[0m_open_atoms\u001b[0m\u001b[0;34m)\u001b[0m\u001b[0;34m)\u001b[0m\u001b[0;34m:\u001b[0m\u001b[0;34m\u001b[0m\u001b[0;34m\u001b[0m\u001b[0m\n\u001b[0;32m--> 364\u001b[0;31m                 \u001b[0matom_open\u001b[0m\u001b[0;34m,\u001b[0m \u001b[0matom_full\u001b[0m \u001b[0;34m=\u001b[0m \u001b[0mhandle_atom\u001b[0m\u001b[0;34m(\u001b[0m\u001b[0mmatch\u001b[0m\u001b[0;34m,\u001b[0m \u001b[0mi\u001b[0m\u001b[0;34m)\u001b[0m\u001b[0;34m\u001b[0m\u001b[0;34m\u001b[0m\u001b[0m\n\u001b[0m\u001b[1;32m    365\u001b[0m                 \u001b[0mnew_open\u001b[0m \u001b[0;34m+=\u001b[0m \u001b[0matom_open\u001b[0m\u001b[0;34m\u001b[0m\u001b[0;34m\u001b[0m\u001b[0m\n\u001b[1;32m    366\u001b[0m                 \u001b[0mnew_full\u001b[0m \u001b[0;34m+=\u001b[0m \u001b[0matom_full\u001b[0m\u001b[0;34m\u001b[0m\u001b[0;34m\u001b[0m\u001b[0m\n",
      "\u001b[0;32m~/git/bigSMILESgen/bigsmiles_gen/mol_prob.py\u001b[0m in \u001b[0;36mhandle_atom\u001b[0;34m(match_input, atom_idx)\u001b[0m\n\u001b[1;32m    334\u001b[0m             \u001b[0;32mif\u001b[0m \u001b[0misinstance\u001b[0m\u001b[0;34m(\u001b[0m\u001b[0mmatch\u001b[0m\u001b[0;34m.\u001b[0m\u001b[0m_big\u001b[0m\u001b[0;34m.\u001b[0m\u001b[0melements\u001b[0m\u001b[0;34m[\u001b[0m\u001b[0mmatch\u001b[0m\u001b[0;34m.\u001b[0m\u001b[0m_active_element\u001b[0m\u001b[0;34m]\u001b[0m\u001b[0;34m,\u001b[0m \u001b[0mStochastic\u001b[0m\u001b[0;34m)\u001b[0m\u001b[0;34m:\u001b[0m\u001b[0;34m\u001b[0m\u001b[0;34m\u001b[0m\u001b[0m\n\u001b[1;32m    335\u001b[0m                 \u001b[0;32mfor\u001b[0m \u001b[0mtoken\u001b[0m \u001b[0;32min\u001b[0m \u001b[0mmatch\u001b[0m\u001b[0;34m.\u001b[0m\u001b[0m_big\u001b[0m\u001b[0;34m.\u001b[0m\u001b[0melements\u001b[0m\u001b[0;34m[\u001b[0m\u001b[0mmatch\u001b[0m\u001b[0;34m.\u001b[0m\u001b[0m_active_element\u001b[0m\u001b[0;34m]\u001b[0m\u001b[0;34m.\u001b[0m\u001b[0mrepeat_tokens\u001b[0m\u001b[0;34m:\u001b[0m\u001b[0;34m\u001b[0m\u001b[0;34m\u001b[0m\u001b[0m\n\u001b[0;32m--> 336\u001b[0;31m                     \u001b[0mnew_mol\u001b[0m \u001b[0;34m=\u001b[0m \u001b[0mmatch\u001b[0m\u001b[0;34m.\u001b[0m\u001b[0mcopy\u001b[0m\u001b[0;34m(\u001b[0m\u001b[0matom_prob\u001b[0m\u001b[0;34m)\u001b[0m\u001b[0;34m\u001b[0m\u001b[0;34m\u001b[0m\u001b[0m\n\u001b[0m\u001b[1;32m    337\u001b[0m                     \u001b[0mpattern\u001b[0m \u001b[0;34m=\u001b[0m \u001b[0mChem\u001b[0m\u001b[0;34m.\u001b[0m\u001b[0mMolFromSmiles\u001b[0m\u001b[0;34m(\u001b[0m\u001b[0mtoken\u001b[0m\u001b[0;34m.\u001b[0m\u001b[0mgenerate_smiles_fragment\u001b[0m\u001b[0;34m(\u001b[0m\u001b[0;34m)\u001b[0m\u001b[0;34m,\u001b[0m \u001b[0mparams\u001b[0m\u001b[0;34m.\u001b[0m\u001b[0mremoveHs\u001b[0m\u001b[0;34m)\u001b[0m\u001b[0;34m\u001b[0m\u001b[0;34m\u001b[0m\u001b[0m\n\u001b[1;32m    338\u001b[0m                     \u001b[0mpattern_mw\u001b[0m \u001b[0;34m=\u001b[0m \u001b[0mrdDescriptors\u001b[0m\u001b[0;34m.\u001b[0m\u001b[0mHeavyAtomMolWt\u001b[0m\u001b[0;34m(\u001b[0m\u001b[0mpattern\u001b[0m\u001b[0;34m)\u001b[0m\u001b[0;34m\u001b[0m\u001b[0;34m\u001b[0m\u001b[0m\n",
      "\u001b[0;32m~/git/bigSMILESgen/bigsmiles_gen/mol_prob.py\u001b[0m in \u001b[0;36mcopy\u001b[0;34m(self, adjust_probability)\u001b[0m\n\u001b[1;32m    222\u001b[0m \u001b[0;34m\u001b[0m\u001b[0m\n\u001b[1;32m    223\u001b[0m     \u001b[0;32mdef\u001b[0m \u001b[0mcopy\u001b[0m\u001b[0;34m(\u001b[0m\u001b[0mself\u001b[0m\u001b[0;34m,\u001b[0m \u001b[0madjust_probability\u001b[0m\u001b[0;34m=\u001b[0m\u001b[0;36m1.0\u001b[0m\u001b[0;34m)\u001b[0m\u001b[0;34m:\u001b[0m\u001b[0;34m\u001b[0m\u001b[0;34m\u001b[0m\u001b[0m\n\u001b[0;32m--> 224\u001b[0;31m         \u001b[0mnew_object\u001b[0m \u001b[0;34m=\u001b[0m \u001b[0mcopy\u001b[0m\u001b[0;34m.\u001b[0m\u001b[0mdeepcopy\u001b[0m\u001b[0;34m(\u001b[0m\u001b[0mself\u001b[0m\u001b[0;34m)\u001b[0m\u001b[0;34m\u001b[0m\u001b[0;34m\u001b[0m\u001b[0m\n\u001b[0m\u001b[1;32m    225\u001b[0m         \u001b[0mnew_object\u001b[0m\u001b[0;34m.\u001b[0m\u001b[0m_log_prob\u001b[0m \u001b[0;34m+=\u001b[0m \u001b[0mnp\u001b[0m\u001b[0;34m.\u001b[0m\u001b[0mlog\u001b[0m\u001b[0;34m(\u001b[0m\u001b[0madjust_probability\u001b[0m\u001b[0;34m)\u001b[0m\u001b[0;34m\u001b[0m\u001b[0;34m\u001b[0m\u001b[0m\n\u001b[1;32m    226\u001b[0m         \u001b[0;32mreturn\u001b[0m \u001b[0mnew_object\u001b[0m\u001b[0;34m\u001b[0m\u001b[0;34m\u001b[0m\u001b[0m\n",
      "\u001b[0;32m~/miniconda3/envs/elwood/lib/python3.9/copy.py\u001b[0m in \u001b[0;36mdeepcopy\u001b[0;34m(x, memo, _nil)\u001b[0m\n\u001b[1;32m    170\u001b[0m                     \u001b[0my\u001b[0m \u001b[0;34m=\u001b[0m \u001b[0mx\u001b[0m\u001b[0;34m\u001b[0m\u001b[0;34m\u001b[0m\u001b[0m\n\u001b[1;32m    171\u001b[0m                 \u001b[0;32melse\u001b[0m\u001b[0;34m:\u001b[0m\u001b[0;34m\u001b[0m\u001b[0;34m\u001b[0m\u001b[0m\n\u001b[0;32m--> 172\u001b[0;31m                     \u001b[0my\u001b[0m \u001b[0;34m=\u001b[0m \u001b[0m_reconstruct\u001b[0m\u001b[0;34m(\u001b[0m\u001b[0mx\u001b[0m\u001b[0;34m,\u001b[0m \u001b[0mmemo\u001b[0m\u001b[0;34m,\u001b[0m \u001b[0;34m*\u001b[0m\u001b[0mrv\u001b[0m\u001b[0;34m)\u001b[0m\u001b[0;34m\u001b[0m\u001b[0;34m\u001b[0m\u001b[0m\n\u001b[0m\u001b[1;32m    173\u001b[0m \u001b[0;34m\u001b[0m\u001b[0m\n\u001b[1;32m    174\u001b[0m     \u001b[0;31m# If is its own copy, don't memoize.\u001b[0m\u001b[0;34m\u001b[0m\u001b[0;34m\u001b[0m\u001b[0m\n",
      "\u001b[0;32m~/miniconda3/envs/elwood/lib/python3.9/copy.py\u001b[0m in \u001b[0;36m_reconstruct\u001b[0;34m(x, memo, func, args, state, listiter, dictiter, deepcopy)\u001b[0m\n\u001b[1;32m    268\u001b[0m     \u001b[0;32mif\u001b[0m \u001b[0mstate\u001b[0m \u001b[0;32mis\u001b[0m \u001b[0;32mnot\u001b[0m \u001b[0;32mNone\u001b[0m\u001b[0;34m:\u001b[0m\u001b[0;34m\u001b[0m\u001b[0;34m\u001b[0m\u001b[0m\n\u001b[1;32m    269\u001b[0m         \u001b[0;32mif\u001b[0m \u001b[0mdeep\u001b[0m\u001b[0;34m:\u001b[0m\u001b[0;34m\u001b[0m\u001b[0;34m\u001b[0m\u001b[0m\n\u001b[0;32m--> 270\u001b[0;31m             \u001b[0mstate\u001b[0m \u001b[0;34m=\u001b[0m \u001b[0mdeepcopy\u001b[0m\u001b[0;34m(\u001b[0m\u001b[0mstate\u001b[0m\u001b[0;34m,\u001b[0m \u001b[0mmemo\u001b[0m\u001b[0;34m)\u001b[0m\u001b[0;34m\u001b[0m\u001b[0;34m\u001b[0m\u001b[0m\n\u001b[0m\u001b[1;32m    271\u001b[0m         \u001b[0;32mif\u001b[0m \u001b[0mhasattr\u001b[0m\u001b[0;34m(\u001b[0m\u001b[0my\u001b[0m\u001b[0;34m,\u001b[0m \u001b[0;34m'__setstate__'\u001b[0m\u001b[0;34m)\u001b[0m\u001b[0;34m:\u001b[0m\u001b[0;34m\u001b[0m\u001b[0;34m\u001b[0m\u001b[0m\n\u001b[1;32m    272\u001b[0m             \u001b[0my\u001b[0m\u001b[0;34m.\u001b[0m\u001b[0m__setstate__\u001b[0m\u001b[0;34m(\u001b[0m\u001b[0mstate\u001b[0m\u001b[0;34m)\u001b[0m\u001b[0;34m\u001b[0m\u001b[0;34m\u001b[0m\u001b[0m\n",
      "\u001b[0;32m~/miniconda3/envs/elwood/lib/python3.9/copy.py\u001b[0m in \u001b[0;36mdeepcopy\u001b[0;34m(x, memo, _nil)\u001b[0m\n\u001b[1;32m    144\u001b[0m     \u001b[0mcopier\u001b[0m \u001b[0;34m=\u001b[0m \u001b[0m_deepcopy_dispatch\u001b[0m\u001b[0;34m.\u001b[0m\u001b[0mget\u001b[0m\u001b[0;34m(\u001b[0m\u001b[0mcls\u001b[0m\u001b[0;34m)\u001b[0m\u001b[0;34m\u001b[0m\u001b[0;34m\u001b[0m\u001b[0m\n\u001b[1;32m    145\u001b[0m     \u001b[0;32mif\u001b[0m \u001b[0mcopier\u001b[0m \u001b[0;32mis\u001b[0m \u001b[0;32mnot\u001b[0m \u001b[0;32mNone\u001b[0m\u001b[0;34m:\u001b[0m\u001b[0;34m\u001b[0m\u001b[0;34m\u001b[0m\u001b[0m\n\u001b[0;32m--> 146\u001b[0;31m         \u001b[0my\u001b[0m \u001b[0;34m=\u001b[0m \u001b[0mcopier\u001b[0m\u001b[0;34m(\u001b[0m\u001b[0mx\u001b[0m\u001b[0;34m,\u001b[0m \u001b[0mmemo\u001b[0m\u001b[0;34m)\u001b[0m\u001b[0;34m\u001b[0m\u001b[0;34m\u001b[0m\u001b[0m\n\u001b[0m\u001b[1;32m    147\u001b[0m     \u001b[0;32melse\u001b[0m\u001b[0;34m:\u001b[0m\u001b[0;34m\u001b[0m\u001b[0;34m\u001b[0m\u001b[0m\n\u001b[1;32m    148\u001b[0m         \u001b[0;32mif\u001b[0m \u001b[0missubclass\u001b[0m\u001b[0;34m(\u001b[0m\u001b[0mcls\u001b[0m\u001b[0;34m,\u001b[0m \u001b[0mtype\u001b[0m\u001b[0;34m)\u001b[0m\u001b[0;34m:\u001b[0m\u001b[0;34m\u001b[0m\u001b[0;34m\u001b[0m\u001b[0m\n",
      "\u001b[0;32m~/miniconda3/envs/elwood/lib/python3.9/copy.py\u001b[0m in \u001b[0;36m_deepcopy_dict\u001b[0;34m(x, memo, deepcopy)\u001b[0m\n\u001b[1;32m    228\u001b[0m     \u001b[0mmemo\u001b[0m\u001b[0;34m[\u001b[0m\u001b[0mid\u001b[0m\u001b[0;34m(\u001b[0m\u001b[0mx\u001b[0m\u001b[0;34m)\u001b[0m\u001b[0;34m]\u001b[0m \u001b[0;34m=\u001b[0m \u001b[0my\u001b[0m\u001b[0;34m\u001b[0m\u001b[0;34m\u001b[0m\u001b[0m\n\u001b[1;32m    229\u001b[0m     \u001b[0;32mfor\u001b[0m \u001b[0mkey\u001b[0m\u001b[0;34m,\u001b[0m \u001b[0mvalue\u001b[0m \u001b[0;32min\u001b[0m \u001b[0mx\u001b[0m\u001b[0;34m.\u001b[0m\u001b[0mitems\u001b[0m\u001b[0;34m(\u001b[0m\u001b[0;34m)\u001b[0m\u001b[0;34m:\u001b[0m\u001b[0;34m\u001b[0m\u001b[0;34m\u001b[0m\u001b[0m\n\u001b[0;32m--> 230\u001b[0;31m         \u001b[0my\u001b[0m\u001b[0;34m[\u001b[0m\u001b[0mdeepcopy\u001b[0m\u001b[0;34m(\u001b[0m\u001b[0mkey\u001b[0m\u001b[0;34m,\u001b[0m \u001b[0mmemo\u001b[0m\u001b[0;34m)\u001b[0m\u001b[0;34m]\u001b[0m \u001b[0;34m=\u001b[0m \u001b[0mdeepcopy\u001b[0m\u001b[0;34m(\u001b[0m\u001b[0mvalue\u001b[0m\u001b[0;34m,\u001b[0m \u001b[0mmemo\u001b[0m\u001b[0;34m)\u001b[0m\u001b[0;34m\u001b[0m\u001b[0;34m\u001b[0m\u001b[0m\n\u001b[0m\u001b[1;32m    231\u001b[0m     \u001b[0;32mreturn\u001b[0m \u001b[0my\u001b[0m\u001b[0;34m\u001b[0m\u001b[0;34m\u001b[0m\u001b[0m\n\u001b[1;32m    232\u001b[0m \u001b[0md\u001b[0m\u001b[0;34m[\u001b[0m\u001b[0mdict\u001b[0m\u001b[0;34m]\u001b[0m \u001b[0;34m=\u001b[0m \u001b[0m_deepcopy_dict\u001b[0m\u001b[0;34m\u001b[0m\u001b[0;34m\u001b[0m\u001b[0m\n",
      "\u001b[0;32m~/miniconda3/envs/elwood/lib/python3.9/copy.py\u001b[0m in \u001b[0;36mdeepcopy\u001b[0;34m(x, memo, _nil)\u001b[0m\n\u001b[1;32m    170\u001b[0m                     \u001b[0my\u001b[0m \u001b[0;34m=\u001b[0m \u001b[0mx\u001b[0m\u001b[0;34m\u001b[0m\u001b[0;34m\u001b[0m\u001b[0m\n\u001b[1;32m    171\u001b[0m                 \u001b[0;32melse\u001b[0m\u001b[0;34m:\u001b[0m\u001b[0;34m\u001b[0m\u001b[0;34m\u001b[0m\u001b[0m\n\u001b[0;32m--> 172\u001b[0;31m                     \u001b[0my\u001b[0m \u001b[0;34m=\u001b[0m \u001b[0m_reconstruct\u001b[0m\u001b[0;34m(\u001b[0m\u001b[0mx\u001b[0m\u001b[0;34m,\u001b[0m \u001b[0mmemo\u001b[0m\u001b[0;34m,\u001b[0m \u001b[0;34m*\u001b[0m\u001b[0mrv\u001b[0m\u001b[0;34m)\u001b[0m\u001b[0;34m\u001b[0m\u001b[0;34m\u001b[0m\u001b[0m\n\u001b[0m\u001b[1;32m    173\u001b[0m \u001b[0;34m\u001b[0m\u001b[0m\n\u001b[1;32m    174\u001b[0m     \u001b[0;31m# If is its own copy, don't memoize.\u001b[0m\u001b[0;34m\u001b[0m\u001b[0;34m\u001b[0m\u001b[0m\n",
      "\u001b[0;32m~/miniconda3/envs/elwood/lib/python3.9/copy.py\u001b[0m in \u001b[0;36m_reconstruct\u001b[0;34m(x, memo, func, args, state, listiter, dictiter, deepcopy)\u001b[0m\n\u001b[1;32m    268\u001b[0m     \u001b[0;32mif\u001b[0m \u001b[0mstate\u001b[0m \u001b[0;32mis\u001b[0m \u001b[0;32mnot\u001b[0m \u001b[0;32mNone\u001b[0m\u001b[0;34m:\u001b[0m\u001b[0;34m\u001b[0m\u001b[0;34m\u001b[0m\u001b[0m\n\u001b[1;32m    269\u001b[0m         \u001b[0;32mif\u001b[0m \u001b[0mdeep\u001b[0m\u001b[0;34m:\u001b[0m\u001b[0;34m\u001b[0m\u001b[0;34m\u001b[0m\u001b[0m\n\u001b[0;32m--> 270\u001b[0;31m             \u001b[0mstate\u001b[0m \u001b[0;34m=\u001b[0m \u001b[0mdeepcopy\u001b[0m\u001b[0;34m(\u001b[0m\u001b[0mstate\u001b[0m\u001b[0;34m,\u001b[0m \u001b[0mmemo\u001b[0m\u001b[0;34m)\u001b[0m\u001b[0;34m\u001b[0m\u001b[0;34m\u001b[0m\u001b[0m\n\u001b[0m\u001b[1;32m    271\u001b[0m         \u001b[0;32mif\u001b[0m \u001b[0mhasattr\u001b[0m\u001b[0;34m(\u001b[0m\u001b[0my\u001b[0m\u001b[0;34m,\u001b[0m \u001b[0;34m'__setstate__'\u001b[0m\u001b[0;34m)\u001b[0m\u001b[0;34m:\u001b[0m\u001b[0;34m\u001b[0m\u001b[0;34m\u001b[0m\u001b[0m\n\u001b[1;32m    272\u001b[0m             \u001b[0my\u001b[0m\u001b[0;34m.\u001b[0m\u001b[0m__setstate__\u001b[0m\u001b[0;34m(\u001b[0m\u001b[0mstate\u001b[0m\u001b[0;34m)\u001b[0m\u001b[0;34m\u001b[0m\u001b[0;34m\u001b[0m\u001b[0m\n",
      "\u001b[0;32m~/miniconda3/envs/elwood/lib/python3.9/copy.py\u001b[0m in \u001b[0;36mdeepcopy\u001b[0;34m(x, memo, _nil)\u001b[0m\n\u001b[1;32m    144\u001b[0m     \u001b[0mcopier\u001b[0m \u001b[0;34m=\u001b[0m \u001b[0m_deepcopy_dispatch\u001b[0m\u001b[0;34m.\u001b[0m\u001b[0mget\u001b[0m\u001b[0;34m(\u001b[0m\u001b[0mcls\u001b[0m\u001b[0;34m)\u001b[0m\u001b[0;34m\u001b[0m\u001b[0;34m\u001b[0m\u001b[0m\n\u001b[1;32m    145\u001b[0m     \u001b[0;32mif\u001b[0m \u001b[0mcopier\u001b[0m \u001b[0;32mis\u001b[0m \u001b[0;32mnot\u001b[0m \u001b[0;32mNone\u001b[0m\u001b[0;34m:\u001b[0m\u001b[0;34m\u001b[0m\u001b[0;34m\u001b[0m\u001b[0m\n\u001b[0;32m--> 146\u001b[0;31m         \u001b[0my\u001b[0m \u001b[0;34m=\u001b[0m \u001b[0mcopier\u001b[0m\u001b[0;34m(\u001b[0m\u001b[0mx\u001b[0m\u001b[0;34m,\u001b[0m \u001b[0mmemo\u001b[0m\u001b[0;34m)\u001b[0m\u001b[0;34m\u001b[0m\u001b[0;34m\u001b[0m\u001b[0m\n\u001b[0m\u001b[1;32m    147\u001b[0m     \u001b[0;32melse\u001b[0m\u001b[0;34m:\u001b[0m\u001b[0;34m\u001b[0m\u001b[0;34m\u001b[0m\u001b[0m\n\u001b[1;32m    148\u001b[0m         \u001b[0;32mif\u001b[0m \u001b[0missubclass\u001b[0m\u001b[0;34m(\u001b[0m\u001b[0mcls\u001b[0m\u001b[0;34m,\u001b[0m \u001b[0mtype\u001b[0m\u001b[0;34m)\u001b[0m\u001b[0;34m:\u001b[0m\u001b[0;34m\u001b[0m\u001b[0;34m\u001b[0m\u001b[0m\n",
      "\u001b[0;32m~/miniconda3/envs/elwood/lib/python3.9/copy.py\u001b[0m in \u001b[0;36m_deepcopy_dict\u001b[0;34m(x, memo, deepcopy)\u001b[0m\n\u001b[1;32m    228\u001b[0m     \u001b[0mmemo\u001b[0m\u001b[0;34m[\u001b[0m\u001b[0mid\u001b[0m\u001b[0;34m(\u001b[0m\u001b[0mx\u001b[0m\u001b[0;34m)\u001b[0m\u001b[0;34m]\u001b[0m \u001b[0;34m=\u001b[0m \u001b[0my\u001b[0m\u001b[0;34m\u001b[0m\u001b[0;34m\u001b[0m\u001b[0m\n\u001b[1;32m    229\u001b[0m     \u001b[0;32mfor\u001b[0m \u001b[0mkey\u001b[0m\u001b[0;34m,\u001b[0m \u001b[0mvalue\u001b[0m \u001b[0;32min\u001b[0m \u001b[0mx\u001b[0m\u001b[0;34m.\u001b[0m\u001b[0mitems\u001b[0m\u001b[0;34m(\u001b[0m\u001b[0;34m)\u001b[0m\u001b[0;34m:\u001b[0m\u001b[0;34m\u001b[0m\u001b[0;34m\u001b[0m\u001b[0m\n\u001b[0;32m--> 230\u001b[0;31m         \u001b[0my\u001b[0m\u001b[0;34m[\u001b[0m\u001b[0mdeepcopy\u001b[0m\u001b[0;34m(\u001b[0m\u001b[0mkey\u001b[0m\u001b[0;34m,\u001b[0m \u001b[0mmemo\u001b[0m\u001b[0;34m)\u001b[0m\u001b[0;34m]\u001b[0m \u001b[0;34m=\u001b[0m \u001b[0mdeepcopy\u001b[0m\u001b[0;34m(\u001b[0m\u001b[0mvalue\u001b[0m\u001b[0;34m,\u001b[0m \u001b[0mmemo\u001b[0m\u001b[0;34m)\u001b[0m\u001b[0;34m\u001b[0m\u001b[0;34m\u001b[0m\u001b[0m\n\u001b[0m\u001b[1;32m    231\u001b[0m     \u001b[0;32mreturn\u001b[0m \u001b[0my\u001b[0m\u001b[0;34m\u001b[0m\u001b[0;34m\u001b[0m\u001b[0m\n\u001b[1;32m    232\u001b[0m \u001b[0md\u001b[0m\u001b[0;34m[\u001b[0m\u001b[0mdict\u001b[0m\u001b[0;34m]\u001b[0m \u001b[0;34m=\u001b[0m \u001b[0m_deepcopy_dict\u001b[0m\u001b[0;34m\u001b[0m\u001b[0;34m\u001b[0m\u001b[0m\n",
      "\u001b[0;32m~/miniconda3/envs/elwood/lib/python3.9/copy.py\u001b[0m in \u001b[0;36mdeepcopy\u001b[0;34m(x, memo, _nil)\u001b[0m\n\u001b[1;32m    144\u001b[0m     \u001b[0mcopier\u001b[0m \u001b[0;34m=\u001b[0m \u001b[0m_deepcopy_dispatch\u001b[0m\u001b[0;34m.\u001b[0m\u001b[0mget\u001b[0m\u001b[0;34m(\u001b[0m\u001b[0mcls\u001b[0m\u001b[0;34m)\u001b[0m\u001b[0;34m\u001b[0m\u001b[0;34m\u001b[0m\u001b[0m\n\u001b[1;32m    145\u001b[0m     \u001b[0;32mif\u001b[0m \u001b[0mcopier\u001b[0m \u001b[0;32mis\u001b[0m \u001b[0;32mnot\u001b[0m \u001b[0;32mNone\u001b[0m\u001b[0;34m:\u001b[0m\u001b[0;34m\u001b[0m\u001b[0;34m\u001b[0m\u001b[0m\n\u001b[0;32m--> 146\u001b[0;31m         \u001b[0my\u001b[0m \u001b[0;34m=\u001b[0m \u001b[0mcopier\u001b[0m\u001b[0;34m(\u001b[0m\u001b[0mx\u001b[0m\u001b[0;34m,\u001b[0m \u001b[0mmemo\u001b[0m\u001b[0;34m)\u001b[0m\u001b[0;34m\u001b[0m\u001b[0;34m\u001b[0m\u001b[0m\n\u001b[0m\u001b[1;32m    147\u001b[0m     \u001b[0;32melse\u001b[0m\u001b[0;34m:\u001b[0m\u001b[0;34m\u001b[0m\u001b[0;34m\u001b[0m\u001b[0m\n\u001b[1;32m    148\u001b[0m         \u001b[0;32mif\u001b[0m \u001b[0missubclass\u001b[0m\u001b[0;34m(\u001b[0m\u001b[0mcls\u001b[0m\u001b[0;34m,\u001b[0m \u001b[0mtype\u001b[0m\u001b[0;34m)\u001b[0m\u001b[0;34m:\u001b[0m\u001b[0;34m\u001b[0m\u001b[0;34m\u001b[0m\u001b[0m\n",
      "\u001b[0;32m~/miniconda3/envs/elwood/lib/python3.9/copy.py\u001b[0m in \u001b[0;36m_deepcopy_list\u001b[0;34m(x, memo, deepcopy)\u001b[0m\n\u001b[1;32m    203\u001b[0m     \u001b[0mappend\u001b[0m \u001b[0;34m=\u001b[0m \u001b[0my\u001b[0m\u001b[0;34m.\u001b[0m\u001b[0mappend\u001b[0m\u001b[0;34m\u001b[0m\u001b[0;34m\u001b[0m\u001b[0m\n\u001b[1;32m    204\u001b[0m     \u001b[0;32mfor\u001b[0m \u001b[0ma\u001b[0m \u001b[0;32min\u001b[0m \u001b[0mx\u001b[0m\u001b[0;34m:\u001b[0m\u001b[0;34m\u001b[0m\u001b[0;34m\u001b[0m\u001b[0m\n\u001b[0;32m--> 205\u001b[0;31m         \u001b[0mappend\u001b[0m\u001b[0;34m(\u001b[0m\u001b[0mdeepcopy\u001b[0m\u001b[0;34m(\u001b[0m\u001b[0ma\u001b[0m\u001b[0;34m,\u001b[0m \u001b[0mmemo\u001b[0m\u001b[0;34m)\u001b[0m\u001b[0;34m)\u001b[0m\u001b[0;34m\u001b[0m\u001b[0;34m\u001b[0m\u001b[0m\n\u001b[0m\u001b[1;32m    206\u001b[0m     \u001b[0;32mreturn\u001b[0m \u001b[0my\u001b[0m\u001b[0;34m\u001b[0m\u001b[0;34m\u001b[0m\u001b[0m\n\u001b[1;32m    207\u001b[0m \u001b[0md\u001b[0m\u001b[0;34m[\u001b[0m\u001b[0mlist\u001b[0m\u001b[0;34m]\u001b[0m \u001b[0;34m=\u001b[0m \u001b[0m_deepcopy_list\u001b[0m\u001b[0;34m\u001b[0m\u001b[0;34m\u001b[0m\u001b[0m\n",
      "\u001b[0;32m~/miniconda3/envs/elwood/lib/python3.9/copy.py\u001b[0m in \u001b[0;36mdeepcopy\u001b[0;34m(x, memo, _nil)\u001b[0m\n\u001b[1;32m    159\u001b[0m                     \u001b[0mreductor\u001b[0m \u001b[0;34m=\u001b[0m \u001b[0mgetattr\u001b[0m\u001b[0;34m(\u001b[0m\u001b[0mx\u001b[0m\u001b[0;34m,\u001b[0m \u001b[0;34m\"__reduce_ex__\"\u001b[0m\u001b[0;34m,\u001b[0m \u001b[0;32mNone\u001b[0m\u001b[0;34m)\u001b[0m\u001b[0;34m\u001b[0m\u001b[0;34m\u001b[0m\u001b[0m\n\u001b[1;32m    160\u001b[0m                     \u001b[0;32mif\u001b[0m \u001b[0mreductor\u001b[0m \u001b[0;32mis\u001b[0m \u001b[0;32mnot\u001b[0m \u001b[0;32mNone\u001b[0m\u001b[0;34m:\u001b[0m\u001b[0;34m\u001b[0m\u001b[0;34m\u001b[0m\u001b[0m\n\u001b[0;32m--> 161\u001b[0;31m                         \u001b[0mrv\u001b[0m \u001b[0;34m=\u001b[0m \u001b[0mreductor\u001b[0m\u001b[0;34m(\u001b[0m\u001b[0;36m4\u001b[0m\u001b[0;34m)\u001b[0m\u001b[0;34m\u001b[0m\u001b[0;34m\u001b[0m\u001b[0m\n\u001b[0m\u001b[1;32m    162\u001b[0m                     \u001b[0;32melse\u001b[0m\u001b[0;34m:\u001b[0m\u001b[0;34m\u001b[0m\u001b[0;34m\u001b[0m\u001b[0m\n\u001b[1;32m    163\u001b[0m                         \u001b[0mreductor\u001b[0m \u001b[0;34m=\u001b[0m \u001b[0mgetattr\u001b[0m\u001b[0;34m(\u001b[0m\u001b[0mx\u001b[0m\u001b[0;34m,\u001b[0m \u001b[0;34m\"__reduce__\"\u001b[0m\u001b[0;34m,\u001b[0m \u001b[0;32mNone\u001b[0m\u001b[0;34m)\u001b[0m\u001b[0;34m\u001b[0m\u001b[0;34m\u001b[0m\u001b[0m\n",
      "\u001b[0;31mKeyboardInterrupt\u001b[0m: "
     ]
    }
   ],
   "source": [
    "big_smiles_gen(big)"
   ]
  },
  {
   "cell_type": "code",
   "execution_count": null,
   "id": "38069241",
   "metadata": {},
   "outputs": [],
   "source": [
    "big_smiles_gen(big)"
   ]
  },
  {
   "cell_type": "code",
   "execution_count": null,
   "id": "d324da10",
   "metadata": {},
   "outputs": [],
   "source": [
    "big_smiles_gen(big)"
   ]
  },
  {
   "cell_type": "code",
   "execution_count": null,
   "id": "692ceb8e",
   "metadata": {},
   "outputs": [],
   "source": [
    "big_smiles_gen(big)"
   ]
  },
  {
   "cell_type": "code",
   "execution_count": null,
   "id": "e33d91f8",
   "metadata": {},
   "outputs": [],
   "source": [
    "big_smiles_gen(big)"
   ]
  },
  {
   "cell_type": "code",
   "execution_count": null,
   "id": "7e775e4e",
   "metadata": {},
   "outputs": [],
   "source": [
    "big_smiles_gen(big)"
   ]
  },
  {
   "cell_type": "code",
   "execution_count": null,
   "id": "055d2df1",
   "metadata": {},
   "outputs": [],
   "source": [
    "big_smiles_graph(big)"
   ]
  },
  {
   "cell_type": "code",
   "execution_count": null,
   "id": "487e2c46",
   "metadata": {},
   "outputs": [],
   "source": [
    "big_smiles_graph(big)"
   ]
  },
  {
   "cell_type": "code",
   "execution_count": null,
   "id": "93276968",
   "metadata": {},
   "outputs": [],
   "source": [
    "big_smiles_graph(big)"
   ]
  },
  {
   "cell_type": "markdown",
   "id": "475a8bce",
   "metadata": {},
   "source": [
    "# Motifs"
   ]
  },
  {
   "cell_type": "code",
   "execution_count": null,
   "id": "82f4e909",
   "metadata": {},
   "outputs": [],
   "source": [
    "render_svg(moltosvg(Chem.MolFromSmiles(\"NC\")))"
   ]
  },
  {
   "cell_type": "code",
   "execution_count": null,
   "id": "23f5aca0",
   "metadata": {},
   "outputs": [],
   "source": [
    "render_svg(moltosvg(Chem.MolFromSmiles(\"CC\")))"
   ]
  },
  {
   "cell_type": "code",
   "execution_count": null,
   "id": "e285912c",
   "metadata": {},
   "outputs": [],
   "source": [
    "render_svg(moltosvg(Chem.MolFromSmiles(\"CCC(C)CC\")))"
   ]
  },
  {
   "cell_type": "code",
   "execution_count": null,
   "id": "ea17838b",
   "metadata": {},
   "outputs": [],
   "source": [
    "render_svg(moltosvg(Chem.MolFromSmiles(\"C=O\")))"
   ]
  },
  {
   "cell_type": "code",
   "execution_count": null,
   "id": "6c1aca33",
   "metadata": {},
   "outputs": [],
   "source": [
    "render_svg(moltosvg(Chem.MolFromSmiles(\"C=Cc1ccccc1\")))"
   ]
  },
  {
   "cell_type": "code",
   "execution_count": null,
   "id": "a4a31328",
   "metadata": {},
   "outputs": [],
   "source": [
    "big = \"{[] [<]C([>])c1ccccc1 ; [H][>], [H][<] []}|uniform(100, 200)|\"\n",
    "big_smiles_gen(big)"
   ]
  },
  {
   "cell_type": "code",
   "execution_count": null,
   "id": "9b07cdb0",
   "metadata": {},
   "outputs": [],
   "source": [
    "big = \"{[] [<]C([>])c1ccccc1 ; [H][>], [H][<] []}|uniform(500, 1000)|\"\n",
    "big_smiles_gen(big)"
   ]
  },
  {
   "cell_type": "code",
   "execution_count": null,
   "id": "2b3200f3",
   "metadata": {},
   "outputs": [],
   "source": [
    "big = \"OC{[<] [<]CC[>], [<|.5|]C(N[>|.1 0 0 0 0 0|])C[>]; [<][H] [>]}|flory_schulz(5e-3)|C=O.|5000|\"\n",
    "big_smiles_gen(big)"
   ]
  },
  {
   "cell_type": "code",
   "execution_count": null,
   "id": "d816ff77",
   "metadata": {},
   "outputs": [],
   "source": [
    "big_smiles_gen(big)"
   ]
  },
  {
   "cell_type": "code",
   "execution_count": null,
   "id": "fecfd20b",
   "metadata": {},
   "outputs": [],
   "source": [
    "big_smiles_gen(big)"
   ]
  },
  {
   "cell_type": "code",
   "execution_count": null,
   "id": "f7850091",
   "metadata": {},
   "outputs": [],
   "source": [
    "big_smiles_gen(big)"
   ]
  },
  {
   "cell_type": "code",
   "execution_count": null,
   "id": "06e8b30c",
   "metadata": {},
   "outputs": [],
   "source": [
    "big_smiles_graph(big)"
   ]
  },
  {
   "cell_type": "code",
   "execution_count": null,
   "id": "de29c1dc",
   "metadata": {},
   "outputs": [],
   "source": [
    "big_smiles_graph(big)"
   ]
  },
  {
   "cell_type": "code",
   "execution_count": 70,
   "id": "56e4a679",
   "metadata": {},
   "outputs": [],
   "source": [
    "big = (\n",
    "    \"O=C{[<]CC(C)NC(=O)C([<|10|])C[>|10|], CCCCOC(=O)C([<|90|])C[>|90|] [>]}|flory_schulz(5e-3)|CC\"\n",
    ")"
   ]
  },
  {
   "cell_type": "code",
   "execution_count": 71,
   "id": "8400016c",
   "metadata": {},
   "outputs": [
    {
     "name": "stdout",
     "output_type": "stream",
     "text": [
      "CCCCOC(=O)C(CC)CC=O\n",
      "0.11664666408321259\n",
      "g11\n"
     ]
    },
    {
     "data": {
      "image/png": "[encoded data removed]",
      "text/plain": [
       "<Figure size 432x288 with 1 Axes>"
      ]
     },
     "metadata": {},
     "output_type": "display_data"
    }
   ],
   "source": [
    "big_smiles_graph(big)"
   ]
  },
  {
   "cell_type": "code",
   "execution_count": 72,
   "id": "ba18cda7",
   "metadata": {},
   "outputs": [
    {
     "name": "stdout",
     "output_type": "stream",
     "text": [
      "CCCCOC(=O)C(CC)CC(CC(CC(CC(CC(CC=O)C(=O)OCCCC)C(=O)OCCCC)C(=O)OCCCC)C(=O)OCCCC)C(=O)OCCCC\n",
      "0.076217557766877\n",
      "g12\n"
     ]
    },
    {
     "data": {
      "image/png": "[encoded data removed]",
      "text/plain": [
       "<Figure size 432x288 with 1 Axes>"
      ]
     },
     "metadata": {},
     "output_type": "display_data"
    }
   ],
   "source": [
    "big_smiles_graph(big)"
   ]
  },
  {
   "cell_type": "code",
   "execution_count": 73,
   "id": "d4815756",
   "metadata": {},
   "outputs": [
    {
     "name": "stdout",
     "output_type": "stream",
     "text": [
      "CCCCOC(=O)C(CC)CC(CC(CC(CC(CC(CC(CC(CC=O)C(=O)OCCCC)C(=O)OCCCC)C(=O)OCCCC)C(=O)OCCCC)C(=O)OCCCC)C(=O)OCCCC)C(=O)OCCCC\n",
      "0.03255656064808965\n",
      "g13\n"
     ]
    },
    {
     "data": {
      "image/png": "[encoded data removed]",
      "text/plain": [
       "<Figure size 432x288 with 1 Axes>"
      ]
     },
     "metadata": {},
     "output_type": "display_data"
    }
   ],
   "source": [
    "big_smiles_graph(big)"
   ]
  },
  {
   "cell_type": "code",
   "execution_count": 74,
   "id": "3cdaf95d",
   "metadata": {},
   "outputs": [
    {
     "name": "stdout",
     "output_type": "stream",
     "text": [
      "CCCCOC(=O)C(CC)CC(CC(CC(CC(CC(CC(CC=O)C(=O)OCCCC)C(=O)OCCCC)C(=O)OCCCC)C(=O)OCCCC)C(=O)OCCCC)C(=O)OCCCC\n",
      "0.05042198623887729\n",
      "g14\n"
     ]
    },
    {
     "data": {
      "image/png": "[encoded data removed]",
      "text/plain": [
       "<Figure size 432x288 with 1 Axes>"
      ]
     },
     "metadata": {},
     "output_type": "display_data"
    }
   ],
   "source": [
    "big_smiles_graph(big)"
   ]
  },
  {
   "cell_type": "code",
   "execution_count": 75,
   "id": "5a4a3abe",
   "metadata": {},
   "outputs": [
    {
     "name": "stdout",
     "output_type": "stream",
     "text": [
      "CCCCOC(=O)C(CC)CC(CC=O)C(=O)OCCCC\n",
      "0.20819056924370447\n",
      "g15\n"
     ]
    },
    {
     "data": {
      "image/png": "[encoded data removed]",
      "text/plain": [
       "<Figure size 432x288 with 1 Axes>"
      ]
     },
     "metadata": {},
     "output_type": "display_data"
    }
   ],
   "source": [
    "big_smiles_graph(big)"
   ]
  },
  {
   "cell_type": "code",
   "execution_count": 76,
   "id": "b3cc2a4c",
   "metadata": {},
   "outputs": [
    {
     "name": "stdout",
     "output_type": "stream",
     "text": [
      "CCCCOC(=O)C(CC)CC(CC=O)C(=O)OCCCC\n",
      "0.20819056924370447\n",
      "38\n"
     ]
    },
    {
     "data": {
      "image/svg+xml": [
       "<svg xmlns=\"http://www.w3.org/2000/svg\" xmlns:rdkit=\"http://www.rdkit.org/xml\" xmlns:xlink=\"http://www.w3.org/1999/xlink\" version=\"1.1\" baseProfile=\"full\" xml:space=\"preserve\" width=\"450px\" height=\"150px\" viewBox=\"0 0 450 150\">\n",
       "<!-- END OF HEADER -->\n",
       "<rect style=\"opacity:1.0;fill:#FFFFFF;stroke:none\" width=\"450.0\" height=\"150.0\" x=\"0.0\" y=\"0.0\"> </rect>\n",
       "<path class=\"bond-0 atom-0 atom-1\" d=\"M 216.2,134.6 L 219.6,125.2\" style=\"fill:none;fill-rule:evenodd;stroke:#FF0000;stroke-width:2.0px;stroke-linecap:butt;stroke-linejoin:miter;stroke-opacity:1\"/>\n",
       "<path class=\"bond-0 atom-0 atom-1\" d=\"M 219.6,125.2 L 223.1,115.8\" style=\"fill:none;fill-rule:evenodd;stroke:#000000;stroke-width:2.0px;stroke-linecap:butt;stroke-linejoin:miter;stroke-opacity:1\"/>\n",
       "<path class=\"bond-0 atom-0 atom-1\" d=\"M 219.7,135.9 L 223.1,126.5\" style=\"fill:none;fill-rule:evenodd;stroke:#FF0000;stroke-width:2.0px;stroke-linecap:butt;stroke-linejoin:miter;stroke-opacity:1\"/>\n",
       "<path class=\"bond-0 atom-0 atom-1\" d=\"M 223.1,126.5 L 225.8,119.1\" style=\"fill:none;fill-rule:evenodd;stroke:#000000;stroke-width:2.0px;stroke-linecap:butt;stroke-linejoin:miter;stroke-opacity:1\"/>\n",
       "<path class=\"bond-1 atom-2 atom-3\" d=\"M 354.1,6.8 L 345.6,29.9\" style=\"fill:none;fill-rule:evenodd;stroke:#000000;stroke-width:2.0px;stroke-linecap:butt;stroke-linejoin:miter;stroke-opacity:1\"/>\n",
       "<path class=\"bond-2 atom-3 atom-4\" d=\"M 345.6,29.9 L 321.3,34.1\" style=\"fill:none;fill-rule:evenodd;stroke:#000000;stroke-width:2.0px;stroke-linecap:butt;stroke-linejoin:miter;stroke-opacity:1\"/>\n",
       "<path class=\"bond-3 atom-4 atom-5\" d=\"M 321.3,34.1 L 312.8,57.2\" style=\"fill:none;fill-rule:evenodd;stroke:#000000;stroke-width:2.0px;stroke-linecap:butt;stroke-linejoin:miter;stroke-opacity:1\"/>\n",
       "<path class=\"bond-4 atom-5 atom-6\" d=\"M 312.8,57.2 L 302.7,58.9\" style=\"fill:none;fill-rule:evenodd;stroke:#000000;stroke-width:2.0px;stroke-linecap:butt;stroke-linejoin:miter;stroke-opacity:1\"/>\n",
       "<path class=\"bond-4 atom-5 atom-6\" d=\"M 302.7,58.9 L 292.6,60.6\" style=\"fill:none;fill-rule:evenodd;stroke:#FF0000;stroke-width:2.0px;stroke-linecap:butt;stroke-linejoin:miter;stroke-opacity:1\"/>\n",
       "<path class=\"bond-5 atom-6 atom-7\" d=\"M 286.9,65.8 L 283.5,75.1\" style=\"fill:none;fill-rule:evenodd;stroke:#FF0000;stroke-width:2.0px;stroke-linecap:butt;stroke-linejoin:miter;stroke-opacity:1\"/>\n",
       "<path class=\"bond-5 atom-6 atom-7\" d=\"M 283.5,75.1 L 280.1,84.4\" style=\"fill:none;fill-rule:evenodd;stroke:#000000;stroke-width:2.0px;stroke-linecap:butt;stroke-linejoin:miter;stroke-opacity:1\"/>\n",
       "<path class=\"bond-6 atom-7 atom-8\" d=\"M 278.0,84.8 L 284.4,92.5\" style=\"fill:none;fill-rule:evenodd;stroke:#000000;stroke-width:2.0px;stroke-linecap:butt;stroke-linejoin:miter;stroke-opacity:1\"/>\n",
       "<path class=\"bond-6 atom-7 atom-8\" d=\"M 284.4,92.5 L 290.8,100.2\" style=\"fill:none;fill-rule:evenodd;stroke:#FF0000;stroke-width:2.0px;stroke-linecap:butt;stroke-linejoin:miter;stroke-opacity:1\"/>\n",
       "<path class=\"bond-6 atom-7 atom-8\" d=\"M 280.8,82.4 L 287.2,90.1\" style=\"fill:none;fill-rule:evenodd;stroke:#000000;stroke-width:2.0px;stroke-linecap:butt;stroke-linejoin:miter;stroke-opacity:1\"/>\n",
       "<path class=\"bond-6 atom-7 atom-8\" d=\"M 287.2,90.1 L 293.6,97.8\" style=\"fill:none;fill-rule:evenodd;stroke:#FF0000;stroke-width:2.0px;stroke-linecap:butt;stroke-linejoin:miter;stroke-opacity:1\"/>\n",
       "<path class=\"bond-7 atom-7 atom-9\" d=\"M 280.1,84.4 L 255.8,88.6\" style=\"fill:none;fill-rule:evenodd;stroke:#000000;stroke-width:2.0px;stroke-linecap:butt;stroke-linejoin:miter;stroke-opacity:1\"/>\n",
       "<path class=\"bond-8 atom-9 atom-10\" d=\"M 255.8,88.6 L 247.3,111.7\" style=\"fill:none;fill-rule:evenodd;stroke:#000000;stroke-width:2.0px;stroke-linecap:butt;stroke-linejoin:miter;stroke-opacity:1\"/>\n",
       "<path class=\"bond-9 atom-1 atom-10\" d=\"M 223.1,115.8 L 247.3,111.7\" style=\"fill:none;fill-rule:evenodd;stroke:#000000;stroke-width:2.0px;stroke-linecap:butt;stroke-linejoin:miter;stroke-opacity:1\"/>\n",
       "<path class=\"bond-10 atom-11 atom-12\" d=\"M 95.9,29.7 L 120.2,25.5\" style=\"fill:none;fill-rule:evenodd;stroke:#000000;stroke-width:2.0px;stroke-linecap:butt;stroke-linejoin:miter;stroke-opacity:1\"/>\n",
       "<path class=\"bond-11 atom-12 atom-13\" d=\"M 120.2,25.5 L 135.9,44.4\" style=\"fill:none;fill-rule:evenodd;stroke:#000000;stroke-width:2.0px;stroke-linecap:butt;stroke-linejoin:miter;stroke-opacity:1\"/>\n",
       "<path class=\"bond-12 atom-13 atom-14\" d=\"M 135.9,44.4 L 160.2,40.2\" style=\"fill:none;fill-rule:evenodd;stroke:#000000;stroke-width:2.0px;stroke-linecap:butt;stroke-linejoin:miter;stroke-opacity:1\"/>\n",
       "<path class=\"bond-13 atom-14 atom-15\" d=\"M 160.2,40.2 L 166.2,47.5\" style=\"fill:none;fill-rule:evenodd;stroke:#000000;stroke-width:2.0px;stroke-linecap:butt;stroke-linejoin:miter;stroke-opacity:1\"/>\n",
       "<path class=\"bond-13 atom-14 atom-15\" d=\"M 166.2,47.5 L 172.3,54.8\" style=\"fill:none;fill-rule:evenodd;stroke:#FF0000;stroke-width:2.0px;stroke-linecap:butt;stroke-linejoin:miter;stroke-opacity:1\"/>\n",
       "<path class=\"bond-14 atom-15 atom-16\" d=\"M 179.9,58.4 L 190.0,56.7\" style=\"fill:none;fill-rule:evenodd;stroke:#FF0000;stroke-width:2.0px;stroke-linecap:butt;stroke-linejoin:miter;stroke-opacity:1\"/>\n",
       "<path class=\"bond-14 atom-15 atom-16\" d=\"M 190.0,56.7 L 200.1,55.0\" style=\"fill:none;fill-rule:evenodd;stroke:#000000;stroke-width:2.0px;stroke-linecap:butt;stroke-linejoin:miter;stroke-opacity:1\"/>\n",
       "<path class=\"bond-15 atom-16 atom-17\" d=\"M 201.5,56.6 L 205.1,46.8\" style=\"fill:none;fill-rule:evenodd;stroke:#000000;stroke-width:2.0px;stroke-linecap:butt;stroke-linejoin:miter;stroke-opacity:1\"/>\n",
       "<path class=\"bond-15 atom-16 atom-17\" d=\"M 205.1,46.8 L 208.7,37.0\" style=\"fill:none;fill-rule:evenodd;stroke:#FF0000;stroke-width:2.0px;stroke-linecap:butt;stroke-linejoin:miter;stroke-opacity:1\"/>\n",
       "<path class=\"bond-15 atom-16 atom-17\" d=\"M 198.0,55.3 L 201.6,45.5\" style=\"fill:none;fill-rule:evenodd;stroke:#000000;stroke-width:2.0px;stroke-linecap:butt;stroke-linejoin:miter;stroke-opacity:1\"/>\n",
       "<path class=\"bond-15 atom-16 atom-17\" d=\"M 201.6,45.5 L 205.3,35.7\" style=\"fill:none;fill-rule:evenodd;stroke:#FF0000;stroke-width:2.0px;stroke-linecap:butt;stroke-linejoin:miter;stroke-opacity:1\"/>\n",
       "<path class=\"bond-16 atom-16 atom-18\" d=\"M 200.1,55.0 L 215.9,73.9\" style=\"fill:none;fill-rule:evenodd;stroke:#000000;stroke-width:2.0px;stroke-linecap:butt;stroke-linejoin:miter;stroke-opacity:1\"/>\n",
       "<path class=\"bond-17 atom-18 atom-19\" d=\"M 215.9,73.9 L 240.1,69.7\" style=\"fill:none;fill-rule:evenodd;stroke:#000000;stroke-width:2.0px;stroke-linecap:butt;stroke-linejoin:miter;stroke-opacity:1\"/>\n",
       "<path class=\"bond-18 atom-9 atom-19\" d=\"M 255.8,88.6 L 240.1,69.7\" style=\"fill:none;fill-rule:evenodd;stroke:#000000;stroke-width:2.0px;stroke-linecap:butt;stroke-linejoin:miter;stroke-opacity:1\"/>\n",
       "<path class=\"bond-19 atom-20 atom-21\" d=\"M 207.4,96.9 L 183.1,101.1\" style=\"fill:none;fill-rule:evenodd;stroke:#000000;stroke-width:2.0px;stroke-linecap:butt;stroke-linejoin:miter;stroke-opacity:1\"/>\n",
       "<path class=\"bond-20 atom-18 atom-20\" d=\"M 215.9,73.9 L 207.4,96.9\" style=\"fill:none;fill-rule:evenodd;stroke:#000000;stroke-width:2.0px;stroke-linecap:butt;stroke-linejoin:miter;stroke-opacity:1\"/>\n",
       "<path d=\"M 222.9,116.3 L 223.1,115.8 L 224.3,115.6\" style=\"fill:none;stroke:#000000;stroke-width:2.0px;stroke-linecap:butt;stroke-linejoin:miter;stroke-opacity:1;\"/>\n",
       "<path d=\"M 346.0,28.7 L 345.6,29.9 L 344.3,30.1\" style=\"fill:none;stroke:#000000;stroke-width:2.0px;stroke-linecap:butt;stroke-linejoin:miter;stroke-opacity:1;\"/>\n",
       "<path d=\"M 322.5,33.9 L 321.3,34.1 L 320.9,35.2\" style=\"fill:none;stroke:#000000;stroke-width:2.0px;stroke-linecap:butt;stroke-linejoin:miter;stroke-opacity:1;\"/>\n",
       "<path d=\"M 313.2,56.0 L 312.8,57.2 L 312.3,57.2\" style=\"fill:none;stroke:#000000;stroke-width:2.0px;stroke-linecap:butt;stroke-linejoin:miter;stroke-opacity:1;\"/>\n",
       "<path d=\"M 280.2,83.9 L 280.1,84.4 L 278.9,84.6\" style=\"fill:none;stroke:#000000;stroke-width:2.0px;stroke-linecap:butt;stroke-linejoin:miter;stroke-opacity:1;\"/>\n",
       "<path d=\"M 247.8,110.5 L 247.3,111.7 L 246.1,111.9\" style=\"fill:none;stroke:#000000;stroke-width:2.0px;stroke-linecap:butt;stroke-linejoin:miter;stroke-opacity:1;\"/>\n",
       "<path d=\"M 119.0,25.7 L 120.2,25.5 L 121.0,26.4\" style=\"fill:none;stroke:#000000;stroke-width:2.0px;stroke-linecap:butt;stroke-linejoin:miter;stroke-opacity:1;\"/>\n",
       "<path d=\"M 135.1,43.5 L 135.9,44.4 L 137.1,44.2\" style=\"fill:none;stroke:#000000;stroke-width:2.0px;stroke-linecap:butt;stroke-linejoin:miter;stroke-opacity:1;\"/>\n",
       "<path d=\"M 158.9,40.4 L 160.2,40.2 L 160.5,40.6\" style=\"fill:none;stroke:#000000;stroke-width:2.0px;stroke-linecap:butt;stroke-linejoin:miter;stroke-opacity:1;\"/>\n",
       "<path d=\"M 199.6,55.0 L 200.1,55.0 L 200.9,55.9\" style=\"fill:none;stroke:#000000;stroke-width:2.0px;stroke-linecap:butt;stroke-linejoin:miter;stroke-opacity:1;\"/>\n",
       "<path d=\"M 238.9,69.9 L 240.1,69.7 L 240.9,70.6\" style=\"fill:none;stroke:#000000;stroke-width:2.0px;stroke-linecap:butt;stroke-linejoin:miter;stroke-opacity:1;\"/>\n",
       "<path d=\"M 206.2,97.1 L 207.4,96.9 L 207.8,95.8\" style=\"fill:none;stroke:#000000;stroke-width:2.0px;stroke-linecap:butt;stroke-linejoin:miter;stroke-opacity:1;\"/>\n",
       "<path class=\"atom-0\" d=\"M 213.1 139.6 Q 213.1 137.9, 214.0 137.0 Q 214.8 136.0, 216.3 136.0 Q 217.9 136.0, 218.7 137.0 Q 219.5 137.9, 219.5 139.6 Q 219.5 141.3, 218.7 142.2 Q 217.9 143.2, 216.3 143.2 Q 214.8 143.2, 214.0 142.2 Q 213.1 141.3, 213.1 139.6 M 216.3 142.4 Q 217.4 142.4, 218.0 141.7 Q 218.5 141.0, 218.5 139.6 Q 218.5 138.2, 218.0 137.5 Q 217.4 136.8, 216.3 136.8 Q 215.3 136.8, 214.7 137.5 Q 214.1 138.2, 214.1 139.6 Q 214.1 141.0, 214.7 141.7 Q 215.3 142.4, 216.3 142.4 \" fill=\"#FF0000\"/>\n",
       "<path class=\"atom-6\" d=\"M 285.4 61.3 Q 285.4 59.7, 286.2 58.7 Q 287.0 57.8, 288.6 57.8 Q 290.1 57.8, 290.9 58.7 Q 291.8 59.7, 291.8 61.3 Q 291.8 63.0, 290.9 64.0 Q 290.1 65.0, 288.6 65.0 Q 287.0 65.0, 286.2 64.0 Q 285.4 63.0, 285.4 61.3 M 288.6 64.2 Q 289.6 64.2, 290.2 63.5 Q 290.8 62.7, 290.8 61.3 Q 290.8 60.0, 290.2 59.3 Q 289.6 58.6, 288.6 58.6 Q 287.5 58.6, 286.9 59.3 Q 286.4 60.0, 286.4 61.3 Q 286.4 62.8, 286.9 63.5 Q 287.5 64.2, 288.6 64.2 \" fill=\"#FF0000\"/>\n",
       "<path class=\"atom-8\" d=\"M 292.6 103.3 Q 292.6 101.7, 293.4 100.7 Q 294.3 99.8, 295.8 99.8 Q 297.4 99.8, 298.2 100.7 Q 299.0 101.7, 299.0 103.3 Q 299.0 105.0, 298.2 106.0 Q 297.3 106.9, 295.8 106.9 Q 294.3 106.9, 293.4 106.0 Q 292.6 105.0, 292.6 103.3 M 295.8 106.1 Q 296.9 106.1, 297.4 105.4 Q 298.0 104.7, 298.0 103.3 Q 298.0 102.0, 297.4 101.3 Q 296.9 100.6, 295.8 100.6 Q 294.7 100.6, 294.2 101.3 Q 293.6 101.9, 293.6 103.3 Q 293.6 104.7, 294.2 105.4 Q 294.7 106.1, 295.8 106.1 \" fill=\"#FF0000\"/>\n",
       "<path class=\"atom-15\" d=\"M 172.7 59.2 Q 172.7 57.5, 173.5 56.5 Q 174.3 55.6, 175.9 55.6 Q 177.4 55.6, 178.3 56.5 Q 179.1 57.5, 179.1 59.2 Q 179.1 60.8, 178.3 61.8 Q 177.4 62.8, 175.9 62.8 Q 174.4 62.8, 173.5 61.8 Q 172.7 60.9, 172.7 59.2 M 175.9 62.0 Q 177.0 62.0, 177.5 61.3 Q 178.1 60.5, 178.1 59.2 Q 178.1 57.8, 177.5 57.1 Q 177.0 56.4, 175.9 56.4 Q 174.8 56.4, 174.2 57.1 Q 173.7 57.8, 173.7 59.2 Q 173.7 60.6, 174.2 61.3 Q 174.8 62.0, 175.9 62.0 \" fill=\"#FF0000\"/>\n",
       "<path class=\"atom-17\" d=\"M 205.4 31.9 Q 205.4 30.2, 206.3 29.3 Q 207.1 28.4, 208.6 28.4 Q 210.2 28.4, 211.0 29.3 Q 211.8 30.2, 211.8 31.9 Q 211.8 33.6, 211.0 34.6 Q 210.2 35.5, 208.6 35.5 Q 207.1 35.5, 206.3 34.6 Q 205.4 33.6, 205.4 31.9 M 208.6 34.7 Q 209.7 34.7, 210.3 34.0 Q 210.8 33.3, 210.8 31.9 Q 210.8 30.5, 210.3 29.8 Q 209.7 29.1, 208.6 29.1 Q 207.6 29.1, 207.0 29.8 Q 206.4 30.5, 206.4 31.9 Q 206.4 33.3, 207.0 34.0 Q 207.6 34.7, 208.6 34.7 \" fill=\"#FF0000\"/>\n",
       "</svg>"
      ],
      "text/plain": [
       "<IPython.core.display.SVG object>"
      ]
     },
     "execution_count": 76,
     "metadata": {},
     "output_type": "execute_result"
    }
   ],
   "source": [
    "big_smiles_gen(big)"
   ]
  },
  {
   "cell_type": "code",
   "execution_count": 77,
   "id": "7c0a25d3",
   "metadata": {},
   "outputs": [
    {
     "name": "stdout",
     "output_type": "stream",
     "text": [
      "CCCCOC(=O)C(CC)CC(CC(CC=O)C(=O)OCCCC)C(=O)OCCCC\n",
      "0.1963313223155807\n",
      "39\n"
     ]
    },
    {
     "data": {
      "image/svg+xml": [
       "<svg xmlns=\"http://www.w3.org/2000/svg\" xmlns:rdkit=\"http://www.rdkit.org/xml\" xmlns:xlink=\"http://www.w3.org/1999/xlink\" version=\"1.1\" baseProfile=\"full\" xml:space=\"preserve\" width=\"450px\" height=\"150px\" viewBox=\"0 0 450 150\">\n",
       "<!-- END OF HEADER -->\n",
       "<rect style=\"opacity:1.0;fill:#FFFFFF;stroke:none\" width=\"450.0\" height=\"150.0\" x=\"0.0\" y=\"0.0\"> </rect>\n",
       "<path class=\"bond-0 atom-0 atom-1\" d=\"M 209.7,15.2 L 215.4,21.5\" style=\"fill:none;fill-rule:evenodd;stroke:#FF0000;stroke-width:2.0px;stroke-linecap:butt;stroke-linejoin:miter;stroke-opacity:1\"/>\n",
       "<path class=\"bond-0 atom-0 atom-1\" d=\"M 215.4,21.5 L 221.0,27.8\" style=\"fill:none;fill-rule:evenodd;stroke:#000000;stroke-width:2.0px;stroke-linecap:butt;stroke-linejoin:miter;stroke-opacity:1\"/>\n",
       "<path class=\"bond-0 atom-0 atom-1\" d=\"M 212.2,12.9 L 217.9,19.2\" style=\"fill:none;fill-rule:evenodd;stroke:#FF0000;stroke-width:2.0px;stroke-linecap:butt;stroke-linejoin:miter;stroke-opacity:1\"/>\n",
       "<path class=\"bond-0 atom-0 atom-1\" d=\"M 217.9,19.2 L 222.2,24.1\" style=\"fill:none;fill-rule:evenodd;stroke:#000000;stroke-width:2.0px;stroke-linecap:butt;stroke-linejoin:miter;stroke-opacity:1\"/>\n",
       "<path class=\"bond-1 atom-2 atom-3\" d=\"M 368.2,76.0 L 353.3,59.3\" style=\"fill:none;fill-rule:evenodd;stroke:#000000;stroke-width:2.0px;stroke-linecap:butt;stroke-linejoin:miter;stroke-opacity:1\"/>\n",
       "<path class=\"bond-2 atom-3 atom-4\" d=\"M 353.3,59.3 L 331.4,63.9\" style=\"fill:none;fill-rule:evenodd;stroke:#000000;stroke-width:2.0px;stroke-linecap:butt;stroke-linejoin:miter;stroke-opacity:1\"/>\n",
       "<path class=\"bond-3 atom-4 atom-5\" d=\"M 331.4,63.9 L 316.5,47.3\" style=\"fill:none;fill-rule:evenodd;stroke:#000000;stroke-width:2.0px;stroke-linecap:butt;stroke-linejoin:miter;stroke-opacity:1\"/>\n",
       "<path class=\"bond-4 atom-5 atom-6\" d=\"M 316.5,47.3 L 307.4,49.2\" style=\"fill:none;fill-rule:evenodd;stroke:#000000;stroke-width:2.0px;stroke-linecap:butt;stroke-linejoin:miter;stroke-opacity:1\"/>\n",
       "<path class=\"bond-4 atom-5 atom-6\" d=\"M 307.4,49.2 L 298.2,51.1\" style=\"fill:none;fill-rule:evenodd;stroke:#FF0000;stroke-width:2.0px;stroke-linecap:butt;stroke-linejoin:miter;stroke-opacity:1\"/>\n",
       "<path class=\"bond-5 atom-6 atom-7\" d=\"M 291.1,48.0 L 285.4,41.6\" style=\"fill:none;fill-rule:evenodd;stroke:#FF0000;stroke-width:2.0px;stroke-linecap:butt;stroke-linejoin:miter;stroke-opacity:1\"/>\n",
       "<path class=\"bond-5 atom-6 atom-7\" d=\"M 285.4,41.6 L 279.7,35.2\" style=\"fill:none;fill-rule:evenodd;stroke:#000000;stroke-width:2.0px;stroke-linecap:butt;stroke-linejoin:miter;stroke-opacity:1\"/>\n",
       "<path class=\"bond-6 atom-7 atom-8\" d=\"M 281.0,36.7 L 283.9,27.6\" style=\"fill:none;fill-rule:evenodd;stroke:#000000;stroke-width:2.0px;stroke-linecap:butt;stroke-linejoin:miter;stroke-opacity:1\"/>\n",
       "<path class=\"bond-6 atom-7 atom-8\" d=\"M 283.9,27.6 L 286.9,18.6\" style=\"fill:none;fill-rule:evenodd;stroke:#FF0000;stroke-width:2.0px;stroke-linecap:butt;stroke-linejoin:miter;stroke-opacity:1\"/>\n",
       "<path class=\"bond-6 atom-7 atom-8\" d=\"M 277.8,35.6 L 280.8,26.6\" style=\"fill:none;fill-rule:evenodd;stroke:#000000;stroke-width:2.0px;stroke-linecap:butt;stroke-linejoin:miter;stroke-opacity:1\"/>\n",
       "<path class=\"bond-6 atom-7 atom-8\" d=\"M 280.8,26.6 L 283.7,17.5\" style=\"fill:none;fill-rule:evenodd;stroke:#FF0000;stroke-width:2.0px;stroke-linecap:butt;stroke-linejoin:miter;stroke-opacity:1\"/>\n",
       "<path class=\"bond-7 atom-7 atom-9\" d=\"M 279.7,35.2 L 257.8,39.8\" style=\"fill:none;fill-rule:evenodd;stroke:#000000;stroke-width:2.0px;stroke-linecap:butt;stroke-linejoin:miter;stroke-opacity:1\"/>\n",
       "<path class=\"bond-8 atom-9 atom-10\" d=\"M 257.8,39.8 L 242.9,23.2\" style=\"fill:none;fill-rule:evenodd;stroke:#000000;stroke-width:2.0px;stroke-linecap:butt;stroke-linejoin:miter;stroke-opacity:1\"/>\n",
       "<path class=\"bond-9 atom-1 atom-10\" d=\"M 221.0,27.8 L 242.9,23.2\" style=\"fill:none;fill-rule:evenodd;stroke:#000000;stroke-width:2.0px;stroke-linecap:butt;stroke-linejoin:miter;stroke-opacity:1\"/>\n",
       "<path class=\"bond-10 atom-11 atom-12\" d=\"M 142.5,143.2 L 164.4,138.6\" style=\"fill:none;fill-rule:evenodd;stroke:#000000;stroke-width:2.0px;stroke-linecap:butt;stroke-linejoin:miter;stroke-opacity:1\"/>\n",
       "<path class=\"bond-11 atom-12 atom-13\" d=\"M 164.4,138.6 L 171.3,117.3\" style=\"fill:none;fill-rule:evenodd;stroke:#000000;stroke-width:2.0px;stroke-linecap:butt;stroke-linejoin:miter;stroke-opacity:1\"/>\n",
       "<path class=\"bond-12 atom-13 atom-14\" d=\"M 171.3,117.3 L 193.2,112.8\" style=\"fill:none;fill-rule:evenodd;stroke:#000000;stroke-width:2.0px;stroke-linecap:butt;stroke-linejoin:miter;stroke-opacity:1\"/>\n",
       "<path class=\"bond-13 atom-14 atom-15\" d=\"M 193.2,112.8 L 196.0,104.1\" style=\"fill:none;fill-rule:evenodd;stroke:#000000;stroke-width:2.0px;stroke-linecap:butt;stroke-linejoin:miter;stroke-opacity:1\"/>\n",
       "<path class=\"bond-13 atom-14 atom-15\" d=\"M 196.0,104.1 L 198.8,95.5\" style=\"fill:none;fill-rule:evenodd;stroke:#FF0000;stroke-width:2.0px;stroke-linecap:butt;stroke-linejoin:miter;stroke-opacity:1\"/>\n",
       "<path class=\"bond-14 atom-15 atom-16\" d=\"M 203.8,90.7 L 212.9,88.8\" style=\"fill:none;fill-rule:evenodd;stroke:#FF0000;stroke-width:2.0px;stroke-linecap:butt;stroke-linejoin:miter;stroke-opacity:1\"/>\n",
       "<path class=\"bond-14 atom-15 atom-16\" d=\"M 212.9,88.8 L 222.0,86.9\" style=\"fill:none;fill-rule:evenodd;stroke:#000000;stroke-width:2.0px;stroke-linecap:butt;stroke-linejoin:miter;stroke-opacity:1\"/>\n",
       "<path class=\"bond-15 atom-16 atom-17\" d=\"M 220.1,87.3 L 226.1,94.0\" style=\"fill:none;fill-rule:evenodd;stroke:#000000;stroke-width:2.0px;stroke-linecap:butt;stroke-linejoin:miter;stroke-opacity:1\"/>\n",
       "<path class=\"bond-15 atom-16 atom-17\" d=\"M 226.1,94.0 L 232.2,100.7\" style=\"fill:none;fill-rule:evenodd;stroke:#FF0000;stroke-width:2.0px;stroke-linecap:butt;stroke-linejoin:miter;stroke-opacity:1\"/>\n",
       "<path class=\"bond-15 atom-16 atom-17\" d=\"M 222.6,85.1 L 228.6,91.8\" style=\"fill:none;fill-rule:evenodd;stroke:#000000;stroke-width:2.0px;stroke-linecap:butt;stroke-linejoin:miter;stroke-opacity:1\"/>\n",
       "<path class=\"bond-15 atom-16 atom-17\" d=\"M 228.6,91.8 L 234.7,98.5\" style=\"fill:none;fill-rule:evenodd;stroke:#FF0000;stroke-width:2.0px;stroke-linecap:butt;stroke-linejoin:miter;stroke-opacity:1\"/>\n",
       "<path class=\"bond-16 atom-16 atom-18\" d=\"M 222.0,86.9 L 229.0,65.7\" style=\"fill:none;fill-rule:evenodd;stroke:#000000;stroke-width:2.0px;stroke-linecap:butt;stroke-linejoin:miter;stroke-opacity:1\"/>\n",
       "<path class=\"bond-17 atom-18 atom-19\" d=\"M 229.0,65.7 L 250.9,61.1\" style=\"fill:none;fill-rule:evenodd;stroke:#000000;stroke-width:2.0px;stroke-linecap:butt;stroke-linejoin:miter;stroke-opacity:1\"/>\n",
       "<path class=\"bond-18 atom-9 atom-19\" d=\"M 257.8,39.8 L 250.9,61.1\" style=\"fill:none;fill-rule:evenodd;stroke:#000000;stroke-width:2.0px;stroke-linecap:butt;stroke-linejoin:miter;stroke-opacity:1\"/>\n",
       "<path class=\"bond-19 atom-20 atom-21\" d=\"M 81.8,17.5 L 103.7,12.9\" style=\"fill:none;fill-rule:evenodd;stroke:#000000;stroke-width:2.0px;stroke-linecap:butt;stroke-linejoin:miter;stroke-opacity:1\"/>\n",
       "<path class=\"bond-20 atom-21 atom-22\" d=\"M 103.7,12.9 L 118.6,29.5\" style=\"fill:none;fill-rule:evenodd;stroke:#000000;stroke-width:2.0px;stroke-linecap:butt;stroke-linejoin:miter;stroke-opacity:1\"/>\n",
       "<path class=\"bond-21 atom-22 atom-23\" d=\"M 118.6,29.5 L 140.5,24.9\" style=\"fill:none;fill-rule:evenodd;stroke:#000000;stroke-width:2.0px;stroke-linecap:butt;stroke-linejoin:miter;stroke-opacity:1\"/>\n",
       "<path class=\"bond-22 atom-23 atom-24\" d=\"M 140.5,24.9 L 146.2,31.3\" style=\"fill:none;fill-rule:evenodd;stroke:#000000;stroke-width:2.0px;stroke-linecap:butt;stroke-linejoin:miter;stroke-opacity:1\"/>\n",
       "<path class=\"bond-22 atom-23 atom-24\" d=\"M 146.2,31.3 L 151.9,37.6\" style=\"fill:none;fill-rule:evenodd;stroke:#FF0000;stroke-width:2.0px;stroke-linecap:butt;stroke-linejoin:miter;stroke-opacity:1\"/>\n",
       "<path class=\"bond-23 atom-24 atom-25\" d=\"M 159.0,40.8 L 168.2,38.9\" style=\"fill:none;fill-rule:evenodd;stroke:#FF0000;stroke-width:2.0px;stroke-linecap:butt;stroke-linejoin:miter;stroke-opacity:1\"/>\n",
       "<path class=\"bond-23 atom-24 atom-25\" d=\"M 168.2,38.9 L 177.3,37.0\" style=\"fill:none;fill-rule:evenodd;stroke:#000000;stroke-width:2.0px;stroke-linecap:butt;stroke-linejoin:miter;stroke-opacity:1\"/>\n",
       "<path class=\"bond-24 atom-25 atom-26\" d=\"M 178.6,38.4 L 181.5,29.4\" style=\"fill:none;fill-rule:evenodd;stroke:#000000;stroke-width:2.0px;stroke-linecap:butt;stroke-linejoin:miter;stroke-opacity:1\"/>\n",
       "<path class=\"bond-24 atom-25 atom-26\" d=\"M 181.5,29.4 L 184.5,20.3\" style=\"fill:none;fill-rule:evenodd;stroke:#FF0000;stroke-width:2.0px;stroke-linecap:butt;stroke-linejoin:miter;stroke-opacity:1\"/>\n",
       "<path class=\"bond-24 atom-25 atom-26\" d=\"M 175.4,37.4 L 178.3,28.3\" style=\"fill:none;fill-rule:evenodd;stroke:#000000;stroke-width:2.0px;stroke-linecap:butt;stroke-linejoin:miter;stroke-opacity:1\"/>\n",
       "<path class=\"bond-24 atom-25 atom-26\" d=\"M 178.3,28.3 L 181.3,19.2\" style=\"fill:none;fill-rule:evenodd;stroke:#FF0000;stroke-width:2.0px;stroke-linecap:butt;stroke-linejoin:miter;stroke-opacity:1\"/>\n",
       "<path class=\"bond-25 atom-25 atom-27\" d=\"M 177.3,37.0 L 192.2,53.6\" style=\"fill:none;fill-rule:evenodd;stroke:#000000;stroke-width:2.0px;stroke-linecap:butt;stroke-linejoin:miter;stroke-opacity:1\"/>\n",
       "<path class=\"bond-26 atom-27 atom-28\" d=\"M 192.2,53.6 L 214.1,49.0\" style=\"fill:none;fill-rule:evenodd;stroke:#000000;stroke-width:2.0px;stroke-linecap:butt;stroke-linejoin:miter;stroke-opacity:1\"/>\n",
       "<path class=\"bond-27 atom-18 atom-28\" d=\"M 229.0,65.7 L 214.1,49.0\" style=\"fill:none;fill-rule:evenodd;stroke:#000000;stroke-width:2.0px;stroke-linecap:butt;stroke-linejoin:miter;stroke-opacity:1\"/>\n",
       "<path class=\"bond-28 atom-29 atom-30\" d=\"M 185.2,74.9 L 163.4,79.5\" style=\"fill:none;fill-rule:evenodd;stroke:#000000;stroke-width:2.0px;stroke-linecap:butt;stroke-linejoin:miter;stroke-opacity:1\"/>\n",
       "<path class=\"bond-29 atom-27 atom-29\" d=\"M 192.2,53.6 L 185.2,74.9\" style=\"fill:none;fill-rule:evenodd;stroke:#000000;stroke-width:2.0px;stroke-linecap:butt;stroke-linejoin:miter;stroke-opacity:1\"/>\n",
       "<path d=\"M 220.7,27.5 L 221.0,27.8 L 222.1,27.6\" style=\"fill:none;stroke:#000000;stroke-width:2.0px;stroke-linecap:butt;stroke-linejoin:miter;stroke-opacity:1;\"/>\n",
       "<path d=\"M 354.0,60.2 L 353.3,59.3 L 352.2,59.6\" style=\"fill:none;stroke:#000000;stroke-width:2.0px;stroke-linecap:butt;stroke-linejoin:miter;stroke-opacity:1;\"/>\n",
       "<path d=\"M 332.5,63.7 L 331.4,63.9 L 330.6,63.1\" style=\"fill:none;stroke:#000000;stroke-width:2.0px;stroke-linecap:butt;stroke-linejoin:miter;stroke-opacity:1;\"/>\n",
       "<path d=\"M 317.2,48.1 L 316.5,47.3 L 316.0,47.4\" style=\"fill:none;stroke:#000000;stroke-width:2.0px;stroke-linecap:butt;stroke-linejoin:miter;stroke-opacity:1;\"/>\n",
       "<path d=\"M 280.0,35.6 L 279.7,35.2 L 278.6,35.5\" style=\"fill:none;stroke:#000000;stroke-width:2.0px;stroke-linecap:butt;stroke-linejoin:miter;stroke-opacity:1;\"/>\n",
       "<path d=\"M 243.6,24.0 L 242.9,23.2 L 241.8,23.4\" style=\"fill:none;stroke:#000000;stroke-width:2.0px;stroke-linecap:butt;stroke-linejoin:miter;stroke-opacity:1;\"/>\n",
       "<path d=\"M 163.3,138.8 L 164.4,138.6 L 164.7,137.5\" style=\"fill:none;stroke:#000000;stroke-width:2.0px;stroke-linecap:butt;stroke-linejoin:miter;stroke-opacity:1;\"/>\n",
       "<path d=\"M 171.0,118.4 L 171.3,117.3 L 172.4,117.1\" style=\"fill:none;stroke:#000000;stroke-width:2.0px;stroke-linecap:butt;stroke-linejoin:miter;stroke-opacity:1;\"/>\n",
       "<path d=\"M 192.1,113.0 L 193.2,112.8 L 193.3,112.3\" style=\"fill:none;stroke:#000000;stroke-width:2.0px;stroke-linecap:butt;stroke-linejoin:miter;stroke-opacity:1;\"/>\n",
       "<path d=\"M 221.6,87.0 L 222.0,86.9 L 222.4,85.9\" style=\"fill:none;stroke:#000000;stroke-width:2.0px;stroke-linecap:butt;stroke-linejoin:miter;stroke-opacity:1;\"/>\n",
       "<path d=\"M 249.8,61.3 L 250.9,61.1 L 251.2,60.0\" style=\"fill:none;stroke:#000000;stroke-width:2.0px;stroke-linecap:butt;stroke-linejoin:miter;stroke-opacity:1;\"/>\n",
       "<path d=\"M 102.6,13.1 L 103.7,12.9 L 104.4,13.7\" style=\"fill:none;stroke:#000000;stroke-width:2.0px;stroke-linecap:butt;stroke-linejoin:miter;stroke-opacity:1;\"/>\n",
       "<path d=\"M 117.9,28.7 L 118.6,29.5 L 119.7,29.3\" style=\"fill:none;stroke:#000000;stroke-width:2.0px;stroke-linecap:butt;stroke-linejoin:miter;stroke-opacity:1;\"/>\n",
       "<path d=\"M 139.4,25.2 L 140.5,24.9 L 140.8,25.2\" style=\"fill:none;stroke:#000000;stroke-width:2.0px;stroke-linecap:butt;stroke-linejoin:miter;stroke-opacity:1;\"/>\n",
       "<path d=\"M 176.8,37.1 L 177.3,37.0 L 178.0,37.8\" style=\"fill:none;stroke:#000000;stroke-width:2.0px;stroke-linecap:butt;stroke-linejoin:miter;stroke-opacity:1;\"/>\n",
       "<path d=\"M 213.0,49.3 L 214.1,49.0 L 214.8,49.9\" style=\"fill:none;stroke:#000000;stroke-width:2.0px;stroke-linecap:butt;stroke-linejoin:miter;stroke-opacity:1;\"/>\n",
       "<path d=\"M 184.1,75.1 L 185.2,74.9 L 185.6,73.8\" style=\"fill:none;stroke:#000000;stroke-width:2.0px;stroke-linecap:butt;stroke-linejoin:miter;stroke-opacity:1;\"/>\n",
       "<path class=\"atom-0\" d=\"M 204.4 10.0 Q 204.4 8.5, 205.2 7.7 Q 205.9 6.8, 207.4 6.8 Q 208.8 6.8, 209.5 7.7 Q 210.3 8.5, 210.3 10.0 Q 210.3 11.6, 209.5 12.5 Q 208.7 13.3, 207.4 13.3 Q 206.0 13.3, 205.2 12.5 Q 204.4 11.6, 204.4 10.0 M 207.4 12.6 Q 208.3 12.6, 208.8 12.0 Q 209.4 11.3, 209.4 10.0 Q 209.4 8.8, 208.8 8.2 Q 208.3 7.5, 207.4 7.5 Q 206.4 7.5, 205.9 8.2 Q 205.3 8.8, 205.3 10.0 Q 205.3 11.3, 205.9 12.0 Q 206.4 12.6, 207.4 12.6 \" fill=\"#FF0000\"/>\n",
       "<path class=\"atom-6\" d=\"M 291.7 51.9 Q 291.7 50.4, 292.4 49.5 Q 293.2 48.7, 294.6 48.7 Q 296.0 48.7, 296.8 49.5 Q 297.5 50.4, 297.5 51.9 Q 297.5 53.4, 296.7 54.3 Q 296.0 55.2, 294.6 55.2 Q 293.2 55.2, 292.4 54.3 Q 291.7 53.5, 291.7 51.9 M 294.6 54.5 Q 295.6 54.5, 296.1 53.8 Q 296.6 53.2, 296.6 51.9 Q 296.6 50.7, 296.1 50.0 Q 295.6 49.4, 294.6 49.4 Q 293.6 49.4, 293.1 50.0 Q 292.6 50.7, 292.6 51.9 Q 292.6 53.2, 293.1 53.8 Q 293.6 54.5, 294.6 54.5 \" fill=\"#FF0000\"/>\n",
       "<path class=\"atom-8\" d=\"M 283.7 14.0 Q 283.7 12.5, 284.5 11.6 Q 285.2 10.8, 286.6 10.8 Q 288.0 10.8, 288.8 11.6 Q 289.6 12.5, 289.6 14.0 Q 289.6 15.6, 288.8 16.4 Q 288.0 17.3, 286.6 17.3 Q 285.3 17.3, 284.5 16.4 Q 283.7 15.6, 283.7 14.0 M 286.6 16.6 Q 287.6 16.6, 288.1 15.9 Q 288.7 15.3, 288.7 14.0 Q 288.7 12.8, 288.1 12.2 Q 287.6 11.5, 286.6 11.5 Q 285.7 11.5, 285.2 12.1 Q 284.6 12.8, 284.6 14.0 Q 284.6 15.3, 285.2 15.9 Q 285.7 16.6, 286.6 16.6 \" fill=\"#FF0000\"/>\n",
       "<path class=\"atom-15\" d=\"M 197.2 91.5 Q 197.2 90.0, 198.0 89.2 Q 198.7 88.3, 200.1 88.3 Q 201.5 88.3, 202.3 89.2 Q 203.1 90.0, 203.1 91.5 Q 203.1 93.1, 202.3 93.9 Q 201.5 94.8, 200.1 94.8 Q 198.8 94.8, 198.0 93.9 Q 197.2 93.1, 197.2 91.5 M 200.1 94.1 Q 201.1 94.1, 201.6 93.4 Q 202.2 92.8, 202.2 91.5 Q 202.2 90.3, 201.6 89.7 Q 201.1 89.0, 200.1 89.0 Q 199.2 89.0, 198.7 89.6 Q 198.1 90.3, 198.1 91.5 Q 198.1 92.8, 198.7 93.4 Q 199.2 94.1, 200.1 94.1 \" fill=\"#FF0000\"/>\n",
       "<path class=\"atom-17\" d=\"M 234.0 103.6 Q 234.0 102.1, 234.8 101.2 Q 235.5 100.4, 236.9 100.4 Q 238.3 100.4, 239.1 101.2 Q 239.8 102.1, 239.8 103.6 Q 239.8 105.1, 239.1 106.0 Q 238.3 106.9, 236.9 106.9 Q 235.5 106.9, 234.8 106.0 Q 234.0 105.1, 234.0 103.6 M 236.9 106.1 Q 237.9 106.1, 238.4 105.5 Q 238.9 104.8, 238.9 103.6 Q 238.9 102.3, 238.4 101.7 Q 237.9 101.1, 236.9 101.1 Q 236.0 101.1, 235.4 101.7 Q 234.9 102.3, 234.9 103.6 Q 234.9 104.9, 235.4 105.5 Q 236.0 106.1, 236.9 106.1 \" fill=\"#FF0000\"/>\n",
       "<path class=\"atom-24\" d=\"M 152.5 41.6 Q 152.5 40.1, 153.2 39.2 Q 154.0 38.4, 155.4 38.4 Q 156.8 38.4, 157.6 39.2 Q 158.3 40.1, 158.3 41.6 Q 158.3 43.1, 157.5 44.0 Q 156.8 44.9, 155.4 44.9 Q 154.0 44.9, 153.2 44.0 Q 152.5 43.1, 152.5 41.6 M 155.4 44.2 Q 156.4 44.2, 156.9 43.5 Q 157.4 42.9, 157.4 41.6 Q 157.4 40.3, 156.9 39.7 Q 156.4 39.1, 155.4 39.1 Q 154.4 39.1, 153.9 39.7 Q 153.4 40.3, 153.4 41.6 Q 153.4 42.9, 153.9 43.5 Q 154.4 44.2, 155.4 44.2 \" fill=\"#FF0000\"/>\n",
       "<path class=\"atom-26\" d=\"M 181.3 15.8 Q 181.3 14.2, 182.1 13.4 Q 182.8 12.5, 184.2 12.5 Q 185.6 12.5, 186.4 13.4 Q 187.1 14.2, 187.1 15.8 Q 187.1 17.3, 186.4 18.2 Q 185.6 19.0, 184.2 19.0 Q 182.8 19.0, 182.1 18.2 Q 181.3 17.3, 181.3 15.8 M 184.2 18.3 Q 185.2 18.3, 185.7 17.7 Q 186.2 17.0, 186.2 15.8 Q 186.2 14.5, 185.7 13.9 Q 185.2 13.2, 184.2 13.2 Q 183.3 13.2, 182.7 13.9 Q 182.2 14.5, 182.2 15.8 Q 182.2 17.0, 182.7 17.7 Q 183.3 18.3, 184.2 18.3 \" fill=\"#FF0000\"/>\n",
       "</svg>"
      ],
      "text/plain": [
       "<IPython.core.display.SVG object>"
      ]
     },
     "execution_count": 77,
     "metadata": {},
     "output_type": "execute_result"
    }
   ],
   "source": [
    "big_smiles_gen(big)"
   ]
  },
  {
   "cell_type": "code",
   "execution_count": 78,
   "id": "aa948226",
   "metadata": {},
   "outputs": [
    {
     "name": "stdout",
     "output_type": "stream",
     "text": [
      "CCCCOC(=O)C(CC)CC(CC(CC=O)C(=O)NC(C)C)C(=O)OCCCC\n",
      "0.20025524137547174\n",
      "40\n"
     ]
    },
    {
     "data": {
      "image/svg+xml": [
       "<svg xmlns=\"http://www.w3.org/2000/svg\" xmlns:rdkit=\"http://www.rdkit.org/xml\" xmlns:xlink=\"http://www.w3.org/1999/xlink\" version=\"1.1\" baseProfile=\"full\" xml:space=\"preserve\" width=\"450px\" height=\"150px\" viewBox=\"0 0 450 150\">\n",
       "<!-- END OF HEADER -->\n",
       "<rect style=\"opacity:1.0;fill:#FFFFFF;stroke:none\" width=\"450.0\" height=\"150.0\" x=\"0.0\" y=\"0.0\"> </rect>\n",
       "<path class=\"bond-0 atom-0 atom-1\" d=\"M 219.9,17.9 L 214.5,25.0\" style=\"fill:none;fill-rule:evenodd;stroke:#FF0000;stroke-width:2.0px;stroke-linecap:butt;stroke-linejoin:miter;stroke-opacity:1\"/>\n",
       "<path class=\"bond-0 atom-0 atom-1\" d=\"M 214.5,25.0 L 209.2,32.0\" style=\"fill:none;fill-rule:evenodd;stroke:#000000;stroke-width:2.0px;stroke-linecap:butt;stroke-linejoin:miter;stroke-opacity:1\"/>\n",
       "<path class=\"bond-0 atom-0 atom-1\" d=\"M 217.1,15.8 L 211.8,22.9\" style=\"fill:none;fill-rule:evenodd;stroke:#FF0000;stroke-width:2.0px;stroke-linecap:butt;stroke-linejoin:miter;stroke-opacity:1\"/>\n",
       "<path class=\"bond-0 atom-0 atom-1\" d=\"M 211.8,22.9 L 207.6,28.4\" style=\"fill:none;fill-rule:evenodd;stroke:#000000;stroke-width:2.0px;stroke-linecap:butt;stroke-linejoin:miter;stroke-opacity:1\"/>\n",
       "<path class=\"bond-1 atom-2 atom-3\" d=\"M 99.6,78.4 L 113.4,60.1\" style=\"fill:none;fill-rule:evenodd;stroke:#000000;stroke-width:2.0px;stroke-linecap:butt;stroke-linejoin:miter;stroke-opacity:1\"/>\n",
       "<path class=\"bond-2 atom-3 atom-4\" d=\"M 113.4,60.1 L 104.5,39.0\" style=\"fill:none;fill-rule:evenodd;stroke:#000000;stroke-width:2.0px;stroke-linecap:butt;stroke-linejoin:miter;stroke-opacity:1\"/>\n",
       "<path class=\"bond-3 atom-3 atom-5\" d=\"M 113.4,60.1 L 123.1,61.3\" style=\"fill:none;fill-rule:evenodd;stroke:#000000;stroke-width:2.0px;stroke-linecap:butt;stroke-linejoin:miter;stroke-opacity:1\"/>\n",
       "<path class=\"bond-3 atom-3 atom-5\" d=\"M 123.1,61.3 L 132.9,62.5\" style=\"fill:none;fill-rule:evenodd;stroke:#0000FF;stroke-width:2.0px;stroke-linecap:butt;stroke-linejoin:miter;stroke-opacity:1\"/>\n",
       "<path class=\"bond-4 atom-5 atom-6\" d=\"M 139.1,58.9 L 144.5,51.8\" style=\"fill:none;fill-rule:evenodd;stroke:#0000FF;stroke-width:2.0px;stroke-linecap:butt;stroke-linejoin:miter;stroke-opacity:1\"/>\n",
       "<path class=\"bond-4 atom-5 atom-6\" d=\"M 144.5,51.8 L 149.9,44.7\" style=\"fill:none;fill-rule:evenodd;stroke:#000000;stroke-width:2.0px;stroke-linecap:butt;stroke-linejoin:miter;stroke-opacity:1\"/>\n",
       "<path class=\"bond-5 atom-6 atom-7\" d=\"M 151.9,44.9 L 148.1,36.0\" style=\"fill:none;fill-rule:evenodd;stroke:#000000;stroke-width:2.0px;stroke-linecap:butt;stroke-linejoin:miter;stroke-opacity:1\"/>\n",
       "<path class=\"bond-5 atom-6 atom-7\" d=\"M 148.1,36.0 L 144.3,27.0\" style=\"fill:none;fill-rule:evenodd;stroke:#FF0000;stroke-width:2.0px;stroke-linecap:butt;stroke-linejoin:miter;stroke-opacity:1\"/>\n",
       "<path class=\"bond-5 atom-6 atom-7\" d=\"M 148.7,46.2 L 144.9,37.3\" style=\"fill:none;fill-rule:evenodd;stroke:#000000;stroke-width:2.0px;stroke-linecap:butt;stroke-linejoin:miter;stroke-opacity:1\"/>\n",
       "<path class=\"bond-5 atom-6 atom-7\" d=\"M 144.9,37.3 L 141.2,28.4\" style=\"fill:none;fill-rule:evenodd;stroke:#FF0000;stroke-width:2.0px;stroke-linecap:butt;stroke-linejoin:miter;stroke-opacity:1\"/>\n",
       "<path class=\"bond-6 atom-6 atom-8\" d=\"M 149.9,44.7 L 172.6,47.5\" style=\"fill:none;fill-rule:evenodd;stroke:#000000;stroke-width:2.0px;stroke-linecap:butt;stroke-linejoin:miter;stroke-opacity:1\"/>\n",
       "<path class=\"bond-7 atom-8 atom-9\" d=\"M 172.6,47.5 L 186.5,29.2\" style=\"fill:none;fill-rule:evenodd;stroke:#000000;stroke-width:2.0px;stroke-linecap:butt;stroke-linejoin:miter;stroke-opacity:1\"/>\n",
       "<path class=\"bond-8 atom-1 atom-9\" d=\"M 209.2,32.0 L 186.5,29.2\" style=\"fill:none;fill-rule:evenodd;stroke:#000000;stroke-width:2.0px;stroke-linecap:butt;stroke-linejoin:miter;stroke-opacity:1\"/>\n",
       "<path class=\"bond-9 atom-10 atom-11\" d=\"M 299.2,143.2 L 276.5,140.4\" style=\"fill:none;fill-rule:evenodd;stroke:#000000;stroke-width:2.0px;stroke-linecap:butt;stroke-linejoin:miter;stroke-opacity:1\"/>\n",
       "<path class=\"bond-10 atom-11 atom-12\" d=\"M 276.5,140.4 L 267.6,119.3\" style=\"fill:none;fill-rule:evenodd;stroke:#000000;stroke-width:2.0px;stroke-linecap:butt;stroke-linejoin:miter;stroke-opacity:1\"/>\n",
       "<path class=\"bond-11 atom-12 atom-13\" d=\"M 267.6,119.3 L 244.8,116.4\" style=\"fill:none;fill-rule:evenodd;stroke:#000000;stroke-width:2.0px;stroke-linecap:butt;stroke-linejoin:miter;stroke-opacity:1\"/>\n",
       "<path class=\"bond-12 atom-13 atom-14\" d=\"M 244.8,116.4 L 241.3,108.0\" style=\"fill:none;fill-rule:evenodd;stroke:#000000;stroke-width:2.0px;stroke-linecap:butt;stroke-linejoin:miter;stroke-opacity:1\"/>\n",
       "<path class=\"bond-12 atom-13 atom-14\" d=\"M 241.3,108.0 L 237.7,99.5\" style=\"fill:none;fill-rule:evenodd;stroke:#FF0000;stroke-width:2.0px;stroke-linecap:butt;stroke-linejoin:miter;stroke-opacity:1\"/>\n",
       "<path class=\"bond-13 atom-14 atom-15\" d=\"M 232.2,94.9 L 222.7,93.7\" style=\"fill:none;fill-rule:evenodd;stroke:#FF0000;stroke-width:2.0px;stroke-linecap:butt;stroke-linejoin:miter;stroke-opacity:1\"/>\n",
       "<path class=\"bond-13 atom-14 atom-15\" d=\"M 222.7,93.7 L 213.2,92.5\" style=\"fill:none;fill-rule:evenodd;stroke:#000000;stroke-width:2.0px;stroke-linecap:butt;stroke-linejoin:miter;stroke-opacity:1\"/>\n",
       "<path class=\"bond-14 atom-15 atom-16\" d=\"M 212.4,90.7 L 206.7,98.2\" style=\"fill:none;fill-rule:evenodd;stroke:#000000;stroke-width:2.0px;stroke-linecap:butt;stroke-linejoin:miter;stroke-opacity:1\"/>\n",
       "<path class=\"bond-14 atom-15 atom-16\" d=\"M 206.7,98.2 L 201.1,105.7\" style=\"fill:none;fill-rule:evenodd;stroke:#FF0000;stroke-width:2.0px;stroke-linecap:butt;stroke-linejoin:miter;stroke-opacity:1\"/>\n",
       "<path class=\"bond-14 atom-15 atom-16\" d=\"M 215.2,92.8 L 209.5,100.3\" style=\"fill:none;fill-rule:evenodd;stroke:#000000;stroke-width:2.0px;stroke-linecap:butt;stroke-linejoin:miter;stroke-opacity:1\"/>\n",
       "<path class=\"bond-14 atom-15 atom-16\" d=\"M 209.5,100.3 L 203.8,107.8\" style=\"fill:none;fill-rule:evenodd;stroke:#FF0000;stroke-width:2.0px;stroke-linecap:butt;stroke-linejoin:miter;stroke-opacity:1\"/>\n",
       "<path class=\"bond-15 atom-15 atom-17\" d=\"M 213.2,92.5 L 204.3,71.4\" style=\"fill:none;fill-rule:evenodd;stroke:#000000;stroke-width:2.0px;stroke-linecap:butt;stroke-linejoin:miter;stroke-opacity:1\"/>\n",
       "<path class=\"bond-16 atom-17 atom-18\" d=\"M 204.3,71.4 L 181.6,68.6\" style=\"fill:none;fill-rule:evenodd;stroke:#000000;stroke-width:2.0px;stroke-linecap:butt;stroke-linejoin:miter;stroke-opacity:1\"/>\n",
       "<path class=\"bond-17 atom-8 atom-18\" d=\"M 172.6,47.5 L 181.6,68.6\" style=\"fill:none;fill-rule:evenodd;stroke:#000000;stroke-width:2.0px;stroke-linecap:butt;stroke-linejoin:miter;stroke-opacity:1\"/>\n",
       "<path class=\"bond-18 atom-19 atom-20\" d=\"M 350.4,9.6 L 327.7,6.8\" style=\"fill:none;fill-rule:evenodd;stroke:#000000;stroke-width:2.0px;stroke-linecap:butt;stroke-linejoin:miter;stroke-opacity:1\"/>\n",
       "<path class=\"bond-19 atom-20 atom-21\" d=\"M 327.7,6.8 L 313.9,25.1\" style=\"fill:none;fill-rule:evenodd;stroke:#000000;stroke-width:2.0px;stroke-linecap:butt;stroke-linejoin:miter;stroke-opacity:1\"/>\n",
       "<path class=\"bond-20 atom-21 atom-22\" d=\"M 313.9,25.1 L 291.2,22.3\" style=\"fill:none;fill-rule:evenodd;stroke:#000000;stroke-width:2.0px;stroke-linecap:butt;stroke-linejoin:miter;stroke-opacity:1\"/>\n",
       "<path class=\"bond-21 atom-22 atom-23\" d=\"M 291.2,22.3 L 285.8,29.4\" style=\"fill:none;fill-rule:evenodd;stroke:#000000;stroke-width:2.0px;stroke-linecap:butt;stroke-linejoin:miter;stroke-opacity:1\"/>\n",
       "<path class=\"bond-21 atom-22 atom-23\" d=\"M 285.8,29.4 L 280.4,36.5\" style=\"fill:none;fill-rule:evenodd;stroke:#FF0000;stroke-width:2.0px;stroke-linecap:butt;stroke-linejoin:miter;stroke-opacity:1\"/>\n",
       "<path class=\"bond-22 atom-23 atom-24\" d=\"M 273.6,40.1 L 264.1,38.9\" style=\"fill:none;fill-rule:evenodd;stroke:#FF0000;stroke-width:2.0px;stroke-linecap:butt;stroke-linejoin:miter;stroke-opacity:1\"/>\n",
       "<path class=\"bond-22 atom-23 atom-24\" d=\"M 264.1,38.9 L 254.6,37.7\" style=\"fill:none;fill-rule:evenodd;stroke:#000000;stroke-width:2.0px;stroke-linecap:butt;stroke-linejoin:miter;stroke-opacity:1\"/>\n",
       "<path class=\"bond-23 atom-24 atom-25\" d=\"M 256.6,37.9 L 252.8,29.0\" style=\"fill:none;fill-rule:evenodd;stroke:#000000;stroke-width:2.0px;stroke-linecap:butt;stroke-linejoin:miter;stroke-opacity:1\"/>\n",
       "<path class=\"bond-23 atom-24 atom-25\" d=\"M 252.8,29.0 L 249.0,20.1\" style=\"fill:none;fill-rule:evenodd;stroke:#FF0000;stroke-width:2.0px;stroke-linecap:butt;stroke-linejoin:miter;stroke-opacity:1\"/>\n",
       "<path class=\"bond-23 atom-24 atom-25\" d=\"M 253.4,39.3 L 249.7,30.3\" style=\"fill:none;fill-rule:evenodd;stroke:#000000;stroke-width:2.0px;stroke-linecap:butt;stroke-linejoin:miter;stroke-opacity:1\"/>\n",
       "<path class=\"bond-23 atom-24 atom-25\" d=\"M 249.7,30.3 L 245.9,21.4\" style=\"fill:none;fill-rule:evenodd;stroke:#FF0000;stroke-width:2.0px;stroke-linecap:butt;stroke-linejoin:miter;stroke-opacity:1\"/>\n",
       "<path class=\"bond-24 atom-24 atom-26\" d=\"M 254.6,37.7 L 240.8,56.0\" style=\"fill:none;fill-rule:evenodd;stroke:#000000;stroke-width:2.0px;stroke-linecap:butt;stroke-linejoin:miter;stroke-opacity:1\"/>\n",
       "<path class=\"bond-25 atom-26 atom-27\" d=\"M 240.8,56.0 L 218.1,53.1\" style=\"fill:none;fill-rule:evenodd;stroke:#000000;stroke-width:2.0px;stroke-linecap:butt;stroke-linejoin:miter;stroke-opacity:1\"/>\n",
       "<path class=\"bond-26 atom-17 atom-27\" d=\"M 204.3,71.4 L 218.1,53.1\" style=\"fill:none;fill-rule:evenodd;stroke:#000000;stroke-width:2.0px;stroke-linecap:butt;stroke-linejoin:miter;stroke-opacity:1\"/>\n",
       "<path class=\"bond-27 atom-28 atom-29\" d=\"M 249.7,77.1 L 272.5,79.9\" style=\"fill:none;fill-rule:evenodd;stroke:#000000;stroke-width:2.0px;stroke-linecap:butt;stroke-linejoin:miter;stroke-opacity:1\"/>\n",
       "<path class=\"bond-28 atom-26 atom-28\" d=\"M 240.8,56.0 L 249.7,77.1\" style=\"fill:none;fill-rule:evenodd;stroke:#000000;stroke-width:2.0px;stroke-linecap:butt;stroke-linejoin:miter;stroke-opacity:1\"/>\n",
       "<path d=\"M 209.4,31.7 L 209.2,32.0 L 208.0,31.9\" style=\"fill:none;stroke:#000000;stroke-width:2.0px;stroke-linecap:butt;stroke-linejoin:miter;stroke-opacity:1;\"/>\n",
       "<path d=\"M 149.6,45.0 L 149.9,44.7 L 151.0,44.8\" style=\"fill:none;stroke:#000000;stroke-width:2.0px;stroke-linecap:butt;stroke-linejoin:miter;stroke-opacity:1;\"/>\n",
       "<path d=\"M 185.8,30.1 L 186.5,29.2 L 187.6,29.4\" style=\"fill:none;stroke:#000000;stroke-width:2.0px;stroke-linecap:butt;stroke-linejoin:miter;stroke-opacity:1;\"/>\n",
       "<path d=\"M 277.6,140.5 L 276.5,140.4 L 276.0,139.3\" style=\"fill:none;stroke:#000000;stroke-width:2.0px;stroke-linecap:butt;stroke-linejoin:miter;stroke-opacity:1;\"/>\n",
       "<path d=\"M 268.0,120.3 L 267.6,119.3 L 266.4,119.1\" style=\"fill:none;stroke:#000000;stroke-width:2.0px;stroke-linecap:butt;stroke-linejoin:miter;stroke-opacity:1;\"/>\n",
       "<path d=\"M 246.0,116.6 L 244.8,116.4 L 244.7,116.0\" style=\"fill:none;stroke:#000000;stroke-width:2.0px;stroke-linecap:butt;stroke-linejoin:miter;stroke-opacity:1;\"/>\n",
       "<path d=\"M 213.7,92.6 L 213.2,92.5 L 212.8,91.5\" style=\"fill:none;stroke:#000000;stroke-width:2.0px;stroke-linecap:butt;stroke-linejoin:miter;stroke-opacity:1;\"/>\n",
       "<path d=\"M 182.7,68.7 L 181.6,68.6 L 181.1,67.5\" style=\"fill:none;stroke:#000000;stroke-width:2.0px;stroke-linecap:butt;stroke-linejoin:miter;stroke-opacity:1;\"/>\n",
       "<path d=\"M 328.8,7.0 L 327.7,6.8 L 327.0,7.7\" style=\"fill:none;stroke:#000000;stroke-width:2.0px;stroke-linecap:butt;stroke-linejoin:miter;stroke-opacity:1;\"/>\n",
       "<path d=\"M 314.6,24.2 L 313.9,25.1 L 312.8,24.9\" style=\"fill:none;stroke:#000000;stroke-width:2.0px;stroke-linecap:butt;stroke-linejoin:miter;stroke-opacity:1;\"/>\n",
       "<path d=\"M 292.3,22.4 L 291.2,22.3 L 290.9,22.6\" style=\"fill:none;stroke:#000000;stroke-width:2.0px;stroke-linecap:butt;stroke-linejoin:miter;stroke-opacity:1;\"/>\n",
       "<path d=\"M 255.1,37.8 L 254.6,37.7 L 253.9,38.6\" style=\"fill:none;stroke:#000000;stroke-width:2.0px;stroke-linecap:butt;stroke-linejoin:miter;stroke-opacity:1;\"/>\n",
       "<path d=\"M 219.2,53.3 L 218.1,53.1 L 217.4,54.1\" style=\"fill:none;stroke:#000000;stroke-width:2.0px;stroke-linecap:butt;stroke-linejoin:miter;stroke-opacity:1;\"/>\n",
       "<path d=\"M 250.9,77.2 L 249.7,77.1 L 249.3,76.0\" style=\"fill:none;stroke:#000000;stroke-width:2.0px;stroke-linecap:butt;stroke-linejoin:miter;stroke-opacity:1;\"/>\n",
       "<path class=\"atom-0\" d=\"M 218.6 12.8 Q 218.6 11.2, 219.4 10.3 Q 220.2 9.5, 221.6 9.5 Q 223.1 9.5, 223.8 10.3 Q 224.6 11.2, 224.6 12.8 Q 224.6 14.3, 223.8 15.2 Q 223.0 16.1, 221.6 16.1 Q 220.2 16.1, 219.4 15.2 Q 218.6 14.3, 218.6 12.8 M 221.6 15.4 Q 222.6 15.4, 223.1 14.7 Q 223.7 14.1, 223.7 12.8 Q 223.7 11.5, 223.1 10.8 Q 222.6 10.2, 221.6 10.2 Q 220.6 10.2, 220.1 10.8 Q 219.6 11.5, 219.6 12.8 Q 219.6 14.1, 220.1 14.7 Q 220.6 15.4, 221.6 15.4 \" fill=\"#FF0000\"/>\n",
       "<path class=\"atom-5\" d=\"M 134.7 59.7 L 136.8 63.1 Q 137.0 63.5, 137.3 64.1 Q 137.7 64.7, 137.7 64.7 L 137.7 59.7 L 138.6 59.7 L 138.6 66.2 L 137.7 66.2 L 135.4 62.4 Q 135.1 62.0, 134.8 61.5 Q 134.6 61.0, 134.5 60.8 L 134.5 66.2 L 133.6 66.2 L 133.6 59.7 L 134.7 59.7 \" fill=\"#0000FF\"/>\n",
       "<path class=\"atom-5\" d=\"M 139.8 59.7 L 140.7 59.7 L 140.7 62.4 L 144.0 62.4 L 144.0 59.7 L 144.9 59.7 L 144.9 66.2 L 144.0 66.2 L 144.0 63.2 L 140.7 63.2 L 140.7 66.2 L 139.8 66.2 L 139.8 59.7 \" fill=\"#0000FF\"/>\n",
       "<path class=\"atom-7\" d=\"M 138.0 23.6 Q 138.0 22.0, 138.8 21.2 Q 139.6 20.3, 141.0 20.3 Q 142.4 20.3, 143.2 21.2 Q 144.0 22.0, 144.0 23.6 Q 144.0 25.2, 143.2 26.1 Q 142.4 26.9, 141.0 26.9 Q 139.6 26.9, 138.8 26.1 Q 138.0 25.2, 138.0 23.6 M 141.0 26.2 Q 142.0 26.2, 142.5 25.6 Q 143.1 24.9, 143.1 23.6 Q 143.1 22.3, 142.5 21.7 Q 142.0 21.0, 141.0 21.0 Q 140.0 21.0, 139.5 21.7 Q 138.9 22.3, 138.9 23.6 Q 138.9 24.9, 139.5 25.6 Q 140.0 26.2, 141.0 26.2 \" fill=\"#FF0000\"/>\n",
       "<path class=\"atom-14\" d=\"M 232.9 95.4 Q 232.9 93.8, 233.7 92.9 Q 234.5 92.1, 235.9 92.1 Q 237.4 92.1, 238.1 92.9 Q 238.9 93.8, 238.9 95.4 Q 238.9 96.9, 238.1 97.8 Q 237.3 98.7, 235.9 98.7 Q 234.5 98.7, 233.7 97.8 Q 232.9 96.9, 232.9 95.4 M 235.9 98.0 Q 236.9 98.0, 237.4 97.3 Q 238.0 96.7, 238.0 95.4 Q 238.0 94.1, 237.4 93.4 Q 236.9 92.8, 235.9 92.8 Q 234.9 92.8, 234.4 93.4 Q 233.9 94.1, 233.9 95.4 Q 233.9 96.7, 234.4 97.3 Q 234.9 98.0, 235.9 98.0 \" fill=\"#FF0000\"/>\n",
       "<path class=\"atom-16\" d=\"M 196.4 110.8 Q 196.4 109.2, 197.2 108.4 Q 197.9 107.5, 199.4 107.5 Q 200.8 107.5, 201.6 108.4 Q 202.4 109.2, 202.4 110.8 Q 202.4 112.4, 201.6 113.3 Q 200.8 114.2, 199.4 114.2 Q 198.0 114.2, 197.2 113.3 Q 196.4 112.4, 196.4 110.8 M 199.4 113.4 Q 200.4 113.4, 200.9 112.8 Q 201.4 112.1, 201.4 110.8 Q 201.4 109.5, 200.9 108.9 Q 200.4 108.2, 199.4 108.2 Q 198.4 108.2, 197.9 108.9 Q 197.3 109.5, 197.3 110.8 Q 197.3 112.1, 197.9 112.8 Q 198.4 113.4, 199.4 113.4 \" fill=\"#FF0000\"/>\n",
       "<path class=\"atom-23\" d=\"M 274.4 40.5 Q 274.4 39.0, 275.2 38.1 Q 275.9 37.2, 277.4 37.2 Q 278.8 37.2, 279.6 38.1 Q 280.3 39.0, 280.3 40.5 Q 280.3 42.1, 279.6 43.0 Q 278.8 43.9, 277.4 43.9 Q 275.9 43.9, 275.2 43.0 Q 274.4 42.1, 274.4 40.5 M 277.4 43.2 Q 278.4 43.2, 278.9 42.5 Q 279.4 41.8, 279.4 40.5 Q 279.4 39.3, 278.9 38.6 Q 278.4 38.0, 277.4 38.0 Q 276.4 38.0, 275.8 38.6 Q 275.3 39.3, 275.3 40.5 Q 275.3 41.9, 275.8 42.5 Q 276.4 43.2, 277.4 43.2 \" fill=\"#FF0000\"/>\n",
       "<path class=\"atom-25\" d=\"M 242.7 16.6 Q 242.7 15.1, 243.5 14.2 Q 244.3 13.3, 245.7 13.3 Q 247.2 13.3, 247.9 14.2 Q 248.7 15.1, 248.7 16.6 Q 248.7 18.2, 247.9 19.1 Q 247.1 20.0, 245.7 20.0 Q 244.3 20.0, 243.5 19.1 Q 242.7 18.2, 242.7 16.6 M 245.7 19.3 Q 246.7 19.3, 247.2 18.6 Q 247.8 17.9, 247.8 16.6 Q 247.8 15.4, 247.2 14.7 Q 246.7 14.1, 245.7 14.1 Q 244.7 14.1, 244.2 14.7 Q 243.7 15.3, 243.7 16.6 Q 243.7 17.9, 244.2 18.6 Q 244.7 19.3, 245.7 19.3 \" fill=\"#FF0000\"/>\n",
       "</svg>"
      ],
      "text/plain": [
       "<IPython.core.display.SVG object>"
      ]
     },
     "execution_count": 78,
     "metadata": {},
     "output_type": "execute_result"
    }
   ],
   "source": [
    "big_smiles_gen(big)"
   ]
  },
  {
   "cell_type": "code",
   "execution_count": 79,
   "id": "814cb19a",
   "metadata": {},
   "outputs": [
    {
     "name": "stdout",
     "output_type": "stream",
     "text": [
      "CCCCOC(=O)C(CC)CC(CC(CC(CC=O)C(=O)OCCCC)C(=O)OCCCC)C(=O)OCCCC\n",
      "0.15445631400224535\n",
      "41\n"
     ]
    },
    {
     "data": {
      "image/svg+xml": [
       "<svg xmlns=\"http://www.w3.org/2000/svg\" xmlns:rdkit=\"http://www.rdkit.org/xml\" xmlns:xlink=\"http://www.w3.org/1999/xlink\" version=\"1.1\" baseProfile=\"full\" xml:space=\"preserve\" width=\"450px\" height=\"150px\" viewBox=\"0 0 450 150\">\n",
       "<!-- END OF HEADER -->\n",
       "<rect style=\"opacity:1.0;fill:#FFFFFF;stroke:none\" width=\"450.0\" height=\"150.0\" x=\"0.0\" y=\"0.0\"> </rect>\n",
       "<path class=\"bond-0 atom-0 atom-1\" d=\"M 226.8,59.6 L 230.0,64.4\" style=\"fill:none;fill-rule:evenodd;stroke:#FF0000;stroke-width:2.0px;stroke-linecap:butt;stroke-linejoin:miter;stroke-opacity:1\"/>\n",
       "<path class=\"bond-0 atom-0 atom-1\" d=\"M 230.0,64.4 L 233.1,69.2\" style=\"fill:none;fill-rule:evenodd;stroke:#000000;stroke-width:2.0px;stroke-linecap:butt;stroke-linejoin:miter;stroke-opacity:1\"/>\n",
       "<path class=\"bond-0 atom-0 atom-1\" d=\"M 228.7,58.4 L 231.8,63.2\" style=\"fill:none;fill-rule:evenodd;stroke:#FF0000;stroke-width:2.0px;stroke-linecap:butt;stroke-linejoin:miter;stroke-opacity:1\"/>\n",
       "<path class=\"bond-0 atom-0 atom-1\" d=\"M 231.8,63.2 L 234.2,66.9\" style=\"fill:none;fill-rule:evenodd;stroke:#000000;stroke-width:2.0px;stroke-linecap:butt;stroke-linejoin:miter;stroke-opacity:1\"/>\n",
       "<path class=\"bond-1 atom-2 atom-3\" d=\"M 323.7,115.5 L 315.7,103.2\" style=\"fill:none;fill-rule:evenodd;stroke:#000000;stroke-width:2.0px;stroke-linecap:butt;stroke-linejoin:miter;stroke-opacity:1\"/>\n",
       "<path class=\"bond-2 atom-3 atom-4\" d=\"M 315.7,103.2 L 301.0,103.9\" style=\"fill:none;fill-rule:evenodd;stroke:#000000;stroke-width:2.0px;stroke-linecap:butt;stroke-linejoin:miter;stroke-opacity:1\"/>\n",
       "<path class=\"bond-3 atom-4 atom-5\" d=\"M 301.0,103.9 L 293.1,91.6\" style=\"fill:none;fill-rule:evenodd;stroke:#000000;stroke-width:2.0px;stroke-linecap:butt;stroke-linejoin:miter;stroke-opacity:1\"/>\n",
       "<path class=\"bond-4 atom-5 atom-6\" d=\"M 293.1,91.6 L 286.9,91.9\" style=\"fill:none;fill-rule:evenodd;stroke:#000000;stroke-width:2.0px;stroke-linecap:butt;stroke-linejoin:miter;stroke-opacity:1\"/>\n",
       "<path class=\"bond-4 atom-5 atom-6\" d=\"M 286.9,91.9 L 280.8,92.2\" style=\"fill:none;fill-rule:evenodd;stroke:#FF0000;stroke-width:2.0px;stroke-linecap:butt;stroke-linejoin:miter;stroke-opacity:1\"/>\n",
       "<path class=\"bond-5 atom-6 atom-7\" d=\"M 276.7,89.7 L 273.5,84.9\" style=\"fill:none;fill-rule:evenodd;stroke:#FF0000;stroke-width:2.0px;stroke-linecap:butt;stroke-linejoin:miter;stroke-opacity:1\"/>\n",
       "<path class=\"bond-5 atom-6 atom-7\" d=\"M 273.5,84.9 L 270.4,80.0\" style=\"fill:none;fill-rule:evenodd;stroke:#000000;stroke-width:2.0px;stroke-linecap:butt;stroke-linejoin:miter;stroke-opacity:1\"/>\n",
       "<path class=\"bond-6 atom-7 atom-8\" d=\"M 271.1,81.1 L 273.9,75.6\" style=\"fill:none;fill-rule:evenodd;stroke:#000000;stroke-width:2.0px;stroke-linecap:butt;stroke-linejoin:miter;stroke-opacity:1\"/>\n",
       "<path class=\"bond-6 atom-7 atom-8\" d=\"M 273.9,75.6 L 276.7,70.2\" style=\"fill:none;fill-rule:evenodd;stroke:#FF0000;stroke-width:2.0px;stroke-linecap:butt;stroke-linejoin:miter;stroke-opacity:1\"/>\n",
       "<path class=\"bond-6 atom-7 atom-8\" d=\"M 269.1,80.1 L 271.9,74.6\" style=\"fill:none;fill-rule:evenodd;stroke:#000000;stroke-width:2.0px;stroke-linecap:butt;stroke-linejoin:miter;stroke-opacity:1\"/>\n",
       "<path class=\"bond-6 atom-7 atom-8\" d=\"M 271.9,74.6 L 274.7,69.2\" style=\"fill:none;fill-rule:evenodd;stroke:#FF0000;stroke-width:2.0px;stroke-linecap:butt;stroke-linejoin:miter;stroke-opacity:1\"/>\n",
       "<path class=\"bond-7 atom-7 atom-9\" d=\"M 270.4,80.0 L 255.7,80.8\" style=\"fill:none;fill-rule:evenodd;stroke:#000000;stroke-width:2.0px;stroke-linecap:butt;stroke-linejoin:miter;stroke-opacity:1\"/>\n",
       "<path class=\"bond-8 atom-9 atom-10\" d=\"M 255.7,80.8 L 247.7,68.5\" style=\"fill:none;fill-rule:evenodd;stroke:#000000;stroke-width:2.0px;stroke-linecap:butt;stroke-linejoin:miter;stroke-opacity:1\"/>\n",
       "<path class=\"bond-9 atom-1 atom-10\" d=\"M 233.1,69.2 L 247.7,68.5\" style=\"fill:none;fill-rule:evenodd;stroke:#000000;stroke-width:2.0px;stroke-linecap:butt;stroke-linejoin:miter;stroke-opacity:1\"/>\n",
       "<path class=\"bond-10 atom-11 atom-12\" d=\"M 281.0,143.2 L 273.0,130.9\" style=\"fill:none;fill-rule:evenodd;stroke:#000000;stroke-width:2.0px;stroke-linecap:butt;stroke-linejoin:miter;stroke-opacity:1\"/>\n",
       "<path class=\"bond-11 atom-12 atom-13\" d=\"M 273.0,130.9 L 258.3,131.6\" style=\"fill:none;fill-rule:evenodd;stroke:#000000;stroke-width:2.0px;stroke-linecap:butt;stroke-linejoin:miter;stroke-opacity:1\"/>\n",
       "<path class=\"bond-12 atom-13 atom-14\" d=\"M 258.3,131.6 L 250.3,119.3\" style=\"fill:none;fill-rule:evenodd;stroke:#000000;stroke-width:2.0px;stroke-linecap:butt;stroke-linejoin:miter;stroke-opacity:1\"/>\n",
       "<path class=\"bond-13 atom-14 atom-15\" d=\"M 250.3,119.3 L 244.2,119.6\" style=\"fill:none;fill-rule:evenodd;stroke:#000000;stroke-width:2.0px;stroke-linecap:butt;stroke-linejoin:miter;stroke-opacity:1\"/>\n",
       "<path class=\"bond-13 atom-14 atom-15\" d=\"M 244.2,119.6 L 238.1,119.9\" style=\"fill:none;fill-rule:evenodd;stroke:#FF0000;stroke-width:2.0px;stroke-linecap:butt;stroke-linejoin:miter;stroke-opacity:1\"/>\n",
       "<path class=\"bond-14 atom-15 atom-16\" d=\"M 234.0,117.4 L 230.8,112.5\" style=\"fill:none;fill-rule:evenodd;stroke:#FF0000;stroke-width:2.0px;stroke-linecap:butt;stroke-linejoin:miter;stroke-opacity:1\"/>\n",
       "<path class=\"bond-14 atom-15 atom-16\" d=\"M 230.8,112.5 L 227.7,107.7\" style=\"fill:none;fill-rule:evenodd;stroke:#000000;stroke-width:2.0px;stroke-linecap:butt;stroke-linejoin:miter;stroke-opacity:1\"/>\n",
       "<path class=\"bond-15 atom-16 atom-17\" d=\"M 228.3,106.6 L 221.8,106.9\" style=\"fill:none;fill-rule:evenodd;stroke:#000000;stroke-width:2.0px;stroke-linecap:butt;stroke-linejoin:miter;stroke-opacity:1\"/>\n",
       "<path class=\"bond-15 atom-16 atom-17\" d=\"M 221.8,106.9 L 215.4,107.2\" style=\"fill:none;fill-rule:evenodd;stroke:#FF0000;stroke-width:2.0px;stroke-linecap:butt;stroke-linejoin:miter;stroke-opacity:1\"/>\n",
       "<path class=\"bond-15 atom-16 atom-17\" d=\"M 228.4,108.8 L 221.9,109.1\" style=\"fill:none;fill-rule:evenodd;stroke:#000000;stroke-width:2.0px;stroke-linecap:butt;stroke-linejoin:miter;stroke-opacity:1\"/>\n",
       "<path class=\"bond-15 atom-16 atom-17\" d=\"M 221.9,109.1 L 215.5,109.4\" style=\"fill:none;fill-rule:evenodd;stroke:#FF0000;stroke-width:2.0px;stroke-linecap:butt;stroke-linejoin:miter;stroke-opacity:1\"/>\n",
       "<path class=\"bond-16 atom-16 atom-18\" d=\"M 227.7,107.7 L 234.4,94.6\" style=\"fill:none;fill-rule:evenodd;stroke:#000000;stroke-width:2.0px;stroke-linecap:butt;stroke-linejoin:miter;stroke-opacity:1\"/>\n",
       "<path class=\"bond-17 atom-18 atom-19\" d=\"M 234.4,94.6 L 249.0,93.9\" style=\"fill:none;fill-rule:evenodd;stroke:#000000;stroke-width:2.0px;stroke-linecap:butt;stroke-linejoin:miter;stroke-opacity:1\"/>\n",
       "<path class=\"bond-18 atom-9 atom-19\" d=\"M 255.7,80.8 L 249.0,93.9\" style=\"fill:none;fill-rule:evenodd;stroke:#000000;stroke-width:2.0px;stroke-linecap:butt;stroke-linejoin:miter;stroke-opacity:1\"/>\n",
       "<path class=\"bond-19 atom-20 atom-21\" d=\"M 207.8,6.8 L 201.1,19.9\" style=\"fill:none;fill-rule:evenodd;stroke:#000000;stroke-width:2.0px;stroke-linecap:butt;stroke-linejoin:miter;stroke-opacity:1\"/>\n",
       "<path class=\"bond-20 atom-21 atom-22\" d=\"M 201.1,19.9 L 209.1,32.2\" style=\"fill:none;fill-rule:evenodd;stroke:#000000;stroke-width:2.0px;stroke-linecap:butt;stroke-linejoin:miter;stroke-opacity:1\"/>\n",
       "<path class=\"bond-21 atom-22 atom-23\" d=\"M 209.1,32.2 L 202.4,45.3\" style=\"fill:none;fill-rule:evenodd;stroke:#000000;stroke-width:2.0px;stroke-linecap:butt;stroke-linejoin:miter;stroke-opacity:1\"/>\n",
       "<path class=\"bond-22 atom-23 atom-24\" d=\"M 202.4,45.3 L 205.6,50.2\" style=\"fill:none;fill-rule:evenodd;stroke:#000000;stroke-width:2.0px;stroke-linecap:butt;stroke-linejoin:miter;stroke-opacity:1\"/>\n",
       "<path class=\"bond-22 atom-23 atom-24\" d=\"M 205.6,50.2 L 208.7,55.0\" style=\"fill:none;fill-rule:evenodd;stroke:#FF0000;stroke-width:2.0px;stroke-linecap:butt;stroke-linejoin:miter;stroke-opacity:1\"/>\n",
       "<path class=\"bond-23 atom-24 atom-25\" d=\"M 209.0,60.3 L 206.4,65.5\" style=\"fill:none;fill-rule:evenodd;stroke:#FF0000;stroke-width:2.0px;stroke-linecap:butt;stroke-linejoin:miter;stroke-opacity:1\"/>\n",
       "<path class=\"bond-23 atom-24 atom-25\" d=\"M 206.4,65.5 L 203.7,70.7\" style=\"fill:none;fill-rule:evenodd;stroke:#000000;stroke-width:2.0px;stroke-linecap:butt;stroke-linejoin:miter;stroke-opacity:1\"/>\n",
       "<path class=\"bond-24 atom-25 atom-26\" d=\"M 204.3,69.6 L 197.9,69.9\" style=\"fill:none;fill-rule:evenodd;stroke:#000000;stroke-width:2.0px;stroke-linecap:butt;stroke-linejoin:miter;stroke-opacity:1\"/>\n",
       "<path class=\"bond-24 atom-25 atom-26\" d=\"M 197.9,69.9 L 191.4,70.2\" style=\"fill:none;fill-rule:evenodd;stroke:#FF0000;stroke-width:2.0px;stroke-linecap:butt;stroke-linejoin:miter;stroke-opacity:1\"/>\n",
       "<path class=\"bond-24 atom-25 atom-26\" d=\"M 204.4,71.8 L 198.0,72.1\" style=\"fill:none;fill-rule:evenodd;stroke:#000000;stroke-width:2.0px;stroke-linecap:butt;stroke-linejoin:miter;stroke-opacity:1\"/>\n",
       "<path class=\"bond-24 atom-25 atom-26\" d=\"M 198.0,72.1 L 191.6,72.4\" style=\"fill:none;fill-rule:evenodd;stroke:#FF0000;stroke-width:2.0px;stroke-linecap:butt;stroke-linejoin:miter;stroke-opacity:1\"/>\n",
       "<path class=\"bond-25 atom-25 atom-27\" d=\"M 203.7,70.7 L 211.7,83.0\" style=\"fill:none;fill-rule:evenodd;stroke:#000000;stroke-width:2.0px;stroke-linecap:butt;stroke-linejoin:miter;stroke-opacity:1\"/>\n",
       "<path class=\"bond-26 atom-27 atom-28\" d=\"M 211.7,83.0 L 226.4,82.3\" style=\"fill:none;fill-rule:evenodd;stroke:#000000;stroke-width:2.0px;stroke-linecap:butt;stroke-linejoin:miter;stroke-opacity:1\"/>\n",
       "<path class=\"bond-27 atom-18 atom-28\" d=\"M 234.4,94.6 L 226.4,82.3\" style=\"fill:none;fill-rule:evenodd;stroke:#000000;stroke-width:2.0px;stroke-linecap:butt;stroke-linejoin:miter;stroke-opacity:1\"/>\n",
       "<path class=\"bond-28 atom-29 atom-30\" d=\"M 126.3,138.4 L 141.0,137.6\" style=\"fill:none;fill-rule:evenodd;stroke:#000000;stroke-width:2.0px;stroke-linecap:butt;stroke-linejoin:miter;stroke-opacity:1\"/>\n",
       "<path class=\"bond-29 atom-30 atom-31\" d=\"M 141.0,137.6 L 147.7,124.5\" style=\"fill:none;fill-rule:evenodd;stroke:#000000;stroke-width:2.0px;stroke-linecap:butt;stroke-linejoin:miter;stroke-opacity:1\"/>\n",
       "<path class=\"bond-30 atom-31 atom-32\" d=\"M 147.7,124.5 L 162.3,123.8\" style=\"fill:none;fill-rule:evenodd;stroke:#000000;stroke-width:2.0px;stroke-linecap:butt;stroke-linejoin:miter;stroke-opacity:1\"/>\n",
       "<path class=\"bond-31 atom-32 atom-33\" d=\"M 162.3,123.8 L 165.0,118.6\" style=\"fill:none;fill-rule:evenodd;stroke:#000000;stroke-width:2.0px;stroke-linecap:butt;stroke-linejoin:miter;stroke-opacity:1\"/>\n",
       "<path class=\"bond-31 atom-32 atom-33\" d=\"M 165.0,118.6 L 167.6,113.4\" style=\"fill:none;fill-rule:evenodd;stroke:#FF0000;stroke-width:2.0px;stroke-linecap:butt;stroke-linejoin:miter;stroke-opacity:1\"/>\n",
       "<path class=\"bond-32 atom-33 atom-34\" d=\"M 171.5,110.6 L 177.6,110.3\" style=\"fill:none;fill-rule:evenodd;stroke:#FF0000;stroke-width:2.0px;stroke-linecap:butt;stroke-linejoin:miter;stroke-opacity:1\"/>\n",
       "<path class=\"bond-32 atom-33 atom-34\" d=\"M 177.6,110.3 L 183.7,109.9\" style=\"fill:none;fill-rule:evenodd;stroke:#000000;stroke-width:2.0px;stroke-linecap:butt;stroke-linejoin:miter;stroke-opacity:1\"/>\n",
       "<path class=\"bond-33 atom-34 atom-35\" d=\"M 182.4,110.0 L 185.7,115.1\" style=\"fill:none;fill-rule:evenodd;stroke:#000000;stroke-width:2.0px;stroke-linecap:butt;stroke-linejoin:miter;stroke-opacity:1\"/>\n",
       "<path class=\"bond-33 atom-34 atom-35\" d=\"M 185.7,115.1 L 189.0,120.2\" style=\"fill:none;fill-rule:evenodd;stroke:#FF0000;stroke-width:2.0px;stroke-linecap:butt;stroke-linejoin:miter;stroke-opacity:1\"/>\n",
       "<path class=\"bond-33 atom-34 atom-35\" d=\"M 184.3,108.8 L 187.6,113.9\" style=\"fill:none;fill-rule:evenodd;stroke:#000000;stroke-width:2.0px;stroke-linecap:butt;stroke-linejoin:miter;stroke-opacity:1\"/>\n",
       "<path class=\"bond-33 atom-34 atom-35\" d=\"M 187.6,113.9 L 190.9,119.0\" style=\"fill:none;fill-rule:evenodd;stroke:#FF0000;stroke-width:2.0px;stroke-linecap:butt;stroke-linejoin:miter;stroke-opacity:1\"/>\n",
       "<path class=\"bond-34 atom-34 atom-36\" d=\"M 183.7,109.9 L 190.4,96.9\" style=\"fill:none;fill-rule:evenodd;stroke:#000000;stroke-width:2.0px;stroke-linecap:butt;stroke-linejoin:miter;stroke-opacity:1\"/>\n",
       "<path class=\"bond-35 atom-36 atom-37\" d=\"M 190.4,96.9 L 205.0,96.1\" style=\"fill:none;fill-rule:evenodd;stroke:#000000;stroke-width:2.0px;stroke-linecap:butt;stroke-linejoin:miter;stroke-opacity:1\"/>\n",
       "<path class=\"bond-36 atom-27 atom-37\" d=\"M 211.7,83.0 L 205.0,96.1\" style=\"fill:none;fill-rule:evenodd;stroke:#000000;stroke-width:2.0px;stroke-linecap:butt;stroke-linejoin:miter;stroke-opacity:1\"/>\n",
       "<path class=\"bond-37 atom-38 atom-39\" d=\"M 182.4,84.5 L 167.7,85.3\" style=\"fill:none;fill-rule:evenodd;stroke:#000000;stroke-width:2.0px;stroke-linecap:butt;stroke-linejoin:miter;stroke-opacity:1\"/>\n",
       "<path class=\"bond-38 atom-36 atom-38\" d=\"M 190.4,96.9 L 182.4,84.5\" style=\"fill:none;fill-rule:evenodd;stroke:#000000;stroke-width:2.0px;stroke-linecap:butt;stroke-linejoin:miter;stroke-opacity:1\"/>\n",
       "<path d=\"M 232.9,69.0 L 233.1,69.2 L 233.8,69.2\" style=\"fill:none;stroke:#000000;stroke-width:2.0px;stroke-linecap:butt;stroke-linejoin:miter;stroke-opacity:1;\"/>\n",
       "<path d=\"M 316.1,103.8 L 315.7,103.2 L 315.0,103.2\" style=\"fill:none;stroke:#000000;stroke-width:2.0px;stroke-linecap:butt;stroke-linejoin:miter;stroke-opacity:1;\"/>\n",
       "<path d=\"M 301.8,103.9 L 301.0,103.9 L 300.6,103.3\" style=\"fill:none;stroke:#000000;stroke-width:2.0px;stroke-linecap:butt;stroke-linejoin:miter;stroke-opacity:1;\"/>\n",
       "<path d=\"M 293.5,92.2 L 293.1,91.6 L 292.7,91.6\" style=\"fill:none;stroke:#000000;stroke-width:2.0px;stroke-linecap:butt;stroke-linejoin:miter;stroke-opacity:1;\"/>\n",
       "<path d=\"M 270.6,80.3 L 270.4,80.0 L 269.7,80.1\" style=\"fill:none;stroke:#000000;stroke-width:2.0px;stroke-linecap:butt;stroke-linejoin:miter;stroke-opacity:1;\"/>\n",
       "<path d=\"M 248.1,69.1 L 247.7,68.5 L 247.0,68.5\" style=\"fill:none;stroke:#000000;stroke-width:2.0px;stroke-linecap:butt;stroke-linejoin:miter;stroke-opacity:1;\"/>\n",
       "<path d=\"M 273.4,131.5 L 273.0,130.9 L 272.3,130.9\" style=\"fill:none;stroke:#000000;stroke-width:2.0px;stroke-linecap:butt;stroke-linejoin:miter;stroke-opacity:1;\"/>\n",
       "<path d=\"M 259.1,131.6 L 258.3,131.6 L 257.9,131.0\" style=\"fill:none;stroke:#000000;stroke-width:2.0px;stroke-linecap:butt;stroke-linejoin:miter;stroke-opacity:1;\"/>\n",
       "<path d=\"M 250.7,119.9 L 250.3,119.3 L 250.0,119.3\" style=\"fill:none;stroke:#000000;stroke-width:2.0px;stroke-linecap:butt;stroke-linejoin:miter;stroke-opacity:1;\"/>\n",
       "<path d=\"M 227.8,107.9 L 227.7,107.7 L 228.0,107.0\" style=\"fill:none;stroke:#000000;stroke-width:2.0px;stroke-linecap:butt;stroke-linejoin:miter;stroke-opacity:1;\"/>\n",
       "<path d=\"M 248.3,93.9 L 249.0,93.9 L 249.4,93.2\" style=\"fill:none;stroke:#000000;stroke-width:2.0px;stroke-linecap:butt;stroke-linejoin:miter;stroke-opacity:1;\"/>\n",
       "<path d=\"M 201.5,19.2 L 201.1,19.9 L 201.5,20.5\" style=\"fill:none;stroke:#000000;stroke-width:2.0px;stroke-linecap:butt;stroke-linejoin:miter;stroke-opacity:1;\"/>\n",
       "<path d=\"M 208.7,31.6 L 209.1,32.2 L 208.8,32.9\" style=\"fill:none;stroke:#000000;stroke-width:2.0px;stroke-linecap:butt;stroke-linejoin:miter;stroke-opacity:1;\"/>\n",
       "<path d=\"M 202.8,44.7 L 202.4,45.3 L 202.6,45.5\" style=\"fill:none;stroke:#000000;stroke-width:2.0px;stroke-linecap:butt;stroke-linejoin:miter;stroke-opacity:1;\"/>\n",
       "<path d=\"M 203.9,70.5 L 203.7,70.7 L 204.1,71.3\" style=\"fill:none;stroke:#000000;stroke-width:2.0px;stroke-linecap:butt;stroke-linejoin:miter;stroke-opacity:1;\"/>\n",
       "<path d=\"M 225.7,82.3 L 226.4,82.3 L 226.8,82.9\" style=\"fill:none;stroke:#000000;stroke-width:2.0px;stroke-linecap:butt;stroke-linejoin:miter;stroke-opacity:1;\"/>\n",
       "<path d=\"M 140.2,137.6 L 141.0,137.6 L 141.3,137.0\" style=\"fill:none;stroke:#000000;stroke-width:2.0px;stroke-linecap:butt;stroke-linejoin:miter;stroke-opacity:1;\"/>\n",
       "<path d=\"M 147.3,125.2 L 147.7,124.5 L 148.4,124.5\" style=\"fill:none;stroke:#000000;stroke-width:2.0px;stroke-linecap:butt;stroke-linejoin:miter;stroke-opacity:1;\"/>\n",
       "<path d=\"M 161.6,123.8 L 162.3,123.8 L 162.5,123.5\" style=\"fill:none;stroke:#000000;stroke-width:2.0px;stroke-linecap:butt;stroke-linejoin:miter;stroke-opacity:1;\"/>\n",
       "<path d=\"M 183.4,110.0 L 183.7,109.9 L 184.0,109.3\" style=\"fill:none;stroke:#000000;stroke-width:2.0px;stroke-linecap:butt;stroke-linejoin:miter;stroke-opacity:1;\"/>\n",
       "<path d=\"M 204.3,96.2 L 205.0,96.1 L 205.4,95.5\" style=\"fill:none;stroke:#000000;stroke-width:2.0px;stroke-linecap:butt;stroke-linejoin:miter;stroke-opacity:1;\"/>\n",
       "<path d=\"M 181.7,84.6 L 182.4,84.5 L 182.8,85.2\" style=\"fill:none;stroke:#000000;stroke-width:2.0px;stroke-linecap:butt;stroke-linejoin:miter;stroke-opacity:1;\"/>\n",
       "<path class=\"atom-0\" d=\"M 224.1 56.3 Q 224.1 55.3, 224.6 54.7 Q 225.1 54.1, 226.0 54.1 Q 227.0 54.1, 227.5 54.7 Q 228.0 55.3, 228.0 56.3 Q 228.0 57.3, 227.5 57.9 Q 226.9 58.5, 226.0 58.5 Q 225.1 58.5, 224.6 57.9 Q 224.1 57.3, 224.1 56.3 M 226.0 58.0 Q 226.7 58.0, 227.0 57.6 Q 227.4 57.1, 227.4 56.3 Q 227.4 55.5, 227.0 55.0 Q 226.7 54.6, 226.0 54.6 Q 225.4 54.6, 225.0 55.0 Q 224.7 55.5, 224.7 56.3 Q 224.7 57.2, 225.0 57.6 Q 225.4 58.0, 226.0 58.0 \" fill=\"#FF0000\"/>\n",
       "<path class=\"atom-6\" d=\"M 276.4 92.4 Q 276.4 91.4, 276.9 90.8 Q 277.4 90.2, 278.4 90.2 Q 279.3 90.2, 279.8 90.8 Q 280.3 91.4, 280.3 92.4 Q 280.3 93.4, 279.8 94.0 Q 279.3 94.6, 278.4 94.6 Q 277.4 94.6, 276.9 94.0 Q 276.4 93.4, 276.4 92.4 M 278.4 94.1 Q 279.0 94.1, 279.4 93.7 Q 279.7 93.2, 279.7 92.4 Q 279.7 91.5, 279.4 91.1 Q 279.0 90.7, 278.4 90.7 Q 277.7 90.7, 277.4 91.1 Q 277.0 91.5, 277.0 92.4 Q 277.0 93.2, 277.4 93.7 Q 277.7 94.1, 278.4 94.1 \" fill=\"#FF0000\"/>\n",
       "<path class=\"atom-8\" d=\"M 275.1 67.0 Q 275.1 66.0, 275.6 65.4 Q 276.1 64.8, 277.1 64.8 Q 278.0 64.8, 278.5 65.4 Q 279.0 66.0, 279.0 67.0 Q 279.0 68.0, 278.5 68.6 Q 278.0 69.2, 277.1 69.2 Q 276.1 69.2, 275.6 68.6 Q 275.1 68.0, 275.1 67.0 M 277.1 68.7 Q 277.7 68.7, 278.1 68.3 Q 278.4 67.8, 278.4 67.0 Q 278.4 66.1, 278.1 65.7 Q 277.7 65.3, 277.1 65.3 Q 276.4 65.3, 276.1 65.7 Q 275.7 66.1, 275.7 67.0 Q 275.7 67.8, 276.1 68.3 Q 276.4 68.7, 277.1 68.7 \" fill=\"#FF0000\"/>\n",
       "<path class=\"atom-15\" d=\"M 233.7 120.0 Q 233.7 119.0, 234.2 118.4 Q 234.7 117.9, 235.7 117.9 Q 236.6 117.9, 237.1 118.4 Q 237.6 119.0, 237.6 120.0 Q 237.6 121.1, 237.1 121.7 Q 236.6 122.2, 235.7 122.2 Q 234.7 122.2, 234.2 121.7 Q 233.7 121.1, 233.7 120.0 M 235.7 121.8 Q 236.3 121.8, 236.7 121.3 Q 237.0 120.9, 237.0 120.0 Q 237.0 119.2, 236.7 118.8 Q 236.3 118.4, 235.7 118.4 Q 235.0 118.4, 234.7 118.8 Q 234.3 119.2, 234.3 120.0 Q 234.3 120.9, 234.7 121.3 Q 235.0 121.8, 235.7 121.8 \" fill=\"#FF0000\"/>\n",
       "<path class=\"atom-17\" d=\"M 211.1 108.5 Q 211.1 107.4, 211.6 106.9 Q 212.1 106.3, 213.0 106.3 Q 214.0 106.3, 214.5 106.9 Q 215.0 107.4, 215.0 108.5 Q 215.0 109.5, 214.5 110.1 Q 214.0 110.7, 213.0 110.7 Q 212.1 110.7, 211.6 110.1 Q 211.1 109.5, 211.1 108.5 M 213.0 110.2 Q 213.7 110.2, 214.0 109.8 Q 214.4 109.3, 214.4 108.5 Q 214.4 107.6, 214.0 107.2 Q 213.7 106.8, 213.0 106.8 Q 212.4 106.8, 212.0 107.2 Q 211.7 107.6, 211.7 108.5 Q 211.7 109.3, 212.0 109.8 Q 212.4 110.2, 213.0 110.2 \" fill=\"#FF0000\"/>\n",
       "<path class=\"atom-24\" d=\"M 208.5 57.6 Q 208.5 56.6, 209.0 56.1 Q 209.5 55.5, 210.4 55.5 Q 211.4 55.5, 211.9 56.1 Q 212.4 56.6, 212.4 57.6 Q 212.4 58.7, 211.9 59.3 Q 211.4 59.8, 210.4 59.8 Q 209.5 59.8, 209.0 59.3 Q 208.5 58.7, 208.5 57.6 M 210.4 59.4 Q 211.1 59.4, 211.4 58.9 Q 211.8 58.5, 211.8 57.6 Q 211.8 56.8, 211.4 56.4 Q 211.1 56.0, 210.4 56.0 Q 209.8 56.0, 209.4 56.4 Q 209.1 56.8, 209.1 57.6 Q 209.1 58.5, 209.4 58.9 Q 209.8 59.4, 210.4 59.4 \" fill=\"#FF0000\"/>\n",
       "<path class=\"atom-26\" d=\"M 187.1 71.5 Q 187.1 70.5, 187.6 69.9 Q 188.1 69.3, 189.1 69.3 Q 190.0 69.3, 190.5 69.9 Q 191.0 70.5, 191.0 71.5 Q 191.0 72.5, 190.5 73.1 Q 190.0 73.7, 189.1 73.7 Q 188.1 73.7, 187.6 73.1 Q 187.1 72.5, 187.1 71.5 M 189.1 73.2 Q 189.7 73.2, 190.1 72.8 Q 190.4 72.3, 190.4 71.5 Q 190.4 70.6, 190.1 70.2 Q 189.7 69.8, 189.1 69.8 Q 188.4 69.8, 188.1 70.2 Q 187.7 70.6, 187.7 71.5 Q 187.7 72.3, 188.1 72.8 Q 188.4 73.2, 189.1 73.2 \" fill=\"#FF0000\"/>\n",
       "<path class=\"atom-33\" d=\"M 167.1 110.7 Q 167.1 109.7, 167.6 109.1 Q 168.1 108.6, 169.0 108.6 Q 170.0 108.6, 170.5 109.1 Q 171.0 109.7, 171.0 110.7 Q 171.0 111.7, 170.5 112.3 Q 169.9 112.9, 169.0 112.9 Q 168.1 112.9, 167.6 112.3 Q 167.1 111.8, 167.1 110.7 M 169.0 112.4 Q 169.7 112.4, 170.0 112.0 Q 170.4 111.6, 170.4 110.7 Q 170.4 109.9, 170.0 109.5 Q 169.7 109.0, 169.0 109.0 Q 168.4 109.0, 168.0 109.5 Q 167.7 109.9, 167.7 110.7 Q 167.7 111.6, 168.0 112.0 Q 168.4 112.4, 169.0 112.4 \" fill=\"#FF0000\"/>\n",
       "<path class=\"atom-35\" d=\"M 189.7 122.3 Q 189.7 121.3, 190.2 120.7 Q 190.7 120.1, 191.7 120.1 Q 192.6 120.1, 193.1 120.7 Q 193.6 121.3, 193.6 122.3 Q 193.6 123.3, 193.1 123.9 Q 192.6 124.5, 191.7 124.5 Q 190.7 124.5, 190.2 123.9 Q 189.7 123.3, 189.7 122.3 M 191.7 124.0 Q 192.3 124.0, 192.7 123.6 Q 193.0 123.1, 193.0 122.3 Q 193.0 121.5, 192.7 121.0 Q 192.3 120.6, 191.7 120.6 Q 191.0 120.6, 190.7 121.0 Q 190.3 121.5, 190.3 122.3 Q 190.3 123.1, 190.7 123.6 Q 191.0 124.0, 191.7 124.0 \" fill=\"#FF0000\"/>\n",
       "</svg>"
      ],
      "text/plain": [
       "<IPython.core.display.SVG object>"
      ]
     },
     "execution_count": 79,
     "metadata": {},
     "output_type": "execute_result"
    }
   ],
   "source": [
    "big_smiles_gen(big)"
   ]
  },
  {
   "cell_type": "code",
   "execution_count": 80,
   "id": "677457ba",
   "metadata": {},
   "outputs": [
    {
     "name": "stdout",
     "output_type": "stream",
     "text": [
      "CCCCOC(=O)C(CC)CC(CC=O)C(=O)OCCCC\n",
      "0.20819056924370447\n",
      "42\n"
     ]
    },
    {
     "data": {
      "image/svg+xml": [
       "<svg xmlns=\"http://www.w3.org/2000/svg\" xmlns:rdkit=\"http://www.rdkit.org/xml\" xmlns:xlink=\"http://www.w3.org/1999/xlink\" version=\"1.1\" baseProfile=\"full\" xml:space=\"preserve\" width=\"450px\" height=\"150px\" viewBox=\"0 0 450 150\">\n",
       "<!-- END OF HEADER -->\n",
       "<rect style=\"opacity:1.0;fill:#FFFFFF;stroke:none\" width=\"450.0\" height=\"150.0\" x=\"0.0\" y=\"0.0\"> </rect>\n",
       "<path class=\"bond-0 atom-0 atom-1\" d=\"M 216.2,134.6 L 219.6,125.2\" style=\"fill:none;fill-rule:evenodd;stroke:#FF0000;stroke-width:2.0px;stroke-linecap:butt;stroke-linejoin:miter;stroke-opacity:1\"/>\n",
       "<path class=\"bond-0 atom-0 atom-1\" d=\"M 219.6,125.2 L 223.1,115.8\" style=\"fill:none;fill-rule:evenodd;stroke:#000000;stroke-width:2.0px;stroke-linecap:butt;stroke-linejoin:miter;stroke-opacity:1\"/>\n",
       "<path class=\"bond-0 atom-0 atom-1\" d=\"M 219.7,135.9 L 223.1,126.5\" style=\"fill:none;fill-rule:evenodd;stroke:#FF0000;stroke-width:2.0px;stroke-linecap:butt;stroke-linejoin:miter;stroke-opacity:1\"/>\n",
       "<path class=\"bond-0 atom-0 atom-1\" d=\"M 223.1,126.5 L 225.8,119.1\" style=\"fill:none;fill-rule:evenodd;stroke:#000000;stroke-width:2.0px;stroke-linecap:butt;stroke-linejoin:miter;stroke-opacity:1\"/>\n",
       "<path class=\"bond-1 atom-2 atom-3\" d=\"M 354.1,6.8 L 345.6,29.9\" style=\"fill:none;fill-rule:evenodd;stroke:#000000;stroke-width:2.0px;stroke-linecap:butt;stroke-linejoin:miter;stroke-opacity:1\"/>\n",
       "<path class=\"bond-2 atom-3 atom-4\" d=\"M 345.6,29.9 L 321.3,34.1\" style=\"fill:none;fill-rule:evenodd;stroke:#000000;stroke-width:2.0px;stroke-linecap:butt;stroke-linejoin:miter;stroke-opacity:1\"/>\n",
       "<path class=\"bond-3 atom-4 atom-5\" d=\"M 321.3,34.1 L 312.8,57.2\" style=\"fill:none;fill-rule:evenodd;stroke:#000000;stroke-width:2.0px;stroke-linecap:butt;stroke-linejoin:miter;stroke-opacity:1\"/>\n",
       "<path class=\"bond-4 atom-5 atom-6\" d=\"M 312.8,57.2 L 302.7,58.9\" style=\"fill:none;fill-rule:evenodd;stroke:#000000;stroke-width:2.0px;stroke-linecap:butt;stroke-linejoin:miter;stroke-opacity:1\"/>\n",
       "<path class=\"bond-4 atom-5 atom-6\" d=\"M 302.7,58.9 L 292.6,60.6\" style=\"fill:none;fill-rule:evenodd;stroke:#FF0000;stroke-width:2.0px;stroke-linecap:butt;stroke-linejoin:miter;stroke-opacity:1\"/>\n",
       "<path class=\"bond-5 atom-6 atom-7\" d=\"M 286.9,65.8 L 283.5,75.1\" style=\"fill:none;fill-rule:evenodd;stroke:#FF0000;stroke-width:2.0px;stroke-linecap:butt;stroke-linejoin:miter;stroke-opacity:1\"/>\n",
       "<path class=\"bond-5 atom-6 atom-7\" d=\"M 283.5,75.1 L 280.1,84.4\" style=\"fill:none;fill-rule:evenodd;stroke:#000000;stroke-width:2.0px;stroke-linecap:butt;stroke-linejoin:miter;stroke-opacity:1\"/>\n",
       "<path class=\"bond-6 atom-7 atom-8\" d=\"M 278.0,84.8 L 284.4,92.5\" style=\"fill:none;fill-rule:evenodd;stroke:#000000;stroke-width:2.0px;stroke-linecap:butt;stroke-linejoin:miter;stroke-opacity:1\"/>\n",
       "<path class=\"bond-6 atom-7 atom-8\" d=\"M 284.4,92.5 L 290.8,100.2\" style=\"fill:none;fill-rule:evenodd;stroke:#FF0000;stroke-width:2.0px;stroke-linecap:butt;stroke-linejoin:miter;stroke-opacity:1\"/>\n",
       "<path class=\"bond-6 atom-7 atom-8\" d=\"M 280.8,82.4 L 287.2,90.1\" style=\"fill:none;fill-rule:evenodd;stroke:#000000;stroke-width:2.0px;stroke-linecap:butt;stroke-linejoin:miter;stroke-opacity:1\"/>\n",
       "<path class=\"bond-6 atom-7 atom-8\" d=\"M 287.2,90.1 L 293.6,97.8\" style=\"fill:none;fill-rule:evenodd;stroke:#FF0000;stroke-width:2.0px;stroke-linecap:butt;stroke-linejoin:miter;stroke-opacity:1\"/>\n",
       "<path class=\"bond-7 atom-7 atom-9\" d=\"M 280.1,84.4 L 255.8,88.6\" style=\"fill:none;fill-rule:evenodd;stroke:#000000;stroke-width:2.0px;stroke-linecap:butt;stroke-linejoin:miter;stroke-opacity:1\"/>\n",
       "<path class=\"bond-8 atom-9 atom-10\" d=\"M 255.8,88.6 L 247.3,111.7\" style=\"fill:none;fill-rule:evenodd;stroke:#000000;stroke-width:2.0px;stroke-linecap:butt;stroke-linejoin:miter;stroke-opacity:1\"/>\n",
       "<path class=\"bond-9 atom-1 atom-10\" d=\"M 223.1,115.8 L 247.3,111.7\" style=\"fill:none;fill-rule:evenodd;stroke:#000000;stroke-width:2.0px;stroke-linecap:butt;stroke-linejoin:miter;stroke-opacity:1\"/>\n",
       "<path class=\"bond-10 atom-11 atom-12\" d=\"M 95.9,29.7 L 120.2,25.5\" style=\"fill:none;fill-rule:evenodd;stroke:#000000;stroke-width:2.0px;stroke-linecap:butt;stroke-linejoin:miter;stroke-opacity:1\"/>\n",
       "<path class=\"bond-11 atom-12 atom-13\" d=\"M 120.2,25.5 L 135.9,44.4\" style=\"fill:none;fill-rule:evenodd;stroke:#000000;stroke-width:2.0px;stroke-linecap:butt;stroke-linejoin:miter;stroke-opacity:1\"/>\n",
       "<path class=\"bond-12 atom-13 atom-14\" d=\"M 135.9,44.4 L 160.2,40.2\" style=\"fill:none;fill-rule:evenodd;stroke:#000000;stroke-width:2.0px;stroke-linecap:butt;stroke-linejoin:miter;stroke-opacity:1\"/>\n",
       "<path class=\"bond-13 atom-14 atom-15\" d=\"M 160.2,40.2 L 166.2,47.5\" style=\"fill:none;fill-rule:evenodd;stroke:#000000;stroke-width:2.0px;stroke-linecap:butt;stroke-linejoin:miter;stroke-opacity:1\"/>\n",
       "<path class=\"bond-13 atom-14 atom-15\" d=\"M 166.2,47.5 L 172.3,54.8\" style=\"fill:none;fill-rule:evenodd;stroke:#FF0000;stroke-width:2.0px;stroke-linecap:butt;stroke-linejoin:miter;stroke-opacity:1\"/>\n",
       "<path class=\"bond-14 atom-15 atom-16\" d=\"M 179.9,58.4 L 190.0,56.7\" style=\"fill:none;fill-rule:evenodd;stroke:#FF0000;stroke-width:2.0px;stroke-linecap:butt;stroke-linejoin:miter;stroke-opacity:1\"/>\n",
       "<path class=\"bond-14 atom-15 atom-16\" d=\"M 190.0,56.7 L 200.1,55.0\" style=\"fill:none;fill-rule:evenodd;stroke:#000000;stroke-width:2.0px;stroke-linecap:butt;stroke-linejoin:miter;stroke-opacity:1\"/>\n",
       "<path class=\"bond-15 atom-16 atom-17\" d=\"M 201.5,56.6 L 205.1,46.8\" style=\"fill:none;fill-rule:evenodd;stroke:#000000;stroke-width:2.0px;stroke-linecap:butt;stroke-linejoin:miter;stroke-opacity:1\"/>\n",
       "<path class=\"bond-15 atom-16 atom-17\" d=\"M 205.1,46.8 L 208.7,37.0\" style=\"fill:none;fill-rule:evenodd;stroke:#FF0000;stroke-width:2.0px;stroke-linecap:butt;stroke-linejoin:miter;stroke-opacity:1\"/>\n",
       "<path class=\"bond-15 atom-16 atom-17\" d=\"M 198.0,55.3 L 201.6,45.5\" style=\"fill:none;fill-rule:evenodd;stroke:#000000;stroke-width:2.0px;stroke-linecap:butt;stroke-linejoin:miter;stroke-opacity:1\"/>\n",
       "<path class=\"bond-15 atom-16 atom-17\" d=\"M 201.6,45.5 L 205.3,35.7\" style=\"fill:none;fill-rule:evenodd;stroke:#FF0000;stroke-width:2.0px;stroke-linecap:butt;stroke-linejoin:miter;stroke-opacity:1\"/>\n",
       "<path class=\"bond-16 atom-16 atom-18\" d=\"M 200.1,55.0 L 215.9,73.9\" style=\"fill:none;fill-rule:evenodd;stroke:#000000;stroke-width:2.0px;stroke-linecap:butt;stroke-linejoin:miter;stroke-opacity:1\"/>\n",
       "<path class=\"bond-17 atom-18 atom-19\" d=\"M 215.9,73.9 L 240.1,69.7\" style=\"fill:none;fill-rule:evenodd;stroke:#000000;stroke-width:2.0px;stroke-linecap:butt;stroke-linejoin:miter;stroke-opacity:1\"/>\n",
       "<path class=\"bond-18 atom-9 atom-19\" d=\"M 255.8,88.6 L 240.1,69.7\" style=\"fill:none;fill-rule:evenodd;stroke:#000000;stroke-width:2.0px;stroke-linecap:butt;stroke-linejoin:miter;stroke-opacity:1\"/>\n",
       "<path class=\"bond-19 atom-20 atom-21\" d=\"M 207.4,96.9 L 183.1,101.1\" style=\"fill:none;fill-rule:evenodd;stroke:#000000;stroke-width:2.0px;stroke-linecap:butt;stroke-linejoin:miter;stroke-opacity:1\"/>\n",
       "<path class=\"bond-20 atom-18 atom-20\" d=\"M 215.9,73.9 L 207.4,96.9\" style=\"fill:none;fill-rule:evenodd;stroke:#000000;stroke-width:2.0px;stroke-linecap:butt;stroke-linejoin:miter;stroke-opacity:1\"/>\n",
       "<path d=\"M 222.9,116.3 L 223.1,115.8 L 224.3,115.6\" style=\"fill:none;stroke:#000000;stroke-width:2.0px;stroke-linecap:butt;stroke-linejoin:miter;stroke-opacity:1;\"/>\n",
       "<path d=\"M 346.0,28.7 L 345.6,29.9 L 344.3,30.1\" style=\"fill:none;stroke:#000000;stroke-width:2.0px;stroke-linecap:butt;stroke-linejoin:miter;stroke-opacity:1;\"/>\n",
       "<path d=\"M 322.5,33.9 L 321.3,34.1 L 320.9,35.2\" style=\"fill:none;stroke:#000000;stroke-width:2.0px;stroke-linecap:butt;stroke-linejoin:miter;stroke-opacity:1;\"/>\n",
       "<path d=\"M 313.2,56.0 L 312.8,57.2 L 312.3,57.2\" style=\"fill:none;stroke:#000000;stroke-width:2.0px;stroke-linecap:butt;stroke-linejoin:miter;stroke-opacity:1;\"/>\n",
       "<path d=\"M 280.2,83.9 L 280.1,84.4 L 278.9,84.6\" style=\"fill:none;stroke:#000000;stroke-width:2.0px;stroke-linecap:butt;stroke-linejoin:miter;stroke-opacity:1;\"/>\n",
       "<path d=\"M 247.8,110.5 L 247.3,111.7 L 246.1,111.9\" style=\"fill:none;stroke:#000000;stroke-width:2.0px;stroke-linecap:butt;stroke-linejoin:miter;stroke-opacity:1;\"/>\n",
       "<path d=\"M 119.0,25.7 L 120.2,25.5 L 121.0,26.4\" style=\"fill:none;stroke:#000000;stroke-width:2.0px;stroke-linecap:butt;stroke-linejoin:miter;stroke-opacity:1;\"/>\n",
       "<path d=\"M 135.1,43.5 L 135.9,44.4 L 137.1,44.2\" style=\"fill:none;stroke:#000000;stroke-width:2.0px;stroke-linecap:butt;stroke-linejoin:miter;stroke-opacity:1;\"/>\n",
       "<path d=\"M 158.9,40.4 L 160.2,40.2 L 160.5,40.6\" style=\"fill:none;stroke:#000000;stroke-width:2.0px;stroke-linecap:butt;stroke-linejoin:miter;stroke-opacity:1;\"/>\n",
       "<path d=\"M 199.6,55.0 L 200.1,55.0 L 200.9,55.9\" style=\"fill:none;stroke:#000000;stroke-width:2.0px;stroke-linecap:butt;stroke-linejoin:miter;stroke-opacity:1;\"/>\n",
       "<path d=\"M 238.9,69.9 L 240.1,69.7 L 240.9,70.6\" style=\"fill:none;stroke:#000000;stroke-width:2.0px;stroke-linecap:butt;stroke-linejoin:miter;stroke-opacity:1;\"/>\n",
       "<path d=\"M 206.2,97.1 L 207.4,96.9 L 207.8,95.8\" style=\"fill:none;stroke:#000000;stroke-width:2.0px;stroke-linecap:butt;stroke-linejoin:miter;stroke-opacity:1;\"/>\n",
       "<path class=\"atom-0\" d=\"M 213.1 139.6 Q 213.1 137.9, 214.0 137.0 Q 214.8 136.0, 216.3 136.0 Q 217.9 136.0, 218.7 137.0 Q 219.5 137.9, 219.5 139.6 Q 219.5 141.3, 218.7 142.2 Q 217.9 143.2, 216.3 143.2 Q 214.8 143.2, 214.0 142.2 Q 213.1 141.3, 213.1 139.6 M 216.3 142.4 Q 217.4 142.4, 218.0 141.7 Q 218.5 141.0, 218.5 139.6 Q 218.5 138.2, 218.0 137.5 Q 217.4 136.8, 216.3 136.8 Q 215.3 136.8, 214.7 137.5 Q 214.1 138.2, 214.1 139.6 Q 214.1 141.0, 214.7 141.7 Q 215.3 142.4, 216.3 142.4 \" fill=\"#FF0000\"/>\n",
       "<path class=\"atom-6\" d=\"M 285.4 61.3 Q 285.4 59.7, 286.2 58.7 Q 287.0 57.8, 288.6 57.8 Q 290.1 57.8, 290.9 58.7 Q 291.8 59.7, 291.8 61.3 Q 291.8 63.0, 290.9 64.0 Q 290.1 65.0, 288.6 65.0 Q 287.0 65.0, 286.2 64.0 Q 285.4 63.0, 285.4 61.3 M 288.6 64.2 Q 289.6 64.2, 290.2 63.5 Q 290.8 62.7, 290.8 61.3 Q 290.8 60.0, 290.2 59.3 Q 289.6 58.6, 288.6 58.6 Q 287.5 58.6, 286.9 59.3 Q 286.4 60.0, 286.4 61.3 Q 286.4 62.8, 286.9 63.5 Q 287.5 64.2, 288.6 64.2 \" fill=\"#FF0000\"/>\n",
       "<path class=\"atom-8\" d=\"M 292.6 103.3 Q 292.6 101.7, 293.4 100.7 Q 294.3 99.8, 295.8 99.8 Q 297.4 99.8, 298.2 100.7 Q 299.0 101.7, 299.0 103.3 Q 299.0 105.0, 298.2 106.0 Q 297.3 106.9, 295.8 106.9 Q 294.3 106.9, 293.4 106.0 Q 292.6 105.0, 292.6 103.3 M 295.8 106.1 Q 296.9 106.1, 297.4 105.4 Q 298.0 104.7, 298.0 103.3 Q 298.0 102.0, 297.4 101.3 Q 296.9 100.6, 295.8 100.6 Q 294.7 100.6, 294.2 101.3 Q 293.6 101.9, 293.6 103.3 Q 293.6 104.7, 294.2 105.4 Q 294.7 106.1, 295.8 106.1 \" fill=\"#FF0000\"/>\n",
       "<path class=\"atom-15\" d=\"M 172.7 59.2 Q 172.7 57.5, 173.5 56.5 Q 174.3 55.6, 175.9 55.6 Q 177.4 55.6, 178.3 56.5 Q 179.1 57.5, 179.1 59.2 Q 179.1 60.8, 178.3 61.8 Q 177.4 62.8, 175.9 62.8 Q 174.4 62.8, 173.5 61.8 Q 172.7 60.9, 172.7 59.2 M 175.9 62.0 Q 177.0 62.0, 177.5 61.3 Q 178.1 60.5, 178.1 59.2 Q 178.1 57.8, 177.5 57.1 Q 177.0 56.4, 175.9 56.4 Q 174.8 56.4, 174.2 57.1 Q 173.7 57.8, 173.7 59.2 Q 173.7 60.6, 174.2 61.3 Q 174.8 62.0, 175.9 62.0 \" fill=\"#FF0000\"/>\n",
       "<path class=\"atom-17\" d=\"M 205.4 31.9 Q 205.4 30.2, 206.3 29.3 Q 207.1 28.4, 208.6 28.4 Q 210.2 28.4, 211.0 29.3 Q 211.8 30.2, 211.8 31.9 Q 211.8 33.6, 211.0 34.6 Q 210.2 35.5, 208.6 35.5 Q 207.1 35.5, 206.3 34.6 Q 205.4 33.6, 205.4 31.9 M 208.6 34.7 Q 209.7 34.7, 210.3 34.0 Q 210.8 33.3, 210.8 31.9 Q 210.8 30.5, 210.3 29.8 Q 209.7 29.1, 208.6 29.1 Q 207.6 29.1, 207.0 29.8 Q 206.4 30.5, 206.4 31.9 Q 206.4 33.3, 207.0 34.0 Q 207.6 34.7, 208.6 34.7 \" fill=\"#FF0000\"/>\n",
       "</svg>"
      ],
      "text/plain": [
       "<IPython.core.display.SVG object>"
      ]
     },
     "execution_count": 80,
     "metadata": {},
     "output_type": "execute_result"
    }
   ],
   "source": [
    "big_smiles_gen(big)"
   ]
  },
  {
   "cell_type": "code",
   "execution_count": 81,
   "id": "178876ae",
   "metadata": {},
   "outputs": [
    {
     "name": "stdout",
     "output_type": "stream",
     "text": [
      "CCCCOC(=O)C(CC(CC(CC(CC)C(=O)OCCCC)C(=O)OCCCC)C(=O)NC(C)C)CC(CC(CC(CC(CC(CC(CC(CC(CC(CC=O)C(=O)OCCCC)C(=O)OCCCC)C(=O)OCCCC)C(=O)OCCCC)C(=O)OCCCC)C(=O)OCCCC)C(=O)OCCCC)C(=O)OCCCC)C(=O)NC(C)C\n",
      "0.0033523566873974175\n",
      "43\n"
     ]
    },
    {
     "data": {
      "image/svg+xml": [
       "<svg xmlns=\"http://www.w3.org/2000/svg\" xmlns:rdkit=\"http://www.rdkit.org/xml\" xmlns:xlink=\"http://www.w3.org/1999/xlink\" version=\"1.1\" baseProfile=\"full\" xml:space=\"preserve\" width=\"450px\" height=\"150px\" viewBox=\"0 0 450 150\">\n",
       "<!-- END OF HEADER -->\n",
       "<rect style=\"opacity:1.0;fill:#FFFFFF;stroke:none\" width=\"450.0\" height=\"150.0\" x=\"0.0\" y=\"0.0\"> </rect>\n",
       "<path class=\"bond-0 atom-0 atom-1\" d=\"M 303.1,96.1 L 305.2,92.1\" style=\"fill:none;fill-rule:evenodd;stroke:#FF0000;stroke-width:2.0px;stroke-linecap:butt;stroke-linejoin:miter;stroke-opacity:1\"/>\n",
       "<path class=\"bond-0 atom-0 atom-1\" d=\"M 305.2,92.1 L 307.3,88.0\" style=\"fill:none;fill-rule:evenodd;stroke:#000000;stroke-width:2.0px;stroke-linecap:butt;stroke-linejoin:miter;stroke-opacity:1\"/>\n",
       "<path class=\"bond-0 atom-0 atom-1\" d=\"M 304.7,96.9 L 306.8,92.9\" style=\"fill:none;fill-rule:evenodd;stroke:#FF0000;stroke-width:2.0px;stroke-linecap:butt;stroke-linejoin:miter;stroke-opacity:1\"/>\n",
       "<path class=\"bond-0 atom-0 atom-1\" d=\"M 306.8,92.9 L 308.4,89.8\" style=\"fill:none;fill-rule:evenodd;stroke:#000000;stroke-width:2.0px;stroke-linecap:butt;stroke-linejoin:miter;stroke-opacity:1\"/>\n",
       "<path class=\"bond-1 atom-2 atom-3\" d=\"M 377.3,43.9 L 371.7,54.5\" style=\"fill:none;fill-rule:evenodd;stroke:#000000;stroke-width:2.0px;stroke-linecap:butt;stroke-linejoin:miter;stroke-opacity:1\"/>\n",
       "<path class=\"bond-2 atom-3 atom-4\" d=\"M 371.7,54.5 L 359.8,55.0\" style=\"fill:none;fill-rule:evenodd;stroke:#000000;stroke-width:2.0px;stroke-linecap:butt;stroke-linejoin:miter;stroke-opacity:1\"/>\n",
       "<path class=\"bond-3 atom-4 atom-5\" d=\"M 359.8,55.0 L 354.2,65.5\" style=\"fill:none;fill-rule:evenodd;stroke:#000000;stroke-width:2.0px;stroke-linecap:butt;stroke-linejoin:miter;stroke-opacity:1\"/>\n",
       "<path class=\"bond-4 atom-5 atom-6\" d=\"M 354.2,65.5 L 349.4,65.7\" style=\"fill:none;fill-rule:evenodd;stroke:#000000;stroke-width:2.0px;stroke-linecap:butt;stroke-linejoin:miter;stroke-opacity:1\"/>\n",
       "<path class=\"bond-4 atom-5 atom-6\" d=\"M 349.4,65.7 L 344.6,65.9\" style=\"fill:none;fill-rule:evenodd;stroke:#FF0000;stroke-width:2.0px;stroke-linecap:butt;stroke-linejoin:miter;stroke-opacity:1\"/>\n",
       "<path class=\"bond-5 atom-6 atom-7\" d=\"M 340.9,68.6 L 338.8,72.6\" style=\"fill:none;fill-rule:evenodd;stroke:#FF0000;stroke-width:2.0px;stroke-linecap:butt;stroke-linejoin:miter;stroke-opacity:1\"/>\n",
       "<path class=\"bond-5 atom-6 atom-7\" d=\"M 338.8,72.6 L 336.7,76.5\" style=\"fill:none;fill-rule:evenodd;stroke:#000000;stroke-width:2.0px;stroke-linecap:butt;stroke-linejoin:miter;stroke-opacity:1\"/>\n",
       "<path class=\"bond-6 atom-7 atom-8\" d=\"M 335.7,76.6 L 338.2,80.6\" style=\"fill:none;fill-rule:evenodd;stroke:#000000;stroke-width:2.0px;stroke-linecap:butt;stroke-linejoin:miter;stroke-opacity:1\"/>\n",
       "<path class=\"bond-6 atom-7 atom-8\" d=\"M 338.2,80.6 L 340.7,84.6\" style=\"fill:none;fill-rule:evenodd;stroke:#FF0000;stroke-width:2.0px;stroke-linecap:butt;stroke-linejoin:miter;stroke-opacity:1\"/>\n",
       "<path class=\"bond-6 atom-7 atom-8\" d=\"M 337.2,75.6 L 339.7,79.6\" style=\"fill:none;fill-rule:evenodd;stroke:#000000;stroke-width:2.0px;stroke-linecap:butt;stroke-linejoin:miter;stroke-opacity:1\"/>\n",
       "<path class=\"bond-6 atom-7 atom-8\" d=\"M 339.7,79.6 L 342.2,83.6\" style=\"fill:none;fill-rule:evenodd;stroke:#FF0000;stroke-width:2.0px;stroke-linecap:butt;stroke-linejoin:miter;stroke-opacity:1\"/>\n",
       "<path class=\"bond-7 atom-7 atom-9\" d=\"M 336.7,76.5 L 324.8,77.0\" style=\"fill:none;fill-rule:evenodd;stroke:#000000;stroke-width:2.0px;stroke-linecap:butt;stroke-linejoin:miter;stroke-opacity:1\"/>\n",
       "<path class=\"bond-8 atom-9 atom-10\" d=\"M 324.8,77.0 L 319.2,87.6\" style=\"fill:none;fill-rule:evenodd;stroke:#000000;stroke-width:2.0px;stroke-linecap:butt;stroke-linejoin:miter;stroke-opacity:1\"/>\n",
       "<path class=\"bond-9 atom-1 atom-10\" d=\"M 307.3,88.0 L 319.2,87.6\" style=\"fill:none;fill-rule:evenodd;stroke:#000000;stroke-width:2.0px;stroke-linecap:butt;stroke-linejoin:miter;stroke-opacity:1\"/>\n",
       "<path class=\"bond-10 atom-11 atom-12\" d=\"M 340.7,24.7 L 335.1,35.2\" style=\"fill:none;fill-rule:evenodd;stroke:#000000;stroke-width:2.0px;stroke-linecap:butt;stroke-linejoin:miter;stroke-opacity:1\"/>\n",
       "<path class=\"bond-11 atom-12 atom-13\" d=\"M 335.1,35.2 L 323.2,35.7\" style=\"fill:none;fill-rule:evenodd;stroke:#000000;stroke-width:2.0px;stroke-linecap:butt;stroke-linejoin:miter;stroke-opacity:1\"/>\n",
       "<path class=\"bond-12 atom-13 atom-14\" d=\"M 323.2,35.7 L 317.6,46.3\" style=\"fill:none;fill-rule:evenodd;stroke:#000000;stroke-width:2.0px;stroke-linecap:butt;stroke-linejoin:miter;stroke-opacity:1\"/>\n",
       "<path class=\"bond-13 atom-14 atom-15\" d=\"M 317.6,46.3 L 312.8,46.5\" style=\"fill:none;fill-rule:evenodd;stroke:#000000;stroke-width:2.0px;stroke-linecap:butt;stroke-linejoin:miter;stroke-opacity:1\"/>\n",
       "<path class=\"bond-13 atom-14 atom-15\" d=\"M 312.8,46.5 L 308.0,46.6\" style=\"fill:none;fill-rule:evenodd;stroke:#FF0000;stroke-width:2.0px;stroke-linecap:butt;stroke-linejoin:miter;stroke-opacity:1\"/>\n",
       "<path class=\"bond-14 atom-15 atom-16\" d=\"M 304.3,49.3 L 302.2,53.3\" style=\"fill:none;fill-rule:evenodd;stroke:#FF0000;stroke-width:2.0px;stroke-linecap:butt;stroke-linejoin:miter;stroke-opacity:1\"/>\n",
       "<path class=\"bond-14 atom-15 atom-16\" d=\"M 302.2,53.3 L 300.1,57.3\" style=\"fill:none;fill-rule:evenodd;stroke:#000000;stroke-width:2.0px;stroke-linecap:butt;stroke-linejoin:miter;stroke-opacity:1\"/>\n",
       "<path class=\"bond-15 atom-16 atom-17\" d=\"M 300.6,56.4 L 295.6,56.6\" style=\"fill:none;fill-rule:evenodd;stroke:#000000;stroke-width:2.0px;stroke-linecap:butt;stroke-linejoin:miter;stroke-opacity:1\"/>\n",
       "<path class=\"bond-15 atom-16 atom-17\" d=\"M 295.6,56.6 L 290.5,56.8\" style=\"fill:none;fill-rule:evenodd;stroke:#FF0000;stroke-width:2.0px;stroke-linecap:butt;stroke-linejoin:miter;stroke-opacity:1\"/>\n",
       "<path class=\"bond-15 atom-16 atom-17\" d=\"M 300.7,58.2 L 295.6,58.4\" style=\"fill:none;fill-rule:evenodd;stroke:#000000;stroke-width:2.0px;stroke-linecap:butt;stroke-linejoin:miter;stroke-opacity:1\"/>\n",
       "<path class=\"bond-15 atom-16 atom-17\" d=\"M 295.6,58.4 L 290.6,58.6\" style=\"fill:none;fill-rule:evenodd;stroke:#FF0000;stroke-width:2.0px;stroke-linecap:butt;stroke-linejoin:miter;stroke-opacity:1\"/>\n",
       "<path class=\"bond-16 atom-16 atom-18\" d=\"M 300.1,57.3 L 306.5,67.4\" style=\"fill:none;fill-rule:evenodd;stroke:#000000;stroke-width:2.0px;stroke-linecap:butt;stroke-linejoin:miter;stroke-opacity:1\"/>\n",
       "<path class=\"bond-17 atom-18 atom-19\" d=\"M 306.5,67.4 L 318.4,66.9\" style=\"fill:none;fill-rule:evenodd;stroke:#000000;stroke-width:2.0px;stroke-linecap:butt;stroke-linejoin:miter;stroke-opacity:1\"/>\n",
       "<path class=\"bond-18 atom-9 atom-19\" d=\"M 324.8,77.0 L 318.4,66.9\" style=\"fill:none;fill-rule:evenodd;stroke:#000000;stroke-width:2.0px;stroke-linecap:butt;stroke-linejoin:miter;stroke-opacity:1\"/>\n",
       "<path class=\"bond-19 atom-20 atom-21\" d=\"M 291.4,140.4 L 285.1,130.3\" style=\"fill:none;fill-rule:evenodd;stroke:#000000;stroke-width:2.0px;stroke-linecap:butt;stroke-linejoin:miter;stroke-opacity:1\"/>\n",
       "<path class=\"bond-20 atom-21 atom-22\" d=\"M 285.1,130.3 L 290.6,119.7\" style=\"fill:none;fill-rule:evenodd;stroke:#000000;stroke-width:2.0px;stroke-linecap:butt;stroke-linejoin:miter;stroke-opacity:1\"/>\n",
       "<path class=\"bond-21 atom-22 atom-23\" d=\"M 290.6,119.7 L 284.3,109.6\" style=\"fill:none;fill-rule:evenodd;stroke:#000000;stroke-width:2.0px;stroke-linecap:butt;stroke-linejoin:miter;stroke-opacity:1\"/>\n",
       "<path class=\"bond-22 atom-23 atom-24\" d=\"M 284.3,109.6 L 286.4,105.7\" style=\"fill:none;fill-rule:evenodd;stroke:#000000;stroke-width:2.0px;stroke-linecap:butt;stroke-linejoin:miter;stroke-opacity:1\"/>\n",
       "<path class=\"bond-22 atom-23 atom-24\" d=\"M 286.4,105.7 L 288.5,101.7\" style=\"fill:none;fill-rule:evenodd;stroke:#FF0000;stroke-width:2.0px;stroke-linecap:butt;stroke-linejoin:miter;stroke-opacity:1\"/>\n",
       "<path class=\"bond-23 atom-24 atom-25\" d=\"M 288.2,96.5 L 285.8,92.8\" style=\"fill:none;fill-rule:evenodd;stroke:#FF0000;stroke-width:2.0px;stroke-linecap:butt;stroke-linejoin:miter;stroke-opacity:1\"/>\n",
       "<path class=\"bond-23 atom-24 atom-25\" d=\"M 285.8,92.8 L 283.5,89.0\" style=\"fill:none;fill-rule:evenodd;stroke:#000000;stroke-width:2.0px;stroke-linecap:butt;stroke-linejoin:miter;stroke-opacity:1\"/>\n",
       "<path class=\"bond-24 atom-25 atom-26\" d=\"M 283.9,88.1 L 278.9,88.3\" style=\"fill:none;fill-rule:evenodd;stroke:#000000;stroke-width:2.0px;stroke-linecap:butt;stroke-linejoin:miter;stroke-opacity:1\"/>\n",
       "<path class=\"bond-24 atom-25 atom-26\" d=\"M 278.9,88.3 L 273.8,88.5\" style=\"fill:none;fill-rule:evenodd;stroke:#FF0000;stroke-width:2.0px;stroke-linecap:butt;stroke-linejoin:miter;stroke-opacity:1\"/>\n",
       "<path class=\"bond-24 atom-25 atom-26\" d=\"M 284.0,89.9 L 279.0,90.0\" style=\"fill:none;fill-rule:evenodd;stroke:#000000;stroke-width:2.0px;stroke-linecap:butt;stroke-linejoin:miter;stroke-opacity:1\"/>\n",
       "<path class=\"bond-24 atom-25 atom-26\" d=\"M 279.0,90.0 L 273.9,90.2\" style=\"fill:none;fill-rule:evenodd;stroke:#FF0000;stroke-width:2.0px;stroke-linecap:butt;stroke-linejoin:miter;stroke-opacity:1\"/>\n",
       "<path class=\"bond-25 atom-25 atom-27\" d=\"M 283.5,89.0 L 289.0,78.4\" style=\"fill:none;fill-rule:evenodd;stroke:#000000;stroke-width:2.0px;stroke-linecap:butt;stroke-linejoin:miter;stroke-opacity:1\"/>\n",
       "<path class=\"bond-26 atom-27 atom-28\" d=\"M 289.0,78.4 L 301.0,77.9\" style=\"fill:none;fill-rule:evenodd;stroke:#000000;stroke-width:2.0px;stroke-linecap:butt;stroke-linejoin:miter;stroke-opacity:1\"/>\n",
       "<path class=\"bond-27 atom-18 atom-28\" d=\"M 306.5,67.4 L 301.0,77.9\" style=\"fill:none;fill-rule:evenodd;stroke:#000000;stroke-width:2.0px;stroke-linecap:butt;stroke-linejoin:miter;stroke-opacity:1\"/>\n",
       "<path class=\"bond-28 atom-29 atom-30\" d=\"M 268.3,6.8 L 262.7,17.4\" style=\"fill:none;fill-rule:evenodd;stroke:#000000;stroke-width:2.0px;stroke-linecap:butt;stroke-linejoin:miter;stroke-opacity:1\"/>\n",
       "<path class=\"bond-29 atom-30 atom-31\" d=\"M 262.7,17.4 L 269.1,27.5\" style=\"fill:none;fill-rule:evenodd;stroke:#000000;stroke-width:2.0px;stroke-linecap:butt;stroke-linejoin:miter;stroke-opacity:1\"/>\n",
       "<path class=\"bond-30 atom-31 atom-32\" d=\"M 269.1,27.5 L 263.6,38.0\" style=\"fill:none;fill-rule:evenodd;stroke:#000000;stroke-width:2.0px;stroke-linecap:butt;stroke-linejoin:miter;stroke-opacity:1\"/>\n",
       "<path class=\"bond-31 atom-32 atom-33\" d=\"M 263.6,38.0 L 265.9,41.8\" style=\"fill:none;fill-rule:evenodd;stroke:#000000;stroke-width:2.0px;stroke-linecap:butt;stroke-linejoin:miter;stroke-opacity:1\"/>\n",
       "<path class=\"bond-31 atom-32 atom-33\" d=\"M 265.9,41.8 L 268.3,45.6\" style=\"fill:none;fill-rule:evenodd;stroke:#FF0000;stroke-width:2.0px;stroke-linecap:butt;stroke-linejoin:miter;stroke-opacity:1\"/>\n",
       "<path class=\"bond-32 atom-33 atom-34\" d=\"M 268.6,50.7 L 266.5,54.7\" style=\"fill:none;fill-rule:evenodd;stroke:#FF0000;stroke-width:2.0px;stroke-linecap:butt;stroke-linejoin:miter;stroke-opacity:1\"/>\n",
       "<path class=\"bond-32 atom-33 atom-34\" d=\"M 266.5,54.7 L 264.4,58.7\" style=\"fill:none;fill-rule:evenodd;stroke:#000000;stroke-width:2.0px;stroke-linecap:butt;stroke-linejoin:miter;stroke-opacity:1\"/>\n",
       "<path class=\"bond-33 atom-34 atom-35\" d=\"M 264.8,57.8 L 259.8,58.0\" style=\"fill:none;fill-rule:evenodd;stroke:#000000;stroke-width:2.0px;stroke-linecap:butt;stroke-linejoin:miter;stroke-opacity:1\"/>\n",
       "<path class=\"bond-33 atom-34 atom-35\" d=\"M 259.8,58.0 L 254.7,58.2\" style=\"fill:none;fill-rule:evenodd;stroke:#FF0000;stroke-width:2.0px;stroke-linecap:butt;stroke-linejoin:miter;stroke-opacity:1\"/>\n",
       "<path class=\"bond-33 atom-34 atom-35\" d=\"M 264.9,59.6 L 259.9,59.8\" style=\"fill:none;fill-rule:evenodd;stroke:#000000;stroke-width:2.0px;stroke-linecap:butt;stroke-linejoin:miter;stroke-opacity:1\"/>\n",
       "<path class=\"bond-33 atom-34 atom-35\" d=\"M 259.9,59.8 L 254.8,60.0\" style=\"fill:none;fill-rule:evenodd;stroke:#FF0000;stroke-width:2.0px;stroke-linecap:butt;stroke-linejoin:miter;stroke-opacity:1\"/>\n",
       "<path class=\"bond-34 atom-34 atom-36\" d=\"M 264.4,58.7 L 270.7,68.8\" style=\"fill:none;fill-rule:evenodd;stroke:#000000;stroke-width:2.0px;stroke-linecap:butt;stroke-linejoin:miter;stroke-opacity:1\"/>\n",
       "<path class=\"bond-35 atom-36 atom-37\" d=\"M 270.7,68.8 L 282.7,68.3\" style=\"fill:none;fill-rule:evenodd;stroke:#000000;stroke-width:2.0px;stroke-linecap:butt;stroke-linejoin:miter;stroke-opacity:1\"/>\n",
       "<path class=\"bond-36 atom-27 atom-37\" d=\"M 289.0,78.4 L 282.7,68.3\" style=\"fill:none;fill-rule:evenodd;stroke:#000000;stroke-width:2.0px;stroke-linecap:butt;stroke-linejoin:miter;stroke-opacity:1\"/>\n",
       "<path class=\"bond-37 atom-38 atom-39\" d=\"M 255.7,141.8 L 249.3,131.7\" style=\"fill:none;fill-rule:evenodd;stroke:#000000;stroke-width:2.0px;stroke-linecap:butt;stroke-linejoin:miter;stroke-opacity:1\"/>\n",
       "<path class=\"bond-38 atom-39 atom-40\" d=\"M 249.3,131.7 L 254.9,121.1\" style=\"fill:none;fill-rule:evenodd;stroke:#000000;stroke-width:2.0px;stroke-linecap:butt;stroke-linejoin:miter;stroke-opacity:1\"/>\n",
       "<path class=\"bond-39 atom-40 atom-41\" d=\"M 254.9,121.1 L 248.5,111.0\" style=\"fill:none;fill-rule:evenodd;stroke:#000000;stroke-width:2.0px;stroke-linecap:butt;stroke-linejoin:miter;stroke-opacity:1\"/>\n",
       "<path class=\"bond-40 atom-41 atom-42\" d=\"M 248.5,111.0 L 250.6,107.1\" style=\"fill:none;fill-rule:evenodd;stroke:#000000;stroke-width:2.0px;stroke-linecap:butt;stroke-linejoin:miter;stroke-opacity:1\"/>\n",
       "<path class=\"bond-40 atom-41 atom-42\" d=\"M 250.6,107.1 L 252.7,103.1\" style=\"fill:none;fill-rule:evenodd;stroke:#FF0000;stroke-width:2.0px;stroke-linecap:butt;stroke-linejoin:miter;stroke-opacity:1\"/>\n",
       "<path class=\"bond-41 atom-42 atom-43\" d=\"M 252.5,97.9 L 250.1,94.2\" style=\"fill:none;fill-rule:evenodd;stroke:#FF0000;stroke-width:2.0px;stroke-linecap:butt;stroke-linejoin:miter;stroke-opacity:1\"/>\n",
       "<path class=\"bond-41 atom-42 atom-43\" d=\"M 250.1,94.2 L 247.7,90.4\" style=\"fill:none;fill-rule:evenodd;stroke:#000000;stroke-width:2.0px;stroke-linecap:butt;stroke-linejoin:miter;stroke-opacity:1\"/>\n",
       "<path class=\"bond-42 atom-43 atom-44\" d=\"M 248.2,89.5 L 243.1,89.7\" style=\"fill:none;fill-rule:evenodd;stroke:#000000;stroke-width:2.0px;stroke-linecap:butt;stroke-linejoin:miter;stroke-opacity:1\"/>\n",
       "<path class=\"bond-42 atom-43 atom-44\" d=\"M 243.1,89.7 L 238.1,89.9\" style=\"fill:none;fill-rule:evenodd;stroke:#FF0000;stroke-width:2.0px;stroke-linecap:butt;stroke-linejoin:miter;stroke-opacity:1\"/>\n",
       "<path class=\"bond-42 atom-43 atom-44\" d=\"M 248.2,91.2 L 243.2,91.4\" style=\"fill:none;fill-rule:evenodd;stroke:#000000;stroke-width:2.0px;stroke-linecap:butt;stroke-linejoin:miter;stroke-opacity:1\"/>\n",
       "<path class=\"bond-42 atom-43 atom-44\" d=\"M 243.2,91.4 L 238.1,91.6\" style=\"fill:none;fill-rule:evenodd;stroke:#FF0000;stroke-width:2.0px;stroke-linecap:butt;stroke-linejoin:miter;stroke-opacity:1\"/>\n",
       "<path class=\"bond-43 atom-43 atom-45\" d=\"M 247.7,90.4 L 253.2,79.8\" style=\"fill:none;fill-rule:evenodd;stroke:#000000;stroke-width:2.0px;stroke-linecap:butt;stroke-linejoin:miter;stroke-opacity:1\"/>\n",
       "<path class=\"bond-44 atom-45 atom-46\" d=\"M 253.2,79.8 L 265.2,79.3\" style=\"fill:none;fill-rule:evenodd;stroke:#000000;stroke-width:2.0px;stroke-linecap:butt;stroke-linejoin:miter;stroke-opacity:1\"/>\n",
       "<path class=\"bond-45 atom-36 atom-46\" d=\"M 270.7,68.8 L 265.2,79.3\" style=\"fill:none;fill-rule:evenodd;stroke:#000000;stroke-width:2.0px;stroke-linecap:butt;stroke-linejoin:miter;stroke-opacity:1\"/>\n",
       "<path class=\"bond-46 atom-47 atom-48\" d=\"M 232.5,8.2 L 227.0,18.8\" style=\"fill:none;fill-rule:evenodd;stroke:#000000;stroke-width:2.0px;stroke-linecap:butt;stroke-linejoin:miter;stroke-opacity:1\"/>\n",
       "<path class=\"bond-47 atom-48 atom-49\" d=\"M 227.0,18.8 L 233.3,28.9\" style=\"fill:none;fill-rule:evenodd;stroke:#000000;stroke-width:2.0px;stroke-linecap:butt;stroke-linejoin:miter;stroke-opacity:1\"/>\n",
       "<path class=\"bond-48 atom-49 atom-50\" d=\"M 233.3,28.9 L 227.8,39.4\" style=\"fill:none;fill-rule:evenodd;stroke:#000000;stroke-width:2.0px;stroke-linecap:butt;stroke-linejoin:miter;stroke-opacity:1\"/>\n",
       "<path class=\"bond-49 atom-50 atom-51\" d=\"M 227.8,39.4 L 230.2,43.2\" style=\"fill:none;fill-rule:evenodd;stroke:#000000;stroke-width:2.0px;stroke-linecap:butt;stroke-linejoin:miter;stroke-opacity:1\"/>\n",
       "<path class=\"bond-49 atom-50 atom-51\" d=\"M 230.2,43.2 L 232.5,47.0\" style=\"fill:none;fill-rule:evenodd;stroke:#FF0000;stroke-width:2.0px;stroke-linecap:butt;stroke-linejoin:miter;stroke-opacity:1\"/>\n",
       "<path class=\"bond-50 atom-51 atom-52\" d=\"M 232.8,52.1 L 230.7,56.1\" style=\"fill:none;fill-rule:evenodd;stroke:#FF0000;stroke-width:2.0px;stroke-linecap:butt;stroke-linejoin:miter;stroke-opacity:1\"/>\n",
       "<path class=\"bond-50 atom-51 atom-52\" d=\"M 230.7,56.1 L 228.6,60.1\" style=\"fill:none;fill-rule:evenodd;stroke:#000000;stroke-width:2.0px;stroke-linecap:butt;stroke-linejoin:miter;stroke-opacity:1\"/>\n",
       "<path class=\"bond-51 atom-52 atom-53\" d=\"M 229.1,59.2 L 224.0,59.4\" style=\"fill:none;fill-rule:evenodd;stroke:#000000;stroke-width:2.0px;stroke-linecap:butt;stroke-linejoin:miter;stroke-opacity:1\"/>\n",
       "<path class=\"bond-51 atom-52 atom-53\" d=\"M 224.0,59.4 L 219.0,59.6\" style=\"fill:none;fill-rule:evenodd;stroke:#FF0000;stroke-width:2.0px;stroke-linecap:butt;stroke-linejoin:miter;stroke-opacity:1\"/>\n",
       "<path class=\"bond-51 atom-52 atom-53\" d=\"M 229.1,61.0 L 224.1,61.2\" style=\"fill:none;fill-rule:evenodd;stroke:#000000;stroke-width:2.0px;stroke-linecap:butt;stroke-linejoin:miter;stroke-opacity:1\"/>\n",
       "<path class=\"bond-51 atom-52 atom-53\" d=\"M 224.1,61.2 L 219.0,61.4\" style=\"fill:none;fill-rule:evenodd;stroke:#FF0000;stroke-width:2.0px;stroke-linecap:butt;stroke-linejoin:miter;stroke-opacity:1\"/>\n",
       "<path class=\"bond-52 atom-52 atom-54\" d=\"M 228.6,60.1 L 235.0,70.2\" style=\"fill:none;fill-rule:evenodd;stroke:#000000;stroke-width:2.0px;stroke-linecap:butt;stroke-linejoin:miter;stroke-opacity:1\"/>\n",
       "<path class=\"bond-53 atom-54 atom-55\" d=\"M 235.0,70.2 L 246.9,69.7\" style=\"fill:none;fill-rule:evenodd;stroke:#000000;stroke-width:2.0px;stroke-linecap:butt;stroke-linejoin:miter;stroke-opacity:1\"/>\n",
       "<path class=\"bond-54 atom-45 atom-55\" d=\"M 253.2,79.8 L 246.9,69.7\" style=\"fill:none;fill-rule:evenodd;stroke:#000000;stroke-width:2.0px;stroke-linecap:butt;stroke-linejoin:miter;stroke-opacity:1\"/>\n",
       "<path class=\"bond-55 atom-56 atom-57\" d=\"M 219.9,143.2 L 213.5,133.1\" style=\"fill:none;fill-rule:evenodd;stroke:#000000;stroke-width:2.0px;stroke-linecap:butt;stroke-linejoin:miter;stroke-opacity:1\"/>\n",
       "<path class=\"bond-56 atom-57 atom-58\" d=\"M 213.5,133.1 L 219.1,122.5\" style=\"fill:none;fill-rule:evenodd;stroke:#000000;stroke-width:2.0px;stroke-linecap:butt;stroke-linejoin:miter;stroke-opacity:1\"/>\n",
       "<path class=\"bond-57 atom-58 atom-59\" d=\"M 219.1,122.5 L 212.7,112.4\" style=\"fill:none;fill-rule:evenodd;stroke:#000000;stroke-width:2.0px;stroke-linecap:butt;stroke-linejoin:miter;stroke-opacity:1\"/>\n",
       "<path class=\"bond-58 atom-59 atom-60\" d=\"M 212.7,112.4 L 214.8,108.5\" style=\"fill:none;fill-rule:evenodd;stroke:#000000;stroke-width:2.0px;stroke-linecap:butt;stroke-linejoin:miter;stroke-opacity:1\"/>\n",
       "<path class=\"bond-58 atom-59 atom-60\" d=\"M 214.8,108.5 L 216.9,104.5\" style=\"fill:none;fill-rule:evenodd;stroke:#FF0000;stroke-width:2.0px;stroke-linecap:butt;stroke-linejoin:miter;stroke-opacity:1\"/>\n",
       "<path class=\"bond-59 atom-60 atom-61\" d=\"M 216.7,99.3 L 214.3,95.6\" style=\"fill:none;fill-rule:evenodd;stroke:#FF0000;stroke-width:2.0px;stroke-linecap:butt;stroke-linejoin:miter;stroke-opacity:1\"/>\n",
       "<path class=\"bond-59 atom-60 atom-61\" d=\"M 214.3,95.6 L 211.9,91.8\" style=\"fill:none;fill-rule:evenodd;stroke:#000000;stroke-width:2.0px;stroke-linecap:butt;stroke-linejoin:miter;stroke-opacity:1\"/>\n",
       "<path class=\"bond-60 atom-61 atom-62\" d=\"M 212.4,90.9 L 207.3,91.1\" style=\"fill:none;fill-rule:evenodd;stroke:#000000;stroke-width:2.0px;stroke-linecap:butt;stroke-linejoin:miter;stroke-opacity:1\"/>\n",
       "<path class=\"bond-60 atom-61 atom-62\" d=\"M 207.3,91.1 L 202.3,91.3\" style=\"fill:none;fill-rule:evenodd;stroke:#FF0000;stroke-width:2.0px;stroke-linecap:butt;stroke-linejoin:miter;stroke-opacity:1\"/>\n",
       "<path class=\"bond-60 atom-61 atom-62\" d=\"M 212.5,92.6 L 207.4,92.8\" style=\"fill:none;fill-rule:evenodd;stroke:#000000;stroke-width:2.0px;stroke-linecap:butt;stroke-linejoin:miter;stroke-opacity:1\"/>\n",
       "<path class=\"bond-60 atom-61 atom-62\" d=\"M 207.4,92.8 L 202.4,93.0\" style=\"fill:none;fill-rule:evenodd;stroke:#FF0000;stroke-width:2.0px;stroke-linecap:butt;stroke-linejoin:miter;stroke-opacity:1\"/>\n",
       "<path class=\"bond-61 atom-61 atom-63\" d=\"M 211.9,91.8 L 217.5,81.2\" style=\"fill:none;fill-rule:evenodd;stroke:#000000;stroke-width:2.0px;stroke-linecap:butt;stroke-linejoin:miter;stroke-opacity:1\"/>\n",
       "<path class=\"bond-62 atom-63 atom-64\" d=\"M 217.5,81.2 L 229.4,80.7\" style=\"fill:none;fill-rule:evenodd;stroke:#000000;stroke-width:2.0px;stroke-linecap:butt;stroke-linejoin:miter;stroke-opacity:1\"/>\n",
       "<path class=\"bond-63 atom-54 atom-64\" d=\"M 235.0,70.2 L 229.4,80.7\" style=\"fill:none;fill-rule:evenodd;stroke:#000000;stroke-width:2.0px;stroke-linecap:butt;stroke-linejoin:miter;stroke-opacity:1\"/>\n",
       "<path class=\"bond-64 atom-65 atom-66\" d=\"M 196.8,9.6 L 191.2,20.2\" style=\"fill:none;fill-rule:evenodd;stroke:#000000;stroke-width:2.0px;stroke-linecap:butt;stroke-linejoin:miter;stroke-opacity:1\"/>\n",
       "<path class=\"bond-65 atom-66 atom-67\" d=\"M 191.2,20.2 L 197.6,30.3\" style=\"fill:none;fill-rule:evenodd;stroke:#000000;stroke-width:2.0px;stroke-linecap:butt;stroke-linejoin:miter;stroke-opacity:1\"/>\n",
       "<path class=\"bond-66 atom-67 atom-68\" d=\"M 197.6,30.3 L 192.0,40.8\" style=\"fill:none;fill-rule:evenodd;stroke:#000000;stroke-width:2.0px;stroke-linecap:butt;stroke-linejoin:miter;stroke-opacity:1\"/>\n",
       "<path class=\"bond-67 atom-68 atom-69\" d=\"M 192.0,40.8 L 194.4,44.6\" style=\"fill:none;fill-rule:evenodd;stroke:#000000;stroke-width:2.0px;stroke-linecap:butt;stroke-linejoin:miter;stroke-opacity:1\"/>\n",
       "<path class=\"bond-67 atom-68 atom-69\" d=\"M 194.4,44.6 L 196.8,48.4\" style=\"fill:none;fill-rule:evenodd;stroke:#FF0000;stroke-width:2.0px;stroke-linecap:butt;stroke-linejoin:miter;stroke-opacity:1\"/>\n",
       "<path class=\"bond-68 atom-69 atom-70\" d=\"M 197.0,53.5 L 194.9,57.5\" style=\"fill:none;fill-rule:evenodd;stroke:#FF0000;stroke-width:2.0px;stroke-linecap:butt;stroke-linejoin:miter;stroke-opacity:1\"/>\n",
       "<path class=\"bond-68 atom-69 atom-70\" d=\"M 194.9,57.5 L 192.8,61.5\" style=\"fill:none;fill-rule:evenodd;stroke:#000000;stroke-width:2.0px;stroke-linecap:butt;stroke-linejoin:miter;stroke-opacity:1\"/>\n",
       "<path class=\"bond-69 atom-70 atom-71\" d=\"M 193.3,60.6 L 188.2,60.8\" style=\"fill:none;fill-rule:evenodd;stroke:#000000;stroke-width:2.0px;stroke-linecap:butt;stroke-linejoin:miter;stroke-opacity:1\"/>\n",
       "<path class=\"bond-69 atom-70 atom-71\" d=\"M 188.2,60.8 L 183.2,61.0\" style=\"fill:none;fill-rule:evenodd;stroke:#FF0000;stroke-width:2.0px;stroke-linecap:butt;stroke-linejoin:miter;stroke-opacity:1\"/>\n",
       "<path class=\"bond-69 atom-70 atom-71\" d=\"M 193.4,62.4 L 188.3,62.6\" style=\"fill:none;fill-rule:evenodd;stroke:#000000;stroke-width:2.0px;stroke-linecap:butt;stroke-linejoin:miter;stroke-opacity:1\"/>\n",
       "<path class=\"bond-69 atom-70 atom-71\" d=\"M 188.3,62.6 L 183.3,62.8\" style=\"fill:none;fill-rule:evenodd;stroke:#FF0000;stroke-width:2.0px;stroke-linecap:butt;stroke-linejoin:miter;stroke-opacity:1\"/>\n",
       "<path class=\"bond-70 atom-70 atom-72\" d=\"M 192.8,61.5 L 199.2,71.6\" style=\"fill:none;fill-rule:evenodd;stroke:#000000;stroke-width:2.0px;stroke-linecap:butt;stroke-linejoin:miter;stroke-opacity:1\"/>\n",
       "<path class=\"bond-71 atom-72 atom-73\" d=\"M 199.2,71.6 L 211.1,71.1\" style=\"fill:none;fill-rule:evenodd;stroke:#000000;stroke-width:2.0px;stroke-linecap:butt;stroke-linejoin:miter;stroke-opacity:1\"/>\n",
       "<path class=\"bond-72 atom-63 atom-73\" d=\"M 217.5,81.2 L 211.1,71.1\" style=\"fill:none;fill-rule:evenodd;stroke:#000000;stroke-width:2.0px;stroke-linecap:butt;stroke-linejoin:miter;stroke-opacity:1\"/>\n",
       "<path class=\"bond-73 atom-74 atom-75\" d=\"M 183.3,123.9 L 176.9,113.8\" style=\"fill:none;fill-rule:evenodd;stroke:#000000;stroke-width:2.0px;stroke-linecap:butt;stroke-linejoin:miter;stroke-opacity:1\"/>\n",
       "<path class=\"bond-74 atom-75 atom-76\" d=\"M 176.9,113.8 L 165.0,114.3\" style=\"fill:none;fill-rule:evenodd;stroke:#000000;stroke-width:2.0px;stroke-linecap:butt;stroke-linejoin:miter;stroke-opacity:1\"/>\n",
       "<path class=\"bond-75 atom-75 atom-77\" d=\"M 176.9,113.8 L 179.1,109.8\" style=\"fill:none;fill-rule:evenodd;stroke:#000000;stroke-width:2.0px;stroke-linecap:butt;stroke-linejoin:miter;stroke-opacity:1\"/>\n",
       "<path class=\"bond-75 atom-75 atom-77\" d=\"M 179.1,109.8 L 181.2,105.8\" style=\"fill:none;fill-rule:evenodd;stroke:#0000FF;stroke-width:2.0px;stroke-linecap:butt;stroke-linejoin:miter;stroke-opacity:1\"/>\n",
       "<path class=\"bond-76 atom-77 atom-78\" d=\"M 180.9,100.8 L 178.5,97.0\" style=\"fill:none;fill-rule:evenodd;stroke:#0000FF;stroke-width:2.0px;stroke-linecap:butt;stroke-linejoin:miter;stroke-opacity:1\"/>\n",
       "<path class=\"bond-76 atom-77 atom-78\" d=\"M 178.5,97.0 L 176.1,93.2\" style=\"fill:none;fill-rule:evenodd;stroke:#000000;stroke-width:2.0px;stroke-linecap:butt;stroke-linejoin:miter;stroke-opacity:1\"/>\n",
       "<path class=\"bond-77 atom-78 atom-79\" d=\"M 176.6,92.3 L 171.6,92.5\" style=\"fill:none;fill-rule:evenodd;stroke:#000000;stroke-width:2.0px;stroke-linecap:butt;stroke-linejoin:miter;stroke-opacity:1\"/>\n",
       "<path class=\"bond-77 atom-78 atom-79\" d=\"M 171.6,92.5 L 166.5,92.7\" style=\"fill:none;fill-rule:evenodd;stroke:#FF0000;stroke-width:2.0px;stroke-linecap:butt;stroke-linejoin:miter;stroke-opacity:1\"/>\n",
       "<path class=\"bond-77 atom-78 atom-79\" d=\"M 176.7,94.0 L 171.6,94.2\" style=\"fill:none;fill-rule:evenodd;stroke:#000000;stroke-width:2.0px;stroke-linecap:butt;stroke-linejoin:miter;stroke-opacity:1\"/>\n",
       "<path class=\"bond-77 atom-78 atom-79\" d=\"M 171.6,94.2 L 166.6,94.4\" style=\"fill:none;fill-rule:evenodd;stroke:#FF0000;stroke-width:2.0px;stroke-linecap:butt;stroke-linejoin:miter;stroke-opacity:1\"/>\n",
       "<path class=\"bond-78 atom-78 atom-80\" d=\"M 176.1,93.2 L 181.7,82.6\" style=\"fill:none;fill-rule:evenodd;stroke:#000000;stroke-width:2.0px;stroke-linecap:butt;stroke-linejoin:miter;stroke-opacity:1\"/>\n",
       "<path class=\"bond-79 atom-80 atom-81\" d=\"M 181.7,82.6 L 193.6,82.1\" style=\"fill:none;fill-rule:evenodd;stroke:#000000;stroke-width:2.0px;stroke-linecap:butt;stroke-linejoin:miter;stroke-opacity:1\"/>\n",
       "<path class=\"bond-80 atom-72 atom-81\" d=\"M 199.2,71.6 L 193.6,82.1\" style=\"fill:none;fill-rule:evenodd;stroke:#000000;stroke-width:2.0px;stroke-linecap:butt;stroke-linejoin:miter;stroke-opacity:1\"/>\n",
       "<path class=\"bond-81 atom-82 atom-83\" d=\"M 161.0,11.0 L 155.4,21.6\" style=\"fill:none;fill-rule:evenodd;stroke:#000000;stroke-width:2.0px;stroke-linecap:butt;stroke-linejoin:miter;stroke-opacity:1\"/>\n",
       "<path class=\"bond-82 atom-83 atom-84\" d=\"M 155.4,21.6 L 161.8,31.7\" style=\"fill:none;fill-rule:evenodd;stroke:#000000;stroke-width:2.0px;stroke-linecap:butt;stroke-linejoin:miter;stroke-opacity:1\"/>\n",
       "<path class=\"bond-83 atom-84 atom-85\" d=\"M 161.8,31.7 L 156.2,42.2\" style=\"fill:none;fill-rule:evenodd;stroke:#000000;stroke-width:2.0px;stroke-linecap:butt;stroke-linejoin:miter;stroke-opacity:1\"/>\n",
       "<path class=\"bond-84 atom-85 atom-86\" d=\"M 156.2,42.2 L 158.6,46.0\" style=\"fill:none;fill-rule:evenodd;stroke:#000000;stroke-width:2.0px;stroke-linecap:butt;stroke-linejoin:miter;stroke-opacity:1\"/>\n",
       "<path class=\"bond-84 atom-85 atom-86\" d=\"M 158.6,46.0 L 161.0,49.8\" style=\"fill:none;fill-rule:evenodd;stroke:#FF0000;stroke-width:2.0px;stroke-linecap:butt;stroke-linejoin:miter;stroke-opacity:1\"/>\n",
       "<path class=\"bond-85 atom-86 atom-87\" d=\"M 161.2,54.9 L 159.1,58.9\" style=\"fill:none;fill-rule:evenodd;stroke:#FF0000;stroke-width:2.0px;stroke-linecap:butt;stroke-linejoin:miter;stroke-opacity:1\"/>\n",
       "<path class=\"bond-85 atom-86 atom-87\" d=\"M 159.1,58.9 L 157.0,62.9\" style=\"fill:none;fill-rule:evenodd;stroke:#000000;stroke-width:2.0px;stroke-linecap:butt;stroke-linejoin:miter;stroke-opacity:1\"/>\n",
       "<path class=\"bond-86 atom-87 atom-88\" d=\"M 157.5,62.0 L 152.5,62.2\" style=\"fill:none;fill-rule:evenodd;stroke:#000000;stroke-width:2.0px;stroke-linecap:butt;stroke-linejoin:miter;stroke-opacity:1\"/>\n",
       "<path class=\"bond-86 atom-87 atom-88\" d=\"M 152.5,62.2 L 147.4,62.4\" style=\"fill:none;fill-rule:evenodd;stroke:#FF0000;stroke-width:2.0px;stroke-linecap:butt;stroke-linejoin:miter;stroke-opacity:1\"/>\n",
       "<path class=\"bond-86 atom-87 atom-88\" d=\"M 157.6,63.8 L 152.5,64.0\" style=\"fill:none;fill-rule:evenodd;stroke:#000000;stroke-width:2.0px;stroke-linecap:butt;stroke-linejoin:miter;stroke-opacity:1\"/>\n",
       "<path class=\"bond-86 atom-87 atom-88\" d=\"M 152.5,64.0 L 147.5,64.2\" style=\"fill:none;fill-rule:evenodd;stroke:#FF0000;stroke-width:2.0px;stroke-linecap:butt;stroke-linejoin:miter;stroke-opacity:1\"/>\n",
       "<path class=\"bond-87 atom-87 atom-89\" d=\"M 157.0,62.9 L 163.4,73.0\" style=\"fill:none;fill-rule:evenodd;stroke:#000000;stroke-width:2.0px;stroke-linecap:butt;stroke-linejoin:miter;stroke-opacity:1\"/>\n",
       "<path class=\"bond-88 atom-89 atom-90\" d=\"M 163.4,73.0 L 175.3,72.5\" style=\"fill:none;fill-rule:evenodd;stroke:#000000;stroke-width:2.0px;stroke-linecap:butt;stroke-linejoin:miter;stroke-opacity:1\"/>\n",
       "<path class=\"bond-89 atom-80 atom-90\" d=\"M 181.7,82.6 L 175.3,72.5\" style=\"fill:none;fill-rule:evenodd;stroke:#000000;stroke-width:2.0px;stroke-linecap:butt;stroke-linejoin:miter;stroke-opacity:1\"/>\n",
       "<path class=\"bond-90 atom-91 atom-92\" d=\"M 147.5,125.3 L 141.2,115.2\" style=\"fill:none;fill-rule:evenodd;stroke:#000000;stroke-width:2.0px;stroke-linecap:butt;stroke-linejoin:miter;stroke-opacity:1\"/>\n",
       "<path class=\"bond-91 atom-92 atom-93\" d=\"M 141.2,115.2 L 129.2,115.7\" style=\"fill:none;fill-rule:evenodd;stroke:#000000;stroke-width:2.0px;stroke-linecap:butt;stroke-linejoin:miter;stroke-opacity:1\"/>\n",
       "<path class=\"bond-92 atom-92 atom-94\" d=\"M 141.2,115.2 L 143.3,111.2\" style=\"fill:none;fill-rule:evenodd;stroke:#000000;stroke-width:2.0px;stroke-linecap:butt;stroke-linejoin:miter;stroke-opacity:1\"/>\n",
       "<path class=\"bond-92 atom-92 atom-94\" d=\"M 143.3,111.2 L 145.4,107.2\" style=\"fill:none;fill-rule:evenodd;stroke:#0000FF;stroke-width:2.0px;stroke-linecap:butt;stroke-linejoin:miter;stroke-opacity:1\"/>\n",
       "<path class=\"bond-93 atom-94 atom-95\" d=\"M 145.1,102.2 L 142.7,98.4\" style=\"fill:none;fill-rule:evenodd;stroke:#0000FF;stroke-width:2.0px;stroke-linecap:butt;stroke-linejoin:miter;stroke-opacity:1\"/>\n",
       "<path class=\"bond-93 atom-94 atom-95\" d=\"M 142.7,98.4 L 140.4,94.6\" style=\"fill:none;fill-rule:evenodd;stroke:#000000;stroke-width:2.0px;stroke-linecap:butt;stroke-linejoin:miter;stroke-opacity:1\"/>\n",
       "<path class=\"bond-94 atom-95 atom-96\" d=\"M 140.8,93.7 L 135.8,93.9\" style=\"fill:none;fill-rule:evenodd;stroke:#000000;stroke-width:2.0px;stroke-linecap:butt;stroke-linejoin:miter;stroke-opacity:1\"/>\n",
       "<path class=\"bond-94 atom-95 atom-96\" d=\"M 135.8,93.9 L 130.7,94.1\" style=\"fill:none;fill-rule:evenodd;stroke:#FF0000;stroke-width:2.0px;stroke-linecap:butt;stroke-linejoin:miter;stroke-opacity:1\"/>\n",
       "<path class=\"bond-94 atom-95 atom-96\" d=\"M 140.9,95.4 L 135.9,95.6\" style=\"fill:none;fill-rule:evenodd;stroke:#000000;stroke-width:2.0px;stroke-linecap:butt;stroke-linejoin:miter;stroke-opacity:1\"/>\n",
       "<path class=\"bond-94 atom-95 atom-96\" d=\"M 135.9,95.6 L 130.8,95.8\" style=\"fill:none;fill-rule:evenodd;stroke:#FF0000;stroke-width:2.0px;stroke-linecap:butt;stroke-linejoin:miter;stroke-opacity:1\"/>\n",
       "<path class=\"bond-95 atom-95 atom-97\" d=\"M 140.4,94.6 L 145.9,84.0\" style=\"fill:none;fill-rule:evenodd;stroke:#000000;stroke-width:2.0px;stroke-linecap:butt;stroke-linejoin:miter;stroke-opacity:1\"/>\n",
       "<path class=\"bond-96 atom-97 atom-98\" d=\"M 145.9,84.0 L 157.8,83.5\" style=\"fill:none;fill-rule:evenodd;stroke:#000000;stroke-width:2.0px;stroke-linecap:butt;stroke-linejoin:miter;stroke-opacity:1\"/>\n",
       "<path class=\"bond-97 atom-89 atom-98\" d=\"M 163.4,73.0 L 157.8,83.5\" style=\"fill:none;fill-rule:evenodd;stroke:#000000;stroke-width:2.0px;stroke-linecap:butt;stroke-linejoin:miter;stroke-opacity:1\"/>\n",
       "<path class=\"bond-98 atom-99 atom-100\" d=\"M 72.7,45.5 L 84.7,45.0\" style=\"fill:none;fill-rule:evenodd;stroke:#000000;stroke-width:2.0px;stroke-linecap:butt;stroke-linejoin:miter;stroke-opacity:1\"/>\n",
       "<path class=\"bond-99 atom-100 atom-101\" d=\"M 84.7,45.0 L 91.0,55.1\" style=\"fill:none;fill-rule:evenodd;stroke:#000000;stroke-width:2.0px;stroke-linecap:butt;stroke-linejoin:miter;stroke-opacity:1\"/>\n",
       "<path class=\"bond-100 atom-101 atom-102\" d=\"M 91.0,55.1 L 103.0,54.7\" style=\"fill:none;fill-rule:evenodd;stroke:#000000;stroke-width:2.0px;stroke-linecap:butt;stroke-linejoin:miter;stroke-opacity:1\"/>\n",
       "<path class=\"bond-101 atom-102 atom-103\" d=\"M 103.0,54.7 L 105.3,58.4\" style=\"fill:none;fill-rule:evenodd;stroke:#000000;stroke-width:2.0px;stroke-linecap:butt;stroke-linejoin:miter;stroke-opacity:1\"/>\n",
       "<path class=\"bond-101 atom-102 atom-103\" d=\"M 105.3,58.4 L 107.7,62.2\" style=\"fill:none;fill-rule:evenodd;stroke:#FF0000;stroke-width:2.0px;stroke-linecap:butt;stroke-linejoin:miter;stroke-opacity:1\"/>\n",
       "<path class=\"bond-102 atom-103 atom-104\" d=\"M 111.7,64.7 L 116.5,64.5\" style=\"fill:none;fill-rule:evenodd;stroke:#FF0000;stroke-width:2.0px;stroke-linecap:butt;stroke-linejoin:miter;stroke-opacity:1\"/>\n",
       "<path class=\"bond-102 atom-103 atom-104\" d=\"M 116.5,64.5 L 121.3,64.3\" style=\"fill:none;fill-rule:evenodd;stroke:#000000;stroke-width:2.0px;stroke-linecap:butt;stroke-linejoin:miter;stroke-opacity:1\"/>\n",
       "<path class=\"bond-103 atom-104 atom-105\" d=\"M 121.8,65.2 L 124.0,61.0\" style=\"fill:none;fill-rule:evenodd;stroke:#000000;stroke-width:2.0px;stroke-linecap:butt;stroke-linejoin:miter;stroke-opacity:1\"/>\n",
       "<path class=\"bond-103 atom-104 atom-105\" d=\"M 124.0,61.0 L 126.2,56.8\" style=\"fill:none;fill-rule:evenodd;stroke:#FF0000;stroke-width:2.0px;stroke-linecap:butt;stroke-linejoin:miter;stroke-opacity:1\"/>\n",
       "<path class=\"bond-103 atom-104 atom-105\" d=\"M 120.2,64.3 L 122.4,60.1\" style=\"fill:none;fill-rule:evenodd;stroke:#000000;stroke-width:2.0px;stroke-linecap:butt;stroke-linejoin:miter;stroke-opacity:1\"/>\n",
       "<path class=\"bond-103 atom-104 atom-105\" d=\"M 122.4,60.1 L 124.6,55.9\" style=\"fill:none;fill-rule:evenodd;stroke:#FF0000;stroke-width:2.0px;stroke-linecap:butt;stroke-linejoin:miter;stroke-opacity:1\"/>\n",
       "<path class=\"bond-104 atom-104 atom-106\" d=\"M 121.3,64.3 L 127.6,74.4\" style=\"fill:none;fill-rule:evenodd;stroke:#000000;stroke-width:2.0px;stroke-linecap:butt;stroke-linejoin:miter;stroke-opacity:1\"/>\n",
       "<path class=\"bond-105 atom-106 atom-107\" d=\"M 127.6,74.4 L 139.5,73.9\" style=\"fill:none;fill-rule:evenodd;stroke:#000000;stroke-width:2.0px;stroke-linecap:butt;stroke-linejoin:miter;stroke-opacity:1\"/>\n",
       "<path class=\"bond-106 atom-97 atom-107\" d=\"M 145.9,84.0 L 139.5,73.9\" style=\"fill:none;fill-rule:evenodd;stroke:#000000;stroke-width:2.0px;stroke-linecap:butt;stroke-linejoin:miter;stroke-opacity:1\"/>\n",
       "<path class=\"bond-107 atom-108 atom-109\" d=\"M 107.7,23.4 L 102.2,34.0\" style=\"fill:none;fill-rule:evenodd;stroke:#000000;stroke-width:2.0px;stroke-linecap:butt;stroke-linejoin:miter;stroke-opacity:1\"/>\n",
       "<path class=\"bond-108 atom-109 atom-110\" d=\"M 102.2,34.0 L 108.5,44.1\" style=\"fill:none;fill-rule:evenodd;stroke:#000000;stroke-width:2.0px;stroke-linecap:butt;stroke-linejoin:miter;stroke-opacity:1\"/>\n",
       "<path class=\"bond-109 atom-110 atom-111\" d=\"M 108.5,44.1 L 103.0,54.7\" style=\"fill:none;fill-rule:evenodd;stroke:#000000;stroke-width:2.0px;stroke-linecap:butt;stroke-linejoin:miter;stroke-opacity:1\"/>\n",
       "<path class=\"bond-110 atom-111 atom-112\" d=\"M 103.0,54.7 L 105.3,58.4\" style=\"fill:none;fill-rule:evenodd;stroke:#000000;stroke-width:2.0px;stroke-linecap:butt;stroke-linejoin:miter;stroke-opacity:1\"/>\n",
       "<path class=\"bond-110 atom-111 atom-112\" d=\"M 105.3,58.4 L 107.7,62.2\" style=\"fill:none;fill-rule:evenodd;stroke:#FF0000;stroke-width:2.0px;stroke-linecap:butt;stroke-linejoin:miter;stroke-opacity:1\"/>\n",
       "<path class=\"bond-111 atom-112 atom-113\" d=\"M 108.0,67.4 L 105.9,71.3\" style=\"fill:none;fill-rule:evenodd;stroke:#FF0000;stroke-width:2.0px;stroke-linecap:butt;stroke-linejoin:miter;stroke-opacity:1\"/>\n",
       "<path class=\"bond-111 atom-112 atom-113\" d=\"M 105.9,71.3 L 103.8,75.3\" style=\"fill:none;fill-rule:evenodd;stroke:#000000;stroke-width:2.0px;stroke-linecap:butt;stroke-linejoin:miter;stroke-opacity:1\"/>\n",
       "<path class=\"bond-112 atom-113 atom-114\" d=\"M 104.3,74.4 L 99.2,74.6\" style=\"fill:none;fill-rule:evenodd;stroke:#000000;stroke-width:2.0px;stroke-linecap:butt;stroke-linejoin:miter;stroke-opacity:1\"/>\n",
       "<path class=\"bond-112 atom-113 atom-114\" d=\"M 99.2,74.6 L 94.2,74.8\" style=\"fill:none;fill-rule:evenodd;stroke:#FF0000;stroke-width:2.0px;stroke-linecap:butt;stroke-linejoin:miter;stroke-opacity:1\"/>\n",
       "<path class=\"bond-112 atom-113 atom-114\" d=\"M 104.3,76.2 L 99.3,76.4\" style=\"fill:none;fill-rule:evenodd;stroke:#000000;stroke-width:2.0px;stroke-linecap:butt;stroke-linejoin:miter;stroke-opacity:1\"/>\n",
       "<path class=\"bond-112 atom-113 atom-114\" d=\"M 99.3,76.4 L 94.2,76.6\" style=\"fill:none;fill-rule:evenodd;stroke:#FF0000;stroke-width:2.0px;stroke-linecap:butt;stroke-linejoin:miter;stroke-opacity:1\"/>\n",
       "<path class=\"bond-113 atom-113 atom-115\" d=\"M 103.8,75.3 L 110.1,85.4\" style=\"fill:none;fill-rule:evenodd;stroke:#000000;stroke-width:2.0px;stroke-linecap:butt;stroke-linejoin:miter;stroke-opacity:1\"/>\n",
       "<path class=\"bond-114 atom-115 atom-116\" d=\"M 110.1,85.4 L 122.1,84.9\" style=\"fill:none;fill-rule:evenodd;stroke:#000000;stroke-width:2.0px;stroke-linecap:butt;stroke-linejoin:miter;stroke-opacity:1\"/>\n",
       "<path class=\"bond-115 atom-106 atom-116\" d=\"M 127.6,74.4 L 122.1,84.9\" style=\"fill:none;fill-rule:evenodd;stroke:#000000;stroke-width:2.0px;stroke-linecap:butt;stroke-linejoin:miter;stroke-opacity:1\"/>\n",
       "<path class=\"bond-116 atom-117 atom-118\" d=\"M 104.6,96.0 L 92.7,96.4\" style=\"fill:none;fill-rule:evenodd;stroke:#000000;stroke-width:2.0px;stroke-linecap:butt;stroke-linejoin:miter;stroke-opacity:1\"/>\n",
       "<path class=\"bond-117 atom-115 atom-117\" d=\"M 110.1,85.4 L 104.6,96.0\" style=\"fill:none;fill-rule:evenodd;stroke:#000000;stroke-width:2.0px;stroke-linecap:butt;stroke-linejoin:miter;stroke-opacity:1\"/>\n",
       "<path d=\"M 307.2,88.2 L 307.3,88.0 L 307.9,88.0\" style=\"fill:none;stroke:#000000;stroke-width:2.0px;stroke-linecap:butt;stroke-linejoin:miter;stroke-opacity:1;\"/>\n",
       "<path d=\"M 372.0,54.0 L 371.7,54.5 L 371.1,54.5\" style=\"fill:none;stroke:#000000;stroke-width:2.0px;stroke-linecap:butt;stroke-linejoin:miter;stroke-opacity:1;\"/>\n",
       "<path d=\"M 360.4,54.9 L 359.8,55.0 L 359.5,55.5\" style=\"fill:none;stroke:#000000;stroke-width:2.0px;stroke-linecap:butt;stroke-linejoin:miter;stroke-opacity:1;\"/>\n",
       "<path d=\"M 354.5,65.0 L 354.2,65.5 L 354.0,65.5\" style=\"fill:none;stroke:#000000;stroke-width:2.0px;stroke-linecap:butt;stroke-linejoin:miter;stroke-opacity:1;\"/>\n",
       "<path d=\"M 336.8,76.3 L 336.7,76.5 L 336.1,76.6\" style=\"fill:none;stroke:#000000;stroke-width:2.0px;stroke-linecap:butt;stroke-linejoin:miter;stroke-opacity:1;\"/>\n",
       "<path d=\"M 319.5,87.0 L 319.2,87.6 L 318.6,87.6\" style=\"fill:none;stroke:#000000;stroke-width:2.0px;stroke-linecap:butt;stroke-linejoin:miter;stroke-opacity:1;\"/>\n",
       "<path d=\"M 335.4,34.7 L 335.1,35.2 L 334.5,35.3\" style=\"fill:none;stroke:#000000;stroke-width:2.0px;stroke-linecap:butt;stroke-linejoin:miter;stroke-opacity:1;\"/>\n",
       "<path d=\"M 323.8,35.7 L 323.2,35.7 L 322.9,36.2\" style=\"fill:none;stroke:#000000;stroke-width:2.0px;stroke-linecap:butt;stroke-linejoin:miter;stroke-opacity:1;\"/>\n",
       "<path d=\"M 317.9,45.7 L 317.6,46.3 L 317.4,46.3\" style=\"fill:none;stroke:#000000;stroke-width:2.0px;stroke-linecap:butt;stroke-linejoin:miter;stroke-opacity:1;\"/>\n",
       "<path d=\"M 300.2,57.1 L 300.1,57.3 L 300.5,57.8\" style=\"fill:none;stroke:#000000;stroke-width:2.0px;stroke-linecap:butt;stroke-linejoin:miter;stroke-opacity:1;\"/>\n",
       "<path d=\"M 317.8,66.9 L 318.4,66.9 L 318.8,67.4\" style=\"fill:none;stroke:#000000;stroke-width:2.0px;stroke-linecap:butt;stroke-linejoin:miter;stroke-opacity:1;\"/>\n",
       "<path d=\"M 285.4,130.8 L 285.1,130.3 L 285.4,129.8\" style=\"fill:none;stroke:#000000;stroke-width:2.0px;stroke-linecap:butt;stroke-linejoin:miter;stroke-opacity:1;\"/>\n",
       "<path d=\"M 290.4,120.3 L 290.6,119.7 L 290.3,119.2\" style=\"fill:none;stroke:#000000;stroke-width:2.0px;stroke-linecap:butt;stroke-linejoin:miter;stroke-opacity:1;\"/>\n",
       "<path d=\"M 284.6,110.1 L 284.3,109.6 L 284.4,109.4\" style=\"fill:none;stroke:#000000;stroke-width:2.0px;stroke-linecap:butt;stroke-linejoin:miter;stroke-opacity:1;\"/>\n",
       "<path d=\"M 283.6,89.2 L 283.5,89.0 L 283.7,88.4\" style=\"fill:none;stroke:#000000;stroke-width:2.0px;stroke-linecap:butt;stroke-linejoin:miter;stroke-opacity:1;\"/>\n",
       "<path d=\"M 300.4,78.0 L 301.0,77.9 L 301.2,77.4\" style=\"fill:none;stroke:#000000;stroke-width:2.0px;stroke-linecap:butt;stroke-linejoin:miter;stroke-opacity:1;\"/>\n",
       "<path d=\"M 263.0,16.9 L 262.7,17.4 L 263.1,17.9\" style=\"fill:none;stroke:#000000;stroke-width:2.0px;stroke-linecap:butt;stroke-linejoin:miter;stroke-opacity:1;\"/>\n",
       "<path d=\"M 268.8,27.0 L 269.1,27.5 L 268.8,28.0\" style=\"fill:none;stroke:#000000;stroke-width:2.0px;stroke-linecap:butt;stroke-linejoin:miter;stroke-opacity:1;\"/>\n",
       "<path d=\"M 263.8,37.5 L 263.6,38.0 L 263.7,38.2\" style=\"fill:none;stroke:#000000;stroke-width:2.0px;stroke-linecap:butt;stroke-linejoin:miter;stroke-opacity:1;\"/>\n",
       "<path d=\"M 264.5,58.5 L 264.4,58.7 L 264.7,59.2\" style=\"fill:none;stroke:#000000;stroke-width:2.0px;stroke-linecap:butt;stroke-linejoin:miter;stroke-opacity:1;\"/>\n",
       "<path d=\"M 282.1,68.3 L 282.7,68.3 L 283.0,68.8\" style=\"fill:none;stroke:#000000;stroke-width:2.0px;stroke-linecap:butt;stroke-linejoin:miter;stroke-opacity:1;\"/>\n",
       "<path d=\"M 249.6,132.2 L 249.3,131.7 L 249.6,131.2\" style=\"fill:none;stroke:#000000;stroke-width:2.0px;stroke-linecap:butt;stroke-linejoin:miter;stroke-opacity:1;\"/>\n",
       "<path d=\"M 254.6,121.7 L 254.9,121.1 L 254.5,120.6\" style=\"fill:none;stroke:#000000;stroke-width:2.0px;stroke-linecap:butt;stroke-linejoin:miter;stroke-opacity:1;\"/>\n",
       "<path d=\"M 248.8,111.5 L 248.5,111.0 L 248.6,110.8\" style=\"fill:none;stroke:#000000;stroke-width:2.0px;stroke-linecap:butt;stroke-linejoin:miter;stroke-opacity:1;\"/>\n",
       "<path d=\"M 247.8,90.6 L 247.7,90.4 L 248.0,89.8\" style=\"fill:none;stroke:#000000;stroke-width:2.0px;stroke-linecap:butt;stroke-linejoin:miter;stroke-opacity:1;\"/>\n",
       "<path d=\"M 264.6,79.4 L 265.2,79.3 L 265.5,78.8\" style=\"fill:none;stroke:#000000;stroke-width:2.0px;stroke-linecap:butt;stroke-linejoin:miter;stroke-opacity:1;\"/>\n",
       "<path d=\"M 227.2,18.3 L 227.0,18.8 L 227.3,19.3\" style=\"fill:none;stroke:#000000;stroke-width:2.0px;stroke-linecap:butt;stroke-linejoin:miter;stroke-opacity:1;\"/>\n",
       "<path d=\"M 233.0,28.4 L 233.3,28.9 L 233.1,29.4\" style=\"fill:none;stroke:#000000;stroke-width:2.0px;stroke-linecap:butt;stroke-linejoin:miter;stroke-opacity:1;\"/>\n",
       "<path d=\"M 228.1,38.9 L 227.8,39.4 L 227.9,39.6\" style=\"fill:none;stroke:#000000;stroke-width:2.0px;stroke-linecap:butt;stroke-linejoin:miter;stroke-opacity:1;\"/>\n",
       "<path d=\"M 228.7,59.9 L 228.6,60.1 L 228.9,60.6\" style=\"fill:none;stroke:#000000;stroke-width:2.0px;stroke-linecap:butt;stroke-linejoin:miter;stroke-opacity:1;\"/>\n",
       "<path d=\"M 246.3,69.7 L 246.9,69.7 L 247.2,70.2\" style=\"fill:none;stroke:#000000;stroke-width:2.0px;stroke-linecap:butt;stroke-linejoin:miter;stroke-opacity:1;\"/>\n",
       "<path d=\"M 213.8,133.6 L 213.5,133.1 L 213.8,132.6\" style=\"fill:none;stroke:#000000;stroke-width:2.0px;stroke-linecap:butt;stroke-linejoin:miter;stroke-opacity:1;\"/>\n",
       "<path d=\"M 218.8,123.1 L 219.1,122.5 L 218.8,122.0\" style=\"fill:none;stroke:#000000;stroke-width:2.0px;stroke-linecap:butt;stroke-linejoin:miter;stroke-opacity:1;\"/>\n",
       "<path d=\"M 213.0,112.9 L 212.7,112.4 L 212.8,112.2\" style=\"fill:none;stroke:#000000;stroke-width:2.0px;stroke-linecap:butt;stroke-linejoin:miter;stroke-opacity:1;\"/>\n",
       "<path d=\"M 212.0,92.0 L 211.9,91.8 L 212.2,91.2\" style=\"fill:none;stroke:#000000;stroke-width:2.0px;stroke-linecap:butt;stroke-linejoin:miter;stroke-opacity:1;\"/>\n",
       "<path d=\"M 228.8,80.8 L 229.4,80.7 L 229.7,80.2\" style=\"fill:none;stroke:#000000;stroke-width:2.0px;stroke-linecap:butt;stroke-linejoin:miter;stroke-opacity:1;\"/>\n",
       "<path d=\"M 191.5,19.7 L 191.2,20.2 L 191.5,20.7\" style=\"fill:none;stroke:#000000;stroke-width:2.0px;stroke-linecap:butt;stroke-linejoin:miter;stroke-opacity:1;\"/>\n",
       "<path d=\"M 197.2,29.8 L 197.6,30.3 L 197.3,30.8\" style=\"fill:none;stroke:#000000;stroke-width:2.0px;stroke-linecap:butt;stroke-linejoin:miter;stroke-opacity:1;\"/>\n",
       "<path d=\"M 192.3,40.3 L 192.0,40.8 L 192.1,41.0\" style=\"fill:none;stroke:#000000;stroke-width:2.0px;stroke-linecap:butt;stroke-linejoin:miter;stroke-opacity:1;\"/>\n",
       "<path d=\"M 192.9,61.3 L 192.8,61.5 L 193.1,62.0\" style=\"fill:none;stroke:#000000;stroke-width:2.0px;stroke-linecap:butt;stroke-linejoin:miter;stroke-opacity:1;\"/>\n",
       "<path d=\"M 210.5,71.1 L 211.1,71.1 L 211.4,71.6\" style=\"fill:none;stroke:#000000;stroke-width:2.0px;stroke-linecap:butt;stroke-linejoin:miter;stroke-opacity:1;\"/>\n",
       "<path d=\"M 176.3,93.4 L 176.1,93.2 L 176.4,92.6\" style=\"fill:none;stroke:#000000;stroke-width:2.0px;stroke-linecap:butt;stroke-linejoin:miter;stroke-opacity:1;\"/>\n",
       "<path d=\"M 193.0,82.2 L 193.6,82.1 L 193.9,81.6\" style=\"fill:none;stroke:#000000;stroke-width:2.0px;stroke-linecap:butt;stroke-linejoin:miter;stroke-opacity:1;\"/>\n",
       "<path d=\"M 155.7,21.0 L 155.4,21.6 L 155.7,22.1\" style=\"fill:none;stroke:#000000;stroke-width:2.0px;stroke-linecap:butt;stroke-linejoin:miter;stroke-opacity:1;\"/>\n",
       "<path d=\"M 161.5,31.2 L 161.8,31.7 L 161.5,32.2\" style=\"fill:none;stroke:#000000;stroke-width:2.0px;stroke-linecap:butt;stroke-linejoin:miter;stroke-opacity:1;\"/>\n",
       "<path d=\"M 156.5,41.7 L 156.2,42.2 L 156.3,42.4\" style=\"fill:none;stroke:#000000;stroke-width:2.0px;stroke-linecap:butt;stroke-linejoin:miter;stroke-opacity:1;\"/>\n",
       "<path d=\"M 157.1,62.7 L 157.0,62.9 L 157.4,63.4\" style=\"fill:none;stroke:#000000;stroke-width:2.0px;stroke-linecap:butt;stroke-linejoin:miter;stroke-opacity:1;\"/>\n",
       "<path d=\"M 174.7,72.5 L 175.3,72.5 L 175.6,73.0\" style=\"fill:none;stroke:#000000;stroke-width:2.0px;stroke-linecap:butt;stroke-linejoin:miter;stroke-opacity:1;\"/>\n",
       "<path d=\"M 140.5,94.8 L 140.4,94.6 L 140.6,94.0\" style=\"fill:none;stroke:#000000;stroke-width:2.0px;stroke-linecap:butt;stroke-linejoin:miter;stroke-opacity:1;\"/>\n",
       "<path d=\"M 157.2,83.6 L 157.8,83.5 L 158.1,83.0\" style=\"fill:none;stroke:#000000;stroke-width:2.0px;stroke-linecap:butt;stroke-linejoin:miter;stroke-opacity:1;\"/>\n",
       "<path d=\"M 84.1,45.1 L 84.7,45.0 L 85.0,45.5\" style=\"fill:none;stroke:#000000;stroke-width:2.0px;stroke-linecap:butt;stroke-linejoin:miter;stroke-opacity:1;\"/>\n",
       "<path d=\"M 90.7,54.6 L 91.0,55.1 L 91.6,55.1\" style=\"fill:none;stroke:#000000;stroke-width:2.0px;stroke-linecap:butt;stroke-linejoin:miter;stroke-opacity:1;\"/>\n",
       "<path d=\"M 102.4,54.7 L 103.0,54.7 L 103.1,54.9\" style=\"fill:none;stroke:#000000;stroke-width:2.0px;stroke-linecap:butt;stroke-linejoin:miter;stroke-opacity:1;\"/>\n",
       "<path d=\"M 105.3,58.3 L 105.3,58.4 L 105.4,58.5\" style=\"fill:none;stroke:#000000;stroke-width:2.0px;stroke-linecap:butt;stroke-linejoin:miter;stroke-opacity:1;\"/>\n",
       "<path d=\"M 121.0,64.3 L 121.3,64.3 L 121.6,64.8\" style=\"fill:none;stroke:#000000;stroke-width:2.0px;stroke-linecap:butt;stroke-linejoin:miter;stroke-opacity:1;\"/>\n",
       "<path d=\"M 139.0,73.9 L 139.5,73.9 L 139.9,74.4\" style=\"fill:none;stroke:#000000;stroke-width:2.0px;stroke-linecap:butt;stroke-linejoin:miter;stroke-opacity:1;\"/>\n",
       "<path d=\"M 102.4,33.5 L 102.2,34.0 L 102.5,34.5\" style=\"fill:none;stroke:#000000;stroke-width:2.0px;stroke-linecap:butt;stroke-linejoin:miter;stroke-opacity:1;\"/>\n",
       "<path d=\"M 108.2,43.6 L 108.5,44.1 L 108.2,44.6\" style=\"fill:none;stroke:#000000;stroke-width:2.0px;stroke-linecap:butt;stroke-linejoin:miter;stroke-opacity:1;\"/>\n",
       "<path d=\"M 103.2,54.1 L 103.0,54.7 L 103.1,54.9\" style=\"fill:none;stroke:#000000;stroke-width:2.0px;stroke-linecap:butt;stroke-linejoin:miter;stroke-opacity:1;\"/>\n",
       "<path d=\"M 103.9,75.1 L 103.8,75.3 L 104.1,75.8\" style=\"fill:none;stroke:#000000;stroke-width:2.0px;stroke-linecap:butt;stroke-linejoin:miter;stroke-opacity:1;\"/>\n",
       "<path d=\"M 121.5,85.0 L 122.1,84.9 L 122.3,84.4\" style=\"fill:none;stroke:#000000;stroke-width:2.0px;stroke-linecap:butt;stroke-linejoin:miter;stroke-opacity:1;\"/>\n",
       "<path d=\"M 104.0,96.0 L 104.6,96.0 L 104.9,95.4\" style=\"fill:none;stroke:#000000;stroke-width:2.0px;stroke-linecap:butt;stroke-linejoin:miter;stroke-opacity:1;\"/>\n",
       "<path class=\"atom-0\" d=\"M 300.6 99.0 Q 300.6 98.0, 301.1 97.4 Q 301.6 96.9, 302.6 96.9 Q 303.5 96.9, 304.0 97.4 Q 304.5 98.0, 304.5 99.0 Q 304.5 100.1, 304.0 100.7 Q 303.5 101.2, 302.6 101.2 Q 301.6 101.2, 301.1 100.7 Q 300.6 100.1, 300.6 99.0 M 302.6 100.8 Q 303.2 100.8, 303.5 100.3 Q 303.9 99.9, 303.9 99.0 Q 303.9 98.2, 303.5 97.8 Q 303.2 97.4, 302.6 97.4 Q 301.9 97.4, 301.5 97.8 Q 301.2 98.2, 301.2 99.0 Q 301.2 99.9, 301.5 100.3 Q 301.9 100.8, 302.6 100.8 \" fill=\"#FF0000\"/>\n",
       "<path class=\"atom-6\" d=\"M 340.3 66.0 Q 340.3 65.0, 340.8 64.4 Q 341.3 63.8, 342.3 63.8 Q 343.2 63.8, 343.7 64.4 Q 344.2 65.0, 344.2 66.0 Q 344.2 67.0, 343.7 67.6 Q 343.2 68.2, 342.3 68.2 Q 341.4 68.2, 340.8 67.6 Q 340.3 67.0, 340.3 66.0 M 342.3 67.7 Q 342.9 67.7, 343.3 67.3 Q 343.6 66.9, 343.6 66.0 Q 343.6 65.2, 343.3 64.7 Q 342.9 64.3, 342.3 64.3 Q 341.6 64.3, 341.3 64.7 Q 340.9 65.2, 340.9 66.0 Q 340.9 66.9, 341.3 67.3 Q 341.6 67.7, 342.3 67.7 \" fill=\"#FF0000\"/>\n",
       "<path class=\"atom-8\" d=\"M 341.1 86.7 Q 341.1 85.6, 341.6 85.1 Q 342.2 84.5, 343.1 84.5 Q 344.0 84.5, 344.5 85.1 Q 345.0 85.6, 345.0 86.7 Q 345.0 87.7, 344.5 88.3 Q 344.0 88.9, 343.1 88.9 Q 342.2 88.9, 341.6 88.3 Q 341.1 87.7, 341.1 86.7 M 343.1 88.4 Q 343.7 88.4, 344.1 87.9 Q 344.4 87.5, 344.4 86.7 Q 344.4 85.8, 344.1 85.4 Q 343.7 85.0, 343.1 85.0 Q 342.4 85.0, 342.1 85.4 Q 341.7 85.8, 341.7 86.7 Q 341.7 87.5, 342.1 87.9 Q 342.4 88.4, 343.1 88.4 \" fill=\"#FF0000\"/>\n",
       "<path class=\"atom-15\" d=\"M 303.8 46.7 Q 303.8 45.7, 304.3 45.2 Q 304.8 44.6, 305.7 44.6 Q 306.6 44.6, 307.1 45.2 Q 307.7 45.7, 307.7 46.7 Q 307.7 47.8, 307.1 48.4 Q 306.6 48.9, 305.7 48.9 Q 304.8 48.9, 304.3 48.4 Q 303.8 47.8, 303.8 46.7 M 305.7 48.5 Q 306.3 48.5, 306.7 48.0 Q 307.1 47.6, 307.1 46.7 Q 307.1 45.9, 306.7 45.5 Q 306.3 45.1, 305.7 45.1 Q 305.1 45.1, 304.7 45.5 Q 304.4 45.9, 304.4 46.7 Q 304.4 47.6, 304.7 48.0 Q 305.1 48.5, 305.7 48.5 \" fill=\"#FF0000\"/>\n",
       "<path class=\"atom-17\" d=\"M 286.3 57.8 Q 286.3 56.8, 286.8 56.2 Q 287.3 55.6, 288.2 55.6 Q 289.2 55.6, 289.7 56.2 Q 290.2 56.8, 290.2 57.8 Q 290.2 58.8, 289.7 59.4 Q 289.1 60.0, 288.2 60.0 Q 287.3 60.0, 286.8 59.4 Q 286.3 58.8, 286.3 57.8 M 288.2 59.5 Q 288.9 59.5, 289.2 59.1 Q 289.6 58.6, 289.6 57.8 Q 289.6 56.9, 289.2 56.5 Q 288.9 56.1, 288.2 56.1 Q 287.6 56.1, 287.2 56.5 Q 286.9 56.9, 286.9 57.8 Q 286.9 58.6, 287.2 59.1 Q 287.6 59.5, 288.2 59.5 \" fill=\"#FF0000\"/>\n",
       "<path class=\"atom-24\" d=\"M 287.9 99.1 Q 287.9 98.1, 288.4 97.5 Q 288.9 96.9, 289.8 96.9 Q 290.8 96.9, 291.3 97.5 Q 291.8 98.1, 291.8 99.1 Q 291.8 100.1, 291.3 100.7 Q 290.8 101.3, 289.8 101.3 Q 288.9 101.3, 288.4 100.7 Q 287.9 100.1, 287.9 99.1 M 289.8 100.8 Q 290.5 100.8, 290.8 100.4 Q 291.2 99.9, 291.2 99.1 Q 291.2 98.2, 290.8 97.8 Q 290.5 97.4, 289.8 97.4 Q 289.2 97.4, 288.8 97.8 Q 288.5 98.2, 288.5 99.1 Q 288.5 99.9, 288.8 100.4 Q 289.2 100.8, 289.8 100.8 \" fill=\"#FF0000\"/>\n",
       "<path class=\"atom-26\" d=\"M 269.6 89.5 Q 269.6 88.4, 270.1 87.9 Q 270.6 87.3, 271.5 87.3 Q 272.5 87.3, 273.0 87.9 Q 273.5 88.4, 273.5 89.5 Q 273.5 90.5, 273.0 91.1 Q 272.5 91.7, 271.5 91.7 Q 270.6 91.7, 270.1 91.1 Q 269.6 90.5, 269.6 89.5 M 271.5 91.2 Q 272.2 91.2, 272.5 90.7 Q 272.9 90.3, 272.9 89.5 Q 272.9 88.6, 272.5 88.2 Q 272.2 87.8, 271.5 87.8 Q 270.9 87.8, 270.5 88.2 Q 270.2 88.6, 270.2 89.5 Q 270.2 90.3, 270.5 90.7 Q 270.9 91.2, 271.5 91.2 \" fill=\"#FF0000\"/>\n",
       "<path class=\"atom-33\" d=\"M 268.0 48.1 Q 268.0 47.1, 268.5 46.6 Q 269.0 46.0, 269.9 46.0 Q 270.9 46.0, 271.4 46.6 Q 271.9 47.1, 271.9 48.1 Q 271.9 49.2, 271.4 49.8 Q 270.9 50.3, 269.9 50.3 Q 269.0 50.3, 268.5 49.8 Q 268.0 49.2, 268.0 48.1 M 269.9 49.9 Q 270.6 49.9, 270.9 49.4 Q 271.3 49.0, 271.3 48.1 Q 271.3 47.3, 270.9 46.9 Q 270.6 46.5, 269.9 46.5 Q 269.3 46.5, 268.9 46.9 Q 268.6 47.3, 268.6 48.1 Q 268.6 49.0, 268.9 49.4 Q 269.3 49.9, 269.9 49.9 \" fill=\"#FF0000\"/>\n",
       "<path class=\"atom-35\" d=\"M 250.5 59.2 Q 250.5 58.2, 251.0 57.6 Q 251.5 57.0, 252.4 57.0 Q 253.4 57.0, 253.9 57.6 Q 254.4 58.2, 254.4 59.2 Q 254.4 60.2, 253.9 60.8 Q 253.4 61.4, 252.4 61.4 Q 251.5 61.4, 251.0 60.8 Q 250.5 60.2, 250.5 59.2 M 252.4 60.9 Q 253.1 60.9, 253.4 60.5 Q 253.8 60.0, 253.8 59.2 Q 253.8 58.3, 253.4 57.9 Q 253.1 57.5, 252.4 57.5 Q 251.8 57.5, 251.4 57.9 Q 251.1 58.3, 251.1 59.2 Q 251.1 60.0, 251.4 60.5 Q 251.8 60.9, 252.4 60.9 \" fill=\"#FF0000\"/>\n",
       "<path class=\"atom-42\" d=\"M 252.1 100.5 Q 252.1 99.5, 252.6 98.9 Q 253.1 98.3, 254.1 98.3 Q 255.0 98.3, 255.5 98.9 Q 256.0 99.5, 256.0 100.5 Q 256.0 101.5, 255.5 102.1 Q 255.0 102.7, 254.1 102.7 Q 253.1 102.7, 252.6 102.1 Q 252.1 101.5, 252.1 100.5 M 254.1 102.2 Q 254.7 102.2, 255.1 101.8 Q 255.4 101.3, 255.4 100.5 Q 255.4 99.6, 255.1 99.2 Q 254.7 98.8, 254.1 98.8 Q 253.4 98.8, 253.1 99.2 Q 252.7 99.6, 252.7 100.5 Q 252.7 101.3, 253.1 101.8 Q 253.4 102.2, 254.1 102.2 \" fill=\"#FF0000\"/>\n",
       "<path class=\"atom-44\" d=\"M 233.8 90.9 Q 233.8 89.8, 234.3 89.3 Q 234.8 88.7, 235.8 88.7 Q 236.7 88.7, 237.2 89.3 Q 237.7 89.8, 237.7 90.9 Q 237.7 91.9, 237.2 92.5 Q 236.7 93.1, 235.8 93.1 Q 234.8 93.1, 234.3 92.5 Q 233.8 91.9, 233.8 90.9 M 235.8 92.6 Q 236.4 92.6, 236.8 92.1 Q 237.1 91.7, 237.1 90.9 Q 237.1 90.0, 236.8 89.6 Q 236.4 89.2, 235.8 89.2 Q 235.1 89.2, 234.8 89.6 Q 234.4 90.0, 234.4 90.9 Q 234.4 91.7, 234.8 92.1 Q 235.1 92.6, 235.8 92.6 \" fill=\"#FF0000\"/>\n",
       "<path class=\"atom-51\" d=\"M 232.2 49.5 Q 232.2 48.5, 232.7 48.0 Q 233.2 47.4, 234.1 47.4 Q 235.1 47.4, 235.6 48.0 Q 236.1 48.5, 236.1 49.5 Q 236.1 50.6, 235.6 51.2 Q 235.1 51.7, 234.1 51.7 Q 233.2 51.7, 232.7 51.2 Q 232.2 50.6, 232.2 49.5 M 234.1 51.3 Q 234.8 51.3, 235.1 50.8 Q 235.5 50.4, 235.5 49.5 Q 235.5 48.7, 235.1 48.3 Q 234.8 47.9, 234.1 47.9 Q 233.5 47.9, 233.1 48.3 Q 232.8 48.7, 232.8 49.5 Q 232.8 50.4, 233.1 50.8 Q 233.5 51.3, 234.1 51.3 \" fill=\"#FF0000\"/>\n",
       "<path class=\"atom-53\" d=\"M 214.7 60.6 Q 214.7 59.5, 215.2 59.0 Q 215.7 58.4, 216.7 58.4 Q 217.6 58.4, 218.1 59.0 Q 218.6 59.5, 218.6 60.6 Q 218.6 61.6, 218.1 62.2 Q 217.6 62.8, 216.7 62.8 Q 215.7 62.8, 215.2 62.2 Q 214.7 61.6, 214.7 60.6 M 216.7 62.3 Q 217.3 62.3, 217.7 61.9 Q 218.0 61.4, 218.0 60.6 Q 218.0 59.7, 217.7 59.3 Q 217.3 58.9, 216.7 58.9 Q 216.0 58.9, 215.7 59.3 Q 215.3 59.7, 215.3 60.6 Q 215.3 61.4, 215.7 61.9 Q 216.0 62.3, 216.7 62.3 \" fill=\"#FF0000\"/>\n",
       "<path class=\"atom-60\" d=\"M 216.3 101.9 Q 216.3 100.9, 216.8 100.3 Q 217.3 99.7, 218.3 99.7 Q 219.2 99.7, 219.7 100.3 Q 220.2 100.9, 220.2 101.9 Q 220.2 102.9, 219.7 103.5 Q 219.2 104.1, 218.3 104.1 Q 217.3 104.1, 216.8 103.5 Q 216.3 102.9, 216.3 101.9 M 218.3 103.6 Q 218.9 103.6, 219.3 103.2 Q 219.6 102.7, 219.6 101.9 Q 219.6 101.0, 219.3 100.6 Q 218.9 100.2, 218.3 100.2 Q 217.6 100.2, 217.3 100.6 Q 216.9 101.0, 216.9 101.9 Q 216.9 102.7, 217.3 103.2 Q 217.6 103.6, 218.3 103.6 \" fill=\"#FF0000\"/>\n",
       "<path class=\"atom-62\" d=\"M 198.0 92.3 Q 198.0 91.2, 198.5 90.7 Q 199.0 90.1, 200.0 90.1 Q 200.9 90.1, 201.4 90.7 Q 201.9 91.2, 201.9 92.3 Q 201.9 93.3, 201.4 93.9 Q 200.9 94.5, 200.0 94.5 Q 199.0 94.5, 198.5 93.9 Q 198.0 93.3, 198.0 92.3 M 200.0 94.0 Q 200.6 94.0, 201.0 93.5 Q 201.3 93.1, 201.3 92.3 Q 201.3 91.4, 201.0 91.0 Q 200.6 90.6, 200.0 90.6 Q 199.3 90.6, 199.0 91.0 Q 198.6 91.4, 198.6 92.3 Q 198.6 93.1, 199.0 93.5 Q 199.3 94.0, 200.0 94.0 \" fill=\"#FF0000\"/>\n",
       "<path class=\"atom-69\" d=\"M 196.4 50.9 Q 196.4 49.9, 196.9 49.4 Q 197.4 48.8, 198.4 48.8 Q 199.3 48.8, 199.8 49.4 Q 200.3 49.9, 200.3 50.9 Q 200.3 52.0, 199.8 52.6 Q 199.3 53.1, 198.4 53.1 Q 197.4 53.1, 196.9 52.6 Q 196.4 52.0, 196.4 50.9 M 198.4 52.7 Q 199.0 52.7, 199.4 52.2 Q 199.7 51.8, 199.7 50.9 Q 199.7 50.1, 199.4 49.7 Q 199.0 49.3, 198.4 49.3 Q 197.7 49.3, 197.4 49.7 Q 197.0 50.1, 197.0 50.9 Q 197.0 51.8, 197.4 52.2 Q 197.7 52.7, 198.4 52.7 \" fill=\"#FF0000\"/>\n",
       "<path class=\"atom-71\" d=\"M 178.9 62.0 Q 178.9 60.9, 179.4 60.4 Q 179.9 59.8, 180.9 59.8 Q 181.8 59.8, 182.3 60.4 Q 182.8 60.9, 182.8 62.0 Q 182.8 63.0, 182.3 63.6 Q 181.8 64.2, 180.9 64.2 Q 179.9 64.2, 179.4 63.6 Q 178.9 63.0, 178.9 62.0 M 180.9 63.7 Q 181.5 63.7, 181.9 63.3 Q 182.2 62.8, 182.2 62.0 Q 182.2 61.1, 181.9 60.7 Q 181.5 60.3, 180.9 60.3 Q 180.2 60.3, 179.9 60.7 Q 179.5 61.1, 179.5 62.0 Q 179.5 62.8, 179.9 63.3 Q 180.2 63.7, 180.9 63.7 \" fill=\"#FF0000\"/>\n",
       "<path class=\"atom-77\" d=\"M 181.6 101.1 L 183.0 103.4 Q 183.1 103.6, 183.3 104.0 Q 183.5 104.4, 183.5 104.4 L 183.5 101.1 L 184.1 101.1 L 184.1 105.4 L 183.5 105.4 L 182.0 102.9 Q 181.9 102.6, 181.7 102.3 Q 181.5 102.0, 181.4 101.9 L 181.4 105.4 L 180.9 105.4 L 180.9 101.1 L 181.6 101.1 \" fill=\"#0000FF\"/>\n",
       "<path class=\"atom-77\" d=\"M 184.9 101.1 L 185.5 101.1 L 185.5 103.0 L 187.7 103.0 L 187.7 101.1 L 188.3 101.1 L 188.3 105.4 L 187.7 105.4 L 187.7 103.4 L 185.5 103.4 L 185.5 105.4 L 184.9 105.4 L 184.9 101.1 \" fill=\"#0000FF\"/>\n",
       "<path class=\"atom-79\" d=\"M 162.3 93.7 Q 162.3 92.6, 162.8 92.1 Q 163.3 91.5, 164.2 91.5 Q 165.1 91.5, 165.7 92.1 Q 166.2 92.6, 166.2 93.7 Q 166.2 94.7, 165.6 95.3 Q 165.1 95.9, 164.2 95.9 Q 163.3 95.9, 162.8 95.3 Q 162.3 94.7, 162.3 93.7 M 164.2 95.4 Q 164.9 95.4, 165.2 94.9 Q 165.6 94.5, 165.6 93.7 Q 165.6 92.8, 165.2 92.4 Q 164.9 92.0, 164.2 92.0 Q 163.6 92.0, 163.2 92.4 Q 162.9 92.8, 162.9 93.7 Q 162.9 94.5, 163.2 94.9 Q 163.6 95.4, 164.2 95.4 \" fill=\"#FF0000\"/>\n",
       "<path class=\"atom-86\" d=\"M 160.6 52.3 Q 160.6 51.3, 161.1 50.8 Q 161.6 50.2, 162.6 50.2 Q 163.5 50.2, 164.0 50.8 Q 164.5 51.3, 164.5 52.3 Q 164.5 53.4, 164.0 54.0 Q 163.5 54.5, 162.6 54.5 Q 161.7 54.5, 161.1 54.0 Q 160.6 53.4, 160.6 52.3 M 162.6 54.1 Q 163.2 54.1, 163.6 53.6 Q 163.9 53.2, 163.9 52.3 Q 163.9 51.5, 163.6 51.1 Q 163.2 50.7, 162.6 50.7 Q 161.9 50.7, 161.6 51.1 Q 161.2 51.5, 161.2 52.3 Q 161.2 53.2, 161.6 53.6 Q 161.9 54.1, 162.6 54.1 \" fill=\"#FF0000\"/>\n",
       "<path class=\"atom-88\" d=\"M 143.2 63.4 Q 143.2 62.3, 143.7 61.8 Q 144.2 61.2, 145.1 61.2 Q 146.0 61.2, 146.6 61.8 Q 147.1 62.3, 147.1 63.4 Q 147.1 64.4, 146.5 65.0 Q 146.0 65.6, 145.1 65.6 Q 144.2 65.6, 143.7 65.0 Q 143.2 64.4, 143.2 63.4 M 145.1 65.1 Q 145.8 65.1, 146.1 64.7 Q 146.5 64.2, 146.5 63.4 Q 146.5 62.5, 146.1 62.1 Q 145.8 61.7, 145.1 61.7 Q 144.5 61.7, 144.1 62.1 Q 143.8 62.5, 143.8 63.4 Q 143.8 64.2, 144.1 64.7 Q 144.5 65.1, 145.1 65.1 \" fill=\"#FF0000\"/>\n",
       "<path class=\"atom-94\" d=\"M 145.8 102.5 L 147.2 104.8 Q 147.3 105.0, 147.5 105.4 Q 147.8 105.8, 147.8 105.8 L 147.8 102.5 L 148.3 102.5 L 148.3 106.8 L 147.8 106.8 L 146.3 104.3 Q 146.1 104.0, 145.9 103.7 Q 145.7 103.4, 145.7 103.3 L 145.7 106.8 L 145.1 106.8 L 145.1 102.5 L 145.8 102.5 \" fill=\"#0000FF\"/>\n",
       "<path class=\"atom-94\" d=\"M 149.2 102.5 L 149.7 102.5 L 149.7 104.4 L 151.9 104.4 L 151.9 102.5 L 152.5 102.5 L 152.5 106.8 L 151.9 106.8 L 151.9 104.8 L 149.7 104.8 L 149.7 106.8 L 149.2 106.8 L 149.2 102.5 \" fill=\"#0000FF\"/>\n",
       "<path class=\"atom-96\" d=\"M 126.5 95.1 Q 126.5 94.0, 127.0 93.5 Q 127.5 92.9, 128.4 92.9 Q 129.4 92.9, 129.9 93.5 Q 130.4 94.0, 130.4 95.1 Q 130.4 96.1, 129.9 96.7 Q 129.4 97.3, 128.4 97.3 Q 127.5 97.3, 127.0 96.7 Q 126.5 96.1, 126.5 95.1 M 128.4 96.8 Q 129.1 96.8, 129.4 96.3 Q 129.8 95.9, 129.8 95.1 Q 129.8 94.2, 129.4 93.8 Q 129.1 93.4, 128.4 93.4 Q 127.8 93.4, 127.4 93.8 Q 127.1 94.2, 127.1 95.1 Q 127.1 95.9, 127.4 96.3 Q 127.8 96.8, 128.4 96.8 \" fill=\"#FF0000\"/>\n",
       "<path class=\"atom-103\" d=\"M 107.4 64.8 Q 107.4 63.7, 107.9 63.2 Q 108.4 62.6, 109.3 62.6 Q 110.3 62.6, 110.8 63.2 Q 111.3 63.7, 111.3 64.8 Q 111.3 65.8, 110.8 66.4 Q 110.3 67.0, 109.3 67.0 Q 108.4 67.0, 107.9 66.4 Q 107.4 65.8, 107.4 64.8 M 109.3 66.5 Q 110.0 66.5, 110.3 66.1 Q 110.7 65.6, 110.7 64.8 Q 110.7 63.9, 110.3 63.5 Q 110.0 63.1, 109.3 63.1 Q 108.7 63.1, 108.3 63.5 Q 108.0 63.9, 108.0 64.8 Q 108.0 65.6, 108.3 66.1 Q 108.7 66.5, 109.3 66.5 \" fill=\"#FF0000\"/>\n",
       "<path class=\"atom-105\" d=\"M 124.9 53.7 Q 124.9 52.7, 125.4 52.2 Q 125.9 51.6, 126.8 51.6 Q 127.8 51.6, 128.3 52.2 Q 128.8 52.7, 128.8 53.7 Q 128.8 54.8, 128.3 55.4 Q 127.7 55.9, 126.8 55.9 Q 125.9 55.9, 125.4 55.4 Q 124.9 54.8, 124.9 53.7 M 126.8 55.5 Q 127.5 55.5, 127.8 55.0 Q 128.2 54.6, 128.2 53.7 Q 128.2 52.9, 127.8 52.5 Q 127.5 52.1, 126.8 52.1 Q 126.2 52.1, 125.8 52.5 Q 125.5 52.9, 125.5 53.7 Q 125.5 54.6, 125.8 55.0 Q 126.2 55.5, 126.8 55.5 \" fill=\"#FF0000\"/>\n",
       "<path class=\"atom-112\" d=\"M 107.4 64.8 Q 107.4 63.7, 107.9 63.2 Q 108.4 62.6, 109.3 62.6 Q 110.3 62.6, 110.8 63.2 Q 111.3 63.7, 111.3 64.8 Q 111.3 65.8, 110.8 66.4 Q 110.3 67.0, 109.3 67.0 Q 108.4 67.0, 107.9 66.4 Q 107.4 65.8, 107.4 64.8 M 109.3 66.5 Q 110.0 66.5, 110.3 66.1 Q 110.7 65.6, 110.7 64.8 Q 110.7 63.9, 110.3 63.5 Q 110.0 63.1, 109.3 63.1 Q 108.7 63.1, 108.3 63.5 Q 108.0 63.9, 108.0 64.8 Q 108.0 65.6, 108.3 66.1 Q 108.7 66.5, 109.3 66.5 \" fill=\"#FF0000\"/>\n",
       "<path class=\"atom-114\" d=\"M 89.9 75.8 Q 89.9 74.8, 90.4 74.2 Q 90.9 73.6, 91.8 73.6 Q 92.8 73.6, 93.3 74.2 Q 93.8 74.8, 93.8 75.8 Q 93.8 76.8, 93.3 77.4 Q 92.8 78.0, 91.8 78.0 Q 90.9 78.0, 90.4 77.4 Q 89.9 76.8, 89.9 75.8 M 91.8 77.5 Q 92.5 77.5, 92.8 77.1 Q 93.2 76.6, 93.2 75.8 Q 93.2 75.0, 92.8 74.5 Q 92.5 74.1, 91.8 74.1 Q 91.2 74.1, 90.8 74.5 Q 90.5 75.0, 90.5 75.8 Q 90.5 76.7, 90.8 77.1 Q 91.2 77.5, 91.8 77.5 \" fill=\"#FF0000\"/>\n",
       "<path class=\"atom-102\" d=\"M 102.2,53.9 L 102.2,55.5 L 103.8,55.5 L 103.8,53.9 L 102.2,53.9\" style=\"fill:none;stroke:#FF0000;stroke-width:2.0px;stroke-linecap:butt;stroke-linejoin:miter;stroke-opacity:1;\"/>\n",
       "<path class=\"atom-103\" d=\"M 108.5,64.0 L 108.5,65.6 L 110.1,65.6 L 110.1,64.0 L 108.5,64.0\" style=\"fill:none;stroke:#FF0000;stroke-width:2.0px;stroke-linecap:butt;stroke-linejoin:miter;stroke-opacity:1;\"/>\n",
       "</svg>"
      ],
      "text/plain": [
       "<IPython.core.display.SVG object>"
      ]
     },
     "execution_count": 81,
     "metadata": {},
     "output_type": "execute_result"
    }
   ],
   "source": [
    "big_smiles_gen(big)"
   ]
  },
  {
   "cell_type": "code",
   "execution_count": 82,
   "id": "afd19c70",
   "metadata": {},
   "outputs": [
    {
     "name": "stdout",
     "output_type": "stream",
     "text": [
      "CCCCOC(=O)C(CC)CC(CC=O)C(=O)OCCCC\n",
      "0.20819056924370447\n",
      "44\n"
     ]
    },
    {
     "data": {
      "image/svg+xml": [
       "<svg xmlns=\"http://www.w3.org/2000/svg\" xmlns:rdkit=\"http://www.rdkit.org/xml\" xmlns:xlink=\"http://www.w3.org/1999/xlink\" version=\"1.1\" baseProfile=\"full\" xml:space=\"preserve\" width=\"450px\" height=\"150px\" viewBox=\"0 0 450 150\">\n",
       "<!-- END OF HEADER -->\n",
       "<rect style=\"opacity:1.0;fill:#FFFFFF;stroke:none\" width=\"450.0\" height=\"150.0\" x=\"0.0\" y=\"0.0\"> </rect>\n",
       "<path class=\"bond-0 atom-0 atom-1\" d=\"M 216.2,134.6 L 219.6,125.2\" style=\"fill:none;fill-rule:evenodd;stroke:#FF0000;stroke-width:2.0px;stroke-linecap:butt;stroke-linejoin:miter;stroke-opacity:1\"/>\n",
       "<path class=\"bond-0 atom-0 atom-1\" d=\"M 219.6,125.2 L 223.1,115.8\" style=\"fill:none;fill-rule:evenodd;stroke:#000000;stroke-width:2.0px;stroke-linecap:butt;stroke-linejoin:miter;stroke-opacity:1\"/>\n",
       "<path class=\"bond-0 atom-0 atom-1\" d=\"M 219.7,135.9 L 223.1,126.5\" style=\"fill:none;fill-rule:evenodd;stroke:#FF0000;stroke-width:2.0px;stroke-linecap:butt;stroke-linejoin:miter;stroke-opacity:1\"/>\n",
       "<path class=\"bond-0 atom-0 atom-1\" d=\"M 223.1,126.5 L 225.8,119.1\" style=\"fill:none;fill-rule:evenodd;stroke:#000000;stroke-width:2.0px;stroke-linecap:butt;stroke-linejoin:miter;stroke-opacity:1\"/>\n",
       "<path class=\"bond-1 atom-2 atom-3\" d=\"M 354.1,6.8 L 345.6,29.9\" style=\"fill:none;fill-rule:evenodd;stroke:#000000;stroke-width:2.0px;stroke-linecap:butt;stroke-linejoin:miter;stroke-opacity:1\"/>\n",
       "<path class=\"bond-2 atom-3 atom-4\" d=\"M 345.6,29.9 L 321.3,34.1\" style=\"fill:none;fill-rule:evenodd;stroke:#000000;stroke-width:2.0px;stroke-linecap:butt;stroke-linejoin:miter;stroke-opacity:1\"/>\n",
       "<path class=\"bond-3 atom-4 atom-5\" d=\"M 321.3,34.1 L 312.8,57.2\" style=\"fill:none;fill-rule:evenodd;stroke:#000000;stroke-width:2.0px;stroke-linecap:butt;stroke-linejoin:miter;stroke-opacity:1\"/>\n",
       "<path class=\"bond-4 atom-5 atom-6\" d=\"M 312.8,57.2 L 302.7,58.9\" style=\"fill:none;fill-rule:evenodd;stroke:#000000;stroke-width:2.0px;stroke-linecap:butt;stroke-linejoin:miter;stroke-opacity:1\"/>\n",
       "<path class=\"bond-4 atom-5 atom-6\" d=\"M 302.7,58.9 L 292.6,60.6\" style=\"fill:none;fill-rule:evenodd;stroke:#FF0000;stroke-width:2.0px;stroke-linecap:butt;stroke-linejoin:miter;stroke-opacity:1\"/>\n",
       "<path class=\"bond-5 atom-6 atom-7\" d=\"M 286.9,65.8 L 283.5,75.1\" style=\"fill:none;fill-rule:evenodd;stroke:#FF0000;stroke-width:2.0px;stroke-linecap:butt;stroke-linejoin:miter;stroke-opacity:1\"/>\n",
       "<path class=\"bond-5 atom-6 atom-7\" d=\"M 283.5,75.1 L 280.1,84.4\" style=\"fill:none;fill-rule:evenodd;stroke:#000000;stroke-width:2.0px;stroke-linecap:butt;stroke-linejoin:miter;stroke-opacity:1\"/>\n",
       "<path class=\"bond-6 atom-7 atom-8\" d=\"M 278.0,84.8 L 284.4,92.5\" style=\"fill:none;fill-rule:evenodd;stroke:#000000;stroke-width:2.0px;stroke-linecap:butt;stroke-linejoin:miter;stroke-opacity:1\"/>\n",
       "<path class=\"bond-6 atom-7 atom-8\" d=\"M 284.4,92.5 L 290.8,100.2\" style=\"fill:none;fill-rule:evenodd;stroke:#FF0000;stroke-width:2.0px;stroke-linecap:butt;stroke-linejoin:miter;stroke-opacity:1\"/>\n",
       "<path class=\"bond-6 atom-7 atom-8\" d=\"M 280.8,82.4 L 287.2,90.1\" style=\"fill:none;fill-rule:evenodd;stroke:#000000;stroke-width:2.0px;stroke-linecap:butt;stroke-linejoin:miter;stroke-opacity:1\"/>\n",
       "<path class=\"bond-6 atom-7 atom-8\" d=\"M 287.2,90.1 L 293.6,97.8\" style=\"fill:none;fill-rule:evenodd;stroke:#FF0000;stroke-width:2.0px;stroke-linecap:butt;stroke-linejoin:miter;stroke-opacity:1\"/>\n",
       "<path class=\"bond-7 atom-7 atom-9\" d=\"M 280.1,84.4 L 255.8,88.6\" style=\"fill:none;fill-rule:evenodd;stroke:#000000;stroke-width:2.0px;stroke-linecap:butt;stroke-linejoin:miter;stroke-opacity:1\"/>\n",
       "<path class=\"bond-8 atom-9 atom-10\" d=\"M 255.8,88.6 L 247.3,111.7\" style=\"fill:none;fill-rule:evenodd;stroke:#000000;stroke-width:2.0px;stroke-linecap:butt;stroke-linejoin:miter;stroke-opacity:1\"/>\n",
       "<path class=\"bond-9 atom-1 atom-10\" d=\"M 223.1,115.8 L 247.3,111.7\" style=\"fill:none;fill-rule:evenodd;stroke:#000000;stroke-width:2.0px;stroke-linecap:butt;stroke-linejoin:miter;stroke-opacity:1\"/>\n",
       "<path class=\"bond-10 atom-11 atom-12\" d=\"M 95.9,29.7 L 120.2,25.5\" style=\"fill:none;fill-rule:evenodd;stroke:#000000;stroke-width:2.0px;stroke-linecap:butt;stroke-linejoin:miter;stroke-opacity:1\"/>\n",
       "<path class=\"bond-11 atom-12 atom-13\" d=\"M 120.2,25.5 L 135.9,44.4\" style=\"fill:none;fill-rule:evenodd;stroke:#000000;stroke-width:2.0px;stroke-linecap:butt;stroke-linejoin:miter;stroke-opacity:1\"/>\n",
       "<path class=\"bond-12 atom-13 atom-14\" d=\"M 135.9,44.4 L 160.2,40.2\" style=\"fill:none;fill-rule:evenodd;stroke:#000000;stroke-width:2.0px;stroke-linecap:butt;stroke-linejoin:miter;stroke-opacity:1\"/>\n",
       "<path class=\"bond-13 atom-14 atom-15\" d=\"M 160.2,40.2 L 166.2,47.5\" style=\"fill:none;fill-rule:evenodd;stroke:#000000;stroke-width:2.0px;stroke-linecap:butt;stroke-linejoin:miter;stroke-opacity:1\"/>\n",
       "<path class=\"bond-13 atom-14 atom-15\" d=\"M 166.2,47.5 L 172.3,54.8\" style=\"fill:none;fill-rule:evenodd;stroke:#FF0000;stroke-width:2.0px;stroke-linecap:butt;stroke-linejoin:miter;stroke-opacity:1\"/>\n",
       "<path class=\"bond-14 atom-15 atom-16\" d=\"M 179.9,58.4 L 190.0,56.7\" style=\"fill:none;fill-rule:evenodd;stroke:#FF0000;stroke-width:2.0px;stroke-linecap:butt;stroke-linejoin:miter;stroke-opacity:1\"/>\n",
       "<path class=\"bond-14 atom-15 atom-16\" d=\"M 190.0,56.7 L 200.1,55.0\" style=\"fill:none;fill-rule:evenodd;stroke:#000000;stroke-width:2.0px;stroke-linecap:butt;stroke-linejoin:miter;stroke-opacity:1\"/>\n",
       "<path class=\"bond-15 atom-16 atom-17\" d=\"M 201.5,56.6 L 205.1,46.8\" style=\"fill:none;fill-rule:evenodd;stroke:#000000;stroke-width:2.0px;stroke-linecap:butt;stroke-linejoin:miter;stroke-opacity:1\"/>\n",
       "<path class=\"bond-15 atom-16 atom-17\" d=\"M 205.1,46.8 L 208.7,37.0\" style=\"fill:none;fill-rule:evenodd;stroke:#FF0000;stroke-width:2.0px;stroke-linecap:butt;stroke-linejoin:miter;stroke-opacity:1\"/>\n",
       "<path class=\"bond-15 atom-16 atom-17\" d=\"M 198.0,55.3 L 201.6,45.5\" style=\"fill:none;fill-rule:evenodd;stroke:#000000;stroke-width:2.0px;stroke-linecap:butt;stroke-linejoin:miter;stroke-opacity:1\"/>\n",
       "<path class=\"bond-15 atom-16 atom-17\" d=\"M 201.6,45.5 L 205.3,35.7\" style=\"fill:none;fill-rule:evenodd;stroke:#FF0000;stroke-width:2.0px;stroke-linecap:butt;stroke-linejoin:miter;stroke-opacity:1\"/>\n",
       "<path class=\"bond-16 atom-16 atom-18\" d=\"M 200.1,55.0 L 215.9,73.9\" style=\"fill:none;fill-rule:evenodd;stroke:#000000;stroke-width:2.0px;stroke-linecap:butt;stroke-linejoin:miter;stroke-opacity:1\"/>\n",
       "<path class=\"bond-17 atom-18 atom-19\" d=\"M 215.9,73.9 L 240.1,69.7\" style=\"fill:none;fill-rule:evenodd;stroke:#000000;stroke-width:2.0px;stroke-linecap:butt;stroke-linejoin:miter;stroke-opacity:1\"/>\n",
       "<path class=\"bond-18 atom-9 atom-19\" d=\"M 255.8,88.6 L 240.1,69.7\" style=\"fill:none;fill-rule:evenodd;stroke:#000000;stroke-width:2.0px;stroke-linecap:butt;stroke-linejoin:miter;stroke-opacity:1\"/>\n",
       "<path class=\"bond-19 atom-20 atom-21\" d=\"M 207.4,96.9 L 183.1,101.1\" style=\"fill:none;fill-rule:evenodd;stroke:#000000;stroke-width:2.0px;stroke-linecap:butt;stroke-linejoin:miter;stroke-opacity:1\"/>\n",
       "<path class=\"bond-20 atom-18 atom-20\" d=\"M 215.9,73.9 L 207.4,96.9\" style=\"fill:none;fill-rule:evenodd;stroke:#000000;stroke-width:2.0px;stroke-linecap:butt;stroke-linejoin:miter;stroke-opacity:1\"/>\n",
       "<path d=\"M 222.9,116.3 L 223.1,115.8 L 224.3,115.6\" style=\"fill:none;stroke:#000000;stroke-width:2.0px;stroke-linecap:butt;stroke-linejoin:miter;stroke-opacity:1;\"/>\n",
       "<path d=\"M 346.0,28.7 L 345.6,29.9 L 344.3,30.1\" style=\"fill:none;stroke:#000000;stroke-width:2.0px;stroke-linecap:butt;stroke-linejoin:miter;stroke-opacity:1;\"/>\n",
       "<path d=\"M 322.5,33.9 L 321.3,34.1 L 320.9,35.2\" style=\"fill:none;stroke:#000000;stroke-width:2.0px;stroke-linecap:butt;stroke-linejoin:miter;stroke-opacity:1;\"/>\n",
       "<path d=\"M 313.2,56.0 L 312.8,57.2 L 312.3,57.2\" style=\"fill:none;stroke:#000000;stroke-width:2.0px;stroke-linecap:butt;stroke-linejoin:miter;stroke-opacity:1;\"/>\n",
       "<path d=\"M 280.2,83.9 L 280.1,84.4 L 278.9,84.6\" style=\"fill:none;stroke:#000000;stroke-width:2.0px;stroke-linecap:butt;stroke-linejoin:miter;stroke-opacity:1;\"/>\n",
       "<path d=\"M 247.8,110.5 L 247.3,111.7 L 246.1,111.9\" style=\"fill:none;stroke:#000000;stroke-width:2.0px;stroke-linecap:butt;stroke-linejoin:miter;stroke-opacity:1;\"/>\n",
       "<path d=\"M 119.0,25.7 L 120.2,25.5 L 121.0,26.4\" style=\"fill:none;stroke:#000000;stroke-width:2.0px;stroke-linecap:butt;stroke-linejoin:miter;stroke-opacity:1;\"/>\n",
       "<path d=\"M 135.1,43.5 L 135.9,44.4 L 137.1,44.2\" style=\"fill:none;stroke:#000000;stroke-width:2.0px;stroke-linecap:butt;stroke-linejoin:miter;stroke-opacity:1;\"/>\n",
       "<path d=\"M 158.9,40.4 L 160.2,40.2 L 160.5,40.6\" style=\"fill:none;stroke:#000000;stroke-width:2.0px;stroke-linecap:butt;stroke-linejoin:miter;stroke-opacity:1;\"/>\n",
       "<path d=\"M 199.6,55.0 L 200.1,55.0 L 200.9,55.9\" style=\"fill:none;stroke:#000000;stroke-width:2.0px;stroke-linecap:butt;stroke-linejoin:miter;stroke-opacity:1;\"/>\n",
       "<path d=\"M 238.9,69.9 L 240.1,69.7 L 240.9,70.6\" style=\"fill:none;stroke:#000000;stroke-width:2.0px;stroke-linecap:butt;stroke-linejoin:miter;stroke-opacity:1;\"/>\n",
       "<path d=\"M 206.2,97.1 L 207.4,96.9 L 207.8,95.8\" style=\"fill:none;stroke:#000000;stroke-width:2.0px;stroke-linecap:butt;stroke-linejoin:miter;stroke-opacity:1;\"/>\n",
       "<path class=\"atom-0\" d=\"M 213.1 139.6 Q 213.1 137.9, 214.0 137.0 Q 214.8 136.0, 216.3 136.0 Q 217.9 136.0, 218.7 137.0 Q 219.5 137.9, 219.5 139.6 Q 219.5 141.3, 218.7 142.2 Q 217.9 143.2, 216.3 143.2 Q 214.8 143.2, 214.0 142.2 Q 213.1 141.3, 213.1 139.6 M 216.3 142.4 Q 217.4 142.4, 218.0 141.7 Q 218.5 141.0, 218.5 139.6 Q 218.5 138.2, 218.0 137.5 Q 217.4 136.8, 216.3 136.8 Q 215.3 136.8, 214.7 137.5 Q 214.1 138.2, 214.1 139.6 Q 214.1 141.0, 214.7 141.7 Q 215.3 142.4, 216.3 142.4 \" fill=\"#FF0000\"/>\n",
       "<path class=\"atom-6\" d=\"M 285.4 61.3 Q 285.4 59.7, 286.2 58.7 Q 287.0 57.8, 288.6 57.8 Q 290.1 57.8, 290.9 58.7 Q 291.8 59.7, 291.8 61.3 Q 291.8 63.0, 290.9 64.0 Q 290.1 65.0, 288.6 65.0 Q 287.0 65.0, 286.2 64.0 Q 285.4 63.0, 285.4 61.3 M 288.6 64.2 Q 289.6 64.2, 290.2 63.5 Q 290.8 62.7, 290.8 61.3 Q 290.8 60.0, 290.2 59.3 Q 289.6 58.6, 288.6 58.6 Q 287.5 58.6, 286.9 59.3 Q 286.4 60.0, 286.4 61.3 Q 286.4 62.8, 286.9 63.5 Q 287.5 64.2, 288.6 64.2 \" fill=\"#FF0000\"/>\n",
       "<path class=\"atom-8\" d=\"M 292.6 103.3 Q 292.6 101.7, 293.4 100.7 Q 294.3 99.8, 295.8 99.8 Q 297.4 99.8, 298.2 100.7 Q 299.0 101.7, 299.0 103.3 Q 299.0 105.0, 298.2 106.0 Q 297.3 106.9, 295.8 106.9 Q 294.3 106.9, 293.4 106.0 Q 292.6 105.0, 292.6 103.3 M 295.8 106.1 Q 296.9 106.1, 297.4 105.4 Q 298.0 104.7, 298.0 103.3 Q 298.0 102.0, 297.4 101.3 Q 296.9 100.6, 295.8 100.6 Q 294.7 100.6, 294.2 101.3 Q 293.6 101.9, 293.6 103.3 Q 293.6 104.7, 294.2 105.4 Q 294.7 106.1, 295.8 106.1 \" fill=\"#FF0000\"/>\n",
       "<path class=\"atom-15\" d=\"M 172.7 59.2 Q 172.7 57.5, 173.5 56.5 Q 174.3 55.6, 175.9 55.6 Q 177.4 55.6, 178.3 56.5 Q 179.1 57.5, 179.1 59.2 Q 179.1 60.8, 178.3 61.8 Q 177.4 62.8, 175.9 62.8 Q 174.4 62.8, 173.5 61.8 Q 172.7 60.9, 172.7 59.2 M 175.9 62.0 Q 177.0 62.0, 177.5 61.3 Q 178.1 60.5, 178.1 59.2 Q 178.1 57.8, 177.5 57.1 Q 177.0 56.4, 175.9 56.4 Q 174.8 56.4, 174.2 57.1 Q 173.7 57.8, 173.7 59.2 Q 173.7 60.6, 174.2 61.3 Q 174.8 62.0, 175.9 62.0 \" fill=\"#FF0000\"/>\n",
       "<path class=\"atom-17\" d=\"M 205.4 31.9 Q 205.4 30.2, 206.3 29.3 Q 207.1 28.4, 208.6 28.4 Q 210.2 28.4, 211.0 29.3 Q 211.8 30.2, 211.8 31.9 Q 211.8 33.6, 211.0 34.6 Q 210.2 35.5, 208.6 35.5 Q 207.1 35.5, 206.3 34.6 Q 205.4 33.6, 205.4 31.9 M 208.6 34.7 Q 209.7 34.7, 210.3 34.0 Q 210.8 33.3, 210.8 31.9 Q 210.8 30.5, 210.3 29.8 Q 209.7 29.1, 208.6 29.1 Q 207.6 29.1, 207.0 29.8 Q 206.4 30.5, 206.4 31.9 Q 206.4 33.3, 207.0 34.0 Q 207.6 34.7, 208.6 34.7 \" fill=\"#FF0000\"/>\n",
       "</svg>"
      ],
      "text/plain": [
       "<IPython.core.display.SVG object>"
      ]
     },
     "execution_count": 82,
     "metadata": {},
     "output_type": "execute_result"
    }
   ],
   "source": [
    "big_smiles_gen(big)"
   ]
  },
  {
   "cell_type": "code",
   "execution_count": 83,
   "id": "7d675054",
   "metadata": {},
   "outputs": [
    {
     "name": "stdout",
     "output_type": "stream",
     "text": [
      "CCCCOC(=O)C(CC)CC(CC(CC(CC=O)C(=O)OCCCC)C(=O)OCCCC)C(=O)OCCCC\n",
      "0.15445631400224535\n",
      "45\n"
     ]
    },
    {
     "data": {
      "image/svg+xml": [
       "<svg xmlns=\"http://www.w3.org/2000/svg\" xmlns:rdkit=\"http://www.rdkit.org/xml\" xmlns:xlink=\"http://www.w3.org/1999/xlink\" version=\"1.1\" baseProfile=\"full\" xml:space=\"preserve\" width=\"450px\" height=\"150px\" viewBox=\"0 0 450 150\">\n",
       "<!-- END OF HEADER -->\n",
       "<rect style=\"opacity:1.0;fill:#FFFFFF;stroke:none\" width=\"450.0\" height=\"150.0\" x=\"0.0\" y=\"0.0\"> </rect>\n",
       "<path class=\"bond-0 atom-0 atom-1\" d=\"M 226.8,59.6 L 230.0,64.4\" style=\"fill:none;fill-rule:evenodd;stroke:#FF0000;stroke-width:2.0px;stroke-linecap:butt;stroke-linejoin:miter;stroke-opacity:1\"/>\n",
       "<path class=\"bond-0 atom-0 atom-1\" d=\"M 230.0,64.4 L 233.1,69.2\" style=\"fill:none;fill-rule:evenodd;stroke:#000000;stroke-width:2.0px;stroke-linecap:butt;stroke-linejoin:miter;stroke-opacity:1\"/>\n",
       "<path class=\"bond-0 atom-0 atom-1\" d=\"M 228.7,58.4 L 231.8,63.2\" style=\"fill:none;fill-rule:evenodd;stroke:#FF0000;stroke-width:2.0px;stroke-linecap:butt;stroke-linejoin:miter;stroke-opacity:1\"/>\n",
       "<path class=\"bond-0 atom-0 atom-1\" d=\"M 231.8,63.2 L 234.2,66.9\" style=\"fill:none;fill-rule:evenodd;stroke:#000000;stroke-width:2.0px;stroke-linecap:butt;stroke-linejoin:miter;stroke-opacity:1\"/>\n",
       "<path class=\"bond-1 atom-2 atom-3\" d=\"M 323.7,115.5 L 315.7,103.2\" style=\"fill:none;fill-rule:evenodd;stroke:#000000;stroke-width:2.0px;stroke-linecap:butt;stroke-linejoin:miter;stroke-opacity:1\"/>\n",
       "<path class=\"bond-2 atom-3 atom-4\" d=\"M 315.7,103.2 L 301.0,103.9\" style=\"fill:none;fill-rule:evenodd;stroke:#000000;stroke-width:2.0px;stroke-linecap:butt;stroke-linejoin:miter;stroke-opacity:1\"/>\n",
       "<path class=\"bond-3 atom-4 atom-5\" d=\"M 301.0,103.9 L 293.1,91.6\" style=\"fill:none;fill-rule:evenodd;stroke:#000000;stroke-width:2.0px;stroke-linecap:butt;stroke-linejoin:miter;stroke-opacity:1\"/>\n",
       "<path class=\"bond-4 atom-5 atom-6\" d=\"M 293.1,91.6 L 286.9,91.9\" style=\"fill:none;fill-rule:evenodd;stroke:#000000;stroke-width:2.0px;stroke-linecap:butt;stroke-linejoin:miter;stroke-opacity:1\"/>\n",
       "<path class=\"bond-4 atom-5 atom-6\" d=\"M 286.9,91.9 L 280.8,92.2\" style=\"fill:none;fill-rule:evenodd;stroke:#FF0000;stroke-width:2.0px;stroke-linecap:butt;stroke-linejoin:miter;stroke-opacity:1\"/>\n",
       "<path class=\"bond-5 atom-6 atom-7\" d=\"M 276.7,89.7 L 273.5,84.9\" style=\"fill:none;fill-rule:evenodd;stroke:#FF0000;stroke-width:2.0px;stroke-linecap:butt;stroke-linejoin:miter;stroke-opacity:1\"/>\n",
       "<path class=\"bond-5 atom-6 atom-7\" d=\"M 273.5,84.9 L 270.4,80.0\" style=\"fill:none;fill-rule:evenodd;stroke:#000000;stroke-width:2.0px;stroke-linecap:butt;stroke-linejoin:miter;stroke-opacity:1\"/>\n",
       "<path class=\"bond-6 atom-7 atom-8\" d=\"M 271.1,81.1 L 273.9,75.6\" style=\"fill:none;fill-rule:evenodd;stroke:#000000;stroke-width:2.0px;stroke-linecap:butt;stroke-linejoin:miter;stroke-opacity:1\"/>\n",
       "<path class=\"bond-6 atom-7 atom-8\" d=\"M 273.9,75.6 L 276.7,70.2\" style=\"fill:none;fill-rule:evenodd;stroke:#FF0000;stroke-width:2.0px;stroke-linecap:butt;stroke-linejoin:miter;stroke-opacity:1\"/>\n",
       "<path class=\"bond-6 atom-7 atom-8\" d=\"M 269.1,80.1 L 271.9,74.6\" style=\"fill:none;fill-rule:evenodd;stroke:#000000;stroke-width:2.0px;stroke-linecap:butt;stroke-linejoin:miter;stroke-opacity:1\"/>\n",
       "<path class=\"bond-6 atom-7 atom-8\" d=\"M 271.9,74.6 L 274.7,69.2\" style=\"fill:none;fill-rule:evenodd;stroke:#FF0000;stroke-width:2.0px;stroke-linecap:butt;stroke-linejoin:miter;stroke-opacity:1\"/>\n",
       "<path class=\"bond-7 atom-7 atom-9\" d=\"M 270.4,80.0 L 255.7,80.8\" style=\"fill:none;fill-rule:evenodd;stroke:#000000;stroke-width:2.0px;stroke-linecap:butt;stroke-linejoin:miter;stroke-opacity:1\"/>\n",
       "<path class=\"bond-8 atom-9 atom-10\" d=\"M 255.7,80.8 L 247.7,68.5\" style=\"fill:none;fill-rule:evenodd;stroke:#000000;stroke-width:2.0px;stroke-linecap:butt;stroke-linejoin:miter;stroke-opacity:1\"/>\n",
       "<path class=\"bond-9 atom-1 atom-10\" d=\"M 233.1,69.2 L 247.7,68.5\" style=\"fill:none;fill-rule:evenodd;stroke:#000000;stroke-width:2.0px;stroke-linecap:butt;stroke-linejoin:miter;stroke-opacity:1\"/>\n",
       "<path class=\"bond-10 atom-11 atom-12\" d=\"M 281.0,143.2 L 273.0,130.9\" style=\"fill:none;fill-rule:evenodd;stroke:#000000;stroke-width:2.0px;stroke-linecap:butt;stroke-linejoin:miter;stroke-opacity:1\"/>\n",
       "<path class=\"bond-11 atom-12 atom-13\" d=\"M 273.0,130.9 L 258.3,131.6\" style=\"fill:none;fill-rule:evenodd;stroke:#000000;stroke-width:2.0px;stroke-linecap:butt;stroke-linejoin:miter;stroke-opacity:1\"/>\n",
       "<path class=\"bond-12 atom-13 atom-14\" d=\"M 258.3,131.6 L 250.3,119.3\" style=\"fill:none;fill-rule:evenodd;stroke:#000000;stroke-width:2.0px;stroke-linecap:butt;stroke-linejoin:miter;stroke-opacity:1\"/>\n",
       "<path class=\"bond-13 atom-14 atom-15\" d=\"M 250.3,119.3 L 244.2,119.6\" style=\"fill:none;fill-rule:evenodd;stroke:#000000;stroke-width:2.0px;stroke-linecap:butt;stroke-linejoin:miter;stroke-opacity:1\"/>\n",
       "<path class=\"bond-13 atom-14 atom-15\" d=\"M 244.2,119.6 L 238.1,119.9\" style=\"fill:none;fill-rule:evenodd;stroke:#FF0000;stroke-width:2.0px;stroke-linecap:butt;stroke-linejoin:miter;stroke-opacity:1\"/>\n",
       "<path class=\"bond-14 atom-15 atom-16\" d=\"M 234.0,117.4 L 230.8,112.5\" style=\"fill:none;fill-rule:evenodd;stroke:#FF0000;stroke-width:2.0px;stroke-linecap:butt;stroke-linejoin:miter;stroke-opacity:1\"/>\n",
       "<path class=\"bond-14 atom-15 atom-16\" d=\"M 230.8,112.5 L 227.7,107.7\" style=\"fill:none;fill-rule:evenodd;stroke:#000000;stroke-width:2.0px;stroke-linecap:butt;stroke-linejoin:miter;stroke-opacity:1\"/>\n",
       "<path class=\"bond-15 atom-16 atom-17\" d=\"M 228.3,106.6 L 221.8,106.9\" style=\"fill:none;fill-rule:evenodd;stroke:#000000;stroke-width:2.0px;stroke-linecap:butt;stroke-linejoin:miter;stroke-opacity:1\"/>\n",
       "<path class=\"bond-15 atom-16 atom-17\" d=\"M 221.8,106.9 L 215.4,107.2\" style=\"fill:none;fill-rule:evenodd;stroke:#FF0000;stroke-width:2.0px;stroke-linecap:butt;stroke-linejoin:miter;stroke-opacity:1\"/>\n",
       "<path class=\"bond-15 atom-16 atom-17\" d=\"M 228.4,108.8 L 221.9,109.1\" style=\"fill:none;fill-rule:evenodd;stroke:#000000;stroke-width:2.0px;stroke-linecap:butt;stroke-linejoin:miter;stroke-opacity:1\"/>\n",
       "<path class=\"bond-15 atom-16 atom-17\" d=\"M 221.9,109.1 L 215.5,109.4\" style=\"fill:none;fill-rule:evenodd;stroke:#FF0000;stroke-width:2.0px;stroke-linecap:butt;stroke-linejoin:miter;stroke-opacity:1\"/>\n",
       "<path class=\"bond-16 atom-16 atom-18\" d=\"M 227.7,107.7 L 234.4,94.6\" style=\"fill:none;fill-rule:evenodd;stroke:#000000;stroke-width:2.0px;stroke-linecap:butt;stroke-linejoin:miter;stroke-opacity:1\"/>\n",
       "<path class=\"bond-17 atom-18 atom-19\" d=\"M 234.4,94.6 L 249.0,93.9\" style=\"fill:none;fill-rule:evenodd;stroke:#000000;stroke-width:2.0px;stroke-linecap:butt;stroke-linejoin:miter;stroke-opacity:1\"/>\n",
       "<path class=\"bond-18 atom-9 atom-19\" d=\"M 255.7,80.8 L 249.0,93.9\" style=\"fill:none;fill-rule:evenodd;stroke:#000000;stroke-width:2.0px;stroke-linecap:butt;stroke-linejoin:miter;stroke-opacity:1\"/>\n",
       "<path class=\"bond-19 atom-20 atom-21\" d=\"M 207.8,6.8 L 201.1,19.9\" style=\"fill:none;fill-rule:evenodd;stroke:#000000;stroke-width:2.0px;stroke-linecap:butt;stroke-linejoin:miter;stroke-opacity:1\"/>\n",
       "<path class=\"bond-20 atom-21 atom-22\" d=\"M 201.1,19.9 L 209.1,32.2\" style=\"fill:none;fill-rule:evenodd;stroke:#000000;stroke-width:2.0px;stroke-linecap:butt;stroke-linejoin:miter;stroke-opacity:1\"/>\n",
       "<path class=\"bond-21 atom-22 atom-23\" d=\"M 209.1,32.2 L 202.4,45.3\" style=\"fill:none;fill-rule:evenodd;stroke:#000000;stroke-width:2.0px;stroke-linecap:butt;stroke-linejoin:miter;stroke-opacity:1\"/>\n",
       "<path class=\"bond-22 atom-23 atom-24\" d=\"M 202.4,45.3 L 205.6,50.2\" style=\"fill:none;fill-rule:evenodd;stroke:#000000;stroke-width:2.0px;stroke-linecap:butt;stroke-linejoin:miter;stroke-opacity:1\"/>\n",
       "<path class=\"bond-22 atom-23 atom-24\" d=\"M 205.6,50.2 L 208.7,55.0\" style=\"fill:none;fill-rule:evenodd;stroke:#FF0000;stroke-width:2.0px;stroke-linecap:butt;stroke-linejoin:miter;stroke-opacity:1\"/>\n",
       "<path class=\"bond-23 atom-24 atom-25\" d=\"M 209.0,60.3 L 206.4,65.5\" style=\"fill:none;fill-rule:evenodd;stroke:#FF0000;stroke-width:2.0px;stroke-linecap:butt;stroke-linejoin:miter;stroke-opacity:1\"/>\n",
       "<path class=\"bond-23 atom-24 atom-25\" d=\"M 206.4,65.5 L 203.7,70.7\" style=\"fill:none;fill-rule:evenodd;stroke:#000000;stroke-width:2.0px;stroke-linecap:butt;stroke-linejoin:miter;stroke-opacity:1\"/>\n",
       "<path class=\"bond-24 atom-25 atom-26\" d=\"M 204.3,69.6 L 197.9,69.9\" style=\"fill:none;fill-rule:evenodd;stroke:#000000;stroke-width:2.0px;stroke-linecap:butt;stroke-linejoin:miter;stroke-opacity:1\"/>\n",
       "<path class=\"bond-24 atom-25 atom-26\" d=\"M 197.9,69.9 L 191.4,70.2\" style=\"fill:none;fill-rule:evenodd;stroke:#FF0000;stroke-width:2.0px;stroke-linecap:butt;stroke-linejoin:miter;stroke-opacity:1\"/>\n",
       "<path class=\"bond-24 atom-25 atom-26\" d=\"M 204.4,71.8 L 198.0,72.1\" style=\"fill:none;fill-rule:evenodd;stroke:#000000;stroke-width:2.0px;stroke-linecap:butt;stroke-linejoin:miter;stroke-opacity:1\"/>\n",
       "<path class=\"bond-24 atom-25 atom-26\" d=\"M 198.0,72.1 L 191.6,72.4\" style=\"fill:none;fill-rule:evenodd;stroke:#FF0000;stroke-width:2.0px;stroke-linecap:butt;stroke-linejoin:miter;stroke-opacity:1\"/>\n",
       "<path class=\"bond-25 atom-25 atom-27\" d=\"M 203.7,70.7 L 211.7,83.0\" style=\"fill:none;fill-rule:evenodd;stroke:#000000;stroke-width:2.0px;stroke-linecap:butt;stroke-linejoin:miter;stroke-opacity:1\"/>\n",
       "<path class=\"bond-26 atom-27 atom-28\" d=\"M 211.7,83.0 L 226.4,82.3\" style=\"fill:none;fill-rule:evenodd;stroke:#000000;stroke-width:2.0px;stroke-linecap:butt;stroke-linejoin:miter;stroke-opacity:1\"/>\n",
       "<path class=\"bond-27 atom-18 atom-28\" d=\"M 234.4,94.6 L 226.4,82.3\" style=\"fill:none;fill-rule:evenodd;stroke:#000000;stroke-width:2.0px;stroke-linecap:butt;stroke-linejoin:miter;stroke-opacity:1\"/>\n",
       "<path class=\"bond-28 atom-29 atom-30\" d=\"M 126.3,138.4 L 141.0,137.6\" style=\"fill:none;fill-rule:evenodd;stroke:#000000;stroke-width:2.0px;stroke-linecap:butt;stroke-linejoin:miter;stroke-opacity:1\"/>\n",
       "<path class=\"bond-29 atom-30 atom-31\" d=\"M 141.0,137.6 L 147.7,124.5\" style=\"fill:none;fill-rule:evenodd;stroke:#000000;stroke-width:2.0px;stroke-linecap:butt;stroke-linejoin:miter;stroke-opacity:1\"/>\n",
       "<path class=\"bond-30 atom-31 atom-32\" d=\"M 147.7,124.5 L 162.3,123.8\" style=\"fill:none;fill-rule:evenodd;stroke:#000000;stroke-width:2.0px;stroke-linecap:butt;stroke-linejoin:miter;stroke-opacity:1\"/>\n",
       "<path class=\"bond-31 atom-32 atom-33\" d=\"M 162.3,123.8 L 165.0,118.6\" style=\"fill:none;fill-rule:evenodd;stroke:#000000;stroke-width:2.0px;stroke-linecap:butt;stroke-linejoin:miter;stroke-opacity:1\"/>\n",
       "<path class=\"bond-31 atom-32 atom-33\" d=\"M 165.0,118.6 L 167.6,113.4\" style=\"fill:none;fill-rule:evenodd;stroke:#FF0000;stroke-width:2.0px;stroke-linecap:butt;stroke-linejoin:miter;stroke-opacity:1\"/>\n",
       "<path class=\"bond-32 atom-33 atom-34\" d=\"M 171.5,110.6 L 177.6,110.3\" style=\"fill:none;fill-rule:evenodd;stroke:#FF0000;stroke-width:2.0px;stroke-linecap:butt;stroke-linejoin:miter;stroke-opacity:1\"/>\n",
       "<path class=\"bond-32 atom-33 atom-34\" d=\"M 177.6,110.3 L 183.7,109.9\" style=\"fill:none;fill-rule:evenodd;stroke:#000000;stroke-width:2.0px;stroke-linecap:butt;stroke-linejoin:miter;stroke-opacity:1\"/>\n",
       "<path class=\"bond-33 atom-34 atom-35\" d=\"M 182.4,110.0 L 185.7,115.1\" style=\"fill:none;fill-rule:evenodd;stroke:#000000;stroke-width:2.0px;stroke-linecap:butt;stroke-linejoin:miter;stroke-opacity:1\"/>\n",
       "<path class=\"bond-33 atom-34 atom-35\" d=\"M 185.7,115.1 L 189.0,120.2\" style=\"fill:none;fill-rule:evenodd;stroke:#FF0000;stroke-width:2.0px;stroke-linecap:butt;stroke-linejoin:miter;stroke-opacity:1\"/>\n",
       "<path class=\"bond-33 atom-34 atom-35\" d=\"M 184.3,108.8 L 187.6,113.9\" style=\"fill:none;fill-rule:evenodd;stroke:#000000;stroke-width:2.0px;stroke-linecap:butt;stroke-linejoin:miter;stroke-opacity:1\"/>\n",
       "<path class=\"bond-33 atom-34 atom-35\" d=\"M 187.6,113.9 L 190.9,119.0\" style=\"fill:none;fill-rule:evenodd;stroke:#FF0000;stroke-width:2.0px;stroke-linecap:butt;stroke-linejoin:miter;stroke-opacity:1\"/>\n",
       "<path class=\"bond-34 atom-34 atom-36\" d=\"M 183.7,109.9 L 190.4,96.9\" style=\"fill:none;fill-rule:evenodd;stroke:#000000;stroke-width:2.0px;stroke-linecap:butt;stroke-linejoin:miter;stroke-opacity:1\"/>\n",
       "<path class=\"bond-35 atom-36 atom-37\" d=\"M 190.4,96.9 L 205.0,96.1\" style=\"fill:none;fill-rule:evenodd;stroke:#000000;stroke-width:2.0px;stroke-linecap:butt;stroke-linejoin:miter;stroke-opacity:1\"/>\n",
       "<path class=\"bond-36 atom-27 atom-37\" d=\"M 211.7,83.0 L 205.0,96.1\" style=\"fill:none;fill-rule:evenodd;stroke:#000000;stroke-width:2.0px;stroke-linecap:butt;stroke-linejoin:miter;stroke-opacity:1\"/>\n",
       "<path class=\"bond-37 atom-38 atom-39\" d=\"M 182.4,84.5 L 167.7,85.3\" style=\"fill:none;fill-rule:evenodd;stroke:#000000;stroke-width:2.0px;stroke-linecap:butt;stroke-linejoin:miter;stroke-opacity:1\"/>\n",
       "<path class=\"bond-38 atom-36 atom-38\" d=\"M 190.4,96.9 L 182.4,84.5\" style=\"fill:none;fill-rule:evenodd;stroke:#000000;stroke-width:2.0px;stroke-linecap:butt;stroke-linejoin:miter;stroke-opacity:1\"/>\n",
       "<path d=\"M 232.9,69.0 L 233.1,69.2 L 233.8,69.2\" style=\"fill:none;stroke:#000000;stroke-width:2.0px;stroke-linecap:butt;stroke-linejoin:miter;stroke-opacity:1;\"/>\n",
       "<path d=\"M 316.1,103.8 L 315.7,103.2 L 315.0,103.2\" style=\"fill:none;stroke:#000000;stroke-width:2.0px;stroke-linecap:butt;stroke-linejoin:miter;stroke-opacity:1;\"/>\n",
       "<path d=\"M 301.8,103.9 L 301.0,103.9 L 300.6,103.3\" style=\"fill:none;stroke:#000000;stroke-width:2.0px;stroke-linecap:butt;stroke-linejoin:miter;stroke-opacity:1;\"/>\n",
       "<path d=\"M 293.5,92.2 L 293.1,91.6 L 292.7,91.6\" style=\"fill:none;stroke:#000000;stroke-width:2.0px;stroke-linecap:butt;stroke-linejoin:miter;stroke-opacity:1;\"/>\n",
       "<path d=\"M 270.6,80.3 L 270.4,80.0 L 269.7,80.1\" style=\"fill:none;stroke:#000000;stroke-width:2.0px;stroke-linecap:butt;stroke-linejoin:miter;stroke-opacity:1;\"/>\n",
       "<path d=\"M 248.1,69.1 L 247.7,68.5 L 247.0,68.5\" style=\"fill:none;stroke:#000000;stroke-width:2.0px;stroke-linecap:butt;stroke-linejoin:miter;stroke-opacity:1;\"/>\n",
       "<path d=\"M 273.4,131.5 L 273.0,130.9 L 272.3,130.9\" style=\"fill:none;stroke:#000000;stroke-width:2.0px;stroke-linecap:butt;stroke-linejoin:miter;stroke-opacity:1;\"/>\n",
       "<path d=\"M 259.1,131.6 L 258.3,131.6 L 257.9,131.0\" style=\"fill:none;stroke:#000000;stroke-width:2.0px;stroke-linecap:butt;stroke-linejoin:miter;stroke-opacity:1;\"/>\n",
       "<path d=\"M 250.7,119.9 L 250.3,119.3 L 250.0,119.3\" style=\"fill:none;stroke:#000000;stroke-width:2.0px;stroke-linecap:butt;stroke-linejoin:miter;stroke-opacity:1;\"/>\n",
       "<path d=\"M 227.8,107.9 L 227.7,107.7 L 228.0,107.0\" style=\"fill:none;stroke:#000000;stroke-width:2.0px;stroke-linecap:butt;stroke-linejoin:miter;stroke-opacity:1;\"/>\n",
       "<path d=\"M 248.3,93.9 L 249.0,93.9 L 249.4,93.2\" style=\"fill:none;stroke:#000000;stroke-width:2.0px;stroke-linecap:butt;stroke-linejoin:miter;stroke-opacity:1;\"/>\n",
       "<path d=\"M 201.5,19.2 L 201.1,19.9 L 201.5,20.5\" style=\"fill:none;stroke:#000000;stroke-width:2.0px;stroke-linecap:butt;stroke-linejoin:miter;stroke-opacity:1;\"/>\n",
       "<path d=\"M 208.7,31.6 L 209.1,32.2 L 208.8,32.9\" style=\"fill:none;stroke:#000000;stroke-width:2.0px;stroke-linecap:butt;stroke-linejoin:miter;stroke-opacity:1;\"/>\n",
       "<path d=\"M 202.8,44.7 L 202.4,45.3 L 202.6,45.5\" style=\"fill:none;stroke:#000000;stroke-width:2.0px;stroke-linecap:butt;stroke-linejoin:miter;stroke-opacity:1;\"/>\n",
       "<path d=\"M 203.9,70.5 L 203.7,70.7 L 204.1,71.3\" style=\"fill:none;stroke:#000000;stroke-width:2.0px;stroke-linecap:butt;stroke-linejoin:miter;stroke-opacity:1;\"/>\n",
       "<path d=\"M 225.7,82.3 L 226.4,82.3 L 226.8,82.9\" style=\"fill:none;stroke:#000000;stroke-width:2.0px;stroke-linecap:butt;stroke-linejoin:miter;stroke-opacity:1;\"/>\n",
       "<path d=\"M 140.2,137.6 L 141.0,137.6 L 141.3,137.0\" style=\"fill:none;stroke:#000000;stroke-width:2.0px;stroke-linecap:butt;stroke-linejoin:miter;stroke-opacity:1;\"/>\n",
       "<path d=\"M 147.3,125.2 L 147.7,124.5 L 148.4,124.5\" style=\"fill:none;stroke:#000000;stroke-width:2.0px;stroke-linecap:butt;stroke-linejoin:miter;stroke-opacity:1;\"/>\n",
       "<path d=\"M 161.6,123.8 L 162.3,123.8 L 162.5,123.5\" style=\"fill:none;stroke:#000000;stroke-width:2.0px;stroke-linecap:butt;stroke-linejoin:miter;stroke-opacity:1;\"/>\n",
       "<path d=\"M 183.4,110.0 L 183.7,109.9 L 184.0,109.3\" style=\"fill:none;stroke:#000000;stroke-width:2.0px;stroke-linecap:butt;stroke-linejoin:miter;stroke-opacity:1;\"/>\n",
       "<path d=\"M 204.3,96.2 L 205.0,96.1 L 205.4,95.5\" style=\"fill:none;stroke:#000000;stroke-width:2.0px;stroke-linecap:butt;stroke-linejoin:miter;stroke-opacity:1;\"/>\n",
       "<path d=\"M 181.7,84.6 L 182.4,84.5 L 182.8,85.2\" style=\"fill:none;stroke:#000000;stroke-width:2.0px;stroke-linecap:butt;stroke-linejoin:miter;stroke-opacity:1;\"/>\n",
       "<path class=\"atom-0\" d=\"M 224.1 56.3 Q 224.1 55.3, 224.6 54.7 Q 225.1 54.1, 226.0 54.1 Q 227.0 54.1, 227.5 54.7 Q 228.0 55.3, 228.0 56.3 Q 228.0 57.3, 227.5 57.9 Q 226.9 58.5, 226.0 58.5 Q 225.1 58.5, 224.6 57.9 Q 224.1 57.3, 224.1 56.3 M 226.0 58.0 Q 226.7 58.0, 227.0 57.6 Q 227.4 57.1, 227.4 56.3 Q 227.4 55.5, 227.0 55.0 Q 226.7 54.6, 226.0 54.6 Q 225.4 54.6, 225.0 55.0 Q 224.7 55.5, 224.7 56.3 Q 224.7 57.2, 225.0 57.6 Q 225.4 58.0, 226.0 58.0 \" fill=\"#FF0000\"/>\n",
       "<path class=\"atom-6\" d=\"M 276.4 92.4 Q 276.4 91.4, 276.9 90.8 Q 277.4 90.2, 278.4 90.2 Q 279.3 90.2, 279.8 90.8 Q 280.3 91.4, 280.3 92.4 Q 280.3 93.4, 279.8 94.0 Q 279.3 94.6, 278.4 94.6 Q 277.4 94.6, 276.9 94.0 Q 276.4 93.4, 276.4 92.4 M 278.4 94.1 Q 279.0 94.1, 279.4 93.7 Q 279.7 93.2, 279.7 92.4 Q 279.7 91.5, 279.4 91.1 Q 279.0 90.7, 278.4 90.7 Q 277.7 90.7, 277.4 91.1 Q 277.0 91.5, 277.0 92.4 Q 277.0 93.2, 277.4 93.7 Q 277.7 94.1, 278.4 94.1 \" fill=\"#FF0000\"/>\n",
       "<path class=\"atom-8\" d=\"M 275.1 67.0 Q 275.1 66.0, 275.6 65.4 Q 276.1 64.8, 277.1 64.8 Q 278.0 64.8, 278.5 65.4 Q 279.0 66.0, 279.0 67.0 Q 279.0 68.0, 278.5 68.6 Q 278.0 69.2, 277.1 69.2 Q 276.1 69.2, 275.6 68.6 Q 275.1 68.0, 275.1 67.0 M 277.1 68.7 Q 277.7 68.7, 278.1 68.3 Q 278.4 67.8, 278.4 67.0 Q 278.4 66.1, 278.1 65.7 Q 277.7 65.3, 277.1 65.3 Q 276.4 65.3, 276.1 65.7 Q 275.7 66.1, 275.7 67.0 Q 275.7 67.8, 276.1 68.3 Q 276.4 68.7, 277.1 68.7 \" fill=\"#FF0000\"/>\n",
       "<path class=\"atom-15\" d=\"M 233.7 120.0 Q 233.7 119.0, 234.2 118.4 Q 234.7 117.9, 235.7 117.9 Q 236.6 117.9, 237.1 118.4 Q 237.6 119.0, 237.6 120.0 Q 237.6 121.1, 237.1 121.7 Q 236.6 122.2, 235.7 122.2 Q 234.7 122.2, 234.2 121.7 Q 233.7 121.1, 233.7 120.0 M 235.7 121.8 Q 236.3 121.8, 236.7 121.3 Q 237.0 120.9, 237.0 120.0 Q 237.0 119.2, 236.7 118.8 Q 236.3 118.4, 235.7 118.4 Q 235.0 118.4, 234.7 118.8 Q 234.3 119.2, 234.3 120.0 Q 234.3 120.9, 234.7 121.3 Q 235.0 121.8, 235.7 121.8 \" fill=\"#FF0000\"/>\n",
       "<path class=\"atom-17\" d=\"M 211.1 108.5 Q 211.1 107.4, 211.6 106.9 Q 212.1 106.3, 213.0 106.3 Q 214.0 106.3, 214.5 106.9 Q 215.0 107.4, 215.0 108.5 Q 215.0 109.5, 214.5 110.1 Q 214.0 110.7, 213.0 110.7 Q 212.1 110.7, 211.6 110.1 Q 211.1 109.5, 211.1 108.5 M 213.0 110.2 Q 213.7 110.2, 214.0 109.8 Q 214.4 109.3, 214.4 108.5 Q 214.4 107.6, 214.0 107.2 Q 213.7 106.8, 213.0 106.8 Q 212.4 106.8, 212.0 107.2 Q 211.7 107.6, 211.7 108.5 Q 211.7 109.3, 212.0 109.8 Q 212.4 110.2, 213.0 110.2 \" fill=\"#FF0000\"/>\n",
       "<path class=\"atom-24\" d=\"M 208.5 57.6 Q 208.5 56.6, 209.0 56.1 Q 209.5 55.5, 210.4 55.5 Q 211.4 55.5, 211.9 56.1 Q 212.4 56.6, 212.4 57.6 Q 212.4 58.7, 211.9 59.3 Q 211.4 59.8, 210.4 59.8 Q 209.5 59.8, 209.0 59.3 Q 208.5 58.7, 208.5 57.6 M 210.4 59.4 Q 211.1 59.4, 211.4 58.9 Q 211.8 58.5, 211.8 57.6 Q 211.8 56.8, 211.4 56.4 Q 211.1 56.0, 210.4 56.0 Q 209.8 56.0, 209.4 56.4 Q 209.1 56.8, 209.1 57.6 Q 209.1 58.5, 209.4 58.9 Q 209.8 59.4, 210.4 59.4 \" fill=\"#FF0000\"/>\n",
       "<path class=\"atom-26\" d=\"M 187.1 71.5 Q 187.1 70.5, 187.6 69.9 Q 188.1 69.3, 189.1 69.3 Q 190.0 69.3, 190.5 69.9 Q 191.0 70.5, 191.0 71.5 Q 191.0 72.5, 190.5 73.1 Q 190.0 73.7, 189.1 73.7 Q 188.1 73.7, 187.6 73.1 Q 187.1 72.5, 187.1 71.5 M 189.1 73.2 Q 189.7 73.2, 190.1 72.8 Q 190.4 72.3, 190.4 71.5 Q 190.4 70.6, 190.1 70.2 Q 189.7 69.8, 189.1 69.8 Q 188.4 69.8, 188.1 70.2 Q 187.7 70.6, 187.7 71.5 Q 187.7 72.3, 188.1 72.8 Q 188.4 73.2, 189.1 73.2 \" fill=\"#FF0000\"/>\n",
       "<path class=\"atom-33\" d=\"M 167.1 110.7 Q 167.1 109.7, 167.6 109.1 Q 168.1 108.6, 169.0 108.6 Q 170.0 108.6, 170.5 109.1 Q 171.0 109.7, 171.0 110.7 Q 171.0 111.7, 170.5 112.3 Q 169.9 112.9, 169.0 112.9 Q 168.1 112.9, 167.6 112.3 Q 167.1 111.8, 167.1 110.7 M 169.0 112.4 Q 169.7 112.4, 170.0 112.0 Q 170.4 111.6, 170.4 110.7 Q 170.4 109.9, 170.0 109.5 Q 169.7 109.0, 169.0 109.0 Q 168.4 109.0, 168.0 109.5 Q 167.7 109.9, 167.7 110.7 Q 167.7 111.6, 168.0 112.0 Q 168.4 112.4, 169.0 112.4 \" fill=\"#FF0000\"/>\n",
       "<path class=\"atom-35\" d=\"M 189.7 122.3 Q 189.7 121.3, 190.2 120.7 Q 190.7 120.1, 191.7 120.1 Q 192.6 120.1, 193.1 120.7 Q 193.6 121.3, 193.6 122.3 Q 193.6 123.3, 193.1 123.9 Q 192.6 124.5, 191.7 124.5 Q 190.7 124.5, 190.2 123.9 Q 189.7 123.3, 189.7 122.3 M 191.7 124.0 Q 192.3 124.0, 192.7 123.6 Q 193.0 123.1, 193.0 122.3 Q 193.0 121.5, 192.7 121.0 Q 192.3 120.6, 191.7 120.6 Q 191.0 120.6, 190.7 121.0 Q 190.3 121.5, 190.3 122.3 Q 190.3 123.1, 190.7 123.6 Q 191.0 124.0, 191.7 124.0 \" fill=\"#FF0000\"/>\n",
       "</svg>"
      ],
      "text/plain": [
       "<IPython.core.display.SVG object>"
      ]
     },
     "execution_count": 83,
     "metadata": {},
     "output_type": "execute_result"
    }
   ],
   "source": [
    "big_smiles_gen(big)"
   ]
  },
  {
   "cell_type": "code",
   "execution_count": 84,
   "id": "a9e99c34",
   "metadata": {},
   "outputs": [
    {
     "name": "stdout",
     "output_type": "stream",
     "text": [
      "CCCCOC(=O)C(CC)CC(CC(CC=O)C(=O)OCCCC)C(=O)OCCCC\n",
      "0.1963313223155807\n",
      "46\n"
     ]
    },
    {
     "data": {
      "image/svg+xml": [
       "<svg xmlns=\"http://www.w3.org/2000/svg\" xmlns:rdkit=\"http://www.rdkit.org/xml\" xmlns:xlink=\"http://www.w3.org/1999/xlink\" version=\"1.1\" baseProfile=\"full\" xml:space=\"preserve\" width=\"450px\" height=\"150px\" viewBox=\"0 0 450 150\">\n",
       "<!-- END OF HEADER -->\n",
       "<rect style=\"opacity:1.0;fill:#FFFFFF;stroke:none\" width=\"450.0\" height=\"150.0\" x=\"0.0\" y=\"0.0\"> </rect>\n",
       "<path class=\"bond-0 atom-0 atom-1\" d=\"M 209.7,15.2 L 215.4,21.5\" style=\"fill:none;fill-rule:evenodd;stroke:#FF0000;stroke-width:2.0px;stroke-linecap:butt;stroke-linejoin:miter;stroke-opacity:1\"/>\n",
       "<path class=\"bond-0 atom-0 atom-1\" d=\"M 215.4,21.5 L 221.0,27.8\" style=\"fill:none;fill-rule:evenodd;stroke:#000000;stroke-width:2.0px;stroke-linecap:butt;stroke-linejoin:miter;stroke-opacity:1\"/>\n",
       "<path class=\"bond-0 atom-0 atom-1\" d=\"M 212.2,12.9 L 217.9,19.2\" style=\"fill:none;fill-rule:evenodd;stroke:#FF0000;stroke-width:2.0px;stroke-linecap:butt;stroke-linejoin:miter;stroke-opacity:1\"/>\n",
       "<path class=\"bond-0 atom-0 atom-1\" d=\"M 217.9,19.2 L 222.2,24.1\" style=\"fill:none;fill-rule:evenodd;stroke:#000000;stroke-width:2.0px;stroke-linecap:butt;stroke-linejoin:miter;stroke-opacity:1\"/>\n",
       "<path class=\"bond-1 atom-2 atom-3\" d=\"M 368.2,76.0 L 353.3,59.3\" style=\"fill:none;fill-rule:evenodd;stroke:#000000;stroke-width:2.0px;stroke-linecap:butt;stroke-linejoin:miter;stroke-opacity:1\"/>\n",
       "<path class=\"bond-2 atom-3 atom-4\" d=\"M 353.3,59.3 L 331.4,63.9\" style=\"fill:none;fill-rule:evenodd;stroke:#000000;stroke-width:2.0px;stroke-linecap:butt;stroke-linejoin:miter;stroke-opacity:1\"/>\n",
       "<path class=\"bond-3 atom-4 atom-5\" d=\"M 331.4,63.9 L 316.5,47.3\" style=\"fill:none;fill-rule:evenodd;stroke:#000000;stroke-width:2.0px;stroke-linecap:butt;stroke-linejoin:miter;stroke-opacity:1\"/>\n",
       "<path class=\"bond-4 atom-5 atom-6\" d=\"M 316.5,47.3 L 307.4,49.2\" style=\"fill:none;fill-rule:evenodd;stroke:#000000;stroke-width:2.0px;stroke-linecap:butt;stroke-linejoin:miter;stroke-opacity:1\"/>\n",
       "<path class=\"bond-4 atom-5 atom-6\" d=\"M 307.4,49.2 L 298.2,51.1\" style=\"fill:none;fill-rule:evenodd;stroke:#FF0000;stroke-width:2.0px;stroke-linecap:butt;stroke-linejoin:miter;stroke-opacity:1\"/>\n",
       "<path class=\"bond-5 atom-6 atom-7\" d=\"M 291.1,48.0 L 285.4,41.6\" style=\"fill:none;fill-rule:evenodd;stroke:#FF0000;stroke-width:2.0px;stroke-linecap:butt;stroke-linejoin:miter;stroke-opacity:1\"/>\n",
       "<path class=\"bond-5 atom-6 atom-7\" d=\"M 285.4,41.6 L 279.7,35.2\" style=\"fill:none;fill-rule:evenodd;stroke:#000000;stroke-width:2.0px;stroke-linecap:butt;stroke-linejoin:miter;stroke-opacity:1\"/>\n",
       "<path class=\"bond-6 atom-7 atom-8\" d=\"M 281.0,36.7 L 283.9,27.6\" style=\"fill:none;fill-rule:evenodd;stroke:#000000;stroke-width:2.0px;stroke-linecap:butt;stroke-linejoin:miter;stroke-opacity:1\"/>\n",
       "<path class=\"bond-6 atom-7 atom-8\" d=\"M 283.9,27.6 L 286.9,18.6\" style=\"fill:none;fill-rule:evenodd;stroke:#FF0000;stroke-width:2.0px;stroke-linecap:butt;stroke-linejoin:miter;stroke-opacity:1\"/>\n",
       "<path class=\"bond-6 atom-7 atom-8\" d=\"M 277.8,35.6 L 280.8,26.6\" style=\"fill:none;fill-rule:evenodd;stroke:#000000;stroke-width:2.0px;stroke-linecap:butt;stroke-linejoin:miter;stroke-opacity:1\"/>\n",
       "<path class=\"bond-6 atom-7 atom-8\" d=\"M 280.8,26.6 L 283.7,17.5\" style=\"fill:none;fill-rule:evenodd;stroke:#FF0000;stroke-width:2.0px;stroke-linecap:butt;stroke-linejoin:miter;stroke-opacity:1\"/>\n",
       "<path class=\"bond-7 atom-7 atom-9\" d=\"M 279.7,35.2 L 257.8,39.8\" style=\"fill:none;fill-rule:evenodd;stroke:#000000;stroke-width:2.0px;stroke-linecap:butt;stroke-linejoin:miter;stroke-opacity:1\"/>\n",
       "<path class=\"bond-8 atom-9 atom-10\" d=\"M 257.8,39.8 L 242.9,23.2\" style=\"fill:none;fill-rule:evenodd;stroke:#000000;stroke-width:2.0px;stroke-linecap:butt;stroke-linejoin:miter;stroke-opacity:1\"/>\n",
       "<path class=\"bond-9 atom-1 atom-10\" d=\"M 221.0,27.8 L 242.9,23.2\" style=\"fill:none;fill-rule:evenodd;stroke:#000000;stroke-width:2.0px;stroke-linecap:butt;stroke-linejoin:miter;stroke-opacity:1\"/>\n",
       "<path class=\"bond-10 atom-11 atom-12\" d=\"M 142.5,143.2 L 164.4,138.6\" style=\"fill:none;fill-rule:evenodd;stroke:#000000;stroke-width:2.0px;stroke-linecap:butt;stroke-linejoin:miter;stroke-opacity:1\"/>\n",
       "<path class=\"bond-11 atom-12 atom-13\" d=\"M 164.4,138.6 L 171.3,117.3\" style=\"fill:none;fill-rule:evenodd;stroke:#000000;stroke-width:2.0px;stroke-linecap:butt;stroke-linejoin:miter;stroke-opacity:1\"/>\n",
       "<path class=\"bond-12 atom-13 atom-14\" d=\"M 171.3,117.3 L 193.2,112.8\" style=\"fill:none;fill-rule:evenodd;stroke:#000000;stroke-width:2.0px;stroke-linecap:butt;stroke-linejoin:miter;stroke-opacity:1\"/>\n",
       "<path class=\"bond-13 atom-14 atom-15\" d=\"M 193.2,112.8 L 196.0,104.1\" style=\"fill:none;fill-rule:evenodd;stroke:#000000;stroke-width:2.0px;stroke-linecap:butt;stroke-linejoin:miter;stroke-opacity:1\"/>\n",
       "<path class=\"bond-13 atom-14 atom-15\" d=\"M 196.0,104.1 L 198.8,95.5\" style=\"fill:none;fill-rule:evenodd;stroke:#FF0000;stroke-width:2.0px;stroke-linecap:butt;stroke-linejoin:miter;stroke-opacity:1\"/>\n",
       "<path class=\"bond-14 atom-15 atom-16\" d=\"M 203.8,90.7 L 212.9,88.8\" style=\"fill:none;fill-rule:evenodd;stroke:#FF0000;stroke-width:2.0px;stroke-linecap:butt;stroke-linejoin:miter;stroke-opacity:1\"/>\n",
       "<path class=\"bond-14 atom-15 atom-16\" d=\"M 212.9,88.8 L 222.0,86.9\" style=\"fill:none;fill-rule:evenodd;stroke:#000000;stroke-width:2.0px;stroke-linecap:butt;stroke-linejoin:miter;stroke-opacity:1\"/>\n",
       "<path class=\"bond-15 atom-16 atom-17\" d=\"M 220.1,87.3 L 226.1,94.0\" style=\"fill:none;fill-rule:evenodd;stroke:#000000;stroke-width:2.0px;stroke-linecap:butt;stroke-linejoin:miter;stroke-opacity:1\"/>\n",
       "<path class=\"bond-15 atom-16 atom-17\" d=\"M 226.1,94.0 L 232.2,100.7\" style=\"fill:none;fill-rule:evenodd;stroke:#FF0000;stroke-width:2.0px;stroke-linecap:butt;stroke-linejoin:miter;stroke-opacity:1\"/>\n",
       "<path class=\"bond-15 atom-16 atom-17\" d=\"M 222.6,85.1 L 228.6,91.8\" style=\"fill:none;fill-rule:evenodd;stroke:#000000;stroke-width:2.0px;stroke-linecap:butt;stroke-linejoin:miter;stroke-opacity:1\"/>\n",
       "<path class=\"bond-15 atom-16 atom-17\" d=\"M 228.6,91.8 L 234.7,98.5\" style=\"fill:none;fill-rule:evenodd;stroke:#FF0000;stroke-width:2.0px;stroke-linecap:butt;stroke-linejoin:miter;stroke-opacity:1\"/>\n",
       "<path class=\"bond-16 atom-16 atom-18\" d=\"M 222.0,86.9 L 229.0,65.7\" style=\"fill:none;fill-rule:evenodd;stroke:#000000;stroke-width:2.0px;stroke-linecap:butt;stroke-linejoin:miter;stroke-opacity:1\"/>\n",
       "<path class=\"bond-17 atom-18 atom-19\" d=\"M 229.0,65.7 L 250.9,61.1\" style=\"fill:none;fill-rule:evenodd;stroke:#000000;stroke-width:2.0px;stroke-linecap:butt;stroke-linejoin:miter;stroke-opacity:1\"/>\n",
       "<path class=\"bond-18 atom-9 atom-19\" d=\"M 257.8,39.8 L 250.9,61.1\" style=\"fill:none;fill-rule:evenodd;stroke:#000000;stroke-width:2.0px;stroke-linecap:butt;stroke-linejoin:miter;stroke-opacity:1\"/>\n",
       "<path class=\"bond-19 atom-20 atom-21\" d=\"M 81.8,17.5 L 103.7,12.9\" style=\"fill:none;fill-rule:evenodd;stroke:#000000;stroke-width:2.0px;stroke-linecap:butt;stroke-linejoin:miter;stroke-opacity:1\"/>\n",
       "<path class=\"bond-20 atom-21 atom-22\" d=\"M 103.7,12.9 L 118.6,29.5\" style=\"fill:none;fill-rule:evenodd;stroke:#000000;stroke-width:2.0px;stroke-linecap:butt;stroke-linejoin:miter;stroke-opacity:1\"/>\n",
       "<path class=\"bond-21 atom-22 atom-23\" d=\"M 118.6,29.5 L 140.5,24.9\" style=\"fill:none;fill-rule:evenodd;stroke:#000000;stroke-width:2.0px;stroke-linecap:butt;stroke-linejoin:miter;stroke-opacity:1\"/>\n",
       "<path class=\"bond-22 atom-23 atom-24\" d=\"M 140.5,24.9 L 146.2,31.3\" style=\"fill:none;fill-rule:evenodd;stroke:#000000;stroke-width:2.0px;stroke-linecap:butt;stroke-linejoin:miter;stroke-opacity:1\"/>\n",
       "<path class=\"bond-22 atom-23 atom-24\" d=\"M 146.2,31.3 L 151.9,37.6\" style=\"fill:none;fill-rule:evenodd;stroke:#FF0000;stroke-width:2.0px;stroke-linecap:butt;stroke-linejoin:miter;stroke-opacity:1\"/>\n",
       "<path class=\"bond-23 atom-24 atom-25\" d=\"M 159.0,40.8 L 168.2,38.9\" style=\"fill:none;fill-rule:evenodd;stroke:#FF0000;stroke-width:2.0px;stroke-linecap:butt;stroke-linejoin:miter;stroke-opacity:1\"/>\n",
       "<path class=\"bond-23 atom-24 atom-25\" d=\"M 168.2,38.9 L 177.3,37.0\" style=\"fill:none;fill-rule:evenodd;stroke:#000000;stroke-width:2.0px;stroke-linecap:butt;stroke-linejoin:miter;stroke-opacity:1\"/>\n",
       "<path class=\"bond-24 atom-25 atom-26\" d=\"M 178.6,38.4 L 181.5,29.4\" style=\"fill:none;fill-rule:evenodd;stroke:#000000;stroke-width:2.0px;stroke-linecap:butt;stroke-linejoin:miter;stroke-opacity:1\"/>\n",
       "<path class=\"bond-24 atom-25 atom-26\" d=\"M 181.5,29.4 L 184.5,20.3\" style=\"fill:none;fill-rule:evenodd;stroke:#FF0000;stroke-width:2.0px;stroke-linecap:butt;stroke-linejoin:miter;stroke-opacity:1\"/>\n",
       "<path class=\"bond-24 atom-25 atom-26\" d=\"M 175.4,37.4 L 178.3,28.3\" style=\"fill:none;fill-rule:evenodd;stroke:#000000;stroke-width:2.0px;stroke-linecap:butt;stroke-linejoin:miter;stroke-opacity:1\"/>\n",
       "<path class=\"bond-24 atom-25 atom-26\" d=\"M 178.3,28.3 L 181.3,19.2\" style=\"fill:none;fill-rule:evenodd;stroke:#FF0000;stroke-width:2.0px;stroke-linecap:butt;stroke-linejoin:miter;stroke-opacity:1\"/>\n",
       "<path class=\"bond-25 atom-25 atom-27\" d=\"M 177.3,37.0 L 192.2,53.6\" style=\"fill:none;fill-rule:evenodd;stroke:#000000;stroke-width:2.0px;stroke-linecap:butt;stroke-linejoin:miter;stroke-opacity:1\"/>\n",
       "<path class=\"bond-26 atom-27 atom-28\" d=\"M 192.2,53.6 L 214.1,49.0\" style=\"fill:none;fill-rule:evenodd;stroke:#000000;stroke-width:2.0px;stroke-linecap:butt;stroke-linejoin:miter;stroke-opacity:1\"/>\n",
       "<path class=\"bond-27 atom-18 atom-28\" d=\"M 229.0,65.7 L 214.1,49.0\" style=\"fill:none;fill-rule:evenodd;stroke:#000000;stroke-width:2.0px;stroke-linecap:butt;stroke-linejoin:miter;stroke-opacity:1\"/>\n",
       "<path class=\"bond-28 atom-29 atom-30\" d=\"M 185.2,74.9 L 163.4,79.5\" style=\"fill:none;fill-rule:evenodd;stroke:#000000;stroke-width:2.0px;stroke-linecap:butt;stroke-linejoin:miter;stroke-opacity:1\"/>\n",
       "<path class=\"bond-29 atom-27 atom-29\" d=\"M 192.2,53.6 L 185.2,74.9\" style=\"fill:none;fill-rule:evenodd;stroke:#000000;stroke-width:2.0px;stroke-linecap:butt;stroke-linejoin:miter;stroke-opacity:1\"/>\n",
       "<path d=\"M 220.7,27.5 L 221.0,27.8 L 222.1,27.6\" style=\"fill:none;stroke:#000000;stroke-width:2.0px;stroke-linecap:butt;stroke-linejoin:miter;stroke-opacity:1;\"/>\n",
       "<path d=\"M 354.0,60.2 L 353.3,59.3 L 352.2,59.6\" style=\"fill:none;stroke:#000000;stroke-width:2.0px;stroke-linecap:butt;stroke-linejoin:miter;stroke-opacity:1;\"/>\n",
       "<path d=\"M 332.5,63.7 L 331.4,63.9 L 330.6,63.1\" style=\"fill:none;stroke:#000000;stroke-width:2.0px;stroke-linecap:butt;stroke-linejoin:miter;stroke-opacity:1;\"/>\n",
       "<path d=\"M 317.2,48.1 L 316.5,47.3 L 316.0,47.4\" style=\"fill:none;stroke:#000000;stroke-width:2.0px;stroke-linecap:butt;stroke-linejoin:miter;stroke-opacity:1;\"/>\n",
       "<path d=\"M 280.0,35.6 L 279.7,35.2 L 278.6,35.5\" style=\"fill:none;stroke:#000000;stroke-width:2.0px;stroke-linecap:butt;stroke-linejoin:miter;stroke-opacity:1;\"/>\n",
       "<path d=\"M 243.6,24.0 L 242.9,23.2 L 241.8,23.4\" style=\"fill:none;stroke:#000000;stroke-width:2.0px;stroke-linecap:butt;stroke-linejoin:miter;stroke-opacity:1;\"/>\n",
       "<path d=\"M 163.3,138.8 L 164.4,138.6 L 164.7,137.5\" style=\"fill:none;stroke:#000000;stroke-width:2.0px;stroke-linecap:butt;stroke-linejoin:miter;stroke-opacity:1;\"/>\n",
       "<path d=\"M 171.0,118.4 L 171.3,117.3 L 172.4,117.1\" style=\"fill:none;stroke:#000000;stroke-width:2.0px;stroke-linecap:butt;stroke-linejoin:miter;stroke-opacity:1;\"/>\n",
       "<path d=\"M 192.1,113.0 L 193.2,112.8 L 193.3,112.3\" style=\"fill:none;stroke:#000000;stroke-width:2.0px;stroke-linecap:butt;stroke-linejoin:miter;stroke-opacity:1;\"/>\n",
       "<path d=\"M 221.6,87.0 L 222.0,86.9 L 222.4,85.9\" style=\"fill:none;stroke:#000000;stroke-width:2.0px;stroke-linecap:butt;stroke-linejoin:miter;stroke-opacity:1;\"/>\n",
       "<path d=\"M 249.8,61.3 L 250.9,61.1 L 251.2,60.0\" style=\"fill:none;stroke:#000000;stroke-width:2.0px;stroke-linecap:butt;stroke-linejoin:miter;stroke-opacity:1;\"/>\n",
       "<path d=\"M 102.6,13.1 L 103.7,12.9 L 104.4,13.7\" style=\"fill:none;stroke:#000000;stroke-width:2.0px;stroke-linecap:butt;stroke-linejoin:miter;stroke-opacity:1;\"/>\n",
       "<path d=\"M 117.9,28.7 L 118.6,29.5 L 119.7,29.3\" style=\"fill:none;stroke:#000000;stroke-width:2.0px;stroke-linecap:butt;stroke-linejoin:miter;stroke-opacity:1;\"/>\n",
       "<path d=\"M 139.4,25.2 L 140.5,24.9 L 140.8,25.2\" style=\"fill:none;stroke:#000000;stroke-width:2.0px;stroke-linecap:butt;stroke-linejoin:miter;stroke-opacity:1;\"/>\n",
       "<path d=\"M 176.8,37.1 L 177.3,37.0 L 178.0,37.8\" style=\"fill:none;stroke:#000000;stroke-width:2.0px;stroke-linecap:butt;stroke-linejoin:miter;stroke-opacity:1;\"/>\n",
       "<path d=\"M 213.0,49.3 L 214.1,49.0 L 214.8,49.9\" style=\"fill:none;stroke:#000000;stroke-width:2.0px;stroke-linecap:butt;stroke-linejoin:miter;stroke-opacity:1;\"/>\n",
       "<path d=\"M 184.1,75.1 L 185.2,74.9 L 185.6,73.8\" style=\"fill:none;stroke:#000000;stroke-width:2.0px;stroke-linecap:butt;stroke-linejoin:miter;stroke-opacity:1;\"/>\n",
       "<path class=\"atom-0\" d=\"M 204.4 10.0 Q 204.4 8.5, 205.2 7.7 Q 205.9 6.8, 207.4 6.8 Q 208.8 6.8, 209.5 7.7 Q 210.3 8.5, 210.3 10.0 Q 210.3 11.6, 209.5 12.5 Q 208.7 13.3, 207.4 13.3 Q 206.0 13.3, 205.2 12.5 Q 204.4 11.6, 204.4 10.0 M 207.4 12.6 Q 208.3 12.6, 208.8 12.0 Q 209.4 11.3, 209.4 10.0 Q 209.4 8.8, 208.8 8.2 Q 208.3 7.5, 207.4 7.5 Q 206.4 7.5, 205.9 8.2 Q 205.3 8.8, 205.3 10.0 Q 205.3 11.3, 205.9 12.0 Q 206.4 12.6, 207.4 12.6 \" fill=\"#FF0000\"/>\n",
       "<path class=\"atom-6\" d=\"M 291.7 51.9 Q 291.7 50.4, 292.4 49.5 Q 293.2 48.7, 294.6 48.7 Q 296.0 48.7, 296.8 49.5 Q 297.5 50.4, 297.5 51.9 Q 297.5 53.4, 296.7 54.3 Q 296.0 55.2, 294.6 55.2 Q 293.2 55.2, 292.4 54.3 Q 291.7 53.5, 291.7 51.9 M 294.6 54.5 Q 295.6 54.5, 296.1 53.8 Q 296.6 53.2, 296.6 51.9 Q 296.6 50.7, 296.1 50.0 Q 295.6 49.4, 294.6 49.4 Q 293.6 49.4, 293.1 50.0 Q 292.6 50.7, 292.6 51.9 Q 292.6 53.2, 293.1 53.8 Q 293.6 54.5, 294.6 54.5 \" fill=\"#FF0000\"/>\n",
       "<path class=\"atom-8\" d=\"M 283.7 14.0 Q 283.7 12.5, 284.5 11.6 Q 285.2 10.8, 286.6 10.8 Q 288.0 10.8, 288.8 11.6 Q 289.6 12.5, 289.6 14.0 Q 289.6 15.6, 288.8 16.4 Q 288.0 17.3, 286.6 17.3 Q 285.3 17.3, 284.5 16.4 Q 283.7 15.6, 283.7 14.0 M 286.6 16.6 Q 287.6 16.6, 288.1 15.9 Q 288.7 15.3, 288.7 14.0 Q 288.7 12.8, 288.1 12.2 Q 287.6 11.5, 286.6 11.5 Q 285.7 11.5, 285.2 12.1 Q 284.6 12.8, 284.6 14.0 Q 284.6 15.3, 285.2 15.9 Q 285.7 16.6, 286.6 16.6 \" fill=\"#FF0000\"/>\n",
       "<path class=\"atom-15\" d=\"M 197.2 91.5 Q 197.2 90.0, 198.0 89.2 Q 198.7 88.3, 200.1 88.3 Q 201.5 88.3, 202.3 89.2 Q 203.1 90.0, 203.1 91.5 Q 203.1 93.1, 202.3 93.9 Q 201.5 94.8, 200.1 94.8 Q 198.8 94.8, 198.0 93.9 Q 197.2 93.1, 197.2 91.5 M 200.1 94.1 Q 201.1 94.1, 201.6 93.4 Q 202.2 92.8, 202.2 91.5 Q 202.2 90.3, 201.6 89.7 Q 201.1 89.0, 200.1 89.0 Q 199.2 89.0, 198.7 89.6 Q 198.1 90.3, 198.1 91.5 Q 198.1 92.8, 198.7 93.4 Q 199.2 94.1, 200.1 94.1 \" fill=\"#FF0000\"/>\n",
       "<path class=\"atom-17\" d=\"M 234.0 103.6 Q 234.0 102.1, 234.8 101.2 Q 235.5 100.4, 236.9 100.4 Q 238.3 100.4, 239.1 101.2 Q 239.8 102.1, 239.8 103.6 Q 239.8 105.1, 239.1 106.0 Q 238.3 106.9, 236.9 106.9 Q 235.5 106.9, 234.8 106.0 Q 234.0 105.1, 234.0 103.6 M 236.9 106.1 Q 237.9 106.1, 238.4 105.5 Q 238.9 104.8, 238.9 103.6 Q 238.9 102.3, 238.4 101.7 Q 237.9 101.1, 236.9 101.1 Q 236.0 101.1, 235.4 101.7 Q 234.9 102.3, 234.9 103.6 Q 234.9 104.9, 235.4 105.5 Q 236.0 106.1, 236.9 106.1 \" fill=\"#FF0000\"/>\n",
       "<path class=\"atom-24\" d=\"M 152.5 41.6 Q 152.5 40.1, 153.2 39.2 Q 154.0 38.4, 155.4 38.4 Q 156.8 38.4, 157.6 39.2 Q 158.3 40.1, 158.3 41.6 Q 158.3 43.1, 157.5 44.0 Q 156.8 44.9, 155.4 44.9 Q 154.0 44.9, 153.2 44.0 Q 152.5 43.1, 152.5 41.6 M 155.4 44.2 Q 156.4 44.2, 156.9 43.5 Q 157.4 42.9, 157.4 41.6 Q 157.4 40.3, 156.9 39.7 Q 156.4 39.1, 155.4 39.1 Q 154.4 39.1, 153.9 39.7 Q 153.4 40.3, 153.4 41.6 Q 153.4 42.9, 153.9 43.5 Q 154.4 44.2, 155.4 44.2 \" fill=\"#FF0000\"/>\n",
       "<path class=\"atom-26\" d=\"M 181.3 15.8 Q 181.3 14.2, 182.1 13.4 Q 182.8 12.5, 184.2 12.5 Q 185.6 12.5, 186.4 13.4 Q 187.1 14.2, 187.1 15.8 Q 187.1 17.3, 186.4 18.2 Q 185.6 19.0, 184.2 19.0 Q 182.8 19.0, 182.1 18.2 Q 181.3 17.3, 181.3 15.8 M 184.2 18.3 Q 185.2 18.3, 185.7 17.7 Q 186.2 17.0, 186.2 15.8 Q 186.2 14.5, 185.7 13.9 Q 185.2 13.2, 184.2 13.2 Q 183.3 13.2, 182.7 13.9 Q 182.2 14.5, 182.2 15.8 Q 182.2 17.0, 182.7 17.7 Q 183.3 18.3, 184.2 18.3 \" fill=\"#FF0000\"/>\n",
       "</svg>"
      ],
      "text/plain": [
       "<IPython.core.display.SVG object>"
      ]
     },
     "execution_count": 84,
     "metadata": {},
     "output_type": "execute_result"
    }
   ],
   "source": [
    "big_smiles_gen(big)"
   ]
  },
  {
   "cell_type": "code",
   "execution_count": 85,
   "id": "0f144738",
   "metadata": {},
   "outputs": [
    {
     "name": "stdout",
     "output_type": "stream",
     "text": [
      "CCCCOC(=O)C(CC)CC(CC(CC(CC=O)C(=O)OCCCC)C(=O)OCCCC)C(=O)OCCCC\n",
      "0.15445631400224535\n",
      "47\n"
     ]
    },
    {
     "data": {
      "image/svg+xml": [
       "<svg xmlns=\"http://www.w3.org/2000/svg\" xmlns:rdkit=\"http://www.rdkit.org/xml\" xmlns:xlink=\"http://www.w3.org/1999/xlink\" version=\"1.1\" baseProfile=\"full\" xml:space=\"preserve\" width=\"450px\" height=\"150px\" viewBox=\"0 0 450 150\">\n",
       "<!-- END OF HEADER -->\n",
       "<rect style=\"opacity:1.0;fill:#FFFFFF;stroke:none\" width=\"450.0\" height=\"150.0\" x=\"0.0\" y=\"0.0\"> </rect>\n",
       "<path class=\"bond-0 atom-0 atom-1\" d=\"M 226.8,59.6 L 230.0,64.4\" style=\"fill:none;fill-rule:evenodd;stroke:#FF0000;stroke-width:2.0px;stroke-linecap:butt;stroke-linejoin:miter;stroke-opacity:1\"/>\n",
       "<path class=\"bond-0 atom-0 atom-1\" d=\"M 230.0,64.4 L 233.1,69.2\" style=\"fill:none;fill-rule:evenodd;stroke:#000000;stroke-width:2.0px;stroke-linecap:butt;stroke-linejoin:miter;stroke-opacity:1\"/>\n",
       "<path class=\"bond-0 atom-0 atom-1\" d=\"M 228.7,58.4 L 231.8,63.2\" style=\"fill:none;fill-rule:evenodd;stroke:#FF0000;stroke-width:2.0px;stroke-linecap:butt;stroke-linejoin:miter;stroke-opacity:1\"/>\n",
       "<path class=\"bond-0 atom-0 atom-1\" d=\"M 231.8,63.2 L 234.2,66.9\" style=\"fill:none;fill-rule:evenodd;stroke:#000000;stroke-width:2.0px;stroke-linecap:butt;stroke-linejoin:miter;stroke-opacity:1\"/>\n",
       "<path class=\"bond-1 atom-2 atom-3\" d=\"M 323.7,115.5 L 315.7,103.2\" style=\"fill:none;fill-rule:evenodd;stroke:#000000;stroke-width:2.0px;stroke-linecap:butt;stroke-linejoin:miter;stroke-opacity:1\"/>\n",
       "<path class=\"bond-2 atom-3 atom-4\" d=\"M 315.7,103.2 L 301.0,103.9\" style=\"fill:none;fill-rule:evenodd;stroke:#000000;stroke-width:2.0px;stroke-linecap:butt;stroke-linejoin:miter;stroke-opacity:1\"/>\n",
       "<path class=\"bond-3 atom-4 atom-5\" d=\"M 301.0,103.9 L 293.1,91.6\" style=\"fill:none;fill-rule:evenodd;stroke:#000000;stroke-width:2.0px;stroke-linecap:butt;stroke-linejoin:miter;stroke-opacity:1\"/>\n",
       "<path class=\"bond-4 atom-5 atom-6\" d=\"M 293.1,91.6 L 286.9,91.9\" style=\"fill:none;fill-rule:evenodd;stroke:#000000;stroke-width:2.0px;stroke-linecap:butt;stroke-linejoin:miter;stroke-opacity:1\"/>\n",
       "<path class=\"bond-4 atom-5 atom-6\" d=\"M 286.9,91.9 L 280.8,92.2\" style=\"fill:none;fill-rule:evenodd;stroke:#FF0000;stroke-width:2.0px;stroke-linecap:butt;stroke-linejoin:miter;stroke-opacity:1\"/>\n",
       "<path class=\"bond-5 atom-6 atom-7\" d=\"M 276.7,89.7 L 273.5,84.9\" style=\"fill:none;fill-rule:evenodd;stroke:#FF0000;stroke-width:2.0px;stroke-linecap:butt;stroke-linejoin:miter;stroke-opacity:1\"/>\n",
       "<path class=\"bond-5 atom-6 atom-7\" d=\"M 273.5,84.9 L 270.4,80.0\" style=\"fill:none;fill-rule:evenodd;stroke:#000000;stroke-width:2.0px;stroke-linecap:butt;stroke-linejoin:miter;stroke-opacity:1\"/>\n",
       "<path class=\"bond-6 atom-7 atom-8\" d=\"M 271.1,81.1 L 273.9,75.6\" style=\"fill:none;fill-rule:evenodd;stroke:#000000;stroke-width:2.0px;stroke-linecap:butt;stroke-linejoin:miter;stroke-opacity:1\"/>\n",
       "<path class=\"bond-6 atom-7 atom-8\" d=\"M 273.9,75.6 L 276.7,70.2\" style=\"fill:none;fill-rule:evenodd;stroke:#FF0000;stroke-width:2.0px;stroke-linecap:butt;stroke-linejoin:miter;stroke-opacity:1\"/>\n",
       "<path class=\"bond-6 atom-7 atom-8\" d=\"M 269.1,80.1 L 271.9,74.6\" style=\"fill:none;fill-rule:evenodd;stroke:#000000;stroke-width:2.0px;stroke-linecap:butt;stroke-linejoin:miter;stroke-opacity:1\"/>\n",
       "<path class=\"bond-6 atom-7 atom-8\" d=\"M 271.9,74.6 L 274.7,69.2\" style=\"fill:none;fill-rule:evenodd;stroke:#FF0000;stroke-width:2.0px;stroke-linecap:butt;stroke-linejoin:miter;stroke-opacity:1\"/>\n",
       "<path class=\"bond-7 atom-7 atom-9\" d=\"M 270.4,80.0 L 255.7,80.8\" style=\"fill:none;fill-rule:evenodd;stroke:#000000;stroke-width:2.0px;stroke-linecap:butt;stroke-linejoin:miter;stroke-opacity:1\"/>\n",
       "<path class=\"bond-8 atom-9 atom-10\" d=\"M 255.7,80.8 L 247.7,68.5\" style=\"fill:none;fill-rule:evenodd;stroke:#000000;stroke-width:2.0px;stroke-linecap:butt;stroke-linejoin:miter;stroke-opacity:1\"/>\n",
       "<path class=\"bond-9 atom-1 atom-10\" d=\"M 233.1,69.2 L 247.7,68.5\" style=\"fill:none;fill-rule:evenodd;stroke:#000000;stroke-width:2.0px;stroke-linecap:butt;stroke-linejoin:miter;stroke-opacity:1\"/>\n",
       "<path class=\"bond-10 atom-11 atom-12\" d=\"M 281.0,143.2 L 273.0,130.9\" style=\"fill:none;fill-rule:evenodd;stroke:#000000;stroke-width:2.0px;stroke-linecap:butt;stroke-linejoin:miter;stroke-opacity:1\"/>\n",
       "<path class=\"bond-11 atom-12 atom-13\" d=\"M 273.0,130.9 L 258.3,131.6\" style=\"fill:none;fill-rule:evenodd;stroke:#000000;stroke-width:2.0px;stroke-linecap:butt;stroke-linejoin:miter;stroke-opacity:1\"/>\n",
       "<path class=\"bond-12 atom-13 atom-14\" d=\"M 258.3,131.6 L 250.3,119.3\" style=\"fill:none;fill-rule:evenodd;stroke:#000000;stroke-width:2.0px;stroke-linecap:butt;stroke-linejoin:miter;stroke-opacity:1\"/>\n",
       "<path class=\"bond-13 atom-14 atom-15\" d=\"M 250.3,119.3 L 244.2,119.6\" style=\"fill:none;fill-rule:evenodd;stroke:#000000;stroke-width:2.0px;stroke-linecap:butt;stroke-linejoin:miter;stroke-opacity:1\"/>\n",
       "<path class=\"bond-13 atom-14 atom-15\" d=\"M 244.2,119.6 L 238.1,119.9\" style=\"fill:none;fill-rule:evenodd;stroke:#FF0000;stroke-width:2.0px;stroke-linecap:butt;stroke-linejoin:miter;stroke-opacity:1\"/>\n",
       "<path class=\"bond-14 atom-15 atom-16\" d=\"M 234.0,117.4 L 230.8,112.5\" style=\"fill:none;fill-rule:evenodd;stroke:#FF0000;stroke-width:2.0px;stroke-linecap:butt;stroke-linejoin:miter;stroke-opacity:1\"/>\n",
       "<path class=\"bond-14 atom-15 atom-16\" d=\"M 230.8,112.5 L 227.7,107.7\" style=\"fill:none;fill-rule:evenodd;stroke:#000000;stroke-width:2.0px;stroke-linecap:butt;stroke-linejoin:miter;stroke-opacity:1\"/>\n",
       "<path class=\"bond-15 atom-16 atom-17\" d=\"M 228.3,106.6 L 221.8,106.9\" style=\"fill:none;fill-rule:evenodd;stroke:#000000;stroke-width:2.0px;stroke-linecap:butt;stroke-linejoin:miter;stroke-opacity:1\"/>\n",
       "<path class=\"bond-15 atom-16 atom-17\" d=\"M 221.8,106.9 L 215.4,107.2\" style=\"fill:none;fill-rule:evenodd;stroke:#FF0000;stroke-width:2.0px;stroke-linecap:butt;stroke-linejoin:miter;stroke-opacity:1\"/>\n",
       "<path class=\"bond-15 atom-16 atom-17\" d=\"M 228.4,108.8 L 221.9,109.1\" style=\"fill:none;fill-rule:evenodd;stroke:#000000;stroke-width:2.0px;stroke-linecap:butt;stroke-linejoin:miter;stroke-opacity:1\"/>\n",
       "<path class=\"bond-15 atom-16 atom-17\" d=\"M 221.9,109.1 L 215.5,109.4\" style=\"fill:none;fill-rule:evenodd;stroke:#FF0000;stroke-width:2.0px;stroke-linecap:butt;stroke-linejoin:miter;stroke-opacity:1\"/>\n",
       "<path class=\"bond-16 atom-16 atom-18\" d=\"M 227.7,107.7 L 234.4,94.6\" style=\"fill:none;fill-rule:evenodd;stroke:#000000;stroke-width:2.0px;stroke-linecap:butt;stroke-linejoin:miter;stroke-opacity:1\"/>\n",
       "<path class=\"bond-17 atom-18 atom-19\" d=\"M 234.4,94.6 L 249.0,93.9\" style=\"fill:none;fill-rule:evenodd;stroke:#000000;stroke-width:2.0px;stroke-linecap:butt;stroke-linejoin:miter;stroke-opacity:1\"/>\n",
       "<path class=\"bond-18 atom-9 atom-19\" d=\"M 255.7,80.8 L 249.0,93.9\" style=\"fill:none;fill-rule:evenodd;stroke:#000000;stroke-width:2.0px;stroke-linecap:butt;stroke-linejoin:miter;stroke-opacity:1\"/>\n",
       "<path class=\"bond-19 atom-20 atom-21\" d=\"M 207.8,6.8 L 201.1,19.9\" style=\"fill:none;fill-rule:evenodd;stroke:#000000;stroke-width:2.0px;stroke-linecap:butt;stroke-linejoin:miter;stroke-opacity:1\"/>\n",
       "<path class=\"bond-20 atom-21 atom-22\" d=\"M 201.1,19.9 L 209.1,32.2\" style=\"fill:none;fill-rule:evenodd;stroke:#000000;stroke-width:2.0px;stroke-linecap:butt;stroke-linejoin:miter;stroke-opacity:1\"/>\n",
       "<path class=\"bond-21 atom-22 atom-23\" d=\"M 209.1,32.2 L 202.4,45.3\" style=\"fill:none;fill-rule:evenodd;stroke:#000000;stroke-width:2.0px;stroke-linecap:butt;stroke-linejoin:miter;stroke-opacity:1\"/>\n",
       "<path class=\"bond-22 atom-23 atom-24\" d=\"M 202.4,45.3 L 205.6,50.2\" style=\"fill:none;fill-rule:evenodd;stroke:#000000;stroke-width:2.0px;stroke-linecap:butt;stroke-linejoin:miter;stroke-opacity:1\"/>\n",
       "<path class=\"bond-22 atom-23 atom-24\" d=\"M 205.6,50.2 L 208.7,55.0\" style=\"fill:none;fill-rule:evenodd;stroke:#FF0000;stroke-width:2.0px;stroke-linecap:butt;stroke-linejoin:miter;stroke-opacity:1\"/>\n",
       "<path class=\"bond-23 atom-24 atom-25\" d=\"M 209.0,60.3 L 206.4,65.5\" style=\"fill:none;fill-rule:evenodd;stroke:#FF0000;stroke-width:2.0px;stroke-linecap:butt;stroke-linejoin:miter;stroke-opacity:1\"/>\n",
       "<path class=\"bond-23 atom-24 atom-25\" d=\"M 206.4,65.5 L 203.7,70.7\" style=\"fill:none;fill-rule:evenodd;stroke:#000000;stroke-width:2.0px;stroke-linecap:butt;stroke-linejoin:miter;stroke-opacity:1\"/>\n",
       "<path class=\"bond-24 atom-25 atom-26\" d=\"M 204.3,69.6 L 197.9,69.9\" style=\"fill:none;fill-rule:evenodd;stroke:#000000;stroke-width:2.0px;stroke-linecap:butt;stroke-linejoin:miter;stroke-opacity:1\"/>\n",
       "<path class=\"bond-24 atom-25 atom-26\" d=\"M 197.9,69.9 L 191.4,70.2\" style=\"fill:none;fill-rule:evenodd;stroke:#FF0000;stroke-width:2.0px;stroke-linecap:butt;stroke-linejoin:miter;stroke-opacity:1\"/>\n",
       "<path class=\"bond-24 atom-25 atom-26\" d=\"M 204.4,71.8 L 198.0,72.1\" style=\"fill:none;fill-rule:evenodd;stroke:#000000;stroke-width:2.0px;stroke-linecap:butt;stroke-linejoin:miter;stroke-opacity:1\"/>\n",
       "<path class=\"bond-24 atom-25 atom-26\" d=\"M 198.0,72.1 L 191.6,72.4\" style=\"fill:none;fill-rule:evenodd;stroke:#FF0000;stroke-width:2.0px;stroke-linecap:butt;stroke-linejoin:miter;stroke-opacity:1\"/>\n",
       "<path class=\"bond-25 atom-25 atom-27\" d=\"M 203.7,70.7 L 211.7,83.0\" style=\"fill:none;fill-rule:evenodd;stroke:#000000;stroke-width:2.0px;stroke-linecap:butt;stroke-linejoin:miter;stroke-opacity:1\"/>\n",
       "<path class=\"bond-26 atom-27 atom-28\" d=\"M 211.7,83.0 L 226.4,82.3\" style=\"fill:none;fill-rule:evenodd;stroke:#000000;stroke-width:2.0px;stroke-linecap:butt;stroke-linejoin:miter;stroke-opacity:1\"/>\n",
       "<path class=\"bond-27 atom-18 atom-28\" d=\"M 234.4,94.6 L 226.4,82.3\" style=\"fill:none;fill-rule:evenodd;stroke:#000000;stroke-width:2.0px;stroke-linecap:butt;stroke-linejoin:miter;stroke-opacity:1\"/>\n",
       "<path class=\"bond-28 atom-29 atom-30\" d=\"M 126.3,138.4 L 141.0,137.6\" style=\"fill:none;fill-rule:evenodd;stroke:#000000;stroke-width:2.0px;stroke-linecap:butt;stroke-linejoin:miter;stroke-opacity:1\"/>\n",
       "<path class=\"bond-29 atom-30 atom-31\" d=\"M 141.0,137.6 L 147.7,124.5\" style=\"fill:none;fill-rule:evenodd;stroke:#000000;stroke-width:2.0px;stroke-linecap:butt;stroke-linejoin:miter;stroke-opacity:1\"/>\n",
       "<path class=\"bond-30 atom-31 atom-32\" d=\"M 147.7,124.5 L 162.3,123.8\" style=\"fill:none;fill-rule:evenodd;stroke:#000000;stroke-width:2.0px;stroke-linecap:butt;stroke-linejoin:miter;stroke-opacity:1\"/>\n",
       "<path class=\"bond-31 atom-32 atom-33\" d=\"M 162.3,123.8 L 165.0,118.6\" style=\"fill:none;fill-rule:evenodd;stroke:#000000;stroke-width:2.0px;stroke-linecap:butt;stroke-linejoin:miter;stroke-opacity:1\"/>\n",
       "<path class=\"bond-31 atom-32 atom-33\" d=\"M 165.0,118.6 L 167.6,113.4\" style=\"fill:none;fill-rule:evenodd;stroke:#FF0000;stroke-width:2.0px;stroke-linecap:butt;stroke-linejoin:miter;stroke-opacity:1\"/>\n",
       "<path class=\"bond-32 atom-33 atom-34\" d=\"M 171.5,110.6 L 177.6,110.3\" style=\"fill:none;fill-rule:evenodd;stroke:#FF0000;stroke-width:2.0px;stroke-linecap:butt;stroke-linejoin:miter;stroke-opacity:1\"/>\n",
       "<path class=\"bond-32 atom-33 atom-34\" d=\"M 177.6,110.3 L 183.7,109.9\" style=\"fill:none;fill-rule:evenodd;stroke:#000000;stroke-width:2.0px;stroke-linecap:butt;stroke-linejoin:miter;stroke-opacity:1\"/>\n",
       "<path class=\"bond-33 atom-34 atom-35\" d=\"M 182.4,110.0 L 185.7,115.1\" style=\"fill:none;fill-rule:evenodd;stroke:#000000;stroke-width:2.0px;stroke-linecap:butt;stroke-linejoin:miter;stroke-opacity:1\"/>\n",
       "<path class=\"bond-33 atom-34 atom-35\" d=\"M 185.7,115.1 L 189.0,120.2\" style=\"fill:none;fill-rule:evenodd;stroke:#FF0000;stroke-width:2.0px;stroke-linecap:butt;stroke-linejoin:miter;stroke-opacity:1\"/>\n",
       "<path class=\"bond-33 atom-34 atom-35\" d=\"M 184.3,108.8 L 187.6,113.9\" style=\"fill:none;fill-rule:evenodd;stroke:#000000;stroke-width:2.0px;stroke-linecap:butt;stroke-linejoin:miter;stroke-opacity:1\"/>\n",
       "<path class=\"bond-33 atom-34 atom-35\" d=\"M 187.6,113.9 L 190.9,119.0\" style=\"fill:none;fill-rule:evenodd;stroke:#FF0000;stroke-width:2.0px;stroke-linecap:butt;stroke-linejoin:miter;stroke-opacity:1\"/>\n",
       "<path class=\"bond-34 atom-34 atom-36\" d=\"M 183.7,109.9 L 190.4,96.9\" style=\"fill:none;fill-rule:evenodd;stroke:#000000;stroke-width:2.0px;stroke-linecap:butt;stroke-linejoin:miter;stroke-opacity:1\"/>\n",
       "<path class=\"bond-35 atom-36 atom-37\" d=\"M 190.4,96.9 L 205.0,96.1\" style=\"fill:none;fill-rule:evenodd;stroke:#000000;stroke-width:2.0px;stroke-linecap:butt;stroke-linejoin:miter;stroke-opacity:1\"/>\n",
       "<path class=\"bond-36 atom-27 atom-37\" d=\"M 211.7,83.0 L 205.0,96.1\" style=\"fill:none;fill-rule:evenodd;stroke:#000000;stroke-width:2.0px;stroke-linecap:butt;stroke-linejoin:miter;stroke-opacity:1\"/>\n",
       "<path class=\"bond-37 atom-38 atom-39\" d=\"M 182.4,84.5 L 167.7,85.3\" style=\"fill:none;fill-rule:evenodd;stroke:#000000;stroke-width:2.0px;stroke-linecap:butt;stroke-linejoin:miter;stroke-opacity:1\"/>\n",
       "<path class=\"bond-38 atom-36 atom-38\" d=\"M 190.4,96.9 L 182.4,84.5\" style=\"fill:none;fill-rule:evenodd;stroke:#000000;stroke-width:2.0px;stroke-linecap:butt;stroke-linejoin:miter;stroke-opacity:1\"/>\n",
       "<path d=\"M 232.9,69.0 L 233.1,69.2 L 233.8,69.2\" style=\"fill:none;stroke:#000000;stroke-width:2.0px;stroke-linecap:butt;stroke-linejoin:miter;stroke-opacity:1;\"/>\n",
       "<path d=\"M 316.1,103.8 L 315.7,103.2 L 315.0,103.2\" style=\"fill:none;stroke:#000000;stroke-width:2.0px;stroke-linecap:butt;stroke-linejoin:miter;stroke-opacity:1;\"/>\n",
       "<path d=\"M 301.8,103.9 L 301.0,103.9 L 300.6,103.3\" style=\"fill:none;stroke:#000000;stroke-width:2.0px;stroke-linecap:butt;stroke-linejoin:miter;stroke-opacity:1;\"/>\n",
       "<path d=\"M 293.5,92.2 L 293.1,91.6 L 292.7,91.6\" style=\"fill:none;stroke:#000000;stroke-width:2.0px;stroke-linecap:butt;stroke-linejoin:miter;stroke-opacity:1;\"/>\n",
       "<path d=\"M 270.6,80.3 L 270.4,80.0 L 269.7,80.1\" style=\"fill:none;stroke:#000000;stroke-width:2.0px;stroke-linecap:butt;stroke-linejoin:miter;stroke-opacity:1;\"/>\n",
       "<path d=\"M 248.1,69.1 L 247.7,68.5 L 247.0,68.5\" style=\"fill:none;stroke:#000000;stroke-width:2.0px;stroke-linecap:butt;stroke-linejoin:miter;stroke-opacity:1;\"/>\n",
       "<path d=\"M 273.4,131.5 L 273.0,130.9 L 272.3,130.9\" style=\"fill:none;stroke:#000000;stroke-width:2.0px;stroke-linecap:butt;stroke-linejoin:miter;stroke-opacity:1;\"/>\n",
       "<path d=\"M 259.1,131.6 L 258.3,131.6 L 257.9,131.0\" style=\"fill:none;stroke:#000000;stroke-width:2.0px;stroke-linecap:butt;stroke-linejoin:miter;stroke-opacity:1;\"/>\n",
       "<path d=\"M 250.7,119.9 L 250.3,119.3 L 250.0,119.3\" style=\"fill:none;stroke:#000000;stroke-width:2.0px;stroke-linecap:butt;stroke-linejoin:miter;stroke-opacity:1;\"/>\n",
       "<path d=\"M 227.8,107.9 L 227.7,107.7 L 228.0,107.0\" style=\"fill:none;stroke:#000000;stroke-width:2.0px;stroke-linecap:butt;stroke-linejoin:miter;stroke-opacity:1;\"/>\n",
       "<path d=\"M 248.3,93.9 L 249.0,93.9 L 249.4,93.2\" style=\"fill:none;stroke:#000000;stroke-width:2.0px;stroke-linecap:butt;stroke-linejoin:miter;stroke-opacity:1;\"/>\n",
       "<path d=\"M 201.5,19.2 L 201.1,19.9 L 201.5,20.5\" style=\"fill:none;stroke:#000000;stroke-width:2.0px;stroke-linecap:butt;stroke-linejoin:miter;stroke-opacity:1;\"/>\n",
       "<path d=\"M 208.7,31.6 L 209.1,32.2 L 208.8,32.9\" style=\"fill:none;stroke:#000000;stroke-width:2.0px;stroke-linecap:butt;stroke-linejoin:miter;stroke-opacity:1;\"/>\n",
       "<path d=\"M 202.8,44.7 L 202.4,45.3 L 202.6,45.5\" style=\"fill:none;stroke:#000000;stroke-width:2.0px;stroke-linecap:butt;stroke-linejoin:miter;stroke-opacity:1;\"/>\n",
       "<path d=\"M 203.9,70.5 L 203.7,70.7 L 204.1,71.3\" style=\"fill:none;stroke:#000000;stroke-width:2.0px;stroke-linecap:butt;stroke-linejoin:miter;stroke-opacity:1;\"/>\n",
       "<path d=\"M 225.7,82.3 L 226.4,82.3 L 226.8,82.9\" style=\"fill:none;stroke:#000000;stroke-width:2.0px;stroke-linecap:butt;stroke-linejoin:miter;stroke-opacity:1;\"/>\n",
       "<path d=\"M 140.2,137.6 L 141.0,137.6 L 141.3,137.0\" style=\"fill:none;stroke:#000000;stroke-width:2.0px;stroke-linecap:butt;stroke-linejoin:miter;stroke-opacity:1;\"/>\n",
       "<path d=\"M 147.3,125.2 L 147.7,124.5 L 148.4,124.5\" style=\"fill:none;stroke:#000000;stroke-width:2.0px;stroke-linecap:butt;stroke-linejoin:miter;stroke-opacity:1;\"/>\n",
       "<path d=\"M 161.6,123.8 L 162.3,123.8 L 162.5,123.5\" style=\"fill:none;stroke:#000000;stroke-width:2.0px;stroke-linecap:butt;stroke-linejoin:miter;stroke-opacity:1;\"/>\n",
       "<path d=\"M 183.4,110.0 L 183.7,109.9 L 184.0,109.3\" style=\"fill:none;stroke:#000000;stroke-width:2.0px;stroke-linecap:butt;stroke-linejoin:miter;stroke-opacity:1;\"/>\n",
       "<path d=\"M 204.3,96.2 L 205.0,96.1 L 205.4,95.5\" style=\"fill:none;stroke:#000000;stroke-width:2.0px;stroke-linecap:butt;stroke-linejoin:miter;stroke-opacity:1;\"/>\n",
       "<path d=\"M 181.7,84.6 L 182.4,84.5 L 182.8,85.2\" style=\"fill:none;stroke:#000000;stroke-width:2.0px;stroke-linecap:butt;stroke-linejoin:miter;stroke-opacity:1;\"/>\n",
       "<path class=\"atom-0\" d=\"M 224.1 56.3 Q 224.1 55.3, 224.6 54.7 Q 225.1 54.1, 226.0 54.1 Q 227.0 54.1, 227.5 54.7 Q 228.0 55.3, 228.0 56.3 Q 228.0 57.3, 227.5 57.9 Q 226.9 58.5, 226.0 58.5 Q 225.1 58.5, 224.6 57.9 Q 224.1 57.3, 224.1 56.3 M 226.0 58.0 Q 226.7 58.0, 227.0 57.6 Q 227.4 57.1, 227.4 56.3 Q 227.4 55.5, 227.0 55.0 Q 226.7 54.6, 226.0 54.6 Q 225.4 54.6, 225.0 55.0 Q 224.7 55.5, 224.7 56.3 Q 224.7 57.2, 225.0 57.6 Q 225.4 58.0, 226.0 58.0 \" fill=\"#FF0000\"/>\n",
       "<path class=\"atom-6\" d=\"M 276.4 92.4 Q 276.4 91.4, 276.9 90.8 Q 277.4 90.2, 278.4 90.2 Q 279.3 90.2, 279.8 90.8 Q 280.3 91.4, 280.3 92.4 Q 280.3 93.4, 279.8 94.0 Q 279.3 94.6, 278.4 94.6 Q 277.4 94.6, 276.9 94.0 Q 276.4 93.4, 276.4 92.4 M 278.4 94.1 Q 279.0 94.1, 279.4 93.7 Q 279.7 93.2, 279.7 92.4 Q 279.7 91.5, 279.4 91.1 Q 279.0 90.7, 278.4 90.7 Q 277.7 90.7, 277.4 91.1 Q 277.0 91.5, 277.0 92.4 Q 277.0 93.2, 277.4 93.7 Q 277.7 94.1, 278.4 94.1 \" fill=\"#FF0000\"/>\n",
       "<path class=\"atom-8\" d=\"M 275.1 67.0 Q 275.1 66.0, 275.6 65.4 Q 276.1 64.8, 277.1 64.8 Q 278.0 64.8, 278.5 65.4 Q 279.0 66.0, 279.0 67.0 Q 279.0 68.0, 278.5 68.6 Q 278.0 69.2, 277.1 69.2 Q 276.1 69.2, 275.6 68.6 Q 275.1 68.0, 275.1 67.0 M 277.1 68.7 Q 277.7 68.7, 278.1 68.3 Q 278.4 67.8, 278.4 67.0 Q 278.4 66.1, 278.1 65.7 Q 277.7 65.3, 277.1 65.3 Q 276.4 65.3, 276.1 65.7 Q 275.7 66.1, 275.7 67.0 Q 275.7 67.8, 276.1 68.3 Q 276.4 68.7, 277.1 68.7 \" fill=\"#FF0000\"/>\n",
       "<path class=\"atom-15\" d=\"M 233.7 120.0 Q 233.7 119.0, 234.2 118.4 Q 234.7 117.9, 235.7 117.9 Q 236.6 117.9, 237.1 118.4 Q 237.6 119.0, 237.6 120.0 Q 237.6 121.1, 237.1 121.7 Q 236.6 122.2, 235.7 122.2 Q 234.7 122.2, 234.2 121.7 Q 233.7 121.1, 233.7 120.0 M 235.7 121.8 Q 236.3 121.8, 236.7 121.3 Q 237.0 120.9, 237.0 120.0 Q 237.0 119.2, 236.7 118.8 Q 236.3 118.4, 235.7 118.4 Q 235.0 118.4, 234.7 118.8 Q 234.3 119.2, 234.3 120.0 Q 234.3 120.9, 234.7 121.3 Q 235.0 121.8, 235.7 121.8 \" fill=\"#FF0000\"/>\n",
       "<path class=\"atom-17\" d=\"M 211.1 108.5 Q 211.1 107.4, 211.6 106.9 Q 212.1 106.3, 213.0 106.3 Q 214.0 106.3, 214.5 106.9 Q 215.0 107.4, 215.0 108.5 Q 215.0 109.5, 214.5 110.1 Q 214.0 110.7, 213.0 110.7 Q 212.1 110.7, 211.6 110.1 Q 211.1 109.5, 211.1 108.5 M 213.0 110.2 Q 213.7 110.2, 214.0 109.8 Q 214.4 109.3, 214.4 108.5 Q 214.4 107.6, 214.0 107.2 Q 213.7 106.8, 213.0 106.8 Q 212.4 106.8, 212.0 107.2 Q 211.7 107.6, 211.7 108.5 Q 211.7 109.3, 212.0 109.8 Q 212.4 110.2, 213.0 110.2 \" fill=\"#FF0000\"/>\n",
       "<path class=\"atom-24\" d=\"M 208.5 57.6 Q 208.5 56.6, 209.0 56.1 Q 209.5 55.5, 210.4 55.5 Q 211.4 55.5, 211.9 56.1 Q 212.4 56.6, 212.4 57.6 Q 212.4 58.7, 211.9 59.3 Q 211.4 59.8, 210.4 59.8 Q 209.5 59.8, 209.0 59.3 Q 208.5 58.7, 208.5 57.6 M 210.4 59.4 Q 211.1 59.4, 211.4 58.9 Q 211.8 58.5, 211.8 57.6 Q 211.8 56.8, 211.4 56.4 Q 211.1 56.0, 210.4 56.0 Q 209.8 56.0, 209.4 56.4 Q 209.1 56.8, 209.1 57.6 Q 209.1 58.5, 209.4 58.9 Q 209.8 59.4, 210.4 59.4 \" fill=\"#FF0000\"/>\n",
       "<path class=\"atom-26\" d=\"M 187.1 71.5 Q 187.1 70.5, 187.6 69.9 Q 188.1 69.3, 189.1 69.3 Q 190.0 69.3, 190.5 69.9 Q 191.0 70.5, 191.0 71.5 Q 191.0 72.5, 190.5 73.1 Q 190.0 73.7, 189.1 73.7 Q 188.1 73.7, 187.6 73.1 Q 187.1 72.5, 187.1 71.5 M 189.1 73.2 Q 189.7 73.2, 190.1 72.8 Q 190.4 72.3, 190.4 71.5 Q 190.4 70.6, 190.1 70.2 Q 189.7 69.8, 189.1 69.8 Q 188.4 69.8, 188.1 70.2 Q 187.7 70.6, 187.7 71.5 Q 187.7 72.3, 188.1 72.8 Q 188.4 73.2, 189.1 73.2 \" fill=\"#FF0000\"/>\n",
       "<path class=\"atom-33\" d=\"M 167.1 110.7 Q 167.1 109.7, 167.6 109.1 Q 168.1 108.6, 169.0 108.6 Q 170.0 108.6, 170.5 109.1 Q 171.0 109.7, 171.0 110.7 Q 171.0 111.7, 170.5 112.3 Q 169.9 112.9, 169.0 112.9 Q 168.1 112.9, 167.6 112.3 Q 167.1 111.8, 167.1 110.7 M 169.0 112.4 Q 169.7 112.4, 170.0 112.0 Q 170.4 111.6, 170.4 110.7 Q 170.4 109.9, 170.0 109.5 Q 169.7 109.0, 169.0 109.0 Q 168.4 109.0, 168.0 109.5 Q 167.7 109.9, 167.7 110.7 Q 167.7 111.6, 168.0 112.0 Q 168.4 112.4, 169.0 112.4 \" fill=\"#FF0000\"/>\n",
       "<path class=\"atom-35\" d=\"M 189.7 122.3 Q 189.7 121.3, 190.2 120.7 Q 190.7 120.1, 191.7 120.1 Q 192.6 120.1, 193.1 120.7 Q 193.6 121.3, 193.6 122.3 Q 193.6 123.3, 193.1 123.9 Q 192.6 124.5, 191.7 124.5 Q 190.7 124.5, 190.2 123.9 Q 189.7 123.3, 189.7 122.3 M 191.7 124.0 Q 192.3 124.0, 192.7 123.6 Q 193.0 123.1, 193.0 122.3 Q 193.0 121.5, 192.7 121.0 Q 192.3 120.6, 191.7 120.6 Q 191.0 120.6, 190.7 121.0 Q 190.3 121.5, 190.3 122.3 Q 190.3 123.1, 190.7 123.6 Q 191.0 124.0, 191.7 124.0 \" fill=\"#FF0000\"/>\n",
       "</svg>"
      ],
      "text/plain": [
       "<IPython.core.display.SVG object>"
      ]
     },
     "execution_count": 85,
     "metadata": {},
     "output_type": "execute_result"
    }
   ],
   "source": [
    "big_smiles_gen(big)"
   ]
  },
  {
   "cell_type": "code",
   "execution_count": 86,
   "id": "34ce9e61",
   "metadata": {},
   "outputs": [
    {
     "name": "stdout",
     "output_type": "stream",
     "text": [
      "CCCCOC(=O)C(CC)CC(CC(CC=O)C(=O)OCCCC)C(=O)OCCCC\n",
      "0.1963313223155807\n",
      "48\n"
     ]
    },
    {
     "data": {
      "image/svg+xml": [
       "<svg xmlns=\"http://www.w3.org/2000/svg\" xmlns:rdkit=\"http://www.rdkit.org/xml\" xmlns:xlink=\"http://www.w3.org/1999/xlink\" version=\"1.1\" baseProfile=\"full\" xml:space=\"preserve\" width=\"450px\" height=\"150px\" viewBox=\"0 0 450 150\">\n",
       "<!-- END OF HEADER -->\n",
       "<rect style=\"opacity:1.0;fill:#FFFFFF;stroke:none\" width=\"450.0\" height=\"150.0\" x=\"0.0\" y=\"0.0\"> </rect>\n",
       "<path class=\"bond-0 atom-0 atom-1\" d=\"M 209.7,15.2 L 215.4,21.5\" style=\"fill:none;fill-rule:evenodd;stroke:#FF0000;stroke-width:2.0px;stroke-linecap:butt;stroke-linejoin:miter;stroke-opacity:1\"/>\n",
       "<path class=\"bond-0 atom-0 atom-1\" d=\"M 215.4,21.5 L 221.0,27.8\" style=\"fill:none;fill-rule:evenodd;stroke:#000000;stroke-width:2.0px;stroke-linecap:butt;stroke-linejoin:miter;stroke-opacity:1\"/>\n",
       "<path class=\"bond-0 atom-0 atom-1\" d=\"M 212.2,12.9 L 217.9,19.2\" style=\"fill:none;fill-rule:evenodd;stroke:#FF0000;stroke-width:2.0px;stroke-linecap:butt;stroke-linejoin:miter;stroke-opacity:1\"/>\n",
       "<path class=\"bond-0 atom-0 atom-1\" d=\"M 217.9,19.2 L 222.2,24.1\" style=\"fill:none;fill-rule:evenodd;stroke:#000000;stroke-width:2.0px;stroke-linecap:butt;stroke-linejoin:miter;stroke-opacity:1\"/>\n",
       "<path class=\"bond-1 atom-2 atom-3\" d=\"M 368.2,76.0 L 353.3,59.3\" style=\"fill:none;fill-rule:evenodd;stroke:#000000;stroke-width:2.0px;stroke-linecap:butt;stroke-linejoin:miter;stroke-opacity:1\"/>\n",
       "<path class=\"bond-2 atom-3 atom-4\" d=\"M 353.3,59.3 L 331.4,63.9\" style=\"fill:none;fill-rule:evenodd;stroke:#000000;stroke-width:2.0px;stroke-linecap:butt;stroke-linejoin:miter;stroke-opacity:1\"/>\n",
       "<path class=\"bond-3 atom-4 atom-5\" d=\"M 331.4,63.9 L 316.5,47.3\" style=\"fill:none;fill-rule:evenodd;stroke:#000000;stroke-width:2.0px;stroke-linecap:butt;stroke-linejoin:miter;stroke-opacity:1\"/>\n",
       "<path class=\"bond-4 atom-5 atom-6\" d=\"M 316.5,47.3 L 307.4,49.2\" style=\"fill:none;fill-rule:evenodd;stroke:#000000;stroke-width:2.0px;stroke-linecap:butt;stroke-linejoin:miter;stroke-opacity:1\"/>\n",
       "<path class=\"bond-4 atom-5 atom-6\" d=\"M 307.4,49.2 L 298.2,51.1\" style=\"fill:none;fill-rule:evenodd;stroke:#FF0000;stroke-width:2.0px;stroke-linecap:butt;stroke-linejoin:miter;stroke-opacity:1\"/>\n",
       "<path class=\"bond-5 atom-6 atom-7\" d=\"M 291.1,48.0 L 285.4,41.6\" style=\"fill:none;fill-rule:evenodd;stroke:#FF0000;stroke-width:2.0px;stroke-linecap:butt;stroke-linejoin:miter;stroke-opacity:1\"/>\n",
       "<path class=\"bond-5 atom-6 atom-7\" d=\"M 285.4,41.6 L 279.7,35.2\" style=\"fill:none;fill-rule:evenodd;stroke:#000000;stroke-width:2.0px;stroke-linecap:butt;stroke-linejoin:miter;stroke-opacity:1\"/>\n",
       "<path class=\"bond-6 atom-7 atom-8\" d=\"M 281.0,36.7 L 283.9,27.6\" style=\"fill:none;fill-rule:evenodd;stroke:#000000;stroke-width:2.0px;stroke-linecap:butt;stroke-linejoin:miter;stroke-opacity:1\"/>\n",
       "<path class=\"bond-6 atom-7 atom-8\" d=\"M 283.9,27.6 L 286.9,18.6\" style=\"fill:none;fill-rule:evenodd;stroke:#FF0000;stroke-width:2.0px;stroke-linecap:butt;stroke-linejoin:miter;stroke-opacity:1\"/>\n",
       "<path class=\"bond-6 atom-7 atom-8\" d=\"M 277.8,35.6 L 280.8,26.6\" style=\"fill:none;fill-rule:evenodd;stroke:#000000;stroke-width:2.0px;stroke-linecap:butt;stroke-linejoin:miter;stroke-opacity:1\"/>\n",
       "<path class=\"bond-6 atom-7 atom-8\" d=\"M 280.8,26.6 L 283.7,17.5\" style=\"fill:none;fill-rule:evenodd;stroke:#FF0000;stroke-width:2.0px;stroke-linecap:butt;stroke-linejoin:miter;stroke-opacity:1\"/>\n",
       "<path class=\"bond-7 atom-7 atom-9\" d=\"M 279.7,35.2 L 257.8,39.8\" style=\"fill:none;fill-rule:evenodd;stroke:#000000;stroke-width:2.0px;stroke-linecap:butt;stroke-linejoin:miter;stroke-opacity:1\"/>\n",
       "<path class=\"bond-8 atom-9 atom-10\" d=\"M 257.8,39.8 L 242.9,23.2\" style=\"fill:none;fill-rule:evenodd;stroke:#000000;stroke-width:2.0px;stroke-linecap:butt;stroke-linejoin:miter;stroke-opacity:1\"/>\n",
       "<path class=\"bond-9 atom-1 atom-10\" d=\"M 221.0,27.8 L 242.9,23.2\" style=\"fill:none;fill-rule:evenodd;stroke:#000000;stroke-width:2.0px;stroke-linecap:butt;stroke-linejoin:miter;stroke-opacity:1\"/>\n",
       "<path class=\"bond-10 atom-11 atom-12\" d=\"M 142.5,143.2 L 164.4,138.6\" style=\"fill:none;fill-rule:evenodd;stroke:#000000;stroke-width:2.0px;stroke-linecap:butt;stroke-linejoin:miter;stroke-opacity:1\"/>\n",
       "<path class=\"bond-11 atom-12 atom-13\" d=\"M 164.4,138.6 L 171.3,117.3\" style=\"fill:none;fill-rule:evenodd;stroke:#000000;stroke-width:2.0px;stroke-linecap:butt;stroke-linejoin:miter;stroke-opacity:1\"/>\n",
       "<path class=\"bond-12 atom-13 atom-14\" d=\"M 171.3,117.3 L 193.2,112.8\" style=\"fill:none;fill-rule:evenodd;stroke:#000000;stroke-width:2.0px;stroke-linecap:butt;stroke-linejoin:miter;stroke-opacity:1\"/>\n",
       "<path class=\"bond-13 atom-14 atom-15\" d=\"M 193.2,112.8 L 196.0,104.1\" style=\"fill:none;fill-rule:evenodd;stroke:#000000;stroke-width:2.0px;stroke-linecap:butt;stroke-linejoin:miter;stroke-opacity:1\"/>\n",
       "<path class=\"bond-13 atom-14 atom-15\" d=\"M 196.0,104.1 L 198.8,95.5\" style=\"fill:none;fill-rule:evenodd;stroke:#FF0000;stroke-width:2.0px;stroke-linecap:butt;stroke-linejoin:miter;stroke-opacity:1\"/>\n",
       "<path class=\"bond-14 atom-15 atom-16\" d=\"M 203.8,90.7 L 212.9,88.8\" style=\"fill:none;fill-rule:evenodd;stroke:#FF0000;stroke-width:2.0px;stroke-linecap:butt;stroke-linejoin:miter;stroke-opacity:1\"/>\n",
       "<path class=\"bond-14 atom-15 atom-16\" d=\"M 212.9,88.8 L 222.0,86.9\" style=\"fill:none;fill-rule:evenodd;stroke:#000000;stroke-width:2.0px;stroke-linecap:butt;stroke-linejoin:miter;stroke-opacity:1\"/>\n",
       "<path class=\"bond-15 atom-16 atom-17\" d=\"M 220.1,87.3 L 226.1,94.0\" style=\"fill:none;fill-rule:evenodd;stroke:#000000;stroke-width:2.0px;stroke-linecap:butt;stroke-linejoin:miter;stroke-opacity:1\"/>\n",
       "<path class=\"bond-15 atom-16 atom-17\" d=\"M 226.1,94.0 L 232.2,100.7\" style=\"fill:none;fill-rule:evenodd;stroke:#FF0000;stroke-width:2.0px;stroke-linecap:butt;stroke-linejoin:miter;stroke-opacity:1\"/>\n",
       "<path class=\"bond-15 atom-16 atom-17\" d=\"M 222.6,85.1 L 228.6,91.8\" style=\"fill:none;fill-rule:evenodd;stroke:#000000;stroke-width:2.0px;stroke-linecap:butt;stroke-linejoin:miter;stroke-opacity:1\"/>\n",
       "<path class=\"bond-15 atom-16 atom-17\" d=\"M 228.6,91.8 L 234.7,98.5\" style=\"fill:none;fill-rule:evenodd;stroke:#FF0000;stroke-width:2.0px;stroke-linecap:butt;stroke-linejoin:miter;stroke-opacity:1\"/>\n",
       "<path class=\"bond-16 atom-16 atom-18\" d=\"M 222.0,86.9 L 229.0,65.7\" style=\"fill:none;fill-rule:evenodd;stroke:#000000;stroke-width:2.0px;stroke-linecap:butt;stroke-linejoin:miter;stroke-opacity:1\"/>\n",
       "<path class=\"bond-17 atom-18 atom-19\" d=\"M 229.0,65.7 L 250.9,61.1\" style=\"fill:none;fill-rule:evenodd;stroke:#000000;stroke-width:2.0px;stroke-linecap:butt;stroke-linejoin:miter;stroke-opacity:1\"/>\n",
       "<path class=\"bond-18 atom-9 atom-19\" d=\"M 257.8,39.8 L 250.9,61.1\" style=\"fill:none;fill-rule:evenodd;stroke:#000000;stroke-width:2.0px;stroke-linecap:butt;stroke-linejoin:miter;stroke-opacity:1\"/>\n",
       "<path class=\"bond-19 atom-20 atom-21\" d=\"M 81.8,17.5 L 103.7,12.9\" style=\"fill:none;fill-rule:evenodd;stroke:#000000;stroke-width:2.0px;stroke-linecap:butt;stroke-linejoin:miter;stroke-opacity:1\"/>\n",
       "<path class=\"bond-20 atom-21 atom-22\" d=\"M 103.7,12.9 L 118.6,29.5\" style=\"fill:none;fill-rule:evenodd;stroke:#000000;stroke-width:2.0px;stroke-linecap:butt;stroke-linejoin:miter;stroke-opacity:1\"/>\n",
       "<path class=\"bond-21 atom-22 atom-23\" d=\"M 118.6,29.5 L 140.5,24.9\" style=\"fill:none;fill-rule:evenodd;stroke:#000000;stroke-width:2.0px;stroke-linecap:butt;stroke-linejoin:miter;stroke-opacity:1\"/>\n",
       "<path class=\"bond-22 atom-23 atom-24\" d=\"M 140.5,24.9 L 146.2,31.3\" style=\"fill:none;fill-rule:evenodd;stroke:#000000;stroke-width:2.0px;stroke-linecap:butt;stroke-linejoin:miter;stroke-opacity:1\"/>\n",
       "<path class=\"bond-22 atom-23 atom-24\" d=\"M 146.2,31.3 L 151.9,37.6\" style=\"fill:none;fill-rule:evenodd;stroke:#FF0000;stroke-width:2.0px;stroke-linecap:butt;stroke-linejoin:miter;stroke-opacity:1\"/>\n",
       "<path class=\"bond-23 atom-24 atom-25\" d=\"M 159.0,40.8 L 168.2,38.9\" style=\"fill:none;fill-rule:evenodd;stroke:#FF0000;stroke-width:2.0px;stroke-linecap:butt;stroke-linejoin:miter;stroke-opacity:1\"/>\n",
       "<path class=\"bond-23 atom-24 atom-25\" d=\"M 168.2,38.9 L 177.3,37.0\" style=\"fill:none;fill-rule:evenodd;stroke:#000000;stroke-width:2.0px;stroke-linecap:butt;stroke-linejoin:miter;stroke-opacity:1\"/>\n",
       "<path class=\"bond-24 atom-25 atom-26\" d=\"M 178.6,38.4 L 181.5,29.4\" style=\"fill:none;fill-rule:evenodd;stroke:#000000;stroke-width:2.0px;stroke-linecap:butt;stroke-linejoin:miter;stroke-opacity:1\"/>\n",
       "<path class=\"bond-24 atom-25 atom-26\" d=\"M 181.5,29.4 L 184.5,20.3\" style=\"fill:none;fill-rule:evenodd;stroke:#FF0000;stroke-width:2.0px;stroke-linecap:butt;stroke-linejoin:miter;stroke-opacity:1\"/>\n",
       "<path class=\"bond-24 atom-25 atom-26\" d=\"M 175.4,37.4 L 178.3,28.3\" style=\"fill:none;fill-rule:evenodd;stroke:#000000;stroke-width:2.0px;stroke-linecap:butt;stroke-linejoin:miter;stroke-opacity:1\"/>\n",
       "<path class=\"bond-24 atom-25 atom-26\" d=\"M 178.3,28.3 L 181.3,19.2\" style=\"fill:none;fill-rule:evenodd;stroke:#FF0000;stroke-width:2.0px;stroke-linecap:butt;stroke-linejoin:miter;stroke-opacity:1\"/>\n",
       "<path class=\"bond-25 atom-25 atom-27\" d=\"M 177.3,37.0 L 192.2,53.6\" style=\"fill:none;fill-rule:evenodd;stroke:#000000;stroke-width:2.0px;stroke-linecap:butt;stroke-linejoin:miter;stroke-opacity:1\"/>\n",
       "<path class=\"bond-26 atom-27 atom-28\" d=\"M 192.2,53.6 L 214.1,49.0\" style=\"fill:none;fill-rule:evenodd;stroke:#000000;stroke-width:2.0px;stroke-linecap:butt;stroke-linejoin:miter;stroke-opacity:1\"/>\n",
       "<path class=\"bond-27 atom-18 atom-28\" d=\"M 229.0,65.7 L 214.1,49.0\" style=\"fill:none;fill-rule:evenodd;stroke:#000000;stroke-width:2.0px;stroke-linecap:butt;stroke-linejoin:miter;stroke-opacity:1\"/>\n",
       "<path class=\"bond-28 atom-29 atom-30\" d=\"M 185.2,74.9 L 163.4,79.5\" style=\"fill:none;fill-rule:evenodd;stroke:#000000;stroke-width:2.0px;stroke-linecap:butt;stroke-linejoin:miter;stroke-opacity:1\"/>\n",
       "<path class=\"bond-29 atom-27 atom-29\" d=\"M 192.2,53.6 L 185.2,74.9\" style=\"fill:none;fill-rule:evenodd;stroke:#000000;stroke-width:2.0px;stroke-linecap:butt;stroke-linejoin:miter;stroke-opacity:1\"/>\n",
       "<path d=\"M 220.7,27.5 L 221.0,27.8 L 222.1,27.6\" style=\"fill:none;stroke:#000000;stroke-width:2.0px;stroke-linecap:butt;stroke-linejoin:miter;stroke-opacity:1;\"/>\n",
       "<path d=\"M 354.0,60.2 L 353.3,59.3 L 352.2,59.6\" style=\"fill:none;stroke:#000000;stroke-width:2.0px;stroke-linecap:butt;stroke-linejoin:miter;stroke-opacity:1;\"/>\n",
       "<path d=\"M 332.5,63.7 L 331.4,63.9 L 330.6,63.1\" style=\"fill:none;stroke:#000000;stroke-width:2.0px;stroke-linecap:butt;stroke-linejoin:miter;stroke-opacity:1;\"/>\n",
       "<path d=\"M 317.2,48.1 L 316.5,47.3 L 316.0,47.4\" style=\"fill:none;stroke:#000000;stroke-width:2.0px;stroke-linecap:butt;stroke-linejoin:miter;stroke-opacity:1;\"/>\n",
       "<path d=\"M 280.0,35.6 L 279.7,35.2 L 278.6,35.5\" style=\"fill:none;stroke:#000000;stroke-width:2.0px;stroke-linecap:butt;stroke-linejoin:miter;stroke-opacity:1;\"/>\n",
       "<path d=\"M 243.6,24.0 L 242.9,23.2 L 241.8,23.4\" style=\"fill:none;stroke:#000000;stroke-width:2.0px;stroke-linecap:butt;stroke-linejoin:miter;stroke-opacity:1;\"/>\n",
       "<path d=\"M 163.3,138.8 L 164.4,138.6 L 164.7,137.5\" style=\"fill:none;stroke:#000000;stroke-width:2.0px;stroke-linecap:butt;stroke-linejoin:miter;stroke-opacity:1;\"/>\n",
       "<path d=\"M 171.0,118.4 L 171.3,117.3 L 172.4,117.1\" style=\"fill:none;stroke:#000000;stroke-width:2.0px;stroke-linecap:butt;stroke-linejoin:miter;stroke-opacity:1;\"/>\n",
       "<path d=\"M 192.1,113.0 L 193.2,112.8 L 193.3,112.3\" style=\"fill:none;stroke:#000000;stroke-width:2.0px;stroke-linecap:butt;stroke-linejoin:miter;stroke-opacity:1;\"/>\n",
       "<path d=\"M 221.6,87.0 L 222.0,86.9 L 222.4,85.9\" style=\"fill:none;stroke:#000000;stroke-width:2.0px;stroke-linecap:butt;stroke-linejoin:miter;stroke-opacity:1;\"/>\n",
       "<path d=\"M 249.8,61.3 L 250.9,61.1 L 251.2,60.0\" style=\"fill:none;stroke:#000000;stroke-width:2.0px;stroke-linecap:butt;stroke-linejoin:miter;stroke-opacity:1;\"/>\n",
       "<path d=\"M 102.6,13.1 L 103.7,12.9 L 104.4,13.7\" style=\"fill:none;stroke:#000000;stroke-width:2.0px;stroke-linecap:butt;stroke-linejoin:miter;stroke-opacity:1;\"/>\n",
       "<path d=\"M 117.9,28.7 L 118.6,29.5 L 119.7,29.3\" style=\"fill:none;stroke:#000000;stroke-width:2.0px;stroke-linecap:butt;stroke-linejoin:miter;stroke-opacity:1;\"/>\n",
       "<path d=\"M 139.4,25.2 L 140.5,24.9 L 140.8,25.2\" style=\"fill:none;stroke:#000000;stroke-width:2.0px;stroke-linecap:butt;stroke-linejoin:miter;stroke-opacity:1;\"/>\n",
       "<path d=\"M 176.8,37.1 L 177.3,37.0 L 178.0,37.8\" style=\"fill:none;stroke:#000000;stroke-width:2.0px;stroke-linecap:butt;stroke-linejoin:miter;stroke-opacity:1;\"/>\n",
       "<path d=\"M 213.0,49.3 L 214.1,49.0 L 214.8,49.9\" style=\"fill:none;stroke:#000000;stroke-width:2.0px;stroke-linecap:butt;stroke-linejoin:miter;stroke-opacity:1;\"/>\n",
       "<path d=\"M 184.1,75.1 L 185.2,74.9 L 185.6,73.8\" style=\"fill:none;stroke:#000000;stroke-width:2.0px;stroke-linecap:butt;stroke-linejoin:miter;stroke-opacity:1;\"/>\n",
       "<path class=\"atom-0\" d=\"M 204.4 10.0 Q 204.4 8.5, 205.2 7.7 Q 205.9 6.8, 207.4 6.8 Q 208.8 6.8, 209.5 7.7 Q 210.3 8.5, 210.3 10.0 Q 210.3 11.6, 209.5 12.5 Q 208.7 13.3, 207.4 13.3 Q 206.0 13.3, 205.2 12.5 Q 204.4 11.6, 204.4 10.0 M 207.4 12.6 Q 208.3 12.6, 208.8 12.0 Q 209.4 11.3, 209.4 10.0 Q 209.4 8.8, 208.8 8.2 Q 208.3 7.5, 207.4 7.5 Q 206.4 7.5, 205.9 8.2 Q 205.3 8.8, 205.3 10.0 Q 205.3 11.3, 205.9 12.0 Q 206.4 12.6, 207.4 12.6 \" fill=\"#FF0000\"/>\n",
       "<path class=\"atom-6\" d=\"M 291.7 51.9 Q 291.7 50.4, 292.4 49.5 Q 293.2 48.7, 294.6 48.7 Q 296.0 48.7, 296.8 49.5 Q 297.5 50.4, 297.5 51.9 Q 297.5 53.4, 296.7 54.3 Q 296.0 55.2, 294.6 55.2 Q 293.2 55.2, 292.4 54.3 Q 291.7 53.5, 291.7 51.9 M 294.6 54.5 Q 295.6 54.5, 296.1 53.8 Q 296.6 53.2, 296.6 51.9 Q 296.6 50.7, 296.1 50.0 Q 295.6 49.4, 294.6 49.4 Q 293.6 49.4, 293.1 50.0 Q 292.6 50.7, 292.6 51.9 Q 292.6 53.2, 293.1 53.8 Q 293.6 54.5, 294.6 54.5 \" fill=\"#FF0000\"/>\n",
       "<path class=\"atom-8\" d=\"M 283.7 14.0 Q 283.7 12.5, 284.5 11.6 Q 285.2 10.8, 286.6 10.8 Q 288.0 10.8, 288.8 11.6 Q 289.6 12.5, 289.6 14.0 Q 289.6 15.6, 288.8 16.4 Q 288.0 17.3, 286.6 17.3 Q 285.3 17.3, 284.5 16.4 Q 283.7 15.6, 283.7 14.0 M 286.6 16.6 Q 287.6 16.6, 288.1 15.9 Q 288.7 15.3, 288.7 14.0 Q 288.7 12.8, 288.1 12.2 Q 287.6 11.5, 286.6 11.5 Q 285.7 11.5, 285.2 12.1 Q 284.6 12.8, 284.6 14.0 Q 284.6 15.3, 285.2 15.9 Q 285.7 16.6, 286.6 16.6 \" fill=\"#FF0000\"/>\n",
       "<path class=\"atom-15\" d=\"M 197.2 91.5 Q 197.2 90.0, 198.0 89.2 Q 198.7 88.3, 200.1 88.3 Q 201.5 88.3, 202.3 89.2 Q 203.1 90.0, 203.1 91.5 Q 203.1 93.1, 202.3 93.9 Q 201.5 94.8, 200.1 94.8 Q 198.8 94.8, 198.0 93.9 Q 197.2 93.1, 197.2 91.5 M 200.1 94.1 Q 201.1 94.1, 201.6 93.4 Q 202.2 92.8, 202.2 91.5 Q 202.2 90.3, 201.6 89.7 Q 201.1 89.0, 200.1 89.0 Q 199.2 89.0, 198.7 89.6 Q 198.1 90.3, 198.1 91.5 Q 198.1 92.8, 198.7 93.4 Q 199.2 94.1, 200.1 94.1 \" fill=\"#FF0000\"/>\n",
       "<path class=\"atom-17\" d=\"M 234.0 103.6 Q 234.0 102.1, 234.8 101.2 Q 235.5 100.4, 236.9 100.4 Q 238.3 100.4, 239.1 101.2 Q 239.8 102.1, 239.8 103.6 Q 239.8 105.1, 239.1 106.0 Q 238.3 106.9, 236.9 106.9 Q 235.5 106.9, 234.8 106.0 Q 234.0 105.1, 234.0 103.6 M 236.9 106.1 Q 237.9 106.1, 238.4 105.5 Q 238.9 104.8, 238.9 103.6 Q 238.9 102.3, 238.4 101.7 Q 237.9 101.1, 236.9 101.1 Q 236.0 101.1, 235.4 101.7 Q 234.9 102.3, 234.9 103.6 Q 234.9 104.9, 235.4 105.5 Q 236.0 106.1, 236.9 106.1 \" fill=\"#FF0000\"/>\n",
       "<path class=\"atom-24\" d=\"M 152.5 41.6 Q 152.5 40.1, 153.2 39.2 Q 154.0 38.4, 155.4 38.4 Q 156.8 38.4, 157.6 39.2 Q 158.3 40.1, 158.3 41.6 Q 158.3 43.1, 157.5 44.0 Q 156.8 44.9, 155.4 44.9 Q 154.0 44.9, 153.2 44.0 Q 152.5 43.1, 152.5 41.6 M 155.4 44.2 Q 156.4 44.2, 156.9 43.5 Q 157.4 42.9, 157.4 41.6 Q 157.4 40.3, 156.9 39.7 Q 156.4 39.1, 155.4 39.1 Q 154.4 39.1, 153.9 39.7 Q 153.4 40.3, 153.4 41.6 Q 153.4 42.9, 153.9 43.5 Q 154.4 44.2, 155.4 44.2 \" fill=\"#FF0000\"/>\n",
       "<path class=\"atom-26\" d=\"M 181.3 15.8 Q 181.3 14.2, 182.1 13.4 Q 182.8 12.5, 184.2 12.5 Q 185.6 12.5, 186.4 13.4 Q 187.1 14.2, 187.1 15.8 Q 187.1 17.3, 186.4 18.2 Q 185.6 19.0, 184.2 19.0 Q 182.8 19.0, 182.1 18.2 Q 181.3 17.3, 181.3 15.8 M 184.2 18.3 Q 185.2 18.3, 185.7 17.7 Q 186.2 17.0, 186.2 15.8 Q 186.2 14.5, 185.7 13.9 Q 185.2 13.2, 184.2 13.2 Q 183.3 13.2, 182.7 13.9 Q 182.2 14.5, 182.2 15.8 Q 182.2 17.0, 182.7 17.7 Q 183.3 18.3, 184.2 18.3 \" fill=\"#FF0000\"/>\n",
       "</svg>"
      ],
      "text/plain": [
       "<IPython.core.display.SVG object>"
      ]
     },
     "execution_count": 86,
     "metadata": {},
     "output_type": "execute_result"
    }
   ],
   "source": [
    "big_smiles_gen(big)"
   ]
  },
  {
   "cell_type": "code",
   "execution_count": 87,
   "id": "0a7aa8bc",
   "metadata": {},
   "outputs": [
    {
     "name": "stdout",
     "output_type": "stream",
     "text": [
      "CCCCOC(=O)C(CC)CC(CC(CC(CC(CC(CC(CC=O)C(=O)NC(C)C)C(=O)OCCCC)C(=O)OCCCC)C(=O)OCCCC)C(=O)OCCCC)C(=O)OCCCC\n",
      "0.053076387801566864\n",
      "49\n"
     ]
    },
    {
     "data": {
      "image/svg+xml": [
       "<svg xmlns=\"http://www.w3.org/2000/svg\" xmlns:rdkit=\"http://www.rdkit.org/xml\" xmlns:xlink=\"http://www.w3.org/1999/xlink\" version=\"1.1\" baseProfile=\"full\" xml:space=\"preserve\" width=\"450px\" height=\"150px\" viewBox=\"0 0 450 150\">\n",
       "<!-- END OF HEADER -->\n",
       "<rect style=\"opacity:1.0;fill:#FFFFFF;stroke:none\" width=\"450.0\" height=\"150.0\" x=\"0.0\" y=\"0.0\"> </rect>\n",
       "<path class=\"bond-0 atom-0 atom-1\" d=\"M 188.3,46.9 L 185.8,50.1\" style=\"fill:none;fill-rule:evenodd;stroke:#FF0000;stroke-width:2.0px;stroke-linecap:butt;stroke-linejoin:miter;stroke-opacity:1\"/>\n",
       "<path class=\"bond-0 atom-0 atom-1\" d=\"M 185.8,50.1 L 183.2,53.3\" style=\"fill:none;fill-rule:evenodd;stroke:#000000;stroke-width:2.0px;stroke-linecap:butt;stroke-linejoin:miter;stroke-opacity:1\"/>\n",
       "<path class=\"bond-0 atom-0 atom-1\" d=\"M 187.0,45.8 L 184.4,49.0\" style=\"fill:none;fill-rule:evenodd;stroke:#FF0000;stroke-width:2.0px;stroke-linecap:butt;stroke-linejoin:miter;stroke-opacity:1\"/>\n",
       "<path class=\"bond-0 atom-0 atom-1\" d=\"M 184.4,49.0 L 182.5,51.4\" style=\"fill:none;fill-rule:evenodd;stroke:#000000;stroke-width:2.0px;stroke-linecap:butt;stroke-linejoin:miter;stroke-opacity:1\"/>\n",
       "<path class=\"bond-1 atom-2 atom-3\" d=\"M 127.2,74.4 L 134.5,65.5\" style=\"fill:none;fill-rule:evenodd;stroke:#000000;stroke-width:2.0px;stroke-linecap:butt;stroke-linejoin:miter;stroke-opacity:1\"/>\n",
       "<path class=\"bond-2 atom-3 atom-4\" d=\"M 134.5,65.5 L 130.4,54.7\" style=\"fill:none;fill-rule:evenodd;stroke:#000000;stroke-width:2.0px;stroke-linecap:butt;stroke-linejoin:miter;stroke-opacity:1\"/>\n",
       "<path class=\"bond-3 atom-3 atom-5\" d=\"M 134.5,65.5 L 139.2,66.3\" style=\"fill:none;fill-rule:evenodd;stroke:#000000;stroke-width:2.0px;stroke-linecap:butt;stroke-linejoin:miter;stroke-opacity:1\"/>\n",
       "<path class=\"bond-3 atom-3 atom-5\" d=\"M 139.2,66.3 L 143.9,67.0\" style=\"fill:none;fill-rule:evenodd;stroke:#0000FF;stroke-width:2.0px;stroke-linecap:butt;stroke-linejoin:miter;stroke-opacity:1\"/>\n",
       "<path class=\"bond-4 atom-5 atom-6\" d=\"M 147.8,64.9 L 150.5,61.7\" style=\"fill:none;fill-rule:evenodd;stroke:#0000FF;stroke-width:2.0px;stroke-linecap:butt;stroke-linejoin:miter;stroke-opacity:1\"/>\n",
       "<path class=\"bond-4 atom-5 atom-6\" d=\"M 150.5,61.7 L 153.1,58.4\" style=\"fill:none;fill-rule:evenodd;stroke:#000000;stroke-width:2.0px;stroke-linecap:butt;stroke-linejoin:miter;stroke-opacity:1\"/>\n",
       "<path class=\"bond-5 atom-6 atom-7\" d=\"M 154.1,58.6 L 152.5,54.3\" style=\"fill:none;fill-rule:evenodd;stroke:#000000;stroke-width:2.0px;stroke-linecap:butt;stroke-linejoin:miter;stroke-opacity:1\"/>\n",
       "<path class=\"bond-5 atom-6 atom-7\" d=\"M 152.5,54.3 L 150.9,50.0\" style=\"fill:none;fill-rule:evenodd;stroke:#FF0000;stroke-width:2.0px;stroke-linecap:butt;stroke-linejoin:miter;stroke-opacity:1\"/>\n",
       "<path class=\"bond-5 atom-6 atom-7\" d=\"M 152.5,59.2 L 150.9,54.9\" style=\"fill:none;fill-rule:evenodd;stroke:#000000;stroke-width:2.0px;stroke-linecap:butt;stroke-linejoin:miter;stroke-opacity:1\"/>\n",
       "<path class=\"bond-5 atom-6 atom-7\" d=\"M 150.9,54.9 L 149.2,50.6\" style=\"fill:none;fill-rule:evenodd;stroke:#FF0000;stroke-width:2.0px;stroke-linecap:butt;stroke-linejoin:miter;stroke-opacity:1\"/>\n",
       "<path class=\"bond-6 atom-6 atom-8\" d=\"M 153.1,58.4 L 164.5,60.3\" style=\"fill:none;fill-rule:evenodd;stroke:#000000;stroke-width:2.0px;stroke-linecap:butt;stroke-linejoin:miter;stroke-opacity:1\"/>\n",
       "<path class=\"bond-7 atom-8 atom-9\" d=\"M 164.5,60.3 L 171.8,51.4\" style=\"fill:none;fill-rule:evenodd;stroke:#000000;stroke-width:2.0px;stroke-linecap:butt;stroke-linejoin:miter;stroke-opacity:1\"/>\n",
       "<path class=\"bond-8 atom-1 atom-9\" d=\"M 183.2,53.3 L 171.8,51.4\" style=\"fill:none;fill-rule:evenodd;stroke:#000000;stroke-width:2.0px;stroke-linecap:butt;stroke-linejoin:miter;stroke-opacity:1\"/>\n",
       "<path class=\"bond-9 atom-10 atom-11\" d=\"M 139.4,106.7 L 146.7,97.8\" style=\"fill:none;fill-rule:evenodd;stroke:#000000;stroke-width:2.0px;stroke-linecap:butt;stroke-linejoin:miter;stroke-opacity:1\"/>\n",
       "<path class=\"bond-10 atom-11 atom-12\" d=\"M 146.7,97.8 L 158.1,99.7\" style=\"fill:none;fill-rule:evenodd;stroke:#000000;stroke-width:2.0px;stroke-linecap:butt;stroke-linejoin:miter;stroke-opacity:1\"/>\n",
       "<path class=\"bond-11 atom-12 atom-13\" d=\"M 158.1,99.7 L 165.4,90.8\" style=\"fill:none;fill-rule:evenodd;stroke:#000000;stroke-width:2.0px;stroke-linecap:butt;stroke-linejoin:miter;stroke-opacity:1\"/>\n",
       "<path class=\"bond-12 atom-13 atom-14\" d=\"M 165.4,90.8 L 169.9,91.5\" style=\"fill:none;fill-rule:evenodd;stroke:#000000;stroke-width:2.0px;stroke-linecap:butt;stroke-linejoin:miter;stroke-opacity:1\"/>\n",
       "<path class=\"bond-12 atom-13 atom-14\" d=\"M 169.9,91.5 L 174.4,92.3\" style=\"fill:none;fill-rule:evenodd;stroke:#FF0000;stroke-width:2.0px;stroke-linecap:butt;stroke-linejoin:miter;stroke-opacity:1\"/>\n",
       "<path class=\"bond-13 atom-14 atom-15\" d=\"M 178.8,90.1 L 181.4,86.9\" style=\"fill:none;fill-rule:evenodd;stroke:#FF0000;stroke-width:2.0px;stroke-linecap:butt;stroke-linejoin:miter;stroke-opacity:1\"/>\n",
       "<path class=\"bond-13 atom-14 atom-15\" d=\"M 181.4,86.9 L 184.0,83.7\" style=\"fill:none;fill-rule:evenodd;stroke:#000000;stroke-width:2.0px;stroke-linecap:butt;stroke-linejoin:miter;stroke-opacity:1\"/>\n",
       "<path class=\"bond-14 atom-15 atom-16\" d=\"M 183.4,84.5 L 188.2,85.3\" style=\"fill:none;fill-rule:evenodd;stroke:#000000;stroke-width:2.0px;stroke-linecap:butt;stroke-linejoin:miter;stroke-opacity:1\"/>\n",
       "<path class=\"bond-14 atom-15 atom-16\" d=\"M 188.2,85.3 L 192.9,86.1\" style=\"fill:none;fill-rule:evenodd;stroke:#FF0000;stroke-width:2.0px;stroke-linecap:butt;stroke-linejoin:miter;stroke-opacity:1\"/>\n",
       "<path class=\"bond-14 atom-15 atom-16\" d=\"M 183.7,82.8 L 188.4,83.6\" style=\"fill:none;fill-rule:evenodd;stroke:#000000;stroke-width:2.0px;stroke-linecap:butt;stroke-linejoin:miter;stroke-opacity:1\"/>\n",
       "<path class=\"bond-14 atom-15 atom-16\" d=\"M 188.4,83.6 L 193.2,84.3\" style=\"fill:none;fill-rule:evenodd;stroke:#FF0000;stroke-width:2.0px;stroke-linecap:butt;stroke-linejoin:miter;stroke-opacity:1\"/>\n",
       "<path class=\"bond-15 atom-15 atom-17\" d=\"M 184.0,83.7 L 180.0,72.9\" style=\"fill:none;fill-rule:evenodd;stroke:#000000;stroke-width:2.0px;stroke-linecap:butt;stroke-linejoin:miter;stroke-opacity:1\"/>\n",
       "<path class=\"bond-16 atom-17 atom-18\" d=\"M 180.0,72.9 L 168.6,71.1\" style=\"fill:none;fill-rule:evenodd;stroke:#000000;stroke-width:2.0px;stroke-linecap:butt;stroke-linejoin:miter;stroke-opacity:1\"/>\n",
       "<path class=\"bond-17 atom-8 atom-18\" d=\"M 164.5,60.3 L 168.6,71.1\" style=\"fill:none;fill-rule:evenodd;stroke:#000000;stroke-width:2.0px;stroke-linecap:butt;stroke-linejoin:miter;stroke-opacity:1\"/>\n",
       "<path class=\"bond-18 atom-19 atom-20\" d=\"M 208.3,6.8 L 212.4,17.6\" style=\"fill:none;fill-rule:evenodd;stroke:#000000;stroke-width:2.0px;stroke-linecap:butt;stroke-linejoin:miter;stroke-opacity:1\"/>\n",
       "<path class=\"bond-19 atom-20 atom-21\" d=\"M 212.4,17.6 L 205.1,26.5\" style=\"fill:none;fill-rule:evenodd;stroke:#000000;stroke-width:2.0px;stroke-linecap:butt;stroke-linejoin:miter;stroke-opacity:1\"/>\n",
       "<path class=\"bond-20 atom-21 atom-22\" d=\"M 205.1,26.5 L 209.1,37.3\" style=\"fill:none;fill-rule:evenodd;stroke:#000000;stroke-width:2.0px;stroke-linecap:butt;stroke-linejoin:miter;stroke-opacity:1\"/>\n",
       "<path class=\"bond-21 atom-22 atom-23\" d=\"M 209.1,37.3 L 206.5,40.5\" style=\"fill:none;fill-rule:evenodd;stroke:#000000;stroke-width:2.0px;stroke-linecap:butt;stroke-linejoin:miter;stroke-opacity:1\"/>\n",
       "<path class=\"bond-21 atom-22 atom-23\" d=\"M 206.5,40.5 L 203.9,43.7\" style=\"fill:none;fill-rule:evenodd;stroke:#FF0000;stroke-width:2.0px;stroke-linecap:butt;stroke-linejoin:miter;stroke-opacity:1\"/>\n",
       "<path class=\"bond-22 atom-23 atom-24\" d=\"M 202.8,48.8 L 204.4,52.9\" style=\"fill:none;fill-rule:evenodd;stroke:#FF0000;stroke-width:2.0px;stroke-linecap:butt;stroke-linejoin:miter;stroke-opacity:1\"/>\n",
       "<path class=\"bond-22 atom-23 atom-24\" d=\"M 204.4,52.9 L 205.9,57.0\" style=\"fill:none;fill-rule:evenodd;stroke:#000000;stroke-width:2.0px;stroke-linecap:butt;stroke-linejoin:miter;stroke-opacity:1\"/>\n",
       "<path class=\"bond-23 atom-24 atom-25\" d=\"M 205.3,57.7 L 210.0,58.5\" style=\"fill:none;fill-rule:evenodd;stroke:#000000;stroke-width:2.0px;stroke-linecap:butt;stroke-linejoin:miter;stroke-opacity:1\"/>\n",
       "<path class=\"bond-23 atom-24 atom-25\" d=\"M 210.0,58.5 L 214.8,59.3\" style=\"fill:none;fill-rule:evenodd;stroke:#FF0000;stroke-width:2.0px;stroke-linecap:butt;stroke-linejoin:miter;stroke-opacity:1\"/>\n",
       "<path class=\"bond-23 atom-24 atom-25\" d=\"M 205.6,56.0 L 210.3,56.8\" style=\"fill:none;fill-rule:evenodd;stroke:#000000;stroke-width:2.0px;stroke-linecap:butt;stroke-linejoin:miter;stroke-opacity:1\"/>\n",
       "<path class=\"bond-23 atom-24 atom-25\" d=\"M 210.3,56.8 L 215.1,57.6\" style=\"fill:none;fill-rule:evenodd;stroke:#FF0000;stroke-width:2.0px;stroke-linecap:butt;stroke-linejoin:miter;stroke-opacity:1\"/>\n",
       "<path class=\"bond-24 atom-24 atom-26\" d=\"M 205.9,57.0 L 198.6,65.9\" style=\"fill:none;fill-rule:evenodd;stroke:#000000;stroke-width:2.0px;stroke-linecap:butt;stroke-linejoin:miter;stroke-opacity:1\"/>\n",
       "<path class=\"bond-25 atom-26 atom-27\" d=\"M 198.6,65.9 L 187.2,64.0\" style=\"fill:none;fill-rule:evenodd;stroke:#000000;stroke-width:2.0px;stroke-linecap:butt;stroke-linejoin:miter;stroke-opacity:1\"/>\n",
       "<path class=\"bond-26 atom-17 atom-27\" d=\"M 180.0,72.9 L 187.2,64.0\" style=\"fill:none;fill-rule:evenodd;stroke:#000000;stroke-width:2.0px;stroke-linecap:butt;stroke-linejoin:miter;stroke-opacity:1\"/>\n",
       "<path class=\"bond-27 atom-28 atom-29\" d=\"M 204.4,137.6 L 211.7,128.7\" style=\"fill:none;fill-rule:evenodd;stroke:#000000;stroke-width:2.0px;stroke-linecap:butt;stroke-linejoin:miter;stroke-opacity:1\"/>\n",
       "<path class=\"bond-28 atom-29 atom-30\" d=\"M 211.7,128.7 L 207.6,117.9\" style=\"fill:none;fill-rule:evenodd;stroke:#000000;stroke-width:2.0px;stroke-linecap:butt;stroke-linejoin:miter;stroke-opacity:1\"/>\n",
       "<path class=\"bond-29 atom-30 atom-31\" d=\"M 207.6,117.9 L 214.9,109.0\" style=\"fill:none;fill-rule:evenodd;stroke:#000000;stroke-width:2.0px;stroke-linecap:butt;stroke-linejoin:miter;stroke-opacity:1\"/>\n",
       "<path class=\"bond-30 atom-31 atom-32\" d=\"M 214.9,109.0 L 213.4,104.9\" style=\"fill:none;fill-rule:evenodd;stroke:#000000;stroke-width:2.0px;stroke-linecap:butt;stroke-linejoin:miter;stroke-opacity:1\"/>\n",
       "<path class=\"bond-30 atom-31 atom-32\" d=\"M 213.4,104.9 L 211.8,100.8\" style=\"fill:none;fill-rule:evenodd;stroke:#FF0000;stroke-width:2.0px;stroke-linecap:butt;stroke-linejoin:miter;stroke-opacity:1\"/>\n",
       "<path class=\"bond-31 atom-32 atom-33\" d=\"M 212.9,95.7 L 215.5,92.5\" style=\"fill:none;fill-rule:evenodd;stroke:#FF0000;stroke-width:2.0px;stroke-linecap:butt;stroke-linejoin:miter;stroke-opacity:1\"/>\n",
       "<path class=\"bond-31 atom-32 atom-33\" d=\"M 215.5,92.5 L 218.1,89.3\" style=\"fill:none;fill-rule:evenodd;stroke:#000000;stroke-width:2.0px;stroke-linecap:butt;stroke-linejoin:miter;stroke-opacity:1\"/>\n",
       "<path class=\"bond-32 atom-33 atom-34\" d=\"M 217.5,90.1 L 222.3,90.9\" style=\"fill:none;fill-rule:evenodd;stroke:#000000;stroke-width:2.0px;stroke-linecap:butt;stroke-linejoin:miter;stroke-opacity:1\"/>\n",
       "<path class=\"bond-32 atom-33 atom-34\" d=\"M 222.3,90.9 L 227.0,91.6\" style=\"fill:none;fill-rule:evenodd;stroke:#FF0000;stroke-width:2.0px;stroke-linecap:butt;stroke-linejoin:miter;stroke-opacity:1\"/>\n",
       "<path class=\"bond-32 atom-33 atom-34\" d=\"M 217.8,88.4 L 222.5,89.1\" style=\"fill:none;fill-rule:evenodd;stroke:#000000;stroke-width:2.0px;stroke-linecap:butt;stroke-linejoin:miter;stroke-opacity:1\"/>\n",
       "<path class=\"bond-32 atom-33 atom-34\" d=\"M 222.5,89.1 L 227.3,89.9\" style=\"fill:none;fill-rule:evenodd;stroke:#FF0000;stroke-width:2.0px;stroke-linecap:butt;stroke-linejoin:miter;stroke-opacity:1\"/>\n",
       "<path class=\"bond-33 atom-33 atom-35\" d=\"M 218.1,89.3 L 214.1,78.5\" style=\"fill:none;fill-rule:evenodd;stroke:#000000;stroke-width:2.0px;stroke-linecap:butt;stroke-linejoin:miter;stroke-opacity:1\"/>\n",
       "<path class=\"bond-34 atom-35 atom-36\" d=\"M 214.1,78.5 L 202.7,76.7\" style=\"fill:none;fill-rule:evenodd;stroke:#000000;stroke-width:2.0px;stroke-linecap:butt;stroke-linejoin:miter;stroke-opacity:1\"/>\n",
       "<path class=\"bond-35 atom-26 atom-36\" d=\"M 198.6,65.9 L 202.7,76.7\" style=\"fill:none;fill-rule:evenodd;stroke:#000000;stroke-width:2.0px;stroke-linecap:butt;stroke-linejoin:miter;stroke-opacity:1\"/>\n",
       "<path class=\"bond-36 atom-37 atom-38\" d=\"M 242.4,12.4 L 246.5,23.2\" style=\"fill:none;fill-rule:evenodd;stroke:#000000;stroke-width:2.0px;stroke-linecap:butt;stroke-linejoin:miter;stroke-opacity:1\"/>\n",
       "<path class=\"bond-37 atom-38 atom-39\" d=\"M 246.5,23.2 L 239.2,32.1\" style=\"fill:none;fill-rule:evenodd;stroke:#000000;stroke-width:2.0px;stroke-linecap:butt;stroke-linejoin:miter;stroke-opacity:1\"/>\n",
       "<path class=\"bond-38 atom-39 atom-40\" d=\"M 239.2,32.1 L 243.2,42.9\" style=\"fill:none;fill-rule:evenodd;stroke:#000000;stroke-width:2.0px;stroke-linecap:butt;stroke-linejoin:miter;stroke-opacity:1\"/>\n",
       "<path class=\"bond-39 atom-40 atom-41\" d=\"M 243.2,42.9 L 240.6,46.1\" style=\"fill:none;fill-rule:evenodd;stroke:#000000;stroke-width:2.0px;stroke-linecap:butt;stroke-linejoin:miter;stroke-opacity:1\"/>\n",
       "<path class=\"bond-39 atom-40 atom-41\" d=\"M 240.6,46.1 L 238.0,49.3\" style=\"fill:none;fill-rule:evenodd;stroke:#FF0000;stroke-width:2.0px;stroke-linecap:butt;stroke-linejoin:miter;stroke-opacity:1\"/>\n",
       "<path class=\"bond-40 atom-41 atom-42\" d=\"M 236.9,54.4 L 238.5,58.5\" style=\"fill:none;fill-rule:evenodd;stroke:#FF0000;stroke-width:2.0px;stroke-linecap:butt;stroke-linejoin:miter;stroke-opacity:1\"/>\n",
       "<path class=\"bond-40 atom-41 atom-42\" d=\"M 238.5,58.5 L 240.0,62.6\" style=\"fill:none;fill-rule:evenodd;stroke:#000000;stroke-width:2.0px;stroke-linecap:butt;stroke-linejoin:miter;stroke-opacity:1\"/>\n",
       "<path class=\"bond-41 atom-42 atom-43\" d=\"M 239.4,63.3 L 244.1,64.1\" style=\"fill:none;fill-rule:evenodd;stroke:#000000;stroke-width:2.0px;stroke-linecap:butt;stroke-linejoin:miter;stroke-opacity:1\"/>\n",
       "<path class=\"bond-41 atom-42 atom-43\" d=\"M 244.1,64.1 L 248.9,64.9\" style=\"fill:none;fill-rule:evenodd;stroke:#FF0000;stroke-width:2.0px;stroke-linecap:butt;stroke-linejoin:miter;stroke-opacity:1\"/>\n",
       "<path class=\"bond-41 atom-42 atom-43\" d=\"M 239.7,61.6 L 244.4,62.4\" style=\"fill:none;fill-rule:evenodd;stroke:#000000;stroke-width:2.0px;stroke-linecap:butt;stroke-linejoin:miter;stroke-opacity:1\"/>\n",
       "<path class=\"bond-41 atom-42 atom-43\" d=\"M 244.4,62.4 L 249.2,63.2\" style=\"fill:none;fill-rule:evenodd;stroke:#FF0000;stroke-width:2.0px;stroke-linecap:butt;stroke-linejoin:miter;stroke-opacity:1\"/>\n",
       "<path class=\"bond-42 atom-42 atom-44\" d=\"M 240.0,62.6 L 232.7,71.5\" style=\"fill:none;fill-rule:evenodd;stroke:#000000;stroke-width:2.0px;stroke-linecap:butt;stroke-linejoin:miter;stroke-opacity:1\"/>\n",
       "<path class=\"bond-43 atom-44 atom-45\" d=\"M 232.7,71.5 L 221.4,69.6\" style=\"fill:none;fill-rule:evenodd;stroke:#000000;stroke-width:2.0px;stroke-linecap:butt;stroke-linejoin:miter;stroke-opacity:1\"/>\n",
       "<path class=\"bond-44 atom-35 atom-45\" d=\"M 214.1,78.5 L 221.4,69.6\" style=\"fill:none;fill-rule:evenodd;stroke:#000000;stroke-width:2.0px;stroke-linecap:butt;stroke-linejoin:miter;stroke-opacity:1\"/>\n",
       "<path class=\"bond-45 atom-46 atom-47\" d=\"M 238.5,143.2 L 245.8,134.3\" style=\"fill:none;fill-rule:evenodd;stroke:#000000;stroke-width:2.0px;stroke-linecap:butt;stroke-linejoin:miter;stroke-opacity:1\"/>\n",
       "<path class=\"bond-46 atom-47 atom-48\" d=\"M 245.8,134.3 L 241.7,123.5\" style=\"fill:none;fill-rule:evenodd;stroke:#000000;stroke-width:2.0px;stroke-linecap:butt;stroke-linejoin:miter;stroke-opacity:1\"/>\n",
       "<path class=\"bond-47 atom-48 atom-49\" d=\"M 241.7,123.5 L 249.0,114.6\" style=\"fill:none;fill-rule:evenodd;stroke:#000000;stroke-width:2.0px;stroke-linecap:butt;stroke-linejoin:miter;stroke-opacity:1\"/>\n",
       "<path class=\"bond-48 atom-49 atom-50\" d=\"M 249.0,114.6 L 247.5,110.5\" style=\"fill:none;fill-rule:evenodd;stroke:#000000;stroke-width:2.0px;stroke-linecap:butt;stroke-linejoin:miter;stroke-opacity:1\"/>\n",
       "<path class=\"bond-48 atom-49 atom-50\" d=\"M 247.5,110.5 L 245.9,106.4\" style=\"fill:none;fill-rule:evenodd;stroke:#FF0000;stroke-width:2.0px;stroke-linecap:butt;stroke-linejoin:miter;stroke-opacity:1\"/>\n",
       "<path class=\"bond-49 atom-50 atom-51\" d=\"M 247.0,101.3 L 249.6,98.1\" style=\"fill:none;fill-rule:evenodd;stroke:#FF0000;stroke-width:2.0px;stroke-linecap:butt;stroke-linejoin:miter;stroke-opacity:1\"/>\n",
       "<path class=\"bond-49 atom-50 atom-51\" d=\"M 249.6,98.1 L 252.2,94.9\" style=\"fill:none;fill-rule:evenodd;stroke:#000000;stroke-width:2.0px;stroke-linecap:butt;stroke-linejoin:miter;stroke-opacity:1\"/>\n",
       "<path class=\"bond-50 atom-51 atom-52\" d=\"M 251.6,95.7 L 256.4,96.4\" style=\"fill:none;fill-rule:evenodd;stroke:#000000;stroke-width:2.0px;stroke-linecap:butt;stroke-linejoin:miter;stroke-opacity:1\"/>\n",
       "<path class=\"bond-50 atom-51 atom-52\" d=\"M 256.4,96.4 L 261.1,97.2\" style=\"fill:none;fill-rule:evenodd;stroke:#FF0000;stroke-width:2.0px;stroke-linecap:butt;stroke-linejoin:miter;stroke-opacity:1\"/>\n",
       "<path class=\"bond-50 atom-51 atom-52\" d=\"M 251.9,94.0 L 256.6,94.7\" style=\"fill:none;fill-rule:evenodd;stroke:#000000;stroke-width:2.0px;stroke-linecap:butt;stroke-linejoin:miter;stroke-opacity:1\"/>\n",
       "<path class=\"bond-50 atom-51 atom-52\" d=\"M 256.6,94.7 L 261.4,95.5\" style=\"fill:none;fill-rule:evenodd;stroke:#FF0000;stroke-width:2.0px;stroke-linecap:butt;stroke-linejoin:miter;stroke-opacity:1\"/>\n",
       "<path class=\"bond-51 atom-51 atom-53\" d=\"M 252.2,94.9 L 248.2,84.1\" style=\"fill:none;fill-rule:evenodd;stroke:#000000;stroke-width:2.0px;stroke-linecap:butt;stroke-linejoin:miter;stroke-opacity:1\"/>\n",
       "<path class=\"bond-52 atom-53 atom-54\" d=\"M 248.2,84.1 L 236.8,82.2\" style=\"fill:none;fill-rule:evenodd;stroke:#000000;stroke-width:2.0px;stroke-linecap:butt;stroke-linejoin:miter;stroke-opacity:1\"/>\n",
       "<path class=\"bond-53 atom-44 atom-54\" d=\"M 232.7,71.5 L 236.8,82.2\" style=\"fill:none;fill-rule:evenodd;stroke:#000000;stroke-width:2.0px;stroke-linecap:butt;stroke-linejoin:miter;stroke-opacity:1\"/>\n",
       "<path class=\"bond-54 atom-55 atom-56\" d=\"M 322.8,55.9 L 311.4,54.0\" style=\"fill:none;fill-rule:evenodd;stroke:#000000;stroke-width:2.0px;stroke-linecap:butt;stroke-linejoin:miter;stroke-opacity:1\"/>\n",
       "<path class=\"bond-55 atom-56 atom-57\" d=\"M 311.4,54.0 L 304.2,63.0\" style=\"fill:none;fill-rule:evenodd;stroke:#000000;stroke-width:2.0px;stroke-linecap:butt;stroke-linejoin:miter;stroke-opacity:1\"/>\n",
       "<path class=\"bond-56 atom-57 atom-58\" d=\"M 304.2,63.0 L 292.8,61.1\" style=\"fill:none;fill-rule:evenodd;stroke:#000000;stroke-width:2.0px;stroke-linecap:butt;stroke-linejoin:miter;stroke-opacity:1\"/>\n",
       "<path class=\"bond-57 atom-58 atom-59\" d=\"M 292.8,61.1 L 290.2,64.3\" style=\"fill:none;fill-rule:evenodd;stroke:#000000;stroke-width:2.0px;stroke-linecap:butt;stroke-linejoin:miter;stroke-opacity:1\"/>\n",
       "<path class=\"bond-57 atom-58 atom-59\" d=\"M 290.2,64.3 L 287.6,67.5\" style=\"fill:none;fill-rule:evenodd;stroke:#FF0000;stroke-width:2.0px;stroke-linecap:butt;stroke-linejoin:miter;stroke-opacity:1\"/>\n",
       "<path class=\"bond-58 atom-59 atom-60\" d=\"M 283.2,69.6 L 278.6,68.9\" style=\"fill:none;fill-rule:evenodd;stroke:#FF0000;stroke-width:2.0px;stroke-linecap:butt;stroke-linejoin:miter;stroke-opacity:1\"/>\n",
       "<path class=\"bond-58 atom-59 atom-60\" d=\"M 278.6,68.9 L 274.1,68.1\" style=\"fill:none;fill-rule:evenodd;stroke:#000000;stroke-width:2.0px;stroke-linecap:butt;stroke-linejoin:miter;stroke-opacity:1\"/>\n",
       "<path class=\"bond-59 atom-60 atom-61\" d=\"M 275.1,68.3 L 273.5,64.0\" style=\"fill:none;fill-rule:evenodd;stroke:#000000;stroke-width:2.0px;stroke-linecap:butt;stroke-linejoin:miter;stroke-opacity:1\"/>\n",
       "<path class=\"bond-59 atom-60 atom-61\" d=\"M 273.5,64.0 L 271.8,59.7\" style=\"fill:none;fill-rule:evenodd;stroke:#FF0000;stroke-width:2.0px;stroke-linecap:butt;stroke-linejoin:miter;stroke-opacity:1\"/>\n",
       "<path class=\"bond-59 atom-60 atom-61\" d=\"M 273.5,68.9 L 271.9,64.6\" style=\"fill:none;fill-rule:evenodd;stroke:#000000;stroke-width:2.0px;stroke-linecap:butt;stroke-linejoin:miter;stroke-opacity:1\"/>\n",
       "<path class=\"bond-59 atom-60 atom-61\" d=\"M 271.9,64.6 L 270.2,60.3\" style=\"fill:none;fill-rule:evenodd;stroke:#FF0000;stroke-width:2.0px;stroke-linecap:butt;stroke-linejoin:miter;stroke-opacity:1\"/>\n",
       "<path class=\"bond-60 atom-60 atom-62\" d=\"M 274.1,68.1 L 266.8,77.1\" style=\"fill:none;fill-rule:evenodd;stroke:#000000;stroke-width:2.0px;stroke-linecap:butt;stroke-linejoin:miter;stroke-opacity:1\"/>\n",
       "<path class=\"bond-61 atom-62 atom-63\" d=\"M 266.8,77.1 L 255.5,75.2\" style=\"fill:none;fill-rule:evenodd;stroke:#000000;stroke-width:2.0px;stroke-linecap:butt;stroke-linejoin:miter;stroke-opacity:1\"/>\n",
       "<path class=\"bond-62 atom-53 atom-63\" d=\"M 248.2,84.1 L 255.5,75.2\" style=\"fill:none;fill-rule:evenodd;stroke:#000000;stroke-width:2.0px;stroke-linecap:butt;stroke-linejoin:miter;stroke-opacity:1\"/>\n",
       "<path class=\"bond-63 atom-64 atom-65\" d=\"M 270.9,87.8 L 282.3,89.7\" style=\"fill:none;fill-rule:evenodd;stroke:#000000;stroke-width:2.0px;stroke-linecap:butt;stroke-linejoin:miter;stroke-opacity:1\"/>\n",
       "<path class=\"bond-64 atom-62 atom-64\" d=\"M 266.8,77.1 L 270.9,87.8\" style=\"fill:none;fill-rule:evenodd;stroke:#000000;stroke-width:2.0px;stroke-linecap:butt;stroke-linejoin:miter;stroke-opacity:1\"/>\n",
       "<path d=\"M 183.3,53.1 L 183.2,53.3 L 182.6,53.2\" style=\"fill:none;stroke:#000000;stroke-width:2.0px;stroke-linecap:butt;stroke-linejoin:miter;stroke-opacity:1;\"/>\n",
       "<path d=\"M 153.0,58.6 L 153.1,58.4 L 153.7,58.5\" style=\"fill:none;stroke:#000000;stroke-width:2.0px;stroke-linecap:butt;stroke-linejoin:miter;stroke-opacity:1;\"/>\n",
       "<path d=\"M 171.4,51.8 L 171.8,51.4 L 172.4,51.5\" style=\"fill:none;stroke:#000000;stroke-width:2.0px;stroke-linecap:butt;stroke-linejoin:miter;stroke-opacity:1;\"/>\n",
       "<path d=\"M 146.3,98.3 L 146.7,97.8 L 147.3,97.9\" style=\"fill:none;stroke:#000000;stroke-width:2.0px;stroke-linecap:butt;stroke-linejoin:miter;stroke-opacity:1;\"/>\n",
       "<path d=\"M 157.5,99.6 L 158.1,99.7 L 158.4,99.2\" style=\"fill:none;stroke:#000000;stroke-width:2.0px;stroke-linecap:butt;stroke-linejoin:miter;stroke-opacity:1;\"/>\n",
       "<path d=\"M 165.0,91.2 L 165.4,90.8 L 165.6,90.8\" style=\"fill:none;stroke:#000000;stroke-width:2.0px;stroke-linecap:butt;stroke-linejoin:miter;stroke-opacity:1;\"/>\n",
       "<path d=\"M 183.9,83.9 L 184.0,83.7 L 183.8,83.2\" style=\"fill:none;stroke:#000000;stroke-width:2.0px;stroke-linecap:butt;stroke-linejoin:miter;stroke-opacity:1;\"/>\n",
       "<path d=\"M 169.2,71.2 L 168.6,71.1 L 168.4,70.5\" style=\"fill:none;stroke:#000000;stroke-width:2.0px;stroke-linecap:butt;stroke-linejoin:miter;stroke-opacity:1;\"/>\n",
       "<path d=\"M 212.2,17.1 L 212.4,17.6 L 212.0,18.0\" style=\"fill:none;stroke:#000000;stroke-width:2.0px;stroke-linecap:butt;stroke-linejoin:miter;stroke-opacity:1;\"/>\n",
       "<path d=\"M 205.4,26.1 L 205.1,26.5 L 205.3,27.0\" style=\"fill:none;stroke:#000000;stroke-width:2.0px;stroke-linecap:butt;stroke-linejoin:miter;stroke-opacity:1;\"/>\n",
       "<path d=\"M 208.9,36.7 L 209.1,37.3 L 209.0,37.4\" style=\"fill:none;stroke:#000000;stroke-width:2.0px;stroke-linecap:butt;stroke-linejoin:miter;stroke-opacity:1;\"/>\n",
       "<path d=\"M 205.8,56.8 L 205.9,57.0 L 205.5,57.4\" style=\"fill:none;stroke:#000000;stroke-width:2.0px;stroke-linecap:butt;stroke-linejoin:miter;stroke-opacity:1;\"/>\n",
       "<path d=\"M 187.8,64.1 L 187.2,64.0 L 186.9,64.5\" style=\"fill:none;stroke:#000000;stroke-width:2.0px;stroke-linecap:butt;stroke-linejoin:miter;stroke-opacity:1;\"/>\n",
       "<path d=\"M 211.3,129.1 L 211.7,128.7 L 211.5,128.1\" style=\"fill:none;stroke:#000000;stroke-width:2.0px;stroke-linecap:butt;stroke-linejoin:miter;stroke-opacity:1;\"/>\n",
       "<path d=\"M 207.8,118.4 L 207.6,117.9 L 208.0,117.5\" style=\"fill:none;stroke:#000000;stroke-width:2.0px;stroke-linecap:butt;stroke-linejoin:miter;stroke-opacity:1;\"/>\n",
       "<path d=\"M 214.5,109.4 L 214.9,109.0 L 214.8,108.8\" style=\"fill:none;stroke:#000000;stroke-width:2.0px;stroke-linecap:butt;stroke-linejoin:miter;stroke-opacity:1;\"/>\n",
       "<path d=\"M 218.0,89.5 L 218.1,89.3 L 217.9,88.8\" style=\"fill:none;stroke:#000000;stroke-width:2.0px;stroke-linecap:butt;stroke-linejoin:miter;stroke-opacity:1;\"/>\n",
       "<path d=\"M 203.3,76.8 L 202.7,76.7 L 202.5,76.1\" style=\"fill:none;stroke:#000000;stroke-width:2.0px;stroke-linecap:butt;stroke-linejoin:miter;stroke-opacity:1;\"/>\n",
       "<path d=\"M 246.3,22.6 L 246.5,23.2 L 246.1,23.6\" style=\"fill:none;stroke:#000000;stroke-width:2.0px;stroke-linecap:butt;stroke-linejoin:miter;stroke-opacity:1;\"/>\n",
       "<path d=\"M 239.5,31.6 L 239.2,32.1 L 239.4,32.6\" style=\"fill:none;stroke:#000000;stroke-width:2.0px;stroke-linecap:butt;stroke-linejoin:miter;stroke-opacity:1;\"/>\n",
       "<path d=\"M 243.0,42.3 L 243.2,42.9 L 243.1,43.0\" style=\"fill:none;stroke:#000000;stroke-width:2.0px;stroke-linecap:butt;stroke-linejoin:miter;stroke-opacity:1;\"/>\n",
       "<path d=\"M 239.9,62.4 L 240.0,62.6 L 239.7,63.0\" style=\"fill:none;stroke:#000000;stroke-width:2.0px;stroke-linecap:butt;stroke-linejoin:miter;stroke-opacity:1;\"/>\n",
       "<path d=\"M 221.9,69.7 L 221.4,69.6 L 221.0,70.1\" style=\"fill:none;stroke:#000000;stroke-width:2.0px;stroke-linecap:butt;stroke-linejoin:miter;stroke-opacity:1;\"/>\n",
       "<path d=\"M 245.4,134.7 L 245.8,134.3 L 245.6,133.7\" style=\"fill:none;stroke:#000000;stroke-width:2.0px;stroke-linecap:butt;stroke-linejoin:miter;stroke-opacity:1;\"/>\n",
       "<path d=\"M 241.9,124.0 L 241.7,123.5 L 242.1,123.0\" style=\"fill:none;stroke:#000000;stroke-width:2.0px;stroke-linecap:butt;stroke-linejoin:miter;stroke-opacity:1;\"/>\n",
       "<path d=\"M 248.6,115.0 L 249.0,114.6 L 248.9,114.4\" style=\"fill:none;stroke:#000000;stroke-width:2.0px;stroke-linecap:butt;stroke-linejoin:miter;stroke-opacity:1;\"/>\n",
       "<path d=\"M 252.1,95.0 L 252.2,94.9 L 252.0,94.3\" style=\"fill:none;stroke:#000000;stroke-width:2.0px;stroke-linecap:butt;stroke-linejoin:miter;stroke-opacity:1;\"/>\n",
       "<path d=\"M 237.4,82.3 L 236.8,82.2 L 236.6,81.7\" style=\"fill:none;stroke:#000000;stroke-width:2.0px;stroke-linecap:butt;stroke-linejoin:miter;stroke-opacity:1;\"/>\n",
       "<path d=\"M 312.0,54.1 L 311.4,54.0 L 311.1,54.5\" style=\"fill:none;stroke:#000000;stroke-width:2.0px;stroke-linecap:butt;stroke-linejoin:miter;stroke-opacity:1;\"/>\n",
       "<path d=\"M 304.5,62.5 L 304.2,63.0 L 303.6,62.9\" style=\"fill:none;stroke:#000000;stroke-width:2.0px;stroke-linecap:butt;stroke-linejoin:miter;stroke-opacity:1;\"/>\n",
       "<path d=\"M 293.4,61.2 L 292.8,61.1 L 292.7,61.3\" style=\"fill:none;stroke:#000000;stroke-width:2.0px;stroke-linecap:butt;stroke-linejoin:miter;stroke-opacity:1;\"/>\n",
       "<path d=\"M 274.3,68.2 L 274.1,68.1 L 273.8,68.6\" style=\"fill:none;stroke:#000000;stroke-width:2.0px;stroke-linecap:butt;stroke-linejoin:miter;stroke-opacity:1;\"/>\n",
       "<path d=\"M 256.0,75.3 L 255.5,75.2 L 255.1,75.6\" style=\"fill:none;stroke:#000000;stroke-width:2.0px;stroke-linecap:butt;stroke-linejoin:miter;stroke-opacity:1;\"/>\n",
       "<path d=\"M 271.5,87.9 L 270.9,87.8 L 270.7,87.3\" style=\"fill:none;stroke:#000000;stroke-width:2.0px;stroke-linecap:butt;stroke-linejoin:miter;stroke-opacity:1;\"/>\n",
       "<path class=\"atom-0\" d=\"M 187.9 43.8 Q 187.9 42.8, 188.4 42.2 Q 188.9 41.6, 189.8 41.6 Q 190.7 41.6, 191.2 42.2 Q 191.8 42.8, 191.8 43.8 Q 191.8 44.8, 191.2 45.4 Q 190.7 46.0, 189.8 46.0 Q 188.9 46.0, 188.4 45.4 Q 187.9 44.8, 187.9 43.8 M 189.8 45.5 Q 190.5 45.5, 190.8 45.1 Q 191.2 44.7, 191.2 43.8 Q 191.2 43.0, 190.8 42.5 Q 190.5 42.1, 189.8 42.1 Q 189.2 42.1, 188.8 42.5 Q 188.5 43.0, 188.5 43.8 Q 188.5 44.7, 188.8 45.1 Q 189.2 45.5, 189.8 45.5 \" fill=\"#FF0000\"/>\n",
       "<path class=\"atom-5\" d=\"M 144.9 65.2 L 146.3 67.5 Q 146.4 67.7, 146.7 68.1 Q 146.9 68.5, 146.9 68.5 L 146.9 65.2 L 147.5 65.2 L 147.5 69.5 L 146.9 69.5 L 145.4 67.0 Q 145.2 66.7, 145.0 66.4 Q 144.8 66.1, 144.8 66.0 L 144.8 69.5 L 144.2 69.5 L 144.2 65.2 L 144.9 65.2 \" fill=\"#0000FF\"/>\n",
       "<path class=\"atom-5\" d=\"M 148.3 65.2 L 148.9 65.2 L 148.9 67.0 L 151.0 67.0 L 151.0 65.2 L 151.6 65.2 L 151.6 69.5 L 151.0 69.5 L 151.0 67.5 L 148.9 67.5 L 148.9 69.5 L 148.3 69.5 L 148.3 65.2 \" fill=\"#0000FF\"/>\n",
       "<path class=\"atom-7\" d=\"M 147.1 47.7 Q 147.1 46.7, 147.6 46.1 Q 148.1 45.5, 149.1 45.5 Q 150.0 45.5, 150.5 46.1 Q 151.0 46.7, 151.0 47.7 Q 151.0 48.7, 150.5 49.3 Q 150.0 49.9, 149.1 49.9 Q 148.1 49.9, 147.6 49.3 Q 147.1 48.7, 147.1 47.7 M 149.1 49.4 Q 149.7 49.4, 150.1 49.0 Q 150.4 48.5, 150.4 47.7 Q 150.4 46.8, 150.1 46.4 Q 149.7 46.0, 149.1 46.0 Q 148.4 46.0, 148.1 46.4 Q 147.7 46.8, 147.7 47.7 Q 147.7 48.5, 148.1 49.0 Q 148.4 49.4, 149.1 49.4 \" fill=\"#FF0000\"/>\n",
       "<path class=\"atom-14\" d=\"M 174.8 92.6 Q 174.8 91.6, 175.3 91.1 Q 175.8 90.5, 176.7 90.5 Q 177.7 90.5, 178.2 91.1 Q 178.7 91.6, 178.7 92.6 Q 178.7 93.7, 178.2 94.3 Q 177.7 94.8, 176.7 94.8 Q 175.8 94.8, 175.3 94.3 Q 174.8 93.7, 174.8 92.6 M 176.7 94.4 Q 177.4 94.4, 177.7 93.9 Q 178.1 93.5, 178.1 92.6 Q 178.1 91.8, 177.7 91.4 Q 177.4 91.0, 176.7 91.0 Q 176.1 91.0, 175.7 91.4 Q 175.4 91.8, 175.4 92.6 Q 175.4 93.5, 175.7 93.9 Q 176.1 94.4, 176.7 94.4 \" fill=\"#FF0000\"/>\n",
       "<path class=\"atom-16\" d=\"M 193.4 85.6 Q 193.4 84.6, 193.9 84.0 Q 194.4 83.4, 195.4 83.4 Q 196.3 83.4, 196.8 84.0 Q 197.3 84.6, 197.3 85.6 Q 197.3 86.6, 196.8 87.2 Q 196.3 87.8, 195.4 87.8 Q 194.5 87.8, 193.9 87.2 Q 193.4 86.6, 193.4 85.6 M 195.4 87.3 Q 196.0 87.3, 196.4 86.9 Q 196.7 86.4, 196.7 85.6 Q 196.7 84.8, 196.4 84.3 Q 196.0 83.9, 195.4 83.9 Q 194.7 83.9, 194.4 84.3 Q 194.0 84.8, 194.0 85.6 Q 194.0 86.4, 194.4 86.9 Q 194.7 87.3, 195.4 87.3 \" fill=\"#FF0000\"/>\n",
       "<path class=\"atom-23\" d=\"M 199.9 46.2 Q 199.9 45.2, 200.4 44.6 Q 200.9 44.1, 201.8 44.1 Q 202.8 44.1, 203.3 44.6 Q 203.8 45.2, 203.8 46.2 Q 203.8 47.2, 203.3 47.8 Q 202.8 48.4, 201.8 48.4 Q 200.9 48.4, 200.4 47.8 Q 199.9 47.2, 199.9 46.2 M 201.8 47.9 Q 202.5 47.9, 202.8 47.5 Q 203.2 47.1, 203.2 46.2 Q 203.2 45.4, 202.8 45.0 Q 202.5 44.5, 201.8 44.5 Q 201.2 44.5, 200.8 45.0 Q 200.5 45.4, 200.5 46.2 Q 200.5 47.1, 200.8 47.5 Q 201.2 47.9, 201.8 47.9 \" fill=\"#FF0000\"/>\n",
       "<path class=\"atom-25\" d=\"M 215.3 58.8 Q 215.3 57.8, 215.8 57.3 Q 216.3 56.7, 217.3 56.7 Q 218.2 56.7, 218.7 57.3 Q 219.2 57.8, 219.2 58.8 Q 219.2 59.9, 218.7 60.5 Q 218.2 61.1, 217.3 61.1 Q 216.3 61.1, 215.8 60.5 Q 215.3 59.9, 215.3 58.8 M 217.3 60.6 Q 217.9 60.6, 218.3 60.1 Q 218.6 59.7, 218.6 58.8 Q 218.6 58.0, 218.3 57.6 Q 217.9 57.2, 217.3 57.2 Q 216.6 57.2, 216.3 57.6 Q 215.9 58.0, 215.9 58.8 Q 215.9 59.7, 216.3 60.1 Q 216.6 60.6, 217.3 60.6 \" fill=\"#FF0000\"/>\n",
       "<path class=\"atom-32\" d=\"M 208.9 98.2 Q 208.9 97.2, 209.4 96.6 Q 209.9 96.1, 210.8 96.1 Q 211.8 96.1, 212.3 96.6 Q 212.8 97.2, 212.8 98.2 Q 212.8 99.3, 212.3 99.8 Q 211.8 100.4, 210.8 100.4 Q 209.9 100.4, 209.4 99.8 Q 208.9 99.3, 208.9 98.2 M 210.8 100.0 Q 211.5 100.0, 211.8 99.5 Q 212.2 99.1, 212.2 98.2 Q 212.2 97.4, 211.8 97.0 Q 211.5 96.5, 210.8 96.5 Q 210.2 96.5, 209.8 97.0 Q 209.5 97.4, 209.5 98.2 Q 209.5 99.1, 209.8 99.5 Q 210.2 100.0, 210.8 100.0 \" fill=\"#FF0000\"/>\n",
       "<path class=\"atom-34\" d=\"M 227.5 91.2 Q 227.5 90.2, 228.1 89.6 Q 228.6 89.0, 229.5 89.0 Q 230.4 89.0, 230.9 89.6 Q 231.4 90.2, 231.4 91.2 Q 231.4 92.2, 230.9 92.8 Q 230.4 93.4, 229.5 93.4 Q 228.6 93.4, 228.1 92.8 Q 227.5 92.2, 227.5 91.2 M 229.5 92.9 Q 230.1 92.9, 230.5 92.5 Q 230.8 92.0, 230.8 91.2 Q 230.8 90.3, 230.5 89.9 Q 230.1 89.5, 229.5 89.5 Q 228.8 89.5, 228.5 89.9 Q 228.1 90.3, 228.1 91.2 Q 228.1 92.0, 228.5 92.5 Q 228.8 92.9, 229.5 92.9 \" fill=\"#FF0000\"/>\n",
       "<path class=\"atom-41\" d=\"M 234.0 51.8 Q 234.0 50.8, 234.5 50.2 Q 235.0 49.6, 235.9 49.6 Q 236.9 49.6, 237.4 50.2 Q 237.9 50.8, 237.9 51.8 Q 237.9 52.8, 237.4 53.4 Q 236.9 54.0, 235.9 54.0 Q 235.0 54.0, 234.5 53.4 Q 234.0 52.8, 234.0 51.8 M 235.9 53.5 Q 236.6 53.5, 236.9 53.1 Q 237.3 52.6, 237.3 51.8 Q 237.3 51.0, 236.9 50.5 Q 236.6 50.1, 235.9 50.1 Q 235.3 50.1, 234.9 50.5 Q 234.6 51.0, 234.6 51.8 Q 234.6 52.7, 234.9 53.1 Q 235.3 53.5, 235.9 53.5 \" fill=\"#FF0000\"/>\n",
       "<path class=\"atom-43\" d=\"M 249.4 64.4 Q 249.4 63.4, 249.9 62.8 Q 250.4 62.3, 251.4 62.3 Q 252.3 62.3, 252.8 62.8 Q 253.3 63.4, 253.3 64.4 Q 253.3 65.5, 252.8 66.1 Q 252.3 66.6, 251.4 66.6 Q 250.4 66.6, 249.9 66.1 Q 249.4 65.5, 249.4 64.4 M 251.4 66.2 Q 252.0 66.2, 252.4 65.7 Q 252.7 65.3, 252.7 64.4 Q 252.7 63.6, 252.4 63.2 Q 252.0 62.8, 251.4 62.8 Q 250.7 62.8, 250.4 63.2 Q 250.0 63.6, 250.0 64.4 Q 250.0 65.3, 250.4 65.7 Q 250.7 66.2, 251.4 66.2 \" fill=\"#FF0000\"/>\n",
       "<path class=\"atom-50\" d=\"M 243.0 103.8 Q 243.0 102.8, 243.5 102.2 Q 244.0 101.7, 244.9 101.7 Q 245.9 101.7, 246.4 102.2 Q 246.9 102.8, 246.9 103.8 Q 246.9 104.8, 246.4 105.4 Q 245.9 106.0, 244.9 106.0 Q 244.0 106.0, 243.5 105.4 Q 243.0 104.9, 243.0 103.8 M 244.9 105.5 Q 245.6 105.5, 245.9 105.1 Q 246.3 104.7, 246.3 103.8 Q 246.3 103.0, 245.9 102.6 Q 245.6 102.1, 244.9 102.1 Q 244.3 102.1, 243.9 102.6 Q 243.6 103.0, 243.6 103.8 Q 243.6 104.7, 243.9 105.1 Q 244.3 105.5, 244.9 105.5 \" fill=\"#FF0000\"/>\n",
       "<path class=\"atom-52\" d=\"M 261.7 96.8 Q 261.7 95.7, 262.2 95.2 Q 262.7 94.6, 263.6 94.6 Q 264.5 94.6, 265.0 95.2 Q 265.6 95.7, 265.6 96.8 Q 265.6 97.8, 265.0 98.4 Q 264.5 99.0, 263.6 99.0 Q 262.7 99.0, 262.2 98.4 Q 261.7 97.8, 261.7 96.8 M 263.6 98.5 Q 264.2 98.5, 264.6 98.1 Q 265.0 97.6, 265.0 96.8 Q 265.0 95.9, 264.6 95.5 Q 264.2 95.1, 263.6 95.1 Q 263.0 95.1, 262.6 95.5 Q 262.3 95.9, 262.3 96.8 Q 262.3 97.6, 262.6 98.1 Q 263.0 98.5, 263.6 98.5 \" fill=\"#FF0000\"/>\n",
       "<path class=\"atom-59\" d=\"M 283.5 70.0 Q 283.5 69.0, 284.0 68.4 Q 284.5 67.9, 285.5 67.9 Q 286.4 67.9, 286.9 68.4 Q 287.4 69.0, 287.4 70.0 Q 287.4 71.0, 286.9 71.6 Q 286.4 72.2, 285.5 72.2 Q 284.6 72.2, 284.0 71.6 Q 283.5 71.1, 283.5 70.0 M 285.5 71.7 Q 286.1 71.7, 286.5 71.3 Q 286.8 70.9, 286.8 70.0 Q 286.8 69.2, 286.5 68.8 Q 286.1 68.3, 285.5 68.3 Q 284.8 68.3, 284.5 68.8 Q 284.1 69.2, 284.1 70.0 Q 284.1 70.9, 284.5 71.3 Q 284.8 71.7, 285.5 71.7 \" fill=\"#FF0000\"/>\n",
       "<path class=\"atom-61\" d=\"M 268.1 57.4 Q 268.1 56.4, 268.6 55.8 Q 269.1 55.2, 270.0 55.2 Q 271.0 55.2, 271.5 55.8 Q 272.0 56.4, 272.0 57.4 Q 272.0 58.4, 271.5 59.0 Q 271.0 59.6, 270.0 59.6 Q 269.1 59.6, 268.6 59.0 Q 268.1 58.4, 268.1 57.4 M 270.0 59.1 Q 270.7 59.1, 271.0 58.7 Q 271.4 58.2, 271.4 57.4 Q 271.4 56.5, 271.0 56.1 Q 270.7 55.7, 270.0 55.7 Q 269.4 55.7, 269.0 56.1 Q 268.7 56.5, 268.7 57.4 Q 268.7 58.2, 269.0 58.7 Q 269.4 59.1, 270.0 59.1 \" fill=\"#FF0000\"/>\n",
       "</svg>"
      ],
      "text/plain": [
       "<IPython.core.display.SVG object>"
      ]
     },
     "execution_count": 87,
     "metadata": {},
     "output_type": "execute_result"
    }
   ],
   "source": [
    "big_smiles_gen(big)"
   ]
  },
  {
   "cell_type": "code",
   "execution_count": 88,
   "id": "2dd2cf58",
   "metadata": {},
   "outputs": [
    {
     "name": "stdout",
     "output_type": "stream",
     "text": [
      "CCCCOC(=O)C(CC)CC=O\n",
      "0.11664666408321259\n",
      "50\n"
     ]
    },
    {
     "data": {
      "image/svg+xml": [
       "<svg xmlns=\"http://www.w3.org/2000/svg\" xmlns:rdkit=\"http://www.rdkit.org/xml\" xmlns:xlink=\"http://www.w3.org/1999/xlink\" version=\"1.1\" baseProfile=\"full\" xml:space=\"preserve\" width=\"450px\" height=\"150px\" viewBox=\"0 0 450 150\">\n",
       "<!-- END OF HEADER -->\n",
       "<rect style=\"opacity:1.0;fill:#FFFFFF;stroke:none\" width=\"450.0\" height=\"150.0\" x=\"0.0\" y=\"0.0\"> </rect>\n",
       "<path class=\"bond-0 atom-0 atom-1\" d=\"M 60.9,95.5 L 76.0,85.7\" style=\"fill:none;fill-rule:evenodd;stroke:#FF0000;stroke-width:2.0px;stroke-linecap:butt;stroke-linejoin:miter;stroke-opacity:1\"/>\n",
       "<path class=\"bond-0 atom-0 atom-1\" d=\"M 76.0,85.7 L 91.1,75.8\" style=\"fill:none;fill-rule:evenodd;stroke:#000000;stroke-width:2.0px;stroke-linecap:butt;stroke-linejoin:miter;stroke-opacity:1\"/>\n",
       "<path class=\"bond-0 atom-0 atom-1\" d=\"M 64.6,101.1 L 79.7,91.3\" style=\"fill:none;fill-rule:evenodd;stroke:#FF0000;stroke-width:2.0px;stroke-linecap:butt;stroke-linejoin:miter;stroke-opacity:1\"/>\n",
       "<path class=\"bond-0 atom-0 atom-1\" d=\"M 79.7,91.3 L 91.5,83.6\" style=\"fill:none;fill-rule:evenodd;stroke:#000000;stroke-width:2.0px;stroke-linecap:butt;stroke-linejoin:miter;stroke-opacity:1\"/>\n",
       "<path class=\"bond-1 atom-2 atom-3\" d=\"M 400.3,59.3 L 362.9,83.7\" style=\"fill:none;fill-rule:evenodd;stroke:#000000;stroke-width:2.0px;stroke-linecap:butt;stroke-linejoin:miter;stroke-opacity:1\"/>\n",
       "<path class=\"bond-2 atom-3 atom-4\" d=\"M 362.9,83.7 L 323.0,63.4\" style=\"fill:none;fill-rule:evenodd;stroke:#000000;stroke-width:2.0px;stroke-linecap:butt;stroke-linejoin:miter;stroke-opacity:1\"/>\n",
       "<path class=\"bond-3 atom-4 atom-5\" d=\"M 323.0,63.4 L 285.6,87.8\" style=\"fill:none;fill-rule:evenodd;stroke:#000000;stroke-width:2.0px;stroke-linecap:butt;stroke-linejoin:miter;stroke-opacity:1\"/>\n",
       "<path class=\"bond-4 atom-5 atom-6\" d=\"M 285.6,87.8 L 269.3,79.5\" style=\"fill:none;fill-rule:evenodd;stroke:#000000;stroke-width:2.0px;stroke-linecap:butt;stroke-linejoin:miter;stroke-opacity:1\"/>\n",
       "<path class=\"bond-4 atom-5 atom-6\" d=\"M 269.3,79.5 L 253.0,71.3\" style=\"fill:none;fill-rule:evenodd;stroke:#FF0000;stroke-width:2.0px;stroke-linecap:butt;stroke-linejoin:miter;stroke-opacity:1\"/>\n",
       "<path class=\"bond-5 atom-6 atom-7\" d=\"M 238.4,72.3 L 223.3,82.1\" style=\"fill:none;fill-rule:evenodd;stroke:#FF0000;stroke-width:2.0px;stroke-linecap:butt;stroke-linejoin:miter;stroke-opacity:1\"/>\n",
       "<path class=\"bond-5 atom-6 atom-7\" d=\"M 223.3,82.1 L 208.3,91.9\" style=\"fill:none;fill-rule:evenodd;stroke:#000000;stroke-width:2.0px;stroke-linecap:butt;stroke-linejoin:miter;stroke-opacity:1\"/>\n",
       "<path class=\"bond-6 atom-7 atom-8\" d=\"M 204.8,90.2 L 205.8,109.5\" style=\"fill:none;fill-rule:evenodd;stroke:#000000;stroke-width:2.0px;stroke-linecap:butt;stroke-linejoin:miter;stroke-opacity:1\"/>\n",
       "<path class=\"bond-6 atom-7 atom-8\" d=\"M 205.8,109.5 L 206.9,128.9\" style=\"fill:none;fill-rule:evenodd;stroke:#FF0000;stroke-width:2.0px;stroke-linecap:butt;stroke-linejoin:miter;stroke-opacity:1\"/>\n",
       "<path class=\"bond-6 atom-7 atom-8\" d=\"M 211.5,89.8 L 212.5,109.2\" style=\"fill:none;fill-rule:evenodd;stroke:#000000;stroke-width:2.0px;stroke-linecap:butt;stroke-linejoin:miter;stroke-opacity:1\"/>\n",
       "<path class=\"bond-6 atom-7 atom-8\" d=\"M 212.5,109.2 L 213.6,128.5\" style=\"fill:none;fill-rule:evenodd;stroke:#FF0000;stroke-width:2.0px;stroke-linecap:butt;stroke-linejoin:miter;stroke-opacity:1\"/>\n",
       "<path class=\"bond-7 atom-7 atom-9\" d=\"M 208.3,91.9 L 168.4,71.7\" style=\"fill:none;fill-rule:evenodd;stroke:#000000;stroke-width:2.0px;stroke-linecap:butt;stroke-linejoin:miter;stroke-opacity:1\"/>\n",
       "<path class=\"bond-8 atom-9 atom-10\" d=\"M 168.4,71.7 L 130.9,96.1\" style=\"fill:none;fill-rule:evenodd;stroke:#000000;stroke-width:2.0px;stroke-linecap:butt;stroke-linejoin:miter;stroke-opacity:1\"/>\n",
       "<path class=\"bond-9 atom-1 atom-10\" d=\"M 91.1,75.8 L 130.9,96.1\" style=\"fill:none;fill-rule:evenodd;stroke:#000000;stroke-width:2.0px;stroke-linecap:butt;stroke-linejoin:miter;stroke-opacity:1\"/>\n",
       "<path class=\"bond-10 atom-11 atom-12\" d=\"M 166.0,27.1 L 126.2,6.8\" style=\"fill:none;fill-rule:evenodd;stroke:#000000;stroke-width:2.0px;stroke-linecap:butt;stroke-linejoin:miter;stroke-opacity:1\"/>\n",
       "<path class=\"bond-11 atom-9 atom-11\" d=\"M 168.4,71.7 L 166.0,27.1\" style=\"fill:none;fill-rule:evenodd;stroke:#000000;stroke-width:2.0px;stroke-linecap:butt;stroke-linejoin:miter;stroke-opacity:1\"/>\n",
       "<path d=\"M 90.3,76.3 L 91.1,75.8 L 93.1,76.9\" style=\"fill:none;stroke:#000000;stroke-width:2.0px;stroke-linecap:butt;stroke-linejoin:miter;stroke-opacity:1;\"/>\n",
       "<path d=\"M 364.8,82.4 L 362.9,83.7 L 360.9,82.6\" style=\"fill:none;stroke:#000000;stroke-width:2.0px;stroke-linecap:butt;stroke-linejoin:miter;stroke-opacity:1;\"/>\n",
       "<path d=\"M 325.0,64.4 L 323.0,63.4 L 321.2,64.6\" style=\"fill:none;stroke:#000000;stroke-width:2.0px;stroke-linecap:butt;stroke-linejoin:miter;stroke-opacity:1;\"/>\n",
       "<path d=\"M 287.4,86.6 L 285.6,87.8 L 284.8,87.4\" style=\"fill:none;stroke:#000000;stroke-width:2.0px;stroke-linecap:butt;stroke-linejoin:miter;stroke-opacity:1;\"/>\n",
       "<path d=\"M 209.0,91.5 L 208.3,91.9 L 206.3,90.9\" style=\"fill:none;stroke:#000000;stroke-width:2.0px;stroke-linecap:butt;stroke-linejoin:miter;stroke-opacity:1;\"/>\n",
       "<path d=\"M 132.8,94.9 L 130.9,96.1 L 129.0,95.1\" style=\"fill:none;stroke:#000000;stroke-width:2.0px;stroke-linecap:butt;stroke-linejoin:miter;stroke-opacity:1;\"/>\n",
       "<path d=\"M 164.0,26.1 L 166.0,27.1 L 166.1,29.3\" style=\"fill:none;stroke:#000000;stroke-width:2.0px;stroke-linecap:butt;stroke-linejoin:miter;stroke-opacity:1;\"/>\n",
       "<path class=\"atom-0\" d=\"M 49.7 103.1 Q 49.7 100.0, 51.2 98.3 Q 52.7 96.6, 55.5 96.6 Q 58.3 96.6, 59.8 98.3 Q 61.3 100.0, 61.3 103.1 Q 61.3 106.2, 59.8 107.9 Q 58.2 109.6, 55.5 109.6 Q 52.7 109.6, 51.2 107.9 Q 49.7 106.2, 49.7 103.1 M 55.5 108.2 Q 57.4 108.2, 58.4 106.9 Q 59.5 105.6, 59.5 103.1 Q 59.5 100.6, 58.4 99.3 Q 57.4 98.1, 55.5 98.1 Q 53.5 98.1, 52.5 99.3 Q 51.4 100.6, 51.4 103.1 Q 51.4 105.6, 52.5 106.9 Q 53.5 108.2, 55.5 108.2 \" fill=\"#FF0000\"/>\n",
       "<path class=\"atom-6\" d=\"M 239.9 67.6 Q 239.9 64.6, 241.4 62.9 Q 242.9 61.2, 245.7 61.2 Q 248.5 61.2, 250.0 62.9 Q 251.5 64.6, 251.5 67.6 Q 251.5 70.7, 250.0 72.4 Q 248.5 74.2, 245.7 74.2 Q 242.9 74.2, 241.4 72.4 Q 239.9 70.7, 239.9 67.6 M 245.7 72.7 Q 247.7 72.7, 248.7 71.4 Q 249.7 70.1, 249.7 67.6 Q 249.7 65.1, 248.7 63.9 Q 247.7 62.6, 245.7 62.6 Q 243.8 62.6, 242.7 63.8 Q 241.7 65.1, 241.7 67.6 Q 241.7 70.1, 242.7 71.4 Q 243.8 72.7, 245.7 72.7 \" fill=\"#FF0000\"/>\n",
       "<path class=\"atom-8\" d=\"M 204.8 136.6 Q 204.8 133.6, 206.3 131.9 Q 207.8 130.2, 210.7 130.2 Q 213.5 130.2, 215.0 131.9 Q 216.5 133.6, 216.5 136.6 Q 216.5 139.7, 214.9 141.4 Q 213.4 143.2, 210.7 143.2 Q 207.9 143.2, 206.3 141.4 Q 204.8 139.7, 204.8 136.6 M 210.7 141.8 Q 212.6 141.8, 213.6 140.5 Q 214.7 139.2, 214.7 136.6 Q 214.7 134.1, 213.6 132.9 Q 212.6 131.6, 210.7 131.6 Q 208.7 131.6, 207.7 132.9 Q 206.6 134.1, 206.6 136.6 Q 206.6 139.2, 207.7 140.5 Q 208.7 141.8, 210.7 141.8 \" fill=\"#FF0000\"/>\n",
       "</svg>"
      ],
      "text/plain": [
       "<IPython.core.display.SVG object>"
      ]
     },
     "execution_count": 88,
     "metadata": {},
     "output_type": "execute_result"
    }
   ],
   "source": [
    "big_smiles_gen(big)"
   ]
  },
  {
   "cell_type": "code",
   "execution_count": 89,
   "id": "d713ed1c",
   "metadata": {},
   "outputs": [
    {
     "name": "stdout",
     "output_type": "stream",
     "text": [
      "CCCCOC(=O)C(CC)CC(CC(CC(CC=O)C(=O)OCCCC)C(=O)OCCCC)C(=O)OCCCC\n",
      "0.15445631400224535\n",
      "51\n"
     ]
    },
    {
     "data": {
      "image/svg+xml": [
       "<svg xmlns=\"http://www.w3.org/2000/svg\" xmlns:rdkit=\"http://www.rdkit.org/xml\" xmlns:xlink=\"http://www.w3.org/1999/xlink\" version=\"1.1\" baseProfile=\"full\" xml:space=\"preserve\" width=\"450px\" height=\"150px\" viewBox=\"0 0 450 150\">\n",
       "<!-- END OF HEADER -->\n",
       "<rect style=\"opacity:1.0;fill:#FFFFFF;stroke:none\" width=\"450.0\" height=\"150.0\" x=\"0.0\" y=\"0.0\"> </rect>\n",
       "<path class=\"bond-0 atom-0 atom-1\" d=\"M 226.8,59.6 L 230.0,64.4\" style=\"fill:none;fill-rule:evenodd;stroke:#FF0000;stroke-width:2.0px;stroke-linecap:butt;stroke-linejoin:miter;stroke-opacity:1\"/>\n",
       "<path class=\"bond-0 atom-0 atom-1\" d=\"M 230.0,64.4 L 233.1,69.2\" style=\"fill:none;fill-rule:evenodd;stroke:#000000;stroke-width:2.0px;stroke-linecap:butt;stroke-linejoin:miter;stroke-opacity:1\"/>\n",
       "<path class=\"bond-0 atom-0 atom-1\" d=\"M 228.7,58.4 L 231.8,63.2\" style=\"fill:none;fill-rule:evenodd;stroke:#FF0000;stroke-width:2.0px;stroke-linecap:butt;stroke-linejoin:miter;stroke-opacity:1\"/>\n",
       "<path class=\"bond-0 atom-0 atom-1\" d=\"M 231.8,63.2 L 234.2,66.9\" style=\"fill:none;fill-rule:evenodd;stroke:#000000;stroke-width:2.0px;stroke-linecap:butt;stroke-linejoin:miter;stroke-opacity:1\"/>\n",
       "<path class=\"bond-1 atom-2 atom-3\" d=\"M 323.7,115.5 L 315.7,103.2\" style=\"fill:none;fill-rule:evenodd;stroke:#000000;stroke-width:2.0px;stroke-linecap:butt;stroke-linejoin:miter;stroke-opacity:1\"/>\n",
       "<path class=\"bond-2 atom-3 atom-4\" d=\"M 315.7,103.2 L 301.0,103.9\" style=\"fill:none;fill-rule:evenodd;stroke:#000000;stroke-width:2.0px;stroke-linecap:butt;stroke-linejoin:miter;stroke-opacity:1\"/>\n",
       "<path class=\"bond-3 atom-4 atom-5\" d=\"M 301.0,103.9 L 293.1,91.6\" style=\"fill:none;fill-rule:evenodd;stroke:#000000;stroke-width:2.0px;stroke-linecap:butt;stroke-linejoin:miter;stroke-opacity:1\"/>\n",
       "<path class=\"bond-4 atom-5 atom-6\" d=\"M 293.1,91.6 L 286.9,91.9\" style=\"fill:none;fill-rule:evenodd;stroke:#000000;stroke-width:2.0px;stroke-linecap:butt;stroke-linejoin:miter;stroke-opacity:1\"/>\n",
       "<path class=\"bond-4 atom-5 atom-6\" d=\"M 286.9,91.9 L 280.8,92.2\" style=\"fill:none;fill-rule:evenodd;stroke:#FF0000;stroke-width:2.0px;stroke-linecap:butt;stroke-linejoin:miter;stroke-opacity:1\"/>\n",
       "<path class=\"bond-5 atom-6 atom-7\" d=\"M 276.7,89.7 L 273.5,84.9\" style=\"fill:none;fill-rule:evenodd;stroke:#FF0000;stroke-width:2.0px;stroke-linecap:butt;stroke-linejoin:miter;stroke-opacity:1\"/>\n",
       "<path class=\"bond-5 atom-6 atom-7\" d=\"M 273.5,84.9 L 270.4,80.0\" style=\"fill:none;fill-rule:evenodd;stroke:#000000;stroke-width:2.0px;stroke-linecap:butt;stroke-linejoin:miter;stroke-opacity:1\"/>\n",
       "<path class=\"bond-6 atom-7 atom-8\" d=\"M 271.1,81.1 L 273.9,75.6\" style=\"fill:none;fill-rule:evenodd;stroke:#000000;stroke-width:2.0px;stroke-linecap:butt;stroke-linejoin:miter;stroke-opacity:1\"/>\n",
       "<path class=\"bond-6 atom-7 atom-8\" d=\"M 273.9,75.6 L 276.7,70.2\" style=\"fill:none;fill-rule:evenodd;stroke:#FF0000;stroke-width:2.0px;stroke-linecap:butt;stroke-linejoin:miter;stroke-opacity:1\"/>\n",
       "<path class=\"bond-6 atom-7 atom-8\" d=\"M 269.1,80.1 L 271.9,74.6\" style=\"fill:none;fill-rule:evenodd;stroke:#000000;stroke-width:2.0px;stroke-linecap:butt;stroke-linejoin:miter;stroke-opacity:1\"/>\n",
       "<path class=\"bond-6 atom-7 atom-8\" d=\"M 271.9,74.6 L 274.7,69.2\" style=\"fill:none;fill-rule:evenodd;stroke:#FF0000;stroke-width:2.0px;stroke-linecap:butt;stroke-linejoin:miter;stroke-opacity:1\"/>\n",
       "<path class=\"bond-7 atom-7 atom-9\" d=\"M 270.4,80.0 L 255.7,80.8\" style=\"fill:none;fill-rule:evenodd;stroke:#000000;stroke-width:2.0px;stroke-linecap:butt;stroke-linejoin:miter;stroke-opacity:1\"/>\n",
       "<path class=\"bond-8 atom-9 atom-10\" d=\"M 255.7,80.8 L 247.7,68.5\" style=\"fill:none;fill-rule:evenodd;stroke:#000000;stroke-width:2.0px;stroke-linecap:butt;stroke-linejoin:miter;stroke-opacity:1\"/>\n",
       "<path class=\"bond-9 atom-1 atom-10\" d=\"M 233.1,69.2 L 247.7,68.5\" style=\"fill:none;fill-rule:evenodd;stroke:#000000;stroke-width:2.0px;stroke-linecap:butt;stroke-linejoin:miter;stroke-opacity:1\"/>\n",
       "<path class=\"bond-10 atom-11 atom-12\" d=\"M 281.0,143.2 L 273.0,130.9\" style=\"fill:none;fill-rule:evenodd;stroke:#000000;stroke-width:2.0px;stroke-linecap:butt;stroke-linejoin:miter;stroke-opacity:1\"/>\n",
       "<path class=\"bond-11 atom-12 atom-13\" d=\"M 273.0,130.9 L 258.3,131.6\" style=\"fill:none;fill-rule:evenodd;stroke:#000000;stroke-width:2.0px;stroke-linecap:butt;stroke-linejoin:miter;stroke-opacity:1\"/>\n",
       "<path class=\"bond-12 atom-13 atom-14\" d=\"M 258.3,131.6 L 250.3,119.3\" style=\"fill:none;fill-rule:evenodd;stroke:#000000;stroke-width:2.0px;stroke-linecap:butt;stroke-linejoin:miter;stroke-opacity:1\"/>\n",
       "<path class=\"bond-13 atom-14 atom-15\" d=\"M 250.3,119.3 L 244.2,119.6\" style=\"fill:none;fill-rule:evenodd;stroke:#000000;stroke-width:2.0px;stroke-linecap:butt;stroke-linejoin:miter;stroke-opacity:1\"/>\n",
       "<path class=\"bond-13 atom-14 atom-15\" d=\"M 244.2,119.6 L 238.1,119.9\" style=\"fill:none;fill-rule:evenodd;stroke:#FF0000;stroke-width:2.0px;stroke-linecap:butt;stroke-linejoin:miter;stroke-opacity:1\"/>\n",
       "<path class=\"bond-14 atom-15 atom-16\" d=\"M 234.0,117.4 L 230.8,112.5\" style=\"fill:none;fill-rule:evenodd;stroke:#FF0000;stroke-width:2.0px;stroke-linecap:butt;stroke-linejoin:miter;stroke-opacity:1\"/>\n",
       "<path class=\"bond-14 atom-15 atom-16\" d=\"M 230.8,112.5 L 227.7,107.7\" style=\"fill:none;fill-rule:evenodd;stroke:#000000;stroke-width:2.0px;stroke-linecap:butt;stroke-linejoin:miter;stroke-opacity:1\"/>\n",
       "<path class=\"bond-15 atom-16 atom-17\" d=\"M 228.3,106.6 L 221.8,106.9\" style=\"fill:none;fill-rule:evenodd;stroke:#000000;stroke-width:2.0px;stroke-linecap:butt;stroke-linejoin:miter;stroke-opacity:1\"/>\n",
       "<path class=\"bond-15 atom-16 atom-17\" d=\"M 221.8,106.9 L 215.4,107.2\" style=\"fill:none;fill-rule:evenodd;stroke:#FF0000;stroke-width:2.0px;stroke-linecap:butt;stroke-linejoin:miter;stroke-opacity:1\"/>\n",
       "<path class=\"bond-15 atom-16 atom-17\" d=\"M 228.4,108.8 L 221.9,109.1\" style=\"fill:none;fill-rule:evenodd;stroke:#000000;stroke-width:2.0px;stroke-linecap:butt;stroke-linejoin:miter;stroke-opacity:1\"/>\n",
       "<path class=\"bond-15 atom-16 atom-17\" d=\"M 221.9,109.1 L 215.5,109.4\" style=\"fill:none;fill-rule:evenodd;stroke:#FF0000;stroke-width:2.0px;stroke-linecap:butt;stroke-linejoin:miter;stroke-opacity:1\"/>\n",
       "<path class=\"bond-16 atom-16 atom-18\" d=\"M 227.7,107.7 L 234.4,94.6\" style=\"fill:none;fill-rule:evenodd;stroke:#000000;stroke-width:2.0px;stroke-linecap:butt;stroke-linejoin:miter;stroke-opacity:1\"/>\n",
       "<path class=\"bond-17 atom-18 atom-19\" d=\"M 234.4,94.6 L 249.0,93.9\" style=\"fill:none;fill-rule:evenodd;stroke:#000000;stroke-width:2.0px;stroke-linecap:butt;stroke-linejoin:miter;stroke-opacity:1\"/>\n",
       "<path class=\"bond-18 atom-9 atom-19\" d=\"M 255.7,80.8 L 249.0,93.9\" style=\"fill:none;fill-rule:evenodd;stroke:#000000;stroke-width:2.0px;stroke-linecap:butt;stroke-linejoin:miter;stroke-opacity:1\"/>\n",
       "<path class=\"bond-19 atom-20 atom-21\" d=\"M 207.8,6.8 L 201.1,19.9\" style=\"fill:none;fill-rule:evenodd;stroke:#000000;stroke-width:2.0px;stroke-linecap:butt;stroke-linejoin:miter;stroke-opacity:1\"/>\n",
       "<path class=\"bond-20 atom-21 atom-22\" d=\"M 201.1,19.9 L 209.1,32.2\" style=\"fill:none;fill-rule:evenodd;stroke:#000000;stroke-width:2.0px;stroke-linecap:butt;stroke-linejoin:miter;stroke-opacity:1\"/>\n",
       "<path class=\"bond-21 atom-22 atom-23\" d=\"M 209.1,32.2 L 202.4,45.3\" style=\"fill:none;fill-rule:evenodd;stroke:#000000;stroke-width:2.0px;stroke-linecap:butt;stroke-linejoin:miter;stroke-opacity:1\"/>\n",
       "<path class=\"bond-22 atom-23 atom-24\" d=\"M 202.4,45.3 L 205.6,50.2\" style=\"fill:none;fill-rule:evenodd;stroke:#000000;stroke-width:2.0px;stroke-linecap:butt;stroke-linejoin:miter;stroke-opacity:1\"/>\n",
       "<path class=\"bond-22 atom-23 atom-24\" d=\"M 205.6,50.2 L 208.7,55.0\" style=\"fill:none;fill-rule:evenodd;stroke:#FF0000;stroke-width:2.0px;stroke-linecap:butt;stroke-linejoin:miter;stroke-opacity:1\"/>\n",
       "<path class=\"bond-23 atom-24 atom-25\" d=\"M 209.0,60.3 L 206.4,65.5\" style=\"fill:none;fill-rule:evenodd;stroke:#FF0000;stroke-width:2.0px;stroke-linecap:butt;stroke-linejoin:miter;stroke-opacity:1\"/>\n",
       "<path class=\"bond-23 atom-24 atom-25\" d=\"M 206.4,65.5 L 203.7,70.7\" style=\"fill:none;fill-rule:evenodd;stroke:#000000;stroke-width:2.0px;stroke-linecap:butt;stroke-linejoin:miter;stroke-opacity:1\"/>\n",
       "<path class=\"bond-24 atom-25 atom-26\" d=\"M 204.3,69.6 L 197.9,69.9\" style=\"fill:none;fill-rule:evenodd;stroke:#000000;stroke-width:2.0px;stroke-linecap:butt;stroke-linejoin:miter;stroke-opacity:1\"/>\n",
       "<path class=\"bond-24 atom-25 atom-26\" d=\"M 197.9,69.9 L 191.4,70.2\" style=\"fill:none;fill-rule:evenodd;stroke:#FF0000;stroke-width:2.0px;stroke-linecap:butt;stroke-linejoin:miter;stroke-opacity:1\"/>\n",
       "<path class=\"bond-24 atom-25 atom-26\" d=\"M 204.4,71.8 L 198.0,72.1\" style=\"fill:none;fill-rule:evenodd;stroke:#000000;stroke-width:2.0px;stroke-linecap:butt;stroke-linejoin:miter;stroke-opacity:1\"/>\n",
       "<path class=\"bond-24 atom-25 atom-26\" d=\"M 198.0,72.1 L 191.6,72.4\" style=\"fill:none;fill-rule:evenodd;stroke:#FF0000;stroke-width:2.0px;stroke-linecap:butt;stroke-linejoin:miter;stroke-opacity:1\"/>\n",
       "<path class=\"bond-25 atom-25 atom-27\" d=\"M 203.7,70.7 L 211.7,83.0\" style=\"fill:none;fill-rule:evenodd;stroke:#000000;stroke-width:2.0px;stroke-linecap:butt;stroke-linejoin:miter;stroke-opacity:1\"/>\n",
       "<path class=\"bond-26 atom-27 atom-28\" d=\"M 211.7,83.0 L 226.4,82.3\" style=\"fill:none;fill-rule:evenodd;stroke:#000000;stroke-width:2.0px;stroke-linecap:butt;stroke-linejoin:miter;stroke-opacity:1\"/>\n",
       "<path class=\"bond-27 atom-18 atom-28\" d=\"M 234.4,94.6 L 226.4,82.3\" style=\"fill:none;fill-rule:evenodd;stroke:#000000;stroke-width:2.0px;stroke-linecap:butt;stroke-linejoin:miter;stroke-opacity:1\"/>\n",
       "<path class=\"bond-28 atom-29 atom-30\" d=\"M 126.3,138.4 L 141.0,137.6\" style=\"fill:none;fill-rule:evenodd;stroke:#000000;stroke-width:2.0px;stroke-linecap:butt;stroke-linejoin:miter;stroke-opacity:1\"/>\n",
       "<path class=\"bond-29 atom-30 atom-31\" d=\"M 141.0,137.6 L 147.7,124.5\" style=\"fill:none;fill-rule:evenodd;stroke:#000000;stroke-width:2.0px;stroke-linecap:butt;stroke-linejoin:miter;stroke-opacity:1\"/>\n",
       "<path class=\"bond-30 atom-31 atom-32\" d=\"M 147.7,124.5 L 162.3,123.8\" style=\"fill:none;fill-rule:evenodd;stroke:#000000;stroke-width:2.0px;stroke-linecap:butt;stroke-linejoin:miter;stroke-opacity:1\"/>\n",
       "<path class=\"bond-31 atom-32 atom-33\" d=\"M 162.3,123.8 L 165.0,118.6\" style=\"fill:none;fill-rule:evenodd;stroke:#000000;stroke-width:2.0px;stroke-linecap:butt;stroke-linejoin:miter;stroke-opacity:1\"/>\n",
       "<path class=\"bond-31 atom-32 atom-33\" d=\"M 165.0,118.6 L 167.6,113.4\" style=\"fill:none;fill-rule:evenodd;stroke:#FF0000;stroke-width:2.0px;stroke-linecap:butt;stroke-linejoin:miter;stroke-opacity:1\"/>\n",
       "<path class=\"bond-32 atom-33 atom-34\" d=\"M 171.5,110.6 L 177.6,110.3\" style=\"fill:none;fill-rule:evenodd;stroke:#FF0000;stroke-width:2.0px;stroke-linecap:butt;stroke-linejoin:miter;stroke-opacity:1\"/>\n",
       "<path class=\"bond-32 atom-33 atom-34\" d=\"M 177.6,110.3 L 183.7,109.9\" style=\"fill:none;fill-rule:evenodd;stroke:#000000;stroke-width:2.0px;stroke-linecap:butt;stroke-linejoin:miter;stroke-opacity:1\"/>\n",
       "<path class=\"bond-33 atom-34 atom-35\" d=\"M 182.4,110.0 L 185.7,115.1\" style=\"fill:none;fill-rule:evenodd;stroke:#000000;stroke-width:2.0px;stroke-linecap:butt;stroke-linejoin:miter;stroke-opacity:1\"/>\n",
       "<path class=\"bond-33 atom-34 atom-35\" d=\"M 185.7,115.1 L 189.0,120.2\" style=\"fill:none;fill-rule:evenodd;stroke:#FF0000;stroke-width:2.0px;stroke-linecap:butt;stroke-linejoin:miter;stroke-opacity:1\"/>\n",
       "<path class=\"bond-33 atom-34 atom-35\" d=\"M 184.3,108.8 L 187.6,113.9\" style=\"fill:none;fill-rule:evenodd;stroke:#000000;stroke-width:2.0px;stroke-linecap:butt;stroke-linejoin:miter;stroke-opacity:1\"/>\n",
       "<path class=\"bond-33 atom-34 atom-35\" d=\"M 187.6,113.9 L 190.9,119.0\" style=\"fill:none;fill-rule:evenodd;stroke:#FF0000;stroke-width:2.0px;stroke-linecap:butt;stroke-linejoin:miter;stroke-opacity:1\"/>\n",
       "<path class=\"bond-34 atom-34 atom-36\" d=\"M 183.7,109.9 L 190.4,96.9\" style=\"fill:none;fill-rule:evenodd;stroke:#000000;stroke-width:2.0px;stroke-linecap:butt;stroke-linejoin:miter;stroke-opacity:1\"/>\n",
       "<path class=\"bond-35 atom-36 atom-37\" d=\"M 190.4,96.9 L 205.0,96.1\" style=\"fill:none;fill-rule:evenodd;stroke:#000000;stroke-width:2.0px;stroke-linecap:butt;stroke-linejoin:miter;stroke-opacity:1\"/>\n",
       "<path class=\"bond-36 atom-27 atom-37\" d=\"M 211.7,83.0 L 205.0,96.1\" style=\"fill:none;fill-rule:evenodd;stroke:#000000;stroke-width:2.0px;stroke-linecap:butt;stroke-linejoin:miter;stroke-opacity:1\"/>\n",
       "<path class=\"bond-37 atom-38 atom-39\" d=\"M 182.4,84.5 L 167.7,85.3\" style=\"fill:none;fill-rule:evenodd;stroke:#000000;stroke-width:2.0px;stroke-linecap:butt;stroke-linejoin:miter;stroke-opacity:1\"/>\n",
       "<path class=\"bond-38 atom-36 atom-38\" d=\"M 190.4,96.9 L 182.4,84.5\" style=\"fill:none;fill-rule:evenodd;stroke:#000000;stroke-width:2.0px;stroke-linecap:butt;stroke-linejoin:miter;stroke-opacity:1\"/>\n",
       "<path d=\"M 232.9,69.0 L 233.1,69.2 L 233.8,69.2\" style=\"fill:none;stroke:#000000;stroke-width:2.0px;stroke-linecap:butt;stroke-linejoin:miter;stroke-opacity:1;\"/>\n",
       "<path d=\"M 316.1,103.8 L 315.7,103.2 L 315.0,103.2\" style=\"fill:none;stroke:#000000;stroke-width:2.0px;stroke-linecap:butt;stroke-linejoin:miter;stroke-opacity:1;\"/>\n",
       "<path d=\"M 301.8,103.9 L 301.0,103.9 L 300.6,103.3\" style=\"fill:none;stroke:#000000;stroke-width:2.0px;stroke-linecap:butt;stroke-linejoin:miter;stroke-opacity:1;\"/>\n",
       "<path d=\"M 293.5,92.2 L 293.1,91.6 L 292.7,91.6\" style=\"fill:none;stroke:#000000;stroke-width:2.0px;stroke-linecap:butt;stroke-linejoin:miter;stroke-opacity:1;\"/>\n",
       "<path d=\"M 270.6,80.3 L 270.4,80.0 L 269.7,80.1\" style=\"fill:none;stroke:#000000;stroke-width:2.0px;stroke-linecap:butt;stroke-linejoin:miter;stroke-opacity:1;\"/>\n",
       "<path d=\"M 248.1,69.1 L 247.7,68.5 L 247.0,68.5\" style=\"fill:none;stroke:#000000;stroke-width:2.0px;stroke-linecap:butt;stroke-linejoin:miter;stroke-opacity:1;\"/>\n",
       "<path d=\"M 273.4,131.5 L 273.0,130.9 L 272.3,130.9\" style=\"fill:none;stroke:#000000;stroke-width:2.0px;stroke-linecap:butt;stroke-linejoin:miter;stroke-opacity:1;\"/>\n",
       "<path d=\"M 259.1,131.6 L 258.3,131.6 L 257.9,131.0\" style=\"fill:none;stroke:#000000;stroke-width:2.0px;stroke-linecap:butt;stroke-linejoin:miter;stroke-opacity:1;\"/>\n",
       "<path d=\"M 250.7,119.9 L 250.3,119.3 L 250.0,119.3\" style=\"fill:none;stroke:#000000;stroke-width:2.0px;stroke-linecap:butt;stroke-linejoin:miter;stroke-opacity:1;\"/>\n",
       "<path d=\"M 227.8,107.9 L 227.7,107.7 L 228.0,107.0\" style=\"fill:none;stroke:#000000;stroke-width:2.0px;stroke-linecap:butt;stroke-linejoin:miter;stroke-opacity:1;\"/>\n",
       "<path d=\"M 248.3,93.9 L 249.0,93.9 L 249.4,93.2\" style=\"fill:none;stroke:#000000;stroke-width:2.0px;stroke-linecap:butt;stroke-linejoin:miter;stroke-opacity:1;\"/>\n",
       "<path d=\"M 201.5,19.2 L 201.1,19.9 L 201.5,20.5\" style=\"fill:none;stroke:#000000;stroke-width:2.0px;stroke-linecap:butt;stroke-linejoin:miter;stroke-opacity:1;\"/>\n",
       "<path d=\"M 208.7,31.6 L 209.1,32.2 L 208.8,32.9\" style=\"fill:none;stroke:#000000;stroke-width:2.0px;stroke-linecap:butt;stroke-linejoin:miter;stroke-opacity:1;\"/>\n",
       "<path d=\"M 202.8,44.7 L 202.4,45.3 L 202.6,45.5\" style=\"fill:none;stroke:#000000;stroke-width:2.0px;stroke-linecap:butt;stroke-linejoin:miter;stroke-opacity:1;\"/>\n",
       "<path d=\"M 203.9,70.5 L 203.7,70.7 L 204.1,71.3\" style=\"fill:none;stroke:#000000;stroke-width:2.0px;stroke-linecap:butt;stroke-linejoin:miter;stroke-opacity:1;\"/>\n",
       "<path d=\"M 225.7,82.3 L 226.4,82.3 L 226.8,82.9\" style=\"fill:none;stroke:#000000;stroke-width:2.0px;stroke-linecap:butt;stroke-linejoin:miter;stroke-opacity:1;\"/>\n",
       "<path d=\"M 140.2,137.6 L 141.0,137.6 L 141.3,137.0\" style=\"fill:none;stroke:#000000;stroke-width:2.0px;stroke-linecap:butt;stroke-linejoin:miter;stroke-opacity:1;\"/>\n",
       "<path d=\"M 147.3,125.2 L 147.7,124.5 L 148.4,124.5\" style=\"fill:none;stroke:#000000;stroke-width:2.0px;stroke-linecap:butt;stroke-linejoin:miter;stroke-opacity:1;\"/>\n",
       "<path d=\"M 161.6,123.8 L 162.3,123.8 L 162.5,123.5\" style=\"fill:none;stroke:#000000;stroke-width:2.0px;stroke-linecap:butt;stroke-linejoin:miter;stroke-opacity:1;\"/>\n",
       "<path d=\"M 183.4,110.0 L 183.7,109.9 L 184.0,109.3\" style=\"fill:none;stroke:#000000;stroke-width:2.0px;stroke-linecap:butt;stroke-linejoin:miter;stroke-opacity:1;\"/>\n",
       "<path d=\"M 204.3,96.2 L 205.0,96.1 L 205.4,95.5\" style=\"fill:none;stroke:#000000;stroke-width:2.0px;stroke-linecap:butt;stroke-linejoin:miter;stroke-opacity:1;\"/>\n",
       "<path d=\"M 181.7,84.6 L 182.4,84.5 L 182.8,85.2\" style=\"fill:none;stroke:#000000;stroke-width:2.0px;stroke-linecap:butt;stroke-linejoin:miter;stroke-opacity:1;\"/>\n",
       "<path class=\"atom-0\" d=\"M 224.1 56.3 Q 224.1 55.3, 224.6 54.7 Q 225.1 54.1, 226.0 54.1 Q 227.0 54.1, 227.5 54.7 Q 228.0 55.3, 228.0 56.3 Q 228.0 57.3, 227.5 57.9 Q 226.9 58.5, 226.0 58.5 Q 225.1 58.5, 224.6 57.9 Q 224.1 57.3, 224.1 56.3 M 226.0 58.0 Q 226.7 58.0, 227.0 57.6 Q 227.4 57.1, 227.4 56.3 Q 227.4 55.5, 227.0 55.0 Q 226.7 54.6, 226.0 54.6 Q 225.4 54.6, 225.0 55.0 Q 224.7 55.5, 224.7 56.3 Q 224.7 57.2, 225.0 57.6 Q 225.4 58.0, 226.0 58.0 \" fill=\"#FF0000\"/>\n",
       "<path class=\"atom-6\" d=\"M 276.4 92.4 Q 276.4 91.4, 276.9 90.8 Q 277.4 90.2, 278.4 90.2 Q 279.3 90.2, 279.8 90.8 Q 280.3 91.4, 280.3 92.4 Q 280.3 93.4, 279.8 94.0 Q 279.3 94.6, 278.4 94.6 Q 277.4 94.6, 276.9 94.0 Q 276.4 93.4, 276.4 92.4 M 278.4 94.1 Q 279.0 94.1, 279.4 93.7 Q 279.7 93.2, 279.7 92.4 Q 279.7 91.5, 279.4 91.1 Q 279.0 90.7, 278.4 90.7 Q 277.7 90.7, 277.4 91.1 Q 277.0 91.5, 277.0 92.4 Q 277.0 93.2, 277.4 93.7 Q 277.7 94.1, 278.4 94.1 \" fill=\"#FF0000\"/>\n",
       "<path class=\"atom-8\" d=\"M 275.1 67.0 Q 275.1 66.0, 275.6 65.4 Q 276.1 64.8, 277.1 64.8 Q 278.0 64.8, 278.5 65.4 Q 279.0 66.0, 279.0 67.0 Q 279.0 68.0, 278.5 68.6 Q 278.0 69.2, 277.1 69.2 Q 276.1 69.2, 275.6 68.6 Q 275.1 68.0, 275.1 67.0 M 277.1 68.7 Q 277.7 68.7, 278.1 68.3 Q 278.4 67.8, 278.4 67.0 Q 278.4 66.1, 278.1 65.7 Q 277.7 65.3, 277.1 65.3 Q 276.4 65.3, 276.1 65.7 Q 275.7 66.1, 275.7 67.0 Q 275.7 67.8, 276.1 68.3 Q 276.4 68.7, 277.1 68.7 \" fill=\"#FF0000\"/>\n",
       "<path class=\"atom-15\" d=\"M 233.7 120.0 Q 233.7 119.0, 234.2 118.4 Q 234.7 117.9, 235.7 117.9 Q 236.6 117.9, 237.1 118.4 Q 237.6 119.0, 237.6 120.0 Q 237.6 121.1, 237.1 121.7 Q 236.6 122.2, 235.7 122.2 Q 234.7 122.2, 234.2 121.7 Q 233.7 121.1, 233.7 120.0 M 235.7 121.8 Q 236.3 121.8, 236.7 121.3 Q 237.0 120.9, 237.0 120.0 Q 237.0 119.2, 236.7 118.8 Q 236.3 118.4, 235.7 118.4 Q 235.0 118.4, 234.7 118.8 Q 234.3 119.2, 234.3 120.0 Q 234.3 120.9, 234.7 121.3 Q 235.0 121.8, 235.7 121.8 \" fill=\"#FF0000\"/>\n",
       "<path class=\"atom-17\" d=\"M 211.1 108.5 Q 211.1 107.4, 211.6 106.9 Q 212.1 106.3, 213.0 106.3 Q 214.0 106.3, 214.5 106.9 Q 215.0 107.4, 215.0 108.5 Q 215.0 109.5, 214.5 110.1 Q 214.0 110.7, 213.0 110.7 Q 212.1 110.7, 211.6 110.1 Q 211.1 109.5, 211.1 108.5 M 213.0 110.2 Q 213.7 110.2, 214.0 109.8 Q 214.4 109.3, 214.4 108.5 Q 214.4 107.6, 214.0 107.2 Q 213.7 106.8, 213.0 106.8 Q 212.4 106.8, 212.0 107.2 Q 211.7 107.6, 211.7 108.5 Q 211.7 109.3, 212.0 109.8 Q 212.4 110.2, 213.0 110.2 \" fill=\"#FF0000\"/>\n",
       "<path class=\"atom-24\" d=\"M 208.5 57.6 Q 208.5 56.6, 209.0 56.1 Q 209.5 55.5, 210.4 55.5 Q 211.4 55.5, 211.9 56.1 Q 212.4 56.6, 212.4 57.6 Q 212.4 58.7, 211.9 59.3 Q 211.4 59.8, 210.4 59.8 Q 209.5 59.8, 209.0 59.3 Q 208.5 58.7, 208.5 57.6 M 210.4 59.4 Q 211.1 59.4, 211.4 58.9 Q 211.8 58.5, 211.8 57.6 Q 211.8 56.8, 211.4 56.4 Q 211.1 56.0, 210.4 56.0 Q 209.8 56.0, 209.4 56.4 Q 209.1 56.8, 209.1 57.6 Q 209.1 58.5, 209.4 58.9 Q 209.8 59.4, 210.4 59.4 \" fill=\"#FF0000\"/>\n",
       "<path class=\"atom-26\" d=\"M 187.1 71.5 Q 187.1 70.5, 187.6 69.9 Q 188.1 69.3, 189.1 69.3 Q 190.0 69.3, 190.5 69.9 Q 191.0 70.5, 191.0 71.5 Q 191.0 72.5, 190.5 73.1 Q 190.0 73.7, 189.1 73.7 Q 188.1 73.7, 187.6 73.1 Q 187.1 72.5, 187.1 71.5 M 189.1 73.2 Q 189.7 73.2, 190.1 72.8 Q 190.4 72.3, 190.4 71.5 Q 190.4 70.6, 190.1 70.2 Q 189.7 69.8, 189.1 69.8 Q 188.4 69.8, 188.1 70.2 Q 187.7 70.6, 187.7 71.5 Q 187.7 72.3, 188.1 72.8 Q 188.4 73.2, 189.1 73.2 \" fill=\"#FF0000\"/>\n",
       "<path class=\"atom-33\" d=\"M 167.1 110.7 Q 167.1 109.7, 167.6 109.1 Q 168.1 108.6, 169.0 108.6 Q 170.0 108.6, 170.5 109.1 Q 171.0 109.7, 171.0 110.7 Q 171.0 111.7, 170.5 112.3 Q 169.9 112.9, 169.0 112.9 Q 168.1 112.9, 167.6 112.3 Q 167.1 111.8, 167.1 110.7 M 169.0 112.4 Q 169.7 112.4, 170.0 112.0 Q 170.4 111.6, 170.4 110.7 Q 170.4 109.9, 170.0 109.5 Q 169.7 109.0, 169.0 109.0 Q 168.4 109.0, 168.0 109.5 Q 167.7 109.9, 167.7 110.7 Q 167.7 111.6, 168.0 112.0 Q 168.4 112.4, 169.0 112.4 \" fill=\"#FF0000\"/>\n",
       "<path class=\"atom-35\" d=\"M 189.7 122.3 Q 189.7 121.3, 190.2 120.7 Q 190.7 120.1, 191.7 120.1 Q 192.6 120.1, 193.1 120.7 Q 193.6 121.3, 193.6 122.3 Q 193.6 123.3, 193.1 123.9 Q 192.6 124.5, 191.7 124.5 Q 190.7 124.5, 190.2 123.9 Q 189.7 123.3, 189.7 122.3 M 191.7 124.0 Q 192.3 124.0, 192.7 123.6 Q 193.0 123.1, 193.0 122.3 Q 193.0 121.5, 192.7 121.0 Q 192.3 120.6, 191.7 120.6 Q 191.0 120.6, 190.7 121.0 Q 190.3 121.5, 190.3 122.3 Q 190.3 123.1, 190.7 123.6 Q 191.0 124.0, 191.7 124.0 \" fill=\"#FF0000\"/>\n",
       "</svg>"
      ],
      "text/plain": [
       "<IPython.core.display.SVG object>"
      ]
     },
     "execution_count": 89,
     "metadata": {},
     "output_type": "execute_result"
    }
   ],
   "source": [
    "big_smiles_gen(big)"
   ]
  },
  {
   "cell_type": "code",
   "execution_count": null,
   "id": "5c4790b1",
   "metadata": {},
   "outputs": [],
   "source": []
  }
 ],
 "metadata": {
  "kernelspec": {
   "display_name": "Elwood",
   "language": "python",
   "name": "elwood"
  },
  "language_info": {
   "codemirror_mode": {
    "name": "ipython",
    "version": 3
   },
   "file_extension": ".py",
   "mimetype": "text/x-python",
   "name": "python",
   "nbconvert_exporter": "python",
   "pygments_lexer": "ipython3",
   "version": "3.9.15"
  }
 },
 "nbformat": 4,
 "nbformat_minor": 5
}
