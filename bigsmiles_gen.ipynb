{
 "cells": [
  {
   "cell_type": "code",
   "execution_count": 1,
   "id": "8fdabf24",
   "metadata": {},
   "outputs": [],
   "source": [
    "import numpy as np\n",
    "from rdkit import Chem\n",
    "from rdkit.Chem.Draw import IPythonConsole\n",
    "from IPython.display import SVG\n",
    "\n",
    "from rdkit.Chem import rdDepictor\n",
    "from rdkit.Chem.Draw import rdMolDraw2D\n",
    "\n",
    "counter = 0\n",
    "\n",
    "\n",
    "def moltosvg(mol, molSize=(450, 150), kekulize=True):\n",
    "    mc = Chem.Mol(mol.ToBinary())\n",
    "    if kekulize:\n",
    "        try:\n",
    "            Chem.Kekulize(mc)\n",
    "        except:\n",
    "            mc = Chem.Mol(mol.ToBinary())\n",
    "    if not mc.GetNumConformers():\n",
    "        rdDepictor.Compute2DCoords(mc)\n",
    "    drawer = rdMolDraw2D.MolDraw2DSVG(molSize[0], molSize[1])\n",
    "    drawer.DrawMolecule(mc)\n",
    "    drawer.FinishDrawing()\n",
    "    svg = drawer.GetDrawingText()\n",
    "    global counter\n",
    "    # with open(f\"mol{counter}.svg\", \"w\") as filehandle:\n",
    "    #    filehandle.write(svg)\n",
    "    # print(counter)\n",
    "    counter += 1\n",
    "    return svg\n",
    "\n",
    "\n",
    "def render_svg(svg):\n",
    "    # It seems that the svg renderer used doesn't quite hit the spec.\n",
    "    # Here are some fixes to make it work in the notebook, although I think\n",
    "    # the underlying issue needs to be resolved at the generation step\n",
    "    return SVG(svg.replace(\"svg:\", \"\"))"
   ]
  },
  {
   "cell_type": "markdown",
   "id": "c9c47332",
   "metadata": {},
   "source": [
    "#### Helper function to generate and visualize bigSMILES strings"
   ]
  },
  {
   "cell_type": "code",
   "execution_count": 2,
   "id": "d34df229",
   "metadata": {},
   "outputs": [],
   "source": [
    "from bigsmiles_gen import System\n",
    "\n",
    "# Consistent random numbers also across calls\n",
    "rng = np.random.default_rng(42)\n",
    "\n",
    "\n",
    "def big_smiles_gen(string):\n",
    "    global rng\n",
    "    # Generate the abstract python object, parsing bigSMILES\n",
    "    ext = System(big)\n",
    "    # Generate molecules according to extension\n",
    "    mol = ext.generate(rng=rng)\n",
    "    # Draw said molecule\n",
    "    return render_svg(moltosvg(mol.get_mol()))"
   ]
  },
  {
   "cell_type": "markdown",
   "id": "a0269eff",
   "metadata": {},
   "source": [
    "# Polyesters \n",
    "## Di-Carboxyl Acids with 2-5 middle C total Mw 500\n",
    "\n",
    "BigSMILES:"
   ]
  },
  {
   "cell_type": "code",
   "execution_count": 3,
   "id": "51c788ab",
   "metadata": {},
   "outputs": [
    {
     "data": {
      "text/plain": [
       "'OOC{[$][$]C(=O)C[$][$]}|uniform(120, 720)|COO'"
      ]
     },
     "execution_count": 3,
     "metadata": {},
     "output_type": "execute_result"
    }
   ],
   "source": [
    "big = \"OOC{[$][$]C(=O)C[$][$]}|uniform(120, 720)|COO\"\n",
    "big"
   ]
  },
  {
   "cell_type": "markdown",
   "id": "f5bbde03",
   "metadata": {},
   "source": [
    "### Explanation\n",
    "\n",
    "- `OOC` just normal SMILES for how the first initial group looks like\n",
    "- `{....}` stochastic object, here just one carbon that is repeated\n",
    "- `{[$]` and `[$]}` terminal descriptors, how does the stochastic object connect with the pre- and suffix\n",
    "- `[$]C[$]` one C to repeat, with a bond in front and one at the end\n",
    "- `|uniform(12, 72)|` extension detailing that the stochastic object is between 12 and 72 g/mol heavy\n",
    "- `COO` suffix of the molecule\n",
    "- `.|500|` extension detailing that the total system component of this as a min Mw of 500 g/mol\n"
   ]
  },
  {
   "cell_type": "code",
   "execution_count": 4,
   "id": "4e74171e",
   "metadata": {},
   "outputs": [
    {
     "name": "stderr",
     "output_type": "stream",
     "text": [
      "/home/ludwig/git/bigSMILESgen/bigsmiles_gen/system.py:70: UserWarning: The system cannot be fully generated, since the total system molecular weight cannot be estimated.\n",
      "  warn(\n"
     ]
    },
    {
     "data": {
      "image/svg+xml": [
       "<svg xmlns=\"http://www.w3.org/2000/svg\" xmlns:rdkit=\"http://www.rdkit.org/xml\" xmlns:xlink=\"http://www.w3.org/1999/xlink\" version=\"1.1\" baseProfile=\"full\" xml:space=\"preserve\" width=\"450px\" height=\"150px\" viewBox=\"0 0 450 150\">\n",
       "<!-- END OF HEADER -->\n",
       "<rect style=\"opacity:1.0;fill:#FFFFFF;stroke:none\" width=\"450.0\" height=\"150.0\" x=\"0.0\" y=\"0.0\"> </rect>\n",
       "<path class=\"bond-0 atom-0 atom-1\" d=\"M 28.6,73.3 L 36.7,68.8\" style=\"fill:none;fill-rule:evenodd;stroke:#FF0000;stroke-width:2.0px;stroke-linecap:butt;stroke-linejoin:miter;stroke-opacity:1\"/>\n",
       "<path class=\"bond-1 atom-1 atom-2\" d=\"M 41.6,68.9 L 46.7,72.0\" style=\"fill:none;fill-rule:evenodd;stroke:#FF0000;stroke-width:2.0px;stroke-linecap:butt;stroke-linejoin:miter;stroke-opacity:1\"/>\n",
       "<path class=\"bond-1 atom-1 atom-2\" d=\"M 46.7,72.0 L 51.8,75.1\" style=\"fill:none;fill-rule:evenodd;stroke:#000000;stroke-width:2.0px;stroke-linecap:butt;stroke-linejoin:miter;stroke-opacity:1\"/>\n",
       "<path class=\"bond-2 atom-3 atom-4\" d=\"M 79.0,75.6 L 78.9,81.7\" style=\"fill:none;fill-rule:evenodd;stroke:#000000;stroke-width:2.0px;stroke-linecap:butt;stroke-linejoin:miter;stroke-opacity:1\"/>\n",
       "<path class=\"bond-2 atom-3 atom-4\" d=\"M 78.9,81.7 L 78.7,87.8\" style=\"fill:none;fill-rule:evenodd;stroke:#FF0000;stroke-width:2.0px;stroke-linecap:butt;stroke-linejoin:miter;stroke-opacity:1\"/>\n",
       "<path class=\"bond-2 atom-3 atom-4\" d=\"M 76.0,75.6 L 75.9,81.7\" style=\"fill:none;fill-rule:evenodd;stroke:#000000;stroke-width:2.0px;stroke-linecap:butt;stroke-linejoin:miter;stroke-opacity:1\"/>\n",
       "<path class=\"bond-2 atom-3 atom-4\" d=\"M 75.9,81.7 L 75.8,87.8\" style=\"fill:none;fill-rule:evenodd;stroke:#FF0000;stroke-width:2.0px;stroke-linecap:butt;stroke-linejoin:miter;stroke-opacity:1\"/>\n",
       "<path class=\"bond-3 atom-3 atom-5\" d=\"M 77.5,75.6 L 64.8,68.0\" style=\"fill:none;fill-rule:evenodd;stroke:#000000;stroke-width:2.0px;stroke-linecap:butt;stroke-linejoin:miter;stroke-opacity:1\"/>\n",
       "<path class=\"bond-4 atom-2 atom-5\" d=\"M 51.8,75.1 L 64.8,68.0\" style=\"fill:none;fill-rule:evenodd;stroke:#000000;stroke-width:2.0px;stroke-linecap:butt;stroke-linejoin:miter;stroke-opacity:1\"/>\n",
       "<path class=\"bond-5 atom-6 atom-7\" d=\"M 104.6,76.1 L 104.5,82.2\" style=\"fill:none;fill-rule:evenodd;stroke:#000000;stroke-width:2.0px;stroke-linecap:butt;stroke-linejoin:miter;stroke-opacity:1\"/>\n",
       "<path class=\"bond-5 atom-6 atom-7\" d=\"M 104.5,82.2 L 104.4,88.3\" style=\"fill:none;fill-rule:evenodd;stroke:#FF0000;stroke-width:2.0px;stroke-linecap:butt;stroke-linejoin:miter;stroke-opacity:1\"/>\n",
       "<path class=\"bond-5 atom-6 atom-7\" d=\"M 101.7,76.1 L 101.6,82.2\" style=\"fill:none;fill-rule:evenodd;stroke:#000000;stroke-width:2.0px;stroke-linecap:butt;stroke-linejoin:miter;stroke-opacity:1\"/>\n",
       "<path class=\"bond-5 atom-6 atom-7\" d=\"M 101.6,82.2 L 101.4,88.3\" style=\"fill:none;fill-rule:evenodd;stroke:#FF0000;stroke-width:2.0px;stroke-linecap:butt;stroke-linejoin:miter;stroke-opacity:1\"/>\n",
       "<path class=\"bond-6 atom-6 atom-8\" d=\"M 103.1,76.1 L 90.5,68.4\" style=\"fill:none;fill-rule:evenodd;stroke:#000000;stroke-width:2.0px;stroke-linecap:butt;stroke-linejoin:miter;stroke-opacity:1\"/>\n",
       "<path class=\"bond-7 atom-3 atom-8\" d=\"M 77.5,75.6 L 90.5,68.4\" style=\"fill:none;fill-rule:evenodd;stroke:#000000;stroke-width:2.0px;stroke-linecap:butt;stroke-linejoin:miter;stroke-opacity:1\"/>\n",
       "<path class=\"bond-8 atom-9 atom-10\" d=\"M 130.3,76.6 L 130.2,82.7\" style=\"fill:none;fill-rule:evenodd;stroke:#000000;stroke-width:2.0px;stroke-linecap:butt;stroke-linejoin:miter;stroke-opacity:1\"/>\n",
       "<path class=\"bond-8 atom-9 atom-10\" d=\"M 130.2,82.7 L 130.1,88.8\" style=\"fill:none;fill-rule:evenodd;stroke:#FF0000;stroke-width:2.0px;stroke-linecap:butt;stroke-linejoin:miter;stroke-opacity:1\"/>\n",
       "<path class=\"bond-8 atom-9 atom-10\" d=\"M 127.3,76.6 L 127.2,82.7\" style=\"fill:none;fill-rule:evenodd;stroke:#000000;stroke-width:2.0px;stroke-linecap:butt;stroke-linejoin:miter;stroke-opacity:1\"/>\n",
       "<path class=\"bond-8 atom-9 atom-10\" d=\"M 127.2,82.7 L 127.1,88.7\" style=\"fill:none;fill-rule:evenodd;stroke:#FF0000;stroke-width:2.0px;stroke-linecap:butt;stroke-linejoin:miter;stroke-opacity:1\"/>\n",
       "<path class=\"bond-9 atom-9 atom-11\" d=\"M 128.8,76.6 L 116.1,68.9\" style=\"fill:none;fill-rule:evenodd;stroke:#000000;stroke-width:2.0px;stroke-linecap:butt;stroke-linejoin:miter;stroke-opacity:1\"/>\n",
       "<path class=\"bond-10 atom-6 atom-11\" d=\"M 103.1,76.1 L 116.1,68.9\" style=\"fill:none;fill-rule:evenodd;stroke:#000000;stroke-width:2.0px;stroke-linecap:butt;stroke-linejoin:miter;stroke-opacity:1\"/>\n",
       "<path class=\"bond-11 atom-12 atom-13\" d=\"M 140.3,69.4 L 140.4,63.3\" style=\"fill:none;fill-rule:evenodd;stroke:#000000;stroke-width:2.0px;stroke-linecap:butt;stroke-linejoin:miter;stroke-opacity:1\"/>\n",
       "<path class=\"bond-11 atom-12 atom-13\" d=\"M 140.4,63.3 L 140.5,57.3\" style=\"fill:none;fill-rule:evenodd;stroke:#FF0000;stroke-width:2.0px;stroke-linecap:butt;stroke-linejoin:miter;stroke-opacity:1\"/>\n",
       "<path class=\"bond-11 atom-12 atom-13\" d=\"M 143.3,69.5 L 143.4,63.4\" style=\"fill:none;fill-rule:evenodd;stroke:#000000;stroke-width:2.0px;stroke-linecap:butt;stroke-linejoin:miter;stroke-opacity:1\"/>\n",
       "<path class=\"bond-11 atom-12 atom-13\" d=\"M 143.4,63.4 L 143.5,57.3\" style=\"fill:none;fill-rule:evenodd;stroke:#FF0000;stroke-width:2.0px;stroke-linecap:butt;stroke-linejoin:miter;stroke-opacity:1\"/>\n",
       "<path class=\"bond-12 atom-12 atom-14\" d=\"M 141.8,69.4 L 154.5,77.1\" style=\"fill:none;fill-rule:evenodd;stroke:#000000;stroke-width:2.0px;stroke-linecap:butt;stroke-linejoin:miter;stroke-opacity:1\"/>\n",
       "<path class=\"bond-13 atom-9 atom-12\" d=\"M 128.8,76.6 L 141.8,69.4\" style=\"fill:none;fill-rule:evenodd;stroke:#000000;stroke-width:2.0px;stroke-linecap:butt;stroke-linejoin:miter;stroke-opacity:1\"/>\n",
       "<path class=\"bond-14 atom-15 atom-16\" d=\"M 181.6,77.6 L 181.5,83.7\" style=\"fill:none;fill-rule:evenodd;stroke:#000000;stroke-width:2.0px;stroke-linecap:butt;stroke-linejoin:miter;stroke-opacity:1\"/>\n",
       "<path class=\"bond-14 atom-15 atom-16\" d=\"M 181.5,83.7 L 181.4,89.8\" style=\"fill:none;fill-rule:evenodd;stroke:#FF0000;stroke-width:2.0px;stroke-linecap:butt;stroke-linejoin:miter;stroke-opacity:1\"/>\n",
       "<path class=\"bond-14 atom-15 atom-16\" d=\"M 178.6,77.5 L 178.5,83.6\" style=\"fill:none;fill-rule:evenodd;stroke:#000000;stroke-width:2.0px;stroke-linecap:butt;stroke-linejoin:miter;stroke-opacity:1\"/>\n",
       "<path class=\"bond-14 atom-15 atom-16\" d=\"M 178.5,83.6 L 178.4,89.7\" style=\"fill:none;fill-rule:evenodd;stroke:#FF0000;stroke-width:2.0px;stroke-linecap:butt;stroke-linejoin:miter;stroke-opacity:1\"/>\n",
       "<path class=\"bond-15 atom-15 atom-17\" d=\"M 180.1,77.6 L 167.4,69.9\" style=\"fill:none;fill-rule:evenodd;stroke:#000000;stroke-width:2.0px;stroke-linecap:butt;stroke-linejoin:miter;stroke-opacity:1\"/>\n",
       "<path class=\"bond-16 atom-14 atom-17\" d=\"M 154.5,77.1 L 167.4,69.9\" style=\"fill:none;fill-rule:evenodd;stroke:#000000;stroke-width:2.0px;stroke-linecap:butt;stroke-linejoin:miter;stroke-opacity:1\"/>\n",
       "<path class=\"bond-17 atom-18 atom-19\" d=\"M 207.3,78.1 L 207.2,84.2\" style=\"fill:none;fill-rule:evenodd;stroke:#000000;stroke-width:2.0px;stroke-linecap:butt;stroke-linejoin:miter;stroke-opacity:1\"/>\n",
       "<path class=\"bond-17 atom-18 atom-19\" d=\"M 207.2,84.2 L 207.0,90.3\" style=\"fill:none;fill-rule:evenodd;stroke:#FF0000;stroke-width:2.0px;stroke-linecap:butt;stroke-linejoin:miter;stroke-opacity:1\"/>\n",
       "<path class=\"bond-17 atom-18 atom-19\" d=\"M 204.3,78.0 L 204.2,84.1\" style=\"fill:none;fill-rule:evenodd;stroke:#000000;stroke-width:2.0px;stroke-linecap:butt;stroke-linejoin:miter;stroke-opacity:1\"/>\n",
       "<path class=\"bond-17 atom-18 atom-19\" d=\"M 204.2,84.1 L 204.1,90.2\" style=\"fill:none;fill-rule:evenodd;stroke:#FF0000;stroke-width:2.0px;stroke-linecap:butt;stroke-linejoin:miter;stroke-opacity:1\"/>\n",
       "<path class=\"bond-18 atom-18 atom-20\" d=\"M 205.8,78.1 L 193.1,70.4\" style=\"fill:none;fill-rule:evenodd;stroke:#000000;stroke-width:2.0px;stroke-linecap:butt;stroke-linejoin:miter;stroke-opacity:1\"/>\n",
       "<path class=\"bond-19 atom-15 atom-20\" d=\"M 180.1,77.6 L 193.1,70.4\" style=\"fill:none;fill-rule:evenodd;stroke:#000000;stroke-width:2.0px;stroke-linecap:butt;stroke-linejoin:miter;stroke-opacity:1\"/>\n",
       "<path class=\"bond-20 atom-21 atom-22\" d=\"M 217.3,70.9 L 217.4,64.8\" style=\"fill:none;fill-rule:evenodd;stroke:#000000;stroke-width:2.0px;stroke-linecap:butt;stroke-linejoin:miter;stroke-opacity:1\"/>\n",
       "<path class=\"bond-20 atom-21 atom-22\" d=\"M 217.4,64.8 L 217.5,58.8\" style=\"fill:none;fill-rule:evenodd;stroke:#FF0000;stroke-width:2.0px;stroke-linecap:butt;stroke-linejoin:miter;stroke-opacity:1\"/>\n",
       "<path class=\"bond-20 atom-21 atom-22\" d=\"M 220.2,70.9 L 220.4,64.9\" style=\"fill:none;fill-rule:evenodd;stroke:#000000;stroke-width:2.0px;stroke-linecap:butt;stroke-linejoin:miter;stroke-opacity:1\"/>\n",
       "<path class=\"bond-20 atom-21 atom-22\" d=\"M 220.4,64.9 L 220.5,58.8\" style=\"fill:none;fill-rule:evenodd;stroke:#FF0000;stroke-width:2.0px;stroke-linecap:butt;stroke-linejoin:miter;stroke-opacity:1\"/>\n",
       "<path class=\"bond-21 atom-21 atom-23\" d=\"M 218.8,70.9 L 231.4,78.5\" style=\"fill:none;fill-rule:evenodd;stroke:#000000;stroke-width:2.0px;stroke-linecap:butt;stroke-linejoin:miter;stroke-opacity:1\"/>\n",
       "<path class=\"bond-22 atom-18 atom-21\" d=\"M 205.8,78.1 L 218.8,70.9\" style=\"fill:none;fill-rule:evenodd;stroke:#000000;stroke-width:2.0px;stroke-linecap:butt;stroke-linejoin:miter;stroke-opacity:1\"/>\n",
       "<path class=\"bond-23 atom-24 atom-25\" d=\"M 242.9,71.4 L 243.1,65.3\" style=\"fill:none;fill-rule:evenodd;stroke:#000000;stroke-width:2.0px;stroke-linecap:butt;stroke-linejoin:miter;stroke-opacity:1\"/>\n",
       "<path class=\"bond-23 atom-24 atom-25\" d=\"M 243.1,65.3 L 243.2,59.2\" style=\"fill:none;fill-rule:evenodd;stroke:#FF0000;stroke-width:2.0px;stroke-linecap:butt;stroke-linejoin:miter;stroke-opacity:1\"/>\n",
       "<path class=\"bond-23 atom-24 atom-25\" d=\"M 245.9,71.4 L 246.0,65.4\" style=\"fill:none;fill-rule:evenodd;stroke:#000000;stroke-width:2.0px;stroke-linecap:butt;stroke-linejoin:miter;stroke-opacity:1\"/>\n",
       "<path class=\"bond-23 atom-24 atom-25\" d=\"M 246.0,65.4 L 246.1,59.3\" style=\"fill:none;fill-rule:evenodd;stroke:#FF0000;stroke-width:2.0px;stroke-linecap:butt;stroke-linejoin:miter;stroke-opacity:1\"/>\n",
       "<path class=\"bond-24 atom-24 atom-26\" d=\"M 244.4,71.4 L 257.1,79.0\" style=\"fill:none;fill-rule:evenodd;stroke:#000000;stroke-width:2.0px;stroke-linecap:butt;stroke-linejoin:miter;stroke-opacity:1\"/>\n",
       "<path class=\"bond-25 atom-23 atom-24\" d=\"M 231.4,78.5 L 244.4,71.4\" style=\"fill:none;fill-rule:evenodd;stroke:#000000;stroke-width:2.0px;stroke-linecap:butt;stroke-linejoin:miter;stroke-opacity:1\"/>\n",
       "<path class=\"bond-26 atom-27 atom-28\" d=\"M 284.3,79.6 L 284.1,85.6\" style=\"fill:none;fill-rule:evenodd;stroke:#000000;stroke-width:2.0px;stroke-linecap:butt;stroke-linejoin:miter;stroke-opacity:1\"/>\n",
       "<path class=\"bond-26 atom-27 atom-28\" d=\"M 284.1,85.6 L 284.0,91.7\" style=\"fill:none;fill-rule:evenodd;stroke:#FF0000;stroke-width:2.0px;stroke-linecap:butt;stroke-linejoin:miter;stroke-opacity:1\"/>\n",
       "<path class=\"bond-26 atom-27 atom-28\" d=\"M 281.3,79.5 L 281.2,85.6\" style=\"fill:none;fill-rule:evenodd;stroke:#000000;stroke-width:2.0px;stroke-linecap:butt;stroke-linejoin:miter;stroke-opacity:1\"/>\n",
       "<path class=\"bond-26 atom-27 atom-28\" d=\"M 281.2,85.6 L 281.1,91.7\" style=\"fill:none;fill-rule:evenodd;stroke:#FF0000;stroke-width:2.0px;stroke-linecap:butt;stroke-linejoin:miter;stroke-opacity:1\"/>\n",
       "<path class=\"bond-27 atom-27 atom-29\" d=\"M 282.8,79.5 L 270.1,71.9\" style=\"fill:none;fill-rule:evenodd;stroke:#000000;stroke-width:2.0px;stroke-linecap:butt;stroke-linejoin:miter;stroke-opacity:1\"/>\n",
       "<path class=\"bond-28 atom-26 atom-29\" d=\"M 257.1,79.0 L 270.1,71.9\" style=\"fill:none;fill-rule:evenodd;stroke:#000000;stroke-width:2.0px;stroke-linecap:butt;stroke-linejoin:miter;stroke-opacity:1\"/>\n",
       "<path class=\"bond-29 atom-30 atom-31\" d=\"M 294.3,72.3 L 294.4,66.3\" style=\"fill:none;fill-rule:evenodd;stroke:#000000;stroke-width:2.0px;stroke-linecap:butt;stroke-linejoin:miter;stroke-opacity:1\"/>\n",
       "<path class=\"bond-29 atom-30 atom-31\" d=\"M 294.4,66.3 L 294.5,60.2\" style=\"fill:none;fill-rule:evenodd;stroke:#FF0000;stroke-width:2.0px;stroke-linecap:butt;stroke-linejoin:miter;stroke-opacity:1\"/>\n",
       "<path class=\"bond-29 atom-30 atom-31\" d=\"M 297.2,72.4 L 297.3,66.3\" style=\"fill:none;fill-rule:evenodd;stroke:#000000;stroke-width:2.0px;stroke-linecap:butt;stroke-linejoin:miter;stroke-opacity:1\"/>\n",
       "<path class=\"bond-29 atom-30 atom-31\" d=\"M 297.3,66.3 L 297.5,60.3\" style=\"fill:none;fill-rule:evenodd;stroke:#FF0000;stroke-width:2.0px;stroke-linecap:butt;stroke-linejoin:miter;stroke-opacity:1\"/>\n",
       "<path class=\"bond-30 atom-30 atom-32\" d=\"M 295.7,72.4 L 308.4,80.0\" style=\"fill:none;fill-rule:evenodd;stroke:#000000;stroke-width:2.0px;stroke-linecap:butt;stroke-linejoin:miter;stroke-opacity:1\"/>\n",
       "<path class=\"bond-31 atom-27 atom-30\" d=\"M 282.8,79.5 L 295.7,72.4\" style=\"fill:none;fill-rule:evenodd;stroke:#000000;stroke-width:2.0px;stroke-linecap:butt;stroke-linejoin:miter;stroke-opacity:1\"/>\n",
       "<path class=\"bond-32 atom-33 atom-34\" d=\"M 335.6,80.5 L 335.5,86.6\" style=\"fill:none;fill-rule:evenodd;stroke:#000000;stroke-width:2.0px;stroke-linecap:butt;stroke-linejoin:miter;stroke-opacity:1\"/>\n",
       "<path class=\"bond-32 atom-33 atom-34\" d=\"M 335.5,86.6 L 335.3,92.7\" style=\"fill:none;fill-rule:evenodd;stroke:#FF0000;stroke-width:2.0px;stroke-linecap:butt;stroke-linejoin:miter;stroke-opacity:1\"/>\n",
       "<path class=\"bond-32 atom-33 atom-34\" d=\"M 332.6,80.5 L 332.5,86.6\" style=\"fill:none;fill-rule:evenodd;stroke:#000000;stroke-width:2.0px;stroke-linecap:butt;stroke-linejoin:miter;stroke-opacity:1\"/>\n",
       "<path class=\"bond-32 atom-33 atom-34\" d=\"M 332.5,86.6 L 332.4,92.7\" style=\"fill:none;fill-rule:evenodd;stroke:#FF0000;stroke-width:2.0px;stroke-linecap:butt;stroke-linejoin:miter;stroke-opacity:1\"/>\n",
       "<path class=\"bond-33 atom-33 atom-35\" d=\"M 334.1,80.5 L 321.4,72.9\" style=\"fill:none;fill-rule:evenodd;stroke:#000000;stroke-width:2.0px;stroke-linecap:butt;stroke-linejoin:miter;stroke-opacity:1\"/>\n",
       "<path class=\"bond-34 atom-32 atom-35\" d=\"M 308.4,80.0 L 321.4,72.9\" style=\"fill:none;fill-rule:evenodd;stroke:#000000;stroke-width:2.0px;stroke-linecap:butt;stroke-linejoin:miter;stroke-opacity:1\"/>\n",
       "<path class=\"bond-35 atom-36 atom-37\" d=\"M 345.6,73.3 L 345.7,67.3\" style=\"fill:none;fill-rule:evenodd;stroke:#000000;stroke-width:2.0px;stroke-linecap:butt;stroke-linejoin:miter;stroke-opacity:1\"/>\n",
       "<path class=\"bond-35 atom-36 atom-37\" d=\"M 345.7,67.3 L 345.8,61.2\" style=\"fill:none;fill-rule:evenodd;stroke:#FF0000;stroke-width:2.0px;stroke-linecap:butt;stroke-linejoin:miter;stroke-opacity:1\"/>\n",
       "<path class=\"bond-35 atom-36 atom-37\" d=\"M 348.5,73.4 L 348.7,67.3\" style=\"fill:none;fill-rule:evenodd;stroke:#000000;stroke-width:2.0px;stroke-linecap:butt;stroke-linejoin:miter;stroke-opacity:1\"/>\n",
       "<path class=\"bond-35 atom-36 atom-37\" d=\"M 348.7,67.3 L 348.8,61.3\" style=\"fill:none;fill-rule:evenodd;stroke:#FF0000;stroke-width:2.0px;stroke-linecap:butt;stroke-linejoin:miter;stroke-opacity:1\"/>\n",
       "<path class=\"bond-36 atom-36 atom-38\" d=\"M 347.1,73.3 L 359.7,81.0\" style=\"fill:none;fill-rule:evenodd;stroke:#000000;stroke-width:2.0px;stroke-linecap:butt;stroke-linejoin:miter;stroke-opacity:1\"/>\n",
       "<path class=\"bond-37 atom-33 atom-36\" d=\"M 334.1,80.5 L 347.1,73.3\" style=\"fill:none;fill-rule:evenodd;stroke:#000000;stroke-width:2.0px;stroke-linecap:butt;stroke-linejoin:miter;stroke-opacity:1\"/>\n",
       "<path class=\"bond-38 atom-39 atom-40\" d=\"M 371.2,73.8 L 371.4,67.7\" style=\"fill:none;fill-rule:evenodd;stroke:#000000;stroke-width:2.0px;stroke-linecap:butt;stroke-linejoin:miter;stroke-opacity:1\"/>\n",
       "<path class=\"bond-38 atom-39 atom-40\" d=\"M 371.4,67.7 L 371.5,61.7\" style=\"fill:none;fill-rule:evenodd;stroke:#FF0000;stroke-width:2.0px;stroke-linecap:butt;stroke-linejoin:miter;stroke-opacity:1\"/>\n",
       "<path class=\"bond-38 atom-39 atom-40\" d=\"M 374.2,73.9 L 374.3,67.8\" style=\"fill:none;fill-rule:evenodd;stroke:#000000;stroke-width:2.0px;stroke-linecap:butt;stroke-linejoin:miter;stroke-opacity:1\"/>\n",
       "<path class=\"bond-38 atom-39 atom-40\" d=\"M 374.3,67.8 L 374.4,61.7\" style=\"fill:none;fill-rule:evenodd;stroke:#FF0000;stroke-width:2.0px;stroke-linecap:butt;stroke-linejoin:miter;stroke-opacity:1\"/>\n",
       "<path class=\"bond-39 atom-39 atom-41\" d=\"M 372.7,73.8 L 385.4,81.5\" style=\"fill:none;fill-rule:evenodd;stroke:#000000;stroke-width:2.0px;stroke-linecap:butt;stroke-linejoin:miter;stroke-opacity:1\"/>\n",
       "<path class=\"bond-40 atom-38 atom-39\" d=\"M 359.7,81.0 L 372.7,73.8\" style=\"fill:none;fill-rule:evenodd;stroke:#000000;stroke-width:2.0px;stroke-linecap:butt;stroke-linejoin:miter;stroke-opacity:1\"/>\n",
       "<path class=\"bond-41 atom-42 atom-43\" d=\"M 398.4,74.3 L 403.5,77.4\" style=\"fill:none;fill-rule:evenodd;stroke:#000000;stroke-width:2.0px;stroke-linecap:butt;stroke-linejoin:miter;stroke-opacity:1\"/>\n",
       "<path class=\"bond-41 atom-42 atom-43\" d=\"M 403.5,77.4 L 408.6,80.5\" style=\"fill:none;fill-rule:evenodd;stroke:#FF0000;stroke-width:2.0px;stroke-linecap:butt;stroke-linejoin:miter;stroke-opacity:1\"/>\n",
       "<path class=\"bond-42 atom-43 atom-44\" d=\"M 413.5,80.6 L 421.6,76.2\" style=\"fill:none;fill-rule:evenodd;stroke:#FF0000;stroke-width:2.0px;stroke-linecap:butt;stroke-linejoin:miter;stroke-opacity:1\"/>\n",
       "<path class=\"bond-43 atom-41 atom-42\" d=\"M 385.4,81.5 L 398.4,74.3\" style=\"fill:none;fill-rule:evenodd;stroke:#000000;stroke-width:2.0px;stroke-linecap:butt;stroke-linejoin:miter;stroke-opacity:1\"/>\n",
       "<path class=\"atom-0\" d=\"M 20.4 72.5 L 21.0 72.5 L 21.0 74.3 L 23.1 74.3 L 23.1 72.5 L 23.7 72.5 L 23.7 76.8 L 23.1 76.8 L 23.1 74.8 L 21.0 74.8 L 21.0 76.8 L 20.4 76.8 L 20.4 72.5 \" fill=\"#FF0000\"/>\n",
       "<path class=\"atom-0\" d=\"M 24.2 74.6 Q 24.2 73.6, 24.7 73.1 Q 25.2 72.5, 26.2 72.5 Q 27.1 72.5, 27.6 73.1 Q 28.1 73.6, 28.1 74.6 Q 28.1 75.7, 27.6 76.3 Q 27.1 76.8, 26.2 76.8 Q 25.2 76.8, 24.7 76.3 Q 24.2 75.7, 24.2 74.6 M 26.2 76.4 Q 26.8 76.4, 27.2 75.9 Q 27.5 75.5, 27.5 74.6 Q 27.5 73.8, 27.2 73.4 Q 26.8 73.0, 26.2 73.0 Q 25.5 73.0, 25.2 73.4 Q 24.8 73.8, 24.8 74.6 Q 24.8 75.5, 25.2 75.9 Q 25.5 76.4, 26.2 76.4 \" fill=\"#FF0000\"/>\n",
       "<path class=\"atom-1\" d=\"M 37.2 67.5 Q 37.2 66.5, 37.7 65.9 Q 38.2 65.3, 39.1 65.3 Q 40.1 65.3, 40.6 65.9 Q 41.1 66.5, 41.1 67.5 Q 41.1 68.5, 40.6 69.1 Q 40.1 69.7, 39.1 69.7 Q 38.2 69.7, 37.7 69.1 Q 37.2 68.5, 37.2 67.5 M 39.1 69.2 Q 39.8 69.2, 40.1 68.8 Q 40.5 68.3, 40.5 67.5 Q 40.5 66.6, 40.1 66.2 Q 39.8 65.8, 39.1 65.8 Q 38.5 65.8, 38.1 66.2 Q 37.8 66.6, 37.8 67.5 Q 37.8 68.3, 38.1 68.8 Q 38.5 69.2, 39.1 69.2 \" fill=\"#FF0000\"/>\n",
       "<path class=\"atom-4\" d=\"M 75.3 90.4 Q 75.3 89.4, 75.8 88.8 Q 76.3 88.3, 77.2 88.3 Q 78.1 88.3, 78.7 88.8 Q 79.2 89.4, 79.2 90.4 Q 79.2 91.5, 78.6 92.1 Q 78.1 92.6, 77.2 92.6 Q 76.3 92.6, 75.8 92.1 Q 75.3 91.5, 75.3 90.4 M 77.2 92.2 Q 77.9 92.2, 78.2 91.7 Q 78.6 91.3, 78.6 90.4 Q 78.6 89.6, 78.2 89.2 Q 77.9 88.8, 77.2 88.8 Q 76.6 88.8, 76.2 89.2 Q 75.9 89.6, 75.9 90.4 Q 75.9 91.3, 76.2 91.7 Q 76.6 92.2, 77.2 92.2 \" fill=\"#FF0000\"/>\n",
       "<path class=\"atom-7\" d=\"M 100.9 90.9 Q 100.9 89.9, 101.4 89.3 Q 101.9 88.8, 102.9 88.8 Q 103.8 88.8, 104.3 89.3 Q 104.8 89.9, 104.8 90.9 Q 104.8 92.0, 104.3 92.5 Q 103.8 93.1, 102.9 93.1 Q 101.9 93.1, 101.4 92.5 Q 100.9 92.0, 100.9 90.9 M 102.9 92.6 Q 103.5 92.6, 103.9 92.2 Q 104.2 91.8, 104.2 90.9 Q 104.2 90.1, 103.9 89.7 Q 103.5 89.2, 102.9 89.2 Q 102.2 89.2, 101.9 89.7 Q 101.5 90.1, 101.5 90.9 Q 101.5 91.8, 101.9 92.2 Q 102.2 92.6, 102.9 92.6 \" fill=\"#FF0000\"/>\n",
       "<path class=\"atom-10\" d=\"M 126.6 91.4 Q 126.6 90.4, 127.1 89.8 Q 127.6 89.3, 128.5 89.3 Q 129.5 89.3, 130.0 89.8 Q 130.5 90.4, 130.5 91.4 Q 130.5 92.4, 130.0 93.0 Q 129.5 93.6, 128.5 93.6 Q 127.6 93.6, 127.1 93.0 Q 126.6 92.5, 126.6 91.4 M 128.5 93.1 Q 129.2 93.1, 129.5 92.7 Q 129.9 92.3, 129.9 91.4 Q 129.9 90.6, 129.5 90.2 Q 129.2 89.7, 128.5 89.7 Q 127.9 89.7, 127.5 90.2 Q 127.2 90.6, 127.2 91.4 Q 127.2 92.3, 127.5 92.7 Q 127.9 93.1, 128.5 93.1 \" fill=\"#FF0000\"/>\n",
       "<path class=\"atom-13\" d=\"M 140.1 54.6 Q 140.1 53.6, 140.6 53.0 Q 141.1 52.5, 142.1 52.5 Q 143.0 52.5, 143.5 53.0 Q 144.0 53.6, 144.0 54.6 Q 144.0 55.7, 143.5 56.2 Q 143.0 56.8, 142.1 56.8 Q 141.1 56.8, 140.6 56.2 Q 140.1 55.7, 140.1 54.6 M 142.1 56.3 Q 142.7 56.3, 143.1 55.9 Q 143.4 55.5, 143.4 54.6 Q 143.4 53.8, 143.1 53.4 Q 142.7 52.9, 142.1 52.9 Q 141.4 52.9, 141.1 53.4 Q 140.7 53.8, 140.7 54.6 Q 140.7 55.5, 141.1 55.9 Q 141.4 56.3, 142.1 56.3 \" fill=\"#FF0000\"/>\n",
       "<path class=\"atom-16\" d=\"M 177.9 92.4 Q 177.9 91.4, 178.4 90.8 Q 178.9 90.2, 179.8 90.2 Q 180.8 90.2, 181.3 90.8 Q 181.8 91.4, 181.8 92.4 Q 181.8 93.4, 181.3 94.0 Q 180.8 94.6, 179.8 94.6 Q 178.9 94.6, 178.4 94.0 Q 177.9 93.4, 177.9 92.4 M 179.8 94.1 Q 180.5 94.1, 180.8 93.7 Q 181.2 93.2, 181.2 92.4 Q 181.2 91.6, 180.8 91.1 Q 180.5 90.7, 179.8 90.7 Q 179.2 90.7, 178.8 91.1 Q 178.5 91.6, 178.5 92.4 Q 178.5 93.3, 178.8 93.7 Q 179.2 94.1, 179.8 94.1 \" fill=\"#FF0000\"/>\n",
       "<path class=\"atom-19\" d=\"M 203.6 92.9 Q 203.6 91.9, 204.1 91.3 Q 204.6 90.7, 205.5 90.7 Q 206.4 90.7, 207.0 91.3 Q 207.5 91.9, 207.5 92.9 Q 207.5 93.9, 206.9 94.5 Q 206.4 95.1, 205.5 95.1 Q 204.6 95.1, 204.1 94.5 Q 203.6 93.9, 203.6 92.9 M 205.5 94.6 Q 206.2 94.6, 206.5 94.2 Q 206.9 93.7, 206.9 92.9 Q 206.9 92.1, 206.5 91.6 Q 206.2 91.2, 205.5 91.2 Q 204.9 91.2, 204.5 91.6 Q 204.2 92.0, 204.2 92.9 Q 204.2 93.7, 204.5 94.2 Q 204.9 94.6, 205.5 94.6 \" fill=\"#FF0000\"/>\n",
       "<path class=\"atom-22\" d=\"M 217.1 56.1 Q 217.1 55.1, 217.6 54.5 Q 218.1 53.9, 219.0 53.9 Q 220.0 53.9, 220.5 54.5 Q 221.0 55.1, 221.0 56.1 Q 221.0 57.1, 220.5 57.7 Q 220.0 58.3, 219.0 58.3 Q 218.1 58.3, 217.6 57.7 Q 217.1 57.1, 217.1 56.1 M 219.0 57.8 Q 219.7 57.8, 220.0 57.4 Q 220.4 56.9, 220.4 56.1 Q 220.4 55.3, 220.0 54.8 Q 219.7 54.4, 219.0 54.4 Q 218.4 54.4, 218.0 54.8 Q 217.7 55.3, 217.7 56.1 Q 217.7 57.0, 218.0 57.4 Q 218.4 57.8, 219.0 57.8 \" fill=\"#FF0000\"/>\n",
       "<path class=\"atom-25\" d=\"M 242.8 56.6 Q 242.8 55.6, 243.3 55.0 Q 243.8 54.4, 244.7 54.4 Q 245.6 54.4, 246.1 55.0 Q 246.7 55.6, 246.7 56.6 Q 246.7 57.6, 246.1 58.2 Q 245.6 58.8, 244.7 58.8 Q 243.8 58.8, 243.3 58.2 Q 242.8 57.6, 242.8 56.6 M 244.7 58.3 Q 245.4 58.3, 245.7 57.9 Q 246.1 57.4, 246.1 56.6 Q 246.1 55.7, 245.7 55.3 Q 245.4 54.9, 244.7 54.9 Q 244.1 54.9, 243.7 55.3 Q 243.4 55.7, 243.4 56.6 Q 243.4 57.4, 243.7 57.9 Q 244.1 58.3, 244.7 58.3 \" fill=\"#FF0000\"/>\n",
       "<path class=\"atom-28\" d=\"M 280.5 94.4 Q 280.5 93.3, 281.0 92.8 Q 281.5 92.2, 282.5 92.2 Q 283.4 92.2, 283.9 92.8 Q 284.4 93.3, 284.4 94.4 Q 284.4 95.4, 283.9 96.0 Q 283.4 96.6, 282.5 96.6 Q 281.6 96.6, 281.0 96.0 Q 280.5 95.4, 280.5 94.4 M 282.5 96.1 Q 283.1 96.1, 283.5 95.6 Q 283.8 95.2, 283.8 94.4 Q 283.8 93.5, 283.5 93.1 Q 283.1 92.7, 282.5 92.7 Q 281.8 92.7, 281.5 93.1 Q 281.1 93.5, 281.1 94.4 Q 281.1 95.2, 281.5 95.6 Q 281.8 96.1, 282.5 96.1 \" fill=\"#FF0000\"/>\n",
       "<path class=\"atom-31\" d=\"M 294.1 57.6 Q 294.1 56.5, 294.6 56.0 Q 295.1 55.4, 296.0 55.4 Q 297.0 55.4, 297.5 56.0 Q 298.0 56.5, 298.0 57.6 Q 298.0 58.6, 297.5 59.2 Q 297.0 59.8, 296.0 59.8 Q 295.1 59.8, 294.6 59.2 Q 294.1 58.6, 294.1 57.6 M 296.0 59.3 Q 296.7 59.3, 297.0 58.9 Q 297.4 58.4, 297.4 57.6 Q 297.4 56.7, 297.0 56.3 Q 296.7 55.9, 296.0 55.9 Q 295.4 55.9, 295.0 56.3 Q 294.7 56.7, 294.7 57.6 Q 294.7 58.4, 295.0 58.9 Q 295.4 59.3, 296.0 59.3 \" fill=\"#FF0000\"/>\n",
       "<path class=\"atom-34\" d=\"M 331.9 95.3 Q 331.9 94.3, 332.4 93.7 Q 332.9 93.2, 333.8 93.2 Q 334.7 93.2, 335.3 93.7 Q 335.8 94.3, 335.8 95.3 Q 335.8 96.4, 335.2 97.0 Q 334.7 97.5, 333.8 97.5 Q 332.9 97.5, 332.4 97.0 Q 331.9 96.4, 331.9 95.3 M 333.8 97.1 Q 334.5 97.1, 334.8 96.6 Q 335.2 96.2, 335.2 95.3 Q 335.2 94.5, 334.8 94.1 Q 334.5 93.7, 333.8 93.7 Q 333.2 93.7, 332.8 94.1 Q 332.5 94.5, 332.5 95.3 Q 332.5 96.2, 332.8 96.6 Q 333.2 97.1, 333.8 97.1 \" fill=\"#FF0000\"/>\n",
       "<path class=\"atom-37\" d=\"M 345.4 58.5 Q 345.4 57.5, 345.9 57.0 Q 346.4 56.4, 347.3 56.4 Q 348.3 56.4, 348.8 57.0 Q 349.3 57.5, 349.3 58.5 Q 349.3 59.6, 348.8 60.2 Q 348.3 60.7, 347.3 60.7 Q 346.4 60.7, 345.9 60.2 Q 345.4 59.6, 345.4 58.5 M 347.3 60.3 Q 348.0 60.3, 348.3 59.8 Q 348.7 59.4, 348.7 58.5 Q 348.7 57.7, 348.3 57.3 Q 348.0 56.9, 347.3 56.9 Q 346.7 56.9, 346.3 57.3 Q 346.0 57.7, 346.0 58.5 Q 346.0 59.4, 346.3 59.8 Q 346.7 60.3, 347.3 60.3 \" fill=\"#FF0000\"/>\n",
       "<path class=\"atom-40\" d=\"M 371.1 59.0 Q 371.1 58.0, 371.6 57.4 Q 372.1 56.9, 373.0 56.9 Q 373.9 56.9, 374.4 57.4 Q 375.0 58.0, 375.0 59.0 Q 375.0 60.1, 374.4 60.7 Q 373.9 61.2, 373.0 61.2 Q 372.1 61.2, 371.6 60.7 Q 371.1 60.1, 371.1 59.0 M 373.0 60.8 Q 373.7 60.8, 374.0 60.3 Q 374.4 59.9, 374.4 59.0 Q 374.4 58.2, 374.0 57.8 Q 373.7 57.4, 373.0 57.4 Q 372.4 57.4, 372.0 57.8 Q 371.7 58.2, 371.7 59.0 Q 371.7 59.9, 372.0 60.3 Q 372.4 60.8, 373.0 60.8 \" fill=\"#FF0000\"/>\n",
       "<path class=\"atom-43\" d=\"M 409.1 82.0 Q 409.1 81.0, 409.6 80.4 Q 410.1 79.8, 411.1 79.8 Q 412.0 79.8, 412.5 80.4 Q 413.0 81.0, 413.0 82.0 Q 413.0 83.0, 412.5 83.6 Q 412.0 84.2, 411.1 84.2 Q 410.1 84.2, 409.6 83.6 Q 409.1 83.0, 409.1 82.0 M 411.1 83.7 Q 411.7 83.7, 412.1 83.3 Q 412.4 82.8, 412.4 82.0 Q 412.4 81.2, 412.1 80.7 Q 411.7 80.3, 411.1 80.3 Q 410.4 80.3, 410.1 80.7 Q 409.7 81.1, 409.7 82.0 Q 409.7 82.8, 410.1 83.3 Q 410.4 83.7, 411.1 83.7 \" fill=\"#FF0000\"/>\n",
       "<path class=\"atom-44\" d=\"M 422.1 74.8 Q 422.1 73.8, 422.6 73.2 Q 423.1 72.7, 424.0 72.7 Q 425.0 72.7, 425.5 73.2 Q 426.0 73.8, 426.0 74.8 Q 426.0 75.9, 425.5 76.4 Q 425.0 77.0, 424.0 77.0 Q 423.1 77.0, 422.6 76.4 Q 422.1 75.9, 422.1 74.8 M 424.0 76.5 Q 424.7 76.5, 425.0 76.1 Q 425.4 75.7, 425.4 74.8 Q 425.4 74.0, 425.0 73.6 Q 424.7 73.1, 424.0 73.1 Q 423.4 73.1, 423.0 73.6 Q 422.7 74.0, 422.7 74.8 Q 422.7 75.7, 423.0 76.1 Q 423.4 76.5, 424.0 76.5 \" fill=\"#FF0000\"/>\n",
       "<path class=\"atom-44\" d=\"M 426.3 72.7 L 426.9 72.7 L 426.9 74.5 L 429.0 74.5 L 429.0 72.7 L 429.6 72.7 L 429.6 77.0 L 429.0 77.0 L 429.0 75.0 L 426.9 75.0 L 426.9 77.0 L 426.3 77.0 L 426.3 72.7 \" fill=\"#FF0000\"/>\n",
       "</svg>"
      ],
      "text/plain": [
       "<IPython.core.display.SVG object>"
      ]
     },
     "execution_count": 4,
     "metadata": {},
     "output_type": "execute_result"
    }
   ],
   "source": [
    "# Plot the first generated molecule\n",
    "big_smiles_gen(big)"
   ]
  },
  {
   "cell_type": "code",
   "execution_count": 5,
   "id": "b8e23fbd",
   "metadata": {},
   "outputs": [
    {
     "data": {
      "image/svg+xml": [
       "<svg xmlns=\"http://www.w3.org/2000/svg\" xmlns:rdkit=\"http://www.rdkit.org/xml\" xmlns:xlink=\"http://www.w3.org/1999/xlink\" version=\"1.1\" baseProfile=\"full\" xml:space=\"preserve\" width=\"450px\" height=\"150px\" viewBox=\"0 0 450 150\">\n",
       "<!-- END OF HEADER -->\n",
       "<rect style=\"opacity:1.0;fill:#FFFFFF;stroke:none\" width=\"450.0\" height=\"150.0\" x=\"0.0\" y=\"0.0\"> </rect>\n",
       "<path class=\"bond-0 atom-0 atom-1\" d=\"M 419.8,66.8 L 410.1,72.7\" style=\"fill:none;fill-rule:evenodd;stroke:#FF0000;stroke-width:2.0px;stroke-linecap:butt;stroke-linejoin:miter;stroke-opacity:1\"/>\n",
       "<path class=\"bond-1 atom-1 atom-2\" d=\"M 404.1,72.8 L 397.6,69.2\" style=\"fill:none;fill-rule:evenodd;stroke:#FF0000;stroke-width:2.0px;stroke-linecap:butt;stroke-linejoin:miter;stroke-opacity:1\"/>\n",
       "<path class=\"bond-1 atom-1 atom-2\" d=\"M 397.6,69.2 L 391.1,65.6\" style=\"fill:none;fill-rule:evenodd;stroke:#000000;stroke-width:2.0px;stroke-linecap:butt;stroke-linejoin:miter;stroke-opacity:1\"/>\n",
       "<path class=\"bond-2 atom-3 atom-4\" d=\"M 377.3,75.0 L 377.5,82.6\" style=\"fill:none;fill-rule:evenodd;stroke:#000000;stroke-width:2.0px;stroke-linecap:butt;stroke-linejoin:miter;stroke-opacity:1\"/>\n",
       "<path class=\"bond-2 atom-3 atom-4\" d=\"M 377.5,82.6 L 377.6,90.1\" style=\"fill:none;fill-rule:evenodd;stroke:#FF0000;stroke-width:2.0px;stroke-linecap:butt;stroke-linejoin:miter;stroke-opacity:1\"/>\n",
       "<path class=\"bond-2 atom-3 atom-4\" d=\"M 373.7,75.1 L 373.8,82.6\" style=\"fill:none;fill-rule:evenodd;stroke:#000000;stroke-width:2.0px;stroke-linecap:butt;stroke-linejoin:miter;stroke-opacity:1\"/>\n",
       "<path class=\"bond-2 atom-3 atom-4\" d=\"M 373.8,82.6 L 373.9,90.1\" style=\"fill:none;fill-rule:evenodd;stroke:#FF0000;stroke-width:2.0px;stroke-linecap:butt;stroke-linejoin:miter;stroke-opacity:1\"/>\n",
       "<path class=\"bond-3 atom-3 atom-5\" d=\"M 375.5,75.1 L 359.5,66.2\" style=\"fill:none;fill-rule:evenodd;stroke:#000000;stroke-width:2.0px;stroke-linecap:butt;stroke-linejoin:miter;stroke-opacity:1\"/>\n",
       "<path class=\"bond-4 atom-2 atom-3\" d=\"M 391.1,65.6 L 375.5,75.1\" style=\"fill:none;fill-rule:evenodd;stroke:#000000;stroke-width:2.0px;stroke-linecap:butt;stroke-linejoin:miter;stroke-opacity:1\"/>\n",
       "<path class=\"bond-5 atom-6 atom-7\" d=\"M 345.7,75.6 L 345.8,83.2\" style=\"fill:none;fill-rule:evenodd;stroke:#000000;stroke-width:2.0px;stroke-linecap:butt;stroke-linejoin:miter;stroke-opacity:1\"/>\n",
       "<path class=\"bond-5 atom-6 atom-7\" d=\"M 345.8,83.2 L 346.0,90.7\" style=\"fill:none;fill-rule:evenodd;stroke:#FF0000;stroke-width:2.0px;stroke-linecap:butt;stroke-linejoin:miter;stroke-opacity:1\"/>\n",
       "<path class=\"bond-5 atom-6 atom-7\" d=\"M 342.0,75.7 L 342.2,83.2\" style=\"fill:none;fill-rule:evenodd;stroke:#000000;stroke-width:2.0px;stroke-linecap:butt;stroke-linejoin:miter;stroke-opacity:1\"/>\n",
       "<path class=\"bond-5 atom-6 atom-7\" d=\"M 342.2,83.2 L 342.3,90.8\" style=\"fill:none;fill-rule:evenodd;stroke:#FF0000;stroke-width:2.0px;stroke-linecap:butt;stroke-linejoin:miter;stroke-opacity:1\"/>\n",
       "<path class=\"bond-6 atom-6 atom-8\" d=\"M 343.8,75.7 L 327.9,66.9\" style=\"fill:none;fill-rule:evenodd;stroke:#000000;stroke-width:2.0px;stroke-linecap:butt;stroke-linejoin:miter;stroke-opacity:1\"/>\n",
       "<path class=\"bond-7 atom-5 atom-6\" d=\"M 359.5,66.2 L 343.8,75.7\" style=\"fill:none;fill-rule:evenodd;stroke:#000000;stroke-width:2.0px;stroke-linecap:butt;stroke-linejoin:miter;stroke-opacity:1\"/>\n",
       "<path class=\"bond-8 atom-9 atom-10\" d=\"M 314.0,76.3 L 314.2,83.8\" style=\"fill:none;fill-rule:evenodd;stroke:#000000;stroke-width:2.0px;stroke-linecap:butt;stroke-linejoin:miter;stroke-opacity:1\"/>\n",
       "<path class=\"bond-8 atom-9 atom-10\" d=\"M 314.2,83.8 L 314.3,91.3\" style=\"fill:none;fill-rule:evenodd;stroke:#FF0000;stroke-width:2.0px;stroke-linecap:butt;stroke-linejoin:miter;stroke-opacity:1\"/>\n",
       "<path class=\"bond-8 atom-9 atom-10\" d=\"M 310.4,76.3 L 310.5,83.9\" style=\"fill:none;fill-rule:evenodd;stroke:#000000;stroke-width:2.0px;stroke-linecap:butt;stroke-linejoin:miter;stroke-opacity:1\"/>\n",
       "<path class=\"bond-8 atom-9 atom-10\" d=\"M 310.5,83.9 L 310.7,91.4\" style=\"fill:none;fill-rule:evenodd;stroke:#FF0000;stroke-width:2.0px;stroke-linecap:butt;stroke-linejoin:miter;stroke-opacity:1\"/>\n",
       "<path class=\"bond-9 atom-9 atom-11\" d=\"M 312.2,76.3 L 296.2,67.5\" style=\"fill:none;fill-rule:evenodd;stroke:#000000;stroke-width:2.0px;stroke-linecap:butt;stroke-linejoin:miter;stroke-opacity:1\"/>\n",
       "<path class=\"bond-10 atom-8 atom-9\" d=\"M 327.9,66.9 L 312.2,76.3\" style=\"fill:none;fill-rule:evenodd;stroke:#000000;stroke-width:2.0px;stroke-linecap:butt;stroke-linejoin:miter;stroke-opacity:1\"/>\n",
       "<path class=\"bond-11 atom-12 atom-13\" d=\"M 282.4,76.9 L 282.6,84.4\" style=\"fill:none;fill-rule:evenodd;stroke:#000000;stroke-width:2.0px;stroke-linecap:butt;stroke-linejoin:miter;stroke-opacity:1\"/>\n",
       "<path class=\"bond-11 atom-12 atom-13\" d=\"M 282.6,84.4 L 282.7,91.9\" style=\"fill:none;fill-rule:evenodd;stroke:#FF0000;stroke-width:2.0px;stroke-linecap:butt;stroke-linejoin:miter;stroke-opacity:1\"/>\n",
       "<path class=\"bond-11 atom-12 atom-13\" d=\"M 278.8,76.9 L 278.9,84.5\" style=\"fill:none;fill-rule:evenodd;stroke:#000000;stroke-width:2.0px;stroke-linecap:butt;stroke-linejoin:miter;stroke-opacity:1\"/>\n",
       "<path class=\"bond-11 atom-12 atom-13\" d=\"M 278.9,84.5 L 279.0,92.0\" style=\"fill:none;fill-rule:evenodd;stroke:#FF0000;stroke-width:2.0px;stroke-linecap:butt;stroke-linejoin:miter;stroke-opacity:1\"/>\n",
       "<path class=\"bond-12 atom-12 atom-14\" d=\"M 280.6,76.9 L 264.6,68.1\" style=\"fill:none;fill-rule:evenodd;stroke:#000000;stroke-width:2.0px;stroke-linecap:butt;stroke-linejoin:miter;stroke-opacity:1\"/>\n",
       "<path class=\"bond-13 atom-11 atom-12\" d=\"M 296.2,67.5 L 280.6,76.9\" style=\"fill:none;fill-rule:evenodd;stroke:#000000;stroke-width:2.0px;stroke-linecap:butt;stroke-linejoin:miter;stroke-opacity:1\"/>\n",
       "<path class=\"bond-14 atom-15 atom-16\" d=\"M 250.8,77.5 L 250.9,85.0\" style=\"fill:none;fill-rule:evenodd;stroke:#000000;stroke-width:2.0px;stroke-linecap:butt;stroke-linejoin:miter;stroke-opacity:1\"/>\n",
       "<path class=\"bond-14 atom-15 atom-16\" d=\"M 250.9,85.0 L 251.1,92.5\" style=\"fill:none;fill-rule:evenodd;stroke:#FF0000;stroke-width:2.0px;stroke-linecap:butt;stroke-linejoin:miter;stroke-opacity:1\"/>\n",
       "<path class=\"bond-14 atom-15 atom-16\" d=\"M 247.1,77.6 L 247.3,85.1\" style=\"fill:none;fill-rule:evenodd;stroke:#000000;stroke-width:2.0px;stroke-linecap:butt;stroke-linejoin:miter;stroke-opacity:1\"/>\n",
       "<path class=\"bond-14 atom-15 atom-16\" d=\"M 247.3,85.1 L 247.4,92.6\" style=\"fill:none;fill-rule:evenodd;stroke:#FF0000;stroke-width:2.0px;stroke-linecap:butt;stroke-linejoin:miter;stroke-opacity:1\"/>\n",
       "<path class=\"bond-15 atom-15 atom-17\" d=\"M 248.9,77.5 L 232.9,68.7\" style=\"fill:none;fill-rule:evenodd;stroke:#000000;stroke-width:2.0px;stroke-linecap:butt;stroke-linejoin:miter;stroke-opacity:1\"/>\n",
       "<path class=\"bond-16 atom-14 atom-15\" d=\"M 264.6,68.1 L 248.9,77.5\" style=\"fill:none;fill-rule:evenodd;stroke:#000000;stroke-width:2.0px;stroke-linecap:butt;stroke-linejoin:miter;stroke-opacity:1\"/>\n",
       "<path class=\"bond-17 atom-18 atom-19\" d=\"M 199.5,69.4 L 199.3,61.9\" style=\"fill:none;fill-rule:evenodd;stroke:#000000;stroke-width:2.0px;stroke-linecap:butt;stroke-linejoin:miter;stroke-opacity:1\"/>\n",
       "<path class=\"bond-17 atom-18 atom-19\" d=\"M 199.3,61.9 L 199.2,54.4\" style=\"fill:none;fill-rule:evenodd;stroke:#FF0000;stroke-width:2.0px;stroke-linecap:butt;stroke-linejoin:miter;stroke-opacity:1\"/>\n",
       "<path class=\"bond-17 atom-18 atom-19\" d=\"M 203.1,69.3 L 203.0,61.8\" style=\"fill:none;fill-rule:evenodd;stroke:#000000;stroke-width:2.0px;stroke-linecap:butt;stroke-linejoin:miter;stroke-opacity:1\"/>\n",
       "<path class=\"bond-17 atom-18 atom-19\" d=\"M 203.0,61.8 L 202.8,54.3\" style=\"fill:none;fill-rule:evenodd;stroke:#FF0000;stroke-width:2.0px;stroke-linecap:butt;stroke-linejoin:miter;stroke-opacity:1\"/>\n",
       "<path class=\"bond-18 atom-18 atom-20\" d=\"M 201.3,69.3 L 217.3,78.1\" style=\"fill:none;fill-rule:evenodd;stroke:#000000;stroke-width:2.0px;stroke-linecap:butt;stroke-linejoin:miter;stroke-opacity:1\"/>\n",
       "<path class=\"bond-19 atom-17 atom-20\" d=\"M 232.9,68.7 L 217.3,78.1\" style=\"fill:none;fill-rule:evenodd;stroke:#000000;stroke-width:2.0px;stroke-linecap:butt;stroke-linejoin:miter;stroke-opacity:1\"/>\n",
       "<path class=\"bond-20 atom-21 atom-22\" d=\"M 167.9,70.0 L 167.7,62.5\" style=\"fill:none;fill-rule:evenodd;stroke:#000000;stroke-width:2.0px;stroke-linecap:butt;stroke-linejoin:miter;stroke-opacity:1\"/>\n",
       "<path class=\"bond-20 atom-21 atom-22\" d=\"M 167.7,62.5 L 167.6,55.0\" style=\"fill:none;fill-rule:evenodd;stroke:#FF0000;stroke-width:2.0px;stroke-linecap:butt;stroke-linejoin:miter;stroke-opacity:1\"/>\n",
       "<path class=\"bond-20 atom-21 atom-22\" d=\"M 171.5,69.9 L 171.4,62.4\" style=\"fill:none;fill-rule:evenodd;stroke:#000000;stroke-width:2.0px;stroke-linecap:butt;stroke-linejoin:miter;stroke-opacity:1\"/>\n",
       "<path class=\"bond-20 atom-21 atom-22\" d=\"M 171.4,62.4 L 171.2,54.9\" style=\"fill:none;fill-rule:evenodd;stroke:#FF0000;stroke-width:2.0px;stroke-linecap:butt;stroke-linejoin:miter;stroke-opacity:1\"/>\n",
       "<path class=\"bond-21 atom-21 atom-23\" d=\"M 169.7,69.9 L 185.7,78.8\" style=\"fill:none;fill-rule:evenodd;stroke:#000000;stroke-width:2.0px;stroke-linecap:butt;stroke-linejoin:miter;stroke-opacity:1\"/>\n",
       "<path class=\"bond-22 atom-18 atom-23\" d=\"M 201.3,69.3 L 185.7,78.8\" style=\"fill:none;fill-rule:evenodd;stroke:#000000;stroke-width:2.0px;stroke-linecap:butt;stroke-linejoin:miter;stroke-opacity:1\"/>\n",
       "<path class=\"bond-23 atom-24 atom-25\" d=\"M 155.9,79.3 L 156.0,86.9\" style=\"fill:none;fill-rule:evenodd;stroke:#000000;stroke-width:2.0px;stroke-linecap:butt;stroke-linejoin:miter;stroke-opacity:1\"/>\n",
       "<path class=\"bond-23 atom-24 atom-25\" d=\"M 156.0,86.9 L 156.2,94.4\" style=\"fill:none;fill-rule:evenodd;stroke:#FF0000;stroke-width:2.0px;stroke-linecap:butt;stroke-linejoin:miter;stroke-opacity:1\"/>\n",
       "<path class=\"bond-23 atom-24 atom-25\" d=\"M 152.2,79.4 L 152.4,86.9\" style=\"fill:none;fill-rule:evenodd;stroke:#000000;stroke-width:2.0px;stroke-linecap:butt;stroke-linejoin:miter;stroke-opacity:1\"/>\n",
       "<path class=\"bond-23 atom-24 atom-25\" d=\"M 152.4,86.9 L 152.5,94.5\" style=\"fill:none;fill-rule:evenodd;stroke:#FF0000;stroke-width:2.0px;stroke-linecap:butt;stroke-linejoin:miter;stroke-opacity:1\"/>\n",
       "<path class=\"bond-24 atom-24 atom-26\" d=\"M 154.0,79.4 L 138.0,70.5\" style=\"fill:none;fill-rule:evenodd;stroke:#000000;stroke-width:2.0px;stroke-linecap:butt;stroke-linejoin:miter;stroke-opacity:1\"/>\n",
       "<path class=\"bond-25 atom-21 atom-24\" d=\"M 169.7,69.9 L 154.0,79.4\" style=\"fill:none;fill-rule:evenodd;stroke:#000000;stroke-width:2.0px;stroke-linecap:butt;stroke-linejoin:miter;stroke-opacity:1\"/>\n",
       "<path class=\"bond-26 atom-27 atom-28\" d=\"M 104.6,71.2 L 104.4,63.7\" style=\"fill:none;fill-rule:evenodd;stroke:#000000;stroke-width:2.0px;stroke-linecap:butt;stroke-linejoin:miter;stroke-opacity:1\"/>\n",
       "<path class=\"bond-26 atom-27 atom-28\" d=\"M 104.4,63.7 L 104.3,56.2\" style=\"fill:none;fill-rule:evenodd;stroke:#FF0000;stroke-width:2.0px;stroke-linecap:butt;stroke-linejoin:miter;stroke-opacity:1\"/>\n",
       "<path class=\"bond-26 atom-27 atom-28\" d=\"M 108.2,71.1 L 108.1,63.6\" style=\"fill:none;fill-rule:evenodd;stroke:#000000;stroke-width:2.0px;stroke-linecap:butt;stroke-linejoin:miter;stroke-opacity:1\"/>\n",
       "<path class=\"bond-26 atom-27 atom-28\" d=\"M 108.1,63.6 L 107.9,56.2\" style=\"fill:none;fill-rule:evenodd;stroke:#FF0000;stroke-width:2.0px;stroke-linecap:butt;stroke-linejoin:miter;stroke-opacity:1\"/>\n",
       "<path class=\"bond-27 atom-27 atom-29\" d=\"M 106.4,71.2 L 122.4,80.0\" style=\"fill:none;fill-rule:evenodd;stroke:#000000;stroke-width:2.0px;stroke-linecap:butt;stroke-linejoin:miter;stroke-opacity:1\"/>\n",
       "<path class=\"bond-28 atom-26 atom-29\" d=\"M 138.0,70.5 L 122.4,80.0\" style=\"fill:none;fill-rule:evenodd;stroke:#000000;stroke-width:2.0px;stroke-linecap:butt;stroke-linejoin:miter;stroke-opacity:1\"/>\n",
       "<path class=\"bond-29 atom-30 atom-31\" d=\"M 92.6,80.6 L 92.7,88.1\" style=\"fill:none;fill-rule:evenodd;stroke:#000000;stroke-width:2.0px;stroke-linecap:butt;stroke-linejoin:miter;stroke-opacity:1\"/>\n",
       "<path class=\"bond-29 atom-30 atom-31\" d=\"M 92.7,88.1 L 92.9,95.6\" style=\"fill:none;fill-rule:evenodd;stroke:#FF0000;stroke-width:2.0px;stroke-linecap:butt;stroke-linejoin:miter;stroke-opacity:1\"/>\n",
       "<path class=\"bond-29 atom-30 atom-31\" d=\"M 88.9,80.6 L 89.1,88.2\" style=\"fill:none;fill-rule:evenodd;stroke:#000000;stroke-width:2.0px;stroke-linecap:butt;stroke-linejoin:miter;stroke-opacity:1\"/>\n",
       "<path class=\"bond-29 atom-30 atom-31\" d=\"M 89.1,88.2 L 89.2,95.7\" style=\"fill:none;fill-rule:evenodd;stroke:#FF0000;stroke-width:2.0px;stroke-linecap:butt;stroke-linejoin:miter;stroke-opacity:1\"/>\n",
       "<path class=\"bond-30 atom-30 atom-32\" d=\"M 90.8,80.6 L 74.8,71.8\" style=\"fill:none;fill-rule:evenodd;stroke:#000000;stroke-width:2.0px;stroke-linecap:butt;stroke-linejoin:miter;stroke-opacity:1\"/>\n",
       "<path class=\"bond-31 atom-27 atom-30\" d=\"M 106.4,71.2 L 90.8,80.6\" style=\"fill:none;fill-rule:evenodd;stroke:#000000;stroke-width:2.0px;stroke-linecap:butt;stroke-linejoin:miter;stroke-opacity:1\"/>\n",
       "<path class=\"bond-32 atom-33 atom-34\" d=\"M 59.1,81.2 L 52.6,77.6\" style=\"fill:none;fill-rule:evenodd;stroke:#000000;stroke-width:2.0px;stroke-linecap:butt;stroke-linejoin:miter;stroke-opacity:1\"/>\n",
       "<path class=\"bond-32 atom-33 atom-34\" d=\"M 52.6,77.6 L 46.1,74.0\" style=\"fill:none;fill-rule:evenodd;stroke:#FF0000;stroke-width:2.0px;stroke-linecap:butt;stroke-linejoin:miter;stroke-opacity:1\"/>\n",
       "<path class=\"bond-33 atom-34 atom-35\" d=\"M 40.2,74.2 L 30.5,80.0\" style=\"fill:none;fill-rule:evenodd;stroke:#FF0000;stroke-width:2.0px;stroke-linecap:butt;stroke-linejoin:miter;stroke-opacity:1\"/>\n",
       "<path class=\"bond-34 atom-32 atom-33\" d=\"M 74.8,71.8 L 59.1,81.2\" style=\"fill:none;fill-rule:evenodd;stroke:#000000;stroke-width:2.0px;stroke-linecap:butt;stroke-linejoin:miter;stroke-opacity:1\"/>\n",
       "<path class=\"atom-0\" d=\"M 420.4 65.0 Q 420.4 63.8, 421.0 63.1 Q 421.6 62.4, 422.8 62.4 Q 423.9 62.4, 424.5 63.1 Q 425.1 63.8, 425.1 65.0 Q 425.1 66.3, 424.5 67.0 Q 423.9 67.7, 422.8 67.7 Q 421.6 67.7, 421.0 67.0 Q 420.4 66.3, 420.4 65.0 M 422.8 67.1 Q 423.5 67.1, 424.0 66.6 Q 424.4 66.1, 424.4 65.0 Q 424.4 64.0, 424.0 63.5 Q 423.5 63.0, 422.8 63.0 Q 422.0 63.0, 421.5 63.5 Q 421.1 64.0, 421.1 65.0 Q 421.1 66.1, 421.5 66.6 Q 422.0 67.1, 422.8 67.1 \" fill=\"#FF0000\"/>\n",
       "<path class=\"atom-0\" d=\"M 425.5 62.5 L 426.2 62.5 L 426.2 64.7 L 428.8 64.7 L 428.8 62.5 L 429.5 62.5 L 429.5 67.6 L 428.8 67.6 L 428.8 65.2 L 426.2 65.2 L 426.2 67.6 L 425.5 67.6 L 425.5 62.5 \" fill=\"#FF0000\"/>\n",
       "<path class=\"atom-1\" d=\"M 404.7 74.5 Q 404.7 73.2, 405.4 72.5 Q 406.0 71.8, 407.1 71.8 Q 408.3 71.8, 408.9 72.5 Q 409.5 73.2, 409.5 74.5 Q 409.5 75.7, 408.9 76.4 Q 408.2 77.1, 407.1 77.1 Q 406.0 77.1, 405.4 76.4 Q 404.7 75.7, 404.7 74.5 M 407.1 76.6 Q 407.9 76.6, 408.3 76.0 Q 408.8 75.5, 408.8 74.5 Q 408.8 73.5, 408.3 72.9 Q 407.9 72.4, 407.1 72.4 Q 406.3 72.4, 405.9 72.9 Q 405.5 73.4, 405.5 74.5 Q 405.5 75.5, 405.9 76.0 Q 406.3 76.6, 407.1 76.6 \" fill=\"#FF0000\"/>\n",
       "<path class=\"atom-4\" d=\"M 373.5 93.3 Q 373.5 92.1, 374.1 91.4 Q 374.7 90.7, 375.8 90.7 Q 377.0 90.7, 377.6 91.4 Q 378.2 92.1, 378.2 93.3 Q 378.2 94.6, 377.6 95.3 Q 377.0 96.0, 375.8 96.0 Q 374.7 96.0, 374.1 95.3 Q 373.5 94.6, 373.5 93.3 M 375.8 95.4 Q 376.6 95.4, 377.1 94.9 Q 377.5 94.4, 377.5 93.3 Q 377.5 92.3, 377.1 91.8 Q 376.6 91.3, 375.8 91.3 Q 375.0 91.3, 374.6 91.8 Q 374.2 92.3, 374.2 93.3 Q 374.2 94.4, 374.6 94.9 Q 375.0 95.4, 375.8 95.4 \" fill=\"#FF0000\"/>\n",
       "<path class=\"atom-7\" d=\"M 341.8 94.0 Q 341.8 92.7, 342.4 92.0 Q 343.1 91.3, 344.2 91.3 Q 345.3 91.3, 346.0 92.0 Q 346.6 92.7, 346.6 94.0 Q 346.6 95.2, 346.0 95.9 Q 345.3 96.6, 344.2 96.6 Q 343.1 96.6, 342.4 95.9 Q 341.8 95.2, 341.8 94.0 M 344.2 96.1 Q 345.0 96.1, 345.4 95.5 Q 345.8 95.0, 345.8 94.0 Q 345.8 92.9, 345.4 92.4 Q 345.0 91.9, 344.2 91.9 Q 343.4 91.9, 343.0 92.4 Q 342.6 92.9, 342.6 94.0 Q 342.6 95.0, 343.0 95.5 Q 343.4 96.1, 344.2 96.1 \" fill=\"#FF0000\"/>\n",
       "<path class=\"atom-10\" d=\"M 310.2 94.6 Q 310.2 93.3, 310.8 92.6 Q 311.4 91.9, 312.6 91.9 Q 313.7 91.9, 314.3 92.6 Q 314.9 93.3, 314.9 94.6 Q 314.9 95.8, 314.3 96.5 Q 313.7 97.3, 312.6 97.3 Q 311.4 97.3, 310.8 96.5 Q 310.2 95.8, 310.2 94.6 M 312.6 96.7 Q 313.4 96.7, 313.8 96.1 Q 314.2 95.6, 314.2 94.6 Q 314.2 93.6, 313.8 93.0 Q 313.4 92.5, 312.6 92.5 Q 311.8 92.5, 311.3 93.0 Q 310.9 93.6, 310.9 94.6 Q 310.9 95.6, 311.3 96.1 Q 311.8 96.7, 312.6 96.7 \" fill=\"#FF0000\"/>\n",
       "<path class=\"atom-13\" d=\"M 278.6 95.2 Q 278.6 93.9, 279.2 93.3 Q 279.8 92.6, 280.9 92.6 Q 282.1 92.6, 282.7 93.3 Q 283.3 93.9, 283.3 95.2 Q 283.3 96.4, 282.7 97.2 Q 282.1 97.9, 280.9 97.9 Q 279.8 97.9, 279.2 97.2 Q 278.6 96.5, 278.6 95.2 M 280.9 97.3 Q 281.7 97.3, 282.1 96.8 Q 282.6 96.2, 282.6 95.2 Q 282.6 94.2, 282.1 93.7 Q 281.7 93.1, 280.9 93.1 Q 280.1 93.1, 279.7 93.7 Q 279.3 94.2, 279.3 95.2 Q 279.3 96.2, 279.7 96.8 Q 280.1 97.3, 280.9 97.3 \" fill=\"#FF0000\"/>\n",
       "<path class=\"atom-16\" d=\"M 246.9 95.8 Q 246.9 94.6, 247.5 93.9 Q 248.2 93.2, 249.3 93.2 Q 250.4 93.2, 251.1 93.9 Q 251.7 94.6, 251.7 95.8 Q 251.7 97.1, 251.1 97.8 Q 250.4 98.5, 249.3 98.5 Q 248.2 98.5, 247.5 97.8 Q 246.9 97.1, 246.9 95.8 M 249.3 97.9 Q 250.1 97.9, 250.5 97.4 Q 250.9 96.8, 250.9 95.8 Q 250.9 94.8, 250.5 94.3 Q 250.1 93.8, 249.3 93.8 Q 248.5 93.8, 248.1 94.3 Q 247.7 94.8, 247.7 95.8 Q 247.7 96.9, 248.1 97.4 Q 248.5 97.9, 249.3 97.9 \" fill=\"#FF0000\"/>\n",
       "<path class=\"atom-19\" d=\"M 198.6 51.1 Q 198.6 49.8, 199.2 49.1 Q 199.8 48.4, 201.0 48.4 Q 202.1 48.4, 202.7 49.1 Q 203.3 49.8, 203.3 51.1 Q 203.3 52.3, 202.7 53.0 Q 202.1 53.7, 201.0 53.7 Q 199.8 53.7, 199.2 53.0 Q 198.6 52.3, 198.6 51.1 M 201.0 53.2 Q 201.7 53.2, 202.2 52.6 Q 202.6 52.1, 202.6 51.1 Q 202.6 50.1, 202.2 49.5 Q 201.7 49.0, 201.0 49.0 Q 200.2 49.0, 199.7 49.5 Q 199.3 50.0, 199.3 51.1 Q 199.3 52.1, 199.7 52.6 Q 200.2 53.2, 201.0 53.2 \" fill=\"#FF0000\"/>\n",
       "<path class=\"atom-22\" d=\"M 166.9 51.7 Q 166.9 50.4, 167.6 49.7 Q 168.2 49.1, 169.3 49.1 Q 170.5 49.1, 171.1 49.7 Q 171.7 50.4, 171.7 51.7 Q 171.7 52.9, 171.1 53.7 Q 170.5 54.4, 169.3 54.4 Q 168.2 54.4, 167.6 53.7 Q 166.9 52.9, 166.9 51.7 M 169.3 53.8 Q 170.1 53.8, 170.5 53.3 Q 171.0 52.7, 171.0 51.7 Q 171.0 50.7, 170.5 50.2 Q 170.1 49.6, 169.3 49.6 Q 168.5 49.6, 168.1 50.1 Q 167.7 50.7, 167.7 51.7 Q 167.7 52.7, 168.1 53.3 Q 168.5 53.8, 169.3 53.8 \" fill=\"#FF0000\"/>\n",
       "<path class=\"atom-25\" d=\"M 152.0 97.7 Q 152.0 96.4, 152.6 95.7 Q 153.2 95.0, 154.4 95.0 Q 155.5 95.0, 156.2 95.7 Q 156.8 96.4, 156.8 97.7 Q 156.8 98.9, 156.1 99.6 Q 155.5 100.3, 154.4 100.3 Q 153.3 100.3, 152.6 99.6 Q 152.0 98.9, 152.0 97.7 M 154.4 99.7 Q 155.2 99.7, 155.6 99.2 Q 156.0 98.7, 156.0 97.7 Q 156.0 96.6, 155.6 96.1 Q 155.2 95.6, 154.4 95.6 Q 153.6 95.6, 153.2 96.1 Q 152.7 96.6, 152.7 97.7 Q 152.7 98.7, 153.2 99.2 Q 153.6 99.7, 154.4 99.7 \" fill=\"#FF0000\"/>\n",
       "<path class=\"atom-28\" d=\"M 103.7 52.9 Q 103.7 51.7, 104.3 51.0 Q 104.9 50.3, 106.1 50.3 Q 107.2 50.3, 107.8 51.0 Q 108.4 51.7, 108.4 52.9 Q 108.4 54.2, 107.8 54.9 Q 107.2 55.6, 106.1 55.6 Q 104.9 55.6, 104.3 54.9 Q 103.7 54.2, 103.7 52.9 M 106.1 55.0 Q 106.8 55.0, 107.3 54.5 Q 107.7 54.0, 107.7 52.9 Q 107.7 51.9, 107.3 51.4 Q 106.8 50.9, 106.1 50.9 Q 105.3 50.9, 104.8 51.4 Q 104.4 51.9, 104.4 52.9 Q 104.4 54.0, 104.8 54.5 Q 105.3 55.0, 106.1 55.0 \" fill=\"#FF0000\"/>\n",
       "<path class=\"atom-31\" d=\"M 88.7 98.9 Q 88.7 97.6, 89.4 96.9 Q 90.0 96.3, 91.1 96.3 Q 92.3 96.3, 92.9 96.9 Q 93.5 97.6, 93.5 98.9 Q 93.5 100.1, 92.9 100.9 Q 92.3 101.6, 91.1 101.6 Q 90.0 101.6, 89.4 100.9 Q 88.7 100.1, 88.7 98.9 M 91.1 101.0 Q 91.9 101.0, 92.3 100.5 Q 92.8 99.9, 92.8 98.9 Q 92.8 97.9, 92.3 97.4 Q 91.9 96.8, 91.1 96.8 Q 90.3 96.8, 89.9 97.3 Q 89.5 97.9, 89.5 98.9 Q 89.5 99.9, 89.9 100.5 Q 90.3 101.0, 91.1 101.0 \" fill=\"#FF0000\"/>\n",
       "<path class=\"atom-34\" d=\"M 40.8 72.4 Q 40.8 71.2, 41.4 70.5 Q 42.0 69.8, 43.1 69.8 Q 44.3 69.8, 44.9 70.5 Q 45.5 71.2, 45.5 72.4 Q 45.5 73.7, 44.9 74.4 Q 44.3 75.1, 43.1 75.1 Q 42.0 75.1, 41.4 74.4 Q 40.8 73.7, 40.8 72.4 M 43.1 74.5 Q 43.9 74.5, 44.4 74.0 Q 44.8 73.4, 44.8 72.4 Q 44.8 71.4, 44.4 70.9 Q 43.9 70.4, 43.1 70.4 Q 42.3 70.4, 41.9 70.9 Q 41.5 71.4, 41.5 72.4 Q 41.5 73.5, 41.9 74.0 Q 42.3 74.5, 43.1 74.5 \" fill=\"#FF0000\"/>\n",
       "<path class=\"atom-35\" d=\"M 20.5 79.3 L 21.2 79.3 L 21.2 81.5 L 23.8 81.5 L 23.8 79.3 L 24.5 79.3 L 24.5 84.4 L 23.8 84.4 L 23.8 82.1 L 21.2 82.1 L 21.2 84.4 L 20.5 84.4 L 20.5 79.3 \" fill=\"#FF0000\"/>\n",
       "<path class=\"atom-35\" d=\"M 25.1 81.8 Q 25.1 80.6, 25.7 79.9 Q 26.4 79.2, 27.5 79.2 Q 28.6 79.2, 29.3 79.9 Q 29.9 80.6, 29.9 81.8 Q 29.9 83.1, 29.3 83.8 Q 28.6 84.5, 27.5 84.5 Q 26.4 84.5, 25.7 83.8 Q 25.1 83.1, 25.1 81.8 M 27.5 83.9 Q 28.3 83.9, 28.7 83.4 Q 29.1 82.9, 29.1 81.8 Q 29.1 80.8, 28.7 80.3 Q 28.3 79.8, 27.5 79.8 Q 26.7 79.8, 26.3 80.3 Q 25.9 80.8, 25.9 81.8 Q 25.9 82.9, 26.3 83.4 Q 26.7 83.9, 27.5 83.9 \" fill=\"#FF0000\"/>\n",
       "</svg>"
      ],
      "text/plain": [
       "<IPython.core.display.SVG object>"
      ]
     },
     "execution_count": 5,
     "metadata": {},
     "output_type": "execute_result"
    }
   ],
   "source": [
    "# Generate the second generated molecule\n",
    "big_smiles_gen(big)"
   ]
  },
  {
   "cell_type": "markdown",
   "id": "91d066c0",
   "metadata": {},
   "source": [
    "Notice how the repeated C are different because of the stochastic object"
   ]
  },
  {
   "cell_type": "markdown",
   "id": "8b6b0eac",
   "metadata": {},
   "source": [
    "## Di-ols with 2-5 middle C total Mw 500"
   ]
  },
  {
   "cell_type": "code",
   "execution_count": 6,
   "id": "b9f4a9d7",
   "metadata": {},
   "outputs": [
    {
     "data": {
      "text/plain": [
       "'OC{[$][$]C[$][$]}|uniform(12, 72)|CO'"
      ]
     },
     "execution_count": 6,
     "metadata": {},
     "output_type": "execute_result"
    }
   ],
   "source": [
    "big = \"OC{[$][$]C[$][$]}|uniform(12, 72)|CO\"\n",
    "big"
   ]
  },
  {
   "cell_type": "code",
   "execution_count": 7,
   "id": "3de63ce7",
   "metadata": {},
   "outputs": [
    {
     "data": {
      "image/svg+xml": [
       "<svg xmlns=\"http://www.w3.org/2000/svg\" xmlns:rdkit=\"http://www.rdkit.org/xml\" xmlns:xlink=\"http://www.w3.org/1999/xlink\" version=\"1.1\" baseProfile=\"full\" xml:space=\"preserve\" width=\"450px\" height=\"150px\" viewBox=\"0 0 450 150\">\n",
       "<!-- END OF HEADER -->\n",
       "<rect style=\"opacity:1.0;fill:#FFFFFF;stroke:none\" width=\"450.0\" height=\"150.0\" x=\"0.0\" y=\"0.0\"> </rect>\n",
       "<path class=\"bond-0 atom-0 atom-1\" d=\"M 397.5,79.5 L 376.1,67.9\" style=\"fill:none;fill-rule:evenodd;stroke:#FF0000;stroke-width:2.0px;stroke-linecap:butt;stroke-linejoin:miter;stroke-opacity:1\"/>\n",
       "<path class=\"bond-0 atom-0 atom-1\" d=\"M 376.1,67.9 L 354.6,56.3\" style=\"fill:none;fill-rule:evenodd;stroke:#000000;stroke-width:2.0px;stroke-linecap:butt;stroke-linejoin:miter;stroke-opacity:1\"/>\n",
       "<path class=\"bond-1 atom-1 atom-2\" d=\"M 354.6,56.3 L 303.6,87.7\" style=\"fill:none;fill-rule:evenodd;stroke:#000000;stroke-width:2.0px;stroke-linecap:butt;stroke-linejoin:miter;stroke-opacity:1\"/>\n",
       "<path class=\"bond-2 atom-2 atom-3\" d=\"M 303.6,87.7 L 250.9,59.2\" style=\"fill:none;fill-rule:evenodd;stroke:#000000;stroke-width:2.0px;stroke-linecap:butt;stroke-linejoin:miter;stroke-opacity:1\"/>\n",
       "<path class=\"bond-3 atom-3 atom-4\" d=\"M 250.9,59.2 L 199.9,90.6\" style=\"fill:none;fill-rule:evenodd;stroke:#000000;stroke-width:2.0px;stroke-linecap:butt;stroke-linejoin:miter;stroke-opacity:1\"/>\n",
       "<path class=\"bond-4 atom-4 atom-5\" d=\"M 199.9,90.6 L 147.2,62.1\" style=\"fill:none;fill-rule:evenodd;stroke:#000000;stroke-width:2.0px;stroke-linecap:butt;stroke-linejoin:miter;stroke-opacity:1\"/>\n",
       "<path class=\"bond-5 atom-6 atom-7\" d=\"M 96.2,93.5 L 74.8,81.9\" style=\"fill:none;fill-rule:evenodd;stroke:#000000;stroke-width:2.0px;stroke-linecap:butt;stroke-linejoin:miter;stroke-opacity:1\"/>\n",
       "<path class=\"bond-5 atom-6 atom-7\" d=\"M 74.8,81.9 L 53.3,70.3\" style=\"fill:none;fill-rule:evenodd;stroke:#FF0000;stroke-width:2.0px;stroke-linecap:butt;stroke-linejoin:miter;stroke-opacity:1\"/>\n",
       "<path class=\"bond-6 atom-5 atom-6\" d=\"M 147.2,62.1 L 96.2,93.5\" style=\"fill:none;fill-rule:evenodd;stroke:#000000;stroke-width:2.0px;stroke-linecap:butt;stroke-linejoin:miter;stroke-opacity:1\"/>\n",
       "<path class=\"atom-0\" d=\"M 399.5 84.9 Q 399.5 80.8, 401.5 78.5 Q 403.5 76.2, 407.3 76.2 Q 411.1 76.2, 413.1 78.5 Q 415.1 80.8, 415.1 84.9 Q 415.1 89.0, 413.0 91.3 Q 411.0 93.7, 407.3 93.7 Q 403.6 93.7, 401.5 91.3 Q 399.5 89.0, 399.5 84.9 M 407.3 91.7 Q 409.9 91.7, 411.3 90.0 Q 412.7 88.3, 412.7 84.9 Q 412.7 81.5, 411.3 79.9 Q 409.9 78.2, 407.3 78.2 Q 404.7 78.2, 403.3 79.8 Q 401.9 81.5, 401.9 84.9 Q 401.9 88.3, 403.3 90.0 Q 404.7 91.7, 407.3 91.7 \" fill=\"#FF0000\"/>\n",
       "<path class=\"atom-0\" d=\"M 416.3 76.4 L 418.6 76.4 L 418.6 83.6 L 427.2 83.6 L 427.2 76.4 L 429.5 76.4 L 429.5 93.4 L 427.2 93.4 L 427.2 85.6 L 418.6 85.6 L 418.6 93.4 L 416.3 93.4 L 416.3 76.4 \" fill=\"#FF0000\"/>\n",
       "<path class=\"atom-7\" d=\"M 20.5 56.6 L 22.8 56.6 L 22.8 63.8 L 31.4 63.8 L 31.4 56.6 L 33.7 56.6 L 33.7 73.6 L 31.4 73.6 L 31.4 65.8 L 22.8 65.8 L 22.8 73.6 L 20.5 73.6 L 20.5 56.6 \" fill=\"#FF0000\"/>\n",
       "<path class=\"atom-7\" d=\"M 35.8 65.1 Q 35.8 61.0, 37.8 58.7 Q 39.8 56.4, 43.5 56.4 Q 47.3 56.4, 49.3 58.7 Q 51.3 61.0, 51.3 65.1 Q 51.3 69.2, 49.3 71.5 Q 47.3 73.9, 43.5 73.9 Q 39.8 73.9, 37.8 71.5 Q 35.8 69.2, 35.8 65.1 M 43.5 71.9 Q 46.1 71.9, 47.5 70.2 Q 48.9 68.5, 48.9 65.1 Q 48.9 61.7, 47.5 60.1 Q 46.1 58.4, 43.5 58.4 Q 41.0 58.4, 39.5 60.0 Q 38.2 61.7, 38.2 65.1 Q 38.2 68.5, 39.5 70.2 Q 41.0 71.9, 43.5 71.9 \" fill=\"#FF0000\"/>\n",
       "</svg>"
      ],
      "text/plain": [
       "<IPython.core.display.SVG object>"
      ]
     },
     "execution_count": 7,
     "metadata": {},
     "output_type": "execute_result"
    }
   ],
   "source": [
    "big_smiles_gen(big)"
   ]
  },
  {
   "cell_type": "code",
   "execution_count": 8,
   "id": "d8f11aa5",
   "metadata": {},
   "outputs": [
    {
     "data": {
      "image/svg+xml": [
       "<svg xmlns=\"http://www.w3.org/2000/svg\" xmlns:rdkit=\"http://www.rdkit.org/xml\" xmlns:xlink=\"http://www.w3.org/1999/xlink\" version=\"1.1\" baseProfile=\"full\" xml:space=\"preserve\" width=\"450px\" height=\"150px\" viewBox=\"0 0 450 150\">\n",
       "<!-- END OF HEADER -->\n",
       "<rect style=\"opacity:1.0;fill:#FFFFFF;stroke:none\" width=\"450.0\" height=\"150.0\" x=\"0.0\" y=\"0.0\"> </rect>\n",
       "<path class=\"bond-0 atom-0 atom-1\" d=\"M 49.7,70.5 L 68.4,81.3\" style=\"fill:none;fill-rule:evenodd;stroke:#FF0000;stroke-width:2.0px;stroke-linecap:butt;stroke-linejoin:miter;stroke-opacity:1\"/>\n",
       "<path class=\"bond-0 atom-0 atom-1\" d=\"M 68.4,81.3 L 87.1,92.1\" style=\"fill:none;fill-rule:evenodd;stroke:#000000;stroke-width:2.0px;stroke-linecap:butt;stroke-linejoin:miter;stroke-opacity:1\"/>\n",
       "<path class=\"bond-1 atom-1 atom-2\" d=\"M 87.1,92.1 L 133.2,65.5\" style=\"fill:none;fill-rule:evenodd;stroke:#000000;stroke-width:2.0px;stroke-linecap:butt;stroke-linejoin:miter;stroke-opacity:1\"/>\n",
       "<path class=\"bond-2 atom-2 atom-3\" d=\"M 133.2,65.5 L 179.3,92.1\" style=\"fill:none;fill-rule:evenodd;stroke:#000000;stroke-width:2.0px;stroke-linecap:butt;stroke-linejoin:miter;stroke-opacity:1\"/>\n",
       "<path class=\"bond-3 atom-3 atom-4\" d=\"M 179.3,92.1 L 225.4,65.5\" style=\"fill:none;fill-rule:evenodd;stroke:#000000;stroke-width:2.0px;stroke-linecap:butt;stroke-linejoin:miter;stroke-opacity:1\"/>\n",
       "<path class=\"bond-4 atom-4 atom-5\" d=\"M 225.4,65.5 L 271.5,92.1\" style=\"fill:none;fill-rule:evenodd;stroke:#000000;stroke-width:2.0px;stroke-linecap:butt;stroke-linejoin:miter;stroke-opacity:1\"/>\n",
       "<path class=\"bond-5 atom-5 atom-6\" d=\"M 271.5,92.1 L 317.6,65.5\" style=\"fill:none;fill-rule:evenodd;stroke:#000000;stroke-width:2.0px;stroke-linecap:butt;stroke-linejoin:miter;stroke-opacity:1\"/>\n",
       "<path class=\"bond-6 atom-7 atom-8\" d=\"M 363.7,92.1 L 382.4,81.3\" style=\"fill:none;fill-rule:evenodd;stroke:#000000;stroke-width:2.0px;stroke-linecap:butt;stroke-linejoin:miter;stroke-opacity:1\"/>\n",
       "<path class=\"bond-6 atom-7 atom-8\" d=\"M 382.4,81.3 L 401.1,70.5\" style=\"fill:none;fill-rule:evenodd;stroke:#FF0000;stroke-width:2.0px;stroke-linecap:butt;stroke-linejoin:miter;stroke-opacity:1\"/>\n",
       "<path class=\"bond-7 atom-6 atom-7\" d=\"M 317.6,65.5 L 363.7,92.1\" style=\"fill:none;fill-rule:evenodd;stroke:#000000;stroke-width:2.0px;stroke-linecap:butt;stroke-linejoin:miter;stroke-opacity:1\"/>\n",
       "<path class=\"atom-0\" d=\"M 20.5 58.1 L 22.5 58.1 L 22.5 64.5 L 30.2 64.5 L 30.2 58.1 L 32.3 58.1 L 32.3 73.1 L 30.2 73.1 L 30.2 66.2 L 22.5 66.2 L 22.5 73.1 L 20.5 73.1 L 20.5 58.1 \" fill=\"#FF0000\"/>\n",
       "<path class=\"atom-0\" d=\"M 34.1 65.5 Q 34.1 61.9, 35.8 59.9 Q 37.6 57.9, 41.0 57.9 Q 44.3 57.9, 46.1 59.9 Q 47.9 61.9, 47.9 65.5 Q 47.9 69.2, 46.1 71.3 Q 44.3 73.4, 41.0 73.4 Q 37.7 73.4, 35.8 71.3 Q 34.1 69.2, 34.1 65.5 M 41.0 71.7 Q 43.3 71.7, 44.5 70.1 Q 45.8 68.6, 45.8 65.5 Q 45.8 62.6, 44.5 61.1 Q 43.3 59.6, 41.0 59.6 Q 38.7 59.6, 37.4 61.1 Q 36.2 62.6, 36.2 65.5 Q 36.2 68.6, 37.4 70.1 Q 38.7 71.7, 41.0 71.7 \" fill=\"#FF0000\"/>\n",
       "<path class=\"atom-8\" d=\"M 402.8 65.5 Q 402.8 61.9, 404.6 59.9 Q 406.4 57.9, 409.8 57.9 Q 413.1 57.9, 414.9 59.9 Q 416.7 61.9, 416.7 65.5 Q 416.7 69.2, 414.9 71.3 Q 413.1 73.4, 409.8 73.4 Q 406.4 73.4, 404.6 71.3 Q 402.8 69.2, 402.8 65.5 M 409.8 71.7 Q 412.1 71.7, 413.3 70.1 Q 414.6 68.6, 414.6 65.5 Q 414.6 62.6, 413.3 61.1 Q 412.1 59.6, 409.8 59.6 Q 407.5 59.6, 406.2 61.1 Q 405.0 62.6, 405.0 65.5 Q 405.0 68.6, 406.2 70.1 Q 407.5 71.7, 409.8 71.7 \" fill=\"#FF0000\"/>\n",
       "<path class=\"atom-8\" d=\"M 417.7 58.1 L 419.8 58.1 L 419.8 64.5 L 427.5 64.5 L 427.5 58.1 L 429.5 58.1 L 429.5 73.1 L 427.5 73.1 L 427.5 66.2 L 419.8 66.2 L 419.8 73.1 L 417.7 73.1 L 417.7 58.1 \" fill=\"#FF0000\"/>\n",
       "</svg>"
      ],
      "text/plain": [
       "<IPython.core.display.SVG object>"
      ]
     },
     "execution_count": 8,
     "metadata": {},
     "output_type": "execute_result"
    }
   ],
   "source": [
    "big_smiles_gen(big)"
   ]
  },
  {
   "cell_type": "code",
   "execution_count": 9,
   "id": "2d414813",
   "metadata": {},
   "outputs": [
    {
     "data": {
      "image/svg+xml": [
       "<svg xmlns=\"http://www.w3.org/2000/svg\" xmlns:rdkit=\"http://www.rdkit.org/xml\" xmlns:xlink=\"http://www.w3.org/1999/xlink\" version=\"1.1\" baseProfile=\"full\" xml:space=\"preserve\" width=\"450px\" height=\"150px\" viewBox=\"0 0 450 150\">\n",
       "<!-- END OF HEADER -->\n",
       "<rect style=\"opacity:1.0;fill:#FFFFFF;stroke:none\" width=\"450.0\" height=\"150.0\" x=\"0.0\" y=\"0.0\"> </rect>\n",
       "<path class=\"bond-0 atom-0 atom-1\" d=\"M 397.5,79.5 L 376.1,67.9\" style=\"fill:none;fill-rule:evenodd;stroke:#FF0000;stroke-width:2.0px;stroke-linecap:butt;stroke-linejoin:miter;stroke-opacity:1\"/>\n",
       "<path class=\"bond-0 atom-0 atom-1\" d=\"M 376.1,67.9 L 354.6,56.3\" style=\"fill:none;fill-rule:evenodd;stroke:#000000;stroke-width:2.0px;stroke-linecap:butt;stroke-linejoin:miter;stroke-opacity:1\"/>\n",
       "<path class=\"bond-1 atom-1 atom-2\" d=\"M 354.6,56.3 L 303.6,87.7\" style=\"fill:none;fill-rule:evenodd;stroke:#000000;stroke-width:2.0px;stroke-linecap:butt;stroke-linejoin:miter;stroke-opacity:1\"/>\n",
       "<path class=\"bond-2 atom-2 atom-3\" d=\"M 303.6,87.7 L 250.9,59.2\" style=\"fill:none;fill-rule:evenodd;stroke:#000000;stroke-width:2.0px;stroke-linecap:butt;stroke-linejoin:miter;stroke-opacity:1\"/>\n",
       "<path class=\"bond-3 atom-3 atom-4\" d=\"M 250.9,59.2 L 199.9,90.6\" style=\"fill:none;fill-rule:evenodd;stroke:#000000;stroke-width:2.0px;stroke-linecap:butt;stroke-linejoin:miter;stroke-opacity:1\"/>\n",
       "<path class=\"bond-4 atom-4 atom-5\" d=\"M 199.9,90.6 L 147.2,62.1\" style=\"fill:none;fill-rule:evenodd;stroke:#000000;stroke-width:2.0px;stroke-linecap:butt;stroke-linejoin:miter;stroke-opacity:1\"/>\n",
       "<path class=\"bond-5 atom-6 atom-7\" d=\"M 96.2,93.5 L 74.8,81.9\" style=\"fill:none;fill-rule:evenodd;stroke:#000000;stroke-width:2.0px;stroke-linecap:butt;stroke-linejoin:miter;stroke-opacity:1\"/>\n",
       "<path class=\"bond-5 atom-6 atom-7\" d=\"M 74.8,81.9 L 53.3,70.3\" style=\"fill:none;fill-rule:evenodd;stroke:#FF0000;stroke-width:2.0px;stroke-linecap:butt;stroke-linejoin:miter;stroke-opacity:1\"/>\n",
       "<path class=\"bond-6 atom-5 atom-6\" d=\"M 147.2,62.1 L 96.2,93.5\" style=\"fill:none;fill-rule:evenodd;stroke:#000000;stroke-width:2.0px;stroke-linecap:butt;stroke-linejoin:miter;stroke-opacity:1\"/>\n",
       "<path class=\"atom-0\" d=\"M 399.5 84.9 Q 399.5 80.8, 401.5 78.5 Q 403.5 76.2, 407.3 76.2 Q 411.1 76.2, 413.1 78.5 Q 415.1 80.8, 415.1 84.9 Q 415.1 89.0, 413.0 91.3 Q 411.0 93.7, 407.3 93.7 Q 403.6 93.7, 401.5 91.3 Q 399.5 89.0, 399.5 84.9 M 407.3 91.7 Q 409.9 91.7, 411.3 90.0 Q 412.7 88.3, 412.7 84.9 Q 412.7 81.5, 411.3 79.9 Q 409.9 78.2, 407.3 78.2 Q 404.7 78.2, 403.3 79.8 Q 401.9 81.5, 401.9 84.9 Q 401.9 88.3, 403.3 90.0 Q 404.7 91.7, 407.3 91.7 \" fill=\"#FF0000\"/>\n",
       "<path class=\"atom-0\" d=\"M 416.3 76.4 L 418.6 76.4 L 418.6 83.6 L 427.2 83.6 L 427.2 76.4 L 429.5 76.4 L 429.5 93.4 L 427.2 93.4 L 427.2 85.6 L 418.6 85.6 L 418.6 93.4 L 416.3 93.4 L 416.3 76.4 \" fill=\"#FF0000\"/>\n",
       "<path class=\"atom-7\" d=\"M 20.5 56.6 L 22.8 56.6 L 22.8 63.8 L 31.4 63.8 L 31.4 56.6 L 33.7 56.6 L 33.7 73.6 L 31.4 73.6 L 31.4 65.8 L 22.8 65.8 L 22.8 73.6 L 20.5 73.6 L 20.5 56.6 \" fill=\"#FF0000\"/>\n",
       "<path class=\"atom-7\" d=\"M 35.8 65.1 Q 35.8 61.0, 37.8 58.7 Q 39.8 56.4, 43.5 56.4 Q 47.3 56.4, 49.3 58.7 Q 51.3 61.0, 51.3 65.1 Q 51.3 69.2, 49.3 71.5 Q 47.3 73.9, 43.5 73.9 Q 39.8 73.9, 37.8 71.5 Q 35.8 69.2, 35.8 65.1 M 43.5 71.9 Q 46.1 71.9, 47.5 70.2 Q 48.9 68.5, 48.9 65.1 Q 48.9 61.7, 47.5 60.1 Q 46.1 58.4, 43.5 58.4 Q 41.0 58.4, 39.5 60.0 Q 38.2 61.7, 38.2 65.1 Q 38.2 68.5, 39.5 70.2 Q 41.0 71.9, 43.5 71.9 \" fill=\"#FF0000\"/>\n",
       "</svg>"
      ],
      "text/plain": [
       "<IPython.core.display.SVG object>"
      ]
     },
     "execution_count": 9,
     "metadata": {},
     "output_type": "execute_result"
    }
   ],
   "source": [
    "big_smiles_gen(big)"
   ]
  },
  {
   "cell_type": "markdown",
   "id": "a3a781f5",
   "metadata": {},
   "source": [
    "## Di-ols with 2-5 middle Cyclohexane ring total Mw 500"
   ]
  },
  {
   "cell_type": "code",
   "execution_count": 10,
   "id": "a7c4b04f",
   "metadata": {},
   "outputs": [
    {
     "data": {
      "text/plain": [
       "'OC{[$][$]C([$])C1CCCCC1[$]}|uniform(84, 420)|CO'"
      ]
     },
     "execution_count": 10,
     "metadata": {},
     "output_type": "execute_result"
    }
   ],
   "source": [
    "big = \"OC{[$][$]C([$])C1CCCCC1[$]}|uniform(84, 420)|CO\"\n",
    "big"
   ]
  },
  {
   "cell_type": "code",
   "execution_count": 11,
   "id": "cff28b06",
   "metadata": {},
   "outputs": [
    {
     "data": {
      "image/svg+xml": [
       "<svg xmlns=\"http://www.w3.org/2000/svg\" xmlns:rdkit=\"http://www.rdkit.org/xml\" xmlns:xlink=\"http://www.w3.org/1999/xlink\" version=\"1.1\" baseProfile=\"full\" xml:space=\"preserve\" width=\"450px\" height=\"150px\" viewBox=\"0 0 450 150\">\n",
       "<!-- END OF HEADER -->\n",
       "<rect style=\"opacity:1.0;fill:#FFFFFF;stroke:none\" width=\"450.0\" height=\"150.0\" x=\"0.0\" y=\"0.0\"> </rect>\n",
       "<path class=\"bond-0 atom-0 atom-1\" d=\"M 199.9,42.3 L 201.7,45.0\" style=\"fill:none;fill-rule:evenodd;stroke:#FF0000;stroke-width:2.0px;stroke-linecap:butt;stroke-linejoin:miter;stroke-opacity:1\"/>\n",
       "<path class=\"bond-0 atom-0 atom-1\" d=\"M 201.7,45.0 L 203.6,47.7\" style=\"fill:none;fill-rule:evenodd;stroke:#000000;stroke-width:2.0px;stroke-linecap:butt;stroke-linejoin:miter;stroke-opacity:1\"/>\n",
       "<path class=\"bond-1 atom-2 atom-3\" d=\"M 199.5,68.1 L 179.7,74.8\" style=\"fill:none;fill-rule:evenodd;stroke:#000000;stroke-width:2.0px;stroke-linecap:butt;stroke-linejoin:miter;stroke-opacity:1\"/>\n",
       "<path class=\"bond-2 atom-3 atom-4\" d=\"M 179.7,74.8 L 175.6,95.2\" style=\"fill:none;fill-rule:evenodd;stroke:#000000;stroke-width:2.0px;stroke-linecap:butt;stroke-linejoin:miter;stroke-opacity:1\"/>\n",
       "<path class=\"bond-3 atom-4 atom-5\" d=\"M 175.6,95.2 L 155.9,101.9\" style=\"fill:none;fill-rule:evenodd;stroke:#000000;stroke-width:2.0px;stroke-linecap:butt;stroke-linejoin:miter;stroke-opacity:1\"/>\n",
       "<path class=\"bond-4 atom-5 atom-6\" d=\"M 155.9,101.9 L 140.2,88.1\" style=\"fill:none;fill-rule:evenodd;stroke:#000000;stroke-width:2.0px;stroke-linecap:butt;stroke-linejoin:miter;stroke-opacity:1\"/>\n",
       "<path class=\"bond-5 atom-6 atom-7\" d=\"M 140.2,88.1 L 144.3,67.7\" style=\"fill:none;fill-rule:evenodd;stroke:#000000;stroke-width:2.0px;stroke-linecap:butt;stroke-linejoin:miter;stroke-opacity:1\"/>\n",
       "<path class=\"bond-6 atom-7 atom-8\" d=\"M 144.3,67.7 L 164.1,61.0\" style=\"fill:none;fill-rule:evenodd;stroke:#000000;stroke-width:2.0px;stroke-linecap:butt;stroke-linejoin:miter;stroke-opacity:1\"/>\n",
       "<path class=\"bond-7 atom-8 atom-3\" d=\"M 164.1,61.0 L 179.7,74.8\" style=\"fill:none;fill-rule:evenodd;stroke:#000000;stroke-width:2.0px;stroke-linecap:butt;stroke-linejoin:miter;stroke-opacity:1\"/>\n",
       "<path class=\"bond-8 atom-1 atom-2\" d=\"M 203.6,47.7 L 199.5,68.1\" style=\"fill:none;fill-rule:evenodd;stroke:#000000;stroke-width:2.0px;stroke-linecap:butt;stroke-linejoin:miter;stroke-opacity:1\"/>\n",
       "<path class=\"bond-9 atom-9 atom-10\" d=\"M 215.1,81.9 L 211.0,102.3\" style=\"fill:none;fill-rule:evenodd;stroke:#000000;stroke-width:2.0px;stroke-linecap:butt;stroke-linejoin:miter;stroke-opacity:1\"/>\n",
       "<path class=\"bond-10 atom-10 atom-11\" d=\"M 211.0,102.3 L 191.3,109.0\" style=\"fill:none;fill-rule:evenodd;stroke:#000000;stroke-width:2.0px;stroke-linecap:butt;stroke-linejoin:miter;stroke-opacity:1\"/>\n",
       "<path class=\"bond-11 atom-11 atom-12\" d=\"M 191.3,109.0 L 187.2,129.4\" style=\"fill:none;fill-rule:evenodd;stroke:#000000;stroke-width:2.0px;stroke-linecap:butt;stroke-linejoin:miter;stroke-opacity:1\"/>\n",
       "<path class=\"bond-12 atom-12 atom-13\" d=\"M 187.2,129.4 L 202.8,143.2\" style=\"fill:none;fill-rule:evenodd;stroke:#000000;stroke-width:2.0px;stroke-linecap:butt;stroke-linejoin:miter;stroke-opacity:1\"/>\n",
       "<path class=\"bond-13 atom-13 atom-14\" d=\"M 202.8,143.2 L 222.6,136.5\" style=\"fill:none;fill-rule:evenodd;stroke:#000000;stroke-width:2.0px;stroke-linecap:butt;stroke-linejoin:miter;stroke-opacity:1\"/>\n",
       "<path class=\"bond-14 atom-14 atom-15\" d=\"M 222.6,136.5 L 226.7,116.1\" style=\"fill:none;fill-rule:evenodd;stroke:#000000;stroke-width:2.0px;stroke-linecap:butt;stroke-linejoin:miter;stroke-opacity:1\"/>\n",
       "<path class=\"bond-15 atom-15 atom-10\" d=\"M 226.7,116.1 L 211.0,102.3\" style=\"fill:none;fill-rule:evenodd;stroke:#000000;stroke-width:2.0px;stroke-linecap:butt;stroke-linejoin:miter;stroke-opacity:1\"/>\n",
       "<path class=\"bond-16 atom-2 atom-9\" d=\"M 199.5,68.1 L 215.1,81.9\" style=\"fill:none;fill-rule:evenodd;stroke:#000000;stroke-width:2.0px;stroke-linecap:butt;stroke-linejoin:miter;stroke-opacity:1\"/>\n",
       "<path class=\"bond-17 atom-16 atom-17\" d=\"M 234.9,75.2 L 250.5,89.0\" style=\"fill:none;fill-rule:evenodd;stroke:#000000;stroke-width:2.0px;stroke-linecap:butt;stroke-linejoin:miter;stroke-opacity:1\"/>\n",
       "<path class=\"bond-18 atom-17 atom-18\" d=\"M 250.5,89.0 L 246.4,109.4\" style=\"fill:none;fill-rule:evenodd;stroke:#000000;stroke-width:2.0px;stroke-linecap:butt;stroke-linejoin:miter;stroke-opacity:1\"/>\n",
       "<path class=\"bond-19 atom-18 atom-19\" d=\"M 246.4,109.4 L 262.1,123.2\" style=\"fill:none;fill-rule:evenodd;stroke:#000000;stroke-width:2.0px;stroke-linecap:butt;stroke-linejoin:miter;stroke-opacity:1\"/>\n",
       "<path class=\"bond-20 atom-19 atom-20\" d=\"M 262.1,123.2 L 281.8,116.5\" style=\"fill:none;fill-rule:evenodd;stroke:#000000;stroke-width:2.0px;stroke-linecap:butt;stroke-linejoin:miter;stroke-opacity:1\"/>\n",
       "<path class=\"bond-21 atom-20 atom-21\" d=\"M 281.8,116.5 L 285.9,96.1\" style=\"fill:none;fill-rule:evenodd;stroke:#000000;stroke-width:2.0px;stroke-linecap:butt;stroke-linejoin:miter;stroke-opacity:1\"/>\n",
       "<path class=\"bond-22 atom-21 atom-22\" d=\"M 285.9,96.1 L 270.3,82.3\" style=\"fill:none;fill-rule:evenodd;stroke:#000000;stroke-width:2.0px;stroke-linecap:butt;stroke-linejoin:miter;stroke-opacity:1\"/>\n",
       "<path class=\"bond-23 atom-22 atom-17\" d=\"M 270.3,82.3 L 250.5,89.0\" style=\"fill:none;fill-rule:evenodd;stroke:#000000;stroke-width:2.0px;stroke-linecap:butt;stroke-linejoin:miter;stroke-opacity:1\"/>\n",
       "<path class=\"bond-24 atom-9 atom-16\" d=\"M 215.1,81.9 L 234.9,75.2\" style=\"fill:none;fill-rule:evenodd;stroke:#000000;stroke-width:2.0px;stroke-linecap:butt;stroke-linejoin:miter;stroke-opacity:1\"/>\n",
       "<path class=\"bond-25 atom-23 atom-24\" d=\"M 239.0,54.8 L 223.3,41.0\" style=\"fill:none;fill-rule:evenodd;stroke:#000000;stroke-width:2.0px;stroke-linecap:butt;stroke-linejoin:miter;stroke-opacity:1\"/>\n",
       "<path class=\"bond-26 atom-24 atom-25\" d=\"M 223.3,41.0 L 227.4,20.6\" style=\"fill:none;fill-rule:evenodd;stroke:#000000;stroke-width:2.0px;stroke-linecap:butt;stroke-linejoin:miter;stroke-opacity:1\"/>\n",
       "<path class=\"bond-27 atom-25 atom-26\" d=\"M 227.4,20.6 L 211.8,6.8\" style=\"fill:none;fill-rule:evenodd;stroke:#000000;stroke-width:2.0px;stroke-linecap:butt;stroke-linejoin:miter;stroke-opacity:1\"/>\n",
       "<path class=\"bond-28 atom-26 atom-27\" d=\"M 211.8,6.8 L 192.0,13.5\" style=\"fill:none;fill-rule:evenodd;stroke:#000000;stroke-width:2.0px;stroke-linecap:butt;stroke-linejoin:miter;stroke-opacity:1\"/>\n",
       "<path class=\"bond-29 atom-27 atom-28\" d=\"M 192.0,13.5 L 187.9,33.9\" style=\"fill:none;fill-rule:evenodd;stroke:#000000;stroke-width:2.0px;stroke-linecap:butt;stroke-linejoin:miter;stroke-opacity:1\"/>\n",
       "<path class=\"bond-30 atom-28 atom-29\" d=\"M 187.9,33.9 L 203.6,47.7\" style=\"fill:none;fill-rule:evenodd;stroke:#000000;stroke-width:2.0px;stroke-linecap:butt;stroke-linejoin:miter;stroke-opacity:1\"/>\n",
       "<path class=\"bond-31 atom-29 atom-24\" d=\"M 203.6,47.7 L 223.3,41.0\" style=\"fill:none;fill-rule:evenodd;stroke:#000000;stroke-width:2.0px;stroke-linecap:butt;stroke-linejoin:miter;stroke-opacity:1\"/>\n",
       "<path class=\"bond-32 atom-16 atom-23\" d=\"M 234.9,75.2 L 239.0,54.8\" style=\"fill:none;fill-rule:evenodd;stroke:#000000;stroke-width:2.0px;stroke-linecap:butt;stroke-linejoin:miter;stroke-opacity:1\"/>\n",
       "<path class=\"bond-33 atom-30 atom-31\" d=\"M 258.7,48.1 L 274.4,61.9\" style=\"fill:none;fill-rule:evenodd;stroke:#000000;stroke-width:2.0px;stroke-linecap:butt;stroke-linejoin:miter;stroke-opacity:1\"/>\n",
       "<path class=\"bond-34 atom-31 atom-32\" d=\"M 274.4,61.9 L 294.1,55.2\" style=\"fill:none;fill-rule:evenodd;stroke:#000000;stroke-width:2.0px;stroke-linecap:butt;stroke-linejoin:miter;stroke-opacity:1\"/>\n",
       "<path class=\"bond-35 atom-32 atom-33\" d=\"M 294.1,55.2 L 309.8,69.0\" style=\"fill:none;fill-rule:evenodd;stroke:#000000;stroke-width:2.0px;stroke-linecap:butt;stroke-linejoin:miter;stroke-opacity:1\"/>\n",
       "<path class=\"bond-36 atom-33 atom-34\" d=\"M 309.8,69.0 L 305.7,89.4\" style=\"fill:none;fill-rule:evenodd;stroke:#000000;stroke-width:2.0px;stroke-linecap:butt;stroke-linejoin:miter;stroke-opacity:1\"/>\n",
       "<path class=\"bond-37 atom-34 atom-35\" d=\"M 305.7,89.4 L 285.9,96.1\" style=\"fill:none;fill-rule:evenodd;stroke:#000000;stroke-width:2.0px;stroke-linecap:butt;stroke-linejoin:miter;stroke-opacity:1\"/>\n",
       "<path class=\"bond-38 atom-35 atom-36\" d=\"M 285.9,96.1 L 270.3,82.3\" style=\"fill:none;fill-rule:evenodd;stroke:#000000;stroke-width:2.0px;stroke-linecap:butt;stroke-linejoin:miter;stroke-opacity:1\"/>\n",
       "<path class=\"bond-39 atom-36 atom-31\" d=\"M 270.3,82.3 L 274.4,61.9\" style=\"fill:none;fill-rule:evenodd;stroke:#000000;stroke-width:2.0px;stroke-linecap:butt;stroke-linejoin:miter;stroke-opacity:1\"/>\n",
       "<path class=\"bond-40 atom-23 atom-30\" d=\"M 239.0,54.8 L 258.7,48.1\" style=\"fill:none;fill-rule:evenodd;stroke:#000000;stroke-width:2.0px;stroke-linecap:butt;stroke-linejoin:miter;stroke-opacity:1\"/>\n",
       "<path class=\"bond-41 atom-37 atom-38\" d=\"M 262.8,27.7 L 271.0,24.9\" style=\"fill:none;fill-rule:evenodd;stroke:#000000;stroke-width:2.0px;stroke-linecap:butt;stroke-linejoin:miter;stroke-opacity:1\"/>\n",
       "<path class=\"bond-41 atom-37 atom-38\" d=\"M 271.0,24.9 L 279.2,22.2\" style=\"fill:none;fill-rule:evenodd;stroke:#FF0000;stroke-width:2.0px;stroke-linecap:butt;stroke-linejoin:miter;stroke-opacity:1\"/>\n",
       "<path class=\"bond-42 atom-30 atom-37\" d=\"M 258.7,48.1 L 262.8,27.7\" style=\"fill:none;fill-rule:evenodd;stroke:#000000;stroke-width:2.0px;stroke-linecap:butt;stroke-linejoin:miter;stroke-opacity:1\"/>\n",
       "<path class=\"atom-0\" d=\"M 189.2 35.7 L 190.0 35.7 L 190.0 38.2 L 193.1 38.2 L 193.1 35.7 L 193.9 35.7 L 193.9 41.6 L 193.1 41.6 L 193.1 38.8 L 190.0 38.8 L 190.0 41.6 L 189.2 41.6 L 189.2 35.7 \" fill=\"#FF0000\"/>\n",
       "<path class=\"atom-0\" d=\"M 194.6 38.6 Q 194.6 37.2, 195.3 36.4 Q 196.0 35.6, 197.3 35.6 Q 198.6 35.6, 199.3 36.4 Q 200.0 37.2, 200.0 38.6 Q 200.0 40.0, 199.3 40.8 Q 198.6 41.7, 197.3 41.7 Q 196.0 41.7, 195.3 40.8 Q 194.6 40.0, 194.6 38.6 M 197.3 41.0 Q 198.2 41.0, 198.7 40.4 Q 199.2 39.8, 199.2 38.6 Q 199.2 37.4, 198.7 36.8 Q 198.2 36.3, 197.3 36.3 Q 196.4 36.3, 195.9 36.8 Q 195.4 37.4, 195.4 38.6 Q 195.4 39.8, 195.9 40.4 Q 196.4 41.0, 197.3 41.0 \" fill=\"#FF0000\"/>\n",
       "<path class=\"atom-38\" d=\"M 279.8 21.0 Q 279.8 19.6, 280.5 18.8 Q 281.2 18.0, 282.6 18.0 Q 283.9 18.0, 284.6 18.8 Q 285.3 19.6, 285.3 21.0 Q 285.3 22.5, 284.6 23.3 Q 283.8 24.1, 282.6 24.1 Q 281.3 24.1, 280.5 23.3 Q 279.8 22.5, 279.8 21.0 M 282.6 23.4 Q 283.5 23.4, 283.9 22.8 Q 284.4 22.2, 284.4 21.0 Q 284.4 19.9, 283.9 19.3 Q 283.5 18.7, 282.6 18.7 Q 281.7 18.7, 281.2 19.3 Q 280.7 19.9, 280.7 21.0 Q 280.7 22.2, 281.2 22.8 Q 281.7 23.4, 282.6 23.4 \" fill=\"#FF0000\"/>\n",
       "<path class=\"atom-38\" d=\"M 285.7 18.1 L 286.5 18.1 L 286.5 20.6 L 289.5 20.6 L 289.5 18.1 L 290.3 18.1 L 290.3 24.0 L 289.5 24.0 L 289.5 21.3 L 286.5 21.3 L 286.5 24.0 L 285.7 24.0 L 285.7 18.1 \" fill=\"#FF0000\"/>\n",
       "<path class=\"atom-1\" d=\"M 202.2,46.3 L 202.2,49.1 L 205.0,49.1 L 205.0,46.3 L 202.2,46.3\" style=\"fill:none;stroke:#FF0000;stroke-width:2.0px;stroke-linecap:butt;stroke-linejoin:miter;stroke-opacity:1;\"/>\n",
       "<path class=\"atom-21\" d=\"M 284.5,94.7 L 284.5,97.5 L 287.3,97.5 L 287.3,94.7 L 284.5,94.7\" style=\"fill:none;stroke:#FF0000;stroke-width:2.0px;stroke-linecap:butt;stroke-linejoin:miter;stroke-opacity:1;\"/>\n",
       "<path class=\"atom-22\" d=\"M 268.9,80.9 L 268.9,83.7 L 271.7,83.7 L 271.7,80.9 L 268.9,80.9\" style=\"fill:none;stroke:#FF0000;stroke-width:2.0px;stroke-linecap:butt;stroke-linejoin:miter;stroke-opacity:1;\"/>\n",
       "</svg>"
      ],
      "text/plain": [
       "<IPython.core.display.SVG object>"
      ]
     },
     "execution_count": 11,
     "metadata": {},
     "output_type": "execute_result"
    }
   ],
   "source": [
    "big_smiles_gen(big)"
   ]
  },
  {
   "cell_type": "code",
   "execution_count": 12,
   "id": "de885cd0",
   "metadata": {},
   "outputs": [
    {
     "data": {
      "image/svg+xml": [
       "<svg xmlns=\"http://www.w3.org/2000/svg\" xmlns:rdkit=\"http://www.rdkit.org/xml\" xmlns:xlink=\"http://www.w3.org/1999/xlink\" version=\"1.1\" baseProfile=\"full\" xml:space=\"preserve\" width=\"450px\" height=\"150px\" viewBox=\"0 0 450 150\">\n",
       "<!-- END OF HEADER -->\n",
       "<rect style=\"opacity:1.0;fill:#FFFFFF;stroke:none\" width=\"450.0\" height=\"150.0\" x=\"0.0\" y=\"0.0\"> </rect>\n",
       "<path class=\"bond-0 atom-0 atom-1\" d=\"M 218.2,13.1 L 227.5,18.6\" style=\"fill:none;fill-rule:evenodd;stroke:#FF0000;stroke-width:2.0px;stroke-linecap:butt;stroke-linejoin:miter;stroke-opacity:1\"/>\n",
       "<path class=\"bond-0 atom-0 atom-1\" d=\"M 227.5,18.6 L 236.9,24.0\" style=\"fill:none;fill-rule:evenodd;stroke:#000000;stroke-width:2.0px;stroke-linecap:butt;stroke-linejoin:miter;stroke-opacity:1\"/>\n",
       "<path class=\"bond-1 atom-2 atom-3\" d=\"M 236.7,50.6 L 259.7,64.0\" style=\"fill:none;fill-rule:evenodd;stroke:#000000;stroke-width:2.0px;stroke-linecap:butt;stroke-linejoin:miter;stroke-opacity:1\"/>\n",
       "<path class=\"bond-2 atom-3 atom-4\" d=\"M 259.7,64.0 L 259.5,90.5\" style=\"fill:none;fill-rule:evenodd;stroke:#000000;stroke-width:2.0px;stroke-linecap:butt;stroke-linejoin:miter;stroke-opacity:1\"/>\n",
       "<path class=\"bond-3 atom-4 atom-5\" d=\"M 259.5,90.5 L 282.5,103.9\" style=\"fill:none;fill-rule:evenodd;stroke:#000000;stroke-width:2.0px;stroke-linecap:butt;stroke-linejoin:miter;stroke-opacity:1\"/>\n",
       "<path class=\"bond-4 atom-5 atom-6\" d=\"M 282.5,103.9 L 305.5,90.7\" style=\"fill:none;fill-rule:evenodd;stroke:#000000;stroke-width:2.0px;stroke-linecap:butt;stroke-linejoin:miter;stroke-opacity:1\"/>\n",
       "<path class=\"bond-5 atom-6 atom-7\" d=\"M 305.5,90.7 L 305.7,64.2\" style=\"fill:none;fill-rule:evenodd;stroke:#000000;stroke-width:2.0px;stroke-linecap:butt;stroke-linejoin:miter;stroke-opacity:1\"/>\n",
       "<path class=\"bond-6 atom-7 atom-8\" d=\"M 305.7,64.2 L 282.7,50.8\" style=\"fill:none;fill-rule:evenodd;stroke:#000000;stroke-width:2.0px;stroke-linecap:butt;stroke-linejoin:miter;stroke-opacity:1\"/>\n",
       "<path class=\"bond-7 atom-8 atom-3\" d=\"M 282.7,50.8 L 259.7,64.0\" style=\"fill:none;fill-rule:evenodd;stroke:#000000;stroke-width:2.0px;stroke-linecap:butt;stroke-linejoin:miter;stroke-opacity:1\"/>\n",
       "<path class=\"bond-8 atom-1 atom-2\" d=\"M 236.9,24.0 L 236.7,50.6\" style=\"fill:none;fill-rule:evenodd;stroke:#000000;stroke-width:2.0px;stroke-linecap:butt;stroke-linejoin:miter;stroke-opacity:1\"/>\n",
       "<path class=\"bond-9 atom-9 atom-10\" d=\"M 213.7,63.7 L 190.7,50.3\" style=\"fill:none;fill-rule:evenodd;stroke:#000000;stroke-width:2.0px;stroke-linecap:butt;stroke-linejoin:miter;stroke-opacity:1\"/>\n",
       "<path class=\"bond-10 atom-10 atom-11\" d=\"M 190.7,50.3 L 190.9,23.8\" style=\"fill:none;fill-rule:evenodd;stroke:#000000;stroke-width:2.0px;stroke-linecap:butt;stroke-linejoin:miter;stroke-opacity:1\"/>\n",
       "<path class=\"bond-11 atom-11 atom-12\" d=\"M 190.9,23.8 L 167.9,10.4\" style=\"fill:none;fill-rule:evenodd;stroke:#000000;stroke-width:2.0px;stroke-linecap:butt;stroke-linejoin:miter;stroke-opacity:1\"/>\n",
       "<path class=\"bond-12 atom-12 atom-13\" d=\"M 167.9,10.4 L 144.9,23.6\" style=\"fill:none;fill-rule:evenodd;stroke:#000000;stroke-width:2.0px;stroke-linecap:butt;stroke-linejoin:miter;stroke-opacity:1\"/>\n",
       "<path class=\"bond-13 atom-13 atom-14\" d=\"M 144.9,23.6 L 144.7,50.1\" style=\"fill:none;fill-rule:evenodd;stroke:#000000;stroke-width:2.0px;stroke-linecap:butt;stroke-linejoin:miter;stroke-opacity:1\"/>\n",
       "<path class=\"bond-14 atom-14 atom-15\" d=\"M 144.7,50.1 L 167.7,63.5\" style=\"fill:none;fill-rule:evenodd;stroke:#000000;stroke-width:2.0px;stroke-linecap:butt;stroke-linejoin:miter;stroke-opacity:1\"/>\n",
       "<path class=\"bond-15 atom-15 atom-10\" d=\"M 167.7,63.5 L 190.7,50.3\" style=\"fill:none;fill-rule:evenodd;stroke:#000000;stroke-width:2.0px;stroke-linecap:butt;stroke-linejoin:miter;stroke-opacity:1\"/>\n",
       "<path class=\"bond-16 atom-2 atom-9\" d=\"M 236.7,50.6 L 213.7,63.7\" style=\"fill:none;fill-rule:evenodd;stroke:#000000;stroke-width:2.0px;stroke-linecap:butt;stroke-linejoin:miter;stroke-opacity:1\"/>\n",
       "<path class=\"bond-17 atom-16 atom-17\" d=\"M 213.5,90.3 L 190.5,103.5\" style=\"fill:none;fill-rule:evenodd;stroke:#000000;stroke-width:2.0px;stroke-linecap:butt;stroke-linejoin:miter;stroke-opacity:1\"/>\n",
       "<path class=\"bond-18 atom-17 atom-18\" d=\"M 190.5,103.5 L 167.5,90.1\" style=\"fill:none;fill-rule:evenodd;stroke:#000000;stroke-width:2.0px;stroke-linecap:butt;stroke-linejoin:miter;stroke-opacity:1\"/>\n",
       "<path class=\"bond-19 atom-18 atom-19\" d=\"M 167.5,90.1 L 144.5,103.2\" style=\"fill:none;fill-rule:evenodd;stroke:#000000;stroke-width:2.0px;stroke-linecap:butt;stroke-linejoin:miter;stroke-opacity:1\"/>\n",
       "<path class=\"bond-20 atom-19 atom-20\" d=\"M 144.5,103.2 L 144.3,129.8\" style=\"fill:none;fill-rule:evenodd;stroke:#000000;stroke-width:2.0px;stroke-linecap:butt;stroke-linejoin:miter;stroke-opacity:1\"/>\n",
       "<path class=\"bond-21 atom-20 atom-21\" d=\"M 144.3,129.8 L 167.3,143.2\" style=\"fill:none;fill-rule:evenodd;stroke:#000000;stroke-width:2.0px;stroke-linecap:butt;stroke-linejoin:miter;stroke-opacity:1\"/>\n",
       "<path class=\"bond-22 atom-21 atom-22\" d=\"M 167.3,143.2 L 190.3,130.0\" style=\"fill:none;fill-rule:evenodd;stroke:#000000;stroke-width:2.0px;stroke-linecap:butt;stroke-linejoin:miter;stroke-opacity:1\"/>\n",
       "<path class=\"bond-23 atom-22 atom-17\" d=\"M 190.3,130.0 L 190.5,103.5\" style=\"fill:none;fill-rule:evenodd;stroke:#000000;stroke-width:2.0px;stroke-linecap:butt;stroke-linejoin:miter;stroke-opacity:1\"/>\n",
       "<path class=\"bond-24 atom-9 atom-16\" d=\"M 213.7,63.7 L 213.5,90.3\" style=\"fill:none;fill-rule:evenodd;stroke:#000000;stroke-width:2.0px;stroke-linecap:butt;stroke-linejoin:miter;stroke-opacity:1\"/>\n",
       "<path class=\"bond-25 atom-23 atom-24\" d=\"M 236.5,103.7 L 236.4,114.6\" style=\"fill:none;fill-rule:evenodd;stroke:#000000;stroke-width:2.0px;stroke-linecap:butt;stroke-linejoin:miter;stroke-opacity:1\"/>\n",
       "<path class=\"bond-25 atom-23 atom-24\" d=\"M 236.4,114.6 L 236.4,125.6\" style=\"fill:none;fill-rule:evenodd;stroke:#FF0000;stroke-width:2.0px;stroke-linecap:butt;stroke-linejoin:miter;stroke-opacity:1\"/>\n",
       "<path class=\"bond-26 atom-16 atom-23\" d=\"M 213.5,90.3 L 236.5,103.7\" style=\"fill:none;fill-rule:evenodd;stroke:#000000;stroke-width:2.0px;stroke-linecap:butt;stroke-linejoin:miter;stroke-opacity:1\"/>\n",
       "<path class=\"atom-0\" d=\"M 203.7 6.9 L 204.7 6.9 L 204.7 10.1 L 208.5 10.1 L 208.5 6.9 L 209.6 6.9 L 209.6 14.4 L 208.5 14.4 L 208.5 11.0 L 204.7 11.0 L 204.7 14.4 L 203.7 14.4 L 203.7 6.9 \" fill=\"#FF0000\"/>\n",
       "<path class=\"atom-0\" d=\"M 210.5 10.6 Q 210.5 8.8, 211.4 7.8 Q 212.2 6.8, 213.9 6.8 Q 215.6 6.8, 216.5 7.8 Q 217.4 8.8, 217.4 10.6 Q 217.4 12.5, 216.5 13.5 Q 215.6 14.5, 213.9 14.5 Q 212.3 14.5, 211.4 13.5 Q 210.5 12.5, 210.5 10.6 M 213.9 13.7 Q 215.1 13.7, 215.7 12.9 Q 216.3 12.2, 216.3 10.6 Q 216.3 9.2, 215.7 8.4 Q 215.1 7.7, 213.9 7.7 Q 212.8 7.7, 212.1 8.4 Q 211.5 9.2, 211.5 10.6 Q 211.5 12.2, 212.1 12.9 Q 212.8 13.7, 213.9 13.7 \" fill=\"#FF0000\"/>\n",
       "<path class=\"atom-24\" d=\"M 232.9 130.3 Q 232.9 128.5, 233.8 127.4 Q 234.7 126.4, 236.3 126.4 Q 238.0 126.4, 238.9 127.4 Q 239.8 128.5, 239.8 130.3 Q 239.8 132.1, 238.9 133.1 Q 238.0 134.2, 236.3 134.2 Q 234.7 134.2, 233.8 133.1 Q 232.9 132.1, 232.9 130.3 M 236.3 133.3 Q 237.5 133.3, 238.1 132.5 Q 238.7 131.8, 238.7 130.3 Q 238.7 128.8, 238.1 128.0 Q 237.5 127.3, 236.3 127.3 Q 235.2 127.3, 234.6 128.0 Q 233.9 128.8, 233.9 130.3 Q 233.9 131.8, 234.6 132.5 Q 235.2 133.3, 236.3 133.3 \" fill=\"#FF0000\"/>\n",
       "<path class=\"atom-24\" d=\"M 240.3 126.5 L 241.3 126.5 L 241.3 129.7 L 245.2 129.7 L 245.2 126.5 L 246.2 126.5 L 246.2 134.0 L 245.2 134.0 L 245.2 130.6 L 241.3 130.6 L 241.3 134.0 L 240.3 134.0 L 240.3 126.5 \" fill=\"#FF0000\"/>\n",
       "</svg>"
      ],
      "text/plain": [
       "<IPython.core.display.SVG object>"
      ]
     },
     "execution_count": 12,
     "metadata": {},
     "output_type": "execute_result"
    }
   ],
   "source": [
    "big_smiles_gen(big)"
   ]
  },
  {
   "cell_type": "markdown",
   "id": "d978619a",
   "metadata": {},
   "source": [
    "# Polyamides\n",
    "## Di-Carboxylic Acids"
   ]
  },
  {
   "cell_type": "code",
   "execution_count": 13,
   "id": "6a88d483",
   "metadata": {},
   "outputs": [
    {
     "data": {
      "text/plain": [
       "'NC{[$][$]C[$][$]}|gauss(60, 24)|COO'"
      ]
     },
     "execution_count": 13,
     "metadata": {},
     "output_type": "execute_result"
    }
   ],
   "source": [
    "big = \"NC{[$][$]C[$][$]}|gauss(60, 24)|COO\"\n",
    "big"
   ]
  },
  {
   "cell_type": "code",
   "execution_count": 14,
   "id": "2f11a3e7",
   "metadata": {},
   "outputs": [
    {
     "data": {
      "image/svg+xml": [
       "<svg xmlns=\"http://www.w3.org/2000/svg\" xmlns:rdkit=\"http://www.rdkit.org/xml\" xmlns:xlink=\"http://www.w3.org/1999/xlink\" version=\"1.1\" baseProfile=\"full\" xml:space=\"preserve\" width=\"450px\" height=\"150px\" viewBox=\"0 0 450 150\">\n",
       "<!-- END OF HEADER -->\n",
       "<rect style=\"opacity:1.0;fill:#FFFFFF;stroke:none\" width=\"450.0\" height=\"150.0\" x=\"0.0\" y=\"0.0\"> </rect>\n",
       "<path class=\"bond-0 atom-0 atom-1\" d=\"M 54.3,66.0 L 73.3,77.0\" style=\"fill:none;fill-rule:evenodd;stroke:#0000FF;stroke-width:2.0px;stroke-linecap:butt;stroke-linejoin:miter;stroke-opacity:1\"/>\n",
       "<path class=\"bond-0 atom-0 atom-1\" d=\"M 73.3,77.0 L 92.3,88.0\" style=\"fill:none;fill-rule:evenodd;stroke:#000000;stroke-width:2.0px;stroke-linecap:butt;stroke-linejoin:miter;stroke-opacity:1\"/>\n",
       "<path class=\"bond-1 atom-1 atom-2\" d=\"M 92.3,88.0 L 137.7,61.8\" style=\"fill:none;fill-rule:evenodd;stroke:#000000;stroke-width:2.0px;stroke-linecap:butt;stroke-linejoin:miter;stroke-opacity:1\"/>\n",
       "<path class=\"bond-2 atom-2 atom-3\" d=\"M 137.7,61.8 L 183.1,88.0\" style=\"fill:none;fill-rule:evenodd;stroke:#000000;stroke-width:2.0px;stroke-linecap:butt;stroke-linejoin:miter;stroke-opacity:1\"/>\n",
       "<path class=\"bond-3 atom-3 atom-4\" d=\"M 183.1,88.0 L 228.5,61.8\" style=\"fill:none;fill-rule:evenodd;stroke:#000000;stroke-width:2.0px;stroke-linecap:butt;stroke-linejoin:miter;stroke-opacity:1\"/>\n",
       "<path class=\"bond-4 atom-4 atom-5\" d=\"M 228.5,61.8 L 273.9,88.0\" style=\"fill:none;fill-rule:evenodd;stroke:#000000;stroke-width:2.0px;stroke-linecap:butt;stroke-linejoin:miter;stroke-opacity:1\"/>\n",
       "<path class=\"bond-5 atom-6 atom-7\" d=\"M 319.3,61.8 L 337.7,72.4\" style=\"fill:none;fill-rule:evenodd;stroke:#000000;stroke-width:2.0px;stroke-linecap:butt;stroke-linejoin:miter;stroke-opacity:1\"/>\n",
       "<path class=\"bond-5 atom-6 atom-7\" d=\"M 337.7,72.4 L 356.1,83.1\" style=\"fill:none;fill-rule:evenodd;stroke:#FF0000;stroke-width:2.0px;stroke-linecap:butt;stroke-linejoin:miter;stroke-opacity:1\"/>\n",
       "<path class=\"bond-6 atom-7 atom-8\" d=\"M 373.2,83.1 L 401.5,66.7\" style=\"fill:none;fill-rule:evenodd;stroke:#FF0000;stroke-width:2.0px;stroke-linecap:butt;stroke-linejoin:miter;stroke-opacity:1\"/>\n",
       "<path class=\"bond-7 atom-5 atom-6\" d=\"M 273.9,88.0 L 319.3,61.8\" style=\"fill:none;fill-rule:evenodd;stroke:#000000;stroke-width:2.0px;stroke-linecap:butt;stroke-linejoin:miter;stroke-opacity:1\"/>\n",
       "<path class=\"atom-0\" d=\"M 20.5 54.4 L 22.5 54.4 L 22.5 60.7 L 30.1 60.7 L 30.1 54.4 L 32.1 54.4 L 32.1 69.2 L 30.1 69.2 L 30.1 62.3 L 22.5 62.3 L 22.5 69.2 L 20.5 69.2 L 20.5 54.4 \" fill=\"#0000FF\"/>\n",
       "<path class=\"atom-0\" d=\"M 33.9 68.7 Q 34.2 67.8, 35.1 67.2 Q 36.0 66.7, 37.1 66.7 Q 38.6 66.7, 39.5 67.5 Q 40.3 68.3, 40.3 69.7 Q 40.3 71.2, 39.2 72.6 Q 38.1 73.9, 35.9 75.5 L 40.5 75.5 L 40.5 76.6 L 33.9 76.6 L 33.9 75.7 Q 35.7 74.4, 36.8 73.4 Q 37.9 72.5, 38.4 71.6 Q 38.9 70.7, 38.9 69.8 Q 38.9 68.9, 38.4 68.3 Q 38.0 67.8, 37.1 67.8 Q 36.4 67.8, 35.8 68.1 Q 35.3 68.5, 34.9 69.2 L 33.9 68.7 \" fill=\"#0000FF\"/>\n",
       "<path class=\"atom-0\" d=\"M 43.6 54.4 L 48.5 62.2 Q 49.0 63.0, 49.8 64.4 Q 50.5 65.8, 50.6 65.9 L 50.6 54.4 L 52.5 54.4 L 52.5 69.2 L 50.5 69.2 L 45.3 60.6 Q 44.7 59.6, 44.0 58.4 Q 43.4 57.3, 43.2 56.9 L 43.2 69.2 L 41.3 69.2 L 41.3 54.4 L 43.6 54.4 \" fill=\"#0000FF\"/>\n",
       "<path class=\"atom-7\" d=\"M 357.9 88.0 Q 357.9 84.5, 359.6 82.5 Q 361.4 80.5, 364.7 80.5 Q 368.0 80.5, 369.7 82.5 Q 371.5 84.5, 371.5 88.0 Q 371.5 91.6, 369.7 93.7 Q 367.9 95.7, 364.7 95.7 Q 361.4 95.7, 359.6 93.7 Q 357.9 91.7, 357.9 88.0 M 364.7 94.0 Q 366.9 94.0, 368.2 92.5 Q 369.4 91.0, 369.4 88.0 Q 369.4 85.1, 368.2 83.6 Q 366.9 82.2, 364.7 82.2 Q 362.4 82.2, 361.2 83.6 Q 360.0 85.1, 360.0 88.0 Q 360.0 91.0, 361.2 92.5 Q 362.4 94.0, 364.7 94.0 \" fill=\"#FF0000\"/>\n",
       "<path class=\"atom-8\" d=\"M 403.3 61.8 Q 403.3 58.3, 405.0 56.3 Q 406.8 54.3, 410.1 54.3 Q 413.4 54.3, 415.1 56.3 Q 416.9 58.3, 416.9 61.8 Q 416.9 65.4, 415.1 67.5 Q 413.3 69.5, 410.1 69.5 Q 406.8 69.5, 405.0 67.5 Q 403.3 65.4, 403.3 61.8 M 410.1 67.8 Q 412.3 67.8, 413.5 66.3 Q 414.8 64.8, 414.8 61.8 Q 414.8 58.9, 413.5 57.4 Q 412.3 56.0, 410.1 56.0 Q 407.8 56.0, 406.6 57.4 Q 405.3 58.9, 405.3 61.8 Q 405.3 64.8, 406.6 66.3 Q 407.8 67.8, 410.1 67.8 \" fill=\"#FF0000\"/>\n",
       "<path class=\"atom-8\" d=\"M 417.9 54.4 L 419.9 54.4 L 419.9 60.8 L 427.5 60.8 L 427.5 54.4 L 429.5 54.4 L 429.5 69.3 L 427.5 69.3 L 427.5 62.4 L 419.9 62.4 L 419.9 69.3 L 417.9 69.3 L 417.9 54.4 \" fill=\"#FF0000\"/>\n",
       "</svg>"
      ],
      "text/plain": [
       "<IPython.core.display.SVG object>"
      ]
     },
     "execution_count": 14,
     "metadata": {},
     "output_type": "execute_result"
    }
   ],
   "source": [
    "big_smiles_gen(big)"
   ]
  },
  {
   "cell_type": "code",
   "execution_count": 15,
   "id": "a935520e",
   "metadata": {},
   "outputs": [
    {
     "data": {
      "image/svg+xml": [
       "<svg xmlns=\"http://www.w3.org/2000/svg\" xmlns:rdkit=\"http://www.rdkit.org/xml\" xmlns:xlink=\"http://www.w3.org/1999/xlink\" version=\"1.1\" baseProfile=\"full\" xml:space=\"preserve\" width=\"450px\" height=\"150px\" viewBox=\"0 0 450 150\">\n",
       "<!-- END OF HEADER -->\n",
       "<rect style=\"opacity:1.0;fill:#FFFFFF;stroke:none\" width=\"450.0\" height=\"150.0\" x=\"0.0\" y=\"0.0\"> </rect>\n",
       "<path class=\"bond-0 atom-0 atom-1\" d=\"M 403.6,76.7 L 389.2,68.6\" style=\"fill:none;fill-rule:evenodd;stroke:#0000FF;stroke-width:2.0px;stroke-linecap:butt;stroke-linejoin:miter;stroke-opacity:1\"/>\n",
       "<path class=\"bond-0 atom-0 atom-1\" d=\"M 389.2,68.6 L 374.9,60.6\" style=\"fill:none;fill-rule:evenodd;stroke:#000000;stroke-width:2.0px;stroke-linecap:butt;stroke-linejoin:miter;stroke-opacity:1\"/>\n",
       "<path class=\"bond-1 atom-1 atom-2\" d=\"M 374.9,60.6 L 341.2,80.6\" style=\"fill:none;fill-rule:evenodd;stroke:#000000;stroke-width:2.0px;stroke-linecap:butt;stroke-linejoin:miter;stroke-opacity:1\"/>\n",
       "<path class=\"bond-2 atom-2 atom-3\" d=\"M 341.2,80.6 L 307.0,61.4\" style=\"fill:none;fill-rule:evenodd;stroke:#000000;stroke-width:2.0px;stroke-linecap:butt;stroke-linejoin:miter;stroke-opacity:1\"/>\n",
       "<path class=\"bond-3 atom-3 atom-4\" d=\"M 307.0,61.4 L 273.3,81.4\" style=\"fill:none;fill-rule:evenodd;stroke:#000000;stroke-width:2.0px;stroke-linecap:butt;stroke-linejoin:miter;stroke-opacity:1\"/>\n",
       "<path class=\"bond-4 atom-4 atom-5\" d=\"M 273.3,81.4 L 239.2,62.3\" style=\"fill:none;fill-rule:evenodd;stroke:#000000;stroke-width:2.0px;stroke-linecap:butt;stroke-linejoin:miter;stroke-opacity:1\"/>\n",
       "<path class=\"bond-5 atom-5 atom-6\" d=\"M 239.2,62.3 L 205.5,82.3\" style=\"fill:none;fill-rule:evenodd;stroke:#000000;stroke-width:2.0px;stroke-linecap:butt;stroke-linejoin:miter;stroke-opacity:1\"/>\n",
       "<path class=\"bond-6 atom-6 atom-7\" d=\"M 205.5,82.3 L 171.3,63.1\" style=\"fill:none;fill-rule:evenodd;stroke:#000000;stroke-width:2.0px;stroke-linecap:butt;stroke-linejoin:miter;stroke-opacity:1\"/>\n",
       "<path class=\"bond-7 atom-7 atom-8\" d=\"M 171.3,63.1 L 137.6,83.1\" style=\"fill:none;fill-rule:evenodd;stroke:#000000;stroke-width:2.0px;stroke-linecap:butt;stroke-linejoin:miter;stroke-opacity:1\"/>\n",
       "<path class=\"bond-8 atom-9 atom-10\" d=\"M 103.4,63.9 L 89.8,72.0\" style=\"fill:none;fill-rule:evenodd;stroke:#000000;stroke-width:2.0px;stroke-linecap:butt;stroke-linejoin:miter;stroke-opacity:1\"/>\n",
       "<path class=\"bond-8 atom-9 atom-10\" d=\"M 89.8,72.0 L 76.1,80.1\" style=\"fill:none;fill-rule:evenodd;stroke:#FF0000;stroke-width:2.0px;stroke-linecap:butt;stroke-linejoin:miter;stroke-opacity:1\"/>\n",
       "<path class=\"bond-9 atom-10 atom-11\" d=\"M 63.4,80.3 L 42.0,68.3\" style=\"fill:none;fill-rule:evenodd;stroke:#FF0000;stroke-width:2.0px;stroke-linecap:butt;stroke-linejoin:miter;stroke-opacity:1\"/>\n",
       "<path class=\"bond-10 atom-8 atom-9\" d=\"M 137.6,83.1 L 103.4,63.9\" style=\"fill:none;fill-rule:evenodd;stroke:#000000;stroke-width:2.0px;stroke-linecap:butt;stroke-linejoin:miter;stroke-opacity:1\"/>\n",
       "<path class=\"atom-0\" d=\"M 406.6 74.2 L 410.3 80.1 Q 410.6 80.7, 411.2 81.7 Q 411.8 82.8, 411.8 82.8 L 411.8 74.2 L 413.3 74.2 L 413.3 85.3 L 411.8 85.3 L 407.9 78.9 Q 407.4 78.1, 406.9 77.3 Q 406.5 76.4, 406.3 76.2 L 406.3 85.3 L 404.9 85.3 L 404.9 74.2 L 406.6 74.2 \" fill=\"#0000FF\"/>\n",
       "<path class=\"atom-0\" d=\"M 414.6 74.2 L 416.1 74.2 L 416.1 78.9 L 421.8 78.9 L 421.8 74.2 L 423.3 74.2 L 423.3 85.3 L 421.8 85.3 L 421.8 80.2 L 416.1 80.2 L 416.1 85.3 L 414.6 85.3 L 414.6 74.2 \" fill=\"#0000FF\"/>\n",
       "<path class=\"atom-0\" d=\"M 424.6 84.9 Q 424.9 84.2, 425.5 83.9 Q 426.2 83.5, 427.1 83.5 Q 428.2 83.5, 428.8 84.1 Q 429.4 84.7, 429.4 85.7 Q 429.4 86.8, 428.6 87.8 Q 427.8 88.8, 426.2 90.0 L 429.5 90.0 L 429.5 90.9 L 424.6 90.9 L 424.6 90.2 Q 426.0 89.2, 426.8 88.5 Q 427.6 87.8, 428.0 87.1 Q 428.4 86.5, 428.4 85.8 Q 428.4 85.1, 428.0 84.7 Q 427.7 84.3, 427.1 84.3 Q 426.5 84.3, 426.1 84.5 Q 425.7 84.8, 425.4 85.3 L 424.6 84.9 \" fill=\"#0000FF\"/>\n",
       "<path class=\"atom-10\" d=\"M 64.6 83.9 Q 64.6 81.3, 66.0 79.8 Q 67.3 78.3, 69.7 78.3 Q 72.2 78.3, 73.5 79.8 Q 74.8 81.3, 74.8 83.9 Q 74.8 86.6, 73.5 88.2 Q 72.2 89.7, 69.7 89.7 Q 67.3 89.7, 66.0 88.2 Q 64.6 86.7, 64.6 83.9 M 69.7 88.4 Q 71.4 88.4, 72.3 87.3 Q 73.3 86.2, 73.3 83.9 Q 73.3 81.8, 72.3 80.7 Q 71.4 79.6, 69.7 79.6 Q 68.0 79.6, 67.1 80.7 Q 66.2 81.8, 66.2 83.9 Q 66.2 86.2, 67.1 87.3 Q 68.0 88.4, 69.7 88.4 \" fill=\"#FF0000\"/>\n",
       "<path class=\"atom-11\" d=\"M 20.5 59.3 L 22.0 59.3 L 22.0 64.0 L 27.6 64.0 L 27.6 59.3 L 29.1 59.3 L 29.1 70.3 L 27.6 70.3 L 27.6 65.2 L 22.0 65.2 L 22.0 70.3 L 20.5 70.3 L 20.5 59.3 \" fill=\"#FF0000\"/>\n",
       "<path class=\"atom-11\" d=\"M 30.5 64.8 Q 30.5 62.1, 31.8 60.6 Q 33.1 59.1, 35.6 59.1 Q 38.0 59.1, 39.3 60.6 Q 40.7 62.1, 40.7 64.8 Q 40.7 67.5, 39.3 69.0 Q 38.0 70.5, 35.6 70.5 Q 33.1 70.5, 31.8 69.0 Q 30.5 67.5, 30.5 64.8 M 35.6 69.3 Q 37.3 69.3, 38.2 68.1 Q 39.1 67.0, 39.1 64.8 Q 39.1 62.6, 38.2 61.5 Q 37.3 60.4, 35.6 60.4 Q 33.9 60.4, 32.9 61.5 Q 32.0 62.6, 32.0 64.8 Q 32.0 67.0, 32.9 68.1 Q 33.9 69.3, 35.6 69.3 \" fill=\"#FF0000\"/>\n",
       "</svg>"
      ],
      "text/plain": [
       "<IPython.core.display.SVG object>"
      ]
     },
     "execution_count": 15,
     "metadata": {},
     "output_type": "execute_result"
    }
   ],
   "source": [
    "big_smiles_gen(big)"
   ]
  },
  {
   "cell_type": "markdown",
   "id": "7e77762a",
   "metadata": {},
   "source": [
    "## Diamines"
   ]
  },
  {
   "cell_type": "code",
   "execution_count": 16,
   "id": "03a604a8",
   "metadata": {},
   "outputs": [
    {
     "data": {
      "text/plain": [
       "'NC{[$][$]C[$][$]}|gauss(60,24)|CN'"
      ]
     },
     "execution_count": 16,
     "metadata": {},
     "output_type": "execute_result"
    }
   ],
   "source": [
    "big = \"NC{[$][$]C[$][$]}|gauss(60,24)|CN\"\n",
    "big"
   ]
  },
  {
   "cell_type": "code",
   "execution_count": 17,
   "id": "7e2e267d",
   "metadata": {},
   "outputs": [
    {
     "data": {
      "image/svg+xml": [
       "<svg xmlns=\"http://www.w3.org/2000/svg\" xmlns:rdkit=\"http://www.rdkit.org/xml\" xmlns:xlink=\"http://www.w3.org/1999/xlink\" version=\"1.1\" baseProfile=\"full\" xml:space=\"preserve\" width=\"450px\" height=\"150px\" viewBox=\"0 0 450 150\">\n",
       "<!-- END OF HEADER -->\n",
       "<rect style=\"opacity:1.0;fill:#FFFFFF;stroke:none\" width=\"450.0\" height=\"150.0\" x=\"0.0\" y=\"0.0\"> </rect>\n",
       "<path class=\"bond-0 atom-0 atom-1\" d=\"M 79.2,66.1 L 112.3,85.1\" style=\"fill:none;fill-rule:evenodd;stroke:#0000FF;stroke-width:2.0px;stroke-linecap:butt;stroke-linejoin:miter;stroke-opacity:1\"/>\n",
       "<path class=\"bond-0 atom-0 atom-1\" d=\"M 112.3,85.1 L 145.3,104.2\" style=\"fill:none;fill-rule:evenodd;stroke:#000000;stroke-width:2.0px;stroke-linecap:butt;stroke-linejoin:miter;stroke-opacity:1\"/>\n",
       "<path class=\"bond-1 atom-1 atom-2\" d=\"M 145.3,104.2 L 224.2,58.7\" style=\"fill:none;fill-rule:evenodd;stroke:#000000;stroke-width:2.0px;stroke-linecap:butt;stroke-linejoin:miter;stroke-opacity:1\"/>\n",
       "<path class=\"bond-2 atom-3 atom-4\" d=\"M 303.1,104.2 L 336.1,85.1\" style=\"fill:none;fill-rule:evenodd;stroke:#000000;stroke-width:2.0px;stroke-linecap:butt;stroke-linejoin:miter;stroke-opacity:1\"/>\n",
       "<path class=\"bond-2 atom-3 atom-4\" d=\"M 336.1,85.1 L 369.2,66.1\" style=\"fill:none;fill-rule:evenodd;stroke:#0000FF;stroke-width:2.0px;stroke-linecap:butt;stroke-linejoin:miter;stroke-opacity:1\"/>\n",
       "<path class=\"bond-3 atom-2 atom-3\" d=\"M 224.2,58.7 L 303.1,104.2\" style=\"fill:none;fill-rule:evenodd;stroke:#000000;stroke-width:2.0px;stroke-linecap:butt;stroke-linejoin:miter;stroke-opacity:1\"/>\n",
       "<path class=\"atom-0\" d=\"M 20.5 45.8 L 24.0 45.8 L 24.0 56.7 L 37.1 56.7 L 37.1 45.8 L 40.6 45.8 L 40.6 71.6 L 37.1 71.6 L 37.1 59.7 L 24.0 59.7 L 24.0 71.6 L 20.5 71.6 L 20.5 45.8 \" fill=\"#0000FF\"/>\n",
       "<path class=\"atom-0\" d=\"M 43.8 70.7 Q 44.4 69.1, 45.9 68.2 Q 47.4 67.3, 49.5 67.3 Q 52.0 67.3, 53.5 68.6 Q 54.9 70.0, 54.9 72.5 Q 54.9 75.0, 53.0 77.4 Q 51.2 79.8, 47.3 82.5 L 55.2 82.5 L 55.2 84.5 L 43.7 84.5 L 43.7 82.9 Q 46.9 80.6, 48.8 78.9 Q 50.7 77.2, 51.6 75.7 Q 52.5 74.2, 52.5 72.6 Q 52.5 71.0, 51.7 70.1 Q 50.9 69.2, 49.5 69.2 Q 48.1 69.2, 47.2 69.7 Q 46.3 70.3, 45.6 71.5 L 43.8 70.7 \" fill=\"#0000FF\"/>\n",
       "<path class=\"atom-0\" d=\"M 60.7 45.8 L 69.2 59.4 Q 70.0 60.8, 71.4 63.2 Q 72.7 65.7, 72.8 65.8 L 72.8 45.8 L 76.2 45.8 L 76.2 71.6 L 72.7 71.6 L 63.6 56.6 Q 62.6 54.9, 61.4 52.9 Q 60.3 50.9, 60.0 50.3 L 60.0 71.6 L 56.7 71.6 L 56.7 45.8 L 60.7 45.8 \" fill=\"#0000FF\"/>\n",
       "<path class=\"atom-4\" d=\"M 376.3 45.8 L 384.7 59.4 Q 385.6 60.8, 386.9 63.2 Q 388.3 65.7, 388.3 65.8 L 388.3 45.8 L 391.8 45.8 L 391.8 71.6 L 388.2 71.6 L 379.2 56.6 Q 378.1 54.9, 377.0 52.9 Q 375.9 50.9, 375.6 50.3 L 375.6 71.6 L 372.2 71.6 L 372.2 45.8 L 376.3 45.8 \" fill=\"#0000FF\"/>\n",
       "<path class=\"atom-4\" d=\"M 394.8 45.8 L 398.3 45.8 L 398.3 56.7 L 411.5 56.7 L 411.5 45.8 L 415.0 45.8 L 415.0 71.6 L 411.5 71.6 L 411.5 59.7 L 398.3 59.7 L 398.3 71.6 L 394.8 71.6 L 394.8 45.8 \" fill=\"#0000FF\"/>\n",
       "<path class=\"atom-4\" d=\"M 418.1 70.7 Q 418.7 69.1, 420.2 68.2 Q 421.7 67.3, 423.8 67.3 Q 426.4 67.3, 427.8 68.6 Q 429.3 70.0, 429.3 72.5 Q 429.3 75.0, 427.4 77.4 Q 425.5 79.8, 421.7 82.5 L 429.5 82.5 L 429.5 84.5 L 418.1 84.5 L 418.1 82.9 Q 421.2 80.6, 423.1 78.9 Q 425.0 77.2, 425.9 75.7 Q 426.9 74.2, 426.9 72.6 Q 426.9 71.0, 426.0 70.1 Q 425.2 69.2, 423.8 69.2 Q 422.4 69.2, 421.5 69.7 Q 420.6 70.3, 420.0 71.5 L 418.1 70.7 \" fill=\"#0000FF\"/>\n",
       "</svg>"
      ],
      "text/plain": [
       "<IPython.core.display.SVG object>"
      ]
     },
     "execution_count": 17,
     "metadata": {},
     "output_type": "execute_result"
    }
   ],
   "source": [
    "big_smiles_gen(big)"
   ]
  },
  {
   "cell_type": "code",
   "execution_count": 18,
   "id": "664eebc4",
   "metadata": {},
   "outputs": [
    {
     "data": {
      "image/svg+xml": [
       "<svg xmlns=\"http://www.w3.org/2000/svg\" xmlns:rdkit=\"http://www.rdkit.org/xml\" xmlns:xlink=\"http://www.w3.org/1999/xlink\" version=\"1.1\" baseProfile=\"full\" xml:space=\"preserve\" width=\"450px\" height=\"150px\" viewBox=\"0 0 450 150\">\n",
       "<!-- END OF HEADER -->\n",
       "<rect style=\"opacity:1.0;fill:#FFFFFF;stroke:none\" width=\"450.0\" height=\"150.0\" x=\"0.0\" y=\"0.0\"> </rect>\n",
       "<path class=\"bond-0 atom-0 atom-1\" d=\"M 403.9,76.6 L 389.7,68.7\" style=\"fill:none;fill-rule:evenodd;stroke:#0000FF;stroke-width:2.0px;stroke-linecap:butt;stroke-linejoin:miter;stroke-opacity:1\"/>\n",
       "<path class=\"bond-0 atom-0 atom-1\" d=\"M 389.7,68.7 L 375.5,60.7\" style=\"fill:none;fill-rule:evenodd;stroke:#000000;stroke-width:2.0px;stroke-linecap:butt;stroke-linejoin:miter;stroke-opacity:1\"/>\n",
       "<path class=\"bond-1 atom-1 atom-2\" d=\"M 375.5,60.7 L 342.2,80.5\" style=\"fill:none;fill-rule:evenodd;stroke:#000000;stroke-width:2.0px;stroke-linecap:butt;stroke-linejoin:miter;stroke-opacity:1\"/>\n",
       "<path class=\"bond-2 atom-2 atom-3\" d=\"M 342.2,80.5 L 308.4,61.5\" style=\"fill:none;fill-rule:evenodd;stroke:#000000;stroke-width:2.0px;stroke-linecap:butt;stroke-linejoin:miter;stroke-opacity:1\"/>\n",
       "<path class=\"bond-3 atom-3 atom-4\" d=\"M 308.4,61.5 L 275.1,81.3\" style=\"fill:none;fill-rule:evenodd;stroke:#000000;stroke-width:2.0px;stroke-linecap:butt;stroke-linejoin:miter;stroke-opacity:1\"/>\n",
       "<path class=\"bond-4 atom-4 atom-5\" d=\"M 275.1,81.3 L 241.3,62.4\" style=\"fill:none;fill-rule:evenodd;stroke:#000000;stroke-width:2.0px;stroke-linecap:butt;stroke-linejoin:miter;stroke-opacity:1\"/>\n",
       "<path class=\"bond-5 atom-5 atom-6\" d=\"M 241.3,62.4 L 208.0,82.1\" style=\"fill:none;fill-rule:evenodd;stroke:#000000;stroke-width:2.0px;stroke-linecap:butt;stroke-linejoin:miter;stroke-opacity:1\"/>\n",
       "<path class=\"bond-6 atom-6 atom-7\" d=\"M 208.0,82.1 L 174.2,63.2\" style=\"fill:none;fill-rule:evenodd;stroke:#000000;stroke-width:2.0px;stroke-linecap:butt;stroke-linejoin:miter;stroke-opacity:1\"/>\n",
       "<path class=\"bond-7 atom-7 atom-8\" d=\"M 174.2,63.2 L 140.9,83.0\" style=\"fill:none;fill-rule:evenodd;stroke:#000000;stroke-width:2.0px;stroke-linecap:butt;stroke-linejoin:miter;stroke-opacity:1\"/>\n",
       "<path class=\"bond-8 atom-8 atom-9\" d=\"M 140.9,83.0 L 107.1,64.0\" style=\"fill:none;fill-rule:evenodd;stroke:#000000;stroke-width:2.0px;stroke-linecap:butt;stroke-linejoin:miter;stroke-opacity:1\"/>\n",
       "<path class=\"bond-9 atom-10 atom-11\" d=\"M 73.8,83.8 L 59.6,75.8\" style=\"fill:none;fill-rule:evenodd;stroke:#000000;stroke-width:2.0px;stroke-linecap:butt;stroke-linejoin:miter;stroke-opacity:1\"/>\n",
       "<path class=\"bond-9 atom-10 atom-11\" d=\"M 59.6,75.8 L 45.5,67.9\" style=\"fill:none;fill-rule:evenodd;stroke:#0000FF;stroke-width:2.0px;stroke-linecap:butt;stroke-linejoin:miter;stroke-opacity:1\"/>\n",
       "<path class=\"bond-10 atom-9 atom-10\" d=\"M 107.1,64.0 L 73.8,83.8\" style=\"fill:none;fill-rule:evenodd;stroke:#000000;stroke-width:2.0px;stroke-linecap:butt;stroke-linejoin:miter;stroke-opacity:1\"/>\n",
       "<path class=\"atom-0\" d=\"M 406.9 74.2 L 410.5 80.0 Q 410.8 80.6, 411.4 81.6 Q 412.0 82.7, 412.0 82.7 L 412.0 74.2 L 413.5 74.2 L 413.5 85.2 L 412.0 85.2 L 408.1 78.8 Q 407.7 78.1, 407.2 77.2 Q 406.7 76.4, 406.6 76.1 L 406.6 85.2 L 405.2 85.2 L 405.2 74.2 L 406.9 74.2 \" fill=\"#0000FF\"/>\n",
       "<path class=\"atom-0\" d=\"M 414.8 74.2 L 416.3 74.2 L 416.3 78.9 L 421.9 78.9 L 421.9 74.2 L 423.3 74.2 L 423.3 85.2 L 421.9 85.2 L 421.9 80.1 L 416.3 80.1 L 416.3 85.2 L 414.8 85.2 L 414.8 74.2 \" fill=\"#0000FF\"/>\n",
       "<path class=\"atom-0\" d=\"M 424.7 84.8 Q 425.0 84.1, 425.6 83.7 Q 426.2 83.3, 427.1 83.3 Q 428.2 83.3, 428.8 83.9 Q 429.4 84.5, 429.4 85.6 Q 429.4 86.7, 428.6 87.7 Q 427.8 88.7, 426.2 89.8 L 429.5 89.8 L 429.5 90.7 L 424.7 90.7 L 424.7 90.0 Q 426.0 89.0, 426.8 88.3 Q 427.6 87.6, 428.0 86.9 Q 428.4 86.3, 428.4 85.6 Q 428.4 84.9, 428.1 84.5 Q 427.7 84.2, 427.1 84.2 Q 426.5 84.2, 426.1 84.4 Q 425.7 84.6, 425.5 85.2 L 424.7 84.8 \" fill=\"#0000FF\"/>\n",
       "<path class=\"atom-11\" d=\"M 20.5 59.3 L 21.9 59.3 L 21.9 64.0 L 27.6 64.0 L 27.6 59.3 L 29.0 59.3 L 29.0 70.3 L 27.6 70.3 L 27.6 65.2 L 21.9 65.2 L 21.9 70.3 L 20.5 70.3 L 20.5 59.3 \" fill=\"#0000FF\"/>\n",
       "<path class=\"atom-11\" d=\"M 30.4 69.9 Q 30.6 69.2, 31.3 68.9 Q 31.9 68.5, 32.8 68.5 Q 33.9 68.5, 34.5 69.1 Q 35.1 69.7, 35.1 70.7 Q 35.1 71.8, 34.3 72.8 Q 33.5 73.8, 31.9 75.0 L 35.2 75.0 L 35.2 75.8 L 30.4 75.8 L 30.4 75.1 Q 31.7 74.1, 32.5 73.4 Q 33.3 72.7, 33.7 72.1 Q 34.1 71.4, 34.1 70.8 Q 34.1 70.1, 33.7 69.7 Q 33.4 69.3, 32.8 69.3 Q 32.2 69.3, 31.8 69.5 Q 31.4 69.8, 31.2 70.3 L 30.4 69.9 \" fill=\"#0000FF\"/>\n",
       "<path class=\"atom-11\" d=\"M 37.6 59.3 L 41.2 65.1 Q 41.5 65.7, 42.1 66.8 Q 42.7 67.8, 42.7 67.9 L 42.7 59.3 L 44.2 59.3 L 44.2 70.3 L 42.7 70.3 L 38.8 64.0 Q 38.4 63.2, 37.9 62.4 Q 37.4 61.5, 37.3 61.2 L 37.3 70.3 L 35.9 70.3 L 35.9 59.3 L 37.6 59.3 \" fill=\"#0000FF\"/>\n",
       "</svg>"
      ],
      "text/plain": [
       "<IPython.core.display.SVG object>"
      ]
     },
     "execution_count": 18,
     "metadata": {},
     "output_type": "execute_result"
    }
   ],
   "source": [
    "big_smiles_gen(big)"
   ]
  },
  {
   "cell_type": "markdown",
   "id": "9a2be904",
   "metadata": {},
   "source": [
    "## New: Reaction of diol with di-acid"
   ]
  },
  {
   "cell_type": "code",
   "execution_count": 19,
   "id": "cd2a583f",
   "metadata": {},
   "outputs": [
    {
     "data": {
      "text/plain": [
       "'NC{[$][$]C[$][$]}|uniform(12, 72)|COOC{[$][$]C[$][$]}|uniform(12, 72)|CO'"
      ]
     },
     "execution_count": 19,
     "metadata": {},
     "output_type": "execute_result"
    }
   ],
   "source": [
    "big = \"NC{[$][$]C[$][$]}|uniform(12, 72)|COOC{[$][$]C[$][$]}|uniform(12, 72)|CO\"\n",
    "big"
   ]
  },
  {
   "cell_type": "code",
   "execution_count": 20,
   "id": "9ce377b0",
   "metadata": {},
   "outputs": [
    {
     "data": {
      "image/svg+xml": [
       "<svg xmlns=\"http://www.w3.org/2000/svg\" xmlns:rdkit=\"http://www.rdkit.org/xml\" xmlns:xlink=\"http://www.w3.org/1999/xlink\" version=\"1.1\" baseProfile=\"full\" xml:space=\"preserve\" width=\"450px\" height=\"150px\" viewBox=\"0 0 450 150\">\n",
       "<!-- END OF HEADER -->\n",
       "<rect style=\"opacity:1.0;fill:#FFFFFF;stroke:none\" width=\"450.0\" height=\"150.0\" x=\"0.0\" y=\"0.0\"> </rect>\n",
       "<path class=\"bond-0 atom-0 atom-1\" d=\"M 40.8,69.6 L 52.2,76.2\" style=\"fill:none;fill-rule:evenodd;stroke:#0000FF;stroke-width:2.0px;stroke-linecap:butt;stroke-linejoin:miter;stroke-opacity:1\"/>\n",
       "<path class=\"bond-0 atom-0 atom-1\" d=\"M 52.2,76.2 L 63.6,82.8\" style=\"fill:none;fill-rule:evenodd;stroke:#000000;stroke-width:2.0px;stroke-linecap:butt;stroke-linejoin:miter;stroke-opacity:1\"/>\n",
       "<path class=\"bond-1 atom-1 atom-2\" d=\"M 63.6,82.8 L 90.8,67.1\" style=\"fill:none;fill-rule:evenodd;stroke:#000000;stroke-width:2.0px;stroke-linecap:butt;stroke-linejoin:miter;stroke-opacity:1\"/>\n",
       "<path class=\"bond-2 atom-2 atom-3\" d=\"M 90.8,67.1 L 118.1,82.8\" style=\"fill:none;fill-rule:evenodd;stroke:#000000;stroke-width:2.0px;stroke-linecap:butt;stroke-linejoin:miter;stroke-opacity:1\"/>\n",
       "<path class=\"bond-3 atom-3 atom-4\" d=\"M 118.1,82.8 L 145.3,67.1\" style=\"fill:none;fill-rule:evenodd;stroke:#000000;stroke-width:2.0px;stroke-linecap:butt;stroke-linejoin:miter;stroke-opacity:1\"/>\n",
       "<path class=\"bond-4 atom-4 atom-5\" d=\"M 145.3,67.1 L 172.6,82.8\" style=\"fill:none;fill-rule:evenodd;stroke:#000000;stroke-width:2.0px;stroke-linecap:butt;stroke-linejoin:miter;stroke-opacity:1\"/>\n",
       "<path class=\"bond-5 atom-5 atom-6\" d=\"M 172.6,82.8 L 199.8,67.1\" style=\"fill:none;fill-rule:evenodd;stroke:#000000;stroke-width:2.0px;stroke-linecap:butt;stroke-linejoin:miter;stroke-opacity:1\"/>\n",
       "<path class=\"bond-6 atom-7 atom-8\" d=\"M 308.8,67.1 L 297.8,73.5\" style=\"fill:none;fill-rule:evenodd;stroke:#000000;stroke-width:2.0px;stroke-linecap:butt;stroke-linejoin:miter;stroke-opacity:1\"/>\n",
       "<path class=\"bond-6 atom-7 atom-8\" d=\"M 297.8,73.5 L 286.7,79.8\" style=\"fill:none;fill-rule:evenodd;stroke:#FF0000;stroke-width:2.0px;stroke-linecap:butt;stroke-linejoin:miter;stroke-opacity:1\"/>\n",
       "<path class=\"bond-7 atom-8 atom-9\" d=\"M 276.5,79.8 L 259.5,70.0\" style=\"fill:none;fill-rule:evenodd;stroke:#FF0000;stroke-width:2.0px;stroke-linecap:butt;stroke-linejoin:miter;stroke-opacity:1\"/>\n",
       "<path class=\"bond-8 atom-9 atom-10\" d=\"M 249.2,70.0 L 238.2,76.4\" style=\"fill:none;fill-rule:evenodd;stroke:#FF0000;stroke-width:2.0px;stroke-linecap:butt;stroke-linejoin:miter;stroke-opacity:1\"/>\n",
       "<path class=\"bond-8 atom-9 atom-10\" d=\"M 238.2,76.4 L 227.1,82.8\" style=\"fill:none;fill-rule:evenodd;stroke:#000000;stroke-width:2.0px;stroke-linecap:butt;stroke-linejoin:miter;stroke-opacity:1\"/>\n",
       "<path class=\"bond-9 atom-6 atom-10\" d=\"M 199.8,67.1 L 227.1,82.8\" style=\"fill:none;fill-rule:evenodd;stroke:#000000;stroke-width:2.0px;stroke-linecap:butt;stroke-linejoin:miter;stroke-opacity:1\"/>\n",
       "<path class=\"bond-10 atom-7 atom-11\" d=\"M 308.8,67.1 L 336.1,82.8\" style=\"fill:none;fill-rule:evenodd;stroke:#000000;stroke-width:2.0px;stroke-linecap:butt;stroke-linejoin:miter;stroke-opacity:1\"/>\n",
       "<path class=\"bond-11 atom-11 atom-12\" d=\"M 336.1,82.8 L 363.4,67.1\" style=\"fill:none;fill-rule:evenodd;stroke:#000000;stroke-width:2.0px;stroke-linecap:butt;stroke-linejoin:miter;stroke-opacity:1\"/>\n",
       "<path class=\"bond-12 atom-13 atom-14\" d=\"M 390.6,82.8 L 401.7,76.4\" style=\"fill:none;fill-rule:evenodd;stroke:#000000;stroke-width:2.0px;stroke-linecap:butt;stroke-linejoin:miter;stroke-opacity:1\"/>\n",
       "<path class=\"bond-12 atom-13 atom-14\" d=\"M 401.7,76.4 L 412.7,70.0\" style=\"fill:none;fill-rule:evenodd;stroke:#FF0000;stroke-width:2.0px;stroke-linecap:butt;stroke-linejoin:miter;stroke-opacity:1\"/>\n",
       "<path class=\"bond-13 atom-12 atom-13\" d=\"M 363.4,67.1 L 390.6,82.8\" style=\"fill:none;fill-rule:evenodd;stroke:#000000;stroke-width:2.0px;stroke-linecap:butt;stroke-linejoin:miter;stroke-opacity:1\"/>\n",
       "<path class=\"atom-0\" d=\"M 20.5 62.6 L 21.7 62.6 L 21.7 66.4 L 26.2 66.4 L 26.2 62.6 L 27.4 62.6 L 27.4 71.5 L 26.2 71.5 L 26.2 67.4 L 21.7 67.4 L 21.7 71.5 L 20.5 71.5 L 20.5 62.6 \" fill=\"#0000FF\"/>\n",
       "<path class=\"atom-0\" d=\"M 28.5 71.2 Q 28.7 70.7, 29.2 70.3 Q 29.8 70.0, 30.5 70.0 Q 31.4 70.0, 31.9 70.5 Q 32.4 71.0, 32.4 71.8 Q 32.4 72.7, 31.7 73.5 Q 31.1 74.3, 29.7 75.3 L 32.5 75.3 L 32.5 76.0 L 28.5 76.0 L 28.5 75.4 Q 29.6 74.6, 30.2 74.1 Q 30.9 73.5, 31.2 73.0 Q 31.5 72.4, 31.5 71.9 Q 31.5 71.3, 31.2 71.0 Q 31.0 70.7, 30.5 70.7 Q 30.0 70.7, 29.7 70.9 Q 29.4 71.1, 29.1 71.5 L 28.5 71.2 \" fill=\"#0000FF\"/>\n",
       "<path class=\"atom-0\" d=\"M 34.4 62.6 L 37.3 67.3 Q 37.6 67.8, 38.0 68.6 Q 38.5 69.5, 38.5 69.5 L 38.5 62.6 L 39.7 62.6 L 39.7 71.5 L 38.5 71.5 L 35.4 66.4 Q 35.0 65.8, 34.6 65.1 Q 34.2 64.4, 34.1 64.2 L 34.1 71.5 L 33.0 71.5 L 33.0 62.6 L 34.4 62.6 \" fill=\"#0000FF\"/>\n",
       "<path class=\"atom-8\" d=\"M 277.5 82.8 Q 277.5 80.7, 278.6 79.5 Q 279.6 78.3, 281.6 78.3 Q 283.6 78.3, 284.6 79.5 Q 285.7 80.7, 285.7 82.8 Q 285.7 85.0, 284.6 86.2 Q 283.5 87.4, 281.6 87.4 Q 279.6 87.4, 278.6 86.2 Q 277.5 85.0, 277.5 82.8 M 281.6 86.4 Q 283.0 86.4, 283.7 85.5 Q 284.4 84.6, 284.4 82.8 Q 284.4 81.1, 283.7 80.2 Q 283.0 79.3, 281.6 79.3 Q 280.2 79.3, 279.5 80.2 Q 278.8 81.1, 278.8 82.8 Q 278.8 84.6, 279.5 85.5 Q 280.2 86.4, 281.6 86.4 \" fill=\"#FF0000\"/>\n",
       "<path class=\"atom-9\" d=\"M 250.3 67.1 Q 250.3 64.9, 251.3 63.8 Q 252.4 62.6, 254.3 62.6 Q 256.3 62.6, 257.4 63.8 Q 258.4 64.9, 258.4 67.1 Q 258.4 69.3, 257.4 70.5 Q 256.3 71.7, 254.3 71.7 Q 252.4 71.7, 251.3 70.5 Q 250.3 69.3, 250.3 67.1 M 254.3 70.7 Q 255.7 70.7, 256.4 69.8 Q 257.2 68.9, 257.2 67.1 Q 257.2 65.3, 256.4 64.5 Q 255.7 63.6, 254.3 63.6 Q 253.0 63.6, 252.2 64.4 Q 251.5 65.3, 251.5 67.1 Q 251.5 68.9, 252.2 69.8 Q 253.0 70.7, 254.3 70.7 \" fill=\"#FF0000\"/>\n",
       "<path class=\"atom-14\" d=\"M 413.8 67.1 Q 413.8 64.9, 414.8 63.8 Q 415.9 62.6, 417.9 62.6 Q 419.8 62.6, 420.9 63.8 Q 421.9 64.9, 421.9 67.1 Q 421.9 69.3, 420.9 70.5 Q 419.8 71.7, 417.9 71.7 Q 415.9 71.7, 414.8 70.5 Q 413.8 69.3, 413.8 67.1 M 417.9 70.7 Q 419.2 70.7, 419.9 69.8 Q 420.7 68.9, 420.7 67.1 Q 420.7 65.3, 419.9 64.5 Q 419.2 63.6, 417.9 63.6 Q 416.5 63.6, 415.8 64.4 Q 415.0 65.3, 415.0 67.1 Q 415.0 68.9, 415.8 69.8 Q 416.5 70.7, 417.9 70.7 \" fill=\"#FF0000\"/>\n",
       "<path class=\"atom-14\" d=\"M 422.6 62.7 L 423.8 62.7 L 423.8 66.4 L 428.3 66.4 L 428.3 62.7 L 429.5 62.7 L 429.5 71.6 L 428.3 71.6 L 428.3 67.5 L 423.8 67.5 L 423.8 71.6 L 422.6 71.6 L 422.6 62.7 \" fill=\"#FF0000\"/>\n",
       "</svg>"
      ],
      "text/plain": [
       "<IPython.core.display.SVG object>"
      ]
     },
     "execution_count": 20,
     "metadata": {},
     "output_type": "execute_result"
    }
   ],
   "source": [
    "big_smiles_gen(big)"
   ]
  },
  {
   "cell_type": "code",
   "execution_count": 21,
   "id": "2734ddff",
   "metadata": {},
   "outputs": [
    {
     "data": {
      "image/svg+xml": [
       "<svg xmlns=\"http://www.w3.org/2000/svg\" xmlns:rdkit=\"http://www.rdkit.org/xml\" xmlns:xlink=\"http://www.w3.org/1999/xlink\" version=\"1.1\" baseProfile=\"full\" xml:space=\"preserve\" width=\"450px\" height=\"150px\" viewBox=\"0 0 450 150\">\n",
       "<!-- END OF HEADER -->\n",
       "<rect style=\"opacity:1.0;fill:#FFFFFF;stroke:none\" width=\"450.0\" height=\"150.0\" x=\"0.0\" y=\"0.0\"> </rect>\n",
       "<path class=\"bond-0 atom-0 atom-1\" d=\"M 412.2,77.2 L 402.7,71.8\" style=\"fill:none;fill-rule:evenodd;stroke:#0000FF;stroke-width:2.0px;stroke-linecap:butt;stroke-linejoin:miter;stroke-opacity:1\"/>\n",
       "<path class=\"bond-0 atom-0 atom-1\" d=\"M 402.7,71.8 L 393.1,66.3\" style=\"fill:none;fill-rule:evenodd;stroke:#000000;stroke-width:2.0px;stroke-linecap:butt;stroke-linejoin:miter;stroke-opacity:1\"/>\n",
       "<path class=\"bond-1 atom-1 atom-2\" d=\"M 393.1,66.3 L 370.6,79.5\" style=\"fill:none;fill-rule:evenodd;stroke:#000000;stroke-width:2.0px;stroke-linecap:butt;stroke-linejoin:miter;stroke-opacity:1\"/>\n",
       "<path class=\"bond-2 atom-2 atom-3\" d=\"M 370.6,79.5 L 347.8,66.6\" style=\"fill:none;fill-rule:evenodd;stroke:#000000;stroke-width:2.0px;stroke-linecap:butt;stroke-linejoin:miter;stroke-opacity:1\"/>\n",
       "<path class=\"bond-3 atom-3 atom-4\" d=\"M 347.8,66.6 L 325.2,79.8\" style=\"fill:none;fill-rule:evenodd;stroke:#000000;stroke-width:2.0px;stroke-linecap:butt;stroke-linejoin:miter;stroke-opacity:1\"/>\n",
       "<path class=\"bond-4 atom-4 atom-5\" d=\"M 325.2,79.8 L 302.5,66.8\" style=\"fill:none;fill-rule:evenodd;stroke:#000000;stroke-width:2.0px;stroke-linecap:butt;stroke-linejoin:miter;stroke-opacity:1\"/>\n",
       "<path class=\"bond-5 atom-6 atom-7\" d=\"M 279.9,80.0 L 270.7,74.7\" style=\"fill:none;fill-rule:evenodd;stroke:#000000;stroke-width:2.0px;stroke-linecap:butt;stroke-linejoin:miter;stroke-opacity:1\"/>\n",
       "<path class=\"bond-5 atom-6 atom-7\" d=\"M 270.7,74.7 L 261.4,69.5\" style=\"fill:none;fill-rule:evenodd;stroke:#FF0000;stroke-width:2.0px;stroke-linecap:butt;stroke-linejoin:miter;stroke-opacity:1\"/>\n",
       "<path class=\"bond-6 atom-7 atom-8\" d=\"M 252.9,69.5 L 238.8,77.8\" style=\"fill:none;fill-rule:evenodd;stroke:#FF0000;stroke-width:2.0px;stroke-linecap:butt;stroke-linejoin:miter;stroke-opacity:1\"/>\n",
       "<path class=\"bond-7 atom-8 atom-9\" d=\"M 230.3,77.8 L 221.1,72.6\" style=\"fill:none;fill-rule:evenodd;stroke:#FF0000;stroke-width:2.0px;stroke-linecap:butt;stroke-linejoin:miter;stroke-opacity:1\"/>\n",
       "<path class=\"bond-7 atom-8 atom-9\" d=\"M 221.1,72.6 L 211.8,67.3\" style=\"fill:none;fill-rule:evenodd;stroke:#000000;stroke-width:2.0px;stroke-linecap:butt;stroke-linejoin:miter;stroke-opacity:1\"/>\n",
       "<path class=\"bond-8 atom-5 atom-6\" d=\"M 302.5,66.8 L 279.9,80.0\" style=\"fill:none;fill-rule:evenodd;stroke:#000000;stroke-width:2.0px;stroke-linecap:butt;stroke-linejoin:miter;stroke-opacity:1\"/>\n",
       "<path class=\"bond-9 atom-9 atom-10\" d=\"M 211.8,67.3 L 189.3,80.5\" style=\"fill:none;fill-rule:evenodd;stroke:#000000;stroke-width:2.0px;stroke-linecap:butt;stroke-linejoin:miter;stroke-opacity:1\"/>\n",
       "<path class=\"bond-10 atom-10 atom-11\" d=\"M 189.3,80.5 L 166.5,67.5\" style=\"fill:none;fill-rule:evenodd;stroke:#000000;stroke-width:2.0px;stroke-linecap:butt;stroke-linejoin:miter;stroke-opacity:1\"/>\n",
       "<path class=\"bond-11 atom-11 atom-12\" d=\"M 166.5,67.5 L 143.9,80.7\" style=\"fill:none;fill-rule:evenodd;stroke:#000000;stroke-width:2.0px;stroke-linecap:butt;stroke-linejoin:miter;stroke-opacity:1\"/>\n",
       "<path class=\"bond-12 atom-12 atom-13\" d=\"M 143.9,80.7 L 121.2,67.8\" style=\"fill:none;fill-rule:evenodd;stroke:#000000;stroke-width:2.0px;stroke-linecap:butt;stroke-linejoin:miter;stroke-opacity:1\"/>\n",
       "<path class=\"bond-13 atom-13 atom-14\" d=\"M 121.2,67.8 L 98.6,81.0\" style=\"fill:none;fill-rule:evenodd;stroke:#000000;stroke-width:2.0px;stroke-linecap:butt;stroke-linejoin:miter;stroke-opacity:1\"/>\n",
       "<path class=\"bond-14 atom-14 atom-15\" d=\"M 98.6,81.0 L 75.9,68.0\" style=\"fill:none;fill-rule:evenodd;stroke:#000000;stroke-width:2.0px;stroke-linecap:butt;stroke-linejoin:miter;stroke-opacity:1\"/>\n",
       "<path class=\"bond-15 atom-16 atom-17\" d=\"M 53.3,81.2 L 44.0,76.0\" style=\"fill:none;fill-rule:evenodd;stroke:#000000;stroke-width:2.0px;stroke-linecap:butt;stroke-linejoin:miter;stroke-opacity:1\"/>\n",
       "<path class=\"bond-15 atom-16 atom-17\" d=\"M 44.0,76.0 L 34.8,70.7\" style=\"fill:none;fill-rule:evenodd;stroke:#FF0000;stroke-width:2.0px;stroke-linecap:butt;stroke-linejoin:miter;stroke-opacity:1\"/>\n",
       "<path class=\"bond-16 atom-15 atom-16\" d=\"M 75.9,68.0 L 53.3,81.2\" style=\"fill:none;fill-rule:evenodd;stroke:#000000;stroke-width:2.0px;stroke-linecap:butt;stroke-linejoin:miter;stroke-opacity:1\"/>\n",
       "<path class=\"atom-0\" d=\"M 414.2 75.6 L 416.7 79.5 Q 416.9 79.9, 417.3 80.6 Q 417.7 81.3, 417.7 81.3 L 417.7 75.6 L 418.7 75.6 L 418.7 83.0 L 417.7 83.0 L 415.1 78.7 Q 414.8 78.2, 414.4 77.6 Q 414.1 77.0, 414.0 76.9 L 414.0 83.0 L 413.1 83.0 L 413.1 75.6 L 414.2 75.6 \" fill=\"#0000FF\"/>\n",
       "<path class=\"atom-0\" d=\"M 419.6 75.6 L 420.6 75.6 L 420.6 78.7 L 424.4 78.7 L 424.4 75.6 L 425.4 75.6 L 425.4 83.0 L 424.4 83.0 L 424.4 79.6 L 420.6 79.6 L 420.6 83.0 L 419.6 83.0 L 419.6 75.6 \" fill=\"#0000FF\"/>\n",
       "<path class=\"atom-0\" d=\"M 426.3 82.7 Q 426.4 82.3, 426.9 82.0 Q 427.3 81.7, 427.9 81.7 Q 428.6 81.7, 429.0 82.1 Q 429.5 82.5, 429.5 83.3 Q 429.5 84.0, 428.9 84.7 Q 428.4 85.3, 427.3 86.1 L 429.5 86.1 L 429.5 86.7 L 426.3 86.7 L 426.3 86.2 Q 427.2 85.6, 427.7 85.1 Q 428.2 84.6, 428.5 84.2 Q 428.8 83.7, 428.8 83.3 Q 428.8 82.8, 428.5 82.6 Q 428.3 82.3, 427.9 82.3 Q 427.5 82.3, 427.2 82.5 Q 427.0 82.6, 426.8 83.0 L 426.3 82.7 \" fill=\"#0000FF\"/>\n",
       "<path class=\"atom-7\" d=\"M 253.8 67.1 Q 253.8 65.3, 254.6 64.3 Q 255.5 63.3, 257.2 63.3 Q 258.8 63.3, 259.7 64.3 Q 260.6 65.3, 260.6 67.1 Q 260.6 68.9, 259.7 69.9 Q 258.8 70.9, 257.2 70.9 Q 255.5 70.9, 254.6 69.9 Q 253.8 68.9, 253.8 67.1 M 257.2 70.1 Q 258.3 70.1, 258.9 69.3 Q 259.5 68.6, 259.5 67.1 Q 259.5 65.6, 258.9 64.9 Q 258.3 64.1, 257.2 64.1 Q 256.0 64.1, 255.4 64.9 Q 254.8 65.6, 254.8 67.1 Q 254.8 68.6, 255.4 69.3 Q 256.0 70.1, 257.2 70.1 \" fill=\"#FF0000\"/>\n",
       "<path class=\"atom-8\" d=\"M 231.2 80.3 Q 231.2 78.5, 232.1 77.5 Q 232.9 76.5, 234.6 76.5 Q 236.2 76.5, 237.1 77.5 Q 238.0 78.5, 238.0 80.3 Q 238.0 82.1, 237.1 83.1 Q 236.2 84.1, 234.6 84.1 Q 232.9 84.1, 232.1 83.1 Q 231.2 82.1, 231.2 80.3 M 234.6 83.3 Q 235.7 83.3, 236.3 82.5 Q 236.9 81.8, 236.9 80.3 Q 236.9 78.8, 236.3 78.1 Q 235.7 77.3, 234.6 77.3 Q 233.4 77.3, 232.8 78.1 Q 232.2 78.8, 232.2 80.3 Q 232.2 81.8, 232.8 82.5 Q 233.4 83.3, 234.6 83.3 \" fill=\"#FF0000\"/>\n",
       "<path class=\"atom-17\" d=\"M 20.5 64.6 L 21.5 64.6 L 21.5 67.8 L 25.2 67.8 L 25.2 64.6 L 26.3 64.6 L 26.3 72.0 L 25.2 72.0 L 25.2 68.6 L 21.5 68.6 L 21.5 72.0 L 20.5 72.0 L 20.5 64.6 \" fill=\"#FF0000\"/>\n",
       "<path class=\"atom-17\" d=\"M 27.1 68.3 Q 27.1 66.5, 28.0 65.5 Q 28.9 64.5, 30.5 64.5 Q 32.2 64.5, 33.1 65.5 Q 33.9 66.5, 33.9 68.3 Q 33.9 70.1, 33.1 71.1 Q 32.2 72.1, 30.5 72.1 Q 28.9 72.1, 28.0 71.1 Q 27.1 70.1, 27.1 68.3 M 30.5 71.3 Q 31.7 71.3, 32.3 70.5 Q 32.9 69.8, 32.9 68.3 Q 32.9 66.8, 32.3 66.1 Q 31.7 65.4, 30.5 65.4 Q 29.4 65.4, 28.8 66.1 Q 28.2 66.8, 28.2 68.3 Q 28.2 69.8, 28.8 70.5 Q 29.4 71.3, 30.5 71.3 \" fill=\"#FF0000\"/>\n",
       "</svg>"
      ],
      "text/plain": [
       "<IPython.core.display.SVG object>"
      ]
     },
     "execution_count": 21,
     "metadata": {},
     "output_type": "execute_result"
    }
   ],
   "source": [
    "big_smiles_gen(big)"
   ]
  },
  {
   "cell_type": "markdown",
   "id": "0a23f756",
   "metadata": {},
   "source": [
    "## Same diol and di-acid reaction, but with phenyl ring"
   ]
  },
  {
   "cell_type": "code",
   "execution_count": 22,
   "id": "dde1bc42",
   "metadata": {},
   "outputs": [
    {
     "data": {
      "text/plain": [
       "'NC{[$][$]C[$][$]}|uniform(12, 72)|COOC{[$][$]C([$])C1CCCCC1[$]}|uniform(50, 250)|CO'"
      ]
     },
     "execution_count": 22,
     "metadata": {},
     "output_type": "execute_result"
    }
   ],
   "source": [
    "big = \"NC{[$][$]C[$][$]}|uniform(12, 72)|COOC{[$][$]C([$])C1CCCCC1[$]}|uniform(50, 250)|CO\"\n",
    "big"
   ]
  },
  {
   "cell_type": "code",
   "execution_count": 23,
   "id": "de751cdf",
   "metadata": {},
   "outputs": [
    {
     "data": {
      "image/svg+xml": [
       "<svg xmlns=\"http://www.w3.org/2000/svg\" xmlns:rdkit=\"http://www.rdkit.org/xml\" xmlns:xlink=\"http://www.w3.org/1999/xlink\" version=\"1.1\" baseProfile=\"full\" xml:space=\"preserve\" width=\"450px\" height=\"150px\" viewBox=\"0 0 450 150\">\n",
       "<!-- END OF HEADER -->\n",
       "<rect style=\"opacity:1.0;fill:#FFFFFF;stroke:none\" width=\"450.0\" height=\"150.0\" x=\"0.0\" y=\"0.0\"> </rect>\n",
       "<path class=\"bond-0 atom-0 atom-1\" d=\"M 41.3,54.0 L 52.7,61.2\" style=\"fill:none;fill-rule:evenodd;stroke:#0000FF;stroke-width:2.0px;stroke-linecap:butt;stroke-linejoin:miter;stroke-opacity:1\"/>\n",
       "<path class=\"bond-0 atom-0 atom-1\" d=\"M 52.7,61.2 L 64.0,68.4\" style=\"fill:none;fill-rule:evenodd;stroke:#000000;stroke-width:2.0px;stroke-linecap:butt;stroke-linejoin:miter;stroke-opacity:1\"/>\n",
       "<path class=\"bond-1 atom-1 atom-2\" d=\"M 64.0,68.4 L 92.7,53.4\" style=\"fill:none;fill-rule:evenodd;stroke:#000000;stroke-width:2.0px;stroke-linecap:butt;stroke-linejoin:miter;stroke-opacity:1\"/>\n",
       "<path class=\"bond-2 atom-2 atom-3\" d=\"M 92.7,53.4 L 120.0,70.7\" style=\"fill:none;fill-rule:evenodd;stroke:#000000;stroke-width:2.0px;stroke-linecap:butt;stroke-linejoin:miter;stroke-opacity:1\"/>\n",
       "<path class=\"bond-3 atom-3 atom-4\" d=\"M 120.0,70.7 L 148.6,55.8\" style=\"fill:none;fill-rule:evenodd;stroke:#000000;stroke-width:2.0px;stroke-linecap:butt;stroke-linejoin:miter;stroke-opacity:1\"/>\n",
       "<path class=\"bond-4 atom-4 atom-5\" d=\"M 148.6,55.8 L 175.9,73.1\" style=\"fill:none;fill-rule:evenodd;stroke:#000000;stroke-width:2.0px;stroke-linecap:butt;stroke-linejoin:miter;stroke-opacity:1\"/>\n",
       "<path class=\"bond-5 atom-5 atom-6\" d=\"M 175.9,73.1 L 204.5,58.1\" style=\"fill:none;fill-rule:evenodd;stroke:#000000;stroke-width:2.0px;stroke-linecap:butt;stroke-linejoin:miter;stroke-opacity:1\"/>\n",
       "<path class=\"bond-6 atom-7 atom-8\" d=\"M 316.4,62.8 L 304.7,68.9\" style=\"fill:none;fill-rule:evenodd;stroke:#000000;stroke-width:2.0px;stroke-linecap:butt;stroke-linejoin:miter;stroke-opacity:1\"/>\n",
       "<path class=\"bond-6 atom-7 atom-8\" d=\"M 304.7,68.9 L 293.0,75.0\" style=\"fill:none;fill-rule:evenodd;stroke:#FF0000;stroke-width:2.0px;stroke-linecap:butt;stroke-linejoin:miter;stroke-opacity:1\"/>\n",
       "<path class=\"bond-7 atom-8 atom-9\" d=\"M 282.5,74.4 L 265.7,63.8\" style=\"fill:none;fill-rule:evenodd;stroke:#FF0000;stroke-width:2.0px;stroke-linecap:butt;stroke-linejoin:miter;stroke-opacity:1\"/>\n",
       "<path class=\"bond-8 atom-9 atom-10\" d=\"M 255.2,63.2 L 243.5,69.3\" style=\"fill:none;fill-rule:evenodd;stroke:#FF0000;stroke-width:2.0px;stroke-linecap:butt;stroke-linejoin:miter;stroke-opacity:1\"/>\n",
       "<path class=\"bond-8 atom-9 atom-10\" d=\"M 243.5,69.3 L 231.8,75.4\" style=\"fill:none;fill-rule:evenodd;stroke:#000000;stroke-width:2.0px;stroke-linecap:butt;stroke-linejoin:miter;stroke-opacity:1\"/>\n",
       "<path class=\"bond-9 atom-6 atom-10\" d=\"M 204.5,58.1 L 231.8,75.4\" style=\"fill:none;fill-rule:evenodd;stroke:#000000;stroke-width:2.0px;stroke-linecap:butt;stroke-linejoin:miter;stroke-opacity:1\"/>\n",
       "<path class=\"bond-10 atom-11 atom-12\" d=\"M 343.6,80.1 L 372.3,65.1\" style=\"fill:none;fill-rule:evenodd;stroke:#000000;stroke-width:2.0px;stroke-linecap:butt;stroke-linejoin:miter;stroke-opacity:1\"/>\n",
       "<path class=\"bond-11 atom-12 atom-13\" d=\"M 372.3,65.1 L 373.6,32.8\" style=\"fill:none;fill-rule:evenodd;stroke:#000000;stroke-width:2.0px;stroke-linecap:butt;stroke-linejoin:miter;stroke-opacity:1\"/>\n",
       "<path class=\"bond-12 atom-13 atom-14\" d=\"M 373.6,32.8 L 402.3,17.9\" style=\"fill:none;fill-rule:evenodd;stroke:#000000;stroke-width:2.0px;stroke-linecap:butt;stroke-linejoin:miter;stroke-opacity:1\"/>\n",
       "<path class=\"bond-13 atom-14 atom-15\" d=\"M 402.3,17.9 L 429.5,35.2\" style=\"fill:none;fill-rule:evenodd;stroke:#000000;stroke-width:2.0px;stroke-linecap:butt;stroke-linejoin:miter;stroke-opacity:1\"/>\n",
       "<path class=\"bond-14 atom-15 atom-16\" d=\"M 429.5,35.2 L 428.2,67.5\" style=\"fill:none;fill-rule:evenodd;stroke:#000000;stroke-width:2.0px;stroke-linecap:butt;stroke-linejoin:miter;stroke-opacity:1\"/>\n",
       "<path class=\"bond-15 atom-16 atom-17\" d=\"M 428.2,67.5 L 399.6,82.4\" style=\"fill:none;fill-rule:evenodd;stroke:#000000;stroke-width:2.0px;stroke-linecap:butt;stroke-linejoin:miter;stroke-opacity:1\"/>\n",
       "<path class=\"bond-16 atom-17 atom-12\" d=\"M 399.6,82.4 L 372.3,65.1\" style=\"fill:none;fill-rule:evenodd;stroke:#000000;stroke-width:2.0px;stroke-linecap:butt;stroke-linejoin:miter;stroke-opacity:1\"/>\n",
       "<path class=\"bond-17 atom-7 atom-11\" d=\"M 316.4,62.8 L 343.6,80.1\" style=\"fill:none;fill-rule:evenodd;stroke:#000000;stroke-width:2.0px;stroke-linecap:butt;stroke-linejoin:miter;stroke-opacity:1\"/>\n",
       "<path class=\"bond-18 atom-18 atom-19\" d=\"M 342.3,112.4 L 330.6,118.5\" style=\"fill:none;fill-rule:evenodd;stroke:#000000;stroke-width:2.0px;stroke-linecap:butt;stroke-linejoin:miter;stroke-opacity:1\"/>\n",
       "<path class=\"bond-18 atom-18 atom-19\" d=\"M 330.6,118.5 L 318.9,124.6\" style=\"fill:none;fill-rule:evenodd;stroke:#FF0000;stroke-width:2.0px;stroke-linecap:butt;stroke-linejoin:miter;stroke-opacity:1\"/>\n",
       "<path class=\"bond-19 atom-11 atom-18\" d=\"M 343.6,80.1 L 342.3,112.4\" style=\"fill:none;fill-rule:evenodd;stroke:#000000;stroke-width:2.0px;stroke-linecap:butt;stroke-linejoin:miter;stroke-opacity:1\"/>\n",
       "<path class=\"atom-0\" d=\"M 20.5 46.5 L 21.7 46.5 L 21.7 50.4 L 26.4 50.4 L 26.4 46.5 L 27.6 46.5 L 27.6 55.7 L 26.4 55.7 L 26.4 51.4 L 21.7 51.4 L 21.7 55.7 L 20.5 55.7 L 20.5 46.5 \" fill=\"#0000FF\"/>\n",
       "<path class=\"atom-0\" d=\"M 28.7 55.3 Q 29.0 54.8, 29.5 54.4 Q 30.0 54.1, 30.7 54.1 Q 31.7 54.1, 32.2 54.6 Q 32.7 55.1, 32.7 56.0 Q 32.7 56.9, 32.0 57.7 Q 31.4 58.6, 30.0 59.6 L 32.8 59.6 L 32.8 60.2 L 28.7 60.2 L 28.7 59.7 Q 29.8 58.9, 30.5 58.3 Q 31.2 57.7, 31.5 57.1 Q 31.8 56.6, 31.8 56.0 Q 31.8 55.5, 31.5 55.1 Q 31.2 54.8, 30.7 54.8 Q 30.3 54.8, 29.9 55.0 Q 29.6 55.2, 29.4 55.6 L 28.7 55.3 \" fill=\"#0000FF\"/>\n",
       "<path class=\"atom-0\" d=\"M 34.7 46.5 L 37.7 51.4 Q 38.0 51.8, 38.5 52.7 Q 39.0 53.6, 39.0 53.6 L 39.0 46.5 L 40.2 46.5 L 40.2 55.7 L 39.0 55.7 L 35.8 50.4 Q 35.4 49.7, 35.0 49.0 Q 34.6 48.3, 34.5 48.1 L 34.5 55.7 L 33.3 55.7 L 33.3 46.5 L 34.7 46.5 \" fill=\"#0000FF\"/>\n",
       "<path class=\"atom-8\" d=\"M 283.5 77.8 Q 283.5 75.6, 284.6 74.4 Q 285.7 73.1, 287.7 73.1 Q 289.8 73.1, 290.8 74.4 Q 291.9 75.6, 291.9 77.8 Q 291.9 80.0, 290.8 81.3 Q 289.7 82.5, 287.7 82.5 Q 285.7 82.5, 284.6 81.3 Q 283.5 80.0, 283.5 77.8 M 287.7 81.5 Q 289.1 81.5, 289.9 80.6 Q 290.6 79.6, 290.6 77.8 Q 290.6 76.0, 289.9 75.1 Q 289.1 74.2, 287.7 74.2 Q 286.3 74.2, 285.6 75.1 Q 284.8 76.0, 284.8 77.8 Q 284.8 79.6, 285.6 80.6 Q 286.3 81.5, 287.7 81.5 \" fill=\"#FF0000\"/>\n",
       "<path class=\"atom-9\" d=\"M 256.2 60.5 Q 256.2 58.3, 257.3 57.0 Q 258.4 55.8, 260.4 55.8 Q 262.5 55.8, 263.6 57.0 Q 264.6 58.3, 264.6 60.5 Q 264.6 62.7, 263.5 64.0 Q 262.4 65.2, 260.4 65.2 Q 258.4 65.2, 257.3 64.0 Q 256.2 62.7, 256.2 60.5 M 260.4 64.2 Q 261.8 64.2, 262.6 63.3 Q 263.3 62.3, 263.3 60.5 Q 263.3 58.7, 262.6 57.8 Q 261.8 56.9, 260.4 56.9 Q 259.0 56.9, 258.3 57.8 Q 257.5 58.7, 257.5 60.5 Q 257.5 62.3, 258.3 63.3 Q 259.0 64.2, 260.4 64.2 \" fill=\"#FF0000\"/>\n",
       "<path class=\"atom-19\" d=\"M 301.2 122.8 L 302.4 122.8 L 302.4 126.7 L 307.1 126.7 L 307.1 122.8 L 308.4 122.8 L 308.4 132.0 L 307.1 132.0 L 307.1 127.8 L 302.4 127.8 L 302.4 132.0 L 301.2 132.0 L 301.2 122.8 \" fill=\"#FF0000\"/>\n",
       "<path class=\"atom-19\" d=\"M 309.5 127.4 Q 309.5 125.2, 310.5 124.0 Q 311.6 122.7, 313.7 122.7 Q 315.7 122.7, 316.8 124.0 Q 317.9 125.2, 317.9 127.4 Q 317.9 129.6, 316.8 130.9 Q 315.7 132.1, 313.7 132.1 Q 311.6 132.1, 310.5 130.9 Q 309.5 129.6, 309.5 127.4 M 313.7 131.1 Q 315.0 131.1, 315.8 130.2 Q 316.6 129.2, 316.6 127.4 Q 316.6 125.6, 315.8 124.7 Q 315.0 123.8, 313.7 123.8 Q 312.3 123.8, 311.5 124.7 Q 310.7 125.6, 310.7 127.4 Q 310.7 129.2, 311.5 130.2 Q 312.3 131.1, 313.7 131.1 \" fill=\"#FF0000\"/>\n",
       "</svg>"
      ],
      "text/plain": [
       "<IPython.core.display.SVG object>"
      ]
     },
     "execution_count": 23,
     "metadata": {},
     "output_type": "execute_result"
    }
   ],
   "source": [
    "big_smiles_gen(big)"
   ]
  },
  {
   "cell_type": "code",
   "execution_count": 24,
   "id": "cb75c155",
   "metadata": {},
   "outputs": [
    {
     "data": {
      "image/svg+xml": [
       "<svg xmlns=\"http://www.w3.org/2000/svg\" xmlns:rdkit=\"http://www.rdkit.org/xml\" xmlns:xlink=\"http://www.w3.org/1999/xlink\" version=\"1.1\" baseProfile=\"full\" xml:space=\"preserve\" width=\"450px\" height=\"150px\" viewBox=\"0 0 450 150\">\n",
       "<!-- END OF HEADER -->\n",
       "<rect style=\"opacity:1.0;fill:#FFFFFF;stroke:none\" width=\"450.0\" height=\"150.0\" x=\"0.0\" y=\"0.0\"> </rect>\n",
       "<path class=\"bond-0 atom-0 atom-1\" d=\"M 101.5,78.3 L 109.8,81.4\" style=\"fill:none;fill-rule:evenodd;stroke:#0000FF;stroke-width:2.0px;stroke-linecap:butt;stroke-linejoin:miter;stroke-opacity:1\"/>\n",
       "<path class=\"bond-0 atom-0 atom-1\" d=\"M 109.8,81.4 L 118.1,84.4\" style=\"fill:none;fill-rule:evenodd;stroke:#000000;stroke-width:2.0px;stroke-linecap:butt;stroke-linejoin:miter;stroke-opacity:1\"/>\n",
       "<path class=\"bond-1 atom-1 atom-2\" d=\"M 118.1,84.4 L 134.1,71.1\" style=\"fill:none;fill-rule:evenodd;stroke:#000000;stroke-width:2.0px;stroke-linecap:butt;stroke-linejoin:miter;stroke-opacity:1\"/>\n",
       "<path class=\"bond-2 atom-2 atom-3\" d=\"M 134.1,71.1 L 153.6,78.3\" style=\"fill:none;fill-rule:evenodd;stroke:#000000;stroke-width:2.0px;stroke-linecap:butt;stroke-linejoin:miter;stroke-opacity:1\"/>\n",
       "<path class=\"bond-3 atom-3 atom-4\" d=\"M 153.6,78.3 L 169.6,65.0\" style=\"fill:none;fill-rule:evenodd;stroke:#000000;stroke-width:2.0px;stroke-linecap:butt;stroke-linejoin:miter;stroke-opacity:1\"/>\n",
       "<path class=\"bond-4 atom-4 atom-5\" d=\"M 169.6,65.0 L 189.1,72.2\" style=\"fill:none;fill-rule:evenodd;stroke:#000000;stroke-width:2.0px;stroke-linecap:butt;stroke-linejoin:miter;stroke-opacity:1\"/>\n",
       "<path class=\"bond-5 atom-5 atom-6\" d=\"M 189.1,72.2 L 205.1,58.9\" style=\"fill:none;fill-rule:evenodd;stroke:#000000;stroke-width:2.0px;stroke-linecap:butt;stroke-linejoin:miter;stroke-opacity:1\"/>\n",
       "<path class=\"bond-6 atom-7 atom-8\" d=\"M 276.2,46.7 L 269.8,52.0\" style=\"fill:none;fill-rule:evenodd;stroke:#000000;stroke-width:2.0px;stroke-linecap:butt;stroke-linejoin:miter;stroke-opacity:1\"/>\n",
       "<path class=\"bond-6 atom-7 atom-8\" d=\"M 269.8,52.0 L 263.5,57.2\" style=\"fill:none;fill-rule:evenodd;stroke:#FF0000;stroke-width:2.0px;stroke-linecap:butt;stroke-linejoin:miter;stroke-opacity:1\"/>\n",
       "<path class=\"bond-7 atom-8 atom-9\" d=\"M 256.8,58.8 L 244.0,54.1\" style=\"fill:none;fill-rule:evenodd;stroke:#FF0000;stroke-width:2.0px;stroke-linecap:butt;stroke-linejoin:miter;stroke-opacity:1\"/>\n",
       "<path class=\"bond-8 atom-9 atom-10\" d=\"M 237.2,55.6 L 230.9,60.9\" style=\"fill:none;fill-rule:evenodd;stroke:#FF0000;stroke-width:2.0px;stroke-linecap:butt;stroke-linejoin:miter;stroke-opacity:1\"/>\n",
       "<path class=\"bond-8 atom-9 atom-10\" d=\"M 230.9,60.9 L 224.6,66.1\" style=\"fill:none;fill-rule:evenodd;stroke:#000000;stroke-width:2.0px;stroke-linecap:butt;stroke-linejoin:miter;stroke-opacity:1\"/>\n",
       "<path class=\"bond-9 atom-6 atom-10\" d=\"M 205.1,58.9 L 224.6,66.1\" style=\"fill:none;fill-rule:evenodd;stroke:#000000;stroke-width:2.0px;stroke-linecap:butt;stroke-linejoin:miter;stroke-opacity:1\"/>\n",
       "<path class=\"bond-10 atom-11 atom-12\" d=\"M 295.7,53.9 L 311.7,40.6\" style=\"fill:none;fill-rule:evenodd;stroke:#000000;stroke-width:2.0px;stroke-linecap:butt;stroke-linejoin:miter;stroke-opacity:1\"/>\n",
       "<path class=\"bond-11 atom-12 atom-13\" d=\"M 311.7,40.6 L 331.2,47.8\" style=\"fill:none;fill-rule:evenodd;stroke:#000000;stroke-width:2.0px;stroke-linecap:butt;stroke-linejoin:miter;stroke-opacity:1\"/>\n",
       "<path class=\"bond-12 atom-13 atom-14\" d=\"M 331.2,47.8 L 347.2,34.5\" style=\"fill:none;fill-rule:evenodd;stroke:#000000;stroke-width:2.0px;stroke-linecap:butt;stroke-linejoin:miter;stroke-opacity:1\"/>\n",
       "<path class=\"bond-13 atom-14 atom-15\" d=\"M 347.2,34.5 L 343.7,14.0\" style=\"fill:none;fill-rule:evenodd;stroke:#000000;stroke-width:2.0px;stroke-linecap:butt;stroke-linejoin:miter;stroke-opacity:1\"/>\n",
       "<path class=\"bond-14 atom-15 atom-16\" d=\"M 343.7,14.0 L 324.2,6.8\" style=\"fill:none;fill-rule:evenodd;stroke:#000000;stroke-width:2.0px;stroke-linecap:butt;stroke-linejoin:miter;stroke-opacity:1\"/>\n",
       "<path class=\"bond-15 atom-16 atom-17\" d=\"M 324.2,6.8 L 308.2,20.1\" style=\"fill:none;fill-rule:evenodd;stroke:#000000;stroke-width:2.0px;stroke-linecap:butt;stroke-linejoin:miter;stroke-opacity:1\"/>\n",
       "<path class=\"bond-16 atom-17 atom-12\" d=\"M 308.2,20.1 L 311.7,40.6\" style=\"fill:none;fill-rule:evenodd;stroke:#000000;stroke-width:2.0px;stroke-linecap:butt;stroke-linejoin:miter;stroke-opacity:1\"/>\n",
       "<path class=\"bond-17 atom-7 atom-11\" d=\"M 276.2,46.7 L 295.7,53.9\" style=\"fill:none;fill-rule:evenodd;stroke:#000000;stroke-width:2.0px;stroke-linecap:butt;stroke-linejoin:miter;stroke-opacity:1\"/>\n",
       "<path class=\"bond-18 atom-18 atom-19\" d=\"M 299.2,74.4 L 283.2,87.7\" style=\"fill:none;fill-rule:evenodd;stroke:#000000;stroke-width:2.0px;stroke-linecap:butt;stroke-linejoin:miter;stroke-opacity:1\"/>\n",
       "<path class=\"bond-19 atom-19 atom-20\" d=\"M 283.2,87.7 L 263.7,80.5\" style=\"fill:none;fill-rule:evenodd;stroke:#000000;stroke-width:2.0px;stroke-linecap:butt;stroke-linejoin:miter;stroke-opacity:1\"/>\n",
       "<path class=\"bond-20 atom-20 atom-21\" d=\"M 263.7,80.5 L 247.7,93.8\" style=\"fill:none;fill-rule:evenodd;stroke:#000000;stroke-width:2.0px;stroke-linecap:butt;stroke-linejoin:miter;stroke-opacity:1\"/>\n",
       "<path class=\"bond-21 atom-21 atom-22\" d=\"M 247.7,93.8 L 251.2,114.4\" style=\"fill:none;fill-rule:evenodd;stroke:#000000;stroke-width:2.0px;stroke-linecap:butt;stroke-linejoin:miter;stroke-opacity:1\"/>\n",
       "<path class=\"bond-22 atom-22 atom-23\" d=\"M 251.2,114.4 L 270.7,121.6\" style=\"fill:none;fill-rule:evenodd;stroke:#000000;stroke-width:2.0px;stroke-linecap:butt;stroke-linejoin:miter;stroke-opacity:1\"/>\n",
       "<path class=\"bond-23 atom-23 atom-24\" d=\"M 270.7,121.6 L 286.7,108.3\" style=\"fill:none;fill-rule:evenodd;stroke:#000000;stroke-width:2.0px;stroke-linecap:butt;stroke-linejoin:miter;stroke-opacity:1\"/>\n",
       "<path class=\"bond-24 atom-24 atom-19\" d=\"M 286.7,108.3 L 283.2,87.7\" style=\"fill:none;fill-rule:evenodd;stroke:#000000;stroke-width:2.0px;stroke-linecap:butt;stroke-linejoin:miter;stroke-opacity:1\"/>\n",
       "<path class=\"bond-25 atom-11 atom-18\" d=\"M 295.7,53.9 L 299.2,74.4\" style=\"fill:none;fill-rule:evenodd;stroke:#000000;stroke-width:2.0px;stroke-linecap:butt;stroke-linejoin:miter;stroke-opacity:1\"/>\n",
       "<path class=\"bond-26 atom-25 atom-26\" d=\"M 318.7,81.7 L 322.2,102.2\" style=\"fill:none;fill-rule:evenodd;stroke:#000000;stroke-width:2.0px;stroke-linecap:butt;stroke-linejoin:miter;stroke-opacity:1\"/>\n",
       "<path class=\"bond-27 atom-26 atom-27\" d=\"M 322.2,102.2 L 341.8,109.4\" style=\"fill:none;fill-rule:evenodd;stroke:#000000;stroke-width:2.0px;stroke-linecap:butt;stroke-linejoin:miter;stroke-opacity:1\"/>\n",
       "<path class=\"bond-28 atom-27 atom-28\" d=\"M 341.8,109.4 L 345.3,129.9\" style=\"fill:none;fill-rule:evenodd;stroke:#000000;stroke-width:2.0px;stroke-linecap:butt;stroke-linejoin:miter;stroke-opacity:1\"/>\n",
       "<path class=\"bond-29 atom-28 atom-29\" d=\"M 345.3,129.9 L 329.3,143.2\" style=\"fill:none;fill-rule:evenodd;stroke:#000000;stroke-width:2.0px;stroke-linecap:butt;stroke-linejoin:miter;stroke-opacity:1\"/>\n",
       "<path class=\"bond-30 atom-29 atom-30\" d=\"M 329.3,143.2 L 309.8,136.0\" style=\"fill:none;fill-rule:evenodd;stroke:#000000;stroke-width:2.0px;stroke-linecap:butt;stroke-linejoin:miter;stroke-opacity:1\"/>\n",
       "<path class=\"bond-31 atom-30 atom-31\" d=\"M 309.8,136.0 L 306.2,115.5\" style=\"fill:none;fill-rule:evenodd;stroke:#000000;stroke-width:2.0px;stroke-linecap:butt;stroke-linejoin:miter;stroke-opacity:1\"/>\n",
       "<path class=\"bond-32 atom-31 atom-26\" d=\"M 306.2,115.5 L 322.2,102.2\" style=\"fill:none;fill-rule:evenodd;stroke:#000000;stroke-width:2.0px;stroke-linecap:butt;stroke-linejoin:miter;stroke-opacity:1\"/>\n",
       "<path class=\"bond-33 atom-18 atom-25\" d=\"M 299.2,74.4 L 318.7,81.7\" style=\"fill:none;fill-rule:evenodd;stroke:#000000;stroke-width:2.0px;stroke-linecap:butt;stroke-linejoin:miter;stroke-opacity:1\"/>\n",
       "<path class=\"bond-34 atom-32 atom-33\" d=\"M 334.7,68.3 L 342.8,71.3\" style=\"fill:none;fill-rule:evenodd;stroke:#000000;stroke-width:2.0px;stroke-linecap:butt;stroke-linejoin:miter;stroke-opacity:1\"/>\n",
       "<path class=\"bond-34 atom-32 atom-33\" d=\"M 342.8,71.3 L 350.8,74.3\" style=\"fill:none;fill-rule:evenodd;stroke:#FF0000;stroke-width:2.0px;stroke-linecap:butt;stroke-linejoin:miter;stroke-opacity:1\"/>\n",
       "<path class=\"bond-35 atom-25 atom-32\" d=\"M 318.7,81.7 L 334.7,68.3\" style=\"fill:none;fill-rule:evenodd;stroke:#000000;stroke-width:2.0px;stroke-linecap:butt;stroke-linejoin:miter;stroke-opacity:1\"/>\n",
       "<path class=\"atom-0\" d=\"M 88.0 74.3 L 88.8 74.3 L 88.8 76.8 L 91.8 76.8 L 91.8 74.3 L 92.6 74.3 L 92.6 80.2 L 91.8 80.2 L 91.8 77.4 L 88.8 77.4 L 88.8 80.2 L 88.0 80.2 L 88.0 74.3 \" fill=\"#0000FF\"/>\n",
       "<path class=\"atom-0\" d=\"M 93.4 80.0 Q 93.5 79.6, 93.8 79.4 Q 94.2 79.2, 94.7 79.2 Q 95.2 79.2, 95.6 79.5 Q 95.9 79.8, 95.9 80.4 Q 95.9 81.0, 95.5 81.5 Q 95.0 82.0, 94.2 82.7 L 96.0 82.7 L 96.0 83.1 L 93.3 83.1 L 93.3 82.7 Q 94.1 82.2, 94.5 81.8 Q 94.9 81.5, 95.1 81.1 Q 95.4 80.8, 95.4 80.4 Q 95.4 80.0, 95.2 79.8 Q 95.0 79.6, 94.7 79.6 Q 94.3 79.6, 94.1 79.7 Q 93.9 79.9, 93.8 80.1 L 93.4 80.0 \" fill=\"#0000FF\"/>\n",
       "<path class=\"atom-0\" d=\"M 97.2 74.3 L 99.2 77.4 Q 99.3 77.7, 99.7 78.3 Q 100.0 78.8, 100.0 78.8 L 100.0 74.3 L 100.8 74.3 L 100.8 80.2 L 100.0 80.2 L 97.9 76.8 Q 97.6 76.4, 97.4 75.9 Q 97.1 75.4, 97.1 75.3 L 97.1 80.2 L 96.3 80.2 L 96.3 74.3 L 97.2 74.3 \" fill=\"#0000FF\"/>\n",
       "<path class=\"atom-8\" d=\"M 257.4 60.0 Q 257.4 58.6, 258.1 57.8 Q 258.8 57.1, 260.1 57.1 Q 261.5 57.1, 262.2 57.8 Q 262.9 58.6, 262.9 60.0 Q 262.9 61.5, 262.1 62.3 Q 261.4 63.1, 260.1 63.1 Q 258.9 63.1, 258.1 62.3 Q 257.4 61.5, 257.4 60.0 M 260.1 62.4 Q 261.0 62.4, 261.5 61.8 Q 262.0 61.2, 262.0 60.0 Q 262.0 58.9, 261.5 58.3 Q 261.0 57.7, 260.1 57.7 Q 259.3 57.7, 258.8 58.3 Q 258.3 58.9, 258.3 60.0 Q 258.3 61.2, 258.8 61.8 Q 259.3 62.4, 260.1 62.4 \" fill=\"#FF0000\"/>\n",
       "<path class=\"atom-9\" d=\"M 237.9 52.8 Q 237.9 51.4, 238.6 50.6 Q 239.3 49.8, 240.6 49.8 Q 241.9 49.8, 242.6 50.6 Q 243.3 51.4, 243.3 52.8 Q 243.3 54.3, 242.6 55.1 Q 241.9 55.9, 240.6 55.9 Q 239.3 55.9, 238.6 55.1 Q 237.9 54.3, 237.9 52.8 M 240.6 55.2 Q 241.5 55.2, 242.0 54.6 Q 242.5 54.0, 242.5 52.8 Q 242.5 51.7, 242.0 51.1 Q 241.5 50.5, 240.6 50.5 Q 239.7 50.5, 239.2 51.1 Q 238.8 51.7, 238.8 52.8 Q 238.8 54.0, 239.2 54.6 Q 239.7 55.2, 240.6 55.2 \" fill=\"#FF0000\"/>\n",
       "<path class=\"atom-33\" d=\"M 351.5 75.6 Q 351.5 74.2, 352.2 73.4 Q 352.9 72.6, 354.2 72.6 Q 355.5 72.6, 356.2 73.4 Q 356.9 74.2, 356.9 75.6 Q 356.9 77.0, 356.2 77.8 Q 355.5 78.6, 354.2 78.6 Q 352.9 78.6, 352.2 77.8 Q 351.5 77.0, 351.5 75.6 M 354.2 78.0 Q 355.1 78.0, 355.6 77.4 Q 356.1 76.8, 356.1 75.6 Q 356.1 74.4, 355.6 73.8 Q 355.1 73.2, 354.2 73.2 Q 353.3 73.2, 352.9 73.8 Q 352.4 74.4, 352.4 75.6 Q 352.4 76.8, 352.9 77.4 Q 353.3 78.0, 354.2 78.0 \" fill=\"#FF0000\"/>\n",
       "<path class=\"atom-33\" d=\"M 357.4 72.6 L 358.2 72.6 L 358.2 75.1 L 361.2 75.1 L 361.2 72.6 L 362.0 72.6 L 362.0 78.5 L 361.2 78.5 L 361.2 75.8 L 358.2 75.8 L 358.2 78.5 L 357.4 78.5 L 357.4 72.6 \" fill=\"#FF0000\"/>\n",
       "</svg>"
      ],
      "text/plain": [
       "<IPython.core.display.SVG object>"
      ]
     },
     "execution_count": 24,
     "metadata": {},
     "output_type": "execute_result"
    }
   ],
   "source": [
    "big_smiles_gen(big)"
   ]
  },
  {
   "cell_type": "markdown",
   "id": "e2d1370c",
   "metadata": {},
   "source": [
    "# New! Polyolefins, because a '=' remains\n",
    "\n",
    "## CH2=CH-(CH2)nCH3  where n varies from 1 to 5"
   ]
  },
  {
   "cell_type": "code",
   "execution_count": 25,
   "id": "79ae076b",
   "metadata": {},
   "outputs": [
    {
     "data": {
      "text/plain": [
       "'C=C{[$][$]C[$][$]}|uniform(12,60)|C'"
      ]
     },
     "execution_count": 25,
     "metadata": {},
     "output_type": "execute_result"
    }
   ],
   "source": [
    "big = \"C=C{[$][$]C[$][$]}|uniform(12,60)|C\"\n",
    "big"
   ]
  },
  {
   "cell_type": "code",
   "execution_count": 26,
   "id": "c83fae3f",
   "metadata": {},
   "outputs": [
    {
     "data": {
      "image/svg+xml": [
       "<svg xmlns=\"http://www.w3.org/2000/svg\" xmlns:rdkit=\"http://www.rdkit.org/xml\" xmlns:xlink=\"http://www.w3.org/1999/xlink\" version=\"1.1\" baseProfile=\"full\" xml:space=\"preserve\" width=\"450px\" height=\"150px\" viewBox=\"0 0 450 150\">\n",
       "<!-- END OF HEADER -->\n",
       "<rect style=\"opacity:1.0;fill:#FFFFFF;stroke:none\" width=\"450.0\" height=\"150.0\" x=\"0.0\" y=\"0.0\"> </rect>\n",
       "<path class=\"bond-0 atom-0 atom-1\" d=\"M 20.5,87.7 L 88.0,48.8\" style=\"fill:none;fill-rule:evenodd;stroke:#000000;stroke-width:2.0px;stroke-linecap:butt;stroke-linejoin:miter;stroke-opacity:1\"/>\n",
       "<path class=\"bond-0 atom-0 atom-1\" d=\"M 28.3,101.2 L 95.8,62.3\" style=\"fill:none;fill-rule:evenodd;stroke:#000000;stroke-width:2.0px;stroke-linecap:butt;stroke-linejoin:miter;stroke-opacity:1\"/>\n",
       "<path class=\"bond-1 atom-1 atom-2\" d=\"M 91.9,55.5 L 159.4,94.5\" style=\"fill:none;fill-rule:evenodd;stroke:#000000;stroke-width:2.0px;stroke-linecap:butt;stroke-linejoin:miter;stroke-opacity:1\"/>\n",
       "<path class=\"bond-2 atom-2 atom-3\" d=\"M 159.4,94.5 L 226.9,55.5\" style=\"fill:none;fill-rule:evenodd;stroke:#000000;stroke-width:2.0px;stroke-linecap:butt;stroke-linejoin:miter;stroke-opacity:1\"/>\n",
       "<path class=\"bond-3 atom-3 atom-4\" d=\"M 226.9,55.5 L 294.5,94.5\" style=\"fill:none;fill-rule:evenodd;stroke:#000000;stroke-width:2.0px;stroke-linecap:butt;stroke-linejoin:miter;stroke-opacity:1\"/>\n",
       "<path class=\"bond-4 atom-4 atom-5\" d=\"M 294.5,94.5 L 362.0,55.5\" style=\"fill:none;fill-rule:evenodd;stroke:#000000;stroke-width:2.0px;stroke-linecap:butt;stroke-linejoin:miter;stroke-opacity:1\"/>\n",
       "<path class=\"bond-5 atom-5 atom-6\" d=\"M 362.0,55.5 L 429.5,94.5\" style=\"fill:none;fill-rule:evenodd;stroke:#000000;stroke-width:2.0px;stroke-linecap:butt;stroke-linejoin:miter;stroke-opacity:1\"/>\n",
       "</svg>"
      ],
      "text/plain": [
       "<IPython.core.display.SVG object>"
      ]
     },
     "execution_count": 26,
     "metadata": {},
     "output_type": "execute_result"
    }
   ],
   "source": [
    "big_smiles_gen(big)"
   ]
  },
  {
   "cell_type": "code",
   "execution_count": 27,
   "id": "eaf5f6ac",
   "metadata": {},
   "outputs": [
    {
     "data": {
      "image/svg+xml": [
       "<svg xmlns=\"http://www.w3.org/2000/svg\" xmlns:rdkit=\"http://www.rdkit.org/xml\" xmlns:xlink=\"http://www.w3.org/1999/xlink\" version=\"1.1\" baseProfile=\"full\" xml:space=\"preserve\" width=\"450px\" height=\"150px\" viewBox=\"0 0 450 150\">\n",
       "<!-- END OF HEADER -->\n",
       "<rect style=\"opacity:1.0;fill:#FFFFFF;stroke:none\" width=\"450.0\" height=\"150.0\" x=\"0.0\" y=\"0.0\"> </rect>\n",
       "<path class=\"bond-0 atom-0 atom-1\" d=\"M 20.5,87.7 L 88.0,48.8\" style=\"fill:none;fill-rule:evenodd;stroke:#000000;stroke-width:2.0px;stroke-linecap:butt;stroke-linejoin:miter;stroke-opacity:1\"/>\n",
       "<path class=\"bond-0 atom-0 atom-1\" d=\"M 28.3,101.2 L 95.8,62.3\" style=\"fill:none;fill-rule:evenodd;stroke:#000000;stroke-width:2.0px;stroke-linecap:butt;stroke-linejoin:miter;stroke-opacity:1\"/>\n",
       "<path class=\"bond-1 atom-1 atom-2\" d=\"M 91.9,55.5 L 159.4,94.5\" style=\"fill:none;fill-rule:evenodd;stroke:#000000;stroke-width:2.0px;stroke-linecap:butt;stroke-linejoin:miter;stroke-opacity:1\"/>\n",
       "<path class=\"bond-2 atom-2 atom-3\" d=\"M 159.4,94.5 L 226.9,55.5\" style=\"fill:none;fill-rule:evenodd;stroke:#000000;stroke-width:2.0px;stroke-linecap:butt;stroke-linejoin:miter;stroke-opacity:1\"/>\n",
       "<path class=\"bond-3 atom-3 atom-4\" d=\"M 226.9,55.5 L 294.5,94.5\" style=\"fill:none;fill-rule:evenodd;stroke:#000000;stroke-width:2.0px;stroke-linecap:butt;stroke-linejoin:miter;stroke-opacity:1\"/>\n",
       "<path class=\"bond-4 atom-4 atom-5\" d=\"M 294.5,94.5 L 362.0,55.5\" style=\"fill:none;fill-rule:evenodd;stroke:#000000;stroke-width:2.0px;stroke-linecap:butt;stroke-linejoin:miter;stroke-opacity:1\"/>\n",
       "<path class=\"bond-5 atom-5 atom-6\" d=\"M 362.0,55.5 L 429.5,94.5\" style=\"fill:none;fill-rule:evenodd;stroke:#000000;stroke-width:2.0px;stroke-linecap:butt;stroke-linejoin:miter;stroke-opacity:1\"/>\n",
       "</svg>"
      ],
      "text/plain": [
       "<IPython.core.display.SVG object>"
      ]
     },
     "execution_count": 27,
     "metadata": {},
     "output_type": "execute_result"
    }
   ],
   "source": [
    "big_smiles_gen(big)"
   ]
  },
  {
   "cell_type": "markdown",
   "id": "5f15bd1b",
   "metadata": {},
   "source": [
    "## CH2-CH-(CH2)n-CH=CH2 where n varies from 1 to 3"
   ]
  },
  {
   "cell_type": "code",
   "execution_count": 28,
   "id": "048967e8",
   "metadata": {},
   "outputs": [
    {
     "data": {
      "text/plain": [
       "'CC{[$][$]C[$][$]}|uniform(12, 36)|C=C'"
      ]
     },
     "execution_count": 28,
     "metadata": {},
     "output_type": "execute_result"
    }
   ],
   "source": [
    "big = \"CC{[$][$]C[$][$]}|uniform(12, 36)|C=C\"\n",
    "big"
   ]
  },
  {
   "cell_type": "code",
   "execution_count": 29,
   "id": "e0856e12",
   "metadata": {},
   "outputs": [
    {
     "data": {
      "image/svg+xml": [
       "<svg xmlns=\"http://www.w3.org/2000/svg\" xmlns:rdkit=\"http://www.rdkit.org/xml\" xmlns:xlink=\"http://www.w3.org/1999/xlink\" version=\"1.1\" baseProfile=\"full\" xml:space=\"preserve\" width=\"450px\" height=\"150px\" viewBox=\"0 0 450 150\">\n",
       "<!-- END OF HEADER -->\n",
       "<rect style=\"opacity:1.0;fill:#FFFFFF;stroke:none\" width=\"450.0\" height=\"150.0\" x=\"0.0\" y=\"0.0\"> </rect>\n",
       "<path class=\"bond-0 atom-0 atom-1\" d=\"M 20.5,83.9 L 103.3,41.5\" style=\"fill:none;fill-rule:evenodd;stroke:#000000;stroke-width:2.0px;stroke-linecap:butt;stroke-linejoin:miter;stroke-opacity:1\"/>\n",
       "<path class=\"bond-1 atom-1 atom-2\" d=\"M 103.3,41.5 L 181.5,92.0\" style=\"fill:none;fill-rule:evenodd;stroke:#000000;stroke-width:2.0px;stroke-linecap:butt;stroke-linejoin:miter;stroke-opacity:1\"/>\n",
       "<path class=\"bond-2 atom-2 atom-3\" d=\"M 181.5,92.0 L 264.3,49.7\" style=\"fill:none;fill-rule:evenodd;stroke:#000000;stroke-width:2.0px;stroke-linecap:butt;stroke-linejoin:miter;stroke-opacity:1\"/>\n",
       "<path class=\"bond-3 atom-4 atom-5\" d=\"M 338.2,91.9 L 421.1,49.6\" style=\"fill:none;fill-rule:evenodd;stroke:#000000;stroke-width:2.0px;stroke-linecap:butt;stroke-linejoin:miter;stroke-opacity:1\"/>\n",
       "<path class=\"bond-3 atom-4 atom-5\" d=\"M 346.7,108.5 L 429.5,66.1\" style=\"fill:none;fill-rule:evenodd;stroke:#000000;stroke-width:2.0px;stroke-linecap:butt;stroke-linejoin:miter;stroke-opacity:1\"/>\n",
       "<path class=\"bond-4 atom-3 atom-4\" d=\"M 264.3,49.7 L 342.4,100.2\" style=\"fill:none;fill-rule:evenodd;stroke:#000000;stroke-width:2.0px;stroke-linecap:butt;stroke-linejoin:miter;stroke-opacity:1\"/>\n",
       "</svg>"
      ],
      "text/plain": [
       "<IPython.core.display.SVG object>"
      ]
     },
     "execution_count": 29,
     "metadata": {},
     "output_type": "execute_result"
    }
   ],
   "source": [
    "big_smiles_gen(big)"
   ]
  },
  {
   "cell_type": "code",
   "execution_count": 30,
   "id": "d460780b",
   "metadata": {},
   "outputs": [
    {
     "data": {
      "image/svg+xml": [
       "<svg xmlns=\"http://www.w3.org/2000/svg\" xmlns:rdkit=\"http://www.rdkit.org/xml\" xmlns:xlink=\"http://www.w3.org/1999/xlink\" version=\"1.1\" baseProfile=\"full\" xml:space=\"preserve\" width=\"450px\" height=\"150px\" viewBox=\"0 0 450 150\">\n",
       "<!-- END OF HEADER -->\n",
       "<rect style=\"opacity:1.0;fill:#FFFFFF;stroke:none\" width=\"450.0\" height=\"150.0\" x=\"0.0\" y=\"0.0\"> </rect>\n",
       "<path class=\"bond-0 atom-0 atom-1\" d=\"M 20.5,83.9 L 103.3,41.5\" style=\"fill:none;fill-rule:evenodd;stroke:#000000;stroke-width:2.0px;stroke-linecap:butt;stroke-linejoin:miter;stroke-opacity:1\"/>\n",
       "<path class=\"bond-1 atom-1 atom-2\" d=\"M 103.3,41.5 L 181.5,92.0\" style=\"fill:none;fill-rule:evenodd;stroke:#000000;stroke-width:2.0px;stroke-linecap:butt;stroke-linejoin:miter;stroke-opacity:1\"/>\n",
       "<path class=\"bond-2 atom-2 atom-3\" d=\"M 181.5,92.0 L 264.3,49.7\" style=\"fill:none;fill-rule:evenodd;stroke:#000000;stroke-width:2.0px;stroke-linecap:butt;stroke-linejoin:miter;stroke-opacity:1\"/>\n",
       "<path class=\"bond-3 atom-4 atom-5\" d=\"M 338.2,91.9 L 421.1,49.6\" style=\"fill:none;fill-rule:evenodd;stroke:#000000;stroke-width:2.0px;stroke-linecap:butt;stroke-linejoin:miter;stroke-opacity:1\"/>\n",
       "<path class=\"bond-3 atom-4 atom-5\" d=\"M 346.7,108.5 L 429.5,66.1\" style=\"fill:none;fill-rule:evenodd;stroke:#000000;stroke-width:2.0px;stroke-linecap:butt;stroke-linejoin:miter;stroke-opacity:1\"/>\n",
       "<path class=\"bond-4 atom-3 atom-4\" d=\"M 264.3,49.7 L 342.4,100.2\" style=\"fill:none;fill-rule:evenodd;stroke:#000000;stroke-width:2.0px;stroke-linecap:butt;stroke-linejoin:miter;stroke-opacity:1\"/>\n",
       "</svg>"
      ],
      "text/plain": [
       "<IPython.core.display.SVG object>"
      ]
     },
     "execution_count": 30,
     "metadata": {},
     "output_type": "execute_result"
    }
   ],
   "source": [
    "big_smiles_gen(big)"
   ]
  },
  {
   "cell_type": "markdown",
   "id": "e06c8273",
   "metadata": {},
   "source": [
    "## Classic diblock PS-b-P2VP"
   ]
  },
  {
   "cell_type": "code",
   "execution_count": 31,
   "id": "5e0b3aa4",
   "metadata": {},
   "outputs": [],
   "source": [
    "big = \"[H]{[<][<]C([>])c1ccccc1[>]}|gauss(100,20)|{[<][>]C([<])c1ccncc1[>]}|gauss(100, 20)|[H]\""
   ]
  },
  {
   "cell_type": "code",
   "execution_count": 32,
   "id": "1130059c",
   "metadata": {},
   "outputs": [
    {
     "data": {
      "image/svg+xml": [
       "<svg xmlns=\"http://www.w3.org/2000/svg\" xmlns:rdkit=\"http://www.rdkit.org/xml\" xmlns:xlink=\"http://www.w3.org/1999/xlink\" version=\"1.1\" baseProfile=\"full\" xml:space=\"preserve\" width=\"450px\" height=\"150px\" viewBox=\"0 0 450 150\">\n",
       "<!-- END OF HEADER -->\n",
       "<rect style=\"opacity:1.0;fill:#FFFFFF;stroke:none\" width=\"450.0\" height=\"150.0\" x=\"0.0\" y=\"0.0\"> </rect>\n",
       "<path class=\"bond-0 atom-1 atom-2\" d=\"M 256.1,36.6 L 285.7,36.6\" style=\"fill:none;fill-rule:evenodd;stroke:#000000;stroke-width:2.0px;stroke-linecap:butt;stroke-linejoin:miter;stroke-opacity:1\"/>\n",
       "<path class=\"bond-1 atom-2 atom-3\" d=\"M 285.7,36.6 L 300.5,11.0\" style=\"fill:none;fill-rule:evenodd;stroke:#000000;stroke-width:2.0px;stroke-linecap:butt;stroke-linejoin:miter;stroke-opacity:1\"/>\n",
       "<path class=\"bond-1 atom-2 atom-3\" d=\"M 293.0,35.7 L 303.4,17.8\" style=\"fill:none;fill-rule:evenodd;stroke:#000000;stroke-width:2.0px;stroke-linecap:butt;stroke-linejoin:miter;stroke-opacity:1\"/>\n",
       "<path class=\"bond-2 atom-3 atom-4\" d=\"M 300.5,11.0 L 330.0,11.0\" style=\"fill:none;fill-rule:evenodd;stroke:#000000;stroke-width:2.0px;stroke-linecap:butt;stroke-linejoin:miter;stroke-opacity:1\"/>\n",
       "<path class=\"bond-3 atom-4 atom-5\" d=\"M 330.0,11.0 L 344.8,36.6\" style=\"fill:none;fill-rule:evenodd;stroke:#000000;stroke-width:2.0px;stroke-linecap:butt;stroke-linejoin:miter;stroke-opacity:1\"/>\n",
       "<path class=\"bond-3 atom-4 atom-5\" d=\"M 327.1,17.8 L 337.5,35.7\" style=\"fill:none;fill-rule:evenodd;stroke:#000000;stroke-width:2.0px;stroke-linecap:butt;stroke-linejoin:miter;stroke-opacity:1\"/>\n",
       "<path class=\"bond-4 atom-5 atom-6\" d=\"M 344.8,36.6 L 330.0,62.2\" style=\"fill:none;fill-rule:evenodd;stroke:#000000;stroke-width:2.0px;stroke-linecap:butt;stroke-linejoin:miter;stroke-opacity:1\"/>\n",
       "<path class=\"bond-5 atom-6 atom-7\" d=\"M 330.0,62.2 L 300.5,62.2\" style=\"fill:none;fill-rule:evenodd;stroke:#000000;stroke-width:2.0px;stroke-linecap:butt;stroke-linejoin:miter;stroke-opacity:1\"/>\n",
       "<path class=\"bond-5 atom-6 atom-7\" d=\"M 325.6,56.3 L 304.9,56.3\" style=\"fill:none;fill-rule:evenodd;stroke:#000000;stroke-width:2.0px;stroke-linecap:butt;stroke-linejoin:miter;stroke-opacity:1\"/>\n",
       "<path class=\"bond-6 atom-7 atom-2\" d=\"M 300.5,62.2 L 285.7,36.6\" style=\"fill:none;fill-rule:evenodd;stroke:#000000;stroke-width:2.0px;stroke-linecap:butt;stroke-linejoin:miter;stroke-opacity:1\"/>\n",
       "<path class=\"bond-7 atom-0 atom-1\" d=\"M 244.3,16.2 L 256.1,36.6\" style=\"fill:none;fill-rule:evenodd;stroke:#000000;stroke-width:2.0px;stroke-linecap:butt;stroke-linejoin:miter;stroke-opacity:1\"/>\n",
       "<path class=\"bond-8 atom-8 atom-9\" d=\"M 241.4,62.2 L 256.1,87.8\" style=\"fill:none;fill-rule:evenodd;stroke:#000000;stroke-width:2.0px;stroke-linecap:butt;stroke-linejoin:miter;stroke-opacity:1\"/>\n",
       "<path class=\"bond-9 atom-9 atom-10\" d=\"M 256.1,87.8 L 241.4,113.4\" style=\"fill:none;fill-rule:evenodd;stroke:#000000;stroke-width:2.0px;stroke-linecap:butt;stroke-linejoin:miter;stroke-opacity:1\"/>\n",
       "<path class=\"bond-9 atom-9 atom-10\" d=\"M 259.0,94.6 L 248.7,112.5\" style=\"fill:none;fill-rule:evenodd;stroke:#000000;stroke-width:2.0px;stroke-linecap:butt;stroke-linejoin:miter;stroke-opacity:1\"/>\n",
       "<path class=\"bond-10 atom-10 atom-11\" d=\"M 241.4,113.4 L 256.1,139.0\" style=\"fill:none;fill-rule:evenodd;stroke:#000000;stroke-width:2.0px;stroke-linecap:butt;stroke-linejoin:miter;stroke-opacity:1\"/>\n",
       "<path class=\"bond-11 atom-11 atom-12\" d=\"M 256.1,139.0 L 285.7,139.0\" style=\"fill:none;fill-rule:evenodd;stroke:#000000;stroke-width:2.0px;stroke-linecap:butt;stroke-linejoin:miter;stroke-opacity:1\"/>\n",
       "<path class=\"bond-11 atom-11 atom-12\" d=\"M 260.6,133.1 L 281.3,133.1\" style=\"fill:none;fill-rule:evenodd;stroke:#000000;stroke-width:2.0px;stroke-linecap:butt;stroke-linejoin:miter;stroke-opacity:1\"/>\n",
       "<path class=\"bond-12 atom-12 atom-13\" d=\"M 285.7,139.0 L 300.5,113.4\" style=\"fill:none;fill-rule:evenodd;stroke:#000000;stroke-width:2.0px;stroke-linecap:butt;stroke-linejoin:miter;stroke-opacity:1\"/>\n",
       "<path class=\"bond-13 atom-13 atom-14\" d=\"M 300.5,113.4 L 285.7,87.8\" style=\"fill:none;fill-rule:evenodd;stroke:#000000;stroke-width:2.0px;stroke-linecap:butt;stroke-linejoin:miter;stroke-opacity:1\"/>\n",
       "<path class=\"bond-13 atom-13 atom-14\" d=\"M 293.1,112.5 L 282.8,94.6\" style=\"fill:none;fill-rule:evenodd;stroke:#000000;stroke-width:2.0px;stroke-linecap:butt;stroke-linejoin:miter;stroke-opacity:1\"/>\n",
       "<path class=\"bond-14 atom-14 atom-9\" d=\"M 285.7,87.8 L 256.1,87.8\" style=\"fill:none;fill-rule:evenodd;stroke:#000000;stroke-width:2.0px;stroke-linecap:butt;stroke-linejoin:miter;stroke-opacity:1\"/>\n",
       "<path class=\"bond-15 atom-1 atom-8\" d=\"M 256.1,36.6 L 241.4,62.2\" style=\"fill:none;fill-rule:evenodd;stroke:#000000;stroke-width:2.0px;stroke-linecap:butt;stroke-linejoin:miter;stroke-opacity:1\"/>\n",
       "<path class=\"bond-16 atom-15 atom-16\" d=\"M 211.8,62.2 L 197.0,87.8\" style=\"fill:none;fill-rule:evenodd;stroke:#000000;stroke-width:2.0px;stroke-linecap:butt;stroke-linejoin:miter;stroke-opacity:1\"/>\n",
       "<path class=\"bond-17 atom-16 atom-17\" d=\"M 197.0,87.8 L 167.5,87.8\" style=\"fill:none;fill-rule:evenodd;stroke:#000000;stroke-width:2.0px;stroke-linecap:butt;stroke-linejoin:miter;stroke-opacity:1\"/>\n",
       "<path class=\"bond-17 atom-16 atom-17\" d=\"M 192.6,93.7 L 171.9,93.7\" style=\"fill:none;fill-rule:evenodd;stroke:#000000;stroke-width:2.0px;stroke-linecap:butt;stroke-linejoin:miter;stroke-opacity:1\"/>\n",
       "<path class=\"bond-18 atom-17 atom-18\" d=\"M 167.5,87.8 L 152.7,113.4\" style=\"fill:none;fill-rule:evenodd;stroke:#000000;stroke-width:2.0px;stroke-linecap:butt;stroke-linejoin:miter;stroke-opacity:1\"/>\n",
       "<path class=\"bond-19 atom-18 atom-19\" d=\"M 152.7,113.4 L 158.6,123.6\" style=\"fill:none;fill-rule:evenodd;stroke:#000000;stroke-width:2.0px;stroke-linecap:butt;stroke-linejoin:miter;stroke-opacity:1\"/>\n",
       "<path class=\"bond-19 atom-18 atom-19\" d=\"M 158.6,123.6 L 164.5,133.8\" style=\"fill:none;fill-rule:evenodd;stroke:#0000FF;stroke-width:2.0px;stroke-linecap:butt;stroke-linejoin:miter;stroke-opacity:1\"/>\n",
       "<path class=\"bond-19 atom-18 atom-19\" d=\"M 159.6,113.5 L 163.7,120.7\" style=\"fill:none;fill-rule:evenodd;stroke:#000000;stroke-width:2.0px;stroke-linecap:butt;stroke-linejoin:miter;stroke-opacity:1\"/>\n",
       "<path class=\"bond-19 atom-18 atom-19\" d=\"M 163.7,120.7 L 167.8,127.8\" style=\"fill:none;fill-rule:evenodd;stroke:#0000FF;stroke-width:2.0px;stroke-linecap:butt;stroke-linejoin:miter;stroke-opacity:1\"/>\n",
       "<path class=\"bond-20 atom-19 atom-20\" d=\"M 171.6,139.0 L 184.3,139.0\" style=\"fill:none;fill-rule:evenodd;stroke:#0000FF;stroke-width:2.0px;stroke-linecap:butt;stroke-linejoin:miter;stroke-opacity:1\"/>\n",
       "<path class=\"bond-20 atom-19 atom-20\" d=\"M 184.3,139.0 L 197.0,139.0\" style=\"fill:none;fill-rule:evenodd;stroke:#000000;stroke-width:2.0px;stroke-linecap:butt;stroke-linejoin:miter;stroke-opacity:1\"/>\n",
       "<path class=\"bond-21 atom-20 atom-21\" d=\"M 197.0,139.0 L 211.8,113.4\" style=\"fill:none;fill-rule:evenodd;stroke:#000000;stroke-width:2.0px;stroke-linecap:butt;stroke-linejoin:miter;stroke-opacity:1\"/>\n",
       "<path class=\"bond-21 atom-20 atom-21\" d=\"M 194.1,132.2 L 204.5,114.3\" style=\"fill:none;fill-rule:evenodd;stroke:#000000;stroke-width:2.0px;stroke-linecap:butt;stroke-linejoin:miter;stroke-opacity:1\"/>\n",
       "<path class=\"bond-22 atom-21 atom-16\" d=\"M 211.8,113.4 L 197.0,87.8\" style=\"fill:none;fill-rule:evenodd;stroke:#000000;stroke-width:2.0px;stroke-linecap:butt;stroke-linejoin:miter;stroke-opacity:1\"/>\n",
       "<path class=\"bond-23 atom-8 atom-15\" d=\"M 241.4,62.2 L 211.8,62.2\" style=\"fill:none;fill-rule:evenodd;stroke:#000000;stroke-width:2.0px;stroke-linecap:butt;stroke-linejoin:miter;stroke-opacity:1\"/>\n",
       "<path class=\"bond-24 atom-22 atom-23\" d=\"M 197.0,36.6 L 167.5,36.6\" style=\"fill:none;fill-rule:evenodd;stroke:#000000;stroke-width:2.0px;stroke-linecap:butt;stroke-linejoin:miter;stroke-opacity:1\"/>\n",
       "<path class=\"bond-25 atom-23 atom-24\" d=\"M 167.5,36.6 L 152.7,11.0\" style=\"fill:none;fill-rule:evenodd;stroke:#000000;stroke-width:2.0px;stroke-linecap:butt;stroke-linejoin:miter;stroke-opacity:1\"/>\n",
       "<path class=\"bond-25 atom-23 atom-24\" d=\"M 160.1,35.7 L 149.8,17.8\" style=\"fill:none;fill-rule:evenodd;stroke:#000000;stroke-width:2.0px;stroke-linecap:butt;stroke-linejoin:miter;stroke-opacity:1\"/>\n",
       "<path class=\"bond-26 atom-24 atom-25\" d=\"M 152.7,11.0 L 123.1,11.0\" style=\"fill:none;fill-rule:evenodd;stroke:#000000;stroke-width:2.0px;stroke-linecap:butt;stroke-linejoin:miter;stroke-opacity:1\"/>\n",
       "<path class=\"bond-27 atom-25 atom-26\" d=\"M 123.1,11.0 L 117.2,21.2\" style=\"fill:none;fill-rule:evenodd;stroke:#000000;stroke-width:2.0px;stroke-linecap:butt;stroke-linejoin:miter;stroke-opacity:1\"/>\n",
       "<path class=\"bond-27 atom-25 atom-26\" d=\"M 117.2,21.2 L 111.3,31.4\" style=\"fill:none;fill-rule:evenodd;stroke:#0000FF;stroke-width:2.0px;stroke-linecap:butt;stroke-linejoin:miter;stroke-opacity:1\"/>\n",
       "<path class=\"bond-27 atom-25 atom-26\" d=\"M 126.5,17.0 L 122.4,24.2\" style=\"fill:none;fill-rule:evenodd;stroke:#000000;stroke-width:2.0px;stroke-linecap:butt;stroke-linejoin:miter;stroke-opacity:1\"/>\n",
       "<path class=\"bond-27 atom-25 atom-26\" d=\"M 122.4,24.2 L 118.2,31.3\" style=\"fill:none;fill-rule:evenodd;stroke:#0000FF;stroke-width:2.0px;stroke-linecap:butt;stroke-linejoin:miter;stroke-opacity:1\"/>\n",
       "<path class=\"bond-28 atom-26 atom-27\" d=\"M 111.3,41.8 L 117.2,52.0\" style=\"fill:none;fill-rule:evenodd;stroke:#0000FF;stroke-width:2.0px;stroke-linecap:butt;stroke-linejoin:miter;stroke-opacity:1\"/>\n",
       "<path class=\"bond-28 atom-26 atom-27\" d=\"M 117.2,52.0 L 123.1,62.2\" style=\"fill:none;fill-rule:evenodd;stroke:#000000;stroke-width:2.0px;stroke-linecap:butt;stroke-linejoin:miter;stroke-opacity:1\"/>\n",
       "<path class=\"bond-29 atom-27 atom-28\" d=\"M 123.1,62.2 L 152.7,62.2\" style=\"fill:none;fill-rule:evenodd;stroke:#000000;stroke-width:2.0px;stroke-linecap:butt;stroke-linejoin:miter;stroke-opacity:1\"/>\n",
       "<path class=\"bond-29 atom-27 atom-28\" d=\"M 127.6,56.3 L 148.3,56.3\" style=\"fill:none;fill-rule:evenodd;stroke:#000000;stroke-width:2.0px;stroke-linecap:butt;stroke-linejoin:miter;stroke-opacity:1\"/>\n",
       "<path class=\"bond-30 atom-28 atom-23\" d=\"M 152.7,62.2 L 167.5,36.6\" style=\"fill:none;fill-rule:evenodd;stroke:#000000;stroke-width:2.0px;stroke-linecap:butt;stroke-linejoin:miter;stroke-opacity:1\"/>\n",
       "<path class=\"bond-31 atom-15 atom-22\" d=\"M 211.8,62.2 L 197.0,36.6\" style=\"fill:none;fill-rule:evenodd;stroke:#000000;stroke-width:2.0px;stroke-linecap:butt;stroke-linejoin:miter;stroke-opacity:1\"/>\n",
       "<path class=\"bond-32 atom-22 atom-29\" d=\"M 197.0,36.6 L 208.8,16.2\" style=\"fill:none;fill-rule:evenodd;stroke:#000000;stroke-width:2.0px;stroke-linecap:butt;stroke-linejoin:miter;stroke-opacity:1\"/>\n",
       "<path class=\"atom-0\" d=\"M 238.1 6.8 L 239.2 6.8 L 239.2 10.4 L 243.5 10.4 L 243.5 6.8 L 244.6 6.8 L 244.6 15.2 L 243.5 15.2 L 243.5 11.3 L 239.2 11.3 L 239.2 15.2 L 238.1 15.2 L 238.1 6.8 \" fill=\"#000000\"/>\n",
       "<path class=\"atom-19\" d=\"M 165.6 134.8 L 168.4 139.2 Q 168.6 139.7, 169.1 140.5 Q 169.5 141.3, 169.5 141.3 L 169.5 134.8 L 170.6 134.8 L 170.6 143.2 L 169.5 143.2 L 166.6 138.3 Q 166.2 137.8, 165.8 137.1 Q 165.5 136.5, 165.4 136.3 L 165.4 143.2 L 164.3 143.2 L 164.3 134.8 L 165.6 134.8 \" fill=\"#0000FF\"/>\n",
       "<path class=\"atom-26\" d=\"M 106.5 32.4 L 109.2 36.9 Q 109.5 37.3, 110.0 38.1 Q 110.4 38.9, 110.4 38.9 L 110.4 32.4 L 111.5 32.4 L 111.5 40.8 L 110.4 40.8 L 107.4 35.9 Q 107.1 35.4, 106.7 34.7 Q 106.4 34.1, 106.3 33.9 L 106.3 40.8 L 105.2 40.8 L 105.2 32.4 L 106.5 32.4 \" fill=\"#0000FF\"/>\n",
       "<path class=\"atom-29\" d=\"M 208.5 6.8 L 209.7 6.8 L 209.7 10.4 L 213.9 10.4 L 213.9 6.8 L 215.1 6.8 L 215.1 15.2 L 213.9 15.2 L 213.9 11.3 L 209.7 11.3 L 209.7 15.2 L 208.5 15.2 L 208.5 6.8 \" fill=\"#000000\"/>\n",
       "<path class=\"atom-0\" d=\"M 236.9,11.0 L 236.9,11.1 L 236.9,11.1 L 236.9,11.2 L 236.9,11.2 L 236.9,11.3 L 236.8,11.3 L 236.8,11.3 L 236.8,11.4 L 236.7,11.4 L 236.7,11.5 L 236.7,11.5 L 236.6,11.5 L 236.6,11.5 L 236.5,11.6 L 236.5,11.6 L 236.4,11.6 L 236.4,11.6 L 236.3,11.6 L 236.3,11.6 L 236.2,11.6 L 236.2,11.6 L 236.1,11.6 L 236.1,11.5 L 236.0,11.5 L 236.0,11.5 L 236.0,11.5 L 235.9,11.4 L 235.9,11.4 L 235.8,11.4 L 235.8,11.3 L 235.8,11.3 L 235.8,11.2 L 235.8,11.2 L 235.7,11.1 L 235.7,11.1 L 235.7,11.0 L 235.7,11.0 L 235.7,10.9 L 235.7,10.9 L 235.8,10.8 L 235.8,10.8 L 235.8,10.7 L 235.8,10.7 L 235.8,10.6 L 235.9,10.6 L 235.9,10.6 L 236.0,10.5 L 236.0,10.5 L 236.0,10.5 L 236.1,10.5 L 236.1,10.4 L 236.2,10.4 L 236.2,10.4 L 236.3,10.4 L 236.3,10.4 L 236.4,10.4 L 236.4,10.4 L 236.5,10.4 L 236.5,10.5 L 236.6,10.5 L 236.6,10.5 L 236.7,10.5 L 236.7,10.6 L 236.7,10.6 L 236.8,10.6 L 236.8,10.7 L 236.8,10.7 L 236.9,10.8 L 236.9,10.8 L 236.9,10.9 L 236.9,10.9 L 236.9,11.0 L 236.9,11.0 L 236.3,11.0 Z\" style=\"fill:#000000;fill-rule:evenodd;fill-opacity:1;stroke:#000000;stroke-width:0.0px;stroke-linecap:butt;stroke-linejoin:miter;stroke-opacity:1;\"/>\n",
       "<path class=\"atom-29\" d=\"M 217.4,11.0 L 217.4,11.1 L 217.4,11.1 L 217.4,11.2 L 217.4,11.2 L 217.4,11.3 L 217.4,11.3 L 217.3,11.3 L 217.3,11.4 L 217.3,11.4 L 217.2,11.5 L 217.2,11.5 L 217.2,11.5 L 217.1,11.5 L 217.1,11.6 L 217.0,11.6 L 217.0,11.6 L 216.9,11.6 L 216.9,11.6 L 216.8,11.6 L 216.8,11.6 L 216.7,11.6 L 216.7,11.6 L 216.6,11.5 L 216.6,11.5 L 216.5,11.5 L 216.5,11.5 L 216.5,11.4 L 216.4,11.4 L 216.4,11.4 L 216.4,11.3 L 216.3,11.3 L 216.3,11.2 L 216.3,11.2 L 216.3,11.1 L 216.3,11.1 L 216.3,11.0 L 216.3,11.0 L 216.3,10.9 L 216.3,10.9 L 216.3,10.8 L 216.3,10.8 L 216.3,10.7 L 216.4,10.7 L 216.4,10.6 L 216.4,10.6 L 216.5,10.6 L 216.5,10.5 L 216.5,10.5 L 216.6,10.5 L 216.6,10.5 L 216.7,10.4 L 216.7,10.4 L 216.8,10.4 L 216.8,10.4 L 216.9,10.4 L 216.9,10.4 L 217.0,10.4 L 217.0,10.4 L 217.1,10.5 L 217.1,10.5 L 217.2,10.5 L 217.2,10.5 L 217.2,10.6 L 217.3,10.6 L 217.3,10.6 L 217.3,10.7 L 217.4,10.7 L 217.4,10.8 L 217.4,10.8 L 217.4,10.9 L 217.4,10.9 L 217.4,11.0 L 217.4,11.0 L 216.9,11.0 Z\" style=\"fill:#000000;fill-rule:evenodd;fill-opacity:1;stroke:#000000;stroke-width:0.0px;stroke-linecap:butt;stroke-linejoin:miter;stroke-opacity:1;\"/>\n",
       "</svg>"
      ],
      "text/plain": [
       "<IPython.core.display.SVG object>"
      ]
     },
     "execution_count": 32,
     "metadata": {},
     "output_type": "execute_result"
    }
   ],
   "source": [
    "big_smiles_gen(big)"
   ]
  },
  {
   "cell_type": "markdown",
   "id": "a0938504",
   "metadata": {},
   "source": [
    "## Polymer in Solvent PS in THF"
   ]
  },
  {
   "cell_type": "code",
   "execution_count": 33,
   "id": "ffa5e792",
   "metadata": {},
   "outputs": [],
   "source": [
    "big = \"C1CCOC1.|10%|{[][$]C([$])c1ccccc1; [$][H][]]}|gauss(400,20)|\""
   ]
  },
  {
   "cell_type": "code",
   "execution_count": 34,
   "id": "bcd07941",
   "metadata": {},
   "outputs": [
    {
     "data": {
      "image/svg+xml": [
       "<svg xmlns=\"http://www.w3.org/2000/svg\" xmlns:rdkit=\"http://www.rdkit.org/xml\" xmlns:xlink=\"http://www.w3.org/1999/xlink\" version=\"1.1\" baseProfile=\"full\" xml:space=\"preserve\" width=\"450px\" height=\"150px\" viewBox=\"0 0 450 150\">\n",
       "<!-- END OF HEADER -->\n",
       "<rect style=\"opacity:1.0;fill:#FFFFFF;stroke:none\" width=\"450.0\" height=\"150.0\" x=\"0.0\" y=\"0.0\"> </rect>\n",
       "<path class=\"bond-0 atom-1 atom-2\" d=\"M 197.9,69.1 L 179.7,79.4\" style=\"fill:none;fill-rule:evenodd;stroke:#000000;stroke-width:2.0px;stroke-linecap:butt;stroke-linejoin:miter;stroke-opacity:1\"/>\n",
       "<path class=\"bond-1 atom-2 atom-3\" d=\"M 179.7,79.4 L 161.7,68.8\" style=\"fill:none;fill-rule:evenodd;stroke:#000000;stroke-width:2.0px;stroke-linecap:butt;stroke-linejoin:miter;stroke-opacity:1\"/>\n",
       "<path class=\"bond-1 atom-2 atom-3\" d=\"M 174.9,81.4 L 162.3,74.0\" style=\"fill:none;fill-rule:evenodd;stroke:#000000;stroke-width:2.0px;stroke-linecap:butt;stroke-linejoin:miter;stroke-opacity:1\"/>\n",
       "<path class=\"bond-2 atom-3 atom-4\" d=\"M 161.7,68.8 L 143.5,79.0\" style=\"fill:none;fill-rule:evenodd;stroke:#000000;stroke-width:2.0px;stroke-linecap:butt;stroke-linejoin:miter;stroke-opacity:1\"/>\n",
       "<path class=\"bond-3 atom-4 atom-5\" d=\"M 143.5,79.0 L 143.3,99.9\" style=\"fill:none;fill-rule:evenodd;stroke:#000000;stroke-width:2.0px;stroke-linecap:butt;stroke-linejoin:miter;stroke-opacity:1\"/>\n",
       "<path class=\"bond-3 atom-4 atom-5\" d=\"M 147.7,82.2 L 147.5,96.8\" style=\"fill:none;fill-rule:evenodd;stroke:#000000;stroke-width:2.0px;stroke-linecap:butt;stroke-linejoin:miter;stroke-opacity:1\"/>\n",
       "<path class=\"bond-4 atom-5 atom-6\" d=\"M 143.3,99.9 L 161.3,110.6\" style=\"fill:none;fill-rule:evenodd;stroke:#000000;stroke-width:2.0px;stroke-linecap:butt;stroke-linejoin:miter;stroke-opacity:1\"/>\n",
       "<path class=\"bond-5 atom-6 atom-7\" d=\"M 161.3,110.6 L 179.5,100.3\" style=\"fill:none;fill-rule:evenodd;stroke:#000000;stroke-width:2.0px;stroke-linecap:butt;stroke-linejoin:miter;stroke-opacity:1\"/>\n",
       "<path class=\"bond-5 atom-6 atom-7\" d=\"M 162.0,105.4 L 174.7,98.2\" style=\"fill:none;fill-rule:evenodd;stroke:#000000;stroke-width:2.0px;stroke-linecap:butt;stroke-linejoin:miter;stroke-opacity:1\"/>\n",
       "<path class=\"bond-6 atom-7 atom-2\" d=\"M 179.5,100.3 L 179.7,79.4\" style=\"fill:none;fill-rule:evenodd;stroke:#000000;stroke-width:2.0px;stroke-linecap:butt;stroke-linejoin:miter;stroke-opacity:1\"/>\n",
       "<path class=\"bond-7 atom-0 atom-1\" d=\"M 198.1,51.9 L 197.9,69.1\" style=\"fill:none;fill-rule:evenodd;stroke:#000000;stroke-width:2.0px;stroke-linecap:butt;stroke-linejoin:miter;stroke-opacity:1\"/>\n",
       "<path class=\"bond-8 atom-8 atom-9\" d=\"M 215.9,79.8 L 215.7,100.7\" style=\"fill:none;fill-rule:evenodd;stroke:#000000;stroke-width:2.0px;stroke-linecap:butt;stroke-linejoin:miter;stroke-opacity:1\"/>\n",
       "<path class=\"bond-9 atom-9 atom-10\" d=\"M 215.7,100.7 L 197.5,110.9\" style=\"fill:none;fill-rule:evenodd;stroke:#000000;stroke-width:2.0px;stroke-linecap:butt;stroke-linejoin:miter;stroke-opacity:1\"/>\n",
       "<path class=\"bond-9 atom-9 atom-10\" d=\"M 215.0,105.8 L 202.3,113.0\" style=\"fill:none;fill-rule:evenodd;stroke:#000000;stroke-width:2.0px;stroke-linecap:butt;stroke-linejoin:miter;stroke-opacity:1\"/>\n",
       "<path class=\"bond-10 atom-10 atom-11\" d=\"M 197.5,110.9 L 197.3,131.8\" style=\"fill:none;fill-rule:evenodd;stroke:#000000;stroke-width:2.0px;stroke-linecap:butt;stroke-linejoin:miter;stroke-opacity:1\"/>\n",
       "<path class=\"bond-11 atom-11 atom-12\" d=\"M 197.3,131.8 L 215.3,142.4\" style=\"fill:none;fill-rule:evenodd;stroke:#000000;stroke-width:2.0px;stroke-linecap:butt;stroke-linejoin:miter;stroke-opacity:1\"/>\n",
       "<path class=\"bond-11 atom-11 atom-12\" d=\"M 202.1,129.8 L 214.7,137.3\" style=\"fill:none;fill-rule:evenodd;stroke:#000000;stroke-width:2.0px;stroke-linecap:butt;stroke-linejoin:miter;stroke-opacity:1\"/>\n",
       "<path class=\"bond-12 atom-12 atom-13\" d=\"M 215.3,142.4 L 233.5,132.2\" style=\"fill:none;fill-rule:evenodd;stroke:#000000;stroke-width:2.0px;stroke-linecap:butt;stroke-linejoin:miter;stroke-opacity:1\"/>\n",
       "<path class=\"bond-13 atom-13 atom-14\" d=\"M 233.5,132.2 L 233.7,111.3\" style=\"fill:none;fill-rule:evenodd;stroke:#000000;stroke-width:2.0px;stroke-linecap:butt;stroke-linejoin:miter;stroke-opacity:1\"/>\n",
       "<path class=\"bond-13 atom-13 atom-14\" d=\"M 229.3,129.0 L 229.5,114.4\" style=\"fill:none;fill-rule:evenodd;stroke:#000000;stroke-width:2.0px;stroke-linecap:butt;stroke-linejoin:miter;stroke-opacity:1\"/>\n",
       "<path class=\"bond-14 atom-14 atom-9\" d=\"M 233.7,111.3 L 215.7,100.7\" style=\"fill:none;fill-rule:evenodd;stroke:#000000;stroke-width:2.0px;stroke-linecap:butt;stroke-linejoin:miter;stroke-opacity:1\"/>\n",
       "<path class=\"bond-15 atom-1 atom-8\" d=\"M 197.9,69.1 L 215.9,79.8\" style=\"fill:none;fill-rule:evenodd;stroke:#000000;stroke-width:2.0px;stroke-linecap:butt;stroke-linejoin:miter;stroke-opacity:1\"/>\n",
       "<path class=\"bond-16 atom-15 atom-16\" d=\"M 234.1,69.5 L 234.3,48.6\" style=\"fill:none;fill-rule:evenodd;stroke:#000000;stroke-width:2.0px;stroke-linecap:butt;stroke-linejoin:miter;stroke-opacity:1\"/>\n",
       "<path class=\"bond-17 atom-16 atom-17\" d=\"M 234.3,48.6 L 252.5,38.3\" style=\"fill:none;fill-rule:evenodd;stroke:#000000;stroke-width:2.0px;stroke-linecap:butt;stroke-linejoin:miter;stroke-opacity:1\"/>\n",
       "<path class=\"bond-17 atom-16 atom-17\" d=\"M 235.0,43.4 L 247.7,36.2\" style=\"fill:none;fill-rule:evenodd;stroke:#000000;stroke-width:2.0px;stroke-linecap:butt;stroke-linejoin:miter;stroke-opacity:1\"/>\n",
       "<path class=\"bond-18 atom-17 atom-18\" d=\"M 252.5,38.3 L 252.7,17.4\" style=\"fill:none;fill-rule:evenodd;stroke:#000000;stroke-width:2.0px;stroke-linecap:butt;stroke-linejoin:miter;stroke-opacity:1\"/>\n",
       "<path class=\"bond-19 atom-18 atom-19\" d=\"M 252.7,17.4 L 234.7,6.8\" style=\"fill:none;fill-rule:evenodd;stroke:#000000;stroke-width:2.0px;stroke-linecap:butt;stroke-linejoin:miter;stroke-opacity:1\"/>\n",
       "<path class=\"bond-19 atom-18 atom-19\" d=\"M 247.9,19.5 L 235.3,12.0\" style=\"fill:none;fill-rule:evenodd;stroke:#000000;stroke-width:2.0px;stroke-linecap:butt;stroke-linejoin:miter;stroke-opacity:1\"/>\n",
       "<path class=\"bond-20 atom-19 atom-20\" d=\"M 234.7,6.8 L 216.5,17.1\" style=\"fill:none;fill-rule:evenodd;stroke:#000000;stroke-width:2.0px;stroke-linecap:butt;stroke-linejoin:miter;stroke-opacity:1\"/>\n",
       "<path class=\"bond-21 atom-20 atom-21\" d=\"M 216.5,17.1 L 216.3,38.0\" style=\"fill:none;fill-rule:evenodd;stroke:#000000;stroke-width:2.0px;stroke-linecap:butt;stroke-linejoin:miter;stroke-opacity:1\"/>\n",
       "<path class=\"bond-21 atom-20 atom-21\" d=\"M 220.7,20.3 L 220.5,34.9\" style=\"fill:none;fill-rule:evenodd;stroke:#000000;stroke-width:2.0px;stroke-linecap:butt;stroke-linejoin:miter;stroke-opacity:1\"/>\n",
       "<path class=\"bond-22 atom-21 atom-16\" d=\"M 216.3,38.0 L 234.3,48.6\" style=\"fill:none;fill-rule:evenodd;stroke:#000000;stroke-width:2.0px;stroke-linecap:butt;stroke-linejoin:miter;stroke-opacity:1\"/>\n",
       "<path class=\"bond-23 atom-8 atom-15\" d=\"M 215.9,79.8 L 234.1,69.5\" style=\"fill:none;fill-rule:evenodd;stroke:#000000;stroke-width:2.0px;stroke-linecap:butt;stroke-linejoin:miter;stroke-opacity:1\"/>\n",
       "<path class=\"bond-24 atom-22 atom-23\" d=\"M 252.1,80.1 L 270.3,69.9\" style=\"fill:none;fill-rule:evenodd;stroke:#000000;stroke-width:2.0px;stroke-linecap:butt;stroke-linejoin:miter;stroke-opacity:1\"/>\n",
       "<path class=\"bond-25 atom-23 atom-24\" d=\"M 270.3,69.9 L 288.3,80.5\" style=\"fill:none;fill-rule:evenodd;stroke:#000000;stroke-width:2.0px;stroke-linecap:butt;stroke-linejoin:miter;stroke-opacity:1\"/>\n",
       "<path class=\"bond-25 atom-23 atom-24\" d=\"M 275.1,67.9 L 287.7,75.3\" style=\"fill:none;fill-rule:evenodd;stroke:#000000;stroke-width:2.0px;stroke-linecap:butt;stroke-linejoin:miter;stroke-opacity:1\"/>\n",
       "<path class=\"bond-26 atom-24 atom-25\" d=\"M 288.3,80.5 L 306.5,70.2\" style=\"fill:none;fill-rule:evenodd;stroke:#000000;stroke-width:2.0px;stroke-linecap:butt;stroke-linejoin:miter;stroke-opacity:1\"/>\n",
       "<path class=\"bond-27 atom-25 atom-26\" d=\"M 306.5,70.2 L 306.7,49.3\" style=\"fill:none;fill-rule:evenodd;stroke:#000000;stroke-width:2.0px;stroke-linecap:butt;stroke-linejoin:miter;stroke-opacity:1\"/>\n",
       "<path class=\"bond-27 atom-25 atom-26\" d=\"M 302.3,67.1 L 302.5,52.4\" style=\"fill:none;fill-rule:evenodd;stroke:#000000;stroke-width:2.0px;stroke-linecap:butt;stroke-linejoin:miter;stroke-opacity:1\"/>\n",
       "<path class=\"bond-28 atom-26 atom-27\" d=\"M 306.7,49.3 L 288.7,38.7\" style=\"fill:none;fill-rule:evenodd;stroke:#000000;stroke-width:2.0px;stroke-linecap:butt;stroke-linejoin:miter;stroke-opacity:1\"/>\n",
       "<path class=\"bond-29 atom-27 atom-28\" d=\"M 288.7,38.7 L 270.5,49.0\" style=\"fill:none;fill-rule:evenodd;stroke:#000000;stroke-width:2.0px;stroke-linecap:butt;stroke-linejoin:miter;stroke-opacity:1\"/>\n",
       "<path class=\"bond-29 atom-27 atom-28\" d=\"M 288.0,43.9 L 275.3,51.1\" style=\"fill:none;fill-rule:evenodd;stroke:#000000;stroke-width:2.0px;stroke-linecap:butt;stroke-linejoin:miter;stroke-opacity:1\"/>\n",
       "<path class=\"bond-30 atom-28 atom-23\" d=\"M 270.5,49.0 L 270.3,69.9\" style=\"fill:none;fill-rule:evenodd;stroke:#000000;stroke-width:2.0px;stroke-linecap:butt;stroke-linejoin:miter;stroke-opacity:1\"/>\n",
       "<path class=\"bond-31 atom-15 atom-22\" d=\"M 234.1,69.5 L 252.1,80.1\" style=\"fill:none;fill-rule:evenodd;stroke:#000000;stroke-width:2.0px;stroke-linecap:butt;stroke-linejoin:miter;stroke-opacity:1\"/>\n",
       "<path class=\"bond-32 atom-29 atom-30\" d=\"M 251.9,101.0 L 269.9,111.7\" style=\"fill:none;fill-rule:evenodd;stroke:#000000;stroke-width:2.0px;stroke-linecap:butt;stroke-linejoin:miter;stroke-opacity:1\"/>\n",
       "<path class=\"bond-33 atom-30 atom-31\" d=\"M 269.9,111.7 L 269.7,132.6\" style=\"fill:none;fill-rule:evenodd;stroke:#000000;stroke-width:2.0px;stroke-linecap:butt;stroke-linejoin:miter;stroke-opacity:1\"/>\n",
       "<path class=\"bond-33 atom-30 atom-31\" d=\"M 274.0,114.8 L 273.9,129.5\" style=\"fill:none;fill-rule:evenodd;stroke:#000000;stroke-width:2.0px;stroke-linecap:butt;stroke-linejoin:miter;stroke-opacity:1\"/>\n",
       "<path class=\"bond-34 atom-31 atom-32\" d=\"M 269.7,132.6 L 287.6,143.2\" style=\"fill:none;fill-rule:evenodd;stroke:#000000;stroke-width:2.0px;stroke-linecap:butt;stroke-linejoin:miter;stroke-opacity:1\"/>\n",
       "<path class=\"bond-35 atom-32 atom-33\" d=\"M 287.6,143.2 L 305.8,132.9\" style=\"fill:none;fill-rule:evenodd;stroke:#000000;stroke-width:2.0px;stroke-linecap:butt;stroke-linejoin:miter;stroke-opacity:1\"/>\n",
       "<path class=\"bond-35 atom-32 atom-33\" d=\"M 288.3,138.0 L 301.1,130.8\" style=\"fill:none;fill-rule:evenodd;stroke:#000000;stroke-width:2.0px;stroke-linecap:butt;stroke-linejoin:miter;stroke-opacity:1\"/>\n",
       "<path class=\"bond-36 atom-33 atom-34\" d=\"M 305.8,132.9 L 306.1,112.0\" style=\"fill:none;fill-rule:evenodd;stroke:#000000;stroke-width:2.0px;stroke-linecap:butt;stroke-linejoin:miter;stroke-opacity:1\"/>\n",
       "<path class=\"bond-37 atom-34 atom-35\" d=\"M 306.1,112.0 L 288.1,101.4\" style=\"fill:none;fill-rule:evenodd;stroke:#000000;stroke-width:2.0px;stroke-linecap:butt;stroke-linejoin:miter;stroke-opacity:1\"/>\n",
       "<path class=\"bond-37 atom-34 atom-35\" d=\"M 301.2,114.0 L 288.6,106.6\" style=\"fill:none;fill-rule:evenodd;stroke:#000000;stroke-width:2.0px;stroke-linecap:butt;stroke-linejoin:miter;stroke-opacity:1\"/>\n",
       "<path class=\"bond-38 atom-35 atom-30\" d=\"M 288.1,101.4 L 269.9,111.7\" style=\"fill:none;fill-rule:evenodd;stroke:#000000;stroke-width:2.0px;stroke-linecap:butt;stroke-linejoin:miter;stroke-opacity:1\"/>\n",
       "<path class=\"bond-39 atom-22 atom-29\" d=\"M 252.1,80.1 L 251.9,101.0\" style=\"fill:none;fill-rule:evenodd;stroke:#000000;stroke-width:2.0px;stroke-linecap:butt;stroke-linejoin:miter;stroke-opacity:1\"/>\n",
       "<path class=\"bond-40 atom-29 atom-36\" d=\"M 251.9,101.0 L 246.8,105.8\" style=\"fill:none;fill-rule:evenodd;stroke:#000000;stroke-width:2.0px;stroke-linecap:butt;stroke-linejoin:miter;stroke-opacity:1\"/>\n",
       "<path class=\"atom-0\" d=\"M 195.8 45.3 L 196.6 45.3 L 196.6 47.8 L 199.6 47.8 L 199.6 45.3 L 200.4 45.3 L 200.4 51.2 L 199.6 51.2 L 199.6 48.5 L 196.6 48.5 L 196.6 51.2 L 195.8 51.2 L 195.8 45.3 \" fill=\"#000000\"/>\n",
       "<path class=\"atom-36\" d=\"M 241.5 105.7 L 242.3 105.7 L 242.3 108.2 L 245.3 108.2 L 245.3 105.7 L 246.1 105.7 L 246.1 111.6 L 245.3 111.6 L 245.3 108.9 L 242.3 108.9 L 242.3 111.6 L 241.5 111.6 L 241.5 105.7 \" fill=\"#000000\"/>\n",
       "<path class=\"atom-0\" d=\"M 202.1,48.2 L 202.1,48.3 L 202.1,48.3 L 202.1,48.3 L 202.1,48.4 L 202.1,48.4 L 202.1,48.4 L 202.0,48.5 L 202.0,48.5 L 202.0,48.5 L 202.0,48.6 L 201.9,48.6 L 201.9,48.6 L 201.9,48.6 L 201.8,48.6 L 201.8,48.6 L 201.8,48.6 L 201.7,48.7 L 201.7,48.7 L 201.7,48.7 L 201.6,48.7 L 201.6,48.6 L 201.6,48.6 L 201.5,48.6 L 201.5,48.6 L 201.5,48.6 L 201.4,48.6 L 201.4,48.5 L 201.4,48.5 L 201.4,48.5 L 201.3,48.5 L 201.3,48.4 L 201.3,48.4 L 201.3,48.4 L 201.3,48.3 L 201.3,48.3 L 201.3,48.3 L 201.3,48.2 L 201.3,48.2 L 201.3,48.1 L 201.3,48.1 L 201.3,48.1 L 201.3,48.0 L 201.3,48.0 L 201.4,48.0 L 201.4,48.0 L 201.4,47.9 L 201.4,47.9 L 201.5,47.9 L 201.5,47.9 L 201.5,47.9 L 201.6,47.8 L 201.6,47.8 L 201.6,47.8 L 201.7,47.8 L 201.7,47.8 L 201.7,47.8 L 201.8,47.8 L 201.8,47.8 L 201.8,47.8 L 201.9,47.9 L 201.9,47.9 L 201.9,47.9 L 202.0,47.9 L 202.0,47.9 L 202.0,48.0 L 202.0,48.0 L 202.1,48.0 L 202.1,48.1 L 202.1,48.1 L 202.1,48.1 L 202.1,48.2 L 202.1,48.2 L 202.1,48.2 L 201.7,48.2 Z\" style=\"fill:#000000;fill-rule:evenodd;fill-opacity:1;stroke:#000000;stroke-width:0.0px;stroke-linecap:butt;stroke-linejoin:miter;stroke-opacity:1;\"/>\n",
       "<path class=\"atom-36\" d=\"M 240.7,108.7 L 240.7,108.7 L 240.7,108.7 L 240.6,108.8 L 240.6,108.8 L 240.6,108.8 L 240.6,108.9 L 240.6,108.9 L 240.6,108.9 L 240.5,109.0 L 240.5,109.0 L 240.5,109.0 L 240.5,109.0 L 240.4,109.0 L 240.4,109.0 L 240.4,109.1 L 240.3,109.1 L 240.3,109.1 L 240.3,109.1 L 240.2,109.1 L 240.2,109.1 L 240.1,109.1 L 240.1,109.1 L 240.1,109.0 L 240.0,109.0 L 240.0,109.0 L 240.0,109.0 L 240.0,109.0 L 239.9,108.9 L 239.9,108.9 L 239.9,108.9 L 239.9,108.8 L 239.9,108.8 L 239.8,108.8 L 239.8,108.7 L 239.8,108.7 L 239.8,108.7 L 239.8,108.6 L 239.8,108.6 L 239.8,108.6 L 239.8,108.5 L 239.9,108.5 L 239.9,108.5 L 239.9,108.4 L 239.9,108.4 L 239.9,108.4 L 240.0,108.4 L 240.0,108.3 L 240.0,108.3 L 240.0,108.3 L 240.1,108.3 L 240.1,108.3 L 240.1,108.3 L 240.2,108.2 L 240.2,108.2 L 240.3,108.2 L 240.3,108.2 L 240.3,108.2 L 240.4,108.3 L 240.4,108.3 L 240.4,108.3 L 240.5,108.3 L 240.5,108.3 L 240.5,108.3 L 240.5,108.4 L 240.6,108.4 L 240.6,108.4 L 240.6,108.5 L 240.6,108.5 L 240.6,108.5 L 240.6,108.6 L 240.7,108.6 L 240.7,108.6 L 240.7,108.7 L 240.2,108.7 Z\" style=\"fill:#000000;fill-rule:evenodd;fill-opacity:1;stroke:#000000;stroke-width:0.0px;stroke-linecap:butt;stroke-linejoin:miter;stroke-opacity:1;\"/>\n",
       "</svg>"
      ],
      "text/plain": [
       "<IPython.core.display.SVG object>"
      ]
     },
     "execution_count": 34,
     "metadata": {},
     "output_type": "execute_result"
    }
   ],
   "source": [
    "big_smiles_gen(big)"
   ]
  },
  {
   "cell_type": "code",
   "execution_count": 35,
   "id": "167f42e2",
   "metadata": {},
   "outputs": [
    {
     "data": {
      "image/svg+xml": [
       "<svg xmlns=\"http://www.w3.org/2000/svg\" xmlns:rdkit=\"http://www.rdkit.org/xml\" xmlns:xlink=\"http://www.w3.org/1999/xlink\" version=\"1.1\" baseProfile=\"full\" xml:space=\"preserve\" width=\"450px\" height=\"150px\" viewBox=\"0 0 450 150\">\n",
       "<!-- END OF HEADER -->\n",
       "<rect style=\"opacity:1.0;fill:#FFFFFF;stroke:none\" width=\"450.0\" height=\"150.0\" x=\"0.0\" y=\"0.0\"> </rect>\n",
       "<path class=\"bond-0 atom-1 atom-2\" d=\"M 203.4,52.4 L 184.4,56.6\" style=\"fill:none;fill-rule:evenodd;stroke:#000000;stroke-width:2.0px;stroke-linecap:butt;stroke-linejoin:miter;stroke-opacity:1\"/>\n",
       "<path class=\"bond-1 atom-2 atom-3\" d=\"M 184.4,56.6 L 171.2,42.2\" style=\"fill:none;fill-rule:evenodd;stroke:#000000;stroke-width:2.0px;stroke-linecap:butt;stroke-linejoin:miter;stroke-opacity:1\"/>\n",
       "<path class=\"bond-1 atom-2 atom-3\" d=\"M 179.5,57.1 L 170.3,47.0\" style=\"fill:none;fill-rule:evenodd;stroke:#000000;stroke-width:2.0px;stroke-linecap:butt;stroke-linejoin:miter;stroke-opacity:1\"/>\n",
       "<path class=\"bond-2 atom-3 atom-4\" d=\"M 171.2,42.2 L 152.1,46.4\" style=\"fill:none;fill-rule:evenodd;stroke:#000000;stroke-width:2.0px;stroke-linecap:butt;stroke-linejoin:miter;stroke-opacity:1\"/>\n",
       "<path class=\"bond-3 atom-4 atom-5\" d=\"M 152.1,46.4 L 146.2,65.0\" style=\"fill:none;fill-rule:evenodd;stroke:#000000;stroke-width:2.0px;stroke-linecap:butt;stroke-linejoin:miter;stroke-opacity:1\"/>\n",
       "<path class=\"bond-3 atom-4 atom-5\" d=\"M 155.0,50.3 L 150.8,63.4\" style=\"fill:none;fill-rule:evenodd;stroke:#000000;stroke-width:2.0px;stroke-linecap:butt;stroke-linejoin:miter;stroke-opacity:1\"/>\n",
       "<path class=\"bond-4 atom-5 atom-6\" d=\"M 146.2,65.0 L 159.4,79.4\" style=\"fill:none;fill-rule:evenodd;stroke:#000000;stroke-width:2.0px;stroke-linecap:butt;stroke-linejoin:miter;stroke-opacity:1\"/>\n",
       "<path class=\"bond-5 atom-6 atom-7\" d=\"M 159.4,79.4 L 178.4,75.2\" style=\"fill:none;fill-rule:evenodd;stroke:#000000;stroke-width:2.0px;stroke-linecap:butt;stroke-linejoin:miter;stroke-opacity:1\"/>\n",
       "<path class=\"bond-5 atom-6 atom-7\" d=\"M 161.4,75.0 L 174.7,72.0\" style=\"fill:none;fill-rule:evenodd;stroke:#000000;stroke-width:2.0px;stroke-linecap:butt;stroke-linejoin:miter;stroke-opacity:1\"/>\n",
       "<path class=\"bond-6 atom-7 atom-2\" d=\"M 178.4,75.2 L 184.4,56.6\" style=\"fill:none;fill-rule:evenodd;stroke:#000000;stroke-width:2.0px;stroke-linecap:butt;stroke-linejoin:miter;stroke-opacity:1\"/>\n",
       "<path class=\"bond-7 atom-0 atom-1\" d=\"M 208.3,37.2 L 203.4,52.4\" style=\"fill:none;fill-rule:evenodd;stroke:#000000;stroke-width:2.0px;stroke-linecap:butt;stroke-linejoin:miter;stroke-opacity:1\"/>\n",
       "<path class=\"bond-8 atom-8 atom-9\" d=\"M 216.6,66.9 L 210.7,85.5\" style=\"fill:none;fill-rule:evenodd;stroke:#000000;stroke-width:2.0px;stroke-linecap:butt;stroke-linejoin:miter;stroke-opacity:1\"/>\n",
       "<path class=\"bond-9 atom-9 atom-10\" d=\"M 210.7,85.5 L 191.6,89.7\" style=\"fill:none;fill-rule:evenodd;stroke:#000000;stroke-width:2.0px;stroke-linecap:butt;stroke-linejoin:miter;stroke-opacity:1\"/>\n",
       "<path class=\"bond-9 atom-9 atom-10\" d=\"M 208.7,89.9 L 195.3,92.8\" style=\"fill:none;fill-rule:evenodd;stroke:#000000;stroke-width:2.0px;stroke-linecap:butt;stroke-linejoin:miter;stroke-opacity:1\"/>\n",
       "<path class=\"bond-10 atom-10 atom-11\" d=\"M 191.6,89.7 L 185.7,108.3\" style=\"fill:none;fill-rule:evenodd;stroke:#000000;stroke-width:2.0px;stroke-linecap:butt;stroke-linejoin:miter;stroke-opacity:1\"/>\n",
       "<path class=\"bond-11 atom-11 atom-12\" d=\"M 185.7,108.3 L 198.9,122.7\" style=\"fill:none;fill-rule:evenodd;stroke:#000000;stroke-width:2.0px;stroke-linecap:butt;stroke-linejoin:miter;stroke-opacity:1\"/>\n",
       "<path class=\"bond-11 atom-11 atom-12\" d=\"M 190.6,107.8 L 199.8,117.9\" style=\"fill:none;fill-rule:evenodd;stroke:#000000;stroke-width:2.0px;stroke-linecap:butt;stroke-linejoin:miter;stroke-opacity:1\"/>\n",
       "<path class=\"bond-12 atom-12 atom-13\" d=\"M 198.9,122.7 L 217.9,118.5\" style=\"fill:none;fill-rule:evenodd;stroke:#000000;stroke-width:2.0px;stroke-linecap:butt;stroke-linejoin:miter;stroke-opacity:1\"/>\n",
       "<path class=\"bond-13 atom-13 atom-14\" d=\"M 217.9,118.5 L 223.9,99.9\" style=\"fill:none;fill-rule:evenodd;stroke:#000000;stroke-width:2.0px;stroke-linecap:butt;stroke-linejoin:miter;stroke-opacity:1\"/>\n",
       "<path class=\"bond-13 atom-13 atom-14\" d=\"M 215.1,114.5 L 219.2,101.5\" style=\"fill:none;fill-rule:evenodd;stroke:#000000;stroke-width:2.0px;stroke-linecap:butt;stroke-linejoin:miter;stroke-opacity:1\"/>\n",
       "<path class=\"bond-14 atom-14 atom-9\" d=\"M 223.9,99.9 L 210.7,85.5\" style=\"fill:none;fill-rule:evenodd;stroke:#000000;stroke-width:2.0px;stroke-linecap:butt;stroke-linejoin:miter;stroke-opacity:1\"/>\n",
       "<path class=\"bond-15 atom-1 atom-8\" d=\"M 203.4,52.4 L 216.6,66.9\" style=\"fill:none;fill-rule:evenodd;stroke:#000000;stroke-width:2.0px;stroke-linecap:butt;stroke-linejoin:miter;stroke-opacity:1\"/>\n",
       "<path class=\"bond-16 atom-15 atom-16\" d=\"M 235.7,62.7 L 241.6,44.0\" style=\"fill:none;fill-rule:evenodd;stroke:#000000;stroke-width:2.0px;stroke-linecap:butt;stroke-linejoin:miter;stroke-opacity:1\"/>\n",
       "<path class=\"bond-17 atom-16 atom-17\" d=\"M 241.6,44.0 L 260.7,39.9\" style=\"fill:none;fill-rule:evenodd;stroke:#000000;stroke-width:2.0px;stroke-linecap:butt;stroke-linejoin:miter;stroke-opacity:1\"/>\n",
       "<path class=\"bond-17 atom-16 atom-17\" d=\"M 243.6,39.6 L 257.0,36.7\" style=\"fill:none;fill-rule:evenodd;stroke:#000000;stroke-width:2.0px;stroke-linecap:butt;stroke-linejoin:miter;stroke-opacity:1\"/>\n",
       "<path class=\"bond-18 atom-17 atom-18\" d=\"M 260.7,39.9 L 266.6,21.2\" style=\"fill:none;fill-rule:evenodd;stroke:#000000;stroke-width:2.0px;stroke-linecap:butt;stroke-linejoin:miter;stroke-opacity:1\"/>\n",
       "<path class=\"bond-19 atom-18 atom-19\" d=\"M 266.6,21.2 L 253.4,6.8\" style=\"fill:none;fill-rule:evenodd;stroke:#000000;stroke-width:2.0px;stroke-linecap:butt;stroke-linejoin:miter;stroke-opacity:1\"/>\n",
       "<path class=\"bond-19 atom-18 atom-19\" d=\"M 261.7,21.7 L 252.5,11.6\" style=\"fill:none;fill-rule:evenodd;stroke:#000000;stroke-width:2.0px;stroke-linecap:butt;stroke-linejoin:miter;stroke-opacity:1\"/>\n",
       "<path class=\"bond-20 atom-19 atom-20\" d=\"M 253.4,6.8 L 234.3,11.0\" style=\"fill:none;fill-rule:evenodd;stroke:#000000;stroke-width:2.0px;stroke-linecap:butt;stroke-linejoin:miter;stroke-opacity:1\"/>\n",
       "<path class=\"bond-21 atom-20 atom-21\" d=\"M 234.3,11.0 L 228.4,29.6\" style=\"fill:none;fill-rule:evenodd;stroke:#000000;stroke-width:2.0px;stroke-linecap:butt;stroke-linejoin:miter;stroke-opacity:1\"/>\n",
       "<path class=\"bond-21 atom-20 atom-21\" d=\"M 237.2,15.0 L 233.0,28.0\" style=\"fill:none;fill-rule:evenodd;stroke:#000000;stroke-width:2.0px;stroke-linecap:butt;stroke-linejoin:miter;stroke-opacity:1\"/>\n",
       "<path class=\"bond-22 atom-21 atom-16\" d=\"M 228.4,29.6 L 241.6,44.0\" style=\"fill:none;fill-rule:evenodd;stroke:#000000;stroke-width:2.0px;stroke-linecap:butt;stroke-linejoin:miter;stroke-opacity:1\"/>\n",
       "<path class=\"bond-23 atom-8 atom-15\" d=\"M 216.6,66.9 L 235.7,62.7\" style=\"fill:none;fill-rule:evenodd;stroke:#000000;stroke-width:2.0px;stroke-linecap:butt;stroke-linejoin:miter;stroke-opacity:1\"/>\n",
       "<path class=\"bond-24 atom-22 atom-23\" d=\"M 248.8,77.1 L 242.9,95.7\" style=\"fill:none;fill-rule:evenodd;stroke:#000000;stroke-width:2.0px;stroke-linecap:butt;stroke-linejoin:miter;stroke-opacity:1\"/>\n",
       "<path class=\"bond-25 atom-23 atom-24\" d=\"M 242.9,95.7 L 256.1,110.1\" style=\"fill:none;fill-rule:evenodd;stroke:#000000;stroke-width:2.0px;stroke-linecap:butt;stroke-linejoin:miter;stroke-opacity:1\"/>\n",
       "<path class=\"bond-25 atom-23 atom-24\" d=\"M 242.0,100.5 L 251.2,110.6\" style=\"fill:none;fill-rule:evenodd;stroke:#000000;stroke-width:2.0px;stroke-linecap:butt;stroke-linejoin:miter;stroke-opacity:1\"/>\n",
       "<path class=\"bond-26 atom-24 atom-25\" d=\"M 256.1,110.1 L 250.2,128.8\" style=\"fill:none;fill-rule:evenodd;stroke:#000000;stroke-width:2.0px;stroke-linecap:butt;stroke-linejoin:miter;stroke-opacity:1\"/>\n",
       "<path class=\"bond-27 atom-25 atom-26\" d=\"M 250.2,128.8 L 231.1,132.9\" style=\"fill:none;fill-rule:evenodd;stroke:#000000;stroke-width:2.0px;stroke-linecap:butt;stroke-linejoin:miter;stroke-opacity:1\"/>\n",
       "<path class=\"bond-27 atom-25 atom-26\" d=\"M 246.5,125.6 L 233.1,128.5\" style=\"fill:none;fill-rule:evenodd;stroke:#000000;stroke-width:2.0px;stroke-linecap:butt;stroke-linejoin:miter;stroke-opacity:1\"/>\n",
       "<path class=\"bond-28 atom-26 atom-27\" d=\"M 231.1,132.9 L 217.9,118.5\" style=\"fill:none;fill-rule:evenodd;stroke:#000000;stroke-width:2.0px;stroke-linecap:butt;stroke-linejoin:miter;stroke-opacity:1\"/>\n",
       "<path class=\"bond-29 atom-27 atom-28\" d=\"M 217.9,118.5 L 223.9,99.9\" style=\"fill:none;fill-rule:evenodd;stroke:#000000;stroke-width:2.0px;stroke-linecap:butt;stroke-linejoin:miter;stroke-opacity:1\"/>\n",
       "<path class=\"bond-29 atom-27 atom-28\" d=\"M 222.6,116.9 L 226.7,103.9\" style=\"fill:none;fill-rule:evenodd;stroke:#000000;stroke-width:2.0px;stroke-linecap:butt;stroke-linejoin:miter;stroke-opacity:1\"/>\n",
       "<path class=\"bond-30 atom-28 atom-23\" d=\"M 223.9,99.9 L 242.9,95.7\" style=\"fill:none;fill-rule:evenodd;stroke:#000000;stroke-width:2.0px;stroke-linecap:butt;stroke-linejoin:miter;stroke-opacity:1\"/>\n",
       "<path class=\"bond-31 atom-15 atom-22\" d=\"M 235.7,62.7 L 248.8,77.1\" style=\"fill:none;fill-rule:evenodd;stroke:#000000;stroke-width:2.0px;stroke-linecap:butt;stroke-linejoin:miter;stroke-opacity:1\"/>\n",
       "<path class=\"bond-32 atom-29 atom-30\" d=\"M 267.9,72.9 L 273.8,54.3\" style=\"fill:none;fill-rule:evenodd;stroke:#000000;stroke-width:2.0px;stroke-linecap:butt;stroke-linejoin:miter;stroke-opacity:1\"/>\n",
       "<path class=\"bond-33 atom-30 atom-31\" d=\"M 273.8,54.3 L 292.9,50.1\" style=\"fill:none;fill-rule:evenodd;stroke:#000000;stroke-width:2.0px;stroke-linecap:butt;stroke-linejoin:miter;stroke-opacity:1\"/>\n",
       "<path class=\"bond-33 atom-30 atom-31\" d=\"M 275.9,49.8 L 289.2,46.9\" style=\"fill:none;fill-rule:evenodd;stroke:#000000;stroke-width:2.0px;stroke-linecap:butt;stroke-linejoin:miter;stroke-opacity:1\"/>\n",
       "<path class=\"bond-34 atom-31 atom-32\" d=\"M 292.9,50.1 L 298.8,31.5\" style=\"fill:none;fill-rule:evenodd;stroke:#000000;stroke-width:2.0px;stroke-linecap:butt;stroke-linejoin:miter;stroke-opacity:1\"/>\n",
       "<path class=\"bond-35 atom-32 atom-33\" d=\"M 298.8,31.5 L 285.7,17.1\" style=\"fill:none;fill-rule:evenodd;stroke:#000000;stroke-width:2.0px;stroke-linecap:butt;stroke-linejoin:miter;stroke-opacity:1\"/>\n",
       "<path class=\"bond-35 atom-32 atom-33\" d=\"M 294.0,32.0 L 284.8,21.9\" style=\"fill:none;fill-rule:evenodd;stroke:#000000;stroke-width:2.0px;stroke-linecap:butt;stroke-linejoin:miter;stroke-opacity:1\"/>\n",
       "<path class=\"bond-36 atom-33 atom-34\" d=\"M 285.7,17.1 L 266.6,21.2\" style=\"fill:none;fill-rule:evenodd;stroke:#000000;stroke-width:2.0px;stroke-linecap:butt;stroke-linejoin:miter;stroke-opacity:1\"/>\n",
       "<path class=\"bond-37 atom-34 atom-35\" d=\"M 266.6,21.2 L 260.7,39.9\" style=\"fill:none;fill-rule:evenodd;stroke:#000000;stroke-width:2.0px;stroke-linecap:butt;stroke-linejoin:miter;stroke-opacity:1\"/>\n",
       "<path class=\"bond-37 atom-34 atom-35\" d=\"M 269.4,25.2 L 265.3,38.3\" style=\"fill:none;fill-rule:evenodd;stroke:#000000;stroke-width:2.0px;stroke-linecap:butt;stroke-linejoin:miter;stroke-opacity:1\"/>\n",
       "<path class=\"bond-38 atom-35 atom-30\" d=\"M 260.7,39.9 L 273.8,54.3\" style=\"fill:none;fill-rule:evenodd;stroke:#000000;stroke-width:2.0px;stroke-linecap:butt;stroke-linejoin:miter;stroke-opacity:1\"/>\n",
       "<path class=\"bond-39 atom-22 atom-29\" d=\"M 248.8,77.1 L 267.9,72.9\" style=\"fill:none;fill-rule:evenodd;stroke:#000000;stroke-width:2.0px;stroke-linecap:butt;stroke-linejoin:miter;stroke-opacity:1\"/>\n",
       "<path class=\"bond-40 atom-36 atom-37\" d=\"M 281.1,87.3 L 275.2,106.0\" style=\"fill:none;fill-rule:evenodd;stroke:#000000;stroke-width:2.0px;stroke-linecap:butt;stroke-linejoin:miter;stroke-opacity:1\"/>\n",
       "<path class=\"bond-41 atom-37 atom-38\" d=\"M 275.2,106.0 L 256.1,110.1\" style=\"fill:none;fill-rule:evenodd;stroke:#000000;stroke-width:2.0px;stroke-linecap:butt;stroke-linejoin:miter;stroke-opacity:1\"/>\n",
       "<path class=\"bond-41 atom-37 atom-38\" d=\"M 273.2,110.4 L 259.8,113.3\" style=\"fill:none;fill-rule:evenodd;stroke:#000000;stroke-width:2.0px;stroke-linecap:butt;stroke-linejoin:miter;stroke-opacity:1\"/>\n",
       "<path class=\"bond-42 atom-38 atom-39\" d=\"M 256.1,110.1 L 250.2,128.8\" style=\"fill:none;fill-rule:evenodd;stroke:#000000;stroke-width:2.0px;stroke-linecap:butt;stroke-linejoin:miter;stroke-opacity:1\"/>\n",
       "<path class=\"bond-43 atom-39 atom-40\" d=\"M 250.2,128.8 L 263.3,143.2\" style=\"fill:none;fill-rule:evenodd;stroke:#000000;stroke-width:2.0px;stroke-linecap:butt;stroke-linejoin:miter;stroke-opacity:1\"/>\n",
       "<path class=\"bond-43 atom-39 atom-40\" d=\"M 255.0,128.3 L 264.3,138.4\" style=\"fill:none;fill-rule:evenodd;stroke:#000000;stroke-width:2.0px;stroke-linecap:butt;stroke-linejoin:miter;stroke-opacity:1\"/>\n",
       "<path class=\"bond-44 atom-40 atom-41\" d=\"M 263.3,143.2 L 282.4,139.0\" style=\"fill:none;fill-rule:evenodd;stroke:#000000;stroke-width:2.0px;stroke-linecap:butt;stroke-linejoin:miter;stroke-opacity:1\"/>\n",
       "<path class=\"bond-45 atom-41 atom-42\" d=\"M 282.4,139.0 L 288.3,120.4\" style=\"fill:none;fill-rule:evenodd;stroke:#000000;stroke-width:2.0px;stroke-linecap:butt;stroke-linejoin:miter;stroke-opacity:1\"/>\n",
       "<path class=\"bond-45 atom-41 atom-42\" d=\"M 279.6,135.0 L 283.7,122.0\" style=\"fill:none;fill-rule:evenodd;stroke:#000000;stroke-width:2.0px;stroke-linecap:butt;stroke-linejoin:miter;stroke-opacity:1\"/>\n",
       "<path class=\"bond-46 atom-42 atom-37\" d=\"M 288.3,120.4 L 275.2,106.0\" style=\"fill:none;fill-rule:evenodd;stroke:#000000;stroke-width:2.0px;stroke-linecap:butt;stroke-linejoin:miter;stroke-opacity:1\"/>\n",
       "<path class=\"bond-47 atom-29 atom-36\" d=\"M 267.9,72.9 L 281.1,87.3\" style=\"fill:none;fill-rule:evenodd;stroke:#000000;stroke-width:2.0px;stroke-linecap:butt;stroke-linejoin:miter;stroke-opacity:1\"/>\n",
       "<path class=\"bond-48 atom-36 atom-43\" d=\"M 281.1,87.3 L 297.4,83.8\" style=\"fill:none;fill-rule:evenodd;stroke:#000000;stroke-width:2.0px;stroke-linecap:butt;stroke-linejoin:miter;stroke-opacity:1\"/>\n",
       "<path class=\"atom-0\" d=\"M 207.2 31.0 L 207.9 31.0 L 207.9 33.4 L 210.8 33.4 L 210.8 31.0 L 211.5 31.0 L 211.5 36.6 L 210.8 36.6 L 210.8 34.0 L 207.9 34.0 L 207.9 36.6 L 207.2 36.6 L 207.2 31.0 \" fill=\"#000000\"/>\n",
       "<path class=\"atom-43\" d=\"M 298.0 80.4 L 298.8 80.4 L 298.8 82.7 L 301.6 82.7 L 301.6 80.4 L 302.3 80.4 L 302.3 85.9 L 301.6 85.9 L 301.6 83.4 L 298.8 83.4 L 298.8 85.9 L 298.0 85.9 L 298.0 80.4 \" fill=\"#000000\"/>\n",
       "<path class=\"atom-0\" d=\"M 213.1,33.8 L 213.1,33.8 L 213.1,33.9 L 213.1,33.9 L 213.1,33.9 L 213.0,34.0 L 213.0,34.0 L 213.0,34.0 L 213.0,34.1 L 213.0,34.1 L 212.9,34.1 L 212.9,34.1 L 212.9,34.1 L 212.9,34.2 L 212.8,34.2 L 212.8,34.2 L 212.8,34.2 L 212.7,34.2 L 212.7,34.2 L 212.7,34.2 L 212.6,34.2 L 212.6,34.2 L 212.6,34.2 L 212.5,34.2 L 212.5,34.1 L 212.5,34.1 L 212.4,34.1 L 212.4,34.1 L 212.4,34.1 L 212.4,34.0 L 212.4,34.0 L 212.3,34.0 L 212.3,34.0 L 212.3,33.9 L 212.3,33.9 L 212.3,33.9 L 212.3,33.8 L 212.3,33.8 L 212.3,33.8 L 212.3,33.7 L 212.3,33.7 L 212.3,33.7 L 212.3,33.6 L 212.4,33.6 L 212.4,33.6 L 212.4,33.5 L 212.4,33.5 L 212.4,33.5 L 212.5,33.5 L 212.5,33.5 L 212.5,33.4 L 212.6,33.4 L 212.6,33.4 L 212.6,33.4 L 212.7,33.4 L 212.7,33.4 L 212.7,33.4 L 212.8,33.4 L 212.8,33.4 L 212.8,33.4 L 212.9,33.5 L 212.9,33.5 L 212.9,33.5 L 212.9,33.5 L 213.0,33.5 L 213.0,33.6 L 213.0,33.6 L 213.0,33.6 L 213.0,33.6 L 213.1,33.7 L 213.1,33.7 L 213.1,33.7 L 213.1,33.8 L 213.1,33.8 L 212.7,33.8 Z\" style=\"fill:#000000;fill-rule:evenodd;fill-opacity:1;stroke:#000000;stroke-width:0.0px;stroke-linecap:butt;stroke-linejoin:miter;stroke-opacity:1;\"/>\n",
       "<path class=\"atom-43\" d=\"M 303.9,83.1 L 303.9,83.2 L 303.9,83.2 L 303.9,83.2 L 303.9,83.3 L 303.9,83.3 L 303.8,83.3 L 303.8,83.4 L 303.8,83.4 L 303.8,83.4 L 303.8,83.4 L 303.7,83.5 L 303.7,83.5 L 303.7,83.5 L 303.6,83.5 L 303.6,83.5 L 303.6,83.5 L 303.5,83.5 L 303.5,83.5 L 303.5,83.5 L 303.4,83.5 L 303.4,83.5 L 303.4,83.5 L 303.3,83.5 L 303.3,83.5 L 303.3,83.5 L 303.3,83.5 L 303.2,83.4 L 303.2,83.4 L 303.2,83.4 L 303.2,83.4 L 303.2,83.3 L 303.1,83.3 L 303.1,83.3 L 303.1,83.2 L 303.1,83.2 L 303.1,83.2 L 303.1,83.1 L 303.1,83.1 L 303.1,83.1 L 303.1,83.0 L 303.1,83.0 L 303.2,83.0 L 303.2,82.9 L 303.2,82.9 L 303.2,82.9 L 303.2,82.9 L 303.3,82.8 L 303.3,82.8 L 303.3,82.8 L 303.3,82.8 L 303.4,82.8 L 303.4,82.8 L 303.4,82.8 L 303.5,82.8 L 303.5,82.8 L 303.5,82.8 L 303.6,82.8 L 303.6,82.8 L 303.6,82.8 L 303.7,82.8 L 303.7,82.8 L 303.7,82.8 L 303.8,82.9 L 303.8,82.9 L 303.8,82.9 L 303.8,82.9 L 303.8,83.0 L 303.9,83.0 L 303.9,83.0 L 303.9,83.0 L 303.9,83.1 L 303.9,83.1 L 303.9,83.1 L 303.5,83.1 Z\" style=\"fill:#000000;fill-rule:evenodd;fill-opacity:1;stroke:#000000;stroke-width:0.0px;stroke-linecap:butt;stroke-linejoin:miter;stroke-opacity:1;\"/>\n",
       "<path class=\"atom-13\" d=\"M 216.6,117.2 L 216.6,119.8 L 219.2,119.8 L 219.2,117.2 L 216.6,117.2\" style=\"fill:none;stroke:#FF0000;stroke-width:2.0px;stroke-linecap:butt;stroke-linejoin:miter;stroke-opacity:1;\"/>\n",
       "<path class=\"atom-14\" d=\"M 222.6,98.6 L 222.6,101.2 L 225.2,101.2 L 225.2,98.6 L 222.6,98.6\" style=\"fill:none;stroke:#FF0000;stroke-width:2.0px;stroke-linecap:butt;stroke-linejoin:miter;stroke-opacity:1;\"/>\n",
       "<path class=\"atom-17\" d=\"M 259.4,38.6 L 259.4,41.2 L 262.0,41.2 L 262.0,38.6 L 259.4,38.6\" style=\"fill:none;stroke:#FF0000;stroke-width:2.0px;stroke-linecap:butt;stroke-linejoin:miter;stroke-opacity:1;\"/>\n",
       "<path class=\"atom-18\" d=\"M 265.3,19.9 L 265.3,22.5 L 267.9,22.5 L 267.9,19.9 L 265.3,19.9\" style=\"fill:none;stroke:#FF0000;stroke-width:2.0px;stroke-linecap:butt;stroke-linejoin:miter;stroke-opacity:1;\"/>\n",
       "<path class=\"atom-24\" d=\"M 254.8,108.8 L 254.8,111.4 L 257.4,111.4 L 257.4,108.8 L 254.8,108.8\" style=\"fill:none;stroke:#FF0000;stroke-width:2.0px;stroke-linecap:butt;stroke-linejoin:miter;stroke-opacity:1;\"/>\n",
       "<path class=\"atom-25\" d=\"M 248.9,127.5 L 248.9,130.1 L 251.5,130.1 L 251.5,127.5 L 248.9,127.5\" style=\"fill:none;stroke:#FF0000;stroke-width:2.0px;stroke-linecap:butt;stroke-linejoin:miter;stroke-opacity:1;\"/>\n",
       "</svg>"
      ],
      "text/plain": [
       "<IPython.core.display.SVG object>"
      ]
     },
     "execution_count": 35,
     "metadata": {},
     "output_type": "execute_result"
    }
   ],
   "source": [
    "big_smiles_gen(big)"
   ]
  },
  {
   "cell_type": "markdown",
   "id": "7190b531",
   "metadata": {},
   "source": [
    "## Poly(acrylic acid butyl - r - acrylamide) (25% acrylamide)"
   ]
  },
  {
   "cell_type": "code",
   "execution_count": 36,
   "id": "f0c07851",
   "metadata": {},
   "outputs": [
    {
     "data": {
      "image/svg+xml": [
       "<svg xmlns=\"http://www.w3.org/2000/svg\" xmlns:rdkit=\"http://www.rdkit.org/xml\" xmlns:xlink=\"http://www.w3.org/1999/xlink\" version=\"1.1\" baseProfile=\"full\" xml:space=\"preserve\" width=\"450px\" height=\"150px\" viewBox=\"0 0 450 150\">\n",
       "<!-- END OF HEADER -->\n",
       "<rect style=\"opacity:1.0;fill:#FFFFFF;stroke:none\" width=\"450.0\" height=\"150.0\" x=\"0.0\" y=\"0.0\"> </rect>\n",
       "<path class=\"bond-0 atom-1 atom-2\" d=\"M 190.9,93.1 L 179.2,103.2\" style=\"fill:none;fill-rule:evenodd;stroke:#000000;stroke-width:2.0px;stroke-linecap:butt;stroke-linejoin:miter;stroke-opacity:1\"/>\n",
       "<path class=\"bond-1 atom-2 atom-3\" d=\"M 179.2,103.2 L 164.6,98.1\" style=\"fill:none;fill-rule:evenodd;stroke:#000000;stroke-width:2.0px;stroke-linecap:butt;stroke-linejoin:miter;stroke-opacity:1\"/>\n",
       "<path class=\"bond-2 atom-3 atom-4\" d=\"M 163.1,98.4 L 161.9,92.2\" style=\"fill:none;fill-rule:evenodd;stroke:#000000;stroke-width:2.0px;stroke-linecap:butt;stroke-linejoin:miter;stroke-opacity:1\"/>\n",
       "<path class=\"bond-2 atom-3 atom-4\" d=\"M 161.9,92.2 L 160.7,86.0\" style=\"fill:none;fill-rule:evenodd;stroke:#FF0000;stroke-width:2.0px;stroke-linecap:butt;stroke-linejoin:miter;stroke-opacity:1\"/>\n",
       "<path class=\"bond-2 atom-3 atom-4\" d=\"M 166.1,97.8 L 164.9,91.6\" style=\"fill:none;fill-rule:evenodd;stroke:#000000;stroke-width:2.0px;stroke-linecap:butt;stroke-linejoin:miter;stroke-opacity:1\"/>\n",
       "<path class=\"bond-2 atom-3 atom-4\" d=\"M 164.9,91.6 L 163.8,85.4\" style=\"fill:none;fill-rule:evenodd;stroke:#FF0000;stroke-width:2.0px;stroke-linecap:butt;stroke-linejoin:miter;stroke-opacity:1\"/>\n",
       "<path class=\"bond-3 atom-3 atom-5\" d=\"M 164.6,98.1 L 159.8,102.2\" style=\"fill:none;fill-rule:evenodd;stroke:#000000;stroke-width:2.0px;stroke-linecap:butt;stroke-linejoin:miter;stroke-opacity:1\"/>\n",
       "<path class=\"bond-3 atom-3 atom-5\" d=\"M 159.8,102.2 L 155.0,106.3\" style=\"fill:none;fill-rule:evenodd;stroke:#0000FF;stroke-width:2.0px;stroke-linecap:butt;stroke-linejoin:miter;stroke-opacity:1\"/>\n",
       "<path class=\"bond-4 atom-0 atom-1\" d=\"M 188.6,80.6 L 190.9,93.1\" style=\"fill:none;fill-rule:evenodd;stroke:#000000;stroke-width:2.0px;stroke-linecap:butt;stroke-linejoin:miter;stroke-opacity:1\"/>\n",
       "<path class=\"bond-5 atom-6 atom-7\" d=\"M 205.6,98.3 L 208.4,113.5\" style=\"fill:none;fill-rule:evenodd;stroke:#000000;stroke-width:2.0px;stroke-linecap:butt;stroke-linejoin:miter;stroke-opacity:1\"/>\n",
       "<path class=\"bond-6 atom-7 atom-8\" d=\"M 208.4,113.5 L 196.7,123.6\" style=\"fill:none;fill-rule:evenodd;stroke:#000000;stroke-width:2.0px;stroke-linecap:butt;stroke-linejoin:miter;stroke-opacity:1\"/>\n",
       "<path class=\"bond-7 atom-8 atom-9\" d=\"M 196.2,125.0 L 190.1,122.9\" style=\"fill:none;fill-rule:evenodd;stroke:#000000;stroke-width:2.0px;stroke-linecap:butt;stroke-linejoin:miter;stroke-opacity:1\"/>\n",
       "<path class=\"bond-7 atom-8 atom-9\" d=\"M 190.1,122.9 L 184.1,120.8\" style=\"fill:none;fill-rule:evenodd;stroke:#FF0000;stroke-width:2.0px;stroke-linecap:butt;stroke-linejoin:miter;stroke-opacity:1\"/>\n",
       "<path class=\"bond-7 atom-8 atom-9\" d=\"M 197.2,122.1 L 191.1,120.0\" style=\"fill:none;fill-rule:evenodd;stroke:#000000;stroke-width:2.0px;stroke-linecap:butt;stroke-linejoin:miter;stroke-opacity:1\"/>\n",
       "<path class=\"bond-7 atom-8 atom-9\" d=\"M 191.1,120.0 L 185.1,117.9\" style=\"fill:none;fill-rule:evenodd;stroke:#FF0000;stroke-width:2.0px;stroke-linecap:butt;stroke-linejoin:miter;stroke-opacity:1\"/>\n",
       "<path class=\"bond-8 atom-8 atom-10\" d=\"M 196.7,123.6 L 197.9,129.8\" style=\"fill:none;fill-rule:evenodd;stroke:#000000;stroke-width:2.0px;stroke-linecap:butt;stroke-linejoin:miter;stroke-opacity:1\"/>\n",
       "<path class=\"bond-8 atom-8 atom-10\" d=\"M 197.9,129.8 L 199.0,136.1\" style=\"fill:none;fill-rule:evenodd;stroke:#0000FF;stroke-width:2.0px;stroke-linecap:butt;stroke-linejoin:miter;stroke-opacity:1\"/>\n",
       "<path class=\"bond-9 atom-1 atom-6\" d=\"M 190.9,93.1 L 205.6,98.3\" style=\"fill:none;fill-rule:evenodd;stroke:#000000;stroke-width:2.0px;stroke-linecap:butt;stroke-linejoin:miter;stroke-opacity:1\"/>\n",
       "<path class=\"bond-10 atom-11 atom-12\" d=\"M 217.3,88.2 L 231.9,93.3\" style=\"fill:none;fill-rule:evenodd;stroke:#000000;stroke-width:2.0px;stroke-linecap:butt;stroke-linejoin:miter;stroke-opacity:1\"/>\n",
       "<path class=\"bond-11 atom-12 atom-13\" d=\"M 231.9,93.3 L 234.8,108.5\" style=\"fill:none;fill-rule:evenodd;stroke:#000000;stroke-width:2.0px;stroke-linecap:butt;stroke-linejoin:miter;stroke-opacity:1\"/>\n",
       "<path class=\"bond-12 atom-13 atom-14\" d=\"M 235.8,109.7 L 231.2,113.7\" style=\"fill:none;fill-rule:evenodd;stroke:#000000;stroke-width:2.0px;stroke-linecap:butt;stroke-linejoin:miter;stroke-opacity:1\"/>\n",
       "<path class=\"bond-12 atom-13 atom-14\" d=\"M 231.2,113.7 L 226.6,117.6\" style=\"fill:none;fill-rule:evenodd;stroke:#FF0000;stroke-width:2.0px;stroke-linecap:butt;stroke-linejoin:miter;stroke-opacity:1\"/>\n",
       "<path class=\"bond-12 atom-13 atom-14\" d=\"M 233.8,107.3 L 229.2,111.3\" style=\"fill:none;fill-rule:evenodd;stroke:#000000;stroke-width:2.0px;stroke-linecap:butt;stroke-linejoin:miter;stroke-opacity:1\"/>\n",
       "<path class=\"bond-12 atom-13 atom-14\" d=\"M 229.2,111.3 L 224.6,115.3\" style=\"fill:none;fill-rule:evenodd;stroke:#FF0000;stroke-width:2.0px;stroke-linecap:butt;stroke-linejoin:miter;stroke-opacity:1\"/>\n",
       "<path class=\"bond-13 atom-13 atom-15\" d=\"M 234.8,108.5 L 241.0,110.7\" style=\"fill:none;fill-rule:evenodd;stroke:#000000;stroke-width:2.0px;stroke-linecap:butt;stroke-linejoin:miter;stroke-opacity:1\"/>\n",
       "<path class=\"bond-13 atom-13 atom-15\" d=\"M 241.0,110.7 L 247.2,112.9\" style=\"fill:none;fill-rule:evenodd;stroke:#0000FF;stroke-width:2.0px;stroke-linecap:butt;stroke-linejoin:miter;stroke-opacity:1\"/>\n",
       "<path class=\"bond-14 atom-6 atom-11\" d=\"M 205.6,98.3 L 217.3,88.2\" style=\"fill:none;fill-rule:evenodd;stroke:#000000;stroke-width:2.0px;stroke-linecap:butt;stroke-linejoin:miter;stroke-opacity:1\"/>\n",
       "<path class=\"bond-15 atom-16 atom-17\" d=\"M 214.4,73.0 L 199.8,67.8\" style=\"fill:none;fill-rule:evenodd;stroke:#000000;stroke-width:2.0px;stroke-linecap:butt;stroke-linejoin:miter;stroke-opacity:1\"/>\n",
       "<path class=\"bond-16 atom-17 atom-18\" d=\"M 199.8,67.8 L 197.0,52.6\" style=\"fill:none;fill-rule:evenodd;stroke:#000000;stroke-width:2.0px;stroke-linecap:butt;stroke-linejoin:miter;stroke-opacity:1\"/>\n",
       "<path class=\"bond-17 atom-18 atom-19\" d=\"M 195.9,51.4 L 200.6,47.5\" style=\"fill:none;fill-rule:evenodd;stroke:#000000;stroke-width:2.0px;stroke-linecap:butt;stroke-linejoin:miter;stroke-opacity:1\"/>\n",
       "<path class=\"bond-17 atom-18 atom-19\" d=\"M 200.6,47.5 L 205.2,43.5\" style=\"fill:none;fill-rule:evenodd;stroke:#FF0000;stroke-width:2.0px;stroke-linecap:butt;stroke-linejoin:miter;stroke-opacity:1\"/>\n",
       "<path class=\"bond-17 atom-18 atom-19\" d=\"M 198.0,53.8 L 202.6,49.8\" style=\"fill:none;fill-rule:evenodd;stroke:#000000;stroke-width:2.0px;stroke-linecap:butt;stroke-linejoin:miter;stroke-opacity:1\"/>\n",
       "<path class=\"bond-17 atom-18 atom-19\" d=\"M 202.6,49.8 L 207.2,45.9\" style=\"fill:none;fill-rule:evenodd;stroke:#FF0000;stroke-width:2.0px;stroke-linecap:butt;stroke-linejoin:miter;stroke-opacity:1\"/>\n",
       "<path class=\"bond-18 atom-18 atom-20\" d=\"M 197.0,52.6 L 190.9,50.5\" style=\"fill:none;fill-rule:evenodd;stroke:#000000;stroke-width:2.0px;stroke-linecap:butt;stroke-linejoin:miter;stroke-opacity:1\"/>\n",
       "<path class=\"bond-18 atom-18 atom-20\" d=\"M 190.9,50.5 L 184.9,48.4\" style=\"fill:none;fill-rule:evenodd;stroke:#FF0000;stroke-width:2.0px;stroke-linecap:butt;stroke-linejoin:miter;stroke-opacity:1\"/>\n",
       "<path class=\"bond-19 atom-20 atom-21\" d=\"M 181.8,44.8 L 180.6,38.5\" style=\"fill:none;fill-rule:evenodd;stroke:#FF0000;stroke-width:2.0px;stroke-linecap:butt;stroke-linejoin:miter;stroke-opacity:1\"/>\n",
       "<path class=\"bond-19 atom-20 atom-21\" d=\"M 180.6,38.5 L 179.5,32.3\" style=\"fill:none;fill-rule:evenodd;stroke:#000000;stroke-width:2.0px;stroke-linecap:butt;stroke-linejoin:miter;stroke-opacity:1\"/>\n",
       "<path class=\"bond-20 atom-21 atom-22\" d=\"M 179.5,32.3 L 164.9,27.2\" style=\"fill:none;fill-rule:evenodd;stroke:#000000;stroke-width:2.0px;stroke-linecap:butt;stroke-linejoin:miter;stroke-opacity:1\"/>\n",
       "<path class=\"bond-21 atom-22 atom-23\" d=\"M 164.9,27.2 L 162.0,11.9\" style=\"fill:none;fill-rule:evenodd;stroke:#000000;stroke-width:2.0px;stroke-linecap:butt;stroke-linejoin:miter;stroke-opacity:1\"/>\n",
       "<path class=\"bond-22 atom-23 atom-24\" d=\"M 162.0,11.9 L 147.4,6.8\" style=\"fill:none;fill-rule:evenodd;stroke:#000000;stroke-width:2.0px;stroke-linecap:butt;stroke-linejoin:miter;stroke-opacity:1\"/>\n",
       "<path class=\"bond-23 atom-11 atom-16\" d=\"M 217.3,88.2 L 214.4,73.0\" style=\"fill:none;fill-rule:evenodd;stroke:#000000;stroke-width:2.0px;stroke-linecap:butt;stroke-linejoin:miter;stroke-opacity:1\"/>\n",
       "<path class=\"bond-24 atom-25 atom-26\" d=\"M 226.2,62.9 L 223.3,47.7\" style=\"fill:none;fill-rule:evenodd;stroke:#000000;stroke-width:2.0px;stroke-linecap:butt;stroke-linejoin:miter;stroke-opacity:1\"/>\n",
       "<path class=\"bond-25 atom-26 atom-27\" d=\"M 223.3,47.7 L 235.1,37.6\" style=\"fill:none;fill-rule:evenodd;stroke:#000000;stroke-width:2.0px;stroke-linecap:butt;stroke-linejoin:miter;stroke-opacity:1\"/>\n",
       "<path class=\"bond-26 atom-27 atom-28\" d=\"M 233.5,37.9 L 232.4,31.6\" style=\"fill:none;fill-rule:evenodd;stroke:#000000;stroke-width:2.0px;stroke-linecap:butt;stroke-linejoin:miter;stroke-opacity:1\"/>\n",
       "<path class=\"bond-26 atom-27 atom-28\" d=\"M 232.4,31.6 L 231.2,25.4\" style=\"fill:none;fill-rule:evenodd;stroke:#FF0000;stroke-width:2.0px;stroke-linecap:butt;stroke-linejoin:miter;stroke-opacity:1\"/>\n",
       "<path class=\"bond-26 atom-27 atom-28\" d=\"M 236.6,37.3 L 235.4,31.1\" style=\"fill:none;fill-rule:evenodd;stroke:#000000;stroke-width:2.0px;stroke-linecap:butt;stroke-linejoin:miter;stroke-opacity:1\"/>\n",
       "<path class=\"bond-26 atom-27 atom-28\" d=\"M 235.4,31.1 L 234.2,24.9\" style=\"fill:none;fill-rule:evenodd;stroke:#FF0000;stroke-width:2.0px;stroke-linecap:butt;stroke-linejoin:miter;stroke-opacity:1\"/>\n",
       "<path class=\"bond-27 atom-27 atom-29\" d=\"M 235.1,37.6 L 241.1,39.7\" style=\"fill:none;fill-rule:evenodd;stroke:#000000;stroke-width:2.0px;stroke-linecap:butt;stroke-linejoin:miter;stroke-opacity:1\"/>\n",
       "<path class=\"bond-27 atom-27 atom-29\" d=\"M 241.1,39.7 L 247.1,41.8\" style=\"fill:none;fill-rule:evenodd;stroke:#FF0000;stroke-width:2.0px;stroke-linecap:butt;stroke-linejoin:miter;stroke-opacity:1\"/>\n",
       "<path class=\"bond-28 atom-29 atom-30\" d=\"M 252.2,40.5 L 256.8,36.6\" style=\"fill:none;fill-rule:evenodd;stroke:#FF0000;stroke-width:2.0px;stroke-linecap:butt;stroke-linejoin:miter;stroke-opacity:1\"/>\n",
       "<path class=\"bond-28 atom-29 atom-30\" d=\"M 256.8,36.6 L 261.4,32.6\" style=\"fill:none;fill-rule:evenodd;stroke:#000000;stroke-width:2.0px;stroke-linecap:butt;stroke-linejoin:miter;stroke-opacity:1\"/>\n",
       "<path class=\"bond-29 atom-30 atom-31\" d=\"M 261.4,32.6 L 276.0,37.7\" style=\"fill:none;fill-rule:evenodd;stroke:#000000;stroke-width:2.0px;stroke-linecap:butt;stroke-linejoin:miter;stroke-opacity:1\"/>\n",
       "<path class=\"bond-30 atom-31 atom-32\" d=\"M 276.0,37.7 L 287.8,27.6\" style=\"fill:none;fill-rule:evenodd;stroke:#000000;stroke-width:2.0px;stroke-linecap:butt;stroke-linejoin:miter;stroke-opacity:1\"/>\n",
       "<path class=\"bond-31 atom-32 atom-33\" d=\"M 287.8,27.6 L 302.4,32.8\" style=\"fill:none;fill-rule:evenodd;stroke:#000000;stroke-width:2.0px;stroke-linecap:butt;stroke-linejoin:miter;stroke-opacity:1\"/>\n",
       "<path class=\"bond-32 atom-16 atom-25\" d=\"M 214.4,73.0 L 226.2,62.9\" style=\"fill:none;fill-rule:evenodd;stroke:#000000;stroke-width:2.0px;stroke-linecap:butt;stroke-linejoin:miter;stroke-opacity:1\"/>\n",
       "<path class=\"bond-33 atom-34 atom-35\" d=\"M 240.8,68.0 L 252.5,57.9\" style=\"fill:none;fill-rule:evenodd;stroke:#000000;stroke-width:2.0px;stroke-linecap:butt;stroke-linejoin:miter;stroke-opacity:1\"/>\n",
       "<path class=\"bond-34 atom-35 atom-36\" d=\"M 252.5,57.9 L 267.1,63.0\" style=\"fill:none;fill-rule:evenodd;stroke:#000000;stroke-width:2.0px;stroke-linecap:butt;stroke-linejoin:miter;stroke-opacity:1\"/>\n",
       "<path class=\"bond-35 atom-36 atom-37\" d=\"M 266.1,61.9 L 270.7,57.9\" style=\"fill:none;fill-rule:evenodd;stroke:#000000;stroke-width:2.0px;stroke-linecap:butt;stroke-linejoin:miter;stroke-opacity:1\"/>\n",
       "<path class=\"bond-35 atom-36 atom-37\" d=\"M 270.7,57.9 L 275.4,53.9\" style=\"fill:none;fill-rule:evenodd;stroke:#FF0000;stroke-width:2.0px;stroke-linecap:butt;stroke-linejoin:miter;stroke-opacity:1\"/>\n",
       "<path class=\"bond-35 atom-36 atom-37\" d=\"M 268.2,64.2 L 272.8,60.2\" style=\"fill:none;fill-rule:evenodd;stroke:#000000;stroke-width:2.0px;stroke-linecap:butt;stroke-linejoin:miter;stroke-opacity:1\"/>\n",
       "<path class=\"bond-35 atom-36 atom-37\" d=\"M 272.8,60.2 L 277.4,56.3\" style=\"fill:none;fill-rule:evenodd;stroke:#FF0000;stroke-width:2.0px;stroke-linecap:butt;stroke-linejoin:miter;stroke-opacity:1\"/>\n",
       "<path class=\"bond-36 atom-36 atom-38\" d=\"M 267.1,63.0 L 268.3,69.3\" style=\"fill:none;fill-rule:evenodd;stroke:#000000;stroke-width:2.0px;stroke-linecap:butt;stroke-linejoin:miter;stroke-opacity:1\"/>\n",
       "<path class=\"bond-36 atom-36 atom-38\" d=\"M 268.3,69.3 L 269.5,75.5\" style=\"fill:none;fill-rule:evenodd;stroke:#FF0000;stroke-width:2.0px;stroke-linecap:butt;stroke-linejoin:miter;stroke-opacity:1\"/>\n",
       "<path class=\"bond-37 atom-38 atom-39\" d=\"M 272.5,79.1 L 278.6,81.2\" style=\"fill:none;fill-rule:evenodd;stroke:#FF0000;stroke-width:2.0px;stroke-linecap:butt;stroke-linejoin:miter;stroke-opacity:1\"/>\n",
       "<path class=\"bond-37 atom-38 atom-39\" d=\"M 278.6,81.2 L 284.6,83.4\" style=\"fill:none;fill-rule:evenodd;stroke:#000000;stroke-width:2.0px;stroke-linecap:butt;stroke-linejoin:miter;stroke-opacity:1\"/>\n",
       "<path class=\"bond-38 atom-39 atom-40\" d=\"M 284.6,83.4 L 287.5,98.6\" style=\"fill:none;fill-rule:evenodd;stroke:#000000;stroke-width:2.0px;stroke-linecap:butt;stroke-linejoin:miter;stroke-opacity:1\"/>\n",
       "<path class=\"bond-39 atom-40 atom-41\" d=\"M 287.5,98.6 L 302.1,103.7\" style=\"fill:none;fill-rule:evenodd;stroke:#000000;stroke-width:2.0px;stroke-linecap:butt;stroke-linejoin:miter;stroke-opacity:1\"/>\n",
       "<path class=\"bond-40 atom-41 atom-42\" d=\"M 302.1,103.7 L 305.0,118.9\" style=\"fill:none;fill-rule:evenodd;stroke:#000000;stroke-width:2.0px;stroke-linecap:butt;stroke-linejoin:miter;stroke-opacity:1\"/>\n",
       "<path class=\"bond-41 atom-25 atom-34\" d=\"M 226.2,62.9 L 240.8,68.0\" style=\"fill:none;fill-rule:evenodd;stroke:#000000;stroke-width:2.0px;stroke-linecap:butt;stroke-linejoin:miter;stroke-opacity:1\"/>\n",
       "<path class=\"bond-42 atom-34 atom-43\" d=\"M 240.8,68.0 L 243.1,80.5\" style=\"fill:none;fill-rule:evenodd;stroke:#000000;stroke-width:2.0px;stroke-linecap:butt;stroke-linejoin:miter;stroke-opacity:1\"/>\n",
       "<path class=\"atom-0\" d=\"M 186.4 75.7 L 187.0 75.7 L 187.0 77.6 L 189.2 77.6 L 189.2 75.7 L 189.8 75.7 L 189.8 80.1 L 189.2 80.1 L 189.2 78.1 L 187.0 78.1 L 187.0 80.1 L 186.4 80.1 L 186.4 75.7 \" fill=\"#000000\"/>\n",
       "<path class=\"atom-4\" d=\"M 159.7 82.9 Q 159.7 81.9, 160.2 81.3 Q 160.7 80.7, 161.7 80.7 Q 162.7 80.7, 163.2 81.3 Q 163.7 81.9, 163.7 82.9 Q 163.7 84.0, 163.2 84.6 Q 162.7 85.2, 161.7 85.2 Q 160.8 85.2, 160.2 84.6 Q 159.7 84.0, 159.7 82.9 M 161.7 84.7 Q 162.4 84.7, 162.7 84.2 Q 163.1 83.8, 163.1 82.9 Q 163.1 82.1, 162.7 81.6 Q 162.4 81.2, 161.7 81.2 Q 161.1 81.2, 160.7 81.6 Q 160.3 82.0, 160.3 82.9 Q 160.3 83.8, 160.7 84.2 Q 161.1 84.7, 161.7 84.7 \" fill=\"#FF0000\"/>\n",
       "<path class=\"atom-5\" d=\"M 145.0 106.0 L 145.6 106.0 L 145.6 107.9 L 147.9 107.9 L 147.9 106.0 L 148.5 106.0 L 148.5 110.4 L 147.9 110.4 L 147.9 108.4 L 145.6 108.4 L 145.6 110.4 L 145.0 110.4 L 145.0 106.0 \" fill=\"#0000FF\"/>\n",
       "<path class=\"atom-5\" d=\"M 149.0 110.2 Q 149.1 110.0, 149.4 109.8 Q 149.6 109.7, 150.0 109.7 Q 150.4 109.7, 150.6 109.9 Q 150.9 110.1, 150.9 110.6 Q 150.9 111.0, 150.6 111.4 Q 150.3 111.8, 149.6 112.3 L 150.9 112.3 L 150.9 112.6 L 149.0 112.6 L 149.0 112.3 Q 149.5 111.9, 149.8 111.6 Q 150.2 111.4, 150.3 111.1 Q 150.5 110.8, 150.5 110.6 Q 150.5 110.3, 150.3 110.1 Q 150.2 110.0, 150.0 110.0 Q 149.7 110.0, 149.6 110.1 Q 149.4 110.2, 149.3 110.4 L 149.0 110.2 \" fill=\"#0000FF\"/>\n",
       "<path class=\"atom-5\" d=\"M 151.9 106.0 L 153.3 108.3 Q 153.5 108.6, 153.7 109.0 Q 153.9 109.4, 153.9 109.4 L 153.9 106.0 L 154.5 106.0 L 154.5 110.4 L 153.9 110.4 L 152.4 107.9 Q 152.2 107.6, 152.0 107.2 Q 151.8 106.9, 151.8 106.8 L 151.8 110.4 L 151.2 110.4 L 151.2 106.0 L 151.9 106.0 \" fill=\"#0000FF\"/>\n",
       "<path class=\"atom-9\" d=\"M 180.1 118.5 Q 180.1 117.4, 180.6 116.8 Q 181.1 116.2, 182.1 116.2 Q 183.0 116.2, 183.6 116.8 Q 184.1 117.4, 184.1 118.5 Q 184.1 119.5, 183.6 120.1 Q 183.0 120.7, 182.1 120.7 Q 181.1 120.7, 180.6 120.1 Q 180.1 119.5, 180.1 118.5 M 182.1 120.2 Q 182.7 120.2, 183.1 119.8 Q 183.5 119.3, 183.5 118.5 Q 183.5 117.6, 183.1 117.2 Q 182.7 116.7, 182.1 116.7 Q 181.4 116.7, 181.0 117.2 Q 180.7 117.6, 180.7 118.5 Q 180.7 119.4, 181.0 119.8 Q 181.4 120.2, 182.1 120.2 \" fill=\"#FF0000\"/>\n",
       "<path class=\"atom-10\" d=\"M 198.6 136.6 L 200.0 138.9 Q 200.2 139.2, 200.4 139.6 Q 200.6 140.0, 200.6 140.0 L 200.6 136.6 L 201.2 136.6 L 201.2 141.0 L 200.6 141.0 L 199.1 138.4 Q 198.9 138.2, 198.7 137.8 Q 198.5 137.5, 198.5 137.4 L 198.5 141.0 L 197.9 141.0 L 197.9 136.6 L 198.6 136.6 \" fill=\"#0000FF\"/>\n",
       "<path class=\"atom-10\" d=\"M 201.7 136.6 L 202.3 136.6 L 202.3 138.5 L 204.6 138.5 L 204.6 136.6 L 205.2 136.6 L 205.2 141.0 L 204.6 141.0 L 204.6 139.0 L 202.3 139.0 L 202.3 141.0 L 201.7 141.0 L 201.7 136.6 \" fill=\"#0000FF\"/>\n",
       "<path class=\"atom-10\" d=\"M 205.7 140.8 Q 205.8 140.6, 206.1 140.4 Q 206.3 140.3, 206.7 140.3 Q 207.1 140.3, 207.3 140.5 Q 207.6 140.7, 207.6 141.2 Q 207.6 141.6, 207.3 142.0 Q 207.0 142.4, 206.3 142.9 L 207.6 142.9 L 207.6 143.2 L 205.7 143.2 L 205.7 142.9 Q 206.2 142.5, 206.5 142.2 Q 206.9 142.0, 207.0 141.7 Q 207.2 141.4, 207.2 141.2 Q 207.2 140.9, 207.0 140.7 Q 206.9 140.6, 206.7 140.6 Q 206.4 140.6, 206.3 140.7 Q 206.1 140.8, 206.0 141.0 L 205.7 140.8 \" fill=\"#0000FF\"/>\n",
       "<path class=\"atom-14\" d=\"M 221.0 118.6 Q 221.0 117.6, 221.5 117.0 Q 222.1 116.4, 223.0 116.4 Q 224.0 116.4, 224.5 117.0 Q 225.0 117.6, 225.0 118.6 Q 225.0 119.7, 224.5 120.3 Q 224.0 120.9, 223.0 120.9 Q 222.1 120.9, 221.5 120.3 Q 221.0 119.7, 221.0 118.6 M 223.0 120.4 Q 223.7 120.4, 224.1 120.0 Q 224.4 119.5, 224.4 118.6 Q 224.4 117.8, 224.1 117.3 Q 223.7 116.9, 223.0 116.9 Q 222.4 116.9, 222.0 117.3 Q 221.6 117.8, 221.6 118.6 Q 221.6 119.5, 222.0 120.0 Q 222.4 120.4, 223.0 120.4 \" fill=\"#FF0000\"/>\n",
       "<path class=\"atom-15\" d=\"M 248.4 111.5 L 249.9 113.8 Q 250.0 114.0, 250.2 114.4 Q 250.5 114.8, 250.5 114.9 L 250.5 111.5 L 251.1 111.5 L 251.1 115.8 L 250.5 115.8 L 248.9 113.3 Q 248.7 113.0, 248.5 112.7 Q 248.4 112.3, 248.3 112.2 L 248.3 115.8 L 247.7 115.8 L 247.7 111.5 L 248.4 111.5 \" fill=\"#0000FF\"/>\n",
       "<path class=\"atom-15\" d=\"M 251.6 111.5 L 252.2 111.5 L 252.2 113.3 L 254.4 113.3 L 254.4 111.5 L 255.0 111.5 L 255.0 115.8 L 254.4 115.8 L 254.4 113.8 L 252.2 113.8 L 252.2 115.8 L 251.6 115.8 L 251.6 111.5 \" fill=\"#0000FF\"/>\n",
       "<path class=\"atom-15\" d=\"M 255.5 115.7 Q 255.6 115.4, 255.9 115.3 Q 256.1 115.1, 256.5 115.1 Q 256.9 115.1, 257.2 115.3 Q 257.4 115.6, 257.4 116.0 Q 257.4 116.4, 257.1 116.8 Q 256.8 117.2, 256.1 117.7 L 257.5 117.7 L 257.5 118.0 L 255.5 118.0 L 255.5 117.8 Q 256.1 117.4, 256.4 117.1 Q 256.7 116.8, 256.9 116.5 Q 257.0 116.3, 257.0 116.0 Q 257.0 115.7, 256.9 115.6 Q 256.7 115.4, 256.5 115.4 Q 256.3 115.4, 256.1 115.5 Q 256.0 115.6, 255.8 115.8 L 255.5 115.7 \" fill=\"#0000FF\"/>\n",
       "<path class=\"atom-19\" d=\"M 206.7 42.5 Q 206.7 41.5, 207.2 40.9 Q 207.7 40.3, 208.7 40.3 Q 209.7 40.3, 210.2 40.9 Q 210.7 41.5, 210.7 42.5 Q 210.7 43.6, 210.2 44.2 Q 209.7 44.8, 208.7 44.8 Q 207.7 44.8, 207.2 44.2 Q 206.7 43.6, 206.7 42.5 M 208.7 44.3 Q 209.4 44.3, 209.7 43.9 Q 210.1 43.4, 210.1 42.5 Q 210.1 41.7, 209.7 41.2 Q 209.4 40.8, 208.7 40.8 Q 208.0 40.8, 207.7 41.2 Q 207.3 41.7, 207.3 42.5 Q 207.3 43.4, 207.7 43.9 Q 208.0 44.3, 208.7 44.3 \" fill=\"#FF0000\"/>\n",
       "<path class=\"atom-20\" d=\"M 180.3 47.5 Q 180.3 46.5, 180.8 45.9 Q 181.4 45.3, 182.3 45.3 Q 183.3 45.3, 183.8 45.9 Q 184.4 46.5, 184.4 47.5 Q 184.4 48.6, 183.8 49.2 Q 183.3 49.8, 182.3 49.8 Q 181.4 49.8, 180.8 49.2 Q 180.3 48.6, 180.3 47.5 M 182.3 49.3 Q 183.0 49.3, 183.4 48.8 Q 183.7 48.4, 183.7 47.5 Q 183.7 46.7, 183.4 46.2 Q 183.0 45.8, 182.3 45.8 Q 181.7 45.8, 181.3 46.2 Q 180.9 46.6, 180.9 47.5 Q 180.9 48.4, 181.3 48.8 Q 181.7 49.3, 182.3 49.3 \" fill=\"#FF0000\"/>\n",
       "<path class=\"atom-28\" d=\"M 230.2 22.4 Q 230.2 21.3, 230.7 20.7 Q 231.2 20.1, 232.2 20.1 Q 233.2 20.1, 233.7 20.7 Q 234.2 21.3, 234.2 22.4 Q 234.2 23.4, 233.7 24.0 Q 233.1 24.6, 232.2 24.6 Q 231.2 24.6, 230.7 24.0 Q 230.2 23.4, 230.2 22.4 M 232.2 24.1 Q 232.9 24.1, 233.2 23.7 Q 233.6 23.2, 233.6 22.4 Q 233.6 21.5, 233.2 21.1 Q 232.9 20.6, 232.2 20.6 Q 231.5 20.6, 231.1 21.1 Q 230.8 21.5, 230.8 22.4 Q 230.8 23.2, 231.1 23.7 Q 231.5 24.1, 232.2 24.1 \" fill=\"#FF0000\"/>\n",
       "<path class=\"atom-29\" d=\"M 247.6 42.7 Q 247.6 41.6, 248.2 41.1 Q 248.7 40.5, 249.7 40.5 Q 250.6 40.5, 251.2 41.1 Q 251.7 41.6, 251.7 42.7 Q 251.7 43.8, 251.1 44.4 Q 250.6 45.0, 249.7 45.0 Q 248.7 45.0, 248.2 44.4 Q 247.6 43.8, 247.6 42.7 M 249.7 44.5 Q 250.3 44.5, 250.7 44.0 Q 251.1 43.6, 251.1 42.7 Q 251.1 41.8, 250.7 41.4 Q 250.3 41.0, 249.7 41.0 Q 249.0 41.0, 248.6 41.4 Q 248.3 41.8, 248.3 42.7 Q 248.3 43.6, 248.6 44.0 Q 249.0 44.5, 249.7 44.5 \" fill=\"#FF0000\"/>\n",
       "<path class=\"atom-37\" d=\"M 276.9 52.9 Q 276.9 51.9, 277.4 51.3 Q 277.9 50.7, 278.9 50.7 Q 279.9 50.7, 280.4 51.3 Q 280.9 51.9, 280.9 52.9 Q 280.9 54.0, 280.4 54.6 Q 279.8 55.2, 278.9 55.2 Q 277.9 55.2, 277.4 54.6 Q 276.9 54.0, 276.9 52.9 M 278.9 54.7 Q 279.6 54.7, 279.9 54.3 Q 280.3 53.8, 280.3 52.9 Q 280.3 52.1, 279.9 51.7 Q 279.6 51.2, 278.9 51.2 Q 278.2 51.2, 277.9 51.6 Q 277.5 52.1, 277.5 52.9 Q 277.5 53.8, 277.9 54.3 Q 278.2 54.7, 278.9 54.7 \" fill=\"#FF0000\"/>\n",
       "<path class=\"atom-38\" d=\"M 268.0 78.3 Q 268.0 77.2, 268.5 76.6 Q 269.0 76.0, 270.0 76.0 Q 271.0 76.0, 271.5 76.6 Q 272.0 77.2, 272.0 78.3 Q 272.0 79.3, 271.5 79.9 Q 271.0 80.5, 270.0 80.5 Q 269.0 80.5, 268.5 79.9 Q 268.0 79.3, 268.0 78.3 M 270.0 80.0 Q 270.7 80.0, 271.0 79.6 Q 271.4 79.1, 271.4 78.3 Q 271.4 77.4, 271.0 77.0 Q 270.7 76.5, 270.0 76.5 Q 269.3 76.5, 269.0 77.0 Q 268.6 77.4, 268.6 78.3 Q 268.6 79.1, 269.0 79.6 Q 269.3 80.0, 270.0 80.0 \" fill=\"#FF0000\"/>\n",
       "<path class=\"atom-43\" d=\"M 241.9 81.0 L 242.5 81.0 L 242.5 82.9 L 244.8 82.9 L 244.8 81.0 L 245.4 81.0 L 245.4 85.4 L 244.8 85.4 L 244.8 83.4 L 242.5 83.4 L 242.5 85.4 L 241.9 85.4 L 241.9 81.0 \" fill=\"#000000\"/>\n",
       "<path class=\"atom-0\" d=\"M 191.0,77.9 L 191.0,78.0 L 191.0,78.0 L 191.0,78.0 L 191.0,78.0 L 191.0,78.1 L 191.0,78.1 L 191.0,78.1 L 191.0,78.1 L 190.9,78.1 L 190.9,78.2 L 190.9,78.2 L 190.9,78.2 L 190.9,78.2 L 190.8,78.2 L 190.8,78.2 L 190.8,78.2 L 190.8,78.2 L 190.7,78.2 L 190.7,78.2 L 190.7,78.2 L 190.6,78.2 L 190.6,78.2 L 190.6,78.2 L 190.6,78.2 L 190.6,78.2 L 190.5,78.2 L 190.5,78.2 L 190.5,78.1 L 190.5,78.1 L 190.5,78.1 L 190.4,78.1 L 190.4,78.0 L 190.4,78.0 L 190.4,78.0 L 190.4,78.0 L 190.4,77.9 L 190.4,77.9 L 190.4,77.9 L 190.4,77.9 L 190.4,77.8 L 190.4,77.8 L 190.4,77.8 L 190.5,77.8 L 190.5,77.7 L 190.5,77.7 L 190.5,77.7 L 190.5,77.7 L 190.6,77.7 L 190.6,77.7 L 190.6,77.6 L 190.6,77.6 L 190.6,77.6 L 190.7,77.6 L 190.7,77.6 L 190.7,77.6 L 190.8,77.6 L 190.8,77.6 L 190.8,77.6 L 190.8,77.6 L 190.9,77.7 L 190.9,77.7 L 190.9,77.7 L 190.9,77.7 L 190.9,77.7 L 191.0,77.7 L 191.0,77.8 L 191.0,77.8 L 191.0,77.8 L 191.0,77.8 L 191.0,77.9 L 191.0,77.9 L 191.0,77.9 L 191.0,77.9 L 190.7,77.9 Z\" style=\"fill:#000000;fill-rule:evenodd;fill-opacity:1;stroke:#000000;stroke-width:0.0px;stroke-linecap:butt;stroke-linejoin:miter;stroke-opacity:1;\"/>\n",
       "<path class=\"atom-43\" d=\"M 246.6,83.2 L 246.6,83.2 L 246.6,83.3 L 246.6,83.3 L 246.6,83.3 L 246.6,83.3 L 246.6,83.4 L 246.6,83.4 L 246.5,83.4 L 246.5,83.4 L 246.5,83.4 L 246.5,83.5 L 246.5,83.5 L 246.4,83.5 L 246.4,83.5 L 246.4,83.5 L 246.4,83.5 L 246.3,83.5 L 246.3,83.5 L 246.3,83.5 L 246.3,83.5 L 246.2,83.5 L 246.2,83.5 L 246.2,83.5 L 246.2,83.5 L 246.1,83.5 L 246.1,83.5 L 246.1,83.4 L 246.1,83.4 L 246.1,83.4 L 246.0,83.4 L 246.0,83.4 L 246.0,83.3 L 246.0,83.3 L 246.0,83.3 L 246.0,83.3 L 246.0,83.2 L 246.0,83.2 L 246.0,83.2 L 246.0,83.1 L 246.0,83.1 L 246.0,83.1 L 246.0,83.1 L 246.0,83.0 L 246.1,83.0 L 246.1,83.0 L 246.1,83.0 L 246.1,83.0 L 246.1,83.0 L 246.2,82.9 L 246.2,82.9 L 246.2,82.9 L 246.2,82.9 L 246.3,82.9 L 246.3,82.9 L 246.3,82.9 L 246.3,82.9 L 246.4,82.9 L 246.4,82.9 L 246.4,82.9 L 246.4,82.9 L 246.5,82.9 L 246.5,83.0 L 246.5,83.0 L 246.5,83.0 L 246.5,83.0 L 246.6,83.0 L 246.6,83.1 L 246.6,83.1 L 246.6,83.1 L 246.6,83.1 L 246.6,83.2 L 246.6,83.2 L 246.6,83.2 L 246.3,83.2 Z\" style=\"fill:#000000;fill-rule:evenodd;fill-opacity:1;stroke:#000000;stroke-width:0.0px;stroke-linecap:butt;stroke-linejoin:miter;stroke-opacity:1;\"/>\n",
       "</svg>"
      ],
      "text/plain": [
       "<IPython.core.display.SVG object>"
      ]
     },
     "execution_count": 36,
     "metadata": {},
     "output_type": "execute_result"
    }
   ],
   "source": [
    "big = \"[H]{[>][>|75|]C([<|75|])CC(=O)OCCCC, [<|25|]C([>|25|])CC(=O)N[<]}|gauss(500,50)|[H]\"\n",
    "big_smiles_gen(big)"
   ]
  },
  {
   "cell_type": "code",
   "execution_count": 37,
   "id": "3cf6c797",
   "metadata": {},
   "outputs": [
    {
     "data": {
      "image/svg+xml": [
       "<svg xmlns=\"http://www.w3.org/2000/svg\" xmlns:rdkit=\"http://www.rdkit.org/xml\" xmlns:xlink=\"http://www.w3.org/1999/xlink\" version=\"1.1\" baseProfile=\"full\" xml:space=\"preserve\" width=\"450px\" height=\"150px\" viewBox=\"0 0 450 150\">\n",
       "<!-- END OF HEADER -->\n",
       "<rect style=\"opacity:1.0;fill:#FFFFFF;stroke:none\" width=\"450.0\" height=\"150.0\" x=\"0.0\" y=\"0.0\"> </rect>\n",
       "<path class=\"bond-0 atom-1 atom-2\" d=\"M 225.0,103.7 L 238.7,95.8\" style=\"fill:none;fill-rule:evenodd;stroke:#000000;stroke-width:2.0px;stroke-linecap:butt;stroke-linejoin:miter;stroke-opacity:1\"/>\n",
       "<path class=\"bond-1 atom-2 atom-3\" d=\"M 238.7,95.8 L 252.3,103.7\" style=\"fill:none;fill-rule:evenodd;stroke:#000000;stroke-width:2.0px;stroke-linecap:butt;stroke-linejoin:miter;stroke-opacity:1\"/>\n",
       "<path class=\"bond-2 atom-3 atom-4\" d=\"M 253.9,103.7 L 253.9,110.2\" style=\"fill:none;fill-rule:evenodd;stroke:#000000;stroke-width:2.0px;stroke-linecap:butt;stroke-linejoin:miter;stroke-opacity:1\"/>\n",
       "<path class=\"bond-2 atom-3 atom-4\" d=\"M 253.9,110.2 L 253.9,116.7\" style=\"fill:none;fill-rule:evenodd;stroke:#FF0000;stroke-width:2.0px;stroke-linecap:butt;stroke-linejoin:miter;stroke-opacity:1\"/>\n",
       "<path class=\"bond-2 atom-3 atom-4\" d=\"M 250.8,103.7 L 250.8,110.2\" style=\"fill:none;fill-rule:evenodd;stroke:#000000;stroke-width:2.0px;stroke-linecap:butt;stroke-linejoin:miter;stroke-opacity:1\"/>\n",
       "<path class=\"bond-2 atom-3 atom-4\" d=\"M 250.8,110.2 L 250.8,116.7\" style=\"fill:none;fill-rule:evenodd;stroke:#FF0000;stroke-width:2.0px;stroke-linecap:butt;stroke-linejoin:miter;stroke-opacity:1\"/>\n",
       "<path class=\"bond-3 atom-3 atom-5\" d=\"M 252.3,103.7 L 257.9,100.5\" style=\"fill:none;fill-rule:evenodd;stroke:#000000;stroke-width:2.0px;stroke-linecap:butt;stroke-linejoin:miter;stroke-opacity:1\"/>\n",
       "<path class=\"bond-3 atom-3 atom-5\" d=\"M 257.9,100.5 L 263.4,97.3\" style=\"fill:none;fill-rule:evenodd;stroke:#FF0000;stroke-width:2.0px;stroke-linecap:butt;stroke-linejoin:miter;stroke-opacity:1\"/>\n",
       "<path class=\"bond-4 atom-5 atom-6\" d=\"M 268.6,97.3 L 274.1,100.5\" style=\"fill:none;fill-rule:evenodd;stroke:#FF0000;stroke-width:2.0px;stroke-linecap:butt;stroke-linejoin:miter;stroke-opacity:1\"/>\n",
       "<path class=\"bond-4 atom-5 atom-6\" d=\"M 274.1,100.5 L 279.7,103.7\" style=\"fill:none;fill-rule:evenodd;stroke:#000000;stroke-width:2.0px;stroke-linecap:butt;stroke-linejoin:miter;stroke-opacity:1\"/>\n",
       "<path class=\"bond-5 atom-6 atom-7\" d=\"M 279.7,103.7 L 293.3,95.8\" style=\"fill:none;fill-rule:evenodd;stroke:#000000;stroke-width:2.0px;stroke-linecap:butt;stroke-linejoin:miter;stroke-opacity:1\"/>\n",
       "<path class=\"bond-6 atom-7 atom-8\" d=\"M 293.3,95.8 L 307.0,103.7\" style=\"fill:none;fill-rule:evenodd;stroke:#000000;stroke-width:2.0px;stroke-linecap:butt;stroke-linejoin:miter;stroke-opacity:1\"/>\n",
       "<path class=\"bond-7 atom-8 atom-9\" d=\"M 307.0,103.7 L 320.6,95.8\" style=\"fill:none;fill-rule:evenodd;stroke:#000000;stroke-width:2.0px;stroke-linecap:butt;stroke-linejoin:miter;stroke-opacity:1\"/>\n",
       "<path class=\"bond-8 atom-0 atom-1\" d=\"M 225.0,116.7 L 225.0,103.7\" style=\"fill:none;fill-rule:evenodd;stroke:#000000;stroke-width:2.0px;stroke-linecap:butt;stroke-linejoin:miter;stroke-opacity:1\"/>\n",
       "<path class=\"bond-9 atom-10 atom-11\" d=\"M 211.3,95.8 L 197.7,103.7\" style=\"fill:none;fill-rule:evenodd;stroke:#000000;stroke-width:2.0px;stroke-linecap:butt;stroke-linejoin:miter;stroke-opacity:1\"/>\n",
       "<path class=\"bond-10 atom-11 atom-12\" d=\"M 197.7,103.7 L 197.7,119.5\" style=\"fill:none;fill-rule:evenodd;stroke:#000000;stroke-width:2.0px;stroke-linecap:butt;stroke-linejoin:miter;stroke-opacity:1\"/>\n",
       "<path class=\"bond-11 atom-12 atom-13\" d=\"M 198.5,118.1 L 204.0,121.3\" style=\"fill:none;fill-rule:evenodd;stroke:#000000;stroke-width:2.0px;stroke-linecap:butt;stroke-linejoin:miter;stroke-opacity:1\"/>\n",
       "<path class=\"bond-11 atom-12 atom-13\" d=\"M 204.0,121.3 L 209.6,124.5\" style=\"fill:none;fill-rule:evenodd;stroke:#FF0000;stroke-width:2.0px;stroke-linecap:butt;stroke-linejoin:miter;stroke-opacity:1\"/>\n",
       "<path class=\"bond-11 atom-12 atom-13\" d=\"M 196.9,120.9 L 202.4,124.1\" style=\"fill:none;fill-rule:evenodd;stroke:#000000;stroke-width:2.0px;stroke-linecap:butt;stroke-linejoin:miter;stroke-opacity:1\"/>\n",
       "<path class=\"bond-11 atom-12 atom-13\" d=\"M 202.4,124.1 L 208.0,127.3\" style=\"fill:none;fill-rule:evenodd;stroke:#FF0000;stroke-width:2.0px;stroke-linecap:butt;stroke-linejoin:miter;stroke-opacity:1\"/>\n",
       "<path class=\"bond-12 atom-12 atom-14\" d=\"M 197.7,119.5 L 192.0,122.8\" style=\"fill:none;fill-rule:evenodd;stroke:#000000;stroke-width:2.0px;stroke-linecap:butt;stroke-linejoin:miter;stroke-opacity:1\"/>\n",
       "<path class=\"bond-12 atom-12 atom-14\" d=\"M 192.0,122.8 L 186.2,126.1\" style=\"fill:none;fill-rule:evenodd;stroke:#0000FF;stroke-width:2.0px;stroke-linecap:butt;stroke-linejoin:miter;stroke-opacity:1\"/>\n",
       "<path class=\"bond-13 atom-1 atom-10\" d=\"M 225.0,103.7 L 211.3,95.8\" style=\"fill:none;fill-rule:evenodd;stroke:#000000;stroke-width:2.0px;stroke-linecap:butt;stroke-linejoin:miter;stroke-opacity:1\"/>\n",
       "<path class=\"bond-14 atom-15 atom-16\" d=\"M 211.3,80.1 L 197.7,72.2\" style=\"fill:none;fill-rule:evenodd;stroke:#000000;stroke-width:2.0px;stroke-linecap:butt;stroke-linejoin:miter;stroke-opacity:1\"/>\n",
       "<path class=\"bond-15 atom-16 atom-17\" d=\"M 197.7,72.2 L 184.0,80.1\" style=\"fill:none;fill-rule:evenodd;stroke:#000000;stroke-width:2.0px;stroke-linecap:butt;stroke-linejoin:miter;stroke-opacity:1\"/>\n",
       "<path class=\"bond-16 atom-17 atom-18\" d=\"M 183.2,81.4 L 177.7,78.2\" style=\"fill:none;fill-rule:evenodd;stroke:#000000;stroke-width:2.0px;stroke-linecap:butt;stroke-linejoin:miter;stroke-opacity:1\"/>\n",
       "<path class=\"bond-16 atom-17 atom-18\" d=\"M 177.7,78.2 L 172.1,75.0\" style=\"fill:none;fill-rule:evenodd;stroke:#FF0000;stroke-width:2.0px;stroke-linecap:butt;stroke-linejoin:miter;stroke-opacity:1\"/>\n",
       "<path class=\"bond-16 atom-17 atom-18\" d=\"M 184.8,78.7 L 179.3,75.5\" style=\"fill:none;fill-rule:evenodd;stroke:#000000;stroke-width:2.0px;stroke-linecap:butt;stroke-linejoin:miter;stroke-opacity:1\"/>\n",
       "<path class=\"bond-16 atom-17 atom-18\" d=\"M 179.3,75.5 L 173.7,72.3\" style=\"fill:none;fill-rule:evenodd;stroke:#FF0000;stroke-width:2.0px;stroke-linecap:butt;stroke-linejoin:miter;stroke-opacity:1\"/>\n",
       "<path class=\"bond-17 atom-17 atom-19\" d=\"M 184.0,80.1 L 184.0,86.6\" style=\"fill:none;fill-rule:evenodd;stroke:#000000;stroke-width:2.0px;stroke-linecap:butt;stroke-linejoin:miter;stroke-opacity:1\"/>\n",
       "<path class=\"bond-17 atom-17 atom-19\" d=\"M 184.0,86.6 L 184.0,93.1\" style=\"fill:none;fill-rule:evenodd;stroke:#FF0000;stroke-width:2.0px;stroke-linecap:butt;stroke-linejoin:miter;stroke-opacity:1\"/>\n",
       "<path class=\"bond-18 atom-19 atom-20\" d=\"M 181.4,97.3 L 175.9,100.5\" style=\"fill:none;fill-rule:evenodd;stroke:#FF0000;stroke-width:2.0px;stroke-linecap:butt;stroke-linejoin:miter;stroke-opacity:1\"/>\n",
       "<path class=\"bond-18 atom-19 atom-20\" d=\"M 175.9,100.5 L 170.4,103.7\" style=\"fill:none;fill-rule:evenodd;stroke:#000000;stroke-width:2.0px;stroke-linecap:butt;stroke-linejoin:miter;stroke-opacity:1\"/>\n",
       "<path class=\"bond-19 atom-20 atom-21\" d=\"M 170.4,103.7 L 170.4,119.5\" style=\"fill:none;fill-rule:evenodd;stroke:#000000;stroke-width:2.0px;stroke-linecap:butt;stroke-linejoin:miter;stroke-opacity:1\"/>\n",
       "<path class=\"bond-20 atom-21 atom-22\" d=\"M 170.4,119.5 L 156.7,127.4\" style=\"fill:none;fill-rule:evenodd;stroke:#000000;stroke-width:2.0px;stroke-linecap:butt;stroke-linejoin:miter;stroke-opacity:1\"/>\n",
       "<path class=\"bond-21 atom-22 atom-23\" d=\"M 156.7,127.4 L 156.7,143.2\" style=\"fill:none;fill-rule:evenodd;stroke:#000000;stroke-width:2.0px;stroke-linecap:butt;stroke-linejoin:miter;stroke-opacity:1\"/>\n",
       "<path class=\"bond-22 atom-10 atom-15\" d=\"M 211.3,95.8 L 211.3,80.1\" style=\"fill:none;fill-rule:evenodd;stroke:#000000;stroke-width:2.0px;stroke-linecap:butt;stroke-linejoin:miter;stroke-opacity:1\"/>\n",
       "<path class=\"bond-23 atom-24 atom-25\" d=\"M 225.0,72.2 L 238.7,80.1\" style=\"fill:none;fill-rule:evenodd;stroke:#000000;stroke-width:2.0px;stroke-linecap:butt;stroke-linejoin:miter;stroke-opacity:1\"/>\n",
       "<path class=\"bond-24 atom-25 atom-26\" d=\"M 238.7,80.1 L 252.3,72.2\" style=\"fill:none;fill-rule:evenodd;stroke:#000000;stroke-width:2.0px;stroke-linecap:butt;stroke-linejoin:miter;stroke-opacity:1\"/>\n",
       "<path class=\"bond-25 atom-26 atom-27\" d=\"M 253.1,70.8 L 258.7,74.0\" style=\"fill:none;fill-rule:evenodd;stroke:#000000;stroke-width:2.0px;stroke-linecap:butt;stroke-linejoin:miter;stroke-opacity:1\"/>\n",
       "<path class=\"bond-25 atom-26 atom-27\" d=\"M 258.7,74.0 L 264.2,77.2\" style=\"fill:none;fill-rule:evenodd;stroke:#FF0000;stroke-width:2.0px;stroke-linecap:butt;stroke-linejoin:miter;stroke-opacity:1\"/>\n",
       "<path class=\"bond-25 atom-26 atom-27\" d=\"M 251.5,73.5 L 257.1,76.7\" style=\"fill:none;fill-rule:evenodd;stroke:#000000;stroke-width:2.0px;stroke-linecap:butt;stroke-linejoin:miter;stroke-opacity:1\"/>\n",
       "<path class=\"bond-25 atom-26 atom-27\" d=\"M 257.1,76.7 L 262.6,79.9\" style=\"fill:none;fill-rule:evenodd;stroke:#FF0000;stroke-width:2.0px;stroke-linecap:butt;stroke-linejoin:miter;stroke-opacity:1\"/>\n",
       "<path class=\"bond-26 atom-26 atom-28\" d=\"M 252.3,72.2 L 252.3,65.7\" style=\"fill:none;fill-rule:evenodd;stroke:#000000;stroke-width:2.0px;stroke-linecap:butt;stroke-linejoin:miter;stroke-opacity:1\"/>\n",
       "<path class=\"bond-26 atom-26 atom-28\" d=\"M 252.3,65.7 L 252.3,59.2\" style=\"fill:none;fill-rule:evenodd;stroke:#FF0000;stroke-width:2.0px;stroke-linecap:butt;stroke-linejoin:miter;stroke-opacity:1\"/>\n",
       "<path class=\"bond-27 atom-28 atom-29\" d=\"M 254.9,54.9 L 260.4,51.7\" style=\"fill:none;fill-rule:evenodd;stroke:#FF0000;stroke-width:2.0px;stroke-linecap:butt;stroke-linejoin:miter;stroke-opacity:1\"/>\n",
       "<path class=\"bond-27 atom-28 atom-29\" d=\"M 260.4,51.7 L 266.0,48.5\" style=\"fill:none;fill-rule:evenodd;stroke:#000000;stroke-width:2.0px;stroke-linecap:butt;stroke-linejoin:miter;stroke-opacity:1\"/>\n",
       "<path class=\"bond-28 atom-29 atom-30\" d=\"M 266.0,48.5 L 266.0,32.7\" style=\"fill:none;fill-rule:evenodd;stroke:#000000;stroke-width:2.0px;stroke-linecap:butt;stroke-linejoin:miter;stroke-opacity:1\"/>\n",
       "<path class=\"bond-29 atom-30 atom-31\" d=\"M 266.0,32.7 L 279.6,24.8\" style=\"fill:none;fill-rule:evenodd;stroke:#000000;stroke-width:2.0px;stroke-linecap:butt;stroke-linejoin:miter;stroke-opacity:1\"/>\n",
       "<path class=\"bond-30 atom-31 atom-32\" d=\"M 279.6,24.8 L 279.6,9.1\" style=\"fill:none;fill-rule:evenodd;stroke:#000000;stroke-width:2.0px;stroke-linecap:butt;stroke-linejoin:miter;stroke-opacity:1\"/>\n",
       "<path class=\"bond-31 atom-15 atom-24\" d=\"M 211.3,80.1 L 225.0,72.2\" style=\"fill:none;fill-rule:evenodd;stroke:#000000;stroke-width:2.0px;stroke-linecap:butt;stroke-linejoin:miter;stroke-opacity:1\"/>\n",
       "<path class=\"bond-32 atom-33 atom-34\" d=\"M 225.0,56.4 L 238.7,48.5\" style=\"fill:none;fill-rule:evenodd;stroke:#000000;stroke-width:2.0px;stroke-linecap:butt;stroke-linejoin:miter;stroke-opacity:1\"/>\n",
       "<path class=\"bond-33 atom-34 atom-35\" d=\"M 238.7,48.5 L 238.7,32.7\" style=\"fill:none;fill-rule:evenodd;stroke:#000000;stroke-width:2.0px;stroke-linecap:butt;stroke-linejoin:miter;stroke-opacity:1\"/>\n",
       "<path class=\"bond-34 atom-35 atom-36\" d=\"M 237.9,31.4 L 243.4,28.2\" style=\"fill:none;fill-rule:evenodd;stroke:#000000;stroke-width:2.0px;stroke-linecap:butt;stroke-linejoin:miter;stroke-opacity:1\"/>\n",
       "<path class=\"bond-34 atom-35 atom-36\" d=\"M 243.4,28.2 L 249.0,25.0\" style=\"fill:none;fill-rule:evenodd;stroke:#FF0000;stroke-width:2.0px;stroke-linecap:butt;stroke-linejoin:miter;stroke-opacity:1\"/>\n",
       "<path class=\"bond-34 atom-35 atom-36\" d=\"M 239.4,34.1 L 245.0,30.9\" style=\"fill:none;fill-rule:evenodd;stroke:#000000;stroke-width:2.0px;stroke-linecap:butt;stroke-linejoin:miter;stroke-opacity:1\"/>\n",
       "<path class=\"bond-34 atom-35 atom-36\" d=\"M 245.0,30.9 L 250.5,27.7\" style=\"fill:none;fill-rule:evenodd;stroke:#FF0000;stroke-width:2.0px;stroke-linecap:butt;stroke-linejoin:miter;stroke-opacity:1\"/>\n",
       "<path class=\"bond-35 atom-35 atom-37\" d=\"M 238.7,32.7 L 232.9,29.4\" style=\"fill:none;fill-rule:evenodd;stroke:#000000;stroke-width:2.0px;stroke-linecap:butt;stroke-linejoin:miter;stroke-opacity:1\"/>\n",
       "<path class=\"bond-35 atom-35 atom-37\" d=\"M 232.9,29.4 L 227.2,26.1\" style=\"fill:none;fill-rule:evenodd;stroke:#0000FF;stroke-width:2.0px;stroke-linecap:butt;stroke-linejoin:miter;stroke-opacity:1\"/>\n",
       "<path class=\"bond-36 atom-24 atom-33\" d=\"M 225.0,72.2 L 225.0,56.4\" style=\"fill:none;fill-rule:evenodd;stroke:#000000;stroke-width:2.0px;stroke-linecap:butt;stroke-linejoin:miter;stroke-opacity:1\"/>\n",
       "<path class=\"bond-37 atom-38 atom-39\" d=\"M 211.3,48.5 L 211.3,32.7\" style=\"fill:none;fill-rule:evenodd;stroke:#000000;stroke-width:2.0px;stroke-linecap:butt;stroke-linejoin:miter;stroke-opacity:1\"/>\n",
       "<path class=\"bond-38 atom-39 atom-40\" d=\"M 211.3,32.7 L 197.7,24.9\" style=\"fill:none;fill-rule:evenodd;stroke:#000000;stroke-width:2.0px;stroke-linecap:butt;stroke-linejoin:miter;stroke-opacity:1\"/>\n",
       "<path class=\"bond-39 atom-40 atom-41\" d=\"M 196.1,24.9 L 196.1,18.4\" style=\"fill:none;fill-rule:evenodd;stroke:#000000;stroke-width:2.0px;stroke-linecap:butt;stroke-linejoin:miter;stroke-opacity:1\"/>\n",
       "<path class=\"bond-39 atom-40 atom-41\" d=\"M 196.1,18.4 L 196.1,11.9\" style=\"fill:none;fill-rule:evenodd;stroke:#FF0000;stroke-width:2.0px;stroke-linecap:butt;stroke-linejoin:miter;stroke-opacity:1\"/>\n",
       "<path class=\"bond-39 atom-40 atom-41\" d=\"M 199.2,24.9 L 199.2,18.4\" style=\"fill:none;fill-rule:evenodd;stroke:#000000;stroke-width:2.0px;stroke-linecap:butt;stroke-linejoin:miter;stroke-opacity:1\"/>\n",
       "<path class=\"bond-39 atom-40 atom-41\" d=\"M 199.2,18.4 L 199.2,11.9\" style=\"fill:none;fill-rule:evenodd;stroke:#FF0000;stroke-width:2.0px;stroke-linecap:butt;stroke-linejoin:miter;stroke-opacity:1\"/>\n",
       "<path class=\"bond-40 atom-40 atom-42\" d=\"M 197.7,24.9 L 192.1,28.1\" style=\"fill:none;fill-rule:evenodd;stroke:#000000;stroke-width:2.0px;stroke-linecap:butt;stroke-linejoin:miter;stroke-opacity:1\"/>\n",
       "<path class=\"bond-40 atom-40 atom-42\" d=\"M 192.1,28.1 L 186.6,31.3\" style=\"fill:none;fill-rule:evenodd;stroke:#FF0000;stroke-width:2.0px;stroke-linecap:butt;stroke-linejoin:miter;stroke-opacity:1\"/>\n",
       "<path class=\"bond-41 atom-42 atom-43\" d=\"M 181.4,31.3 L 175.9,28.1\" style=\"fill:none;fill-rule:evenodd;stroke:#FF0000;stroke-width:2.0px;stroke-linecap:butt;stroke-linejoin:miter;stroke-opacity:1\"/>\n",
       "<path class=\"bond-41 atom-42 atom-43\" d=\"M 175.9,28.1 L 170.3,24.9\" style=\"fill:none;fill-rule:evenodd;stroke:#000000;stroke-width:2.0px;stroke-linecap:butt;stroke-linejoin:miter;stroke-opacity:1\"/>\n",
       "<path class=\"bond-42 atom-43 atom-44\" d=\"M 170.3,24.9 L 156.7,32.8\" style=\"fill:none;fill-rule:evenodd;stroke:#000000;stroke-width:2.0px;stroke-linecap:butt;stroke-linejoin:miter;stroke-opacity:1\"/>\n",
       "<path class=\"bond-43 atom-44 atom-45\" d=\"M 156.7,32.8 L 143.0,24.9\" style=\"fill:none;fill-rule:evenodd;stroke:#000000;stroke-width:2.0px;stroke-linecap:butt;stroke-linejoin:miter;stroke-opacity:1\"/>\n",
       "<path class=\"bond-44 atom-45 atom-46\" d=\"M 143.0,24.9 L 129.4,32.8\" style=\"fill:none;fill-rule:evenodd;stroke:#000000;stroke-width:2.0px;stroke-linecap:butt;stroke-linejoin:miter;stroke-opacity:1\"/>\n",
       "<path class=\"bond-45 atom-33 atom-38\" d=\"M 225.0,56.4 L 211.3,48.5\" style=\"fill:none;fill-rule:evenodd;stroke:#000000;stroke-width:2.0px;stroke-linecap:butt;stroke-linejoin:miter;stroke-opacity:1\"/>\n",
       "<path class=\"bond-46 atom-38 atom-47\" d=\"M 211.3,48.5 L 199.9,55.1\" style=\"fill:none;fill-rule:evenodd;stroke:#000000;stroke-width:2.0px;stroke-linecap:butt;stroke-linejoin:miter;stroke-opacity:1\"/>\n",
       "<path class=\"atom-0\" d=\"M 223.3 117.3 L 223.9 117.3 L 223.9 119.2 L 226.2 119.2 L 226.2 117.3 L 226.8 117.3 L 226.8 121.7 L 226.2 121.7 L 226.2 119.7 L 223.9 119.7 L 223.9 121.7 L 223.3 121.7 L 223.3 117.3 \" fill=\"#000000\"/>\n",
       "<path class=\"atom-4\" d=\"M 250.3 119.5 Q 250.3 118.4, 250.8 117.8 Q 251.3 117.2, 252.3 117.2 Q 253.3 117.2, 253.9 117.8 Q 254.4 118.4, 254.4 119.5 Q 254.4 120.6, 253.9 121.2 Q 253.3 121.8, 252.3 121.8 Q 251.4 121.8, 250.8 121.2 Q 250.3 120.6, 250.3 119.5 M 252.3 121.3 Q 253.0 121.3, 253.4 120.9 Q 253.8 120.4, 253.8 119.5 Q 253.8 118.6, 253.4 118.2 Q 253.0 117.7, 252.3 117.7 Q 251.7 117.7, 251.3 118.2 Q 250.9 118.6, 250.9 119.5 Q 250.9 120.4, 251.3 120.9 Q 251.7 121.3, 252.3 121.3 \" fill=\"#FF0000\"/>\n",
       "<path class=\"atom-5\" d=\"M 263.9 95.8 Q 263.9 94.8, 264.5 94.2 Q 265.0 93.6, 266.0 93.6 Q 267.0 93.6, 267.5 94.2 Q 268.0 94.8, 268.0 95.8 Q 268.0 96.9, 267.5 97.5 Q 267.0 98.2, 266.0 98.2 Q 265.0 98.2, 264.5 97.5 Q 263.9 96.9, 263.9 95.8 M 266.0 97.7 Q 266.7 97.7, 267.0 97.2 Q 267.4 96.7, 267.4 95.8 Q 267.4 95.0, 267.0 94.5 Q 266.7 94.1, 266.0 94.1 Q 265.3 94.1, 264.9 94.5 Q 264.6 95.0, 264.6 95.8 Q 264.6 96.7, 264.9 97.2 Q 265.3 97.7, 266.0 97.7 \" fill=\"#FF0000\"/>\n",
       "<path class=\"atom-13\" d=\"M 209.3 127.4 Q 209.3 126.3, 209.8 125.7 Q 210.4 125.1, 211.4 125.1 Q 212.3 125.1, 212.9 125.7 Q 213.4 126.3, 213.4 127.4 Q 213.4 128.5, 212.9 129.1 Q 212.3 129.7, 211.4 129.7 Q 210.4 129.7, 209.8 129.1 Q 209.3 128.5, 209.3 127.4 M 211.4 129.2 Q 212.0 129.2, 212.4 128.8 Q 212.8 128.3, 212.8 127.4 Q 212.8 126.5, 212.4 126.1 Q 212.0 125.6, 211.4 125.6 Q 210.7 125.6, 210.3 126.1 Q 209.9 126.5, 209.9 127.4 Q 209.9 128.3, 210.3 128.8 Q 210.7 129.2, 211.4 129.2 \" fill=\"#FF0000\"/>\n",
       "<path class=\"atom-14\" d=\"M 176.1 125.2 L 176.7 125.2 L 176.7 127.1 L 179.0 127.1 L 179.0 125.2 L 179.6 125.2 L 179.6 129.6 L 179.0 129.6 L 179.0 127.6 L 176.7 127.6 L 176.7 129.6 L 176.1 129.6 L 176.1 125.2 \" fill=\"#0000FF\"/>\n",
       "<path class=\"atom-14\" d=\"M 180.1 129.5 Q 180.2 129.2, 180.5 129.0 Q 180.7 128.9, 181.1 128.9 Q 181.5 128.9, 181.8 129.1 Q 182.0 129.4, 182.0 129.8 Q 182.0 130.2, 181.7 130.6 Q 181.4 131.1, 180.7 131.5 L 182.1 131.5 L 182.1 131.9 L 180.1 131.9 L 180.1 131.6 Q 180.6 131.2, 181.0 130.9 Q 181.3 130.6, 181.5 130.4 Q 181.6 130.1, 181.6 129.8 Q 181.6 129.5, 181.5 129.4 Q 181.3 129.2, 181.1 129.2 Q 180.9 129.2, 180.7 129.3 Q 180.5 129.4, 180.4 129.6 L 180.1 129.5 \" fill=\"#0000FF\"/>\n",
       "<path class=\"atom-14\" d=\"M 183.0 125.2 L 184.5 127.5 Q 184.7 127.8, 184.9 128.2 Q 185.1 128.6, 185.1 128.6 L 185.1 125.2 L 185.7 125.2 L 185.7 129.6 L 185.1 129.6 L 183.5 127.0 Q 183.4 126.7, 183.2 126.4 Q 183.0 126.0, 182.9 125.9 L 182.9 129.6 L 182.3 129.6 L 182.3 125.2 L 183.0 125.2 \" fill=\"#0000FF\"/>\n",
       "<path class=\"atom-18\" d=\"M 168.3 72.2 Q 168.3 71.1, 168.8 70.5 Q 169.4 69.9, 170.4 69.9 Q 171.3 69.9, 171.9 70.5 Q 172.4 71.1, 172.4 72.2 Q 172.4 73.3, 171.9 73.9 Q 171.3 74.5, 170.4 74.5 Q 169.4 74.5, 168.8 73.9 Q 168.3 73.3, 168.3 72.2 M 170.4 74.0 Q 171.0 74.0, 171.4 73.6 Q 171.8 73.1, 171.8 72.2 Q 171.8 71.3, 171.4 70.9 Q 171.0 70.4, 170.4 70.4 Q 169.7 70.4, 169.3 70.9 Q 168.9 71.3, 168.9 72.2 Q 168.9 73.1, 169.3 73.6 Q 169.7 74.0, 170.4 74.0 \" fill=\"#FF0000\"/>\n",
       "<path class=\"atom-19\" d=\"M 182.0 95.9 Q 182.0 94.8, 182.5 94.2 Q 183.0 93.6, 184.0 93.6 Q 185.0 93.6, 185.5 94.2 Q 186.1 94.8, 186.1 95.9 Q 186.1 96.9, 185.5 97.6 Q 185.0 98.2, 184.0 98.2 Q 183.0 98.2, 182.5 97.6 Q 182.0 97.0, 182.0 95.9 M 184.0 97.7 Q 184.7 97.7, 185.1 97.2 Q 185.4 96.8, 185.4 95.9 Q 185.4 95.0, 185.1 94.5 Q 184.7 94.1, 184.0 94.1 Q 183.3 94.1, 183.0 94.5 Q 182.6 95.0, 182.6 95.9 Q 182.6 96.8, 183.0 97.2 Q 183.3 97.7, 184.0 97.7 \" fill=\"#FF0000\"/>\n",
       "<path class=\"atom-27\" d=\"M 263.9 80.1 Q 263.9 79.0, 264.5 78.4 Q 265.0 77.8, 266.0 77.8 Q 267.0 77.8, 267.5 78.4 Q 268.0 79.0, 268.0 80.1 Q 268.0 81.1, 267.5 81.8 Q 267.0 82.4, 266.0 82.4 Q 265.0 82.4, 264.5 81.8 Q 263.9 81.2, 263.9 80.1 M 266.0 81.9 Q 266.7 81.9, 267.0 81.4 Q 267.4 81.0, 267.4 80.1 Q 267.4 79.2, 267.0 78.7 Q 266.7 78.3, 266.0 78.3 Q 265.3 78.3, 264.9 78.7 Q 264.6 79.2, 264.6 80.1 Q 264.6 81.0, 264.9 81.4 Q 265.3 81.9, 266.0 81.9 \" fill=\"#FF0000\"/>\n",
       "<path class=\"atom-28\" d=\"M 250.3 56.4 Q 250.3 55.3, 250.8 54.7 Q 251.3 54.1, 252.3 54.1 Q 253.3 54.1, 253.8 54.7 Q 254.4 55.3, 254.4 56.4 Q 254.4 57.5, 253.8 58.1 Q 253.3 58.7, 252.3 58.7 Q 251.3 58.7, 250.8 58.1 Q 250.3 57.5, 250.3 56.4 M 252.3 58.2 Q 253.0 58.2, 253.4 57.8 Q 253.7 57.3, 253.7 56.4 Q 253.7 55.5, 253.4 55.1 Q 253.0 54.6, 252.3 54.6 Q 251.6 54.6, 251.3 55.1 Q 250.9 55.5, 250.9 56.4 Q 250.9 57.3, 251.3 57.8 Q 251.6 58.2, 252.3 58.2 \" fill=\"#FF0000\"/>\n",
       "<path class=\"atom-36\" d=\"M 250.3 24.9 Q 250.3 23.8, 250.8 23.2 Q 251.3 22.6, 252.3 22.6 Q 253.3 22.6, 253.8 23.2 Q 254.4 23.8, 254.4 24.9 Q 254.4 25.9, 253.8 26.6 Q 253.3 27.2, 252.3 27.2 Q 251.3 27.2, 250.8 26.6 Q 250.3 25.9, 250.3 24.9 M 252.3 26.7 Q 253.0 26.7, 253.4 26.2 Q 253.7 25.7, 253.7 24.9 Q 253.7 24.0, 253.4 23.5 Q 253.0 23.1, 252.3 23.1 Q 251.6 23.1, 251.3 23.5 Q 250.9 24.0, 250.9 24.9 Q 250.9 25.8, 251.3 26.2 Q 251.6 26.7, 252.3 26.7 \" fill=\"#FF0000\"/>\n",
       "<path class=\"atom-37\" d=\"M 217.0 22.6 L 217.6 22.6 L 217.6 24.5 L 219.9 24.5 L 219.9 22.6 L 220.5 22.6 L 220.5 27.1 L 219.9 27.1 L 219.9 25.0 L 217.6 25.0 L 217.6 27.1 L 217.0 27.1 L 217.0 22.6 \" fill=\"#0000FF\"/>\n",
       "<path class=\"atom-37\" d=\"M 221.1 26.9 Q 221.2 26.6, 221.4 26.5 Q 221.7 26.3, 222.1 26.3 Q 222.5 26.3, 222.7 26.6 Q 223.0 26.8, 223.0 27.2 Q 223.0 27.7, 222.7 28.1 Q 222.4 28.5, 221.7 29.0 L 223.0 29.0 L 223.0 29.3 L 221.1 29.3 L 221.1 29.0 Q 221.6 28.6, 221.9 28.4 Q 222.3 28.1, 222.4 27.8 Q 222.6 27.5, 222.6 27.3 Q 222.6 27.0, 222.4 26.8 Q 222.3 26.7, 222.1 26.7 Q 221.8 26.7, 221.7 26.8 Q 221.5 26.9, 221.4 27.1 L 221.1 26.9 \" fill=\"#0000FF\"/>\n",
       "<path class=\"atom-37\" d=\"M 224.0 22.6 L 225.5 25.0 Q 225.6 25.2, 225.8 25.6 Q 226.1 26.1, 226.1 26.1 L 226.1 22.6 L 226.7 22.6 L 226.7 27.1 L 226.1 27.1 L 224.5 24.5 Q 224.3 24.2, 224.1 23.8 Q 223.9 23.5, 223.9 23.4 L 223.9 27.1 L 223.3 27.1 L 223.3 22.6 L 224.0 22.6 \" fill=\"#0000FF\"/>\n",
       "<path class=\"atom-41\" d=\"M 195.6 9.1 Q 195.6 8.0, 196.1 7.4 Q 196.7 6.8, 197.7 6.8 Q 198.7 6.8, 199.2 7.4 Q 199.7 8.0, 199.7 9.1 Q 199.7 10.2, 199.2 10.8 Q 198.6 11.4, 197.7 11.4 Q 196.7 11.4, 196.1 10.8 Q 195.6 10.2, 195.6 9.1 M 197.7 10.9 Q 198.3 10.9, 198.7 10.4 Q 199.1 10.0, 199.1 9.1 Q 199.1 8.2, 198.7 7.8 Q 198.3 7.3, 197.7 7.3 Q 197.0 7.3, 196.6 7.8 Q 196.2 8.2, 196.2 9.1 Q 196.2 10.0, 196.6 10.4 Q 197.0 10.9, 197.7 10.9 \" fill=\"#FF0000\"/>\n",
       "<path class=\"atom-42\" d=\"M 182.0 32.8 Q 182.0 31.7, 182.5 31.1 Q 183.0 30.5, 184.0 30.5 Q 185.0 30.5, 185.5 31.1 Q 186.1 31.7, 186.1 32.8 Q 186.1 33.8, 185.5 34.5 Q 185.0 35.1, 184.0 35.1 Q 183.0 35.1, 182.5 34.5 Q 182.0 33.8, 182.0 32.8 M 184.0 34.6 Q 184.7 34.6, 185.1 34.1 Q 185.4 33.7, 185.4 32.8 Q 185.4 31.9, 185.1 31.4 Q 184.7 31.0, 184.0 31.0 Q 183.3 31.0, 183.0 31.4 Q 182.6 31.9, 182.6 32.8 Q 182.6 33.7, 183.0 34.1 Q 183.3 34.6, 184.0 34.6 \" fill=\"#FF0000\"/>\n",
       "<path class=\"atom-47\" d=\"M 195.9 54.2 L 196.5 54.2 L 196.5 56.1 L 198.8 56.1 L 198.8 54.2 L 199.4 54.2 L 199.4 58.6 L 198.8 58.6 L 198.8 56.6 L 196.5 56.6 L 196.5 58.6 L 195.9 58.6 L 195.9 54.2 \" fill=\"#000000\"/>\n",
       "<path class=\"atom-0\" d=\"M 228.0,119.5 L 228.0,119.5 L 228.0,119.6 L 228.0,119.6 L 228.0,119.6 L 228.0,119.6 L 228.0,119.7 L 228.0,119.7 L 228.0,119.7 L 227.9,119.7 L 227.9,119.7 L 227.9,119.8 L 227.9,119.8 L 227.8,119.8 L 227.8,119.8 L 227.8,119.8 L 227.8,119.8 L 227.7,119.8 L 227.7,119.8 L 227.7,119.8 L 227.7,119.8 L 227.6,119.8 L 227.6,119.8 L 227.6,119.8 L 227.6,119.8 L 227.5,119.8 L 227.5,119.7 L 227.5,119.7 L 227.5,119.7 L 227.5,119.7 L 227.4,119.7 L 227.4,119.6 L 227.4,119.6 L 227.4,119.6 L 227.4,119.6 L 227.4,119.5 L 227.4,119.5 L 227.4,119.5 L 227.4,119.5 L 227.4,119.4 L 227.4,119.4 L 227.4,119.4 L 227.4,119.4 L 227.4,119.3 L 227.5,119.3 L 227.5,119.3 L 227.5,119.3 L 227.5,119.3 L 227.5,119.2 L 227.6,119.2 L 227.6,119.2 L 227.6,119.2 L 227.6,119.2 L 227.7,119.2 L 227.7,119.2 L 227.7,119.2 L 227.7,119.2 L 227.8,119.2 L 227.8,119.2 L 227.8,119.2 L 227.8,119.2 L 227.9,119.2 L 227.9,119.2 L 227.9,119.3 L 227.9,119.3 L 228.0,119.3 L 228.0,119.3 L 228.0,119.3 L 228.0,119.4 L 228.0,119.4 L 228.0,119.4 L 228.0,119.4 L 228.0,119.5 L 228.0,119.5 L 227.7,119.5 Z\" style=\"fill:#000000;fill-rule:evenodd;fill-opacity:1;stroke:#000000;stroke-width:0.0px;stroke-linecap:butt;stroke-linejoin:miter;stroke-opacity:1;\"/>\n",
       "<path class=\"atom-47\" d=\"M 195.3,56.4 L 195.3,56.4 L 195.3,56.5 L 195.3,56.5 L 195.3,56.5 L 195.3,56.5 L 195.3,56.6 L 195.2,56.6 L 195.2,56.6 L 195.2,56.6 L 195.2,56.6 L 195.2,56.7 L 195.1,56.7 L 195.1,56.7 L 195.1,56.7 L 195.1,56.7 L 195.0,56.7 L 195.0,56.7 L 195.0,56.7 L 195.0,56.7 L 194.9,56.7 L 194.9,56.7 L 194.9,56.7 L 194.9,56.7 L 194.8,56.7 L 194.8,56.7 L 194.8,56.7 L 194.8,56.6 L 194.7,56.6 L 194.7,56.6 L 194.7,56.6 L 194.7,56.5 L 194.7,56.5 L 194.7,56.5 L 194.7,56.5 L 194.7,56.4 L 194.7,56.4 L 194.7,56.4 L 194.7,56.4 L 194.7,56.3 L 194.7,56.3 L 194.7,56.3 L 194.7,56.3 L 194.7,56.2 L 194.7,56.2 L 194.7,56.2 L 194.8,56.2 L 194.8,56.2 L 194.8,56.1 L 194.8,56.1 L 194.9,56.1 L 194.9,56.1 L 194.9,56.1 L 194.9,56.1 L 195.0,56.1 L 195.0,56.1 L 195.0,56.1 L 195.0,56.1 L 195.1,56.1 L 195.1,56.1 L 195.1,56.1 L 195.1,56.1 L 195.2,56.1 L 195.2,56.2 L 195.2,56.2 L 195.2,56.2 L 195.2,56.2 L 195.3,56.2 L 195.3,56.3 L 195.3,56.3 L 195.3,56.3 L 195.3,56.4 L 195.3,56.4 L 195.3,56.4 L 195.0,56.4 Z\" style=\"fill:#000000;fill-rule:evenodd;fill-opacity:1;stroke:#000000;stroke-width:0.0px;stroke-linecap:butt;stroke-linejoin:miter;stroke-opacity:1;\"/>\n",
       "</svg>"
      ],
      "text/plain": [
       "<IPython.core.display.SVG object>"
      ]
     },
     "execution_count": 37,
     "metadata": {},
     "output_type": "execute_result"
    }
   ],
   "source": [
    "big_smiles_gen(big)"
   ]
  },
  {
   "cell_type": "code",
   "execution_count": 38,
   "id": "51286716",
   "metadata": {},
   "outputs": [
    {
     "data": {
      "image/svg+xml": [
       "<svg xmlns=\"http://www.w3.org/2000/svg\" xmlns:rdkit=\"http://www.rdkit.org/xml\" xmlns:xlink=\"http://www.w3.org/1999/xlink\" version=\"1.1\" baseProfile=\"full\" xml:space=\"preserve\" width=\"450px\" height=\"150px\" viewBox=\"0 0 450 150\">\n",
       "<!-- END OF HEADER -->\n",
       "<rect style=\"opacity:1.0;fill:#FFFFFF;stroke:none\" width=\"450.0\" height=\"150.0\" x=\"0.0\" y=\"0.0\"> </rect>\n",
       "<path class=\"bond-0 atom-1 atom-2\" d=\"M 236.5,115.2 L 245.4,102.3\" style=\"fill:none;fill-rule:evenodd;stroke:#000000;stroke-width:2.0px;stroke-linecap:butt;stroke-linejoin:miter;stroke-opacity:1\"/>\n",
       "<path class=\"bond-1 atom-2 atom-3\" d=\"M 245.4,102.3 L 261.0,103.5\" style=\"fill:none;fill-rule:evenodd;stroke:#000000;stroke-width:2.0px;stroke-linecap:butt;stroke-linejoin:miter;stroke-opacity:1\"/>\n",
       "<path class=\"bond-2 atom-3 atom-4\" d=\"M 262.4,102.8 L 265.2,108.5\" style=\"fill:none;fill-rule:evenodd;stroke:#000000;stroke-width:2.0px;stroke-linecap:butt;stroke-linejoin:miter;stroke-opacity:1\"/>\n",
       "<path class=\"bond-2 atom-3 atom-4\" d=\"M 265.2,108.5 L 267.9,114.2\" style=\"fill:none;fill-rule:evenodd;stroke:#FF0000;stroke-width:2.0px;stroke-linecap:butt;stroke-linejoin:miter;stroke-opacity:1\"/>\n",
       "<path class=\"bond-2 atom-3 atom-4\" d=\"M 259.6,104.1 L 262.3,109.8\" style=\"fill:none;fill-rule:evenodd;stroke:#000000;stroke-width:2.0px;stroke-linecap:butt;stroke-linejoin:miter;stroke-opacity:1\"/>\n",
       "<path class=\"bond-2 atom-3 atom-4\" d=\"M 262.3,109.8 L 265.1,115.5\" style=\"fill:none;fill-rule:evenodd;stroke:#FF0000;stroke-width:2.0px;stroke-linecap:butt;stroke-linejoin:miter;stroke-opacity:1\"/>\n",
       "<path class=\"bond-3 atom-3 atom-5\" d=\"M 261.0,103.5 L 264.5,98.4\" style=\"fill:none;fill-rule:evenodd;stroke:#000000;stroke-width:2.0px;stroke-linecap:butt;stroke-linejoin:miter;stroke-opacity:1\"/>\n",
       "<path class=\"bond-3 atom-3 atom-5\" d=\"M 264.5,98.4 L 267.9,93.3\" style=\"fill:none;fill-rule:evenodd;stroke:#FF0000;stroke-width:2.0px;stroke-linecap:butt;stroke-linejoin:miter;stroke-opacity:1\"/>\n",
       "<path class=\"bond-4 atom-5 atom-6\" d=\"M 272.4,90.7 L 279.0,91.2\" style=\"fill:none;fill-rule:evenodd;stroke:#FF0000;stroke-width:2.0px;stroke-linecap:butt;stroke-linejoin:miter;stroke-opacity:1\"/>\n",
       "<path class=\"bond-4 atom-5 atom-6\" d=\"M 279.0,91.2 L 285.5,91.7\" style=\"fill:none;fill-rule:evenodd;stroke:#000000;stroke-width:2.0px;stroke-linecap:butt;stroke-linejoin:miter;stroke-opacity:1\"/>\n",
       "<path class=\"bond-5 atom-6 atom-7\" d=\"M 285.5,91.7 L 294.4,78.8\" style=\"fill:none;fill-rule:evenodd;stroke:#000000;stroke-width:2.0px;stroke-linecap:butt;stroke-linejoin:miter;stroke-opacity:1\"/>\n",
       "<path class=\"bond-6 atom-7 atom-8\" d=\"M 294.4,78.8 L 310.0,79.9\" style=\"fill:none;fill-rule:evenodd;stroke:#000000;stroke-width:2.0px;stroke-linecap:butt;stroke-linejoin:miter;stroke-opacity:1\"/>\n",
       "<path class=\"bond-7 atom-8 atom-9\" d=\"M 310.0,79.9 L 318.9,67.0\" style=\"fill:none;fill-rule:evenodd;stroke:#000000;stroke-width:2.0px;stroke-linecap:butt;stroke-linejoin:miter;stroke-opacity:1\"/>\n",
       "<path class=\"bond-8 atom-0 atom-1\" d=\"M 242.0,126.6 L 236.5,115.2\" style=\"fill:none;fill-rule:evenodd;stroke:#000000;stroke-width:2.0px;stroke-linecap:butt;stroke-linejoin:miter;stroke-opacity:1\"/>\n",
       "<path class=\"bond-9 atom-10 atom-11\" d=\"M 220.9,114.0 L 212.0,127.0\" style=\"fill:none;fill-rule:evenodd;stroke:#000000;stroke-width:2.0px;stroke-linecap:butt;stroke-linejoin:miter;stroke-opacity:1\"/>\n",
       "<path class=\"bond-10 atom-11 atom-12\" d=\"M 212.0,127.0 L 196.4,125.8\" style=\"fill:none;fill-rule:evenodd;stroke:#000000;stroke-width:2.0px;stroke-linecap:butt;stroke-linejoin:miter;stroke-opacity:1\"/>\n",
       "<path class=\"bond-11 atom-12 atom-13\" d=\"M 194.9,126.5 L 192.2,120.8\" style=\"fill:none;fill-rule:evenodd;stroke:#000000;stroke-width:2.0px;stroke-linecap:butt;stroke-linejoin:miter;stroke-opacity:1\"/>\n",
       "<path class=\"bond-11 atom-12 atom-13\" d=\"M 192.2,120.8 L 189.5,115.1\" style=\"fill:none;fill-rule:evenodd;stroke:#FF0000;stroke-width:2.0px;stroke-linecap:butt;stroke-linejoin:miter;stroke-opacity:1\"/>\n",
       "<path class=\"bond-11 atom-12 atom-13\" d=\"M 197.8,125.1 L 195.1,119.4\" style=\"fill:none;fill-rule:evenodd;stroke:#000000;stroke-width:2.0px;stroke-linecap:butt;stroke-linejoin:miter;stroke-opacity:1\"/>\n",
       "<path class=\"bond-11 atom-12 atom-13\" d=\"M 195.1,119.4 L 192.3,113.8\" style=\"fill:none;fill-rule:evenodd;stroke:#FF0000;stroke-width:2.0px;stroke-linecap:butt;stroke-linejoin:miter;stroke-opacity:1\"/>\n",
       "<path class=\"bond-12 atom-12 atom-14\" d=\"M 196.4,125.8 L 192.9,130.9\" style=\"fill:none;fill-rule:evenodd;stroke:#000000;stroke-width:2.0px;stroke-linecap:butt;stroke-linejoin:miter;stroke-opacity:1\"/>\n",
       "<path class=\"bond-12 atom-12 atom-14\" d=\"M 192.9,130.9 L 189.4,136.0\" style=\"fill:none;fill-rule:evenodd;stroke:#0000FF;stroke-width:2.0px;stroke-linecap:butt;stroke-linejoin:miter;stroke-opacity:1\"/>\n",
       "<path class=\"bond-13 atom-1 atom-10\" d=\"M 236.5,115.2 L 220.9,114.0\" style=\"fill:none;fill-rule:evenodd;stroke:#000000;stroke-width:2.0px;stroke-linecap:butt;stroke-linejoin:miter;stroke-opacity:1\"/>\n",
       "<path class=\"bond-14 atom-15 atom-16\" d=\"M 214.1,99.9 L 198.4,98.7\" style=\"fill:none;fill-rule:evenodd;stroke:#000000;stroke-width:2.0px;stroke-linecap:butt;stroke-linejoin:miter;stroke-opacity:1\"/>\n",
       "<path class=\"bond-15 atom-16 atom-17\" d=\"M 198.4,98.7 L 191.6,84.5\" style=\"fill:none;fill-rule:evenodd;stroke:#000000;stroke-width:2.0px;stroke-linecap:butt;stroke-linejoin:miter;stroke-opacity:1\"/>\n",
       "<path class=\"bond-16 atom-17 atom-18\" d=\"M 190.2,83.8 L 191.9,80.7\" style=\"fill:none;fill-rule:evenodd;stroke:#000000;stroke-width:2.0px;stroke-linecap:butt;stroke-linejoin:miter;stroke-opacity:1\"/>\n",
       "<path class=\"bond-16 atom-17 atom-18\" d=\"M 191.9,80.7 L 193.5,77.5\" style=\"fill:none;fill-rule:evenodd;stroke:#FF0000;stroke-width:2.0px;stroke-linecap:butt;stroke-linejoin:miter;stroke-opacity:1\"/>\n",
       "<path class=\"bond-16 atom-17 atom-18\" d=\"M 193.0,85.3 L 194.7,82.1\" style=\"fill:none;fill-rule:evenodd;stroke:#000000;stroke-width:2.0px;stroke-linecap:butt;stroke-linejoin:miter;stroke-opacity:1\"/>\n",
       "<path class=\"bond-16 atom-17 atom-18\" d=\"M 194.7,82.1 L 196.3,78.9\" style=\"fill:none;fill-rule:evenodd;stroke:#FF0000;stroke-width:2.0px;stroke-linecap:butt;stroke-linejoin:miter;stroke-opacity:1\"/>\n",
       "<path class=\"bond-17 atom-17 atom-19\" d=\"M 191.6,84.5 L 185.1,84.0\" style=\"fill:none;fill-rule:evenodd;stroke:#000000;stroke-width:2.0px;stroke-linecap:butt;stroke-linejoin:miter;stroke-opacity:1\"/>\n",
       "<path class=\"bond-17 atom-17 atom-19\" d=\"M 185.1,84.0 L 178.5,83.5\" style=\"fill:none;fill-rule:evenodd;stroke:#FF0000;stroke-width:2.0px;stroke-linecap:butt;stroke-linejoin:miter;stroke-opacity:1\"/>\n",
       "<path class=\"bond-18 atom-19 atom-20\" d=\"M 174.7,80.6 L 171.9,74.9\" style=\"fill:none;fill-rule:evenodd;stroke:#FF0000;stroke-width:2.0px;stroke-linecap:butt;stroke-linejoin:miter;stroke-opacity:1\"/>\n",
       "<path class=\"bond-18 atom-19 atom-20\" d=\"M 171.9,74.9 L 169.2,69.2\" style=\"fill:none;fill-rule:evenodd;stroke:#000000;stroke-width:2.0px;stroke-linecap:butt;stroke-linejoin:miter;stroke-opacity:1\"/>\n",
       "<path class=\"bond-19 atom-20 atom-21\" d=\"M 169.2,69.2 L 153.6,68.0\" style=\"fill:none;fill-rule:evenodd;stroke:#000000;stroke-width:2.0px;stroke-linecap:butt;stroke-linejoin:miter;stroke-opacity:1\"/>\n",
       "<path class=\"bond-20 atom-21 atom-22\" d=\"M 153.6,68.0 L 146.8,53.8\" style=\"fill:none;fill-rule:evenodd;stroke:#000000;stroke-width:2.0px;stroke-linecap:butt;stroke-linejoin:miter;stroke-opacity:1\"/>\n",
       "<path class=\"bond-21 atom-22 atom-23\" d=\"M 146.8,53.8 L 131.1,52.7\" style=\"fill:none;fill-rule:evenodd;stroke:#000000;stroke-width:2.0px;stroke-linecap:butt;stroke-linejoin:miter;stroke-opacity:1\"/>\n",
       "<path class=\"bond-22 atom-10 atom-15\" d=\"M 220.9,114.0 L 214.1,99.9\" style=\"fill:none;fill-rule:evenodd;stroke:#000000;stroke-width:2.0px;stroke-linecap:butt;stroke-linejoin:miter;stroke-opacity:1\"/>\n",
       "<path class=\"bond-23 atom-24 atom-25\" d=\"M 222.9,86.9 L 238.6,88.1\" style=\"fill:none;fill-rule:evenodd;stroke:#000000;stroke-width:2.0px;stroke-linecap:butt;stroke-linejoin:miter;stroke-opacity:1\"/>\n",
       "<path class=\"bond-24 atom-25 atom-26\" d=\"M 238.6,88.1 L 247.4,75.2\" style=\"fill:none;fill-rule:evenodd;stroke:#000000;stroke-width:2.0px;stroke-linecap:butt;stroke-linejoin:miter;stroke-opacity:1\"/>\n",
       "<path class=\"bond-25 atom-26 atom-27\" d=\"M 247.6,73.6 L 254.1,74.1\" style=\"fill:none;fill-rule:evenodd;stroke:#000000;stroke-width:2.0px;stroke-linecap:butt;stroke-linejoin:miter;stroke-opacity:1\"/>\n",
       "<path class=\"bond-25 atom-26 atom-27\" d=\"M 254.1,74.1 L 260.7,74.6\" style=\"fill:none;fill-rule:evenodd;stroke:#FF0000;stroke-width:2.0px;stroke-linecap:butt;stroke-linejoin:miter;stroke-opacity:1\"/>\n",
       "<path class=\"bond-25 atom-26 atom-27\" d=\"M 247.3,76.7 L 253.9,77.2\" style=\"fill:none;fill-rule:evenodd;stroke:#000000;stroke-width:2.0px;stroke-linecap:butt;stroke-linejoin:miter;stroke-opacity:1\"/>\n",
       "<path class=\"bond-25 atom-26 atom-27\" d=\"M 253.9,77.2 L 260.4,77.7\" style=\"fill:none;fill-rule:evenodd;stroke:#FF0000;stroke-width:2.0px;stroke-linecap:butt;stroke-linejoin:miter;stroke-opacity:1\"/>\n",
       "<path class=\"bond-26 atom-26 atom-28\" d=\"M 247.4,75.2 L 244.7,69.5\" style=\"fill:none;fill-rule:evenodd;stroke:#000000;stroke-width:2.0px;stroke-linecap:butt;stroke-linejoin:miter;stroke-opacity:1\"/>\n",
       "<path class=\"bond-26 atom-26 atom-28\" d=\"M 244.7,69.5 L 242.0,63.8\" style=\"fill:none;fill-rule:evenodd;stroke:#FF0000;stroke-width:2.0px;stroke-linecap:butt;stroke-linejoin:miter;stroke-opacity:1\"/>\n",
       "<path class=\"bond-27 atom-28 atom-29\" d=\"M 242.5,58.3 L 246.0,53.2\" style=\"fill:none;fill-rule:evenodd;stroke:#FF0000;stroke-width:2.0px;stroke-linecap:butt;stroke-linejoin:miter;stroke-opacity:1\"/>\n",
       "<path class=\"bond-27 atom-28 atom-29\" d=\"M 246.0,53.2 L 249.5,48.1\" style=\"fill:none;fill-rule:evenodd;stroke:#000000;stroke-width:2.0px;stroke-linecap:butt;stroke-linejoin:miter;stroke-opacity:1\"/>\n",
       "<path class=\"bond-28 atom-29 atom-30\" d=\"M 249.5,48.1 L 242.7,33.9\" style=\"fill:none;fill-rule:evenodd;stroke:#000000;stroke-width:2.0px;stroke-linecap:butt;stroke-linejoin:miter;stroke-opacity:1\"/>\n",
       "<path class=\"bond-29 atom-30 atom-31\" d=\"M 242.7,33.9 L 251.6,21.0\" style=\"fill:none;fill-rule:evenodd;stroke:#000000;stroke-width:2.0px;stroke-linecap:butt;stroke-linejoin:miter;stroke-opacity:1\"/>\n",
       "<path class=\"bond-30 atom-31 atom-32\" d=\"M 251.6,21.0 L 244.8,6.8\" style=\"fill:none;fill-rule:evenodd;stroke:#000000;stroke-width:2.0px;stroke-linecap:butt;stroke-linejoin:miter;stroke-opacity:1\"/>\n",
       "<path class=\"bond-31 atom-15 atom-24\" d=\"M 214.1,99.9 L 222.9,86.9\" style=\"fill:none;fill-rule:evenodd;stroke:#000000;stroke-width:2.0px;stroke-linecap:butt;stroke-linejoin:miter;stroke-opacity:1\"/>\n",
       "<path class=\"bond-32 atom-33 atom-34\" d=\"M 216.1,72.8 L 225.0,59.8\" style=\"fill:none;fill-rule:evenodd;stroke:#000000;stroke-width:2.0px;stroke-linecap:butt;stroke-linejoin:miter;stroke-opacity:1\"/>\n",
       "<path class=\"bond-33 atom-34 atom-35\" d=\"M 225.0,59.8 L 218.2,45.7\" style=\"fill:none;fill-rule:evenodd;stroke:#000000;stroke-width:2.0px;stroke-linecap:butt;stroke-linejoin:miter;stroke-opacity:1\"/>\n",
       "<path class=\"bond-34 atom-35 atom-36\" d=\"M 218.1,47.2 L 211.5,46.7\" style=\"fill:none;fill-rule:evenodd;stroke:#000000;stroke-width:2.0px;stroke-linecap:butt;stroke-linejoin:miter;stroke-opacity:1\"/>\n",
       "<path class=\"bond-34 atom-35 atom-36\" d=\"M 211.5,46.7 L 205.0,46.2\" style=\"fill:none;fill-rule:evenodd;stroke:#FF0000;stroke-width:2.0px;stroke-linecap:butt;stroke-linejoin:miter;stroke-opacity:1\"/>\n",
       "<path class=\"bond-34 atom-35 atom-36\" d=\"M 218.3,44.1 L 211.8,43.6\" style=\"fill:none;fill-rule:evenodd;stroke:#000000;stroke-width:2.0px;stroke-linecap:butt;stroke-linejoin:miter;stroke-opacity:1\"/>\n",
       "<path class=\"bond-34 atom-35 atom-36\" d=\"M 211.8,43.6 L 205.2,43.1\" style=\"fill:none;fill-rule:evenodd;stroke:#FF0000;stroke-width:2.0px;stroke-linecap:butt;stroke-linejoin:miter;stroke-opacity:1\"/>\n",
       "<path class=\"bond-35 atom-35 atom-37\" d=\"M 218.2,45.7 L 221.7,40.6\" style=\"fill:none;fill-rule:evenodd;stroke:#000000;stroke-width:2.0px;stroke-linecap:butt;stroke-linejoin:miter;stroke-opacity:1\"/>\n",
       "<path class=\"bond-35 atom-35 atom-37\" d=\"M 221.7,40.6 L 225.2,35.5\" style=\"fill:none;fill-rule:evenodd;stroke:#0000FF;stroke-width:2.0px;stroke-linecap:butt;stroke-linejoin:miter;stroke-opacity:1\"/>\n",
       "<path class=\"bond-36 atom-24 atom-33\" d=\"M 222.9,86.9 L 216.1,72.8\" style=\"fill:none;fill-rule:evenodd;stroke:#000000;stroke-width:2.0px;stroke-linecap:butt;stroke-linejoin:miter;stroke-opacity:1\"/>\n",
       "<path class=\"bond-37 atom-33 atom-38\" d=\"M 216.1,72.8 L 208.3,71.2\" style=\"fill:none;fill-rule:evenodd;stroke:#000000;stroke-width:2.0px;stroke-linecap:butt;stroke-linejoin:miter;stroke-opacity:1\"/>\n",
       "<path class=\"atom-0\" d=\"M 241.6 127.1 L 242.2 127.1 L 242.2 129.0 L 244.4 129.0 L 244.4 127.1 L 245.0 127.1 L 245.0 131.6 L 244.4 131.6 L 244.4 129.5 L 242.2 129.5 L 242.2 131.6 L 241.6 131.6 L 241.6 127.1 \" fill=\"#000000\"/>\n",
       "<path class=\"atom-4\" d=\"M 265.8 117.6 Q 265.8 116.6, 266.3 116.0 Q 266.8 115.4, 267.8 115.4 Q 268.8 115.4, 269.3 116.0 Q 269.8 116.6, 269.8 117.6 Q 269.8 118.7, 269.3 119.3 Q 268.8 119.9, 267.8 119.9 Q 266.8 119.9, 266.3 119.3 Q 265.8 118.7, 265.8 117.6 M 267.8 119.4 Q 268.5 119.4, 268.8 119.0 Q 269.2 118.5, 269.2 117.6 Q 269.2 116.8, 268.8 116.3 Q 268.5 115.9, 267.8 115.9 Q 267.1 115.9, 266.8 116.3 Q 266.4 116.7, 266.4 117.6 Q 266.4 118.5, 266.8 119.0 Q 267.1 119.4, 267.8 119.4 \" fill=\"#FF0000\"/>\n",
       "<path class=\"atom-5\" d=\"M 267.8 90.5 Q 267.8 89.5, 268.4 88.9 Q 268.9 88.3, 269.9 88.3 Q 270.9 88.3, 271.4 88.9 Q 271.9 89.5, 271.9 90.5 Q 271.9 91.6, 271.4 92.2 Q 270.8 92.8, 269.9 92.8 Q 268.9 92.8, 268.4 92.2 Q 267.8 91.6, 267.8 90.5 M 269.9 92.3 Q 270.5 92.3, 270.9 91.9 Q 271.3 91.4, 271.3 90.5 Q 271.3 89.7, 270.9 89.2 Q 270.5 88.8, 269.9 88.8 Q 269.2 88.8, 268.8 89.2 Q 268.5 89.6, 268.5 90.5 Q 268.5 91.4, 268.8 91.9 Q 269.2 92.3, 269.9 92.3 \" fill=\"#FF0000\"/>\n",
       "<path class=\"atom-13\" d=\"M 187.5 111.6 Q 187.5 110.6, 188.1 110.0 Q 188.6 109.4, 189.6 109.4 Q 190.6 109.4, 191.1 110.0 Q 191.6 110.6, 191.6 111.6 Q 191.6 112.7, 191.1 113.3 Q 190.5 114.0, 189.6 114.0 Q 188.6 114.0, 188.1 113.3 Q 187.5 112.7, 187.5 111.6 M 189.6 113.5 Q 190.2 113.5, 190.6 113.0 Q 191.0 112.5, 191.0 111.6 Q 191.0 110.8, 190.6 110.3 Q 190.2 109.9, 189.6 109.9 Q 188.9 109.9, 188.5 110.3 Q 188.2 110.8, 188.2 111.6 Q 188.2 112.5, 188.5 113.0 Q 188.9 113.5, 189.6 113.5 \" fill=\"#FF0000\"/>\n",
       "<path class=\"atom-14\" d=\"M 179.6 136.5 L 180.2 136.5 L 180.2 138.4 L 182.4 138.4 L 182.4 136.5 L 183.1 136.5 L 183.1 141.0 L 182.4 141.0 L 182.4 138.9 L 180.2 138.9 L 180.2 141.0 L 179.6 141.0 L 179.6 136.5 \" fill=\"#0000FF\"/>\n",
       "<path class=\"atom-14\" d=\"M 183.6 140.8 Q 183.7 140.5, 184.0 140.4 Q 184.2 140.2, 184.6 140.2 Q 185.0 140.2, 185.3 140.5 Q 185.5 140.7, 185.5 141.1 Q 185.5 141.6, 185.2 142.0 Q 184.9 142.4, 184.2 142.9 L 185.6 142.9 L 185.6 143.2 L 183.6 143.2 L 183.6 142.9 Q 184.1 142.5, 184.5 142.2 Q 184.8 141.9, 184.9 141.7 Q 185.1 141.4, 185.1 141.1 Q 185.1 140.9, 185.0 140.7 Q 184.8 140.5, 184.6 140.5 Q 184.3 140.5, 184.2 140.6 Q 184.0 140.7, 183.9 140.9 L 183.6 140.8 \" fill=\"#0000FF\"/>\n",
       "<path class=\"atom-14\" d=\"M 186.5 136.5 L 188.0 138.9 Q 188.1 139.1, 188.3 139.5 Q 188.6 139.9, 188.6 140.0 L 188.6 136.5 L 189.2 136.5 L 189.2 141.0 L 188.6 141.0 L 187.0 138.4 Q 186.8 138.1, 186.6 137.7 Q 186.4 137.4, 186.4 137.3 L 186.4 141.0 L 185.8 141.0 L 185.8 136.5 L 186.5 136.5 \" fill=\"#0000FF\"/>\n",
       "<path class=\"atom-18\" d=\"M 194.3 75.4 Q 194.3 74.3, 194.9 73.7 Q 195.4 73.1, 196.4 73.1 Q 197.4 73.1, 197.9 73.7 Q 198.4 74.3, 198.4 75.4 Q 198.4 76.5, 197.9 77.1 Q 197.3 77.7, 196.4 77.7 Q 195.4 77.7, 194.9 77.1 Q 194.3 76.5, 194.3 75.4 M 196.4 77.2 Q 197.0 77.2, 197.4 76.8 Q 197.8 76.3, 197.8 75.4 Q 197.8 74.5, 197.4 74.1 Q 197.0 73.6, 196.4 73.6 Q 195.7 73.6, 195.3 74.1 Q 195.0 74.5, 195.0 75.4 Q 195.0 76.3, 195.3 76.8 Q 195.7 77.2, 196.4 77.2 \" fill=\"#FF0000\"/>\n",
       "<path class=\"atom-19\" d=\"M 173.9 83.4 Q 173.9 82.3, 174.5 81.7 Q 175.0 81.1, 176.0 81.1 Q 177.0 81.1, 177.5 81.7 Q 178.0 82.3, 178.0 83.4 Q 178.0 84.4, 177.5 85.0 Q 177.0 85.7, 176.0 85.7 Q 175.0 85.7, 174.5 85.0 Q 173.9 84.4, 173.9 83.4 M 176.0 85.2 Q 176.7 85.2, 177.0 84.7 Q 177.4 84.2, 177.4 83.4 Q 177.4 82.5, 177.0 82.0 Q 176.7 81.6, 176.0 81.6 Q 175.3 81.6, 174.9 82.0 Q 174.6 82.5, 174.6 83.4 Q 174.6 84.3, 174.9 84.7 Q 175.3 85.2, 176.0 85.2 \" fill=\"#FF0000\"/>\n",
       "<path class=\"atom-27\" d=\"M 261.0 76.4 Q 261.0 75.3, 261.6 74.7 Q 262.1 74.1, 263.1 74.1 Q 264.1 74.1, 264.6 74.7 Q 265.1 75.3, 265.1 76.4 Q 265.1 77.5, 264.6 78.1 Q 264.1 78.7, 263.1 78.7 Q 262.1 78.7, 261.6 78.1 Q 261.0 77.5, 261.0 76.4 M 263.1 78.2 Q 263.8 78.2, 264.1 77.7 Q 264.5 77.3, 264.5 76.4 Q 264.5 75.5, 264.1 75.1 Q 263.8 74.6, 263.1 74.6 Q 262.4 74.6, 262.0 75.1 Q 261.7 75.5, 261.7 76.4 Q 261.7 77.3, 262.0 77.7 Q 262.4 78.2, 263.1 78.2 \" fill=\"#FF0000\"/>\n",
       "<path class=\"atom-28\" d=\"M 238.6 61.0 Q 238.6 60.0, 239.1 59.4 Q 239.7 58.8, 240.6 58.8 Q 241.6 58.8, 242.2 59.4 Q 242.7 60.0, 242.7 61.0 Q 242.7 62.1, 242.2 62.7 Q 241.6 63.3, 240.6 63.3 Q 239.7 63.3, 239.1 62.7 Q 238.6 62.1, 238.6 61.0 M 240.6 62.8 Q 241.3 62.8, 241.7 62.4 Q 242.1 61.9, 242.1 61.0 Q 242.1 60.2, 241.7 59.7 Q 241.3 59.3, 240.6 59.3 Q 240.0 59.3, 239.6 59.7 Q 239.2 60.2, 239.2 61.0 Q 239.2 61.9, 239.6 62.4 Q 240.0 62.8, 240.6 62.8 \" fill=\"#FF0000\"/>\n",
       "<path class=\"atom-36\" d=\"M 200.5 44.5 Q 200.5 43.4, 201.1 42.8 Q 201.6 42.2, 202.6 42.2 Q 203.6 42.2, 204.1 42.8 Q 204.6 43.4, 204.6 44.5 Q 204.6 45.6, 204.1 46.2 Q 203.5 46.8, 202.6 46.8 Q 201.6 46.8, 201.1 46.2 Q 200.5 45.6, 200.5 44.5 M 202.6 46.3 Q 203.2 46.3, 203.6 45.8 Q 204.0 45.4, 204.0 44.5 Q 204.0 43.6, 203.6 43.2 Q 203.2 42.7, 202.6 42.7 Q 201.9 42.7, 201.5 43.2 Q 201.2 43.6, 201.2 44.5 Q 201.2 45.4, 201.5 45.8 Q 201.9 46.3, 202.6 46.3 \" fill=\"#FF0000\"/>\n",
       "<path class=\"atom-37\" d=\"M 226.1 30.5 L 227.5 32.9 Q 227.7 33.1, 227.9 33.5 Q 228.2 33.9, 228.2 34.0 L 228.2 30.5 L 228.8 30.5 L 228.8 34.9 L 228.1 34.9 L 226.6 32.4 Q 226.4 32.1, 226.2 31.7 Q 226.0 31.4, 226.0 31.3 L 226.0 34.9 L 225.4 34.9 L 225.4 30.5 L 226.1 30.5 \" fill=\"#0000FF\"/>\n",
       "<path class=\"atom-37\" d=\"M 229.3 30.5 L 229.9 30.5 L 229.9 32.4 L 232.2 32.4 L 232.2 30.5 L 232.8 30.5 L 232.8 34.9 L 232.2 34.9 L 232.2 32.9 L 229.9 32.9 L 229.9 34.9 L 229.3 34.9 L 229.3 30.5 \" fill=\"#0000FF\"/>\n",
       "<path class=\"atom-37\" d=\"M 233.3 34.8 Q 233.4 34.5, 233.7 34.4 Q 233.9 34.2, 234.3 34.2 Q 234.7 34.2, 235.0 34.4 Q 235.2 34.7, 235.2 35.1 Q 235.2 35.5, 234.9 36.0 Q 234.6 36.4, 233.9 36.8 L 235.3 36.8 L 235.3 37.2 L 233.3 37.2 L 233.3 36.9 Q 233.8 36.5, 234.2 36.2 Q 234.5 35.9, 234.6 35.7 Q 234.8 35.4, 234.8 35.1 Q 234.8 34.8, 234.7 34.7 Q 234.5 34.5, 234.3 34.5 Q 234.0 34.5, 233.9 34.6 Q 233.7 34.7, 233.6 34.9 L 233.3 34.8 \" fill=\"#0000FF\"/>\n",
       "<path class=\"atom-38\" d=\"M 204.3 68.5 L 204.9 68.5 L 204.9 70.4 L 207.2 70.4 L 207.2 68.5 L 207.8 68.5 L 207.8 73.0 L 207.2 73.0 L 207.2 70.9 L 204.9 70.9 L 204.9 73.0 L 204.3 73.0 L 204.3 68.5 \" fill=\"#000000\"/>\n",
       "<path class=\"atom-0\" d=\"M 246.3,129.4 L 246.3,129.4 L 246.3,129.4 L 246.3,129.5 L 246.3,129.5 L 246.3,129.5 L 246.2,129.5 L 246.2,129.5 L 246.2,129.6 L 246.2,129.6 L 246.2,129.6 L 246.2,129.6 L 246.1,129.6 L 246.1,129.7 L 246.1,129.7 L 246.1,129.7 L 246.0,129.7 L 246.0,129.7 L 246.0,129.7 L 246.0,129.7 L 245.9,129.7 L 245.9,129.7 L 245.9,129.7 L 245.9,129.7 L 245.8,129.6 L 245.8,129.6 L 245.8,129.6 L 245.8,129.6 L 245.7,129.6 L 245.7,129.6 L 245.7,129.5 L 245.7,129.5 L 245.7,129.5 L 245.7,129.5 L 245.7,129.4 L 245.7,129.4 L 245.7,129.4 L 245.7,129.4 L 245.7,129.3 L 245.7,129.3 L 245.7,129.3 L 245.7,129.3 L 245.7,129.2 L 245.7,129.2 L 245.7,129.2 L 245.7,129.2 L 245.8,129.1 L 245.8,129.1 L 245.8,129.1 L 245.8,129.1 L 245.9,129.1 L 245.9,129.1 L 245.9,129.1 L 245.9,129.1 L 246.0,129.1 L 246.0,129.1 L 246.0,129.1 L 246.0,129.1 L 246.1,129.1 L 246.1,129.1 L 246.1,129.1 L 246.1,129.1 L 246.2,129.1 L 246.2,129.1 L 246.2,129.2 L 246.2,129.2 L 246.2,129.2 L 246.2,129.2 L 246.3,129.2 L 246.3,129.3 L 246.3,129.3 L 246.3,129.3 L 246.3,129.3 L 246.3,129.4 L 246.0,129.4 Z\" style=\"fill:#000000;fill-rule:evenodd;fill-opacity:1;stroke:#000000;stroke-width:0.0px;stroke-linecap:butt;stroke-linejoin:miter;stroke-opacity:1;\"/>\n",
       "<path class=\"atom-38\" d=\"M 203.7,70.7 L 203.7,70.8 L 203.7,70.8 L 203.7,70.8 L 203.7,70.9 L 203.7,70.9 L 203.6,70.9 L 203.6,70.9 L 203.6,70.9 L 203.6,71.0 L 203.6,71.0 L 203.6,71.0 L 203.5,71.0 L 203.5,71.0 L 203.5,71.0 L 203.5,71.0 L 203.4,71.1 L 203.4,71.1 L 203.4,71.1 L 203.3,71.1 L 203.3,71.1 L 203.3,71.1 L 203.3,71.0 L 203.2,71.0 L 203.2,71.0 L 203.2,71.0 L 203.2,71.0 L 203.2,71.0 L 203.1,71.0 L 203.1,70.9 L 203.1,70.9 L 203.1,70.9 L 203.1,70.9 L 203.1,70.8 L 203.1,70.8 L 203.1,70.8 L 203.1,70.8 L 203.1,70.7 L 203.1,70.7 L 203.1,70.7 L 203.1,70.7 L 203.1,70.6 L 203.1,70.6 L 203.1,70.6 L 203.1,70.6 L 203.1,70.5 L 203.2,70.5 L 203.2,70.5 L 203.2,70.5 L 203.2,70.5 L 203.2,70.5 L 203.3,70.5 L 203.3,70.4 L 203.3,70.4 L 203.3,70.4 L 203.4,70.4 L 203.4,70.4 L 203.4,70.4 L 203.5,70.4 L 203.5,70.5 L 203.5,70.5 L 203.5,70.5 L 203.6,70.5 L 203.6,70.5 L 203.6,70.5 L 203.6,70.5 L 203.6,70.6 L 203.6,70.6 L 203.7,70.6 L 203.7,70.6 L 203.7,70.7 L 203.7,70.7 L 203.7,70.7 L 203.7,70.7 L 203.4,70.7 Z\" style=\"fill:#000000;fill-rule:evenodd;fill-opacity:1;stroke:#000000;stroke-width:0.0px;stroke-linecap:butt;stroke-linejoin:miter;stroke-opacity:1;\"/>\n",
       "</svg>"
      ],
      "text/plain": [
       "<IPython.core.display.SVG object>"
      ]
     },
     "execution_count": 38,
     "metadata": {},
     "output_type": "execute_result"
    }
   ],
   "source": [
    "big_smiles_gen(big)"
   ]
  },
  {
   "cell_type": "markdown",
   "id": "cd2b1acd",
   "metadata": {},
   "source": [
    "## Vulcanized poly(1,3-butadiene)"
   ]
  },
  {
   "cell_type": "code",
   "execution_count": 39,
   "id": "b4795529",
   "metadata": {},
   "outputs": [
    {
     "data": {
      "image/svg+xml": [
       "<svg xmlns=\"http://www.w3.org/2000/svg\" xmlns:rdkit=\"http://www.rdkit.org/xml\" xmlns:xlink=\"http://www.w3.org/1999/xlink\" version=\"1.1\" baseProfile=\"full\" xml:space=\"preserve\" width=\"450px\" height=\"150px\" viewBox=\"0 0 450 150\">\n",
       "<!-- END OF HEADER -->\n",
       "<rect style=\"opacity:1.0;fill:#FFFFFF;stroke:none\" width=\"450.0\" height=\"150.0\" x=\"0.0\" y=\"0.0\"> </rect>\n",
       "<path class=\"bond-0 atom-1 atom-2\" d=\"M 225.8,84.1 L 230.2,82.4\" style=\"fill:none;fill-rule:evenodd;stroke:#000000;stroke-width:2.0px;stroke-linecap:butt;stroke-linejoin:miter;stroke-opacity:1\"/>\n",
       "<path class=\"bond-1 atom-2 atom-3\" d=\"M 230.2,82.4 L 231.0,77.7\" style=\"fill:none;fill-rule:evenodd;stroke:#000000;stroke-width:2.0px;stroke-linecap:butt;stroke-linejoin:miter;stroke-opacity:1\"/>\n",
       "<path class=\"bond-2 atom-3 atom-4\" d=\"M 231.0,77.7 L 235.5,76.0\" style=\"fill:none;fill-rule:evenodd;stroke:#000000;stroke-width:2.0px;stroke-linecap:butt;stroke-linejoin:miter;stroke-opacity:1\"/>\n",
       "<path class=\"bond-3 atom-0 atom-3\" d=\"M 229.2,76.2 L 231.0,77.7\" style=\"fill:none;fill-rule:evenodd;stroke:#000000;stroke-width:2.0px;stroke-linecap:butt;stroke-linejoin:miter;stroke-opacity:1\"/>\n",
       "<path class=\"bond-4 atom-2 atom-5\" d=\"M 230.2,82.4 L 231.3,83.3\" style=\"fill:none;fill-rule:evenodd;stroke:#000000;stroke-width:2.0px;stroke-linecap:butt;stroke-linejoin:miter;stroke-opacity:1\"/>\n",
       "<path class=\"bond-4 atom-2 atom-5\" d=\"M 231.3,83.3 L 232.4,84.2\" style=\"fill:none;fill-rule:evenodd;stroke:#CCCC00;stroke-width:2.0px;stroke-linecap:butt;stroke-linejoin:miter;stroke-opacity:1\"/>\n",
       "<path class=\"bond-5 atom-5 atom-6\" d=\"M 235.4,84.8 L 236.9,84.3\" style=\"fill:none;fill-rule:evenodd;stroke:#CCCC00;stroke-width:2.0px;stroke-linecap:butt;stroke-linejoin:miter;stroke-opacity:1\"/>\n",
       "<path class=\"bond-6 atom-7 atom-8\" d=\"M 209.5,81.4 L 213.9,79.7\" style=\"fill:none;fill-rule:evenodd;stroke:#000000;stroke-width:2.0px;stroke-linecap:butt;stroke-linejoin:miter;stroke-opacity:1\"/>\n",
       "<path class=\"bond-7 atom-8 atom-9\" d=\"M 213.9,79.7 L 217.6,82.7\" style=\"fill:none;fill-rule:evenodd;stroke:#000000;stroke-width:2.0px;stroke-linecap:butt;stroke-linejoin:miter;stroke-opacity:1\"/>\n",
       "<path class=\"bond-7 atom-8 atom-9\" d=\"M 213.9,80.9 L 216.5,83.0\" style=\"fill:none;fill-rule:evenodd;stroke:#000000;stroke-width:2.0px;stroke-linecap:butt;stroke-linejoin:miter;stroke-opacity:1\"/>\n",
       "<path class=\"bond-8 atom-9 atom-10\" d=\"M 217.6,82.7 L 222.1,81.0\" style=\"fill:none;fill-rule:evenodd;stroke:#000000;stroke-width:2.0px;stroke-linecap:butt;stroke-linejoin:miter;stroke-opacity:1\"/>\n",
       "<path class=\"bond-9 atom-1 atom-10\" d=\"M 225.8,84.1 L 222.1,81.0\" style=\"fill:none;fill-rule:evenodd;stroke:#000000;stroke-width:2.0px;stroke-linecap:butt;stroke-linejoin:miter;stroke-opacity:1\"/>\n",
       "<path class=\"bond-10 atom-11 atom-12\" d=\"M 205.8,78.3 L 201.3,80.0\" style=\"fill:none;fill-rule:evenodd;stroke:#000000;stroke-width:2.0px;stroke-linecap:butt;stroke-linejoin:miter;stroke-opacity:1\"/>\n",
       "<path class=\"bond-11 atom-12 atom-13\" d=\"M 201.3,80.0 L 197.7,77.0\" style=\"fill:none;fill-rule:evenodd;stroke:#000000;stroke-width:2.0px;stroke-linecap:butt;stroke-linejoin:miter;stroke-opacity:1\"/>\n",
       "<path class=\"bond-11 atom-12 atom-13\" d=\"M 201.4,78.8 L 198.8,76.7\" style=\"fill:none;fill-rule:evenodd;stroke:#000000;stroke-width:2.0px;stroke-linecap:butt;stroke-linejoin:miter;stroke-opacity:1\"/>\n",
       "<path class=\"bond-12 atom-13 atom-14\" d=\"M 197.7,77.0 L 193.2,78.7\" style=\"fill:none;fill-rule:evenodd;stroke:#000000;stroke-width:2.0px;stroke-linecap:butt;stroke-linejoin:miter;stroke-opacity:1\"/>\n",
       "<path class=\"bond-13 atom-7 atom-11\" d=\"M 209.5,81.4 L 205.8,78.3\" style=\"fill:none;fill-rule:evenodd;stroke:#000000;stroke-width:2.0px;stroke-linecap:butt;stroke-linejoin:miter;stroke-opacity:1\"/>\n",
       "<path class=\"bond-14 atom-15 atom-16\" d=\"M 246.5,85.1 L 242.1,86.8\" style=\"fill:none;fill-rule:evenodd;stroke:#000000;stroke-width:2.0px;stroke-linecap:butt;stroke-linejoin:miter;stroke-opacity:1\"/>\n",
       "<path class=\"bond-15 atom-16 atom-17\" d=\"M 242.1,86.8 L 241.3,91.5\" style=\"fill:none;fill-rule:evenodd;stroke:#000000;stroke-width:2.0px;stroke-linecap:butt;stroke-linejoin:miter;stroke-opacity:1\"/>\n",
       "<path class=\"bond-16 atom-17 atom-18\" d=\"M 241.3,91.5 L 236.8,93.1\" style=\"fill:none;fill-rule:evenodd;stroke:#000000;stroke-width:2.0px;stroke-linecap:butt;stroke-linejoin:miter;stroke-opacity:1\"/>\n",
       "<path class=\"bond-17 atom-6 atom-16\" d=\"M 239.9,85.0 L 241.0,85.9\" style=\"fill:none;fill-rule:evenodd;stroke:#CCCC00;stroke-width:2.0px;stroke-linecap:butt;stroke-linejoin:miter;stroke-opacity:1\"/>\n",
       "<path class=\"bond-17 atom-6 atom-16\" d=\"M 241.0,85.9 L 242.1,86.8\" style=\"fill:none;fill-rule:evenodd;stroke:#000000;stroke-width:2.0px;stroke-linecap:butt;stroke-linejoin:miter;stroke-opacity:1\"/>\n",
       "<path class=\"bond-18 atom-19 atom-20\" d=\"M 176.9,76.0 L 181.4,74.3\" style=\"fill:none;fill-rule:evenodd;stroke:#000000;stroke-width:2.0px;stroke-linecap:butt;stroke-linejoin:miter;stroke-opacity:1\"/>\n",
       "<path class=\"bond-19 atom-20 atom-21\" d=\"M 181.4,74.3 L 185.1,77.3\" style=\"fill:none;fill-rule:evenodd;stroke:#000000;stroke-width:2.0px;stroke-linecap:butt;stroke-linejoin:miter;stroke-opacity:1\"/>\n",
       "<path class=\"bond-20 atom-21 atom-22\" d=\"M 185.1,77.3 L 189.5,75.7\" style=\"fill:none;fill-rule:evenodd;stroke:#000000;stroke-width:2.0px;stroke-linecap:butt;stroke-linejoin:miter;stroke-opacity:1\"/>\n",
       "<path class=\"bond-21 atom-14 atom-22\" d=\"M 193.2,78.7 L 189.5,75.7\" style=\"fill:none;fill-rule:evenodd;stroke:#000000;stroke-width:2.0px;stroke-linecap:butt;stroke-linejoin:miter;stroke-opacity:1\"/>\n",
       "<path class=\"bond-22 atom-20 atom-23\" d=\"M 181.4,74.3 L 181.6,73.1\" style=\"fill:none;fill-rule:evenodd;stroke:#000000;stroke-width:2.0px;stroke-linecap:butt;stroke-linejoin:miter;stroke-opacity:1\"/>\n",
       "<path class=\"bond-22 atom-20 atom-23\" d=\"M 181.6,73.1 L 181.7,72.0\" style=\"fill:none;fill-rule:evenodd;stroke:#CCCC00;stroke-width:2.0px;stroke-linecap:butt;stroke-linejoin:miter;stroke-opacity:1\"/>\n",
       "<path class=\"bond-23 atom-23 atom-24\" d=\"M 180.6,68.4 L 180.0,67.8\" style=\"fill:none;fill-rule:evenodd;stroke:#CCCC00;stroke-width:2.0px;stroke-linecap:butt;stroke-linejoin:miter;stroke-opacity:1\"/>\n",
       "<path class=\"bond-24 atom-25 atom-26\" d=\"M 262.8,87.8 L 258.4,89.5\" style=\"fill:none;fill-rule:evenodd;stroke:#000000;stroke-width:2.0px;stroke-linecap:butt;stroke-linejoin:miter;stroke-opacity:1\"/>\n",
       "<path class=\"bond-25 atom-26 atom-27\" d=\"M 258.4,89.5 L 254.7,86.4\" style=\"fill:none;fill-rule:evenodd;stroke:#000000;stroke-width:2.0px;stroke-linecap:butt;stroke-linejoin:miter;stroke-opacity:1\"/>\n",
       "<path class=\"bond-26 atom-27 atom-28\" d=\"M 254.7,86.4 L 250.2,88.1\" style=\"fill:none;fill-rule:evenodd;stroke:#000000;stroke-width:2.0px;stroke-linecap:butt;stroke-linejoin:miter;stroke-opacity:1\"/>\n",
       "<path class=\"bond-27 atom-15 atom-28\" d=\"M 246.5,85.1 L 250.2,88.1\" style=\"fill:none;fill-rule:evenodd;stroke:#000000;stroke-width:2.0px;stroke-linecap:butt;stroke-linejoin:miter;stroke-opacity:1\"/>\n",
       "<path class=\"bond-28 atom-29 atom-30\" d=\"M 246.0,63.2 L 241.5,64.9\" style=\"fill:none;fill-rule:evenodd;stroke:#000000;stroke-width:2.0px;stroke-linecap:butt;stroke-linejoin:miter;stroke-opacity:1\"/>\n",
       "<path class=\"bond-29 atom-30 atom-31\" d=\"M 241.5,64.9 L 240.7,69.6\" style=\"fill:none;fill-rule:evenodd;stroke:#000000;stroke-width:2.0px;stroke-linecap:butt;stroke-linejoin:miter;stroke-opacity:1\"/>\n",
       "<path class=\"bond-30 atom-31 atom-32\" d=\"M 240.7,69.6 L 236.3,71.3\" style=\"fill:none;fill-rule:evenodd;stroke:#000000;stroke-width:2.0px;stroke-linecap:butt;stroke-linejoin:miter;stroke-opacity:1\"/>\n",
       "<path class=\"bond-31 atom-4 atom-32\" d=\"M 235.5,76.0 L 236.3,71.3\" style=\"fill:none;fill-rule:evenodd;stroke:#000000;stroke-width:2.0px;stroke-linecap:butt;stroke-linejoin:miter;stroke-opacity:1\"/>\n",
       "<path class=\"bond-32 atom-27 atom-33\" d=\"M 254.7,86.4 L 254.9,85.3\" style=\"fill:none;fill-rule:evenodd;stroke:#000000;stroke-width:2.0px;stroke-linecap:butt;stroke-linejoin:miter;stroke-opacity:1\"/>\n",
       "<path class=\"bond-32 atom-27 atom-33\" d=\"M 254.9,85.3 L 255.1,84.1\" style=\"fill:none;fill-rule:evenodd;stroke:#CCCC00;stroke-width:2.0px;stroke-linecap:butt;stroke-linejoin:miter;stroke-opacity:1\"/>\n",
       "<path class=\"bond-33 atom-34 atom-35\" d=\"M 226.4,105.9 L 230.8,104.2\" style=\"fill:none;fill-rule:evenodd;stroke:#000000;stroke-width:2.0px;stroke-linecap:butt;stroke-linejoin:miter;stroke-opacity:1\"/>\n",
       "<path class=\"bond-34 atom-35 atom-36\" d=\"M 230.8,104.2 L 231.6,99.5\" style=\"fill:none;fill-rule:evenodd;stroke:#000000;stroke-width:2.0px;stroke-linecap:butt;stroke-linejoin:miter;stroke-opacity:1\"/>\n",
       "<path class=\"bond-35 atom-36 atom-37\" d=\"M 231.6,99.5 L 236.1,97.8\" style=\"fill:none;fill-rule:evenodd;stroke:#000000;stroke-width:2.0px;stroke-linecap:butt;stroke-linejoin:miter;stroke-opacity:1\"/>\n",
       "<path class=\"bond-36 atom-18 atom-37\" d=\"M 236.8,93.1 L 236.1,97.8\" style=\"fill:none;fill-rule:evenodd;stroke:#000000;stroke-width:2.0px;stroke-linecap:butt;stroke-linejoin:miter;stroke-opacity:1\"/>\n",
       "<path class=\"bond-37 atom-17 atom-38\" d=\"M 241.3,91.5 L 242.4,92.3\" style=\"fill:none;fill-rule:evenodd;stroke:#000000;stroke-width:2.0px;stroke-linecap:butt;stroke-linejoin:miter;stroke-opacity:1\"/>\n",
       "<path class=\"bond-37 atom-17 atom-38\" d=\"M 242.4,92.3 L 243.5,93.2\" style=\"fill:none;fill-rule:evenodd;stroke:#CCCC00;stroke-width:2.0px;stroke-linecap:butt;stroke-linejoin:miter;stroke-opacity:1\"/>\n",
       "<path class=\"bond-38 atom-26 atom-39\" d=\"M 258.4,89.5 L 258.2,90.7\" style=\"fill:none;fill-rule:evenodd;stroke:#000000;stroke-width:2.0px;stroke-linecap:butt;stroke-linejoin:miter;stroke-opacity:1\"/>\n",
       "<path class=\"bond-38 atom-26 atom-39\" d=\"M 258.2,90.7 L 258.0,91.9\" style=\"fill:none;fill-rule:evenodd;stroke:#CCCC00;stroke-width:2.0px;stroke-linecap:butt;stroke-linejoin:miter;stroke-opacity:1\"/>\n",
       "<path class=\"bond-39 atom-33 atom-40\" d=\"M 257.0,81.2 L 258.4,80.6\" style=\"fill:none;fill-rule:evenodd;stroke:#CCCC00;stroke-width:2.0px;stroke-linecap:butt;stroke-linejoin:miter;stroke-opacity:1\"/>\n",
       "<path class=\"bond-40 atom-39 atom-41\" d=\"M 259.1,95.4 L 259.7,95.9\" style=\"fill:none;fill-rule:evenodd;stroke:#CCCC00;stroke-width:2.0px;stroke-linecap:butt;stroke-linejoin:miter;stroke-opacity:1\"/>\n",
       "<path class=\"bond-41 atom-42 atom-43\" d=\"M 173.2,73.0 L 168.8,74.6\" style=\"fill:none;fill-rule:evenodd;stroke:#000000;stroke-width:2.0px;stroke-linecap:butt;stroke-linejoin:miter;stroke-opacity:1\"/>\n",
       "<path class=\"bond-42 atom-43 atom-44\" d=\"M 168.8,74.6 L 165.1,71.6\" style=\"fill:none;fill-rule:evenodd;stroke:#000000;stroke-width:2.0px;stroke-linecap:butt;stroke-linejoin:miter;stroke-opacity:1\"/>\n",
       "<path class=\"bond-42 atom-43 atom-44\" d=\"M 168.8,73.4 L 166.2,71.3\" style=\"fill:none;fill-rule:evenodd;stroke:#000000;stroke-width:2.0px;stroke-linecap:butt;stroke-linejoin:miter;stroke-opacity:1\"/>\n",
       "<path class=\"bond-43 atom-44 atom-45\" d=\"M 165.1,71.6 L 160.6,73.3\" style=\"fill:none;fill-rule:evenodd;stroke:#000000;stroke-width:2.0px;stroke-linecap:butt;stroke-linejoin:miter;stroke-opacity:1\"/>\n",
       "<path class=\"bond-44 atom-19 atom-42\" d=\"M 176.9,76.0 L 173.2,73.0\" style=\"fill:none;fill-rule:evenodd;stroke:#000000;stroke-width:2.0px;stroke-linecap:butt;stroke-linejoin:miter;stroke-opacity:1\"/>\n",
       "<path class=\"bond-45 atom-38 atom-46\" d=\"M 244.6,96.9 L 244.6,96.9\" style=\"fill:none;fill-rule:evenodd;stroke:#CCCC00;stroke-width:2.0px;stroke-linecap:butt;stroke-linejoin:miter;stroke-opacity:1\"/>\n",
       "<path class=\"bond-46 atom-47 atom-48\" d=\"M 256.4,50.5 L 252.0,52.2\" style=\"fill:none;fill-rule:evenodd;stroke:#000000;stroke-width:2.0px;stroke-linecap:butt;stroke-linejoin:miter;stroke-opacity:1\"/>\n",
       "<path class=\"bond-47 atom-48 atom-49\" d=\"M 252.0,52.2 L 251.2,56.9\" style=\"fill:none;fill-rule:evenodd;stroke:#000000;stroke-width:2.0px;stroke-linecap:butt;stroke-linejoin:miter;stroke-opacity:1\"/>\n",
       "<path class=\"bond-48 atom-49 atom-50\" d=\"M 251.2,56.9 L 246.7,58.5\" style=\"fill:none;fill-rule:evenodd;stroke:#000000;stroke-width:2.0px;stroke-linecap:butt;stroke-linejoin:miter;stroke-opacity:1\"/>\n",
       "<path class=\"bond-49 atom-29 atom-50\" d=\"M 246.0,63.2 L 246.7,58.5\" style=\"fill:none;fill-rule:evenodd;stroke:#000000;stroke-width:2.0px;stroke-linecap:butt;stroke-linejoin:miter;stroke-opacity:1\"/>\n",
       "<path class=\"bond-50 atom-21 atom-51\" d=\"M 185.1,77.3 L 184.8,78.5\" style=\"fill:none;fill-rule:evenodd;stroke:#000000;stroke-width:2.0px;stroke-linecap:butt;stroke-linejoin:miter;stroke-opacity:1\"/>\n",
       "<path class=\"bond-50 atom-21 atom-51\" d=\"M 184.8,78.5 L 184.6,79.8\" style=\"fill:none;fill-rule:evenodd;stroke:#CCCC00;stroke-width:2.0px;stroke-linecap:butt;stroke-linejoin:miter;stroke-opacity:1\"/>\n",
       "<path class=\"bond-51 atom-51 atom-52\" d=\"M 182.8,82.6 L 181.3,83.1\" style=\"fill:none;fill-rule:evenodd;stroke:#CCCC00;stroke-width:2.0px;stroke-linecap:butt;stroke-linejoin:miter;stroke-opacity:1\"/>\n",
       "<path class=\"bond-52 atom-53 atom-54\" d=\"M 256.0,103.6 L 252.3,100.5\" style=\"fill:none;fill-rule:evenodd;stroke:#000000;stroke-width:2.0px;stroke-linecap:butt;stroke-linejoin:miter;stroke-opacity:1\"/>\n",
       "<path class=\"bond-53 atom-54 atom-55\" d=\"M 252.3,100.5 L 247.9,102.2\" style=\"fill:none;fill-rule:evenodd;stroke:#000000;stroke-width:2.0px;stroke-linecap:butt;stroke-linejoin:miter;stroke-opacity:1\"/>\n",
       "<path class=\"bond-54 atom-55 atom-56\" d=\"M 247.9,102.2 L 247.1,106.9\" style=\"fill:none;fill-rule:evenodd;stroke:#000000;stroke-width:2.0px;stroke-linecap:butt;stroke-linejoin:miter;stroke-opacity:1\"/>\n",
       "<path class=\"bond-55 atom-46 atom-55\" d=\"M 245.7,100.4 L 246.8,101.3\" style=\"fill:none;fill-rule:evenodd;stroke:#CCCC00;stroke-width:2.0px;stroke-linecap:butt;stroke-linejoin:miter;stroke-opacity:1\"/>\n",
       "<path class=\"bond-55 atom-46 atom-55\" d=\"M 246.8,101.3 L 247.9,102.2\" style=\"fill:none;fill-rule:evenodd;stroke:#000000;stroke-width:2.0px;stroke-linecap:butt;stroke-linejoin:miter;stroke-opacity:1\"/>\n",
       "<path class=\"bond-56 atom-24 atom-57\" d=\"M 178.8,64.3 L 178.8,64.3\" style=\"fill:none;fill-rule:evenodd;stroke:#CCCC00;stroke-width:2.0px;stroke-linecap:butt;stroke-linejoin:miter;stroke-opacity:1\"/>\n",
       "<path class=\"bond-57 atom-31 atom-58\" d=\"M 240.7,69.6 L 241.8,70.5\" style=\"fill:none;fill-rule:evenodd;stroke:#000000;stroke-width:2.0px;stroke-linecap:butt;stroke-linejoin:miter;stroke-opacity:1\"/>\n",
       "<path class=\"bond-57 atom-31 atom-58\" d=\"M 241.8,70.5 L 242.9,71.4\" style=\"fill:none;fill-rule:evenodd;stroke:#CCCC00;stroke-width:2.0px;stroke-linecap:butt;stroke-linejoin:miter;stroke-opacity:1\"/>\n",
       "<path class=\"bond-58 atom-58 atom-59\" d=\"M 245.9,72.1 L 247.3,71.5\" style=\"fill:none;fill-rule:evenodd;stroke:#CCCC00;stroke-width:2.0px;stroke-linecap:butt;stroke-linejoin:miter;stroke-opacity:1\"/>\n",
       "<path class=\"bond-59 atom-60 atom-61\" d=\"M 250.8,109.9 L 250.0,114.6\" style=\"fill:none;fill-rule:evenodd;stroke:#000000;stroke-width:2.0px;stroke-linecap:butt;stroke-linejoin:miter;stroke-opacity:1\"/>\n",
       "<path class=\"bond-60 atom-61 atom-62\" d=\"M 250.0,114.6 L 253.7,117.7\" style=\"fill:none;fill-rule:evenodd;stroke:#000000;stroke-width:2.0px;stroke-linecap:butt;stroke-linejoin:miter;stroke-opacity:1\"/>\n",
       "<path class=\"bond-60 atom-61 atom-62\" d=\"M 251.2,114.4 L 253.7,116.5\" style=\"fill:none;fill-rule:evenodd;stroke:#000000;stroke-width:2.0px;stroke-linecap:butt;stroke-linejoin:miter;stroke-opacity:1\"/>\n",
       "<path class=\"bond-61 atom-62 atom-63\" d=\"M 253.7,117.7 L 252.9,122.4\" style=\"fill:none;fill-rule:evenodd;stroke:#000000;stroke-width:2.0px;stroke-linecap:butt;stroke-linejoin:miter;stroke-opacity:1\"/>\n",
       "<path class=\"bond-62 atom-56 atom-60\" d=\"M 247.1,106.9 L 250.8,109.9\" style=\"fill:none;fill-rule:evenodd;stroke:#000000;stroke-width:2.0px;stroke-linecap:butt;stroke-linejoin:miter;stroke-opacity:1\"/>\n",
       "<path class=\"bond-63 atom-64 atom-65\" d=\"M 260.5,101.9 L 264.2,104.9\" style=\"fill:none;fill-rule:evenodd;stroke:#000000;stroke-width:2.0px;stroke-linecap:butt;stroke-linejoin:miter;stroke-opacity:1\"/>\n",
       "<path class=\"bond-64 atom-65 atom-66\" d=\"M 264.2,104.9 L 268.6,103.2\" style=\"fill:none;fill-rule:evenodd;stroke:#000000;stroke-width:2.0px;stroke-linecap:butt;stroke-linejoin:miter;stroke-opacity:1\"/>\n",
       "<path class=\"bond-64 atom-65 atom-66\" d=\"M 264.5,103.8 L 267.6,102.6\" style=\"fill:none;fill-rule:evenodd;stroke:#000000;stroke-width:2.0px;stroke-linecap:butt;stroke-linejoin:miter;stroke-opacity:1\"/>\n",
       "<path class=\"bond-65 atom-66 atom-67\" d=\"M 268.6,103.2 L 272.3,106.3\" style=\"fill:none;fill-rule:evenodd;stroke:#000000;stroke-width:2.0px;stroke-linecap:butt;stroke-linejoin:miter;stroke-opacity:1\"/>\n",
       "<path class=\"bond-66 atom-53 atom-64\" d=\"M 256.0,103.6 L 260.5,101.9\" style=\"fill:none;fill-rule:evenodd;stroke:#000000;stroke-width:2.0px;stroke-linecap:butt;stroke-linejoin:miter;stroke-opacity:1\"/>\n",
       "<path class=\"bond-67 atom-40 atom-68\" d=\"M 260.3,77.8 L 260.3,77.7\" style=\"fill:none;fill-rule:evenodd;stroke:#CCCC00;stroke-width:2.0px;stroke-linecap:butt;stroke-linejoin:miter;stroke-opacity:1\"/>\n",
       "<path class=\"bond-68 atom-69 atom-70\" d=\"M 273.3,75.0 L 268.8,76.7\" style=\"fill:none;fill-rule:evenodd;stroke:#000000;stroke-width:2.0px;stroke-linecap:butt;stroke-linejoin:miter;stroke-opacity:1\"/>\n",
       "<path class=\"bond-69 atom-70 atom-71\" d=\"M 268.8,76.7 L 265.2,73.7\" style=\"fill:none;fill-rule:evenodd;stroke:#000000;stroke-width:2.0px;stroke-linecap:butt;stroke-linejoin:miter;stroke-opacity:1\"/>\n",
       "<path class=\"bond-70 atom-71 atom-72\" d=\"M 265.2,73.7 L 265.9,69.0\" style=\"fill:none;fill-rule:evenodd;stroke:#000000;stroke-width:2.0px;stroke-linecap:butt;stroke-linejoin:miter;stroke-opacity:1\"/>\n",
       "<path class=\"bond-71 atom-68 atom-71\" d=\"M 262.2,74.8 L 263.7,74.2\" style=\"fill:none;fill-rule:evenodd;stroke:#CCCC00;stroke-width:2.0px;stroke-linecap:butt;stroke-linejoin:miter;stroke-opacity:1\"/>\n",
       "<path class=\"bond-71 atom-68 atom-71\" d=\"M 263.7,74.2 L 265.2,73.7\" style=\"fill:none;fill-rule:evenodd;stroke:#000000;stroke-width:2.0px;stroke-linecap:butt;stroke-linejoin:miter;stroke-opacity:1\"/>\n",
       "<path class=\"bond-72 atom-30 atom-73\" d=\"M 241.5,64.9 L 240.4,64.0\" style=\"fill:none;fill-rule:evenodd;stroke:#000000;stroke-width:2.0px;stroke-linecap:butt;stroke-linejoin:miter;stroke-opacity:1\"/>\n",
       "<path class=\"bond-72 atom-30 atom-73\" d=\"M 240.4,64.0 L 239.3,63.1\" style=\"fill:none;fill-rule:evenodd;stroke:#CCCC00;stroke-width:2.0px;stroke-linecap:butt;stroke-linejoin:miter;stroke-opacity:1\"/>\n",
       "<path class=\"bond-73 atom-74 atom-75\" d=\"M 213.0,110.9 L 217.4,109.3\" style=\"fill:none;fill-rule:evenodd;stroke:#000000;stroke-width:2.0px;stroke-linecap:butt;stroke-linejoin:miter;stroke-opacity:1\"/>\n",
       "<path class=\"bond-74 atom-75 atom-76\" d=\"M 217.4,109.3 L 221.1,112.3\" style=\"fill:none;fill-rule:evenodd;stroke:#000000;stroke-width:2.0px;stroke-linecap:butt;stroke-linejoin:miter;stroke-opacity:1\"/>\n",
       "<path class=\"bond-75 atom-76 atom-77\" d=\"M 221.1,112.3 L 225.6,110.6\" style=\"fill:none;fill-rule:evenodd;stroke:#000000;stroke-width:2.0px;stroke-linecap:butt;stroke-linejoin:miter;stroke-opacity:1\"/>\n",
       "<path class=\"bond-76 atom-34 atom-77\" d=\"M 226.4,105.9 L 225.6,110.6\" style=\"fill:none;fill-rule:evenodd;stroke:#000000;stroke-width:2.0px;stroke-linecap:butt;stroke-linejoin:miter;stroke-opacity:1\"/>\n",
       "<path class=\"bond-77 atom-73 atom-78\" d=\"M 238.2,59.6 L 238.2,59.6\" style=\"fill:none;fill-rule:evenodd;stroke:#CCCC00;stroke-width:2.0px;stroke-linecap:butt;stroke-linejoin:miter;stroke-opacity:1\"/>\n",
       "<path class=\"bond-78 atom-36 atom-79\" d=\"M 231.6,99.5 L 230.5,98.6\" style=\"fill:none;fill-rule:evenodd;stroke:#000000;stroke-width:2.0px;stroke-linecap:butt;stroke-linejoin:miter;stroke-opacity:1\"/>\n",
       "<path class=\"bond-78 atom-36 atom-79\" d=\"M 230.5,98.6 L 229.4,97.7\" style=\"fill:none;fill-rule:evenodd;stroke:#CCCC00;stroke-width:2.0px;stroke-linecap:butt;stroke-linejoin:miter;stroke-opacity:1\"/>\n",
       "<path class=\"bond-79 atom-79 atom-80\" d=\"M 226.4,97.1 L 225.0,97.6\" style=\"fill:none;fill-rule:evenodd;stroke:#CCCC00;stroke-width:2.0px;stroke-linecap:butt;stroke-linejoin:miter;stroke-opacity:1\"/>\n",
       "<path class=\"bond-80 atom-81 atom-82\" d=\"M 276.4,56.2 L 275.6,60.9\" style=\"fill:none;fill-rule:evenodd;stroke:#000000;stroke-width:2.0px;stroke-linecap:butt;stroke-linejoin:miter;stroke-opacity:1\"/>\n",
       "<path class=\"bond-81 atom-82 atom-83\" d=\"M 275.6,60.9 L 271.2,62.6\" style=\"fill:none;fill-rule:evenodd;stroke:#000000;stroke-width:2.0px;stroke-linecap:butt;stroke-linejoin:miter;stroke-opacity:1\"/>\n",
       "<path class=\"bond-81 atom-82 atom-83\" d=\"M 274.6,60.3 L 271.5,61.4\" style=\"fill:none;fill-rule:evenodd;stroke:#000000;stroke-width:2.0px;stroke-linecap:butt;stroke-linejoin:miter;stroke-opacity:1\"/>\n",
       "<path class=\"bond-82 atom-83 atom-84\" d=\"M 271.2,62.6 L 270.4,67.3\" style=\"fill:none;fill-rule:evenodd;stroke:#000000;stroke-width:2.0px;stroke-linecap:butt;stroke-linejoin:miter;stroke-opacity:1\"/>\n",
       "<path class=\"bond-83 atom-72 atom-84\" d=\"M 265.9,69.0 L 270.4,67.3\" style=\"fill:none;fill-rule:evenodd;stroke:#000000;stroke-width:2.0px;stroke-linecap:butt;stroke-linejoin:miter;stroke-opacity:1\"/>\n",
       "<path class=\"bond-84 atom-85 atom-86\" d=\"M 276.8,104.6 L 280.5,107.6\" style=\"fill:none;fill-rule:evenodd;stroke:#000000;stroke-width:2.0px;stroke-linecap:butt;stroke-linejoin:miter;stroke-opacity:1\"/>\n",
       "<path class=\"bond-85 atom-86 atom-87\" d=\"M 280.5,107.6 L 284.9,105.9\" style=\"fill:none;fill-rule:evenodd;stroke:#000000;stroke-width:2.0px;stroke-linecap:butt;stroke-linejoin:miter;stroke-opacity:1\"/>\n",
       "<path class=\"bond-85 atom-86 atom-87\" d=\"M 280.8,106.5 L 283.9,105.3\" style=\"fill:none;fill-rule:evenodd;stroke:#000000;stroke-width:2.0px;stroke-linecap:butt;stroke-linejoin:miter;stroke-opacity:1\"/>\n",
       "<path class=\"bond-86 atom-87 atom-88\" d=\"M 284.9,105.9 L 288.6,108.9\" style=\"fill:none;fill-rule:evenodd;stroke:#000000;stroke-width:2.0px;stroke-linecap:butt;stroke-linejoin:miter;stroke-opacity:1\"/>\n",
       "<path class=\"bond-87 atom-67 atom-85\" d=\"M 272.3,106.3 L 276.8,104.6\" style=\"fill:none;fill-rule:evenodd;stroke:#000000;stroke-width:2.0px;stroke-linecap:butt;stroke-linejoin:miter;stroke-opacity:1\"/>\n",
       "<path class=\"bond-88 atom-89 atom-90\" d=\"M 293.1,107.3 L 296.8,110.3\" style=\"fill:none;fill-rule:evenodd;stroke:#000000;stroke-width:2.0px;stroke-linecap:butt;stroke-linejoin:miter;stroke-opacity:1\"/>\n",
       "<path class=\"bond-89 atom-90 atom-91\" d=\"M 296.8,110.3 L 301.2,108.6\" style=\"fill:none;fill-rule:evenodd;stroke:#000000;stroke-width:2.0px;stroke-linecap:butt;stroke-linejoin:miter;stroke-opacity:1\"/>\n",
       "<path class=\"bond-89 atom-90 atom-91\" d=\"M 297.1,109.1 L 300.2,108.0\" style=\"fill:none;fill-rule:evenodd;stroke:#000000;stroke-width:2.0px;stroke-linecap:butt;stroke-linejoin:miter;stroke-opacity:1\"/>\n",
       "<path class=\"bond-90 atom-91 atom-92\" d=\"M 301.2,108.6 L 304.9,111.6\" style=\"fill:none;fill-rule:evenodd;stroke:#000000;stroke-width:2.0px;stroke-linecap:butt;stroke-linejoin:miter;stroke-opacity:1\"/>\n",
       "<path class=\"bond-91 atom-88 atom-89\" d=\"M 288.6,108.9 L 293.1,107.3\" style=\"fill:none;fill-rule:evenodd;stroke:#000000;stroke-width:2.0px;stroke-linecap:butt;stroke-linejoin:miter;stroke-opacity:1\"/>\n",
       "<path class=\"bond-92 atom-93 atom-94\" d=\"M 277.0,78.0 L 281.4,76.4\" style=\"fill:none;fill-rule:evenodd;stroke:#000000;stroke-width:2.0px;stroke-linecap:butt;stroke-linejoin:miter;stroke-opacity:1\"/>\n",
       "<path class=\"bond-93 atom-94 atom-95\" d=\"M 281.4,76.4 L 285.1,79.4\" style=\"fill:none;fill-rule:evenodd;stroke:#000000;stroke-width:2.0px;stroke-linecap:butt;stroke-linejoin:miter;stroke-opacity:1\"/>\n",
       "<path class=\"bond-94 atom-95 atom-96\" d=\"M 285.1,79.4 L 289.6,77.7\" style=\"fill:none;fill-rule:evenodd;stroke:#000000;stroke-width:2.0px;stroke-linecap:butt;stroke-linejoin:miter;stroke-opacity:1\"/>\n",
       "<path class=\"bond-95 atom-69 atom-93\" d=\"M 273.3,75.0 L 277.0,78.0\" style=\"fill:none;fill-rule:evenodd;stroke:#000000;stroke-width:2.0px;stroke-linecap:butt;stroke-linejoin:miter;stroke-opacity:1\"/>\n",
       "<path class=\"bond-96 atom-76 atom-97\" d=\"M 221.1,112.3 L 220.9,113.5\" style=\"fill:none;fill-rule:evenodd;stroke:#000000;stroke-width:2.0px;stroke-linecap:butt;stroke-linejoin:miter;stroke-opacity:1\"/>\n",
       "<path class=\"bond-96 atom-76 atom-97\" d=\"M 220.9,113.5 L 220.7,114.7\" style=\"fill:none;fill-rule:evenodd;stroke:#CCCC00;stroke-width:2.0px;stroke-linecap:butt;stroke-linejoin:miter;stroke-opacity:1\"/>\n",
       "<path class=\"bond-97 atom-98 atom-99\" d=\"M 266.9,37.7 L 262.4,39.4\" style=\"fill:none;fill-rule:evenodd;stroke:#000000;stroke-width:2.0px;stroke-linecap:butt;stroke-linejoin:miter;stroke-opacity:1\"/>\n",
       "<path class=\"bond-98 atom-99 atom-100\" d=\"M 262.4,39.4 L 261.7,44.1\" style=\"fill:none;fill-rule:evenodd;stroke:#000000;stroke-width:2.0px;stroke-linecap:butt;stroke-linejoin:miter;stroke-opacity:1\"/>\n",
       "<path class=\"bond-98 atom-99 atom-100\" d=\"M 263.3,40.3 L 262.7,43.6\" style=\"fill:none;fill-rule:evenodd;stroke:#000000;stroke-width:2.0px;stroke-linecap:butt;stroke-linejoin:miter;stroke-opacity:1\"/>\n",
       "<path class=\"bond-99 atom-100 atom-101\" d=\"M 261.7,44.1 L 257.2,45.8\" style=\"fill:none;fill-rule:evenodd;stroke:#000000;stroke-width:2.0px;stroke-linecap:butt;stroke-linejoin:miter;stroke-opacity:1\"/>\n",
       "<path class=\"bond-100 atom-47 atom-101\" d=\"M 256.4,50.5 L 257.2,45.8\" style=\"fill:none;fill-rule:evenodd;stroke:#000000;stroke-width:2.0px;stroke-linecap:butt;stroke-linejoin:miter;stroke-opacity:1\"/>\n",
       "<path class=\"bond-101 atom-102 atom-103\" d=\"M 196.7,108.2 L 201.1,106.6\" style=\"fill:none;fill-rule:evenodd;stroke:#000000;stroke-width:2.0px;stroke-linecap:butt;stroke-linejoin:miter;stroke-opacity:1\"/>\n",
       "<path class=\"bond-102 atom-103 atom-104\" d=\"M 201.1,106.6 L 204.8,109.6\" style=\"fill:none;fill-rule:evenodd;stroke:#000000;stroke-width:2.0px;stroke-linecap:butt;stroke-linejoin:miter;stroke-opacity:1\"/>\n",
       "<path class=\"bond-102 atom-103 atom-104\" d=\"M 201.1,107.8 L 203.7,109.9\" style=\"fill:none;fill-rule:evenodd;stroke:#000000;stroke-width:2.0px;stroke-linecap:butt;stroke-linejoin:miter;stroke-opacity:1\"/>\n",
       "<path class=\"bond-103 atom-104 atom-105\" d=\"M 204.8,109.6 L 209.3,107.9\" style=\"fill:none;fill-rule:evenodd;stroke:#000000;stroke-width:2.0px;stroke-linecap:butt;stroke-linejoin:miter;stroke-opacity:1\"/>\n",
       "<path class=\"bond-104 atom-74 atom-105\" d=\"M 213.0,110.9 L 209.3,107.9\" style=\"fill:none;fill-rule:evenodd;stroke:#000000;stroke-width:2.0px;stroke-linecap:butt;stroke-linejoin:miter;stroke-opacity:1\"/>\n",
       "<path class=\"bond-105 atom-106 atom-107\" d=\"M 156.9,70.3 L 152.5,71.9\" style=\"fill:none;fill-rule:evenodd;stroke:#000000;stroke-width:2.0px;stroke-linecap:butt;stroke-linejoin:miter;stroke-opacity:1\"/>\n",
       "<path class=\"bond-106 atom-107 atom-108\" d=\"M 152.5,71.9 L 148.8,68.9\" style=\"fill:none;fill-rule:evenodd;stroke:#000000;stroke-width:2.0px;stroke-linecap:butt;stroke-linejoin:miter;stroke-opacity:1\"/>\n",
       "<path class=\"bond-106 atom-107 atom-108\" d=\"M 152.5,70.8 L 149.9,68.6\" style=\"fill:none;fill-rule:evenodd;stroke:#000000;stroke-width:2.0px;stroke-linecap:butt;stroke-linejoin:miter;stroke-opacity:1\"/>\n",
       "<path class=\"bond-107 atom-108 atom-109\" d=\"M 148.8,68.9 L 144.3,70.6\" style=\"fill:none;fill-rule:evenodd;stroke:#000000;stroke-width:2.0px;stroke-linecap:butt;stroke-linejoin:miter;stroke-opacity:1\"/>\n",
       "<path class=\"bond-108 atom-45 atom-106\" d=\"M 160.6,73.3 L 156.9,70.3\" style=\"fill:none;fill-rule:evenodd;stroke:#000000;stroke-width:2.0px;stroke-linecap:butt;stroke-linejoin:miter;stroke-opacity:1\"/>\n",
       "<path class=\"bond-109 atom-110 atom-111\" d=\"M 256.6,125.4 L 255.8,130.1\" style=\"fill:none;fill-rule:evenodd;stroke:#000000;stroke-width:2.0px;stroke-linecap:butt;stroke-linejoin:miter;stroke-opacity:1\"/>\n",
       "<path class=\"bond-110 atom-111 atom-112\" d=\"M 255.8,130.1 L 259.5,133.1\" style=\"fill:none;fill-rule:evenodd;stroke:#000000;stroke-width:2.0px;stroke-linecap:butt;stroke-linejoin:miter;stroke-opacity:1\"/>\n",
       "<path class=\"bond-110 atom-111 atom-112\" d=\"M 257.0,129.8 L 259.6,131.9\" style=\"fill:none;fill-rule:evenodd;stroke:#000000;stroke-width:2.0px;stroke-linecap:butt;stroke-linejoin:miter;stroke-opacity:1\"/>\n",
       "<path class=\"bond-111 atom-112 atom-113\" d=\"M 259.5,133.1 L 258.7,137.8\" style=\"fill:none;fill-rule:evenodd;stroke:#000000;stroke-width:2.0px;stroke-linecap:butt;stroke-linejoin:miter;stroke-opacity:1\"/>\n",
       "<path class=\"bond-112 atom-63 atom-110\" d=\"M 252.9,122.4 L 256.6,125.4\" style=\"fill:none;fill-rule:evenodd;stroke:#000000;stroke-width:2.0px;stroke-linecap:butt;stroke-linejoin:miter;stroke-opacity:1\"/>\n",
       "<path class=\"bond-113 atom-114 atom-115\" d=\"M 321.2,114.3 L 317.5,111.3\" style=\"fill:none;fill-rule:evenodd;stroke:#000000;stroke-width:2.0px;stroke-linecap:butt;stroke-linejoin:miter;stroke-opacity:1\"/>\n",
       "<path class=\"bond-114 atom-115 atom-116\" d=\"M 317.5,111.3 L 313.0,113.0\" style=\"fill:none;fill-rule:evenodd;stroke:#000000;stroke-width:2.0px;stroke-linecap:butt;stroke-linejoin:miter;stroke-opacity:1\"/>\n",
       "<path class=\"bond-114 atom-115 atom-116\" d=\"M 317.2,112.5 L 314.0,113.6\" style=\"fill:none;fill-rule:evenodd;stroke:#000000;stroke-width:2.0px;stroke-linecap:butt;stroke-linejoin:miter;stroke-opacity:1\"/>\n",
       "<path class=\"bond-115 atom-116 atom-117\" d=\"M 313.0,113.0 L 309.4,110.0\" style=\"fill:none;fill-rule:evenodd;stroke:#000000;stroke-width:2.0px;stroke-linecap:butt;stroke-linejoin:miter;stroke-opacity:1\"/>\n",
       "<path class=\"bond-116 atom-92 atom-117\" d=\"M 304.9,111.6 L 309.4,110.0\" style=\"fill:none;fill-rule:evenodd;stroke:#000000;stroke-width:2.0px;stroke-linecap:butt;stroke-linejoin:miter;stroke-opacity:1\"/>\n",
       "<path class=\"bond-117 atom-97 atom-118\" d=\"M 218.8,117.6 L 217.4,118.1\" style=\"fill:none;fill-rule:evenodd;stroke:#CCCC00;stroke-width:2.0px;stroke-linecap:butt;stroke-linejoin:miter;stroke-opacity:1\"/>\n",
       "<path class=\"bond-118 atom-119 atom-120\" d=\"M 235.7,49.5 L 234.9,54.2\" style=\"fill:none;fill-rule:evenodd;stroke:#000000;stroke-width:2.0px;stroke-linecap:butt;stroke-linejoin:miter;stroke-opacity:1\"/>\n",
       "<path class=\"bond-119 atom-120 atom-121\" d=\"M 234.9,54.2 L 230.4,55.8\" style=\"fill:none;fill-rule:evenodd;stroke:#000000;stroke-width:2.0px;stroke-linecap:butt;stroke-linejoin:miter;stroke-opacity:1\"/>\n",
       "<path class=\"bond-120 atom-121 atom-122\" d=\"M 230.4,55.8 L 226.8,52.8\" style=\"fill:none;fill-rule:evenodd;stroke:#000000;stroke-width:2.0px;stroke-linecap:butt;stroke-linejoin:miter;stroke-opacity:1\"/>\n",
       "<path class=\"bond-121 atom-78 atom-120\" d=\"M 237.1,55.9 L 236.0,55.1\" style=\"fill:none;fill-rule:evenodd;stroke:#CCCC00;stroke-width:2.0px;stroke-linecap:butt;stroke-linejoin:miter;stroke-opacity:1\"/>\n",
       "<path class=\"bond-121 atom-78 atom-120\" d=\"M 236.0,55.1 L 234.9,54.2\" style=\"fill:none;fill-rule:evenodd;stroke:#000000;stroke-width:2.0px;stroke-linecap:butt;stroke-linejoin:miter;stroke-opacity:1\"/>\n",
       "<path class=\"bond-122 atom-123 atom-124\" d=\"M 267.7,33.0 L 272.1,31.3\" style=\"fill:none;fill-rule:evenodd;stroke:#000000;stroke-width:2.0px;stroke-linecap:butt;stroke-linejoin:miter;stroke-opacity:1\"/>\n",
       "<path class=\"bond-123 atom-124 atom-125\" d=\"M 272.1,31.3 L 272.9,26.6\" style=\"fill:none;fill-rule:evenodd;stroke:#000000;stroke-width:2.0px;stroke-linecap:butt;stroke-linejoin:miter;stroke-opacity:1\"/>\n",
       "<path class=\"bond-123 atom-124 atom-125\" d=\"M 271.3,30.5 L 271.9,27.2\" style=\"fill:none;fill-rule:evenodd;stroke:#000000;stroke-width:2.0px;stroke-linecap:butt;stroke-linejoin:miter;stroke-opacity:1\"/>\n",
       "<path class=\"bond-124 atom-125 atom-126\" d=\"M 272.9,26.6 L 277.4,25.0\" style=\"fill:none;fill-rule:evenodd;stroke:#000000;stroke-width:2.0px;stroke-linecap:butt;stroke-linejoin:miter;stroke-opacity:1\"/>\n",
       "<path class=\"bond-125 atom-98 atom-123\" d=\"M 266.9,37.7 L 267.7,33.0\" style=\"fill:none;fill-rule:evenodd;stroke:#000000;stroke-width:2.0px;stroke-linecap:butt;stroke-linejoin:miter;stroke-opacity:1\"/>\n",
       "<path class=\"bond-126 atom-35 atom-127\" d=\"M 230.8,104.2 L 231.9,105.1\" style=\"fill:none;fill-rule:evenodd;stroke:#000000;stroke-width:2.0px;stroke-linecap:butt;stroke-linejoin:miter;stroke-opacity:1\"/>\n",
       "<path class=\"bond-126 atom-35 atom-127\" d=\"M 231.9,105.1 L 233.0,106.0\" style=\"fill:none;fill-rule:evenodd;stroke:#CCCC00;stroke-width:2.0px;stroke-linecap:butt;stroke-linejoin:miter;stroke-opacity:1\"/>\n",
       "<path class=\"bond-127 atom-128 atom-129\" d=\"M 140.6,67.6 L 136.2,69.3\" style=\"fill:none;fill-rule:evenodd;stroke:#000000;stroke-width:2.0px;stroke-linecap:butt;stroke-linejoin:miter;stroke-opacity:1\"/>\n",
       "<path class=\"bond-128 atom-129 atom-130\" d=\"M 136.2,69.3 L 132.5,66.2\" style=\"fill:none;fill-rule:evenodd;stroke:#000000;stroke-width:2.0px;stroke-linecap:butt;stroke-linejoin:miter;stroke-opacity:1\"/>\n",
       "<path class=\"bond-128 atom-129 atom-130\" d=\"M 136.2,68.1 L 133.7,65.9\" style=\"fill:none;fill-rule:evenodd;stroke:#000000;stroke-width:2.0px;stroke-linecap:butt;stroke-linejoin:miter;stroke-opacity:1\"/>\n",
       "<path class=\"bond-129 atom-130 atom-131\" d=\"M 132.5,66.2 L 128.0,67.9\" style=\"fill:none;fill-rule:evenodd;stroke:#000000;stroke-width:2.0px;stroke-linecap:butt;stroke-linejoin:miter;stroke-opacity:1\"/>\n",
       "<path class=\"bond-130 atom-109 atom-128\" d=\"M 144.3,70.6 L 140.6,67.6\" style=\"fill:none;fill-rule:evenodd;stroke:#000000;stroke-width:2.0px;stroke-linecap:butt;stroke-linejoin:miter;stroke-opacity:1\"/>\n",
       "<path class=\"bond-131 atom-132 atom-133\" d=\"M 218.0,131.1 L 218.8,126.4\" style=\"fill:none;fill-rule:evenodd;stroke:#000000;stroke-width:2.0px;stroke-linecap:butt;stroke-linejoin:miter;stroke-opacity:1\"/>\n",
       "<path class=\"bond-132 atom-133 atom-134\" d=\"M 218.8,126.4 L 215.1,123.4\" style=\"fill:none;fill-rule:evenodd;stroke:#000000;stroke-width:2.0px;stroke-linecap:butt;stroke-linejoin:miter;stroke-opacity:1\"/>\n",
       "<path class=\"bond-133 atom-134 atom-135\" d=\"M 215.1,123.4 L 210.6,125.0\" style=\"fill:none;fill-rule:evenodd;stroke:#000000;stroke-width:2.0px;stroke-linecap:butt;stroke-linejoin:miter;stroke-opacity:1\"/>\n",
       "<path class=\"bond-134 atom-118 atom-134\" d=\"M 215.5,121.1 L 215.3,122.2\" style=\"fill:none;fill-rule:evenodd;stroke:#CCCC00;stroke-width:2.0px;stroke-linecap:butt;stroke-linejoin:miter;stroke-opacity:1\"/>\n",
       "<path class=\"bond-134 atom-118 atom-134\" d=\"M 215.3,122.2 L 215.1,123.4\" style=\"fill:none;fill-rule:evenodd;stroke:#000000;stroke-width:2.0px;stroke-linecap:butt;stroke-linejoin:miter;stroke-opacity:1\"/>\n",
       "<path class=\"bond-135 atom-127 atom-136\" d=\"M 234.1,109.6 L 234.1,109.7\" style=\"fill:none;fill-rule:evenodd;stroke:#CCCC00;stroke-width:2.0px;stroke-linecap:butt;stroke-linejoin:miter;stroke-opacity:1\"/>\n",
       "<path class=\"bond-136 atom-137 atom-138\" d=\"M 325.7,112.7 L 329.3,115.7\" style=\"fill:none;fill-rule:evenodd;stroke:#000000;stroke-width:2.0px;stroke-linecap:butt;stroke-linejoin:miter;stroke-opacity:1\"/>\n",
       "<path class=\"bond-137 atom-138 atom-139\" d=\"M 329.3,115.7 L 333.8,114.0\" style=\"fill:none;fill-rule:evenodd;stroke:#000000;stroke-width:2.0px;stroke-linecap:butt;stroke-linejoin:miter;stroke-opacity:1\"/>\n",
       "<path class=\"bond-137 atom-138 atom-139\" d=\"M 329.7,114.5 L 332.8,113.4\" style=\"fill:none;fill-rule:evenodd;stroke:#000000;stroke-width:2.0px;stroke-linecap:butt;stroke-linejoin:miter;stroke-opacity:1\"/>\n",
       "<path class=\"bond-138 atom-139 atom-140\" d=\"M 333.8,114.0 L 337.5,117.0\" style=\"fill:none;fill-rule:evenodd;stroke:#000000;stroke-width:2.0px;stroke-linecap:butt;stroke-linejoin:miter;stroke-opacity:1\"/>\n",
       "<path class=\"bond-139 atom-114 atom-137\" d=\"M 321.2,114.3 L 325.7,112.7\" style=\"fill:none;fill-rule:evenodd;stroke:#000000;stroke-width:2.0px;stroke-linecap:butt;stroke-linejoin:miter;stroke-opacity:1\"/>\n",
       "<path class=\"bond-140 atom-141 atom-142\" d=\"M 111.7,65.2 L 116.2,63.5\" style=\"fill:none;fill-rule:evenodd;stroke:#000000;stroke-width:2.0px;stroke-linecap:butt;stroke-linejoin:miter;stroke-opacity:1\"/>\n",
       "<path class=\"bond-141 atom-142 atom-143\" d=\"M 116.2,63.5 L 119.9,66.6\" style=\"fill:none;fill-rule:evenodd;stroke:#000000;stroke-width:2.0px;stroke-linecap:butt;stroke-linejoin:miter;stroke-opacity:1\"/>\n",
       "<path class=\"bond-141 atom-142 atom-143\" d=\"M 116.2,64.7 L 118.7,66.8\" style=\"fill:none;fill-rule:evenodd;stroke:#000000;stroke-width:2.0px;stroke-linecap:butt;stroke-linejoin:miter;stroke-opacity:1\"/>\n",
       "<path class=\"bond-142 atom-143 atom-144\" d=\"M 119.9,66.6 L 124.3,64.9\" style=\"fill:none;fill-rule:evenodd;stroke:#000000;stroke-width:2.0px;stroke-linecap:butt;stroke-linejoin:miter;stroke-opacity:1\"/>\n",
       "<path class=\"bond-143 atom-131 atom-144\" d=\"M 128.0,67.9 L 124.3,64.9\" style=\"fill:none;fill-rule:evenodd;stroke:#000000;stroke-width:2.0px;stroke-linecap:butt;stroke-linejoin:miter;stroke-opacity:1\"/>\n",
       "<path class=\"bond-144 atom-95 atom-145\" d=\"M 285.1,79.4 L 284.9,80.6\" style=\"fill:none;fill-rule:evenodd;stroke:#000000;stroke-width:2.0px;stroke-linecap:butt;stroke-linejoin:miter;stroke-opacity:1\"/>\n",
       "<path class=\"bond-144 atom-95 atom-145\" d=\"M 284.9,80.6 L 284.7,81.8\" style=\"fill:none;fill-rule:evenodd;stroke:#CCCC00;stroke-width:2.0px;stroke-linecap:butt;stroke-linejoin:miter;stroke-opacity:1\"/>\n",
       "<path class=\"bond-145 atom-146 atom-147\" d=\"M 180.4,105.5 L 184.8,103.9\" style=\"fill:none;fill-rule:evenodd;stroke:#000000;stroke-width:2.0px;stroke-linecap:butt;stroke-linejoin:miter;stroke-opacity:1\"/>\n",
       "<path class=\"bond-146 atom-147 atom-148\" d=\"M 184.8,103.9 L 188.5,106.9\" style=\"fill:none;fill-rule:evenodd;stroke:#000000;stroke-width:2.0px;stroke-linecap:butt;stroke-linejoin:miter;stroke-opacity:1\"/>\n",
       "<path class=\"bond-146 atom-147 atom-148\" d=\"M 184.8,105.1 L 187.4,107.2\" style=\"fill:none;fill-rule:evenodd;stroke:#000000;stroke-width:2.0px;stroke-linecap:butt;stroke-linejoin:miter;stroke-opacity:1\"/>\n",
       "<path class=\"bond-147 atom-148 atom-149\" d=\"M 188.5,106.9 L 193.0,105.2\" style=\"fill:none;fill-rule:evenodd;stroke:#000000;stroke-width:2.0px;stroke-linecap:butt;stroke-linejoin:miter;stroke-opacity:1\"/>\n",
       "<path class=\"bond-148 atom-102 atom-149\" d=\"M 196.7,108.2 L 193.0,105.2\" style=\"fill:none;fill-rule:evenodd;stroke:#000000;stroke-width:2.0px;stroke-linecap:butt;stroke-linejoin:miter;stroke-opacity:1\"/>\n",
       "<path class=\"bond-149 atom-145 atom-150\" d=\"M 285.9,85.3 L 286.5,85.9\" style=\"fill:none;fill-rule:evenodd;stroke:#CCCC00;stroke-width:2.0px;stroke-linecap:butt;stroke-linejoin:miter;stroke-opacity:1\"/>\n",
       "<path class=\"bond-150 atom-151 atom-152\" d=\"M 164.1,102.9 L 168.6,101.2\" style=\"fill:none;fill-rule:evenodd;stroke:#000000;stroke-width:2.0px;stroke-linecap:butt;stroke-linejoin:miter;stroke-opacity:1\"/>\n",
       "<path class=\"bond-151 atom-152 atom-153\" d=\"M 168.6,101.2 L 172.2,104.2\" style=\"fill:none;fill-rule:evenodd;stroke:#000000;stroke-width:2.0px;stroke-linecap:butt;stroke-linejoin:miter;stroke-opacity:1\"/>\n",
       "<path class=\"bond-151 atom-152 atom-153\" d=\"M 168.5,102.4 L 171.1,104.5\" style=\"fill:none;fill-rule:evenodd;stroke:#000000;stroke-width:2.0px;stroke-linecap:butt;stroke-linejoin:miter;stroke-opacity:1\"/>\n",
       "<path class=\"bond-152 atom-153 atom-154\" d=\"M 172.2,104.2 L 176.7,102.5\" style=\"fill:none;fill-rule:evenodd;stroke:#000000;stroke-width:2.0px;stroke-linecap:butt;stroke-linejoin:miter;stroke-opacity:1\"/>\n",
       "<path class=\"bond-153 atom-146 atom-154\" d=\"M 180.4,105.5 L 176.7,102.5\" style=\"fill:none;fill-rule:evenodd;stroke:#000000;stroke-width:2.0px;stroke-linecap:butt;stroke-linejoin:miter;stroke-opacity:1\"/>\n",
       "<path class=\"bond-154 atom-155 atom-156\" d=\"M 232.0,46.4 L 232.8,41.7\" style=\"fill:none;fill-rule:evenodd;stroke:#000000;stroke-width:2.0px;stroke-linecap:butt;stroke-linejoin:miter;stroke-opacity:1\"/>\n",
       "<path class=\"bond-155 atom-156 atom-157\" d=\"M 232.8,41.7 L 229.1,38.7\" style=\"fill:none;fill-rule:evenodd;stroke:#000000;stroke-width:2.0px;stroke-linecap:butt;stroke-linejoin:miter;stroke-opacity:1\"/>\n",
       "<path class=\"bond-156 atom-157 atom-158\" d=\"M 229.1,38.7 L 229.9,34.0\" style=\"fill:none;fill-rule:evenodd;stroke:#000000;stroke-width:2.0px;stroke-linecap:butt;stroke-linejoin:miter;stroke-opacity:1\"/>\n",
       "<path class=\"bond-157 atom-119 atom-155\" d=\"M 235.7,49.5 L 232.0,46.4\" style=\"fill:none;fill-rule:evenodd;stroke:#000000;stroke-width:2.0px;stroke-linecap:butt;stroke-linejoin:miter;stroke-opacity:1\"/>\n",
       "<path class=\"bond-158 atom-159 atom-160\" d=\"M 286.9,43.4 L 286.1,48.1\" style=\"fill:none;fill-rule:evenodd;stroke:#000000;stroke-width:2.0px;stroke-linecap:butt;stroke-linejoin:miter;stroke-opacity:1\"/>\n",
       "<path class=\"bond-159 atom-160 atom-161\" d=\"M 286.1,48.1 L 281.6,49.8\" style=\"fill:none;fill-rule:evenodd;stroke:#000000;stroke-width:2.0px;stroke-linecap:butt;stroke-linejoin:miter;stroke-opacity:1\"/>\n",
       "<path class=\"bond-160 atom-161 atom-162\" d=\"M 281.6,49.8 L 280.9,54.5\" style=\"fill:none;fill-rule:evenodd;stroke:#000000;stroke-width:2.0px;stroke-linecap:butt;stroke-linejoin:miter;stroke-opacity:1\"/>\n",
       "<path class=\"bond-161 atom-81 atom-162\" d=\"M 276.4,56.2 L 280.9,54.5\" style=\"fill:none;fill-rule:evenodd;stroke:#000000;stroke-width:2.0px;stroke-linecap:butt;stroke-linejoin:miter;stroke-opacity:1\"/>\n",
       "<path class=\"bond-162 atom-163 atom-164\" d=\"M 278.2,20.3 L 282.6,18.6\" style=\"fill:none;fill-rule:evenodd;stroke:#000000;stroke-width:2.0px;stroke-linecap:butt;stroke-linejoin:miter;stroke-opacity:1\"/>\n",
       "<path class=\"bond-163 atom-164 atom-165\" d=\"M 282.6,18.6 L 283.4,13.9\" style=\"fill:none;fill-rule:evenodd;stroke:#000000;stroke-width:2.0px;stroke-linecap:butt;stroke-linejoin:miter;stroke-opacity:1\"/>\n",
       "<path class=\"bond-163 atom-164 atom-165\" d=\"M 281.8,17.7 L 282.3,14.4\" style=\"fill:none;fill-rule:evenodd;stroke:#000000;stroke-width:2.0px;stroke-linecap:butt;stroke-linejoin:miter;stroke-opacity:1\"/>\n",
       "<path class=\"bond-164 atom-165 atom-166\" d=\"M 283.4,13.9 L 287.9,12.2\" style=\"fill:none;fill-rule:evenodd;stroke:#000000;stroke-width:2.0px;stroke-linecap:butt;stroke-linejoin:miter;stroke-opacity:1\"/>\n",
       "<path class=\"bond-165 atom-126 atom-163\" d=\"M 277.4,25.0 L 278.2,20.3\" style=\"fill:none;fill-rule:evenodd;stroke:#000000;stroke-width:2.0px;stroke-linecap:butt;stroke-linejoin:miter;stroke-opacity:1\"/>\n",
       "<path class=\"bond-166 atom-48 atom-167\" d=\"M 252.0,52.2 L 250.9,51.3\" style=\"fill:none;fill-rule:evenodd;stroke:#000000;stroke-width:2.0px;stroke-linecap:butt;stroke-linejoin:miter;stroke-opacity:1\"/>\n",
       "<path class=\"bond-166 atom-48 atom-167\" d=\"M 250.9,51.3 L 249.8,50.4\" style=\"fill:none;fill-rule:evenodd;stroke:#CCCC00;stroke-width:2.0px;stroke-linecap:butt;stroke-linejoin:miter;stroke-opacity:1\"/>\n",
       "<path class=\"bond-167 atom-49 atom-168\" d=\"M 251.2,56.9 L 252.3,57.8\" style=\"fill:none;fill-rule:evenodd;stroke:#000000;stroke-width:2.0px;stroke-linecap:butt;stroke-linejoin:miter;stroke-opacity:1\"/>\n",
       "<path class=\"bond-167 atom-49 atom-168\" d=\"M 252.3,57.8 L 253.4,58.6\" style=\"fill:none;fill-rule:evenodd;stroke:#CCCC00;stroke-width:2.0px;stroke-linecap:butt;stroke-linejoin:miter;stroke-opacity:1\"/>\n",
       "<path class=\"bond-168 atom-169 atom-170\" d=\"M 236.6,119.7 L 237.4,115.0\" style=\"fill:none;fill-rule:evenodd;stroke:#000000;stroke-width:2.0px;stroke-linecap:butt;stroke-linejoin:miter;stroke-opacity:1\"/>\n",
       "<path class=\"bond-169 atom-170 atom-171\" d=\"M 237.4,115.0 L 241.9,113.3\" style=\"fill:none;fill-rule:evenodd;stroke:#000000;stroke-width:2.0px;stroke-linecap:butt;stroke-linejoin:miter;stroke-opacity:1\"/>\n",
       "<path class=\"bond-170 atom-171 atom-172\" d=\"M 241.9,113.3 L 245.5,116.3\" style=\"fill:none;fill-rule:evenodd;stroke:#000000;stroke-width:2.0px;stroke-linecap:butt;stroke-linejoin:miter;stroke-opacity:1\"/>\n",
       "<path class=\"bond-171 atom-136 atom-170\" d=\"M 235.2,113.2 L 236.3,114.1\" style=\"fill:none;fill-rule:evenodd;stroke:#CCCC00;stroke-width:2.0px;stroke-linecap:butt;stroke-linejoin:miter;stroke-opacity:1\"/>\n",
       "<path class=\"bond-171 atom-136 atom-170\" d=\"M 236.3,114.1 L 237.4,115.0\" style=\"fill:none;fill-rule:evenodd;stroke:#000000;stroke-width:2.0px;stroke-linecap:butt;stroke-linejoin:miter;stroke-opacity:1\"/>\n",
       "<path class=\"bond-172 atom-173 atom-174\" d=\"M 209.9,129.7 L 205.4,131.4\" style=\"fill:none;fill-rule:evenodd;stroke:#000000;stroke-width:2.0px;stroke-linecap:butt;stroke-linejoin:miter;stroke-opacity:1\"/>\n",
       "<path class=\"bond-173 atom-174 atom-175\" d=\"M 205.4,131.4 L 204.6,136.1\" style=\"fill:none;fill-rule:evenodd;stroke:#000000;stroke-width:2.0px;stroke-linecap:butt;stroke-linejoin:miter;stroke-opacity:1\"/>\n",
       "<path class=\"bond-174 atom-175 atom-176\" d=\"M 204.6,136.1 L 200.2,137.8\" style=\"fill:none;fill-rule:evenodd;stroke:#000000;stroke-width:2.0px;stroke-linecap:butt;stroke-linejoin:miter;stroke-opacity:1\"/>\n",
       "<path class=\"bond-175 atom-135 atom-173\" d=\"M 210.6,125.0 L 209.9,129.7\" style=\"fill:none;fill-rule:evenodd;stroke:#000000;stroke-width:2.0px;stroke-linecap:butt;stroke-linejoin:miter;stroke-opacity:1\"/>\n",
       "<path class=\"bond-176 atom-177 atom-178\" d=\"M 266.5,90.8 L 271.0,89.1\" style=\"fill:none;fill-rule:evenodd;stroke:#000000;stroke-width:2.0px;stroke-linecap:butt;stroke-linejoin:miter;stroke-opacity:1\"/>\n",
       "<path class=\"bond-177 atom-178 atom-179\" d=\"M 271.0,89.1 L 274.7,92.1\" style=\"fill:none;fill-rule:evenodd;stroke:#000000;stroke-width:2.0px;stroke-linecap:butt;stroke-linejoin:miter;stroke-opacity:1\"/>\n",
       "<path class=\"bond-178 atom-179 atom-180\" d=\"M 274.7,92.1 L 279.1,90.5\" style=\"fill:none;fill-rule:evenodd;stroke:#000000;stroke-width:2.0px;stroke-linecap:butt;stroke-linejoin:miter;stroke-opacity:1\"/>\n",
       "<path class=\"bond-179 atom-25 atom-177\" d=\"M 262.8,87.8 L 266.5,90.8\" style=\"fill:none;fill-rule:evenodd;stroke:#000000;stroke-width:2.0px;stroke-linecap:butt;stroke-linejoin:miter;stroke-opacity:1\"/>\n",
       "<path class=\"bond-180 atom-181 atom-182\" d=\"M 242.4,135.1 L 243.2,130.4\" style=\"fill:none;fill-rule:evenodd;stroke:#000000;stroke-width:2.0px;stroke-linecap:butt;stroke-linejoin:miter;stroke-opacity:1\"/>\n",
       "<path class=\"bond-181 atom-182 atom-183\" d=\"M 243.2,130.4 L 239.5,127.4\" style=\"fill:none;fill-rule:evenodd;stroke:#000000;stroke-width:2.0px;stroke-linecap:butt;stroke-linejoin:miter;stroke-opacity:1\"/>\n",
       "<path class=\"bond-181 atom-182 atom-183\" d=\"M 242.1,130.7 L 239.5,128.6\" style=\"fill:none;fill-rule:evenodd;stroke:#000000;stroke-width:2.0px;stroke-linecap:butt;stroke-linejoin:miter;stroke-opacity:1\"/>\n",
       "<path class=\"bond-182 atom-183 atom-184\" d=\"M 239.5,127.4 L 240.3,122.7\" style=\"fill:none;fill-rule:evenodd;stroke:#000000;stroke-width:2.0px;stroke-linecap:butt;stroke-linejoin:miter;stroke-opacity:1\"/>\n",
       "<path class=\"bond-183 atom-169 atom-184\" d=\"M 236.6,119.7 L 240.3,122.7\" style=\"fill:none;fill-rule:evenodd;stroke:#000000;stroke-width:2.0px;stroke-linecap:butt;stroke-linejoin:miter;stroke-opacity:1\"/>\n",
       "<path class=\"bond-184 atom-185 atom-186\" d=\"M 305.9,80.4 L 301.4,82.1\" style=\"fill:none;fill-rule:evenodd;stroke:#000000;stroke-width:2.0px;stroke-linecap:butt;stroke-linejoin:miter;stroke-opacity:1\"/>\n",
       "<path class=\"bond-185 atom-186 atom-187\" d=\"M 301.4,82.1 L 297.7,79.0\" style=\"fill:none;fill-rule:evenodd;stroke:#000000;stroke-width:2.0px;stroke-linecap:butt;stroke-linejoin:miter;stroke-opacity:1\"/>\n",
       "<path class=\"bond-185 atom-186 atom-187\" d=\"M 301.5,80.9 L 298.9,78.8\" style=\"fill:none;fill-rule:evenodd;stroke:#000000;stroke-width:2.0px;stroke-linecap:butt;stroke-linejoin:miter;stroke-opacity:1\"/>\n",
       "<path class=\"bond-186 atom-187 atom-188\" d=\"M 297.7,79.0 L 293.3,80.7\" style=\"fill:none;fill-rule:evenodd;stroke:#000000;stroke-width:2.0px;stroke-linecap:butt;stroke-linejoin:miter;stroke-opacity:1\"/>\n",
       "<path class=\"bond-187 atom-96 atom-188\" d=\"M 289.6,77.7 L 293.3,80.7\" style=\"fill:none;fill-rule:evenodd;stroke:#000000;stroke-width:2.0px;stroke-linecap:butt;stroke-linejoin:miter;stroke-opacity:1\"/>\n",
       "<path class=\"bond-188 atom-189 atom-190\" d=\"M 215.3,96.8 L 219.8,95.1\" style=\"fill:none;fill-rule:evenodd;stroke:#000000;stroke-width:2.0px;stroke-linecap:butt;stroke-linejoin:miter;stroke-opacity:1\"/>\n",
       "<path class=\"bond-189 atom-190 atom-191\" d=\"M 219.8,95.1 L 220.5,90.4\" style=\"fill:none;fill-rule:evenodd;stroke:#000000;stroke-width:2.0px;stroke-linecap:butt;stroke-linejoin:miter;stroke-opacity:1\"/>\n",
       "<path class=\"bond-190 atom-191 atom-192\" d=\"M 220.5,90.4 L 216.9,87.4\" style=\"fill:none;fill-rule:evenodd;stroke:#000000;stroke-width:2.0px;stroke-linecap:butt;stroke-linejoin:miter;stroke-opacity:1\"/>\n",
       "<path class=\"bond-191 atom-80 atom-190\" d=\"M 221.9,96.9 L 220.8,96.0\" style=\"fill:none;fill-rule:evenodd;stroke:#CCCC00;stroke-width:2.0px;stroke-linecap:butt;stroke-linejoin:miter;stroke-opacity:1\"/>\n",
       "<path class=\"bond-191 atom-80 atom-190\" d=\"M 220.8,96.0 L 219.8,95.1\" style=\"fill:none;fill-rule:evenodd;stroke:#000000;stroke-width:2.0px;stroke-linecap:butt;stroke-linejoin:miter;stroke-opacity:1\"/>\n",
       "<path class=\"bond-192 atom-193 atom-194\" d=\"M 199.0,94.1 L 203.5,92.5\" style=\"fill:none;fill-rule:evenodd;stroke:#000000;stroke-width:2.0px;stroke-linecap:butt;stroke-linejoin:miter;stroke-opacity:1\"/>\n",
       "<path class=\"bond-193 atom-194 atom-195\" d=\"M 203.5,92.5 L 207.2,95.5\" style=\"fill:none;fill-rule:evenodd;stroke:#000000;stroke-width:2.0px;stroke-linecap:butt;stroke-linejoin:miter;stroke-opacity:1\"/>\n",
       "<path class=\"bond-194 atom-195 atom-196\" d=\"M 207.2,95.5 L 211.6,93.8\" style=\"fill:none;fill-rule:evenodd;stroke:#000000;stroke-width:2.0px;stroke-linecap:butt;stroke-linejoin:miter;stroke-opacity:1\"/>\n",
       "<path class=\"bond-195 atom-189 atom-196\" d=\"M 215.3,96.8 L 211.6,93.8\" style=\"fill:none;fill-rule:evenodd;stroke:#000000;stroke-width:2.0px;stroke-linecap:butt;stroke-linejoin:miter;stroke-opacity:1\"/>\n",
       "<path class=\"bond-196 atom-197 atom-198\" d=\"M 244.8,121.0 L 248.5,124.0\" style=\"fill:none;fill-rule:evenodd;stroke:#000000;stroke-width:2.0px;stroke-linecap:butt;stroke-linejoin:miter;stroke-opacity:1\"/>\n",
       "<path class=\"bond-197 atom-198 atom-199\" d=\"M 248.5,124.0 L 247.7,128.8\" style=\"fill:none;fill-rule:evenodd;stroke:#000000;stroke-width:2.0px;stroke-linecap:butt;stroke-linejoin:miter;stroke-opacity:1\"/>\n",
       "<path class=\"bond-197 atom-198 atom-199\" d=\"M 247.4,124.6 L 246.9,127.9\" style=\"fill:none;fill-rule:evenodd;stroke:#000000;stroke-width:2.0px;stroke-linecap:butt;stroke-linejoin:miter;stroke-opacity:1\"/>\n",
       "<path class=\"bond-198 atom-199 atom-200\" d=\"M 247.7,128.8 L 251.4,131.8\" style=\"fill:none;fill-rule:evenodd;stroke:#000000;stroke-width:2.0px;stroke-linecap:butt;stroke-linejoin:miter;stroke-opacity:1\"/>\n",
       "<path class=\"bond-199 atom-172 atom-197\" d=\"M 245.5,116.3 L 244.8,121.0\" style=\"fill:none;fill-rule:evenodd;stroke:#000000;stroke-width:2.0px;stroke-linecap:butt;stroke-linejoin:miter;stroke-opacity:1\"/>\n",
       "<path class=\"bond-200 atom-168 atom-201\" d=\"M 256.4,59.3 L 257.0,59.1\" style=\"fill:none;fill-rule:evenodd;stroke:#CCCC00;stroke-width:2.0px;stroke-linecap:butt;stroke-linejoin:miter;stroke-opacity:1\"/>\n",
       "<path class=\"bond-200 atom-168 atom-201\" d=\"M 257.0,59.1 L 257.5,58.9\" style=\"fill:none;fill-rule:evenodd;stroke:#000000;stroke-width:2.0px;stroke-linecap:butt;stroke-linejoin:miter;stroke-opacity:1\"/>\n",
       "<path class=\"bond-201 atom-157 atom-202\" d=\"M 229.1,38.7 L 226.4,39.7\" style=\"fill:none;fill-rule:evenodd;stroke:#000000;stroke-width:2.0px;stroke-linecap:butt;stroke-linejoin:miter;stroke-opacity:1\"/>\n",
       "<path class=\"bond-202 atom-41 atom-203\" d=\"M 262.8,96.6 L 263.3,96.4\" style=\"fill:none;fill-rule:evenodd;stroke:#CCCC00;stroke-width:2.0px;stroke-linecap:butt;stroke-linejoin:miter;stroke-opacity:1\"/>\n",
       "<path class=\"bond-202 atom-41 atom-203\" d=\"M 263.3,96.4 L 263.9,96.2\" style=\"fill:none;fill-rule:evenodd;stroke:#000000;stroke-width:2.0px;stroke-linecap:butt;stroke-linejoin:miter;stroke-opacity:1\"/>\n",
       "<path class=\"bond-203 atom-167 atom-204\" d=\"M 248.7,46.9 L 248.7,46.8\" style=\"fill:none;fill-rule:evenodd;stroke:#CCCC00;stroke-width:2.0px;stroke-linecap:butt;stroke-linejoin:miter;stroke-opacity:1\"/>\n",
       "<path class=\"bond-203 atom-167 atom-204\" d=\"M 248.7,46.8 L 248.7,46.7\" style=\"fill:none;fill-rule:evenodd;stroke:#000000;stroke-width:2.0px;stroke-linecap:butt;stroke-linejoin:miter;stroke-opacity:1\"/>\n",
       "<path class=\"bond-204 atom-113 atom-205\" d=\"M 258.7,137.8 L 260.6,139.4\" style=\"fill:none;fill-rule:evenodd;stroke:#000000;stroke-width:2.0px;stroke-linecap:butt;stroke-linejoin:miter;stroke-opacity:1\"/>\n",
       "<path class=\"bond-205 atom-200 atom-206\" d=\"M 251.4,131.8 L 251.0,134.2\" style=\"fill:none;fill-rule:evenodd;stroke:#000000;stroke-width:2.0px;stroke-linecap:butt;stroke-linejoin:miter;stroke-opacity:1\"/>\n",
       "<path class=\"bond-206 atom-185 atom-207\" d=\"M 305.9,80.4 L 307.7,81.9\" style=\"fill:none;fill-rule:evenodd;stroke:#000000;stroke-width:2.0px;stroke-linecap:butt;stroke-linejoin:miter;stroke-opacity:1\"/>\n",
       "<path class=\"bond-207 atom-75 atom-208\" d=\"M 217.4,109.3 L 217.8,106.8\" style=\"fill:none;fill-rule:evenodd;stroke:#000000;stroke-width:2.0px;stroke-linecap:butt;stroke-linejoin:miter;stroke-opacity:1\"/>\n",
       "<path class=\"bond-208 atom-150 atom-209\" d=\"M 287.6,89.5 L 287.6,89.5\" style=\"fill:none;fill-rule:evenodd;stroke:#CCCC00;stroke-width:2.0px;stroke-linecap:butt;stroke-linejoin:miter;stroke-opacity:1\"/>\n",
       "<path class=\"bond-208 atom-150 atom-209\" d=\"M 287.6,89.5 L 287.6,89.5\" style=\"fill:none;fill-rule:evenodd;stroke:#000000;stroke-width:2.0px;stroke-linecap:butt;stroke-linejoin:miter;stroke-opacity:1\"/>\n",
       "<path class=\"bond-209 atom-178 atom-210\" d=\"M 271.0,89.1 L 271.4,86.7\" style=\"fill:none;fill-rule:evenodd;stroke:#000000;stroke-width:2.0px;stroke-linecap:butt;stroke-linejoin:miter;stroke-opacity:1\"/>\n",
       "<path class=\"bond-210 atom-156 atom-211\" d=\"M 232.8,41.7 L 235.4,40.7\" style=\"fill:none;fill-rule:evenodd;stroke:#000000;stroke-width:2.0px;stroke-linecap:butt;stroke-linejoin:miter;stroke-opacity:1\"/>\n",
       "<path class=\"bond-211 atom-121 atom-212\" d=\"M 230.4,55.8 L 230.0,58.3\" style=\"fill:none;fill-rule:evenodd;stroke:#000000;stroke-width:2.0px;stroke-linecap:butt;stroke-linejoin:miter;stroke-opacity:1\"/>\n",
       "<path class=\"bond-212 atom-54 atom-213\" d=\"M 252.3,100.5 L 252.7,98.1\" style=\"fill:none;fill-rule:evenodd;stroke:#000000;stroke-width:2.0px;stroke-linecap:butt;stroke-linejoin:miter;stroke-opacity:1\"/>\n",
       "<path class=\"bond-213 atom-140 atom-214\" d=\"M 337.5,117.0 L 340.1,116.0\" style=\"fill:none;fill-rule:evenodd;stroke:#000000;stroke-width:2.0px;stroke-linecap:butt;stroke-linejoin:miter;stroke-opacity:1\"/>\n",
       "<path class=\"bond-214 atom-171 atom-215\" d=\"M 241.9,113.3 L 242.3,110.9\" style=\"fill:none;fill-rule:evenodd;stroke:#000000;stroke-width:2.0px;stroke-linecap:butt;stroke-linejoin:miter;stroke-opacity:1\"/>\n",
       "<path class=\"bond-215 atom-59 atom-216\" d=\"M 250.4,72.2 L 250.6,72.4\" style=\"fill:none;fill-rule:evenodd;stroke:#CCCC00;stroke-width:2.0px;stroke-linecap:butt;stroke-linejoin:miter;stroke-opacity:1\"/>\n",
       "<path class=\"bond-215 atom-59 atom-216\" d=\"M 250.6,72.4 L 250.7,72.5\" style=\"fill:none;fill-rule:evenodd;stroke:#000000;stroke-width:2.0px;stroke-linecap:butt;stroke-linejoin:miter;stroke-opacity:1\"/>\n",
       "<path class=\"bond-216 atom-191 atom-217\" d=\"M 220.5,90.4 L 223.2,89.5\" style=\"fill:none;fill-rule:evenodd;stroke:#000000;stroke-width:2.0px;stroke-linecap:butt;stroke-linejoin:miter;stroke-opacity:1\"/>\n",
       "<path class=\"bond-217 atom-175 atom-218\" d=\"M 204.6,136.1 L 206.5,137.7\" style=\"fill:none;fill-rule:evenodd;stroke:#000000;stroke-width:2.0px;stroke-linecap:butt;stroke-linejoin:miter;stroke-opacity:1\"/>\n",
       "<path class=\"bond-218 atom-180 atom-219\" d=\"M 279.1,90.5 L 281.0,92.0\" style=\"fill:none;fill-rule:evenodd;stroke:#000000;stroke-width:2.0px;stroke-linecap:butt;stroke-linejoin:miter;stroke-opacity:1\"/>\n",
       "<path class=\"bond-219 atom-151 atom-220\" d=\"M 164.1,102.9 L 162.2,101.3\" style=\"fill:none;fill-rule:evenodd;stroke:#000000;stroke-width:2.0px;stroke-linecap:butt;stroke-linejoin:miter;stroke-opacity:1\"/>\n",
       "<path class=\"bond-220 atom-141 atom-221\" d=\"M 111.7,65.2 L 109.9,63.7\" style=\"fill:none;fill-rule:evenodd;stroke:#000000;stroke-width:2.0px;stroke-linecap:butt;stroke-linejoin:miter;stroke-opacity:1\"/>\n",
       "<path class=\"bond-221 atom-161 atom-222\" d=\"M 281.6,49.8 L 279.8,48.3\" style=\"fill:none;fill-rule:evenodd;stroke:#000000;stroke-width:2.0px;stroke-linecap:butt;stroke-linejoin:miter;stroke-opacity:1\"/>\n",
       "<path class=\"bond-222 atom-192 atom-223\" d=\"M 216.9,87.4 L 214.2,88.4\" style=\"fill:none;fill-rule:evenodd;stroke:#000000;stroke-width:2.0px;stroke-linecap:butt;stroke-linejoin:miter;stroke-opacity:1\"/>\n",
       "<path class=\"bond-223 atom-194 atom-224\" d=\"M 203.5,92.5 L 203.9,90.0\" style=\"fill:none;fill-rule:evenodd;stroke:#000000;stroke-width:2.0px;stroke-linecap:butt;stroke-linejoin:miter;stroke-opacity:1\"/>\n",
       "<path class=\"bond-224 atom-181 atom-225\" d=\"M 242.4,135.1 L 244.3,136.7\" style=\"fill:none;fill-rule:evenodd;stroke:#000000;stroke-width:2.0px;stroke-linecap:butt;stroke-linejoin:miter;stroke-opacity:1\"/>\n",
       "<path class=\"bond-225 atom-159 atom-226\" d=\"M 286.9,43.4 L 289.5,42.4\" style=\"fill:none;fill-rule:evenodd;stroke:#000000;stroke-width:2.0px;stroke-linecap:butt;stroke-linejoin:miter;stroke-opacity:1\"/>\n",
       "<path class=\"bond-226 atom-57 atom-227\" d=\"M 177.7,60.6 L 177.5,60.5\" style=\"fill:none;fill-rule:evenodd;stroke:#CCCC00;stroke-width:2.0px;stroke-linecap:butt;stroke-linejoin:miter;stroke-opacity:1\"/>\n",
       "<path class=\"bond-226 atom-57 atom-227\" d=\"M 177.5,60.5 L 177.4,60.3\" style=\"fill:none;fill-rule:evenodd;stroke:#000000;stroke-width:2.0px;stroke-linecap:butt;stroke-linejoin:miter;stroke-opacity:1\"/>\n",
       "<path class=\"bond-227 atom-193 atom-228\" d=\"M 199.0,94.1 L 197.1,92.6\" style=\"fill:none;fill-rule:evenodd;stroke:#000000;stroke-width:2.0px;stroke-linecap:butt;stroke-linejoin:miter;stroke-opacity:1\"/>\n",
       "<path class=\"bond-228 atom-94 atom-229\" d=\"M 281.4,76.4 L 281.8,73.9\" style=\"fill:none;fill-rule:evenodd;stroke:#000000;stroke-width:2.0px;stroke-linecap:butt;stroke-linejoin:miter;stroke-opacity:1\"/>\n",
       "<path class=\"bond-229 atom-122 atom-230\" d=\"M 226.8,52.8 L 224.1,53.8\" style=\"fill:none;fill-rule:evenodd;stroke:#000000;stroke-width:2.0px;stroke-linecap:butt;stroke-linejoin:miter;stroke-opacity:1\"/>\n",
       "<path class=\"bond-230 atom-195 atom-231\" d=\"M 207.2,95.5 L 206.8,97.9\" style=\"fill:none;fill-rule:evenodd;stroke:#000000;stroke-width:2.0px;stroke-linecap:butt;stroke-linejoin:miter;stroke-opacity:1\"/>\n",
       "<path class=\"bond-231 atom-133 atom-232\" d=\"M 218.8,126.4 L 221.4,125.4\" style=\"fill:none;fill-rule:evenodd;stroke:#000000;stroke-width:2.0px;stroke-linecap:butt;stroke-linejoin:miter;stroke-opacity:1\"/>\n",
       "<path class=\"bond-232 atom-52 atom-233\" d=\"M 179.4,86.1 L 179.4,86.1\" style=\"fill:none;fill-rule:evenodd;stroke:#CCCC00;stroke-width:2.0px;stroke-linecap:butt;stroke-linejoin:miter;stroke-opacity:1\"/>\n",
       "<path class=\"bond-232 atom-52 atom-233\" d=\"M 179.4,86.1 L 179.4,86.1\" style=\"fill:none;fill-rule:evenodd;stroke:#000000;stroke-width:2.0px;stroke-linecap:butt;stroke-linejoin:miter;stroke-opacity:1\"/>\n",
       "<path class=\"bond-233 atom-174 atom-234\" d=\"M 205.4,131.4 L 203.5,129.9\" style=\"fill:none;fill-rule:evenodd;stroke:#000000;stroke-width:2.0px;stroke-linecap:butt;stroke-linejoin:miter;stroke-opacity:1\"/>\n",
       "<path class=\"bond-234 atom-179 atom-235\" d=\"M 274.7,92.1 L 274.2,94.6\" style=\"fill:none;fill-rule:evenodd;stroke:#000000;stroke-width:2.0px;stroke-linecap:butt;stroke-linejoin:miter;stroke-opacity:1\"/>\n",
       "<path class=\"bond-235 atom-160 atom-236\" d=\"M 286.1,48.1 L 288.0,49.7\" style=\"fill:none;fill-rule:evenodd;stroke:#000000;stroke-width:2.0px;stroke-linecap:butt;stroke-linejoin:miter;stroke-opacity:1\"/>\n",
       "<path class=\"bond-236 atom-176 atom-237\" d=\"M 200.2,137.8 L 199.8,140.2\" style=\"fill:none;fill-rule:evenodd;stroke:#000000;stroke-width:2.0px;stroke-linecap:butt;stroke-linejoin:miter;stroke-opacity:1\"/>\n",
       "<path class=\"bond-237 atom-166 atom-238\" d=\"M 287.9,12.2 L 288.3,9.8\" style=\"fill:none;fill-rule:evenodd;stroke:#000000;stroke-width:2.0px;stroke-linecap:butt;stroke-linejoin:miter;stroke-opacity:1\"/>\n",
       "<path class=\"bond-238 atom-158 atom-239\" d=\"M 229.9,34.0 L 228.0,32.5\" style=\"fill:none;fill-rule:evenodd;stroke:#000000;stroke-width:2.0px;stroke-linecap:butt;stroke-linejoin:miter;stroke-opacity:1\"/>\n",
       "<path class=\"bond-239 atom-132 atom-240\" d=\"M 218.0,131.1 L 219.9,132.6\" style=\"fill:none;fill-rule:evenodd;stroke:#000000;stroke-width:2.0px;stroke-linecap:butt;stroke-linejoin:miter;stroke-opacity:1\"/>\n",
       "<path class=\"bond-240 atom-70 atom-241\" d=\"M 268.8,76.7 L 268.4,79.1\" style=\"fill:none;fill-rule:evenodd;stroke:#000000;stroke-width:2.0px;stroke-linecap:butt;stroke-linejoin:miter;stroke-opacity:1\"/>\n",
       "<path class=\"atom-0\" d=\"M 225.7 72.5 L 226.2 72.5 L 226.2 74.3 L 228.4 74.3 L 228.4 72.5 L 229.0 72.5 L 229.0 76.8 L 228.4 76.8 L 228.4 74.8 L 226.2 74.8 L 226.2 76.8 L 225.7 76.8 L 225.7 72.5 \" fill=\"#000000\"/>\n",
       "<path class=\"atom-5\" d=\"M 232.7 86.9 Q 232.8 86.9, 233.0 87.0 Q 233.2 87.1, 233.4 87.1 Q 233.6 87.2, 233.8 87.2 Q 234.2 87.2, 234.5 87.0 Q 234.7 86.8, 234.7 86.4 Q 234.7 86.2, 234.6 86.0 Q 234.5 85.9, 234.3 85.8 Q 234.1 85.7, 233.8 85.7 Q 233.4 85.5, 233.2 85.4 Q 233.0 85.3, 232.8 85.1 Q 232.7 84.9, 232.7 84.5 Q 232.7 84.0, 233.0 83.6 Q 233.4 83.3, 234.1 83.3 Q 234.6 83.3, 235.1 83.5 L 235.0 84.0 Q 234.5 83.8, 234.1 83.8 Q 233.7 83.8, 233.5 84.0 Q 233.2 84.1, 233.3 84.4 Q 233.3 84.6, 233.4 84.8 Q 233.5 84.9, 233.7 85.0 Q 233.8 85.1, 234.1 85.2 Q 234.5 85.3, 234.7 85.4 Q 235.0 85.5, 235.1 85.8 Q 235.3 86.0, 235.3 86.4 Q 235.3 87.0, 234.9 87.3 Q 234.5 87.6, 233.8 87.6 Q 233.5 87.6, 233.2 87.6 Q 232.9 87.5, 232.6 87.3 L 232.7 86.9 \" fill=\"#CCCC00\"/>\n",
       "<path class=\"atom-6\" d=\"M 237.2 85.2 Q 237.2 85.2, 237.4 85.3 Q 237.6 85.4, 237.8 85.4 Q 238.1 85.5, 238.3 85.5 Q 238.7 85.5, 238.9 85.3 Q 239.2 85.1, 239.2 84.7 Q 239.2 84.5, 239.0 84.4 Q 238.9 84.2, 238.7 84.1 Q 238.6 84.1, 238.3 84.0 Q 237.9 83.9, 237.7 83.8 Q 237.4 83.6, 237.3 83.4 Q 237.1 83.2, 237.1 82.8 Q 237.1 82.3, 237.5 81.9 Q 237.8 81.6, 238.6 81.6 Q 239.1 81.6, 239.6 81.8 L 239.5 82.3 Q 239.0 82.1, 238.6 82.1 Q 238.2 82.1, 237.9 82.3 Q 237.7 82.4, 237.7 82.7 Q 237.7 83.0, 237.8 83.1 Q 237.9 83.2, 238.1 83.3 Q 238.3 83.4, 238.6 83.5 Q 239.0 83.6, 239.2 83.7 Q 239.4 83.8, 239.6 84.1 Q 239.7 84.3, 239.7 84.7 Q 239.7 85.3, 239.4 85.7 Q 239.0 86.0, 238.3 86.0 Q 237.9 86.0, 237.6 85.9 Q 237.4 85.8, 237.0 85.7 L 237.2 85.2 \" fill=\"#CCCC00\"/>\n",
       "<path class=\"atom-23\" d=\"M 180.9 71.1 Q 181.0 71.1, 181.2 71.2 Q 181.4 71.2, 181.6 71.3 Q 181.8 71.3, 182.0 71.3 Q 182.4 71.3, 182.7 71.2 Q 182.9 71.0, 182.9 70.6 Q 182.9 70.4, 182.8 70.2 Q 182.7 70.1, 182.5 70.0 Q 182.3 69.9, 182.0 69.8 Q 181.6 69.7, 181.4 69.6 Q 181.2 69.5, 181.0 69.3 Q 180.9 69.1, 180.9 68.7 Q 180.9 68.1, 181.2 67.8 Q 181.6 67.5, 182.3 67.5 Q 182.8 67.5, 183.4 67.7 L 183.2 68.2 Q 182.7 68.0, 182.3 68.0 Q 181.9 68.0, 181.7 68.1 Q 181.5 68.3, 181.5 68.6 Q 181.5 68.8, 181.6 69.0 Q 181.7 69.1, 181.9 69.2 Q 182.0 69.3, 182.3 69.4 Q 182.7 69.5, 182.9 69.6 Q 183.2 69.7, 183.3 70.0 Q 183.5 70.2, 183.5 70.6 Q 183.5 71.2, 183.1 71.5 Q 182.7 71.8, 182.1 71.8 Q 181.7 71.8, 181.4 71.8 Q 181.1 71.7, 180.8 71.5 L 180.9 71.1 \" fill=\"#CCCC00\"/>\n",
       "<path class=\"atom-24\" d=\"M 177.3 68.0 Q 177.3 68.1, 177.5 68.1 Q 177.7 68.2, 177.9 68.3 Q 178.1 68.3, 178.4 68.3 Q 178.8 68.3, 179.0 68.1 Q 179.2 67.9, 179.2 67.6 Q 179.2 67.4, 179.1 67.2 Q 179.0 67.1, 178.8 67.0 Q 178.6 66.9, 178.3 66.8 Q 178.0 66.7, 177.7 66.6 Q 177.5 66.5, 177.3 66.3 Q 177.2 66.0, 177.2 65.7 Q 177.2 65.1, 177.5 64.8 Q 177.9 64.5, 178.6 64.5 Q 179.1 64.5, 179.7 64.7 L 179.5 65.2 Q 179.0 64.9, 178.7 64.9 Q 178.2 64.9, 178.0 65.1 Q 177.8 65.3, 177.8 65.6 Q 177.8 65.8, 177.9 65.9 Q 178.0 66.1, 178.2 66.2 Q 178.4 66.2, 178.7 66.3 Q 179.0 66.5, 179.3 66.6 Q 179.5 66.7, 179.7 66.9 Q 179.8 67.2, 179.8 67.6 Q 179.8 68.2, 179.4 68.5 Q 179.0 68.8, 178.4 68.8 Q 178.0 68.8, 177.7 68.7 Q 177.4 68.6, 177.1 68.5 L 177.3 68.0 \" fill=\"#CCCC00\"/>\n",
       "<path class=\"atom-33\" d=\"M 254.3 83.2 Q 254.3 83.2, 254.5 83.3 Q 254.7 83.4, 254.9 83.4 Q 255.1 83.5, 255.4 83.5 Q 255.8 83.5, 256.0 83.3 Q 256.2 83.1, 256.2 82.7 Q 256.2 82.5, 256.1 82.4 Q 256.0 82.2, 255.8 82.1 Q 255.6 82.1, 255.3 82.0 Q 254.9 81.9, 254.7 81.7 Q 254.5 81.6, 254.3 81.4 Q 254.2 81.2, 254.2 80.8 Q 254.2 80.3, 254.5 79.9 Q 254.9 79.6, 255.6 79.6 Q 256.1 79.6, 256.7 79.8 L 256.5 80.3 Q 256.0 80.1, 255.6 80.1 Q 255.2 80.1, 255.0 80.3 Q 254.8 80.4, 254.8 80.7 Q 254.8 81.0, 254.9 81.1 Q 255.0 81.2, 255.2 81.3 Q 255.4 81.4, 255.6 81.5 Q 256.0 81.6, 256.3 81.7 Q 256.5 81.8, 256.6 82.1 Q 256.8 82.3, 256.8 82.7 Q 256.8 83.3, 256.4 83.6 Q 256.0 84.0, 255.4 84.0 Q 255.0 84.0, 254.7 83.9 Q 254.4 83.8, 254.1 83.7 L 254.3 83.2 \" fill=\"#CCCC00\"/>\n",
       "<path class=\"atom-38\" d=\"M 243.8 95.9 Q 243.8 96.0, 244.0 96.0 Q 244.2 96.1, 244.4 96.2 Q 244.7 96.2, 244.9 96.2 Q 245.3 96.2, 245.5 96.0 Q 245.7 95.8, 245.7 95.5 Q 245.7 95.3, 245.6 95.1 Q 245.5 95.0, 245.3 94.9 Q 245.1 94.8, 244.8 94.7 Q 244.5 94.6, 244.2 94.5 Q 244.0 94.4, 243.9 94.2 Q 243.7 93.9, 243.7 93.6 Q 243.7 93.0, 244.1 92.7 Q 244.4 92.4, 245.1 92.4 Q 245.6 92.4, 246.2 92.6 L 246.1 93.1 Q 245.6 92.9, 245.2 92.9 Q 244.8 92.9, 244.5 93.0 Q 244.3 93.2, 244.3 93.5 Q 244.3 93.7, 244.4 93.9 Q 244.5 94.0, 244.7 94.1 Q 244.9 94.1, 245.2 94.2 Q 245.6 94.4, 245.8 94.5 Q 246.0 94.6, 246.2 94.8 Q 246.3 95.1, 246.3 95.5 Q 246.3 96.1, 245.9 96.4 Q 245.6 96.7, 244.9 96.7 Q 244.5 96.7, 244.2 96.6 Q 243.9 96.6, 243.6 96.4 L 243.8 95.9 \" fill=\"#CCCC00\"/>\n",
       "<path class=\"atom-39\" d=\"M 256.4 95.6 Q 256.4 95.6, 256.6 95.7 Q 256.8 95.8, 257.0 95.9 Q 257.3 95.9, 257.5 95.9 Q 257.9 95.9, 258.1 95.7 Q 258.3 95.5, 258.3 95.2 Q 258.3 94.9, 258.2 94.8 Q 258.1 94.6, 257.9 94.6 Q 257.8 94.5, 257.5 94.4 Q 257.1 94.3, 256.8 94.2 Q 256.6 94.1, 256.5 93.8 Q 256.3 93.6, 256.3 93.2 Q 256.3 92.7, 256.7 92.4 Q 257.0 92.0, 257.8 92.0 Q 258.2 92.0, 258.8 92.3 L 258.7 92.7 Q 258.2 92.5, 257.8 92.5 Q 257.4 92.5, 257.1 92.7 Q 256.9 92.9, 256.9 93.2 Q 256.9 93.4, 257.0 93.5 Q 257.1 93.7, 257.3 93.7 Q 257.5 93.8, 257.8 93.9 Q 258.2 94.0, 258.4 94.1 Q 258.6 94.3, 258.8 94.5 Q 258.9 94.8, 258.9 95.2 Q 258.9 95.8, 258.5 96.1 Q 258.2 96.4, 257.5 96.4 Q 257.1 96.4, 256.8 96.3 Q 256.6 96.2, 256.2 96.1 L 256.4 95.6 \" fill=\"#CCCC00\"/>\n",
       "<path class=\"atom-40\" d=\"M 258.7 81.5 Q 258.8 81.5, 259.0 81.6 Q 259.2 81.7, 259.4 81.7 Q 259.6 81.8, 259.8 81.8 Q 260.2 81.8, 260.4 81.6 Q 260.7 81.4, 260.7 81.1 Q 260.7 80.8, 260.6 80.7 Q 260.4 80.5, 260.3 80.5 Q 260.1 80.4, 259.8 80.3 Q 259.4 80.2, 259.2 80.1 Q 259.0 80.0, 258.8 79.7 Q 258.6 79.5, 258.6 79.1 Q 258.6 78.6, 259.0 78.3 Q 259.4 77.9, 260.1 77.9 Q 260.6 77.9, 261.1 78.2 L 261.0 78.6 Q 260.5 78.4, 260.1 78.4 Q 259.7 78.4, 259.5 78.6 Q 259.2 78.8, 259.2 79.0 Q 259.2 79.3, 259.4 79.4 Q 259.5 79.6, 259.6 79.6 Q 259.8 79.7, 260.1 79.8 Q 260.5 79.9, 260.7 80.0 Q 260.9 80.2, 261.1 80.4 Q 261.3 80.6, 261.3 81.1 Q 261.3 81.6, 260.9 82.0 Q 260.5 82.3, 259.8 82.3 Q 259.5 82.3, 259.2 82.2 Q 258.9 82.1, 258.6 82.0 L 258.7 81.5 \" fill=\"#CCCC00\"/>\n",
       "<path class=\"atom-41\" d=\"M 260.1 98.6 Q 260.1 98.7, 260.3 98.7 Q 260.5 98.8, 260.7 98.9 Q 260.9 98.9, 261.2 98.9 Q 261.6 98.9, 261.8 98.7 Q 262.0 98.5, 262.0 98.2 Q 262.0 98.0, 261.9 97.8 Q 261.8 97.7, 261.6 97.6 Q 261.4 97.5, 261.1 97.4 Q 260.8 97.3, 260.5 97.2 Q 260.3 97.1, 260.1 96.9 Q 260.0 96.6, 260.0 96.3 Q 260.0 95.7, 260.4 95.4 Q 260.7 95.1, 261.4 95.1 Q 261.9 95.1, 262.5 95.3 L 262.4 95.8 Q 261.8 95.5, 261.5 95.5 Q 261.0 95.5, 260.8 95.7 Q 260.6 95.9, 260.6 96.2 Q 260.6 96.4, 260.7 96.5 Q 260.8 96.7, 261.0 96.8 Q 261.2 96.8, 261.5 96.9 Q 261.8 97.1, 262.1 97.2 Q 262.3 97.3, 262.5 97.5 Q 262.6 97.8, 262.6 98.2 Q 262.6 98.8, 262.2 99.1 Q 261.8 99.4, 261.2 99.4 Q 260.8 99.4, 260.5 99.3 Q 260.2 99.2, 259.9 99.1 L 260.1 98.6 \" fill=\"#CCCC00\"/>\n",
       "<path class=\"atom-46\" d=\"M 243.0 100.6 Q 243.0 100.7, 243.2 100.7 Q 243.4 100.8, 243.7 100.9 Q 243.9 100.9, 244.1 100.9 Q 244.5 100.9, 244.7 100.7 Q 245.0 100.5, 245.0 100.2 Q 245.0 100.0, 244.8 99.8 Q 244.7 99.7, 244.6 99.6 Q 244.4 99.5, 244.1 99.4 Q 243.7 99.3, 243.5 99.2 Q 243.2 99.1, 243.1 98.9 Q 242.9 98.6, 242.9 98.3 Q 242.9 97.7, 243.3 97.4 Q 243.7 97.1, 244.4 97.1 Q 244.9 97.1, 245.4 97.3 L 245.3 97.8 Q 244.8 97.6, 244.4 97.6 Q 244.0 97.6, 243.7 97.7 Q 243.5 97.9, 243.5 98.2 Q 243.5 98.4, 243.6 98.6 Q 243.8 98.7, 243.9 98.8 Q 244.1 98.9, 244.4 98.9 Q 244.8 99.1, 245.0 99.2 Q 245.2 99.3, 245.4 99.5 Q 245.6 99.8, 245.6 100.2 Q 245.6 100.8, 245.2 101.1 Q 244.8 101.4, 244.1 101.4 Q 243.7 101.4, 243.5 101.3 Q 243.2 101.3, 242.8 101.1 L 243.0 100.6 \" fill=\"#CCCC00\"/>\n",
       "<path class=\"atom-51\" d=\"M 183.1 83.5 Q 183.1 83.5, 183.3 83.6 Q 183.5 83.7, 183.7 83.7 Q 184.0 83.8, 184.2 83.8 Q 184.6 83.8, 184.8 83.6 Q 185.0 83.4, 185.0 83.0 Q 185.0 82.8, 184.9 82.7 Q 184.8 82.5, 184.6 82.4 Q 184.4 82.4, 184.1 82.3 Q 183.8 82.2, 183.5 82.1 Q 183.3 81.9, 183.2 81.7 Q 183.0 81.5, 183.0 81.1 Q 183.0 80.6, 183.4 80.2 Q 183.7 79.9, 184.4 79.9 Q 184.9 79.9, 185.5 80.1 L 185.4 80.6 Q 184.8 80.4, 184.5 80.4 Q 184.1 80.4, 183.8 80.6 Q 183.6 80.7, 183.6 81.0 Q 183.6 81.3, 183.7 81.4 Q 183.8 81.5, 184.0 81.6 Q 184.2 81.7, 184.5 81.8 Q 184.8 81.9, 185.1 82.0 Q 185.3 82.1, 185.5 82.4 Q 185.6 82.6, 185.6 83.0 Q 185.6 83.6, 185.2 84.0 Q 184.8 84.3, 184.2 84.3 Q 183.8 84.3, 183.5 84.2 Q 183.2 84.1, 182.9 84.0 L 183.1 83.5 \" fill=\"#CCCC00\"/>\n",
       "<path class=\"atom-52\" d=\"M 178.6 85.2 Q 178.7 85.2, 178.9 85.3 Q 179.1 85.4, 179.3 85.4 Q 179.5 85.5, 179.7 85.5 Q 180.1 85.5, 180.3 85.3 Q 180.6 85.1, 180.6 84.7 Q 180.6 84.5, 180.5 84.3 Q 180.3 84.2, 180.2 84.1 Q 180.0 84.0, 179.7 84.0 Q 179.3 83.8, 179.1 83.7 Q 178.9 83.6, 178.7 83.4 Q 178.5 83.2, 178.5 82.8 Q 178.5 82.3, 178.9 81.9 Q 179.3 81.6, 180.0 81.6 Q 180.5 81.6, 181.0 81.8 L 180.9 82.3 Q 180.4 82.1, 180.0 82.1 Q 179.6 82.1, 179.4 82.3 Q 179.1 82.4, 179.1 82.7 Q 179.1 82.9, 179.3 83.1 Q 179.4 83.2, 179.5 83.3 Q 179.7 83.4, 180.0 83.5 Q 180.4 83.6, 180.6 83.7 Q 180.8 83.8, 181.0 84.1 Q 181.2 84.3, 181.2 84.7 Q 181.2 85.3, 180.8 85.6 Q 180.4 85.9, 179.7 85.9 Q 179.4 85.9, 179.1 85.9 Q 178.8 85.8, 178.4 85.6 L 178.6 85.2 \" fill=\"#CCCC00\"/>\n",
       "<path class=\"atom-57\" d=\"M 178.0 63.3 Q 178.1 63.4, 178.3 63.4 Q 178.5 63.5, 178.7 63.6 Q 178.9 63.6, 179.1 63.6 Q 179.5 63.6, 179.8 63.4 Q 180.0 63.2, 180.0 62.9 Q 180.0 62.7, 179.9 62.5 Q 179.8 62.4, 179.6 62.3 Q 179.4 62.2, 179.1 62.1 Q 178.7 62.0, 178.5 61.9 Q 178.3 61.8, 178.1 61.6 Q 178.0 61.3, 178.0 61.0 Q 178.0 60.4, 178.3 60.1 Q 178.7 59.8, 179.4 59.8 Q 179.9 59.8, 180.5 60.0 L 180.3 60.5 Q 179.8 60.2, 179.4 60.2 Q 179.0 60.2, 178.8 60.4 Q 178.6 60.6, 178.6 60.9 Q 178.6 61.1, 178.7 61.2 Q 178.8 61.4, 179.0 61.5 Q 179.1 61.5, 179.4 61.6 Q 179.8 61.8, 180.0 61.9 Q 180.3 62.0, 180.4 62.2 Q 180.6 62.5, 180.6 62.9 Q 180.6 63.5, 180.2 63.8 Q 179.8 64.1, 179.2 64.1 Q 178.8 64.1, 178.5 64.0 Q 178.2 63.9, 177.9 63.8 L 178.0 63.3 \" fill=\"#CCCC00\"/>\n",
       "<path class=\"atom-58\" d=\"M 243.2 74.1 Q 243.2 74.1, 243.4 74.2 Q 243.6 74.3, 243.9 74.3 Q 244.1 74.4, 244.3 74.4 Q 244.7 74.4, 244.9 74.2 Q 245.2 74.0, 245.2 73.7 Q 245.2 73.4, 245.0 73.3 Q 244.9 73.1, 244.8 73.1 Q 244.6 73.0, 244.3 72.9 Q 243.9 72.8, 243.7 72.7 Q 243.4 72.6, 243.3 72.3 Q 243.1 72.1, 243.1 71.7 Q 243.1 71.2, 243.5 70.9 Q 243.9 70.5, 244.6 70.5 Q 245.1 70.5, 245.6 70.8 L 245.5 71.2 Q 245.0 71.0, 244.6 71.0 Q 244.2 71.0, 244.0 71.2 Q 243.7 71.4, 243.7 71.7 Q 243.7 71.9, 243.8 72.0 Q 244.0 72.2, 244.1 72.2 Q 244.3 72.3, 244.6 72.4 Q 245.0 72.5, 245.2 72.6 Q 245.4 72.8, 245.6 73.0 Q 245.8 73.2, 245.8 73.7 Q 245.8 74.3, 245.4 74.6 Q 245.0 74.9, 244.3 74.9 Q 243.9 74.9, 243.7 74.8 Q 243.4 74.7, 243.0 74.6 L 243.2 74.1 \" fill=\"#CCCC00\"/>\n",
       "<path class=\"atom-59\" d=\"M 247.7 72.4 Q 247.7 72.4, 247.9 72.5 Q 248.1 72.6, 248.3 72.7 Q 248.5 72.7, 248.8 72.7 Q 249.2 72.7, 249.4 72.5 Q 249.6 72.3, 249.6 72.0 Q 249.6 71.8, 249.5 71.6 Q 249.4 71.5, 249.2 71.4 Q 249.0 71.3, 248.7 71.2 Q 248.4 71.1, 248.1 71.0 Q 247.9 70.9, 247.7 70.7 Q 247.6 70.4, 247.6 70.0 Q 247.6 69.5, 248.0 69.2 Q 248.3 68.9, 249.0 68.9 Q 249.5 68.9, 250.1 69.1 L 249.9 69.5 Q 249.4 69.3, 249.1 69.3 Q 248.6 69.3, 248.4 69.5 Q 248.2 69.7, 248.2 70.0 Q 248.2 70.2, 248.3 70.3 Q 248.4 70.5, 248.6 70.6 Q 248.8 70.6, 249.1 70.7 Q 249.4 70.8, 249.7 71.0 Q 249.9 71.1, 250.1 71.3 Q 250.2 71.6, 250.2 72.0 Q 250.2 72.6, 249.8 72.9 Q 249.4 73.2, 248.8 73.2 Q 248.4 73.2, 248.1 73.1 Q 247.8 73.0, 247.5 72.9 L 247.7 72.4 \" fill=\"#CCCC00\"/>\n",
       "<path class=\"atom-68\" d=\"M 259.5 76.8 Q 259.5 76.8, 259.7 76.9 Q 259.9 77.0, 260.2 77.0 Q 260.4 77.1, 260.6 77.1 Q 261.0 77.1, 261.2 76.9 Q 261.5 76.7, 261.5 76.4 Q 261.5 76.1, 261.3 76.0 Q 261.2 75.8, 261.0 75.8 Q 260.9 75.7, 260.6 75.6 Q 260.2 75.5, 260.0 75.4 Q 259.7 75.3, 259.6 75.0 Q 259.4 74.8, 259.4 74.4 Q 259.4 73.9, 259.8 73.6 Q 260.1 73.2, 260.9 73.2 Q 261.4 73.2, 261.9 73.5 L 261.8 73.9 Q 261.3 73.7, 260.9 73.7 Q 260.5 73.7, 260.2 73.9 Q 260.0 74.1, 260.0 74.3 Q 260.0 74.6, 260.1 74.7 Q 260.3 74.8, 260.4 74.9 Q 260.6 75.0, 260.9 75.1 Q 261.3 75.2, 261.5 75.3 Q 261.7 75.5, 261.9 75.7 Q 262.1 75.9, 262.1 76.4 Q 262.1 76.9, 261.7 77.3 Q 261.3 77.6, 260.6 77.6 Q 260.2 77.6, 259.9 77.5 Q 259.7 77.4, 259.3 77.3 L 259.5 76.8 \" fill=\"#CCCC00\"/>\n",
       "<path class=\"atom-73\" d=\"M 236.6 63.4 Q 236.7 63.4, 236.9 63.5 Q 237.1 63.5, 237.3 63.6 Q 237.5 63.6, 237.7 63.6 Q 238.1 63.6, 238.3 63.5 Q 238.6 63.3, 238.6 62.9 Q 238.6 62.7, 238.5 62.5 Q 238.3 62.4, 238.2 62.3 Q 238.0 62.2, 237.7 62.1 Q 237.3 62.0, 237.1 61.9 Q 236.9 61.8, 236.7 61.6 Q 236.5 61.4, 236.5 61.0 Q 236.5 60.4, 236.9 60.1 Q 237.3 59.8, 238.0 59.8 Q 238.5 59.8, 239.0 60.0 L 238.9 60.5 Q 238.4 60.3, 238.0 60.3 Q 237.6 60.3, 237.4 60.4 Q 237.1 60.6, 237.1 60.9 Q 237.1 61.1, 237.3 61.3 Q 237.4 61.4, 237.5 61.5 Q 237.7 61.6, 238.0 61.7 Q 238.4 61.8, 238.6 61.9 Q 238.8 62.0, 239.0 62.3 Q 239.2 62.5, 239.2 62.9 Q 239.2 63.5, 238.8 63.8 Q 238.4 64.1, 237.7 64.1 Q 237.4 64.1, 237.1 64.0 Q 236.8 64.0, 236.4 63.8 L 236.6 63.4 \" fill=\"#CCCC00\"/>\n",
       "<path class=\"atom-78\" d=\"M 237.4 58.7 Q 237.4 58.7, 237.6 58.8 Q 237.8 58.8, 238.0 58.9 Q 238.3 58.9, 238.5 58.9 Q 238.9 58.9, 239.1 58.7 Q 239.4 58.5, 239.4 58.2 Q 239.4 58.0, 239.2 57.8 Q 239.1 57.7, 238.9 57.6 Q 238.8 57.5, 238.5 57.4 Q 238.1 57.3, 237.9 57.2 Q 237.6 57.1, 237.5 56.9 Q 237.3 56.7, 237.3 56.3 Q 237.3 55.7, 237.7 55.4 Q 238.0 55.1, 238.8 55.1 Q 239.3 55.1, 239.8 55.3 L 239.7 55.8 Q 239.2 55.6, 238.8 55.6 Q 238.4 55.6, 238.1 55.7 Q 237.9 55.9, 237.9 56.2 Q 237.9 56.4, 238.0 56.6 Q 238.1 56.7, 238.3 56.8 Q 238.5 56.9, 238.8 56.9 Q 239.2 57.1, 239.4 57.2 Q 239.6 57.3, 239.8 57.6 Q 239.9 57.8, 239.9 58.2 Q 239.9 58.8, 239.6 59.1 Q 239.2 59.4, 238.5 59.4 Q 238.1 59.4, 237.8 59.3 Q 237.6 59.3, 237.2 59.1 L 237.4 58.7 \" fill=\"#CCCC00\"/>\n",
       "<path class=\"atom-79\" d=\"M 226.7 98.0 Q 226.8 98.0, 227.0 98.1 Q 227.2 98.1, 227.4 98.2 Q 227.6 98.2, 227.8 98.2 Q 228.2 98.2, 228.4 98.0 Q 228.7 97.9, 228.7 97.5 Q 228.7 97.3, 228.6 97.1 Q 228.4 97.0, 228.3 96.9 Q 228.1 96.8, 227.8 96.7 Q 227.4 96.6, 227.2 96.5 Q 227.0 96.4, 226.8 96.2 Q 226.6 96.0, 226.6 95.6 Q 226.6 95.0, 227.0 94.7 Q 227.4 94.4, 228.1 94.4 Q 228.6 94.4, 229.1 94.6 L 229.0 95.1 Q 228.5 94.9, 228.1 94.9 Q 227.7 94.9, 227.5 95.0 Q 227.2 95.2, 227.2 95.5 Q 227.2 95.7, 227.3 95.9 Q 227.5 96.0, 227.6 96.1 Q 227.8 96.2, 228.1 96.2 Q 228.5 96.4, 228.7 96.5 Q 228.9 96.6, 229.1 96.9 Q 229.3 97.1, 229.3 97.5 Q 229.3 98.1, 228.9 98.4 Q 228.5 98.7, 227.8 98.7 Q 227.5 98.7, 227.2 98.6 Q 226.9 98.6, 226.5 98.4 L 226.7 98.0 \" fill=\"#CCCC00\"/>\n",
       "<path class=\"atom-80\" d=\"M 222.2 99.6 Q 222.3 99.6, 222.5 99.7 Q 222.7 99.8, 222.9 99.9 Q 223.1 99.9, 223.3 99.9 Q 223.7 99.9, 224.0 99.7 Q 224.2 99.5, 224.2 99.2 Q 224.2 99.0, 224.1 98.8 Q 224.0 98.7, 223.8 98.6 Q 223.6 98.5, 223.3 98.4 Q 222.9 98.3, 222.7 98.2 Q 222.5 98.1, 222.3 97.9 Q 222.2 97.6, 222.2 97.2 Q 222.2 96.7, 222.5 96.4 Q 222.9 96.1, 223.6 96.1 Q 224.1 96.1, 224.7 96.3 L 224.5 96.8 Q 224.0 96.5, 223.6 96.5 Q 223.2 96.5, 223.0 96.7 Q 222.8 96.9, 222.8 97.2 Q 222.8 97.4, 222.9 97.5 Q 223.0 97.7, 223.2 97.8 Q 223.3 97.8, 223.6 97.9 Q 224.0 98.0, 224.2 98.2 Q 224.5 98.3, 224.6 98.5 Q 224.8 98.8, 224.8 99.2 Q 224.8 99.8, 224.4 100.1 Q 224.0 100.4, 223.4 100.4 Q 223.0 100.4, 222.7 100.3 Q 222.4 100.2, 222.1 100.1 L 222.2 99.6 \" fill=\"#CCCC00\"/>\n",
       "<path class=\"atom-97\" d=\"M 219.1 118.4 Q 219.2 118.5, 219.4 118.5 Q 219.6 118.6, 219.8 118.7 Q 220.0 118.7, 220.2 118.7 Q 220.6 118.7, 220.9 118.5 Q 221.1 118.3, 221.1 118.0 Q 221.1 117.8, 221.0 117.6 Q 220.9 117.5, 220.7 117.4 Q 220.5 117.3, 220.2 117.2 Q 219.8 117.1, 219.6 117.0 Q 219.4 116.9, 219.2 116.7 Q 219.1 116.4, 219.1 116.1 Q 219.1 115.5, 219.4 115.2 Q 219.8 114.9, 220.5 114.9 Q 221.0 114.9, 221.6 115.1 L 221.4 115.6 Q 220.9 115.4, 220.5 115.4 Q 220.1 115.4, 219.9 115.5 Q 219.7 115.7, 219.7 116.0 Q 219.7 116.2, 219.8 116.4 Q 219.9 116.5, 220.1 116.6 Q 220.2 116.6, 220.5 116.7 Q 220.9 116.9, 221.1 117.0 Q 221.4 117.1, 221.5 117.3 Q 221.7 117.6, 221.7 118.0 Q 221.7 118.6, 221.3 118.9 Q 220.9 119.2, 220.3 119.2 Q 219.9 119.2, 219.6 119.1 Q 219.3 119.1, 219.0 118.9 L 219.1 118.4 \" fill=\"#CCCC00\"/>\n",
       "<path class=\"atom-118\" d=\"M 214.7 120.1 Q 214.7 120.1, 214.9 120.2 Q 215.1 120.3, 215.3 120.4 Q 215.6 120.4, 215.8 120.4 Q 216.2 120.4, 216.4 120.2 Q 216.6 120.0, 216.6 119.7 Q 216.6 119.4, 216.5 119.3 Q 216.4 119.2, 216.2 119.1 Q 216.0 119.0, 215.7 118.9 Q 215.4 118.8, 215.1 118.7 Q 214.9 118.6, 214.8 118.3 Q 214.6 118.1, 214.6 117.7 Q 214.6 117.2, 215.0 116.9 Q 215.3 116.5, 216.0 116.5 Q 216.5 116.5, 217.1 116.8 L 217.0 117.2 Q 216.4 117.0, 216.1 117.0 Q 215.7 117.0, 215.4 117.2 Q 215.2 117.4, 215.2 117.7 Q 215.2 117.9, 215.3 118.0 Q 215.4 118.2, 215.6 118.2 Q 215.8 118.3, 216.1 118.4 Q 216.4 118.5, 216.7 118.7 Q 216.9 118.8, 217.1 119.0 Q 217.2 119.3, 217.2 119.7 Q 217.2 120.3, 216.8 120.6 Q 216.4 120.9, 215.8 120.9 Q 215.4 120.9, 215.1 120.8 Q 214.8 120.7, 214.5 120.6 L 214.7 120.1 \" fill=\"#CCCC00\"/>\n",
       "<path class=\"atom-127\" d=\"M 233.3 108.7 Q 233.3 108.7, 233.5 108.8 Q 233.7 108.9, 234.0 108.9 Q 234.2 109.0, 234.4 109.0 Q 234.8 109.0, 235.0 108.8 Q 235.3 108.6, 235.3 108.3 Q 235.3 108.0, 235.1 107.9 Q 235.0 107.7, 234.9 107.7 Q 234.7 107.6, 234.4 107.5 Q 234.0 107.4, 233.8 107.3 Q 233.5 107.2, 233.4 106.9 Q 233.2 106.7, 233.2 106.3 Q 233.2 105.8, 233.6 105.5 Q 234.0 105.1, 234.7 105.1 Q 235.2 105.1, 235.7 105.4 L 235.6 105.8 Q 235.1 105.6, 234.7 105.6 Q 234.3 105.6, 234.0 105.8 Q 233.8 106.0, 233.8 106.3 Q 233.8 106.5, 233.9 106.6 Q 234.1 106.8, 234.2 106.8 Q 234.4 106.9, 234.7 107.0 Q 235.1 107.1, 235.3 107.2 Q 235.5 107.4, 235.7 107.6 Q 235.9 107.8, 235.9 108.3 Q 235.9 108.8, 235.5 109.2 Q 235.1 109.5, 234.4 109.5 Q 234.0 109.5, 233.8 109.4 Q 233.5 109.3, 233.1 109.2 L 233.3 108.7 \" fill=\"#CCCC00\"/>\n",
       "<path class=\"atom-136\" d=\"M 232.5 113.4 Q 232.6 113.4, 232.8 113.5 Q 233.0 113.6, 233.2 113.6 Q 233.4 113.7, 233.6 113.7 Q 234.0 113.7, 234.3 113.5 Q 234.5 113.3, 234.5 113.0 Q 234.5 112.7, 234.4 112.6 Q 234.3 112.4, 234.1 112.4 Q 233.9 112.3, 233.6 112.2 Q 233.2 112.1, 233.0 112.0 Q 232.8 111.9, 232.6 111.6 Q 232.4 111.4, 232.4 111.0 Q 232.4 110.5, 232.8 110.2 Q 233.2 109.8, 233.9 109.8 Q 234.4 109.8, 234.9 110.1 L 234.8 110.5 Q 234.3 110.3, 233.9 110.3 Q 233.5 110.3, 233.3 110.5 Q 233.0 110.7, 233.0 111.0 Q 233.0 111.2, 233.2 111.3 Q 233.3 111.5, 233.4 111.5 Q 233.6 111.6, 233.9 111.7 Q 234.3 111.8, 234.5 111.9 Q 234.8 112.1, 234.9 112.3 Q 235.1 112.5, 235.1 113.0 Q 235.1 113.6, 234.7 113.9 Q 234.3 114.2, 233.6 114.2 Q 233.3 114.2, 233.0 114.1 Q 232.7 114.0, 232.4 113.9 L 232.5 113.4 \" fill=\"#CCCC00\"/>\n",
       "<path class=\"atom-145\" d=\"M 283.2 85.5 Q 283.2 85.6, 283.4 85.6 Q 283.6 85.7, 283.8 85.8 Q 284.0 85.8, 284.2 85.8 Q 284.7 85.8, 284.9 85.6 Q 285.1 85.4, 285.1 85.1 Q 285.1 84.9, 285.0 84.7 Q 284.9 84.6, 284.7 84.5 Q 284.5 84.4, 284.2 84.3 Q 283.8 84.2, 283.6 84.1 Q 283.4 84.0, 283.2 83.8 Q 283.1 83.5, 283.1 83.2 Q 283.1 82.6, 283.4 82.3 Q 283.8 82.0, 284.5 82.0 Q 285.0 82.0, 285.6 82.2 L 285.4 82.7 Q 284.9 82.5, 284.5 82.5 Q 284.1 82.5, 283.9 82.6 Q 283.7 82.8, 283.7 83.1 Q 283.7 83.3, 283.8 83.5 Q 283.9 83.6, 284.1 83.7 Q 284.3 83.7, 284.5 83.8 Q 284.9 84.0, 285.2 84.1 Q 285.4 84.2, 285.5 84.4 Q 285.7 84.7, 285.7 85.1 Q 285.7 85.7, 285.3 86.0 Q 284.9 86.3, 284.3 86.3 Q 283.9 86.3, 283.6 86.2 Q 283.3 86.2, 283.0 86.0 L 283.2 85.5 \" fill=\"#CCCC00\"/>\n",
       "<path class=\"atom-150\" d=\"M 286.8 88.6 Q 286.9 88.6, 287.1 88.7 Q 287.3 88.8, 287.5 88.8 Q 287.7 88.9, 287.9 88.9 Q 288.3 88.9, 288.6 88.7 Q 288.8 88.5, 288.8 88.1 Q 288.8 87.9, 288.7 87.7 Q 288.6 87.6, 288.4 87.5 Q 288.2 87.4, 287.9 87.4 Q 287.5 87.2, 287.3 87.1 Q 287.1 87.0, 286.9 86.8 Q 286.8 86.6, 286.8 86.2 Q 286.8 85.7, 287.1 85.3 Q 287.5 85.0, 288.2 85.0 Q 288.7 85.0, 289.3 85.2 L 289.1 85.7 Q 288.6 85.5, 288.2 85.5 Q 287.8 85.5, 287.6 85.7 Q 287.4 85.8, 287.4 86.1 Q 287.4 86.3, 287.5 86.5 Q 287.6 86.6, 287.8 86.7 Q 287.9 86.8, 288.2 86.9 Q 288.6 87.0, 288.8 87.1 Q 289.1 87.2, 289.2 87.5 Q 289.4 87.7, 289.4 88.1 Q 289.4 88.7, 289.0 89.0 Q 288.6 89.3, 288.0 89.3 Q 287.6 89.3, 287.3 89.3 Q 287.0 89.2, 286.7 89.0 L 286.8 88.6 \" fill=\"#CCCC00\"/>\n",
       "<path class=\"atom-167\" d=\"M 247.1 50.6 Q 247.1 50.6, 247.3 50.7 Q 247.5 50.8, 247.7 50.8 Q 248.0 50.9, 248.2 50.9 Q 248.6 50.9, 248.8 50.7 Q 249.1 50.5, 249.1 50.1 Q 249.1 49.9, 248.9 49.8 Q 248.8 49.6, 248.6 49.5 Q 248.5 49.5, 248.2 49.4 Q 247.8 49.3, 247.6 49.2 Q 247.3 49.1, 247.2 48.8 Q 247.0 48.6, 247.0 48.2 Q 247.0 47.7, 247.4 47.3 Q 247.7 47.0, 248.5 47.0 Q 249.0 47.0, 249.5 47.3 L 249.4 47.7 Q 248.9 47.5, 248.5 47.5 Q 248.1 47.5, 247.8 47.7 Q 247.6 47.8, 247.6 48.1 Q 247.6 48.4, 247.7 48.5 Q 247.8 48.6, 248.0 48.7 Q 248.2 48.8, 248.5 48.9 Q 248.9 49.0, 249.1 49.1 Q 249.3 49.2, 249.5 49.5 Q 249.6 49.7, 249.6 50.1 Q 249.6 50.7, 249.3 51.1 Q 248.9 51.4, 248.2 51.4 Q 247.8 51.4, 247.5 51.3 Q 247.3 51.2, 246.9 51.1 L 247.1 50.6 \" fill=\"#CCCC00\"/>\n",
       "<path class=\"atom-168\" d=\"M 253.7 61.3 Q 253.7 61.4, 253.9 61.4 Q 254.1 61.5, 254.3 61.6 Q 254.6 61.6, 254.8 61.6 Q 255.2 61.6, 255.4 61.4 Q 255.6 61.2, 255.6 60.9 Q 255.6 60.7, 255.5 60.5 Q 255.4 60.4, 255.2 60.3 Q 255.1 60.2, 254.8 60.1 Q 254.4 60.0, 254.1 59.9 Q 253.9 59.8, 253.8 59.6 Q 253.6 59.3, 253.6 59.0 Q 253.6 58.4, 254.0 58.1 Q 254.3 57.8, 255.1 57.8 Q 255.5 57.8, 256.1 58.0 L 256.0 58.5 Q 255.5 58.3, 255.1 58.3 Q 254.7 58.3, 254.4 58.4 Q 254.2 58.6, 254.2 58.9 Q 254.2 59.1, 254.3 59.3 Q 254.4 59.4, 254.6 59.5 Q 254.8 59.6, 255.1 59.6 Q 255.5 59.8, 255.7 59.9 Q 255.9 60.0, 256.1 60.2 Q 256.2 60.5, 256.2 60.9 Q 256.2 61.5, 255.8 61.8 Q 255.5 62.1, 254.8 62.1 Q 254.4 62.1, 254.1 62.0 Q 253.9 62.0, 253.5 61.8 L 253.7 61.3 \" fill=\"#CCCC00\"/>\n",
       "<path class=\"atom-201\" d=\"M 257.7 56.1 L 258.3 56.1 L 258.3 57.9 L 260.4 57.9 L 260.4 56.1 L 261.0 56.1 L 261.0 60.3 L 260.4 60.3 L 260.4 58.4 L 258.3 58.4 L 258.3 60.3 L 257.7 60.3 L 257.7 56.1 \" fill=\"#000000\"/>\n",
       "<path class=\"atom-202\" d=\"M 223.0 38.3 L 223.5 38.3 L 223.5 40.1 L 225.7 40.1 L 225.7 38.3 L 226.3 38.3 L 226.3 42.5 L 225.7 42.5 L 225.7 40.6 L 223.5 40.6 L 223.5 42.5 L 223.0 42.5 L 223.0 38.3 \" fill=\"#000000\"/>\n",
       "<path class=\"atom-203\" d=\"M 264.1 93.4 L 264.6 93.4 L 264.6 95.2 L 266.8 95.2 L 266.8 93.4 L 267.4 93.4 L 267.4 97.6 L 266.8 97.6 L 266.8 95.7 L 264.6 95.7 L 264.6 97.6 L 264.1 97.6 L 264.1 93.4 \" fill=\"#000000\"/>\n",
       "<path class=\"atom-204\" d=\"M 247.4 42.3 L 248.0 42.3 L 248.0 44.1 L 250.2 44.1 L 250.2 42.3 L 250.7 42.3 L 250.7 46.6 L 250.2 46.6 L 250.2 44.6 L 248.0 44.6 L 248.0 46.6 L 247.4 46.6 L 247.4 42.3 \" fill=\"#000000\"/>\n",
       "<path class=\"atom-205\" d=\"M 260.8 138.7 L 261.3 138.7 L 261.3 140.5 L 263.5 140.5 L 263.5 138.7 L 264.1 138.7 L 264.1 143.0 L 263.5 143.0 L 263.5 141.0 L 261.3 141.0 L 261.3 143.0 L 260.8 143.0 L 260.8 138.7 \" fill=\"#000000\"/>\n",
       "<path class=\"atom-206\" d=\"M 248.9 134.4 L 249.5 134.4 L 249.5 136.2 L 251.7 136.2 L 251.7 134.4 L 252.2 134.4 L 252.2 138.6 L 251.7 138.6 L 251.7 136.6 L 249.5 136.6 L 249.5 138.6 L 248.9 138.6 L 248.9 134.4 \" fill=\"#000000\"/>\n",
       "<path class=\"atom-207\" d=\"M 307.9 81.3 L 308.5 81.3 L 308.5 83.1 L 310.7 83.1 L 310.7 81.3 L 311.2 81.3 L 311.2 85.5 L 310.7 85.5 L 310.7 83.6 L 308.5 83.6 L 308.5 85.5 L 307.9 85.5 L 307.9 81.3 \" fill=\"#000000\"/>\n",
       "<path class=\"atom-208\" d=\"M 216.5 102.4 L 217.1 102.4 L 217.1 104.2 L 219.3 104.2 L 219.3 102.4 L 219.9 102.4 L 219.9 106.7 L 219.3 106.7 L 219.3 104.7 L 217.1 104.7 L 217.1 106.7 L 216.5 106.7 L 216.5 102.4 \" fill=\"#000000\"/>\n",
       "<path class=\"atom-209\" d=\"M 285.6 89.7 L 286.2 89.7 L 286.2 91.5 L 288.3 91.5 L 288.3 89.7 L 288.9 89.7 L 288.9 93.9 L 288.3 93.9 L 288.3 92.0 L 286.2 92.0 L 286.2 93.9 L 285.6 93.9 L 285.6 89.7 \" fill=\"#000000\"/>\n",
       "<path class=\"atom-210\" d=\"M 270.1 82.3 L 270.7 82.3 L 270.7 84.1 L 272.8 84.1 L 272.8 82.3 L 273.4 82.3 L 273.4 86.5 L 272.8 86.5 L 272.8 84.6 L 270.7 84.6 L 270.7 86.5 L 270.1 86.5 L 270.1 82.3 \" fill=\"#000000\"/>\n",
       "<path class=\"atom-211\" d=\"M 235.6 37.9 L 236.1 37.9 L 236.1 39.7 L 238.3 39.7 L 238.3 37.9 L 238.9 37.9 L 238.9 42.2 L 238.3 42.2 L 238.3 40.2 L 236.1 40.2 L 236.1 42.2 L 235.6 42.2 L 235.6 37.9 \" fill=\"#000000\"/>\n",
       "<path class=\"atom-212\" d=\"M 228.0 58.4 L 228.6 58.4 L 228.6 60.2 L 230.8 60.2 L 230.8 58.4 L 231.3 58.4 L 231.3 62.7 L 230.8 62.7 L 230.8 60.7 L 228.6 60.7 L 228.6 62.7 L 228.0 62.7 L 228.0 58.4 \" fill=\"#000000\"/>\n",
       "<path class=\"atom-213\" d=\"M 251.5 93.7 L 252.0 93.7 L 252.0 95.5 L 254.2 95.5 L 254.2 93.7 L 254.8 93.7 L 254.8 98.0 L 254.2 98.0 L 254.2 96.0 L 252.0 96.0 L 252.0 98.0 L 251.5 98.0 L 251.5 93.7 \" fill=\"#000000\"/>\n",
       "<path class=\"atom-214\" d=\"M 340.3 113.2 L 340.9 113.2 L 340.9 115.0 L 343.0 115.0 L 343.0 113.2 L 343.6 113.2 L 343.6 117.5 L 343.0 117.5 L 343.0 115.5 L 340.9 115.5 L 340.9 117.5 L 340.3 117.5 L 340.3 113.2 \" fill=\"#000000\"/>\n",
       "<path class=\"atom-215\" d=\"M 241.0 106.5 L 241.6 106.5 L 241.6 108.3 L 243.7 108.3 L 243.7 106.5 L 244.3 106.5 L 244.3 110.7 L 243.7 110.7 L 243.7 108.8 L 241.6 108.8 L 241.6 110.7 L 241.0 110.7 L 241.0 106.5 \" fill=\"#000000\"/>\n",
       "<path class=\"atom-216\" d=\"M 250.9 71.9 L 251.5 71.9 L 251.5 73.7 L 253.6 73.7 L 253.6 71.9 L 254.2 71.9 L 254.2 76.1 L 253.6 76.1 L 253.6 74.2 L 251.5 74.2 L 251.5 76.1 L 250.9 76.1 L 250.9 71.9 \" fill=\"#000000\"/>\n",
       "<path class=\"atom-217\" d=\"M 223.3 86.6 L 223.9 86.6 L 223.9 88.4 L 226.1 88.4 L 226.1 86.6 L 226.7 86.6 L 226.7 90.9 L 226.1 90.9 L 226.1 88.9 L 223.9 88.9 L 223.9 90.9 L 223.3 90.9 L 223.3 86.6 \" fill=\"#000000\"/>\n",
       "<path class=\"atom-218\" d=\"M 206.6 137.0 L 207.2 137.0 L 207.2 138.8 L 209.4 138.8 L 209.4 137.0 L 210.0 137.0 L 210.0 141.3 L 209.4 141.3 L 209.4 139.3 L 207.2 139.3 L 207.2 141.3 L 206.6 141.3 L 206.6 137.0 \" fill=\"#000000\"/>\n",
       "<path class=\"atom-219\" d=\"M 281.1 91.4 L 281.7 91.4 L 281.7 93.2 L 283.9 93.2 L 283.9 91.4 L 284.5 91.4 L 284.5 95.6 L 283.9 95.6 L 283.9 93.7 L 281.7 93.7 L 281.7 95.6 L 281.1 95.6 L 281.1 91.4 \" fill=\"#000000\"/>\n",
       "<path class=\"atom-220\" d=\"M 158.7 97.7 L 159.3 97.7 L 159.3 99.5 L 161.5 99.5 L 161.5 97.7 L 162.1 97.7 L 162.1 102.0 L 161.5 102.0 L 161.5 100.0 L 159.3 100.0 L 159.3 102.0 L 158.7 102.0 L 158.7 97.7 \" fill=\"#000000\"/>\n",
       "<path class=\"atom-221\" d=\"M 106.4 60.1 L 107.0 60.1 L 107.0 61.9 L 109.1 61.9 L 109.1 60.1 L 109.7 60.1 L 109.7 64.3 L 109.1 64.3 L 109.1 62.3 L 107.0 62.3 L 107.0 64.3 L 106.4 64.3 L 106.4 60.1 \" fill=\"#000000\"/>\n",
       "<path class=\"atom-222\" d=\"M 276.3 44.7 L 276.9 44.7 L 276.9 46.5 L 279.0 46.5 L 279.0 44.7 L 279.6 44.7 L 279.6 48.9 L 279.0 48.9 L 279.0 47.0 L 276.9 47.0 L 276.9 48.9 L 276.3 48.9 L 276.3 44.7 \" fill=\"#000000\"/>\n",
       "<path class=\"atom-223\" d=\"M 210.7 87.0 L 211.3 87.0 L 211.3 88.8 L 213.5 88.8 L 213.5 87.0 L 214.1 87.0 L 214.1 91.2 L 213.5 91.2 L 213.5 89.3 L 211.3 89.3 L 211.3 91.2 L 210.7 91.2 L 210.7 87.0 \" fill=\"#000000\"/>\n",
       "<path class=\"atom-224\" d=\"M 202.6 85.6 L 203.2 85.6 L 203.2 87.4 L 205.3 87.4 L 205.3 85.6 L 205.9 85.6 L 205.9 89.9 L 205.3 89.9 L 205.3 87.9 L 203.2 87.9 L 203.2 89.9 L 202.6 89.9 L 202.6 85.6 \" fill=\"#000000\"/>\n",
       "<path class=\"atom-225\" d=\"M 244.5 136.0 L 245.0 136.0 L 245.0 137.8 L 247.2 137.8 L 247.2 136.0 L 247.8 136.0 L 247.8 140.3 L 247.2 140.3 L 247.2 138.3 L 245.0 138.3 L 245.0 140.3 L 244.5 140.3 L 244.5 136.0 \" fill=\"#000000\"/>\n",
       "<path class=\"atom-226\" d=\"M 289.7 39.6 L 290.3 39.6 L 290.3 41.4 L 292.4 41.4 L 292.4 39.6 L 293.0 39.6 L 293.0 43.9 L 292.4 43.9 L 292.4 41.9 L 290.3 41.9 L 290.3 43.9 L 289.7 43.9 L 289.7 39.6 \" fill=\"#000000\"/>\n",
       "<path class=\"atom-227\" d=\"M 173.9 56.7 L 174.5 56.7 L 174.5 58.5 L 176.6 58.5 L 176.6 56.7 L 177.2 56.7 L 177.2 61.0 L 176.6 61.0 L 176.6 59.0 L 174.5 59.0 L 174.5 61.0 L 173.9 61.0 L 173.9 56.7 \" fill=\"#000000\"/>\n",
       "<path class=\"atom-228\" d=\"M 193.7 89.0 L 194.2 89.0 L 194.2 90.8 L 196.4 90.8 L 196.4 89.0 L 197.0 89.0 L 197.0 93.2 L 196.4 93.2 L 196.4 91.3 L 194.2 91.3 L 194.2 93.2 L 193.7 93.2 L 193.7 89.0 \" fill=\"#000000\"/>\n",
       "<path class=\"atom-229\" d=\"M 280.6 69.5 L 281.1 69.5 L 281.1 71.3 L 283.3 71.3 L 283.3 69.5 L 283.9 69.5 L 283.9 73.8 L 283.3 73.8 L 283.3 71.8 L 281.1 71.8 L 281.1 73.8 L 280.6 73.8 L 280.6 69.5 \" fill=\"#000000\"/>\n",
       "<path class=\"atom-230\" d=\"M 220.6 52.4 L 221.2 52.4 L 221.2 54.2 L 223.4 54.2 L 223.4 52.4 L 224.0 52.4 L 224.0 56.6 L 223.4 56.6 L 223.4 54.7 L 221.2 54.7 L 221.2 56.6 L 220.6 56.6 L 220.6 52.4 \" fill=\"#000000\"/>\n",
       "<path class=\"atom-231\" d=\"M 204.7 98.1 L 205.3 98.1 L 205.3 99.9 L 207.5 99.9 L 207.5 98.1 L 208.0 98.1 L 208.0 102.3 L 207.5 102.3 L 207.5 100.3 L 205.3 100.3 L 205.3 102.3 L 204.7 102.3 L 204.7 98.1 \" fill=\"#000000\"/>\n",
       "<path class=\"atom-232\" d=\"M 221.6 122.6 L 222.2 122.6 L 222.2 124.4 L 224.3 124.4 L 224.3 122.6 L 224.9 122.6 L 224.9 126.8 L 224.3 126.8 L 224.3 124.9 L 222.2 124.9 L 222.2 126.8 L 221.6 126.8 L 221.6 122.6 \" fill=\"#000000\"/>\n",
       "<path class=\"atom-233\" d=\"M 177.4 86.3 L 177.9 86.3 L 177.9 88.1 L 180.1 88.1 L 180.1 86.3 L 180.7 86.3 L 180.7 90.5 L 180.1 90.5 L 180.1 88.6 L 177.9 88.6 L 177.9 90.5 L 177.4 90.5 L 177.4 86.3 \" fill=\"#000000\"/>\n",
       "<path class=\"atom-234\" d=\"M 200.1 126.3 L 200.6 126.3 L 200.6 128.1 L 202.8 128.1 L 202.8 126.3 L 203.4 126.3 L 203.4 130.5 L 202.8 130.5 L 202.8 128.6 L 200.6 128.6 L 200.6 130.5 L 200.1 130.5 L 200.1 126.3 \" fill=\"#000000\"/>\n",
       "<path class=\"atom-235\" d=\"M 272.2 94.7 L 272.8 94.7 L 272.8 96.5 L 275.0 96.5 L 275.0 94.7 L 275.5 94.7 L 275.5 99.0 L 275.0 99.0 L 275.0 97.0 L 272.8 97.0 L 272.8 99.0 L 272.2 99.0 L 272.2 94.7 \" fill=\"#000000\"/>\n",
       "<path class=\"atom-236\" d=\"M 288.1 49.0 L 288.7 49.0 L 288.7 50.8 L 290.9 50.8 L 290.9 49.0 L 291.5 49.0 L 291.5 53.3 L 290.9 53.3 L 290.9 51.3 L 288.7 51.3 L 288.7 53.3 L 288.1 53.3 L 288.1 49.0 \" fill=\"#000000\"/>\n",
       "<path class=\"atom-237\" d=\"M 197.7 140.4 L 198.3 140.4 L 198.3 142.2 L 200.5 142.2 L 200.5 140.4 L 201.0 140.4 L 201.0 144.6 L 200.5 144.6 L 200.5 142.7 L 198.3 142.7 L 198.3 144.6 L 197.7 144.6 L 197.7 140.4 \" fill=\"#000000\"/>\n",
       "<path class=\"atom-238\" d=\"M 287.0 5.4 L 287.6 5.4 L 287.6 7.2 L 289.7 7.2 L 289.7 5.4 L 290.3 5.4 L 290.3 9.6 L 289.7 9.6 L 289.7 7.7 L 287.6 7.7 L 287.6 9.6 L 287.0 9.6 L 287.0 5.4 \" fill=\"#000000\"/>\n",
       "<path class=\"atom-239\" d=\"M 224.5 28.9 L 225.1 28.9 L 225.1 30.7 L 227.3 30.7 L 227.3 28.9 L 227.8 28.9 L 227.8 33.1 L 227.3 33.1 L 227.3 31.1 L 225.1 31.1 L 225.1 33.1 L 224.5 33.1 L 224.5 28.9 \" fill=\"#000000\"/>\n",
       "<path class=\"atom-240\" d=\"M 220.0 132.0 L 220.6 132.0 L 220.6 133.8 L 222.8 133.8 L 222.8 132.0 L 223.3 132.0 L 223.3 136.2 L 222.8 136.2 L 222.8 134.3 L 220.6 134.3 L 220.6 136.2 L 220.0 136.2 L 220.0 132.0 \" fill=\"#000000\"/>\n",
       "<path class=\"atom-241\" d=\"M 266.4 79.3 L 267.0 79.3 L 267.0 81.1 L 269.1 81.1 L 269.1 79.3 L 269.7 79.3 L 269.7 83.5 L 269.1 83.5 L 269.1 81.6 L 267.0 81.6 L 267.0 83.5 L 266.4 83.5 L 266.4 79.3 \" fill=\"#000000\"/>\n",
       "<path class=\"atom-0\" d=\"M 225.1,74.7 L 225.1,74.7 L 225.1,74.7 L 225.1,74.7 L 225.1,74.8 L 225.0,74.8 L 225.0,74.8 L 225.0,74.8 L 225.0,74.8 L 225.0,74.9 L 225.0,74.9 L 224.9,74.9 L 224.9,74.9 L 224.9,74.9 L 224.9,74.9 L 224.9,74.9 L 224.8,75.0 L 224.8,75.0 L 224.8,75.0 L 224.8,75.0 L 224.7,75.0 L 224.7,74.9 L 224.7,74.9 L 224.7,74.9 L 224.6,74.9 L 224.6,74.9 L 224.6,74.9 L 224.6,74.9 L 224.5,74.9 L 224.5,74.8 L 224.5,74.8 L 224.5,74.8 L 224.5,74.8 L 224.5,74.7 L 224.5,74.7 L 224.5,74.7 L 224.5,74.7 L 224.5,74.6 L 224.5,74.6 L 224.5,74.6 L 224.5,74.6 L 224.5,74.5 L 224.5,74.5 L 224.5,74.5 L 224.5,74.5 L 224.5,74.5 L 224.6,74.4 L 224.6,74.4 L 224.6,74.4 L 224.6,74.4 L 224.7,74.4 L 224.7,74.4 L 224.7,74.4 L 224.7,74.4 L 224.8,74.4 L 224.8,74.4 L 224.8,74.4 L 224.8,74.4 L 224.9,74.4 L 224.9,74.4 L 224.9,74.4 L 224.9,74.4 L 224.9,74.4 L 225.0,74.4 L 225.0,74.4 L 225.0,74.5 L 225.0,74.5 L 225.0,74.5 L 225.0,74.5 L 225.1,74.6 L 225.1,74.6 L 225.1,74.6 L 225.1,74.6 L 225.1,74.7 L 224.8,74.7 Z\" style=\"fill:#000000;fill-rule:evenodd;fill-opacity:1;stroke:#000000;stroke-width:0.0px;stroke-linecap:butt;stroke-linejoin:miter;stroke-opacity:1;\"/>\n",
       "<path class=\"atom-201\" d=\"M 262.2,58.2 L 262.2,58.2 L 262.2,58.3 L 262.2,58.3 L 262.2,58.3 L 262.2,58.3 L 262.2,58.4 L 262.1,58.4 L 262.1,58.4 L 262.1,58.4 L 262.1,58.4 L 262.1,58.5 L 262.1,58.5 L 262.0,58.5 L 262.0,58.5 L 262.0,58.5 L 262.0,58.5 L 261.9,58.5 L 261.9,58.5 L 261.9,58.5 L 261.9,58.5 L 261.8,58.5 L 261.8,58.5 L 261.8,58.5 L 261.8,58.5 L 261.7,58.5 L 261.7,58.4 L 261.7,58.4 L 261.7,58.4 L 261.7,58.4 L 261.6,58.4 L 261.6,58.3 L 261.6,58.3 L 261.6,58.3 L 261.6,58.3 L 261.6,58.2 L 261.6,58.2 L 261.6,58.2 L 261.6,58.2 L 261.6,58.1 L 261.6,58.1 L 261.6,58.1 L 261.6,58.1 L 261.6,58.0 L 261.7,58.0 L 261.7,58.0 L 261.7,58.0 L 261.7,58.0 L 261.7,58.0 L 261.8,57.9 L 261.8,57.9 L 261.8,57.9 L 261.8,57.9 L 261.9,57.9 L 261.9,57.9 L 261.9,57.9 L 261.9,57.9 L 262.0,57.9 L 262.0,57.9 L 262.0,57.9 L 262.0,57.9 L 262.1,58.0 L 262.1,58.0 L 262.1,58.0 L 262.1,58.0 L 262.1,58.0 L 262.1,58.0 L 262.2,58.1 L 262.2,58.1 L 262.2,58.1 L 262.2,58.1 L 262.2,58.2 L 262.2,58.2 L 262.2,58.2 L 261.9,58.2 Z\" style=\"fill:#000000;fill-rule:evenodd;fill-opacity:1;stroke:#000000;stroke-width:0.0px;stroke-linecap:butt;stroke-linejoin:miter;stroke-opacity:1;\"/>\n",
       "<path class=\"atom-202\" d=\"M 222.4,40.4 L 222.4,40.4 L 222.4,40.4 L 222.4,40.5 L 222.3,40.5 L 222.3,40.5 L 222.3,40.5 L 222.3,40.6 L 222.3,40.6 L 222.3,40.6 L 222.3,40.6 L 222.2,40.6 L 222.2,40.6 L 222.2,40.7 L 222.2,40.7 L 222.1,40.7 L 222.1,40.7 L 222.1,40.7 L 222.1,40.7 L 222.0,40.7 L 222.0,40.7 L 222.0,40.7 L 222.0,40.7 L 221.9,40.7 L 221.9,40.7 L 221.9,40.6 L 221.9,40.6 L 221.9,40.6 L 221.8,40.6 L 221.8,40.6 L 221.8,40.6 L 221.8,40.5 L 221.8,40.5 L 221.8,40.5 L 221.8,40.5 L 221.8,40.4 L 221.8,40.4 L 221.8,40.4 L 221.8,40.4 L 221.8,40.3 L 221.8,40.3 L 221.8,40.3 L 221.8,40.3 L 221.8,40.2 L 221.8,40.2 L 221.8,40.2 L 221.9,40.2 L 221.9,40.2 L 221.9,40.1 L 221.9,40.1 L 221.9,40.1 L 222.0,40.1 L 222.0,40.1 L 222.0,40.1 L 222.0,40.1 L 222.1,40.1 L 222.1,40.1 L 222.1,40.1 L 222.1,40.1 L 222.2,40.1 L 222.2,40.1 L 222.2,40.1 L 222.2,40.1 L 222.3,40.2 L 222.3,40.2 L 222.3,40.2 L 222.3,40.2 L 222.3,40.2 L 222.3,40.3 L 222.3,40.3 L 222.4,40.3 L 222.4,40.3 L 222.4,40.4 L 222.4,40.4 L 222.1,40.4 Z\" style=\"fill:#000000;fill-rule:evenodd;fill-opacity:1;stroke:#000000;stroke-width:0.0px;stroke-linecap:butt;stroke-linejoin:miter;stroke-opacity:1;\"/>\n",
       "<path class=\"atom-203\" d=\"M 268.6,95.5 L 268.6,95.5 L 268.6,95.6 L 268.6,95.6 L 268.6,95.6 L 268.6,95.6 L 268.6,95.6 L 268.5,95.7 L 268.5,95.7 L 268.5,95.7 L 268.5,95.7 L 268.5,95.7 L 268.4,95.8 L 268.4,95.8 L 268.4,95.8 L 268.4,95.8 L 268.3,95.8 L 268.3,95.8 L 268.3,95.8 L 268.3,95.8 L 268.2,95.8 L 268.2,95.8 L 268.2,95.8 L 268.2,95.8 L 268.1,95.8 L 268.1,95.8 L 268.1,95.7 L 268.1,95.7 L 268.1,95.7 L 268.0,95.7 L 268.0,95.7 L 268.0,95.6 L 268.0,95.6 L 268.0,95.6 L 268.0,95.6 L 268.0,95.5 L 268.0,95.5 L 268.0,95.5 L 268.0,95.5 L 268.0,95.4 L 268.0,95.4 L 268.0,95.4 L 268.0,95.4 L 268.0,95.3 L 268.0,95.3 L 268.1,95.3 L 268.1,95.3 L 268.1,95.3 L 268.1,95.2 L 268.1,95.2 L 268.2,95.2 L 268.2,95.2 L 268.2,95.2 L 268.2,95.2 L 268.3,95.2 L 268.3,95.2 L 268.3,95.2 L 268.3,95.2 L 268.4,95.2 L 268.4,95.2 L 268.4,95.2 L 268.4,95.2 L 268.5,95.3 L 268.5,95.3 L 268.5,95.3 L 268.5,95.3 L 268.5,95.3 L 268.6,95.4 L 268.6,95.4 L 268.6,95.4 L 268.6,95.4 L 268.6,95.4 L 268.6,95.5 L 268.6,95.5 L 268.3,95.5 Z\" style=\"fill:#000000;fill-rule:evenodd;fill-opacity:1;stroke:#000000;stroke-width:0.0px;stroke-linecap:butt;stroke-linejoin:miter;stroke-opacity:1;\"/>\n",
       "<path class=\"atom-204\" d=\"M 251.9,44.4 L 251.9,44.5 L 251.9,44.5 L 251.9,44.5 L 251.9,44.5 L 251.9,44.6 L 251.9,44.6 L 251.9,44.6 L 251.9,44.6 L 251.8,44.6 L 251.8,44.7 L 251.8,44.7 L 251.8,44.7 L 251.8,44.7 L 251.7,44.7 L 251.7,44.7 L 251.7,44.7 L 251.7,44.7 L 251.6,44.7 L 251.6,44.7 L 251.6,44.7 L 251.6,44.7 L 251.5,44.7 L 251.5,44.7 L 251.5,44.7 L 251.5,44.7 L 251.4,44.7 L 251.4,44.7 L 251.4,44.6 L 251.4,44.6 L 251.4,44.6 L 251.4,44.6 L 251.3,44.5 L 251.3,44.5 L 251.3,44.5 L 251.3,44.5 L 251.3,44.4 L 251.3,44.4 L 251.3,44.4 L 251.3,44.4 L 251.3,44.3 L 251.3,44.3 L 251.4,44.3 L 251.4,44.3 L 251.4,44.3 L 251.4,44.2 L 251.4,44.2 L 251.4,44.2 L 251.5,44.2 L 251.5,44.2 L 251.5,44.2 L 251.5,44.1 L 251.6,44.1 L 251.6,44.1 L 251.6,44.1 L 251.6,44.1 L 251.7,44.1 L 251.7,44.1 L 251.7,44.1 L 251.7,44.2 L 251.8,44.2 L 251.8,44.2 L 251.8,44.2 L 251.8,44.2 L 251.8,44.2 L 251.9,44.2 L 251.9,44.3 L 251.9,44.3 L 251.9,44.3 L 251.9,44.3 L 251.9,44.4 L 251.9,44.4 L 251.9,44.4 L 251.9,44.4 L 251.6,44.4 Z\" style=\"fill:#000000;fill-rule:evenodd;fill-opacity:1;stroke:#000000;stroke-width:0.0px;stroke-linecap:butt;stroke-linejoin:miter;stroke-opacity:1;\"/>\n",
       "<path class=\"atom-205\" d=\"M 265.3,140.8 L 265.3,140.9 L 265.3,140.9 L 265.3,140.9 L 265.3,141.0 L 265.2,141.0 L 265.2,141.0 L 265.2,141.0 L 265.2,141.0 L 265.2,141.1 L 265.2,141.1 L 265.2,141.1 L 265.1,141.1 L 265.1,141.1 L 265.1,141.1 L 265.1,141.1 L 265.0,141.1 L 265.0,141.1 L 265.0,141.1 L 265.0,141.1 L 264.9,141.1 L 264.9,141.1 L 264.9,141.1 L 264.9,141.1 L 264.8,141.1 L 264.8,141.1 L 264.8,141.1 L 264.8,141.1 L 264.8,141.0 L 264.7,141.0 L 264.7,141.0 L 264.7,141.0 L 264.7,141.0 L 264.7,140.9 L 264.7,140.9 L 264.7,140.9 L 264.7,140.9 L 264.7,140.8 L 264.7,140.8 L 264.7,140.8 L 264.7,140.8 L 264.7,140.7 L 264.7,140.7 L 264.7,140.7 L 264.7,140.7 L 264.8,140.6 L 264.8,140.6 L 264.8,140.6 L 264.8,140.6 L 264.8,140.6 L 264.9,140.6 L 264.9,140.6 L 264.9,140.6 L 264.9,140.6 L 265.0,140.5 L 265.0,140.5 L 265.0,140.6 L 265.0,140.6 L 265.1,140.6 L 265.1,140.6 L 265.1,140.6 L 265.1,140.6 L 265.2,140.6 L 265.2,140.6 L 265.2,140.6 L 265.2,140.7 L 265.2,140.7 L 265.2,140.7 L 265.2,140.7 L 265.3,140.7 L 265.3,140.8 L 265.3,140.8 L 265.3,140.8 L 265.3,140.8 L 265.0,140.8 Z\" style=\"fill:#000000;fill-rule:evenodd;fill-opacity:1;stroke:#000000;stroke-width:0.0px;stroke-linecap:butt;stroke-linejoin:miter;stroke-opacity:1;\"/>\n",
       "<path class=\"atom-206\" d=\"M 253.4,136.5 L 253.4,136.5 L 253.4,136.5 L 253.4,136.6 L 253.4,136.6 L 253.4,136.6 L 253.4,136.6 L 253.4,136.6 L 253.4,136.7 L 253.4,136.7 L 253.3,136.7 L 253.3,136.7 L 253.3,136.7 L 253.3,136.7 L 253.3,136.8 L 253.2,136.8 L 253.2,136.8 L 253.2,136.8 L 253.2,136.8 L 253.1,136.8 L 253.1,136.8 L 253.1,136.8 L 253.1,136.8 L 253.0,136.8 L 253.0,136.7 L 253.0,136.7 L 253.0,136.7 L 252.9,136.7 L 252.9,136.7 L 252.9,136.7 L 252.9,136.6 L 252.9,136.6 L 252.9,136.6 L 252.9,136.6 L 252.9,136.5 L 252.8,136.5 L 252.8,136.5 L 252.8,136.5 L 252.8,136.4 L 252.9,136.4 L 252.9,136.4 L 252.9,136.4 L 252.9,136.3 L 252.9,136.3 L 252.9,136.3 L 252.9,136.3 L 252.9,136.3 L 253.0,136.2 L 253.0,136.2 L 253.0,136.2 L 253.0,136.2 L 253.1,136.2 L 253.1,136.2 L 253.1,136.2 L 253.1,136.2 L 253.2,136.2 L 253.2,136.2 L 253.2,136.2 L 253.2,136.2 L 253.3,136.2 L 253.3,136.2 L 253.3,136.2 L 253.3,136.2 L 253.3,136.3 L 253.4,136.3 L 253.4,136.3 L 253.4,136.3 L 253.4,136.3 L 253.4,136.4 L 253.4,136.4 L 253.4,136.4 L 253.4,136.4 L 253.4,136.5 L 253.4,136.5 L 253.1,136.5 Z\" style=\"fill:#000000;fill-rule:evenodd;fill-opacity:1;stroke:#000000;stroke-width:0.0px;stroke-linecap:butt;stroke-linejoin:miter;stroke-opacity:1;\"/>\n",
       "<path class=\"atom-207\" d=\"M 312.4,83.4 L 312.4,83.4 L 312.4,83.5 L 312.4,83.5 L 312.4,83.5 L 312.4,83.5 L 312.4,83.6 L 312.4,83.6 L 312.4,83.6 L 312.3,83.6 L 312.3,83.6 L 312.3,83.7 L 312.3,83.7 L 312.3,83.7 L 312.2,83.7 L 312.2,83.7 L 312.2,83.7 L 312.2,83.7 L 312.1,83.7 L 312.1,83.7 L 312.1,83.7 L 312.1,83.7 L 312.0,83.7 L 312.0,83.7 L 312.0,83.7 L 312.0,83.7 L 311.9,83.7 L 311.9,83.6 L 311.9,83.6 L 311.9,83.6 L 311.9,83.6 L 311.9,83.6 L 311.8,83.5 L 311.8,83.5 L 311.8,83.5 L 311.8,83.5 L 311.8,83.4 L 311.8,83.4 L 311.8,83.4 L 311.8,83.4 L 311.8,83.3 L 311.8,83.3 L 311.9,83.3 L 311.9,83.3 L 311.9,83.2 L 311.9,83.2 L 311.9,83.2 L 311.9,83.2 L 312.0,83.2 L 312.0,83.2 L 312.0,83.1 L 312.0,83.1 L 312.1,83.1 L 312.1,83.1 L 312.1,83.1 L 312.1,83.1 L 312.2,83.1 L 312.2,83.1 L 312.2,83.1 L 312.2,83.1 L 312.3,83.2 L 312.3,83.2 L 312.3,83.2 L 312.3,83.2 L 312.3,83.2 L 312.4,83.2 L 312.4,83.3 L 312.4,83.3 L 312.4,83.3 L 312.4,83.3 L 312.4,83.3 L 312.4,83.4 L 312.4,83.4 L 312.4,83.4 L 312.1,83.4 Z\" style=\"fill:#000000;fill-rule:evenodd;fill-opacity:1;stroke:#000000;stroke-width:0.0px;stroke-linecap:butt;stroke-linejoin:miter;stroke-opacity:1;\"/>\n",
       "<path class=\"atom-208\" d=\"M 221.1,104.6 L 221.1,104.6 L 221.1,104.6 L 221.1,104.6 L 221.1,104.7 L 221.0,104.7 L 221.0,104.7 L 221.0,104.7 L 221.0,104.7 L 221.0,104.8 L 221.0,104.8 L 220.9,104.8 L 220.9,104.8 L 220.9,104.8 L 220.9,104.8 L 220.9,104.8 L 220.8,104.8 L 220.8,104.9 L 220.8,104.9 L 220.7,104.9 L 220.7,104.8 L 220.7,104.8 L 220.7,104.8 L 220.6,104.8 L 220.6,104.8 L 220.6,104.8 L 220.6,104.8 L 220.6,104.8 L 220.5,104.8 L 220.5,104.7 L 220.5,104.7 L 220.5,104.7 L 220.5,104.7 L 220.5,104.6 L 220.5,104.6 L 220.5,104.6 L 220.5,104.6 L 220.5,104.5 L 220.5,104.5 L 220.5,104.5 L 220.5,104.5 L 220.5,104.4 L 220.5,104.4 L 220.5,104.4 L 220.5,104.4 L 220.5,104.4 L 220.6,104.3 L 220.6,104.3 L 220.6,104.3 L 220.6,104.3 L 220.6,104.3 L 220.7,104.3 L 220.7,104.3 L 220.7,104.3 L 220.7,104.3 L 220.8,104.3 L 220.8,104.3 L 220.8,104.3 L 220.9,104.3 L 220.9,104.3 L 220.9,104.3 L 220.9,104.3 L 220.9,104.3 L 221.0,104.3 L 221.0,104.3 L 221.0,104.4 L 221.0,104.4 L 221.0,104.4 L 221.0,104.4 L 221.1,104.5 L 221.1,104.5 L 221.1,104.5 L 221.1,104.5 L 221.1,104.6 L 220.8,104.6 Z\" style=\"fill:#000000;fill-rule:evenodd;fill-opacity:1;stroke:#000000;stroke-width:0.0px;stroke-linecap:butt;stroke-linejoin:miter;stroke-opacity:1;\"/>\n",
       "<path class=\"atom-209\" d=\"M 290.1,91.8 L 290.1,91.8 L 290.1,91.9 L 290.1,91.9 L 290.1,91.9 L 290.1,91.9 L 290.1,92.0 L 290.1,92.0 L 290.1,92.0 L 290.0,92.0 L 290.0,92.0 L 290.0,92.1 L 290.0,92.1 L 290.0,92.1 L 289.9,92.1 L 289.9,92.1 L 289.9,92.1 L 289.9,92.1 L 289.8,92.1 L 289.8,92.1 L 289.8,92.1 L 289.7,92.1 L 289.7,92.1 L 289.7,92.1 L 289.7,92.1 L 289.7,92.1 L 289.6,92.0 L 289.6,92.0 L 289.6,92.0 L 289.6,92.0 L 289.6,92.0 L 289.6,91.9 L 289.5,91.9 L 289.5,91.9 L 289.5,91.9 L 289.5,91.9 L 289.5,91.8 L 289.5,91.8 L 289.5,91.8 L 289.5,91.7 L 289.5,91.7 L 289.5,91.7 L 289.6,91.7 L 289.6,91.7 L 289.6,91.6 L 289.6,91.6 L 289.6,91.6 L 289.6,91.6 L 289.7,91.6 L 289.7,91.5 L 289.7,91.5 L 289.7,91.5 L 289.7,91.5 L 289.8,91.5 L 289.8,91.5 L 289.8,91.5 L 289.9,91.5 L 289.9,91.5 L 289.9,91.5 L 289.9,91.5 L 290.0,91.5 L 290.0,91.6 L 290.0,91.6 L 290.0,91.6 L 290.0,91.6 L 290.1,91.6 L 290.1,91.6 L 290.1,91.7 L 290.1,91.7 L 290.1,91.7 L 290.1,91.7 L 290.1,91.8 L 290.1,91.8 L 290.1,91.8 L 289.8,91.8 Z\" style=\"fill:#000000;fill-rule:evenodd;fill-opacity:1;stroke:#000000;stroke-width:0.0px;stroke-linecap:butt;stroke-linejoin:miter;stroke-opacity:1;\"/>\n",
       "<path class=\"atom-210\" d=\"M 274.6,84.4 L 274.6,84.4 L 274.6,84.5 L 274.6,84.5 L 274.6,84.5 L 274.6,84.5 L 274.6,84.6 L 274.6,84.6 L 274.5,84.6 L 274.5,84.6 L 274.5,84.6 L 274.5,84.7 L 274.5,84.7 L 274.4,84.7 L 274.4,84.7 L 274.4,84.7 L 274.4,84.7 L 274.3,84.7 L 274.3,84.7 L 274.3,84.7 L 274.3,84.7 L 274.2,84.7 L 274.2,84.7 L 274.2,84.7 L 274.2,84.7 L 274.1,84.7 L 274.1,84.7 L 274.1,84.6 L 274.1,84.6 L 274.1,84.6 L 274.1,84.6 L 274.0,84.6 L 274.0,84.5 L 274.0,84.5 L 274.0,84.5 L 274.0,84.5 L 274.0,84.4 L 274.0,84.4 L 274.0,84.4 L 274.0,84.4 L 274.0,84.3 L 274.0,84.3 L 274.0,84.3 L 274.1,84.3 L 274.1,84.2 L 274.1,84.2 L 274.1,84.2 L 274.1,84.2 L 274.1,84.2 L 274.2,84.2 L 274.2,84.1 L 274.2,84.1 L 274.2,84.1 L 274.3,84.1 L 274.3,84.1 L 274.3,84.1 L 274.3,84.1 L 274.4,84.1 L 274.4,84.1 L 274.4,84.1 L 274.4,84.1 L 274.5,84.2 L 274.5,84.2 L 274.5,84.2 L 274.5,84.2 L 274.5,84.2 L 274.6,84.2 L 274.6,84.3 L 274.6,84.3 L 274.6,84.3 L 274.6,84.3 L 274.6,84.4 L 274.6,84.4 L 274.6,84.4 L 274.3,84.4 Z\" style=\"fill:#000000;fill-rule:evenodd;fill-opacity:1;stroke:#000000;stroke-width:0.0px;stroke-linecap:butt;stroke-linejoin:miter;stroke-opacity:1;\"/>\n",
       "<path class=\"atom-211\" d=\"M 240.1,40.1 L 240.1,40.1 L 240.1,40.1 L 240.1,40.1 L 240.1,40.2 L 240.1,40.2 L 240.1,40.2 L 240.0,40.2 L 240.0,40.3 L 240.0,40.3 L 240.0,40.3 L 240.0,40.3 L 240.0,40.3 L 239.9,40.3 L 239.9,40.3 L 239.9,40.3 L 239.9,40.4 L 239.8,40.4 L 239.8,40.4 L 239.8,40.4 L 239.8,40.4 L 239.7,40.4 L 239.7,40.3 L 239.7,40.3 L 239.7,40.3 L 239.6,40.3 L 239.6,40.3 L 239.6,40.3 L 239.6,40.3 L 239.6,40.2 L 239.5,40.2 L 239.5,40.2 L 239.5,40.2 L 239.5,40.1 L 239.5,40.1 L 239.5,40.1 L 239.5,40.1 L 239.5,40.0 L 239.5,40.0 L 239.5,40.0 L 239.5,40.0 L 239.5,39.9 L 239.5,39.9 L 239.5,39.9 L 239.6,39.9 L 239.6,39.9 L 239.6,39.8 L 239.6,39.8 L 239.6,39.8 L 239.7,39.8 L 239.7,39.8 L 239.7,39.8 L 239.7,39.8 L 239.8,39.8 L 239.8,39.8 L 239.8,39.8 L 239.8,39.8 L 239.9,39.8 L 239.9,39.8 L 239.9,39.8 L 239.9,39.8 L 240.0,39.8 L 240.0,39.8 L 240.0,39.8 L 240.0,39.9 L 240.0,39.9 L 240.0,39.9 L 240.1,39.9 L 240.1,39.9 L 240.1,40.0 L 240.1,40.0 L 240.1,40.0 L 240.1,40.0 L 240.1,40.1 L 239.8,40.1 Z\" style=\"fill:#000000;fill-rule:evenodd;fill-opacity:1;stroke:#000000;stroke-width:0.0px;stroke-linecap:butt;stroke-linejoin:miter;stroke-opacity:1;\"/>\n",
       "<path class=\"atom-212\" d=\"M 232.5,60.5 L 232.5,60.6 L 232.5,60.6 L 232.5,60.6 L 232.5,60.7 L 232.5,60.7 L 232.5,60.7 L 232.5,60.7 L 232.5,60.7 L 232.4,60.8 L 232.4,60.8 L 232.4,60.8 L 232.4,60.8 L 232.4,60.8 L 232.3,60.8 L 232.3,60.8 L 232.3,60.8 L 232.3,60.8 L 232.2,60.8 L 232.2,60.8 L 232.2,60.8 L 232.2,60.8 L 232.1,60.8 L 232.1,60.8 L 232.1,60.8 L 232.1,60.8 L 232.0,60.8 L 232.0,60.8 L 232.0,60.8 L 232.0,60.7 L 232.0,60.7 L 232.0,60.7 L 231.9,60.7 L 231.9,60.6 L 231.9,60.6 L 231.9,60.6 L 231.9,60.6 L 231.9,60.5 L 231.9,60.5 L 231.9,60.5 L 231.9,60.5 L 231.9,60.4 L 232.0,60.4 L 232.0,60.4 L 232.0,60.4 L 232.0,60.3 L 232.0,60.3 L 232.0,60.3 L 232.1,60.3 L 232.1,60.3 L 232.1,60.3 L 232.1,60.3 L 232.2,60.3 L 232.2,60.3 L 232.2,60.3 L 232.2,60.3 L 232.3,60.3 L 232.3,60.3 L 232.3,60.3 L 232.3,60.3 L 232.4,60.3 L 232.4,60.3 L 232.4,60.3 L 232.4,60.3 L 232.4,60.3 L 232.5,60.4 L 232.5,60.4 L 232.5,60.4 L 232.5,60.4 L 232.5,60.4 L 232.5,60.5 L 232.5,60.5 L 232.5,60.5 L 232.5,60.5 L 232.2,60.5 Z\" style=\"fill:#000000;fill-rule:evenodd;fill-opacity:1;stroke:#000000;stroke-width:0.0px;stroke-linecap:butt;stroke-linejoin:miter;stroke-opacity:1;\"/>\n",
       "<path class=\"atom-213\" d=\"M 256.0,95.8 L 256.0,95.9 L 256.0,95.9 L 256.0,95.9 L 256.0,95.9 L 256.0,96.0 L 255.9,96.0 L 255.9,96.0 L 255.9,96.0 L 255.9,96.0 L 255.9,96.1 L 255.9,96.1 L 255.8,96.1 L 255.8,96.1 L 255.8,96.1 L 255.8,96.1 L 255.7,96.1 L 255.7,96.1 L 255.7,96.1 L 255.7,96.1 L 255.6,96.1 L 255.6,96.1 L 255.6,96.1 L 255.6,96.1 L 255.5,96.1 L 255.5,96.1 L 255.5,96.1 L 255.5,96.0 L 255.5,96.0 L 255.4,96.0 L 255.4,96.0 L 255.4,96.0 L 255.4,95.9 L 255.4,95.9 L 255.4,95.9 L 255.4,95.9 L 255.4,95.8 L 255.4,95.8 L 255.4,95.8 L 255.4,95.8 L 255.4,95.7 L 255.4,95.7 L 255.4,95.7 L 255.4,95.7 L 255.4,95.7 L 255.5,95.6 L 255.5,95.6 L 255.5,95.6 L 255.5,95.6 L 255.5,95.6 L 255.6,95.6 L 255.6,95.5 L 255.6,95.5 L 255.6,95.5 L 255.7,95.5 L 255.7,95.5 L 255.7,95.5 L 255.7,95.5 L 255.8,95.5 L 255.8,95.6 L 255.8,95.6 L 255.8,95.6 L 255.9,95.6 L 255.9,95.6 L 255.9,95.6 L 255.9,95.6 L 255.9,95.7 L 255.9,95.7 L 256.0,95.7 L 256.0,95.7 L 256.0,95.8 L 256.0,95.8 L 256.0,95.8 L 256.0,95.8 L 255.7,95.8 Z\" style=\"fill:#000000;fill-rule:evenodd;fill-opacity:1;stroke:#000000;stroke-width:0.0px;stroke-linecap:butt;stroke-linejoin:miter;stroke-opacity:1;\"/>\n",
       "<path class=\"atom-214\" d=\"M 344.8,115.3 L 344.8,115.4 L 344.8,115.4 L 344.8,115.4 L 344.8,115.4 L 344.8,115.5 L 344.8,115.5 L 344.8,115.5 L 344.7,115.5 L 344.7,115.6 L 344.7,115.6 L 344.7,115.6 L 344.7,115.6 L 344.6,115.6 L 344.6,115.6 L 344.6,115.6 L 344.6,115.6 L 344.5,115.6 L 344.5,115.6 L 344.5,115.6 L 344.5,115.6 L 344.4,115.6 L 344.4,115.6 L 344.4,115.6 L 344.4,115.6 L 344.3,115.6 L 344.3,115.6 L 344.3,115.6 L 344.3,115.5 L 344.3,115.5 L 344.3,115.5 L 344.2,115.5 L 344.2,115.5 L 344.2,115.4 L 344.2,115.4 L 344.2,115.4 L 344.2,115.4 L 344.2,115.3 L 344.2,115.3 L 344.2,115.3 L 344.2,115.3 L 344.2,115.2 L 344.2,115.2 L 344.3,115.2 L 344.3,115.2 L 344.3,115.1 L 344.3,115.1 L 344.3,115.1 L 344.3,115.1 L 344.4,115.1 L 344.4,115.1 L 344.4,115.1 L 344.4,115.1 L 344.5,115.0 L 344.5,115.0 L 344.5,115.0 L 344.5,115.0 L 344.6,115.1 L 344.6,115.1 L 344.6,115.1 L 344.6,115.1 L 344.7,115.1 L 344.7,115.1 L 344.7,115.1 L 344.7,115.1 L 344.7,115.2 L 344.8,115.2 L 344.8,115.2 L 344.8,115.2 L 344.8,115.2 L 344.8,115.3 L 344.8,115.3 L 344.8,115.3 L 344.8,115.3 L 344.5,115.3 Z\" style=\"fill:#000000;fill-rule:evenodd;fill-opacity:1;stroke:#000000;stroke-width:0.0px;stroke-linecap:butt;stroke-linejoin:miter;stroke-opacity:1;\"/>\n",
       "<path class=\"atom-215\" d=\"M 245.5,108.6 L 245.5,108.6 L 245.5,108.6 L 245.5,108.7 L 245.5,108.7 L 245.5,108.7 L 245.5,108.7 L 245.5,108.8 L 245.4,108.8 L 245.4,108.8 L 245.4,108.8 L 245.4,108.8 L 245.4,108.9 L 245.3,108.9 L 245.3,108.9 L 245.3,108.9 L 245.3,108.9 L 245.2,108.9 L 245.2,108.9 L 245.2,108.9 L 245.2,108.9 L 245.1,108.9 L 245.1,108.9 L 245.1,108.9 L 245.1,108.9 L 245.0,108.8 L 245.0,108.8 L 245.0,108.8 L 245.0,108.8 L 245.0,108.8 L 245.0,108.8 L 244.9,108.7 L 244.9,108.7 L 244.9,108.7 L 244.9,108.7 L 244.9,108.6 L 244.9,108.6 L 244.9,108.6 L 244.9,108.6 L 244.9,108.5 L 244.9,108.5 L 244.9,108.5 L 244.9,108.5 L 245.0,108.4 L 245.0,108.4 L 245.0,108.4 L 245.0,108.4 L 245.0,108.4 L 245.0,108.3 L 245.1,108.3 L 245.1,108.3 L 245.1,108.3 L 245.1,108.3 L 245.2,108.3 L 245.2,108.3 L 245.2,108.3 L 245.2,108.3 L 245.3,108.3 L 245.3,108.3 L 245.3,108.3 L 245.3,108.3 L 245.4,108.3 L 245.4,108.3 L 245.4,108.4 L 245.4,108.4 L 245.4,108.4 L 245.5,108.4 L 245.5,108.4 L 245.5,108.5 L 245.5,108.5 L 245.5,108.5 L 245.5,108.5 L 245.5,108.6 L 245.5,108.6 L 245.2,108.6 Z\" style=\"fill:#000000;fill-rule:evenodd;fill-opacity:1;stroke:#000000;stroke-width:0.0px;stroke-linecap:butt;stroke-linejoin:miter;stroke-opacity:1;\"/>\n",
       "<path class=\"atom-216\" d=\"M 255.4,74.0 L 255.4,74.0 L 255.4,74.0 L 255.4,74.1 L 255.4,74.1 L 255.4,74.1 L 255.4,74.1 L 255.4,74.2 L 255.3,74.2 L 255.3,74.2 L 255.3,74.2 L 255.3,74.2 L 255.3,74.3 L 255.2,74.3 L 255.2,74.3 L 255.2,74.3 L 255.2,74.3 L 255.1,74.3 L 255.1,74.3 L 255.1,74.3 L 255.1,74.3 L 255.0,74.3 L 255.0,74.3 L 255.0,74.3 L 255.0,74.3 L 254.9,74.2 L 254.9,74.2 L 254.9,74.2 L 254.9,74.2 L 254.9,74.2 L 254.9,74.2 L 254.8,74.1 L 254.8,74.1 L 254.8,74.1 L 254.8,74.1 L 254.8,74.0 L 254.8,74.0 L 254.8,74.0 L 254.8,74.0 L 254.8,73.9 L 254.8,73.9 L 254.8,73.9 L 254.8,73.9 L 254.9,73.8 L 254.9,73.8 L 254.9,73.8 L 254.9,73.8 L 254.9,73.8 L 254.9,73.7 L 255.0,73.7 L 255.0,73.7 L 255.0,73.7 L 255.0,73.7 L 255.1,73.7 L 255.1,73.7 L 255.1,73.7 L 255.1,73.7 L 255.2,73.7 L 255.2,73.7 L 255.2,73.7 L 255.2,73.7 L 255.3,73.7 L 255.3,73.8 L 255.3,73.8 L 255.3,73.8 L 255.3,73.8 L 255.4,73.8 L 255.4,73.8 L 255.4,73.9 L 255.4,73.9 L 255.4,73.9 L 255.4,73.9 L 255.4,74.0 L 255.4,74.0 L 255.1,74.0 Z\" style=\"fill:#000000;fill-rule:evenodd;fill-opacity:1;stroke:#000000;stroke-width:0.0px;stroke-linecap:butt;stroke-linejoin:miter;stroke-opacity:1;\"/>\n",
       "<path class=\"atom-217\" d=\"M 227.9,88.8 L 227.9,88.8 L 227.9,88.8 L 227.9,88.8 L 227.8,88.9 L 227.8,88.9 L 227.8,88.9 L 227.8,88.9 L 227.8,89.0 L 227.8,89.0 L 227.8,89.0 L 227.7,89.0 L 227.7,89.0 L 227.7,89.0 L 227.7,89.0 L 227.6,89.1 L 227.6,89.1 L 227.6,89.1 L 227.6,89.1 L 227.5,89.1 L 227.5,89.1 L 227.5,89.1 L 227.5,89.1 L 227.4,89.0 L 227.4,89.0 L 227.4,89.0 L 227.4,89.0 L 227.4,89.0 L 227.3,89.0 L 227.3,88.9 L 227.3,88.9 L 227.3,88.9 L 227.3,88.9 L 227.3,88.9 L 227.3,88.8 L 227.3,88.8 L 227.3,88.8 L 227.3,88.8 L 227.3,88.7 L 227.3,88.7 L 227.3,88.7 L 227.3,88.7 L 227.3,88.6 L 227.3,88.6 L 227.3,88.6 L 227.3,88.6 L 227.4,88.5 L 227.4,88.5 L 227.4,88.5 L 227.4,88.5 L 227.4,88.5 L 227.5,88.5 L 227.5,88.5 L 227.5,88.5 L 227.5,88.5 L 227.6,88.5 L 227.6,88.5 L 227.6,88.5 L 227.6,88.5 L 227.7,88.5 L 227.7,88.5 L 227.7,88.5 L 227.7,88.5 L 227.8,88.5 L 227.8,88.6 L 227.8,88.6 L 227.8,88.6 L 227.8,88.6 L 227.8,88.6 L 227.8,88.7 L 227.9,88.7 L 227.9,88.7 L 227.9,88.7 L 227.9,88.8 L 227.6,88.8 Z\" style=\"fill:#000000;fill-rule:evenodd;fill-opacity:1;stroke:#000000;stroke-width:0.0px;stroke-linecap:butt;stroke-linejoin:miter;stroke-opacity:1;\"/>\n",
       "<path class=\"atom-218\" d=\"M 211.2,139.2 L 211.2,139.2 L 211.2,139.2 L 211.2,139.2 L 211.1,139.3 L 211.1,139.3 L 211.1,139.3 L 211.1,139.3 L 211.1,139.3 L 211.1,139.4 L 211.1,139.4 L 211.0,139.4 L 211.0,139.4 L 211.0,139.4 L 211.0,139.4 L 210.9,139.4 L 210.9,139.4 L 210.9,139.4 L 210.9,139.5 L 210.8,139.5 L 210.8,139.4 L 210.8,139.4 L 210.8,139.4 L 210.7,139.4 L 210.7,139.4 L 210.7,139.4 L 210.7,139.4 L 210.7,139.4 L 210.6,139.4 L 210.6,139.3 L 210.6,139.3 L 210.6,139.3 L 210.6,139.3 L 210.6,139.2 L 210.6,139.2 L 210.6,139.2 L 210.6,139.2 L 210.6,139.1 L 210.6,139.1 L 210.6,139.1 L 210.6,139.1 L 210.6,139.0 L 210.6,139.0 L 210.6,139.0 L 210.6,139.0 L 210.6,139.0 L 210.7,138.9 L 210.7,138.9 L 210.7,138.9 L 210.7,138.9 L 210.7,138.9 L 210.8,138.9 L 210.8,138.9 L 210.8,138.9 L 210.8,138.9 L 210.9,138.9 L 210.9,138.9 L 210.9,138.9 L 210.9,138.9 L 211.0,138.9 L 211.0,138.9 L 211.0,138.9 L 211.0,138.9 L 211.1,138.9 L 211.1,138.9 L 211.1,139.0 L 211.1,139.0 L 211.1,139.0 L 211.1,139.0 L 211.1,139.0 L 211.2,139.1 L 211.2,139.1 L 211.2,139.1 L 211.2,139.2 L 210.9,139.2 Z\" style=\"fill:#000000;fill-rule:evenodd;fill-opacity:1;stroke:#000000;stroke-width:0.0px;stroke-linecap:butt;stroke-linejoin:miter;stroke-opacity:1;\"/>\n",
       "<path class=\"atom-219\" d=\"M 285.7,93.5 L 285.7,93.5 L 285.7,93.5 L 285.6,93.6 L 285.6,93.6 L 285.6,93.6 L 285.6,93.6 L 285.6,93.7 L 285.6,93.7 L 285.6,93.7 L 285.6,93.7 L 285.5,93.7 L 285.5,93.7 L 285.5,93.8 L 285.5,93.8 L 285.4,93.8 L 285.4,93.8 L 285.4,93.8 L 285.4,93.8 L 285.3,93.8 L 285.3,93.8 L 285.3,93.8 L 285.3,93.8 L 285.2,93.8 L 285.2,93.8 L 285.2,93.7 L 285.2,93.7 L 285.2,93.7 L 285.1,93.7 L 285.1,93.7 L 285.1,93.6 L 285.1,93.6 L 285.1,93.6 L 285.1,93.6 L 285.1,93.6 L 285.1,93.5 L 285.1,93.5 L 285.1,93.5 L 285.1,93.5 L 285.1,93.4 L 285.1,93.4 L 285.1,93.4 L 285.1,93.4 L 285.1,93.3 L 285.1,93.3 L 285.1,93.3 L 285.2,93.3 L 285.2,93.3 L 285.2,93.2 L 285.2,93.2 L 285.2,93.2 L 285.3,93.2 L 285.3,93.2 L 285.3,93.2 L 285.3,93.2 L 285.4,93.2 L 285.4,93.2 L 285.4,93.2 L 285.4,93.2 L 285.5,93.2 L 285.5,93.2 L 285.5,93.2 L 285.5,93.2 L 285.6,93.3 L 285.6,93.3 L 285.6,93.3 L 285.6,93.3 L 285.6,93.3 L 285.6,93.4 L 285.6,93.4 L 285.6,93.4 L 285.7,93.4 L 285.7,93.5 L 285.7,93.5 L 285.4,93.5 Z\" style=\"fill:#000000;fill-rule:evenodd;fill-opacity:1;stroke:#000000;stroke-width:0.0px;stroke-linecap:butt;stroke-linejoin:miter;stroke-opacity:1;\"/>\n",
       "<path class=\"atom-220\" d=\"M 158.1,99.8 L 158.1,99.9 L 158.1,99.9 L 158.1,99.9 L 158.1,99.9 L 158.1,100.0 L 158.1,100.0 L 158.1,100.0 L 158.1,100.0 L 158.1,100.0 L 158.0,100.1 L 158.0,100.1 L 158.0,100.1 L 158.0,100.1 L 158.0,100.1 L 157.9,100.1 L 157.9,100.1 L 157.9,100.1 L 157.9,100.1 L 157.8,100.1 L 157.8,100.1 L 157.8,100.1 L 157.8,100.1 L 157.7,100.1 L 157.7,100.1 L 157.7,100.1 L 157.7,100.1 L 157.6,100.0 L 157.6,100.0 L 157.6,100.0 L 157.6,100.0 L 157.6,100.0 L 157.6,99.9 L 157.6,99.9 L 157.6,99.9 L 157.6,99.9 L 157.5,99.8 L 157.5,99.8 L 157.6,99.8 L 157.6,99.8 L 157.6,99.7 L 157.6,99.7 L 157.6,99.7 L 157.6,99.7 L 157.6,99.6 L 157.6,99.6 L 157.6,99.6 L 157.7,99.6 L 157.7,99.6 L 157.7,99.6 L 157.7,99.6 L 157.8,99.5 L 157.8,99.5 L 157.8,99.5 L 157.8,99.5 L 157.9,99.5 L 157.9,99.5 L 157.9,99.5 L 157.9,99.5 L 158.0,99.5 L 158.0,99.6 L 158.0,99.6 L 158.0,99.6 L 158.0,99.6 L 158.1,99.6 L 158.1,99.6 L 158.1,99.7 L 158.1,99.7 L 158.1,99.7 L 158.1,99.7 L 158.1,99.8 L 158.1,99.8 L 158.1,99.8 L 158.1,99.8 L 157.8,99.8 Z\" style=\"fill:#000000;fill-rule:evenodd;fill-opacity:1;stroke:#000000;stroke-width:0.0px;stroke-linecap:butt;stroke-linejoin:miter;stroke-opacity:1;\"/>\n",
       "<path class=\"atom-221\" d=\"M 105.8,62.2 L 105.8,62.2 L 105.8,62.2 L 105.8,62.3 L 105.8,62.3 L 105.8,62.3 L 105.8,62.3 L 105.7,62.4 L 105.7,62.4 L 105.7,62.4 L 105.7,62.4 L 105.7,62.4 L 105.6,62.4 L 105.6,62.5 L 105.6,62.5 L 105.6,62.5 L 105.6,62.5 L 105.5,62.5 L 105.5,62.5 L 105.5,62.5 L 105.5,62.5 L 105.4,62.5 L 105.4,62.5 L 105.4,62.5 L 105.4,62.5 L 105.3,62.4 L 105.3,62.4 L 105.3,62.4 L 105.3,62.4 L 105.3,62.4 L 105.2,62.3 L 105.2,62.3 L 105.2,62.3 L 105.2,62.3 L 105.2,62.3 L 105.2,62.2 L 105.2,62.2 L 105.2,62.2 L 105.2,62.1 L 105.2,62.1 L 105.2,62.1 L 105.2,62.1 L 105.2,62.1 L 105.2,62.0 L 105.3,62.0 L 105.3,62.0 L 105.3,62.0 L 105.3,62.0 L 105.3,61.9 L 105.4,61.9 L 105.4,61.9 L 105.4,61.9 L 105.4,61.9 L 105.5,61.9 L 105.5,61.9 L 105.5,61.9 L 105.5,61.9 L 105.6,61.9 L 105.6,61.9 L 105.6,61.9 L 105.6,61.9 L 105.6,61.9 L 105.7,61.9 L 105.7,62.0 L 105.7,62.0 L 105.7,62.0 L 105.7,62.0 L 105.8,62.0 L 105.8,62.1 L 105.8,62.1 L 105.8,62.1 L 105.8,62.1 L 105.8,62.2 L 105.8,62.2 L 105.5,62.2 Z\" style=\"fill:#000000;fill-rule:evenodd;fill-opacity:1;stroke:#000000;stroke-width:0.0px;stroke-linecap:butt;stroke-linejoin:miter;stroke-opacity:1;\"/>\n",
       "<path class=\"atom-222\" d=\"M 275.7,46.8 L 275.7,46.8 L 275.7,46.8 L 275.7,46.9 L 275.7,46.9 L 275.7,46.9 L 275.7,46.9 L 275.6,47.0 L 275.6,47.0 L 275.6,47.0 L 275.6,47.0 L 275.6,47.0 L 275.6,47.1 L 275.5,47.1 L 275.5,47.1 L 275.5,47.1 L 275.5,47.1 L 275.4,47.1 L 275.4,47.1 L 275.4,47.1 L 275.4,47.1 L 275.3,47.1 L 275.3,47.1 L 275.3,47.1 L 275.3,47.1 L 275.2,47.0 L 275.2,47.0 L 275.2,47.0 L 275.2,47.0 L 275.2,47.0 L 275.1,47.0 L 275.1,46.9 L 275.1,46.9 L 275.1,46.9 L 275.1,46.9 L 275.1,46.8 L 275.1,46.8 L 275.1,46.8 L 275.1,46.8 L 275.1,46.7 L 275.1,46.7 L 275.1,46.7 L 275.1,46.7 L 275.1,46.6 L 275.2,46.6 L 275.2,46.6 L 275.2,46.6 L 275.2,46.6 L 275.2,46.5 L 275.3,46.5 L 275.3,46.5 L 275.3,46.5 L 275.3,46.5 L 275.4,46.5 L 275.4,46.5 L 275.4,46.5 L 275.4,46.5 L 275.5,46.5 L 275.5,46.5 L 275.5,46.5 L 275.5,46.5 L 275.6,46.5 L 275.6,46.6 L 275.6,46.6 L 275.6,46.6 L 275.6,46.6 L 275.6,46.6 L 275.7,46.6 L 275.7,46.7 L 275.7,46.7 L 275.7,46.7 L 275.7,46.7 L 275.7,46.8 L 275.7,46.8 L 275.4,46.8 Z\" style=\"fill:#000000;fill-rule:evenodd;fill-opacity:1;stroke:#000000;stroke-width:0.0px;stroke-linecap:butt;stroke-linejoin:miter;stroke-opacity:1;\"/>\n",
       "<path class=\"atom-223\" d=\"M 210.1,89.1 L 210.1,89.1 L 210.1,89.1 L 210.1,89.2 L 210.1,89.2 L 210.1,89.2 L 210.1,89.2 L 210.1,89.3 L 210.1,89.3 L 210.0,89.3 L 210.0,89.3 L 210.0,89.3 L 210.0,89.4 L 210.0,89.4 L 209.9,89.4 L 209.9,89.4 L 209.9,89.4 L 209.9,89.4 L 209.8,89.4 L 209.8,89.4 L 209.8,89.4 L 209.8,89.4 L 209.7,89.4 L 209.7,89.4 L 209.7,89.4 L 209.7,89.3 L 209.6,89.3 L 209.6,89.3 L 209.6,89.3 L 209.6,89.3 L 209.6,89.3 L 209.6,89.2 L 209.6,89.2 L 209.5,89.2 L 209.5,89.2 L 209.5,89.1 L 209.5,89.1 L 209.5,89.1 L 209.5,89.1 L 209.5,89.0 L 209.5,89.0 L 209.6,89.0 L 209.6,89.0 L 209.6,88.9 L 209.6,88.9 L 209.6,88.9 L 209.6,88.9 L 209.6,88.9 L 209.7,88.8 L 209.7,88.8 L 209.7,88.8 L 209.7,88.8 L 209.8,88.8 L 209.8,88.8 L 209.8,88.8 L 209.8,88.8 L 209.9,88.8 L 209.9,88.8 L 209.9,88.8 L 209.9,88.8 L 210.0,88.8 L 210.0,88.8 L 210.0,88.9 L 210.0,88.9 L 210.0,88.9 L 210.1,88.9 L 210.1,88.9 L 210.1,89.0 L 210.1,89.0 L 210.1,89.0 L 210.1,89.0 L 210.1,89.0 L 210.1,89.1 L 210.1,89.1 L 209.8,89.1 Z\" style=\"fill:#000000;fill-rule:evenodd;fill-opacity:1;stroke:#000000;stroke-width:0.0px;stroke-linecap:butt;stroke-linejoin:miter;stroke-opacity:1;\"/>\n",
       "<path class=\"atom-224\" d=\"M 207.1,87.8 L 207.1,87.8 L 207.1,87.8 L 207.1,87.8 L 207.1,87.9 L 207.1,87.9 L 207.1,87.9 L 207.1,87.9 L 207.0,87.9 L 207.0,88.0 L 207.0,88.0 L 207.0,88.0 L 207.0,88.0 L 206.9,88.0 L 206.9,88.0 L 206.9,88.0 L 206.9,88.0 L 206.8,88.0 L 206.8,88.1 L 206.8,88.1 L 206.8,88.0 L 206.7,88.0 L 206.7,88.0 L 206.7,88.0 L 206.7,88.0 L 206.6,88.0 L 206.6,88.0 L 206.6,88.0 L 206.6,88.0 L 206.6,87.9 L 206.6,87.9 L 206.5,87.9 L 206.5,87.9 L 206.5,87.8 L 206.5,87.8 L 206.5,87.8 L 206.5,87.8 L 206.5,87.7 L 206.5,87.7 L 206.5,87.7 L 206.5,87.7 L 206.5,87.6 L 206.5,87.6 L 206.6,87.6 L 206.6,87.6 L 206.6,87.6 L 206.6,87.5 L 206.6,87.5 L 206.6,87.5 L 206.7,87.5 L 206.7,87.5 L 206.7,87.5 L 206.7,87.5 L 206.8,87.5 L 206.8,87.5 L 206.8,87.5 L 206.8,87.5 L 206.9,87.5 L 206.9,87.5 L 206.9,87.5 L 206.9,87.5 L 207.0,87.5 L 207.0,87.5 L 207.0,87.5 L 207.0,87.5 L 207.0,87.6 L 207.1,87.6 L 207.1,87.6 L 207.1,87.6 L 207.1,87.7 L 207.1,87.7 L 207.1,87.7 L 207.1,87.7 L 207.1,87.8 L 206.8,87.8 Z\" style=\"fill:#000000;fill-rule:evenodd;fill-opacity:1;stroke:#000000;stroke-width:0.0px;stroke-linecap:butt;stroke-linejoin:miter;stroke-opacity:1;\"/>\n",
       "<path class=\"atom-225\" d=\"M 249.0,138.2 L 249.0,138.2 L 249.0,138.2 L 249.0,138.2 L 249.0,138.3 L 249.0,138.3 L 248.9,138.3 L 248.9,138.3 L 248.9,138.3 L 248.9,138.4 L 248.9,138.4 L 248.9,138.4 L 248.8,138.4 L 248.8,138.4 L 248.8,138.4 L 248.8,138.4 L 248.7,138.5 L 248.7,138.5 L 248.7,138.5 L 248.7,138.5 L 248.6,138.5 L 248.6,138.4 L 248.6,138.4 L 248.6,138.4 L 248.5,138.4 L 248.5,138.4 L 248.5,138.4 L 248.5,138.4 L 248.5,138.4 L 248.4,138.3 L 248.4,138.3 L 248.4,138.3 L 248.4,138.3 L 248.4,138.2 L 248.4,138.2 L 248.4,138.2 L 248.4,138.2 L 248.4,138.1 L 248.4,138.1 L 248.4,138.1 L 248.4,138.1 L 248.4,138.0 L 248.4,138.0 L 248.4,138.0 L 248.4,138.0 L 248.5,138.0 L 248.5,137.9 L 248.5,137.9 L 248.5,137.9 L 248.5,137.9 L 248.6,137.9 L 248.6,137.9 L 248.6,137.9 L 248.6,137.9 L 248.7,137.9 L 248.7,137.9 L 248.7,137.9 L 248.7,137.9 L 248.8,137.9 L 248.8,137.9 L 248.8,137.9 L 248.8,137.9 L 248.9,137.9 L 248.9,137.9 L 248.9,137.9 L 248.9,138.0 L 248.9,138.0 L 248.9,138.0 L 249.0,138.0 L 249.0,138.1 L 249.0,138.1 L 249.0,138.1 L 249.0,138.1 L 249.0,138.2 L 248.7,138.2 Z\" style=\"fill:#000000;fill-rule:evenodd;fill-opacity:1;stroke:#000000;stroke-width:0.0px;stroke-linecap:butt;stroke-linejoin:miter;stroke-opacity:1;\"/>\n",
       "<path class=\"atom-226\" d=\"M 294.2,41.8 L 294.2,41.8 L 294.2,41.8 L 294.2,41.8 L 294.2,41.9 L 294.2,41.9 L 294.2,41.9 L 294.2,41.9 L 294.1,41.9 L 294.1,42.0 L 294.1,42.0 L 294.1,42.0 L 294.1,42.0 L 294.0,42.0 L 294.0,42.0 L 294.0,42.0 L 294.0,42.1 L 293.9,42.1 L 293.9,42.1 L 293.9,42.1 L 293.9,42.1 L 293.8,42.1 L 293.8,42.0 L 293.8,42.0 L 293.8,42.0 L 293.7,42.0 L 293.7,42.0 L 293.7,42.0 L 293.7,42.0 L 293.7,41.9 L 293.7,41.9 L 293.6,41.9 L 293.6,41.9 L 293.6,41.8 L 293.6,41.8 L 293.6,41.8 L 293.6,41.8 L 293.6,41.7 L 293.6,41.7 L 293.6,41.7 L 293.6,41.7 L 293.6,41.6 L 293.6,41.6 L 293.7,41.6 L 293.7,41.6 L 293.7,41.6 L 293.7,41.5 L 293.7,41.5 L 293.7,41.5 L 293.8,41.5 L 293.8,41.5 L 293.8,41.5 L 293.8,41.5 L 293.9,41.5 L 293.9,41.5 L 293.9,41.5 L 293.9,41.5 L 294.0,41.5 L 294.0,41.5 L 294.0,41.5 L 294.0,41.5 L 294.1,41.5 L 294.1,41.5 L 294.1,41.5 L 294.1,41.5 L 294.1,41.6 L 294.2,41.6 L 294.2,41.6 L 294.2,41.6 L 294.2,41.7 L 294.2,41.7 L 294.2,41.7 L 294.2,41.7 L 294.2,41.8 L 293.9,41.8 Z\" style=\"fill:#000000;fill-rule:evenodd;fill-opacity:1;stroke:#000000;stroke-width:0.0px;stroke-linecap:butt;stroke-linejoin:miter;stroke-opacity:1;\"/>\n",
       "<path class=\"atom-227\" d=\"M 173.3,58.9 L 173.3,58.9 L 173.3,58.9 L 173.3,58.9 L 173.3,59.0 L 173.3,59.0 L 173.3,59.0 L 173.2,59.0 L 173.2,59.0 L 173.2,59.1 L 173.2,59.1 L 173.2,59.1 L 173.1,59.1 L 173.1,59.1 L 173.1,59.1 L 173.1,59.1 L 173.0,59.1 L 173.0,59.1 L 173.0,59.2 L 173.0,59.2 L 172.9,59.1 L 172.9,59.1 L 172.9,59.1 L 172.9,59.1 L 172.8,59.1 L 172.8,59.1 L 172.8,59.1 L 172.8,59.1 L 172.8,59.1 L 172.8,59.0 L 172.7,59.0 L 172.7,59.0 L 172.7,59.0 L 172.7,58.9 L 172.7,58.9 L 172.7,58.9 L 172.7,58.9 L 172.7,58.8 L 172.7,58.8 L 172.7,58.8 L 172.7,58.8 L 172.7,58.7 L 172.7,58.7 L 172.7,58.7 L 172.8,58.7 L 172.8,58.7 L 172.8,58.6 L 172.8,58.6 L 172.8,58.6 L 172.8,58.6 L 172.9,58.6 L 172.9,58.6 L 172.9,58.6 L 172.9,58.6 L 173.0,58.6 L 173.0,58.6 L 173.0,58.6 L 173.0,58.6 L 173.1,58.6 L 173.1,58.6 L 173.1,58.6 L 173.1,58.6 L 173.2,58.6 L 173.2,58.6 L 173.2,58.6 L 173.2,58.7 L 173.2,58.7 L 173.3,58.7 L 173.3,58.7 L 173.3,58.8 L 173.3,58.8 L 173.3,58.8 L 173.3,58.8 L 173.3,58.9 L 173.0,58.9 Z\" style=\"fill:#000000;fill-rule:evenodd;fill-opacity:1;stroke:#000000;stroke-width:0.0px;stroke-linecap:butt;stroke-linejoin:miter;stroke-opacity:1;\"/>\n",
       "<path class=\"atom-228\" d=\"M 193.1,91.1 L 193.1,91.1 L 193.1,91.2 L 193.1,91.2 L 193.0,91.2 L 193.0,91.2 L 193.0,91.3 L 193.0,91.3 L 193.0,91.3 L 193.0,91.3 L 193.0,91.3 L 192.9,91.4 L 192.9,91.4 L 192.9,91.4 L 192.9,91.4 L 192.8,91.4 L 192.8,91.4 L 192.8,91.4 L 192.8,91.4 L 192.7,91.4 L 192.7,91.4 L 192.7,91.4 L 192.7,91.4 L 192.6,91.4 L 192.6,91.4 L 192.6,91.4 L 192.6,91.3 L 192.6,91.3 L 192.5,91.3 L 192.5,91.3 L 192.5,91.3 L 192.5,91.2 L 192.5,91.2 L 192.5,91.2 L 192.5,91.2 L 192.5,91.1 L 192.5,91.1 L 192.5,91.1 L 192.5,91.1 L 192.5,91.0 L 192.5,91.0 L 192.5,91.0 L 192.5,91.0 L 192.5,90.9 L 192.5,90.9 L 192.5,90.9 L 192.6,90.9 L 192.6,90.9 L 192.6,90.9 L 192.6,90.8 L 192.6,90.8 L 192.7,90.8 L 192.7,90.8 L 192.7,90.8 L 192.7,90.8 L 192.8,90.8 L 192.8,90.8 L 192.8,90.8 L 192.8,90.8 L 192.9,90.8 L 192.9,90.8 L 192.9,90.9 L 192.9,90.9 L 193.0,90.9 L 193.0,90.9 L 193.0,90.9 L 193.0,90.9 L 193.0,91.0 L 193.0,91.0 L 193.0,91.0 L 193.1,91.0 L 193.1,91.1 L 193.1,91.1 L 193.1,91.1 L 192.8,91.1 Z\" style=\"fill:#000000;fill-rule:evenodd;fill-opacity:1;stroke:#000000;stroke-width:0.0px;stroke-linecap:butt;stroke-linejoin:miter;stroke-opacity:1;\"/>\n",
       "<path class=\"atom-229\" d=\"M 285.1,71.7 L 285.1,71.7 L 285.1,71.7 L 285.1,71.7 L 285.1,71.8 L 285.1,71.8 L 285.0,71.8 L 285.0,71.8 L 285.0,71.8 L 285.0,71.9 L 285.0,71.9 L 285.0,71.9 L 284.9,71.9 L 284.9,71.9 L 284.9,71.9 L 284.9,71.9 L 284.8,71.9 L 284.8,72.0 L 284.8,72.0 L 284.8,72.0 L 284.7,72.0 L 284.7,71.9 L 284.7,71.9 L 284.7,71.9 L 284.6,71.9 L 284.6,71.9 L 284.6,71.9 L 284.6,71.9 L 284.6,71.9 L 284.5,71.8 L 284.5,71.8 L 284.5,71.8 L 284.5,71.8 L 284.5,71.7 L 284.5,71.7 L 284.5,71.7 L 284.5,71.7 L 284.5,71.6 L 284.5,71.6 L 284.5,71.6 L 284.5,71.6 L 284.5,71.5 L 284.5,71.5 L 284.5,71.5 L 284.5,71.5 L 284.6,71.5 L 284.6,71.4 L 284.6,71.4 L 284.6,71.4 L 284.6,71.4 L 284.7,71.4 L 284.7,71.4 L 284.7,71.4 L 284.7,71.4 L 284.8,71.4 L 284.8,71.4 L 284.8,71.4 L 284.8,71.4 L 284.9,71.4 L 284.9,71.4 L 284.9,71.4 L 284.9,71.4 L 285.0,71.4 L 285.0,71.4 L 285.0,71.4 L 285.0,71.5 L 285.0,71.5 L 285.0,71.5 L 285.1,71.5 L 285.1,71.6 L 285.1,71.6 L 285.1,71.6 L 285.1,71.6 L 285.1,71.7 L 284.8,71.7 Z\" style=\"fill:#000000;fill-rule:evenodd;fill-opacity:1;stroke:#000000;stroke-width:0.0px;stroke-linecap:butt;stroke-linejoin:miter;stroke-opacity:1;\"/>\n",
       "<path class=\"atom-230\" d=\"M 220.0,54.5 L 220.0,54.5 L 220.0,54.6 L 220.0,54.6 L 220.0,54.6 L 220.0,54.6 L 220.0,54.6 L 220.0,54.7 L 220.0,54.7 L 219.9,54.7 L 219.9,54.7 L 219.9,54.7 L 219.9,54.8 L 219.9,54.8 L 219.8,54.8 L 219.8,54.8 L 219.8,54.8 L 219.8,54.8 L 219.7,54.8 L 219.7,54.8 L 219.7,54.8 L 219.7,54.8 L 219.6,54.8 L 219.6,54.8 L 219.6,54.8 L 219.6,54.8 L 219.5,54.7 L 219.5,54.7 L 219.5,54.7 L 219.5,54.7 L 219.5,54.7 L 219.5,54.6 L 219.5,54.6 L 219.4,54.6 L 219.4,54.6 L 219.4,54.5 L 219.4,54.5 L 219.4,54.5 L 219.4,54.5 L 219.4,54.4 L 219.4,54.4 L 219.5,54.4 L 219.5,54.4 L 219.5,54.3 L 219.5,54.3 L 219.5,54.3 L 219.5,54.3 L 219.5,54.3 L 219.6,54.2 L 219.6,54.2 L 219.6,54.2 L 219.6,54.2 L 219.7,54.2 L 219.7,54.2 L 219.7,54.2 L 219.7,54.2 L 219.8,54.2 L 219.8,54.2 L 219.8,54.2 L 219.8,54.2 L 219.9,54.2 L 219.9,54.2 L 219.9,54.3 L 219.9,54.3 L 219.9,54.3 L 220.0,54.3 L 220.0,54.3 L 220.0,54.4 L 220.0,54.4 L 220.0,54.4 L 220.0,54.4 L 220.0,54.4 L 220.0,54.5 L 220.0,54.5 L 219.7,54.5 Z\" style=\"fill:#000000;fill-rule:evenodd;fill-opacity:1;stroke:#000000;stroke-width:0.0px;stroke-linecap:butt;stroke-linejoin:miter;stroke-opacity:1;\"/>\n",
       "<path class=\"atom-231\" d=\"M 209.2,100.2 L 209.2,100.2 L 209.2,100.2 L 209.2,100.3 L 209.2,100.3 L 209.2,100.3 L 209.2,100.3 L 209.2,100.4 L 209.2,100.4 L 209.2,100.4 L 209.1,100.4 L 209.1,100.4 L 209.1,100.4 L 209.1,100.5 L 209.0,100.5 L 209.0,100.5 L 209.0,100.5 L 209.0,100.5 L 208.9,100.5 L 208.9,100.5 L 208.9,100.5 L 208.9,100.5 L 208.8,100.5 L 208.8,100.5 L 208.8,100.4 L 208.8,100.4 L 208.8,100.4 L 208.7,100.4 L 208.7,100.4 L 208.7,100.4 L 208.7,100.3 L 208.7,100.3 L 208.7,100.3 L 208.7,100.3 L 208.6,100.2 L 208.6,100.2 L 208.6,100.2 L 208.6,100.2 L 208.6,100.1 L 208.6,100.1 L 208.7,100.1 L 208.7,100.1 L 208.7,100.0 L 208.7,100.0 L 208.7,100.0 L 208.7,100.0 L 208.7,100.0 L 208.8,99.9 L 208.8,99.9 L 208.8,99.9 L 208.8,99.9 L 208.8,99.9 L 208.9,99.9 L 208.9,99.9 L 208.9,99.9 L 208.9,99.9 L 209.0,99.9 L 209.0,99.9 L 209.0,99.9 L 209.0,99.9 L 209.1,99.9 L 209.1,99.9 L 209.1,99.9 L 209.1,100.0 L 209.2,100.0 L 209.2,100.0 L 209.2,100.0 L 209.2,100.0 L 209.2,100.1 L 209.2,100.1 L 209.2,100.1 L 209.2,100.1 L 209.2,100.2 L 209.2,100.2 L 208.9,100.2 Z\" style=\"fill:#000000;fill-rule:evenodd;fill-opacity:1;stroke:#000000;stroke-width:0.0px;stroke-linecap:butt;stroke-linejoin:miter;stroke-opacity:1;\"/>\n",
       "<path class=\"atom-232\" d=\"M 226.1,124.7 L 226.1,124.7 L 226.1,124.8 L 226.1,124.8 L 226.1,124.8 L 226.1,124.8 L 226.1,124.9 L 226.1,124.9 L 226.0,124.9 L 226.0,124.9 L 226.0,124.9 L 226.0,125.0 L 226.0,125.0 L 225.9,125.0 L 225.9,125.0 L 225.9,125.0 L 225.9,125.0 L 225.8,125.0 L 225.8,125.0 L 225.8,125.0 L 225.8,125.0 L 225.7,125.0 L 225.7,125.0 L 225.7,125.0 L 225.7,125.0 L 225.6,125.0 L 225.6,124.9 L 225.6,124.9 L 225.6,124.9 L 225.6,124.9 L 225.5,124.9 L 225.5,124.8 L 225.5,124.8 L 225.5,124.8 L 225.5,124.8 L 225.5,124.7 L 225.5,124.7 L 225.5,124.7 L 225.5,124.7 L 225.5,124.6 L 225.5,124.6 L 225.5,124.6 L 225.5,124.6 L 225.5,124.6 L 225.6,124.5 L 225.6,124.5 L 225.6,124.5 L 225.6,124.5 L 225.6,124.5 L 225.7,124.4 L 225.7,124.4 L 225.7,124.4 L 225.7,124.4 L 225.8,124.4 L 225.8,124.4 L 225.8,124.4 L 225.8,124.4 L 225.9,124.4 L 225.9,124.4 L 225.9,124.4 L 225.9,124.4 L 226.0,124.5 L 226.0,124.5 L 226.0,124.5 L 226.0,124.5 L 226.0,124.5 L 226.1,124.5 L 226.1,124.6 L 226.1,124.6 L 226.1,124.6 L 226.1,124.6 L 226.1,124.7 L 226.1,124.7 L 226.1,124.7 L 225.8,124.7 Z\" style=\"fill:#000000;fill-rule:evenodd;fill-opacity:1;stroke:#000000;stroke-width:0.0px;stroke-linecap:butt;stroke-linejoin:miter;stroke-opacity:1;\"/>\n",
       "<path class=\"atom-233\" d=\"M 181.9,88.4 L 181.9,88.4 L 181.9,88.5 L 181.9,88.5 L 181.9,88.5 L 181.9,88.5 L 181.9,88.6 L 181.8,88.6 L 181.8,88.6 L 181.8,88.6 L 181.8,88.6 L 181.8,88.7 L 181.7,88.7 L 181.7,88.7 L 181.7,88.7 L 181.7,88.7 L 181.7,88.7 L 181.6,88.7 L 181.6,88.7 L 181.6,88.7 L 181.6,88.7 L 181.5,88.7 L 181.5,88.7 L 181.5,88.7 L 181.5,88.7 L 181.4,88.7 L 181.4,88.7 L 181.4,88.6 L 181.4,88.6 L 181.4,88.6 L 181.3,88.6 L 181.3,88.6 L 181.3,88.5 L 181.3,88.5 L 181.3,88.5 L 181.3,88.5 L 181.3,88.4 L 181.3,88.4 L 181.3,88.4 L 181.3,88.4 L 181.3,88.3 L 181.3,88.3 L 181.3,88.3 L 181.3,88.3 L 181.4,88.2 L 181.4,88.2 L 181.4,88.2 L 181.4,88.2 L 181.4,88.2 L 181.5,88.2 L 181.5,88.1 L 181.5,88.1 L 181.5,88.1 L 181.6,88.1 L 181.6,88.1 L 181.6,88.1 L 181.6,88.1 L 181.7,88.1 L 181.7,88.1 L 181.7,88.1 L 181.7,88.1 L 181.7,88.2 L 181.8,88.2 L 181.8,88.2 L 181.8,88.2 L 181.8,88.2 L 181.8,88.2 L 181.9,88.3 L 181.9,88.3 L 181.9,88.3 L 181.9,88.3 L 181.9,88.4 L 181.9,88.4 L 181.9,88.4 L 181.6,88.4 Z\" style=\"fill:#000000;fill-rule:evenodd;fill-opacity:1;stroke:#000000;stroke-width:0.0px;stroke-linecap:butt;stroke-linejoin:miter;stroke-opacity:1;\"/>\n",
       "<path class=\"atom-234\" d=\"M 199.5,128.4 L 199.4,128.4 L 199.4,128.4 L 199.4,128.5 L 199.4,128.5 L 199.4,128.5 L 199.4,128.5 L 199.4,128.6 L 199.4,128.6 L 199.4,128.6 L 199.3,128.6 L 199.3,128.6 L 199.3,128.7 L 199.3,128.7 L 199.3,128.7 L 199.2,128.7 L 199.2,128.7 L 199.2,128.7 L 199.2,128.7 L 199.1,128.7 L 199.1,128.7 L 199.1,128.7 L 199.1,128.7 L 199.0,128.7 L 199.0,128.7 L 199.0,128.6 L 199.0,128.6 L 198.9,128.6 L 198.9,128.6 L 198.9,128.6 L 198.9,128.6 L 198.9,128.5 L 198.9,128.5 L 198.9,128.5 L 198.9,128.5 L 198.9,128.4 L 198.9,128.4 L 198.9,128.4 L 198.9,128.4 L 198.9,128.3 L 198.9,128.3 L 198.9,128.3 L 198.9,128.3 L 198.9,128.2 L 198.9,128.2 L 198.9,128.2 L 198.9,128.2 L 199.0,128.2 L 199.0,128.1 L 199.0,128.1 L 199.0,128.1 L 199.1,128.1 L 199.1,128.1 L 199.1,128.1 L 199.1,128.1 L 199.2,128.1 L 199.2,128.1 L 199.2,128.1 L 199.2,128.1 L 199.3,128.1 L 199.3,128.1 L 199.3,128.1 L 199.3,128.2 L 199.3,128.2 L 199.4,128.2 L 199.4,128.2 L 199.4,128.2 L 199.4,128.3 L 199.4,128.3 L 199.4,128.3 L 199.4,128.3 L 199.4,128.3 L 199.4,128.4 L 199.5,128.4 L 199.2,128.4 Z\" style=\"fill:#000000;fill-rule:evenodd;fill-opacity:1;stroke:#000000;stroke-width:0.0px;stroke-linecap:butt;stroke-linejoin:miter;stroke-opacity:1;\"/>\n",
       "<path class=\"atom-235\" d=\"M 276.7,96.8 L 276.7,96.9 L 276.7,96.9 L 276.7,96.9 L 276.7,96.9 L 276.7,97.0 L 276.7,97.0 L 276.7,97.0 L 276.7,97.0 L 276.6,97.1 L 276.6,97.1 L 276.6,97.1 L 276.6,97.1 L 276.6,97.1 L 276.5,97.1 L 276.5,97.1 L 276.5,97.1 L 276.5,97.1 L 276.4,97.1 L 276.4,97.1 L 276.4,97.1 L 276.4,97.1 L 276.3,97.1 L 276.3,97.1 L 276.3,97.1 L 276.3,97.1 L 276.2,97.1 L 276.2,97.1 L 276.2,97.0 L 276.2,97.0 L 276.2,97.0 L 276.2,97.0 L 276.2,97.0 L 276.1,96.9 L 276.1,96.9 L 276.1,96.9 L 276.1,96.9 L 276.1,96.8 L 276.1,96.8 L 276.1,96.8 L 276.1,96.8 L 276.2,96.7 L 276.2,96.7 L 276.2,96.7 L 276.2,96.7 L 276.2,96.6 L 276.2,96.6 L 276.2,96.6 L 276.3,96.6 L 276.3,96.6 L 276.3,96.6 L 276.3,96.6 L 276.4,96.6 L 276.4,96.5 L 276.4,96.5 L 276.4,96.5 L 276.5,96.5 L 276.5,96.6 L 276.5,96.6 L 276.5,96.6 L 276.6,96.6 L 276.6,96.6 L 276.6,96.6 L 276.6,96.6 L 276.6,96.6 L 276.7,96.7 L 276.7,96.7 L 276.7,96.7 L 276.7,96.7 L 276.7,96.7 L 276.7,96.8 L 276.7,96.8 L 276.7,96.8 L 276.7,96.8 L 276.4,96.8 Z\" style=\"fill:#000000;fill-rule:evenodd;fill-opacity:1;stroke:#000000;stroke-width:0.0px;stroke-linecap:butt;stroke-linejoin:miter;stroke-opacity:1;\"/>\n",
       "<path class=\"atom-236\" d=\"M 292.7,51.2 L 292.7,51.2 L 292.6,51.2 L 292.6,51.2 L 292.6,51.3 L 292.6,51.3 L 292.6,51.3 L 292.6,51.3 L 292.6,51.4 L 292.6,51.4 L 292.5,51.4 L 292.5,51.4 L 292.5,51.4 L 292.5,51.4 L 292.5,51.4 L 292.4,51.5 L 292.4,51.5 L 292.4,51.5 L 292.4,51.5 L 292.3,51.5 L 292.3,51.5 L 292.3,51.5 L 292.3,51.4 L 292.2,51.4 L 292.2,51.4 L 292.2,51.4 L 292.2,51.4 L 292.1,51.4 L 292.1,51.4 L 292.1,51.3 L 292.1,51.3 L 292.1,51.3 L 292.1,51.3 L 292.1,51.3 L 292.1,51.2 L 292.1,51.2 L 292.1,51.2 L 292.1,51.2 L 292.1,51.1 L 292.1,51.1 L 292.1,51.1 L 292.1,51.1 L 292.1,51.0 L 292.1,51.0 L 292.1,51.0 L 292.1,51.0 L 292.1,50.9 L 292.2,50.9 L 292.2,50.9 L 292.2,50.9 L 292.2,50.9 L 292.3,50.9 L 292.3,50.9 L 292.3,50.9 L 292.3,50.9 L 292.4,50.9 L 292.4,50.9 L 292.4,50.9 L 292.4,50.9 L 292.5,50.9 L 292.5,50.9 L 292.5,50.9 L 292.5,50.9 L 292.5,50.9 L 292.6,51.0 L 292.6,51.0 L 292.6,51.0 L 292.6,51.0 L 292.6,51.0 L 292.6,51.1 L 292.6,51.1 L 292.6,51.1 L 292.7,51.1 L 292.7,51.2 L 292.4,51.2 Z\" style=\"fill:#000000;fill-rule:evenodd;fill-opacity:1;stroke:#000000;stroke-width:0.0px;stroke-linecap:butt;stroke-linejoin:miter;stroke-opacity:1;\"/>\n",
       "<path class=\"atom-237\" d=\"M 202.2,142.5 L 202.2,142.5 L 202.2,142.6 L 202.2,142.6 L 202.2,142.6 L 202.2,142.6 L 202.2,142.7 L 202.2,142.7 L 202.2,142.7 L 202.2,142.7 L 202.1,142.7 L 202.1,142.8 L 202.1,142.8 L 202.1,142.8 L 202.0,142.8 L 202.0,142.8 L 202.0,142.8 L 202.0,142.8 L 201.9,142.8 L 201.9,142.8 L 201.9,142.8 L 201.9,142.8 L 201.8,142.8 L 201.8,142.8 L 201.8,142.8 L 201.8,142.8 L 201.8,142.7 L 201.7,142.7 L 201.7,142.7 L 201.7,142.7 L 201.7,142.7 L 201.7,142.6 L 201.7,142.6 L 201.7,142.6 L 201.6,142.6 L 201.6,142.5 L 201.6,142.5 L 201.6,142.5 L 201.6,142.5 L 201.6,142.4 L 201.7,142.4 L 201.7,142.4 L 201.7,142.4 L 201.7,142.3 L 201.7,142.3 L 201.7,142.3 L 201.7,142.3 L 201.8,142.3 L 201.8,142.3 L 201.8,142.2 L 201.8,142.2 L 201.8,142.2 L 201.9,142.2 L 201.9,142.2 L 201.9,142.2 L 201.9,142.2 L 202.0,142.2 L 202.0,142.2 L 202.0,142.2 L 202.0,142.2 L 202.1,142.2 L 202.1,142.2 L 202.1,142.3 L 202.1,142.3 L 202.2,142.3 L 202.2,142.3 L 202.2,142.3 L 202.2,142.4 L 202.2,142.4 L 202.2,142.4 L 202.2,142.4 L 202.2,142.5 L 202.2,142.5 L 202.2,142.5 L 201.9,142.5 Z\" style=\"fill:#000000;fill-rule:evenodd;fill-opacity:1;stroke:#000000;stroke-width:0.0px;stroke-linecap:butt;stroke-linejoin:miter;stroke-opacity:1;\"/>\n",
       "<path class=\"atom-238\" d=\"M 291.5,7.5 L 291.5,7.5 L 291.5,7.5 L 291.5,7.6 L 291.5,7.6 L 291.5,7.6 L 291.5,7.6 L 291.5,7.7 L 291.4,7.7 L 291.4,7.7 L 291.4,7.7 L 291.4,7.7 L 291.4,7.8 L 291.3,7.8 L 291.3,7.8 L 291.3,7.8 L 291.3,7.8 L 291.2,7.8 L 291.2,7.8 L 291.2,7.8 L 291.2,7.8 L 291.1,7.8 L 291.1,7.8 L 291.1,7.8 L 291.1,7.8 L 291.0,7.7 L 291.0,7.7 L 291.0,7.7 L 291.0,7.7 L 291.0,7.7 L 291.0,7.7 L 290.9,7.6 L 290.9,7.6 L 290.9,7.6 L 290.9,7.6 L 290.9,7.5 L 290.9,7.5 L 290.9,7.5 L 290.9,7.5 L 290.9,7.4 L 290.9,7.4 L 290.9,7.4 L 290.9,7.4 L 291.0,7.3 L 291.0,7.3 L 291.0,7.3 L 291.0,7.3 L 291.0,7.3 L 291.0,7.2 L 291.1,7.2 L 291.1,7.2 L 291.1,7.2 L 291.1,7.2 L 291.2,7.2 L 291.2,7.2 L 291.2,7.2 L 291.2,7.2 L 291.3,7.2 L 291.3,7.2 L 291.3,7.2 L 291.3,7.2 L 291.4,7.2 L 291.4,7.2 L 291.4,7.3 L 291.4,7.3 L 291.4,7.3 L 291.5,7.3 L 291.5,7.3 L 291.5,7.4 L 291.5,7.4 L 291.5,7.4 L 291.5,7.4 L 291.5,7.5 L 291.5,7.5 L 291.2,7.5 Z\" style=\"fill:#000000;fill-rule:evenodd;fill-opacity:1;stroke:#000000;stroke-width:0.0px;stroke-linecap:butt;stroke-linejoin:miter;stroke-opacity:1;\"/>\n",
       "<path class=\"atom-239\" d=\"M 223.9,31.0 L 223.9,31.0 L 223.9,31.0 L 223.9,31.1 L 223.9,31.1 L 223.9,31.1 L 223.9,31.1 L 223.9,31.2 L 223.9,31.2 L 223.8,31.2 L 223.8,31.2 L 223.8,31.2 L 223.8,31.2 L 223.8,31.3 L 223.7,31.3 L 223.7,31.3 L 223.7,31.3 L 223.7,31.3 L 223.6,31.3 L 223.6,31.3 L 223.6,31.3 L 223.6,31.3 L 223.5,31.3 L 223.5,31.3 L 223.5,31.3 L 223.5,31.2 L 223.4,31.2 L 223.4,31.2 L 223.4,31.2 L 223.4,31.2 L 223.4,31.1 L 223.4,31.1 L 223.3,31.1 L 223.3,31.1 L 223.3,31.1 L 223.3,31.0 L 223.3,31.0 L 223.3,31.0 L 223.3,30.9 L 223.3,30.9 L 223.3,30.9 L 223.3,30.9 L 223.4,30.8 L 223.4,30.8 L 223.4,30.8 L 223.4,30.8 L 223.4,30.8 L 223.4,30.8 L 223.5,30.7 L 223.5,30.7 L 223.5,30.7 L 223.5,30.7 L 223.6,30.7 L 223.6,30.7 L 223.6,30.7 L 223.6,30.7 L 223.7,30.7 L 223.7,30.7 L 223.7,30.7 L 223.7,30.7 L 223.8,30.7 L 223.8,30.7 L 223.8,30.7 L 223.8,30.8 L 223.8,30.8 L 223.9,30.8 L 223.9,30.8 L 223.9,30.8 L 223.9,30.9 L 223.9,30.9 L 223.9,30.9 L 223.9,30.9 L 223.9,31.0 L 223.9,31.0 L 223.6,31.0 Z\" style=\"fill:#000000;fill-rule:evenodd;fill-opacity:1;stroke:#000000;stroke-width:0.0px;stroke-linecap:butt;stroke-linejoin:miter;stroke-opacity:1;\"/>\n",
       "<path class=\"atom-240\" d=\"M 224.5,134.1 L 224.5,134.1 L 224.5,134.2 L 224.5,134.2 L 224.5,134.2 L 224.5,134.2 L 224.5,134.3 L 224.5,134.3 L 224.5,134.3 L 224.5,134.3 L 224.4,134.3 L 224.4,134.4 L 224.4,134.4 L 224.4,134.4 L 224.4,134.4 L 224.3,134.4 L 224.3,134.4 L 224.3,134.4 L 224.3,134.4 L 224.2,134.4 L 224.2,134.4 L 224.2,134.4 L 224.2,134.4 L 224.1,134.4 L 224.1,134.4 L 224.1,134.4 L 224.1,134.4 L 224.0,134.3 L 224.0,134.3 L 224.0,134.3 L 224.0,134.3 L 224.0,134.3 L 224.0,134.2 L 224.0,134.2 L 224.0,134.2 L 224.0,134.2 L 223.9,134.1 L 223.9,134.1 L 224.0,134.1 L 224.0,134.1 L 224.0,134.0 L 224.0,134.0 L 224.0,134.0 L 224.0,134.0 L 224.0,133.9 L 224.0,133.9 L 224.0,133.9 L 224.1,133.9 L 224.1,133.9 L 224.1,133.9 L 224.1,133.8 L 224.2,133.8 L 224.2,133.8 L 224.2,133.8 L 224.2,133.8 L 224.3,133.8 L 224.3,133.8 L 224.3,133.8 L 224.3,133.8 L 224.4,133.8 L 224.4,133.8 L 224.4,133.9 L 224.4,133.9 L 224.4,133.9 L 224.5,133.9 L 224.5,133.9 L 224.5,133.9 L 224.5,134.0 L 224.5,134.0 L 224.5,134.0 L 224.5,134.0 L 224.5,134.1 L 224.5,134.1 L 224.5,134.1 L 224.2,134.1 Z\" style=\"fill:#000000;fill-rule:evenodd;fill-opacity:1;stroke:#000000;stroke-width:0.0px;stroke-linecap:butt;stroke-linejoin:miter;stroke-opacity:1;\"/>\n",
       "<path class=\"atom-241\" d=\"M 270.9,81.4 L 270.9,81.4 L 270.9,81.4 L 270.9,81.5 L 270.9,81.5 L 270.9,81.5 L 270.9,81.5 L 270.9,81.6 L 270.9,81.6 L 270.8,81.6 L 270.8,81.6 L 270.8,81.6 L 270.8,81.6 L 270.8,81.7 L 270.7,81.7 L 270.7,81.7 L 270.7,81.7 L 270.7,81.7 L 270.6,81.7 L 270.6,81.7 L 270.6,81.7 L 270.6,81.7 L 270.5,81.7 L 270.5,81.7 L 270.5,81.7 L 270.5,81.6 L 270.4,81.6 L 270.4,81.6 L 270.4,81.6 L 270.4,81.6 L 270.4,81.6 L 270.4,81.5 L 270.3,81.5 L 270.3,81.5 L 270.3,81.5 L 270.3,81.4 L 270.3,81.4 L 270.3,81.4 L 270.3,81.4 L 270.3,81.3 L 270.3,81.3 L 270.3,81.3 L 270.4,81.3 L 270.4,81.2 L 270.4,81.2 L 270.4,81.2 L 270.4,81.2 L 270.4,81.2 L 270.5,81.1 L 270.5,81.1 L 270.5,81.1 L 270.5,81.1 L 270.6,81.1 L 270.6,81.1 L 270.6,81.1 L 270.6,81.1 L 270.7,81.1 L 270.7,81.1 L 270.7,81.1 L 270.7,81.1 L 270.8,81.1 L 270.8,81.1 L 270.8,81.1 L 270.8,81.2 L 270.8,81.2 L 270.9,81.2 L 270.9,81.2 L 270.9,81.2 L 270.9,81.3 L 270.9,81.3 L 270.9,81.3 L 270.9,81.3 L 270.9,81.4 L 270.9,81.4 L 270.6,81.4 Z\" style=\"fill:#000000;fill-rule:evenodd;fill-opacity:1;stroke:#000000;stroke-width:0.0px;stroke-linecap:butt;stroke-linejoin:miter;stroke-opacity:1;\"/>\n",
       "</svg>"
      ],
      "text/plain": [
       "<IPython.core.display.SVG object>"
      ]
     },
     "execution_count": 39,
     "metadata": {},
     "output_type": "execute_result"
    }
   ],
   "source": [
    "big = \"{[][$1|2|]CC=CC[$1|2|], [$1]CC([<])C([<])C[$1], [>]S[$2|10|], [$2]S[$2]; [$1][H], [<][H], [>][H], [$2][H][]}|gauss(2500,500)|\"\n",
    "big_smiles_gen(big)"
   ]
  },
  {
   "cell_type": "markdown",
   "id": "c1ffe575",
   "metadata": {},
   "source": [
    "# Example stochastic polymer"
   ]
  },
  {
   "cell_type": "code",
   "execution_count": 40,
   "id": "33d353e3",
   "metadata": {},
   "outputs": [
    {
     "data": {
      "image/svg+xml": [
       "<svg xmlns=\"http://www.w3.org/2000/svg\" xmlns:rdkit=\"http://www.rdkit.org/xml\" xmlns:xlink=\"http://www.w3.org/1999/xlink\" version=\"1.1\" baseProfile=\"full\" xml:space=\"preserve\" width=\"450px\" height=\"150px\" viewBox=\"0 0 450 150\">\n",
       "<!-- END OF HEADER -->\n",
       "<rect style=\"opacity:1.0;fill:#FFFFFF;stroke:none\" width=\"450.0\" height=\"150.0\" x=\"0.0\" y=\"0.0\"> </rect>\n",
       "<path class=\"bond-0 atom-0 atom-1\" d=\"M 256.3,9.2 L 261.3,10.4\" style=\"fill:none;fill-rule:evenodd;stroke:#0000FF;stroke-width:2.0px;stroke-linecap:butt;stroke-linejoin:miter;stroke-opacity:1\"/>\n",
       "<path class=\"bond-0 atom-0 atom-1\" d=\"M 261.3,10.4 L 266.3,11.6\" style=\"fill:none;fill-rule:evenodd;stroke:#000000;stroke-width:2.0px;stroke-linecap:butt;stroke-linejoin:miter;stroke-opacity:1\"/>\n",
       "<path class=\"bond-1 atom-2 atom-3\" d=\"M 269.9,23.5 L 282.0,26.3\" style=\"fill:none;fill-rule:evenodd;stroke:#000000;stroke-width:2.0px;stroke-linecap:butt;stroke-linejoin:miter;stroke-opacity:1\"/>\n",
       "<path class=\"bond-2 atom-1 atom-2\" d=\"M 266.3,11.6 L 269.9,23.5\" style=\"fill:none;fill-rule:evenodd;stroke:#000000;stroke-width:2.0px;stroke-linecap:butt;stroke-linejoin:miter;stroke-opacity:1\"/>\n",
       "<path class=\"bond-3 atom-4 atom-5\" d=\"M 297.7,41.0 L 285.6,38.2\" style=\"fill:none;fill-rule:evenodd;stroke:#000000;stroke-width:2.0px;stroke-linecap:butt;stroke-linejoin:miter;stroke-opacity:1\"/>\n",
       "<path class=\"bond-4 atom-3 atom-5\" d=\"M 282.0,26.3 L 285.6,38.2\" style=\"fill:none;fill-rule:evenodd;stroke:#000000;stroke-width:2.0px;stroke-linecap:butt;stroke-linejoin:miter;stroke-opacity:1\"/>\n",
       "<path class=\"bond-5 atom-6 atom-7\" d=\"M 301.3,52.9 L 313.3,55.7\" style=\"fill:none;fill-rule:evenodd;stroke:#000000;stroke-width:2.0px;stroke-linecap:butt;stroke-linejoin:miter;stroke-opacity:1\"/>\n",
       "<path class=\"bond-6 atom-4 atom-6\" d=\"M 297.7,41.0 L 301.3,52.9\" style=\"fill:none;fill-rule:evenodd;stroke:#000000;stroke-width:2.0px;stroke-linecap:butt;stroke-linejoin:miter;stroke-opacity:1\"/>\n",
       "<path class=\"bond-7 atom-8 atom-9\" d=\"M 316.9,67.6 L 329.0,70.4\" style=\"fill:none;fill-rule:evenodd;stroke:#000000;stroke-width:2.0px;stroke-linecap:butt;stroke-linejoin:miter;stroke-opacity:1\"/>\n",
       "<path class=\"bond-8 atom-9 atom-10\" d=\"M 329.0,70.4 L 332.6,82.3\" style=\"fill:none;fill-rule:evenodd;stroke:#000000;stroke-width:2.0px;stroke-linecap:butt;stroke-linejoin:miter;stroke-opacity:1\"/>\n",
       "<path class=\"bond-8 atom-9 atom-10\" d=\"M 331.9,71.5 L 334.4,79.8\" style=\"fill:none;fill-rule:evenodd;stroke:#000000;stroke-width:2.0px;stroke-linecap:butt;stroke-linejoin:miter;stroke-opacity:1\"/>\n",
       "<path class=\"bond-9 atom-10 atom-11\" d=\"M 332.6,82.3 L 344.7,85.2\" style=\"fill:none;fill-rule:evenodd;stroke:#000000;stroke-width:2.0px;stroke-linecap:butt;stroke-linejoin:miter;stroke-opacity:1\"/>\n",
       "<path class=\"bond-10 atom-11 atom-12\" d=\"M 344.7,85.2 L 353.2,76.1\" style=\"fill:none;fill-rule:evenodd;stroke:#000000;stroke-width:2.0px;stroke-linecap:butt;stroke-linejoin:miter;stroke-opacity:1\"/>\n",
       "<path class=\"bond-10 atom-11 atom-12\" d=\"M 344.2,82.1 L 350.1,75.8\" style=\"fill:none;fill-rule:evenodd;stroke:#000000;stroke-width:2.0px;stroke-linecap:butt;stroke-linejoin:miter;stroke-opacity:1\"/>\n",
       "<path class=\"bond-11 atom-12 atom-13\" d=\"M 353.2,76.1 L 349.6,64.2\" style=\"fill:none;fill-rule:evenodd;stroke:#000000;stroke-width:2.0px;stroke-linecap:butt;stroke-linejoin:miter;stroke-opacity:1\"/>\n",
       "<path class=\"bond-12 atom-13 atom-14\" d=\"M 349.6,64.2 L 337.5,61.4\" style=\"fill:none;fill-rule:evenodd;stroke:#000000;stroke-width:2.0px;stroke-linecap:butt;stroke-linejoin:miter;stroke-opacity:1\"/>\n",
       "<path class=\"bond-12 atom-13 atom-14\" d=\"M 347.2,66.2 L 338.8,64.2\" style=\"fill:none;fill-rule:evenodd;stroke:#000000;stroke-width:2.0px;stroke-linecap:butt;stroke-linejoin:miter;stroke-opacity:1\"/>\n",
       "<path class=\"bond-13 atom-14 atom-9\" d=\"M 337.5,61.4 L 329.0,70.4\" style=\"fill:none;fill-rule:evenodd;stroke:#000000;stroke-width:2.0px;stroke-linecap:butt;stroke-linejoin:miter;stroke-opacity:1\"/>\n",
       "<path class=\"bond-14 atom-7 atom-8\" d=\"M 313.3,55.7 L 316.9,67.6\" style=\"fill:none;fill-rule:evenodd;stroke:#000000;stroke-width:2.0px;stroke-linecap:butt;stroke-linejoin:miter;stroke-opacity:1\"/>\n",
       "<path class=\"bond-15 atom-15 atom-16\" d=\"M 267.3,89.1 L 275.8,80.0\" style=\"fill:none;fill-rule:evenodd;stroke:#000000;stroke-width:2.0px;stroke-linecap:butt;stroke-linejoin:miter;stroke-opacity:1\"/>\n",
       "<path class=\"bond-16 atom-16 atom-17\" d=\"M 275.8,80.0 L 287.9,82.9\" style=\"fill:none;fill-rule:evenodd;stroke:#000000;stroke-width:2.0px;stroke-linecap:butt;stroke-linejoin:miter;stroke-opacity:1\"/>\n",
       "<path class=\"bond-17 atom-17 atom-18\" d=\"M 287.9,82.9 L 291.5,94.7\" style=\"fill:none;fill-rule:evenodd;stroke:#000000;stroke-width:2.0px;stroke-linecap:butt;stroke-linejoin:miter;stroke-opacity:1\"/>\n",
       "<path class=\"bond-18 atom-17 atom-19\" d=\"M 287.9,82.9 L 296.4,73.8\" style=\"fill:none;fill-rule:evenodd;stroke:#000000;stroke-width:2.0px;stroke-linecap:butt;stroke-linejoin:miter;stroke-opacity:1\"/>\n",
       "<path class=\"bond-19 atom-19 atom-20\" d=\"M 296.4,73.8 L 308.4,76.7\" style=\"fill:none;fill-rule:evenodd;stroke:#000000;stroke-width:2.0px;stroke-linecap:butt;stroke-linejoin:miter;stroke-opacity:1\"/>\n",
       "<path class=\"bond-20 atom-8 atom-20\" d=\"M 316.9,67.6 L 308.4,76.7\" style=\"fill:none;fill-rule:evenodd;stroke:#000000;stroke-width:2.0px;stroke-linecap:butt;stroke-linejoin:miter;stroke-opacity:1\"/>\n",
       "<path class=\"bond-21 atom-21 atom-22\" d=\"M 214.1,98.7 L 226.1,101.5\" style=\"fill:none;fill-rule:evenodd;stroke:#000000;stroke-width:2.0px;stroke-linecap:butt;stroke-linejoin:miter;stroke-opacity:1\"/>\n",
       "<path class=\"bond-22 atom-22 atom-23\" d=\"M 226.1,101.5 L 234.6,92.5\" style=\"fill:none;fill-rule:evenodd;stroke:#000000;stroke-width:2.0px;stroke-linecap:butt;stroke-linejoin:miter;stroke-opacity:1\"/>\n",
       "<path class=\"bond-23 atom-23 atom-24\" d=\"M 234.6,92.5 L 231.0,80.6\" style=\"fill:none;fill-rule:evenodd;stroke:#000000;stroke-width:2.0px;stroke-linecap:butt;stroke-linejoin:miter;stroke-opacity:1\"/>\n",
       "<path class=\"bond-24 atom-23 atom-25\" d=\"M 234.6,92.5 L 246.7,95.3\" style=\"fill:none;fill-rule:evenodd;stroke:#000000;stroke-width:2.0px;stroke-linecap:butt;stroke-linejoin:miter;stroke-opacity:1\"/>\n",
       "<path class=\"bond-25 atom-25 atom-26\" d=\"M 246.7,95.3 L 255.2,86.3\" style=\"fill:none;fill-rule:evenodd;stroke:#000000;stroke-width:2.0px;stroke-linecap:butt;stroke-linejoin:miter;stroke-opacity:1\"/>\n",
       "<path class=\"bond-26 atom-15 atom-26\" d=\"M 267.3,89.1 L 255.2,86.3\" style=\"fill:none;fill-rule:evenodd;stroke:#000000;stroke-width:2.0px;stroke-linecap:butt;stroke-linejoin:miter;stroke-opacity:1\"/>\n",
       "<path class=\"bond-27 atom-27 atom-28\" d=\"M 205.6,107.7 L 209.1,119.6\" style=\"fill:none;fill-rule:evenodd;stroke:#000000;stroke-width:2.0px;stroke-linecap:butt;stroke-linejoin:miter;stroke-opacity:1\"/>\n",
       "<path class=\"bond-28 atom-28 atom-29\" d=\"M 209.1,119.6 L 200.7,128.7\" style=\"fill:none;fill-rule:evenodd;stroke:#000000;stroke-width:2.0px;stroke-linecap:butt;stroke-linejoin:miter;stroke-opacity:1\"/>\n",
       "<path class=\"bond-28 atom-28 atom-29\" d=\"M 209.7,122.7 L 203.7,129.0\" style=\"fill:none;fill-rule:evenodd;stroke:#000000;stroke-width:2.0px;stroke-linecap:butt;stroke-linejoin:miter;stroke-opacity:1\"/>\n",
       "<path class=\"bond-29 atom-29 atom-30\" d=\"M 200.7,128.7 L 204.2,140.5\" style=\"fill:none;fill-rule:evenodd;stroke:#000000;stroke-width:2.0px;stroke-linecap:butt;stroke-linejoin:miter;stroke-opacity:1\"/>\n",
       "<path class=\"bond-30 atom-30 atom-31\" d=\"M 204.2,140.5 L 216.3,143.4\" style=\"fill:none;fill-rule:evenodd;stroke:#000000;stroke-width:2.0px;stroke-linecap:butt;stroke-linejoin:miter;stroke-opacity:1\"/>\n",
       "<path class=\"bond-30 atom-30 atom-31\" d=\"M 206.6,138.5 L 215.1,140.5\" style=\"fill:none;fill-rule:evenodd;stroke:#000000;stroke-width:2.0px;stroke-linecap:butt;stroke-linejoin:miter;stroke-opacity:1\"/>\n",
       "<path class=\"bond-31 atom-31 atom-32\" d=\"M 216.3,143.4 L 224.8,134.3\" style=\"fill:none;fill-rule:evenodd;stroke:#000000;stroke-width:2.0px;stroke-linecap:butt;stroke-linejoin:miter;stroke-opacity:1\"/>\n",
       "<path class=\"bond-32 atom-32 atom-33\" d=\"M 224.8,134.3 L 221.2,122.4\" style=\"fill:none;fill-rule:evenodd;stroke:#000000;stroke-width:2.0px;stroke-linecap:butt;stroke-linejoin:miter;stroke-opacity:1\"/>\n",
       "<path class=\"bond-32 atom-32 atom-33\" d=\"M 221.9,133.3 L 219.4,124.9\" style=\"fill:none;fill-rule:evenodd;stroke:#000000;stroke-width:2.0px;stroke-linecap:butt;stroke-linejoin:miter;stroke-opacity:1\"/>\n",
       "<path class=\"bond-33 atom-33 atom-28\" d=\"M 221.2,122.4 L 209.1,119.6\" style=\"fill:none;fill-rule:evenodd;stroke:#000000;stroke-width:2.0px;stroke-linecap:butt;stroke-linejoin:miter;stroke-opacity:1\"/>\n",
       "<path class=\"bond-34 atom-21 atom-27\" d=\"M 214.1,98.7 L 205.6,107.7\" style=\"fill:none;fill-rule:evenodd;stroke:#000000;stroke-width:2.0px;stroke-linecap:butt;stroke-linejoin:miter;stroke-opacity:1\"/>\n",
       "<path class=\"bond-35 atom-34 atom-35\" d=\"M 215.4,65.9 L 219.0,77.8\" style=\"fill:none;fill-rule:evenodd;stroke:#000000;stroke-width:2.0px;stroke-linecap:butt;stroke-linejoin:miter;stroke-opacity:1\"/>\n",
       "<path class=\"bond-36 atom-24 atom-35\" d=\"M 231.0,80.6 L 219.0,77.8\" style=\"fill:none;fill-rule:evenodd;stroke:#000000;stroke-width:2.0px;stroke-linecap:butt;stroke-linejoin:miter;stroke-opacity:1\"/>\n",
       "<path class=\"bond-37 atom-36 atom-37\" d=\"M 203.3,63.0 L 199.7,51.2\" style=\"fill:none;fill-rule:evenodd;stroke:#000000;stroke-width:2.0px;stroke-linecap:butt;stroke-linejoin:miter;stroke-opacity:1\"/>\n",
       "<path class=\"bond-38 atom-37 atom-38\" d=\"M 199.7,51.2 L 187.6,48.3\" style=\"fill:none;fill-rule:evenodd;stroke:#000000;stroke-width:2.0px;stroke-linecap:butt;stroke-linejoin:miter;stroke-opacity:1\"/>\n",
       "<path class=\"bond-39 atom-38 atom-39\" d=\"M 187.6,48.3 L 184.0,36.4\" style=\"fill:none;fill-rule:evenodd;stroke:#000000;stroke-width:2.0px;stroke-linecap:butt;stroke-linejoin:miter;stroke-opacity:1\"/>\n",
       "<path class=\"bond-40 atom-38 atom-40\" d=\"M 187.6,48.3 L 179.1,57.4\" style=\"fill:none;fill-rule:evenodd;stroke:#000000;stroke-width:2.0px;stroke-linecap:butt;stroke-linejoin:miter;stroke-opacity:1\"/>\n",
       "<path class=\"bond-41 atom-40 atom-41\" d=\"M 179.1,57.4 L 167.0,54.5\" style=\"fill:none;fill-rule:evenodd;stroke:#000000;stroke-width:2.0px;stroke-linecap:butt;stroke-linejoin:miter;stroke-opacity:1\"/>\n",
       "<path class=\"bond-42 atom-34 atom-36\" d=\"M 215.4,65.9 L 203.3,63.0\" style=\"fill:none;fill-rule:evenodd;stroke:#000000;stroke-width:2.0px;stroke-linecap:butt;stroke-linejoin:miter;stroke-opacity:1\"/>\n",
       "<path class=\"bond-43 atom-42 atom-43\" d=\"M 158.5,63.6 L 146.5,60.8\" style=\"fill:none;fill-rule:evenodd;stroke:#000000;stroke-width:2.0px;stroke-linecap:butt;stroke-linejoin:miter;stroke-opacity:1\"/>\n",
       "<path class=\"bond-44 atom-41 atom-42\" d=\"M 167.0,54.5 L 158.5,63.6\" style=\"fill:none;fill-rule:evenodd;stroke:#000000;stroke-width:2.0px;stroke-linecap:butt;stroke-linejoin:miter;stroke-opacity:1\"/>\n",
       "<path class=\"bond-45 atom-44 atom-45\" d=\"M 138.0,69.8 L 125.9,67.0\" style=\"fill:none;fill-rule:evenodd;stroke:#000000;stroke-width:2.0px;stroke-linecap:butt;stroke-linejoin:miter;stroke-opacity:1\"/>\n",
       "<path class=\"bond-46 atom-43 atom-44\" d=\"M 146.5,60.8 L 138.0,69.8\" style=\"fill:none;fill-rule:evenodd;stroke:#000000;stroke-width:2.0px;stroke-linecap:butt;stroke-linejoin:miter;stroke-opacity:1\"/>\n",
       "<path class=\"bond-47 atom-46 atom-47\" d=\"M 117.4,76.0 L 112.5,74.9\" style=\"fill:none;fill-rule:evenodd;stroke:#000000;stroke-width:2.0px;stroke-linecap:butt;stroke-linejoin:miter;stroke-opacity:1\"/>\n",
       "<path class=\"bond-47 atom-46 atom-47\" d=\"M 112.5,74.9 L 107.7,73.7\" style=\"fill:none;fill-rule:evenodd;stroke:#FF0000;stroke-width:2.0px;stroke-linecap:butt;stroke-linejoin:miter;stroke-opacity:1\"/>\n",
       "<path class=\"bond-48 atom-47 atom-48\" d=\"M 103.0,75.7 L 99.9,79.0\" style=\"fill:none;fill-rule:evenodd;stroke:#FF0000;stroke-width:2.0px;stroke-linecap:butt;stroke-linejoin:miter;stroke-opacity:1\"/>\n",
       "<path class=\"bond-48 atom-47 atom-48\" d=\"M 99.9,79.0 L 96.8,82.2\" style=\"fill:none;fill-rule:evenodd;stroke:#000000;stroke-width:2.0px;stroke-linecap:butt;stroke-linejoin:miter;stroke-opacity:1\"/>\n",
       "<path class=\"bond-49 atom-45 atom-46\" d=\"M 125.9,67.0 L 117.4,76.0\" style=\"fill:none;fill-rule:evenodd;stroke:#000000;stroke-width:2.0px;stroke-linecap:butt;stroke-linejoin:miter;stroke-opacity:1\"/>\n",
       "<path class=\"bond-50 atom-49 atom-50\" d=\"M 172.0,33.6 L 170.6,29.0\" style=\"fill:none;fill-rule:evenodd;stroke:#000000;stroke-width:2.0px;stroke-linecap:butt;stroke-linejoin:miter;stroke-opacity:1\"/>\n",
       "<path class=\"bond-50 atom-49 atom-50\" d=\"M 170.6,29.0 L 169.2,24.4\" style=\"fill:none;fill-rule:evenodd;stroke:#FF0000;stroke-width:2.0px;stroke-linecap:butt;stroke-linejoin:miter;stroke-opacity:1\"/>\n",
       "<path class=\"bond-51 atom-50 atom-51\" d=\"M 166.0,21.2 L 161.1,20.0\" style=\"fill:none;fill-rule:evenodd;stroke:#FF0000;stroke-width:2.0px;stroke-linecap:butt;stroke-linejoin:miter;stroke-opacity:1\"/>\n",
       "<path class=\"bond-51 atom-50 atom-51\" d=\"M 161.1,20.0 L 156.3,18.9\" style=\"fill:none;fill-rule:evenodd;stroke:#000000;stroke-width:2.0px;stroke-linecap:butt;stroke-linejoin:miter;stroke-opacity:1\"/>\n",
       "<path class=\"bond-52 atom-39 atom-49\" d=\"M 184.0,36.4 L 172.0,33.6\" style=\"fill:none;fill-rule:evenodd;stroke:#000000;stroke-width:2.0px;stroke-linecap:butt;stroke-linejoin:miter;stroke-opacity:1\"/>\n",
       "<path class=\"bond-53 atom-52 atom-53\" d=\"M 283.0,103.8 L 284.4,108.5\" style=\"fill:none;fill-rule:evenodd;stroke:#000000;stroke-width:2.0px;stroke-linecap:butt;stroke-linejoin:miter;stroke-opacity:1\"/>\n",
       "<path class=\"bond-53 atom-52 atom-53\" d=\"M 284.4,108.5 L 285.8,113.1\" style=\"fill:none;fill-rule:evenodd;stroke:#FF0000;stroke-width:2.0px;stroke-linecap:butt;stroke-linejoin:miter;stroke-opacity:1\"/>\n",
       "<path class=\"bond-54 atom-53 atom-54\" d=\"M 284.2,118.2 L 281.1,121.5\" style=\"fill:none;fill-rule:evenodd;stroke:#FF0000;stroke-width:2.0px;stroke-linecap:butt;stroke-linejoin:miter;stroke-opacity:1\"/>\n",
       "<path class=\"bond-54 atom-53 atom-54\" d=\"M 281.1,121.5 L 278.0,124.7\" style=\"fill:none;fill-rule:evenodd;stroke:#000000;stroke-width:2.0px;stroke-linecap:butt;stroke-linejoin:miter;stroke-opacity:1\"/>\n",
       "<path class=\"bond-55 atom-18 atom-52\" d=\"M 291.5,94.7 L 283.0,103.8\" style=\"fill:none;fill-rule:evenodd;stroke:#000000;stroke-width:2.0px;stroke-linecap:butt;stroke-linejoin:miter;stroke-opacity:1\"/>\n",
       "<path class=\"bond-56 atom-55 atom-56\" d=\"M 193.5,104.9 L 190.2,108.3\" style=\"fill:none;fill-rule:evenodd;stroke:#000000;stroke-width:2.0px;stroke-linecap:butt;stroke-linejoin:miter;stroke-opacity:1\"/>\n",
       "<path class=\"bond-56 atom-55 atom-56\" d=\"M 190.2,108.3 L 187.0,111.8\" style=\"fill:none;fill-rule:evenodd;stroke:#0000FF;stroke-width:2.0px;stroke-linecap:butt;stroke-linejoin:miter;stroke-opacity:1\"/>\n",
       "<path class=\"bond-57 atom-27 atom-55\" d=\"M 205.6,107.7 L 193.5,104.9\" style=\"fill:none;fill-rule:evenodd;stroke:#000000;stroke-width:2.0px;stroke-linecap:butt;stroke-linejoin:miter;stroke-opacity:1\"/>\n",
       "<path class=\"atom-0\" d=\"M 246.7 6.6 L 247.3 6.6 L 247.3 8.4 L 249.4 8.4 L 249.4 6.6 L 250.0 6.6 L 250.0 10.9 L 249.4 10.9 L 249.4 8.9 L 247.3 8.9 L 247.3 10.9 L 246.7 10.9 L 246.7 6.6 \" fill=\"#0000FF\"/>\n",
       "<path class=\"atom-0\" d=\"M 250.5 10.7 Q 250.6 10.5, 250.9 10.3 Q 251.1 10.2, 251.5 10.2 Q 251.9 10.2, 252.1 10.4 Q 252.4 10.6, 252.4 11.0 Q 252.4 11.5, 252.1 11.8 Q 251.7 12.2, 251.1 12.7 L 252.4 12.7 L 252.4 13.0 L 250.5 13.0 L 250.5 12.7 Q 251.0 12.4, 251.3 12.1 Q 251.7 11.8, 251.8 11.6 Q 252.0 11.3, 252.0 11.1 Q 252.0 10.8, 251.8 10.6 Q 251.7 10.5, 251.5 10.5 Q 251.2 10.5, 251.1 10.6 Q 250.9 10.7, 250.8 10.9 L 250.5 10.7 \" fill=\"#0000FF\"/>\n",
       "<path class=\"atom-0\" d=\"M 253.3 6.6 L 254.7 8.9 Q 254.8 9.1, 255.1 9.5 Q 255.3 9.9, 255.3 9.9 L 255.3 6.6 L 255.9 6.6 L 255.9 10.9 L 255.3 10.9 L 253.8 8.4 Q 253.6 8.1, 253.4 7.8 Q 253.3 7.5, 253.2 7.4 L 253.2 10.9 L 252.6 10.9 L 252.6 6.6 L 253.3 6.6 \" fill=\"#0000FF\"/>\n",
       "<path class=\"atom-47\" d=\"M 103.4 73.2 Q 103.4 72.2, 103.9 71.6 Q 104.4 71.0, 105.3 71.0 Q 106.3 71.0, 106.8 71.6 Q 107.3 72.2, 107.3 73.2 Q 107.3 74.2, 106.8 74.8 Q 106.2 75.4, 105.3 75.4 Q 104.4 75.4, 103.9 74.8 Q 103.4 74.2, 103.4 73.2 M 105.3 74.9 Q 106.0 74.9, 106.3 74.5 Q 106.7 74.0, 106.7 73.2 Q 106.7 72.4, 106.3 71.9 Q 106.0 71.5, 105.3 71.5 Q 104.7 71.5, 104.3 71.9 Q 104.0 72.4, 104.0 73.2 Q 104.0 74.1, 104.3 74.5 Q 104.7 74.9, 105.3 74.9 \" fill=\"#FF0000\"/>\n",
       "<path class=\"atom-50\" d=\"M 166.4 21.7 Q 166.4 20.7, 166.9 20.2 Q 167.4 19.6, 168.4 19.6 Q 169.3 19.6, 169.8 20.2 Q 170.3 20.7, 170.3 21.7 Q 170.3 22.8, 169.8 23.4 Q 169.3 23.9, 168.4 23.9 Q 167.4 23.9, 166.9 23.4 Q 166.4 22.8, 166.4 21.7 M 168.4 23.5 Q 169.0 23.5, 169.4 23.0 Q 169.7 22.6, 169.7 21.7 Q 169.7 20.9, 169.4 20.5 Q 169.0 20.1, 168.4 20.1 Q 167.7 20.1, 167.4 20.5 Q 167.0 20.9, 167.0 21.7 Q 167.0 22.6, 167.4 23.0 Q 167.7 23.5, 168.4 23.5 \" fill=\"#FF0000\"/>\n",
       "<path class=\"atom-53\" d=\"M 284.6 115.7 Q 284.6 114.7, 285.1 114.1 Q 285.6 113.5, 286.5 113.5 Q 287.5 113.5, 288.0 114.1 Q 288.5 114.7, 288.5 115.7 Q 288.5 116.7, 288.0 117.3 Q 287.5 117.9, 286.5 117.9 Q 285.6 117.9, 285.1 117.3 Q 284.6 116.7, 284.6 115.7 M 286.5 117.4 Q 287.2 117.4, 287.5 117.0 Q 287.9 116.5, 287.9 115.7 Q 287.9 114.9, 287.5 114.4 Q 287.2 114.0, 286.5 114.0 Q 285.9 114.0, 285.5 114.4 Q 285.2 114.8, 285.2 115.7 Q 285.2 116.5, 285.5 117.0 Q 285.9 117.4, 286.5 117.4 \" fill=\"#FF0000\"/>\n",
       "<path class=\"atom-56\" d=\"M 177.4 111.8 L 178.0 111.8 L 178.0 113.6 L 180.2 113.6 L 180.2 111.8 L 180.7 111.8 L 180.7 116.1 L 180.2 116.1 L 180.2 114.1 L 178.0 114.1 L 178.0 116.1 L 177.4 116.1 L 177.4 111.8 \" fill=\"#0000FF\"/>\n",
       "<path class=\"atom-56\" d=\"M 181.3 115.9 Q 181.4 115.6, 181.6 115.5 Q 181.8 115.4, 182.2 115.4 Q 182.6 115.4, 182.8 115.6 Q 183.1 115.8, 183.1 116.2 Q 183.1 116.6, 182.8 117.0 Q 182.5 117.4, 181.8 117.9 L 183.1 117.9 L 183.1 118.2 L 181.2 118.2 L 181.2 117.9 Q 181.8 117.6, 182.1 117.3 Q 182.4 117.0, 182.5 116.7 Q 182.7 116.5, 182.7 116.2 Q 182.7 116.0, 182.6 115.8 Q 182.4 115.7, 182.2 115.7 Q 182.0 115.7, 181.8 115.8 Q 181.7 115.9, 181.6 116.1 L 181.3 115.9 \" fill=\"#0000FF\"/>\n",
       "<path class=\"atom-56\" d=\"M 184.0 111.8 L 185.4 114.1 Q 185.6 114.3, 185.8 114.7 Q 186.0 115.1, 186.0 115.1 L 186.0 111.8 L 186.6 111.8 L 186.6 116.1 L 186.0 116.1 L 184.5 113.6 Q 184.3 113.3, 184.2 113.0 Q 184.0 112.7, 183.9 112.6 L 183.9 116.1 L 183.4 116.1 L 183.4 111.8 L 184.0 111.8 \" fill=\"#0000FF\"/>\n",
       "</svg>"
      ],
      "text/plain": [
       "<IPython.core.display.SVG object>"
      ]
     },
     "execution_count": 40,
     "metadata": {},
     "output_type": "execute_result"
    }
   ],
   "source": [
    "big = \"NC{[$] [$|5|]CC[$|5|],[$]C([$])c1ccccc1, [$|0.5|]CCC(C[$|0.1|])CC[$|0.5|]; [$]COC [$]}|uniform(500,1000)|CN\"\n",
    "big_smiles_gen(big)"
   ]
  },
  {
   "cell_type": "code",
   "execution_count": 41,
   "id": "950f5c7b",
   "metadata": {},
   "outputs": [
    {
     "data": {
      "image/svg+xml": [
       "<svg xmlns=\"http://www.w3.org/2000/svg\" xmlns:rdkit=\"http://www.rdkit.org/xml\" xmlns:xlink=\"http://www.w3.org/1999/xlink\" version=\"1.1\" baseProfile=\"full\" xml:space=\"preserve\" width=\"450px\" height=\"150px\" viewBox=\"0 0 450 150\">\n",
       "<!-- END OF HEADER -->\n",
       "<rect style=\"opacity:1.0;fill:#FFFFFF;stroke:none\" width=\"450.0\" height=\"150.0\" x=\"0.0\" y=\"0.0\"> </rect>\n",
       "<path class=\"bond-0 atom-0 atom-1\" d=\"M 278.2,10.1 L 282.2,12.7\" style=\"fill:none;fill-rule:evenodd;stroke:#0000FF;stroke-width:2.0px;stroke-linecap:butt;stroke-linejoin:miter;stroke-opacity:1\"/>\n",
       "<path class=\"bond-0 atom-0 atom-1\" d=\"M 282.2,12.7 L 286.2,15.4\" style=\"fill:none;fill-rule:evenodd;stroke:#000000;stroke-width:2.0px;stroke-linecap:butt;stroke-linejoin:miter;stroke-opacity:1\"/>\n",
       "<path class=\"bond-1 atom-2 atom-3\" d=\"M 285.5,27.4 L 295.6,34.0\" style=\"fill:none;fill-rule:evenodd;stroke:#000000;stroke-width:2.0px;stroke-linecap:butt;stroke-linejoin:miter;stroke-opacity:1\"/>\n",
       "<path class=\"bond-2 atom-1 atom-2\" d=\"M 286.2,15.4 L 285.5,27.4\" style=\"fill:none;fill-rule:evenodd;stroke:#000000;stroke-width:2.0px;stroke-linecap:butt;stroke-linejoin:miter;stroke-opacity:1\"/>\n",
       "<path class=\"bond-3 atom-4 atom-5\" d=\"M 304.9,52.7 L 294.8,46.0\" style=\"fill:none;fill-rule:evenodd;stroke:#000000;stroke-width:2.0px;stroke-linecap:butt;stroke-linejoin:miter;stroke-opacity:1\"/>\n",
       "<path class=\"bond-4 atom-3 atom-5\" d=\"M 295.6,34.0 L 294.8,46.0\" style=\"fill:none;fill-rule:evenodd;stroke:#000000;stroke-width:2.0px;stroke-linecap:butt;stroke-linejoin:miter;stroke-opacity:1\"/>\n",
       "<path class=\"bond-5 atom-6 atom-7\" d=\"M 314.2,71.3 L 304.2,64.7\" style=\"fill:none;fill-rule:evenodd;stroke:#000000;stroke-width:2.0px;stroke-linecap:butt;stroke-linejoin:miter;stroke-opacity:1\"/>\n",
       "<path class=\"bond-6 atom-4 atom-7\" d=\"M 304.9,52.7 L 304.2,64.7\" style=\"fill:none;fill-rule:evenodd;stroke:#000000;stroke-width:2.0px;stroke-linecap:butt;stroke-linejoin:miter;stroke-opacity:1\"/>\n",
       "<path class=\"bond-7 atom-8 atom-9\" d=\"M 323.5,90.0 L 313.5,83.3\" style=\"fill:none;fill-rule:evenodd;stroke:#000000;stroke-width:2.0px;stroke-linecap:butt;stroke-linejoin:miter;stroke-opacity:1\"/>\n",
       "<path class=\"bond-8 atom-6 atom-9\" d=\"M 314.2,71.3 L 313.5,83.3\" style=\"fill:none;fill-rule:evenodd;stroke:#000000;stroke-width:2.0px;stroke-linecap:butt;stroke-linejoin:miter;stroke-opacity:1\"/>\n",
       "<path class=\"bond-9 atom-10 atom-11\" d=\"M 322.8,102.0 L 332.8,108.6\" style=\"fill:none;fill-rule:evenodd;stroke:#000000;stroke-width:2.0px;stroke-linecap:butt;stroke-linejoin:miter;stroke-opacity:1\"/>\n",
       "<path class=\"bond-10 atom-11 atom-12\" d=\"M 332.8,108.6 L 332.1,120.6\" style=\"fill:none;fill-rule:evenodd;stroke:#000000;stroke-width:2.0px;stroke-linecap:butt;stroke-linejoin:miter;stroke-opacity:1\"/>\n",
       "<path class=\"bond-10 atom-11 atom-12\" d=\"M 335.1,110.6 L 334.6,119.0\" style=\"fill:none;fill-rule:evenodd;stroke:#000000;stroke-width:2.0px;stroke-linecap:butt;stroke-linejoin:miter;stroke-opacity:1\"/>\n",
       "<path class=\"bond-11 atom-12 atom-13\" d=\"M 332.1,120.6 L 342.1,127.3\" style=\"fill:none;fill-rule:evenodd;stroke:#000000;stroke-width:2.0px;stroke-linecap:butt;stroke-linejoin:miter;stroke-opacity:1\"/>\n",
       "<path class=\"bond-12 atom-13 atom-14\" d=\"M 342.1,127.3 L 352.9,121.9\" style=\"fill:none;fill-rule:evenodd;stroke:#000000;stroke-width:2.0px;stroke-linecap:butt;stroke-linejoin:miter;stroke-opacity:1\"/>\n",
       "<path class=\"bond-12 atom-13 atom-14\" d=\"M 342.7,124.3 L 350.2,120.5\" style=\"fill:none;fill-rule:evenodd;stroke:#000000;stroke-width:2.0px;stroke-linecap:butt;stroke-linejoin:miter;stroke-opacity:1\"/>\n",
       "<path class=\"bond-13 atom-14 atom-15\" d=\"M 352.9,121.9 L 353.6,109.9\" style=\"fill:none;fill-rule:evenodd;stroke:#000000;stroke-width:2.0px;stroke-linecap:butt;stroke-linejoin:miter;stroke-opacity:1\"/>\n",
       "<path class=\"bond-14 atom-15 atom-16\" d=\"M 353.6,109.9 L 343.6,103.2\" style=\"fill:none;fill-rule:evenodd;stroke:#000000;stroke-width:2.0px;stroke-linecap:butt;stroke-linejoin:miter;stroke-opacity:1\"/>\n",
       "<path class=\"bond-14 atom-15 atom-16\" d=\"M 350.8,110.9 L 343.8,106.2\" style=\"fill:none;fill-rule:evenodd;stroke:#000000;stroke-width:2.0px;stroke-linecap:butt;stroke-linejoin:miter;stroke-opacity:1\"/>\n",
       "<path class=\"bond-15 atom-16 atom-11\" d=\"M 343.6,103.2 L 332.8,108.6\" style=\"fill:none;fill-rule:evenodd;stroke:#000000;stroke-width:2.0px;stroke-linecap:butt;stroke-linejoin:miter;stroke-opacity:1\"/>\n",
       "<path class=\"bond-16 atom-8 atom-10\" d=\"M 323.5,90.0 L 322.8,102.0\" style=\"fill:none;fill-rule:evenodd;stroke:#000000;stroke-width:2.0px;stroke-linecap:butt;stroke-linejoin:miter;stroke-opacity:1\"/>\n",
       "<path class=\"bond-17 atom-17 atom-18\" d=\"M 312.0,107.4 L 311.3,119.4\" style=\"fill:none;fill-rule:evenodd;stroke:#000000;stroke-width:2.0px;stroke-linecap:butt;stroke-linejoin:miter;stroke-opacity:1\"/>\n",
       "<path class=\"bond-18 atom-18 atom-19\" d=\"M 311.3,119.4 L 300.5,124.7\" style=\"fill:none;fill-rule:evenodd;stroke:#000000;stroke-width:2.0px;stroke-linecap:butt;stroke-linejoin:miter;stroke-opacity:1\"/>\n",
       "<path class=\"bond-18 atom-18 atom-19\" d=\"M 310.8,122.3 L 303.2,126.1\" style=\"fill:none;fill-rule:evenodd;stroke:#000000;stroke-width:2.0px;stroke-linecap:butt;stroke-linejoin:miter;stroke-opacity:1\"/>\n",
       "<path class=\"bond-19 atom-19 atom-20\" d=\"M 300.5,124.7 L 299.8,136.8\" style=\"fill:none;fill-rule:evenodd;stroke:#000000;stroke-width:2.0px;stroke-linecap:butt;stroke-linejoin:miter;stroke-opacity:1\"/>\n",
       "<path class=\"bond-20 atom-20 atom-21\" d=\"M 299.8,136.8 L 309.8,143.4\" style=\"fill:none;fill-rule:evenodd;stroke:#000000;stroke-width:2.0px;stroke-linecap:butt;stroke-linejoin:miter;stroke-opacity:1\"/>\n",
       "<path class=\"bond-20 atom-20 atom-21\" d=\"M 302.6,135.7 L 309.7,140.4\" style=\"fill:none;fill-rule:evenodd;stroke:#000000;stroke-width:2.0px;stroke-linecap:butt;stroke-linejoin:miter;stroke-opacity:1\"/>\n",
       "<path class=\"bond-21 atom-21 atom-22\" d=\"M 309.8,143.4 L 320.6,138.0\" style=\"fill:none;fill-rule:evenodd;stroke:#000000;stroke-width:2.0px;stroke-linecap:butt;stroke-linejoin:miter;stroke-opacity:1\"/>\n",
       "<path class=\"bond-22 atom-22 atom-23\" d=\"M 320.6,138.0 L 321.3,126.0\" style=\"fill:none;fill-rule:evenodd;stroke:#000000;stroke-width:2.0px;stroke-linecap:butt;stroke-linejoin:miter;stroke-opacity:1\"/>\n",
       "<path class=\"bond-22 atom-22 atom-23\" d=\"M 318.3,136.1 L 318.8,127.7\" style=\"fill:none;fill-rule:evenodd;stroke:#000000;stroke-width:2.0px;stroke-linecap:butt;stroke-linejoin:miter;stroke-opacity:1\"/>\n",
       "<path class=\"bond-23 atom-23 atom-18\" d=\"M 321.3,126.0 L 311.3,119.4\" style=\"fill:none;fill-rule:evenodd;stroke:#000000;stroke-width:2.0px;stroke-linecap:butt;stroke-linejoin:miter;stroke-opacity:1\"/>\n",
       "<path class=\"bond-24 atom-10 atom-17\" d=\"M 322.8,102.0 L 312.0,107.4\" style=\"fill:none;fill-rule:evenodd;stroke:#000000;stroke-width:2.0px;stroke-linecap:butt;stroke-linejoin:miter;stroke-opacity:1\"/>\n",
       "<path class=\"bond-25 atom-24 atom-25\" d=\"M 291.2,106.1 L 302.0,100.7\" style=\"fill:none;fill-rule:evenodd;stroke:#000000;stroke-width:2.0px;stroke-linecap:butt;stroke-linejoin:miter;stroke-opacity:1\"/>\n",
       "<path class=\"bond-26 atom-17 atom-25\" d=\"M 312.0,107.4 L 302.0,100.7\" style=\"fill:none;fill-rule:evenodd;stroke:#000000;stroke-width:2.0px;stroke-linecap:butt;stroke-linejoin:miter;stroke-opacity:1\"/>\n",
       "<path class=\"bond-27 atom-26 atom-27\" d=\"M 281.2,99.5 L 270.4,104.8\" style=\"fill:none;fill-rule:evenodd;stroke:#000000;stroke-width:2.0px;stroke-linecap:butt;stroke-linejoin:miter;stroke-opacity:1\"/>\n",
       "<path class=\"bond-28 atom-24 atom-26\" d=\"M 291.2,106.1 L 281.2,99.5\" style=\"fill:none;fill-rule:evenodd;stroke:#000000;stroke-width:2.0px;stroke-linecap:butt;stroke-linejoin:miter;stroke-opacity:1\"/>\n",
       "<path class=\"bond-29 atom-28 atom-29\" d=\"M 260.4,98.2 L 249.6,103.6\" style=\"fill:none;fill-rule:evenodd;stroke:#000000;stroke-width:2.0px;stroke-linecap:butt;stroke-linejoin:miter;stroke-opacity:1\"/>\n",
       "<path class=\"bond-30 atom-27 atom-28\" d=\"M 270.4,104.8 L 260.4,98.2\" style=\"fill:none;fill-rule:evenodd;stroke:#000000;stroke-width:2.0px;stroke-linecap:butt;stroke-linejoin:miter;stroke-opacity:1\"/>\n",
       "<path class=\"bond-31 atom-30 atom-31\" d=\"M 239.6,96.9 L 228.8,102.3\" style=\"fill:none;fill-rule:evenodd;stroke:#000000;stroke-width:2.0px;stroke-linecap:butt;stroke-linejoin:miter;stroke-opacity:1\"/>\n",
       "<path class=\"bond-32 atom-29 atom-30\" d=\"M 249.6,103.6 L 239.6,96.9\" style=\"fill:none;fill-rule:evenodd;stroke:#000000;stroke-width:2.0px;stroke-linecap:butt;stroke-linejoin:miter;stroke-opacity:1\"/>\n",
       "<path class=\"bond-33 atom-32 atom-33\" d=\"M 218.7,95.7 L 219.5,83.7\" style=\"fill:none;fill-rule:evenodd;stroke:#000000;stroke-width:2.0px;stroke-linecap:butt;stroke-linejoin:miter;stroke-opacity:1\"/>\n",
       "<path class=\"bond-34 atom-33 atom-34\" d=\"M 219.5,83.7 L 230.2,78.3\" style=\"fill:none;fill-rule:evenodd;stroke:#000000;stroke-width:2.0px;stroke-linecap:butt;stroke-linejoin:miter;stroke-opacity:1\"/>\n",
       "<path class=\"bond-34 atom-33 atom-34\" d=\"M 220.0,80.7 L 227.5,77.0\" style=\"fill:none;fill-rule:evenodd;stroke:#000000;stroke-width:2.0px;stroke-linecap:butt;stroke-linejoin:miter;stroke-opacity:1\"/>\n",
       "<path class=\"bond-35 atom-34 atom-35\" d=\"M 230.2,78.3 L 231.0,66.3\" style=\"fill:none;fill-rule:evenodd;stroke:#000000;stroke-width:2.0px;stroke-linecap:butt;stroke-linejoin:miter;stroke-opacity:1\"/>\n",
       "<path class=\"bond-36 atom-35 atom-36\" d=\"M 231.0,66.3 L 220.9,59.7\" style=\"fill:none;fill-rule:evenodd;stroke:#000000;stroke-width:2.0px;stroke-linecap:butt;stroke-linejoin:miter;stroke-opacity:1\"/>\n",
       "<path class=\"bond-36 atom-35 atom-36\" d=\"M 228.1,67.3 L 221.1,62.7\" style=\"fill:none;fill-rule:evenodd;stroke:#000000;stroke-width:2.0px;stroke-linecap:butt;stroke-linejoin:miter;stroke-opacity:1\"/>\n",
       "<path class=\"bond-37 atom-36 atom-37\" d=\"M 220.9,59.7 L 210.2,65.0\" style=\"fill:none;fill-rule:evenodd;stroke:#000000;stroke-width:2.0px;stroke-linecap:butt;stroke-linejoin:miter;stroke-opacity:1\"/>\n",
       "<path class=\"bond-38 atom-37 atom-38\" d=\"M 210.2,65.0 L 209.4,77.0\" style=\"fill:none;fill-rule:evenodd;stroke:#000000;stroke-width:2.0px;stroke-linecap:butt;stroke-linejoin:miter;stroke-opacity:1\"/>\n",
       "<path class=\"bond-38 atom-37 atom-38\" d=\"M 212.4,67.0 L 211.9,75.4\" style=\"fill:none;fill-rule:evenodd;stroke:#000000;stroke-width:2.0px;stroke-linecap:butt;stroke-linejoin:miter;stroke-opacity:1\"/>\n",
       "<path class=\"bond-39 atom-38 atom-33\" d=\"M 209.4,77.0 L 219.5,83.7\" style=\"fill:none;fill-rule:evenodd;stroke:#000000;stroke-width:2.0px;stroke-linecap:butt;stroke-linejoin:miter;stroke-opacity:1\"/>\n",
       "<path class=\"bond-40 atom-31 atom-32\" d=\"M 228.8,102.3 L 218.7,95.7\" style=\"fill:none;fill-rule:evenodd;stroke:#000000;stroke-width:2.0px;stroke-linecap:butt;stroke-linejoin:miter;stroke-opacity:1\"/>\n",
       "<path class=\"bond-41 atom-39 atom-40\" d=\"M 208.0,101.1 L 197.9,94.4\" style=\"fill:none;fill-rule:evenodd;stroke:#000000;stroke-width:2.0px;stroke-linecap:butt;stroke-linejoin:miter;stroke-opacity:1\"/>\n",
       "<path class=\"bond-42 atom-32 atom-39\" d=\"M 218.7,95.7 L 208.0,101.1\" style=\"fill:none;fill-rule:evenodd;stroke:#000000;stroke-width:2.0px;stroke-linecap:butt;stroke-linejoin:miter;stroke-opacity:1\"/>\n",
       "<path class=\"bond-43 atom-41 atom-42\" d=\"M 187.2,99.8 L 177.1,93.2\" style=\"fill:none;fill-rule:evenodd;stroke:#000000;stroke-width:2.0px;stroke-linecap:butt;stroke-linejoin:miter;stroke-opacity:1\"/>\n",
       "<path class=\"bond-44 atom-40 atom-41\" d=\"M 197.9,94.4 L 187.2,99.8\" style=\"fill:none;fill-rule:evenodd;stroke:#000000;stroke-width:2.0px;stroke-linecap:butt;stroke-linejoin:miter;stroke-opacity:1\"/>\n",
       "<path class=\"bond-45 atom-43 atom-44\" d=\"M 124.7,96.0 L 135.5,90.7\" style=\"fill:none;fill-rule:evenodd;stroke:#000000;stroke-width:2.0px;stroke-linecap:butt;stroke-linejoin:miter;stroke-opacity:1\"/>\n",
       "<path class=\"bond-46 atom-44 atom-45\" d=\"M 135.5,90.7 L 145.6,97.3\" style=\"fill:none;fill-rule:evenodd;stroke:#000000;stroke-width:2.0px;stroke-linecap:butt;stroke-linejoin:miter;stroke-opacity:1\"/>\n",
       "<path class=\"bond-47 atom-45 atom-46\" d=\"M 145.6,97.3 L 144.8,109.3\" style=\"fill:none;fill-rule:evenodd;stroke:#000000;stroke-width:2.0px;stroke-linecap:butt;stroke-linejoin:miter;stroke-opacity:1\"/>\n",
       "<path class=\"bond-48 atom-45 atom-47\" d=\"M 145.6,97.3 L 156.3,91.9\" style=\"fill:none;fill-rule:evenodd;stroke:#000000;stroke-width:2.0px;stroke-linecap:butt;stroke-linejoin:miter;stroke-opacity:1\"/>\n",
       "<path class=\"bond-49 atom-47 atom-48\" d=\"M 156.3,91.9 L 166.4,98.6\" style=\"fill:none;fill-rule:evenodd;stroke:#000000;stroke-width:2.0px;stroke-linecap:butt;stroke-linejoin:miter;stroke-opacity:1\"/>\n",
       "<path class=\"bond-50 atom-42 atom-48\" d=\"M 177.1,93.2 L 166.4,98.6\" style=\"fill:none;fill-rule:evenodd;stroke:#000000;stroke-width:2.0px;stroke-linecap:butt;stroke-linejoin:miter;stroke-opacity:1\"/>\n",
       "<path class=\"bond-51 atom-49 atom-50\" d=\"M 134.1,114.7 L 133.8,119.4\" style=\"fill:none;fill-rule:evenodd;stroke:#000000;stroke-width:2.0px;stroke-linecap:butt;stroke-linejoin:miter;stroke-opacity:1\"/>\n",
       "<path class=\"bond-51 atom-49 atom-50\" d=\"M 133.8,119.4 L 133.5,124.2\" style=\"fill:none;fill-rule:evenodd;stroke:#FF0000;stroke-width:2.0px;stroke-linecap:butt;stroke-linejoin:miter;stroke-opacity:1\"/>\n",
       "<path class=\"bond-52 atom-50 atom-51\" d=\"M 131.0,127.9 L 126.8,130.0\" style=\"fill:none;fill-rule:evenodd;stroke:#FF0000;stroke-width:2.0px;stroke-linecap:butt;stroke-linejoin:miter;stroke-opacity:1\"/>\n",
       "<path class=\"bond-52 atom-50 atom-51\" d=\"M 126.8,130.0 L 122.6,132.1\" style=\"fill:none;fill-rule:evenodd;stroke:#000000;stroke-width:2.0px;stroke-linecap:butt;stroke-linejoin:miter;stroke-opacity:1\"/>\n",
       "<path class=\"bond-53 atom-46 atom-49\" d=\"M 144.8,109.3 L 134.1,114.7\" style=\"fill:none;fill-rule:evenodd;stroke:#000000;stroke-width:2.0px;stroke-linecap:butt;stroke-linejoin:miter;stroke-opacity:1\"/>\n",
       "<path class=\"bond-54 atom-52 atom-53\" d=\"M 114.7,89.4 L 110.3,91.6\" style=\"fill:none;fill-rule:evenodd;stroke:#000000;stroke-width:2.0px;stroke-linecap:butt;stroke-linejoin:miter;stroke-opacity:1\"/>\n",
       "<path class=\"bond-54 atom-52 atom-53\" d=\"M 110.3,91.6 L 105.9,93.8\" style=\"fill:none;fill-rule:evenodd;stroke:#0000FF;stroke-width:2.0px;stroke-linecap:butt;stroke-linejoin:miter;stroke-opacity:1\"/>\n",
       "<path class=\"bond-55 atom-43 atom-52\" d=\"M 124.7,96.0 L 114.7,89.4\" style=\"fill:none;fill-rule:evenodd;stroke:#000000;stroke-width:2.0px;stroke-linecap:butt;stroke-linejoin:miter;stroke-opacity:1\"/>\n",
       "<path class=\"atom-0\" d=\"M 268.6 6.6 L 269.2 6.6 L 269.2 8.4 L 271.4 8.4 L 271.4 6.6 L 272.0 6.6 L 272.0 10.9 L 271.4 10.9 L 271.4 8.9 L 269.2 8.9 L 269.2 10.9 L 268.6 10.9 L 268.6 6.6 \" fill=\"#0000FF\"/>\n",
       "<path class=\"atom-0\" d=\"M 272.5 10.7 Q 272.6 10.4, 272.8 10.3 Q 273.1 10.1, 273.4 10.1 Q 273.8 10.1, 274.1 10.4 Q 274.3 10.6, 274.3 11.0 Q 274.3 11.4, 274.0 11.8 Q 273.7 12.2, 273.1 12.7 L 274.4 12.7 L 274.4 13.0 L 272.5 13.0 L 272.5 12.7 Q 273.0 12.3, 273.3 12.1 Q 273.6 11.8, 273.8 11.5 Q 273.9 11.3, 273.9 11.0 Q 273.9 10.8, 273.8 10.6 Q 273.6 10.5, 273.4 10.5 Q 273.2 10.5, 273.0 10.6 Q 272.9 10.6, 272.8 10.8 L 272.5 10.7 \" fill=\"#0000FF\"/>\n",
       "<path class=\"atom-0\" d=\"M 275.3 6.6 L 276.7 8.9 Q 276.8 9.1, 277.0 9.5 Q 277.2 9.9, 277.3 9.9 L 277.3 6.6 L 277.8 6.6 L 277.8 10.9 L 277.2 10.9 L 275.7 8.4 Q 275.6 8.1, 275.4 7.8 Q 275.2 7.4, 275.1 7.3 L 275.1 10.9 L 274.6 10.9 L 274.6 6.6 L 275.3 6.6 \" fill=\"#0000FF\"/>\n",
       "<path class=\"atom-50\" d=\"M 131.4 126.7 Q 131.4 125.7, 131.9 125.1 Q 132.4 124.6, 133.3 124.6 Q 134.3 124.6, 134.8 125.1 Q 135.3 125.7, 135.3 126.7 Q 135.3 127.8, 134.8 128.3 Q 134.3 128.9, 133.3 128.9 Q 132.4 128.9, 131.9 128.3 Q 131.4 127.8, 131.4 126.7 M 133.3 128.4 Q 134.0 128.4, 134.3 128.0 Q 134.7 127.6, 134.7 126.7 Q 134.7 125.9, 134.3 125.5 Q 134.0 125.0, 133.3 125.0 Q 132.7 125.0, 132.3 125.5 Q 132.0 125.9, 132.0 126.7 Q 132.0 127.6, 132.3 128.0 Q 132.7 128.4, 133.3 128.4 \" fill=\"#FF0000\"/>\n",
       "<path class=\"atom-53\" d=\"M 96.4 92.7 L 96.9 92.7 L 96.9 94.5 L 99.1 94.5 L 99.1 92.7 L 99.7 92.7 L 99.7 96.9 L 99.1 96.9 L 99.1 95.0 L 96.9 95.0 L 96.9 96.9 L 96.4 96.9 L 96.4 92.7 \" fill=\"#0000FF\"/>\n",
       "<path class=\"atom-53\" d=\"M 100.2 96.8 Q 100.3 96.5, 100.6 96.4 Q 100.8 96.2, 101.1 96.2 Q 101.6 96.2, 101.8 96.4 Q 102.0 96.7, 102.0 97.1 Q 102.0 97.5, 101.7 97.9 Q 101.4 98.3, 100.8 98.7 L 102.1 98.7 L 102.1 99.0 L 100.2 99.0 L 100.2 98.8 Q 100.7 98.4, 101.0 98.1 Q 101.3 97.8, 101.5 97.6 Q 101.6 97.3, 101.6 97.1 Q 101.6 96.8, 101.5 96.7 Q 101.4 96.5, 101.1 96.5 Q 100.9 96.5, 100.8 96.6 Q 100.6 96.7, 100.5 96.9 L 100.2 96.8 \" fill=\"#0000FF\"/>\n",
       "<path class=\"atom-53\" d=\"M 103.0 92.7 L 104.4 94.9 Q 104.5 95.1, 104.8 95.5 Q 105.0 95.9, 105.0 96.0 L 105.0 92.7 L 105.6 92.7 L 105.6 96.9 L 105.0 96.9 L 103.5 94.5 Q 103.3 94.2, 103.1 93.8 Q 102.9 93.5, 102.9 93.4 L 102.9 96.9 L 102.3 96.9 L 102.3 92.7 L 103.0 92.7 \" fill=\"#0000FF\"/>\n",
       "</svg>"
      ],
      "text/plain": [
       "<IPython.core.display.SVG object>"
      ]
     },
     "execution_count": 41,
     "metadata": {},
     "output_type": "execute_result"
    }
   ],
   "source": [
    "big_smiles_gen(big)"
   ]
  },
  {
   "cell_type": "code",
   "execution_count": 42,
   "id": "fb8d61a0",
   "metadata": {},
   "outputs": [
    {
     "data": {
      "image/svg+xml": [
       "<svg xmlns=\"http://www.w3.org/2000/svg\" xmlns:rdkit=\"http://www.rdkit.org/xml\" xmlns:xlink=\"http://www.w3.org/1999/xlink\" version=\"1.1\" baseProfile=\"full\" xml:space=\"preserve\" width=\"450px\" height=\"150px\" viewBox=\"0 0 450 150\">\n",
       "<!-- END OF HEADER -->\n",
       "<rect style=\"opacity:1.0;fill:#FFFFFF;stroke:none\" width=\"450.0\" height=\"150.0\" x=\"0.0\" y=\"0.0\"> </rect>\n",
       "<path class=\"bond-0 atom-0 atom-1\" d=\"M 217.3,9.5 L 217.6,11.5\" style=\"fill:none;fill-rule:evenodd;stroke:#0000FF;stroke-width:2.0px;stroke-linecap:butt;stroke-linejoin:miter;stroke-opacity:1\"/>\n",
       "<path class=\"bond-0 atom-0 atom-1\" d=\"M 217.6,11.5 L 217.8,13.6\" style=\"fill:none;fill-rule:evenodd;stroke:#000000;stroke-width:2.0px;stroke-linecap:butt;stroke-linejoin:miter;stroke-opacity:1\"/>\n",
       "<path class=\"bond-1 atom-2 atom-3\" d=\"M 223.8,16.1 L 224.6,22.5\" style=\"fill:none;fill-rule:evenodd;stroke:#000000;stroke-width:2.0px;stroke-linecap:butt;stroke-linejoin:miter;stroke-opacity:1\"/>\n",
       "<path class=\"bond-2 atom-1 atom-2\" d=\"M 217.8,13.6 L 223.8,16.1\" style=\"fill:none;fill-rule:evenodd;stroke:#000000;stroke-width:2.0px;stroke-linecap:butt;stroke-linejoin:miter;stroke-opacity:1\"/>\n",
       "<path class=\"bond-3 atom-4 atom-5\" d=\"M 230.6,25.0 L 231.4,31.5\" style=\"fill:none;fill-rule:evenodd;stroke:#000000;stroke-width:2.0px;stroke-linecap:butt;stroke-linejoin:miter;stroke-opacity:1\"/>\n",
       "<path class=\"bond-4 atom-3 atom-4\" d=\"M 224.6,22.5 L 230.6,25.0\" style=\"fill:none;fill-rule:evenodd;stroke:#000000;stroke-width:2.0px;stroke-linecap:butt;stroke-linejoin:miter;stroke-opacity:1\"/>\n",
       "<path class=\"bond-5 atom-6 atom-7\" d=\"M 238.1,40.4 L 237.3,34.0\" style=\"fill:none;fill-rule:evenodd;stroke:#000000;stroke-width:2.0px;stroke-linecap:butt;stroke-linejoin:miter;stroke-opacity:1\"/>\n",
       "<path class=\"bond-6 atom-5 atom-7\" d=\"M 231.4,31.5 L 237.3,34.0\" style=\"fill:none;fill-rule:evenodd;stroke:#000000;stroke-width:2.0px;stroke-linecap:butt;stroke-linejoin:miter;stroke-opacity:1\"/>\n",
       "<path class=\"bond-7 atom-8 atom-9\" d=\"M 244.1,42.9 L 244.9,49.4\" style=\"fill:none;fill-rule:evenodd;stroke:#000000;stroke-width:2.0px;stroke-linecap:butt;stroke-linejoin:miter;stroke-opacity:1\"/>\n",
       "<path class=\"bond-8 atom-6 atom-8\" d=\"M 238.1,40.4 L 244.1,42.9\" style=\"fill:none;fill-rule:evenodd;stroke:#000000;stroke-width:2.0px;stroke-linecap:butt;stroke-linejoin:miter;stroke-opacity:1\"/>\n",
       "<path class=\"bond-9 atom-10 atom-11\" d=\"M 240.5,59.7 L 246.5,62.2\" style=\"fill:none;fill-rule:evenodd;stroke:#000000;stroke-width:2.0px;stroke-linecap:butt;stroke-linejoin:miter;stroke-opacity:1\"/>\n",
       "<path class=\"bond-10 atom-11 atom-12\" d=\"M 246.5,62.2 L 251.6,58.3\" style=\"fill:none;fill-rule:evenodd;stroke:#000000;stroke-width:2.0px;stroke-linecap:butt;stroke-linejoin:miter;stroke-opacity:1\"/>\n",
       "<path class=\"bond-11 atom-12 atom-13\" d=\"M 251.6,58.3 L 250.8,51.9\" style=\"fill:none;fill-rule:evenodd;stroke:#000000;stroke-width:2.0px;stroke-linecap:butt;stroke-linejoin:miter;stroke-opacity:1\"/>\n",
       "<path class=\"bond-12 atom-12 atom-14\" d=\"M 251.6,58.3 L 257.6,60.8\" style=\"fill:none;fill-rule:evenodd;stroke:#000000;stroke-width:2.0px;stroke-linecap:butt;stroke-linejoin:miter;stroke-opacity:1\"/>\n",
       "<path class=\"bond-13 atom-14 atom-15\" d=\"M 257.6,60.8 L 262.8,56.9\" style=\"fill:none;fill-rule:evenodd;stroke:#000000;stroke-width:2.0px;stroke-linecap:butt;stroke-linejoin:miter;stroke-opacity:1\"/>\n",
       "<path class=\"bond-14 atom-9 atom-13\" d=\"M 244.9,49.4 L 250.8,51.9\" style=\"fill:none;fill-rule:evenodd;stroke:#000000;stroke-width:2.0px;stroke-linecap:butt;stroke-linejoin:miter;stroke-opacity:1\"/>\n",
       "<path class=\"bond-15 atom-16 atom-17\" d=\"M 273.9,55.6 L 268.7,59.5\" style=\"fill:none;fill-rule:evenodd;stroke:#000000;stroke-width:2.0px;stroke-linecap:butt;stroke-linejoin:miter;stroke-opacity:1\"/>\n",
       "<path class=\"bond-16 atom-15 atom-17\" d=\"M 262.8,56.9 L 268.7,59.5\" style=\"fill:none;fill-rule:evenodd;stroke:#000000;stroke-width:2.0px;stroke-linecap:butt;stroke-linejoin:miter;stroke-opacity:1\"/>\n",
       "<path class=\"bond-17 atom-18 atom-19\" d=\"M 279.9,58.1 L 285.0,54.2\" style=\"fill:none;fill-rule:evenodd;stroke:#000000;stroke-width:2.0px;stroke-linecap:butt;stroke-linejoin:miter;stroke-opacity:1\"/>\n",
       "<path class=\"bond-18 atom-19 atom-20\" d=\"M 285.0,54.2 L 291.0,56.7\" style=\"fill:none;fill-rule:evenodd;stroke:#000000;stroke-width:2.0px;stroke-linecap:butt;stroke-linejoin:miter;stroke-opacity:1\"/>\n",
       "<path class=\"bond-18 atom-19 atom-20\" d=\"M 286.4,53.4 L 290.6,55.1\" style=\"fill:none;fill-rule:evenodd;stroke:#000000;stroke-width:2.0px;stroke-linecap:butt;stroke-linejoin:miter;stroke-opacity:1\"/>\n",
       "<path class=\"bond-19 atom-20 atom-21\" d=\"M 291.0,56.7 L 296.2,52.8\" style=\"fill:none;fill-rule:evenodd;stroke:#000000;stroke-width:2.0px;stroke-linecap:butt;stroke-linejoin:miter;stroke-opacity:1\"/>\n",
       "<path class=\"bond-20 atom-21 atom-22\" d=\"M 296.2,52.8 L 295.4,46.4\" style=\"fill:none;fill-rule:evenodd;stroke:#000000;stroke-width:2.0px;stroke-linecap:butt;stroke-linejoin:miter;stroke-opacity:1\"/>\n",
       "<path class=\"bond-20 atom-21 atom-22\" d=\"M 294.8,52.0 L 294.2,47.5\" style=\"fill:none;fill-rule:evenodd;stroke:#000000;stroke-width:2.0px;stroke-linecap:butt;stroke-linejoin:miter;stroke-opacity:1\"/>\n",
       "<path class=\"bond-21 atom-22 atom-23\" d=\"M 295.4,46.4 L 289.4,43.8\" style=\"fill:none;fill-rule:evenodd;stroke:#000000;stroke-width:2.0px;stroke-linecap:butt;stroke-linejoin:miter;stroke-opacity:1\"/>\n",
       "<path class=\"bond-22 atom-23 atom-24\" d=\"M 289.4,43.8 L 284.2,47.8\" style=\"fill:none;fill-rule:evenodd;stroke:#000000;stroke-width:2.0px;stroke-linecap:butt;stroke-linejoin:miter;stroke-opacity:1\"/>\n",
       "<path class=\"bond-22 atom-23 atom-24\" d=\"M 289.4,45.5 L 285.8,48.2\" style=\"fill:none;fill-rule:evenodd;stroke:#000000;stroke-width:2.0px;stroke-linecap:butt;stroke-linejoin:miter;stroke-opacity:1\"/>\n",
       "<path class=\"bond-23 atom-24 atom-19\" d=\"M 284.2,47.8 L 285.0,54.2\" style=\"fill:none;fill-rule:evenodd;stroke:#000000;stroke-width:2.0px;stroke-linecap:butt;stroke-linejoin:miter;stroke-opacity:1\"/>\n",
       "<path class=\"bond-24 atom-16 atom-18\" d=\"M 273.9,55.6 L 279.9,58.1\" style=\"fill:none;fill-rule:evenodd;stroke:#000000;stroke-width:2.0px;stroke-linecap:butt;stroke-linejoin:miter;stroke-opacity:1\"/>\n",
       "<path class=\"bond-25 atom-25 atom-26\" d=\"M 235.3,63.6 L 229.4,61.1\" style=\"fill:none;fill-rule:evenodd;stroke:#000000;stroke-width:2.0px;stroke-linecap:butt;stroke-linejoin:miter;stroke-opacity:1\"/>\n",
       "<path class=\"bond-26 atom-10 atom-25\" d=\"M 240.5,59.7 L 235.3,63.6\" style=\"fill:none;fill-rule:evenodd;stroke:#000000;stroke-width:2.0px;stroke-linecap:butt;stroke-linejoin:miter;stroke-opacity:1\"/>\n",
       "<path class=\"bond-27 atom-27 atom-28\" d=\"M 218.2,62.5 L 224.2,65.0\" style=\"fill:none;fill-rule:evenodd;stroke:#000000;stroke-width:2.0px;stroke-linecap:butt;stroke-linejoin:miter;stroke-opacity:1\"/>\n",
       "<path class=\"bond-28 atom-26 atom-28\" d=\"M 229.4,61.1 L 224.2,65.0\" style=\"fill:none;fill-rule:evenodd;stroke:#000000;stroke-width:2.0px;stroke-linecap:butt;stroke-linejoin:miter;stroke-opacity:1\"/>\n",
       "<path class=\"bond-29 atom-29 atom-30\" d=\"M 207.1,63.8 L 213.1,66.4\" style=\"fill:none;fill-rule:evenodd;stroke:#000000;stroke-width:2.0px;stroke-linecap:butt;stroke-linejoin:miter;stroke-opacity:1\"/>\n",
       "<path class=\"bond-30 atom-27 atom-30\" d=\"M 218.2,62.5 L 213.1,66.4\" style=\"fill:none;fill-rule:evenodd;stroke:#000000;stroke-width:2.0px;stroke-linecap:butt;stroke-linejoin:miter;stroke-opacity:1\"/>\n",
       "<path class=\"bond-31 atom-31 atom-32\" d=\"M 201.9,67.7 L 196.0,65.2\" style=\"fill:none;fill-rule:evenodd;stroke:#000000;stroke-width:2.0px;stroke-linecap:butt;stroke-linejoin:miter;stroke-opacity:1\"/>\n",
       "<path class=\"bond-32 atom-29 atom-31\" d=\"M 207.1,63.8 L 201.9,67.7\" style=\"fill:none;fill-rule:evenodd;stroke:#000000;stroke-width:2.0px;stroke-linecap:butt;stroke-linejoin:miter;stroke-opacity:1\"/>\n",
       "<path class=\"bond-33 atom-33 atom-34\" d=\"M 190.8,69.1 L 184.8,66.6\" style=\"fill:none;fill-rule:evenodd;stroke:#000000;stroke-width:2.0px;stroke-linecap:butt;stroke-linejoin:miter;stroke-opacity:1\"/>\n",
       "<path class=\"bond-34 atom-32 atom-33\" d=\"M 196.0,65.2 L 190.8,69.1\" style=\"fill:none;fill-rule:evenodd;stroke:#000000;stroke-width:2.0px;stroke-linecap:butt;stroke-linejoin:miter;stroke-opacity:1\"/>\n",
       "<path class=\"bond-35 atom-35 atom-36\" d=\"M 280.7,64.5 L 286.6,67.0\" style=\"fill:none;fill-rule:evenodd;stroke:#000000;stroke-width:2.0px;stroke-linecap:butt;stroke-linejoin:miter;stroke-opacity:1\"/>\n",
       "<path class=\"bond-36 atom-36 atom-37\" d=\"M 286.6,67.0 L 287.4,73.5\" style=\"fill:none;fill-rule:evenodd;stroke:#000000;stroke-width:2.0px;stroke-linecap:butt;stroke-linejoin:miter;stroke-opacity:1\"/>\n",
       "<path class=\"bond-36 atom-36 atom-37\" d=\"M 288.0,67.8 L 288.6,72.3\" style=\"fill:none;fill-rule:evenodd;stroke:#000000;stroke-width:2.0px;stroke-linecap:butt;stroke-linejoin:miter;stroke-opacity:1\"/>\n",
       "<path class=\"bond-37 atom-37 atom-38\" d=\"M 287.4,73.5 L 293.4,76.0\" style=\"fill:none;fill-rule:evenodd;stroke:#000000;stroke-width:2.0px;stroke-linecap:butt;stroke-linejoin:miter;stroke-opacity:1\"/>\n",
       "<path class=\"bond-38 atom-38 atom-39\" d=\"M 293.4,76.0 L 298.6,72.1\" style=\"fill:none;fill-rule:evenodd;stroke:#000000;stroke-width:2.0px;stroke-linecap:butt;stroke-linejoin:miter;stroke-opacity:1\"/>\n",
       "<path class=\"bond-38 atom-38 atom-39\" d=\"M 293.4,74.4 L 297.0,71.6\" style=\"fill:none;fill-rule:evenodd;stroke:#000000;stroke-width:2.0px;stroke-linecap:butt;stroke-linejoin:miter;stroke-opacity:1\"/>\n",
       "<path class=\"bond-39 atom-39 atom-40\" d=\"M 298.6,72.1 L 297.8,65.7\" style=\"fill:none;fill-rule:evenodd;stroke:#000000;stroke-width:2.0px;stroke-linecap:butt;stroke-linejoin:miter;stroke-opacity:1\"/>\n",
       "<path class=\"bond-40 atom-40 atom-41\" d=\"M 297.8,65.7 L 291.8,63.1\" style=\"fill:none;fill-rule:evenodd;stroke:#000000;stroke-width:2.0px;stroke-linecap:butt;stroke-linejoin:miter;stroke-opacity:1\"/>\n",
       "<path class=\"bond-40 atom-40 atom-41\" d=\"M 296.4,66.5 L 292.2,64.7\" style=\"fill:none;fill-rule:evenodd;stroke:#000000;stroke-width:2.0px;stroke-linecap:butt;stroke-linejoin:miter;stroke-opacity:1\"/>\n",
       "<path class=\"bond-41 atom-41 atom-36\" d=\"M 291.8,63.1 L 286.6,67.0\" style=\"fill:none;fill-rule:evenodd;stroke:#000000;stroke-width:2.0px;stroke-linecap:butt;stroke-linejoin:miter;stroke-opacity:1\"/>\n",
       "<path class=\"bond-42 atom-18 atom-35\" d=\"M 279.9,58.1 L 280.7,64.5\" style=\"fill:none;fill-rule:evenodd;stroke:#000000;stroke-width:2.0px;stroke-linecap:butt;stroke-linejoin:miter;stroke-opacity:1\"/>\n",
       "<path class=\"bond-43 atom-42 atom-43\" d=\"M 173.7,68.0 L 179.7,70.5\" style=\"fill:none;fill-rule:evenodd;stroke:#000000;stroke-width:2.0px;stroke-linecap:butt;stroke-linejoin:miter;stroke-opacity:1\"/>\n",
       "<path class=\"bond-44 atom-34 atom-43\" d=\"M 184.8,66.6 L 179.7,70.5\" style=\"fill:none;fill-rule:evenodd;stroke:#000000;stroke-width:2.0px;stroke-linecap:butt;stroke-linejoin:miter;stroke-opacity:1\"/>\n",
       "<path class=\"bond-45 atom-44 atom-45\" d=\"M 168.5,71.9 L 169.3,78.3\" style=\"fill:none;fill-rule:evenodd;stroke:#000000;stroke-width:2.0px;stroke-linecap:butt;stroke-linejoin:miter;stroke-opacity:1\"/>\n",
       "<path class=\"bond-46 atom-45 atom-46\" d=\"M 169.3,78.3 L 164.2,82.2\" style=\"fill:none;fill-rule:evenodd;stroke:#000000;stroke-width:2.0px;stroke-linecap:butt;stroke-linejoin:miter;stroke-opacity:1\"/>\n",
       "<path class=\"bond-46 atom-45 atom-46\" d=\"M 169.3,79.9 L 165.7,82.7\" style=\"fill:none;fill-rule:evenodd;stroke:#000000;stroke-width:2.0px;stroke-linecap:butt;stroke-linejoin:miter;stroke-opacity:1\"/>\n",
       "<path class=\"bond-47 atom-46 atom-47\" d=\"M 164.2,82.2 L 165.0,88.6\" style=\"fill:none;fill-rule:evenodd;stroke:#000000;stroke-width:2.0px;stroke-linecap:butt;stroke-linejoin:miter;stroke-opacity:1\"/>\n",
       "<path class=\"bond-48 atom-47 atom-48\" d=\"M 165.0,88.6 L 170.9,91.2\" style=\"fill:none;fill-rule:evenodd;stroke:#000000;stroke-width:2.0px;stroke-linecap:butt;stroke-linejoin:miter;stroke-opacity:1\"/>\n",
       "<path class=\"bond-48 atom-47 atom-48\" d=\"M 166.4,87.8 L 170.5,89.6\" style=\"fill:none;fill-rule:evenodd;stroke:#000000;stroke-width:2.0px;stroke-linecap:butt;stroke-linejoin:miter;stroke-opacity:1\"/>\n",
       "<path class=\"bond-49 atom-48 atom-49\" d=\"M 170.9,91.2 L 176.1,87.3\" style=\"fill:none;fill-rule:evenodd;stroke:#000000;stroke-width:2.0px;stroke-linecap:butt;stroke-linejoin:miter;stroke-opacity:1\"/>\n",
       "<path class=\"bond-50 atom-49 atom-50\" d=\"M 176.1,87.3 L 175.3,80.8\" style=\"fill:none;fill-rule:evenodd;stroke:#000000;stroke-width:2.0px;stroke-linecap:butt;stroke-linejoin:miter;stroke-opacity:1\"/>\n",
       "<path class=\"bond-50 atom-49 atom-50\" d=\"M 174.7,86.5 L 174.1,82.0\" style=\"fill:none;fill-rule:evenodd;stroke:#000000;stroke-width:2.0px;stroke-linecap:butt;stroke-linejoin:miter;stroke-opacity:1\"/>\n",
       "<path class=\"bond-51 atom-50 atom-45\" d=\"M 175.3,80.8 L 169.3,78.3\" style=\"fill:none;fill-rule:evenodd;stroke:#000000;stroke-width:2.0px;stroke-linecap:butt;stroke-linejoin:miter;stroke-opacity:1\"/>\n",
       "<path class=\"bond-52 atom-42 atom-44\" d=\"M 173.7,68.0 L 168.5,71.9\" style=\"fill:none;fill-rule:evenodd;stroke:#000000;stroke-width:2.0px;stroke-linecap:butt;stroke-linejoin:miter;stroke-opacity:1\"/>\n",
       "<path class=\"bond-53 atom-51 atom-52\" d=\"M 276.3,74.8 L 275.5,68.4\" style=\"fill:none;fill-rule:evenodd;stroke:#000000;stroke-width:2.0px;stroke-linecap:butt;stroke-linejoin:miter;stroke-opacity:1\"/>\n",
       "<path class=\"bond-54 atom-35 atom-52\" d=\"M 280.7,64.5 L 275.5,68.4\" style=\"fill:none;fill-rule:evenodd;stroke:#000000;stroke-width:2.0px;stroke-linecap:butt;stroke-linejoin:miter;stroke-opacity:1\"/>\n",
       "<path class=\"bond-55 atom-53 atom-54\" d=\"M 271.9,85.2 L 271.1,78.8\" style=\"fill:none;fill-rule:evenodd;stroke:#000000;stroke-width:2.0px;stroke-linecap:butt;stroke-linejoin:miter;stroke-opacity:1\"/>\n",
       "<path class=\"bond-56 atom-51 atom-54\" d=\"M 276.3,74.8 L 271.1,78.8\" style=\"fill:none;fill-rule:evenodd;stroke:#000000;stroke-width:2.0px;stroke-linecap:butt;stroke-linejoin:miter;stroke-opacity:1\"/>\n",
       "<path class=\"bond-57 atom-55 atom-56\" d=\"M 266.8,89.1 L 260.8,86.6\" style=\"fill:none;fill-rule:evenodd;stroke:#000000;stroke-width:2.0px;stroke-linecap:butt;stroke-linejoin:miter;stroke-opacity:1\"/>\n",
       "<path class=\"bond-58 atom-56 atom-57\" d=\"M 260.8,86.6 L 260.0,80.1\" style=\"fill:none;fill-rule:evenodd;stroke:#000000;stroke-width:2.0px;stroke-linecap:butt;stroke-linejoin:miter;stroke-opacity:1\"/>\n",
       "<path class=\"bond-58 atom-56 atom-57\" d=\"M 259.4,85.8 L 258.8,81.3\" style=\"fill:none;fill-rule:evenodd;stroke:#000000;stroke-width:2.0px;stroke-linecap:butt;stroke-linejoin:miter;stroke-opacity:1\"/>\n",
       "<path class=\"bond-59 atom-57 atom-58\" d=\"M 260.0,80.1 L 254.0,77.6\" style=\"fill:none;fill-rule:evenodd;stroke:#000000;stroke-width:2.0px;stroke-linecap:butt;stroke-linejoin:miter;stroke-opacity:1\"/>\n",
       "<path class=\"bond-60 atom-58 atom-59\" d=\"M 254.0,77.6 L 248.9,81.5\" style=\"fill:none;fill-rule:evenodd;stroke:#000000;stroke-width:2.0px;stroke-linecap:butt;stroke-linejoin:miter;stroke-opacity:1\"/>\n",
       "<path class=\"bond-60 atom-58 atom-59\" d=\"M 254.0,79.2 L 250.4,82.0\" style=\"fill:none;fill-rule:evenodd;stroke:#000000;stroke-width:2.0px;stroke-linecap:butt;stroke-linejoin:miter;stroke-opacity:1\"/>\n",
       "<path class=\"bond-61 atom-59 atom-60\" d=\"M 248.9,81.5 L 249.7,87.9\" style=\"fill:none;fill-rule:evenodd;stroke:#000000;stroke-width:2.0px;stroke-linecap:butt;stroke-linejoin:miter;stroke-opacity:1\"/>\n",
       "<path class=\"bond-62 atom-60 atom-61\" d=\"M 249.7,87.9 L 255.6,90.5\" style=\"fill:none;fill-rule:evenodd;stroke:#000000;stroke-width:2.0px;stroke-linecap:butt;stroke-linejoin:miter;stroke-opacity:1\"/>\n",
       "<path class=\"bond-62 atom-60 atom-61\" d=\"M 251.1,87.1 L 255.2,88.9\" style=\"fill:none;fill-rule:evenodd;stroke:#000000;stroke-width:2.0px;stroke-linecap:butt;stroke-linejoin:miter;stroke-opacity:1\"/>\n",
       "<path class=\"bond-63 atom-61 atom-56\" d=\"M 255.6,90.5 L 260.8,86.6\" style=\"fill:none;fill-rule:evenodd;stroke:#000000;stroke-width:2.0px;stroke-linecap:butt;stroke-linejoin:miter;stroke-opacity:1\"/>\n",
       "<path class=\"bond-64 atom-53 atom-55\" d=\"M 271.9,85.2 L 266.8,89.1\" style=\"fill:none;fill-rule:evenodd;stroke:#000000;stroke-width:2.0px;stroke-linecap:butt;stroke-linejoin:miter;stroke-opacity:1\"/>\n",
       "<path class=\"bond-65 atom-62 atom-63\" d=\"M 267.6,95.5 L 262.4,99.4\" style=\"fill:none;fill-rule:evenodd;stroke:#000000;stroke-width:2.0px;stroke-linecap:butt;stroke-linejoin:miter;stroke-opacity:1\"/>\n",
       "<path class=\"bond-66 atom-55 atom-62\" d=\"M 266.8,89.1 L 267.6,95.5\" style=\"fill:none;fill-rule:evenodd;stroke:#000000;stroke-width:2.0px;stroke-linecap:butt;stroke-linejoin:miter;stroke-opacity:1\"/>\n",
       "<path class=\"bond-67 atom-64 atom-65\" d=\"M 263.2,105.8 L 258.0,109.7\" style=\"fill:none;fill-rule:evenodd;stroke:#000000;stroke-width:2.0px;stroke-linecap:butt;stroke-linejoin:miter;stroke-opacity:1\"/>\n",
       "<path class=\"bond-68 atom-63 atom-64\" d=\"M 262.4,99.4 L 263.2,105.8\" style=\"fill:none;fill-rule:evenodd;stroke:#000000;stroke-width:2.0px;stroke-linecap:butt;stroke-linejoin:miter;stroke-opacity:1\"/>\n",
       "<path class=\"bond-69 atom-66 atom-67\" d=\"M 249.3,130.4 L 254.4,126.5\" style=\"fill:none;fill-rule:evenodd;stroke:#000000;stroke-width:2.0px;stroke-linecap:butt;stroke-linejoin:miter;stroke-opacity:1\"/>\n",
       "<path class=\"bond-70 atom-67 atom-68\" d=\"M 254.4,126.5 L 253.6,120.1\" style=\"fill:none;fill-rule:evenodd;stroke:#000000;stroke-width:2.0px;stroke-linecap:butt;stroke-linejoin:miter;stroke-opacity:1\"/>\n",
       "<path class=\"bond-71 atom-68 atom-69\" d=\"M 253.6,120.1 L 258.8,116.2\" style=\"fill:none;fill-rule:evenodd;stroke:#000000;stroke-width:2.0px;stroke-linecap:butt;stroke-linejoin:miter;stroke-opacity:1\"/>\n",
       "<path class=\"bond-72 atom-68 atom-70\" d=\"M 253.6,120.1 L 247.7,117.6\" style=\"fill:none;fill-rule:evenodd;stroke:#000000;stroke-width:2.0px;stroke-linecap:butt;stroke-linejoin:miter;stroke-opacity:1\"/>\n",
       "<path class=\"bond-73 atom-70 atom-71\" d=\"M 247.7,117.6 L 242.5,121.5\" style=\"fill:none;fill-rule:evenodd;stroke:#000000;stroke-width:2.0px;stroke-linecap:butt;stroke-linejoin:miter;stroke-opacity:1\"/>\n",
       "<path class=\"bond-74 atom-65 atom-69\" d=\"M 258.0,109.7 L 258.8,116.2\" style=\"fill:none;fill-rule:evenodd;stroke:#000000;stroke-width:2.0px;stroke-linecap:butt;stroke-linejoin:miter;stroke-opacity:1\"/>\n",
       "<path class=\"bond-75 atom-72 atom-73\" d=\"M 162.6,69.4 L 161.1,70.5\" style=\"fill:none;fill-rule:evenodd;stroke:#000000;stroke-width:2.0px;stroke-linecap:butt;stroke-linejoin:miter;stroke-opacity:1\"/>\n",
       "<path class=\"bond-75 atom-72 atom-73\" d=\"M 161.1,70.5 L 159.6,71.6\" style=\"fill:none;fill-rule:evenodd;stroke:#FF0000;stroke-width:2.0px;stroke-linecap:butt;stroke-linejoin:miter;stroke-opacity:1\"/>\n",
       "<path class=\"bond-76 atom-73 atom-74\" d=\"M 155.2,72.3 L 153.3,71.5\" style=\"fill:none;fill-rule:evenodd;stroke:#FF0000;stroke-width:2.0px;stroke-linecap:butt;stroke-linejoin:miter;stroke-opacity:1\"/>\n",
       "<path class=\"bond-76 atom-73 atom-74\" d=\"M 153.3,71.5 L 151.4,70.7\" style=\"fill:none;fill-rule:evenodd;stroke:#000000;stroke-width:2.0px;stroke-linecap:butt;stroke-linejoin:miter;stroke-opacity:1\"/>\n",
       "<path class=\"bond-77 atom-44 atom-72\" d=\"M 168.5,71.9 L 162.6,69.4\" style=\"fill:none;fill-rule:evenodd;stroke:#000000;stroke-width:2.0px;stroke-linecap:butt;stroke-linejoin:miter;stroke-opacity:1\"/>\n",
       "<path class=\"bond-78 atom-75 atom-76\" d=\"M 236.5,118.9 L 235.0,120.1\" style=\"fill:none;fill-rule:evenodd;stroke:#000000;stroke-width:2.0px;stroke-linecap:butt;stroke-linejoin:miter;stroke-opacity:1\"/>\n",
       "<path class=\"bond-78 atom-75 atom-76\" d=\"M 235.0,120.1 L 233.5,121.2\" style=\"fill:none;fill-rule:evenodd;stroke:#FF0000;stroke-width:2.0px;stroke-linecap:butt;stroke-linejoin:miter;stroke-opacity:1\"/>\n",
       "<path class=\"bond-79 atom-76 atom-77\" d=\"M 229.2,121.9 L 227.3,121.1\" style=\"fill:none;fill-rule:evenodd;stroke:#FF0000;stroke-width:2.0px;stroke-linecap:butt;stroke-linejoin:miter;stroke-opacity:1\"/>\n",
       "<path class=\"bond-79 atom-76 atom-77\" d=\"M 227.3,121.1 L 225.4,120.3\" style=\"fill:none;fill-rule:evenodd;stroke:#000000;stroke-width:2.0px;stroke-linecap:butt;stroke-linejoin:miter;stroke-opacity:1\"/>\n",
       "<path class=\"bond-80 atom-71 atom-75\" d=\"M 242.5,121.5 L 236.5,118.9\" style=\"fill:none;fill-rule:evenodd;stroke:#000000;stroke-width:2.0px;stroke-linecap:butt;stroke-linejoin:miter;stroke-opacity:1\"/>\n",
       "<path class=\"bond-81 atom-78 atom-79\" d=\"M 250.1,136.8 L 248.4,138.1\" style=\"fill:none;fill-rule:evenodd;stroke:#000000;stroke-width:2.0px;stroke-linecap:butt;stroke-linejoin:miter;stroke-opacity:1\"/>\n",
       "<path class=\"bond-81 atom-78 atom-79\" d=\"M 248.4,138.1 L 246.7,139.4\" style=\"fill:none;fill-rule:evenodd;stroke:#0000FF;stroke-width:2.0px;stroke-linecap:butt;stroke-linejoin:miter;stroke-opacity:1\"/>\n",
       "<path class=\"bond-82 atom-66 atom-78\" d=\"M 249.3,130.4 L 250.1,136.8\" style=\"fill:none;fill-rule:evenodd;stroke:#000000;stroke-width:2.0px;stroke-linecap:butt;stroke-linejoin:miter;stroke-opacity:1\"/>\n",
       "<path class=\"atom-0\" d=\"M 216.1 5.0 L 217.5 7.3 Q 217.6 7.5, 217.8 7.9 Q 218.1 8.3, 218.1 8.3 L 218.1 5.0 L 218.6 5.0 L 218.6 9.3 L 218.1 9.3 L 216.6 6.8 Q 216.4 6.5, 216.2 6.2 Q 216.0 5.8, 216.0 5.7 L 216.0 9.3 L 215.4 9.3 L 215.4 5.0 L 216.1 5.0 \" fill=\"#0000FF\"/>\n",
       "<path class=\"atom-0\" d=\"M 219.1 5.0 L 219.7 5.0 L 219.7 6.8 L 221.9 6.8 L 221.9 5.0 L 222.5 5.0 L 222.5 9.3 L 221.9 9.3 L 221.9 7.3 L 219.7 7.3 L 219.7 9.3 L 219.1 9.3 L 219.1 5.0 \" fill=\"#0000FF\"/>\n",
       "<path class=\"atom-0\" d=\"M 223.0 9.1 Q 223.1 8.8, 223.3 8.7 Q 223.6 8.5, 223.9 8.5 Q 224.3 8.5, 224.6 8.8 Q 224.8 9.0, 224.8 9.4 Q 224.8 9.8, 224.5 10.2 Q 224.2 10.6, 223.6 11.1 L 224.9 11.1 L 224.9 11.4 L 223.0 11.4 L 223.0 11.1 Q 223.5 10.7, 223.8 10.5 Q 224.1 10.2, 224.3 9.9 Q 224.4 9.7, 224.4 9.4 Q 224.4 9.2, 224.3 9.0 Q 224.2 8.9, 223.9 8.9 Q 223.7 8.9, 223.5 9.0 Q 223.4 9.0, 223.3 9.2 L 223.0 9.1 \" fill=\"#0000FF\"/>\n",
       "<path class=\"atom-73\" d=\"M 155.4 73.3 Q 155.4 72.3, 156.0 71.7 Q 156.5 71.1, 157.4 71.1 Q 158.3 71.1, 158.8 71.7 Q 159.3 72.3, 159.3 73.3 Q 159.3 74.3, 158.8 74.9 Q 158.3 75.5, 157.4 75.5 Q 156.5 75.5, 156.0 74.9 Q 155.4 74.3, 155.4 73.3 M 157.4 75.0 Q 158.0 75.0, 158.4 74.6 Q 158.7 74.1, 158.7 73.3 Q 158.7 72.4, 158.4 72.0 Q 158.0 71.6, 157.4 71.6 Q 156.8 71.6, 156.4 72.0 Q 156.0 72.4, 156.0 73.3 Q 156.0 74.1, 156.4 74.6 Q 156.8 75.0, 157.4 75.0 \" fill=\"#FF0000\"/>\n",
       "<path class=\"atom-76\" d=\"M 229.4 122.9 Q 229.4 121.8, 229.9 121.3 Q 230.4 120.7, 231.4 120.7 Q 232.3 120.7, 232.8 121.3 Q 233.3 121.8, 233.3 122.9 Q 233.3 123.9, 232.8 124.5 Q 232.3 125.1, 231.4 125.1 Q 230.4 125.1, 229.9 124.5 Q 229.4 123.9, 229.4 122.9 M 231.4 124.6 Q 232.0 124.6, 232.4 124.1 Q 232.7 123.7, 232.7 122.9 Q 232.7 122.0, 232.4 121.6 Q 232.0 121.2, 231.4 121.2 Q 230.7 121.2, 230.4 121.6 Q 230.0 122.0, 230.0 122.9 Q 230.0 123.7, 230.4 124.1 Q 230.7 124.6, 231.4 124.6 \" fill=\"#FF0000\"/>\n",
       "<path class=\"atom-79\" d=\"M 237.3 138.6 L 237.9 138.6 L 237.9 140.4 L 240.1 140.4 L 240.1 138.6 L 240.7 138.6 L 240.7 142.9 L 240.1 142.9 L 240.1 140.9 L 237.9 140.9 L 237.9 142.9 L 237.3 142.9 L 237.3 138.6 \" fill=\"#0000FF\"/>\n",
       "<path class=\"atom-79\" d=\"M 241.2 142.7 Q 241.3 142.5, 241.5 142.3 Q 241.8 142.2, 242.1 142.2 Q 242.5 142.2, 242.8 142.4 Q 243.0 142.6, 243.0 143.0 Q 243.0 143.4, 242.7 143.8 Q 242.4 144.2, 241.8 144.7 L 243.0 144.7 L 243.0 145.0 L 241.2 145.0 L 241.2 144.7 Q 241.7 144.4, 242.0 144.1 Q 242.3 143.8, 242.5 143.6 Q 242.6 143.3, 242.6 143.0 Q 242.6 142.8, 242.5 142.6 Q 242.3 142.5, 242.1 142.5 Q 241.9 142.5, 241.7 142.6 Q 241.6 142.7, 241.5 142.9 L 241.2 142.7 \" fill=\"#0000FF\"/>\n",
       "<path class=\"atom-79\" d=\"M 244.0 138.6 L 245.4 140.9 Q 245.5 141.1, 245.7 141.5 Q 245.9 141.9, 245.9 141.9 L 245.9 138.6 L 246.5 138.6 L 246.5 142.9 L 245.9 142.9 L 244.4 140.4 Q 244.3 140.1, 244.1 139.8 Q 243.9 139.5, 243.8 139.4 L 243.8 142.9 L 243.3 142.9 L 243.3 138.6 L 244.0 138.6 \" fill=\"#0000FF\"/>\n",
       "</svg>"
      ],
      "text/plain": [
       "<IPython.core.display.SVG object>"
      ]
     },
     "execution_count": 42,
     "metadata": {},
     "output_type": "execute_result"
    }
   ],
   "source": [
    "big_smiles_gen(big)"
   ]
  },
  {
   "cell_type": "code",
   "execution_count": 43,
   "id": "38069241",
   "metadata": {},
   "outputs": [
    {
     "data": {
      "image/svg+xml": [
       "<svg xmlns=\"http://www.w3.org/2000/svg\" xmlns:rdkit=\"http://www.rdkit.org/xml\" xmlns:xlink=\"http://www.w3.org/1999/xlink\" version=\"1.1\" baseProfile=\"full\" xml:space=\"preserve\" width=\"450px\" height=\"150px\" viewBox=\"0 0 450 150\">\n",
       "<!-- END OF HEADER -->\n",
       "<rect style=\"opacity:1.0;fill:#FFFFFF;stroke:none\" width=\"450.0\" height=\"150.0\" x=\"0.0\" y=\"0.0\"> </rect>\n",
       "<path class=\"bond-0 atom-0 atom-1\" d=\"M 142.7,137.7 L 142.7,135.5\" style=\"fill:none;fill-rule:evenodd;stroke:#0000FF;stroke-width:2.0px;stroke-linecap:butt;stroke-linejoin:miter;stroke-opacity:1\"/>\n",
       "<path class=\"bond-0 atom-0 atom-1\" d=\"M 142.7,135.5 L 142.6,133.3\" style=\"fill:none;fill-rule:evenodd;stroke:#000000;stroke-width:2.0px;stroke-linecap:butt;stroke-linejoin:miter;stroke-opacity:1\"/>\n",
       "<path class=\"bond-1 atom-2 atom-3\" d=\"M 148.3,122.9 L 148.5,129.7\" style=\"fill:none;fill-rule:evenodd;stroke:#000000;stroke-width:2.0px;stroke-linecap:butt;stroke-linejoin:miter;stroke-opacity:1\"/>\n",
       "<path class=\"bond-2 atom-1 atom-3\" d=\"M 142.6,133.3 L 148.5,129.7\" style=\"fill:none;fill-rule:evenodd;stroke:#000000;stroke-width:2.0px;stroke-linecap:butt;stroke-linejoin:miter;stroke-opacity:1\"/>\n",
       "<path class=\"bond-3 atom-4 atom-5\" d=\"M 154.2,119.4 L 154.0,112.5\" style=\"fill:none;fill-rule:evenodd;stroke:#000000;stroke-width:2.0px;stroke-linecap:butt;stroke-linejoin:miter;stroke-opacity:1\"/>\n",
       "<path class=\"bond-4 atom-2 atom-4\" d=\"M 148.3,122.9 L 154.2,119.4\" style=\"fill:none;fill-rule:evenodd;stroke:#000000;stroke-width:2.0px;stroke-linecap:butt;stroke-linejoin:miter;stroke-opacity:1\"/>\n",
       "<path class=\"bond-5 atom-6 atom-7\" d=\"M 159.8,102.2 L 159.9,109.0\" style=\"fill:none;fill-rule:evenodd;stroke:#000000;stroke-width:2.0px;stroke-linecap:butt;stroke-linejoin:miter;stroke-opacity:1\"/>\n",
       "<path class=\"bond-6 atom-5 atom-7\" d=\"M 154.0,112.5 L 159.9,109.0\" style=\"fill:none;fill-rule:evenodd;stroke:#000000;stroke-width:2.0px;stroke-linecap:butt;stroke-linejoin:miter;stroke-opacity:1\"/>\n",
       "<path class=\"bond-7 atom-8 atom-9\" d=\"M 165.5,91.8 L 165.6,98.7\" style=\"fill:none;fill-rule:evenodd;stroke:#000000;stroke-width:2.0px;stroke-linecap:butt;stroke-linejoin:miter;stroke-opacity:1\"/>\n",
       "<path class=\"bond-8 atom-6 atom-9\" d=\"M 159.8,102.2 L 165.6,98.7\" style=\"fill:none;fill-rule:evenodd;stroke:#000000;stroke-width:2.0px;stroke-linecap:butt;stroke-linejoin:miter;stroke-opacity:1\"/>\n",
       "<path class=\"bond-9 atom-10 atom-11\" d=\"M 171.3,88.3 L 171.2,81.5\" style=\"fill:none;fill-rule:evenodd;stroke:#000000;stroke-width:2.0px;stroke-linecap:butt;stroke-linejoin:miter;stroke-opacity:1\"/>\n",
       "<path class=\"bond-10 atom-8 atom-10\" d=\"M 165.5,91.8 L 171.3,88.3\" style=\"fill:none;fill-rule:evenodd;stroke:#000000;stroke-width:2.0px;stroke-linecap:butt;stroke-linejoin:miter;stroke-opacity:1\"/>\n",
       "<path class=\"bond-11 atom-12 atom-13\" d=\"M 176.9,71.1 L 177.0,77.9\" style=\"fill:none;fill-rule:evenodd;stroke:#000000;stroke-width:2.0px;stroke-linecap:butt;stroke-linejoin:miter;stroke-opacity:1\"/>\n",
       "<path class=\"bond-12 atom-11 atom-13\" d=\"M 171.2,81.5 L 177.0,77.9\" style=\"fill:none;fill-rule:evenodd;stroke:#000000;stroke-width:2.0px;stroke-linecap:butt;stroke-linejoin:miter;stroke-opacity:1\"/>\n",
       "<path class=\"bond-13 atom-14 atom-15\" d=\"M 182.8,67.6 L 182.6,60.8\" style=\"fill:none;fill-rule:evenodd;stroke:#000000;stroke-width:2.0px;stroke-linecap:butt;stroke-linejoin:miter;stroke-opacity:1\"/>\n",
       "<path class=\"bond-14 atom-12 atom-14\" d=\"M 176.9,71.1 L 182.8,67.6\" style=\"fill:none;fill-rule:evenodd;stroke:#000000;stroke-width:2.0px;stroke-linecap:butt;stroke-linejoin:miter;stroke-opacity:1\"/>\n",
       "<path class=\"bond-15 atom-16 atom-17\" d=\"M 188.5,57.2 L 188.3,50.4\" style=\"fill:none;fill-rule:evenodd;stroke:#000000;stroke-width:2.0px;stroke-linecap:butt;stroke-linejoin:miter;stroke-opacity:1\"/>\n",
       "<path class=\"bond-16 atom-15 atom-16\" d=\"M 182.6,60.8 L 188.5,57.2\" style=\"fill:none;fill-rule:evenodd;stroke:#000000;stroke-width:2.0px;stroke-linecap:butt;stroke-linejoin:miter;stroke-opacity:1\"/>\n",
       "<path class=\"bond-17 atom-18 atom-19\" d=\"M 194.1,40.0 L 194.2,46.9\" style=\"fill:none;fill-rule:evenodd;stroke:#000000;stroke-width:2.0px;stroke-linecap:butt;stroke-linejoin:miter;stroke-opacity:1\"/>\n",
       "<path class=\"bond-18 atom-17 atom-19\" d=\"M 188.3,50.4 L 194.2,46.9\" style=\"fill:none;fill-rule:evenodd;stroke:#000000;stroke-width:2.0px;stroke-linecap:butt;stroke-linejoin:miter;stroke-opacity:1\"/>\n",
       "<path class=\"bond-19 atom-20 atom-21\" d=\"M 199.8,29.7 L 199.9,36.5\" style=\"fill:none;fill-rule:evenodd;stroke:#000000;stroke-width:2.0px;stroke-linecap:butt;stroke-linejoin:miter;stroke-opacity:1\"/>\n",
       "<path class=\"bond-20 atom-18 atom-21\" d=\"M 194.1,40.0 L 199.9,36.5\" style=\"fill:none;fill-rule:evenodd;stroke:#000000;stroke-width:2.0px;stroke-linecap:butt;stroke-linejoin:miter;stroke-opacity:1\"/>\n",
       "<path class=\"bond-21 atom-22 atom-23\" d=\"M 205.6,26.1 L 205.5,19.3\" style=\"fill:none;fill-rule:evenodd;stroke:#000000;stroke-width:2.0px;stroke-linecap:butt;stroke-linejoin:miter;stroke-opacity:1\"/>\n",
       "<path class=\"bond-22 atom-23 atom-24\" d=\"M 205.5,19.3 L 211.3,15.8\" style=\"fill:none;fill-rule:evenodd;stroke:#000000;stroke-width:2.0px;stroke-linecap:butt;stroke-linejoin:miter;stroke-opacity:1\"/>\n",
       "<path class=\"bond-22 atom-23 atom-24\" d=\"M 205.7,17.6 L 209.8,15.2\" style=\"fill:none;fill-rule:evenodd;stroke:#000000;stroke-width:2.0px;stroke-linecap:butt;stroke-linejoin:miter;stroke-opacity:1\"/>\n",
       "<path class=\"bond-23 atom-24 atom-25\" d=\"M 211.3,15.8 L 211.2,9.0\" style=\"fill:none;fill-rule:evenodd;stroke:#000000;stroke-width:2.0px;stroke-linecap:butt;stroke-linejoin:miter;stroke-opacity:1\"/>\n",
       "<path class=\"bond-24 atom-25 atom-26\" d=\"M 211.2,9.0 L 205.2,5.7\" style=\"fill:none;fill-rule:evenodd;stroke:#000000;stroke-width:2.0px;stroke-linecap:butt;stroke-linejoin:miter;stroke-opacity:1\"/>\n",
       "<path class=\"bond-24 atom-25 atom-26\" d=\"M 209.6,9.7 L 205.5,7.4\" style=\"fill:none;fill-rule:evenodd;stroke:#000000;stroke-width:2.0px;stroke-linecap:butt;stroke-linejoin:miter;stroke-opacity:1\"/>\n",
       "<path class=\"bond-25 atom-26 atom-27\" d=\"M 205.2,5.7 L 199.4,9.2\" style=\"fill:none;fill-rule:evenodd;stroke:#000000;stroke-width:2.0px;stroke-linecap:butt;stroke-linejoin:miter;stroke-opacity:1\"/>\n",
       "<path class=\"bond-26 atom-27 atom-28\" d=\"M 199.4,9.2 L 199.5,16.0\" style=\"fill:none;fill-rule:evenodd;stroke:#000000;stroke-width:2.0px;stroke-linecap:butt;stroke-linejoin:miter;stroke-opacity:1\"/>\n",
       "<path class=\"bond-26 atom-27 atom-28\" d=\"M 200.8,10.2 L 200.9,15.0\" style=\"fill:none;fill-rule:evenodd;stroke:#000000;stroke-width:2.0px;stroke-linecap:butt;stroke-linejoin:miter;stroke-opacity:1\"/>\n",
       "<path class=\"bond-27 atom-28 atom-23\" d=\"M 199.5,16.0 L 205.5,19.3\" style=\"fill:none;fill-rule:evenodd;stroke:#000000;stroke-width:2.0px;stroke-linecap:butt;stroke-linejoin:miter;stroke-opacity:1\"/>\n",
       "<path class=\"bond-28 atom-20 atom-22\" d=\"M 199.8,29.7 L 205.6,26.1\" style=\"fill:none;fill-rule:evenodd;stroke:#000000;stroke-width:2.0px;stroke-linecap:butt;stroke-linejoin:miter;stroke-opacity:1\"/>\n",
       "<path class=\"bond-29 atom-29 atom-30\" d=\"M 211.6,29.4 L 211.7,36.3\" style=\"fill:none;fill-rule:evenodd;stroke:#000000;stroke-width:2.0px;stroke-linecap:butt;stroke-linejoin:miter;stroke-opacity:1\"/>\n",
       "<path class=\"bond-30 atom-22 atom-29\" d=\"M 205.6,26.1 L 211.6,29.4\" style=\"fill:none;fill-rule:evenodd;stroke:#000000;stroke-width:2.0px;stroke-linecap:butt;stroke-linejoin:miter;stroke-opacity:1\"/>\n",
       "<path class=\"bond-31 atom-31 atom-32\" d=\"M 217.8,46.4 L 217.7,39.6\" style=\"fill:none;fill-rule:evenodd;stroke:#000000;stroke-width:2.0px;stroke-linecap:butt;stroke-linejoin:miter;stroke-opacity:1\"/>\n",
       "<path class=\"bond-32 atom-30 atom-32\" d=\"M 211.7,36.3 L 217.7,39.6\" style=\"fill:none;fill-rule:evenodd;stroke:#000000;stroke-width:2.0px;stroke-linecap:butt;stroke-linejoin:miter;stroke-opacity:1\"/>\n",
       "<path class=\"bond-33 atom-33 atom-34\" d=\"M 223.8,49.7 L 224.0,56.5\" style=\"fill:none;fill-rule:evenodd;stroke:#000000;stroke-width:2.0px;stroke-linecap:butt;stroke-linejoin:miter;stroke-opacity:1\"/>\n",
       "<path class=\"bond-34 atom-31 atom-33\" d=\"M 217.8,46.4 L 223.8,49.7\" style=\"fill:none;fill-rule:evenodd;stroke:#000000;stroke-width:2.0px;stroke-linecap:butt;stroke-linejoin:miter;stroke-opacity:1\"/>\n",
       "<path class=\"bond-35 atom-35 atom-36\" d=\"M 229.9,59.8 L 230.1,66.7\" style=\"fill:none;fill-rule:evenodd;stroke:#000000;stroke-width:2.0px;stroke-linecap:butt;stroke-linejoin:miter;stroke-opacity:1\"/>\n",
       "<path class=\"bond-36 atom-36 atom-37\" d=\"M 230.1,66.7 L 236.0,70.0\" style=\"fill:none;fill-rule:evenodd;stroke:#000000;stroke-width:2.0px;stroke-linecap:butt;stroke-linejoin:miter;stroke-opacity:1\"/>\n",
       "<path class=\"bond-37 atom-37 atom-38\" d=\"M 236.0,70.0 L 236.2,76.8\" style=\"fill:none;fill-rule:evenodd;stroke:#000000;stroke-width:2.0px;stroke-linecap:butt;stroke-linejoin:miter;stroke-opacity:1\"/>\n",
       "<path class=\"bond-38 atom-37 atom-39\" d=\"M 236.0,70.0 L 241.9,66.4\" style=\"fill:none;fill-rule:evenodd;stroke:#000000;stroke-width:2.0px;stroke-linecap:butt;stroke-linejoin:miter;stroke-opacity:1\"/>\n",
       "<path class=\"bond-39 atom-39 atom-40\" d=\"M 241.9,66.4 L 247.9,69.7\" style=\"fill:none;fill-rule:evenodd;stroke:#000000;stroke-width:2.0px;stroke-linecap:butt;stroke-linejoin:miter;stroke-opacity:1\"/>\n",
       "<path class=\"bond-40 atom-34 atom-35\" d=\"M 224.0,56.5 L 229.9,59.8\" style=\"fill:none;fill-rule:evenodd;stroke:#000000;stroke-width:2.0px;stroke-linecap:butt;stroke-linejoin:miter;stroke-opacity:1\"/>\n",
       "<path class=\"bond-41 atom-41 atom-42\" d=\"M 242.3,86.9 L 242.2,80.1\" style=\"fill:none;fill-rule:evenodd;stroke:#000000;stroke-width:2.0px;stroke-linecap:butt;stroke-linejoin:miter;stroke-opacity:1\"/>\n",
       "<path class=\"bond-42 atom-38 atom-42\" d=\"M 236.2,76.8 L 242.2,80.1\" style=\"fill:none;fill-rule:evenodd;stroke:#000000;stroke-width:2.0px;stroke-linecap:butt;stroke-linejoin:miter;stroke-opacity:1\"/>\n",
       "<path class=\"bond-43 atom-43 atom-44\" d=\"M 248.3,90.2 L 248.4,97.1\" style=\"fill:none;fill-rule:evenodd;stroke:#000000;stroke-width:2.0px;stroke-linecap:butt;stroke-linejoin:miter;stroke-opacity:1\"/>\n",
       "<path class=\"bond-44 atom-41 atom-43\" d=\"M 242.3,86.9 L 248.3,90.2\" style=\"fill:none;fill-rule:evenodd;stroke:#000000;stroke-width:2.0px;stroke-linecap:butt;stroke-linejoin:miter;stroke-opacity:1\"/>\n",
       "<path class=\"bond-45 atom-45 atom-46\" d=\"M 253.7,66.2 L 259.7,69.5\" style=\"fill:none;fill-rule:evenodd;stroke:#000000;stroke-width:2.0px;stroke-linecap:butt;stroke-linejoin:miter;stroke-opacity:1\"/>\n",
       "<path class=\"bond-46 atom-40 atom-45\" d=\"M 247.9,69.7 L 253.7,66.2\" style=\"fill:none;fill-rule:evenodd;stroke:#000000;stroke-width:2.0px;stroke-linecap:butt;stroke-linejoin:miter;stroke-opacity:1\"/>\n",
       "<path class=\"bond-47 atom-47 atom-48\" d=\"M 265.6,66.0 L 271.5,69.3\" style=\"fill:none;fill-rule:evenodd;stroke:#000000;stroke-width:2.0px;stroke-linecap:butt;stroke-linejoin:miter;stroke-opacity:1\"/>\n",
       "<path class=\"bond-48 atom-46 atom-47\" d=\"M 259.7,69.5 L 265.6,66.0\" style=\"fill:none;fill-rule:evenodd;stroke:#000000;stroke-width:2.0px;stroke-linecap:butt;stroke-linejoin:miter;stroke-opacity:1\"/>\n",
       "<path class=\"bond-49 atom-49 atom-50\" d=\"M 254.4,100.4 L 254.5,107.2\" style=\"fill:none;fill-rule:evenodd;stroke:#000000;stroke-width:2.0px;stroke-linecap:butt;stroke-linejoin:miter;stroke-opacity:1\"/>\n",
       "<path class=\"bond-50 atom-44 atom-49\" d=\"M 248.4,97.1 L 254.4,100.4\" style=\"fill:none;fill-rule:evenodd;stroke:#000000;stroke-width:2.0px;stroke-linecap:butt;stroke-linejoin:miter;stroke-opacity:1\"/>\n",
       "<path class=\"bond-51 atom-51 atom-52\" d=\"M 283.4,69.1 L 277.4,65.8\" style=\"fill:none;fill-rule:evenodd;stroke:#000000;stroke-width:2.0px;stroke-linecap:butt;stroke-linejoin:miter;stroke-opacity:1\"/>\n",
       "<path class=\"bond-52 atom-48 atom-52\" d=\"M 271.5,69.3 L 277.4,65.8\" style=\"fill:none;fill-rule:evenodd;stroke:#000000;stroke-width:2.0px;stroke-linecap:butt;stroke-linejoin:miter;stroke-opacity:1\"/>\n",
       "<path class=\"bond-53 atom-53 atom-54\" d=\"M 260.6,117.3 L 260.5,110.5\" style=\"fill:none;fill-rule:evenodd;stroke:#000000;stroke-width:2.0px;stroke-linecap:butt;stroke-linejoin:miter;stroke-opacity:1\"/>\n",
       "<path class=\"bond-54 atom-50 atom-54\" d=\"M 254.5,107.2 L 260.5,110.5\" style=\"fill:none;fill-rule:evenodd;stroke:#000000;stroke-width:2.0px;stroke-linecap:butt;stroke-linejoin:miter;stroke-opacity:1\"/>\n",
       "<path class=\"bond-55 atom-55 atom-56\" d=\"M 266.6,120.6 L 272.5,117.1\" style=\"fill:none;fill-rule:evenodd;stroke:#000000;stroke-width:2.0px;stroke-linecap:butt;stroke-linejoin:miter;stroke-opacity:1\"/>\n",
       "<path class=\"bond-56 atom-56 atom-57\" d=\"M 272.5,117.1 L 278.4,120.4\" style=\"fill:none;fill-rule:evenodd;stroke:#000000;stroke-width:2.0px;stroke-linecap:butt;stroke-linejoin:miter;stroke-opacity:1\"/>\n",
       "<path class=\"bond-56 atom-56 atom-57\" d=\"M 274.0,116.4 L 278.2,118.7\" style=\"fill:none;fill-rule:evenodd;stroke:#000000;stroke-width:2.0px;stroke-linecap:butt;stroke-linejoin:miter;stroke-opacity:1\"/>\n",
       "<path class=\"bond-57 atom-57 atom-58\" d=\"M 278.4,120.4 L 284.3,116.9\" style=\"fill:none;fill-rule:evenodd;stroke:#000000;stroke-width:2.0px;stroke-linecap:butt;stroke-linejoin:miter;stroke-opacity:1\"/>\n",
       "<path class=\"bond-58 atom-58 atom-59\" d=\"M 284.3,116.9 L 284.2,110.0\" style=\"fill:none;fill-rule:evenodd;stroke:#000000;stroke-width:2.0px;stroke-linecap:butt;stroke-linejoin:miter;stroke-opacity:1\"/>\n",
       "<path class=\"bond-58 atom-58 atom-59\" d=\"M 282.9,115.9 L 282.8,111.1\" style=\"fill:none;fill-rule:evenodd;stroke:#000000;stroke-width:2.0px;stroke-linecap:butt;stroke-linejoin:miter;stroke-opacity:1\"/>\n",
       "<path class=\"bond-59 atom-59 atom-60\" d=\"M 284.2,110.0 L 278.2,106.7\" style=\"fill:none;fill-rule:evenodd;stroke:#000000;stroke-width:2.0px;stroke-linecap:butt;stroke-linejoin:miter;stroke-opacity:1\"/>\n",
       "<path class=\"bond-60 atom-60 atom-61\" d=\"M 278.2,106.7 L 272.3,110.3\" style=\"fill:none;fill-rule:evenodd;stroke:#000000;stroke-width:2.0px;stroke-linecap:butt;stroke-linejoin:miter;stroke-opacity:1\"/>\n",
       "<path class=\"bond-60 atom-60 atom-61\" d=\"M 278.0,108.4 L 273.9,110.9\" style=\"fill:none;fill-rule:evenodd;stroke:#000000;stroke-width:2.0px;stroke-linecap:butt;stroke-linejoin:miter;stroke-opacity:1\"/>\n",
       "<path class=\"bond-61 atom-61 atom-56\" d=\"M 272.3,110.3 L 272.5,117.1\" style=\"fill:none;fill-rule:evenodd;stroke:#000000;stroke-width:2.0px;stroke-linecap:butt;stroke-linejoin:miter;stroke-opacity:1\"/>\n",
       "<path class=\"bond-62 atom-53 atom-55\" d=\"M 260.6,117.3 L 266.6,120.6\" style=\"fill:none;fill-rule:evenodd;stroke:#000000;stroke-width:2.0px;stroke-linecap:butt;stroke-linejoin:miter;stroke-opacity:1\"/>\n",
       "<path class=\"bond-63 atom-62 atom-63\" d=\"M 289.2,65.5 L 289.1,58.7\" style=\"fill:none;fill-rule:evenodd;stroke:#000000;stroke-width:2.0px;stroke-linecap:butt;stroke-linejoin:miter;stroke-opacity:1\"/>\n",
       "<path class=\"bond-64 atom-63 atom-64\" d=\"M 289.1,58.7 L 294.9,55.2\" style=\"fill:none;fill-rule:evenodd;stroke:#000000;stroke-width:2.0px;stroke-linecap:butt;stroke-linejoin:miter;stroke-opacity:1\"/>\n",
       "<path class=\"bond-64 atom-63 atom-64\" d=\"M 289.2,57.0 L 293.3,54.5\" style=\"fill:none;fill-rule:evenodd;stroke:#000000;stroke-width:2.0px;stroke-linecap:butt;stroke-linejoin:miter;stroke-opacity:1\"/>\n",
       "<path class=\"bond-65 atom-64 atom-65\" d=\"M 294.9,55.2 L 294.8,48.3\" style=\"fill:none;fill-rule:evenodd;stroke:#000000;stroke-width:2.0px;stroke-linecap:butt;stroke-linejoin:miter;stroke-opacity:1\"/>\n",
       "<path class=\"bond-66 atom-65 atom-66\" d=\"M 294.8,48.3 L 288.8,45.0\" style=\"fill:none;fill-rule:evenodd;stroke:#000000;stroke-width:2.0px;stroke-linecap:butt;stroke-linejoin:miter;stroke-opacity:1\"/>\n",
       "<path class=\"bond-66 atom-65 atom-66\" d=\"M 293.2,49.0 L 289.1,46.7\" style=\"fill:none;fill-rule:evenodd;stroke:#000000;stroke-width:2.0px;stroke-linecap:butt;stroke-linejoin:miter;stroke-opacity:1\"/>\n",
       "<path class=\"bond-67 atom-66 atom-67\" d=\"M 288.8,45.0 L 283.0,48.6\" style=\"fill:none;fill-rule:evenodd;stroke:#000000;stroke-width:2.0px;stroke-linecap:butt;stroke-linejoin:miter;stroke-opacity:1\"/>\n",
       "<path class=\"bond-68 atom-67 atom-68\" d=\"M 283.0,48.6 L 283.1,55.4\" style=\"fill:none;fill-rule:evenodd;stroke:#000000;stroke-width:2.0px;stroke-linecap:butt;stroke-linejoin:miter;stroke-opacity:1\"/>\n",
       "<path class=\"bond-68 atom-67 atom-68\" d=\"M 284.4,49.6 L 284.4,54.3\" style=\"fill:none;fill-rule:evenodd;stroke:#000000;stroke-width:2.0px;stroke-linecap:butt;stroke-linejoin:miter;stroke-opacity:1\"/>\n",
       "<path class=\"bond-69 atom-68 atom-63\" d=\"M 283.1,55.4 L 289.1,58.7\" style=\"fill:none;fill-rule:evenodd;stroke:#000000;stroke-width:2.0px;stroke-linecap:butt;stroke-linejoin:miter;stroke-opacity:1\"/>\n",
       "<path class=\"bond-70 atom-51 atom-62\" d=\"M 283.4,69.1 L 289.2,65.5\" style=\"fill:none;fill-rule:evenodd;stroke:#000000;stroke-width:2.0px;stroke-linecap:butt;stroke-linejoin:miter;stroke-opacity:1\"/>\n",
       "<path class=\"bond-71 atom-69 atom-70\" d=\"M 266.7,127.4 L 268.6,128.5\" style=\"fill:none;fill-rule:evenodd;stroke:#000000;stroke-width:2.0px;stroke-linecap:butt;stroke-linejoin:miter;stroke-opacity:1\"/>\n",
       "<path class=\"bond-71 atom-69 atom-70\" d=\"M 268.6,128.5 L 270.5,129.5\" style=\"fill:none;fill-rule:evenodd;stroke:#FF0000;stroke-width:2.0px;stroke-linecap:butt;stroke-linejoin:miter;stroke-opacity:1\"/>\n",
       "<path class=\"bond-72 atom-70 atom-71\" d=\"M 272.8,133.2 L 272.8,135.4\" style=\"fill:none;fill-rule:evenodd;stroke:#FF0000;stroke-width:2.0px;stroke-linecap:butt;stroke-linejoin:miter;stroke-opacity:1\"/>\n",
       "<path class=\"bond-72 atom-70 atom-71\" d=\"M 272.8,135.4 L 272.9,137.6\" style=\"fill:none;fill-rule:evenodd;stroke:#000000;stroke-width:2.0px;stroke-linecap:butt;stroke-linejoin:miter;stroke-opacity:1\"/>\n",
       "<path class=\"bond-73 atom-55 atom-69\" d=\"M 266.6,120.6 L 266.7,127.4\" style=\"fill:none;fill-rule:evenodd;stroke:#000000;stroke-width:2.0px;stroke-linecap:butt;stroke-linejoin:miter;stroke-opacity:1\"/>\n",
       "<path class=\"bond-74 atom-72 atom-73\" d=\"M 295.2,68.8 L 297.2,67.6\" style=\"fill:none;fill-rule:evenodd;stroke:#000000;stroke-width:2.0px;stroke-linecap:butt;stroke-linejoin:miter;stroke-opacity:1\"/>\n",
       "<path class=\"bond-74 atom-72 atom-73\" d=\"M 297.2,67.6 L 299.2,66.4\" style=\"fill:none;fill-rule:evenodd;stroke:#0000FF;stroke-width:2.0px;stroke-linecap:butt;stroke-linejoin:miter;stroke-opacity:1\"/>\n",
       "<path class=\"bond-75 atom-62 atom-72\" d=\"M 289.2,65.5 L 295.2,68.8\" style=\"fill:none;fill-rule:evenodd;stroke:#000000;stroke-width:2.0px;stroke-linecap:butt;stroke-linejoin:miter;stroke-opacity:1\"/>\n",
       "<path class=\"atom-0\" d=\"M 141.8 138.0 L 143.2 140.2 Q 143.3 140.4, 143.6 140.8 Q 143.8 141.2, 143.8 141.3 L 143.8 138.0 L 144.4 138.0 L 144.4 142.2 L 143.8 142.2 L 142.3 139.8 Q 142.1 139.5, 141.9 139.1 Q 141.7 138.8, 141.7 138.7 L 141.7 142.2 L 141.1 142.2 L 141.1 138.0 L 141.8 138.0 \" fill=\"#0000FF\"/>\n",
       "<path class=\"atom-0\" d=\"M 144.8 138.0 L 145.4 138.0 L 145.4 139.8 L 147.6 139.8 L 147.6 138.0 L 148.2 138.0 L 148.2 142.2 L 147.6 142.2 L 147.6 140.3 L 145.4 140.3 L 145.4 142.2 L 144.8 142.2 L 144.8 138.0 \" fill=\"#0000FF\"/>\n",
       "<path class=\"atom-0\" d=\"M 148.7 142.1 Q 148.8 141.8, 149.0 141.7 Q 149.3 141.5, 149.6 141.5 Q 150.0 141.5, 150.3 141.7 Q 150.5 142.0, 150.5 142.4 Q 150.5 142.8, 150.2 143.2 Q 149.9 143.6, 149.3 144.0 L 150.6 144.0 L 150.6 144.3 L 148.7 144.3 L 148.7 144.1 Q 149.2 143.7, 149.5 143.4 Q 149.8 143.1, 150.0 142.9 Q 150.1 142.6, 150.1 142.4 Q 150.1 142.1, 150.0 142.0 Q 149.9 141.8, 149.6 141.8 Q 149.4 141.8, 149.2 141.9 Q 149.1 142.0, 149.0 142.2 L 148.7 142.1 \" fill=\"#0000FF\"/>\n",
       "<path class=\"atom-70\" d=\"M 270.8 130.8 Q 270.8 129.7, 271.3 129.2 Q 271.8 128.6, 272.7 128.6 Q 273.7 128.6, 274.2 129.2 Q 274.7 129.7, 274.7 130.8 Q 274.7 131.8, 274.2 132.4 Q 273.7 133.0, 272.7 133.0 Q 271.8 133.0, 271.3 132.4 Q 270.8 131.8, 270.8 130.8 M 272.7 132.5 Q 273.4 132.5, 273.7 132.0 Q 274.1 131.6, 274.1 130.8 Q 274.1 129.9, 273.7 129.5 Q 273.4 129.1, 272.7 129.1 Q 272.1 129.1, 271.7 129.5 Q 271.4 129.9, 271.4 130.8 Q 271.4 131.6, 271.7 132.0 Q 272.1 132.5, 272.7 132.5 \" fill=\"#FF0000\"/>\n",
       "<path class=\"atom-73\" d=\"M 300.1 63.2 L 301.5 65.4 Q 301.6 65.6, 301.9 66.0 Q 302.1 66.4, 302.1 66.5 L 302.1 63.2 L 302.6 63.2 L 302.6 67.4 L 302.1 67.4 L 300.6 65.0 Q 300.4 64.7, 300.2 64.3 Q 300.0 64.0, 300.0 63.9 L 300.0 67.4 L 299.4 67.4 L 299.4 63.2 L 300.1 63.2 \" fill=\"#0000FF\"/>\n",
       "<path class=\"atom-73\" d=\"M 303.1 63.2 L 303.7 63.2 L 303.7 65.0 L 305.9 65.0 L 305.9 63.2 L 306.5 63.2 L 306.5 67.4 L 305.9 67.4 L 305.9 65.5 L 303.7 65.5 L 303.7 67.4 L 303.1 67.4 L 303.1 63.2 \" fill=\"#0000FF\"/>\n",
       "<path class=\"atom-73\" d=\"M 307.0 67.3 Q 307.1 67.0, 307.3 66.9 Q 307.6 66.7, 307.9 66.7 Q 308.3 66.7, 308.6 66.9 Q 308.8 67.2, 308.8 67.6 Q 308.8 68.0, 308.5 68.4 Q 308.2 68.8, 307.6 69.2 L 308.9 69.2 L 308.9 69.5 L 307.0 69.5 L 307.0 69.3 Q 307.5 68.9, 307.8 68.6 Q 308.1 68.3, 308.3 68.1 Q 308.4 67.9, 308.4 67.6 Q 308.4 67.3, 308.3 67.2 Q 308.2 67.0, 307.9 67.0 Q 307.7 67.0, 307.5 67.1 Q 307.4 67.2, 307.3 67.4 L 307.0 67.3 \" fill=\"#0000FF\"/>\n",
       "</svg>"
      ],
      "text/plain": [
       "<IPython.core.display.SVG object>"
      ]
     },
     "execution_count": 43,
     "metadata": {},
     "output_type": "execute_result"
    }
   ],
   "source": [
    "big_smiles_gen(big)"
   ]
  },
  {
   "cell_type": "code",
   "execution_count": 44,
   "id": "d324da10",
   "metadata": {},
   "outputs": [
    {
     "data": {
      "image/svg+xml": [
       "<svg xmlns=\"http://www.w3.org/2000/svg\" xmlns:rdkit=\"http://www.rdkit.org/xml\" xmlns:xlink=\"http://www.w3.org/1999/xlink\" version=\"1.1\" baseProfile=\"full\" xml:space=\"preserve\" width=\"450px\" height=\"150px\" viewBox=\"0 0 450 150\">\n",
       "<!-- END OF HEADER -->\n",
       "<rect style=\"opacity:1.0;fill:#FFFFFF;stroke:none\" width=\"450.0\" height=\"150.0\" x=\"0.0\" y=\"0.0\"> </rect>\n",
       "<path class=\"bond-0 atom-0 atom-1\" d=\"M 350.5,11.4 L 350.3,16.6\" style=\"fill:none;fill-rule:evenodd;stroke:#0000FF;stroke-width:2.0px;stroke-linecap:butt;stroke-linejoin:miter;stroke-opacity:1\"/>\n",
       "<path class=\"bond-0 atom-0 atom-1\" d=\"M 350.3,16.6 L 350.0,21.8\" style=\"fill:none;fill-rule:evenodd;stroke:#000000;stroke-width:2.0px;stroke-linecap:butt;stroke-linejoin:miter;stroke-opacity:1\"/>\n",
       "<path class=\"bond-1 atom-2 atom-3\" d=\"M 337.8,40.7 L 338.5,27.7\" style=\"fill:none;fill-rule:evenodd;stroke:#000000;stroke-width:2.0px;stroke-linecap:butt;stroke-linejoin:miter;stroke-opacity:1\"/>\n",
       "<path class=\"bond-2 atom-1 atom-3\" d=\"M 350.0,21.8 L 338.5,27.7\" style=\"fill:none;fill-rule:evenodd;stroke:#000000;stroke-width:2.0px;stroke-linecap:butt;stroke-linejoin:miter;stroke-opacity:1\"/>\n",
       "<path class=\"bond-3 atom-4 atom-5\" d=\"M 324.4,85.5 L 313.5,78.5\" style=\"fill:none;fill-rule:evenodd;stroke:#000000;stroke-width:2.0px;stroke-linecap:butt;stroke-linejoin:miter;stroke-opacity:1\"/>\n",
       "<path class=\"bond-4 atom-5 atom-6\" d=\"M 313.5,78.5 L 314.1,65.5\" style=\"fill:none;fill-rule:evenodd;stroke:#000000;stroke-width:2.0px;stroke-linecap:butt;stroke-linejoin:miter;stroke-opacity:1\"/>\n",
       "<path class=\"bond-5 atom-6 atom-7\" d=\"M 314.1,65.5 L 303.2,58.5\" style=\"fill:none;fill-rule:evenodd;stroke:#000000;stroke-width:2.0px;stroke-linecap:butt;stroke-linejoin:miter;stroke-opacity:1\"/>\n",
       "<path class=\"bond-6 atom-6 atom-8\" d=\"M 314.1,65.5 L 325.6,59.6\" style=\"fill:none;fill-rule:evenodd;stroke:#000000;stroke-width:2.0px;stroke-linecap:butt;stroke-linejoin:miter;stroke-opacity:1\"/>\n",
       "<path class=\"bond-7 atom-8 atom-9\" d=\"M 325.6,59.6 L 326.3,46.6\" style=\"fill:none;fill-rule:evenodd;stroke:#000000;stroke-width:2.0px;stroke-linecap:butt;stroke-linejoin:miter;stroke-opacity:1\"/>\n",
       "<path class=\"bond-8 atom-2 atom-9\" d=\"M 337.8,40.7 L 326.3,46.6\" style=\"fill:none;fill-rule:evenodd;stroke:#000000;stroke-width:2.0px;stroke-linecap:butt;stroke-linejoin:miter;stroke-opacity:1\"/>\n",
       "<path class=\"bond-9 atom-10 atom-11\" d=\"M 323.7,98.5 L 334.6,105.5\" style=\"fill:none;fill-rule:evenodd;stroke:#000000;stroke-width:2.0px;stroke-linecap:butt;stroke-linejoin:miter;stroke-opacity:1\"/>\n",
       "<path class=\"bond-10 atom-11 atom-12\" d=\"M 334.6,105.5 L 334.0,118.5\" style=\"fill:none;fill-rule:evenodd;stroke:#000000;stroke-width:2.0px;stroke-linecap:butt;stroke-linejoin:miter;stroke-opacity:1\"/>\n",
       "<path class=\"bond-10 atom-11 atom-12\" d=\"M 337.1,107.6 L 336.7,116.7\" style=\"fill:none;fill-rule:evenodd;stroke:#000000;stroke-width:2.0px;stroke-linecap:butt;stroke-linejoin:miter;stroke-opacity:1\"/>\n",
       "<path class=\"bond-11 atom-12 atom-13\" d=\"M 334.0,118.5 L 344.9,125.5\" style=\"fill:none;fill-rule:evenodd;stroke:#000000;stroke-width:2.0px;stroke-linecap:butt;stroke-linejoin:miter;stroke-opacity:1\"/>\n",
       "<path class=\"bond-12 atom-13 atom-14\" d=\"M 344.9,125.5 L 356.5,119.6\" style=\"fill:none;fill-rule:evenodd;stroke:#000000;stroke-width:2.0px;stroke-linecap:butt;stroke-linejoin:miter;stroke-opacity:1\"/>\n",
       "<path class=\"bond-12 atom-13 atom-14\" d=\"M 345.5,122.3 L 353.6,118.2\" style=\"fill:none;fill-rule:evenodd;stroke:#000000;stroke-width:2.0px;stroke-linecap:butt;stroke-linejoin:miter;stroke-opacity:1\"/>\n",
       "<path class=\"bond-13 atom-14 atom-15\" d=\"M 356.5,119.6 L 357.1,106.6\" style=\"fill:none;fill-rule:evenodd;stroke:#000000;stroke-width:2.0px;stroke-linecap:butt;stroke-linejoin:miter;stroke-opacity:1\"/>\n",
       "<path class=\"bond-14 atom-15 atom-16\" d=\"M 357.1,106.6 L 346.2,99.6\" style=\"fill:none;fill-rule:evenodd;stroke:#000000;stroke-width:2.0px;stroke-linecap:butt;stroke-linejoin:miter;stroke-opacity:1\"/>\n",
       "<path class=\"bond-14 atom-15 atom-16\" d=\"M 354.1,107.7 L 346.4,102.8\" style=\"fill:none;fill-rule:evenodd;stroke:#000000;stroke-width:2.0px;stroke-linecap:butt;stroke-linejoin:miter;stroke-opacity:1\"/>\n",
       "<path class=\"bond-15 atom-16 atom-11\" d=\"M 346.2,99.6 L 334.6,105.5\" style=\"fill:none;fill-rule:evenodd;stroke:#000000;stroke-width:2.0px;stroke-linecap:butt;stroke-linejoin:miter;stroke-opacity:1\"/>\n",
       "<path class=\"bond-16 atom-4 atom-10\" d=\"M 324.4,85.5 L 323.7,98.5\" style=\"fill:none;fill-rule:evenodd;stroke:#000000;stroke-width:2.0px;stroke-linecap:butt;stroke-linejoin:miter;stroke-opacity:1\"/>\n",
       "<path class=\"bond-17 atom-17 atom-18\" d=\"M 312.2,104.4 L 311.5,117.4\" style=\"fill:none;fill-rule:evenodd;stroke:#000000;stroke-width:2.0px;stroke-linecap:butt;stroke-linejoin:miter;stroke-opacity:1\"/>\n",
       "<path class=\"bond-18 atom-18 atom-19\" d=\"M 311.5,117.4 L 300.0,123.3\" style=\"fill:none;fill-rule:evenodd;stroke:#000000;stroke-width:2.0px;stroke-linecap:butt;stroke-linejoin:miter;stroke-opacity:1\"/>\n",
       "<path class=\"bond-18 atom-18 atom-19\" d=\"M 311.0,120.6 L 302.9,124.7\" style=\"fill:none;fill-rule:evenodd;stroke:#000000;stroke-width:2.0px;stroke-linecap:butt;stroke-linejoin:miter;stroke-opacity:1\"/>\n",
       "<path class=\"bond-19 atom-19 atom-20\" d=\"M 300.0,123.3 L 299.4,136.3\" style=\"fill:none;fill-rule:evenodd;stroke:#000000;stroke-width:2.0px;stroke-linecap:butt;stroke-linejoin:miter;stroke-opacity:1\"/>\n",
       "<path class=\"bond-20 atom-20 atom-21\" d=\"M 299.4,136.3 L 310.3,143.3\" style=\"fill:none;fill-rule:evenodd;stroke:#000000;stroke-width:2.0px;stroke-linecap:butt;stroke-linejoin:miter;stroke-opacity:1\"/>\n",
       "<path class=\"bond-20 atom-20 atom-21\" d=\"M 302.4,135.2 L 310.0,140.1\" style=\"fill:none;fill-rule:evenodd;stroke:#000000;stroke-width:2.0px;stroke-linecap:butt;stroke-linejoin:miter;stroke-opacity:1\"/>\n",
       "<path class=\"bond-21 atom-21 atom-22\" d=\"M 310.3,143.3 L 321.8,137.4\" style=\"fill:none;fill-rule:evenodd;stroke:#000000;stroke-width:2.0px;stroke-linecap:butt;stroke-linejoin:miter;stroke-opacity:1\"/>\n",
       "<path class=\"bond-22 atom-22 atom-23\" d=\"M 321.8,137.4 L 322.5,124.4\" style=\"fill:none;fill-rule:evenodd;stroke:#000000;stroke-width:2.0px;stroke-linecap:butt;stroke-linejoin:miter;stroke-opacity:1\"/>\n",
       "<path class=\"bond-22 atom-22 atom-23\" d=\"M 319.3,135.3 L 319.8,126.2\" style=\"fill:none;fill-rule:evenodd;stroke:#000000;stroke-width:2.0px;stroke-linecap:butt;stroke-linejoin:miter;stroke-opacity:1\"/>\n",
       "<path class=\"bond-23 atom-23 atom-18\" d=\"M 322.5,124.4 L 311.5,117.4\" style=\"fill:none;fill-rule:evenodd;stroke:#000000;stroke-width:2.0px;stroke-linecap:butt;stroke-linejoin:miter;stroke-opacity:1\"/>\n",
       "<path class=\"bond-24 atom-10 atom-17\" d=\"M 323.7,98.5 L 312.2,104.4\" style=\"fill:none;fill-rule:evenodd;stroke:#000000;stroke-width:2.0px;stroke-linecap:butt;stroke-linejoin:miter;stroke-opacity:1\"/>\n",
       "<path class=\"bond-25 atom-24 atom-25\" d=\"M 301.3,97.4 L 289.7,103.3\" style=\"fill:none;fill-rule:evenodd;stroke:#000000;stroke-width:2.0px;stroke-linecap:butt;stroke-linejoin:miter;stroke-opacity:1\"/>\n",
       "<path class=\"bond-26 atom-17 atom-24\" d=\"M 312.2,104.4 L 301.3,97.4\" style=\"fill:none;fill-rule:evenodd;stroke:#000000;stroke-width:2.0px;stroke-linecap:butt;stroke-linejoin:miter;stroke-opacity:1\"/>\n",
       "<path class=\"bond-27 atom-26 atom-27\" d=\"M 278.8,96.3 L 267.3,102.2\" style=\"fill:none;fill-rule:evenodd;stroke:#000000;stroke-width:2.0px;stroke-linecap:butt;stroke-linejoin:miter;stroke-opacity:1\"/>\n",
       "<path class=\"bond-28 atom-25 atom-26\" d=\"M 289.7,103.3 L 278.8,96.3\" style=\"fill:none;fill-rule:evenodd;stroke:#000000;stroke-width:2.0px;stroke-linecap:butt;stroke-linejoin:miter;stroke-opacity:1\"/>\n",
       "<path class=\"bond-29 atom-28 atom-29\" d=\"M 256.3,95.2 L 244.8,101.1\" style=\"fill:none;fill-rule:evenodd;stroke:#000000;stroke-width:2.0px;stroke-linecap:butt;stroke-linejoin:miter;stroke-opacity:1\"/>\n",
       "<path class=\"bond-30 atom-27 atom-28\" d=\"M 267.3,102.2 L 256.3,95.2\" style=\"fill:none;fill-rule:evenodd;stroke:#000000;stroke-width:2.0px;stroke-linecap:butt;stroke-linejoin:miter;stroke-opacity:1\"/>\n",
       "<path class=\"bond-31 atom-30 atom-31\" d=\"M 233.9,94.1 L 222.3,100.0\" style=\"fill:none;fill-rule:evenodd;stroke:#000000;stroke-width:2.0px;stroke-linecap:butt;stroke-linejoin:miter;stroke-opacity:1\"/>\n",
       "<path class=\"bond-32 atom-29 atom-30\" d=\"M 244.8,101.1 L 233.9,94.1\" style=\"fill:none;fill-rule:evenodd;stroke:#000000;stroke-width:2.0px;stroke-linecap:butt;stroke-linejoin:miter;stroke-opacity:1\"/>\n",
       "<path class=\"bond-33 atom-32 atom-33\" d=\"M 199.9,98.9 L 211.4,93.0\" style=\"fill:none;fill-rule:evenodd;stroke:#000000;stroke-width:2.0px;stroke-linecap:butt;stroke-linejoin:miter;stroke-opacity:1\"/>\n",
       "<path class=\"bond-34 atom-31 atom-33\" d=\"M 222.3,100.0 L 211.4,93.0\" style=\"fill:none;fill-rule:evenodd;stroke:#000000;stroke-width:2.0px;stroke-linecap:butt;stroke-linejoin:miter;stroke-opacity:1\"/>\n",
       "<path class=\"bond-35 atom-34 atom-35\" d=\"M 177.4,97.8 L 189.0,91.9\" style=\"fill:none;fill-rule:evenodd;stroke:#000000;stroke-width:2.0px;stroke-linecap:butt;stroke-linejoin:miter;stroke-opacity:1\"/>\n",
       "<path class=\"bond-36 atom-32 atom-35\" d=\"M 199.9,98.9 L 189.0,91.9\" style=\"fill:none;fill-rule:evenodd;stroke:#000000;stroke-width:2.0px;stroke-linecap:butt;stroke-linejoin:miter;stroke-opacity:1\"/>\n",
       "<path class=\"bond-37 atom-36 atom-37\" d=\"M 166.5,90.8 L 167.1,77.8\" style=\"fill:none;fill-rule:evenodd;stroke:#000000;stroke-width:2.0px;stroke-linecap:butt;stroke-linejoin:miter;stroke-opacity:1\"/>\n",
       "<path class=\"bond-38 atom-37 atom-38\" d=\"M 167.1,77.8 L 178.7,71.9\" style=\"fill:none;fill-rule:evenodd;stroke:#000000;stroke-width:2.0px;stroke-linecap:butt;stroke-linejoin:miter;stroke-opacity:1\"/>\n",
       "<path class=\"bond-38 atom-37 atom-38\" d=\"M 167.7,74.6 L 175.8,70.5\" style=\"fill:none;fill-rule:evenodd;stroke:#000000;stroke-width:2.0px;stroke-linecap:butt;stroke-linejoin:miter;stroke-opacity:1\"/>\n",
       "<path class=\"bond-39 atom-38 atom-39\" d=\"M 178.7,71.9 L 179.3,58.9\" style=\"fill:none;fill-rule:evenodd;stroke:#000000;stroke-width:2.0px;stroke-linecap:butt;stroke-linejoin:miter;stroke-opacity:1\"/>\n",
       "<path class=\"bond-40 atom-39 atom-40\" d=\"M 179.3,58.9 L 168.4,51.9\" style=\"fill:none;fill-rule:evenodd;stroke:#000000;stroke-width:2.0px;stroke-linecap:butt;stroke-linejoin:miter;stroke-opacity:1\"/>\n",
       "<path class=\"bond-40 atom-39 atom-40\" d=\"M 176.3,60.0 L 168.6,55.1\" style=\"fill:none;fill-rule:evenodd;stroke:#000000;stroke-width:2.0px;stroke-linecap:butt;stroke-linejoin:miter;stroke-opacity:1\"/>\n",
       "<path class=\"bond-41 atom-40 atom-41\" d=\"M 168.4,51.9 L 156.8,57.8\" style=\"fill:none;fill-rule:evenodd;stroke:#000000;stroke-width:2.0px;stroke-linecap:butt;stroke-linejoin:miter;stroke-opacity:1\"/>\n",
       "<path class=\"bond-42 atom-41 atom-42\" d=\"M 156.8,57.8 L 156.2,70.8\" style=\"fill:none;fill-rule:evenodd;stroke:#000000;stroke-width:2.0px;stroke-linecap:butt;stroke-linejoin:miter;stroke-opacity:1\"/>\n",
       "<path class=\"bond-42 atom-41 atom-42\" d=\"M 159.3,59.9 L 158.9,69.0\" style=\"fill:none;fill-rule:evenodd;stroke:#000000;stroke-width:2.0px;stroke-linecap:butt;stroke-linejoin:miter;stroke-opacity:1\"/>\n",
       "<path class=\"bond-43 atom-42 atom-37\" d=\"M 156.2,70.8 L 167.1,77.8\" style=\"fill:none;fill-rule:evenodd;stroke:#000000;stroke-width:2.0px;stroke-linecap:butt;stroke-linejoin:miter;stroke-opacity:1\"/>\n",
       "<path class=\"bond-44 atom-34 atom-36\" d=\"M 177.4,97.8 L 166.5,90.8\" style=\"fill:none;fill-rule:evenodd;stroke:#000000;stroke-width:2.0px;stroke-linecap:butt;stroke-linejoin:miter;stroke-opacity:1\"/>\n",
       "<path class=\"bond-45 atom-43 atom-44\" d=\"M 154.9,96.7 L 144.0,89.7\" style=\"fill:none;fill-rule:evenodd;stroke:#000000;stroke-width:2.0px;stroke-linecap:butt;stroke-linejoin:miter;stroke-opacity:1\"/>\n",
       "<path class=\"bond-46 atom-36 atom-43\" d=\"M 166.5,90.8 L 154.9,96.7\" style=\"fill:none;fill-rule:evenodd;stroke:#000000;stroke-width:2.0px;stroke-linecap:butt;stroke-linejoin:miter;stroke-opacity:1\"/>\n",
       "<path class=\"bond-47 atom-45 atom-46\" d=\"M 121.6,88.6 L 132.5,95.6\" style=\"fill:none;fill-rule:evenodd;stroke:#000000;stroke-width:2.0px;stroke-linecap:butt;stroke-linejoin:miter;stroke-opacity:1\"/>\n",
       "<path class=\"bond-48 atom-44 atom-46\" d=\"M 144.0,89.7 L 132.5,95.6\" style=\"fill:none;fill-rule:evenodd;stroke:#000000;stroke-width:2.0px;stroke-linecap:butt;stroke-linejoin:miter;stroke-opacity:1\"/>\n",
       "<path class=\"bond-49 atom-47 atom-48\" d=\"M 303.8,45.5 L 299.5,42.8\" style=\"fill:none;fill-rule:evenodd;stroke:#000000;stroke-width:2.0px;stroke-linecap:butt;stroke-linejoin:miter;stroke-opacity:1\"/>\n",
       "<path class=\"bond-49 atom-47 atom-48\" d=\"M 299.5,42.8 L 295.3,40.0\" style=\"fill:none;fill-rule:evenodd;stroke:#FF0000;stroke-width:2.0px;stroke-linecap:butt;stroke-linejoin:miter;stroke-opacity:1\"/>\n",
       "<path class=\"bond-50 atom-48 atom-49\" d=\"M 293.0,35.9 L 293.3,30.7\" style=\"fill:none;fill-rule:evenodd;stroke:#FF0000;stroke-width:2.0px;stroke-linecap:butt;stroke-linejoin:miter;stroke-opacity:1\"/>\n",
       "<path class=\"bond-50 atom-48 atom-49\" d=\"M 293.3,30.7 L 293.5,25.5\" style=\"fill:none;fill-rule:evenodd;stroke:#000000;stroke-width:2.0px;stroke-linecap:butt;stroke-linejoin:miter;stroke-opacity:1\"/>\n",
       "<path class=\"bond-51 atom-7 atom-47\" d=\"M 303.2,58.5 L 303.8,45.5\" style=\"fill:none;fill-rule:evenodd;stroke:#000000;stroke-width:2.0px;stroke-linecap:butt;stroke-linejoin:miter;stroke-opacity:1\"/>\n",
       "<path class=\"bond-52 atom-50 atom-51\" d=\"M 110.0,94.5 L 105.6,91.7\" style=\"fill:none;fill-rule:evenodd;stroke:#000000;stroke-width:2.0px;stroke-linecap:butt;stroke-linejoin:miter;stroke-opacity:1\"/>\n",
       "<path class=\"bond-52 atom-50 atom-51\" d=\"M 105.6,91.7 L 101.1,88.8\" style=\"fill:none;fill-rule:evenodd;stroke:#0000FF;stroke-width:2.0px;stroke-linecap:butt;stroke-linejoin:miter;stroke-opacity:1\"/>\n",
       "<path class=\"bond-53 atom-45 atom-50\" d=\"M 121.6,88.6 L 110.0,94.5\" style=\"fill:none;fill-rule:evenodd;stroke:#000000;stroke-width:2.0px;stroke-linecap:butt;stroke-linejoin:miter;stroke-opacity:1\"/>\n",
       "<path class=\"atom-0\" d=\"M 349.7 6.7 L 351.1 8.9 Q 351.2 9.1, 351.4 9.5 Q 351.7 10.0, 351.7 10.0 L 351.7 6.7 L 352.2 6.7 L 352.2 10.9 L 351.7 10.9 L 350.2 8.5 Q 350.0 8.2, 349.8 7.8 Q 349.6 7.5, 349.6 7.4 L 349.6 10.9 L 349.0 10.9 L 349.0 6.7 L 349.7 6.7 \" fill=\"#0000FF\"/>\n",
       "<path class=\"atom-0\" d=\"M 352.7 6.7 L 353.3 6.7 L 353.3 8.5 L 355.5 8.5 L 355.5 6.7 L 356.1 6.7 L 356.1 10.9 L 355.5 10.9 L 355.5 9.0 L 353.3 9.0 L 353.3 10.9 L 352.7 10.9 L 352.7 6.7 \" fill=\"#0000FF\"/>\n",
       "<path class=\"atom-0\" d=\"M 356.6 10.8 Q 356.7 10.5, 356.9 10.4 Q 357.2 10.2, 357.5 10.2 Q 357.9 10.2, 358.2 10.4 Q 358.4 10.7, 358.4 11.1 Q 358.4 11.5, 358.1 11.9 Q 357.8 12.3, 357.2 12.7 L 358.5 12.7 L 358.5 13.0 L 356.6 13.0 L 356.6 12.8 Q 357.1 12.4, 357.4 12.1 Q 357.7 11.9, 357.9 11.6 Q 358.0 11.4, 358.0 11.1 Q 358.0 10.8, 357.9 10.7 Q 357.8 10.5, 357.5 10.5 Q 357.3 10.5, 357.1 10.6 Q 357.0 10.7, 356.9 10.9 L 356.6 10.8 \" fill=\"#0000FF\"/>\n",
       "<path class=\"atom-48\" d=\"M 290.9 38.5 Q 290.9 37.5, 291.4 36.9 Q 292.0 36.3, 292.9 36.3 Q 293.8 36.3, 294.3 36.9 Q 294.8 37.5, 294.8 38.5 Q 294.8 39.5, 294.3 40.1 Q 293.8 40.7, 292.9 40.7 Q 292.0 40.7, 291.4 40.1 Q 290.9 39.5, 290.9 38.5 M 292.9 40.2 Q 293.5 40.2, 293.9 39.8 Q 294.2 39.3, 294.2 38.5 Q 294.2 37.7, 293.9 37.2 Q 293.5 36.8, 292.9 36.8 Q 292.2 36.8, 291.9 37.2 Q 291.5 37.6, 291.5 38.5 Q 291.5 39.3, 291.9 39.8 Q 292.2 40.2, 292.9 40.2 \" fill=\"#FF0000\"/>\n",
       "<path class=\"atom-51\" d=\"M 91.5 85.4 L 92.1 85.4 L 92.1 87.2 L 94.3 87.2 L 94.3 85.4 L 94.9 85.4 L 94.9 89.6 L 94.3 89.6 L 94.3 87.7 L 92.1 87.7 L 92.1 89.6 L 91.5 89.6 L 91.5 85.4 \" fill=\"#0000FF\"/>\n",
       "<path class=\"atom-51\" d=\"M 95.4 89.5 Q 95.5 89.2, 95.7 89.1 Q 96.0 88.9, 96.3 88.9 Q 96.7 88.9, 97.0 89.1 Q 97.2 89.4, 97.2 89.8 Q 97.2 90.2, 96.9 90.6 Q 96.6 91.0, 96.0 91.4 L 97.3 91.4 L 97.3 91.7 L 95.4 91.7 L 95.4 91.5 Q 95.9 91.1, 96.2 90.8 Q 96.5 90.5, 96.7 90.3 Q 96.8 90.0, 96.8 89.8 Q 96.8 89.5, 96.7 89.4 Q 96.5 89.2, 96.3 89.2 Q 96.1 89.2, 95.9 89.3 Q 95.8 89.4, 95.7 89.6 L 95.4 89.5 \" fill=\"#0000FF\"/>\n",
       "<path class=\"atom-51\" d=\"M 98.2 85.4 L 99.6 87.6 Q 99.7 87.8, 99.9 88.2 Q 100.1 88.6, 100.2 88.7 L 100.2 85.4 L 100.7 85.4 L 100.7 89.6 L 100.1 89.6 L 98.6 87.2 Q 98.5 86.9, 98.3 86.5 Q 98.1 86.2, 98.0 86.1 L 98.0 89.6 L 97.5 89.6 L 97.5 85.4 L 98.2 85.4 \" fill=\"#0000FF\"/>\n",
       "</svg>"
      ],
      "text/plain": [
       "<IPython.core.display.SVG object>"
      ]
     },
     "execution_count": 44,
     "metadata": {},
     "output_type": "execute_result"
    }
   ],
   "source": [
    "big_smiles_gen(big)"
   ]
  },
  {
   "cell_type": "code",
   "execution_count": 45,
   "id": "692ceb8e",
   "metadata": {},
   "outputs": [
    {
     "data": {
      "image/svg+xml": [
       "<svg xmlns=\"http://www.w3.org/2000/svg\" xmlns:rdkit=\"http://www.rdkit.org/xml\" xmlns:xlink=\"http://www.w3.org/1999/xlink\" version=\"1.1\" baseProfile=\"full\" xml:space=\"preserve\" width=\"450px\" height=\"150px\" viewBox=\"0 0 450 150\">\n",
       "<!-- END OF HEADER -->\n",
       "<rect style=\"opacity:1.0;fill:#FFFFFF;stroke:none\" width=\"450.0\" height=\"150.0\" x=\"0.0\" y=\"0.0\"> </rect>\n",
       "<path class=\"bond-0 atom-0 atom-1\" d=\"M 387.6,43.3 L 391.1,45.5\" style=\"fill:none;fill-rule:evenodd;stroke:#0000FF;stroke-width:2.0px;stroke-linecap:butt;stroke-linejoin:miter;stroke-opacity:1\"/>\n",
       "<path class=\"bond-0 atom-0 atom-1\" d=\"M 391.1,45.5 L 394.7,47.7\" style=\"fill:none;fill-rule:evenodd;stroke:#000000;stroke-width:2.0px;stroke-linecap:butt;stroke-linejoin:miter;stroke-opacity:1\"/>\n",
       "<path class=\"bond-1 atom-2 atom-3\" d=\"M 394.4,58.3 L 403.5,63.8\" style=\"fill:none;fill-rule:evenodd;stroke:#000000;stroke-width:2.0px;stroke-linecap:butt;stroke-linejoin:miter;stroke-opacity:1\"/>\n",
       "<path class=\"bond-2 atom-1 atom-2\" d=\"M 394.7,47.7 L 394.4,58.3\" style=\"fill:none;fill-rule:evenodd;stroke:#000000;stroke-width:2.0px;stroke-linecap:butt;stroke-linejoin:miter;stroke-opacity:1\"/>\n",
       "<path class=\"bond-3 atom-4 atom-5\" d=\"M 403.3,74.4 L 412.3,79.9\" style=\"fill:none;fill-rule:evenodd;stroke:#000000;stroke-width:2.0px;stroke-linecap:butt;stroke-linejoin:miter;stroke-opacity:1\"/>\n",
       "<path class=\"bond-4 atom-5 atom-6\" d=\"M 412.3,79.9 L 412.1,90.5\" style=\"fill:none;fill-rule:evenodd;stroke:#000000;stroke-width:2.0px;stroke-linecap:butt;stroke-linejoin:miter;stroke-opacity:1\"/>\n",
       "<path class=\"bond-4 atom-5 atom-6\" d=\"M 414.4,81.5 L 414.2,88.9\" style=\"fill:none;fill-rule:evenodd;stroke:#000000;stroke-width:2.0px;stroke-linecap:butt;stroke-linejoin:miter;stroke-opacity:1\"/>\n",
       "<path class=\"bond-5 atom-6 atom-7\" d=\"M 412.1,90.5 L 421.1,96.0\" style=\"fill:none;fill-rule:evenodd;stroke:#000000;stroke-width:2.0px;stroke-linecap:butt;stroke-linejoin:miter;stroke-opacity:1\"/>\n",
       "<path class=\"bond-6 atom-7 atom-8\" d=\"M 421.1,96.0 L 430.4,90.9\" style=\"fill:none;fill-rule:evenodd;stroke:#000000;stroke-width:2.0px;stroke-linecap:butt;stroke-linejoin:miter;stroke-opacity:1\"/>\n",
       "<path class=\"bond-6 atom-7 atom-8\" d=\"M 421.5,93.4 L 428.0,89.8\" style=\"fill:none;fill-rule:evenodd;stroke:#000000;stroke-width:2.0px;stroke-linecap:butt;stroke-linejoin:miter;stroke-opacity:1\"/>\n",
       "<path class=\"bond-7 atom-8 atom-9\" d=\"M 430.4,90.9 L 430.7,80.3\" style=\"fill:none;fill-rule:evenodd;stroke:#000000;stroke-width:2.0px;stroke-linecap:butt;stroke-linejoin:miter;stroke-opacity:1\"/>\n",
       "<path class=\"bond-8 atom-9 atom-10\" d=\"M 430.7,80.3 L 421.6,74.8\" style=\"fill:none;fill-rule:evenodd;stroke:#000000;stroke-width:2.0px;stroke-linecap:butt;stroke-linejoin:miter;stroke-opacity:1\"/>\n",
       "<path class=\"bond-8 atom-9 atom-10\" d=\"M 428.2,81.3 L 421.9,77.4\" style=\"fill:none;fill-rule:evenodd;stroke:#000000;stroke-width:2.0px;stroke-linecap:butt;stroke-linejoin:miter;stroke-opacity:1\"/>\n",
       "<path class=\"bond-9 atom-10 atom-5\" d=\"M 421.6,74.8 L 412.3,79.9\" style=\"fill:none;fill-rule:evenodd;stroke:#000000;stroke-width:2.0px;stroke-linecap:butt;stroke-linejoin:miter;stroke-opacity:1\"/>\n",
       "<path class=\"bond-10 atom-3 atom-4\" d=\"M 403.5,63.8 L 403.3,74.4\" style=\"fill:none;fill-rule:evenodd;stroke:#000000;stroke-width:2.0px;stroke-linecap:butt;stroke-linejoin:miter;stroke-opacity:1\"/>\n",
       "<path class=\"bond-11 atom-11 atom-12\" d=\"M 384.9,73.9 L 394.0,79.5\" style=\"fill:none;fill-rule:evenodd;stroke:#000000;stroke-width:2.0px;stroke-linecap:butt;stroke-linejoin:miter;stroke-opacity:1\"/>\n",
       "<path class=\"bond-12 atom-4 atom-12\" d=\"M 403.3,74.4 L 394.0,79.5\" style=\"fill:none;fill-rule:evenodd;stroke:#000000;stroke-width:2.0px;stroke-linecap:butt;stroke-linejoin:miter;stroke-opacity:1\"/>\n",
       "<path class=\"bond-13 atom-13 atom-14\" d=\"M 375.6,79.0 L 366.5,73.5\" style=\"fill:none;fill-rule:evenodd;stroke:#000000;stroke-width:2.0px;stroke-linecap:butt;stroke-linejoin:miter;stroke-opacity:1\"/>\n",
       "<path class=\"bond-14 atom-11 atom-13\" d=\"M 384.9,73.9 L 375.6,79.0\" style=\"fill:none;fill-rule:evenodd;stroke:#000000;stroke-width:2.0px;stroke-linecap:butt;stroke-linejoin:miter;stroke-opacity:1\"/>\n",
       "<path class=\"bond-15 atom-15 atom-16\" d=\"M 357.2,78.6 L 348.2,73.1\" style=\"fill:none;fill-rule:evenodd;stroke:#000000;stroke-width:2.0px;stroke-linecap:butt;stroke-linejoin:miter;stroke-opacity:1\"/>\n",
       "<path class=\"bond-16 atom-14 atom-15\" d=\"M 366.5,73.5 L 357.2,78.6\" style=\"fill:none;fill-rule:evenodd;stroke:#000000;stroke-width:2.0px;stroke-linecap:butt;stroke-linejoin:miter;stroke-opacity:1\"/>\n",
       "<path class=\"bond-17 atom-17 atom-18\" d=\"M 338.9,78.2 L 338.7,88.8\" style=\"fill:none;fill-rule:evenodd;stroke:#000000;stroke-width:2.0px;stroke-linecap:butt;stroke-linejoin:miter;stroke-opacity:1\"/>\n",
       "<path class=\"bond-18 atom-18 atom-19\" d=\"M 338.7,88.8 L 329.4,93.9\" style=\"fill:none;fill-rule:evenodd;stroke:#000000;stroke-width:2.0px;stroke-linecap:butt;stroke-linejoin:miter;stroke-opacity:1\"/>\n",
       "<path class=\"bond-18 atom-18 atom-19\" d=\"M 338.3,91.4 L 331.8,95.0\" style=\"fill:none;fill-rule:evenodd;stroke:#000000;stroke-width:2.0px;stroke-linecap:butt;stroke-linejoin:miter;stroke-opacity:1\"/>\n",
       "<path class=\"bond-19 atom-19 atom-20\" d=\"M 329.4,93.9 L 329.1,104.5\" style=\"fill:none;fill-rule:evenodd;stroke:#000000;stroke-width:2.0px;stroke-linecap:butt;stroke-linejoin:miter;stroke-opacity:1\"/>\n",
       "<path class=\"bond-20 atom-20 atom-21\" d=\"M 329.1,104.5 L 338.2,110.0\" style=\"fill:none;fill-rule:evenodd;stroke:#000000;stroke-width:2.0px;stroke-linecap:butt;stroke-linejoin:miter;stroke-opacity:1\"/>\n",
       "<path class=\"bond-20 atom-20 atom-21\" d=\"M 331.6,103.5 L 337.9,107.3\" style=\"fill:none;fill-rule:evenodd;stroke:#000000;stroke-width:2.0px;stroke-linecap:butt;stroke-linejoin:miter;stroke-opacity:1\"/>\n",
       "<path class=\"bond-21 atom-21 atom-22\" d=\"M 338.2,110.0 L 347.5,104.9\" style=\"fill:none;fill-rule:evenodd;stroke:#000000;stroke-width:2.0px;stroke-linecap:butt;stroke-linejoin:miter;stroke-opacity:1\"/>\n",
       "<path class=\"bond-22 atom-22 atom-23\" d=\"M 347.5,104.9 L 347.7,94.3\" style=\"fill:none;fill-rule:evenodd;stroke:#000000;stroke-width:2.0px;stroke-linecap:butt;stroke-linejoin:miter;stroke-opacity:1\"/>\n",
       "<path class=\"bond-22 atom-22 atom-23\" d=\"M 345.4,103.2 L 345.6,95.8\" style=\"fill:none;fill-rule:evenodd;stroke:#000000;stroke-width:2.0px;stroke-linecap:butt;stroke-linejoin:miter;stroke-opacity:1\"/>\n",
       "<path class=\"bond-23 atom-23 atom-18\" d=\"M 347.7,94.3 L 338.7,88.8\" style=\"fill:none;fill-rule:evenodd;stroke:#000000;stroke-width:2.0px;stroke-linecap:butt;stroke-linejoin:miter;stroke-opacity:1\"/>\n",
       "<path class=\"bond-24 atom-16 atom-17\" d=\"M 348.2,73.1 L 338.9,78.2\" style=\"fill:none;fill-rule:evenodd;stroke:#000000;stroke-width:2.0px;stroke-linecap:butt;stroke-linejoin:miter;stroke-opacity:1\"/>\n",
       "<path class=\"bond-25 atom-24 atom-25\" d=\"M 320.5,77.8 L 329.8,72.7\" style=\"fill:none;fill-rule:evenodd;stroke:#000000;stroke-width:2.0px;stroke-linecap:butt;stroke-linejoin:miter;stroke-opacity:1\"/>\n",
       "<path class=\"bond-26 atom-17 atom-25\" d=\"M 338.9,78.2 L 329.8,72.7\" style=\"fill:none;fill-rule:evenodd;stroke:#000000;stroke-width:2.0px;stroke-linecap:butt;stroke-linejoin:miter;stroke-opacity:1\"/>\n",
       "<path class=\"bond-27 atom-26 atom-27\" d=\"M 311.5,72.3 L 311.7,61.7\" style=\"fill:none;fill-rule:evenodd;stroke:#000000;stroke-width:2.0px;stroke-linecap:butt;stroke-linejoin:miter;stroke-opacity:1\"/>\n",
       "<path class=\"bond-28 atom-27 atom-28\" d=\"M 311.7,61.7 L 321.0,56.6\" style=\"fill:none;fill-rule:evenodd;stroke:#000000;stroke-width:2.0px;stroke-linecap:butt;stroke-linejoin:miter;stroke-opacity:1\"/>\n",
       "<path class=\"bond-28 atom-27 atom-28\" d=\"M 312.1,59.0 L 318.6,55.5\" style=\"fill:none;fill-rule:evenodd;stroke:#000000;stroke-width:2.0px;stroke-linecap:butt;stroke-linejoin:miter;stroke-opacity:1\"/>\n",
       "<path class=\"bond-29 atom-28 atom-29\" d=\"M 321.0,56.6 L 321.3,46.0\" style=\"fill:none;fill-rule:evenodd;stroke:#000000;stroke-width:2.0px;stroke-linecap:butt;stroke-linejoin:miter;stroke-opacity:1\"/>\n",
       "<path class=\"bond-30 atom-29 atom-30\" d=\"M 321.3,46.0 L 312.2,40.5\" style=\"fill:none;fill-rule:evenodd;stroke:#000000;stroke-width:2.0px;stroke-linecap:butt;stroke-linejoin:miter;stroke-opacity:1\"/>\n",
       "<path class=\"bond-30 atom-29 atom-30\" d=\"M 318.8,47.0 L 312.5,43.1\" style=\"fill:none;fill-rule:evenodd;stroke:#000000;stroke-width:2.0px;stroke-linecap:butt;stroke-linejoin:miter;stroke-opacity:1\"/>\n",
       "<path class=\"bond-31 atom-30 atom-31\" d=\"M 312.2,40.5 L 302.9,45.6\" style=\"fill:none;fill-rule:evenodd;stroke:#000000;stroke-width:2.0px;stroke-linecap:butt;stroke-linejoin:miter;stroke-opacity:1\"/>\n",
       "<path class=\"bond-32 atom-31 atom-32\" d=\"M 302.9,45.6 L 302.7,56.1\" style=\"fill:none;fill-rule:evenodd;stroke:#000000;stroke-width:2.0px;stroke-linecap:butt;stroke-linejoin:miter;stroke-opacity:1\"/>\n",
       "<path class=\"bond-32 atom-31 atom-32\" d=\"M 305.0,47.2 L 304.8,54.6\" style=\"fill:none;fill-rule:evenodd;stroke:#000000;stroke-width:2.0px;stroke-linecap:butt;stroke-linejoin:miter;stroke-opacity:1\"/>\n",
       "<path class=\"bond-33 atom-32 atom-27\" d=\"M 302.7,56.1 L 311.7,61.7\" style=\"fill:none;fill-rule:evenodd;stroke:#000000;stroke-width:2.0px;stroke-linecap:butt;stroke-linejoin:miter;stroke-opacity:1\"/>\n",
       "<path class=\"bond-34 atom-24 atom-26\" d=\"M 320.5,77.8 L 311.5,72.3\" style=\"fill:none;fill-rule:evenodd;stroke:#000000;stroke-width:2.0px;stroke-linecap:butt;stroke-linejoin:miter;stroke-opacity:1\"/>\n",
       "<path class=\"bond-35 atom-33 atom-34\" d=\"M 293.1,71.8 L 302.2,77.3\" style=\"fill:none;fill-rule:evenodd;stroke:#000000;stroke-width:2.0px;stroke-linecap:butt;stroke-linejoin:miter;stroke-opacity:1\"/>\n",
       "<path class=\"bond-36 atom-26 atom-34\" d=\"M 311.5,72.3 L 302.2,77.3\" style=\"fill:none;fill-rule:evenodd;stroke:#000000;stroke-width:2.0px;stroke-linecap:butt;stroke-linejoin:miter;stroke-opacity:1\"/>\n",
       "<path class=\"bond-37 atom-35 atom-36\" d=\"M 274.8,71.4 L 283.8,76.9\" style=\"fill:none;fill-rule:evenodd;stroke:#000000;stroke-width:2.0px;stroke-linecap:butt;stroke-linejoin:miter;stroke-opacity:1\"/>\n",
       "<path class=\"bond-38 atom-33 atom-36\" d=\"M 293.1,71.8 L 283.8,76.9\" style=\"fill:none;fill-rule:evenodd;stroke:#000000;stroke-width:2.0px;stroke-linecap:butt;stroke-linejoin:miter;stroke-opacity:1\"/>\n",
       "<path class=\"bond-39 atom-37 atom-38\" d=\"M 256.4,71.0 L 265.5,76.5\" style=\"fill:none;fill-rule:evenodd;stroke:#000000;stroke-width:2.0px;stroke-linecap:butt;stroke-linejoin:miter;stroke-opacity:1\"/>\n",
       "<path class=\"bond-40 atom-35 atom-38\" d=\"M 274.8,71.4 L 265.5,76.5\" style=\"fill:none;fill-rule:evenodd;stroke:#000000;stroke-width:2.0px;stroke-linecap:butt;stroke-linejoin:miter;stroke-opacity:1\"/>\n",
       "<path class=\"bond-41 atom-39 atom-40\" d=\"M 238.1,70.6 L 247.1,76.1\" style=\"fill:none;fill-rule:evenodd;stroke:#000000;stroke-width:2.0px;stroke-linecap:butt;stroke-linejoin:miter;stroke-opacity:1\"/>\n",
       "<path class=\"bond-42 atom-37 atom-40\" d=\"M 256.4,71.0 L 247.1,76.1\" style=\"fill:none;fill-rule:evenodd;stroke:#000000;stroke-width:2.0px;stroke-linecap:butt;stroke-linejoin:miter;stroke-opacity:1\"/>\n",
       "<path class=\"bond-43 atom-41 atom-42\" d=\"M 219.7,70.1 L 228.8,75.6\" style=\"fill:none;fill-rule:evenodd;stroke:#000000;stroke-width:2.0px;stroke-linecap:butt;stroke-linejoin:miter;stroke-opacity:1\"/>\n",
       "<path class=\"bond-44 atom-39 atom-42\" d=\"M 238.1,70.6 L 228.8,75.6\" style=\"fill:none;fill-rule:evenodd;stroke:#000000;stroke-width:2.0px;stroke-linecap:butt;stroke-linejoin:miter;stroke-opacity:1\"/>\n",
       "<path class=\"bond-45 atom-43 atom-44\" d=\"M 210.4,75.2 L 201.4,69.7\" style=\"fill:none;fill-rule:evenodd;stroke:#000000;stroke-width:2.0px;stroke-linecap:butt;stroke-linejoin:miter;stroke-opacity:1\"/>\n",
       "<path class=\"bond-46 atom-41 atom-43\" d=\"M 219.7,70.1 L 210.4,75.2\" style=\"fill:none;fill-rule:evenodd;stroke:#000000;stroke-width:2.0px;stroke-linecap:butt;stroke-linejoin:miter;stroke-opacity:1\"/>\n",
       "<path class=\"bond-47 atom-45 atom-46\" d=\"M 183.0,69.3 L 192.1,74.8\" style=\"fill:none;fill-rule:evenodd;stroke:#000000;stroke-width:2.0px;stroke-linecap:butt;stroke-linejoin:miter;stroke-opacity:1\"/>\n",
       "<path class=\"bond-48 atom-44 atom-46\" d=\"M 201.4,69.7 L 192.1,74.8\" style=\"fill:none;fill-rule:evenodd;stroke:#000000;stroke-width:2.0px;stroke-linecap:butt;stroke-linejoin:miter;stroke-opacity:1\"/>\n",
       "<path class=\"bond-49 atom-47 atom-48\" d=\"M 173.7,74.4 L 164.7,68.9\" style=\"fill:none;fill-rule:evenodd;stroke:#000000;stroke-width:2.0px;stroke-linecap:butt;stroke-linejoin:miter;stroke-opacity:1\"/>\n",
       "<path class=\"bond-50 atom-45 atom-47\" d=\"M 183.0,69.3 L 173.7,74.4\" style=\"fill:none;fill-rule:evenodd;stroke:#000000;stroke-width:2.0px;stroke-linecap:butt;stroke-linejoin:miter;stroke-opacity:1\"/>\n",
       "<path class=\"bond-51 atom-49 atom-50\" d=\"M 146.3,68.4 L 155.4,74.0\" style=\"fill:none;fill-rule:evenodd;stroke:#000000;stroke-width:2.0px;stroke-linecap:butt;stroke-linejoin:miter;stroke-opacity:1\"/>\n",
       "<path class=\"bond-52 atom-48 atom-50\" d=\"M 164.7,68.9 L 155.4,74.0\" style=\"fill:none;fill-rule:evenodd;stroke:#000000;stroke-width:2.0px;stroke-linecap:butt;stroke-linejoin:miter;stroke-opacity:1\"/>\n",
       "<path class=\"bond-53 atom-51 atom-52\" d=\"M 137.0,73.5 L 128.0,68.0\" style=\"fill:none;fill-rule:evenodd;stroke:#000000;stroke-width:2.0px;stroke-linecap:butt;stroke-linejoin:miter;stroke-opacity:1\"/>\n",
       "<path class=\"bond-54 atom-49 atom-51\" d=\"M 146.3,68.4 L 137.0,73.5\" style=\"fill:none;fill-rule:evenodd;stroke:#000000;stroke-width:2.0px;stroke-linecap:butt;stroke-linejoin:miter;stroke-opacity:1\"/>\n",
       "<path class=\"bond-55 atom-53 atom-54\" d=\"M 118.7,73.1 L 109.6,67.6\" style=\"fill:none;fill-rule:evenodd;stroke:#000000;stroke-width:2.0px;stroke-linecap:butt;stroke-linejoin:miter;stroke-opacity:1\"/>\n",
       "<path class=\"bond-56 atom-52 atom-53\" d=\"M 128.0,68.0 L 118.7,73.1\" style=\"fill:none;fill-rule:evenodd;stroke:#000000;stroke-width:2.0px;stroke-linecap:butt;stroke-linejoin:miter;stroke-opacity:1\"/>\n",
       "<path class=\"bond-57 atom-55 atom-56\" d=\"M 100.3,72.7 L 100.1,83.3\" style=\"fill:none;fill-rule:evenodd;stroke:#000000;stroke-width:2.0px;stroke-linecap:butt;stroke-linejoin:miter;stroke-opacity:1\"/>\n",
       "<path class=\"bond-58 atom-56 atom-57\" d=\"M 100.1,83.3 L 90.8,88.4\" style=\"fill:none;fill-rule:evenodd;stroke:#000000;stroke-width:2.0px;stroke-linecap:butt;stroke-linejoin:miter;stroke-opacity:1\"/>\n",
       "<path class=\"bond-58 atom-56 atom-57\" d=\"M 99.7,85.9 L 93.2,89.5\" style=\"fill:none;fill-rule:evenodd;stroke:#000000;stroke-width:2.0px;stroke-linecap:butt;stroke-linejoin:miter;stroke-opacity:1\"/>\n",
       "<path class=\"bond-59 atom-57 atom-58\" d=\"M 90.8,88.4 L 90.5,99.0\" style=\"fill:none;fill-rule:evenodd;stroke:#000000;stroke-width:2.0px;stroke-linecap:butt;stroke-linejoin:miter;stroke-opacity:1\"/>\n",
       "<path class=\"bond-60 atom-58 atom-59\" d=\"M 90.5,99.0 L 99.6,104.5\" style=\"fill:none;fill-rule:evenodd;stroke:#000000;stroke-width:2.0px;stroke-linecap:butt;stroke-linejoin:miter;stroke-opacity:1\"/>\n",
       "<path class=\"bond-60 atom-58 atom-59\" d=\"M 93.0,98.0 L 99.3,101.8\" style=\"fill:none;fill-rule:evenodd;stroke:#000000;stroke-width:2.0px;stroke-linecap:butt;stroke-linejoin:miter;stroke-opacity:1\"/>\n",
       "<path class=\"bond-61 atom-59 atom-60\" d=\"M 99.6,104.5 L 108.9,99.4\" style=\"fill:none;fill-rule:evenodd;stroke:#000000;stroke-width:2.0px;stroke-linecap:butt;stroke-linejoin:miter;stroke-opacity:1\"/>\n",
       "<path class=\"bond-62 atom-60 atom-61\" d=\"M 108.9,99.4 L 109.1,88.8\" style=\"fill:none;fill-rule:evenodd;stroke:#000000;stroke-width:2.0px;stroke-linecap:butt;stroke-linejoin:miter;stroke-opacity:1\"/>\n",
       "<path class=\"bond-62 atom-60 atom-61\" d=\"M 106.8,97.8 L 107.0,90.3\" style=\"fill:none;fill-rule:evenodd;stroke:#000000;stroke-width:2.0px;stroke-linecap:butt;stroke-linejoin:miter;stroke-opacity:1\"/>\n",
       "<path class=\"bond-63 atom-61 atom-56\" d=\"M 109.1,88.8 L 100.1,83.3\" style=\"fill:none;fill-rule:evenodd;stroke:#000000;stroke-width:2.0px;stroke-linecap:butt;stroke-linejoin:miter;stroke-opacity:1\"/>\n",
       "<path class=\"bond-64 atom-54 atom-55\" d=\"M 109.6,67.6 L 100.3,72.7\" style=\"fill:none;fill-rule:evenodd;stroke:#000000;stroke-width:2.0px;stroke-linecap:butt;stroke-linejoin:miter;stroke-opacity:1\"/>\n",
       "<path class=\"bond-65 atom-62 atom-63\" d=\"M 91.3,67.2 L 82.0,72.3\" style=\"fill:none;fill-rule:evenodd;stroke:#000000;stroke-width:2.0px;stroke-linecap:butt;stroke-linejoin:miter;stroke-opacity:1\"/>\n",
       "<path class=\"bond-66 atom-55 atom-62\" d=\"M 100.3,72.7 L 91.3,67.2\" style=\"fill:none;fill-rule:evenodd;stroke:#000000;stroke-width:2.0px;stroke-linecap:butt;stroke-linejoin:miter;stroke-opacity:1\"/>\n",
       "<path class=\"bond-67 atom-64 atom-65\" d=\"M 63.6,71.8 L 72.9,66.8\" style=\"fill:none;fill-rule:evenodd;stroke:#000000;stroke-width:2.0px;stroke-linecap:butt;stroke-linejoin:miter;stroke-opacity:1\"/>\n",
       "<path class=\"bond-68 atom-63 atom-65\" d=\"M 82.0,72.3 L 72.9,66.8\" style=\"fill:none;fill-rule:evenodd;stroke:#000000;stroke-width:2.0px;stroke-linecap:butt;stroke-linejoin:miter;stroke-opacity:1\"/>\n",
       "<path class=\"bond-69 atom-66 atom-67\" d=\"M 54.6,66.3 L 45.3,71.4\" style=\"fill:none;fill-rule:evenodd;stroke:#000000;stroke-width:2.0px;stroke-linecap:butt;stroke-linejoin:miter;stroke-opacity:1\"/>\n",
       "<path class=\"bond-70 atom-64 atom-66\" d=\"M 63.6,71.8 L 54.6,66.3\" style=\"fill:none;fill-rule:evenodd;stroke:#000000;stroke-width:2.0px;stroke-linecap:butt;stroke-linejoin:miter;stroke-opacity:1\"/>\n",
       "<path class=\"bond-71 atom-68 atom-69\" d=\"M 36.2,65.9 L 32.5,67.9\" style=\"fill:none;fill-rule:evenodd;stroke:#000000;stroke-width:2.0px;stroke-linecap:butt;stroke-linejoin:miter;stroke-opacity:1\"/>\n",
       "<path class=\"bond-71 atom-68 atom-69\" d=\"M 32.5,67.9 L 28.9,69.9\" style=\"fill:none;fill-rule:evenodd;stroke:#0000FF;stroke-width:2.0px;stroke-linecap:butt;stroke-linejoin:miter;stroke-opacity:1\"/>\n",
       "<path class=\"bond-72 atom-67 atom-68\" d=\"M 45.3,71.4 L 36.2,65.9\" style=\"fill:none;fill-rule:evenodd;stroke:#000000;stroke-width:2.0px;stroke-linecap:butt;stroke-linejoin:miter;stroke-opacity:1\"/>\n",
       "<path class=\"atom-0\" d=\"M 378.1 40.0 L 378.6 40.0 L 378.6 41.8 L 380.8 41.8 L 380.8 40.0 L 381.4 40.0 L 381.4 44.3 L 380.8 44.3 L 380.8 42.3 L 378.6 42.3 L 378.6 44.3 L 378.1 44.3 L 378.1 40.0 \" fill=\"#0000FF\"/>\n",
       "<path class=\"atom-0\" d=\"M 381.9 44.1 Q 382.0 43.9, 382.2 43.7 Q 382.5 43.6, 382.8 43.6 Q 383.3 43.6, 383.5 43.8 Q 383.7 44.0, 383.7 44.4 Q 383.7 44.9, 383.4 45.2 Q 383.1 45.6, 382.5 46.1 L 383.8 46.1 L 383.8 46.4 L 381.9 46.4 L 381.9 46.1 Q 382.4 45.8, 382.7 45.5 Q 383.0 45.2, 383.2 45.0 Q 383.3 44.7, 383.3 44.5 Q 383.3 44.2, 383.2 44.0 Q 383.1 43.9, 382.8 43.9 Q 382.6 43.9, 382.5 44.0 Q 382.3 44.1, 382.2 44.3 L 381.9 44.1 \" fill=\"#0000FF\"/>\n",
       "<path class=\"atom-0\" d=\"M 384.7 40.0 L 386.1 42.3 Q 386.2 42.5, 386.4 42.9 Q 386.7 43.3, 386.7 43.3 L 386.7 40.0 L 387.2 40.0 L 387.2 44.3 L 386.7 44.3 L 385.2 41.8 Q 385.0 41.5, 384.8 41.2 Q 384.6 40.9, 384.6 40.8 L 384.6 44.3 L 384.0 44.3 L 384.0 40.0 L 384.7 40.0 \" fill=\"#0000FF\"/>\n",
       "<path class=\"atom-69\" d=\"M 19.3 68.9 L 19.9 68.9 L 19.9 70.7 L 22.1 70.7 L 22.1 68.9 L 22.7 68.9 L 22.7 73.1 L 22.1 73.1 L 22.1 71.2 L 19.9 71.2 L 19.9 73.1 L 19.3 73.1 L 19.3 68.9 \" fill=\"#0000FF\"/>\n",
       "<path class=\"atom-69\" d=\"M 23.2 73.0 Q 23.3 72.7, 23.5 72.6 Q 23.8 72.4, 24.1 72.4 Q 24.5 72.4, 24.8 72.6 Q 25.0 72.9, 25.0 73.3 Q 25.0 73.7, 24.7 74.1 Q 24.4 74.5, 23.8 74.9 L 25.1 74.9 L 25.1 75.2 L 23.2 75.2 L 23.2 75.0 Q 23.7 74.6, 24.0 74.3 Q 24.3 74.1, 24.5 73.8 Q 24.6 73.6, 24.6 73.3 Q 24.6 73.0, 24.5 72.9 Q 24.4 72.7, 24.1 72.7 Q 23.9 72.7, 23.7 72.8 Q 23.6 72.9, 23.5 73.1 L 23.2 73.0 \" fill=\"#0000FF\"/>\n",
       "<path class=\"atom-69\" d=\"M 26.0 68.9 L 27.4 71.1 Q 27.5 71.3, 27.7 71.7 Q 28.0 72.2, 28.0 72.2 L 28.0 68.9 L 28.5 68.9 L 28.5 73.1 L 27.9 73.1 L 26.5 70.7 Q 26.3 70.4, 26.1 70.0 Q 25.9 69.7, 25.9 69.6 L 25.9 73.1 L 25.3 73.1 L 25.3 68.9 L 26.0 68.9 \" fill=\"#0000FF\"/>\n",
       "</svg>"
      ],
      "text/plain": [
       "<IPython.core.display.SVG object>"
      ]
     },
     "execution_count": 45,
     "metadata": {},
     "output_type": "execute_result"
    }
   ],
   "source": [
    "big_smiles_gen(big)"
   ]
  },
  {
   "cell_type": "code",
   "execution_count": 46,
   "id": "e33d91f8",
   "metadata": {},
   "outputs": [
    {
     "data": {
      "image/svg+xml": [
       "<svg xmlns=\"http://www.w3.org/2000/svg\" xmlns:rdkit=\"http://www.rdkit.org/xml\" xmlns:xlink=\"http://www.w3.org/1999/xlink\" version=\"1.1\" baseProfile=\"full\" xml:space=\"preserve\" width=\"450px\" height=\"150px\" viewBox=\"0 0 450 150\">\n",
       "<!-- END OF HEADER -->\n",
       "<rect style=\"opacity:1.0;fill:#FFFFFF;stroke:none\" width=\"450.0\" height=\"150.0\" x=\"0.0\" y=\"0.0\"> </rect>\n",
       "<path class=\"bond-0 atom-0 atom-1\" d=\"M 386.0,68.0 L 389.4,69.8\" style=\"fill:none;fill-rule:evenodd;stroke:#0000FF;stroke-width:2.0px;stroke-linecap:butt;stroke-linejoin:miter;stroke-opacity:1\"/>\n",
       "<path class=\"bond-0 atom-0 atom-1\" d=\"M 389.4,69.8 L 392.9,71.6\" style=\"fill:none;fill-rule:evenodd;stroke:#000000;stroke-width:2.0px;stroke-linecap:butt;stroke-linejoin:miter;stroke-opacity:1\"/>\n",
       "<path class=\"bond-1 atom-2 atom-3\" d=\"M 402.2,86.3 L 393.3,81.6\" style=\"fill:none;fill-rule:evenodd;stroke:#000000;stroke-width:2.0px;stroke-linecap:butt;stroke-linejoin:miter;stroke-opacity:1\"/>\n",
       "<path class=\"bond-2 atom-1 atom-3\" d=\"M 392.9,71.6 L 393.3,81.6\" style=\"fill:none;fill-rule:evenodd;stroke:#000000;stroke-width:2.0px;stroke-linecap:butt;stroke-linejoin:miter;stroke-opacity:1\"/>\n",
       "<path class=\"bond-3 atom-4 atom-5\" d=\"M 402.5,96.3 L 411.4,101.0\" style=\"fill:none;fill-rule:evenodd;stroke:#000000;stroke-width:2.0px;stroke-linecap:butt;stroke-linejoin:miter;stroke-opacity:1\"/>\n",
       "<path class=\"bond-4 atom-5 atom-6\" d=\"M 411.4,101.0 L 411.8,111.0\" style=\"fill:none;fill-rule:evenodd;stroke:#000000;stroke-width:2.0px;stroke-linecap:butt;stroke-linejoin:miter;stroke-opacity:1\"/>\n",
       "<path class=\"bond-4 atom-5 atom-6\" d=\"M 413.5,102.4 L 413.7,109.4\" style=\"fill:none;fill-rule:evenodd;stroke:#000000;stroke-width:2.0px;stroke-linecap:butt;stroke-linejoin:miter;stroke-opacity:1\"/>\n",
       "<path class=\"bond-5 atom-6 atom-7\" d=\"M 411.8,111.0 L 420.7,115.7\" style=\"fill:none;fill-rule:evenodd;stroke:#000000;stroke-width:2.0px;stroke-linecap:butt;stroke-linejoin:miter;stroke-opacity:1\"/>\n",
       "<path class=\"bond-6 atom-7 atom-8\" d=\"M 420.7,115.7 L 429.1,110.4\" style=\"fill:none;fill-rule:evenodd;stroke:#000000;stroke-width:2.0px;stroke-linecap:butt;stroke-linejoin:miter;stroke-opacity:1\"/>\n",
       "<path class=\"bond-6 atom-7 atom-8\" d=\"M 420.9,113.2 L 426.8,109.5\" style=\"fill:none;fill-rule:evenodd;stroke:#000000;stroke-width:2.0px;stroke-linecap:butt;stroke-linejoin:miter;stroke-opacity:1\"/>\n",
       "<path class=\"bond-7 atom-8 atom-9\" d=\"M 429.1,110.4 L 428.8,100.3\" style=\"fill:none;fill-rule:evenodd;stroke:#000000;stroke-width:2.0px;stroke-linecap:butt;stroke-linejoin:miter;stroke-opacity:1\"/>\n",
       "<path class=\"bond-8 atom-9 atom-10\" d=\"M 428.8,100.3 L 419.9,95.7\" style=\"fill:none;fill-rule:evenodd;stroke:#000000;stroke-width:2.0px;stroke-linecap:butt;stroke-linejoin:miter;stroke-opacity:1\"/>\n",
       "<path class=\"bond-8 atom-9 atom-10\" d=\"M 426.5,101.4 L 420.3,98.1\" style=\"fill:none;fill-rule:evenodd;stroke:#000000;stroke-width:2.0px;stroke-linecap:butt;stroke-linejoin:miter;stroke-opacity:1\"/>\n",
       "<path class=\"bond-9 atom-10 atom-5\" d=\"M 419.9,95.7 L 411.4,101.0\" style=\"fill:none;fill-rule:evenodd;stroke:#000000;stroke-width:2.0px;stroke-linecap:butt;stroke-linejoin:miter;stroke-opacity:1\"/>\n",
       "<path class=\"bond-10 atom-2 atom-4\" d=\"M 402.2,86.3 L 402.5,96.3\" style=\"fill:none;fill-rule:evenodd;stroke:#000000;stroke-width:2.0px;stroke-linecap:butt;stroke-linejoin:miter;stroke-opacity:1\"/>\n",
       "<path class=\"bond-11 atom-11 atom-12\" d=\"M 394.1,101.7 L 394.4,111.7\" style=\"fill:none;fill-rule:evenodd;stroke:#000000;stroke-width:2.0px;stroke-linecap:butt;stroke-linejoin:miter;stroke-opacity:1\"/>\n",
       "<path class=\"bond-12 atom-12 atom-13\" d=\"M 394.4,111.7 L 386.0,117.0\" style=\"fill:none;fill-rule:evenodd;stroke:#000000;stroke-width:2.0px;stroke-linecap:butt;stroke-linejoin:miter;stroke-opacity:1\"/>\n",
       "<path class=\"bond-12 atom-12 atom-13\" d=\"M 394.2,114.2 L 388.3,117.9\" style=\"fill:none;fill-rule:evenodd;stroke:#000000;stroke-width:2.0px;stroke-linecap:butt;stroke-linejoin:miter;stroke-opacity:1\"/>\n",
       "<path class=\"bond-13 atom-13 atom-14\" d=\"M 386.0,117.0 L 386.3,127.0\" style=\"fill:none;fill-rule:evenodd;stroke:#000000;stroke-width:2.0px;stroke-linecap:butt;stroke-linejoin:miter;stroke-opacity:1\"/>\n",
       "<path class=\"bond-14 atom-14 atom-15\" d=\"M 386.3,127.0 L 395.2,131.7\" style=\"fill:none;fill-rule:evenodd;stroke:#000000;stroke-width:2.0px;stroke-linecap:butt;stroke-linejoin:miter;stroke-opacity:1\"/>\n",
       "<path class=\"bond-14 atom-14 atom-15\" d=\"M 388.6,126.0 L 394.8,129.2\" style=\"fill:none;fill-rule:evenodd;stroke:#000000;stroke-width:2.0px;stroke-linecap:butt;stroke-linejoin:miter;stroke-opacity:1\"/>\n",
       "<path class=\"bond-15 atom-15 atom-16\" d=\"M 395.2,131.7 L 403.7,126.4\" style=\"fill:none;fill-rule:evenodd;stroke:#000000;stroke-width:2.0px;stroke-linecap:butt;stroke-linejoin:miter;stroke-opacity:1\"/>\n",
       "<path class=\"bond-16 atom-16 atom-17\" d=\"M 403.7,126.4 L 403.3,116.4\" style=\"fill:none;fill-rule:evenodd;stroke:#000000;stroke-width:2.0px;stroke-linecap:butt;stroke-linejoin:miter;stroke-opacity:1\"/>\n",
       "<path class=\"bond-16 atom-16 atom-17\" d=\"M 401.6,125.0 L 401.4,117.9\" style=\"fill:none;fill-rule:evenodd;stroke:#000000;stroke-width:2.0px;stroke-linecap:butt;stroke-linejoin:miter;stroke-opacity:1\"/>\n",
       "<path class=\"bond-17 atom-17 atom-12\" d=\"M 403.3,116.4 L 394.4,111.7\" style=\"fill:none;fill-rule:evenodd;stroke:#000000;stroke-width:2.0px;stroke-linecap:butt;stroke-linejoin:miter;stroke-opacity:1\"/>\n",
       "<path class=\"bond-18 atom-4 atom-11\" d=\"M 402.5,96.3 L 394.1,101.7\" style=\"fill:none;fill-rule:evenodd;stroke:#000000;stroke-width:2.0px;stroke-linecap:butt;stroke-linejoin:miter;stroke-opacity:1\"/>\n",
       "<path class=\"bond-19 atom-18 atom-19\" d=\"M 385.2,97.0 L 376.7,102.3\" style=\"fill:none;fill-rule:evenodd;stroke:#000000;stroke-width:2.0px;stroke-linecap:butt;stroke-linejoin:miter;stroke-opacity:1\"/>\n",
       "<path class=\"bond-20 atom-11 atom-18\" d=\"M 394.1,101.7 L 385.2,97.0\" style=\"fill:none;fill-rule:evenodd;stroke:#000000;stroke-width:2.0px;stroke-linecap:butt;stroke-linejoin:miter;stroke-opacity:1\"/>\n",
       "<path class=\"bond-21 atom-20 atom-21\" d=\"M 367.8,97.7 L 359.4,103.0\" style=\"fill:none;fill-rule:evenodd;stroke:#000000;stroke-width:2.0px;stroke-linecap:butt;stroke-linejoin:miter;stroke-opacity:1\"/>\n",
       "<path class=\"bond-22 atom-19 atom-20\" d=\"M 376.7,102.3 L 367.8,97.7\" style=\"fill:none;fill-rule:evenodd;stroke:#000000;stroke-width:2.0px;stroke-linecap:butt;stroke-linejoin:miter;stroke-opacity:1\"/>\n",
       "<path class=\"bond-23 atom-22 atom-23\" d=\"M 350.5,98.3 L 342.0,103.7\" style=\"fill:none;fill-rule:evenodd;stroke:#000000;stroke-width:2.0px;stroke-linecap:butt;stroke-linejoin:miter;stroke-opacity:1\"/>\n",
       "<path class=\"bond-24 atom-21 atom-22\" d=\"M 359.4,103.0 L 350.5,98.3\" style=\"fill:none;fill-rule:evenodd;stroke:#000000;stroke-width:2.0px;stroke-linecap:butt;stroke-linejoin:miter;stroke-opacity:1\"/>\n",
       "<path class=\"bond-25 atom-24 atom-25\" d=\"M 333.1,99.0 L 332.8,89.0\" style=\"fill:none;fill-rule:evenodd;stroke:#000000;stroke-width:2.0px;stroke-linecap:butt;stroke-linejoin:miter;stroke-opacity:1\"/>\n",
       "<path class=\"bond-26 atom-25 atom-26\" d=\"M 332.8,89.0 L 341.2,83.6\" style=\"fill:none;fill-rule:evenodd;stroke:#000000;stroke-width:2.0px;stroke-linecap:butt;stroke-linejoin:miter;stroke-opacity:1\"/>\n",
       "<path class=\"bond-26 atom-25 atom-26\" d=\"M 333.0,86.5 L 338.9,82.7\" style=\"fill:none;fill-rule:evenodd;stroke:#000000;stroke-width:2.0px;stroke-linecap:butt;stroke-linejoin:miter;stroke-opacity:1\"/>\n",
       "<path class=\"bond-27 atom-26 atom-27\" d=\"M 341.2,83.6 L 340.9,73.6\" style=\"fill:none;fill-rule:evenodd;stroke:#000000;stroke-width:2.0px;stroke-linecap:butt;stroke-linejoin:miter;stroke-opacity:1\"/>\n",
       "<path class=\"bond-28 atom-27 atom-28\" d=\"M 340.9,73.6 L 332.0,68.9\" style=\"fill:none;fill-rule:evenodd;stroke:#000000;stroke-width:2.0px;stroke-linecap:butt;stroke-linejoin:miter;stroke-opacity:1\"/>\n",
       "<path class=\"bond-28 atom-27 atom-28\" d=\"M 338.6,74.7 L 332.4,71.4\" style=\"fill:none;fill-rule:evenodd;stroke:#000000;stroke-width:2.0px;stroke-linecap:butt;stroke-linejoin:miter;stroke-opacity:1\"/>\n",
       "<path class=\"bond-29 atom-28 atom-29\" d=\"M 332.0,68.9 L 323.5,74.3\" style=\"fill:none;fill-rule:evenodd;stroke:#000000;stroke-width:2.0px;stroke-linecap:butt;stroke-linejoin:miter;stroke-opacity:1\"/>\n",
       "<path class=\"bond-30 atom-29 atom-30\" d=\"M 323.5,74.3 L 323.9,84.3\" style=\"fill:none;fill-rule:evenodd;stroke:#000000;stroke-width:2.0px;stroke-linecap:butt;stroke-linejoin:miter;stroke-opacity:1\"/>\n",
       "<path class=\"bond-30 atom-29 atom-30\" d=\"M 325.6,75.7 L 325.8,82.7\" style=\"fill:none;fill-rule:evenodd;stroke:#000000;stroke-width:2.0px;stroke-linecap:butt;stroke-linejoin:miter;stroke-opacity:1\"/>\n",
       "<path class=\"bond-31 atom-30 atom-25\" d=\"M 323.9,84.3 L 332.8,89.0\" style=\"fill:none;fill-rule:evenodd;stroke:#000000;stroke-width:2.0px;stroke-linecap:butt;stroke-linejoin:miter;stroke-opacity:1\"/>\n",
       "<path class=\"bond-32 atom-23 atom-24\" d=\"M 342.0,103.7 L 333.1,99.0\" style=\"fill:none;fill-rule:evenodd;stroke:#000000;stroke-width:2.0px;stroke-linecap:butt;stroke-linejoin:miter;stroke-opacity:1\"/>\n",
       "<path class=\"bond-33 atom-31 atom-32\" d=\"M 324.7,104.3 L 315.8,99.6\" style=\"fill:none;fill-rule:evenodd;stroke:#000000;stroke-width:2.0px;stroke-linecap:butt;stroke-linejoin:miter;stroke-opacity:1\"/>\n",
       "<path class=\"bond-34 atom-24 atom-31\" d=\"M 333.1,99.0 L 324.7,104.3\" style=\"fill:none;fill-rule:evenodd;stroke:#000000;stroke-width:2.0px;stroke-linecap:butt;stroke-linejoin:miter;stroke-opacity:1\"/>\n",
       "<path class=\"bond-35 atom-33 atom-34\" d=\"M 298.4,100.3 L 307.3,105.0\" style=\"fill:none;fill-rule:evenodd;stroke:#000000;stroke-width:2.0px;stroke-linecap:butt;stroke-linejoin:miter;stroke-opacity:1\"/>\n",
       "<path class=\"bond-36 atom-32 atom-34\" d=\"M 315.8,99.6 L 307.3,105.0\" style=\"fill:none;fill-rule:evenodd;stroke:#000000;stroke-width:2.0px;stroke-linecap:butt;stroke-linejoin:miter;stroke-opacity:1\"/>\n",
       "<path class=\"bond-37 atom-35 atom-36\" d=\"M 281.1,101.0 L 290.0,105.6\" style=\"fill:none;fill-rule:evenodd;stroke:#000000;stroke-width:2.0px;stroke-linecap:butt;stroke-linejoin:miter;stroke-opacity:1\"/>\n",
       "<path class=\"bond-38 atom-33 atom-36\" d=\"M 298.4,100.3 L 290.0,105.6\" style=\"fill:none;fill-rule:evenodd;stroke:#000000;stroke-width:2.0px;stroke-linecap:butt;stroke-linejoin:miter;stroke-opacity:1\"/>\n",
       "<path class=\"bond-39 atom-37 atom-38\" d=\"M 263.7,101.6 L 272.6,106.3\" style=\"fill:none;fill-rule:evenodd;stroke:#000000;stroke-width:2.0px;stroke-linecap:butt;stroke-linejoin:miter;stroke-opacity:1\"/>\n",
       "<path class=\"bond-40 atom-35 atom-38\" d=\"M 281.1,101.0 L 272.6,106.3\" style=\"fill:none;fill-rule:evenodd;stroke:#000000;stroke-width:2.0px;stroke-linecap:butt;stroke-linejoin:miter;stroke-opacity:1\"/>\n",
       "<path class=\"bond-41 atom-39 atom-40\" d=\"M 255.3,107.0 L 246.4,102.3\" style=\"fill:none;fill-rule:evenodd;stroke:#000000;stroke-width:2.0px;stroke-linecap:butt;stroke-linejoin:miter;stroke-opacity:1\"/>\n",
       "<path class=\"bond-42 atom-37 atom-39\" d=\"M 263.7,101.6 L 255.3,107.0\" style=\"fill:none;fill-rule:evenodd;stroke:#000000;stroke-width:2.0px;stroke-linecap:butt;stroke-linejoin:miter;stroke-opacity:1\"/>\n",
       "<path class=\"bond-43 atom-41 atom-42\" d=\"M 237.9,107.6 L 229.1,103.0\" style=\"fill:none;fill-rule:evenodd;stroke:#000000;stroke-width:2.0px;stroke-linecap:butt;stroke-linejoin:miter;stroke-opacity:1\"/>\n",
       "<path class=\"bond-44 atom-40 atom-41\" d=\"M 246.4,102.3 L 237.9,107.6\" style=\"fill:none;fill-rule:evenodd;stroke:#000000;stroke-width:2.0px;stroke-linecap:butt;stroke-linejoin:miter;stroke-opacity:1\"/>\n",
       "<path class=\"bond-45 atom-43 atom-44\" d=\"M 211.7,103.6 L 220.6,108.3\" style=\"fill:none;fill-rule:evenodd;stroke:#000000;stroke-width:2.0px;stroke-linecap:butt;stroke-linejoin:miter;stroke-opacity:1\"/>\n",
       "<path class=\"bond-46 atom-42 atom-44\" d=\"M 229.1,103.0 L 220.6,108.3\" style=\"fill:none;fill-rule:evenodd;stroke:#000000;stroke-width:2.0px;stroke-linecap:butt;stroke-linejoin:miter;stroke-opacity:1\"/>\n",
       "<path class=\"bond-47 atom-45 atom-46\" d=\"M 177.0,105.0 L 185.9,109.6\" style=\"fill:none;fill-rule:evenodd;stroke:#000000;stroke-width:2.0px;stroke-linecap:butt;stroke-linejoin:miter;stroke-opacity:1\"/>\n",
       "<path class=\"bond-48 atom-46 atom-47\" d=\"M 185.9,109.6 L 194.4,104.3\" style=\"fill:none;fill-rule:evenodd;stroke:#000000;stroke-width:2.0px;stroke-linecap:butt;stroke-linejoin:miter;stroke-opacity:1\"/>\n",
       "<path class=\"bond-49 atom-47 atom-48\" d=\"M 194.4,104.3 L 203.2,109.0\" style=\"fill:none;fill-rule:evenodd;stroke:#000000;stroke-width:2.0px;stroke-linecap:butt;stroke-linejoin:miter;stroke-opacity:1\"/>\n",
       "<path class=\"bond-50 atom-47 atom-49\" d=\"M 194.4,104.3 L 194.0,94.3\" style=\"fill:none;fill-rule:evenodd;stroke:#000000;stroke-width:2.0px;stroke-linecap:butt;stroke-linejoin:miter;stroke-opacity:1\"/>\n",
       "<path class=\"bond-51 atom-49 atom-50\" d=\"M 194.0,94.3 L 185.1,89.6\" style=\"fill:none;fill-rule:evenodd;stroke:#000000;stroke-width:2.0px;stroke-linecap:butt;stroke-linejoin:miter;stroke-opacity:1\"/>\n",
       "<path class=\"bond-52 atom-43 atom-48\" d=\"M 211.7,103.6 L 203.2,109.0\" style=\"fill:none;fill-rule:evenodd;stroke:#000000;stroke-width:2.0px;stroke-linecap:butt;stroke-linejoin:miter;stroke-opacity:1\"/>\n",
       "<path class=\"bond-53 atom-51 atom-52\" d=\"M 168.5,110.3 L 159.7,105.6\" style=\"fill:none;fill-rule:evenodd;stroke:#000000;stroke-width:2.0px;stroke-linecap:butt;stroke-linejoin:miter;stroke-opacity:1\"/>\n",
       "<path class=\"bond-54 atom-45 atom-51\" d=\"M 177.0,105.0 L 168.5,110.3\" style=\"fill:none;fill-rule:evenodd;stroke:#000000;stroke-width:2.0px;stroke-linecap:butt;stroke-linejoin:miter;stroke-opacity:1\"/>\n",
       "<path class=\"bond-55 atom-53 atom-54\" d=\"M 151.2,111.0 L 151.6,121.0\" style=\"fill:none;fill-rule:evenodd;stroke:#000000;stroke-width:2.0px;stroke-linecap:butt;stroke-linejoin:miter;stroke-opacity:1\"/>\n",
       "<path class=\"bond-56 atom-54 atom-55\" d=\"M 151.6,121.0 L 143.1,126.3\" style=\"fill:none;fill-rule:evenodd;stroke:#000000;stroke-width:2.0px;stroke-linecap:butt;stroke-linejoin:miter;stroke-opacity:1\"/>\n",
       "<path class=\"bond-56 atom-54 atom-55\" d=\"M 151.4,123.5 L 145.4,127.2\" style=\"fill:none;fill-rule:evenodd;stroke:#000000;stroke-width:2.0px;stroke-linecap:butt;stroke-linejoin:miter;stroke-opacity:1\"/>\n",
       "<path class=\"bond-57 atom-55 atom-56\" d=\"M 143.1,126.3 L 143.5,136.3\" style=\"fill:none;fill-rule:evenodd;stroke:#000000;stroke-width:2.0px;stroke-linecap:butt;stroke-linejoin:miter;stroke-opacity:1\"/>\n",
       "<path class=\"bond-58 atom-56 atom-57\" d=\"M 143.5,136.3 L 152.3,141.0\" style=\"fill:none;fill-rule:evenodd;stroke:#000000;stroke-width:2.0px;stroke-linecap:butt;stroke-linejoin:miter;stroke-opacity:1\"/>\n",
       "<path class=\"bond-58 atom-56 atom-57\" d=\"M 145.7,135.3 L 151.9,138.5\" style=\"fill:none;fill-rule:evenodd;stroke:#000000;stroke-width:2.0px;stroke-linecap:butt;stroke-linejoin:miter;stroke-opacity:1\"/>\n",
       "<path class=\"bond-59 atom-57 atom-58\" d=\"M 152.3,141.0 L 160.8,135.7\" style=\"fill:none;fill-rule:evenodd;stroke:#000000;stroke-width:2.0px;stroke-linecap:butt;stroke-linejoin:miter;stroke-opacity:1\"/>\n",
       "<path class=\"bond-60 atom-58 atom-59\" d=\"M 160.8,135.7 L 160.4,125.6\" style=\"fill:none;fill-rule:evenodd;stroke:#000000;stroke-width:2.0px;stroke-linecap:butt;stroke-linejoin:miter;stroke-opacity:1\"/>\n",
       "<path class=\"bond-60 atom-58 atom-59\" d=\"M 158.7,134.2 L 158.5,127.2\" style=\"fill:none;fill-rule:evenodd;stroke:#000000;stroke-width:2.0px;stroke-linecap:butt;stroke-linejoin:miter;stroke-opacity:1\"/>\n",
       "<path class=\"bond-61 atom-59 atom-54\" d=\"M 160.4,125.6 L 151.6,121.0\" style=\"fill:none;fill-rule:evenodd;stroke:#000000;stroke-width:2.0px;stroke-linecap:butt;stroke-linejoin:miter;stroke-opacity:1\"/>\n",
       "<path class=\"bond-62 atom-52 atom-53\" d=\"M 159.7,105.6 L 151.2,111.0\" style=\"fill:none;fill-rule:evenodd;stroke:#000000;stroke-width:2.0px;stroke-linecap:butt;stroke-linejoin:miter;stroke-opacity:1\"/>\n",
       "<path class=\"bond-63 atom-60 atom-61\" d=\"M 184.7,79.6 L 175.9,74.9\" style=\"fill:none;fill-rule:evenodd;stroke:#000000;stroke-width:2.0px;stroke-linecap:butt;stroke-linejoin:miter;stroke-opacity:1\"/>\n",
       "<path class=\"bond-64 atom-50 atom-60\" d=\"M 185.1,89.6 L 184.7,79.6\" style=\"fill:none;fill-rule:evenodd;stroke:#000000;stroke-width:2.0px;stroke-linecap:butt;stroke-linejoin:miter;stroke-opacity:1\"/>\n",
       "<path class=\"bond-65 atom-62 atom-63\" d=\"M 166.6,60.2 L 175.5,64.9\" style=\"fill:none;fill-rule:evenodd;stroke:#000000;stroke-width:2.0px;stroke-linecap:butt;stroke-linejoin:miter;stroke-opacity:1\"/>\n",
       "<path class=\"bond-66 atom-61 atom-63\" d=\"M 175.9,74.9 L 175.5,64.9\" style=\"fill:none;fill-rule:evenodd;stroke:#000000;stroke-width:2.0px;stroke-linecap:butt;stroke-linejoin:miter;stroke-opacity:1\"/>\n",
       "<path class=\"bond-67 atom-64 atom-65\" d=\"M 166.2,50.2 L 157.4,45.5\" style=\"fill:none;fill-rule:evenodd;stroke:#000000;stroke-width:2.0px;stroke-linecap:butt;stroke-linejoin:miter;stroke-opacity:1\"/>\n",
       "<path class=\"bond-68 atom-62 atom-64\" d=\"M 166.6,60.2 L 166.2,50.2\" style=\"fill:none;fill-rule:evenodd;stroke:#000000;stroke-width:2.0px;stroke-linecap:butt;stroke-linejoin:miter;stroke-opacity:1\"/>\n",
       "<path class=\"bond-69 atom-66 atom-67\" d=\"M 133.8,111.6 L 142.3,106.3\" style=\"fill:none;fill-rule:evenodd;stroke:#000000;stroke-width:2.0px;stroke-linecap:butt;stroke-linejoin:miter;stroke-opacity:1\"/>\n",
       "<path class=\"bond-70 atom-53 atom-67\" d=\"M 151.2,111.0 L 142.3,106.3\" style=\"fill:none;fill-rule:evenodd;stroke:#000000;stroke-width:2.0px;stroke-linecap:butt;stroke-linejoin:miter;stroke-opacity:1\"/>\n",
       "<path class=\"bond-71 atom-68 atom-69\" d=\"M 116.5,112.3 L 125.0,106.9\" style=\"fill:none;fill-rule:evenodd;stroke:#000000;stroke-width:2.0px;stroke-linecap:butt;stroke-linejoin:miter;stroke-opacity:1\"/>\n",
       "<path class=\"bond-72 atom-66 atom-69\" d=\"M 133.8,111.6 L 125.0,106.9\" style=\"fill:none;fill-rule:evenodd;stroke:#000000;stroke-width:2.0px;stroke-linecap:butt;stroke-linejoin:miter;stroke-opacity:1\"/>\n",
       "<path class=\"bond-73 atom-70 atom-71\" d=\"M 157.0,35.5 L 148.1,30.8\" style=\"fill:none;fill-rule:evenodd;stroke:#000000;stroke-width:2.0px;stroke-linecap:butt;stroke-linejoin:miter;stroke-opacity:1\"/>\n",
       "<path class=\"bond-74 atom-65 atom-70\" d=\"M 157.4,45.5 L 157.0,35.5\" style=\"fill:none;fill-rule:evenodd;stroke:#000000;stroke-width:2.0px;stroke-linecap:butt;stroke-linejoin:miter;stroke-opacity:1\"/>\n",
       "<path class=\"bond-75 atom-72 atom-73\" d=\"M 107.6,107.6 L 99.1,112.9\" style=\"fill:none;fill-rule:evenodd;stroke:#000000;stroke-width:2.0px;stroke-linecap:butt;stroke-linejoin:miter;stroke-opacity:1\"/>\n",
       "<path class=\"bond-76 atom-68 atom-72\" d=\"M 116.5,112.3 L 107.6,107.6\" style=\"fill:none;fill-rule:evenodd;stroke:#000000;stroke-width:2.0px;stroke-linecap:butt;stroke-linejoin:miter;stroke-opacity:1\"/>\n",
       "<path class=\"bond-77 atom-74 atom-75\" d=\"M 90.3,108.3 L 89.9,98.2\" style=\"fill:none;fill-rule:evenodd;stroke:#000000;stroke-width:2.0px;stroke-linecap:butt;stroke-linejoin:miter;stroke-opacity:1\"/>\n",
       "<path class=\"bond-78 atom-75 atom-76\" d=\"M 89.9,98.2 L 98.4,92.9\" style=\"fill:none;fill-rule:evenodd;stroke:#000000;stroke-width:2.0px;stroke-linecap:butt;stroke-linejoin:miter;stroke-opacity:1\"/>\n",
       "<path class=\"bond-78 atom-75 atom-76\" d=\"M 90.1,95.8 L 96.0,92.0\" style=\"fill:none;fill-rule:evenodd;stroke:#000000;stroke-width:2.0px;stroke-linecap:butt;stroke-linejoin:miter;stroke-opacity:1\"/>\n",
       "<path class=\"bond-79 atom-76 atom-77\" d=\"M 98.4,92.9 L 98.0,82.9\" style=\"fill:none;fill-rule:evenodd;stroke:#000000;stroke-width:2.0px;stroke-linecap:butt;stroke-linejoin:miter;stroke-opacity:1\"/>\n",
       "<path class=\"bond-80 atom-77 atom-78\" d=\"M 98.0,82.9 L 89.1,78.2\" style=\"fill:none;fill-rule:evenodd;stroke:#000000;stroke-width:2.0px;stroke-linecap:butt;stroke-linejoin:miter;stroke-opacity:1\"/>\n",
       "<path class=\"bond-80 atom-77 atom-78\" d=\"M 95.7,84.0 L 89.5,80.7\" style=\"fill:none;fill-rule:evenodd;stroke:#000000;stroke-width:2.0px;stroke-linecap:butt;stroke-linejoin:miter;stroke-opacity:1\"/>\n",
       "<path class=\"bond-81 atom-78 atom-79\" d=\"M 89.1,78.2 L 80.6,83.6\" style=\"fill:none;fill-rule:evenodd;stroke:#000000;stroke-width:2.0px;stroke-linecap:butt;stroke-linejoin:miter;stroke-opacity:1\"/>\n",
       "<path class=\"bond-82 atom-79 atom-80\" d=\"M 80.6,83.6 L 81.0,93.6\" style=\"fill:none;fill-rule:evenodd;stroke:#000000;stroke-width:2.0px;stroke-linecap:butt;stroke-linejoin:miter;stroke-opacity:1\"/>\n",
       "<path class=\"bond-82 atom-79 atom-80\" d=\"M 82.7,85.0 L 83.0,92.0\" style=\"fill:none;fill-rule:evenodd;stroke:#000000;stroke-width:2.0px;stroke-linecap:butt;stroke-linejoin:miter;stroke-opacity:1\"/>\n",
       "<path class=\"bond-83 atom-80 atom-75\" d=\"M 81.0,93.6 L 89.9,98.2\" style=\"fill:none;fill-rule:evenodd;stroke:#000000;stroke-width:2.0px;stroke-linecap:butt;stroke-linejoin:miter;stroke-opacity:1\"/>\n",
       "<path class=\"bond-84 atom-73 atom-74\" d=\"M 99.1,112.9 L 90.3,108.3\" style=\"fill:none;fill-rule:evenodd;stroke:#000000;stroke-width:2.0px;stroke-linecap:butt;stroke-linejoin:miter;stroke-opacity:1\"/>\n",
       "<path class=\"bond-85 atom-81 atom-82\" d=\"M 47.1,114.9 L 55.6,109.6\" style=\"fill:none;fill-rule:evenodd;stroke:#000000;stroke-width:2.0px;stroke-linecap:butt;stroke-linejoin:miter;stroke-opacity:1\"/>\n",
       "<path class=\"bond-86 atom-82 atom-83\" d=\"M 55.6,109.6 L 64.4,114.3\" style=\"fill:none;fill-rule:evenodd;stroke:#000000;stroke-width:2.0px;stroke-linecap:butt;stroke-linejoin:miter;stroke-opacity:1\"/>\n",
       "<path class=\"bond-87 atom-83 atom-84\" d=\"M 64.4,114.3 L 64.8,124.3\" style=\"fill:none;fill-rule:evenodd;stroke:#000000;stroke-width:2.0px;stroke-linecap:butt;stroke-linejoin:miter;stroke-opacity:1\"/>\n",
       "<path class=\"bond-88 atom-83 atom-85\" d=\"M 64.4,114.3 L 72.9,108.9\" style=\"fill:none;fill-rule:evenodd;stroke:#000000;stroke-width:2.0px;stroke-linecap:butt;stroke-linejoin:miter;stroke-opacity:1\"/>\n",
       "<path class=\"bond-89 atom-85 atom-86\" d=\"M 72.9,108.9 L 81.8,113.6\" style=\"fill:none;fill-rule:evenodd;stroke:#000000;stroke-width:2.0px;stroke-linecap:butt;stroke-linejoin:miter;stroke-opacity:1\"/>\n",
       "<path class=\"bond-90 atom-74 atom-86\" d=\"M 90.3,108.3 L 81.8,113.6\" style=\"fill:none;fill-rule:evenodd;stroke:#000000;stroke-width:2.0px;stroke-linecap:butt;stroke-linejoin:miter;stroke-opacity:1\"/>\n",
       "<path class=\"bond-91 atom-87 atom-88\" d=\"M 38.2,110.3 L 35.1,112.2\" style=\"fill:none;fill-rule:evenodd;stroke:#000000;stroke-width:2.0px;stroke-linecap:butt;stroke-linejoin:miter;stroke-opacity:1\"/>\n",
       "<path class=\"bond-91 atom-87 atom-88\" d=\"M 35.1,112.2 L 32.0,114.2\" style=\"fill:none;fill-rule:evenodd;stroke:#FF0000;stroke-width:2.0px;stroke-linecap:butt;stroke-linejoin:miter;stroke-opacity:1\"/>\n",
       "<path class=\"bond-92 atom-88 atom-89\" d=\"M 27.5,114.4 L 24.2,112.7\" style=\"fill:none;fill-rule:evenodd;stroke:#FF0000;stroke-width:2.0px;stroke-linecap:butt;stroke-linejoin:miter;stroke-opacity:1\"/>\n",
       "<path class=\"bond-92 atom-88 atom-89\" d=\"M 24.2,112.7 L 20.9,110.9\" style=\"fill:none;fill-rule:evenodd;stroke:#000000;stroke-width:2.0px;stroke-linecap:butt;stroke-linejoin:miter;stroke-opacity:1\"/>\n",
       "<path class=\"bond-93 atom-81 atom-87\" d=\"M 47.1,114.9 L 38.2,110.3\" style=\"fill:none;fill-rule:evenodd;stroke:#000000;stroke-width:2.0px;stroke-linecap:butt;stroke-linejoin:miter;stroke-opacity:1\"/>\n",
       "<path class=\"bond-94 atom-90 atom-91\" d=\"M 147.7,20.8 L 144.4,19.1\" style=\"fill:none;fill-rule:evenodd;stroke:#000000;stroke-width:2.0px;stroke-linecap:butt;stroke-linejoin:miter;stroke-opacity:1\"/>\n",
       "<path class=\"bond-94 atom-90 atom-91\" d=\"M 144.4,19.1 L 141.1,17.3\" style=\"fill:none;fill-rule:evenodd;stroke:#FF0000;stroke-width:2.0px;stroke-linecap:butt;stroke-linejoin:miter;stroke-opacity:1\"/>\n",
       "<path class=\"bond-95 atom-91 atom-92\" d=\"M 138.8,13.7 L 138.6,9.9\" style=\"fill:none;fill-rule:evenodd;stroke:#FF0000;stroke-width:2.0px;stroke-linecap:butt;stroke-linejoin:miter;stroke-opacity:1\"/>\n",
       "<path class=\"bond-95 atom-91 atom-92\" d=\"M 138.6,9.9 L 138.5,6.1\" style=\"fill:none;fill-rule:evenodd;stroke:#000000;stroke-width:2.0px;stroke-linecap:butt;stroke-linejoin:miter;stroke-opacity:1\"/>\n",
       "<path class=\"bond-96 atom-71 atom-90\" d=\"M 148.1,30.8 L 147.7,20.8\" style=\"fill:none;fill-rule:evenodd;stroke:#000000;stroke-width:2.0px;stroke-linecap:butt;stroke-linejoin:miter;stroke-opacity:1\"/>\n",
       "<path class=\"bond-97 atom-93 atom-94\" d=\"M 56.3,129.6 L 56.5,133.4\" style=\"fill:none;fill-rule:evenodd;stroke:#000000;stroke-width:2.0px;stroke-linecap:butt;stroke-linejoin:miter;stroke-opacity:1\"/>\n",
       "<path class=\"bond-97 atom-93 atom-94\" d=\"M 56.5,133.4 L 56.6,137.2\" style=\"fill:none;fill-rule:evenodd;stroke:#0000FF;stroke-width:2.0px;stroke-linecap:butt;stroke-linejoin:miter;stroke-opacity:1\"/>\n",
       "<path class=\"bond-98 atom-84 atom-93\" d=\"M 64.8,124.3 L 56.3,129.6\" style=\"fill:none;fill-rule:evenodd;stroke:#000000;stroke-width:2.0px;stroke-linecap:butt;stroke-linejoin:miter;stroke-opacity:1\"/>\n",
       "<path class=\"atom-0\" d=\"M 376.5 64.8 L 377.0 64.8 L 377.0 66.6 L 379.2 66.6 L 379.2 64.8 L 379.8 64.8 L 379.8 69.1 L 379.2 69.1 L 379.2 67.1 L 377.0 67.1 L 377.0 69.1 L 376.5 69.1 L 376.5 64.8 \" fill=\"#0000FF\"/>\n",
       "<path class=\"atom-0\" d=\"M 380.3 68.9 Q 380.4 68.7, 380.7 68.5 Q 380.9 68.4, 381.2 68.4 Q 381.7 68.4, 381.9 68.6 Q 382.1 68.8, 382.1 69.2 Q 382.1 69.6, 381.8 70.0 Q 381.5 70.4, 380.9 70.9 L 382.2 70.9 L 382.2 71.2 L 380.3 71.2 L 380.3 70.9 Q 380.8 70.6, 381.1 70.3 Q 381.4 70.0, 381.6 69.8 Q 381.7 69.5, 381.7 69.2 Q 381.7 69.0, 381.6 68.8 Q 381.5 68.7, 381.2 68.7 Q 381.0 68.7, 380.9 68.8 Q 380.7 68.9, 380.6 69.1 L 380.3 68.9 \" fill=\"#0000FF\"/>\n",
       "<path class=\"atom-0\" d=\"M 383.1 64.8 L 384.5 67.1 Q 384.6 67.3, 384.9 67.7 Q 385.1 68.1, 385.1 68.1 L 385.1 64.8 L 385.7 64.8 L 385.7 69.1 L 385.1 69.1 L 383.6 66.6 Q 383.4 66.3, 383.2 66.0 Q 383.0 65.7, 383.0 65.6 L 383.0 69.1 L 382.4 69.1 L 382.4 64.8 L 383.1 64.8 \" fill=\"#0000FF\"/>\n",
       "<path class=\"atom-88\" d=\"M 27.8 115.6 Q 27.8 114.6, 28.3 114.0 Q 28.8 113.4, 29.7 113.4 Q 30.7 113.4, 31.2 114.0 Q 31.7 114.6, 31.7 115.6 Q 31.7 116.6, 31.2 117.2 Q 30.7 117.8, 29.7 117.8 Q 28.8 117.8, 28.3 117.2 Q 27.8 116.6, 27.8 115.6 M 29.7 117.3 Q 30.4 117.3, 30.7 116.9 Q 31.1 116.5, 31.1 115.6 Q 31.1 114.8, 30.7 114.4 Q 30.4 113.9, 29.7 113.9 Q 29.1 113.9, 28.7 114.3 Q 28.4 114.8, 28.4 115.6 Q 28.4 116.5, 28.7 116.9 Q 29.1 117.3, 29.7 117.3 \" fill=\"#FF0000\"/>\n",
       "<path class=\"atom-91\" d=\"M 136.9 16.1 Q 136.9 15.1, 137.4 14.6 Q 137.9 14.0, 138.9 14.0 Q 139.8 14.0, 140.3 14.6 Q 140.8 15.1, 140.8 16.1 Q 140.8 17.2, 140.3 17.8 Q 139.8 18.3, 138.9 18.3 Q 137.9 18.3, 137.4 17.8 Q 136.9 17.2, 136.9 16.1 M 138.9 17.9 Q 139.5 17.9, 139.9 17.4 Q 140.2 17.0, 140.2 16.1 Q 140.2 15.3, 139.9 14.9 Q 139.5 14.5, 138.9 14.5 Q 138.2 14.5, 137.9 14.9 Q 137.5 15.3, 137.5 16.1 Q 137.5 17.0, 137.9 17.4 Q 138.2 17.9, 138.9 17.9 \" fill=\"#FF0000\"/>\n",
       "<path class=\"atom-94\" d=\"M 55.8 137.5 L 57.2 139.8 Q 57.3 140.0, 57.5 140.4 Q 57.7 140.8, 57.8 140.8 L 57.8 137.5 L 58.3 137.5 L 58.3 141.8 L 57.7 141.8 L 56.2 139.3 Q 56.1 139.0, 55.9 138.7 Q 55.7 138.4, 55.7 138.3 L 55.7 141.8 L 55.1 141.8 L 55.1 137.5 L 55.8 137.5 \" fill=\"#0000FF\"/>\n",
       "<path class=\"atom-94\" d=\"M 58.8 137.5 L 59.4 137.5 L 59.4 139.3 L 61.6 139.3 L 61.6 137.5 L 62.1 137.5 L 62.1 141.8 L 61.6 141.8 L 61.6 139.8 L 59.4 139.8 L 59.4 141.8 L 58.8 141.8 L 58.8 137.5 \" fill=\"#0000FF\"/>\n",
       "<path class=\"atom-94\" d=\"M 62.7 141.6 Q 62.8 141.3, 63.0 141.2 Q 63.3 141.1, 63.6 141.1 Q 64.0 141.1, 64.3 141.3 Q 64.5 141.5, 64.5 141.9 Q 64.5 142.3, 64.2 142.7 Q 63.9 143.1, 63.2 143.6 L 64.5 143.6 L 64.5 143.9 L 62.7 143.9 L 62.7 143.6 Q 63.2 143.2, 63.5 143.0 Q 63.8 142.7, 64.0 142.4 Q 64.1 142.2, 64.1 141.9 Q 64.1 141.7, 64.0 141.5 Q 63.8 141.4, 63.6 141.4 Q 63.4 141.4, 63.2 141.5 Q 63.1 141.6, 63.0 141.8 L 62.7 141.6 \" fill=\"#0000FF\"/>\n",
       "</svg>"
      ],
      "text/plain": [
       "<IPython.core.display.SVG object>"
      ]
     },
     "execution_count": 46,
     "metadata": {},
     "output_type": "execute_result"
    }
   ],
   "source": [
    "big_smiles_gen(big)"
   ]
  },
  {
   "cell_type": "code",
   "execution_count": 47,
   "id": "7e775e4e",
   "metadata": {},
   "outputs": [
    {
     "data": {
      "image/svg+xml": [
       "<svg xmlns=\"http://www.w3.org/2000/svg\" xmlns:rdkit=\"http://www.rdkit.org/xml\" xmlns:xlink=\"http://www.w3.org/1999/xlink\" version=\"1.1\" baseProfile=\"full\" xml:space=\"preserve\" width=\"450px\" height=\"150px\" viewBox=\"0 0 450 150\">\n",
       "<!-- END OF HEADER -->\n",
       "<rect style=\"opacity:1.0;fill:#FFFFFF;stroke:none\" width=\"450.0\" height=\"150.0\" x=\"0.0\" y=\"0.0\"> </rect>\n",
       "<path class=\"bond-0 atom-0 atom-1\" d=\"M 383.3,40.1 L 386.4,41.9\" style=\"fill:none;fill-rule:evenodd;stroke:#0000FF;stroke-width:2.0px;stroke-linecap:butt;stroke-linejoin:miter;stroke-opacity:1\"/>\n",
       "<path class=\"bond-0 atom-0 atom-1\" d=\"M 386.4,41.9 L 389.4,43.7\" style=\"fill:none;fill-rule:evenodd;stroke:#000000;stroke-width:2.0px;stroke-linecap:butt;stroke-linejoin:miter;stroke-opacity:1\"/>\n",
       "<path class=\"bond-1 atom-2 atom-3\" d=\"M 397.5,57.5 L 389.4,52.9\" style=\"fill:none;fill-rule:evenodd;stroke:#000000;stroke-width:2.0px;stroke-linecap:butt;stroke-linejoin:miter;stroke-opacity:1\"/>\n",
       "<path class=\"bond-2 atom-1 atom-3\" d=\"M 389.4,43.7 L 389.4,52.9\" style=\"fill:none;fill-rule:evenodd;stroke:#000000;stroke-width:2.0px;stroke-linecap:butt;stroke-linejoin:miter;stroke-opacity:1\"/>\n",
       "<path class=\"bond-3 atom-4 atom-5\" d=\"M 397.5,66.8 L 405.5,71.4\" style=\"fill:none;fill-rule:evenodd;stroke:#000000;stroke-width:2.0px;stroke-linecap:butt;stroke-linejoin:miter;stroke-opacity:1\"/>\n",
       "<path class=\"bond-4 atom-2 atom-4\" d=\"M 397.5,57.5 L 397.5,66.8\" style=\"fill:none;fill-rule:evenodd;stroke:#000000;stroke-width:2.0px;stroke-linecap:butt;stroke-linejoin:miter;stroke-opacity:1\"/>\n",
       "<path class=\"bond-5 atom-6 atom-7\" d=\"M 405.5,80.7 L 413.5,85.3\" style=\"fill:none;fill-rule:evenodd;stroke:#000000;stroke-width:2.0px;stroke-linecap:butt;stroke-linejoin:miter;stroke-opacity:1\"/>\n",
       "<path class=\"bond-6 atom-7 atom-8\" d=\"M 413.5,85.3 L 413.5,94.6\" style=\"fill:none;fill-rule:evenodd;stroke:#000000;stroke-width:2.0px;stroke-linecap:butt;stroke-linejoin:miter;stroke-opacity:1\"/>\n",
       "<path class=\"bond-6 atom-7 atom-8\" d=\"M 415.4,86.7 L 415.4,93.2\" style=\"fill:none;fill-rule:evenodd;stroke:#000000;stroke-width:2.0px;stroke-linecap:butt;stroke-linejoin:miter;stroke-opacity:1\"/>\n",
       "<path class=\"bond-7 atom-8 atom-9\" d=\"M 413.5,94.6 L 421.5,99.2\" style=\"fill:none;fill-rule:evenodd;stroke:#000000;stroke-width:2.0px;stroke-linecap:butt;stroke-linejoin:miter;stroke-opacity:1\"/>\n",
       "<path class=\"bond-8 atom-9 atom-10\" d=\"M 421.5,99.2 L 429.5,94.6\" style=\"fill:none;fill-rule:evenodd;stroke:#000000;stroke-width:2.0px;stroke-linecap:butt;stroke-linejoin:miter;stroke-opacity:1\"/>\n",
       "<path class=\"bond-8 atom-9 atom-10\" d=\"M 421.8,96.9 L 427.4,93.7\" style=\"fill:none;fill-rule:evenodd;stroke:#000000;stroke-width:2.0px;stroke-linecap:butt;stroke-linejoin:miter;stroke-opacity:1\"/>\n",
       "<path class=\"bond-9 atom-10 atom-11\" d=\"M 429.5,94.6 L 429.5,85.3\" style=\"fill:none;fill-rule:evenodd;stroke:#000000;stroke-width:2.0px;stroke-linecap:butt;stroke-linejoin:miter;stroke-opacity:1\"/>\n",
       "<path class=\"bond-10 atom-11 atom-12\" d=\"M 429.5,85.3 L 421.5,80.7\" style=\"fill:none;fill-rule:evenodd;stroke:#000000;stroke-width:2.0px;stroke-linecap:butt;stroke-linejoin:miter;stroke-opacity:1\"/>\n",
       "<path class=\"bond-10 atom-11 atom-12\" d=\"M 427.4,86.2 L 421.8,83.0\" style=\"fill:none;fill-rule:evenodd;stroke:#000000;stroke-width:2.0px;stroke-linecap:butt;stroke-linejoin:miter;stroke-opacity:1\"/>\n",
       "<path class=\"bond-11 atom-12 atom-7\" d=\"M 421.5,80.7 L 413.5,85.3\" style=\"fill:none;fill-rule:evenodd;stroke:#000000;stroke-width:2.0px;stroke-linecap:butt;stroke-linejoin:miter;stroke-opacity:1\"/>\n",
       "<path class=\"bond-12 atom-5 atom-6\" d=\"M 405.5,71.4 L 405.5,80.7\" style=\"fill:none;fill-rule:evenodd;stroke:#000000;stroke-width:2.0px;stroke-linecap:butt;stroke-linejoin:miter;stroke-opacity:1\"/>\n",
       "<path class=\"bond-13 atom-13 atom-14\" d=\"M 389.4,80.7 L 397.5,85.3\" style=\"fill:none;fill-rule:evenodd;stroke:#000000;stroke-width:2.0px;stroke-linecap:butt;stroke-linejoin:miter;stroke-opacity:1\"/>\n",
       "<path class=\"bond-14 atom-6 atom-14\" d=\"M 405.5,80.7 L 397.5,85.3\" style=\"fill:none;fill-rule:evenodd;stroke:#000000;stroke-width:2.0px;stroke-linecap:butt;stroke-linejoin:miter;stroke-opacity:1\"/>\n",
       "<path class=\"bond-15 atom-15 atom-16\" d=\"M 381.4,85.3 L 373.4,80.7\" style=\"fill:none;fill-rule:evenodd;stroke:#000000;stroke-width:2.0px;stroke-linecap:butt;stroke-linejoin:miter;stroke-opacity:1\"/>\n",
       "<path class=\"bond-16 atom-13 atom-15\" d=\"M 389.4,80.7 L 381.4,85.3\" style=\"fill:none;fill-rule:evenodd;stroke:#000000;stroke-width:2.0px;stroke-linecap:butt;stroke-linejoin:miter;stroke-opacity:1\"/>\n",
       "<path class=\"bond-17 atom-17 atom-18\" d=\"M 357.4,80.7 L 365.4,85.3\" style=\"fill:none;fill-rule:evenodd;stroke:#000000;stroke-width:2.0px;stroke-linecap:butt;stroke-linejoin:miter;stroke-opacity:1\"/>\n",
       "<path class=\"bond-18 atom-16 atom-18\" d=\"M 373.4,80.7 L 365.4,85.3\" style=\"fill:none;fill-rule:evenodd;stroke:#000000;stroke-width:2.0px;stroke-linecap:butt;stroke-linejoin:miter;stroke-opacity:1\"/>\n",
       "<path class=\"bond-19 atom-19 atom-20\" d=\"M 349.3,85.3 L 341.3,80.7\" style=\"fill:none;fill-rule:evenodd;stroke:#000000;stroke-width:2.0px;stroke-linecap:butt;stroke-linejoin:miter;stroke-opacity:1\"/>\n",
       "<path class=\"bond-20 atom-17 atom-19\" d=\"M 357.4,80.7 L 349.3,85.3\" style=\"fill:none;fill-rule:evenodd;stroke:#000000;stroke-width:2.0px;stroke-linecap:butt;stroke-linejoin:miter;stroke-opacity:1\"/>\n",
       "<path class=\"bond-21 atom-21 atom-22\" d=\"M 333.3,85.3 L 325.3,80.7\" style=\"fill:none;fill-rule:evenodd;stroke:#000000;stroke-width:2.0px;stroke-linecap:butt;stroke-linejoin:miter;stroke-opacity:1\"/>\n",
       "<path class=\"bond-22 atom-20 atom-21\" d=\"M 341.3,80.7 L 333.3,85.3\" style=\"fill:none;fill-rule:evenodd;stroke:#000000;stroke-width:2.0px;stroke-linecap:butt;stroke-linejoin:miter;stroke-opacity:1\"/>\n",
       "<path class=\"bond-23 atom-23 atom-24\" d=\"M 317.2,85.3 L 309.2,80.7\" style=\"fill:none;fill-rule:evenodd;stroke:#000000;stroke-width:2.0px;stroke-linecap:butt;stroke-linejoin:miter;stroke-opacity:1\"/>\n",
       "<path class=\"bond-24 atom-22 atom-23\" d=\"M 325.3,80.7 L 317.2,85.3\" style=\"fill:none;fill-rule:evenodd;stroke:#000000;stroke-width:2.0px;stroke-linecap:butt;stroke-linejoin:miter;stroke-opacity:1\"/>\n",
       "<path class=\"bond-25 atom-25 atom-26\" d=\"M 301.2,85.3 L 301.2,94.6\" style=\"fill:none;fill-rule:evenodd;stroke:#000000;stroke-width:2.0px;stroke-linecap:butt;stroke-linejoin:miter;stroke-opacity:1\"/>\n",
       "<path class=\"bond-26 atom-26 atom-27\" d=\"M 301.2,94.6 L 293.2,99.2\" style=\"fill:none;fill-rule:evenodd;stroke:#000000;stroke-width:2.0px;stroke-linecap:butt;stroke-linejoin:miter;stroke-opacity:1\"/>\n",
       "<path class=\"bond-26 atom-26 atom-27\" d=\"M 300.9,96.9 L 295.3,100.1\" style=\"fill:none;fill-rule:evenodd;stroke:#000000;stroke-width:2.0px;stroke-linecap:butt;stroke-linejoin:miter;stroke-opacity:1\"/>\n",
       "<path class=\"bond-27 atom-27 atom-28\" d=\"M 293.2,99.2 L 293.2,108.5\" style=\"fill:none;fill-rule:evenodd;stroke:#000000;stroke-width:2.0px;stroke-linecap:butt;stroke-linejoin:miter;stroke-opacity:1\"/>\n",
       "<path class=\"bond-28 atom-28 atom-29\" d=\"M 293.2,108.5 L 301.2,113.1\" style=\"fill:none;fill-rule:evenodd;stroke:#000000;stroke-width:2.0px;stroke-linecap:butt;stroke-linejoin:miter;stroke-opacity:1\"/>\n",
       "<path class=\"bond-28 atom-28 atom-29\" d=\"M 295.3,107.6 L 300.9,110.8\" style=\"fill:none;fill-rule:evenodd;stroke:#000000;stroke-width:2.0px;stroke-linecap:butt;stroke-linejoin:miter;stroke-opacity:1\"/>\n",
       "<path class=\"bond-29 atom-29 atom-30\" d=\"M 301.2,113.1 L 309.2,108.5\" style=\"fill:none;fill-rule:evenodd;stroke:#000000;stroke-width:2.0px;stroke-linecap:butt;stroke-linejoin:miter;stroke-opacity:1\"/>\n",
       "<path class=\"bond-30 atom-30 atom-31\" d=\"M 309.2,108.5 L 309.2,99.2\" style=\"fill:none;fill-rule:evenodd;stroke:#000000;stroke-width:2.0px;stroke-linecap:butt;stroke-linejoin:miter;stroke-opacity:1\"/>\n",
       "<path class=\"bond-30 atom-30 atom-31\" d=\"M 307.4,107.1 L 307.4,100.6\" style=\"fill:none;fill-rule:evenodd;stroke:#000000;stroke-width:2.0px;stroke-linecap:butt;stroke-linejoin:miter;stroke-opacity:1\"/>\n",
       "<path class=\"bond-31 atom-31 atom-26\" d=\"M 309.2,99.2 L 301.2,94.6\" style=\"fill:none;fill-rule:evenodd;stroke:#000000;stroke-width:2.0px;stroke-linecap:butt;stroke-linejoin:miter;stroke-opacity:1\"/>\n",
       "<path class=\"bond-32 atom-24 atom-25\" d=\"M 309.2,80.7 L 301.2,85.3\" style=\"fill:none;fill-rule:evenodd;stroke:#000000;stroke-width:2.0px;stroke-linecap:butt;stroke-linejoin:miter;stroke-opacity:1\"/>\n",
       "<path class=\"bond-33 atom-32 atom-33\" d=\"M 285.2,85.3 L 293.2,80.7\" style=\"fill:none;fill-rule:evenodd;stroke:#000000;stroke-width:2.0px;stroke-linecap:butt;stroke-linejoin:miter;stroke-opacity:1\"/>\n",
       "<path class=\"bond-34 atom-25 atom-33\" d=\"M 301.2,85.3 L 293.2,80.7\" style=\"fill:none;fill-rule:evenodd;stroke:#000000;stroke-width:2.0px;stroke-linecap:butt;stroke-linejoin:miter;stroke-opacity:1\"/>\n",
       "<path class=\"bond-35 atom-34 atom-35\" d=\"M 277.1,80.7 L 269.1,85.3\" style=\"fill:none;fill-rule:evenodd;stroke:#000000;stroke-width:2.0px;stroke-linecap:butt;stroke-linejoin:miter;stroke-opacity:1\"/>\n",
       "<path class=\"bond-36 atom-32 atom-34\" d=\"M 285.2,85.3 L 277.1,80.7\" style=\"fill:none;fill-rule:evenodd;stroke:#000000;stroke-width:2.0px;stroke-linecap:butt;stroke-linejoin:miter;stroke-opacity:1\"/>\n",
       "<path class=\"bond-37 atom-36 atom-37\" d=\"M 261.1,80.7 L 261.1,71.4\" style=\"fill:none;fill-rule:evenodd;stroke:#000000;stroke-width:2.0px;stroke-linecap:butt;stroke-linejoin:miter;stroke-opacity:1\"/>\n",
       "<path class=\"bond-38 atom-37 atom-38\" d=\"M 261.1,71.4 L 269.1,66.8\" style=\"fill:none;fill-rule:evenodd;stroke:#000000;stroke-width:2.0px;stroke-linecap:butt;stroke-linejoin:miter;stroke-opacity:1\"/>\n",
       "<path class=\"bond-38 atom-37 atom-38\" d=\"M 261.4,69.1 L 267.0,65.9\" style=\"fill:none;fill-rule:evenodd;stroke:#000000;stroke-width:2.0px;stroke-linecap:butt;stroke-linejoin:miter;stroke-opacity:1\"/>\n",
       "<path class=\"bond-39 atom-38 atom-39\" d=\"M 269.1,66.8 L 269.1,57.5\" style=\"fill:none;fill-rule:evenodd;stroke:#000000;stroke-width:2.0px;stroke-linecap:butt;stroke-linejoin:miter;stroke-opacity:1\"/>\n",
       "<path class=\"bond-40 atom-39 atom-40\" d=\"M 269.1,57.5 L 261.1,52.9\" style=\"fill:none;fill-rule:evenodd;stroke:#000000;stroke-width:2.0px;stroke-linecap:butt;stroke-linejoin:miter;stroke-opacity:1\"/>\n",
       "<path class=\"bond-40 atom-39 atom-40\" d=\"M 267.0,58.4 L 261.4,55.2\" style=\"fill:none;fill-rule:evenodd;stroke:#000000;stroke-width:2.0px;stroke-linecap:butt;stroke-linejoin:miter;stroke-opacity:1\"/>\n",
       "<path class=\"bond-41 atom-40 atom-41\" d=\"M 261.1,52.9 L 253.1,57.5\" style=\"fill:none;fill-rule:evenodd;stroke:#000000;stroke-width:2.0px;stroke-linecap:butt;stroke-linejoin:miter;stroke-opacity:1\"/>\n",
       "<path class=\"bond-42 atom-41 atom-42\" d=\"M 253.1,57.5 L 253.1,66.8\" style=\"fill:none;fill-rule:evenodd;stroke:#000000;stroke-width:2.0px;stroke-linecap:butt;stroke-linejoin:miter;stroke-opacity:1\"/>\n",
       "<path class=\"bond-42 atom-41 atom-42\" d=\"M 254.9,58.9 L 254.9,65.4\" style=\"fill:none;fill-rule:evenodd;stroke:#000000;stroke-width:2.0px;stroke-linecap:butt;stroke-linejoin:miter;stroke-opacity:1\"/>\n",
       "<path class=\"bond-43 atom-42 atom-37\" d=\"M 253.1,66.8 L 261.1,71.4\" style=\"fill:none;fill-rule:evenodd;stroke:#000000;stroke-width:2.0px;stroke-linecap:butt;stroke-linejoin:miter;stroke-opacity:1\"/>\n",
       "<path class=\"bond-44 atom-35 atom-36\" d=\"M 269.1,85.3 L 261.1,80.7\" style=\"fill:none;fill-rule:evenodd;stroke:#000000;stroke-width:2.0px;stroke-linecap:butt;stroke-linejoin:miter;stroke-opacity:1\"/>\n",
       "<path class=\"bond-45 atom-43 atom-44\" d=\"M 253.1,85.3 L 245.1,80.7\" style=\"fill:none;fill-rule:evenodd;stroke:#000000;stroke-width:2.0px;stroke-linecap:butt;stroke-linejoin:miter;stroke-opacity:1\"/>\n",
       "<path class=\"bond-46 atom-36 atom-43\" d=\"M 261.1,80.7 L 253.1,85.3\" style=\"fill:none;fill-rule:evenodd;stroke:#000000;stroke-width:2.0px;stroke-linecap:butt;stroke-linejoin:miter;stroke-opacity:1\"/>\n",
       "<path class=\"bond-47 atom-45 atom-46\" d=\"M 237.0,85.3 L 229.0,80.7\" style=\"fill:none;fill-rule:evenodd;stroke:#000000;stroke-width:2.0px;stroke-linecap:butt;stroke-linejoin:miter;stroke-opacity:1\"/>\n",
       "<path class=\"bond-48 atom-44 atom-45\" d=\"M 245.1,80.7 L 237.0,85.3\" style=\"fill:none;fill-rule:evenodd;stroke:#000000;stroke-width:2.0px;stroke-linecap:butt;stroke-linejoin:miter;stroke-opacity:1\"/>\n",
       "<path class=\"bond-49 atom-47 atom-48\" d=\"M 221.0,85.3 L 213.0,80.7\" style=\"fill:none;fill-rule:evenodd;stroke:#000000;stroke-width:2.0px;stroke-linecap:butt;stroke-linejoin:miter;stroke-opacity:1\"/>\n",
       "<path class=\"bond-50 atom-46 atom-47\" d=\"M 229.0,80.7 L 221.0,85.3\" style=\"fill:none;fill-rule:evenodd;stroke:#000000;stroke-width:2.0px;stroke-linecap:butt;stroke-linejoin:miter;stroke-opacity:1\"/>\n",
       "<path class=\"bond-51 atom-49 atom-50\" d=\"M 204.9,85.3 L 204.9,94.6\" style=\"fill:none;fill-rule:evenodd;stroke:#000000;stroke-width:2.0px;stroke-linecap:butt;stroke-linejoin:miter;stroke-opacity:1\"/>\n",
       "<path class=\"bond-52 atom-50 atom-51\" d=\"M 204.9,94.6 L 196.9,99.2\" style=\"fill:none;fill-rule:evenodd;stroke:#000000;stroke-width:2.0px;stroke-linecap:butt;stroke-linejoin:miter;stroke-opacity:1\"/>\n",
       "<path class=\"bond-52 atom-50 atom-51\" d=\"M 204.7,96.9 L 199.1,100.1\" style=\"fill:none;fill-rule:evenodd;stroke:#000000;stroke-width:2.0px;stroke-linecap:butt;stroke-linejoin:miter;stroke-opacity:1\"/>\n",
       "<path class=\"bond-53 atom-51 atom-52\" d=\"M 196.9,99.2 L 196.9,108.5\" style=\"fill:none;fill-rule:evenodd;stroke:#000000;stroke-width:2.0px;stroke-linecap:butt;stroke-linejoin:miter;stroke-opacity:1\"/>\n",
       "<path class=\"bond-54 atom-52 atom-53\" d=\"M 196.9,108.5 L 204.9,113.1\" style=\"fill:none;fill-rule:evenodd;stroke:#000000;stroke-width:2.0px;stroke-linecap:butt;stroke-linejoin:miter;stroke-opacity:1\"/>\n",
       "<path class=\"bond-54 atom-52 atom-53\" d=\"M 199.1,107.5 L 204.7,110.8\" style=\"fill:none;fill-rule:evenodd;stroke:#000000;stroke-width:2.0px;stroke-linecap:butt;stroke-linejoin:miter;stroke-opacity:1\"/>\n",
       "<path class=\"bond-55 atom-53 atom-54\" d=\"M 204.9,113.1 L 213.0,108.5\" style=\"fill:none;fill-rule:evenodd;stroke:#000000;stroke-width:2.0px;stroke-linecap:butt;stroke-linejoin:miter;stroke-opacity:1\"/>\n",
       "<path class=\"bond-56 atom-54 atom-55\" d=\"M 213.0,108.5 L 213.0,99.2\" style=\"fill:none;fill-rule:evenodd;stroke:#000000;stroke-width:2.0px;stroke-linecap:butt;stroke-linejoin:miter;stroke-opacity:1\"/>\n",
       "<path class=\"bond-56 atom-54 atom-55\" d=\"M 211.1,107.1 L 211.1,100.6\" style=\"fill:none;fill-rule:evenodd;stroke:#000000;stroke-width:2.0px;stroke-linecap:butt;stroke-linejoin:miter;stroke-opacity:1\"/>\n",
       "<path class=\"bond-57 atom-55 atom-50\" d=\"M 213.0,99.2 L 204.9,94.6\" style=\"fill:none;fill-rule:evenodd;stroke:#000000;stroke-width:2.0px;stroke-linecap:butt;stroke-linejoin:miter;stroke-opacity:1\"/>\n",
       "<path class=\"bond-58 atom-48 atom-49\" d=\"M 213.0,80.7 L 204.9,85.3\" style=\"fill:none;fill-rule:evenodd;stroke:#000000;stroke-width:2.0px;stroke-linecap:butt;stroke-linejoin:miter;stroke-opacity:1\"/>\n",
       "<path class=\"bond-59 atom-56 atom-57\" d=\"M 188.9,85.3 L 196.9,80.7\" style=\"fill:none;fill-rule:evenodd;stroke:#000000;stroke-width:2.0px;stroke-linecap:butt;stroke-linejoin:miter;stroke-opacity:1\"/>\n",
       "<path class=\"bond-60 atom-49 atom-57\" d=\"M 204.9,85.3 L 196.9,80.7\" style=\"fill:none;fill-rule:evenodd;stroke:#000000;stroke-width:2.0px;stroke-linecap:butt;stroke-linejoin:miter;stroke-opacity:1\"/>\n",
       "<path class=\"bond-61 atom-58 atom-59\" d=\"M 172.9,85.3 L 180.9,80.7\" style=\"fill:none;fill-rule:evenodd;stroke:#000000;stroke-width:2.0px;stroke-linecap:butt;stroke-linejoin:miter;stroke-opacity:1\"/>\n",
       "<path class=\"bond-62 atom-56 atom-59\" d=\"M 188.9,85.3 L 180.9,80.7\" style=\"fill:none;fill-rule:evenodd;stroke:#000000;stroke-width:2.0px;stroke-linecap:butt;stroke-linejoin:miter;stroke-opacity:1\"/>\n",
       "<path class=\"bond-63 atom-60 atom-61\" d=\"M 156.8,85.3 L 164.8,80.7\" style=\"fill:none;fill-rule:evenodd;stroke:#000000;stroke-width:2.0px;stroke-linecap:butt;stroke-linejoin:miter;stroke-opacity:1\"/>\n",
       "<path class=\"bond-64 atom-58 atom-61\" d=\"M 172.9,85.3 L 164.8,80.7\" style=\"fill:none;fill-rule:evenodd;stroke:#000000;stroke-width:2.0px;stroke-linecap:butt;stroke-linejoin:miter;stroke-opacity:1\"/>\n",
       "<path class=\"bond-65 atom-62 atom-63\" d=\"M 148.8,80.7 L 140.8,85.3\" style=\"fill:none;fill-rule:evenodd;stroke:#000000;stroke-width:2.0px;stroke-linecap:butt;stroke-linejoin:miter;stroke-opacity:1\"/>\n",
       "<path class=\"bond-66 atom-60 atom-62\" d=\"M 156.8,85.3 L 148.8,80.7\" style=\"fill:none;fill-rule:evenodd;stroke:#000000;stroke-width:2.0px;stroke-linecap:butt;stroke-linejoin:miter;stroke-opacity:1\"/>\n",
       "<path class=\"bond-67 atom-64 atom-65\" d=\"M 124.7,85.3 L 132.8,80.7\" style=\"fill:none;fill-rule:evenodd;stroke:#000000;stroke-width:2.0px;stroke-linecap:butt;stroke-linejoin:miter;stroke-opacity:1\"/>\n",
       "<path class=\"bond-68 atom-63 atom-65\" d=\"M 140.8,85.3 L 132.8,80.7\" style=\"fill:none;fill-rule:evenodd;stroke:#000000;stroke-width:2.0px;stroke-linecap:butt;stroke-linejoin:miter;stroke-opacity:1\"/>\n",
       "<path class=\"bond-69 atom-66 atom-67\" d=\"M 116.7,80.7 L 108.7,85.3\" style=\"fill:none;fill-rule:evenodd;stroke:#000000;stroke-width:2.0px;stroke-linecap:butt;stroke-linejoin:miter;stroke-opacity:1\"/>\n",
       "<path class=\"bond-70 atom-64 atom-66\" d=\"M 124.7,85.3 L 116.7,80.7\" style=\"fill:none;fill-rule:evenodd;stroke:#000000;stroke-width:2.0px;stroke-linecap:butt;stroke-linejoin:miter;stroke-opacity:1\"/>\n",
       "<path class=\"bond-71 atom-68 atom-69\" d=\"M 100.7,80.7 L 92.6,85.3\" style=\"fill:none;fill-rule:evenodd;stroke:#000000;stroke-width:2.0px;stroke-linecap:butt;stroke-linejoin:miter;stroke-opacity:1\"/>\n",
       "<path class=\"bond-72 atom-67 atom-68\" d=\"M 108.7,85.3 L 100.7,80.7\" style=\"fill:none;fill-rule:evenodd;stroke:#000000;stroke-width:2.0px;stroke-linecap:butt;stroke-linejoin:miter;stroke-opacity:1\"/>\n",
       "<path class=\"bond-73 atom-70 atom-71\" d=\"M 84.6,80.7 L 76.6,85.3\" style=\"fill:none;fill-rule:evenodd;stroke:#000000;stroke-width:2.0px;stroke-linecap:butt;stroke-linejoin:miter;stroke-opacity:1\"/>\n",
       "<path class=\"bond-74 atom-69 atom-70\" d=\"M 92.6,85.3 L 84.6,80.7\" style=\"fill:none;fill-rule:evenodd;stroke:#000000;stroke-width:2.0px;stroke-linecap:butt;stroke-linejoin:miter;stroke-opacity:1\"/>\n",
       "<path class=\"bond-75 atom-72 atom-73\" d=\"M 68.6,80.7 L 60.6,85.3\" style=\"fill:none;fill-rule:evenodd;stroke:#000000;stroke-width:2.0px;stroke-linecap:butt;stroke-linejoin:miter;stroke-opacity:1\"/>\n",
       "<path class=\"bond-76 atom-73 atom-74\" d=\"M 60.6,85.3 L 52.5,80.6\" style=\"fill:none;fill-rule:evenodd;stroke:#000000;stroke-width:2.0px;stroke-linecap:butt;stroke-linejoin:miter;stroke-opacity:1\"/>\n",
       "<path class=\"bond-77 atom-74 atom-75\" d=\"M 52.5,80.6 L 44.5,85.3\" style=\"fill:none;fill-rule:evenodd;stroke:#000000;stroke-width:2.0px;stroke-linecap:butt;stroke-linejoin:miter;stroke-opacity:1\"/>\n",
       "<path class=\"bond-78 atom-74 atom-76\" d=\"M 52.5,80.6 L 52.5,71.4\" style=\"fill:none;fill-rule:evenodd;stroke:#000000;stroke-width:2.0px;stroke-linecap:butt;stroke-linejoin:miter;stroke-opacity:1\"/>\n",
       "<path class=\"bond-79 atom-76 atom-77\" d=\"M 52.5,71.4 L 44.5,66.8\" style=\"fill:none;fill-rule:evenodd;stroke:#000000;stroke-width:2.0px;stroke-linecap:butt;stroke-linejoin:miter;stroke-opacity:1\"/>\n",
       "<path class=\"bond-80 atom-71 atom-72\" d=\"M 76.6,85.3 L 68.6,80.7\" style=\"fill:none;fill-rule:evenodd;stroke:#000000;stroke-width:2.0px;stroke-linecap:butt;stroke-linejoin:miter;stroke-opacity:1\"/>\n",
       "<path class=\"bond-81 atom-78 atom-79\" d=\"M 36.5,80.6 L 33.6,82.3\" style=\"fill:none;fill-rule:evenodd;stroke:#000000;stroke-width:2.0px;stroke-linecap:butt;stroke-linejoin:miter;stroke-opacity:1\"/>\n",
       "<path class=\"bond-81 atom-78 atom-79\" d=\"M 33.6,82.3 L 30.7,84.0\" style=\"fill:none;fill-rule:evenodd;stroke:#FF0000;stroke-width:2.0px;stroke-linecap:butt;stroke-linejoin:miter;stroke-opacity:1\"/>\n",
       "<path class=\"bond-82 atom-79 atom-80\" d=\"M 26.2,84.0 L 23.3,82.3\" style=\"fill:none;fill-rule:evenodd;stroke:#FF0000;stroke-width:2.0px;stroke-linecap:butt;stroke-linejoin:miter;stroke-opacity:1\"/>\n",
       "<path class=\"bond-82 atom-79 atom-80\" d=\"M 23.3,82.3 L 20.5,80.6\" style=\"fill:none;fill-rule:evenodd;stroke:#000000;stroke-width:2.0px;stroke-linecap:butt;stroke-linejoin:miter;stroke-opacity:1\"/>\n",
       "<path class=\"bond-83 atom-75 atom-78\" d=\"M 44.5,85.3 L 36.5,80.6\" style=\"fill:none;fill-rule:evenodd;stroke:#000000;stroke-width:2.0px;stroke-linecap:butt;stroke-linejoin:miter;stroke-opacity:1\"/>\n",
       "<path class=\"bond-84 atom-81 atom-82\" d=\"M 44.5,57.5 L 41.5,55.7\" style=\"fill:none;fill-rule:evenodd;stroke:#000000;stroke-width:2.0px;stroke-linecap:butt;stroke-linejoin:miter;stroke-opacity:1\"/>\n",
       "<path class=\"bond-84 atom-81 atom-82\" d=\"M 41.5,55.7 L 38.4,54.0\" style=\"fill:none;fill-rule:evenodd;stroke:#0000FF;stroke-width:2.0px;stroke-linecap:butt;stroke-linejoin:miter;stroke-opacity:1\"/>\n",
       "<path class=\"bond-85 atom-77 atom-81\" d=\"M 44.5,66.8 L 44.5,57.5\" style=\"fill:none;fill-rule:evenodd;stroke:#000000;stroke-width:2.0px;stroke-linecap:butt;stroke-linejoin:miter;stroke-opacity:1\"/>\n",
       "<path class=\"atom-0\" d=\"M 373.9 36.9 L 374.4 36.9 L 374.4 38.7 L 376.6 38.7 L 376.6 36.9 L 377.2 36.9 L 377.2 41.1 L 376.6 41.1 L 376.6 39.2 L 374.4 39.2 L 374.4 41.1 L 373.9 41.1 L 373.9 36.9 \" fill=\"#0000FF\"/>\n",
       "<path class=\"atom-0\" d=\"M 377.7 41.0 Q 377.8 40.7, 378.0 40.6 Q 378.3 40.4, 378.6 40.4 Q 379.1 40.4, 379.3 40.7 Q 379.5 40.9, 379.5 41.3 Q 379.5 41.7, 379.2 42.1 Q 378.9 42.5, 378.3 43.0 L 379.6 43.0 L 379.6 43.3 L 377.7 43.3 L 377.7 43.0 Q 378.2 42.6, 378.5 42.4 Q 378.8 42.1, 379.0 41.8 Q 379.1 41.6, 379.1 41.3 Q 379.1 41.0, 379.0 40.9 Q 378.9 40.7, 378.6 40.7 Q 378.4 40.7, 378.3 40.8 Q 378.1 40.9, 378.0 41.1 L 377.7 41.0 \" fill=\"#0000FF\"/>\n",
       "<path class=\"atom-0\" d=\"M 380.5 36.9 L 381.9 39.1 Q 382.0 39.4, 382.2 39.8 Q 382.5 40.2, 382.5 40.2 L 382.5 36.9 L 383.0 36.9 L 383.0 41.1 L 382.5 41.1 L 381.0 38.7 Q 380.8 38.4, 380.6 38.1 Q 380.4 37.7, 380.4 37.6 L 380.4 41.1 L 379.8 41.1 L 379.8 36.9 L 380.5 36.9 \" fill=\"#0000FF\"/>\n",
       "<path class=\"atom-79\" d=\"M 26.5 85.3 Q 26.5 84.3, 27.0 83.7 Q 27.5 83.1, 28.5 83.1 Q 29.4 83.1, 29.9 83.7 Q 30.4 84.3, 30.4 85.3 Q 30.4 86.3, 29.9 86.9 Q 29.4 87.5, 28.5 87.5 Q 27.5 87.5, 27.0 86.9 Q 26.5 86.3, 26.5 85.3 M 28.5 87.0 Q 29.1 87.0, 29.5 86.6 Q 29.8 86.1, 29.8 85.3 Q 29.8 84.5, 29.5 84.0 Q 29.1 83.6, 28.5 83.6 Q 27.8 83.6, 27.5 84.0 Q 27.1 84.4, 27.1 85.3 Q 27.1 86.1, 27.5 86.6 Q 27.8 87.0, 28.5 87.0 \" fill=\"#FF0000\"/>\n",
       "<path class=\"atom-82\" d=\"M 28.9 50.7 L 29.5 50.7 L 29.5 52.5 L 31.7 52.5 L 31.7 50.7 L 32.3 50.7 L 32.3 55.0 L 31.7 55.0 L 31.7 53.0 L 29.5 53.0 L 29.5 55.0 L 28.9 55.0 L 28.9 50.7 \" fill=\"#0000FF\"/>\n",
       "<path class=\"atom-82\" d=\"M 32.8 54.8 Q 32.9 54.6, 33.1 54.4 Q 33.4 54.3, 33.7 54.3 Q 34.1 54.3, 34.4 54.5 Q 34.6 54.7, 34.6 55.1 Q 34.6 55.6, 34.3 55.9 Q 34.0 56.3, 33.4 56.8 L 34.7 56.8 L 34.7 57.1 L 32.8 57.1 L 32.8 56.8 Q 33.3 56.5, 33.6 56.2 Q 33.9 55.9, 34.1 55.7 Q 34.2 55.4, 34.2 55.2 Q 34.2 54.9, 34.1 54.7 Q 33.9 54.6, 33.7 54.6 Q 33.5 54.6, 33.3 54.7 Q 33.2 54.8, 33.1 55.0 L 32.8 54.8 \" fill=\"#0000FF\"/>\n",
       "<path class=\"atom-82\" d=\"M 35.6 50.7 L 37.0 53.0 Q 37.1 53.2, 37.3 53.6 Q 37.5 54.0, 37.5 54.0 L 37.5 50.7 L 38.1 50.7 L 38.1 55.0 L 37.5 55.0 L 36.0 52.5 Q 35.9 52.2, 35.7 51.9 Q 35.5 51.6, 35.4 51.5 L 35.4 55.0 L 34.9 55.0 L 34.9 50.7 L 35.6 50.7 \" fill=\"#0000FF\"/>\n",
       "</svg>"
      ],
      "text/plain": [
       "<IPython.core.display.SVG object>"
      ]
     },
     "execution_count": 47,
     "metadata": {},
     "output_type": "execute_result"
    }
   ],
   "source": [
    "big_smiles_gen(big)"
   ]
  },
  {
   "cell_type": "markdown",
   "id": "475a8bce",
   "metadata": {},
   "source": [
    "# Motifs"
   ]
  },
  {
   "cell_type": "code",
   "execution_count": 48,
   "id": "82f4e909",
   "metadata": {},
   "outputs": [
    {
     "data": {
      "image/svg+xml": [
       "<svg xmlns=\"http://www.w3.org/2000/svg\" xmlns:rdkit=\"http://www.rdkit.org/xml\" xmlns:xlink=\"http://www.w3.org/1999/xlink\" version=\"1.1\" baseProfile=\"full\" xml:space=\"preserve\" width=\"450px\" height=\"150px\" viewBox=\"0 0 450 150\">\n",
       "<!-- END OF HEADER -->\n",
       "<rect style=\"opacity:1.0;fill:#FFFFFF;stroke:none\" width=\"450.0\" height=\"150.0\" x=\"0.0\" y=\"0.0\"> </rect>\n",
       "<path class=\"bond-0 atom-0 atom-1\" d=\"M 313.7,67.9 L 189.1,67.9\" style=\"fill:none;fill-rule:evenodd;stroke:#0000FF;stroke-width:2.0px;stroke-linecap:butt;stroke-linejoin:miter;stroke-opacity:1\"/>\n",
       "<path class=\"bond-0 atom-0 atom-1\" d=\"M 189.1,67.9 L 64.5,67.9\" style=\"fill:none;fill-rule:evenodd;stroke:#000000;stroke-width:2.0px;stroke-linecap:butt;stroke-linejoin:miter;stroke-opacity:1\"/>\n",
       "<path class=\"atom-0\" d=\"M 327.0 53.8 L 336.3 68.8 Q 337.2 70.2, 338.7 72.9 Q 340.2 75.6, 340.3 75.8 L 340.3 53.8 L 344.0 53.8 L 344.0 82.1 L 340.1 82.1 L 330.2 65.7 Q 329.0 63.8, 327.8 61.6 Q 326.6 59.4, 326.2 58.7 L 326.2 82.1 L 322.5 82.1 L 322.5 53.8 L 327.0 53.8 \" fill=\"#0000FF\"/>\n",
       "<path class=\"atom-0\" d=\"M 347.3 53.8 L 351.2 53.8 L 351.2 65.8 L 365.7 65.8 L 365.7 53.8 L 369.5 53.8 L 369.5 82.1 L 365.7 82.1 L 365.7 69.0 L 351.2 69.0 L 351.2 82.1 L 347.3 82.1 L 347.3 53.8 \" fill=\"#0000FF\"/>\n",
       "<path class=\"atom-0\" d=\"M 372.9 81.1 Q 373.6 79.3, 375.3 78.3 Q 376.9 77.3, 379.2 77.3 Q 382.0 77.3, 383.6 78.9 Q 385.2 80.4, 385.2 83.1 Q 385.2 85.9, 383.1 88.5 Q 381.1 91.1, 376.9 94.1 L 385.5 94.1 L 385.5 96.2 L 372.9 96.2 L 372.9 94.5 Q 376.4 92.0, 378.4 90.1 Q 380.5 88.3, 381.5 86.6 Q 382.5 85.0, 382.5 83.3 Q 382.5 81.5, 381.6 80.5 Q 380.7 79.4, 379.2 79.4 Q 377.7 79.4, 376.7 80.1 Q 375.7 80.7, 375.0 82.0 L 372.9 81.1 \" fill=\"#0000FF\"/>\n",
       "</svg>"
      ],
      "text/plain": [
       "<IPython.core.display.SVG object>"
      ]
     },
     "execution_count": 48,
     "metadata": {},
     "output_type": "execute_result"
    }
   ],
   "source": [
    "render_svg(moltosvg(Chem.MolFromSmiles(\"NC\")))"
   ]
  },
  {
   "cell_type": "code",
   "execution_count": 49,
   "id": "23f5aca0",
   "metadata": {},
   "outputs": [
    {
     "data": {
      "image/svg+xml": [
       "<svg xmlns=\"http://www.w3.org/2000/svg\" xmlns:rdkit=\"http://www.rdkit.org/xml\" xmlns:xlink=\"http://www.w3.org/1999/xlink\" version=\"1.1\" baseProfile=\"full\" xml:space=\"preserve\" width=\"450px\" height=\"150px\" viewBox=\"0 0 450 150\">\n",
       "<!-- END OF HEADER -->\n",
       "<rect style=\"opacity:1.0;fill:#FFFFFF;stroke:none\" width=\"450.0\" height=\"150.0\" x=\"0.0\" y=\"0.0\"> </rect>\n",
       "<path class=\"bond-0 atom-0 atom-1\" d=\"M 168.8,75.0 L 281.2,75.0\" style=\"fill:none;fill-rule:evenodd;stroke:#000000;stroke-width:2.0px;stroke-linecap:butt;stroke-linejoin:miter;stroke-opacity:1\"/>\n",
       "</svg>"
      ],
      "text/plain": [
       "<IPython.core.display.SVG object>"
      ]
     },
     "execution_count": 49,
     "metadata": {},
     "output_type": "execute_result"
    }
   ],
   "source": [
    "render_svg(moltosvg(Chem.MolFromSmiles(\"CC\")))"
   ]
  },
  {
   "cell_type": "code",
   "execution_count": 50,
   "id": "e285912c",
   "metadata": {},
   "outputs": [
    {
     "data": {
      "image/svg+xml": [
       "<svg xmlns=\"http://www.w3.org/2000/svg\" xmlns:rdkit=\"http://www.rdkit.org/xml\" xmlns:xlink=\"http://www.w3.org/1999/xlink\" version=\"1.1\" baseProfile=\"full\" xml:space=\"preserve\" width=\"450px\" height=\"150px\" viewBox=\"0 0 450 150\">\n",
       "<!-- END OF HEADER -->\n",
       "<rect style=\"opacity:1.0;fill:#FFFFFF;stroke:none\" width=\"450.0\" height=\"150.0\" x=\"0.0\" y=\"0.0\"> </rect>\n",
       "<path class=\"bond-0 atom-0 atom-1\" d=\"M 343.1,6.8 L 303.7,75.0\" style=\"fill:none;fill-rule:evenodd;stroke:#000000;stroke-width:2.0px;stroke-linecap:butt;stroke-linejoin:miter;stroke-opacity:1\"/>\n",
       "<path class=\"bond-1 atom-1 atom-2\" d=\"M 303.7,75.0 L 225.0,75.0\" style=\"fill:none;fill-rule:evenodd;stroke:#000000;stroke-width:2.0px;stroke-linecap:butt;stroke-linejoin:miter;stroke-opacity:1\"/>\n",
       "<path class=\"bond-2 atom-2 atom-3\" d=\"M 225.0,75.0 L 185.6,143.2\" style=\"fill:none;fill-rule:evenodd;stroke:#000000;stroke-width:2.0px;stroke-linecap:butt;stroke-linejoin:miter;stroke-opacity:1\"/>\n",
       "<path class=\"bond-3 atom-2 atom-4\" d=\"M 225.0,75.0 L 185.6,6.8\" style=\"fill:none;fill-rule:evenodd;stroke:#000000;stroke-width:2.0px;stroke-linecap:butt;stroke-linejoin:miter;stroke-opacity:1\"/>\n",
       "<path class=\"bond-4 atom-4 atom-5\" d=\"M 185.6,6.8 L 106.9,6.8\" style=\"fill:none;fill-rule:evenodd;stroke:#000000;stroke-width:2.0px;stroke-linecap:butt;stroke-linejoin:miter;stroke-opacity:1\"/>\n",
       "</svg>"
      ],
      "text/plain": [
       "<IPython.core.display.SVG object>"
      ]
     },
     "execution_count": 50,
     "metadata": {},
     "output_type": "execute_result"
    }
   ],
   "source": [
    "render_svg(moltosvg(Chem.MolFromSmiles(\"CCC(C)CC\")))"
   ]
  },
  {
   "cell_type": "code",
   "execution_count": 51,
   "id": "ea17838b",
   "metadata": {},
   "outputs": [
    {
     "data": {
      "image/svg+xml": [
       "<svg xmlns=\"http://www.w3.org/2000/svg\" xmlns:rdkit=\"http://www.rdkit.org/xml\" xmlns:xlink=\"http://www.w3.org/1999/xlink\" version=\"1.1\" baseProfile=\"full\" xml:space=\"preserve\" width=\"450px\" height=\"150px\" viewBox=\"0 0 450 150\">\n",
       "<!-- END OF HEADER -->\n",
       "<rect style=\"opacity:1.0;fill:#FFFFFF;stroke:none\" width=\"450.0\" height=\"150.0\" x=\"0.0\" y=\"0.0\"> </rect>\n",
       "<path class=\"bond-0 atom-0 atom-1\" d=\"M 37.5,38.8 L 206.0,38.8\" style=\"fill:none;fill-rule:evenodd;stroke:#000000;stroke-width:2.0px;stroke-linecap:butt;stroke-linejoin:miter;stroke-opacity:1\"/>\n",
       "<path class=\"bond-0 atom-0 atom-1\" d=\"M 206.0,38.8 L 374.6,38.8\" style=\"fill:none;fill-rule:evenodd;stroke:#FF0000;stroke-width:2.0px;stroke-linecap:butt;stroke-linejoin:miter;stroke-opacity:1\"/>\n",
       "<path class=\"bond-0 atom-0 atom-1\" d=\"M 37.5,111.2 L 206.0,111.2\" style=\"fill:none;fill-rule:evenodd;stroke:#000000;stroke-width:2.0px;stroke-linecap:butt;stroke-linejoin:miter;stroke-opacity:1\"/>\n",
       "<path class=\"bond-0 atom-0 atom-1\" d=\"M 206.0,111.2 L 374.6,111.2\" style=\"fill:none;fill-rule:evenodd;stroke:#FF0000;stroke-width:2.0px;stroke-linecap:butt;stroke-linejoin:miter;stroke-opacity:1\"/>\n",
       "<path class=\"atom-1\" d=\"M 386.5 75.1 Q 386.5 68.3, 389.9 64.5 Q 393.2 60.7, 399.5 60.7 Q 405.8 60.7, 409.2 64.5 Q 412.5 68.3, 412.5 75.1 Q 412.5 82.0, 409.1 85.9 Q 405.7 89.8, 399.5 89.8 Q 393.3 89.8, 389.9 85.9 Q 386.5 82.0, 386.5 75.1 M 399.5 86.6 Q 403.8 86.6, 406.2 83.7 Q 408.5 80.8, 408.5 75.1 Q 408.5 69.5, 406.2 66.7 Q 403.8 63.9, 399.5 63.9 Q 395.2 63.9, 392.8 66.7 Q 390.5 69.5, 390.5 75.1 Q 390.5 80.8, 392.8 83.7 Q 395.2 86.6, 399.5 86.6 \" fill=\"#FF0000\"/>\n",
       "</svg>"
      ],
      "text/plain": [
       "<IPython.core.display.SVG object>"
      ]
     },
     "execution_count": 51,
     "metadata": {},
     "output_type": "execute_result"
    }
   ],
   "source": [
    "render_svg(moltosvg(Chem.MolFromSmiles(\"C=O\")))"
   ]
  },
  {
   "cell_type": "code",
   "execution_count": 52,
   "id": "6c1aca33",
   "metadata": {},
   "outputs": [
    {
     "data": {
      "image/svg+xml": [
       "<svg xmlns=\"http://www.w3.org/2000/svg\" xmlns:rdkit=\"http://www.rdkit.org/xml\" xmlns:xlink=\"http://www.w3.org/1999/xlink\" version=\"1.1\" baseProfile=\"full\" xml:space=\"preserve\" width=\"450px\" height=\"150px\" viewBox=\"0 0 450 150\">\n",
       "<!-- END OF HEADER -->\n",
       "<rect style=\"opacity:1.0;fill:#FFFFFF;stroke:none\" width=\"450.0\" height=\"150.0\" x=\"0.0\" y=\"0.0\"> </rect>\n",
       "<path class=\"bond-0 atom-0 atom-1\" d=\"M 104.2,49.1 L 152.6,101.6\" style=\"fill:none;fill-rule:evenodd;stroke:#000000;stroke-width:2.0px;stroke-linecap:butt;stroke-linejoin:miter;stroke-opacity:1\"/>\n",
       "<path class=\"bond-0 atom-0 atom-1\" d=\"M 93.7,58.8 L 142.1,111.3\" style=\"fill:none;fill-rule:evenodd;stroke:#000000;stroke-width:2.0px;stroke-linecap:butt;stroke-linejoin:miter;stroke-opacity:1\"/>\n",
       "<path class=\"bond-1 atom-1 atom-2\" d=\"M 147.4,106.4 L 217.0,90.7\" style=\"fill:none;fill-rule:evenodd;stroke:#000000;stroke-width:2.0px;stroke-linecap:butt;stroke-linejoin:miter;stroke-opacity:1\"/>\n",
       "<path class=\"bond-2 atom-2 atom-3\" d=\"M 217.0,90.7 L 238.2,22.5\" style=\"fill:none;fill-rule:evenodd;stroke:#000000;stroke-width:2.0px;stroke-linecap:butt;stroke-linejoin:miter;stroke-opacity:1\"/>\n",
       "<path class=\"bond-2 atom-2 atom-3\" d=\"M 233.8,84.7 L 248.7,37.0\" style=\"fill:none;fill-rule:evenodd;stroke:#000000;stroke-width:2.0px;stroke-linecap:butt;stroke-linejoin:miter;stroke-opacity:1\"/>\n",
       "<path class=\"bond-3 atom-3 atom-4\" d=\"M 238.2,22.5 L 307.9,6.8\" style=\"fill:none;fill-rule:evenodd;stroke:#000000;stroke-width:2.0px;stroke-linecap:butt;stroke-linejoin:miter;stroke-opacity:1\"/>\n",
       "<path class=\"bond-4 atom-4 atom-5\" d=\"M 307.9,6.8 L 356.3,59.3\" style=\"fill:none;fill-rule:evenodd;stroke:#000000;stroke-width:2.0px;stroke-linecap:butt;stroke-linejoin:miter;stroke-opacity:1\"/>\n",
       "<path class=\"bond-4 atom-4 atom-5\" d=\"M 304.7,24.4 L 338.6,61.1\" style=\"fill:none;fill-rule:evenodd;stroke:#000000;stroke-width:2.0px;stroke-linecap:butt;stroke-linejoin:miter;stroke-opacity:1\"/>\n",
       "<path class=\"bond-5 atom-5 atom-6\" d=\"M 356.3,59.3 L 335.1,127.5\" style=\"fill:none;fill-rule:evenodd;stroke:#000000;stroke-width:2.0px;stroke-linecap:butt;stroke-linejoin:miter;stroke-opacity:1\"/>\n",
       "<path class=\"bond-6 atom-6 atom-7\" d=\"M 335.1,127.5 L 265.4,143.2\" style=\"fill:none;fill-rule:evenodd;stroke:#000000;stroke-width:2.0px;stroke-linecap:butt;stroke-linejoin:miter;stroke-opacity:1\"/>\n",
       "<path class=\"bond-6 atom-6 atom-7\" d=\"M 321.5,115.9 L 272.8,126.9\" style=\"fill:none;fill-rule:evenodd;stroke:#000000;stroke-width:2.0px;stroke-linecap:butt;stroke-linejoin:miter;stroke-opacity:1\"/>\n",
       "<path class=\"bond-7 atom-7 atom-2\" d=\"M 265.4,143.2 L 217.0,90.7\" style=\"fill:none;fill-rule:evenodd;stroke:#000000;stroke-width:2.0px;stroke-linecap:butt;stroke-linejoin:miter;stroke-opacity:1\"/>\n",
       "</svg>"
      ],
      "text/plain": [
       "<IPython.core.display.SVG object>"
      ]
     },
     "execution_count": 52,
     "metadata": {},
     "output_type": "execute_result"
    }
   ],
   "source": [
    "render_svg(moltosvg(Chem.MolFromSmiles(\"C=Cc1ccccc1\")))"
   ]
  },
  {
   "cell_type": "code",
   "execution_count": null,
   "id": "a4a31328",
   "metadata": {},
   "outputs": [],
   "source": []
  }
 ],
 "metadata": {
  "kernelspec": {
   "display_name": "Elwood",
   "language": "python",
   "name": "elwood"
  },
  "language_info": {
   "codemirror_mode": {
    "name": "ipython",
    "version": 3
   },
   "file_extension": ".py",
   "mimetype": "text/x-python",
   "name": "python",
   "nbconvert_exporter": "python",
   "pygments_lexer": "ipython3",
   "version": "3.9.12"
  }
 },
 "nbformat": 4,
 "nbformat_minor": 5
}
