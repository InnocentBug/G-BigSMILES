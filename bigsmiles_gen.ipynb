{
 "cells": [
  {
   "cell_type": "code",
   "execution_count": 1,
   "id": "8fdabf24",
   "metadata": {},
   "outputs": [],
   "source": [
    "import numpy as np\n",
    "from rdkit import Chem\n",
    "from rdkit.Chem.Draw import IPythonConsole\n",
    "from IPython.display import SVG\n",
    "\n",
    "from rdkit.Chem import rdDepictor\n",
    "from rdkit.Chem.Draw import rdMolDraw2D\n",
    "\n",
    "counter = 0\n",
    "\n",
    "\n",
    "def moltosvg(mol, molSize=(450, 150), kekulize=True):\n",
    "    mc = Chem.Mol(mol.ToBinary())\n",
    "    if kekulize:\n",
    "        try:\n",
    "            Chem.Kekulize(mc)\n",
    "        except:\n",
    "            mc = Chem.Mol(mol.ToBinary())\n",
    "    if not mc.GetNumConformers():\n",
    "        rdDepictor.Compute2DCoords(mc)\n",
    "    drawer = rdMolDraw2D.MolDraw2DSVG(molSize[0], molSize[1])\n",
    "    drawer.DrawMolecule(mc)\n",
    "    drawer.FinishDrawing()\n",
    "    svg = drawer.GetDrawingText()\n",
    "    global counter\n",
    "    # with open(f\"mol{counter}.svg\", \"w\") as filehandle:\n",
    "    #    filehandle.write(svg)\n",
    "    # print(counter)\n",
    "    counter += 1\n",
    "    return svg\n",
    "\n",
    "\n",
    "def render_svg(svg):\n",
    "    # It seems that the svg renderer used doesn't quite hit the spec.\n",
    "    # Here are some fixes to make it work in the notebook, although I think\n",
    "    # the underlying issue needs to be resolved at the generation step\n",
    "    return SVG(svg.replace(\"svg:\", \"\"))"
   ]
  },
  {
   "cell_type": "markdown",
   "id": "c9c47332",
   "metadata": {},
   "source": [
    "#### Helper function to generate and visualize bigSMILES strings"
   ]
  },
  {
   "cell_type": "code",
   "execution_count": 2,
   "id": "d34df229",
   "metadata": {},
   "outputs": [],
   "source": [
    "from bigsmiles_gen import System\n",
    "\n",
    "# Consistent random numbers also across calls\n",
    "rng = np.random.default_rng(42)\n",
    "\n",
    "\n",
    "def big_smiles_gen(string):\n",
    "    global rng\n",
    "    # Generate the abstract python object, parsing bigSMILES\n",
    "    ext = System(big)\n",
    "    # Generate molecules according to extension\n",
    "    mol = ext.generate(rng=rng)\n",
    "    # Draw said molecule\n",
    "    return render_svg(moltosvg(mol.get_mol()))"
   ]
  },
  {
   "cell_type": "markdown",
   "id": "a0269eff",
   "metadata": {},
   "source": [
    "# Polyesters \n",
    "## Di-Carboxyl Acids with 2-5 middle C total Mw 500\n",
    "\n",
    "BigSMILES:"
   ]
  },
  {
   "cell_type": "code",
   "execution_count": 3,
   "id": "51c788ab",
   "metadata": {},
   "outputs": [
    {
     "data": {
      "text/plain": [
       "'OOC{[$][$]C[$][$]}|uniform(120, 720)|COO.|500|'"
      ]
     },
     "execution_count": 3,
     "metadata": {},
     "output_type": "execute_result"
    }
   ],
   "source": [
    "big = \"OOC{[$][$]C[$][$]}|uniform(120, 720)|COO.|500|\"\n",
    "big"
   ]
  },
  {
   "cell_type": "markdown",
   "id": "f5bbde03",
   "metadata": {},
   "source": [
    "### Explanation\n",
    "\n",
    "- `OOC` just normal SMILES for how the first initial group looks like\n",
    "- `{....}` stochastic object, here just one carbon that is repeated\n",
    "- `{[$]` and `[$]}` terminal descriptors, how does the stochastic object connect with the pre- and suffix\n",
    "- `[$]C[$]` one C to repeat, with a bond in front and one at the end\n",
    "- `|uniform(12, 72)|` extension detailing that the stochastic object is between 12 and 72 g/mol heavy\n",
    "- `COO` suffix of the molecule\n",
    "- `.|500|` extension detailing that the total system component of this as a min Mw of 500 g/mol\n"
   ]
  },
  {
   "cell_type": "code",
   "execution_count": 4,
   "id": "4e74171e",
   "metadata": {},
   "outputs": [
    {
     "data": {
      "image/svg+xml": [
       "<svg xmlns=\"http://www.w3.org/2000/svg\" xmlns:rdkit=\"http://www.rdkit.org/xml\" xmlns:xlink=\"http://www.w3.org/1999/xlink\" version=\"1.1\" baseProfile=\"full\" xml:space=\"preserve\" width=\"450px\" height=\"150px\" viewBox=\"0 0 450 150\">\n",
       "<!-- END OF HEADER -->\n",
       "<rect style=\"opacity:1.0;fill:#FFFFFF;stroke:none\" width=\"450.0\" height=\"150.0\" x=\"0.0\" y=\"0.0\"> </rect>\n",
       "<path class=\"bond-0 atom-0 atom-1\" d=\"M 26.5,76.1 L 30.3,73.9\" style=\"fill:none;fill-rule:evenodd;stroke:#FF0000;stroke-width:2.0px;stroke-linecap:butt;stroke-linejoin:miter;stroke-opacity:1\"/>\n",
       "<path class=\"bond-1 atom-1 atom-2\" d=\"M 34.9,73.9 L 37.9,75.6\" style=\"fill:none;fill-rule:evenodd;stroke:#FF0000;stroke-width:2.0px;stroke-linecap:butt;stroke-linejoin:miter;stroke-opacity:1\"/>\n",
       "<path class=\"bond-1 atom-1 atom-2\" d=\"M 37.9,75.6 L 41.0,77.4\" style=\"fill:none;fill-rule:evenodd;stroke:#000000;stroke-width:2.0px;stroke-linecap:butt;stroke-linejoin:miter;stroke-opacity:1\"/>\n",
       "<path class=\"bond-2 atom-2 atom-3\" d=\"M 41.0,77.4 L 49.3,72.6\" style=\"fill:none;fill-rule:evenodd;stroke:#000000;stroke-width:2.0px;stroke-linecap:butt;stroke-linejoin:miter;stroke-opacity:1\"/>\n",
       "<path class=\"bond-3 atom-3 atom-4\" d=\"M 49.3,72.6 L 57.7,77.4\" style=\"fill:none;fill-rule:evenodd;stroke:#000000;stroke-width:2.0px;stroke-linecap:butt;stroke-linejoin:miter;stroke-opacity:1\"/>\n",
       "<path class=\"bond-4 atom-4 atom-5\" d=\"M 57.7,77.4 L 66.1,72.6\" style=\"fill:none;fill-rule:evenodd;stroke:#000000;stroke-width:2.0px;stroke-linecap:butt;stroke-linejoin:miter;stroke-opacity:1\"/>\n",
       "<path class=\"bond-5 atom-5 atom-6\" d=\"M 66.1,72.6 L 74.4,77.4\" style=\"fill:none;fill-rule:evenodd;stroke:#000000;stroke-width:2.0px;stroke-linecap:butt;stroke-linejoin:miter;stroke-opacity:1\"/>\n",
       "<path class=\"bond-6 atom-6 atom-7\" d=\"M 74.4,77.4 L 82.8,72.6\" style=\"fill:none;fill-rule:evenodd;stroke:#000000;stroke-width:2.0px;stroke-linecap:butt;stroke-linejoin:miter;stroke-opacity:1\"/>\n",
       "<path class=\"bond-7 atom-7 atom-8\" d=\"M 82.8,72.6 L 91.2,77.4\" style=\"fill:none;fill-rule:evenodd;stroke:#000000;stroke-width:2.0px;stroke-linecap:butt;stroke-linejoin:miter;stroke-opacity:1\"/>\n",
       "<path class=\"bond-8 atom-8 atom-9\" d=\"M 91.2,77.4 L 99.6,72.6\" style=\"fill:none;fill-rule:evenodd;stroke:#000000;stroke-width:2.0px;stroke-linecap:butt;stroke-linejoin:miter;stroke-opacity:1\"/>\n",
       "<path class=\"bond-9 atom-9 atom-10\" d=\"M 99.6,72.6 L 107.9,77.4\" style=\"fill:none;fill-rule:evenodd;stroke:#000000;stroke-width:2.0px;stroke-linecap:butt;stroke-linejoin:miter;stroke-opacity:1\"/>\n",
       "<path class=\"bond-10 atom-10 atom-11\" d=\"M 107.9,77.4 L 116.3,72.6\" style=\"fill:none;fill-rule:evenodd;stroke:#000000;stroke-width:2.0px;stroke-linecap:butt;stroke-linejoin:miter;stroke-opacity:1\"/>\n",
       "<path class=\"bond-11 atom-11 atom-12\" d=\"M 116.3,72.6 L 124.7,77.4\" style=\"fill:none;fill-rule:evenodd;stroke:#000000;stroke-width:2.0px;stroke-linecap:butt;stroke-linejoin:miter;stroke-opacity:1\"/>\n",
       "<path class=\"bond-12 atom-12 atom-13\" d=\"M 124.7,77.4 L 133.0,72.6\" style=\"fill:none;fill-rule:evenodd;stroke:#000000;stroke-width:2.0px;stroke-linecap:butt;stroke-linejoin:miter;stroke-opacity:1\"/>\n",
       "<path class=\"bond-13 atom-13 atom-14\" d=\"M 133.0,72.6 L 141.4,77.4\" style=\"fill:none;fill-rule:evenodd;stroke:#000000;stroke-width:2.0px;stroke-linecap:butt;stroke-linejoin:miter;stroke-opacity:1\"/>\n",
       "<path class=\"bond-14 atom-14 atom-15\" d=\"M 141.4,77.4 L 149.8,72.6\" style=\"fill:none;fill-rule:evenodd;stroke:#000000;stroke-width:2.0px;stroke-linecap:butt;stroke-linejoin:miter;stroke-opacity:1\"/>\n",
       "<path class=\"bond-15 atom-15 atom-16\" d=\"M 149.8,72.6 L 158.1,77.4\" style=\"fill:none;fill-rule:evenodd;stroke:#000000;stroke-width:2.0px;stroke-linecap:butt;stroke-linejoin:miter;stroke-opacity:1\"/>\n",
       "<path class=\"bond-16 atom-16 atom-17\" d=\"M 158.1,77.4 L 166.5,72.6\" style=\"fill:none;fill-rule:evenodd;stroke:#000000;stroke-width:2.0px;stroke-linecap:butt;stroke-linejoin:miter;stroke-opacity:1\"/>\n",
       "<path class=\"bond-17 atom-17 atom-18\" d=\"M 166.5,72.6 L 174.9,77.4\" style=\"fill:none;fill-rule:evenodd;stroke:#000000;stroke-width:2.0px;stroke-linecap:butt;stroke-linejoin:miter;stroke-opacity:1\"/>\n",
       "<path class=\"bond-18 atom-18 atom-19\" d=\"M 174.9,77.4 L 183.3,72.6\" style=\"fill:none;fill-rule:evenodd;stroke:#000000;stroke-width:2.0px;stroke-linecap:butt;stroke-linejoin:miter;stroke-opacity:1\"/>\n",
       "<path class=\"bond-19 atom-19 atom-20\" d=\"M 183.3,72.6 L 191.6,77.4\" style=\"fill:none;fill-rule:evenodd;stroke:#000000;stroke-width:2.0px;stroke-linecap:butt;stroke-linejoin:miter;stroke-opacity:1\"/>\n",
       "<path class=\"bond-20 atom-20 atom-21\" d=\"M 191.6,77.4 L 200.0,72.6\" style=\"fill:none;fill-rule:evenodd;stroke:#000000;stroke-width:2.0px;stroke-linecap:butt;stroke-linejoin:miter;stroke-opacity:1\"/>\n",
       "<path class=\"bond-21 atom-21 atom-22\" d=\"M 200.0,72.6 L 208.4,77.4\" style=\"fill:none;fill-rule:evenodd;stroke:#000000;stroke-width:2.0px;stroke-linecap:butt;stroke-linejoin:miter;stroke-opacity:1\"/>\n",
       "<path class=\"bond-22 atom-22 atom-23\" d=\"M 208.4,77.4 L 216.7,72.6\" style=\"fill:none;fill-rule:evenodd;stroke:#000000;stroke-width:2.0px;stroke-linecap:butt;stroke-linejoin:miter;stroke-opacity:1\"/>\n",
       "<path class=\"bond-23 atom-23 atom-24\" d=\"M 216.7,72.6 L 225.1,77.4\" style=\"fill:none;fill-rule:evenodd;stroke:#000000;stroke-width:2.0px;stroke-linecap:butt;stroke-linejoin:miter;stroke-opacity:1\"/>\n",
       "<path class=\"bond-24 atom-24 atom-25\" d=\"M 225.1,77.4 L 233.5,72.6\" style=\"fill:none;fill-rule:evenodd;stroke:#000000;stroke-width:2.0px;stroke-linecap:butt;stroke-linejoin:miter;stroke-opacity:1\"/>\n",
       "<path class=\"bond-25 atom-25 atom-26\" d=\"M 233.5,72.6 L 241.8,77.4\" style=\"fill:none;fill-rule:evenodd;stroke:#000000;stroke-width:2.0px;stroke-linecap:butt;stroke-linejoin:miter;stroke-opacity:1\"/>\n",
       "<path class=\"bond-26 atom-26 atom-27\" d=\"M 241.8,77.4 L 250.2,72.6\" style=\"fill:none;fill-rule:evenodd;stroke:#000000;stroke-width:2.0px;stroke-linecap:butt;stroke-linejoin:miter;stroke-opacity:1\"/>\n",
       "<path class=\"bond-27 atom-27 atom-28\" d=\"M 250.2,72.6 L 258.6,77.4\" style=\"fill:none;fill-rule:evenodd;stroke:#000000;stroke-width:2.0px;stroke-linecap:butt;stroke-linejoin:miter;stroke-opacity:1\"/>\n",
       "<path class=\"bond-28 atom-28 atom-29\" d=\"M 258.6,77.4 L 267.0,72.6\" style=\"fill:none;fill-rule:evenodd;stroke:#000000;stroke-width:2.0px;stroke-linecap:butt;stroke-linejoin:miter;stroke-opacity:1\"/>\n",
       "<path class=\"bond-29 atom-29 atom-30\" d=\"M 267.0,72.6 L 275.3,77.4\" style=\"fill:none;fill-rule:evenodd;stroke:#000000;stroke-width:2.0px;stroke-linecap:butt;stroke-linejoin:miter;stroke-opacity:1\"/>\n",
       "<path class=\"bond-30 atom-30 atom-31\" d=\"M 275.3,77.4 L 283.7,72.6\" style=\"fill:none;fill-rule:evenodd;stroke:#000000;stroke-width:2.0px;stroke-linecap:butt;stroke-linejoin:miter;stroke-opacity:1\"/>\n",
       "<path class=\"bond-31 atom-31 atom-32\" d=\"M 283.7,72.6 L 292.1,77.4\" style=\"fill:none;fill-rule:evenodd;stroke:#000000;stroke-width:2.0px;stroke-linecap:butt;stroke-linejoin:miter;stroke-opacity:1\"/>\n",
       "<path class=\"bond-32 atom-32 atom-33\" d=\"M 292.1,77.4 L 300.4,72.6\" style=\"fill:none;fill-rule:evenodd;stroke:#000000;stroke-width:2.0px;stroke-linecap:butt;stroke-linejoin:miter;stroke-opacity:1\"/>\n",
       "<path class=\"bond-33 atom-33 atom-34\" d=\"M 300.4,72.6 L 308.8,77.4\" style=\"fill:none;fill-rule:evenodd;stroke:#000000;stroke-width:2.0px;stroke-linecap:butt;stroke-linejoin:miter;stroke-opacity:1\"/>\n",
       "<path class=\"bond-34 atom-34 atom-35\" d=\"M 308.8,77.4 L 317.2,72.6\" style=\"fill:none;fill-rule:evenodd;stroke:#000000;stroke-width:2.0px;stroke-linecap:butt;stroke-linejoin:miter;stroke-opacity:1\"/>\n",
       "<path class=\"bond-35 atom-35 atom-36\" d=\"M 317.2,72.6 L 325.5,77.4\" style=\"fill:none;fill-rule:evenodd;stroke:#000000;stroke-width:2.0px;stroke-linecap:butt;stroke-linejoin:miter;stroke-opacity:1\"/>\n",
       "<path class=\"bond-36 atom-36 atom-37\" d=\"M 325.5,77.4 L 333.9,72.6\" style=\"fill:none;fill-rule:evenodd;stroke:#000000;stroke-width:2.0px;stroke-linecap:butt;stroke-linejoin:miter;stroke-opacity:1\"/>\n",
       "<path class=\"bond-37 atom-37 atom-38\" d=\"M 333.9,72.6 L 342.3,77.4\" style=\"fill:none;fill-rule:evenodd;stroke:#000000;stroke-width:2.0px;stroke-linecap:butt;stroke-linejoin:miter;stroke-opacity:1\"/>\n",
       "<path class=\"bond-38 atom-38 atom-39\" d=\"M 342.3,77.4 L 350.7,72.6\" style=\"fill:none;fill-rule:evenodd;stroke:#000000;stroke-width:2.0px;stroke-linecap:butt;stroke-linejoin:miter;stroke-opacity:1\"/>\n",
       "<path class=\"bond-39 atom-39 atom-40\" d=\"M 350.7,72.6 L 359.0,77.4\" style=\"fill:none;fill-rule:evenodd;stroke:#000000;stroke-width:2.0px;stroke-linecap:butt;stroke-linejoin:miter;stroke-opacity:1\"/>\n",
       "<path class=\"bond-40 atom-40 atom-41\" d=\"M 359.0,77.4 L 367.4,72.6\" style=\"fill:none;fill-rule:evenodd;stroke:#000000;stroke-width:2.0px;stroke-linecap:butt;stroke-linejoin:miter;stroke-opacity:1\"/>\n",
       "<path class=\"bond-41 atom-41 atom-42\" d=\"M 367.4,72.6 L 375.8,77.4\" style=\"fill:none;fill-rule:evenodd;stroke:#000000;stroke-width:2.0px;stroke-linecap:butt;stroke-linejoin:miter;stroke-opacity:1\"/>\n",
       "<path class=\"bond-42 atom-42 atom-43\" d=\"M 375.8,77.4 L 384.1,72.6\" style=\"fill:none;fill-rule:evenodd;stroke:#000000;stroke-width:2.0px;stroke-linecap:butt;stroke-linejoin:miter;stroke-opacity:1\"/>\n",
       "<path class=\"bond-43 atom-43 atom-44\" d=\"M 384.1,72.6 L 392.5,77.4\" style=\"fill:none;fill-rule:evenodd;stroke:#000000;stroke-width:2.0px;stroke-linecap:butt;stroke-linejoin:miter;stroke-opacity:1\"/>\n",
       "<path class=\"bond-44 atom-44 atom-45\" d=\"M 392.5,77.4 L 400.9,72.6\" style=\"fill:none;fill-rule:evenodd;stroke:#000000;stroke-width:2.0px;stroke-linecap:butt;stroke-linejoin:miter;stroke-opacity:1\"/>\n",
       "<path class=\"bond-45 atom-46 atom-47\" d=\"M 409.3,77.4 L 412.3,75.6\" style=\"fill:none;fill-rule:evenodd;stroke:#000000;stroke-width:2.0px;stroke-linecap:butt;stroke-linejoin:miter;stroke-opacity:1\"/>\n",
       "<path class=\"bond-45 atom-46 atom-47\" d=\"M 412.3,75.6 L 415.4,73.9\" style=\"fill:none;fill-rule:evenodd;stroke:#FF0000;stroke-width:2.0px;stroke-linecap:butt;stroke-linejoin:miter;stroke-opacity:1\"/>\n",
       "<path class=\"bond-46 atom-47 atom-48\" d=\"M 419.9,73.9 L 423.7,76.1\" style=\"fill:none;fill-rule:evenodd;stroke:#FF0000;stroke-width:2.0px;stroke-linecap:butt;stroke-linejoin:miter;stroke-opacity:1\"/>\n",
       "<path class=\"bond-47 atom-45 atom-46\" d=\"M 400.9,72.6 L 409.3,77.4\" style=\"fill:none;fill-rule:evenodd;stroke:#000000;stroke-width:2.0px;stroke-linecap:butt;stroke-linejoin:miter;stroke-opacity:1\"/>\n",
       "<path class=\"atom-0\" d=\"M 18.4 75.3 L 19.0 75.3 L 19.0 77.1 L 21.2 77.1 L 21.2 75.3 L 21.8 75.3 L 21.8 79.5 L 21.2 79.5 L 21.2 77.6 L 19.0 77.6 L 19.0 79.5 L 18.4 79.5 L 18.4 75.3 \" fill=\"#FF0000\"/>\n",
       "<path class=\"atom-0\" d=\"M 22.3 77.4 Q 22.3 76.4, 22.8 75.8 Q 23.3 75.2, 24.2 75.2 Q 25.2 75.2, 25.7 75.8 Q 26.2 76.4, 26.2 77.4 Q 26.2 78.4, 25.7 79.0 Q 25.1 79.6, 24.2 79.6 Q 23.3 79.6, 22.8 79.0 Q 22.3 78.4, 22.3 77.4 M 24.2 79.1 Q 24.9 79.1, 25.2 78.7 Q 25.6 78.2, 25.6 77.4 Q 25.6 76.6, 25.2 76.1 Q 24.9 75.7, 24.2 75.7 Q 23.6 75.7, 23.2 76.1 Q 22.9 76.6, 22.9 77.4 Q 22.9 78.3, 23.2 78.7 Q 23.6 79.1, 24.2 79.1 \" fill=\"#FF0000\"/>\n",
       "<path class=\"atom-1\" d=\"M 30.6 72.6 Q 30.6 71.5, 31.1 71.0 Q 31.6 70.4, 32.6 70.4 Q 33.5 70.4, 34.0 71.0 Q 34.5 71.5, 34.5 72.6 Q 34.5 73.6, 34.0 74.2 Q 33.5 74.8, 32.6 74.8 Q 31.7 74.8, 31.1 74.2 Q 30.6 73.6, 30.6 72.6 M 32.6 74.3 Q 33.2 74.3, 33.6 73.9 Q 33.9 73.4, 33.9 72.6 Q 33.9 71.7, 33.6 71.3 Q 33.2 70.9, 32.6 70.9 Q 31.9 70.9, 31.6 71.3 Q 31.2 71.7, 31.2 72.6 Q 31.2 73.4, 31.6 73.9 Q 31.9 74.3, 32.6 74.3 \" fill=\"#FF0000\"/>\n",
       "<path class=\"atom-47\" d=\"M 415.7 72.6 Q 415.7 71.5, 416.2 71.0 Q 416.7 70.4, 417.6 70.4 Q 418.6 70.4, 419.1 71.0 Q 419.6 71.5, 419.6 72.6 Q 419.6 73.6, 419.1 74.2 Q 418.6 74.8, 417.6 74.8 Q 416.7 74.8, 416.2 74.2 Q 415.7 73.6, 415.7 72.6 M 417.6 74.3 Q 418.3 74.3, 418.6 73.9 Q 419.0 73.4, 419.0 72.6 Q 419.0 71.7, 418.6 71.3 Q 418.3 70.9, 417.6 70.9 Q 417.0 70.9, 416.6 71.3 Q 416.3 71.7, 416.3 72.6 Q 416.3 73.4, 416.6 73.9 Q 417.0 74.3, 417.6 74.3 \" fill=\"#FF0000\"/>\n",
       "<path class=\"atom-48\" d=\"M 424.0 77.4 Q 424.0 76.4, 424.5 75.8 Q 425.0 75.2, 426.0 75.2 Q 426.9 75.2, 427.4 75.8 Q 427.9 76.4, 427.9 77.4 Q 427.9 78.4, 427.4 79.0 Q 426.9 79.6, 426.0 79.6 Q 425.1 79.6, 424.5 79.0 Q 424.0 78.4, 424.0 77.4 M 426.0 79.1 Q 426.6 79.1, 427.0 78.7 Q 427.3 78.2, 427.3 77.4 Q 427.3 76.6, 427.0 76.1 Q 426.6 75.7, 426.0 75.7 Q 425.3 75.7, 425.0 76.1 Q 424.6 76.6, 424.6 77.4 Q 424.6 78.3, 425.0 78.7 Q 425.3 79.1, 426.0 79.1 \" fill=\"#FF0000\"/>\n",
       "<path class=\"atom-48\" d=\"M 428.2 75.3 L 428.8 75.3 L 428.8 77.1 L 431.0 77.1 L 431.0 75.3 L 431.6 75.3 L 431.6 79.5 L 431.0 79.5 L 431.0 77.6 L 428.8 77.6 L 428.8 79.5 L 428.2 79.5 L 428.2 75.3 \" fill=\"#FF0000\"/>\n",
       "</svg>"
      ],
      "text/plain": [
       "<IPython.core.display.SVG object>"
      ]
     },
     "execution_count": 4,
     "metadata": {},
     "output_type": "execute_result"
    }
   ],
   "source": [
    "# Plot the first generated molecule\n",
    "big_smiles_gen(big)"
   ]
  },
  {
   "cell_type": "code",
   "execution_count": 5,
   "id": "b8e23fbd",
   "metadata": {},
   "outputs": [
    {
     "data": {
      "image/svg+xml": [
       "<svg xmlns=\"http://www.w3.org/2000/svg\" xmlns:rdkit=\"http://www.rdkit.org/xml\" xmlns:xlink=\"http://www.w3.org/1999/xlink\" version=\"1.1\" baseProfile=\"full\" xml:space=\"preserve\" width=\"450px\" height=\"150px\" viewBox=\"0 0 450 150\">\n",
       "<!-- END OF HEADER -->\n",
       "<rect style=\"opacity:1.0;fill:#FFFFFF;stroke:none\" width=\"450.0\" height=\"150.0\" x=\"0.0\" y=\"0.0\"> </rect>\n",
       "<path class=\"bond-0 atom-0 atom-1\" d=\"M 27.6,76.5 L 33.7,73.0\" style=\"fill:none;fill-rule:evenodd;stroke:#FF0000;stroke-width:2.0px;stroke-linecap:butt;stroke-linejoin:miter;stroke-opacity:1\"/>\n",
       "<path class=\"bond-1 atom-1 atom-2\" d=\"M 38.5,73.0 L 42.7,75.4\" style=\"fill:none;fill-rule:evenodd;stroke:#FF0000;stroke-width:2.0px;stroke-linecap:butt;stroke-linejoin:miter;stroke-opacity:1\"/>\n",
       "<path class=\"bond-1 atom-1 atom-2\" d=\"M 42.7,75.4 L 46.9,77.9\" style=\"fill:none;fill-rule:evenodd;stroke:#000000;stroke-width:2.0px;stroke-linecap:butt;stroke-linejoin:miter;stroke-opacity:1\"/>\n",
       "<path class=\"bond-2 atom-2 atom-3\" d=\"M 46.9,77.9 L 57.7,71.6\" style=\"fill:none;fill-rule:evenodd;stroke:#000000;stroke-width:2.0px;stroke-linecap:butt;stroke-linejoin:miter;stroke-opacity:1\"/>\n",
       "<path class=\"bond-3 atom-3 atom-4\" d=\"M 57.7,71.6 L 68.5,77.9\" style=\"fill:none;fill-rule:evenodd;stroke:#000000;stroke-width:2.0px;stroke-linecap:butt;stroke-linejoin:miter;stroke-opacity:1\"/>\n",
       "<path class=\"bond-4 atom-4 atom-5\" d=\"M 68.5,77.9 L 79.3,71.7\" style=\"fill:none;fill-rule:evenodd;stroke:#000000;stroke-width:2.0px;stroke-linecap:butt;stroke-linejoin:miter;stroke-opacity:1\"/>\n",
       "<path class=\"bond-5 atom-5 atom-6\" d=\"M 79.3,71.7 L 90.1,77.9\" style=\"fill:none;fill-rule:evenodd;stroke:#000000;stroke-width:2.0px;stroke-linecap:butt;stroke-linejoin:miter;stroke-opacity:1\"/>\n",
       "<path class=\"bond-6 atom-6 atom-7\" d=\"M 90.1,77.9 L 100.9,71.7\" style=\"fill:none;fill-rule:evenodd;stroke:#000000;stroke-width:2.0px;stroke-linecap:butt;stroke-linejoin:miter;stroke-opacity:1\"/>\n",
       "<path class=\"bond-7 atom-7 atom-8\" d=\"M 100.9,71.7 L 111.7,77.9\" style=\"fill:none;fill-rule:evenodd;stroke:#000000;stroke-width:2.0px;stroke-linecap:butt;stroke-linejoin:miter;stroke-opacity:1\"/>\n",
       "<path class=\"bond-8 atom-8 atom-9\" d=\"M 111.7,77.9 L 122.5,71.7\" style=\"fill:none;fill-rule:evenodd;stroke:#000000;stroke-width:2.0px;stroke-linecap:butt;stroke-linejoin:miter;stroke-opacity:1\"/>\n",
       "<path class=\"bond-9 atom-9 atom-10\" d=\"M 122.5,71.7 L 133.3,78.0\" style=\"fill:none;fill-rule:evenodd;stroke:#000000;stroke-width:2.0px;stroke-linecap:butt;stroke-linejoin:miter;stroke-opacity:1\"/>\n",
       "<path class=\"bond-10 atom-10 atom-11\" d=\"M 133.3,78.0 L 144.1,71.8\" style=\"fill:none;fill-rule:evenodd;stroke:#000000;stroke-width:2.0px;stroke-linecap:butt;stroke-linejoin:miter;stroke-opacity:1\"/>\n",
       "<path class=\"bond-11 atom-11 atom-12\" d=\"M 144.1,71.8 L 154.9,78.0\" style=\"fill:none;fill-rule:evenodd;stroke:#000000;stroke-width:2.0px;stroke-linecap:butt;stroke-linejoin:miter;stroke-opacity:1\"/>\n",
       "<path class=\"bond-12 atom-12 atom-13\" d=\"M 154.9,78.0 L 165.7,71.8\" style=\"fill:none;fill-rule:evenodd;stroke:#000000;stroke-width:2.0px;stroke-linecap:butt;stroke-linejoin:miter;stroke-opacity:1\"/>\n",
       "<path class=\"bond-13 atom-13 atom-14\" d=\"M 165.7,71.8 L 176.5,78.0\" style=\"fill:none;fill-rule:evenodd;stroke:#000000;stroke-width:2.0px;stroke-linecap:butt;stroke-linejoin:miter;stroke-opacity:1\"/>\n",
       "<path class=\"bond-14 atom-14 atom-15\" d=\"M 176.5,78.0 L 187.3,71.8\" style=\"fill:none;fill-rule:evenodd;stroke:#000000;stroke-width:2.0px;stroke-linecap:butt;stroke-linejoin:miter;stroke-opacity:1\"/>\n",
       "<path class=\"bond-15 atom-15 atom-16\" d=\"M 187.3,71.8 L 198.1,78.1\" style=\"fill:none;fill-rule:evenodd;stroke:#000000;stroke-width:2.0px;stroke-linecap:butt;stroke-linejoin:miter;stroke-opacity:1\"/>\n",
       "<path class=\"bond-16 atom-16 atom-17\" d=\"M 198.1,78.1 L 208.9,71.8\" style=\"fill:none;fill-rule:evenodd;stroke:#000000;stroke-width:2.0px;stroke-linecap:butt;stroke-linejoin:miter;stroke-opacity:1\"/>\n",
       "<path class=\"bond-17 atom-17 atom-18\" d=\"M 208.9,71.8 L 219.7,78.1\" style=\"fill:none;fill-rule:evenodd;stroke:#000000;stroke-width:2.0px;stroke-linecap:butt;stroke-linejoin:miter;stroke-opacity:1\"/>\n",
       "<path class=\"bond-18 atom-18 atom-19\" d=\"M 219.7,78.1 L 230.5,71.9\" style=\"fill:none;fill-rule:evenodd;stroke:#000000;stroke-width:2.0px;stroke-linecap:butt;stroke-linejoin:miter;stroke-opacity:1\"/>\n",
       "<path class=\"bond-19 atom-19 atom-20\" d=\"M 230.5,71.9 L 241.3,78.1\" style=\"fill:none;fill-rule:evenodd;stroke:#000000;stroke-width:2.0px;stroke-linecap:butt;stroke-linejoin:miter;stroke-opacity:1\"/>\n",
       "<path class=\"bond-20 atom-20 atom-21\" d=\"M 241.3,78.1 L 252.1,71.9\" style=\"fill:none;fill-rule:evenodd;stroke:#000000;stroke-width:2.0px;stroke-linecap:butt;stroke-linejoin:miter;stroke-opacity:1\"/>\n",
       "<path class=\"bond-21 atom-21 atom-22\" d=\"M 252.1,71.9 L 262.9,78.1\" style=\"fill:none;fill-rule:evenodd;stroke:#000000;stroke-width:2.0px;stroke-linecap:butt;stroke-linejoin:miter;stroke-opacity:1\"/>\n",
       "<path class=\"bond-22 atom-22 atom-23\" d=\"M 262.9,78.1 L 273.7,71.9\" style=\"fill:none;fill-rule:evenodd;stroke:#000000;stroke-width:2.0px;stroke-linecap:butt;stroke-linejoin:miter;stroke-opacity:1\"/>\n",
       "<path class=\"bond-23 atom-23 atom-24\" d=\"M 273.7,71.9 L 284.5,78.2\" style=\"fill:none;fill-rule:evenodd;stroke:#000000;stroke-width:2.0px;stroke-linecap:butt;stroke-linejoin:miter;stroke-opacity:1\"/>\n",
       "<path class=\"bond-24 atom-24 atom-25\" d=\"M 284.5,78.2 L 295.3,71.9\" style=\"fill:none;fill-rule:evenodd;stroke:#000000;stroke-width:2.0px;stroke-linecap:butt;stroke-linejoin:miter;stroke-opacity:1\"/>\n",
       "<path class=\"bond-25 atom-25 atom-26\" d=\"M 295.3,71.9 L 306.1,78.2\" style=\"fill:none;fill-rule:evenodd;stroke:#000000;stroke-width:2.0px;stroke-linecap:butt;stroke-linejoin:miter;stroke-opacity:1\"/>\n",
       "<path class=\"bond-26 atom-26 atom-27\" d=\"M 306.1,78.2 L 316.9,72.0\" style=\"fill:none;fill-rule:evenodd;stroke:#000000;stroke-width:2.0px;stroke-linecap:butt;stroke-linejoin:miter;stroke-opacity:1\"/>\n",
       "<path class=\"bond-27 atom-27 atom-28\" d=\"M 316.9,72.0 L 327.7,78.2\" style=\"fill:none;fill-rule:evenodd;stroke:#000000;stroke-width:2.0px;stroke-linecap:butt;stroke-linejoin:miter;stroke-opacity:1\"/>\n",
       "<path class=\"bond-28 atom-28 atom-29\" d=\"M 327.7,78.2 L 338.5,72.0\" style=\"fill:none;fill-rule:evenodd;stroke:#000000;stroke-width:2.0px;stroke-linecap:butt;stroke-linejoin:miter;stroke-opacity:1\"/>\n",
       "<path class=\"bond-29 atom-29 atom-30\" d=\"M 338.5,72.0 L 349.3,78.2\" style=\"fill:none;fill-rule:evenodd;stroke:#000000;stroke-width:2.0px;stroke-linecap:butt;stroke-linejoin:miter;stroke-opacity:1\"/>\n",
       "<path class=\"bond-30 atom-30 atom-31\" d=\"M 349.3,78.2 L 360.1,72.0\" style=\"fill:none;fill-rule:evenodd;stroke:#000000;stroke-width:2.0px;stroke-linecap:butt;stroke-linejoin:miter;stroke-opacity:1\"/>\n",
       "<path class=\"bond-31 atom-31 atom-32\" d=\"M 360.1,72.0 L 370.9,78.3\" style=\"fill:none;fill-rule:evenodd;stroke:#000000;stroke-width:2.0px;stroke-linecap:butt;stroke-linejoin:miter;stroke-opacity:1\"/>\n",
       "<path class=\"bond-32 atom-32 atom-33\" d=\"M 370.9,78.3 L 381.7,72.0\" style=\"fill:none;fill-rule:evenodd;stroke:#000000;stroke-width:2.0px;stroke-linecap:butt;stroke-linejoin:miter;stroke-opacity:1\"/>\n",
       "<path class=\"bond-33 atom-33 atom-34\" d=\"M 381.7,72.0 L 392.5,78.3\" style=\"fill:none;fill-rule:evenodd;stroke:#000000;stroke-width:2.0px;stroke-linecap:butt;stroke-linejoin:miter;stroke-opacity:1\"/>\n",
       "<path class=\"bond-34 atom-35 atom-36\" d=\"M 403.3,72.1 L 407.5,74.5\" style=\"fill:none;fill-rule:evenodd;stroke:#000000;stroke-width:2.0px;stroke-linecap:butt;stroke-linejoin:miter;stroke-opacity:1\"/>\n",
       "<path class=\"bond-34 atom-35 atom-36\" d=\"M 407.5,74.5 L 411.8,76.9\" style=\"fill:none;fill-rule:evenodd;stroke:#FF0000;stroke-width:2.0px;stroke-linecap:butt;stroke-linejoin:miter;stroke-opacity:1\"/>\n",
       "<path class=\"bond-35 atom-36 atom-37\" d=\"M 416.5,77.0 L 422.6,73.4\" style=\"fill:none;fill-rule:evenodd;stroke:#FF0000;stroke-width:2.0px;stroke-linecap:butt;stroke-linejoin:miter;stroke-opacity:1\"/>\n",
       "<path class=\"bond-36 atom-34 atom-35\" d=\"M 392.5,78.3 L 403.3,72.1\" style=\"fill:none;fill-rule:evenodd;stroke:#000000;stroke-width:2.0px;stroke-linecap:butt;stroke-linejoin:miter;stroke-opacity:1\"/>\n",
       "<path class=\"atom-0\" d=\"M 19.5 75.7 L 20.1 75.7 L 20.1 77.6 L 22.2 77.6 L 22.2 75.7 L 22.8 75.7 L 22.8 80.0 L 22.2 80.0 L 22.2 78.0 L 20.1 78.0 L 20.1 80.0 L 19.5 80.0 L 19.5 75.7 \" fill=\"#FF0000\"/>\n",
       "<path class=\"atom-0\" d=\"M 23.3 77.9 Q 23.3 76.8, 23.8 76.3 Q 24.3 75.7, 25.3 75.7 Q 26.2 75.7, 26.7 76.3 Q 27.2 76.8, 27.2 77.9 Q 27.2 78.9, 26.7 79.5 Q 26.2 80.1, 25.3 80.1 Q 24.3 80.1, 23.8 79.5 Q 23.3 78.9, 23.3 77.9 M 25.3 79.6 Q 25.9 79.6, 26.3 79.1 Q 26.6 78.7, 26.6 77.9 Q 26.6 77.0, 26.3 76.6 Q 25.9 76.2, 25.3 76.2 Q 24.6 76.2, 24.3 76.6 Q 23.9 77.0, 23.9 77.9 Q 23.9 78.7, 24.3 79.1 Q 24.6 79.6, 25.3 79.6 \" fill=\"#FF0000\"/>\n",
       "<path class=\"atom-1\" d=\"M 34.1 71.6 Q 34.1 70.6, 34.6 70.0 Q 35.1 69.5, 36.1 69.5 Q 37.0 69.5, 37.5 70.0 Q 38.0 70.6, 38.0 71.6 Q 38.0 72.7, 37.5 73.3 Q 37.0 73.8, 36.1 73.8 Q 35.2 73.8, 34.6 73.3 Q 34.1 72.7, 34.1 71.6 M 36.1 73.4 Q 36.7 73.4, 37.1 72.9 Q 37.4 72.5, 37.4 71.6 Q 37.4 70.8, 37.1 70.4 Q 36.7 70.0, 36.1 70.0 Q 35.4 70.0, 35.1 70.4 Q 34.7 70.8, 34.7 71.6 Q 34.7 72.5, 35.1 72.9 Q 35.4 73.4, 36.1 73.4 \" fill=\"#FF0000\"/>\n",
       "<path class=\"atom-36\" d=\"M 412.2 78.3 Q 412.2 77.3, 412.7 76.7 Q 413.2 76.2, 414.1 76.2 Q 415.1 76.2, 415.6 76.7 Q 416.1 77.3, 416.1 78.3 Q 416.1 79.4, 415.6 79.9 Q 415.0 80.5, 414.1 80.5 Q 413.2 80.5, 412.7 79.9 Q 412.2 79.4, 412.2 78.3 M 414.1 80.0 Q 414.8 80.0, 415.1 79.6 Q 415.5 79.2, 415.5 78.3 Q 415.5 77.5, 415.1 77.1 Q 414.8 76.6, 414.1 76.6 Q 413.5 76.6, 413.1 77.1 Q 412.8 77.5, 412.8 78.3 Q 412.8 79.2, 413.1 79.6 Q 413.5 80.0, 414.1 80.0 \" fill=\"#FF0000\"/>\n",
       "<path class=\"atom-37\" d=\"M 423.0 72.1 Q 423.0 71.1, 423.5 70.5 Q 424.0 69.9, 424.9 69.9 Q 425.9 69.9, 426.4 70.5 Q 426.9 71.1, 426.9 72.1 Q 426.9 73.1, 426.4 73.7 Q 425.9 74.3, 424.9 74.3 Q 424.0 74.3, 423.5 73.7 Q 423.0 73.1, 423.0 72.1 M 424.9 73.8 Q 425.6 73.8, 425.9 73.4 Q 426.3 73.0, 426.3 72.1 Q 426.3 71.3, 425.9 70.8 Q 425.6 70.4, 424.9 70.4 Q 424.3 70.4, 423.9 70.8 Q 423.6 71.3, 423.6 72.1 Q 423.6 73.0, 423.9 73.4 Q 424.3 73.8, 424.9 73.8 \" fill=\"#FF0000\"/>\n",
       "<path class=\"atom-37\" d=\"M 427.2 70.0 L 427.8 70.0 L 427.8 71.8 L 429.9 71.8 L 429.9 70.0 L 430.5 70.0 L 430.5 74.2 L 429.9 74.2 L 429.9 72.3 L 427.8 72.3 L 427.8 74.2 L 427.2 74.2 L 427.2 70.0 \" fill=\"#FF0000\"/>\n",
       "</svg>"
      ],
      "text/plain": [
       "<IPython.core.display.SVG object>"
      ]
     },
     "execution_count": 5,
     "metadata": {},
     "output_type": "execute_result"
    }
   ],
   "source": [
    "# Generate the second generated molecule\n",
    "big_smiles_gen(big)"
   ]
  },
  {
   "cell_type": "markdown",
   "id": "91d066c0",
   "metadata": {},
   "source": [
    "Notice how the repeated C are different because of the stochastic object"
   ]
  },
  {
   "cell_type": "markdown",
   "id": "8b6b0eac",
   "metadata": {},
   "source": [
    "## Di-ols with 2-5 middle C total Mw 500"
   ]
  },
  {
   "cell_type": "code",
   "execution_count": 6,
   "id": "b9f4a9d7",
   "metadata": {},
   "outputs": [
    {
     "data": {
      "text/plain": [
       "'OC{[$][$]C[$][$]}|uniform(12, 72)|CO.|500|'"
      ]
     },
     "execution_count": 6,
     "metadata": {},
     "output_type": "execute_result"
    }
   ],
   "source": [
    "big = \"OC{[$][$]C[$][$]}|uniform(12, 72)|CO.|500|\"\n",
    "big"
   ]
  },
  {
   "cell_type": "code",
   "execution_count": 7,
   "id": "3de63ce7",
   "metadata": {},
   "outputs": [
    {
     "data": {
      "image/svg+xml": [
       "<svg xmlns=\"http://www.w3.org/2000/svg\" xmlns:rdkit=\"http://www.rdkit.org/xml\" xmlns:xlink=\"http://www.w3.org/1999/xlink\" version=\"1.1\" baseProfile=\"full\" xml:space=\"preserve\" width=\"450px\" height=\"150px\" viewBox=\"0 0 450 150\">\n",
       "<!-- END OF HEADER -->\n",
       "<rect style=\"opacity:1.0;fill:#FFFFFF;stroke:none\" width=\"450.0\" height=\"150.0\" x=\"0.0\" y=\"0.0\"> </rect>\n",
       "<path class=\"bond-0 atom-0 atom-1\" d=\"M 49.7,70.5 L 68.4,81.3\" style=\"fill:none;fill-rule:evenodd;stroke:#FF0000;stroke-width:2.0px;stroke-linecap:butt;stroke-linejoin:miter;stroke-opacity:1\"/>\n",
       "<path class=\"bond-0 atom-0 atom-1\" d=\"M 68.4,81.3 L 87.1,92.1\" style=\"fill:none;fill-rule:evenodd;stroke:#000000;stroke-width:2.0px;stroke-linecap:butt;stroke-linejoin:miter;stroke-opacity:1\"/>\n",
       "<path class=\"bond-1 atom-1 atom-2\" d=\"M 87.1,92.1 L 133.2,65.5\" style=\"fill:none;fill-rule:evenodd;stroke:#000000;stroke-width:2.0px;stroke-linecap:butt;stroke-linejoin:miter;stroke-opacity:1\"/>\n",
       "<path class=\"bond-2 atom-2 atom-3\" d=\"M 133.2,65.5 L 179.3,92.1\" style=\"fill:none;fill-rule:evenodd;stroke:#000000;stroke-width:2.0px;stroke-linecap:butt;stroke-linejoin:miter;stroke-opacity:1\"/>\n",
       "<path class=\"bond-3 atom-3 atom-4\" d=\"M 179.3,92.1 L 225.4,65.5\" style=\"fill:none;fill-rule:evenodd;stroke:#000000;stroke-width:2.0px;stroke-linecap:butt;stroke-linejoin:miter;stroke-opacity:1\"/>\n",
       "<path class=\"bond-4 atom-4 atom-5\" d=\"M 225.4,65.5 L 271.5,92.1\" style=\"fill:none;fill-rule:evenodd;stroke:#000000;stroke-width:2.0px;stroke-linecap:butt;stroke-linejoin:miter;stroke-opacity:1\"/>\n",
       "<path class=\"bond-5 atom-5 atom-6\" d=\"M 271.5,92.1 L 317.6,65.5\" style=\"fill:none;fill-rule:evenodd;stroke:#000000;stroke-width:2.0px;stroke-linecap:butt;stroke-linejoin:miter;stroke-opacity:1\"/>\n",
       "<path class=\"bond-6 atom-7 atom-8\" d=\"M 363.7,92.1 L 382.4,81.3\" style=\"fill:none;fill-rule:evenodd;stroke:#000000;stroke-width:2.0px;stroke-linecap:butt;stroke-linejoin:miter;stroke-opacity:1\"/>\n",
       "<path class=\"bond-6 atom-7 atom-8\" d=\"M 382.4,81.3 L 401.1,70.5\" style=\"fill:none;fill-rule:evenodd;stroke:#FF0000;stroke-width:2.0px;stroke-linecap:butt;stroke-linejoin:miter;stroke-opacity:1\"/>\n",
       "<path class=\"bond-7 atom-6 atom-7\" d=\"M 317.6,65.5 L 363.7,92.1\" style=\"fill:none;fill-rule:evenodd;stroke:#000000;stroke-width:2.0px;stroke-linecap:butt;stroke-linejoin:miter;stroke-opacity:1\"/>\n",
       "<path class=\"atom-0\" d=\"M 20.5 58.1 L 22.5 58.1 L 22.5 64.5 L 30.2 64.5 L 30.2 58.1 L 32.3 58.1 L 32.3 73.1 L 30.2 73.1 L 30.2 66.2 L 22.5 66.2 L 22.5 73.1 L 20.5 73.1 L 20.5 58.1 \" fill=\"#FF0000\"/>\n",
       "<path class=\"atom-0\" d=\"M 34.1 65.5 Q 34.1 61.9, 35.8 59.9 Q 37.6 57.9, 41.0 57.9 Q 44.3 57.9, 46.1 59.9 Q 47.9 61.9, 47.9 65.5 Q 47.9 69.2, 46.1 71.3 Q 44.3 73.4, 41.0 73.4 Q 37.7 73.4, 35.8 71.3 Q 34.1 69.2, 34.1 65.5 M 41.0 71.7 Q 43.3 71.7, 44.5 70.1 Q 45.8 68.6, 45.8 65.5 Q 45.8 62.6, 44.5 61.1 Q 43.3 59.6, 41.0 59.6 Q 38.7 59.6, 37.4 61.1 Q 36.2 62.6, 36.2 65.5 Q 36.2 68.6, 37.4 70.1 Q 38.7 71.7, 41.0 71.7 \" fill=\"#FF0000\"/>\n",
       "<path class=\"atom-8\" d=\"M 402.8 65.5 Q 402.8 61.9, 404.6 59.9 Q 406.4 57.9, 409.8 57.9 Q 413.1 57.9, 414.9 59.9 Q 416.7 61.9, 416.7 65.5 Q 416.7 69.2, 414.9 71.3 Q 413.1 73.4, 409.8 73.4 Q 406.4 73.4, 404.6 71.3 Q 402.8 69.2, 402.8 65.5 M 409.8 71.7 Q 412.1 71.7, 413.3 70.1 Q 414.6 68.6, 414.6 65.5 Q 414.6 62.6, 413.3 61.1 Q 412.1 59.6, 409.8 59.6 Q 407.5 59.6, 406.2 61.1 Q 405.0 62.6, 405.0 65.5 Q 405.0 68.6, 406.2 70.1 Q 407.5 71.7, 409.8 71.7 \" fill=\"#FF0000\"/>\n",
       "<path class=\"atom-8\" d=\"M 417.7 58.1 L 419.8 58.1 L 419.8 64.5 L 427.5 64.5 L 427.5 58.1 L 429.5 58.1 L 429.5 73.1 L 427.5 73.1 L 427.5 66.2 L 419.8 66.2 L 419.8 73.1 L 417.7 73.1 L 417.7 58.1 \" fill=\"#FF0000\"/>\n",
       "</svg>"
      ],
      "text/plain": [
       "<IPython.core.display.SVG object>"
      ]
     },
     "execution_count": 7,
     "metadata": {},
     "output_type": "execute_result"
    }
   ],
   "source": [
    "big_smiles_gen(big)"
   ]
  },
  {
   "cell_type": "code",
   "execution_count": 8,
   "id": "d8f11aa5",
   "metadata": {},
   "outputs": [
    {
     "data": {
      "image/svg+xml": [
       "<svg xmlns=\"http://www.w3.org/2000/svg\" xmlns:rdkit=\"http://www.rdkit.org/xml\" xmlns:xlink=\"http://www.w3.org/1999/xlink\" version=\"1.1\" baseProfile=\"full\" xml:space=\"preserve\" width=\"450px\" height=\"150px\" viewBox=\"0 0 450 150\">\n",
       "<!-- END OF HEADER -->\n",
       "<rect style=\"opacity:1.0;fill:#FFFFFF;stroke:none\" width=\"450.0\" height=\"150.0\" x=\"0.0\" y=\"0.0\"> </rect>\n",
       "<path class=\"bond-0 atom-0 atom-1\" d=\"M 49.7,70.5 L 68.4,81.3\" style=\"fill:none;fill-rule:evenodd;stroke:#FF0000;stroke-width:2.0px;stroke-linecap:butt;stroke-linejoin:miter;stroke-opacity:1\"/>\n",
       "<path class=\"bond-0 atom-0 atom-1\" d=\"M 68.4,81.3 L 87.1,92.1\" style=\"fill:none;fill-rule:evenodd;stroke:#000000;stroke-width:2.0px;stroke-linecap:butt;stroke-linejoin:miter;stroke-opacity:1\"/>\n",
       "<path class=\"bond-1 atom-1 atom-2\" d=\"M 87.1,92.1 L 133.2,65.5\" style=\"fill:none;fill-rule:evenodd;stroke:#000000;stroke-width:2.0px;stroke-linecap:butt;stroke-linejoin:miter;stroke-opacity:1\"/>\n",
       "<path class=\"bond-2 atom-2 atom-3\" d=\"M 133.2,65.5 L 179.3,92.1\" style=\"fill:none;fill-rule:evenodd;stroke:#000000;stroke-width:2.0px;stroke-linecap:butt;stroke-linejoin:miter;stroke-opacity:1\"/>\n",
       "<path class=\"bond-3 atom-3 atom-4\" d=\"M 179.3,92.1 L 225.4,65.5\" style=\"fill:none;fill-rule:evenodd;stroke:#000000;stroke-width:2.0px;stroke-linecap:butt;stroke-linejoin:miter;stroke-opacity:1\"/>\n",
       "<path class=\"bond-4 atom-4 atom-5\" d=\"M 225.4,65.5 L 271.5,92.1\" style=\"fill:none;fill-rule:evenodd;stroke:#000000;stroke-width:2.0px;stroke-linecap:butt;stroke-linejoin:miter;stroke-opacity:1\"/>\n",
       "<path class=\"bond-5 atom-5 atom-6\" d=\"M 271.5,92.1 L 317.6,65.5\" style=\"fill:none;fill-rule:evenodd;stroke:#000000;stroke-width:2.0px;stroke-linecap:butt;stroke-linejoin:miter;stroke-opacity:1\"/>\n",
       "<path class=\"bond-6 atom-7 atom-8\" d=\"M 363.7,92.1 L 382.4,81.3\" style=\"fill:none;fill-rule:evenodd;stroke:#000000;stroke-width:2.0px;stroke-linecap:butt;stroke-linejoin:miter;stroke-opacity:1\"/>\n",
       "<path class=\"bond-6 atom-7 atom-8\" d=\"M 382.4,81.3 L 401.1,70.5\" style=\"fill:none;fill-rule:evenodd;stroke:#FF0000;stroke-width:2.0px;stroke-linecap:butt;stroke-linejoin:miter;stroke-opacity:1\"/>\n",
       "<path class=\"bond-7 atom-6 atom-7\" d=\"M 317.6,65.5 L 363.7,92.1\" style=\"fill:none;fill-rule:evenodd;stroke:#000000;stroke-width:2.0px;stroke-linecap:butt;stroke-linejoin:miter;stroke-opacity:1\"/>\n",
       "<path class=\"atom-0\" d=\"M 20.5 58.1 L 22.5 58.1 L 22.5 64.5 L 30.2 64.5 L 30.2 58.1 L 32.3 58.1 L 32.3 73.1 L 30.2 73.1 L 30.2 66.2 L 22.5 66.2 L 22.5 73.1 L 20.5 73.1 L 20.5 58.1 \" fill=\"#FF0000\"/>\n",
       "<path class=\"atom-0\" d=\"M 34.1 65.5 Q 34.1 61.9, 35.8 59.9 Q 37.6 57.9, 41.0 57.9 Q 44.3 57.9, 46.1 59.9 Q 47.9 61.9, 47.9 65.5 Q 47.9 69.2, 46.1 71.3 Q 44.3 73.4, 41.0 73.4 Q 37.7 73.4, 35.8 71.3 Q 34.1 69.2, 34.1 65.5 M 41.0 71.7 Q 43.3 71.7, 44.5 70.1 Q 45.8 68.6, 45.8 65.5 Q 45.8 62.6, 44.5 61.1 Q 43.3 59.6, 41.0 59.6 Q 38.7 59.6, 37.4 61.1 Q 36.2 62.6, 36.2 65.5 Q 36.2 68.6, 37.4 70.1 Q 38.7 71.7, 41.0 71.7 \" fill=\"#FF0000\"/>\n",
       "<path class=\"atom-8\" d=\"M 402.8 65.5 Q 402.8 61.9, 404.6 59.9 Q 406.4 57.9, 409.8 57.9 Q 413.1 57.9, 414.9 59.9 Q 416.7 61.9, 416.7 65.5 Q 416.7 69.2, 414.9 71.3 Q 413.1 73.4, 409.8 73.4 Q 406.4 73.4, 404.6 71.3 Q 402.8 69.2, 402.8 65.5 M 409.8 71.7 Q 412.1 71.7, 413.3 70.1 Q 414.6 68.6, 414.6 65.5 Q 414.6 62.6, 413.3 61.1 Q 412.1 59.6, 409.8 59.6 Q 407.5 59.6, 406.2 61.1 Q 405.0 62.6, 405.0 65.5 Q 405.0 68.6, 406.2 70.1 Q 407.5 71.7, 409.8 71.7 \" fill=\"#FF0000\"/>\n",
       "<path class=\"atom-8\" d=\"M 417.7 58.1 L 419.8 58.1 L 419.8 64.5 L 427.5 64.5 L 427.5 58.1 L 429.5 58.1 L 429.5 73.1 L 427.5 73.1 L 427.5 66.2 L 419.8 66.2 L 419.8 73.1 L 417.7 73.1 L 417.7 58.1 \" fill=\"#FF0000\"/>\n",
       "</svg>"
      ],
      "text/plain": [
       "<IPython.core.display.SVG object>"
      ]
     },
     "execution_count": 8,
     "metadata": {},
     "output_type": "execute_result"
    }
   ],
   "source": [
    "big_smiles_gen(big)"
   ]
  },
  {
   "cell_type": "code",
   "execution_count": 9,
   "id": "2d414813",
   "metadata": {},
   "outputs": [
    {
     "data": {
      "image/svg+xml": [
       "<svg xmlns=\"http://www.w3.org/2000/svg\" xmlns:rdkit=\"http://www.rdkit.org/xml\" xmlns:xlink=\"http://www.w3.org/1999/xlink\" version=\"1.1\" baseProfile=\"full\" xml:space=\"preserve\" width=\"450px\" height=\"150px\" viewBox=\"0 0 450 150\">\n",
       "<!-- END OF HEADER -->\n",
       "<rect style=\"opacity:1.0;fill:#FFFFFF;stroke:none\" width=\"450.0\" height=\"150.0\" x=\"0.0\" y=\"0.0\"> </rect>\n",
       "<path class=\"bond-0 atom-0 atom-1\" d=\"M 58.2,69.2 L 82.3,83.2\" style=\"fill:none;fill-rule:evenodd;stroke:#FF0000;stroke-width:2.0px;stroke-linecap:butt;stroke-linejoin:miter;stroke-opacity:1\"/>\n",
       "<path class=\"bond-0 atom-0 atom-1\" d=\"M 82.3,83.2 L 106.5,97.1\" style=\"fill:none;fill-rule:evenodd;stroke:#000000;stroke-width:2.0px;stroke-linecap:butt;stroke-linejoin:miter;stroke-opacity:1\"/>\n",
       "<path class=\"bond-1 atom-1 atom-2\" d=\"M 106.5,97.1 L 166.0,62.7\" style=\"fill:none;fill-rule:evenodd;stroke:#000000;stroke-width:2.0px;stroke-linecap:butt;stroke-linejoin:miter;stroke-opacity:1\"/>\n",
       "<path class=\"bond-2 atom-2 atom-3\" d=\"M 166.0,62.7 L 225.5,97.1\" style=\"fill:none;fill-rule:evenodd;stroke:#000000;stroke-width:2.0px;stroke-linecap:butt;stroke-linejoin:miter;stroke-opacity:1\"/>\n",
       "<path class=\"bond-3 atom-3 atom-4\" d=\"M 225.5,97.1 L 285.0,62.7\" style=\"fill:none;fill-rule:evenodd;stroke:#000000;stroke-width:2.0px;stroke-linecap:butt;stroke-linejoin:miter;stroke-opacity:1\"/>\n",
       "<path class=\"bond-4 atom-5 atom-6\" d=\"M 344.5,97.1 L 368.7,83.2\" style=\"fill:none;fill-rule:evenodd;stroke:#000000;stroke-width:2.0px;stroke-linecap:butt;stroke-linejoin:miter;stroke-opacity:1\"/>\n",
       "<path class=\"bond-4 atom-5 atom-6\" d=\"M 368.7,83.2 L 392.8,69.2\" style=\"fill:none;fill-rule:evenodd;stroke:#FF0000;stroke-width:2.0px;stroke-linecap:butt;stroke-linejoin:miter;stroke-opacity:1\"/>\n",
       "<path class=\"bond-5 atom-4 atom-5\" d=\"M 285.0,62.7 L 344.5,97.1\" style=\"fill:none;fill-rule:evenodd;stroke:#000000;stroke-width:2.0px;stroke-linecap:butt;stroke-linejoin:miter;stroke-opacity:1\"/>\n",
       "<path class=\"atom-0\" d=\"M 20.5 53.1 L 23.1 53.1 L 23.1 61.4 L 33.0 61.4 L 33.0 53.1 L 35.7 53.1 L 35.7 72.6 L 33.0 72.6 L 33.0 63.6 L 23.1 63.6 L 23.1 72.6 L 20.5 72.6 L 20.5 53.1 \" fill=\"#FF0000\"/>\n",
       "<path class=\"atom-0\" d=\"M 38.0 62.8 Q 38.0 58.1, 40.3 55.5 Q 42.6 52.9, 47.0 52.9 Q 51.3 52.9, 53.6 55.5 Q 55.9 58.1, 55.9 62.8 Q 55.9 67.5, 53.5 70.2 Q 51.2 72.9, 47.0 72.9 Q 42.7 72.9, 40.3 70.2 Q 38.0 67.6, 38.0 62.8 M 47.0 70.7 Q 49.9 70.7, 51.5 68.7 Q 53.1 66.7, 53.1 62.8 Q 53.1 59.0, 51.5 57.1 Q 49.9 55.1, 47.0 55.1 Q 44.0 55.1, 42.4 57.0 Q 40.8 58.9, 40.8 62.8 Q 40.8 66.7, 42.4 68.7 Q 44.0 70.7, 47.0 70.7 \" fill=\"#FF0000\"/>\n",
       "<path class=\"atom-6\" d=\"M 395.1 62.8 Q 395.1 58.1, 397.4 55.5 Q 399.7 52.9, 404.0 52.9 Q 408.3 52.9, 410.6 55.5 Q 412.9 58.1, 412.9 62.8 Q 412.9 67.5, 410.6 70.2 Q 408.3 72.9, 404.0 72.9 Q 399.7 72.9, 397.4 70.2 Q 395.1 67.6, 395.1 62.8 M 404.0 70.7 Q 407.0 70.7, 408.6 68.7 Q 410.2 66.7, 410.2 62.8 Q 410.2 59.0, 408.6 57.1 Q 407.0 55.1, 404.0 55.1 Q 401.0 55.1, 399.4 57.0 Q 397.8 58.9, 397.8 62.8 Q 397.8 66.7, 399.4 68.7 Q 401.0 70.7, 404.0 70.7 \" fill=\"#FF0000\"/>\n",
       "<path class=\"atom-6\" d=\"M 414.3 53.1 L 417.0 53.1 L 417.0 61.4 L 426.9 61.4 L 426.9 53.1 L 429.5 53.1 L 429.5 72.6 L 426.9 72.6 L 426.9 63.6 L 417.0 63.6 L 417.0 72.6 L 414.3 72.6 L 414.3 53.1 \" fill=\"#FF0000\"/>\n",
       "</svg>"
      ],
      "text/plain": [
       "<IPython.core.display.SVG object>"
      ]
     },
     "execution_count": 9,
     "metadata": {},
     "output_type": "execute_result"
    }
   ],
   "source": [
    "big_smiles_gen(big)"
   ]
  },
  {
   "cell_type": "markdown",
   "id": "a3a781f5",
   "metadata": {},
   "source": [
    "## Di-ols with 2-5 middle Cyclohexane ring total Mw 500"
   ]
  },
  {
   "cell_type": "code",
   "execution_count": 10,
   "id": "a7c4b04f",
   "metadata": {},
   "outputs": [
    {
     "data": {
      "text/plain": [
       "'OC{[$][$]C([$])C1CCCCC1[$]}|uniform(84, 420)|CO.|500|'"
      ]
     },
     "execution_count": 10,
     "metadata": {},
     "output_type": "execute_result"
    }
   ],
   "source": [
    "big = \"OC{[$][$]C([$])C1CCCCC1[$]}|uniform(84, 420)|CO.|500|\"\n",
    "big"
   ]
  },
  {
   "cell_type": "code",
   "execution_count": 11,
   "id": "cff28b06",
   "metadata": {},
   "outputs": [
    {
     "data": {
      "image/svg+xml": [
       "<svg xmlns=\"http://www.w3.org/2000/svg\" xmlns:rdkit=\"http://www.rdkit.org/xml\" xmlns:xlink=\"http://www.w3.org/1999/xlink\" version=\"1.1\" baseProfile=\"full\" xml:space=\"preserve\" width=\"450px\" height=\"150px\" viewBox=\"0 0 450 150\">\n",
       "<!-- END OF HEADER -->\n",
       "<rect style=\"opacity:1.0;fill:#FFFFFF;stroke:none\" width=\"450.0\" height=\"150.0\" x=\"0.0\" y=\"0.0\"> </rect>\n",
       "<path class=\"bond-0 atom-0 atom-1\" d=\"M 202.1,15.1 L 207.2,23.8\" style=\"fill:none;fill-rule:evenodd;stroke:#FF0000;stroke-width:2.0px;stroke-linecap:butt;stroke-linejoin:miter;stroke-opacity:1\"/>\n",
       "<path class=\"bond-0 atom-0 atom-1\" d=\"M 207.2,23.8 L 212.2,32.6\" style=\"fill:none;fill-rule:evenodd;stroke:#000000;stroke-width:2.0px;stroke-linecap:butt;stroke-linejoin:miter;stroke-opacity:1\"/>\n",
       "<path class=\"bond-1 atom-2 atom-3\" d=\"M 199.5,54.7 L 173.9,54.7\" style=\"fill:none;fill-rule:evenodd;stroke:#000000;stroke-width:2.0px;stroke-linecap:butt;stroke-linejoin:miter;stroke-opacity:1\"/>\n",
       "<path class=\"bond-2 atom-3 atom-4\" d=\"M 173.9,54.7 L 161.2,76.8\" style=\"fill:none;fill-rule:evenodd;stroke:#000000;stroke-width:2.0px;stroke-linecap:butt;stroke-linejoin:miter;stroke-opacity:1\"/>\n",
       "<path class=\"bond-3 atom-4 atom-5\" d=\"M 161.2,76.8 L 135.6,76.8\" style=\"fill:none;fill-rule:evenodd;stroke:#000000;stroke-width:2.0px;stroke-linecap:butt;stroke-linejoin:miter;stroke-opacity:1\"/>\n",
       "<path class=\"bond-4 atom-5 atom-6\" d=\"M 135.6,76.8 L 122.8,54.7\" style=\"fill:none;fill-rule:evenodd;stroke:#000000;stroke-width:2.0px;stroke-linecap:butt;stroke-linejoin:miter;stroke-opacity:1\"/>\n",
       "<path class=\"bond-5 atom-6 atom-7\" d=\"M 122.8,54.7 L 135.6,32.6\" style=\"fill:none;fill-rule:evenodd;stroke:#000000;stroke-width:2.0px;stroke-linecap:butt;stroke-linejoin:miter;stroke-opacity:1\"/>\n",
       "<path class=\"bond-6 atom-7 atom-8\" d=\"M 135.6,32.6 L 161.2,32.6\" style=\"fill:none;fill-rule:evenodd;stroke:#000000;stroke-width:2.0px;stroke-linecap:butt;stroke-linejoin:miter;stroke-opacity:1\"/>\n",
       "<path class=\"bond-7 atom-8 atom-3\" d=\"M 161.2,32.6 L 173.9,54.7\" style=\"fill:none;fill-rule:evenodd;stroke:#000000;stroke-width:2.0px;stroke-linecap:butt;stroke-linejoin:miter;stroke-opacity:1\"/>\n",
       "<path class=\"bond-8 atom-1 atom-2\" d=\"M 212.2,32.6 L 199.5,54.7\" style=\"fill:none;fill-rule:evenodd;stroke:#000000;stroke-width:2.0px;stroke-linecap:butt;stroke-linejoin:miter;stroke-opacity:1\"/>\n",
       "<path class=\"bond-9 atom-9 atom-10\" d=\"M 212.2,76.8 L 199.5,98.9\" style=\"fill:none;fill-rule:evenodd;stroke:#000000;stroke-width:2.0px;stroke-linecap:butt;stroke-linejoin:miter;stroke-opacity:1\"/>\n",
       "<path class=\"bond-10 atom-10 atom-11\" d=\"M 199.5,98.9 L 173.9,98.9\" style=\"fill:none;fill-rule:evenodd;stroke:#000000;stroke-width:2.0px;stroke-linecap:butt;stroke-linejoin:miter;stroke-opacity:1\"/>\n",
       "<path class=\"bond-11 atom-11 atom-12\" d=\"M 173.9,98.9 L 161.2,121.1\" style=\"fill:none;fill-rule:evenodd;stroke:#000000;stroke-width:2.0px;stroke-linecap:butt;stroke-linejoin:miter;stroke-opacity:1\"/>\n",
       "<path class=\"bond-12 atom-12 atom-13\" d=\"M 161.2,121.1 L 173.9,143.2\" style=\"fill:none;fill-rule:evenodd;stroke:#000000;stroke-width:2.0px;stroke-linecap:butt;stroke-linejoin:miter;stroke-opacity:1\"/>\n",
       "<path class=\"bond-13 atom-13 atom-14\" d=\"M 173.9,143.2 L 199.5,143.2\" style=\"fill:none;fill-rule:evenodd;stroke:#000000;stroke-width:2.0px;stroke-linecap:butt;stroke-linejoin:miter;stroke-opacity:1\"/>\n",
       "<path class=\"bond-14 atom-14 atom-15\" d=\"M 199.5,143.2 L 212.2,121.1\" style=\"fill:none;fill-rule:evenodd;stroke:#000000;stroke-width:2.0px;stroke-linecap:butt;stroke-linejoin:miter;stroke-opacity:1\"/>\n",
       "<path class=\"bond-15 atom-15 atom-10\" d=\"M 212.2,121.1 L 199.5,98.9\" style=\"fill:none;fill-rule:evenodd;stroke:#000000;stroke-width:2.0px;stroke-linecap:butt;stroke-linejoin:miter;stroke-opacity:1\"/>\n",
       "<path class=\"bond-16 atom-2 atom-9\" d=\"M 199.5,54.7 L 212.2,76.8\" style=\"fill:none;fill-rule:evenodd;stroke:#000000;stroke-width:2.0px;stroke-linecap:butt;stroke-linejoin:miter;stroke-opacity:1\"/>\n",
       "<path class=\"bond-17 atom-16 atom-17\" d=\"M 237.8,76.8 L 250.5,98.9\" style=\"fill:none;fill-rule:evenodd;stroke:#000000;stroke-width:2.0px;stroke-linecap:butt;stroke-linejoin:miter;stroke-opacity:1\"/>\n",
       "<path class=\"bond-18 atom-17 atom-18\" d=\"M 250.5,98.9 L 237.8,121.1\" style=\"fill:none;fill-rule:evenodd;stroke:#000000;stroke-width:2.0px;stroke-linecap:butt;stroke-linejoin:miter;stroke-opacity:1\"/>\n",
       "<path class=\"bond-19 atom-18 atom-19\" d=\"M 237.8,121.1 L 250.5,143.2\" style=\"fill:none;fill-rule:evenodd;stroke:#000000;stroke-width:2.0px;stroke-linecap:butt;stroke-linejoin:miter;stroke-opacity:1\"/>\n",
       "<path class=\"bond-20 atom-19 atom-20\" d=\"M 250.5,143.2 L 276.1,143.2\" style=\"fill:none;fill-rule:evenodd;stroke:#000000;stroke-width:2.0px;stroke-linecap:butt;stroke-linejoin:miter;stroke-opacity:1\"/>\n",
       "<path class=\"bond-21 atom-20 atom-21\" d=\"M 276.1,143.2 L 288.8,121.1\" style=\"fill:none;fill-rule:evenodd;stroke:#000000;stroke-width:2.0px;stroke-linecap:butt;stroke-linejoin:miter;stroke-opacity:1\"/>\n",
       "<path class=\"bond-22 atom-21 atom-22\" d=\"M 288.8,121.1 L 276.1,98.9\" style=\"fill:none;fill-rule:evenodd;stroke:#000000;stroke-width:2.0px;stroke-linecap:butt;stroke-linejoin:miter;stroke-opacity:1\"/>\n",
       "<path class=\"bond-23 atom-22 atom-17\" d=\"M 276.1,98.9 L 250.5,98.9\" style=\"fill:none;fill-rule:evenodd;stroke:#000000;stroke-width:2.0px;stroke-linecap:butt;stroke-linejoin:miter;stroke-opacity:1\"/>\n",
       "<path class=\"bond-24 atom-9 atom-16\" d=\"M 212.2,76.8 L 237.8,76.8\" style=\"fill:none;fill-rule:evenodd;stroke:#000000;stroke-width:2.0px;stroke-linecap:butt;stroke-linejoin:miter;stroke-opacity:1\"/>\n",
       "<path class=\"bond-25 atom-23 atom-24\" d=\"M 250.5,54.7 L 276.1,54.7\" style=\"fill:none;fill-rule:evenodd;stroke:#000000;stroke-width:2.0px;stroke-linecap:butt;stroke-linejoin:miter;stroke-opacity:1\"/>\n",
       "<path class=\"bond-26 atom-24 atom-25\" d=\"M 276.1,54.7 L 288.8,32.6\" style=\"fill:none;fill-rule:evenodd;stroke:#000000;stroke-width:2.0px;stroke-linecap:butt;stroke-linejoin:miter;stroke-opacity:1\"/>\n",
       "<path class=\"bond-27 atom-25 atom-26\" d=\"M 288.8,32.6 L 314.4,32.6\" style=\"fill:none;fill-rule:evenodd;stroke:#000000;stroke-width:2.0px;stroke-linecap:butt;stroke-linejoin:miter;stroke-opacity:1\"/>\n",
       "<path class=\"bond-28 atom-26 atom-27\" d=\"M 314.4,32.6 L 327.2,54.7\" style=\"fill:none;fill-rule:evenodd;stroke:#000000;stroke-width:2.0px;stroke-linecap:butt;stroke-linejoin:miter;stroke-opacity:1\"/>\n",
       "<path class=\"bond-29 atom-27 atom-28\" d=\"M 327.2,54.7 L 314.4,76.8\" style=\"fill:none;fill-rule:evenodd;stroke:#000000;stroke-width:2.0px;stroke-linecap:butt;stroke-linejoin:miter;stroke-opacity:1\"/>\n",
       "<path class=\"bond-30 atom-28 atom-29\" d=\"M 314.4,76.8 L 288.8,76.8\" style=\"fill:none;fill-rule:evenodd;stroke:#000000;stroke-width:2.0px;stroke-linecap:butt;stroke-linejoin:miter;stroke-opacity:1\"/>\n",
       "<path class=\"bond-31 atom-29 atom-24\" d=\"M 288.8,76.8 L 276.1,54.7\" style=\"fill:none;fill-rule:evenodd;stroke:#000000;stroke-width:2.0px;stroke-linecap:butt;stroke-linejoin:miter;stroke-opacity:1\"/>\n",
       "<path class=\"bond-32 atom-16 atom-23\" d=\"M 237.8,76.8 L 250.5,54.7\" style=\"fill:none;fill-rule:evenodd;stroke:#000000;stroke-width:2.0px;stroke-linecap:butt;stroke-linejoin:miter;stroke-opacity:1\"/>\n",
       "<path class=\"bond-33 atom-30 atom-31\" d=\"M 237.8,32.6 L 242.8,23.8\" style=\"fill:none;fill-rule:evenodd;stroke:#000000;stroke-width:2.0px;stroke-linecap:butt;stroke-linejoin:miter;stroke-opacity:1\"/>\n",
       "<path class=\"bond-33 atom-30 atom-31\" d=\"M 242.8,23.8 L 247.9,15.1\" style=\"fill:none;fill-rule:evenodd;stroke:#FF0000;stroke-width:2.0px;stroke-linecap:butt;stroke-linejoin:miter;stroke-opacity:1\"/>\n",
       "<path class=\"bond-34 atom-23 atom-30\" d=\"M 250.5,54.7 L 237.8,32.6\" style=\"fill:none;fill-rule:evenodd;stroke:#000000;stroke-width:2.0px;stroke-linecap:butt;stroke-linejoin:miter;stroke-opacity:1\"/>\n",
       "<path class=\"atom-0\" d=\"M 189.6 6.9 L 190.6 6.9 L 190.6 10.0 L 194.3 10.0 L 194.3 6.9 L 195.3 6.9 L 195.3 14.1 L 194.3 14.1 L 194.3 10.8 L 190.6 10.8 L 190.6 14.1 L 189.6 14.1 L 189.6 6.9 \" fill=\"#FF0000\"/>\n",
       "<path class=\"atom-0\" d=\"M 196.1 10.5 Q 196.1 8.8, 197.0 7.8 Q 197.9 6.8, 199.5 6.8 Q 201.1 6.8, 201.9 7.8 Q 202.8 8.8, 202.8 10.5 Q 202.8 12.3, 201.9 13.3 Q 201.0 14.2, 199.5 14.2 Q 197.9 14.2, 197.0 13.3 Q 196.1 12.3, 196.1 10.5 M 199.5 13.4 Q 200.6 13.4, 201.2 12.7 Q 201.8 11.9, 201.8 10.5 Q 201.8 9.1, 201.2 8.4 Q 200.6 7.6, 199.5 7.6 Q 198.4 7.6, 197.8 8.4 Q 197.2 9.1, 197.2 10.5 Q 197.2 12.0, 197.8 12.7 Q 198.4 13.4, 199.5 13.4 \" fill=\"#FF0000\"/>\n",
       "<path class=\"atom-31\" d=\"M 247.2 10.5 Q 247.2 8.8, 248.1 7.8 Q 248.9 6.8, 250.5 6.8 Q 252.1 6.8, 253.0 7.8 Q 253.9 8.8, 253.9 10.5 Q 253.9 12.3, 253.0 13.3 Q 252.1 14.2, 250.5 14.2 Q 248.9 14.2, 248.1 13.3 Q 247.2 12.3, 247.2 10.5 M 250.5 13.4 Q 251.6 13.4, 252.2 12.7 Q 252.8 11.9, 252.8 10.5 Q 252.8 9.1, 252.2 8.4 Q 251.6 7.6, 250.5 7.6 Q 249.4 7.6, 248.8 8.4 Q 248.2 9.1, 248.2 10.5 Q 248.2 12.0, 248.8 12.7 Q 249.4 13.4, 250.5 13.4 \" fill=\"#FF0000\"/>\n",
       "<path class=\"atom-31\" d=\"M 254.4 6.9 L 255.4 6.9 L 255.4 10.0 L 259.0 10.0 L 259.0 6.9 L 260.0 6.9 L 260.0 14.1 L 259.0 14.1 L 259.0 10.8 L 255.4 10.8 L 255.4 14.1 L 254.4 14.1 L 254.4 6.9 \" fill=\"#FF0000\"/>\n",
       "</svg>"
      ],
      "text/plain": [
       "<IPython.core.display.SVG object>"
      ]
     },
     "execution_count": 11,
     "metadata": {},
     "output_type": "execute_result"
    }
   ],
   "source": [
    "big_smiles_gen(big)"
   ]
  },
  {
   "cell_type": "code",
   "execution_count": 12,
   "id": "de885cd0",
   "metadata": {},
   "outputs": [
    {
     "data": {
      "image/svg+xml": [
       "<svg xmlns=\"http://www.w3.org/2000/svg\" xmlns:rdkit=\"http://www.rdkit.org/xml\" xmlns:xlink=\"http://www.w3.org/1999/xlink\" version=\"1.1\" baseProfile=\"full\" xml:space=\"preserve\" width=\"450px\" height=\"150px\" viewBox=\"0 0 450 150\">\n",
       "<!-- END OF HEADER -->\n",
       "<rect style=\"opacity:1.0;fill:#FFFFFF;stroke:none\" width=\"450.0\" height=\"150.0\" x=\"0.0\" y=\"0.0\"> </rect>\n",
       "<path class=\"bond-0 atom-0 atom-1\" d=\"M 218.2,13.1 L 227.5,18.6\" style=\"fill:none;fill-rule:evenodd;stroke:#FF0000;stroke-width:2.0px;stroke-linecap:butt;stroke-linejoin:miter;stroke-opacity:1\"/>\n",
       "<path class=\"bond-0 atom-0 atom-1\" d=\"M 227.5,18.6 L 236.9,24.0\" style=\"fill:none;fill-rule:evenodd;stroke:#000000;stroke-width:2.0px;stroke-linecap:butt;stroke-linejoin:miter;stroke-opacity:1\"/>\n",
       "<path class=\"bond-1 atom-2 atom-3\" d=\"M 236.7,50.6 L 259.7,64.0\" style=\"fill:none;fill-rule:evenodd;stroke:#000000;stroke-width:2.0px;stroke-linecap:butt;stroke-linejoin:miter;stroke-opacity:1\"/>\n",
       "<path class=\"bond-2 atom-3 atom-4\" d=\"M 259.7,64.0 L 259.5,90.5\" style=\"fill:none;fill-rule:evenodd;stroke:#000000;stroke-width:2.0px;stroke-linecap:butt;stroke-linejoin:miter;stroke-opacity:1\"/>\n",
       "<path class=\"bond-3 atom-4 atom-5\" d=\"M 259.5,90.5 L 282.5,103.9\" style=\"fill:none;fill-rule:evenodd;stroke:#000000;stroke-width:2.0px;stroke-linecap:butt;stroke-linejoin:miter;stroke-opacity:1\"/>\n",
       "<path class=\"bond-4 atom-5 atom-6\" d=\"M 282.5,103.9 L 305.5,90.7\" style=\"fill:none;fill-rule:evenodd;stroke:#000000;stroke-width:2.0px;stroke-linecap:butt;stroke-linejoin:miter;stroke-opacity:1\"/>\n",
       "<path class=\"bond-5 atom-6 atom-7\" d=\"M 305.5,90.7 L 305.7,64.2\" style=\"fill:none;fill-rule:evenodd;stroke:#000000;stroke-width:2.0px;stroke-linecap:butt;stroke-linejoin:miter;stroke-opacity:1\"/>\n",
       "<path class=\"bond-6 atom-7 atom-8\" d=\"M 305.7,64.2 L 282.7,50.8\" style=\"fill:none;fill-rule:evenodd;stroke:#000000;stroke-width:2.0px;stroke-linecap:butt;stroke-linejoin:miter;stroke-opacity:1\"/>\n",
       "<path class=\"bond-7 atom-8 atom-3\" d=\"M 282.7,50.8 L 259.7,64.0\" style=\"fill:none;fill-rule:evenodd;stroke:#000000;stroke-width:2.0px;stroke-linecap:butt;stroke-linejoin:miter;stroke-opacity:1\"/>\n",
       "<path class=\"bond-8 atom-1 atom-2\" d=\"M 236.9,24.0 L 236.7,50.6\" style=\"fill:none;fill-rule:evenodd;stroke:#000000;stroke-width:2.0px;stroke-linecap:butt;stroke-linejoin:miter;stroke-opacity:1\"/>\n",
       "<path class=\"bond-9 atom-9 atom-10\" d=\"M 213.7,63.7 L 190.7,50.3\" style=\"fill:none;fill-rule:evenodd;stroke:#000000;stroke-width:2.0px;stroke-linecap:butt;stroke-linejoin:miter;stroke-opacity:1\"/>\n",
       "<path class=\"bond-10 atom-10 atom-11\" d=\"M 190.7,50.3 L 190.9,23.8\" style=\"fill:none;fill-rule:evenodd;stroke:#000000;stroke-width:2.0px;stroke-linecap:butt;stroke-linejoin:miter;stroke-opacity:1\"/>\n",
       "<path class=\"bond-11 atom-11 atom-12\" d=\"M 190.9,23.8 L 167.9,10.4\" style=\"fill:none;fill-rule:evenodd;stroke:#000000;stroke-width:2.0px;stroke-linecap:butt;stroke-linejoin:miter;stroke-opacity:1\"/>\n",
       "<path class=\"bond-12 atom-12 atom-13\" d=\"M 167.9,10.4 L 144.9,23.6\" style=\"fill:none;fill-rule:evenodd;stroke:#000000;stroke-width:2.0px;stroke-linecap:butt;stroke-linejoin:miter;stroke-opacity:1\"/>\n",
       "<path class=\"bond-13 atom-13 atom-14\" d=\"M 144.9,23.6 L 144.7,50.1\" style=\"fill:none;fill-rule:evenodd;stroke:#000000;stroke-width:2.0px;stroke-linecap:butt;stroke-linejoin:miter;stroke-opacity:1\"/>\n",
       "<path class=\"bond-14 atom-14 atom-15\" d=\"M 144.7,50.1 L 167.7,63.5\" style=\"fill:none;fill-rule:evenodd;stroke:#000000;stroke-width:2.0px;stroke-linecap:butt;stroke-linejoin:miter;stroke-opacity:1\"/>\n",
       "<path class=\"bond-15 atom-15 atom-10\" d=\"M 167.7,63.5 L 190.7,50.3\" style=\"fill:none;fill-rule:evenodd;stroke:#000000;stroke-width:2.0px;stroke-linecap:butt;stroke-linejoin:miter;stroke-opacity:1\"/>\n",
       "<path class=\"bond-16 atom-2 atom-9\" d=\"M 236.7,50.6 L 213.7,63.7\" style=\"fill:none;fill-rule:evenodd;stroke:#000000;stroke-width:2.0px;stroke-linecap:butt;stroke-linejoin:miter;stroke-opacity:1\"/>\n",
       "<path class=\"bond-17 atom-16 atom-17\" d=\"M 213.5,90.3 L 190.5,103.5\" style=\"fill:none;fill-rule:evenodd;stroke:#000000;stroke-width:2.0px;stroke-linecap:butt;stroke-linejoin:miter;stroke-opacity:1\"/>\n",
       "<path class=\"bond-18 atom-17 atom-18\" d=\"M 190.5,103.5 L 167.5,90.1\" style=\"fill:none;fill-rule:evenodd;stroke:#000000;stroke-width:2.0px;stroke-linecap:butt;stroke-linejoin:miter;stroke-opacity:1\"/>\n",
       "<path class=\"bond-19 atom-18 atom-19\" d=\"M 167.5,90.1 L 144.5,103.2\" style=\"fill:none;fill-rule:evenodd;stroke:#000000;stroke-width:2.0px;stroke-linecap:butt;stroke-linejoin:miter;stroke-opacity:1\"/>\n",
       "<path class=\"bond-20 atom-19 atom-20\" d=\"M 144.5,103.2 L 144.3,129.8\" style=\"fill:none;fill-rule:evenodd;stroke:#000000;stroke-width:2.0px;stroke-linecap:butt;stroke-linejoin:miter;stroke-opacity:1\"/>\n",
       "<path class=\"bond-21 atom-20 atom-21\" d=\"M 144.3,129.8 L 167.3,143.2\" style=\"fill:none;fill-rule:evenodd;stroke:#000000;stroke-width:2.0px;stroke-linecap:butt;stroke-linejoin:miter;stroke-opacity:1\"/>\n",
       "<path class=\"bond-22 atom-21 atom-22\" d=\"M 167.3,143.2 L 190.3,130.0\" style=\"fill:none;fill-rule:evenodd;stroke:#000000;stroke-width:2.0px;stroke-linecap:butt;stroke-linejoin:miter;stroke-opacity:1\"/>\n",
       "<path class=\"bond-23 atom-22 atom-17\" d=\"M 190.3,130.0 L 190.5,103.5\" style=\"fill:none;fill-rule:evenodd;stroke:#000000;stroke-width:2.0px;stroke-linecap:butt;stroke-linejoin:miter;stroke-opacity:1\"/>\n",
       "<path class=\"bond-24 atom-9 atom-16\" d=\"M 213.7,63.7 L 213.5,90.3\" style=\"fill:none;fill-rule:evenodd;stroke:#000000;stroke-width:2.0px;stroke-linecap:butt;stroke-linejoin:miter;stroke-opacity:1\"/>\n",
       "<path class=\"bond-25 atom-23 atom-24\" d=\"M 236.5,103.7 L 236.4,114.6\" style=\"fill:none;fill-rule:evenodd;stroke:#000000;stroke-width:2.0px;stroke-linecap:butt;stroke-linejoin:miter;stroke-opacity:1\"/>\n",
       "<path class=\"bond-25 atom-23 atom-24\" d=\"M 236.4,114.6 L 236.4,125.6\" style=\"fill:none;fill-rule:evenodd;stroke:#FF0000;stroke-width:2.0px;stroke-linecap:butt;stroke-linejoin:miter;stroke-opacity:1\"/>\n",
       "<path class=\"bond-26 atom-16 atom-23\" d=\"M 213.5,90.3 L 236.5,103.7\" style=\"fill:none;fill-rule:evenodd;stroke:#000000;stroke-width:2.0px;stroke-linecap:butt;stroke-linejoin:miter;stroke-opacity:1\"/>\n",
       "<path class=\"atom-0\" d=\"M 203.7 6.9 L 204.7 6.9 L 204.7 10.1 L 208.5 10.1 L 208.5 6.9 L 209.6 6.9 L 209.6 14.4 L 208.5 14.4 L 208.5 11.0 L 204.7 11.0 L 204.7 14.4 L 203.7 14.4 L 203.7 6.9 \" fill=\"#FF0000\"/>\n",
       "<path class=\"atom-0\" d=\"M 210.5 10.6 Q 210.5 8.8, 211.4 7.8 Q 212.2 6.8, 213.9 6.8 Q 215.6 6.8, 216.5 7.8 Q 217.4 8.8, 217.4 10.6 Q 217.4 12.5, 216.5 13.5 Q 215.6 14.5, 213.9 14.5 Q 212.3 14.5, 211.4 13.5 Q 210.5 12.5, 210.5 10.6 M 213.9 13.7 Q 215.1 13.7, 215.7 12.9 Q 216.3 12.2, 216.3 10.6 Q 216.3 9.2, 215.7 8.4 Q 215.1 7.7, 213.9 7.7 Q 212.8 7.7, 212.1 8.4 Q 211.5 9.2, 211.5 10.6 Q 211.5 12.2, 212.1 12.9 Q 212.8 13.7, 213.9 13.7 \" fill=\"#FF0000\"/>\n",
       "<path class=\"atom-24\" d=\"M 232.9 130.3 Q 232.9 128.5, 233.8 127.4 Q 234.7 126.4, 236.3 126.4 Q 238.0 126.4, 238.9 127.4 Q 239.8 128.5, 239.8 130.3 Q 239.8 132.1, 238.9 133.1 Q 238.0 134.2, 236.3 134.2 Q 234.7 134.2, 233.8 133.1 Q 232.9 132.1, 232.9 130.3 M 236.3 133.3 Q 237.5 133.3, 238.1 132.5 Q 238.7 131.8, 238.7 130.3 Q 238.7 128.8, 238.1 128.0 Q 237.5 127.3, 236.3 127.3 Q 235.2 127.3, 234.6 128.0 Q 233.9 128.8, 233.9 130.3 Q 233.9 131.8, 234.6 132.5 Q 235.2 133.3, 236.3 133.3 \" fill=\"#FF0000\"/>\n",
       "<path class=\"atom-24\" d=\"M 240.3 126.5 L 241.3 126.5 L 241.3 129.7 L 245.2 129.7 L 245.2 126.5 L 246.2 126.5 L 246.2 134.0 L 245.2 134.0 L 245.2 130.6 L 241.3 130.6 L 241.3 134.0 L 240.3 134.0 L 240.3 126.5 \" fill=\"#FF0000\"/>\n",
       "</svg>"
      ],
      "text/plain": [
       "<IPython.core.display.SVG object>"
      ]
     },
     "execution_count": 12,
     "metadata": {},
     "output_type": "execute_result"
    }
   ],
   "source": [
    "big_smiles_gen(big)"
   ]
  },
  {
   "cell_type": "markdown",
   "id": "d978619a",
   "metadata": {},
   "source": [
    "# Polyamides\n",
    "## Di-Carboxylic Acids"
   ]
  },
  {
   "cell_type": "code",
   "execution_count": 13,
   "id": "6a88d483",
   "metadata": {},
   "outputs": [
    {
     "data": {
      "text/plain": [
       "'NC{[$][$]C[$][$]}|gauss(60, 24)|COO.|500|'"
      ]
     },
     "execution_count": 13,
     "metadata": {},
     "output_type": "execute_result"
    }
   ],
   "source": [
    "big = \"NC{[$][$]C[$][$]}|gauss(60, 24)|COO.|500|\"\n",
    "big"
   ]
  },
  {
   "cell_type": "code",
   "execution_count": 14,
   "id": "2f11a3e7",
   "metadata": {},
   "outputs": [
    {
     "data": {
      "image/svg+xml": [
       "<svg xmlns=\"http://www.w3.org/2000/svg\" xmlns:rdkit=\"http://www.rdkit.org/xml\" xmlns:xlink=\"http://www.w3.org/1999/xlink\" version=\"1.1\" baseProfile=\"full\" xml:space=\"preserve\" width=\"450px\" height=\"150px\" viewBox=\"0 0 450 150\">\n",
       "<!-- END OF HEADER -->\n",
       "<rect style=\"opacity:1.0;fill:#FFFFFF;stroke:none\" width=\"450.0\" height=\"150.0\" x=\"0.0\" y=\"0.0\"> </rect>\n",
       "<path class=\"bond-0 atom-0 atom-1\" d=\"M 48.1,67.7 L 63.7,76.6\" style=\"fill:none;fill-rule:evenodd;stroke:#0000FF;stroke-width:2.0px;stroke-linecap:butt;stroke-linejoin:miter;stroke-opacity:1\"/>\n",
       "<path class=\"bond-0 atom-0 atom-1\" d=\"M 63.7,76.6 L 79.3,85.6\" style=\"fill:none;fill-rule:evenodd;stroke:#000000;stroke-width:2.0px;stroke-linecap:butt;stroke-linejoin:miter;stroke-opacity:1\"/>\n",
       "<path class=\"bond-1 atom-1 atom-2\" d=\"M 79.3,85.6 L 116.4,64.2\" style=\"fill:none;fill-rule:evenodd;stroke:#000000;stroke-width:2.0px;stroke-linecap:butt;stroke-linejoin:miter;stroke-opacity:1\"/>\n",
       "<path class=\"bond-2 atom-2 atom-3\" d=\"M 116.4,64.2 L 153.6,85.6\" style=\"fill:none;fill-rule:evenodd;stroke:#000000;stroke-width:2.0px;stroke-linecap:butt;stroke-linejoin:miter;stroke-opacity:1\"/>\n",
       "<path class=\"bond-3 atom-3 atom-4\" d=\"M 153.6,85.6 L 190.7,64.2\" style=\"fill:none;fill-rule:evenodd;stroke:#000000;stroke-width:2.0px;stroke-linecap:butt;stroke-linejoin:miter;stroke-opacity:1\"/>\n",
       "<path class=\"bond-4 atom-4 atom-5\" d=\"M 190.7,64.2 L 227.9,85.6\" style=\"fill:none;fill-rule:evenodd;stroke:#000000;stroke-width:2.0px;stroke-linecap:butt;stroke-linejoin:miter;stroke-opacity:1\"/>\n",
       "<path class=\"bond-5 atom-5 atom-6\" d=\"M 227.9,85.6 L 265.0,64.2\" style=\"fill:none;fill-rule:evenodd;stroke:#000000;stroke-width:2.0px;stroke-linecap:butt;stroke-linejoin:miter;stroke-opacity:1\"/>\n",
       "<path class=\"bond-6 atom-6 atom-7\" d=\"M 265.0,64.2 L 302.2,85.6\" style=\"fill:none;fill-rule:evenodd;stroke:#000000;stroke-width:2.0px;stroke-linecap:butt;stroke-linejoin:miter;stroke-opacity:1\"/>\n",
       "<path class=\"bond-7 atom-8 atom-9\" d=\"M 339.3,64.2 L 354.4,72.9\" style=\"fill:none;fill-rule:evenodd;stroke:#000000;stroke-width:2.0px;stroke-linecap:butt;stroke-linejoin:miter;stroke-opacity:1\"/>\n",
       "<path class=\"bond-7 atom-8 atom-9\" d=\"M 354.4,72.9 L 369.5,81.6\" style=\"fill:none;fill-rule:evenodd;stroke:#FF0000;stroke-width:2.0px;stroke-linecap:butt;stroke-linejoin:miter;stroke-opacity:1\"/>\n",
       "<path class=\"bond-8 atom-9 atom-10\" d=\"M 383.4,81.6 L 406.6,68.2\" style=\"fill:none;fill-rule:evenodd;stroke:#FF0000;stroke-width:2.0px;stroke-linecap:butt;stroke-linejoin:miter;stroke-opacity:1\"/>\n",
       "<path class=\"bond-9 atom-7 atom-8\" d=\"M 302.2,85.6 L 339.3,64.2\" style=\"fill:none;fill-rule:evenodd;stroke:#000000;stroke-width:2.0px;stroke-linecap:butt;stroke-linejoin:miter;stroke-opacity:1\"/>\n",
       "<path class=\"atom-0\" d=\"M 20.5 58.1 L 22.1 58.1 L 22.1 63.3 L 28.3 63.3 L 28.3 58.1 L 30.0 58.1 L 30.0 70.3 L 28.3 70.3 L 28.3 64.6 L 22.1 64.6 L 22.1 70.3 L 20.5 70.3 L 20.5 58.1 \" fill=\"#0000FF\"/>\n",
       "<path class=\"atom-0\" d=\"M 31.4 69.8 Q 31.7 69.1, 32.4 68.7 Q 33.1 68.2, 34.1 68.2 Q 35.3 68.2, 36.0 68.9 Q 36.7 69.5, 36.7 70.7 Q 36.7 71.9, 35.8 73.0 Q 34.9 74.1, 33.1 75.4 L 36.8 75.4 L 36.8 76.3 L 31.4 76.3 L 31.4 75.6 Q 32.9 74.5, 33.8 73.7 Q 34.7 72.9, 35.1 72.2 Q 35.6 71.5, 35.6 70.8 Q 35.6 70.0, 35.2 69.6 Q 34.8 69.1, 34.1 69.1 Q 33.5 69.1, 33.0 69.4 Q 32.6 69.6, 32.3 70.2 L 31.4 69.8 \" fill=\"#0000FF\"/>\n",
       "<path class=\"atom-0\" d=\"M 39.4 58.1 L 43.4 64.5 Q 43.8 65.2, 44.4 66.3 Q 45.1 67.5, 45.1 67.5 L 45.1 58.1 L 46.7 58.1 L 46.7 70.3 L 45.1 70.3 L 40.8 63.2 Q 40.3 62.4, 39.7 61.5 Q 39.2 60.5, 39.1 60.2 L 39.1 70.3 L 37.5 70.3 L 37.5 58.1 L 39.4 58.1 \" fill=\"#0000FF\"/>\n",
       "<path class=\"atom-9\" d=\"M 370.9 85.7 Q 370.9 82.7, 372.3 81.1 Q 373.8 79.5, 376.5 79.5 Q 379.1 79.5, 380.6 81.1 Q 382.0 82.7, 382.0 85.7 Q 382.0 88.6, 380.6 90.3 Q 379.1 92.0, 376.5 92.0 Q 373.8 92.0, 372.3 90.3 Q 370.9 88.6, 370.9 85.7 M 376.5 90.6 Q 378.3 90.6, 379.3 89.4 Q 380.3 88.1, 380.3 85.7 Q 380.3 83.3, 379.3 82.1 Q 378.3 80.9, 376.5 80.9 Q 374.6 80.9, 373.6 82.1 Q 372.6 83.3, 372.6 85.7 Q 372.6 88.1, 373.6 89.4 Q 374.6 90.6, 376.5 90.6 \" fill=\"#FF0000\"/>\n",
       "<path class=\"atom-10\" d=\"M 408.0 64.2 Q 408.0 61.3, 409.5 59.7 Q 410.9 58.0, 413.6 58.0 Q 416.3 58.0, 417.7 59.7 Q 419.2 61.3, 419.2 64.2 Q 419.2 67.2, 417.7 68.8 Q 416.3 70.5, 413.6 70.5 Q 410.9 70.5, 409.5 68.8 Q 408.0 67.2, 408.0 64.2 M 413.6 69.1 Q 415.5 69.1, 416.5 67.9 Q 417.5 66.7, 417.5 64.2 Q 417.5 61.8, 416.5 60.6 Q 415.5 59.4, 413.6 59.4 Q 411.8 59.4, 410.7 60.6 Q 409.7 61.8, 409.7 64.2 Q 409.7 66.7, 410.7 67.9 Q 411.8 69.1, 413.6 69.1 \" fill=\"#FF0000\"/>\n",
       "<path class=\"atom-10\" d=\"M 420.0 58.2 L 421.7 58.2 L 421.7 63.3 L 427.9 63.3 L 427.9 58.2 L 429.5 58.2 L 429.5 70.3 L 427.9 70.3 L 427.9 64.7 L 421.7 64.7 L 421.7 70.3 L 420.0 70.3 L 420.0 58.2 \" fill=\"#FF0000\"/>\n",
       "</svg>"
      ],
      "text/plain": [
       "<IPython.core.display.SVG object>"
      ]
     },
     "execution_count": 14,
     "metadata": {},
     "output_type": "execute_result"
    }
   ],
   "source": [
    "big_smiles_gen(big)"
   ]
  },
  {
   "cell_type": "code",
   "execution_count": 15,
   "id": "a935520e",
   "metadata": {},
   "outputs": [
    {
     "data": {
      "image/svg+xml": [
       "<svg xmlns=\"http://www.w3.org/2000/svg\" xmlns:rdkit=\"http://www.rdkit.org/xml\" xmlns:xlink=\"http://www.w3.org/1999/xlink\" version=\"1.1\" baseProfile=\"full\" xml:space=\"preserve\" width=\"450px\" height=\"150px\" viewBox=\"0 0 450 150\">\n",
       "<!-- END OF HEADER -->\n",
       "<rect style=\"opacity:1.0;fill:#FFFFFF;stroke:none\" width=\"450.0\" height=\"150.0\" x=\"0.0\" y=\"0.0\"> </rect>\n",
       "<path class=\"bond-0 atom-0 atom-1\" d=\"M 40.8,69.6 L 52.2,76.2\" style=\"fill:none;fill-rule:evenodd;stroke:#0000FF;stroke-width:2.0px;stroke-linecap:butt;stroke-linejoin:miter;stroke-opacity:1\"/>\n",
       "<path class=\"bond-0 atom-0 atom-1\" d=\"M 52.2,76.2 L 63.6,82.8\" style=\"fill:none;fill-rule:evenodd;stroke:#000000;stroke-width:2.0px;stroke-linecap:butt;stroke-linejoin:miter;stroke-opacity:1\"/>\n",
       "<path class=\"bond-1 atom-1 atom-2\" d=\"M 63.6,82.8 L 90.8,67.1\" style=\"fill:none;fill-rule:evenodd;stroke:#000000;stroke-width:2.0px;stroke-linecap:butt;stroke-linejoin:miter;stroke-opacity:1\"/>\n",
       "<path class=\"bond-2 atom-2 atom-3\" d=\"M 90.8,67.1 L 118.1,82.8\" style=\"fill:none;fill-rule:evenodd;stroke:#000000;stroke-width:2.0px;stroke-linecap:butt;stroke-linejoin:miter;stroke-opacity:1\"/>\n",
       "<path class=\"bond-3 atom-3 atom-4\" d=\"M 118.1,82.8 L 145.3,67.1\" style=\"fill:none;fill-rule:evenodd;stroke:#000000;stroke-width:2.0px;stroke-linecap:butt;stroke-linejoin:miter;stroke-opacity:1\"/>\n",
       "<path class=\"bond-4 atom-4 atom-5\" d=\"M 145.3,67.1 L 172.6,82.8\" style=\"fill:none;fill-rule:evenodd;stroke:#000000;stroke-width:2.0px;stroke-linecap:butt;stroke-linejoin:miter;stroke-opacity:1\"/>\n",
       "<path class=\"bond-5 atom-5 atom-6\" d=\"M 172.6,82.8 L 199.8,67.1\" style=\"fill:none;fill-rule:evenodd;stroke:#000000;stroke-width:2.0px;stroke-linecap:butt;stroke-linejoin:miter;stroke-opacity:1\"/>\n",
       "<path class=\"bond-6 atom-6 atom-7\" d=\"M 199.8,67.1 L 227.1,82.8\" style=\"fill:none;fill-rule:evenodd;stroke:#000000;stroke-width:2.0px;stroke-linecap:butt;stroke-linejoin:miter;stroke-opacity:1\"/>\n",
       "<path class=\"bond-7 atom-7 atom-8\" d=\"M 227.1,82.8 L 254.3,67.1\" style=\"fill:none;fill-rule:evenodd;stroke:#000000;stroke-width:2.0px;stroke-linecap:butt;stroke-linejoin:miter;stroke-opacity:1\"/>\n",
       "<path class=\"bond-8 atom-8 atom-9\" d=\"M 254.3,67.1 L 281.6,82.8\" style=\"fill:none;fill-rule:evenodd;stroke:#000000;stroke-width:2.0px;stroke-linecap:butt;stroke-linejoin:miter;stroke-opacity:1\"/>\n",
       "<path class=\"bond-9 atom-9 atom-10\" d=\"M 281.6,82.8 L 308.8,67.1\" style=\"fill:none;fill-rule:evenodd;stroke:#000000;stroke-width:2.0px;stroke-linecap:butt;stroke-linejoin:miter;stroke-opacity:1\"/>\n",
       "<path class=\"bond-10 atom-10 atom-11\" d=\"M 308.8,67.1 L 336.1,82.8\" style=\"fill:none;fill-rule:evenodd;stroke:#000000;stroke-width:2.0px;stroke-linecap:butt;stroke-linejoin:miter;stroke-opacity:1\"/>\n",
       "<path class=\"bond-11 atom-12 atom-13\" d=\"M 363.4,67.1 L 374.4,73.5\" style=\"fill:none;fill-rule:evenodd;stroke:#000000;stroke-width:2.0px;stroke-linecap:butt;stroke-linejoin:miter;stroke-opacity:1\"/>\n",
       "<path class=\"bond-11 atom-12 atom-13\" d=\"M 374.4,73.5 L 385.5,79.8\" style=\"fill:none;fill-rule:evenodd;stroke:#FF0000;stroke-width:2.0px;stroke-linecap:butt;stroke-linejoin:miter;stroke-opacity:1\"/>\n",
       "<path class=\"bond-12 atom-13 atom-14\" d=\"M 395.7,79.8 L 412.7,70.0\" style=\"fill:none;fill-rule:evenodd;stroke:#FF0000;stroke-width:2.0px;stroke-linecap:butt;stroke-linejoin:miter;stroke-opacity:1\"/>\n",
       "<path class=\"bond-13 atom-11 atom-12\" d=\"M 336.1,82.8 L 363.4,67.1\" style=\"fill:none;fill-rule:evenodd;stroke:#000000;stroke-width:2.0px;stroke-linecap:butt;stroke-linejoin:miter;stroke-opacity:1\"/>\n",
       "<path class=\"atom-0\" d=\"M 20.5 62.6 L 21.7 62.6 L 21.7 66.4 L 26.2 66.4 L 26.2 62.6 L 27.4 62.6 L 27.4 71.5 L 26.2 71.5 L 26.2 67.4 L 21.7 67.4 L 21.7 71.5 L 20.5 71.5 L 20.5 62.6 \" fill=\"#0000FF\"/>\n",
       "<path class=\"atom-0\" d=\"M 28.5 71.2 Q 28.7 70.7, 29.2 70.3 Q 29.8 70.0, 30.5 70.0 Q 31.4 70.0, 31.9 70.5 Q 32.4 71.0, 32.4 71.8 Q 32.4 72.7, 31.7 73.5 Q 31.1 74.3, 29.7 75.3 L 32.5 75.3 L 32.5 76.0 L 28.5 76.0 L 28.5 75.4 Q 29.6 74.6, 30.2 74.1 Q 30.9 73.5, 31.2 73.0 Q 31.5 72.4, 31.5 71.9 Q 31.5 71.3, 31.2 71.0 Q 31.0 70.7, 30.5 70.7 Q 30.0 70.7, 29.7 70.9 Q 29.4 71.1, 29.1 71.5 L 28.5 71.2 \" fill=\"#0000FF\"/>\n",
       "<path class=\"atom-0\" d=\"M 34.4 62.6 L 37.3 67.3 Q 37.6 67.8, 38.0 68.6 Q 38.5 69.5, 38.5 69.5 L 38.5 62.6 L 39.7 62.6 L 39.7 71.5 L 38.5 71.5 L 35.4 66.4 Q 35.0 65.8, 34.6 65.1 Q 34.2 64.4, 34.1 64.2 L 34.1 71.5 L 33.0 71.5 L 33.0 62.6 L 34.4 62.6 \" fill=\"#0000FF\"/>\n",
       "<path class=\"atom-13\" d=\"M 386.5 82.8 Q 386.5 80.7, 387.6 79.5 Q 388.6 78.3, 390.6 78.3 Q 392.6 78.3, 393.6 79.5 Q 394.7 80.7, 394.7 82.8 Q 394.7 85.0, 393.6 86.2 Q 392.6 87.4, 390.6 87.4 Q 388.6 87.4, 387.6 86.2 Q 386.5 85.0, 386.5 82.8 M 390.6 86.4 Q 392.0 86.4, 392.7 85.5 Q 393.4 84.6, 393.4 82.8 Q 393.4 81.1, 392.7 80.2 Q 392.0 79.3, 390.6 79.3 Q 389.2 79.3, 388.5 80.2 Q 387.8 81.1, 387.8 82.8 Q 387.8 84.6, 388.5 85.5 Q 389.2 86.4, 390.6 86.4 \" fill=\"#FF0000\"/>\n",
       "<path class=\"atom-14\" d=\"M 413.8 67.1 Q 413.8 64.9, 414.8 63.8 Q 415.9 62.6, 417.9 62.6 Q 419.8 62.6, 420.9 63.8 Q 421.9 64.9, 421.9 67.1 Q 421.9 69.3, 420.9 70.5 Q 419.8 71.7, 417.9 71.7 Q 415.9 71.7, 414.8 70.5 Q 413.8 69.3, 413.8 67.1 M 417.9 70.7 Q 419.2 70.7, 419.9 69.8 Q 420.7 68.9, 420.7 67.1 Q 420.7 65.3, 419.9 64.5 Q 419.2 63.6, 417.9 63.6 Q 416.5 63.6, 415.8 64.4 Q 415.0 65.3, 415.0 67.1 Q 415.0 68.9, 415.8 69.8 Q 416.5 70.7, 417.9 70.7 \" fill=\"#FF0000\"/>\n",
       "<path class=\"atom-14\" d=\"M 422.6 62.7 L 423.8 62.7 L 423.8 66.4 L 428.3 66.4 L 428.3 62.7 L 429.5 62.7 L 429.5 71.6 L 428.3 71.6 L 428.3 67.5 L 423.8 67.5 L 423.8 71.6 L 422.6 71.6 L 422.6 62.7 \" fill=\"#FF0000\"/>\n",
       "</svg>"
      ],
      "text/plain": [
       "<IPython.core.display.SVG object>"
      ]
     },
     "execution_count": 15,
     "metadata": {},
     "output_type": "execute_result"
    }
   ],
   "source": [
    "big_smiles_gen(big)"
   ]
  },
  {
   "cell_type": "markdown",
   "id": "7e77762a",
   "metadata": {},
   "source": [
    "## Diamines"
   ]
  },
  {
   "cell_type": "code",
   "execution_count": 16,
   "id": "03a604a8",
   "metadata": {},
   "outputs": [
    {
     "data": {
      "text/plain": [
       "'NC{[$][$]C[$][$]}|gauss(60,24)|CN.|500|'"
      ]
     },
     "execution_count": 16,
     "metadata": {},
     "output_type": "execute_result"
    }
   ],
   "source": [
    "big = \"NC{[$][$]C[$][$]}|gauss(60,24)|CN.|500|\"\n",
    "big"
   ]
  },
  {
   "cell_type": "code",
   "execution_count": 17,
   "id": "7e2e267d",
   "metadata": {},
   "outputs": [
    {
     "data": {
      "image/svg+xml": [
       "<svg xmlns=\"http://www.w3.org/2000/svg\" xmlns:rdkit=\"http://www.rdkit.org/xml\" xmlns:xlink=\"http://www.w3.org/1999/xlink\" version=\"1.1\" baseProfile=\"full\" xml:space=\"preserve\" width=\"450px\" height=\"150px\" viewBox=\"0 0 450 150\">\n",
       "<!-- END OF HEADER -->\n",
       "<rect style=\"opacity:1.0;fill:#FFFFFF;stroke:none\" width=\"450.0\" height=\"150.0\" x=\"0.0\" y=\"0.0\"> </rect>\n",
       "<path class=\"bond-0 atom-0 atom-1\" d=\"M 43.6,71.5 L 56.6,79.0\" style=\"fill:none;fill-rule:evenodd;stroke:#0000FF;stroke-width:2.0px;stroke-linecap:butt;stroke-linejoin:miter;stroke-opacity:1\"/>\n",
       "<path class=\"bond-0 atom-0 atom-1\" d=\"M 56.6,79.0 L 69.6,86.5\" style=\"fill:none;fill-rule:evenodd;stroke:#000000;stroke-width:2.0px;stroke-linecap:butt;stroke-linejoin:miter;stroke-opacity:1\"/>\n",
       "<path class=\"bond-1 atom-1 atom-2\" d=\"M 69.6,86.5 L 100.6,68.6\" style=\"fill:none;fill-rule:evenodd;stroke:#000000;stroke-width:2.0px;stroke-linecap:butt;stroke-linejoin:miter;stroke-opacity:1\"/>\n",
       "<path class=\"bond-2 atom-2 atom-3\" d=\"M 100.6,68.6 L 131.6,86.5\" style=\"fill:none;fill-rule:evenodd;stroke:#000000;stroke-width:2.0px;stroke-linecap:butt;stroke-linejoin:miter;stroke-opacity:1\"/>\n",
       "<path class=\"bond-3 atom-3 atom-4\" d=\"M 131.6,86.5 L 162.6,68.6\" style=\"fill:none;fill-rule:evenodd;stroke:#000000;stroke-width:2.0px;stroke-linecap:butt;stroke-linejoin:miter;stroke-opacity:1\"/>\n",
       "<path class=\"bond-4 atom-4 atom-5\" d=\"M 162.6,68.6 L 193.7,86.5\" style=\"fill:none;fill-rule:evenodd;stroke:#000000;stroke-width:2.0px;stroke-linecap:butt;stroke-linejoin:miter;stroke-opacity:1\"/>\n",
       "<path class=\"bond-5 atom-5 atom-6\" d=\"M 193.7,86.5 L 224.7,68.6\" style=\"fill:none;fill-rule:evenodd;stroke:#000000;stroke-width:2.0px;stroke-linecap:butt;stroke-linejoin:miter;stroke-opacity:1\"/>\n",
       "<path class=\"bond-6 atom-6 atom-7\" d=\"M 224.7,68.6 L 255.7,86.5\" style=\"fill:none;fill-rule:evenodd;stroke:#000000;stroke-width:2.0px;stroke-linecap:butt;stroke-linejoin:miter;stroke-opacity:1\"/>\n",
       "<path class=\"bond-7 atom-7 atom-8\" d=\"M 255.7,86.5 L 286.7,68.6\" style=\"fill:none;fill-rule:evenodd;stroke:#000000;stroke-width:2.0px;stroke-linecap:butt;stroke-linejoin:miter;stroke-opacity:1\"/>\n",
       "<path class=\"bond-8 atom-8 atom-9\" d=\"M 286.7,68.6 L 317.8,86.5\" style=\"fill:none;fill-rule:evenodd;stroke:#000000;stroke-width:2.0px;stroke-linecap:butt;stroke-linejoin:miter;stroke-opacity:1\"/>\n",
       "<path class=\"bond-9 atom-9 atom-10\" d=\"M 317.8,86.5 L 348.8,68.6\" style=\"fill:none;fill-rule:evenodd;stroke:#000000;stroke-width:2.0px;stroke-linecap:butt;stroke-linejoin:miter;stroke-opacity:1\"/>\n",
       "<path class=\"bond-10 atom-11 atom-12\" d=\"M 379.8,86.5 L 392.8,79.0\" style=\"fill:none;fill-rule:evenodd;stroke:#000000;stroke-width:2.0px;stroke-linecap:butt;stroke-linejoin:miter;stroke-opacity:1\"/>\n",
       "<path class=\"bond-10 atom-11 atom-12\" d=\"M 392.8,79.0 L 405.8,71.5\" style=\"fill:none;fill-rule:evenodd;stroke:#0000FF;stroke-width:2.0px;stroke-linecap:butt;stroke-linejoin:miter;stroke-opacity:1\"/>\n",
       "<path class=\"bond-11 atom-10 atom-11\" d=\"M 348.8,68.6 L 379.8,86.5\" style=\"fill:none;fill-rule:evenodd;stroke:#000000;stroke-width:2.0px;stroke-linecap:butt;stroke-linejoin:miter;stroke-opacity:1\"/>\n",
       "<path class=\"atom-0\" d=\"M 20.5 63.5 L 21.8 63.5 L 21.8 67.8 L 27.0 67.8 L 27.0 63.5 L 28.4 63.5 L 28.4 73.7 L 27.0 73.7 L 27.0 69.0 L 21.8 69.0 L 21.8 73.7 L 20.5 73.7 L 20.5 63.5 \" fill=\"#0000FF\"/>\n",
       "<path class=\"atom-0\" d=\"M 29.6 73.3 Q 29.9 72.7, 30.5 72.3 Q 31.0 72.0, 31.9 72.0 Q 32.9 72.0, 33.4 72.5 Q 34.0 73.1, 34.0 74.0 Q 34.0 75.0, 33.3 75.9 Q 32.5 76.9, 31.0 78.0 L 34.1 78.0 L 34.1 78.7 L 29.6 78.7 L 29.6 78.1 Q 30.9 77.2, 31.6 76.5 Q 32.3 75.9, 32.7 75.3 Q 33.1 74.7, 33.1 74.1 Q 33.1 73.4, 32.7 73.1 Q 32.4 72.7, 31.9 72.7 Q 31.3 72.7, 31.0 72.9 Q 30.6 73.1, 30.3 73.6 L 29.6 73.3 \" fill=\"#0000FF\"/>\n",
       "<path class=\"atom-0\" d=\"M 36.3 63.5 L 39.6 68.9 Q 39.9 69.4, 40.5 70.4 Q 41.0 71.3, 41.0 71.4 L 41.0 63.5 L 42.4 63.5 L 42.4 73.7 L 41.0 73.7 L 37.4 67.8 Q 37.0 67.1, 36.6 66.3 Q 36.1 65.5, 36.0 65.3 L 36.0 73.7 L 34.7 73.7 L 34.7 63.5 L 36.3 63.5 \" fill=\"#0000FF\"/>\n",
       "<path class=\"atom-12\" d=\"M 408.6 63.5 L 411.9 68.9 Q 412.3 69.4, 412.8 70.4 Q 413.3 71.3, 413.3 71.4 L 413.3 63.5 L 414.7 63.5 L 414.7 73.7 L 413.3 73.7 L 409.7 67.8 Q 409.3 67.1, 408.9 66.3 Q 408.4 65.5, 408.3 65.3 L 408.3 73.7 L 407.0 73.7 L 407.0 63.5 L 408.6 63.5 \" fill=\"#0000FF\"/>\n",
       "<path class=\"atom-12\" d=\"M 415.9 63.5 L 417.3 63.5 L 417.3 67.8 L 422.4 67.8 L 422.4 63.5 L 423.8 63.5 L 423.8 73.7 L 422.4 73.7 L 422.4 69.0 L 417.3 69.0 L 417.3 73.7 L 415.9 73.7 L 415.9 63.5 \" fill=\"#0000FF\"/>\n",
       "<path class=\"atom-12\" d=\"M 425.1 73.3 Q 425.3 72.7, 425.9 72.3 Q 426.5 72.0, 427.3 72.0 Q 428.3 72.0, 428.9 72.5 Q 429.4 73.1, 429.4 74.0 Q 429.4 75.0, 428.7 75.9 Q 428.0 76.9, 426.5 78.0 L 429.5 78.0 L 429.5 78.7 L 425.0 78.7 L 425.0 78.1 Q 426.3 77.2, 427.0 76.5 Q 427.8 75.9, 428.1 75.3 Q 428.5 74.7, 428.5 74.1 Q 428.5 73.4, 428.2 73.1 Q 427.8 72.7, 427.3 72.7 Q 426.7 72.7, 426.4 72.9 Q 426.0 73.1, 425.8 73.6 L 425.1 73.3 \" fill=\"#0000FF\"/>\n",
       "</svg>"
      ],
      "text/plain": [
       "<IPython.core.display.SVG object>"
      ]
     },
     "execution_count": 17,
     "metadata": {},
     "output_type": "execute_result"
    }
   ],
   "source": [
    "big_smiles_gen(big)"
   ]
  },
  {
   "cell_type": "code",
   "execution_count": 18,
   "id": "664eebc4",
   "metadata": {},
   "outputs": [
    {
     "data": {
      "image/svg+xml": [
       "<svg xmlns=\"http://www.w3.org/2000/svg\" xmlns:rdkit=\"http://www.rdkit.org/xml\" xmlns:xlink=\"http://www.w3.org/1999/xlink\" version=\"1.1\" baseProfile=\"full\" xml:space=\"preserve\" width=\"450px\" height=\"150px\" viewBox=\"0 0 450 150\">\n",
       "<!-- END OF HEADER -->\n",
       "<rect style=\"opacity:1.0;fill:#FFFFFF;stroke:none\" width=\"450.0\" height=\"150.0\" x=\"0.0\" y=\"0.0\"> </rect>\n",
       "<path class=\"bond-0 atom-0 atom-1\" d=\"M 53.6,70.0 L 72.3,80.7\" style=\"fill:none;fill-rule:evenodd;stroke:#0000FF;stroke-width:2.0px;stroke-linecap:butt;stroke-linejoin:miter;stroke-opacity:1\"/>\n",
       "<path class=\"bond-0 atom-0 atom-1\" d=\"M 72.3,80.7 L 90.9,91.5\" style=\"fill:none;fill-rule:evenodd;stroke:#000000;stroke-width:2.0px;stroke-linecap:butt;stroke-linejoin:miter;stroke-opacity:1\"/>\n",
       "<path class=\"bond-1 atom-1 atom-2\" d=\"M 90.9,91.5 L 135.5,65.8\" style=\"fill:none;fill-rule:evenodd;stroke:#000000;stroke-width:2.0px;stroke-linecap:butt;stroke-linejoin:miter;stroke-opacity:1\"/>\n",
       "<path class=\"bond-2 atom-2 atom-3\" d=\"M 135.5,65.8 L 180.0,91.5\" style=\"fill:none;fill-rule:evenodd;stroke:#000000;stroke-width:2.0px;stroke-linecap:butt;stroke-linejoin:miter;stroke-opacity:1\"/>\n",
       "<path class=\"bond-3 atom-3 atom-4\" d=\"M 180.0,91.5 L 224.6,65.8\" style=\"fill:none;fill-rule:evenodd;stroke:#000000;stroke-width:2.0px;stroke-linecap:butt;stroke-linejoin:miter;stroke-opacity:1\"/>\n",
       "<path class=\"bond-4 atom-4 atom-5\" d=\"M 224.6,65.8 L 269.1,91.5\" style=\"fill:none;fill-rule:evenodd;stroke:#000000;stroke-width:2.0px;stroke-linecap:butt;stroke-linejoin:miter;stroke-opacity:1\"/>\n",
       "<path class=\"bond-5 atom-5 atom-6\" d=\"M 269.1,91.5 L 313.6,65.8\" style=\"fill:none;fill-rule:evenodd;stroke:#000000;stroke-width:2.0px;stroke-linecap:butt;stroke-linejoin:miter;stroke-opacity:1\"/>\n",
       "<path class=\"bond-6 atom-7 atom-8\" d=\"M 358.2,91.5 L 376.8,80.7\" style=\"fill:none;fill-rule:evenodd;stroke:#000000;stroke-width:2.0px;stroke-linecap:butt;stroke-linejoin:miter;stroke-opacity:1\"/>\n",
       "<path class=\"bond-6 atom-7 atom-8\" d=\"M 376.8,80.7 L 395.5,70.0\" style=\"fill:none;fill-rule:evenodd;stroke:#0000FF;stroke-width:2.0px;stroke-linecap:butt;stroke-linejoin:miter;stroke-opacity:1\"/>\n",
       "<path class=\"bond-7 atom-6 atom-7\" d=\"M 313.6,65.8 L 358.2,91.5\" style=\"fill:none;fill-rule:evenodd;stroke:#000000;stroke-width:2.0px;stroke-linecap:butt;stroke-linejoin:miter;stroke-opacity:1\"/>\n",
       "<path class=\"atom-0\" d=\"M 20.5 58.5 L 22.4 58.5 L 22.4 64.7 L 29.9 64.7 L 29.9 58.5 L 31.9 58.5 L 31.9 73.1 L 29.9 73.1 L 29.9 66.3 L 22.4 66.3 L 22.4 73.1 L 20.5 73.1 L 20.5 58.5 \" fill=\"#0000FF\"/>\n",
       "<path class=\"atom-0\" d=\"M 33.6 72.6 Q 34.0 71.6, 34.8 71.1 Q 35.7 70.6, 36.8 70.6 Q 38.3 70.6, 39.1 71.4 Q 39.9 72.2, 39.9 73.6 Q 39.9 75.0, 38.9 76.4 Q 37.8 77.7, 35.6 79.3 L 40.1 79.3 L 40.1 80.3 L 33.6 80.3 L 33.6 79.4 Q 35.4 78.2, 36.4 77.2 Q 37.5 76.3, 38.0 75.4 Q 38.6 74.6, 38.6 73.7 Q 38.6 72.7, 38.1 72.2 Q 37.6 71.7, 36.8 71.7 Q 36.1 71.7, 35.5 72.0 Q 35.0 72.3, 34.7 73.0 L 33.6 72.6 \" fill=\"#0000FF\"/>\n",
       "<path class=\"atom-0\" d=\"M 43.2 58.5 L 48.0 66.2 Q 48.4 67.0, 49.2 68.4 Q 50.0 69.7, 50.0 69.8 L 50.0 58.5 L 51.9 58.5 L 51.9 73.1 L 49.9 73.1 L 44.8 64.6 Q 44.2 63.6, 43.6 62.5 Q 43.0 61.4, 42.8 61.0 L 42.8 73.1 L 40.9 73.1 L 40.9 58.5 L 43.2 58.5 \" fill=\"#0000FF\"/>\n",
       "<path class=\"atom-8\" d=\"M 399.5 58.5 L 404.2 66.2 Q 404.7 67.0, 405.5 68.4 Q 406.2 69.7, 406.3 69.8 L 406.3 58.5 L 408.2 58.5 L 408.2 73.1 L 406.2 73.1 L 401.1 64.6 Q 400.5 63.6, 399.9 62.5 Q 399.2 61.4, 399.1 61.0 L 399.1 73.1 L 397.2 73.1 L 397.2 58.5 L 399.5 58.5 \" fill=\"#0000FF\"/>\n",
       "<path class=\"atom-8\" d=\"M 409.9 58.5 L 411.9 58.5 L 411.9 64.7 L 419.3 64.7 L 419.3 58.5 L 421.3 58.5 L 421.3 73.1 L 419.3 73.1 L 419.3 66.3 L 411.9 66.3 L 411.9 73.1 L 409.9 73.1 L 409.9 58.5 \" fill=\"#0000FF\"/>\n",
       "<path class=\"atom-8\" d=\"M 423.1 72.6 Q 423.4 71.6, 424.3 71.1 Q 425.1 70.6, 426.3 70.6 Q 427.8 70.6, 428.6 71.4 Q 429.4 72.2, 429.4 73.6 Q 429.4 75.0, 428.3 76.4 Q 427.3 77.7, 425.1 79.3 L 429.5 79.3 L 429.5 80.3 L 423.1 80.3 L 423.1 79.4 Q 424.9 78.2, 425.9 77.2 Q 427.0 76.3, 427.5 75.4 Q 428.0 74.6, 428.0 73.7 Q 428.0 72.7, 427.6 72.2 Q 427.1 71.7, 426.3 71.7 Q 425.5 71.7, 425.0 72.0 Q 424.5 72.3, 424.1 73.0 L 423.1 72.6 \" fill=\"#0000FF\"/>\n",
       "</svg>"
      ],
      "text/plain": [
       "<IPython.core.display.SVG object>"
      ]
     },
     "execution_count": 18,
     "metadata": {},
     "output_type": "execute_result"
    }
   ],
   "source": [
    "big_smiles_gen(big)"
   ]
  },
  {
   "cell_type": "markdown",
   "id": "9a2be904",
   "metadata": {},
   "source": [
    "## New: Reaction of diol with di-acid"
   ]
  },
  {
   "cell_type": "code",
   "execution_count": 19,
   "id": "cd2a583f",
   "metadata": {},
   "outputs": [
    {
     "data": {
      "text/plain": [
       "'NC{[$][$]C[$][$]}|uniform(12, 72)|COOC{[$][$]C[$][$]}|uniform(12, 72)|CO.|500|'"
      ]
     },
     "execution_count": 19,
     "metadata": {},
     "output_type": "execute_result"
    }
   ],
   "source": [
    "big = \"NC{[$][$]C[$][$]}|uniform(12, 72)|COOC{[$][$]C[$][$]}|uniform(12, 72)|CO.|500|\"\n",
    "big"
   ]
  },
  {
   "cell_type": "code",
   "execution_count": 20,
   "id": "9ce377b0",
   "metadata": {},
   "outputs": [
    {
     "data": {
      "image/svg+xml": [
       "<svg xmlns=\"http://www.w3.org/2000/svg\" xmlns:rdkit=\"http://www.rdkit.org/xml\" xmlns:xlink=\"http://www.w3.org/1999/xlink\" version=\"1.1\" baseProfile=\"full\" xml:space=\"preserve\" width=\"450px\" height=\"150px\" viewBox=\"0 0 450 150\">\n",
       "<!-- END OF HEADER -->\n",
       "<rect style=\"opacity:1.0;fill:#FFFFFF;stroke:none\" width=\"450.0\" height=\"150.0\" x=\"0.0\" y=\"0.0\"> </rect>\n",
       "<path class=\"bond-0 atom-0 atom-1\" d=\"M 407.3,77.7 L 395.0,70.8\" style=\"fill:none;fill-rule:evenodd;stroke:#0000FF;stroke-width:2.0px;stroke-linecap:butt;stroke-linejoin:miter;stroke-opacity:1\"/>\n",
       "<path class=\"bond-0 atom-0 atom-1\" d=\"M 395.0,70.8 L 382.7,63.9\" style=\"fill:none;fill-rule:evenodd;stroke:#000000;stroke-width:2.0px;stroke-linecap:butt;stroke-linejoin:miter;stroke-opacity:1\"/>\n",
       "<path class=\"bond-1 atom-1 atom-2\" d=\"M 382.7,63.9 L 353.8,80.9\" style=\"fill:none;fill-rule:evenodd;stroke:#000000;stroke-width:2.0px;stroke-linecap:butt;stroke-linejoin:miter;stroke-opacity:1\"/>\n",
       "<path class=\"bond-2 atom-2 atom-3\" d=\"M 353.8,80.9 L 324.5,64.4\" style=\"fill:none;fill-rule:evenodd;stroke:#000000;stroke-width:2.0px;stroke-linecap:butt;stroke-linejoin:miter;stroke-opacity:1\"/>\n",
       "<path class=\"bond-3 atom-4 atom-5\" d=\"M 208.1,65.4 L 220.0,72.1\" style=\"fill:none;fill-rule:evenodd;stroke:#000000;stroke-width:2.0px;stroke-linecap:butt;stroke-linejoin:miter;stroke-opacity:1\"/>\n",
       "<path class=\"bond-3 atom-4 atom-5\" d=\"M 220.0,72.1 L 231.9,78.9\" style=\"fill:none;fill-rule:evenodd;stroke:#FF0000;stroke-width:2.0px;stroke-linecap:butt;stroke-linejoin:miter;stroke-opacity:1\"/>\n",
       "<path class=\"bond-4 atom-5 atom-6\" d=\"M 242.8,78.7 L 260.8,68.1\" style=\"fill:none;fill-rule:evenodd;stroke:#FF0000;stroke-width:2.0px;stroke-linecap:butt;stroke-linejoin:miter;stroke-opacity:1\"/>\n",
       "<path class=\"bond-5 atom-6 atom-7\" d=\"M 271.8,68.0 L 283.7,74.7\" style=\"fill:none;fill-rule:evenodd;stroke:#FF0000;stroke-width:2.0px;stroke-linecap:butt;stroke-linejoin:miter;stroke-opacity:1\"/>\n",
       "<path class=\"bond-5 atom-6 atom-7\" d=\"M 283.7,74.7 L 295.6,81.4\" style=\"fill:none;fill-rule:evenodd;stroke:#000000;stroke-width:2.0px;stroke-linecap:butt;stroke-linejoin:miter;stroke-opacity:1\"/>\n",
       "<path class=\"bond-6 atom-3 atom-7\" d=\"M 324.5,64.4 L 295.6,81.4\" style=\"fill:none;fill-rule:evenodd;stroke:#000000;stroke-width:2.0px;stroke-linecap:butt;stroke-linejoin:miter;stroke-opacity:1\"/>\n",
       "<path class=\"bond-7 atom-4 atom-8\" d=\"M 208.1,65.4 L 179.1,82.5\" style=\"fill:none;fill-rule:evenodd;stroke:#000000;stroke-width:2.0px;stroke-linecap:butt;stroke-linejoin:miter;stroke-opacity:1\"/>\n",
       "<path class=\"bond-8 atom-8 atom-9\" d=\"M 179.1,82.5 L 149.9,65.9\" style=\"fill:none;fill-rule:evenodd;stroke:#000000;stroke-width:2.0px;stroke-linecap:butt;stroke-linejoin:miter;stroke-opacity:1\"/>\n",
       "<path class=\"bond-9 atom-9 atom-10\" d=\"M 149.9,65.9 L 120.9,83.0\" style=\"fill:none;fill-rule:evenodd;stroke:#000000;stroke-width:2.0px;stroke-linecap:butt;stroke-linejoin:miter;stroke-opacity:1\"/>\n",
       "<path class=\"bond-10 atom-10 atom-11\" d=\"M 120.9,83.0 L 91.6,66.5\" style=\"fill:none;fill-rule:evenodd;stroke:#000000;stroke-width:2.0px;stroke-linecap:butt;stroke-linejoin:miter;stroke-opacity:1\"/>\n",
       "<path class=\"bond-11 atom-12 atom-13\" d=\"M 62.7,83.5 L 50.8,76.8\" style=\"fill:none;fill-rule:evenodd;stroke:#000000;stroke-width:2.0px;stroke-linecap:butt;stroke-linejoin:miter;stroke-opacity:1\"/>\n",
       "<path class=\"bond-11 atom-12 atom-13\" d=\"M 50.8,76.8 L 38.9,70.1\" style=\"fill:none;fill-rule:evenodd;stroke:#FF0000;stroke-width:2.0px;stroke-linecap:butt;stroke-linejoin:miter;stroke-opacity:1\"/>\n",
       "<path class=\"bond-12 atom-11 atom-12\" d=\"M 91.6,66.5 L 62.7,83.5\" style=\"fill:none;fill-rule:evenodd;stroke:#000000;stroke-width:2.0px;stroke-linecap:butt;stroke-linejoin:miter;stroke-opacity:1\"/>\n",
       "<path class=\"atom-0\" d=\"M 409.9 75.6 L 413.0 80.7 Q 413.3 81.2, 413.8 82.1 Q 414.3 83.0, 414.3 83.0 L 414.3 75.6 L 415.6 75.6 L 415.6 85.2 L 414.3 85.2 L 411.0 79.6 Q 410.6 79.0, 410.1 78.3 Q 409.7 77.5, 409.6 77.3 L 409.6 85.2 L 408.4 85.2 L 408.4 75.6 L 409.9 75.6 \" fill=\"#0000FF\"/>\n",
       "<path class=\"atom-0\" d=\"M 416.7 75.6 L 418.0 75.6 L 418.0 79.7 L 422.9 79.7 L 422.9 75.6 L 424.2 75.6 L 424.2 85.2 L 422.9 85.2 L 422.9 80.8 L 418.0 80.8 L 418.0 85.2 L 416.7 85.2 L 416.7 75.6 \" fill=\"#0000FF\"/>\n",
       "<path class=\"atom-0\" d=\"M 425.3 84.8 Q 425.6 84.2, 426.1 83.9 Q 426.7 83.6, 427.4 83.6 Q 428.4 83.6, 428.9 84.1 Q 429.4 84.6, 429.4 85.5 Q 429.4 86.4, 428.7 87.3 Q 428.1 88.2, 426.6 89.2 L 429.5 89.2 L 429.5 89.9 L 425.3 89.9 L 425.3 89.3 Q 426.5 88.5, 427.2 87.9 Q 427.9 87.2, 428.2 86.7 Q 428.6 86.1, 428.6 85.6 Q 428.6 85.0, 428.2 84.6 Q 427.9 84.3, 427.4 84.3 Q 426.9 84.3, 426.6 84.5 Q 426.2 84.7, 426.0 85.1 L 425.3 84.8 \" fill=\"#0000FF\"/>\n",
       "<path class=\"atom-5\" d=\"M 233.0 82.0 Q 233.0 79.7, 234.1 78.4 Q 235.2 77.1, 237.3 77.1 Q 239.4 77.1, 240.6 78.4 Q 241.7 79.7, 241.7 82.0 Q 241.7 84.3, 240.6 85.6 Q 239.4 86.9, 237.3 86.9 Q 235.2 86.9, 234.1 85.6 Q 233.0 84.3, 233.0 82.0 M 237.3 85.8 Q 238.8 85.8, 239.6 84.9 Q 240.4 83.9, 240.4 82.0 Q 240.4 80.1, 239.6 79.2 Q 238.8 78.2, 237.3 78.2 Q 235.9 78.2, 235.1 79.2 Q 234.3 80.1, 234.3 82.0 Q 234.3 83.9, 235.1 84.9 Q 235.9 85.8, 237.3 85.8 \" fill=\"#FF0000\"/>\n",
       "<path class=\"atom-6\" d=\"M 261.9 64.9 Q 261.9 62.6, 263.1 61.4 Q 264.2 60.1, 266.3 60.1 Q 268.4 60.1, 269.5 61.4 Q 270.7 62.6, 270.7 64.9 Q 270.7 67.2, 269.5 68.6 Q 268.4 69.9, 266.3 69.9 Q 264.2 69.9, 263.1 68.6 Q 261.9 67.2, 261.9 64.9 M 266.3 68.8 Q 267.7 68.8, 268.5 67.8 Q 269.3 66.8, 269.3 64.9 Q 269.3 63.1, 268.5 62.1 Q 267.7 61.2, 266.3 61.2 Q 264.8 61.2, 264.0 62.1 Q 263.3 63.0, 263.3 64.9 Q 263.3 66.8, 264.0 67.8 Q 264.8 68.8, 266.3 68.8 \" fill=\"#FF0000\"/>\n",
       "<path class=\"atom-13\" d=\"M 20.5 62.3 L 21.7 62.3 L 21.7 66.3 L 26.6 66.3 L 26.6 62.3 L 27.9 62.3 L 27.9 71.8 L 26.6 71.8 L 26.6 67.4 L 21.7 67.4 L 21.7 71.8 L 20.5 71.8 L 20.5 62.3 \" fill=\"#FF0000\"/>\n",
       "<path class=\"atom-13\" d=\"M 29.0 67.0 Q 29.0 64.7, 30.2 63.4 Q 31.3 62.2, 33.4 62.2 Q 35.5 62.2, 36.7 63.4 Q 37.8 64.7, 37.8 67.0 Q 37.8 69.3, 36.6 70.6 Q 35.5 71.9, 33.4 71.9 Q 31.3 71.9, 30.2 70.6 Q 29.0 69.3, 29.0 67.0 M 33.4 70.9 Q 34.9 70.9, 35.6 69.9 Q 36.4 68.9, 36.4 67.0 Q 36.4 65.1, 35.6 64.2 Q 34.9 63.2, 33.4 63.2 Q 32.0 63.2, 31.2 64.2 Q 30.4 65.1, 30.4 67.0 Q 30.4 68.9, 31.2 69.9 Q 32.0 70.9, 33.4 70.9 \" fill=\"#FF0000\"/>\n",
       "</svg>"
      ],
      "text/plain": [
       "<IPython.core.display.SVG object>"
      ]
     },
     "execution_count": 20,
     "metadata": {},
     "output_type": "execute_result"
    }
   ],
   "source": [
    "big_smiles_gen(big)"
   ]
  },
  {
   "cell_type": "code",
   "execution_count": 21,
   "id": "2734ddff",
   "metadata": {},
   "outputs": [
    {
     "data": {
      "image/svg+xml": [
       "<svg xmlns=\"http://www.w3.org/2000/svg\" xmlns:rdkit=\"http://www.rdkit.org/xml\" xmlns:xlink=\"http://www.w3.org/1999/xlink\" version=\"1.1\" baseProfile=\"full\" xml:space=\"preserve\" width=\"450px\" height=\"150px\" viewBox=\"0 0 450 150\">\n",
       "<!-- END OF HEADER -->\n",
       "<rect style=\"opacity:1.0;fill:#FFFFFF;stroke:none\" width=\"450.0\" height=\"150.0\" x=\"0.0\" y=\"0.0\"> </rect>\n",
       "<path class=\"bond-0 atom-0 atom-1\" d=\"M 412.2,77.1 L 402.7,71.6\" style=\"fill:none;fill-rule:evenodd;stroke:#0000FF;stroke-width:2.0px;stroke-linecap:butt;stroke-linejoin:miter;stroke-opacity:1\"/>\n",
       "<path class=\"bond-0 atom-0 atom-1\" d=\"M 402.7,71.6 L 393.1,66.2\" style=\"fill:none;fill-rule:evenodd;stroke:#000000;stroke-width:2.0px;stroke-linecap:butt;stroke-linejoin:miter;stroke-opacity:1\"/>\n",
       "<path class=\"bond-1 atom-1 atom-2\" d=\"M 393.1,66.2 L 370.6,79.4\" style=\"fill:none;fill-rule:evenodd;stroke:#000000;stroke-width:2.0px;stroke-linecap:butt;stroke-linejoin:miter;stroke-opacity:1\"/>\n",
       "<path class=\"bond-2 atom-2 atom-3\" d=\"M 370.6,79.4 L 347.8,66.4\" style=\"fill:none;fill-rule:evenodd;stroke:#000000;stroke-width:2.0px;stroke-linecap:butt;stroke-linejoin:miter;stroke-opacity:1\"/>\n",
       "<path class=\"bond-3 atom-3 atom-4\" d=\"M 347.8,66.4 L 325.2,79.6\" style=\"fill:none;fill-rule:evenodd;stroke:#000000;stroke-width:2.0px;stroke-linecap:butt;stroke-linejoin:miter;stroke-opacity:1\"/>\n",
       "<path class=\"bond-4 atom-4 atom-5\" d=\"M 325.2,79.6 L 302.5,66.7\" style=\"fill:none;fill-rule:evenodd;stroke:#000000;stroke-width:2.0px;stroke-linecap:butt;stroke-linejoin:miter;stroke-opacity:1\"/>\n",
       "<path class=\"bond-5 atom-5 atom-6\" d=\"M 302.5,66.7 L 279.9,79.9\" style=\"fill:none;fill-rule:evenodd;stroke:#000000;stroke-width:2.0px;stroke-linecap:butt;stroke-linejoin:miter;stroke-opacity:1\"/>\n",
       "<path class=\"bond-6 atom-7 atom-8\" d=\"M 257.2,66.9 L 248.0,72.3\" style=\"fill:none;fill-rule:evenodd;stroke:#000000;stroke-width:2.0px;stroke-linecap:butt;stroke-linejoin:miter;stroke-opacity:1\"/>\n",
       "<path class=\"bond-6 atom-7 atom-8\" d=\"M 248.0,72.3 L 238.8,77.6\" style=\"fill:none;fill-rule:evenodd;stroke:#FF0000;stroke-width:2.0px;stroke-linecap:butt;stroke-linejoin:miter;stroke-opacity:1\"/>\n",
       "<path class=\"bond-7 atom-8 atom-9\" d=\"M 230.3,77.7 L 216.1,69.6\" style=\"fill:none;fill-rule:evenodd;stroke:#FF0000;stroke-width:2.0px;stroke-linecap:butt;stroke-linejoin:miter;stroke-opacity:1\"/>\n",
       "<path class=\"bond-8 atom-9 atom-10\" d=\"M 207.6,69.7 L 198.4,75.0\" style=\"fill:none;fill-rule:evenodd;stroke:#FF0000;stroke-width:2.0px;stroke-linecap:butt;stroke-linejoin:miter;stroke-opacity:1\"/>\n",
       "<path class=\"bond-8 atom-9 atom-10\" d=\"M 198.4,75.0 L 189.3,80.4\" style=\"fill:none;fill-rule:evenodd;stroke:#000000;stroke-width:2.0px;stroke-linecap:butt;stroke-linejoin:miter;stroke-opacity:1\"/>\n",
       "<path class=\"bond-9 atom-6 atom-7\" d=\"M 279.9,79.9 L 257.2,66.9\" style=\"fill:none;fill-rule:evenodd;stroke:#000000;stroke-width:2.0px;stroke-linecap:butt;stroke-linejoin:miter;stroke-opacity:1\"/>\n",
       "<path class=\"bond-10 atom-10 atom-11\" d=\"M 189.3,80.4 L 166.5,67.4\" style=\"fill:none;fill-rule:evenodd;stroke:#000000;stroke-width:2.0px;stroke-linecap:butt;stroke-linejoin:miter;stroke-opacity:1\"/>\n",
       "<path class=\"bond-11 atom-11 atom-12\" d=\"M 166.5,67.4 L 143.9,80.6\" style=\"fill:none;fill-rule:evenodd;stroke:#000000;stroke-width:2.0px;stroke-linecap:butt;stroke-linejoin:miter;stroke-opacity:1\"/>\n",
       "<path class=\"bond-12 atom-12 atom-13\" d=\"M 143.9,80.6 L 121.2,67.7\" style=\"fill:none;fill-rule:evenodd;stroke:#000000;stroke-width:2.0px;stroke-linecap:butt;stroke-linejoin:miter;stroke-opacity:1\"/>\n",
       "<path class=\"bond-13 atom-13 atom-14\" d=\"M 121.2,67.7 L 98.6,80.9\" style=\"fill:none;fill-rule:evenodd;stroke:#000000;stroke-width:2.0px;stroke-linecap:butt;stroke-linejoin:miter;stroke-opacity:1\"/>\n",
       "<path class=\"bond-14 atom-14 atom-15\" d=\"M 98.6,80.9 L 75.9,67.9\" style=\"fill:none;fill-rule:evenodd;stroke:#000000;stroke-width:2.0px;stroke-linecap:butt;stroke-linejoin:miter;stroke-opacity:1\"/>\n",
       "<path class=\"bond-15 atom-16 atom-17\" d=\"M 53.3,81.1 L 44.0,75.8\" style=\"fill:none;fill-rule:evenodd;stroke:#000000;stroke-width:2.0px;stroke-linecap:butt;stroke-linejoin:miter;stroke-opacity:1\"/>\n",
       "<path class=\"bond-15 atom-16 atom-17\" d=\"M 44.0,75.8 L 34.8,70.6\" style=\"fill:none;fill-rule:evenodd;stroke:#FF0000;stroke-width:2.0px;stroke-linecap:butt;stroke-linejoin:miter;stroke-opacity:1\"/>\n",
       "<path class=\"bond-16 atom-15 atom-16\" d=\"M 75.9,67.9 L 53.3,81.1\" style=\"fill:none;fill-rule:evenodd;stroke:#000000;stroke-width:2.0px;stroke-linecap:butt;stroke-linejoin:miter;stroke-opacity:1\"/>\n",
       "<path class=\"atom-0\" d=\"M 414.2 75.5 L 416.7 79.4 Q 416.9 79.8, 417.3 80.5 Q 417.7 81.2, 417.7 81.2 L 417.7 75.5 L 418.7 75.5 L 418.7 82.9 L 417.7 82.9 L 415.1 78.6 Q 414.8 78.1, 414.4 77.5 Q 414.1 76.9, 414.0 76.7 L 414.0 82.9 L 413.1 82.9 L 413.1 75.5 L 414.2 75.5 \" fill=\"#0000FF\"/>\n",
       "<path class=\"atom-0\" d=\"M 419.6 75.5 L 420.6 75.5 L 420.6 78.6 L 424.4 78.6 L 424.4 75.5 L 425.4 75.5 L 425.4 82.9 L 424.4 82.9 L 424.4 79.4 L 420.6 79.4 L 420.6 82.9 L 419.6 82.9 L 419.6 75.5 \" fill=\"#0000FF\"/>\n",
       "<path class=\"atom-0\" d=\"M 426.3 82.6 Q 426.4 82.1, 426.9 81.9 Q 427.3 81.6, 427.9 81.6 Q 428.6 81.6, 429.0 82.0 Q 429.5 82.4, 429.5 83.1 Q 429.5 83.9, 428.9 84.5 Q 428.4 85.2, 427.3 86.0 L 429.5 86.0 L 429.5 86.6 L 426.3 86.6 L 426.3 86.1 Q 427.2 85.5, 427.7 85.0 Q 428.2 84.5, 428.5 84.1 Q 428.8 83.6, 428.8 83.2 Q 428.8 82.7, 428.5 82.4 Q 428.3 82.2, 427.9 82.2 Q 427.5 82.2, 427.2 82.3 Q 427.0 82.5, 426.8 82.8 L 426.3 82.6 \" fill=\"#0000FF\"/>\n",
       "<path class=\"atom-8\" d=\"M 231.2 80.2 Q 231.2 78.4, 232.1 77.4 Q 232.9 76.4, 234.6 76.4 Q 236.2 76.4, 237.1 77.4 Q 238.0 78.4, 238.0 80.2 Q 238.0 82.0, 237.1 83.0 Q 236.2 84.0, 234.6 84.0 Q 232.9 84.0, 232.1 83.0 Q 231.2 82.0, 231.2 80.2 M 234.6 83.2 Q 235.7 83.2, 236.3 82.4 Q 236.9 81.6, 236.9 80.2 Q 236.9 78.7, 236.3 78.0 Q 235.7 77.2, 234.6 77.2 Q 233.4 77.2, 232.8 78.0 Q 232.2 78.7, 232.2 80.2 Q 232.2 81.7, 232.8 82.4 Q 233.4 83.2, 234.6 83.2 \" fill=\"#FF0000\"/>\n",
       "<path class=\"atom-9\" d=\"M 208.4 67.2 Q 208.4 65.4, 209.3 64.4 Q 210.2 63.4, 211.8 63.4 Q 213.5 63.4, 214.4 64.4 Q 215.2 65.4, 215.2 67.2 Q 215.2 69.0, 214.4 70.0 Q 213.5 71.0, 211.8 71.0 Q 210.2 71.0, 209.3 70.0 Q 208.4 69.0, 208.4 67.2 M 211.8 70.2 Q 213.0 70.2, 213.6 69.4 Q 214.2 68.7, 214.2 67.2 Q 214.2 65.7, 213.6 65.0 Q 213.0 64.3, 211.8 64.3 Q 210.7 64.3, 210.1 65.0 Q 209.5 65.7, 209.5 67.2 Q 209.5 68.7, 210.1 69.4 Q 210.7 70.2, 211.8 70.2 \" fill=\"#FF0000\"/>\n",
       "<path class=\"atom-17\" d=\"M 20.5 64.5 L 21.5 64.5 L 21.5 67.6 L 25.2 67.6 L 25.2 64.5 L 26.3 64.5 L 26.3 71.9 L 25.2 71.9 L 25.2 68.5 L 21.5 68.5 L 21.5 71.9 L 20.5 71.9 L 20.5 64.5 \" fill=\"#FF0000\"/>\n",
       "<path class=\"atom-17\" d=\"M 27.1 68.2 Q 27.1 66.4, 28.0 65.4 Q 28.9 64.4, 30.5 64.4 Q 32.2 64.4, 33.1 65.4 Q 33.9 66.4, 33.9 68.2 Q 33.9 70.0, 33.1 71.0 Q 32.2 72.0, 30.5 72.0 Q 28.9 72.0, 28.0 71.0 Q 27.1 70.0, 27.1 68.2 M 30.5 71.2 Q 31.7 71.2, 32.3 70.4 Q 32.9 69.7, 32.9 68.2 Q 32.9 66.7, 32.3 66.0 Q 31.7 65.2, 30.5 65.2 Q 29.4 65.2, 28.8 66.0 Q 28.2 66.7, 28.2 68.2 Q 28.2 69.7, 28.8 70.4 Q 29.4 71.2, 30.5 71.2 \" fill=\"#FF0000\"/>\n",
       "</svg>"
      ],
      "text/plain": [
       "<IPython.core.display.SVG object>"
      ]
     },
     "execution_count": 21,
     "metadata": {},
     "output_type": "execute_result"
    }
   ],
   "source": [
    "big_smiles_gen(big)"
   ]
  },
  {
   "cell_type": "markdown",
   "id": "0a23f756",
   "metadata": {},
   "source": [
    "## Same diol and di-acid reaction, but with phenyl ring"
   ]
  },
  {
   "cell_type": "code",
   "execution_count": 22,
   "id": "dde1bc42",
   "metadata": {},
   "outputs": [
    {
     "data": {
      "text/plain": [
       "'NC{[$][$]C[$][$]}|uniform(12, 72)|COOC{[$][$]C([$])C1CCCCC1[$]}|uniform(50, 250)|CO.|500|'"
      ]
     },
     "execution_count": 22,
     "metadata": {},
     "output_type": "execute_result"
    }
   ],
   "source": [
    "big = \"NC{[$][$]C[$][$]}|uniform(12, 72)|COOC{[$][$]C([$])C1CCCCC1[$]}|uniform(50, 250)|CO.|500|\"\n",
    "big"
   ]
  },
  {
   "cell_type": "code",
   "execution_count": 23,
   "id": "de751cdf",
   "metadata": {},
   "outputs": [
    {
     "data": {
      "image/svg+xml": [
       "<svg xmlns=\"http://www.w3.org/2000/svg\" xmlns:rdkit=\"http://www.rdkit.org/xml\" xmlns:xlink=\"http://www.w3.org/1999/xlink\" version=\"1.1\" baseProfile=\"full\" xml:space=\"preserve\" width=\"450px\" height=\"150px\" viewBox=\"0 0 450 150\">\n",
       "<!-- END OF HEADER -->\n",
       "<rect style=\"opacity:1.0;fill:#FFFFFF;stroke:none\" width=\"450.0\" height=\"150.0\" x=\"0.0\" y=\"0.0\"> </rect>\n",
       "<path class=\"bond-0 atom-0 atom-1\" d=\"M 89.1,81.1 L 99.8,85.7\" style=\"fill:none;fill-rule:evenodd;stroke:#0000FF;stroke-width:2.0px;stroke-linecap:butt;stroke-linejoin:miter;stroke-opacity:1\"/>\n",
       "<path class=\"bond-0 atom-0 atom-1\" d=\"M 99.8,85.7 L 110.5,90.3\" style=\"fill:none;fill-rule:evenodd;stroke:#000000;stroke-width:2.0px;stroke-linecap:butt;stroke-linejoin:miter;stroke-opacity:1\"/>\n",
       "<path class=\"bond-1 atom-1 atom-2\" d=\"M 110.5,90.3 L 132.5,73.7\" style=\"fill:none;fill-rule:evenodd;stroke:#000000;stroke-width:2.0px;stroke-linecap:butt;stroke-linejoin:miter;stroke-opacity:1\"/>\n",
       "<path class=\"bond-2 atom-2 atom-3\" d=\"M 132.5,73.7 L 157.7,84.5\" style=\"fill:none;fill-rule:evenodd;stroke:#000000;stroke-width:2.0px;stroke-linecap:butt;stroke-linejoin:miter;stroke-opacity:1\"/>\n",
       "<path class=\"bond-3 atom-3 atom-4\" d=\"M 157.7,84.5 L 179.7,67.9\" style=\"fill:none;fill-rule:evenodd;stroke:#000000;stroke-width:2.0px;stroke-linecap:butt;stroke-linejoin:miter;stroke-opacity:1\"/>\n",
       "<path class=\"bond-4 atom-5 atom-6\" d=\"M 274.2,56.4 L 265.4,63.0\" style=\"fill:none;fill-rule:evenodd;stroke:#000000;stroke-width:2.0px;stroke-linecap:butt;stroke-linejoin:miter;stroke-opacity:1\"/>\n",
       "<path class=\"bond-4 atom-5 atom-6\" d=\"M 265.4,63.0 L 256.7,69.5\" style=\"fill:none;fill-rule:evenodd;stroke:#FF0000;stroke-width:2.0px;stroke-linecap:butt;stroke-linejoin:miter;stroke-opacity:1\"/>\n",
       "<path class=\"bond-5 atom-6 atom-7\" d=\"M 247.7,71.0 L 231.4,64.1\" style=\"fill:none;fill-rule:evenodd;stroke:#FF0000;stroke-width:2.0px;stroke-linecap:butt;stroke-linejoin:miter;stroke-opacity:1\"/>\n",
       "<path class=\"bond-6 atom-7 atom-8\" d=\"M 222.5,65.5 L 213.7,72.1\" style=\"fill:none;fill-rule:evenodd;stroke:#FF0000;stroke-width:2.0px;stroke-linecap:butt;stroke-linejoin:miter;stroke-opacity:1\"/>\n",
       "<path class=\"bond-6 atom-7 atom-8\" d=\"M 213.7,72.1 L 205.0,78.7\" style=\"fill:none;fill-rule:evenodd;stroke:#000000;stroke-width:2.0px;stroke-linecap:butt;stroke-linejoin:miter;stroke-opacity:1\"/>\n",
       "<path class=\"bond-7 atom-4 atom-8\" d=\"M 179.7,67.9 L 205.0,78.7\" style=\"fill:none;fill-rule:evenodd;stroke:#000000;stroke-width:2.0px;stroke-linecap:butt;stroke-linejoin:miter;stroke-opacity:1\"/>\n",
       "<path class=\"bond-8 atom-9 atom-10\" d=\"M 299.5,67.1 L 321.4,50.6\" style=\"fill:none;fill-rule:evenodd;stroke:#000000;stroke-width:2.0px;stroke-linecap:butt;stroke-linejoin:miter;stroke-opacity:1\"/>\n",
       "<path class=\"bond-9 atom-10 atom-11\" d=\"M 321.4,50.6 L 346.7,61.4\" style=\"fill:none;fill-rule:evenodd;stroke:#000000;stroke-width:2.0px;stroke-linecap:butt;stroke-linejoin:miter;stroke-opacity:1\"/>\n",
       "<path class=\"bond-10 atom-11 atom-12\" d=\"M 346.7,61.4 L 368.6,44.8\" style=\"fill:none;fill-rule:evenodd;stroke:#000000;stroke-width:2.0px;stroke-linecap:butt;stroke-linejoin:miter;stroke-opacity:1\"/>\n",
       "<path class=\"bond-11 atom-12 atom-13\" d=\"M 368.6,44.8 L 365.3,17.6\" style=\"fill:none;fill-rule:evenodd;stroke:#000000;stroke-width:2.0px;stroke-linecap:butt;stroke-linejoin:miter;stroke-opacity:1\"/>\n",
       "<path class=\"bond-12 atom-13 atom-14\" d=\"M 365.3,17.6 L 340.0,6.8\" style=\"fill:none;fill-rule:evenodd;stroke:#000000;stroke-width:2.0px;stroke-linecap:butt;stroke-linejoin:miter;stroke-opacity:1\"/>\n",
       "<path class=\"bond-13 atom-14 atom-15\" d=\"M 340.0,6.8 L 318.1,23.3\" style=\"fill:none;fill-rule:evenodd;stroke:#000000;stroke-width:2.0px;stroke-linecap:butt;stroke-linejoin:miter;stroke-opacity:1\"/>\n",
       "<path class=\"bond-14 atom-15 atom-10\" d=\"M 318.1,23.3 L 321.4,50.6\" style=\"fill:none;fill-rule:evenodd;stroke:#000000;stroke-width:2.0px;stroke-linecap:butt;stroke-linejoin:miter;stroke-opacity:1\"/>\n",
       "<path class=\"bond-15 atom-5 atom-9\" d=\"M 274.2,56.4 L 299.5,67.1\" style=\"fill:none;fill-rule:evenodd;stroke:#000000;stroke-width:2.0px;stroke-linecap:butt;stroke-linejoin:miter;stroke-opacity:1\"/>\n",
       "<path class=\"bond-16 atom-16 atom-17\" d=\"M 302.8,94.4 L 328.1,105.2\" style=\"fill:none;fill-rule:evenodd;stroke:#000000;stroke-width:2.0px;stroke-linecap:butt;stroke-linejoin:miter;stroke-opacity:1\"/>\n",
       "<path class=\"bond-17 atom-17 atom-18\" d=\"M 328.1,105.2 L 331.4,132.4\" style=\"fill:none;fill-rule:evenodd;stroke:#000000;stroke-width:2.0px;stroke-linecap:butt;stroke-linejoin:miter;stroke-opacity:1\"/>\n",
       "<path class=\"bond-18 atom-18 atom-19\" d=\"M 331.4,132.4 L 356.7,143.2\" style=\"fill:none;fill-rule:evenodd;stroke:#000000;stroke-width:2.0px;stroke-linecap:butt;stroke-linejoin:miter;stroke-opacity:1\"/>\n",
       "<path class=\"bond-19 atom-19 atom-20\" d=\"M 356.7,143.2 L 378.7,126.7\" style=\"fill:none;fill-rule:evenodd;stroke:#000000;stroke-width:2.0px;stroke-linecap:butt;stroke-linejoin:miter;stroke-opacity:1\"/>\n",
       "<path class=\"bond-20 atom-20 atom-21\" d=\"M 378.7,126.7 L 375.3,99.4\" style=\"fill:none;fill-rule:evenodd;stroke:#000000;stroke-width:2.0px;stroke-linecap:butt;stroke-linejoin:miter;stroke-opacity:1\"/>\n",
       "<path class=\"bond-21 atom-21 atom-22\" d=\"M 375.3,99.4 L 350.0,88.6\" style=\"fill:none;fill-rule:evenodd;stroke:#000000;stroke-width:2.0px;stroke-linecap:butt;stroke-linejoin:miter;stroke-opacity:1\"/>\n",
       "<path class=\"bond-22 atom-22 atom-17\" d=\"M 350.0,88.6 L 328.1,105.2\" style=\"fill:none;fill-rule:evenodd;stroke:#000000;stroke-width:2.0px;stroke-linecap:butt;stroke-linejoin:miter;stroke-opacity:1\"/>\n",
       "<path class=\"bond-23 atom-9 atom-16\" d=\"M 299.5,67.1 L 302.8,94.4\" style=\"fill:none;fill-rule:evenodd;stroke:#000000;stroke-width:2.0px;stroke-linecap:butt;stroke-linejoin:miter;stroke-opacity:1\"/>\n",
       "<path class=\"bond-24 atom-23 atom-24\" d=\"M 280.8,110.9 L 282.2,122.2\" style=\"fill:none;fill-rule:evenodd;stroke:#000000;stroke-width:2.0px;stroke-linecap:butt;stroke-linejoin:miter;stroke-opacity:1\"/>\n",
       "<path class=\"bond-24 atom-23 atom-24\" d=\"M 282.2,122.2 L 283.6,133.4\" style=\"fill:none;fill-rule:evenodd;stroke:#FF0000;stroke-width:2.0px;stroke-linecap:butt;stroke-linejoin:miter;stroke-opacity:1\"/>\n",
       "<path class=\"bond-25 atom-16 atom-23\" d=\"M 302.8,94.4 L 280.8,110.9\" style=\"fill:none;fill-rule:evenodd;stroke:#000000;stroke-width:2.0px;stroke-linecap:butt;stroke-linejoin:miter;stroke-opacity:1\"/>\n",
       "<path class=\"atom-0\" d=\"M 71.3 75.6 L 72.4 75.6 L 72.4 78.9 L 76.4 78.9 L 76.4 75.6 L 77.4 75.6 L 77.4 83.4 L 76.4 83.4 L 76.4 79.8 L 72.4 79.8 L 72.4 83.4 L 71.3 83.4 L 71.3 75.6 \" fill=\"#0000FF\"/>\n",
       "<path class=\"atom-0\" d=\"M 78.4 83.1 Q 78.6 82.6, 79.0 82.4 Q 79.5 82.1, 80.1 82.1 Q 80.9 82.1, 81.3 82.5 Q 81.7 82.9, 81.7 83.7 Q 81.7 84.4, 81.2 85.2 Q 80.6 85.9, 79.5 86.7 L 81.8 86.7 L 81.8 87.3 L 78.4 87.3 L 78.4 86.8 Q 79.3 86.1, 79.9 85.6 Q 80.5 85.1, 80.7 84.6 Q 81.0 84.2, 81.0 83.7 Q 81.0 83.2, 80.8 82.9 Q 80.5 82.7, 80.1 82.7 Q 79.7 82.7, 79.4 82.8 Q 79.1 83.0, 78.9 83.4 L 78.4 83.1 \" fill=\"#0000FF\"/>\n",
       "<path class=\"atom-0\" d=\"M 83.5 75.6 L 86.0 79.7 Q 86.3 80.1, 86.7 80.9 Q 87.1 81.6, 87.1 81.7 L 87.1 75.6 L 88.2 75.6 L 88.2 83.4 L 87.1 83.4 L 84.4 78.9 Q 84.0 78.4, 83.7 77.8 Q 83.4 77.2, 83.3 77.0 L 83.3 83.4 L 82.3 83.4 L 82.3 75.6 L 83.5 75.6 \" fill=\"#0000FF\"/>\n",
       "<path class=\"atom-6\" d=\"M 248.6 72.9 Q 248.6 71.1, 249.6 70.0 Q 250.5 69.0, 252.2 69.0 Q 253.9 69.0, 254.9 70.0 Q 255.8 71.1, 255.8 72.9 Q 255.8 74.8, 254.9 75.9 Q 253.9 77.0, 252.2 77.0 Q 250.5 77.0, 249.6 75.9 Q 248.6 74.8, 248.6 72.9 M 252.2 76.1 Q 253.4 76.1, 254.0 75.3 Q 254.7 74.5, 254.7 72.9 Q 254.7 71.4, 254.0 70.6 Q 253.4 69.9, 252.2 69.9 Q 251.0 69.9, 250.4 70.6 Q 249.7 71.4, 249.7 72.9 Q 249.7 74.5, 250.4 75.3 Q 251.0 76.1, 252.2 76.1 \" fill=\"#FF0000\"/>\n",
       "<path class=\"atom-7\" d=\"M 223.4 62.2 Q 223.4 60.3, 224.3 59.3 Q 225.2 58.2, 226.9 58.2 Q 228.7 58.2, 229.6 59.3 Q 230.5 60.3, 230.5 62.2 Q 230.5 64.1, 229.6 65.2 Q 228.6 66.2, 226.9 66.2 Q 225.2 66.2, 224.3 65.2 Q 223.4 64.1, 223.4 62.2 M 226.9 65.3 Q 228.1 65.3, 228.8 64.6 Q 229.4 63.8, 229.4 62.2 Q 229.4 60.7, 228.8 59.9 Q 228.1 59.1, 226.9 59.1 Q 225.7 59.1, 225.1 59.9 Q 224.5 60.7, 224.5 62.2 Q 224.5 63.8, 225.1 64.6 Q 225.7 65.3, 226.9 65.3 \" fill=\"#FF0000\"/>\n",
       "<path class=\"atom-24\" d=\"M 280.6 138.2 Q 280.6 136.4, 281.5 135.3 Q 282.5 134.3, 284.2 134.3 Q 285.9 134.3, 286.8 135.3 Q 287.7 136.4, 287.7 138.2 Q 287.7 140.1, 286.8 141.2 Q 285.9 142.3, 284.2 142.3 Q 282.5 142.3, 281.5 141.2 Q 280.6 140.1, 280.6 138.2 M 284.2 141.4 Q 285.4 141.4, 286.0 140.6 Q 286.6 139.8, 286.6 138.2 Q 286.6 136.7, 286.0 135.9 Q 285.4 135.2, 284.2 135.2 Q 283.0 135.2, 282.3 135.9 Q 281.7 136.7, 281.7 138.2 Q 281.7 139.8, 282.3 140.6 Q 283.0 141.4, 284.2 141.4 \" fill=\"#FF0000\"/>\n",
       "<path class=\"atom-24\" d=\"M 288.3 134.4 L 289.4 134.4 L 289.4 137.7 L 293.3 137.7 L 293.3 134.4 L 294.4 134.4 L 294.4 142.1 L 293.3 142.1 L 293.3 138.6 L 289.4 138.6 L 289.4 142.1 L 288.3 142.1 L 288.3 134.4 \" fill=\"#FF0000\"/>\n",
       "</svg>"
      ],
      "text/plain": [
       "<IPython.core.display.SVG object>"
      ]
     },
     "execution_count": 23,
     "metadata": {},
     "output_type": "execute_result"
    }
   ],
   "source": [
    "big_smiles_gen(big)"
   ]
  },
  {
   "cell_type": "code",
   "execution_count": 24,
   "id": "cb75c155",
   "metadata": {},
   "outputs": [
    {
     "data": {
      "image/svg+xml": [
       "<svg xmlns=\"http://www.w3.org/2000/svg\" xmlns:rdkit=\"http://www.rdkit.org/xml\" xmlns:xlink=\"http://www.w3.org/1999/xlink\" version=\"1.1\" baseProfile=\"full\" xml:space=\"preserve\" width=\"450px\" height=\"150px\" viewBox=\"0 0 450 150\">\n",
       "<!-- END OF HEADER -->\n",
       "<rect style=\"opacity:1.0;fill:#FFFFFF;stroke:none\" width=\"450.0\" height=\"150.0\" x=\"0.0\" y=\"0.0\"> </rect>\n",
       "<path class=\"bond-0 atom-0 atom-1\" d=\"M 66.2,81.1 L 76.8,85.8\" style=\"fill:none;fill-rule:evenodd;stroke:#0000FF;stroke-width:2.0px;stroke-linecap:butt;stroke-linejoin:miter;stroke-opacity:1\"/>\n",
       "<path class=\"bond-0 atom-0 atom-1\" d=\"M 76.8,85.8 L 87.4,90.6\" style=\"fill:none;fill-rule:evenodd;stroke:#000000;stroke-width:2.0px;stroke-linecap:butt;stroke-linejoin:miter;stroke-opacity:1\"/>\n",
       "<path class=\"bond-1 atom-1 atom-2\" d=\"M 87.4,90.6 L 109.6,74.5\" style=\"fill:none;fill-rule:evenodd;stroke:#000000;stroke-width:2.0px;stroke-linecap:butt;stroke-linejoin:miter;stroke-opacity:1\"/>\n",
       "<path class=\"bond-2 atom-2 atom-3\" d=\"M 109.6,74.5 L 134.6,85.7\" style=\"fill:none;fill-rule:evenodd;stroke:#000000;stroke-width:2.0px;stroke-linecap:butt;stroke-linejoin:miter;stroke-opacity:1\"/>\n",
       "<path class=\"bond-3 atom-3 atom-4\" d=\"M 134.6,85.7 L 156.8,69.6\" style=\"fill:none;fill-rule:evenodd;stroke:#000000;stroke-width:2.0px;stroke-linecap:butt;stroke-linejoin:miter;stroke-opacity:1\"/>\n",
       "<path class=\"bond-4 atom-4 atom-5\" d=\"M 156.8,69.6 L 181.9,80.8\" style=\"fill:none;fill-rule:evenodd;stroke:#000000;stroke-width:2.0px;stroke-linecap:butt;stroke-linejoin:miter;stroke-opacity:1\"/>\n",
       "<path class=\"bond-5 atom-5 atom-6\" d=\"M 181.9,80.8 L 204.1,64.8\" style=\"fill:none;fill-rule:evenodd;stroke:#000000;stroke-width:2.0px;stroke-linecap:butt;stroke-linejoin:miter;stroke-opacity:1\"/>\n",
       "<path class=\"bond-6 atom-7 atom-8\" d=\"M 229.1,76.0 L 238.0,69.5\" style=\"fill:none;fill-rule:evenodd;stroke:#000000;stroke-width:2.0px;stroke-linecap:butt;stroke-linejoin:miter;stroke-opacity:1\"/>\n",
       "<path class=\"bond-6 atom-7 atom-8\" d=\"M 238.0,69.5 L 246.9,63.1\" style=\"fill:none;fill-rule:evenodd;stroke:#FF0000;stroke-width:2.0px;stroke-linecap:butt;stroke-linejoin:miter;stroke-opacity:1\"/>\n",
       "<path class=\"bond-7 atom-8 atom-9\" d=\"M 255.8,61.9 L 271.9,69.1\" style=\"fill:none;fill-rule:evenodd;stroke:#FF0000;stroke-width:2.0px;stroke-linecap:butt;stroke-linejoin:miter;stroke-opacity:1\"/>\n",
       "<path class=\"bond-8 atom-9 atom-10\" d=\"M 280.8,67.9 L 289.7,61.4\" style=\"fill:none;fill-rule:evenodd;stroke:#FF0000;stroke-width:2.0px;stroke-linecap:butt;stroke-linejoin:miter;stroke-opacity:1\"/>\n",
       "<path class=\"bond-8 atom-9 atom-10\" d=\"M 289.7,61.4 L 298.6,55.0\" style=\"fill:none;fill-rule:evenodd;stroke:#000000;stroke-width:2.0px;stroke-linecap:butt;stroke-linejoin:miter;stroke-opacity:1\"/>\n",
       "<path class=\"bond-9 atom-6 atom-7\" d=\"M 204.1,64.8 L 229.1,76.0\" style=\"fill:none;fill-rule:evenodd;stroke:#000000;stroke-width:2.0px;stroke-linecap:butt;stroke-linejoin:miter;stroke-opacity:1\"/>\n",
       "<path class=\"bond-10 atom-11 atom-12\" d=\"M 323.6,66.2 L 345.8,50.2\" style=\"fill:none;fill-rule:evenodd;stroke:#000000;stroke-width:2.0px;stroke-linecap:butt;stroke-linejoin:miter;stroke-opacity:1\"/>\n",
       "<path class=\"bond-11 atom-12 atom-13\" d=\"M 345.8,50.2 L 370.8,61.4\" style=\"fill:none;fill-rule:evenodd;stroke:#000000;stroke-width:2.0px;stroke-linecap:butt;stroke-linejoin:miter;stroke-opacity:1\"/>\n",
       "<path class=\"bond-12 atom-13 atom-14\" d=\"M 370.8,61.4 L 393.0,45.3\" style=\"fill:none;fill-rule:evenodd;stroke:#000000;stroke-width:2.0px;stroke-linecap:butt;stroke-linejoin:miter;stroke-opacity:1\"/>\n",
       "<path class=\"bond-13 atom-14 atom-15\" d=\"M 393.0,45.3 L 390.2,18.0\" style=\"fill:none;fill-rule:evenodd;stroke:#000000;stroke-width:2.0px;stroke-linecap:butt;stroke-linejoin:miter;stroke-opacity:1\"/>\n",
       "<path class=\"bond-14 atom-15 atom-16\" d=\"M 390.2,18.0 L 365.2,6.8\" style=\"fill:none;fill-rule:evenodd;stroke:#000000;stroke-width:2.0px;stroke-linecap:butt;stroke-linejoin:miter;stroke-opacity:1\"/>\n",
       "<path class=\"bond-15 atom-16 atom-17\" d=\"M 365.2,6.8 L 343.0,22.9\" style=\"fill:none;fill-rule:evenodd;stroke:#000000;stroke-width:2.0px;stroke-linecap:butt;stroke-linejoin:miter;stroke-opacity:1\"/>\n",
       "<path class=\"bond-16 atom-17 atom-12\" d=\"M 343.0,22.9 L 345.8,50.2\" style=\"fill:none;fill-rule:evenodd;stroke:#000000;stroke-width:2.0px;stroke-linecap:butt;stroke-linejoin:miter;stroke-opacity:1\"/>\n",
       "<path class=\"bond-17 atom-10 atom-11\" d=\"M 298.6,55.0 L 323.6,66.2\" style=\"fill:none;fill-rule:evenodd;stroke:#000000;stroke-width:2.0px;stroke-linecap:butt;stroke-linejoin:miter;stroke-opacity:1\"/>\n",
       "<path class=\"bond-18 atom-18 atom-19\" d=\"M 326.4,93.5 L 351.4,104.7\" style=\"fill:none;fill-rule:evenodd;stroke:#000000;stroke-width:2.0px;stroke-linecap:butt;stroke-linejoin:miter;stroke-opacity:1\"/>\n",
       "<path class=\"bond-19 atom-19 atom-20\" d=\"M 351.4,104.7 L 354.2,132.0\" style=\"fill:none;fill-rule:evenodd;stroke:#000000;stroke-width:2.0px;stroke-linecap:butt;stroke-linejoin:miter;stroke-opacity:1\"/>\n",
       "<path class=\"bond-20 atom-20 atom-21\" d=\"M 354.2,132.0 L 379.3,143.2\" style=\"fill:none;fill-rule:evenodd;stroke:#000000;stroke-width:2.0px;stroke-linecap:butt;stroke-linejoin:miter;stroke-opacity:1\"/>\n",
       "<path class=\"bond-21 atom-21 atom-22\" d=\"M 379.3,143.2 L 401.5,127.1\" style=\"fill:none;fill-rule:evenodd;stroke:#000000;stroke-width:2.0px;stroke-linecap:butt;stroke-linejoin:miter;stroke-opacity:1\"/>\n",
       "<path class=\"bond-22 atom-22 atom-23\" d=\"M 401.5,127.1 L 398.7,99.8\" style=\"fill:none;fill-rule:evenodd;stroke:#000000;stroke-width:2.0px;stroke-linecap:butt;stroke-linejoin:miter;stroke-opacity:1\"/>\n",
       "<path class=\"bond-23 atom-23 atom-24\" d=\"M 398.7,99.8 L 373.6,88.6\" style=\"fill:none;fill-rule:evenodd;stroke:#000000;stroke-width:2.0px;stroke-linecap:butt;stroke-linejoin:miter;stroke-opacity:1\"/>\n",
       "<path class=\"bond-24 atom-24 atom-19\" d=\"M 373.6,88.6 L 351.4,104.7\" style=\"fill:none;fill-rule:evenodd;stroke:#000000;stroke-width:2.0px;stroke-linecap:butt;stroke-linejoin:miter;stroke-opacity:1\"/>\n",
       "<path class=\"bond-25 atom-11 atom-18\" d=\"M 323.6,66.2 L 326.4,93.5\" style=\"fill:none;fill-rule:evenodd;stroke:#000000;stroke-width:2.0px;stroke-linecap:butt;stroke-linejoin:miter;stroke-opacity:1\"/>\n",
       "<path class=\"bond-26 atom-25 atom-26\" d=\"M 304.2,109.6 L 305.3,120.8\" style=\"fill:none;fill-rule:evenodd;stroke:#000000;stroke-width:2.0px;stroke-linecap:butt;stroke-linejoin:miter;stroke-opacity:1\"/>\n",
       "<path class=\"bond-26 atom-25 atom-26\" d=\"M 305.3,120.8 L 306.5,132.0\" style=\"fill:none;fill-rule:evenodd;stroke:#FF0000;stroke-width:2.0px;stroke-linecap:butt;stroke-linejoin:miter;stroke-opacity:1\"/>\n",
       "<path class=\"bond-27 atom-18 atom-25\" d=\"M 326.4,93.5 L 304.2,109.6\" style=\"fill:none;fill-rule:evenodd;stroke:#000000;stroke-width:2.0px;stroke-linecap:butt;stroke-linejoin:miter;stroke-opacity:1\"/>\n",
       "<path class=\"atom-0\" d=\"M 48.5 75.5 L 49.6 75.5 L 49.6 78.8 L 53.6 78.8 L 53.6 75.5 L 54.6 75.5 L 54.6 83.2 L 53.6 83.2 L 53.6 79.7 L 49.6 79.7 L 49.6 83.2 L 48.5 83.2 L 48.5 75.5 \" fill=\"#0000FF\"/>\n",
       "<path class=\"atom-0\" d=\"M 55.6 83.0 Q 55.7 82.5, 56.2 82.2 Q 56.6 81.9, 57.3 81.9 Q 58.0 81.9, 58.5 82.4 Q 58.9 82.8, 58.9 83.5 Q 58.9 84.3, 58.3 85.0 Q 57.8 85.7, 56.6 86.6 L 59.0 86.6 L 59.0 87.1 L 55.5 87.1 L 55.5 86.6 Q 56.5 86.0, 57.1 85.5 Q 57.6 85.0, 57.9 84.5 Q 58.2 84.0, 58.2 83.6 Q 58.2 83.1, 57.9 82.8 Q 57.7 82.5, 57.3 82.5 Q 56.9 82.5, 56.6 82.7 Q 56.3 82.9, 56.1 83.2 L 55.6 83.0 \" fill=\"#0000FF\"/>\n",
       "<path class=\"atom-0\" d=\"M 60.7 75.5 L 63.2 79.6 Q 63.5 80.0, 63.9 80.7 Q 64.3 81.5, 64.3 81.5 L 64.3 75.5 L 65.3 75.5 L 65.3 83.2 L 64.3 83.2 L 61.5 78.8 Q 61.2 78.2, 60.9 77.6 Q 60.5 77.0, 60.4 76.8 L 60.4 83.2 L 59.4 83.2 L 59.4 75.5 L 60.7 75.5 \" fill=\"#0000FF\"/>\n",
       "<path class=\"atom-8\" d=\"M 247.8 59.9 Q 247.8 58.1, 248.7 57.0 Q 249.6 56.0, 251.3 56.0 Q 253.0 56.0, 254.0 57.0 Q 254.9 58.1, 254.9 59.9 Q 254.9 61.8, 254.0 62.9 Q 253.0 63.9, 251.3 63.9 Q 249.6 63.9, 248.7 62.9 Q 247.8 61.8, 247.8 59.9 M 251.3 63.1 Q 252.5 63.1, 253.1 62.3 Q 253.8 61.5, 253.8 59.9 Q 253.8 58.4, 253.1 57.6 Q 252.5 56.8, 251.3 56.8 Q 250.1 56.8, 249.5 57.6 Q 248.9 58.4, 248.9 59.9 Q 248.9 61.5, 249.5 62.3 Q 250.1 63.1, 251.3 63.1 \" fill=\"#FF0000\"/>\n",
       "<path class=\"atom-9\" d=\"M 272.8 71.1 Q 272.8 69.3, 273.7 68.2 Q 274.6 67.2, 276.3 67.2 Q 278.1 67.2, 279.0 68.2 Q 279.9 69.3, 279.9 71.1 Q 279.9 73.0, 279.0 74.1 Q 278.0 75.1, 276.3 75.1 Q 274.6 75.1, 273.7 74.1 Q 272.8 73.0, 272.8 71.1 M 276.3 74.3 Q 277.5 74.3, 278.2 73.5 Q 278.8 72.7, 278.8 71.1 Q 278.8 69.6, 278.2 68.8 Q 277.5 68.1, 276.3 68.1 Q 275.2 68.1, 274.5 68.8 Q 273.9 69.6, 273.9 71.1 Q 273.9 72.7, 274.5 73.5 Q 275.2 74.3, 276.3 74.3 \" fill=\"#FF0000\"/>\n",
       "<path class=\"atom-26\" d=\"M 303.4 136.9 Q 303.4 135.0, 304.3 134.0 Q 305.3 132.9, 307.0 132.9 Q 308.7 132.9, 309.6 134.0 Q 310.6 135.0, 310.6 136.9 Q 310.6 138.8, 309.6 139.8 Q 308.7 140.9, 307.0 140.9 Q 305.3 140.9, 304.3 139.8 Q 303.4 138.8, 303.4 136.9 M 307.0 140.0 Q 308.2 140.0, 308.8 139.2 Q 309.5 138.4, 309.5 136.9 Q 309.5 135.3, 308.8 134.6 Q 308.2 133.8, 307.0 133.8 Q 305.8 133.8, 305.2 134.6 Q 304.5 135.3, 304.5 136.9 Q 304.5 138.4, 305.2 139.2 Q 305.8 140.0, 307.0 140.0 \" fill=\"#FF0000\"/>\n",
       "<path class=\"atom-26\" d=\"M 311.1 133.0 L 312.2 133.0 L 312.2 136.3 L 316.1 136.3 L 316.1 133.0 L 317.2 133.0 L 317.2 140.8 L 316.1 140.8 L 316.1 137.2 L 312.2 137.2 L 312.2 140.8 L 311.1 140.8 L 311.1 133.0 \" fill=\"#FF0000\"/>\n",
       "</svg>"
      ],
      "text/plain": [
       "<IPython.core.display.SVG object>"
      ]
     },
     "execution_count": 24,
     "metadata": {},
     "output_type": "execute_result"
    }
   ],
   "source": [
    "big_smiles_gen(big)"
   ]
  },
  {
   "cell_type": "markdown",
   "id": "e2d1370c",
   "metadata": {},
   "source": [
    "# New! Polyolefins, because a '=' remains\n",
    "\n",
    "## CH2=CH-(CH2)nCH3  where n varies from 1 to 5"
   ]
  },
  {
   "cell_type": "code",
   "execution_count": 25,
   "id": "79ae076b",
   "metadata": {},
   "outputs": [
    {
     "data": {
      "text/plain": [
       "'C=C{[$][$]C[$][$]}|uniform(12,60)|C.|500|'"
      ]
     },
     "execution_count": 25,
     "metadata": {},
     "output_type": "execute_result"
    }
   ],
   "source": [
    "big = \"C=C{[$][$]C[$][$]}|uniform(12,60)|C.|500|\"\n",
    "big"
   ]
  },
  {
   "cell_type": "code",
   "execution_count": 26,
   "id": "c83fae3f",
   "metadata": {},
   "outputs": [
    {
     "data": {
      "image/svg+xml": [
       "<svg xmlns=\"http://www.w3.org/2000/svg\" xmlns:rdkit=\"http://www.rdkit.org/xml\" xmlns:xlink=\"http://www.w3.org/1999/xlink\" version=\"1.1\" baseProfile=\"full\" xml:space=\"preserve\" width=\"450px\" height=\"150px\" viewBox=\"0 0 450 150\">\n",
       "<!-- END OF HEADER -->\n",
       "<rect style=\"opacity:1.0;fill:#FFFFFF;stroke:none\" width=\"450.0\" height=\"150.0\" x=\"0.0\" y=\"0.0\"> </rect>\n",
       "<path class=\"bond-0 atom-0 atom-1\" d=\"M 20.5,87.7 L 88.0,48.8\" style=\"fill:none;fill-rule:evenodd;stroke:#000000;stroke-width:2.0px;stroke-linecap:butt;stroke-linejoin:miter;stroke-opacity:1\"/>\n",
       "<path class=\"bond-0 atom-0 atom-1\" d=\"M 28.3,101.2 L 95.8,62.3\" style=\"fill:none;fill-rule:evenodd;stroke:#000000;stroke-width:2.0px;stroke-linecap:butt;stroke-linejoin:miter;stroke-opacity:1\"/>\n",
       "<path class=\"bond-1 atom-1 atom-2\" d=\"M 91.9,55.5 L 159.4,94.5\" style=\"fill:none;fill-rule:evenodd;stroke:#000000;stroke-width:2.0px;stroke-linecap:butt;stroke-linejoin:miter;stroke-opacity:1\"/>\n",
       "<path class=\"bond-2 atom-2 atom-3\" d=\"M 159.4,94.5 L 226.9,55.5\" style=\"fill:none;fill-rule:evenodd;stroke:#000000;stroke-width:2.0px;stroke-linecap:butt;stroke-linejoin:miter;stroke-opacity:1\"/>\n",
       "<path class=\"bond-3 atom-3 atom-4\" d=\"M 226.9,55.5 L 294.5,94.5\" style=\"fill:none;fill-rule:evenodd;stroke:#000000;stroke-width:2.0px;stroke-linecap:butt;stroke-linejoin:miter;stroke-opacity:1\"/>\n",
       "<path class=\"bond-4 atom-4 atom-5\" d=\"M 294.5,94.5 L 362.0,55.5\" style=\"fill:none;fill-rule:evenodd;stroke:#000000;stroke-width:2.0px;stroke-linecap:butt;stroke-linejoin:miter;stroke-opacity:1\"/>\n",
       "<path class=\"bond-5 atom-5 atom-6\" d=\"M 362.0,55.5 L 429.5,94.5\" style=\"fill:none;fill-rule:evenodd;stroke:#000000;stroke-width:2.0px;stroke-linecap:butt;stroke-linejoin:miter;stroke-opacity:1\"/>\n",
       "</svg>"
      ],
      "text/plain": [
       "<IPython.core.display.SVG object>"
      ]
     },
     "execution_count": 26,
     "metadata": {},
     "output_type": "execute_result"
    }
   ],
   "source": [
    "big_smiles_gen(big)"
   ]
  },
  {
   "cell_type": "code",
   "execution_count": 27,
   "id": "eaf5f6ac",
   "metadata": {},
   "outputs": [
    {
     "data": {
      "image/svg+xml": [
       "<svg xmlns=\"http://www.w3.org/2000/svg\" xmlns:rdkit=\"http://www.rdkit.org/xml\" xmlns:xlink=\"http://www.w3.org/1999/xlink\" version=\"1.1\" baseProfile=\"full\" xml:space=\"preserve\" width=\"450px\" height=\"150px\" viewBox=\"0 0 450 150\">\n",
       "<!-- END OF HEADER -->\n",
       "<rect style=\"opacity:1.0;fill:#FFFFFF;stroke:none\" width=\"450.0\" height=\"150.0\" x=\"0.0\" y=\"0.0\"> </rect>\n",
       "<path class=\"bond-0 atom-0 atom-1\" d=\"M 20.5,87.7 L 88.0,48.8\" style=\"fill:none;fill-rule:evenodd;stroke:#000000;stroke-width:2.0px;stroke-linecap:butt;stroke-linejoin:miter;stroke-opacity:1\"/>\n",
       "<path class=\"bond-0 atom-0 atom-1\" d=\"M 28.3,101.2 L 95.8,62.3\" style=\"fill:none;fill-rule:evenodd;stroke:#000000;stroke-width:2.0px;stroke-linecap:butt;stroke-linejoin:miter;stroke-opacity:1\"/>\n",
       "<path class=\"bond-1 atom-1 atom-2\" d=\"M 91.9,55.5 L 159.4,94.5\" style=\"fill:none;fill-rule:evenodd;stroke:#000000;stroke-width:2.0px;stroke-linecap:butt;stroke-linejoin:miter;stroke-opacity:1\"/>\n",
       "<path class=\"bond-2 atom-2 atom-3\" d=\"M 159.4,94.5 L 226.9,55.5\" style=\"fill:none;fill-rule:evenodd;stroke:#000000;stroke-width:2.0px;stroke-linecap:butt;stroke-linejoin:miter;stroke-opacity:1\"/>\n",
       "<path class=\"bond-3 atom-3 atom-4\" d=\"M 226.9,55.5 L 294.5,94.5\" style=\"fill:none;fill-rule:evenodd;stroke:#000000;stroke-width:2.0px;stroke-linecap:butt;stroke-linejoin:miter;stroke-opacity:1\"/>\n",
       "<path class=\"bond-4 atom-4 atom-5\" d=\"M 294.5,94.5 L 362.0,55.5\" style=\"fill:none;fill-rule:evenodd;stroke:#000000;stroke-width:2.0px;stroke-linecap:butt;stroke-linejoin:miter;stroke-opacity:1\"/>\n",
       "<path class=\"bond-5 atom-5 atom-6\" d=\"M 362.0,55.5 L 429.5,94.5\" style=\"fill:none;fill-rule:evenodd;stroke:#000000;stroke-width:2.0px;stroke-linecap:butt;stroke-linejoin:miter;stroke-opacity:1\"/>\n",
       "</svg>"
      ],
      "text/plain": [
       "<IPython.core.display.SVG object>"
      ]
     },
     "execution_count": 27,
     "metadata": {},
     "output_type": "execute_result"
    }
   ],
   "source": [
    "big_smiles_gen(big)"
   ]
  },
  {
   "cell_type": "markdown",
   "id": "5f15bd1b",
   "metadata": {},
   "source": [
    "## CH2-CH-(CH2)n-CH=CH2 where n varies from 1 to 3"
   ]
  },
  {
   "cell_type": "code",
   "execution_count": 28,
   "id": "048967e8",
   "metadata": {},
   "outputs": [
    {
     "data": {
      "text/plain": [
       "'CC{[$][$]C[$][$]}|uniform(12, 36)|C=C.|500|'"
      ]
     },
     "execution_count": 28,
     "metadata": {},
     "output_type": "execute_result"
    }
   ],
   "source": [
    "big = \"CC{[$][$]C[$][$]}|uniform(12, 36)|C=C.|500|\"\n",
    "big"
   ]
  },
  {
   "cell_type": "code",
   "execution_count": 29,
   "id": "e0856e12",
   "metadata": {},
   "outputs": [
    {
     "data": {
      "image/svg+xml": [
       "<svg xmlns=\"http://www.w3.org/2000/svg\" xmlns:rdkit=\"http://www.rdkit.org/xml\" xmlns:xlink=\"http://www.w3.org/1999/xlink\" version=\"1.1\" baseProfile=\"full\" xml:space=\"preserve\" width=\"450px\" height=\"150px\" viewBox=\"0 0 450 150\">\n",
       "<!-- END OF HEADER -->\n",
       "<rect style=\"opacity:1.0;fill:#FFFFFF;stroke:none\" width=\"450.0\" height=\"150.0\" x=\"0.0\" y=\"0.0\"> </rect>\n",
       "<path class=\"bond-0 atom-0 atom-1\" d=\"M 20.5,83.9 L 103.3,41.5\" style=\"fill:none;fill-rule:evenodd;stroke:#000000;stroke-width:2.0px;stroke-linecap:butt;stroke-linejoin:miter;stroke-opacity:1\"/>\n",
       "<path class=\"bond-1 atom-1 atom-2\" d=\"M 103.3,41.5 L 181.5,92.0\" style=\"fill:none;fill-rule:evenodd;stroke:#000000;stroke-width:2.0px;stroke-linecap:butt;stroke-linejoin:miter;stroke-opacity:1\"/>\n",
       "<path class=\"bond-2 atom-2 atom-3\" d=\"M 181.5,92.0 L 264.3,49.7\" style=\"fill:none;fill-rule:evenodd;stroke:#000000;stroke-width:2.0px;stroke-linecap:butt;stroke-linejoin:miter;stroke-opacity:1\"/>\n",
       "<path class=\"bond-3 atom-4 atom-5\" d=\"M 338.2,91.9 L 421.1,49.6\" style=\"fill:none;fill-rule:evenodd;stroke:#000000;stroke-width:2.0px;stroke-linecap:butt;stroke-linejoin:miter;stroke-opacity:1\"/>\n",
       "<path class=\"bond-3 atom-4 atom-5\" d=\"M 346.7,108.5 L 429.5,66.1\" style=\"fill:none;fill-rule:evenodd;stroke:#000000;stroke-width:2.0px;stroke-linecap:butt;stroke-linejoin:miter;stroke-opacity:1\"/>\n",
       "<path class=\"bond-4 atom-3 atom-4\" d=\"M 264.3,49.7 L 342.4,100.2\" style=\"fill:none;fill-rule:evenodd;stroke:#000000;stroke-width:2.0px;stroke-linecap:butt;stroke-linejoin:miter;stroke-opacity:1\"/>\n",
       "</svg>"
      ],
      "text/plain": [
       "<IPython.core.display.SVG object>"
      ]
     },
     "execution_count": 29,
     "metadata": {},
     "output_type": "execute_result"
    }
   ],
   "source": [
    "big_smiles_gen(big)"
   ]
  },
  {
   "cell_type": "code",
   "execution_count": 30,
   "id": "d460780b",
   "metadata": {},
   "outputs": [
    {
     "data": {
      "image/svg+xml": [
       "<svg xmlns=\"http://www.w3.org/2000/svg\" xmlns:rdkit=\"http://www.rdkit.org/xml\" xmlns:xlink=\"http://www.w3.org/1999/xlink\" version=\"1.1\" baseProfile=\"full\" xml:space=\"preserve\" width=\"450px\" height=\"150px\" viewBox=\"0 0 450 150\">\n",
       "<!-- END OF HEADER -->\n",
       "<rect style=\"opacity:1.0;fill:#FFFFFF;stroke:none\" width=\"450.0\" height=\"150.0\" x=\"0.0\" y=\"0.0\"> </rect>\n",
       "<path class=\"bond-0 atom-0 atom-1\" d=\"M 20.5,94.5 L 88.0,55.5\" style=\"fill:none;fill-rule:evenodd;stroke:#000000;stroke-width:2.0px;stroke-linecap:butt;stroke-linejoin:miter;stroke-opacity:1\"/>\n",
       "<path class=\"bond-1 atom-1 atom-2\" d=\"M 88.0,55.5 L 155.5,94.5\" style=\"fill:none;fill-rule:evenodd;stroke:#000000;stroke-width:2.0px;stroke-linecap:butt;stroke-linejoin:miter;stroke-opacity:1\"/>\n",
       "<path class=\"bond-2 atom-2 atom-3\" d=\"M 155.5,94.5 L 223.1,55.5\" style=\"fill:none;fill-rule:evenodd;stroke:#000000;stroke-width:2.0px;stroke-linecap:butt;stroke-linejoin:miter;stroke-opacity:1\"/>\n",
       "<path class=\"bond-3 atom-3 atom-4\" d=\"M 223.1,55.5 L 290.6,94.5\" style=\"fill:none;fill-rule:evenodd;stroke:#000000;stroke-width:2.0px;stroke-linecap:butt;stroke-linejoin:miter;stroke-opacity:1\"/>\n",
       "<path class=\"bond-4 atom-5 atom-6\" d=\"M 362.0,48.8 L 429.5,87.7\" style=\"fill:none;fill-rule:evenodd;stroke:#000000;stroke-width:2.0px;stroke-linecap:butt;stroke-linejoin:miter;stroke-opacity:1\"/>\n",
       "<path class=\"bond-4 atom-5 atom-6\" d=\"M 354.2,62.3 L 421.7,101.2\" style=\"fill:none;fill-rule:evenodd;stroke:#000000;stroke-width:2.0px;stroke-linecap:butt;stroke-linejoin:miter;stroke-opacity:1\"/>\n",
       "<path class=\"bond-5 atom-4 atom-5\" d=\"M 290.6,94.5 L 358.1,55.5\" style=\"fill:none;fill-rule:evenodd;stroke:#000000;stroke-width:2.0px;stroke-linecap:butt;stroke-linejoin:miter;stroke-opacity:1\"/>\n",
       "</svg>"
      ],
      "text/plain": [
       "<IPython.core.display.SVG object>"
      ]
     },
     "execution_count": 30,
     "metadata": {},
     "output_type": "execute_result"
    }
   ],
   "source": [
    "big_smiles_gen(big)"
   ]
  },
  {
   "cell_type": "markdown",
   "id": "e06c8273",
   "metadata": {},
   "source": [
    "## Classic diblock PS-b-P2VP"
   ]
  },
  {
   "cell_type": "code",
   "execution_count": 31,
   "id": "5e0b3aa4",
   "metadata": {},
   "outputs": [],
   "source": [
    "big = (\n",
    "    \"[H]{[<][<]C([>])c1ccccc1[>]}|gauss(100,20)|{[<][>]C([<])c1ccncc1[>]}|gauss(100, 20)|[H].|500|\"\n",
    ")"
   ]
  },
  {
   "cell_type": "code",
   "execution_count": 32,
   "id": "1130059c",
   "metadata": {},
   "outputs": [
    {
     "data": {
      "image/svg+xml": [
       "<svg xmlns=\"http://www.w3.org/2000/svg\" xmlns:rdkit=\"http://www.rdkit.org/xml\" xmlns:xlink=\"http://www.w3.org/1999/xlink\" version=\"1.1\" baseProfile=\"full\" xml:space=\"preserve\" width=\"450px\" height=\"150px\" viewBox=\"0 0 450 150\">\n",
       "<!-- END OF HEADER -->\n",
       "<rect style=\"opacity:1.0;fill:#FFFFFF;stroke:none\" width=\"450.0\" height=\"150.0\" x=\"0.0\" y=\"0.0\"> </rect>\n",
       "<path class=\"bond-0 atom-1 atom-2\" d=\"M 256.1,36.6 L 285.7,36.6\" style=\"fill:none;fill-rule:evenodd;stroke:#000000;stroke-width:2.0px;stroke-linecap:butt;stroke-linejoin:miter;stroke-opacity:1\"/>\n",
       "<path class=\"bond-1 atom-2 atom-3\" d=\"M 285.7,36.6 L 300.5,11.0\" style=\"fill:none;fill-rule:evenodd;stroke:#000000;stroke-width:2.0px;stroke-linecap:butt;stroke-linejoin:miter;stroke-opacity:1\"/>\n",
       "<path class=\"bond-1 atom-2 atom-3\" d=\"M 293.0,35.7 L 303.4,17.8\" style=\"fill:none;fill-rule:evenodd;stroke:#000000;stroke-width:2.0px;stroke-linecap:butt;stroke-linejoin:miter;stroke-opacity:1\"/>\n",
       "<path class=\"bond-2 atom-3 atom-4\" d=\"M 300.5,11.0 L 330.0,11.0\" style=\"fill:none;fill-rule:evenodd;stroke:#000000;stroke-width:2.0px;stroke-linecap:butt;stroke-linejoin:miter;stroke-opacity:1\"/>\n",
       "<path class=\"bond-3 atom-4 atom-5\" d=\"M 330.0,11.0 L 344.8,36.6\" style=\"fill:none;fill-rule:evenodd;stroke:#000000;stroke-width:2.0px;stroke-linecap:butt;stroke-linejoin:miter;stroke-opacity:1\"/>\n",
       "<path class=\"bond-3 atom-4 atom-5\" d=\"M 327.1,17.8 L 337.5,35.7\" style=\"fill:none;fill-rule:evenodd;stroke:#000000;stroke-width:2.0px;stroke-linecap:butt;stroke-linejoin:miter;stroke-opacity:1\"/>\n",
       "<path class=\"bond-4 atom-5 atom-6\" d=\"M 344.8,36.6 L 330.0,62.2\" style=\"fill:none;fill-rule:evenodd;stroke:#000000;stroke-width:2.0px;stroke-linecap:butt;stroke-linejoin:miter;stroke-opacity:1\"/>\n",
       "<path class=\"bond-5 atom-6 atom-7\" d=\"M 330.0,62.2 L 300.5,62.2\" style=\"fill:none;fill-rule:evenodd;stroke:#000000;stroke-width:2.0px;stroke-linecap:butt;stroke-linejoin:miter;stroke-opacity:1\"/>\n",
       "<path class=\"bond-5 atom-6 atom-7\" d=\"M 325.6,56.3 L 304.9,56.3\" style=\"fill:none;fill-rule:evenodd;stroke:#000000;stroke-width:2.0px;stroke-linecap:butt;stroke-linejoin:miter;stroke-opacity:1\"/>\n",
       "<path class=\"bond-6 atom-7 atom-2\" d=\"M 300.5,62.2 L 285.7,36.6\" style=\"fill:none;fill-rule:evenodd;stroke:#000000;stroke-width:2.0px;stroke-linecap:butt;stroke-linejoin:miter;stroke-opacity:1\"/>\n",
       "<path class=\"bond-7 atom-0 atom-1\" d=\"M 244.3,16.2 L 256.1,36.6\" style=\"fill:none;fill-rule:evenodd;stroke:#000000;stroke-width:2.0px;stroke-linecap:butt;stroke-linejoin:miter;stroke-opacity:1\"/>\n",
       "<path class=\"bond-8 atom-8 atom-9\" d=\"M 241.4,62.2 L 256.1,87.8\" style=\"fill:none;fill-rule:evenodd;stroke:#000000;stroke-width:2.0px;stroke-linecap:butt;stroke-linejoin:miter;stroke-opacity:1\"/>\n",
       "<path class=\"bond-9 atom-9 atom-10\" d=\"M 256.1,87.8 L 241.4,113.4\" style=\"fill:none;fill-rule:evenodd;stroke:#000000;stroke-width:2.0px;stroke-linecap:butt;stroke-linejoin:miter;stroke-opacity:1\"/>\n",
       "<path class=\"bond-9 atom-9 atom-10\" d=\"M 259.0,94.6 L 248.7,112.5\" style=\"fill:none;fill-rule:evenodd;stroke:#000000;stroke-width:2.0px;stroke-linecap:butt;stroke-linejoin:miter;stroke-opacity:1\"/>\n",
       "<path class=\"bond-10 atom-10 atom-11\" d=\"M 241.4,113.4 L 256.1,139.0\" style=\"fill:none;fill-rule:evenodd;stroke:#000000;stroke-width:2.0px;stroke-linecap:butt;stroke-linejoin:miter;stroke-opacity:1\"/>\n",
       "<path class=\"bond-11 atom-11 atom-12\" d=\"M 256.1,139.0 L 285.7,139.0\" style=\"fill:none;fill-rule:evenodd;stroke:#000000;stroke-width:2.0px;stroke-linecap:butt;stroke-linejoin:miter;stroke-opacity:1\"/>\n",
       "<path class=\"bond-11 atom-11 atom-12\" d=\"M 260.6,133.1 L 281.3,133.1\" style=\"fill:none;fill-rule:evenodd;stroke:#000000;stroke-width:2.0px;stroke-linecap:butt;stroke-linejoin:miter;stroke-opacity:1\"/>\n",
       "<path class=\"bond-12 atom-12 atom-13\" d=\"M 285.7,139.0 L 300.5,113.4\" style=\"fill:none;fill-rule:evenodd;stroke:#000000;stroke-width:2.0px;stroke-linecap:butt;stroke-linejoin:miter;stroke-opacity:1\"/>\n",
       "<path class=\"bond-13 atom-13 atom-14\" d=\"M 300.5,113.4 L 285.7,87.8\" style=\"fill:none;fill-rule:evenodd;stroke:#000000;stroke-width:2.0px;stroke-linecap:butt;stroke-linejoin:miter;stroke-opacity:1\"/>\n",
       "<path class=\"bond-13 atom-13 atom-14\" d=\"M 293.1,112.5 L 282.8,94.6\" style=\"fill:none;fill-rule:evenodd;stroke:#000000;stroke-width:2.0px;stroke-linecap:butt;stroke-linejoin:miter;stroke-opacity:1\"/>\n",
       "<path class=\"bond-14 atom-14 atom-9\" d=\"M 285.7,87.8 L 256.1,87.8\" style=\"fill:none;fill-rule:evenodd;stroke:#000000;stroke-width:2.0px;stroke-linecap:butt;stroke-linejoin:miter;stroke-opacity:1\"/>\n",
       "<path class=\"bond-15 atom-1 atom-8\" d=\"M 256.1,36.6 L 241.4,62.2\" style=\"fill:none;fill-rule:evenodd;stroke:#000000;stroke-width:2.0px;stroke-linecap:butt;stroke-linejoin:miter;stroke-opacity:1\"/>\n",
       "<path class=\"bond-16 atom-15 atom-16\" d=\"M 211.8,62.2 L 197.0,87.8\" style=\"fill:none;fill-rule:evenodd;stroke:#000000;stroke-width:2.0px;stroke-linecap:butt;stroke-linejoin:miter;stroke-opacity:1\"/>\n",
       "<path class=\"bond-17 atom-16 atom-17\" d=\"M 197.0,87.8 L 167.5,87.8\" style=\"fill:none;fill-rule:evenodd;stroke:#000000;stroke-width:2.0px;stroke-linecap:butt;stroke-linejoin:miter;stroke-opacity:1\"/>\n",
       "<path class=\"bond-17 atom-16 atom-17\" d=\"M 192.6,93.7 L 171.9,93.7\" style=\"fill:none;fill-rule:evenodd;stroke:#000000;stroke-width:2.0px;stroke-linecap:butt;stroke-linejoin:miter;stroke-opacity:1\"/>\n",
       "<path class=\"bond-18 atom-17 atom-18\" d=\"M 167.5,87.8 L 152.7,113.4\" style=\"fill:none;fill-rule:evenodd;stroke:#000000;stroke-width:2.0px;stroke-linecap:butt;stroke-linejoin:miter;stroke-opacity:1\"/>\n",
       "<path class=\"bond-19 atom-18 atom-19\" d=\"M 152.7,113.4 L 158.6,123.6\" style=\"fill:none;fill-rule:evenodd;stroke:#000000;stroke-width:2.0px;stroke-linecap:butt;stroke-linejoin:miter;stroke-opacity:1\"/>\n",
       "<path class=\"bond-19 atom-18 atom-19\" d=\"M 158.6,123.6 L 164.5,133.8\" style=\"fill:none;fill-rule:evenodd;stroke:#0000FF;stroke-width:2.0px;stroke-linecap:butt;stroke-linejoin:miter;stroke-opacity:1\"/>\n",
       "<path class=\"bond-19 atom-18 atom-19\" d=\"M 159.6,113.5 L 163.7,120.7\" style=\"fill:none;fill-rule:evenodd;stroke:#000000;stroke-width:2.0px;stroke-linecap:butt;stroke-linejoin:miter;stroke-opacity:1\"/>\n",
       "<path class=\"bond-19 atom-18 atom-19\" d=\"M 163.7,120.7 L 167.8,127.8\" style=\"fill:none;fill-rule:evenodd;stroke:#0000FF;stroke-width:2.0px;stroke-linecap:butt;stroke-linejoin:miter;stroke-opacity:1\"/>\n",
       "<path class=\"bond-20 atom-19 atom-20\" d=\"M 171.6,139.0 L 184.3,139.0\" style=\"fill:none;fill-rule:evenodd;stroke:#0000FF;stroke-width:2.0px;stroke-linecap:butt;stroke-linejoin:miter;stroke-opacity:1\"/>\n",
       "<path class=\"bond-20 atom-19 atom-20\" d=\"M 184.3,139.0 L 197.0,139.0\" style=\"fill:none;fill-rule:evenodd;stroke:#000000;stroke-width:2.0px;stroke-linecap:butt;stroke-linejoin:miter;stroke-opacity:1\"/>\n",
       "<path class=\"bond-21 atom-20 atom-21\" d=\"M 197.0,139.0 L 211.8,113.4\" style=\"fill:none;fill-rule:evenodd;stroke:#000000;stroke-width:2.0px;stroke-linecap:butt;stroke-linejoin:miter;stroke-opacity:1\"/>\n",
       "<path class=\"bond-21 atom-20 atom-21\" d=\"M 194.1,132.2 L 204.5,114.3\" style=\"fill:none;fill-rule:evenodd;stroke:#000000;stroke-width:2.0px;stroke-linecap:butt;stroke-linejoin:miter;stroke-opacity:1\"/>\n",
       "<path class=\"bond-22 atom-21 atom-16\" d=\"M 211.8,113.4 L 197.0,87.8\" style=\"fill:none;fill-rule:evenodd;stroke:#000000;stroke-width:2.0px;stroke-linecap:butt;stroke-linejoin:miter;stroke-opacity:1\"/>\n",
       "<path class=\"bond-23 atom-8 atom-15\" d=\"M 241.4,62.2 L 211.8,62.2\" style=\"fill:none;fill-rule:evenodd;stroke:#000000;stroke-width:2.0px;stroke-linecap:butt;stroke-linejoin:miter;stroke-opacity:1\"/>\n",
       "<path class=\"bond-24 atom-22 atom-23\" d=\"M 197.0,36.6 L 167.5,36.6\" style=\"fill:none;fill-rule:evenodd;stroke:#000000;stroke-width:2.0px;stroke-linecap:butt;stroke-linejoin:miter;stroke-opacity:1\"/>\n",
       "<path class=\"bond-25 atom-23 atom-24\" d=\"M 167.5,36.6 L 152.7,11.0\" style=\"fill:none;fill-rule:evenodd;stroke:#000000;stroke-width:2.0px;stroke-linecap:butt;stroke-linejoin:miter;stroke-opacity:1\"/>\n",
       "<path class=\"bond-25 atom-23 atom-24\" d=\"M 160.1,35.7 L 149.8,17.8\" style=\"fill:none;fill-rule:evenodd;stroke:#000000;stroke-width:2.0px;stroke-linecap:butt;stroke-linejoin:miter;stroke-opacity:1\"/>\n",
       "<path class=\"bond-26 atom-24 atom-25\" d=\"M 152.7,11.0 L 123.1,11.0\" style=\"fill:none;fill-rule:evenodd;stroke:#000000;stroke-width:2.0px;stroke-linecap:butt;stroke-linejoin:miter;stroke-opacity:1\"/>\n",
       "<path class=\"bond-27 atom-25 atom-26\" d=\"M 123.1,11.0 L 117.2,21.2\" style=\"fill:none;fill-rule:evenodd;stroke:#000000;stroke-width:2.0px;stroke-linecap:butt;stroke-linejoin:miter;stroke-opacity:1\"/>\n",
       "<path class=\"bond-27 atom-25 atom-26\" d=\"M 117.2,21.2 L 111.3,31.4\" style=\"fill:none;fill-rule:evenodd;stroke:#0000FF;stroke-width:2.0px;stroke-linecap:butt;stroke-linejoin:miter;stroke-opacity:1\"/>\n",
       "<path class=\"bond-27 atom-25 atom-26\" d=\"M 126.5,17.0 L 122.4,24.2\" style=\"fill:none;fill-rule:evenodd;stroke:#000000;stroke-width:2.0px;stroke-linecap:butt;stroke-linejoin:miter;stroke-opacity:1\"/>\n",
       "<path class=\"bond-27 atom-25 atom-26\" d=\"M 122.4,24.2 L 118.2,31.3\" style=\"fill:none;fill-rule:evenodd;stroke:#0000FF;stroke-width:2.0px;stroke-linecap:butt;stroke-linejoin:miter;stroke-opacity:1\"/>\n",
       "<path class=\"bond-28 atom-26 atom-27\" d=\"M 111.3,41.8 L 117.2,52.0\" style=\"fill:none;fill-rule:evenodd;stroke:#0000FF;stroke-width:2.0px;stroke-linecap:butt;stroke-linejoin:miter;stroke-opacity:1\"/>\n",
       "<path class=\"bond-28 atom-26 atom-27\" d=\"M 117.2,52.0 L 123.1,62.2\" style=\"fill:none;fill-rule:evenodd;stroke:#000000;stroke-width:2.0px;stroke-linecap:butt;stroke-linejoin:miter;stroke-opacity:1\"/>\n",
       "<path class=\"bond-29 atom-27 atom-28\" d=\"M 123.1,62.2 L 152.7,62.2\" style=\"fill:none;fill-rule:evenodd;stroke:#000000;stroke-width:2.0px;stroke-linecap:butt;stroke-linejoin:miter;stroke-opacity:1\"/>\n",
       "<path class=\"bond-29 atom-27 atom-28\" d=\"M 127.6,56.3 L 148.3,56.3\" style=\"fill:none;fill-rule:evenodd;stroke:#000000;stroke-width:2.0px;stroke-linecap:butt;stroke-linejoin:miter;stroke-opacity:1\"/>\n",
       "<path class=\"bond-30 atom-28 atom-23\" d=\"M 152.7,62.2 L 167.5,36.6\" style=\"fill:none;fill-rule:evenodd;stroke:#000000;stroke-width:2.0px;stroke-linecap:butt;stroke-linejoin:miter;stroke-opacity:1\"/>\n",
       "<path class=\"bond-31 atom-15 atom-22\" d=\"M 211.8,62.2 L 197.0,36.6\" style=\"fill:none;fill-rule:evenodd;stroke:#000000;stroke-width:2.0px;stroke-linecap:butt;stroke-linejoin:miter;stroke-opacity:1\"/>\n",
       "<path class=\"bond-32 atom-22 atom-29\" d=\"M 197.0,36.6 L 208.8,16.2\" style=\"fill:none;fill-rule:evenodd;stroke:#000000;stroke-width:2.0px;stroke-linecap:butt;stroke-linejoin:miter;stroke-opacity:1\"/>\n",
       "<path class=\"atom-0\" d=\"M 238.1 6.8 L 239.2 6.8 L 239.2 10.4 L 243.5 10.4 L 243.5 6.8 L 244.6 6.8 L 244.6 15.2 L 243.5 15.2 L 243.5 11.3 L 239.2 11.3 L 239.2 15.2 L 238.1 15.2 L 238.1 6.8 \" fill=\"#000000\"/>\n",
       "<path class=\"atom-19\" d=\"M 165.6 134.8 L 168.4 139.2 Q 168.6 139.7, 169.1 140.5 Q 169.5 141.3, 169.5 141.3 L 169.5 134.8 L 170.6 134.8 L 170.6 143.2 L 169.5 143.2 L 166.6 138.3 Q 166.2 137.8, 165.8 137.1 Q 165.5 136.5, 165.4 136.3 L 165.4 143.2 L 164.3 143.2 L 164.3 134.8 L 165.6 134.8 \" fill=\"#0000FF\"/>\n",
       "<path class=\"atom-26\" d=\"M 106.5 32.4 L 109.2 36.9 Q 109.5 37.3, 110.0 38.1 Q 110.4 38.9, 110.4 38.9 L 110.4 32.4 L 111.5 32.4 L 111.5 40.8 L 110.4 40.8 L 107.4 35.9 Q 107.1 35.4, 106.7 34.7 Q 106.4 34.1, 106.3 33.9 L 106.3 40.8 L 105.2 40.8 L 105.2 32.4 L 106.5 32.4 \" fill=\"#0000FF\"/>\n",
       "<path class=\"atom-29\" d=\"M 208.5 6.8 L 209.7 6.8 L 209.7 10.4 L 213.9 10.4 L 213.9 6.8 L 215.1 6.8 L 215.1 15.2 L 213.9 15.2 L 213.9 11.3 L 209.7 11.3 L 209.7 15.2 L 208.5 15.2 L 208.5 6.8 \" fill=\"#000000\"/>\n",
       "<path class=\"atom-0\" d=\"M 236.9,11.0 L 236.9,11.1 L 236.9,11.1 L 236.9,11.2 L 236.9,11.2 L 236.9,11.3 L 236.8,11.3 L 236.8,11.3 L 236.8,11.4 L 236.7,11.4 L 236.7,11.5 L 236.7,11.5 L 236.6,11.5 L 236.6,11.5 L 236.5,11.6 L 236.5,11.6 L 236.4,11.6 L 236.4,11.6 L 236.3,11.6 L 236.3,11.6 L 236.2,11.6 L 236.2,11.6 L 236.1,11.6 L 236.1,11.5 L 236.0,11.5 L 236.0,11.5 L 236.0,11.5 L 235.9,11.4 L 235.9,11.4 L 235.8,11.4 L 235.8,11.3 L 235.8,11.3 L 235.8,11.2 L 235.8,11.2 L 235.7,11.1 L 235.7,11.1 L 235.7,11.0 L 235.7,11.0 L 235.7,10.9 L 235.7,10.9 L 235.8,10.8 L 235.8,10.8 L 235.8,10.7 L 235.8,10.7 L 235.8,10.6 L 235.9,10.6 L 235.9,10.6 L 236.0,10.5 L 236.0,10.5 L 236.0,10.5 L 236.1,10.5 L 236.1,10.4 L 236.2,10.4 L 236.2,10.4 L 236.3,10.4 L 236.3,10.4 L 236.4,10.4 L 236.4,10.4 L 236.5,10.4 L 236.5,10.5 L 236.6,10.5 L 236.6,10.5 L 236.7,10.5 L 236.7,10.6 L 236.7,10.6 L 236.8,10.6 L 236.8,10.7 L 236.8,10.7 L 236.9,10.8 L 236.9,10.8 L 236.9,10.9 L 236.9,10.9 L 236.9,11.0 L 236.9,11.0 L 236.3,11.0 Z\" style=\"fill:#000000;fill-rule:evenodd;fill-opacity:1;stroke:#000000;stroke-width:0.0px;stroke-linecap:butt;stroke-linejoin:miter;stroke-opacity:1;\"/>\n",
       "<path class=\"atom-29\" d=\"M 217.4,11.0 L 217.4,11.1 L 217.4,11.1 L 217.4,11.2 L 217.4,11.2 L 217.4,11.3 L 217.4,11.3 L 217.3,11.3 L 217.3,11.4 L 217.3,11.4 L 217.2,11.5 L 217.2,11.5 L 217.2,11.5 L 217.1,11.5 L 217.1,11.6 L 217.0,11.6 L 217.0,11.6 L 216.9,11.6 L 216.9,11.6 L 216.8,11.6 L 216.8,11.6 L 216.7,11.6 L 216.7,11.6 L 216.6,11.5 L 216.6,11.5 L 216.5,11.5 L 216.5,11.5 L 216.5,11.4 L 216.4,11.4 L 216.4,11.4 L 216.4,11.3 L 216.3,11.3 L 216.3,11.2 L 216.3,11.2 L 216.3,11.1 L 216.3,11.1 L 216.3,11.0 L 216.3,11.0 L 216.3,10.9 L 216.3,10.9 L 216.3,10.8 L 216.3,10.8 L 216.3,10.7 L 216.4,10.7 L 216.4,10.6 L 216.4,10.6 L 216.5,10.6 L 216.5,10.5 L 216.5,10.5 L 216.6,10.5 L 216.6,10.5 L 216.7,10.4 L 216.7,10.4 L 216.8,10.4 L 216.8,10.4 L 216.9,10.4 L 216.9,10.4 L 217.0,10.4 L 217.0,10.4 L 217.1,10.5 L 217.1,10.5 L 217.2,10.5 L 217.2,10.5 L 217.2,10.6 L 217.3,10.6 L 217.3,10.6 L 217.3,10.7 L 217.4,10.7 L 217.4,10.8 L 217.4,10.8 L 217.4,10.9 L 217.4,10.9 L 217.4,11.0 L 217.4,11.0 L 216.9,11.0 Z\" style=\"fill:#000000;fill-rule:evenodd;fill-opacity:1;stroke:#000000;stroke-width:0.0px;stroke-linecap:butt;stroke-linejoin:miter;stroke-opacity:1;\"/>\n",
       "</svg>"
      ],
      "text/plain": [
       "<IPython.core.display.SVG object>"
      ]
     },
     "execution_count": 32,
     "metadata": {},
     "output_type": "execute_result"
    }
   ],
   "source": [
    "big_smiles_gen(big)"
   ]
  },
  {
   "cell_type": "markdown",
   "id": "a0938504",
   "metadata": {},
   "source": [
    "## Polymer in Solvent PS in THF"
   ]
  },
  {
   "cell_type": "code",
   "execution_count": 33,
   "id": "ffa5e792",
   "metadata": {},
   "outputs": [],
   "source": [
    "big = \"C1CCOC1.|10%|{[][$]C([$])c1ccccc1; [$][H][]]}|gauss(400,20)|.|500|\""
   ]
  },
  {
   "cell_type": "code",
   "execution_count": 34,
   "id": "bcd07941",
   "metadata": {},
   "outputs": [
    {
     "data": {
      "image/svg+xml": [
       "<svg xmlns=\"http://www.w3.org/2000/svg\" xmlns:rdkit=\"http://www.rdkit.org/xml\" xmlns:xlink=\"http://www.w3.org/1999/xlink\" version=\"1.1\" baseProfile=\"full\" xml:space=\"preserve\" width=\"450px\" height=\"150px\" viewBox=\"0 0 450 150\">\n",
       "<!-- END OF HEADER -->\n",
       "<rect style=\"opacity:1.0;fill:#FFFFFF;stroke:none\" width=\"450.0\" height=\"150.0\" x=\"0.0\" y=\"0.0\"> </rect>\n",
       "<path class=\"bond-0 atom-1 atom-2\" d=\"M 197.9,69.1 L 179.7,79.4\" style=\"fill:none;fill-rule:evenodd;stroke:#000000;stroke-width:2.0px;stroke-linecap:butt;stroke-linejoin:miter;stroke-opacity:1\"/>\n",
       "<path class=\"bond-1 atom-2 atom-3\" d=\"M 179.7,79.4 L 161.7,68.8\" style=\"fill:none;fill-rule:evenodd;stroke:#000000;stroke-width:2.0px;stroke-linecap:butt;stroke-linejoin:miter;stroke-opacity:1\"/>\n",
       "<path class=\"bond-1 atom-2 atom-3\" d=\"M 174.9,81.4 L 162.3,74.0\" style=\"fill:none;fill-rule:evenodd;stroke:#000000;stroke-width:2.0px;stroke-linecap:butt;stroke-linejoin:miter;stroke-opacity:1\"/>\n",
       "<path class=\"bond-2 atom-3 atom-4\" d=\"M 161.7,68.8 L 143.5,79.0\" style=\"fill:none;fill-rule:evenodd;stroke:#000000;stroke-width:2.0px;stroke-linecap:butt;stroke-linejoin:miter;stroke-opacity:1\"/>\n",
       "<path class=\"bond-3 atom-4 atom-5\" d=\"M 143.5,79.0 L 143.3,99.9\" style=\"fill:none;fill-rule:evenodd;stroke:#000000;stroke-width:2.0px;stroke-linecap:butt;stroke-linejoin:miter;stroke-opacity:1\"/>\n",
       "<path class=\"bond-3 atom-4 atom-5\" d=\"M 147.7,82.2 L 147.5,96.8\" style=\"fill:none;fill-rule:evenodd;stroke:#000000;stroke-width:2.0px;stroke-linecap:butt;stroke-linejoin:miter;stroke-opacity:1\"/>\n",
       "<path class=\"bond-4 atom-5 atom-6\" d=\"M 143.3,99.9 L 161.3,110.6\" style=\"fill:none;fill-rule:evenodd;stroke:#000000;stroke-width:2.0px;stroke-linecap:butt;stroke-linejoin:miter;stroke-opacity:1\"/>\n",
       "<path class=\"bond-5 atom-6 atom-7\" d=\"M 161.3,110.6 L 179.5,100.3\" style=\"fill:none;fill-rule:evenodd;stroke:#000000;stroke-width:2.0px;stroke-linecap:butt;stroke-linejoin:miter;stroke-opacity:1\"/>\n",
       "<path class=\"bond-5 atom-6 atom-7\" d=\"M 162.0,105.4 L 174.7,98.2\" style=\"fill:none;fill-rule:evenodd;stroke:#000000;stroke-width:2.0px;stroke-linecap:butt;stroke-linejoin:miter;stroke-opacity:1\"/>\n",
       "<path class=\"bond-6 atom-7 atom-2\" d=\"M 179.5,100.3 L 179.7,79.4\" style=\"fill:none;fill-rule:evenodd;stroke:#000000;stroke-width:2.0px;stroke-linecap:butt;stroke-linejoin:miter;stroke-opacity:1\"/>\n",
       "<path class=\"bond-7 atom-0 atom-1\" d=\"M 198.1,51.9 L 197.9,69.1\" style=\"fill:none;fill-rule:evenodd;stroke:#000000;stroke-width:2.0px;stroke-linecap:butt;stroke-linejoin:miter;stroke-opacity:1\"/>\n",
       "<path class=\"bond-8 atom-8 atom-9\" d=\"M 215.9,79.8 L 215.7,100.7\" style=\"fill:none;fill-rule:evenodd;stroke:#000000;stroke-width:2.0px;stroke-linecap:butt;stroke-linejoin:miter;stroke-opacity:1\"/>\n",
       "<path class=\"bond-9 atom-9 atom-10\" d=\"M 215.7,100.7 L 197.5,110.9\" style=\"fill:none;fill-rule:evenodd;stroke:#000000;stroke-width:2.0px;stroke-linecap:butt;stroke-linejoin:miter;stroke-opacity:1\"/>\n",
       "<path class=\"bond-9 atom-9 atom-10\" d=\"M 215.0,105.8 L 202.3,113.0\" style=\"fill:none;fill-rule:evenodd;stroke:#000000;stroke-width:2.0px;stroke-linecap:butt;stroke-linejoin:miter;stroke-opacity:1\"/>\n",
       "<path class=\"bond-10 atom-10 atom-11\" d=\"M 197.5,110.9 L 197.3,131.8\" style=\"fill:none;fill-rule:evenodd;stroke:#000000;stroke-width:2.0px;stroke-linecap:butt;stroke-linejoin:miter;stroke-opacity:1\"/>\n",
       "<path class=\"bond-11 atom-11 atom-12\" d=\"M 197.3,131.8 L 215.3,142.4\" style=\"fill:none;fill-rule:evenodd;stroke:#000000;stroke-width:2.0px;stroke-linecap:butt;stroke-linejoin:miter;stroke-opacity:1\"/>\n",
       "<path class=\"bond-11 atom-11 atom-12\" d=\"M 202.1,129.8 L 214.7,137.3\" style=\"fill:none;fill-rule:evenodd;stroke:#000000;stroke-width:2.0px;stroke-linecap:butt;stroke-linejoin:miter;stroke-opacity:1\"/>\n",
       "<path class=\"bond-12 atom-12 atom-13\" d=\"M 215.3,142.4 L 233.5,132.2\" style=\"fill:none;fill-rule:evenodd;stroke:#000000;stroke-width:2.0px;stroke-linecap:butt;stroke-linejoin:miter;stroke-opacity:1\"/>\n",
       "<path class=\"bond-13 atom-13 atom-14\" d=\"M 233.5,132.2 L 233.7,111.3\" style=\"fill:none;fill-rule:evenodd;stroke:#000000;stroke-width:2.0px;stroke-linecap:butt;stroke-linejoin:miter;stroke-opacity:1\"/>\n",
       "<path class=\"bond-13 atom-13 atom-14\" d=\"M 229.3,129.0 L 229.5,114.4\" style=\"fill:none;fill-rule:evenodd;stroke:#000000;stroke-width:2.0px;stroke-linecap:butt;stroke-linejoin:miter;stroke-opacity:1\"/>\n",
       "<path class=\"bond-14 atom-14 atom-9\" d=\"M 233.7,111.3 L 215.7,100.7\" style=\"fill:none;fill-rule:evenodd;stroke:#000000;stroke-width:2.0px;stroke-linecap:butt;stroke-linejoin:miter;stroke-opacity:1\"/>\n",
       "<path class=\"bond-15 atom-1 atom-8\" d=\"M 197.9,69.1 L 215.9,79.8\" style=\"fill:none;fill-rule:evenodd;stroke:#000000;stroke-width:2.0px;stroke-linecap:butt;stroke-linejoin:miter;stroke-opacity:1\"/>\n",
       "<path class=\"bond-16 atom-15 atom-16\" d=\"M 234.1,69.5 L 234.3,48.6\" style=\"fill:none;fill-rule:evenodd;stroke:#000000;stroke-width:2.0px;stroke-linecap:butt;stroke-linejoin:miter;stroke-opacity:1\"/>\n",
       "<path class=\"bond-17 atom-16 atom-17\" d=\"M 234.3,48.6 L 252.5,38.3\" style=\"fill:none;fill-rule:evenodd;stroke:#000000;stroke-width:2.0px;stroke-linecap:butt;stroke-linejoin:miter;stroke-opacity:1\"/>\n",
       "<path class=\"bond-17 atom-16 atom-17\" d=\"M 235.0,43.4 L 247.7,36.2\" style=\"fill:none;fill-rule:evenodd;stroke:#000000;stroke-width:2.0px;stroke-linecap:butt;stroke-linejoin:miter;stroke-opacity:1\"/>\n",
       "<path class=\"bond-18 atom-17 atom-18\" d=\"M 252.5,38.3 L 252.7,17.4\" style=\"fill:none;fill-rule:evenodd;stroke:#000000;stroke-width:2.0px;stroke-linecap:butt;stroke-linejoin:miter;stroke-opacity:1\"/>\n",
       "<path class=\"bond-19 atom-18 atom-19\" d=\"M 252.7,17.4 L 234.7,6.8\" style=\"fill:none;fill-rule:evenodd;stroke:#000000;stroke-width:2.0px;stroke-linecap:butt;stroke-linejoin:miter;stroke-opacity:1\"/>\n",
       "<path class=\"bond-19 atom-18 atom-19\" d=\"M 247.9,19.5 L 235.3,12.0\" style=\"fill:none;fill-rule:evenodd;stroke:#000000;stroke-width:2.0px;stroke-linecap:butt;stroke-linejoin:miter;stroke-opacity:1\"/>\n",
       "<path class=\"bond-20 atom-19 atom-20\" d=\"M 234.7,6.8 L 216.5,17.1\" style=\"fill:none;fill-rule:evenodd;stroke:#000000;stroke-width:2.0px;stroke-linecap:butt;stroke-linejoin:miter;stroke-opacity:1\"/>\n",
       "<path class=\"bond-21 atom-20 atom-21\" d=\"M 216.5,17.1 L 216.3,38.0\" style=\"fill:none;fill-rule:evenodd;stroke:#000000;stroke-width:2.0px;stroke-linecap:butt;stroke-linejoin:miter;stroke-opacity:1\"/>\n",
       "<path class=\"bond-21 atom-20 atom-21\" d=\"M 220.7,20.3 L 220.5,34.9\" style=\"fill:none;fill-rule:evenodd;stroke:#000000;stroke-width:2.0px;stroke-linecap:butt;stroke-linejoin:miter;stroke-opacity:1\"/>\n",
       "<path class=\"bond-22 atom-21 atom-16\" d=\"M 216.3,38.0 L 234.3,48.6\" style=\"fill:none;fill-rule:evenodd;stroke:#000000;stroke-width:2.0px;stroke-linecap:butt;stroke-linejoin:miter;stroke-opacity:1\"/>\n",
       "<path class=\"bond-23 atom-8 atom-15\" d=\"M 215.9,79.8 L 234.1,69.5\" style=\"fill:none;fill-rule:evenodd;stroke:#000000;stroke-width:2.0px;stroke-linecap:butt;stroke-linejoin:miter;stroke-opacity:1\"/>\n",
       "<path class=\"bond-24 atom-22 atom-23\" d=\"M 252.1,80.1 L 270.3,69.9\" style=\"fill:none;fill-rule:evenodd;stroke:#000000;stroke-width:2.0px;stroke-linecap:butt;stroke-linejoin:miter;stroke-opacity:1\"/>\n",
       "<path class=\"bond-25 atom-23 atom-24\" d=\"M 270.3,69.9 L 288.3,80.5\" style=\"fill:none;fill-rule:evenodd;stroke:#000000;stroke-width:2.0px;stroke-linecap:butt;stroke-linejoin:miter;stroke-opacity:1\"/>\n",
       "<path class=\"bond-25 atom-23 atom-24\" d=\"M 275.1,67.9 L 287.7,75.3\" style=\"fill:none;fill-rule:evenodd;stroke:#000000;stroke-width:2.0px;stroke-linecap:butt;stroke-linejoin:miter;stroke-opacity:1\"/>\n",
       "<path class=\"bond-26 atom-24 atom-25\" d=\"M 288.3,80.5 L 306.5,70.2\" style=\"fill:none;fill-rule:evenodd;stroke:#000000;stroke-width:2.0px;stroke-linecap:butt;stroke-linejoin:miter;stroke-opacity:1\"/>\n",
       "<path class=\"bond-27 atom-25 atom-26\" d=\"M 306.5,70.2 L 306.7,49.3\" style=\"fill:none;fill-rule:evenodd;stroke:#000000;stroke-width:2.0px;stroke-linecap:butt;stroke-linejoin:miter;stroke-opacity:1\"/>\n",
       "<path class=\"bond-27 atom-25 atom-26\" d=\"M 302.3,67.1 L 302.5,52.4\" style=\"fill:none;fill-rule:evenodd;stroke:#000000;stroke-width:2.0px;stroke-linecap:butt;stroke-linejoin:miter;stroke-opacity:1\"/>\n",
       "<path class=\"bond-28 atom-26 atom-27\" d=\"M 306.7,49.3 L 288.7,38.7\" style=\"fill:none;fill-rule:evenodd;stroke:#000000;stroke-width:2.0px;stroke-linecap:butt;stroke-linejoin:miter;stroke-opacity:1\"/>\n",
       "<path class=\"bond-29 atom-27 atom-28\" d=\"M 288.7,38.7 L 270.5,49.0\" style=\"fill:none;fill-rule:evenodd;stroke:#000000;stroke-width:2.0px;stroke-linecap:butt;stroke-linejoin:miter;stroke-opacity:1\"/>\n",
       "<path class=\"bond-29 atom-27 atom-28\" d=\"M 288.0,43.9 L 275.3,51.1\" style=\"fill:none;fill-rule:evenodd;stroke:#000000;stroke-width:2.0px;stroke-linecap:butt;stroke-linejoin:miter;stroke-opacity:1\"/>\n",
       "<path class=\"bond-30 atom-28 atom-23\" d=\"M 270.5,49.0 L 270.3,69.9\" style=\"fill:none;fill-rule:evenodd;stroke:#000000;stroke-width:2.0px;stroke-linecap:butt;stroke-linejoin:miter;stroke-opacity:1\"/>\n",
       "<path class=\"bond-31 atom-15 atom-22\" d=\"M 234.1,69.5 L 252.1,80.1\" style=\"fill:none;fill-rule:evenodd;stroke:#000000;stroke-width:2.0px;stroke-linecap:butt;stroke-linejoin:miter;stroke-opacity:1\"/>\n",
       "<path class=\"bond-32 atom-29 atom-30\" d=\"M 251.9,101.0 L 269.9,111.7\" style=\"fill:none;fill-rule:evenodd;stroke:#000000;stroke-width:2.0px;stroke-linecap:butt;stroke-linejoin:miter;stroke-opacity:1\"/>\n",
       "<path class=\"bond-33 atom-30 atom-31\" d=\"M 269.9,111.7 L 269.7,132.6\" style=\"fill:none;fill-rule:evenodd;stroke:#000000;stroke-width:2.0px;stroke-linecap:butt;stroke-linejoin:miter;stroke-opacity:1\"/>\n",
       "<path class=\"bond-33 atom-30 atom-31\" d=\"M 274.0,114.8 L 273.9,129.5\" style=\"fill:none;fill-rule:evenodd;stroke:#000000;stroke-width:2.0px;stroke-linecap:butt;stroke-linejoin:miter;stroke-opacity:1\"/>\n",
       "<path class=\"bond-34 atom-31 atom-32\" d=\"M 269.7,132.6 L 287.6,143.2\" style=\"fill:none;fill-rule:evenodd;stroke:#000000;stroke-width:2.0px;stroke-linecap:butt;stroke-linejoin:miter;stroke-opacity:1\"/>\n",
       "<path class=\"bond-35 atom-32 atom-33\" d=\"M 287.6,143.2 L 305.8,132.9\" style=\"fill:none;fill-rule:evenodd;stroke:#000000;stroke-width:2.0px;stroke-linecap:butt;stroke-linejoin:miter;stroke-opacity:1\"/>\n",
       "<path class=\"bond-35 atom-32 atom-33\" d=\"M 288.3,138.0 L 301.1,130.8\" style=\"fill:none;fill-rule:evenodd;stroke:#000000;stroke-width:2.0px;stroke-linecap:butt;stroke-linejoin:miter;stroke-opacity:1\"/>\n",
       "<path class=\"bond-36 atom-33 atom-34\" d=\"M 305.8,132.9 L 306.1,112.0\" style=\"fill:none;fill-rule:evenodd;stroke:#000000;stroke-width:2.0px;stroke-linecap:butt;stroke-linejoin:miter;stroke-opacity:1\"/>\n",
       "<path class=\"bond-37 atom-34 atom-35\" d=\"M 306.1,112.0 L 288.1,101.4\" style=\"fill:none;fill-rule:evenodd;stroke:#000000;stroke-width:2.0px;stroke-linecap:butt;stroke-linejoin:miter;stroke-opacity:1\"/>\n",
       "<path class=\"bond-37 atom-34 atom-35\" d=\"M 301.2,114.0 L 288.6,106.6\" style=\"fill:none;fill-rule:evenodd;stroke:#000000;stroke-width:2.0px;stroke-linecap:butt;stroke-linejoin:miter;stroke-opacity:1\"/>\n",
       "<path class=\"bond-38 atom-35 atom-30\" d=\"M 288.1,101.4 L 269.9,111.7\" style=\"fill:none;fill-rule:evenodd;stroke:#000000;stroke-width:2.0px;stroke-linecap:butt;stroke-linejoin:miter;stroke-opacity:1\"/>\n",
       "<path class=\"bond-39 atom-22 atom-29\" d=\"M 252.1,80.1 L 251.9,101.0\" style=\"fill:none;fill-rule:evenodd;stroke:#000000;stroke-width:2.0px;stroke-linecap:butt;stroke-linejoin:miter;stroke-opacity:1\"/>\n",
       "<path class=\"bond-40 atom-29 atom-36\" d=\"M 251.9,101.0 L 246.8,105.8\" style=\"fill:none;fill-rule:evenodd;stroke:#000000;stroke-width:2.0px;stroke-linecap:butt;stroke-linejoin:miter;stroke-opacity:1\"/>\n",
       "<path class=\"atom-0\" d=\"M 195.8 45.3 L 196.6 45.3 L 196.6 47.8 L 199.6 47.8 L 199.6 45.3 L 200.4 45.3 L 200.4 51.2 L 199.6 51.2 L 199.6 48.5 L 196.6 48.5 L 196.6 51.2 L 195.8 51.2 L 195.8 45.3 \" fill=\"#000000\"/>\n",
       "<path class=\"atom-36\" d=\"M 241.5 105.7 L 242.3 105.7 L 242.3 108.2 L 245.3 108.2 L 245.3 105.7 L 246.1 105.7 L 246.1 111.6 L 245.3 111.6 L 245.3 108.9 L 242.3 108.9 L 242.3 111.6 L 241.5 111.6 L 241.5 105.7 \" fill=\"#000000\"/>\n",
       "<path class=\"atom-0\" d=\"M 202.1,48.2 L 202.1,48.3 L 202.1,48.3 L 202.1,48.3 L 202.1,48.4 L 202.1,48.4 L 202.1,48.4 L 202.0,48.5 L 202.0,48.5 L 202.0,48.5 L 202.0,48.6 L 201.9,48.6 L 201.9,48.6 L 201.9,48.6 L 201.8,48.6 L 201.8,48.6 L 201.8,48.6 L 201.7,48.7 L 201.7,48.7 L 201.7,48.7 L 201.6,48.7 L 201.6,48.6 L 201.6,48.6 L 201.5,48.6 L 201.5,48.6 L 201.5,48.6 L 201.4,48.6 L 201.4,48.5 L 201.4,48.5 L 201.4,48.5 L 201.3,48.5 L 201.3,48.4 L 201.3,48.4 L 201.3,48.4 L 201.3,48.3 L 201.3,48.3 L 201.3,48.3 L 201.3,48.2 L 201.3,48.2 L 201.3,48.1 L 201.3,48.1 L 201.3,48.1 L 201.3,48.0 L 201.3,48.0 L 201.4,48.0 L 201.4,48.0 L 201.4,47.9 L 201.4,47.9 L 201.5,47.9 L 201.5,47.9 L 201.5,47.9 L 201.6,47.8 L 201.6,47.8 L 201.6,47.8 L 201.7,47.8 L 201.7,47.8 L 201.7,47.8 L 201.8,47.8 L 201.8,47.8 L 201.8,47.8 L 201.9,47.9 L 201.9,47.9 L 201.9,47.9 L 202.0,47.9 L 202.0,47.9 L 202.0,48.0 L 202.0,48.0 L 202.1,48.0 L 202.1,48.1 L 202.1,48.1 L 202.1,48.1 L 202.1,48.2 L 202.1,48.2 L 202.1,48.2 L 201.7,48.2 Z\" style=\"fill:#000000;fill-rule:evenodd;fill-opacity:1;stroke:#000000;stroke-width:0.0px;stroke-linecap:butt;stroke-linejoin:miter;stroke-opacity:1;\"/>\n",
       "<path class=\"atom-36\" d=\"M 240.7,108.7 L 240.7,108.7 L 240.7,108.7 L 240.6,108.8 L 240.6,108.8 L 240.6,108.8 L 240.6,108.9 L 240.6,108.9 L 240.6,108.9 L 240.5,109.0 L 240.5,109.0 L 240.5,109.0 L 240.5,109.0 L 240.4,109.0 L 240.4,109.0 L 240.4,109.1 L 240.3,109.1 L 240.3,109.1 L 240.3,109.1 L 240.2,109.1 L 240.2,109.1 L 240.1,109.1 L 240.1,109.1 L 240.1,109.0 L 240.0,109.0 L 240.0,109.0 L 240.0,109.0 L 240.0,109.0 L 239.9,108.9 L 239.9,108.9 L 239.9,108.9 L 239.9,108.8 L 239.9,108.8 L 239.8,108.8 L 239.8,108.7 L 239.8,108.7 L 239.8,108.7 L 239.8,108.6 L 239.8,108.6 L 239.8,108.6 L 239.8,108.5 L 239.9,108.5 L 239.9,108.5 L 239.9,108.4 L 239.9,108.4 L 239.9,108.4 L 240.0,108.4 L 240.0,108.3 L 240.0,108.3 L 240.0,108.3 L 240.1,108.3 L 240.1,108.3 L 240.1,108.3 L 240.2,108.2 L 240.2,108.2 L 240.3,108.2 L 240.3,108.2 L 240.3,108.2 L 240.4,108.3 L 240.4,108.3 L 240.4,108.3 L 240.5,108.3 L 240.5,108.3 L 240.5,108.3 L 240.5,108.4 L 240.6,108.4 L 240.6,108.4 L 240.6,108.5 L 240.6,108.5 L 240.6,108.5 L 240.6,108.6 L 240.7,108.6 L 240.7,108.6 L 240.7,108.7 L 240.2,108.7 Z\" style=\"fill:#000000;fill-rule:evenodd;fill-opacity:1;stroke:#000000;stroke-width:0.0px;stroke-linecap:butt;stroke-linejoin:miter;stroke-opacity:1;\"/>\n",
       "</svg>"
      ],
      "text/plain": [
       "<IPython.core.display.SVG object>"
      ]
     },
     "execution_count": 34,
     "metadata": {},
     "output_type": "execute_result"
    }
   ],
   "source": [
    "big_smiles_gen(big)"
   ]
  },
  {
   "cell_type": "code",
   "execution_count": 35,
   "id": "167f42e2",
   "metadata": {},
   "outputs": [
    {
     "data": {
      "image/svg+xml": [
       "<svg xmlns=\"http://www.w3.org/2000/svg\" xmlns:rdkit=\"http://www.rdkit.org/xml\" xmlns:xlink=\"http://www.w3.org/1999/xlink\" version=\"1.1\" baseProfile=\"full\" xml:space=\"preserve\" width=\"450px\" height=\"150px\" viewBox=\"0 0 450 150\">\n",
       "<!-- END OF HEADER -->\n",
       "<rect style=\"opacity:1.0;fill:#FFFFFF;stroke:none\" width=\"450.0\" height=\"150.0\" x=\"0.0\" y=\"0.0\"> </rect>\n",
       "<path class=\"bond-0 atom-1 atom-2\" d=\"M 197.9,69.1 L 179.7,79.4\" style=\"fill:none;fill-rule:evenodd;stroke:#000000;stroke-width:2.0px;stroke-linecap:butt;stroke-linejoin:miter;stroke-opacity:1\"/>\n",
       "<path class=\"bond-1 atom-2 atom-3\" d=\"M 179.7,79.4 L 161.7,68.8\" style=\"fill:none;fill-rule:evenodd;stroke:#000000;stroke-width:2.0px;stroke-linecap:butt;stroke-linejoin:miter;stroke-opacity:1\"/>\n",
       "<path class=\"bond-1 atom-2 atom-3\" d=\"M 174.9,81.4 L 162.3,74.0\" style=\"fill:none;fill-rule:evenodd;stroke:#000000;stroke-width:2.0px;stroke-linecap:butt;stroke-linejoin:miter;stroke-opacity:1\"/>\n",
       "<path class=\"bond-2 atom-3 atom-4\" d=\"M 161.7,68.8 L 143.5,79.0\" style=\"fill:none;fill-rule:evenodd;stroke:#000000;stroke-width:2.0px;stroke-linecap:butt;stroke-linejoin:miter;stroke-opacity:1\"/>\n",
       "<path class=\"bond-3 atom-4 atom-5\" d=\"M 143.5,79.0 L 143.3,99.9\" style=\"fill:none;fill-rule:evenodd;stroke:#000000;stroke-width:2.0px;stroke-linecap:butt;stroke-linejoin:miter;stroke-opacity:1\"/>\n",
       "<path class=\"bond-3 atom-4 atom-5\" d=\"M 147.7,82.2 L 147.5,96.8\" style=\"fill:none;fill-rule:evenodd;stroke:#000000;stroke-width:2.0px;stroke-linecap:butt;stroke-linejoin:miter;stroke-opacity:1\"/>\n",
       "<path class=\"bond-4 atom-5 atom-6\" d=\"M 143.3,99.9 L 161.3,110.6\" style=\"fill:none;fill-rule:evenodd;stroke:#000000;stroke-width:2.0px;stroke-linecap:butt;stroke-linejoin:miter;stroke-opacity:1\"/>\n",
       "<path class=\"bond-5 atom-6 atom-7\" d=\"M 161.3,110.6 L 179.5,100.3\" style=\"fill:none;fill-rule:evenodd;stroke:#000000;stroke-width:2.0px;stroke-linecap:butt;stroke-linejoin:miter;stroke-opacity:1\"/>\n",
       "<path class=\"bond-5 atom-6 atom-7\" d=\"M 162.0,105.4 L 174.7,98.2\" style=\"fill:none;fill-rule:evenodd;stroke:#000000;stroke-width:2.0px;stroke-linecap:butt;stroke-linejoin:miter;stroke-opacity:1\"/>\n",
       "<path class=\"bond-6 atom-7 atom-2\" d=\"M 179.5,100.3 L 179.7,79.4\" style=\"fill:none;fill-rule:evenodd;stroke:#000000;stroke-width:2.0px;stroke-linecap:butt;stroke-linejoin:miter;stroke-opacity:1\"/>\n",
       "<path class=\"bond-7 atom-0 atom-1\" d=\"M 198.1,51.9 L 197.9,69.1\" style=\"fill:none;fill-rule:evenodd;stroke:#000000;stroke-width:2.0px;stroke-linecap:butt;stroke-linejoin:miter;stroke-opacity:1\"/>\n",
       "<path class=\"bond-8 atom-8 atom-9\" d=\"M 215.9,79.8 L 215.7,100.7\" style=\"fill:none;fill-rule:evenodd;stroke:#000000;stroke-width:2.0px;stroke-linecap:butt;stroke-linejoin:miter;stroke-opacity:1\"/>\n",
       "<path class=\"bond-9 atom-9 atom-10\" d=\"M 215.7,100.7 L 197.5,110.9\" style=\"fill:none;fill-rule:evenodd;stroke:#000000;stroke-width:2.0px;stroke-linecap:butt;stroke-linejoin:miter;stroke-opacity:1\"/>\n",
       "<path class=\"bond-9 atom-9 atom-10\" d=\"M 215.0,105.8 L 202.3,113.0\" style=\"fill:none;fill-rule:evenodd;stroke:#000000;stroke-width:2.0px;stroke-linecap:butt;stroke-linejoin:miter;stroke-opacity:1\"/>\n",
       "<path class=\"bond-10 atom-10 atom-11\" d=\"M 197.5,110.9 L 197.3,131.8\" style=\"fill:none;fill-rule:evenodd;stroke:#000000;stroke-width:2.0px;stroke-linecap:butt;stroke-linejoin:miter;stroke-opacity:1\"/>\n",
       "<path class=\"bond-11 atom-11 atom-12\" d=\"M 197.3,131.8 L 215.3,142.4\" style=\"fill:none;fill-rule:evenodd;stroke:#000000;stroke-width:2.0px;stroke-linecap:butt;stroke-linejoin:miter;stroke-opacity:1\"/>\n",
       "<path class=\"bond-11 atom-11 atom-12\" d=\"M 202.1,129.8 L 214.7,137.3\" style=\"fill:none;fill-rule:evenodd;stroke:#000000;stroke-width:2.0px;stroke-linecap:butt;stroke-linejoin:miter;stroke-opacity:1\"/>\n",
       "<path class=\"bond-12 atom-12 atom-13\" d=\"M 215.3,142.4 L 233.5,132.2\" style=\"fill:none;fill-rule:evenodd;stroke:#000000;stroke-width:2.0px;stroke-linecap:butt;stroke-linejoin:miter;stroke-opacity:1\"/>\n",
       "<path class=\"bond-13 atom-13 atom-14\" d=\"M 233.5,132.2 L 233.7,111.3\" style=\"fill:none;fill-rule:evenodd;stroke:#000000;stroke-width:2.0px;stroke-linecap:butt;stroke-linejoin:miter;stroke-opacity:1\"/>\n",
       "<path class=\"bond-13 atom-13 atom-14\" d=\"M 229.3,129.0 L 229.5,114.4\" style=\"fill:none;fill-rule:evenodd;stroke:#000000;stroke-width:2.0px;stroke-linecap:butt;stroke-linejoin:miter;stroke-opacity:1\"/>\n",
       "<path class=\"bond-14 atom-14 atom-9\" d=\"M 233.7,111.3 L 215.7,100.7\" style=\"fill:none;fill-rule:evenodd;stroke:#000000;stroke-width:2.0px;stroke-linecap:butt;stroke-linejoin:miter;stroke-opacity:1\"/>\n",
       "<path class=\"bond-15 atom-1 atom-8\" d=\"M 197.9,69.1 L 215.9,79.8\" style=\"fill:none;fill-rule:evenodd;stroke:#000000;stroke-width:2.0px;stroke-linecap:butt;stroke-linejoin:miter;stroke-opacity:1\"/>\n",
       "<path class=\"bond-16 atom-15 atom-16\" d=\"M 234.1,69.5 L 234.3,48.6\" style=\"fill:none;fill-rule:evenodd;stroke:#000000;stroke-width:2.0px;stroke-linecap:butt;stroke-linejoin:miter;stroke-opacity:1\"/>\n",
       "<path class=\"bond-17 atom-16 atom-17\" d=\"M 234.3,48.6 L 252.5,38.3\" style=\"fill:none;fill-rule:evenodd;stroke:#000000;stroke-width:2.0px;stroke-linecap:butt;stroke-linejoin:miter;stroke-opacity:1\"/>\n",
       "<path class=\"bond-17 atom-16 atom-17\" d=\"M 235.0,43.4 L 247.7,36.2\" style=\"fill:none;fill-rule:evenodd;stroke:#000000;stroke-width:2.0px;stroke-linecap:butt;stroke-linejoin:miter;stroke-opacity:1\"/>\n",
       "<path class=\"bond-18 atom-17 atom-18\" d=\"M 252.5,38.3 L 252.7,17.4\" style=\"fill:none;fill-rule:evenodd;stroke:#000000;stroke-width:2.0px;stroke-linecap:butt;stroke-linejoin:miter;stroke-opacity:1\"/>\n",
       "<path class=\"bond-19 atom-18 atom-19\" d=\"M 252.7,17.4 L 234.7,6.8\" style=\"fill:none;fill-rule:evenodd;stroke:#000000;stroke-width:2.0px;stroke-linecap:butt;stroke-linejoin:miter;stroke-opacity:1\"/>\n",
       "<path class=\"bond-19 atom-18 atom-19\" d=\"M 247.9,19.5 L 235.3,12.0\" style=\"fill:none;fill-rule:evenodd;stroke:#000000;stroke-width:2.0px;stroke-linecap:butt;stroke-linejoin:miter;stroke-opacity:1\"/>\n",
       "<path class=\"bond-20 atom-19 atom-20\" d=\"M 234.7,6.8 L 216.5,17.1\" style=\"fill:none;fill-rule:evenodd;stroke:#000000;stroke-width:2.0px;stroke-linecap:butt;stroke-linejoin:miter;stroke-opacity:1\"/>\n",
       "<path class=\"bond-21 atom-20 atom-21\" d=\"M 216.5,17.1 L 216.3,38.0\" style=\"fill:none;fill-rule:evenodd;stroke:#000000;stroke-width:2.0px;stroke-linecap:butt;stroke-linejoin:miter;stroke-opacity:1\"/>\n",
       "<path class=\"bond-21 atom-20 atom-21\" d=\"M 220.7,20.3 L 220.5,34.9\" style=\"fill:none;fill-rule:evenodd;stroke:#000000;stroke-width:2.0px;stroke-linecap:butt;stroke-linejoin:miter;stroke-opacity:1\"/>\n",
       "<path class=\"bond-22 atom-21 atom-16\" d=\"M 216.3,38.0 L 234.3,48.6\" style=\"fill:none;fill-rule:evenodd;stroke:#000000;stroke-width:2.0px;stroke-linecap:butt;stroke-linejoin:miter;stroke-opacity:1\"/>\n",
       "<path class=\"bond-23 atom-8 atom-15\" d=\"M 215.9,79.8 L 234.1,69.5\" style=\"fill:none;fill-rule:evenodd;stroke:#000000;stroke-width:2.0px;stroke-linecap:butt;stroke-linejoin:miter;stroke-opacity:1\"/>\n",
       "<path class=\"bond-24 atom-22 atom-23\" d=\"M 252.1,80.1 L 270.3,69.9\" style=\"fill:none;fill-rule:evenodd;stroke:#000000;stroke-width:2.0px;stroke-linecap:butt;stroke-linejoin:miter;stroke-opacity:1\"/>\n",
       "<path class=\"bond-25 atom-23 atom-24\" d=\"M 270.3,69.9 L 288.3,80.5\" style=\"fill:none;fill-rule:evenodd;stroke:#000000;stroke-width:2.0px;stroke-linecap:butt;stroke-linejoin:miter;stroke-opacity:1\"/>\n",
       "<path class=\"bond-25 atom-23 atom-24\" d=\"M 275.1,67.9 L 287.7,75.3\" style=\"fill:none;fill-rule:evenodd;stroke:#000000;stroke-width:2.0px;stroke-linecap:butt;stroke-linejoin:miter;stroke-opacity:1\"/>\n",
       "<path class=\"bond-26 atom-24 atom-25\" d=\"M 288.3,80.5 L 306.5,70.2\" style=\"fill:none;fill-rule:evenodd;stroke:#000000;stroke-width:2.0px;stroke-linecap:butt;stroke-linejoin:miter;stroke-opacity:1\"/>\n",
       "<path class=\"bond-27 atom-25 atom-26\" d=\"M 306.5,70.2 L 306.7,49.3\" style=\"fill:none;fill-rule:evenodd;stroke:#000000;stroke-width:2.0px;stroke-linecap:butt;stroke-linejoin:miter;stroke-opacity:1\"/>\n",
       "<path class=\"bond-27 atom-25 atom-26\" d=\"M 302.3,67.1 L 302.5,52.4\" style=\"fill:none;fill-rule:evenodd;stroke:#000000;stroke-width:2.0px;stroke-linecap:butt;stroke-linejoin:miter;stroke-opacity:1\"/>\n",
       "<path class=\"bond-28 atom-26 atom-27\" d=\"M 306.7,49.3 L 288.7,38.7\" style=\"fill:none;fill-rule:evenodd;stroke:#000000;stroke-width:2.0px;stroke-linecap:butt;stroke-linejoin:miter;stroke-opacity:1\"/>\n",
       "<path class=\"bond-29 atom-27 atom-28\" d=\"M 288.7,38.7 L 270.5,49.0\" style=\"fill:none;fill-rule:evenodd;stroke:#000000;stroke-width:2.0px;stroke-linecap:butt;stroke-linejoin:miter;stroke-opacity:1\"/>\n",
       "<path class=\"bond-29 atom-27 atom-28\" d=\"M 288.0,43.9 L 275.3,51.1\" style=\"fill:none;fill-rule:evenodd;stroke:#000000;stroke-width:2.0px;stroke-linecap:butt;stroke-linejoin:miter;stroke-opacity:1\"/>\n",
       "<path class=\"bond-30 atom-28 atom-23\" d=\"M 270.5,49.0 L 270.3,69.9\" style=\"fill:none;fill-rule:evenodd;stroke:#000000;stroke-width:2.0px;stroke-linecap:butt;stroke-linejoin:miter;stroke-opacity:1\"/>\n",
       "<path class=\"bond-31 atom-15 atom-22\" d=\"M 234.1,69.5 L 252.1,80.1\" style=\"fill:none;fill-rule:evenodd;stroke:#000000;stroke-width:2.0px;stroke-linecap:butt;stroke-linejoin:miter;stroke-opacity:1\"/>\n",
       "<path class=\"bond-32 atom-29 atom-30\" d=\"M 251.9,101.0 L 269.9,111.7\" style=\"fill:none;fill-rule:evenodd;stroke:#000000;stroke-width:2.0px;stroke-linecap:butt;stroke-linejoin:miter;stroke-opacity:1\"/>\n",
       "<path class=\"bond-33 atom-30 atom-31\" d=\"M 269.9,111.7 L 269.7,132.6\" style=\"fill:none;fill-rule:evenodd;stroke:#000000;stroke-width:2.0px;stroke-linecap:butt;stroke-linejoin:miter;stroke-opacity:1\"/>\n",
       "<path class=\"bond-33 atom-30 atom-31\" d=\"M 274.0,114.8 L 273.9,129.5\" style=\"fill:none;fill-rule:evenodd;stroke:#000000;stroke-width:2.0px;stroke-linecap:butt;stroke-linejoin:miter;stroke-opacity:1\"/>\n",
       "<path class=\"bond-34 atom-31 atom-32\" d=\"M 269.7,132.6 L 287.6,143.2\" style=\"fill:none;fill-rule:evenodd;stroke:#000000;stroke-width:2.0px;stroke-linecap:butt;stroke-linejoin:miter;stroke-opacity:1\"/>\n",
       "<path class=\"bond-35 atom-32 atom-33\" d=\"M 287.6,143.2 L 305.8,132.9\" style=\"fill:none;fill-rule:evenodd;stroke:#000000;stroke-width:2.0px;stroke-linecap:butt;stroke-linejoin:miter;stroke-opacity:1\"/>\n",
       "<path class=\"bond-35 atom-32 atom-33\" d=\"M 288.3,138.0 L 301.1,130.8\" style=\"fill:none;fill-rule:evenodd;stroke:#000000;stroke-width:2.0px;stroke-linecap:butt;stroke-linejoin:miter;stroke-opacity:1\"/>\n",
       "<path class=\"bond-36 atom-33 atom-34\" d=\"M 305.8,132.9 L 306.1,112.0\" style=\"fill:none;fill-rule:evenodd;stroke:#000000;stroke-width:2.0px;stroke-linecap:butt;stroke-linejoin:miter;stroke-opacity:1\"/>\n",
       "<path class=\"bond-37 atom-34 atom-35\" d=\"M 306.1,112.0 L 288.1,101.4\" style=\"fill:none;fill-rule:evenodd;stroke:#000000;stroke-width:2.0px;stroke-linecap:butt;stroke-linejoin:miter;stroke-opacity:1\"/>\n",
       "<path class=\"bond-37 atom-34 atom-35\" d=\"M 301.2,114.0 L 288.6,106.6\" style=\"fill:none;fill-rule:evenodd;stroke:#000000;stroke-width:2.0px;stroke-linecap:butt;stroke-linejoin:miter;stroke-opacity:1\"/>\n",
       "<path class=\"bond-38 atom-35 atom-30\" d=\"M 288.1,101.4 L 269.9,111.7\" style=\"fill:none;fill-rule:evenodd;stroke:#000000;stroke-width:2.0px;stroke-linecap:butt;stroke-linejoin:miter;stroke-opacity:1\"/>\n",
       "<path class=\"bond-39 atom-22 atom-29\" d=\"M 252.1,80.1 L 251.9,101.0\" style=\"fill:none;fill-rule:evenodd;stroke:#000000;stroke-width:2.0px;stroke-linecap:butt;stroke-linejoin:miter;stroke-opacity:1\"/>\n",
       "<path class=\"bond-40 atom-29 atom-36\" d=\"M 251.9,101.0 L 246.8,105.8\" style=\"fill:none;fill-rule:evenodd;stroke:#000000;stroke-width:2.0px;stroke-linecap:butt;stroke-linejoin:miter;stroke-opacity:1\"/>\n",
       "<path class=\"atom-0\" d=\"M 195.8 45.3 L 196.6 45.3 L 196.6 47.8 L 199.6 47.8 L 199.6 45.3 L 200.4 45.3 L 200.4 51.2 L 199.6 51.2 L 199.6 48.5 L 196.6 48.5 L 196.6 51.2 L 195.8 51.2 L 195.8 45.3 \" fill=\"#000000\"/>\n",
       "<path class=\"atom-36\" d=\"M 241.5 105.7 L 242.3 105.7 L 242.3 108.2 L 245.3 108.2 L 245.3 105.7 L 246.1 105.7 L 246.1 111.6 L 245.3 111.6 L 245.3 108.9 L 242.3 108.9 L 242.3 111.6 L 241.5 111.6 L 241.5 105.7 \" fill=\"#000000\"/>\n",
       "<path class=\"atom-0\" d=\"M 202.1,48.2 L 202.1,48.3 L 202.1,48.3 L 202.1,48.3 L 202.1,48.4 L 202.1,48.4 L 202.1,48.4 L 202.0,48.5 L 202.0,48.5 L 202.0,48.5 L 202.0,48.6 L 201.9,48.6 L 201.9,48.6 L 201.9,48.6 L 201.8,48.6 L 201.8,48.6 L 201.8,48.6 L 201.7,48.7 L 201.7,48.7 L 201.7,48.7 L 201.6,48.7 L 201.6,48.6 L 201.6,48.6 L 201.5,48.6 L 201.5,48.6 L 201.5,48.6 L 201.4,48.6 L 201.4,48.5 L 201.4,48.5 L 201.4,48.5 L 201.3,48.5 L 201.3,48.4 L 201.3,48.4 L 201.3,48.4 L 201.3,48.3 L 201.3,48.3 L 201.3,48.3 L 201.3,48.2 L 201.3,48.2 L 201.3,48.1 L 201.3,48.1 L 201.3,48.1 L 201.3,48.0 L 201.3,48.0 L 201.4,48.0 L 201.4,48.0 L 201.4,47.9 L 201.4,47.9 L 201.5,47.9 L 201.5,47.9 L 201.5,47.9 L 201.6,47.8 L 201.6,47.8 L 201.6,47.8 L 201.7,47.8 L 201.7,47.8 L 201.7,47.8 L 201.8,47.8 L 201.8,47.8 L 201.8,47.8 L 201.9,47.9 L 201.9,47.9 L 201.9,47.9 L 202.0,47.9 L 202.0,47.9 L 202.0,48.0 L 202.0,48.0 L 202.1,48.0 L 202.1,48.1 L 202.1,48.1 L 202.1,48.1 L 202.1,48.2 L 202.1,48.2 L 202.1,48.2 L 201.7,48.2 Z\" style=\"fill:#000000;fill-rule:evenodd;fill-opacity:1;stroke:#000000;stroke-width:0.0px;stroke-linecap:butt;stroke-linejoin:miter;stroke-opacity:1;\"/>\n",
       "<path class=\"atom-36\" d=\"M 240.7,108.7 L 240.7,108.7 L 240.7,108.7 L 240.6,108.8 L 240.6,108.8 L 240.6,108.8 L 240.6,108.9 L 240.6,108.9 L 240.6,108.9 L 240.5,109.0 L 240.5,109.0 L 240.5,109.0 L 240.5,109.0 L 240.4,109.0 L 240.4,109.0 L 240.4,109.1 L 240.3,109.1 L 240.3,109.1 L 240.3,109.1 L 240.2,109.1 L 240.2,109.1 L 240.1,109.1 L 240.1,109.1 L 240.1,109.0 L 240.0,109.0 L 240.0,109.0 L 240.0,109.0 L 240.0,109.0 L 239.9,108.9 L 239.9,108.9 L 239.9,108.9 L 239.9,108.8 L 239.9,108.8 L 239.8,108.8 L 239.8,108.7 L 239.8,108.7 L 239.8,108.7 L 239.8,108.6 L 239.8,108.6 L 239.8,108.6 L 239.8,108.5 L 239.9,108.5 L 239.9,108.5 L 239.9,108.4 L 239.9,108.4 L 239.9,108.4 L 240.0,108.4 L 240.0,108.3 L 240.0,108.3 L 240.0,108.3 L 240.1,108.3 L 240.1,108.3 L 240.1,108.3 L 240.2,108.2 L 240.2,108.2 L 240.3,108.2 L 240.3,108.2 L 240.3,108.2 L 240.4,108.3 L 240.4,108.3 L 240.4,108.3 L 240.5,108.3 L 240.5,108.3 L 240.5,108.3 L 240.5,108.4 L 240.6,108.4 L 240.6,108.4 L 240.6,108.5 L 240.6,108.5 L 240.6,108.5 L 240.6,108.6 L 240.7,108.6 L 240.7,108.6 L 240.7,108.7 L 240.2,108.7 Z\" style=\"fill:#000000;fill-rule:evenodd;fill-opacity:1;stroke:#000000;stroke-width:0.0px;stroke-linecap:butt;stroke-linejoin:miter;stroke-opacity:1;\"/>\n",
       "</svg>"
      ],
      "text/plain": [
       "<IPython.core.display.SVG object>"
      ]
     },
     "execution_count": 35,
     "metadata": {},
     "output_type": "execute_result"
    }
   ],
   "source": [
    "big_smiles_gen(big)"
   ]
  },
  {
   "cell_type": "markdown",
   "id": "7190b531",
   "metadata": {},
   "source": [
    "## Poly(acrylic acid butyl - r - acrylamide) (25% acrylamide)"
   ]
  },
  {
   "cell_type": "code",
   "execution_count": 36,
   "id": "f0c07851",
   "metadata": {},
   "outputs": [
    {
     "data": {
      "image/svg+xml": [
       "<svg xmlns=\"http://www.w3.org/2000/svg\" xmlns:rdkit=\"http://www.rdkit.org/xml\" xmlns:xlink=\"http://www.w3.org/1999/xlink\" version=\"1.1\" baseProfile=\"full\" xml:space=\"preserve\" width=\"450px\" height=\"150px\" viewBox=\"0 0 450 150\">\n",
       "<!-- END OF HEADER -->\n",
       "<rect style=\"opacity:1.0;fill:#FFFFFF;stroke:none\" width=\"450.0\" height=\"150.0\" x=\"0.0\" y=\"0.0\"> </rect>\n",
       "<path class=\"bond-0 atom-1 atom-2\" d=\"M 212.1,45.8 L 230.9,42.1\" style=\"fill:none;fill-rule:evenodd;stroke:#000000;stroke-width:2.0px;stroke-linecap:butt;stroke-linejoin:miter;stroke-opacity:1\"/>\n",
       "<path class=\"bond-1 atom-2 atom-3\" d=\"M 230.9,42.1 L 237.2,24.0\" style=\"fill:none;fill-rule:evenodd;stroke:#000000;stroke-width:2.0px;stroke-linecap:butt;stroke-linejoin:miter;stroke-opacity:1\"/>\n",
       "<path class=\"bond-2 atom-3 atom-4\" d=\"M 235.7,25.3 L 230.9,19.8\" style=\"fill:none;fill-rule:evenodd;stroke:#000000;stroke-width:2.0px;stroke-linecap:butt;stroke-linejoin:miter;stroke-opacity:1\"/>\n",
       "<path class=\"bond-2 atom-3 atom-4\" d=\"M 230.9,19.8 L 226.1,14.3\" style=\"fill:none;fill-rule:evenodd;stroke:#FF0000;stroke-width:2.0px;stroke-linecap:butt;stroke-linejoin:miter;stroke-opacity:1\"/>\n",
       "<path class=\"bond-2 atom-3 atom-4\" d=\"M 238.6,22.7 L 233.8,17.2\" style=\"fill:none;fill-rule:evenodd;stroke:#000000;stroke-width:2.0px;stroke-linecap:butt;stroke-linejoin:miter;stroke-opacity:1\"/>\n",
       "<path class=\"bond-2 atom-3 atom-4\" d=\"M 233.8,17.2 L 229.0,11.8\" style=\"fill:none;fill-rule:evenodd;stroke:#FF0000;stroke-width:2.0px;stroke-linecap:butt;stroke-linejoin:miter;stroke-opacity:1\"/>\n",
       "<path class=\"bond-3 atom-3 atom-5\" d=\"M 237.2,24.0 L 245.2,22.4\" style=\"fill:none;fill-rule:evenodd;stroke:#000000;stroke-width:2.0px;stroke-linecap:butt;stroke-linejoin:miter;stroke-opacity:1\"/>\n",
       "<path class=\"bond-3 atom-3 atom-5\" d=\"M 245.2,22.4 L 253.3,20.8\" style=\"fill:none;fill-rule:evenodd;stroke:#0000FF;stroke-width:2.0px;stroke-linecap:butt;stroke-linejoin:miter;stroke-opacity:1\"/>\n",
       "<path class=\"bond-4 atom-0 atom-1\" d=\"M 202.3,34.5 L 212.1,45.8\" style=\"fill:none;fill-rule:evenodd;stroke:#000000;stroke-width:2.0px;stroke-linecap:butt;stroke-linejoin:miter;stroke-opacity:1\"/>\n",
       "<path class=\"bond-5 atom-6 atom-7\" d=\"M 205.9,63.9 L 187.1,67.6\" style=\"fill:none;fill-rule:evenodd;stroke:#000000;stroke-width:2.0px;stroke-linecap:butt;stroke-linejoin:miter;stroke-opacity:1\"/>\n",
       "<path class=\"bond-6 atom-7 atom-8\" d=\"M 187.1,67.6 L 180.9,85.7\" style=\"fill:none;fill-rule:evenodd;stroke:#000000;stroke-width:2.0px;stroke-linecap:butt;stroke-linejoin:miter;stroke-opacity:1\"/>\n",
       "<path class=\"bond-7 atom-8 atom-9\" d=\"M 182.4,84.5 L 187.2,90.0\" style=\"fill:none;fill-rule:evenodd;stroke:#000000;stroke-width:2.0px;stroke-linecap:butt;stroke-linejoin:miter;stroke-opacity:1\"/>\n",
       "<path class=\"bond-7 atom-8 atom-9\" d=\"M 187.2,90.0 L 192.0,95.5\" style=\"fill:none;fill-rule:evenodd;stroke:#FF0000;stroke-width:2.0px;stroke-linecap:butt;stroke-linejoin:miter;stroke-opacity:1\"/>\n",
       "<path class=\"bond-7 atom-8 atom-9\" d=\"M 179.5,87.0 L 184.3,92.5\" style=\"fill:none;fill-rule:evenodd;stroke:#000000;stroke-width:2.0px;stroke-linecap:butt;stroke-linejoin:miter;stroke-opacity:1\"/>\n",
       "<path class=\"bond-7 atom-8 atom-9\" d=\"M 184.3,92.5 L 189.1,98.1\" style=\"fill:none;fill-rule:evenodd;stroke:#FF0000;stroke-width:2.0px;stroke-linecap:butt;stroke-linejoin:miter;stroke-opacity:1\"/>\n",
       "<path class=\"bond-8 atom-8 atom-10\" d=\"M 180.9,85.7 L 173.1,87.3\" style=\"fill:none;fill-rule:evenodd;stroke:#000000;stroke-width:2.0px;stroke-linecap:butt;stroke-linejoin:miter;stroke-opacity:1\"/>\n",
       "<path class=\"bond-8 atom-8 atom-10\" d=\"M 173.1,87.3 L 165.3,88.8\" style=\"fill:none;fill-rule:evenodd;stroke:#FF0000;stroke-width:2.0px;stroke-linecap:butt;stroke-linejoin:miter;stroke-opacity:1\"/>\n",
       "<path class=\"bond-9 atom-10 atom-11\" d=\"M 161.0,92.9 L 158.4,100.2\" style=\"fill:none;fill-rule:evenodd;stroke:#FF0000;stroke-width:2.0px;stroke-linecap:butt;stroke-linejoin:miter;stroke-opacity:1\"/>\n",
       "<path class=\"bond-9 atom-10 atom-11\" d=\"M 158.4,100.2 L 155.9,107.5\" style=\"fill:none;fill-rule:evenodd;stroke:#000000;stroke-width:2.0px;stroke-linecap:butt;stroke-linejoin:miter;stroke-opacity:1\"/>\n",
       "<path class=\"bond-10 atom-11 atom-12\" d=\"M 155.9,107.5 L 137.1,111.2\" style=\"fill:none;fill-rule:evenodd;stroke:#000000;stroke-width:2.0px;stroke-linecap:butt;stroke-linejoin:miter;stroke-opacity:1\"/>\n",
       "<path class=\"bond-11 atom-12 atom-13\" d=\"M 137.1,111.2 L 130.9,129.3\" style=\"fill:none;fill-rule:evenodd;stroke:#000000;stroke-width:2.0px;stroke-linecap:butt;stroke-linejoin:miter;stroke-opacity:1\"/>\n",
       "<path class=\"bond-12 atom-13 atom-14\" d=\"M 130.9,129.3 L 112.1,133.0\" style=\"fill:none;fill-rule:evenodd;stroke:#000000;stroke-width:2.0px;stroke-linecap:butt;stroke-linejoin:miter;stroke-opacity:1\"/>\n",
       "<path class=\"bond-13 atom-1 atom-6\" d=\"M 212.1,45.8 L 205.9,63.9\" style=\"fill:none;fill-rule:evenodd;stroke:#000000;stroke-width:2.0px;stroke-linecap:butt;stroke-linejoin:miter;stroke-opacity:1\"/>\n",
       "<path class=\"bond-14 atom-15 atom-16\" d=\"M 218.5,78.4 L 212.3,96.5\" style=\"fill:none;fill-rule:evenodd;stroke:#000000;stroke-width:2.0px;stroke-linecap:butt;stroke-linejoin:miter;stroke-opacity:1\"/>\n",
       "<path class=\"bond-15 atom-16 atom-17\" d=\"M 212.3,96.5 L 224.9,110.9\" style=\"fill:none;fill-rule:evenodd;stroke:#000000;stroke-width:2.0px;stroke-linecap:butt;stroke-linejoin:miter;stroke-opacity:1\"/>\n",
       "<path class=\"bond-16 atom-17 atom-18\" d=\"M 225.0,109.0 L 228.5,109.2\" style=\"fill:none;fill-rule:evenodd;stroke:#000000;stroke-width:2.0px;stroke-linecap:butt;stroke-linejoin:miter;stroke-opacity:1\"/>\n",
       "<path class=\"bond-16 atom-17 atom-18\" d=\"M 228.5,109.2 L 232.1,109.4\" style=\"fill:none;fill-rule:evenodd;stroke:#FF0000;stroke-width:2.0px;stroke-linecap:butt;stroke-linejoin:miter;stroke-opacity:1\"/>\n",
       "<path class=\"bond-16 atom-17 atom-18\" d=\"M 224.8,112.8 L 228.3,113.0\" style=\"fill:none;fill-rule:evenodd;stroke:#000000;stroke-width:2.0px;stroke-linecap:butt;stroke-linejoin:miter;stroke-opacity:1\"/>\n",
       "<path class=\"bond-16 atom-17 atom-18\" d=\"M 228.3,113.0 L 231.9,113.2\" style=\"fill:none;fill-rule:evenodd;stroke:#FF0000;stroke-width:2.0px;stroke-linecap:butt;stroke-linejoin:miter;stroke-opacity:1\"/>\n",
       "<path class=\"bond-17 atom-17 atom-19\" d=\"M 224.9,110.9 L 222.4,118.3\" style=\"fill:none;fill-rule:evenodd;stroke:#000000;stroke-width:2.0px;stroke-linecap:butt;stroke-linejoin:miter;stroke-opacity:1\"/>\n",
       "<path class=\"bond-17 atom-17 atom-19\" d=\"M 222.4,118.3 L 219.8,125.7\" style=\"fill:none;fill-rule:evenodd;stroke:#0000FF;stroke-width:2.0px;stroke-linecap:butt;stroke-linejoin:miter;stroke-opacity:1\"/>\n",
       "<path class=\"bond-18 atom-6 atom-15\" d=\"M 205.9,63.9 L 218.5,78.4\" style=\"fill:none;fill-rule:evenodd;stroke:#000000;stroke-width:2.0px;stroke-linecap:butt;stroke-linejoin:miter;stroke-opacity:1\"/>\n",
       "<path class=\"bond-19 atom-20 atom-21\" d=\"M 237.3,74.7 L 243.5,56.6\" style=\"fill:none;fill-rule:evenodd;stroke:#000000;stroke-width:2.0px;stroke-linecap:butt;stroke-linejoin:miter;stroke-opacity:1\"/>\n",
       "<path class=\"bond-20 atom-21 atom-22\" d=\"M 243.5,56.6 L 262.3,52.9\" style=\"fill:none;fill-rule:evenodd;stroke:#000000;stroke-width:2.0px;stroke-linecap:butt;stroke-linejoin:miter;stroke-opacity:1\"/>\n",
       "<path class=\"bond-21 atom-22 atom-23\" d=\"M 260.5,52.3 L 263.0,44.9\" style=\"fill:none;fill-rule:evenodd;stroke:#000000;stroke-width:2.0px;stroke-linecap:butt;stroke-linejoin:miter;stroke-opacity:1\"/>\n",
       "<path class=\"bond-21 atom-22 atom-23\" d=\"M 263.0,44.9 L 265.5,37.6\" style=\"fill:none;fill-rule:evenodd;stroke:#FF0000;stroke-width:2.0px;stroke-linecap:butt;stroke-linejoin:miter;stroke-opacity:1\"/>\n",
       "<path class=\"bond-21 atom-22 atom-23\" d=\"M 264.1,53.5 L 266.7,46.2\" style=\"fill:none;fill-rule:evenodd;stroke:#000000;stroke-width:2.0px;stroke-linecap:butt;stroke-linejoin:miter;stroke-opacity:1\"/>\n",
       "<path class=\"bond-21 atom-22 atom-23\" d=\"M 266.7,46.2 L 269.2,38.8\" style=\"fill:none;fill-rule:evenodd;stroke:#FF0000;stroke-width:2.0px;stroke-linecap:butt;stroke-linejoin:miter;stroke-opacity:1\"/>\n",
       "<path class=\"bond-22 atom-22 atom-24\" d=\"M 262.3,52.9 L 267.2,58.4\" style=\"fill:none;fill-rule:evenodd;stroke:#000000;stroke-width:2.0px;stroke-linecap:butt;stroke-linejoin:miter;stroke-opacity:1\"/>\n",
       "<path class=\"bond-22 atom-22 atom-24\" d=\"M 267.2,58.4 L 272.0,63.9\" style=\"fill:none;fill-rule:evenodd;stroke:#FF0000;stroke-width:2.0px;stroke-linecap:butt;stroke-linejoin:miter;stroke-opacity:1\"/>\n",
       "<path class=\"bond-23 atom-24 atom-25\" d=\"M 278.0,66.7 L 285.9,65.2\" style=\"fill:none;fill-rule:evenodd;stroke:#FF0000;stroke-width:2.0px;stroke-linecap:butt;stroke-linejoin:miter;stroke-opacity:1\"/>\n",
       "<path class=\"bond-23 atom-24 atom-25\" d=\"M 285.9,65.2 L 293.7,63.6\" style=\"fill:none;fill-rule:evenodd;stroke:#000000;stroke-width:2.0px;stroke-linecap:butt;stroke-linejoin:miter;stroke-opacity:1\"/>\n",
       "<path class=\"bond-24 atom-25 atom-26\" d=\"M 293.7,63.6 L 306.3,78.1\" style=\"fill:none;fill-rule:evenodd;stroke:#000000;stroke-width:2.0px;stroke-linecap:butt;stroke-linejoin:miter;stroke-opacity:1\"/>\n",
       "<path class=\"bond-25 atom-26 atom-27\" d=\"M 306.3,78.1 L 325.1,74.4\" style=\"fill:none;fill-rule:evenodd;stroke:#000000;stroke-width:2.0px;stroke-linecap:butt;stroke-linejoin:miter;stroke-opacity:1\"/>\n",
       "<path class=\"bond-26 atom-27 atom-28\" d=\"M 325.1,74.4 L 337.7,88.8\" style=\"fill:none;fill-rule:evenodd;stroke:#000000;stroke-width:2.0px;stroke-linecap:butt;stroke-linejoin:miter;stroke-opacity:1\"/>\n",
       "<path class=\"bond-27 atom-15 atom-20\" d=\"M 218.5,78.4 L 237.3,74.7\" style=\"fill:none;fill-rule:evenodd;stroke:#000000;stroke-width:2.0px;stroke-linecap:butt;stroke-linejoin:miter;stroke-opacity:1\"/>\n",
       "<path class=\"bond-28 atom-29 atom-30\" d=\"M 249.9,89.1 L 243.7,107.2\" style=\"fill:none;fill-rule:evenodd;stroke:#000000;stroke-width:2.0px;stroke-linecap:butt;stroke-linejoin:miter;stroke-opacity:1\"/>\n",
       "<path class=\"bond-29 atom-30 atom-31\" d=\"M 243.7,107.2 L 256.3,121.7\" style=\"fill:none;fill-rule:evenodd;stroke:#000000;stroke-width:2.0px;stroke-linecap:butt;stroke-linejoin:miter;stroke-opacity:1\"/>\n",
       "<path class=\"bond-30 atom-31 atom-32\" d=\"M 258.1,122.3 L 255.6,129.7\" style=\"fill:none;fill-rule:evenodd;stroke:#000000;stroke-width:2.0px;stroke-linecap:butt;stroke-linejoin:miter;stroke-opacity:1\"/>\n",
       "<path class=\"bond-30 atom-31 atom-32\" d=\"M 255.6,129.7 L 253.1,137.1\" style=\"fill:none;fill-rule:evenodd;stroke:#FF0000;stroke-width:2.0px;stroke-linecap:butt;stroke-linejoin:miter;stroke-opacity:1\"/>\n",
       "<path class=\"bond-30 atom-31 atom-32\" d=\"M 254.5,121.1 L 252.0,128.4\" style=\"fill:none;fill-rule:evenodd;stroke:#000000;stroke-width:2.0px;stroke-linecap:butt;stroke-linejoin:miter;stroke-opacity:1\"/>\n",
       "<path class=\"bond-30 atom-31 atom-32\" d=\"M 252.0,128.4 L 249.4,135.8\" style=\"fill:none;fill-rule:evenodd;stroke:#FF0000;stroke-width:2.0px;stroke-linecap:butt;stroke-linejoin:miter;stroke-opacity:1\"/>\n",
       "<path class=\"bond-31 atom-31 atom-33\" d=\"M 256.3,121.7 L 264.1,120.1\" style=\"fill:none;fill-rule:evenodd;stroke:#000000;stroke-width:2.0px;stroke-linecap:butt;stroke-linejoin:miter;stroke-opacity:1\"/>\n",
       "<path class=\"bond-31 atom-31 atom-33\" d=\"M 264.1,120.1 L 272.0,118.6\" style=\"fill:none;fill-rule:evenodd;stroke:#FF0000;stroke-width:2.0px;stroke-linecap:butt;stroke-linejoin:miter;stroke-opacity:1\"/>\n",
       "<path class=\"bond-32 atom-33 atom-34\" d=\"M 278.1,121.4 L 282.9,126.9\" style=\"fill:none;fill-rule:evenodd;stroke:#FF0000;stroke-width:2.0px;stroke-linecap:butt;stroke-linejoin:miter;stroke-opacity:1\"/>\n",
       "<path class=\"bond-32 atom-33 atom-34\" d=\"M 282.9,126.9 L 287.7,132.4\" style=\"fill:none;fill-rule:evenodd;stroke:#000000;stroke-width:2.0px;stroke-linecap:butt;stroke-linejoin:miter;stroke-opacity:1\"/>\n",
       "<path class=\"bond-33 atom-34 atom-35\" d=\"M 287.7,132.4 L 306.5,128.7\" style=\"fill:none;fill-rule:evenodd;stroke:#000000;stroke-width:2.0px;stroke-linecap:butt;stroke-linejoin:miter;stroke-opacity:1\"/>\n",
       "<path class=\"bond-34 atom-35 atom-36\" d=\"M 306.5,128.7 L 319.1,143.2\" style=\"fill:none;fill-rule:evenodd;stroke:#000000;stroke-width:2.0px;stroke-linecap:butt;stroke-linejoin:miter;stroke-opacity:1\"/>\n",
       "<path class=\"bond-35 atom-36 atom-37\" d=\"M 319.1,143.2 L 337.9,139.5\" style=\"fill:none;fill-rule:evenodd;stroke:#000000;stroke-width:2.0px;stroke-linecap:butt;stroke-linejoin:miter;stroke-opacity:1\"/>\n",
       "<path class=\"bond-36 atom-20 atom-29\" d=\"M 237.3,74.7 L 249.9,89.1\" style=\"fill:none;fill-rule:evenodd;stroke:#000000;stroke-width:2.0px;stroke-linecap:butt;stroke-linejoin:miter;stroke-opacity:1\"/>\n",
       "<path class=\"bond-37 atom-29 atom-38\" d=\"M 249.9,89.1 L 266.0,86.0\" style=\"fill:none;fill-rule:evenodd;stroke:#000000;stroke-width:2.0px;stroke-linecap:butt;stroke-linejoin:miter;stroke-opacity:1\"/>\n",
       "<path class=\"atom-0\" d=\"M 197.4 28.7 L 198.2 28.7 L 198.2 31.0 L 200.9 31.0 L 200.9 28.7 L 201.7 28.7 L 201.7 34.1 L 200.9 34.1 L 200.9 31.6 L 198.2 31.6 L 198.2 34.1 L 197.4 34.1 L 197.4 28.7 \" fill=\"#000000\"/>\n",
       "<path class=\"atom-4\" d=\"M 222.1 9.6 Q 222.1 8.3, 222.7 7.5 Q 223.4 6.8, 224.6 6.8 Q 225.8 6.8, 226.4 7.5 Q 227.1 8.3, 227.1 9.6 Q 227.1 10.9, 226.4 11.6 Q 225.8 12.4, 224.6 12.4 Q 223.4 12.4, 222.7 11.6 Q 222.1 10.9, 222.1 9.6 M 224.6 11.8 Q 225.4 11.8, 225.8 11.2 Q 226.3 10.7, 226.3 9.6 Q 226.3 8.5, 225.8 8.0 Q 225.4 7.4, 224.6 7.4 Q 223.7 7.4, 223.3 8.0 Q 222.8 8.5, 222.8 9.6 Q 222.8 10.7, 223.3 11.2 Q 223.7 11.8, 224.6 11.8 \" fill=\"#FF0000\"/>\n",
       "<path class=\"atom-5\" d=\"M 254.8 17.6 L 256.5 20.5 Q 256.7 20.8, 257.0 21.3 Q 257.3 21.8, 257.3 21.8 L 257.3 17.6 L 258.0 17.6 L 258.0 23.0 L 257.3 23.0 L 255.4 19.9 Q 255.1 19.5, 254.9 19.1 Q 254.7 18.7, 254.6 18.5 L 254.6 23.0 L 253.9 23.0 L 253.9 17.6 L 254.8 17.6 \" fill=\"#0000FF\"/>\n",
       "<path class=\"atom-5\" d=\"M 258.6 17.6 L 259.4 17.6 L 259.4 19.9 L 262.2 19.9 L 262.2 17.6 L 262.9 17.6 L 262.9 23.0 L 262.2 23.0 L 262.2 20.5 L 259.4 20.5 L 259.4 23.0 L 258.6 23.0 L 258.6 17.6 \" fill=\"#0000FF\"/>\n",
       "<path class=\"atom-5\" d=\"M 263.6 22.8 Q 263.7 22.5, 264.0 22.3 Q 264.3 22.1, 264.7 22.1 Q 265.3 22.1, 265.6 22.4 Q 265.9 22.7, 265.9 23.2 Q 265.9 23.8, 265.5 24.3 Q 265.1 24.7, 264.3 25.3 L 266.0 25.3 L 266.0 25.7 L 263.5 25.7 L 263.5 25.4 Q 264.2 24.9, 264.6 24.6 Q 265.0 24.2, 265.2 23.9 Q 265.4 23.6, 265.4 23.3 Q 265.4 22.9, 265.2 22.7 Q 265.0 22.5, 264.7 22.5 Q 264.5 22.5, 264.3 22.6 Q 264.1 22.8, 263.9 23.0 L 263.6 22.8 \" fill=\"#0000FF\"/>\n",
       "<path class=\"atom-9\" d=\"M 191.0 100.2 Q 191.0 98.9, 191.7 98.2 Q 192.3 97.4, 193.5 97.4 Q 194.7 97.4, 195.4 98.2 Q 196.0 98.9, 196.0 100.2 Q 196.0 101.5, 195.4 102.3 Q 194.7 103.0, 193.5 103.0 Q 192.3 103.0, 191.7 102.3 Q 191.0 101.5, 191.0 100.2 M 193.5 102.4 Q 194.4 102.4, 194.8 101.8 Q 195.2 101.3, 195.2 100.2 Q 195.2 99.1, 194.8 98.6 Q 194.4 98.0, 193.5 98.0 Q 192.7 98.0, 192.2 98.6 Q 191.8 99.1, 191.8 100.2 Q 191.8 101.3, 192.2 101.8 Q 192.7 102.4, 193.5 102.4 \" fill=\"#FF0000\"/>\n",
       "<path class=\"atom-10\" d=\"M 159.6 89.4 Q 159.6 88.1, 160.3 87.4 Q 160.9 86.7, 162.1 86.7 Q 163.3 86.7, 164.0 87.4 Q 164.6 88.1, 164.6 89.4 Q 164.6 90.8, 164.0 91.5 Q 163.3 92.2, 162.1 92.2 Q 160.9 92.2, 160.3 91.5 Q 159.6 90.8, 159.6 89.4 M 162.1 91.6 Q 163.0 91.6, 163.4 91.1 Q 163.9 90.5, 163.9 89.4 Q 163.9 88.4, 163.4 87.8 Q 163.0 87.3, 162.1 87.3 Q 161.3 87.3, 160.9 87.8 Q 160.4 88.4, 160.4 89.4 Q 160.4 90.5, 160.9 91.1 Q 161.3 91.6, 162.1 91.6 \" fill=\"#FF0000\"/>\n",
       "<path class=\"atom-18\" d=\"M 232.6 111.5 Q 232.6 110.2, 233.2 109.4 Q 233.9 108.7, 235.1 108.7 Q 236.3 108.7, 236.9 109.4 Q 237.6 110.2, 237.6 111.5 Q 237.6 112.8, 236.9 113.5 Q 236.3 114.3, 235.1 114.3 Q 233.9 114.3, 233.2 113.5 Q 232.6 112.8, 232.6 111.5 M 235.1 113.7 Q 235.9 113.7, 236.4 113.1 Q 236.8 112.5, 236.8 111.5 Q 236.8 110.4, 236.4 109.9 Q 235.9 109.3, 235.1 109.3 Q 234.3 109.3, 233.8 109.8 Q 233.4 110.4, 233.4 111.5 Q 233.4 112.6, 233.8 113.1 Q 234.3 113.7, 235.1 113.7 \" fill=\"#FF0000\"/>\n",
       "<path class=\"atom-19\" d=\"M 217.5 126.3 L 219.3 129.2 Q 219.5 129.5, 219.7 130.0 Q 220.0 130.5, 220.0 130.5 L 220.0 126.3 L 220.8 126.3 L 220.8 131.8 L 220.0 131.8 L 218.1 128.6 Q 217.9 128.2, 217.7 127.8 Q 217.4 127.4, 217.4 127.3 L 217.4 131.8 L 216.6 131.8 L 216.6 126.3 L 217.5 126.3 \" fill=\"#0000FF\"/>\n",
       "<path class=\"atom-19\" d=\"M 221.4 126.3 L 222.1 126.3 L 222.1 128.6 L 224.9 128.6 L 224.9 126.3 L 225.6 126.3 L 225.6 131.8 L 224.9 131.8 L 224.9 129.3 L 222.1 129.3 L 222.1 131.8 L 221.4 131.8 L 221.4 126.3 \" fill=\"#0000FF\"/>\n",
       "<path class=\"atom-19\" d=\"M 226.3 131.6 Q 226.4 131.2, 226.7 131.0 Q 227.1 130.9, 227.5 130.9 Q 228.0 130.9, 228.3 131.1 Q 228.6 131.4, 228.6 132.0 Q 228.6 132.5, 228.3 133.0 Q 227.9 133.5, 227.1 134.1 L 228.7 134.1 L 228.7 134.5 L 226.3 134.5 L 226.3 134.1 Q 227.0 133.7, 227.4 133.3 Q 227.8 132.9, 227.9 132.6 Q 228.1 132.3, 228.1 132.0 Q 228.1 131.6, 228.0 131.4 Q 227.8 131.3, 227.5 131.3 Q 227.2 131.3, 227.0 131.4 Q 226.8 131.5, 226.7 131.7 L 226.3 131.6 \" fill=\"#0000FF\"/>\n",
       "<path class=\"atom-23\" d=\"M 266.1 34.8 Q 266.1 33.5, 266.7 32.7 Q 267.3 32.0, 268.5 32.0 Q 269.7 32.0, 270.4 32.7 Q 271.0 33.5, 271.0 34.8 Q 271.0 36.1, 270.4 36.8 Q 269.7 37.6, 268.5 37.6 Q 267.3 37.6, 266.7 36.8 Q 266.1 36.1, 266.1 34.8 M 268.5 37.0 Q 269.4 37.0, 269.8 36.4 Q 270.3 35.9, 270.3 34.8 Q 270.3 33.7, 269.8 33.2 Q 269.4 32.6, 268.5 32.6 Q 267.7 32.6, 267.3 33.2 Q 266.8 33.7, 266.8 34.8 Q 266.8 35.9, 267.3 36.4 Q 267.7 37.0, 268.5 37.0 \" fill=\"#FF0000\"/>\n",
       "<path class=\"atom-24\" d=\"M 272.4 67.3 Q 272.4 66.0, 273.1 65.3 Q 273.7 64.6, 274.9 64.6 Q 276.1 64.6, 276.8 65.3 Q 277.4 66.0, 277.4 67.3 Q 277.4 68.6, 276.8 69.4 Q 276.1 70.1, 274.9 70.1 Q 273.7 70.1, 273.1 69.4 Q 272.4 68.7, 272.4 67.3 M 274.9 69.5 Q 275.8 69.5, 276.2 69.0 Q 276.6 68.4, 276.6 67.3 Q 276.6 66.3, 276.2 65.7 Q 275.8 65.2, 274.9 65.2 Q 274.1 65.2, 273.6 65.7 Q 273.2 66.3, 273.2 67.3 Q 273.2 68.4, 273.6 69.0 Q 274.1 69.5, 274.9 69.5 \" fill=\"#FF0000\"/>\n",
       "<path class=\"atom-32\" d=\"M 247.6 139.8 Q 247.6 138.5, 248.2 137.8 Q 248.9 137.1, 250.1 137.1 Q 251.3 137.1, 251.9 137.8 Q 252.6 138.5, 252.6 139.8 Q 252.6 141.1, 251.9 141.9 Q 251.3 142.6, 250.1 142.6 Q 248.9 142.6, 248.2 141.9 Q 247.6 141.1, 247.6 139.8 M 250.1 142.0 Q 250.9 142.0, 251.4 141.5 Q 251.8 140.9, 251.8 139.8 Q 251.8 138.7, 251.4 138.2 Q 250.9 137.7, 250.1 137.7 Q 249.3 137.7, 248.8 138.2 Q 248.4 138.7, 248.4 139.8 Q 248.4 140.9, 248.8 141.5 Q 249.3 142.0, 250.1 142.0 \" fill=\"#FF0000\"/>\n",
       "<path class=\"atom-33\" d=\"M 272.6 118.0 Q 272.6 116.7, 273.3 116.0 Q 273.9 115.2, 275.1 115.2 Q 276.3 115.2, 276.9 116.0 Q 277.6 116.7, 277.6 118.0 Q 277.6 119.3, 276.9 120.1 Q 276.3 120.8, 275.1 120.8 Q 273.9 120.8, 273.3 120.1 Q 272.6 119.3, 272.6 118.0 M 275.1 120.2 Q 275.9 120.2, 276.4 119.7 Q 276.8 119.1, 276.8 118.0 Q 276.8 116.9, 276.4 116.4 Q 275.9 115.9, 275.1 115.9 Q 274.3 115.9, 273.8 116.4 Q 273.4 116.9, 273.4 118.0 Q 273.4 119.1, 273.8 119.7 Q 274.3 120.2, 275.1 120.2 \" fill=\"#FF0000\"/>\n",
       "<path class=\"atom-38\" d=\"M 266.6 82.7 L 267.3 82.7 L 267.3 85.0 L 270.1 85.0 L 270.1 82.7 L 270.8 82.7 L 270.8 88.1 L 270.1 88.1 L 270.1 85.6 L 267.3 85.6 L 267.3 88.1 L 266.6 88.1 L 266.6 82.7 \" fill=\"#000000\"/>\n",
       "<path class=\"atom-0\" d=\"M 196.7,31.4 L 196.7,31.4 L 196.7,31.4 L 196.7,31.5 L 196.6,31.5 L 196.6,31.5 L 196.6,31.6 L 196.6,31.6 L 196.6,31.6 L 196.6,31.6 L 196.5,31.7 L 196.5,31.7 L 196.5,31.7 L 196.5,31.7 L 196.4,31.7 L 196.4,31.7 L 196.4,31.7 L 196.3,31.7 L 196.3,31.8 L 196.3,31.8 L 196.2,31.7 L 196.2,31.7 L 196.2,31.7 L 196.1,31.7 L 196.1,31.7 L 196.1,31.7 L 196.0,31.7 L 196.0,31.6 L 196.0,31.6 L 196.0,31.6 L 196.0,31.6 L 195.9,31.5 L 195.9,31.5 L 195.9,31.5 L 195.9,31.5 L 195.9,31.4 L 195.9,31.4 L 195.9,31.4 L 195.9,31.3 L 195.9,31.3 L 195.9,31.3 L 195.9,31.2 L 195.9,31.2 L 196.0,31.2 L 196.0,31.1 L 196.0,31.1 L 196.0,31.1 L 196.0,31.1 L 196.1,31.0 L 196.1,31.0 L 196.1,31.0 L 196.2,31.0 L 196.2,31.0 L 196.2,31.0 L 196.3,31.0 L 196.3,31.0 L 196.3,31.0 L 196.4,31.0 L 196.4,31.0 L 196.4,31.0 L 196.5,31.0 L 196.5,31.0 L 196.5,31.1 L 196.5,31.1 L 196.6,31.1 L 196.6,31.1 L 196.6,31.2 L 196.6,31.2 L 196.6,31.2 L 196.6,31.2 L 196.7,31.3 L 196.7,31.3 L 196.7,31.3 L 196.7,31.4 L 196.3,31.4 Z\" style=\"fill:#000000;fill-rule:evenodd;fill-opacity:1;stroke:#000000;stroke-width:0.0px;stroke-linecap:butt;stroke-linejoin:miter;stroke-opacity:1;\"/>\n",
       "<path class=\"atom-38\" d=\"M 272.4,85.4 L 272.4,85.5 L 272.4,85.5 L 272.4,85.5 L 272.3,85.6 L 272.3,85.6 L 272.3,85.6 L 272.3,85.6 L 272.3,85.7 L 272.3,85.7 L 272.2,85.7 L 272.2,85.7 L 272.2,85.8 L 272.2,85.8 L 272.1,85.8 L 272.1,85.8 L 272.1,85.8 L 272.0,85.8 L 272.0,85.8 L 272.0,85.8 L 271.9,85.8 L 271.9,85.8 L 271.9,85.8 L 271.8,85.8 L 271.8,85.8 L 271.8,85.8 L 271.8,85.7 L 271.7,85.7 L 271.7,85.7 L 271.7,85.7 L 271.7,85.6 L 271.6,85.6 L 271.6,85.6 L 271.6,85.5 L 271.6,85.5 L 271.6,85.5 L 271.6,85.4 L 271.6,85.4 L 271.6,85.4 L 271.6,85.4 L 271.6,85.3 L 271.6,85.3 L 271.6,85.3 L 271.7,85.2 L 271.7,85.2 L 271.7,85.2 L 271.7,85.2 L 271.8,85.1 L 271.8,85.1 L 271.8,85.1 L 271.8,85.1 L 271.9,85.1 L 271.9,85.1 L 271.9,85.1 L 272.0,85.1 L 272.0,85.0 L 272.0,85.1 L 272.1,85.1 L 272.1,85.1 L 272.1,85.1 L 272.2,85.1 L 272.2,85.1 L 272.2,85.1 L 272.2,85.1 L 272.3,85.2 L 272.3,85.2 L 272.3,85.2 L 272.3,85.2 L 272.3,85.3 L 272.3,85.3 L 272.4,85.3 L 272.4,85.4 L 272.4,85.4 L 272.4,85.4 L 272.0,85.4 Z\" style=\"fill:#000000;fill-rule:evenodd;fill-opacity:1;stroke:#000000;stroke-width:0.0px;stroke-linecap:butt;stroke-linejoin:miter;stroke-opacity:1;\"/>\n",
       "</svg>"
      ],
      "text/plain": [
       "<IPython.core.display.SVG object>"
      ]
     },
     "execution_count": 36,
     "metadata": {},
     "output_type": "execute_result"
    }
   ],
   "source": [
    "big = \"[H]{[>][>|75|]C([<|75|])CC(=O)OCCCC, [<|25|]C([>|25|])CC(=O)N[<]}|gauss(500,50)|[H].|500|\"\n",
    "big_smiles_gen(big)"
   ]
  },
  {
   "cell_type": "code",
   "execution_count": 37,
   "id": "3cf6c797",
   "metadata": {},
   "outputs": [
    {
     "data": {
      "image/svg+xml": [
       "<svg xmlns=\"http://www.w3.org/2000/svg\" xmlns:rdkit=\"http://www.rdkit.org/xml\" xmlns:xlink=\"http://www.w3.org/1999/xlink\" version=\"1.1\" baseProfile=\"full\" xml:space=\"preserve\" width=\"450px\" height=\"150px\" viewBox=\"0 0 450 150\">\n",
       "<!-- END OF HEADER -->\n",
       "<rect style=\"opacity:1.0;fill:#FFFFFF;stroke:none\" width=\"450.0\" height=\"150.0\" x=\"0.0\" y=\"0.0\"> </rect>\n",
       "<path class=\"bond-0 atom-1 atom-2\" d=\"M 223.2,127.3 L 233.7,117.9\" style=\"fill:none;fill-rule:evenodd;stroke:#000000;stroke-width:2.0px;stroke-linecap:butt;stroke-linejoin:miter;stroke-opacity:1\"/>\n",
       "<path class=\"bond-1 atom-2 atom-3\" d=\"M 233.7,117.9 L 247.1,122.3\" style=\"fill:none;fill-rule:evenodd;stroke:#000000;stroke-width:2.0px;stroke-linecap:butt;stroke-linejoin:miter;stroke-opacity:1\"/>\n",
       "<path class=\"bond-2 atom-3 atom-4\" d=\"M 248.5,122.0 L 249.7,127.6\" style=\"fill:none;fill-rule:evenodd;stroke:#000000;stroke-width:2.0px;stroke-linecap:butt;stroke-linejoin:miter;stroke-opacity:1\"/>\n",
       "<path class=\"bond-2 atom-3 atom-4\" d=\"M 249.7,127.6 L 250.9,133.2\" style=\"fill:none;fill-rule:evenodd;stroke:#FF0000;stroke-width:2.0px;stroke-linecap:butt;stroke-linejoin:miter;stroke-opacity:1\"/>\n",
       "<path class=\"bond-2 atom-3 atom-4\" d=\"M 245.7,122.6 L 246.9,128.2\" style=\"fill:none;fill-rule:evenodd;stroke:#000000;stroke-width:2.0px;stroke-linecap:butt;stroke-linejoin:miter;stroke-opacity:1\"/>\n",
       "<path class=\"bond-2 atom-3 atom-4\" d=\"M 246.9,128.2 L 248.1,133.8\" style=\"fill:none;fill-rule:evenodd;stroke:#FF0000;stroke-width:2.0px;stroke-linecap:butt;stroke-linejoin:miter;stroke-opacity:1\"/>\n",
       "<path class=\"bond-3 atom-3 atom-5\" d=\"M 247.1,122.3 L 251.2,118.6\" style=\"fill:none;fill-rule:evenodd;stroke:#000000;stroke-width:2.0px;stroke-linecap:butt;stroke-linejoin:miter;stroke-opacity:1\"/>\n",
       "<path class=\"bond-3 atom-3 atom-5\" d=\"M 251.2,118.6 L 255.2,115.0\" style=\"fill:none;fill-rule:evenodd;stroke:#FF0000;stroke-width:2.0px;stroke-linecap:butt;stroke-linejoin:miter;stroke-opacity:1\"/>\n",
       "<path class=\"bond-4 atom-5 atom-6\" d=\"M 260.0,113.6 L 265.5,115.4\" style=\"fill:none;fill-rule:evenodd;stroke:#FF0000;stroke-width:2.0px;stroke-linecap:butt;stroke-linejoin:miter;stroke-opacity:1\"/>\n",
       "<path class=\"bond-4 atom-5 atom-6\" d=\"M 265.5,115.4 L 271.0,117.2\" style=\"fill:none;fill-rule:evenodd;stroke:#000000;stroke-width:2.0px;stroke-linecap:butt;stroke-linejoin:miter;stroke-opacity:1\"/>\n",
       "<path class=\"bond-5 atom-6 atom-7\" d=\"M 271.0,117.2 L 281.6,107.8\" style=\"fill:none;fill-rule:evenodd;stroke:#000000;stroke-width:2.0px;stroke-linecap:butt;stroke-linejoin:miter;stroke-opacity:1\"/>\n",
       "<path class=\"bond-6 atom-7 atom-8\" d=\"M 281.6,107.8 L 295.0,112.2\" style=\"fill:none;fill-rule:evenodd;stroke:#000000;stroke-width:2.0px;stroke-linecap:butt;stroke-linejoin:miter;stroke-opacity:1\"/>\n",
       "<path class=\"bond-7 atom-8 atom-9\" d=\"M 295.0,112.2 L 305.5,102.8\" style=\"fill:none;fill-rule:evenodd;stroke:#000000;stroke-width:2.0px;stroke-linecap:butt;stroke-linejoin:miter;stroke-opacity:1\"/>\n",
       "<path class=\"bond-8 atom-0 atom-1\" d=\"M 225.6,138.5 L 223.2,127.3\" style=\"fill:none;fill-rule:evenodd;stroke:#000000;stroke-width:2.0px;stroke-linecap:butt;stroke-linejoin:miter;stroke-opacity:1\"/>\n",
       "<path class=\"bond-9 atom-10 atom-11\" d=\"M 209.8,122.9 L 199.3,132.3\" style=\"fill:none;fill-rule:evenodd;stroke:#000000;stroke-width:2.0px;stroke-linecap:butt;stroke-linejoin:miter;stroke-opacity:1\"/>\n",
       "<path class=\"bond-10 atom-11 atom-12\" d=\"M 199.3,132.3 L 185.9,127.9\" style=\"fill:none;fill-rule:evenodd;stroke:#000000;stroke-width:2.0px;stroke-linecap:butt;stroke-linejoin:miter;stroke-opacity:1\"/>\n",
       "<path class=\"bond-11 atom-12 atom-13\" d=\"M 186.8,129.0 L 182.8,132.6\" style=\"fill:none;fill-rule:evenodd;stroke:#000000;stroke-width:2.0px;stroke-linecap:butt;stroke-linejoin:miter;stroke-opacity:1\"/>\n",
       "<path class=\"bond-11 atom-12 atom-13\" d=\"M 182.8,132.6 L 178.7,136.3\" style=\"fill:none;fill-rule:evenodd;stroke:#FF0000;stroke-width:2.0px;stroke-linecap:butt;stroke-linejoin:miter;stroke-opacity:1\"/>\n",
       "<path class=\"bond-11 atom-12 atom-13\" d=\"M 184.9,126.9 L 180.9,130.5\" style=\"fill:none;fill-rule:evenodd;stroke:#000000;stroke-width:2.0px;stroke-linecap:butt;stroke-linejoin:miter;stroke-opacity:1\"/>\n",
       "<path class=\"bond-11 atom-12 atom-13\" d=\"M 180.9,130.5 L 176.8,134.2\" style=\"fill:none;fill-rule:evenodd;stroke:#FF0000;stroke-width:2.0px;stroke-linecap:butt;stroke-linejoin:miter;stroke-opacity:1\"/>\n",
       "<path class=\"bond-12 atom-12 atom-14\" d=\"M 185.9,127.9 L 184.7,122.4\" style=\"fill:none;fill-rule:evenodd;stroke:#000000;stroke-width:2.0px;stroke-linecap:butt;stroke-linejoin:miter;stroke-opacity:1\"/>\n",
       "<path class=\"bond-12 atom-12 atom-14\" d=\"M 184.7,122.4 L 183.5,116.8\" style=\"fill:none;fill-rule:evenodd;stroke:#FF0000;stroke-width:2.0px;stroke-linecap:butt;stroke-linejoin:miter;stroke-opacity:1\"/>\n",
       "<path class=\"bond-13 atom-14 atom-15\" d=\"M 180.6,113.3 L 175.1,111.5\" style=\"fill:none;fill-rule:evenodd;stroke:#FF0000;stroke-width:2.0px;stroke-linecap:butt;stroke-linejoin:miter;stroke-opacity:1\"/>\n",
       "<path class=\"bond-13 atom-14 atom-15\" d=\"M 175.1,111.5 L 169.5,109.7\" style=\"fill:none;fill-rule:evenodd;stroke:#000000;stroke-width:2.0px;stroke-linecap:butt;stroke-linejoin:miter;stroke-opacity:1\"/>\n",
       "<path class=\"bond-14 atom-15 atom-16\" d=\"M 169.5,109.7 L 166.6,95.9\" style=\"fill:none;fill-rule:evenodd;stroke:#000000;stroke-width:2.0px;stroke-linecap:butt;stroke-linejoin:miter;stroke-opacity:1\"/>\n",
       "<path class=\"bond-15 atom-16 atom-17\" d=\"M 166.6,95.9 L 153.2,91.5\" style=\"fill:none;fill-rule:evenodd;stroke:#000000;stroke-width:2.0px;stroke-linecap:butt;stroke-linejoin:miter;stroke-opacity:1\"/>\n",
       "<path class=\"bond-16 atom-17 atom-18\" d=\"M 153.2,91.5 L 150.3,77.7\" style=\"fill:none;fill-rule:evenodd;stroke:#000000;stroke-width:2.0px;stroke-linecap:butt;stroke-linejoin:miter;stroke-opacity:1\"/>\n",
       "<path class=\"bond-17 atom-1 atom-10\" d=\"M 223.2,127.3 L 209.8,122.9\" style=\"fill:none;fill-rule:evenodd;stroke:#000000;stroke-width:2.0px;stroke-linecap:butt;stroke-linejoin:miter;stroke-opacity:1\"/>\n",
       "<path class=\"bond-18 atom-19 atom-20\" d=\"M 206.9,109.1 L 193.5,104.7\" style=\"fill:none;fill-rule:evenodd;stroke:#000000;stroke-width:2.0px;stroke-linecap:butt;stroke-linejoin:miter;stroke-opacity:1\"/>\n",
       "<path class=\"bond-19 atom-20 atom-21\" d=\"M 193.5,104.7 L 190.6,90.9\" style=\"fill:none;fill-rule:evenodd;stroke:#000000;stroke-width:2.0px;stroke-linecap:butt;stroke-linejoin:miter;stroke-opacity:1\"/>\n",
       "<path class=\"bond-20 atom-21 atom-22\" d=\"M 189.5,90.0 L 191.4,87.8\" style=\"fill:none;fill-rule:evenodd;stroke:#000000;stroke-width:2.0px;stroke-linecap:butt;stroke-linejoin:miter;stroke-opacity:1\"/>\n",
       "<path class=\"bond-20 atom-21 atom-22\" d=\"M 191.4,87.8 L 193.3,85.7\" style=\"fill:none;fill-rule:evenodd;stroke:#FF0000;stroke-width:2.0px;stroke-linecap:butt;stroke-linejoin:miter;stroke-opacity:1\"/>\n",
       "<path class=\"bond-20 atom-21 atom-22\" d=\"M 191.6,91.8 L 193.5,89.7\" style=\"fill:none;fill-rule:evenodd;stroke:#000000;stroke-width:2.0px;stroke-linecap:butt;stroke-linejoin:miter;stroke-opacity:1\"/>\n",
       "<path class=\"bond-20 atom-21 atom-22\" d=\"M 193.5,89.7 L 195.4,87.5\" style=\"fill:none;fill-rule:evenodd;stroke:#FF0000;stroke-width:2.0px;stroke-linecap:butt;stroke-linejoin:miter;stroke-opacity:1\"/>\n",
       "<path class=\"bond-21 atom-21 atom-23\" d=\"M 190.6,90.9 L 185.1,89.1\" style=\"fill:none;fill-rule:evenodd;stroke:#000000;stroke-width:2.0px;stroke-linecap:butt;stroke-linejoin:miter;stroke-opacity:1\"/>\n",
       "<path class=\"bond-21 atom-21 atom-23\" d=\"M 185.1,89.1 L 179.6,87.3\" style=\"fill:none;fill-rule:evenodd;stroke:#FF0000;stroke-width:2.0px;stroke-linecap:butt;stroke-linejoin:miter;stroke-opacity:1\"/>\n",
       "<path class=\"bond-22 atom-23 atom-24\" d=\"M 176.6,83.9 L 175.4,78.3\" style=\"fill:none;fill-rule:evenodd;stroke:#FF0000;stroke-width:2.0px;stroke-linecap:butt;stroke-linejoin:miter;stroke-opacity:1\"/>\n",
       "<path class=\"bond-22 atom-23 atom-24\" d=\"M 175.4,78.3 L 174.3,72.7\" style=\"fill:none;fill-rule:evenodd;stroke:#000000;stroke-width:2.0px;stroke-linecap:butt;stroke-linejoin:miter;stroke-opacity:1\"/>\n",
       "<path class=\"bond-23 atom-24 atom-25\" d=\"M 174.3,72.7 L 160.8,68.3\" style=\"fill:none;fill-rule:evenodd;stroke:#000000;stroke-width:2.0px;stroke-linecap:butt;stroke-linejoin:miter;stroke-opacity:1\"/>\n",
       "<path class=\"bond-24 atom-25 atom-26\" d=\"M 160.8,68.3 L 157.9,54.5\" style=\"fill:none;fill-rule:evenodd;stroke:#000000;stroke-width:2.0px;stroke-linecap:butt;stroke-linejoin:miter;stroke-opacity:1\"/>\n",
       "<path class=\"bond-25 atom-26 atom-27\" d=\"M 157.9,54.5 L 144.5,50.1\" style=\"fill:none;fill-rule:evenodd;stroke:#000000;stroke-width:2.0px;stroke-linecap:butt;stroke-linejoin:miter;stroke-opacity:1\"/>\n",
       "<path class=\"bond-26 atom-10 atom-19\" d=\"M 209.8,122.9 L 206.9,109.1\" style=\"fill:none;fill-rule:evenodd;stroke:#000000;stroke-width:2.0px;stroke-linecap:butt;stroke-linejoin:miter;stroke-opacity:1\"/>\n",
       "<path class=\"bond-27 atom-28 atom-29\" d=\"M 217.4,99.7 L 230.8,104.1\" style=\"fill:none;fill-rule:evenodd;stroke:#000000;stroke-width:2.0px;stroke-linecap:butt;stroke-linejoin:miter;stroke-opacity:1\"/>\n",
       "<path class=\"bond-28 atom-29 atom-30\" d=\"M 230.8,104.1 L 241.3,94.7\" style=\"fill:none;fill-rule:evenodd;stroke:#000000;stroke-width:2.0px;stroke-linecap:butt;stroke-linejoin:miter;stroke-opacity:1\"/>\n",
       "<path class=\"bond-29 atom-30 atom-31\" d=\"M 241.8,93.3 L 247.3,95.1\" style=\"fill:none;fill-rule:evenodd;stroke:#000000;stroke-width:2.0px;stroke-linecap:butt;stroke-linejoin:miter;stroke-opacity:1\"/>\n",
       "<path class=\"bond-29 atom-30 atom-31\" d=\"M 247.3,95.1 L 252.8,96.9\" style=\"fill:none;fill-rule:evenodd;stroke:#FF0000;stroke-width:2.0px;stroke-linecap:butt;stroke-linejoin:miter;stroke-opacity:1\"/>\n",
       "<path class=\"bond-29 atom-30 atom-31\" d=\"M 240.9,96.0 L 246.4,97.8\" style=\"fill:none;fill-rule:evenodd;stroke:#000000;stroke-width:2.0px;stroke-linecap:butt;stroke-linejoin:miter;stroke-opacity:1\"/>\n",
       "<path class=\"bond-29 atom-30 atom-31\" d=\"M 246.4,97.8 L 251.9,99.6\" style=\"fill:none;fill-rule:evenodd;stroke:#FF0000;stroke-width:2.0px;stroke-linecap:butt;stroke-linejoin:miter;stroke-opacity:1\"/>\n",
       "<path class=\"bond-30 atom-30 atom-32\" d=\"M 241.3,94.7 L 240.1,89.1\" style=\"fill:none;fill-rule:evenodd;stroke:#000000;stroke-width:2.0px;stroke-linecap:butt;stroke-linejoin:miter;stroke-opacity:1\"/>\n",
       "<path class=\"bond-30 atom-30 atom-32\" d=\"M 240.1,89.1 L 239.0,83.5\" style=\"fill:none;fill-rule:evenodd;stroke:#FF0000;stroke-width:2.0px;stroke-linecap:butt;stroke-linejoin:miter;stroke-opacity:1\"/>\n",
       "<path class=\"bond-31 atom-32 atom-33\" d=\"M 240.8,78.7 L 244.9,75.1\" style=\"fill:none;fill-rule:evenodd;stroke:#FF0000;stroke-width:2.0px;stroke-linecap:butt;stroke-linejoin:miter;stroke-opacity:1\"/>\n",
       "<path class=\"bond-31 atom-32 atom-33\" d=\"M 244.9,75.1 L 248.9,71.4\" style=\"fill:none;fill-rule:evenodd;stroke:#000000;stroke-width:2.0px;stroke-linecap:butt;stroke-linejoin:miter;stroke-opacity:1\"/>\n",
       "<path class=\"bond-32 atom-33 atom-34\" d=\"M 248.9,71.4 L 246.0,57.6\" style=\"fill:none;fill-rule:evenodd;stroke:#000000;stroke-width:2.0px;stroke-linecap:butt;stroke-linejoin:miter;stroke-opacity:1\"/>\n",
       "<path class=\"bond-33 atom-34 atom-35\" d=\"M 246.0,57.6 L 256.5,48.2\" style=\"fill:none;fill-rule:evenodd;stroke:#000000;stroke-width:2.0px;stroke-linecap:butt;stroke-linejoin:miter;stroke-opacity:1\"/>\n",
       "<path class=\"bond-34 atom-35 atom-36\" d=\"M 256.5,48.2 L 253.6,34.4\" style=\"fill:none;fill-rule:evenodd;stroke:#000000;stroke-width:2.0px;stroke-linecap:butt;stroke-linejoin:miter;stroke-opacity:1\"/>\n",
       "<path class=\"bond-35 atom-19 atom-28\" d=\"M 206.9,109.1 L 217.4,99.7\" style=\"fill:none;fill-rule:evenodd;stroke:#000000;stroke-width:2.0px;stroke-linecap:butt;stroke-linejoin:miter;stroke-opacity:1\"/>\n",
       "<path class=\"bond-36 atom-37 atom-38\" d=\"M 214.5,85.9 L 225.0,76.5\" style=\"fill:none;fill-rule:evenodd;stroke:#000000;stroke-width:2.0px;stroke-linecap:butt;stroke-linejoin:miter;stroke-opacity:1\"/>\n",
       "<path class=\"bond-37 atom-38 atom-39\" d=\"M 225.0,76.5 L 222.1,62.6\" style=\"fill:none;fill-rule:evenodd;stroke:#000000;stroke-width:2.0px;stroke-linecap:butt;stroke-linejoin:miter;stroke-opacity:1\"/>\n",
       "<path class=\"bond-38 atom-39 atom-40\" d=\"M 221.7,64.0 L 216.2,62.2\" style=\"fill:none;fill-rule:evenodd;stroke:#000000;stroke-width:2.0px;stroke-linecap:butt;stroke-linejoin:miter;stroke-opacity:1\"/>\n",
       "<path class=\"bond-38 atom-39 atom-40\" d=\"M 216.2,62.2 L 210.7,60.4\" style=\"fill:none;fill-rule:evenodd;stroke:#FF0000;stroke-width:2.0px;stroke-linecap:butt;stroke-linejoin:miter;stroke-opacity:1\"/>\n",
       "<path class=\"bond-38 atom-39 atom-40\" d=\"M 222.5,61.3 L 217.0,59.5\" style=\"fill:none;fill-rule:evenodd;stroke:#000000;stroke-width:2.0px;stroke-linecap:butt;stroke-linejoin:miter;stroke-opacity:1\"/>\n",
       "<path class=\"bond-38 atom-39 atom-40\" d=\"M 217.0,59.5 L 211.5,57.7\" style=\"fill:none;fill-rule:evenodd;stroke:#FF0000;stroke-width:2.0px;stroke-linecap:butt;stroke-linejoin:miter;stroke-opacity:1\"/>\n",
       "<path class=\"bond-39 atom-39 atom-41\" d=\"M 222.1,62.6 L 226.1,59.0\" style=\"fill:none;fill-rule:evenodd;stroke:#000000;stroke-width:2.0px;stroke-linecap:butt;stroke-linejoin:miter;stroke-opacity:1\"/>\n",
       "<path class=\"bond-39 atom-39 atom-41\" d=\"M 226.1,59.0 L 230.2,55.4\" style=\"fill:none;fill-rule:evenodd;stroke:#FF0000;stroke-width:2.0px;stroke-linecap:butt;stroke-linejoin:miter;stroke-opacity:1\"/>\n",
       "<path class=\"bond-40 atom-41 atom-42\" d=\"M 232.1,50.6 L 230.9,45.0\" style=\"fill:none;fill-rule:evenodd;stroke:#FF0000;stroke-width:2.0px;stroke-linecap:butt;stroke-linejoin:miter;stroke-opacity:1\"/>\n",
       "<path class=\"bond-40 atom-41 atom-42\" d=\"M 230.9,45.0 L 229.7,39.4\" style=\"fill:none;fill-rule:evenodd;stroke:#000000;stroke-width:2.0px;stroke-linecap:butt;stroke-linejoin:miter;stroke-opacity:1\"/>\n",
       "<path class=\"bond-41 atom-42 atom-43\" d=\"M 229.7,39.4 L 240.2,30.0\" style=\"fill:none;fill-rule:evenodd;stroke:#000000;stroke-width:2.0px;stroke-linecap:butt;stroke-linejoin:miter;stroke-opacity:1\"/>\n",
       "<path class=\"bond-42 atom-43 atom-44\" d=\"M 240.2,30.0 L 237.3,16.2\" style=\"fill:none;fill-rule:evenodd;stroke:#000000;stroke-width:2.0px;stroke-linecap:butt;stroke-linejoin:miter;stroke-opacity:1\"/>\n",
       "<path class=\"bond-43 atom-44 atom-45\" d=\"M 237.3,16.2 L 247.8,6.8\" style=\"fill:none;fill-rule:evenodd;stroke:#000000;stroke-width:2.0px;stroke-linecap:butt;stroke-linejoin:miter;stroke-opacity:1\"/>\n",
       "<path class=\"bond-44 atom-28 atom-37\" d=\"M 217.4,99.7 L 214.5,85.9\" style=\"fill:none;fill-rule:evenodd;stroke:#000000;stroke-width:2.0px;stroke-linecap:butt;stroke-linejoin:miter;stroke-opacity:1\"/>\n",
       "<path class=\"bond-45 atom-37 atom-46\" d=\"M 214.5,85.9 L 208.2,82.9\" style=\"fill:none;fill-rule:evenodd;stroke:#000000;stroke-width:2.0px;stroke-linecap:butt;stroke-linejoin:miter;stroke-opacity:1\"/>\n",
       "<path class=\"atom-0\" d=\"M 224.4 139.0 L 225.0 139.0 L 225.0 140.8 L 227.2 140.8 L 227.2 139.0 L 227.8 139.0 L 227.8 143.2 L 227.2 143.2 L 227.2 141.3 L 225.0 141.3 L 225.0 143.2 L 224.4 143.2 L 224.4 139.0 \" fill=\"#000000\"/>\n",
       "<path class=\"atom-4\" d=\"M 248.1 136.1 Q 248.1 135.1, 248.6 134.5 Q 249.1 133.9, 250.0 133.9 Q 251.0 133.9, 251.5 134.5 Q 252.0 135.1, 252.0 136.1 Q 252.0 137.1, 251.5 137.7 Q 251.0 138.3, 250.0 138.3 Q 249.1 138.3, 248.6 137.7 Q 248.1 137.1, 248.1 136.1 M 250.0 137.8 Q 250.7 137.8, 251.0 137.4 Q 251.4 137.0, 251.4 136.1 Q 251.4 135.3, 251.0 134.8 Q 250.7 134.4, 250.0 134.4 Q 249.4 134.4, 249.0 134.8 Q 248.7 135.3, 248.7 136.1 Q 248.7 137.0, 249.0 137.4 Q 249.4 137.8, 250.0 137.8 \" fill=\"#FF0000\"/>\n",
       "<path class=\"atom-5\" d=\"M 255.7 112.9 Q 255.7 111.9, 256.2 111.3 Q 256.7 110.7, 257.6 110.7 Q 258.6 110.7, 259.1 111.3 Q 259.6 111.9, 259.6 112.9 Q 259.6 113.9, 259.1 114.5 Q 258.6 115.1, 257.6 115.1 Q 256.7 115.1, 256.2 114.5 Q 255.7 113.9, 255.7 112.9 M 257.6 114.6 Q 258.3 114.6, 258.6 114.2 Q 259.0 113.7, 259.0 112.9 Q 259.0 112.0, 258.6 111.6 Q 258.3 111.2, 257.6 111.2 Q 257.0 111.2, 256.6 111.6 Q 256.3 112.0, 256.3 112.9 Q 256.3 113.7, 256.6 114.2 Q 257.0 114.6, 257.6 114.6 \" fill=\"#FF0000\"/>\n",
       "<path class=\"atom-13\" d=\"M 173.4 137.4 Q 173.4 136.4, 173.9 135.8 Q 174.4 135.2, 175.4 135.2 Q 176.3 135.2, 176.8 135.8 Q 177.3 136.4, 177.3 137.4 Q 177.3 138.4, 176.8 139.0 Q 176.3 139.6, 175.4 139.6 Q 174.4 139.6, 173.9 139.0 Q 173.4 138.4, 173.4 137.4 M 175.4 139.1 Q 176.0 139.1, 176.4 138.7 Q 176.7 138.2, 176.7 137.4 Q 176.7 136.5, 176.4 136.1 Q 176.0 135.7, 175.4 135.7 Q 174.7 135.7, 174.4 136.1 Q 174.0 136.5, 174.0 137.4 Q 174.0 138.2, 174.4 138.7 Q 174.7 139.1, 175.4 139.1 \" fill=\"#FF0000\"/>\n",
       "<path class=\"atom-14\" d=\"M 181.0 114.1 Q 181.0 113.1, 181.5 112.6 Q 182.0 112.0, 183.0 112.0 Q 183.9 112.0, 184.4 112.6 Q 184.9 113.1, 184.9 114.1 Q 184.9 115.2, 184.4 115.8 Q 183.9 116.3, 183.0 116.3 Q 182.0 116.3, 181.5 115.8 Q 181.0 115.2, 181.0 114.1 M 183.0 115.9 Q 183.6 115.9, 184.0 115.4 Q 184.3 115.0, 184.3 114.1 Q 184.3 113.3, 184.0 112.9 Q 183.6 112.5, 183.0 112.5 Q 182.3 112.5, 182.0 112.9 Q 181.6 113.3, 181.6 114.1 Q 181.6 115.0, 182.0 115.4 Q 182.3 115.9, 183.0 115.9 \" fill=\"#FF0000\"/>\n",
       "<path class=\"atom-22\" d=\"M 194.7 83.9 Q 194.7 82.9, 195.2 82.3 Q 195.7 81.8, 196.7 81.8 Q 197.6 81.8, 198.1 82.3 Q 198.6 82.9, 198.6 83.9 Q 198.6 85.0, 198.1 85.6 Q 197.6 86.1, 196.7 86.1 Q 195.7 86.1, 195.2 85.6 Q 194.7 85.0, 194.7 83.9 M 196.7 85.7 Q 197.3 85.7, 197.7 85.2 Q 198.0 84.8, 198.0 83.9 Q 198.0 83.1, 197.7 82.7 Q 197.3 82.3, 196.7 82.3 Q 196.0 82.3, 195.7 82.7 Q 195.3 83.1, 195.3 83.9 Q 195.3 84.8, 195.7 85.2 Q 196.0 85.7, 196.7 85.7 \" fill=\"#FF0000\"/>\n",
       "<path class=\"atom-23\" d=\"M 175.2 86.5 Q 175.2 85.5, 175.7 84.9 Q 176.2 84.4, 177.2 84.4 Q 178.1 84.4, 178.6 84.9 Q 179.1 85.5, 179.1 86.5 Q 179.1 87.6, 178.6 88.1 Q 178.1 88.7, 177.2 88.7 Q 176.2 88.7, 175.7 88.1 Q 175.2 87.6, 175.2 86.5 M 177.2 88.2 Q 177.8 88.2, 178.2 87.8 Q 178.5 87.4, 178.5 86.5 Q 178.5 85.7, 178.2 85.3 Q 177.8 84.8, 177.2 84.8 Q 176.5 84.8, 176.2 85.3 Q 175.8 85.7, 175.8 86.5 Q 175.8 87.4, 176.2 87.8 Q 176.5 88.2, 177.2 88.2 \" fill=\"#FF0000\"/>\n",
       "<path class=\"atom-31\" d=\"M 252.8 99.1 Q 252.8 98.0, 253.3 97.5 Q 253.8 96.9, 254.7 96.9 Q 255.7 96.9, 256.2 97.5 Q 256.7 98.0, 256.7 99.1 Q 256.7 100.1, 256.2 100.7 Q 255.7 101.3, 254.7 101.3 Q 253.8 101.3, 253.3 100.7 Q 252.8 100.1, 252.8 99.1 M 254.7 100.8 Q 255.4 100.8, 255.7 100.3 Q 256.1 99.9, 256.1 99.1 Q 256.1 98.2, 255.7 97.8 Q 255.4 97.4, 254.7 97.4 Q 254.1 97.4, 253.7 97.8 Q 253.4 98.2, 253.4 99.1 Q 253.4 99.9, 253.7 100.3 Q 254.1 100.8, 254.7 100.8 \" fill=\"#FF0000\"/>\n",
       "<path class=\"atom-32\" d=\"M 236.5 80.9 Q 236.5 79.8, 237.0 79.3 Q 237.5 78.7, 238.4 78.7 Q 239.4 78.7, 239.9 79.3 Q 240.4 79.8, 240.4 80.9 Q 240.4 81.9, 239.9 82.5 Q 239.3 83.1, 238.4 83.1 Q 237.5 83.1, 237.0 82.5 Q 236.5 81.9, 236.5 80.9 M 238.4 82.6 Q 239.1 82.6, 239.4 82.1 Q 239.8 81.7, 239.8 80.9 Q 239.8 80.0, 239.4 79.6 Q 239.1 79.2, 238.4 79.2 Q 237.8 79.2, 237.4 79.6 Q 237.1 80.0, 237.1 80.9 Q 237.1 81.7, 237.4 82.1 Q 237.8 82.6, 238.4 82.6 \" fill=\"#FF0000\"/>\n",
       "<path class=\"atom-40\" d=\"M 206.7 58.3 Q 206.7 57.2, 207.2 56.7 Q 207.7 56.1, 208.7 56.1 Q 209.6 56.1, 210.1 56.7 Q 210.6 57.2, 210.6 58.3 Q 210.6 59.3, 210.1 59.9 Q 209.6 60.5, 208.7 60.5 Q 207.7 60.5, 207.2 59.9 Q 206.7 59.3, 206.7 58.3 M 208.7 60.0 Q 209.3 60.0, 209.7 59.6 Q 210.0 59.1, 210.0 58.3 Q 210.0 57.4, 209.7 57.0 Q 209.3 56.6, 208.7 56.6 Q 208.0 56.6, 207.7 57.0 Q 207.3 57.4, 207.3 58.3 Q 207.3 59.1, 207.7 59.6 Q 208.0 60.0, 208.7 60.0 \" fill=\"#FF0000\"/>\n",
       "<path class=\"atom-41\" d=\"M 230.7 53.2 Q 230.7 52.2, 231.2 51.6 Q 231.7 51.1, 232.6 51.1 Q 233.5 51.1, 234.1 51.6 Q 234.6 52.2, 234.6 53.2 Q 234.6 54.3, 234.0 54.9 Q 233.5 55.4, 232.6 55.4 Q 231.7 55.4, 231.2 54.9 Q 230.7 54.3, 230.7 53.2 M 232.6 55.0 Q 233.3 55.0, 233.6 54.5 Q 234.0 54.1, 234.0 53.2 Q 234.0 52.4, 233.6 52.0 Q 233.3 51.6, 232.6 51.6 Q 232.0 51.6, 231.6 52.0 Q 231.3 52.4, 231.3 53.2 Q 231.3 54.1, 231.6 54.5 Q 232.0 55.0, 232.6 55.0 \" fill=\"#FF0000\"/>\n",
       "<path class=\"atom-46\" d=\"M 204.4 79.8 L 205.0 79.8 L 205.0 81.6 L 207.2 81.6 L 207.2 79.8 L 207.8 79.8 L 207.8 84.1 L 207.2 84.1 L 207.2 82.1 L 205.0 82.1 L 205.0 84.1 L 204.4 84.1 L 204.4 79.8 \" fill=\"#000000\"/>\n",
       "<path class=\"atom-0\" d=\"M 229.0,141.1 L 229.0,141.1 L 229.0,141.2 L 229.0,141.2 L 229.0,141.2 L 228.9,141.2 L 228.9,141.3 L 228.9,141.3 L 228.9,141.3 L 228.9,141.3 L 228.9,141.3 L 228.8,141.4 L 228.8,141.4 L 228.8,141.4 L 228.8,141.4 L 228.8,141.4 L 228.7,141.4 L 228.7,141.4 L 228.7,141.4 L 228.6,141.4 L 228.6,141.4 L 228.6,141.4 L 228.6,141.4 L 228.5,141.4 L 228.5,141.4 L 228.5,141.4 L 228.5,141.4 L 228.5,141.3 L 228.4,141.3 L 228.4,141.3 L 228.4,141.3 L 228.4,141.3 L 228.4,141.2 L 228.4,141.2 L 228.4,141.2 L 228.4,141.2 L 228.4,141.1 L 228.4,141.1 L 228.4,141.1 L 228.4,141.1 L 228.4,141.0 L 228.4,141.0 L 228.4,141.0 L 228.4,141.0 L 228.4,140.9 L 228.4,140.9 L 228.5,140.9 L 228.5,140.9 L 228.5,140.9 L 228.5,140.9 L 228.5,140.8 L 228.6,140.8 L 228.6,140.8 L 228.6,140.8 L 228.6,140.8 L 228.7,140.8 L 228.7,140.8 L 228.7,140.8 L 228.8,140.8 L 228.8,140.8 L 228.8,140.9 L 228.8,140.9 L 228.8,140.9 L 228.9,140.9 L 228.9,140.9 L 228.9,140.9 L 228.9,141.0 L 228.9,141.0 L 228.9,141.0 L 229.0,141.0 L 229.0,141.0 L 229.0,141.1 L 229.0,141.1 L 229.0,141.1 L 228.7,141.1 Z\" style=\"fill:#000000;fill-rule:evenodd;fill-opacity:1;stroke:#000000;stroke-width:0.0px;stroke-linecap:butt;stroke-linejoin:miter;stroke-opacity:1;\"/>\n",
       "<path class=\"atom-46\" d=\"M 203.8,81.9 L 203.8,82.0 L 203.8,82.0 L 203.8,82.0 L 203.8,82.0 L 203.8,82.1 L 203.8,82.1 L 203.8,82.1 L 203.8,82.1 L 203.8,82.2 L 203.7,82.2 L 203.7,82.2 L 203.7,82.2 L 203.7,82.2 L 203.7,82.2 L 203.6,82.2 L 203.6,82.2 L 203.6,82.2 L 203.6,82.2 L 203.5,82.2 L 203.5,82.2 L 203.5,82.2 L 203.4,82.2 L 203.4,82.2 L 203.4,82.2 L 203.4,82.2 L 203.4,82.2 L 203.3,82.2 L 203.3,82.1 L 203.3,82.1 L 203.3,82.1 L 203.3,82.1 L 203.3,82.1 L 203.3,82.0 L 203.3,82.0 L 203.2,82.0 L 203.2,82.0 L 203.2,81.9 L 203.2,81.9 L 203.3,81.9 L 203.3,81.9 L 203.3,81.8 L 203.3,81.8 L 203.3,81.8 L 203.3,81.8 L 203.3,81.7 L 203.3,81.7 L 203.4,81.7 L 203.4,81.7 L 203.4,81.7 L 203.4,81.7 L 203.4,81.7 L 203.5,81.6 L 203.5,81.6 L 203.5,81.6 L 203.6,81.6 L 203.6,81.6 L 203.6,81.6 L 203.6,81.7 L 203.7,81.7 L 203.7,81.7 L 203.7,81.7 L 203.7,81.7 L 203.7,81.7 L 203.8,81.7 L 203.8,81.8 L 203.8,81.8 L 203.8,81.8 L 203.8,81.8 L 203.8,81.8 L 203.8,81.9 L 203.8,81.9 L 203.8,81.9 L 203.8,81.9 L 203.5,81.9 Z\" style=\"fill:#000000;fill-rule:evenodd;fill-opacity:1;stroke:#000000;stroke-width:0.0px;stroke-linecap:butt;stroke-linejoin:miter;stroke-opacity:1;\"/>\n",
       "</svg>"
      ],
      "text/plain": [
       "<IPython.core.display.SVG object>"
      ]
     },
     "execution_count": 37,
     "metadata": {},
     "output_type": "execute_result"
    }
   ],
   "source": [
    "big_smiles_gen(big)"
   ]
  },
  {
   "cell_type": "code",
   "execution_count": 38,
   "id": "51286716",
   "metadata": {},
   "outputs": [
    {
     "data": {
      "image/svg+xml": [
       "<svg xmlns=\"http://www.w3.org/2000/svg\" xmlns:rdkit=\"http://www.rdkit.org/xml\" xmlns:xlink=\"http://www.w3.org/1999/xlink\" version=\"1.1\" baseProfile=\"full\" xml:space=\"preserve\" width=\"450px\" height=\"150px\" viewBox=\"0 0 450 150\">\n",
       "<!-- END OF HEADER -->\n",
       "<rect style=\"opacity:1.0;fill:#FFFFFF;stroke:none\" width=\"450.0\" height=\"150.0\" x=\"0.0\" y=\"0.0\"> </rect>\n",
       "<path class=\"bond-0 atom-1 atom-2\" d=\"M 232.8,119.9 L 243.1,107.0\" style=\"fill:none;fill-rule:evenodd;stroke:#000000;stroke-width:2.0px;stroke-linecap:butt;stroke-linejoin:miter;stroke-opacity:1\"/>\n",
       "<path class=\"bond-1 atom-2 atom-3\" d=\"M 243.1,107.0 L 259.4,109.5\" style=\"fill:none;fill-rule:evenodd;stroke:#000000;stroke-width:2.0px;stroke-linecap:butt;stroke-linejoin:miter;stroke-opacity:1\"/>\n",
       "<path class=\"bond-2 atom-3 atom-4\" d=\"M 260.9,108.9 L 263.4,115.1\" style=\"fill:none;fill-rule:evenodd;stroke:#000000;stroke-width:2.0px;stroke-linecap:butt;stroke-linejoin:miter;stroke-opacity:1\"/>\n",
       "<path class=\"bond-2 atom-3 atom-4\" d=\"M 263.4,115.1 L 265.8,121.3\" style=\"fill:none;fill-rule:evenodd;stroke:#FF0000;stroke-width:2.0px;stroke-linecap:butt;stroke-linejoin:miter;stroke-opacity:1\"/>\n",
       "<path class=\"bond-2 atom-3 atom-4\" d=\"M 257.8,110.1 L 260.3,116.3\" style=\"fill:none;fill-rule:evenodd;stroke:#000000;stroke-width:2.0px;stroke-linecap:butt;stroke-linejoin:miter;stroke-opacity:1\"/>\n",
       "<path class=\"bond-2 atom-3 atom-4\" d=\"M 260.3,116.3 L 262.7,122.5\" style=\"fill:none;fill-rule:evenodd;stroke:#FF0000;stroke-width:2.0px;stroke-linecap:butt;stroke-linejoin:miter;stroke-opacity:1\"/>\n",
       "<path class=\"bond-3 atom-3 atom-5\" d=\"M 259.4,109.5 L 263.3,104.5\" style=\"fill:none;fill-rule:evenodd;stroke:#000000;stroke-width:2.0px;stroke-linecap:butt;stroke-linejoin:miter;stroke-opacity:1\"/>\n",
       "<path class=\"bond-3 atom-3 atom-5\" d=\"M 263.3,104.5 L 267.3,99.5\" style=\"fill:none;fill-rule:evenodd;stroke:#FF0000;stroke-width:2.0px;stroke-linecap:butt;stroke-linejoin:miter;stroke-opacity:1\"/>\n",
       "<path class=\"bond-4 atom-5 atom-6\" d=\"M 272.4,97.0 L 279.2,98.0\" style=\"fill:none;fill-rule:evenodd;stroke:#FF0000;stroke-width:2.0px;stroke-linecap:butt;stroke-linejoin:miter;stroke-opacity:1\"/>\n",
       "<path class=\"bond-4 atom-5 atom-6\" d=\"M 279.2,98.0 L 286.0,99.0\" style=\"fill:none;fill-rule:evenodd;stroke:#000000;stroke-width:2.0px;stroke-linecap:butt;stroke-linejoin:miter;stroke-opacity:1\"/>\n",
       "<path class=\"bond-5 atom-6 atom-7\" d=\"M 286.0,99.0 L 296.3,86.1\" style=\"fill:none;fill-rule:evenodd;stroke:#000000;stroke-width:2.0px;stroke-linecap:butt;stroke-linejoin:miter;stroke-opacity:1\"/>\n",
       "<path class=\"bond-6 atom-7 atom-8\" d=\"M 296.3,86.1 L 312.6,88.6\" style=\"fill:none;fill-rule:evenodd;stroke:#000000;stroke-width:2.0px;stroke-linecap:butt;stroke-linejoin:miter;stroke-opacity:1\"/>\n",
       "<path class=\"bond-7 atom-8 atom-9\" d=\"M 312.6,88.6 L 322.9,75.7\" style=\"fill:none;fill-rule:evenodd;stroke:#000000;stroke-width:2.0px;stroke-linecap:butt;stroke-linejoin:miter;stroke-opacity:1\"/>\n",
       "<path class=\"bond-8 atom-0 atom-1\" d=\"M 237.7,132.4 L 232.8,119.9\" style=\"fill:none;fill-rule:evenodd;stroke:#000000;stroke-width:2.0px;stroke-linecap:butt;stroke-linejoin:miter;stroke-opacity:1\"/>\n",
       "<path class=\"bond-9 atom-10 atom-11\" d=\"M 216.4,117.4 L 206.1,130.3\" style=\"fill:none;fill-rule:evenodd;stroke:#000000;stroke-width:2.0px;stroke-linecap:butt;stroke-linejoin:miter;stroke-opacity:1\"/>\n",
       "<path class=\"bond-10 atom-11 atom-12\" d=\"M 206.1,130.3 L 189.8,127.8\" style=\"fill:none;fill-rule:evenodd;stroke:#000000;stroke-width:2.0px;stroke-linecap:butt;stroke-linejoin:miter;stroke-opacity:1\"/>\n",
       "<path class=\"bond-11 atom-12 atom-13\" d=\"M 191.1,128.9 L 187.1,133.9\" style=\"fill:none;fill-rule:evenodd;stroke:#000000;stroke-width:2.0px;stroke-linecap:butt;stroke-linejoin:miter;stroke-opacity:1\"/>\n",
       "<path class=\"bond-11 atom-12 atom-13\" d=\"M 187.1,133.9 L 183.1,138.9\" style=\"fill:none;fill-rule:evenodd;stroke:#FF0000;stroke-width:2.0px;stroke-linecap:butt;stroke-linejoin:miter;stroke-opacity:1\"/>\n",
       "<path class=\"bond-11 atom-12 atom-13\" d=\"M 188.5,126.8 L 184.5,131.8\" style=\"fill:none;fill-rule:evenodd;stroke:#000000;stroke-width:2.0px;stroke-linecap:butt;stroke-linejoin:miter;stroke-opacity:1\"/>\n",
       "<path class=\"bond-11 atom-12 atom-13\" d=\"M 184.5,131.8 L 180.5,136.8\" style=\"fill:none;fill-rule:evenodd;stroke:#FF0000;stroke-width:2.0px;stroke-linecap:butt;stroke-linejoin:miter;stroke-opacity:1\"/>\n",
       "<path class=\"bond-12 atom-12 atom-14\" d=\"M 189.8,127.8 L 187.4,121.6\" style=\"fill:none;fill-rule:evenodd;stroke:#000000;stroke-width:2.0px;stroke-linecap:butt;stroke-linejoin:miter;stroke-opacity:1\"/>\n",
       "<path class=\"bond-12 atom-12 atom-14\" d=\"M 187.4,121.6 L 185.0,115.4\" style=\"fill:none;fill-rule:evenodd;stroke:#FF0000;stroke-width:2.0px;stroke-linecap:butt;stroke-linejoin:miter;stroke-opacity:1\"/>\n",
       "<path class=\"bond-13 atom-14 atom-15\" d=\"M 181.1,112.1 L 174.3,111.0\" style=\"fill:none;fill-rule:evenodd;stroke:#FF0000;stroke-width:2.0px;stroke-linecap:butt;stroke-linejoin:miter;stroke-opacity:1\"/>\n",
       "<path class=\"bond-13 atom-14 atom-15\" d=\"M 174.3,111.0 L 167.5,110.0\" style=\"fill:none;fill-rule:evenodd;stroke:#000000;stroke-width:2.0px;stroke-linecap:butt;stroke-linejoin:miter;stroke-opacity:1\"/>\n",
       "<path class=\"bond-14 atom-15 atom-16\" d=\"M 167.5,110.0 L 161.5,94.6\" style=\"fill:none;fill-rule:evenodd;stroke:#000000;stroke-width:2.0px;stroke-linecap:butt;stroke-linejoin:miter;stroke-opacity:1\"/>\n",
       "<path class=\"bond-15 atom-16 atom-17\" d=\"M 161.5,94.6 L 145.1,92.2\" style=\"fill:none;fill-rule:evenodd;stroke:#000000;stroke-width:2.0px;stroke-linecap:butt;stroke-linejoin:miter;stroke-opacity:1\"/>\n",
       "<path class=\"bond-16 atom-17 atom-18\" d=\"M 145.1,92.2 L 139.1,76.8\" style=\"fill:none;fill-rule:evenodd;stroke:#000000;stroke-width:2.0px;stroke-linecap:butt;stroke-linejoin:miter;stroke-opacity:1\"/>\n",
       "<path class=\"bond-17 atom-1 atom-10\" d=\"M 232.8,119.9 L 216.4,117.4\" style=\"fill:none;fill-rule:evenodd;stroke:#000000;stroke-width:2.0px;stroke-linecap:butt;stroke-linejoin:miter;stroke-opacity:1\"/>\n",
       "<path class=\"bond-18 atom-19 atom-20\" d=\"M 210.4,102.0 L 194.1,99.6\" style=\"fill:none;fill-rule:evenodd;stroke:#000000;stroke-width:2.0px;stroke-linecap:butt;stroke-linejoin:miter;stroke-opacity:1\"/>\n",
       "<path class=\"bond-19 atom-20 atom-21\" d=\"M 194.1,99.6 L 188.1,84.2\" style=\"fill:none;fill-rule:evenodd;stroke:#000000;stroke-width:2.0px;stroke-linecap:butt;stroke-linejoin:miter;stroke-opacity:1\"/>\n",
       "<path class=\"bond-20 atom-21 atom-22\" d=\"M 186.7,83.3 L 188.6,80.2\" style=\"fill:none;fill-rule:evenodd;stroke:#000000;stroke-width:2.0px;stroke-linecap:butt;stroke-linejoin:miter;stroke-opacity:1\"/>\n",
       "<path class=\"bond-20 atom-21 atom-22\" d=\"M 188.6,80.2 L 190.5,77.1\" style=\"fill:none;fill-rule:evenodd;stroke:#FF0000;stroke-width:2.0px;stroke-linecap:butt;stroke-linejoin:miter;stroke-opacity:1\"/>\n",
       "<path class=\"bond-20 atom-21 atom-22\" d=\"M 189.5,85.1 L 191.4,81.9\" style=\"fill:none;fill-rule:evenodd;stroke:#000000;stroke-width:2.0px;stroke-linecap:butt;stroke-linejoin:miter;stroke-opacity:1\"/>\n",
       "<path class=\"bond-20 atom-21 atom-22\" d=\"M 191.4,81.9 L 193.3,78.8\" style=\"fill:none;fill-rule:evenodd;stroke:#FF0000;stroke-width:2.0px;stroke-linecap:butt;stroke-linejoin:miter;stroke-opacity:1\"/>\n",
       "<path class=\"bond-21 atom-21 atom-23\" d=\"M 188.1,84.2 L 181.3,83.2\" style=\"fill:none;fill-rule:evenodd;stroke:#000000;stroke-width:2.0px;stroke-linecap:butt;stroke-linejoin:miter;stroke-opacity:1\"/>\n",
       "<path class=\"bond-21 atom-21 atom-23\" d=\"M 181.3,83.2 L 174.4,82.1\" style=\"fill:none;fill-rule:evenodd;stroke:#FF0000;stroke-width:2.0px;stroke-linecap:butt;stroke-linejoin:miter;stroke-opacity:1\"/>\n",
       "<path class=\"bond-22 atom-23 atom-24\" d=\"M 170.6,78.8 L 168.2,72.6\" style=\"fill:none;fill-rule:evenodd;stroke:#FF0000;stroke-width:2.0px;stroke-linecap:butt;stroke-linejoin:miter;stroke-opacity:1\"/>\n",
       "<path class=\"bond-22 atom-23 atom-24\" d=\"M 168.2,72.6 L 165.7,66.4\" style=\"fill:none;fill-rule:evenodd;stroke:#000000;stroke-width:2.0px;stroke-linecap:butt;stroke-linejoin:miter;stroke-opacity:1\"/>\n",
       "<path class=\"bond-23 atom-24 atom-25\" d=\"M 165.7,66.4 L 149.4,63.9\" style=\"fill:none;fill-rule:evenodd;stroke:#000000;stroke-width:2.0px;stroke-linecap:butt;stroke-linejoin:miter;stroke-opacity:1\"/>\n",
       "<path class=\"bond-24 atom-25 atom-26\" d=\"M 149.4,63.9 L 143.4,48.5\" style=\"fill:none;fill-rule:evenodd;stroke:#000000;stroke-width:2.0px;stroke-linecap:butt;stroke-linejoin:miter;stroke-opacity:1\"/>\n",
       "<path class=\"bond-25 atom-26 atom-27\" d=\"M 143.4,48.5 L 127.1,46.1\" style=\"fill:none;fill-rule:evenodd;stroke:#000000;stroke-width:2.0px;stroke-linecap:butt;stroke-linejoin:miter;stroke-opacity:1\"/>\n",
       "<path class=\"bond-26 atom-10 atom-19\" d=\"M 216.4,117.4 L 210.4,102.0\" style=\"fill:none;fill-rule:evenodd;stroke:#000000;stroke-width:2.0px;stroke-linecap:butt;stroke-linejoin:miter;stroke-opacity:1\"/>\n",
       "<path class=\"bond-27 atom-28 atom-29\" d=\"M 220.7,89.2 L 237.0,91.6\" style=\"fill:none;fill-rule:evenodd;stroke:#000000;stroke-width:2.0px;stroke-linecap:butt;stroke-linejoin:miter;stroke-opacity:1\"/>\n",
       "<path class=\"bond-28 atom-29 atom-30\" d=\"M 237.0,91.6 L 247.3,78.7\" style=\"fill:none;fill-rule:evenodd;stroke:#000000;stroke-width:2.0px;stroke-linecap:butt;stroke-linejoin:miter;stroke-opacity:1\"/>\n",
       "<path class=\"bond-29 atom-30 atom-31\" d=\"M 247.6,77.1 L 254.4,78.1\" style=\"fill:none;fill-rule:evenodd;stroke:#000000;stroke-width:2.0px;stroke-linecap:butt;stroke-linejoin:miter;stroke-opacity:1\"/>\n",
       "<path class=\"bond-29 atom-30 atom-31\" d=\"M 254.4,78.1 L 261.2,79.2\" style=\"fill:none;fill-rule:evenodd;stroke:#FF0000;stroke-width:2.0px;stroke-linecap:butt;stroke-linejoin:miter;stroke-opacity:1\"/>\n",
       "<path class=\"bond-29 atom-30 atom-31\" d=\"M 247.1,80.4 L 253.9,81.4\" style=\"fill:none;fill-rule:evenodd;stroke:#000000;stroke-width:2.0px;stroke-linecap:butt;stroke-linejoin:miter;stroke-opacity:1\"/>\n",
       "<path class=\"bond-29 atom-30 atom-31\" d=\"M 253.9,81.4 L 260.7,82.4\" style=\"fill:none;fill-rule:evenodd;stroke:#FF0000;stroke-width:2.0px;stroke-linecap:butt;stroke-linejoin:miter;stroke-opacity:1\"/>\n",
       "<path class=\"bond-30 atom-30 atom-32\" d=\"M 247.3,78.7 L 244.9,72.5\" style=\"fill:none;fill-rule:evenodd;stroke:#000000;stroke-width:2.0px;stroke-linecap:butt;stroke-linejoin:miter;stroke-opacity:1\"/>\n",
       "<path class=\"bond-30 atom-30 atom-32\" d=\"M 244.9,72.5 L 242.5,66.3\" style=\"fill:none;fill-rule:evenodd;stroke:#FF0000;stroke-width:2.0px;stroke-linecap:butt;stroke-linejoin:miter;stroke-opacity:1\"/>\n",
       "<path class=\"bond-31 atom-32 atom-33\" d=\"M 243.6,60.5 L 247.6,55.5\" style=\"fill:none;fill-rule:evenodd;stroke:#FF0000;stroke-width:2.0px;stroke-linecap:butt;stroke-linejoin:miter;stroke-opacity:1\"/>\n",
       "<path class=\"bond-31 atom-32 atom-33\" d=\"M 247.6,55.5 L 251.6,50.5\" style=\"fill:none;fill-rule:evenodd;stroke:#000000;stroke-width:2.0px;stroke-linecap:butt;stroke-linejoin:miter;stroke-opacity:1\"/>\n",
       "<path class=\"bond-32 atom-33 atom-34\" d=\"M 251.6,50.5 L 245.6,35.1\" style=\"fill:none;fill-rule:evenodd;stroke:#000000;stroke-width:2.0px;stroke-linecap:butt;stroke-linejoin:miter;stroke-opacity:1\"/>\n",
       "<path class=\"bond-33 atom-34 atom-35\" d=\"M 245.6,35.1 L 255.9,22.2\" style=\"fill:none;fill-rule:evenodd;stroke:#000000;stroke-width:2.0px;stroke-linecap:butt;stroke-linejoin:miter;stroke-opacity:1\"/>\n",
       "<path class=\"bond-34 atom-35 atom-36\" d=\"M 255.9,22.2 L 249.9,6.8\" style=\"fill:none;fill-rule:evenodd;stroke:#000000;stroke-width:2.0px;stroke-linecap:butt;stroke-linejoin:miter;stroke-opacity:1\"/>\n",
       "<path class=\"bond-35 atom-19 atom-28\" d=\"M 210.4,102.0 L 220.7,89.2\" style=\"fill:none;fill-rule:evenodd;stroke:#000000;stroke-width:2.0px;stroke-linecap:butt;stroke-linejoin:miter;stroke-opacity:1\"/>\n",
       "<path class=\"bond-36 atom-37 atom-38\" d=\"M 214.7,73.8 L 225.0,60.9\" style=\"fill:none;fill-rule:evenodd;stroke:#000000;stroke-width:2.0px;stroke-linecap:butt;stroke-linejoin:miter;stroke-opacity:1\"/>\n",
       "<path class=\"bond-37 atom-38 atom-39\" d=\"M 225.0,60.9 L 219.0,45.5\" style=\"fill:none;fill-rule:evenodd;stroke:#000000;stroke-width:2.0px;stroke-linecap:butt;stroke-linejoin:miter;stroke-opacity:1\"/>\n",
       "<path class=\"bond-38 atom-39 atom-40\" d=\"M 218.7,47.1 L 211.9,46.1\" style=\"fill:none;fill-rule:evenodd;stroke:#000000;stroke-width:2.0px;stroke-linecap:butt;stroke-linejoin:miter;stroke-opacity:1\"/>\n",
       "<path class=\"bond-38 atom-39 atom-40\" d=\"M 211.9,46.1 L 205.1,45.1\" style=\"fill:none;fill-rule:evenodd;stroke:#FF0000;stroke-width:2.0px;stroke-linecap:butt;stroke-linejoin:miter;stroke-opacity:1\"/>\n",
       "<path class=\"bond-38 atom-39 atom-40\" d=\"M 219.2,43.9 L 212.4,42.8\" style=\"fill:none;fill-rule:evenodd;stroke:#000000;stroke-width:2.0px;stroke-linecap:butt;stroke-linejoin:miter;stroke-opacity:1\"/>\n",
       "<path class=\"bond-38 atom-39 atom-40\" d=\"M 212.4,42.8 L 205.6,41.8\" style=\"fill:none;fill-rule:evenodd;stroke:#FF0000;stroke-width:2.0px;stroke-linecap:butt;stroke-linejoin:miter;stroke-opacity:1\"/>\n",
       "<path class=\"bond-39 atom-39 atom-41\" d=\"M 219.0,45.5 L 223.0,40.5\" style=\"fill:none;fill-rule:evenodd;stroke:#000000;stroke-width:2.0px;stroke-linecap:butt;stroke-linejoin:miter;stroke-opacity:1\"/>\n",
       "<path class=\"bond-39 atom-39 atom-41\" d=\"M 223.0,40.5 L 227.0,35.5\" style=\"fill:none;fill-rule:evenodd;stroke:#0000FF;stroke-width:2.0px;stroke-linecap:butt;stroke-linejoin:miter;stroke-opacity:1\"/>\n",
       "<path class=\"bond-40 atom-28 atom-37\" d=\"M 220.7,89.2 L 214.7,73.8\" style=\"fill:none;fill-rule:evenodd;stroke:#000000;stroke-width:2.0px;stroke-linecap:butt;stroke-linejoin:miter;stroke-opacity:1\"/>\n",
       "<path class=\"bond-41 atom-37 atom-42\" d=\"M 214.7,73.8 L 206.6,71.5\" style=\"fill:none;fill-rule:evenodd;stroke:#000000;stroke-width:2.0px;stroke-linecap:butt;stroke-linejoin:miter;stroke-opacity:1\"/>\n",
       "<path class=\"atom-0\" d=\"M 237.0 132.9 L 237.6 132.9 L 237.6 134.9 L 240.0 134.9 L 240.0 132.9 L 240.6 132.9 L 240.6 137.6 L 240.0 137.6 L 240.0 135.4 L 237.6 135.4 L 237.6 137.6 L 237.0 137.6 L 237.0 132.9 \" fill=\"#000000\"/>\n",
       "<path class=\"atom-4\" d=\"M 263.3 124.8 Q 263.3 123.7, 263.8 123.1 Q 264.4 122.5, 265.4 122.5 Q 266.4 122.5, 267.0 123.1 Q 267.5 123.7, 267.5 124.8 Q 267.5 126.0, 267.0 126.6 Q 266.4 127.3, 265.4 127.3 Q 264.4 127.3, 263.8 126.6 Q 263.3 126.0, 263.3 124.8 M 265.4 126.7 Q 266.1 126.7, 266.5 126.3 Q 266.9 125.8, 266.9 124.8 Q 266.9 123.9, 266.5 123.5 Q 266.1 123.0, 265.4 123.0 Q 264.7 123.0, 264.3 123.5 Q 263.9 123.9, 263.9 124.8 Q 263.9 125.8, 264.3 126.3 Q 264.7 126.7, 265.4 126.7 \" fill=\"#FF0000\"/>\n",
       "<path class=\"atom-5\" d=\"M 267.5 96.6 Q 267.5 95.5, 268.1 94.8 Q 268.6 94.2, 269.7 94.2 Q 270.7 94.2, 271.3 94.8 Q 271.8 95.5, 271.8 96.6 Q 271.8 97.7, 271.3 98.4 Q 270.7 99.0, 269.7 99.0 Q 268.7 99.0, 268.1 98.4 Q 267.5 97.7, 267.5 96.6 M 269.7 98.5 Q 270.4 98.5, 270.8 98.0 Q 271.2 97.5, 271.2 96.6 Q 271.2 95.7, 270.8 95.2 Q 270.4 94.7, 269.7 94.7 Q 269.0 94.7, 268.6 95.2 Q 268.2 95.7, 268.2 96.6 Q 268.2 97.5, 268.6 98.0 Q 269.0 98.5, 269.7 98.5 \" fill=\"#FF0000\"/>\n",
       "<path class=\"atom-13\" d=\"M 177.4 140.8 Q 177.4 139.6, 177.9 139.0 Q 178.5 138.4, 179.5 138.4 Q 180.6 138.4, 181.1 139.0 Q 181.7 139.6, 181.7 140.8 Q 181.7 141.9, 181.1 142.5 Q 180.5 143.2, 179.5 143.2 Q 178.5 143.2, 177.9 142.5 Q 177.4 141.9, 177.4 140.8 M 179.5 142.7 Q 180.2 142.7, 180.6 142.2 Q 181.0 141.7, 181.0 140.8 Q 181.0 139.8, 180.6 139.4 Q 180.2 138.9, 179.5 138.9 Q 178.8 138.9, 178.4 139.4 Q 178.0 139.8, 178.0 140.8 Q 178.0 141.7, 178.4 142.2 Q 178.8 142.7, 179.5 142.7 \" fill=\"#FF0000\"/>\n",
       "<path class=\"atom-14\" d=\"M 181.7 112.5 Q 181.7 111.4, 182.2 110.7 Q 182.8 110.1, 183.8 110.1 Q 184.8 110.1, 185.4 110.7 Q 185.9 111.4, 185.9 112.5 Q 185.9 113.6, 185.4 114.3 Q 184.8 114.9, 183.8 114.9 Q 182.8 114.9, 182.2 114.3 Q 181.7 113.6, 181.7 112.5 M 183.8 114.4 Q 184.5 114.4, 184.9 113.9 Q 185.3 113.4, 185.3 112.5 Q 185.3 111.6, 184.9 111.1 Q 184.5 110.6, 183.8 110.6 Q 183.1 110.6, 182.7 111.1 Q 182.3 111.6, 182.3 112.5 Q 182.3 113.4, 182.7 113.9 Q 183.1 114.4, 183.8 114.4 \" fill=\"#FF0000\"/>\n",
       "<path class=\"atom-22\" d=\"M 191.6 75.0 Q 191.6 73.9, 192.2 73.3 Q 192.7 72.6, 193.8 72.6 Q 194.8 72.6, 195.3 73.3 Q 195.9 73.9, 195.9 75.0 Q 195.9 76.1, 195.3 76.8 Q 194.8 77.4, 193.8 77.4 Q 192.7 77.4, 192.2 76.8 Q 191.6 76.1, 191.6 75.0 M 193.8 76.9 Q 194.5 76.9, 194.9 76.4 Q 195.2 75.9, 195.2 75.0 Q 195.2 74.1, 194.9 73.6 Q 194.5 73.2, 193.8 73.2 Q 193.0 73.2, 192.7 73.6 Q 192.3 74.1, 192.3 75.0 Q 192.3 75.9, 192.7 76.4 Q 193.0 76.9, 193.8 76.9 \" fill=\"#FF0000\"/>\n",
       "<path class=\"atom-23\" d=\"M 169.6 81.8 Q 169.6 80.6, 170.2 80.0 Q 170.7 79.4, 171.8 79.4 Q 172.8 79.4, 173.4 80.0 Q 173.9 80.6, 173.9 81.8 Q 173.9 82.9, 173.3 83.5 Q 172.8 84.2, 171.8 84.2 Q 170.7 84.2, 170.2 83.5 Q 169.6 82.9, 169.6 81.8 M 171.8 83.6 Q 172.5 83.6, 172.9 83.2 Q 173.2 82.7, 173.2 81.8 Q 173.2 80.8, 172.9 80.4 Q 172.5 79.9, 171.8 79.9 Q 171.0 79.9, 170.7 80.4 Q 170.3 80.8, 170.3 81.8 Q 170.3 82.7, 170.7 83.2 Q 171.0 83.6, 171.8 83.6 \" fill=\"#FF0000\"/>\n",
       "<path class=\"atom-31\" d=\"M 261.5 81.2 Q 261.5 80.1, 262.1 79.5 Q 262.6 78.8, 263.7 78.8 Q 264.7 78.8, 265.3 79.5 Q 265.8 80.1, 265.8 81.2 Q 265.8 82.3, 265.2 83.0 Q 264.7 83.6, 263.7 83.6 Q 262.6 83.6, 262.1 83.0 Q 261.5 82.3, 261.5 81.2 M 263.7 83.1 Q 264.4 83.1, 264.8 82.6 Q 265.1 82.1, 265.1 81.2 Q 265.1 80.3, 264.8 79.8 Q 264.4 79.4, 263.7 79.4 Q 262.9 79.4, 262.6 79.8 Q 262.2 80.3, 262.2 81.2 Q 262.2 82.2, 262.6 82.6 Q 262.9 83.1, 263.7 83.1 \" fill=\"#FF0000\"/>\n",
       "<path class=\"atom-32\" d=\"M 239.2 63.4 Q 239.2 62.2, 239.7 61.6 Q 240.3 61.0, 241.3 61.0 Q 242.4 61.0, 242.9 61.6 Q 243.5 62.2, 243.5 63.4 Q 243.5 64.5, 242.9 65.1 Q 242.3 65.8, 241.3 65.8 Q 240.3 65.8, 239.7 65.1 Q 239.2 64.5, 239.2 63.4 M 241.3 65.3 Q 242.0 65.3, 242.4 64.8 Q 242.8 64.3, 242.8 63.4 Q 242.8 62.4, 242.4 62.0 Q 242.0 61.5, 241.3 61.5 Q 240.6 61.5, 240.2 62.0 Q 239.8 62.4, 239.8 63.4 Q 239.8 64.3, 240.2 64.8 Q 240.6 65.3, 241.3 65.3 \" fill=\"#FF0000\"/>\n",
       "<path class=\"atom-40\" d=\"M 200.5 43.1 Q 200.5 41.9, 201.1 41.3 Q 201.6 40.7, 202.7 40.7 Q 203.7 40.7, 204.3 41.3 Q 204.8 41.9, 204.8 43.1 Q 204.8 44.2, 204.2 44.8 Q 203.7 45.5, 202.7 45.5 Q 201.6 45.5, 201.1 44.8 Q 200.5 44.2, 200.5 43.1 M 202.7 45.0 Q 203.4 45.0, 203.8 44.5 Q 204.1 44.0, 204.1 43.1 Q 204.1 42.1, 203.8 41.7 Q 203.4 41.2, 202.7 41.2 Q 201.9 41.2, 201.6 41.7 Q 201.2 42.1, 201.2 43.1 Q 201.2 44.0, 201.6 44.5 Q 201.9 45.0, 202.7 45.0 \" fill=\"#FF0000\"/>\n",
       "<path class=\"atom-41\" d=\"M 228.2 30.3 L 229.8 32.8 Q 229.9 33.0, 230.2 33.4 Q 230.4 33.9, 230.4 33.9 L 230.4 30.3 L 231.1 30.3 L 231.1 35.0 L 230.4 35.0 L 228.8 32.2 Q 228.6 31.9, 228.4 31.6 Q 228.2 31.2, 228.1 31.1 L 228.1 35.0 L 227.5 35.0 L 227.5 30.3 L 228.2 30.3 \" fill=\"#0000FF\"/>\n",
       "<path class=\"atom-41\" d=\"M 231.6 30.3 L 232.2 30.3 L 232.2 32.3 L 234.6 32.3 L 234.6 30.3 L 235.3 30.3 L 235.3 35.0 L 234.6 35.0 L 234.6 32.8 L 232.2 32.8 L 232.2 35.0 L 231.6 35.0 L 231.6 30.3 \" fill=\"#0000FF\"/>\n",
       "<path class=\"atom-41\" d=\"M 235.8 34.8 Q 235.9 34.5, 236.2 34.3 Q 236.5 34.2, 236.9 34.2 Q 237.3 34.2, 237.6 34.4 Q 237.8 34.7, 237.8 35.1 Q 237.8 35.6, 237.5 36.0 Q 237.2 36.4, 236.5 36.9 L 237.9 36.9 L 237.9 37.3 L 235.8 37.3 L 235.8 37.0 Q 236.4 36.6, 236.7 36.3 Q 237.1 36.0, 237.2 35.7 Q 237.4 35.4, 237.4 35.1 Q 237.4 34.8, 237.3 34.7 Q 237.1 34.5, 236.9 34.5 Q 236.6 34.5, 236.4 34.6 Q 236.3 34.7, 236.2 34.9 L 235.8 34.8 \" fill=\"#0000FF\"/>\n",
       "<path class=\"atom-42\" d=\"M 202.4 68.5 L 203.1 68.5 L 203.1 70.5 L 205.5 70.5 L 205.5 68.5 L 206.1 68.5 L 206.1 73.2 L 205.5 73.2 L 205.5 71.0 L 203.1 71.0 L 203.1 73.2 L 202.4 73.2 L 202.4 68.5 \" fill=\"#000000\"/>\n",
       "<path class=\"atom-0\" d=\"M 241.9,135.3 L 241.9,135.3 L 241.9,135.3 L 241.9,135.3 L 241.9,135.4 L 241.9,135.4 L 241.9,135.4 L 241.9,135.4 L 241.9,135.5 L 241.8,135.5 L 241.8,135.5 L 241.8,135.5 L 241.8,135.5 L 241.7,135.6 L 241.7,135.6 L 241.7,135.6 L 241.7,135.6 L 241.6,135.6 L 241.6,135.6 L 241.6,135.6 L 241.6,135.6 L 241.5,135.6 L 241.5,135.6 L 241.5,135.6 L 241.4,135.5 L 241.4,135.5 L 241.4,135.5 L 241.4,135.5 L 241.4,135.5 L 241.3,135.5 L 241.3,135.4 L 241.3,135.4 L 241.3,135.4 L 241.3,135.4 L 241.3,135.3 L 241.3,135.3 L 241.3,135.3 L 241.3,135.2 L 241.3,135.2 L 241.3,135.2 L 241.3,135.2 L 241.3,135.1 L 241.3,135.1 L 241.3,135.1 L 241.3,135.1 L 241.4,135.0 L 241.4,135.0 L 241.4,135.0 L 241.4,135.0 L 241.4,135.0 L 241.5,135.0 L 241.5,134.9 L 241.5,134.9 L 241.6,134.9 L 241.6,134.9 L 241.6,134.9 L 241.6,134.9 L 241.7,134.9 L 241.7,134.9 L 241.7,134.9 L 241.7,135.0 L 241.8,135.0 L 241.8,135.0 L 241.8,135.0 L 241.8,135.0 L 241.9,135.0 L 241.9,135.1 L 241.9,135.1 L 241.9,135.1 L 241.9,135.1 L 241.9,135.2 L 241.9,135.2 L 241.9,135.2 L 241.9,135.3 L 241.6,135.3 Z\" style=\"fill:#000000;fill-rule:evenodd;fill-opacity:1;stroke:#000000;stroke-width:0.0px;stroke-linecap:butt;stroke-linejoin:miter;stroke-opacity:1;\"/>\n",
       "<path class=\"atom-42\" d=\"M 201.8,70.9 L 201.8,70.9 L 201.8,70.9 L 201.8,71.0 L 201.8,71.0 L 201.8,71.0 L 201.7,71.0 L 201.7,71.1 L 201.7,71.1 L 201.7,71.1 L 201.7,71.1 L 201.6,71.1 L 201.6,71.2 L 201.6,71.2 L 201.6,71.2 L 201.5,71.2 L 201.5,71.2 L 201.5,71.2 L 201.5,71.2 L 201.4,71.2 L 201.4,71.2 L 201.4,71.2 L 201.3,71.2 L 201.3,71.2 L 201.3,71.2 L 201.3,71.1 L 201.2,71.1 L 201.2,71.1 L 201.2,71.1 L 201.2,71.1 L 201.2,71.0 L 201.2,71.0 L 201.1,71.0 L 201.1,71.0 L 201.1,70.9 L 201.1,70.9 L 201.1,70.9 L 201.1,70.9 L 201.1,70.8 L 201.1,70.8 L 201.1,70.8 L 201.1,70.7 L 201.2,70.7 L 201.2,70.7 L 201.2,70.7 L 201.2,70.6 L 201.2,70.6 L 201.2,70.6 L 201.3,70.6 L 201.3,70.6 L 201.3,70.6 L 201.3,70.6 L 201.4,70.5 L 201.4,70.5 L 201.4,70.5 L 201.5,70.5 L 201.5,70.5 L 201.5,70.5 L 201.5,70.6 L 201.6,70.6 L 201.6,70.6 L 201.6,70.6 L 201.6,70.6 L 201.7,70.6 L 201.7,70.6 L 201.7,70.7 L 201.7,70.7 L 201.7,70.7 L 201.8,70.7 L 201.8,70.8 L 201.8,70.8 L 201.8,70.8 L 201.8,70.8 L 201.8,70.9 L 201.5,70.9 Z\" style=\"fill:#000000;fill-rule:evenodd;fill-opacity:1;stroke:#000000;stroke-width:0.0px;stroke-linecap:butt;stroke-linejoin:miter;stroke-opacity:1;\"/>\n",
       "</svg>"
      ],
      "text/plain": [
       "<IPython.core.display.SVG object>"
      ]
     },
     "execution_count": 38,
     "metadata": {},
     "output_type": "execute_result"
    }
   ],
   "source": [
    "big_smiles_gen(big)"
   ]
  },
  {
   "cell_type": "markdown",
   "id": "cd2b1acd",
   "metadata": {},
   "source": [
    "## Vulcanized poly(1,3-butadiene)"
   ]
  },
  {
   "cell_type": "code",
   "execution_count": 39,
   "id": "b4795529",
   "metadata": {},
   "outputs": [
    {
     "data": {
      "image/svg+xml": [
       "<svg xmlns=\"http://www.w3.org/2000/svg\" xmlns:rdkit=\"http://www.rdkit.org/xml\" xmlns:xlink=\"http://www.w3.org/1999/xlink\" version=\"1.1\" baseProfile=\"full\" xml:space=\"preserve\" width=\"450px\" height=\"150px\" viewBox=\"0 0 450 150\">\n",
       "<!-- END OF HEADER -->\n",
       "<rect style=\"opacity:1.0;fill:#FFFFFF;stroke:none\" width=\"450.0\" height=\"150.0\" x=\"0.0\" y=\"0.0\"> </rect>\n",
       "<path class=\"bond-0 atom-0 atom-1\" d=\"M 226.3,87.6 L 226.3,88.7\" style=\"fill:none;fill-rule:evenodd;stroke:#000000;stroke-width:2.0px;stroke-linecap:butt;stroke-linejoin:miter;stroke-opacity:1\"/>\n",
       "<path class=\"bond-0 atom-0 atom-1\" d=\"M 226.3,88.7 L 226.4,89.8\" style=\"fill:none;fill-rule:evenodd;stroke:#CCCC00;stroke-width:2.0px;stroke-linecap:butt;stroke-linejoin:miter;stroke-opacity:1\"/>\n",
       "<path class=\"bond-1 atom-1 atom-2\" d=\"M 224.9,90.8 L 224.2,91.3\" style=\"fill:none;fill-rule:evenodd;stroke:#CCCC00;stroke-width:2.0px;stroke-linecap:butt;stroke-linejoin:miter;stroke-opacity:1\"/>\n",
       "<path class=\"bond-2 atom-3 atom-4\" d=\"M 215.2,97.3 L 219.2,99.3\" style=\"fill:none;fill-rule:evenodd;stroke:#000000;stroke-width:2.0px;stroke-linecap:butt;stroke-linejoin:miter;stroke-opacity:1\"/>\n",
       "<path class=\"bond-3 atom-4 atom-5\" d=\"M 219.2,99.3 L 223.0,96.8\" style=\"fill:none;fill-rule:evenodd;stroke:#000000;stroke-width:2.0px;stroke-linecap:butt;stroke-linejoin:miter;stroke-opacity:1\"/>\n",
       "<path class=\"bond-4 atom-5 atom-6\" d=\"M 223.0,96.8 L 227.0,98.7\" style=\"fill:none;fill-rule:evenodd;stroke:#000000;stroke-width:2.0px;stroke-linecap:butt;stroke-linejoin:miter;stroke-opacity:1\"/>\n",
       "<path class=\"bond-5 atom-2 atom-5\" d=\"M 222.8,94.7 L 222.9,95.7\" style=\"fill:none;fill-rule:evenodd;stroke:#CCCC00;stroke-width:2.0px;stroke-linecap:butt;stroke-linejoin:miter;stroke-opacity:1\"/>\n",
       "<path class=\"bond-5 atom-2 atom-5\" d=\"M 222.9,95.7 L 223.0,96.8\" style=\"fill:none;fill-rule:evenodd;stroke:#000000;stroke-width:2.0px;stroke-linecap:butt;stroke-linejoin:miter;stroke-opacity:1\"/>\n",
       "<path class=\"bond-6 atom-7 atom-8\" d=\"M 199.7,98.3 L 203.7,100.3\" style=\"fill:none;fill-rule:evenodd;stroke:#000000;stroke-width:2.0px;stroke-linecap:butt;stroke-linejoin:miter;stroke-opacity:1\"/>\n",
       "<path class=\"bond-7 atom-8 atom-9\" d=\"M 203.7,100.3 L 207.4,97.8\" style=\"fill:none;fill-rule:evenodd;stroke:#000000;stroke-width:2.0px;stroke-linecap:butt;stroke-linejoin:miter;stroke-opacity:1\"/>\n",
       "<path class=\"bond-8 atom-9 atom-10\" d=\"M 207.4,97.8 L 211.5,99.8\" style=\"fill:none;fill-rule:evenodd;stroke:#000000;stroke-width:2.0px;stroke-linecap:butt;stroke-linejoin:miter;stroke-opacity:1\"/>\n",
       "<path class=\"bond-9 atom-3 atom-10\" d=\"M 215.2,97.3 L 211.5,99.8\" style=\"fill:none;fill-rule:evenodd;stroke:#000000;stroke-width:2.0px;stroke-linecap:butt;stroke-linejoin:miter;stroke-opacity:1\"/>\n",
       "<path class=\"bond-10 atom-11 atom-12\" d=\"M 195.9,100.8 L 191.9,98.9\" style=\"fill:none;fill-rule:evenodd;stroke:#000000;stroke-width:2.0px;stroke-linecap:butt;stroke-linejoin:miter;stroke-opacity:1\"/>\n",
       "<path class=\"bond-11 atom-12 atom-13\" d=\"M 191.9,98.9 L 188.2,101.4\" style=\"fill:none;fill-rule:evenodd;stroke:#000000;stroke-width:2.0px;stroke-linecap:butt;stroke-linejoin:miter;stroke-opacity:1\"/>\n",
       "<path class=\"bond-11 atom-12 atom-13\" d=\"M 191.8,100.0 L 189.2,101.7\" style=\"fill:none;fill-rule:evenodd;stroke:#000000;stroke-width:2.0px;stroke-linecap:butt;stroke-linejoin:miter;stroke-opacity:1\"/>\n",
       "<path class=\"bond-12 atom-13 atom-14\" d=\"M 188.2,101.4 L 184.1,99.4\" style=\"fill:none;fill-rule:evenodd;stroke:#000000;stroke-width:2.0px;stroke-linecap:butt;stroke-linejoin:miter;stroke-opacity:1\"/>\n",
       "<path class=\"bond-13 atom-7 atom-11\" d=\"M 199.7,98.3 L 195.9,100.8\" style=\"fill:none;fill-rule:evenodd;stroke:#000000;stroke-width:2.0px;stroke-linecap:butt;stroke-linejoin:miter;stroke-opacity:1\"/>\n",
       "<path class=\"bond-14 atom-4 atom-15\" d=\"M 219.2,99.3 L 219.3,100.4\" style=\"fill:none;fill-rule:evenodd;stroke:#000000;stroke-width:2.0px;stroke-linecap:butt;stroke-linejoin:miter;stroke-opacity:1\"/>\n",
       "<path class=\"bond-14 atom-4 atom-15\" d=\"M 219.3,100.4 L 219.4,101.5\" style=\"fill:none;fill-rule:evenodd;stroke:#CCCC00;stroke-width:2.0px;stroke-linecap:butt;stroke-linejoin:miter;stroke-opacity:1\"/>\n",
       "<path class=\"bond-15 atom-16 atom-17\" d=\"M 230.8,96.2 L 234.8,98.2\" style=\"fill:none;fill-rule:evenodd;stroke:#000000;stroke-width:2.0px;stroke-linecap:butt;stroke-linejoin:miter;stroke-opacity:1\"/>\n",
       "<path class=\"bond-16 atom-17 atom-18\" d=\"M 234.8,98.2 L 238.5,95.7\" style=\"fill:none;fill-rule:evenodd;stroke:#000000;stroke-width:2.0px;stroke-linecap:butt;stroke-linejoin:miter;stroke-opacity:1\"/>\n",
       "<path class=\"bond-16 atom-17 atom-18\" d=\"M 234.8,97.1 L 237.5,95.3\" style=\"fill:none;fill-rule:evenodd;stroke:#000000;stroke-width:2.0px;stroke-linecap:butt;stroke-linejoin:miter;stroke-opacity:1\"/>\n",
       "<path class=\"bond-17 atom-18 atom-19\" d=\"M 238.5,95.7 L 242.6,97.7\" style=\"fill:none;fill-rule:evenodd;stroke:#000000;stroke-width:2.0px;stroke-linecap:butt;stroke-linejoin:miter;stroke-opacity:1\"/>\n",
       "<path class=\"bond-18 atom-6 atom-16\" d=\"M 227.0,98.7 L 230.8,96.2\" style=\"fill:none;fill-rule:evenodd;stroke:#000000;stroke-width:2.0px;stroke-linecap:butt;stroke-linejoin:miter;stroke-opacity:1\"/>\n",
       "<path class=\"bond-19 atom-15 atom-20\" d=\"M 221.1,104.5 L 222.1,105.0\" style=\"fill:none;fill-rule:evenodd;stroke:#CCCC00;stroke-width:2.0px;stroke-linecap:butt;stroke-linejoin:miter;stroke-opacity:1\"/>\n",
       "<path class=\"bond-20 atom-21 atom-22\" d=\"M 180.4,101.9 L 176.4,99.9\" style=\"fill:none;fill-rule:evenodd;stroke:#000000;stroke-width:2.0px;stroke-linecap:butt;stroke-linejoin:miter;stroke-opacity:1\"/>\n",
       "<path class=\"bond-21 atom-22 atom-23\" d=\"M 176.4,99.9 L 176.1,95.4\" style=\"fill:none;fill-rule:evenodd;stroke:#000000;stroke-width:2.0px;stroke-linecap:butt;stroke-linejoin:miter;stroke-opacity:1\"/>\n",
       "<path class=\"bond-22 atom-23 atom-24\" d=\"M 176.1,95.4 L 172.0,93.4\" style=\"fill:none;fill-rule:evenodd;stroke:#000000;stroke-width:2.0px;stroke-linecap:butt;stroke-linejoin:miter;stroke-opacity:1\"/>\n",
       "<path class=\"bond-23 atom-14 atom-21\" d=\"M 184.1,99.4 L 180.4,101.9\" style=\"fill:none;fill-rule:evenodd;stroke:#000000;stroke-width:2.0px;stroke-linecap:butt;stroke-linejoin:miter;stroke-opacity:1\"/>\n",
       "<path class=\"bond-24 atom-8 atom-25\" d=\"M 203.7,100.3 L 203.8,101.4\" style=\"fill:none;fill-rule:evenodd;stroke:#000000;stroke-width:2.0px;stroke-linecap:butt;stroke-linejoin:miter;stroke-opacity:1\"/>\n",
       "<path class=\"bond-24 atom-8 atom-25\" d=\"M 203.8,101.4 L 203.9,102.5\" style=\"fill:none;fill-rule:evenodd;stroke:#CCCC00;stroke-width:2.0px;stroke-linecap:butt;stroke-linejoin:miter;stroke-opacity:1\"/>\n",
       "<path class=\"bond-25 atom-25 atom-26\" d=\"M 202.5,105.8 L 201.8,106.3\" style=\"fill:none;fill-rule:evenodd;stroke:#CCCC00;stroke-width:2.0px;stroke-linecap:butt;stroke-linejoin:miter;stroke-opacity:1\"/>\n",
       "<path class=\"bond-26 atom-27 atom-28\" d=\"M 258.1,96.6 L 254.1,94.7\" style=\"fill:none;fill-rule:evenodd;stroke:#000000;stroke-width:2.0px;stroke-linecap:butt;stroke-linejoin:miter;stroke-opacity:1\"/>\n",
       "<path class=\"bond-27 atom-28 atom-29\" d=\"M 254.1,94.7 L 250.3,97.2\" style=\"fill:none;fill-rule:evenodd;stroke:#000000;stroke-width:2.0px;stroke-linecap:butt;stroke-linejoin:miter;stroke-opacity:1\"/>\n",
       "<path class=\"bond-27 atom-28 atom-29\" d=\"M 254.0,95.8 L 251.4,97.5\" style=\"fill:none;fill-rule:evenodd;stroke:#000000;stroke-width:2.0px;stroke-linecap:butt;stroke-linejoin:miter;stroke-opacity:1\"/>\n",
       "<path class=\"bond-28 atom-29 atom-30\" d=\"M 250.3,97.2 L 246.3,95.2\" style=\"fill:none;fill-rule:evenodd;stroke:#000000;stroke-width:2.0px;stroke-linecap:butt;stroke-linejoin:miter;stroke-opacity:1\"/>\n",
       "<path class=\"bond-29 atom-19 atom-30\" d=\"M 242.6,97.7 L 246.3,95.2\" style=\"fill:none;fill-rule:evenodd;stroke:#000000;stroke-width:2.0px;stroke-linecap:butt;stroke-linejoin:miter;stroke-opacity:1\"/>\n",
       "<path class=\"bond-30 atom-9 atom-31\" d=\"M 207.4,97.8 L 207.4,96.8\" style=\"fill:none;fill-rule:evenodd;stroke:#000000;stroke-width:2.0px;stroke-linecap:butt;stroke-linejoin:miter;stroke-opacity:1\"/>\n",
       "<path class=\"bond-30 atom-9 atom-31\" d=\"M 207.4,96.8 L 207.3,95.7\" style=\"fill:none;fill-rule:evenodd;stroke:#CCCC00;stroke-width:2.0px;stroke-linecap:butt;stroke-linejoin:miter;stroke-opacity:1\"/>\n",
       "<path class=\"bond-31 atom-31 atom-32\" d=\"M 205.6,92.6 L 204.6,92.1\" style=\"fill:none;fill-rule:evenodd;stroke:#CCCC00;stroke-width:2.0px;stroke-linecap:butt;stroke-linejoin:miter;stroke-opacity:1\"/>\n",
       "<path class=\"bond-32 atom-33 atom-34\" d=\"M 261.8,94.1 L 265.9,96.1\" style=\"fill:none;fill-rule:evenodd;stroke:#000000;stroke-width:2.0px;stroke-linecap:butt;stroke-linejoin:miter;stroke-opacity:1\"/>\n",
       "<path class=\"bond-33 atom-34 atom-35\" d=\"M 265.9,96.1 L 269.6,93.6\" style=\"fill:none;fill-rule:evenodd;stroke:#000000;stroke-width:2.0px;stroke-linecap:butt;stroke-linejoin:miter;stroke-opacity:1\"/>\n",
       "<path class=\"bond-33 atom-34 atom-35\" d=\"M 265.9,95.0 L 268.5,93.2\" style=\"fill:none;fill-rule:evenodd;stroke:#000000;stroke-width:2.0px;stroke-linecap:butt;stroke-linejoin:miter;stroke-opacity:1\"/>\n",
       "<path class=\"bond-34 atom-35 atom-36\" d=\"M 269.6,93.6 L 273.6,95.6\" style=\"fill:none;fill-rule:evenodd;stroke:#000000;stroke-width:2.0px;stroke-linecap:butt;stroke-linejoin:miter;stroke-opacity:1\"/>\n",
       "<path class=\"bond-35 atom-27 atom-33\" d=\"M 258.1,96.6 L 261.8,94.1\" style=\"fill:none;fill-rule:evenodd;stroke:#000000;stroke-width:2.0px;stroke-linecap:butt;stroke-linejoin:miter;stroke-opacity:1\"/>\n",
       "<path class=\"bond-36 atom-32 atom-37\" d=\"M 203.0,89.1 L 202.8,86.9\" style=\"fill:none;fill-rule:evenodd;stroke:#CCCC00;stroke-width:2.0px;stroke-linecap:butt;stroke-linejoin:miter;stroke-opacity:1\"/>\n",
       "<path class=\"bond-37 atom-38 atom-39\" d=\"M 163.4,80.5 L 167.4,82.5\" style=\"fill:none;fill-rule:evenodd;stroke:#000000;stroke-width:2.0px;stroke-linecap:butt;stroke-linejoin:miter;stroke-opacity:1\"/>\n",
       "<path class=\"bond-38 atom-39 atom-40\" d=\"M 167.4,82.5 L 167.7,87.0\" style=\"fill:none;fill-rule:evenodd;stroke:#000000;stroke-width:2.0px;stroke-linecap:butt;stroke-linejoin:miter;stroke-opacity:1\"/>\n",
       "<path class=\"bond-38 atom-39 atom-40\" d=\"M 166.5,83.2 L 166.7,86.4\" style=\"fill:none;fill-rule:evenodd;stroke:#000000;stroke-width:2.0px;stroke-linecap:butt;stroke-linejoin:miter;stroke-opacity:1\"/>\n",
       "<path class=\"bond-39 atom-40 atom-41\" d=\"M 167.7,87.0 L 171.7,89.0\" style=\"fill:none;fill-rule:evenodd;stroke:#000000;stroke-width:2.0px;stroke-linecap:butt;stroke-linejoin:miter;stroke-opacity:1\"/>\n",
       "<path class=\"bond-40 atom-24 atom-41\" d=\"M 172.0,93.4 L 171.7,89.0\" style=\"fill:none;fill-rule:evenodd;stroke:#000000;stroke-width:2.0px;stroke-linecap:butt;stroke-linejoin:miter;stroke-opacity:1\"/>\n",
       "<path class=\"bond-41 atom-42 atom-43\" d=\"M 227.9,112.2 L 223.9,110.2\" style=\"fill:none;fill-rule:evenodd;stroke:#000000;stroke-width:2.0px;stroke-linecap:butt;stroke-linejoin:miter;stroke-opacity:1\"/>\n",
       "<path class=\"bond-42 atom-43 atom-44\" d=\"M 223.9,110.2 L 220.2,112.7\" style=\"fill:none;fill-rule:evenodd;stroke:#000000;stroke-width:2.0px;stroke-linecap:butt;stroke-linejoin:miter;stroke-opacity:1\"/>\n",
       "<path class=\"bond-43 atom-44 atom-45\" d=\"M 220.2,112.7 L 220.5,117.2\" style=\"fill:none;fill-rule:evenodd;stroke:#000000;stroke-width:2.0px;stroke-linecap:butt;stroke-linejoin:miter;stroke-opacity:1\"/>\n",
       "<path class=\"bond-44 atom-20 atom-43\" d=\"M 223.7,108.1 L 223.8,109.2\" style=\"fill:none;fill-rule:evenodd;stroke:#CCCC00;stroke-width:2.0px;stroke-linecap:butt;stroke-linejoin:miter;stroke-opacity:1\"/>\n",
       "<path class=\"bond-44 atom-20 atom-43\" d=\"M 223.8,109.2 L 223.9,110.2\" style=\"fill:none;fill-rule:evenodd;stroke:#000000;stroke-width:2.0px;stroke-linecap:butt;stroke-linejoin:miter;stroke-opacity:1\"/>\n",
       "<path class=\"bond-45 atom-46 atom-47\" d=\"M 206.2,79.9 L 206.5,84.4\" style=\"fill:none;fill-rule:evenodd;stroke:#000000;stroke-width:2.0px;stroke-linecap:butt;stroke-linejoin:miter;stroke-opacity:1\"/>\n",
       "<path class=\"bond-46 atom-47 atom-48\" d=\"M 206.5,84.4 L 210.6,86.3\" style=\"fill:none;fill-rule:evenodd;stroke:#000000;stroke-width:2.0px;stroke-linecap:butt;stroke-linejoin:miter;stroke-opacity:1\"/>\n",
       "<path class=\"bond-47 atom-48 atom-49\" d=\"M 210.6,86.3 L 214.3,83.8\" style=\"fill:none;fill-rule:evenodd;stroke:#000000;stroke-width:2.0px;stroke-linecap:butt;stroke-linejoin:miter;stroke-opacity:1\"/>\n",
       "<path class=\"bond-48 atom-37 atom-47\" d=\"M 204.3,85.8 L 205.4,85.1\" style=\"fill:none;fill-rule:evenodd;stroke:#CCCC00;stroke-width:2.0px;stroke-linecap:butt;stroke-linejoin:miter;stroke-opacity:1\"/>\n",
       "<path class=\"bond-48 atom-37 atom-47\" d=\"M 205.4,85.1 L 206.5,84.4\" style=\"fill:none;fill-rule:evenodd;stroke:#000000;stroke-width:2.0px;stroke-linecap:butt;stroke-linejoin:miter;stroke-opacity:1\"/>\n",
       "<path class=\"bond-49 atom-50 atom-51\" d=\"M 197.2,118.8 L 196.8,114.3\" style=\"fill:none;fill-rule:evenodd;stroke:#000000;stroke-width:2.0px;stroke-linecap:butt;stroke-linejoin:miter;stroke-opacity:1\"/>\n",
       "<path class=\"bond-50 atom-51 atom-52\" d=\"M 196.8,114.3 L 200.6,111.8\" style=\"fill:none;fill-rule:evenodd;stroke:#000000;stroke-width:2.0px;stroke-linecap:butt;stroke-linejoin:miter;stroke-opacity:1\"/>\n",
       "<path class=\"bond-51 atom-52 atom-53\" d=\"M 200.6,111.8 L 204.6,113.8\" style=\"fill:none;fill-rule:evenodd;stroke:#000000;stroke-width:2.0px;stroke-linecap:butt;stroke-linejoin:miter;stroke-opacity:1\"/>\n",
       "<path class=\"bond-52 atom-26 atom-52\" d=\"M 200.4,109.7 L 200.5,110.7\" style=\"fill:none;fill-rule:evenodd;stroke:#CCCC00;stroke-width:2.0px;stroke-linecap:butt;stroke-linejoin:miter;stroke-opacity:1\"/>\n",
       "<path class=\"bond-52 atom-26 atom-52\" d=\"M 200.5,110.7 L 200.6,111.8\" style=\"fill:none;fill-rule:evenodd;stroke:#000000;stroke-width:2.0px;stroke-linecap:butt;stroke-linejoin:miter;stroke-opacity:1\"/>\n",
       "<path class=\"bond-53 atom-54 atom-55\" d=\"M 213.3,126.7 L 209.3,124.7\" style=\"fill:none;fill-rule:evenodd;stroke:#000000;stroke-width:2.0px;stroke-linecap:butt;stroke-linejoin:miter;stroke-opacity:1\"/>\n",
       "<path class=\"bond-54 atom-55 atom-56\" d=\"M 209.3,124.7 L 209.0,120.2\" style=\"fill:none;fill-rule:evenodd;stroke:#000000;stroke-width:2.0px;stroke-linecap:butt;stroke-linejoin:miter;stroke-opacity:1\"/>\n",
       "<path class=\"bond-54 atom-55 atom-56\" d=\"M 210.1,124.0 L 209.9,120.8\" style=\"fill:none;fill-rule:evenodd;stroke:#000000;stroke-width:2.0px;stroke-linecap:butt;stroke-linejoin:miter;stroke-opacity:1\"/>\n",
       "<path class=\"bond-55 atom-56 atom-57\" d=\"M 209.0,120.2 L 204.9,118.3\" style=\"fill:none;fill-rule:evenodd;stroke:#000000;stroke-width:2.0px;stroke-linecap:butt;stroke-linejoin:miter;stroke-opacity:1\"/>\n",
       "<path class=\"bond-56 atom-53 atom-57\" d=\"M 204.6,113.8 L 204.9,118.3\" style=\"fill:none;fill-rule:evenodd;stroke:#000000;stroke-width:2.0px;stroke-linecap:butt;stroke-linejoin:miter;stroke-opacity:1\"/>\n",
       "<path class=\"bond-57 atom-51 atom-58\" d=\"M 196.8,114.3 L 195.6,113.7\" style=\"fill:none;fill-rule:evenodd;stroke:#000000;stroke-width:2.0px;stroke-linecap:butt;stroke-linejoin:miter;stroke-opacity:1\"/>\n",
       "<path class=\"bond-57 atom-51 atom-58\" d=\"M 195.6,113.7 L 194.3,113.1\" style=\"fill:none;fill-rule:evenodd;stroke:#CCCC00;stroke-width:2.0px;stroke-linecap:butt;stroke-linejoin:miter;stroke-opacity:1\"/>\n",
       "<path class=\"bond-58 atom-59 atom-60\" d=\"M 289.2,94.5 L 285.1,92.6\" style=\"fill:none;fill-rule:evenodd;stroke:#000000;stroke-width:2.0px;stroke-linecap:butt;stroke-linejoin:miter;stroke-opacity:1\"/>\n",
       "<path class=\"bond-59 atom-60 atom-61\" d=\"M 285.1,92.6 L 281.4,95.1\" style=\"fill:none;fill-rule:evenodd;stroke:#000000;stroke-width:2.0px;stroke-linecap:butt;stroke-linejoin:miter;stroke-opacity:1\"/>\n",
       "<path class=\"bond-59 atom-60 atom-61\" d=\"M 285.1,93.7 L 282.5,95.4\" style=\"fill:none;fill-rule:evenodd;stroke:#000000;stroke-width:2.0px;stroke-linecap:butt;stroke-linejoin:miter;stroke-opacity:1\"/>\n",
       "<path class=\"bond-60 atom-61 atom-62\" d=\"M 281.4,95.1 L 277.4,93.1\" style=\"fill:none;fill-rule:evenodd;stroke:#000000;stroke-width:2.0px;stroke-linecap:butt;stroke-linejoin:miter;stroke-opacity:1\"/>\n",
       "<path class=\"bond-61 atom-36 atom-62\" d=\"M 273.6,95.6 L 277.4,93.1\" style=\"fill:none;fill-rule:evenodd;stroke:#000000;stroke-width:2.0px;stroke-linecap:butt;stroke-linejoin:miter;stroke-opacity:1\"/>\n",
       "<path class=\"bond-62 atom-63 atom-64\" d=\"M 218.3,85.8 L 222.1,83.3\" style=\"fill:none;fill-rule:evenodd;stroke:#000000;stroke-width:2.0px;stroke-linecap:butt;stroke-linejoin:miter;stroke-opacity:1\"/>\n",
       "<path class=\"bond-63 atom-64 atom-65\" d=\"M 222.1,83.3 L 221.8,78.8\" style=\"fill:none;fill-rule:evenodd;stroke:#000000;stroke-width:2.0px;stroke-linecap:butt;stroke-linejoin:miter;stroke-opacity:1\"/>\n",
       "<path class=\"bond-63 atom-64 atom-65\" d=\"M 221.1,82.7 L 220.9,79.5\" style=\"fill:none;fill-rule:evenodd;stroke:#000000;stroke-width:2.0px;stroke-linecap:butt;stroke-linejoin:miter;stroke-opacity:1\"/>\n",
       "<path class=\"bond-64 atom-65 atom-66\" d=\"M 221.8,78.8 L 225.5,76.3\" style=\"fill:none;fill-rule:evenodd;stroke:#000000;stroke-width:2.0px;stroke-linecap:butt;stroke-linejoin:miter;stroke-opacity:1\"/>\n",
       "<path class=\"bond-65 atom-49 atom-63\" d=\"M 214.3,83.8 L 218.3,85.8\" style=\"fill:none;fill-rule:evenodd;stroke:#000000;stroke-width:2.0px;stroke-linecap:butt;stroke-linejoin:miter;stroke-opacity:1\"/>\n",
       "<path class=\"bond-66 atom-58 atom-67\" d=\"M 191.3,113.3 L 190.6,113.8\" style=\"fill:none;fill-rule:evenodd;stroke:#CCCC00;stroke-width:2.0px;stroke-linecap:butt;stroke-linejoin:miter;stroke-opacity:1\"/>\n",
       "<path class=\"bond-67 atom-68 atom-69\" d=\"M 210.0,77.4 L 209.7,72.9\" style=\"fill:none;fill-rule:evenodd;stroke:#000000;stroke-width:2.0px;stroke-linecap:butt;stroke-linejoin:miter;stroke-opacity:1\"/>\n",
       "<path class=\"bond-68 atom-69 atom-70\" d=\"M 209.7,72.9 L 213.4,70.4\" style=\"fill:none;fill-rule:evenodd;stroke:#000000;stroke-width:2.0px;stroke-linecap:butt;stroke-linejoin:miter;stroke-opacity:1\"/>\n",
       "<path class=\"bond-68 atom-69 atom-70\" d=\"M 210.7,73.2 L 213.3,71.5\" style=\"fill:none;fill-rule:evenodd;stroke:#000000;stroke-width:2.0px;stroke-linecap:butt;stroke-linejoin:miter;stroke-opacity:1\"/>\n",
       "<path class=\"bond-69 atom-70 atom-71\" d=\"M 213.4,70.4 L 213.1,65.9\" style=\"fill:none;fill-rule:evenodd;stroke:#000000;stroke-width:2.0px;stroke-linecap:butt;stroke-linejoin:miter;stroke-opacity:1\"/>\n",
       "<path class=\"bond-70 atom-46 atom-68\" d=\"M 206.2,79.9 L 210.0,77.4\" style=\"fill:none;fill-rule:evenodd;stroke:#000000;stroke-width:2.0px;stroke-linecap:butt;stroke-linejoin:miter;stroke-opacity:1\"/>\n",
       "<path class=\"bond-71 atom-72 atom-73\" d=\"M 154.7,67.6 L 158.7,69.6\" style=\"fill:none;fill-rule:evenodd;stroke:#000000;stroke-width:2.0px;stroke-linecap:butt;stroke-linejoin:miter;stroke-opacity:1\"/>\n",
       "<path class=\"bond-72 atom-73 atom-74\" d=\"M 158.7,69.6 L 159.0,74.0\" style=\"fill:none;fill-rule:evenodd;stroke:#000000;stroke-width:2.0px;stroke-linecap:butt;stroke-linejoin:miter;stroke-opacity:1\"/>\n",
       "<path class=\"bond-73 atom-74 atom-75\" d=\"M 159.0,74.0 L 163.0,76.0\" style=\"fill:none;fill-rule:evenodd;stroke:#000000;stroke-width:2.0px;stroke-linecap:butt;stroke-linejoin:miter;stroke-opacity:1\"/>\n",
       "<path class=\"bond-74 atom-38 atom-75\" d=\"M 163.4,80.5 L 163.0,76.0\" style=\"fill:none;fill-rule:evenodd;stroke:#000000;stroke-width:2.0px;stroke-linecap:butt;stroke-linejoin:miter;stroke-opacity:1\"/>\n",
       "<path class=\"bond-75 atom-22 atom-76\" d=\"M 176.4,99.9 L 175.3,100.7\" style=\"fill:none;fill-rule:evenodd;stroke:#000000;stroke-width:2.0px;stroke-linecap:butt;stroke-linejoin:miter;stroke-opacity:1\"/>\n",
       "<path class=\"bond-75 atom-22 atom-76\" d=\"M 175.3,100.7 L 174.1,101.4\" style=\"fill:none;fill-rule:evenodd;stroke:#CCCC00;stroke-width:2.0px;stroke-linecap:butt;stroke-linejoin:miter;stroke-opacity:1\"/>\n",
       "<path class=\"bond-76 atom-77 atom-78\" d=\"M 304.7,93.5 L 300.7,91.5\" style=\"fill:none;fill-rule:evenodd;stroke:#000000;stroke-width:2.0px;stroke-linecap:butt;stroke-linejoin:miter;stroke-opacity:1\"/>\n",
       "<path class=\"bond-77 atom-78 atom-79\" d=\"M 300.7,91.5 L 296.9,94.0\" style=\"fill:none;fill-rule:evenodd;stroke:#000000;stroke-width:2.0px;stroke-linecap:butt;stroke-linejoin:miter;stroke-opacity:1\"/>\n",
       "<path class=\"bond-77 atom-78 atom-79\" d=\"M 300.6,92.6 L 298.0,94.4\" style=\"fill:none;fill-rule:evenodd;stroke:#000000;stroke-width:2.0px;stroke-linecap:butt;stroke-linejoin:miter;stroke-opacity:1\"/>\n",
       "<path class=\"bond-78 atom-79 atom-80\" d=\"M 296.9,94.0 L 292.9,92.0\" style=\"fill:none;fill-rule:evenodd;stroke:#000000;stroke-width:2.0px;stroke-linecap:butt;stroke-linejoin:miter;stroke-opacity:1\"/>\n",
       "<path class=\"bond-79 atom-59 atom-80\" d=\"M 289.2,94.5 L 292.9,92.0\" style=\"fill:none;fill-rule:evenodd;stroke:#000000;stroke-width:2.0px;stroke-linecap:butt;stroke-linejoin:miter;stroke-opacity:1\"/>\n",
       "<path class=\"bond-80 atom-76 atom-81\" d=\"M 171.1,101.7 L 170.1,101.2\" style=\"fill:none;fill-rule:evenodd;stroke:#CCCC00;stroke-width:2.0px;stroke-linecap:butt;stroke-linejoin:miter;stroke-opacity:1\"/>\n",
       "<path class=\"bond-81 atom-82 atom-83\" d=\"M 228.2,116.7 L 232.3,118.7\" style=\"fill:none;fill-rule:evenodd;stroke:#000000;stroke-width:2.0px;stroke-linecap:butt;stroke-linejoin:miter;stroke-opacity:1\"/>\n",
       "<path class=\"bond-82 atom-83 atom-84\" d=\"M 232.3,118.7 L 232.6,123.1\" style=\"fill:none;fill-rule:evenodd;stroke:#000000;stroke-width:2.0px;stroke-linecap:butt;stroke-linejoin:miter;stroke-opacity:1\"/>\n",
       "<path class=\"bond-82 atom-83 atom-84\" d=\"M 231.4,119.4 L 231.6,122.5\" style=\"fill:none;fill-rule:evenodd;stroke:#000000;stroke-width:2.0px;stroke-linecap:butt;stroke-linejoin:miter;stroke-opacity:1\"/>\n",
       "<path class=\"bond-83 atom-84 atom-85\" d=\"M 232.6,123.1 L 236.6,125.1\" style=\"fill:none;fill-rule:evenodd;stroke:#000000;stroke-width:2.0px;stroke-linecap:butt;stroke-linejoin:miter;stroke-opacity:1\"/>\n",
       "<path class=\"bond-84 atom-42 atom-82\" d=\"M 227.9,112.2 L 228.2,116.7\" style=\"fill:none;fill-rule:evenodd;stroke:#000000;stroke-width:2.0px;stroke-linecap:butt;stroke-linejoin:miter;stroke-opacity:1\"/>\n",
       "<path class=\"bond-85 atom-86 atom-87\" d=\"M 320.2,92.4 L 316.2,90.5\" style=\"fill:none;fill-rule:evenodd;stroke:#000000;stroke-width:2.0px;stroke-linecap:butt;stroke-linejoin:miter;stroke-opacity:1\"/>\n",
       "<path class=\"bond-86 atom-87 atom-88\" d=\"M 316.2,90.5 L 312.5,93.0\" style=\"fill:none;fill-rule:evenodd;stroke:#000000;stroke-width:2.0px;stroke-linecap:butt;stroke-linejoin:miter;stroke-opacity:1\"/>\n",
       "<path class=\"bond-86 atom-87 atom-88\" d=\"M 316.2,91.6 L 313.5,93.3\" style=\"fill:none;fill-rule:evenodd;stroke:#000000;stroke-width:2.0px;stroke-linecap:butt;stroke-linejoin:miter;stroke-opacity:1\"/>\n",
       "<path class=\"bond-87 atom-88 atom-89\" d=\"M 312.5,93.0 L 308.4,91.0\" style=\"fill:none;fill-rule:evenodd;stroke:#000000;stroke-width:2.0px;stroke-linecap:butt;stroke-linejoin:miter;stroke-opacity:1\"/>\n",
       "<path class=\"bond-88 atom-77 atom-89\" d=\"M 304.7,93.5 L 308.4,91.0\" style=\"fill:none;fill-rule:evenodd;stroke:#000000;stroke-width:2.0px;stroke-linecap:butt;stroke-linejoin:miter;stroke-opacity:1\"/>\n",
       "<path class=\"bond-89 atom-90 atom-91\" d=\"M 154.4,63.1 L 150.3,61.1\" style=\"fill:none;fill-rule:evenodd;stroke:#000000;stroke-width:2.0px;stroke-linecap:butt;stroke-linejoin:miter;stroke-opacity:1\"/>\n",
       "<path class=\"bond-90 atom-91 atom-92\" d=\"M 150.3,61.1 L 150.0,56.6\" style=\"fill:none;fill-rule:evenodd;stroke:#000000;stroke-width:2.0px;stroke-linecap:butt;stroke-linejoin:miter;stroke-opacity:1\"/>\n",
       "<path class=\"bond-91 atom-92 atom-93\" d=\"M 150.0,56.6 L 146.0,54.6\" style=\"fill:none;fill-rule:evenodd;stroke:#000000;stroke-width:2.0px;stroke-linecap:butt;stroke-linejoin:miter;stroke-opacity:1\"/>\n",
       "<path class=\"bond-92 atom-72 atom-90\" d=\"M 154.7,67.6 L 154.4,63.1\" style=\"fill:none;fill-rule:evenodd;stroke:#000000;stroke-width:2.0px;stroke-linecap:butt;stroke-linejoin:miter;stroke-opacity:1\"/>\n",
       "<path class=\"bond-93 atom-94 atom-95\" d=\"M 236.9,129.6 L 240.9,131.6\" style=\"fill:none;fill-rule:evenodd;stroke:#000000;stroke-width:2.0px;stroke-linecap:butt;stroke-linejoin:miter;stroke-opacity:1\"/>\n",
       "<path class=\"bond-94 atom-95 atom-96\" d=\"M 240.9,131.6 L 241.2,136.1\" style=\"fill:none;fill-rule:evenodd;stroke:#000000;stroke-width:2.0px;stroke-linecap:butt;stroke-linejoin:miter;stroke-opacity:1\"/>\n",
       "<path class=\"bond-94 atom-95 atom-96\" d=\"M 240.1,132.3 L 240.3,135.5\" style=\"fill:none;fill-rule:evenodd;stroke:#000000;stroke-width:2.0px;stroke-linecap:butt;stroke-linejoin:miter;stroke-opacity:1\"/>\n",
       "<path class=\"bond-95 atom-96 atom-97\" d=\"M 241.2,136.1 L 245.3,138.1\" style=\"fill:none;fill-rule:evenodd;stroke:#000000;stroke-width:2.0px;stroke-linecap:butt;stroke-linejoin:miter;stroke-opacity:1\"/>\n",
       "<path class=\"bond-96 atom-85 atom-94\" d=\"M 236.6,125.1 L 236.9,129.6\" style=\"fill:none;fill-rule:evenodd;stroke:#000000;stroke-width:2.0px;stroke-linecap:butt;stroke-linejoin:miter;stroke-opacity:1\"/>\n",
       "<path class=\"bond-97 atom-98 atom-99\" d=\"M 241.0,75.3 L 237.3,77.8\" style=\"fill:none;fill-rule:evenodd;stroke:#000000;stroke-width:2.0px;stroke-linecap:butt;stroke-linejoin:miter;stroke-opacity:1\"/>\n",
       "<path class=\"bond-98 atom-99 atom-100\" d=\"M 237.3,77.8 L 233.3,75.8\" style=\"fill:none;fill-rule:evenodd;stroke:#000000;stroke-width:2.0px;stroke-linecap:butt;stroke-linejoin:miter;stroke-opacity:1\"/>\n",
       "<path class=\"bond-98 atom-99 atom-100\" d=\"M 237.1,76.7 L 234.3,75.3\" style=\"fill:none;fill-rule:evenodd;stroke:#000000;stroke-width:2.0px;stroke-linecap:butt;stroke-linejoin:miter;stroke-opacity:1\"/>\n",
       "<path class=\"bond-99 atom-100 atom-101\" d=\"M 233.3,75.8 L 229.5,78.3\" style=\"fill:none;fill-rule:evenodd;stroke:#000000;stroke-width:2.0px;stroke-linecap:butt;stroke-linejoin:miter;stroke-opacity:1\"/>\n",
       "<path class=\"bond-100 atom-66 atom-101\" d=\"M 225.5,76.3 L 229.5,78.3\" style=\"fill:none;fill-rule:evenodd;stroke:#000000;stroke-width:2.0px;stroke-linecap:butt;stroke-linejoin:miter;stroke-opacity:1\"/>\n",
       "<path class=\"bond-101 atom-102 atom-103\" d=\"M 186.0,126.3 L 185.6,121.8\" style=\"fill:none;fill-rule:evenodd;stroke:#000000;stroke-width:2.0px;stroke-linecap:butt;stroke-linejoin:miter;stroke-opacity:1\"/>\n",
       "<path class=\"bond-102 atom-103 atom-104\" d=\"M 185.6,121.8 L 189.4,119.3\" style=\"fill:none;fill-rule:evenodd;stroke:#000000;stroke-width:2.0px;stroke-linecap:butt;stroke-linejoin:miter;stroke-opacity:1\"/>\n",
       "<path class=\"bond-103 atom-104 atom-105\" d=\"M 189.4,119.3 L 193.4,121.3\" style=\"fill:none;fill-rule:evenodd;stroke:#000000;stroke-width:2.0px;stroke-linecap:butt;stroke-linejoin:miter;stroke-opacity:1\"/>\n",
       "<path class=\"bond-104 atom-67 atom-104\" d=\"M 189.2,117.2 L 189.3,118.3\" style=\"fill:none;fill-rule:evenodd;stroke:#CCCC00;stroke-width:2.0px;stroke-linecap:butt;stroke-linejoin:miter;stroke-opacity:1\"/>\n",
       "<path class=\"bond-104 atom-67 atom-104\" d=\"M 189.3,118.3 L 189.4,119.3\" style=\"fill:none;fill-rule:evenodd;stroke:#000000;stroke-width:2.0px;stroke-linecap:butt;stroke-linejoin:miter;stroke-opacity:1\"/>\n",
       "<path class=\"bond-105 atom-106 atom-107\" d=\"M 161.4,109.9 L 165.2,107.4\" style=\"fill:none;fill-rule:evenodd;stroke:#000000;stroke-width:2.0px;stroke-linecap:butt;stroke-linejoin:miter;stroke-opacity:1\"/>\n",
       "<path class=\"bond-106 atom-107 atom-108\" d=\"M 165.2,107.4 L 164.9,102.9\" style=\"fill:none;fill-rule:evenodd;stroke:#000000;stroke-width:2.0px;stroke-linecap:butt;stroke-linejoin:miter;stroke-opacity:1\"/>\n",
       "<path class=\"bond-107 atom-108 atom-109\" d=\"M 164.9,102.9 L 160.8,101.0\" style=\"fill:none;fill-rule:evenodd;stroke:#000000;stroke-width:2.0px;stroke-linecap:butt;stroke-linejoin:miter;stroke-opacity:1\"/>\n",
       "<path class=\"bond-108 atom-81 atom-108\" d=\"M 167.1,101.4 L 166.0,102.2\" style=\"fill:none;fill-rule:evenodd;stroke:#CCCC00;stroke-width:2.0px;stroke-linecap:butt;stroke-linejoin:miter;stroke-opacity:1\"/>\n",
       "<path class=\"bond-108 atom-81 atom-108\" d=\"M 166.0,102.2 L 164.9,102.9\" style=\"fill:none;fill-rule:evenodd;stroke:#000000;stroke-width:2.0px;stroke-linecap:butt;stroke-linejoin:miter;stroke-opacity:1\"/>\n",
       "<path class=\"bond-109 atom-110 atom-111\" d=\"M 202.1,134.2 L 198.1,132.2\" style=\"fill:none;fill-rule:evenodd;stroke:#000000;stroke-width:2.0px;stroke-linecap:butt;stroke-linejoin:miter;stroke-opacity:1\"/>\n",
       "<path class=\"bond-110 atom-111 atom-112\" d=\"M 198.1,132.2 L 197.8,127.7\" style=\"fill:none;fill-rule:evenodd;stroke:#000000;stroke-width:2.0px;stroke-linecap:butt;stroke-linejoin:miter;stroke-opacity:1\"/>\n",
       "<path class=\"bond-110 atom-111 atom-112\" d=\"M 198.9,131.5 L 198.7,128.4\" style=\"fill:none;fill-rule:evenodd;stroke:#000000;stroke-width:2.0px;stroke-linecap:butt;stroke-linejoin:miter;stroke-opacity:1\"/>\n",
       "<path class=\"bond-111 atom-112 atom-113\" d=\"M 197.8,127.7 L 193.7,125.8\" style=\"fill:none;fill-rule:evenodd;stroke:#000000;stroke-width:2.0px;stroke-linecap:butt;stroke-linejoin:miter;stroke-opacity:1\"/>\n",
       "<path class=\"bond-112 atom-105 atom-113\" d=\"M 193.4,121.3 L 193.7,125.8\" style=\"fill:none;fill-rule:evenodd;stroke:#000000;stroke-width:2.0px;stroke-linecap:butt;stroke-linejoin:miter;stroke-opacity:1\"/>\n",
       "<path class=\"bond-113 atom-114 atom-115\" d=\"M 145.3,102.0 L 149.3,104.0\" style=\"fill:none;fill-rule:evenodd;stroke:#000000;stroke-width:2.0px;stroke-linecap:butt;stroke-linejoin:miter;stroke-opacity:1\"/>\n",
       "<path class=\"bond-114 atom-115 atom-116\" d=\"M 149.3,104.0 L 153.1,101.5\" style=\"fill:none;fill-rule:evenodd;stroke:#000000;stroke-width:2.0px;stroke-linecap:butt;stroke-linejoin:miter;stroke-opacity:1\"/>\n",
       "<path class=\"bond-114 atom-115 atom-116\" d=\"M 149.4,102.9 L 152.0,101.1\" style=\"fill:none;fill-rule:evenodd;stroke:#000000;stroke-width:2.0px;stroke-linecap:butt;stroke-linejoin:miter;stroke-opacity:1\"/>\n",
       "<path class=\"bond-115 atom-116 atom-117\" d=\"M 153.1,101.5 L 157.1,103.5\" style=\"fill:none;fill-rule:evenodd;stroke:#000000;stroke-width:2.0px;stroke-linecap:butt;stroke-linejoin:miter;stroke-opacity:1\"/>\n",
       "<path class=\"bond-116 atom-109 atom-117\" d=\"M 160.8,101.0 L 157.1,103.5\" style=\"fill:none;fill-rule:evenodd;stroke:#000000;stroke-width:2.0px;stroke-linecap:butt;stroke-linejoin:miter;stroke-opacity:1\"/>\n",
       "<path class=\"bond-117 atom-107 atom-118\" d=\"M 165.2,107.4 L 166.4,108.0\" style=\"fill:none;fill-rule:evenodd;stroke:#000000;stroke-width:2.0px;stroke-linecap:butt;stroke-linejoin:miter;stroke-opacity:1\"/>\n",
       "<path class=\"bond-117 atom-107 atom-118\" d=\"M 166.4,108.0 L 167.7,108.7\" style=\"fill:none;fill-rule:evenodd;stroke:#CCCC00;stroke-width:2.0px;stroke-linecap:butt;stroke-linejoin:miter;stroke-opacity:1\"/>\n",
       "<path class=\"bond-118 atom-119 atom-120\" d=\"M 256.6,74.2 L 252.8,76.7\" style=\"fill:none;fill-rule:evenodd;stroke:#000000;stroke-width:2.0px;stroke-linecap:butt;stroke-linejoin:miter;stroke-opacity:1\"/>\n",
       "<path class=\"bond-119 atom-120 atom-121\" d=\"M 252.8,76.7 L 248.8,74.7\" style=\"fill:none;fill-rule:evenodd;stroke:#000000;stroke-width:2.0px;stroke-linecap:butt;stroke-linejoin:miter;stroke-opacity:1\"/>\n",
       "<path class=\"bond-119 atom-120 atom-121\" d=\"M 252.6,75.6 L 249.8,74.2\" style=\"fill:none;fill-rule:evenodd;stroke:#000000;stroke-width:2.0px;stroke-linecap:butt;stroke-linejoin:miter;stroke-opacity:1\"/>\n",
       "<path class=\"bond-120 atom-121 atom-122\" d=\"M 248.8,74.7 L 245.1,77.2\" style=\"fill:none;fill-rule:evenodd;stroke:#000000;stroke-width:2.0px;stroke-linecap:butt;stroke-linejoin:miter;stroke-opacity:1\"/>\n",
       "<path class=\"bond-121 atom-98 atom-122\" d=\"M 241.0,75.3 L 245.1,77.2\" style=\"fill:none;fill-rule:evenodd;stroke:#000000;stroke-width:2.0px;stroke-linecap:butt;stroke-linejoin:miter;stroke-opacity:1\"/>\n",
       "<path class=\"bond-122 atom-48 atom-123\" d=\"M 210.6,86.3 L 210.6,87.4\" style=\"fill:none;fill-rule:evenodd;stroke:#000000;stroke-width:2.0px;stroke-linecap:butt;stroke-linejoin:miter;stroke-opacity:1\"/>\n",
       "<path class=\"bond-122 atom-48 atom-123\" d=\"M 210.6,87.4 L 210.7,88.5\" style=\"fill:none;fill-rule:evenodd;stroke:#CCCC00;stroke-width:2.0px;stroke-linecap:butt;stroke-linejoin:miter;stroke-opacity:1\"/>\n",
       "<path class=\"bond-123 atom-123 atom-124\" d=\"M 212.4,91.6 L 213.4,92.1\" style=\"fill:none;fill-rule:evenodd;stroke:#CCCC00;stroke-width:2.0px;stroke-linecap:butt;stroke-linejoin:miter;stroke-opacity:1\"/>\n",
       "<path class=\"bond-124 atom-125 atom-126\" d=\"M 220.0,51.9 L 220.3,56.4\" style=\"fill:none;fill-rule:evenodd;stroke:#000000;stroke-width:2.0px;stroke-linecap:butt;stroke-linejoin:miter;stroke-opacity:1\"/>\n",
       "<path class=\"bond-125 atom-126 atom-127\" d=\"M 220.3,56.4 L 216.5,58.9\" style=\"fill:none;fill-rule:evenodd;stroke:#000000;stroke-width:2.0px;stroke-linecap:butt;stroke-linejoin:miter;stroke-opacity:1\"/>\n",
       "<path class=\"bond-125 atom-126 atom-127\" d=\"M 219.2,56.0 L 216.6,57.8\" style=\"fill:none;fill-rule:evenodd;stroke:#000000;stroke-width:2.0px;stroke-linecap:butt;stroke-linejoin:miter;stroke-opacity:1\"/>\n",
       "<path class=\"bond-126 atom-127 atom-128\" d=\"M 216.5,58.9 L 216.8,63.4\" style=\"fill:none;fill-rule:evenodd;stroke:#000000;stroke-width:2.0px;stroke-linecap:butt;stroke-linejoin:miter;stroke-opacity:1\"/>\n",
       "<path class=\"bond-127 atom-71 atom-128\" d=\"M 213.1,65.9 L 216.8,63.4\" style=\"fill:none;fill-rule:evenodd;stroke:#000000;stroke-width:2.0px;stroke-linecap:butt;stroke-linejoin:miter;stroke-opacity:1\"/>\n",
       "<path class=\"bond-128 atom-74 atom-129\" d=\"M 159.0,74.0 L 157.9,74.8\" style=\"fill:none;fill-rule:evenodd;stroke:#000000;stroke-width:2.0px;stroke-linecap:butt;stroke-linejoin:miter;stroke-opacity:1\"/>\n",
       "<path class=\"bond-128 atom-74 atom-129\" d=\"M 157.9,74.8 L 156.8,75.5\" style=\"fill:none;fill-rule:evenodd;stroke:#CCCC00;stroke-width:2.0px;stroke-linecap:butt;stroke-linejoin:miter;stroke-opacity:1\"/>\n",
       "<path class=\"bond-129 atom-129 atom-130\" d=\"M 153.8,75.8 L 152.8,75.3\" style=\"fill:none;fill-rule:evenodd;stroke:#CCCC00;stroke-width:2.0px;stroke-linecap:butt;stroke-linejoin:miter;stroke-opacity:1\"/>\n",
       "<path class=\"bond-130 atom-131 atom-132\" d=\"M 137.3,41.7 L 141.4,43.7\" style=\"fill:none;fill-rule:evenodd;stroke:#000000;stroke-width:2.0px;stroke-linecap:butt;stroke-linejoin:miter;stroke-opacity:1\"/>\n",
       "<path class=\"bond-131 atom-132 atom-133\" d=\"M 141.4,43.7 L 141.7,48.2\" style=\"fill:none;fill-rule:evenodd;stroke:#000000;stroke-width:2.0px;stroke-linecap:butt;stroke-linejoin:miter;stroke-opacity:1\"/>\n",
       "<path class=\"bond-131 atom-132 atom-133\" d=\"M 140.5,44.4 L 140.7,47.6\" style=\"fill:none;fill-rule:evenodd;stroke:#000000;stroke-width:2.0px;stroke-linecap:butt;stroke-linejoin:miter;stroke-opacity:1\"/>\n",
       "<path class=\"bond-132 atom-133 atom-134\" d=\"M 141.7,48.2 L 145.7,50.2\" style=\"fill:none;fill-rule:evenodd;stroke:#000000;stroke-width:2.0px;stroke-linecap:butt;stroke-linejoin:miter;stroke-opacity:1\"/>\n",
       "<path class=\"bond-133 atom-93 atom-134\" d=\"M 146.0,54.6 L 145.7,50.2\" style=\"fill:none;fill-rule:evenodd;stroke:#000000;stroke-width:2.0px;stroke-linecap:butt;stroke-linejoin:miter;stroke-opacity:1\"/>\n",
       "<path class=\"bond-134 atom-23 atom-135\" d=\"M 176.1,95.4 L 177.2,94.7\" style=\"fill:none;fill-rule:evenodd;stroke:#000000;stroke-width:2.0px;stroke-linecap:butt;stroke-linejoin:miter;stroke-opacity:1\"/>\n",
       "<path class=\"bond-134 atom-23 atom-135\" d=\"M 177.2,94.7 L 178.3,93.9\" style=\"fill:none;fill-rule:evenodd;stroke:#CCCC00;stroke-width:2.0px;stroke-linecap:butt;stroke-linejoin:miter;stroke-opacity:1\"/>\n",
       "<path class=\"bond-135 atom-136 atom-137\" d=\"M 226.8,37.9 L 227.1,42.4\" style=\"fill:none;fill-rule:evenodd;stroke:#000000;stroke-width:2.0px;stroke-linecap:butt;stroke-linejoin:miter;stroke-opacity:1\"/>\n",
       "<path class=\"bond-136 atom-137 atom-138\" d=\"M 227.1,42.4 L 223.4,44.9\" style=\"fill:none;fill-rule:evenodd;stroke:#000000;stroke-width:2.0px;stroke-linecap:butt;stroke-linejoin:miter;stroke-opacity:1\"/>\n",
       "<path class=\"bond-136 atom-137 atom-138\" d=\"M 226.1,42.0 L 223.4,43.8\" style=\"fill:none;fill-rule:evenodd;stroke:#000000;stroke-width:2.0px;stroke-linecap:butt;stroke-linejoin:miter;stroke-opacity:1\"/>\n",
       "<path class=\"bond-137 atom-138 atom-139\" d=\"M 223.4,44.9 L 223.7,49.4\" style=\"fill:none;fill-rule:evenodd;stroke:#000000;stroke-width:2.0px;stroke-linecap:butt;stroke-linejoin:miter;stroke-opacity:1\"/>\n",
       "<path class=\"bond-138 atom-125 atom-139\" d=\"M 220.0,51.9 L 223.7,49.4\" style=\"fill:none;fill-rule:evenodd;stroke:#000000;stroke-width:2.0px;stroke-linecap:butt;stroke-linejoin:miter;stroke-opacity:1\"/>\n",
       "<path class=\"bond-139 atom-140 atom-141\" d=\"M 233.7,23.9 L 234.0,28.4\" style=\"fill:none;fill-rule:evenodd;stroke:#000000;stroke-width:2.0px;stroke-linecap:butt;stroke-linejoin:miter;stroke-opacity:1\"/>\n",
       "<path class=\"bond-140 atom-141 atom-142\" d=\"M 234.0,28.4 L 230.2,30.9\" style=\"fill:none;fill-rule:evenodd;stroke:#000000;stroke-width:2.0px;stroke-linecap:butt;stroke-linejoin:miter;stroke-opacity:1\"/>\n",
       "<path class=\"bond-140 atom-141 atom-142\" d=\"M 232.9,28.1 L 230.3,29.8\" style=\"fill:none;fill-rule:evenodd;stroke:#000000;stroke-width:2.0px;stroke-linecap:butt;stroke-linejoin:miter;stroke-opacity:1\"/>\n",
       "<path class=\"bond-141 atom-142 atom-143\" d=\"M 230.2,30.9 L 230.5,35.4\" style=\"fill:none;fill-rule:evenodd;stroke:#000000;stroke-width:2.0px;stroke-linecap:butt;stroke-linejoin:miter;stroke-opacity:1\"/>\n",
       "<path class=\"bond-142 atom-136 atom-143\" d=\"M 226.8,37.9 L 230.5,35.4\" style=\"fill:none;fill-rule:evenodd;stroke:#000000;stroke-width:2.0px;stroke-linecap:butt;stroke-linejoin:miter;stroke-opacity:1\"/>\n",
       "<path class=\"bond-143 atom-118 atom-144\" d=\"M 169.4,111.8 L 169.5,113.9\" style=\"fill:none;fill-rule:evenodd;stroke:#CCCC00;stroke-width:2.0px;stroke-linecap:butt;stroke-linejoin:miter;stroke-opacity:1\"/>\n",
       "<path class=\"bond-144 atom-135 atom-145\" d=\"M 181.3,93.7 L 182.3,94.2\" style=\"fill:none;fill-rule:evenodd;stroke:#CCCC00;stroke-width:2.0px;stroke-linecap:butt;stroke-linejoin:miter;stroke-opacity:1\"/>\n",
       "<path class=\"bond-145 atom-146 atom-147\" d=\"M 177.0,108.9 L 177.3,113.4\" style=\"fill:none;fill-rule:evenodd;stroke:#000000;stroke-width:2.0px;stroke-linecap:butt;stroke-linejoin:miter;stroke-opacity:1\"/>\n",
       "<path class=\"bond-146 atom-147 atom-148\" d=\"M 177.3,113.4 L 173.5,115.9\" style=\"fill:none;fill-rule:evenodd;stroke:#000000;stroke-width:2.0px;stroke-linecap:butt;stroke-linejoin:miter;stroke-opacity:1\"/>\n",
       "<path class=\"bond-147 atom-148 atom-149\" d=\"M 173.5,115.9 L 173.8,120.4\" style=\"fill:none;fill-rule:evenodd;stroke:#000000;stroke-width:2.0px;stroke-linecap:butt;stroke-linejoin:miter;stroke-opacity:1\"/>\n",
       "<path class=\"bond-148 atom-144 atom-148\" d=\"M 171.0,114.6 L 172.3,115.2\" style=\"fill:none;fill-rule:evenodd;stroke:#CCCC00;stroke-width:2.0px;stroke-linecap:butt;stroke-linejoin:miter;stroke-opacity:1\"/>\n",
       "<path class=\"bond-148 atom-144 atom-148\" d=\"M 172.3,115.2 L 173.5,115.9\" style=\"fill:none;fill-rule:evenodd;stroke:#000000;stroke-width:2.0px;stroke-linecap:butt;stroke-linejoin:miter;stroke-opacity:1\"/>\n",
       "<path class=\"bond-149 atom-150 atom-151\" d=\"M 237.4,21.4 L 237.1,17.0\" style=\"fill:none;fill-rule:evenodd;stroke:#000000;stroke-width:2.0px;stroke-linecap:butt;stroke-linejoin:miter;stroke-opacity:1\"/>\n",
       "<path class=\"bond-150 atom-151 atom-152\" d=\"M 237.1,17.0 L 240.8,14.4\" style=\"fill:none;fill-rule:evenodd;stroke:#000000;stroke-width:2.0px;stroke-linecap:butt;stroke-linejoin:miter;stroke-opacity:1\"/>\n",
       "<path class=\"bond-150 atom-151 atom-152\" d=\"M 238.2,17.3 L 240.8,15.6\" style=\"fill:none;fill-rule:evenodd;stroke:#000000;stroke-width:2.0px;stroke-linecap:butt;stroke-linejoin:miter;stroke-opacity:1\"/>\n",
       "<path class=\"bond-151 atom-152 atom-153\" d=\"M 240.8,14.4 L 240.5,10.0\" style=\"fill:none;fill-rule:evenodd;stroke:#000000;stroke-width:2.0px;stroke-linecap:butt;stroke-linejoin:miter;stroke-opacity:1\"/>\n",
       "<path class=\"bond-152 atom-140 atom-150\" d=\"M 233.7,23.9 L 237.4,21.4\" style=\"fill:none;fill-rule:evenodd;stroke:#000000;stroke-width:2.0px;stroke-linecap:butt;stroke-linejoin:miter;stroke-opacity:1\"/>\n",
       "<path class=\"bond-153 atom-154 atom-155\" d=\"M 143.5,75.1 L 147.5,77.1\" style=\"fill:none;fill-rule:evenodd;stroke:#000000;stroke-width:2.0px;stroke-linecap:butt;stroke-linejoin:miter;stroke-opacity:1\"/>\n",
       "<path class=\"bond-154 atom-155 atom-156\" d=\"M 147.5,77.1 L 147.8,81.6\" style=\"fill:none;fill-rule:evenodd;stroke:#000000;stroke-width:2.0px;stroke-linecap:butt;stroke-linejoin:miter;stroke-opacity:1\"/>\n",
       "<path class=\"bond-155 atom-156 atom-157\" d=\"M 147.8,81.6 L 144.1,84.1\" style=\"fill:none;fill-rule:evenodd;stroke:#000000;stroke-width:2.0px;stroke-linecap:butt;stroke-linejoin:miter;stroke-opacity:1\"/>\n",
       "<path class=\"bond-156 atom-130 atom-155\" d=\"M 149.7,75.6 L 148.6,76.3\" style=\"fill:none;fill-rule:evenodd;stroke:#CCCC00;stroke-width:2.0px;stroke-linecap:butt;stroke-linejoin:miter;stroke-opacity:1\"/>\n",
       "<path class=\"bond-156 atom-130 atom-155\" d=\"M 148.6,76.3 L 147.5,77.1\" style=\"fill:none;fill-rule:evenodd;stroke:#000000;stroke-width:2.0px;stroke-linecap:butt;stroke-linejoin:miter;stroke-opacity:1\"/>\n",
       "<path class=\"bond-157 atom-158 atom-159\" d=\"M 129.8,103.1 L 133.8,105.0\" style=\"fill:none;fill-rule:evenodd;stroke:#000000;stroke-width:2.0px;stroke-linecap:butt;stroke-linejoin:miter;stroke-opacity:1\"/>\n",
       "<path class=\"bond-158 atom-159 atom-160\" d=\"M 133.8,105.0 L 137.5,102.5\" style=\"fill:none;fill-rule:evenodd;stroke:#000000;stroke-width:2.0px;stroke-linecap:butt;stroke-linejoin:miter;stroke-opacity:1\"/>\n",
       "<path class=\"bond-158 atom-159 atom-160\" d=\"M 133.8,103.9 L 136.5,102.2\" style=\"fill:none;fill-rule:evenodd;stroke:#000000;stroke-width:2.0px;stroke-linecap:butt;stroke-linejoin:miter;stroke-opacity:1\"/>\n",
       "<path class=\"bond-159 atom-160 atom-161\" d=\"M 137.5,102.5 L 141.6,104.5\" style=\"fill:none;fill-rule:evenodd;stroke:#000000;stroke-width:2.0px;stroke-linecap:butt;stroke-linejoin:miter;stroke-opacity:1\"/>\n",
       "<path class=\"bond-160 atom-114 atom-161\" d=\"M 145.3,102.0 L 141.6,104.5\" style=\"fill:none;fill-rule:evenodd;stroke:#000000;stroke-width:2.0px;stroke-linecap:butt;stroke-linejoin:miter;stroke-opacity:1\"/>\n",
       "<path class=\"bond-161 atom-162 atom-163\" d=\"M 114.2,104.1 L 118.2,106.1\" style=\"fill:none;fill-rule:evenodd;stroke:#000000;stroke-width:2.0px;stroke-linecap:butt;stroke-linejoin:miter;stroke-opacity:1\"/>\n",
       "<path class=\"bond-162 atom-163 atom-164\" d=\"M 118.2,106.1 L 122.0,103.6\" style=\"fill:none;fill-rule:evenodd;stroke:#000000;stroke-width:2.0px;stroke-linecap:butt;stroke-linejoin:miter;stroke-opacity:1\"/>\n",
       "<path class=\"bond-163 atom-164 atom-165\" d=\"M 122.0,103.6 L 126.0,105.6\" style=\"fill:none;fill-rule:evenodd;stroke:#000000;stroke-width:2.0px;stroke-linecap:butt;stroke-linejoin:miter;stroke-opacity:1\"/>\n",
       "<path class=\"bond-164 atom-158 atom-165\" d=\"M 129.8,103.1 L 126.0,105.6\" style=\"fill:none;fill-rule:evenodd;stroke:#000000;stroke-width:2.0px;stroke-linecap:butt;stroke-linejoin:miter;stroke-opacity:1\"/>\n",
       "<path class=\"bond-165 atom-92 atom-166\" d=\"M 150.0,56.6 L 151.1,55.9\" style=\"fill:none;fill-rule:evenodd;stroke:#000000;stroke-width:2.0px;stroke-linecap:butt;stroke-linejoin:miter;stroke-opacity:1\"/>\n",
       "<path class=\"bond-165 atom-92 atom-166\" d=\"M 151.1,55.9 L 152.3,55.1\" style=\"fill:none;fill-rule:evenodd;stroke:#CCCC00;stroke-width:2.0px;stroke-linecap:butt;stroke-linejoin:miter;stroke-opacity:1\"/>\n",
       "<path class=\"bond-166 atom-164 atom-167\" d=\"M 122.0,103.6 L 121.9,102.5\" style=\"fill:none;fill-rule:evenodd;stroke:#000000;stroke-width:2.0px;stroke-linecap:butt;stroke-linejoin:miter;stroke-opacity:1\"/>\n",
       "<path class=\"bond-166 atom-164 atom-167\" d=\"M 121.9,102.5 L 121.8,101.5\" style=\"fill:none;fill-rule:evenodd;stroke:#CCCC00;stroke-width:2.0px;stroke-linecap:butt;stroke-linejoin:miter;stroke-opacity:1\"/>\n",
       "<path class=\"bond-167 atom-168 atom-169\" d=\"M 324.0,89.9 L 328.0,91.9\" style=\"fill:none;fill-rule:evenodd;stroke:#000000;stroke-width:2.0px;stroke-linecap:butt;stroke-linejoin:miter;stroke-opacity:1\"/>\n",
       "<path class=\"bond-168 atom-169 atom-170\" d=\"M 328.0,91.9 L 331.8,89.4\" style=\"fill:none;fill-rule:evenodd;stroke:#000000;stroke-width:2.0px;stroke-linecap:butt;stroke-linejoin:miter;stroke-opacity:1\"/>\n",
       "<path class=\"bond-168 atom-169 atom-170\" d=\"M 328.1,90.8 L 330.7,89.0\" style=\"fill:none;fill-rule:evenodd;stroke:#000000;stroke-width:2.0px;stroke-linecap:butt;stroke-linejoin:miter;stroke-opacity:1\"/>\n",
       "<path class=\"bond-169 atom-170 atom-171\" d=\"M 331.8,89.4 L 335.8,91.4\" style=\"fill:none;fill-rule:evenodd;stroke:#000000;stroke-width:2.0px;stroke-linecap:butt;stroke-linejoin:miter;stroke-opacity:1\"/>\n",
       "<path class=\"bond-170 atom-86 atom-168\" d=\"M 320.2,92.4 L 324.0,89.9\" style=\"fill:none;fill-rule:evenodd;stroke:#000000;stroke-width:2.0px;stroke-linecap:butt;stroke-linejoin:miter;stroke-opacity:1\"/>\n",
       "<path class=\"bond-171 atom-167 atom-172\" d=\"M 120.2,98.3 L 119.2,97.9\" style=\"fill:none;fill-rule:evenodd;stroke:#CCCC00;stroke-width:2.0px;stroke-linecap:butt;stroke-linejoin:miter;stroke-opacity:1\"/>\n",
       "<path class=\"bond-172 atom-173 atom-174\" d=\"M 113.3,90.6 L 117.3,92.6\" style=\"fill:none;fill-rule:evenodd;stroke:#000000;stroke-width:2.0px;stroke-linecap:butt;stroke-linejoin:miter;stroke-opacity:1\"/>\n",
       "<path class=\"bond-173 atom-174 atom-175\" d=\"M 117.3,92.6 L 121.1,90.1\" style=\"fill:none;fill-rule:evenodd;stroke:#000000;stroke-width:2.0px;stroke-linecap:butt;stroke-linejoin:miter;stroke-opacity:1\"/>\n",
       "<path class=\"bond-174 atom-175 atom-176\" d=\"M 121.1,90.1 L 120.8,85.6\" style=\"fill:none;fill-rule:evenodd;stroke:#000000;stroke-width:2.0px;stroke-linecap:butt;stroke-linejoin:miter;stroke-opacity:1\"/>\n",
       "<path class=\"bond-175 atom-172 atom-174\" d=\"M 117.5,94.8 L 117.4,93.7\" style=\"fill:none;fill-rule:evenodd;stroke:#CCCC00;stroke-width:2.0px;stroke-linecap:butt;stroke-linejoin:miter;stroke-opacity:1\"/>\n",
       "<path class=\"bond-175 atom-172 atom-174\" d=\"M 117.4,93.7 L 117.3,92.6\" style=\"fill:none;fill-rule:evenodd;stroke:#000000;stroke-width:2.0px;stroke-linecap:butt;stroke-linejoin:miter;stroke-opacity:1\"/>\n",
       "<path class=\"bond-176 atom-177 atom-178\" d=\"M 127.6,71.7 L 127.9,76.1\" style=\"fill:none;fill-rule:evenodd;stroke:#000000;stroke-width:2.0px;stroke-linecap:butt;stroke-linejoin:miter;stroke-opacity:1\"/>\n",
       "<path class=\"bond-177 atom-178 atom-179\" d=\"M 127.9,76.1 L 124.2,78.6\" style=\"fill:none;fill-rule:evenodd;stroke:#000000;stroke-width:2.0px;stroke-linecap:butt;stroke-linejoin:miter;stroke-opacity:1\"/>\n",
       "<path class=\"bond-177 atom-178 atom-179\" d=\"M 126.9,75.8 L 124.3,77.5\" style=\"fill:none;fill-rule:evenodd;stroke:#000000;stroke-width:2.0px;stroke-linecap:butt;stroke-linejoin:miter;stroke-opacity:1\"/>\n",
       "<path class=\"bond-178 atom-179 atom-180\" d=\"M 124.2,78.6 L 124.5,83.1\" style=\"fill:none;fill-rule:evenodd;stroke:#000000;stroke-width:2.0px;stroke-linecap:butt;stroke-linejoin:miter;stroke-opacity:1\"/>\n",
       "<path class=\"bond-179 atom-176 atom-180\" d=\"M 120.8,85.6 L 124.5,83.1\" style=\"fill:none;fill-rule:evenodd;stroke:#000000;stroke-width:2.0px;stroke-linecap:butt;stroke-linejoin:miter;stroke-opacity:1\"/>\n",
       "<path class=\"bond-180 atom-166 atom-181\" d=\"M 153.6,51.9 L 153.5,50.7\" style=\"fill:none;fill-rule:evenodd;stroke:#CCCC00;stroke-width:2.0px;stroke-linecap:butt;stroke-linejoin:miter;stroke-opacity:1\"/>\n",
       "<path class=\"bond-180 atom-166 atom-181\" d=\"M 153.5,50.7 L 153.5,49.6\" style=\"fill:none;fill-rule:evenodd;stroke:#000000;stroke-width:2.0px;stroke-linecap:butt;stroke-linejoin:miter;stroke-opacity:1\"/>\n",
       "<path class=\"bond-181 atom-145 atom-182\" d=\"M 185.3,93.9 L 185.5,93.7\" style=\"fill:none;fill-rule:evenodd;stroke:#CCCC00;stroke-width:2.0px;stroke-linecap:butt;stroke-linejoin:miter;stroke-opacity:1\"/>\n",
       "<path class=\"bond-181 atom-145 atom-182\" d=\"M 185.5,93.7 L 185.8,93.6\" style=\"fill:none;fill-rule:evenodd;stroke:#000000;stroke-width:2.0px;stroke-linecap:butt;stroke-linejoin:miter;stroke-opacity:1\"/>\n",
       "<path class=\"bond-182 atom-175 atom-183\" d=\"M 121.1,90.1 L 123.3,91.2\" style=\"fill:none;fill-rule:evenodd;stroke:#000000;stroke-width:2.0px;stroke-linecap:butt;stroke-linejoin:miter;stroke-opacity:1\"/>\n",
       "<path class=\"bond-183 atom-45 atom-184\" d=\"M 220.5,117.2 L 222.7,118.3\" style=\"fill:none;fill-rule:evenodd;stroke:#000000;stroke-width:2.0px;stroke-linecap:butt;stroke-linejoin:miter;stroke-opacity:1\"/>\n",
       "<path class=\"bond-184 atom-50 atom-185\" d=\"M 197.2,118.8 L 199.4,119.9\" style=\"fill:none;fill-rule:evenodd;stroke:#000000;stroke-width:2.0px;stroke-linecap:butt;stroke-linejoin:miter;stroke-opacity:1\"/>\n",
       "<path class=\"bond-185 atom-153 atom-186\" d=\"M 240.5,10.0 L 242.5,8.7\" style=\"fill:none;fill-rule:evenodd;stroke:#000000;stroke-width:2.0px;stroke-linecap:butt;stroke-linejoin:miter;stroke-opacity:1\"/>\n",
       "<path class=\"bond-186 atom-162 atom-187\" d=\"M 114.2,104.1 L 112.3,105.4\" style=\"fill:none;fill-rule:evenodd;stroke:#000000;stroke-width:2.0px;stroke-linecap:butt;stroke-linejoin:miter;stroke-opacity:1\"/>\n",
       "<path class=\"bond-187 atom-156 atom-188\" d=\"M 147.8,81.6 L 150.0,82.6\" style=\"fill:none;fill-rule:evenodd;stroke:#000000;stroke-width:2.0px;stroke-linecap:butt;stroke-linejoin:miter;stroke-opacity:1\"/>\n",
       "<path class=\"bond-188 atom-54 atom-189\" d=\"M 213.3,126.7 L 213.4,128.9\" style=\"fill:none;fill-rule:evenodd;stroke:#000000;stroke-width:2.0px;stroke-linecap:butt;stroke-linejoin:miter;stroke-opacity:1\"/>\n",
       "<path class=\"bond-189 atom-147 atom-190\" d=\"M 177.3,113.4 L 179.5,114.5\" style=\"fill:none;fill-rule:evenodd;stroke:#000000;stroke-width:2.0px;stroke-linecap:butt;stroke-linejoin:miter;stroke-opacity:1\"/>\n",
       "<path class=\"bond-190 atom-44 atom-191\" d=\"M 220.2,112.7 L 217.9,111.6\" style=\"fill:none;fill-rule:evenodd;stroke:#000000;stroke-width:2.0px;stroke-linecap:butt;stroke-linejoin:miter;stroke-opacity:1\"/>\n",
       "<path class=\"bond-191 atom-154 atom-192\" d=\"M 143.5,75.1 L 141.6,76.4\" style=\"fill:none;fill-rule:evenodd;stroke:#000000;stroke-width:2.0px;stroke-linecap:butt;stroke-linejoin:miter;stroke-opacity:1\"/>\n",
       "<path class=\"bond-192 atom-119 atom-193\" d=\"M 256.6,74.2 L 258.8,75.3\" style=\"fill:none;fill-rule:evenodd;stroke:#000000;stroke-width:2.0px;stroke-linecap:butt;stroke-linejoin:miter;stroke-opacity:1\"/>\n",
       "<path class=\"bond-193 atom-157 atom-194\" d=\"M 144.1,84.1 L 144.2,86.3\" style=\"fill:none;fill-rule:evenodd;stroke:#000000;stroke-width:2.0px;stroke-linecap:butt;stroke-linejoin:miter;stroke-opacity:1\"/>\n",
       "<path class=\"bond-194 atom-173 atom-195\" d=\"M 113.3,90.6 L 113.2,88.4\" style=\"fill:none;fill-rule:evenodd;stroke:#000000;stroke-width:2.0px;stroke-linecap:butt;stroke-linejoin:miter;stroke-opacity:1\"/>\n",
       "<path class=\"bond-195 atom-171 atom-196\" d=\"M 335.8,91.4 L 337.7,90.1\" style=\"fill:none;fill-rule:evenodd;stroke:#000000;stroke-width:2.0px;stroke-linecap:butt;stroke-linejoin:miter;stroke-opacity:1\"/>\n",
       "<path class=\"bond-196 atom-131 atom-197\" d=\"M 137.3,41.7 L 137.2,39.5\" style=\"fill:none;fill-rule:evenodd;stroke:#000000;stroke-width:2.0px;stroke-linecap:butt;stroke-linejoin:miter;stroke-opacity:1\"/>\n",
       "<path class=\"bond-197 atom-102 atom-198\" d=\"M 186.0,126.3 L 184.0,127.6\" style=\"fill:none;fill-rule:evenodd;stroke:#000000;stroke-width:2.0px;stroke-linecap:butt;stroke-linejoin:miter;stroke-opacity:1\"/>\n",
       "<path class=\"bond-198 atom-97 atom-199\" d=\"M 245.3,138.1 L 245.4,140.3\" style=\"fill:none;fill-rule:evenodd;stroke:#000000;stroke-width:2.0px;stroke-linecap:butt;stroke-linejoin:miter;stroke-opacity:1\"/>\n",
       "<path class=\"bond-199 atom-110 atom-200\" d=\"M 202.1,134.2 L 202.2,136.4\" style=\"fill:none;fill-rule:evenodd;stroke:#000000;stroke-width:2.0px;stroke-linecap:butt;stroke-linejoin:miter;stroke-opacity:1\"/>\n",
       "<path class=\"bond-200 atom-177 atom-201\" d=\"M 127.6,71.7 L 129.6,70.4\" style=\"fill:none;fill-rule:evenodd;stroke:#000000;stroke-width:2.0px;stroke-linecap:butt;stroke-linejoin:miter;stroke-opacity:1\"/>\n",
       "<path class=\"bond-201 atom-103 atom-202\" d=\"M 185.6,121.8 L 183.4,120.7\" style=\"fill:none;fill-rule:evenodd;stroke:#000000;stroke-width:2.0px;stroke-linecap:butt;stroke-linejoin:miter;stroke-opacity:1\"/>\n",
       "<path class=\"bond-202 atom-73 atom-203\" d=\"M 158.7,69.6 L 160.6,68.3\" style=\"fill:none;fill-rule:evenodd;stroke:#000000;stroke-width:2.0px;stroke-linecap:butt;stroke-linejoin:miter;stroke-opacity:1\"/>\n",
       "<path class=\"bond-203 atom-163 atom-204\" d=\"M 118.2,106.1 L 118.4,108.3\" style=\"fill:none;fill-rule:evenodd;stroke:#000000;stroke-width:2.0px;stroke-linecap:butt;stroke-linejoin:miter;stroke-opacity:1\"/>\n",
       "<path class=\"bond-204 atom-124 atom-205\" d=\"M 216.4,91.8 L 216.6,91.6\" style=\"fill:none;fill-rule:evenodd;stroke:#CCCC00;stroke-width:2.0px;stroke-linecap:butt;stroke-linejoin:miter;stroke-opacity:1\"/>\n",
       "<path class=\"bond-204 atom-124 atom-205\" d=\"M 216.6,91.6 L 216.8,91.5\" style=\"fill:none;fill-rule:evenodd;stroke:#000000;stroke-width:2.0px;stroke-linecap:butt;stroke-linejoin:miter;stroke-opacity:1\"/>\n",
       "<path class=\"bond-205 atom-149 atom-206\" d=\"M 173.8,120.4 L 176.1,121.4\" style=\"fill:none;fill-rule:evenodd;stroke:#000000;stroke-width:2.0px;stroke-linecap:butt;stroke-linejoin:miter;stroke-opacity:1\"/>\n",
       "<path class=\"bond-206 atom-91 atom-207\" d=\"M 150.3,61.1 L 148.4,62.4\" style=\"fill:none;fill-rule:evenodd;stroke:#000000;stroke-width:2.0px;stroke-linecap:butt;stroke-linejoin:miter;stroke-opacity:1\"/>\n",
       "<path class=\"bond-207 atom-106 atom-208\" d=\"M 161.4,109.9 L 161.6,112.1\" style=\"fill:none;fill-rule:evenodd;stroke:#000000;stroke-width:2.0px;stroke-linecap:butt;stroke-linejoin:miter;stroke-opacity:1\"/>\n",
       "<path class=\"bond-208 atom-146 atom-209\" d=\"M 177.0,108.9 L 178.9,107.6\" style=\"fill:none;fill-rule:evenodd;stroke:#000000;stroke-width:2.0px;stroke-linecap:butt;stroke-linejoin:miter;stroke-opacity:1\"/>\n",
       "<path class=\"atom-0\" d=\"M 224.4 83.2 L 225.0 83.2 L 225.0 85.0 L 227.2 85.0 L 227.2 83.2 L 227.8 83.2 L 227.8 87.4 L 227.2 87.4 L 227.2 85.4 L 225.0 85.4 L 225.0 87.4 L 224.4 87.4 L 224.4 83.2 \" fill=\"#000000\"/>\n",
       "<path class=\"atom-1\" d=\"M 225.2 91.2 Q 225.3 91.2, 225.5 91.3 Q 225.7 91.4, 225.9 91.5 Q 226.1 91.5, 226.3 91.5 Q 226.7 91.5, 226.9 91.3 Q 227.2 91.1, 227.2 90.8 Q 227.2 90.5, 227.1 90.4 Q 226.9 90.3, 226.8 90.2 Q 226.6 90.1, 226.3 90.0 Q 225.9 89.9, 225.7 89.8 Q 225.5 89.7, 225.3 89.5 Q 225.1 89.2, 225.1 88.8 Q 225.1 88.3, 225.5 88.0 Q 225.9 87.6, 226.6 87.6 Q 227.1 87.6, 227.6 87.9 L 227.5 88.3 Q 227.0 88.1, 226.6 88.1 Q 226.2 88.1, 226.0 88.3 Q 225.7 88.5, 225.7 88.8 Q 225.7 89.0, 225.9 89.1 Q 226.0 89.3, 226.1 89.4 Q 226.3 89.4, 226.6 89.5 Q 227.0 89.6, 227.2 89.8 Q 227.4 89.9, 227.6 90.1 Q 227.8 90.4, 227.8 90.8 Q 227.8 91.4, 227.4 91.7 Q 227.0 92.0, 226.3 92.0 Q 226.0 92.0, 225.7 91.9 Q 225.4 91.8, 225.1 91.7 L 225.2 91.2 \" fill=\"#CCCC00\"/>\n",
       "<path class=\"atom-2\" d=\"M 221.5 93.7 Q 221.5 93.7, 221.7 93.8 Q 221.9 93.9, 222.1 94.0 Q 222.4 94.0, 222.6 94.0 Q 223.0 94.0, 223.2 93.8 Q 223.4 93.6, 223.4 93.3 Q 223.4 93.1, 223.3 92.9 Q 223.2 92.8, 223.0 92.7 Q 222.9 92.6, 222.6 92.5 Q 222.2 92.4, 221.9 92.3 Q 221.7 92.2, 221.6 92.0 Q 221.4 91.7, 221.4 91.3 Q 221.4 90.8, 221.8 90.5 Q 222.1 90.2, 222.9 90.2 Q 223.3 90.2, 223.9 90.4 L 223.8 90.9 Q 223.3 90.6, 222.9 90.6 Q 222.5 90.6, 222.2 90.8 Q 222.0 91.0, 222.0 91.3 Q 222.0 91.5, 222.1 91.6 Q 222.2 91.8, 222.4 91.9 Q 222.6 91.9, 222.9 92.0 Q 223.3 92.1, 223.5 92.3 Q 223.7 92.4, 223.9 92.6 Q 224.0 92.9, 224.0 93.3 Q 224.0 93.9, 223.6 94.2 Q 223.3 94.5, 222.6 94.5 Q 222.2 94.5, 221.9 94.4 Q 221.7 94.3, 221.3 94.2 L 221.5 93.7 \" fill=\"#CCCC00\"/>\n",
       "<path class=\"atom-15\" d=\"M 218.4 105.2 Q 218.4 105.2, 218.6 105.3 Q 218.8 105.4, 219.0 105.4 Q 219.2 105.5, 219.4 105.5 Q 219.9 105.5, 220.1 105.3 Q 220.3 105.1, 220.3 104.8 Q 220.3 104.5, 220.2 104.4 Q 220.1 104.2, 219.9 104.2 Q 219.7 104.1, 219.4 104.0 Q 219.0 103.9, 218.8 103.8 Q 218.6 103.7, 218.4 103.4 Q 218.3 103.2, 218.3 102.8 Q 218.3 102.3, 218.6 102.0 Q 219.0 101.6, 219.7 101.6 Q 220.2 101.6, 220.8 101.9 L 220.6 102.3 Q 220.1 102.1, 219.7 102.1 Q 219.3 102.1, 219.1 102.3 Q 218.9 102.5, 218.9 102.8 Q 218.9 103.0, 219.0 103.1 Q 219.1 103.3, 219.3 103.3 Q 219.5 103.4, 219.7 103.5 Q 220.1 103.6, 220.4 103.7 Q 220.6 103.9, 220.7 104.1 Q 220.9 104.3, 220.9 104.8 Q 220.9 105.4, 220.5 105.7 Q 220.1 106.0, 219.5 106.0 Q 219.1 106.0, 218.8 105.9 Q 218.5 105.8, 218.2 105.7 L 218.4 105.2 \" fill=\"#CCCC00\"/>\n",
       "<path class=\"atom-20\" d=\"M 222.4 107.2 Q 222.4 107.2, 222.6 107.3 Q 222.8 107.4, 223.0 107.4 Q 223.3 107.5, 223.5 107.5 Q 223.9 107.5, 224.1 107.3 Q 224.4 107.1, 224.4 106.7 Q 224.4 106.5, 224.2 106.4 Q 224.1 106.2, 223.9 106.1 Q 223.8 106.1, 223.5 106.0 Q 223.1 105.9, 222.9 105.8 Q 222.6 105.6, 222.5 105.4 Q 222.3 105.2, 222.3 104.8 Q 222.3 104.3, 222.7 103.9 Q 223.0 103.6, 223.8 103.6 Q 224.3 103.6, 224.8 103.8 L 224.7 104.3 Q 224.2 104.1, 223.8 104.1 Q 223.4 104.1, 223.1 104.3 Q 222.9 104.4, 222.9 104.7 Q 222.9 105.0, 223.0 105.1 Q 223.1 105.2, 223.3 105.3 Q 223.5 105.4, 223.8 105.5 Q 224.2 105.6, 224.4 105.7 Q 224.6 105.8, 224.8 106.1 Q 224.9 106.3, 224.9 106.7 Q 224.9 107.3, 224.6 107.6 Q 224.2 108.0, 223.5 108.0 Q 223.1 108.0, 222.8 107.9 Q 222.6 107.8, 222.2 107.7 L 222.4 107.2 \" fill=\"#CCCC00\"/>\n",
       "<path class=\"atom-25\" d=\"M 202.8 106.3 Q 202.9 106.3, 203.1 106.4 Q 203.3 106.4, 203.5 106.5 Q 203.7 106.5, 203.9 106.5 Q 204.3 106.5, 204.5 106.4 Q 204.8 106.2, 204.8 105.8 Q 204.8 105.6, 204.7 105.4 Q 204.5 105.3, 204.4 105.2 Q 204.2 105.1, 203.9 105.0 Q 203.5 104.9, 203.3 104.8 Q 203.1 104.7, 202.9 104.5 Q 202.7 104.3, 202.7 103.9 Q 202.7 103.3, 203.1 103.0 Q 203.5 102.7, 204.2 102.7 Q 204.7 102.7, 205.2 102.9 L 205.1 103.4 Q 204.6 103.2, 204.2 103.2 Q 203.8 103.2, 203.6 103.3 Q 203.3 103.5, 203.3 103.8 Q 203.3 104.0, 203.5 104.2 Q 203.6 104.3, 203.7 104.4 Q 203.9 104.5, 204.2 104.6 Q 204.6 104.7, 204.8 104.8 Q 205.0 104.9, 205.2 105.2 Q 205.4 105.4, 205.4 105.8 Q 205.4 106.4, 205.0 106.7 Q 204.6 107.0, 203.9 107.0 Q 203.6 107.0, 203.3 106.9 Q 203.0 106.9, 202.7 106.7 L 202.8 106.3 \" fill=\"#CCCC00\"/>\n",
       "<path class=\"atom-26\" d=\"M 199.1 108.8 Q 199.1 108.8, 199.3 108.9 Q 199.5 108.9, 199.7 109.0 Q 200.0 109.0, 200.2 109.0 Q 200.6 109.0, 200.8 108.9 Q 201.0 108.7, 201.0 108.3 Q 201.0 108.1, 200.9 107.9 Q 200.8 107.8, 200.6 107.7 Q 200.5 107.6, 200.2 107.5 Q 199.8 107.4, 199.5 107.3 Q 199.3 107.2, 199.2 107.0 Q 199.0 106.8, 199.0 106.4 Q 199.0 105.8, 199.4 105.5 Q 199.7 105.2, 200.5 105.2 Q 200.9 105.2, 201.5 105.4 L 201.4 105.9 Q 200.9 105.7, 200.5 105.7 Q 200.1 105.7, 199.8 105.8 Q 199.6 106.0, 199.6 106.3 Q 199.6 106.5, 199.7 106.7 Q 199.8 106.8, 200.0 106.9 Q 200.2 107.0, 200.5 107.1 Q 200.9 107.2, 201.1 107.3 Q 201.3 107.4, 201.5 107.7 Q 201.6 107.9, 201.6 108.3 Q 201.6 108.9, 201.2 109.2 Q 200.9 109.5, 200.2 109.5 Q 199.8 109.5, 199.5 109.5 Q 199.3 109.4, 198.9 109.2 L 199.1 108.8 \" fill=\"#CCCC00\"/>\n",
       "<path class=\"atom-31\" d=\"M 205.9 94.8 Q 206.0 94.8, 206.2 94.9 Q 206.4 95.0, 206.6 95.0 Q 206.8 95.1, 207.0 95.1 Q 207.4 95.1, 207.7 94.9 Q 207.9 94.7, 207.9 94.3 Q 207.9 94.1, 207.8 94.0 Q 207.7 93.8, 207.5 93.7 Q 207.3 93.7, 207.0 93.6 Q 206.6 93.5, 206.4 93.3 Q 206.2 93.2, 206.0 93.0 Q 205.9 92.8, 205.9 92.4 Q 205.9 91.9, 206.2 91.5 Q 206.6 91.2, 207.3 91.2 Q 207.8 91.2, 208.4 91.4 L 208.2 91.9 Q 207.7 91.7, 207.3 91.7 Q 206.9 91.7, 206.7 91.9 Q 206.5 92.0, 206.5 92.3 Q 206.5 92.6, 206.6 92.7 Q 206.7 92.8, 206.9 92.9 Q 207.0 93.0, 207.3 93.1 Q 207.7 93.2, 207.9 93.3 Q 208.2 93.4, 208.3 93.7 Q 208.5 93.9, 208.5 94.3 Q 208.5 94.9, 208.1 95.2 Q 207.7 95.6, 207.1 95.6 Q 206.7 95.6, 206.4 95.5 Q 206.1 95.4, 205.8 95.3 L 205.9 94.8 \" fill=\"#CCCC00\"/>\n",
       "<path class=\"atom-32\" d=\"M 201.9 92.8 Q 202.0 92.8, 202.2 92.9 Q 202.3 93.0, 202.6 93.0 Q 202.8 93.1, 203.0 93.1 Q 203.4 93.1, 203.6 92.9 Q 203.9 92.7, 203.9 92.4 Q 203.9 92.1, 203.8 92.0 Q 203.6 91.8, 203.5 91.8 Q 203.3 91.7, 203.0 91.6 Q 202.6 91.5, 202.4 91.4 Q 202.2 91.3, 202.0 91.0 Q 201.8 90.8, 201.8 90.4 Q 201.8 89.9, 202.2 89.6 Q 202.6 89.2, 203.3 89.2 Q 203.8 89.2, 204.3 89.5 L 204.2 89.9 Q 203.7 89.7, 203.3 89.7 Q 202.9 89.7, 202.7 89.9 Q 202.4 90.1, 202.4 90.3 Q 202.4 90.6, 202.5 90.7 Q 202.7 90.8, 202.8 90.9 Q 203.0 91.0, 203.3 91.1 Q 203.7 91.2, 203.9 91.3 Q 204.1 91.5, 204.3 91.7 Q 204.5 91.9, 204.5 92.4 Q 204.5 92.9, 204.1 93.3 Q 203.7 93.6, 203.0 93.6 Q 202.6 93.6, 202.4 93.5 Q 202.1 93.4, 201.7 93.3 L 201.9 92.8 \" fill=\"#CCCC00\"/>\n",
       "<path class=\"atom-37\" d=\"M 201.6 88.3 Q 201.7 88.3, 201.8 88.4 Q 202.0 88.5, 202.3 88.6 Q 202.5 88.6, 202.7 88.6 Q 203.1 88.6, 203.3 88.4 Q 203.6 88.2, 203.6 87.9 Q 203.6 87.6, 203.5 87.5 Q 203.3 87.3, 203.2 87.3 Q 203.0 87.2, 202.7 87.1 Q 202.3 87.0, 202.1 86.9 Q 201.8 86.8, 201.7 86.5 Q 201.5 86.3, 201.5 85.9 Q 201.5 85.4, 201.9 85.1 Q 202.3 84.7, 203.0 84.7 Q 203.5 84.7, 204.0 85.0 L 203.9 85.4 Q 203.4 85.2, 203.0 85.2 Q 202.6 85.2, 202.4 85.4 Q 202.1 85.6, 202.1 85.9 Q 202.1 86.1, 202.2 86.2 Q 202.4 86.4, 202.5 86.4 Q 202.7 86.5, 203.0 86.6 Q 203.4 86.7, 203.6 86.8 Q 203.8 87.0, 204.0 87.2 Q 204.2 87.5, 204.2 87.9 Q 204.2 88.5, 203.8 88.8 Q 203.4 89.1, 202.7 89.1 Q 202.3 89.1, 202.1 89.0 Q 201.8 88.9, 201.4 88.8 L 201.6 88.3 \" fill=\"#CCCC00\"/>\n",
       "<path class=\"atom-58\" d=\"M 191.6 113.8 Q 191.7 113.8, 191.9 113.9 Q 192.1 114.0, 192.3 114.0 Q 192.5 114.1, 192.7 114.1 Q 193.1 114.1, 193.3 113.9 Q 193.6 113.7, 193.6 113.3 Q 193.6 113.1, 193.5 112.9 Q 193.3 112.8, 193.2 112.7 Q 193.0 112.6, 192.7 112.6 Q 192.3 112.4, 192.1 112.3 Q 191.9 112.2, 191.7 112.0 Q 191.5 111.8, 191.5 111.4 Q 191.5 110.9, 191.9 110.5 Q 192.3 110.2, 193.0 110.2 Q 193.5 110.2, 194.0 110.4 L 193.9 110.9 Q 193.4 110.7, 193.0 110.7 Q 192.6 110.7, 192.4 110.9 Q 192.1 111.0, 192.1 111.3 Q 192.1 111.5, 192.3 111.7 Q 192.4 111.8, 192.5 111.9 Q 192.7 112.0, 193.0 112.1 Q 193.4 112.2, 193.6 112.3 Q 193.8 112.4, 194.0 112.7 Q 194.2 112.9, 194.2 113.3 Q 194.2 113.9, 193.8 114.2 Q 193.4 114.5, 192.7 114.5 Q 192.4 114.5, 192.1 114.5 Q 191.8 114.4, 191.5 114.2 L 191.6 113.8 \" fill=\"#CCCC00\"/>\n",
       "<path class=\"atom-67\" d=\"M 187.9 116.3 Q 187.9 116.3, 188.1 116.4 Q 188.3 116.5, 188.5 116.5 Q 188.8 116.6, 189.0 116.6 Q 189.4 116.6, 189.6 116.4 Q 189.8 116.2, 189.8 115.8 Q 189.8 115.6, 189.7 115.5 Q 189.6 115.3, 189.4 115.2 Q 189.3 115.2, 189.0 115.1 Q 188.6 114.9, 188.3 114.8 Q 188.1 114.7, 188.0 114.5 Q 187.8 114.3, 187.8 113.9 Q 187.8 113.4, 188.2 113.0 Q 188.5 112.7, 189.3 112.7 Q 189.7 112.7, 190.3 112.9 L 190.2 113.4 Q 189.7 113.2, 189.3 113.2 Q 188.9 113.2, 188.6 113.4 Q 188.4 113.5, 188.4 113.8 Q 188.4 114.0, 188.5 114.2 Q 188.6 114.3, 188.8 114.4 Q 189.0 114.5, 189.3 114.6 Q 189.7 114.7, 189.9 114.8 Q 190.1 114.9, 190.3 115.2 Q 190.4 115.4, 190.4 115.8 Q 190.4 116.4, 190.0 116.7 Q 189.7 117.0, 189.0 117.0 Q 188.6 117.0, 188.3 117.0 Q 188.1 116.9, 187.7 116.7 L 187.9 116.3 \" fill=\"#CCCC00\"/>\n",
       "<path class=\"atom-76\" d=\"M 171.4 103.9 Q 171.5 103.9, 171.7 104.0 Q 171.9 104.1, 172.1 104.1 Q 172.3 104.2, 172.5 104.2 Q 172.9 104.2, 173.2 104.0 Q 173.4 103.8, 173.4 103.4 Q 173.4 103.2, 173.3 103.0 Q 173.2 102.9, 173.0 102.8 Q 172.8 102.7, 172.5 102.7 Q 172.1 102.5, 171.9 102.4 Q 171.7 102.3, 171.5 102.1 Q 171.4 101.9, 171.4 101.5 Q 171.4 101.0, 171.7 100.6 Q 172.1 100.3, 172.8 100.3 Q 173.3 100.3, 173.9 100.5 L 173.7 101.0 Q 173.2 100.8, 172.8 100.8 Q 172.4 100.8, 172.2 101.0 Q 172.0 101.1, 172.0 101.4 Q 172.0 101.6, 172.1 101.8 Q 172.2 101.9, 172.4 102.0 Q 172.5 102.1, 172.8 102.2 Q 173.2 102.3, 173.4 102.4 Q 173.7 102.5, 173.8 102.8 Q 174.0 103.0, 174.0 103.4 Q 174.0 104.0, 173.6 104.3 Q 173.2 104.6, 172.6 104.6 Q 172.2 104.6, 171.9 104.6 Q 171.6 104.5, 171.3 104.3 L 171.4 103.9 \" fill=\"#CCCC00\"/>\n",
       "<path class=\"atom-81\" d=\"M 167.4 101.9 Q 167.4 101.9, 167.6 102.0 Q 167.8 102.1, 168.1 102.1 Q 168.3 102.2, 168.5 102.2 Q 168.9 102.2, 169.1 102.0 Q 169.4 101.8, 169.4 101.4 Q 169.4 101.2, 169.2 101.1 Q 169.1 100.9, 169.0 100.8 Q 168.8 100.8, 168.5 100.7 Q 168.1 100.6, 167.9 100.5 Q 167.6 100.3, 167.5 100.1 Q 167.3 99.9, 167.3 99.5 Q 167.3 99.0, 167.7 98.6 Q 168.1 98.3, 168.8 98.3 Q 169.3 98.3, 169.8 98.5 L 169.7 99.0 Q 169.2 98.8, 168.8 98.8 Q 168.4 98.8, 168.1 99.0 Q 167.9 99.1, 167.9 99.4 Q 167.9 99.7, 168.0 99.8 Q 168.2 99.9, 168.3 100.0 Q 168.5 100.1, 168.8 100.2 Q 169.2 100.3, 169.4 100.4 Q 169.6 100.5, 169.8 100.8 Q 170.0 101.0, 170.0 101.4 Q 170.0 102.0, 169.6 102.3 Q 169.2 102.7, 168.5 102.7 Q 168.1 102.7, 167.9 102.6 Q 167.6 102.5, 167.2 102.4 L 167.4 101.9 \" fill=\"#CCCC00\"/>\n",
       "<path class=\"atom-118\" d=\"M 168.0 110.9 Q 168.1 110.9, 168.2 111.0 Q 168.4 111.0, 168.7 111.1 Q 168.9 111.1, 169.1 111.1 Q 169.5 111.1, 169.7 111.0 Q 170.0 110.8, 170.0 110.4 Q 170.0 110.2, 169.9 110.0 Q 169.7 109.9, 169.6 109.8 Q 169.4 109.7, 169.1 109.6 Q 168.7 109.5, 168.5 109.4 Q 168.2 109.3, 168.1 109.1 Q 167.9 108.9, 167.9 108.5 Q 167.9 107.9, 168.3 107.6 Q 168.7 107.3, 169.4 107.3 Q 169.9 107.3, 170.4 107.5 L 170.3 108.0 Q 169.8 107.8, 169.4 107.8 Q 169.0 107.8, 168.8 107.9 Q 168.5 108.1, 168.5 108.4 Q 168.5 108.6, 168.6 108.8 Q 168.8 108.9, 168.9 109.0 Q 169.1 109.1, 169.4 109.2 Q 169.8 109.3, 170.0 109.4 Q 170.2 109.5, 170.4 109.8 Q 170.6 110.0, 170.6 110.4 Q 170.6 111.0, 170.2 111.3 Q 169.8 111.6, 169.1 111.6 Q 168.7 111.6, 168.5 111.5 Q 168.2 111.5, 167.8 111.3 L 168.0 110.9 \" fill=\"#CCCC00\"/>\n",
       "<path class=\"atom-123\" d=\"M 209.7 92.3 Q 209.7 92.3, 209.9 92.4 Q 210.1 92.5, 210.3 92.5 Q 210.6 92.6, 210.8 92.6 Q 211.2 92.6, 211.4 92.4 Q 211.6 92.2, 211.6 91.8 Q 211.6 91.6, 211.5 91.5 Q 211.4 91.3, 211.2 91.2 Q 211.0 91.2, 210.7 91.1 Q 210.4 90.9, 210.1 90.8 Q 209.9 90.7, 209.8 90.5 Q 209.6 90.3, 209.6 89.9 Q 209.6 89.4, 210.0 89.0 Q 210.3 88.7, 211.0 88.7 Q 211.5 88.7, 212.1 88.9 L 212.0 89.4 Q 211.5 89.2, 211.1 89.2 Q 210.7 89.2, 210.4 89.4 Q 210.2 89.5, 210.2 89.8 Q 210.2 90.0, 210.3 90.2 Q 210.4 90.3, 210.6 90.4 Q 210.8 90.5, 211.1 90.6 Q 211.5 90.7, 211.7 90.8 Q 211.9 90.9, 212.1 91.2 Q 212.2 91.4, 212.2 91.8 Q 212.2 92.4, 211.8 92.7 Q 211.5 93.0, 210.8 93.0 Q 210.4 93.0, 210.1 93.0 Q 209.8 92.9, 209.5 92.7 L 209.7 92.3 \" fill=\"#CCCC00\"/>\n",
       "<path class=\"atom-124\" d=\"M 213.7 94.3 Q 213.8 94.3, 214.0 94.4 Q 214.2 94.4, 214.4 94.5 Q 214.6 94.5, 214.8 94.5 Q 215.2 94.5, 215.4 94.4 Q 215.7 94.2, 215.7 93.8 Q 215.7 93.6, 215.6 93.4 Q 215.4 93.3, 215.3 93.2 Q 215.1 93.1, 214.8 93.0 Q 214.4 92.9, 214.2 92.8 Q 214.0 92.7, 213.8 92.5 Q 213.6 92.3, 213.6 91.9 Q 213.6 91.3, 214.0 91.0 Q 214.4 90.7, 215.1 90.7 Q 215.6 90.7, 216.1 90.9 L 216.0 91.4 Q 215.5 91.2, 215.1 91.2 Q 214.7 91.2, 214.5 91.3 Q 214.2 91.5, 214.2 91.8 Q 214.2 92.0, 214.4 92.2 Q 214.5 92.3, 214.6 92.4 Q 214.8 92.5, 215.1 92.6 Q 215.5 92.7, 215.7 92.8 Q 215.9 92.9, 216.1 93.2 Q 216.3 93.4, 216.3 93.8 Q 216.3 94.4, 215.9 94.7 Q 215.5 95.0, 214.8 95.0 Q 214.5 95.0, 214.2 94.9 Q 213.9 94.9, 213.5 94.7 L 213.7 94.3 \" fill=\"#CCCC00\"/>\n",
       "<path class=\"atom-129\" d=\"M 154.1 78.0 Q 154.1 78.0, 154.3 78.1 Q 154.5 78.2, 154.7 78.2 Q 155.0 78.3, 155.2 78.3 Q 155.6 78.3, 155.8 78.1 Q 156.0 77.9, 156.0 77.6 Q 156.0 77.3, 155.9 77.2 Q 155.8 77.0, 155.6 77.0 Q 155.5 76.9, 155.2 76.8 Q 154.8 76.7, 154.5 76.6 Q 154.3 76.5, 154.2 76.2 Q 154.0 76.0, 154.0 75.6 Q 154.0 75.1, 154.4 74.8 Q 154.7 74.4, 155.5 74.4 Q 155.9 74.4, 156.5 74.7 L 156.4 75.1 Q 155.9 74.9, 155.5 74.9 Q 155.1 74.9, 154.8 75.1 Q 154.6 75.3, 154.6 75.5 Q 154.6 75.8, 154.7 75.9 Q 154.8 76.1, 155.0 76.1 Q 155.2 76.2, 155.5 76.3 Q 155.9 76.4, 156.1 76.5 Q 156.3 76.7, 156.5 76.9 Q 156.6 77.1, 156.6 77.6 Q 156.6 78.1, 156.2 78.5 Q 155.9 78.8, 155.2 78.8 Q 154.8 78.8, 154.5 78.7 Q 154.3 78.6, 153.9 78.5 L 154.1 78.0 \" fill=\"#CCCC00\"/>\n",
       "<path class=\"atom-130\" d=\"M 150.0 76.0 Q 150.1 76.0, 150.3 76.1 Q 150.5 76.2, 150.7 76.3 Q 150.9 76.3, 151.1 76.3 Q 151.5 76.3, 151.8 76.1 Q 152.0 75.9, 152.0 75.6 Q 152.0 75.3, 151.9 75.2 Q 151.8 75.1, 151.6 75.0 Q 151.4 74.9, 151.1 74.8 Q 150.7 74.7, 150.5 74.6 Q 150.3 74.5, 150.1 74.3 Q 150.0 74.0, 150.0 73.6 Q 150.0 73.1, 150.3 72.8 Q 150.7 72.4, 151.4 72.4 Q 151.9 72.4, 152.5 72.7 L 152.3 73.1 Q 151.8 72.9, 151.4 72.9 Q 151.0 72.9, 150.8 73.1 Q 150.6 73.3, 150.6 73.6 Q 150.6 73.8, 150.7 73.9 Q 150.8 74.1, 151.0 74.2 Q 151.1 74.2, 151.4 74.3 Q 151.8 74.4, 152.0 74.6 Q 152.3 74.7, 152.4 74.9 Q 152.6 75.2, 152.6 75.6 Q 152.6 76.2, 152.2 76.5 Q 151.8 76.8, 151.2 76.8 Q 150.8 76.8, 150.5 76.7 Q 150.2 76.6, 149.9 76.5 L 150.0 76.0 \" fill=\"#CCCC00\"/>\n",
       "<path class=\"atom-135\" d=\"M 178.6 94.4 Q 178.6 94.4, 178.8 94.5 Q 179.0 94.6, 179.3 94.6 Q 179.5 94.7, 179.7 94.7 Q 180.1 94.7, 180.3 94.5 Q 180.6 94.3, 180.6 93.9 Q 180.6 93.7, 180.4 93.5 Q 180.3 93.4, 180.2 93.3 Q 180.0 93.2, 179.7 93.2 Q 179.3 93.0, 179.1 92.9 Q 178.8 92.8, 178.7 92.6 Q 178.5 92.4, 178.5 92.0 Q 178.5 91.5, 178.9 91.1 Q 179.3 90.8, 180.0 90.8 Q 180.5 90.8, 181.0 91.0 L 180.9 91.5 Q 180.4 91.3, 180.0 91.3 Q 179.6 91.3, 179.3 91.5 Q 179.1 91.6, 179.1 91.9 Q 179.1 92.1, 179.2 92.3 Q 179.4 92.4, 179.5 92.5 Q 179.7 92.6, 180.0 92.7 Q 180.4 92.8, 180.6 92.9 Q 180.8 93.0, 181.0 93.3 Q 181.2 93.5, 181.2 93.9 Q 181.2 94.5, 180.8 94.8 Q 180.4 95.1, 179.7 95.1 Q 179.3 95.1, 179.1 95.1 Q 178.8 95.0, 178.4 94.8 L 178.6 94.4 \" fill=\"#CCCC00\"/>\n",
       "<path class=\"atom-144\" d=\"M 168.3 115.3 Q 168.4 115.4, 168.6 115.4 Q 168.8 115.5, 169.0 115.6 Q 169.2 115.6, 169.4 115.6 Q 169.8 115.6, 170.0 115.4 Q 170.3 115.2, 170.3 114.9 Q 170.3 114.7, 170.2 114.5 Q 170.0 114.4, 169.9 114.3 Q 169.7 114.2, 169.4 114.1 Q 169.0 114.0, 168.8 113.9 Q 168.6 113.8, 168.4 113.6 Q 168.2 113.3, 168.2 113.0 Q 168.2 112.4, 168.6 112.1 Q 169.0 111.8, 169.7 111.8 Q 170.2 111.8, 170.7 112.0 L 170.6 112.5 Q 170.1 112.3, 169.7 112.3 Q 169.3 112.3, 169.1 112.4 Q 168.8 112.6, 168.8 112.9 Q 168.8 113.1, 168.9 113.3 Q 169.1 113.4, 169.2 113.5 Q 169.4 113.5, 169.7 113.6 Q 170.1 113.8, 170.3 113.9 Q 170.5 114.0, 170.7 114.2 Q 170.9 114.5, 170.9 114.9 Q 170.9 115.5, 170.5 115.8 Q 170.1 116.1, 169.4 116.1 Q 169.1 116.1, 168.8 116.0 Q 168.5 116.0, 168.1 115.8 L 168.3 115.3 \" fill=\"#CCCC00\"/>\n",
       "<path class=\"atom-145\" d=\"M 182.6 96.4 Q 182.7 96.4, 182.9 96.5 Q 183.1 96.5, 183.3 96.6 Q 183.5 96.6, 183.7 96.6 Q 184.1 96.6, 184.4 96.4 Q 184.6 96.3, 184.6 95.9 Q 184.6 95.7, 184.5 95.5 Q 184.4 95.4, 184.2 95.3 Q 184.0 95.2, 183.7 95.1 Q 183.3 95.0, 183.1 94.9 Q 182.9 94.8, 182.7 94.6 Q 182.6 94.4, 182.6 94.0 Q 182.6 93.4, 182.9 93.1 Q 183.3 92.8, 184.0 92.8 Q 184.5 92.8, 185.1 93.0 L 184.9 93.5 Q 184.4 93.3, 184.0 93.3 Q 183.6 93.3, 183.4 93.4 Q 183.2 93.6, 183.2 93.9 Q 183.2 94.1, 183.3 94.3 Q 183.4 94.4, 183.6 94.5 Q 183.7 94.6, 184.0 94.6 Q 184.4 94.8, 184.6 94.9 Q 184.9 95.0, 185.0 95.3 Q 185.2 95.5, 185.2 95.9 Q 185.2 96.5, 184.8 96.8 Q 184.4 97.1, 183.8 97.1 Q 183.4 97.1, 183.1 97.0 Q 182.8 97.0, 182.5 96.8 L 182.6 96.4 \" fill=\"#CCCC00\"/>\n",
       "<path class=\"atom-166\" d=\"M 152.6 55.6 Q 152.6 55.6, 152.8 55.7 Q 153.0 55.8, 153.2 55.8 Q 153.4 55.9, 153.7 55.9 Q 154.1 55.9, 154.3 55.7 Q 154.5 55.5, 154.5 55.1 Q 154.5 54.9, 154.4 54.8 Q 154.3 54.6, 154.1 54.5 Q 153.9 54.5, 153.6 54.4 Q 153.3 54.2, 153.0 54.1 Q 152.8 54.0, 152.6 53.8 Q 152.5 53.6, 152.5 53.2 Q 152.5 52.7, 152.9 52.3 Q 153.2 52.0, 153.9 52.0 Q 154.4 52.0, 155.0 52.2 L 154.9 52.7 Q 154.3 52.5, 154.0 52.5 Q 153.5 52.5, 153.3 52.7 Q 153.1 52.8, 153.1 53.1 Q 153.1 53.3, 153.2 53.5 Q 153.3 53.6, 153.5 53.7 Q 153.7 53.8, 154.0 53.9 Q 154.3 54.0, 154.6 54.1 Q 154.8 54.2, 155.0 54.5 Q 155.1 54.7, 155.1 55.1 Q 155.1 55.7, 154.7 56.0 Q 154.3 56.3, 153.7 56.3 Q 153.3 56.3, 153.0 56.3 Q 152.7 56.2, 152.4 56.0 L 152.6 55.6 \" fill=\"#CCCC00\"/>\n",
       "<path class=\"atom-167\" d=\"M 120.5 100.5 Q 120.5 100.6, 120.7 100.6 Q 120.9 100.7, 121.1 100.8 Q 121.4 100.8, 121.6 100.8 Q 122.0 100.8, 122.2 100.6 Q 122.4 100.4, 122.4 100.1 Q 122.4 99.9, 122.3 99.7 Q 122.2 99.6, 122.0 99.5 Q 121.9 99.4, 121.6 99.3 Q 121.2 99.2, 120.9 99.1 Q 120.7 99.0, 120.6 98.8 Q 120.4 98.5, 120.4 98.2 Q 120.4 97.6, 120.8 97.3 Q 121.1 97.0, 121.9 97.0 Q 122.3 97.0, 122.9 97.2 L 122.8 97.7 Q 122.3 97.5, 121.9 97.5 Q 121.5 97.5, 121.2 97.6 Q 121.0 97.8, 121.0 98.1 Q 121.0 98.3, 121.1 98.5 Q 121.2 98.6, 121.4 98.7 Q 121.6 98.8, 121.9 98.8 Q 122.3 99.0, 122.5 99.1 Q 122.7 99.2, 122.9 99.4 Q 123.0 99.7, 123.0 100.1 Q 123.0 100.7, 122.6 101.0 Q 122.3 101.3, 121.6 101.3 Q 121.2 101.3, 120.9 101.2 Q 120.7 101.2, 120.3 101.0 L 120.5 100.5 \" fill=\"#CCCC00\"/>\n",
       "<path class=\"atom-172\" d=\"M 116.4 98.6 Q 116.5 98.6, 116.7 98.7 Q 116.9 98.8, 117.1 98.8 Q 117.3 98.9, 117.5 98.9 Q 117.9 98.9, 118.2 98.7 Q 118.4 98.5, 118.4 98.1 Q 118.4 97.9, 118.3 97.7 Q 118.2 97.6, 118.0 97.5 Q 117.8 97.4, 117.5 97.4 Q 117.1 97.2, 116.9 97.1 Q 116.7 97.0, 116.5 96.8 Q 116.4 96.6, 116.4 96.2 Q 116.4 95.7, 116.7 95.3 Q 117.1 95.0, 117.8 95.0 Q 118.3 95.0, 118.9 95.2 L 118.7 95.7 Q 118.2 95.5, 117.8 95.5 Q 117.4 95.5, 117.2 95.7 Q 117.0 95.8, 117.0 96.1 Q 117.0 96.3, 117.1 96.5 Q 117.2 96.6, 117.4 96.7 Q 117.5 96.8, 117.8 96.9 Q 118.2 97.0, 118.4 97.1 Q 118.7 97.2, 118.8 97.5 Q 119.0 97.7, 119.0 98.1 Q 119.0 98.7, 118.6 99.0 Q 118.2 99.3, 117.6 99.3 Q 117.2 99.3, 116.9 99.3 Q 116.6 99.2, 116.3 99.0 L 116.4 98.6 \" fill=\"#CCCC00\"/>\n",
       "<path class=\"atom-181\" d=\"M 151.8 47.5 L 152.4 47.5 L 152.4 49.3 L 154.5 49.3 L 154.5 47.5 L 155.1 47.5 L 155.1 51.8 L 154.5 51.8 L 154.5 49.8 L 152.4 49.8 L 152.4 51.8 L 151.8 51.8 L 151.8 47.5 \" fill=\"#000000\"/>\n",
       "<path class=\"atom-182\" d=\"M 185.9 90.3 L 186.5 90.3 L 186.5 92.1 L 188.7 92.1 L 188.7 90.3 L 189.2 90.3 L 189.2 94.5 L 188.7 94.5 L 188.7 92.6 L 186.5 92.6 L 186.5 94.5 L 185.9 94.5 L 185.9 90.3 \" fill=\"#000000\"/>\n",
       "<path class=\"atom-183\" d=\"M 123.4 90.0 L 124.0 90.0 L 124.0 91.8 L 126.2 91.8 L 126.2 90.0 L 126.8 90.0 L 126.8 94.2 L 126.2 94.2 L 126.2 92.3 L 124.0 92.3 L 124.0 94.2 L 123.4 94.2 L 123.4 90.0 \" fill=\"#000000\"/>\n",
       "<path class=\"atom-184\" d=\"M 222.8 117.1 L 223.4 117.1 L 223.4 118.9 L 225.6 118.9 L 225.6 117.1 L 226.2 117.1 L 226.2 121.3 L 225.6 121.3 L 225.6 119.3 L 223.4 119.3 L 223.4 121.3 L 222.8 121.3 L 222.8 117.1 \" fill=\"#000000\"/>\n",
       "<path class=\"atom-185\" d=\"M 199.5 118.6 L 200.1 118.6 L 200.1 120.4 L 202.3 120.4 L 202.3 118.6 L 202.9 118.6 L 202.9 122.9 L 202.3 122.9 L 202.3 120.9 L 200.1 120.9 L 200.1 122.9 L 199.5 122.9 L 199.5 118.6 \" fill=\"#000000\"/>\n",
       "<path class=\"atom-186\" d=\"M 242.6 5.3 L 243.2 5.3 L 243.2 7.1 L 245.4 7.1 L 245.4 5.3 L 245.9 5.3 L 245.9 9.6 L 245.4 9.6 L 245.4 7.6 L 243.2 7.6 L 243.2 9.6 L 242.6 9.6 L 242.6 5.3 \" fill=\"#000000\"/>\n",
       "<path class=\"atom-187\" d=\"M 108.8 104.5 L 109.4 104.5 L 109.4 106.3 L 111.6 106.3 L 111.6 104.5 L 112.1 104.5 L 112.1 108.7 L 111.6 108.7 L 111.6 106.8 L 109.4 106.8 L 109.4 108.7 L 108.8 108.7 L 108.8 104.5 \" fill=\"#000000\"/>\n",
       "<path class=\"atom-188\" d=\"M 150.2 81.4 L 150.8 81.4 L 150.8 83.2 L 152.9 83.2 L 152.9 81.4 L 153.5 81.4 L 153.5 85.7 L 152.9 85.7 L 152.9 83.7 L 150.8 83.7 L 150.8 85.7 L 150.2 85.7 L 150.2 81.4 \" fill=\"#000000\"/>\n",
       "<path class=\"atom-189\" d=\"M 211.9 129.1 L 212.5 129.1 L 212.5 130.9 L 214.7 130.9 L 214.7 129.1 L 215.3 129.1 L 215.3 133.3 L 214.7 133.3 L 214.7 131.3 L 212.5 131.3 L 212.5 133.3 L 211.9 133.3 L 211.9 129.1 \" fill=\"#000000\"/>\n",
       "<path class=\"atom-190\" d=\"M 179.6 113.2 L 180.2 113.2 L 180.2 115.0 L 182.4 115.0 L 182.4 113.2 L 183.0 113.2 L 183.0 117.5 L 182.4 117.5 L 182.4 115.5 L 180.2 115.5 L 180.2 117.5 L 179.6 117.5 L 179.6 113.2 \" fill=\"#000000\"/>\n",
       "<path class=\"atom-191\" d=\"M 214.5 108.6 L 215.0 108.6 L 215.0 110.4 L 217.2 110.4 L 217.2 108.6 L 217.8 108.6 L 217.8 112.9 L 217.2 112.9 L 217.2 110.9 L 215.0 110.9 L 215.0 112.9 L 214.5 112.9 L 214.5 108.6 \" fill=\"#000000\"/>\n",
       "<path class=\"atom-192\" d=\"M 138.1 75.5 L 138.7 75.5 L 138.7 77.3 L 140.8 77.3 L 140.8 75.5 L 141.4 75.5 L 141.4 79.7 L 140.8 79.7 L 140.8 77.8 L 138.7 77.8 L 138.7 79.7 L 138.1 79.7 L 138.1 75.5 \" fill=\"#000000\"/>\n",
       "<path class=\"atom-193\" d=\"M 259.0 74.1 L 259.5 74.1 L 259.5 75.9 L 261.7 75.9 L 261.7 74.1 L 262.3 74.1 L 262.3 78.3 L 261.7 78.3 L 261.7 76.4 L 259.5 76.4 L 259.5 78.3 L 259.0 78.3 L 259.0 74.1 \" fill=\"#000000\"/>\n",
       "<path class=\"atom-194\" d=\"M 142.7 86.4 L 143.3 86.4 L 143.3 88.2 L 145.5 88.2 L 145.5 86.4 L 146.0 86.4 L 146.0 90.7 L 145.5 90.7 L 145.5 88.7 L 143.3 88.7 L 143.3 90.7 L 142.7 90.7 L 142.7 86.4 \" fill=\"#000000\"/>\n",
       "<path class=\"atom-195\" d=\"M 111.3 84.0 L 111.9 84.0 L 111.9 85.8 L 114.1 85.8 L 114.1 84.0 L 114.7 84.0 L 114.7 88.3 L 114.1 88.3 L 114.1 86.3 L 111.9 86.3 L 111.9 88.3 L 111.3 88.3 L 111.3 84.0 \" fill=\"#000000\"/>\n",
       "<path class=\"atom-196\" d=\"M 337.9 86.8 L 338.4 86.8 L 338.4 88.6 L 340.6 88.6 L 340.6 86.8 L 341.2 86.8 L 341.2 91.0 L 340.6 91.0 L 340.6 89.1 L 338.4 89.1 L 338.4 91.0 L 337.9 91.0 L 337.9 86.8 \" fill=\"#000000\"/>\n",
       "<path class=\"atom-197\" d=\"M 135.4 35.1 L 135.9 35.1 L 135.9 36.9 L 138.1 36.9 L 138.1 35.1 L 138.7 35.1 L 138.7 39.3 L 138.1 39.3 L 138.1 37.4 L 135.9 37.4 L 135.9 39.3 L 135.4 39.3 L 135.4 35.1 \" fill=\"#000000\"/>\n",
       "<path class=\"atom-198\" d=\"M 180.6 126.7 L 181.1 126.7 L 181.1 128.5 L 183.3 128.5 L 183.3 126.7 L 183.9 126.7 L 183.9 130.9 L 183.3 130.9 L 183.3 129.0 L 181.1 129.0 L 181.1 130.9 L 180.6 130.9 L 180.6 126.7 \" fill=\"#000000\"/>\n",
       "<path class=\"atom-199\" d=\"M 243.9 140.4 L 244.5 140.4 L 244.5 142.2 L 246.7 142.2 L 246.7 140.4 L 247.2 140.4 L 247.2 144.7 L 246.7 144.7 L 246.7 142.7 L 244.5 142.7 L 244.5 144.7 L 243.9 144.7 L 243.9 140.4 \" fill=\"#000000\"/>\n",
       "<path class=\"atom-200\" d=\"M 200.7 136.6 L 201.3 136.6 L 201.3 138.4 L 203.5 138.4 L 203.5 136.6 L 204.1 136.6 L 204.1 140.8 L 203.5 140.8 L 203.5 138.9 L 201.3 138.9 L 201.3 140.8 L 200.7 140.8 L 200.7 136.6 \" fill=\"#000000\"/>\n",
       "<path class=\"atom-201\" d=\"M 129.7 67.0 L 130.3 67.0 L 130.3 68.8 L 132.5 68.8 L 132.5 67.0 L 133.0 67.0 L 133.0 71.3 L 132.5 71.3 L 132.5 69.3 L 130.3 69.3 L 130.3 71.3 L 129.7 71.3 L 129.7 67.0 \" fill=\"#000000\"/>\n",
       "<path class=\"atom-202\" d=\"M 180.0 117.7 L 180.5 117.7 L 180.5 119.5 L 182.7 119.5 L 182.7 117.7 L 183.3 117.7 L 183.3 122.0 L 182.7 122.0 L 182.7 120.0 L 180.5 120.0 L 180.5 122.0 L 180.0 122.0 L 180.0 117.7 \" fill=\"#000000\"/>\n",
       "<path class=\"atom-203\" d=\"M 160.8 64.9 L 161.4 64.9 L 161.4 66.7 L 163.5 66.7 L 163.5 64.9 L 164.1 64.9 L 164.1 69.2 L 163.5 69.2 L 163.5 67.2 L 161.4 67.2 L 161.4 69.2 L 160.8 69.2 L 160.8 64.9 \" fill=\"#000000\"/>\n",
       "<path class=\"atom-204\" d=\"M 116.9 108.4 L 117.5 108.4 L 117.5 110.2 L 119.6 110.2 L 119.6 108.4 L 120.2 108.4 L 120.2 112.7 L 119.6 112.7 L 119.6 110.7 L 117.5 110.7 L 117.5 112.7 L 116.9 112.7 L 116.9 108.4 \" fill=\"#000000\"/>\n",
       "<path class=\"atom-205\" d=\"M 217.0 88.2 L 217.6 88.2 L 217.6 90.0 L 219.7 90.0 L 219.7 88.2 L 220.3 88.2 L 220.3 92.4 L 219.7 92.4 L 219.7 90.5 L 217.6 90.5 L 217.6 92.4 L 217.0 92.4 L 217.0 88.2 \" fill=\"#000000\"/>\n",
       "<path class=\"atom-206\" d=\"M 176.2 120.2 L 176.8 120.2 L 176.8 122.0 L 179.0 122.0 L 179.0 120.2 L 179.5 120.2 L 179.5 124.5 L 179.0 124.5 L 179.0 122.5 L 176.8 122.5 L 176.8 124.5 L 176.2 124.5 L 176.2 120.2 \" fill=\"#000000\"/>\n",
       "<path class=\"atom-207\" d=\"M 144.9 61.5 L 145.5 61.5 L 145.5 63.3 L 147.7 63.3 L 147.7 61.5 L 148.3 61.5 L 148.3 65.7 L 147.7 65.7 L 147.7 63.8 L 145.5 63.8 L 145.5 65.7 L 144.9 65.7 L 144.9 61.5 \" fill=\"#000000\"/>\n",
       "<path class=\"atom-208\" d=\"M 160.1 112.3 L 160.7 112.3 L 160.7 114.1 L 162.8 114.1 L 162.8 112.3 L 163.4 112.3 L 163.4 116.5 L 162.8 116.5 L 162.8 114.6 L 160.7 114.6 L 160.7 116.5 L 160.1 116.5 L 160.1 112.3 \" fill=\"#000000\"/>\n",
       "<path class=\"atom-209\" d=\"M 179.0 104.2 L 179.6 104.2 L 179.6 106.1 L 181.8 106.1 L 181.8 104.2 L 182.4 104.2 L 182.4 108.5 L 181.8 108.5 L 181.8 106.5 L 179.6 106.5 L 179.6 108.5 L 179.0 108.5 L 179.0 104.2 \" fill=\"#000000\"/>\n",
       "<path class=\"atom-0\" d=\"M 229.0,85.3 L 229.0,85.3 L 229.0,85.3 L 229.0,85.4 L 229.0,85.4 L 228.9,85.4 L 228.9,85.4 L 228.9,85.5 L 228.9,85.5 L 228.9,85.5 L 228.9,85.5 L 228.8,85.5 L 228.8,85.5 L 228.8,85.6 L 228.8,85.6 L 228.8,85.6 L 228.7,85.6 L 228.7,85.6 L 228.7,85.6 L 228.7,85.6 L 228.6,85.6 L 228.6,85.6 L 228.6,85.6 L 228.6,85.6 L 228.5,85.5 L 228.5,85.5 L 228.5,85.5 L 228.5,85.5 L 228.4,85.5 L 228.4,85.5 L 228.4,85.4 L 228.4,85.4 L 228.4,85.4 L 228.4,85.4 L 228.4,85.3 L 228.4,85.3 L 228.4,85.3 L 228.4,85.3 L 228.4,85.2 L 228.4,85.2 L 228.4,85.2 L 228.4,85.2 L 228.4,85.1 L 228.4,85.1 L 228.4,85.1 L 228.4,85.1 L 228.5,85.1 L 228.5,85.0 L 228.5,85.0 L 228.5,85.0 L 228.6,85.0 L 228.6,85.0 L 228.6,85.0 L 228.6,85.0 L 228.7,85.0 L 228.7,85.0 L 228.7,85.0 L 228.7,85.0 L 228.8,85.0 L 228.8,85.0 L 228.8,85.0 L 228.8,85.0 L 228.8,85.0 L 228.9,85.1 L 228.9,85.1 L 228.9,85.1 L 228.9,85.1 L 228.9,85.1 L 228.9,85.2 L 229.0,85.2 L 229.0,85.2 L 229.0,85.2 L 229.0,85.3 L 229.0,85.3 L 228.7,85.3 Z\" style=\"fill:#000000;fill-rule:evenodd;fill-opacity:1;stroke:#000000;stroke-width:0.0px;stroke-linecap:butt;stroke-linejoin:miter;stroke-opacity:1;\"/>\n",
       "<path class=\"atom-181\" d=\"M 156.3,49.6 L 156.3,49.7 L 156.3,49.7 L 156.3,49.7 L 156.3,49.7 L 156.3,49.8 L 156.3,49.8 L 156.3,49.8 L 156.3,49.8 L 156.2,49.8 L 156.2,49.9 L 156.2,49.9 L 156.2,49.9 L 156.2,49.9 L 156.1,49.9 L 156.1,49.9 L 156.1,49.9 L 156.1,49.9 L 156.0,49.9 L 156.0,49.9 L 156.0,49.9 L 156.0,49.9 L 155.9,49.9 L 155.9,49.9 L 155.9,49.9 L 155.9,49.9 L 155.8,49.9 L 155.8,49.9 L 155.8,49.8 L 155.8,49.8 L 155.8,49.8 L 155.8,49.8 L 155.7,49.7 L 155.7,49.7 L 155.7,49.7 L 155.7,49.7 L 155.7,49.6 L 155.7,49.6 L 155.7,49.6 L 155.7,49.6 L 155.7,49.5 L 155.7,49.5 L 155.8,49.5 L 155.8,49.5 L 155.8,49.5 L 155.8,49.4 L 155.8,49.4 L 155.8,49.4 L 155.9,49.4 L 155.9,49.4 L 155.9,49.4 L 155.9,49.3 L 156.0,49.3 L 156.0,49.3 L 156.0,49.3 L 156.0,49.3 L 156.1,49.3 L 156.1,49.3 L 156.1,49.3 L 156.1,49.4 L 156.2,49.4 L 156.2,49.4 L 156.2,49.4 L 156.2,49.4 L 156.2,49.4 L 156.3,49.4 L 156.3,49.5 L 156.3,49.5 L 156.3,49.5 L 156.3,49.5 L 156.3,49.6 L 156.3,49.6 L 156.3,49.6 L 156.3,49.6 L 156.0,49.6 Z\" style=\"fill:#000000;fill-rule:evenodd;fill-opacity:1;stroke:#000000;stroke-width:0.0px;stroke-linecap:butt;stroke-linejoin:miter;stroke-opacity:1;\"/>\n",
       "<path class=\"atom-182\" d=\"M 190.4,92.4 L 190.4,92.4 L 190.4,92.4 L 190.4,92.5 L 190.4,92.5 L 190.4,92.5 L 190.4,92.5 L 190.4,92.6 L 190.4,92.6 L 190.3,92.6 L 190.3,92.6 L 190.3,92.6 L 190.3,92.6 L 190.3,92.7 L 190.2,92.7 L 190.2,92.7 L 190.2,92.7 L 190.2,92.7 L 190.1,92.7 L 190.1,92.7 L 190.1,92.7 L 190.1,92.7 L 190.0,92.7 L 190.0,92.7 L 190.0,92.7 L 190.0,92.6 L 189.9,92.6 L 189.9,92.6 L 189.9,92.6 L 189.9,92.6 L 189.9,92.5 L 189.9,92.5 L 189.9,92.5 L 189.8,92.5 L 189.8,92.5 L 189.8,92.4 L 189.8,92.4 L 189.8,92.4 L 189.8,92.4 L 189.8,92.3 L 189.8,92.3 L 189.9,92.3 L 189.9,92.3 L 189.9,92.2 L 189.9,92.2 L 189.9,92.2 L 189.9,92.2 L 189.9,92.2 L 190.0,92.1 L 190.0,92.1 L 190.0,92.1 L 190.0,92.1 L 190.1,92.1 L 190.1,92.1 L 190.1,92.1 L 190.1,92.1 L 190.2,92.1 L 190.2,92.1 L 190.2,92.1 L 190.2,92.1 L 190.3,92.1 L 190.3,92.1 L 190.3,92.1 L 190.3,92.2 L 190.3,92.2 L 190.4,92.2 L 190.4,92.2 L 190.4,92.2 L 190.4,92.3 L 190.4,92.3 L 190.4,92.3 L 190.4,92.3 L 190.4,92.4 L 190.4,92.4 L 190.1,92.4 Z\" style=\"fill:#000000;fill-rule:evenodd;fill-opacity:1;stroke:#000000;stroke-width:0.0px;stroke-linecap:butt;stroke-linejoin:miter;stroke-opacity:1;\"/>\n",
       "<path class=\"atom-183\" d=\"M 128.0,92.1 L 128.0,92.1 L 128.0,92.2 L 128.0,92.2 L 128.0,92.2 L 127.9,92.2 L 127.9,92.2 L 127.9,92.3 L 127.9,92.3 L 127.9,92.3 L 127.9,92.3 L 127.8,92.3 L 127.8,92.4 L 127.8,92.4 L 127.8,92.4 L 127.8,92.4 L 127.7,92.4 L 127.7,92.4 L 127.7,92.4 L 127.7,92.4 L 127.6,92.4 L 127.6,92.4 L 127.6,92.4 L 127.6,92.4 L 127.5,92.4 L 127.5,92.3 L 127.5,92.3 L 127.5,92.3 L 127.4,92.3 L 127.4,92.3 L 127.4,92.3 L 127.4,92.2 L 127.4,92.2 L 127.4,92.2 L 127.4,92.2 L 127.4,92.1 L 127.4,92.1 L 127.4,92.1 L 127.4,92.1 L 127.4,92.0 L 127.4,92.0 L 127.4,92.0 L 127.4,92.0 L 127.4,91.9 L 127.4,91.9 L 127.4,91.9 L 127.5,91.9 L 127.5,91.9 L 127.5,91.8 L 127.5,91.8 L 127.6,91.8 L 127.6,91.8 L 127.6,91.8 L 127.6,91.8 L 127.7,91.8 L 127.7,91.8 L 127.7,91.8 L 127.7,91.8 L 127.8,91.8 L 127.8,91.8 L 127.8,91.8 L 127.8,91.8 L 127.8,91.9 L 127.9,91.9 L 127.9,91.9 L 127.9,91.9 L 127.9,91.9 L 127.9,92.0 L 127.9,92.0 L 128.0,92.0 L 128.0,92.0 L 128.0,92.0 L 128.0,92.1 L 128.0,92.1 L 127.7,92.1 Z\" style=\"fill:#000000;fill-rule:evenodd;fill-opacity:1;stroke:#000000;stroke-width:0.0px;stroke-linecap:butt;stroke-linejoin:miter;stroke-opacity:1;\"/>\n",
       "<path class=\"atom-184\" d=\"M 227.4,119.2 L 227.4,119.2 L 227.4,119.2 L 227.3,119.3 L 227.3,119.3 L 227.3,119.3 L 227.3,119.3 L 227.3,119.4 L 227.3,119.4 L 227.3,119.4 L 227.3,119.4 L 227.2,119.4 L 227.2,119.4 L 227.2,119.5 L 227.2,119.5 L 227.1,119.5 L 227.1,119.5 L 227.1,119.5 L 227.1,119.5 L 227.0,119.5 L 227.0,119.5 L 227.0,119.5 L 227.0,119.5 L 226.9,119.5 L 226.9,119.4 L 226.9,119.4 L 226.9,119.4 L 226.9,119.4 L 226.8,119.4 L 226.8,119.4 L 226.8,119.3 L 226.8,119.3 L 226.8,119.3 L 226.8,119.3 L 226.8,119.2 L 226.8,119.2 L 226.8,119.2 L 226.8,119.2 L 226.8,119.1 L 226.8,119.1 L 226.8,119.1 L 226.8,119.1 L 226.8,119.0 L 226.8,119.0 L 226.8,119.0 L 226.8,119.0 L 226.9,119.0 L 226.9,119.0 L 226.9,118.9 L 226.9,118.9 L 226.9,118.9 L 227.0,118.9 L 227.0,118.9 L 227.0,118.9 L 227.0,118.9 L 227.1,118.9 L 227.1,118.9 L 227.1,118.9 L 227.1,118.9 L 227.2,118.9 L 227.2,118.9 L 227.2,118.9 L 227.2,118.9 L 227.3,119.0 L 227.3,119.0 L 227.3,119.0 L 227.3,119.0 L 227.3,119.0 L 227.3,119.1 L 227.3,119.1 L 227.3,119.1 L 227.4,119.1 L 227.4,119.2 L 227.4,119.2 L 227.1,119.2 Z\" style=\"fill:#000000;fill-rule:evenodd;fill-opacity:1;stroke:#000000;stroke-width:0.0px;stroke-linecap:butt;stroke-linejoin:miter;stroke-opacity:1;\"/>\n",
       "<path class=\"atom-185\" d=\"M 204.1,120.8 L 204.0,120.8 L 204.0,120.8 L 204.0,120.8 L 204.0,120.9 L 204.0,120.9 L 204.0,120.9 L 204.0,120.9 L 204.0,120.9 L 204.0,121.0 L 203.9,121.0 L 203.9,121.0 L 203.9,121.0 L 203.9,121.0 L 203.9,121.0 L 203.8,121.0 L 203.8,121.1 L 203.8,121.1 L 203.8,121.1 L 203.7,121.1 L 203.7,121.1 L 203.7,121.1 L 203.7,121.0 L 203.6,121.0 L 203.6,121.0 L 203.6,121.0 L 203.6,121.0 L 203.5,121.0 L 203.5,121.0 L 203.5,120.9 L 203.5,120.9 L 203.5,120.9 L 203.5,120.9 L 203.5,120.8 L 203.5,120.8 L 203.5,120.8 L 203.5,120.8 L 203.5,120.7 L 203.5,120.7 L 203.5,120.7 L 203.5,120.7 L 203.5,120.6 L 203.5,120.6 L 203.5,120.6 L 203.5,120.6 L 203.5,120.6 L 203.5,120.5 L 203.6,120.5 L 203.6,120.5 L 203.6,120.5 L 203.6,120.5 L 203.7,120.5 L 203.7,120.5 L 203.7,120.5 L 203.7,120.5 L 203.8,120.5 L 203.8,120.5 L 203.8,120.5 L 203.8,120.5 L 203.9,120.5 L 203.9,120.5 L 203.9,120.5 L 203.9,120.5 L 203.9,120.5 L 204.0,120.5 L 204.0,120.6 L 204.0,120.6 L 204.0,120.6 L 204.0,120.6 L 204.0,120.7 L 204.0,120.7 L 204.0,120.7 L 204.0,120.7 L 204.1,120.8 L 203.8,120.8 Z\" style=\"fill:#000000;fill-rule:evenodd;fill-opacity:1;stroke:#000000;stroke-width:0.0px;stroke-linecap:butt;stroke-linejoin:miter;stroke-opacity:1;\"/>\n",
       "<path class=\"atom-186\" d=\"M 247.1,7.5 L 247.1,7.5 L 247.1,7.5 L 247.1,7.5 L 247.1,7.6 L 247.1,7.6 L 247.1,7.6 L 247.1,7.6 L 247.1,7.6 L 247.0,7.7 L 247.0,7.7 L 247.0,7.7 L 247.0,7.7 L 247.0,7.7 L 246.9,7.7 L 246.9,7.7 L 246.9,7.7 L 246.9,7.8 L 246.8,7.8 L 246.8,7.8 L 246.8,7.8 L 246.8,7.7 L 246.7,7.7 L 246.7,7.7 L 246.7,7.7 L 246.7,7.7 L 246.6,7.7 L 246.6,7.7 L 246.6,7.7 L 246.6,7.6 L 246.6,7.6 L 246.6,7.6 L 246.6,7.6 L 246.5,7.5 L 246.5,7.5 L 246.5,7.5 L 246.5,7.5 L 246.5,7.4 L 246.5,7.4 L 246.5,7.4 L 246.5,7.4 L 246.6,7.3 L 246.6,7.3 L 246.6,7.3 L 246.6,7.3 L 246.6,7.3 L 246.6,7.2 L 246.6,7.2 L 246.7,7.2 L 246.7,7.2 L 246.7,7.2 L 246.7,7.2 L 246.8,7.2 L 246.8,7.2 L 246.8,7.2 L 246.8,7.2 L 246.9,7.2 L 246.9,7.2 L 246.9,7.2 L 246.9,7.2 L 247.0,7.2 L 247.0,7.2 L 247.0,7.2 L 247.0,7.2 L 247.0,7.2 L 247.1,7.3 L 247.1,7.3 L 247.1,7.3 L 247.1,7.3 L 247.1,7.4 L 247.1,7.4 L 247.1,7.4 L 247.1,7.4 L 247.1,7.5 L 246.8,7.5 Z\" style=\"fill:#000000;fill-rule:evenodd;fill-opacity:1;stroke:#000000;stroke-width:0.0px;stroke-linecap:butt;stroke-linejoin:miter;stroke-opacity:1;\"/>\n",
       "<path class=\"atom-187\" d=\"M 108.2,106.6 L 108.2,106.6 L 108.2,106.7 L 108.2,106.7 L 108.2,106.7 L 108.2,106.7 L 108.2,106.8 L 108.2,106.8 L 108.2,106.8 L 108.1,106.8 L 108.1,106.8 L 108.1,106.8 L 108.1,106.9 L 108.0,106.9 L 108.0,106.9 L 108.0,106.9 L 108.0,106.9 L 108.0,106.9 L 107.9,106.9 L 107.9,106.9 L 107.9,106.9 L 107.8,106.9 L 107.8,106.9 L 107.8,106.9 L 107.8,106.9 L 107.8,106.9 L 107.7,106.8 L 107.7,106.8 L 107.7,106.8 L 107.7,106.8 L 107.7,106.8 L 107.7,106.7 L 107.6,106.7 L 107.6,106.7 L 107.6,106.7 L 107.6,106.6 L 107.6,106.6 L 107.6,106.6 L 107.6,106.6 L 107.6,106.5 L 107.6,106.5 L 107.6,106.5 L 107.7,106.5 L 107.7,106.4 L 107.7,106.4 L 107.7,106.4 L 107.7,106.4 L 107.7,106.4 L 107.8,106.4 L 107.8,106.3 L 107.8,106.3 L 107.8,106.3 L 107.8,106.3 L 107.9,106.3 L 107.9,106.3 L 107.9,106.3 L 108.0,106.3 L 108.0,106.3 L 108.0,106.3 L 108.0,106.3 L 108.0,106.3 L 108.1,106.3 L 108.1,106.4 L 108.1,106.4 L 108.1,106.4 L 108.2,106.4 L 108.2,106.4 L 108.2,106.5 L 108.2,106.5 L 108.2,106.5 L 108.2,106.5 L 108.2,106.6 L 108.2,106.6 L 108.2,106.6 L 107.9,106.6 Z\" style=\"fill:#000000;fill-rule:evenodd;fill-opacity:1;stroke:#000000;stroke-width:0.0px;stroke-linecap:butt;stroke-linejoin:miter;stroke-opacity:1;\"/>\n",
       "<path class=\"atom-188\" d=\"M 154.7,83.5 L 154.7,83.6 L 154.7,83.6 L 154.7,83.6 L 154.7,83.6 L 154.7,83.7 L 154.7,83.7 L 154.7,83.7 L 154.6,83.7 L 154.6,83.7 L 154.6,83.8 L 154.6,83.8 L 154.6,83.8 L 154.5,83.8 L 154.5,83.8 L 154.5,83.8 L 154.5,83.8 L 154.4,83.8 L 154.4,83.8 L 154.4,83.8 L 154.4,83.8 L 154.3,83.8 L 154.3,83.8 L 154.3,83.8 L 154.3,83.8 L 154.2,83.8 L 154.2,83.8 L 154.2,83.8 L 154.2,83.7 L 154.2,83.7 L 154.2,83.7 L 154.1,83.7 L 154.1,83.6 L 154.1,83.6 L 154.1,83.6 L 154.1,83.6 L 154.1,83.5 L 154.1,83.5 L 154.1,83.5 L 154.1,83.5 L 154.1,83.4 L 154.1,83.4 L 154.1,83.4 L 154.2,83.4 L 154.2,83.4 L 154.2,83.3 L 154.2,83.3 L 154.2,83.3 L 154.2,83.3 L 154.3,83.3 L 154.3,83.3 L 154.3,83.3 L 154.3,83.2 L 154.4,83.2 L 154.4,83.2 L 154.4,83.2 L 154.4,83.2 L 154.5,83.2 L 154.5,83.2 L 154.5,83.3 L 154.5,83.3 L 154.6,83.3 L 154.6,83.3 L 154.6,83.3 L 154.6,83.3 L 154.6,83.3 L 154.7,83.4 L 154.7,83.4 L 154.7,83.4 L 154.7,83.4 L 154.7,83.5 L 154.7,83.5 L 154.7,83.5 L 154.7,83.5 L 154.4,83.5 Z\" style=\"fill:#000000;fill-rule:evenodd;fill-opacity:1;stroke:#000000;stroke-width:0.0px;stroke-linecap:butt;stroke-linejoin:miter;stroke-opacity:1;\"/>\n",
       "<path class=\"atom-189\" d=\"M 216.5,131.2 L 216.5,131.2 L 216.5,131.2 L 216.5,131.3 L 216.4,131.3 L 216.4,131.3 L 216.4,131.3 L 216.4,131.4 L 216.4,131.4 L 216.4,131.4 L 216.4,131.4 L 216.3,131.4 L 216.3,131.4 L 216.3,131.5 L 216.3,131.5 L 216.2,131.5 L 216.2,131.5 L 216.2,131.5 L 216.2,131.5 L 216.1,131.5 L 216.1,131.5 L 216.1,131.5 L 216.1,131.5 L 216.0,131.5 L 216.0,131.5 L 216.0,131.4 L 216.0,131.4 L 216.0,131.4 L 215.9,131.4 L 215.9,131.4 L 215.9,131.3 L 215.9,131.3 L 215.9,131.3 L 215.9,131.3 L 215.9,131.3 L 215.9,131.2 L 215.9,131.2 L 215.9,131.2 L 215.9,131.1 L 215.9,131.1 L 215.9,131.1 L 215.9,131.1 L 215.9,131.0 L 215.9,131.0 L 215.9,131.0 L 215.9,131.0 L 216.0,131.0 L 216.0,131.0 L 216.0,130.9 L 216.0,130.9 L 216.0,130.9 L 216.1,130.9 L 216.1,130.9 L 216.1,130.9 L 216.1,130.9 L 216.2,130.9 L 216.2,130.9 L 216.2,130.9 L 216.2,130.9 L 216.3,130.9 L 216.3,130.9 L 216.3,130.9 L 216.3,130.9 L 216.4,131.0 L 216.4,131.0 L 216.4,131.0 L 216.4,131.0 L 216.4,131.0 L 216.4,131.1 L 216.4,131.1 L 216.5,131.1 L 216.5,131.1 L 216.5,131.2 L 216.5,131.2 L 216.2,131.2 Z\" style=\"fill:#000000;fill-rule:evenodd;fill-opacity:1;stroke:#000000;stroke-width:0.0px;stroke-linecap:butt;stroke-linejoin:miter;stroke-opacity:1;\"/>\n",
       "<path class=\"atom-190\" d=\"M 184.2,115.3 L 184.2,115.4 L 184.2,115.4 L 184.2,115.4 L 184.2,115.4 L 184.1,115.5 L 184.1,115.5 L 184.1,115.5 L 184.1,115.5 L 184.1,115.6 L 184.1,115.6 L 184.0,115.6 L 184.0,115.6 L 184.0,115.6 L 184.0,115.6 L 184.0,115.6 L 183.9,115.6 L 183.9,115.6 L 183.9,115.6 L 183.9,115.6 L 183.8,115.6 L 183.8,115.6 L 183.8,115.6 L 183.8,115.6 L 183.7,115.6 L 183.7,115.6 L 183.7,115.6 L 183.7,115.6 L 183.6,115.5 L 183.6,115.5 L 183.6,115.5 L 183.6,115.5 L 183.6,115.5 L 183.6,115.4 L 183.6,115.4 L 183.6,115.4 L 183.6,115.4 L 183.6,115.3 L 183.6,115.3 L 183.6,115.3 L 183.6,115.3 L 183.6,115.2 L 183.6,115.2 L 183.6,115.2 L 183.6,115.2 L 183.6,115.1 L 183.7,115.1 L 183.7,115.1 L 183.7,115.1 L 183.7,115.1 L 183.8,115.1 L 183.8,115.1 L 183.8,115.0 L 183.8,115.0 L 183.9,115.0 L 183.9,115.0 L 183.9,115.0 L 183.9,115.0 L 184.0,115.1 L 184.0,115.1 L 184.0,115.1 L 184.0,115.1 L 184.0,115.1 L 184.1,115.1 L 184.1,115.1 L 184.1,115.2 L 184.1,115.2 L 184.1,115.2 L 184.1,115.2 L 184.2,115.2 L 184.2,115.3 L 184.2,115.3 L 184.2,115.3 L 184.2,115.3 L 183.9,115.3 Z\" style=\"fill:#000000;fill-rule:evenodd;fill-opacity:1;stroke:#000000;stroke-width:0.0px;stroke-linecap:butt;stroke-linejoin:miter;stroke-opacity:1;\"/>\n",
       "<path class=\"atom-191\" d=\"M 213.9,110.7 L 213.9,110.8 L 213.9,110.8 L 213.8,110.8 L 213.8,110.8 L 213.8,110.9 L 213.8,110.9 L 213.8,110.9 L 213.8,110.9 L 213.8,110.9 L 213.8,111.0 L 213.7,111.0 L 213.7,111.0 L 213.7,111.0 L 213.7,111.0 L 213.6,111.0 L 213.6,111.0 L 213.6,111.0 L 213.6,111.0 L 213.5,111.0 L 213.5,111.0 L 213.5,111.0 L 213.5,111.0 L 213.4,111.0 L 213.4,111.0 L 213.4,111.0 L 213.4,111.0 L 213.4,111.0 L 213.3,110.9 L 213.3,110.9 L 213.3,110.9 L 213.3,110.9 L 213.3,110.9 L 213.3,110.8 L 213.3,110.8 L 213.3,110.8 L 213.3,110.8 L 213.3,110.7 L 213.3,110.7 L 213.3,110.7 L 213.3,110.7 L 213.3,110.6 L 213.3,110.6 L 213.3,110.6 L 213.3,110.6 L 213.3,110.5 L 213.4,110.5 L 213.4,110.5 L 213.4,110.5 L 213.4,110.5 L 213.4,110.5 L 213.5,110.5 L 213.5,110.4 L 213.5,110.4 L 213.5,110.4 L 213.6,110.4 L 213.6,110.4 L 213.6,110.4 L 213.6,110.5 L 213.7,110.5 L 213.7,110.5 L 213.7,110.5 L 213.7,110.5 L 213.8,110.5 L 213.8,110.5 L 213.8,110.5 L 213.8,110.6 L 213.8,110.6 L 213.8,110.6 L 213.8,110.6 L 213.8,110.7 L 213.9,110.7 L 213.9,110.7 L 213.9,110.7 L 213.6,110.7 Z\" style=\"fill:#000000;fill-rule:evenodd;fill-opacity:1;stroke:#000000;stroke-width:0.0px;stroke-linecap:butt;stroke-linejoin:miter;stroke-opacity:1;\"/>\n",
       "<path class=\"atom-192\" d=\"M 137.5,77.6 L 137.5,77.6 L 137.5,77.6 L 137.5,77.7 L 137.5,77.7 L 137.5,77.7 L 137.4,77.7 L 137.4,77.8 L 137.4,77.8 L 137.4,77.8 L 137.4,77.8 L 137.4,77.8 L 137.3,77.9 L 137.3,77.9 L 137.3,77.9 L 137.3,77.9 L 137.2,77.9 L 137.2,77.9 L 137.2,77.9 L 137.2,77.9 L 137.1,77.9 L 137.1,77.9 L 137.1,77.9 L 137.1,77.9 L 137.0,77.9 L 137.0,77.8 L 137.0,77.8 L 137.0,77.8 L 137.0,77.8 L 136.9,77.8 L 136.9,77.8 L 136.9,77.7 L 136.9,77.7 L 136.9,77.7 L 136.9,77.7 L 136.9,77.6 L 136.9,77.6 L 136.9,77.6 L 136.9,77.6 L 136.9,77.5 L 136.9,77.5 L 136.9,77.5 L 136.9,77.5 L 136.9,77.4 L 136.9,77.4 L 137.0,77.4 L 137.0,77.4 L 137.0,77.4 L 137.0,77.3 L 137.0,77.3 L 137.1,77.3 L 137.1,77.3 L 137.1,77.3 L 137.1,77.3 L 137.2,77.3 L 137.2,77.3 L 137.2,77.3 L 137.2,77.3 L 137.3,77.3 L 137.3,77.3 L 137.3,77.3 L 137.3,77.3 L 137.4,77.4 L 137.4,77.4 L 137.4,77.4 L 137.4,77.4 L 137.4,77.4 L 137.4,77.4 L 137.5,77.5 L 137.5,77.5 L 137.5,77.5 L 137.5,77.5 L 137.5,77.6 L 137.5,77.6 L 137.2,77.6 Z\" style=\"fill:#000000;fill-rule:evenodd;fill-opacity:1;stroke:#000000;stroke-width:0.0px;stroke-linecap:butt;stroke-linejoin:miter;stroke-opacity:1;\"/>\n",
       "<path class=\"atom-193\" d=\"M 263.5,76.2 L 263.5,76.2 L 263.5,76.2 L 263.5,76.3 L 263.5,76.3 L 263.5,76.3 L 263.4,76.3 L 263.4,76.4 L 263.4,76.4 L 263.4,76.4 L 263.4,76.4 L 263.4,76.4 L 263.3,76.5 L 263.3,76.5 L 263.3,76.5 L 263.3,76.5 L 263.2,76.5 L 263.2,76.5 L 263.2,76.5 L 263.2,76.5 L 263.1,76.5 L 263.1,76.5 L 263.1,76.5 L 263.1,76.5 L 263.0,76.5 L 263.0,76.4 L 263.0,76.4 L 263.0,76.4 L 263.0,76.4 L 262.9,76.4 L 262.9,76.4 L 262.9,76.3 L 262.9,76.3 L 262.9,76.3 L 262.9,76.3 L 262.9,76.2 L 262.9,76.2 L 262.9,76.2 L 262.9,76.2 L 262.9,76.1 L 262.9,76.1 L 262.9,76.1 L 262.9,76.1 L 262.9,76.0 L 262.9,76.0 L 263.0,76.0 L 263.0,76.0 L 263.0,76.0 L 263.0,75.9 L 263.0,75.9 L 263.1,75.9 L 263.1,75.9 L 263.1,75.9 L 263.1,75.9 L 263.2,75.9 L 263.2,75.9 L 263.2,75.9 L 263.2,75.9 L 263.3,75.9 L 263.3,75.9 L 263.3,75.9 L 263.3,75.9 L 263.4,76.0 L 263.4,76.0 L 263.4,76.0 L 263.4,76.0 L 263.4,76.0 L 263.4,76.0 L 263.5,76.1 L 263.5,76.1 L 263.5,76.1 L 263.5,76.1 L 263.5,76.2 L 263.5,76.2 L 263.2,76.2 Z\" style=\"fill:#000000;fill-rule:evenodd;fill-opacity:1;stroke:#000000;stroke-width:0.0px;stroke-linecap:butt;stroke-linejoin:miter;stroke-opacity:1;\"/>\n",
       "<path class=\"atom-194\" d=\"M 147.2,88.5 L 147.2,88.6 L 147.2,88.6 L 147.2,88.6 L 147.2,88.6 L 147.2,88.7 L 147.2,88.7 L 147.2,88.7 L 147.2,88.7 L 147.2,88.8 L 147.1,88.8 L 147.1,88.8 L 147.1,88.8 L 147.1,88.8 L 147.1,88.8 L 147.0,88.8 L 147.0,88.8 L 147.0,88.8 L 147.0,88.8 L 146.9,88.8 L 146.9,88.8 L 146.9,88.8 L 146.8,88.8 L 146.8,88.8 L 146.8,88.8 L 146.8,88.8 L 146.8,88.8 L 146.7,88.8 L 146.7,88.7 L 146.7,88.7 L 146.7,88.7 L 146.7,88.7 L 146.7,88.7 L 146.7,88.6 L 146.7,88.6 L 146.6,88.6 L 146.6,88.6 L 146.6,88.5 L 146.6,88.5 L 146.7,88.5 L 146.7,88.5 L 146.7,88.4 L 146.7,88.4 L 146.7,88.4 L 146.7,88.4 L 146.7,88.3 L 146.7,88.3 L 146.8,88.3 L 146.8,88.3 L 146.8,88.3 L 146.8,88.3 L 146.8,88.3 L 146.9,88.3 L 146.9,88.2 L 146.9,88.2 L 147.0,88.2 L 147.0,88.2 L 147.0,88.3 L 147.0,88.3 L 147.1,88.3 L 147.1,88.3 L 147.1,88.3 L 147.1,88.3 L 147.1,88.3 L 147.2,88.3 L 147.2,88.4 L 147.2,88.4 L 147.2,88.4 L 147.2,88.4 L 147.2,88.4 L 147.2,88.5 L 147.2,88.5 L 147.2,88.5 L 147.2,88.5 L 146.9,88.5 Z\" style=\"fill:#000000;fill-rule:evenodd;fill-opacity:1;stroke:#000000;stroke-width:0.0px;stroke-linecap:butt;stroke-linejoin:miter;stroke-opacity:1;\"/>\n",
       "<path class=\"atom-195\" d=\"M 115.9,86.2 L 115.9,86.2 L 115.9,86.2 L 115.9,86.2 L 115.8,86.3 L 115.8,86.3 L 115.8,86.3 L 115.8,86.3 L 115.8,86.3 L 115.8,86.4 L 115.8,86.4 L 115.7,86.4 L 115.7,86.4 L 115.7,86.4 L 115.7,86.4 L 115.6,86.4 L 115.6,86.5 L 115.6,86.5 L 115.6,86.5 L 115.5,86.5 L 115.5,86.5 L 115.5,86.4 L 115.5,86.4 L 115.4,86.4 L 115.4,86.4 L 115.4,86.4 L 115.4,86.4 L 115.4,86.4 L 115.3,86.4 L 115.3,86.3 L 115.3,86.3 L 115.3,86.3 L 115.3,86.3 L 115.3,86.2 L 115.3,86.2 L 115.3,86.2 L 115.3,86.2 L 115.3,86.1 L 115.3,86.1 L 115.3,86.1 L 115.3,86.1 L 115.3,86.0 L 115.3,86.0 L 115.3,86.0 L 115.3,86.0 L 115.3,86.0 L 115.4,85.9 L 115.4,85.9 L 115.4,85.9 L 115.4,85.9 L 115.4,85.9 L 115.5,85.9 L 115.5,85.9 L 115.5,85.9 L 115.5,85.9 L 115.6,85.9 L 115.6,85.9 L 115.6,85.9 L 115.6,85.9 L 115.7,85.9 L 115.7,85.9 L 115.7,85.9 L 115.7,85.9 L 115.8,85.9 L 115.8,85.9 L 115.8,86.0 L 115.8,86.0 L 115.8,86.0 L 115.8,86.0 L 115.8,86.1 L 115.9,86.1 L 115.9,86.1 L 115.9,86.1 L 115.9,86.2 L 115.6,86.2 Z\" style=\"fill:#000000;fill-rule:evenodd;fill-opacity:1;stroke:#000000;stroke-width:0.0px;stroke-linecap:butt;stroke-linejoin:miter;stroke-opacity:1;\"/>\n",
       "<path class=\"atom-196\" d=\"M 342.4,88.9 L 342.4,88.9 L 342.4,88.9 L 342.4,89.0 L 342.4,89.0 L 342.4,89.0 L 342.3,89.0 L 342.3,89.1 L 342.3,89.1 L 342.3,89.1 L 342.3,89.1 L 342.3,89.1 L 342.2,89.1 L 342.2,89.2 L 342.2,89.2 L 342.2,89.2 L 342.1,89.2 L 342.1,89.2 L 342.1,89.2 L 342.1,89.2 L 342.0,89.2 L 342.0,89.2 L 342.0,89.2 L 342.0,89.2 L 341.9,89.2 L 341.9,89.1 L 341.9,89.1 L 341.9,89.1 L 341.9,89.1 L 341.8,89.1 L 341.8,89.1 L 341.8,89.0 L 341.8,89.0 L 341.8,89.0 L 341.8,89.0 L 341.8,88.9 L 341.8,88.9 L 341.8,88.9 L 341.8,88.9 L 341.8,88.8 L 341.8,88.8 L 341.8,88.8 L 341.8,88.8 L 341.8,88.7 L 341.8,88.7 L 341.9,88.7 L 341.9,88.7 L 341.9,88.7 L 341.9,88.6 L 341.9,88.6 L 342.0,88.6 L 342.0,88.6 L 342.0,88.6 L 342.0,88.6 L 342.1,88.6 L 342.1,88.6 L 342.1,88.6 L 342.1,88.6 L 342.2,88.6 L 342.2,88.6 L 342.2,88.6 L 342.2,88.6 L 342.3,88.6 L 342.3,88.7 L 342.3,88.7 L 342.3,88.7 L 342.3,88.7 L 342.3,88.7 L 342.4,88.8 L 342.4,88.8 L 342.4,88.8 L 342.4,88.8 L 342.4,88.9 L 342.4,88.9 L 342.1,88.9 Z\" style=\"fill:#000000;fill-rule:evenodd;fill-opacity:1;stroke:#000000;stroke-width:0.0px;stroke-linecap:butt;stroke-linejoin:miter;stroke-opacity:1;\"/>\n",
       "<path class=\"atom-197\" d=\"M 139.9,37.2 L 139.9,37.2 L 139.9,37.3 L 139.9,37.3 L 139.9,37.3 L 139.9,37.3 L 139.8,37.4 L 139.8,37.4 L 139.8,37.4 L 139.8,37.4 L 139.8,37.5 L 139.8,37.5 L 139.7,37.5 L 139.7,37.5 L 139.7,37.5 L 139.7,37.5 L 139.6,37.5 L 139.6,37.5 L 139.6,37.5 L 139.6,37.5 L 139.5,37.5 L 139.5,37.5 L 139.5,37.5 L 139.5,37.5 L 139.4,37.5 L 139.4,37.5 L 139.4,37.5 L 139.4,37.4 L 139.4,37.4 L 139.3,37.4 L 139.3,37.4 L 139.3,37.4 L 139.3,37.3 L 139.3,37.3 L 139.3,37.3 L 139.3,37.3 L 139.3,37.2 L 139.3,37.2 L 139.3,37.2 L 139.3,37.2 L 139.3,37.1 L 139.3,37.1 L 139.3,37.1 L 139.3,37.1 L 139.3,37.0 L 139.4,37.0 L 139.4,37.0 L 139.4,37.0 L 139.4,37.0 L 139.4,37.0 L 139.5,36.9 L 139.5,36.9 L 139.5,36.9 L 139.5,36.9 L 139.6,36.9 L 139.6,36.9 L 139.6,36.9 L 139.6,36.9 L 139.7,36.9 L 139.7,36.9 L 139.7,37.0 L 139.7,37.0 L 139.8,37.0 L 139.8,37.0 L 139.8,37.0 L 139.8,37.0 L 139.8,37.1 L 139.8,37.1 L 139.9,37.1 L 139.9,37.1 L 139.9,37.1 L 139.9,37.2 L 139.9,37.2 L 139.9,37.2 L 139.6,37.2 Z\" style=\"fill:#000000;fill-rule:evenodd;fill-opacity:1;stroke:#000000;stroke-width:0.0px;stroke-linecap:butt;stroke-linejoin:miter;stroke-opacity:1;\"/>\n",
       "<path class=\"atom-198\" d=\"M 180.0,128.8 L 180.0,128.8 L 180.0,128.8 L 179.9,128.9 L 179.9,128.9 L 179.9,128.9 L 179.9,128.9 L 179.9,129.0 L 179.9,129.0 L 179.9,129.0 L 179.9,129.0 L 179.8,129.0 L 179.8,129.1 L 179.8,129.1 L 179.8,129.1 L 179.7,129.1 L 179.7,129.1 L 179.7,129.1 L 179.7,129.1 L 179.6,129.1 L 179.6,129.1 L 179.6,129.1 L 179.6,129.1 L 179.5,129.1 L 179.5,129.1 L 179.5,129.0 L 179.5,129.0 L 179.5,129.0 L 179.4,129.0 L 179.4,129.0 L 179.4,129.0 L 179.4,128.9 L 179.4,128.9 L 179.4,128.9 L 179.4,128.9 L 179.4,128.8 L 179.4,128.8 L 179.4,128.8 L 179.4,128.8 L 179.4,128.7 L 179.4,128.7 L 179.4,128.7 L 179.4,128.7 L 179.4,128.6 L 179.4,128.6 L 179.4,128.6 L 179.5,128.6 L 179.5,128.6 L 179.5,128.5 L 179.5,128.5 L 179.5,128.5 L 179.6,128.5 L 179.6,128.5 L 179.6,128.5 L 179.6,128.5 L 179.7,128.5 L 179.7,128.5 L 179.7,128.5 L 179.7,128.5 L 179.8,128.5 L 179.8,128.5 L 179.8,128.5 L 179.8,128.6 L 179.9,128.6 L 179.9,128.6 L 179.9,128.6 L 179.9,128.6 L 179.9,128.7 L 179.9,128.7 L 179.9,128.7 L 179.9,128.7 L 180.0,128.7 L 180.0,128.8 L 180.0,128.8 L 179.7,128.8 Z\" style=\"fill:#000000;fill-rule:evenodd;fill-opacity:1;stroke:#000000;stroke-width:0.0px;stroke-linecap:butt;stroke-linejoin:miter;stroke-opacity:1;\"/>\n",
       "<path class=\"atom-199\" d=\"M 248.4,142.5 L 248.4,142.6 L 248.4,142.6 L 248.4,142.6 L 248.4,142.6 L 248.4,142.7 L 248.4,142.7 L 248.4,142.7 L 248.4,142.7 L 248.4,142.8 L 248.3,142.8 L 248.3,142.8 L 248.3,142.8 L 248.3,142.8 L 248.3,142.8 L 248.2,142.8 L 248.2,142.8 L 248.2,142.8 L 248.2,142.8 L 248.1,142.8 L 248.1,142.8 L 248.1,142.8 L 248.1,142.8 L 248.0,142.8 L 248.0,142.8 L 248.0,142.8 L 248.0,142.8 L 247.9,142.8 L 247.9,142.7 L 247.9,142.7 L 247.9,142.7 L 247.9,142.7 L 247.9,142.7 L 247.9,142.6 L 247.9,142.6 L 247.8,142.6 L 247.8,142.6 L 247.8,142.5 L 247.8,142.5 L 247.9,142.5 L 247.9,142.5 L 247.9,142.4 L 247.9,142.4 L 247.9,142.4 L 247.9,142.4 L 247.9,142.3 L 247.9,142.3 L 248.0,142.3 L 248.0,142.3 L 248.0,142.3 L 248.0,142.3 L 248.1,142.3 L 248.1,142.3 L 248.1,142.2 L 248.1,142.2 L 248.2,142.2 L 248.2,142.2 L 248.2,142.3 L 248.2,142.3 L 248.3,142.3 L 248.3,142.3 L 248.3,142.3 L 248.3,142.3 L 248.3,142.3 L 248.4,142.3 L 248.4,142.4 L 248.4,142.4 L 248.4,142.4 L 248.4,142.4 L 248.4,142.4 L 248.4,142.5 L 248.4,142.5 L 248.4,142.5 L 248.4,142.5 L 248.1,142.5 Z\" style=\"fill:#000000;fill-rule:evenodd;fill-opacity:1;stroke:#000000;stroke-width:0.0px;stroke-linecap:butt;stroke-linejoin:miter;stroke-opacity:1;\"/>\n",
       "<path class=\"atom-200\" d=\"M 205.3,138.7 L 205.3,138.7 L 205.3,138.8 L 205.3,138.8 L 205.2,138.8 L 205.2,138.8 L 205.2,138.8 L 205.2,138.9 L 205.2,138.9 L 205.2,138.9 L 205.2,138.9 L 205.1,138.9 L 205.1,139.0 L 205.1,139.0 L 205.1,139.0 L 205.0,139.0 L 205.0,139.0 L 205.0,139.0 L 205.0,139.0 L 204.9,139.0 L 204.9,139.0 L 204.9,139.0 L 204.9,139.0 L 204.8,139.0 L 204.8,139.0 L 204.8,139.0 L 204.8,138.9 L 204.8,138.9 L 204.7,138.9 L 204.7,138.9 L 204.7,138.9 L 204.7,138.8 L 204.7,138.8 L 204.7,138.8 L 204.7,138.8 L 204.7,138.7 L 204.7,138.7 L 204.7,138.7 L 204.7,138.7 L 204.7,138.6 L 204.7,138.6 L 204.7,138.6 L 204.7,138.6 L 204.7,138.5 L 204.7,138.5 L 204.7,138.5 L 204.8,138.5 L 204.8,138.5 L 204.8,138.5 L 204.8,138.4 L 204.8,138.4 L 204.9,138.4 L 204.9,138.4 L 204.9,138.4 L 204.9,138.4 L 205.0,138.4 L 205.0,138.4 L 205.0,138.4 L 205.0,138.4 L 205.1,138.4 L 205.1,138.4 L 205.1,138.4 L 205.1,138.5 L 205.2,138.5 L 205.2,138.5 L 205.2,138.5 L 205.2,138.5 L 205.2,138.6 L 205.2,138.6 L 205.2,138.6 L 205.3,138.6 L 205.3,138.6 L 205.3,138.7 L 205.3,138.7 L 205.0,138.7 Z\" style=\"fill:#000000;fill-rule:evenodd;fill-opacity:1;stroke:#000000;stroke-width:0.0px;stroke-linecap:butt;stroke-linejoin:miter;stroke-opacity:1;\"/>\n",
       "<path class=\"atom-201\" d=\"M 134.2,69.1 L 134.2,69.2 L 134.2,69.2 L 134.2,69.2 L 134.2,69.2 L 134.2,69.3 L 134.2,69.3 L 134.2,69.3 L 134.2,69.3 L 134.1,69.4 L 134.1,69.4 L 134.1,69.4 L 134.1,69.4 L 134.1,69.4 L 134.0,69.4 L 134.0,69.4 L 134.0,69.4 L 134.0,69.4 L 133.9,69.4 L 133.9,69.4 L 133.9,69.4 L 133.9,69.4 L 133.8,69.4 L 133.8,69.4 L 133.8,69.4 L 133.8,69.4 L 133.7,69.4 L 133.7,69.4 L 133.7,69.3 L 133.7,69.3 L 133.7,69.3 L 133.7,69.3 L 133.7,69.3 L 133.6,69.2 L 133.6,69.2 L 133.6,69.2 L 133.6,69.2 L 133.6,69.1 L 133.6,69.1 L 133.6,69.1 L 133.6,69.1 L 133.7,69.0 L 133.7,69.0 L 133.7,69.0 L 133.7,69.0 L 133.7,68.9 L 133.7,68.9 L 133.7,68.9 L 133.8,68.9 L 133.8,68.9 L 133.8,68.9 L 133.8,68.9 L 133.9,68.9 L 133.9,68.9 L 133.9,68.8 L 133.9,68.8 L 134.0,68.8 L 134.0,68.9 L 134.0,68.9 L 134.0,68.9 L 134.1,68.9 L 134.1,68.9 L 134.1,68.9 L 134.1,68.9 L 134.1,68.9 L 134.2,69.0 L 134.2,69.0 L 134.2,69.0 L 134.2,69.0 L 134.2,69.0 L 134.2,69.1 L 134.2,69.1 L 134.2,69.1 L 134.2,69.1 L 133.9,69.1 Z\" style=\"fill:#000000;fill-rule:evenodd;fill-opacity:1;stroke:#000000;stroke-width:0.0px;stroke-linecap:butt;stroke-linejoin:miter;stroke-opacity:1;\"/>\n",
       "<path class=\"atom-202\" d=\"M 179.4,119.8 L 179.4,119.9 L 179.3,119.9 L 179.3,119.9 L 179.3,119.9 L 179.3,120.0 L 179.3,120.0 L 179.3,120.0 L 179.3,120.0 L 179.3,120.0 L 179.2,120.1 L 179.2,120.1 L 179.2,120.1 L 179.2,120.1 L 179.2,120.1 L 179.1,120.1 L 179.1,120.1 L 179.1,120.1 L 179.1,120.1 L 179.0,120.1 L 179.0,120.1 L 179.0,120.1 L 179.0,120.1 L 178.9,120.1 L 178.9,120.1 L 178.9,120.1 L 178.9,120.1 L 178.8,120.0 L 178.8,120.0 L 178.8,120.0 L 178.8,120.0 L 178.8,120.0 L 178.8,119.9 L 178.8,119.9 L 178.8,119.9 L 178.8,119.9 L 178.8,119.8 L 178.8,119.8 L 178.8,119.8 L 178.8,119.8 L 178.8,119.7 L 178.8,119.7 L 178.8,119.7 L 178.8,119.7 L 178.8,119.6 L 178.8,119.6 L 178.8,119.6 L 178.9,119.6 L 178.9,119.6 L 178.9,119.6 L 178.9,119.6 L 179.0,119.5 L 179.0,119.5 L 179.0,119.5 L 179.0,119.5 L 179.1,119.5 L 179.1,119.5 L 179.1,119.5 L 179.1,119.5 L 179.2,119.5 L 179.2,119.6 L 179.2,119.6 L 179.2,119.6 L 179.2,119.6 L 179.3,119.6 L 179.3,119.6 L 179.3,119.7 L 179.3,119.7 L 179.3,119.7 L 179.3,119.7 L 179.3,119.8 L 179.3,119.8 L 179.4,119.8 L 179.4,119.8 L 179.1,119.8 Z\" style=\"fill:#000000;fill-rule:evenodd;fill-opacity:1;stroke:#000000;stroke-width:0.0px;stroke-linecap:butt;stroke-linejoin:miter;stroke-opacity:1;\"/>\n",
       "<path class=\"atom-203\" d=\"M 165.3,67.0 L 165.3,67.1 L 165.3,67.1 L 165.3,67.1 L 165.3,67.2 L 165.3,67.2 L 165.3,67.2 L 165.3,67.2 L 165.2,67.2 L 165.2,67.3 L 165.2,67.3 L 165.2,67.3 L 165.2,67.3 L 165.1,67.3 L 165.1,67.3 L 165.1,67.3 L 165.1,67.3 L 165.0,67.3 L 165.0,67.3 L 165.0,67.3 L 165.0,67.3 L 164.9,67.3 L 164.9,67.3 L 164.9,67.3 L 164.9,67.3 L 164.8,67.3 L 164.8,67.3 L 164.8,67.3 L 164.8,67.2 L 164.8,67.2 L 164.8,67.2 L 164.7,67.2 L 164.7,67.2 L 164.7,67.1 L 164.7,67.1 L 164.7,67.1 L 164.7,67.1 L 164.7,67.0 L 164.7,67.0 L 164.7,67.0 L 164.7,67.0 L 164.7,66.9 L 164.7,66.9 L 164.8,66.9 L 164.8,66.9 L 164.8,66.8 L 164.8,66.8 L 164.8,66.8 L 164.8,66.8 L 164.9,66.8 L 164.9,66.8 L 164.9,66.8 L 164.9,66.8 L 165.0,66.8 L 165.0,66.8 L 165.0,66.7 L 165.0,66.8 L 165.1,66.8 L 165.1,66.8 L 165.1,66.8 L 165.1,66.8 L 165.2,66.8 L 165.2,66.8 L 165.2,66.8 L 165.2,66.8 L 165.2,66.9 L 165.3,66.9 L 165.3,66.9 L 165.3,66.9 L 165.3,66.9 L 165.3,67.0 L 165.3,67.0 L 165.3,67.0 L 165.3,67.0 L 165.0,67.0 Z\" style=\"fill:#000000;fill-rule:evenodd;fill-opacity:1;stroke:#000000;stroke-width:0.0px;stroke-linecap:butt;stroke-linejoin:miter;stroke-opacity:1;\"/>\n",
       "<path class=\"atom-204\" d=\"M 121.4,110.6 L 121.4,110.6 L 121.4,110.6 L 121.4,110.6 L 121.4,110.7 L 121.4,110.7 L 121.4,110.7 L 121.4,110.7 L 121.3,110.8 L 121.3,110.8 L 121.3,110.8 L 121.3,110.8 L 121.3,110.8 L 121.2,110.8 L 121.2,110.8 L 121.2,110.9 L 121.2,110.9 L 121.1,110.9 L 121.1,110.9 L 121.1,110.9 L 121.1,110.9 L 121.0,110.9 L 121.0,110.9 L 121.0,110.8 L 121.0,110.8 L 120.9,110.8 L 120.9,110.8 L 120.9,110.8 L 120.9,110.8 L 120.9,110.7 L 120.9,110.7 L 120.8,110.7 L 120.8,110.7 L 120.8,110.7 L 120.8,110.6 L 120.8,110.6 L 120.8,110.6 L 120.8,110.6 L 120.8,110.5 L 120.8,110.5 L 120.8,110.5 L 120.8,110.5 L 120.8,110.4 L 120.9,110.4 L 120.9,110.4 L 120.9,110.4 L 120.9,110.3 L 120.9,110.3 L 120.9,110.3 L 121.0,110.3 L 121.0,110.3 L 121.0,110.3 L 121.0,110.3 L 121.1,110.3 L 121.1,110.3 L 121.1,110.3 L 121.1,110.3 L 121.2,110.3 L 121.2,110.3 L 121.2,110.3 L 121.2,110.3 L 121.3,110.3 L 121.3,110.3 L 121.3,110.3 L 121.3,110.4 L 121.3,110.4 L 121.4,110.4 L 121.4,110.4 L 121.4,110.4 L 121.4,110.5 L 121.4,110.5 L 121.4,110.5 L 121.4,110.5 L 121.4,110.6 L 121.1,110.6 Z\" style=\"fill:#000000;fill-rule:evenodd;fill-opacity:1;stroke:#000000;stroke-width:0.0px;stroke-linecap:butt;stroke-linejoin:miter;stroke-opacity:1;\"/>\n",
       "<path class=\"atom-205\" d=\"M 216.4,90.3 L 216.4,90.3 L 216.4,90.3 L 216.4,90.4 L 216.4,90.4 L 216.4,90.4 L 216.3,90.4 L 216.3,90.5 L 216.3,90.5 L 216.3,90.5 L 216.3,90.5 L 216.3,90.5 L 216.2,90.5 L 216.2,90.6 L 216.2,90.6 L 216.2,90.6 L 216.1,90.6 L 216.1,90.6 L 216.1,90.6 L 216.1,90.6 L 216.0,90.6 L 216.0,90.6 L 216.0,90.6 L 216.0,90.6 L 215.9,90.6 L 215.9,90.5 L 215.9,90.5 L 215.9,90.5 L 215.9,90.5 L 215.8,90.5 L 215.8,90.5 L 215.8,90.4 L 215.8,90.4 L 215.8,90.4 L 215.8,90.4 L 215.8,90.3 L 215.8,90.3 L 215.8,90.3 L 215.8,90.3 L 215.8,90.2 L 215.8,90.2 L 215.8,90.2 L 215.8,90.2 L 215.8,90.1 L 215.8,90.1 L 215.9,90.1 L 215.9,90.1 L 215.9,90.1 L 215.9,90.0 L 215.9,90.0 L 216.0,90.0 L 216.0,90.0 L 216.0,90.0 L 216.0,90.0 L 216.1,90.0 L 216.1,90.0 L 216.1,90.0 L 216.1,90.0 L 216.2,90.0 L 216.2,90.0 L 216.2,90.0 L 216.2,90.0 L 216.3,90.0 L 216.3,90.1 L 216.3,90.1 L 216.3,90.1 L 216.3,90.1 L 216.3,90.1 L 216.4,90.2 L 216.4,90.2 L 216.4,90.2 L 216.4,90.2 L 216.4,90.3 L 216.4,90.3 L 216.1,90.3 Z\" style=\"fill:#000000;fill-rule:evenodd;fill-opacity:1;stroke:#000000;stroke-width:0.0px;stroke-linecap:butt;stroke-linejoin:miter;stroke-opacity:1;\"/>\n",
       "<path class=\"atom-206\" d=\"M 180.7,122.3 L 180.7,122.4 L 180.7,122.4 L 180.7,122.4 L 180.7,122.4 L 180.7,122.5 L 180.7,122.5 L 180.7,122.5 L 180.7,122.5 L 180.7,122.5 L 180.6,122.6 L 180.6,122.6 L 180.6,122.6 L 180.6,122.6 L 180.6,122.6 L 180.5,122.6 L 180.5,122.6 L 180.5,122.6 L 180.4,122.6 L 180.4,122.6 L 180.4,122.6 L 180.4,122.6 L 180.3,122.6 L 180.3,122.6 L 180.3,122.6 L 180.3,122.6 L 180.3,122.6 L 180.2,122.6 L 180.2,122.5 L 180.2,122.5 L 180.2,122.5 L 180.2,122.5 L 180.2,122.4 L 180.2,122.4 L 180.1,122.4 L 180.1,122.4 L 180.1,122.3 L 180.1,122.3 L 180.1,122.3 L 180.1,122.3 L 180.2,122.2 L 180.2,122.2 L 180.2,122.2 L 180.2,122.2 L 180.2,122.2 L 180.2,122.1 L 180.2,122.1 L 180.3,122.1 L 180.3,122.1 L 180.3,122.1 L 180.3,122.1 L 180.3,122.0 L 180.4,122.0 L 180.4,122.0 L 180.4,122.0 L 180.4,122.0 L 180.5,122.0 L 180.5,122.0 L 180.5,122.0 L 180.6,122.1 L 180.6,122.1 L 180.6,122.1 L 180.6,122.1 L 180.6,122.1 L 180.7,122.1 L 180.7,122.1 L 180.7,122.2 L 180.7,122.2 L 180.7,122.2 L 180.7,122.2 L 180.7,122.3 L 180.7,122.3 L 180.7,122.3 L 180.7,122.3 L 180.4,122.3 Z\" style=\"fill:#000000;fill-rule:evenodd;fill-opacity:1;stroke:#000000;stroke-width:0.0px;stroke-linecap:butt;stroke-linejoin:miter;stroke-opacity:1;\"/>\n",
       "<path class=\"atom-207\" d=\"M 144.3,63.6 L 144.3,63.6 L 144.3,63.7 L 144.3,63.7 L 144.3,63.7 L 144.3,63.7 L 144.3,63.8 L 144.3,63.8 L 144.3,63.8 L 144.3,63.8 L 144.2,63.8 L 144.2,63.9 L 144.2,63.9 L 144.2,63.9 L 144.1,63.9 L 144.1,63.9 L 144.1,63.9 L 144.1,63.9 L 144.0,63.9 L 144.0,63.9 L 144.0,63.9 L 144.0,63.9 L 143.9,63.9 L 143.9,63.9 L 143.9,63.9 L 143.9,63.9 L 143.9,63.8 L 143.8,63.8 L 143.8,63.8 L 143.8,63.8 L 143.8,63.8 L 143.8,63.7 L 143.8,63.7 L 143.8,63.7 L 143.7,63.7 L 143.7,63.7 L 143.7,63.6 L 143.7,63.6 L 143.7,63.6 L 143.7,63.5 L 143.8,63.5 L 143.8,63.5 L 143.8,63.5 L 143.8,63.5 L 143.8,63.4 L 143.8,63.4 L 143.8,63.4 L 143.9,63.4 L 143.9,63.4 L 143.9,63.3 L 143.9,63.3 L 143.9,63.3 L 144.0,63.3 L 144.0,63.3 L 144.0,63.3 L 144.0,63.3 L 144.1,63.3 L 144.1,63.3 L 144.1,63.3 L 144.1,63.3 L 144.2,63.3 L 144.2,63.4 L 144.2,63.4 L 144.2,63.4 L 144.3,63.4 L 144.3,63.4 L 144.3,63.4 L 144.3,63.5 L 144.3,63.5 L 144.3,63.5 L 144.3,63.5 L 144.3,63.6 L 144.3,63.6 L 144.3,63.6 L 144.0,63.6 Z\" style=\"fill:#000000;fill-rule:evenodd;fill-opacity:1;stroke:#000000;stroke-width:0.0px;stroke-linecap:butt;stroke-linejoin:miter;stroke-opacity:1;\"/>\n",
       "<path class=\"atom-208\" d=\"M 164.6,114.4 L 164.6,114.4 L 164.6,114.5 L 164.6,114.5 L 164.6,114.5 L 164.6,114.5 L 164.6,114.6 L 164.5,114.6 L 164.5,114.6 L 164.5,114.6 L 164.5,114.6 L 164.5,114.7 L 164.5,114.7 L 164.4,114.7 L 164.4,114.7 L 164.4,114.7 L 164.4,114.7 L 164.3,114.7 L 164.3,114.7 L 164.3,114.7 L 164.3,114.7 L 164.2,114.7 L 164.2,114.7 L 164.2,114.7 L 164.2,114.7 L 164.1,114.7 L 164.1,114.6 L 164.1,114.6 L 164.1,114.6 L 164.1,114.6 L 164.0,114.6 L 164.0,114.5 L 164.0,114.5 L 164.0,114.5 L 164.0,114.5 L 164.0,114.4 L 164.0,114.4 L 164.0,114.4 L 164.0,114.4 L 164.0,114.3 L 164.0,114.3 L 164.0,114.3 L 164.0,114.3 L 164.0,114.3 L 164.1,114.2 L 164.1,114.2 L 164.1,114.2 L 164.1,114.2 L 164.1,114.2 L 164.2,114.1 L 164.2,114.1 L 164.2,114.1 L 164.2,114.1 L 164.3,114.1 L 164.3,114.1 L 164.3,114.1 L 164.3,114.1 L 164.4,114.1 L 164.4,114.1 L 164.4,114.1 L 164.4,114.1 L 164.5,114.2 L 164.5,114.2 L 164.5,114.2 L 164.5,114.2 L 164.5,114.2 L 164.5,114.2 L 164.6,114.3 L 164.6,114.3 L 164.6,114.3 L 164.6,114.3 L 164.6,114.4 L 164.6,114.4 L 164.6,114.4 L 164.3,114.4 Z\" style=\"fill:#000000;fill-rule:evenodd;fill-opacity:1;stroke:#000000;stroke-width:0.0px;stroke-linecap:butt;stroke-linejoin:miter;stroke-opacity:1;\"/>\n",
       "<path class=\"atom-209\" d=\"M 183.6,106.4 L 183.6,106.4 L 183.6,106.4 L 183.6,106.4 L 183.6,106.5 L 183.5,106.5 L 183.5,106.5 L 183.5,106.5 L 183.5,106.6 L 183.5,106.6 L 183.5,106.6 L 183.4,106.6 L 183.4,106.6 L 183.4,106.6 L 183.4,106.7 L 183.4,106.7 L 183.3,106.7 L 183.3,106.7 L 183.3,106.7 L 183.2,106.7 L 183.2,106.7 L 183.2,106.7 L 183.2,106.7 L 183.1,106.6 L 183.1,106.6 L 183.1,106.6 L 183.1,106.6 L 183.1,106.6 L 183.0,106.6 L 183.0,106.6 L 183.0,106.5 L 183.0,106.5 L 183.0,106.5 L 183.0,106.5 L 183.0,106.4 L 183.0,106.4 L 183.0,106.4 L 183.0,106.4 L 183.0,106.3 L 183.0,106.3 L 183.0,106.3 L 183.0,106.3 L 183.0,106.2 L 183.0,106.2 L 183.0,106.2 L 183.0,106.2 L 183.1,106.2 L 183.1,106.1 L 183.1,106.1 L 183.1,106.1 L 183.1,106.1 L 183.2,106.1 L 183.2,106.1 L 183.2,106.1 L 183.2,106.1 L 183.3,106.1 L 183.3,106.1 L 183.3,106.1 L 183.4,106.1 L 183.4,106.1 L 183.4,106.1 L 183.4,106.1 L 183.4,106.1 L 183.5,106.1 L 183.5,106.2 L 183.5,106.2 L 183.5,106.2 L 183.5,106.2 L 183.5,106.2 L 183.6,106.3 L 183.6,106.3 L 183.6,106.3 L 183.6,106.3 L 183.6,106.4 L 183.3,106.4 Z\" style=\"fill:#000000;fill-rule:evenodd;fill-opacity:1;stroke:#000000;stroke-width:0.0px;stroke-linecap:butt;stroke-linejoin:miter;stroke-opacity:1;\"/>\n",
       "</svg>"
      ],
      "text/plain": [
       "<IPython.core.display.SVG object>"
      ]
     },
     "execution_count": 39,
     "metadata": {},
     "output_type": "execute_result"
    }
   ],
   "source": [
    "big = \"{[][$1|2|]CC=CC[$1|2|], [$1]CC([<])C([<])C[$1], [>]S[$2|10|], [$2]S[$2]; [$1][H], [<][H], [>][H], [$2][H][]}|gauss(2500,500)|.|500|\"\n",
    "big_smiles_gen(big)"
   ]
  },
  {
   "cell_type": "markdown",
   "id": "c1ffe575",
   "metadata": {},
   "source": [
    "# Example stochastic polymer"
   ]
  },
  {
   "cell_type": "code",
   "execution_count": 40,
   "id": "33d353e3",
   "metadata": {},
   "outputs": [
    {
     "data": {
      "image/svg+xml": [
       "<svg xmlns=\"http://www.w3.org/2000/svg\" xmlns:rdkit=\"http://www.rdkit.org/xml\" xmlns:xlink=\"http://www.w3.org/1999/xlink\" version=\"1.1\" baseProfile=\"full\" xml:space=\"preserve\" width=\"450px\" height=\"150px\" viewBox=\"0 0 450 150\">\n",
       "<!-- END OF HEADER -->\n",
       "<rect style=\"opacity:1.0;fill:#FFFFFF;stroke:none\" width=\"450.0\" height=\"150.0\" x=\"0.0\" y=\"0.0\"> </rect>\n",
       "<path class=\"bond-0 atom-0 atom-1\" d=\"M 352.6,17.1 L 356.4,18.9\" style=\"fill:none;fill-rule:evenodd;stroke:#0000FF;stroke-width:2.0px;stroke-linecap:butt;stroke-linejoin:miter;stroke-opacity:1\"/>\n",
       "<path class=\"bond-0 atom-0 atom-1\" d=\"M 356.4,18.9 L 360.2,20.7\" style=\"fill:none;fill-rule:evenodd;stroke:#000000;stroke-width:2.0px;stroke-linecap:butt;stroke-linejoin:miter;stroke-opacity:1\"/>\n",
       "<path class=\"bond-1 atom-2 atom-3\" d=\"M 370.5,35.8 L 361.0,31.3\" style=\"fill:none;fill-rule:evenodd;stroke:#000000;stroke-width:2.0px;stroke-linecap:butt;stroke-linejoin:miter;stroke-opacity:1\"/>\n",
       "<path class=\"bond-2 atom-1 atom-3\" d=\"M 360.2,20.7 L 361.0,31.3\" style=\"fill:none;fill-rule:evenodd;stroke:#000000;stroke-width:2.0px;stroke-linecap:butt;stroke-linejoin:miter;stroke-opacity:1\"/>\n",
       "<path class=\"bond-3 atom-4 atom-5\" d=\"M 380.8,50.9 L 371.3,46.3\" style=\"fill:none;fill-rule:evenodd;stroke:#000000;stroke-width:2.0px;stroke-linecap:butt;stroke-linejoin:miter;stroke-opacity:1\"/>\n",
       "<path class=\"bond-4 atom-2 atom-5\" d=\"M 370.5,35.8 L 371.3,46.3\" style=\"fill:none;fill-rule:evenodd;stroke:#000000;stroke-width:2.0px;stroke-linecap:butt;stroke-linejoin:miter;stroke-opacity:1\"/>\n",
       "<path class=\"bond-5 atom-6 atom-7\" d=\"M 381.6,61.4 L 391.1,66.0\" style=\"fill:none;fill-rule:evenodd;stroke:#000000;stroke-width:2.0px;stroke-linecap:butt;stroke-linejoin:miter;stroke-opacity:1\"/>\n",
       "<path class=\"bond-6 atom-4 atom-6\" d=\"M 380.8,50.9 L 381.6,61.4\" style=\"fill:none;fill-rule:evenodd;stroke:#000000;stroke-width:2.0px;stroke-linecap:butt;stroke-linejoin:miter;stroke-opacity:1\"/>\n",
       "<path class=\"bond-7 atom-8 atom-9\" d=\"M 391.9,76.5 L 401.4,81.1\" style=\"fill:none;fill-rule:evenodd;stroke:#000000;stroke-width:2.0px;stroke-linecap:butt;stroke-linejoin:miter;stroke-opacity:1\"/>\n",
       "<path class=\"bond-8 atom-7 atom-8\" d=\"M 391.1,66.0 L 391.9,76.5\" style=\"fill:none;fill-rule:evenodd;stroke:#000000;stroke-width:2.0px;stroke-linecap:butt;stroke-linejoin:miter;stroke-opacity:1\"/>\n",
       "<path class=\"bond-9 atom-10 atom-11\" d=\"M 402.2,91.6 L 411.7,96.2\" style=\"fill:none;fill-rule:evenodd;stroke:#000000;stroke-width:2.0px;stroke-linecap:butt;stroke-linejoin:miter;stroke-opacity:1\"/>\n",
       "<path class=\"bond-10 atom-11 atom-12\" d=\"M 411.7,96.2 L 412.5,106.7\" style=\"fill:none;fill-rule:evenodd;stroke:#000000;stroke-width:2.0px;stroke-linecap:butt;stroke-linejoin:miter;stroke-opacity:1\"/>\n",
       "<path class=\"bond-10 atom-11 atom-12\" d=\"M 413.9,97.6 L 414.4,104.9\" style=\"fill:none;fill-rule:evenodd;stroke:#000000;stroke-width:2.0px;stroke-linecap:butt;stroke-linejoin:miter;stroke-opacity:1\"/>\n",
       "<path class=\"bond-11 atom-12 atom-13\" d=\"M 412.5,106.7 L 422.0,111.2\" style=\"fill:none;fill-rule:evenodd;stroke:#000000;stroke-width:2.0px;stroke-linecap:butt;stroke-linejoin:miter;stroke-opacity:1\"/>\n",
       "<path class=\"bond-12 atom-13 atom-14\" d=\"M 422.0,111.2 L 430.7,105.3\" style=\"fill:none;fill-rule:evenodd;stroke:#000000;stroke-width:2.0px;stroke-linecap:butt;stroke-linejoin:miter;stroke-opacity:1\"/>\n",
       "<path class=\"bond-12 atom-13 atom-14\" d=\"M 422.1,108.6 L 428.2,104.4\" style=\"fill:none;fill-rule:evenodd;stroke:#000000;stroke-width:2.0px;stroke-linecap:butt;stroke-linejoin:miter;stroke-opacity:1\"/>\n",
       "<path class=\"bond-13 atom-14 atom-15\" d=\"M 430.7,105.3 L 429.9,94.8\" style=\"fill:none;fill-rule:evenodd;stroke:#000000;stroke-width:2.0px;stroke-linecap:butt;stroke-linejoin:miter;stroke-opacity:1\"/>\n",
       "<path class=\"bond-14 atom-15 atom-16\" d=\"M 429.9,94.8 L 420.4,90.2\" style=\"fill:none;fill-rule:evenodd;stroke:#000000;stroke-width:2.0px;stroke-linecap:butt;stroke-linejoin:miter;stroke-opacity:1\"/>\n",
       "<path class=\"bond-14 atom-15 atom-16\" d=\"M 427.5,96.0 L 420.9,92.8\" style=\"fill:none;fill-rule:evenodd;stroke:#000000;stroke-width:2.0px;stroke-linecap:butt;stroke-linejoin:miter;stroke-opacity:1\"/>\n",
       "<path class=\"bond-15 atom-16 atom-11\" d=\"M 420.4,90.2 L 411.7,96.2\" style=\"fill:none;fill-rule:evenodd;stroke:#000000;stroke-width:2.0px;stroke-linecap:butt;stroke-linejoin:miter;stroke-opacity:1\"/>\n",
       "<path class=\"bond-16 atom-9 atom-10\" d=\"M 401.4,81.1 L 402.2,91.6\" style=\"fill:none;fill-rule:evenodd;stroke:#000000;stroke-width:2.0px;stroke-linecap:butt;stroke-linejoin:miter;stroke-opacity:1\"/>\n",
       "<path class=\"bond-17 atom-17 atom-18\" d=\"M 384.0,93.0 L 393.5,97.5\" style=\"fill:none;fill-rule:evenodd;stroke:#000000;stroke-width:2.0px;stroke-linecap:butt;stroke-linejoin:miter;stroke-opacity:1\"/>\n",
       "<path class=\"bond-18 atom-10 atom-18\" d=\"M 402.2,91.6 L 393.5,97.5\" style=\"fill:none;fill-rule:evenodd;stroke:#000000;stroke-width:2.0px;stroke-linecap:butt;stroke-linejoin:miter;stroke-opacity:1\"/>\n",
       "<path class=\"bond-19 atom-19 atom-20\" d=\"M 365.7,94.3 L 375.3,98.9\" style=\"fill:none;fill-rule:evenodd;stroke:#000000;stroke-width:2.0px;stroke-linecap:butt;stroke-linejoin:miter;stroke-opacity:1\"/>\n",
       "<path class=\"bond-20 atom-17 atom-20\" d=\"M 384.0,93.0 L 375.3,98.9\" style=\"fill:none;fill-rule:evenodd;stroke:#000000;stroke-width:2.0px;stroke-linecap:butt;stroke-linejoin:miter;stroke-opacity:1\"/>\n",
       "<path class=\"bond-21 atom-21 atom-22\" d=\"M 357.0,100.3 L 347.5,95.7\" style=\"fill:none;fill-rule:evenodd;stroke:#000000;stroke-width:2.0px;stroke-linecap:butt;stroke-linejoin:miter;stroke-opacity:1\"/>\n",
       "<path class=\"bond-22 atom-19 atom-21\" d=\"M 365.7,94.3 L 357.0,100.3\" style=\"fill:none;fill-rule:evenodd;stroke:#000000;stroke-width:2.0px;stroke-linecap:butt;stroke-linejoin:miter;stroke-opacity:1\"/>\n",
       "<path class=\"bond-23 atom-23 atom-24\" d=\"M 338.8,101.7 L 329.3,97.1\" style=\"fill:none;fill-rule:evenodd;stroke:#000000;stroke-width:2.0px;stroke-linecap:butt;stroke-linejoin:miter;stroke-opacity:1\"/>\n",
       "<path class=\"bond-24 atom-22 atom-23\" d=\"M 347.5,95.7 L 338.8,101.7\" style=\"fill:none;fill-rule:evenodd;stroke:#000000;stroke-width:2.0px;stroke-linecap:butt;stroke-linejoin:miter;stroke-opacity:1\"/>\n",
       "<path class=\"bond-25 atom-25 atom-26\" d=\"M 320.6,103.0 L 311.1,98.5\" style=\"fill:none;fill-rule:evenodd;stroke:#000000;stroke-width:2.0px;stroke-linecap:butt;stroke-linejoin:miter;stroke-opacity:1\"/>\n",
       "<path class=\"bond-26 atom-24 atom-25\" d=\"M 329.3,97.1 L 320.6,103.0\" style=\"fill:none;fill-rule:evenodd;stroke:#000000;stroke-width:2.0px;stroke-linecap:butt;stroke-linejoin:miter;stroke-opacity:1\"/>\n",
       "<path class=\"bond-27 atom-27 atom-28\" d=\"M 302.4,104.4 L 303.2,114.9\" style=\"fill:none;fill-rule:evenodd;stroke:#000000;stroke-width:2.0px;stroke-linecap:butt;stroke-linejoin:miter;stroke-opacity:1\"/>\n",
       "<path class=\"bond-28 atom-28 atom-29\" d=\"M 303.2,114.9 L 294.5,120.9\" style=\"fill:none;fill-rule:evenodd;stroke:#000000;stroke-width:2.0px;stroke-linecap:butt;stroke-linejoin:miter;stroke-opacity:1\"/>\n",
       "<path class=\"bond-28 atom-28 atom-29\" d=\"M 303.1,117.6 L 297.0,121.7\" style=\"fill:none;fill-rule:evenodd;stroke:#000000;stroke-width:2.0px;stroke-linecap:butt;stroke-linejoin:miter;stroke-opacity:1\"/>\n",
       "<path class=\"bond-29 atom-29 atom-30\" d=\"M 294.5,120.9 L 295.3,131.4\" style=\"fill:none;fill-rule:evenodd;stroke:#000000;stroke-width:2.0px;stroke-linecap:butt;stroke-linejoin:miter;stroke-opacity:1\"/>\n",
       "<path class=\"bond-30 atom-30 atom-31\" d=\"M 295.3,131.4 L 304.8,135.9\" style=\"fill:none;fill-rule:evenodd;stroke:#000000;stroke-width:2.0px;stroke-linecap:butt;stroke-linejoin:miter;stroke-opacity:1\"/>\n",
       "<path class=\"bond-30 atom-30 atom-31\" d=\"M 297.6,130.2 L 304.3,133.4\" style=\"fill:none;fill-rule:evenodd;stroke:#000000;stroke-width:2.0px;stroke-linecap:butt;stroke-linejoin:miter;stroke-opacity:1\"/>\n",
       "<path class=\"bond-31 atom-31 atom-32\" d=\"M 304.8,135.9 L 313.5,130.0\" style=\"fill:none;fill-rule:evenodd;stroke:#000000;stroke-width:2.0px;stroke-linecap:butt;stroke-linejoin:miter;stroke-opacity:1\"/>\n",
       "<path class=\"bond-32 atom-32 atom-33\" d=\"M 313.5,130.0 L 312.7,119.5\" style=\"fill:none;fill-rule:evenodd;stroke:#000000;stroke-width:2.0px;stroke-linecap:butt;stroke-linejoin:miter;stroke-opacity:1\"/>\n",
       "<path class=\"bond-32 atom-32 atom-33\" d=\"M 311.3,128.6 L 310.7,121.2\" style=\"fill:none;fill-rule:evenodd;stroke:#000000;stroke-width:2.0px;stroke-linecap:butt;stroke-linejoin:miter;stroke-opacity:1\"/>\n",
       "<path class=\"bond-33 atom-33 atom-28\" d=\"M 312.7,119.5 L 303.2,114.9\" style=\"fill:none;fill-rule:evenodd;stroke:#000000;stroke-width:2.0px;stroke-linecap:butt;stroke-linejoin:miter;stroke-opacity:1\"/>\n",
       "<path class=\"bond-34 atom-26 atom-27\" d=\"M 311.1,98.5 L 302.4,104.4\" style=\"fill:none;fill-rule:evenodd;stroke:#000000;stroke-width:2.0px;stroke-linecap:butt;stroke-linejoin:miter;stroke-opacity:1\"/>\n",
       "<path class=\"bond-35 atom-34 atom-35\" d=\"M 284.2,105.8 L 292.9,99.8\" style=\"fill:none;fill-rule:evenodd;stroke:#000000;stroke-width:2.0px;stroke-linecap:butt;stroke-linejoin:miter;stroke-opacity:1\"/>\n",
       "<path class=\"bond-36 atom-27 atom-35\" d=\"M 302.4,104.4 L 292.9,99.8\" style=\"fill:none;fill-rule:evenodd;stroke:#000000;stroke-width:2.0px;stroke-linecap:butt;stroke-linejoin:miter;stroke-opacity:1\"/>\n",
       "<path class=\"bond-37 atom-36 atom-37\" d=\"M 263.6,75.6 L 264.4,86.1\" style=\"fill:none;fill-rule:evenodd;stroke:#000000;stroke-width:2.0px;stroke-linecap:butt;stroke-linejoin:miter;stroke-opacity:1\"/>\n",
       "<path class=\"bond-38 atom-37 atom-38\" d=\"M 264.4,86.1 L 273.9,90.7\" style=\"fill:none;fill-rule:evenodd;stroke:#000000;stroke-width:2.0px;stroke-linecap:butt;stroke-linejoin:miter;stroke-opacity:1\"/>\n",
       "<path class=\"bond-39 atom-38 atom-39\" d=\"M 273.9,90.7 L 282.6,84.8\" style=\"fill:none;fill-rule:evenodd;stroke:#000000;stroke-width:2.0px;stroke-linecap:butt;stroke-linejoin:miter;stroke-opacity:1\"/>\n",
       "<path class=\"bond-40 atom-38 atom-40\" d=\"M 273.9,90.7 L 274.7,101.2\" style=\"fill:none;fill-rule:evenodd;stroke:#000000;stroke-width:2.0px;stroke-linecap:butt;stroke-linejoin:miter;stroke-opacity:1\"/>\n",
       "<path class=\"bond-41 atom-40 atom-41\" d=\"M 274.7,101.2 L 266.0,107.2\" style=\"fill:none;fill-rule:evenodd;stroke:#000000;stroke-width:2.0px;stroke-linecap:butt;stroke-linejoin:miter;stroke-opacity:1\"/>\n",
       "<path class=\"bond-42 atom-34 atom-40\" d=\"M 284.2,105.8 L 274.7,101.2\" style=\"fill:none;fill-rule:evenodd;stroke:#000000;stroke-width:2.0px;stroke-linecap:butt;stroke-linejoin:miter;stroke-opacity:1\"/>\n",
       "<path class=\"bond-43 atom-42 atom-43\" d=\"M 254.1,71.1 L 253.3,60.5\" style=\"fill:none;fill-rule:evenodd;stroke:#000000;stroke-width:2.0px;stroke-linecap:butt;stroke-linejoin:miter;stroke-opacity:1\"/>\n",
       "<path class=\"bond-44 atom-43 atom-44\" d=\"M 253.3,60.5 L 262.0,54.6\" style=\"fill:none;fill-rule:evenodd;stroke:#000000;stroke-width:2.0px;stroke-linecap:butt;stroke-linejoin:miter;stroke-opacity:1\"/>\n",
       "<path class=\"bond-44 atom-43 atom-44\" d=\"M 253.4,57.9 L 259.5,53.7\" style=\"fill:none;fill-rule:evenodd;stroke:#000000;stroke-width:2.0px;stroke-linecap:butt;stroke-linejoin:miter;stroke-opacity:1\"/>\n",
       "<path class=\"bond-45 atom-44 atom-45\" d=\"M 262.0,54.6 L 261.2,44.1\" style=\"fill:none;fill-rule:evenodd;stroke:#000000;stroke-width:2.0px;stroke-linecap:butt;stroke-linejoin:miter;stroke-opacity:1\"/>\n",
       "<path class=\"bond-46 atom-45 atom-46\" d=\"M 261.2,44.1 L 251.7,39.5\" style=\"fill:none;fill-rule:evenodd;stroke:#000000;stroke-width:2.0px;stroke-linecap:butt;stroke-linejoin:miter;stroke-opacity:1\"/>\n",
       "<path class=\"bond-46 atom-45 atom-46\" d=\"M 258.9,45.3 L 252.2,42.1\" style=\"fill:none;fill-rule:evenodd;stroke:#000000;stroke-width:2.0px;stroke-linecap:butt;stroke-linejoin:miter;stroke-opacity:1\"/>\n",
       "<path class=\"bond-47 atom-46 atom-47\" d=\"M 251.7,39.5 L 243.0,45.5\" style=\"fill:none;fill-rule:evenodd;stroke:#000000;stroke-width:2.0px;stroke-linecap:butt;stroke-linejoin:miter;stroke-opacity:1\"/>\n",
       "<path class=\"bond-48 atom-47 atom-48\" d=\"M 243.0,45.5 L 243.8,56.0\" style=\"fill:none;fill-rule:evenodd;stroke:#000000;stroke-width:2.0px;stroke-linecap:butt;stroke-linejoin:miter;stroke-opacity:1\"/>\n",
       "<path class=\"bond-48 atom-47 atom-48\" d=\"M 245.2,46.9 L 245.8,54.2\" style=\"fill:none;fill-rule:evenodd;stroke:#000000;stroke-width:2.0px;stroke-linecap:butt;stroke-linejoin:miter;stroke-opacity:1\"/>\n",
       "<path class=\"bond-49 atom-48 atom-43\" d=\"M 243.8,56.0 L 253.3,60.5\" style=\"fill:none;fill-rule:evenodd;stroke:#000000;stroke-width:2.0px;stroke-linecap:butt;stroke-linejoin:miter;stroke-opacity:1\"/>\n",
       "<path class=\"bond-50 atom-36 atom-42\" d=\"M 263.6,75.6 L 254.1,71.1\" style=\"fill:none;fill-rule:evenodd;stroke:#000000;stroke-width:2.0px;stroke-linecap:butt;stroke-linejoin:miter;stroke-opacity:1\"/>\n",
       "<path class=\"bond-51 atom-49 atom-50\" d=\"M 245.4,77.0 L 246.2,87.5\" style=\"fill:none;fill-rule:evenodd;stroke:#000000;stroke-width:2.0px;stroke-linecap:butt;stroke-linejoin:miter;stroke-opacity:1\"/>\n",
       "<path class=\"bond-52 atom-50 atom-51\" d=\"M 246.2,87.5 L 237.5,93.5\" style=\"fill:none;fill-rule:evenodd;stroke:#000000;stroke-width:2.0px;stroke-linecap:butt;stroke-linejoin:miter;stroke-opacity:1\"/>\n",
       "<path class=\"bond-52 atom-50 atom-51\" d=\"M 246.1,90.1 L 240.0,94.3\" style=\"fill:none;fill-rule:evenodd;stroke:#000000;stroke-width:2.0px;stroke-linecap:butt;stroke-linejoin:miter;stroke-opacity:1\"/>\n",
       "<path class=\"bond-53 atom-51 atom-52\" d=\"M 237.5,93.5 L 238.3,104.0\" style=\"fill:none;fill-rule:evenodd;stroke:#000000;stroke-width:2.0px;stroke-linecap:butt;stroke-linejoin:miter;stroke-opacity:1\"/>\n",
       "<path class=\"bond-54 atom-52 atom-53\" d=\"M 238.3,104.0 L 247.8,108.5\" style=\"fill:none;fill-rule:evenodd;stroke:#000000;stroke-width:2.0px;stroke-linecap:butt;stroke-linejoin:miter;stroke-opacity:1\"/>\n",
       "<path class=\"bond-54 atom-52 atom-53\" d=\"M 240.6,102.7 L 247.3,105.9\" style=\"fill:none;fill-rule:evenodd;stroke:#000000;stroke-width:2.0px;stroke-linecap:butt;stroke-linejoin:miter;stroke-opacity:1\"/>\n",
       "<path class=\"bond-55 atom-53 atom-54\" d=\"M 247.8,108.5 L 256.5,102.6\" style=\"fill:none;fill-rule:evenodd;stroke:#000000;stroke-width:2.0px;stroke-linecap:butt;stroke-linejoin:miter;stroke-opacity:1\"/>\n",
       "<path class=\"bond-56 atom-54 atom-55\" d=\"M 256.5,102.6 L 255.7,92.1\" style=\"fill:none;fill-rule:evenodd;stroke:#000000;stroke-width:2.0px;stroke-linecap:butt;stroke-linejoin:miter;stroke-opacity:1\"/>\n",
       "<path class=\"bond-56 atom-54 atom-55\" d=\"M 254.3,101.2 L 253.7,93.8\" style=\"fill:none;fill-rule:evenodd;stroke:#000000;stroke-width:2.0px;stroke-linecap:butt;stroke-linejoin:miter;stroke-opacity:1\"/>\n",
       "<path class=\"bond-57 atom-55 atom-50\" d=\"M 255.7,92.1 L 246.2,87.5\" style=\"fill:none;fill-rule:evenodd;stroke:#000000;stroke-width:2.0px;stroke-linecap:butt;stroke-linejoin:miter;stroke-opacity:1\"/>\n",
       "<path class=\"bond-58 atom-42 atom-49\" d=\"M 254.1,71.1 L 245.4,77.0\" style=\"fill:none;fill-rule:evenodd;stroke:#000000;stroke-width:2.0px;stroke-linecap:butt;stroke-linejoin:miter;stroke-opacity:1\"/>\n",
       "<path class=\"bond-59 atom-56 atom-57\" d=\"M 227.2,78.4 L 235.9,72.4\" style=\"fill:none;fill-rule:evenodd;stroke:#000000;stroke-width:2.0px;stroke-linecap:butt;stroke-linejoin:miter;stroke-opacity:1\"/>\n",
       "<path class=\"bond-60 atom-49 atom-57\" d=\"M 245.4,77.0 L 235.9,72.4\" style=\"fill:none;fill-rule:evenodd;stroke:#000000;stroke-width:2.0px;stroke-linecap:butt;stroke-linejoin:miter;stroke-opacity:1\"/>\n",
       "<path class=\"bond-61 atom-58 atom-59\" d=\"M 209.0,79.7 L 217.7,73.8\" style=\"fill:none;fill-rule:evenodd;stroke:#000000;stroke-width:2.0px;stroke-linecap:butt;stroke-linejoin:miter;stroke-opacity:1\"/>\n",
       "<path class=\"bond-62 atom-56 atom-59\" d=\"M 227.2,78.4 L 217.7,73.8\" style=\"fill:none;fill-rule:evenodd;stroke:#000000;stroke-width:2.0px;stroke-linecap:butt;stroke-linejoin:miter;stroke-opacity:1\"/>\n",
       "<path class=\"bond-63 atom-60 atom-61\" d=\"M 190.8,81.1 L 199.5,75.2\" style=\"fill:none;fill-rule:evenodd;stroke:#000000;stroke-width:2.0px;stroke-linecap:butt;stroke-linejoin:miter;stroke-opacity:1\"/>\n",
       "<path class=\"bond-64 atom-58 atom-61\" d=\"M 209.0,79.7 L 199.5,75.2\" style=\"fill:none;fill-rule:evenodd;stroke:#000000;stroke-width:2.0px;stroke-linecap:butt;stroke-linejoin:miter;stroke-opacity:1\"/>\n",
       "<path class=\"bond-65 atom-62 atom-63\" d=\"M 181.3,76.6 L 172.6,82.5\" style=\"fill:none;fill-rule:evenodd;stroke:#000000;stroke-width:2.0px;stroke-linecap:butt;stroke-linejoin:miter;stroke-opacity:1\"/>\n",
       "<path class=\"bond-66 atom-60 atom-62\" d=\"M 190.8,81.1 L 181.3,76.6\" style=\"fill:none;fill-rule:evenodd;stroke:#000000;stroke-width:2.0px;stroke-linecap:butt;stroke-linejoin:miter;stroke-opacity:1\"/>\n",
       "<path class=\"bond-67 atom-64 atom-65\" d=\"M 163.1,77.9 L 154.4,83.9\" style=\"fill:none;fill-rule:evenodd;stroke:#000000;stroke-width:2.0px;stroke-linecap:butt;stroke-linejoin:miter;stroke-opacity:1\"/>\n",
       "<path class=\"bond-68 atom-63 atom-64\" d=\"M 172.6,82.5 L 163.1,77.9\" style=\"fill:none;fill-rule:evenodd;stroke:#000000;stroke-width:2.0px;stroke-linecap:butt;stroke-linejoin:miter;stroke-opacity:1\"/>\n",
       "<path class=\"bond-69 atom-66 atom-67\" d=\"M 144.9,79.3 L 136.2,85.2\" style=\"fill:none;fill-rule:evenodd;stroke:#000000;stroke-width:2.0px;stroke-linecap:butt;stroke-linejoin:miter;stroke-opacity:1\"/>\n",
       "<path class=\"bond-70 atom-65 atom-66\" d=\"M 154.4,83.9 L 144.9,79.3\" style=\"fill:none;fill-rule:evenodd;stroke:#000000;stroke-width:2.0px;stroke-linecap:butt;stroke-linejoin:miter;stroke-opacity:1\"/>\n",
       "<path class=\"bond-71 atom-68 atom-69\" d=\"M 117.9,86.6 L 126.7,80.7\" style=\"fill:none;fill-rule:evenodd;stroke:#000000;stroke-width:2.0px;stroke-linecap:butt;stroke-linejoin:miter;stroke-opacity:1\"/>\n",
       "<path class=\"bond-72 atom-67 atom-69\" d=\"M 136.2,85.2 L 126.7,80.7\" style=\"fill:none;fill-rule:evenodd;stroke:#000000;stroke-width:2.0px;stroke-linecap:butt;stroke-linejoin:miter;stroke-opacity:1\"/>\n",
       "<path class=\"bond-73 atom-70 atom-71\" d=\"M 108.4,82.1 L 99.7,88.0\" style=\"fill:none;fill-rule:evenodd;stroke:#000000;stroke-width:2.0px;stroke-linecap:butt;stroke-linejoin:miter;stroke-opacity:1\"/>\n",
       "<path class=\"bond-74 atom-68 atom-70\" d=\"M 117.9,86.6 L 108.4,82.1\" style=\"fill:none;fill-rule:evenodd;stroke:#000000;stroke-width:2.0px;stroke-linecap:butt;stroke-linejoin:miter;stroke-opacity:1\"/>\n",
       "<path class=\"bond-75 atom-72 atom-73\" d=\"M 90.2,83.4 L 81.5,89.4\" style=\"fill:none;fill-rule:evenodd;stroke:#000000;stroke-width:2.0px;stroke-linecap:butt;stroke-linejoin:miter;stroke-opacity:1\"/>\n",
       "<path class=\"bond-76 atom-71 atom-72\" d=\"M 99.7,88.0 L 90.2,83.4\" style=\"fill:none;fill-rule:evenodd;stroke:#000000;stroke-width:2.0px;stroke-linecap:butt;stroke-linejoin:miter;stroke-opacity:1\"/>\n",
       "<path class=\"bond-77 atom-74 atom-75\" d=\"M 72.0,84.8 L 63.3,90.7\" style=\"fill:none;fill-rule:evenodd;stroke:#000000;stroke-width:2.0px;stroke-linecap:butt;stroke-linejoin:miter;stroke-opacity:1\"/>\n",
       "<path class=\"bond-78 atom-73 atom-74\" d=\"M 81.5,89.4 L 72.0,84.8\" style=\"fill:none;fill-rule:evenodd;stroke:#000000;stroke-width:2.0px;stroke-linecap:butt;stroke-linejoin:miter;stroke-opacity:1\"/>\n",
       "<path class=\"bond-79 atom-76 atom-77\" d=\"M 53.8,86.2 L 45.1,92.1\" style=\"fill:none;fill-rule:evenodd;stroke:#000000;stroke-width:2.0px;stroke-linecap:butt;stroke-linejoin:miter;stroke-opacity:1\"/>\n",
       "<path class=\"bond-80 atom-75 atom-76\" d=\"M 63.3,90.7 L 53.8,86.2\" style=\"fill:none;fill-rule:evenodd;stroke:#000000;stroke-width:2.0px;stroke-linecap:butt;stroke-linejoin:miter;stroke-opacity:1\"/>\n",
       "<path class=\"bond-81 atom-78 atom-79\" d=\"M 281.8,74.2 L 285.0,72.1\" style=\"fill:none;fill-rule:evenodd;stroke:#000000;stroke-width:2.0px;stroke-linecap:butt;stroke-linejoin:miter;stroke-opacity:1\"/>\n",
       "<path class=\"bond-81 atom-78 atom-79\" d=\"M 285.0,72.1 L 288.2,69.9\" style=\"fill:none;fill-rule:evenodd;stroke:#FF0000;stroke-width:2.0px;stroke-linecap:butt;stroke-linejoin:miter;stroke-opacity:1\"/>\n",
       "<path class=\"bond-82 atom-79 atom-80\" d=\"M 290.3,65.8 L 290.0,61.8\" style=\"fill:none;fill-rule:evenodd;stroke:#FF0000;stroke-width:2.0px;stroke-linecap:butt;stroke-linejoin:miter;stroke-opacity:1\"/>\n",
       "<path class=\"bond-82 atom-79 atom-80\" d=\"M 290.0,61.8 L 289.7,57.8\" style=\"fill:none;fill-rule:evenodd;stroke:#000000;stroke-width:2.0px;stroke-linecap:butt;stroke-linejoin:miter;stroke-opacity:1\"/>\n",
       "<path class=\"bond-83 atom-39 atom-78\" d=\"M 282.6,84.8 L 281.8,74.2\" style=\"fill:none;fill-rule:evenodd;stroke:#000000;stroke-width:2.0px;stroke-linecap:butt;stroke-linejoin:miter;stroke-opacity:1\"/>\n",
       "<path class=\"bond-84 atom-81 atom-82\" d=\"M 35.6,87.6 L 32.2,89.9\" style=\"fill:none;fill-rule:evenodd;stroke:#000000;stroke-width:2.0px;stroke-linecap:butt;stroke-linejoin:miter;stroke-opacity:1\"/>\n",
       "<path class=\"bond-84 atom-81 atom-82\" d=\"M 32.2,89.9 L 28.9,92.2\" style=\"fill:none;fill-rule:evenodd;stroke:#0000FF;stroke-width:2.0px;stroke-linecap:butt;stroke-linejoin:miter;stroke-opacity:1\"/>\n",
       "<path class=\"bond-85 atom-77 atom-81\" d=\"M 45.1,92.1 L 35.6,87.6\" style=\"fill:none;fill-rule:evenodd;stroke:#000000;stroke-width:2.0px;stroke-linecap:butt;stroke-linejoin:miter;stroke-opacity:1\"/>\n",
       "<path class=\"atom-0\" d=\"M 343.1 14.1 L 343.7 14.1 L 343.7 15.9 L 345.9 15.9 L 345.9 14.1 L 346.4 14.1 L 346.4 18.3 L 345.9 18.3 L 345.9 16.3 L 343.7 16.3 L 343.7 18.3 L 343.1 18.3 L 343.1 14.1 \" fill=\"#0000FF\"/>\n",
       "<path class=\"atom-0\" d=\"M 347.0 18.2 Q 347.1 17.9, 347.3 17.7 Q 347.6 17.6, 347.9 17.6 Q 348.3 17.6, 348.6 17.8 Q 348.8 18.1, 348.8 18.5 Q 348.8 18.9, 348.5 19.3 Q 348.2 19.7, 347.5 20.1 L 348.8 20.1 L 348.8 20.4 L 347.0 20.4 L 347.0 20.2 Q 347.5 19.8, 347.8 19.5 Q 348.1 19.2, 348.2 19.0 Q 348.4 18.7, 348.4 18.5 Q 348.4 18.2, 348.3 18.1 Q 348.1 17.9, 347.9 17.9 Q 347.7 17.9, 347.5 18.0 Q 347.4 18.1, 347.3 18.3 L 347.0 18.2 \" fill=\"#0000FF\"/>\n",
       "<path class=\"atom-0\" d=\"M 349.8 14.1 L 351.1 16.3 Q 351.3 16.5, 351.5 16.9 Q 351.7 17.3, 351.7 17.4 L 351.7 14.1 L 352.3 14.1 L 352.3 18.3 L 351.7 18.3 L 350.2 15.8 Q 350.1 15.6, 349.9 15.2 Q 349.7 14.9, 349.6 14.8 L 349.6 18.3 L 349.1 18.3 L 349.1 14.1 L 349.8 14.1 \" fill=\"#0000FF\"/>\n",
       "<path class=\"atom-79\" d=\"M 288.6 68.3 Q 288.6 67.3, 289.1 66.7 Q 289.6 66.2, 290.5 66.2 Q 291.5 66.2, 292.0 66.7 Q 292.5 67.3, 292.5 68.3 Q 292.5 69.3, 292.0 69.9 Q 291.5 70.5, 290.5 70.5 Q 289.6 70.5, 289.1 69.9 Q 288.6 69.3, 288.6 68.3 M 290.5 70.0 Q 291.2 70.0, 291.5 69.6 Q 291.9 69.2, 291.9 68.3 Q 291.9 67.5, 291.5 67.1 Q 291.2 66.6, 290.5 66.6 Q 289.9 66.6, 289.5 67.1 Q 289.2 67.5, 289.2 68.3 Q 289.2 69.2, 289.5 69.6 Q 289.9 70.0, 290.5 70.0 \" fill=\"#FF0000\"/>\n",
       "<path class=\"atom-82\" d=\"M 19.3 91.4 L 19.9 91.4 L 19.9 93.2 L 22.1 93.2 L 22.1 91.4 L 22.7 91.4 L 22.7 95.6 L 22.1 95.6 L 22.1 93.7 L 19.9 93.7 L 19.9 95.6 L 19.3 95.6 L 19.3 91.4 \" fill=\"#0000FF\"/>\n",
       "<path class=\"atom-82\" d=\"M 23.2 95.5 Q 23.3 95.2, 23.5 95.1 Q 23.8 94.9, 24.1 94.9 Q 24.5 94.9, 24.8 95.1 Q 25.0 95.4, 25.0 95.8 Q 25.0 96.2, 24.7 96.6 Q 24.4 97.0, 23.8 97.4 L 25.1 97.4 L 25.1 97.7 L 23.2 97.7 L 23.2 97.5 Q 23.7 97.1, 24.0 96.8 Q 24.3 96.6, 24.5 96.3 Q 24.6 96.1, 24.6 95.8 Q 24.6 95.5, 24.5 95.4 Q 24.3 95.2, 24.1 95.2 Q 23.9 95.2, 23.7 95.3 Q 23.6 95.4, 23.5 95.6 L 23.2 95.5 \" fill=\"#0000FF\"/>\n",
       "<path class=\"atom-82\" d=\"M 26.0 91.4 L 27.4 93.6 Q 27.5 93.8, 27.7 94.2 Q 27.9 94.6, 27.9 94.7 L 27.9 91.4 L 28.5 91.4 L 28.5 95.6 L 27.9 95.6 L 26.4 93.2 Q 26.3 92.9, 26.1 92.5 Q 25.9 92.2, 25.8 92.1 L 25.8 95.6 L 25.3 95.6 L 25.3 91.4 L 26.0 91.4 \" fill=\"#0000FF\"/>\n",
       "</svg>"
      ],
      "text/plain": [
       "<IPython.core.display.SVG object>"
      ]
     },
     "execution_count": 40,
     "metadata": {},
     "output_type": "execute_result"
    }
   ],
   "source": [
    "big = \"NC{[$] [$|5|]CC[$|5|],[$]C([$])c1ccccc1, [$|0.5|]CCC(C[$|0.1|])CC[$|0.5|]; [$]COC [$]}|uniform(500,1000)|CN.|500|\"\n",
    "big_smiles_gen(big)"
   ]
  },
  {
   "cell_type": "code",
   "execution_count": 41,
   "id": "950f5c7b",
   "metadata": {},
   "outputs": [
    {
     "data": {
      "image/svg+xml": [
       "<svg xmlns=\"http://www.w3.org/2000/svg\" xmlns:rdkit=\"http://www.rdkit.org/xml\" xmlns:xlink=\"http://www.w3.org/1999/xlink\" version=\"1.1\" baseProfile=\"full\" xml:space=\"preserve\" width=\"450px\" height=\"150px\" viewBox=\"0 0 450 150\">\n",
       "<!-- END OF HEADER -->\n",
       "<rect style=\"opacity:1.0;fill:#FFFFFF;stroke:none\" width=\"450.0\" height=\"150.0\" x=\"0.0\" y=\"0.0\"> </rect>\n",
       "<path class=\"bond-0 atom-0 atom-1\" d=\"M 300.9,8.6 L 303.8,10.1\" style=\"fill:none;fill-rule:evenodd;stroke:#0000FF;stroke-width:2.0px;stroke-linecap:butt;stroke-linejoin:miter;stroke-opacity:1\"/>\n",
       "<path class=\"bond-0 atom-0 atom-1\" d=\"M 303.8,10.1 L 306.7,11.6\" style=\"fill:none;fill-rule:evenodd;stroke:#000000;stroke-width:2.0px;stroke-linecap:butt;stroke-linejoin:miter;stroke-opacity:1\"/>\n",
       "<path class=\"bond-1 atom-2 atom-3\" d=\"M 314.8,24.3 L 307.1,20.3\" style=\"fill:none;fill-rule:evenodd;stroke:#000000;stroke-width:2.0px;stroke-linecap:butt;stroke-linejoin:miter;stroke-opacity:1\"/>\n",
       "<path class=\"bond-2 atom-1 atom-3\" d=\"M 306.7,11.6 L 307.1,20.3\" style=\"fill:none;fill-rule:evenodd;stroke:#000000;stroke-width:2.0px;stroke-linecap:butt;stroke-linejoin:miter;stroke-opacity:1\"/>\n",
       "<path class=\"bond-3 atom-4 atom-5\" d=\"M 315.1,33.0 L 322.8,37.0\" style=\"fill:none;fill-rule:evenodd;stroke:#000000;stroke-width:2.0px;stroke-linecap:butt;stroke-linejoin:miter;stroke-opacity:1\"/>\n",
       "<path class=\"bond-4 atom-2 atom-4\" d=\"M 314.8,24.3 L 315.1,33.0\" style=\"fill:none;fill-rule:evenodd;stroke:#000000;stroke-width:2.0px;stroke-linecap:butt;stroke-linejoin:miter;stroke-opacity:1\"/>\n",
       "<path class=\"bond-5 atom-6 atom-7\" d=\"M 323.2,45.7 L 330.9,49.7\" style=\"fill:none;fill-rule:evenodd;stroke:#000000;stroke-width:2.0px;stroke-linecap:butt;stroke-linejoin:miter;stroke-opacity:1\"/>\n",
       "<path class=\"bond-6 atom-7 atom-8\" d=\"M 330.9,49.7 L 331.3,58.4\" style=\"fill:none;fill-rule:evenodd;stroke:#000000;stroke-width:2.0px;stroke-linecap:butt;stroke-linejoin:miter;stroke-opacity:1\"/>\n",
       "<path class=\"bond-6 atom-7 atom-8\" d=\"M 332.7,50.9 L 333.0,57.0\" style=\"fill:none;fill-rule:evenodd;stroke:#000000;stroke-width:2.0px;stroke-linecap:butt;stroke-linejoin:miter;stroke-opacity:1\"/>\n",
       "<path class=\"bond-7 atom-8 atom-9\" d=\"M 331.3,58.4 L 339.0,62.4\" style=\"fill:none;fill-rule:evenodd;stroke:#000000;stroke-width:2.0px;stroke-linecap:butt;stroke-linejoin:miter;stroke-opacity:1\"/>\n",
       "<path class=\"bond-8 atom-9 atom-10\" d=\"M 339.0,62.4 L 346.3,57.7\" style=\"fill:none;fill-rule:evenodd;stroke:#000000;stroke-width:2.0px;stroke-linecap:butt;stroke-linejoin:miter;stroke-opacity:1\"/>\n",
       "<path class=\"bond-8 atom-9 atom-10\" d=\"M 339.1,60.2 L 344.3,57.0\" style=\"fill:none;fill-rule:evenodd;stroke:#000000;stroke-width:2.0px;stroke-linecap:butt;stroke-linejoin:miter;stroke-opacity:1\"/>\n",
       "<path class=\"bond-9 atom-10 atom-11\" d=\"M 346.3,57.7 L 345.9,49.0\" style=\"fill:none;fill-rule:evenodd;stroke:#000000;stroke-width:2.0px;stroke-linecap:butt;stroke-linejoin:miter;stroke-opacity:1\"/>\n",
       "<path class=\"bond-10 atom-11 atom-12\" d=\"M 345.9,49.0 L 338.2,45.0\" style=\"fill:none;fill-rule:evenodd;stroke:#000000;stroke-width:2.0px;stroke-linecap:butt;stroke-linejoin:miter;stroke-opacity:1\"/>\n",
       "<path class=\"bond-10 atom-11 atom-12\" d=\"M 344.0,50.0 L 338.6,47.2\" style=\"fill:none;fill-rule:evenodd;stroke:#000000;stroke-width:2.0px;stroke-linecap:butt;stroke-linejoin:miter;stroke-opacity:1\"/>\n",
       "<path class=\"bond-11 atom-12 atom-7\" d=\"M 338.2,45.0 L 330.9,49.7\" style=\"fill:none;fill-rule:evenodd;stroke:#000000;stroke-width:2.0px;stroke-linecap:butt;stroke-linejoin:miter;stroke-opacity:1\"/>\n",
       "<path class=\"bond-12 atom-5 atom-6\" d=\"M 322.8,37.0 L 323.2,45.7\" style=\"fill:none;fill-rule:evenodd;stroke:#000000;stroke-width:2.0px;stroke-linecap:butt;stroke-linejoin:miter;stroke-opacity:1\"/>\n",
       "<path class=\"bond-13 atom-13 atom-14\" d=\"M 315.9,50.3 L 308.2,46.3\" style=\"fill:none;fill-rule:evenodd;stroke:#000000;stroke-width:2.0px;stroke-linecap:butt;stroke-linejoin:miter;stroke-opacity:1\"/>\n",
       "<path class=\"bond-14 atom-6 atom-13\" d=\"M 323.2,45.7 L 315.9,50.3\" style=\"fill:none;fill-rule:evenodd;stroke:#000000;stroke-width:2.0px;stroke-linecap:butt;stroke-linejoin:miter;stroke-opacity:1\"/>\n",
       "<path class=\"bond-15 atom-15 atom-16\" d=\"M 300.9,51.0 L 293.2,47.0\" style=\"fill:none;fill-rule:evenodd;stroke:#000000;stroke-width:2.0px;stroke-linecap:butt;stroke-linejoin:miter;stroke-opacity:1\"/>\n",
       "<path class=\"bond-16 atom-14 atom-15\" d=\"M 308.2,46.3 L 300.9,51.0\" style=\"fill:none;fill-rule:evenodd;stroke:#000000;stroke-width:2.0px;stroke-linecap:butt;stroke-linejoin:miter;stroke-opacity:1\"/>\n",
       "<path class=\"bond-17 atom-17 atom-18\" d=\"M 278.1,47.6 L 285.8,51.6\" style=\"fill:none;fill-rule:evenodd;stroke:#000000;stroke-width:2.0px;stroke-linecap:butt;stroke-linejoin:miter;stroke-opacity:1\"/>\n",
       "<path class=\"bond-18 atom-16 atom-18\" d=\"M 293.2,47.0 L 285.8,51.6\" style=\"fill:none;fill-rule:evenodd;stroke:#000000;stroke-width:2.0px;stroke-linecap:butt;stroke-linejoin:miter;stroke-opacity:1\"/>\n",
       "<path class=\"bond-19 atom-19 atom-20\" d=\"M 270.8,52.3 L 263.1,48.2\" style=\"fill:none;fill-rule:evenodd;stroke:#000000;stroke-width:2.0px;stroke-linecap:butt;stroke-linejoin:miter;stroke-opacity:1\"/>\n",
       "<path class=\"bond-20 atom-17 atom-19\" d=\"M 278.1,47.6 L 270.8,52.3\" style=\"fill:none;fill-rule:evenodd;stroke:#000000;stroke-width:2.0px;stroke-linecap:butt;stroke-linejoin:miter;stroke-opacity:1\"/>\n",
       "<path class=\"bond-21 atom-21 atom-22\" d=\"M 255.8,52.9 L 248.1,48.9\" style=\"fill:none;fill-rule:evenodd;stroke:#000000;stroke-width:2.0px;stroke-linecap:butt;stroke-linejoin:miter;stroke-opacity:1\"/>\n",
       "<path class=\"bond-22 atom-20 atom-21\" d=\"M 263.1,48.2 L 255.8,52.9\" style=\"fill:none;fill-rule:evenodd;stroke:#000000;stroke-width:2.0px;stroke-linecap:butt;stroke-linejoin:miter;stroke-opacity:1\"/>\n",
       "<path class=\"bond-23 atom-23 atom-24\" d=\"M 233.1,49.5 L 240.8,53.5\" style=\"fill:none;fill-rule:evenodd;stroke:#000000;stroke-width:2.0px;stroke-linecap:butt;stroke-linejoin:miter;stroke-opacity:1\"/>\n",
       "<path class=\"bond-24 atom-22 atom-24\" d=\"M 248.1,48.9 L 240.8,53.5\" style=\"fill:none;fill-rule:evenodd;stroke:#000000;stroke-width:2.0px;stroke-linecap:butt;stroke-linejoin:miter;stroke-opacity:1\"/>\n",
       "<path class=\"bond-25 atom-25 atom-26\" d=\"M 225.7,54.2 L 218.0,50.2\" style=\"fill:none;fill-rule:evenodd;stroke:#000000;stroke-width:2.0px;stroke-linecap:butt;stroke-linejoin:miter;stroke-opacity:1\"/>\n",
       "<path class=\"bond-26 atom-23 atom-25\" d=\"M 233.1,49.5 L 225.7,54.2\" style=\"fill:none;fill-rule:evenodd;stroke:#000000;stroke-width:2.0px;stroke-linecap:butt;stroke-linejoin:miter;stroke-opacity:1\"/>\n",
       "<path class=\"bond-27 atom-27 atom-28\" d=\"M 210.7,54.8 L 203.0,50.8\" style=\"fill:none;fill-rule:evenodd;stroke:#000000;stroke-width:2.0px;stroke-linecap:butt;stroke-linejoin:miter;stroke-opacity:1\"/>\n",
       "<path class=\"bond-28 atom-28 atom-29\" d=\"M 203.0,50.8 L 195.7,55.5\" style=\"fill:none;fill-rule:evenodd;stroke:#000000;stroke-width:2.0px;stroke-linecap:butt;stroke-linejoin:miter;stroke-opacity:1\"/>\n",
       "<path class=\"bond-29 atom-29 atom-30\" d=\"M 195.7,55.5 L 188.0,51.4\" style=\"fill:none;fill-rule:evenodd;stroke:#000000;stroke-width:2.0px;stroke-linecap:butt;stroke-linejoin:miter;stroke-opacity:1\"/>\n",
       "<path class=\"bond-30 atom-29 atom-31\" d=\"M 195.7,55.5 L 196.1,64.1\" style=\"fill:none;fill-rule:evenodd;stroke:#000000;stroke-width:2.0px;stroke-linecap:butt;stroke-linejoin:miter;stroke-opacity:1\"/>\n",
       "<path class=\"bond-31 atom-31 atom-32\" d=\"M 196.1,64.1 L 188.7,68.8\" style=\"fill:none;fill-rule:evenodd;stroke:#000000;stroke-width:2.0px;stroke-linecap:butt;stroke-linejoin:miter;stroke-opacity:1\"/>\n",
       "<path class=\"bond-32 atom-26 atom-27\" d=\"M 218.0,50.2 L 210.7,54.8\" style=\"fill:none;fill-rule:evenodd;stroke:#000000;stroke-width:2.0px;stroke-linecap:butt;stroke-linejoin:miter;stroke-opacity:1\"/>\n",
       "<path class=\"bond-33 atom-33 atom-34\" d=\"M 180.7,56.1 L 173.0,52.1\" style=\"fill:none;fill-rule:evenodd;stroke:#000000;stroke-width:2.0px;stroke-linecap:butt;stroke-linejoin:miter;stroke-opacity:1\"/>\n",
       "<path class=\"bond-34 atom-30 atom-33\" d=\"M 188.0,51.4 L 180.7,56.1\" style=\"fill:none;fill-rule:evenodd;stroke:#000000;stroke-width:2.0px;stroke-linecap:butt;stroke-linejoin:miter;stroke-opacity:1\"/>\n",
       "<path class=\"bond-35 atom-35 atom-36\" d=\"M 203.8,68.1 L 204.1,76.8\" style=\"fill:none;fill-rule:evenodd;stroke:#000000;stroke-width:2.0px;stroke-linecap:butt;stroke-linejoin:miter;stroke-opacity:1\"/>\n",
       "<path class=\"bond-36 atom-31 atom-35\" d=\"M 196.1,64.1 L 203.8,68.1\" style=\"fill:none;fill-rule:evenodd;stroke:#000000;stroke-width:2.0px;stroke-linecap:butt;stroke-linejoin:miter;stroke-opacity:1\"/>\n",
       "<path class=\"bond-37 atom-37 atom-38\" d=\"M 211.8,80.8 L 212.2,89.5\" style=\"fill:none;fill-rule:evenodd;stroke:#000000;stroke-width:2.0px;stroke-linecap:butt;stroke-linejoin:miter;stroke-opacity:1\"/>\n",
       "<path class=\"bond-38 atom-36 atom-37\" d=\"M 204.1,76.8 L 211.8,80.8\" style=\"fill:none;fill-rule:evenodd;stroke:#000000;stroke-width:2.0px;stroke-linecap:butt;stroke-linejoin:miter;stroke-opacity:1\"/>\n",
       "<path class=\"bond-39 atom-39 atom-40\" d=\"M 220.3,102.2 L 219.9,93.5\" style=\"fill:none;fill-rule:evenodd;stroke:#000000;stroke-width:2.0px;stroke-linecap:butt;stroke-linejoin:miter;stroke-opacity:1\"/>\n",
       "<path class=\"bond-40 atom-38 atom-40\" d=\"M 212.2,89.5 L 219.9,93.5\" style=\"fill:none;fill-rule:evenodd;stroke:#000000;stroke-width:2.0px;stroke-linecap:butt;stroke-linejoin:miter;stroke-opacity:1\"/>\n",
       "<path class=\"bond-41 atom-41 atom-42\" d=\"M 228.0,106.2 L 228.3,114.9\" style=\"fill:none;fill-rule:evenodd;stroke:#000000;stroke-width:2.0px;stroke-linecap:butt;stroke-linejoin:miter;stroke-opacity:1\"/>\n",
       "<path class=\"bond-42 atom-39 atom-41\" d=\"M 220.3,102.2 L 228.0,106.2\" style=\"fill:none;fill-rule:evenodd;stroke:#000000;stroke-width:2.0px;stroke-linecap:butt;stroke-linejoin:miter;stroke-opacity:1\"/>\n",
       "<path class=\"bond-43 atom-43 atom-44\" d=\"M 236.4,127.6 L 236.0,118.9\" style=\"fill:none;fill-rule:evenodd;stroke:#000000;stroke-width:2.0px;stroke-linecap:butt;stroke-linejoin:miter;stroke-opacity:1\"/>\n",
       "<path class=\"bond-44 atom-42 atom-44\" d=\"M 228.3,114.9 L 236.0,118.9\" style=\"fill:none;fill-rule:evenodd;stroke:#000000;stroke-width:2.0px;stroke-linecap:butt;stroke-linejoin:miter;stroke-opacity:1\"/>\n",
       "<path class=\"bond-45 atom-45 atom-46\" d=\"M 165.6,56.7 L 166.0,65.4\" style=\"fill:none;fill-rule:evenodd;stroke:#000000;stroke-width:2.0px;stroke-linecap:butt;stroke-linejoin:miter;stroke-opacity:1\"/>\n",
       "<path class=\"bond-46 atom-46 atom-47\" d=\"M 166.0,65.4 L 158.7,70.1\" style=\"fill:none;fill-rule:evenodd;stroke:#000000;stroke-width:2.0px;stroke-linecap:butt;stroke-linejoin:miter;stroke-opacity:1\"/>\n",
       "<path class=\"bond-46 atom-46 atom-47\" d=\"M 165.8,67.6 L 160.7,70.8\" style=\"fill:none;fill-rule:evenodd;stroke:#000000;stroke-width:2.0px;stroke-linecap:butt;stroke-linejoin:miter;stroke-opacity:1\"/>\n",
       "<path class=\"bond-47 atom-47 atom-48\" d=\"M 158.7,70.1 L 159.1,78.7\" style=\"fill:none;fill-rule:evenodd;stroke:#000000;stroke-width:2.0px;stroke-linecap:butt;stroke-linejoin:miter;stroke-opacity:1\"/>\n",
       "<path class=\"bond-48 atom-48 atom-49\" d=\"M 159.1,78.7 L 166.8,82.8\" style=\"fill:none;fill-rule:evenodd;stroke:#000000;stroke-width:2.0px;stroke-linecap:butt;stroke-linejoin:miter;stroke-opacity:1\"/>\n",
       "<path class=\"bond-48 atom-48 atom-49\" d=\"M 161.0,77.8 L 166.4,80.6\" style=\"fill:none;fill-rule:evenodd;stroke:#000000;stroke-width:2.0px;stroke-linecap:butt;stroke-linejoin:miter;stroke-opacity:1\"/>\n",
       "<path class=\"bond-49 atom-49 atom-50\" d=\"M 166.8,82.8 L 174.1,78.1\" style=\"fill:none;fill-rule:evenodd;stroke:#000000;stroke-width:2.0px;stroke-linecap:butt;stroke-linejoin:miter;stroke-opacity:1\"/>\n",
       "<path class=\"bond-50 atom-50 atom-51\" d=\"M 174.1,78.1 L 173.7,69.4\" style=\"fill:none;fill-rule:evenodd;stroke:#000000;stroke-width:2.0px;stroke-linecap:butt;stroke-linejoin:miter;stroke-opacity:1\"/>\n",
       "<path class=\"bond-50 atom-50 atom-51\" d=\"M 172.3,76.9 L 172.0,70.8\" style=\"fill:none;fill-rule:evenodd;stroke:#000000;stroke-width:2.0px;stroke-linecap:butt;stroke-linejoin:miter;stroke-opacity:1\"/>\n",
       "<path class=\"bond-51 atom-51 atom-46\" d=\"M 173.7,69.4 L 166.0,65.4\" style=\"fill:none;fill-rule:evenodd;stroke:#000000;stroke-width:2.0px;stroke-linecap:butt;stroke-linejoin:miter;stroke-opacity:1\"/>\n",
       "<path class=\"bond-52 atom-34 atom-45\" d=\"M 173.0,52.1 L 165.6,56.7\" style=\"fill:none;fill-rule:evenodd;stroke:#000000;stroke-width:2.0px;stroke-linecap:butt;stroke-linejoin:miter;stroke-opacity:1\"/>\n",
       "<path class=\"bond-53 atom-52 atom-53\" d=\"M 157.9,52.7 L 150.6,57.4\" style=\"fill:none;fill-rule:evenodd;stroke:#000000;stroke-width:2.0px;stroke-linecap:butt;stroke-linejoin:miter;stroke-opacity:1\"/>\n",
       "<path class=\"bond-54 atom-45 atom-52\" d=\"M 165.6,56.7 L 157.9,52.7\" style=\"fill:none;fill-rule:evenodd;stroke:#000000;stroke-width:2.0px;stroke-linecap:butt;stroke-linejoin:miter;stroke-opacity:1\"/>\n",
       "<path class=\"bond-55 atom-54 atom-55\" d=\"M 135.6,58.0 L 142.9,53.4\" style=\"fill:none;fill-rule:evenodd;stroke:#000000;stroke-width:2.0px;stroke-linecap:butt;stroke-linejoin:miter;stroke-opacity:1\"/>\n",
       "<path class=\"bond-56 atom-53 atom-55\" d=\"M 150.6,57.4 L 142.9,53.4\" style=\"fill:none;fill-rule:evenodd;stroke:#000000;stroke-width:2.0px;stroke-linecap:butt;stroke-linejoin:miter;stroke-opacity:1\"/>\n",
       "<path class=\"bond-57 atom-56 atom-57\" d=\"M 119.5,32.6 L 119.8,41.3\" style=\"fill:none;fill-rule:evenodd;stroke:#000000;stroke-width:2.0px;stroke-linecap:butt;stroke-linejoin:miter;stroke-opacity:1\"/>\n",
       "<path class=\"bond-58 atom-57 atom-58\" d=\"M 119.8,41.3 L 127.5,45.3\" style=\"fill:none;fill-rule:evenodd;stroke:#000000;stroke-width:2.0px;stroke-linecap:butt;stroke-linejoin:miter;stroke-opacity:1\"/>\n",
       "<path class=\"bond-59 atom-58 atom-59\" d=\"M 127.5,45.3 L 134.9,40.7\" style=\"fill:none;fill-rule:evenodd;stroke:#000000;stroke-width:2.0px;stroke-linecap:butt;stroke-linejoin:miter;stroke-opacity:1\"/>\n",
       "<path class=\"bond-60 atom-58 atom-60\" d=\"M 127.5,45.3 L 127.9,54.0\" style=\"fill:none;fill-rule:evenodd;stroke:#000000;stroke-width:2.0px;stroke-linecap:butt;stroke-linejoin:miter;stroke-opacity:1\"/>\n",
       "<path class=\"bond-61 atom-60 atom-61\" d=\"M 127.9,54.0 L 120.6,58.7\" style=\"fill:none;fill-rule:evenodd;stroke:#000000;stroke-width:2.0px;stroke-linecap:butt;stroke-linejoin:miter;stroke-opacity:1\"/>\n",
       "<path class=\"bond-62 atom-54 atom-60\" d=\"M 135.6,58.0 L 127.9,54.0\" style=\"fill:none;fill-rule:evenodd;stroke:#000000;stroke-width:2.0px;stroke-linecap:butt;stroke-linejoin:miter;stroke-opacity:1\"/>\n",
       "<path class=\"bond-63 atom-62 atom-63\" d=\"M 111.8,28.6 L 111.6,25.5\" style=\"fill:none;fill-rule:evenodd;stroke:#000000;stroke-width:2.0px;stroke-linecap:butt;stroke-linejoin:miter;stroke-opacity:1\"/>\n",
       "<path class=\"bond-63 atom-62 atom-63\" d=\"M 111.6,25.5 L 111.5,22.4\" style=\"fill:none;fill-rule:evenodd;stroke:#FF0000;stroke-width:2.0px;stroke-linecap:butt;stroke-linejoin:miter;stroke-opacity:1\"/>\n",
       "<path class=\"bond-64 atom-63 atom-64\" d=\"M 109.2,18.8 L 106.4,17.4\" style=\"fill:none;fill-rule:evenodd;stroke:#FF0000;stroke-width:2.0px;stroke-linecap:butt;stroke-linejoin:miter;stroke-opacity:1\"/>\n",
       "<path class=\"bond-64 atom-63 atom-64\" d=\"M 106.4,17.4 L 103.7,15.9\" style=\"fill:none;fill-rule:evenodd;stroke:#000000;stroke-width:2.0px;stroke-linecap:butt;stroke-linejoin:miter;stroke-opacity:1\"/>\n",
       "<path class=\"bond-65 atom-56 atom-62\" d=\"M 119.5,32.6 L 111.8,28.6\" style=\"fill:none;fill-rule:evenodd;stroke:#000000;stroke-width:2.0px;stroke-linecap:butt;stroke-linejoin:miter;stroke-opacity:1\"/>\n",
       "<path class=\"bond-66 atom-65 atom-66\" d=\"M 134.5,32.0 L 137.0,30.4\" style=\"fill:none;fill-rule:evenodd;stroke:#000000;stroke-width:2.0px;stroke-linecap:butt;stroke-linejoin:miter;stroke-opacity:1\"/>\n",
       "<path class=\"bond-66 atom-65 atom-66\" d=\"M 137.0,30.4 L 139.6,28.8\" style=\"fill:none;fill-rule:evenodd;stroke:#FF0000;stroke-width:2.0px;stroke-linecap:butt;stroke-linejoin:miter;stroke-opacity:1\"/>\n",
       "<path class=\"bond-67 atom-66 atom-67\" d=\"M 141.7,24.9 L 141.6,21.8\" style=\"fill:none;fill-rule:evenodd;stroke:#FF0000;stroke-width:2.0px;stroke-linecap:butt;stroke-linejoin:miter;stroke-opacity:1\"/>\n",
       "<path class=\"bond-67 atom-66 atom-67\" d=\"M 141.6,21.8 L 141.4,18.7\" style=\"fill:none;fill-rule:evenodd;stroke:#000000;stroke-width:2.0px;stroke-linecap:butt;stroke-linejoin:miter;stroke-opacity:1\"/>\n",
       "<path class=\"bond-68 atom-59 atom-65\" d=\"M 134.9,40.7 L 134.5,32.0\" style=\"fill:none;fill-rule:evenodd;stroke:#000000;stroke-width:2.0px;stroke-linecap:butt;stroke-linejoin:miter;stroke-opacity:1\"/>\n",
       "<path class=\"bond-69 atom-68 atom-69\" d=\"M 244.1,131.6 L 244.2,134.7\" style=\"fill:none;fill-rule:evenodd;stroke:#000000;stroke-width:2.0px;stroke-linecap:butt;stroke-linejoin:miter;stroke-opacity:1\"/>\n",
       "<path class=\"bond-69 atom-68 atom-69\" d=\"M 244.2,134.7 L 244.4,137.9\" style=\"fill:none;fill-rule:evenodd;stroke:#0000FF;stroke-width:2.0px;stroke-linecap:butt;stroke-linejoin:miter;stroke-opacity:1\"/>\n",
       "<path class=\"bond-70 atom-43 atom-68\" d=\"M 236.4,127.6 L 244.1,131.6\" style=\"fill:none;fill-rule:evenodd;stroke:#000000;stroke-width:2.0px;stroke-linecap:butt;stroke-linejoin:miter;stroke-opacity:1\"/>\n",
       "<path class=\"atom-0\" d=\"M 291.4 5.5 L 292.0 5.5 L 292.0 7.3 L 294.2 7.3 L 294.2 5.5 L 294.8 5.5 L 294.8 9.7 L 294.2 9.7 L 294.2 7.8 L 292.0 7.8 L 292.0 9.7 L 291.4 9.7 L 291.4 5.5 \" fill=\"#0000FF\"/>\n",
       "<path class=\"atom-0\" d=\"M 295.3 9.6 Q 295.4 9.3, 295.6 9.2 Q 295.9 9.0, 296.2 9.0 Q 296.6 9.0, 296.9 9.2 Q 297.1 9.5, 297.1 9.9 Q 297.1 10.3, 296.8 10.7 Q 296.5 11.1, 295.9 11.5 L 297.2 11.5 L 297.2 11.8 L 295.3 11.8 L 295.3 11.6 Q 295.8 11.2, 296.1 10.9 Q 296.4 10.7, 296.6 10.4 Q 296.7 10.2, 296.7 9.9 Q 296.7 9.6, 296.6 9.5 Q 296.4 9.3, 296.2 9.3 Q 296.0 9.3, 295.8 9.4 Q 295.7 9.5, 295.6 9.7 L 295.3 9.6 \" fill=\"#0000FF\"/>\n",
       "<path class=\"atom-0\" d=\"M 298.1 5.5 L 299.5 7.7 Q 299.6 7.9, 299.8 8.4 Q 300.0 8.8, 300.1 8.8 L 300.1 5.5 L 300.6 5.5 L 300.6 9.7 L 300.0 9.7 L 298.5 7.3 Q 298.4 7.0, 298.2 6.6 Q 298.0 6.3, 298.0 6.2 L 298.0 9.7 L 297.4 9.7 L 297.4 5.5 L 298.1 5.5 \" fill=\"#0000FF\"/>\n",
       "<path class=\"atom-63\" d=\"M 109.4 20.0 Q 109.4 18.9, 109.9 18.4 Q 110.5 17.8, 111.4 17.8 Q 112.3 17.8, 112.8 18.4 Q 113.3 18.9, 113.3 20.0 Q 113.3 21.0, 112.8 21.6 Q 112.3 22.2, 111.4 22.2 Q 110.5 22.2, 109.9 21.6 Q 109.4 21.0, 109.4 20.0 M 111.4 21.7 Q 112.0 21.7, 112.4 21.2 Q 112.7 20.8, 112.7 20.0 Q 112.7 19.1, 112.4 18.7 Q 112.0 18.3, 111.4 18.3 Q 110.7 18.3, 110.4 18.7 Q 110.0 19.1, 110.0 20.0 Q 110.0 20.8, 110.4 21.2 Q 110.7 21.7, 111.4 21.7 \" fill=\"#FF0000\"/>\n",
       "<path class=\"atom-66\" d=\"M 139.9 27.4 Q 139.9 26.3, 140.4 25.8 Q 140.9 25.2, 141.8 25.2 Q 142.8 25.2, 143.3 25.8 Q 143.8 26.3, 143.8 27.4 Q 143.8 28.4, 143.3 29.0 Q 142.7 29.6, 141.8 29.6 Q 140.9 29.6, 140.4 29.0 Q 139.9 28.4, 139.9 27.4 M 141.8 29.1 Q 142.5 29.1, 142.8 28.6 Q 143.2 28.2, 143.2 27.4 Q 143.2 26.5, 142.8 26.1 Q 142.5 25.7, 141.8 25.7 Q 141.2 25.7, 140.8 26.1 Q 140.5 26.5, 140.5 27.4 Q 140.5 28.2, 140.8 28.6 Q 141.2 29.1, 141.8 29.1 \" fill=\"#FF0000\"/>\n",
       "<path class=\"atom-69\" d=\"M 243.5 138.2 L 244.9 140.4 Q 245.1 140.6, 245.3 141.0 Q 245.5 141.4, 245.5 141.5 L 245.5 138.2 L 246.1 138.2 L 246.1 142.4 L 245.5 142.4 L 244.0 139.9 Q 243.8 139.7, 243.6 139.3 Q 243.5 139.0, 243.4 138.9 L 243.4 142.4 L 242.9 142.4 L 242.9 138.2 L 243.5 138.2 \" fill=\"#0000FF\"/>\n",
       "<path class=\"atom-69\" d=\"M 246.6 138.2 L 247.1 138.2 L 247.1 140.0 L 249.3 140.0 L 249.3 138.2 L 249.9 138.2 L 249.9 142.4 L 249.3 142.4 L 249.3 140.4 L 247.1 140.4 L 247.1 142.4 L 246.6 142.4 L 246.6 138.2 \" fill=\"#0000FF\"/>\n",
       "<path class=\"atom-69\" d=\"M 250.4 142.3 Q 250.5 142.0, 250.8 141.8 Q 251.0 141.7, 251.3 141.7 Q 251.8 141.7, 252.0 141.9 Q 252.2 142.1, 252.2 142.6 Q 252.2 143.0, 251.9 143.4 Q 251.6 143.7, 251.0 144.2 L 252.3 144.2 L 252.3 144.5 L 250.4 144.5 L 250.4 144.3 Q 250.9 143.9, 251.2 143.6 Q 251.6 143.3, 251.7 143.1 Q 251.9 142.8, 251.9 142.6 Q 251.9 142.3, 251.7 142.2 Q 251.6 142.0, 251.3 142.0 Q 251.1 142.0, 251.0 142.1 Q 250.8 142.2, 250.7 142.4 L 250.4 142.3 \" fill=\"#0000FF\"/>\n",
       "</svg>"
      ],
      "text/plain": [
       "<IPython.core.display.SVG object>"
      ]
     },
     "execution_count": 41,
     "metadata": {},
     "output_type": "execute_result"
    }
   ],
   "source": [
    "big_smiles_gen(big)"
   ]
  },
  {
   "cell_type": "code",
   "execution_count": 42,
   "id": "fb8d61a0",
   "metadata": {},
   "outputs": [
    {
     "data": {
      "image/svg+xml": [
       "<svg xmlns=\"http://www.w3.org/2000/svg\" xmlns:rdkit=\"http://www.rdkit.org/xml\" xmlns:xlink=\"http://www.w3.org/1999/xlink\" version=\"1.1\" baseProfile=\"full\" xml:space=\"preserve\" width=\"450px\" height=\"150px\" viewBox=\"0 0 450 150\">\n",
       "<!-- END OF HEADER -->\n",
       "<rect style=\"opacity:1.0;fill:#FFFFFF;stroke:none\" width=\"450.0\" height=\"150.0\" x=\"0.0\" y=\"0.0\"> </rect>\n",
       "<path class=\"bond-0 atom-0 atom-1\" d=\"M 421.1,98.3 L 417.1,99.0\" style=\"fill:none;fill-rule:evenodd;stroke:#0000FF;stroke-width:2.0px;stroke-linecap:butt;stroke-linejoin:miter;stroke-opacity:1\"/>\n",
       "<path class=\"bond-0 atom-0 atom-1\" d=\"M 417.1,99.0 L 413.2,99.8\" style=\"fill:none;fill-rule:evenodd;stroke:#000000;stroke-width:2.0px;stroke-linecap:butt;stroke-linejoin:miter;stroke-opacity:1\"/>\n",
       "<path class=\"bond-1 atom-2 atom-3\" d=\"M 406.6,92.1 L 396.8,94.0\" style=\"fill:none;fill-rule:evenodd;stroke:#000000;stroke-width:2.0px;stroke-linecap:butt;stroke-linejoin:miter;stroke-opacity:1\"/>\n",
       "<path class=\"bond-2 atom-1 atom-2\" d=\"M 413.2,99.8 L 406.6,92.1\" style=\"fill:none;fill-rule:evenodd;stroke:#000000;stroke-width:2.0px;stroke-linecap:butt;stroke-linejoin:miter;stroke-opacity:1\"/>\n",
       "<path class=\"bond-3 atom-4 atom-5\" d=\"M 390.3,86.3 L 380.4,88.2\" style=\"fill:none;fill-rule:evenodd;stroke:#000000;stroke-width:2.0px;stroke-linecap:butt;stroke-linejoin:miter;stroke-opacity:1\"/>\n",
       "<path class=\"bond-4 atom-3 atom-4\" d=\"M 396.8,94.0 L 390.3,86.3\" style=\"fill:none;fill-rule:evenodd;stroke:#000000;stroke-width:2.0px;stroke-linecap:butt;stroke-linejoin:miter;stroke-opacity:1\"/>\n",
       "<path class=\"bond-5 atom-6 atom-7\" d=\"M 373.9,80.5 L 364.0,82.4\" style=\"fill:none;fill-rule:evenodd;stroke:#000000;stroke-width:2.0px;stroke-linecap:butt;stroke-linejoin:miter;stroke-opacity:1\"/>\n",
       "<path class=\"bond-6 atom-5 atom-6\" d=\"M 380.4,88.2 L 373.9,80.5\" style=\"fill:none;fill-rule:evenodd;stroke:#000000;stroke-width:2.0px;stroke-linecap:butt;stroke-linejoin:miter;stroke-opacity:1\"/>\n",
       "<path class=\"bond-7 atom-8 atom-9\" d=\"M 347.7,76.6 L 357.5,74.7\" style=\"fill:none;fill-rule:evenodd;stroke:#000000;stroke-width:2.0px;stroke-linecap:butt;stroke-linejoin:miter;stroke-opacity:1\"/>\n",
       "<path class=\"bond-8 atom-7 atom-9\" d=\"M 364.0,82.4 L 357.5,74.7\" style=\"fill:none;fill-rule:evenodd;stroke:#000000;stroke-width:2.0px;stroke-linecap:butt;stroke-linejoin:miter;stroke-opacity:1\"/>\n",
       "<path class=\"bond-9 atom-10 atom-11\" d=\"M 341.2,68.9 L 331.3,70.8\" style=\"fill:none;fill-rule:evenodd;stroke:#000000;stroke-width:2.0px;stroke-linecap:butt;stroke-linejoin:miter;stroke-opacity:1\"/>\n",
       "<path class=\"bond-10 atom-8 atom-10\" d=\"M 347.7,76.6 L 341.2,68.9\" style=\"fill:none;fill-rule:evenodd;stroke:#000000;stroke-width:2.0px;stroke-linecap:butt;stroke-linejoin:miter;stroke-opacity:1\"/>\n",
       "<path class=\"bond-11 atom-12 atom-13\" d=\"M 314.9,65.0 L 324.8,63.1\" style=\"fill:none;fill-rule:evenodd;stroke:#000000;stroke-width:2.0px;stroke-linecap:butt;stroke-linejoin:miter;stroke-opacity:1\"/>\n",
       "<path class=\"bond-12 atom-11 atom-13\" d=\"M 331.3,70.8 L 324.8,63.1\" style=\"fill:none;fill-rule:evenodd;stroke:#000000;stroke-width:2.0px;stroke-linecap:butt;stroke-linejoin:miter;stroke-opacity:1\"/>\n",
       "<path class=\"bond-13 atom-14 atom-15\" d=\"M 308.4,57.3 L 298.6,59.2\" style=\"fill:none;fill-rule:evenodd;stroke:#000000;stroke-width:2.0px;stroke-linecap:butt;stroke-linejoin:miter;stroke-opacity:1\"/>\n",
       "<path class=\"bond-14 atom-12 atom-14\" d=\"M 314.9,65.0 L 308.4,57.3\" style=\"fill:none;fill-rule:evenodd;stroke:#000000;stroke-width:2.0px;stroke-linecap:butt;stroke-linejoin:miter;stroke-opacity:1\"/>\n",
       "<path class=\"bond-15 atom-16 atom-17\" d=\"M 292.1,51.5 L 282.2,53.4\" style=\"fill:none;fill-rule:evenodd;stroke:#000000;stroke-width:2.0px;stroke-linecap:butt;stroke-linejoin:miter;stroke-opacity:1\"/>\n",
       "<path class=\"bond-16 atom-15 atom-16\" d=\"M 298.6,59.2 L 292.1,51.5\" style=\"fill:none;fill-rule:evenodd;stroke:#000000;stroke-width:2.0px;stroke-linecap:butt;stroke-linejoin:miter;stroke-opacity:1\"/>\n",
       "<path class=\"bond-17 atom-18 atom-19\" d=\"M 269.0,64.6 L 262.5,57.0\" style=\"fill:none;fill-rule:evenodd;stroke:#000000;stroke-width:2.0px;stroke-linecap:butt;stroke-linejoin:miter;stroke-opacity:1\"/>\n",
       "<path class=\"bond-18 atom-19 atom-20\" d=\"M 262.5,57.0 L 265.8,47.6\" style=\"fill:none;fill-rule:evenodd;stroke:#000000;stroke-width:2.0px;stroke-linecap:butt;stroke-linejoin:miter;stroke-opacity:1\"/>\n",
       "<path class=\"bond-19 atom-20 atom-21\" d=\"M 265.8,47.6 L 259.3,39.9\" style=\"fill:none;fill-rule:evenodd;stroke:#000000;stroke-width:2.0px;stroke-linecap:butt;stroke-linejoin:miter;stroke-opacity:1\"/>\n",
       "<path class=\"bond-20 atom-20 atom-22\" d=\"M 265.8,47.6 L 275.7,45.7\" style=\"fill:none;fill-rule:evenodd;stroke:#000000;stroke-width:2.0px;stroke-linecap:butt;stroke-linejoin:miter;stroke-opacity:1\"/>\n",
       "<path class=\"bond-21 atom-22 atom-23\" d=\"M 275.7,45.7 L 279.0,36.3\" style=\"fill:none;fill-rule:evenodd;stroke:#000000;stroke-width:2.0px;stroke-linecap:butt;stroke-linejoin:miter;stroke-opacity:1\"/>\n",
       "<path class=\"bond-22 atom-17 atom-22\" d=\"M 282.2,53.4 L 275.7,45.7\" style=\"fill:none;fill-rule:evenodd;stroke:#000000;stroke-width:2.0px;stroke-linecap:butt;stroke-linejoin:miter;stroke-opacity:1\"/>\n",
       "<path class=\"bond-23 atom-24 atom-25\" d=\"M 265.6,74.1 L 272.1,81.7\" style=\"fill:none;fill-rule:evenodd;stroke:#000000;stroke-width:2.0px;stroke-linecap:butt;stroke-linejoin:miter;stroke-opacity:1\"/>\n",
       "<path class=\"bond-24 atom-18 atom-24\" d=\"M 269.0,64.6 L 265.6,74.1\" style=\"fill:none;fill-rule:evenodd;stroke:#000000;stroke-width:2.0px;stroke-linecap:butt;stroke-linejoin:miter;stroke-opacity:1\"/>\n",
       "<path class=\"bond-25 atom-26 atom-27\" d=\"M 275.3,98.8 L 268.8,91.2\" style=\"fill:none;fill-rule:evenodd;stroke:#000000;stroke-width:2.0px;stroke-linecap:butt;stroke-linejoin:miter;stroke-opacity:1\"/>\n",
       "<path class=\"bond-26 atom-25 atom-27\" d=\"M 272.1,81.7 L 268.8,91.2\" style=\"fill:none;fill-rule:evenodd;stroke:#000000;stroke-width:2.0px;stroke-linecap:butt;stroke-linejoin:miter;stroke-opacity:1\"/>\n",
       "<path class=\"bond-27 atom-28 atom-29\" d=\"M 272.0,108.2 L 278.5,115.9\" style=\"fill:none;fill-rule:evenodd;stroke:#000000;stroke-width:2.0px;stroke-linecap:butt;stroke-linejoin:miter;stroke-opacity:1\"/>\n",
       "<path class=\"bond-28 atom-29 atom-30\" d=\"M 278.5,115.9 L 275.1,125.3\" style=\"fill:none;fill-rule:evenodd;stroke:#000000;stroke-width:2.0px;stroke-linecap:butt;stroke-linejoin:miter;stroke-opacity:1\"/>\n",
       "<path class=\"bond-28 atom-29 atom-30\" d=\"M 279.9,118.0 L 277.5,124.6\" style=\"fill:none;fill-rule:evenodd;stroke:#000000;stroke-width:2.0px;stroke-linecap:butt;stroke-linejoin:miter;stroke-opacity:1\"/>\n",
       "<path class=\"bond-29 atom-30 atom-31\" d=\"M 275.1,125.3 L 281.6,132.9\" style=\"fill:none;fill-rule:evenodd;stroke:#000000;stroke-width:2.0px;stroke-linecap:butt;stroke-linejoin:miter;stroke-opacity:1\"/>\n",
       "<path class=\"bond-30 atom-31 atom-32\" d=\"M 281.6,132.9 L 291.5,131.1\" style=\"fill:none;fill-rule:evenodd;stroke:#000000;stroke-width:2.0px;stroke-linecap:butt;stroke-linejoin:miter;stroke-opacity:1\"/>\n",
       "<path class=\"bond-30 atom-31 atom-32\" d=\"M 282.7,130.7 L 289.6,129.4\" style=\"fill:none;fill-rule:evenodd;stroke:#000000;stroke-width:2.0px;stroke-linecap:butt;stroke-linejoin:miter;stroke-opacity:1\"/>\n",
       "<path class=\"bond-31 atom-32 atom-33\" d=\"M 291.5,131.1 L 294.8,121.7\" style=\"fill:none;fill-rule:evenodd;stroke:#000000;stroke-width:2.0px;stroke-linecap:butt;stroke-linejoin:miter;stroke-opacity:1\"/>\n",
       "<path class=\"bond-32 atom-33 atom-34\" d=\"M 294.8,121.7 L 288.3,114.0\" style=\"fill:none;fill-rule:evenodd;stroke:#000000;stroke-width:2.0px;stroke-linecap:butt;stroke-linejoin:miter;stroke-opacity:1\"/>\n",
       "<path class=\"bond-32 atom-33 atom-34\" d=\"M 292.3,121.8 L 287.8,116.5\" style=\"fill:none;fill-rule:evenodd;stroke:#000000;stroke-width:2.0px;stroke-linecap:butt;stroke-linejoin:miter;stroke-opacity:1\"/>\n",
       "<path class=\"bond-33 atom-34 atom-29\" d=\"M 288.3,114.0 L 278.5,115.9\" style=\"fill:none;fill-rule:evenodd;stroke:#000000;stroke-width:2.0px;stroke-linecap:butt;stroke-linejoin:miter;stroke-opacity:1\"/>\n",
       "<path class=\"bond-34 atom-26 atom-28\" d=\"M 275.3,98.8 L 272.0,108.2\" style=\"fill:none;fill-rule:evenodd;stroke:#000000;stroke-width:2.0px;stroke-linecap:butt;stroke-linejoin:miter;stroke-opacity:1\"/>\n",
       "<path class=\"bond-35 atom-35 atom-36\" d=\"M 255.6,102.4 L 262.1,110.1\" style=\"fill:none;fill-rule:evenodd;stroke:#000000;stroke-width:2.0px;stroke-linecap:butt;stroke-linejoin:miter;stroke-opacity:1\"/>\n",
       "<path class=\"bond-36 atom-28 atom-36\" d=\"M 272.0,108.2 L 262.1,110.1\" style=\"fill:none;fill-rule:evenodd;stroke:#000000;stroke-width:2.0px;stroke-linecap:butt;stroke-linejoin:miter;stroke-opacity:1\"/>\n",
       "<path class=\"bond-37 atom-37 atom-38\" d=\"M 245.7,104.3 L 239.2,96.6\" style=\"fill:none;fill-rule:evenodd;stroke:#000000;stroke-width:2.0px;stroke-linecap:butt;stroke-linejoin:miter;stroke-opacity:1\"/>\n",
       "<path class=\"bond-38 atom-35 atom-37\" d=\"M 255.6,102.4 L 245.7,104.3\" style=\"fill:none;fill-rule:evenodd;stroke:#000000;stroke-width:2.0px;stroke-linecap:butt;stroke-linejoin:miter;stroke-opacity:1\"/>\n",
       "<path class=\"bond-39 atom-39 atom-40\" d=\"M 222.9,90.8 L 229.4,98.5\" style=\"fill:none;fill-rule:evenodd;stroke:#000000;stroke-width:2.0px;stroke-linecap:butt;stroke-linejoin:miter;stroke-opacity:1\"/>\n",
       "<path class=\"bond-40 atom-38 atom-40\" d=\"M 239.2,96.6 L 229.4,98.5\" style=\"fill:none;fill-rule:evenodd;stroke:#000000;stroke-width:2.0px;stroke-linecap:butt;stroke-linejoin:miter;stroke-opacity:1\"/>\n",
       "<path class=\"bond-41 atom-41 atom-42\" d=\"M 206.5,85.0 L 213.0,92.7\" style=\"fill:none;fill-rule:evenodd;stroke:#000000;stroke-width:2.0px;stroke-linecap:butt;stroke-linejoin:miter;stroke-opacity:1\"/>\n",
       "<path class=\"bond-42 atom-39 atom-42\" d=\"M 222.9,90.8 L 213.0,92.7\" style=\"fill:none;fill-rule:evenodd;stroke:#000000;stroke-width:2.0px;stroke-linecap:butt;stroke-linejoin:miter;stroke-opacity:1\"/>\n",
       "<path class=\"bond-43 atom-43 atom-44\" d=\"M 196.6,86.9 L 190.1,79.2\" style=\"fill:none;fill-rule:evenodd;stroke:#000000;stroke-width:2.0px;stroke-linecap:butt;stroke-linejoin:miter;stroke-opacity:1\"/>\n",
       "<path class=\"bond-44 atom-41 atom-43\" d=\"M 206.5,85.0 L 196.6,86.9\" style=\"fill:none;fill-rule:evenodd;stroke:#000000;stroke-width:2.0px;stroke-linecap:butt;stroke-linejoin:miter;stroke-opacity:1\"/>\n",
       "<path class=\"bond-45 atom-45 atom-46\" d=\"M 180.3,81.1 L 173.7,73.4\" style=\"fill:none;fill-rule:evenodd;stroke:#000000;stroke-width:2.0px;stroke-linecap:butt;stroke-linejoin:miter;stroke-opacity:1\"/>\n",
       "<path class=\"bond-46 atom-44 atom-45\" d=\"M 190.1,79.2 L 180.3,81.1\" style=\"fill:none;fill-rule:evenodd;stroke:#000000;stroke-width:2.0px;stroke-linecap:butt;stroke-linejoin:miter;stroke-opacity:1\"/>\n",
       "<path class=\"bond-47 atom-47 atom-48\" d=\"M 163.9,75.3 L 157.4,67.6\" style=\"fill:none;fill-rule:evenodd;stroke:#000000;stroke-width:2.0px;stroke-linecap:butt;stroke-linejoin:miter;stroke-opacity:1\"/>\n",
       "<path class=\"bond-48 atom-46 atom-47\" d=\"M 173.7,73.4 L 163.9,75.3\" style=\"fill:none;fill-rule:evenodd;stroke:#000000;stroke-width:2.0px;stroke-linecap:butt;stroke-linejoin:miter;stroke-opacity:1\"/>\n",
       "<path class=\"bond-49 atom-49 atom-50\" d=\"M 141.0,61.8 L 147.5,69.5\" style=\"fill:none;fill-rule:evenodd;stroke:#000000;stroke-width:2.0px;stroke-linecap:butt;stroke-linejoin:miter;stroke-opacity:1\"/>\n",
       "<path class=\"bond-50 atom-48 atom-50\" d=\"M 157.4,67.6 L 147.5,69.5\" style=\"fill:none;fill-rule:evenodd;stroke:#000000;stroke-width:2.0px;stroke-linecap:butt;stroke-linejoin:miter;stroke-opacity:1\"/>\n",
       "<path class=\"bond-51 atom-51 atom-52\" d=\"M 124.6,56.0 L 131.1,63.7\" style=\"fill:none;fill-rule:evenodd;stroke:#000000;stroke-width:2.0px;stroke-linecap:butt;stroke-linejoin:miter;stroke-opacity:1\"/>\n",
       "<path class=\"bond-52 atom-49 atom-52\" d=\"M 141.0,61.8 L 131.1,63.7\" style=\"fill:none;fill-rule:evenodd;stroke:#000000;stroke-width:2.0px;stroke-linecap:butt;stroke-linejoin:miter;stroke-opacity:1\"/>\n",
       "<path class=\"bond-53 atom-53 atom-54\" d=\"M 108.3,50.2 L 114.8,57.9\" style=\"fill:none;fill-rule:evenodd;stroke:#000000;stroke-width:2.0px;stroke-linecap:butt;stroke-linejoin:miter;stroke-opacity:1\"/>\n",
       "<path class=\"bond-54 atom-51 atom-54\" d=\"M 124.6,56.0 L 114.8,57.9\" style=\"fill:none;fill-rule:evenodd;stroke:#000000;stroke-width:2.0px;stroke-linecap:butt;stroke-linejoin:miter;stroke-opacity:1\"/>\n",
       "<path class=\"bond-55 atom-55 atom-56\" d=\"M 81.8,72.8 L 85.2,63.3\" style=\"fill:none;fill-rule:evenodd;stroke:#000000;stroke-width:2.0px;stroke-linecap:butt;stroke-linejoin:miter;stroke-opacity:1\"/>\n",
       "<path class=\"bond-56 atom-56 atom-57\" d=\"M 85.2,63.3 L 95.1,61.5\" style=\"fill:none;fill-rule:evenodd;stroke:#000000;stroke-width:2.0px;stroke-linecap:butt;stroke-linejoin:miter;stroke-opacity:1\"/>\n",
       "<path class=\"bond-57 atom-57 atom-58\" d=\"M 95.1,61.5 L 101.6,69.1\" style=\"fill:none;fill-rule:evenodd;stroke:#000000;stroke-width:2.0px;stroke-linecap:butt;stroke-linejoin:miter;stroke-opacity:1\"/>\n",
       "<path class=\"bond-58 atom-57 atom-59\" d=\"M 95.1,61.5 L 98.4,52.1\" style=\"fill:none;fill-rule:evenodd;stroke:#000000;stroke-width:2.0px;stroke-linecap:butt;stroke-linejoin:miter;stroke-opacity:1\"/>\n",
       "<path class=\"bond-59 atom-59 atom-60\" d=\"M 98.4,52.1 L 91.9,44.4\" style=\"fill:none;fill-rule:evenodd;stroke:#000000;stroke-width:2.0px;stroke-linecap:butt;stroke-linejoin:miter;stroke-opacity:1\"/>\n",
       "<path class=\"bond-60 atom-53 atom-59\" d=\"M 108.3,50.2 L 98.4,52.1\" style=\"fill:none;fill-rule:evenodd;stroke:#000000;stroke-width:2.0px;stroke-linecap:butt;stroke-linejoin:miter;stroke-opacity:1\"/>\n",
       "<path class=\"bond-61 atom-61 atom-62\" d=\"M 68.6,84.1 L 72.0,74.6\" style=\"fill:none;fill-rule:evenodd;stroke:#000000;stroke-width:2.0px;stroke-linecap:butt;stroke-linejoin:miter;stroke-opacity:1\"/>\n",
       "<path class=\"bond-62 atom-55 atom-62\" d=\"M 81.8,72.8 L 72.0,74.6\" style=\"fill:none;fill-rule:evenodd;stroke:#000000;stroke-width:2.0px;stroke-linecap:butt;stroke-linejoin:miter;stroke-opacity:1\"/>\n",
       "<path class=\"bond-63 atom-63 atom-64\" d=\"M 249.5,41.8 L 242.9,34.1\" style=\"fill:none;fill-rule:evenodd;stroke:#000000;stroke-width:2.0px;stroke-linecap:butt;stroke-linejoin:miter;stroke-opacity:1\"/>\n",
       "<path class=\"bond-64 atom-64 atom-65\" d=\"M 242.9,34.1 L 233.1,36.0\" style=\"fill:none;fill-rule:evenodd;stroke:#000000;stroke-width:2.0px;stroke-linecap:butt;stroke-linejoin:miter;stroke-opacity:1\"/>\n",
       "<path class=\"bond-64 atom-64 atom-65\" d=\"M 241.1,32.4 L 234.2,33.7\" style=\"fill:none;fill-rule:evenodd;stroke:#000000;stroke-width:2.0px;stroke-linecap:butt;stroke-linejoin:miter;stroke-opacity:1\"/>\n",
       "<path class=\"bond-65 atom-65 atom-66\" d=\"M 233.1,36.0 L 226.6,28.3\" style=\"fill:none;fill-rule:evenodd;stroke:#000000;stroke-width:2.0px;stroke-linecap:butt;stroke-linejoin:miter;stroke-opacity:1\"/>\n",
       "<path class=\"bond-66 atom-66 atom-67\" d=\"M 226.6,28.3 L 229.9,18.9\" style=\"fill:none;fill-rule:evenodd;stroke:#000000;stroke-width:2.0px;stroke-linecap:butt;stroke-linejoin:miter;stroke-opacity:1\"/>\n",
       "<path class=\"bond-66 atom-66 atom-67\" d=\"M 229.0,27.6 L 231.3,21.0\" style=\"fill:none;fill-rule:evenodd;stroke:#000000;stroke-width:2.0px;stroke-linecap:butt;stroke-linejoin:miter;stroke-opacity:1\"/>\n",
       "<path class=\"bond-67 atom-67 atom-68\" d=\"M 229.9,18.9 L 239.8,17.1\" style=\"fill:none;fill-rule:evenodd;stroke:#000000;stroke-width:2.0px;stroke-linecap:butt;stroke-linejoin:miter;stroke-opacity:1\"/>\n",
       "<path class=\"bond-68 atom-68 atom-69\" d=\"M 239.8,17.1 L 246.3,24.7\" style=\"fill:none;fill-rule:evenodd;stroke:#000000;stroke-width:2.0px;stroke-linecap:butt;stroke-linejoin:miter;stroke-opacity:1\"/>\n",
       "<path class=\"bond-68 atom-68 atom-69\" d=\"M 239.2,19.5 L 243.8,24.8\" style=\"fill:none;fill-rule:evenodd;stroke:#000000;stroke-width:2.0px;stroke-linecap:butt;stroke-linejoin:miter;stroke-opacity:1\"/>\n",
       "<path class=\"bond-69 atom-69 atom-64\" d=\"M 246.3,24.7 L 242.9,34.1\" style=\"fill:none;fill-rule:evenodd;stroke:#000000;stroke-width:2.0px;stroke-linecap:butt;stroke-linejoin:miter;stroke-opacity:1\"/>\n",
       "<path class=\"bond-70 atom-21 atom-63\" d=\"M 259.3,39.9 L 249.5,41.8\" style=\"fill:none;fill-rule:evenodd;stroke:#000000;stroke-width:2.0px;stroke-linecap:butt;stroke-linejoin:miter;stroke-opacity:1\"/>\n",
       "<path class=\"bond-71 atom-70 atom-71\" d=\"M 55.4,95.3 L 58.8,85.9\" style=\"fill:none;fill-rule:evenodd;stroke:#000000;stroke-width:2.0px;stroke-linecap:butt;stroke-linejoin:miter;stroke-opacity:1\"/>\n",
       "<path class=\"bond-72 atom-61 atom-71\" d=\"M 68.6,84.1 L 58.8,85.9\" style=\"fill:none;fill-rule:evenodd;stroke:#000000;stroke-width:2.0px;stroke-linecap:butt;stroke-linejoin:miter;stroke-opacity:1\"/>\n",
       "<path class=\"bond-73 atom-72 atom-73\" d=\"M 246.1,51.2 L 236.2,53.0\" style=\"fill:none;fill-rule:evenodd;stroke:#000000;stroke-width:2.0px;stroke-linecap:butt;stroke-linejoin:miter;stroke-opacity:1\"/>\n",
       "<path class=\"bond-74 atom-73 atom-74\" d=\"M 236.2,53.0 L 229.7,45.4\" style=\"fill:none;fill-rule:evenodd;stroke:#000000;stroke-width:2.0px;stroke-linecap:butt;stroke-linejoin:miter;stroke-opacity:1\"/>\n",
       "<path class=\"bond-74 atom-73 atom-74\" d=\"M 233.7,53.2 L 229.2,47.9\" style=\"fill:none;fill-rule:evenodd;stroke:#000000;stroke-width:2.0px;stroke-linecap:butt;stroke-linejoin:miter;stroke-opacity:1\"/>\n",
       "<path class=\"bond-75 atom-74 atom-75\" d=\"M 229.7,45.4 L 219.9,47.2\" style=\"fill:none;fill-rule:evenodd;stroke:#000000;stroke-width:2.0px;stroke-linecap:butt;stroke-linejoin:miter;stroke-opacity:1\"/>\n",
       "<path class=\"bond-76 atom-75 atom-76\" d=\"M 219.9,47.2 L 216.5,56.7\" style=\"fill:none;fill-rule:evenodd;stroke:#000000;stroke-width:2.0px;stroke-linecap:butt;stroke-linejoin:miter;stroke-opacity:1\"/>\n",
       "<path class=\"bond-76 atom-75 atom-76\" d=\"M 221.3,49.3 L 218.9,55.9\" style=\"fill:none;fill-rule:evenodd;stroke:#000000;stroke-width:2.0px;stroke-linecap:butt;stroke-linejoin:miter;stroke-opacity:1\"/>\n",
       "<path class=\"bond-77 atom-76 atom-77\" d=\"M 216.5,56.7 L 223.0,64.3\" style=\"fill:none;fill-rule:evenodd;stroke:#000000;stroke-width:2.0px;stroke-linecap:butt;stroke-linejoin:miter;stroke-opacity:1\"/>\n",
       "<path class=\"bond-78 atom-77 atom-78\" d=\"M 223.0,64.3 L 232.9,62.5\" style=\"fill:none;fill-rule:evenodd;stroke:#000000;stroke-width:2.0px;stroke-linecap:butt;stroke-linejoin:miter;stroke-opacity:1\"/>\n",
       "<path class=\"bond-78 atom-77 atom-78\" d=\"M 224.2,62.1 L 231.1,60.8\" style=\"fill:none;fill-rule:evenodd;stroke:#000000;stroke-width:2.0px;stroke-linecap:butt;stroke-linejoin:miter;stroke-opacity:1\"/>\n",
       "<path class=\"bond-79 atom-78 atom-73\" d=\"M 232.9,62.5 L 236.2,53.0\" style=\"fill:none;fill-rule:evenodd;stroke:#000000;stroke-width:2.0px;stroke-linecap:butt;stroke-linejoin:miter;stroke-opacity:1\"/>\n",
       "<path class=\"bond-80 atom-63 atom-72\" d=\"M 249.5,41.8 L 246.1,51.2\" style=\"fill:none;fill-rule:evenodd;stroke:#000000;stroke-width:2.0px;stroke-linecap:butt;stroke-linejoin:miter;stroke-opacity:1\"/>\n",
       "<path class=\"bond-81 atom-79 atom-80\" d=\"M 42.2,106.6 L 45.6,97.2\" style=\"fill:none;fill-rule:evenodd;stroke:#000000;stroke-width:2.0px;stroke-linecap:butt;stroke-linejoin:miter;stroke-opacity:1\"/>\n",
       "<path class=\"bond-82 atom-70 atom-80\" d=\"M 55.4,95.3 L 45.6,97.2\" style=\"fill:none;fill-rule:evenodd;stroke:#000000;stroke-width:2.0px;stroke-linecap:butt;stroke-linejoin:miter;stroke-opacity:1\"/>\n",
       "<path class=\"bond-83 atom-81 atom-82\" d=\"M 32.4,108.4 L 31.1,111.9\" style=\"fill:none;fill-rule:evenodd;stroke:#000000;stroke-width:2.0px;stroke-linecap:butt;stroke-linejoin:miter;stroke-opacity:1\"/>\n",
       "<path class=\"bond-83 atom-81 atom-82\" d=\"M 31.1,111.9 L 29.9,115.4\" style=\"fill:none;fill-rule:evenodd;stroke:#FF0000;stroke-width:2.0px;stroke-linecap:butt;stroke-linejoin:miter;stroke-opacity:1\"/>\n",
       "<path class=\"bond-84 atom-82 atom-83\" d=\"M 26.7,118.3 L 22.9,119.0\" style=\"fill:none;fill-rule:evenodd;stroke:#FF0000;stroke-width:2.0px;stroke-linecap:butt;stroke-linejoin:miter;stroke-opacity:1\"/>\n",
       "<path class=\"bond-84 atom-82 atom-83\" d=\"M 22.9,119.0 L 19.2,119.7\" style=\"fill:none;fill-rule:evenodd;stroke:#000000;stroke-width:2.0px;stroke-linecap:butt;stroke-linejoin:miter;stroke-opacity:1\"/>\n",
       "<path class=\"bond-85 atom-79 atom-81\" d=\"M 42.2,106.6 L 32.4,108.4\" style=\"fill:none;fill-rule:evenodd;stroke:#000000;stroke-width:2.0px;stroke-linecap:butt;stroke-linejoin:miter;stroke-opacity:1\"/>\n",
       "<path class=\"bond-86 atom-84 atom-85\" d=\"M 98.2,78.6 L 100.4,81.2\" style=\"fill:none;fill-rule:evenodd;stroke:#000000;stroke-width:2.0px;stroke-linecap:butt;stroke-linejoin:miter;stroke-opacity:1\"/>\n",
       "<path class=\"bond-86 atom-84 atom-85\" d=\"M 100.4,81.2 L 102.6,83.7\" style=\"fill:none;fill-rule:evenodd;stroke:#FF0000;stroke-width:2.0px;stroke-linecap:butt;stroke-linejoin:miter;stroke-opacity:1\"/>\n",
       "<path class=\"bond-87 atom-85 atom-86\" d=\"M 103.8,88.8 L 102.6,92.2\" style=\"fill:none;fill-rule:evenodd;stroke:#FF0000;stroke-width:2.0px;stroke-linecap:butt;stroke-linejoin:miter;stroke-opacity:1\"/>\n",
       "<path class=\"bond-87 atom-85 atom-86\" d=\"M 102.6,92.2 L 101.4,95.7\" style=\"fill:none;fill-rule:evenodd;stroke:#000000;stroke-width:2.0px;stroke-linecap:butt;stroke-linejoin:miter;stroke-opacity:1\"/>\n",
       "<path class=\"bond-88 atom-58 atom-84\" d=\"M 101.6,69.1 L 98.2,78.6\" style=\"fill:none;fill-rule:evenodd;stroke:#000000;stroke-width:2.0px;stroke-linecap:butt;stroke-linejoin:miter;stroke-opacity:1\"/>\n",
       "<path class=\"bond-89 atom-87 atom-88\" d=\"M 252.6,58.8 L 251.4,62.3\" style=\"fill:none;fill-rule:evenodd;stroke:#000000;stroke-width:2.0px;stroke-linecap:butt;stroke-linejoin:miter;stroke-opacity:1\"/>\n",
       "<path class=\"bond-89 atom-87 atom-88\" d=\"M 251.4,62.3 L 250.1,65.8\" style=\"fill:none;fill-rule:evenodd;stroke:#0000FF;stroke-width:2.0px;stroke-linecap:butt;stroke-linejoin:miter;stroke-opacity:1\"/>\n",
       "<path class=\"bond-90 atom-72 atom-87\" d=\"M 246.1,51.2 L 252.6,58.8\" style=\"fill:none;fill-rule:evenodd;stroke:#000000;stroke-width:2.0px;stroke-linecap:butt;stroke-linejoin:miter;stroke-opacity:1\"/>\n",
       "<path class=\"atom-0\" d=\"M 422.1 95.8 L 423.5 98.1 Q 423.6 98.3, 423.8 98.7 Q 424.0 99.1, 424.1 99.1 L 424.1 95.8 L 424.6 95.8 L 424.6 100.1 L 424.0 100.1 L 422.5 97.6 Q 422.4 97.3, 422.2 97.0 Q 422.0 96.7, 422.0 96.6 L 422.0 100.1 L 421.4 100.1 L 421.4 95.8 L 422.1 95.8 \" fill=\"#0000FF\"/>\n",
       "<path class=\"atom-0\" d=\"M 425.1 95.8 L 425.7 95.8 L 425.7 97.6 L 427.9 97.6 L 427.9 95.8 L 428.4 95.8 L 428.4 100.1 L 427.9 100.1 L 427.9 98.1 L 425.7 98.1 L 425.7 100.1 L 425.1 100.1 L 425.1 95.8 \" fill=\"#0000FF\"/>\n",
       "<path class=\"atom-0\" d=\"M 429.0 99.9 Q 429.1 99.7, 429.3 99.5 Q 429.6 99.4, 429.9 99.4 Q 430.3 99.4, 430.6 99.6 Q 430.8 99.8, 430.8 100.2 Q 430.8 100.6, 430.5 101.0 Q 430.2 101.4, 429.5 101.9 L 430.8 101.9 L 430.8 102.2 L 429.0 102.2 L 429.0 101.9 Q 429.5 101.6, 429.8 101.3 Q 430.1 101.0, 430.2 100.8 Q 430.4 100.5, 430.4 100.2 Q 430.4 100.0, 430.3 99.8 Q 430.1 99.7, 429.9 99.7 Q 429.7 99.7, 429.5 99.8 Q 429.4 99.9, 429.3 100.1 L 429.0 99.9 \" fill=\"#0000FF\"/>\n",
       "<path class=\"atom-82\" d=\"M 27.1 117.9 Q 27.1 116.9, 27.6 116.3 Q 28.1 115.7, 29.0 115.7 Q 30.0 115.7, 30.5 116.3 Q 31.0 116.9, 31.0 117.9 Q 31.0 118.9, 30.5 119.5 Q 29.9 120.1, 29.0 120.1 Q 28.1 120.1, 27.6 119.5 Q 27.1 118.9, 27.1 117.9 M 29.0 119.6 Q 29.7 119.6, 30.0 119.2 Q 30.4 118.7, 30.4 117.9 Q 30.4 117.1, 30.0 116.6 Q 29.7 116.2, 29.0 116.2 Q 28.4 116.2, 28.0 116.6 Q 27.7 117.1, 27.7 117.9 Q 27.7 118.8, 28.0 119.2 Q 28.4 119.6, 29.0 119.6 \" fill=\"#FF0000\"/>\n",
       "<path class=\"atom-85\" d=\"M 102.8 86.2 Q 102.8 85.2, 103.3 84.6 Q 103.8 84.1, 104.7 84.1 Q 105.7 84.1, 106.2 84.6 Q 106.7 85.2, 106.7 86.2 Q 106.7 87.3, 106.2 87.8 Q 105.7 88.4, 104.7 88.4 Q 103.8 88.4, 103.3 87.8 Q 102.8 87.3, 102.8 86.2 M 104.7 87.9 Q 105.4 87.9, 105.7 87.5 Q 106.1 87.1, 106.1 86.2 Q 106.1 85.4, 105.7 85.0 Q 105.4 84.5, 104.7 84.5 Q 104.1 84.5, 103.7 85.0 Q 103.4 85.4, 103.4 86.2 Q 103.4 87.1, 103.7 87.5 Q 104.1 87.9, 104.7 87.9 \" fill=\"#FF0000\"/>\n",
       "<path class=\"atom-88\" d=\"M 248.3 66.2 L 249.7 68.4 Q 249.9 68.6, 250.1 69.0 Q 250.3 69.4, 250.3 69.5 L 250.3 66.2 L 250.9 66.2 L 250.9 70.4 L 250.3 70.4 L 248.8 68.0 Q 248.6 67.7, 248.4 67.3 Q 248.3 67.0, 248.2 66.9 L 248.2 70.4 L 247.7 70.4 L 247.7 66.2 L 248.3 66.2 \" fill=\"#0000FF\"/>\n",
       "<path class=\"atom-88\" d=\"M 251.4 66.2 L 252.0 66.2 L 252.0 68.0 L 254.1 68.0 L 254.1 66.2 L 254.7 66.2 L 254.7 70.4 L 254.1 70.4 L 254.1 68.4 L 252.0 68.4 L 252.0 70.4 L 251.4 70.4 L 251.4 66.2 \" fill=\"#0000FF\"/>\n",
       "<path class=\"atom-88\" d=\"M 255.2 70.3 Q 255.3 70.0, 255.6 69.8 Q 255.8 69.7, 256.2 69.7 Q 256.6 69.7, 256.8 69.9 Q 257.1 70.2, 257.1 70.6 Q 257.1 71.0, 256.7 71.4 Q 256.4 71.8, 255.8 72.2 L 257.1 72.2 L 257.1 72.5 L 255.2 72.5 L 255.2 72.3 Q 255.7 71.9, 256.0 71.6 Q 256.4 71.3, 256.5 71.1 Q 256.7 70.8, 256.7 70.6 Q 256.7 70.3, 256.5 70.2 Q 256.4 70.0, 256.2 70.0 Q 255.9 70.0, 255.8 70.1 Q 255.6 70.2, 255.5 70.4 L 255.2 70.3 \" fill=\"#0000FF\"/>\n",
       "</svg>"
      ],
      "text/plain": [
       "<IPython.core.display.SVG object>"
      ]
     },
     "execution_count": 42,
     "metadata": {},
     "output_type": "execute_result"
    }
   ],
   "source": [
    "big_smiles_gen(big)"
   ]
  },
  {
   "cell_type": "code",
   "execution_count": 43,
   "id": "38069241",
   "metadata": {},
   "outputs": [
    {
     "data": {
      "image/svg+xml": [
       "<svg xmlns=\"http://www.w3.org/2000/svg\" xmlns:rdkit=\"http://www.rdkit.org/xml\" xmlns:xlink=\"http://www.w3.org/1999/xlink\" version=\"1.1\" baseProfile=\"full\" xml:space=\"preserve\" width=\"450px\" height=\"150px\" viewBox=\"0 0 450 150\">\n",
       "<!-- END OF HEADER -->\n",
       "<rect style=\"opacity:1.0;fill:#FFFFFF;stroke:none\" width=\"450.0\" height=\"150.0\" x=\"0.0\" y=\"0.0\"> </rect>\n",
       "<path class=\"bond-0 atom-0 atom-1\" d=\"M 34.3,65.0 L 33.4,59.7\" style=\"fill:none;fill-rule:evenodd;stroke:#0000FF;stroke-width:2.0px;stroke-linecap:butt;stroke-linejoin:miter;stroke-opacity:1\"/>\n",
       "<path class=\"bond-0 atom-0 atom-1\" d=\"M 33.4,59.7 L 32.6,54.5\" style=\"fill:none;fill-rule:evenodd;stroke:#000000;stroke-width:2.0px;stroke-linecap:butt;stroke-linejoin:miter;stroke-opacity:1\"/>\n",
       "<path class=\"bond-1 atom-2 atom-3\" d=\"M 42.8,46.1 L 40.6,33.0\" style=\"fill:none;fill-rule:evenodd;stroke:#000000;stroke-width:2.0px;stroke-linecap:butt;stroke-linejoin:miter;stroke-opacity:1\"/>\n",
       "<path class=\"bond-2 atom-3 atom-4\" d=\"M 40.6,33.0 L 50.9,24.6\" style=\"fill:none;fill-rule:evenodd;stroke:#000000;stroke-width:2.0px;stroke-linecap:butt;stroke-linejoin:miter;stroke-opacity:1\"/>\n",
       "<path class=\"bond-2 atom-3 atom-4\" d=\"M 40.5,29.7 L 47.7,23.8\" style=\"fill:none;fill-rule:evenodd;stroke:#000000;stroke-width:2.0px;stroke-linecap:butt;stroke-linejoin:miter;stroke-opacity:1\"/>\n",
       "<path class=\"bond-3 atom-4 atom-5\" d=\"M 50.9,24.6 L 48.7,11.5\" style=\"fill:none;fill-rule:evenodd;stroke:#000000;stroke-width:2.0px;stroke-linecap:butt;stroke-linejoin:miter;stroke-opacity:1\"/>\n",
       "<path class=\"bond-4 atom-5 atom-6\" d=\"M 48.7,11.5 L 36.3,6.8\" style=\"fill:none;fill-rule:evenodd;stroke:#000000;stroke-width:2.0px;stroke-linecap:butt;stroke-linejoin:miter;stroke-opacity:1\"/>\n",
       "<path class=\"bond-4 atom-5 atom-6\" d=\"M 45.9,13.3 L 37.2,10.0\" style=\"fill:none;fill-rule:evenodd;stroke:#000000;stroke-width:2.0px;stroke-linecap:butt;stroke-linejoin:miter;stroke-opacity:1\"/>\n",
       "<path class=\"bond-5 atom-6 atom-7\" d=\"M 36.3,6.8 L 26.1,15.2\" style=\"fill:none;fill-rule:evenodd;stroke:#000000;stroke-width:2.0px;stroke-linecap:butt;stroke-linejoin:miter;stroke-opacity:1\"/>\n",
       "<path class=\"bond-6 atom-7 atom-8\" d=\"M 26.1,15.2 L 28.2,28.3\" style=\"fill:none;fill-rule:evenodd;stroke:#000000;stroke-width:2.0px;stroke-linecap:butt;stroke-linejoin:miter;stroke-opacity:1\"/>\n",
       "<path class=\"bond-6 atom-7 atom-8\" d=\"M 29.0,16.8 L 30.5,25.9\" style=\"fill:none;fill-rule:evenodd;stroke:#000000;stroke-width:2.0px;stroke-linecap:butt;stroke-linejoin:miter;stroke-opacity:1\"/>\n",
       "<path class=\"bond-7 atom-8 atom-3\" d=\"M 28.2,28.3 L 40.6,33.0\" style=\"fill:none;fill-rule:evenodd;stroke:#000000;stroke-width:2.0px;stroke-linecap:butt;stroke-linejoin:miter;stroke-opacity:1\"/>\n",
       "<path class=\"bond-8 atom-1 atom-2\" d=\"M 32.6,54.5 L 42.8,46.1\" style=\"fill:none;fill-rule:evenodd;stroke:#000000;stroke-width:2.0px;stroke-linecap:butt;stroke-linejoin:miter;stroke-opacity:1\"/>\n",
       "<path class=\"bond-9 atom-9 atom-10\" d=\"M 57.4,63.8 L 55.2,50.7\" style=\"fill:none;fill-rule:evenodd;stroke:#000000;stroke-width:2.0px;stroke-linecap:butt;stroke-linejoin:miter;stroke-opacity:1\"/>\n",
       "<path class=\"bond-10 atom-2 atom-10\" d=\"M 42.8,46.1 L 55.2,50.7\" style=\"fill:none;fill-rule:evenodd;stroke:#000000;stroke-width:2.0px;stroke-linecap:butt;stroke-linejoin:miter;stroke-opacity:1\"/>\n",
       "<path class=\"bond-11 atom-11 atom-12\" d=\"M 72.0,81.5 L 69.8,68.5\" style=\"fill:none;fill-rule:evenodd;stroke:#000000;stroke-width:2.0px;stroke-linecap:butt;stroke-linejoin:miter;stroke-opacity:1\"/>\n",
       "<path class=\"bond-12 atom-9 atom-12\" d=\"M 57.4,63.8 L 69.8,68.5\" style=\"fill:none;fill-rule:evenodd;stroke:#000000;stroke-width:2.0px;stroke-linecap:butt;stroke-linejoin:miter;stroke-opacity:1\"/>\n",
       "<path class=\"bond-13 atom-13 atom-14\" d=\"M 86.5,99.3 L 84.4,86.2\" style=\"fill:none;fill-rule:evenodd;stroke:#000000;stroke-width:2.0px;stroke-linecap:butt;stroke-linejoin:miter;stroke-opacity:1\"/>\n",
       "<path class=\"bond-14 atom-11 atom-14\" d=\"M 72.0,81.5 L 84.4,86.2\" style=\"fill:none;fill-rule:evenodd;stroke:#000000;stroke-width:2.0px;stroke-linecap:butt;stroke-linejoin:miter;stroke-opacity:1\"/>\n",
       "<path class=\"bond-15 atom-15 atom-16\" d=\"M 99.0,103.9 L 101.1,117.0\" style=\"fill:none;fill-rule:evenodd;stroke:#000000;stroke-width:2.0px;stroke-linecap:butt;stroke-linejoin:miter;stroke-opacity:1\"/>\n",
       "<path class=\"bond-16 atom-16 atom-17\" d=\"M 101.1,117.0 L 90.9,125.4\" style=\"fill:none;fill-rule:evenodd;stroke:#000000;stroke-width:2.0px;stroke-linecap:butt;stroke-linejoin:miter;stroke-opacity:1\"/>\n",
       "<path class=\"bond-16 atom-16 atom-17\" d=\"M 101.3,120.3 L 94.1,126.2\" style=\"fill:none;fill-rule:evenodd;stroke:#000000;stroke-width:2.0px;stroke-linecap:butt;stroke-linejoin:miter;stroke-opacity:1\"/>\n",
       "<path class=\"bond-17 atom-17 atom-18\" d=\"M 90.9,125.4 L 93.0,138.5\" style=\"fill:none;fill-rule:evenodd;stroke:#000000;stroke-width:2.0px;stroke-linecap:butt;stroke-linejoin:miter;stroke-opacity:1\"/>\n",
       "<path class=\"bond-18 atom-18 atom-19\" d=\"M 93.0,138.5 L 105.5,143.2\" style=\"fill:none;fill-rule:evenodd;stroke:#000000;stroke-width:2.0px;stroke-linecap:butt;stroke-linejoin:miter;stroke-opacity:1\"/>\n",
       "<path class=\"bond-18 atom-18 atom-19\" d=\"M 95.8,136.7 L 104.5,140.0\" style=\"fill:none;fill-rule:evenodd;stroke:#000000;stroke-width:2.0px;stroke-linecap:butt;stroke-linejoin:miter;stroke-opacity:1\"/>\n",
       "<path class=\"bond-19 atom-19 atom-20\" d=\"M 105.5,143.2 L 115.7,134.8\" style=\"fill:none;fill-rule:evenodd;stroke:#000000;stroke-width:2.0px;stroke-linecap:butt;stroke-linejoin:miter;stroke-opacity:1\"/>\n",
       "<path class=\"bond-20 atom-20 atom-21\" d=\"M 115.7,134.8 L 113.5,121.7\" style=\"fill:none;fill-rule:evenodd;stroke:#000000;stroke-width:2.0px;stroke-linecap:butt;stroke-linejoin:miter;stroke-opacity:1\"/>\n",
       "<path class=\"bond-20 atom-20 atom-21\" d=\"M 112.8,133.2 L 111.2,124.1\" style=\"fill:none;fill-rule:evenodd;stroke:#000000;stroke-width:2.0px;stroke-linecap:butt;stroke-linejoin:miter;stroke-opacity:1\"/>\n",
       "<path class=\"bond-21 atom-21 atom-16\" d=\"M 113.5,121.7 L 101.1,117.0\" style=\"fill:none;fill-rule:evenodd;stroke:#000000;stroke-width:2.0px;stroke-linecap:butt;stroke-linejoin:miter;stroke-opacity:1\"/>\n",
       "<path class=\"bond-22 atom-13 atom-15\" d=\"M 86.5,99.3 L 99.0,103.9\" style=\"fill:none;fill-rule:evenodd;stroke:#000000;stroke-width:2.0px;stroke-linecap:butt;stroke-linejoin:miter;stroke-opacity:1\"/>\n",
       "<path class=\"bond-23 atom-22 atom-23\" d=\"M 109.2,95.5 L 107.0,82.4\" style=\"fill:none;fill-rule:evenodd;stroke:#000000;stroke-width:2.0px;stroke-linecap:butt;stroke-linejoin:miter;stroke-opacity:1\"/>\n",
       "<path class=\"bond-24 atom-23 atom-24\" d=\"M 107.0,82.4 L 117.3,74.0\" style=\"fill:none;fill-rule:evenodd;stroke:#000000;stroke-width:2.0px;stroke-linecap:butt;stroke-linejoin:miter;stroke-opacity:1\"/>\n",
       "<path class=\"bond-24 atom-23 atom-24\" d=\"M 106.9,79.1 L 114.1,73.2\" style=\"fill:none;fill-rule:evenodd;stroke:#000000;stroke-width:2.0px;stroke-linecap:butt;stroke-linejoin:miter;stroke-opacity:1\"/>\n",
       "<path class=\"bond-25 atom-24 atom-25\" d=\"M 117.3,74.0 L 115.1,61.0\" style=\"fill:none;fill-rule:evenodd;stroke:#000000;stroke-width:2.0px;stroke-linecap:butt;stroke-linejoin:miter;stroke-opacity:1\"/>\n",
       "<path class=\"bond-26 atom-25 atom-26\" d=\"M 115.1,61.0 L 102.7,56.3\" style=\"fill:none;fill-rule:evenodd;stroke:#000000;stroke-width:2.0px;stroke-linecap:butt;stroke-linejoin:miter;stroke-opacity:1\"/>\n",
       "<path class=\"bond-26 atom-25 atom-26\" d=\"M 112.3,62.7 L 103.6,59.5\" style=\"fill:none;fill-rule:evenodd;stroke:#000000;stroke-width:2.0px;stroke-linecap:butt;stroke-linejoin:miter;stroke-opacity:1\"/>\n",
       "<path class=\"bond-27 atom-26 atom-27\" d=\"M 102.7,56.3 L 92.5,64.7\" style=\"fill:none;fill-rule:evenodd;stroke:#000000;stroke-width:2.0px;stroke-linecap:butt;stroke-linejoin:miter;stroke-opacity:1\"/>\n",
       "<path class=\"bond-28 atom-27 atom-28\" d=\"M 92.5,64.7 L 94.6,77.8\" style=\"fill:none;fill-rule:evenodd;stroke:#000000;stroke-width:2.0px;stroke-linecap:butt;stroke-linejoin:miter;stroke-opacity:1\"/>\n",
       "<path class=\"bond-28 atom-27 atom-28\" d=\"M 95.4,66.2 L 96.9,75.4\" style=\"fill:none;fill-rule:evenodd;stroke:#000000;stroke-width:2.0px;stroke-linecap:butt;stroke-linejoin:miter;stroke-opacity:1\"/>\n",
       "<path class=\"bond-29 atom-28 atom-23\" d=\"M 94.6,77.8 L 107.0,82.4\" style=\"fill:none;fill-rule:evenodd;stroke:#000000;stroke-width:2.0px;stroke-linecap:butt;stroke-linejoin:miter;stroke-opacity:1\"/>\n",
       "<path class=\"bond-30 atom-15 atom-22\" d=\"M 99.0,103.9 L 109.2,95.5\" style=\"fill:none;fill-rule:evenodd;stroke:#000000;stroke-width:2.0px;stroke-linecap:butt;stroke-linejoin:miter;stroke-opacity:1\"/>\n",
       "<path class=\"bond-31 atom-29 atom-30\" d=\"M 121.6,100.2 L 131.8,91.8\" style=\"fill:none;fill-rule:evenodd;stroke:#000000;stroke-width:2.0px;stroke-linecap:butt;stroke-linejoin:miter;stroke-opacity:1\"/>\n",
       "<path class=\"bond-32 atom-22 atom-29\" d=\"M 109.2,95.5 L 121.6,100.2\" style=\"fill:none;fill-rule:evenodd;stroke:#000000;stroke-width:2.0px;stroke-linecap:butt;stroke-linejoin:miter;stroke-opacity:1\"/>\n",
       "<path class=\"bond-33 atom-31 atom-32\" d=\"M 144.3,96.4 L 154.5,88.0\" style=\"fill:none;fill-rule:evenodd;stroke:#000000;stroke-width:2.0px;stroke-linecap:butt;stroke-linejoin:miter;stroke-opacity:1\"/>\n",
       "<path class=\"bond-34 atom-30 atom-31\" d=\"M 131.8,91.8 L 144.3,96.4\" style=\"fill:none;fill-rule:evenodd;stroke:#000000;stroke-width:2.0px;stroke-linecap:butt;stroke-linejoin:miter;stroke-opacity:1\"/>\n",
       "<path class=\"bond-35 atom-33 atom-34\" d=\"M 166.9,92.7 L 177.2,84.3\" style=\"fill:none;fill-rule:evenodd;stroke:#000000;stroke-width:2.0px;stroke-linecap:butt;stroke-linejoin:miter;stroke-opacity:1\"/>\n",
       "<path class=\"bond-36 atom-32 atom-33\" d=\"M 154.5,88.0 L 166.9,92.7\" style=\"fill:none;fill-rule:evenodd;stroke:#000000;stroke-width:2.0px;stroke-linecap:butt;stroke-linejoin:miter;stroke-opacity:1\"/>\n",
       "<path class=\"bond-37 atom-35 atom-36\" d=\"M 189.6,88.9 L 191.7,102.0\" style=\"fill:none;fill-rule:evenodd;stroke:#000000;stroke-width:2.0px;stroke-linecap:butt;stroke-linejoin:miter;stroke-opacity:1\"/>\n",
       "<path class=\"bond-38 atom-36 atom-37\" d=\"M 191.7,102.0 L 181.5,110.4\" style=\"fill:none;fill-rule:evenodd;stroke:#000000;stroke-width:2.0px;stroke-linecap:butt;stroke-linejoin:miter;stroke-opacity:1\"/>\n",
       "<path class=\"bond-38 atom-36 atom-37\" d=\"M 191.9,105.3 L 184.7,111.2\" style=\"fill:none;fill-rule:evenodd;stroke:#000000;stroke-width:2.0px;stroke-linecap:butt;stroke-linejoin:miter;stroke-opacity:1\"/>\n",
       "<path class=\"bond-39 atom-37 atom-38\" d=\"M 181.5,110.4 L 183.7,123.5\" style=\"fill:none;fill-rule:evenodd;stroke:#000000;stroke-width:2.0px;stroke-linecap:butt;stroke-linejoin:miter;stroke-opacity:1\"/>\n",
       "<path class=\"bond-40 atom-38 atom-39\" d=\"M 183.7,123.5 L 196.1,128.2\" style=\"fill:none;fill-rule:evenodd;stroke:#000000;stroke-width:2.0px;stroke-linecap:butt;stroke-linejoin:miter;stroke-opacity:1\"/>\n",
       "<path class=\"bond-40 atom-38 atom-39\" d=\"M 186.5,121.7 L 195.1,125.0\" style=\"fill:none;fill-rule:evenodd;stroke:#000000;stroke-width:2.0px;stroke-linecap:butt;stroke-linejoin:miter;stroke-opacity:1\"/>\n",
       "<path class=\"bond-41 atom-39 atom-40\" d=\"M 196.1,128.2 L 206.3,119.8\" style=\"fill:none;fill-rule:evenodd;stroke:#000000;stroke-width:2.0px;stroke-linecap:butt;stroke-linejoin:miter;stroke-opacity:1\"/>\n",
       "<path class=\"bond-42 atom-40 atom-41\" d=\"M 206.3,119.8 L 204.1,106.7\" style=\"fill:none;fill-rule:evenodd;stroke:#000000;stroke-width:2.0px;stroke-linecap:butt;stroke-linejoin:miter;stroke-opacity:1\"/>\n",
       "<path class=\"bond-42 atom-40 atom-41\" d=\"M 203.4,118.2 L 201.9,109.1\" style=\"fill:none;fill-rule:evenodd;stroke:#000000;stroke-width:2.0px;stroke-linecap:butt;stroke-linejoin:miter;stroke-opacity:1\"/>\n",
       "<path class=\"bond-43 atom-41 atom-36\" d=\"M 204.1,106.7 L 191.7,102.0\" style=\"fill:none;fill-rule:evenodd;stroke:#000000;stroke-width:2.0px;stroke-linecap:butt;stroke-linejoin:miter;stroke-opacity:1\"/>\n",
       "<path class=\"bond-44 atom-34 atom-35\" d=\"M 177.2,84.3 L 189.6,88.9\" style=\"fill:none;fill-rule:evenodd;stroke:#000000;stroke-width:2.0px;stroke-linecap:butt;stroke-linejoin:miter;stroke-opacity:1\"/>\n",
       "<path class=\"bond-45 atom-42 atom-43\" d=\"M 199.8,80.5 L 212.2,85.2\" style=\"fill:none;fill-rule:evenodd;stroke:#000000;stroke-width:2.0px;stroke-linecap:butt;stroke-linejoin:miter;stroke-opacity:1\"/>\n",
       "<path class=\"bond-46 atom-35 atom-42\" d=\"M 189.6,88.9 L 199.8,80.5\" style=\"fill:none;fill-rule:evenodd;stroke:#000000;stroke-width:2.0px;stroke-linecap:butt;stroke-linejoin:miter;stroke-opacity:1\"/>\n",
       "<path class=\"bond-47 atom-44 atom-45\" d=\"M 234.9,81.4 L 222.5,76.8\" style=\"fill:none;fill-rule:evenodd;stroke:#000000;stroke-width:2.0px;stroke-linecap:butt;stroke-linejoin:miter;stroke-opacity:1\"/>\n",
       "<path class=\"bond-48 atom-43 atom-45\" d=\"M 212.2,85.2 L 222.5,76.8\" style=\"fill:none;fill-rule:evenodd;stroke:#000000;stroke-width:2.0px;stroke-linecap:butt;stroke-linejoin:miter;stroke-opacity:1\"/>\n",
       "<path class=\"bond-49 atom-46 atom-47\" d=\"M 257.5,77.7 L 245.1,73.0\" style=\"fill:none;fill-rule:evenodd;stroke:#000000;stroke-width:2.0px;stroke-linecap:butt;stroke-linejoin:miter;stroke-opacity:1\"/>\n",
       "<path class=\"bond-50 atom-44 atom-47\" d=\"M 234.9,81.4 L 245.1,73.0\" style=\"fill:none;fill-rule:evenodd;stroke:#000000;stroke-width:2.0px;stroke-linecap:butt;stroke-linejoin:miter;stroke-opacity:1\"/>\n",
       "<path class=\"bond-51 atom-48 atom-49\" d=\"M 280.2,73.9 L 267.8,69.3\" style=\"fill:none;fill-rule:evenodd;stroke:#000000;stroke-width:2.0px;stroke-linecap:butt;stroke-linejoin:miter;stroke-opacity:1\"/>\n",
       "<path class=\"bond-52 atom-46 atom-49\" d=\"M 257.5,77.7 L 267.8,69.3\" style=\"fill:none;fill-rule:evenodd;stroke:#000000;stroke-width:2.0px;stroke-linecap:butt;stroke-linejoin:miter;stroke-opacity:1\"/>\n",
       "<path class=\"bond-53 atom-50 atom-51\" d=\"M 290.4,65.5 L 302.8,70.2\" style=\"fill:none;fill-rule:evenodd;stroke:#000000;stroke-width:2.0px;stroke-linecap:butt;stroke-linejoin:miter;stroke-opacity:1\"/>\n",
       "<path class=\"bond-54 atom-48 atom-50\" d=\"M 280.2,73.9 L 290.4,65.5\" style=\"fill:none;fill-rule:evenodd;stroke:#000000;stroke-width:2.0px;stroke-linecap:butt;stroke-linejoin:miter;stroke-opacity:1\"/>\n",
       "<path class=\"bond-55 atom-52 atom-53\" d=\"M 313.1,61.7 L 325.5,66.4\" style=\"fill:none;fill-rule:evenodd;stroke:#000000;stroke-width:2.0px;stroke-linecap:butt;stroke-linejoin:miter;stroke-opacity:1\"/>\n",
       "<path class=\"bond-56 atom-51 atom-52\" d=\"M 302.8,70.2 L 313.1,61.7\" style=\"fill:none;fill-rule:evenodd;stroke:#000000;stroke-width:2.0px;stroke-linecap:butt;stroke-linejoin:miter;stroke-opacity:1\"/>\n",
       "<path class=\"bond-57 atom-54 atom-55\" d=\"M 348.1,62.7 L 335.7,58.0\" style=\"fill:none;fill-rule:evenodd;stroke:#000000;stroke-width:2.0px;stroke-linecap:butt;stroke-linejoin:miter;stroke-opacity:1\"/>\n",
       "<path class=\"bond-58 atom-53 atom-55\" d=\"M 325.5,66.4 L 335.7,58.0\" style=\"fill:none;fill-rule:evenodd;stroke:#000000;stroke-width:2.0px;stroke-linecap:butt;stroke-linejoin:miter;stroke-opacity:1\"/>\n",
       "<path class=\"bond-59 atom-56 atom-57\" d=\"M 393.4,55.2 L 381.0,50.5\" style=\"fill:none;fill-rule:evenodd;stroke:#000000;stroke-width:2.0px;stroke-linecap:butt;stroke-linejoin:miter;stroke-opacity:1\"/>\n",
       "<path class=\"bond-60 atom-57 atom-58\" d=\"M 381.0,50.5 L 370.8,58.9\" style=\"fill:none;fill-rule:evenodd;stroke:#000000;stroke-width:2.0px;stroke-linecap:butt;stroke-linejoin:miter;stroke-opacity:1\"/>\n",
       "<path class=\"bond-61 atom-58 atom-59\" d=\"M 370.8,58.9 L 358.4,54.2\" style=\"fill:none;fill-rule:evenodd;stroke:#000000;stroke-width:2.0px;stroke-linecap:butt;stroke-linejoin:miter;stroke-opacity:1\"/>\n",
       "<path class=\"bond-62 atom-58 atom-60\" d=\"M 370.8,58.9 L 373.0,72.0\" style=\"fill:none;fill-rule:evenodd;stroke:#000000;stroke-width:2.0px;stroke-linecap:butt;stroke-linejoin:miter;stroke-opacity:1\"/>\n",
       "<path class=\"bond-63 atom-60 atom-61\" d=\"M 373.0,72.0 L 385.4,76.6\" style=\"fill:none;fill-rule:evenodd;stroke:#000000;stroke-width:2.0px;stroke-linecap:butt;stroke-linejoin:miter;stroke-opacity:1\"/>\n",
       "<path class=\"bond-64 atom-54 atom-59\" d=\"M 348.1,62.7 L 358.4,54.2\" style=\"fill:none;fill-rule:evenodd;stroke:#000000;stroke-width:2.0px;stroke-linecap:butt;stroke-linejoin:miter;stroke-opacity:1\"/>\n",
       "<path class=\"bond-65 atom-62 atom-63\" d=\"M 362.7,80.4 L 363.6,85.6\" style=\"fill:none;fill-rule:evenodd;stroke:#000000;stroke-width:2.0px;stroke-linecap:butt;stroke-linejoin:miter;stroke-opacity:1\"/>\n",
       "<path class=\"bond-65 atom-62 atom-63\" d=\"M 363.6,85.6 L 364.5,90.9\" style=\"fill:none;fill-rule:evenodd;stroke:#FF0000;stroke-width:2.0px;stroke-linecap:butt;stroke-linejoin:miter;stroke-opacity:1\"/>\n",
       "<path class=\"bond-66 atom-63 atom-64\" d=\"M 362.5,95.4 L 358.6,98.7\" style=\"fill:none;fill-rule:evenodd;stroke:#FF0000;stroke-width:2.0px;stroke-linecap:butt;stroke-linejoin:miter;stroke-opacity:1\"/>\n",
       "<path class=\"bond-66 atom-63 atom-64\" d=\"M 358.6,98.7 L 354.6,101.9\" style=\"fill:none;fill-rule:evenodd;stroke:#000000;stroke-width:2.0px;stroke-linecap:butt;stroke-linejoin:miter;stroke-opacity:1\"/>\n",
       "<path class=\"bond-67 atom-60 atom-62\" d=\"M 373.0,72.0 L 362.7,80.4\" style=\"fill:none;fill-rule:evenodd;stroke:#000000;stroke-width:2.0px;stroke-linecap:butt;stroke-linejoin:miter;stroke-opacity:1\"/>\n",
       "<path class=\"bond-68 atom-65 atom-66\" d=\"M 403.7,46.7 L 408.9,48.7\" style=\"fill:none;fill-rule:evenodd;stroke:#000000;stroke-width:2.0px;stroke-linecap:butt;stroke-linejoin:miter;stroke-opacity:1\"/>\n",
       "<path class=\"bond-68 atom-65 atom-66\" d=\"M 408.9,48.7 L 414.1,50.6\" style=\"fill:none;fill-rule:evenodd;stroke:#0000FF;stroke-width:2.0px;stroke-linecap:butt;stroke-linejoin:miter;stroke-opacity:1\"/>\n",
       "<path class=\"bond-69 atom-56 atom-65\" d=\"M 393.4,55.2 L 403.7,46.7\" style=\"fill:none;fill-rule:evenodd;stroke:#000000;stroke-width:2.0px;stroke-linecap:butt;stroke-linejoin:miter;stroke-opacity:1\"/>\n",
       "<path class=\"atom-0\" d=\"M 33.8 65.4 L 35.2 67.7 Q 35.3 67.9, 35.5 68.3 Q 35.8 68.7, 35.8 68.7 L 35.8 65.4 L 36.3 65.4 L 36.3 69.7 L 35.8 69.7 L 34.3 67.2 Q 34.1 66.9, 33.9 66.6 Q 33.7 66.3, 33.7 66.2 L 33.7 69.7 L 33.1 69.7 L 33.1 65.4 L 33.8 65.4 \" fill=\"#0000FF\"/>\n",
       "<path class=\"atom-0\" d=\"M 36.8 65.4 L 37.4 65.4 L 37.4 67.2 L 39.6 67.2 L 39.6 65.4 L 40.2 65.4 L 40.2 69.7 L 39.6 69.7 L 39.6 67.7 L 37.4 67.7 L 37.4 69.7 L 36.8 69.7 L 36.8 65.4 \" fill=\"#0000FF\"/>\n",
       "<path class=\"atom-0\" d=\"M 40.7 69.5 Q 40.8 69.3, 41.0 69.1 Q 41.3 69.0, 41.6 69.0 Q 42.0 69.0, 42.3 69.2 Q 42.5 69.4, 42.5 69.8 Q 42.5 70.2, 42.2 70.6 Q 41.9 71.0, 41.3 71.5 L 42.6 71.5 L 42.6 71.8 L 40.7 71.8 L 40.7 71.5 Q 41.2 71.2, 41.5 70.9 Q 41.8 70.6, 42.0 70.4 Q 42.1 70.1, 42.1 69.9 Q 42.1 69.6, 42.0 69.4 Q 41.9 69.3, 41.6 69.3 Q 41.4 69.3, 41.2 69.4 Q 41.1 69.5, 41.0 69.7 L 40.7 69.5 \" fill=\"#0000FF\"/>\n",
       "<path class=\"atom-63\" d=\"M 362.9 93.5 Q 362.9 92.5, 363.4 91.9 Q 363.9 91.3, 364.9 91.3 Q 365.8 91.3, 366.3 91.9 Q 366.8 92.5, 366.8 93.5 Q 366.8 94.5, 366.3 95.1 Q 365.8 95.7, 364.9 95.7 Q 364.0 95.7, 363.4 95.1 Q 362.9 94.5, 362.9 93.5 M 364.9 95.2 Q 365.5 95.2, 365.9 94.8 Q 366.2 94.3, 366.2 93.5 Q 366.2 92.7, 365.9 92.2 Q 365.5 91.8, 364.9 91.8 Q 364.2 91.8, 363.9 92.2 Q 363.5 92.7, 363.5 93.5 Q 363.5 94.3, 363.9 94.8 Q 364.2 95.2, 364.9 95.2 \" fill=\"#FF0000\"/>\n",
       "<path class=\"atom-66\" d=\"M 415.2 49.3 L 416.6 51.5 Q 416.7 51.7, 416.9 52.1 Q 417.1 52.6, 417.1 52.6 L 417.1 49.3 L 417.7 49.3 L 417.7 53.5 L 417.1 53.5 L 415.6 51.1 Q 415.5 50.8, 415.3 50.4 Q 415.1 50.1, 415.0 50.0 L 415.0 53.5 L 414.5 53.5 L 414.5 49.3 L 415.2 49.3 \" fill=\"#0000FF\"/>\n",
       "<path class=\"atom-66\" d=\"M 418.2 49.3 L 418.8 49.3 L 418.8 51.1 L 421.0 51.1 L 421.0 49.3 L 421.5 49.3 L 421.5 53.5 L 421.0 53.5 L 421.0 51.6 L 418.8 51.6 L 418.8 53.5 L 418.2 53.5 L 418.2 49.3 \" fill=\"#0000FF\"/>\n",
       "<path class=\"atom-66\" d=\"M 422.1 53.4 Q 422.2 53.1, 422.4 53.0 Q 422.6 52.8, 423.0 52.8 Q 423.4 52.8, 423.6 53.0 Q 423.9 53.3, 423.9 53.7 Q 423.9 54.1, 423.6 54.5 Q 423.3 54.9, 422.6 55.3 L 423.9 55.3 L 423.9 55.6 L 422.0 55.6 L 422.0 55.4 Q 422.6 55.0, 422.9 54.7 Q 423.2 54.5, 423.3 54.2 Q 423.5 54.0, 423.5 53.7 Q 423.5 53.4, 423.4 53.3 Q 423.2 53.1, 423.0 53.1 Q 422.8 53.1, 422.6 53.2 Q 422.5 53.3, 422.4 53.5 L 422.1 53.4 \" fill=\"#0000FF\"/>\n",
       "</svg>"
      ],
      "text/plain": [
       "<IPython.core.display.SVG object>"
      ]
     },
     "execution_count": 43,
     "metadata": {},
     "output_type": "execute_result"
    }
   ],
   "source": [
    "big_smiles_gen(big)"
   ]
  },
  {
   "cell_type": "code",
   "execution_count": 44,
   "id": "d324da10",
   "metadata": {},
   "outputs": [
    {
     "data": {
      "image/svg+xml": [
       "<svg xmlns=\"http://www.w3.org/2000/svg\" xmlns:rdkit=\"http://www.rdkit.org/xml\" xmlns:xlink=\"http://www.w3.org/1999/xlink\" version=\"1.1\" baseProfile=\"full\" xml:space=\"preserve\" width=\"450px\" height=\"150px\" viewBox=\"0 0 450 150\">\n",
       "<!-- END OF HEADER -->\n",
       "<rect style=\"opacity:1.0;fill:#FFFFFF;stroke:none\" width=\"450.0\" height=\"150.0\" x=\"0.0\" y=\"0.0\"> </rect>\n",
       "<path class=\"bond-0 atom-0 atom-1\" d=\"M 124.6,122.6 L 125.1,119.6\" style=\"fill:none;fill-rule:evenodd;stroke:#0000FF;stroke-width:2.0px;stroke-linecap:butt;stroke-linejoin:miter;stroke-opacity:1\"/>\n",
       "<path class=\"bond-0 atom-0 atom-1\" d=\"M 125.1,119.6 L 125.5,116.5\" style=\"fill:none;fill-rule:evenodd;stroke:#000000;stroke-width:2.0px;stroke-linecap:butt;stroke-linejoin:miter;stroke-opacity:1\"/>\n",
       "<path class=\"bond-1 atom-2 atom-3\" d=\"M 133.5,113.4 L 134.8,105.0\" style=\"fill:none;fill-rule:evenodd;stroke:#000000;stroke-width:2.0px;stroke-linecap:butt;stroke-linejoin:miter;stroke-opacity:1\"/>\n",
       "<path class=\"bond-2 atom-1 atom-2\" d=\"M 125.5,116.5 L 133.5,113.4\" style=\"fill:none;fill-rule:evenodd;stroke:#000000;stroke-width:2.0px;stroke-linecap:butt;stroke-linejoin:miter;stroke-opacity:1\"/>\n",
       "<path class=\"bond-3 atom-4 atom-5\" d=\"M 144.0,93.4 L 142.7,101.9\" style=\"fill:none;fill-rule:evenodd;stroke:#000000;stroke-width:2.0px;stroke-linecap:butt;stroke-linejoin:miter;stroke-opacity:1\"/>\n",
       "<path class=\"bond-4 atom-3 atom-5\" d=\"M 134.8,105.0 L 142.7,101.9\" style=\"fill:none;fill-rule:evenodd;stroke:#000000;stroke-width:2.0px;stroke-linecap:butt;stroke-linejoin:miter;stroke-opacity:1\"/>\n",
       "<path class=\"bond-5 atom-6 atom-7\" d=\"M 151.9,90.3 L 153.2,81.9\" style=\"fill:none;fill-rule:evenodd;stroke:#000000;stroke-width:2.0px;stroke-linecap:butt;stroke-linejoin:miter;stroke-opacity:1\"/>\n",
       "<path class=\"bond-6 atom-4 atom-6\" d=\"M 144.0,93.4 L 151.9,90.3\" style=\"fill:none;fill-rule:evenodd;stroke:#000000;stroke-width:2.0px;stroke-linecap:butt;stroke-linejoin:miter;stroke-opacity:1\"/>\n",
       "<path class=\"bond-7 atom-8 atom-9\" d=\"M 147.8,68.1 L 155.8,65.0\" style=\"fill:none;fill-rule:evenodd;stroke:#000000;stroke-width:2.0px;stroke-linecap:butt;stroke-linejoin:miter;stroke-opacity:1\"/>\n",
       "<path class=\"bond-8 atom-9 atom-10\" d=\"M 155.8,65.0 L 162.5,70.3\" style=\"fill:none;fill-rule:evenodd;stroke:#000000;stroke-width:2.0px;stroke-linecap:butt;stroke-linejoin:miter;stroke-opacity:1\"/>\n",
       "<path class=\"bond-9 atom-10 atom-11\" d=\"M 162.5,70.3 L 161.2,78.8\" style=\"fill:none;fill-rule:evenodd;stroke:#000000;stroke-width:2.0px;stroke-linecap:butt;stroke-linejoin:miter;stroke-opacity:1\"/>\n",
       "<path class=\"bond-10 atom-10 atom-12\" d=\"M 162.5,70.3 L 170.4,67.2\" style=\"fill:none;fill-rule:evenodd;stroke:#000000;stroke-width:2.0px;stroke-linecap:butt;stroke-linejoin:miter;stroke-opacity:1\"/>\n",
       "<path class=\"bond-11 atom-12 atom-13\" d=\"M 170.4,67.2 L 171.7,58.8\" style=\"fill:none;fill-rule:evenodd;stroke:#000000;stroke-width:2.0px;stroke-linecap:butt;stroke-linejoin:miter;stroke-opacity:1\"/>\n",
       "<path class=\"bond-12 atom-7 atom-11\" d=\"M 153.2,81.9 L 161.2,78.8\" style=\"fill:none;fill-rule:evenodd;stroke:#000000;stroke-width:2.0px;stroke-linecap:butt;stroke-linejoin:miter;stroke-opacity:1\"/>\n",
       "<path class=\"bond-13 atom-14 atom-15\" d=\"M 175.8,81.0 L 177.1,72.6\" style=\"fill:none;fill-rule:evenodd;stroke:#000000;stroke-width:2.0px;stroke-linecap:butt;stroke-linejoin:miter;stroke-opacity:1\"/>\n",
       "<path class=\"bond-14 atom-12 atom-15\" d=\"M 170.4,67.2 L 177.1,72.6\" style=\"fill:none;fill-rule:evenodd;stroke:#000000;stroke-width:2.0px;stroke-linecap:butt;stroke-linejoin:miter;stroke-opacity:1\"/>\n",
       "<path class=\"bond-15 atom-16 atom-17\" d=\"M 182.5,86.3 L 181.2,94.8\" style=\"fill:none;fill-rule:evenodd;stroke:#000000;stroke-width:2.0px;stroke-linecap:butt;stroke-linejoin:miter;stroke-opacity:1\"/>\n",
       "<path class=\"bond-16 atom-14 atom-16\" d=\"M 175.8,81.0 L 182.5,86.3\" style=\"fill:none;fill-rule:evenodd;stroke:#000000;stroke-width:2.0px;stroke-linecap:butt;stroke-linejoin:miter;stroke-opacity:1\"/>\n",
       "<path class=\"bond-17 atom-18 atom-19\" d=\"M 187.8,100.1 L 186.6,108.5\" style=\"fill:none;fill-rule:evenodd;stroke:#000000;stroke-width:2.0px;stroke-linecap:butt;stroke-linejoin:miter;stroke-opacity:1\"/>\n",
       "<path class=\"bond-18 atom-19 atom-20\" d=\"M 186.6,108.5 L 193.2,113.9\" style=\"fill:none;fill-rule:evenodd;stroke:#000000;stroke-width:2.0px;stroke-linecap:butt;stroke-linejoin:miter;stroke-opacity:1\"/>\n",
       "<path class=\"bond-18 atom-19 atom-20\" d=\"M 186.5,110.7 L 191.2,114.4\" style=\"fill:none;fill-rule:evenodd;stroke:#000000;stroke-width:2.0px;stroke-linecap:butt;stroke-linejoin:miter;stroke-opacity:1\"/>\n",
       "<path class=\"bond-19 atom-20 atom-21\" d=\"M 193.2,113.9 L 192.0,122.3\" style=\"fill:none;fill-rule:evenodd;stroke:#000000;stroke-width:2.0px;stroke-linecap:butt;stroke-linejoin:miter;stroke-opacity:1\"/>\n",
       "<path class=\"bond-20 atom-21 atom-22\" d=\"M 192.0,122.3 L 184.0,125.4\" style=\"fill:none;fill-rule:evenodd;stroke:#000000;stroke-width:2.0px;stroke-linecap:butt;stroke-linejoin:miter;stroke-opacity:1\"/>\n",
       "<path class=\"bond-20 atom-21 atom-22\" d=\"M 190.1,121.2 L 184.6,123.4\" style=\"fill:none;fill-rule:evenodd;stroke:#000000;stroke-width:2.0px;stroke-linecap:butt;stroke-linejoin:miter;stroke-opacity:1\"/>\n",
       "<path class=\"bond-21 atom-22 atom-23\" d=\"M 184.0,125.4 L 177.3,120.1\" style=\"fill:none;fill-rule:evenodd;stroke:#000000;stroke-width:2.0px;stroke-linecap:butt;stroke-linejoin:miter;stroke-opacity:1\"/>\n",
       "<path class=\"bond-22 atom-23 atom-24\" d=\"M 177.3,120.1 L 178.6,111.7\" style=\"fill:none;fill-rule:evenodd;stroke:#000000;stroke-width:2.0px;stroke-linecap:butt;stroke-linejoin:miter;stroke-opacity:1\"/>\n",
       "<path class=\"bond-22 atom-23 atom-24\" d=\"M 179.2,119.1 L 180.1,113.2\" style=\"fill:none;fill-rule:evenodd;stroke:#000000;stroke-width:2.0px;stroke-linecap:butt;stroke-linejoin:miter;stroke-opacity:1\"/>\n",
       "<path class=\"bond-23 atom-24 atom-19\" d=\"M 178.6,111.7 L 186.6,108.5\" style=\"fill:none;fill-rule:evenodd;stroke:#000000;stroke-width:2.0px;stroke-linecap:butt;stroke-linejoin:miter;stroke-opacity:1\"/>\n",
       "<path class=\"bond-24 atom-17 atom-18\" d=\"M 181.2,94.8 L 187.8,100.1\" style=\"fill:none;fill-rule:evenodd;stroke:#000000;stroke-width:2.0px;stroke-linecap:butt;stroke-linejoin:miter;stroke-opacity:1\"/>\n",
       "<path class=\"bond-25 atom-25 atom-26\" d=\"M 195.8,97.0 L 197.1,88.6\" style=\"fill:none;fill-rule:evenodd;stroke:#000000;stroke-width:2.0px;stroke-linecap:butt;stroke-linejoin:miter;stroke-opacity:1\"/>\n",
       "<path class=\"bond-26 atom-26 atom-27\" d=\"M 197.1,88.6 L 190.4,83.2\" style=\"fill:none;fill-rule:evenodd;stroke:#000000;stroke-width:2.0px;stroke-linecap:butt;stroke-linejoin:miter;stroke-opacity:1\"/>\n",
       "<path class=\"bond-26 atom-26 atom-27\" d=\"M 197.1,86.4 L 192.5,82.7\" style=\"fill:none;fill-rule:evenodd;stroke:#000000;stroke-width:2.0px;stroke-linecap:butt;stroke-linejoin:miter;stroke-opacity:1\"/>\n",
       "<path class=\"bond-27 atom-27 atom-28\" d=\"M 190.4,83.2 L 191.7,74.8\" style=\"fill:none;fill-rule:evenodd;stroke:#000000;stroke-width:2.0px;stroke-linecap:butt;stroke-linejoin:miter;stroke-opacity:1\"/>\n",
       "<path class=\"bond-28 atom-28 atom-29\" d=\"M 191.7,74.8 L 199.6,71.7\" style=\"fill:none;fill-rule:evenodd;stroke:#000000;stroke-width:2.0px;stroke-linecap:butt;stroke-linejoin:miter;stroke-opacity:1\"/>\n",
       "<path class=\"bond-28 atom-28 atom-29\" d=\"M 193.5,75.9 L 199.1,73.7\" style=\"fill:none;fill-rule:evenodd;stroke:#000000;stroke-width:2.0px;stroke-linecap:butt;stroke-linejoin:miter;stroke-opacity:1\"/>\n",
       "<path class=\"bond-29 atom-29 atom-30\" d=\"M 199.6,71.7 L 206.3,77.0\" style=\"fill:none;fill-rule:evenodd;stroke:#000000;stroke-width:2.0px;stroke-linecap:butt;stroke-linejoin:miter;stroke-opacity:1\"/>\n",
       "<path class=\"bond-30 atom-30 atom-31\" d=\"M 206.3,77.0 L 205.0,85.4\" style=\"fill:none;fill-rule:evenodd;stroke:#000000;stroke-width:2.0px;stroke-linecap:butt;stroke-linejoin:miter;stroke-opacity:1\"/>\n",
       "<path class=\"bond-30 atom-30 atom-31\" d=\"M 204.4,78.0 L 203.5,83.9\" style=\"fill:none;fill-rule:evenodd;stroke:#000000;stroke-width:2.0px;stroke-linecap:butt;stroke-linejoin:miter;stroke-opacity:1\"/>\n",
       "<path class=\"bond-31 atom-31 atom-26\" d=\"M 205.0,85.4 L 197.1,88.6\" style=\"fill:none;fill-rule:evenodd;stroke:#000000;stroke-width:2.0px;stroke-linecap:butt;stroke-linejoin:miter;stroke-opacity:1\"/>\n",
       "<path class=\"bond-32 atom-18 atom-25\" d=\"M 187.8,100.1 L 195.8,97.0\" style=\"fill:none;fill-rule:evenodd;stroke:#000000;stroke-width:2.0px;stroke-linecap:butt;stroke-linejoin:miter;stroke-opacity:1\"/>\n",
       "<path class=\"bond-33 atom-32 atom-33\" d=\"M 225.0,101.4 L 217.1,104.5\" style=\"fill:none;fill-rule:evenodd;stroke:#000000;stroke-width:2.0px;stroke-linecap:butt;stroke-linejoin:miter;stroke-opacity:1\"/>\n",
       "<path class=\"bond-34 atom-33 atom-34\" d=\"M 217.1,104.5 L 210.4,99.2\" style=\"fill:none;fill-rule:evenodd;stroke:#000000;stroke-width:2.0px;stroke-linecap:butt;stroke-linejoin:miter;stroke-opacity:1\"/>\n",
       "<path class=\"bond-35 atom-34 atom-35\" d=\"M 210.4,99.2 L 211.7,90.8\" style=\"fill:none;fill-rule:evenodd;stroke:#000000;stroke-width:2.0px;stroke-linecap:butt;stroke-linejoin:miter;stroke-opacity:1\"/>\n",
       "<path class=\"bond-36 atom-34 atom-36\" d=\"M 210.4,99.2 L 202.5,102.3\" style=\"fill:none;fill-rule:evenodd;stroke:#000000;stroke-width:2.0px;stroke-linecap:butt;stroke-linejoin:miter;stroke-opacity:1\"/>\n",
       "<path class=\"bond-37 atom-36 atom-37\" d=\"M 202.5,102.3 L 201.2,110.8\" style=\"fill:none;fill-rule:evenodd;stroke:#000000;stroke-width:2.0px;stroke-linecap:butt;stroke-linejoin:miter;stroke-opacity:1\"/>\n",
       "<path class=\"bond-38 atom-25 atom-36\" d=\"M 195.8,97.0 L 202.5,102.3\" style=\"fill:none;fill-rule:evenodd;stroke:#000000;stroke-width:2.0px;stroke-linecap:butt;stroke-linejoin:miter;stroke-opacity:1\"/>\n",
       "<path class=\"bond-39 atom-38 atom-39\" d=\"M 219.6,87.7 L 220.9,79.2\" style=\"fill:none;fill-rule:evenodd;stroke:#000000;stroke-width:2.0px;stroke-linecap:butt;stroke-linejoin:miter;stroke-opacity:1\"/>\n",
       "<path class=\"bond-40 atom-35 atom-38\" d=\"M 211.7,90.8 L 219.6,87.7\" style=\"fill:none;fill-rule:evenodd;stroke:#000000;stroke-width:2.0px;stroke-linecap:butt;stroke-linejoin:miter;stroke-opacity:1\"/>\n",
       "<path class=\"bond-41 atom-40 atom-41\" d=\"M 231.7,106.8 L 239.7,103.7\" style=\"fill:none;fill-rule:evenodd;stroke:#000000;stroke-width:2.0px;stroke-linecap:butt;stroke-linejoin:miter;stroke-opacity:1\"/>\n",
       "<path class=\"bond-42 atom-32 atom-40\" d=\"M 225.0,101.4 L 231.7,106.8\" style=\"fill:none;fill-rule:evenodd;stroke:#000000;stroke-width:2.0px;stroke-linecap:butt;stroke-linejoin:miter;stroke-opacity:1\"/>\n",
       "<path class=\"bond-43 atom-42 atom-43\" d=\"M 246.3,109.0 L 254.3,105.9\" style=\"fill:none;fill-rule:evenodd;stroke:#000000;stroke-width:2.0px;stroke-linecap:butt;stroke-linejoin:miter;stroke-opacity:1\"/>\n",
       "<path class=\"bond-44 atom-41 atom-42\" d=\"M 239.7,103.7 L 246.3,109.0\" style=\"fill:none;fill-rule:evenodd;stroke:#000000;stroke-width:2.0px;stroke-linecap:butt;stroke-linejoin:miter;stroke-opacity:1\"/>\n",
       "<path class=\"bond-45 atom-44 atom-45\" d=\"M 268.9,108.1 L 260.9,111.2\" style=\"fill:none;fill-rule:evenodd;stroke:#000000;stroke-width:2.0px;stroke-linecap:butt;stroke-linejoin:miter;stroke-opacity:1\"/>\n",
       "<path class=\"bond-46 atom-43 atom-45\" d=\"M 254.3,105.9 L 260.9,111.2\" style=\"fill:none;fill-rule:evenodd;stroke:#000000;stroke-width:2.0px;stroke-linecap:butt;stroke-linejoin:miter;stroke-opacity:1\"/>\n",
       "<path class=\"bond-47 atom-46 atom-47\" d=\"M 275.6,113.4 L 283.5,110.3\" style=\"fill:none;fill-rule:evenodd;stroke:#000000;stroke-width:2.0px;stroke-linecap:butt;stroke-linejoin:miter;stroke-opacity:1\"/>\n",
       "<path class=\"bond-48 atom-44 atom-46\" d=\"M 268.9,108.1 L 275.6,113.4\" style=\"fill:none;fill-rule:evenodd;stroke:#000000;stroke-width:2.0px;stroke-linecap:butt;stroke-linejoin:miter;stroke-opacity:1\"/>\n",
       "<path class=\"bond-49 atom-48 atom-49\" d=\"M 228.9,76.1 L 230.2,67.7\" style=\"fill:none;fill-rule:evenodd;stroke:#000000;stroke-width:2.0px;stroke-linecap:butt;stroke-linejoin:miter;stroke-opacity:1\"/>\n",
       "<path class=\"bond-50 atom-39 atom-48\" d=\"M 220.9,79.2 L 228.9,76.1\" style=\"fill:none;fill-rule:evenodd;stroke:#000000;stroke-width:2.0px;stroke-linecap:butt;stroke-linejoin:miter;stroke-opacity:1\"/>\n",
       "<path class=\"bond-51 atom-50 atom-51\" d=\"M 239.4,56.1 L 238.1,64.6\" style=\"fill:none;fill-rule:evenodd;stroke:#000000;stroke-width:2.0px;stroke-linecap:butt;stroke-linejoin:miter;stroke-opacity:1\"/>\n",
       "<path class=\"bond-52 atom-49 atom-51\" d=\"M 230.2,67.7 L 238.1,64.6\" style=\"fill:none;fill-rule:evenodd;stroke:#000000;stroke-width:2.0px;stroke-linecap:butt;stroke-linejoin:miter;stroke-opacity:1\"/>\n",
       "<path class=\"bond-53 atom-52 atom-53\" d=\"M 247.3,53.0 L 248.6,44.6\" style=\"fill:none;fill-rule:evenodd;stroke:#000000;stroke-width:2.0px;stroke-linecap:butt;stroke-linejoin:miter;stroke-opacity:1\"/>\n",
       "<path class=\"bond-54 atom-50 atom-52\" d=\"M 239.4,56.1 L 247.3,53.0\" style=\"fill:none;fill-rule:evenodd;stroke:#000000;stroke-width:2.0px;stroke-linecap:butt;stroke-linejoin:miter;stroke-opacity:1\"/>\n",
       "<path class=\"bond-55 atom-54 atom-55\" d=\"M 298.1,112.5 L 290.2,115.6\" style=\"fill:none;fill-rule:evenodd;stroke:#000000;stroke-width:2.0px;stroke-linecap:butt;stroke-linejoin:miter;stroke-opacity:1\"/>\n",
       "<path class=\"bond-56 atom-47 atom-55\" d=\"M 283.5,110.3 L 290.2,115.6\" style=\"fill:none;fill-rule:evenodd;stroke:#000000;stroke-width:2.0px;stroke-linecap:butt;stroke-linejoin:miter;stroke-opacity:1\"/>\n",
       "<path class=\"bond-57 atom-56 atom-57\" d=\"M 304.8,117.9 L 303.5,126.3\" style=\"fill:none;fill-rule:evenodd;stroke:#000000;stroke-width:2.0px;stroke-linecap:butt;stroke-linejoin:miter;stroke-opacity:1\"/>\n",
       "<path class=\"bond-58 atom-57 atom-58\" d=\"M 303.5,126.3 L 295.6,129.4\" style=\"fill:none;fill-rule:evenodd;stroke:#000000;stroke-width:2.0px;stroke-linecap:butt;stroke-linejoin:miter;stroke-opacity:1\"/>\n",
       "<path class=\"bond-58 atom-57 atom-58\" d=\"M 302.9,128.4 L 297.4,130.5\" style=\"fill:none;fill-rule:evenodd;stroke:#000000;stroke-width:2.0px;stroke-linecap:butt;stroke-linejoin:miter;stroke-opacity:1\"/>\n",
       "<path class=\"bond-59 atom-58 atom-59\" d=\"M 295.6,129.4 L 294.3,137.9\" style=\"fill:none;fill-rule:evenodd;stroke:#000000;stroke-width:2.0px;stroke-linecap:butt;stroke-linejoin:miter;stroke-opacity:1\"/>\n",
       "<path class=\"bond-60 atom-59 atom-60\" d=\"M 294.3,137.9 L 300.9,143.2\" style=\"fill:none;fill-rule:evenodd;stroke:#000000;stroke-width:2.0px;stroke-linecap:butt;stroke-linejoin:miter;stroke-opacity:1\"/>\n",
       "<path class=\"bond-60 atom-59 atom-60\" d=\"M 296.3,137.3 L 301.0,141.0\" style=\"fill:none;fill-rule:evenodd;stroke:#000000;stroke-width:2.0px;stroke-linecap:butt;stroke-linejoin:miter;stroke-opacity:1\"/>\n",
       "<path class=\"bond-61 atom-60 atom-61\" d=\"M 300.9,143.2 L 308.9,140.1\" style=\"fill:none;fill-rule:evenodd;stroke:#000000;stroke-width:2.0px;stroke-linecap:butt;stroke-linejoin:miter;stroke-opacity:1\"/>\n",
       "<path class=\"bond-62 atom-61 atom-62\" d=\"M 308.9,140.1 L 310.2,131.6\" style=\"fill:none;fill-rule:evenodd;stroke:#000000;stroke-width:2.0px;stroke-linecap:butt;stroke-linejoin:miter;stroke-opacity:1\"/>\n",
       "<path class=\"bond-62 atom-61 atom-62\" d=\"M 307.4,138.5 L 308.3,132.6\" style=\"fill:none;fill-rule:evenodd;stroke:#000000;stroke-width:2.0px;stroke-linecap:butt;stroke-linejoin:miter;stroke-opacity:1\"/>\n",
       "<path class=\"bond-63 atom-62 atom-57\" d=\"M 310.2,131.6 L 303.5,126.3\" style=\"fill:none;fill-rule:evenodd;stroke:#000000;stroke-width:2.0px;stroke-linecap:butt;stroke-linejoin:miter;stroke-opacity:1\"/>\n",
       "<path class=\"bond-64 atom-54 atom-56\" d=\"M 298.1,112.5 L 304.8,117.9\" style=\"fill:none;fill-rule:evenodd;stroke:#000000;stroke-width:2.0px;stroke-linecap:butt;stroke-linejoin:miter;stroke-opacity:1\"/>\n",
       "<path class=\"bond-65 atom-63 atom-64\" d=\"M 256.6,41.5 L 257.9,33.0\" style=\"fill:none;fill-rule:evenodd;stroke:#000000;stroke-width:2.0px;stroke-linecap:butt;stroke-linejoin:miter;stroke-opacity:1\"/>\n",
       "<path class=\"bond-66 atom-64 atom-65\" d=\"M 257.9,33.0 L 265.8,29.9\" style=\"fill:none;fill-rule:evenodd;stroke:#000000;stroke-width:2.0px;stroke-linecap:butt;stroke-linejoin:miter;stroke-opacity:1\"/>\n",
       "<path class=\"bond-67 atom-65 atom-66\" d=\"M 265.8,29.9 L 267.1,21.5\" style=\"fill:none;fill-rule:evenodd;stroke:#000000;stroke-width:2.0px;stroke-linecap:butt;stroke-linejoin:miter;stroke-opacity:1\"/>\n",
       "<path class=\"bond-68 atom-65 atom-67\" d=\"M 265.8,29.9 L 272.5,35.2\" style=\"fill:none;fill-rule:evenodd;stroke:#000000;stroke-width:2.0px;stroke-linecap:butt;stroke-linejoin:miter;stroke-opacity:1\"/>\n",
       "<path class=\"bond-69 atom-67 atom-68\" d=\"M 272.5,35.2 L 280.4,32.1\" style=\"fill:none;fill-rule:evenodd;stroke:#000000;stroke-width:2.0px;stroke-linecap:butt;stroke-linejoin:miter;stroke-opacity:1\"/>\n",
       "<path class=\"bond-70 atom-53 atom-63\" d=\"M 248.6,44.6 L 256.6,41.5\" style=\"fill:none;fill-rule:evenodd;stroke:#000000;stroke-width:2.0px;stroke-linecap:butt;stroke-linejoin:miter;stroke-opacity:1\"/>\n",
       "<path class=\"bond-71 atom-69 atom-70\" d=\"M 271.2,43.7 L 273.4,45.5\" style=\"fill:none;fill-rule:evenodd;stroke:#000000;stroke-width:2.0px;stroke-linecap:butt;stroke-linejoin:miter;stroke-opacity:1\"/>\n",
       "<path class=\"bond-71 atom-69 atom-70\" d=\"M 273.4,45.5 L 275.6,47.2\" style=\"fill:none;fill-rule:evenodd;stroke:#FF0000;stroke-width:2.0px;stroke-linecap:butt;stroke-linejoin:miter;stroke-opacity:1\"/>\n",
       "<path class=\"bond-72 atom-70 atom-71\" d=\"M 277.5,51.5 L 277.0,54.5\" style=\"fill:none;fill-rule:evenodd;stroke:#FF0000;stroke-width:2.0px;stroke-linecap:butt;stroke-linejoin:miter;stroke-opacity:1\"/>\n",
       "<path class=\"bond-72 atom-70 atom-71\" d=\"M 277.0,54.5 L 276.6,57.5\" style=\"fill:none;fill-rule:evenodd;stroke:#000000;stroke-width:2.0px;stroke-linecap:butt;stroke-linejoin:miter;stroke-opacity:1\"/>\n",
       "<path class=\"bond-73 atom-67 atom-69\" d=\"M 272.5,35.2 L 271.2,43.7\" style=\"fill:none;fill-rule:evenodd;stroke:#000000;stroke-width:2.0px;stroke-linecap:butt;stroke-linejoin:miter;stroke-opacity:1\"/>\n",
       "<path class=\"bond-74 atom-72 atom-73\" d=\"M 312.7,114.8 L 315.0,116.5\" style=\"fill:none;fill-rule:evenodd;stroke:#000000;stroke-width:2.0px;stroke-linecap:butt;stroke-linejoin:miter;stroke-opacity:1\"/>\n",
       "<path class=\"bond-74 atom-72 atom-73\" d=\"M 315.0,116.5 L 317.2,118.3\" style=\"fill:none;fill-rule:evenodd;stroke:#FF0000;stroke-width:2.0px;stroke-linecap:butt;stroke-linejoin:miter;stroke-opacity:1\"/>\n",
       "<path class=\"bond-75 atom-73 atom-74\" d=\"M 321.6,119.2 L 324.5,118.1\" style=\"fill:none;fill-rule:evenodd;stroke:#FF0000;stroke-width:2.0px;stroke-linecap:butt;stroke-linejoin:miter;stroke-opacity:1\"/>\n",
       "<path class=\"bond-75 atom-73 atom-74\" d=\"M 324.5,118.1 L 327.4,117.0\" style=\"fill:none;fill-rule:evenodd;stroke:#000000;stroke-width:2.0px;stroke-linecap:butt;stroke-linejoin:miter;stroke-opacity:1\"/>\n",
       "<path class=\"bond-76 atom-56 atom-72\" d=\"M 304.8,117.9 L 312.7,114.8\" style=\"fill:none;fill-rule:evenodd;stroke:#000000;stroke-width:2.0px;stroke-linecap:butt;stroke-linejoin:miter;stroke-opacity:1\"/>\n",
       "<path class=\"bond-77 atom-75 atom-76\" d=\"M 275.0,18.4 L 275.5,15.4\" style=\"fill:none;fill-rule:evenodd;stroke:#000000;stroke-width:2.0px;stroke-linecap:butt;stroke-linejoin:miter;stroke-opacity:1\"/>\n",
       "<path class=\"bond-77 atom-75 atom-76\" d=\"M 275.5,15.4 L 275.9,12.4\" style=\"fill:none;fill-rule:evenodd;stroke:#FF0000;stroke-width:2.0px;stroke-linecap:butt;stroke-linejoin:miter;stroke-opacity:1\"/>\n",
       "<path class=\"bond-78 atom-76 atom-77\" d=\"M 278.5,9.1 L 281.4,7.9\" style=\"fill:none;fill-rule:evenodd;stroke:#FF0000;stroke-width:2.0px;stroke-linecap:butt;stroke-linejoin:miter;stroke-opacity:1\"/>\n",
       "<path class=\"bond-78 atom-76 atom-77\" d=\"M 281.4,7.9 L 284.3,6.8\" style=\"fill:none;fill-rule:evenodd;stroke:#000000;stroke-width:2.0px;stroke-linecap:butt;stroke-linejoin:miter;stroke-opacity:1\"/>\n",
       "<path class=\"bond-79 atom-66 atom-75\" d=\"M 267.1,21.5 L 275.0,18.4\" style=\"fill:none;fill-rule:evenodd;stroke:#000000;stroke-width:2.0px;stroke-linecap:butt;stroke-linejoin:miter;stroke-opacity:1\"/>\n",
       "<path class=\"bond-80 atom-78 atom-79\" d=\"M 141.2,62.8 L 138.1,64.0\" style=\"fill:none;fill-rule:evenodd;stroke:#000000;stroke-width:2.0px;stroke-linecap:butt;stroke-linejoin:miter;stroke-opacity:1\"/>\n",
       "<path class=\"bond-80 atom-78 atom-79\" d=\"M 138.1,64.0 L 135.1,65.2\" style=\"fill:none;fill-rule:evenodd;stroke:#0000FF;stroke-width:2.0px;stroke-linecap:butt;stroke-linejoin:miter;stroke-opacity:1\"/>\n",
       "<path class=\"bond-81 atom-8 atom-78\" d=\"M 147.8,68.1 L 141.2,62.8\" style=\"fill:none;fill-rule:evenodd;stroke:#000000;stroke-width:2.0px;stroke-linecap:butt;stroke-linejoin:miter;stroke-opacity:1\"/>\n",
       "<path class=\"atom-0\" d=\"M 123.3 122.9 L 124.7 125.1 Q 124.8 125.3, 125.1 125.7 Q 125.3 126.1, 125.3 126.2 L 125.3 122.9 L 125.9 122.9 L 125.9 127.1 L 125.3 127.1 L 123.8 124.6 Q 123.6 124.4, 123.4 124.0 Q 123.2 123.7, 123.2 123.6 L 123.2 127.1 L 122.6 127.1 L 122.6 122.9 L 123.3 122.9 \" fill=\"#0000FF\"/>\n",
       "<path class=\"atom-0\" d=\"M 126.4 122.9 L 126.9 122.9 L 126.9 124.7 L 129.1 124.7 L 129.1 122.9 L 129.7 122.9 L 129.7 127.1 L 129.1 127.1 L 129.1 125.1 L 126.9 125.1 L 126.9 127.1 L 126.4 127.1 L 126.4 122.9 \" fill=\"#0000FF\"/>\n",
       "<path class=\"atom-0\" d=\"M 130.2 127.0 Q 130.3 126.7, 130.6 126.5 Q 130.8 126.4, 131.1 126.4 Q 131.6 126.4, 131.8 126.6 Q 132.0 126.9, 132.0 127.3 Q 132.0 127.7, 131.7 128.1 Q 131.4 128.5, 130.8 128.9 L 132.1 128.9 L 132.1 129.2 L 130.2 129.2 L 130.2 129.0 Q 130.7 128.6, 131.0 128.3 Q 131.3 128.0, 131.5 127.8 Q 131.6 127.5, 131.6 127.3 Q 131.6 127.0, 131.5 126.9 Q 131.4 126.7, 131.1 126.7 Q 130.9 126.7, 130.8 126.8 Q 130.6 126.9, 130.5 127.1 L 130.2 127.0 \" fill=\"#0000FF\"/>\n",
       "<path class=\"atom-70\" d=\"M 275.9 49.0 Q 275.9 48.0, 276.4 47.4 Q 276.9 46.9, 277.9 46.9 Q 278.8 46.9, 279.3 47.4 Q 279.8 48.0, 279.8 49.0 Q 279.8 50.1, 279.3 50.6 Q 278.8 51.2, 277.9 51.2 Q 276.9 51.2, 276.4 50.6 Q 275.9 50.1, 275.9 49.0 M 277.9 50.8 Q 278.5 50.8, 278.9 50.3 Q 279.2 49.9, 279.2 49.0 Q 279.2 48.2, 278.9 47.8 Q 278.5 47.3, 277.9 47.3 Q 277.2 47.3, 276.9 47.8 Q 276.5 48.2, 276.5 49.0 Q 276.5 49.9, 276.9 50.3 Q 277.2 50.8, 277.9 50.8 \" fill=\"#FF0000\"/>\n",
       "<path class=\"atom-73\" d=\"M 317.5 120.1 Q 317.5 119.1, 318.0 118.5 Q 318.5 117.9, 319.4 117.9 Q 320.4 117.9, 320.9 118.5 Q 321.4 119.1, 321.4 120.1 Q 321.4 121.1, 320.9 121.7 Q 320.3 122.3, 319.4 122.3 Q 318.5 122.3, 318.0 121.7 Q 317.5 121.1, 317.5 120.1 M 319.4 121.8 Q 320.1 121.8, 320.4 121.4 Q 320.8 120.9, 320.8 120.1 Q 320.8 119.3, 320.4 118.8 Q 320.1 118.4, 319.4 118.4 Q 318.8 118.4, 318.4 118.8 Q 318.1 119.3, 318.1 120.1 Q 318.1 121.0, 318.4 121.4 Q 318.8 121.8, 319.4 121.8 \" fill=\"#FF0000\"/>\n",
       "<path class=\"atom-76\" d=\"M 274.4 9.9 Q 274.4 8.9, 274.9 8.4 Q 275.4 7.8, 276.3 7.8 Q 277.3 7.8, 277.8 8.4 Q 278.3 8.9, 278.3 9.9 Q 278.3 11.0, 277.8 11.6 Q 277.2 12.1, 276.3 12.1 Q 275.4 12.1, 274.9 11.6 Q 274.4 11.0, 274.4 9.9 M 276.3 11.7 Q 277.0 11.7, 277.3 11.2 Q 277.7 10.8, 277.7 9.9 Q 277.7 9.1, 277.3 8.7 Q 277.0 8.3, 276.3 8.3 Q 275.7 8.3, 275.3 8.7 Q 275.0 9.1, 275.0 9.9 Q 275.0 10.8, 275.3 11.2 Q 275.7 11.7, 276.3 11.7 \" fill=\"#FF0000\"/>\n",
       "<path class=\"atom-79\" d=\"M 125.7 63.8 L 126.2 63.8 L 126.2 65.6 L 128.4 65.6 L 128.4 63.8 L 129.0 63.8 L 129.0 68.0 L 128.4 68.0 L 128.4 66.1 L 126.2 66.1 L 126.2 68.0 L 125.7 68.0 L 125.7 63.8 \" fill=\"#0000FF\"/>\n",
       "<path class=\"atom-79\" d=\"M 129.5 67.9 Q 129.6 67.6, 129.8 67.5 Q 130.1 67.3, 130.4 67.3 Q 130.9 67.3, 131.1 67.6 Q 131.3 67.8, 131.3 68.2 Q 131.3 68.6, 131.0 69.0 Q 130.7 69.4, 130.1 69.8 L 131.4 69.8 L 131.4 70.2 L 129.5 70.2 L 129.5 69.9 Q 130.0 69.5, 130.3 69.2 Q 130.6 69.0, 130.8 68.7 Q 130.9 68.5, 130.9 68.2 Q 130.9 67.9, 130.8 67.8 Q 130.7 67.6, 130.4 67.6 Q 130.2 67.6, 130.1 67.7 Q 129.9 67.8, 129.8 68.0 L 129.5 67.9 \" fill=\"#0000FF\"/>\n",
       "<path class=\"atom-79\" d=\"M 132.3 63.8 L 133.7 66.0 Q 133.8 66.3, 134.0 66.7 Q 134.3 67.1, 134.3 67.1 L 134.3 63.8 L 134.8 63.8 L 134.8 68.0 L 134.3 68.0 L 132.8 65.6 Q 132.6 65.3, 132.4 65.0 Q 132.2 64.6, 132.2 64.5 L 132.2 68.0 L 131.6 68.0 L 131.6 63.8 L 132.3 63.8 \" fill=\"#0000FF\"/>\n",
       "</svg>"
      ],
      "text/plain": [
       "<IPython.core.display.SVG object>"
      ]
     },
     "execution_count": 44,
     "metadata": {},
     "output_type": "execute_result"
    }
   ],
   "source": [
    "big_smiles_gen(big)"
   ]
  },
  {
   "cell_type": "code",
   "execution_count": 45,
   "id": "692ceb8e",
   "metadata": {},
   "outputs": [
    {
     "data": {
      "image/svg+xml": [
       "<svg xmlns=\"http://www.w3.org/2000/svg\" xmlns:rdkit=\"http://www.rdkit.org/xml\" xmlns:xlink=\"http://www.w3.org/1999/xlink\" version=\"1.1\" baseProfile=\"full\" xml:space=\"preserve\" width=\"450px\" height=\"150px\" viewBox=\"0 0 450 150\">\n",
       "<!-- END OF HEADER -->\n",
       "<rect style=\"opacity:1.0;fill:#FFFFFF;stroke:none\" width=\"450.0\" height=\"150.0\" x=\"0.0\" y=\"0.0\"> </rect>\n",
       "<path class=\"bond-0 atom-0 atom-1\" d=\"M 78.0,67.0 L 77.4,70.5\" style=\"fill:none;fill-rule:evenodd;stroke:#0000FF;stroke-width:2.0px;stroke-linecap:butt;stroke-linejoin:miter;stroke-opacity:1\"/>\n",
       "<path class=\"bond-0 atom-0 atom-1\" d=\"M 77.4,70.5 L 76.9,74.0\" style=\"fill:none;fill-rule:evenodd;stroke:#000000;stroke-width:2.0px;stroke-linecap:butt;stroke-linejoin:miter;stroke-opacity:1\"/>\n",
       "<path class=\"bond-1 atom-2 atom-3\" d=\"M 84.4,80.0 L 82.9,89.4\" style=\"fill:none;fill-rule:evenodd;stroke:#000000;stroke-width:2.0px;stroke-linecap:butt;stroke-linejoin:miter;stroke-opacity:1\"/>\n",
       "<path class=\"bond-2 atom-3 atom-4\" d=\"M 82.9,89.4 L 90.4,95.4\" style=\"fill:none;fill-rule:evenodd;stroke:#000000;stroke-width:2.0px;stroke-linecap:butt;stroke-linejoin:miter;stroke-opacity:1\"/>\n",
       "<path class=\"bond-2 atom-3 atom-4\" d=\"M 82.9,91.8 L 88.1,96.0\" style=\"fill:none;fill-rule:evenodd;stroke:#000000;stroke-width:2.0px;stroke-linecap:butt;stroke-linejoin:miter;stroke-opacity:1\"/>\n",
       "<path class=\"bond-3 atom-4 atom-5\" d=\"M 90.4,95.4 L 89.0,104.8\" style=\"fill:none;fill-rule:evenodd;stroke:#000000;stroke-width:2.0px;stroke-linecap:butt;stroke-linejoin:miter;stroke-opacity:1\"/>\n",
       "<path class=\"bond-4 atom-5 atom-6\" d=\"M 89.0,104.8 L 80.1,108.3\" style=\"fill:none;fill-rule:evenodd;stroke:#000000;stroke-width:2.0px;stroke-linecap:butt;stroke-linejoin:miter;stroke-opacity:1\"/>\n",
       "<path class=\"bond-4 atom-5 atom-6\" d=\"M 86.9,103.6 L 80.7,106.0\" style=\"fill:none;fill-rule:evenodd;stroke:#000000;stroke-width:2.0px;stroke-linecap:butt;stroke-linejoin:miter;stroke-opacity:1\"/>\n",
       "<path class=\"bond-5 atom-6 atom-7\" d=\"M 80.1,108.3 L 72.6,102.3\" style=\"fill:none;fill-rule:evenodd;stroke:#000000;stroke-width:2.0px;stroke-linecap:butt;stroke-linejoin:miter;stroke-opacity:1\"/>\n",
       "<path class=\"bond-6 atom-7 atom-8\" d=\"M 72.6,102.3 L 74.0,92.9\" style=\"fill:none;fill-rule:evenodd;stroke:#000000;stroke-width:2.0px;stroke-linecap:butt;stroke-linejoin:miter;stroke-opacity:1\"/>\n",
       "<path class=\"bond-6 atom-7 atom-8\" d=\"M 74.7,101.2 L 75.7,94.6\" style=\"fill:none;fill-rule:evenodd;stroke:#000000;stroke-width:2.0px;stroke-linecap:butt;stroke-linejoin:miter;stroke-opacity:1\"/>\n",
       "<path class=\"bond-7 atom-8 atom-3\" d=\"M 74.0,92.9 L 82.9,89.4\" style=\"fill:none;fill-rule:evenodd;stroke:#000000;stroke-width:2.0px;stroke-linecap:butt;stroke-linejoin:miter;stroke-opacity:1\"/>\n",
       "<path class=\"bond-8 atom-1 atom-2\" d=\"M 76.9,74.0 L 84.4,80.0\" style=\"fill:none;fill-rule:evenodd;stroke:#000000;stroke-width:2.0px;stroke-linecap:butt;stroke-linejoin:miter;stroke-opacity:1\"/>\n",
       "<path class=\"bond-9 atom-9 atom-10\" d=\"M 94.7,67.0 L 93.3,76.5\" style=\"fill:none;fill-rule:evenodd;stroke:#000000;stroke-width:2.0px;stroke-linecap:butt;stroke-linejoin:miter;stroke-opacity:1\"/>\n",
       "<path class=\"bond-10 atom-2 atom-10\" d=\"M 84.4,80.0 L 93.3,76.5\" style=\"fill:none;fill-rule:evenodd;stroke:#000000;stroke-width:2.0px;stroke-linecap:butt;stroke-linejoin:miter;stroke-opacity:1\"/>\n",
       "<path class=\"bond-11 atom-11 atom-12\" d=\"M 103.6,63.5 L 105.1,54.1\" style=\"fill:none;fill-rule:evenodd;stroke:#000000;stroke-width:2.0px;stroke-linecap:butt;stroke-linejoin:miter;stroke-opacity:1\"/>\n",
       "<path class=\"bond-12 atom-9 atom-11\" d=\"M 94.7,67.0 L 103.6,63.5\" style=\"fill:none;fill-rule:evenodd;stroke:#000000;stroke-width:2.0px;stroke-linecap:butt;stroke-linejoin:miter;stroke-opacity:1\"/>\n",
       "<path class=\"bond-13 atom-13 atom-14\" d=\"M 114.0,50.6 L 115.4,41.2\" style=\"fill:none;fill-rule:evenodd;stroke:#000000;stroke-width:2.0px;stroke-linecap:butt;stroke-linejoin:miter;stroke-opacity:1\"/>\n",
       "<path class=\"bond-14 atom-14 atom-15\" d=\"M 115.4,41.2 L 124.3,37.7\" style=\"fill:none;fill-rule:evenodd;stroke:#000000;stroke-width:2.0px;stroke-linecap:butt;stroke-linejoin:miter;stroke-opacity:1\"/>\n",
       "<path class=\"bond-15 atom-15 atom-16\" d=\"M 124.3,37.7 L 125.8,28.2\" style=\"fill:none;fill-rule:evenodd;stroke:#000000;stroke-width:2.0px;stroke-linecap:butt;stroke-linejoin:miter;stroke-opacity:1\"/>\n",
       "<path class=\"bond-16 atom-15 atom-17\" d=\"M 124.3,37.7 L 131.8,43.7\" style=\"fill:none;fill-rule:evenodd;stroke:#000000;stroke-width:2.0px;stroke-linecap:butt;stroke-linejoin:miter;stroke-opacity:1\"/>\n",
       "<path class=\"bond-17 atom-17 atom-18\" d=\"M 131.8,43.7 L 130.4,53.1\" style=\"fill:none;fill-rule:evenodd;stroke:#000000;stroke-width:2.0px;stroke-linecap:butt;stroke-linejoin:miter;stroke-opacity:1\"/>\n",
       "<path class=\"bond-18 atom-12 atom-13\" d=\"M 105.1,54.1 L 114.0,50.6\" style=\"fill:none;fill-rule:evenodd;stroke:#000000;stroke-width:2.0px;stroke-linecap:butt;stroke-linejoin:miter;stroke-opacity:1\"/>\n",
       "<path class=\"bond-19 atom-19 atom-20\" d=\"M 140.7,40.2 L 142.1,30.7\" style=\"fill:none;fill-rule:evenodd;stroke:#000000;stroke-width:2.0px;stroke-linecap:butt;stroke-linejoin:miter;stroke-opacity:1\"/>\n",
       "<path class=\"bond-20 atom-20 atom-21\" d=\"M 142.1,30.7 L 151.1,27.2\" style=\"fill:none;fill-rule:evenodd;stroke:#000000;stroke-width:2.0px;stroke-linecap:butt;stroke-linejoin:miter;stroke-opacity:1\"/>\n",
       "<path class=\"bond-20 atom-20 atom-21\" d=\"M 142.8,28.4 L 149.0,26.0\" style=\"fill:none;fill-rule:evenodd;stroke:#000000;stroke-width:2.0px;stroke-linecap:butt;stroke-linejoin:miter;stroke-opacity:1\"/>\n",
       "<path class=\"bond-21 atom-21 atom-22\" d=\"M 151.1,27.2 L 152.5,17.8\" style=\"fill:none;fill-rule:evenodd;stroke:#000000;stroke-width:2.0px;stroke-linecap:butt;stroke-linejoin:miter;stroke-opacity:1\"/>\n",
       "<path class=\"bond-22 atom-22 atom-23\" d=\"M 152.5,17.8 L 145.0,11.8\" style=\"fill:none;fill-rule:evenodd;stroke:#000000;stroke-width:2.0px;stroke-linecap:butt;stroke-linejoin:miter;stroke-opacity:1\"/>\n",
       "<path class=\"bond-22 atom-22 atom-23\" d=\"M 150.2,18.4 L 145.0,14.2\" style=\"fill:none;fill-rule:evenodd;stroke:#000000;stroke-width:2.0px;stroke-linecap:butt;stroke-linejoin:miter;stroke-opacity:1\"/>\n",
       "<path class=\"bond-23 atom-23 atom-24\" d=\"M 145.0,11.8 L 136.1,15.3\" style=\"fill:none;fill-rule:evenodd;stroke:#000000;stroke-width:2.0px;stroke-linecap:butt;stroke-linejoin:miter;stroke-opacity:1\"/>\n",
       "<path class=\"bond-24 atom-24 atom-25\" d=\"M 136.1,15.3 L 134.7,24.7\" style=\"fill:none;fill-rule:evenodd;stroke:#000000;stroke-width:2.0px;stroke-linecap:butt;stroke-linejoin:miter;stroke-opacity:1\"/>\n",
       "<path class=\"bond-24 atom-24 atom-25\" d=\"M 137.8,17.0 L 136.8,23.6\" style=\"fill:none;fill-rule:evenodd;stroke:#000000;stroke-width:2.0px;stroke-linecap:butt;stroke-linejoin:miter;stroke-opacity:1\"/>\n",
       "<path class=\"bond-25 atom-25 atom-20\" d=\"M 134.7,24.7 L 142.1,30.7\" style=\"fill:none;fill-rule:evenodd;stroke:#000000;stroke-width:2.0px;stroke-linecap:butt;stroke-linejoin:miter;stroke-opacity:1\"/>\n",
       "<path class=\"bond-26 atom-17 atom-19\" d=\"M 131.8,43.7 L 140.7,40.2\" style=\"fill:none;fill-rule:evenodd;stroke:#000000;stroke-width:2.0px;stroke-linecap:butt;stroke-linejoin:miter;stroke-opacity:1\"/>\n",
       "<path class=\"bond-27 atom-26 atom-27\" d=\"M 157.1,42.7 L 148.2,46.1\" style=\"fill:none;fill-rule:evenodd;stroke:#000000;stroke-width:2.0px;stroke-linecap:butt;stroke-linejoin:miter;stroke-opacity:1\"/>\n",
       "<path class=\"bond-28 atom-19 atom-27\" d=\"M 140.7,40.2 L 148.2,46.1\" style=\"fill:none;fill-rule:evenodd;stroke:#000000;stroke-width:2.0px;stroke-linecap:butt;stroke-linejoin:miter;stroke-opacity:1\"/>\n",
       "<path class=\"bond-29 atom-28 atom-29\" d=\"M 173.5,45.2 L 164.5,48.6\" style=\"fill:none;fill-rule:evenodd;stroke:#000000;stroke-width:2.0px;stroke-linecap:butt;stroke-linejoin:miter;stroke-opacity:1\"/>\n",
       "<path class=\"bond-30 atom-26 atom-29\" d=\"M 157.1,42.7 L 164.5,48.6\" style=\"fill:none;fill-rule:evenodd;stroke:#000000;stroke-width:2.0px;stroke-linecap:butt;stroke-linejoin:miter;stroke-opacity:1\"/>\n",
       "<path class=\"bond-31 atom-30 atom-31\" d=\"M 180.9,51.1 L 189.8,47.7\" style=\"fill:none;fill-rule:evenodd;stroke:#000000;stroke-width:2.0px;stroke-linecap:butt;stroke-linejoin:miter;stroke-opacity:1\"/>\n",
       "<path class=\"bond-32 atom-28 atom-30\" d=\"M 173.5,45.2 L 180.9,51.1\" style=\"fill:none;fill-rule:evenodd;stroke:#000000;stroke-width:2.0px;stroke-linecap:butt;stroke-linejoin:miter;stroke-opacity:1\"/>\n",
       "<path class=\"bond-33 atom-32 atom-33\" d=\"M 197.3,53.6 L 206.2,50.2\" style=\"fill:none;fill-rule:evenodd;stroke:#000000;stroke-width:2.0px;stroke-linecap:butt;stroke-linejoin:miter;stroke-opacity:1\"/>\n",
       "<path class=\"bond-34 atom-33 atom-34\" d=\"M 206.2,50.2 L 213.7,56.1\" style=\"fill:none;fill-rule:evenodd;stroke:#000000;stroke-width:2.0px;stroke-linecap:butt;stroke-linejoin:miter;stroke-opacity:1\"/>\n",
       "<path class=\"bond-35 atom-34 atom-35\" d=\"M 213.7,56.1 L 222.6,52.7\" style=\"fill:none;fill-rule:evenodd;stroke:#000000;stroke-width:2.0px;stroke-linecap:butt;stroke-linejoin:miter;stroke-opacity:1\"/>\n",
       "<path class=\"bond-36 atom-34 atom-36\" d=\"M 213.7,56.1 L 212.2,65.6\" style=\"fill:none;fill-rule:evenodd;stroke:#000000;stroke-width:2.0px;stroke-linecap:butt;stroke-linejoin:miter;stroke-opacity:1\"/>\n",
       "<path class=\"bond-37 atom-36 atom-37\" d=\"M 212.2,65.6 L 219.7,71.6\" style=\"fill:none;fill-rule:evenodd;stroke:#000000;stroke-width:2.0px;stroke-linecap:butt;stroke-linejoin:miter;stroke-opacity:1\"/>\n",
       "<path class=\"bond-38 atom-31 atom-32\" d=\"M 189.8,47.7 L 197.3,53.6\" style=\"fill:none;fill-rule:evenodd;stroke:#000000;stroke-width:2.0px;stroke-linecap:butt;stroke-linejoin:miter;stroke-opacity:1\"/>\n",
       "<path class=\"bond-39 atom-38 atom-39\" d=\"M 203.3,69.1 L 201.9,78.5\" style=\"fill:none;fill-rule:evenodd;stroke:#000000;stroke-width:2.0px;stroke-linecap:butt;stroke-linejoin:miter;stroke-opacity:1\"/>\n",
       "<path class=\"bond-40 atom-39 atom-40\" d=\"M 201.9,78.5 L 193.0,82.0\" style=\"fill:none;fill-rule:evenodd;stroke:#000000;stroke-width:2.0px;stroke-linecap:butt;stroke-linejoin:miter;stroke-opacity:1\"/>\n",
       "<path class=\"bond-41 atom-40 atom-41\" d=\"M 193.0,82.0 L 191.5,91.5\" style=\"fill:none;fill-rule:evenodd;stroke:#000000;stroke-width:2.0px;stroke-linecap:butt;stroke-linejoin:miter;stroke-opacity:1\"/>\n",
       "<path class=\"bond-42 atom-40 atom-42\" d=\"M 193.0,82.0 L 185.5,76.0\" style=\"fill:none;fill-rule:evenodd;stroke:#000000;stroke-width:2.0px;stroke-linecap:butt;stroke-linejoin:miter;stroke-opacity:1\"/>\n",
       "<path class=\"bond-43 atom-42 atom-43\" d=\"M 185.5,76.0 L 176.6,79.5\" style=\"fill:none;fill-rule:evenodd;stroke:#000000;stroke-width:2.0px;stroke-linecap:butt;stroke-linejoin:miter;stroke-opacity:1\"/>\n",
       "<path class=\"bond-44 atom-36 atom-38\" d=\"M 212.2,65.6 L 203.3,69.1\" style=\"fill:none;fill-rule:evenodd;stroke:#000000;stroke-width:2.0px;stroke-linecap:butt;stroke-linejoin:miter;stroke-opacity:1\"/>\n",
       "<path class=\"bond-45 atom-44 atom-45\" d=\"M 239.0,55.2 L 230.0,58.6\" style=\"fill:none;fill-rule:evenodd;stroke:#000000;stroke-width:2.0px;stroke-linecap:butt;stroke-linejoin:miter;stroke-opacity:1\"/>\n",
       "<path class=\"bond-46 atom-35 atom-45\" d=\"M 222.6,52.7 L 230.0,58.6\" style=\"fill:none;fill-rule:evenodd;stroke:#000000;stroke-width:2.0px;stroke-linecap:butt;stroke-linejoin:miter;stroke-opacity:1\"/>\n",
       "<path class=\"bond-47 atom-46 atom-47\" d=\"M 246.4,61.1 L 255.3,57.6\" style=\"fill:none;fill-rule:evenodd;stroke:#000000;stroke-width:2.0px;stroke-linecap:butt;stroke-linejoin:miter;stroke-opacity:1\"/>\n",
       "<path class=\"bond-48 atom-44 atom-46\" d=\"M 239.0,55.2 L 246.4,61.1\" style=\"fill:none;fill-rule:evenodd;stroke:#000000;stroke-width:2.0px;stroke-linecap:butt;stroke-linejoin:miter;stroke-opacity:1\"/>\n",
       "<path class=\"bond-49 atom-48 atom-49\" d=\"M 182.6,94.9 L 181.2,104.4\" style=\"fill:none;fill-rule:evenodd;stroke:#000000;stroke-width:2.0px;stroke-linecap:butt;stroke-linejoin:miter;stroke-opacity:1\"/>\n",
       "<path class=\"bond-50 atom-41 atom-48\" d=\"M 191.5,91.5 L 182.6,94.9\" style=\"fill:none;fill-rule:evenodd;stroke:#000000;stroke-width:2.0px;stroke-linecap:butt;stroke-linejoin:miter;stroke-opacity:1\"/>\n",
       "<path class=\"bond-51 atom-50 atom-51\" d=\"M 172.3,107.9 L 170.8,117.3\" style=\"fill:none;fill-rule:evenodd;stroke:#000000;stroke-width:2.0px;stroke-linecap:butt;stroke-linejoin:miter;stroke-opacity:1\"/>\n",
       "<path class=\"bond-52 atom-49 atom-50\" d=\"M 181.2,104.4 L 172.3,107.9\" style=\"fill:none;fill-rule:evenodd;stroke:#000000;stroke-width:2.0px;stroke-linecap:butt;stroke-linejoin:miter;stroke-opacity:1\"/>\n",
       "<path class=\"bond-53 atom-52 atom-53\" d=\"M 160.5,130.2 L 161.9,120.8\" style=\"fill:none;fill-rule:evenodd;stroke:#000000;stroke-width:2.0px;stroke-linecap:butt;stroke-linejoin:miter;stroke-opacity:1\"/>\n",
       "<path class=\"bond-54 atom-51 atom-53\" d=\"M 170.8,117.3 L 161.9,120.8\" style=\"fill:none;fill-rule:evenodd;stroke:#000000;stroke-width:2.0px;stroke-linecap:butt;stroke-linejoin:miter;stroke-opacity:1\"/>\n",
       "<path class=\"bond-55 atom-54 atom-55\" d=\"M 271.7,60.1 L 262.8,63.6\" style=\"fill:none;fill-rule:evenodd;stroke:#000000;stroke-width:2.0px;stroke-linecap:butt;stroke-linejoin:miter;stroke-opacity:1\"/>\n",
       "<path class=\"bond-56 atom-47 atom-55\" d=\"M 255.3,57.6 L 262.8,63.6\" style=\"fill:none;fill-rule:evenodd;stroke:#000000;stroke-width:2.0px;stroke-linecap:butt;stroke-linejoin:miter;stroke-opacity:1\"/>\n",
       "<path class=\"bond-57 atom-56 atom-57\" d=\"M 127.7,125.3 L 135.2,131.2\" style=\"fill:none;fill-rule:evenodd;stroke:#000000;stroke-width:2.0px;stroke-linecap:butt;stroke-linejoin:miter;stroke-opacity:1\"/>\n",
       "<path class=\"bond-58 atom-57 atom-58\" d=\"M 135.2,131.2 L 144.1,127.8\" style=\"fill:none;fill-rule:evenodd;stroke:#000000;stroke-width:2.0px;stroke-linecap:butt;stroke-linejoin:miter;stroke-opacity:1\"/>\n",
       "<path class=\"bond-59 atom-58 atom-59\" d=\"M 144.1,127.8 L 145.5,118.3\" style=\"fill:none;fill-rule:evenodd;stroke:#000000;stroke-width:2.0px;stroke-linecap:butt;stroke-linejoin:miter;stroke-opacity:1\"/>\n",
       "<path class=\"bond-60 atom-58 atom-60\" d=\"M 144.1,127.8 L 151.6,133.7\" style=\"fill:none;fill-rule:evenodd;stroke:#000000;stroke-width:2.0px;stroke-linecap:butt;stroke-linejoin:miter;stroke-opacity:1\"/>\n",
       "<path class=\"bond-61 atom-60 atom-61\" d=\"M 151.6,133.7 L 150.1,143.2\" style=\"fill:none;fill-rule:evenodd;stroke:#000000;stroke-width:2.0px;stroke-linecap:butt;stroke-linejoin:miter;stroke-opacity:1\"/>\n",
       "<path class=\"bond-62 atom-52 atom-60\" d=\"M 160.5,130.2 L 151.6,133.7\" style=\"fill:none;fill-rule:evenodd;stroke:#000000;stroke-width:2.0px;stroke-linecap:butt;stroke-linejoin:miter;stroke-opacity:1\"/>\n",
       "<path class=\"bond-63 atom-62 atom-63\" d=\"M 288.1,62.6 L 279.2,66.1\" style=\"fill:none;fill-rule:evenodd;stroke:#000000;stroke-width:2.0px;stroke-linecap:butt;stroke-linejoin:miter;stroke-opacity:1\"/>\n",
       "<path class=\"bond-64 atom-54 atom-63\" d=\"M 271.7,60.1 L 279.2,66.1\" style=\"fill:none;fill-rule:evenodd;stroke:#000000;stroke-width:2.0px;stroke-linecap:butt;stroke-linejoin:miter;stroke-opacity:1\"/>\n",
       "<path class=\"bond-65 atom-64 atom-65\" d=\"M 295.5,68.6 L 304.5,65.1\" style=\"fill:none;fill-rule:evenodd;stroke:#000000;stroke-width:2.0px;stroke-linecap:butt;stroke-linejoin:miter;stroke-opacity:1\"/>\n",
       "<path class=\"bond-66 atom-62 atom-64\" d=\"M 288.1,62.6 L 295.5,68.6\" style=\"fill:none;fill-rule:evenodd;stroke:#000000;stroke-width:2.0px;stroke-linecap:butt;stroke-linejoin:miter;stroke-opacity:1\"/>\n",
       "<path class=\"bond-67 atom-66 atom-67\" d=\"M 311.9,71.1 L 320.8,67.6\" style=\"fill:none;fill-rule:evenodd;stroke:#000000;stroke-width:2.0px;stroke-linecap:butt;stroke-linejoin:miter;stroke-opacity:1\"/>\n",
       "<path class=\"bond-68 atom-65 atom-66\" d=\"M 304.5,65.1 L 311.9,71.1\" style=\"fill:none;fill-rule:evenodd;stroke:#000000;stroke-width:2.0px;stroke-linecap:butt;stroke-linejoin:miter;stroke-opacity:1\"/>\n",
       "<path class=\"bond-69 atom-68 atom-69\" d=\"M 186.9,66.6 L 179.5,60.6\" style=\"fill:none;fill-rule:evenodd;stroke:#000000;stroke-width:2.0px;stroke-linecap:butt;stroke-linejoin:miter;stroke-opacity:1\"/>\n",
       "<path class=\"bond-70 atom-42 atom-68\" d=\"M 185.5,76.0 L 186.9,66.6\" style=\"fill:none;fill-rule:evenodd;stroke:#000000;stroke-width:2.0px;stroke-linecap:butt;stroke-linejoin:miter;stroke-opacity:1\"/>\n",
       "<path class=\"bond-71 atom-70 atom-71\" d=\"M 163.1,58.1 L 170.6,64.1\" style=\"fill:none;fill-rule:evenodd;stroke:#000000;stroke-width:2.0px;stroke-linecap:butt;stroke-linejoin:miter;stroke-opacity:1\"/>\n",
       "<path class=\"bond-72 atom-69 atom-71\" d=\"M 179.5,60.6 L 170.6,64.1\" style=\"fill:none;fill-rule:evenodd;stroke:#000000;stroke-width:2.0px;stroke-linecap:butt;stroke-linejoin:miter;stroke-opacity:1\"/>\n",
       "<path class=\"bond-73 atom-72 atom-73\" d=\"M 154.2,61.6 L 152.8,71.0\" style=\"fill:none;fill-rule:evenodd;stroke:#000000;stroke-width:2.0px;stroke-linecap:butt;stroke-linejoin:miter;stroke-opacity:1\"/>\n",
       "<path class=\"bond-74 atom-73 atom-74\" d=\"M 152.8,71.0 L 160.2,77.0\" style=\"fill:none;fill-rule:evenodd;stroke:#000000;stroke-width:2.0px;stroke-linecap:butt;stroke-linejoin:miter;stroke-opacity:1\"/>\n",
       "<path class=\"bond-74 atom-73 atom-74\" d=\"M 152.7,73.4 L 157.9,77.6\" style=\"fill:none;fill-rule:evenodd;stroke:#000000;stroke-width:2.0px;stroke-linecap:butt;stroke-linejoin:miter;stroke-opacity:1\"/>\n",
       "<path class=\"bond-75 atom-74 atom-75\" d=\"M 160.2,77.0 L 158.8,86.5\" style=\"fill:none;fill-rule:evenodd;stroke:#000000;stroke-width:2.0px;stroke-linecap:butt;stroke-linejoin:miter;stroke-opacity:1\"/>\n",
       "<path class=\"bond-76 atom-75 atom-76\" d=\"M 158.8,86.5 L 149.9,89.9\" style=\"fill:none;fill-rule:evenodd;stroke:#000000;stroke-width:2.0px;stroke-linecap:butt;stroke-linejoin:miter;stroke-opacity:1\"/>\n",
       "<path class=\"bond-76 atom-75 atom-76\" d=\"M 156.7,85.2 L 150.5,87.6\" style=\"fill:none;fill-rule:evenodd;stroke:#000000;stroke-width:2.0px;stroke-linecap:butt;stroke-linejoin:miter;stroke-opacity:1\"/>\n",
       "<path class=\"bond-77 atom-76 atom-77\" d=\"M 149.9,89.9 L 142.4,84.0\" style=\"fill:none;fill-rule:evenodd;stroke:#000000;stroke-width:2.0px;stroke-linecap:butt;stroke-linejoin:miter;stroke-opacity:1\"/>\n",
       "<path class=\"bond-78 atom-77 atom-78\" d=\"M 142.4,84.0 L 143.8,74.5\" style=\"fill:none;fill-rule:evenodd;stroke:#000000;stroke-width:2.0px;stroke-linecap:butt;stroke-linejoin:miter;stroke-opacity:1\"/>\n",
       "<path class=\"bond-78 atom-77 atom-78\" d=\"M 144.5,82.8 L 145.5,76.2\" style=\"fill:none;fill-rule:evenodd;stroke:#000000;stroke-width:2.0px;stroke-linecap:butt;stroke-linejoin:miter;stroke-opacity:1\"/>\n",
       "<path class=\"bond-79 atom-78 atom-73\" d=\"M 143.8,74.5 L 152.8,71.0\" style=\"fill:none;fill-rule:evenodd;stroke:#000000;stroke-width:2.0px;stroke-linecap:butt;stroke-linejoin:miter;stroke-opacity:1\"/>\n",
       "<path class=\"bond-80 atom-70 atom-72\" d=\"M 163.1,58.1 L 154.2,61.6\" style=\"fill:none;fill-rule:evenodd;stroke:#000000;stroke-width:2.0px;stroke-linecap:butt;stroke-linejoin:miter;stroke-opacity:1\"/>\n",
       "<path class=\"bond-81 atom-79 atom-80\" d=\"M 328.3,73.6 L 337.2,70.1\" style=\"fill:none;fill-rule:evenodd;stroke:#000000;stroke-width:2.0px;stroke-linecap:butt;stroke-linejoin:miter;stroke-opacity:1\"/>\n",
       "<path class=\"bond-82 atom-80 atom-81\" d=\"M 337.2,70.1 L 344.7,76.1\" style=\"fill:none;fill-rule:evenodd;stroke:#000000;stroke-width:2.0px;stroke-linecap:butt;stroke-linejoin:miter;stroke-opacity:1\"/>\n",
       "<path class=\"bond-83 atom-81 atom-82\" d=\"M 344.7,76.1 L 353.6,72.6\" style=\"fill:none;fill-rule:evenodd;stroke:#000000;stroke-width:2.0px;stroke-linecap:butt;stroke-linejoin:miter;stroke-opacity:1\"/>\n",
       "<path class=\"bond-84 atom-81 atom-83\" d=\"M 344.7,76.1 L 343.2,85.6\" style=\"fill:none;fill-rule:evenodd;stroke:#000000;stroke-width:2.0px;stroke-linecap:butt;stroke-linejoin:miter;stroke-opacity:1\"/>\n",
       "<path class=\"bond-85 atom-83 atom-84\" d=\"M 343.2,85.6 L 350.7,91.5\" style=\"fill:none;fill-rule:evenodd;stroke:#000000;stroke-width:2.0px;stroke-linecap:butt;stroke-linejoin:miter;stroke-opacity:1\"/>\n",
       "<path class=\"bond-86 atom-67 atom-79\" d=\"M 320.8,67.6 L 328.3,73.6\" style=\"fill:none;fill-rule:evenodd;stroke:#000000;stroke-width:2.0px;stroke-linecap:butt;stroke-linejoin:miter;stroke-opacity:1\"/>\n",
       "<path class=\"bond-87 atom-85 atom-86\" d=\"M 334.3,89.0 L 333.8,92.5\" style=\"fill:none;fill-rule:evenodd;stroke:#000000;stroke-width:2.0px;stroke-linecap:butt;stroke-linejoin:miter;stroke-opacity:1\"/>\n",
       "<path class=\"bond-87 atom-85 atom-86\" d=\"M 333.8,92.5 L 333.3,96.0\" style=\"fill:none;fill-rule:evenodd;stroke:#FF0000;stroke-width:2.0px;stroke-linecap:butt;stroke-linejoin:miter;stroke-opacity:1\"/>\n",
       "<path class=\"bond-88 atom-86 atom-87\" d=\"M 330.6,99.4 L 327.3,100.7\" style=\"fill:none;fill-rule:evenodd;stroke:#FF0000;stroke-width:2.0px;stroke-linecap:butt;stroke-linejoin:miter;stroke-opacity:1\"/>\n",
       "<path class=\"bond-88 atom-86 atom-87\" d=\"M 327.3,100.7 L 324.0,102.0\" style=\"fill:none;fill-rule:evenodd;stroke:#000000;stroke-width:2.0px;stroke-linecap:butt;stroke-linejoin:miter;stroke-opacity:1\"/>\n",
       "<path class=\"bond-89 atom-83 atom-85\" d=\"M 343.2,85.6 L 334.3,89.0\" style=\"fill:none;fill-rule:evenodd;stroke:#000000;stroke-width:2.0px;stroke-linecap:butt;stroke-linejoin:miter;stroke-opacity:1\"/>\n",
       "<path class=\"bond-90 atom-88 atom-89\" d=\"M 361.0,78.6 L 364.4,77.3\" style=\"fill:none;fill-rule:evenodd;stroke:#000000;stroke-width:2.0px;stroke-linecap:butt;stroke-linejoin:miter;stroke-opacity:1\"/>\n",
       "<path class=\"bond-90 atom-88 atom-89\" d=\"M 364.4,77.3 L 367.7,76.0\" style=\"fill:none;fill-rule:evenodd;stroke:#FF0000;stroke-width:2.0px;stroke-linecap:butt;stroke-linejoin:miter;stroke-opacity:1\"/>\n",
       "<path class=\"bond-91 atom-89 atom-90\" d=\"M 372.2,76.9 L 374.8,79.0\" style=\"fill:none;fill-rule:evenodd;stroke:#FF0000;stroke-width:2.0px;stroke-linecap:butt;stroke-linejoin:miter;stroke-opacity:1\"/>\n",
       "<path class=\"bond-91 atom-89 atom-90\" d=\"M 374.8,79.0 L 377.4,81.1\" style=\"fill:none;fill-rule:evenodd;stroke:#000000;stroke-width:2.0px;stroke-linecap:butt;stroke-linejoin:miter;stroke-opacity:1\"/>\n",
       "<path class=\"bond-92 atom-82 atom-88\" d=\"M 353.6,72.6 L 361.0,78.6\" style=\"fill:none;fill-rule:evenodd;stroke:#000000;stroke-width:2.0px;stroke-linecap:butt;stroke-linejoin:miter;stroke-opacity:1\"/>\n",
       "<path class=\"bond-93 atom-91 atom-92\" d=\"M 118.3,22.2 L 118.8,18.8\" style=\"fill:none;fill-rule:evenodd;stroke:#000000;stroke-width:2.0px;stroke-linecap:butt;stroke-linejoin:miter;stroke-opacity:1\"/>\n",
       "<path class=\"bond-93 atom-91 atom-92\" d=\"M 118.8,18.8 L 119.4,15.3\" style=\"fill:none;fill-rule:evenodd;stroke:#FF0000;stroke-width:2.0px;stroke-linecap:butt;stroke-linejoin:miter;stroke-opacity:1\"/>\n",
       "<path class=\"bond-94 atom-92 atom-93\" d=\"M 117.5,11.0 L 114.9,8.9\" style=\"fill:none;fill-rule:evenodd;stroke:#FF0000;stroke-width:2.0px;stroke-linecap:butt;stroke-linejoin:miter;stroke-opacity:1\"/>\n",
       "<path class=\"bond-94 atom-92 atom-93\" d=\"M 114.9,8.9 L 112.3,6.8\" style=\"fill:none;fill-rule:evenodd;stroke:#000000;stroke-width:2.0px;stroke-linecap:butt;stroke-linejoin:miter;stroke-opacity:1\"/>\n",
       "<path class=\"bond-95 atom-16 atom-91\" d=\"M 125.8,28.2 L 118.3,22.2\" style=\"fill:none;fill-rule:evenodd;stroke:#000000;stroke-width:2.0px;stroke-linecap:butt;stroke-linejoin:miter;stroke-opacity:1\"/>\n",
       "<path class=\"bond-96 atom-94 atom-95\" d=\"M 118.8,128.7 L 116.2,126.7\" style=\"fill:none;fill-rule:evenodd;stroke:#000000;stroke-width:2.0px;stroke-linecap:butt;stroke-linejoin:miter;stroke-opacity:1\"/>\n",
       "<path class=\"bond-96 atom-94 atom-95\" d=\"M 116.2,126.7 L 113.6,124.6\" style=\"fill:none;fill-rule:evenodd;stroke:#FF0000;stroke-width:2.0px;stroke-linecap:butt;stroke-linejoin:miter;stroke-opacity:1\"/>\n",
       "<path class=\"bond-97 atom-95 atom-96\" d=\"M 109.1,123.6 L 105.8,124.9\" style=\"fill:none;fill-rule:evenodd;stroke:#FF0000;stroke-width:2.0px;stroke-linecap:butt;stroke-linejoin:miter;stroke-opacity:1\"/>\n",
       "<path class=\"bond-97 atom-95 atom-96\" d=\"M 105.8,124.9 L 102.5,126.2\" style=\"fill:none;fill-rule:evenodd;stroke:#000000;stroke-width:2.0px;stroke-linecap:butt;stroke-linejoin:miter;stroke-opacity:1\"/>\n",
       "<path class=\"bond-98 atom-56 atom-94\" d=\"M 127.7,125.3 L 118.8,128.7\" style=\"fill:none;fill-rule:evenodd;stroke:#000000;stroke-width:2.0px;stroke-linecap:butt;stroke-linejoin:miter;stroke-opacity:1\"/>\n",
       "<path class=\"bond-99 atom-97 atom-98\" d=\"M 138.1,112.3 L 138.6,108.9\" style=\"fill:none;fill-rule:evenodd;stroke:#000000;stroke-width:2.0px;stroke-linecap:butt;stroke-linejoin:miter;stroke-opacity:1\"/>\n",
       "<path class=\"bond-99 atom-97 atom-98\" d=\"M 138.6,108.9 L 139.1,105.4\" style=\"fill:none;fill-rule:evenodd;stroke:#FF0000;stroke-width:2.0px;stroke-linecap:butt;stroke-linejoin:miter;stroke-opacity:1\"/>\n",
       "<path class=\"bond-100 atom-98 atom-99\" d=\"M 137.3,101.1 L 134.7,99.0\" style=\"fill:none;fill-rule:evenodd;stroke:#FF0000;stroke-width:2.0px;stroke-linecap:butt;stroke-linejoin:miter;stroke-opacity:1\"/>\n",
       "<path class=\"bond-100 atom-98 atom-99\" d=\"M 134.7,99.0 L 132.1,96.9\" style=\"fill:none;fill-rule:evenodd;stroke:#000000;stroke-width:2.0px;stroke-linecap:butt;stroke-linejoin:miter;stroke-opacity:1\"/>\n",
       "<path class=\"bond-101 atom-59 atom-97\" d=\"M 145.5,118.3 L 138.1,112.3\" style=\"fill:none;fill-rule:evenodd;stroke:#000000;stroke-width:2.0px;stroke-linecap:butt;stroke-linejoin:miter;stroke-opacity:1\"/>\n",
       "<path class=\"bond-102 atom-100 atom-101\" d=\"M 146.7,55.6 L 143.2,57.0\" style=\"fill:none;fill-rule:evenodd;stroke:#000000;stroke-width:2.0px;stroke-linecap:butt;stroke-linejoin:miter;stroke-opacity:1\"/>\n",
       "<path class=\"bond-102 atom-100 atom-101\" d=\"M 143.2,57.0 L 139.8,58.3\" style=\"fill:none;fill-rule:evenodd;stroke:#0000FF;stroke-width:2.0px;stroke-linecap:butt;stroke-linejoin:miter;stroke-opacity:1\"/>\n",
       "<path class=\"bond-103 atom-72 atom-100\" d=\"M 154.2,61.6 L 146.7,55.6\" style=\"fill:none;fill-rule:evenodd;stroke:#000000;stroke-width:2.0px;stroke-linecap:butt;stroke-linejoin:miter;stroke-opacity:1\"/>\n",
       "<path class=\"atom-0\" d=\"M 77.4 62.4 L 78.8 64.6 Q 78.9 64.9, 79.2 65.3 Q 79.4 65.7, 79.4 65.7 L 79.4 62.4 L 80.0 62.4 L 80.0 66.6 L 79.4 66.6 L 77.9 64.2 Q 77.7 63.9, 77.5 63.6 Q 77.3 63.2, 77.3 63.1 L 77.3 66.6 L 76.7 66.6 L 76.7 62.4 L 77.4 62.4 \" fill=\"#0000FF\"/>\n",
       "<path class=\"atom-0\" d=\"M 80.5 62.4 L 81.0 62.4 L 81.0 64.2 L 83.2 64.2 L 83.2 62.4 L 83.8 62.4 L 83.8 66.6 L 83.2 66.6 L 83.2 64.7 L 81.0 64.7 L 81.0 66.6 L 80.5 66.6 L 80.5 62.4 \" fill=\"#0000FF\"/>\n",
       "<path class=\"atom-0\" d=\"M 84.3 66.5 Q 84.4 66.2, 84.7 66.1 Q 84.9 65.9, 85.2 65.9 Q 85.7 65.9, 85.9 66.2 Q 86.1 66.4, 86.1 66.8 Q 86.1 67.2, 85.8 67.6 Q 85.5 68.0, 84.9 68.5 L 86.2 68.5 L 86.2 68.8 L 84.3 68.8 L 84.3 68.5 Q 84.8 68.1, 85.1 67.9 Q 85.4 67.6, 85.6 67.3 Q 85.7 67.1, 85.7 66.8 Q 85.7 66.6, 85.6 66.4 Q 85.5 66.3, 85.2 66.3 Q 85.0 66.3, 84.9 66.3 Q 84.7 66.4, 84.6 66.6 L 84.3 66.5 \" fill=\"#0000FF\"/>\n",
       "<path class=\"atom-86\" d=\"M 330.9 98.5 Q 330.9 97.5, 331.4 96.9 Q 331.9 96.3, 332.9 96.3 Q 333.8 96.3, 334.3 96.9 Q 334.8 97.5, 334.8 98.5 Q 334.8 99.5, 334.3 100.1 Q 333.8 100.7, 332.9 100.7 Q 331.9 100.7, 331.4 100.1 Q 330.9 99.5, 330.9 98.5 M 332.9 100.2 Q 333.5 100.2, 333.9 99.8 Q 334.2 99.4, 334.2 98.5 Q 334.2 97.7, 333.9 97.3 Q 333.5 96.8, 332.9 96.8 Q 332.2 96.8, 331.9 97.2 Q 331.5 97.7, 331.5 98.5 Q 331.5 99.4, 331.9 99.8 Q 332.2 100.2, 332.9 100.2 \" fill=\"#FF0000\"/>\n",
       "<path class=\"atom-89\" d=\"M 368.0 75.1 Q 368.0 74.1, 368.5 73.5 Q 369.0 73.0, 369.9 73.0 Q 370.9 73.0, 371.4 73.5 Q 371.9 74.1, 371.9 75.1 Q 371.9 76.2, 371.4 76.8 Q 370.9 77.3, 369.9 77.3 Q 369.0 77.3, 368.5 76.8 Q 368.0 76.2, 368.0 75.1 M 369.9 76.9 Q 370.6 76.9, 370.9 76.4 Q 371.3 76.0, 371.3 75.1 Q 371.3 74.3, 370.9 73.9 Q 370.6 73.5, 369.9 73.5 Q 369.3 73.5, 368.9 73.9 Q 368.6 74.3, 368.6 75.1 Q 368.6 76.0, 368.9 76.4 Q 369.3 76.9, 369.9 76.9 \" fill=\"#FF0000\"/>\n",
       "<path class=\"atom-92\" d=\"M 117.8 12.8 Q 117.8 11.8, 118.3 11.2 Q 118.8 10.6, 119.7 10.6 Q 120.7 10.6, 121.2 11.2 Q 121.7 11.8, 121.7 12.8 Q 121.7 13.8, 121.2 14.4 Q 120.7 15.0, 119.7 15.0 Q 118.8 15.0, 118.3 14.4 Q 117.8 13.8, 117.8 12.8 M 119.7 14.5 Q 120.4 14.5, 120.7 14.1 Q 121.1 13.7, 121.1 12.8 Q 121.1 12.0, 120.7 11.6 Q 120.4 11.1, 119.7 11.1 Q 119.1 11.1, 118.7 11.5 Q 118.4 12.0, 118.4 12.8 Q 118.4 13.7, 118.7 14.1 Q 119.1 14.5, 119.7 14.5 \" fill=\"#FF0000\"/>\n",
       "<path class=\"atom-95\" d=\"M 109.4 122.8 Q 109.4 121.8, 109.9 121.2 Q 110.4 120.6, 111.4 120.6 Q 112.3 120.6, 112.8 121.2 Q 113.3 121.8, 113.3 122.8 Q 113.3 123.8, 112.8 124.4 Q 112.3 125.0, 111.4 125.0 Q 110.4 125.0, 109.9 124.4 Q 109.4 123.8, 109.4 122.8 M 111.4 124.5 Q 112.0 124.5, 112.4 124.1 Q 112.7 123.6, 112.7 122.8 Q 112.7 121.9, 112.4 121.5 Q 112.0 121.1, 111.4 121.1 Q 110.7 121.1, 110.4 121.5 Q 110.0 121.9, 110.0 122.8 Q 110.0 123.6, 110.4 124.1 Q 110.7 124.5, 111.4 124.5 \" fill=\"#FF0000\"/>\n",
       "<path class=\"atom-98\" d=\"M 137.6 102.9 Q 137.6 101.9, 138.1 101.3 Q 138.6 100.7, 139.5 100.7 Q 140.5 100.7, 141.0 101.3 Q 141.5 101.9, 141.5 102.9 Q 141.5 103.9, 141.0 104.5 Q 140.5 105.1, 139.5 105.1 Q 138.6 105.1, 138.1 104.5 Q 137.6 103.9, 137.6 102.9 M 139.5 104.6 Q 140.2 104.6, 140.5 104.2 Q 140.9 103.7, 140.9 102.9 Q 140.9 102.0, 140.5 101.6 Q 140.2 101.2, 139.5 101.2 Q 138.9 101.2, 138.5 101.6 Q 138.2 102.0, 138.2 102.9 Q 138.2 103.7, 138.5 104.2 Q 138.9 104.6, 139.5 104.6 \" fill=\"#FF0000\"/>\n",
       "<path class=\"atom-101\" d=\"M 130.3 57.0 L 130.8 57.0 L 130.8 58.8 L 133.0 58.8 L 133.0 57.0 L 133.6 57.0 L 133.6 61.2 L 133.0 61.2 L 133.0 59.2 L 130.8 59.2 L 130.8 61.2 L 130.3 61.2 L 130.3 57.0 \" fill=\"#0000FF\"/>\n",
       "<path class=\"atom-101\" d=\"M 134.1 61.1 Q 134.2 60.8, 134.4 60.6 Q 134.7 60.5, 135.0 60.5 Q 135.5 60.5, 135.7 60.7 Q 135.9 61.0, 135.9 61.4 Q 135.9 61.8, 135.6 62.2 Q 135.3 62.6, 134.7 63.0 L 136.0 63.0 L 136.0 63.3 L 134.1 63.3 L 134.1 63.1 Q 134.6 62.7, 134.9 62.4 Q 135.2 62.1, 135.4 61.9 Q 135.5 61.6, 135.5 61.4 Q 135.5 61.1, 135.4 61.0 Q 135.3 60.8, 135.0 60.8 Q 134.8 60.8, 134.7 60.9 Q 134.5 61.0, 134.4 61.2 L 134.1 61.1 \" fill=\"#0000FF\"/>\n",
       "<path class=\"atom-101\" d=\"M 136.9 57.0 L 138.3 59.2 Q 138.4 59.4, 138.6 59.8 Q 138.9 60.2, 138.9 60.3 L 138.9 57.0 L 139.4 57.0 L 139.4 61.2 L 138.9 61.2 L 137.4 58.7 Q 137.2 58.5, 137.0 58.1 Q 136.8 57.8, 136.8 57.7 L 136.8 61.2 L 136.2 61.2 L 136.2 57.0 L 136.9 57.0 \" fill=\"#0000FF\"/>\n",
       "</svg>"
      ],
      "text/plain": [
       "<IPython.core.display.SVG object>"
      ]
     },
     "execution_count": 45,
     "metadata": {},
     "output_type": "execute_result"
    }
   ],
   "source": [
    "big_smiles_gen(big)"
   ]
  },
  {
   "cell_type": "code",
   "execution_count": 46,
   "id": "e33d91f8",
   "metadata": {},
   "outputs": [
    {
     "data": {
      "image/svg+xml": [
       "<svg xmlns=\"http://www.w3.org/2000/svg\" xmlns:rdkit=\"http://www.rdkit.org/xml\" xmlns:xlink=\"http://www.w3.org/1999/xlink\" version=\"1.1\" baseProfile=\"full\" xml:space=\"preserve\" width=\"450px\" height=\"150px\" viewBox=\"0 0 450 150\">\n",
       "<!-- END OF HEADER -->\n",
       "<rect style=\"opacity:1.0;fill:#FFFFFF;stroke:none\" width=\"450.0\" height=\"150.0\" x=\"0.0\" y=\"0.0\"> </rect>\n",
       "<path class=\"bond-0 atom-0 atom-1\" d=\"M 163.7,24.2 L 160.3,25.9\" style=\"fill:none;fill-rule:evenodd;stroke:#0000FF;stroke-width:2.0px;stroke-linecap:butt;stroke-linejoin:miter;stroke-opacity:1\"/>\n",
       "<path class=\"bond-0 atom-0 atom-1\" d=\"M 160.3,25.9 L 156.9,27.6\" style=\"fill:none;fill-rule:evenodd;stroke:#000000;stroke-width:2.0px;stroke-linecap:butt;stroke-linejoin:miter;stroke-opacity:1\"/>\n",
       "<path class=\"bond-1 atom-2 atom-3\" d=\"M 147.8,41.7 L 156.4,37.3\" style=\"fill:none;fill-rule:evenodd;stroke:#000000;stroke-width:2.0px;stroke-linecap:butt;stroke-linejoin:miter;stroke-opacity:1\"/>\n",
       "<path class=\"bond-2 atom-1 atom-3\" d=\"M 156.9,27.6 L 156.4,37.3\" style=\"fill:none;fill-rule:evenodd;stroke:#000000;stroke-width:2.0px;stroke-linecap:butt;stroke-linejoin:miter;stroke-opacity:1\"/>\n",
       "<path class=\"bond-3 atom-4 atom-5\" d=\"M 138.6,55.8 L 147.2,51.4\" style=\"fill:none;fill-rule:evenodd;stroke:#000000;stroke-width:2.0px;stroke-linecap:butt;stroke-linejoin:miter;stroke-opacity:1\"/>\n",
       "<path class=\"bond-4 atom-2 atom-5\" d=\"M 147.8,41.7 L 147.2,51.4\" style=\"fill:none;fill-rule:evenodd;stroke:#000000;stroke-width:2.0px;stroke-linecap:butt;stroke-linejoin:miter;stroke-opacity:1\"/>\n",
       "<path class=\"bond-5 atom-6 atom-7\" d=\"M 138.1,65.5 L 129.4,69.9\" style=\"fill:none;fill-rule:evenodd;stroke:#000000;stroke-width:2.0px;stroke-linecap:butt;stroke-linejoin:miter;stroke-opacity:1\"/>\n",
       "<path class=\"bond-6 atom-7 atom-8\" d=\"M 129.4,69.9 L 128.9,79.6\" style=\"fill:none;fill-rule:evenodd;stroke:#000000;stroke-width:2.0px;stroke-linecap:butt;stroke-linejoin:miter;stroke-opacity:1\"/>\n",
       "<path class=\"bond-7 atom-8 atom-9\" d=\"M 128.9,79.6 L 137.0,84.8\" style=\"fill:none;fill-rule:evenodd;stroke:#000000;stroke-width:2.0px;stroke-linecap:butt;stroke-linejoin:miter;stroke-opacity:1\"/>\n",
       "<path class=\"bond-8 atom-8 atom-10\" d=\"M 128.9,79.6 L 120.3,83.9\" style=\"fill:none;fill-rule:evenodd;stroke:#000000;stroke-width:2.0px;stroke-linecap:butt;stroke-linejoin:miter;stroke-opacity:1\"/>\n",
       "<path class=\"bond-9 atom-10 atom-11\" d=\"M 120.3,83.9 L 112.1,78.6\" style=\"fill:none;fill-rule:evenodd;stroke:#000000;stroke-width:2.0px;stroke-linecap:butt;stroke-linejoin:miter;stroke-opacity:1\"/>\n",
       "<path class=\"bond-10 atom-4 atom-6\" d=\"M 138.6,55.8 L 138.1,65.5\" style=\"fill:none;fill-rule:evenodd;stroke:#000000;stroke-width:2.0px;stroke-linecap:butt;stroke-linejoin:miter;stroke-opacity:1\"/>\n",
       "<path class=\"bond-11 atom-12 atom-13\" d=\"M 119.7,93.6 L 127.9,98.9\" style=\"fill:none;fill-rule:evenodd;stroke:#000000;stroke-width:2.0px;stroke-linecap:butt;stroke-linejoin:miter;stroke-opacity:1\"/>\n",
       "<path class=\"bond-12 atom-10 atom-12\" d=\"M 120.3,83.9 L 119.7,93.6\" style=\"fill:none;fill-rule:evenodd;stroke:#000000;stroke-width:2.0px;stroke-linecap:butt;stroke-linejoin:miter;stroke-opacity:1\"/>\n",
       "<path class=\"bond-13 atom-14 atom-15\" d=\"M 127.3,108.6 L 135.5,113.9\" style=\"fill:none;fill-rule:evenodd;stroke:#000000;stroke-width:2.0px;stroke-linecap:butt;stroke-linejoin:miter;stroke-opacity:1\"/>\n",
       "<path class=\"bond-14 atom-15 atom-16\" d=\"M 135.5,113.9 L 135.0,123.6\" style=\"fill:none;fill-rule:evenodd;stroke:#000000;stroke-width:2.0px;stroke-linecap:butt;stroke-linejoin:miter;stroke-opacity:1\"/>\n",
       "<path class=\"bond-14 atom-15 atom-16\" d=\"M 137.3,115.5 L 137.0,122.2\" style=\"fill:none;fill-rule:evenodd;stroke:#000000;stroke-width:2.0px;stroke-linecap:butt;stroke-linejoin:miter;stroke-opacity:1\"/>\n",
       "<path class=\"bond-15 atom-16 atom-17\" d=\"M 135.0,123.6 L 143.1,128.9\" style=\"fill:none;fill-rule:evenodd;stroke:#000000;stroke-width:2.0px;stroke-linecap:butt;stroke-linejoin:miter;stroke-opacity:1\"/>\n",
       "<path class=\"bond-16 atom-17 atom-18\" d=\"M 143.1,128.9 L 151.7,124.5\" style=\"fill:none;fill-rule:evenodd;stroke:#000000;stroke-width:2.0px;stroke-linecap:butt;stroke-linejoin:miter;stroke-opacity:1\"/>\n",
       "<path class=\"bond-16 atom-17 atom-18\" d=\"M 143.5,126.5 L 149.6,123.4\" style=\"fill:none;fill-rule:evenodd;stroke:#000000;stroke-width:2.0px;stroke-linecap:butt;stroke-linejoin:miter;stroke-opacity:1\"/>\n",
       "<path class=\"bond-17 atom-18 atom-19\" d=\"M 151.7,124.5 L 152.3,114.8\" style=\"fill:none;fill-rule:evenodd;stroke:#000000;stroke-width:2.0px;stroke-linecap:butt;stroke-linejoin:miter;stroke-opacity:1\"/>\n",
       "<path class=\"bond-18 atom-19 atom-20\" d=\"M 152.3,114.8 L 144.1,109.5\" style=\"fill:none;fill-rule:evenodd;stroke:#000000;stroke-width:2.0px;stroke-linecap:butt;stroke-linejoin:miter;stroke-opacity:1\"/>\n",
       "<path class=\"bond-18 atom-19 atom-20\" d=\"M 150.0,115.6 L 144.3,111.9\" style=\"fill:none;fill-rule:evenodd;stroke:#000000;stroke-width:2.0px;stroke-linecap:butt;stroke-linejoin:miter;stroke-opacity:1\"/>\n",
       "<path class=\"bond-19 atom-20 atom-15\" d=\"M 144.1,109.5 L 135.5,113.9\" style=\"fill:none;fill-rule:evenodd;stroke:#000000;stroke-width:2.0px;stroke-linecap:butt;stroke-linejoin:miter;stroke-opacity:1\"/>\n",
       "<path class=\"bond-20 atom-13 atom-14\" d=\"M 127.9,98.9 L 127.3,108.6\" style=\"fill:none;fill-rule:evenodd;stroke:#000000;stroke-width:2.0px;stroke-linecap:butt;stroke-linejoin:miter;stroke-opacity:1\"/>\n",
       "<path class=\"bond-21 atom-21 atom-22\" d=\"M 153.8,85.7 L 145.7,80.5\" style=\"fill:none;fill-rule:evenodd;stroke:#000000;stroke-width:2.0px;stroke-linecap:butt;stroke-linejoin:miter;stroke-opacity:1\"/>\n",
       "<path class=\"bond-22 atom-9 atom-22\" d=\"M 137.0,84.8 L 145.7,80.5\" style=\"fill:none;fill-rule:evenodd;stroke:#000000;stroke-width:2.0px;stroke-linecap:butt;stroke-linejoin:miter;stroke-opacity:1\"/>\n",
       "<path class=\"bond-23 atom-23 atom-24\" d=\"M 170.6,86.7 L 162.5,81.4\" style=\"fill:none;fill-rule:evenodd;stroke:#000000;stroke-width:2.0px;stroke-linecap:butt;stroke-linejoin:miter;stroke-opacity:1\"/>\n",
       "<path class=\"bond-24 atom-21 atom-24\" d=\"M 153.8,85.7 L 162.5,81.4\" style=\"fill:none;fill-rule:evenodd;stroke:#000000;stroke-width:2.0px;stroke-linecap:butt;stroke-linejoin:miter;stroke-opacity:1\"/>\n",
       "<path class=\"bond-25 atom-25 atom-26\" d=\"M 187.4,87.6 L 179.2,82.3\" style=\"fill:none;fill-rule:evenodd;stroke:#000000;stroke-width:2.0px;stroke-linecap:butt;stroke-linejoin:miter;stroke-opacity:1\"/>\n",
       "<path class=\"bond-26 atom-23 atom-26\" d=\"M 170.6,86.7 L 179.2,82.3\" style=\"fill:none;fill-rule:evenodd;stroke:#000000;stroke-width:2.0px;stroke-linecap:butt;stroke-linejoin:miter;stroke-opacity:1\"/>\n",
       "<path class=\"bond-27 atom-27 atom-28\" d=\"M 196.0,83.2 L 204.1,88.5\" style=\"fill:none;fill-rule:evenodd;stroke:#000000;stroke-width:2.0px;stroke-linecap:butt;stroke-linejoin:miter;stroke-opacity:1\"/>\n",
       "<path class=\"bond-28 atom-25 atom-27\" d=\"M 187.4,87.6 L 196.0,83.2\" style=\"fill:none;fill-rule:evenodd;stroke:#000000;stroke-width:2.0px;stroke-linecap:butt;stroke-linejoin:miter;stroke-opacity:1\"/>\n",
       "<path class=\"bond-29 atom-29 atom-30\" d=\"M 212.8,84.1 L 220.9,89.4\" style=\"fill:none;fill-rule:evenodd;stroke:#000000;stroke-width:2.0px;stroke-linecap:butt;stroke-linejoin:miter;stroke-opacity:1\"/>\n",
       "<path class=\"bond-30 atom-28 atom-29\" d=\"M 204.1,88.5 L 212.8,84.1\" style=\"fill:none;fill-rule:evenodd;stroke:#000000;stroke-width:2.0px;stroke-linecap:butt;stroke-linejoin:miter;stroke-opacity:1\"/>\n",
       "<path class=\"bond-31 atom-31 atom-32\" d=\"M 237.7,90.3 L 229.6,85.0\" style=\"fill:none;fill-rule:evenodd;stroke:#000000;stroke-width:2.0px;stroke-linecap:butt;stroke-linejoin:miter;stroke-opacity:1\"/>\n",
       "<path class=\"bond-32 atom-30 atom-32\" d=\"M 220.9,89.4 L 229.6,85.0\" style=\"fill:none;fill-rule:evenodd;stroke:#000000;stroke-width:2.0px;stroke-linecap:butt;stroke-linejoin:miter;stroke-opacity:1\"/>\n",
       "<path class=\"bond-33 atom-33 atom-34\" d=\"M 254.5,91.2 L 246.3,85.9\" style=\"fill:none;fill-rule:evenodd;stroke:#000000;stroke-width:2.0px;stroke-linecap:butt;stroke-linejoin:miter;stroke-opacity:1\"/>\n",
       "<path class=\"bond-34 atom-31 atom-34\" d=\"M 237.7,90.3 L 246.3,85.9\" style=\"fill:none;fill-rule:evenodd;stroke:#000000;stroke-width:2.0px;stroke-linecap:butt;stroke-linejoin:miter;stroke-opacity:1\"/>\n",
       "<path class=\"bond-35 atom-35 atom-36\" d=\"M 263.1,86.8 L 263.6,77.1\" style=\"fill:none;fill-rule:evenodd;stroke:#000000;stroke-width:2.0px;stroke-linecap:butt;stroke-linejoin:miter;stroke-opacity:1\"/>\n",
       "<path class=\"bond-36 atom-36 atom-37\" d=\"M 263.6,77.1 L 272.3,72.7\" style=\"fill:none;fill-rule:evenodd;stroke:#000000;stroke-width:2.0px;stroke-linecap:butt;stroke-linejoin:miter;stroke-opacity:1\"/>\n",
       "<path class=\"bond-36 atom-36 atom-37\" d=\"M 264.1,74.7 L 270.1,71.6\" style=\"fill:none;fill-rule:evenodd;stroke:#000000;stroke-width:2.0px;stroke-linecap:butt;stroke-linejoin:miter;stroke-opacity:1\"/>\n",
       "<path class=\"bond-37 atom-37 atom-38\" d=\"M 272.3,72.7 L 272.8,63.0\" style=\"fill:none;fill-rule:evenodd;stroke:#000000;stroke-width:2.0px;stroke-linecap:butt;stroke-linejoin:miter;stroke-opacity:1\"/>\n",
       "<path class=\"bond-38 atom-38 atom-39\" d=\"M 272.8,63.0 L 264.7,57.7\" style=\"fill:none;fill-rule:evenodd;stroke:#000000;stroke-width:2.0px;stroke-linecap:butt;stroke-linejoin:miter;stroke-opacity:1\"/>\n",
       "<path class=\"bond-38 atom-38 atom-39\" d=\"M 270.5,63.8 L 264.8,60.1\" style=\"fill:none;fill-rule:evenodd;stroke:#000000;stroke-width:2.0px;stroke-linecap:butt;stroke-linejoin:miter;stroke-opacity:1\"/>\n",
       "<path class=\"bond-39 atom-39 atom-40\" d=\"M 264.7,57.7 L 256.0,62.1\" style=\"fill:none;fill-rule:evenodd;stroke:#000000;stroke-width:2.0px;stroke-linecap:butt;stroke-linejoin:miter;stroke-opacity:1\"/>\n",
       "<path class=\"bond-40 atom-40 atom-41\" d=\"M 256.0,62.1 L 255.5,71.8\" style=\"fill:none;fill-rule:evenodd;stroke:#000000;stroke-width:2.0px;stroke-linecap:butt;stroke-linejoin:miter;stroke-opacity:1\"/>\n",
       "<path class=\"bond-40 atom-40 atom-41\" d=\"M 257.9,63.7 L 257.5,70.4\" style=\"fill:none;fill-rule:evenodd;stroke:#000000;stroke-width:2.0px;stroke-linecap:butt;stroke-linejoin:miter;stroke-opacity:1\"/>\n",
       "<path class=\"bond-41 atom-41 atom-36\" d=\"M 255.5,71.8 L 263.6,77.1\" style=\"fill:none;fill-rule:evenodd;stroke:#000000;stroke-width:2.0px;stroke-linecap:butt;stroke-linejoin:miter;stroke-opacity:1\"/>\n",
       "<path class=\"bond-42 atom-33 atom-35\" d=\"M 254.5,91.2 L 263.1,86.8\" style=\"fill:none;fill-rule:evenodd;stroke:#000000;stroke-width:2.0px;stroke-linecap:butt;stroke-linejoin:miter;stroke-opacity:1\"/>\n",
       "<path class=\"bond-43 atom-42 atom-43\" d=\"M 110.6,107.7 L 118.7,113.0\" style=\"fill:none;fill-rule:evenodd;stroke:#000000;stroke-width:2.0px;stroke-linecap:butt;stroke-linejoin:miter;stroke-opacity:1\"/>\n",
       "<path class=\"bond-44 atom-14 atom-43\" d=\"M 127.3,108.6 L 118.7,113.0\" style=\"fill:none;fill-rule:evenodd;stroke:#000000;stroke-width:2.0px;stroke-linecap:butt;stroke-linejoin:miter;stroke-opacity:1\"/>\n",
       "<path class=\"bond-45 atom-44 atom-45\" d=\"M 93.8,106.8 L 101.9,112.1\" style=\"fill:none;fill-rule:evenodd;stroke:#000000;stroke-width:2.0px;stroke-linecap:butt;stroke-linejoin:miter;stroke-opacity:1\"/>\n",
       "<path class=\"bond-46 atom-42 atom-45\" d=\"M 110.6,107.7 L 101.9,112.1\" style=\"fill:none;fill-rule:evenodd;stroke:#000000;stroke-width:2.0px;stroke-linecap:butt;stroke-linejoin:miter;stroke-opacity:1\"/>\n",
       "<path class=\"bond-47 atom-46 atom-47\" d=\"M 85.1,111.2 L 77.0,105.9\" style=\"fill:none;fill-rule:evenodd;stroke:#000000;stroke-width:2.0px;stroke-linecap:butt;stroke-linejoin:miter;stroke-opacity:1\"/>\n",
       "<path class=\"bond-48 atom-44 atom-46\" d=\"M 93.8,106.8 L 85.1,111.2\" style=\"fill:none;fill-rule:evenodd;stroke:#000000;stroke-width:2.0px;stroke-linecap:butt;stroke-linejoin:miter;stroke-opacity:1\"/>\n",
       "<path class=\"bond-49 atom-48 atom-49\" d=\"M 279.9,87.7 L 271.2,92.1\" style=\"fill:none;fill-rule:evenodd;stroke:#000000;stroke-width:2.0px;stroke-linecap:butt;stroke-linejoin:miter;stroke-opacity:1\"/>\n",
       "<path class=\"bond-50 atom-35 atom-49\" d=\"M 263.1,86.8 L 271.2,92.1\" style=\"fill:none;fill-rule:evenodd;stroke:#000000;stroke-width:2.0px;stroke-linecap:butt;stroke-linejoin:miter;stroke-opacity:1\"/>\n",
       "<path class=\"bond-51 atom-50 atom-51\" d=\"M 296.7,88.6 L 288.0,93.0\" style=\"fill:none;fill-rule:evenodd;stroke:#000000;stroke-width:2.0px;stroke-linecap:butt;stroke-linejoin:miter;stroke-opacity:1\"/>\n",
       "<path class=\"bond-52 atom-48 atom-51\" d=\"M 279.9,87.7 L 288.0,93.0\" style=\"fill:none;fill-rule:evenodd;stroke:#000000;stroke-width:2.0px;stroke-linecap:butt;stroke-linejoin:miter;stroke-opacity:1\"/>\n",
       "<path class=\"bond-53 atom-52 atom-53\" d=\"M 68.4,110.3 L 60.2,105.0\" style=\"fill:none;fill-rule:evenodd;stroke:#000000;stroke-width:2.0px;stroke-linecap:butt;stroke-linejoin:miter;stroke-opacity:1\"/>\n",
       "<path class=\"bond-54 atom-47 atom-52\" d=\"M 77.0,105.9 L 68.4,110.3\" style=\"fill:none;fill-rule:evenodd;stroke:#000000;stroke-width:2.0px;stroke-linecap:butt;stroke-linejoin:miter;stroke-opacity:1\"/>\n",
       "<path class=\"bond-55 atom-54 atom-55\" d=\"M 304.8,93.9 L 304.3,103.6\" style=\"fill:none;fill-rule:evenodd;stroke:#000000;stroke-width:2.0px;stroke-linecap:butt;stroke-linejoin:miter;stroke-opacity:1\"/>\n",
       "<path class=\"bond-56 atom-55 atom-56\" d=\"M 304.3,103.6 L 295.6,107.9\" style=\"fill:none;fill-rule:evenodd;stroke:#000000;stroke-width:2.0px;stroke-linecap:butt;stroke-linejoin:miter;stroke-opacity:1\"/>\n",
       "<path class=\"bond-56 atom-55 atom-56\" d=\"M 303.9,105.9 L 297.8,109.0\" style=\"fill:none;fill-rule:evenodd;stroke:#000000;stroke-width:2.0px;stroke-linecap:butt;stroke-linejoin:miter;stroke-opacity:1\"/>\n",
       "<path class=\"bond-57 atom-56 atom-57\" d=\"M 295.6,107.9 L 295.1,117.6\" style=\"fill:none;fill-rule:evenodd;stroke:#000000;stroke-width:2.0px;stroke-linecap:butt;stroke-linejoin:miter;stroke-opacity:1\"/>\n",
       "<path class=\"bond-58 atom-57 atom-58\" d=\"M 295.1,117.6 L 303.2,122.9\" style=\"fill:none;fill-rule:evenodd;stroke:#000000;stroke-width:2.0px;stroke-linecap:butt;stroke-linejoin:miter;stroke-opacity:1\"/>\n",
       "<path class=\"bond-58 atom-57 atom-58\" d=\"M 297.4,116.8 L 303.1,120.5\" style=\"fill:none;fill-rule:evenodd;stroke:#000000;stroke-width:2.0px;stroke-linecap:butt;stroke-linejoin:miter;stroke-opacity:1\"/>\n",
       "<path class=\"bond-59 atom-58 atom-59\" d=\"M 303.2,122.9 L 311.9,118.5\" style=\"fill:none;fill-rule:evenodd;stroke:#000000;stroke-width:2.0px;stroke-linecap:butt;stroke-linejoin:miter;stroke-opacity:1\"/>\n",
       "<path class=\"bond-60 atom-59 atom-60\" d=\"M 311.9,118.5 L 312.4,108.9\" style=\"fill:none;fill-rule:evenodd;stroke:#000000;stroke-width:2.0px;stroke-linecap:butt;stroke-linejoin:miter;stroke-opacity:1\"/>\n",
       "<path class=\"bond-60 atom-59 atom-60\" d=\"M 310.0,117.0 L 310.4,110.2\" style=\"fill:none;fill-rule:evenodd;stroke:#000000;stroke-width:2.0px;stroke-linecap:butt;stroke-linejoin:miter;stroke-opacity:1\"/>\n",
       "<path class=\"bond-61 atom-60 atom-55\" d=\"M 312.4,108.9 L 304.3,103.6\" style=\"fill:none;fill-rule:evenodd;stroke:#000000;stroke-width:2.0px;stroke-linecap:butt;stroke-linejoin:miter;stroke-opacity:1\"/>\n",
       "<path class=\"bond-62 atom-50 atom-54\" d=\"M 296.7,88.6 L 304.8,93.9\" style=\"fill:none;fill-rule:evenodd;stroke:#000000;stroke-width:2.0px;stroke-linecap:butt;stroke-linejoin:miter;stroke-opacity:1\"/>\n",
       "<path class=\"bond-63 atom-61 atom-62\" d=\"M 313.4,89.5 L 321.6,94.8\" style=\"fill:none;fill-rule:evenodd;stroke:#000000;stroke-width:2.0px;stroke-linecap:butt;stroke-linejoin:miter;stroke-opacity:1\"/>\n",
       "<path class=\"bond-64 atom-54 atom-61\" d=\"M 304.8,93.9 L 313.4,89.5\" style=\"fill:none;fill-rule:evenodd;stroke:#000000;stroke-width:2.0px;stroke-linecap:butt;stroke-linejoin:miter;stroke-opacity:1\"/>\n",
       "<path class=\"bond-65 atom-63 atom-64\" d=\"M 330.2,90.4 L 338.4,95.7\" style=\"fill:none;fill-rule:evenodd;stroke:#000000;stroke-width:2.0px;stroke-linecap:butt;stroke-linejoin:miter;stroke-opacity:1\"/>\n",
       "<path class=\"bond-66 atom-62 atom-63\" d=\"M 321.6,94.8 L 330.2,90.4\" style=\"fill:none;fill-rule:evenodd;stroke:#000000;stroke-width:2.0px;stroke-linecap:butt;stroke-linejoin:miter;stroke-opacity:1\"/>\n",
       "<path class=\"bond-67 atom-65 atom-66\" d=\"M 51.6,109.4 L 43.5,104.1\" style=\"fill:none;fill-rule:evenodd;stroke:#000000;stroke-width:2.0px;stroke-linecap:butt;stroke-linejoin:miter;stroke-opacity:1\"/>\n",
       "<path class=\"bond-68 atom-53 atom-65\" d=\"M 60.2,105.0 L 51.6,109.4\" style=\"fill:none;fill-rule:evenodd;stroke:#000000;stroke-width:2.0px;stroke-linecap:butt;stroke-linejoin:miter;stroke-opacity:1\"/>\n",
       "<path class=\"bond-69 atom-67 atom-68\" d=\"M 355.1,96.6 L 347.0,91.3\" style=\"fill:none;fill-rule:evenodd;stroke:#000000;stroke-width:2.0px;stroke-linecap:butt;stroke-linejoin:miter;stroke-opacity:1\"/>\n",
       "<path class=\"bond-70 atom-64 atom-68\" d=\"M 338.4,95.7 L 347.0,91.3\" style=\"fill:none;fill-rule:evenodd;stroke:#000000;stroke-width:2.0px;stroke-linecap:butt;stroke-linejoin:miter;stroke-opacity:1\"/>\n",
       "<path class=\"bond-71 atom-69 atom-70\" d=\"M 363.8,92.2 L 371.9,97.5\" style=\"fill:none;fill-rule:evenodd;stroke:#000000;stroke-width:2.0px;stroke-linecap:butt;stroke-linejoin:miter;stroke-opacity:1\"/>\n",
       "<path class=\"bond-72 atom-67 atom-69\" d=\"M 355.1,96.6 L 363.8,92.2\" style=\"fill:none;fill-rule:evenodd;stroke:#000000;stroke-width:2.0px;stroke-linecap:butt;stroke-linejoin:miter;stroke-opacity:1\"/>\n",
       "<path class=\"bond-73 atom-71 atom-72\" d=\"M 388.7,98.4 L 380.6,93.1\" style=\"fill:none;fill-rule:evenodd;stroke:#000000;stroke-width:2.0px;stroke-linecap:butt;stroke-linejoin:miter;stroke-opacity:1\"/>\n",
       "<path class=\"bond-74 atom-70 atom-72\" d=\"M 371.9,97.5 L 380.6,93.1\" style=\"fill:none;fill-rule:evenodd;stroke:#000000;stroke-width:2.0px;stroke-linecap:butt;stroke-linejoin:miter;stroke-opacity:1\"/>\n",
       "<path class=\"bond-75 atom-73 atom-74\" d=\"M 405.5,99.3 L 397.3,94.0\" style=\"fill:none;fill-rule:evenodd;stroke:#000000;stroke-width:2.0px;stroke-linecap:butt;stroke-linejoin:miter;stroke-opacity:1\"/>\n",
       "<path class=\"bond-76 atom-71 atom-74\" d=\"M 388.7,98.4 L 397.3,94.0\" style=\"fill:none;fill-rule:evenodd;stroke:#000000;stroke-width:2.0px;stroke-linecap:butt;stroke-linejoin:miter;stroke-opacity:1\"/>\n",
       "<path class=\"bond-77 atom-75 atom-76\" d=\"M 414.1,94.9 L 417.0,96.8\" style=\"fill:none;fill-rule:evenodd;stroke:#000000;stroke-width:2.0px;stroke-linecap:butt;stroke-linejoin:miter;stroke-opacity:1\"/>\n",
       "<path class=\"bond-77 atom-75 atom-76\" d=\"M 417.0,96.8 L 420.0,98.7\" style=\"fill:none;fill-rule:evenodd;stroke:#FF0000;stroke-width:2.0px;stroke-linecap:butt;stroke-linejoin:miter;stroke-opacity:1\"/>\n",
       "<path class=\"bond-78 atom-76 atom-77\" d=\"M 424.5,99.0 L 427.7,97.4\" style=\"fill:none;fill-rule:evenodd;stroke:#FF0000;stroke-width:2.0px;stroke-linecap:butt;stroke-linejoin:miter;stroke-opacity:1\"/>\n",
       "<path class=\"bond-78 atom-76 atom-77\" d=\"M 427.7,97.4 L 430.9,95.8\" style=\"fill:none;fill-rule:evenodd;stroke:#000000;stroke-width:2.0px;stroke-linecap:butt;stroke-linejoin:miter;stroke-opacity:1\"/>\n",
       "<path class=\"bond-79 atom-73 atom-75\" d=\"M 405.5,99.3 L 414.1,94.9\" style=\"fill:none;fill-rule:evenodd;stroke:#000000;stroke-width:2.0px;stroke-linecap:butt;stroke-linejoin:miter;stroke-opacity:1\"/>\n",
       "<path class=\"bond-80 atom-78 atom-79\" d=\"M 34.8,108.5 L 31.7,106.5\" style=\"fill:none;fill-rule:evenodd;stroke:#000000;stroke-width:2.0px;stroke-linecap:butt;stroke-linejoin:miter;stroke-opacity:1\"/>\n",
       "<path class=\"bond-80 atom-78 atom-79\" d=\"M 31.7,106.5 L 28.6,104.5\" style=\"fill:none;fill-rule:evenodd;stroke:#0000FF;stroke-width:2.0px;stroke-linecap:butt;stroke-linejoin:miter;stroke-opacity:1\"/>\n",
       "<path class=\"bond-81 atom-66 atom-78\" d=\"M 43.5,104.1 L 34.8,108.5\" style=\"fill:none;fill-rule:evenodd;stroke:#000000;stroke-width:2.0px;stroke-linecap:butt;stroke-linejoin:miter;stroke-opacity:1\"/>\n",
       "<path class=\"atom-0\" d=\"M 164.6 21.1 L 166.0 23.4 Q 166.2 23.6, 166.4 24.0 Q 166.6 24.4, 166.6 24.4 L 166.6 21.1 L 167.2 21.1 L 167.2 25.4 L 166.6 25.4 L 165.1 22.9 Q 164.9 22.6, 164.8 22.3 Q 164.6 22.0, 164.5 21.9 L 164.5 25.4 L 164.0 25.4 L 164.0 21.1 L 164.6 21.1 \" fill=\"#0000FF\"/>\n",
       "<path class=\"atom-0\" d=\"M 167.7 21.1 L 168.3 21.1 L 168.3 22.9 L 170.4 22.9 L 170.4 21.1 L 171.0 21.1 L 171.0 25.4 L 170.4 25.4 L 170.4 23.4 L 168.3 23.4 L 168.3 25.4 L 167.7 25.4 L 167.7 21.1 \" fill=\"#0000FF\"/>\n",
       "<path class=\"atom-0\" d=\"M 171.5 25.2 Q 171.6 25.0, 171.9 24.8 Q 172.1 24.7, 172.5 24.7 Q 172.9 24.7, 173.1 24.9 Q 173.4 25.1, 173.4 25.5 Q 173.4 25.9, 173.1 26.3 Q 172.8 26.7, 172.1 27.2 L 173.4 27.2 L 173.4 27.5 L 171.5 27.5 L 171.5 27.2 Q 172.1 26.9, 172.4 26.6 Q 172.7 26.3, 172.8 26.0 Q 173.0 25.8, 173.0 25.5 Q 173.0 25.3, 172.8 25.1 Q 172.7 25.0, 172.5 25.0 Q 172.2 25.0, 172.1 25.1 Q 171.9 25.2, 171.8 25.4 L 171.5 25.2 \" fill=\"#0000FF\"/>\n",
       "<path class=\"atom-76\" d=\"M 420.3 100.2 Q 420.3 99.2, 420.8 98.6 Q 421.3 98.0, 422.2 98.0 Q 423.2 98.0, 423.7 98.6 Q 424.2 99.2, 424.2 100.2 Q 424.2 101.2, 423.7 101.8 Q 423.2 102.4, 422.2 102.4 Q 421.3 102.4, 420.8 101.8 Q 420.3 101.2, 420.3 100.2 M 422.2 101.9 Q 422.9 101.9, 423.2 101.5 Q 423.6 101.1, 423.6 100.2 Q 423.6 99.4, 423.2 98.9 Q 422.9 98.5, 422.2 98.5 Q 421.6 98.5, 421.2 98.9 Q 420.9 99.4, 420.9 100.2 Q 420.9 101.1, 421.2 101.5 Q 421.6 101.9, 422.2 101.9 \" fill=\"#FF0000\"/>\n",
       "<path class=\"atom-79\" d=\"M 19.1 101.1 L 19.7 101.1 L 19.7 102.9 L 21.9 102.9 L 21.9 101.1 L 22.4 101.1 L 22.4 105.3 L 21.9 105.3 L 21.9 103.4 L 19.7 103.4 L 19.7 105.3 L 19.1 105.3 L 19.1 101.1 \" fill=\"#0000FF\"/>\n",
       "<path class=\"atom-79\" d=\"M 23.0 105.2 Q 23.1 104.9, 23.3 104.8 Q 23.6 104.6, 23.9 104.6 Q 24.3 104.6, 24.6 104.8 Q 24.8 105.1, 24.8 105.5 Q 24.8 105.9, 24.5 106.3 Q 24.2 106.7, 23.5 107.1 L 24.8 107.1 L 24.8 107.4 L 23.0 107.4 L 23.0 107.2 Q 23.5 106.8, 23.8 106.5 Q 24.1 106.2, 24.2 106.0 Q 24.4 105.8, 24.4 105.5 Q 24.4 105.2, 24.3 105.1 Q 24.1 104.9, 23.9 104.9 Q 23.7 104.9, 23.5 105.0 Q 23.4 105.1, 23.3 105.3 L 23.0 105.2 \" fill=\"#0000FF\"/>\n",
       "<path class=\"atom-79\" d=\"M 25.7 101.1 L 27.1 103.3 Q 27.3 103.5, 27.5 103.9 Q 27.7 104.3, 27.7 104.4 L 27.7 101.1 L 28.3 101.1 L 28.3 105.3 L 27.7 105.3 L 26.2 102.9 Q 26.0 102.6, 25.9 102.2 Q 25.7 101.9, 25.6 101.8 L 25.6 105.3 L 25.1 105.3 L 25.1 101.1 L 25.7 101.1 \" fill=\"#0000FF\"/>\n",
       "</svg>"
      ],
      "text/plain": [
       "<IPython.core.display.SVG object>"
      ]
     },
     "execution_count": 46,
     "metadata": {},
     "output_type": "execute_result"
    }
   ],
   "source": [
    "big_smiles_gen(big)"
   ]
  },
  {
   "cell_type": "code",
   "execution_count": 47,
   "id": "7e775e4e",
   "metadata": {},
   "outputs": [
    {
     "data": {
      "image/svg+xml": [
       "<svg xmlns=\"http://www.w3.org/2000/svg\" xmlns:rdkit=\"http://www.rdkit.org/xml\" xmlns:xlink=\"http://www.w3.org/1999/xlink\" version=\"1.1\" baseProfile=\"full\" xml:space=\"preserve\" width=\"450px\" height=\"150px\" viewBox=\"0 0 450 150\">\n",
       "<!-- END OF HEADER -->\n",
       "<rect style=\"opacity:1.0;fill:#FFFFFF;stroke:none\" width=\"450.0\" height=\"150.0\" x=\"0.0\" y=\"0.0\"> </rect>\n",
       "<path class=\"bond-0 atom-0 atom-1\" d=\"M 333.0,8.8 L 328.7,9.0\" style=\"fill:none;fill-rule:evenodd;stroke:#0000FF;stroke-width:2.0px;stroke-linecap:butt;stroke-linejoin:miter;stroke-opacity:1\"/>\n",
       "<path class=\"bond-0 atom-0 atom-1\" d=\"M 328.7,9.0 L 324.4,9.3\" style=\"fill:none;fill-rule:evenodd;stroke:#000000;stroke-width:2.0px;stroke-linecap:butt;stroke-linejoin:miter;stroke-opacity:1\"/>\n",
       "<path class=\"bond-1 atom-2 atom-3\" d=\"M 309.2,19.5 L 319.8,18.8\" style=\"fill:none;fill-rule:evenodd;stroke:#000000;stroke-width:2.0px;stroke-linecap:butt;stroke-linejoin:miter;stroke-opacity:1\"/>\n",
       "<path class=\"bond-2 atom-1 atom-3\" d=\"M 324.4,9.3 L 319.8,18.8\" style=\"fill:none;fill-rule:evenodd;stroke:#000000;stroke-width:2.0px;stroke-linecap:butt;stroke-linejoin:miter;stroke-opacity:1\"/>\n",
       "<path class=\"bond-3 atom-4 atom-5\" d=\"M 294.0,29.7 L 304.6,29.0\" style=\"fill:none;fill-rule:evenodd;stroke:#000000;stroke-width:2.0px;stroke-linecap:butt;stroke-linejoin:miter;stroke-opacity:1\"/>\n",
       "<path class=\"bond-4 atom-2 atom-5\" d=\"M 309.2,19.5 L 304.6,29.0\" style=\"fill:none;fill-rule:evenodd;stroke:#000000;stroke-width:2.0px;stroke-linecap:butt;stroke-linejoin:miter;stroke-opacity:1\"/>\n",
       "<path class=\"bond-5 atom-6 atom-7\" d=\"M 289.3,39.2 L 278.8,39.9\" style=\"fill:none;fill-rule:evenodd;stroke:#000000;stroke-width:2.0px;stroke-linecap:butt;stroke-linejoin:miter;stroke-opacity:1\"/>\n",
       "<path class=\"bond-6 atom-7 atom-8\" d=\"M 278.8,39.9 L 274.1,49.4\" style=\"fill:none;fill-rule:evenodd;stroke:#000000;stroke-width:2.0px;stroke-linecap:butt;stroke-linejoin:miter;stroke-opacity:1\"/>\n",
       "<path class=\"bond-7 atom-8 atom-9\" d=\"M 274.1,49.4 L 280.0,58.2\" style=\"fill:none;fill-rule:evenodd;stroke:#000000;stroke-width:2.0px;stroke-linecap:butt;stroke-linejoin:miter;stroke-opacity:1\"/>\n",
       "<path class=\"bond-8 atom-8 atom-10\" d=\"M 274.1,49.4 L 263.6,50.1\" style=\"fill:none;fill-rule:evenodd;stroke:#000000;stroke-width:2.0px;stroke-linecap:butt;stroke-linejoin:miter;stroke-opacity:1\"/>\n",
       "<path class=\"bond-9 atom-10 atom-11\" d=\"M 263.6,50.1 L 257.7,41.3\" style=\"fill:none;fill-rule:evenodd;stroke:#000000;stroke-width:2.0px;stroke-linecap:butt;stroke-linejoin:miter;stroke-opacity:1\"/>\n",
       "<path class=\"bond-10 atom-4 atom-6\" d=\"M 294.0,29.7 L 289.3,39.2\" style=\"fill:none;fill-rule:evenodd;stroke:#000000;stroke-width:2.0px;stroke-linecap:butt;stroke-linejoin:miter;stroke-opacity:1\"/>\n",
       "<path class=\"bond-11 atom-12 atom-13\" d=\"M 258.9,59.6 L 264.8,68.3\" style=\"fill:none;fill-rule:evenodd;stroke:#000000;stroke-width:2.0px;stroke-linecap:butt;stroke-linejoin:miter;stroke-opacity:1\"/>\n",
       "<path class=\"bond-12 atom-10 atom-12\" d=\"M 263.6,50.1 L 258.9,59.6\" style=\"fill:none;fill-rule:evenodd;stroke:#000000;stroke-width:2.0px;stroke-linecap:butt;stroke-linejoin:miter;stroke-opacity:1\"/>\n",
       "<path class=\"bond-13 atom-14 atom-15\" d=\"M 266.0,86.6 L 260.2,77.8\" style=\"fill:none;fill-rule:evenodd;stroke:#000000;stroke-width:2.0px;stroke-linecap:butt;stroke-linejoin:miter;stroke-opacity:1\"/>\n",
       "<path class=\"bond-14 atom-13 atom-15\" d=\"M 264.8,68.3 L 260.2,77.8\" style=\"fill:none;fill-rule:evenodd;stroke:#000000;stroke-width:2.0px;stroke-linecap:butt;stroke-linejoin:miter;stroke-opacity:1\"/>\n",
       "<path class=\"bond-15 atom-16 atom-17\" d=\"M 261.4,96.1 L 267.3,104.9\" style=\"fill:none;fill-rule:evenodd;stroke:#000000;stroke-width:2.0px;stroke-linecap:butt;stroke-linejoin:miter;stroke-opacity:1\"/>\n",
       "<path class=\"bond-16 atom-14 atom-16\" d=\"M 266.0,86.6 L 261.4,96.1\" style=\"fill:none;fill-rule:evenodd;stroke:#000000;stroke-width:2.0px;stroke-linecap:butt;stroke-linejoin:miter;stroke-opacity:1\"/>\n",
       "<path class=\"bond-17 atom-18 atom-19\" d=\"M 262.6,114.3 L 268.5,123.1\" style=\"fill:none;fill-rule:evenodd;stroke:#000000;stroke-width:2.0px;stroke-linecap:butt;stroke-linejoin:miter;stroke-opacity:1\"/>\n",
       "<path class=\"bond-18 atom-19 atom-20\" d=\"M 268.5,123.1 L 263.8,132.6\" style=\"fill:none;fill-rule:evenodd;stroke:#000000;stroke-width:2.0px;stroke-linecap:butt;stroke-linejoin:miter;stroke-opacity:1\"/>\n",
       "<path class=\"bond-18 atom-19 atom-20\" d=\"M 269.7,125.5 L 266.4,132.1\" style=\"fill:none;fill-rule:evenodd;stroke:#000000;stroke-width:2.0px;stroke-linecap:butt;stroke-linejoin:miter;stroke-opacity:1\"/>\n",
       "<path class=\"bond-19 atom-20 atom-21\" d=\"M 263.8,132.6 L 269.7,141.4\" style=\"fill:none;fill-rule:evenodd;stroke:#000000;stroke-width:2.0px;stroke-linecap:butt;stroke-linejoin:miter;stroke-opacity:1\"/>\n",
       "<path class=\"bond-20 atom-21 atom-22\" d=\"M 269.7,141.4 L 280.2,140.7\" style=\"fill:none;fill-rule:evenodd;stroke:#000000;stroke-width:2.0px;stroke-linecap:butt;stroke-linejoin:miter;stroke-opacity:1\"/>\n",
       "<path class=\"bond-20 atom-21 atom-22\" d=\"M 271.1,139.2 L 278.5,138.7\" style=\"fill:none;fill-rule:evenodd;stroke:#000000;stroke-width:2.0px;stroke-linecap:butt;stroke-linejoin:miter;stroke-opacity:1\"/>\n",
       "<path class=\"bond-21 atom-22 atom-23\" d=\"M 280.2,140.7 L 284.9,131.2\" style=\"fill:none;fill-rule:evenodd;stroke:#000000;stroke-width:2.0px;stroke-linecap:butt;stroke-linejoin:miter;stroke-opacity:1\"/>\n",
       "<path class=\"bond-22 atom-23 atom-24\" d=\"M 284.9,131.2 L 279.0,122.4\" style=\"fill:none;fill-rule:evenodd;stroke:#000000;stroke-width:2.0px;stroke-linecap:butt;stroke-linejoin:miter;stroke-opacity:1\"/>\n",
       "<path class=\"bond-22 atom-23 atom-24\" d=\"M 282.3,131.1 L 278.1,124.9\" style=\"fill:none;fill-rule:evenodd;stroke:#000000;stroke-width:2.0px;stroke-linecap:butt;stroke-linejoin:miter;stroke-opacity:1\"/>\n",
       "<path class=\"bond-23 atom-24 atom-19\" d=\"M 279.0,122.4 L 268.5,123.1\" style=\"fill:none;fill-rule:evenodd;stroke:#000000;stroke-width:2.0px;stroke-linecap:butt;stroke-linejoin:miter;stroke-opacity:1\"/>\n",
       "<path class=\"bond-24 atom-17 atom-18\" d=\"M 267.3,104.9 L 262.6,114.3\" style=\"fill:none;fill-rule:evenodd;stroke:#000000;stroke-width:2.0px;stroke-linecap:butt;stroke-linejoin:miter;stroke-opacity:1\"/>\n",
       "<path class=\"bond-25 atom-25 atom-26\" d=\"M 252.1,115.0 L 247.4,124.5\" style=\"fill:none;fill-rule:evenodd;stroke:#000000;stroke-width:2.0px;stroke-linecap:butt;stroke-linejoin:miter;stroke-opacity:1\"/>\n",
       "<path class=\"bond-26 atom-26 atom-27\" d=\"M 247.4,124.5 L 236.8,125.2\" style=\"fill:none;fill-rule:evenodd;stroke:#000000;stroke-width:2.0px;stroke-linecap:butt;stroke-linejoin:miter;stroke-opacity:1\"/>\n",
       "<path class=\"bond-26 atom-26 atom-27\" d=\"M 245.9,126.7 L 238.6,127.2\" style=\"fill:none;fill-rule:evenodd;stroke:#000000;stroke-width:2.0px;stroke-linecap:butt;stroke-linejoin:miter;stroke-opacity:1\"/>\n",
       "<path class=\"bond-27 atom-27 atom-28\" d=\"M 236.8,125.2 L 232.2,134.7\" style=\"fill:none;fill-rule:evenodd;stroke:#000000;stroke-width:2.0px;stroke-linecap:butt;stroke-linejoin:miter;stroke-opacity:1\"/>\n",
       "<path class=\"bond-28 atom-28 atom-29\" d=\"M 232.2,134.7 L 238.1,143.5\" style=\"fill:none;fill-rule:evenodd;stroke:#000000;stroke-width:2.0px;stroke-linecap:butt;stroke-linejoin:miter;stroke-opacity:1\"/>\n",
       "<path class=\"bond-28 atom-28 atom-29\" d=\"M 234.8,134.9 L 238.9,141.0\" style=\"fill:none;fill-rule:evenodd;stroke:#000000;stroke-width:2.0px;stroke-linecap:butt;stroke-linejoin:miter;stroke-opacity:1\"/>\n",
       "<path class=\"bond-29 atom-29 atom-30\" d=\"M 238.1,143.5 L 248.6,142.8\" style=\"fill:none;fill-rule:evenodd;stroke:#000000;stroke-width:2.0px;stroke-linecap:butt;stroke-linejoin:miter;stroke-opacity:1\"/>\n",
       "<path class=\"bond-30 atom-30 atom-31\" d=\"M 248.6,142.8 L 253.3,133.3\" style=\"fill:none;fill-rule:evenodd;stroke:#000000;stroke-width:2.0px;stroke-linecap:butt;stroke-linejoin:miter;stroke-opacity:1\"/>\n",
       "<path class=\"bond-30 atom-30 atom-31\" d=\"M 247.4,140.4 L 250.7,133.8\" style=\"fill:none;fill-rule:evenodd;stroke:#000000;stroke-width:2.0px;stroke-linecap:butt;stroke-linejoin:miter;stroke-opacity:1\"/>\n",
       "<path class=\"bond-31 atom-31 atom-26\" d=\"M 253.3,133.3 L 247.4,124.5\" style=\"fill:none;fill-rule:evenodd;stroke:#000000;stroke-width:2.0px;stroke-linecap:butt;stroke-linejoin:miter;stroke-opacity:1\"/>\n",
       "<path class=\"bond-32 atom-18 atom-25\" d=\"M 262.6,114.3 L 252.1,115.0\" style=\"fill:none;fill-rule:evenodd;stroke:#000000;stroke-width:2.0px;stroke-linecap:butt;stroke-linejoin:miter;stroke-opacity:1\"/>\n",
       "<path class=\"bond-33 atom-32 atom-33\" d=\"M 235.6,107.0 L 246.2,106.3\" style=\"fill:none;fill-rule:evenodd;stroke:#000000;stroke-width:2.0px;stroke-linecap:butt;stroke-linejoin:miter;stroke-opacity:1\"/>\n",
       "<path class=\"bond-34 atom-25 atom-33\" d=\"M 252.1,115.0 L 246.2,106.3\" style=\"fill:none;fill-rule:evenodd;stroke:#000000;stroke-width:2.0px;stroke-linecap:butt;stroke-linejoin:miter;stroke-opacity:1\"/>\n",
       "<path class=\"bond-35 atom-34 atom-35\" d=\"M 219.2,98.9 L 229.7,98.2\" style=\"fill:none;fill-rule:evenodd;stroke:#000000;stroke-width:2.0px;stroke-linecap:butt;stroke-linejoin:miter;stroke-opacity:1\"/>\n",
       "<path class=\"bond-36 atom-32 atom-35\" d=\"M 235.6,107.0 L 229.7,98.2\" style=\"fill:none;fill-rule:evenodd;stroke:#000000;stroke-width:2.0px;stroke-linecap:butt;stroke-linejoin:miter;stroke-opacity:1\"/>\n",
       "<path class=\"bond-37 atom-36 atom-37\" d=\"M 202.8,90.8 L 213.3,90.1\" style=\"fill:none;fill-rule:evenodd;stroke:#000000;stroke-width:2.0px;stroke-linecap:butt;stroke-linejoin:miter;stroke-opacity:1\"/>\n",
       "<path class=\"bond-38 atom-34 atom-37\" d=\"M 219.2,98.9 L 213.3,90.1\" style=\"fill:none;fill-rule:evenodd;stroke:#000000;stroke-width:2.0px;stroke-linecap:butt;stroke-linejoin:miter;stroke-opacity:1\"/>\n",
       "<path class=\"bond-39 atom-38 atom-39\" d=\"M 186.4,82.7 L 196.9,82.0\" style=\"fill:none;fill-rule:evenodd;stroke:#000000;stroke-width:2.0px;stroke-linecap:butt;stroke-linejoin:miter;stroke-opacity:1\"/>\n",
       "<path class=\"bond-40 atom-36 atom-39\" d=\"M 202.8,90.8 L 196.9,82.0\" style=\"fill:none;fill-rule:evenodd;stroke:#000000;stroke-width:2.0px;stroke-linecap:butt;stroke-linejoin:miter;stroke-opacity:1\"/>\n",
       "<path class=\"bond-41 atom-40 atom-41\" d=\"M 180.5,74.0 L 169.9,74.7\" style=\"fill:none;fill-rule:evenodd;stroke:#000000;stroke-width:2.0px;stroke-linecap:butt;stroke-linejoin:miter;stroke-opacity:1\"/>\n",
       "<path class=\"bond-42 atom-38 atom-40\" d=\"M 186.4,82.7 L 180.5,74.0\" style=\"fill:none;fill-rule:evenodd;stroke:#000000;stroke-width:2.0px;stroke-linecap:butt;stroke-linejoin:miter;stroke-opacity:1\"/>\n",
       "<path class=\"bond-43 atom-42 atom-43\" d=\"M 153.5,66.6 L 164.0,65.9\" style=\"fill:none;fill-rule:evenodd;stroke:#000000;stroke-width:2.0px;stroke-linecap:butt;stroke-linejoin:miter;stroke-opacity:1\"/>\n",
       "<path class=\"bond-44 atom-41 atom-43\" d=\"M 169.9,74.7 L 164.0,65.9\" style=\"fill:none;fill-rule:evenodd;stroke:#000000;stroke-width:2.0px;stroke-linecap:butt;stroke-linejoin:miter;stroke-opacity:1\"/>\n",
       "<path class=\"bond-45 atom-44 atom-45\" d=\"M 147.6,57.8 L 152.3,48.3\" style=\"fill:none;fill-rule:evenodd;stroke:#000000;stroke-width:2.0px;stroke-linecap:butt;stroke-linejoin:miter;stroke-opacity:1\"/>\n",
       "<path class=\"bond-46 atom-45 atom-46\" d=\"M 152.3,48.3 L 162.8,47.6\" style=\"fill:none;fill-rule:evenodd;stroke:#000000;stroke-width:2.0px;stroke-linecap:butt;stroke-linejoin:miter;stroke-opacity:1\"/>\n",
       "<path class=\"bond-46 atom-45 atom-46\" d=\"M 153.7,46.1 L 161.1,45.6\" style=\"fill:none;fill-rule:evenodd;stroke:#000000;stroke-width:2.0px;stroke-linecap:butt;stroke-linejoin:miter;stroke-opacity:1\"/>\n",
       "<path class=\"bond-47 atom-46 atom-47\" d=\"M 162.8,47.6 L 167.5,38.2\" style=\"fill:none;fill-rule:evenodd;stroke:#000000;stroke-width:2.0px;stroke-linecap:butt;stroke-linejoin:miter;stroke-opacity:1\"/>\n",
       "<path class=\"bond-48 atom-47 atom-48\" d=\"M 167.5,38.2 L 161.6,29.4\" style=\"fill:none;fill-rule:evenodd;stroke:#000000;stroke-width:2.0px;stroke-linecap:butt;stroke-linejoin:miter;stroke-opacity:1\"/>\n",
       "<path class=\"bond-48 atom-47 atom-48\" d=\"M 164.9,38.0 L 160.7,31.9\" style=\"fill:none;fill-rule:evenodd;stroke:#000000;stroke-width:2.0px;stroke-linecap:butt;stroke-linejoin:miter;stroke-opacity:1\"/>\n",
       "<path class=\"bond-49 atom-48 atom-49\" d=\"M 161.6,29.4 L 151.1,30.1\" style=\"fill:none;fill-rule:evenodd;stroke:#000000;stroke-width:2.0px;stroke-linecap:butt;stroke-linejoin:miter;stroke-opacity:1\"/>\n",
       "<path class=\"bond-50 atom-49 atom-50\" d=\"M 151.1,30.1 L 146.4,39.6\" style=\"fill:none;fill-rule:evenodd;stroke:#000000;stroke-width:2.0px;stroke-linecap:butt;stroke-linejoin:miter;stroke-opacity:1\"/>\n",
       "<path class=\"bond-50 atom-49 atom-50\" d=\"M 152.3,32.4 L 149.0,39.1\" style=\"fill:none;fill-rule:evenodd;stroke:#000000;stroke-width:2.0px;stroke-linecap:butt;stroke-linejoin:miter;stroke-opacity:1\"/>\n",
       "<path class=\"bond-51 atom-50 atom-45\" d=\"M 146.4,39.6 L 152.3,48.3\" style=\"fill:none;fill-rule:evenodd;stroke:#000000;stroke-width:2.0px;stroke-linecap:butt;stroke-linejoin:miter;stroke-opacity:1\"/>\n",
       "<path class=\"bond-52 atom-42 atom-44\" d=\"M 153.5,66.6 L 147.6,57.8\" style=\"fill:none;fill-rule:evenodd;stroke:#000000;stroke-width:2.0px;stroke-linecap:butt;stroke-linejoin:miter;stroke-opacity:1\"/>\n",
       "<path class=\"bond-53 atom-51 atom-52\" d=\"M 137.1,58.5 L 131.2,49.7\" style=\"fill:none;fill-rule:evenodd;stroke:#000000;stroke-width:2.0px;stroke-linecap:butt;stroke-linejoin:miter;stroke-opacity:1\"/>\n",
       "<path class=\"bond-54 atom-44 atom-51\" d=\"M 147.6,57.8 L 137.1,58.5\" style=\"fill:none;fill-rule:evenodd;stroke:#000000;stroke-width:2.0px;stroke-linecap:butt;stroke-linejoin:miter;stroke-opacity:1\"/>\n",
       "<path class=\"bond-55 atom-53 atom-54\" d=\"M 290.6,57.4 L 296.4,66.2\" style=\"fill:none;fill-rule:evenodd;stroke:#000000;stroke-width:2.0px;stroke-linecap:butt;stroke-linejoin:miter;stroke-opacity:1\"/>\n",
       "<path class=\"bond-56 atom-9 atom-53\" d=\"M 280.0,58.2 L 290.6,57.4\" style=\"fill:none;fill-rule:evenodd;stroke:#000000;stroke-width:2.0px;stroke-linecap:butt;stroke-linejoin:miter;stroke-opacity:1\"/>\n",
       "<path class=\"bond-57 atom-55 atom-56\" d=\"M 307.0,65.5 L 311.7,56.0\" style=\"fill:none;fill-rule:evenodd;stroke:#000000;stroke-width:2.0px;stroke-linecap:butt;stroke-linejoin:miter;stroke-opacity:1\"/>\n",
       "<path class=\"bond-58 atom-56 atom-57\" d=\"M 311.7,56.0 L 322.2,55.3\" style=\"fill:none;fill-rule:evenodd;stroke:#000000;stroke-width:2.0px;stroke-linecap:butt;stroke-linejoin:miter;stroke-opacity:1\"/>\n",
       "<path class=\"bond-58 atom-56 atom-57\" d=\"M 313.1,53.8 L 320.5,53.3\" style=\"fill:none;fill-rule:evenodd;stroke:#000000;stroke-width:2.0px;stroke-linecap:butt;stroke-linejoin:miter;stroke-opacity:1\"/>\n",
       "<path class=\"bond-59 atom-57 atom-58\" d=\"M 322.2,55.3 L 326.9,45.9\" style=\"fill:none;fill-rule:evenodd;stroke:#000000;stroke-width:2.0px;stroke-linecap:butt;stroke-linejoin:miter;stroke-opacity:1\"/>\n",
       "<path class=\"bond-60 atom-58 atom-59\" d=\"M 326.9,45.9 L 321.0,37.1\" style=\"fill:none;fill-rule:evenodd;stroke:#000000;stroke-width:2.0px;stroke-linecap:butt;stroke-linejoin:miter;stroke-opacity:1\"/>\n",
       "<path class=\"bond-60 atom-58 atom-59\" d=\"M 324.2,45.7 L 320.1,39.6\" style=\"fill:none;fill-rule:evenodd;stroke:#000000;stroke-width:2.0px;stroke-linecap:butt;stroke-linejoin:miter;stroke-opacity:1\"/>\n",
       "<path class=\"bond-61 atom-59 atom-60\" d=\"M 321.0,37.1 L 310.4,37.8\" style=\"fill:none;fill-rule:evenodd;stroke:#000000;stroke-width:2.0px;stroke-linecap:butt;stroke-linejoin:miter;stroke-opacity:1\"/>\n",
       "<path class=\"bond-62 atom-60 atom-61\" d=\"M 310.4,37.8 L 305.8,47.3\" style=\"fill:none;fill-rule:evenodd;stroke:#000000;stroke-width:2.0px;stroke-linecap:butt;stroke-linejoin:miter;stroke-opacity:1\"/>\n",
       "<path class=\"bond-62 atom-60 atom-61\" d=\"M 311.6,40.1 L 308.4,46.8\" style=\"fill:none;fill-rule:evenodd;stroke:#000000;stroke-width:2.0px;stroke-linecap:butt;stroke-linejoin:miter;stroke-opacity:1\"/>\n",
       "<path class=\"bond-63 atom-61 atom-56\" d=\"M 305.8,47.3 L 311.7,56.0\" style=\"fill:none;fill-rule:evenodd;stroke:#000000;stroke-width:2.0px;stroke-linecap:butt;stroke-linejoin:miter;stroke-opacity:1\"/>\n",
       "<path class=\"bond-64 atom-54 atom-55\" d=\"M 296.4,66.2 L 307.0,65.5\" style=\"fill:none;fill-rule:evenodd;stroke:#000000;stroke-width:2.0px;stroke-linecap:butt;stroke-linejoin:miter;stroke-opacity:1\"/>\n",
       "<path class=\"bond-65 atom-62 atom-63\" d=\"M 312.9,74.3 L 317.0,74.0\" style=\"fill:none;fill-rule:evenodd;stroke:#000000;stroke-width:2.0px;stroke-linecap:butt;stroke-linejoin:miter;stroke-opacity:1\"/>\n",
       "<path class=\"bond-65 atom-62 atom-63\" d=\"M 317.0,74.0 L 321.1,73.8\" style=\"fill:none;fill-rule:evenodd;stroke:#FF0000;stroke-width:2.0px;stroke-linecap:butt;stroke-linejoin:miter;stroke-opacity:1\"/>\n",
       "<path class=\"bond-66 atom-63 atom-64\" d=\"M 325.1,76.2 L 327.2,79.3\" style=\"fill:none;fill-rule:evenodd;stroke:#FF0000;stroke-width:2.0px;stroke-linecap:butt;stroke-linejoin:miter;stroke-opacity:1\"/>\n",
       "<path class=\"bond-66 atom-63 atom-64\" d=\"M 327.2,79.3 L 329.3,82.4\" style=\"fill:none;fill-rule:evenodd;stroke:#000000;stroke-width:2.0px;stroke-linecap:butt;stroke-linejoin:miter;stroke-opacity:1\"/>\n",
       "<path class=\"bond-67 atom-55 atom-62\" d=\"M 307.0,65.5 L 312.9,74.3\" style=\"fill:none;fill-rule:evenodd;stroke:#000000;stroke-width:2.0px;stroke-linecap:butt;stroke-linejoin:miter;stroke-opacity:1\"/>\n",
       "<path class=\"bond-68 atom-65 atom-66\" d=\"M 120.7,50.4 L 118.5,47.3\" style=\"fill:none;fill-rule:evenodd;stroke:#000000;stroke-width:2.0px;stroke-linecap:butt;stroke-linejoin:miter;stroke-opacity:1\"/>\n",
       "<path class=\"bond-68 atom-65 atom-66\" d=\"M 118.5,47.3 L 116.4,44.1\" style=\"fill:none;fill-rule:evenodd;stroke:#0000FF;stroke-width:2.0px;stroke-linecap:butt;stroke-linejoin:miter;stroke-opacity:1\"/>\n",
       "<path class=\"bond-69 atom-52 atom-65\" d=\"M 131.2,49.7 L 120.7,50.4\" style=\"fill:none;fill-rule:evenodd;stroke:#000000;stroke-width:2.0px;stroke-linecap:butt;stroke-linejoin:miter;stroke-opacity:1\"/>\n",
       "<path class=\"atom-0\" d=\"M 334.0 6.5 L 335.4 8.8 Q 335.6 9.0, 335.8 9.4 Q 336.0 9.8, 336.0 9.8 L 336.0 6.5 L 336.6 6.5 L 336.6 10.8 L 336.0 10.8 L 334.5 8.3 Q 334.3 8.0, 334.1 7.7 Q 334.0 7.3, 333.9 7.2 L 333.9 10.8 L 333.4 10.8 L 333.4 6.5 L 334.0 6.5 \" fill=\"#0000FF\"/>\n",
       "<path class=\"atom-0\" d=\"M 337.1 6.5 L 337.6 6.5 L 337.6 8.3 L 339.8 8.3 L 339.8 6.5 L 340.4 6.5 L 340.4 10.8 L 339.8 10.8 L 339.8 8.8 L 337.6 8.8 L 337.6 10.8 L 337.1 10.8 L 337.1 6.5 \" fill=\"#0000FF\"/>\n",
       "<path class=\"atom-0\" d=\"M 340.9 10.6 Q 341.0 10.3, 341.3 10.2 Q 341.5 10.0, 341.8 10.0 Q 342.3 10.0, 342.5 10.3 Q 342.7 10.5, 342.7 10.9 Q 342.7 11.3, 342.4 11.7 Q 342.1 12.1, 341.5 12.6 L 342.8 12.6 L 342.8 12.9 L 340.9 12.9 L 340.9 12.6 Q 341.4 12.2, 341.7 12.0 Q 342.1 11.7, 342.2 11.4 Q 342.4 11.2, 342.4 10.9 Q 342.4 10.7, 342.2 10.5 Q 342.1 10.4, 341.8 10.4 Q 341.6 10.4, 341.5 10.4 Q 341.3 10.5, 341.2 10.7 L 340.9 10.6 \" fill=\"#0000FF\"/>\n",
       "<path class=\"atom-63\" d=\"M 321.5 73.6 Q 321.5 72.6, 322.0 72.0 Q 322.5 71.5, 323.4 71.5 Q 324.4 71.5, 324.9 72.0 Q 325.4 72.6, 325.4 73.6 Q 325.4 74.6, 324.9 75.2 Q 324.3 75.8, 323.4 75.8 Q 322.5 75.8, 322.0 75.2 Q 321.5 74.6, 321.5 73.6 M 323.4 75.3 Q 324.1 75.3, 324.4 74.9 Q 324.8 74.5, 324.8 73.6 Q 324.8 72.8, 324.4 72.4 Q 324.1 71.9, 323.4 71.9 Q 322.8 71.9, 322.4 72.4 Q 322.1 72.8, 322.1 73.6 Q 322.1 74.5, 322.4 74.9 Q 322.8 75.3, 323.4 75.3 \" fill=\"#FF0000\"/>\n",
       "<path class=\"atom-66\" d=\"M 107.2 39.5 L 107.8 39.5 L 107.8 41.4 L 110.0 41.4 L 110.0 39.5 L 110.5 39.5 L 110.5 43.8 L 110.0 43.8 L 110.0 41.8 L 107.8 41.8 L 107.8 43.8 L 107.2 43.8 L 107.2 39.5 \" fill=\"#0000FF\"/>\n",
       "<path class=\"atom-66\" d=\"M 111.0 43.6 Q 111.1 43.4, 111.4 43.2 Q 111.6 43.1, 112.0 43.1 Q 112.4 43.1, 112.6 43.3 Q 112.9 43.5, 112.9 43.9 Q 112.9 44.4, 112.6 44.8 Q 112.3 45.1, 111.6 45.6 L 112.9 45.6 L 112.9 45.9 L 111.0 45.9 L 111.0 45.7 Q 111.6 45.3, 111.9 45.0 Q 112.2 44.7, 112.3 44.5 Q 112.5 44.2, 112.5 44.0 Q 112.5 43.7, 112.3 43.5 Q 112.2 43.4, 112.0 43.4 Q 111.8 43.4, 111.6 43.5 Q 111.5 43.6, 111.3 43.8 L 111.0 43.6 \" fill=\"#0000FF\"/>\n",
       "<path class=\"atom-66\" d=\"M 113.8 39.5 L 115.2 41.8 Q 115.4 42.0, 115.6 42.4 Q 115.8 42.8, 115.8 42.8 L 115.8 39.5 L 116.4 39.5 L 116.4 43.8 L 115.8 43.8 L 114.3 41.3 Q 114.1 41.0, 114.0 40.7 Q 113.8 40.4, 113.7 40.3 L 113.7 43.8 L 113.2 43.8 L 113.2 39.5 L 113.8 39.5 \" fill=\"#0000FF\"/>\n",
       "</svg>"
      ],
      "text/plain": [
       "<IPython.core.display.SVG object>"
      ]
     },
     "execution_count": 47,
     "metadata": {},
     "output_type": "execute_result"
    }
   ],
   "source": [
    "big_smiles_gen(big)"
   ]
  },
  {
   "cell_type": "markdown",
   "id": "475a8bce",
   "metadata": {},
   "source": [
    "# Motifs"
   ]
  },
  {
   "cell_type": "code",
   "execution_count": 48,
   "id": "82f4e909",
   "metadata": {},
   "outputs": [
    {
     "data": {
      "image/svg+xml": [
       "<svg xmlns=\"http://www.w3.org/2000/svg\" xmlns:rdkit=\"http://www.rdkit.org/xml\" xmlns:xlink=\"http://www.w3.org/1999/xlink\" version=\"1.1\" baseProfile=\"full\" xml:space=\"preserve\" width=\"450px\" height=\"150px\" viewBox=\"0 0 450 150\">\n",
       "<!-- END OF HEADER -->\n",
       "<rect style=\"opacity:1.0;fill:#FFFFFF;stroke:none\" width=\"450.0\" height=\"150.0\" x=\"0.0\" y=\"0.0\"> </rect>\n",
       "<path class=\"bond-0 atom-0 atom-1\" d=\"M 313.7,67.9 L 189.1,67.9\" style=\"fill:none;fill-rule:evenodd;stroke:#0000FF;stroke-width:2.0px;stroke-linecap:butt;stroke-linejoin:miter;stroke-opacity:1\"/>\n",
       "<path class=\"bond-0 atom-0 atom-1\" d=\"M 189.1,67.9 L 64.5,67.9\" style=\"fill:none;fill-rule:evenodd;stroke:#000000;stroke-width:2.0px;stroke-linecap:butt;stroke-linejoin:miter;stroke-opacity:1\"/>\n",
       "<path class=\"atom-0\" d=\"M 327.0 53.8 L 336.3 68.8 Q 337.2 70.2, 338.7 72.9 Q 340.2 75.6, 340.3 75.8 L 340.3 53.8 L 344.0 53.8 L 344.0 82.1 L 340.1 82.1 L 330.2 65.7 Q 329.0 63.8, 327.8 61.6 Q 326.6 59.4, 326.2 58.7 L 326.2 82.1 L 322.5 82.1 L 322.5 53.8 L 327.0 53.8 \" fill=\"#0000FF\"/>\n",
       "<path class=\"atom-0\" d=\"M 347.3 53.8 L 351.2 53.8 L 351.2 65.8 L 365.7 65.8 L 365.7 53.8 L 369.5 53.8 L 369.5 82.1 L 365.7 82.1 L 365.7 69.0 L 351.2 69.0 L 351.2 82.1 L 347.3 82.1 L 347.3 53.8 \" fill=\"#0000FF\"/>\n",
       "<path class=\"atom-0\" d=\"M 372.9 81.1 Q 373.6 79.3, 375.3 78.3 Q 376.9 77.3, 379.2 77.3 Q 382.0 77.3, 383.6 78.9 Q 385.2 80.4, 385.2 83.1 Q 385.2 85.9, 383.1 88.5 Q 381.1 91.1, 376.9 94.1 L 385.5 94.1 L 385.5 96.2 L 372.9 96.2 L 372.9 94.5 Q 376.4 92.0, 378.4 90.1 Q 380.5 88.3, 381.5 86.6 Q 382.5 85.0, 382.5 83.3 Q 382.5 81.5, 381.6 80.5 Q 380.7 79.4, 379.2 79.4 Q 377.7 79.4, 376.7 80.1 Q 375.7 80.7, 375.0 82.0 L 372.9 81.1 \" fill=\"#0000FF\"/>\n",
       "</svg>"
      ],
      "text/plain": [
       "<IPython.core.display.SVG object>"
      ]
     },
     "execution_count": 48,
     "metadata": {},
     "output_type": "execute_result"
    }
   ],
   "source": [
    "render_svg(moltosvg(Chem.MolFromSmiles(\"NC\")))"
   ]
  },
  {
   "cell_type": "code",
   "execution_count": 49,
   "id": "23f5aca0",
   "metadata": {},
   "outputs": [
    {
     "data": {
      "image/svg+xml": [
       "<svg xmlns=\"http://www.w3.org/2000/svg\" xmlns:rdkit=\"http://www.rdkit.org/xml\" xmlns:xlink=\"http://www.w3.org/1999/xlink\" version=\"1.1\" baseProfile=\"full\" xml:space=\"preserve\" width=\"450px\" height=\"150px\" viewBox=\"0 0 450 150\">\n",
       "<!-- END OF HEADER -->\n",
       "<rect style=\"opacity:1.0;fill:#FFFFFF;stroke:none\" width=\"450.0\" height=\"150.0\" x=\"0.0\" y=\"0.0\"> </rect>\n",
       "<path class=\"bond-0 atom-0 atom-1\" d=\"M 168.8,75.0 L 281.2,75.0\" style=\"fill:none;fill-rule:evenodd;stroke:#000000;stroke-width:2.0px;stroke-linecap:butt;stroke-linejoin:miter;stroke-opacity:1\"/>\n",
       "</svg>"
      ],
      "text/plain": [
       "<IPython.core.display.SVG object>"
      ]
     },
     "execution_count": 49,
     "metadata": {},
     "output_type": "execute_result"
    }
   ],
   "source": [
    "render_svg(moltosvg(Chem.MolFromSmiles(\"CC\")))"
   ]
  },
  {
   "cell_type": "code",
   "execution_count": 50,
   "id": "e285912c",
   "metadata": {},
   "outputs": [
    {
     "data": {
      "image/svg+xml": [
       "<svg xmlns=\"http://www.w3.org/2000/svg\" xmlns:rdkit=\"http://www.rdkit.org/xml\" xmlns:xlink=\"http://www.w3.org/1999/xlink\" version=\"1.1\" baseProfile=\"full\" xml:space=\"preserve\" width=\"450px\" height=\"150px\" viewBox=\"0 0 450 150\">\n",
       "<!-- END OF HEADER -->\n",
       "<rect style=\"opacity:1.0;fill:#FFFFFF;stroke:none\" width=\"450.0\" height=\"150.0\" x=\"0.0\" y=\"0.0\"> </rect>\n",
       "<path class=\"bond-0 atom-0 atom-1\" d=\"M 343.1,6.8 L 303.7,75.0\" style=\"fill:none;fill-rule:evenodd;stroke:#000000;stroke-width:2.0px;stroke-linecap:butt;stroke-linejoin:miter;stroke-opacity:1\"/>\n",
       "<path class=\"bond-1 atom-1 atom-2\" d=\"M 303.7,75.0 L 225.0,75.0\" style=\"fill:none;fill-rule:evenodd;stroke:#000000;stroke-width:2.0px;stroke-linecap:butt;stroke-linejoin:miter;stroke-opacity:1\"/>\n",
       "<path class=\"bond-2 atom-2 atom-3\" d=\"M 225.0,75.0 L 185.6,143.2\" style=\"fill:none;fill-rule:evenodd;stroke:#000000;stroke-width:2.0px;stroke-linecap:butt;stroke-linejoin:miter;stroke-opacity:1\"/>\n",
       "<path class=\"bond-3 atom-2 atom-4\" d=\"M 225.0,75.0 L 185.6,6.8\" style=\"fill:none;fill-rule:evenodd;stroke:#000000;stroke-width:2.0px;stroke-linecap:butt;stroke-linejoin:miter;stroke-opacity:1\"/>\n",
       "<path class=\"bond-4 atom-4 atom-5\" d=\"M 185.6,6.8 L 106.9,6.8\" style=\"fill:none;fill-rule:evenodd;stroke:#000000;stroke-width:2.0px;stroke-linecap:butt;stroke-linejoin:miter;stroke-opacity:1\"/>\n",
       "</svg>"
      ],
      "text/plain": [
       "<IPython.core.display.SVG object>"
      ]
     },
     "execution_count": 50,
     "metadata": {},
     "output_type": "execute_result"
    }
   ],
   "source": [
    "render_svg(moltosvg(Chem.MolFromSmiles(\"CCC(C)CC\")))"
   ]
  },
  {
   "cell_type": "code",
   "execution_count": 51,
   "id": "ea17838b",
   "metadata": {},
   "outputs": [
    {
     "data": {
      "image/svg+xml": [
       "<svg xmlns=\"http://www.w3.org/2000/svg\" xmlns:rdkit=\"http://www.rdkit.org/xml\" xmlns:xlink=\"http://www.w3.org/1999/xlink\" version=\"1.1\" baseProfile=\"full\" xml:space=\"preserve\" width=\"450px\" height=\"150px\" viewBox=\"0 0 450 150\">\n",
       "<!-- END OF HEADER -->\n",
       "<rect style=\"opacity:1.0;fill:#FFFFFF;stroke:none\" width=\"450.0\" height=\"150.0\" x=\"0.0\" y=\"0.0\"> </rect>\n",
       "<path class=\"bond-0 atom-0 atom-1\" d=\"M 37.5,38.8 L 206.0,38.8\" style=\"fill:none;fill-rule:evenodd;stroke:#000000;stroke-width:2.0px;stroke-linecap:butt;stroke-linejoin:miter;stroke-opacity:1\"/>\n",
       "<path class=\"bond-0 atom-0 atom-1\" d=\"M 206.0,38.8 L 374.6,38.8\" style=\"fill:none;fill-rule:evenodd;stroke:#FF0000;stroke-width:2.0px;stroke-linecap:butt;stroke-linejoin:miter;stroke-opacity:1\"/>\n",
       "<path class=\"bond-0 atom-0 atom-1\" d=\"M 37.5,111.2 L 206.0,111.2\" style=\"fill:none;fill-rule:evenodd;stroke:#000000;stroke-width:2.0px;stroke-linecap:butt;stroke-linejoin:miter;stroke-opacity:1\"/>\n",
       "<path class=\"bond-0 atom-0 atom-1\" d=\"M 206.0,111.2 L 374.6,111.2\" style=\"fill:none;fill-rule:evenodd;stroke:#FF0000;stroke-width:2.0px;stroke-linecap:butt;stroke-linejoin:miter;stroke-opacity:1\"/>\n",
       "<path class=\"atom-1\" d=\"M 386.5 75.1 Q 386.5 68.3, 389.9 64.5 Q 393.2 60.7, 399.5 60.7 Q 405.8 60.7, 409.2 64.5 Q 412.5 68.3, 412.5 75.1 Q 412.5 82.0, 409.1 85.9 Q 405.7 89.8, 399.5 89.8 Q 393.3 89.8, 389.9 85.9 Q 386.5 82.0, 386.5 75.1 M 399.5 86.6 Q 403.8 86.6, 406.2 83.7 Q 408.5 80.8, 408.5 75.1 Q 408.5 69.5, 406.2 66.7 Q 403.8 63.9, 399.5 63.9 Q 395.2 63.9, 392.8 66.7 Q 390.5 69.5, 390.5 75.1 Q 390.5 80.8, 392.8 83.7 Q 395.2 86.6, 399.5 86.6 \" fill=\"#FF0000\"/>\n",
       "</svg>"
      ],
      "text/plain": [
       "<IPython.core.display.SVG object>"
      ]
     },
     "execution_count": 51,
     "metadata": {},
     "output_type": "execute_result"
    }
   ],
   "source": [
    "render_svg(moltosvg(Chem.MolFromSmiles(\"C=O\")))"
   ]
  },
  {
   "cell_type": "code",
   "execution_count": 52,
   "id": "6c1aca33",
   "metadata": {},
   "outputs": [
    {
     "data": {
      "image/svg+xml": [
       "<svg xmlns=\"http://www.w3.org/2000/svg\" xmlns:rdkit=\"http://www.rdkit.org/xml\" xmlns:xlink=\"http://www.w3.org/1999/xlink\" version=\"1.1\" baseProfile=\"full\" xml:space=\"preserve\" width=\"450px\" height=\"150px\" viewBox=\"0 0 450 150\">\n",
       "<!-- END OF HEADER -->\n",
       "<rect style=\"opacity:1.0;fill:#FFFFFF;stroke:none\" width=\"450.0\" height=\"150.0\" x=\"0.0\" y=\"0.0\"> </rect>\n",
       "<path class=\"bond-0 atom-0 atom-1\" d=\"M 104.2,49.1 L 152.6,101.6\" style=\"fill:none;fill-rule:evenodd;stroke:#000000;stroke-width:2.0px;stroke-linecap:butt;stroke-linejoin:miter;stroke-opacity:1\"/>\n",
       "<path class=\"bond-0 atom-0 atom-1\" d=\"M 93.7,58.8 L 142.1,111.3\" style=\"fill:none;fill-rule:evenodd;stroke:#000000;stroke-width:2.0px;stroke-linecap:butt;stroke-linejoin:miter;stroke-opacity:1\"/>\n",
       "<path class=\"bond-1 atom-1 atom-2\" d=\"M 147.4,106.4 L 217.0,90.7\" style=\"fill:none;fill-rule:evenodd;stroke:#000000;stroke-width:2.0px;stroke-linecap:butt;stroke-linejoin:miter;stroke-opacity:1\"/>\n",
       "<path class=\"bond-2 atom-2 atom-3\" d=\"M 217.0,90.7 L 238.2,22.5\" style=\"fill:none;fill-rule:evenodd;stroke:#000000;stroke-width:2.0px;stroke-linecap:butt;stroke-linejoin:miter;stroke-opacity:1\"/>\n",
       "<path class=\"bond-2 atom-2 atom-3\" d=\"M 233.8,84.7 L 248.7,37.0\" style=\"fill:none;fill-rule:evenodd;stroke:#000000;stroke-width:2.0px;stroke-linecap:butt;stroke-linejoin:miter;stroke-opacity:1\"/>\n",
       "<path class=\"bond-3 atom-3 atom-4\" d=\"M 238.2,22.5 L 307.9,6.8\" style=\"fill:none;fill-rule:evenodd;stroke:#000000;stroke-width:2.0px;stroke-linecap:butt;stroke-linejoin:miter;stroke-opacity:1\"/>\n",
       "<path class=\"bond-4 atom-4 atom-5\" d=\"M 307.9,6.8 L 356.3,59.3\" style=\"fill:none;fill-rule:evenodd;stroke:#000000;stroke-width:2.0px;stroke-linecap:butt;stroke-linejoin:miter;stroke-opacity:1\"/>\n",
       "<path class=\"bond-4 atom-4 atom-5\" d=\"M 304.7,24.4 L 338.6,61.1\" style=\"fill:none;fill-rule:evenodd;stroke:#000000;stroke-width:2.0px;stroke-linecap:butt;stroke-linejoin:miter;stroke-opacity:1\"/>\n",
       "<path class=\"bond-5 atom-5 atom-6\" d=\"M 356.3,59.3 L 335.1,127.5\" style=\"fill:none;fill-rule:evenodd;stroke:#000000;stroke-width:2.0px;stroke-linecap:butt;stroke-linejoin:miter;stroke-opacity:1\"/>\n",
       "<path class=\"bond-6 atom-6 atom-7\" d=\"M 335.1,127.5 L 265.4,143.2\" style=\"fill:none;fill-rule:evenodd;stroke:#000000;stroke-width:2.0px;stroke-linecap:butt;stroke-linejoin:miter;stroke-opacity:1\"/>\n",
       "<path class=\"bond-6 atom-6 atom-7\" d=\"M 321.5,115.9 L 272.8,126.9\" style=\"fill:none;fill-rule:evenodd;stroke:#000000;stroke-width:2.0px;stroke-linecap:butt;stroke-linejoin:miter;stroke-opacity:1\"/>\n",
       "<path class=\"bond-7 atom-7 atom-2\" d=\"M 265.4,143.2 L 217.0,90.7\" style=\"fill:none;fill-rule:evenodd;stroke:#000000;stroke-width:2.0px;stroke-linecap:butt;stroke-linejoin:miter;stroke-opacity:1\"/>\n",
       "</svg>"
      ],
      "text/plain": [
       "<IPython.core.display.SVG object>"
      ]
     },
     "execution_count": 52,
     "metadata": {},
     "output_type": "execute_result"
    }
   ],
   "source": [
    "render_svg(moltosvg(Chem.MolFromSmiles(\"C=Cc1ccccc1\")))"
   ]
  },
  {
   "cell_type": "code",
   "execution_count": null,
   "id": "a4a31328",
   "metadata": {},
   "outputs": [],
   "source": []
  }
 ],
 "metadata": {
  "kernelspec": {
   "display_name": "Elwood",
   "language": "python",
   "name": "elwood"
  },
  "language_info": {
   "codemirror_mode": {
    "name": "ipython",
    "version": 3
   },
   "file_extension": ".py",
   "mimetype": "text/x-python",
   "name": "python",
   "nbconvert_exporter": "python",
   "pygments_lexer": "ipython3",
   "version": "3.9.12"
  }
 },
 "nbformat": 4,
 "nbformat_minor": 5
}
